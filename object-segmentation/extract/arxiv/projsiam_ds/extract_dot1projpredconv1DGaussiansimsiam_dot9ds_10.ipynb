{
 "cells": [
  {
   "cell_type": "code",
   "execution_count": 1,
   "metadata": {
    "pycharm": {
     "name": "#%%\n"
    }
   },
   "outputs": [],
   "source": [
    "# from functools import partial\n",
    "from pathlib import Path\n",
    "# from typing import Optional, Tuple\n",
    "# import cv2\n",
    "# import fire\n",
    "import numpy as np\n",
    "import torch\n",
    "import torch.nn.functional as F\n",
    "from accelerate import Accelerator\n",
    "from PIL import Image\n",
    "from scipy.sparse.linalg import eigsh\n",
    "# from sklearn.cluster import KMeans, MiniBatchKMeans\n",
    "# from sklearn.decomposition import PCA\n",
    "# from torchvision.utils import draw_bounding_boxes\n",
    "from tqdm import tqdm\n",
    "import extract_utils as utils\n",
    "from torch.utils.data import Dataset, DataLoader\n",
    "from lightly.loss import NegativeCosineSimilarity\n",
    "from lightly.models.modules import SimSiamPredictionHead, SimSiamProjectionHead\n",
    "from torch import nn\n",
    "import torchvision\n",
    "from PIL import ImageFilter\n",
    "import random"
   ]
  },
  {
   "cell_type": "markdown",
   "metadata": {
    "pycharm": {
     "name": "#%% md\n"
    }
   },
   "source": [
    "## Extract Eigen Vectors"
   ]
  },
  {
   "cell_type": "code",
   "execution_count": 2,
   "metadata": {
    "pycharm": {
     "name": "#%%\n"
    }
   },
   "outputs": [],
   "source": [
    "images_root=\"/home/phdcs2/Hard_Disk/Datasets/Deep-Spectral-Segmentation/data/object-segmentation/ECSSD/images\"\n",
    "features_dir=\"/home/phdcs2/Hard_Disk/Datasets/Deep-Spectral-Segmentation/data/object-segmentation/ECSSD/features/dino_vits16\"\n",
    "output_dir=\"//home/phdcs2/Hard_Disk/Datasets/Deep-Spectral-Segmentation/data/object-segmentation/ECSSD/eigs_dot1projpredconv1DGBsimsiam_dot9ds_10_jn\"\n",
    "which_matrix= 'laplacian'\n",
    "which_color_matrix= 'knn'\n",
    "which_features= 'k'\n",
    "normalize=True\n",
    "threshold_at_zero=True\n",
    "lapnorm= True\n",
    "K= 5\n",
    "image_downsample_factor = None\n",
    "image_color_lambda = 0.0\n",
    "multiprocessing = 0\n",
    "batch_size=2\n",
    "epochs=10"
   ]
  },
  {
   "cell_type": "markdown",
   "metadata": {
    "pycharm": {
     "name": "#%% md\n"
    }
   },
   "source": [
    "## ResNet Residual Block"
   ]
  },
  {
   "cell_type": "code",
   "execution_count": 3,
   "metadata": {
    "pycharm": {
     "name": "#%%\n"
    }
   },
   "outputs": [],
   "source": [
    "class BasicBlock(nn.Module):\n",
    "    expansion = 1\n",
    "\n",
    "    def __init__(self, in_channels=1, out_channels=1, stride=1, downsample=None):\n",
    "        super(BasicBlock, self).__init__()\n",
    "        self.conv1 = nn.Conv1d(in_channels=in_channels, out_channels=128, kernel_size=3, stride=stride, padding=1, bias=False)\n",
    "        self.bn1 = nn.BatchNorm1d(128)\n",
    "        self.relu = nn.ReLU(inplace=True)\n",
    "        self.conv2 = nn.Conv1d(128, out_channels * self.expansion, kernel_size=3, stride=1, padding=1, bias=False)\n",
    "        self.bn2 = nn.BatchNorm1d(out_channels * self.expansion)\n",
    "        self.downsample = downsample\n",
    "\n",
    "    def forward(self, x):\n",
    "        identity = x\n",
    "\n",
    "        out = self.conv1(x)\n",
    "        out = self.bn1(out)\n",
    "        out = self.relu(out)\n",
    "\n",
    "        out = self.conv2(out)\n",
    "        out = self.bn2(out)\n",
    "\n",
    "        if self.downsample is not None:\n",
    "            identity = self.downsample(x)\n",
    "\n",
    "        out += identity\n",
    "        out = self.relu(out)\n",
    "        # print(\"Before squeezing, out shape=\", out.shape)\n",
    "        out =  out.squeeze().to('cuda')\n",
    "        # print(\"After squeezing, out shape=\", out.shape)\n",
    "\n",
    "        return out"
   ]
  },
  {
   "cell_type": "code",
   "execution_count": 4,
   "metadata": {
    "pycharm": {
     "name": "#%%\n"
    }
   },
   "outputs": [],
   "source": [
    "# class ResidualBlock(nn.Module):\n",
    "#     def __init__(self, in_channels, out_channels, kernel_size=3, stride=1, padding=1, bias=False):\n",
    "#         super(ResidualBlock, self).__init__()\n",
    "#         self.conv1 = nn.Conv1d(in_channels, out_channels, kernel_size=kernel_size, stride=stride, padding=padding, bias=bias)\n",
    "#         self.bn1 = nn.BatchNorm1d(out_channels)\n",
    "#         self.relu = nn.ReLU(inplace=True)\n",
    "#         self.conv2 = nn.Conv1d(out_channels, out_channels, kernel_size=kernel_size, stride=stride, padding=padding, bias=bias)\n",
    "#         self.bn2 = nn.BatchNorm1d(out_channels)\n",
    "#         # shortcut connection\n",
    "#         self.shortcut = nn.Sequential()\n",
    "#         if stride != 1 or in_channels != out_channels:\n",
    "#             self.shortcut = nn.Sequential(\n",
    "#                 nn.Conv1d(in_channels, out_channels, kernel_size=1, stride=stride, bias=bias),\n",
    "#                 nn.BatchNorm1d(out_channels)\n",
    "#             )\n",
    "#\n",
    "#     def forward(self, x):\n",
    "#         residual = x\n",
    "#\n",
    "#         out = self.conv1(x)\n",
    "#         out = self.bn1(out)\n",
    "#         out = self.relu(out)\n",
    "#\n",
    "#         out = self.conv2(out)\n",
    "#         out = self.bn2(out)\n",
    "#\n",
    "#         out += self.shortcut(residual)\n",
    "#         out = self.relu(out)\n",
    "#\n",
    "#         return out\n",
    "# class ResNetBlock(nn.Module):\n",
    "#     def __init__(self, in_channels, out_channels, stride=1, downsample=None):\n",
    "#         super(ResNetBlock, self).__init__()\n",
    "#         self.conv1 = nn.Conv1d(in_channels, out_channels, kernel_size=3, stride=stride, padding=1, bias=False)\n",
    "#         self.bn1 = nn.BatchNorm1d(out_channels)\n",
    "#         self.relu = nn.ReLU(inplace=True)\n",
    "#         self.conv2 = nn.Conv1d(out_channels, out_channels, kernel_size=3, stride=1, padding=1, bias=False)\n",
    "#         self.bn2 = nn.BatchNorm1d(out_channels)\n",
    "#         self.downsample = downsample\n",
    "#\n",
    "#     def forward(self, x):\n",
    "#         identity = x\n",
    "#\n",
    "#         out = self.conv1(x)\n",
    "#         out = self.bn1(out)\n",
    "#         out = self.relu(out)\n",
    "#\n",
    "#         out = self.conv2(out)\n",
    "#         out = self.bn2(out)\n",
    "#\n",
    "#         if self.downsample is not None:\n",
    "#             identity = self.downsample(x)\n",
    "#\n",
    "#         out += identity\n",
    "#         out = self.relu(out)\n",
    "#\n",
    "#         return out"
   ]
  },
  {
   "cell_type": "markdown",
   "metadata": {
    "pycharm": {
     "name": "#%% md\n"
    }
   },
   "source": [
    "## Incorporating SimSiam"
   ]
  },
  {
   "cell_type": "code",
   "execution_count": 5,
   "metadata": {
    "pycharm": {
     "name": "#%%\n"
    }
   },
   "outputs": [],
   "source": [
    "# Define a custom dataset class\n",
    "class Feature_Dataset(Dataset):\n",
    "    def __init__(self, features):\n",
    "        self.features = features\n",
    "\n",
    "    def __getitem__(self, index):\n",
    "        return self.features[index]\n",
    "\n",
    "    def __len__(self):\n",
    "        return len(self.features)"
   ]
  },
  {
   "cell_type": "code",
   "execution_count": 6,
   "metadata": {
    "pycharm": {
     "name": "#%%\n"
    }
   },
   "outputs": [],
   "source": [
    "# print(feats.shape)"
   ]
  },
  {
   "cell_type": "code",
   "execution_count": 7,
   "metadata": {
    "pycharm": {
     "name": "#%%\n"
    }
   },
   "outputs": [],
   "source": [
    "class SimSiam(nn.Module):\n",
    "    def __init__(self, train=True):\n",
    "        super().__init__()\n",
    "        # self.projection_head = SimSiamProjectionHead(feats.shape[1], 128,feats.shape[1])\n",
    "        self.train=train\n",
    "        self.projection_head = BasicBlock()\n",
    "        # self.projection_head = ResidualBlock(feats.shape[1], feats.shape[1])\n",
    "        # self.prediction_head = SimSiamPredictionHead(feats.shape[1], 128, feats.shape[1])\n",
    "        self.prediction_head = BasicBlock()\n",
    "\n",
    "    def forward(self, x,train=True):\n",
    "        z = self.projection_head(x)\n",
    "        # print(\"z.shape\", z.shape)\n",
    "        if train:\n",
    "            z_new = z.view(2, 1, 384)\n",
    "        else:\n",
    "            z_new=z.view(feats.shape[0],1 , 384)\n",
    "            # print(z_new.shape)\n",
    "        p = self.prediction_head(z_new)\n",
    "        z_new.detach()\n",
    "        # if train:\n",
    "        #     z_new = z.view(2, 1, 384)\n",
    "        #     # print(z_new.shape)\n",
    "        #     p = self.prediction_head(z_new)\n",
    "        #     z_new.detach()\n",
    "        # else:\n",
    "        #     p = self.prediction_head(z)\n",
    "        # z = z.detach()\n",
    "        return z_new, p"
   ]
  },
  {
   "cell_type": "code",
   "execution_count": 8,
   "metadata": {
    "pycharm": {
     "name": "#%%\n"
    }
   },
   "outputs": [],
   "source": [
    "# utils.make_output_dir(output_dir)\n",
    "# feat_list=[]\n",
    "# inputs = list(enumerate(sorted(Path(features_dir).iterdir())))\n",
    "# batch_size=2\n",
    "# token_feature_size=384\n",
    "# for inp in tqdm(inputs[:2]):\n",
    "#     index, features_file = inp\n",
    "#     print(index, features_file)\n",
    "#      # Load\n",
    "#     data_dict = torch.load(features_file, map_location='cpu')\n",
    "#     # Load affinity matrix\n",
    "#     # feats_unsqueeze=data_dict[which_features].cuda()\n",
    "#     feats = data_dict[which_features].squeeze().cuda()\n",
    "#     print(feats.shape)\n",
    "#     # print(feats_unsqueeze.shape)\n",
    "#     feat_dataset = Feature_Dataset(feats)\n",
    "#     features_dataloader = DataLoader(feat_dataset, batch_size=2, shuffle=True)\n",
    "#     i=0\n",
    "#     for x0 in features_dataloader:\n",
    "#         if i==0:\n",
    "#         # for (x0), _, _ in features_dataloader:\n",
    "#             print(\"before unsqueezing x0.shape=\", x0.shape)\n",
    "#             x0 = x0.unsqueeze(0).to(device)\n",
    "#             x1=torchvision.transforms.RandomAffine(0)(x0)\n",
    "#             x0 = x0.squeeze(0).to(device)\n",
    "#             x0 = torch.tensor(x0).view(batch_size, 1, 1, token_feature_size)\n",
    "#             print(\"After squeezing and viewing x0 shape=\", x0.shape)\n",
    "#             # print(\"x0.shape=\", x0.shape)\n",
    "#             x1 = x1.squeeze(0).to(device)\n",
    "#             x1 = torch.tensor(x1).view(batch_size, 1, 1,token_feature_size)\n",
    "#             print(\"After squeezing and viewing x0 shape=\", x1.shape)\n",
    "#             print(\"x1 shape=\", x1.shape)\n",
    "#         else:\n",
    "#             break\n",
    "#         i+=1\n"
   ]
  },
  {
   "cell_type": "code",
   "execution_count": 9,
   "metadata": {
    "pycharm": {
     "name": "#%%\n"
    }
   },
   "outputs": [],
   "source": [
    "class GaussianBlur(object):\n",
    "    \"\"\"Gaussian blur augmentation in SimCLR https://arxiv.org/abs/2002.05709\"\"\"\n",
    "\n",
    "    def __init__(self, sigma=[.1, 2.]):\n",
    "        self.sigma = sigma\n",
    "\n",
    "    def __call__(self, x):\n",
    "        sigma = random.uniform(self.sigma[0], self.sigma[1])\n",
    "        x = x.filter(ImageFilter.GaussianBlur(radius=sigma))\n",
    "        return x"
   ]
  },
  {
   "cell_type": "code",
   "execution_count": 10,
   "metadata": {
    "pycharm": {
     "name": "#%%\n"
    }
   },
   "outputs": [
    {
     "name": "stderr",
     "output_type": "stream",
     "text": [
      "  0%|          | 0/1000 [00:00<?, ?it/s]"
     ]
    },
    {
     "name": "stdout",
     "output_type": "stream",
     "text": [
      "0 /home/phdcs2/Hard_Disk/Datasets/Deep-Spectral-Segmentation/data/object-segmentation/ECSSD/features/dino_vits16/0001.pth\n",
      "0001\n",
      "Starting Training\n",
      "epoch: 00, loss: -0.38560\n",
      "epoch: 01, loss: -0.39969\n",
      "epoch: 02, loss: -0.41434\n",
      "epoch: 03, loss: -0.42653\n",
      "epoch: 04, loss: -0.42958\n",
      "epoch: 05, loss: -0.43296\n",
      "epoch: 06, loss: -0.43492\n",
      "epoch: 07, loss: -0.44035\n",
      "epoch: 08, loss: -0.44402\n",
      "epoch: 09, loss: -0.44215\n"
     ]
    },
    {
     "name": "stderr",
     "output_type": "stream",
     "text": [
      "  0%|          | 1/1000 [00:24<6:49:28, 24.59s/it]"
     ]
    },
    {
     "name": "stdout",
     "output_type": "stream",
     "text": [
      "eigenvalues shape torch.Size([5]) eigenvectors shape torch.Size([5, 400])\n",
      "1 /home/phdcs2/Hard_Disk/Datasets/Deep-Spectral-Segmentation/data/object-segmentation/ECSSD/features/dino_vits16/0002.pth\n",
      "0002\n",
      "Starting Training\n",
      "epoch: 00, loss: -0.38449\n",
      "epoch: 01, loss: -0.38665\n",
      "epoch: 02, loss: -0.38764\n",
      "epoch: 03, loss: -0.38875\n",
      "epoch: 04, loss: -0.39082\n",
      "epoch: 05, loss: -0.39319\n",
      "epoch: 06, loss: -0.39596\n",
      "epoch: 07, loss: -0.39768\n",
      "epoch: 08, loss: -0.39993\n",
      "epoch: 09, loss: -0.40087\n"
     ]
    },
    {
     "name": "stderr",
     "output_type": "stream",
     "text": [
      "  0%|          | 2/1000 [00:45<6:12:17, 22.38s/it]"
     ]
    },
    {
     "name": "stdout",
     "output_type": "stream",
     "text": [
      "eigenvalues shape torch.Size([5]) eigenvectors shape torch.Size([5, 400])\n",
      "2 /home/phdcs2/Hard_Disk/Datasets/Deep-Spectral-Segmentation/data/object-segmentation/ECSSD/features/dino_vits16/0003.pth\n",
      "0003\n",
      "Starting Training\n",
      "epoch: 00, loss: -0.37204\n",
      "epoch: 01, loss: -0.37450\n",
      "epoch: 02, loss: -0.37357\n",
      "epoch: 03, loss: -0.37224\n",
      "epoch: 04, loss: -0.37176\n",
      "epoch: 05, loss: -0.37261\n",
      "epoch: 06, loss: -0.37302\n",
      "epoch: 07, loss: -0.37442\n",
      "epoch: 08, loss: -0.37369\n",
      "epoch: 09, loss: -0.37366\n"
     ]
    },
    {
     "name": "stderr",
     "output_type": "stream",
     "text": [
      "  0%|          | 3/1000 [01:04<5:49:41, 21.04s/it]"
     ]
    },
    {
     "name": "stdout",
     "output_type": "stream",
     "text": [
      "eigenvalues shape torch.Size([5]) eigenvectors shape torch.Size([5, 400])\n",
      "3 /home/phdcs2/Hard_Disk/Datasets/Deep-Spectral-Segmentation/data/object-segmentation/ECSSD/features/dino_vits16/0004.pth\n",
      "0004\n",
      "Starting Training\n",
      "epoch: 00, loss: -0.40131\n",
      "epoch: 01, loss: -0.41044\n",
      "epoch: 02, loss: -0.40928\n",
      "epoch: 03, loss: -0.41479\n",
      "epoch: 04, loss: -0.42016\n",
      "epoch: 05, loss: -0.42824\n",
      "epoch: 06, loss: -0.43969\n",
      "epoch: 07, loss: -0.46010\n",
      "epoch: 08, loss: -0.48241\n",
      "epoch: 09, loss: -0.49799\n"
     ]
    },
    {
     "name": "stderr",
     "output_type": "stream",
     "text": [
      "  0%|          | 4/1000 [01:26<5:56:16, 21.46s/it]"
     ]
    },
    {
     "name": "stdout",
     "output_type": "stream",
     "text": [
      "eigenvalues shape torch.Size([5]) eigenvectors shape torch.Size([5, 400])\n",
      "4 /home/phdcs2/Hard_Disk/Datasets/Deep-Spectral-Segmentation/data/object-segmentation/ECSSD/features/dino_vits16/0005.pth\n",
      "0005\n",
      "Starting Training\n",
      "epoch: 00, loss: -0.40156\n",
      "epoch: 01, loss: -0.41215\n",
      "epoch: 00, loss: -0.42752\n",
      "epoch: 01, loss: -0.42877\n",
      "epoch: 02, loss: -0.43283\n",
      "epoch: 03, loss: -0.43789\n",
      "epoch: 04, loss: -0.44106\n",
      "epoch: 05, loss: -0.44525\n",
      "epoch: 06, loss: -0.45065\n",
      "epoch: 07, loss: -0.45438\n",
      "epoch: 08, loss: -0.46058\n",
      "epoch: 09, loss: -0.46552\n"
     ]
    },
    {
     "name": "stderr",
     "output_type": "stream",
     "text": [
      "  1%|          | 6/1000 [02:15<6:25:03, 23.24s/it]"
     ]
    },
    {
     "name": "stdout",
     "output_type": "stream",
     "text": [
      "eigenvalues shape torch.Size([5]) eigenvectors shape torch.Size([5, 400])\n",
      "6 /home/phdcs2/Hard_Disk/Datasets/Deep-Spectral-Segmentation/data/object-segmentation/ECSSD/features/dino_vits16/0007.pth\n",
      "0007\n",
      "Starting Training\n",
      "epoch: 00, loss: -0.37827\n",
      "epoch: 01, loss: -0.38422\n",
      "epoch: 02, loss: -0.38353\n",
      "epoch: 03, loss: -0.38700\n",
      "epoch: 04, loss: -0.38708\n",
      "epoch: 05, loss: -0.38914\n",
      "epoch: 06, loss: -0.39305\n",
      "epoch: 07, loss: -0.39827\n",
      "epoch: 08, loss: -0.40162\n",
      "epoch: 09, loss: -0.40570\n"
     ]
    },
    {
     "name": "stderr",
     "output_type": "stream",
     "text": [
      "  1%|          | 7/1000 [02:41<6:37:36, 24.02s/it]"
     ]
    },
    {
     "name": "stdout",
     "output_type": "stream",
     "text": [
      "eigenvalues shape torch.Size([5]) eigenvectors shape torch.Size([5, 400])\n",
      "7 /home/phdcs2/Hard_Disk/Datasets/Deep-Spectral-Segmentation/data/object-segmentation/ECSSD/features/dino_vits16/0008.pth\n",
      "0008\n",
      "Starting Training\n",
      "epoch: 00, loss: -0.38716\n",
      "epoch: 01, loss: -0.39352\n",
      "epoch: 02, loss: -0.39265\n",
      "epoch: 03, loss: -0.39320\n",
      "epoch: 04, loss: -0.39389\n",
      "epoch: 05, loss: -0.39552\n",
      "epoch: 06, loss: -0.39653\n",
      "epoch: 07, loss: -0.39810\n",
      "epoch: 08, loss: -0.40002\n",
      "epoch: 09, loss: -0.40092\n"
     ]
    },
    {
     "name": "stderr",
     "output_type": "stream",
     "text": [
      "  1%|          | 8/1000 [03:03<6:27:59, 23.47s/it]"
     ]
    },
    {
     "name": "stdout",
     "output_type": "stream",
     "text": [
      "eigenvalues shape torch.Size([5]) eigenvectors shape torch.Size([5, 400])\n",
      "8 /home/phdcs2/Hard_Disk/Datasets/Deep-Spectral-Segmentation/data/object-segmentation/ECSSD/features/dino_vits16/0009.pth\n",
      "0009\n",
      "Starting Training\n",
      "epoch: 00, loss: -0.39997\n",
      "epoch: 01, loss: -0.40876\n",
      "epoch: 02, loss: -0.40626\n",
      "epoch: 03, loss: -0.40477\n",
      "epoch: 04, loss: -0.40171\n",
      "epoch: 05, loss: -0.39811\n",
      "epoch: 06, loss: -0.39396\n",
      "epoch: 07, loss: -0.39083\n",
      "epoch: 08, loss: -0.38858\n",
      "epoch: 09, loss: -0.38681\n"
     ]
    },
    {
     "name": "stderr",
     "output_type": "stream",
     "text": [
      "  1%|          | 9/1000 [03:26<6:21:28, 23.10s/it]"
     ]
    },
    {
     "name": "stdout",
     "output_type": "stream",
     "text": [
      "eigenvalues shape torch.Size([5]) eigenvectors shape torch.Size([5, 400])\n",
      "9 /home/phdcs2/Hard_Disk/Datasets/Deep-Spectral-Segmentation/data/object-segmentation/ECSSD/features/dino_vits16/0010.pth\n",
      "0010\n",
      "Starting Training\n",
      "epoch: 00, loss: -0.44872\n",
      "epoch: 01, loss: -0.46728\n",
      "epoch: 02, loss: -0.47434\n",
      "epoch: 03, loss: -0.48013\n",
      "epoch: 04, loss: -0.48479\n",
      "epoch: 05, loss: -0.48846\n",
      "epoch: 06, loss: -0.49136\n",
      "epoch: 07, loss: -0.49385\n",
      "epoch: 08, loss: -0.49620\n",
      "epoch: 09, loss: -0.49781\n"
     ]
    },
    {
     "name": "stderr",
     "output_type": "stream",
     "text": [
      "  1%|          | 10/1000 [03:46<6:05:29, 22.15s/it]"
     ]
    },
    {
     "name": "stdout",
     "output_type": "stream",
     "text": [
      "eigenvalues shape torch.Size([5]) eigenvectors shape torch.Size([5, 400])\n",
      "10 /home/phdcs2/Hard_Disk/Datasets/Deep-Spectral-Segmentation/data/object-segmentation/ECSSD/features/dino_vits16/0011.pth\n",
      "0011\n",
      "Starting Training\n",
      "epoch: 00, loss: -0.39917\n",
      "epoch: 01, loss: -0.41235\n",
      "epoch: 02, loss: -0.41436\n",
      "epoch: 03, loss: -0.41671\n",
      "epoch: 04, loss: -0.41793\n",
      "epoch: 05, loss: -0.41966\n",
      "epoch: 06, loss: -0.42078\n",
      "epoch: 07, loss: -0.42268\n",
      "epoch: 08, loss: -0.42447\n",
      "epoch: 09, loss: -0.42654\n"
     ]
    },
    {
     "name": "stderr",
     "output_type": "stream",
     "text": [
      "  1%|          | 11/1000 [04:07<6:02:09, 21.97s/it]"
     ]
    },
    {
     "name": "stdout",
     "output_type": "stream",
     "text": [
      "eigenvalues shape torch.Size([5]) eigenvectors shape torch.Size([5, 400])\n",
      "11 /home/phdcs2/Hard_Disk/Datasets/Deep-Spectral-Segmentation/data/object-segmentation/ECSSD/features/dino_vits16/0012.pth\n",
      "0012\n",
      "Starting Training\n",
      "epoch: 00, loss: -0.40204\n",
      "epoch: 01, loss: -0.40770\n",
      "epoch: 02, loss: -0.40725\n",
      "epoch: 03, loss: -0.40577\n",
      "epoch: 04, loss: -0.40339\n",
      "epoch: 05, loss: -0.40182\n",
      "epoch: 06, loss: -0.40080\n",
      "epoch: 07, loss: -0.39966\n",
      "epoch: 08, loss: -0.39690\n",
      "epoch: 09, loss: -0.39507\n"
     ]
    },
    {
     "name": "stderr",
     "output_type": "stream",
     "text": [
      "  1%|          | 12/1000 [04:33<6:20:30, 23.11s/it]"
     ]
    },
    {
     "name": "stdout",
     "output_type": "stream",
     "text": [
      "eigenvalues shape torch.Size([5]) eigenvectors shape torch.Size([5, 400])\n",
      "12 /home/phdcs2/Hard_Disk/Datasets/Deep-Spectral-Segmentation/data/object-segmentation/ECSSD/features/dino_vits16/0013.pth\n",
      "0013\n",
      "Starting Training\n",
      "epoch: 00, loss: -0.40661\n",
      "epoch: 01, loss: -0.41467\n",
      "epoch: 02, loss: -0.41790\n",
      "epoch: 03, loss: -0.42091\n",
      "epoch: 04, loss: -0.42459\n",
      "epoch: 05, loss: -0.42729\n",
      "epoch: 06, loss: -0.43111\n",
      "epoch: 07, loss: -0.43499\n",
      "epoch: 08, loss: -0.43889\n",
      "epoch: 09, loss: -0.44216\n"
     ]
    },
    {
     "name": "stderr",
     "output_type": "stream",
     "text": [
      "  1%|▏         | 13/1000 [04:56<6:21:14, 23.18s/it]"
     ]
    },
    {
     "name": "stdout",
     "output_type": "stream",
     "text": [
      "eigenvalues shape torch.Size([5]) eigenvectors shape torch.Size([5, 400])\n",
      "13 /home/phdcs2/Hard_Disk/Datasets/Deep-Spectral-Segmentation/data/object-segmentation/ECSSD/features/dino_vits16/0014.pth\n",
      "0014\n",
      "Starting Training\n",
      "epoch: 00, loss: -0.42938\n",
      "epoch: 01, loss: -0.44698\n",
      "epoch: 02, loss: -0.44994\n",
      "epoch: 03, loss: -0.44893\n",
      "epoch: 04, loss: -0.44618\n",
      "epoch: 05, loss: -0.44325\n",
      "epoch: 06, loss: -0.44136\n",
      "epoch: 07, loss: -0.44024\n",
      "epoch: 08, loss: -0.43838\n",
      "epoch: 09, loss: -0.43712\n"
     ]
    },
    {
     "name": "stderr",
     "output_type": "stream",
     "text": [
      "  1%|▏         | 14/1000 [05:16<6:03:58, 22.15s/it]"
     ]
    },
    {
     "name": "stdout",
     "output_type": "stream",
     "text": [
      "eigenvalues shape torch.Size([5]) eigenvectors shape torch.Size([5, 400])\n",
      "14 /home/phdcs2/Hard_Disk/Datasets/Deep-Spectral-Segmentation/data/object-segmentation/ECSSD/features/dino_vits16/0015.pth\n",
      "0015\n",
      "Starting Training\n",
      "epoch: 00, loss: -0.62098\n",
      "epoch: 01, loss: -0.66014\n",
      "epoch: 02, loss: -0.66243\n",
      "epoch: 03, loss: -0.66391\n",
      "epoch: 04, loss: -0.66474\n",
      "epoch: 05, loss: -0.66572\n",
      "epoch: 06, loss: -0.66665\n",
      "epoch: 07, loss: -0.66695\n",
      "epoch: 08, loss: -0.66746\n",
      "epoch: 09, loss: -0.66802\n"
     ]
    },
    {
     "name": "stderr",
     "output_type": "stream",
     "text": [
      "  2%|▏         | 15/1000 [05:34<5:41:52, 20.83s/it]"
     ]
    },
    {
     "name": "stdout",
     "output_type": "stream",
     "text": [
      "eigenvalues shape torch.Size([5]) eigenvectors shape torch.Size([5, 400])\n",
      "15 /home/phdcs2/Hard_Disk/Datasets/Deep-Spectral-Segmentation/data/object-segmentation/ECSSD/features/dino_vits16/0016.pth\n",
      "0016\n",
      "Starting Training\n",
      "epoch: 00, loss: -0.41150\n",
      "epoch: 01, loss: -0.41756\n",
      "epoch: 02, loss: -0.41330\n",
      "epoch: 03, loss: -0.40991\n",
      "epoch: 04, loss: -0.40928\n",
      "epoch: 05, loss: -0.40928\n",
      "epoch: 06, loss: -0.40871\n",
      "epoch: 07, loss: -0.40932\n",
      "epoch: 08, loss: -0.40802\n",
      "epoch: 09, loss: -0.40773\n"
     ]
    },
    {
     "name": "stderr",
     "output_type": "stream",
     "text": [
      "  2%|▏         | 16/1000 [05:55<5:44:57, 21.03s/it]"
     ]
    },
    {
     "name": "stdout",
     "output_type": "stream",
     "text": [
      "eigenvalues shape torch.Size([5]) eigenvectors shape torch.Size([5, 400])\n",
      "16 /home/phdcs2/Hard_Disk/Datasets/Deep-Spectral-Segmentation/data/object-segmentation/ECSSD/features/dino_vits16/0017.pth\n",
      "0017\n",
      "Starting Training\n",
      "epoch: 00, loss: -0.37938\n",
      "epoch: 01, loss: -0.38266\n",
      "epoch: 02, loss: -0.38446\n",
      "epoch: 03, loss: -0.38594\n",
      "epoch: 04, loss: -0.38728\n",
      "epoch: 05, loss: -0.38959\n",
      "epoch: 06, loss: -0.39083\n",
      "epoch: 07, loss: -0.39286\n",
      "epoch: 08, loss: -0.39518\n",
      "epoch: 09, loss: -0.39678\n"
     ]
    },
    {
     "name": "stderr",
     "output_type": "stream",
     "text": [
      "  2%|▏         | 17/1000 [06:16<5:44:37, 21.03s/it]"
     ]
    },
    {
     "name": "stdout",
     "output_type": "stream",
     "text": [
      "eigenvalues shape torch.Size([5]) eigenvectors shape torch.Size([5, 400])\n",
      "17 /home/phdcs2/Hard_Disk/Datasets/Deep-Spectral-Segmentation/data/object-segmentation/ECSSD/features/dino_vits16/0018.pth\n",
      "0018\n",
      "Starting Training\n",
      "epoch: 00, loss: -0.39380\n",
      "epoch: 01, loss: -0.39208\n",
      "epoch: 02, loss: -0.39263\n",
      "epoch: 03, loss: -0.39386\n",
      "epoch: 04, loss: -0.39450\n",
      "epoch: 05, loss: -0.39556\n",
      "epoch: 06, loss: -0.39586\n",
      "epoch: 07, loss: -0.39734\n",
      "epoch: 08, loss: -0.39773\n",
      "epoch: 09, loss: -0.39912\n"
     ]
    },
    {
     "name": "stderr",
     "output_type": "stream",
     "text": [
      "  2%|▏         | 18/1000 [06:39<5:53:36, 21.61s/it]"
     ]
    },
    {
     "name": "stdout",
     "output_type": "stream",
     "text": [
      "eigenvalues shape torch.Size([5]) eigenvectors shape torch.Size([5, 400])\n",
      "18 /home/phdcs2/Hard_Disk/Datasets/Deep-Spectral-Segmentation/data/object-segmentation/ECSSD/features/dino_vits16/0019.pth\n",
      "0019\n",
      "Starting Training\n",
      "epoch: 00, loss: -0.45650\n",
      "epoch: 01, loss: -0.44752\n",
      "epoch: 02, loss: -0.45091\n",
      "epoch: 03, loss: -0.45493\n",
      "epoch: 04, loss: -0.45689\n",
      "epoch: 05, loss: -0.45850\n",
      "epoch: 06, loss: -0.46007\n",
      "epoch: 07, loss: -0.46158\n",
      "epoch: 08, loss: -0.46196\n",
      "epoch: 09, loss: -0.46439\n"
     ]
    },
    {
     "name": "stderr",
     "output_type": "stream",
     "text": [
      "  2%|▏         | 19/1000 [06:58<5:38:07, 20.68s/it]"
     ]
    },
    {
     "name": "stdout",
     "output_type": "stream",
     "text": [
      "eigenvalues shape torch.Size([5]) eigenvectors shape torch.Size([5, 400])\n",
      "19 /home/phdcs2/Hard_Disk/Datasets/Deep-Spectral-Segmentation/data/object-segmentation/ECSSD/features/dino_vits16/0020.pth\n",
      "0020\n",
      "Starting Training\n",
      "epoch: 00, loss: -0.36543\n",
      "epoch: 01, loss: -0.37893\n",
      "epoch: 02, loss: -0.38909\n",
      "epoch: 03, loss: -0.40836\n",
      "epoch: 04, loss: -0.42616\n",
      "epoch: 05, loss: -0.44304\n",
      "epoch: 06, loss: -0.45438\n",
      "epoch: 07, loss: -0.46059\n",
      "epoch: 08, loss: -0.46630\n",
      "epoch: 09, loss: -0.47060\n"
     ]
    },
    {
     "name": "stderr",
     "output_type": "stream",
     "text": [
      "  2%|▏         | 20/1000 [07:20<5:44:48, 21.11s/it]"
     ]
    },
    {
     "name": "stdout",
     "output_type": "stream",
     "text": [
      "eigenvalues shape torch.Size([5]) eigenvectors shape torch.Size([5, 400])\n",
      "20 /home/phdcs2/Hard_Disk/Datasets/Deep-Spectral-Segmentation/data/object-segmentation/ECSSD/features/dino_vits16/0021.pth\n",
      "0021\n",
      "Starting Training\n",
      "epoch: 00, loss: -0.37723\n",
      "epoch: 01, loss: -0.40396\n",
      "epoch: 02, loss: -0.43486\n",
      "epoch: 03, loss: -0.46791\n",
      "epoch: 04, loss: -0.48622\n",
      "epoch: 05, loss: -0.49474\n",
      "epoch: 06, loss: -0.50029\n",
      "epoch: 07, loss: -0.50564\n",
      "epoch: 08, loss: -0.51005\n",
      "epoch: 09, loss: -0.51250\n"
     ]
    },
    {
     "name": "stderr",
     "output_type": "stream",
     "text": [
      "  2%|▏         | 21/1000 [07:39<5:33:51, 20.46s/it]"
     ]
    },
    {
     "name": "stdout",
     "output_type": "stream",
     "text": [
      "eigenvalues shape torch.Size([5]) eigenvectors shape torch.Size([5, 400])\n",
      "21 /home/phdcs2/Hard_Disk/Datasets/Deep-Spectral-Segmentation/data/object-segmentation/ECSSD/features/dino_vits16/0022.pth\n",
      "0022\n",
      "Starting Training\n",
      "epoch: 00, loss: -0.38775\n",
      "epoch: 01, loss: -0.39491\n",
      "epoch: 02, loss: -0.39828\n",
      "epoch: 03, loss: -0.40059\n",
      "epoch: 04, loss: -0.40165\n",
      "epoch: 05, loss: -0.40241\n",
      "epoch: 06, loss: -0.40379\n",
      "epoch: 07, loss: -0.40305\n",
      "epoch: 08, loss: -0.40340\n",
      "epoch: 09, loss: -0.40473\n"
     ]
    },
    {
     "name": "stderr",
     "output_type": "stream",
     "text": [
      "  2%|▏         | 22/1000 [08:00<5:36:33, 20.65s/it]"
     ]
    },
    {
     "name": "stdout",
     "output_type": "stream",
     "text": [
      "eigenvalues shape torch.Size([5]) eigenvectors shape torch.Size([5, 400])\n",
      "22 /home/phdcs2/Hard_Disk/Datasets/Deep-Spectral-Segmentation/data/object-segmentation/ECSSD/features/dino_vits16/0023.pth\n",
      "0023\n",
      "Starting Training\n",
      "epoch: 00, loss: -0.41593\n",
      "epoch: 01, loss: -0.42488\n",
      "epoch: 02, loss: -0.42616\n",
      "epoch: 03, loss: -0.42734\n",
      "epoch: 04, loss: -0.42825\n",
      "epoch: 05, loss: -0.42920\n",
      "epoch: 06, loss: -0.42991\n",
      "epoch: 07, loss: -0.43015\n",
      "epoch: 08, loss: -0.43053\n",
      "epoch: 09, loss: -0.43043\n"
     ]
    },
    {
     "name": "stderr",
     "output_type": "stream",
     "text": [
      "  2%|▏         | 23/1000 [08:22<5:44:58, 21.19s/it]"
     ]
    },
    {
     "name": "stdout",
     "output_type": "stream",
     "text": [
      "eigenvalues shape torch.Size([5]) eigenvectors shape torch.Size([5, 400])\n",
      "23 /home/phdcs2/Hard_Disk/Datasets/Deep-Spectral-Segmentation/data/object-segmentation/ECSSD/features/dino_vits16/0024.pth\n",
      "0024\n",
      "Starting Training\n",
      "epoch: 00, loss: -0.40482\n",
      "epoch: 01, loss: -0.41000\n",
      "epoch: 02, loss: -0.40335\n",
      "epoch: 03, loss: -0.39732\n",
      "epoch: 04, loss: -0.39503\n",
      "epoch: 05, loss: -0.39371\n",
      "epoch: 06, loss: -0.39344\n",
      "epoch: 07, loss: -0.39178\n",
      "epoch: 08, loss: -0.39168\n",
      "epoch: 09, loss: -0.39182\n"
     ]
    },
    {
     "name": "stderr",
     "output_type": "stream",
     "text": [
      "  2%|▏         | 24/1000 [08:41<5:33:27, 20.50s/it]"
     ]
    },
    {
     "name": "stdout",
     "output_type": "stream",
     "text": [
      "eigenvalues shape torch.Size([5]) eigenvectors shape torch.Size([5, 400])\n",
      "24 /home/phdcs2/Hard_Disk/Datasets/Deep-Spectral-Segmentation/data/object-segmentation/ECSSD/features/dino_vits16/0025.pth\n",
      "0025\n",
      "Starting Training\n",
      "epoch: 00, loss: -0.39727\n",
      "epoch: 01, loss: -0.40963\n",
      "epoch: 02, loss: -0.41337\n",
      "epoch: 03, loss: -0.41539\n",
      "epoch: 04, loss: -0.41608\n",
      "epoch: 05, loss: -0.41814\n",
      "epoch: 06, loss: -0.41924\n",
      "epoch: 07, loss: -0.42028\n",
      "epoch: 08, loss: -0.42010\n",
      "epoch: 09, loss: -0.42091\n"
     ]
    },
    {
     "name": "stderr",
     "output_type": "stream",
     "text": [
      "  2%|▎         | 25/1000 [09:00<5:23:30, 19.91s/it]"
     ]
    },
    {
     "name": "stdout",
     "output_type": "stream",
     "text": [
      "eigenvalues shape torch.Size([5]) eigenvectors shape torch.Size([5, 400])\n",
      "25 /home/phdcs2/Hard_Disk/Datasets/Deep-Spectral-Segmentation/data/object-segmentation/ECSSD/features/dino_vits16/0026.pth\n",
      "0026\n",
      "Starting Training\n",
      "epoch: 00, loss: -0.39726\n",
      "epoch: 01, loss: -0.40798\n",
      "epoch: 02, loss: -0.40842\n",
      "epoch: 03, loss: -0.41132\n",
      "epoch: 04, loss: -0.41787\n",
      "epoch: 05, loss: -0.42775\n",
      "epoch: 06, loss: -0.43981\n",
      "epoch: 07, loss: -0.44755\n",
      "epoch: 08, loss: -0.45634\n",
      "epoch: 09, loss: -0.46279\n"
     ]
    },
    {
     "name": "stderr",
     "output_type": "stream",
     "text": [
      "  3%|▎         | 26/1000 [09:23<5:40:19, 20.96s/it]"
     ]
    },
    {
     "name": "stdout",
     "output_type": "stream",
     "text": [
      "eigenvalues shape torch.Size([5]) eigenvectors shape torch.Size([5, 400])\n",
      "26 /home/phdcs2/Hard_Disk/Datasets/Deep-Spectral-Segmentation/data/object-segmentation/ECSSD/features/dino_vits16/0027.pth\n",
      "0027\n",
      "Starting Training\n",
      "epoch: 00, loss: -0.38334\n",
      "epoch: 01, loss: -0.38968\n",
      "epoch: 02, loss: -0.39180\n",
      "epoch: 03, loss: -0.39369\n",
      "epoch: 04, loss: -0.39331\n",
      "epoch: 05, loss: -0.39395\n",
      "epoch: 06, loss: -0.39273\n",
      "epoch: 07, loss: -0.39237\n",
      "epoch: 08, loss: -0.39280\n",
      "epoch: 09, loss: -0.39231\n"
     ]
    },
    {
     "name": "stderr",
     "output_type": "stream",
     "text": [
      "  3%|▎         | 27/1000 [09:47<5:53:31, 21.80s/it]"
     ]
    },
    {
     "name": "stdout",
     "output_type": "stream",
     "text": [
      "eigenvalues shape torch.Size([5]) eigenvectors shape torch.Size([5, 400])\n",
      "27 /home/phdcs2/Hard_Disk/Datasets/Deep-Spectral-Segmentation/data/object-segmentation/ECSSD/features/dino_vits16/0028.pth\n",
      "0028\n",
      "Starting Training\n",
      "epoch: 00, loss: -0.44126\n",
      "epoch: 01, loss: -0.44376\n",
      "epoch: 02, loss: -0.44555\n",
      "epoch: 03, loss: -0.44596\n",
      "epoch: 04, loss: -0.44833\n",
      "epoch: 05, loss: -0.44883\n",
      "epoch: 06, loss: -0.45011\n",
      "epoch: 07, loss: -0.45119\n",
      "epoch: 08, loss: -0.45120\n",
      "epoch: 09, loss: -0.45202\n"
     ]
    },
    {
     "name": "stderr",
     "output_type": "stream",
     "text": [
      "  3%|▎         | 28/1000 [10:10<5:58:24, 22.12s/it]"
     ]
    },
    {
     "name": "stdout",
     "output_type": "stream",
     "text": [
      "eigenvalues shape torch.Size([5]) eigenvectors shape torch.Size([5, 400])\n",
      "28 /home/phdcs2/Hard_Disk/Datasets/Deep-Spectral-Segmentation/data/object-segmentation/ECSSD/features/dino_vits16/0029.pth\n",
      "0029\n",
      "Starting Training\n",
      "epoch: 00, loss: -0.38870\n",
      "epoch: 01, loss: -0.39759\n",
      "epoch: 02, loss: -0.40086\n",
      "epoch: 03, loss: -0.40112\n",
      "epoch: 04, loss: -0.40062\n",
      "epoch: 05, loss: -0.40078\n",
      "epoch: 06, loss: -0.40003\n",
      "epoch: 07, loss: -0.39937\n",
      "epoch: 08, loss: -0.39939\n",
      "epoch: 09, loss: -0.39853\n"
     ]
    },
    {
     "name": "stderr",
     "output_type": "stream",
     "text": [
      "  3%|▎         | 29/1000 [10:32<5:57:31, 22.09s/it]"
     ]
    },
    {
     "name": "stdout",
     "output_type": "stream",
     "text": [
      "eigenvalues shape torch.Size([5]) eigenvectors shape torch.Size([5, 400])\n",
      "29 /home/phdcs2/Hard_Disk/Datasets/Deep-Spectral-Segmentation/data/object-segmentation/ECSSD/features/dino_vits16/0030.pth\n",
      "0030\n",
      "Starting Training\n",
      "epoch: 00, loss: -0.38120\n",
      "epoch: 01, loss: -0.39212\n",
      "epoch: 02, loss: -0.39396\n",
      "epoch: 03, loss: -0.39406\n",
      "epoch: 04, loss: -0.39631\n",
      "epoch: 05, loss: -0.39725\n",
      "epoch: 06, loss: -0.39735\n",
      "epoch: 07, loss: -0.39720\n",
      "epoch: 08, loss: -0.39759\n",
      "epoch: 09, loss: -0.39720\n"
     ]
    },
    {
     "name": "stderr",
     "output_type": "stream",
     "text": [
      "  3%|▎         | 30/1000 [10:57<6:14:13, 23.15s/it]"
     ]
    },
    {
     "name": "stdout",
     "output_type": "stream",
     "text": [
      "eigenvalues shape torch.Size([5]) eigenvectors shape torch.Size([5, 400])\n",
      "30 /home/phdcs2/Hard_Disk/Datasets/Deep-Spectral-Segmentation/data/object-segmentation/ECSSD/features/dino_vits16/0031.pth\n",
      "0031\n",
      "Starting Training\n",
      "epoch: 00, loss: -0.39622\n",
      "epoch: 01, loss: -0.40162\n",
      "epoch: 02, loss: -0.40067\n",
      "epoch: 03, loss: -0.40112\n",
      "epoch: 04, loss: -0.40103\n",
      "epoch: 05, loss: -0.40125\n",
      "epoch: 06, loss: -0.40148\n",
      "epoch: 07, loss: -0.40076\n",
      "epoch: 08, loss: -0.40050\n",
      "epoch: 09, loss: -0.40125\n"
     ]
    },
    {
     "name": "stderr",
     "output_type": "stream",
     "text": [
      "  3%|▎         | 31/1000 [11:23<6:23:39, 23.76s/it]"
     ]
    },
    {
     "name": "stdout",
     "output_type": "stream",
     "text": [
      "eigenvalues shape torch.Size([5]) eigenvectors shape torch.Size([5, 400])\n",
      "31 /home/phdcs2/Hard_Disk/Datasets/Deep-Spectral-Segmentation/data/object-segmentation/ECSSD/features/dino_vits16/0032.pth\n",
      "0032\n",
      "Starting Training\n",
      "epoch: 00, loss: -0.39315\n",
      "epoch: 01, loss: -0.40522\n",
      "epoch: 02, loss: -0.40918\n",
      "epoch: 03, loss: -0.41066\n",
      "epoch: 04, loss: -0.41513\n",
      "epoch: 05, loss: -0.41724\n",
      "epoch: 06, loss: -0.42005\n",
      "epoch: 07, loss: -0.42370\n",
      "epoch: 08, loss: -0.42544\n",
      "epoch: 09, loss: -0.42881\n"
     ]
    },
    {
     "name": "stderr",
     "output_type": "stream",
     "text": [
      "  3%|▎         | 32/1000 [11:44<6:11:36, 23.03s/it]"
     ]
    },
    {
     "name": "stdout",
     "output_type": "stream",
     "text": [
      "eigenvalues shape torch.Size([5]) eigenvectors shape torch.Size([5, 400])\n",
      "32 /home/phdcs2/Hard_Disk/Datasets/Deep-Spectral-Segmentation/data/object-segmentation/ECSSD/features/dino_vits16/0033.pth\n",
      "0033\n",
      "Starting Training\n",
      "epoch: 00, loss: -0.41608\n",
      "epoch: 01, loss: -0.43124\n",
      "epoch: 02, loss: -0.43318\n",
      "epoch: 03, loss: -0.43585\n",
      "epoch: 04, loss: -0.43866\n",
      "epoch: 05, loss: -0.44027\n",
      "epoch: 06, loss: -0.44203\n",
      "epoch: 07, loss: -0.44486\n",
      "epoch: 08, loss: -0.44803\n",
      "epoch: 09, loss: -0.44982\n"
     ]
    },
    {
     "name": "stderr",
     "output_type": "stream",
     "text": [
      "  3%|▎         | 33/1000 [12:04<5:58:09, 22.22s/it]"
     ]
    },
    {
     "name": "stdout",
     "output_type": "stream",
     "text": [
      "eigenvalues shape torch.Size([5]) eigenvectors shape torch.Size([5, 400])\n",
      "33 /home/phdcs2/Hard_Disk/Datasets/Deep-Spectral-Segmentation/data/object-segmentation/ECSSD/features/dino_vits16/0034.pth\n",
      "0034\n",
      "Starting Training\n",
      "epoch: 00, loss: -0.39955\n",
      "epoch: 01, loss: -0.40333\n",
      "epoch: 02, loss: -0.40679\n",
      "epoch: 03, loss: -0.40894\n",
      "epoch: 04, loss: -0.41129\n",
      "epoch: 05, loss: -0.41622\n",
      "epoch: 06, loss: -0.42198\n",
      "epoch: 07, loss: -0.42669\n",
      "epoch: 08, loss: -0.43340\n",
      "epoch: 09, loss: -0.43969\n"
     ]
    },
    {
     "name": "stderr",
     "output_type": "stream",
     "text": [
      "  3%|▎         | 34/1000 [12:24<5:47:34, 21.59s/it]"
     ]
    },
    {
     "name": "stdout",
     "output_type": "stream",
     "text": [
      "eigenvalues shape torch.Size([5]) eigenvectors shape torch.Size([5, 400])\n",
      "34 /home/phdcs2/Hard_Disk/Datasets/Deep-Spectral-Segmentation/data/object-segmentation/ECSSD/features/dino_vits16/0035.pth\n",
      "0035\n",
      "Starting Training\n",
      "epoch: 00, loss: -0.39826\n",
      "epoch: 01, loss: -0.41824\n",
      "epoch: 02, loss: -0.42245\n",
      "epoch: 03, loss: -0.42537\n",
      "epoch: 04, loss: -0.42735\n",
      "epoch: 05, loss: -0.42921\n",
      "epoch: 06, loss: -0.43057\n",
      "epoch: 07, loss: -0.43142\n",
      "epoch: 08, loss: -0.43209\n",
      "epoch: 09, loss: -0.43142\n"
     ]
    },
    {
     "name": "stderr",
     "output_type": "stream",
     "text": [
      "  4%|▎         | 35/1000 [12:46<5:45:50, 21.50s/it]"
     ]
    },
    {
     "name": "stdout",
     "output_type": "stream",
     "text": [
      "eigenvalues shape torch.Size([5]) eigenvectors shape torch.Size([5, 400])\n",
      "35 /home/phdcs2/Hard_Disk/Datasets/Deep-Spectral-Segmentation/data/object-segmentation/ECSSD/features/dino_vits16/0036.pth\n",
      "0036\n",
      "Starting Training\n",
      "epoch: 00, loss: -0.37916\n",
      "epoch: 01, loss: -0.38417\n",
      "epoch: 02, loss: -0.38544\n",
      "epoch: 03, loss: -0.38572\n",
      "epoch: 04, loss: -0.38624\n",
      "epoch: 05, loss: -0.38606\n",
      "epoch: 06, loss: -0.38591\n",
      "epoch: 07, loss: -0.38499\n",
      "epoch: 08, loss: -0.38545\n",
      "epoch: 09, loss: -0.38493\n"
     ]
    },
    {
     "name": "stderr",
     "output_type": "stream",
     "text": [
      "  4%|▎         | 36/1000 [13:11<6:02:18, 22.55s/it]"
     ]
    },
    {
     "name": "stdout",
     "output_type": "stream",
     "text": [
      "eigenvalues shape torch.Size([5]) eigenvectors shape torch.Size([5, 450])\n",
      "36 /home/phdcs2/Hard_Disk/Datasets/Deep-Spectral-Segmentation/data/object-segmentation/ECSSD/features/dino_vits16/0037.pth\n",
      "0037\n",
      "Starting Training\n",
      "epoch: 00, loss: -0.34034\n",
      "epoch: 01, loss: -0.35079\n",
      "epoch: 02, loss: -0.36104\n",
      "epoch: 03, loss: -0.36900\n",
      "epoch: 04, loss: -0.37381\n",
      "epoch: 05, loss: -0.37866\n",
      "epoch: 06, loss: -0.38307\n",
      "epoch: 07, loss: -0.38649\n",
      "epoch: 08, loss: -0.38956\n",
      "epoch: 09, loss: -0.39252\n"
     ]
    },
    {
     "name": "stderr",
     "output_type": "stream",
     "text": [
      "  4%|▎         | 37/1000 [13:38<6:24:21, 23.95s/it]"
     ]
    },
    {
     "name": "stdout",
     "output_type": "stream",
     "text": [
      "eigenvalues shape torch.Size([5]) eigenvectors shape torch.Size([5, 450])\n",
      "37 /home/phdcs2/Hard_Disk/Datasets/Deep-Spectral-Segmentation/data/object-segmentation/ECSSD/features/dino_vits16/0038.pth\n",
      "0038\n",
      "Starting Training\n",
      "epoch: 00, loss: -0.38275\n",
      "epoch: 01, loss: -0.39230\n",
      "epoch: 02, loss: -0.39550\n",
      "epoch: 03, loss: -0.39896\n",
      "epoch: 04, loss: -0.40200\n",
      "epoch: 05, loss: -0.40467\n",
      "epoch: 06, loss: -0.40616\n",
      "epoch: 07, loss: -0.40857\n",
      "epoch: 08, loss: -0.41106\n",
      "epoch: 09, loss: -0.41396\n"
     ]
    },
    {
     "name": "stderr",
     "output_type": "stream",
     "text": [
      "  4%|▍         | 38/1000 [14:03<6:29:51, 24.32s/it]"
     ]
    },
    {
     "name": "stdout",
     "output_type": "stream",
     "text": [
      "eigenvalues shape torch.Size([5]) eigenvectors shape torch.Size([5, 400])\n",
      "38 /home/phdcs2/Hard_Disk/Datasets/Deep-Spectral-Segmentation/data/object-segmentation/ECSSD/features/dino_vits16/0039.pth\n",
      "0039\n",
      "Starting Training\n",
      "epoch: 00, loss: -0.59238\n",
      "epoch: 01, loss: -0.62572\n",
      "epoch: 02, loss: -0.62791\n",
      "epoch: 03, loss: -0.62892\n",
      "epoch: 04, loss: -0.62955\n",
      "epoch: 05, loss: -0.63041\n",
      "epoch: 06, loss: -0.63120\n",
      "epoch: 07, loss: -0.63214\n",
      "epoch: 08, loss: -0.63290\n",
      "epoch: 09, loss: -0.63308\n"
     ]
    },
    {
     "name": "stderr",
     "output_type": "stream",
     "text": [
      "  4%|▍         | 39/1000 [14:26<6:24:45, 24.02s/it]"
     ]
    },
    {
     "name": "stdout",
     "output_type": "stream",
     "text": [
      "eigenvalues shape torch.Size([5]) eigenvectors shape torch.Size([5, 400])\n",
      "39 /home/phdcs2/Hard_Disk/Datasets/Deep-Spectral-Segmentation/data/object-segmentation/ECSSD/features/dino_vits16/0040.pth\n",
      "0040\n",
      "Starting Training\n",
      "epoch: 00, loss: -0.39774\n",
      "epoch: 01, loss: -0.41314\n",
      "epoch: 02, loss: -0.41692\n",
      "epoch: 03, loss: -0.41870\n",
      "epoch: 04, loss: -0.42522\n",
      "epoch: 05, loss: -0.42581\n",
      "epoch: 06, loss: -0.42675\n",
      "epoch: 07, loss: -0.42700\n",
      "epoch: 08, loss: -0.42924\n",
      "epoch: 09, loss: -0.43143\n"
     ]
    },
    {
     "name": "stderr",
     "output_type": "stream",
     "text": [
      "  4%|▍         | 40/1000 [14:47<6:08:36, 23.04s/it]"
     ]
    },
    {
     "name": "stdout",
     "output_type": "stream",
     "text": [
      "eigenvalues shape torch.Size([5]) eigenvectors shape torch.Size([5, 400])\n",
      "40 /home/phdcs2/Hard_Disk/Datasets/Deep-Spectral-Segmentation/data/object-segmentation/ECSSD/features/dino_vits16/0041.pth\n",
      "0041\n",
      "Starting Training\n",
      "epoch: 00, loss: -0.35994\n",
      "epoch: 01, loss: -0.35707\n",
      "epoch: 02, loss: -0.35901\n",
      "epoch: 03, loss: -0.36163\n",
      "epoch: 04, loss: -0.36456\n",
      "epoch: 05, loss: -0.36645\n",
      "epoch: 06, loss: -0.36838\n",
      "epoch: 07, loss: -0.37050\n",
      "epoch: 08, loss: -0.37262\n",
      "epoch: 09, loss: -0.37530\n"
     ]
    },
    {
     "name": "stderr",
     "output_type": "stream",
     "text": [
      "  4%|▍         | 41/1000 [15:10<6:07:50, 23.01s/it]"
     ]
    },
    {
     "name": "stdout",
     "output_type": "stream",
     "text": [
      "eigenvalues shape torch.Size([5]) eigenvectors shape torch.Size([5, 450])\n",
      "41 /home/phdcs2/Hard_Disk/Datasets/Deep-Spectral-Segmentation/data/object-segmentation/ECSSD/features/dino_vits16/0042.pth\n",
      "0042\n",
      "Starting Training\n",
      "epoch: 00, loss: -0.42215\n",
      "epoch: 01, loss: -0.44455\n",
      "epoch: 02, loss: -0.44993\n",
      "epoch: 03, loss: -0.45301\n",
      "epoch: 04, loss: -0.45473\n",
      "epoch: 05, loss: -0.45621\n",
      "epoch: 06, loss: -0.45698\n",
      "epoch: 07, loss: -0.45881\n",
      "epoch: 08, loss: -0.45929\n",
      "epoch: 09, loss: -0.46074\n"
     ]
    },
    {
     "name": "stderr",
     "output_type": "stream",
     "text": [
      "  4%|▍         | 42/1000 [15:31<5:58:11, 22.43s/it]"
     ]
    },
    {
     "name": "stdout",
     "output_type": "stream",
     "text": [
      "eigenvalues shape torch.Size([5]) eigenvectors shape torch.Size([5, 400])\n",
      "42 /home/phdcs2/Hard_Disk/Datasets/Deep-Spectral-Segmentation/data/object-segmentation/ECSSD/features/dino_vits16/0043.pth\n",
      "0043\n",
      "Starting Training\n",
      "epoch: 00, loss: -0.39603\n",
      "epoch: 01, loss: -0.40089\n",
      "epoch: 02, loss: -0.40221\n",
      "epoch: 03, loss: -0.40234\n",
      "epoch: 04, loss: -0.40384\n",
      "epoch: 05, loss: -0.40570\n",
      "epoch: 06, loss: -0.40649\n",
      "epoch: 07, loss: -0.40559\n",
      "epoch: 08, loss: -0.40572\n",
      "epoch: 09, loss: -0.40571\n"
     ]
    },
    {
     "name": "stderr",
     "output_type": "stream",
     "text": [
      "  4%|▍         | 43/1000 [15:53<5:55:55, 22.31s/it]"
     ]
    },
    {
     "name": "stdout",
     "output_type": "stream",
     "text": [
      "eigenvalues shape torch.Size([5]) eigenvectors shape torch.Size([5, 450])\n",
      "43 /home/phdcs2/Hard_Disk/Datasets/Deep-Spectral-Segmentation/data/object-segmentation/ECSSD/features/dino_vits16/0044.pth\n",
      "0044\n",
      "Starting Training\n",
      "epoch: 00, loss: -0.47717\n",
      "epoch: 01, loss: -0.48163\n",
      "epoch: 02, loss: -0.48399\n",
      "epoch: 03, loss: -0.48674\n",
      "epoch: 04, loss: -0.48805\n",
      "epoch: 05, loss: -0.48996\n",
      "epoch: 06, loss: -0.49408\n",
      "epoch: 07, loss: -0.49772\n",
      "epoch: 08, loss: -0.50204\n",
      "epoch: 09, loss: -0.50622\n"
     ]
    },
    {
     "name": "stderr",
     "output_type": "stream",
     "text": [
      "  4%|▍         | 44/1000 [16:21<6:21:03, 23.92s/it]"
     ]
    },
    {
     "name": "stdout",
     "output_type": "stream",
     "text": [
      "eigenvalues shape torch.Size([5]) eigenvectors shape torch.Size([5, 525])\n",
      "44 /home/phdcs2/Hard_Disk/Datasets/Deep-Spectral-Segmentation/data/object-segmentation/ECSSD/features/dino_vits16/0045.pth\n",
      "0045\n",
      "Starting Training\n",
      "epoch: 00, loss: -0.36399\n",
      "epoch: 01, loss: -0.35607\n",
      "epoch: 02, loss: -0.36116\n",
      "epoch: 03, loss: -0.36507\n",
      "epoch: 04, loss: -0.36942\n",
      "epoch: 05, loss: -0.37178\n",
      "epoch: 06, loss: -0.37406\n",
      "epoch: 07, loss: -0.37541\n",
      "epoch: 08, loss: -0.37758\n",
      "epoch: 09, loss: -0.37927\n"
     ]
    },
    {
     "name": "stderr",
     "output_type": "stream",
     "text": [
      "  4%|▍         | 45/1000 [16:45<6:23:55, 24.12s/it]"
     ]
    },
    {
     "name": "stdout",
     "output_type": "stream",
     "text": [
      "eigenvalues shape torch.Size([5]) eigenvectors shape torch.Size([5, 450])\n",
      "45 /home/phdcs2/Hard_Disk/Datasets/Deep-Spectral-Segmentation/data/object-segmentation/ECSSD/features/dino_vits16/0046.pth\n",
      "0046\n",
      "Starting Training\n",
      "epoch: 00, loss: -0.40689\n",
      "epoch: 01, loss: -0.41927\n",
      "epoch: 02, loss: -0.42097\n",
      "epoch: 03, loss: -0.42059\n",
      "epoch: 04, loss: -0.42101\n",
      "epoch: 05, loss: -0.42201\n",
      "epoch: 06, loss: -0.42495\n",
      "epoch: 07, loss: -0.42534\n",
      "epoch: 08, loss: -0.42666\n",
      "epoch: 09, loss: -0.42856\n"
     ]
    },
    {
     "name": "stderr",
     "output_type": "stream",
     "text": [
      "  5%|▍         | 46/1000 [17:14<6:44:46, 25.46s/it]"
     ]
    },
    {
     "name": "stdout",
     "output_type": "stream",
     "text": [
      "eigenvalues shape torch.Size([5]) eigenvectors shape torch.Size([5, 450])\n",
      "46 /home/phdcs2/Hard_Disk/Datasets/Deep-Spectral-Segmentation/data/object-segmentation/ECSSD/features/dino_vits16/0047.pth\n",
      "0047\n",
      "Starting Training\n",
      "epoch: 00, loss: -0.46588\n",
      "epoch: 01, loss: -0.46638\n",
      "epoch: 02, loss: -0.46772\n",
      "epoch: 03, loss: -0.90804\n",
      "epoch: 04, loss: -0.99813\n",
      "epoch: 05, loss: -0.99815\n",
      "epoch: 06, loss: -0.99808\n",
      "epoch: 07, loss: -0.99811\n",
      "epoch: 08, loss: -0.99812\n",
      "epoch: 09, loss: -0.99807\n"
     ]
    },
    {
     "name": "stderr",
     "output_type": "stream",
     "text": [
      "  5%|▍         | 47/1000 [17:38<6:35:30, 24.90s/it]"
     ]
    },
    {
     "name": "stdout",
     "output_type": "stream",
     "text": [
      "eigenvalues shape torch.Size([5]) eigenvectors shape torch.Size([5, 400])\n",
      "47 /home/phdcs2/Hard_Disk/Datasets/Deep-Spectral-Segmentation/data/object-segmentation/ECSSD/features/dino_vits16/0048.pth\n",
      "0048\n",
      "Starting Training\n",
      "epoch: 00, loss: -0.60699\n",
      "epoch: 01, loss: -0.63292\n",
      "epoch: 02, loss: -0.63575\n",
      "epoch: 03, loss: -0.63755\n",
      "epoch: 04, loss: -0.63859\n",
      "epoch: 05, loss: -0.63990\n",
      "epoch: 06, loss: -0.64067\n",
      "epoch: 07, loss: -0.64162\n",
      "epoch: 08, loss: -0.64226\n",
      "epoch: 09, loss: -0.64285\n"
     ]
    },
    {
     "name": "stderr",
     "output_type": "stream",
     "text": [
      "  5%|▍         | 48/1000 [18:01<6:29:07, 24.52s/it]"
     ]
    },
    {
     "name": "stdout",
     "output_type": "stream",
     "text": [
      "eigenvalues shape torch.Size([5]) eigenvectors shape torch.Size([5, 450])\n",
      "48 /home/phdcs2/Hard_Disk/Datasets/Deep-Spectral-Segmentation/data/object-segmentation/ECSSD/features/dino_vits16/0049.pth\n",
      "0049\n",
      "Starting Training\n",
      "epoch: 00, loss: -0.43289\n",
      "epoch: 01, loss: -0.43518\n",
      "epoch: 02, loss: -0.43682\n",
      "epoch: 03, loss: -0.43724\n",
      "epoch: 04, loss: -0.43701\n",
      "epoch: 05, loss: -0.43884\n",
      "epoch: 06, loss: -0.44084\n",
      "epoch: 07, loss: -0.44217\n",
      "epoch: 08, loss: -0.44480\n",
      "epoch: 09, loss: -0.44751\n"
     ]
    },
    {
     "name": "stderr",
     "output_type": "stream",
     "text": [
      "  5%|▍         | 49/1000 [18:28<6:39:06, 25.18s/it]"
     ]
    },
    {
     "name": "stdout",
     "output_type": "stream",
     "text": [
      "eigenvalues shape torch.Size([5]) eigenvectors shape torch.Size([5, 450])\n",
      "49 /home/phdcs2/Hard_Disk/Datasets/Deep-Spectral-Segmentation/data/object-segmentation/ECSSD/features/dino_vits16/0050.pth\n",
      "0050\n",
      "Starting Training\n",
      "epoch: 00, loss: -0.41074\n",
      "epoch: 01, loss: -0.39410\n",
      "epoch: 02, loss: -0.39297\n",
      "epoch: 03, loss: -0.38996\n",
      "epoch: 04, loss: -0.38924\n",
      "epoch: 05, loss: -0.38878\n",
      "epoch: 06, loss: -0.39086\n",
      "epoch: 07, loss: -0.39218\n",
      "epoch: 08, loss: -0.39527\n",
      "epoch: 09, loss: -0.40026\n"
     ]
    },
    {
     "name": "stderr",
     "output_type": "stream",
     "text": [
      "  5%|▌         | 50/1000 [18:48<6:12:51, 23.55s/it]"
     ]
    },
    {
     "name": "stdout",
     "output_type": "stream",
     "text": [
      "eigenvalues shape torch.Size([5]) eigenvectors shape torch.Size([5, 400])\n",
      "50 /home/phdcs2/Hard_Disk/Datasets/Deep-Spectral-Segmentation/data/object-segmentation/ECSSD/features/dino_vits16/0051.pth\n",
      "0051\n",
      "Starting Training\n",
      "epoch: 00, loss: -0.37580\n",
      "epoch: 01, loss: -0.37718\n",
      "epoch: 02, loss: -0.37280\n",
      "epoch: 03, loss: -0.37093\n",
      "epoch: 04, loss: -0.36908\n",
      "epoch: 05, loss: -0.37149\n",
      "epoch: 06, loss: -0.37181\n",
      "epoch: 07, loss: -0.37213\n",
      "epoch: 08, loss: -0.37251\n",
      "epoch: 09, loss: -0.37360\n"
     ]
    },
    {
     "name": "stderr",
     "output_type": "stream",
     "text": [
      "  5%|▌         | 51/1000 [19:16<6:34:58, 24.97s/it]"
     ]
    },
    {
     "name": "stdout",
     "output_type": "stream",
     "text": [
      "eigenvalues shape torch.Size([5]) eigenvectors shape torch.Size([5, 450])\n",
      "51 /home/phdcs2/Hard_Disk/Datasets/Deep-Spectral-Segmentation/data/object-segmentation/ECSSD/features/dino_vits16/0052.pth\n",
      "0052\n",
      "Starting Training\n",
      "epoch: 00, loss: -0.40048\n",
      "epoch: 01, loss: -0.42446\n",
      "epoch: 02, loss: -0.43406\n",
      "epoch: 03, loss: -0.44318\n",
      "epoch: 04, loss: -0.45098\n",
      "epoch: 05, loss: -0.45709\n",
      "epoch: 06, loss: -0.46194\n",
      "epoch: 07, loss: -0.46596\n",
      "epoch: 08, loss: -0.46899\n",
      "epoch: 09, loss: -0.47151\n"
     ]
    },
    {
     "name": "stderr",
     "output_type": "stream",
     "text": [
      "  5%|▌         | 52/1000 [19:43<6:45:43, 25.68s/it]"
     ]
    },
    {
     "name": "stdout",
     "output_type": "stream",
     "text": [
      "eigenvalues shape torch.Size([5]) eigenvectors shape torch.Size([5, 450])\n",
      "52 /home/phdcs2/Hard_Disk/Datasets/Deep-Spectral-Segmentation/data/object-segmentation/ECSSD/features/dino_vits16/0053.pth\n",
      "0053\n",
      "Starting Training\n",
      "epoch: 00, loss: -0.37326\n",
      "epoch: 01, loss: -0.37650\n",
      "epoch: 02, loss: -0.37718\n",
      "epoch: 03, loss: -0.37956\n",
      "epoch: 04, loss: -0.38223\n",
      "epoch: 05, loss: -0.38383\n",
      "epoch: 06, loss: -0.38632\n",
      "epoch: 07, loss: -0.38776\n",
      "epoch: 08, loss: -0.39153\n",
      "epoch: 09, loss: -0.39542\n"
     ]
    },
    {
     "name": "stderr",
     "output_type": "stream",
     "text": [
      "  5%|▌         | 53/1000 [20:06<6:31:37, 24.81s/it]"
     ]
    },
    {
     "name": "stdout",
     "output_type": "stream",
     "text": [
      "eigenvalues shape torch.Size([5]) eigenvectors shape torch.Size([5, 375])\n",
      "53 /home/phdcs2/Hard_Disk/Datasets/Deep-Spectral-Segmentation/data/object-segmentation/ECSSD/features/dino_vits16/0054.pth\n",
      "0054\n",
      "Starting Training\n",
      "epoch: 00, loss: -0.36574\n",
      "epoch: 01, loss: -0.36870\n",
      "epoch: 02, loss: -0.37204\n",
      "epoch: 03, loss: -0.37615\n",
      "epoch: 04, loss: -0.37867\n",
      "epoch: 05, loss: -0.38228\n",
      "epoch: 06, loss: -0.38445\n",
      "epoch: 07, loss: -0.38715\n",
      "epoch: 08, loss: -0.38966\n",
      "epoch: 09, loss: -0.39264\n"
     ]
    },
    {
     "name": "stderr",
     "output_type": "stream",
     "text": [
      "  5%|▌         | 54/1000 [20:32<6:36:25, 25.14s/it]"
     ]
    },
    {
     "name": "stdout",
     "output_type": "stream",
     "text": [
      "eigenvalues shape torch.Size([5]) eigenvectors shape torch.Size([5, 450])\n",
      "54 /home/phdcs2/Hard_Disk/Datasets/Deep-Spectral-Segmentation/data/object-segmentation/ECSSD/features/dino_vits16/0055.pth\n",
      "0055\n",
      "Starting Training\n",
      "epoch: 00, loss: -0.35068\n",
      "epoch: 01, loss: -0.35126\n",
      "epoch: 02, loss: -0.35257\n",
      "epoch: 03, loss: -0.35456\n",
      "epoch: 04, loss: -0.36059\n",
      "epoch: 05, loss: -0.36663\n",
      "epoch: 06, loss: -0.37323\n",
      "epoch: 07, loss: -0.37632\n",
      "epoch: 08, loss: -0.38197\n",
      "epoch: 09, loss: -0.38620\n"
     ]
    },
    {
     "name": "stderr",
     "output_type": "stream",
     "text": [
      "  6%|▌         | 55/1000 [20:57<6:32:58, 24.95s/it]"
     ]
    },
    {
     "name": "stdout",
     "output_type": "stream",
     "text": [
      "eigenvalues shape torch.Size([5]) eigenvectors shape torch.Size([5, 450])\n",
      "55 /home/phdcs2/Hard_Disk/Datasets/Deep-Spectral-Segmentation/data/object-segmentation/ECSSD/features/dino_vits16/0056.pth\n",
      "0056\n",
      "Starting Training\n",
      "epoch: 00, loss: -0.39544\n",
      "epoch: 01, loss: -0.40291\n",
      "epoch: 02, loss: -0.40174\n",
      "epoch: 03, loss: -0.40262\n",
      "epoch: 04, loss: -0.40204\n",
      "epoch: 05, loss: -0.40242\n",
      "epoch: 06, loss: -0.40447\n",
      "epoch: 07, loss: -0.40438\n",
      "epoch: 08, loss: -0.40724\n",
      "epoch: 09, loss: -0.41110\n"
     ]
    },
    {
     "name": "stderr",
     "output_type": "stream",
     "text": [
      "  6%|▌         | 56/1000 [21:15<6:02:15, 23.02s/it]"
     ]
    },
    {
     "name": "stdout",
     "output_type": "stream",
     "text": [
      "eigenvalues shape torch.Size([5]) eigenvectors shape torch.Size([5, 400])\n",
      "56 /home/phdcs2/Hard_Disk/Datasets/Deep-Spectral-Segmentation/data/object-segmentation/ECSSD/features/dino_vits16/0057.pth\n",
      "0057\n",
      "Starting Training\n",
      "epoch: 00, loss: -0.40294\n",
      "epoch: 01, loss: -0.40014\n",
      "epoch: 02, loss: -0.40299\n",
      "epoch: 03, loss: -0.40436\n",
      "epoch: 04, loss: -0.40608\n",
      "epoch: 05, loss: -0.40841\n",
      "epoch: 06, loss: -0.40883\n",
      "epoch: 07, loss: -0.41010\n",
      "epoch: 08, loss: -0.41191\n",
      "epoch: 09, loss: -0.41340\n"
     ]
    },
    {
     "name": "stderr",
     "output_type": "stream",
     "text": [
      "  6%|▌         | 57/1000 [21:40<6:09:08, 23.49s/it]"
     ]
    },
    {
     "name": "stdout",
     "output_type": "stream",
     "text": [
      "eigenvalues shape torch.Size([5]) eigenvectors shape torch.Size([5, 400])\n",
      "57 /home/phdcs2/Hard_Disk/Datasets/Deep-Spectral-Segmentation/data/object-segmentation/ECSSD/features/dino_vits16/0058.pth\n",
      "0058\n",
      "Starting Training\n",
      "epoch: 00, loss: -0.36787\n",
      "epoch: 01, loss: -0.36541\n",
      "epoch: 02, loss: -0.36625\n",
      "epoch: 03, loss: -0.36889\n",
      "epoch: 04, loss: -0.37221\n",
      "epoch: 05, loss: -0.37569\n",
      "epoch: 06, loss: -0.37988\n",
      "epoch: 07, loss: -0.38314\n",
      "epoch: 08, loss: -0.38674\n",
      "epoch: 09, loss: -0.39101\n"
     ]
    },
    {
     "name": "stderr",
     "output_type": "stream",
     "text": [
      "  6%|▌         | 58/1000 [22:09<6:34:22, 25.12s/it]"
     ]
    },
    {
     "name": "stdout",
     "output_type": "stream",
     "text": [
      "eigenvalues shape torch.Size([5]) eigenvectors shape torch.Size([5, 425])\n",
      "58 /home/phdcs2/Hard_Disk/Datasets/Deep-Spectral-Segmentation/data/object-segmentation/ECSSD/features/dino_vits16/0059.pth\n",
      "0059\n",
      "Starting Training\n",
      "epoch: 00, loss: -0.41011\n",
      "epoch: 01, loss: -0.42092\n",
      "epoch: 02, loss: -0.42164\n",
      "epoch: 03, loss: -0.42332\n",
      "epoch: 04, loss: -0.42378\n",
      "epoch: 05, loss: -0.42432\n",
      "epoch: 06, loss: -0.42361\n",
      "epoch: 07, loss: -0.42348\n",
      "epoch: 08, loss: -0.42314\n",
      "epoch: 09, loss: -0.42288\n"
     ]
    },
    {
     "name": "stderr",
     "output_type": "stream",
     "text": [
      "  6%|▌         | 59/1000 [22:36<6:42:20, 25.65s/it]"
     ]
    },
    {
     "name": "stdout",
     "output_type": "stream",
     "text": [
      "eigenvalues shape torch.Size([5]) eigenvectors shape torch.Size([5, 450])\n",
      "59 /home/phdcs2/Hard_Disk/Datasets/Deep-Spectral-Segmentation/data/object-segmentation/ECSSD/features/dino_vits16/0060.pth\n",
      "0060\n",
      "Starting Training\n",
      "epoch: 00, loss: -0.39376\n",
      "epoch: 01, loss: -0.39697\n",
      "epoch: 02, loss: -0.39773\n",
      "epoch: 03, loss: -0.39786\n",
      "epoch: 04, loss: -0.39787\n",
      "epoch: 05, loss: -0.39830\n",
      "epoch: 06, loss: -0.39847\n",
      "epoch: 07, loss: -0.40070\n",
      "epoch: 08, loss: -0.39907\n",
      "epoch: 09, loss: -0.39907\n"
     ]
    },
    {
     "name": "stderr",
     "output_type": "stream",
     "text": [
      "  6%|▌         | 60/1000 [22:55<6:14:00, 23.87s/it]"
     ]
    },
    {
     "name": "stdout",
     "output_type": "stream",
     "text": [
      "eigenvalues shape torch.Size([5]) eigenvectors shape torch.Size([5, 400])\n",
      "60 /home/phdcs2/Hard_Disk/Datasets/Deep-Spectral-Segmentation/data/object-segmentation/ECSSD/features/dino_vits16/0061.pth\n",
      "0061\n",
      "Starting Training\n",
      "epoch: 00, loss: -0.41111\n",
      "epoch: 01, loss: -0.42150\n",
      "epoch: 02, loss: -0.42605\n",
      "epoch: 03, loss: -0.43013\n",
      "epoch: 04, loss: -0.43311\n",
      "epoch: 05, loss: -0.43661\n",
      "epoch: 06, loss: -0.44006\n",
      "epoch: 07, loss: -0.44374\n",
      "epoch: 08, loss: -0.44669\n",
      "epoch: 09, loss: -0.44904\n"
     ]
    },
    {
     "name": "stderr",
     "output_type": "stream",
     "text": [
      "  6%|▌         | 61/1000 [23:18<6:06:13, 23.40s/it]"
     ]
    },
    {
     "name": "stdout",
     "output_type": "stream",
     "text": [
      "eigenvalues shape torch.Size([5]) eigenvectors shape torch.Size([5, 425])\n",
      "61 /home/phdcs2/Hard_Disk/Datasets/Deep-Spectral-Segmentation/data/object-segmentation/ECSSD/features/dino_vits16/0062.pth\n",
      "0062\n",
      "Starting Training\n",
      "epoch: 00, loss: -0.38415\n",
      "epoch: 01, loss: -0.38919\n",
      "epoch: 02, loss: -0.39402\n",
      "epoch: 03, loss: -0.39548\n",
      "epoch: 04, loss: -0.39736\n",
      "epoch: 05, loss: -0.39814\n",
      "epoch: 06, loss: -0.39992\n",
      "epoch: 07, loss: -0.40149\n",
      "epoch: 08, loss: -0.40457\n",
      "epoch: 09, loss: -0.40707\n"
     ]
    },
    {
     "name": "stderr",
     "output_type": "stream",
     "text": [
      "  6%|▌         | 62/1000 [23:40<6:02:48, 23.21s/it]"
     ]
    },
    {
     "name": "stdout",
     "output_type": "stream",
     "text": [
      "eigenvalues shape torch.Size([5]) eigenvectors shape torch.Size([5, 425])\n",
      "62 /home/phdcs2/Hard_Disk/Datasets/Deep-Spectral-Segmentation/data/object-segmentation/ECSSD/features/dino_vits16/0063.pth\n",
      "0063\n",
      "Starting Training\n",
      "epoch: 00, loss: -0.38678\n",
      "epoch: 01, loss: -0.39495\n",
      "epoch: 02, loss: -0.39568\n",
      "epoch: 03, loss: -0.39579\n",
      "epoch: 04, loss: -0.39518\n",
      "epoch: 05, loss: -0.39582\n",
      "epoch: 06, loss: -0.39561\n",
      "epoch: 07, loss: -0.39621\n",
      "epoch: 08, loss: -0.39502\n",
      "epoch: 09, loss: -0.39528\n"
     ]
    },
    {
     "name": "stderr",
     "output_type": "stream",
     "text": [
      "  6%|▋         | 63/1000 [24:02<5:57:34, 22.90s/it]"
     ]
    },
    {
     "name": "stdout",
     "output_type": "stream",
     "text": [
      "eigenvalues shape torch.Size([5]) eigenvectors shape torch.Size([5, 400])\n",
      "63 /home/phdcs2/Hard_Disk/Datasets/Deep-Spectral-Segmentation/data/object-segmentation/ECSSD/features/dino_vits16/0064.pth\n",
      "0064\n",
      "Starting Training\n",
      "epoch: 00, loss: -0.39094\n",
      "epoch: 01, loss: -0.38871\n",
      "epoch: 02, loss: -0.38703\n",
      "epoch: 03, loss: -0.38724\n",
      "epoch: 04, loss: -0.38671\n",
      "epoch: 05, loss: -0.38654\n",
      "epoch: 06, loss: -0.38682\n",
      "epoch: 07, loss: -0.38675\n",
      "epoch: 08, loss: -0.38629\n",
      "epoch: 09, loss: -0.38658\n"
     ]
    },
    {
     "name": "stderr",
     "output_type": "stream",
     "text": [
      "  6%|▋         | 64/1000 [24:23<5:45:53, 22.17s/it]"
     ]
    },
    {
     "name": "stdout",
     "output_type": "stream",
     "text": [
      "eigenvalues shape torch.Size([5]) eigenvectors shape torch.Size([5, 400])\n",
      "64 /home/phdcs2/Hard_Disk/Datasets/Deep-Spectral-Segmentation/data/object-segmentation/ECSSD/features/dino_vits16/0065.pth\n",
      "0065\n",
      "Starting Training\n",
      "epoch: 00, loss: -0.36025\n",
      "epoch: 01, loss: -0.37549\n",
      "epoch: 02, loss: -0.37698\n",
      "epoch: 03, loss: -0.37971\n",
      "epoch: 04, loss: -0.38297\n",
      "epoch: 05, loss: -0.38640\n",
      "epoch: 06, loss: -0.38915\n",
      "epoch: 07, loss: -0.39294\n",
      "epoch: 08, loss: -0.39440\n",
      "epoch: 09, loss: -0.39742\n"
     ]
    },
    {
     "name": "stderr",
     "output_type": "stream",
     "text": [
      "  6%|▋         | 65/1000 [24:45<5:44:52, 22.13s/it]"
     ]
    },
    {
     "name": "stdout",
     "output_type": "stream",
     "text": [
      "eigenvalues shape torch.Size([5]) eigenvectors shape torch.Size([5, 450])\n",
      "65 /home/phdcs2/Hard_Disk/Datasets/Deep-Spectral-Segmentation/data/object-segmentation/ECSSD/features/dino_vits16/0066.pth\n",
      "0066\n",
      "Starting Training\n",
      "epoch: 00, loss: -0.35797\n",
      "epoch: 01, loss: -0.35952\n",
      "epoch: 02, loss: -0.36016\n",
      "epoch: 03, loss: -0.36265\n",
      "epoch: 04, loss: -0.36634\n",
      "epoch: 05, loss: -0.37041\n",
      "epoch: 06, loss: -0.37485\n",
      "epoch: 07, loss: -0.37909\n",
      "epoch: 08, loss: -0.38285\n",
      "epoch: 09, loss: -0.38645\n"
     ]
    },
    {
     "name": "stderr",
     "output_type": "stream",
     "text": [
      "  7%|▋         | 66/1000 [25:05<5:33:23, 21.42s/it]"
     ]
    },
    {
     "name": "stdout",
     "output_type": "stream",
     "text": [
      "eigenvalues shape torch.Size([5]) eigenvectors shape torch.Size([5, 400])\n",
      "66 /home/phdcs2/Hard_Disk/Datasets/Deep-Spectral-Segmentation/data/object-segmentation/ECSSD/features/dino_vits16/0067.pth\n",
      "0067\n",
      "Starting Training\n",
      "epoch: 00, loss: -0.42794\n",
      "epoch: 01, loss: -0.42525\n",
      "epoch: 02, loss: -0.42479\n",
      "epoch: 03, loss: -0.42617\n",
      "epoch: 04, loss: -0.42828\n",
      "epoch: 05, loss: -0.43088\n",
      "epoch: 06, loss: -0.43251\n",
      "epoch: 07, loss: -0.43479\n",
      "epoch: 08, loss: -0.43612\n",
      "epoch: 09, loss: -0.43851\n"
     ]
    },
    {
     "name": "stderr",
     "output_type": "stream",
     "text": [
      "  7%|▋         | 67/1000 [25:20<5:02:39, 19.46s/it]"
     ]
    },
    {
     "name": "stdout",
     "output_type": "stream",
     "text": [
      "eigenvalues shape torch.Size([5]) eigenvectors shape torch.Size([5, 350])\n",
      "67 /home/phdcs2/Hard_Disk/Datasets/Deep-Spectral-Segmentation/data/object-segmentation/ECSSD/features/dino_vits16/0068.pth\n",
      "0068\n",
      "Starting Training\n",
      "epoch: 00, loss: -0.35055\n",
      "epoch: 01, loss: -0.36157\n",
      "epoch: 02, loss: -0.36877\n",
      "epoch: 03, loss: -0.37460\n",
      "epoch: 04, loss: -0.38071\n",
      "epoch: 05, loss: -0.38467\n",
      "epoch: 06, loss: -0.38927\n",
      "epoch: 07, loss: -0.39326\n",
      "epoch: 08, loss: -0.39637\n",
      "epoch: 09, loss: -0.39878\n"
     ]
    },
    {
     "name": "stderr",
     "output_type": "stream",
     "text": [
      "  7%|▋         | 68/1000 [25:48<5:42:55, 22.08s/it]"
     ]
    },
    {
     "name": "stdout",
     "output_type": "stream",
     "text": [
      "eigenvalues shape torch.Size([5]) eigenvectors shape torch.Size([5, 525])\n",
      "68 /home/phdcs2/Hard_Disk/Datasets/Deep-Spectral-Segmentation/data/object-segmentation/ECSSD/features/dino_vits16/0069.pth\n",
      "0069\n",
      "Starting Training\n",
      "epoch: 00, loss: -0.39275\n",
      "epoch: 01, loss: -0.40410\n",
      "epoch: 02, loss: -0.40649\n",
      "epoch: 03, loss: -0.40957\n",
      "epoch: 04, loss: -0.41137\n",
      "epoch: 05, loss: -0.41382\n",
      "epoch: 06, loss: -0.41556\n",
      "epoch: 07, loss: -0.41662\n",
      "epoch: 08, loss: -0.41612\n",
      "epoch: 09, loss: -0.41719\n"
     ]
    },
    {
     "name": "stderr",
     "output_type": "stream",
     "text": [
      "  7%|▋         | 69/1000 [26:10<5:44:19, 22.19s/it]"
     ]
    },
    {
     "name": "stdout",
     "output_type": "stream",
     "text": [
      "eigenvalues shape torch.Size([5]) eigenvectors shape torch.Size([5, 425])\n",
      "69 /home/phdcs2/Hard_Disk/Datasets/Deep-Spectral-Segmentation/data/object-segmentation/ECSSD/features/dino_vits16/0070.pth\n",
      "0070\n",
      "Starting Training\n",
      "epoch: 00, loss: -0.40574\n",
      "epoch: 01, loss: -0.41720\n",
      "epoch: 02, loss: -0.41900\n",
      "epoch: 03, loss: -0.42151\n",
      "epoch: 04, loss: -0.42467\n",
      "epoch: 05, loss: -0.42680\n",
      "epoch: 06, loss: -0.42841\n",
      "epoch: 07, loss: -0.42792\n",
      "epoch: 08, loss: -0.42824\n",
      "epoch: 09, loss: -0.42931\n"
     ]
    },
    {
     "name": "stderr",
     "output_type": "stream",
     "text": [
      "  7%|▋         | 70/1000 [26:36<5:58:17, 23.12s/it]"
     ]
    },
    {
     "name": "stdout",
     "output_type": "stream",
     "text": [
      "eigenvalues shape torch.Size([5]) eigenvectors shape torch.Size([5, 500])\n",
      "70 /home/phdcs2/Hard_Disk/Datasets/Deep-Spectral-Segmentation/data/object-segmentation/ECSSD/features/dino_vits16/0071.pth\n",
      "0071\n",
      "Starting Training\n",
      "epoch: 00, loss: -0.43294\n",
      "epoch: 01, loss: -0.44549\n",
      "epoch: 02, loss: -0.44879\n",
      "epoch: 03, loss: -0.44991\n",
      "epoch: 04, loss: -0.45210\n",
      "epoch: 05, loss: -0.45280\n",
      "epoch: 06, loss: -0.45449\n",
      "epoch: 07, loss: -0.45501\n",
      "epoch: 08, loss: -0.45572\n",
      "epoch: 09, loss: -0.45706\n"
     ]
    },
    {
     "name": "stderr",
     "output_type": "stream",
     "text": [
      "  7%|▋         | 71/1000 [27:01<6:07:19, 23.72s/it]"
     ]
    },
    {
     "name": "stdout",
     "output_type": "stream",
     "text": [
      "eigenvalues shape torch.Size([5]) eigenvectors shape torch.Size([5, 450])\n",
      "71 /home/phdcs2/Hard_Disk/Datasets/Deep-Spectral-Segmentation/data/object-segmentation/ECSSD/features/dino_vits16/0072.pth\n",
      "0072\n",
      "Starting Training\n",
      "epoch: 00, loss: -0.38632\n",
      "epoch: 01, loss: -0.39199\n",
      "epoch: 02, loss: -0.39227\n",
      "epoch: 03, loss: -0.39432\n",
      "epoch: 04, loss: -0.39601\n",
      "epoch: 05, loss: -0.39783\n",
      "epoch: 06, loss: -0.40016\n",
      "epoch: 07, loss: -0.40173\n",
      "epoch: 08, loss: -0.40363\n",
      "epoch: 09, loss: -0.40561\n"
     ]
    },
    {
     "name": "stderr",
     "output_type": "stream",
     "text": [
      "  7%|▋         | 72/1000 [27:22<5:54:40, 22.93s/it]"
     ]
    },
    {
     "name": "stdout",
     "output_type": "stream",
     "text": [
      "eigenvalues shape torch.Size([5]) eigenvectors shape torch.Size([5, 400])\n",
      "72 /home/phdcs2/Hard_Disk/Datasets/Deep-Spectral-Segmentation/data/object-segmentation/ECSSD/features/dino_vits16/0073.pth\n",
      "0073\n",
      "Starting Training\n",
      "epoch: 00, loss: -0.35837\n",
      "epoch: 01, loss: -0.36067\n",
      "epoch: 02, loss: -0.36223\n",
      "epoch: 03, loss: -0.36293\n",
      "epoch: 04, loss: -0.36440\n",
      "epoch: 05, loss: -0.36611\n",
      "epoch: 06, loss: -0.36829\n",
      "epoch: 07, loss: -0.37153\n",
      "epoch: 08, loss: -0.37515\n",
      "epoch: 09, loss: -0.37884\n"
     ]
    },
    {
     "name": "stderr",
     "output_type": "stream",
     "text": [
      "  7%|▋         | 73/1000 [27:45<5:54:51, 22.97s/it]"
     ]
    },
    {
     "name": "stdout",
     "output_type": "stream",
     "text": [
      "eigenvalues shape torch.Size([5]) eigenvectors shape torch.Size([5, 450])\n",
      "73 /home/phdcs2/Hard_Disk/Datasets/Deep-Spectral-Segmentation/data/object-segmentation/ECSSD/features/dino_vits16/0074.pth\n",
      "0074\n",
      "Starting Training\n",
      "epoch: 00, loss: -0.49774\n",
      "epoch: 01, loss: -0.50333\n",
      "epoch: 02, loss: -0.51214\n",
      "epoch: 03, loss: -0.52014\n",
      "epoch: 04, loss: -0.52628\n",
      "epoch: 05, loss: -0.53240\n",
      "epoch: 06, loss: -0.53719\n",
      "epoch: 07, loss: -0.54170\n",
      "epoch: 08, loss: -0.54622\n",
      "epoch: 09, loss: -0.54979\n"
     ]
    },
    {
     "name": "stderr",
     "output_type": "stream",
     "text": [
      "  7%|▋         | 74/1000 [28:09<6:00:13, 23.34s/it]"
     ]
    },
    {
     "name": "stdout",
     "output_type": "stream",
     "text": [
      "eigenvalues shape torch.Size([5]) eigenvectors shape torch.Size([5, 450])\n",
      "74 /home/phdcs2/Hard_Disk/Datasets/Deep-Spectral-Segmentation/data/object-segmentation/ECSSD/features/dino_vits16/0075.pth\n",
      "0075\n",
      "Starting Training\n",
      "epoch: 00, loss: -0.40983\n",
      "epoch: 01, loss: -0.42972\n",
      "epoch: 02, loss: -0.43360\n",
      "epoch: 03, loss: -0.43749\n",
      "epoch: 04, loss: -0.44019\n",
      "epoch: 05, loss: -0.44126\n",
      "epoch: 06, loss: -0.44267\n",
      "epoch: 07, loss: -0.44178\n",
      "epoch: 08, loss: -0.44114\n",
      "epoch: 09, loss: -0.43976\n"
     ]
    },
    {
     "name": "stderr",
     "output_type": "stream",
     "text": [
      "  8%|▊         | 75/1000 [28:31<5:52:15, 22.85s/it]"
     ]
    },
    {
     "name": "stdout",
     "output_type": "stream",
     "text": [
      "eigenvalues shape torch.Size([5]) eigenvectors shape torch.Size([5, 450])\n",
      "75 /home/phdcs2/Hard_Disk/Datasets/Deep-Spectral-Segmentation/data/object-segmentation/ECSSD/features/dino_vits16/0076.pth\n",
      "0076\n",
      "Starting Training\n",
      "epoch: 00, loss: -0.38544\n",
      "epoch: 01, loss: -0.38712\n",
      "epoch: 02, loss: -0.38567\n",
      "epoch: 03, loss: -0.38241\n",
      "epoch: 04, loss: -0.37944\n",
      "epoch: 05, loss: -0.37829\n",
      "epoch: 06, loss: -0.37791\n",
      "epoch: 07, loss: -0.37885\n",
      "epoch: 08, loss: -0.38178\n",
      "epoch: 09, loss: -0.38404\n"
     ]
    },
    {
     "name": "stderr",
     "output_type": "stream",
     "text": [
      "  8%|▊         | 76/1000 [28:53<5:47:41, 22.58s/it]"
     ]
    },
    {
     "name": "stdout",
     "output_type": "stream",
     "text": [
      "eigenvalues shape torch.Size([5]) eigenvectors shape torch.Size([5, 400])\n",
      "76 /home/phdcs2/Hard_Disk/Datasets/Deep-Spectral-Segmentation/data/object-segmentation/ECSSD/features/dino_vits16/0077.pth\n",
      "0077\n",
      "Starting Training\n",
      "epoch: 00, loss: -0.39529\n",
      "epoch: 01, loss: -0.39533\n",
      "epoch: 02, loss: -0.39556\n",
      "epoch: 03, loss: -0.39535\n",
      "epoch: 04, loss: -0.39678\n",
      "epoch: 05, loss: -0.39755\n",
      "epoch: 06, loss: -0.39808\n",
      "epoch: 07, loss: -0.40076\n",
      "epoch: 08, loss: -0.40201\n",
      "epoch: 09, loss: -0.40362\n"
     ]
    },
    {
     "name": "stderr",
     "output_type": "stream",
     "text": [
      "  8%|▊         | 77/1000 [29:18<6:00:56, 23.46s/it]"
     ]
    },
    {
     "name": "stdout",
     "output_type": "stream",
     "text": [
      "eigenvalues shape torch.Size([5]) eigenvectors shape torch.Size([5, 450])\n",
      "77 /home/phdcs2/Hard_Disk/Datasets/Deep-Spectral-Segmentation/data/object-segmentation/ECSSD/features/dino_vits16/0078.pth\n",
      "0078\n",
      "Starting Training\n",
      "epoch: 00, loss: -0.53593\n",
      "epoch: 01, loss: -0.53535\n",
      "epoch: 02, loss: -0.54595\n",
      "epoch: 03, loss: -0.55303\n",
      "epoch: 04, loss: -0.55816\n",
      "epoch: 05, loss: -0.56106\n",
      "epoch: 06, loss: -0.56384\n",
      "epoch: 07, loss: -0.56610\n",
      "epoch: 08, loss: -0.56824\n",
      "epoch: 09, loss: -0.57015\n"
     ]
    },
    {
     "name": "stderr",
     "output_type": "stream",
     "text": [
      "  8%|▊         | 78/1000 [29:40<5:54:22, 23.06s/it]"
     ]
    },
    {
     "name": "stdout",
     "output_type": "stream",
     "text": [
      "eigenvalues shape torch.Size([5]) eigenvectors shape torch.Size([5, 400])\n",
      "78 /home/phdcs2/Hard_Disk/Datasets/Deep-Spectral-Segmentation/data/object-segmentation/ECSSD/features/dino_vits16/0079.pth\n",
      "0079\n",
      "Starting Training\n",
      "epoch: 00, loss: -0.66541\n",
      "epoch: 01, loss: -0.70409\n",
      "epoch: 02, loss: -0.70461\n",
      "epoch: 03, loss: -0.70509\n",
      "epoch: 04, loss: -0.70541\n",
      "epoch: 05, loss: -0.70565\n",
      "epoch: 06, loss: -0.70572\n",
      "epoch: 07, loss: -0.70574\n",
      "epoch: 08, loss: -0.70613\n",
      "epoch: 09, loss: -0.70609\n"
     ]
    },
    {
     "name": "stderr",
     "output_type": "stream",
     "text": [
      "  8%|▊         | 79/1000 [30:09<6:17:48, 24.61s/it]"
     ]
    },
    {
     "name": "stdout",
     "output_type": "stream",
     "text": [
      "eigenvalues shape torch.Size([5]) eigenvectors shape torch.Size([5, 525])\n",
      "79 /home/phdcs2/Hard_Disk/Datasets/Deep-Spectral-Segmentation/data/object-segmentation/ECSSD/features/dino_vits16/0080.pth\n",
      "0080\n",
      "Starting Training\n",
      "epoch: 00, loss: -0.36844\n",
      "epoch: 01, loss: -0.37548\n",
      "epoch: 02, loss: -0.37711\n",
      "epoch: 03, loss: -0.37981\n",
      "epoch: 04, loss: -0.38383\n",
      "epoch: 05, loss: -0.38679\n",
      "epoch: 06, loss: -0.38873\n",
      "epoch: 07, loss: -0.39140\n",
      "epoch: 08, loss: -0.39262\n",
      "epoch: 09, loss: -0.39498\n"
     ]
    },
    {
     "name": "stderr",
     "output_type": "stream",
     "text": [
      "  8%|▊         | 80/1000 [30:31<6:05:08, 23.81s/it]"
     ]
    },
    {
     "name": "stdout",
     "output_type": "stream",
     "text": [
      "eigenvalues shape torch.Size([5]) eigenvectors shape torch.Size([5, 450])\n",
      "80 /home/phdcs2/Hard_Disk/Datasets/Deep-Spectral-Segmentation/data/object-segmentation/ECSSD/features/dino_vits16/0081.pth\n",
      "0081\n",
      "Starting Training\n",
      "epoch: 00, loss: -0.60599\n",
      "epoch: 01, loss: -0.63793\n",
      "epoch: 02, loss: -0.63991\n",
      "epoch: 03, loss: -0.64117\n",
      "epoch: 04, loss: -0.64213\n",
      "epoch: 05, loss: -0.64288\n",
      "epoch: 06, loss: -0.64343\n",
      "epoch: 07, loss: -0.64376\n",
      "epoch: 08, loss: -0.64419\n",
      "epoch: 09, loss: -0.64451\n"
     ]
    },
    {
     "name": "stderr",
     "output_type": "stream",
     "text": [
      "  8%|▊         | 81/1000 [30:49<5:41:23, 22.29s/it]"
     ]
    },
    {
     "name": "stdout",
     "output_type": "stream",
     "text": [
      "eigenvalues shape torch.Size([5]) eigenvectors shape torch.Size([5, 450])\n",
      "81 /home/phdcs2/Hard_Disk/Datasets/Deep-Spectral-Segmentation/data/object-segmentation/ECSSD/features/dino_vits16/0082.pth\n",
      "0082\n",
      "Starting Training\n",
      "epoch: 00, loss: -0.40461\n",
      "epoch: 01, loss: -0.41602\n",
      "epoch: 02, loss: -0.41594\n",
      "epoch: 03, loss: -0.41573\n",
      "epoch: 04, loss: -0.41676\n",
      "epoch: 05, loss: -0.41829\n",
      "epoch: 06, loss: -0.41907\n",
      "epoch: 07, loss: -0.42014\n",
      "epoch: 08, loss: -0.42121\n",
      "epoch: 09, loss: -0.42239\n"
     ]
    },
    {
     "name": "stderr",
     "output_type": "stream",
     "text": [
      "  8%|▊         | 82/1000 [31:16<6:02:56, 23.72s/it]"
     ]
    },
    {
     "name": "stdout",
     "output_type": "stream",
     "text": [
      "eigenvalues shape torch.Size([5]) eigenvectors shape torch.Size([5, 450])\n",
      "82 /home/phdcs2/Hard_Disk/Datasets/Deep-Spectral-Segmentation/data/object-segmentation/ECSSD/features/dino_vits16/0083.pth\n",
      "0083\n",
      "Starting Training\n",
      "epoch: 00, loss: -0.37885\n",
      "epoch: 01, loss: -0.38859\n",
      "epoch: 02, loss: -0.39541\n",
      "epoch: 03, loss: -0.39999\n",
      "epoch: 04, loss: -0.40288\n",
      "epoch: 05, loss: -0.40830\n",
      "epoch: 06, loss: -0.41198\n",
      "epoch: 07, loss: -0.41489\n",
      "epoch: 08, loss: -0.41731\n",
      "epoch: 09, loss: -0.41926\n"
     ]
    },
    {
     "name": "stderr",
     "output_type": "stream",
     "text": [
      "  8%|▊         | 83/1000 [31:40<6:00:08, 23.56s/it]"
     ]
    },
    {
     "name": "stdout",
     "output_type": "stream",
     "text": [
      "eigenvalues shape torch.Size([5]) eigenvectors shape torch.Size([5, 450])\n",
      "83 /home/phdcs2/Hard_Disk/Datasets/Deep-Spectral-Segmentation/data/object-segmentation/ECSSD/features/dino_vits16/0084.pth\n",
      "0084\n",
      "Starting Training\n",
      "epoch: 00, loss: -0.39109\n",
      "epoch: 01, loss: -0.39487\n",
      "epoch: 02, loss: -0.39127\n",
      "epoch: 03, loss: -0.38906\n",
      "epoch: 04, loss: -0.38872\n",
      "epoch: 05, loss: -0.38913\n",
      "epoch: 06, loss: -0.38859\n",
      "epoch: 07, loss: -0.38807\n",
      "epoch: 08, loss: -0.38795\n",
      "epoch: 09, loss: -0.38754\n"
     ]
    },
    {
     "name": "stderr",
     "output_type": "stream",
     "text": [
      "  8%|▊         | 84/1000 [32:03<5:59:03, 23.52s/it]"
     ]
    },
    {
     "name": "stdout",
     "output_type": "stream",
     "text": [
      "eigenvalues shape torch.Size([5]) eigenvectors shape torch.Size([5, 450])\n",
      "84 /home/phdcs2/Hard_Disk/Datasets/Deep-Spectral-Segmentation/data/object-segmentation/ECSSD/features/dino_vits16/0085.pth\n",
      "0085\n",
      "Starting Training\n",
      "epoch: 00, loss: -0.40545\n",
      "epoch: 01, loss: -0.42686\n",
      "epoch: 02, loss: -0.43095\n",
      "epoch: 03, loss: -0.43472\n",
      "epoch: 04, loss: -0.43712\n",
      "epoch: 05, loss: -0.43901\n",
      "epoch: 06, loss: -0.44179\n",
      "epoch: 07, loss: -0.44399\n",
      "epoch: 08, loss: -0.44597\n",
      "epoch: 09, loss: -0.44761\n"
     ]
    },
    {
     "name": "stderr",
     "output_type": "stream",
     "text": [
      "  8%|▊         | 85/1000 [32:23<5:43:28, 22.52s/it]"
     ]
    },
    {
     "name": "stdout",
     "output_type": "stream",
     "text": [
      "eigenvalues shape torch.Size([5]) eigenvectors shape torch.Size([5, 450])\n",
      "85 /home/phdcs2/Hard_Disk/Datasets/Deep-Spectral-Segmentation/data/object-segmentation/ECSSD/features/dino_vits16/0086.pth\n",
      "0086\n",
      "Starting Training\n",
      "epoch: 00, loss: -0.38723\n",
      "epoch: 01, loss: -0.39393\n",
      "epoch: 02, loss: -0.39400\n",
      "epoch: 03, loss: -0.39315\n",
      "epoch: 04, loss: -0.39372\n",
      "epoch: 05, loss: -0.39437\n",
      "epoch: 06, loss: -0.39640\n",
      "epoch: 07, loss: -0.39893\n",
      "epoch: 08, loss: -0.40136\n",
      "epoch: 09, loss: -0.40427\n"
     ]
    },
    {
     "name": "stderr",
     "output_type": "stream",
     "text": [
      "  9%|▊         | 86/1000 [32:46<5:42:43, 22.50s/it]"
     ]
    },
    {
     "name": "stdout",
     "output_type": "stream",
     "text": [
      "eigenvalues shape torch.Size([5]) eigenvectors shape torch.Size([5, 450])\n",
      "86 /home/phdcs2/Hard_Disk/Datasets/Deep-Spectral-Segmentation/data/object-segmentation/ECSSD/features/dino_vits16/0087.pth\n",
      "0087\n",
      "Starting Training\n",
      "epoch: 00, loss: -0.62855\n",
      "epoch: 01, loss: -0.65628\n",
      "epoch: 02, loss: -0.65853\n",
      "epoch: 03, loss: -0.65968\n",
      "epoch: 04, loss: -0.66065\n",
      "epoch: 05, loss: -0.66133\n",
      "epoch: 06, loss: -0.66219\n",
      "epoch: 07, loss: -0.66260\n",
      "epoch: 08, loss: -0.66297\n",
      "epoch: 09, loss: -0.66342\n"
     ]
    },
    {
     "name": "stderr",
     "output_type": "stream",
     "text": [
      "  9%|▊         | 87/1000 [33:10<5:49:47, 22.99s/it]"
     ]
    },
    {
     "name": "stdout",
     "output_type": "stream",
     "text": [
      "eigenvalues shape torch.Size([5]) eigenvectors shape torch.Size([5, 450])\n",
      "87 /home/phdcs2/Hard_Disk/Datasets/Deep-Spectral-Segmentation/data/object-segmentation/ECSSD/features/dino_vits16/0088.pth\n",
      "0088\n",
      "Starting Training\n",
      "epoch: 00, loss: -0.41283\n",
      "epoch: 01, loss: -0.42328\n",
      "epoch: 02, loss: -0.42897\n",
      "epoch: 03, loss: -0.43409\n",
      "epoch: 04, loss: -0.43905\n",
      "epoch: 05, loss: -0.44295\n",
      "epoch: 06, loss: -0.44756\n",
      "epoch: 07, loss: -0.45166\n",
      "epoch: 08, loss: -0.45488\n",
      "epoch: 09, loss: -0.45784\n"
     ]
    },
    {
     "name": "stderr",
     "output_type": "stream",
     "text": [
      "  9%|▉         | 88/1000 [33:34<5:53:30, 23.26s/it]"
     ]
    },
    {
     "name": "stdout",
     "output_type": "stream",
     "text": [
      "eigenvalues shape torch.Size([5]) eigenvectors shape torch.Size([5, 450])\n",
      "88 /home/phdcs2/Hard_Disk/Datasets/Deep-Spectral-Segmentation/data/object-segmentation/ECSSD/features/dino_vits16/0089.pth\n",
      "0089\n",
      "Starting Training\n",
      "epoch: 00, loss: -0.38393\n",
      "epoch: 01, loss: -0.39205\n",
      "epoch: 02, loss: -0.39671\n",
      "epoch: 03, loss: -0.39696\n",
      "epoch: 04, loss: -0.39700\n",
      "epoch: 05, loss: -0.39662\n",
      "epoch: 06, loss: -0.39531\n",
      "epoch: 07, loss: -0.39470\n",
      "epoch: 08, loss: -0.39519\n",
      "epoch: 09, loss: -0.39724\n"
     ]
    },
    {
     "name": "stderr",
     "output_type": "stream",
     "text": [
      "  9%|▉         | 89/1000 [33:55<5:44:12, 22.67s/it]"
     ]
    },
    {
     "name": "stdout",
     "output_type": "stream",
     "text": [
      "eigenvalues shape torch.Size([5]) eigenvectors shape torch.Size([5, 400])\n",
      "89 /home/phdcs2/Hard_Disk/Datasets/Deep-Spectral-Segmentation/data/object-segmentation/ECSSD/features/dino_vits16/0090.pth\n",
      "0090\n",
      "Starting Training\n",
      "epoch: 00, loss: -0.37484\n",
      "epoch: 01, loss: -0.37571\n",
      "epoch: 02, loss: -0.37818\n",
      "epoch: 03, loss: -0.38295\n",
      "epoch: 04, loss: -0.38735\n",
      "epoch: 05, loss: -0.39081\n",
      "epoch: 06, loss: -0.39362\n",
      "epoch: 07, loss: -0.39679\n",
      "epoch: 08, loss: -0.39929\n",
      "epoch: 09, loss: -0.40252\n"
     ]
    },
    {
     "name": "stderr",
     "output_type": "stream",
     "text": [
      "  9%|▉         | 90/1000 [34:15<5:32:16, 21.91s/it]"
     ]
    },
    {
     "name": "stdout",
     "output_type": "stream",
     "text": [
      "eigenvalues shape torch.Size([5]) eigenvectors shape torch.Size([5, 400])\n",
      "90 /home/phdcs2/Hard_Disk/Datasets/Deep-Spectral-Segmentation/data/object-segmentation/ECSSD/features/dino_vits16/0091.pth\n",
      "0091\n",
      "Starting Training\n",
      "epoch: 00, loss: -0.38089\n",
      "epoch: 01, loss: -0.38400\n",
      "epoch: 02, loss: -0.38460\n",
      "epoch: 03, loss: -0.38741\n",
      "epoch: 04, loss: -0.39006\n",
      "epoch: 05, loss: -0.39270\n",
      "epoch: 06, loss: -0.39500\n",
      "epoch: 07, loss: -0.39718\n",
      "epoch: 08, loss: -0.39947\n",
      "epoch: 09, loss: -0.40217\n"
     ]
    },
    {
     "name": "stderr",
     "output_type": "stream",
     "text": [
      "  9%|▉         | 91/1000 [34:33<5:15:00, 20.79s/it]"
     ]
    },
    {
     "name": "stdout",
     "output_type": "stream",
     "text": [
      "eigenvalues shape torch.Size([5]) eigenvectors shape torch.Size([5, 400])\n",
      "91 /home/phdcs2/Hard_Disk/Datasets/Deep-Spectral-Segmentation/data/object-segmentation/ECSSD/features/dino_vits16/0092.pth\n",
      "0092\n",
      "Starting Training\n",
      "epoch: 00, loss: -0.39045\n",
      "epoch: 01, loss: -0.39867\n",
      "epoch: 02, loss: -0.40132\n",
      "epoch: 03, loss: -0.40502\n",
      "epoch: 04, loss: -0.40722\n",
      "epoch: 05, loss: -0.40899\n",
      "epoch: 06, loss: -0.41164\n",
      "epoch: 07, loss: -0.41387\n",
      "epoch: 08, loss: -0.41717\n",
      "epoch: 09, loss: -0.42050\n"
     ]
    },
    {
     "name": "stderr",
     "output_type": "stream",
     "text": [
      "  9%|▉         | 92/1000 [34:52<5:05:00, 20.15s/it]"
     ]
    },
    {
     "name": "stdout",
     "output_type": "stream",
     "text": [
      "eigenvalues shape torch.Size([5]) eigenvectors shape torch.Size([5, 400])\n",
      "92 /home/phdcs2/Hard_Disk/Datasets/Deep-Spectral-Segmentation/data/object-segmentation/ECSSD/features/dino_vits16/0093.pth\n",
      "0093\n",
      "Starting Training\n",
      "epoch: 00, loss: -0.37923\n",
      "epoch: 01, loss: -0.39625\n",
      "epoch: 02, loss: -0.40127\n",
      "epoch: 03, loss: -0.40384\n",
      "epoch: 04, loss: -0.40852\n",
      "epoch: 05, loss: -0.41043\n",
      "epoch: 06, loss: -0.41146\n",
      "epoch: 07, loss: -0.41606\n",
      "epoch: 08, loss: -0.41712\n",
      "epoch: 09, loss: -0.41986\n"
     ]
    },
    {
     "name": "stderr",
     "output_type": "stream",
     "text": [
      "  9%|▉         | 93/1000 [35:15<5:17:36, 21.01s/it]"
     ]
    },
    {
     "name": "stdout",
     "output_type": "stream",
     "text": [
      "eigenvalues shape torch.Size([5]) eigenvectors shape torch.Size([5, 400])\n",
      "93 /home/phdcs2/Hard_Disk/Datasets/Deep-Spectral-Segmentation/data/object-segmentation/ECSSD/features/dino_vits16/0094.pth\n",
      "0094\n",
      "Starting Training\n",
      "epoch: 00, loss: -0.58294\n",
      "epoch: 01, loss: -0.61553\n",
      "epoch: 02, loss: -0.61797\n",
      "epoch: 03, loss: -0.62008\n",
      "epoch: 04, loss: -0.62163\n",
      "epoch: 05, loss: -0.62325\n",
      "epoch: 06, loss: -0.62455\n",
      "epoch: 07, loss: -0.62573\n",
      "epoch: 08, loss: -0.62673\n",
      "epoch: 09, loss: -0.62815\n"
     ]
    },
    {
     "name": "stderr",
     "output_type": "stream",
     "text": [
      "  9%|▉         | 94/1000 [35:37<5:23:12, 21.40s/it]"
     ]
    },
    {
     "name": "stdout",
     "output_type": "stream",
     "text": [
      "eigenvalues shape torch.Size([5]) eigenvectors shape torch.Size([5, 400])\n",
      "94 /home/phdcs2/Hard_Disk/Datasets/Deep-Spectral-Segmentation/data/object-segmentation/ECSSD/features/dino_vits16/0095.pth\n",
      "0095\n",
      "Starting Training\n",
      "epoch: 00, loss: -0.39787\n",
      "epoch: 01, loss: -0.42008\n",
      "epoch: 02, loss: -0.42387\n",
      "epoch: 03, loss: -0.42695\n",
      "epoch: 04, loss: -0.42947\n",
      "epoch: 05, loss: -0.43181\n",
      "epoch: 06, loss: -0.43509\n",
      "epoch: 07, loss: -0.43754\n",
      "epoch: 08, loss: -0.43822\n",
      "epoch: 09, loss: -0.44063\n"
     ]
    },
    {
     "name": "stderr",
     "output_type": "stream",
     "text": [
      " 10%|▉         | 95/1000 [35:58<5:19:45, 21.20s/it]"
     ]
    },
    {
     "name": "stdout",
     "output_type": "stream",
     "text": [
      "eigenvalues shape torch.Size([5]) eigenvectors shape torch.Size([5, 400])\n",
      "95 /home/phdcs2/Hard_Disk/Datasets/Deep-Spectral-Segmentation/data/object-segmentation/ECSSD/features/dino_vits16/0096.pth\n",
      "0096\n",
      "Starting Training\n",
      "epoch: 00, loss: -0.38303\n",
      "epoch: 01, loss: -0.38868\n",
      "epoch: 02, loss: -0.39680\n",
      "epoch: 03, loss: -0.40193\n",
      "epoch: 04, loss: -0.40696\n",
      "epoch: 05, loss: -0.40962\n",
      "epoch: 06, loss: -0.41257\n",
      "epoch: 07, loss: -0.41446\n",
      "epoch: 08, loss: -0.41704\n",
      "epoch: 09, loss: -0.41935\n"
     ]
    },
    {
     "name": "stderr",
     "output_type": "stream",
     "text": [
      " 10%|▉         | 96/1000 [36:15<4:58:39, 19.82s/it]"
     ]
    },
    {
     "name": "stdout",
     "output_type": "stream",
     "text": [
      "eigenvalues shape torch.Size([5]) eigenvectors shape torch.Size([5, 400])\n",
      "96 /home/phdcs2/Hard_Disk/Datasets/Deep-Spectral-Segmentation/data/object-segmentation/ECSSD/features/dino_vits16/0097.pth\n",
      "0097\n",
      "Starting Training\n",
      "epoch: 00, loss: -0.37720\n",
      "epoch: 01, loss: -0.38779\n",
      "epoch: 02, loss: -0.38918\n",
      "epoch: 03, loss: -0.39117\n",
      "epoch: 04, loss: -0.39187\n",
      "epoch: 05, loss: -0.39409\n",
      "epoch: 06, loss: -0.39666\n",
      "epoch: 07, loss: -0.39756\n",
      "epoch: 08, loss: -0.39890\n",
      "epoch: 09, loss: -0.40046\n"
     ]
    },
    {
     "name": "stderr",
     "output_type": "stream",
     "text": [
      " 10%|▉         | 97/1000 [36:38<5:16:51, 21.05s/it]"
     ]
    },
    {
     "name": "stdout",
     "output_type": "stream",
     "text": [
      "eigenvalues shape torch.Size([5]) eigenvectors shape torch.Size([5, 400])\n",
      "97 /home/phdcs2/Hard_Disk/Datasets/Deep-Spectral-Segmentation/data/object-segmentation/ECSSD/features/dino_vits16/0098.pth\n",
      "0098\n",
      "Starting Training\n",
      "epoch: 00, loss: -0.42299\n",
      "epoch: 01, loss: -0.43532\n",
      "epoch: 02, loss: -0.43770\n",
      "epoch: 03, loss: -0.43991\n",
      "epoch: 04, loss: -0.44251\n",
      "epoch: 05, loss: -0.44340\n",
      "epoch: 06, loss: -0.44531\n",
      "epoch: 07, loss: -0.44581\n",
      "epoch: 08, loss: -0.44645\n",
      "epoch: 09, loss: -0.44732\n"
     ]
    },
    {
     "name": "stderr",
     "output_type": "stream",
     "text": [
      " 10%|▉         | 98/1000 [36:59<5:14:41, 20.93s/it]"
     ]
    },
    {
     "name": "stdout",
     "output_type": "stream",
     "text": [
      "eigenvalues shape torch.Size([5]) eigenvectors shape torch.Size([5, 400])\n",
      "98 /home/phdcs2/Hard_Disk/Datasets/Deep-Spectral-Segmentation/data/object-segmentation/ECSSD/features/dino_vits16/0099.pth\n",
      "0099\n",
      "Starting Training\n",
      "epoch: 00, loss: -0.37770\n",
      "epoch: 01, loss: -0.37018\n",
      "epoch: 02, loss: -0.37027\n",
      "epoch: 03, loss: -0.37172\n",
      "epoch: 04, loss: -0.37421\n",
      "epoch: 05, loss: -0.37774\n",
      "epoch: 06, loss: -0.38107\n",
      "epoch: 07, loss: -0.38490\n",
      "epoch: 08, loss: -0.38715\n",
      "epoch: 09, loss: -0.38994\n"
     ]
    },
    {
     "name": "stderr",
     "output_type": "stream",
     "text": [
      " 10%|▉         | 99/1000 [37:17<5:01:54, 20.10s/it]"
     ]
    },
    {
     "name": "stdout",
     "output_type": "stream",
     "text": [
      "eigenvalues shape torch.Size([5]) eigenvectors shape torch.Size([5, 400])\n",
      "99 /home/phdcs2/Hard_Disk/Datasets/Deep-Spectral-Segmentation/data/object-segmentation/ECSSD/features/dino_vits16/0100.pth\n",
      "0100\n",
      "Starting Training\n",
      "epoch: 00, loss: -0.36672\n",
      "epoch: 01, loss: -0.38236\n",
      "epoch: 02, loss: -0.39429\n",
      "epoch: 03, loss: -0.40148\n",
      "epoch: 04, loss: -0.41062\n",
      "epoch: 05, loss: -0.41482\n",
      "epoch: 06, loss: -0.41763\n",
      "epoch: 07, loss: -0.41934\n",
      "epoch: 08, loss: -0.41993\n",
      "epoch: 09, loss: -0.42140\n"
     ]
    },
    {
     "name": "stderr",
     "output_type": "stream",
     "text": [
      " 10%|█         | 100/1000 [37:34<4:47:08, 19.14s/it]"
     ]
    },
    {
     "name": "stdout",
     "output_type": "stream",
     "text": [
      "eigenvalues shape torch.Size([5]) eigenvectors shape torch.Size([5, 400])\n",
      "100 /home/phdcs2/Hard_Disk/Datasets/Deep-Spectral-Segmentation/data/object-segmentation/ECSSD/features/dino_vits16/0101.pth\n",
      "0101\n",
      "Starting Training\n",
      "epoch: 00, loss: -0.40954\n",
      "epoch: 01, loss: -0.41145\n",
      "epoch: 02, loss: -0.41125\n",
      "epoch: 03, loss: -0.41259\n",
      "epoch: 04, loss: -0.41235\n",
      "epoch: 05, loss: -0.41151\n",
      "epoch: 06, loss: -0.41189\n",
      "epoch: 07, loss: -0.41184\n",
      "epoch: 08, loss: -0.41259\n",
      "epoch: 09, loss: -0.41285\n"
     ]
    },
    {
     "name": "stderr",
     "output_type": "stream",
     "text": [
      " 10%|█         | 101/1000 [37:54<4:50:51, 19.41s/it]"
     ]
    },
    {
     "name": "stdout",
     "output_type": "stream",
     "text": [
      "eigenvalues shape torch.Size([5]) eigenvectors shape torch.Size([5, 400])\n",
      "101 /home/phdcs2/Hard_Disk/Datasets/Deep-Spectral-Segmentation/data/object-segmentation/ECSSD/features/dino_vits16/0102.pth\n",
      "0102\n",
      "Starting Training\n",
      "epoch: 00, loss: -0.37314\n",
      "epoch: 01, loss: -0.38014\n",
      "epoch: 02, loss: -0.38315\n",
      "epoch: 03, loss: -0.38671\n",
      "epoch: 04, loss: -0.39033\n",
      "epoch: 05, loss: -0.39276\n",
      "epoch: 06, loss: -0.39216\n",
      "epoch: 07, loss: -0.39359\n",
      "epoch: 08, loss: -0.39532\n",
      "epoch: 09, loss: -0.39826\n"
     ]
    },
    {
     "name": "stderr",
     "output_type": "stream",
     "text": [
      " 10%|█         | 102/1000 [38:14<4:52:30, 19.54s/it]"
     ]
    },
    {
     "name": "stdout",
     "output_type": "stream",
     "text": [
      "eigenvalues shape torch.Size([5]) eigenvectors shape torch.Size([5, 400])\n",
      "102 /home/phdcs2/Hard_Disk/Datasets/Deep-Spectral-Segmentation/data/object-segmentation/ECSSD/features/dino_vits16/0103.pth\n",
      "0103\n",
      "Starting Training\n",
      "epoch: 00, loss: -0.60695\n",
      "epoch: 01, loss: -0.64071\n",
      "epoch: 02, loss: -0.64311\n",
      "epoch: 03, loss: -0.64446\n",
      "epoch: 04, loss: -0.64643\n",
      "epoch: 05, loss: -0.64702\n",
      "epoch: 06, loss: -0.64809\n",
      "epoch: 07, loss: -0.64885\n",
      "epoch: 08, loss: -0.64955\n",
      "epoch: 09, loss: -0.65014\n"
     ]
    },
    {
     "name": "stderr",
     "output_type": "stream",
     "text": [
      " 10%|█         | 103/1000 [38:38<5:13:58, 21.00s/it]"
     ]
    },
    {
     "name": "stdout",
     "output_type": "stream",
     "text": [
      "eigenvalues shape torch.Size([5]) eigenvectors shape torch.Size([5, 400])\n",
      "103 /home/phdcs2/Hard_Disk/Datasets/Deep-Spectral-Segmentation/data/object-segmentation/ECSSD/features/dino_vits16/0104.pth\n",
      "0104\n",
      "Starting Training\n",
      "epoch: 00, loss: -0.37774\n",
      "epoch: 01, loss: -0.38140\n",
      "epoch: 02, loss: -0.38268\n",
      "epoch: 03, loss: -0.38397\n",
      "epoch: 04, loss: -0.38209\n",
      "epoch: 05, loss: -0.38052\n",
      "epoch: 06, loss: -0.38196\n",
      "epoch: 07, loss: -0.38430\n",
      "epoch: 08, loss: -0.38768\n",
      "epoch: 09, loss: -0.39237\n"
     ]
    },
    {
     "name": "stderr",
     "output_type": "stream",
     "text": [
      " 10%|█         | 104/1000 [38:59<5:11:15, 20.84s/it]"
     ]
    },
    {
     "name": "stdout",
     "output_type": "stream",
     "text": [
      "eigenvalues shape torch.Size([5]) eigenvectors shape torch.Size([5, 400])\n",
      "104 /home/phdcs2/Hard_Disk/Datasets/Deep-Spectral-Segmentation/data/object-segmentation/ECSSD/features/dino_vits16/0105.pth\n",
      "0105\n",
      "Starting Training\n",
      "epoch: 00, loss: -0.37876\n",
      "epoch: 01, loss: -0.38145\n",
      "epoch: 02, loss: -0.38564\n",
      "epoch: 03, loss: -0.38974\n",
      "epoch: 04, loss: -0.39404\n",
      "epoch: 05, loss: -0.39732\n",
      "epoch: 06, loss: -0.40028\n",
      "epoch: 07, loss: -0.40175\n",
      "epoch: 08, loss: -0.40463\n",
      "epoch: 09, loss: -0.40732\n"
     ]
    },
    {
     "name": "stderr",
     "output_type": "stream",
     "text": [
      " 10%|█         | 105/1000 [39:19<5:06:49, 20.57s/it]"
     ]
    },
    {
     "name": "stdout",
     "output_type": "stream",
     "text": [
      "eigenvalues shape torch.Size([5]) eigenvectors shape torch.Size([5, 400])\n",
      "105 /home/phdcs2/Hard_Disk/Datasets/Deep-Spectral-Segmentation/data/object-segmentation/ECSSD/features/dino_vits16/0106.pth\n",
      "0106\n",
      "Starting Training\n",
      "epoch: 00, loss: -0.37312\n",
      "epoch: 01, loss: -0.36251\n",
      "epoch: 02, loss: -0.36844\n",
      "epoch: 03, loss: -0.37427\n",
      "epoch: 04, loss: -0.38049\n",
      "epoch: 05, loss: -0.38658\n",
      "epoch: 06, loss: -0.39095\n",
      "epoch: 07, loss: -0.39442\n",
      "epoch: 08, loss: -0.39637\n",
      "epoch: 09, loss: -0.39794\n"
     ]
    },
    {
     "name": "stderr",
     "output_type": "stream",
     "text": [
      " 11%|█         | 106/1000 [39:43<5:21:42, 21.59s/it]"
     ]
    },
    {
     "name": "stdout",
     "output_type": "stream",
     "text": [
      "eigenvalues shape torch.Size([5]) eigenvectors shape torch.Size([5, 400])\n",
      "106 /home/phdcs2/Hard_Disk/Datasets/Deep-Spectral-Segmentation/data/object-segmentation/ECSSD/features/dino_vits16/0107.pth\n",
      "0107\n",
      "Starting Training\n",
      "epoch: 00, loss: -0.38709\n",
      "epoch: 01, loss: -0.39613\n",
      "epoch: 02, loss: -0.39475\n",
      "epoch: 03, loss: -0.39427\n",
      "epoch: 04, loss: -0.39479\n",
      "epoch: 05, loss: -0.39515\n",
      "epoch: 06, loss: -0.39634\n",
      "epoch: 07, loss: -0.39639\n",
      "epoch: 08, loss: -0.39672\n",
      "epoch: 09, loss: -0.39693\n"
     ]
    },
    {
     "name": "stderr",
     "output_type": "stream",
     "text": [
      " 11%|█         | 107/1000 [40:03<5:15:10, 21.18s/it]"
     ]
    },
    {
     "name": "stdout",
     "output_type": "stream",
     "text": [
      "eigenvalues shape torch.Size([5]) eigenvectors shape torch.Size([5, 400])\n",
      "107 /home/phdcs2/Hard_Disk/Datasets/Deep-Spectral-Segmentation/data/object-segmentation/ECSSD/features/dino_vits16/0108.pth\n",
      "0108\n",
      "Starting Training\n",
      "epoch: 00, loss: -0.36374\n",
      "epoch: 01, loss: -0.37142\n",
      "epoch: 02, loss: -0.38148\n",
      "epoch: 03, loss: -0.39793\n",
      "epoch: 04, loss: -0.41093\n",
      "epoch: 05, loss: -0.42266\n",
      "epoch: 06, loss: -0.43255\n",
      "epoch: 07, loss: -0.43824\n",
      "epoch: 08, loss: -0.44076\n",
      "epoch: 09, loss: -0.44544\n"
     ]
    },
    {
     "name": "stderr",
     "output_type": "stream",
     "text": [
      " 11%|█         | 108/1000 [40:24<5:12:27, 21.02s/it]"
     ]
    },
    {
     "name": "stdout",
     "output_type": "stream",
     "text": [
      "eigenvalues shape torch.Size([5]) eigenvectors shape torch.Size([5, 400])\n",
      "108 /home/phdcs2/Hard_Disk/Datasets/Deep-Spectral-Segmentation/data/object-segmentation/ECSSD/features/dino_vits16/0109.pth\n",
      "0109\n",
      "Starting Training\n",
      "epoch: 00, loss: -0.58257\n",
      "epoch: 01, loss: -0.63230\n",
      "epoch: 02, loss: -0.63345\n",
      "epoch: 03, loss: -0.63382\n",
      "epoch: 04, loss: -0.63363\n",
      "epoch: 05, loss: -0.63349\n",
      "epoch: 06, loss: -0.63373\n",
      "epoch: 07, loss: -0.63336\n",
      "epoch: 08, loss: -0.63326\n",
      "epoch: 09, loss: -0.63289\n"
     ]
    },
    {
     "name": "stderr",
     "output_type": "stream",
     "text": [
      " 11%|█         | 109/1000 [40:43<5:04:32, 20.51s/it]"
     ]
    },
    {
     "name": "stdout",
     "output_type": "stream",
     "text": [
      "eigenvalues shape torch.Size([5]) eigenvectors shape torch.Size([5, 400])\n",
      "109 /home/phdcs2/Hard_Disk/Datasets/Deep-Spectral-Segmentation/data/object-segmentation/ECSSD/features/dino_vits16/0110.pth\n",
      "0110\n",
      "Starting Training\n",
      "epoch: 00, loss: -0.34862\n",
      "epoch: 01, loss: -0.35400\n",
      "epoch: 02, loss: -0.35812\n",
      "epoch: 03, loss: -0.36261\n",
      "epoch: 04, loss: -0.36501\n",
      "epoch: 05, loss: -0.36792\n",
      "epoch: 06, loss: -0.37041\n",
      "epoch: 07, loss: -0.37345\n",
      "epoch: 08, loss: -0.37493\n",
      "epoch: 09, loss: -0.37615\n"
     ]
    },
    {
     "name": "stderr",
     "output_type": "stream",
     "text": [
      " 11%|█         | 110/1000 [41:08<5:23:21, 21.80s/it]"
     ]
    },
    {
     "name": "stdout",
     "output_type": "stream",
     "text": [
      "eigenvalues shape torch.Size([5]) eigenvectors shape torch.Size([5, 400])\n",
      "110 /home/phdcs2/Hard_Disk/Datasets/Deep-Spectral-Segmentation/data/object-segmentation/ECSSD/features/dino_vits16/0111.pth\n",
      "0111\n",
      "Starting Training\n",
      "epoch: 00, loss: -0.37829\n",
      "epoch: 01, loss: -0.38803\n",
      "epoch: 02, loss: -0.39178\n",
      "epoch: 03, loss: -0.39287\n",
      "epoch: 04, loss: -0.39371\n",
      "epoch: 05, loss: -0.39529\n",
      "epoch: 06, loss: -0.39624\n",
      "epoch: 07, loss: -0.39683\n",
      "epoch: 08, loss: -0.39762\n",
      "epoch: 09, loss: -0.39773\n"
     ]
    },
    {
     "name": "stderr",
     "output_type": "stream",
     "text": [
      " 11%|█         | 111/1000 [41:33<5:36:27, 22.71s/it]"
     ]
    },
    {
     "name": "stdout",
     "output_type": "stream",
     "text": [
      "eigenvalues shape torch.Size([5]) eigenvectors shape torch.Size([5, 400])\n",
      "111 /home/phdcs2/Hard_Disk/Datasets/Deep-Spectral-Segmentation/data/object-segmentation/ECSSD/features/dino_vits16/0112.pth\n",
      "0112\n",
      "Starting Training\n",
      "epoch: 00, loss: -0.42588\n",
      "epoch: 01, loss: -0.44028\n",
      "epoch: 02, loss: -0.43793\n",
      "epoch: 03, loss: -0.43802\n",
      "epoch: 04, loss: -0.43913\n",
      "epoch: 05, loss: -0.43961\n",
      "epoch: 06, loss: -0.44204\n",
      "epoch: 07, loss: -0.44165\n",
      "epoch: 08, loss: -0.44226\n",
      "epoch: 09, loss: -0.44283\n"
     ]
    },
    {
     "name": "stderr",
     "output_type": "stream",
     "text": [
      " 11%|█         | 112/1000 [41:56<5:37:45, 22.82s/it]"
     ]
    },
    {
     "name": "stdout",
     "output_type": "stream",
     "text": [
      "eigenvalues shape torch.Size([5]) eigenvectors shape torch.Size([5, 400])\n",
      "112 /home/phdcs2/Hard_Disk/Datasets/Deep-Spectral-Segmentation/data/object-segmentation/ECSSD/features/dino_vits16/0113.pth\n",
      "0113\n",
      "Starting Training\n",
      "epoch: 00, loss: -0.47765\n",
      "epoch: 01, loss: -0.48190\n",
      "epoch: 02, loss: -0.48689\n",
      "epoch: 03, loss: -0.49001\n",
      "epoch: 04, loss: -0.49363\n",
      "epoch: 05, loss: -0.49668\n",
      "epoch: 06, loss: -0.50022\n",
      "epoch: 07, loss: -0.50241\n",
      "epoch: 08, loss: -0.50535\n",
      "epoch: 09, loss: -0.50755\n"
     ]
    },
    {
     "name": "stderr",
     "output_type": "stream",
     "text": [
      " 11%|█▏        | 113/1000 [42:18<5:32:56, 22.52s/it]"
     ]
    },
    {
     "name": "stdout",
     "output_type": "stream",
     "text": [
      "eigenvalues shape torch.Size([5]) eigenvectors shape torch.Size([5, 400])\n",
      "113 /home/phdcs2/Hard_Disk/Datasets/Deep-Spectral-Segmentation/data/object-segmentation/ECSSD/features/dino_vits16/0114.pth\n",
      "0114\n",
      "Starting Training\n",
      "epoch: 00, loss: -0.42208\n",
      "epoch: 01, loss: -0.44325\n",
      "epoch: 02, loss: -0.44570\n",
      "epoch: 03, loss: -0.44840\n",
      "epoch: 04, loss: -0.44982\n",
      "epoch: 05, loss: -0.45280\n",
      "epoch: 06, loss: -0.45433\n",
      "epoch: 07, loss: -0.45569\n",
      "epoch: 08, loss: -0.45673\n",
      "epoch: 09, loss: -0.45751\n"
     ]
    },
    {
     "name": "stderr",
     "output_type": "stream",
     "text": [
      " 11%|█▏        | 114/1000 [42:37<5:19:53, 21.66s/it]"
     ]
    },
    {
     "name": "stdout",
     "output_type": "stream",
     "text": [
      "eigenvalues shape torch.Size([5]) eigenvectors shape torch.Size([5, 400])\n",
      "114 /home/phdcs2/Hard_Disk/Datasets/Deep-Spectral-Segmentation/data/object-segmentation/ECSSD/features/dino_vits16/0115.pth\n",
      "0115\n",
      "Starting Training\n",
      "epoch: 00, loss: -0.36937\n",
      "epoch: 01, loss: -0.37246\n",
      "epoch: 02, loss: -0.37401\n",
      "epoch: 03, loss: -0.37233\n",
      "epoch: 04, loss: -0.37345\n",
      "epoch: 05, loss: -0.37298\n",
      "epoch: 06, loss: -0.37202\n",
      "epoch: 07, loss: -0.37257\n",
      "epoch: 08, loss: -0.37407\n",
      "epoch: 09, loss: -0.37705\n"
     ]
    },
    {
     "name": "stderr",
     "output_type": "stream",
     "text": [
      " 12%|█▏        | 115/1000 [42:59<5:19:50, 21.68s/it]"
     ]
    },
    {
     "name": "stdout",
     "output_type": "stream",
     "text": [
      "eigenvalues shape torch.Size([5]) eigenvectors shape torch.Size([5, 400])\n",
      "115 /home/phdcs2/Hard_Disk/Datasets/Deep-Spectral-Segmentation/data/object-segmentation/ECSSD/features/dino_vits16/0116.pth\n",
      "0116\n",
      "Starting Training\n",
      "epoch: 00, loss: -0.39815\n",
      "epoch: 01, loss: -0.40817\n",
      "epoch: 02, loss: -0.40857\n",
      "epoch: 03, loss: -0.40842\n",
      "epoch: 04, loss: -0.40682\n",
      "epoch: 05, loss: -0.40580\n",
      "epoch: 06, loss: -0.40336\n",
      "epoch: 07, loss: -0.40313\n",
      "epoch: 08, loss: -0.40179\n",
      "epoch: 09, loss: -0.40065\n"
     ]
    },
    {
     "name": "stderr",
     "output_type": "stream",
     "text": [
      " 12%|█▏        | 116/1000 [43:25<5:39:46, 23.06s/it]"
     ]
    },
    {
     "name": "stdout",
     "output_type": "stream",
     "text": [
      "eigenvalues shape torch.Size([5]) eigenvectors shape torch.Size([5, 400])\n",
      "116 /home/phdcs2/Hard_Disk/Datasets/Deep-Spectral-Segmentation/data/object-segmentation/ECSSD/features/dino_vits16/0117.pth\n",
      "0117\n",
      "Starting Training\n",
      "epoch: 00, loss: -0.39485\n",
      "epoch: 01, loss: -0.39654\n",
      "epoch: 02, loss: -0.40050\n",
      "epoch: 03, loss: -0.40283\n",
      "epoch: 04, loss: -0.40369\n",
      "epoch: 05, loss: -0.40532\n",
      "epoch: 06, loss: -0.40758\n",
      "epoch: 07, loss: -0.41037\n",
      "epoch: 08, loss: -0.41189\n",
      "epoch: 09, loss: -0.41377\n"
     ]
    },
    {
     "name": "stderr",
     "output_type": "stream",
     "text": [
      " 12%|█▏        | 117/1000 [43:49<5:41:15, 23.19s/it]"
     ]
    },
    {
     "name": "stdout",
     "output_type": "stream",
     "text": [
      "eigenvalues shape torch.Size([5]) eigenvectors shape torch.Size([5, 400])\n",
      "117 /home/phdcs2/Hard_Disk/Datasets/Deep-Spectral-Segmentation/data/object-segmentation/ECSSD/features/dino_vits16/0118.pth\n",
      "0118\n",
      "Starting Training\n",
      "epoch: 00, loss: -0.37956\n",
      "epoch: 01, loss: -0.38623\n",
      "epoch: 02, loss: -0.38686\n",
      "epoch: 03, loss: -0.38846\n",
      "epoch: 04, loss: -0.38958\n",
      "epoch: 05, loss: -0.39136\n",
      "epoch: 06, loss: -0.39283\n",
      "epoch: 07, loss: -0.39423\n",
      "epoch: 08, loss: -0.39472\n",
      "epoch: 09, loss: -0.39539\n"
     ]
    },
    {
     "name": "stderr",
     "output_type": "stream",
     "text": [
      " 12%|█▏        | 118/1000 [44:09<5:30:07, 22.46s/it]"
     ]
    },
    {
     "name": "stdout",
     "output_type": "stream",
     "text": [
      "eigenvalues shape torch.Size([5]) eigenvectors shape torch.Size([5, 400])\n",
      "118 /home/phdcs2/Hard_Disk/Datasets/Deep-Spectral-Segmentation/data/object-segmentation/ECSSD/features/dino_vits16/0119.pth\n",
      "0119\n",
      "Starting Training\n",
      "epoch: 00, loss: -0.62833\n",
      "epoch: 01, loss: -0.68164\n",
      "epoch: 02, loss: -0.68490\n",
      "epoch: 03, loss: -0.68699\n",
      "epoch: 04, loss: -0.68843\n",
      "epoch: 05, loss: -0.68903\n",
      "epoch: 06, loss: -0.68989\n",
      "epoch: 07, loss: -0.69062\n",
      "epoch: 08, loss: -0.69123\n",
      "epoch: 09, loss: -0.69183\n"
     ]
    },
    {
     "name": "stderr",
     "output_type": "stream",
     "text": [
      " 12%|█▏        | 119/1000 [44:30<5:21:28, 21.89s/it]"
     ]
    },
    {
     "name": "stdout",
     "output_type": "stream",
     "text": [
      "eigenvalues shape torch.Size([5]) eigenvectors shape torch.Size([5, 400])\n",
      "119 /home/phdcs2/Hard_Disk/Datasets/Deep-Spectral-Segmentation/data/object-segmentation/ECSSD/features/dino_vits16/0120.pth\n",
      "0120\n",
      "Starting Training\n",
      "epoch: 00, loss: -0.42237\n",
      "epoch: 01, loss: -0.44702\n",
      "epoch: 02, loss: -0.44866\n",
      "epoch: 03, loss: -0.45078\n",
      "epoch: 04, loss: -0.45166\n",
      "epoch: 05, loss: -0.45356\n",
      "epoch: 06, loss: -0.45530\n",
      "epoch: 07, loss: -0.45684\n",
      "epoch: 08, loss: -0.45773\n",
      "epoch: 09, loss: -0.45902\n"
     ]
    },
    {
     "name": "stderr",
     "output_type": "stream",
     "text": [
      " 12%|█▏        | 120/1000 [44:49<5:09:11, 21.08s/it]"
     ]
    },
    {
     "name": "stdout",
     "output_type": "stream",
     "text": [
      "eigenvalues shape torch.Size([5]) eigenvectors shape torch.Size([5, 400])\n",
      "120 /home/phdcs2/Hard_Disk/Datasets/Deep-Spectral-Segmentation/data/object-segmentation/ECSSD/features/dino_vits16/0121.pth\n",
      "0121\n",
      "Starting Training\n",
      "epoch: 00, loss: -0.38596\n",
      "epoch: 01, loss: -0.38912\n",
      "epoch: 02, loss: -0.38705\n",
      "epoch: 03, loss: -0.38644\n",
      "epoch: 04, loss: -0.38469\n",
      "epoch: 05, loss: -0.38489\n",
      "epoch: 06, loss: -0.38543\n",
      "epoch: 07, loss: -0.38622\n",
      "epoch: 08, loss: -0.38646\n",
      "epoch: 09, loss: -0.38726\n"
     ]
    },
    {
     "name": "stderr",
     "output_type": "stream",
     "text": [
      " 12%|█▏        | 121/1000 [45:11<5:10:16, 21.18s/it]"
     ]
    },
    {
     "name": "stdout",
     "output_type": "stream",
     "text": [
      "eigenvalues shape torch.Size([5]) eigenvectors shape torch.Size([5, 400])\n",
      "121 /home/phdcs2/Hard_Disk/Datasets/Deep-Spectral-Segmentation/data/object-segmentation/ECSSD/features/dino_vits16/0122.pth\n",
      "0122\n",
      "Starting Training\n",
      "epoch: 00, loss: -0.38712\n",
      "epoch: 01, loss: -0.38757\n",
      "epoch: 02, loss: -0.38567\n",
      "epoch: 03, loss: -0.38493\n",
      "epoch: 04, loss: -0.38380\n",
      "epoch: 05, loss: -0.38195\n",
      "epoch: 06, loss: -0.38140\n",
      "epoch: 07, loss: -0.38199\n",
      "epoch: 08, loss: -0.38162\n",
      "epoch: 09, loss: -0.38089\n"
     ]
    },
    {
     "name": "stderr",
     "output_type": "stream",
     "text": [
      " 12%|█▏        | 122/1000 [45:29<4:58:53, 20.43s/it]"
     ]
    },
    {
     "name": "stdout",
     "output_type": "stream",
     "text": [
      "eigenvalues shape torch.Size([5]) eigenvectors shape torch.Size([5, 400])\n",
      "122 /home/phdcs2/Hard_Disk/Datasets/Deep-Spectral-Segmentation/data/object-segmentation/ECSSD/features/dino_vits16/0123.pth\n",
      "0123\n",
      "Starting Training\n",
      "epoch: 00, loss: -0.36567\n",
      "epoch: 01, loss: -0.36929\n",
      "epoch: 02, loss: -0.37285\n",
      "epoch: 03, loss: -0.37838\n",
      "epoch: 04, loss: -0.38662\n",
      "epoch: 05, loss: -0.39748\n",
      "epoch: 06, loss: -0.40649\n",
      "epoch: 07, loss: -0.41733\n",
      "epoch: 08, loss: -0.42492\n",
      "epoch: 09, loss: -0.43072\n"
     ]
    },
    {
     "name": "stderr",
     "output_type": "stream",
     "text": [
      " 12%|█▏        | 123/1000 [45:48<4:49:12, 19.79s/it]"
     ]
    },
    {
     "name": "stdout",
     "output_type": "stream",
     "text": [
      "eigenvalues shape torch.Size([5]) eigenvectors shape torch.Size([5, 400])\n",
      "123 /home/phdcs2/Hard_Disk/Datasets/Deep-Spectral-Segmentation/data/object-segmentation/ECSSD/features/dino_vits16/0124.pth\n",
      "0124\n",
      "Starting Training\n",
      "epoch: 00, loss: -0.39885\n",
      "epoch: 01, loss: -0.41164\n",
      "epoch: 02, loss: -0.42641\n",
      "epoch: 03, loss: -0.45007\n",
      "epoch: 04, loss: -0.46702\n",
      "epoch: 05, loss: -0.47583\n",
      "epoch: 06, loss: -0.48299\n",
      "epoch: 07, loss: -0.48822\n",
      "epoch: 08, loss: -0.49254\n",
      "epoch: 09, loss: -0.49551\n"
     ]
    },
    {
     "name": "stderr",
     "output_type": "stream",
     "text": [
      " 12%|█▏        | 124/1000 [46:08<4:49:56, 19.86s/it]"
     ]
    },
    {
     "name": "stdout",
     "output_type": "stream",
     "text": [
      "eigenvalues shape torch.Size([5]) eigenvectors shape torch.Size([5, 400])\n",
      "124 /home/phdcs2/Hard_Disk/Datasets/Deep-Spectral-Segmentation/data/object-segmentation/ECSSD/features/dino_vits16/0125.pth\n",
      "0125\n",
      "Starting Training\n",
      "epoch: 00, loss: -0.39663\n",
      "epoch: 01, loss: -0.41110\n",
      "epoch: 02, loss: -0.41635\n",
      "epoch: 03, loss: -0.42122\n",
      "epoch: 04, loss: -0.42474\n",
      "epoch: 05, loss: -0.42760\n",
      "epoch: 06, loss: -0.42902\n",
      "epoch: 07, loss: -0.43108\n",
      "epoch: 08, loss: -0.43368\n",
      "epoch: 09, loss: -0.43505\n"
     ]
    },
    {
     "name": "stderr",
     "output_type": "stream",
     "text": [
      " 12%|█▎        | 125/1000 [46:27<4:46:52, 19.67s/it]"
     ]
    },
    {
     "name": "stdout",
     "output_type": "stream",
     "text": [
      "eigenvalues shape torch.Size([5]) eigenvectors shape torch.Size([5, 400])\n",
      "125 /home/phdcs2/Hard_Disk/Datasets/Deep-Spectral-Segmentation/data/object-segmentation/ECSSD/features/dino_vits16/0126.pth\n",
      "0126\n",
      "Starting Training\n",
      "epoch: 00, loss: -0.36319\n",
      "epoch: 01, loss: -0.37387\n",
      "epoch: 02, loss: -0.37844\n",
      "epoch: 03, loss: -0.38146\n",
      "epoch: 04, loss: -0.38393\n",
      "epoch: 05, loss: -0.38549\n",
      "epoch: 06, loss: -0.38640\n",
      "epoch: 07, loss: -0.38755\n",
      "epoch: 08, loss: -0.38832\n",
      "epoch: 09, loss: -0.38963\n"
     ]
    },
    {
     "name": "stderr",
     "output_type": "stream",
     "text": [
      " 13%|█▎        | 126/1000 [46:51<5:07:03, 21.08s/it]"
     ]
    },
    {
     "name": "stdout",
     "output_type": "stream",
     "text": [
      "eigenvalues shape torch.Size([5]) eigenvectors shape torch.Size([5, 400])\n",
      "126 /home/phdcs2/Hard_Disk/Datasets/Deep-Spectral-Segmentation/data/object-segmentation/ECSSD/features/dino_vits16/0127.pth\n",
      "0127\n",
      "Starting Training\n",
      "epoch: 00, loss: -0.40463\n",
      "epoch: 01, loss: -0.41455\n",
      "epoch: 02, loss: -0.41356\n",
      "epoch: 03, loss: -0.41165\n",
      "epoch: 04, loss: -0.40840\n",
      "epoch: 05, loss: -0.40537\n",
      "epoch: 06, loss: -0.40393\n",
      "epoch: 07, loss: -0.40261\n",
      "epoch: 08, loss: -0.40147\n",
      "epoch: 09, loss: -0.40098\n"
     ]
    },
    {
     "name": "stderr",
     "output_type": "stream",
     "text": [
      " 13%|█▎        | 127/1000 [47:15<5:19:43, 21.97s/it]"
     ]
    },
    {
     "name": "stdout",
     "output_type": "stream",
     "text": [
      "eigenvalues shape torch.Size([5]) eigenvectors shape torch.Size([5, 400])\n",
      "127 /home/phdcs2/Hard_Disk/Datasets/Deep-Spectral-Segmentation/data/object-segmentation/ECSSD/features/dino_vits16/0128.pth\n",
      "0128\n",
      "Starting Training\n",
      "epoch: 00, loss: -0.48077\n",
      "epoch: 01, loss: -0.48627\n",
      "epoch: 02, loss: -0.49972\n",
      "epoch: 03, loss: -0.50964\n",
      "epoch: 04, loss: -0.51686\n",
      "epoch: 05, loss: -0.52253\n",
      "epoch: 06, loss: -0.52709\n",
      "epoch: 07, loss: -0.53161\n",
      "epoch: 08, loss: -0.53603\n",
      "epoch: 09, loss: -0.53980\n"
     ]
    },
    {
     "name": "stderr",
     "output_type": "stream",
     "text": [
      " 13%|█▎        | 128/1000 [47:35<5:08:12, 21.21s/it]"
     ]
    },
    {
     "name": "stdout",
     "output_type": "stream",
     "text": [
      "eigenvalues shape torch.Size([5]) eigenvectors shape torch.Size([5, 400])\n",
      "128 /home/phdcs2/Hard_Disk/Datasets/Deep-Spectral-Segmentation/data/object-segmentation/ECSSD/features/dino_vits16/0129.pth\n",
      "0129\n",
      "Starting Training\n",
      "epoch: 00, loss: -0.38323\n",
      "epoch: 01, loss: -0.39162\n",
      "epoch: 02, loss: -0.39732\n",
      "epoch: 03, loss: -0.40378\n",
      "epoch: 04, loss: -0.40994\n",
      "epoch: 05, loss: -0.41373\n",
      "epoch: 06, loss: -0.42005\n",
      "epoch: 07, loss: -0.42674\n",
      "epoch: 08, loss: -0.43323\n",
      "epoch: 09, loss: -0.43916\n"
     ]
    },
    {
     "name": "stderr",
     "output_type": "stream",
     "text": [
      " 13%|█▎        | 129/1000 [47:54<5:00:56, 20.73s/it]"
     ]
    },
    {
     "name": "stdout",
     "output_type": "stream",
     "text": [
      "eigenvalues shape torch.Size([5]) eigenvectors shape torch.Size([5, 425])\n",
      "129 /home/phdcs2/Hard_Disk/Datasets/Deep-Spectral-Segmentation/data/object-segmentation/ECSSD/features/dino_vits16/0130.pth\n",
      "0130\n",
      "Starting Training\n",
      "epoch: 00, loss: -0.36769\n",
      "epoch: 01, loss: -0.36711\n",
      "epoch: 02, loss: -0.36897\n",
      "epoch: 03, loss: -0.37133\n",
      "epoch: 04, loss: -0.37659\n",
      "epoch: 05, loss: -0.38319\n",
      "epoch: 06, loss: -0.38857\n",
      "epoch: 07, loss: -0.39334\n",
      "epoch: 08, loss: -0.39688\n",
      "epoch: 09, loss: -0.39952\n"
     ]
    },
    {
     "name": "stderr",
     "output_type": "stream",
     "text": [
      " 13%|█▎        | 130/1000 [48:15<5:01:53, 20.82s/it]"
     ]
    },
    {
     "name": "stdout",
     "output_type": "stream",
     "text": [
      "eigenvalues shape torch.Size([5]) eigenvectors shape torch.Size([5, 425])\n",
      "130 /home/phdcs2/Hard_Disk/Datasets/Deep-Spectral-Segmentation/data/object-segmentation/ECSSD/features/dino_vits16/0131.pth\n",
      "0131\n",
      "Starting Training\n",
      "epoch: 00, loss: -0.61161\n",
      "epoch: 01, loss: -0.65459\n",
      "epoch: 02, loss: -0.65799\n",
      "epoch: 03, loss: -0.66040\n",
      "epoch: 04, loss: -0.66243\n",
      "epoch: 05, loss: -0.66358\n",
      "epoch: 06, loss: -0.66450\n",
      "epoch: 07, loss: -0.66539\n",
      "epoch: 08, loss: -0.66639\n",
      "epoch: 09, loss: -0.66692\n"
     ]
    },
    {
     "name": "stderr",
     "output_type": "stream",
     "text": [
      " 13%|█▎        | 131/1000 [48:38<5:09:44, 21.39s/it]"
     ]
    },
    {
     "name": "stdout",
     "output_type": "stream",
     "text": [
      "eigenvalues shape torch.Size([5]) eigenvectors shape torch.Size([5, 450])\n",
      "131 /home/phdcs2/Hard_Disk/Datasets/Deep-Spectral-Segmentation/data/object-segmentation/ECSSD/features/dino_vits16/0132.pth\n",
      "0132\n",
      "Starting Training\n",
      "epoch: 00, loss: -0.38278\n",
      "epoch: 01, loss: -0.39807\n",
      "epoch: 02, loss: -0.40059\n",
      "epoch: 03, loss: -0.40207\n",
      "epoch: 04, loss: -0.40361\n",
      "epoch: 05, loss: -0.40553\n",
      "epoch: 06, loss: -0.40640\n",
      "epoch: 07, loss: -0.40702\n",
      "epoch: 08, loss: -0.40721\n",
      "epoch: 09, loss: -0.40601\n"
     ]
    },
    {
     "name": "stderr",
     "output_type": "stream",
     "text": [
      " 13%|█▎        | 132/1000 [48:59<5:08:07, 21.30s/it]"
     ]
    },
    {
     "name": "stdout",
     "output_type": "stream",
     "text": [
      "eigenvalues shape torch.Size([5]) eigenvectors shape torch.Size([5, 400])\n",
      "132 /home/phdcs2/Hard_Disk/Datasets/Deep-Spectral-Segmentation/data/object-segmentation/ECSSD/features/dino_vits16/0133.pth\n",
      "0133\n",
      "Starting Training\n",
      "epoch: 00, loss: -0.38942\n",
      "epoch: 01, loss: -0.39302\n",
      "epoch: 02, loss: -0.39441\n",
      "epoch: 03, loss: -0.39528\n",
      "epoch: 04, loss: -0.39616\n",
      "epoch: 05, loss: -0.39618\n",
      "epoch: 06, loss: -0.39530\n",
      "epoch: 07, loss: -0.39552\n",
      "epoch: 08, loss: -0.39455\n",
      "epoch: 09, loss: -0.39462\n"
     ]
    },
    {
     "name": "stderr",
     "output_type": "stream",
     "text": [
      " 13%|█▎        | 133/1000 [49:27<5:34:45, 23.17s/it]"
     ]
    },
    {
     "name": "stdout",
     "output_type": "stream",
     "text": [
      "eigenvalues shape torch.Size([5]) eigenvectors shape torch.Size([5, 525])\n",
      "133 /home/phdcs2/Hard_Disk/Datasets/Deep-Spectral-Segmentation/data/object-segmentation/ECSSD/features/dino_vits16/0134.pth\n",
      "0134\n",
      "Starting Training\n",
      "epoch: 00, loss: -0.60767\n",
      "epoch: 01, loss: -0.64473\n",
      "epoch: 02, loss: -0.64977\n",
      "epoch: 03, loss: -0.65252\n",
      "epoch: 04, loss: -0.65422\n",
      "epoch: 05, loss: -0.65593\n",
      "epoch: 06, loss: -0.65716\n",
      "epoch: 07, loss: -0.65878\n",
      "epoch: 08, loss: -0.65969\n",
      "epoch: 09, loss: -0.66034\n"
     ]
    },
    {
     "name": "stderr",
     "output_type": "stream",
     "text": [
      " 13%|█▎        | 134/1000 [49:50<5:35:06, 23.22s/it]"
     ]
    },
    {
     "name": "stdout",
     "output_type": "stream",
     "text": [
      "eigenvalues shape torch.Size([5]) eigenvectors shape torch.Size([5, 400])\n",
      "134 /home/phdcs2/Hard_Disk/Datasets/Deep-Spectral-Segmentation/data/object-segmentation/ECSSD/features/dino_vits16/0135.pth\n",
      "0135\n",
      "Starting Training\n",
      "epoch: 00, loss: -0.39477\n",
      "epoch: 01, loss: -0.39266\n",
      "epoch: 02, loss: -0.39171\n",
      "epoch: 03, loss: -0.39207\n",
      "epoch: 04, loss: -0.39262\n",
      "epoch: 05, loss: -0.39238\n",
      "epoch: 06, loss: -0.39213\n",
      "epoch: 07, loss: -0.39211\n",
      "epoch: 08, loss: -0.39120\n",
      "epoch: 09, loss: -0.39188\n"
     ]
    },
    {
     "name": "stderr",
     "output_type": "stream",
     "text": [
      " 14%|█▎        | 135/1000 [50:16<5:48:05, 24.14s/it]"
     ]
    },
    {
     "name": "stdout",
     "output_type": "stream",
     "text": [
      "eigenvalues shape torch.Size([5]) eigenvectors shape torch.Size([5, 450])\n",
      "135 /home/phdcs2/Hard_Disk/Datasets/Deep-Spectral-Segmentation/data/object-segmentation/ECSSD/features/dino_vits16/0136.pth\n",
      "0136\n",
      "Starting Training\n",
      "epoch: 00, loss: -0.64036\n",
      "epoch: 01, loss: -0.68468\n",
      "epoch: 02, loss: -0.68700\n",
      "epoch: 03, loss: -0.68817\n",
      "epoch: 04, loss: -0.68860\n",
      "epoch: 05, loss: -0.68904\n",
      "epoch: 06, loss: -0.68904\n",
      "epoch: 07, loss: -0.68947\n",
      "epoch: 08, loss: -0.68947\n",
      "epoch: 09, loss: -0.68982\n"
     ]
    },
    {
     "name": "stderr",
     "output_type": "stream",
     "text": [
      " 14%|█▎        | 136/1000 [50:40<5:47:34, 24.14s/it]"
     ]
    },
    {
     "name": "stdout",
     "output_type": "stream",
     "text": [
      "eigenvalues shape torch.Size([5]) eigenvectors shape torch.Size([5, 450])\n",
      "136 /home/phdcs2/Hard_Disk/Datasets/Deep-Spectral-Segmentation/data/object-segmentation/ECSSD/features/dino_vits16/0137.pth\n",
      "0137\n",
      "Starting Training\n",
      "epoch: 00, loss: -0.36522\n",
      "epoch: 01, loss: -0.37932\n",
      "epoch: 02, loss: -0.39278\n",
      "epoch: 03, loss: -0.40337\n",
      "epoch: 04, loss: -0.40935\n",
      "epoch: 05, loss: -0.41435\n",
      "epoch: 06, loss: -0.41666\n",
      "epoch: 07, loss: -0.41813\n",
      "epoch: 08, loss: -0.42147\n",
      "epoch: 09, loss: -0.42367\n"
     ]
    },
    {
     "name": "stderr",
     "output_type": "stream",
     "text": [
      " 14%|█▎        | 137/1000 [51:06<5:52:15, 24.49s/it]"
     ]
    },
    {
     "name": "stdout",
     "output_type": "stream",
     "text": [
      "eigenvalues shape torch.Size([5]) eigenvectors shape torch.Size([5, 475])\n",
      "137 /home/phdcs2/Hard_Disk/Datasets/Deep-Spectral-Segmentation/data/object-segmentation/ECSSD/features/dino_vits16/0138.pth\n",
      "0138\n",
      "Starting Training\n",
      "epoch: 00, loss: -0.37855\n",
      "epoch: 01, loss: -0.37601\n",
      "epoch: 02, loss: -0.37464\n",
      "epoch: 03, loss: -0.37379\n",
      "epoch: 04, loss: -0.37386\n",
      "epoch: 05, loss: -0.37427\n",
      "epoch: 06, loss: -0.37418\n",
      "epoch: 07, loss: -0.37587\n",
      "epoch: 08, loss: -0.37706\n",
      "epoch: 09, loss: -0.37806\n"
     ]
    },
    {
     "name": "stderr",
     "output_type": "stream",
     "text": [
      " 14%|█▍        | 138/1000 [51:28<5:43:46, 23.93s/it]"
     ]
    },
    {
     "name": "stdout",
     "output_type": "stream",
     "text": [
      "eigenvalues shape torch.Size([5]) eigenvectors shape torch.Size([5, 450])\n",
      "138 /home/phdcs2/Hard_Disk/Datasets/Deep-Spectral-Segmentation/data/object-segmentation/ECSSD/features/dino_vits16/0139.pth\n",
      "0139\n",
      "Starting Training\n",
      "epoch: 00, loss: -0.41384\n",
      "epoch: 01, loss: -0.42622\n",
      "epoch: 02, loss: -0.42799\n",
      "epoch: 03, loss: -0.42993\n",
      "epoch: 04, loss: -0.43038\n",
      "epoch: 05, loss: -0.43175\n",
      "epoch: 06, loss: -0.43345\n",
      "epoch: 07, loss: -0.43534\n",
      "epoch: 08, loss: -0.43726\n",
      "epoch: 09, loss: -0.43858\n"
     ]
    },
    {
     "name": "stderr",
     "output_type": "stream",
     "text": [
      " 14%|█▍        | 139/1000 [51:54<5:48:49, 24.31s/it]"
     ]
    },
    {
     "name": "stdout",
     "output_type": "stream",
     "text": [
      "eigenvalues shape torch.Size([5]) eigenvectors shape torch.Size([5, 450])\n",
      "139 /home/phdcs2/Hard_Disk/Datasets/Deep-Spectral-Segmentation/data/object-segmentation/ECSSD/features/dino_vits16/0140.pth\n",
      "0140\n",
      "Starting Training\n",
      "epoch: 00, loss: -0.38159\n",
      "epoch: 01, loss: -0.38057\n",
      "epoch: 02, loss: -0.38169\n",
      "epoch: 03, loss: -0.38256\n",
      "epoch: 04, loss: -0.38328\n",
      "epoch: 05, loss: -0.38453\n",
      "epoch: 06, loss: -0.38533\n",
      "epoch: 07, loss: -0.38636\n",
      "epoch: 08, loss: -0.38714\n",
      "epoch: 09, loss: -0.38863\n"
     ]
    },
    {
     "name": "stderr",
     "output_type": "stream",
     "text": [
      " 14%|█▍        | 140/1000 [52:16<5:39:36, 23.69s/it]"
     ]
    },
    {
     "name": "stdout",
     "output_type": "stream",
     "text": [
      "eigenvalues shape torch.Size([5]) eigenvectors shape torch.Size([5, 450])\n",
      "140 /home/phdcs2/Hard_Disk/Datasets/Deep-Spectral-Segmentation/data/object-segmentation/ECSSD/features/dino_vits16/0141.pth\n",
      "0141\n",
      "Starting Training\n",
      "epoch: 00, loss: -0.35373\n",
      "epoch: 01, loss: -0.35194\n",
      "epoch: 02, loss: -0.35388\n",
      "epoch: 03, loss: -0.35780\n",
      "epoch: 04, loss: -0.36085\n",
      "epoch: 05, loss: -0.36265\n",
      "epoch: 06, loss: -0.36523\n",
      "epoch: 07, loss: -0.36791\n",
      "epoch: 08, loss: -0.37040\n",
      "epoch: 09, loss: -0.37316\n"
     ]
    },
    {
     "name": "stderr",
     "output_type": "stream",
     "text": [
      " 14%|█▍        | 141/1000 [52:32<5:08:50, 21.57s/it]"
     ]
    },
    {
     "name": "stdout",
     "output_type": "stream",
     "text": [
      "eigenvalues shape torch.Size([5]) eigenvectors shape torch.Size([5, 350])\n",
      "141 /home/phdcs2/Hard_Disk/Datasets/Deep-Spectral-Segmentation/data/object-segmentation/ECSSD/features/dino_vits16/0142.pth\n",
      "0142\n",
      "Starting Training\n",
      "epoch: 00, loss: -0.40385\n",
      "epoch: 01, loss: -0.43073\n",
      "epoch: 02, loss: -0.44033\n",
      "epoch: 03, loss: -0.44670\n",
      "epoch: 04, loss: -0.45064\n",
      "epoch: 05, loss: -0.45465\n",
      "epoch: 06, loss: -0.45756\n",
      "epoch: 07, loss: -0.46054\n",
      "epoch: 08, loss: -0.46247\n",
      "epoch: 09, loss: -0.46427\n"
     ]
    },
    {
     "name": "stderr",
     "output_type": "stream",
     "text": [
      " 14%|█▍        | 142/1000 [53:00<5:32:53, 23.28s/it]"
     ]
    },
    {
     "name": "stdout",
     "output_type": "stream",
     "text": [
      "eigenvalues shape torch.Size([5]) eigenvectors shape torch.Size([5, 450])\n",
      "142 /home/phdcs2/Hard_Disk/Datasets/Deep-Spectral-Segmentation/data/object-segmentation/ECSSD/features/dino_vits16/0143.pth\n",
      "0143\n",
      "Starting Training\n",
      "epoch: 00, loss: -0.40341\n",
      "epoch: 01, loss: -0.41098\n",
      "epoch: 02, loss: -0.41025\n",
      "epoch: 03, loss: -0.41038\n",
      "epoch: 04, loss: -0.41101\n",
      "epoch: 05, loss: -0.41195\n",
      "epoch: 06, loss: -0.41377\n",
      "epoch: 07, loss: -0.41468\n",
      "epoch: 08, loss: -0.41552\n",
      "epoch: 09, loss: -0.41590\n"
     ]
    },
    {
     "name": "stderr",
     "output_type": "stream",
     "text": [
      " 14%|█▍        | 143/1000 [53:28<5:52:06, 24.65s/it]"
     ]
    },
    {
     "name": "stdout",
     "output_type": "stream",
     "text": [
      "eigenvalues shape torch.Size([5]) eigenvectors shape torch.Size([5, 450])\n",
      "143 /home/phdcs2/Hard_Disk/Datasets/Deep-Spectral-Segmentation/data/object-segmentation/ECSSD/features/dino_vits16/0144.pth\n",
      "0144\n",
      "Starting Training\n",
      "epoch: 00, loss: -0.61396\n",
      "epoch: 01, loss: -0.63969\n",
      "epoch: 02, loss: -0.64097\n",
      "epoch: 03, loss: -0.64227\n",
      "epoch: 04, loss: -0.64304\n",
      "epoch: 05, loss: -0.64364\n",
      "epoch: 06, loss: -0.64438\n",
      "epoch: 07, loss: -0.64486\n",
      "epoch: 08, loss: -0.64501\n",
      "epoch: 09, loss: -0.64571\n"
     ]
    },
    {
     "name": "stderr",
     "output_type": "stream",
     "text": [
      " 14%|█▍        | 144/1000 [53:51<5:44:22, 24.14s/it]"
     ]
    },
    {
     "name": "stdout",
     "output_type": "stream",
     "text": [
      "eigenvalues shape torch.Size([5]) eigenvectors shape torch.Size([5, 425])\n",
      "144 /home/phdcs2/Hard_Disk/Datasets/Deep-Spectral-Segmentation/data/object-segmentation/ECSSD/features/dino_vits16/0145.pth\n",
      "0145\n",
      "Starting Training\n",
      "epoch: 00, loss: -0.42097\n",
      "epoch: 01, loss: -0.43014\n",
      "epoch: 02, loss: -0.43366\n",
      "epoch: 03, loss: -0.43631\n",
      "epoch: 04, loss: -0.43994\n",
      "epoch: 05, loss: -0.44298\n",
      "epoch: 06, loss: -0.44510\n",
      "epoch: 07, loss: -0.44771\n",
      "epoch: 08, loss: -0.45015\n",
      "epoch: 09, loss: -0.45294\n"
     ]
    },
    {
     "name": "stderr",
     "output_type": "stream",
     "text": [
      " 14%|█▍        | 145/1000 [54:19<6:02:41, 25.45s/it]"
     ]
    },
    {
     "name": "stdout",
     "output_type": "stream",
     "text": [
      "eigenvalues shape torch.Size([5]) eigenvectors shape torch.Size([5, 450])\n",
      "145 /home/phdcs2/Hard_Disk/Datasets/Deep-Spectral-Segmentation/data/object-segmentation/ECSSD/features/dino_vits16/0146.pth\n",
      "0146\n",
      "Starting Training\n",
      "epoch: 00, loss: -0.41665\n",
      "epoch: 01, loss: -0.42843\n",
      "epoch: 02, loss: -0.42907\n",
      "epoch: 03, loss: -0.42859\n",
      "epoch: 04, loss: -0.42955\n",
      "epoch: 05, loss: -0.43102\n",
      "epoch: 06, loss: -0.43176\n",
      "epoch: 07, loss: -0.43294\n",
      "epoch: 08, loss: -0.43493\n",
      "epoch: 09, loss: -0.43497\n"
     ]
    },
    {
     "name": "stderr",
     "output_type": "stream",
     "text": [
      " 15%|█▍        | 146/1000 [54:42<5:49:36, 24.56s/it]"
     ]
    },
    {
     "name": "stdout",
     "output_type": "stream",
     "text": [
      "eigenvalues shape torch.Size([5]) eigenvectors shape torch.Size([5, 400])\n",
      "146 /home/phdcs2/Hard_Disk/Datasets/Deep-Spectral-Segmentation/data/object-segmentation/ECSSD/features/dino_vits16/0147.pth\n",
      "0147\n",
      "Starting Training\n",
      "epoch: 00, loss: -0.42768\n",
      "epoch: 01, loss: -0.42940\n",
      "epoch: 02, loss: -0.42922\n",
      "epoch: 03, loss: -0.42977\n",
      "epoch: 04, loss: -0.43256\n",
      "epoch: 05, loss: -0.43546\n",
      "epoch: 06, loss: -0.43750\n",
      "epoch: 07, loss: -0.43982\n",
      "epoch: 08, loss: -0.44155\n",
      "epoch: 09, loss: -0.44281\n"
     ]
    },
    {
     "name": "stderr",
     "output_type": "stream",
     "text": [
      " 15%|█▍        | 147/1000 [55:13<6:17:59, 26.59s/it]"
     ]
    },
    {
     "name": "stdout",
     "output_type": "stream",
     "text": [
      "eigenvalues shape torch.Size([5]) eigenvectors shape torch.Size([5, 550])\n",
      "147 /home/phdcs2/Hard_Disk/Datasets/Deep-Spectral-Segmentation/data/object-segmentation/ECSSD/features/dino_vits16/0148.pth\n",
      "0148\n",
      "Starting Training\n",
      "epoch: 00, loss: -0.64477\n",
      "epoch: 01, loss: -0.69528\n",
      "epoch: 02, loss: -0.69767\n",
      "epoch: 03, loss: -0.69957\n",
      "epoch: 04, loss: -0.70042\n",
      "epoch: 05, loss: -0.70094\n",
      "epoch: 06, loss: -0.70144\n",
      "epoch: 07, loss: -0.70235\n",
      "epoch: 08, loss: -0.70237\n",
      "epoch: 09, loss: -0.70302\n"
     ]
    },
    {
     "name": "stderr",
     "output_type": "stream",
     "text": [
      " 15%|█▍        | 148/1000 [55:35<6:00:32, 25.39s/it]"
     ]
    },
    {
     "name": "stdout",
     "output_type": "stream",
     "text": [
      "eigenvalues shape torch.Size([5]) eigenvectors shape torch.Size([5, 400])\n",
      "148 /home/phdcs2/Hard_Disk/Datasets/Deep-Spectral-Segmentation/data/object-segmentation/ECSSD/features/dino_vits16/0149.pth\n",
      "0149\n",
      "Starting Training\n",
      "epoch: 00, loss: -0.36324\n",
      "epoch: 01, loss: -0.36833\n",
      "epoch: 02, loss: -0.37397\n",
      "epoch: 03, loss: -0.38549\n",
      "epoch: 04, loss: -0.40168\n",
      "epoch: 05, loss: -0.41645\n",
      "epoch: 06, loss: -0.42907\n",
      "epoch: 07, loss: -0.43641\n",
      "epoch: 08, loss: -0.44200\n",
      "epoch: 09, loss: -0.44484\n"
     ]
    },
    {
     "name": "stderr",
     "output_type": "stream",
     "text": [
      " 15%|█▍        | 149/1000 [55:53<5:28:35, 23.17s/it]"
     ]
    },
    {
     "name": "stdout",
     "output_type": "stream",
     "text": [
      "eigenvalues shape torch.Size([5]) eigenvectors shape torch.Size([5, 400])\n",
      "149 /home/phdcs2/Hard_Disk/Datasets/Deep-Spectral-Segmentation/data/object-segmentation/ECSSD/features/dino_vits16/0150.pth\n",
      "0150\n",
      "Starting Training\n",
      "epoch: 00, loss: -0.40121\n",
      "epoch: 01, loss: -0.40829\n",
      "epoch: 02, loss: -0.41076\n",
      "epoch: 03, loss: -0.41342\n",
      "epoch: 04, loss: -0.41633\n",
      "epoch: 05, loss: -0.41810\n",
      "epoch: 06, loss: -0.42070\n",
      "epoch: 07, loss: -0.42187\n",
      "epoch: 08, loss: -0.42424\n",
      "epoch: 09, loss: -0.42685\n"
     ]
    },
    {
     "name": "stderr",
     "output_type": "stream",
     "text": [
      " 15%|█▌        | 150/1000 [56:17<5:27:57, 23.15s/it]"
     ]
    },
    {
     "name": "stdout",
     "output_type": "stream",
     "text": [
      "eigenvalues shape torch.Size([5]) eigenvectors shape torch.Size([5, 450])\n",
      "150 /home/phdcs2/Hard_Disk/Datasets/Deep-Spectral-Segmentation/data/object-segmentation/ECSSD/features/dino_vits16/0151.pth\n",
      "0151\n",
      "Starting Training\n",
      "epoch: 00, loss: -0.45993\n",
      "epoch: 01, loss: -0.48809\n",
      "epoch: 02, loss: -0.49865\n",
      "epoch: 03, loss: -0.98372\n",
      "epoch: 04, loss: -0.99891\n",
      "epoch: 05, loss: -0.99891\n",
      "epoch: 06, loss: -0.99894\n",
      "epoch: 07, loss: -0.99894\n",
      "epoch: 08, loss: -0.99893\n",
      "epoch: 09, loss: -0.99893\n"
     ]
    },
    {
     "name": "stderr",
     "output_type": "stream",
     "text": [
      " 15%|█▌        | 151/1000 [56:44<5:45:06, 24.39s/it]"
     ]
    },
    {
     "name": "stdout",
     "output_type": "stream",
     "text": [
      "eigenvalues shape torch.Size([5]) eigenvectors shape torch.Size([5, 525])\n",
      "151 /home/phdcs2/Hard_Disk/Datasets/Deep-Spectral-Segmentation/data/object-segmentation/ECSSD/features/dino_vits16/0152.pth\n",
      "0152\n",
      "Starting Training\n",
      "epoch: 00, loss: -0.44617\n",
      "epoch: 01, loss: -0.43540\n",
      "epoch: 02, loss: -0.43196\n",
      "epoch: 03, loss: -0.43053\n",
      "epoch: 04, loss: -0.42737\n",
      "epoch: 05, loss: -0.42644\n",
      "epoch: 06, loss: -0.42622\n",
      "epoch: 07, loss: -0.42399\n",
      "epoch: 08, loss: -0.42363\n",
      "epoch: 09, loss: -0.42326\n"
     ]
    },
    {
     "name": "stderr",
     "output_type": "stream",
     "text": [
      " 15%|█▌        | 152/1000 [57:11<5:57:00, 25.26s/it]"
     ]
    },
    {
     "name": "stdout",
     "output_type": "stream",
     "text": [
      "eigenvalues shape torch.Size([5]) eigenvectors shape torch.Size([5, 450])\n",
      "152 /home/phdcs2/Hard_Disk/Datasets/Deep-Spectral-Segmentation/data/object-segmentation/ECSSD/features/dino_vits16/0153.pth\n",
      "0153\n",
      "Starting Training\n",
      "epoch: 00, loss: -0.33872\n",
      "epoch: 01, loss: -0.33707\n",
      "epoch: 02, loss: -0.34378\n",
      "epoch: 03, loss: -0.34947\n",
      "epoch: 04, loss: -0.35532\n",
      "epoch: 05, loss: -0.35904\n",
      "epoch: 06, loss: -0.36198\n",
      "epoch: 07, loss: -0.36511\n",
      "epoch: 08, loss: -0.36887\n",
      "epoch: 09, loss: -0.37167\n"
     ]
    },
    {
     "name": "stderr",
     "output_type": "stream",
     "text": [
      " 15%|█▌        | 153/1000 [57:36<5:55:12, 25.16s/it]"
     ]
    },
    {
     "name": "stdout",
     "output_type": "stream",
     "text": [
      "eigenvalues shape torch.Size([5]) eigenvectors shape torch.Size([5, 450])\n",
      "153 /home/phdcs2/Hard_Disk/Datasets/Deep-Spectral-Segmentation/data/object-segmentation/ECSSD/features/dino_vits16/0154.pth\n",
      "0154\n",
      "Starting Training\n",
      "epoch: 00, loss: -0.36891\n",
      "epoch: 01, loss: -0.37627\n",
      "epoch: 02, loss: -0.38633\n",
      "epoch: 03, loss: -0.40930\n",
      "epoch: 04, loss: -0.42009\n",
      "epoch: 05, loss: -0.42895\n",
      "epoch: 06, loss: -0.43279\n",
      "epoch: 07, loss: -0.43574\n",
      "epoch: 08, loss: -0.43784\n",
      "epoch: 09, loss: -0.44194\n"
     ]
    },
    {
     "name": "stderr",
     "output_type": "stream",
     "text": [
      " 15%|█▌        | 154/1000 [57:59<5:47:18, 24.63s/it]"
     ]
    },
    {
     "name": "stdout",
     "output_type": "stream",
     "text": [
      "eigenvalues shape torch.Size([5]) eigenvectors shape torch.Size([5, 450])\n",
      "154 /home/phdcs2/Hard_Disk/Datasets/Deep-Spectral-Segmentation/data/object-segmentation/ECSSD/features/dino_vits16/0155.pth\n",
      "0155\n",
      "Starting Training\n",
      "epoch: 00, loss: -0.37641\n",
      "epoch: 01, loss: -0.38177\n",
      "epoch: 02, loss: -0.38251\n",
      "epoch: 03, loss: -0.38320\n",
      "epoch: 04, loss: -0.38345\n",
      "epoch: 05, loss: -0.38481\n",
      "epoch: 06, loss: -0.38627\n",
      "epoch: 07, loss: -0.38697\n",
      "epoch: 08, loss: -0.38851\n",
      "epoch: 09, loss: -0.38923\n"
     ]
    },
    {
     "name": "stderr",
     "output_type": "stream",
     "text": [
      " 16%|█▌        | 155/1000 [58:24<5:46:30, 24.60s/it]"
     ]
    },
    {
     "name": "stdout",
     "output_type": "stream",
     "text": [
      "eigenvalues shape torch.Size([5]) eigenvectors shape torch.Size([5, 475])\n",
      "155 /home/phdcs2/Hard_Disk/Datasets/Deep-Spectral-Segmentation/data/object-segmentation/ECSSD/features/dino_vits16/0156.pth\n",
      "0156\n",
      "Starting Training\n",
      "epoch: 00, loss: -0.37159\n",
      "epoch: 01, loss: -0.38843\n",
      "epoch: 02, loss: -0.39504\n",
      "epoch: 03, loss: -0.40026\n",
      "epoch: 04, loss: -0.40419\n",
      "epoch: 05, loss: -0.40733\n",
      "epoch: 06, loss: -0.41035\n",
      "epoch: 07, loss: -0.41361\n",
      "epoch: 08, loss: -0.41528\n",
      "epoch: 09, loss: -0.41526\n"
     ]
    },
    {
     "name": "stderr",
     "output_type": "stream",
     "text": [
      " 16%|█▌        | 156/1000 [58:42<5:16:26, 22.50s/it]"
     ]
    },
    {
     "name": "stdout",
     "output_type": "stream",
     "text": [
      "eigenvalues shape torch.Size([5]) eigenvectors shape torch.Size([5, 400])\n",
      "156 /home/phdcs2/Hard_Disk/Datasets/Deep-Spectral-Segmentation/data/object-segmentation/ECSSD/features/dino_vits16/0157.pth\n",
      "0157\n",
      "Starting Training\n",
      "epoch: 00, loss: -0.40082\n",
      "epoch: 01, loss: -0.40207\n",
      "epoch: 02, loss: -0.40549\n",
      "epoch: 03, loss: -0.40903\n",
      "epoch: 04, loss: -0.41151\n",
      "epoch: 05, loss: -0.41309\n",
      "epoch: 06, loss: -0.41659\n",
      "epoch: 07, loss: -0.41978\n",
      "epoch: 08, loss: -0.42150\n",
      "epoch: 09, loss: -0.42458\n"
     ]
    },
    {
     "name": "stderr",
     "output_type": "stream",
     "text": [
      " 16%|█▌        | 157/1000 [59:00<4:58:32, 21.25s/it]"
     ]
    },
    {
     "name": "stdout",
     "output_type": "stream",
     "text": [
      "eigenvalues shape torch.Size([5]) eigenvectors shape torch.Size([5, 375])\n",
      "157 /home/phdcs2/Hard_Disk/Datasets/Deep-Spectral-Segmentation/data/object-segmentation/ECSSD/features/dino_vits16/0158.pth\n",
      "0158\n",
      "Starting Training\n",
      "epoch: 00, loss: -0.34621\n",
      "epoch: 01, loss: -0.35057\n",
      "epoch: 02, loss: -0.35036\n",
      "epoch: 03, loss: -0.35290\n",
      "epoch: 04, loss: -0.35291\n",
      "epoch: 05, loss: -0.35312\n",
      "epoch: 06, loss: -0.35314\n",
      "epoch: 07, loss: -0.35272\n",
      "epoch: 08, loss: -0.35345\n",
      "epoch: 09, loss: -0.35320\n"
     ]
    },
    {
     "name": "stderr",
     "output_type": "stream",
     "text": [
      " 16%|█▌        | 158/1000 [59:16<4:37:13, 19.75s/it]"
     ]
    },
    {
     "name": "stdout",
     "output_type": "stream",
     "text": [
      "eigenvalues shape torch.Size([5]) eigenvectors shape torch.Size([5, 300])\n",
      "158 /home/phdcs2/Hard_Disk/Datasets/Deep-Spectral-Segmentation/data/object-segmentation/ECSSD/features/dino_vits16/0159.pth\n",
      "0159\n",
      "Starting Training\n",
      "epoch: 00, loss: -0.43580\n",
      "epoch: 01, loss: -0.43753\n",
      "epoch: 02, loss: -0.43381\n",
      "epoch: 03, loss: -0.43273\n",
      "epoch: 04, loss: -0.43221\n",
      "epoch: 05, loss: -0.43163\n",
      "epoch: 06, loss: -0.43178\n",
      "epoch: 07, loss: -0.43107\n",
      "epoch: 08, loss: -0.43030\n",
      "epoch: 09, loss: -0.42965\n"
     ]
    },
    {
     "name": "stderr",
     "output_type": "stream",
     "text": [
      " 16%|█▌        | 159/1000 [59:40<4:53:24, 20.93s/it]"
     ]
    },
    {
     "name": "stdout",
     "output_type": "stream",
     "text": [
      "eigenvalues shape torch.Size([5]) eigenvectors shape torch.Size([5, 425])\n",
      "159 /home/phdcs2/Hard_Disk/Datasets/Deep-Spectral-Segmentation/data/object-segmentation/ECSSD/features/dino_vits16/0160.pth\n",
      "0160\n",
      "Starting Training\n",
      "epoch: 00, loss: -0.38852\n",
      "epoch: 01, loss: -0.39572\n",
      "epoch: 02, loss: -0.39942\n",
      "epoch: 03, loss: -0.40737\n",
      "epoch: 04, loss: -0.41631\n",
      "epoch: 05, loss: -0.42767\n",
      "epoch: 06, loss: -0.44072\n",
      "epoch: 07, loss: -0.45030\n",
      "epoch: 08, loss: -0.46297\n",
      "epoch: 09, loss: -0.47196\n"
     ]
    },
    {
     "name": "stderr",
     "output_type": "stream",
     "text": [
      " 16%|█▌        | 160/1000 [59:58<4:42:57, 20.21s/it]"
     ]
    },
    {
     "name": "stdout",
     "output_type": "stream",
     "text": [
      "eigenvalues shape torch.Size([5]) eigenvectors shape torch.Size([5, 400])\n",
      "160 /home/phdcs2/Hard_Disk/Datasets/Deep-Spectral-Segmentation/data/object-segmentation/ECSSD/features/dino_vits16/0161.pth\n",
      "0161\n",
      "Starting Training\n",
      "epoch: 00, loss: -0.61520\n",
      "epoch: 01, loss: -0.65027\n",
      "epoch: 02, loss: -0.65297\n",
      "epoch: 03, loss: -0.65503\n",
      "epoch: 04, loss: -0.65615\n",
      "epoch: 05, loss: -0.65767\n",
      "epoch: 06, loss: -0.65851\n",
      "epoch: 07, loss: -0.65942\n",
      "epoch: 08, loss: -0.66039\n",
      "epoch: 09, loss: -0.66078\n"
     ]
    },
    {
     "name": "stderr",
     "output_type": "stream",
     "text": [
      " 16%|█▌        | 161/1000 [1:00:25<5:11:18, 22.26s/it]"
     ]
    },
    {
     "name": "stdout",
     "output_type": "stream",
     "text": [
      "eigenvalues shape torch.Size([5]) eigenvectors shape torch.Size([5, 450])\n",
      "161 /home/phdcs2/Hard_Disk/Datasets/Deep-Spectral-Segmentation/data/object-segmentation/ECSSD/features/dino_vits16/0162.pth\n",
      "0162\n",
      "Starting Training\n",
      "epoch: 00, loss: -0.36470\n",
      "epoch: 01, loss: -0.37120\n",
      "epoch: 02, loss: -0.37435\n",
      "epoch: 03, loss: -0.38051\n",
      "epoch: 04, loss: -0.38798\n",
      "epoch: 05, loss: -0.39438\n",
      "epoch: 06, loss: -0.40116\n",
      "epoch: 07, loss: -0.40695\n",
      "epoch: 08, loss: -0.41206\n",
      "epoch: 09, loss: -0.41736\n"
     ]
    },
    {
     "name": "stderr",
     "output_type": "stream",
     "text": [
      " 16%|█▌        | 162/1000 [1:00:51<5:26:28, 23.38s/it]"
     ]
    },
    {
     "name": "stdout",
     "output_type": "stream",
     "text": [
      "eigenvalues shape torch.Size([5]) eigenvectors shape torch.Size([5, 450])\n",
      "162 /home/phdcs2/Hard_Disk/Datasets/Deep-Spectral-Segmentation/data/object-segmentation/ECSSD/features/dino_vits16/0163.pth\n",
      "0163\n",
      "Starting Training\n",
      "epoch: 00, loss: -0.41051\n",
      "epoch: 01, loss: -0.42367\n",
      "epoch: 02, loss: -0.42655\n",
      "epoch: 03, loss: -0.42932\n",
      "epoch: 04, loss: -0.43044\n",
      "epoch: 05, loss: -0.43279\n",
      "epoch: 06, loss: -0.43340\n",
      "epoch: 07, loss: -0.43348\n",
      "epoch: 08, loss: -0.43419\n",
      "epoch: 09, loss: -0.43514\n"
     ]
    },
    {
     "name": "stderr",
     "output_type": "stream",
     "text": [
      " 16%|█▋        | 163/1000 [1:01:13<5:16:50, 22.71s/it]"
     ]
    },
    {
     "name": "stdout",
     "output_type": "stream",
     "text": [
      "eigenvalues shape torch.Size([5]) eigenvectors shape torch.Size([5, 400])\n",
      "163 /home/phdcs2/Hard_Disk/Datasets/Deep-Spectral-Segmentation/data/object-segmentation/ECSSD/features/dino_vits16/0164.pth\n",
      "0164\n",
      "Starting Training\n",
      "epoch: 00, loss: -0.37476\n",
      "epoch: 01, loss: -0.38063\n",
      "epoch: 02, loss: -0.38007\n",
      "epoch: 03, loss: -0.38014\n",
      "epoch: 04, loss: -0.38005\n",
      "epoch: 05, loss: -0.37944\n",
      "epoch: 06, loss: -0.37941\n",
      "epoch: 07, loss: -0.38080\n",
      "epoch: 08, loss: -0.37962\n",
      "epoch: 09, loss: -0.37919\n"
     ]
    },
    {
     "name": "stderr",
     "output_type": "stream",
     "text": [
      " 16%|█▋        | 164/1000 [1:01:45<5:55:26, 25.51s/it]"
     ]
    },
    {
     "name": "stdout",
     "output_type": "stream",
     "text": [
      "eigenvalues shape torch.Size([5]) eigenvectors shape torch.Size([5, 550])\n",
      "164 /home/phdcs2/Hard_Disk/Datasets/Deep-Spectral-Segmentation/data/object-segmentation/ECSSD/features/dino_vits16/0165.pth\n",
      "0165\n",
      "Starting Training\n",
      "epoch: 00, loss: -0.63359\n",
      "epoch: 01, loss: -0.68379\n",
      "epoch: 02, loss: -0.68631\n",
      "epoch: 03, loss: -0.68762\n",
      "epoch: 04, loss: -0.68849\n",
      "epoch: 05, loss: -0.68871\n",
      "epoch: 06, loss: -0.68921\n",
      "epoch: 07, loss: -0.68934\n",
      "epoch: 08, loss: -0.68966\n",
      "epoch: 09, loss: -0.68995\n"
     ]
    },
    {
     "name": "stderr",
     "output_type": "stream",
     "text": [
      " 16%|█▋        | 165/1000 [1:02:10<5:54:27, 25.47s/it]"
     ]
    },
    {
     "name": "stdout",
     "output_type": "stream",
     "text": [
      "eigenvalues shape torch.Size([5]) eigenvectors shape torch.Size([5, 450])\n",
      "165 /home/phdcs2/Hard_Disk/Datasets/Deep-Spectral-Segmentation/data/object-segmentation/ECSSD/features/dino_vits16/0166.pth\n",
      "0166\n",
      "Starting Training\n",
      "epoch: 00, loss: -0.35378\n",
      "epoch: 01, loss: -0.35978\n",
      "epoch: 02, loss: -0.36356\n",
      "epoch: 03, loss: -0.36783\n",
      "epoch: 04, loss: -0.36953\n",
      "epoch: 05, loss: -0.37195\n",
      "epoch: 06, loss: -0.37537\n",
      "epoch: 07, loss: -0.37785\n",
      "epoch: 08, loss: -0.38117\n",
      "epoch: 09, loss: -0.38479\n"
     ]
    },
    {
     "name": "stderr",
     "output_type": "stream",
     "text": [
      " 17%|█▋        | 166/1000 [1:02:30<5:33:02, 23.96s/it]"
     ]
    },
    {
     "name": "stdout",
     "output_type": "stream",
     "text": [
      "eigenvalues shape torch.Size([5]) eigenvectors shape torch.Size([5, 400])\n",
      "166 /home/phdcs2/Hard_Disk/Datasets/Deep-Spectral-Segmentation/data/object-segmentation/ECSSD/features/dino_vits16/0167.pth\n",
      "0167\n",
      "Starting Training\n",
      "epoch: 00, loss: -0.41276\n",
      "epoch: 01, loss: -0.42261\n",
      "epoch: 02, loss: -0.42476\n",
      "epoch: 03, loss: -0.42586\n",
      "epoch: 04, loss: -0.42650\n",
      "epoch: 05, loss: -0.42599\n",
      "epoch: 06, loss: -0.42682\n",
      "epoch: 07, loss: -0.42672\n",
      "epoch: 08, loss: -0.42658\n",
      "epoch: 09, loss: -0.42622\n"
     ]
    },
    {
     "name": "stderr",
     "output_type": "stream",
     "text": [
      " 17%|█▋        | 167/1000 [1:02:55<5:33:24, 24.01s/it]"
     ]
    },
    {
     "name": "stdout",
     "output_type": "stream",
     "text": [
      "eigenvalues shape torch.Size([5]) eigenvectors shape torch.Size([5, 450])\n",
      "167 /home/phdcs2/Hard_Disk/Datasets/Deep-Spectral-Segmentation/data/object-segmentation/ECSSD/features/dino_vits16/0168.pth\n",
      "0168\n",
      "Starting Training\n",
      "epoch: 00, loss: -0.37837\n",
      "epoch: 01, loss: -0.37911\n",
      "epoch: 02, loss: -0.37961\n",
      "epoch: 03, loss: -0.38038\n",
      "epoch: 04, loss: -0.38112\n",
      "epoch: 05, loss: -0.38174\n",
      "epoch: 06, loss: -0.38080\n",
      "epoch: 07, loss: -0.37896\n",
      "epoch: 08, loss: -0.37830\n",
      "epoch: 09, loss: -0.37707\n",
      "epoch: 08, loss: -0.44204\n",
      "epoch: 09, loss: -0.44228\n"
     ]
    },
    {
     "name": "stderr",
     "output_type": "stream",
     "text": [
      " 17%|█▋        | 169/1000 [1:03:46<5:43:44, 24.82s/it]"
     ]
    },
    {
     "name": "stdout",
     "output_type": "stream",
     "text": [
      "eigenvalues shape torch.Size([5]) eigenvectors shape torch.Size([5, 400])\n",
      "169 /home/phdcs2/Hard_Disk/Datasets/Deep-Spectral-Segmentation/data/object-segmentation/ECSSD/features/dino_vits16/0170.pth\n",
      "0170\n",
      "Starting Training\n",
      "epoch: 00, loss: -0.37264\n",
      "epoch: 01, loss: -0.37846\n",
      "epoch: 02, loss: -0.37945\n",
      "epoch: 03, loss: -0.37960\n",
      "epoch: 04, loss: -0.38193\n",
      "epoch: 05, loss: -0.38398\n",
      "epoch: 06, loss: -0.38705\n",
      "epoch: 07, loss: -0.39757\n",
      "epoch: 08, loss: -0.40756\n",
      "epoch: 09, loss: -0.41424\n"
     ]
    },
    {
     "name": "stderr",
     "output_type": "stream",
     "text": [
      " 17%|█▋        | 170/1000 [1:04:11<5:44:14, 24.89s/it]"
     ]
    },
    {
     "name": "stdout",
     "output_type": "stream",
     "text": [
      "eigenvalues shape torch.Size([5]) eigenvectors shape torch.Size([5, 450])\n",
      "170 /home/phdcs2/Hard_Disk/Datasets/Deep-Spectral-Segmentation/data/object-segmentation/ECSSD/features/dino_vits16/0171.pth\n",
      "0171\n",
      "Starting Training\n",
      "epoch: 00, loss: -0.41970\n",
      "epoch: 01, loss: -0.41820\n",
      "epoch: 02, loss: -0.42066\n",
      "epoch: 03, loss: -0.42744\n",
      "epoch: 04, loss: -0.43379\n",
      "epoch: 05, loss: -0.43785\n",
      "epoch: 06, loss: -0.44203\n",
      "epoch: 07, loss: -0.44479\n",
      "epoch: 08, loss: -0.44668\n",
      "epoch: 09, loss: -0.44879\n"
     ]
    },
    {
     "name": "stderr",
     "output_type": "stream",
     "text": [
      " 17%|█▋        | 171/1000 [1:04:30<5:18:34, 23.06s/it]"
     ]
    },
    {
     "name": "stdout",
     "output_type": "stream",
     "text": [
      "eigenvalues shape torch.Size([5]) eigenvectors shape torch.Size([5, 375])\n",
      "171 /home/phdcs2/Hard_Disk/Datasets/Deep-Spectral-Segmentation/data/object-segmentation/ECSSD/features/dino_vits16/0172.pth\n",
      "0172\n",
      "Starting Training\n",
      "epoch: 00, loss: -0.38432\n",
      "epoch: 01, loss: -0.38969\n",
      "epoch: 02, loss: -0.39442\n",
      "epoch: 03, loss: -0.40158\n",
      "epoch: 04, loss: -0.40943\n",
      "epoch: 05, loss: -0.41630\n",
      "epoch: 06, loss: -0.42278\n",
      "epoch: 07, loss: -0.42676\n",
      "epoch: 08, loss: -0.43019\n",
      "epoch: 09, loss: -0.43226\n"
     ]
    },
    {
     "name": "stderr",
     "output_type": "stream",
     "text": [
      " 17%|█▋        | 172/1000 [1:04:45<4:47:24, 20.83s/it]"
     ]
    },
    {
     "name": "stdout",
     "output_type": "stream",
     "text": [
      "eigenvalues shape torch.Size([5]) eigenvectors shape torch.Size([5, 375])\n",
      "172 /home/phdcs2/Hard_Disk/Datasets/Deep-Spectral-Segmentation/data/object-segmentation/ECSSD/features/dino_vits16/0173.pth\n",
      "0173\n",
      "Starting Training\n",
      "epoch: 00, loss: -0.36843\n",
      "epoch: 01, loss: -0.37372\n",
      "epoch: 02, loss: -0.37675\n",
      "epoch: 03, loss: -0.37951\n",
      "epoch: 04, loss: -0.39065\n",
      "epoch: 05, loss: -0.40956\n",
      "epoch: 06, loss: -0.43112\n",
      "epoch: 07, loss: -0.44236\n",
      "epoch: 08, loss: -0.44941\n",
      "epoch: 09, loss: -0.45670\n"
     ]
    },
    {
     "name": "stderr",
     "output_type": "stream",
     "text": [
      " 17%|█▋        | 173/1000 [1:05:10<5:00:56, 21.83s/it]"
     ]
    },
    {
     "name": "stdout",
     "output_type": "stream",
     "text": [
      "eigenvalues shape torch.Size([5]) eigenvectors shape torch.Size([5, 450])\n",
      "173 /home/phdcs2/Hard_Disk/Datasets/Deep-Spectral-Segmentation/data/object-segmentation/ECSSD/features/dino_vits16/0174.pth\n",
      "0174\n",
      "Starting Training\n",
      "epoch: 00, loss: -0.48123\n",
      "epoch: 01, loss: -0.48694\n",
      "epoch: 02, loss: -0.49165\n",
      "epoch: 03, loss: -0.49594\n",
      "epoch: 04, loss: -0.49957\n",
      "epoch: 05, loss: -0.50177\n",
      "epoch: 06, loss: -0.50411\n",
      "epoch: 07, loss: -0.50625\n",
      "epoch: 08, loss: -0.50855\n",
      "epoch: 09, loss: -0.50988\n"
     ]
    },
    {
     "name": "stderr",
     "output_type": "stream",
     "text": [
      " 17%|█▋        | 174/1000 [1:05:32<5:01:42, 21.92s/it]"
     ]
    },
    {
     "name": "stdout",
     "output_type": "stream",
     "text": [
      "eigenvalues shape torch.Size([5]) eigenvectors shape torch.Size([5, 375])\n",
      "174 /home/phdcs2/Hard_Disk/Datasets/Deep-Spectral-Segmentation/data/object-segmentation/ECSSD/features/dino_vits16/0175.pth\n",
      "0175\n",
      "Starting Training\n",
      "epoch: 00, loss: -0.39350\n",
      "epoch: 01, loss: -0.40622\n",
      "epoch: 02, loss: -0.40856\n",
      "epoch: 03, loss: -0.41195\n",
      "epoch: 04, loss: -0.41518\n",
      "epoch: 05, loss: -0.41748\n",
      "epoch: 06, loss: -0.41876\n",
      "epoch: 07, loss: -0.42052\n",
      "epoch: 08, loss: -0.42112\n",
      "epoch: 09, loss: -0.42322\n"
     ]
    },
    {
     "name": "stderr",
     "output_type": "stream",
     "text": [
      " 18%|█▊        | 175/1000 [1:05:53<4:59:49, 21.80s/it]"
     ]
    },
    {
     "name": "stdout",
     "output_type": "stream",
     "text": [
      "eigenvalues shape torch.Size([5]) eigenvectors shape torch.Size([5, 450])\n",
      "175 /home/phdcs2/Hard_Disk/Datasets/Deep-Spectral-Segmentation/data/object-segmentation/ECSSD/features/dino_vits16/0176.pth\n",
      "0176\n",
      "Starting Training\n",
      "epoch: 00, loss: -0.36569\n",
      "epoch: 01, loss: -0.37571\n",
      "epoch: 02, loss: -0.37891\n",
      "epoch: 03, loss: -0.38293\n",
      "epoch: 04, loss: -0.38573\n",
      "epoch: 05, loss: -0.38885\n",
      "epoch: 06, loss: -0.38951\n",
      "epoch: 07, loss: -0.39047\n",
      "epoch: 08, loss: -0.39115\n",
      "epoch: 09, loss: -0.39039\n"
     ]
    },
    {
     "name": "stderr",
     "output_type": "stream",
     "text": [
      " 18%|█▊        | 176/1000 [1:06:21<5:25:30, 23.70s/it]"
     ]
    },
    {
     "name": "stdout",
     "output_type": "stream",
     "text": [
      "eigenvalues shape torch.Size([5]) eigenvectors shape torch.Size([5, 550])\n",
      "176 /home/phdcs2/Hard_Disk/Datasets/Deep-Spectral-Segmentation/data/object-segmentation/ECSSD/features/dino_vits16/0177.pth\n",
      "0177\n",
      "Starting Training\n",
      "epoch: 00, loss: -0.41164\n",
      "epoch: 01, loss: -0.43043\n",
      "epoch: 02, loss: -0.43584\n",
      "epoch: 03, loss: -0.44095\n",
      "epoch: 04, loss: -0.44399\n",
      "epoch: 05, loss: -0.44617\n",
      "epoch: 06, loss: -0.44775\n",
      "epoch: 07, loss: -0.44849\n",
      "epoch: 08, loss: -0.44860\n",
      "epoch: 09, loss: -0.44810\n"
     ]
    },
    {
     "name": "stderr",
     "output_type": "stream",
     "text": [
      " 18%|█▊        | 177/1000 [1:06:42<5:12:17, 22.77s/it]"
     ]
    },
    {
     "name": "stdout",
     "output_type": "stream",
     "text": [
      "eigenvalues shape torch.Size([5]) eigenvectors shape torch.Size([5, 400])\n",
      "177 /home/phdcs2/Hard_Disk/Datasets/Deep-Spectral-Segmentation/data/object-segmentation/ECSSD/features/dino_vits16/0178.pth\n",
      "0178\n",
      "Starting Training\n",
      "epoch: 00, loss: -0.39944\n",
      "epoch: 01, loss: -0.41276\n",
      "epoch: 02, loss: -0.41875\n",
      "epoch: 03, loss: -0.42291\n",
      "epoch: 04, loss: -0.42499\n",
      "epoch: 05, loss: -0.42667\n",
      "epoch: 06, loss: -0.42903\n",
      "epoch: 07, loss: -0.43027\n",
      "epoch: 08, loss: -0.43200\n",
      "epoch: 09, loss: -0.43160\n"
     ]
    },
    {
     "name": "stderr",
     "output_type": "stream",
     "text": [
      " 18%|█▊        | 178/1000 [1:07:09<5:28:47, 24.00s/it]"
     ]
    },
    {
     "name": "stdout",
     "output_type": "stream",
     "text": [
      "eigenvalues shape torch.Size([5]) eigenvectors shape torch.Size([5, 450])\n",
      "178 /home/phdcs2/Hard_Disk/Datasets/Deep-Spectral-Segmentation/data/object-segmentation/ECSSD/features/dino_vits16/0179.pth\n",
      "0179\n",
      "Starting Training\n",
      "epoch: 00, loss: -0.40944\n",
      "epoch: 01, loss: -0.41336\n",
      "epoch: 02, loss: -0.42358\n",
      "epoch: 03, loss: -0.43407\n",
      "epoch: 04, loss: -0.44031\n",
      "epoch: 05, loss: -0.44454\n",
      "epoch: 06, loss: -0.44645\n",
      "epoch: 07, loss: -0.44746\n",
      "epoch: 08, loss: -0.44830\n",
      "epoch: 09, loss: -0.44926\n"
     ]
    },
    {
     "name": "stderr",
     "output_type": "stream",
     "text": [
      " 18%|█▊        | 179/1000 [1:07:27<5:04:52, 22.28s/it]"
     ]
    },
    {
     "name": "stdout",
     "output_type": "stream",
     "text": [
      "eigenvalues shape torch.Size([5]) eigenvectors shape torch.Size([5, 400])\n",
      "179 /home/phdcs2/Hard_Disk/Datasets/Deep-Spectral-Segmentation/data/object-segmentation/ECSSD/features/dino_vits16/0180.pth\n",
      "0180\n",
      "Starting Training\n",
      "epoch: 00, loss: -0.40050\n",
      "epoch: 01, loss: -0.40358\n",
      "epoch: 02, loss: -0.40562\n",
      "epoch: 03, loss: -0.40863\n",
      "epoch: 04, loss: -0.41062\n",
      "epoch: 05, loss: -0.41220\n",
      "epoch: 06, loss: -0.41475\n",
      "epoch: 07, loss: -0.41907\n",
      "epoch: 08, loss: -0.42306\n",
      "epoch: 09, loss: -0.42939\n"
     ]
    },
    {
     "name": "stderr",
     "output_type": "stream",
     "text": [
      " 18%|█▊        | 180/1000 [1:07:47<4:55:46, 21.64s/it]"
     ]
    },
    {
     "name": "stdout",
     "output_type": "stream",
     "text": [
      "eigenvalues shape torch.Size([5]) eigenvectors shape torch.Size([5, 400])\n",
      "180 /home/phdcs2/Hard_Disk/Datasets/Deep-Spectral-Segmentation/data/object-segmentation/ECSSD/features/dino_vits16/0181.pth\n",
      "0181\n",
      "Starting Training\n",
      "epoch: 00, loss: -0.60808\n",
      "epoch: 01, loss: -0.65789\n",
      "epoch: 02, loss: -0.65999\n",
      "epoch: 03, loss: -0.66121\n",
      "epoch: 04, loss: -0.66212\n",
      "epoch: 05, loss: -0.66293\n",
      "epoch: 06, loss: -0.66397\n",
      "epoch: 07, loss: -0.66434\n",
      "epoch: 08, loss: -0.66479\n",
      "epoch: 09, loss: -0.66556\n"
     ]
    },
    {
     "name": "stderr",
     "output_type": "stream",
     "text": [
      " 18%|█▊        | 181/1000 [1:08:07<4:48:53, 21.16s/it]"
     ]
    },
    {
     "name": "stdout",
     "output_type": "stream",
     "text": [
      "eigenvalues shape torch.Size([5]) eigenvectors shape torch.Size([5, 375])\n",
      "181 /home/phdcs2/Hard_Disk/Datasets/Deep-Spectral-Segmentation/data/object-segmentation/ECSSD/features/dino_vits16/0182.pth\n",
      "0182\n",
      "Starting Training\n",
      "epoch: 00, loss: -0.37122\n",
      "epoch: 01, loss: -0.37833\n",
      "epoch: 02, loss: -0.37900\n",
      "epoch: 03, loss: -0.37922\n",
      "epoch: 04, loss: -0.38045\n",
      "epoch: 05, loss: -0.38087\n",
      "epoch: 06, loss: -0.38107\n",
      "epoch: 07, loss: -0.38107\n",
      "epoch: 08, loss: -0.38050\n",
      "epoch: 09, loss: -0.38164\n"
     ]
    },
    {
     "name": "stderr",
     "output_type": "stream",
     "text": [
      " 18%|█▊        | 182/1000 [1:08:46<5:59:51, 26.40s/it]"
     ]
    },
    {
     "name": "stdout",
     "output_type": "stream",
     "text": [
      "eigenvalues shape torch.Size([5]) eigenvectors shape torch.Size([5, 625])\n",
      "182 /home/phdcs2/Hard_Disk/Datasets/Deep-Spectral-Segmentation/data/object-segmentation/ECSSD/features/dino_vits16/0183.pth\n",
      "0183\n",
      "Starting Training\n",
      "epoch: 00, loss: -0.41998\n",
      "epoch: 01, loss: -0.43069\n",
      "epoch: 02, loss: -0.43157\n",
      "epoch: 03, loss: -0.43201\n",
      "epoch: 04, loss: -0.43226\n",
      "epoch: 05, loss: -0.43170\n",
      "epoch: 06, loss: -0.43103\n",
      "epoch: 07, loss: -0.43202\n",
      "epoch: 08, loss: -0.43265\n",
      "epoch: 09, loss: -0.43257\n"
     ]
    },
    {
     "name": "stderr",
     "output_type": "stream",
     "text": [
      " 18%|█▊        | 183/1000 [1:09:09<5:44:01, 25.26s/it]"
     ]
    },
    {
     "name": "stdout",
     "output_type": "stream",
     "text": [
      "eigenvalues shape torch.Size([5]) eigenvectors shape torch.Size([5, 400])\n",
      "183 /home/phdcs2/Hard_Disk/Datasets/Deep-Spectral-Segmentation/data/object-segmentation/ECSSD/features/dino_vits16/0184.pth\n",
      "0184\n",
      "Starting Training\n",
      "epoch: 00, loss: -0.53029\n",
      "epoch: 01, loss: -0.55981\n",
      "epoch: 02, loss: -0.57325\n",
      "epoch: 03, loss: -0.58118\n",
      "epoch: 04, loss: -0.58497\n",
      "epoch: 05, loss: -0.58810\n",
      "epoch: 06, loss: -0.58964\n",
      "epoch: 07, loss: -0.59044\n",
      "epoch: 08, loss: -0.59096\n",
      "epoch: 09, loss: -0.59257\n"
     ]
    },
    {
     "name": "stderr",
     "output_type": "stream",
     "text": [
      " 18%|█▊        | 184/1000 [1:09:47<6:37:36, 29.24s/it]"
     ]
    },
    {
     "name": "stdout",
     "output_type": "stream",
     "text": [
      "eigenvalues shape torch.Size([5]) eigenvectors shape torch.Size([5, 625])\n",
      "184 /home/phdcs2/Hard_Disk/Datasets/Deep-Spectral-Segmentation/data/object-segmentation/ECSSD/features/dino_vits16/0185.pth\n",
      "0185\n",
      "Starting Training\n",
      "epoch: 00, loss: -0.37715\n",
      "epoch: 01, loss: -0.39168\n",
      "epoch: 02, loss: -0.40019\n",
      "epoch: 03, loss: -0.40745\n",
      "epoch: 04, loss: -0.41416\n",
      "epoch: 05, loss: -0.41844\n",
      "epoch: 06, loss: -0.42155\n",
      "epoch: 07, loss: -0.42628\n",
      "epoch: 08, loss: -0.42955\n",
      "epoch: 09, loss: -0.43305\n"
     ]
    },
    {
     "name": "stderr",
     "output_type": "stream",
     "text": [
      " 18%|█▊        | 185/1000 [1:10:22<6:58:52, 30.84s/it]"
     ]
    },
    {
     "name": "stdout",
     "output_type": "stream",
     "text": [
      "eigenvalues shape torch.Size([5]) eigenvectors shape torch.Size([5, 625])\n",
      "185 /home/phdcs2/Hard_Disk/Datasets/Deep-Spectral-Segmentation/data/object-segmentation/ECSSD/features/dino_vits16/0186.pth\n",
      "0186\n",
      "Starting Training\n",
      "epoch: 00, loss: -0.34105\n",
      "epoch: 01, loss: -0.35059\n",
      "epoch: 02, loss: -0.36250\n",
      "epoch: 03, loss: -0.37676\n",
      "epoch: 04, loss: -0.38970\n",
      "epoch: 05, loss: -0.40790\n",
      "epoch: 06, loss: -0.41918\n",
      "epoch: 07, loss: -0.42546\n",
      "epoch: 08, loss: -0.43073\n",
      "epoch: 09, loss: -0.43228\n"
     ]
    },
    {
     "name": "stderr",
     "output_type": "stream",
     "text": [
      " 19%|█▊        | 186/1000 [1:10:55<7:07:57, 31.55s/it]"
     ]
    },
    {
     "name": "stdout",
     "output_type": "stream",
     "text": [
      "eigenvalues shape torch.Size([5]) eigenvectors shape torch.Size([5, 625])\n",
      "186 /home/phdcs2/Hard_Disk/Datasets/Deep-Spectral-Segmentation/data/object-segmentation/ECSSD/features/dino_vits16/0187.pth\n",
      "0187\n",
      "Starting Training\n",
      "epoch: 00, loss: -0.38892\n",
      "epoch: 01, loss: -0.41567\n",
      "epoch: 02, loss: -0.41757\n",
      "epoch: 03, loss: -0.41778\n",
      "epoch: 04, loss: -0.41815\n",
      "epoch: 05, loss: -0.41909\n",
      "epoch: 06, loss: -0.41906\n",
      "epoch: 07, loss: -0.41859\n",
      "epoch: 08, loss: -0.41970\n",
      "epoch: 09, loss: -0.41960\n"
     ]
    },
    {
     "name": "stderr",
     "output_type": "stream",
     "text": [
      " 19%|█▊        | 187/1000 [1:11:07<5:48:41, 25.73s/it]"
     ]
    },
    {
     "name": "stdout",
     "output_type": "stream",
     "text": [
      "eigenvalues shape torch.Size([5]) eigenvectors shape torch.Size([5, 200])\n",
      "187 /home/phdcs2/Hard_Disk/Datasets/Deep-Spectral-Segmentation/data/object-segmentation/ECSSD/features/dino_vits16/0188.pth\n",
      "0188\n",
      "Starting Training\n",
      "epoch: 00, loss: -0.42493\n",
      "epoch: 01, loss: -0.43348\n",
      "epoch: 02, loss: -0.42833\n",
      "epoch: 03, loss: -0.42463\n",
      "epoch: 04, loss: -0.42305\n",
      "epoch: 05, loss: -0.42246\n",
      "epoch: 06, loss: -0.42280\n",
      "epoch: 07, loss: -0.93297\n",
      "epoch: 08, loss: -0.99902\n",
      "epoch: 09, loss: -0.99904\n"
     ]
    },
    {
     "name": "stderr",
     "output_type": "stream",
     "text": [
      " 19%|█▉        | 188/1000 [1:11:28<5:27:40, 24.21s/it]"
     ]
    },
    {
     "name": "stdout",
     "output_type": "stream",
     "text": [
      "eigenvalues shape torch.Size([5]) eigenvectors shape torch.Size([5, 400])\n",
      "188 /home/phdcs2/Hard_Disk/Datasets/Deep-Spectral-Segmentation/data/object-segmentation/ECSSD/features/dino_vits16/0189.pth\n",
      "0189\n",
      "Starting Training\n",
      "epoch: 00, loss: -0.41524\n",
      "epoch: 01, loss: -0.41848\n",
      "epoch: 02, loss: -0.70958\n",
      "epoch: 03, loss: -0.99842\n",
      "epoch: 04, loss: -0.99845\n",
      "epoch: 05, loss: -0.99837\n",
      "epoch: 06, loss: -0.99841\n",
      "epoch: 07, loss: -0.99841\n",
      "epoch: 08, loss: -0.99842\n",
      "epoch: 09, loss: -0.99849\n"
     ]
    },
    {
     "name": "stderr",
     "output_type": "stream",
     "text": [
      " 19%|█▉        | 189/1000 [1:11:45<5:00:40, 22.24s/it]"
     ]
    },
    {
     "name": "stdout",
     "output_type": "stream",
     "text": [
      "eigenvalues shape torch.Size([5]) eigenvectors shape torch.Size([5, 400])\n",
      "189 /home/phdcs2/Hard_Disk/Datasets/Deep-Spectral-Segmentation/data/object-segmentation/ECSSD/features/dino_vits16/0190.pth\n",
      "0190\n",
      "Starting Training\n",
      "epoch: 00, loss: -0.37996\n",
      "epoch: 01, loss: -0.40496\n",
      "epoch: 02, loss: -0.44794\n",
      "epoch: 03, loss: -0.47460\n",
      "epoch: 04, loss: -0.48955\n",
      "epoch: 05, loss: -0.49983\n",
      "epoch: 06, loss: -0.50564\n",
      "epoch: 07, loss: -0.50773\n",
      "epoch: 08, loss: -0.51125\n",
      "epoch: 09, loss: -0.51393\n"
     ]
    },
    {
     "name": "stderr",
     "output_type": "stream",
     "text": [
      " 19%|█▉        | 190/1000 [1:12:07<4:59:01, 22.15s/it]"
     ]
    },
    {
     "name": "stdout",
     "output_type": "stream",
     "text": [
      "eigenvalues shape torch.Size([5]) eigenvectors shape torch.Size([5, 450])\n",
      "190 /home/phdcs2/Hard_Disk/Datasets/Deep-Spectral-Segmentation/data/object-segmentation/ECSSD/features/dino_vits16/0191.pth\n",
      "0191\n",
      "Starting Training\n",
      "epoch: 00, loss: -0.37297\n",
      "epoch: 01, loss: -0.37581\n",
      "epoch: 02, loss: -0.37818\n",
      "epoch: 03, loss: -0.37874\n",
      "epoch: 04, loss: -0.38024\n",
      "epoch: 05, loss: -0.37998\n",
      "epoch: 06, loss: -0.38012\n",
      "epoch: 07, loss: -0.38069\n",
      "epoch: 08, loss: -0.38118\n",
      "epoch: 09, loss: -0.38077\n"
     ]
    },
    {
     "name": "stderr",
     "output_type": "stream",
     "text": [
      " 19%|█▉        | 191/1000 [1:12:31<5:03:47, 22.53s/it]"
     ]
    },
    {
     "name": "stdout",
     "output_type": "stream",
     "text": [
      "eigenvalues shape torch.Size([5]) eigenvectors shape torch.Size([5, 450])\n",
      "191 /home/phdcs2/Hard_Disk/Datasets/Deep-Spectral-Segmentation/data/object-segmentation/ECSSD/features/dino_vits16/0192.pth\n",
      "0192\n",
      "Starting Training\n",
      "epoch: 00, loss: -0.40149\n",
      "epoch: 01, loss: -0.41413\n",
      "epoch: 02, loss: -0.41694\n",
      "epoch: 03, loss: -0.41704\n",
      "epoch: 04, loss: -0.41764\n",
      "epoch: 05, loss: -0.41800\n",
      "epoch: 06, loss: -0.41575\n",
      "epoch: 07, loss: -0.41367\n",
      "epoch: 08, loss: -0.41003\n",
      "epoch: 09, loss: -0.40688\n"
     ]
    },
    {
     "name": "stderr",
     "output_type": "stream",
     "text": [
      " 19%|█▉        | 192/1000 [1:12:54<5:05:58, 22.72s/it]"
     ]
    },
    {
     "name": "stdout",
     "output_type": "stream",
     "text": [
      "eigenvalues shape torch.Size([5]) eigenvectors shape torch.Size([5, 400])\n",
      "192 /home/phdcs2/Hard_Disk/Datasets/Deep-Spectral-Segmentation/data/object-segmentation/ECSSD/features/dino_vits16/0193.pth\n",
      "0193\n",
      "Starting Training\n",
      "epoch: 00, loss: -0.37781\n",
      "epoch: 01, loss: -0.38849\n",
      "epoch: 02, loss: -0.39139\n",
      "epoch: 03, loss: -0.39274\n",
      "epoch: 04, loss: -0.39431\n",
      "epoch: 05, loss: -0.39517\n",
      "epoch: 06, loss: -0.39561\n",
      "epoch: 07, loss: -0.39409\n",
      "epoch: 08, loss: -0.39479\n",
      "epoch: 09, loss: -0.39581\n"
     ]
    },
    {
     "name": "stderr",
     "output_type": "stream",
     "text": [
      " 19%|█▉        | 193/1000 [1:13:18<5:10:24, 23.08s/it]"
     ]
    },
    {
     "name": "stdout",
     "output_type": "stream",
     "text": [
      "eigenvalues shape torch.Size([5]) eigenvectors shape torch.Size([5, 450])\n",
      "193 /home/phdcs2/Hard_Disk/Datasets/Deep-Spectral-Segmentation/data/object-segmentation/ECSSD/features/dino_vits16/0194.pth\n",
      "0194\n",
      "Starting Training\n",
      "epoch: 00, loss: -0.39818\n",
      "epoch: 01, loss: -0.41004\n",
      "epoch: 02, loss: -0.41000\n",
      "epoch: 03, loss: -0.41072\n",
      "epoch: 04, loss: -0.41098\n",
      "epoch: 05, loss: -0.41286\n",
      "epoch: 06, loss: -0.41288\n",
      "epoch: 07, loss: -0.41419\n",
      "epoch: 08, loss: -0.41518\n",
      "epoch: 09, loss: -0.41596\n"
     ]
    },
    {
     "name": "stderr",
     "output_type": "stream",
     "text": [
      " 19%|█▉        | 194/1000 [1:13:44<5:24:33, 24.16s/it]"
     ]
    },
    {
     "name": "stdout",
     "output_type": "stream",
     "text": [
      "eigenvalues shape torch.Size([5]) eigenvectors shape torch.Size([5, 450])\n",
      "194 /home/phdcs2/Hard_Disk/Datasets/Deep-Spectral-Segmentation/data/object-segmentation/ECSSD/features/dino_vits16/0195.pth\n",
      "0195\n",
      "Starting Training\n",
      "epoch: 00, loss: -0.35623\n",
      "epoch: 01, loss: -0.35768\n",
      "epoch: 02, loss: -0.35693\n",
      "epoch: 03, loss: -0.35738\n",
      "epoch: 04, loss: -0.35721\n",
      "epoch: 05, loss: -0.35840\n",
      "epoch: 06, loss: -0.35975\n",
      "epoch: 07, loss: -0.36105\n",
      "epoch: 08, loss: -0.36141\n",
      "epoch: 09, loss: -0.36340\n"
     ]
    },
    {
     "name": "stderr",
     "output_type": "stream",
     "text": [
      " 20%|█▉        | 195/1000 [1:14:07<5:19:56, 23.85s/it]"
     ]
    },
    {
     "name": "stdout",
     "output_type": "stream",
     "text": [
      "eigenvalues shape torch.Size([5]) eigenvectors shape torch.Size([5, 400])\n",
      "195 /home/phdcs2/Hard_Disk/Datasets/Deep-Spectral-Segmentation/data/object-segmentation/ECSSD/features/dino_vits16/0196.pth\n",
      "0196\n",
      "Starting Training\n",
      "epoch: 00, loss: -0.62825\n",
      "epoch: 01, loss: -0.65647\n",
      "epoch: 02, loss: -0.65785\n",
      "epoch: 03, loss: -0.65990\n",
      "epoch: 04, loss: -0.66171\n",
      "epoch: 05, loss: -0.66360\n",
      "epoch: 06, loss: -0.66522\n",
      "epoch: 07, loss: -0.66664\n",
      "epoch: 08, loss: -0.66751\n",
      "epoch: 09, loss: -0.66898\n"
     ]
    },
    {
     "name": "stderr",
     "output_type": "stream",
     "text": [
      " 20%|█▉        | 196/1000 [1:14:46<6:17:23, 28.16s/it]"
     ]
    },
    {
     "name": "stdout",
     "output_type": "stream",
     "text": [
      "eigenvalues shape torch.Size([5]) eigenvectors shape torch.Size([5, 625])\n",
      "196 /home/phdcs2/Hard_Disk/Datasets/Deep-Spectral-Segmentation/data/object-segmentation/ECSSD/features/dino_vits16/0197.pth\n",
      "0197\n",
      "Starting Training\n",
      "epoch: 00, loss: -0.37974\n",
      "epoch: 01, loss: -0.38878\n",
      "epoch: 02, loss: -0.38711\n",
      "epoch: 03, loss: -0.38205\n",
      "epoch: 04, loss: -0.37796\n",
      "epoch: 05, loss: -0.37696\n",
      "epoch: 06, loss: -0.37819\n",
      "epoch: 07, loss: -0.38099\n",
      "epoch: 08, loss: -0.38498\n",
      "epoch: 09, loss: -0.38999\n"
     ]
    },
    {
     "name": "stderr",
     "output_type": "stream",
     "text": [
      " 20%|█▉        | 197/1000 [1:15:13<6:13:41, 27.92s/it]"
     ]
    },
    {
     "name": "stdout",
     "output_type": "stream",
     "text": [
      "eigenvalues shape torch.Size([5]) eigenvectors shape torch.Size([5, 400])\n",
      "197 /home/phdcs2/Hard_Disk/Datasets/Deep-Spectral-Segmentation/data/object-segmentation/ECSSD/features/dino_vits16/0198.pth\n",
      "0198\n",
      "Starting Training\n",
      "epoch: 00, loss: -0.36842\n",
      "epoch: 01, loss: -0.36735\n",
      "epoch: 02, loss: -0.36662\n",
      "epoch: 03, loss: -0.37056\n",
      "epoch: 04, loss: -0.37679\n",
      "epoch: 05, loss: -0.38249\n",
      "epoch: 06, loss: -0.38860\n",
      "epoch: 07, loss: -0.39405\n",
      "epoch: 08, loss: -0.39814\n",
      "epoch: 09, loss: -0.40207\n"
     ]
    },
    {
     "name": "stderr",
     "output_type": "stream",
     "text": [
      " 20%|█▉        | 198/1000 [1:15:40<6:07:56, 27.53s/it]"
     ]
    },
    {
     "name": "stdout",
     "output_type": "stream",
     "text": [
      "eigenvalues shape torch.Size([5]) eigenvectors shape torch.Size([5, 425])\n",
      "198 /home/phdcs2/Hard_Disk/Datasets/Deep-Spectral-Segmentation/data/object-segmentation/ECSSD/features/dino_vits16/0199.pth\n",
      "0199\n",
      "Starting Training\n",
      "epoch: 00, loss: -0.38425\n",
      "epoch: 01, loss: -0.38906\n",
      "epoch: 02, loss: -0.38696\n",
      "epoch: 03, loss: -0.38470\n",
      "epoch: 04, loss: -0.38280\n",
      "epoch: 05, loss: -0.38057\n",
      "epoch: 06, loss: -0.37894\n",
      "epoch: 07, loss: -0.37733\n",
      "epoch: 08, loss: -0.37590\n",
      "epoch: 09, loss: -0.37473\n"
     ]
    },
    {
     "name": "stderr",
     "output_type": "stream",
     "text": [
      " 20%|█▉        | 199/1000 [1:16:04<5:55:59, 26.67s/it]"
     ]
    },
    {
     "name": "stdout",
     "output_type": "stream",
     "text": [
      "eigenvalues shape torch.Size([5]) eigenvectors shape torch.Size([5, 450])\n",
      "199 /home/phdcs2/Hard_Disk/Datasets/Deep-Spectral-Segmentation/data/object-segmentation/ECSSD/features/dino_vits16/0200.pth\n",
      "0200\n",
      "Starting Training\n",
      "epoch: 00, loss: -0.38046\n",
      "epoch: 01, loss: -0.38207\n",
      "epoch: 02, loss: -0.38377\n",
      "epoch: 03, loss: -0.38485\n",
      "epoch: 04, loss: -0.38602\n",
      "epoch: 05, loss: -0.38679\n",
      "epoch: 06, loss: -0.38799\n",
      "epoch: 07, loss: -0.38906\n",
      "epoch: 08, loss: -0.38941\n",
      "epoch: 09, loss: -0.38987\n"
     ]
    },
    {
     "name": "stderr",
     "output_type": "stream",
     "text": [
      " 20%|██        | 200/1000 [1:16:24<5:28:22, 24.63s/it]"
     ]
    },
    {
     "name": "stdout",
     "output_type": "stream",
     "text": [
      "eigenvalues shape torch.Size([5]) eigenvectors shape torch.Size([5, 450])\n",
      "200 /home/phdcs2/Hard_Disk/Datasets/Deep-Spectral-Segmentation/data/object-segmentation/ECSSD/features/dino_vits16/0201.pth\n",
      "0201\n",
      "Starting Training\n",
      "epoch: 00, loss: -0.39407\n",
      "epoch: 01, loss: -0.39926\n",
      "epoch: 02, loss: -0.39685\n",
      "epoch: 03, loss: -0.39738\n",
      "epoch: 04, loss: -0.39764\n",
      "epoch: 05, loss: -0.39972\n",
      "epoch: 06, loss: -0.40189\n",
      "epoch: 07, loss: -0.40301\n",
      "epoch: 08, loss: -0.40584\n",
      "epoch: 09, loss: -0.40938\n"
     ]
    },
    {
     "name": "stderr",
     "output_type": "stream",
     "text": [
      " 20%|██        | 201/1000 [1:16:46<5:15:00, 23.66s/it]"
     ]
    },
    {
     "name": "stdout",
     "output_type": "stream",
     "text": [
      "eigenvalues shape torch.Size([5]) eigenvectors shape torch.Size([5, 425])\n",
      "201 /home/phdcs2/Hard_Disk/Datasets/Deep-Spectral-Segmentation/data/object-segmentation/ECSSD/features/dino_vits16/0202.pth\n",
      "0202\n",
      "Starting Training\n",
      "epoch: 00, loss: -0.37347\n",
      "epoch: 01, loss: -0.37603\n",
      "epoch: 02, loss: -0.37694\n",
      "epoch: 03, loss: -0.37629\n",
      "epoch: 04, loss: -0.37653\n",
      "epoch: 05, loss: -0.37644\n",
      "epoch: 06, loss: -0.37661\n",
      "epoch: 07, loss: -0.37689\n",
      "epoch: 08, loss: -0.37634\n",
      "epoch: 09, loss: -0.37682\n"
     ]
    },
    {
     "name": "stderr",
     "output_type": "stream",
     "text": [
      " 20%|██        | 202/1000 [1:17:06<5:01:04, 22.64s/it]"
     ]
    },
    {
     "name": "stdout",
     "output_type": "stream",
     "text": [
      "eigenvalues shape torch.Size([5]) eigenvectors shape torch.Size([5, 400])\n",
      "202 /home/phdcs2/Hard_Disk/Datasets/Deep-Spectral-Segmentation/data/object-segmentation/ECSSD/features/dino_vits16/0203.pth\n",
      "0203\n",
      "Starting Training\n",
      "epoch: 00, loss: -0.37350\n",
      "epoch: 01, loss: -0.37790\n",
      "epoch: 02, loss: -0.38008\n",
      "epoch: 03, loss: -0.38238\n",
      "epoch: 04, loss: -0.38336\n",
      "epoch: 05, loss: -0.38566\n",
      "epoch: 06, loss: -0.38692\n",
      "epoch: 07, loss: -0.38856\n",
      "epoch: 08, loss: -0.39123\n",
      "epoch: 09, loss: -0.39215\n"
     ]
    },
    {
     "name": "stderr",
     "output_type": "stream",
     "text": [
      " 20%|██        | 203/1000 [1:17:25<4:48:07, 21.69s/it]"
     ]
    },
    {
     "name": "stdout",
     "output_type": "stream",
     "text": [
      "eigenvalues shape torch.Size([5]) eigenvectors shape torch.Size([5, 400])\n",
      "203 /home/phdcs2/Hard_Disk/Datasets/Deep-Spectral-Segmentation/data/object-segmentation/ECSSD/features/dino_vits16/0204.pth\n",
      "0204\n",
      "Starting Training\n",
      "epoch: 00, loss: -0.36353\n",
      "epoch: 01, loss: -0.36699\n",
      "epoch: 02, loss: -0.37547\n",
      "epoch: 03, loss: -0.38257\n",
      "epoch: 04, loss: -0.39079\n",
      "epoch: 05, loss: -0.39923\n",
      "epoch: 06, loss: -0.40688\n",
      "epoch: 07, loss: -0.41529\n",
      "epoch: 08, loss: -0.42381\n",
      "epoch: 09, loss: -0.43254\n"
     ]
    },
    {
     "name": "stderr",
     "output_type": "stream",
     "text": [
      " 20%|██        | 204/1000 [1:17:48<4:52:49, 22.07s/it]"
     ]
    },
    {
     "name": "stdout",
     "output_type": "stream",
     "text": [
      "eigenvalues shape torch.Size([5]) eigenvectors shape torch.Size([5, 450])\n",
      "204 /home/phdcs2/Hard_Disk/Datasets/Deep-Spectral-Segmentation/data/object-segmentation/ECSSD/features/dino_vits16/0205.pth\n",
      "0205\n",
      "Starting Training\n",
      "epoch: 00, loss: -0.42021\n",
      "epoch: 01, loss: -0.43038\n",
      "epoch: 02, loss: -0.43772\n",
      "epoch: 03, loss: -0.44443\n",
      "epoch: 04, loss: -0.45184\n",
      "epoch: 05, loss: -0.45752\n",
      "epoch: 06, loss: -0.46207\n",
      "epoch: 07, loss: -0.46557\n",
      "epoch: 08, loss: -0.46849\n",
      "epoch: 09, loss: -0.47114\n"
     ]
    },
    {
     "name": "stderr",
     "output_type": "stream",
     "text": [
      " 20%|██        | 205/1000 [1:18:12<4:58:09, 22.50s/it]"
     ]
    },
    {
     "name": "stdout",
     "output_type": "stream",
     "text": [
      "eigenvalues shape torch.Size([5]) eigenvectors shape torch.Size([5, 450])\n",
      "205 /home/phdcs2/Hard_Disk/Datasets/Deep-Spectral-Segmentation/data/object-segmentation/ECSSD/features/dino_vits16/0206.pth\n",
      "0206\n",
      "Starting Training\n",
      "epoch: 00, loss: -0.39013\n",
      "epoch: 01, loss: -0.40085\n",
      "epoch: 02, loss: -0.40364\n",
      "epoch: 03, loss: -0.40633\n",
      "epoch: 04, loss: -0.40828\n",
      "epoch: 05, loss: -0.41010\n",
      "epoch: 06, loss: -0.41222\n",
      "epoch: 07, loss: -0.41545\n",
      "epoch: 08, loss: -0.41633\n",
      "epoch: 09, loss: -0.41944\n"
     ]
    },
    {
     "name": "stderr",
     "output_type": "stream",
     "text": [
      " 21%|██        | 206/1000 [1:18:33<4:52:35, 22.11s/it]"
     ]
    },
    {
     "name": "stdout",
     "output_type": "stream",
     "text": [
      "eigenvalues shape torch.Size([5]) eigenvectors shape torch.Size([5, 400])\n",
      "206 /home/phdcs2/Hard_Disk/Datasets/Deep-Spectral-Segmentation/data/object-segmentation/ECSSD/features/dino_vits16/0207.pth\n",
      "0207\n",
      "Starting Training\n",
      "epoch: 00, loss: -0.37456\n",
      "epoch: 01, loss: -0.37694\n",
      "epoch: 02, loss: -0.37929\n",
      "epoch: 03, loss: -0.38812\n",
      "epoch: 04, loss: -0.40042\n",
      "epoch: 05, loss: -0.40976\n",
      "epoch: 06, loss: -0.42384\n",
      "epoch: 07, loss: -0.42538\n",
      "epoch: 08, loss: -0.43167\n",
      "epoch: 09, loss: -0.43801\n"
     ]
    },
    {
     "name": "stderr",
     "output_type": "stream",
     "text": [
      " 21%|██        | 207/1000 [1:18:54<4:46:39, 21.69s/it]"
     ]
    },
    {
     "name": "stdout",
     "output_type": "stream",
     "text": [
      "eigenvalues shape torch.Size([5]) eigenvectors shape torch.Size([5, 400])\n",
      "207 /home/phdcs2/Hard_Disk/Datasets/Deep-Spectral-Segmentation/data/object-segmentation/ECSSD/features/dino_vits16/0208.pth\n",
      "0208\n",
      "Starting Training\n",
      "epoch: 00, loss: -0.39184\n",
      "epoch: 01, loss: -0.40857\n",
      "epoch: 02, loss: -0.41491\n",
      "epoch: 03, loss: -0.41838\n",
      "epoch: 04, loss: -0.42135\n",
      "epoch: 05, loss: -0.42535\n",
      "epoch: 06, loss: -0.42910\n",
      "epoch: 07, loss: -0.43103\n",
      "epoch: 08, loss: -0.43312\n",
      "epoch: 09, loss: -0.43540\n"
     ]
    },
    {
     "name": "stderr",
     "output_type": "stream",
     "text": [
      " 21%|██        | 208/1000 [1:19:18<4:57:10, 22.51s/it]"
     ]
    },
    {
     "name": "stdout",
     "output_type": "stream",
     "text": [
      "eigenvalues shape torch.Size([5]) eigenvectors shape torch.Size([5, 450])\n",
      "208 /home/phdcs2/Hard_Disk/Datasets/Deep-Spectral-Segmentation/data/object-segmentation/ECSSD/features/dino_vits16/0209.pth\n",
      "0209\n",
      "Starting Training\n",
      "epoch: 00, loss: -0.38752\n",
      "epoch: 01, loss: -0.39327\n",
      "epoch: 02, loss: -0.39799\n",
      "epoch: 03, loss: -0.40370\n",
      "epoch: 04, loss: -0.40916\n",
      "epoch: 05, loss: -0.41368\n",
      "epoch: 06, loss: -0.41766\n",
      "epoch: 07, loss: -0.42094\n",
      "epoch: 08, loss: -0.42272\n",
      "epoch: 09, loss: -0.42539\n"
     ]
    },
    {
     "name": "stderr",
     "output_type": "stream",
     "text": [
      " 21%|██        | 209/1000 [1:19:49<5:28:26, 24.91s/it]"
     ]
    },
    {
     "name": "stdout",
     "output_type": "stream",
     "text": [
      "eigenvalues shape torch.Size([5]) eigenvectors shape torch.Size([5, 500])\n",
      "209 /home/phdcs2/Hard_Disk/Datasets/Deep-Spectral-Segmentation/data/object-segmentation/ECSSD/features/dino_vits16/0210.pth\n",
      "0210\n",
      "Starting Training\n",
      "epoch: 00, loss: -0.38019\n",
      "epoch: 01, loss: -0.38480\n",
      "epoch: 02, loss: -0.38695\n",
      "epoch: 03, loss: -0.38855\n",
      "epoch: 04, loss: -0.39246\n",
      "epoch: 05, loss: -0.39989\n",
      "epoch: 06, loss: -0.40164\n",
      "epoch: 07, loss: -0.40385\n",
      "epoch: 08, loss: -0.40535\n",
      "epoch: 09, loss: -0.40814\n"
     ]
    },
    {
     "name": "stderr",
     "output_type": "stream",
     "text": [
      " 21%|██        | 210/1000 [1:20:13<5:23:54, 24.60s/it]"
     ]
    },
    {
     "name": "stdout",
     "output_type": "stream",
     "text": [
      "eigenvalues shape torch.Size([5]) eigenvectors shape torch.Size([5, 425])\n",
      "210 /home/phdcs2/Hard_Disk/Datasets/Deep-Spectral-Segmentation/data/object-segmentation/ECSSD/features/dino_vits16/0211.pth\n",
      "0211\n",
      "Starting Training\n",
      "epoch: 00, loss: -0.35088\n",
      "epoch: 01, loss: -0.36079\n",
      "epoch: 02, loss: -0.36839\n",
      "epoch: 03, loss: -0.37829\n",
      "epoch: 04, loss: -0.39119\n",
      "epoch: 05, loss: -0.40117\n",
      "epoch: 06, loss: -0.41188\n",
      "epoch: 07, loss: -0.42337\n",
      "epoch: 08, loss: -0.43019\n",
      "epoch: 09, loss: -0.43612\n"
     ]
    },
    {
     "name": "stderr",
     "output_type": "stream",
     "text": [
      " 21%|██        | 211/1000 [1:20:39<5:30:18, 25.12s/it]"
     ]
    },
    {
     "name": "stdout",
     "output_type": "stream",
     "text": [
      "eigenvalues shape torch.Size([5]) eigenvectors shape torch.Size([5, 500])\n",
      "211 /home/phdcs2/Hard_Disk/Datasets/Deep-Spectral-Segmentation/data/object-segmentation/ECSSD/features/dino_vits16/0212.pth\n",
      "0212\n",
      "Starting Training\n",
      "epoch: 00, loss: -0.37784\n",
      "epoch: 01, loss: -0.37834\n",
      "epoch: 02, loss: -0.37523\n",
      "epoch: 03, loss: -0.37420\n",
      "epoch: 04, loss: -0.37308\n",
      "epoch: 05, loss: -0.37289\n",
      "epoch: 06, loss: -0.37320\n",
      "epoch: 07, loss: -0.37433\n",
      "epoch: 08, loss: -0.37580\n",
      "epoch: 09, loss: -0.37795\n"
     ]
    },
    {
     "name": "stderr",
     "output_type": "stream",
     "text": [
      " 21%|██        | 212/1000 [1:21:10<5:55:24, 27.06s/it]"
     ]
    },
    {
     "name": "stdout",
     "output_type": "stream",
     "text": [
      "eigenvalues shape torch.Size([5]) eigenvectors shape torch.Size([5, 625])\n",
      "212 /home/phdcs2/Hard_Disk/Datasets/Deep-Spectral-Segmentation/data/object-segmentation/ECSSD/features/dino_vits16/0213.pth\n",
      "0213\n",
      "Starting Training\n",
      "epoch: 00, loss: -0.38262\n",
      "epoch: 01, loss: -0.38166\n",
      "epoch: 02, loss: -0.38137\n",
      "epoch: 03, loss: -0.38055\n",
      "epoch: 04, loss: -0.38004\n",
      "epoch: 05, loss: -0.37898\n",
      "epoch: 06, loss: -0.37886\n",
      "epoch: 07, loss: -0.37856\n",
      "epoch: 08, loss: -0.37850\n",
      "epoch: 09, loss: -0.37829\n"
     ]
    },
    {
     "name": "stderr",
     "output_type": "stream",
     "text": [
      " 21%|██▏       | 213/1000 [1:21:32<5:31:51, 25.30s/it]"
     ]
    },
    {
     "name": "stdout",
     "output_type": "stream",
     "text": [
      "eigenvalues shape torch.Size([5]) eigenvectors shape torch.Size([5, 450])\n",
      "213 /home/phdcs2/Hard_Disk/Datasets/Deep-Spectral-Segmentation/data/object-segmentation/ECSSD/features/dino_vits16/0214.pth\n",
      "0214\n",
      "Starting Training\n",
      "epoch: 00, loss: -0.33710\n",
      "epoch: 01, loss: -0.33588\n",
      "epoch: 02, loss: -0.33553\n",
      "epoch: 03, loss: -0.33600\n",
      "epoch: 04, loss: -0.33714\n",
      "epoch: 05, loss: -0.34010\n",
      "epoch: 06, loss: -0.34038\n",
      "epoch: 07, loss: -0.34346\n",
      "epoch: 08, loss: -0.34677\n",
      "epoch: 09, loss: -0.34971\n"
     ]
    },
    {
     "name": "stderr",
     "output_type": "stream",
     "text": [
      " 21%|██▏       | 214/1000 [1:21:50<5:03:23, 23.16s/it]"
     ]
    },
    {
     "name": "stdout",
     "output_type": "stream",
     "text": [
      "eigenvalues shape torch.Size([5]) eigenvectors shape torch.Size([5, 350])\n",
      "214 /home/phdcs2/Hard_Disk/Datasets/Deep-Spectral-Segmentation/data/object-segmentation/ECSSD/features/dino_vits16/0215.pth\n",
      "0215\n",
      "Starting Training\n",
      "epoch: 00, loss: -0.41015\n",
      "epoch: 01, loss: -0.42580\n",
      "epoch: 02, loss: -0.42524\n",
      "epoch: 03, loss: -0.42559\n",
      "epoch: 04, loss: -0.42665\n",
      "epoch: 05, loss: -0.42725\n",
      "epoch: 06, loss: -0.42874\n",
      "epoch: 07, loss: -0.42948\n",
      "epoch: 08, loss: -0.42903\n",
      "epoch: 09, loss: -0.43016\n"
     ]
    },
    {
     "name": "stderr",
     "output_type": "stream",
     "text": [
      " 22%|██▏       | 215/1000 [1:22:10<4:49:46, 22.15s/it]"
     ]
    },
    {
     "name": "stdout",
     "output_type": "stream",
     "text": [
      "eigenvalues shape torch.Size([5]) eigenvectors shape torch.Size([5, 425])\n",
      "215 /home/phdcs2/Hard_Disk/Datasets/Deep-Spectral-Segmentation/data/object-segmentation/ECSSD/features/dino_vits16/0216.pth\n",
      "0216\n",
      "Starting Training\n",
      "epoch: 00, loss: -0.44733\n",
      "epoch: 01, loss: -0.45020\n",
      "epoch: 02, loss: -0.45479\n",
      "epoch: 03, loss: -0.45876\n",
      "epoch: 04, loss: -0.46333\n",
      "epoch: 05, loss: -0.46730\n",
      "epoch: 06, loss: -0.47146\n",
      "epoch: 07, loss: -0.47611\n",
      "epoch: 08, loss: -0.47991\n",
      "epoch: 09, loss: -0.48376\n"
     ]
    },
    {
     "name": "stderr",
     "output_type": "stream",
     "text": [
      " 22%|██▏       | 216/1000 [1:22:30<4:40:55, 21.50s/it]"
     ]
    },
    {
     "name": "stdout",
     "output_type": "stream",
     "text": [
      "eigenvalues shape torch.Size([5]) eigenvectors shape torch.Size([5, 450])\n",
      "216 /home/phdcs2/Hard_Disk/Datasets/Deep-Spectral-Segmentation/data/object-segmentation/ECSSD/features/dino_vits16/0217.pth\n",
      "0217\n",
      "Starting Training\n",
      "epoch: 00, loss: -0.39656\n",
      "epoch: 01, loss: -0.40360\n",
      "epoch: 02, loss: -0.40527\n",
      "epoch: 03, loss: -0.40651\n",
      "epoch: 04, loss: -0.40628\n",
      "epoch: 05, loss: -0.40685\n",
      "epoch: 06, loss: -0.40775\n",
      "epoch: 07, loss: -0.40801\n",
      "epoch: 08, loss: -0.40971\n",
      "epoch: 09, loss: -0.41415\n"
     ]
    },
    {
     "name": "stderr",
     "output_type": "stream",
     "text": [
      " 22%|██▏       | 217/1000 [1:22:50<4:37:07, 21.24s/it]"
     ]
    },
    {
     "name": "stdout",
     "output_type": "stream",
     "text": [
      "eigenvalues shape torch.Size([5]) eigenvectors shape torch.Size([5, 450])\n",
      "217 /home/phdcs2/Hard_Disk/Datasets/Deep-Spectral-Segmentation/data/object-segmentation/ECSSD/features/dino_vits16/0218.pth\n",
      "0218\n",
      "Starting Training\n",
      "epoch: 00, loss: -0.40724\n",
      "epoch: 01, loss: -0.40785\n",
      "epoch: 02, loss: -0.40967\n",
      "epoch: 03, loss: -0.41337\n",
      "epoch: 04, loss: -0.41666\n",
      "epoch: 05, loss: -0.41917\n",
      "epoch: 06, loss: -0.42194\n",
      "epoch: 07, loss: -0.42409\n",
      "epoch: 08, loss: -0.42583\n",
      "epoch: 09, loss: -0.42788\n"
     ]
    },
    {
     "name": "stderr",
     "output_type": "stream",
     "text": [
      " 22%|██▏       | 218/1000 [1:23:18<5:03:26, 23.28s/it]"
     ]
    },
    {
     "name": "stdout",
     "output_type": "stream",
     "text": [
      "eigenvalues shape torch.Size([5]) eigenvectors shape torch.Size([5, 500])\n",
      "218 /home/phdcs2/Hard_Disk/Datasets/Deep-Spectral-Segmentation/data/object-segmentation/ECSSD/features/dino_vits16/0219.pth\n",
      "0219\n",
      "Starting Training\n",
      "epoch: 00, loss: -0.65496\n",
      "epoch: 01, loss: -0.68122\n",
      "epoch: 02, loss: -0.68367\n",
      "epoch: 03, loss: -0.68546\n",
      "epoch: 04, loss: -0.68690\n",
      "epoch: 05, loss: -0.68803\n",
      "epoch: 06, loss: -0.68955\n",
      "epoch: 07, loss: -0.69092\n",
      "epoch: 08, loss: -0.69199\n",
      "epoch: 09, loss: -0.69271\n"
     ]
    },
    {
     "name": "stderr",
     "output_type": "stream",
     "text": [
      " 22%|██▏       | 219/1000 [1:23:41<4:59:06, 22.98s/it]"
     ]
    },
    {
     "name": "stdout",
     "output_type": "stream",
     "text": [
      "eigenvalues shape torch.Size([5]) eigenvectors shape torch.Size([5, 450])\n",
      "219 /home/phdcs2/Hard_Disk/Datasets/Deep-Spectral-Segmentation/data/object-segmentation/ECSSD/features/dino_vits16/0220.pth\n",
      "0220\n",
      "Starting Training\n",
      "epoch: 00, loss: -0.47237\n",
      "epoch: 01, loss: -0.49501\n",
      "epoch: 02, loss: -0.49668\n",
      "epoch: 03, loss: -0.49818\n",
      "epoch: 04, loss: -0.49937\n",
      "epoch: 05, loss: -0.49999\n",
      "epoch: 06, loss: -0.50087\n",
      "epoch: 07, loss: -0.50136\n",
      "epoch: 08, loss: -0.50198\n",
      "epoch: 09, loss: -0.50322\n"
     ]
    },
    {
     "name": "stderr",
     "output_type": "stream",
     "text": [
      " 22%|██▏       | 220/1000 [1:24:05<5:06:01, 23.54s/it]"
     ]
    },
    {
     "name": "stdout",
     "output_type": "stream",
     "text": [
      "eigenvalues shape torch.Size([5]) eigenvectors shape torch.Size([5, 500])\n",
      "220 /home/phdcs2/Hard_Disk/Datasets/Deep-Spectral-Segmentation/data/object-segmentation/ECSSD/features/dino_vits16/0221.pth\n",
      "0221\n",
      "Starting Training\n",
      "epoch: 00, loss: -0.36047\n",
      "epoch: 01, loss: -0.36764\n",
      "epoch: 02, loss: -0.36874\n",
      "epoch: 03, loss: -0.37131\n",
      "epoch: 04, loss: -0.37354\n",
      "epoch: 05, loss: -0.37538\n",
      "epoch: 06, loss: -0.37717\n",
      "epoch: 07, loss: -0.37970\n",
      "epoch: 08, loss: -0.38136\n",
      "epoch: 09, loss: -0.38381\n"
     ]
    },
    {
     "name": "stderr",
     "output_type": "stream",
     "text": [
      " 22%|██▏       | 221/1000 [1:24:25<4:51:18, 22.44s/it]"
     ]
    },
    {
     "name": "stdout",
     "output_type": "stream",
     "text": [
      "eigenvalues shape torch.Size([5]) eigenvectors shape torch.Size([5, 400])\n",
      "221 /home/phdcs2/Hard_Disk/Datasets/Deep-Spectral-Segmentation/data/object-segmentation/ECSSD/features/dino_vits16/0222.pth\n",
      "0222\n",
      "Starting Training\n",
      "epoch: 00, loss: -0.40889\n",
      "epoch: 01, loss: -0.41324\n",
      "epoch: 02, loss: -0.41607\n",
      "epoch: 03, loss: -0.42059\n",
      "epoch: 04, loss: -0.42550\n",
      "epoch: 05, loss: -0.42992\n",
      "epoch: 06, loss: -0.43431\n",
      "epoch: 07, loss: -0.43791\n",
      "epoch: 08, loss: -0.44249\n",
      "epoch: 09, loss: -0.44510\n"
     ]
    },
    {
     "name": "stderr",
     "output_type": "stream",
     "text": [
      " 22%|██▏       | 222/1000 [1:24:50<5:00:05, 23.14s/it]"
     ]
    },
    {
     "name": "stdout",
     "output_type": "stream",
     "text": [
      "eigenvalues shape torch.Size([5]) eigenvectors shape torch.Size([5, 500])\n",
      "222 /home/phdcs2/Hard_Disk/Datasets/Deep-Spectral-Segmentation/data/object-segmentation/ECSSD/features/dino_vits16/0223.pth\n",
      "0223\n",
      "Starting Training\n",
      "epoch: 00, loss: -0.35108\n",
      "epoch: 01, loss: -0.34985\n",
      "epoch: 02, loss: -0.35733\n",
      "epoch: 03, loss: -0.36273\n",
      "epoch: 04, loss: -0.36674\n",
      "epoch: 05, loss: -0.36970\n",
      "epoch: 06, loss: -0.37248\n",
      "epoch: 07, loss: -0.37486\n",
      "epoch: 08, loss: -0.37681\n",
      "epoch: 09, loss: -0.37845\n"
     ]
    },
    {
     "name": "stderr",
     "output_type": "stream",
     "text": [
      " 22%|██▏       | 223/1000 [1:25:19<5:22:59, 24.94s/it]"
     ]
    },
    {
     "name": "stdout",
     "output_type": "stream",
     "text": [
      "eigenvalues shape torch.Size([5]) eigenvectors shape torch.Size([5, 500])\n",
      "223 /home/phdcs2/Hard_Disk/Datasets/Deep-Spectral-Segmentation/data/object-segmentation/ECSSD/features/dino_vits16/0224.pth\n",
      "0224\n",
      "Starting Training\n",
      "epoch: 00, loss: -0.37775\n",
      "epoch: 01, loss: -0.36627\n",
      "epoch: 02, loss: -0.37045\n",
      "epoch: 03, loss: -0.37570\n",
      "epoch: 04, loss: -0.38017\n",
      "epoch: 05, loss: -0.38582\n",
      "epoch: 06, loss: -0.38999\n",
      "epoch: 07, loss: -0.39409\n",
      "epoch: 08, loss: -0.39896\n",
      "epoch: 09, loss: -0.40293\n"
     ]
    },
    {
     "name": "stderr",
     "output_type": "stream",
     "text": [
      " 22%|██▏       | 224/1000 [1:25:45<5:24:29, 25.09s/it]"
     ]
    },
    {
     "name": "stdout",
     "output_type": "stream",
     "text": [
      "eigenvalues shape torch.Size([5]) eigenvectors shape torch.Size([5, 500])\n",
      "224 /home/phdcs2/Hard_Disk/Datasets/Deep-Spectral-Segmentation/data/object-segmentation/ECSSD/features/dino_vits16/0225.pth\n",
      "0225\n",
      "Starting Training\n",
      "epoch: 00, loss: -0.40839\n",
      "epoch: 01, loss: -0.41789\n",
      "epoch: 02, loss: -0.41755\n",
      "epoch: 03, loss: -0.41781\n",
      "epoch: 04, loss: -0.41743\n",
      "epoch: 05, loss: -0.41767\n",
      "epoch: 06, loss: -0.41752\n",
      "epoch: 07, loss: -0.41743\n",
      "epoch: 08, loss: -0.41737\n",
      "epoch: 09, loss: -0.41733\n"
     ]
    },
    {
     "name": "stderr",
     "output_type": "stream",
     "text": [
      " 22%|██▎       | 225/1000 [1:26:07<5:13:44, 24.29s/it]"
     ]
    },
    {
     "name": "stdout",
     "output_type": "stream",
     "text": [
      "eigenvalues shape torch.Size([5]) eigenvectors shape torch.Size([5, 450])\n",
      "225 /home/phdcs2/Hard_Disk/Datasets/Deep-Spectral-Segmentation/data/object-segmentation/ECSSD/features/dino_vits16/0226.pth\n",
      "0226\n",
      "Starting Training\n",
      "epoch: 00, loss: -0.63601\n",
      "epoch: 01, loss: -0.69196\n",
      "epoch: 02, loss: -0.69595\n",
      "epoch: 03, loss: -0.69754\n",
      "epoch: 04, loss: -0.69905\n",
      "epoch: 05, loss: -0.69966\n",
      "epoch: 06, loss: -0.70014\n",
      "epoch: 07, loss: -0.70068\n",
      "epoch: 08, loss: -0.70072\n",
      "epoch: 09, loss: -0.70117\n"
     ]
    },
    {
     "name": "stderr",
     "output_type": "stream",
     "text": [
      " 23%|██▎       | 226/1000 [1:26:27<4:55:02, 22.87s/it]"
     ]
    },
    {
     "name": "stdout",
     "output_type": "stream",
     "text": [
      "eigenvalues shape torch.Size([5]) eigenvectors shape torch.Size([5, 400])\n",
      "226 /home/phdcs2/Hard_Disk/Datasets/Deep-Spectral-Segmentation/data/object-segmentation/ECSSD/features/dino_vits16/0227.pth\n",
      "0227\n",
      "Starting Training\n",
      "epoch: 00, loss: -0.63578\n",
      "epoch: 01, loss: -0.70989\n",
      "epoch: 02, loss: -0.71626\n",
      "epoch: 03, loss: -0.71910\n",
      "epoch: 04, loss: -0.72004\n",
      "epoch: 05, loss: -0.72121\n",
      "epoch: 06, loss: -0.72217\n",
      "epoch: 07, loss: -0.72277\n",
      "epoch: 08, loss: -0.72336\n",
      "epoch: 09, loss: -0.72320\n"
     ]
    },
    {
     "name": "stderr",
     "output_type": "stream",
     "text": [
      " 23%|██▎       | 227/1000 [1:26:47<4:44:25, 22.08s/it]"
     ]
    },
    {
     "name": "stdout",
     "output_type": "stream",
     "text": [
      "eigenvalues shape torch.Size([5]) eigenvectors shape torch.Size([5, 375])\n",
      "227 /home/phdcs2/Hard_Disk/Datasets/Deep-Spectral-Segmentation/data/object-segmentation/ECSSD/features/dino_vits16/0228.pth\n",
      "0228\n",
      "Starting Training\n",
      "epoch: 00, loss: -0.39886\n",
      "epoch: 01, loss: -0.41217\n",
      "epoch: 02, loss: -0.40378\n",
      "epoch: 03, loss: -0.39838\n",
      "epoch: 04, loss: -0.39415\n",
      "epoch: 05, loss: -0.39097\n",
      "epoch: 06, loss: -0.39043\n",
      "epoch: 07, loss: -0.39033\n",
      "epoch: 08, loss: -0.39105\n",
      "epoch: 09, loss: -0.39133\n"
     ]
    },
    {
     "name": "stderr",
     "output_type": "stream",
     "text": [
      " 23%|██▎       | 228/1000 [1:27:08<4:41:23, 21.87s/it]"
     ]
    },
    {
     "name": "stdout",
     "output_type": "stream",
     "text": [
      "eigenvalues shape torch.Size([5]) eigenvectors shape torch.Size([5, 375])\n",
      "228 /home/phdcs2/Hard_Disk/Datasets/Deep-Spectral-Segmentation/data/object-segmentation/ECSSD/features/dino_vits16/0229.pth\n",
      "0229\n",
      "Starting Training\n",
      "epoch: 00, loss: -0.38505\n",
      "epoch: 01, loss: -0.39931\n",
      "epoch: 02, loss: -0.40635\n",
      "epoch: 03, loss: -0.41034\n",
      "epoch: 04, loss: -0.41243\n",
      "epoch: 05, loss: -0.41468\n",
      "epoch: 06, loss: -0.41638\n",
      "epoch: 07, loss: -0.41769\n",
      "epoch: 08, loss: -0.41861\n",
      "epoch: 09, loss: -0.41962\n"
     ]
    },
    {
     "name": "stderr",
     "output_type": "stream",
     "text": [
      " 23%|██▎       | 229/1000 [1:27:28<4:33:44, 21.30s/it]"
     ]
    },
    {
     "name": "stdout",
     "output_type": "stream",
     "text": [
      "eigenvalues shape torch.Size([5]) eigenvectors shape torch.Size([5, 400])\n",
      "229 /home/phdcs2/Hard_Disk/Datasets/Deep-Spectral-Segmentation/data/object-segmentation/ECSSD/features/dino_vits16/0230.pth\n",
      "0230\n",
      "Starting Training\n",
      "epoch: 00, loss: -0.37243\n",
      "epoch: 01, loss: -0.38052\n",
      "epoch: 02, loss: -0.38742\n",
      "epoch: 03, loss: -0.39298\n",
      "epoch: 04, loss: -0.39951\n",
      "epoch: 05, loss: -0.40469\n",
      "epoch: 06, loss: -0.41156\n",
      "epoch: 07, loss: -0.41833\n",
      "epoch: 08, loss: -0.42293\n",
      "epoch: 09, loss: -0.42626\n"
     ]
    },
    {
     "name": "stderr",
     "output_type": "stream",
     "text": [
      " 23%|██▎       | 230/1000 [1:27:49<4:31:45, 21.18s/it]"
     ]
    },
    {
     "name": "stdout",
     "output_type": "stream",
     "text": [
      "eigenvalues shape torch.Size([5]) eigenvectors shape torch.Size([5, 450])\n",
      "230 /home/phdcs2/Hard_Disk/Datasets/Deep-Spectral-Segmentation/data/object-segmentation/ECSSD/features/dino_vits16/0231.pth\n",
      "0231\n",
      "Starting Training\n",
      "epoch: 00, loss: -0.39903\n",
      "epoch: 01, loss: -0.40475\n",
      "epoch: 02, loss: -0.40615\n",
      "epoch: 03, loss: -0.40701\n",
      "epoch: 04, loss: -0.40742\n",
      "epoch: 05, loss: -0.40796\n",
      "epoch: 06, loss: -0.41000\n",
      "epoch: 07, loss: -0.41090\n",
      "epoch: 08, loss: -0.41137\n",
      "epoch: 09, loss: -0.41137\n"
     ]
    },
    {
     "name": "stderr",
     "output_type": "stream",
     "text": [
      " 23%|██▎       | 231/1000 [1:28:17<4:56:44, 23.15s/it]"
     ]
    },
    {
     "name": "stdout",
     "output_type": "stream",
     "text": [
      "eigenvalues shape torch.Size([5]) eigenvectors shape torch.Size([5, 525])\n",
      "231 /home/phdcs2/Hard_Disk/Datasets/Deep-Spectral-Segmentation/data/object-segmentation/ECSSD/features/dino_vits16/0232.pth\n",
      "0232\n",
      "Starting Training\n",
      "epoch: 00, loss: -0.37415\n",
      "epoch: 01, loss: -0.37948\n",
      "epoch: 02, loss: -0.38670\n",
      "epoch: 03, loss: -0.39497\n",
      "epoch: 04, loss: -0.40320\n",
      "epoch: 05, loss: -0.41079\n",
      "epoch: 06, loss: -0.41570\n",
      "epoch: 07, loss: -0.41998\n",
      "epoch: 08, loss: -0.42278\n",
      "epoch: 09, loss: -0.42732\n"
     ]
    },
    {
     "name": "stderr",
     "output_type": "stream",
     "text": [
      " 23%|██▎       | 232/1000 [1:28:40<4:56:38, 23.18s/it]"
     ]
    },
    {
     "name": "stdout",
     "output_type": "stream",
     "text": [
      "eigenvalues shape torch.Size([5]) eigenvectors shape torch.Size([5, 500])\n",
      "232 /home/phdcs2/Hard_Disk/Datasets/Deep-Spectral-Segmentation/data/object-segmentation/ECSSD/features/dino_vits16/0233.pth\n",
      "0233\n",
      "Starting Training\n",
      "epoch: 00, loss: -0.37606\n",
      "epoch: 01, loss: -0.41439\n",
      "epoch: 02, loss: -0.43842\n",
      "epoch: 03, loss: -0.45032\n",
      "epoch: 04, loss: -0.45642\n",
      "epoch: 05, loss: -0.46054\n",
      "epoch: 06, loss: -0.46398\n",
      "epoch: 07, loss: -0.46902\n",
      "epoch: 08, loss: -0.47095\n",
      "epoch: 09, loss: -0.47266\n"
     ]
    },
    {
     "name": "stderr",
     "output_type": "stream",
     "text": [
      " 23%|██▎       | 233/1000 [1:29:04<4:58:51, 23.38s/it]"
     ]
    },
    {
     "name": "stdout",
     "output_type": "stream",
     "text": [
      "eigenvalues shape torch.Size([5]) eigenvectors shape torch.Size([5, 475])\n",
      "233 /home/phdcs2/Hard_Disk/Datasets/Deep-Spectral-Segmentation/data/object-segmentation/ECSSD/features/dino_vits16/0234.pth\n",
      "0234\n",
      "Starting Training\n",
      "epoch: 00, loss: -0.37438\n",
      "epoch: 01, loss: -0.37306\n",
      "epoch: 02, loss: -0.35745\n",
      "epoch: 03, loss: -0.35125\n",
      "epoch: 04, loss: -0.35447\n",
      "epoch: 05, loss: -0.35942\n",
      "epoch: 06, loss: -0.36375\n",
      "epoch: 07, loss: -0.36804\n",
      "epoch: 08, loss: -0.37382\n",
      "epoch: 09, loss: -0.37789\n"
     ]
    },
    {
     "name": "stderr",
     "output_type": "stream",
     "text": [
      " 23%|██▎       | 234/1000 [1:29:22<4:36:16, 21.64s/it]"
     ]
    },
    {
     "name": "stdout",
     "output_type": "stream",
     "text": [
      "eigenvalues shape torch.Size([5]) eigenvectors shape torch.Size([5, 400])\n",
      "234 /home/phdcs2/Hard_Disk/Datasets/Deep-Spectral-Segmentation/data/object-segmentation/ECSSD/features/dino_vits16/0235.pth\n",
      "0235\n",
      "Starting Training\n",
      "epoch: 00, loss: -0.37707\n",
      "epoch: 01, loss: -0.38627\n",
      "epoch: 02, loss: -0.39318\n",
      "epoch: 03, loss: -0.39768\n",
      "epoch: 04, loss: -0.39931\n",
      "epoch: 05, loss: -0.40490\n",
      "epoch: 06, loss: -0.40740\n",
      "epoch: 07, loss: -0.41137\n",
      "epoch: 08, loss: -0.41419\n",
      "epoch: 09, loss: -0.41723\n"
     ]
    },
    {
     "name": "stderr",
     "output_type": "stream",
     "text": [
      "/home/phdcs2/Hard_Disk/Projects/T2I/deep-spectral-segmentation/venv/lib/python3.8/site-packages/scipy/sparse/linalg/_eigen/arpack/arpack.py:935: LinAlgWarning: Diagonal number 400 is exactly zero. Singular matrix.\n",
      "  self.M_lu = lu_factor(M)\n"
     ]
    },
    {
     "name": "stdout",
     "output_type": "stream",
     "text": [
      " ** On entry to SLASCL parameter number  4 had an illegal value\n",
      " ** On entry to SLASCL parameter number  4 had an illegal value\n"
     ]
    },
    {
     "name": "stderr",
     "output_type": "stream",
     "text": [
      " 24%|██▎       | 235/1000 [1:29:49<4:57:21, 23.32s/it]"
     ]
    },
    {
     "name": "stdout",
     "output_type": "stream",
     "text": [
      "eigenvalues shape torch.Size([5]) eigenvectors shape torch.Size([5, 400])\n",
      "235 /home/phdcs2/Hard_Disk/Datasets/Deep-Spectral-Segmentation/data/object-segmentation/ECSSD/features/dino_vits16/0236.pth\n",
      "0236\n",
      "Starting Training\n",
      "epoch: 00, loss: -0.62504\n",
      "epoch: 01, loss: -0.67182\n",
      "epoch: 02, loss: -0.67489\n",
      "epoch: 03, loss: -0.67608\n",
      "epoch: 04, loss: -0.67689\n",
      "epoch: 05, loss: -0.67753\n",
      "epoch: 06, loss: -0.67802\n",
      "epoch: 07, loss: -0.67847\n",
      "epoch: 08, loss: -0.67923\n",
      "epoch: 09, loss: -0.67915\n"
     ]
    },
    {
     "name": "stderr",
     "output_type": "stream",
     "text": [
      " 24%|██▎       | 236/1000 [1:30:11<4:53:28, 23.05s/it]"
     ]
    },
    {
     "name": "stdout",
     "output_type": "stream",
     "text": [
      "eigenvalues shape torch.Size([5]) eigenvectors shape torch.Size([5, 400])\n",
      "236 /home/phdcs2/Hard_Disk/Datasets/Deep-Spectral-Segmentation/data/object-segmentation/ECSSD/features/dino_vits16/0237.pth\n",
      "0237\n",
      "Starting Training\n",
      "epoch: 00, loss: -0.39616\n",
      "epoch: 01, loss: -0.39984\n",
      "epoch: 02, loss: -0.39892\n",
      "epoch: 03, loss: -0.39731\n",
      "epoch: 04, loss: -0.39745\n",
      "epoch: 05, loss: -0.39682\n",
      "epoch: 06, loss: -0.39602\n",
      "epoch: 07, loss: -0.39488\n",
      "epoch: 08, loss: -0.39383\n",
      "epoch: 09, loss: -0.39401\n"
     ]
    },
    {
     "name": "stderr",
     "output_type": "stream",
     "text": [
      " 24%|██▎       | 237/1000 [1:30:34<4:53:58, 23.12s/it]"
     ]
    },
    {
     "name": "stdout",
     "output_type": "stream",
     "text": [
      "eigenvalues shape torch.Size([5]) eigenvectors shape torch.Size([5, 400])\n",
      "237 /home/phdcs2/Hard_Disk/Datasets/Deep-Spectral-Segmentation/data/object-segmentation/ECSSD/features/dino_vits16/0238.pth\n",
      "0238\n",
      "Starting Training\n",
      "epoch: 00, loss: -0.37790\n",
      "epoch: 01, loss: -0.38593\n",
      "epoch: 02, loss: -0.38843\n",
      "epoch: 03, loss: -0.39153\n",
      "epoch: 04, loss: -0.39307\n",
      "epoch: 05, loss: -0.39607\n",
      "epoch: 06, loss: -0.39689\n",
      "epoch: 07, loss: -0.39823\n",
      "epoch: 08, loss: -0.40018\n",
      "epoch: 09, loss: -0.40261\n"
     ]
    },
    {
     "name": "stderr",
     "output_type": "stream",
     "text": [
      " 24%|██▍       | 238/1000 [1:30:56<4:47:52, 22.67s/it]"
     ]
    },
    {
     "name": "stdout",
     "output_type": "stream",
     "text": [
      "eigenvalues shape torch.Size([5]) eigenvectors shape torch.Size([5, 400])\n",
      "238 /home/phdcs2/Hard_Disk/Datasets/Deep-Spectral-Segmentation/data/object-segmentation/ECSSD/features/dino_vits16/0239.pth\n",
      "0239\n",
      "Starting Training\n",
      "epoch: 00, loss: -0.35412\n",
      "epoch: 01, loss: -0.35816\n",
      "epoch: 02, loss: -0.36468\n",
      "epoch: 03, loss: -0.37262\n",
      "epoch: 04, loss: -0.38109\n",
      "epoch: 05, loss: -0.38841\n",
      "epoch: 06, loss: -0.39752\n",
      "epoch: 07, loss: -0.40763\n",
      "epoch: 08, loss: -0.41943\n",
      "epoch: 09, loss: -0.42859\n"
     ]
    },
    {
     "name": "stderr",
     "output_type": "stream",
     "text": [
      " 24%|██▍       | 239/1000 [1:31:16<4:38:36, 21.97s/it]"
     ]
    },
    {
     "name": "stdout",
     "output_type": "stream",
     "text": [
      "eigenvalues shape torch.Size([5]) eigenvectors shape torch.Size([5, 400])\n",
      "239 /home/phdcs2/Hard_Disk/Datasets/Deep-Spectral-Segmentation/data/object-segmentation/ECSSD/features/dino_vits16/0240.pth\n",
      "0240\n",
      "Starting Training\n",
      "epoch: 00, loss: -0.36753\n",
      "epoch: 01, loss: -0.37454\n",
      "epoch: 02, loss: -0.37706\n",
      "epoch: 03, loss: -0.37917\n",
      "epoch: 04, loss: -0.38050\n",
      "epoch: 05, loss: -0.38037\n",
      "epoch: 06, loss: -0.38167\n",
      "epoch: 07, loss: -0.38264\n",
      "epoch: 08, loss: -0.38429\n",
      "epoch: 09, loss: -0.38519\n"
     ]
    },
    {
     "name": "stderr",
     "output_type": "stream",
     "text": [
      " 24%|██▍       | 240/1000 [1:31:34<4:20:39, 20.58s/it]"
     ]
    },
    {
     "name": "stdout",
     "output_type": "stream",
     "text": [
      "eigenvalues shape torch.Size([5]) eigenvectors shape torch.Size([5, 350])\n",
      "240 /home/phdcs2/Hard_Disk/Datasets/Deep-Spectral-Segmentation/data/object-segmentation/ECSSD/features/dino_vits16/0241.pth\n",
      "0241\n",
      "Starting Training\n",
      "epoch: 00, loss: -0.39512\n",
      "epoch: 01, loss: -0.41281\n",
      "epoch: 02, loss: -0.42205\n",
      "epoch: 03, loss: -0.42909\n",
      "epoch: 04, loss: -0.43334\n",
      "epoch: 05, loss: -0.43755\n",
      "epoch: 06, loss: -0.44040\n",
      "epoch: 07, loss: -0.44382\n",
      "epoch: 08, loss: -0.44625\n",
      "epoch: 09, loss: -0.44972\n"
     ]
    },
    {
     "name": "stderr",
     "output_type": "stream",
     "text": [
      " 24%|██▍       | 241/1000 [1:31:55<4:24:14, 20.89s/it]"
     ]
    },
    {
     "name": "stdout",
     "output_type": "stream",
     "text": [
      "eigenvalues shape torch.Size([5]) eigenvectors shape torch.Size([5, 400])\n",
      "241 /home/phdcs2/Hard_Disk/Datasets/Deep-Spectral-Segmentation/data/object-segmentation/ECSSD/features/dino_vits16/0242.pth\n",
      "0242\n",
      "Starting Training\n",
      "epoch: 00, loss: -0.38937\n",
      "epoch: 01, loss: -0.40002\n",
      "epoch: 02, loss: -0.40334\n",
      "epoch: 03, loss: -0.40572\n",
      "epoch: 04, loss: -0.40856\n",
      "epoch: 05, loss: -0.41097\n",
      "epoch: 06, loss: -0.41237\n",
      "epoch: 07, loss: -0.41444\n",
      "epoch: 08, loss: -0.41659\n",
      "epoch: 09, loss: -0.41857\n"
     ]
    },
    {
     "name": "stderr",
     "output_type": "stream",
     "text": [
      " 24%|██▍       | 242/1000 [1:32:15<4:18:57, 20.50s/it]"
     ]
    },
    {
     "name": "stdout",
     "output_type": "stream",
     "text": [
      "eigenvalues shape torch.Size([5]) eigenvectors shape torch.Size([5, 325])\n",
      "242 /home/phdcs2/Hard_Disk/Datasets/Deep-Spectral-Segmentation/data/object-segmentation/ECSSD/features/dino_vits16/0243.pth\n",
      "0243\n",
      "Starting Training\n",
      "epoch: 00, loss: -0.41218\n",
      "epoch: 01, loss: -0.42062\n",
      "epoch: 02, loss: -0.41949\n",
      "epoch: 03, loss: -0.41799\n",
      "epoch: 04, loss: -0.41704\n",
      "epoch: 05, loss: -0.41604\n",
      "epoch: 06, loss: -0.41548\n",
      "epoch: 07, loss: -0.41475\n",
      "epoch: 08, loss: -0.41372\n",
      "epoch: 09, loss: -0.41220\n"
     ]
    },
    {
     "name": "stderr",
     "output_type": "stream",
     "text": [
      " 24%|██▍       | 243/1000 [1:32:36<4:19:57, 20.60s/it]"
     ]
    },
    {
     "name": "stdout",
     "output_type": "stream",
     "text": [
      "eigenvalues shape torch.Size([5]) eigenvectors shape torch.Size([5, 400])\n",
      "243 /home/phdcs2/Hard_Disk/Datasets/Deep-Spectral-Segmentation/data/object-segmentation/ECSSD/features/dino_vits16/0244.pth\n",
      "0244\n",
      "Starting Training\n",
      "epoch: 00, loss: -0.40003\n",
      "epoch: 01, loss: -0.39901\n",
      "epoch: 02, loss: -0.40024\n",
      "epoch: 03, loss: -0.40125\n",
      "epoch: 04, loss: -0.40129\n",
      "epoch: 05, loss: -0.40191\n",
      "epoch: 06, loss: -0.40199\n",
      "epoch: 07, loss: -0.40247\n",
      "epoch: 08, loss: -0.40160\n",
      "epoch: 09, loss: -0.40165\n"
     ]
    },
    {
     "name": "stderr",
     "output_type": "stream",
     "text": [
      " 24%|██▍       | 244/1000 [1:32:57<4:20:40, 20.69s/it]"
     ]
    },
    {
     "name": "stdout",
     "output_type": "stream",
     "text": [
      "eigenvalues shape torch.Size([5]) eigenvectors shape torch.Size([5, 400])\n",
      "244 /home/phdcs2/Hard_Disk/Datasets/Deep-Spectral-Segmentation/data/object-segmentation/ECSSD/features/dino_vits16/0245.pth\n",
      "0245\n",
      "Starting Training\n",
      "epoch: 00, loss: -0.41952\n",
      "epoch: 01, loss: -0.45484\n",
      "epoch: 02, loss: -0.46939\n",
      "epoch: 03, loss: -0.47914\n",
      "epoch: 04, loss: -0.48528\n",
      "epoch: 05, loss: -0.48883\n",
      "epoch: 06, loss: -0.49158\n",
      "epoch: 07, loss: -0.49506\n",
      "epoch: 08, loss: -0.49718\n",
      "epoch: 09, loss: -0.49886\n"
     ]
    },
    {
     "name": "stderr",
     "output_type": "stream",
     "text": [
      " 24%|██▍       | 245/1000 [1:33:16<4:16:33, 20.39s/it]"
     ]
    },
    {
     "name": "stdout",
     "output_type": "stream",
     "text": [
      "eigenvalues shape torch.Size([5]) eigenvectors shape torch.Size([5, 400])\n",
      "245 /home/phdcs2/Hard_Disk/Datasets/Deep-Spectral-Segmentation/data/object-segmentation/ECSSD/features/dino_vits16/0246.pth\n",
      "0246\n",
      "Starting Training\n",
      "epoch: 00, loss: -0.38125\n",
      "epoch: 01, loss: -0.38507\n",
      "epoch: 02, loss: -0.38900\n",
      "epoch: 03, loss: -0.39244\n",
      "epoch: 04, loss: -0.39411\n",
      "epoch: 05, loss: -0.39710\n",
      "epoch: 06, loss: -0.39888\n",
      "epoch: 07, loss: -0.40115\n",
      "epoch: 08, loss: -0.40328\n",
      "epoch: 09, loss: -0.40500\n"
     ]
    },
    {
     "name": "stderr",
     "output_type": "stream",
     "text": [
      " 25%|██▍       | 246/1000 [1:33:40<4:27:27, 21.28s/it]"
     ]
    },
    {
     "name": "stdout",
     "output_type": "stream",
     "text": [
      "eigenvalues shape torch.Size([5]) eigenvectors shape torch.Size([5, 400])\n",
      "246 /home/phdcs2/Hard_Disk/Datasets/Deep-Spectral-Segmentation/data/object-segmentation/ECSSD/features/dino_vits16/0247.pth\n",
      "0247\n",
      "Starting Training\n",
      "epoch: 00, loss: -0.38864\n",
      "epoch: 01, loss: -0.40019\n",
      "epoch: 02, loss: -0.40035\n",
      "epoch: 03, loss: -0.39931\n",
      "epoch: 04, loss: -0.39951\n",
      "epoch: 05, loss: -0.40051\n",
      "epoch: 06, loss: -0.40137\n",
      "epoch: 07, loss: -0.40112\n",
      "epoch: 08, loss: -0.40067\n",
      "epoch: 09, loss: -0.40110\n"
     ]
    },
    {
     "name": "stderr",
     "output_type": "stream",
     "text": [
      " 25%|██▍       | 247/1000 [1:34:04<4:38:56, 22.23s/it]"
     ]
    },
    {
     "name": "stdout",
     "output_type": "stream",
     "text": [
      "eigenvalues shape torch.Size([5]) eigenvectors shape torch.Size([5, 400])\n",
      "247 /home/phdcs2/Hard_Disk/Datasets/Deep-Spectral-Segmentation/data/object-segmentation/ECSSD/features/dino_vits16/0248.pth\n",
      "0248\n",
      "Starting Training\n",
      "epoch: 00, loss: -0.62803\n",
      "epoch: 01, loss: -0.67417\n",
      "epoch: 02, loss: -0.67844\n",
      "epoch: 03, loss: -0.68067\n",
      "epoch: 04, loss: -0.68211\n",
      "epoch: 05, loss: -0.68363\n",
      "epoch: 06, loss: -0.68419\n",
      "epoch: 07, loss: -0.68565\n",
      "epoch: 08, loss: -0.68628\n",
      "epoch: 09, loss: -0.68690\n"
     ]
    },
    {
     "name": "stderr",
     "output_type": "stream",
     "text": [
      " 25%|██▍       | 248/1000 [1:34:29<4:49:31, 23.10s/it]"
     ]
    },
    {
     "name": "stdout",
     "output_type": "stream",
     "text": [
      "eigenvalues shape torch.Size([5]) eigenvectors shape torch.Size([5, 450])\n",
      "248 /home/phdcs2/Hard_Disk/Datasets/Deep-Spectral-Segmentation/data/object-segmentation/ECSSD/features/dino_vits16/0249.pth\n",
      "0249\n",
      "Starting Training\n",
      "epoch: 00, loss: -0.42700\n",
      "epoch: 01, loss: -0.43411\n",
      "epoch: 02, loss: -0.43558\n",
      "epoch: 03, loss: -0.43538\n",
      "epoch: 04, loss: -0.43550\n",
      "epoch: 05, loss: -0.43529\n",
      "epoch: 06, loss: -0.43518\n",
      "epoch: 07, loss: -0.43462\n",
      "epoch: 08, loss: -0.43575\n",
      "epoch: 09, loss: -0.43526\n"
     ]
    },
    {
     "name": "stderr",
     "output_type": "stream",
     "text": [
      " 25%|██▍       | 249/1000 [1:34:51<4:44:08, 22.70s/it]"
     ]
    },
    {
     "name": "stdout",
     "output_type": "stream",
     "text": [
      "eigenvalues shape torch.Size([5]) eigenvectors shape torch.Size([5, 425])\n",
      "249 /home/phdcs2/Hard_Disk/Datasets/Deep-Spectral-Segmentation/data/object-segmentation/ECSSD/features/dino_vits16/0250.pth\n",
      "0250\n",
      "Starting Training\n",
      "epoch: 00, loss: -0.42011\n",
      "epoch: 01, loss: -0.42254\n",
      "epoch: 02, loss: -0.42494\n",
      "epoch: 03, loss: -0.42450\n",
      "epoch: 04, loss: -0.42400\n",
      "epoch: 05, loss: -0.41958\n",
      "epoch: 06, loss: -0.41563\n",
      "epoch: 07, loss: -0.41259\n",
      "epoch: 08, loss: -0.41000\n",
      "epoch: 09, loss: -0.40693\n"
     ]
    },
    {
     "name": "stderr",
     "output_type": "stream",
     "text": [
      " 25%|██▌       | 250/1000 [1:35:10<4:31:10, 21.69s/it]"
     ]
    },
    {
     "name": "stdout",
     "output_type": "stream",
     "text": [
      "eigenvalues shape torch.Size([5]) eigenvectors shape torch.Size([5, 400])\n",
      "250 /home/phdcs2/Hard_Disk/Datasets/Deep-Spectral-Segmentation/data/object-segmentation/ECSSD/features/dino_vits16/0251.pth\n",
      "0251\n",
      "Starting Training\n",
      "epoch: 00, loss: -0.38863\n",
      "epoch: 01, loss: -0.40135\n",
      "epoch: 02, loss: -0.40607\n",
      "epoch: 03, loss: -0.40856\n",
      "epoch: 04, loss: -0.41114\n",
      "epoch: 05, loss: -0.41435\n",
      "epoch: 06, loss: -0.41762\n",
      "epoch: 07, loss: -0.42014\n",
      "epoch: 08, loss: -0.42194\n",
      "epoch: 09, loss: -0.42367\n"
     ]
    },
    {
     "name": "stderr",
     "output_type": "stream",
     "text": [
      " 25%|██▌       | 251/1000 [1:35:32<4:29:19, 21.57s/it]"
     ]
    },
    {
     "name": "stdout",
     "output_type": "stream",
     "text": [
      "eigenvalues shape torch.Size([5]) eigenvectors shape torch.Size([5, 450])\n",
      "251 /home/phdcs2/Hard_Disk/Datasets/Deep-Spectral-Segmentation/data/object-segmentation/ECSSD/features/dino_vits16/0252.pth\n",
      "0252\n",
      "Starting Training\n",
      "epoch: 00, loss: -0.37922\n",
      "epoch: 01, loss: -0.38485\n",
      "epoch: 02, loss: -0.38661\n",
      "epoch: 03, loss: -0.38939\n",
      "epoch: 04, loss: -0.39057\n",
      "epoch: 05, loss: -0.39053\n",
      "epoch: 06, loss: -0.39202\n",
      "epoch: 07, loss: -0.39232\n",
      "epoch: 08, loss: -0.39192\n",
      "epoch: 09, loss: -0.39189\n"
     ]
    },
    {
     "name": "stderr",
     "output_type": "stream",
     "text": [
      " 25%|██▌       | 252/1000 [1:35:53<4:28:20, 21.52s/it]"
     ]
    },
    {
     "name": "stdout",
     "output_type": "stream",
     "text": [
      "eigenvalues shape torch.Size([5]) eigenvectors shape torch.Size([5, 450])\n",
      "252 /home/phdcs2/Hard_Disk/Datasets/Deep-Spectral-Segmentation/data/object-segmentation/ECSSD/features/dino_vits16/0253.pth\n",
      "0253\n",
      "Starting Training\n",
      "epoch: 00, loss: -0.40405\n",
      "epoch: 01, loss: -0.41280\n",
      "epoch: 02, loss: -0.41358\n",
      "epoch: 03, loss: -0.41625\n",
      "epoch: 04, loss: -0.41958\n",
      "epoch: 05, loss: -0.42119\n",
      "epoch: 06, loss: -0.42231\n",
      "epoch: 07, loss: -0.42436\n",
      "epoch: 08, loss: -0.42535\n",
      "epoch: 09, loss: -0.42721\n"
     ]
    },
    {
     "name": "stderr",
     "output_type": "stream",
     "text": [
      " 25%|██▌       | 253/1000 [1:36:18<4:40:16, 22.51s/it]"
     ]
    },
    {
     "name": "stdout",
     "output_type": "stream",
     "text": [
      "eigenvalues shape torch.Size([5]) eigenvectors shape torch.Size([5, 450])\n",
      "253 /home/phdcs2/Hard_Disk/Datasets/Deep-Spectral-Segmentation/data/object-segmentation/ECSSD/features/dino_vits16/0254.pth\n",
      "0254\n",
      "Starting Training\n",
      "epoch: 00, loss: -0.40406\n",
      "epoch: 01, loss: -0.41821\n",
      "epoch: 02, loss: -0.42061\n",
      "epoch: 03, loss: -0.42021\n",
      "epoch: 04, loss: -0.41843\n",
      "epoch: 05, loss: -0.41599\n",
      "epoch: 06, loss: -0.41309\n",
      "epoch: 07, loss: -0.41166\n",
      "epoch: 08, loss: -0.40901\n",
      "epoch: 09, loss: -0.40755\n"
     ]
    },
    {
     "name": "stderr",
     "output_type": "stream",
     "text": [
      " 25%|██▌       | 254/1000 [1:36:47<5:05:18, 24.56s/it]"
     ]
    },
    {
     "name": "stdout",
     "output_type": "stream",
     "text": [
      "eigenvalues shape torch.Size([5]) eigenvectors shape torch.Size([5, 525])\n",
      "254 /home/phdcs2/Hard_Disk/Datasets/Deep-Spectral-Segmentation/data/object-segmentation/ECSSD/features/dino_vits16/0255.pth\n",
      "0255\n",
      "Starting Training\n",
      "epoch: 00, loss: -0.36600\n",
      "epoch: 01, loss: -0.37751\n",
      "epoch: 02, loss: -0.39380\n",
      "epoch: 03, loss: -0.41325\n",
      "epoch: 04, loss: -0.43435\n",
      "epoch: 05, loss: -0.45200\n",
      "epoch: 06, loss: -0.46620\n",
      "epoch: 07, loss: -0.48139\n",
      "epoch: 08, loss: -0.48870\n",
      "epoch: 09, loss: -0.49392\n"
     ]
    },
    {
     "name": "stderr",
     "output_type": "stream",
     "text": [
      " 26%|██▌       | 255/1000 [1:37:16<5:21:33, 25.90s/it]"
     ]
    },
    {
     "name": "stdout",
     "output_type": "stream",
     "text": [
      "eigenvalues shape torch.Size([5]) eigenvectors shape torch.Size([5, 575])\n",
      "255 /home/phdcs2/Hard_Disk/Datasets/Deep-Spectral-Segmentation/data/object-segmentation/ECSSD/features/dino_vits16/0256.pth\n",
      "0256\n",
      "Starting Training\n",
      "epoch: 00, loss: -0.39029\n",
      "epoch: 01, loss: -0.39781\n",
      "epoch: 02, loss: -0.40409\n",
      "epoch: 03, loss: -0.41383\n",
      "epoch: 04, loss: -0.42039\n",
      "epoch: 05, loss: -0.43384\n",
      "epoch: 06, loss: -0.44726\n",
      "epoch: 07, loss: -0.46058\n",
      "epoch: 08, loss: -0.47229\n",
      "epoch: 09, loss: -0.48113\n"
     ]
    },
    {
     "name": "stderr",
     "output_type": "stream",
     "text": [
      " 26%|██▌       | 256/1000 [1:37:35<4:55:47, 23.85s/it]"
     ]
    },
    {
     "name": "stdout",
     "output_type": "stream",
     "text": [
      "eigenvalues shape torch.Size([5]) eigenvectors shape torch.Size([5, 375])\n",
      "256 /home/phdcs2/Hard_Disk/Datasets/Deep-Spectral-Segmentation/data/object-segmentation/ECSSD/features/dino_vits16/0257.pth\n",
      "0257\n",
      "Starting Training\n",
      "epoch: 00, loss: -0.39195\n",
      "epoch: 01, loss: -0.39008\n",
      "epoch: 02, loss: -0.38997\n",
      "epoch: 03, loss: -0.39081\n",
      "epoch: 04, loss: -0.39169\n",
      "epoch: 05, loss: -0.39249\n",
      "epoch: 06, loss: -0.39311\n",
      "epoch: 07, loss: -0.39433\n",
      "epoch: 08, loss: -0.39638\n",
      "epoch: 09, loss: -0.39763\n"
     ]
    },
    {
     "name": "stderr",
     "output_type": "stream",
     "text": [
      " 26%|██▌       | 257/1000 [1:37:59<4:55:01, 23.82s/it]"
     ]
    },
    {
     "name": "stdout",
     "output_type": "stream",
     "text": [
      "eigenvalues shape torch.Size([5]) eigenvectors shape torch.Size([5, 475])\n",
      "257 /home/phdcs2/Hard_Disk/Datasets/Deep-Spectral-Segmentation/data/object-segmentation/ECSSD/features/dino_vits16/0258.pth\n",
      "0258\n",
      "Starting Training\n",
      "epoch: 00, loss: -0.40437\n",
      "epoch: 01, loss: -0.42158\n",
      "epoch: 02, loss: -0.42307\n",
      "epoch: 03, loss: -0.42323\n",
      "epoch: 04, loss: -0.42399\n",
      "epoch: 05, loss: -0.42478\n",
      "epoch: 06, loss: -0.42538\n",
      "epoch: 07, loss: -0.42463\n",
      "epoch: 08, loss: -0.42572\n",
      "epoch: 09, loss: -0.42552\n"
     ]
    },
    {
     "name": "stderr",
     "output_type": "stream",
     "text": [
      " 26%|██▌       | 258/1000 [1:38:20<4:42:00, 22.80s/it]"
     ]
    },
    {
     "name": "stdout",
     "output_type": "stream",
     "text": [
      "eigenvalues shape torch.Size([5]) eigenvectors shape torch.Size([5, 400])\n",
      "258 /home/phdcs2/Hard_Disk/Datasets/Deep-Spectral-Segmentation/data/object-segmentation/ECSSD/features/dino_vits16/0259.pth\n",
      "0259\n",
      "Starting Training\n",
      "epoch: 00, loss: -0.35371\n",
      "epoch: 01, loss: -0.35599\n",
      "epoch: 02, loss: -0.36072\n",
      "epoch: 03, loss: -0.36863\n",
      "epoch: 04, loss: -0.37945\n",
      "epoch: 05, loss: -0.38833\n",
      "epoch: 06, loss: -0.39582\n",
      "epoch: 07, loss: -0.39812\n",
      "epoch: 08, loss: -0.39910\n",
      "epoch: 09, loss: -0.40158\n"
     ]
    },
    {
     "name": "stderr",
     "output_type": "stream",
     "text": [
      " 26%|██▌       | 259/1000 [1:38:39<4:30:09, 21.88s/it]"
     ]
    },
    {
     "name": "stdout",
     "output_type": "stream",
     "text": [
      "eigenvalues shape torch.Size([5]) eigenvectors shape torch.Size([5, 450])\n",
      "259 /home/phdcs2/Hard_Disk/Datasets/Deep-Spectral-Segmentation/data/object-segmentation/ECSSD/features/dino_vits16/0260.pth\n",
      "0260\n",
      "Starting Training\n",
      "epoch: 00, loss: -0.53308\n",
      "epoch: 01, loss: -0.53847\n",
      "epoch: 02, loss: -0.54422\n",
      "epoch: 03, loss: -0.54877\n",
      "epoch: 04, loss: -0.55396\n",
      "epoch: 05, loss: -0.55760\n",
      "epoch: 06, loss: -0.56166\n",
      "epoch: 07, loss: -0.56500\n",
      "epoch: 08, loss: -0.56809\n",
      "epoch: 09, loss: -0.57097\n"
     ]
    },
    {
     "name": "stderr",
     "output_type": "stream",
     "text": [
      " 26%|██▌       | 260/1000 [1:39:03<4:37:56, 22.54s/it]"
     ]
    },
    {
     "name": "stdout",
     "output_type": "stream",
     "text": [
      "eigenvalues shape torch.Size([5]) eigenvectors shape torch.Size([5, 450])\n",
      "260 /home/phdcs2/Hard_Disk/Datasets/Deep-Spectral-Segmentation/data/object-segmentation/ECSSD/features/dino_vits16/0261.pth\n",
      "0261\n",
      "Starting Training\n",
      "epoch: 00, loss: -0.38050\n",
      "epoch: 01, loss: -0.38949\n",
      "epoch: 02, loss: -0.39013\n",
      "epoch: 03, loss: -0.39110\n",
      "epoch: 04, loss: -0.39235\n",
      "epoch: 05, loss: -0.39420\n",
      "epoch: 06, loss: -0.39600\n",
      "epoch: 07, loss: -0.39937\n",
      "epoch: 08, loss: -0.40106\n",
      "epoch: 09, loss: -0.40367\n"
     ]
    },
    {
     "name": "stderr",
     "output_type": "stream",
     "text": [
      " 26%|██▌       | 261/1000 [1:39:27<4:42:25, 22.93s/it]"
     ]
    },
    {
     "name": "stdout",
     "output_type": "stream",
     "text": [
      "eigenvalues shape torch.Size([5]) eigenvectors shape torch.Size([5, 400])\n",
      "261 /home/phdcs2/Hard_Disk/Datasets/Deep-Spectral-Segmentation/data/object-segmentation/ECSSD/features/dino_vits16/0262.pth\n",
      "0262\n",
      "Starting Training\n",
      "epoch: 00, loss: -0.39035\n",
      "epoch: 01, loss: -0.39586\n",
      "epoch: 02, loss: -0.40180\n",
      "epoch: 03, loss: -0.40760\n",
      "epoch: 04, loss: -0.41309\n",
      "epoch: 05, loss: -0.41683\n",
      "epoch: 06, loss: -0.41903\n",
      "epoch: 07, loss: -0.42145\n",
      "epoch: 08, loss: -0.42420\n",
      "epoch: 09, loss: -0.42686\n"
     ]
    },
    {
     "name": "stderr",
     "output_type": "stream",
     "text": [
      " 26%|██▌       | 262/1000 [1:39:54<4:57:01, 24.15s/it]"
     ]
    },
    {
     "name": "stdout",
     "output_type": "stream",
     "text": [
      "eigenvalues shape torch.Size([5]) eigenvectors shape torch.Size([5, 450])\n",
      "262 /home/phdcs2/Hard_Disk/Datasets/Deep-Spectral-Segmentation/data/object-segmentation/ECSSD/features/dino_vits16/0263.pth\n",
      "0263\n",
      "Starting Training\n",
      "epoch: 00, loss: -0.39873\n",
      "epoch: 01, loss: -0.40470\n",
      "epoch: 02, loss: -0.40626\n",
      "epoch: 03, loss: -0.40653\n",
      "epoch: 04, loss: -0.40905\n",
      "epoch: 05, loss: -0.40981\n",
      "epoch: 06, loss: -0.41233\n",
      "epoch: 07, loss: -0.41381\n",
      "epoch: 08, loss: -0.41462\n",
      "epoch: 09, loss: -0.41619\n"
     ]
    },
    {
     "name": "stderr",
     "output_type": "stream",
     "text": [
      " 26%|██▋       | 263/1000 [1:40:21<5:06:30, 24.95s/it]"
     ]
    },
    {
     "name": "stdout",
     "output_type": "stream",
     "text": [
      "eigenvalues shape torch.Size([5]) eigenvectors shape torch.Size([5, 450])\n",
      "263 /home/phdcs2/Hard_Disk/Datasets/Deep-Spectral-Segmentation/data/object-segmentation/ECSSD/features/dino_vits16/0264.pth\n",
      "0264\n",
      "Starting Training\n",
      "epoch: 00, loss: -0.40806\n",
      "epoch: 01, loss: -0.41790\n",
      "epoch: 02, loss: -0.42087\n",
      "epoch: 03, loss: -0.42368\n",
      "epoch: 04, loss: -0.42878\n",
      "epoch: 05, loss: -0.43120\n",
      "epoch: 06, loss: -0.43323\n",
      "epoch: 07, loss: -0.43508\n",
      "epoch: 08, loss: -0.43660\n",
      "epoch: 09, loss: -0.43890\n"
     ]
    },
    {
     "name": "stderr",
     "output_type": "stream",
     "text": [
      " 26%|██▋       | 264/1000 [1:40:43<4:55:22, 24.08s/it]"
     ]
    },
    {
     "name": "stdout",
     "output_type": "stream",
     "text": [
      "eigenvalues shape torch.Size([5]) eigenvectors shape torch.Size([5, 400])\n",
      "264 /home/phdcs2/Hard_Disk/Datasets/Deep-Spectral-Segmentation/data/object-segmentation/ECSSD/features/dino_vits16/0265.pth\n",
      "0265\n",
      "Starting Training\n",
      "epoch: 00, loss: -0.39463\n",
      "epoch: 01, loss: -0.40296\n",
      "epoch: 02, loss: -0.40823\n",
      "epoch: 03, loss: -0.41209\n",
      "epoch: 04, loss: -0.41427\n",
      "epoch: 05, loss: -0.41538\n",
      "epoch: 06, loss: -0.41706\n",
      "epoch: 07, loss: -0.41894\n",
      "epoch: 08, loss: -0.42128\n",
      "epoch: 09, loss: -0.42131\n"
     ]
    },
    {
     "name": "stderr",
     "output_type": "stream",
     "text": [
      " 26%|██▋       | 265/1000 [1:41:11<5:10:19, 25.33s/it]"
     ]
    },
    {
     "name": "stdout",
     "output_type": "stream",
     "text": [
      "eigenvalues shape torch.Size([5]) eigenvectors shape torch.Size([5, 525])\n",
      "265 /home/phdcs2/Hard_Disk/Datasets/Deep-Spectral-Segmentation/data/object-segmentation/ECSSD/features/dino_vits16/0266.pth\n",
      "0266\n",
      "Starting Training\n",
      "epoch: 00, loss: -0.39428\n",
      "epoch: 01, loss: -0.40475\n",
      "epoch: 02, loss: -0.40951\n",
      "epoch: 03, loss: -0.41605\n",
      "epoch: 04, loss: -0.42460\n",
      "epoch: 05, loss: -0.43290\n",
      "epoch: 06, loss: -0.44092\n",
      "epoch: 07, loss: -0.44766\n",
      "epoch: 08, loss: -0.45352\n",
      "epoch: 09, loss: -0.45788\n"
     ]
    },
    {
     "name": "stderr",
     "output_type": "stream",
     "text": [
      " 27%|██▋       | 266/1000 [1:41:30<4:47:11, 23.48s/it]"
     ]
    },
    {
     "name": "stdout",
     "output_type": "stream",
     "text": [
      "eigenvalues shape torch.Size([5]) eigenvectors shape torch.Size([5, 425])\n",
      "266 /home/phdcs2/Hard_Disk/Datasets/Deep-Spectral-Segmentation/data/object-segmentation/ECSSD/features/dino_vits16/0267.pth\n",
      "0267\n",
      "Starting Training\n",
      "epoch: 00, loss: -0.38636\n",
      "epoch: 01, loss: -0.39496\n",
      "epoch: 02, loss: -0.39741\n",
      "epoch: 03, loss: -0.39996\n",
      "epoch: 04, loss: -0.40292\n",
      "epoch: 05, loss: -0.40473\n",
      "epoch: 06, loss: -0.40540\n",
      "epoch: 07, loss: -0.40670\n",
      "epoch: 08, loss: -0.40800\n",
      "epoch: 09, loss: -0.40882\n"
     ]
    },
    {
     "name": "stderr",
     "output_type": "stream",
     "text": [
      " 27%|██▋       | 267/1000 [1:41:51<4:35:40, 22.56s/it]"
     ]
    },
    {
     "name": "stdout",
     "output_type": "stream",
     "text": [
      "eigenvalues shape torch.Size([5]) eigenvectors shape torch.Size([5, 400])\n",
      "267 /home/phdcs2/Hard_Disk/Datasets/Deep-Spectral-Segmentation/data/object-segmentation/ECSSD/features/dino_vits16/0268.pth\n",
      "0268\n",
      "Starting Training\n",
      "epoch: 00, loss: -0.37033\n",
      "epoch: 01, loss: -0.37426\n",
      "epoch: 02, loss: -0.37660\n",
      "epoch: 03, loss: -0.37668\n",
      "epoch: 04, loss: -0.37810\n",
      "epoch: 05, loss: -0.38107\n",
      "epoch: 06, loss: -0.38580\n",
      "epoch: 07, loss: -0.38982\n",
      "epoch: 08, loss: -0.39328\n",
      "epoch: 09, loss: -0.39652\n"
     ]
    },
    {
     "name": "stderr",
     "output_type": "stream",
     "text": [
      " 27%|██▋       | 268/1000 [1:42:22<5:07:23, 25.20s/it]"
     ]
    },
    {
     "name": "stdout",
     "output_type": "stream",
     "text": [
      "eigenvalues shape torch.Size([5]) eigenvectors shape torch.Size([5, 600])\n",
      "268 /home/phdcs2/Hard_Disk/Datasets/Deep-Spectral-Segmentation/data/object-segmentation/ECSSD/features/dino_vits16/0269.pth\n",
      "0269\n",
      "Starting Training\n",
      "epoch: 00, loss: -0.40356\n",
      "epoch: 01, loss: -0.41822\n",
      "epoch: 02, loss: -0.42003\n",
      "epoch: 03, loss: -0.42083\n",
      "epoch: 04, loss: -0.42130\n",
      "epoch: 05, loss: -0.42228\n",
      "epoch: 06, loss: -0.42401\n",
      "epoch: 07, loss: -0.42451\n",
      "epoch: 08, loss: -0.42521\n",
      "epoch: 09, loss: -0.42552\n"
     ]
    },
    {
     "name": "stderr",
     "output_type": "stream",
     "text": [
      " 27%|██▋       | 269/1000 [1:42:42<4:48:52, 23.71s/it]"
     ]
    },
    {
     "name": "stdout",
     "output_type": "stream",
     "text": [
      "eigenvalues shape torch.Size([5]) eigenvectors shape torch.Size([5, 400])\n",
      "269 /home/phdcs2/Hard_Disk/Datasets/Deep-Spectral-Segmentation/data/object-segmentation/ECSSD/features/dino_vits16/0270.pth\n",
      "0270\n",
      "Starting Training\n",
      "epoch: 00, loss: -0.59817\n",
      "epoch: 01, loss: -0.64897\n",
      "epoch: 02, loss: -0.65410\n",
      "epoch: 03, loss: -0.65660\n",
      "epoch: 04, loss: -0.65908\n",
      "epoch: 05, loss: -0.66140\n",
      "epoch: 06, loss: -0.66306\n",
      "epoch: 07, loss: -0.66468\n",
      "epoch: 08, loss: -0.66596\n",
      "epoch: 09, loss: -0.66707\n"
     ]
    },
    {
     "name": "stderr",
     "output_type": "stream",
     "text": [
      " 27%|██▋       | 270/1000 [1:43:03<4:35:07, 22.61s/it]"
     ]
    },
    {
     "name": "stdout",
     "output_type": "stream",
     "text": [
      "eigenvalues shape torch.Size([5]) eigenvectors shape torch.Size([5, 375])\n",
      "270 /home/phdcs2/Hard_Disk/Datasets/Deep-Spectral-Segmentation/data/object-segmentation/ECSSD/features/dino_vits16/0271.pth\n",
      "0271\n",
      "Starting Training\n",
      "epoch: 00, loss: -0.56915\n",
      "epoch: 01, loss: -0.58379\n",
      "epoch: 02, loss: -0.58756\n",
      "epoch: 03, loss: -0.59128\n",
      "epoch: 04, loss: -0.59359\n",
      "epoch: 05, loss: -0.59669\n",
      "epoch: 06, loss: -0.60037\n",
      "epoch: 07, loss: -0.60282\n",
      "epoch: 08, loss: -0.60606\n",
      "epoch: 09, loss: -0.60912\n"
     ]
    },
    {
     "name": "stderr",
     "output_type": "stream",
     "text": [
      "/home/phdcs2/Hard_Disk/Projects/T2I/deep-spectral-segmentation/venv/lib/python3.8/site-packages/scipy/sparse/linalg/_eigen/arpack/arpack.py:935: LinAlgWarning: Diagonal number 450 is exactly zero. Singular matrix.\n",
      "  self.M_lu = lu_factor(M)\n"
     ]
    },
    {
     "name": "stdout",
     "output_type": "stream",
     "text": [
      " ** On entry to SLASCL parameter number  4 had an illegal value\n",
      " ** On entry to SLASCL parameter number  4 had an illegal value\n"
     ]
    },
    {
     "name": "stderr",
     "output_type": "stream",
     "text": [
      " 27%|██▋       | 271/1000 [1:43:32<5:00:18, 24.72s/it]"
     ]
    },
    {
     "name": "stdout",
     "output_type": "stream",
     "text": [
      "eigenvalues shape torch.Size([5]) eigenvectors shape torch.Size([5, 450])\n",
      "271 /home/phdcs2/Hard_Disk/Datasets/Deep-Spectral-Segmentation/data/object-segmentation/ECSSD/features/dino_vits16/0272.pth\n",
      "0272\n",
      "Starting Training\n",
      "epoch: 00, loss: -0.39343\n",
      "epoch: 01, loss: -0.40303\n",
      "epoch: 02, loss: -0.40630\n",
      "epoch: 03, loss: -0.40699\n",
      "epoch: 04, loss: -0.40803\n",
      "epoch: 05, loss: -0.40825\n",
      "epoch: 06, loss: -0.40780\n",
      "epoch: 07, loss: -0.40779\n",
      "epoch: 08, loss: -0.40787\n",
      "epoch: 09, loss: -0.40690\n"
     ]
    },
    {
     "name": "stderr",
     "output_type": "stream",
     "text": [
      " 27%|██▋       | 272/1000 [1:43:57<4:58:48, 24.63s/it]"
     ]
    },
    {
     "name": "stdout",
     "output_type": "stream",
     "text": [
      "eigenvalues shape torch.Size([5]) eigenvectors shape torch.Size([5, 500])\n",
      "272 /home/phdcs2/Hard_Disk/Datasets/Deep-Spectral-Segmentation/data/object-segmentation/ECSSD/features/dino_vits16/0273.pth\n",
      "0273\n",
      "Starting Training\n",
      "epoch: 00, loss: -0.42662\n",
      "epoch: 01, loss: -0.44516\n",
      "epoch: 02, loss: -0.44568\n",
      "epoch: 03, loss: -0.44655\n",
      "epoch: 04, loss: -0.44775\n",
      "epoch: 05, loss: -0.44938\n",
      "epoch: 06, loss: -0.45044\n",
      "epoch: 07, loss: -0.45167\n",
      "epoch: 08, loss: -0.45305\n",
      "epoch: 09, loss: -0.45419\n"
     ]
    },
    {
     "name": "stderr",
     "output_type": "stream",
     "text": [
      " 27%|██▋       | 273/1000 [1:44:14<4:33:19, 22.56s/it]"
     ]
    },
    {
     "name": "stdout",
     "output_type": "stream",
     "text": [
      "eigenvalues shape torch.Size([5]) eigenvectors shape torch.Size([5, 400])\n",
      "273 /home/phdcs2/Hard_Disk/Datasets/Deep-Spectral-Segmentation/data/object-segmentation/ECSSD/features/dino_vits16/0274.pth\n",
      "0274\n",
      "Starting Training\n",
      "epoch: 00, loss: -0.41073\n",
      "epoch: 01, loss: -0.41728\n",
      "epoch: 02, loss: -0.41871\n",
      "epoch: 03, loss: -0.42122\n",
      "epoch: 04, loss: -0.42325\n",
      "epoch: 05, loss: -0.42521\n",
      "epoch: 06, loss: -0.42771\n",
      "epoch: 07, loss: -0.42937\n",
      "epoch: 08, loss: -0.43157\n",
      "epoch: 09, loss: -0.43447\n"
     ]
    },
    {
     "name": "stderr",
     "output_type": "stream",
     "text": [
      " 27%|██▋       | 274/1000 [1:44:47<5:08:03, 25.46s/it]"
     ]
    },
    {
     "name": "stdout",
     "output_type": "stream",
     "text": [
      "eigenvalues shape torch.Size([5]) eigenvectors shape torch.Size([5, 575])\n",
      "274 /home/phdcs2/Hard_Disk/Datasets/Deep-Spectral-Segmentation/data/object-segmentation/ECSSD/features/dino_vits16/0275.pth\n",
      "0275\n",
      "Starting Training\n",
      "epoch: 00, loss: -0.41827\n",
      "epoch: 01, loss: -0.42509\n",
      "epoch: 02, loss: -0.41891\n",
      "epoch: 03, loss: -0.41567\n",
      "epoch: 04, loss: -0.41526\n",
      "epoch: 05, loss: -0.41437\n",
      "epoch: 06, loss: -0.41386\n",
      "epoch: 07, loss: -0.41441\n",
      "epoch: 08, loss: -0.41403\n",
      "epoch: 09, loss: -0.41360\n"
     ]
    },
    {
     "name": "stderr",
     "output_type": "stream",
     "text": [
      " 28%|██▊       | 275/1000 [1:45:08<4:52:23, 24.20s/it]"
     ]
    },
    {
     "name": "stdout",
     "output_type": "stream",
     "text": [
      "eigenvalues shape torch.Size([5]) eigenvectors shape torch.Size([5, 400])\n",
      "275 /home/phdcs2/Hard_Disk/Datasets/Deep-Spectral-Segmentation/data/object-segmentation/ECSSD/features/dino_vits16/0276.pth\n",
      "0276\n",
      "Starting Training\n",
      "epoch: 00, loss: -0.69108\n",
      "epoch: 01, loss: -0.80140\n",
      "epoch: 02, loss: -0.80071\n",
      "epoch: 03, loss: -0.80032\n",
      "epoch: 04, loss: -0.80000\n",
      "epoch: 05, loss: -0.79899\n",
      "epoch: 06, loss: -0.79846\n",
      "epoch: 07, loss: -0.79842\n",
      "epoch: 08, loss: -0.79779\n",
      "epoch: 09, loss: -0.79744\n"
     ]
    },
    {
     "name": "stderr",
     "output_type": "stream",
     "text": [
      " 28%|██▊       | 276/1000 [1:45:34<4:58:39, 24.75s/it]"
     ]
    },
    {
     "name": "stdout",
     "output_type": "stream",
     "text": [
      "eigenvalues shape torch.Size([5]) eigenvectors shape torch.Size([5, 525])\n",
      "276 /home/phdcs2/Hard_Disk/Datasets/Deep-Spectral-Segmentation/data/object-segmentation/ECSSD/features/dino_vits16/0277.pth\n",
      "0277\n",
      "Starting Training\n",
      "epoch: 00, loss: -0.41455\n",
      "epoch: 01, loss: -0.42733\n",
      "epoch: 02, loss: -0.42792\n",
      "epoch: 03, loss: -0.42926\n",
      "epoch: 04, loss: -0.42959\n",
      "epoch: 05, loss: -0.43020\n",
      "epoch: 06, loss: -0.43104\n",
      "epoch: 07, loss: -0.43169\n",
      "epoch: 08, loss: -0.43278\n",
      "epoch: 09, loss: -0.43330\n"
     ]
    },
    {
     "name": "stderr",
     "output_type": "stream",
     "text": [
      " 28%|██▊       | 277/1000 [1:45:55<4:46:48, 23.80s/it]"
     ]
    },
    {
     "name": "stdout",
     "output_type": "stream",
     "text": [
      "eigenvalues shape torch.Size([5]) eigenvectors shape torch.Size([5, 400])\n",
      "277 /home/phdcs2/Hard_Disk/Datasets/Deep-Spectral-Segmentation/data/object-segmentation/ECSSD/features/dino_vits16/0278.pth\n",
      "0278\n",
      "Starting Training\n",
      "epoch: 00, loss: -0.37438\n",
      "epoch: 01, loss: -0.36772\n",
      "epoch: 02, loss: -0.36457\n",
      "epoch: 03, loss: -0.36403\n",
      "epoch: 04, loss: -0.36385\n",
      "epoch: 05, loss: -0.36416\n",
      "epoch: 06, loss: -0.36416\n",
      "epoch: 07, loss: -0.36400\n",
      "epoch: 08, loss: -0.36389\n",
      "epoch: 09, loss: -0.36405\n"
     ]
    },
    {
     "name": "stderr",
     "output_type": "stream",
     "text": [
      " 28%|██▊       | 278/1000 [1:46:26<5:09:36, 25.73s/it]"
     ]
    },
    {
     "name": "stdout",
     "output_type": "stream",
     "text": [
      "eigenvalues shape torch.Size([5]) eigenvectors shape torch.Size([5, 550])\n",
      "278 /home/phdcs2/Hard_Disk/Datasets/Deep-Spectral-Segmentation/data/object-segmentation/ECSSD/features/dino_vits16/0279.pth\n",
      "0279\n",
      "Starting Training\n",
      "epoch: 00, loss: -0.39200\n",
      "epoch: 01, loss: -0.39792\n",
      "epoch: 02, loss: -0.39766\n",
      "epoch: 03, loss: -0.39806\n",
      "epoch: 04, loss: -0.39852\n",
      "epoch: 05, loss: -0.39900\n",
      "epoch: 06, loss: -0.39798\n",
      "epoch: 07, loss: -0.39885\n",
      "epoch: 08, loss: -0.39886\n",
      "epoch: 09, loss: -0.39925\n"
     ]
    },
    {
     "name": "stderr",
     "output_type": "stream",
     "text": [
      " 28%|██▊       | 279/1000 [1:46:48<4:56:29, 24.67s/it]"
     ]
    },
    {
     "name": "stdout",
     "output_type": "stream",
     "text": [
      "eigenvalues shape torch.Size([5]) eigenvectors shape torch.Size([5, 450])\n",
      "279 /home/phdcs2/Hard_Disk/Datasets/Deep-Spectral-Segmentation/data/object-segmentation/ECSSD/features/dino_vits16/0280.pth\n",
      "0280\n",
      "Starting Training\n",
      "epoch: 00, loss: -0.37266\n",
      "epoch: 01, loss: -0.37031\n",
      "epoch: 02, loss: -0.36685\n",
      "epoch: 03, loss: -0.36995\n",
      "epoch: 04, loss: -0.37666\n",
      "epoch: 05, loss: -0.38354\n",
      "epoch: 06, loss: -0.38874\n",
      "epoch: 07, loss: -0.39374\n",
      "epoch: 08, loss: -0.39743\n",
      "epoch: 09, loss: -0.40092\n"
     ]
    },
    {
     "name": "stderr",
     "output_type": "stream",
     "text": [
      " 28%|██▊       | 280/1000 [1:47:20<5:23:08, 26.93s/it]"
     ]
    },
    {
     "name": "stdout",
     "output_type": "stream",
     "text": [
      "eigenvalues shape torch.Size([5]) eigenvectors shape torch.Size([5, 625])\n",
      "280 /home/phdcs2/Hard_Disk/Datasets/Deep-Spectral-Segmentation/data/object-segmentation/ECSSD/features/dino_vits16/0281.pth\n",
      "0281\n",
      "Starting Training\n",
      "epoch: 00, loss: -0.60474\n",
      "epoch: 01, loss: -0.63785\n",
      "epoch: 02, loss: -0.64025\n",
      "epoch: 03, loss: -0.64168\n",
      "epoch: 04, loss: -0.64284\n",
      "epoch: 05, loss: -0.64379\n",
      "epoch: 06, loss: -0.64467\n",
      "epoch: 07, loss: -0.64567\n",
      "epoch: 08, loss: -0.64657\n",
      "epoch: 09, loss: -0.64717\n"
     ]
    },
    {
     "name": "stderr",
     "output_type": "stream",
     "text": [
      " 28%|██▊       | 281/1000 [1:47:44<5:11:31, 26.00s/it]"
     ]
    },
    {
     "name": "stdout",
     "output_type": "stream",
     "text": [
      "eigenvalues shape torch.Size([5]) eigenvectors shape torch.Size([5, 450])\n",
      "281 /home/phdcs2/Hard_Disk/Datasets/Deep-Spectral-Segmentation/data/object-segmentation/ECSSD/features/dino_vits16/0282.pth\n",
      "0282\n",
      "Starting Training\n",
      "epoch: 00, loss: -0.37270\n",
      "epoch: 01, loss: -0.36197\n",
      "epoch: 02, loss: -0.36227\n",
      "epoch: 03, loss: -0.36331\n",
      "epoch: 04, loss: -0.36581\n",
      "epoch: 05, loss: -0.36822\n",
      "epoch: 06, loss: -0.37045\n",
      "epoch: 07, loss: -0.37319\n",
      "epoch: 08, loss: -0.37454\n",
      "epoch: 09, loss: -0.37704\n"
     ]
    },
    {
     "name": "stderr",
     "output_type": "stream",
     "text": [
      " 28%|██▊       | 282/1000 [1:48:04<4:51:30, 24.36s/it]"
     ]
    },
    {
     "name": "stdout",
     "output_type": "stream",
     "text": [
      "eigenvalues shape torch.Size([5]) eigenvectors shape torch.Size([5, 400])\n",
      "282 /home/phdcs2/Hard_Disk/Datasets/Deep-Spectral-Segmentation/data/object-segmentation/ECSSD/features/dino_vits16/0283.pth\n",
      "0283\n",
      "Starting Training\n",
      "epoch: 00, loss: -0.37639\n",
      "epoch: 01, loss: -0.38079\n",
      "epoch: 02, loss: -0.38577\n",
      "epoch: 03, loss: -0.38935\n",
      "epoch: 04, loss: -0.39395\n",
      "epoch: 05, loss: -0.40362\n",
      "epoch: 06, loss: -0.42455\n",
      "epoch: 07, loss: -0.44322\n",
      "epoch: 08, loss: -0.45506\n",
      "epoch: 09, loss: -0.46298\n"
     ]
    },
    {
     "name": "stderr",
     "output_type": "stream",
     "text": [
      " 28%|██▊       | 283/1000 [1:48:26<4:40:16, 23.45s/it]"
     ]
    },
    {
     "name": "stdout",
     "output_type": "stream",
     "text": [
      "eigenvalues shape torch.Size([5]) eigenvectors shape torch.Size([5, 400])\n",
      "283 /home/phdcs2/Hard_Disk/Datasets/Deep-Spectral-Segmentation/data/object-segmentation/ECSSD/features/dino_vits16/0284.pth\n",
      "0284\n",
      "Starting Training\n",
      "epoch: 00, loss: -0.38549\n",
      "epoch: 01, loss: -0.38988\n",
      "epoch: 02, loss: -0.39033\n",
      "epoch: 03, loss: -0.39148\n",
      "epoch: 04, loss: -0.39171\n",
      "epoch: 05, loss: -0.39193\n",
      "epoch: 06, loss: -0.39291\n",
      "epoch: 07, loss: -0.39259\n",
      "epoch: 08, loss: -0.39263\n",
      "epoch: 09, loss: -0.39314\n"
     ]
    },
    {
     "name": "stderr",
     "output_type": "stream",
     "text": [
      " 28%|██▊       | 284/1000 [1:48:47<4:33:05, 22.89s/it]"
     ]
    },
    {
     "name": "stdout",
     "output_type": "stream",
     "text": [
      "eigenvalues shape torch.Size([5]) eigenvectors shape torch.Size([5, 400])\n",
      "284 /home/phdcs2/Hard_Disk/Datasets/Deep-Spectral-Segmentation/data/object-segmentation/ECSSD/features/dino_vits16/0285.pth\n",
      "0285\n",
      "Starting Training\n",
      "epoch: 00, loss: -0.45469\n",
      "epoch: 01, loss: -0.44326\n",
      "epoch: 02, loss: -0.44527\n",
      "epoch: 03, loss: -0.44548\n",
      "epoch: 04, loss: -0.44419\n",
      "epoch: 05, loss: -0.44507\n",
      "epoch: 06, loss: -0.44521\n",
      "epoch: 07, loss: -0.44555\n",
      "epoch: 08, loss: -0.44623\n",
      "epoch: 09, loss: -0.44679\n"
     ]
    },
    {
     "name": "stderr",
     "output_type": "stream",
     "text": [
      " 28%|██▊       | 285/1000 [1:49:05<4:12:53, 21.22s/it]"
     ]
    },
    {
     "name": "stdout",
     "output_type": "stream",
     "text": [
      "eigenvalues shape torch.Size([5]) eigenvectors shape torch.Size([5, 400])\n",
      "285 /home/phdcs2/Hard_Disk/Datasets/Deep-Spectral-Segmentation/data/object-segmentation/ECSSD/features/dino_vits16/0286.pth\n",
      "0286\n",
      "Starting Training\n",
      "epoch: 00, loss: -0.36843\n",
      "epoch: 01, loss: -0.35983\n",
      "epoch: 02, loss: -0.36262\n",
      "epoch: 03, loss: -0.36775\n",
      "epoch: 04, loss: -0.37338\n",
      "epoch: 05, loss: -0.37848\n",
      "epoch: 06, loss: -0.38489\n",
      "epoch: 07, loss: -0.39249\n",
      "epoch: 08, loss: -0.40037\n",
      "epoch: 09, loss: -0.40736\n"
     ]
    },
    {
     "name": "stderr",
     "output_type": "stream",
     "text": [
      " 29%|██▊       | 286/1000 [1:49:26<4:11:56, 21.17s/it]"
     ]
    },
    {
     "name": "stdout",
     "output_type": "stream",
     "text": [
      "eigenvalues shape torch.Size([5]) eigenvectors shape torch.Size([5, 450])\n",
      "286 /home/phdcs2/Hard_Disk/Datasets/Deep-Spectral-Segmentation/data/object-segmentation/ECSSD/features/dino_vits16/0287.pth\n",
      "0287\n",
      "Starting Training\n",
      "epoch: 00, loss: -0.38638\n",
      "epoch: 01, loss: -0.39478\n",
      "epoch: 02, loss: -0.39230\n",
      "epoch: 03, loss: -0.39094\n",
      "epoch: 04, loss: -0.39121\n",
      "epoch: 05, loss: -0.39271\n",
      "epoch: 06, loss: -0.39624\n",
      "epoch: 07, loss: -0.39952\n",
      "epoch: 08, loss: -0.40296\n",
      "epoch: 09, loss: -0.40550\n"
     ]
    },
    {
     "name": "stderr",
     "output_type": "stream",
     "text": [
      " 29%|██▊       | 287/1000 [1:49:46<4:08:04, 20.88s/it]"
     ]
    },
    {
     "name": "stdout",
     "output_type": "stream",
     "text": [
      "eigenvalues shape torch.Size([5]) eigenvectors shape torch.Size([5, 375])\n",
      "287 /home/phdcs2/Hard_Disk/Datasets/Deep-Spectral-Segmentation/data/object-segmentation/ECSSD/features/dino_vits16/0288.pth\n",
      "0288\n",
      "Starting Training\n",
      "epoch: 00, loss: -0.35964\n",
      "epoch: 01, loss: -0.35903\n",
      "epoch: 02, loss: -0.36307\n",
      "epoch: 03, loss: -0.36845\n",
      "epoch: 04, loss: -0.37125\n",
      "epoch: 05, loss: -0.37539\n",
      "epoch: 06, loss: -0.37822\n",
      "epoch: 07, loss: -0.38163\n",
      "epoch: 08, loss: -0.38541\n",
      "epoch: 09, loss: -0.38961\n"
     ]
    },
    {
     "name": "stderr",
     "output_type": "stream",
     "text": [
      " 29%|██▉       | 288/1000 [1:50:10<4:19:54, 21.90s/it]"
     ]
    },
    {
     "name": "stdout",
     "output_type": "stream",
     "text": [
      "eigenvalues shape torch.Size([5]) eigenvectors shape torch.Size([5, 450])\n",
      "288 /home/phdcs2/Hard_Disk/Datasets/Deep-Spectral-Segmentation/data/object-segmentation/ECSSD/features/dino_vits16/0289.pth\n",
      "0289\n",
      "Starting Training\n",
      "epoch: 00, loss: -0.40926\n",
      "epoch: 01, loss: -0.41508\n",
      "epoch: 02, loss: -0.41817\n",
      "epoch: 03, loss: -0.42392\n",
      "epoch: 04, loss: -0.42925\n",
      "epoch: 05, loss: -0.43210\n",
      "epoch: 06, loss: -0.43478\n",
      "epoch: 07, loss: -0.43780\n",
      "epoch: 08, loss: -0.43971\n",
      "epoch: 09, loss: -0.44205\n"
     ]
    },
    {
     "name": "stderr",
     "output_type": "stream",
     "text": [
      " 29%|██▉       | 289/1000 [1:50:33<4:21:59, 22.11s/it]"
     ]
    },
    {
     "name": "stdout",
     "output_type": "stream",
     "text": [
      "eigenvalues shape torch.Size([5]) eigenvectors shape torch.Size([5, 450])\n",
      "289 /home/phdcs2/Hard_Disk/Datasets/Deep-Spectral-Segmentation/data/object-segmentation/ECSSD/features/dino_vits16/0290.pth\n",
      "0290\n",
      "Starting Training\n",
      "epoch: 00, loss: -0.39349\n",
      "epoch: 01, loss: -0.39616\n",
      "epoch: 02, loss: -0.39594\n",
      "epoch: 03, loss: -0.39658\n",
      "epoch: 04, loss: -0.39832\n",
      "epoch: 05, loss: -0.40050\n",
      "epoch: 06, loss: -0.40235\n",
      "epoch: 07, loss: -0.40311\n",
      "epoch: 08, loss: -0.40370\n",
      "epoch: 09, loss: -0.40533\n"
     ]
    },
    {
     "name": "stderr",
     "output_type": "stream",
     "text": [
      " 29%|██▉       | 290/1000 [1:50:53<4:15:45, 21.61s/it]"
     ]
    },
    {
     "name": "stdout",
     "output_type": "stream",
     "text": [
      "eigenvalues shape torch.Size([5]) eigenvectors shape torch.Size([5, 375])\n",
      "290 /home/phdcs2/Hard_Disk/Datasets/Deep-Spectral-Segmentation/data/object-segmentation/ECSSD/features/dino_vits16/0291.pth\n",
      "0291\n",
      "Starting Training\n",
      "epoch: 00, loss: -0.48431\n",
      "epoch: 01, loss: -0.49099\n",
      "epoch: 02, loss: -0.49619\n",
      "epoch: 03, loss: -0.50017\n",
      "epoch: 04, loss: -0.50313\n",
      "epoch: 05, loss: -0.50677\n",
      "epoch: 06, loss: -0.51037\n",
      "epoch: 07, loss: -0.51424\n",
      "epoch: 08, loss: -0.51781\n",
      "epoch: 09, loss: -0.52093\n"
     ]
    },
    {
     "name": "stderr",
     "output_type": "stream",
     "text": [
      " 29%|██▉       | 291/1000 [1:51:19<4:30:12, 22.87s/it]"
     ]
    },
    {
     "name": "stdout",
     "output_type": "stream",
     "text": [
      "eigenvalues shape torch.Size([5]) eigenvectors shape torch.Size([5, 475])\n",
      "291 /home/phdcs2/Hard_Disk/Datasets/Deep-Spectral-Segmentation/data/object-segmentation/ECSSD/features/dino_vits16/0292.pth\n",
      "0292\n",
      "Starting Training\n",
      "epoch: 00, loss: -0.40607\n",
      "epoch: 01, loss: -0.42814\n",
      "epoch: 02, loss: -0.43270\n",
      "epoch: 03, loss: -0.43511\n",
      "epoch: 04, loss: -0.43855\n",
      "epoch: 05, loss: -0.44295\n",
      "epoch: 06, loss: -0.44843\n",
      "epoch: 07, loss: -0.45136\n",
      "epoch: 08, loss: -0.45519\n",
      "epoch: 09, loss: -0.45843\n"
     ]
    },
    {
     "name": "stderr",
     "output_type": "stream",
     "text": [
      " 29%|██▉       | 292/1000 [1:51:42<4:31:43, 23.03s/it]"
     ]
    },
    {
     "name": "stdout",
     "output_type": "stream",
     "text": [
      "eigenvalues shape torch.Size([5]) eigenvectors shape torch.Size([5, 400])\n",
      "292 /home/phdcs2/Hard_Disk/Datasets/Deep-Spectral-Segmentation/data/object-segmentation/ECSSD/features/dino_vits16/0293.pth\n",
      "0293\n",
      "Starting Training\n",
      "epoch: 00, loss: -0.40736\n",
      "epoch: 01, loss: -0.41871\n",
      "epoch: 02, loss: -0.42067\n",
      "epoch: 03, loss: -0.42362\n",
      "epoch: 04, loss: -0.42644\n",
      "epoch: 05, loss: -0.42776\n",
      "epoch: 06, loss: -0.42962\n",
      "epoch: 07, loss: -0.42968\n",
      "epoch: 08, loss: -0.43102\n",
      "epoch: 09, loss: -0.43175\n"
     ]
    },
    {
     "name": "stderr",
     "output_type": "stream",
     "text": [
      " 29%|██▉       | 293/1000 [1:52:03<4:24:11, 22.42s/it]"
     ]
    },
    {
     "name": "stdout",
     "output_type": "stream",
     "text": [
      "eigenvalues shape torch.Size([5]) eigenvectors shape torch.Size([5, 425])\n",
      "293 /home/phdcs2/Hard_Disk/Datasets/Deep-Spectral-Segmentation/data/object-segmentation/ECSSD/features/dino_vits16/0294.pth\n",
      "0294\n",
      "Starting Training\n",
      "epoch: 00, loss: -0.36623\n",
      "epoch: 01, loss: -0.36060\n",
      "epoch: 02, loss: -0.36140\n",
      "epoch: 03, loss: -0.36183\n",
      "epoch: 04, loss: -0.36187\n",
      "epoch: 05, loss: -0.36256\n",
      "epoch: 06, loss: -0.36210\n",
      "epoch: 07, loss: -0.36169\n",
      "epoch: 08, loss: -0.36132\n",
      "epoch: 09, loss: -0.36179\n"
     ]
    },
    {
     "name": "stderr",
     "output_type": "stream",
     "text": [
      " 29%|██▉       | 294/1000 [1:52:25<4:19:27, 22.05s/it]"
     ]
    },
    {
     "name": "stdout",
     "output_type": "stream",
     "text": [
      "eigenvalues shape torch.Size([5]) eigenvectors shape torch.Size([5, 425])\n",
      "294 /home/phdcs2/Hard_Disk/Datasets/Deep-Spectral-Segmentation/data/object-segmentation/ECSSD/features/dino_vits16/0295.pth\n",
      "0295\n",
      "Starting Training\n",
      "epoch: 00, loss: -0.61727\n",
      "epoch: 01, loss: -0.66650\n",
      "epoch: 02, loss: -0.66892\n",
      "epoch: 03, loss: -0.67050\n",
      "epoch: 04, loss: -0.67172\n",
      "epoch: 05, loss: -0.67233\n",
      "epoch: 06, loss: -0.67333\n",
      "epoch: 07, loss: -0.67369\n",
      "epoch: 08, loss: -0.67411\n",
      "epoch: 09, loss: -0.67461\n"
     ]
    },
    {
     "name": "stderr",
     "output_type": "stream",
     "text": [
      " 30%|██▉       | 295/1000 [1:52:43<4:07:27, 21.06s/it]"
     ]
    },
    {
     "name": "stdout",
     "output_type": "stream",
     "text": [
      "eigenvalues shape torch.Size([5]) eigenvectors shape torch.Size([5, 425])\n",
      "295 /home/phdcs2/Hard_Disk/Datasets/Deep-Spectral-Segmentation/data/object-segmentation/ECSSD/features/dino_vits16/0296.pth\n",
      "0296\n",
      "Starting Training\n",
      "epoch: 00, loss: -0.62529\n",
      "epoch: 01, loss: -0.66497\n",
      "epoch: 02, loss: -0.66706\n",
      "epoch: 03, loss: -0.66830\n",
      "epoch: 04, loss: -0.66954\n",
      "epoch: 05, loss: -0.67068\n",
      "epoch: 06, loss: -0.67105\n",
      "epoch: 07, loss: -0.67210\n",
      "epoch: 08, loss: -0.67273\n",
      "epoch: 09, loss: -0.67331\n"
     ]
    },
    {
     "name": "stderr",
     "output_type": "stream",
     "text": [
      " 30%|██▉       | 296/1000 [1:53:04<4:06:24, 21.00s/it]"
     ]
    },
    {
     "name": "stdout",
     "output_type": "stream",
     "text": [
      "eigenvalues shape torch.Size([5]) eigenvectors shape torch.Size([5, 425])\n",
      "296 /home/phdcs2/Hard_Disk/Datasets/Deep-Spectral-Segmentation/data/object-segmentation/ECSSD/features/dino_vits16/0297.pth\n",
      "0297\n",
      "Starting Training\n",
      "epoch: 00, loss: -0.41487\n",
      "epoch: 01, loss: -0.42501\n",
      "epoch: 02, loss: -0.42370\n",
      "epoch: 03, loss: -0.42014\n",
      "epoch: 04, loss: -0.41775\n",
      "epoch: 05, loss: -0.41710\n",
      "epoch: 06, loss: -0.41570\n",
      "epoch: 07, loss: -0.41524\n",
      "epoch: 08, loss: -0.41514\n",
      "epoch: 09, loss: -0.41429\n"
     ]
    },
    {
     "name": "stderr",
     "output_type": "stream",
     "text": [
      " 30%|██▉       | 297/1000 [1:53:30<4:21:42, 22.34s/it]"
     ]
    },
    {
     "name": "stdout",
     "output_type": "stream",
     "text": [
      "eigenvalues shape torch.Size([5]) eigenvectors shape torch.Size([5, 475])\n",
      "297 /home/phdcs2/Hard_Disk/Datasets/Deep-Spectral-Segmentation/data/object-segmentation/ECSSD/features/dino_vits16/0298.pth\n",
      "0298\n",
      "Starting Training\n",
      "epoch: 00, loss: -0.39754\n",
      "epoch: 01, loss: -0.39939\n",
      "epoch: 02, loss: -0.40361\n",
      "epoch: 03, loss: -0.40665\n",
      "epoch: 04, loss: -0.40982\n",
      "epoch: 05, loss: -0.41332\n",
      "epoch: 06, loss: -0.41513\n",
      "epoch: 07, loss: -0.41714\n",
      "epoch: 08, loss: -0.41865\n",
      "epoch: 09, loss: -0.41961\n"
     ]
    },
    {
     "name": "stderr",
     "output_type": "stream",
     "text": [
      " 30%|██▉       | 298/1000 [1:53:51<4:19:25, 22.17s/it]"
     ]
    },
    {
     "name": "stdout",
     "output_type": "stream",
     "text": [
      "eigenvalues shape torch.Size([5]) eigenvectors shape torch.Size([5, 400])\n",
      "298 /home/phdcs2/Hard_Disk/Datasets/Deep-Spectral-Segmentation/data/object-segmentation/ECSSD/features/dino_vits16/0299.pth\n",
      "0299\n",
      "Starting Training\n",
      "epoch: 00, loss: -0.55685\n",
      "epoch: 01, loss: -0.56291\n",
      "epoch: 02, loss: -0.56277\n",
      "epoch: 03, loss: -0.56160\n",
      "epoch: 04, loss: -0.55947\n",
      "epoch: 05, loss: -0.55972\n",
      "epoch: 06, loss: -0.55989\n",
      "epoch: 07, loss: -0.56090\n",
      "epoch: 08, loss: -0.56230\n",
      "epoch: 09, loss: -0.56328\n"
     ]
    },
    {
     "name": "stderr",
     "output_type": "stream",
     "text": [
      " 30%|██▉       | 299/1000 [1:54:16<4:26:22, 22.80s/it]"
     ]
    },
    {
     "name": "stdout",
     "output_type": "stream",
     "text": [
      "eigenvalues shape torch.Size([5]) eigenvectors shape torch.Size([5, 450])\n",
      "299 /home/phdcs2/Hard_Disk/Datasets/Deep-Spectral-Segmentation/data/object-segmentation/ECSSD/features/dino_vits16/0300.pth\n",
      "0300\n",
      "Starting Training\n",
      "epoch: 00, loss: -0.46312\n",
      "epoch: 01, loss: -0.46867\n",
      "epoch: 02, loss: -0.47078\n",
      "epoch: 03, loss: -0.47273\n",
      "epoch: 04, loss: -0.47417\n",
      "epoch: 05, loss: -0.47521\n",
      "epoch: 06, loss: -0.47756\n",
      "epoch: 07, loss: -0.47959\n",
      "epoch: 08, loss: -0.48024\n",
      "epoch: 09, loss: -0.48250\n"
     ]
    },
    {
     "name": "stderr",
     "output_type": "stream",
     "text": [
      " 30%|███       | 300/1000 [1:54:39<4:26:34, 22.85s/it]"
     ]
    },
    {
     "name": "stdout",
     "output_type": "stream",
     "text": [
      "eigenvalues shape torch.Size([5]) eigenvectors shape torch.Size([5, 475])\n",
      "300 /home/phdcs2/Hard_Disk/Datasets/Deep-Spectral-Segmentation/data/object-segmentation/ECSSD/features/dino_vits16/0301.pth\n",
      "0301\n",
      "Starting Training\n",
      "epoch: 00, loss: -0.49396\n",
      "epoch: 01, loss: -0.49456\n",
      "epoch: 02, loss: -0.49909\n",
      "epoch: 03, loss: -0.50276\n",
      "epoch: 04, loss: -0.50551\n",
      "epoch: 05, loss: -0.50795\n",
      "epoch: 06, loss: -0.50987\n",
      "epoch: 07, loss: -0.51208\n",
      "epoch: 08, loss: -0.51308\n",
      "epoch: 09, loss: -0.51486\n"
     ]
    },
    {
     "name": "stderr",
     "output_type": "stream",
     "text": [
      " 30%|███       | 301/1000 [1:55:02<4:26:50, 22.90s/it]"
     ]
    },
    {
     "name": "stdout",
     "output_type": "stream",
     "text": [
      "eigenvalues shape torch.Size([5]) eigenvectors shape torch.Size([5, 400])\n",
      "301 /home/phdcs2/Hard_Disk/Datasets/Deep-Spectral-Segmentation/data/object-segmentation/ECSSD/features/dino_vits16/0302.pth\n",
      "0302\n",
      "Starting Training\n",
      "epoch: 00, loss: -0.39313\n",
      "epoch: 01, loss: -0.39109\n",
      "epoch: 02, loss: -0.39625\n",
      "epoch: 03, loss: -0.40071\n",
      "epoch: 04, loss: -0.40391\n",
      "epoch: 05, loss: -0.40604\n",
      "epoch: 06, loss: -0.40702\n",
      "epoch: 07, loss: -0.40789\n",
      "epoch: 08, loss: -0.40842\n",
      "epoch: 09, loss: -0.40928\n"
     ]
    },
    {
     "name": "stderr",
     "output_type": "stream",
     "text": [
      " 30%|███       | 302/1000 [1:55:24<4:24:31, 22.74s/it]"
     ]
    },
    {
     "name": "stdout",
     "output_type": "stream",
     "text": [
      "eigenvalues shape torch.Size([5]) eigenvectors shape torch.Size([5, 450])\n",
      "302 /home/phdcs2/Hard_Disk/Datasets/Deep-Spectral-Segmentation/data/object-segmentation/ECSSD/features/dino_vits16/0303.pth\n",
      "0303\n",
      "Starting Training\n",
      "epoch: 00, loss: -0.36948\n",
      "epoch: 01, loss: -0.37466\n",
      "epoch: 02, loss: -0.38221\n",
      "epoch: 03, loss: -0.38803\n",
      "epoch: 04, loss: -0.39401\n",
      "epoch: 05, loss: -0.39950\n",
      "epoch: 06, loss: -0.40410\n",
      "epoch: 07, loss: -0.40767\n",
      "epoch: 08, loss: -0.41229\n",
      "epoch: 09, loss: -0.41696\n"
     ]
    },
    {
     "name": "stderr",
     "output_type": "stream",
     "text": [
      " 30%|███       | 303/1000 [1:55:45<4:17:31, 22.17s/it]"
     ]
    },
    {
     "name": "stdout",
     "output_type": "stream",
     "text": [
      "eigenvalues shape torch.Size([5]) eigenvectors shape torch.Size([5, 450])\n",
      "303 /home/phdcs2/Hard_Disk/Datasets/Deep-Spectral-Segmentation/data/object-segmentation/ECSSD/features/dino_vits16/0304.pth\n",
      "0304\n",
      "Starting Training\n",
      "epoch: 00, loss: -0.39657\n",
      "epoch: 01, loss: -0.39305\n",
      "epoch: 02, loss: -0.39333\n",
      "epoch: 03, loss: -0.39521\n",
      "epoch: 04, loss: -0.39840\n",
      "epoch: 05, loss: -0.40052\n",
      "epoch: 06, loss: -0.40224\n",
      "epoch: 07, loss: -0.40380\n",
      "epoch: 08, loss: -0.40510\n",
      "epoch: 09, loss: -0.40698\n"
     ]
    },
    {
     "name": "stderr",
     "output_type": "stream",
     "text": [
      " 30%|███       | 304/1000 [1:56:08<4:18:57, 22.32s/it]"
     ]
    },
    {
     "name": "stdout",
     "output_type": "stream",
     "text": [
      "eigenvalues shape torch.Size([5]) eigenvectors shape torch.Size([5, 400])\n",
      "304 /home/phdcs2/Hard_Disk/Datasets/Deep-Spectral-Segmentation/data/object-segmentation/ECSSD/features/dino_vits16/0305.pth\n",
      "0305\n",
      "Starting Training\n",
      "epoch: 00, loss: -0.43918\n",
      "epoch: 01, loss: -0.46425\n",
      "epoch: 02, loss: -0.46644\n",
      "epoch: 03, loss: -0.46859\n",
      "epoch: 04, loss: -0.47130\n",
      "epoch: 05, loss: -0.47315\n",
      "epoch: 06, loss: -0.47524\n",
      "epoch: 07, loss: -0.47674\n",
      "epoch: 08, loss: -0.47726\n",
      "epoch: 09, loss: -0.47992\n"
     ]
    },
    {
     "name": "stderr",
     "output_type": "stream",
     "text": [
      " 30%|███       | 305/1000 [1:56:31<4:20:58, 22.53s/it]"
     ]
    },
    {
     "name": "stdout",
     "output_type": "stream",
     "text": [
      "eigenvalues shape torch.Size([5]) eigenvectors shape torch.Size([5, 400])\n",
      "305 /home/phdcs2/Hard_Disk/Datasets/Deep-Spectral-Segmentation/data/object-segmentation/ECSSD/features/dino_vits16/0306.pth\n",
      "0306\n",
      "Starting Training\n",
      "epoch: 00, loss: -0.38557\n",
      "epoch: 01, loss: -0.39231\n",
      "epoch: 02, loss: -0.39559\n",
      "epoch: 03, loss: -0.39803\n",
      "epoch: 04, loss: -0.39823\n",
      "epoch: 05, loss: -0.40068\n",
      "epoch: 06, loss: -0.40163\n",
      "epoch: 07, loss: -0.40365\n",
      "epoch: 08, loss: -0.40420\n",
      "epoch: 09, loss: -0.40553\n"
     ]
    },
    {
     "name": "stderr",
     "output_type": "stream",
     "text": [
      " 31%|███       | 306/1000 [1:56:50<4:08:29, 21.48s/it]"
     ]
    },
    {
     "name": "stdout",
     "output_type": "stream",
     "text": [
      "eigenvalues shape torch.Size([5]) eigenvectors shape torch.Size([5, 400])\n",
      "306 /home/phdcs2/Hard_Disk/Datasets/Deep-Spectral-Segmentation/data/object-segmentation/ECSSD/features/dino_vits16/0307.pth\n",
      "0307\n",
      "Starting Training\n",
      "epoch: 00, loss: -0.40884\n",
      "epoch: 01, loss: -0.41839\n",
      "epoch: 02, loss: -0.42098\n",
      "epoch: 03, loss: -0.42399\n",
      "epoch: 04, loss: -0.42654\n",
      "epoch: 05, loss: -0.42905\n",
      "epoch: 06, loss: -0.43188\n",
      "epoch: 07, loss: -0.43490\n",
      "epoch: 08, loss: -0.43797\n",
      "epoch: 09, loss: -0.44130\n"
     ]
    },
    {
     "name": "stderr",
     "output_type": "stream",
     "text": [
      " 31%|███       | 307/1000 [1:57:14<4:18:33, 22.39s/it]"
     ]
    },
    {
     "name": "stdout",
     "output_type": "stream",
     "text": [
      "eigenvalues shape torch.Size([5]) eigenvectors shape torch.Size([5, 450])\n",
      "307 /home/phdcs2/Hard_Disk/Datasets/Deep-Spectral-Segmentation/data/object-segmentation/ECSSD/features/dino_vits16/0308.pth\n",
      "0308\n",
      "Starting Training\n",
      "epoch: 00, loss: -0.37741\n",
      "epoch: 01, loss: -0.38216\n",
      "epoch: 02, loss: -0.38041\n",
      "epoch: 03, loss: -0.37799\n",
      "epoch: 04, loss: -0.37680\n",
      "epoch: 05, loss: -0.37508\n",
      "epoch: 06, loss: -0.37643\n",
      "epoch: 07, loss: -0.37586\n",
      "epoch: 08, loss: -0.37711\n",
      "epoch: 09, loss: -0.37678\n"
     ]
    },
    {
     "name": "stderr",
     "output_type": "stream",
     "text": [
      " 31%|███       | 308/1000 [1:57:37<4:20:31, 22.59s/it]"
     ]
    },
    {
     "name": "stdout",
     "output_type": "stream",
     "text": [
      "eigenvalues shape torch.Size([5]) eigenvectors shape torch.Size([5, 450])\n",
      "308 /home/phdcs2/Hard_Disk/Datasets/Deep-Spectral-Segmentation/data/object-segmentation/ECSSD/features/dino_vits16/0309.pth\n",
      "0309\n",
      "Starting Training\n",
      "epoch: 00, loss: -0.34059\n",
      "epoch: 01, loss: -0.33817\n",
      "epoch: 02, loss: -0.34085\n",
      "epoch: 03, loss: -0.34478\n",
      "epoch: 04, loss: -0.35093\n",
      "epoch: 05, loss: -0.35710\n",
      "epoch: 06, loss: -0.36104\n",
      "epoch: 07, loss: -0.36618\n",
      "epoch: 08, loss: -0.37156\n",
      "epoch: 09, loss: -0.37532\n"
     ]
    },
    {
     "name": "stderr",
     "output_type": "stream",
     "text": [
      " 31%|███       | 309/1000 [1:57:57<4:09:25, 21.66s/it]"
     ]
    },
    {
     "name": "stdout",
     "output_type": "stream",
     "text": [
      "eigenvalues shape torch.Size([5]) eigenvectors shape torch.Size([5, 400])\n",
      "309 /home/phdcs2/Hard_Disk/Datasets/Deep-Spectral-Segmentation/data/object-segmentation/ECSSD/features/dino_vits16/0310.pth\n",
      "0310\n",
      "Starting Training\n",
      "epoch: 00, loss: -0.41673\n",
      "epoch: 01, loss: -0.42217\n",
      "epoch: 02, loss: -0.42393\n",
      "epoch: 03, loss: -0.42551\n",
      "epoch: 04, loss: -0.42596\n",
      "epoch: 05, loss: -0.42661\n",
      "epoch: 06, loss: -0.42723\n",
      "epoch: 07, loss: -0.42784\n",
      "epoch: 08, loss: -0.42857\n",
      "epoch: 09, loss: -0.42914\n"
     ]
    },
    {
     "name": "stderr",
     "output_type": "stream",
     "text": [
      " 31%|███       | 310/1000 [1:58:22<4:22:52, 22.86s/it]"
     ]
    },
    {
     "name": "stdout",
     "output_type": "stream",
     "text": [
      "eigenvalues shape torch.Size([5]) eigenvectors shape torch.Size([5, 450])\n",
      "310 /home/phdcs2/Hard_Disk/Datasets/Deep-Spectral-Segmentation/data/object-segmentation/ECSSD/features/dino_vits16/0311.pth\n",
      "0311\n",
      "Starting Training\n",
      "epoch: 00, loss: -0.36321\n",
      "epoch: 01, loss: -0.37079\n",
      "epoch: 02, loss: -0.37451\n",
      "epoch: 03, loss: -0.38160\n",
      "epoch: 04, loss: -0.38557\n",
      "epoch: 05, loss: -0.38860\n",
      "epoch: 06, loss: -0.39242\n",
      "epoch: 07, loss: -0.39574\n",
      "epoch: 08, loss: -0.39995\n",
      "epoch: 09, loss: -0.40429\n"
     ]
    },
    {
     "name": "stderr",
     "output_type": "stream",
     "text": [
      " 31%|███       | 311/1000 [1:58:44<4:17:26, 22.42s/it]"
     ]
    },
    {
     "name": "stdout",
     "output_type": "stream",
     "text": [
      "eigenvalues shape torch.Size([5]) eigenvectors shape torch.Size([5, 400])\n",
      "311 /home/phdcs2/Hard_Disk/Datasets/Deep-Spectral-Segmentation/data/object-segmentation/ECSSD/features/dino_vits16/0312.pth\n",
      "0312\n",
      "Starting Training\n",
      "epoch: 00, loss: -0.53046\n",
      "epoch: 01, loss: -0.55741\n",
      "epoch: 02, loss: -0.56292\n",
      "epoch: 03, loss: -0.56817\n",
      "epoch: 04, loss: -0.57282\n",
      "epoch: 05, loss: -0.57692\n",
      "epoch: 06, loss: -0.57978\n",
      "epoch: 07, loss: -0.58321\n",
      "epoch: 08, loss: -0.58550\n",
      "epoch: 09, loss: -0.58820\n"
     ]
    },
    {
     "name": "stderr",
     "output_type": "stream",
     "text": [
      " 31%|███       | 312/1000 [1:59:08<4:23:13, 22.96s/it]"
     ]
    },
    {
     "name": "stdout",
     "output_type": "stream",
     "text": [
      "eigenvalues shape torch.Size([5]) eigenvectors shape torch.Size([5, 400])\n",
      "312 /home/phdcs2/Hard_Disk/Datasets/Deep-Spectral-Segmentation/data/object-segmentation/ECSSD/features/dino_vits16/0313.pth\n",
      "0313\n",
      "Starting Training\n",
      "epoch: 00, loss: -0.38179\n",
      "epoch: 01, loss: -0.38500\n",
      "epoch: 02, loss: -0.38242\n",
      "epoch: 03, loss: -0.38057\n",
      "epoch: 04, loss: -0.37935\n",
      "epoch: 05, loss: -0.37784\n",
      "epoch: 06, loss: -0.37695\n",
      "epoch: 07, loss: -0.37542\n",
      "epoch: 08, loss: -0.37491\n",
      "epoch: 09, loss: -0.37510\n"
     ]
    },
    {
     "name": "stderr",
     "output_type": "stream",
     "text": [
      " 31%|███▏      | 313/1000 [1:59:27<4:08:52, 21.74s/it]"
     ]
    },
    {
     "name": "stdout",
     "output_type": "stream",
     "text": [
      "eigenvalues shape torch.Size([5]) eigenvectors shape torch.Size([5, 400])\n",
      "313 /home/phdcs2/Hard_Disk/Datasets/Deep-Spectral-Segmentation/data/object-segmentation/ECSSD/features/dino_vits16/0314.pth\n",
      "0314\n",
      "Starting Training\n",
      "epoch: 00, loss: -0.36238\n",
      "epoch: 01, loss: -0.37985\n",
      "epoch: 02, loss: -0.38406\n",
      "epoch: 03, loss: -0.38930\n",
      "epoch: 04, loss: -0.39480\n",
      "epoch: 05, loss: -0.40016\n",
      "epoch: 06, loss: -0.40526\n",
      "epoch: 07, loss: -0.41235\n",
      "epoch: 08, loss: -0.41786\n",
      "epoch: 09, loss: -0.42332\n"
     ]
    },
    {
     "name": "stderr",
     "output_type": "stream",
     "text": [
      " 31%|███▏      | 314/1000 [1:59:49<4:08:55, 21.77s/it]"
     ]
    },
    {
     "name": "stdout",
     "output_type": "stream",
     "text": [
      "eigenvalues shape torch.Size([5]) eigenvectors shape torch.Size([5, 400])\n",
      "314 /home/phdcs2/Hard_Disk/Datasets/Deep-Spectral-Segmentation/data/object-segmentation/ECSSD/features/dino_vits16/0315.pth\n",
      "0315\n",
      "Starting Training\n",
      "epoch: 00, loss: -0.39205\n",
      "epoch: 01, loss: -0.39866\n",
      "epoch: 02, loss: -0.39681\n",
      "epoch: 03, loss: -0.39880\n",
      "epoch: 04, loss: -0.40162\n",
      "epoch: 05, loss: -0.40388\n",
      "epoch: 06, loss: -0.40625\n",
      "epoch: 07, loss: -0.40740\n",
      "epoch: 08, loss: -0.40912\n",
      "epoch: 09, loss: -0.41051\n"
     ]
    },
    {
     "name": "stderr",
     "output_type": "stream",
     "text": [
      " 32%|███▏      | 315/1000 [2:00:11<4:10:00, 21.90s/it]"
     ]
    },
    {
     "name": "stdout",
     "output_type": "stream",
     "text": [
      "eigenvalues shape torch.Size([5]) eigenvectors shape torch.Size([5, 450])\n",
      "315 /home/phdcs2/Hard_Disk/Datasets/Deep-Spectral-Segmentation/data/object-segmentation/ECSSD/features/dino_vits16/0316.pth\n",
      "0316\n",
      "Starting Training\n",
      "epoch: 00, loss: -0.57520\n",
      "epoch: 01, loss: -0.59904\n",
      "epoch: 02, loss: -0.60373\n",
      "epoch: 03, loss: -0.60784\n",
      "epoch: 04, loss: -0.61096\n",
      "epoch: 05, loss: -0.61480\n",
      "epoch: 06, loss: -0.61797\n",
      "epoch: 07, loss: -0.62058\n",
      "epoch: 08, loss: -0.62274\n",
      "epoch: 09, loss: -0.62524\n"
     ]
    },
    {
     "name": "stderr",
     "output_type": "stream",
     "text": [
      " 32%|███▏      | 316/1000 [2:00:32<4:07:01, 21.67s/it]"
     ]
    },
    {
     "name": "stdout",
     "output_type": "stream",
     "text": [
      "eigenvalues shape torch.Size([5]) eigenvectors shape torch.Size([5, 450])\n",
      "316 /home/phdcs2/Hard_Disk/Datasets/Deep-Spectral-Segmentation/data/object-segmentation/ECSSD/features/dino_vits16/0317.pth\n",
      "0317\n",
      "Starting Training\n",
      "epoch: 00, loss: -0.40501\n",
      "epoch: 01, loss: -0.41962\n",
      "epoch: 02, loss: -0.42270\n",
      "epoch: 03, loss: -0.42515\n",
      "epoch: 04, loss: -0.42651\n",
      "epoch: 05, loss: -0.42817\n",
      "epoch: 06, loss: -0.42931\n",
      "epoch: 07, loss: -0.43115\n",
      "epoch: 08, loss: -0.43200\n",
      "epoch: 09, loss: -0.43197\n"
     ]
    },
    {
     "name": "stderr",
     "output_type": "stream",
     "text": [
      " 32%|███▏      | 317/1000 [2:00:53<4:04:56, 21.52s/it]"
     ]
    },
    {
     "name": "stdout",
     "output_type": "stream",
     "text": [
      "eigenvalues shape torch.Size([5]) eigenvectors shape torch.Size([5, 450])\n",
      "317 /home/phdcs2/Hard_Disk/Datasets/Deep-Spectral-Segmentation/data/object-segmentation/ECSSD/features/dino_vits16/0318.pth\n",
      "0318\n",
      "Starting Training\n",
      "epoch: 00, loss: -0.59130\n",
      "epoch: 01, loss: -0.62493\n",
      "epoch: 02, loss: -0.62760\n",
      "epoch: 03, loss: -0.62980\n",
      "epoch: 04, loss: -0.63233\n",
      "epoch: 05, loss: -0.63523\n",
      "epoch: 06, loss: -0.63847\n",
      "epoch: 07, loss: -0.64043\n",
      "epoch: 08, loss: -0.64349\n",
      "epoch: 09, loss: -0.64585\n"
     ]
    },
    {
     "name": "stderr",
     "output_type": "stream",
     "text": [
      " 32%|███▏      | 318/1000 [2:01:18<4:15:07, 22.45s/it]"
     ]
    },
    {
     "name": "stdout",
     "output_type": "stream",
     "text": [
      "eigenvalues shape torch.Size([5]) eigenvectors shape torch.Size([5, 450])\n",
      "318 /home/phdcs2/Hard_Disk/Datasets/Deep-Spectral-Segmentation/data/object-segmentation/ECSSD/features/dino_vits16/0319.pth\n",
      "0319\n",
      "Starting Training\n",
      "epoch: 00, loss: -0.41311\n",
      "epoch: 01, loss: -0.42739\n",
      "epoch: 02, loss: -0.43006\n",
      "epoch: 03, loss: -0.43271\n",
      "epoch: 04, loss: -0.43458\n",
      "epoch: 05, loss: -0.43713\n",
      "epoch: 06, loss: -0.43927\n",
      "epoch: 07, loss: -0.44180\n",
      "epoch: 08, loss: -0.44456\n",
      "epoch: 09, loss: -0.44724\n"
     ]
    },
    {
     "name": "stderr",
     "output_type": "stream",
     "text": [
      " 32%|███▏      | 319/1000 [2:01:43<4:25:12, 23.37s/it]"
     ]
    },
    {
     "name": "stdout",
     "output_type": "stream",
     "text": [
      "eigenvalues shape torch.Size([5]) eigenvectors shape torch.Size([5, 450])\n",
      "319 /home/phdcs2/Hard_Disk/Datasets/Deep-Spectral-Segmentation/data/object-segmentation/ECSSD/features/dino_vits16/0320.pth\n",
      "0320\n",
      "Starting Training\n",
      "epoch: 00, loss: -0.38462\n",
      "epoch: 01, loss: -0.38704\n",
      "epoch: 02, loss: -0.38719\n",
      "epoch: 03, loss: -0.38657\n",
      "epoch: 04, loss: -0.38410\n",
      "epoch: 05, loss: -0.38217\n",
      "epoch: 06, loss: -0.37937\n",
      "epoch: 07, loss: -0.37584\n",
      "epoch: 08, loss: -0.37456\n",
      "epoch: 09, loss: -0.37270\n"
     ]
    },
    {
     "name": "stderr",
     "output_type": "stream",
     "text": [
      " 32%|███▏      | 320/1000 [2:02:10<4:37:12, 24.46s/it]"
     ]
    },
    {
     "name": "stdout",
     "output_type": "stream",
     "text": [
      "eigenvalues shape torch.Size([5]) eigenvectors shape torch.Size([5, 450])\n",
      "320 /home/phdcs2/Hard_Disk/Datasets/Deep-Spectral-Segmentation/data/object-segmentation/ECSSD/features/dino_vits16/0321.pth\n",
      "0321\n",
      "Starting Training\n",
      "epoch: 00, loss: -0.41589\n",
      "epoch: 01, loss: -0.41735\n",
      "epoch: 02, loss: -0.41582\n",
      "epoch: 03, loss: -0.41371\n",
      "epoch: 04, loss: -0.41267\n",
      "epoch: 05, loss: -0.41111\n",
      "epoch: 06, loss: -0.41115\n",
      "epoch: 07, loss: -0.41045\n",
      "epoch: 08, loss: -0.40988\n",
      "epoch: 09, loss: -0.41035\n"
     ]
    },
    {
     "name": "stderr",
     "output_type": "stream",
     "text": [
      " 32%|███▏      | 321/1000 [2:02:39<4:51:17, 25.74s/it]"
     ]
    },
    {
     "name": "stdout",
     "output_type": "stream",
     "text": [
      "eigenvalues shape torch.Size([5]) eigenvectors shape torch.Size([5, 500])\n",
      "321 /home/phdcs2/Hard_Disk/Datasets/Deep-Spectral-Segmentation/data/object-segmentation/ECSSD/features/dino_vits16/0322.pth\n",
      "0322\n",
      "Starting Training\n",
      "epoch: 00, loss: -0.40809\n",
      "epoch: 01, loss: -0.42000\n",
      "epoch: 02, loss: -0.42058\n",
      "epoch: 03, loss: -0.41798\n",
      "epoch: 04, loss: -0.41688\n",
      "epoch: 05, loss: -0.41478\n",
      "epoch: 06, loss: -0.41409\n",
      "epoch: 07, loss: -0.41349\n",
      "epoch: 08, loss: -0.41305\n",
      "epoch: 09, loss: -0.41235\n"
     ]
    },
    {
     "name": "stderr",
     "output_type": "stream",
     "text": [
      " 32%|███▏      | 322/1000 [2:03:08<5:01:54, 26.72s/it]"
     ]
    },
    {
     "name": "stdout",
     "output_type": "stream",
     "text": [
      "eigenvalues shape torch.Size([5]) eigenvectors shape torch.Size([5, 450])\n",
      "322 /home/phdcs2/Hard_Disk/Datasets/Deep-Spectral-Segmentation/data/object-segmentation/ECSSD/features/dino_vits16/0323.pth\n",
      "0323\n",
      "Starting Training\n",
      "epoch: 00, loss: -0.40169\n",
      "epoch: 01, loss: -0.42336\n",
      "epoch: 02, loss: -0.42497\n",
      "epoch: 03, loss: -0.42641\n",
      "epoch: 04, loss: -0.42661\n",
      "epoch: 05, loss: -0.42700\n",
      "epoch: 06, loss: -0.42675\n",
      "epoch: 07, loss: -0.42678\n",
      "epoch: 08, loss: -0.42722\n",
      "epoch: 09, loss: -0.42636\n"
     ]
    },
    {
     "name": "stderr",
     "output_type": "stream",
     "text": [
      " 32%|███▏      | 323/1000 [2:03:35<5:00:43, 26.65s/it]"
     ]
    },
    {
     "name": "stdout",
     "output_type": "stream",
     "text": [
      "eigenvalues shape torch.Size([5]) eigenvectors shape torch.Size([5, 450])\n",
      "323 /home/phdcs2/Hard_Disk/Datasets/Deep-Spectral-Segmentation/data/object-segmentation/ECSSD/features/dino_vits16/0324.pth\n",
      "0324\n",
      "Starting Training\n",
      "epoch: 00, loss: -0.39765\n",
      "epoch: 01, loss: -0.39600\n",
      "epoch: 02, loss: -0.39116\n",
      "epoch: 03, loss: -0.39029\n",
      "epoch: 04, loss: -0.39062\n",
      "epoch: 05, loss: -0.39148\n",
      "epoch: 06, loss: -0.39221\n",
      "epoch: 07, loss: -0.39348\n",
      "epoch: 08, loss: -0.39348\n",
      "epoch: 09, loss: -0.39287\n"
     ]
    },
    {
     "name": "stderr",
     "output_type": "stream",
     "text": [
      " 32%|███▏      | 324/1000 [2:04:01<4:58:24, 26.49s/it]"
     ]
    },
    {
     "name": "stdout",
     "output_type": "stream",
     "text": [
      "eigenvalues shape torch.Size([5]) eigenvectors shape torch.Size([5, 450])\n",
      "324 /home/phdcs2/Hard_Disk/Datasets/Deep-Spectral-Segmentation/data/object-segmentation/ECSSD/features/dino_vits16/0325.pth\n",
      "0325\n",
      "Starting Training\n",
      "epoch: 00, loss: -0.35426\n",
      "epoch: 01, loss: -0.35832\n",
      "epoch: 02, loss: -0.36348\n",
      "epoch: 03, loss: -0.36582\n",
      "epoch: 04, loss: -0.36736\n",
      "epoch: 05, loss: -0.37004\n",
      "epoch: 06, loss: -0.37154\n",
      "epoch: 07, loss: -0.37461\n",
      "epoch: 08, loss: -0.37549\n",
      "epoch: 09, loss: -0.37744\n"
     ]
    },
    {
     "name": "stderr",
     "output_type": "stream",
     "text": [
      " 32%|███▎      | 325/1000 [2:04:26<4:52:59, 26.04s/it]"
     ]
    },
    {
     "name": "stdout",
     "output_type": "stream",
     "text": [
      "eigenvalues shape torch.Size([5]) eigenvectors shape torch.Size([5, 450])\n",
      "325 /home/phdcs2/Hard_Disk/Datasets/Deep-Spectral-Segmentation/data/object-segmentation/ECSSD/features/dino_vits16/0326.pth\n",
      "0326\n",
      "Starting Training\n",
      "epoch: 00, loss: -0.34231\n",
      "epoch: 01, loss: -0.34389\n",
      "epoch: 02, loss: -0.34998\n",
      "epoch: 03, loss: -0.36398\n",
      "epoch: 04, loss: -0.38698\n",
      "epoch: 05, loss: -0.41225\n",
      "epoch: 06, loss: -0.43250\n",
      "epoch: 07, loss: -0.44313\n",
      "epoch: 08, loss: -0.44920\n",
      "epoch: 09, loss: -0.45503\n"
     ]
    },
    {
     "name": "stderr",
     "output_type": "stream",
     "text": [
      " 33%|███▎      | 326/1000 [2:04:46<4:33:58, 24.39s/it]"
     ]
    },
    {
     "name": "stdout",
     "output_type": "stream",
     "text": [
      "eigenvalues shape torch.Size([5]) eigenvectors shape torch.Size([5, 425])\n",
      "326 /home/phdcs2/Hard_Disk/Datasets/Deep-Spectral-Segmentation/data/object-segmentation/ECSSD/features/dino_vits16/0327.pth\n",
      "0327\n",
      "Starting Training\n",
      "epoch: 00, loss: -0.44708\n",
      "epoch: 01, loss: -0.46442\n",
      "epoch: 02, loss: -0.46983\n",
      "epoch: 03, loss: -0.47474\n",
      "epoch: 04, loss: -0.48017\n",
      "epoch: 05, loss: -0.48494\n",
      "epoch: 06, loss: -0.48947\n",
      "epoch: 07, loss: -0.49314\n",
      "epoch: 08, loss: -0.49716\n",
      "epoch: 09, loss: -0.50109\n"
     ]
    },
    {
     "name": "stderr",
     "output_type": "stream",
     "text": [
      " 33%|███▎      | 327/1000 [2:05:07<4:21:38, 23.33s/it]"
     ]
    },
    {
     "name": "stdout",
     "output_type": "stream",
     "text": [
      "eigenvalues shape torch.Size([5]) eigenvectors shape torch.Size([5, 450])\n",
      "327 /home/phdcs2/Hard_Disk/Datasets/Deep-Spectral-Segmentation/data/object-segmentation/ECSSD/features/dino_vits16/0328.pth\n",
      "0328\n",
      "Starting Training\n",
      "epoch: 00, loss: -0.34487\n",
      "epoch: 01, loss: -0.34787\n",
      "epoch: 02, loss: -0.35230\n",
      "epoch: 03, loss: -0.35607\n",
      "epoch: 04, loss: -0.36164\n",
      "epoch: 05, loss: -0.36524\n",
      "epoch: 06, loss: -0.36928\n",
      "epoch: 07, loss: -0.37378\n",
      "epoch: 08, loss: -0.37719\n",
      "epoch: 09, loss: -0.38003\n"
     ]
    },
    {
     "name": "stderr",
     "output_type": "stream",
     "text": [
      " 33%|███▎      | 328/1000 [2:05:31<4:22:24, 23.43s/it]"
     ]
    },
    {
     "name": "stdout",
     "output_type": "stream",
     "text": [
      "eigenvalues shape torch.Size([5]) eigenvectors shape torch.Size([5, 475])\n",
      "328 /home/phdcs2/Hard_Disk/Datasets/Deep-Spectral-Segmentation/data/object-segmentation/ECSSD/features/dino_vits16/0329.pth\n",
      "0329\n",
      "Starting Training\n",
      "epoch: 00, loss: -0.40776\n",
      "epoch: 01, loss: -0.40471\n",
      "epoch: 02, loss: -0.40244\n",
      "epoch: 03, loss: -0.40307\n",
      "epoch: 04, loss: -0.40358\n",
      "epoch: 05, loss: -0.40531\n",
      "epoch: 06, loss: -0.40715\n",
      "epoch: 07, loss: -0.40882\n",
      "epoch: 08, loss: -0.40995\n",
      "epoch: 09, loss: -0.41135\n"
     ]
    },
    {
     "name": "stderr",
     "output_type": "stream",
     "text": [
      " 33%|███▎      | 329/1000 [2:05:56<4:29:18, 24.08s/it]"
     ]
    },
    {
     "name": "stdout",
     "output_type": "stream",
     "text": [
      "eigenvalues shape torch.Size([5]) eigenvectors shape torch.Size([5, 500])\n",
      "329 /home/phdcs2/Hard_Disk/Datasets/Deep-Spectral-Segmentation/data/object-segmentation/ECSSD/features/dino_vits16/0330.pth\n",
      "0330\n",
      "Starting Training\n",
      "epoch: 00, loss: -0.37563\n",
      "epoch: 01, loss: -0.38743\n",
      "epoch: 02, loss: -0.38829\n",
      "epoch: 03, loss: -0.38692\n",
      "epoch: 04, loss: -0.38645\n",
      "epoch: 05, loss: -0.38687\n",
      "epoch: 06, loss: -0.38742\n",
      "epoch: 07, loss: -0.38724\n",
      "epoch: 08, loss: -0.38702\n",
      "epoch: 09, loss: -0.38744\n"
     ]
    },
    {
     "name": "stderr",
     "output_type": "stream",
     "text": [
      " 33%|███▎      | 330/1000 [2:06:23<4:36:42, 24.78s/it]"
     ]
    },
    {
     "name": "stdout",
     "output_type": "stream",
     "text": [
      "eigenvalues shape torch.Size([5]) eigenvectors shape torch.Size([5, 450])\n",
      "330 /home/phdcs2/Hard_Disk/Datasets/Deep-Spectral-Segmentation/data/object-segmentation/ECSSD/features/dino_vits16/0331.pth\n",
      "0331\n",
      "Starting Training\n",
      "epoch: 00, loss: -0.37159\n",
      "epoch: 01, loss: -0.37105\n",
      "epoch: 02, loss: -0.36674\n",
      "epoch: 03, loss: -0.36301\n",
      "epoch: 04, loss: -0.36055\n",
      "epoch: 05, loss: -0.36032\n",
      "epoch: 06, loss: -0.36342\n",
      "epoch: 07, loss: -0.36749\n",
      "epoch: 08, loss: -0.36909\n",
      "epoch: 09, loss: -0.37058\n"
     ]
    },
    {
     "name": "stderr",
     "output_type": "stream",
     "text": [
      " 33%|███▎      | 331/1000 [2:06:46<4:30:00, 24.22s/it]"
     ]
    },
    {
     "name": "stdout",
     "output_type": "stream",
     "text": [
      "eigenvalues shape torch.Size([5]) eigenvectors shape torch.Size([5, 450])\n",
      "331 /home/phdcs2/Hard_Disk/Datasets/Deep-Spectral-Segmentation/data/object-segmentation/ECSSD/features/dino_vits16/0332.pth\n",
      "0332\n",
      "Starting Training\n",
      "epoch: 00, loss: -0.41303\n",
      "epoch: 01, loss: -0.41358\n",
      "epoch: 02, loss: -0.41044\n",
      "epoch: 03, loss: -0.40917\n",
      "epoch: 04, loss: -0.40805\n",
      "epoch: 05, loss: -0.40648\n",
      "epoch: 06, loss: -0.40548\n",
      "epoch: 07, loss: -0.40436\n",
      "epoch: 08, loss: -0.40389\n",
      "epoch: 09, loss: -0.40320\n"
     ]
    },
    {
     "name": "stderr",
     "output_type": "stream",
     "text": [
      " 33%|███▎      | 332/1000 [2:07:04<4:11:24, 22.58s/it]"
     ]
    },
    {
     "name": "stdout",
     "output_type": "stream",
     "text": [
      "eigenvalues shape torch.Size([5]) eigenvectors shape torch.Size([5, 400])\n",
      "332 /home/phdcs2/Hard_Disk/Datasets/Deep-Spectral-Segmentation/data/object-segmentation/ECSSD/features/dino_vits16/0333.pth\n",
      "0333\n",
      "Starting Training\n",
      "epoch: 00, loss: -0.37560\n",
      "epoch: 01, loss: -0.38824\n",
      "epoch: 02, loss: -0.39560\n",
      "epoch: 03, loss: -0.40098\n",
      "epoch: 04, loss: -0.40620\n",
      "epoch: 05, loss: -0.40931\n",
      "epoch: 06, loss: -0.41391\n",
      "epoch: 07, loss: -0.41661\n",
      "epoch: 08, loss: -0.41910\n",
      "epoch: 09, loss: -0.42181\n"
     ]
    },
    {
     "name": "stderr",
     "output_type": "stream",
     "text": [
      " 33%|███▎      | 333/1000 [2:07:25<4:04:08, 21.96s/it]"
     ]
    },
    {
     "name": "stdout",
     "output_type": "stream",
     "text": [
      "eigenvalues shape torch.Size([5]) eigenvectors shape torch.Size([5, 400])\n",
      "333 /home/phdcs2/Hard_Disk/Datasets/Deep-Spectral-Segmentation/data/object-segmentation/ECSSD/features/dino_vits16/0334.pth\n",
      "0334\n",
      "Starting Training\n",
      "epoch: 00, loss: -0.37833\n",
      "epoch: 01, loss: -0.39806\n",
      "epoch: 02, loss: -0.43648\n",
      "epoch: 03, loss: -0.46251\n",
      "epoch: 04, loss: -0.47739\n",
      "epoch: 05, loss: -0.48672\n",
      "epoch: 06, loss: -0.49542\n",
      "epoch: 07, loss: -0.50139\n",
      "epoch: 08, loss: -0.50549\n",
      "epoch: 09, loss: -0.50952\n"
     ]
    },
    {
     "name": "stderr",
     "output_type": "stream",
     "text": [
      " 33%|███▎      | 334/1000 [2:07:44<3:54:43, 21.15s/it]"
     ]
    },
    {
     "name": "stdout",
     "output_type": "stream",
     "text": [
      "eigenvalues shape torch.Size([5]) eigenvectors shape torch.Size([5, 450])\n",
      "334 /home/phdcs2/Hard_Disk/Datasets/Deep-Spectral-Segmentation/data/object-segmentation/ECSSD/features/dino_vits16/0335.pth\n",
      "0335\n",
      "Starting Training\n",
      "epoch: 00, loss: -0.37690\n",
      "epoch: 01, loss: -0.36628\n",
      "epoch: 02, loss: -0.36432\n",
      "epoch: 03, loss: -0.36512\n",
      "epoch: 04, loss: -0.36633\n",
      "epoch: 05, loss: -0.36723\n",
      "epoch: 06, loss: -0.36749\n",
      "epoch: 07, loss: -0.36802\n",
      "epoch: 08, loss: -0.36966\n",
      "epoch: 09, loss: -0.36982\n"
     ]
    },
    {
     "name": "stderr",
     "output_type": "stream",
     "text": [
      " 34%|███▎      | 335/1000 [2:08:05<3:53:59, 21.11s/it]"
     ]
    },
    {
     "name": "stdout",
     "output_type": "stream",
     "text": [
      "eigenvalues shape torch.Size([5]) eigenvectors shape torch.Size([5, 400])\n",
      "335 /home/phdcs2/Hard_Disk/Datasets/Deep-Spectral-Segmentation/data/object-segmentation/ECSSD/features/dino_vits16/0336.pth\n",
      "0336\n",
      "Starting Training\n",
      "epoch: 00, loss: -0.67246\n",
      "epoch: 01, loss: -0.72267\n",
      "epoch: 02, loss: -0.72486\n",
      "epoch: 03, loss: -0.72640\n",
      "epoch: 04, loss: -0.72781\n",
      "epoch: 05, loss: -0.72890\n",
      "epoch: 06, loss: -0.72976\n",
      "epoch: 07, loss: -0.73045\n",
      "epoch: 08, loss: -0.73110\n",
      "epoch: 09, loss: -0.73207\n"
     ]
    },
    {
     "name": "stderr",
     "output_type": "stream",
     "text": [
      " 34%|███▎      | 336/1000 [2:08:30<4:06:17, 22.26s/it]"
     ]
    },
    {
     "name": "stdout",
     "output_type": "stream",
     "text": [
      "eigenvalues shape torch.Size([5]) eigenvectors shape torch.Size([5, 450])\n",
      "336 /home/phdcs2/Hard_Disk/Datasets/Deep-Spectral-Segmentation/data/object-segmentation/ECSSD/features/dino_vits16/0337.pth\n",
      "0337\n",
      "Starting Training\n",
      "epoch: 00, loss: -0.37087\n",
      "epoch: 01, loss: -0.37566\n",
      "epoch: 02, loss: -0.37347\n",
      "epoch: 03, loss: -0.37201\n",
      "epoch: 04, loss: -0.37211\n",
      "epoch: 05, loss: -0.37250\n",
      "epoch: 06, loss: -0.37251\n",
      "epoch: 07, loss: -0.37269\n",
      "epoch: 08, loss: -0.37338\n",
      "epoch: 09, loss: -0.37532\n"
     ]
    },
    {
     "name": "stderr",
     "output_type": "stream",
     "text": [
      " 34%|███▎      | 337/1000 [2:08:57<4:20:31, 23.58s/it]"
     ]
    },
    {
     "name": "stdout",
     "output_type": "stream",
     "text": [
      "eigenvalues shape torch.Size([5]) eigenvectors shape torch.Size([5, 450])\n",
      "337 /home/phdcs2/Hard_Disk/Datasets/Deep-Spectral-Segmentation/data/object-segmentation/ECSSD/features/dino_vits16/0338.pth\n",
      "0338\n",
      "Starting Training\n",
      "epoch: 00, loss: -0.37207\n",
      "epoch: 01, loss: -0.37765\n",
      "epoch: 02, loss: -0.38512\n",
      "epoch: 03, loss: -0.39275\n",
      "epoch: 04, loss: -0.40102\n",
      "epoch: 05, loss: -0.40905\n",
      "epoch: 06, loss: -0.41520\n",
      "epoch: 07, loss: -0.41981\n",
      "epoch: 08, loss: -0.42443\n",
      "epoch: 09, loss: -0.42921\n"
     ]
    },
    {
     "name": "stderr",
     "output_type": "stream",
     "text": [
      " 34%|███▍      | 338/1000 [2:09:25<4:36:04, 25.02s/it]"
     ]
    },
    {
     "name": "stdout",
     "output_type": "stream",
     "text": [
      "eigenvalues shape torch.Size([5]) eigenvectors shape torch.Size([5, 450])\n",
      "338 /home/phdcs2/Hard_Disk/Datasets/Deep-Spectral-Segmentation/data/object-segmentation/ECSSD/features/dino_vits16/0339.pth\n",
      "0339\n",
      "Starting Training\n",
      "epoch: 00, loss: -0.40124\n",
      "epoch: 01, loss: -0.41595\n",
      "epoch: 02, loss: -0.41998\n",
      "epoch: 03, loss: -0.42386\n",
      "epoch: 04, loss: -0.42820\n",
      "epoch: 05, loss: -0.43364\n",
      "epoch: 06, loss: -0.43720\n",
      "epoch: 07, loss: -0.43834\n",
      "epoch: 08, loss: -0.44166\n",
      "epoch: 09, loss: -0.44298\n"
     ]
    },
    {
     "name": "stderr",
     "output_type": "stream",
     "text": [
      " 34%|███▍      | 339/1000 [2:09:54<4:48:54, 26.22s/it]"
     ]
    },
    {
     "name": "stdout",
     "output_type": "stream",
     "text": [
      "eigenvalues shape torch.Size([5]) eigenvectors shape torch.Size([5, 450])\n",
      "339 /home/phdcs2/Hard_Disk/Datasets/Deep-Spectral-Segmentation/data/object-segmentation/ECSSD/features/dino_vits16/0340.pth\n",
      "0340\n",
      "Starting Training\n",
      "epoch: 00, loss: -0.35280\n",
      "epoch: 01, loss: -0.35785\n",
      "epoch: 02, loss: -0.37334\n",
      "epoch: 03, loss: -0.38692\n",
      "epoch: 04, loss: -0.39747\n",
      "epoch: 05, loss: -0.40195\n",
      "epoch: 06, loss: -0.40843\n",
      "epoch: 07, loss: -0.41123\n",
      "epoch: 08, loss: -0.41396\n",
      "epoch: 09, loss: -0.41859\n"
     ]
    },
    {
     "name": "stderr",
     "output_type": "stream",
     "text": [
      " 34%|███▍      | 340/1000 [2:10:16<4:33:12, 24.84s/it]"
     ]
    },
    {
     "name": "stdout",
     "output_type": "stream",
     "text": [
      "eigenvalues shape torch.Size([5]) eigenvectors shape torch.Size([5, 375])\n",
      "340 /home/phdcs2/Hard_Disk/Datasets/Deep-Spectral-Segmentation/data/object-segmentation/ECSSD/features/dino_vits16/0341.pth\n",
      "0341\n",
      "Starting Training\n",
      "epoch: 00, loss: -0.40976\n",
      "epoch: 01, loss: -0.41046\n",
      "epoch: 02, loss: -0.40092\n",
      "epoch: 03, loss: -0.39678\n",
      "epoch: 04, loss: -0.39439\n",
      "epoch: 05, loss: -0.39424\n",
      "epoch: 06, loss: -0.39308\n",
      "epoch: 07, loss: -0.39285\n",
      "epoch: 08, loss: -0.39252\n",
      "epoch: 09, loss: -0.39178\n"
     ]
    },
    {
     "name": "stderr",
     "output_type": "stream",
     "text": [
      " 34%|███▍      | 341/1000 [2:10:37<4:19:14, 23.60s/it]"
     ]
    },
    {
     "name": "stdout",
     "output_type": "stream",
     "text": [
      "eigenvalues shape torch.Size([5]) eigenvectors shape torch.Size([5, 375])\n",
      "341 /home/phdcs2/Hard_Disk/Datasets/Deep-Spectral-Segmentation/data/object-segmentation/ECSSD/features/dino_vits16/0342.pth\n",
      "0342\n",
      "Starting Training\n",
      "epoch: 00, loss: -0.37783\n",
      "epoch: 01, loss: -0.37489\n",
      "epoch: 02, loss: -0.37941\n",
      "epoch: 03, loss: -0.38438\n",
      "epoch: 04, loss: -0.38877\n",
      "epoch: 05, loss: -0.39330\n",
      "epoch: 06, loss: -0.39783\n",
      "epoch: 07, loss: -0.40091\n",
      "epoch: 08, loss: -0.40531\n",
      "epoch: 09, loss: -0.40780\n"
     ]
    },
    {
     "name": "stderr",
     "output_type": "stream",
     "text": [
      " 34%|███▍      | 342/1000 [2:11:00<4:18:08, 23.54s/it]"
     ]
    },
    {
     "name": "stdout",
     "output_type": "stream",
     "text": [
      "eigenvalues shape torch.Size([5]) eigenvectors shape torch.Size([5, 450])\n",
      "342 /home/phdcs2/Hard_Disk/Datasets/Deep-Spectral-Segmentation/data/object-segmentation/ECSSD/features/dino_vits16/0343.pth\n",
      "0343\n",
      "Starting Training\n",
      "epoch: 00, loss: -0.64040\n",
      "epoch: 01, loss: -0.68118\n",
      "epoch: 02, loss: -0.68291\n",
      "epoch: 03, loss: -0.68365\n",
      "epoch: 04, loss: -0.68399\n",
      "epoch: 05, loss: -0.68417\n",
      "epoch: 06, loss: -0.68423\n",
      "epoch: 07, loss: -0.68441\n",
      "epoch: 08, loss: -0.68449\n",
      "epoch: 09, loss: -0.68472\n"
     ]
    },
    {
     "name": "stderr",
     "output_type": "stream",
     "text": [
      " 34%|███▍      | 343/1000 [2:11:24<4:20:04, 23.75s/it]"
     ]
    },
    {
     "name": "stdout",
     "output_type": "stream",
     "text": [
      "eigenvalues shape torch.Size([5]) eigenvectors shape torch.Size([5, 500])\n",
      "343 /home/phdcs2/Hard_Disk/Datasets/Deep-Spectral-Segmentation/data/object-segmentation/ECSSD/features/dino_vits16/0344.pth\n",
      "0344\n",
      "Starting Training\n",
      "epoch: 00, loss: -0.41093\n",
      "epoch: 01, loss: -0.41738\n",
      "epoch: 02, loss: -0.41845\n",
      "epoch: 03, loss: -0.41884\n",
      "epoch: 04, loss: -0.41863\n",
      "epoch: 05, loss: -0.41969\n",
      "epoch: 06, loss: -0.41980\n",
      "epoch: 07, loss: -0.41995\n",
      "epoch: 08, loss: -0.42017\n",
      "epoch: 09, loss: -0.41969\n"
     ]
    },
    {
     "name": "stderr",
     "output_type": "stream",
     "text": [
      " 34%|███▍      | 344/1000 [2:11:47<4:16:18, 23.44s/it]"
     ]
    },
    {
     "name": "stdout",
     "output_type": "stream",
     "text": [
      "eigenvalues shape torch.Size([5]) eigenvectors shape torch.Size([5, 450])\n",
      "344 /home/phdcs2/Hard_Disk/Datasets/Deep-Spectral-Segmentation/data/object-segmentation/ECSSD/features/dino_vits16/0345.pth\n",
      "0345\n",
      "Starting Training\n",
      "epoch: 00, loss: -0.40390\n",
      "epoch: 01, loss: -0.41531\n",
      "epoch: 02, loss: -0.41915\n",
      "epoch: 03, loss: -0.42231\n",
      "epoch: 04, loss: -0.42533\n",
      "epoch: 05, loss: -0.42803\n",
      "epoch: 06, loss: -0.42992\n",
      "epoch: 07, loss: -0.43069\n",
      "epoch: 08, loss: -0.43173\n",
      "epoch: 09, loss: -0.43335\n"
     ]
    },
    {
     "name": "stderr",
     "output_type": "stream",
     "text": [
      " 34%|███▍      | 345/1000 [2:12:16<4:33:48, 25.08s/it]"
     ]
    },
    {
     "name": "stdout",
     "output_type": "stream",
     "text": [
      "eigenvalues shape torch.Size([5]) eigenvectors shape torch.Size([5, 500])\n",
      "345 /home/phdcs2/Hard_Disk/Datasets/Deep-Spectral-Segmentation/data/object-segmentation/ECSSD/features/dino_vits16/0346.pth\n",
      "0346\n",
      "Starting Training\n",
      "epoch: 00, loss: -0.40107\n",
      "epoch: 01, loss: -0.41243\n",
      "epoch: 02, loss: -0.41356\n",
      "epoch: 03, loss: -0.41226\n",
      "epoch: 04, loss: -0.41166\n",
      "epoch: 05, loss: -0.41137\n",
      "epoch: 06, loss: -0.41116\n",
      "epoch: 07, loss: -0.41138\n",
      "epoch: 08, loss: -0.41144\n",
      "epoch: 09, loss: -0.41158\n"
     ]
    },
    {
     "name": "stderr",
     "output_type": "stream",
     "text": [
      " 35%|███▍      | 346/1000 [2:12:38<4:25:30, 24.36s/it]"
     ]
    },
    {
     "name": "stdout",
     "output_type": "stream",
     "text": [
      "eigenvalues shape torch.Size([5]) eigenvectors shape torch.Size([5, 450])\n",
      "346 /home/phdcs2/Hard_Disk/Datasets/Deep-Spectral-Segmentation/data/object-segmentation/ECSSD/features/dino_vits16/0347.pth\n",
      "0347\n",
      "Starting Training\n",
      "epoch: 00, loss: -0.43737\n",
      "epoch: 01, loss: -0.45742\n",
      "epoch: 02, loss: -0.46349\n",
      "epoch: 03, loss: -0.46587\n",
      "epoch: 04, loss: -0.46710\n",
      "epoch: 05, loss: -0.46714\n",
      "epoch: 06, loss: -0.46740\n",
      "epoch: 07, loss: -0.46776\n",
      "epoch: 08, loss: -0.46814\n",
      "epoch: 09, loss: -0.46869\n"
     ]
    },
    {
     "name": "stderr",
     "output_type": "stream",
     "text": [
      " 35%|███▍      | 347/1000 [2:12:59<4:13:37, 23.30s/it]"
     ]
    },
    {
     "name": "stdout",
     "output_type": "stream",
     "text": [
      "eigenvalues shape torch.Size([5]) eigenvectors shape torch.Size([5, 450])\n",
      "347 /home/phdcs2/Hard_Disk/Datasets/Deep-Spectral-Segmentation/data/object-segmentation/ECSSD/features/dino_vits16/0348.pth\n",
      "0348\n",
      "Starting Training\n",
      "epoch: 00, loss: -0.39043\n",
      "epoch: 01, loss: -0.39620\n",
      "epoch: 02, loss: -0.39869\n",
      "epoch: 03, loss: -0.40036\n",
      "epoch: 04, loss: -0.40176\n",
      "epoch: 05, loss: -0.40354\n",
      "epoch: 06, loss: -0.40351\n",
      "epoch: 07, loss: -0.40553\n",
      "epoch: 08, loss: -0.40655\n",
      "epoch: 09, loss: -0.40883\n"
     ]
    },
    {
     "name": "stderr",
     "output_type": "stream",
     "text": [
      " 35%|███▍      | 348/1000 [2:13:19<4:02:19, 22.30s/it]"
     ]
    },
    {
     "name": "stdout",
     "output_type": "stream",
     "text": [
      "eigenvalues shape torch.Size([5]) eigenvectors shape torch.Size([5, 400])\n",
      "348 /home/phdcs2/Hard_Disk/Datasets/Deep-Spectral-Segmentation/data/object-segmentation/ECSSD/features/dino_vits16/0349.pth\n",
      "0349\n",
      "Starting Training\n",
      "epoch: 00, loss: -0.38551\n",
      "epoch: 01, loss: -0.39501\n",
      "epoch: 02, loss: -0.39440\n",
      "epoch: 03, loss: -0.39288\n",
      "epoch: 04, loss: -0.38932\n",
      "epoch: 05, loss: -0.38796\n",
      "epoch: 06, loss: -0.38722\n",
      "epoch: 07, loss: -0.38720\n",
      "epoch: 08, loss: -0.38578\n",
      "epoch: 09, loss: -0.38760\n"
     ]
    },
    {
     "name": "stderr",
     "output_type": "stream",
     "text": [
      " 35%|███▍      | 349/1000 [2:13:42<4:04:26, 22.53s/it]"
     ]
    },
    {
     "name": "stdout",
     "output_type": "stream",
     "text": [
      "eigenvalues shape torch.Size([5]) eigenvectors shape torch.Size([5, 400])\n",
      "349 /home/phdcs2/Hard_Disk/Datasets/Deep-Spectral-Segmentation/data/object-segmentation/ECSSD/features/dino_vits16/0350.pth\n",
      "0350\n",
      "Starting Training\n",
      "epoch: 00, loss: -0.37224\n",
      "epoch: 01, loss: -0.37639\n",
      "epoch: 02, loss: -0.38157\n",
      "epoch: 03, loss: -0.38729\n",
      "epoch: 04, loss: -0.39378\n",
      "epoch: 05, loss: -0.40015\n",
      "epoch: 06, loss: -0.40558\n",
      "epoch: 07, loss: -0.40980\n",
      "epoch: 08, loss: -0.41438\n",
      "epoch: 09, loss: -0.41631\n"
     ]
    },
    {
     "name": "stderr",
     "output_type": "stream",
     "text": [
      " 35%|███▌      | 350/1000 [2:14:06<4:06:50, 22.79s/it]"
     ]
    },
    {
     "name": "stdout",
     "output_type": "stream",
     "text": [
      "eigenvalues shape torch.Size([5]) eigenvectors shape torch.Size([5, 475])\n",
      "350 /home/phdcs2/Hard_Disk/Datasets/Deep-Spectral-Segmentation/data/object-segmentation/ECSSD/features/dino_vits16/0351.pth\n",
      "0351\n",
      "Starting Training\n",
      "epoch: 00, loss: -0.64567\n",
      "epoch: 01, loss: -0.68556\n",
      "epoch: 02, loss: -0.68902\n",
      "epoch: 03, loss: -0.69115\n",
      "epoch: 04, loss: -0.69274\n",
      "epoch: 05, loss: -0.69387\n",
      "epoch: 06, loss: -0.69468\n",
      "epoch: 07, loss: -0.69551\n",
      "epoch: 08, loss: -0.69648\n",
      "epoch: 09, loss: -0.69714\n"
     ]
    },
    {
     "name": "stderr",
     "output_type": "stream",
     "text": [
      " 35%|███▌      | 351/1000 [2:14:29<4:06:33, 22.79s/it]"
     ]
    },
    {
     "name": "stdout",
     "output_type": "stream",
     "text": [
      "eigenvalues shape torch.Size([5]) eigenvectors shape torch.Size([5, 450])\n",
      "351 /home/phdcs2/Hard_Disk/Datasets/Deep-Spectral-Segmentation/data/object-segmentation/ECSSD/features/dino_vits16/0352.pth\n",
      "0352\n",
      "Starting Training\n",
      "epoch: 00, loss: -0.42142\n",
      "epoch: 01, loss: -0.42043\n",
      "epoch: 02, loss: -0.41739\n",
      "epoch: 03, loss: -0.41663\n",
      "epoch: 04, loss: -0.41399\n",
      "epoch: 05, loss: -0.41305\n",
      "epoch: 06, loss: -0.41265\n",
      "epoch: 07, loss: -0.41263\n",
      "epoch: 08, loss: -0.41223\n",
      "epoch: 09, loss: -0.41261\n"
     ]
    },
    {
     "name": "stderr",
     "output_type": "stream",
     "text": [
      " 35%|███▌      | 352/1000 [2:14:54<4:13:36, 23.48s/it]"
     ]
    },
    {
     "name": "stdout",
     "output_type": "stream",
     "text": [
      "eigenvalues shape torch.Size([5]) eigenvectors shape torch.Size([5, 400])\n",
      "352 /home/phdcs2/Hard_Disk/Datasets/Deep-Spectral-Segmentation/data/object-segmentation/ECSSD/features/dino_vits16/0353.pth\n",
      "0353\n",
      "Starting Training\n",
      "epoch: 00, loss: -0.40548\n",
      "epoch: 01, loss: -0.40799\n",
      "epoch: 02, loss: -0.40794\n",
      "epoch: 03, loss: -0.41040\n",
      "epoch: 04, loss: -0.41406\n",
      "epoch: 05, loss: -0.41762\n",
      "epoch: 06, loss: -0.42105\n",
      "epoch: 07, loss: -0.42359\n",
      "epoch: 08, loss: -0.42714\n",
      "epoch: 09, loss: -0.43002\n"
     ]
    },
    {
     "name": "stderr",
     "output_type": "stream",
     "text": [
      " 35%|███▌      | 353/1000 [2:15:17<4:12:37, 23.43s/it]"
     ]
    },
    {
     "name": "stdout",
     "output_type": "stream",
     "text": [
      "eigenvalues shape torch.Size([5]) eigenvectors shape torch.Size([5, 425])\n",
      "353 /home/phdcs2/Hard_Disk/Datasets/Deep-Spectral-Segmentation/data/object-segmentation/ECSSD/features/dino_vits16/0354.pth\n",
      "0354\n",
      "Starting Training\n",
      "epoch: 00, loss: -0.36252\n",
      "epoch: 01, loss: -0.37688\n",
      "epoch: 02, loss: -0.38758\n",
      "epoch: 03, loss: -0.39744\n",
      "epoch: 04, loss: -0.40734\n",
      "epoch: 05, loss: -0.41725\n",
      "epoch: 06, loss: -0.42532\n",
      "epoch: 07, loss: -0.43353\n",
      "epoch: 08, loss: -0.43971\n",
      "epoch: 09, loss: -0.44720\n"
     ]
    },
    {
     "name": "stderr",
     "output_type": "stream",
     "text": [
      " 35%|███▌      | 354/1000 [2:15:45<4:26:10, 24.72s/it]"
     ]
    },
    {
     "name": "stdout",
     "output_type": "stream",
     "text": [
      "eigenvalues shape torch.Size([5]) eigenvectors shape torch.Size([5, 575])\n",
      "354 /home/phdcs2/Hard_Disk/Datasets/Deep-Spectral-Segmentation/data/object-segmentation/ECSSD/features/dino_vits16/0355.pth\n",
      "0355\n",
      "Starting Training\n",
      "epoch: 00, loss: -0.63502\n",
      "epoch: 01, loss: -0.67449\n",
      "epoch: 02, loss: -0.67644\n",
      "epoch: 03, loss: -0.67809\n",
      "epoch: 04, loss: -0.67919\n",
      "epoch: 05, loss: -0.67988\n",
      "epoch: 06, loss: -0.68052\n",
      "epoch: 07, loss: -0.68086\n",
      "epoch: 08, loss: -0.68162\n",
      "epoch: 09, loss: -0.68186\n"
     ]
    },
    {
     "name": "stderr",
     "output_type": "stream",
     "text": [
      " 36%|███▌      | 355/1000 [2:16:04<4:07:17, 23.00s/it]"
     ]
    },
    {
     "name": "stdout",
     "output_type": "stream",
     "text": [
      "eigenvalues shape torch.Size([5]) eigenvectors shape torch.Size([5, 450])\n",
      "355 /home/phdcs2/Hard_Disk/Datasets/Deep-Spectral-Segmentation/data/object-segmentation/ECSSD/features/dino_vits16/0356.pth\n",
      "0356\n",
      "Starting Training\n",
      "epoch: 00, loss: -0.40538\n",
      "epoch: 01, loss: -0.40327\n",
      "epoch: 02, loss: -0.40521\n",
      "epoch: 03, loss: -0.40716\n",
      "epoch: 04, loss: -0.40923\n",
      "epoch: 05, loss: -0.41185\n",
      "epoch: 06, loss: -0.41444\n",
      "epoch: 07, loss: -0.41844\n",
      "epoch: 08, loss: -0.42205\n",
      "epoch: 09, loss: -0.42553\n"
     ]
    },
    {
     "name": "stderr",
     "output_type": "stream",
     "text": [
      " 36%|███▌      | 356/1000 [2:16:25<4:01:03, 22.46s/it]"
     ]
    },
    {
     "name": "stdout",
     "output_type": "stream",
     "text": [
      "eigenvalues shape torch.Size([5]) eigenvectors shape torch.Size([5, 450])\n",
      "356 /home/phdcs2/Hard_Disk/Datasets/Deep-Spectral-Segmentation/data/object-segmentation/ECSSD/features/dino_vits16/0357.pth\n",
      "0357\n",
      "Starting Training\n",
      "epoch: 00, loss: -0.39661\n",
      "epoch: 01, loss: -0.40427\n",
      "epoch: 02, loss: -0.40756\n",
      "epoch: 03, loss: -0.40887\n",
      "epoch: 04, loss: -0.41095\n",
      "epoch: 05, loss: -0.41229\n",
      "epoch: 06, loss: -0.41353\n",
      "epoch: 07, loss: -0.41461\n",
      "epoch: 08, loss: -0.41554\n",
      "epoch: 09, loss: -0.41718\n"
     ]
    },
    {
     "name": "stderr",
     "output_type": "stream",
     "text": [
      " 36%|███▌      | 357/1000 [2:16:50<4:11:02, 23.43s/it]"
     ]
    },
    {
     "name": "stdout",
     "output_type": "stream",
     "text": [
      "eigenvalues shape torch.Size([5]) eigenvectors shape torch.Size([5, 475])\n",
      "357 /home/phdcs2/Hard_Disk/Datasets/Deep-Spectral-Segmentation/data/object-segmentation/ECSSD/features/dino_vits16/0358.pth\n",
      "0358\n",
      "Starting Training\n",
      "epoch: 00, loss: -0.39673\n",
      "epoch: 01, loss: -0.39976\n",
      "epoch: 02, loss: -0.40281\n",
      "epoch: 03, loss: -0.40524\n",
      "epoch: 04, loss: -0.40834\n",
      "epoch: 05, loss: -0.41161\n",
      "epoch: 06, loss: -0.41417\n",
      "epoch: 07, loss: -0.41635\n",
      "epoch: 08, loss: -0.41870\n",
      "epoch: 09, loss: -0.42016\n"
     ]
    },
    {
     "name": "stderr",
     "output_type": "stream",
     "text": [
      " 36%|███▌      | 358/1000 [2:17:10<3:57:52, 22.23s/it]"
     ]
    },
    {
     "name": "stdout",
     "output_type": "stream",
     "text": [
      "eigenvalues shape torch.Size([5]) eigenvectors shape torch.Size([5, 400])\n",
      "358 /home/phdcs2/Hard_Disk/Datasets/Deep-Spectral-Segmentation/data/object-segmentation/ECSSD/features/dino_vits16/0359.pth\n",
      "0359\n",
      "Starting Training\n",
      "epoch: 00, loss: -0.35092\n",
      "epoch: 01, loss: -0.35360\n",
      "epoch: 02, loss: -0.36223\n",
      "epoch: 03, loss: -0.37157\n",
      "epoch: 04, loss: -0.37906\n",
      "epoch: 05, loss: -0.38889\n",
      "epoch: 06, loss: -0.39357\n",
      "epoch: 07, loss: -0.39794\n",
      "epoch: 08, loss: -0.40134\n",
      "epoch: 09, loss: -0.40240\n"
     ]
    },
    {
     "name": "stderr",
     "output_type": "stream",
     "text": [
      " 36%|███▌      | 359/1000 [2:17:25<3:33:23, 19.97s/it]"
     ]
    },
    {
     "name": "stdout",
     "output_type": "stream",
     "text": [
      "eigenvalues shape torch.Size([5]) eigenvectors shape torch.Size([5, 350])\n",
      "359 /home/phdcs2/Hard_Disk/Datasets/Deep-Spectral-Segmentation/data/object-segmentation/ECSSD/features/dino_vits16/0360.pth\n",
      "0360\n",
      "Starting Training\n",
      "epoch: 00, loss: -0.33998\n",
      "epoch: 01, loss: -0.35857\n",
      "epoch: 02, loss: -0.38204\n",
      "epoch: 03, loss: -0.40056\n",
      "epoch: 04, loss: -0.41025\n",
      "epoch: 05, loss: -0.41663\n",
      "epoch: 06, loss: -0.42042\n",
      "epoch: 07, loss: -0.42382\n",
      "epoch: 08, loss: -0.42299\n",
      "epoch: 09, loss: -0.42426\n"
     ]
    },
    {
     "name": "stderr",
     "output_type": "stream",
     "text": [
      " 36%|███▌      | 360/1000 [2:17:43<3:28:05, 19.51s/it]"
     ]
    },
    {
     "name": "stdout",
     "output_type": "stream",
     "text": [
      "eigenvalues shape torch.Size([5]) eigenvectors shape torch.Size([5, 400])\n",
      "360 /home/phdcs2/Hard_Disk/Datasets/Deep-Spectral-Segmentation/data/object-segmentation/ECSSD/features/dino_vits16/0361.pth\n",
      "0361\n",
      "Starting Training\n",
      "epoch: 00, loss: -0.37023\n",
      "epoch: 01, loss: -0.36659\n",
      "epoch: 02, loss: -0.36301\n",
      "epoch: 03, loss: -0.36149\n",
      "epoch: 04, loss: -0.36141\n",
      "epoch: 05, loss: -0.35990\n",
      "epoch: 06, loss: -0.36210\n",
      "epoch: 07, loss: -0.36275\n",
      "epoch: 08, loss: -0.36613\n",
      "epoch: 09, loss: -0.36912\n"
     ]
    },
    {
     "name": "stderr",
     "output_type": "stream",
     "text": [
      " 36%|███▌      | 361/1000 [2:18:08<3:44:23, 21.07s/it]"
     ]
    },
    {
     "name": "stdout",
     "output_type": "stream",
     "text": [
      "eigenvalues shape torch.Size([5]) eigenvectors shape torch.Size([5, 400])\n",
      "361 /home/phdcs2/Hard_Disk/Datasets/Deep-Spectral-Segmentation/data/object-segmentation/ECSSD/features/dino_vits16/0362.pth\n",
      "0362\n",
      "Starting Training\n",
      "epoch: 00, loss: -0.39790\n",
      "epoch: 01, loss: -0.40248\n",
      "epoch: 02, loss: -0.40581\n",
      "epoch: 03, loss: -0.41097\n",
      "epoch: 04, loss: -0.41528\n",
      "epoch: 05, loss: -0.42106\n",
      "epoch: 06, loss: -0.42505\n",
      "epoch: 07, loss: -0.42712\n",
      "epoch: 08, loss: -0.42978\n",
      "epoch: 09, loss: -0.43370\n"
     ]
    },
    {
     "name": "stderr",
     "output_type": "stream",
     "text": [
      " 36%|███▌      | 362/1000 [2:18:39<4:15:09, 24.00s/it]"
     ]
    },
    {
     "name": "stdout",
     "output_type": "stream",
     "text": [
      "eigenvalues shape torch.Size([5]) eigenvectors shape torch.Size([5, 500])\n",
      "362 /home/phdcs2/Hard_Disk/Datasets/Deep-Spectral-Segmentation/data/object-segmentation/ECSSD/features/dino_vits16/0363.pth\n",
      "0363\n",
      "Starting Training\n",
      "epoch: 00, loss: -0.43313\n",
      "epoch: 01, loss: -0.44500\n",
      "epoch: 02, loss: -0.44821\n",
      "epoch: 03, loss: -0.45134\n",
      "epoch: 04, loss: -0.45303\n",
      "epoch: 05, loss: -0.45503\n",
      "epoch: 06, loss: -0.45679\n",
      "epoch: 07, loss: -0.45803\n",
      "epoch: 08, loss: -0.46011\n",
      "epoch: 09, loss: -0.46160\n"
     ]
    },
    {
     "name": "stderr",
     "output_type": "stream",
     "text": [
      " 36%|███▋      | 363/1000 [2:19:11<4:42:18, 26.59s/it]"
     ]
    },
    {
     "name": "stdout",
     "output_type": "stream",
     "text": [
      "eigenvalues shape torch.Size([5]) eigenvectors shape torch.Size([5, 625])\n",
      "363 /home/phdcs2/Hard_Disk/Datasets/Deep-Spectral-Segmentation/data/object-segmentation/ECSSD/features/dino_vits16/0364.pth\n",
      "0364\n",
      "Starting Training\n",
      "epoch: 00, loss: -0.36427\n",
      "epoch: 01, loss: -0.37297\n",
      "epoch: 02, loss: -0.37911\n",
      "epoch: 03, loss: -0.38617\n",
      "epoch: 04, loss: -0.39157\n",
      "epoch: 05, loss: -0.39855\n",
      "epoch: 06, loss: -0.40621\n",
      "epoch: 07, loss: -0.41292\n",
      "epoch: 08, loss: -0.42096\n",
      "epoch: 09, loss: -0.42750\n"
     ]
    },
    {
     "name": "stderr",
     "output_type": "stream",
     "text": [
      " 36%|███▋      | 364/1000 [2:19:32<4:23:04, 24.82s/it]"
     ]
    },
    {
     "name": "stdout",
     "output_type": "stream",
     "text": [
      "eigenvalues shape torch.Size([5]) eigenvectors shape torch.Size([5, 450])\n",
      "364 /home/phdcs2/Hard_Disk/Datasets/Deep-Spectral-Segmentation/data/object-segmentation/ECSSD/features/dino_vits16/0365.pth\n",
      "0365\n",
      "Starting Training\n",
      "epoch: 00, loss: -0.37916\n",
      "epoch: 01, loss: -0.38840\n",
      "epoch: 02, loss: -0.38580\n",
      "epoch: 03, loss: -0.38296\n",
      "epoch: 04, loss: -0.38097\n",
      "epoch: 05, loss: -0.37918\n",
      "epoch: 06, loss: -0.37822\n",
      "epoch: 07, loss: -0.37568\n",
      "epoch: 08, loss: -0.37574\n",
      "epoch: 09, loss: -0.37518\n"
     ]
    },
    {
     "name": "stderr",
     "output_type": "stream",
     "text": [
      " 36%|███▋      | 365/1000 [2:19:55<4:16:05, 24.20s/it]"
     ]
    },
    {
     "name": "stdout",
     "output_type": "stream",
     "text": [
      "eigenvalues shape torch.Size([5]) eigenvectors shape torch.Size([5, 450])\n",
      "365 /home/phdcs2/Hard_Disk/Datasets/Deep-Spectral-Segmentation/data/object-segmentation/ECSSD/features/dino_vits16/0366.pth\n",
      "0366\n",
      "Starting Training\n",
      "epoch: 00, loss: -0.36046\n",
      "epoch: 01, loss: -0.35857\n",
      "epoch: 02, loss: -0.35949\n",
      "epoch: 03, loss: -0.35850\n",
      "epoch: 04, loss: -0.35844\n",
      "epoch: 05, loss: -0.35871\n",
      "epoch: 06, loss: -0.36021\n",
      "epoch: 07, loss: -0.36322\n",
      "epoch: 08, loss: -0.36979\n",
      "epoch: 09, loss: -0.37869\n"
     ]
    },
    {
     "name": "stderr",
     "output_type": "stream",
     "text": [
      " 37%|███▋      | 366/1000 [2:20:23<4:28:11, 25.38s/it]"
     ]
    },
    {
     "name": "stdout",
     "output_type": "stream",
     "text": [
      "eigenvalues shape torch.Size([5]) eigenvectors shape torch.Size([5, 500])\n",
      "366 /home/phdcs2/Hard_Disk/Datasets/Deep-Spectral-Segmentation/data/object-segmentation/ECSSD/features/dino_vits16/0367.pth\n",
      "0367\n",
      "Starting Training\n",
      "epoch: 00, loss: -0.39201\n",
      "epoch: 01, loss: -0.39436\n",
      "epoch: 02, loss: -0.39480\n",
      "epoch: 03, loss: -0.39499\n",
      "epoch: 04, loss: -0.39627\n",
      "epoch: 05, loss: -0.39819\n",
      "epoch: 06, loss: -0.39916\n",
      "epoch: 07, loss: -0.40040\n",
      "epoch: 08, loss: -0.40233\n",
      "epoch: 09, loss: -0.40605\n"
     ]
    },
    {
     "name": "stderr",
     "output_type": "stream",
     "text": [
      " 37%|███▋      | 367/1000 [2:20:46<4:21:21, 24.77s/it]"
     ]
    },
    {
     "name": "stdout",
     "output_type": "stream",
     "text": [
      "eigenvalues shape torch.Size([5]) eigenvectors shape torch.Size([5, 400])\n",
      "367 /home/phdcs2/Hard_Disk/Datasets/Deep-Spectral-Segmentation/data/object-segmentation/ECSSD/features/dino_vits16/0368.pth\n",
      "0368\n",
      "Starting Training\n",
      "epoch: 00, loss: -0.42295\n",
      "epoch: 01, loss: -0.42356\n",
      "epoch: 02, loss: -0.41601\n",
      "epoch: 03, loss: -0.40950\n",
      "epoch: 04, loss: -0.40562\n",
      "epoch: 05, loss: -0.40632\n",
      "epoch: 06, loss: -0.40915\n",
      "epoch: 07, loss: -0.41189\n",
      "epoch: 08, loss: -0.41490\n",
      "epoch: 09, loss: -0.41670\n"
     ]
    },
    {
     "name": "stderr",
     "output_type": "stream",
     "text": [
      " 37%|███▋      | 368/1000 [2:21:09<4:15:22, 24.24s/it]"
     ]
    },
    {
     "name": "stdout",
     "output_type": "stream",
     "text": [
      "eigenvalues shape torch.Size([5]) eigenvectors shape torch.Size([5, 400])\n",
      "368 /home/phdcs2/Hard_Disk/Datasets/Deep-Spectral-Segmentation/data/object-segmentation/ECSSD/features/dino_vits16/0369.pth\n",
      "0369\n",
      "Starting Training\n",
      "epoch: 00, loss: -0.37734\n",
      "epoch: 01, loss: -0.38136\n",
      "epoch: 02, loss: -0.38147\n",
      "epoch: 03, loss: -0.38076\n",
      "epoch: 04, loss: -0.38200\n",
      "epoch: 05, loss: -0.38320\n",
      "epoch: 06, loss: -0.38484\n",
      "epoch: 07, loss: -0.38824\n",
      "epoch: 08, loss: -0.39270\n",
      "epoch: 09, loss: -0.39820\n"
     ]
    },
    {
     "name": "stderr",
     "output_type": "stream",
     "text": [
      " 37%|███▋      | 369/1000 [2:21:33<4:14:03, 24.16s/it]"
     ]
    },
    {
     "name": "stdout",
     "output_type": "stream",
     "text": [
      "eigenvalues shape torch.Size([5]) eigenvectors shape torch.Size([5, 400])\n",
      "369 /home/phdcs2/Hard_Disk/Datasets/Deep-Spectral-Segmentation/data/object-segmentation/ECSSD/features/dino_vits16/0370.pth\n",
      "0370\n",
      "Starting Training\n",
      "epoch: 00, loss: -0.38224\n",
      "epoch: 01, loss: -0.38460\n",
      "epoch: 02, loss: -0.39346\n",
      "epoch: 03, loss: -0.40232\n",
      "epoch: 04, loss: -0.40885\n",
      "epoch: 05, loss: -0.41520\n",
      "epoch: 06, loss: -0.42032\n",
      "epoch: 07, loss: -0.42478\n",
      "epoch: 08, loss: -0.42840\n",
      "epoch: 09, loss: -0.43179\n"
     ]
    },
    {
     "name": "stderr",
     "output_type": "stream",
     "text": [
      " 37%|███▋      | 370/1000 [2:22:06<4:41:53, 26.85s/it]"
     ]
    },
    {
     "name": "stdout",
     "output_type": "stream",
     "text": [
      "eigenvalues shape torch.Size([5]) eigenvectors shape torch.Size([5, 600])\n",
      "370 /home/phdcs2/Hard_Disk/Datasets/Deep-Spectral-Segmentation/data/object-segmentation/ECSSD/features/dino_vits16/0371.pth\n",
      "0371\n",
      "Starting Training\n",
      "epoch: 00, loss: -0.50274\n",
      "epoch: 01, loss: -0.51323\n",
      "epoch: 02, loss: -0.52704\n",
      "epoch: 03, loss: -0.53828\n",
      "epoch: 04, loss: -0.54574\n",
      "epoch: 05, loss: -0.55194\n",
      "epoch: 06, loss: -0.55757\n",
      "epoch: 07, loss: -0.56077\n",
      "epoch: 08, loss: -0.56426\n",
      "epoch: 09, loss: -0.56671\n"
     ]
    },
    {
     "name": "stderr",
     "output_type": "stream",
     "text": [
      " 37%|███▋      | 371/1000 [2:22:35<4:48:31, 27.52s/it]"
     ]
    },
    {
     "name": "stdout",
     "output_type": "stream",
     "text": [
      "eigenvalues shape torch.Size([5]) eigenvectors shape torch.Size([5, 550])\n",
      "371 /home/phdcs2/Hard_Disk/Datasets/Deep-Spectral-Segmentation/data/object-segmentation/ECSSD/features/dino_vits16/0372.pth\n",
      "0372\n",
      "Starting Training\n",
      "epoch: 00, loss: -0.42453\n",
      "epoch: 01, loss: -0.44479\n",
      "epoch: 02, loss: -0.45535\n",
      "epoch: 03, loss: -0.46280\n",
      "epoch: 04, loss: -0.46632\n",
      "epoch: 05, loss: -0.46791\n",
      "epoch: 06, loss: -0.46863\n",
      "epoch: 07, loss: -0.46977\n",
      "epoch: 08, loss: -0.46960\n",
      "epoch: 09, loss: -0.47028\n"
     ]
    },
    {
     "name": "stderr",
     "output_type": "stream",
     "text": [
      " 37%|███▋      | 372/1000 [2:23:08<5:04:58, 29.14s/it]"
     ]
    },
    {
     "name": "stdout",
     "output_type": "stream",
     "text": [
      "eigenvalues shape torch.Size([5]) eigenvectors shape torch.Size([5, 600])\n",
      "372 /home/phdcs2/Hard_Disk/Datasets/Deep-Spectral-Segmentation/data/object-segmentation/ECSSD/features/dino_vits16/0373.pth\n",
      "0373\n",
      "Starting Training\n",
      "epoch: 00, loss: -0.39990\n",
      "epoch: 01, loss: -0.41188\n",
      "epoch: 02, loss: -0.41293\n",
      "epoch: 03, loss: -0.41338\n",
      "epoch: 04, loss: -0.41420\n",
      "epoch: 05, loss: -0.41497\n",
      "epoch: 06, loss: -0.41498\n",
      "epoch: 07, loss: -0.41532\n",
      "epoch: 08, loss: -0.41507\n",
      "epoch: 09, loss: -0.41527\n"
     ]
    },
    {
     "name": "stderr",
     "output_type": "stream",
     "text": [
      " 37%|███▋      | 373/1000 [2:23:28<4:36:32, 26.46s/it]"
     ]
    },
    {
     "name": "stdout",
     "output_type": "stream",
     "text": [
      "eigenvalues shape torch.Size([5]) eigenvectors shape torch.Size([5, 400])\n",
      "373 /home/phdcs2/Hard_Disk/Datasets/Deep-Spectral-Segmentation/data/object-segmentation/ECSSD/features/dino_vits16/0374.pth\n",
      "0374\n",
      "Starting Training\n",
      "epoch: 00, loss: -0.61168\n",
      "epoch: 01, loss: -0.65096\n",
      "epoch: 02, loss: -0.65392\n",
      "epoch: 03, loss: -0.65595\n",
      "epoch: 04, loss: -0.65770\n",
      "epoch: 05, loss: -0.65908\n",
      "epoch: 06, loss: -0.65999\n",
      "epoch: 07, loss: -0.66143\n",
      "epoch: 08, loss: -0.66204\n",
      "epoch: 09, loss: -0.66311\n"
     ]
    },
    {
     "name": "stderr",
     "output_type": "stream",
     "text": [
      " 37%|███▋      | 374/1000 [2:23:51<4:23:21, 25.24s/it]"
     ]
    },
    {
     "name": "stdout",
     "output_type": "stream",
     "text": [
      "eigenvalues shape torch.Size([5]) eigenvectors shape torch.Size([5, 450])\n",
      "374 /home/phdcs2/Hard_Disk/Datasets/Deep-Spectral-Segmentation/data/object-segmentation/ECSSD/features/dino_vits16/0375.pth\n",
      "0375\n",
      "Starting Training\n",
      "epoch: 00, loss: -0.40453\n",
      "epoch: 01, loss: -0.41547\n",
      "epoch: 02, loss: -0.41584\n",
      "epoch: 03, loss: -0.41579\n",
      "epoch: 04, loss: -0.41665\n",
      "epoch: 05, loss: -0.41775\n",
      "epoch: 06, loss: -0.41900\n",
      "epoch: 07, loss: -0.41903\n",
      "epoch: 08, loss: -0.41977\n",
      "epoch: 09, loss: -0.42008\n"
     ]
    },
    {
     "name": "stderr",
     "output_type": "stream",
     "text": [
      " 38%|███▊      | 375/1000 [2:24:20<4:33:30, 26.26s/it]"
     ]
    },
    {
     "name": "stdout",
     "output_type": "stream",
     "text": [
      "eigenvalues shape torch.Size([5]) eigenvectors shape torch.Size([5, 475])\n",
      "375 /home/phdcs2/Hard_Disk/Datasets/Deep-Spectral-Segmentation/data/object-segmentation/ECSSD/features/dino_vits16/0376.pth\n",
      "0376\n",
      "Starting Training\n",
      "epoch: 00, loss: -0.50472\n",
      "epoch: 01, loss: -0.51373\n",
      "epoch: 02, loss: -0.52624\n",
      "epoch: 03, loss: -0.53925\n",
      "epoch: 04, loss: -0.55132\n",
      "epoch: 05, loss: -0.56069\n",
      "epoch: 06, loss: -0.56785\n",
      "epoch: 07, loss: -0.57179\n",
      "epoch: 08, loss: -0.57536\n",
      "epoch: 09, loss: -0.57737\n"
     ]
    },
    {
     "name": "stderr",
     "output_type": "stream",
     "text": [
      " 38%|███▊      | 376/1000 [2:24:55<5:01:33, 29.00s/it]"
     ]
    },
    {
     "name": "stdout",
     "output_type": "stream",
     "text": [
      "eigenvalues shape torch.Size([5]) eigenvectors shape torch.Size([5, 625])\n",
      "376 /home/phdcs2/Hard_Disk/Datasets/Deep-Spectral-Segmentation/data/object-segmentation/ECSSD/features/dino_vits16/0377.pth\n",
      "0377\n",
      "Starting Training\n",
      "epoch: 00, loss: -0.38901\n",
      "epoch: 01, loss: -0.38514\n",
      "epoch: 02, loss: -0.38450\n",
      "epoch: 03, loss: -0.38516\n",
      "epoch: 04, loss: -0.38635\n",
      "epoch: 05, loss: -0.38536\n",
      "epoch: 06, loss: -0.38627\n",
      "epoch: 07, loss: -0.38713\n",
      "epoch: 08, loss: -0.38742\n",
      "epoch: 09, loss: -0.38831\n"
     ]
    },
    {
     "name": "stderr",
     "output_type": "stream",
     "text": [
      " 38%|███▊      | 377/1000 [2:25:16<4:37:50, 26.76s/it]"
     ]
    },
    {
     "name": "stdout",
     "output_type": "stream",
     "text": [
      "eigenvalues shape torch.Size([5]) eigenvectors shape torch.Size([5, 400])\n",
      "377 /home/phdcs2/Hard_Disk/Datasets/Deep-Spectral-Segmentation/data/object-segmentation/ECSSD/features/dino_vits16/0378.pth\n",
      "0378\n",
      "Starting Training\n",
      "epoch: 00, loss: -0.39752\n",
      "epoch: 01, loss: -0.40518\n",
      "epoch: 02, loss: -0.40749\n",
      "epoch: 03, loss: -0.40861\n",
      "epoch: 04, loss: -0.41120\n",
      "epoch: 05, loss: -0.41331\n",
      "epoch: 06, loss: -0.41571\n",
      "epoch: 07, loss: -0.41765\n",
      "epoch: 08, loss: -0.41835\n",
      "epoch: 09, loss: -0.42003\n"
     ]
    },
    {
     "name": "stderr",
     "output_type": "stream",
     "text": [
      " 38%|███▊      | 378/1000 [2:25:39<4:24:13, 25.49s/it]"
     ]
    },
    {
     "name": "stdout",
     "output_type": "stream",
     "text": [
      "eigenvalues shape torch.Size([5]) eigenvectors shape torch.Size([5, 450])\n",
      "378 /home/phdcs2/Hard_Disk/Datasets/Deep-Spectral-Segmentation/data/object-segmentation/ECSSD/features/dino_vits16/0379.pth\n",
      "0379\n",
      "Starting Training\n",
      "epoch: 00, loss: -0.38523\n",
      "epoch: 01, loss: -0.38962\n",
      "epoch: 02, loss: -0.39409\n",
      "epoch: 03, loss: -0.39640\n",
      "epoch: 04, loss: -0.39886\n",
      "epoch: 05, loss: -0.40118\n",
      "epoch: 06, loss: -0.40275\n",
      "epoch: 07, loss: -0.40362\n",
      "epoch: 08, loss: -0.40365\n",
      "epoch: 09, loss: -0.40546\n"
     ]
    },
    {
     "name": "stderr",
     "output_type": "stream",
     "text": [
      " 38%|███▊      | 379/1000 [2:26:00<4:10:45, 24.23s/it]"
     ]
    },
    {
     "name": "stdout",
     "output_type": "stream",
     "text": [
      "eigenvalues shape torch.Size([5]) eigenvectors shape torch.Size([5, 450])\n",
      "379 /home/phdcs2/Hard_Disk/Datasets/Deep-Spectral-Segmentation/data/object-segmentation/ECSSD/features/dino_vits16/0380.pth\n",
      "0380\n",
      "Starting Training\n",
      "epoch: 00, loss: -0.38821\n",
      "epoch: 01, loss: -0.39045\n",
      "epoch: 02, loss: -0.38790\n",
      "epoch: 03, loss: -0.38730\n",
      "epoch: 04, loss: -0.38766\n",
      "epoch: 05, loss: -0.39012\n",
      "epoch: 06, loss: -0.39399\n",
      "epoch: 07, loss: -0.39762\n",
      "epoch: 08, loss: -0.40401\n",
      "epoch: 09, loss: -0.40918\n"
     ]
    },
    {
     "name": "stderr",
     "output_type": "stream",
     "text": [
      " 38%|███▊      | 380/1000 [2:26:19<3:54:19, 22.68s/it]"
     ]
    },
    {
     "name": "stdout",
     "output_type": "stream",
     "text": [
      "eigenvalues shape torch.Size([5]) eigenvectors shape torch.Size([5, 425])\n",
      "380 /home/phdcs2/Hard_Disk/Datasets/Deep-Spectral-Segmentation/data/object-segmentation/ECSSD/features/dino_vits16/0381.pth\n",
      "0381\n",
      "Starting Training\n",
      "epoch: 00, loss: -0.44853\n",
      "epoch: 01, loss: -0.43980\n",
      "epoch: 02, loss: -0.43710\n",
      "epoch: 03, loss: -0.43575\n",
      "epoch: 04, loss: -0.43413\n",
      "epoch: 05, loss: -0.43423\n",
      "epoch: 06, loss: -0.43344\n",
      "epoch: 07, loss: -0.43314\n",
      "epoch: 08, loss: -0.43315\n",
      "epoch: 09, loss: -0.43267\n"
     ]
    },
    {
     "name": "stderr",
     "output_type": "stream",
     "text": [
      " 38%|███▊      | 381/1000 [2:26:45<4:04:31, 23.70s/it]"
     ]
    },
    {
     "name": "stdout",
     "output_type": "stream",
     "text": [
      "eigenvalues shape torch.Size([5]) eigenvectors shape torch.Size([5, 450])\n",
      "381 /home/phdcs2/Hard_Disk/Datasets/Deep-Spectral-Segmentation/data/object-segmentation/ECSSD/features/dino_vits16/0382.pth\n",
      "0382\n",
      "Starting Training\n",
      "epoch: 00, loss: -0.61715\n",
      "epoch: 01, loss: -0.66490\n",
      "epoch: 02, loss: -0.66777\n",
      "epoch: 03, loss: -0.66933\n",
      "epoch: 04, loss: -0.67029\n",
      "epoch: 05, loss: -0.67125\n",
      "epoch: 06, loss: -0.67183\n",
      "epoch: 07, loss: -0.67248\n",
      "epoch: 08, loss: -0.67308\n",
      "epoch: 09, loss: -0.67354\n"
     ]
    },
    {
     "name": "stderr",
     "output_type": "stream",
     "text": [
      " 38%|███▊      | 382/1000 [2:27:04<3:49:45, 22.31s/it]"
     ]
    },
    {
     "name": "stdout",
     "output_type": "stream",
     "text": [
      "eigenvalues shape torch.Size([5]) eigenvectors shape torch.Size([5, 425])\n",
      "382 /home/phdcs2/Hard_Disk/Datasets/Deep-Spectral-Segmentation/data/object-segmentation/ECSSD/features/dino_vits16/0383.pth\n",
      "0383\n",
      "Starting Training\n",
      "epoch: 00, loss: -0.40710\n",
      "epoch: 01, loss: -0.42913\n",
      "epoch: 02, loss: -0.42986\n",
      "epoch: 03, loss: -0.43013\n",
      "epoch: 04, loss: -0.43114\n",
      "epoch: 05, loss: -0.43070\n",
      "epoch: 06, loss: -0.43055\n",
      "epoch: 07, loss: -0.43040\n",
      "epoch: 08, loss: -0.42985\n",
      "epoch: 09, loss: -0.42958\n"
     ]
    },
    {
     "name": "stderr",
     "output_type": "stream",
     "text": [
      " 38%|███▊      | 383/1000 [2:27:23<3:37:03, 21.11s/it]"
     ]
    },
    {
     "name": "stdout",
     "output_type": "stream",
     "text": [
      "eigenvalues shape torch.Size([5]) eigenvectors shape torch.Size([5, 350])\n",
      "383 /home/phdcs2/Hard_Disk/Datasets/Deep-Spectral-Segmentation/data/object-segmentation/ECSSD/features/dino_vits16/0384.pth\n",
      "0384\n",
      "Starting Training\n",
      "epoch: 00, loss: -0.38325\n",
      "epoch: 01, loss: -0.39216\n",
      "epoch: 02, loss: -0.39773\n",
      "epoch: 03, loss: -0.40147\n",
      "epoch: 04, loss: -0.40430\n",
      "epoch: 05, loss: -0.40798\n",
      "epoch: 06, loss: -0.41234\n",
      "epoch: 07, loss: -0.41671\n",
      "epoch: 08, loss: -0.42448\n",
      "epoch: 09, loss: -0.43140\n"
     ]
    },
    {
     "name": "stderr",
     "output_type": "stream",
     "text": [
      " 38%|███▊      | 384/1000 [2:27:47<3:45:25, 21.96s/it]"
     ]
    },
    {
     "name": "stdout",
     "output_type": "stream",
     "text": [
      "eigenvalues shape torch.Size([5]) eigenvectors shape torch.Size([5, 475])\n",
      "384 /home/phdcs2/Hard_Disk/Datasets/Deep-Spectral-Segmentation/data/object-segmentation/ECSSD/features/dino_vits16/0385.pth\n",
      "0385\n",
      "Starting Training\n",
      "epoch: 00, loss: -0.58964\n",
      "epoch: 01, loss: -0.64263\n",
      "epoch: 02, loss: -0.64657\n",
      "epoch: 03, loss: -0.64969\n",
      "epoch: 04, loss: -0.65160\n",
      "epoch: 05, loss: -0.65360\n",
      "epoch: 06, loss: -0.65532\n",
      "epoch: 07, loss: -0.65721\n",
      "epoch: 08, loss: -0.65865\n",
      "epoch: 09, loss: -0.65983\n"
     ]
    },
    {
     "name": "stderr",
     "output_type": "stream",
     "text": [
      " 38%|███▊      | 385/1000 [2:28:16<4:08:39, 24.26s/it]"
     ]
    },
    {
     "name": "stdout",
     "output_type": "stream",
     "text": [
      "eigenvalues shape torch.Size([5]) eigenvectors shape torch.Size([5, 600])\n",
      "385 /home/phdcs2/Hard_Disk/Datasets/Deep-Spectral-Segmentation/data/object-segmentation/ECSSD/features/dino_vits16/0386.pth\n",
      "0386\n",
      "Starting Training\n",
      "epoch: 00, loss: -0.40326\n",
      "epoch: 01, loss: -0.40841\n",
      "epoch: 02, loss: -0.40658\n",
      "epoch: 03, loss: -0.40857\n",
      "epoch: 04, loss: -0.40964\n",
      "epoch: 05, loss: -0.41092\n",
      "epoch: 06, loss: -0.41280\n",
      "epoch: 07, loss: -0.41391\n",
      "epoch: 08, loss: -0.41414\n",
      "epoch: 09, loss: -0.41492\n"
     ]
    },
    {
     "name": "stderr",
     "output_type": "stream",
     "text": [
      " 39%|███▊      | 386/1000 [2:28:34<3:47:53, 22.27s/it]"
     ]
    },
    {
     "name": "stdout",
     "output_type": "stream",
     "text": [
      "eigenvalues shape torch.Size([5]) eigenvectors shape torch.Size([5, 400])\n",
      "386 /home/phdcs2/Hard_Disk/Datasets/Deep-Spectral-Segmentation/data/object-segmentation/ECSSD/features/dino_vits16/0387.pth\n",
      "0387\n",
      "Starting Training\n",
      "epoch: 00, loss: -0.62794\n",
      "epoch: 01, loss: -0.67073\n",
      "epoch: 02, loss: -0.67313\n",
      "epoch: 03, loss: -0.67463\n",
      "epoch: 04, loss: -0.67526\n",
      "epoch: 05, loss: -0.67618\n",
      "epoch: 06, loss: -0.67663\n",
      "epoch: 07, loss: -0.67726\n",
      "epoch: 08, loss: -0.67766\n",
      "epoch: 09, loss: -0.67787\n"
     ]
    },
    {
     "name": "stderr",
     "output_type": "stream",
     "text": [
      " 39%|███▊      | 387/1000 [2:28:58<3:53:45, 22.88s/it]"
     ]
    },
    {
     "name": "stdout",
     "output_type": "stream",
     "text": [
      "eigenvalues shape torch.Size([5]) eigenvectors shape torch.Size([5, 450])\n",
      "387 /home/phdcs2/Hard_Disk/Datasets/Deep-Spectral-Segmentation/data/object-segmentation/ECSSD/features/dino_vits16/0388.pth\n",
      "0388\n",
      "Starting Training\n",
      "epoch: 00, loss: -0.50362\n",
      "epoch: 01, loss: -0.51494\n",
      "epoch: 02, loss: -0.52155\n",
      "epoch: 03, loss: -0.52818\n",
      "epoch: 04, loss: -0.53248\n",
      "epoch: 05, loss: -0.53775\n",
      "epoch: 06, loss: -0.54198\n",
      "epoch: 07, loss: -0.54506\n",
      "epoch: 08, loss: -0.54812\n",
      "epoch: 09, loss: -0.55126\n"
     ]
    },
    {
     "name": "stderr",
     "output_type": "stream",
     "text": [
      " 39%|███▉      | 388/1000 [2:29:23<3:57:57, 23.33s/it]"
     ]
    },
    {
     "name": "stdout",
     "output_type": "stream",
     "text": [
      "eigenvalues shape torch.Size([5]) eigenvectors shape torch.Size([5, 500])\n",
      "388 /home/phdcs2/Hard_Disk/Datasets/Deep-Spectral-Segmentation/data/object-segmentation/ECSSD/features/dino_vits16/0389.pth\n",
      "0389\n",
      "Starting Training\n",
      "epoch: 00, loss: -0.45191\n",
      "epoch: 01, loss: -0.44101\n",
      "epoch: 02, loss: -0.44421\n",
      "epoch: 03, loss: -0.44593\n",
      "epoch: 04, loss: -0.44800\n",
      "epoch: 05, loss: -0.45148\n",
      "epoch: 06, loss: -0.45321\n",
      "epoch: 07, loss: -0.45455\n",
      "epoch: 08, loss: -0.45685\n",
      "epoch: 09, loss: -0.45843\n"
     ]
    },
    {
     "name": "stderr",
     "output_type": "stream",
     "text": [
      " 39%|███▉      | 389/1000 [2:29:43<3:48:15, 22.42s/it]"
     ]
    },
    {
     "name": "stdout",
     "output_type": "stream",
     "text": [
      "eigenvalues shape torch.Size([5]) eigenvectors shape torch.Size([5, 450])\n",
      "389 /home/phdcs2/Hard_Disk/Datasets/Deep-Spectral-Segmentation/data/object-segmentation/ECSSD/features/dino_vits16/0390.pth\n",
      "0390\n",
      "Starting Training\n",
      "epoch: 00, loss: -0.39445\n",
      "epoch: 01, loss: -0.40338\n",
      "epoch: 02, loss: -0.40577\n",
      "epoch: 03, loss: -0.40702\n",
      "epoch: 04, loss: -0.40867\n",
      "epoch: 05, loss: -0.41061\n",
      "epoch: 06, loss: -0.41176\n",
      "epoch: 07, loss: -0.41294\n",
      "epoch: 08, loss: -0.41429\n",
      "epoch: 09, loss: -0.41540\n"
     ]
    },
    {
     "name": "stderr",
     "output_type": "stream",
     "text": [
      " 39%|███▉      | 390/1000 [2:30:02<3:38:21, 21.48s/it]"
     ]
    },
    {
     "name": "stdout",
     "output_type": "stream",
     "text": [
      "eigenvalues shape torch.Size([5]) eigenvectors shape torch.Size([5, 450])\n",
      "390 /home/phdcs2/Hard_Disk/Datasets/Deep-Spectral-Segmentation/data/object-segmentation/ECSSD/features/dino_vits16/0391.pth\n",
      "0391\n",
      "Starting Training\n",
      "epoch: 00, loss: -0.36016\n",
      "epoch: 01, loss: -0.35878\n",
      "epoch: 02, loss: -0.35919\n",
      "epoch: 03, loss: -0.36025\n",
      "epoch: 04, loss: -0.36147\n",
      "epoch: 05, loss: -0.36228\n",
      "epoch: 06, loss: -0.36374\n",
      "epoch: 07, loss: -0.36602\n",
      "epoch: 08, loss: -0.36746\n",
      "epoch: 09, loss: -0.36944\n"
     ]
    },
    {
     "name": "stderr",
     "output_type": "stream",
     "text": [
      " 39%|███▉      | 391/1000 [2:30:26<3:45:48, 22.25s/it]"
     ]
    },
    {
     "name": "stdout",
     "output_type": "stream",
     "text": [
      "eigenvalues shape torch.Size([5]) eigenvectors shape torch.Size([5, 400])\n",
      "391 /home/phdcs2/Hard_Disk/Datasets/Deep-Spectral-Segmentation/data/object-segmentation/ECSSD/features/dino_vits16/0392.pth\n",
      "0392\n",
      "Starting Training\n",
      "epoch: 00, loss: -0.40095\n",
      "epoch: 01, loss: -0.40971\n",
      "epoch: 02, loss: -0.40873\n",
      "epoch: 03, loss: -0.40963\n",
      "epoch: 04, loss: -0.41027\n",
      "epoch: 05, loss: -0.41115\n",
      "epoch: 06, loss: -0.41137\n",
      "epoch: 07, loss: -0.41024\n",
      "epoch: 08, loss: -0.41025\n",
      "epoch: 09, loss: -0.41125\n"
     ]
    },
    {
     "name": "stderr",
     "output_type": "stream",
     "text": [
      " 39%|███▉      | 392/1000 [2:30:48<3:45:12, 22.22s/it]"
     ]
    },
    {
     "name": "stdout",
     "output_type": "stream",
     "text": [
      "eigenvalues shape torch.Size([5]) eigenvectors shape torch.Size([5, 400])\n",
      "392 /home/phdcs2/Hard_Disk/Datasets/Deep-Spectral-Segmentation/data/object-segmentation/ECSSD/features/dino_vits16/0393.pth\n",
      "0393\n",
      "Starting Training\n",
      "epoch: 00, loss: -0.39910\n",
      "epoch: 01, loss: -0.39593\n",
      "epoch: 02, loss: -0.39204\n",
      "epoch: 03, loss: -0.38950\n",
      "epoch: 04, loss: -0.38815\n",
      "epoch: 05, loss: -0.38735\n",
      "epoch: 06, loss: -0.38678\n",
      "epoch: 07, loss: -0.38711\n",
      "epoch: 08, loss: -0.38733\n",
      "epoch: 09, loss: -0.38746\n"
     ]
    },
    {
     "name": "stderr",
     "output_type": "stream",
     "text": [
      " 39%|███▉      | 393/1000 [2:31:09<3:40:26, 21.79s/it]"
     ]
    },
    {
     "name": "stdout",
     "output_type": "stream",
     "text": [
      "eigenvalues shape torch.Size([5]) eigenvectors shape torch.Size([5, 400])\n",
      "393 /home/phdcs2/Hard_Disk/Datasets/Deep-Spectral-Segmentation/data/object-segmentation/ECSSD/features/dino_vits16/0394.pth\n",
      "0394\n",
      "Starting Training\n",
      "epoch: 00, loss: -0.39524\n",
      "epoch: 01, loss: -0.40397\n",
      "epoch: 02, loss: -0.40755\n",
      "epoch: 03, loss: -0.41327\n",
      "epoch: 04, loss: -0.41798\n",
      "epoch: 05, loss: -0.42221\n",
      "epoch: 06, loss: -0.42697\n",
      "epoch: 07, loss: -0.43148\n",
      "epoch: 08, loss: -0.43450\n",
      "epoch: 09, loss: -0.43758\n"
     ]
    },
    {
     "name": "stderr",
     "output_type": "stream",
     "text": [
      " 39%|███▉      | 394/1000 [2:31:29<3:33:58, 21.19s/it]"
     ]
    },
    {
     "name": "stdout",
     "output_type": "stream",
     "text": [
      "eigenvalues shape torch.Size([5]) eigenvectors shape torch.Size([5, 400])\n",
      "394 /home/phdcs2/Hard_Disk/Datasets/Deep-Spectral-Segmentation/data/object-segmentation/ECSSD/features/dino_vits16/0395.pth\n",
      "0395\n",
      "Starting Training\n",
      "epoch: 00, loss: -0.42755\n",
      "epoch: 01, loss: -0.44247\n",
      "epoch: 02, loss: -0.44280\n",
      "epoch: 03, loss: -0.44099\n",
      "epoch: 04, loss: -0.44082\n",
      "epoch: 05, loss: -0.44018\n",
      "epoch: 06, loss: -0.43905\n",
      "epoch: 07, loss: -0.43841\n",
      "epoch: 08, loss: -0.43768\n",
      "epoch: 09, loss: -0.43603\n"
     ]
    },
    {
     "name": "stderr",
     "output_type": "stream",
     "text": [
      " 40%|███▉      | 395/1000 [2:31:49<3:29:08, 20.74s/it]"
     ]
    },
    {
     "name": "stdout",
     "output_type": "stream",
     "text": [
      "eigenvalues shape torch.Size([5]) eigenvectors shape torch.Size([5, 400])\n",
      "395 /home/phdcs2/Hard_Disk/Datasets/Deep-Spectral-Segmentation/data/object-segmentation/ECSSD/features/dino_vits16/0396.pth\n",
      "0396\n",
      "Starting Training\n",
      "epoch: 00, loss: -0.38881\n",
      "epoch: 01, loss: -0.39733\n",
      "epoch: 02, loss: -0.39936\n",
      "epoch: 03, loss: -0.40058\n",
      "epoch: 04, loss: -0.40233\n",
      "epoch: 05, loss: -0.40346\n",
      "epoch: 06, loss: -0.40491\n",
      "epoch: 07, loss: -0.40672\n",
      "epoch: 08, loss: -0.40937\n",
      "epoch: 09, loss: -0.41157\n"
     ]
    },
    {
     "name": "stderr",
     "output_type": "stream",
     "text": [
      " 40%|███▉      | 396/1000 [2:32:13<3:38:48, 21.74s/it]"
     ]
    },
    {
     "name": "stdout",
     "output_type": "stream",
     "text": [
      "eigenvalues shape torch.Size([5]) eigenvectors shape torch.Size([5, 450])\n",
      "396 /home/phdcs2/Hard_Disk/Datasets/Deep-Spectral-Segmentation/data/object-segmentation/ECSSD/features/dino_vits16/0397.pth\n",
      "0397\n",
      "Starting Training\n",
      "epoch: 00, loss: -0.35233\n",
      "epoch: 01, loss: -0.35748\n",
      "epoch: 02, loss: -0.36257\n",
      "epoch: 03, loss: -0.36906\n",
      "epoch: 04, loss: -0.37362\n",
      "epoch: 05, loss: -0.37749\n",
      "epoch: 06, loss: -0.38163\n",
      "epoch: 07, loss: -0.38677\n",
      "epoch: 08, loss: -0.38898\n",
      "epoch: 09, loss: -0.39258\n"
     ]
    },
    {
     "name": "stderr",
     "output_type": "stream",
     "text": [
      " 40%|███▉      | 397/1000 [2:32:35<3:41:10, 22.01s/it]"
     ]
    },
    {
     "name": "stdout",
     "output_type": "stream",
     "text": [
      "eigenvalues shape torch.Size([5]) eigenvectors shape torch.Size([5, 400])\n",
      "397 /home/phdcs2/Hard_Disk/Datasets/Deep-Spectral-Segmentation/data/object-segmentation/ECSSD/features/dino_vits16/0398.pth\n",
      "0398\n",
      "Starting Training\n",
      "epoch: 00, loss: -0.39233\n",
      "epoch: 01, loss: -0.40137\n",
      "epoch: 02, loss: -0.40332\n",
      "epoch: 03, loss: -0.40511\n",
      "epoch: 04, loss: -0.40817\n",
      "epoch: 05, loss: -0.41043\n",
      "epoch: 06, loss: -0.41296\n",
      "epoch: 07, loss: -0.41538\n",
      "epoch: 08, loss: -0.41638\n",
      "epoch: 09, loss: -0.41813\n",
      " ** On entry to SLASCL parameter number  4 had an illegal value\n",
      " ** On entry to SLASCL parameter number  4 had an illegal value\n"
     ]
    },
    {
     "name": "stderr",
     "output_type": "stream",
     "text": [
      " 40%|███▉      | 398/1000 [2:33:01<3:52:24, 23.16s/it]"
     ]
    },
    {
     "name": "stdout",
     "output_type": "stream",
     "text": [
      "eigenvalues shape torch.Size([5]) eigenvectors shape torch.Size([5, 400])\n",
      "398 /home/phdcs2/Hard_Disk/Datasets/Deep-Spectral-Segmentation/data/object-segmentation/ECSSD/features/dino_vits16/0399.pth\n",
      "0399\n",
      "Starting Training\n",
      "epoch: 00, loss: -0.37231\n",
      "epoch: 01, loss: -0.36327\n",
      "epoch: 02, loss: -0.35911\n",
      "epoch: 03, loss: -0.35769\n",
      "epoch: 04, loss: -0.35772\n",
      "epoch: 05, loss: -0.35786\n",
      "epoch: 06, loss: -0.35801\n",
      "epoch: 07, loss: -0.35893\n",
      "epoch: 08, loss: -0.36014\n",
      "epoch: 09, loss: -0.36093\n"
     ]
    },
    {
     "name": "stderr",
     "output_type": "stream",
     "text": [
      " 40%|███▉      | 399/1000 [2:33:22<3:44:47, 22.44s/it]"
     ]
    },
    {
     "name": "stdout",
     "output_type": "stream",
     "text": [
      "eigenvalues shape torch.Size([5]) eigenvectors shape torch.Size([5, 400])\n",
      "399 /home/phdcs2/Hard_Disk/Datasets/Deep-Spectral-Segmentation/data/object-segmentation/ECSSD/features/dino_vits16/0400.pth\n",
      "0400\n",
      "Starting Training\n",
      "epoch: 00, loss: -0.38235\n",
      "epoch: 01, loss: -0.38775\n",
      "epoch: 02, loss: -0.38999\n",
      "epoch: 03, loss: -0.39110\n",
      "epoch: 04, loss: -0.39267\n",
      "epoch: 05, loss: -0.39422\n",
      "epoch: 06, loss: -0.39515\n",
      "epoch: 07, loss: -0.39757\n",
      "epoch: 08, loss: -0.40034\n",
      "epoch: 09, loss: -0.40205\n"
     ]
    },
    {
     "name": "stderr",
     "output_type": "stream",
     "text": [
      " 40%|████      | 400/1000 [2:33:43<3:40:05, 22.01s/it]"
     ]
    },
    {
     "name": "stdout",
     "output_type": "stream",
     "text": [
      "eigenvalues shape torch.Size([5]) eigenvectors shape torch.Size([5, 400])\n",
      "400 /home/phdcs2/Hard_Disk/Datasets/Deep-Spectral-Segmentation/data/object-segmentation/ECSSD/features/dino_vits16/0401.pth\n",
      "0401\n",
      "Starting Training\n",
      "epoch: 00, loss: -0.36425\n",
      "epoch: 01, loss: -0.36919\n",
      "epoch: 02, loss: -0.37147\n",
      "epoch: 03, loss: -0.37283\n",
      "epoch: 04, loss: -0.37408\n",
      "epoch: 05, loss: -0.37511\n",
      "epoch: 06, loss: -0.37571\n",
      "epoch: 07, loss: -0.37721\n",
      "epoch: 08, loss: -0.38000\n",
      "epoch: 09, loss: -0.38386\n"
     ]
    },
    {
     "name": "stderr",
     "output_type": "stream",
     "text": [
      " 40%|████      | 401/1000 [2:34:06<3:43:10, 22.35s/it]"
     ]
    },
    {
     "name": "stdout",
     "output_type": "stream",
     "text": [
      "eigenvalues shape torch.Size([5]) eigenvectors shape torch.Size([5, 400])\n",
      "401 /home/phdcs2/Hard_Disk/Datasets/Deep-Spectral-Segmentation/data/object-segmentation/ECSSD/features/dino_vits16/0402.pth\n",
      "0402\n",
      "Starting Training\n",
      "epoch: 00, loss: -0.38082\n",
      "epoch: 01, loss: -0.39153\n",
      "epoch: 02, loss: -0.39249\n",
      "epoch: 03, loss: -0.39201\n",
      "epoch: 04, loss: -0.39280\n",
      "epoch: 05, loss: -0.39281\n",
      "epoch: 06, loss: -0.39248\n",
      "epoch: 07, loss: -0.39276\n",
      "epoch: 08, loss: -0.39303\n",
      "epoch: 09, loss: -0.39319\n"
     ]
    },
    {
     "name": "stderr",
     "output_type": "stream",
     "text": [
      " 40%|████      | 402/1000 [2:34:28<3:41:04, 22.18s/it]"
     ]
    },
    {
     "name": "stdout",
     "output_type": "stream",
     "text": [
      "eigenvalues shape torch.Size([5]) eigenvectors shape torch.Size([5, 400])\n",
      "402 /home/phdcs2/Hard_Disk/Datasets/Deep-Spectral-Segmentation/data/object-segmentation/ECSSD/features/dino_vits16/0403.pth\n",
      "0403\n",
      "Starting Training\n",
      "epoch: 00, loss: -0.48653\n",
      "epoch: 01, loss: -0.49984\n",
      "epoch: 02, loss: -0.49865\n",
      "epoch: 03, loss: -0.49874\n",
      "epoch: 04, loss: -0.49767\n",
      "epoch: 05, loss: -0.49740\n",
      "epoch: 06, loss: -0.49781\n",
      "epoch: 07, loss: -0.49744\n",
      "epoch: 08, loss: -0.49740\n",
      "epoch: 09, loss: -0.49714\n"
     ]
    },
    {
     "name": "stderr",
     "output_type": "stream",
     "text": [
      " 40%|████      | 403/1000 [2:34:53<3:49:48, 23.10s/it]"
     ]
    },
    {
     "name": "stdout",
     "output_type": "stream",
     "text": [
      "eigenvalues shape torch.Size([5]) eigenvectors shape torch.Size([5, 400])\n",
      "403 /home/phdcs2/Hard_Disk/Datasets/Deep-Spectral-Segmentation/data/object-segmentation/ECSSD/features/dino_vits16/0404.pth\n",
      "0404\n",
      "Starting Training\n",
      "epoch: 00, loss: -0.41244\n",
      "epoch: 01, loss: -0.42144\n",
      "epoch: 02, loss: -0.42024\n",
      "epoch: 03, loss: -0.41834\n",
      "epoch: 04, loss: -0.41650\n",
      "epoch: 05, loss: -0.41530\n",
      "epoch: 06, loss: -0.41392\n",
      "epoch: 07, loss: -0.41310\n",
      "epoch: 08, loss: -0.41155\n",
      "epoch: 09, loss: -0.41070\n"
     ]
    },
    {
     "name": "stderr",
     "output_type": "stream",
     "text": [
      " 40%|████      | 404/1000 [2:35:18<3:53:36, 23.52s/it]"
     ]
    },
    {
     "name": "stdout",
     "output_type": "stream",
     "text": [
      "eigenvalues shape torch.Size([5]) eigenvectors shape torch.Size([5, 400])\n",
      "404 /home/phdcs2/Hard_Disk/Datasets/Deep-Spectral-Segmentation/data/object-segmentation/ECSSD/features/dino_vits16/0405.pth\n",
      "0405\n",
      "Starting Training\n",
      "epoch: 00, loss: -0.39842\n",
      "epoch: 01, loss: -0.40373\n",
      "epoch: 02, loss: -0.40285\n",
      "epoch: 03, loss: -0.40154\n",
      "epoch: 04, loss: -0.39894\n",
      "epoch: 05, loss: -0.39772\n",
      "epoch: 06, loss: -0.39710\n",
      "epoch: 07, loss: -0.39707\n",
      "epoch: 08, loss: -0.39624\n",
      "epoch: 09, loss: -0.39591\n"
     ]
    },
    {
     "name": "stderr",
     "output_type": "stream",
     "text": [
      " 40%|████      | 405/1000 [2:35:36<3:38:55, 22.08s/it]"
     ]
    },
    {
     "name": "stdout",
     "output_type": "stream",
     "text": [
      "eigenvalues shape torch.Size([5]) eigenvectors shape torch.Size([5, 400])\n",
      "405 /home/phdcs2/Hard_Disk/Datasets/Deep-Spectral-Segmentation/data/object-segmentation/ECSSD/features/dino_vits16/0406.pth\n",
      "0406\n",
      "Starting Training\n",
      "epoch: 00, loss: -0.39333\n",
      "epoch: 01, loss: -0.39321\n",
      "epoch: 02, loss: -0.39648\n",
      "epoch: 03, loss: -0.39971\n",
      "epoch: 04, loss: -0.40208\n",
      "epoch: 05, loss: -0.40407\n",
      "epoch: 06, loss: -0.40630\n",
      "epoch: 07, loss: -0.40709\n",
      "epoch: 08, loss: -0.40855\n",
      "epoch: 09, loss: -0.40999\n"
     ]
    },
    {
     "name": "stderr",
     "output_type": "stream",
     "text": [
      " 41%|████      | 406/1000 [2:35:53<3:22:11, 20.42s/it]"
     ]
    },
    {
     "name": "stdout",
     "output_type": "stream",
     "text": [
      "eigenvalues shape torch.Size([5]) eigenvectors shape torch.Size([5, 400])\n",
      "406 /home/phdcs2/Hard_Disk/Datasets/Deep-Spectral-Segmentation/data/object-segmentation/ECSSD/features/dino_vits16/0407.pth\n",
      "0407\n",
      "Starting Training\n",
      "epoch: 00, loss: -0.39478\n",
      "epoch: 01, loss: -0.39882\n",
      "epoch: 02, loss: -0.40136\n",
      "epoch: 03, loss: -0.40330\n",
      "epoch: 04, loss: -0.40506\n",
      "epoch: 05, loss: -0.40685\n",
      "epoch: 06, loss: -0.40818\n",
      "epoch: 07, loss: -0.40970\n",
      "epoch: 08, loss: -0.41078\n",
      "epoch: 09, loss: -0.41174\n"
     ]
    },
    {
     "name": "stderr",
     "output_type": "stream",
     "text": [
      " 41%|████      | 407/1000 [2:36:13<3:20:45, 20.31s/it]"
     ]
    },
    {
     "name": "stdout",
     "output_type": "stream",
     "text": [
      "eigenvalues shape torch.Size([5]) eigenvectors shape torch.Size([5, 400])\n",
      "407 /home/phdcs2/Hard_Disk/Datasets/Deep-Spectral-Segmentation/data/object-segmentation/ECSSD/features/dino_vits16/0408.pth\n",
      "0408\n",
      "Starting Training\n",
      "epoch: 00, loss: -0.38177\n",
      "epoch: 01, loss: -0.38955\n",
      "epoch: 02, loss: -0.39698\n",
      "epoch: 03, loss: -0.40249\n",
      "epoch: 04, loss: -0.40751\n",
      "epoch: 05, loss: -0.41392\n",
      "epoch: 06, loss: -0.41968\n",
      "epoch: 07, loss: -0.42516\n",
      "epoch: 08, loss: -0.43104\n",
      "epoch: 09, loss: -0.43487\n"
     ]
    },
    {
     "name": "stderr",
     "output_type": "stream",
     "text": [
      " 41%|████      | 408/1000 [2:36:34<3:22:57, 20.57s/it]"
     ]
    },
    {
     "name": "stdout",
     "output_type": "stream",
     "text": [
      "eigenvalues shape torch.Size([5]) eigenvectors shape torch.Size([5, 400])\n",
      "408 /home/phdcs2/Hard_Disk/Datasets/Deep-Spectral-Segmentation/data/object-segmentation/ECSSD/features/dino_vits16/0409.pth\n",
      "0409\n",
      "Starting Training\n",
      "epoch: 00, loss: -0.37085\n",
      "epoch: 01, loss: -0.38022\n",
      "epoch: 02, loss: -0.38397\n",
      "epoch: 03, loss: -0.38776\n",
      "epoch: 04, loss: -0.38986\n",
      "epoch: 05, loss: -0.39239\n",
      "epoch: 06, loss: -0.39417\n",
      "epoch: 07, loss: -0.39517\n",
      "epoch: 08, loss: -0.39821\n",
      "epoch: 09, loss: -0.39799\n"
     ]
    },
    {
     "name": "stderr",
     "output_type": "stream",
     "text": [
      " 41%|████      | 409/1000 [2:37:02<3:42:38, 22.60s/it]"
     ]
    },
    {
     "name": "stdout",
     "output_type": "stream",
     "text": [
      "eigenvalues shape torch.Size([5]) eigenvectors shape torch.Size([5, 450])\n",
      "409 /home/phdcs2/Hard_Disk/Datasets/Deep-Spectral-Segmentation/data/object-segmentation/ECSSD/features/dino_vits16/0410.pth\n",
      "0410\n",
      "Starting Training\n",
      "epoch: 00, loss: -0.42120\n",
      "epoch: 01, loss: -0.44215\n",
      "epoch: 02, loss: -0.44359\n",
      "epoch: 03, loss: -0.44388\n",
      "epoch: 04, loss: -0.44523\n",
      "epoch: 05, loss: -0.44471\n",
      "epoch: 06, loss: -0.44451\n",
      "epoch: 07, loss: -0.44598\n",
      "epoch: 08, loss: -0.44619\n",
      "epoch: 09, loss: -0.44587\n"
     ]
    },
    {
     "name": "stderr",
     "output_type": "stream",
     "text": [
      " 41%|████      | 410/1000 [2:37:19<3:28:14, 21.18s/it]"
     ]
    },
    {
     "name": "stdout",
     "output_type": "stream",
     "text": [
      "eigenvalues shape torch.Size([5]) eigenvectors shape torch.Size([5, 325])\n",
      "410 /home/phdcs2/Hard_Disk/Datasets/Deep-Spectral-Segmentation/data/object-segmentation/ECSSD/features/dino_vits16/0411.pth\n",
      "0411\n",
      "Starting Training\n",
      "epoch: 00, loss: -0.43528\n",
      "epoch: 01, loss: -0.44003\n",
      "epoch: 02, loss: -0.44270\n",
      "epoch: 03, loss: -0.44508\n",
      "epoch: 04, loss: -0.44693\n",
      "epoch: 05, loss: -0.44975\n",
      "epoch: 06, loss: -0.45084\n",
      "epoch: 07, loss: -0.45221\n",
      "epoch: 08, loss: -0.45322\n",
      "epoch: 09, loss: -0.45537\n"
     ]
    },
    {
     "name": "stderr",
     "output_type": "stream",
     "text": [
      " 41%|████      | 411/1000 [2:37:41<3:28:22, 21.23s/it]"
     ]
    },
    {
     "name": "stdout",
     "output_type": "stream",
     "text": [
      "eigenvalues shape torch.Size([5]) eigenvectors shape torch.Size([5, 450])\n",
      "411 /home/phdcs2/Hard_Disk/Datasets/Deep-Spectral-Segmentation/data/object-segmentation/ECSSD/features/dino_vits16/0412.pth\n",
      "0412\n",
      "Starting Training\n",
      "epoch: 00, loss: -0.62666\n",
      "epoch: 01, loss: -0.65799\n",
      "epoch: 02, loss: -0.66098\n",
      "epoch: 03, loss: -0.66332\n",
      "epoch: 04, loss: -0.66476\n",
      "epoch: 05, loss: -0.66582\n",
      "epoch: 06, loss: -0.66706\n",
      "epoch: 07, loss: -0.66774\n",
      "epoch: 08, loss: -0.66806\n",
      "epoch: 09, loss: -0.66869\n"
     ]
    },
    {
     "name": "stderr",
     "output_type": "stream",
     "text": [
      " 41%|████      | 412/1000 [2:38:03<3:30:17, 21.46s/it]"
     ]
    },
    {
     "name": "stdout",
     "output_type": "stream",
     "text": [
      "eigenvalues shape torch.Size([5]) eigenvectors shape torch.Size([5, 450])\n",
      "412 /home/phdcs2/Hard_Disk/Datasets/Deep-Spectral-Segmentation/data/object-segmentation/ECSSD/features/dino_vits16/0413.pth\n",
      "0413\n",
      "Starting Training\n",
      "epoch: 00, loss: -0.62484\n",
      "epoch: 01, loss: -0.66151\n",
      "epoch: 02, loss: -0.66485\n",
      "epoch: 03, loss: -0.66708\n",
      "epoch: 04, loss: -0.66894\n",
      "epoch: 05, loss: -0.67028\n",
      "epoch: 06, loss: -0.67160\n",
      "epoch: 07, loss: -0.67282\n",
      "epoch: 08, loss: -0.67374\n",
      "epoch: 09, loss: -0.67468\n"
     ]
    },
    {
     "name": "stderr",
     "output_type": "stream",
     "text": [
      " 41%|████▏     | 413/1000 [2:38:26<3:35:38, 22.04s/it]"
     ]
    },
    {
     "name": "stdout",
     "output_type": "stream",
     "text": [
      "eigenvalues shape torch.Size([5]) eigenvectors shape torch.Size([5, 450])\n",
      "413 /home/phdcs2/Hard_Disk/Datasets/Deep-Spectral-Segmentation/data/object-segmentation/ECSSD/features/dino_vits16/0414.pth\n",
      "0414\n",
      "Starting Training\n",
      "epoch: 00, loss: -0.40002\n",
      "epoch: 01, loss: -0.41220\n",
      "epoch: 02, loss: -0.41427\n",
      "epoch: 03, loss: -0.41590\n",
      "epoch: 04, loss: -0.41743\n",
      "epoch: 05, loss: -0.41939\n",
      "epoch: 06, loss: -0.41945\n",
      "epoch: 07, loss: -0.42009\n",
      "epoch: 08, loss: -0.42141\n",
      "epoch: 09, loss: -0.42185\n"
     ]
    },
    {
     "name": "stderr",
     "output_type": "stream",
     "text": [
      " 41%|████▏     | 414/1000 [2:38:48<3:34:58, 22.01s/it]"
     ]
    },
    {
     "name": "stdout",
     "output_type": "stream",
     "text": [
      "eigenvalues shape torch.Size([5]) eigenvectors shape torch.Size([5, 450])\n",
      "414 /home/phdcs2/Hard_Disk/Datasets/Deep-Spectral-Segmentation/data/object-segmentation/ECSSD/features/dino_vits16/0415.pth\n",
      "0415\n",
      "Starting Training\n",
      "epoch: 00, loss: -0.38533\n",
      "epoch: 01, loss: -0.39385\n",
      "epoch: 02, loss: -0.39399\n",
      "epoch: 03, loss: -0.39628\n",
      "epoch: 04, loss: -0.39827\n",
      "epoch: 05, loss: -0.40044\n",
      "epoch: 06, loss: -0.40175\n",
      "epoch: 07, loss: -0.40386\n",
      "epoch: 08, loss: -0.40589\n",
      "epoch: 09, loss: -0.40743\n"
     ]
    },
    {
     "name": "stderr",
     "output_type": "stream",
     "text": [
      " 42%|████▏     | 415/1000 [2:39:09<3:31:51, 21.73s/it]"
     ]
    },
    {
     "name": "stdout",
     "output_type": "stream",
     "text": [
      "eigenvalues shape torch.Size([5]) eigenvectors shape torch.Size([5, 450])\n",
      "415 /home/phdcs2/Hard_Disk/Datasets/Deep-Spectral-Segmentation/data/object-segmentation/ECSSD/features/dino_vits16/0416.pth\n",
      "0416\n",
      "Starting Training\n",
      "epoch: 00, loss: -0.43586\n",
      "epoch: 01, loss: -0.44394\n",
      "epoch: 02, loss: -0.45066\n",
      "epoch: 03, loss: -0.45632\n",
      "epoch: 04, loss: -0.46212\n",
      "epoch: 05, loss: -0.46858\n",
      "epoch: 06, loss: -0.47370\n",
      "epoch: 07, loss: -0.47968\n",
      "epoch: 08, loss: -0.48449\n",
      "epoch: 09, loss: -0.49063\n"
     ]
    },
    {
     "name": "stderr",
     "output_type": "stream",
     "text": [
      " 42%|████▏     | 416/1000 [2:39:32<3:34:11, 22.01s/it]"
     ]
    },
    {
     "name": "stdout",
     "output_type": "stream",
     "text": [
      "eigenvalues shape torch.Size([5]) eigenvectors shape torch.Size([5, 450])\n",
      "416 /home/phdcs2/Hard_Disk/Datasets/Deep-Spectral-Segmentation/data/object-segmentation/ECSSD/features/dino_vits16/0417.pth\n",
      "0417\n",
      "Starting Training\n",
      "epoch: 00, loss: -0.35541\n",
      "epoch: 01, loss: -0.35069\n",
      "epoch: 02, loss: -0.35333\n",
      "epoch: 03, loss: -0.35432\n",
      "epoch: 04, loss: -0.35621\n",
      "epoch: 05, loss: -0.35869\n",
      "epoch: 06, loss: -0.36052\n",
      "epoch: 07, loss: -0.36255\n",
      "epoch: 08, loss: -0.36320\n",
      "epoch: 09, loss: -0.36422\n"
     ]
    },
    {
     "name": "stderr",
     "output_type": "stream",
     "text": [
      " 42%|████▏     | 417/1000 [2:39:56<3:40:00, 22.64s/it]"
     ]
    },
    {
     "name": "stdout",
     "output_type": "stream",
     "text": [
      "eigenvalues shape torch.Size([5]) eigenvectors shape torch.Size([5, 450])\n",
      "417 /home/phdcs2/Hard_Disk/Datasets/Deep-Spectral-Segmentation/data/object-segmentation/ECSSD/features/dino_vits16/0418.pth\n",
      "0418\n",
      "Starting Training\n",
      "epoch: 00, loss: -0.37958\n",
      "epoch: 01, loss: -0.38528\n",
      "epoch: 02, loss: -0.38475\n",
      "epoch: 03, loss: -0.38682\n",
      "epoch: 04, loss: -0.38800\n",
      "epoch: 05, loss: -0.38902\n",
      "epoch: 06, loss: -0.39105\n",
      "epoch: 07, loss: -0.39146\n",
      "epoch: 08, loss: -0.39279\n",
      "epoch: 09, loss: -0.39541\n"
     ]
    },
    {
     "name": "stderr",
     "output_type": "stream",
     "text": [
      " 42%|████▏     | 418/1000 [2:40:18<3:36:45, 22.35s/it]"
     ]
    },
    {
     "name": "stdout",
     "output_type": "stream",
     "text": [
      "eigenvalues shape torch.Size([5]) eigenvectors shape torch.Size([5, 450])\n",
      "418 /home/phdcs2/Hard_Disk/Datasets/Deep-Spectral-Segmentation/data/object-segmentation/ECSSD/features/dino_vits16/0419.pth\n",
      "0419\n",
      "Starting Training\n",
      "epoch: 00, loss: -0.39395\n",
      "epoch: 01, loss: -0.40738\n",
      "epoch: 02, loss: -0.40950\n",
      "epoch: 03, loss: -0.41134\n",
      "epoch: 04, loss: -0.41245\n",
      "epoch: 05, loss: -0.41395\n",
      "epoch: 06, loss: -0.41517\n",
      "epoch: 07, loss: -0.41608\n",
      "epoch: 08, loss: -0.41700\n",
      "epoch: 09, loss: -0.41737\n"
     ]
    },
    {
     "name": "stderr",
     "output_type": "stream",
     "text": [
      " 42%|████▏     | 419/1000 [2:40:36<3:26:14, 21.30s/it]"
     ]
    },
    {
     "name": "stdout",
     "output_type": "stream",
     "text": [
      "eigenvalues shape torch.Size([5]) eigenvectors shape torch.Size([5, 450])\n",
      "419 /home/phdcs2/Hard_Disk/Datasets/Deep-Spectral-Segmentation/data/object-segmentation/ECSSD/features/dino_vits16/0420.pth\n",
      "0420\n",
      "Starting Training\n",
      "epoch: 00, loss: -0.39839\n",
      "epoch: 01, loss: -0.41263\n",
      "epoch: 02, loss: -0.41287\n",
      "epoch: 03, loss: -0.41713\n",
      "epoch: 04, loss: -0.42053\n",
      "epoch: 05, loss: -0.42413\n",
      "epoch: 06, loss: -0.42666\n",
      "epoch: 07, loss: -0.42810\n",
      "epoch: 08, loss: -0.43015\n",
      "epoch: 09, loss: -0.43158\n"
     ]
    },
    {
     "name": "stderr",
     "output_type": "stream",
     "text": [
      " 42%|████▏     | 420/1000 [2:41:06<3:48:58, 23.69s/it]"
     ]
    },
    {
     "name": "stdout",
     "output_type": "stream",
     "text": [
      "eigenvalues shape torch.Size([5]) eigenvectors shape torch.Size([5, 575])\n",
      "420 /home/phdcs2/Hard_Disk/Datasets/Deep-Spectral-Segmentation/data/object-segmentation/ECSSD/features/dino_vits16/0421.pth\n",
      "0421\n",
      "Starting Training\n",
      "epoch: 00, loss: -0.37873\n",
      "epoch: 01, loss: -0.38375\n",
      "epoch: 02, loss: -0.39201\n",
      "epoch: 03, loss: -0.40183\n",
      "epoch: 04, loss: -0.41270\n",
      "epoch: 05, loss: -0.42306\n",
      "epoch: 06, loss: -0.43426\n",
      "epoch: 07, loss: -0.44389\n",
      "epoch: 08, loss: -0.45423\n",
      "epoch: 09, loss: -0.46015\n"
     ]
    },
    {
     "name": "stderr",
     "output_type": "stream",
     "text": [
      " 42%|████▏     | 421/1000 [2:41:31<3:53:33, 24.20s/it]"
     ]
    },
    {
     "name": "stdout",
     "output_type": "stream",
     "text": [
      "eigenvalues shape torch.Size([5]) eigenvectors shape torch.Size([5, 525])\n",
      "421 /home/phdcs2/Hard_Disk/Datasets/Deep-Spectral-Segmentation/data/object-segmentation/ECSSD/features/dino_vits16/0422.pth\n",
      "0422\n",
      "Starting Training\n",
      "epoch: 00, loss: -0.39322\n",
      "epoch: 01, loss: -0.39691\n",
      "epoch: 02, loss: -0.39693\n",
      "epoch: 03, loss: -0.39836\n",
      "epoch: 04, loss: -0.39976\n",
      "epoch: 05, loss: -0.40155\n",
      "epoch: 06, loss: -0.40234\n",
      "epoch: 07, loss: -0.40312\n",
      "epoch: 08, loss: -0.40369\n",
      "epoch: 09, loss: -0.40447\n"
     ]
    },
    {
     "name": "stderr",
     "output_type": "stream",
     "text": [
      " 42%|████▏     | 422/1000 [2:41:54<3:48:03, 23.67s/it]"
     ]
    },
    {
     "name": "stdout",
     "output_type": "stream",
     "text": [
      "eigenvalues shape torch.Size([5]) eigenvectors shape torch.Size([5, 450])\n",
      "422 /home/phdcs2/Hard_Disk/Datasets/Deep-Spectral-Segmentation/data/object-segmentation/ECSSD/features/dino_vits16/0423.pth\n",
      "0423\n",
      "Starting Training\n",
      "epoch: 00, loss: -0.40740\n",
      "epoch: 01, loss: -0.42321\n",
      "epoch: 02, loss: -0.42584\n",
      "epoch: 03, loss: -0.42542\n",
      "epoch: 04, loss: -0.42483\n",
      "epoch: 05, loss: -0.42443\n",
      "epoch: 06, loss: -0.42428\n",
      "epoch: 07, loss: -0.42314\n",
      "epoch: 08, loss: -0.42207\n",
      "epoch: 09, loss: -0.42046\n"
     ]
    },
    {
     "name": "stderr",
     "output_type": "stream",
     "text": [
      " 42%|████▏     | 423/1000 [2:42:17<3:46:03, 23.51s/it]"
     ]
    },
    {
     "name": "stdout",
     "output_type": "stream",
     "text": [
      "eigenvalues shape torch.Size([5]) eigenvectors shape torch.Size([5, 425])\n",
      "423 /home/phdcs2/Hard_Disk/Datasets/Deep-Spectral-Segmentation/data/object-segmentation/ECSSD/features/dino_vits16/0424.pth\n",
      "0424\n",
      "Starting Training\n",
      "epoch: 00, loss: -0.36908\n",
      "epoch: 01, loss: -0.37579\n",
      "epoch: 02, loss: -0.38132\n",
      "epoch: 03, loss: -0.38597\n",
      "epoch: 04, loss: -0.38840\n",
      "epoch: 05, loss: -0.39142\n",
      "epoch: 06, loss: -0.39336\n",
      "epoch: 07, loss: -0.39523\n",
      "epoch: 08, loss: -0.39700\n",
      "epoch: 09, loss: -0.39822\n"
     ]
    },
    {
     "name": "stderr",
     "output_type": "stream",
     "text": [
      " 42%|████▏     | 424/1000 [2:42:47<4:06:49, 25.71s/it]"
     ]
    },
    {
     "name": "stdout",
     "output_type": "stream",
     "text": [
      "eigenvalues shape torch.Size([5]) eigenvectors shape torch.Size([5, 550])\n",
      "424 /home/phdcs2/Hard_Disk/Datasets/Deep-Spectral-Segmentation/data/object-segmentation/ECSSD/features/dino_vits16/0425.pth\n",
      "0425\n",
      "Starting Training\n",
      "epoch: 00, loss: -0.54218\n",
      "epoch: 01, loss: -0.55466\n",
      "epoch: 02, loss: -0.55953\n",
      "epoch: 03, loss: -0.56318\n",
      "epoch: 04, loss: -0.56656\n",
      "epoch: 05, loss: -0.56991\n",
      "epoch: 06, loss: -0.57265\n",
      "epoch: 07, loss: -0.57503\n",
      "epoch: 08, loss: -0.57739\n",
      "epoch: 09, loss: -0.57965\n"
     ]
    },
    {
     "name": "stderr",
     "output_type": "stream",
     "text": [
      " 42%|████▎     | 425/1000 [2:43:10<3:57:47, 24.81s/it]"
     ]
    },
    {
     "name": "stdout",
     "output_type": "stream",
     "text": [
      "eigenvalues shape torch.Size([5]) eigenvectors shape torch.Size([5, 475])\n",
      "425 /home/phdcs2/Hard_Disk/Datasets/Deep-Spectral-Segmentation/data/object-segmentation/ECSSD/features/dino_vits16/0426.pth\n",
      "0426\n",
      "Starting Training\n",
      "epoch: 00, loss: -0.34715\n",
      "epoch: 01, loss: -0.35104\n",
      "epoch: 02, loss: -0.35767\n",
      "epoch: 03, loss: -0.36607\n",
      "epoch: 04, loss: -0.37820\n",
      "epoch: 05, loss: -0.38973\n",
      "epoch: 06, loss: -0.39796\n",
      "epoch: 07, loss: -0.40617\n",
      "epoch: 08, loss: -0.41250\n",
      "epoch: 09, loss: -0.41779\n"
     ]
    },
    {
     "name": "stderr",
     "output_type": "stream",
     "text": [
      " 43%|████▎     | 426/1000 [2:43:35<3:55:51, 24.65s/it]"
     ]
    },
    {
     "name": "stdout",
     "output_type": "stream",
     "text": [
      "eigenvalues shape torch.Size([5]) eigenvectors shape torch.Size([5, 500])\n",
      "426 /home/phdcs2/Hard_Disk/Datasets/Deep-Spectral-Segmentation/data/object-segmentation/ECSSD/features/dino_vits16/0427.pth\n",
      "0427\n",
      "Starting Training\n",
      "epoch: 00, loss: -0.41113\n",
      "epoch: 01, loss: -0.42534\n",
      "epoch: 02, loss: -0.42793\n",
      "epoch: 03, loss: -0.42963\n",
      "epoch: 04, loss: -0.43240\n",
      "epoch: 05, loss: -0.43484\n",
      "epoch: 06, loss: -0.43742\n",
      "epoch: 07, loss: -0.43958\n",
      "epoch: 08, loss: -0.44008\n",
      "epoch: 09, loss: -0.44015\n"
     ]
    },
    {
     "name": "stderr",
     "output_type": "stream",
     "text": [
      " 43%|████▎     | 427/1000 [2:43:58<3:50:49, 24.17s/it]"
     ]
    },
    {
     "name": "stdout",
     "output_type": "stream",
     "text": [
      "eigenvalues shape torch.Size([5]) eigenvectors shape torch.Size([5, 450])\n",
      "427 /home/phdcs2/Hard_Disk/Datasets/Deep-Spectral-Segmentation/data/object-segmentation/ECSSD/features/dino_vits16/0428.pth\n",
      "0428\n",
      "Starting Training\n",
      "epoch: 00, loss: -0.39942\n",
      "epoch: 01, loss: -0.39450\n",
      "epoch: 02, loss: -0.39174\n",
      "epoch: 03, loss: -0.39123\n",
      "epoch: 04, loss: -0.39061\n",
      "epoch: 05, loss: -0.38891\n",
      "epoch: 06, loss: -0.38880\n",
      "epoch: 07, loss: -0.38810\n",
      "epoch: 08, loss: -0.38772\n",
      "epoch: 09, loss: -0.38729\n"
     ]
    },
    {
     "name": "stderr",
     "output_type": "stream",
     "text": [
      " 43%|████▎     | 428/1000 [2:44:21<3:47:58, 23.91s/it]"
     ]
    },
    {
     "name": "stdout",
     "output_type": "stream",
     "text": [
      "eigenvalues shape torch.Size([5]) eigenvectors shape torch.Size([5, 400])\n",
      "428 /home/phdcs2/Hard_Disk/Datasets/Deep-Spectral-Segmentation/data/object-segmentation/ECSSD/features/dino_vits16/0429.pth\n",
      "0429\n",
      "Starting Training\n",
      "epoch: 00, loss: -0.39695\n",
      "epoch: 01, loss: -0.40474\n",
      "epoch: 02, loss: -0.40365\n",
      "epoch: 03, loss: -0.40419\n",
      "epoch: 04, loss: -0.40486\n",
      "epoch: 05, loss: -0.40684\n",
      "epoch: 06, loss: -0.40923\n",
      "epoch: 07, loss: -0.41220\n",
      "epoch: 08, loss: -0.41350\n",
      "epoch: 09, loss: -0.41601\n"
     ]
    },
    {
     "name": "stderr",
     "output_type": "stream",
     "text": [
      " 43%|████▎     | 429/1000 [2:44:41<3:37:45, 22.88s/it]"
     ]
    },
    {
     "name": "stdout",
     "output_type": "stream",
     "text": [
      "eigenvalues shape torch.Size([5]) eigenvectors shape torch.Size([5, 375])\n",
      "429 /home/phdcs2/Hard_Disk/Datasets/Deep-Spectral-Segmentation/data/object-segmentation/ECSSD/features/dino_vits16/0430.pth\n",
      "0430\n",
      "Starting Training\n",
      "epoch: 00, loss: -0.40730\n",
      "epoch: 01, loss: -0.39305\n",
      "epoch: 02, loss: -0.39632\n",
      "epoch: 03, loss: -0.39899\n",
      "epoch: 04, loss: -0.40239\n",
      "epoch: 05, loss: -0.40486\n",
      "epoch: 06, loss: -0.40705\n",
      "epoch: 07, loss: -0.40949\n",
      "epoch: 08, loss: -0.41161\n",
      "epoch: 09, loss: -0.41421\n"
     ]
    },
    {
     "name": "stderr",
     "output_type": "stream",
     "text": [
      " 43%|████▎     | 430/1000 [2:45:09<3:50:27, 24.26s/it]"
     ]
    },
    {
     "name": "stdout",
     "output_type": "stream",
     "text": [
      "eigenvalues shape torch.Size([5]) eigenvectors shape torch.Size([5, 500])\n",
      "430 /home/phdcs2/Hard_Disk/Datasets/Deep-Spectral-Segmentation/data/object-segmentation/ECSSD/features/dino_vits16/0431.pth\n",
      "0431\n",
      "Starting Training\n",
      "epoch: 00, loss: -0.35727\n",
      "epoch: 01, loss: -0.34586\n",
      "epoch: 02, loss: -0.34800\n",
      "epoch: 03, loss: -0.35017\n",
      "epoch: 04, loss: -0.35160\n",
      "epoch: 05, loss: -0.35337\n",
      "epoch: 06, loss: -0.35424\n",
      "epoch: 07, loss: -0.35561\n",
      "epoch: 08, loss: -0.35712\n",
      "epoch: 09, loss: -0.35833\n"
     ]
    },
    {
     "name": "stderr",
     "output_type": "stream",
     "text": [
      " 43%|████▎     | 431/1000 [2:45:31<3:45:27, 23.77s/it]"
     ]
    },
    {
     "name": "stdout",
     "output_type": "stream",
     "text": [
      "eigenvalues shape torch.Size([5]) eigenvectors shape torch.Size([5, 400])\n",
      "431 /home/phdcs2/Hard_Disk/Datasets/Deep-Spectral-Segmentation/data/object-segmentation/ECSSD/features/dino_vits16/0432.pth\n",
      "0432\n",
      "Starting Training\n",
      "epoch: 00, loss: -0.38255\n",
      "epoch: 01, loss: -0.39106\n",
      "epoch: 02, loss: -0.39793\n",
      "epoch: 03, loss: -0.40234\n",
      "epoch: 04, loss: -0.40590\n",
      "epoch: 05, loss: -0.41017\n",
      "epoch: 06, loss: -0.41435\n",
      "epoch: 07, loss: -0.41771\n",
      "epoch: 08, loss: -0.42145\n",
      "epoch: 09, loss: -0.42414\n"
     ]
    },
    {
     "name": "stderr",
     "output_type": "stream",
     "text": [
      " 43%|████▎     | 432/1000 [2:45:56<3:48:25, 24.13s/it]"
     ]
    },
    {
     "name": "stdout",
     "output_type": "stream",
     "text": [
      "eigenvalues shape torch.Size([5]) eigenvectors shape torch.Size([5, 425])\n",
      "432 /home/phdcs2/Hard_Disk/Datasets/Deep-Spectral-Segmentation/data/object-segmentation/ECSSD/features/dino_vits16/0433.pth\n",
      "0433\n",
      "Starting Training\n",
      "epoch: 00, loss: -0.36927\n",
      "epoch: 01, loss: -0.37953\n",
      "epoch: 02, loss: -0.38483\n",
      "epoch: 03, loss: -0.39052\n",
      "epoch: 04, loss: -0.39745\n",
      "epoch: 05, loss: -0.40397\n",
      "epoch: 06, loss: -0.41212\n",
      "epoch: 07, loss: -0.41914\n",
      "epoch: 08, loss: -0.42860\n",
      "epoch: 09, loss: -0.43624\n"
     ]
    },
    {
     "name": "stderr",
     "output_type": "stream",
     "text": [
      " 43%|████▎     | 433/1000 [2:46:22<3:52:47, 24.63s/it]"
     ]
    },
    {
     "name": "stdout",
     "output_type": "stream",
     "text": [
      "eigenvalues shape torch.Size([5]) eigenvectors shape torch.Size([5, 475])\n",
      "433 /home/phdcs2/Hard_Disk/Datasets/Deep-Spectral-Segmentation/data/object-segmentation/ECSSD/features/dino_vits16/0434.pth\n",
      "0434\n",
      "Starting Training\n",
      "epoch: 00, loss: -0.38080\n",
      "epoch: 01, loss: -0.38139\n",
      "epoch: 02, loss: -0.38061\n",
      "epoch: 03, loss: -0.38016\n",
      "epoch: 04, loss: -0.37905\n",
      "epoch: 05, loss: -0.37881\n",
      "epoch: 06, loss: -0.37870\n",
      "epoch: 07, loss: -0.37924\n",
      "epoch: 08, loss: -0.37944\n",
      "epoch: 09, loss: -0.38073\n"
     ]
    },
    {
     "name": "stderr",
     "output_type": "stream",
     "text": [
      " 43%|████▎     | 434/1000 [2:46:42<3:39:26, 23.26s/it]"
     ]
    },
    {
     "name": "stdout",
     "output_type": "stream",
     "text": [
      "eigenvalues shape torch.Size([5]) eigenvectors shape torch.Size([5, 450])\n",
      "434 /home/phdcs2/Hard_Disk/Datasets/Deep-Spectral-Segmentation/data/object-segmentation/ECSSD/features/dino_vits16/0435.pth\n",
      "0435\n",
      "Starting Training\n",
      "epoch: 00, loss: -0.39416\n",
      "epoch: 01, loss: -0.40003\n",
      "epoch: 02, loss: -0.40126\n",
      "epoch: 03, loss: -0.40116\n",
      "epoch: 04, loss: -0.40212\n",
      "epoch: 05, loss: -0.40335\n",
      "epoch: 06, loss: -0.40409\n",
      "epoch: 07, loss: -0.40354\n",
      "epoch: 08, loss: -0.40706\n",
      "epoch: 09, loss: -0.41116\n"
     ]
    },
    {
     "name": "stderr",
     "output_type": "stream",
     "text": [
      " 44%|████▎     | 435/1000 [2:47:04<3:33:25, 22.66s/it]"
     ]
    },
    {
     "name": "stdout",
     "output_type": "stream",
     "text": [
      "eigenvalues shape torch.Size([5]) eigenvectors shape torch.Size([5, 450])\n",
      "435 /home/phdcs2/Hard_Disk/Datasets/Deep-Spectral-Segmentation/data/object-segmentation/ECSSD/features/dino_vits16/0436.pth\n",
      "0436\n",
      "Starting Training\n",
      "epoch: 00, loss: -0.40258\n",
      "epoch: 01, loss: -0.43120\n",
      "epoch: 02, loss: -0.45107\n",
      "epoch: 03, loss: -0.46256\n",
      "epoch: 04, loss: -0.46754\n",
      "epoch: 05, loss: -0.47169\n",
      "epoch: 06, loss: -0.47641\n",
      "epoch: 07, loss: -0.47932\n",
      "epoch: 08, loss: -0.48278\n",
      "epoch: 09, loss: -0.48635\n"
     ]
    },
    {
     "name": "stderr",
     "output_type": "stream",
     "text": [
      " 44%|████▎     | 436/1000 [2:47:30<3:43:05, 23.73s/it]"
     ]
    },
    {
     "name": "stdout",
     "output_type": "stream",
     "text": [
      "eigenvalues shape torch.Size([5]) eigenvectors shape torch.Size([5, 475])\n",
      "436 /home/phdcs2/Hard_Disk/Datasets/Deep-Spectral-Segmentation/data/object-segmentation/ECSSD/features/dino_vits16/0437.pth\n",
      "0437\n",
      "Starting Training\n",
      "epoch: 00, loss: -0.37575\n",
      "epoch: 01, loss: -0.37252\n",
      "epoch: 02, loss: -0.37472\n",
      "epoch: 03, loss: -0.37838\n",
      "epoch: 04, loss: -0.38150\n",
      "epoch: 05, loss: -0.38376\n",
      "epoch: 06, loss: -0.38728\n",
      "epoch: 07, loss: -0.38993\n",
      "epoch: 08, loss: -0.39232\n",
      "epoch: 09, loss: -0.39488\n"
     ]
    },
    {
     "name": "stderr",
     "output_type": "stream",
     "text": [
      " 44%|████▎     | 437/1000 [2:47:54<3:44:17, 23.90s/it]"
     ]
    },
    {
     "name": "stdout",
     "output_type": "stream",
     "text": [
      "eigenvalues shape torch.Size([5]) eigenvectors shape torch.Size([5, 450])\n",
      "437 /home/phdcs2/Hard_Disk/Datasets/Deep-Spectral-Segmentation/data/object-segmentation/ECSSD/features/dino_vits16/0438.pth\n",
      "0438\n",
      "Starting Training\n",
      "epoch: 00, loss: -0.49790\n",
      "epoch: 01, loss: -0.52699\n",
      "epoch: 02, loss: -0.53792\n",
      "epoch: 03, loss: -0.54833\n",
      "epoch: 04, loss: -0.55479\n",
      "epoch: 05, loss: -0.56031\n",
      "epoch: 06, loss: -0.56465\n",
      "epoch: 07, loss: -0.56977\n",
      "epoch: 08, loss: -0.57416\n",
      "epoch: 09, loss: -0.57865\n"
     ]
    },
    {
     "name": "stderr",
     "output_type": "stream",
     "text": [
      " 44%|████▍     | 438/1000 [2:48:20<3:50:37, 24.62s/it]"
     ]
    },
    {
     "name": "stdout",
     "output_type": "stream",
     "text": [
      "eigenvalues shape torch.Size([5]) eigenvectors shape torch.Size([5, 450])\n",
      "438 /home/phdcs2/Hard_Disk/Datasets/Deep-Spectral-Segmentation/data/object-segmentation/ECSSD/features/dino_vits16/0439.pth\n",
      "0439\n",
      "Starting Training\n",
      "epoch: 00, loss: -0.89134\n",
      "epoch: 01, loss: -0.99919\n",
      "epoch: 02, loss: -0.99919\n",
      "epoch: 03, loss: -0.99918\n",
      "epoch: 04, loss: -0.99920\n",
      "epoch: 05, loss: -0.99920\n",
      "epoch: 06, loss: -0.99920\n",
      "epoch: 07, loss: -0.99921\n",
      "epoch: 08, loss: -0.99917\n",
      "epoch: 09, loss: -0.99919\n"
     ]
    },
    {
     "name": "stderr",
     "output_type": "stream",
     "text": [
      " 44%|████▍     | 439/1000 [2:48:49<4:01:10, 25.79s/it]"
     ]
    },
    {
     "name": "stdout",
     "output_type": "stream",
     "text": [
      "eigenvalues shape torch.Size([5]) eigenvectors shape torch.Size([5, 575])\n",
      "439 /home/phdcs2/Hard_Disk/Datasets/Deep-Spectral-Segmentation/data/object-segmentation/ECSSD/features/dino_vits16/0440.pth\n",
      "0440\n",
      "Starting Training\n",
      "epoch: 00, loss: -0.40544\n",
      "epoch: 01, loss: -0.41858\n",
      "epoch: 02, loss: -0.41856\n",
      "epoch: 03, loss: -0.41993\n",
      "epoch: 04, loss: -0.42091\n",
      "epoch: 05, loss: -0.42255\n",
      "epoch: 06, loss: -0.42312\n",
      "epoch: 07, loss: -0.42393\n",
      "epoch: 08, loss: -0.42381\n",
      "epoch: 09, loss: -0.42357\n"
     ]
    },
    {
     "name": "stderr",
     "output_type": "stream",
     "text": [
      " 44%|████▍     | 440/1000 [2:49:10<3:47:02, 24.33s/it]"
     ]
    },
    {
     "name": "stdout",
     "output_type": "stream",
     "text": [
      "eigenvalues shape torch.Size([5]) eigenvectors shape torch.Size([5, 450])\n",
      "440 /home/phdcs2/Hard_Disk/Datasets/Deep-Spectral-Segmentation/data/object-segmentation/ECSSD/features/dino_vits16/0441.pth\n",
      "0441\n",
      "Starting Training\n",
      "epoch: 00, loss: -0.46155\n",
      "epoch: 01, loss: -0.46509\n",
      "epoch: 02, loss: -0.46694\n",
      "epoch: 03, loss: -0.46816\n",
      "epoch: 04, loss: -0.46804\n",
      "epoch: 05, loss: -0.46824\n",
      "epoch: 06, loss: -0.46863\n",
      "epoch: 07, loss: -0.46867\n",
      "epoch: 08, loss: -0.46921\n",
      "epoch: 09, loss: -0.46904\n",
      " ** On entry to SLASCL parameter number  4 had an illegal value\n",
      " ** On entry to SLASCL parameter number  4 had an illegal value\n"
     ]
    },
    {
     "name": "stderr",
     "output_type": "stream",
     "text": [
      " 44%|████▍     | 441/1000 [2:49:33<3:42:37, 23.90s/it]"
     ]
    },
    {
     "name": "stdout",
     "output_type": "stream",
     "text": [
      "eigenvalues shape torch.Size([5]) eigenvectors shape torch.Size([5, 450])\n",
      "441 /home/phdcs2/Hard_Disk/Datasets/Deep-Spectral-Segmentation/data/object-segmentation/ECSSD/features/dino_vits16/0442.pth\n",
      "0442\n",
      "Starting Training\n",
      "epoch: 00, loss: -0.39779\n",
      "epoch: 01, loss: -0.40488\n",
      "epoch: 02, loss: -0.40518\n",
      "epoch: 03, loss: -0.40423\n",
      "epoch: 04, loss: -0.40383\n",
      "epoch: 05, loss: -0.40318\n",
      "epoch: 06, loss: -0.40321\n",
      "epoch: 07, loss: -0.40375\n",
      "epoch: 08, loss: -0.40361\n",
      "epoch: 09, loss: -0.40383\n"
     ]
    },
    {
     "name": "stderr",
     "output_type": "stream",
     "text": [
      " 44%|████▍     | 442/1000 [2:49:54<3:33:58, 23.01s/it]"
     ]
    },
    {
     "name": "stdout",
     "output_type": "stream",
     "text": [
      "eigenvalues shape torch.Size([5]) eigenvectors shape torch.Size([5, 475])\n",
      "442 /home/phdcs2/Hard_Disk/Datasets/Deep-Spectral-Segmentation/data/object-segmentation/ECSSD/features/dino_vits16/0443.pth\n",
      "0443\n",
      "Starting Training\n",
      "epoch: 00, loss: -0.39316\n",
      "epoch: 01, loss: -0.39253\n",
      "epoch: 02, loss: -0.40268\n",
      "epoch: 03, loss: -0.41817\n",
      "epoch: 04, loss: -0.44127\n",
      "epoch: 05, loss: -0.46925\n",
      "epoch: 06, loss: -0.48776\n",
      "epoch: 07, loss: -0.50188\n",
      "epoch: 08, loss: -0.51152\n",
      "epoch: 09, loss: -0.51757\n"
     ]
    },
    {
     "name": "stderr",
     "output_type": "stream",
     "text": [
      " 44%|████▍     | 443/1000 [2:50:14<3:25:49, 22.17s/it]"
     ]
    },
    {
     "name": "stdout",
     "output_type": "stream",
     "text": [
      "eigenvalues shape torch.Size([5]) eigenvectors shape torch.Size([5, 450])\n",
      "443 /home/phdcs2/Hard_Disk/Datasets/Deep-Spectral-Segmentation/data/object-segmentation/ECSSD/features/dino_vits16/0444.pth\n",
      "0444\n",
      "Starting Training\n",
      "epoch: 00, loss: -0.40503\n",
      "epoch: 01, loss: -0.40993\n",
      "epoch: 02, loss: -0.41370\n",
      "epoch: 03, loss: -0.41797\n",
      "epoch: 04, loss: -0.42211\n",
      "epoch: 05, loss: -0.42523\n",
      "epoch: 06, loss: -0.42696\n",
      "epoch: 07, loss: -0.42955\n",
      "epoch: 08, loss: -0.43224\n",
      "epoch: 09, loss: -0.43477\n"
     ]
    },
    {
     "name": "stderr",
     "output_type": "stream",
     "text": [
      " 44%|████▍     | 444/1000 [2:50:35<3:23:16, 21.94s/it]"
     ]
    },
    {
     "name": "stdout",
     "output_type": "stream",
     "text": [
      "eigenvalues shape torch.Size([5]) eigenvectors shape torch.Size([5, 450])\n",
      "444 /home/phdcs2/Hard_Disk/Datasets/Deep-Spectral-Segmentation/data/object-segmentation/ECSSD/features/dino_vits16/0445.pth\n",
      "0445\n",
      "Starting Training\n",
      "epoch: 00, loss: -0.51739\n",
      "epoch: 01, loss: -0.53554\n",
      "epoch: 02, loss: -0.53549\n",
      "epoch: 03, loss: -0.53600\n",
      "epoch: 04, loss: -0.53660\n",
      "epoch: 05, loss: -0.53605\n",
      "epoch: 06, loss: -0.53598\n",
      "epoch: 07, loss: -0.53657\n",
      "epoch: 08, loss: -0.53733\n",
      "epoch: 09, loss: -0.53763\n"
     ]
    },
    {
     "name": "stderr",
     "output_type": "stream",
     "text": [
      " 44%|████▍     | 445/1000 [2:50:53<3:12:28, 20.81s/it]"
     ]
    },
    {
     "name": "stdout",
     "output_type": "stream",
     "text": [
      "eigenvalues shape torch.Size([5]) eigenvectors shape torch.Size([5, 400])\n",
      "445 /home/phdcs2/Hard_Disk/Datasets/Deep-Spectral-Segmentation/data/object-segmentation/ECSSD/features/dino_vits16/0446.pth\n",
      "0446\n",
      "Starting Training\n",
      "epoch: 00, loss: -0.57164\n",
      "epoch: 01, loss: -0.57843\n",
      "epoch: 02, loss: -0.58215\n",
      "epoch: 03, loss: -0.58622\n",
      "epoch: 04, loss: -0.58943\n",
      "epoch: 05, loss: -0.59253\n",
      "epoch: 06, loss: -0.59507\n",
      "epoch: 07, loss: -0.59722\n",
      "epoch: 08, loss: -0.59891\n",
      "epoch: 09, loss: -0.60123\n"
     ]
    },
    {
     "name": "stderr",
     "output_type": "stream",
     "text": [
      " 45%|████▍     | 446/1000 [2:51:12<3:06:51, 20.24s/it]"
     ]
    },
    {
     "name": "stdout",
     "output_type": "stream",
     "text": [
      "eigenvalues shape torch.Size([5]) eigenvectors shape torch.Size([5, 400])\n",
      "446 /home/phdcs2/Hard_Disk/Datasets/Deep-Spectral-Segmentation/data/object-segmentation/ECSSD/features/dino_vits16/0447.pth\n",
      "0447\n",
      "Starting Training\n",
      "epoch: 00, loss: -0.34427\n",
      "epoch: 01, loss: -0.35009\n",
      "epoch: 02, loss: -0.35276\n",
      "epoch: 03, loss: -0.35879\n",
      "epoch: 04, loss: -0.36810\n",
      "epoch: 05, loss: -0.38068\n",
      "epoch: 06, loss: -0.39582\n",
      "epoch: 07, loss: -0.40492\n",
      "epoch: 08, loss: -0.41317\n",
      "epoch: 09, loss: -0.41565\n"
     ]
    },
    {
     "name": "stderr",
     "output_type": "stream",
     "text": [
      " 45%|████▍     | 447/1000 [2:51:35<3:12:58, 20.94s/it]"
     ]
    },
    {
     "name": "stdout",
     "output_type": "stream",
     "text": [
      "eigenvalues shape torch.Size([5]) eigenvectors shape torch.Size([5, 400])\n",
      "447 /home/phdcs2/Hard_Disk/Datasets/Deep-Spectral-Segmentation/data/object-segmentation/ECSSD/features/dino_vits16/0448.pth\n",
      "0448\n",
      "Starting Training\n",
      "epoch: 00, loss: -0.39311\n",
      "epoch: 01, loss: -0.40912\n",
      "epoch: 02, loss: -0.42516\n",
      "epoch: 03, loss: -0.44552\n",
      "epoch: 04, loss: -0.46344\n",
      "epoch: 05, loss: -0.47603\n",
      "epoch: 06, loss: -0.48605\n",
      "epoch: 07, loss: -0.49252\n",
      "epoch: 08, loss: -0.49952\n",
      "epoch: 09, loss: -0.50413\n"
     ]
    },
    {
     "name": "stderr",
     "output_type": "stream",
     "text": [
      " 45%|████▍     | 448/1000 [2:51:52<3:01:06, 19.69s/it]"
     ]
    },
    {
     "name": "stdout",
     "output_type": "stream",
     "text": [
      "eigenvalues shape torch.Size([5]) eigenvectors shape torch.Size([5, 350])\n",
      "448 /home/phdcs2/Hard_Disk/Datasets/Deep-Spectral-Segmentation/data/object-segmentation/ECSSD/features/dino_vits16/0449.pth\n",
      "0449\n",
      "Starting Training\n",
      "epoch: 00, loss: -0.60814\n",
      "epoch: 01, loss: -0.63634\n",
      "epoch: 02, loss: -0.63763\n",
      "epoch: 03, loss: -0.63866\n",
      "epoch: 04, loss: -0.63933\n",
      "epoch: 05, loss: -0.64010\n",
      "epoch: 06, loss: -0.64065\n",
      "epoch: 07, loss: -0.64122\n",
      "epoch: 08, loss: -0.64150\n",
      "epoch: 09, loss: -0.64207\n"
     ]
    },
    {
     "name": "stderr",
     "output_type": "stream",
     "text": [
      " 45%|████▍     | 449/1000 [2:52:16<3:12:28, 20.96s/it]"
     ]
    },
    {
     "name": "stdout",
     "output_type": "stream",
     "text": [
      "eigenvalues shape torch.Size([5]) eigenvectors shape torch.Size([5, 475])\n",
      "449 /home/phdcs2/Hard_Disk/Datasets/Deep-Spectral-Segmentation/data/object-segmentation/ECSSD/features/dino_vits16/0450.pth\n",
      "0450\n",
      "Starting Training\n",
      "epoch: 00, loss: -0.39542\n",
      "epoch: 01, loss: -0.39319\n",
      "epoch: 02, loss: -0.38769\n",
      "epoch: 03, loss: -0.38492\n",
      "epoch: 04, loss: -0.38507\n",
      "epoch: 05, loss: -0.38646\n",
      "epoch: 06, loss: -0.38752\n",
      "epoch: 07, loss: -0.38941\n",
      "epoch: 08, loss: -0.39095\n",
      "epoch: 09, loss: -0.39267\n"
     ]
    },
    {
     "name": "stderr",
     "output_type": "stream",
     "text": [
      " 45%|████▌     | 450/1000 [2:52:36<3:11:30, 20.89s/it]"
     ]
    },
    {
     "name": "stdout",
     "output_type": "stream",
     "text": [
      "eigenvalues shape torch.Size([5]) eigenvectors shape torch.Size([5, 400])\n",
      "450 /home/phdcs2/Hard_Disk/Datasets/Deep-Spectral-Segmentation/data/object-segmentation/ECSSD/features/dino_vits16/0451.pth\n",
      "0451\n",
      "Starting Training\n",
      "epoch: 00, loss: -0.40661\n",
      "epoch: 01, loss: -0.41963\n",
      "epoch: 02, loss: -0.42493\n",
      "epoch: 03, loss: -0.42935\n",
      "epoch: 04, loss: -0.43299\n",
      "epoch: 05, loss: -0.43535\n",
      "epoch: 06, loss: -0.43791\n",
      "epoch: 07, loss: -0.43916\n",
      "epoch: 08, loss: -0.44044\n",
      "epoch: 09, loss: -0.44153\n"
     ]
    },
    {
     "name": "stderr",
     "output_type": "stream",
     "text": [
      " 45%|████▌     | 451/1000 [2:53:02<3:23:16, 22.22s/it]"
     ]
    },
    {
     "name": "stdout",
     "output_type": "stream",
     "text": [
      "eigenvalues shape torch.Size([5]) eigenvectors shape torch.Size([5, 450])\n",
      "451 /home/phdcs2/Hard_Disk/Datasets/Deep-Spectral-Segmentation/data/object-segmentation/ECSSD/features/dino_vits16/0452.pth\n",
      "0452\n",
      "Starting Training\n",
      "epoch: 00, loss: -0.42823\n",
      "epoch: 01, loss: -0.43144\n",
      "epoch: 02, loss: -0.43605\n",
      "epoch: 03, loss: -0.43997\n",
      "epoch: 04, loss: -0.44321\n",
      "epoch: 05, loss: -0.44647\n",
      "epoch: 06, loss: -0.44986\n",
      "epoch: 07, loss: -0.45410\n",
      "epoch: 08, loss: -0.45845\n",
      "epoch: 09, loss: -0.46266\n"
     ]
    },
    {
     "name": "stderr",
     "output_type": "stream",
     "text": [
      " 45%|████▌     | 452/1000 [2:53:27<3:32:10, 23.23s/it]"
     ]
    },
    {
     "name": "stdout",
     "output_type": "stream",
     "text": [
      "eigenvalues shape torch.Size([5]) eigenvectors shape torch.Size([5, 475])\n",
      "452 /home/phdcs2/Hard_Disk/Datasets/Deep-Spectral-Segmentation/data/object-segmentation/ECSSD/features/dino_vits16/0453.pth\n",
      "0453\n",
      "Starting Training\n",
      "epoch: 00, loss: -0.39255\n",
      "epoch: 01, loss: -0.38221\n",
      "epoch: 02, loss: -0.38391\n",
      "epoch: 03, loss: -0.38599\n",
      "epoch: 04, loss: -0.38859\n",
      "epoch: 05, loss: -0.39119\n",
      "epoch: 06, loss: -0.39331\n",
      "epoch: 07, loss: -0.39589\n",
      "epoch: 08, loss: -0.39798\n",
      "epoch: 09, loss: -0.40044\n"
     ]
    },
    {
     "name": "stderr",
     "output_type": "stream",
     "text": [
      " 45%|████▌     | 453/1000 [2:53:44<3:14:51, 21.37s/it]"
     ]
    },
    {
     "name": "stdout",
     "output_type": "stream",
     "text": [
      "eigenvalues shape torch.Size([5]) eigenvectors shape torch.Size([5, 400])\n",
      "453 /home/phdcs2/Hard_Disk/Datasets/Deep-Spectral-Segmentation/data/object-segmentation/ECSSD/features/dino_vits16/0454.pth\n",
      "0454\n",
      "Starting Training\n",
      "epoch: 00, loss: -0.45776\n",
      "epoch: 01, loss: -0.46971\n",
      "epoch: 02, loss: -0.46741\n",
      "epoch: 03, loss: -0.46647\n",
      "epoch: 04, loss: -0.46636\n",
      "epoch: 05, loss: -0.46633\n",
      "epoch: 06, loss: -0.46650\n",
      "epoch: 07, loss: -0.46700\n",
      "epoch: 08, loss: -0.46624\n",
      "epoch: 09, loss: -0.46657\n"
     ]
    },
    {
     "name": "stderr",
     "output_type": "stream",
     "text": [
      " 45%|████▌     | 454/1000 [2:54:03<3:06:59, 20.55s/it]"
     ]
    },
    {
     "name": "stdout",
     "output_type": "stream",
     "text": [
      "eigenvalues shape torch.Size([5]) eigenvectors shape torch.Size([5, 400])\n",
      "454 /home/phdcs2/Hard_Disk/Datasets/Deep-Spectral-Segmentation/data/object-segmentation/ECSSD/features/dino_vits16/0455.pth\n",
      "0455\n",
      "Starting Training\n",
      "epoch: 00, loss: -0.40431\n",
      "epoch: 01, loss: -0.39836\n",
      "epoch: 02, loss: -0.39678\n",
      "epoch: 03, loss: -0.39441\n",
      "epoch: 04, loss: -0.39394\n",
      "epoch: 05, loss: -0.39195\n",
      "epoch: 06, loss: -0.39395\n",
      "epoch: 07, loss: -0.39517\n",
      "epoch: 08, loss: -0.40346\n",
      "epoch: 09, loss: -0.41845\n"
     ]
    },
    {
     "name": "stderr",
     "output_type": "stream",
     "text": [
      " 46%|████▌     | 455/1000 [2:54:27<3:17:25, 21.73s/it]"
     ]
    },
    {
     "name": "stdout",
     "output_type": "stream",
     "text": [
      "eigenvalues shape torch.Size([5]) eigenvectors shape torch.Size([5, 400])\n",
      "455 /home/phdcs2/Hard_Disk/Datasets/Deep-Spectral-Segmentation/data/object-segmentation/ECSSD/features/dino_vits16/0456.pth\n",
      "0456\n",
      "Starting Training\n",
      "epoch: 00, loss: -0.38425\n",
      "epoch: 01, loss: -0.39343\n",
      "epoch: 02, loss: -0.39734\n",
      "epoch: 03, loss: -0.40065\n",
      "epoch: 04, loss: -0.40397\n",
      "epoch: 05, loss: -0.40604\n",
      "epoch: 06, loss: -0.40817\n",
      "epoch: 07, loss: -0.40980\n",
      "epoch: 08, loss: -0.41030\n",
      "epoch: 09, loss: -0.41110\n"
     ]
    },
    {
     "name": "stderr",
     "output_type": "stream",
     "text": [
      " 46%|████▌     | 456/1000 [2:54:48<3:14:50, 21.49s/it]"
     ]
    },
    {
     "name": "stdout",
     "output_type": "stream",
     "text": [
      "eigenvalues shape torch.Size([5]) eigenvectors shape torch.Size([5, 425])\n",
      "456 /home/phdcs2/Hard_Disk/Datasets/Deep-Spectral-Segmentation/data/object-segmentation/ECSSD/features/dino_vits16/0457.pth\n",
      "0457\n",
      "Starting Training\n",
      "epoch: 00, loss: -0.37431\n",
      "epoch: 01, loss: -0.37353\n",
      "epoch: 02, loss: -0.38449\n",
      "epoch: 03, loss: -0.39154\n",
      "epoch: 04, loss: -0.40011\n",
      "epoch: 05, loss: -0.40501\n",
      "epoch: 06, loss: -0.40777\n",
      "epoch: 07, loss: -0.40821\n",
      "epoch: 08, loss: -0.40869\n",
      "epoch: 09, loss: -0.40892\n"
     ]
    },
    {
     "name": "stderr",
     "output_type": "stream",
     "text": [
      " 46%|████▌     | 457/1000 [2:55:10<3:15:32, 21.61s/it]"
     ]
    },
    {
     "name": "stdout",
     "output_type": "stream",
     "text": [
      "eigenvalues shape torch.Size([5]) eigenvectors shape torch.Size([5, 400])\n",
      "457 /home/phdcs2/Hard_Disk/Datasets/Deep-Spectral-Segmentation/data/object-segmentation/ECSSD/features/dino_vits16/0458.pth\n",
      "0458\n",
      "Starting Training\n",
      "epoch: 00, loss: -0.42380\n",
      "epoch: 01, loss: -0.42735\n",
      "epoch: 02, loss: -0.42895\n",
      "epoch: 03, loss: -0.43071\n",
      "epoch: 04, loss: -0.43281\n",
      "epoch: 05, loss: -0.43364\n",
      "epoch: 06, loss: -0.43533\n",
      "epoch: 07, loss: -0.43706\n",
      "epoch: 08, loss: -0.43990\n",
      "epoch: 09, loss: -0.44088\n"
     ]
    },
    {
     "name": "stderr",
     "output_type": "stream",
     "text": [
      " 46%|████▌     | 458/1000 [2:55:38<3:30:53, 23.35s/it]"
     ]
    },
    {
     "name": "stdout",
     "output_type": "stream",
     "text": [
      "eigenvalues shape torch.Size([5]) eigenvectors shape torch.Size([5, 450])\n",
      "458 /home/phdcs2/Hard_Disk/Datasets/Deep-Spectral-Segmentation/data/object-segmentation/ECSSD/features/dino_vits16/0459.pth\n",
      "0459\n",
      "Starting Training\n",
      "epoch: 00, loss: -0.38201\n",
      "epoch: 01, loss: -0.40113\n",
      "epoch: 02, loss: -0.41378\n",
      "epoch: 03, loss: -0.42374\n",
      "epoch: 04, loss: -0.42974\n",
      "epoch: 05, loss: -0.43420\n",
      "epoch: 06, loss: -0.43827\n",
      "epoch: 07, loss: -0.44251\n",
      "epoch: 08, loss: -0.44575\n",
      "epoch: 09, loss: -0.44884\n"
     ]
    },
    {
     "name": "stderr",
     "output_type": "stream",
     "text": [
      " 46%|████▌     | 459/1000 [2:55:59<3:25:55, 22.84s/it]"
     ]
    },
    {
     "name": "stdout",
     "output_type": "stream",
     "text": [
      "eigenvalues shape torch.Size([5]) eigenvectors shape torch.Size([5, 400])\n",
      "459 /home/phdcs2/Hard_Disk/Datasets/Deep-Spectral-Segmentation/data/object-segmentation/ECSSD/features/dino_vits16/0460.pth\n",
      "0460\n",
      "Starting Training\n",
      "epoch: 00, loss: -0.36118\n",
      "epoch: 01, loss: -0.36969\n",
      "epoch: 02, loss: -0.36870\n",
      "epoch: 03, loss: -0.36955\n",
      "epoch: 04, loss: -0.37487\n",
      "epoch: 05, loss: -0.37796\n",
      "epoch: 06, loss: -0.38187\n",
      "epoch: 07, loss: -0.38620\n",
      "epoch: 08, loss: -0.38960\n",
      "epoch: 09, loss: -0.39286\n"
     ]
    },
    {
     "name": "stderr",
     "output_type": "stream",
     "text": [
      " 46%|████▌     | 460/1000 [2:56:22<3:25:54, 22.88s/it]"
     ]
    },
    {
     "name": "stdout",
     "output_type": "stream",
     "text": [
      "eigenvalues shape torch.Size([5]) eigenvectors shape torch.Size([5, 450])\n",
      "460 /home/phdcs2/Hard_Disk/Datasets/Deep-Spectral-Segmentation/data/object-segmentation/ECSSD/features/dino_vits16/0461.pth\n",
      "0461\n",
      "Starting Training\n",
      "epoch: 00, loss: -0.37740\n",
      "epoch: 01, loss: -0.38583\n",
      "epoch: 02, loss: -0.38740\n",
      "epoch: 03, loss: -0.38980\n",
      "epoch: 04, loss: -0.38866\n",
      "epoch: 05, loss: -0.38970\n",
      "epoch: 06, loss: -0.39053\n",
      "epoch: 07, loss: -0.39425\n",
      "epoch: 08, loss: -0.39873\n",
      "epoch: 09, loss: -0.40366\n"
     ]
    },
    {
     "name": "stderr",
     "output_type": "stream",
     "text": [
      " 46%|████▌     | 461/1000 [2:56:49<3:35:34, 24.00s/it]"
     ]
    },
    {
     "name": "stdout",
     "output_type": "stream",
     "text": [
      "eigenvalues shape torch.Size([5]) eigenvectors shape torch.Size([5, 450])\n",
      "461 /home/phdcs2/Hard_Disk/Datasets/Deep-Spectral-Segmentation/data/object-segmentation/ECSSD/features/dino_vits16/0462.pth\n",
      "0462\n",
      "Starting Training\n",
      "epoch: 00, loss: -0.38296\n",
      "epoch: 01, loss: -0.39160\n",
      "epoch: 02, loss: -0.39290\n",
      "epoch: 03, loss: -0.39330\n",
      "epoch: 04, loss: -0.39402\n",
      "epoch: 05, loss: -0.39421\n",
      "epoch: 06, loss: -0.39583\n",
      "epoch: 07, loss: -0.39610\n",
      "epoch: 08, loss: -0.39767\n",
      "epoch: 09, loss: -0.39954\n"
     ]
    },
    {
     "name": "stderr",
     "output_type": "stream",
     "text": [
      " 46%|████▌     | 462/1000 [2:57:12<3:31:50, 23.62s/it]"
     ]
    },
    {
     "name": "stdout",
     "output_type": "stream",
     "text": [
      "eigenvalues shape torch.Size([5]) eigenvectors shape torch.Size([5, 400])\n",
      "462 /home/phdcs2/Hard_Disk/Datasets/Deep-Spectral-Segmentation/data/object-segmentation/ECSSD/features/dino_vits16/0463.pth\n",
      "0463\n",
      "Starting Training\n",
      "epoch: 00, loss: -0.38092\n",
      "epoch: 01, loss: -0.38464\n",
      "epoch: 02, loss: -0.38482\n",
      "epoch: 03, loss: -0.38412\n",
      "epoch: 04, loss: -0.38380\n",
      "epoch: 05, loss: -0.38404\n",
      "epoch: 06, loss: -0.38340\n",
      "epoch: 07, loss: -0.38325\n",
      "epoch: 08, loss: -0.38323\n",
      "epoch: 09, loss: -0.38337\n"
     ]
    },
    {
     "name": "stderr",
     "output_type": "stream",
     "text": [
      " 46%|████▋     | 463/1000 [2:57:35<3:29:33, 23.41s/it]"
     ]
    },
    {
     "name": "stdout",
     "output_type": "stream",
     "text": [
      "eigenvalues shape torch.Size([5]) eigenvectors shape torch.Size([5, 450])\n",
      "463 /home/phdcs2/Hard_Disk/Datasets/Deep-Spectral-Segmentation/data/object-segmentation/ECSSD/features/dino_vits16/0464.pth\n",
      "0464\n",
      "Starting Training\n",
      "epoch: 00, loss: -0.41514\n",
      "epoch: 01, loss: -0.42343\n",
      "epoch: 02, loss: -0.42522\n",
      "epoch: 03, loss: -0.42793\n",
      "epoch: 04, loss: -0.42957\n",
      "epoch: 05, loss: -0.43293\n",
      "epoch: 06, loss: -0.43470\n",
      "epoch: 07, loss: -0.43764\n",
      "epoch: 08, loss: -0.44189\n",
      "epoch: 09, loss: -0.44590\n"
     ]
    },
    {
     "name": "stderr",
     "output_type": "stream",
     "text": [
      " 46%|████▋     | 464/1000 [2:57:55<3:22:38, 22.68s/it]"
     ]
    },
    {
     "name": "stdout",
     "output_type": "stream",
     "text": [
      "eigenvalues shape torch.Size([5]) eigenvectors shape torch.Size([5, 450])\n",
      "464 /home/phdcs2/Hard_Disk/Datasets/Deep-Spectral-Segmentation/data/object-segmentation/ECSSD/features/dino_vits16/0465.pth\n",
      "0465\n",
      "Starting Training\n",
      "epoch: 00, loss: -0.44708\n",
      "epoch: 01, loss: -0.46127\n",
      "epoch: 02, loss: -0.46560\n",
      "epoch: 03, loss: -0.46911\n",
      "epoch: 04, loss: -0.47250\n",
      "epoch: 05, loss: -0.47624\n",
      "epoch: 06, loss: -0.47856\n",
      "epoch: 07, loss: -0.48172\n",
      "epoch: 08, loss: -0.48454\n",
      "epoch: 09, loss: -0.48688\n"
     ]
    },
    {
     "name": "stderr",
     "output_type": "stream",
     "text": [
      " 46%|████▋     | 465/1000 [2:58:16<3:17:33, 22.16s/it]"
     ]
    },
    {
     "name": "stdout",
     "output_type": "stream",
     "text": [
      "eigenvalues shape torch.Size([5]) eigenvectors shape torch.Size([5, 450])\n",
      "465 /home/phdcs2/Hard_Disk/Datasets/Deep-Spectral-Segmentation/data/object-segmentation/ECSSD/features/dino_vits16/0466.pth\n",
      "0466\n",
      "Starting Training\n",
      "epoch: 00, loss: -0.41105\n",
      "epoch: 01, loss: -0.43226\n",
      "epoch: 02, loss: -0.43637\n",
      "epoch: 03, loss: -0.43940\n",
      "epoch: 04, loss: -0.44043\n",
      "epoch: 05, loss: -0.44270\n",
      "epoch: 06, loss: -0.44508\n",
      "epoch: 07, loss: -0.44906\n",
      "epoch: 08, loss: -0.45034\n",
      "epoch: 09, loss: -0.45255\n"
     ]
    },
    {
     "name": "stderr",
     "output_type": "stream",
     "text": [
      " 47%|████▋     | 466/1000 [2:58:36<3:11:01, 21.46s/it]"
     ]
    },
    {
     "name": "stdout",
     "output_type": "stream",
     "text": [
      "eigenvalues shape torch.Size([5]) eigenvectors shape torch.Size([5, 400])\n",
      "466 /home/phdcs2/Hard_Disk/Datasets/Deep-Spectral-Segmentation/data/object-segmentation/ECSSD/features/dino_vits16/0467.pth\n",
      "0467\n",
      "Starting Training\n",
      "epoch: 00, loss: -0.35212\n",
      "epoch: 01, loss: -0.35328\n",
      "epoch: 02, loss: -0.35954\n",
      "epoch: 03, loss: -0.36312\n",
      "epoch: 04, loss: -0.36657\n",
      "epoch: 05, loss: -0.36770\n",
      "epoch: 06, loss: -0.36999\n",
      "epoch: 07, loss: -0.37045\n",
      "epoch: 08, loss: -0.37209\n",
      "epoch: 09, loss: -0.37283\n"
     ]
    },
    {
     "name": "stderr",
     "output_type": "stream",
     "text": [
      " 47%|████▋     | 467/1000 [2:58:58<3:11:50, 21.60s/it]"
     ]
    },
    {
     "name": "stdout",
     "output_type": "stream",
     "text": [
      "eigenvalues shape torch.Size([5]) eigenvectors shape torch.Size([5, 425])\n",
      "467 /home/phdcs2/Hard_Disk/Datasets/Deep-Spectral-Segmentation/data/object-segmentation/ECSSD/features/dino_vits16/0468.pth\n",
      "0468\n",
      "Starting Training\n",
      "epoch: 00, loss: -0.36645\n",
      "epoch: 01, loss: -0.36581\n",
      "epoch: 02, loss: -0.36359\n",
      "epoch: 03, loss: -0.36220\n",
      "epoch: 04, loss: -0.36089\n",
      "epoch: 05, loss: -0.35904\n",
      "epoch: 06, loss: -0.35788\n",
      "epoch: 07, loss: -0.35687\n",
      "epoch: 08, loss: -0.35679\n",
      "epoch: 09, loss: -0.35656\n"
     ]
    },
    {
     "name": "stderr",
     "output_type": "stream",
     "text": [
      " 47%|████▋     | 468/1000 [2:59:25<3:25:09, 23.14s/it]"
     ]
    },
    {
     "name": "stdout",
     "output_type": "stream",
     "text": [
      "eigenvalues shape torch.Size([5]) eigenvectors shape torch.Size([5, 450])\n",
      "468 /home/phdcs2/Hard_Disk/Datasets/Deep-Spectral-Segmentation/data/object-segmentation/ECSSD/features/dino_vits16/0469.pth\n",
      "0469\n",
      "Starting Training\n",
      "epoch: 00, loss: -0.38027\n",
      "epoch: 01, loss: -0.38822\n",
      "epoch: 02, loss: -0.38806\n",
      "epoch: 03, loss: -0.38855\n",
      "epoch: 04, loss: -0.38768\n",
      "epoch: 05, loss: -0.38689\n",
      "epoch: 06, loss: -0.38449\n",
      "epoch: 07, loss: -0.38331\n",
      "epoch: 08, loss: -0.38117\n",
      "epoch: 09, loss: -0.38114\n"
     ]
    },
    {
     "name": "stderr",
     "output_type": "stream",
     "text": [
      " 47%|████▋     | 469/1000 [2:59:49<3:28:25, 23.55s/it]"
     ]
    },
    {
     "name": "stdout",
     "output_type": "stream",
     "text": [
      "eigenvalues shape torch.Size([5]) eigenvectors shape torch.Size([5, 400])\n",
      "469 /home/phdcs2/Hard_Disk/Datasets/Deep-Spectral-Segmentation/data/object-segmentation/ECSSD/features/dino_vits16/0470.pth\n",
      "0470\n",
      "Starting Training\n",
      "epoch: 00, loss: -0.40186\n",
      "epoch: 01, loss: -0.40780\n",
      "epoch: 02, loss: -0.40814\n",
      "epoch: 03, loss: -0.40710\n",
      "epoch: 04, loss: -0.40528\n",
      "epoch: 05, loss: -0.40484\n",
      "epoch: 06, loss: -0.40351\n",
      "epoch: 07, loss: -0.40367\n",
      "epoch: 08, loss: -0.40311\n",
      "epoch: 09, loss: -0.40252\n"
     ]
    },
    {
     "name": "stderr",
     "output_type": "stream",
     "text": [
      " 47%|████▋     | 470/1000 [3:00:13<3:27:15, 23.46s/it]"
     ]
    },
    {
     "name": "stdout",
     "output_type": "stream",
     "text": [
      "eigenvalues shape torch.Size([5]) eigenvectors shape torch.Size([5, 400])\n",
      "470 /home/phdcs2/Hard_Disk/Datasets/Deep-Spectral-Segmentation/data/object-segmentation/ECSSD/features/dino_vits16/0471.pth\n",
      "0471\n",
      "Starting Training\n",
      "epoch: 00, loss: -0.42541\n",
      "epoch: 01, loss: -0.43084\n",
      "epoch: 02, loss: -0.43184\n",
      "epoch: 03, loss: -0.43126\n",
      "epoch: 04, loss: -0.43093\n",
      "epoch: 05, loss: -0.42976\n",
      "epoch: 06, loss: -0.42855\n",
      "epoch: 07, loss: -0.42691\n",
      "epoch: 08, loss: -0.42607\n",
      "epoch: 09, loss: -0.42461\n"
     ]
    },
    {
     "name": "stderr",
     "output_type": "stream",
     "text": [
      " 47%|████▋     | 471/1000 [3:00:35<3:23:48, 23.12s/it]"
     ]
    },
    {
     "name": "stdout",
     "output_type": "stream",
     "text": [
      "eigenvalues shape torch.Size([5]) eigenvectors shape torch.Size([5, 450])\n",
      "471 /home/phdcs2/Hard_Disk/Datasets/Deep-Spectral-Segmentation/data/object-segmentation/ECSSD/features/dino_vits16/0472.pth\n",
      "0472\n",
      "Starting Training\n",
      "epoch: 00, loss: -0.43568\n",
      "epoch: 01, loss: -0.43291\n",
      "epoch: 02, loss: -0.43603\n",
      "epoch: 03, loss: -0.44058\n",
      "epoch: 04, loss: -0.44481\n",
      "epoch: 05, loss: -0.44904\n",
      "epoch: 06, loss: -0.45228\n",
      "epoch: 07, loss: -0.45546\n",
      "epoch: 08, loss: -0.45842\n",
      "epoch: 09, loss: -0.46074\n"
     ]
    },
    {
     "name": "stderr",
     "output_type": "stream",
     "text": [
      " 47%|████▋     | 472/1000 [3:00:55<3:15:09, 22.18s/it]"
     ]
    },
    {
     "name": "stdout",
     "output_type": "stream",
     "text": [
      "eigenvalues shape torch.Size([5]) eigenvectors shape torch.Size([5, 400])\n",
      "472 /home/phdcs2/Hard_Disk/Datasets/Deep-Spectral-Segmentation/data/object-segmentation/ECSSD/features/dino_vits16/0473.pth\n",
      "0473\n",
      "Starting Training\n",
      "epoch: 00, loss: -0.40353\n",
      "epoch: 01, loss: -0.41412\n",
      "epoch: 02, loss: -0.41570\n",
      "epoch: 03, loss: -0.41676\n",
      "epoch: 04, loss: -0.41807\n",
      "epoch: 05, loss: -0.41940\n",
      "epoch: 06, loss: -0.41965\n",
      "epoch: 07, loss: -0.42035\n",
      "epoch: 08, loss: -0.42192\n",
      "epoch: 09, loss: -0.42324\n"
     ]
    },
    {
     "name": "stderr",
     "output_type": "stream",
     "text": [
      " 47%|████▋     | 473/1000 [3:01:17<3:13:06, 21.98s/it]"
     ]
    },
    {
     "name": "stdout",
     "output_type": "stream",
     "text": [
      "eigenvalues shape torch.Size([5]) eigenvectors shape torch.Size([5, 425])\n",
      "473 /home/phdcs2/Hard_Disk/Datasets/Deep-Spectral-Segmentation/data/object-segmentation/ECSSD/features/dino_vits16/0474.pth\n",
      "0474\n",
      "Starting Training\n",
      "epoch: 00, loss: -0.35612\n",
      "epoch: 01, loss: -0.35404\n",
      "epoch: 02, loss: -0.36101\n",
      "epoch: 03, loss: -0.36986\n",
      "epoch: 04, loss: -0.37644\n",
      "epoch: 05, loss: -0.38307\n",
      "epoch: 06, loss: -0.38876\n",
      "epoch: 07, loss: -0.39446\n",
      "epoch: 08, loss: -0.40093\n",
      "epoch: 09, loss: -0.40747\n"
     ]
    },
    {
     "name": "stderr",
     "output_type": "stream",
     "text": [
      " 47%|████▋     | 474/1000 [3:01:38<3:11:51, 21.88s/it]"
     ]
    },
    {
     "name": "stdout",
     "output_type": "stream",
     "text": [
      "eigenvalues shape torch.Size([5]) eigenvectors shape torch.Size([5, 400])\n",
      "474 /home/phdcs2/Hard_Disk/Datasets/Deep-Spectral-Segmentation/data/object-segmentation/ECSSD/features/dino_vits16/0475.pth\n",
      "0475\n",
      "Starting Training\n",
      "epoch: 00, loss: -0.40634\n",
      "epoch: 01, loss: -0.40027\n",
      "epoch: 02, loss: -0.39817\n",
      "epoch: 03, loss: -0.39744\n",
      "epoch: 04, loss: -0.39707\n",
      "epoch: 05, loss: -0.39704\n",
      "epoch: 06, loss: -0.39703\n",
      "epoch: 07, loss: -0.39598\n",
      "epoch: 08, loss: -0.39581\n",
      "epoch: 09, loss: -0.39565\n"
     ]
    },
    {
     "name": "stderr",
     "output_type": "stream",
     "text": [
      " 48%|████▊     | 475/1000 [3:01:58<3:05:03, 21.15s/it]"
     ]
    },
    {
     "name": "stdout",
     "output_type": "stream",
     "text": [
      "eigenvalues shape torch.Size([5]) eigenvectors shape torch.Size([5, 400])\n",
      "475 /home/phdcs2/Hard_Disk/Datasets/Deep-Spectral-Segmentation/data/object-segmentation/ECSSD/features/dino_vits16/0476.pth\n",
      "0476\n",
      "Starting Training\n",
      "epoch: 00, loss: -0.42852\n",
      "epoch: 01, loss: -0.43310\n",
      "epoch: 02, loss: -0.43327\n",
      "epoch: 03, loss: -0.43531\n",
      "epoch: 04, loss: -0.43692\n",
      "epoch: 05, loss: -0.43827\n",
      "epoch: 06, loss: -0.43998\n",
      "epoch: 07, loss: -0.44157\n",
      "epoch: 08, loss: -0.44324\n",
      "epoch: 09, loss: -0.44494\n"
     ]
    },
    {
     "name": "stderr",
     "output_type": "stream",
     "text": [
      " 48%|████▊     | 476/1000 [3:02:16<2:57:31, 20.33s/it]"
     ]
    },
    {
     "name": "stdout",
     "output_type": "stream",
     "text": [
      "eigenvalues shape torch.Size([5]) eigenvectors shape torch.Size([5, 400])\n",
      "476 /home/phdcs2/Hard_Disk/Datasets/Deep-Spectral-Segmentation/data/object-segmentation/ECSSD/features/dino_vits16/0477.pth\n",
      "0477\n",
      "Starting Training\n",
      "epoch: 00, loss: -0.38888\n",
      "epoch: 01, loss: -0.39457\n",
      "epoch: 02, loss: -0.39357\n",
      "epoch: 03, loss: -0.39064\n",
      "epoch: 04, loss: -0.38893\n",
      "epoch: 05, loss: -0.38736\n",
      "epoch: 06, loss: -0.38713\n",
      "epoch: 07, loss: -0.38625\n",
      "epoch: 08, loss: -0.38625\n",
      "epoch: 09, loss: -0.38619\n"
     ]
    },
    {
     "name": "stderr",
     "output_type": "stream",
     "text": [
      " 48%|████▊     | 477/1000 [3:02:38<3:00:34, 20.72s/it]"
     ]
    },
    {
     "name": "stdout",
     "output_type": "stream",
     "text": [
      "eigenvalues shape torch.Size([5]) eigenvectors shape torch.Size([5, 450])\n",
      "477 /home/phdcs2/Hard_Disk/Datasets/Deep-Spectral-Segmentation/data/object-segmentation/ECSSD/features/dino_vits16/0478.pth\n",
      "0478\n",
      "Starting Training\n",
      "epoch: 00, loss: -0.40187\n",
      "epoch: 01, loss: -0.41345\n",
      "epoch: 02, loss: -0.41455\n",
      "epoch: 03, loss: -0.41603\n",
      "epoch: 04, loss: -0.41669\n",
      "epoch: 05, loss: -0.41728\n",
      "epoch: 06, loss: -0.41835\n",
      "epoch: 07, loss: -0.41862\n",
      "epoch: 08, loss: -0.41917\n",
      "epoch: 09, loss: -0.42011\n"
     ]
    },
    {
     "name": "stderr",
     "output_type": "stream",
     "text": [
      " 48%|████▊     | 478/1000 [3:02:57<2:57:13, 20.37s/it]"
     ]
    },
    {
     "name": "stdout",
     "output_type": "stream",
     "text": [
      "eigenvalues shape torch.Size([5]) eigenvectors shape torch.Size([5, 400])\n",
      "478 /home/phdcs2/Hard_Disk/Datasets/Deep-Spectral-Segmentation/data/object-segmentation/ECSSD/features/dino_vits16/0479.pth\n",
      "0479\n",
      "Starting Training\n",
      "epoch: 00, loss: -0.40682\n",
      "epoch: 01, loss: -0.41366\n",
      "epoch: 02, loss: -0.41330\n",
      "epoch: 03, loss: -0.41372\n",
      "epoch: 04, loss: -0.41503\n",
      "epoch: 05, loss: -0.41792\n",
      "epoch: 06, loss: -0.42122\n",
      "epoch: 07, loss: -0.42402\n",
      "epoch: 08, loss: -0.42604\n",
      "epoch: 09, loss: -0.42948\n"
     ]
    },
    {
     "name": "stderr",
     "output_type": "stream",
     "text": [
      " 48%|████▊     | 479/1000 [3:03:23<3:09:50, 21.86s/it]"
     ]
    },
    {
     "name": "stdout",
     "output_type": "stream",
     "text": [
      "eigenvalues shape torch.Size([5]) eigenvectors shape torch.Size([5, 450])\n",
      "479 /home/phdcs2/Hard_Disk/Datasets/Deep-Spectral-Segmentation/data/object-segmentation/ECSSD/features/dino_vits16/0480.pth\n",
      "0480\n",
      "Starting Training\n",
      "epoch: 00, loss: -0.37916\n",
      "epoch: 01, loss: -0.38508\n",
      "epoch: 02, loss: -0.39045\n",
      "epoch: 03, loss: -0.39734\n",
      "epoch: 04, loss: -0.40605\n",
      "epoch: 05, loss: -0.41390\n",
      "epoch: 06, loss: -0.42243\n",
      "epoch: 07, loss: -0.42887\n",
      "epoch: 08, loss: -0.43511\n",
      "epoch: 09, loss: -0.43934\n"
     ]
    },
    {
     "name": "stderr",
     "output_type": "stream",
     "text": [
      " 48%|████▊     | 480/1000 [3:03:55<3:38:00, 25.16s/it]"
     ]
    },
    {
     "name": "stdout",
     "output_type": "stream",
     "text": [
      "eigenvalues shape torch.Size([5]) eigenvectors shape torch.Size([5, 625])\n",
      "480 /home/phdcs2/Hard_Disk/Datasets/Deep-Spectral-Segmentation/data/object-segmentation/ECSSD/features/dino_vits16/0481.pth\n",
      "0481\n",
      "Starting Training\n",
      "epoch: 00, loss: -0.47681\n",
      "epoch: 01, loss: -0.48144\n",
      "epoch: 02, loss: -0.48070\n",
      "epoch: 03, loss: -0.48092\n",
      "epoch: 04, loss: -0.48078\n",
      "epoch: 05, loss: -0.48208\n",
      "epoch: 06, loss: -0.48226\n",
      "epoch: 07, loss: -0.48280\n",
      "epoch: 08, loss: -0.48368\n",
      "epoch: 09, loss: -0.48480\n"
     ]
    },
    {
     "name": "stderr",
     "output_type": "stream",
     "text": [
      " 48%|████▊     | 481/1000 [3:04:19<3:33:45, 24.71s/it]"
     ]
    },
    {
     "name": "stdout",
     "output_type": "stream",
     "text": [
      "eigenvalues shape torch.Size([5]) eigenvectors shape torch.Size([5, 450])\n",
      "481 /home/phdcs2/Hard_Disk/Datasets/Deep-Spectral-Segmentation/data/object-segmentation/ECSSD/features/dino_vits16/0482.pth\n",
      "0482\n",
      "Starting Training\n",
      "epoch: 00, loss: -0.38740\n",
      "epoch: 01, loss: -0.39239\n",
      "epoch: 02, loss: -0.39464\n",
      "epoch: 03, loss: -0.39434\n",
      "epoch: 04, loss: -0.39467\n",
      "epoch: 05, loss: -0.39324\n",
      "epoch: 06, loss: -0.39216\n",
      "epoch: 07, loss: -0.39120\n",
      "epoch: 08, loss: -0.39138\n",
      "epoch: 09, loss: -0.39148\n"
     ]
    },
    {
     "name": "stderr",
     "output_type": "stream",
     "text": [
      " 48%|████▊     | 482/1000 [3:04:42<3:29:44, 24.29s/it]"
     ]
    },
    {
     "name": "stdout",
     "output_type": "stream",
     "text": [
      "eigenvalues shape torch.Size([5]) eigenvectors shape torch.Size([5, 450])\n",
      "482 /home/phdcs2/Hard_Disk/Datasets/Deep-Spectral-Segmentation/data/object-segmentation/ECSSD/features/dino_vits16/0483.pth\n",
      "0483\n",
      "Starting Training\n",
      "epoch: 00, loss: -0.37581\n",
      "epoch: 01, loss: -0.38259\n",
      "epoch: 02, loss: -0.38674\n",
      "epoch: 03, loss: -0.38778\n",
      "epoch: 04, loss: -0.39111\n",
      "epoch: 05, loss: -0.39226\n",
      "epoch: 06, loss: -0.39448\n",
      "epoch: 07, loss: -0.39663\n",
      "epoch: 08, loss: -0.39894\n",
      "epoch: 09, loss: -0.39965\n"
     ]
    },
    {
     "name": "stderr",
     "output_type": "stream",
     "text": [
      " 48%|████▊     | 483/1000 [3:05:02<3:16:50, 22.84s/it]"
     ]
    },
    {
     "name": "stdout",
     "output_type": "stream",
     "text": [
      "eigenvalues shape torch.Size([5]) eigenvectors shape torch.Size([5, 400])\n",
      "483 /home/phdcs2/Hard_Disk/Datasets/Deep-Spectral-Segmentation/data/object-segmentation/ECSSD/features/dino_vits16/0484.pth\n",
      "0484\n",
      "Starting Training\n",
      "epoch: 00, loss: -0.38458\n",
      "epoch: 01, loss: -0.39569\n",
      "epoch: 02, loss: -0.39669\n",
      "epoch: 03, loss: -0.39666\n",
      "epoch: 04, loss: -0.39590\n",
      "epoch: 05, loss: -0.39597\n",
      "epoch: 06, loss: -0.39494\n",
      "epoch: 07, loss: -0.39385\n",
      "epoch: 08, loss: -0.39233\n",
      "epoch: 09, loss: -0.39194\n"
     ]
    },
    {
     "name": "stderr",
     "output_type": "stream",
     "text": [
      " 48%|████▊     | 484/1000 [3:05:27<3:23:10, 23.62s/it]"
     ]
    },
    {
     "name": "stdout",
     "output_type": "stream",
     "text": [
      "eigenvalues shape torch.Size([5]) eigenvectors shape torch.Size([5, 450])\n",
      "484 /home/phdcs2/Hard_Disk/Datasets/Deep-Spectral-Segmentation/data/object-segmentation/ECSSD/features/dino_vits16/0485.pth\n",
      "0485\n",
      "Starting Training\n",
      "epoch: 00, loss: -0.39269\n",
      "epoch: 01, loss: -0.40244\n",
      "epoch: 02, loss: -0.40451\n",
      "epoch: 03, loss: -0.40670\n",
      "epoch: 04, loss: -0.40939\n",
      "epoch: 05, loss: -0.41064\n",
      "epoch: 06, loss: -0.41240\n",
      "epoch: 07, loss: -0.41418\n",
      "epoch: 08, loss: -0.41523\n",
      "epoch: 09, loss: -0.41704\n"
     ]
    },
    {
     "name": "stderr",
     "output_type": "stream",
     "text": [
      " 48%|████▊     | 485/1000 [3:05:46<3:11:06, 22.26s/it]"
     ]
    },
    {
     "name": "stdout",
     "output_type": "stream",
     "text": [
      "eigenvalues shape torch.Size([5]) eigenvectors shape torch.Size([5, 400])\n",
      "485 /home/phdcs2/Hard_Disk/Datasets/Deep-Spectral-Segmentation/data/object-segmentation/ECSSD/features/dino_vits16/0486.pth\n",
      "0486\n",
      "Starting Training\n",
      "epoch: 00, loss: -0.38595\n",
      "epoch: 01, loss: -0.38824\n",
      "epoch: 02, loss: -0.39189\n",
      "epoch: 03, loss: -0.39417\n",
      "epoch: 04, loss: -0.39531\n",
      "epoch: 05, loss: -0.39697\n",
      "epoch: 06, loss: -0.39752\n",
      "epoch: 07, loss: -0.39990\n",
      "epoch: 08, loss: -0.40248\n",
      "epoch: 09, loss: -0.40579\n"
     ]
    },
    {
     "name": "stderr",
     "output_type": "stream",
     "text": [
      " 49%|████▊     | 486/1000 [3:06:10<3:13:53, 22.63s/it]"
     ]
    },
    {
     "name": "stdout",
     "output_type": "stream",
     "text": [
      "eigenvalues shape torch.Size([5]) eigenvectors shape torch.Size([5, 450])\n",
      "486 /home/phdcs2/Hard_Disk/Datasets/Deep-Spectral-Segmentation/data/object-segmentation/ECSSD/features/dino_vits16/0487.pth\n",
      "0487\n",
      "Starting Training\n",
      "epoch: 00, loss: -0.40345\n",
      "epoch: 01, loss: -0.41979\n",
      "epoch: 02, loss: -0.42414\n",
      "epoch: 03, loss: -0.42626\n",
      "epoch: 04, loss: -0.42866\n",
      "epoch: 05, loss: -0.43019\n",
      "epoch: 06, loss: -0.43050\n",
      "epoch: 07, loss: -0.43219\n",
      "epoch: 08, loss: -0.43290\n",
      "epoch: 09, loss: -0.43330\n"
     ]
    },
    {
     "name": "stderr",
     "output_type": "stream",
     "text": [
      " 49%|████▊     | 487/1000 [3:06:35<3:19:31, 23.34s/it]"
     ]
    },
    {
     "name": "stdout",
     "output_type": "stream",
     "text": [
      "eigenvalues shape torch.Size([5]) eigenvectors shape torch.Size([5, 400])\n",
      "487 /home/phdcs2/Hard_Disk/Datasets/Deep-Spectral-Segmentation/data/object-segmentation/ECSSD/features/dino_vits16/0488.pth\n",
      "0488\n",
      "Starting Training\n",
      "epoch: 00, loss: -0.38149\n",
      "epoch: 01, loss: -0.38575\n",
      "epoch: 02, loss: -0.38692\n",
      "epoch: 03, loss: -0.38807\n",
      "epoch: 04, loss: -0.38886\n",
      "epoch: 05, loss: -0.38925\n",
      "epoch: 06, loss: -0.38914\n",
      "epoch: 07, loss: -0.39011\n",
      "epoch: 08, loss: -0.38926\n",
      "epoch: 09, loss: -0.38767\n"
     ]
    },
    {
     "name": "stderr",
     "output_type": "stream",
     "text": [
      " 49%|████▉     | 488/1000 [3:06:57<3:17:10, 23.11s/it]"
     ]
    },
    {
     "name": "stdout",
     "output_type": "stream",
     "text": [
      "eigenvalues shape torch.Size([5]) eigenvectors shape torch.Size([5, 400])\n",
      "488 /home/phdcs2/Hard_Disk/Datasets/Deep-Spectral-Segmentation/data/object-segmentation/ECSSD/features/dino_vits16/0489.pth\n",
      "0489\n",
      "Starting Training\n",
      "epoch: 00, loss: -0.41678\n",
      "epoch: 01, loss: -0.43293\n",
      "epoch: 02, loss: -0.43168\n",
      "epoch: 03, loss: -0.43160\n",
      "epoch: 04, loss: -0.43372\n",
      "epoch: 05, loss: -0.43477\n",
      "epoch: 06, loss: -0.43811\n",
      "epoch: 07, loss: -0.44207\n",
      "epoch: 08, loss: -0.44657\n",
      "epoch: 09, loss: -0.44945\n"
     ]
    },
    {
     "name": "stderr",
     "output_type": "stream",
     "text": [
      " 49%|████▉     | 489/1000 [3:07:30<3:41:27, 26.00s/it]"
     ]
    },
    {
     "name": "stdout",
     "output_type": "stream",
     "text": [
      "eigenvalues shape torch.Size([5]) eigenvectors shape torch.Size([5, 550])\n",
      "489 /home/phdcs2/Hard_Disk/Datasets/Deep-Spectral-Segmentation/data/object-segmentation/ECSSD/features/dino_vits16/0490.pth\n",
      "0490\n",
      "Starting Training\n",
      "epoch: 00, loss: -0.39240\n",
      "epoch: 01, loss: -0.41515\n",
      "epoch: 02, loss: -0.41594\n",
      "epoch: 03, loss: -0.41497\n",
      "epoch: 04, loss: -0.41599\n",
      "epoch: 05, loss: -0.41449\n",
      "epoch: 06, loss: -0.41429\n",
      "epoch: 07, loss: -0.41244\n",
      "epoch: 08, loss: -0.41145\n",
      "epoch: 09, loss: -0.41043\n"
     ]
    },
    {
     "name": "stderr",
     "output_type": "stream",
     "text": [
      " 49%|████▉     | 490/1000 [3:07:51<3:28:10, 24.49s/it]"
     ]
    },
    {
     "name": "stdout",
     "output_type": "stream",
     "text": [
      "eigenvalues shape torch.Size([5]) eigenvectors shape torch.Size([5, 400])\n",
      "490 /home/phdcs2/Hard_Disk/Datasets/Deep-Spectral-Segmentation/data/object-segmentation/ECSSD/features/dino_vits16/0491.pth\n",
      "0491\n",
      "Starting Training\n",
      "epoch: 00, loss: -0.37413\n",
      "epoch: 01, loss: -0.38232\n",
      "epoch: 02, loss: -0.38472\n",
      "epoch: 03, loss: -0.38733\n",
      "epoch: 04, loss: -0.38871\n",
      "epoch: 05, loss: -0.39068\n",
      "epoch: 06, loss: -0.39439\n",
      "epoch: 07, loss: -0.39617\n",
      "epoch: 08, loss: -0.39905\n",
      "epoch: 09, loss: -0.40068\n"
     ]
    },
    {
     "name": "stderr",
     "output_type": "stream",
     "text": [
      " 49%|████▉     | 491/1000 [3:08:16<3:28:51, 24.62s/it]"
     ]
    },
    {
     "name": "stdout",
     "output_type": "stream",
     "text": [
      "eigenvalues shape torch.Size([5]) eigenvectors shape torch.Size([5, 500])\n",
      "491 /home/phdcs2/Hard_Disk/Datasets/Deep-Spectral-Segmentation/data/object-segmentation/ECSSD/features/dino_vits16/0492.pth\n",
      "0492\n",
      "Starting Training\n",
      "epoch: 00, loss: -0.40677\n",
      "epoch: 01, loss: -0.41041\n",
      "epoch: 02, loss: -0.41246\n",
      "epoch: 03, loss: -0.41509\n",
      "epoch: 04, loss: -0.41702\n",
      "epoch: 05, loss: -0.41892\n",
      "epoch: 06, loss: -0.41962\n",
      "epoch: 07, loss: -0.42150\n",
      "epoch: 08, loss: -0.42332\n",
      "epoch: 09, loss: -0.42416\n"
     ]
    },
    {
     "name": "stderr",
     "output_type": "stream",
     "text": [
      " 49%|████▉     | 492/1000 [3:08:39<3:23:45, 24.07s/it]"
     ]
    },
    {
     "name": "stdout",
     "output_type": "stream",
     "text": [
      "eigenvalues shape torch.Size([5]) eigenvectors shape torch.Size([5, 450])\n",
      "492 /home/phdcs2/Hard_Disk/Datasets/Deep-Spectral-Segmentation/data/object-segmentation/ECSSD/features/dino_vits16/0493.pth\n",
      "0493\n",
      "Starting Training\n",
      "epoch: 00, loss: -0.38303\n",
      "epoch: 01, loss: -0.39294\n",
      "epoch: 02, loss: -0.39539\n",
      "epoch: 03, loss: -0.39658\n",
      "epoch: 04, loss: -0.39849\n",
      "epoch: 05, loss: -0.39828\n",
      "epoch: 06, loss: -0.39922\n",
      "epoch: 07, loss: -0.39994\n",
      "epoch: 08, loss: -0.39927\n",
      "epoch: 09, loss: -0.39890\n"
     ]
    },
    {
     "name": "stderr",
     "output_type": "stream",
     "text": [
      " 49%|████▉     | 493/1000 [3:09:02<3:22:16, 23.94s/it]"
     ]
    },
    {
     "name": "stdout",
     "output_type": "stream",
     "text": [
      "eigenvalues shape torch.Size([5]) eigenvectors shape torch.Size([5, 400])\n",
      "493 /home/phdcs2/Hard_Disk/Datasets/Deep-Spectral-Segmentation/data/object-segmentation/ECSSD/features/dino_vits16/0494.pth\n",
      "0494\n",
      "Starting Training\n",
      "epoch: 00, loss: -0.42561\n",
      "epoch: 01, loss: -0.43325\n",
      "epoch: 02, loss: -0.43342\n",
      "epoch: 03, loss: -0.43336\n",
      "epoch: 04, loss: -0.43221\n",
      "epoch: 05, loss: -0.43156\n",
      "epoch: 06, loss: -0.43211\n",
      "epoch: 07, loss: -0.43161\n",
      "epoch: 08, loss: -0.43129\n",
      "epoch: 09, loss: -0.43132\n"
     ]
    },
    {
     "name": "stderr",
     "output_type": "stream",
     "text": [
      " 49%|████▉     | 494/1000 [3:09:24<3:15:24, 23.17s/it]"
     ]
    },
    {
     "name": "stdout",
     "output_type": "stream",
     "text": [
      "eigenvalues shape torch.Size([5]) eigenvectors shape torch.Size([5, 400])\n",
      "494 /home/phdcs2/Hard_Disk/Datasets/Deep-Spectral-Segmentation/data/object-segmentation/ECSSD/features/dino_vits16/0495.pth\n",
      "0495\n",
      "Starting Training\n",
      "epoch: 00, loss: -0.35754\n",
      "epoch: 01, loss: -0.34366\n",
      "epoch: 02, loss: -0.34372\n",
      "epoch: 03, loss: -0.34599\n",
      "epoch: 04, loss: -0.34783\n",
      "epoch: 05, loss: -0.35041\n",
      "epoch: 06, loss: -0.35310\n",
      "epoch: 07, loss: -0.35495\n",
      "epoch: 08, loss: -0.35688\n",
      "epoch: 09, loss: -0.35917\n"
     ]
    },
    {
     "name": "stderr",
     "output_type": "stream",
     "text": [
      " 50%|████▉     | 495/1000 [3:09:43<3:04:08, 21.88s/it]"
     ]
    },
    {
     "name": "stdout",
     "output_type": "stream",
     "text": [
      "eigenvalues shape torch.Size([5]) eigenvectors shape torch.Size([5, 400])\n",
      "495 /home/phdcs2/Hard_Disk/Datasets/Deep-Spectral-Segmentation/data/object-segmentation/ECSSD/features/dino_vits16/0496.pth\n",
      "0496\n",
      "Starting Training\n",
      "epoch: 00, loss: -0.38213\n",
      "epoch: 01, loss: -0.39004\n",
      "epoch: 02, loss: -0.39319\n",
      "epoch: 03, loss: -0.39446\n",
      "epoch: 04, loss: -0.39537\n",
      "epoch: 05, loss: -0.39488\n",
      "epoch: 06, loss: -0.39288\n",
      "epoch: 07, loss: -0.39077\n",
      "epoch: 08, loss: -0.38809\n",
      "epoch: 09, loss: -0.38664\n"
     ]
    },
    {
     "name": "stderr",
     "output_type": "stream",
     "text": [
      " 50%|████▉     | 496/1000 [3:10:05<3:03:35, 21.86s/it]"
     ]
    },
    {
     "name": "stdout",
     "output_type": "stream",
     "text": [
      "eigenvalues shape torch.Size([5]) eigenvectors shape torch.Size([5, 450])\n",
      "496 /home/phdcs2/Hard_Disk/Datasets/Deep-Spectral-Segmentation/data/object-segmentation/ECSSD/features/dino_vits16/0497.pth\n",
      "0497\n",
      "Starting Training\n",
      "epoch: 00, loss: -0.59828\n",
      "epoch: 01, loss: -0.56374\n",
      "epoch: 02, loss: -0.56988\n",
      "epoch: 03, loss: -0.57399\n",
      "epoch: 04, loss: -0.57749\n",
      "epoch: 05, loss: -0.58001\n",
      "epoch: 06, loss: -0.58303\n",
      "epoch: 07, loss: -0.58490\n",
      "epoch: 08, loss: -0.58648\n",
      "epoch: 09, loss: -0.58690\n"
     ]
    },
    {
     "name": "stderr",
     "output_type": "stream",
     "text": [
      " 50%|████▉     | 497/1000 [3:10:28<3:06:25, 22.24s/it]"
     ]
    },
    {
     "name": "stdout",
     "output_type": "stream",
     "text": [
      "eigenvalues shape torch.Size([5]) eigenvectors shape torch.Size([5, 450])\n",
      "497 /home/phdcs2/Hard_Disk/Datasets/Deep-Spectral-Segmentation/data/object-segmentation/ECSSD/features/dino_vits16/0498.pth\n",
      "0498\n",
      "Starting Training\n",
      "epoch: 00, loss: -0.34880\n",
      "epoch: 01, loss: -0.35616\n",
      "epoch: 02, loss: -0.36295\n",
      "epoch: 03, loss: -0.36809\n",
      "epoch: 04, loss: -0.37412\n",
      "epoch: 05, loss: -0.37919\n",
      "epoch: 06, loss: -0.38434\n",
      "epoch: 07, loss: -0.38939\n",
      "epoch: 08, loss: -0.39426\n",
      "epoch: 09, loss: -0.39856\n"
     ]
    },
    {
     "name": "stderr",
     "output_type": "stream",
     "text": [
      " 50%|████▉     | 498/1000 [3:10:51<3:09:15, 22.62s/it]"
     ]
    },
    {
     "name": "stdout",
     "output_type": "stream",
     "text": [
      "eigenvalues shape torch.Size([5]) eigenvectors shape torch.Size([5, 400])\n",
      "498 /home/phdcs2/Hard_Disk/Datasets/Deep-Spectral-Segmentation/data/object-segmentation/ECSSD/features/dino_vits16/0499.pth\n",
      "0499\n",
      "Starting Training\n",
      "epoch: 00, loss: -0.41946\n",
      "epoch: 01, loss: -0.43538\n",
      "epoch: 02, loss: -0.44082\n",
      "epoch: 03, loss: -0.44400\n",
      "epoch: 04, loss: -0.44619\n",
      "epoch: 05, loss: -0.44785\n",
      "epoch: 06, loss: -0.44906\n",
      "epoch: 07, loss: -0.45027\n",
      "epoch: 08, loss: -0.45019\n",
      "epoch: 09, loss: -0.45127\n"
     ]
    },
    {
     "name": "stderr",
     "output_type": "stream",
     "text": [
      " 50%|████▉     | 499/1000 [3:11:18<3:19:28, 23.89s/it]"
     ]
    },
    {
     "name": "stdout",
     "output_type": "stream",
     "text": [
      "eigenvalues shape torch.Size([5]) eigenvectors shape torch.Size([5, 450])\n",
      "499 /home/phdcs2/Hard_Disk/Datasets/Deep-Spectral-Segmentation/data/object-segmentation/ECSSD/features/dino_vits16/0500.pth\n",
      "0500\n",
      "Starting Training\n",
      "epoch: 00, loss: -0.38465\n",
      "epoch: 01, loss: -0.38523\n",
      "epoch: 02, loss: -0.38500\n",
      "epoch: 03, loss: -0.38629\n",
      "epoch: 04, loss: -0.38716\n",
      "epoch: 05, loss: -0.38776\n",
      "epoch: 06, loss: -0.38840\n",
      "epoch: 07, loss: -0.38917\n",
      "epoch: 08, loss: -0.39031\n",
      "epoch: 09, loss: -0.39008\n"
     ]
    },
    {
     "name": "stderr",
     "output_type": "stream",
     "text": [
      " 50%|█████     | 500/1000 [3:11:42<3:18:39, 23.84s/it]"
     ]
    },
    {
     "name": "stdout",
     "output_type": "stream",
     "text": [
      "eigenvalues shape torch.Size([5]) eigenvectors shape torch.Size([5, 450])\n",
      "500 /home/phdcs2/Hard_Disk/Datasets/Deep-Spectral-Segmentation/data/object-segmentation/ECSSD/features/dino_vits16/0501.pth\n",
      "0501\n",
      "Starting Training\n",
      "epoch: 00, loss: -0.63735\n",
      "epoch: 01, loss: -0.67471\n",
      "epoch: 02, loss: -0.67673\n",
      "epoch: 03, loss: -0.67846\n",
      "epoch: 04, loss: -0.67983\n",
      "epoch: 05, loss: -0.68113\n",
      "epoch: 06, loss: -0.68189\n",
      "epoch: 07, loss: -0.68287\n",
      "epoch: 08, loss: -0.68372\n",
      "epoch: 09, loss: -0.68421\n"
     ]
    },
    {
     "name": "stderr",
     "output_type": "stream",
     "text": [
      " 50%|█████     | 501/1000 [3:12:02<3:10:05, 22.86s/it]"
     ]
    },
    {
     "name": "stdout",
     "output_type": "stream",
     "text": [
      "eigenvalues shape torch.Size([5]) eigenvectors shape torch.Size([5, 450])\n",
      "501 /home/phdcs2/Hard_Disk/Datasets/Deep-Spectral-Segmentation/data/object-segmentation/ECSSD/features/dino_vits16/0502.pth\n",
      "0502\n",
      "Starting Training\n",
      "epoch: 00, loss: -0.40804\n",
      "epoch: 01, loss: -0.40867\n",
      "epoch: 02, loss: -0.41117\n",
      "epoch: 03, loss: -0.41322\n",
      "epoch: 04, loss: -0.41537\n",
      "epoch: 05, loss: -0.41717\n",
      "epoch: 06, loss: -0.41864\n",
      "epoch: 07, loss: -0.41945\n",
      "epoch: 08, loss: -0.42054\n",
      "epoch: 09, loss: -0.42210\n"
     ]
    },
    {
     "name": "stderr",
     "output_type": "stream",
     "text": [
      " 50%|█████     | 502/1000 [3:12:35<3:33:33, 25.73s/it]"
     ]
    },
    {
     "name": "stdout",
     "output_type": "stream",
     "text": [
      "eigenvalues shape torch.Size([5]) eigenvectors shape torch.Size([5, 625])\n",
      "502 /home/phdcs2/Hard_Disk/Datasets/Deep-Spectral-Segmentation/data/object-segmentation/ECSSD/features/dino_vits16/0503.pth\n",
      "0503\n",
      "Starting Training\n",
      "epoch: 00, loss: -0.38289\n",
      "epoch: 01, loss: -0.39191\n",
      "epoch: 02, loss: -0.39509\n",
      "epoch: 03, loss: -0.39688\n",
      "epoch: 04, loss: -0.39901\n",
      "epoch: 05, loss: -0.40156\n",
      "epoch: 06, loss: -0.40406\n",
      "epoch: 07, loss: -0.40574\n",
      "epoch: 08, loss: -0.40714\n",
      "epoch: 09, loss: -0.40865\n"
     ]
    },
    {
     "name": "stderr",
     "output_type": "stream",
     "text": [
      " 50%|█████     | 503/1000 [3:12:57<3:25:11, 24.77s/it]"
     ]
    },
    {
     "name": "stdout",
     "output_type": "stream",
     "text": [
      "eigenvalues shape torch.Size([5]) eigenvectors shape torch.Size([5, 400])\n",
      "503 /home/phdcs2/Hard_Disk/Datasets/Deep-Spectral-Segmentation/data/object-segmentation/ECSSD/features/dino_vits16/0504.pth\n",
      "0504\n",
      "Starting Training\n",
      "epoch: 00, loss: -0.42098\n",
      "epoch: 01, loss: -0.43935\n",
      "epoch: 02, loss: -0.44110\n",
      "epoch: 03, loss: -0.44365\n",
      "epoch: 04, loss: -0.44361\n",
      "epoch: 05, loss: -0.44328\n",
      "epoch: 06, loss: -0.44380\n",
      "epoch: 07, loss: -0.44302\n",
      "epoch: 08, loss: -0.44310\n",
      "epoch: 09, loss: -0.44317\n"
     ]
    },
    {
     "name": "stderr",
     "output_type": "stream",
     "text": [
      " 50%|█████     | 504/1000 [3:13:20<3:19:47, 24.17s/it]"
     ]
    },
    {
     "name": "stdout",
     "output_type": "stream",
     "text": [
      "eigenvalues shape torch.Size([5]) eigenvectors shape torch.Size([5, 400])\n",
      "504 /home/phdcs2/Hard_Disk/Datasets/Deep-Spectral-Segmentation/data/object-segmentation/ECSSD/features/dino_vits16/0505.pth\n",
      "0505\n",
      "Starting Training\n",
      "epoch: 00, loss: -0.43106\n",
      "epoch: 01, loss: -0.43654\n",
      "epoch: 02, loss: -0.43773\n",
      "epoch: 03, loss: -0.43866\n",
      "epoch: 04, loss: -0.43984\n",
      "epoch: 05, loss: -0.44083\n",
      "epoch: 06, loss: -0.44052\n",
      "epoch: 07, loss: -0.44121\n",
      "epoch: 08, loss: -0.44197\n",
      "epoch: 09, loss: -0.44164\n"
     ]
    },
    {
     "name": "stderr",
     "output_type": "stream",
     "text": [
      " 50%|█████     | 505/1000 [3:13:47<3:27:35, 25.16s/it]"
     ]
    },
    {
     "name": "stdout",
     "output_type": "stream",
     "text": [
      "eigenvalues shape torch.Size([5]) eigenvectors shape torch.Size([5, 450])\n",
      "505 /home/phdcs2/Hard_Disk/Datasets/Deep-Spectral-Segmentation/data/object-segmentation/ECSSD/features/dino_vits16/0506.pth\n",
      "0506\n",
      "Starting Training\n",
      "epoch: 00, loss: -0.41110\n",
      "epoch: 01, loss: -0.42264\n",
      "epoch: 02, loss: -0.42068\n",
      "epoch: 03, loss: -0.42179\n",
      "epoch: 04, loss: -0.42352\n",
      "epoch: 05, loss: -0.42689\n",
      "epoch: 06, loss: -0.42913\n",
      "epoch: 07, loss: -0.43164\n",
      "epoch: 08, loss: -0.43387\n",
      "epoch: 09, loss: -0.43550\n"
     ]
    },
    {
     "name": "stderr",
     "output_type": "stream",
     "text": [
      " 51%|█████     | 506/1000 [3:14:14<3:31:32, 25.69s/it]"
     ]
    },
    {
     "name": "stdout",
     "output_type": "stream",
     "text": [
      "eigenvalues shape torch.Size([5]) eigenvectors shape torch.Size([5, 400])\n",
      "506 /home/phdcs2/Hard_Disk/Datasets/Deep-Spectral-Segmentation/data/object-segmentation/ECSSD/features/dino_vits16/0507.pth\n",
      "0507\n",
      "Starting Training\n",
      "epoch: 00, loss: -0.56750\n",
      "epoch: 01, loss: -0.60368\n",
      "epoch: 02, loss: -0.60609\n",
      "epoch: 03, loss: -0.60761\n",
      "epoch: 04, loss: -0.60933\n",
      "epoch: 05, loss: -0.61017\n",
      "epoch: 06, loss: -0.61126\n",
      "epoch: 07, loss: -0.61207\n",
      "epoch: 08, loss: -0.61253\n",
      "epoch: 09, loss: -0.61327\n"
     ]
    },
    {
     "name": "stderr",
     "output_type": "stream",
     "text": [
      " 51%|█████     | 507/1000 [3:14:36<3:21:04, 24.47s/it]"
     ]
    },
    {
     "name": "stdout",
     "output_type": "stream",
     "text": [
      "eigenvalues shape torch.Size([5]) eigenvectors shape torch.Size([5, 375])\n",
      "507 /home/phdcs2/Hard_Disk/Datasets/Deep-Spectral-Segmentation/data/object-segmentation/ECSSD/features/dino_vits16/0508.pth\n",
      "0508\n",
      "Starting Training\n",
      "epoch: 00, loss: -0.40185\n",
      "epoch: 01, loss: -0.41460\n",
      "epoch: 02, loss: -0.41716\n",
      "epoch: 03, loss: -0.42211\n",
      "epoch: 04, loss: -0.42667\n",
      "epoch: 05, loss: -0.43202\n",
      "epoch: 06, loss: -0.43779\n",
      "epoch: 07, loss: -0.44090\n",
      "epoch: 08, loss: -0.44478\n",
      "epoch: 09, loss: -0.44839\n"
     ]
    },
    {
     "name": "stderr",
     "output_type": "stream",
     "text": [
      " 51%|█████     | 508/1000 [3:14:56<3:08:46, 23.02s/it]"
     ]
    },
    {
     "name": "stdout",
     "output_type": "stream",
     "text": [
      "eigenvalues shape torch.Size([5]) eigenvectors shape torch.Size([5, 400])\n",
      "508 /home/phdcs2/Hard_Disk/Datasets/Deep-Spectral-Segmentation/data/object-segmentation/ECSSD/features/dino_vits16/0509.pth\n",
      "0509\n",
      "Starting Training\n",
      "epoch: 00, loss: -0.49510\n",
      "epoch: 01, loss: -0.50303\n",
      "epoch: 02, loss: -0.51148\n",
      "epoch: 03, loss: -0.51999\n",
      "epoch: 04, loss: -0.52747\n",
      "epoch: 05, loss: -0.53506\n",
      "epoch: 06, loss: -0.54116\n",
      "epoch: 07, loss: -0.54552\n",
      "epoch: 08, loss: -0.55129\n",
      "epoch: 09, loss: -0.55629\n"
     ]
    },
    {
     "name": "stderr",
     "output_type": "stream",
     "text": [
      " 51%|█████     | 509/1000 [3:15:30<3:36:14, 26.42s/it]"
     ]
    },
    {
     "name": "stdout",
     "output_type": "stream",
     "text": [
      "eigenvalues shape torch.Size([5]) eigenvectors shape torch.Size([5, 625])\n",
      "509 /home/phdcs2/Hard_Disk/Datasets/Deep-Spectral-Segmentation/data/object-segmentation/ECSSD/features/dino_vits16/0510.pth\n",
      "0510\n",
      "Starting Training\n",
      "epoch: 00, loss: -0.43850\n",
      "epoch: 01, loss: -0.44149\n",
      "epoch: 02, loss: -0.44078\n",
      "epoch: 03, loss: -0.44024\n",
      "epoch: 04, loss: -0.43984\n",
      "epoch: 05, loss: -0.44058\n",
      "epoch: 06, loss: -0.44167\n",
      "epoch: 07, loss: -0.44278\n",
      "epoch: 08, loss: -0.44333\n",
      "epoch: 09, loss: -0.44414\n"
     ]
    },
    {
     "name": "stderr",
     "output_type": "stream",
     "text": [
      " 51%|█████     | 510/1000 [3:15:50<3:19:05, 24.38s/it]"
     ]
    },
    {
     "name": "stdout",
     "output_type": "stream",
     "text": [
      "eigenvalues shape torch.Size([5]) eigenvectors shape torch.Size([5, 400])\n",
      "510 /home/phdcs2/Hard_Disk/Datasets/Deep-Spectral-Segmentation/data/object-segmentation/ECSSD/features/dino_vits16/0511.pth\n",
      "0511\n",
      "Starting Training\n",
      "epoch: 00, loss: -0.35625\n",
      "epoch: 01, loss: -0.36031\n",
      "epoch: 02, loss: -0.36529\n",
      "epoch: 03, loss: -0.37140\n",
      "epoch: 04, loss: -0.37651\n",
      "epoch: 05, loss: -0.38151\n",
      "epoch: 06, loss: -0.38841\n",
      "epoch: 07, loss: -0.39357\n",
      "epoch: 08, loss: -0.39980\n",
      "epoch: 09, loss: -0.40608\n"
     ]
    },
    {
     "name": "stderr",
     "output_type": "stream",
     "text": [
      " 51%|█████     | 511/1000 [3:16:22<3:38:53, 26.86s/it]"
     ]
    },
    {
     "name": "stdout",
     "output_type": "stream",
     "text": [
      "eigenvalues shape torch.Size([5]) eigenvectors shape torch.Size([5, 625])\n",
      "511 /home/phdcs2/Hard_Disk/Datasets/Deep-Spectral-Segmentation/data/object-segmentation/ECSSD/features/dino_vits16/0512.pth\n",
      "0512\n",
      "Starting Training\n",
      "epoch: 00, loss: -0.36300\n",
      "epoch: 01, loss: -0.36880\n",
      "epoch: 02, loss: -0.36989\n",
      "epoch: 03, loss: -0.37205\n",
      "epoch: 04, loss: -0.37436\n",
      "epoch: 05, loss: -0.37854\n",
      "epoch: 06, loss: -0.38316\n",
      "epoch: 07, loss: -0.38929\n",
      "epoch: 08, loss: -0.39681\n",
      "epoch: 09, loss: -0.40389\n"
     ]
    },
    {
     "name": "stderr",
     "output_type": "stream",
     "text": [
      " 51%|█████     | 512/1000 [3:16:41<3:18:31, 24.41s/it]"
     ]
    },
    {
     "name": "stdout",
     "output_type": "stream",
     "text": [
      "eigenvalues shape torch.Size([5]) eigenvectors shape torch.Size([5, 400])\n",
      "512 /home/phdcs2/Hard_Disk/Datasets/Deep-Spectral-Segmentation/data/object-segmentation/ECSSD/features/dino_vits16/0513.pth\n",
      "0513\n",
      "Starting Training\n",
      "epoch: 00, loss: -0.41166\n",
      "epoch: 01, loss: -0.41918\n",
      "epoch: 02, loss: -0.42227\n",
      "epoch: 03, loss: -0.42485\n",
      "epoch: 04, loss: -0.42613\n",
      "epoch: 05, loss: -0.42636\n",
      "epoch: 06, loss: -0.42854\n",
      "epoch: 07, loss: -0.43231\n",
      "epoch: 08, loss: -0.43544\n",
      "epoch: 09, loss: -0.43849\n"
     ]
    },
    {
     "name": "stderr",
     "output_type": "stream",
     "text": [
      " 51%|█████▏    | 513/1000 [3:17:04<3:14:27, 23.96s/it]"
     ]
    },
    {
     "name": "stdout",
     "output_type": "stream",
     "text": [
      "eigenvalues shape torch.Size([5]) eigenvectors shape torch.Size([5, 400])\n",
      "513 /home/phdcs2/Hard_Disk/Datasets/Deep-Spectral-Segmentation/data/object-segmentation/ECSSD/features/dino_vits16/0514.pth\n",
      "0514\n",
      "Starting Training\n",
      "epoch: 00, loss: -0.39790\n",
      "epoch: 01, loss: -0.41380\n",
      "epoch: 02, loss: -0.41681\n",
      "epoch: 03, loss: -0.41880\n",
      "epoch: 04, loss: -0.41954\n",
      "epoch: 05, loss: -0.42130\n",
      "epoch: 06, loss: -0.42165\n",
      "epoch: 07, loss: -0.42303\n",
      "epoch: 08, loss: -0.42411\n",
      "epoch: 09, loss: -0.42445\n"
     ]
    },
    {
     "name": "stderr",
     "output_type": "stream",
     "text": [
      " 51%|█████▏    | 514/1000 [3:17:28<3:14:21, 24.00s/it]"
     ]
    },
    {
     "name": "stdout",
     "output_type": "stream",
     "text": [
      "eigenvalues shape torch.Size([5]) eigenvectors shape torch.Size([5, 450])\n",
      "514 /home/phdcs2/Hard_Disk/Datasets/Deep-Spectral-Segmentation/data/object-segmentation/ECSSD/features/dino_vits16/0515.pth\n",
      "0515\n",
      "Starting Training\n",
      "epoch: 00, loss: -0.37348\n",
      "epoch: 01, loss: -0.38581\n",
      "epoch: 02, loss: -0.39528\n",
      "epoch: 03, loss: -0.40366\n",
      "epoch: 04, loss: -0.41121\n",
      "epoch: 05, loss: -0.41897\n",
      "epoch: 06, loss: -0.42794\n",
      "epoch: 07, loss: -0.43380\n",
      "epoch: 08, loss: -0.43884\n",
      "epoch: 09, loss: -0.44534\n"
     ]
    },
    {
     "name": "stderr",
     "output_type": "stream",
     "text": [
      " 52%|█████▏    | 515/1000 [3:17:50<3:10:18, 23.54s/it]"
     ]
    },
    {
     "name": "stdout",
     "output_type": "stream",
     "text": [
      "eigenvalues shape torch.Size([5]) eigenvectors shape torch.Size([5, 450])\n",
      "515 /home/phdcs2/Hard_Disk/Datasets/Deep-Spectral-Segmentation/data/object-segmentation/ECSSD/features/dino_vits16/0516.pth\n",
      "0516\n",
      "Starting Training\n",
      "epoch: 00, loss: -0.37924\n",
      "epoch: 01, loss: -0.37069\n",
      "epoch: 02, loss: -0.37183\n",
      "epoch: 03, loss: -0.37558\n",
      "epoch: 04, loss: -0.38513\n",
      "epoch: 05, loss: -0.40222\n",
      "epoch: 06, loss: -0.42927\n",
      "epoch: 07, loss: -0.44705\n",
      "epoch: 08, loss: -0.45768\n",
      "epoch: 09, loss: -0.46449\n"
     ]
    },
    {
     "name": "stderr",
     "output_type": "stream",
     "text": [
      " 52%|█████▏    | 516/1000 [3:18:13<3:07:05, 23.19s/it]"
     ]
    },
    {
     "name": "stdout",
     "output_type": "stream",
     "text": [
      "eigenvalues shape torch.Size([5]) eigenvectors shape torch.Size([5, 450])\n",
      "516 /home/phdcs2/Hard_Disk/Datasets/Deep-Spectral-Segmentation/data/object-segmentation/ECSSD/features/dino_vits16/0517.pth\n",
      "0517\n",
      "Starting Training\n",
      "epoch: 00, loss: -0.43576\n",
      "epoch: 01, loss: -0.43548\n",
      "epoch: 02, loss: -0.43582\n",
      "epoch: 03, loss: -0.43619\n",
      "epoch: 04, loss: -0.43669\n",
      "epoch: 05, loss: -0.43653\n",
      "epoch: 06, loss: -0.43737\n",
      "epoch: 07, loss: -0.43693\n",
      "epoch: 08, loss: -0.43694\n",
      "epoch: 09, loss: -0.43641\n",
      " ** On entry to SLASCL parameter number  4 had an illegal value\n",
      " ** On entry to SLASCL parameter number  4 had an illegal value\n"
     ]
    },
    {
     "name": "stderr",
     "output_type": "stream",
     "text": [
      " 52%|█████▏    | 517/1000 [3:18:38<3:11:59, 23.85s/it]"
     ]
    },
    {
     "name": "stdout",
     "output_type": "stream",
     "text": [
      "eigenvalues shape torch.Size([5]) eigenvectors shape torch.Size([5, 450])\n",
      "517 /home/phdcs2/Hard_Disk/Datasets/Deep-Spectral-Segmentation/data/object-segmentation/ECSSD/features/dino_vits16/0518.pth\n",
      "0518\n",
      "Starting Training\n",
      "epoch: 00, loss: -0.41142\n",
      "epoch: 01, loss: -0.42256\n",
      "epoch: 02, loss: -0.42504\n",
      "epoch: 03, loss: -0.42703\n",
      "epoch: 04, loss: -0.42777\n",
      "epoch: 05, loss: -0.42933\n",
      "epoch: 06, loss: -0.42963\n",
      "epoch: 07, loss: -0.43055\n",
      "epoch: 08, loss: -0.43006\n",
      "epoch: 09, loss: -0.43092\n"
     ]
    },
    {
     "name": "stderr",
     "output_type": "stream",
     "text": [
      " 52%|█████▏    | 518/1000 [3:18:56<2:57:31, 22.10s/it]"
     ]
    },
    {
     "name": "stdout",
     "output_type": "stream",
     "text": [
      "eigenvalues shape torch.Size([5]) eigenvectors shape torch.Size([5, 400])\n",
      "518 /home/phdcs2/Hard_Disk/Datasets/Deep-Spectral-Segmentation/data/object-segmentation/ECSSD/features/dino_vits16/0519.pth\n",
      "0519\n",
      "Starting Training\n",
      "epoch: 00, loss: -0.41951\n",
      "epoch: 01, loss: -0.43988\n",
      "epoch: 02, loss: -0.44280\n",
      "epoch: 03, loss: -0.44378\n",
      "epoch: 04, loss: -0.44392\n",
      "epoch: 05, loss: -0.44525\n",
      "epoch: 06, loss: -0.44583\n",
      "epoch: 07, loss: -0.44668\n",
      "epoch: 08, loss: -0.44628\n",
      "epoch: 09, loss: -0.44763\n"
     ]
    },
    {
     "name": "stderr",
     "output_type": "stream",
     "text": [
      " 52%|█████▏    | 519/1000 [3:19:16<2:51:37, 21.41s/it]"
     ]
    },
    {
     "name": "stdout",
     "output_type": "stream",
     "text": [
      "eigenvalues shape torch.Size([5]) eigenvectors shape torch.Size([5, 375])\n",
      "519 /home/phdcs2/Hard_Disk/Datasets/Deep-Spectral-Segmentation/data/object-segmentation/ECSSD/features/dino_vits16/0520.pth\n",
      "0520\n",
      "Starting Training\n",
      "epoch: 00, loss: -0.65287\n",
      "epoch: 01, loss: -0.68587\n",
      "epoch: 02, loss: -0.68800\n",
      "epoch: 03, loss: -0.68933\n",
      "epoch: 04, loss: -0.69066\n",
      "epoch: 05, loss: -0.69172\n",
      "epoch: 06, loss: -0.69245\n",
      "epoch: 07, loss: -0.69272\n",
      "epoch: 08, loss: -0.69374\n",
      "epoch: 09, loss: -0.69442\n"
     ]
    },
    {
     "name": "stderr",
     "output_type": "stream",
     "text": [
      " 52%|█████▏    | 520/1000 [3:19:37<2:51:12, 21.40s/it]"
     ]
    },
    {
     "name": "stdout",
     "output_type": "stream",
     "text": [
      "eigenvalues shape torch.Size([5]) eigenvectors shape torch.Size([5, 450])\n",
      "520 /home/phdcs2/Hard_Disk/Datasets/Deep-Spectral-Segmentation/data/object-segmentation/ECSSD/features/dino_vits16/0521.pth\n",
      "0521\n",
      "Starting Training\n",
      "epoch: 00, loss: -0.62706\n",
      "epoch: 01, loss: -0.72040\n",
      "epoch: 02, loss: -0.72113\n",
      "epoch: 03, loss: -0.72193\n",
      "epoch: 04, loss: -0.72214\n",
      "epoch: 05, loss: -0.72241\n",
      "epoch: 06, loss: -0.72217\n",
      "epoch: 07, loss: -0.72307\n",
      "epoch: 08, loss: -0.72281\n",
      "epoch: 09, loss: -0.72336\n"
     ]
    },
    {
     "name": "stderr",
     "output_type": "stream",
     "text": [
      " 52%|█████▏    | 521/1000 [3:20:00<2:52:54, 21.66s/it]"
     ]
    },
    {
     "name": "stdout",
     "output_type": "stream",
     "text": [
      "eigenvalues shape torch.Size([5]) eigenvectors shape torch.Size([5, 450])\n",
      "521 /home/phdcs2/Hard_Disk/Datasets/Deep-Spectral-Segmentation/data/object-segmentation/ECSSD/features/dino_vits16/0522.pth\n",
      "0522\n",
      "Starting Training\n",
      "epoch: 00, loss: -0.37380\n",
      "epoch: 01, loss: -0.37697\n",
      "epoch: 02, loss: -0.37658\n",
      "epoch: 03, loss: -0.37656\n",
      "epoch: 04, loss: -0.37719\n",
      "epoch: 05, loss: -0.37910\n",
      "epoch: 06, loss: -0.38228\n",
      "epoch: 07, loss: -0.38599\n",
      "epoch: 08, loss: -0.38909\n",
      "epoch: 09, loss: -0.39365\n"
     ]
    },
    {
     "name": "stderr",
     "output_type": "stream",
     "text": [
      " 52%|█████▏    | 522/1000 [3:20:20<2:48:23, 21.14s/it]"
     ]
    },
    {
     "name": "stdout",
     "output_type": "stream",
     "text": [
      "eigenvalues shape torch.Size([5]) eigenvectors shape torch.Size([5, 450])\n",
      "522 /home/phdcs2/Hard_Disk/Datasets/Deep-Spectral-Segmentation/data/object-segmentation/ECSSD/features/dino_vits16/0523.pth\n",
      "0523\n",
      "Starting Training\n",
      "epoch: 00, loss: -0.40108\n",
      "epoch: 01, loss: -0.39643\n",
      "epoch: 02, loss: -0.39525\n",
      "epoch: 03, loss: -0.39230\n",
      "epoch: 04, loss: -0.38835\n",
      "epoch: 05, loss: -0.38428\n",
      "epoch: 06, loss: -0.37946\n",
      "epoch: 07, loss: -0.37775\n",
      "epoch: 08, loss: -0.37831\n",
      "epoch: 09, loss: -0.37955\n"
     ]
    },
    {
     "name": "stderr",
     "output_type": "stream",
     "text": [
      " 52%|█████▏    | 523/1000 [3:20:42<2:51:46, 21.61s/it]"
     ]
    },
    {
     "name": "stdout",
     "output_type": "stream",
     "text": [
      "eigenvalues shape torch.Size([5]) eigenvectors shape torch.Size([5, 450])\n",
      "523 /home/phdcs2/Hard_Disk/Datasets/Deep-Spectral-Segmentation/data/object-segmentation/ECSSD/features/dino_vits16/0524.pth\n",
      "0524\n",
      "Starting Training\n",
      "epoch: 00, loss: -0.39290\n",
      "epoch: 01, loss: -0.39783\n",
      "epoch: 02, loss: -0.39745\n",
      "epoch: 03, loss: -0.39433\n",
      "epoch: 04, loss: -0.39427\n",
      "epoch: 05, loss: -0.39382\n",
      "epoch: 06, loss: -0.39424\n",
      "epoch: 07, loss: -0.39448\n",
      "epoch: 08, loss: -0.39395\n",
      "epoch: 09, loss: -0.39449\n"
     ]
    },
    {
     "name": "stderr",
     "output_type": "stream",
     "text": [
      " 52%|█████▏    | 524/1000 [3:21:10<3:05:12, 23.35s/it]"
     ]
    },
    {
     "name": "stdout",
     "output_type": "stream",
     "text": [
      "eigenvalues shape torch.Size([5]) eigenvectors shape torch.Size([5, 475])\n",
      "524 /home/phdcs2/Hard_Disk/Datasets/Deep-Spectral-Segmentation/data/object-segmentation/ECSSD/features/dino_vits16/0525.pth\n",
      "0525\n",
      "Starting Training\n",
      "epoch: 00, loss: -0.38813\n",
      "epoch: 01, loss: -0.39324\n",
      "epoch: 02, loss: -0.39422\n",
      "epoch: 03, loss: -0.39518\n",
      "epoch: 04, loss: -0.39721\n",
      "epoch: 05, loss: -0.39834\n",
      "epoch: 06, loss: -0.39884\n",
      "epoch: 07, loss: -0.40015\n",
      "epoch: 08, loss: -0.40029\n",
      "epoch: 09, loss: -0.40104\n"
     ]
    },
    {
     "name": "stderr",
     "output_type": "stream",
     "text": [
      " 52%|█████▎    | 525/1000 [3:21:32<3:03:06, 23.13s/it]"
     ]
    },
    {
     "name": "stdout",
     "output_type": "stream",
     "text": [
      "eigenvalues shape torch.Size([5]) eigenvectors shape torch.Size([5, 400])\n",
      "525 /home/phdcs2/Hard_Disk/Datasets/Deep-Spectral-Segmentation/data/object-segmentation/ECSSD/features/dino_vits16/0526.pth\n",
      "0526\n",
      "Starting Training\n",
      "epoch: 00, loss: -0.35848\n",
      "epoch: 01, loss: -0.35748\n",
      "epoch: 02, loss: -0.35867\n",
      "epoch: 03, loss: -0.36049\n",
      "epoch: 04, loss: -0.36201\n",
      "epoch: 05, loss: -0.36460\n",
      "epoch: 06, loss: -0.36636\n",
      "epoch: 07, loss: -0.36739\n",
      "epoch: 08, loss: -0.36966\n",
      "epoch: 09, loss: -0.37189\n"
     ]
    },
    {
     "name": "stderr",
     "output_type": "stream",
     "text": [
      " 53%|█████▎    | 526/1000 [3:22:01<3:15:12, 24.71s/it]"
     ]
    },
    {
     "name": "stdout",
     "output_type": "stream",
     "text": [
      "eigenvalues shape torch.Size([5]) eigenvectors shape torch.Size([5, 500])\n",
      "526 /home/phdcs2/Hard_Disk/Datasets/Deep-Spectral-Segmentation/data/object-segmentation/ECSSD/features/dino_vits16/0527.pth\n",
      "0527\n",
      "Starting Training\n",
      "epoch: 00, loss: -0.59354\n",
      "epoch: 01, loss: -0.63809\n",
      "epoch: 02, loss: -0.63930\n",
      "epoch: 03, loss: -0.64019\n",
      "epoch: 04, loss: -0.64037\n",
      "epoch: 05, loss: -0.64041\n",
      "epoch: 06, loss: -0.64112\n",
      "epoch: 07, loss: -0.64125\n",
      "epoch: 08, loss: -0.64114\n",
      "epoch: 09, loss: -0.64131\n"
     ]
    },
    {
     "name": "stderr",
     "output_type": "stream",
     "text": [
      " 53%|█████▎    | 527/1000 [3:22:20<3:01:39, 23.04s/it]"
     ]
    },
    {
     "name": "stdout",
     "output_type": "stream",
     "text": [
      "eigenvalues shape torch.Size([5]) eigenvectors shape torch.Size([5, 400])\n",
      "527 /home/phdcs2/Hard_Disk/Datasets/Deep-Spectral-Segmentation/data/object-segmentation/ECSSD/features/dino_vits16/0528.pth\n",
      "0528\n",
      "Starting Training\n",
      "epoch: 00, loss: -0.38396\n",
      "epoch: 01, loss: -0.38663\n",
      "epoch: 02, loss: -0.38421\n",
      "epoch: 03, loss: -0.38290\n",
      "epoch: 04, loss: -0.38246\n",
      "epoch: 05, loss: -0.38310\n",
      "epoch: 06, loss: -0.38272\n",
      "epoch: 07, loss: -0.38783\n",
      "epoch: 08, loss: -0.38999\n",
      "epoch: 09, loss: -0.39442\n"
     ]
    },
    {
     "name": "stderr",
     "output_type": "stream",
     "text": [
      " 53%|█████▎    | 528/1000 [3:22:38<2:50:18, 21.65s/it]"
     ]
    },
    {
     "name": "stdout",
     "output_type": "stream",
     "text": [
      "eigenvalues shape torch.Size([5]) eigenvectors shape torch.Size([5, 400])\n",
      "528 /home/phdcs2/Hard_Disk/Datasets/Deep-Spectral-Segmentation/data/object-segmentation/ECSSD/features/dino_vits16/0529.pth\n",
      "0529\n",
      "Starting Training\n",
      "epoch: 00, loss: -0.39075\n",
      "epoch: 01, loss: -0.39329\n",
      "epoch: 02, loss: -0.39087\n",
      "epoch: 03, loss: -0.39075\n",
      "epoch: 04, loss: -0.38896\n",
      "epoch: 05, loss: -0.38671\n",
      "epoch: 06, loss: -0.38596\n",
      "epoch: 07, loss: -0.38345\n",
      "epoch: 08, loss: -0.38242\n",
      "epoch: 09, loss: -0.38231\n"
     ]
    },
    {
     "name": "stderr",
     "output_type": "stream",
     "text": [
      " 53%|█████▎    | 529/1000 [3:23:02<2:55:56, 22.41s/it]"
     ]
    },
    {
     "name": "stdout",
     "output_type": "stream",
     "text": [
      "eigenvalues shape torch.Size([5]) eigenvectors shape torch.Size([5, 400])\n",
      "529 /home/phdcs2/Hard_Disk/Datasets/Deep-Spectral-Segmentation/data/object-segmentation/ECSSD/features/dino_vits16/0530.pth\n",
      "0530\n",
      "Starting Training\n",
      "epoch: 00, loss: -0.48217\n",
      "epoch: 01, loss: -0.49161\n",
      "epoch: 02, loss: -0.49375\n",
      "epoch: 03, loss: -0.49595\n",
      "epoch: 04, loss: -0.49709\n",
      "epoch: 05, loss: -0.49833\n",
      "epoch: 06, loss: -0.49922\n",
      "epoch: 07, loss: -0.50100\n",
      "epoch: 08, loss: -0.50123\n",
      "epoch: 09, loss: -0.50186\n"
     ]
    },
    {
     "name": "stderr",
     "output_type": "stream",
     "text": [
      " 53%|█████▎    | 530/1000 [3:23:34<3:15:51, 25.00s/it]"
     ]
    },
    {
     "name": "stdout",
     "output_type": "stream",
     "text": [
      "eigenvalues shape torch.Size([5]) eigenvectors shape torch.Size([5, 500])\n",
      "530 /home/phdcs2/Hard_Disk/Datasets/Deep-Spectral-Segmentation/data/object-segmentation/ECSSD/features/dino_vits16/0531.pth\n",
      "0531\n",
      "Starting Training\n",
      "epoch: 00, loss: -0.36729\n",
      "epoch: 01, loss: -0.38303\n",
      "epoch: 02, loss: -0.38794\n",
      "epoch: 03, loss: -0.39319\n",
      "epoch: 04, loss: -0.39864\n",
      "epoch: 05, loss: -0.40266\n",
      "epoch: 06, loss: -0.40628\n",
      "epoch: 07, loss: -0.41081\n",
      "epoch: 08, loss: -0.41449\n",
      "epoch: 09, loss: -0.41741\n"
     ]
    },
    {
     "name": "stderr",
     "output_type": "stream",
     "text": [
      " 53%|█████▎    | 531/1000 [3:24:03<3:26:52, 26.46s/it]"
     ]
    },
    {
     "name": "stdout",
     "output_type": "stream",
     "text": [
      "eigenvalues shape torch.Size([5]) eigenvectors shape torch.Size([5, 450])\n",
      "531 /home/phdcs2/Hard_Disk/Datasets/Deep-Spectral-Segmentation/data/object-segmentation/ECSSD/features/dino_vits16/0532.pth\n",
      "0532\n",
      "Starting Training\n",
      "epoch: 00, loss: -0.42279\n",
      "epoch: 01, loss: -0.43973\n",
      "epoch: 02, loss: -0.44200\n",
      "epoch: 03, loss: -0.44395\n",
      "epoch: 04, loss: -0.44539\n",
      "epoch: 05, loss: -0.44658\n",
      "epoch: 06, loss: -0.44698\n",
      "epoch: 07, loss: -0.44790\n",
      "epoch: 08, loss: -0.44809\n",
      "epoch: 09, loss: -0.44865\n"
     ]
    },
    {
     "name": "stderr",
     "output_type": "stream",
     "text": [
      " 53%|█████▎    | 532/1000 [3:24:34<3:36:08, 27.71s/it]"
     ]
    },
    {
     "name": "stdout",
     "output_type": "stream",
     "text": [
      "eigenvalues shape torch.Size([5]) eigenvectors shape torch.Size([5, 450])\n",
      "532 /home/phdcs2/Hard_Disk/Datasets/Deep-Spectral-Segmentation/data/object-segmentation/ECSSD/features/dino_vits16/0533.pth\n",
      "0533\n",
      "Starting Training\n",
      "epoch: 00, loss: -0.34249\n",
      "epoch: 01, loss: -0.34321\n",
      "epoch: 02, loss: -0.34658\n",
      "epoch: 03, loss: -0.35079\n",
      "epoch: 04, loss: -0.35393\n",
      "epoch: 05, loss: -0.35635\n",
      "epoch: 06, loss: -0.35841\n",
      "epoch: 07, loss: -0.36047\n",
      "epoch: 08, loss: -0.36231\n",
      "epoch: 09, loss: -0.36369\n"
     ]
    },
    {
     "name": "stderr",
     "output_type": "stream",
     "text": [
      " 53%|█████▎    | 533/1000 [3:24:57<3:23:32, 26.15s/it]"
     ]
    },
    {
     "name": "stdout",
     "output_type": "stream",
     "text": [
      "eigenvalues shape torch.Size([5]) eigenvectors shape torch.Size([5, 400])\n",
      "533 /home/phdcs2/Hard_Disk/Datasets/Deep-Spectral-Segmentation/data/object-segmentation/ECSSD/features/dino_vits16/0534.pth\n",
      "0534\n",
      "Starting Training\n",
      "epoch: 00, loss: -0.42175\n",
      "epoch: 01, loss: -0.42649\n",
      "epoch: 02, loss: -0.42052\n",
      "epoch: 03, loss: -0.41537\n",
      "epoch: 04, loss: -0.41333\n",
      "epoch: 05, loss: -0.41275\n",
      "epoch: 06, loss: -0.41240\n",
      "epoch: 07, loss: -0.41133\n",
      "epoch: 08, loss: -0.41042\n",
      "epoch: 09, loss: -0.40942\n"
     ]
    },
    {
     "name": "stderr",
     "output_type": "stream",
     "text": [
      " 53%|█████▎    | 534/1000 [3:25:19<3:14:59, 25.11s/it]"
     ]
    },
    {
     "name": "stdout",
     "output_type": "stream",
     "text": [
      "eigenvalues shape torch.Size([5]) eigenvectors shape torch.Size([5, 450])\n",
      "534 /home/phdcs2/Hard_Disk/Datasets/Deep-Spectral-Segmentation/data/object-segmentation/ECSSD/features/dino_vits16/0535.pth\n",
      "0535\n",
      "Starting Training\n",
      "epoch: 00, loss: -0.33986\n",
      "epoch: 01, loss: -0.34564\n",
      "epoch: 02, loss: -0.34950\n",
      "epoch: 03, loss: -0.35512\n",
      "epoch: 04, loss: -0.36048\n",
      "epoch: 05, loss: -0.36676\n",
      "epoch: 06, loss: -0.37349\n",
      "epoch: 07, loss: -0.37593\n",
      "epoch: 08, loss: -0.37970\n",
      "epoch: 09, loss: -0.38243\n"
     ]
    },
    {
     "name": "stderr",
     "output_type": "stream",
     "text": [
      " 54%|█████▎    | 535/1000 [3:25:40<3:03:39, 23.70s/it]"
     ]
    },
    {
     "name": "stdout",
     "output_type": "stream",
     "text": [
      "eigenvalues shape torch.Size([5]) eigenvectors shape torch.Size([5, 400])\n",
      "535 /home/phdcs2/Hard_Disk/Datasets/Deep-Spectral-Segmentation/data/object-segmentation/ECSSD/features/dino_vits16/0536.pth\n",
      "0536\n",
      "Starting Training\n",
      "epoch: 00, loss: -0.38011\n",
      "epoch: 01, loss: -0.38699\n",
      "epoch: 02, loss: -0.39001\n",
      "epoch: 03, loss: -0.39216\n",
      "epoch: 04, loss: -0.39398\n",
      "epoch: 05, loss: -0.39485\n",
      "epoch: 06, loss: -0.39616\n",
      "epoch: 07, loss: -0.39674\n",
      "epoch: 08, loss: -0.39846\n",
      "epoch: 09, loss: -0.39848\n"
     ]
    },
    {
     "name": "stderr",
     "output_type": "stream",
     "text": [
      " 54%|█████▎    | 536/1000 [3:26:05<3:06:40, 24.14s/it]"
     ]
    },
    {
     "name": "stdout",
     "output_type": "stream",
     "text": [
      "eigenvalues shape torch.Size([5]) eigenvectors shape torch.Size([5, 450])\n",
      "536 /home/phdcs2/Hard_Disk/Datasets/Deep-Spectral-Segmentation/data/object-segmentation/ECSSD/features/dino_vits16/0537.pth\n",
      "0537\n",
      "Starting Training\n",
      "epoch: 00, loss: -0.40247\n",
      "epoch: 01, loss: -0.41820\n",
      "epoch: 02, loss: -0.42739\n",
      "epoch: 03, loss: -0.43629\n",
      "epoch: 04, loss: -0.44529\n",
      "epoch: 05, loss: -0.45236\n",
      "epoch: 06, loss: -0.46037\n",
      "epoch: 07, loss: -0.46759\n",
      "epoch: 08, loss: -0.47267\n",
      "epoch: 09, loss: -0.47737\n"
     ]
    },
    {
     "name": "stderr",
     "output_type": "stream",
     "text": [
      " 54%|█████▎    | 537/1000 [3:26:29<3:05:46, 24.08s/it]"
     ]
    },
    {
     "name": "stdout",
     "output_type": "stream",
     "text": [
      "eigenvalues shape torch.Size([5]) eigenvectors shape torch.Size([5, 450])\n",
      "537 /home/phdcs2/Hard_Disk/Datasets/Deep-Spectral-Segmentation/data/object-segmentation/ECSSD/features/dino_vits16/0538.pth\n",
      "0538\n",
      "Starting Training\n",
      "epoch: 00, loss: -0.37911\n",
      "epoch: 01, loss: -0.37695\n",
      "epoch: 02, loss: -0.37144\n",
      "epoch: 03, loss: -0.36538\n",
      "epoch: 04, loss: -0.36099\n",
      "epoch: 05, loss: -0.35721\n",
      "epoch: 06, loss: -0.35376\n",
      "epoch: 07, loss: -0.35130\n",
      "epoch: 08, loss: -0.34939\n",
      "epoch: 09, loss: -0.34895\n"
     ]
    },
    {
     "name": "stderr",
     "output_type": "stream",
     "text": [
      " 54%|█████▍    | 538/1000 [3:26:47<2:52:17, 22.38s/it]"
     ]
    },
    {
     "name": "stdout",
     "output_type": "stream",
     "text": [
      "eigenvalues shape torch.Size([5]) eigenvectors shape torch.Size([5, 400])\n",
      "538 /home/phdcs2/Hard_Disk/Datasets/Deep-Spectral-Segmentation/data/object-segmentation/ECSSD/features/dino_vits16/0539.pth\n",
      "0539\n",
      "Starting Training\n",
      "epoch: 00, loss: -0.36426\n",
      "epoch: 01, loss: -0.36756\n",
      "epoch: 02, loss: -0.36478\n",
      "epoch: 03, loss: -0.36318\n",
      "epoch: 04, loss: -0.36278\n",
      "epoch: 05, loss: -0.36530\n",
      "epoch: 06, loss: -0.36547\n",
      "epoch: 07, loss: -0.36623\n",
      "epoch: 08, loss: -0.36700\n",
      "epoch: 09, loss: -0.36831\n"
     ]
    },
    {
     "name": "stderr",
     "output_type": "stream",
     "text": [
      " 54%|█████▍    | 539/1000 [3:27:10<2:54:02, 22.65s/it]"
     ]
    },
    {
     "name": "stdout",
     "output_type": "stream",
     "text": [
      "eigenvalues shape torch.Size([5]) eigenvectors shape torch.Size([5, 425])\n",
      "539 /home/phdcs2/Hard_Disk/Datasets/Deep-Spectral-Segmentation/data/object-segmentation/ECSSD/features/dino_vits16/0540.pth\n",
      "0540\n",
      "Starting Training\n",
      "epoch: 00, loss: -0.39454\n",
      "epoch: 01, loss: -0.40393\n",
      "epoch: 02, loss: -0.40471\n",
      "epoch: 03, loss: -0.40561\n",
      "epoch: 04, loss: -0.40542\n",
      "epoch: 05, loss: -0.40493\n",
      "epoch: 06, loss: -0.40532\n",
      "epoch: 07, loss: -0.40482\n",
      "epoch: 08, loss: -0.40427\n",
      "epoch: 09, loss: -0.40416\n"
     ]
    },
    {
     "name": "stderr",
     "output_type": "stream",
     "text": [
      " 54%|█████▍    | 540/1000 [3:27:33<2:53:51, 22.68s/it]"
     ]
    },
    {
     "name": "stdout",
     "output_type": "stream",
     "text": [
      "eigenvalues shape torch.Size([5]) eigenvectors shape torch.Size([5, 450])\n",
      "540 /home/phdcs2/Hard_Disk/Datasets/Deep-Spectral-Segmentation/data/object-segmentation/ECSSD/features/dino_vits16/0541.pth\n",
      "0541\n",
      "Starting Training\n",
      "epoch: 00, loss: -0.36840\n",
      "epoch: 01, loss: -0.35315\n",
      "epoch: 02, loss: -0.34967\n",
      "epoch: 03, loss: -0.35057\n",
      "epoch: 04, loss: -0.35280\n",
      "epoch: 05, loss: -0.35507\n",
      "epoch: 06, loss: -0.35681\n",
      "epoch: 07, loss: -0.35877\n",
      "epoch: 08, loss: -0.35989\n",
      "epoch: 09, loss: -0.36119\n"
     ]
    },
    {
     "name": "stderr",
     "output_type": "stream",
     "text": [
      " 54%|█████▍    | 541/1000 [3:27:56<2:52:57, 22.61s/it]"
     ]
    },
    {
     "name": "stdout",
     "output_type": "stream",
     "text": [
      "eigenvalues shape torch.Size([5]) eigenvectors shape torch.Size([5, 400])\n",
      "541 /home/phdcs2/Hard_Disk/Datasets/Deep-Spectral-Segmentation/data/object-segmentation/ECSSD/features/dino_vits16/0542.pth\n",
      "0542\n",
      "Starting Training\n",
      "epoch: 00, loss: -0.40215\n",
      "epoch: 01, loss: -0.39826\n",
      "epoch: 02, loss: -0.39132\n",
      "epoch: 03, loss: -0.38791\n",
      "epoch: 04, loss: -0.38543\n",
      "epoch: 05, loss: -0.38461\n",
      "epoch: 06, loss: -0.38352\n",
      "epoch: 07, loss: -0.38349\n",
      "epoch: 08, loss: -0.38250\n",
      "epoch: 09, loss: -0.38216\n"
     ]
    },
    {
     "name": "stderr",
     "output_type": "stream",
     "text": [
      " 54%|█████▍    | 542/1000 [3:28:20<2:57:15, 23.22s/it]"
     ]
    },
    {
     "name": "stdout",
     "output_type": "stream",
     "text": [
      "eigenvalues shape torch.Size([5]) eigenvectors shape torch.Size([5, 450])\n",
      "542 /home/phdcs2/Hard_Disk/Datasets/Deep-Spectral-Segmentation/data/object-segmentation/ECSSD/features/dino_vits16/0543.pth\n",
      "0543\n",
      "Starting Training\n",
      "epoch: 00, loss: -0.38831\n",
      "epoch: 01, loss: -0.39331\n",
      "epoch: 02, loss: -0.38777\n",
      "epoch: 03, loss: -0.38645\n",
      "epoch: 04, loss: -0.38513\n",
      "epoch: 05, loss: -0.38480\n",
      "epoch: 06, loss: -0.38792\n",
      "epoch: 07, loss: -0.39346\n",
      "epoch: 08, loss: -0.39878\n",
      "epoch: 09, loss: -0.40095\n"
     ]
    },
    {
     "name": "stderr",
     "output_type": "stream",
     "text": [
      " 54%|█████▍    | 543/1000 [3:28:38<2:45:07, 21.68s/it]"
     ]
    },
    {
     "name": "stdout",
     "output_type": "stream",
     "text": [
      "eigenvalues shape torch.Size([5]) eigenvectors shape torch.Size([5, 400])\n",
      "543 /home/phdcs2/Hard_Disk/Datasets/Deep-Spectral-Segmentation/data/object-segmentation/ECSSD/features/dino_vits16/0544.pth\n",
      "0544\n",
      "Starting Training\n",
      "epoch: 00, loss: -0.59274\n",
      "epoch: 01, loss: -0.63724\n",
      "epoch: 02, loss: -0.64025\n",
      "epoch: 03, loss: -0.64215\n",
      "epoch: 04, loss: -0.64354\n",
      "epoch: 05, loss: -0.64435\n",
      "epoch: 06, loss: -0.64536\n",
      "epoch: 07, loss: -0.64607\n",
      "epoch: 08, loss: -0.64689\n",
      "epoch: 09, loss: -0.64791\n"
     ]
    },
    {
     "name": "stderr",
     "output_type": "stream",
     "text": [
      " 54%|█████▍    | 544/1000 [3:29:01<2:47:15, 22.01s/it]"
     ]
    },
    {
     "name": "stdout",
     "output_type": "stream",
     "text": [
      "eigenvalues shape torch.Size([5]) eigenvectors shape torch.Size([5, 400])\n",
      "544 /home/phdcs2/Hard_Disk/Datasets/Deep-Spectral-Segmentation/data/object-segmentation/ECSSD/features/dino_vits16/0545.pth\n",
      "0545\n",
      "Starting Training\n",
      "epoch: 00, loss: -0.39817\n",
      "epoch: 01, loss: -0.41070\n",
      "epoch: 02, loss: -0.41502\n",
      "epoch: 03, loss: -0.41809\n",
      "epoch: 04, loss: -0.41958\n",
      "epoch: 05, loss: -0.42117\n",
      "epoch: 06, loss: -0.42229\n",
      "epoch: 07, loss: -0.42243\n",
      "epoch: 08, loss: -0.42339\n",
      "epoch: 09, loss: -0.42361\n"
     ]
    },
    {
     "name": "stderr",
     "output_type": "stream",
     "text": [
      " 55%|█████▍    | 545/1000 [3:29:22<2:45:27, 21.82s/it]"
     ]
    },
    {
     "name": "stdout",
     "output_type": "stream",
     "text": [
      "eigenvalues shape torch.Size([5]) eigenvectors shape torch.Size([5, 400])\n",
      "545 /home/phdcs2/Hard_Disk/Datasets/Deep-Spectral-Segmentation/data/object-segmentation/ECSSD/features/dino_vits16/0546.pth\n",
      "0546\n",
      "Starting Training\n",
      "epoch: 00, loss: -0.39505\n",
      "epoch: 01, loss: -0.40574\n",
      "epoch: 02, loss: -0.40848\n",
      "epoch: 03, loss: -0.41038\n",
      "epoch: 04, loss: -0.41167\n",
      "epoch: 05, loss: -0.41361\n",
      "epoch: 06, loss: -0.41413\n",
      "epoch: 07, loss: -0.41411\n",
      "epoch: 08, loss: -0.41509\n",
      "epoch: 09, loss: -0.41520\n"
     ]
    },
    {
     "name": "stderr",
     "output_type": "stream",
     "text": [
      " 55%|█████▍    | 546/1000 [3:29:49<2:54:57, 23.12s/it]"
     ]
    },
    {
     "name": "stdout",
     "output_type": "stream",
     "text": [
      "eigenvalues shape torch.Size([5]) eigenvectors shape torch.Size([5, 450])\n",
      "546 /home/phdcs2/Hard_Disk/Datasets/Deep-Spectral-Segmentation/data/object-segmentation/ECSSD/features/dino_vits16/0547.pth\n",
      "0547\n",
      "Starting Training\n",
      "epoch: 00, loss: -0.39538\n",
      "epoch: 01, loss: -0.39706\n",
      "epoch: 02, loss: -0.39330\n",
      "epoch: 03, loss: -0.39150\n",
      "epoch: 04, loss: -0.39052\n",
      "epoch: 05, loss: -0.39079\n",
      "epoch: 06, loss: -0.39044\n",
      "epoch: 07, loss: -0.38985\n",
      "epoch: 08, loss: -0.38968\n",
      "epoch: 09, loss: -0.39008\n"
     ]
    },
    {
     "name": "stderr",
     "output_type": "stream",
     "text": [
      " 55%|█████▍    | 547/1000 [3:30:18<3:07:50, 24.88s/it]"
     ]
    },
    {
     "name": "stdout",
     "output_type": "stream",
     "text": [
      "eigenvalues shape torch.Size([5]) eigenvectors shape torch.Size([5, 450])\n",
      "547 /home/phdcs2/Hard_Disk/Datasets/Deep-Spectral-Segmentation/data/object-segmentation/ECSSD/features/dino_vits16/0548.pth\n",
      "0548\n",
      "Starting Training\n",
      "epoch: 00, loss: -0.36903\n",
      "epoch: 01, loss: -0.36293\n",
      "epoch: 02, loss: -0.36696\n",
      "epoch: 03, loss: -0.37038\n",
      "epoch: 04, loss: -0.37326\n",
      "epoch: 05, loss: -0.37645\n",
      "epoch: 06, loss: -0.37973\n",
      "epoch: 07, loss: -0.38256\n",
      "epoch: 08, loss: -0.38517\n",
      "epoch: 09, loss: -0.38766\n"
     ]
    },
    {
     "name": "stderr",
     "output_type": "stream",
     "text": [
      " 55%|█████▍    | 548/1000 [3:30:44<3:10:49, 25.33s/it]"
     ]
    },
    {
     "name": "stdout",
     "output_type": "stream",
     "text": [
      "eigenvalues shape torch.Size([5]) eigenvectors shape torch.Size([5, 425])\n",
      "548 /home/phdcs2/Hard_Disk/Datasets/Deep-Spectral-Segmentation/data/object-segmentation/ECSSD/features/dino_vits16/0549.pth\n",
      "0549\n",
      "Starting Training\n",
      "epoch: 00, loss: -0.43902\n",
      "epoch: 01, loss: -0.44869\n",
      "epoch: 02, loss: -0.44756\n",
      "epoch: 03, loss: -0.44697\n",
      "epoch: 04, loss: -0.44740\n",
      "epoch: 05, loss: -0.44869\n",
      "epoch: 06, loss: -0.44979\n",
      "epoch: 07, loss: -0.45116\n",
      "epoch: 08, loss: -0.45255\n",
      "epoch: 09, loss: -0.45418\n"
     ]
    },
    {
     "name": "stderr",
     "output_type": "stream",
     "text": [
      " 55%|█████▍    | 549/1000 [3:31:08<3:07:41, 24.97s/it]"
     ]
    },
    {
     "name": "stdout",
     "output_type": "stream",
     "text": [
      "eigenvalues shape torch.Size([5]) eigenvectors shape torch.Size([5, 400])\n",
      "549 /home/phdcs2/Hard_Disk/Datasets/Deep-Spectral-Segmentation/data/object-segmentation/ECSSD/features/dino_vits16/0550.pth\n",
      "0550\n",
      "Starting Training\n",
      "epoch: 00, loss: -0.61252\n",
      "epoch: 01, loss: -0.62515\n",
      "epoch: 02, loss: -0.63072\n",
      "epoch: 03, loss: -0.63504\n",
      "epoch: 04, loss: -0.63890\n",
      "epoch: 05, loss: -0.64364\n",
      "epoch: 06, loss: -0.64755\n",
      "epoch: 07, loss: -0.65128\n",
      "epoch: 08, loss: -0.65452\n",
      "epoch: 09, loss: -0.65733\n"
     ]
    },
    {
     "name": "stderr",
     "output_type": "stream",
     "text": [
      " 55%|█████▌    | 550/1000 [3:31:33<3:07:44, 25.03s/it]"
     ]
    },
    {
     "name": "stdout",
     "output_type": "stream",
     "text": [
      "eigenvalues shape torch.Size([5]) eigenvectors shape torch.Size([5, 425])\n",
      "550 /home/phdcs2/Hard_Disk/Datasets/Deep-Spectral-Segmentation/data/object-segmentation/ECSSD/features/dino_vits16/0551.pth\n",
      "0551\n",
      "Starting Training\n",
      "epoch: 00, loss: -0.40443\n",
      "epoch: 01, loss: -0.40927\n",
      "epoch: 02, loss: -0.40033\n",
      "epoch: 03, loss: -0.39416\n",
      "epoch: 04, loss: -0.38996\n",
      "epoch: 05, loss: -0.38765\n",
      "epoch: 06, loss: -0.38632\n",
      "epoch: 07, loss: -0.38553\n",
      "epoch: 08, loss: -0.38467\n",
      "epoch: 09, loss: -0.38442\n"
     ]
    },
    {
     "name": "stderr",
     "output_type": "stream",
     "text": [
      " 55%|█████▌    | 551/1000 [3:31:55<3:00:04, 24.06s/it]"
     ]
    },
    {
     "name": "stdout",
     "output_type": "stream",
     "text": [
      "eigenvalues shape torch.Size([5]) eigenvectors shape torch.Size([5, 400])\n",
      "551 /home/phdcs2/Hard_Disk/Datasets/Deep-Spectral-Segmentation/data/object-segmentation/ECSSD/features/dino_vits16/0552.pth\n",
      "0552\n",
      "Starting Training\n",
      "epoch: 00, loss: -0.38149\n",
      "epoch: 01, loss: -0.38952\n",
      "epoch: 02, loss: -0.38271\n",
      "epoch: 03, loss: -0.37773\n",
      "epoch: 04, loss: -0.37468\n",
      "epoch: 05, loss: -0.37349\n",
      "epoch: 06, loss: -0.37163\n",
      "epoch: 07, loss: -0.37118\n",
      "epoch: 08, loss: -0.37081\n",
      "epoch: 09, loss: -0.37054\n"
     ]
    },
    {
     "name": "stderr",
     "output_type": "stream",
     "text": [
      " 55%|█████▌    | 552/1000 [3:32:14<2:47:01, 22.37s/it]"
     ]
    },
    {
     "name": "stdout",
     "output_type": "stream",
     "text": [
      "eigenvalues shape torch.Size([5]) eigenvectors shape torch.Size([5, 400])\n",
      "552 /home/phdcs2/Hard_Disk/Datasets/Deep-Spectral-Segmentation/data/object-segmentation/ECSSD/features/dino_vits16/0553.pth\n",
      "0553\n",
      "Starting Training\n",
      "epoch: 00, loss: -0.40042\n",
      "epoch: 01, loss: -0.41193\n",
      "epoch: 02, loss: -0.41593\n",
      "epoch: 03, loss: -0.41970\n",
      "epoch: 04, loss: -0.42308\n",
      "epoch: 05, loss: -0.42647\n",
      "epoch: 06, loss: -0.42889\n",
      "epoch: 07, loss: -0.43106\n",
      "epoch: 08, loss: -0.43316\n",
      "epoch: 09, loss: -0.43513\n"
     ]
    },
    {
     "name": "stderr",
     "output_type": "stream",
     "text": [
      " 55%|█████▌    | 553/1000 [3:32:37<2:48:09, 22.57s/it]"
     ]
    },
    {
     "name": "stdout",
     "output_type": "stream",
     "text": [
      "eigenvalues shape torch.Size([5]) eigenvectors shape torch.Size([5, 450])\n",
      "553 /home/phdcs2/Hard_Disk/Datasets/Deep-Spectral-Segmentation/data/object-segmentation/ECSSD/features/dino_vits16/0554.pth\n",
      "0554\n",
      "Starting Training\n",
      "epoch: 00, loss: -0.54117\n",
      "epoch: 01, loss: -0.56235\n",
      "epoch: 02, loss: -0.56880\n",
      "epoch: 03, loss: -0.57424\n",
      "epoch: 04, loss: -0.57731\n",
      "epoch: 05, loss: -0.58141\n",
      "epoch: 06, loss: -0.58402\n",
      "epoch: 07, loss: -0.58628\n",
      "epoch: 08, loss: -0.58912\n",
      "epoch: 09, loss: -0.59163\n"
     ]
    },
    {
     "name": "stderr",
     "output_type": "stream",
     "text": [
      " 55%|█████▌    | 554/1000 [3:32:57<2:43:45, 22.03s/it]"
     ]
    },
    {
     "name": "stdout",
     "output_type": "stream",
     "text": [
      "eigenvalues shape torch.Size([5]) eigenvectors shape torch.Size([5, 450])\n",
      "554 /home/phdcs2/Hard_Disk/Datasets/Deep-Spectral-Segmentation/data/object-segmentation/ECSSD/features/dino_vits16/0555.pth\n",
      "0555\n",
      "Starting Training\n",
      "epoch: 00, loss: -0.35557\n",
      "epoch: 01, loss: -0.35220\n",
      "epoch: 02, loss: -0.35235\n",
      "epoch: 03, loss: -0.36375\n",
      "epoch: 04, loss: -0.39032\n",
      "epoch: 05, loss: -0.41320\n",
      "epoch: 06, loss: -0.43094\n",
      "epoch: 07, loss: -0.44061\n",
      "epoch: 08, loss: -0.44916\n",
      "epoch: 09, loss: -0.45262\n"
     ]
    },
    {
     "name": "stderr",
     "output_type": "stream",
     "text": [
      " 56%|█████▌    | 555/1000 [3:33:21<2:46:34, 22.46s/it]"
     ]
    },
    {
     "name": "stdout",
     "output_type": "stream",
     "text": [
      "eigenvalues shape torch.Size([5]) eigenvectors shape torch.Size([5, 500])\n",
      "555 /home/phdcs2/Hard_Disk/Datasets/Deep-Spectral-Segmentation/data/object-segmentation/ECSSD/features/dino_vits16/0556.pth\n",
      "0556\n",
      "Starting Training\n",
      "epoch: 00, loss: -0.35050\n",
      "epoch: 01, loss: -0.35368\n",
      "epoch: 02, loss: -0.36084\n",
      "epoch: 03, loss: -0.36693\n",
      "epoch: 04, loss: -0.37303\n",
      "epoch: 05, loss: -0.37687\n",
      "epoch: 06, loss: -0.38141\n",
      "epoch: 07, loss: -0.38508\n",
      "epoch: 08, loss: -0.38794\n",
      "epoch: 09, loss: -0.39012\n"
     ]
    },
    {
     "name": "stderr",
     "output_type": "stream",
     "text": [
      " 56%|█████▌    | 556/1000 [3:33:49<2:58:28, 24.12s/it]"
     ]
    },
    {
     "name": "stdout",
     "output_type": "stream",
     "text": [
      "eigenvalues shape torch.Size([5]) eigenvectors shape torch.Size([5, 525])\n",
      "556 /home/phdcs2/Hard_Disk/Datasets/Deep-Spectral-Segmentation/data/object-segmentation/ECSSD/features/dino_vits16/0557.pth\n",
      "0557\n",
      "Starting Training\n",
      "epoch: 00, loss: -0.41033\n",
      "epoch: 01, loss: -0.42566\n",
      "epoch: 02, loss: -0.42677\n",
      "epoch: 03, loss: -0.42798\n",
      "epoch: 04, loss: -0.42902\n",
      "epoch: 05, loss: -0.43045\n",
      "epoch: 06, loss: -0.43072\n",
      "epoch: 07, loss: -0.43172\n",
      "epoch: 08, loss: -0.43241\n",
      "epoch: 09, loss: -0.43307\n"
     ]
    },
    {
     "name": "stderr",
     "output_type": "stream",
     "text": [
      " 56%|█████▌    | 557/1000 [3:34:15<3:02:46, 24.76s/it]"
     ]
    },
    {
     "name": "stdout",
     "output_type": "stream",
     "text": [
      "eigenvalues shape torch.Size([5]) eigenvectors shape torch.Size([5, 450])\n",
      "557 /home/phdcs2/Hard_Disk/Datasets/Deep-Spectral-Segmentation/data/object-segmentation/ECSSD/features/dino_vits16/0558.pth\n",
      "0558\n",
      "Starting Training\n",
      "epoch: 00, loss: -0.38362\n",
      "epoch: 01, loss: -0.39327\n",
      "epoch: 02, loss: -0.40223\n",
      "epoch: 03, loss: -0.41117\n",
      "epoch: 04, loss: -0.41988\n",
      "epoch: 05, loss: -0.42748\n",
      "epoch: 06, loss: -0.43315\n",
      "epoch: 07, loss: -0.44022\n",
      "epoch: 08, loss: -0.44712\n",
      "epoch: 09, loss: -0.45304\n"
     ]
    },
    {
     "name": "stderr",
     "output_type": "stream",
     "text": [
      " 56%|█████▌    | 558/1000 [3:34:42<3:07:14, 25.42s/it]"
     ]
    },
    {
     "name": "stdout",
     "output_type": "stream",
     "text": [
      "eigenvalues shape torch.Size([5]) eigenvectors shape torch.Size([5, 400])\n",
      "558 /home/phdcs2/Hard_Disk/Datasets/Deep-Spectral-Segmentation/data/object-segmentation/ECSSD/features/dino_vits16/0559.pth\n",
      "0559\n",
      "Starting Training\n",
      "epoch: 00, loss: -0.90154\n",
      "epoch: 01, loss: -0.99991\n",
      "epoch: 02, loss: -0.99990\n",
      "epoch: 03, loss: -0.99991\n",
      "epoch: 04, loss: -0.99990\n",
      "epoch: 05, loss: -0.99990\n",
      "epoch: 06, loss: -0.99991\n",
      "epoch: 07, loss: -0.99990\n",
      "epoch: 08, loss: -0.99991\n",
      "epoch: 09, loss: -0.99990\n"
     ]
    },
    {
     "name": "stderr",
     "output_type": "stream",
     "text": [
      " 56%|█████▌    | 559/1000 [3:35:06<3:04:45, 25.14s/it]"
     ]
    },
    {
     "name": "stdout",
     "output_type": "stream",
     "text": [
      "eigenvalues shape torch.Size([5]) eigenvectors shape torch.Size([5, 400])\n",
      "559 /home/phdcs2/Hard_Disk/Datasets/Deep-Spectral-Segmentation/data/object-segmentation/ECSSD/features/dino_vits16/0560.pth\n",
      "0560\n",
      "Starting Training\n",
      "epoch: 00, loss: -0.38095\n",
      "epoch: 01, loss: -0.39331\n",
      "epoch: 02, loss: -0.40358\n",
      "epoch: 03, loss: -0.41493\n",
      "epoch: 04, loss: -0.42788\n",
      "epoch: 05, loss: -0.44050\n",
      "epoch: 06, loss: -0.45242\n",
      "epoch: 07, loss: -0.46048\n",
      "epoch: 08, loss: -0.46624\n",
      "epoch: 09, loss: -0.47339\n"
     ]
    },
    {
     "name": "stderr",
     "output_type": "stream",
     "text": [
      " 56%|█████▌    | 560/1000 [3:35:29<2:58:01, 24.28s/it]"
     ]
    },
    {
     "name": "stdout",
     "output_type": "stream",
     "text": [
      "eigenvalues shape torch.Size([5]) eigenvectors shape torch.Size([5, 400])\n",
      "560 /home/phdcs2/Hard_Disk/Datasets/Deep-Spectral-Segmentation/data/object-segmentation/ECSSD/features/dino_vits16/0561.pth\n",
      "0561\n",
      "Starting Training\n",
      "epoch: 00, loss: -0.37397\n",
      "epoch: 01, loss: -0.37629\n",
      "epoch: 02, loss: -0.37782\n",
      "epoch: 03, loss: -0.38167\n",
      "epoch: 04, loss: -0.38321\n",
      "epoch: 05, loss: -0.38562\n",
      "epoch: 06, loss: -0.38817\n",
      "epoch: 07, loss: -0.39130\n",
      "epoch: 08, loss: -0.39378\n",
      "epoch: 09, loss: -0.39636\n"
     ]
    },
    {
     "name": "stderr",
     "output_type": "stream",
     "text": [
      " 56%|█████▌    | 561/1000 [3:35:49<2:48:02, 22.97s/it]"
     ]
    },
    {
     "name": "stdout",
     "output_type": "stream",
     "text": [
      "eigenvalues shape torch.Size([5]) eigenvectors shape torch.Size([5, 450])\n",
      "561 /home/phdcs2/Hard_Disk/Datasets/Deep-Spectral-Segmentation/data/object-segmentation/ECSSD/features/dino_vits16/0562.pth\n",
      "0562\n",
      "Starting Training\n",
      "epoch: 00, loss: -0.37010\n",
      "epoch: 01, loss: -0.38293\n",
      "epoch: 02, loss: -0.39160\n",
      "epoch: 03, loss: -0.39997\n",
      "epoch: 04, loss: -0.40763\n",
      "epoch: 05, loss: -0.41429\n",
      "epoch: 06, loss: -0.42174\n",
      "epoch: 07, loss: -0.42832\n",
      "epoch: 08, loss: -0.43401\n",
      "epoch: 09, loss: -0.43817\n"
     ]
    },
    {
     "name": "stderr",
     "output_type": "stream",
     "text": [
      " 56%|█████▌    | 562/1000 [3:36:08<2:38:53, 21.77s/it]"
     ]
    },
    {
     "name": "stdout",
     "output_type": "stream",
     "text": [
      "eigenvalues shape torch.Size([5]) eigenvectors shape torch.Size([5, 400])\n",
      "562 /home/phdcs2/Hard_Disk/Datasets/Deep-Spectral-Segmentation/data/object-segmentation/ECSSD/features/dino_vits16/0563.pth\n",
      "0563\n",
      "Starting Training\n",
      "epoch: 00, loss: -0.57503\n",
      "epoch: 01, loss: -0.60482\n",
      "epoch: 02, loss: -0.60507\n",
      "epoch: 03, loss: -0.60506\n",
      "epoch: 04, loss: -0.60528\n",
      "epoch: 05, loss: -0.60507\n",
      "epoch: 06, loss: -0.60481\n",
      "epoch: 07, loss: -0.60501\n",
      "epoch: 08, loss: -0.60475\n",
      "epoch: 09, loss: -0.60504\n"
     ]
    },
    {
     "name": "stderr",
     "output_type": "stream",
     "text": [
      " 56%|█████▋    | 563/1000 [3:36:33<2:45:43, 22.75s/it]"
     ]
    },
    {
     "name": "stdout",
     "output_type": "stream",
     "text": [
      "eigenvalues shape torch.Size([5]) eigenvectors shape torch.Size([5, 450])\n",
      "563 /home/phdcs2/Hard_Disk/Datasets/Deep-Spectral-Segmentation/data/object-segmentation/ECSSD/features/dino_vits16/0564.pth\n",
      "0564\n",
      "Starting Training\n",
      "epoch: 00, loss: -0.64720\n",
      "epoch: 01, loss: -0.69317\n",
      "epoch: 02, loss: -0.69519\n",
      "epoch: 03, loss: -0.69636\n",
      "epoch: 04, loss: -0.69742\n",
      "epoch: 05, loss: -0.69832\n",
      "epoch: 06, loss: -0.69886\n",
      "epoch: 07, loss: -0.69948\n",
      "epoch: 08, loss: -0.69982\n",
      "epoch: 09, loss: -0.70000\n"
     ]
    },
    {
     "name": "stderr",
     "output_type": "stream",
     "text": [
      " 56%|█████▋    | 564/1000 [3:36:57<2:49:24, 23.31s/it]"
     ]
    },
    {
     "name": "stdout",
     "output_type": "stream",
     "text": [
      "eigenvalues shape torch.Size([5]) eigenvectors shape torch.Size([5, 450])\n",
      "564 /home/phdcs2/Hard_Disk/Datasets/Deep-Spectral-Segmentation/data/object-segmentation/ECSSD/features/dino_vits16/0565.pth\n",
      "0565\n",
      "Starting Training\n",
      "epoch: 00, loss: -0.39318\n",
      "epoch: 01, loss: -0.40287\n",
      "epoch: 02, loss: -0.40793\n",
      "epoch: 03, loss: -0.41541\n",
      "epoch: 04, loss: -0.42225\n",
      "epoch: 05, loss: -0.42790\n",
      "epoch: 06, loss: -0.43256\n",
      "epoch: 07, loss: -0.43569\n",
      "epoch: 08, loss: -0.43950\n",
      "epoch: 09, loss: -0.44337\n"
     ]
    },
    {
     "name": "stderr",
     "output_type": "stream",
     "text": [
      " 56%|█████▋    | 565/1000 [3:37:20<2:48:32, 23.25s/it]"
     ]
    },
    {
     "name": "stdout",
     "output_type": "stream",
     "text": [
      "eigenvalues shape torch.Size([5]) eigenvectors shape torch.Size([5, 450])\n",
      "565 /home/phdcs2/Hard_Disk/Datasets/Deep-Spectral-Segmentation/data/object-segmentation/ECSSD/features/dino_vits16/0566.pth\n",
      "0566\n",
      "Starting Training\n",
      "epoch: 00, loss: -0.36933\n",
      "epoch: 01, loss: -0.38031\n",
      "epoch: 02, loss: -0.38335\n",
      "epoch: 03, loss: -0.38830\n",
      "epoch: 04, loss: -0.92377\n",
      "epoch: 05, loss: -0.99939\n",
      "epoch: 06, loss: -0.99937\n",
      "epoch: 07, loss: -0.99938\n",
      "epoch: 08, loss: -0.99937\n",
      "epoch: 09, loss: -0.99937\n"
     ]
    },
    {
     "name": "stderr",
     "output_type": "stream",
     "text": [
      " 57%|█████▋    | 566/1000 [3:37:42<2:44:26, 22.73s/it]"
     ]
    },
    {
     "name": "stdout",
     "output_type": "stream",
     "text": [
      "eigenvalues shape torch.Size([5]) eigenvectors shape torch.Size([5, 450])\n",
      "566 /home/phdcs2/Hard_Disk/Datasets/Deep-Spectral-Segmentation/data/object-segmentation/ECSSD/features/dino_vits16/0567.pth\n",
      "0567\n",
      "Starting Training\n",
      "epoch: 00, loss: -0.40250\n",
      "epoch: 01, loss: -0.41322\n",
      "epoch: 02, loss: -0.41607\n",
      "epoch: 03, loss: -0.41758\n",
      "epoch: 04, loss: -0.41977\n",
      "epoch: 05, loss: -0.42178\n",
      "epoch: 06, loss: -0.42223\n",
      "epoch: 07, loss: -0.42280\n",
      "epoch: 08, loss: -0.42348\n",
      "epoch: 09, loss: -0.42359\n"
     ]
    },
    {
     "name": "stderr",
     "output_type": "stream",
     "text": [
      " 57%|█████▋    | 567/1000 [3:38:07<2:49:19, 23.46s/it]"
     ]
    },
    {
     "name": "stdout",
     "output_type": "stream",
     "text": [
      "eigenvalues shape torch.Size([5]) eigenvectors shape torch.Size([5, 400])\n",
      "567 /home/phdcs2/Hard_Disk/Datasets/Deep-Spectral-Segmentation/data/object-segmentation/ECSSD/features/dino_vits16/0568.pth\n",
      "0568\n",
      "Starting Training\n",
      "epoch: 00, loss: -0.41756\n",
      "epoch: 01, loss: -0.45063\n",
      "epoch: 02, loss: -0.45231\n",
      "epoch: 03, loss: -0.45508\n",
      "epoch: 04, loss: -0.45585\n",
      "epoch: 05, loss: -0.45775\n",
      "epoch: 06, loss: -0.45823\n",
      "epoch: 07, loss: -0.45889\n",
      "epoch: 08, loss: -0.45993\n",
      "epoch: 09, loss: -0.46083\n"
     ]
    },
    {
     "name": "stderr",
     "output_type": "stream",
     "text": [
      " 57%|█████▋    | 568/1000 [3:38:29<2:45:33, 22.99s/it]"
     ]
    },
    {
     "name": "stdout",
     "output_type": "stream",
     "text": [
      "eigenvalues shape torch.Size([5]) eigenvectors shape torch.Size([5, 375])\n",
      "568 /home/phdcs2/Hard_Disk/Datasets/Deep-Spectral-Segmentation/data/object-segmentation/ECSSD/features/dino_vits16/0569.pth\n",
      "0569\n",
      "Starting Training\n",
      "epoch: 00, loss: -0.37792\n",
      "epoch: 01, loss: -0.37889\n",
      "epoch: 02, loss: -0.38026\n",
      "epoch: 03, loss: -0.38440\n",
      "epoch: 04, loss: -0.38786\n",
      "epoch: 05, loss: -0.39195\n",
      "epoch: 06, loss: -0.39517\n",
      "epoch: 07, loss: -0.39913\n",
      "epoch: 08, loss: -0.40198\n",
      "epoch: 09, loss: -0.40515\n"
     ]
    },
    {
     "name": "stderr",
     "output_type": "stream",
     "text": [
      " 57%|█████▋    | 569/1000 [3:38:51<2:43:02, 22.70s/it]"
     ]
    },
    {
     "name": "stdout",
     "output_type": "stream",
     "text": [
      "eigenvalues shape torch.Size([5]) eigenvectors shape torch.Size([5, 400])\n",
      "569 /home/phdcs2/Hard_Disk/Datasets/Deep-Spectral-Segmentation/data/object-segmentation/ECSSD/features/dino_vits16/0570.pth\n",
      "0570\n",
      "Starting Training\n",
      "epoch: 00, loss: -0.33434\n",
      "epoch: 01, loss: -0.33377\n",
      "epoch: 02, loss: -0.33840\n",
      "epoch: 03, loss: -0.34350\n",
      "epoch: 04, loss: -0.34856\n",
      "epoch: 05, loss: -0.35389\n",
      "epoch: 06, loss: -0.35753\n",
      "epoch: 07, loss: -0.36131\n",
      "epoch: 08, loss: -0.36486\n",
      "epoch: 09, loss: -0.36811\n"
     ]
    },
    {
     "name": "stderr",
     "output_type": "stream",
     "text": [
      " 57%|█████▋    | 570/1000 [3:39:13<2:41:07, 22.48s/it]"
     ]
    },
    {
     "name": "stdout",
     "output_type": "stream",
     "text": [
      "eigenvalues shape torch.Size([5]) eigenvectors shape torch.Size([5, 450])\n",
      "570 /home/phdcs2/Hard_Disk/Datasets/Deep-Spectral-Segmentation/data/object-segmentation/ECSSD/features/dino_vits16/0571.pth\n",
      "0571\n",
      "Starting Training\n",
      "epoch: 00, loss: -0.40736\n",
      "epoch: 01, loss: -0.42764\n",
      "epoch: 02, loss: -0.42968\n",
      "epoch: 03, loss: -0.43104\n",
      "epoch: 04, loss: -0.43283\n",
      "epoch: 05, loss: -0.43443\n",
      "epoch: 06, loss: -0.43630\n",
      "epoch: 07, loss: -0.43796\n",
      "epoch: 08, loss: -0.44042\n",
      "epoch: 09, loss: -0.44181\n"
     ]
    },
    {
     "name": "stderr",
     "output_type": "stream",
     "text": [
      " 57%|█████▋    | 571/1000 [3:39:34<2:38:28, 22.16s/it]"
     ]
    },
    {
     "name": "stdout",
     "output_type": "stream",
     "text": [
      "eigenvalues shape torch.Size([5]) eigenvectors shape torch.Size([5, 450])\n",
      "571 /home/phdcs2/Hard_Disk/Datasets/Deep-Spectral-Segmentation/data/object-segmentation/ECSSD/features/dino_vits16/0572.pth\n",
      "0572\n",
      "Starting Training\n",
      "epoch: 00, loss: -0.41073\n",
      "epoch: 01, loss: -0.42371\n",
      "epoch: 02, loss: -0.42364\n",
      "epoch: 03, loss: -0.42353\n",
      "epoch: 04, loss: -0.42370\n",
      "epoch: 05, loss: -0.42302\n",
      "epoch: 06, loss: -0.42227\n",
      "epoch: 07, loss: -0.42158\n",
      "epoch: 08, loss: -0.42142\n",
      "epoch: 09, loss: -0.42101\n"
     ]
    },
    {
     "name": "stderr",
     "output_type": "stream",
     "text": [
      " 57%|█████▋    | 572/1000 [3:39:57<2:39:43, 22.39s/it]"
     ]
    },
    {
     "name": "stdout",
     "output_type": "stream",
     "text": [
      "eigenvalues shape torch.Size([5]) eigenvectors shape torch.Size([5, 400])\n",
      "572 /home/phdcs2/Hard_Disk/Datasets/Deep-Spectral-Segmentation/data/object-segmentation/ECSSD/features/dino_vits16/0573.pth\n",
      "0573\n",
      "Starting Training\n",
      "epoch: 00, loss: -0.36248\n",
      "epoch: 01, loss: -0.36047\n",
      "epoch: 02, loss: -0.36119\n",
      "epoch: 03, loss: -0.36271\n",
      "epoch: 04, loss: -0.36516\n",
      "epoch: 05, loss: -0.36742\n",
      "epoch: 06, loss: -0.36961\n",
      "epoch: 07, loss: -0.37156\n",
      "epoch: 08, loss: -0.37429\n",
      "epoch: 09, loss: -0.37694\n"
     ]
    },
    {
     "name": "stderr",
     "output_type": "stream",
     "text": [
      " 57%|█████▋    | 573/1000 [3:40:26<2:53:23, 24.36s/it]"
     ]
    },
    {
     "name": "stdout",
     "output_type": "stream",
     "text": [
      "eigenvalues shape torch.Size([5]) eigenvectors shape torch.Size([5, 525])\n",
      "573 /home/phdcs2/Hard_Disk/Datasets/Deep-Spectral-Segmentation/data/object-segmentation/ECSSD/features/dino_vits16/0574.pth\n",
      "0574\n",
      "Starting Training\n",
      "epoch: 00, loss: -0.37688\n",
      "epoch: 01, loss: -0.38282\n",
      "epoch: 02, loss: -0.40351\n",
      "epoch: 03, loss: -0.42444\n",
      "epoch: 04, loss: -0.43955\n",
      "epoch: 05, loss: -0.44744\n",
      "epoch: 06, loss: -0.45342\n",
      "epoch: 07, loss: -0.45415\n",
      "epoch: 08, loss: -0.45689\n",
      "epoch: 09, loss: -0.45884\n"
     ]
    },
    {
     "name": "stderr",
     "output_type": "stream",
     "text": [
      " 57%|█████▋    | 574/1000 [3:40:46<2:43:00, 22.96s/it]"
     ]
    },
    {
     "name": "stdout",
     "output_type": "stream",
     "text": [
      "eigenvalues shape torch.Size([5]) eigenvectors shape torch.Size([5, 400])\n",
      "574 /home/phdcs2/Hard_Disk/Datasets/Deep-Spectral-Segmentation/data/object-segmentation/ECSSD/features/dino_vits16/0575.pth\n",
      "0575\n",
      "Starting Training\n",
      "epoch: 00, loss: -0.36658\n",
      "epoch: 01, loss: -0.37172\n",
      "epoch: 02, loss: -0.37841\n",
      "epoch: 03, loss: -0.38374\n",
      "epoch: 04, loss: -0.38867\n",
      "epoch: 05, loss: -0.39331\n",
      "epoch: 06, loss: -0.39714\n",
      "epoch: 07, loss: -0.40103\n",
      "epoch: 08, loss: -0.40336\n",
      "epoch: 09, loss: -0.40602\n"
     ]
    },
    {
     "name": "stderr",
     "output_type": "stream",
     "text": [
      " 57%|█████▊    | 575/1000 [3:41:17<2:58:44, 25.23s/it]"
     ]
    },
    {
     "name": "stdout",
     "output_type": "stream",
     "text": [
      "eigenvalues shape torch.Size([5]) eigenvectors shape torch.Size([5, 475])\n",
      "575 /home/phdcs2/Hard_Disk/Datasets/Deep-Spectral-Segmentation/data/object-segmentation/ECSSD/features/dino_vits16/0576.pth\n",
      "0576\n",
      "Starting Training\n",
      "epoch: 00, loss: -0.62146\n",
      "epoch: 01, loss: -0.66442\n",
      "epoch: 02, loss: -0.66753\n",
      "epoch: 03, loss: -0.66922\n",
      "epoch: 04, loss: -0.67104\n",
      "epoch: 05, loss: -0.67221\n",
      "epoch: 06, loss: -0.67311\n",
      "epoch: 07, loss: -0.67392\n",
      "epoch: 08, loss: -0.67458\n",
      "epoch: 09, loss: -0.67537\n"
     ]
    },
    {
     "name": "stderr",
     "output_type": "stream",
     "text": [
      " 58%|█████▊    | 576/1000 [3:41:46<3:07:32, 26.54s/it]"
     ]
    },
    {
     "name": "stdout",
     "output_type": "stream",
     "text": [
      "eigenvalues shape torch.Size([5]) eigenvectors shape torch.Size([5, 475])\n",
      "576 /home/phdcs2/Hard_Disk/Datasets/Deep-Spectral-Segmentation/data/object-segmentation/ECSSD/features/dino_vits16/0577.pth\n",
      "0577\n",
      "Starting Training\n",
      "epoch: 00, loss: -0.41135\n",
      "epoch: 01, loss: -0.42041\n",
      "epoch: 02, loss: -0.42155\n",
      "epoch: 03, loss: -0.42378\n",
      "epoch: 04, loss: -0.42667\n",
      "epoch: 05, loss: -0.42893\n",
      "epoch: 06, loss: -0.42980\n",
      "epoch: 07, loss: -0.43081\n",
      "epoch: 08, loss: -0.43051\n",
      "epoch: 09, loss: -0.43117\n"
     ]
    },
    {
     "name": "stderr",
     "output_type": "stream",
     "text": [
      " 58%|█████▊    | 577/1000 [3:42:13<3:07:03, 26.53s/it]"
     ]
    },
    {
     "name": "stdout",
     "output_type": "stream",
     "text": [
      "eigenvalues shape torch.Size([5]) eigenvectors shape torch.Size([5, 450])\n",
      "577 /home/phdcs2/Hard_Disk/Datasets/Deep-Spectral-Segmentation/data/object-segmentation/ECSSD/features/dino_vits16/0578.pth\n",
      "0578\n",
      "Starting Training\n",
      "epoch: 00, loss: -0.38643\n",
      "epoch: 01, loss: -0.40426\n",
      "epoch: 02, loss: -0.39967\n",
      "epoch: 03, loss: -0.39463\n",
      "epoch: 04, loss: -0.39029\n",
      "epoch: 05, loss: -0.38614\n",
      "epoch: 06, loss: -0.38326\n",
      "epoch: 07, loss: -0.37886\n",
      "epoch: 08, loss: -0.37611\n",
      "epoch: 09, loss: -0.37424\n"
     ]
    },
    {
     "name": "stderr",
     "output_type": "stream",
     "text": [
      " 58%|█████▊    | 578/1000 [3:42:47<3:23:02, 28.87s/it]"
     ]
    },
    {
     "name": "stdout",
     "output_type": "stream",
     "text": [
      "eigenvalues shape torch.Size([5]) eigenvectors shape torch.Size([5, 625])\n",
      "578 /home/phdcs2/Hard_Disk/Datasets/Deep-Spectral-Segmentation/data/object-segmentation/ECSSD/features/dino_vits16/0579.pth\n",
      "0579\n",
      "Starting Training\n",
      "epoch: 00, loss: -0.37779\n",
      "epoch: 01, loss: -0.38306\n",
      "epoch: 02, loss: -0.38591\n",
      "epoch: 03, loss: -0.38461\n",
      "epoch: 04, loss: -0.38252\n",
      "epoch: 05, loss: -0.38013\n",
      "epoch: 06, loss: -0.37821\n",
      "epoch: 07, loss: -0.37807\n",
      "epoch: 08, loss: -0.37722\n",
      "epoch: 09, loss: -0.37708\n"
     ]
    },
    {
     "name": "stderr",
     "output_type": "stream",
     "text": [
      " 58%|█████▊    | 579/1000 [3:43:10<3:10:06, 27.09s/it]"
     ]
    },
    {
     "name": "stdout",
     "output_type": "stream",
     "text": [
      "eigenvalues shape torch.Size([5]) eigenvectors shape torch.Size([5, 375])\n",
      "579 /home/phdcs2/Hard_Disk/Datasets/Deep-Spectral-Segmentation/data/object-segmentation/ECSSD/features/dino_vits16/0580.pth\n",
      "0580\n",
      "Starting Training\n",
      "epoch: 00, loss: -0.37905\n",
      "epoch: 01, loss: -0.38638\n",
      "epoch: 02, loss: -0.38313\n",
      "epoch: 03, loss: -0.38200\n",
      "epoch: 04, loss: -0.38368\n",
      "epoch: 05, loss: -0.38782\n",
      "epoch: 06, loss: -0.39134\n",
      "epoch: 07, loss: -0.39436\n",
      "epoch: 08, loss: -0.39729\n",
      "epoch: 09, loss: -0.40025\n"
     ]
    },
    {
     "name": "stderr",
     "output_type": "stream",
     "text": [
      " 58%|█████▊    | 580/1000 [3:43:35<3:06:29, 26.64s/it]"
     ]
    },
    {
     "name": "stdout",
     "output_type": "stream",
     "text": [
      "eigenvalues shape torch.Size([5]) eigenvectors shape torch.Size([5, 400])\n",
      "580 /home/phdcs2/Hard_Disk/Datasets/Deep-Spectral-Segmentation/data/object-segmentation/ECSSD/features/dino_vits16/0581.pth\n",
      "0581\n",
      "Starting Training\n",
      "epoch: 00, loss: -0.36885\n",
      "epoch: 01, loss: -0.37698\n",
      "epoch: 02, loss: -0.38016\n",
      "epoch: 03, loss: -0.37946\n",
      "epoch: 04, loss: -0.38194\n",
      "epoch: 05, loss: -0.38390\n",
      "epoch: 06, loss: -0.38410\n",
      "epoch: 07, loss: -0.38785\n",
      "epoch: 08, loss: -0.38897\n",
      "epoch: 09, loss: -0.39073\n"
     ]
    },
    {
     "name": "stderr",
     "output_type": "stream",
     "text": [
      " 58%|█████▊    | 581/1000 [3:43:59<2:59:34, 25.71s/it]"
     ]
    },
    {
     "name": "stdout",
     "output_type": "stream",
     "text": [
      "eigenvalues shape torch.Size([5]) eigenvectors shape torch.Size([5, 400])\n",
      "581 /home/phdcs2/Hard_Disk/Datasets/Deep-Spectral-Segmentation/data/object-segmentation/ECSSD/features/dino_vits16/0582.pth\n",
      "0582\n",
      "Starting Training\n",
      "epoch: 00, loss: -0.36334\n",
      "epoch: 01, loss: -0.37599\n",
      "epoch: 02, loss: -0.38104\n",
      "epoch: 03, loss: -0.38539\n",
      "epoch: 04, loss: -0.39015\n",
      "epoch: 05, loss: -0.39566\n",
      "epoch: 06, loss: -0.40096\n",
      "epoch: 07, loss: -0.40506\n",
      "epoch: 08, loss: -0.41005\n",
      "epoch: 09, loss: -0.41384\n"
     ]
    },
    {
     "name": "stderr",
     "output_type": "stream",
     "text": [
      " 58%|█████▊    | 582/1000 [3:44:20<2:49:58, 24.40s/it]"
     ]
    },
    {
     "name": "stdout",
     "output_type": "stream",
     "text": [
      "eigenvalues shape torch.Size([5]) eigenvectors shape torch.Size([5, 400])\n",
      "582 /home/phdcs2/Hard_Disk/Datasets/Deep-Spectral-Segmentation/data/object-segmentation/ECSSD/features/dino_vits16/0583.pth\n",
      "0583\n",
      "Starting Training\n",
      "epoch: 00, loss: -0.37548\n",
      "epoch: 01, loss: -0.38245\n",
      "epoch: 02, loss: -0.38323\n",
      "epoch: 03, loss: -0.38376\n",
      "epoch: 04, loss: -0.38572\n",
      "epoch: 05, loss: -0.39227\n",
      "epoch: 06, loss: -0.40379\n",
      "epoch: 07, loss: -0.41589\n",
      "epoch: 08, loss: -0.42834\n",
      "epoch: 09, loss: -0.43639\n"
     ]
    },
    {
     "name": "stderr",
     "output_type": "stream",
     "text": [
      " 58%|█████▊    | 583/1000 [3:44:44<2:48:05, 24.19s/it]"
     ]
    },
    {
     "name": "stdout",
     "output_type": "stream",
     "text": [
      "eigenvalues shape torch.Size([5]) eigenvectors shape torch.Size([5, 450])\n",
      "583 /home/phdcs2/Hard_Disk/Datasets/Deep-Spectral-Segmentation/data/object-segmentation/ECSSD/features/dino_vits16/0584.pth\n",
      "0584\n",
      "Starting Training\n",
      "epoch: 00, loss: -0.39198\n",
      "epoch: 01, loss: -0.40857\n",
      "epoch: 02, loss: -0.41718\n",
      "epoch: 03, loss: -0.42535\n",
      "epoch: 04, loss: -0.43310\n",
      "epoch: 05, loss: -0.43864\n",
      "epoch: 06, loss: -0.44442\n",
      "epoch: 07, loss: -0.44893\n",
      "epoch: 08, loss: -0.45488\n",
      "epoch: 09, loss: -0.45804\n"
     ]
    },
    {
     "name": "stderr",
     "output_type": "stream",
     "text": [
      " 58%|█████▊    | 584/1000 [3:45:05<2:41:50, 23.34s/it]"
     ]
    },
    {
     "name": "stdout",
     "output_type": "stream",
     "text": [
      "eigenvalues shape torch.Size([5]) eigenvectors shape torch.Size([5, 450])\n",
      "584 /home/phdcs2/Hard_Disk/Datasets/Deep-Spectral-Segmentation/data/object-segmentation/ECSSD/features/dino_vits16/0585.pth\n",
      "0585\n",
      "Starting Training\n",
      "epoch: 00, loss: -0.38410\n",
      "epoch: 01, loss: -0.38708\n",
      "epoch: 02, loss: -0.38787\n",
      "epoch: 03, loss: -0.39125\n",
      "epoch: 04, loss: -0.39513\n",
      "epoch: 05, loss: -0.39861\n",
      "epoch: 06, loss: -0.40129\n",
      "epoch: 07, loss: -0.40428\n",
      "epoch: 08, loss: -0.40683\n",
      "epoch: 09, loss: -0.40960\n"
     ]
    },
    {
     "name": "stderr",
     "output_type": "stream",
     "text": [
      " 58%|█████▊    | 585/1000 [3:45:28<2:39:36, 23.07s/it]"
     ]
    },
    {
     "name": "stdout",
     "output_type": "stream",
     "text": [
      "eigenvalues shape torch.Size([5]) eigenvectors shape torch.Size([5, 450])\n",
      "585 /home/phdcs2/Hard_Disk/Datasets/Deep-Spectral-Segmentation/data/object-segmentation/ECSSD/features/dino_vits16/0586.pth\n",
      "0586\n",
      "Starting Training\n",
      "epoch: 00, loss: -0.42328\n",
      "epoch: 01, loss: -0.44416\n",
      "epoch: 02, loss: -0.44517\n",
      "epoch: 03, loss: -0.44612\n",
      "epoch: 04, loss: -0.44776\n",
      "epoch: 05, loss: -0.44893\n",
      "epoch: 06, loss: -0.44943\n",
      "epoch: 07, loss: -0.45013\n",
      "epoch: 08, loss: -0.45093\n",
      "epoch: 09, loss: -0.45137\n"
     ]
    },
    {
     "name": "stderr",
     "output_type": "stream",
     "text": [
      " 59%|█████▊    | 586/1000 [3:45:50<2:38:00, 22.90s/it]"
     ]
    },
    {
     "name": "stdout",
     "output_type": "stream",
     "text": [
      "eigenvalues shape torch.Size([5]) eigenvectors shape torch.Size([5, 425])\n",
      "586 /home/phdcs2/Hard_Disk/Datasets/Deep-Spectral-Segmentation/data/object-segmentation/ECSSD/features/dino_vits16/0587.pth\n",
      "0587\n",
      "Starting Training\n",
      "epoch: 00, loss: -0.41008\n",
      "epoch: 01, loss: -0.42002\n",
      "epoch: 02, loss: -0.41873\n",
      "epoch: 03, loss: -0.41736\n",
      "epoch: 04, loss: -0.41549\n",
      "epoch: 05, loss: -0.41305\n",
      "epoch: 06, loss: -0.41090\n",
      "epoch: 07, loss: -0.40876\n",
      "epoch: 08, loss: -0.40851\n",
      "epoch: 09, loss: -0.40736\n"
     ]
    },
    {
     "name": "stderr",
     "output_type": "stream",
     "text": [
      " 59%|█████▊    | 587/1000 [3:46:16<2:43:32, 23.76s/it]"
     ]
    },
    {
     "name": "stdout",
     "output_type": "stream",
     "text": [
      "eigenvalues shape torch.Size([5]) eigenvectors shape torch.Size([5, 400])\n",
      "587 /home/phdcs2/Hard_Disk/Datasets/Deep-Spectral-Segmentation/data/object-segmentation/ECSSD/features/dino_vits16/0588.pth\n",
      "0588\n",
      "Starting Training\n",
      "epoch: 00, loss: -0.41617\n",
      "epoch: 01, loss: -0.42433\n",
      "epoch: 02, loss: -0.41786\n",
      "epoch: 03, loss: -0.41603\n",
      "epoch: 04, loss: -0.41267\n",
      "epoch: 05, loss: -0.41200\n",
      "epoch: 06, loss: -0.41130\n",
      "epoch: 07, loss: -0.40953\n",
      "epoch: 08, loss: -0.40994\n",
      "epoch: 09, loss: -0.41006\n"
     ]
    },
    {
     "name": "stderr",
     "output_type": "stream",
     "text": [
      " 59%|█████▉    | 588/1000 [3:46:42<2:48:19, 24.51s/it]"
     ]
    },
    {
     "name": "stdout",
     "output_type": "stream",
     "text": [
      "eigenvalues shape torch.Size([5]) eigenvectors shape torch.Size([5, 400])\n",
      "588 /home/phdcs2/Hard_Disk/Datasets/Deep-Spectral-Segmentation/data/object-segmentation/ECSSD/features/dino_vits16/0589.pth\n",
      "0589\n",
      "Starting Training\n",
      "epoch: 00, loss: -0.37066\n",
      "epoch: 01, loss: -0.37309\n",
      "epoch: 02, loss: -0.37562\n",
      "epoch: 03, loss: -0.37924\n",
      "epoch: 04, loss: -0.38454\n",
      "epoch: 05, loss: -0.38984\n",
      "epoch: 06, loss: -0.39404\n",
      "epoch: 07, loss: -0.40059\n",
      "epoch: 08, loss: -0.40660\n",
      "epoch: 09, loss: -0.41016\n"
     ]
    },
    {
     "name": "stderr",
     "output_type": "stream",
     "text": [
      " 59%|█████▉    | 589/1000 [3:47:06<2:45:47, 24.20s/it]"
     ]
    },
    {
     "name": "stdout",
     "output_type": "stream",
     "text": [
      "eigenvalues shape torch.Size([5]) eigenvectors shape torch.Size([5, 400])\n",
      "589 /home/phdcs2/Hard_Disk/Datasets/Deep-Spectral-Segmentation/data/object-segmentation/ECSSD/features/dino_vits16/0590.pth\n",
      "0590\n",
      "Starting Training\n",
      "epoch: 00, loss: -0.35084\n",
      "epoch: 01, loss: -0.35302\n",
      "epoch: 02, loss: -0.37151\n",
      "epoch: 03, loss: -0.40014\n",
      "epoch: 04, loss: -0.43131\n",
      "epoch: 05, loss: -0.45463\n",
      "epoch: 06, loss: -0.46861\n",
      "epoch: 07, loss: -0.48119\n",
      "epoch: 08, loss: -0.48987\n",
      "epoch: 09, loss: -0.49740\n"
     ]
    },
    {
     "name": "stderr",
     "output_type": "stream",
     "text": [
      " 59%|█████▉    | 590/1000 [3:47:26<2:37:02, 22.98s/it]"
     ]
    },
    {
     "name": "stdout",
     "output_type": "stream",
     "text": [
      "eigenvalues shape torch.Size([5]) eigenvectors shape torch.Size([5, 400])\n",
      "590 /home/phdcs2/Hard_Disk/Datasets/Deep-Spectral-Segmentation/data/object-segmentation/ECSSD/features/dino_vits16/0591.pth\n",
      "0591\n",
      "Starting Training\n",
      "epoch: 00, loss: -0.36478\n",
      "epoch: 01, loss: -0.36356\n",
      "epoch: 02, loss: -0.36518\n",
      "epoch: 03, loss: -0.36439\n",
      "epoch: 04, loss: -0.36788\n",
      "epoch: 05, loss: -0.36974\n",
      "epoch: 06, loss: -0.37359\n",
      "epoch: 07, loss: -0.37889\n",
      "epoch: 08, loss: -0.38582\n",
      "epoch: 09, loss: -0.39664\n"
     ]
    },
    {
     "name": "stderr",
     "output_type": "stream",
     "text": [
      " 59%|█████▉    | 591/1000 [3:47:44<2:26:52, 21.55s/it]"
     ]
    },
    {
     "name": "stdout",
     "output_type": "stream",
     "text": [
      "eigenvalues shape torch.Size([5]) eigenvectors shape torch.Size([5, 400])\n",
      "591 /home/phdcs2/Hard_Disk/Datasets/Deep-Spectral-Segmentation/data/object-segmentation/ECSSD/features/dino_vits16/0592.pth\n",
      "0592\n",
      "Starting Training\n",
      "epoch: 00, loss: -0.61007\n",
      "epoch: 01, loss: -0.64082\n",
      "epoch: 02, loss: -0.64260\n",
      "epoch: 03, loss: -0.64382\n",
      "epoch: 04, loss: -0.64459\n",
      "epoch: 05, loss: -0.64516\n",
      "epoch: 06, loss: -0.64564\n",
      "epoch: 07, loss: -0.64597\n",
      "epoch: 08, loss: -0.64642\n",
      "epoch: 09, loss: -0.64639\n"
     ]
    },
    {
     "name": "stderr",
     "output_type": "stream",
     "text": [
      " 59%|█████▉    | 592/1000 [3:48:13<2:42:18, 23.87s/it]"
     ]
    },
    {
     "name": "stdout",
     "output_type": "stream",
     "text": [
      "eigenvalues shape torch.Size([5]) eigenvectors shape torch.Size([5, 475])\n",
      "592 /home/phdcs2/Hard_Disk/Datasets/Deep-Spectral-Segmentation/data/object-segmentation/ECSSD/features/dino_vits16/0593.pth\n",
      "0593\n",
      "Starting Training\n",
      "epoch: 00, loss: -0.36372\n",
      "epoch: 01, loss: -0.36834\n",
      "epoch: 02, loss: -0.36995\n",
      "epoch: 03, loss: -0.37480\n",
      "epoch: 04, loss: -0.37934\n",
      "epoch: 05, loss: -0.38486\n",
      "epoch: 06, loss: -0.39029\n",
      "epoch: 07, loss: -0.39683\n",
      "epoch: 08, loss: -0.40403\n",
      "epoch: 09, loss: -0.41073\n"
     ]
    },
    {
     "name": "stderr",
     "output_type": "stream",
     "text": [
      " 59%|█████▉    | 593/1000 [3:48:38<2:42:46, 24.00s/it]"
     ]
    },
    {
     "name": "stdout",
     "output_type": "stream",
     "text": [
      "eigenvalues shape torch.Size([5]) eigenvectors shape torch.Size([5, 400])\n",
      "593 /home/phdcs2/Hard_Disk/Datasets/Deep-Spectral-Segmentation/data/object-segmentation/ECSSD/features/dino_vits16/0594.pth\n",
      "0594\n",
      "Starting Training\n",
      "epoch: 00, loss: -0.41344\n",
      "epoch: 01, loss: -0.42015\n",
      "epoch: 02, loss: -0.42249\n",
      "epoch: 03, loss: -0.42446\n",
      "epoch: 04, loss: -0.42608\n",
      "epoch: 05, loss: -0.42724\n",
      "epoch: 06, loss: -0.42795\n",
      "epoch: 07, loss: -0.42789\n",
      "epoch: 08, loss: -0.42793\n",
      "epoch: 09, loss: -0.42796\n"
     ]
    },
    {
     "name": "stderr",
     "output_type": "stream",
     "text": [
      " 59%|█████▉    | 594/1000 [3:49:02<2:43:28, 24.16s/it]"
     ]
    },
    {
     "name": "stdout",
     "output_type": "stream",
     "text": [
      "eigenvalues shape torch.Size([5]) eigenvectors shape torch.Size([5, 400])\n",
      "594 /home/phdcs2/Hard_Disk/Datasets/Deep-Spectral-Segmentation/data/object-segmentation/ECSSD/features/dino_vits16/0595.pth\n",
      "0595\n",
      "Starting Training\n",
      "epoch: 00, loss: -0.39668\n",
      "epoch: 01, loss: -0.39707\n",
      "epoch: 02, loss: -0.39715\n",
      "epoch: 03, loss: -0.39868\n",
      "epoch: 04, loss: -0.40004\n",
      "epoch: 05, loss: -0.40145\n",
      "epoch: 06, loss: -0.40403\n",
      "epoch: 07, loss: -0.40715\n",
      "epoch: 08, loss: -0.41142\n",
      "epoch: 09, loss: -0.41501\n"
     ]
    },
    {
     "name": "stderr",
     "output_type": "stream",
     "text": [
      " 60%|█████▉    | 595/1000 [3:49:25<2:39:14, 23.59s/it]"
     ]
    },
    {
     "name": "stdout",
     "output_type": "stream",
     "text": [
      "eigenvalues shape torch.Size([5]) eigenvectors shape torch.Size([5, 400])\n",
      "595 /home/phdcs2/Hard_Disk/Datasets/Deep-Spectral-Segmentation/data/object-segmentation/ECSSD/features/dino_vits16/0596.pth\n",
      "0596\n",
      "Starting Training\n",
      "epoch: 00, loss: -0.37643\n",
      "epoch: 01, loss: -0.37267\n",
      "epoch: 02, loss: -0.37513\n",
      "epoch: 03, loss: -0.37687\n",
      "epoch: 04, loss: -0.37796\n",
      "epoch: 05, loss: -0.37965\n",
      "epoch: 06, loss: -0.38142\n",
      "epoch: 07, loss: -0.38238\n",
      "epoch: 08, loss: -0.38391\n",
      "epoch: 09, loss: -0.38548\n"
     ]
    },
    {
     "name": "stderr",
     "output_type": "stream",
     "text": [
      " 60%|█████▉    | 596/1000 [3:49:47<2:35:43, 23.13s/it]"
     ]
    },
    {
     "name": "stdout",
     "output_type": "stream",
     "text": [
      "eigenvalues shape torch.Size([5]) eigenvectors shape torch.Size([5, 450])\n",
      "596 /home/phdcs2/Hard_Disk/Datasets/Deep-Spectral-Segmentation/data/object-segmentation/ECSSD/features/dino_vits16/0597.pth\n",
      "0597\n",
      "Starting Training\n",
      "epoch: 00, loss: -0.38884\n",
      "epoch: 01, loss: -0.39684\n",
      "epoch: 02, loss: -0.39952\n",
      "epoch: 03, loss: -0.40157\n",
      "epoch: 04, loss: -0.40366\n",
      "epoch: 05, loss: -0.40492\n",
      "epoch: 06, loss: -0.40667\n",
      "epoch: 07, loss: -0.40795\n",
      "epoch: 08, loss: -0.40844\n",
      "epoch: 09, loss: -0.40988\n"
     ]
    },
    {
     "name": "stderr",
     "output_type": "stream",
     "text": [
      " 60%|█████▉    | 597/1000 [3:50:12<2:40:44, 23.93s/it]"
     ]
    },
    {
     "name": "stdout",
     "output_type": "stream",
     "text": [
      "eigenvalues shape torch.Size([5]) eigenvectors shape torch.Size([5, 450])\n",
      "597 /home/phdcs2/Hard_Disk/Datasets/Deep-Spectral-Segmentation/data/object-segmentation/ECSSD/features/dino_vits16/0598.pth\n",
      "0598\n",
      "Starting Training\n",
      "epoch: 00, loss: -0.42513\n",
      "epoch: 01, loss: -0.43935\n",
      "epoch: 02, loss: -0.44059\n",
      "epoch: 03, loss: -0.44210\n",
      "epoch: 04, loss: -0.44297\n",
      "epoch: 05, loss: -0.44260\n",
      "epoch: 06, loss: -0.44293\n",
      "epoch: 07, loss: -0.44335\n",
      "epoch: 08, loss: -0.44356\n",
      "epoch: 09, loss: -0.44341\n"
     ]
    },
    {
     "name": "stderr",
     "output_type": "stream",
     "text": [
      " 60%|█████▉    | 598/1000 [3:50:33<2:33:12, 22.87s/it]"
     ]
    },
    {
     "name": "stdout",
     "output_type": "stream",
     "text": [
      "eigenvalues shape torch.Size([5]) eigenvectors shape torch.Size([5, 400])\n",
      "598 /home/phdcs2/Hard_Disk/Datasets/Deep-Spectral-Segmentation/data/object-segmentation/ECSSD/features/dino_vits16/0599.pth\n",
      "0599\n",
      "Starting Training\n",
      "epoch: 00, loss: -0.48415\n",
      "epoch: 01, loss: -0.49887\n",
      "epoch: 02, loss: -0.50209\n",
      "epoch: 03, loss: -0.50417\n",
      "epoch: 04, loss: -0.50554\n",
      "epoch: 05, loss: -0.50668\n",
      "epoch: 06, loss: -0.50719\n",
      "epoch: 07, loss: -0.50792\n",
      "epoch: 08, loss: -0.50830\n",
      "epoch: 09, loss: -0.50869\n"
     ]
    },
    {
     "name": "stderr",
     "output_type": "stream",
     "text": [
      " 60%|█████▉    | 599/1000 [3:50:55<2:31:52, 22.72s/it]"
     ]
    },
    {
     "name": "stdout",
     "output_type": "stream",
     "text": [
      "eigenvalues shape torch.Size([5]) eigenvectors shape torch.Size([5, 450])\n",
      "599 /home/phdcs2/Hard_Disk/Datasets/Deep-Spectral-Segmentation/data/object-segmentation/ECSSD/features/dino_vits16/0600.pth\n",
      "0600\n",
      "Starting Training\n",
      "epoch: 00, loss: -0.36486\n",
      "epoch: 01, loss: -0.37207\n",
      "epoch: 02, loss: -0.37665\n",
      "epoch: 03, loss: -0.37997\n",
      "epoch: 04, loss: -0.38339\n",
      "epoch: 05, loss: -0.38572\n",
      "epoch: 06, loss: -0.38854\n",
      "epoch: 07, loss: -0.39090\n",
      "epoch: 08, loss: -0.39282\n",
      "epoch: 09, loss: -0.39412\n"
     ]
    },
    {
     "name": "stderr",
     "output_type": "stream",
     "text": [
      " 60%|██████    | 600/1000 [3:51:17<2:29:20, 22.40s/it]"
     ]
    },
    {
     "name": "stdout",
     "output_type": "stream",
     "text": [
      "eigenvalues shape torch.Size([5]) eigenvectors shape torch.Size([5, 425])\n",
      "600 /home/phdcs2/Hard_Disk/Datasets/Deep-Spectral-Segmentation/data/object-segmentation/ECSSD/features/dino_vits16/0601.pth\n",
      "0601\n",
      "Starting Training\n",
      "epoch: 00, loss: -0.41222\n",
      "epoch: 01, loss: -0.41764\n",
      "epoch: 02, loss: -0.41772\n",
      "epoch: 03, loss: -0.41801\n",
      "epoch: 04, loss: -0.41682\n",
      "epoch: 05, loss: -0.41670\n",
      "epoch: 06, loss: -0.41808\n",
      "epoch: 07, loss: -0.41849\n",
      "epoch: 08, loss: -0.42062\n",
      "epoch: 09, loss: -0.42208\n"
     ]
    },
    {
     "name": "stderr",
     "output_type": "stream",
     "text": [
      " 60%|██████    | 601/1000 [3:51:38<2:27:20, 22.16s/it]"
     ]
    },
    {
     "name": "stdout",
     "output_type": "stream",
     "text": [
      "eigenvalues shape torch.Size([5]) eigenvectors shape torch.Size([5, 450])\n",
      "601 /home/phdcs2/Hard_Disk/Datasets/Deep-Spectral-Segmentation/data/object-segmentation/ECSSD/features/dino_vits16/0602.pth\n",
      "0602\n",
      "Starting Training\n",
      "epoch: 00, loss: -0.41076\n",
      "epoch: 01, loss: -0.42691\n",
      "epoch: 02, loss: -0.42940\n",
      "epoch: 03, loss: -0.43004\n",
      "epoch: 04, loss: -0.43081\n",
      "epoch: 05, loss: -0.43166\n",
      "epoch: 06, loss: -0.43176\n",
      "epoch: 07, loss: -0.43325\n",
      "epoch: 08, loss: -0.43407\n",
      "epoch: 09, loss: -0.43618\n"
     ]
    },
    {
     "name": "stderr",
     "output_type": "stream",
     "text": [
      " 60%|██████    | 602/1000 [3:52:01<2:27:35, 22.25s/it]"
     ]
    },
    {
     "name": "stdout",
     "output_type": "stream",
     "text": [
      "eigenvalues shape torch.Size([5]) eigenvectors shape torch.Size([5, 450])\n",
      "602 /home/phdcs2/Hard_Disk/Datasets/Deep-Spectral-Segmentation/data/object-segmentation/ECSSD/features/dino_vits16/0603.pth\n",
      "0603\n",
      "Starting Training\n",
      "epoch: 00, loss: -0.42675\n",
      "epoch: 01, loss: -0.44505\n",
      "epoch: 02, loss: -0.44699\n",
      "epoch: 03, loss: -0.44793\n",
      "epoch: 04, loss: -0.44793\n",
      "epoch: 05, loss: -0.44797\n",
      "epoch: 06, loss: -0.44902\n",
      "epoch: 07, loss: -0.44908\n",
      "epoch: 08, loss: -0.44948\n",
      "epoch: 09, loss: -0.44913\n"
     ]
    },
    {
     "name": "stderr",
     "output_type": "stream",
     "text": [
      " 60%|██████    | 603/1000 [3:52:19<2:18:44, 20.97s/it]"
     ]
    },
    {
     "name": "stdout",
     "output_type": "stream",
     "text": [
      "eigenvalues shape torch.Size([5]) eigenvectors shape torch.Size([5, 400])\n",
      "603 /home/phdcs2/Hard_Disk/Datasets/Deep-Spectral-Segmentation/data/object-segmentation/ECSSD/features/dino_vits16/0604.pth\n",
      "0604\n",
      "Starting Training\n",
      "epoch: 00, loss: -0.36397\n",
      "epoch: 01, loss: -0.37397\n",
      "epoch: 02, loss: -0.38047\n",
      "epoch: 03, loss: -0.38720\n",
      "epoch: 04, loss: -0.39262\n",
      "epoch: 05, loss: -0.39654\n",
      "epoch: 06, loss: -0.40045\n",
      "epoch: 07, loss: -0.40351\n",
      "epoch: 08, loss: -0.40781\n",
      "epoch: 09, loss: -0.41186\n"
     ]
    },
    {
     "name": "stderr",
     "output_type": "stream",
     "text": [
      " 60%|██████    | 604/1000 [3:52:44<2:26:01, 22.12s/it]"
     ]
    },
    {
     "name": "stdout",
     "output_type": "stream",
     "text": [
      "eigenvalues shape torch.Size([5]) eigenvectors shape torch.Size([5, 400])\n",
      "604 /home/phdcs2/Hard_Disk/Datasets/Deep-Spectral-Segmentation/data/object-segmentation/ECSSD/features/dino_vits16/0605.pth\n",
      "0605\n",
      "Starting Training\n",
      "epoch: 00, loss: -0.47421\n",
      "epoch: 01, loss: -0.48768\n",
      "epoch: 02, loss: -0.48901\n",
      "epoch: 03, loss: -0.49032\n",
      "epoch: 04, loss: -0.49188\n",
      "epoch: 05, loss: -0.49253\n",
      "epoch: 06, loss: -0.49265\n",
      "epoch: 07, loss: -0.49347\n",
      "epoch: 08, loss: -0.49466\n",
      "epoch: 09, loss: -0.49566\n"
     ]
    },
    {
     "name": "stderr",
     "output_type": "stream",
     "text": [
      " 60%|██████    | 605/1000 [3:53:05<2:23:42, 21.83s/it]"
     ]
    },
    {
     "name": "stdout",
     "output_type": "stream",
     "text": [
      "eigenvalues shape torch.Size([5]) eigenvectors shape torch.Size([5, 400])\n",
      "605 /home/phdcs2/Hard_Disk/Datasets/Deep-Spectral-Segmentation/data/object-segmentation/ECSSD/features/dino_vits16/0606.pth\n",
      "0606\n",
      "Starting Training\n",
      "epoch: 00, loss: -0.41427\n",
      "epoch: 01, loss: -0.42122\n",
      "epoch: 02, loss: -0.42361\n",
      "epoch: 03, loss: -0.42675\n",
      "epoch: 04, loss: -0.43044\n",
      "epoch: 05, loss: -0.43209\n",
      "epoch: 06, loss: -0.43375\n",
      "epoch: 07, loss: -0.43540\n",
      "epoch: 08, loss: -0.43610\n",
      "epoch: 09, loss: -0.43721\n"
     ]
    },
    {
     "name": "stderr",
     "output_type": "stream",
     "text": [
      " 61%|██████    | 606/1000 [3:53:25<2:19:29, 21.24s/it]"
     ]
    },
    {
     "name": "stdout",
     "output_type": "stream",
     "text": [
      "eigenvalues shape torch.Size([5]) eigenvectors shape torch.Size([5, 400])\n",
      "606 /home/phdcs2/Hard_Disk/Datasets/Deep-Spectral-Segmentation/data/object-segmentation/ECSSD/features/dino_vits16/0607.pth\n",
      "0607\n",
      "Starting Training\n",
      "epoch: 00, loss: -0.40746\n",
      "epoch: 01, loss: -0.40509\n",
      "epoch: 02, loss: -0.40318\n",
      "epoch: 03, loss: -0.40130\n",
      "epoch: 04, loss: -0.40297\n",
      "epoch: 05, loss: -0.40452\n",
      "epoch: 06, loss: -0.40716\n",
      "epoch: 07, loss: -0.40933\n",
      "epoch: 08, loss: -0.41106\n",
      "epoch: 09, loss: -0.41305\n"
     ]
    },
    {
     "name": "stderr",
     "output_type": "stream",
     "text": [
      " 61%|██████    | 607/1000 [3:53:47<2:21:11, 21.55s/it]"
     ]
    },
    {
     "name": "stdout",
     "output_type": "stream",
     "text": [
      "eigenvalues shape torch.Size([5]) eigenvectors shape torch.Size([5, 450])\n",
      "607 /home/phdcs2/Hard_Disk/Datasets/Deep-Spectral-Segmentation/data/object-segmentation/ECSSD/features/dino_vits16/0608.pth\n",
      "0608\n",
      "Starting Training\n",
      "epoch: 00, loss: -0.45383\n",
      "epoch: 01, loss: -0.44337\n",
      "epoch: 02, loss: -0.44725\n",
      "epoch: 03, loss: -0.45107\n",
      "epoch: 04, loss: -0.45460\n",
      "epoch: 05, loss: -0.45648\n",
      "epoch: 06, loss: -0.46004\n",
      "epoch: 07, loss: -0.46261\n",
      "epoch: 08, loss: -0.46322\n",
      "epoch: 09, loss: -0.46673\n"
     ]
    },
    {
     "name": "stderr",
     "output_type": "stream",
     "text": [
      " 61%|██████    | 608/1000 [3:54:07<2:17:01, 20.97s/it]"
     ]
    },
    {
     "name": "stdout",
     "output_type": "stream",
     "text": [
      "eigenvalues shape torch.Size([5]) eigenvectors shape torch.Size([5, 450])\n",
      "608 /home/phdcs2/Hard_Disk/Datasets/Deep-Spectral-Segmentation/data/object-segmentation/ECSSD/features/dino_vits16/0609.pth\n",
      "0609\n",
      "Starting Training\n",
      "epoch: 00, loss: -0.39643\n",
      "epoch: 01, loss: -0.40895\n",
      "epoch: 02, loss: -0.41108\n",
      "epoch: 03, loss: -0.41207\n",
      "epoch: 04, loss: -0.41290\n",
      "epoch: 05, loss: -0.41335\n",
      "epoch: 06, loss: -0.41377\n",
      "epoch: 07, loss: -0.41404\n",
      "epoch: 08, loss: -0.41541\n",
      "epoch: 09, loss: -0.41599\n"
     ]
    },
    {
     "name": "stderr",
     "output_type": "stream",
     "text": [
      " 61%|██████    | 609/1000 [3:54:29<2:19:11, 21.36s/it]"
     ]
    },
    {
     "name": "stdout",
     "output_type": "stream",
     "text": [
      "eigenvalues shape torch.Size([5]) eigenvectors shape torch.Size([5, 400])\n",
      "609 /home/phdcs2/Hard_Disk/Datasets/Deep-Spectral-Segmentation/data/object-segmentation/ECSSD/features/dino_vits16/0610.pth\n",
      "0610\n",
      "Starting Training\n",
      "epoch: 00, loss: -0.43085\n",
      "epoch: 01, loss: -0.43365\n",
      "epoch: 02, loss: -0.43278\n",
      "epoch: 03, loss: -0.43257\n",
      "epoch: 04, loss: -0.43078\n",
      "epoch: 05, loss: -0.43031\n",
      "epoch: 06, loss: -0.43040\n",
      "epoch: 07, loss: -0.43000\n",
      "epoch: 08, loss: -0.42949\n",
      "epoch: 09, loss: -0.42960\n"
     ]
    },
    {
     "name": "stderr",
     "output_type": "stream",
     "text": [
      " 61%|██████    | 610/1000 [3:54:52<2:21:47, 21.81s/it]"
     ]
    },
    {
     "name": "stdout",
     "output_type": "stream",
     "text": [
      "eigenvalues shape torch.Size([5]) eigenvectors shape torch.Size([5, 450])\n",
      "610 /home/phdcs2/Hard_Disk/Datasets/Deep-Spectral-Segmentation/data/object-segmentation/ECSSD/features/dino_vits16/0611.pth\n",
      "0611\n",
      "Starting Training\n",
      "epoch: 00, loss: -0.35632\n",
      "epoch: 01, loss: -0.35687\n",
      "epoch: 02, loss: -0.36141\n",
      "epoch: 03, loss: -0.36613\n",
      "epoch: 04, loss: -0.37059\n",
      "epoch: 05, loss: -0.37530\n",
      "epoch: 06, loss: -0.38031\n",
      "epoch: 07, loss: -0.38431\n",
      "epoch: 08, loss: -0.38790\n",
      "epoch: 09, loss: -0.39115\n"
     ]
    },
    {
     "name": "stderr",
     "output_type": "stream",
     "text": [
      " 61%|██████    | 611/1000 [3:55:18<2:29:17, 23.03s/it]"
     ]
    },
    {
     "name": "stdout",
     "output_type": "stream",
     "text": [
      "eigenvalues shape torch.Size([5]) eigenvectors shape torch.Size([5, 450])\n",
      "611 /home/phdcs2/Hard_Disk/Datasets/Deep-Spectral-Segmentation/data/object-segmentation/ECSSD/features/dino_vits16/0612.pth\n",
      "0612\n",
      "Starting Training\n",
      "epoch: 00, loss: -0.35143\n",
      "epoch: 01, loss: -0.35157\n",
      "epoch: 02, loss: -0.35484\n",
      "epoch: 03, loss: -0.35578\n",
      "epoch: 04, loss: -0.36027\n",
      "epoch: 05, loss: -0.36675\n",
      "epoch: 06, loss: -0.37437\n",
      "epoch: 07, loss: -0.38436\n",
      "epoch: 08, loss: -0.39355\n",
      "epoch: 09, loss: -0.40113\n"
     ]
    },
    {
     "name": "stderr",
     "output_type": "stream",
     "text": [
      " 61%|██████    | 612/1000 [3:55:41<2:29:09, 23.07s/it]"
     ]
    },
    {
     "name": "stdout",
     "output_type": "stream",
     "text": [
      "eigenvalues shape torch.Size([5]) eigenvectors shape torch.Size([5, 450])\n",
      "612 /home/phdcs2/Hard_Disk/Datasets/Deep-Spectral-Segmentation/data/object-segmentation/ECSSD/features/dino_vits16/0613.pth\n",
      "0613\n",
      "Starting Training\n",
      "epoch: 00, loss: -0.40506\n",
      "epoch: 01, loss: -0.42982\n",
      "epoch: 02, loss: -0.43779\n",
      "epoch: 03, loss: -0.44534\n",
      "epoch: 04, loss: -0.45082\n",
      "epoch: 05, loss: -0.45665\n",
      "epoch: 06, loss: -0.46123\n",
      "epoch: 07, loss: -0.46420\n",
      "epoch: 08, loss: -0.46835\n",
      "epoch: 09, loss: -0.47268\n"
     ]
    },
    {
     "name": "stderr",
     "output_type": "stream",
     "text": [
      " 61%|██████▏   | 613/1000 [3:55:59<2:18:49, 21.52s/it]"
     ]
    },
    {
     "name": "stdout",
     "output_type": "stream",
     "text": [
      "eigenvalues shape torch.Size([5]) eigenvectors shape torch.Size([5, 400])\n",
      "613 /home/phdcs2/Hard_Disk/Datasets/Deep-Spectral-Segmentation/data/object-segmentation/ECSSD/features/dino_vits16/0614.pth\n",
      "0614\n",
      "Starting Training\n",
      "epoch: 00, loss: -0.39314\n",
      "epoch: 01, loss: -0.40632\n",
      "epoch: 02, loss: -0.40525\n",
      "epoch: 03, loss: -0.40585\n",
      "epoch: 04, loss: -0.40568\n",
      "epoch: 05, loss: -0.40719\n",
      "epoch: 06, loss: -0.40645\n",
      "epoch: 07, loss: -0.40790\n",
      "epoch: 08, loss: -0.40729\n",
      "epoch: 09, loss: -0.40699\n"
     ]
    },
    {
     "name": "stderr",
     "output_type": "stream",
     "text": [
      " 61%|██████▏   | 614/1000 [3:56:20<2:18:39, 21.55s/it]"
     ]
    },
    {
     "name": "stdout",
     "output_type": "stream",
     "text": [
      "eigenvalues shape torch.Size([5]) eigenvectors shape torch.Size([5, 450])\n",
      "614 /home/phdcs2/Hard_Disk/Datasets/Deep-Spectral-Segmentation/data/object-segmentation/ECSSD/features/dino_vits16/0615.pth\n",
      "0615\n",
      "Starting Training\n",
      "epoch: 00, loss: -0.38837\n",
      "epoch: 01, loss: -0.40064\n",
      "epoch: 02, loss: -0.40137\n",
      "epoch: 03, loss: -0.40090\n",
      "epoch: 04, loss: -0.40088\n",
      "epoch: 05, loss: -0.40281\n",
      "epoch: 06, loss: -0.40415\n",
      "epoch: 07, loss: -0.40715\n",
      "epoch: 08, loss: -0.40957\n",
      "epoch: 09, loss: -0.41180\n"
     ]
    },
    {
     "name": "stderr",
     "output_type": "stream",
     "text": [
      " 62%|██████▏   | 615/1000 [3:56:45<2:23:49, 22.41s/it]"
     ]
    },
    {
     "name": "stdout",
     "output_type": "stream",
     "text": [
      "eigenvalues shape torch.Size([5]) eigenvectors shape torch.Size([5, 400])\n",
      "615 /home/phdcs2/Hard_Disk/Datasets/Deep-Spectral-Segmentation/data/object-segmentation/ECSSD/features/dino_vits16/0616.pth\n",
      "0616\n",
      "Starting Training\n",
      "epoch: 00, loss: -0.38225\n",
      "epoch: 01, loss: -0.38679\n",
      "epoch: 02, loss: -0.38567\n",
      "epoch: 03, loss: -0.38700\n",
      "epoch: 04, loss: -0.38721\n",
      "epoch: 05, loss: -0.38790\n",
      "epoch: 06, loss: -0.38873\n",
      "epoch: 07, loss: -0.39050\n",
      "epoch: 08, loss: -0.39241\n",
      "epoch: 09, loss: -0.39464\n"
     ]
    },
    {
     "name": "stderr",
     "output_type": "stream",
     "text": [
      " 62%|██████▏   | 616/1000 [3:57:07<2:22:36, 22.28s/it]"
     ]
    },
    {
     "name": "stdout",
     "output_type": "stream",
     "text": [
      "eigenvalues shape torch.Size([5]) eigenvectors shape torch.Size([5, 400])\n",
      "616 /home/phdcs2/Hard_Disk/Datasets/Deep-Spectral-Segmentation/data/object-segmentation/ECSSD/features/dino_vits16/0617.pth\n",
      "0617\n",
      "Starting Training\n",
      "epoch: 00, loss: -0.38247\n",
      "epoch: 01, loss: -0.38549\n",
      "epoch: 02, loss: -0.38592\n",
      "epoch: 03, loss: -0.38891\n",
      "epoch: 04, loss: -0.39242\n",
      "epoch: 05, loss: -0.39543\n",
      "epoch: 06, loss: -0.39960\n",
      "epoch: 07, loss: -0.40335\n",
      "epoch: 08, loss: -0.40715\n",
      "epoch: 09, loss: -0.41114\n"
     ]
    },
    {
     "name": "stderr",
     "output_type": "stream",
     "text": [
      " 62%|██████▏   | 617/1000 [3:57:33<2:30:15, 23.54s/it]"
     ]
    },
    {
     "name": "stdout",
     "output_type": "stream",
     "text": [
      "eigenvalues shape torch.Size([5]) eigenvectors shape torch.Size([5, 500])\n",
      "617 /home/phdcs2/Hard_Disk/Datasets/Deep-Spectral-Segmentation/data/object-segmentation/ECSSD/features/dino_vits16/0618.pth\n",
      "0618\n",
      "Starting Training\n",
      "epoch: 00, loss: -0.41482\n",
      "epoch: 01, loss: -0.43399\n",
      "epoch: 02, loss: -0.43765\n",
      "epoch: 03, loss: -0.44051\n",
      "epoch: 04, loss: -0.44451\n",
      "epoch: 05, loss: -0.44872\n",
      "epoch: 06, loss: -0.45436\n",
      "epoch: 07, loss: -0.46169\n",
      "epoch: 08, loss: -0.46815\n",
      "epoch: 09, loss: -0.47362\n"
     ]
    },
    {
     "name": "stderr",
     "output_type": "stream",
     "text": [
      " 62%|██████▏   | 618/1000 [3:57:56<2:27:30, 23.17s/it]"
     ]
    },
    {
     "name": "stdout",
     "output_type": "stream",
     "text": [
      "eigenvalues shape torch.Size([5]) eigenvectors shape torch.Size([5, 425])\n",
      "618 /home/phdcs2/Hard_Disk/Datasets/Deep-Spectral-Segmentation/data/object-segmentation/ECSSD/features/dino_vits16/0619.pth\n",
      "0619\n",
      "Starting Training\n",
      "epoch: 00, loss: -0.41871\n",
      "epoch: 01, loss: -0.43741\n",
      "epoch: 02, loss: -0.43841\n",
      "epoch: 03, loss: -0.44060\n",
      "epoch: 04, loss: -0.44400\n",
      "epoch: 05, loss: -0.44778\n",
      "epoch: 06, loss: -0.45133\n",
      "epoch: 07, loss: -0.45467\n",
      "epoch: 08, loss: -0.45641\n",
      "epoch: 09, loss: -0.45907\n"
     ]
    },
    {
     "name": "stderr",
     "output_type": "stream",
     "text": [
      " 62%|██████▏   | 619/1000 [3:58:21<2:32:19, 23.99s/it]"
     ]
    },
    {
     "name": "stdout",
     "output_type": "stream",
     "text": [
      "eigenvalues shape torch.Size([5]) eigenvectors shape torch.Size([5, 450])\n",
      "619 /home/phdcs2/Hard_Disk/Datasets/Deep-Spectral-Segmentation/data/object-segmentation/ECSSD/features/dino_vits16/0620.pth\n",
      "0620\n",
      "Starting Training\n",
      "epoch: 00, loss: -0.39625\n",
      "epoch: 01, loss: -0.40730\n",
      "epoch: 02, loss: -0.40961\n",
      "epoch: 03, loss: -0.41225\n",
      "epoch: 04, loss: -0.41511\n",
      "epoch: 05, loss: -0.41686\n",
      "epoch: 06, loss: -0.41815\n",
      "epoch: 07, loss: -0.41972\n",
      "epoch: 08, loss: -0.42128\n",
      "epoch: 09, loss: -0.42275\n"
     ]
    },
    {
     "name": "stderr",
     "output_type": "stream",
     "text": [
      " 62%|██████▏   | 620/1000 [3:58:51<2:41:59, 25.58s/it]"
     ]
    },
    {
     "name": "stdout",
     "output_type": "stream",
     "text": [
      "eigenvalues shape torch.Size([5]) eigenvectors shape torch.Size([5, 525])\n",
      "620 /home/phdcs2/Hard_Disk/Datasets/Deep-Spectral-Segmentation/data/object-segmentation/ECSSD/features/dino_vits16/0621.pth\n",
      "0621\n",
      "Starting Training\n",
      "epoch: 00, loss: -0.45159\n",
      "epoch: 01, loss: -0.45755\n",
      "epoch: 02, loss: -0.45839\n",
      "epoch: 03, loss: -0.45779\n",
      "epoch: 04, loss: -0.45888\n",
      "epoch: 05, loss: -0.45852\n",
      "epoch: 06, loss: -0.45891\n",
      "epoch: 07, loss: -0.45855\n",
      "epoch: 08, loss: -0.45846\n",
      "epoch: 09, loss: -0.45831\n"
     ]
    },
    {
     "name": "stderr",
     "output_type": "stream",
     "text": [
      " 62%|██████▏   | 621/1000 [3:59:12<2:34:15, 24.42s/it]"
     ]
    },
    {
     "name": "stdout",
     "output_type": "stream",
     "text": [
      "eigenvalues shape torch.Size([5]) eigenvectors shape torch.Size([5, 450])\n",
      "621 /home/phdcs2/Hard_Disk/Datasets/Deep-Spectral-Segmentation/data/object-segmentation/ECSSD/features/dino_vits16/0622.pth\n",
      "0622\n",
      "Starting Training\n",
      "epoch: 00, loss: -0.40294\n",
      "epoch: 01, loss: -0.43721\n",
      "epoch: 02, loss: -0.44096\n",
      "epoch: 03, loss: -0.44548\n",
      "epoch: 04, loss: -0.45008\n",
      "epoch: 05, loss: -0.45427\n",
      "epoch: 06, loss: -0.45865\n",
      "epoch: 07, loss: -0.46209\n",
      "epoch: 08, loss: -0.46399\n",
      "epoch: 09, loss: -0.46605\n"
     ]
    },
    {
     "name": "stderr",
     "output_type": "stream",
     "text": [
      " 62%|██████▏   | 622/1000 [3:59:26<2:13:06, 21.13s/it]"
     ]
    },
    {
     "name": "stdout",
     "output_type": "stream",
     "text": [
      "eigenvalues shape torch.Size([5]) eigenvectors shape torch.Size([5, 250])\n",
      "622 /home/phdcs2/Hard_Disk/Datasets/Deep-Spectral-Segmentation/data/object-segmentation/ECSSD/features/dino_vits16/0623.pth\n",
      "0623\n",
      "Starting Training\n",
      "epoch: 00, loss: -0.60675\n",
      "epoch: 01, loss: -0.63697\n",
      "epoch: 02, loss: -0.63952\n",
      "epoch: 03, loss: -0.64259\n",
      "epoch: 04, loss: -0.64468\n",
      "epoch: 05, loss: -0.64624\n",
      "epoch: 06, loss: -0.64749\n",
      "epoch: 07, loss: -0.64868\n",
      "epoch: 08, loss: -0.64971\n",
      "epoch: 09, loss: -0.65086\n"
     ]
    },
    {
     "name": "stderr",
     "output_type": "stream",
     "text": [
      " 62%|██████▏   | 623/1000 [3:59:54<2:26:54, 23.38s/it]"
     ]
    },
    {
     "name": "stdout",
     "output_type": "stream",
     "text": [
      "eigenvalues shape torch.Size([5]) eigenvectors shape torch.Size([5, 450])\n",
      "623 /home/phdcs2/Hard_Disk/Datasets/Deep-Spectral-Segmentation/data/object-segmentation/ECSSD/features/dino_vits16/0624.pth\n",
      "0624\n",
      "Starting Training\n",
      "epoch: 00, loss: -0.38286\n",
      "epoch: 01, loss: -0.38256\n",
      "epoch: 02, loss: -0.38190\n",
      "epoch: 03, loss: -0.38045\n",
      "epoch: 04, loss: -0.38077\n",
      "epoch: 05, loss: -0.38051\n",
      "epoch: 06, loss: -0.38091\n",
      "epoch: 07, loss: -0.38167\n",
      "epoch: 08, loss: -0.38144\n",
      "epoch: 09, loss: -0.38162\n"
     ]
    },
    {
     "name": "stderr",
     "output_type": "stream",
     "text": [
      " 62%|██████▏   | 624/1000 [4:00:16<2:23:51, 22.96s/it]"
     ]
    },
    {
     "name": "stdout",
     "output_type": "stream",
     "text": [
      "eigenvalues shape torch.Size([5]) eigenvectors shape torch.Size([5, 400])\n",
      "624 /home/phdcs2/Hard_Disk/Datasets/Deep-Spectral-Segmentation/data/object-segmentation/ECSSD/features/dino_vits16/0625.pth\n",
      "0625\n",
      "Starting Training\n",
      "epoch: 00, loss: -0.41945\n",
      "epoch: 01, loss: -0.42840\n",
      "epoch: 02, loss: -0.43127\n",
      "epoch: 03, loss: -0.43385\n",
      "epoch: 04, loss: -0.43660\n",
      "epoch: 05, loss: -0.43801\n",
      "epoch: 06, loss: -0.43991\n",
      "epoch: 07, loss: -0.44060\n",
      "epoch: 08, loss: -0.44139\n",
      "epoch: 09, loss: -0.44258\n"
     ]
    },
    {
     "name": "stderr",
     "output_type": "stream",
     "text": [
      " 62%|██████▎   | 625/1000 [4:00:39<2:22:42, 22.83s/it]"
     ]
    },
    {
     "name": "stdout",
     "output_type": "stream",
     "text": [
      "eigenvalues shape torch.Size([5]) eigenvectors shape torch.Size([5, 400])\n",
      "625 /home/phdcs2/Hard_Disk/Datasets/Deep-Spectral-Segmentation/data/object-segmentation/ECSSD/features/dino_vits16/0626.pth\n",
      "0626\n",
      "Starting Training\n",
      "epoch: 00, loss: -0.35303\n",
      "epoch: 01, loss: -0.35389\n",
      "epoch: 02, loss: -0.35728\n",
      "epoch: 03, loss: -0.36066\n",
      "epoch: 04, loss: -0.36833\n",
      "epoch: 05, loss: -0.37445\n",
      "epoch: 06, loss: -0.37985\n",
      "epoch: 07, loss: -0.38387\n",
      "epoch: 08, loss: -0.38628\n",
      "epoch: 09, loss: -0.38975\n"
     ]
    },
    {
     "name": "stderr",
     "output_type": "stream",
     "text": [
      " 63%|██████▎   | 626/1000 [4:00:59<2:17:26, 22.05s/it]"
     ]
    },
    {
     "name": "stdout",
     "output_type": "stream",
     "text": [
      "eigenvalues shape torch.Size([5]) eigenvectors shape torch.Size([5, 400])\n",
      "626 /home/phdcs2/Hard_Disk/Datasets/Deep-Spectral-Segmentation/data/object-segmentation/ECSSD/features/dino_vits16/0627.pth\n",
      "0627\n",
      "Starting Training\n",
      "epoch: 00, loss: -0.40288\n",
      "epoch: 01, loss: -0.41195\n",
      "epoch: 02, loss: -0.41884\n",
      "epoch: 03, loss: -0.42597\n",
      "epoch: 04, loss: -0.43248\n",
      "epoch: 05, loss: -0.43754\n",
      "epoch: 06, loss: -0.44292\n",
      "epoch: 07, loss: -0.44729\n",
      "epoch: 08, loss: -0.45090\n",
      "epoch: 09, loss: -0.45451\n"
     ]
    },
    {
     "name": "stderr",
     "output_type": "stream",
     "text": [
      " 63%|██████▎   | 627/1000 [4:01:33<2:39:04, 25.59s/it]"
     ]
    },
    {
     "name": "stdout",
     "output_type": "stream",
     "text": [
      "eigenvalues shape torch.Size([5]) eigenvectors shape torch.Size([5, 600])\n",
      "627 /home/phdcs2/Hard_Disk/Datasets/Deep-Spectral-Segmentation/data/object-segmentation/ECSSD/features/dino_vits16/0628.pth\n",
      "0628\n",
      "Starting Training\n",
      "epoch: 00, loss: -0.36637\n",
      "epoch: 01, loss: -0.38334\n",
      "epoch: 02, loss: -0.42104\n",
      "epoch: 03, loss: -0.45298\n",
      "epoch: 04, loss: -0.47173\n",
      "epoch: 05, loss: -0.48061\n",
      "epoch: 06, loss: -0.49001\n",
      "epoch: 07, loss: -0.49305\n",
      "epoch: 08, loss: -0.49609\n",
      "epoch: 09, loss: -0.49985\n"
     ]
    },
    {
     "name": "stderr",
     "output_type": "stream",
     "text": [
      " 63%|██████▎   | 628/1000 [4:01:54<2:30:08, 24.22s/it]"
     ]
    },
    {
     "name": "stdout",
     "output_type": "stream",
     "text": [
      "eigenvalues shape torch.Size([5]) eigenvectors shape torch.Size([5, 400])\n",
      "628 /home/phdcs2/Hard_Disk/Datasets/Deep-Spectral-Segmentation/data/object-segmentation/ECSSD/features/dino_vits16/0629.pth\n",
      "0629\n",
      "Starting Training\n",
      "epoch: 00, loss: -0.41264\n",
      "epoch: 01, loss: -0.42225\n",
      "epoch: 02, loss: -0.42198\n",
      "epoch: 03, loss: -0.41991\n",
      "epoch: 04, loss: -0.41733\n",
      "epoch: 05, loss: -0.41630\n",
      "epoch: 06, loss: -0.41620\n",
      "epoch: 07, loss: -0.41493\n",
      "epoch: 08, loss: -0.41547\n",
      "epoch: 09, loss: -0.41645\n"
     ]
    },
    {
     "name": "stderr",
     "output_type": "stream",
     "text": [
      " 63%|██████▎   | 629/1000 [4:02:23<2:39:15, 25.76s/it]"
     ]
    },
    {
     "name": "stdout",
     "output_type": "stream",
     "text": [
      "eigenvalues shape torch.Size([5]) eigenvectors shape torch.Size([5, 500])\n",
      "629 /home/phdcs2/Hard_Disk/Datasets/Deep-Spectral-Segmentation/data/object-segmentation/ECSSD/features/dino_vits16/0630.pth\n",
      "0630\n",
      "Starting Training\n",
      "epoch: 00, loss: -0.35159\n",
      "epoch: 01, loss: -0.35806\n",
      "epoch: 02, loss: -0.36638\n",
      "epoch: 03, loss: -0.37638\n",
      "epoch: 04, loss: -0.38478\n",
      "epoch: 05, loss: -0.39302\n",
      "epoch: 06, loss: -0.40236\n",
      "epoch: 07, loss: -0.41138\n",
      "epoch: 08, loss: -0.41899\n",
      "epoch: 09, loss: -0.42693\n"
     ]
    },
    {
     "name": "stderr",
     "output_type": "stream",
     "text": [
      " 63%|██████▎   | 630/1000 [4:02:48<2:35:57, 25.29s/it]"
     ]
    },
    {
     "name": "stdout",
     "output_type": "stream",
     "text": [
      "eigenvalues shape torch.Size([5]) eigenvectors shape torch.Size([5, 450])\n",
      "630 /home/phdcs2/Hard_Disk/Datasets/Deep-Spectral-Segmentation/data/object-segmentation/ECSSD/features/dino_vits16/0631.pth\n",
      "0631\n",
      "Starting Training\n",
      "epoch: 00, loss: -0.50239\n",
      "epoch: 01, loss: -0.50488\n",
      "epoch: 02, loss: -0.51265\n",
      "epoch: 03, loss: -0.51396\n",
      "epoch: 04, loss: -0.51356\n",
      "epoch: 05, loss: -0.51214\n",
      "epoch: 06, loss: -0.51300\n",
      "epoch: 07, loss: -0.51189\n",
      "epoch: 08, loss: -0.51133\n",
      "epoch: 09, loss: -0.51166\n"
     ]
    },
    {
     "name": "stderr",
     "output_type": "stream",
     "text": [
      " 63%|██████▎   | 631/1000 [4:03:12<2:33:31, 24.96s/it]"
     ]
    },
    {
     "name": "stdout",
     "output_type": "stream",
     "text": [
      "eigenvalues shape torch.Size([5]) eigenvectors shape torch.Size([5, 450])\n",
      "631 /home/phdcs2/Hard_Disk/Datasets/Deep-Spectral-Segmentation/data/object-segmentation/ECSSD/features/dino_vits16/0632.pth\n",
      "0632\n",
      "Starting Training\n",
      "epoch: 00, loss: -0.34536\n",
      "epoch: 01, loss: -0.35379\n",
      "epoch: 02, loss: -0.36236\n",
      "epoch: 03, loss: -0.37201\n",
      "epoch: 04, loss: -0.38352\n",
      "epoch: 05, loss: -0.39554\n",
      "epoch: 06, loss: -0.40971\n",
      "epoch: 07, loss: -0.41386\n",
      "epoch: 08, loss: -0.41978\n",
      "epoch: 09, loss: -0.42171\n"
     ]
    },
    {
     "name": "stderr",
     "output_type": "stream",
     "text": [
      " 63%|██████▎   | 632/1000 [4:03:41<2:41:34, 26.34s/it]"
     ]
    },
    {
     "name": "stdout",
     "output_type": "stream",
     "text": [
      "eigenvalues shape torch.Size([5]) eigenvectors shape torch.Size([5, 550])\n",
      "632 /home/phdcs2/Hard_Disk/Datasets/Deep-Spectral-Segmentation/data/object-segmentation/ECSSD/features/dino_vits16/0633.pth\n",
      "0633\n",
      "Starting Training\n",
      "epoch: 00, loss: -0.39645\n",
      "epoch: 01, loss: -0.40376\n",
      "epoch: 02, loss: -0.40727\n",
      "epoch: 03, loss: -0.40994\n",
      "epoch: 04, loss: -0.41226\n",
      "epoch: 05, loss: -0.41395\n",
      "epoch: 06, loss: -0.41550\n",
      "epoch: 07, loss: -0.41594\n",
      "epoch: 08, loss: -0.41660\n",
      "epoch: 09, loss: -0.41696\n"
     ]
    },
    {
     "name": "stderr",
     "output_type": "stream",
     "text": [
      " 63%|██████▎   | 633/1000 [4:04:01<2:28:28, 24.27s/it]"
     ]
    },
    {
     "name": "stdout",
     "output_type": "stream",
     "text": [
      "eigenvalues shape torch.Size([5]) eigenvectors shape torch.Size([5, 425])\n",
      "633 /home/phdcs2/Hard_Disk/Datasets/Deep-Spectral-Segmentation/data/object-segmentation/ECSSD/features/dino_vits16/0634.pth\n",
      "0634\n",
      "Starting Training\n",
      "epoch: 00, loss: -0.41673\n",
      "epoch: 01, loss: -0.42539\n",
      "epoch: 02, loss: -0.42520\n",
      "epoch: 03, loss: -0.42539\n",
      "epoch: 04, loss: -0.42525\n",
      "epoch: 05, loss: -0.42577\n",
      "epoch: 06, loss: -0.42533\n",
      "epoch: 07, loss: -0.42640\n",
      "epoch: 08, loss: -0.42694\n",
      "epoch: 09, loss: -0.42662\n"
     ]
    },
    {
     "name": "stderr",
     "output_type": "stream",
     "text": [
      " 63%|██████▎   | 634/1000 [4:04:27<2:31:42, 24.87s/it]"
     ]
    },
    {
     "name": "stdout",
     "output_type": "stream",
     "text": [
      "eigenvalues shape torch.Size([5]) eigenvectors shape torch.Size([5, 450])\n",
      "634 /home/phdcs2/Hard_Disk/Datasets/Deep-Spectral-Segmentation/data/object-segmentation/ECSSD/features/dino_vits16/0635.pth\n",
      "0635\n",
      "Starting Training\n",
      "epoch: 00, loss: -0.33320\n",
      "epoch: 01, loss: -0.33727\n",
      "epoch: 02, loss: -0.34241\n",
      "epoch: 03, loss: -0.34634\n",
      "epoch: 04, loss: -0.35098\n",
      "epoch: 05, loss: -0.35497\n",
      "epoch: 06, loss: -0.35852\n",
      "epoch: 07, loss: -0.36231\n",
      "epoch: 08, loss: -0.36645\n",
      "epoch: 09, loss: -0.37090\n"
     ]
    },
    {
     "name": "stderr",
     "output_type": "stream",
     "text": [
      " 64%|██████▎   | 635/1000 [4:04:52<2:31:52, 24.97s/it]"
     ]
    },
    {
     "name": "stdout",
     "output_type": "stream",
     "text": [
      "eigenvalues shape torch.Size([5]) eigenvectors shape torch.Size([5, 450])\n",
      "635 /home/phdcs2/Hard_Disk/Datasets/Deep-Spectral-Segmentation/data/object-segmentation/ECSSD/features/dino_vits16/0636.pth\n",
      "0636\n",
      "Starting Training\n",
      "epoch: 00, loss: -0.40975\n",
      "epoch: 01, loss: -0.43195\n",
      "epoch: 02, loss: -0.44042\n",
      "epoch: 03, loss: -0.44576\n",
      "epoch: 04, loss: -0.44930\n",
      "epoch: 05, loss: -0.45266\n",
      "epoch: 06, loss: -0.45317\n",
      "epoch: 07, loss: -0.45327\n",
      "epoch: 08, loss: -0.45304\n",
      "epoch: 09, loss: -0.45329\n"
     ]
    },
    {
     "name": "stderr",
     "output_type": "stream",
     "text": [
      " 64%|██████▎   | 636/1000 [4:05:10<2:18:43, 22.87s/it]"
     ]
    },
    {
     "name": "stdout",
     "output_type": "stream",
     "text": [
      "eigenvalues shape torch.Size([5]) eigenvectors shape torch.Size([5, 350])\n",
      "636 /home/phdcs2/Hard_Disk/Datasets/Deep-Spectral-Segmentation/data/object-segmentation/ECSSD/features/dino_vits16/0637.pth\n",
      "0637\n",
      "Starting Training\n",
      "epoch: 00, loss: -0.41392\n",
      "epoch: 01, loss: -0.43213\n",
      "epoch: 02, loss: -0.43448\n",
      "epoch: 03, loss: -0.43687\n",
      "epoch: 04, loss: -0.43825\n",
      "epoch: 05, loss: -0.44117\n",
      "epoch: 06, loss: -0.44226\n",
      "epoch: 07, loss: -0.44279\n",
      "epoch: 08, loss: -0.44507\n",
      "epoch: 09, loss: -0.44631\n"
     ]
    },
    {
     "name": "stderr",
     "output_type": "stream",
     "text": [
      " 64%|██████▎   | 637/1000 [4:05:33<2:17:59, 22.81s/it]"
     ]
    },
    {
     "name": "stdout",
     "output_type": "stream",
     "text": [
      "eigenvalues shape torch.Size([5]) eigenvectors shape torch.Size([5, 450])\n",
      "637 /home/phdcs2/Hard_Disk/Datasets/Deep-Spectral-Segmentation/data/object-segmentation/ECSSD/features/dino_vits16/0638.pth\n",
      "0638\n",
      "Starting Training\n",
      "epoch: 00, loss: -0.38078\n",
      "epoch: 01, loss: -0.40324\n",
      "epoch: 02, loss: -0.41250\n",
      "epoch: 03, loss: -0.41793\n",
      "epoch: 04, loss: -0.42339\n",
      "epoch: 05, loss: -0.42780\n",
      "epoch: 06, loss: -0.43239\n",
      "epoch: 07, loss: -0.43551\n",
      "epoch: 08, loss: -0.44116\n",
      "epoch: 09, loss: -0.44434\n"
     ]
    },
    {
     "name": "stderr",
     "output_type": "stream",
     "text": [
      " 64%|██████▍   | 638/1000 [4:05:57<2:19:26, 23.11s/it]"
     ]
    },
    {
     "name": "stdout",
     "output_type": "stream",
     "text": [
      "eigenvalues shape torch.Size([5]) eigenvectors shape torch.Size([5, 450])\n",
      "638 /home/phdcs2/Hard_Disk/Datasets/Deep-Spectral-Segmentation/data/object-segmentation/ECSSD/features/dino_vits16/0639.pth\n",
      "0639\n",
      "Starting Training\n",
      "epoch: 00, loss: -0.40731\n",
      "epoch: 01, loss: -0.41503\n",
      "epoch: 02, loss: -0.41507\n",
      "epoch: 03, loss: -0.41602\n",
      "epoch: 04, loss: -0.41774\n",
      "epoch: 05, loss: -0.41875\n",
      "epoch: 06, loss: -0.42046\n",
      "epoch: 07, loss: -0.42255\n",
      "epoch: 08, loss: -0.42458\n",
      "epoch: 09, loss: -0.42509\n"
     ]
    },
    {
     "name": "stderr",
     "output_type": "stream",
     "text": [
      " 64%|██████▍   | 639/1000 [4:06:17<2:14:29, 22.35s/it]"
     ]
    },
    {
     "name": "stdout",
     "output_type": "stream",
     "text": [
      "eigenvalues shape torch.Size([5]) eigenvectors shape torch.Size([5, 375])\n",
      "639 /home/phdcs2/Hard_Disk/Datasets/Deep-Spectral-Segmentation/data/object-segmentation/ECSSD/features/dino_vits16/0640.pth\n",
      "0640\n",
      "Starting Training\n",
      "epoch: 00, loss: -0.41536\n",
      "epoch: 01, loss: -0.42951\n",
      "epoch: 02, loss: -0.42990\n",
      "epoch: 03, loss: -0.43028\n",
      "epoch: 04, loss: -0.42952\n",
      "epoch: 05, loss: -0.42781\n",
      "epoch: 06, loss: -0.42909\n",
      "epoch: 07, loss: -0.42943\n",
      "epoch: 08, loss: -0.42927\n",
      "epoch: 09, loss: -0.42915\n"
     ]
    },
    {
     "name": "stderr",
     "output_type": "stream",
     "text": [
      " 64%|██████▍   | 640/1000 [4:06:35<2:04:56, 20.82s/it]"
     ]
    },
    {
     "name": "stdout",
     "output_type": "stream",
     "text": [
      "eigenvalues shape torch.Size([5]) eigenvectors shape torch.Size([5, 375])\n",
      "640 /home/phdcs2/Hard_Disk/Datasets/Deep-Spectral-Segmentation/data/object-segmentation/ECSSD/features/dino_vits16/0641.pth\n",
      "0641\n",
      "Starting Training\n",
      "epoch: 00, loss: -0.64619\n",
      "epoch: 01, loss: -0.69190\n",
      "epoch: 02, loss: -0.69294\n",
      "epoch: 03, loss: -0.69376\n",
      "epoch: 04, loss: -0.69444\n",
      "epoch: 05, loss: -0.69517\n",
      "epoch: 06, loss: -0.69576\n",
      "epoch: 07, loss: -0.69630\n",
      "epoch: 08, loss: -0.69694\n",
      "epoch: 09, loss: -0.69734\n"
     ]
    },
    {
     "name": "stderr",
     "output_type": "stream",
     "text": [
      " 64%|██████▍   | 641/1000 [4:06:57<2:07:13, 21.26s/it]"
     ]
    },
    {
     "name": "stdout",
     "output_type": "stream",
     "text": [
      "eigenvalues shape torch.Size([5]) eigenvectors shape torch.Size([5, 450])\n",
      "641 /home/phdcs2/Hard_Disk/Datasets/Deep-Spectral-Segmentation/data/object-segmentation/ECSSD/features/dino_vits16/0642.pth\n",
      "0642\n",
      "Starting Training\n",
      "epoch: 00, loss: -0.35045\n",
      "epoch: 01, loss: -0.35651\n",
      "epoch: 02, loss: -0.36284\n",
      "epoch: 03, loss: -0.36926\n",
      "epoch: 04, loss: -0.37916\n",
      "epoch: 05, loss: -0.39179\n",
      "epoch: 06, loss: -0.40453\n",
      "epoch: 07, loss: -0.41717\n",
      "epoch: 08, loss: -0.42587\n",
      "epoch: 09, loss: -0.43152\n"
     ]
    },
    {
     "name": "stderr",
     "output_type": "stream",
     "text": [
      " 64%|██████▍   | 642/1000 [4:07:20<2:11:01, 21.96s/it]"
     ]
    },
    {
     "name": "stdout",
     "output_type": "stream",
     "text": [
      "eigenvalues shape torch.Size([5]) eigenvectors shape torch.Size([5, 450])\n",
      "642 /home/phdcs2/Hard_Disk/Datasets/Deep-Spectral-Segmentation/data/object-segmentation/ECSSD/features/dino_vits16/0643.pth\n",
      "0643\n",
      "Starting Training\n",
      "epoch: 00, loss: -0.38301\n",
      "epoch: 01, loss: -0.38169\n",
      "epoch: 02, loss: -0.38318\n",
      "epoch: 03, loss: -0.38250\n",
      "epoch: 04, loss: -0.38171\n",
      "epoch: 05, loss: -0.38183\n",
      "epoch: 06, loss: -0.38057\n",
      "epoch: 07, loss: -0.38158\n",
      "epoch: 08, loss: -0.38086\n",
      "epoch: 09, loss: -0.37880\n"
     ]
    },
    {
     "name": "stderr",
     "output_type": "stream",
     "text": [
      " 64%|██████▍   | 643/1000 [4:07:43<2:12:13, 22.22s/it]"
     ]
    },
    {
     "name": "stdout",
     "output_type": "stream",
     "text": [
      "eigenvalues shape torch.Size([5]) eigenvectors shape torch.Size([5, 450])\n",
      "643 /home/phdcs2/Hard_Disk/Datasets/Deep-Spectral-Segmentation/data/object-segmentation/ECSSD/features/dino_vits16/0644.pth\n",
      "0644\n",
      "Starting Training\n",
      "epoch: 00, loss: -0.38970\n",
      "epoch: 01, loss: -0.38884\n",
      "epoch: 02, loss: -0.38814\n",
      "epoch: 03, loss: -0.38814\n",
      "epoch: 04, loss: -0.38873\n",
      "epoch: 05, loss: -0.38853\n",
      "epoch: 06, loss: -0.38818\n",
      "epoch: 07, loss: -0.38893\n",
      "epoch: 08, loss: -0.38957\n",
      "epoch: 09, loss: -0.38978\n"
     ]
    },
    {
     "name": "stderr",
     "output_type": "stream",
     "text": [
      " 64%|██████▍   | 644/1000 [4:08:06<2:12:17, 22.30s/it]"
     ]
    },
    {
     "name": "stdout",
     "output_type": "stream",
     "text": [
      "eigenvalues shape torch.Size([5]) eigenvectors shape torch.Size([5, 450])\n",
      "644 /home/phdcs2/Hard_Disk/Datasets/Deep-Spectral-Segmentation/data/object-segmentation/ECSSD/features/dino_vits16/0645.pth\n",
      "0645\n",
      "Starting Training\n",
      "epoch: 00, loss: -0.35073\n",
      "epoch: 01, loss: -0.36044\n",
      "epoch: 02, loss: -0.36054\n",
      "epoch: 03, loss: -0.36297\n",
      "epoch: 04, loss: -0.36439\n",
      "epoch: 05, loss: -0.36485\n",
      "epoch: 06, loss: -0.36614\n",
      "epoch: 07, loss: -0.36498\n",
      "epoch: 08, loss: -0.36541\n",
      "epoch: 09, loss: -0.36640\n"
     ]
    },
    {
     "name": "stderr",
     "output_type": "stream",
     "text": [
      " 64%|██████▍   | 645/1000 [4:08:23<2:03:05, 20.80s/it]"
     ]
    },
    {
     "name": "stdout",
     "output_type": "stream",
     "text": [
      "eigenvalues shape torch.Size([5]) eigenvectors shape torch.Size([5, 400])\n",
      "645 /home/phdcs2/Hard_Disk/Datasets/Deep-Spectral-Segmentation/data/object-segmentation/ECSSD/features/dino_vits16/0646.pth\n",
      "0646\n",
      "Starting Training\n",
      "epoch: 00, loss: -0.51363\n",
      "epoch: 01, loss: -0.53900\n",
      "epoch: 02, loss: -0.54375\n",
      "epoch: 03, loss: -0.54691\n",
      "epoch: 04, loss: -0.55016\n",
      "epoch: 05, loss: -0.55269\n",
      "epoch: 06, loss: -0.55470\n",
      "epoch: 07, loss: -0.55736\n",
      "epoch: 08, loss: -0.55958\n",
      "epoch: 09, loss: -0.56232\n"
     ]
    },
    {
     "name": "stderr",
     "output_type": "stream",
     "text": [
      " 65%|██████▍   | 646/1000 [4:08:48<2:09:11, 21.90s/it]"
     ]
    },
    {
     "name": "stdout",
     "output_type": "stream",
     "text": [
      "eigenvalues shape torch.Size([5]) eigenvectors shape torch.Size([5, 475])\n",
      "646 /home/phdcs2/Hard_Disk/Datasets/Deep-Spectral-Segmentation/data/object-segmentation/ECSSD/features/dino_vits16/0647.pth\n",
      "0647\n",
      "Starting Training\n",
      "epoch: 00, loss: -0.42858\n",
      "epoch: 01, loss: -0.43851\n",
      "epoch: 02, loss: -0.43888\n",
      "epoch: 03, loss: -0.43810\n",
      "epoch: 04, loss: -0.43860\n",
      "epoch: 05, loss: -0.44015\n",
      "epoch: 06, loss: -0.44160\n",
      "epoch: 07, loss: -0.44249\n",
      "epoch: 08, loss: -0.44379\n",
      "epoch: 09, loss: -0.44455\n"
     ]
    },
    {
     "name": "stderr",
     "output_type": "stream",
     "text": [
      " 65%|██████▍   | 647/1000 [4:09:13<2:14:53, 22.93s/it]"
     ]
    },
    {
     "name": "stdout",
     "output_type": "stream",
     "text": [
      "eigenvalues shape torch.Size([5]) eigenvectors shape torch.Size([5, 400])\n",
      "647 /home/phdcs2/Hard_Disk/Datasets/Deep-Spectral-Segmentation/data/object-segmentation/ECSSD/features/dino_vits16/0648.pth\n",
      "0648\n",
      "Starting Training\n",
      "epoch: 00, loss: -0.39454\n",
      "epoch: 01, loss: -0.39735\n",
      "epoch: 02, loss: -0.39729\n",
      "epoch: 03, loss: -0.39615\n",
      "epoch: 04, loss: -0.39662\n",
      "epoch: 05, loss: -0.39718\n",
      "epoch: 06, loss: -0.39638\n",
      "epoch: 07, loss: -0.39646\n",
      "epoch: 08, loss: -0.39637\n",
      "epoch: 09, loss: -0.39706\n"
     ]
    },
    {
     "name": "stderr",
     "output_type": "stream",
     "text": [
      " 65%|██████▍   | 648/1000 [4:09:42<2:25:16, 24.76s/it]"
     ]
    },
    {
     "name": "stdout",
     "output_type": "stream",
     "text": [
      "eigenvalues shape torch.Size([5]) eigenvectors shape torch.Size([5, 525])\n",
      "648 /home/phdcs2/Hard_Disk/Datasets/Deep-Spectral-Segmentation/data/object-segmentation/ECSSD/features/dino_vits16/0649.pth\n",
      "0649\n",
      "Starting Training\n",
      "epoch: 00, loss: -0.37581\n",
      "epoch: 01, loss: -0.37513\n",
      "epoch: 02, loss: -0.37537\n",
      "epoch: 03, loss: -0.37461\n",
      "epoch: 04, loss: -0.37638\n",
      "epoch: 05, loss: -0.37961\n",
      "epoch: 06, loss: -0.38335\n",
      "epoch: 07, loss: -0.38754\n",
      "epoch: 08, loss: -0.39105\n",
      "epoch: 09, loss: -0.39541\n"
     ]
    },
    {
     "name": "stderr",
     "output_type": "stream",
     "text": [
      " 65%|██████▍   | 649/1000 [4:10:03<2:17:33, 23.52s/it]"
     ]
    },
    {
     "name": "stdout",
     "output_type": "stream",
     "text": [
      "eigenvalues shape torch.Size([5]) eigenvectors shape torch.Size([5, 400])\n",
      "649 /home/phdcs2/Hard_Disk/Datasets/Deep-Spectral-Segmentation/data/object-segmentation/ECSSD/features/dino_vits16/0650.pth\n",
      "0650\n",
      "Starting Training\n",
      "epoch: 00, loss: -0.41040\n",
      "epoch: 01, loss: -0.42160\n",
      "epoch: 02, loss: -0.42394\n",
      "epoch: 03, loss: -0.42576\n",
      "epoch: 04, loss: -0.42644\n",
      "epoch: 05, loss: -0.42714\n",
      "epoch: 06, loss: -0.42740\n",
      "epoch: 07, loss: -0.42857\n",
      "epoch: 08, loss: -0.42925\n",
      "epoch: 09, loss: -0.43050\n"
     ]
    },
    {
     "name": "stderr",
     "output_type": "stream",
     "text": [
      " 65%|██████▌   | 650/1000 [4:10:22<2:09:27, 22.19s/it]"
     ]
    },
    {
     "name": "stdout",
     "output_type": "stream",
     "text": [
      "eigenvalues shape torch.Size([5]) eigenvectors shape torch.Size([5, 400])\n",
      "650 /home/phdcs2/Hard_Disk/Datasets/Deep-Spectral-Segmentation/data/object-segmentation/ECSSD/features/dino_vits16/0651.pth\n",
      "0651\n",
      "Starting Training\n",
      "epoch: 00, loss: -0.37306\n",
      "epoch: 01, loss: -0.38098\n",
      "epoch: 02, loss: -0.38444\n",
      "epoch: 03, loss: -0.38757\n",
      "epoch: 04, loss: -0.39117\n",
      "epoch: 05, loss: -0.39422\n",
      "epoch: 06, loss: -0.39726\n",
      "epoch: 07, loss: -0.40067\n",
      "epoch: 08, loss: -0.40195\n",
      "epoch: 09, loss: -0.40525\n"
     ]
    },
    {
     "name": "stderr",
     "output_type": "stream",
     "text": [
      " 65%|██████▌   | 651/1000 [4:10:41<2:03:48, 21.29s/it]"
     ]
    },
    {
     "name": "stdout",
     "output_type": "stream",
     "text": [
      "eigenvalues shape torch.Size([5]) eigenvectors shape torch.Size([5, 350])\n",
      "651 /home/phdcs2/Hard_Disk/Datasets/Deep-Spectral-Segmentation/data/object-segmentation/ECSSD/features/dino_vits16/0652.pth\n",
      "0652\n",
      "Starting Training\n",
      "epoch: 00, loss: -0.54418\n",
      "epoch: 01, loss: -0.53360\n",
      "epoch: 02, loss: -0.53365\n",
      "epoch: 03, loss: -0.53367\n",
      "epoch: 04, loss: -0.53414\n",
      "epoch: 05, loss: -0.53444\n",
      "epoch: 06, loss: -0.53441\n",
      "epoch: 07, loss: -0.53526\n",
      "epoch: 08, loss: -0.53548\n",
      "epoch: 09, loss: -0.53554\n"
     ]
    },
    {
     "name": "stderr",
     "output_type": "stream",
     "text": [
      " 65%|██████▌   | 652/1000 [4:11:05<2:08:32, 22.16s/it]"
     ]
    },
    {
     "name": "stdout",
     "output_type": "stream",
     "text": [
      "eigenvalues shape torch.Size([5]) eigenvectors shape torch.Size([5, 400])\n",
      "652 /home/phdcs2/Hard_Disk/Datasets/Deep-Spectral-Segmentation/data/object-segmentation/ECSSD/features/dino_vits16/0653.pth\n",
      "0653\n",
      "Starting Training\n",
      "epoch: 00, loss: -0.40785\n",
      "epoch: 01, loss: -0.41975\n",
      "epoch: 02, loss: -0.41972\n",
      "epoch: 03, loss: -0.42125\n",
      "epoch: 04, loss: -0.42361\n",
      "epoch: 05, loss: -0.42416\n",
      "epoch: 06, loss: -0.42501\n",
      "epoch: 07, loss: -0.42563\n",
      "epoch: 08, loss: -0.42676\n",
      "epoch: 09, loss: -0.42759\n"
     ]
    },
    {
     "name": "stderr",
     "output_type": "stream",
     "text": [
      " 65%|██████▌   | 653/1000 [4:11:31<2:15:32, 23.44s/it]"
     ]
    },
    {
     "name": "stdout",
     "output_type": "stream",
     "text": [
      "eigenvalues shape torch.Size([5]) eigenvectors shape torch.Size([5, 450])\n",
      "653 /home/phdcs2/Hard_Disk/Datasets/Deep-Spectral-Segmentation/data/object-segmentation/ECSSD/features/dino_vits16/0654.pth\n",
      "0654\n",
      "Starting Training\n",
      "epoch: 00, loss: -0.34713\n",
      "epoch: 01, loss: -0.35303\n",
      "epoch: 02, loss: -0.35746\n",
      "epoch: 03, loss: -0.36087\n",
      "epoch: 04, loss: -0.36407\n",
      "epoch: 05, loss: -0.36805\n",
      "epoch: 06, loss: -0.37249\n",
      "epoch: 07, loss: -0.37555\n",
      "epoch: 08, loss: -0.37782\n",
      "epoch: 09, loss: -0.37935\n"
     ]
    },
    {
     "name": "stderr",
     "output_type": "stream",
     "text": [
      " 65%|██████▌   | 654/1000 [4:11:53<2:12:29, 22.98s/it]"
     ]
    },
    {
     "name": "stdout",
     "output_type": "stream",
     "text": [
      "eigenvalues shape torch.Size([5]) eigenvectors shape torch.Size([5, 400])\n",
      "654 /home/phdcs2/Hard_Disk/Datasets/Deep-Spectral-Segmentation/data/object-segmentation/ECSSD/features/dino_vits16/0655.pth\n",
      "0655\n",
      "Starting Training\n",
      "epoch: 00, loss: -0.39102\n",
      "epoch: 01, loss: -0.39020\n",
      "epoch: 02, loss: -0.38857\n",
      "epoch: 03, loss: -0.38890\n",
      "epoch: 04, loss: -0.38938\n",
      "epoch: 05, loss: -0.38862\n",
      "epoch: 06, loss: -0.38885\n",
      "epoch: 07, loss: -0.38900\n",
      "epoch: 08, loss: -0.38932\n",
      "epoch: 09, loss: -0.38904\n"
     ]
    },
    {
     "name": "stderr",
     "output_type": "stream",
     "text": [
      " 66%|██████▌   | 655/1000 [4:12:10<2:01:11, 21.08s/it]"
     ]
    },
    {
     "name": "stdout",
     "output_type": "stream",
     "text": [
      "eigenvalues shape torch.Size([5]) eigenvectors shape torch.Size([5, 350])\n",
      "655 /home/phdcs2/Hard_Disk/Datasets/Deep-Spectral-Segmentation/data/object-segmentation/ECSSD/features/dino_vits16/0656.pth\n",
      "0656\n",
      "Starting Training\n",
      "epoch: 00, loss: -0.44138\n",
      "epoch: 01, loss: -0.44576\n",
      "epoch: 02, loss: -0.44613\n",
      "epoch: 03, loss: -0.44684\n",
      "epoch: 04, loss: -0.44713\n",
      "epoch: 05, loss: -0.45045\n",
      "epoch: 06, loss: -0.45078\n",
      "epoch: 07, loss: -0.45229\n",
      "epoch: 08, loss: -0.45467\n",
      "epoch: 09, loss: -0.45721\n"
     ]
    },
    {
     "name": "stderr",
     "output_type": "stream",
     "text": [
      " 66%|██████▌   | 656/1000 [4:12:28<1:55:59, 20.23s/it]"
     ]
    },
    {
     "name": "stdout",
     "output_type": "stream",
     "text": [
      "eigenvalues shape torch.Size([5]) eigenvectors shape torch.Size([5, 400])\n",
      "656 /home/phdcs2/Hard_Disk/Datasets/Deep-Spectral-Segmentation/data/object-segmentation/ECSSD/features/dino_vits16/0657.pth\n",
      "0657\n",
      "Starting Training\n",
      "epoch: 00, loss: -0.38091\n",
      "epoch: 01, loss: -0.38774\n",
      "epoch: 02, loss: -0.39483\n",
      "epoch: 03, loss: -0.40039\n",
      "epoch: 04, loss: -0.40711\n",
      "epoch: 05, loss: -0.41287\n",
      "epoch: 06, loss: -0.41721\n",
      "epoch: 07, loss: -0.42307\n",
      "epoch: 08, loss: -0.42882\n",
      "epoch: 09, loss: -0.43375\n",
      " ** On entry to SLASCL parameter number  4 had an illegal value\n",
      " ** On entry to SLASCL parameter number  4 had an illegal value\n"
     ]
    },
    {
     "name": "stderr",
     "output_type": "stream",
     "text": [
      " 66%|██████▌   | 657/1000 [4:12:52<2:01:52, 21.32s/it]"
     ]
    },
    {
     "name": "stdout",
     "output_type": "stream",
     "text": [
      "eigenvalues shape torch.Size([5]) eigenvectors shape torch.Size([5, 450])\n",
      "657 /home/phdcs2/Hard_Disk/Datasets/Deep-Spectral-Segmentation/data/object-segmentation/ECSSD/features/dino_vits16/0658.pth\n",
      "0658\n",
      "Starting Training\n",
      "epoch: 00, loss: -0.40991\n",
      "epoch: 01, loss: -0.41843\n",
      "epoch: 02, loss: -0.42163\n",
      "epoch: 03, loss: -0.42381\n",
      "epoch: 04, loss: -0.42451\n",
      "epoch: 05, loss: -0.42481\n",
      "epoch: 06, loss: -0.42361\n",
      "epoch: 07, loss: -0.42389\n",
      "epoch: 08, loss: -0.42454\n",
      "epoch: 09, loss: -0.42408\n"
     ]
    },
    {
     "name": "stderr",
     "output_type": "stream",
     "text": [
      " 66%|██████▌   | 658/1000 [4:13:21<2:13:58, 23.51s/it]"
     ]
    },
    {
     "name": "stdout",
     "output_type": "stream",
     "text": [
      "eigenvalues shape torch.Size([5]) eigenvectors shape torch.Size([5, 575])\n",
      "658 /home/phdcs2/Hard_Disk/Datasets/Deep-Spectral-Segmentation/data/object-segmentation/ECSSD/features/dino_vits16/0659.pth\n",
      "0659\n",
      "Starting Training\n",
      "epoch: 00, loss: -0.37694\n",
      "epoch: 01, loss: -0.38107\n",
      "epoch: 02, loss: -0.38279\n",
      "epoch: 03, loss: -0.38514\n",
      "epoch: 04, loss: -0.38831\n",
      "epoch: 05, loss: -0.39124\n",
      "epoch: 06, loss: -0.39421\n",
      "epoch: 07, loss: -0.39797\n",
      "epoch: 08, loss: -0.40234\n",
      "epoch: 09, loss: -0.40565\n"
     ]
    },
    {
     "name": "stderr",
     "output_type": "stream",
     "text": [
      " 66%|██████▌   | 659/1000 [4:13:48<2:19:34, 24.56s/it]"
     ]
    },
    {
     "name": "stdout",
     "output_type": "stream",
     "text": [
      "eigenvalues shape torch.Size([5]) eigenvectors shape torch.Size([5, 525])\n",
      "659 /home/phdcs2/Hard_Disk/Datasets/Deep-Spectral-Segmentation/data/object-segmentation/ECSSD/features/dino_vits16/0660.pth\n",
      "0660\n",
      "Starting Training\n",
      "epoch: 00, loss: -0.37209\n",
      "epoch: 01, loss: -0.37972\n",
      "epoch: 02, loss: -0.38341\n",
      "epoch: 03, loss: -0.39004\n",
      "epoch: 04, loss: -0.39774\n",
      "epoch: 05, loss: -0.40837\n",
      "epoch: 06, loss: -0.42906\n",
      "epoch: 07, loss: -0.44402\n",
      "epoch: 08, loss: -0.45297\n",
      "epoch: 09, loss: -0.46204\n"
     ]
    },
    {
     "name": "stderr",
     "output_type": "stream",
     "text": [
      " 66%|██████▌   | 660/1000 [4:14:23<2:37:14, 27.75s/it]"
     ]
    },
    {
     "name": "stdout",
     "output_type": "stream",
     "text": [
      "eigenvalues shape torch.Size([5]) eigenvectors shape torch.Size([5, 600])\n",
      "660 /home/phdcs2/Hard_Disk/Datasets/Deep-Spectral-Segmentation/data/object-segmentation/ECSSD/features/dino_vits16/0661.pth\n",
      "0661\n",
      "Starting Training\n",
      "epoch: 00, loss: -0.37790\n",
      "epoch: 01, loss: -0.36367\n",
      "epoch: 02, loss: -0.37056\n",
      "epoch: 03, loss: -0.37945\n",
      "epoch: 04, loss: -0.38914\n",
      "epoch: 05, loss: -0.39460\n",
      "epoch: 06, loss: -0.40141\n",
      "epoch: 07, loss: -0.40744\n",
      "epoch: 08, loss: -0.41173\n",
      "epoch: 09, loss: -0.41516\n"
     ]
    },
    {
     "name": "stderr",
     "output_type": "stream",
     "text": [
      " 66%|██████▌   | 661/1000 [4:14:51<2:36:52, 27.77s/it]"
     ]
    },
    {
     "name": "stdout",
     "output_type": "stream",
     "text": [
      "eigenvalues shape torch.Size([5]) eigenvectors shape torch.Size([5, 450])\n",
      "661 /home/phdcs2/Hard_Disk/Datasets/Deep-Spectral-Segmentation/data/object-segmentation/ECSSD/features/dino_vits16/0662.pth\n",
      "0662\n",
      "Starting Training\n",
      "epoch: 00, loss: -0.36116\n",
      "epoch: 01, loss: -0.36462\n",
      "epoch: 02, loss: -0.36543\n",
      "epoch: 03, loss: -0.36575\n",
      "epoch: 04, loss: -0.36673\n",
      "epoch: 05, loss: -0.36729\n",
      "epoch: 06, loss: -0.36884\n",
      "epoch: 07, loss: -0.37039\n",
      "epoch: 08, loss: -0.37185\n",
      "epoch: 09, loss: -0.37273\n"
     ]
    },
    {
     "name": "stderr",
     "output_type": "stream",
     "text": [
      " 66%|██████▌   | 662/1000 [4:15:15<2:30:10, 26.66s/it]"
     ]
    },
    {
     "name": "stdout",
     "output_type": "stream",
     "text": [
      "eigenvalues shape torch.Size([5]) eigenvectors shape torch.Size([5, 400])\n",
      "662 /home/phdcs2/Hard_Disk/Datasets/Deep-Spectral-Segmentation/data/object-segmentation/ECSSD/features/dino_vits16/0663.pth\n",
      "0663\n",
      "Starting Training\n",
      "epoch: 00, loss: -0.38510\n",
      "epoch: 01, loss: -0.39535\n",
      "epoch: 02, loss: -0.39873\n",
      "epoch: 03, loss: -0.40053\n",
      "epoch: 04, loss: -0.40264\n",
      "epoch: 05, loss: -0.40462\n",
      "epoch: 06, loss: -0.40616\n",
      "epoch: 07, loss: -0.40843\n",
      "epoch: 08, loss: -0.40923\n",
      "epoch: 09, loss: -0.40933\n"
     ]
    },
    {
     "name": "stderr",
     "output_type": "stream",
     "text": [
      " 66%|██████▋   | 663/1000 [4:15:40<2:26:36, 26.10s/it]"
     ]
    },
    {
     "name": "stdout",
     "output_type": "stream",
     "text": [
      "eigenvalues shape torch.Size([5]) eigenvectors shape torch.Size([5, 400])\n",
      "663 /home/phdcs2/Hard_Disk/Datasets/Deep-Spectral-Segmentation/data/object-segmentation/ECSSD/features/dino_vits16/0664.pth\n",
      "0664\n",
      "Starting Training\n",
      "epoch: 00, loss: -0.42715\n",
      "epoch: 01, loss: -0.44350\n",
      "epoch: 02, loss: -0.44527\n",
      "epoch: 03, loss: -0.44602\n",
      "epoch: 04, loss: -0.44656\n",
      "epoch: 05, loss: -0.44752\n",
      "epoch: 06, loss: -0.44780\n",
      "epoch: 07, loss: -0.44830\n",
      "epoch: 08, loss: -0.44923\n",
      "epoch: 09, loss: -0.44964\n"
     ]
    },
    {
     "name": "stderr",
     "output_type": "stream",
     "text": [
      " 66%|██████▋   | 664/1000 [4:16:04<2:24:00, 25.72s/it]"
     ]
    },
    {
     "name": "stdout",
     "output_type": "stream",
     "text": [
      "eigenvalues shape torch.Size([5]) eigenvectors shape torch.Size([5, 400])\n",
      "664 /home/phdcs2/Hard_Disk/Datasets/Deep-Spectral-Segmentation/data/object-segmentation/ECSSD/features/dino_vits16/0665.pth\n",
      "0665\n",
      "Starting Training\n",
      "epoch: 00, loss: -0.41005\n",
      "epoch: 01, loss: -0.41755\n",
      "epoch: 02, loss: -0.41654\n",
      "epoch: 03, loss: -0.41379\n",
      "epoch: 04, loss: -0.41135\n",
      "epoch: 05, loss: -0.40884\n",
      "epoch: 06, loss: -0.40947\n",
      "epoch: 07, loss: -0.40758\n",
      "epoch: 08, loss: -0.40732\n",
      "epoch: 09, loss: -0.40731\n"
     ]
    },
    {
     "name": "stderr",
     "output_type": "stream",
     "text": [
      " 66%|██████▋   | 665/1000 [4:16:26<2:17:00, 24.54s/it]"
     ]
    },
    {
     "name": "stdout",
     "output_type": "stream",
     "text": [
      "eigenvalues shape torch.Size([5]) eigenvectors shape torch.Size([5, 400])\n",
      "665 /home/phdcs2/Hard_Disk/Datasets/Deep-Spectral-Segmentation/data/object-segmentation/ECSSD/features/dino_vits16/0666.pth\n",
      "0666\n",
      "Starting Training\n",
      "epoch: 00, loss: -0.39256\n",
      "epoch: 01, loss: -0.39718\n",
      "epoch: 02, loss: -0.39558\n",
      "epoch: 03, loss: -0.39440\n",
      "epoch: 04, loss: -0.39338\n",
      "epoch: 05, loss: -0.39512\n",
      "epoch: 06, loss: -0.39644\n",
      "epoch: 07, loss: -0.39814\n",
      "epoch: 08, loss: -0.39949\n",
      "epoch: 09, loss: -0.40122\n"
     ]
    },
    {
     "name": "stderr",
     "output_type": "stream",
     "text": [
      " 67%|██████▋   | 666/1000 [4:16:57<2:27:33, 26.51s/it]"
     ]
    },
    {
     "name": "stdout",
     "output_type": "stream",
     "text": [
      "eigenvalues shape torch.Size([5]) eigenvectors shape torch.Size([5, 525])\n",
      "666 /home/phdcs2/Hard_Disk/Datasets/Deep-Spectral-Segmentation/data/object-segmentation/ECSSD/features/dino_vits16/0667.pth\n",
      "0667\n",
      "Starting Training\n",
      "epoch: 00, loss: -0.38994\n",
      "epoch: 01, loss: -0.41289\n",
      "epoch: 02, loss: -0.42418\n",
      "epoch: 03, loss: -0.43594\n",
      "epoch: 04, loss: -0.44571\n",
      "epoch: 05, loss: -0.45203\n",
      "epoch: 06, loss: -0.45825\n",
      "epoch: 07, loss: -0.46339\n",
      "epoch: 08, loss: -0.46784\n",
      "epoch: 09, loss: -0.47192\n"
     ]
    },
    {
     "name": "stderr",
     "output_type": "stream",
     "text": [
      " 67%|██████▋   | 667/1000 [4:17:20<2:21:09, 25.43s/it]"
     ]
    },
    {
     "name": "stdout",
     "output_type": "stream",
     "text": [
      "eigenvalues shape torch.Size([5]) eigenvectors shape torch.Size([5, 400])\n",
      "667 /home/phdcs2/Hard_Disk/Datasets/Deep-Spectral-Segmentation/data/object-segmentation/ECSSD/features/dino_vits16/0668.pth\n",
      "0668\n",
      "Starting Training\n",
      "epoch: 00, loss: -0.41836\n",
      "epoch: 01, loss: -0.42627\n",
      "epoch: 02, loss: -0.42711\n",
      "epoch: 03, loss: -0.42782\n",
      "epoch: 04, loss: -0.42753\n",
      "epoch: 05, loss: -0.42790\n",
      "epoch: 06, loss: -0.42743\n",
      "epoch: 07, loss: -0.42841\n",
      "epoch: 08, loss: -0.42816\n",
      "epoch: 09, loss: -0.42806\n"
     ]
    },
    {
     "name": "stderr",
     "output_type": "stream",
     "text": [
      " 67%|██████▋   | 668/1000 [4:17:39<2:09:01, 23.32s/it]"
     ]
    },
    {
     "name": "stdout",
     "output_type": "stream",
     "text": [
      "eigenvalues shape torch.Size([5]) eigenvectors shape torch.Size([5, 400])\n",
      "668 /home/phdcs2/Hard_Disk/Datasets/Deep-Spectral-Segmentation/data/object-segmentation/ECSSD/features/dino_vits16/0669.pth\n",
      "0669\n",
      "Starting Training\n",
      "epoch: 00, loss: -0.37357\n",
      "epoch: 01, loss: -0.37879\n",
      "epoch: 02, loss: -0.38091\n",
      "epoch: 03, loss: -0.38385\n",
      "epoch: 04, loss: -0.38745\n",
      "epoch: 05, loss: -0.39115\n",
      "epoch: 06, loss: -0.39586\n",
      "epoch: 07, loss: -0.40104\n",
      "epoch: 08, loss: -0.40496\n",
      "epoch: 09, loss: -0.40940\n"
     ]
    },
    {
     "name": "stderr",
     "output_type": "stream",
     "text": [
      " 67%|██████▋   | 669/1000 [4:18:00<2:05:42, 22.79s/it]"
     ]
    },
    {
     "name": "stdout",
     "output_type": "stream",
     "text": [
      "eigenvalues shape torch.Size([5]) eigenvectors shape torch.Size([5, 400])\n",
      "669 /home/phdcs2/Hard_Disk/Datasets/Deep-Spectral-Segmentation/data/object-segmentation/ECSSD/features/dino_vits16/0670.pth\n",
      "0670\n",
      "Starting Training\n",
      "epoch: 00, loss: -0.37827\n",
      "epoch: 01, loss: -0.38780\n",
      "epoch: 02, loss: -0.38791\n",
      "epoch: 03, loss: -0.38863\n",
      "epoch: 04, loss: -0.38865\n",
      "epoch: 05, loss: -0.38823\n",
      "epoch: 06, loss: -0.38984\n",
      "epoch: 07, loss: -0.39010\n",
      "epoch: 08, loss: -0.39053\n",
      "epoch: 09, loss: -0.39187\n"
     ]
    },
    {
     "name": "stderr",
     "output_type": "stream",
     "text": [
      " 67%|██████▋   | 670/1000 [4:18:21<2:01:56, 22.17s/it]"
     ]
    },
    {
     "name": "stdout",
     "output_type": "stream",
     "text": [
      "eigenvalues shape torch.Size([5]) eigenvectors shape torch.Size([5, 400])\n",
      "670 /home/phdcs2/Hard_Disk/Datasets/Deep-Spectral-Segmentation/data/object-segmentation/ECSSD/features/dino_vits16/0671.pth\n",
      "0671\n",
      "Starting Training\n",
      "epoch: 00, loss: -0.41039\n",
      "epoch: 01, loss: -0.42410\n",
      "epoch: 02, loss: -0.42559\n",
      "epoch: 03, loss: -0.42770\n",
      "epoch: 04, loss: -0.42873\n",
      "epoch: 05, loss: -0.43082\n",
      "epoch: 06, loss: -0.43272\n",
      "epoch: 07, loss: -0.43435\n",
      "epoch: 08, loss: -0.43594\n",
      "epoch: 09, loss: -0.43781\n"
     ]
    },
    {
     "name": "stderr",
     "output_type": "stream",
     "text": [
      " 67%|██████▋   | 671/1000 [4:18:39<1:55:02, 20.98s/it]"
     ]
    },
    {
     "name": "stdout",
     "output_type": "stream",
     "text": [
      "eigenvalues shape torch.Size([5]) eigenvectors shape torch.Size([5, 400])\n",
      "671 /home/phdcs2/Hard_Disk/Datasets/Deep-Spectral-Segmentation/data/object-segmentation/ECSSD/features/dino_vits16/0672.pth\n",
      "0672\n",
      "Starting Training\n",
      "epoch: 00, loss: -0.37530\n",
      "epoch: 01, loss: -0.38285\n",
      "epoch: 02, loss: -0.38682\n",
      "epoch: 03, loss: -0.38879\n",
      "epoch: 04, loss: -0.39048\n",
      "epoch: 05, loss: -0.39356\n",
      "epoch: 06, loss: -0.39483\n",
      "epoch: 07, loss: -0.39535\n",
      "epoch: 08, loss: -0.39584\n",
      "epoch: 09, loss: -0.39696\n"
     ]
    },
    {
     "name": "stderr",
     "output_type": "stream",
     "text": [
      " 67%|██████▋   | 672/1000 [4:19:00<1:54:53, 21.02s/it]"
     ]
    },
    {
     "name": "stdout",
     "output_type": "stream",
     "text": [
      "eigenvalues shape torch.Size([5]) eigenvectors shape torch.Size([5, 450])\n",
      "672 /home/phdcs2/Hard_Disk/Datasets/Deep-Spectral-Segmentation/data/object-segmentation/ECSSD/features/dino_vits16/0673.pth\n",
      "0673\n",
      "Starting Training\n",
      "epoch: 00, loss: -0.63155\n",
      "epoch: 01, loss: -0.66051\n",
      "epoch: 02, loss: -0.66186\n",
      "epoch: 03, loss: -0.66254\n",
      "epoch: 04, loss: -0.66322\n",
      "epoch: 05, loss: -0.66363\n",
      "epoch: 06, loss: -0.66414\n",
      "epoch: 07, loss: -0.66457\n",
      "epoch: 08, loss: -0.66484\n",
      "epoch: 09, loss: -0.66553\n"
     ]
    },
    {
     "name": "stderr",
     "output_type": "stream",
     "text": [
      " 67%|██████▋   | 673/1000 [4:19:26<2:03:10, 22.60s/it]"
     ]
    },
    {
     "name": "stdout",
     "output_type": "stream",
     "text": [
      "eigenvalues shape torch.Size([5]) eigenvectors shape torch.Size([5, 550])\n",
      "673 /home/phdcs2/Hard_Disk/Datasets/Deep-Spectral-Segmentation/data/object-segmentation/ECSSD/features/dino_vits16/0674.pth\n",
      "0674\n",
      "Starting Training\n",
      "epoch: 00, loss: -0.39217\n",
      "epoch: 01, loss: -0.40736\n",
      "epoch: 02, loss: -0.40814\n",
      "epoch: 03, loss: -0.40839\n",
      "epoch: 04, loss: -0.40841\n",
      "epoch: 05, loss: -0.40815\n",
      "epoch: 06, loss: -0.40867\n",
      "epoch: 07, loss: -0.40835\n",
      "epoch: 08, loss: -0.40934\n",
      "epoch: 09, loss: -0.40895\n"
     ]
    },
    {
     "name": "stderr",
     "output_type": "stream",
     "text": [
      " 67%|██████▋   | 674/1000 [4:19:48<2:01:38, 22.39s/it]"
     ]
    },
    {
     "name": "stdout",
     "output_type": "stream",
     "text": [
      "eigenvalues shape torch.Size([5]) eigenvectors shape torch.Size([5, 400])\n",
      "674 /home/phdcs2/Hard_Disk/Datasets/Deep-Spectral-Segmentation/data/object-segmentation/ECSSD/features/dino_vits16/0675.pth\n",
      "0675\n",
      "Starting Training\n",
      "epoch: 00, loss: -0.44136\n",
      "epoch: 01, loss: -0.45813\n",
      "epoch: 02, loss: -0.45059\n",
      "epoch: 03, loss: -0.44768\n",
      "epoch: 04, loss: -0.44586\n",
      "epoch: 05, loss: -0.44480\n",
      "epoch: 06, loss: -0.44229\n",
      "epoch: 07, loss: -0.44103\n",
      "epoch: 08, loss: -0.43885\n",
      "epoch: 09, loss: -0.43774\n"
     ]
    },
    {
     "name": "stderr",
     "output_type": "stream",
     "text": [
      " 68%|██████▊   | 675/1000 [4:20:10<1:59:46, 22.11s/it]"
     ]
    },
    {
     "name": "stdout",
     "output_type": "stream",
     "text": [
      "eigenvalues shape torch.Size([5]) eigenvectors shape torch.Size([5, 400])\n",
      "675 /home/phdcs2/Hard_Disk/Datasets/Deep-Spectral-Segmentation/data/object-segmentation/ECSSD/features/dino_vits16/0676.pth\n",
      "0676\n",
      "Starting Training\n",
      "epoch: 00, loss: -0.34890\n",
      "epoch: 01, loss: -0.35568\n",
      "epoch: 02, loss: -0.36242\n",
      "epoch: 03, loss: -0.36956\n",
      "epoch: 04, loss: -0.37690\n",
      "epoch: 05, loss: -0.38381\n",
      "epoch: 06, loss: -0.39071\n",
      "epoch: 07, loss: -0.39621\n",
      "epoch: 08, loss: -0.40326\n",
      "epoch: 09, loss: -0.41080\n"
     ]
    },
    {
     "name": "stderr",
     "output_type": "stream",
     "text": [
      " 68%|██████▊   | 676/1000 [4:20:30<1:56:10, 21.51s/it]"
     ]
    },
    {
     "name": "stdout",
     "output_type": "stream",
     "text": [
      "eigenvalues shape torch.Size([5]) eigenvectors shape torch.Size([5, 400])\n",
      "676 /home/phdcs2/Hard_Disk/Datasets/Deep-Spectral-Segmentation/data/object-segmentation/ECSSD/features/dino_vits16/0677.pth\n",
      "0677\n",
      "Starting Training\n",
      "epoch: 00, loss: -0.38969\n",
      "epoch: 01, loss: -0.40054\n",
      "epoch: 02, loss: -0.40187\n",
      "epoch: 03, loss: -0.40091\n",
      "epoch: 04, loss: -0.39916\n",
      "epoch: 05, loss: -0.39908\n",
      "epoch: 06, loss: -0.39845\n",
      "epoch: 07, loss: -0.39983\n",
      "epoch: 08, loss: -0.39856\n",
      "epoch: 09, loss: -0.39894\n"
     ]
    },
    {
     "name": "stderr",
     "output_type": "stream",
     "text": [
      " 68%|██████▊   | 677/1000 [4:20:55<2:02:11, 22.70s/it]"
     ]
    },
    {
     "name": "stdout",
     "output_type": "stream",
     "text": [
      "eigenvalues shape torch.Size([5]) eigenvectors shape torch.Size([5, 425])\n",
      "677 /home/phdcs2/Hard_Disk/Datasets/Deep-Spectral-Segmentation/data/object-segmentation/ECSSD/features/dino_vits16/0678.pth\n",
      "0678\n",
      "Starting Training\n",
      "epoch: 00, loss: -0.39376\n",
      "epoch: 01, loss: -0.40156\n",
      "epoch: 02, loss: -0.40431\n",
      "epoch: 03, loss: -0.40677\n",
      "epoch: 04, loss: -0.40847\n",
      "epoch: 05, loss: -0.40985\n",
      "epoch: 06, loss: -0.41156\n",
      "epoch: 07, loss: -0.41255\n",
      "epoch: 08, loss: -0.41459\n",
      "epoch: 09, loss: -0.41558\n"
     ]
    },
    {
     "name": "stderr",
     "output_type": "stream",
     "text": [
      " 68%|██████▊   | 678/1000 [4:21:16<1:57:53, 21.97s/it]"
     ]
    },
    {
     "name": "stdout",
     "output_type": "stream",
     "text": [
      "eigenvalues shape torch.Size([5]) eigenvectors shape torch.Size([5, 400])\n",
      "678 /home/phdcs2/Hard_Disk/Datasets/Deep-Spectral-Segmentation/data/object-segmentation/ECSSD/features/dino_vits16/0679.pth\n",
      "0679\n",
      "Starting Training\n",
      "epoch: 00, loss: -0.38999\n",
      "epoch: 01, loss: -0.41106\n",
      "epoch: 02, loss: -0.42165\n",
      "epoch: 03, loss: -0.43599\n",
      "epoch: 04, loss: -0.45643\n",
      "epoch: 05, loss: -0.48051\n",
      "epoch: 06, loss: -0.49967\n",
      "epoch: 07, loss: -0.51378\n",
      "epoch: 08, loss: -0.52167\n",
      "epoch: 09, loss: -0.52677\n"
     ]
    },
    {
     "name": "stderr",
     "output_type": "stream",
     "text": [
      " 68%|██████▊   | 679/1000 [4:21:36<1:54:42, 21.44s/it]"
     ]
    },
    {
     "name": "stdout",
     "output_type": "stream",
     "text": [
      "eigenvalues shape torch.Size([5]) eigenvectors shape torch.Size([5, 400])\n",
      "679 /home/phdcs2/Hard_Disk/Datasets/Deep-Spectral-Segmentation/data/object-segmentation/ECSSD/features/dino_vits16/0680.pth\n",
      "0680\n",
      "Starting Training\n",
      "epoch: 00, loss: -0.41347\n",
      "epoch: 01, loss: -0.41191\n",
      "epoch: 02, loss: -0.41075\n",
      "epoch: 03, loss: -0.41042\n",
      "epoch: 04, loss: -0.41068\n",
      "epoch: 05, loss: -0.41015\n",
      "epoch: 06, loss: -0.41003\n",
      "epoch: 07, loss: -0.41047\n",
      "epoch: 08, loss: -0.41182\n",
      "epoch: 09, loss: -0.41148\n"
     ]
    },
    {
     "name": "stderr",
     "output_type": "stream",
     "text": [
      " 68%|██████▊   | 680/1000 [4:21:57<1:53:43, 21.32s/it]"
     ]
    },
    {
     "name": "stdout",
     "output_type": "stream",
     "text": [
      "eigenvalues shape torch.Size([5]) eigenvectors shape torch.Size([5, 400])\n",
      "680 /home/phdcs2/Hard_Disk/Datasets/Deep-Spectral-Segmentation/data/object-segmentation/ECSSD/features/dino_vits16/0681.pth\n",
      "0681\n",
      "Starting Training\n",
      "epoch: 00, loss: -0.40900\n",
      "epoch: 01, loss: -0.42487\n",
      "epoch: 02, loss: -0.42862\n",
      "epoch: 03, loss: -0.43068\n",
      "epoch: 04, loss: -0.43479\n",
      "epoch: 05, loss: -0.43721\n",
      "epoch: 06, loss: -0.43852\n",
      "epoch: 07, loss: -0.43899\n",
      "epoch: 08, loss: -0.44061\n",
      "epoch: 09, loss: -0.44102\n"
     ]
    },
    {
     "name": "stderr",
     "output_type": "stream",
     "text": [
      " 68%|██████▊   | 681/1000 [4:22:21<1:57:47, 22.16s/it]"
     ]
    },
    {
     "name": "stdout",
     "output_type": "stream",
     "text": [
      "eigenvalues shape torch.Size([5]) eigenvectors shape torch.Size([5, 475])\n",
      "681 /home/phdcs2/Hard_Disk/Datasets/Deep-Spectral-Segmentation/data/object-segmentation/ECSSD/features/dino_vits16/0682.pth\n",
      "0682\n",
      "Starting Training\n",
      "epoch: 00, loss: -0.34147\n",
      "epoch: 01, loss: -0.34228\n",
      "epoch: 02, loss: -0.34990\n",
      "epoch: 03, loss: -0.35524\n",
      "epoch: 04, loss: -0.35953\n",
      "epoch: 05, loss: -0.36314\n",
      "epoch: 06, loss: -0.36762\n",
      "epoch: 07, loss: -0.37192\n",
      "epoch: 08, loss: -0.37434\n",
      "epoch: 09, loss: -0.37860\n"
     ]
    },
    {
     "name": "stderr",
     "output_type": "stream",
     "text": [
      " 68%|██████▊   | 682/1000 [4:22:40<1:52:42, 21.27s/it]"
     ]
    },
    {
     "name": "stdout",
     "output_type": "stream",
     "text": [
      "eigenvalues shape torch.Size([5]) eigenvectors shape torch.Size([5, 400])\n",
      "682 /home/phdcs2/Hard_Disk/Datasets/Deep-Spectral-Segmentation/data/object-segmentation/ECSSD/features/dino_vits16/0683.pth\n",
      "0683\n",
      "Starting Training\n",
      "epoch: 00, loss: -0.38973\n",
      "epoch: 01, loss: -0.38124\n",
      "epoch: 02, loss: -0.37406\n",
      "epoch: 03, loss: -0.36998\n",
      "epoch: 04, loss: -0.36612\n",
      "epoch: 05, loss: -0.36345\n",
      "epoch: 06, loss: -0.36061\n",
      "epoch: 07, loss: -0.36006\n",
      "epoch: 08, loss: -0.35836\n",
      "epoch: 09, loss: -0.35739\n"
     ]
    },
    {
     "name": "stderr",
     "output_type": "stream",
     "text": [
      " 68%|██████▊   | 683/1000 [4:23:04<1:56:46, 22.10s/it]"
     ]
    },
    {
     "name": "stdout",
     "output_type": "stream",
     "text": [
      "eigenvalues shape torch.Size([5]) eigenvectors shape torch.Size([5, 450])\n",
      "683 /home/phdcs2/Hard_Disk/Datasets/Deep-Spectral-Segmentation/data/object-segmentation/ECSSD/features/dino_vits16/0684.pth\n",
      "0684\n",
      "Starting Training\n",
      "epoch: 00, loss: -0.37271\n",
      "epoch: 01, loss: -0.37330\n",
      "epoch: 02, loss: -0.37075\n",
      "epoch: 03, loss: -0.36880\n",
      "epoch: 04, loss: -0.36690\n",
      "epoch: 05, loss: -0.36719\n",
      "epoch: 06, loss: -0.36771\n",
      "epoch: 07, loss: -0.36757\n",
      "epoch: 08, loss: -0.36809\n",
      "epoch: 09, loss: -0.37020\n"
     ]
    },
    {
     "name": "stderr",
     "output_type": "stream",
     "text": [
      " 68%|██████▊   | 684/1000 [4:23:23<1:51:16, 21.13s/it]"
     ]
    },
    {
     "name": "stdout",
     "output_type": "stream",
     "text": [
      "eigenvalues shape torch.Size([5]) eigenvectors shape torch.Size([5, 400])\n",
      "684 /home/phdcs2/Hard_Disk/Datasets/Deep-Spectral-Segmentation/data/object-segmentation/ECSSD/features/dino_vits16/0685.pth\n",
      "0685\n",
      "Starting Training\n",
      "epoch: 00, loss: -0.41526\n",
      "epoch: 01, loss: -0.44049\n",
      "epoch: 02, loss: -0.43693\n",
      "epoch: 03, loss: -0.43659\n",
      "epoch: 04, loss: -0.43576\n",
      "epoch: 05, loss: -0.43582\n",
      "epoch: 06, loss: -0.43628\n",
      "epoch: 07, loss: -0.43594\n",
      "epoch: 08, loss: -0.43551\n",
      "epoch: 09, loss: -0.43540\n"
     ]
    },
    {
     "name": "stderr",
     "output_type": "stream",
     "text": [
      " 68%|██████▊   | 685/1000 [4:23:43<1:48:27, 20.66s/it]"
     ]
    },
    {
     "name": "stdout",
     "output_type": "stream",
     "text": [
      "eigenvalues shape torch.Size([5]) eigenvectors shape torch.Size([5, 400])\n",
      "685 /home/phdcs2/Hard_Disk/Datasets/Deep-Spectral-Segmentation/data/object-segmentation/ECSSD/features/dino_vits16/0686.pth\n",
      "0686\n",
      "Starting Training\n",
      "epoch: 00, loss: -0.40851\n",
      "epoch: 01, loss: -0.42295\n",
      "epoch: 02, loss: -0.42377\n",
      "epoch: 03, loss: -0.42443\n",
      "epoch: 04, loss: -0.42331\n",
      "epoch: 05, loss: -0.42189\n",
      "epoch: 06, loss: -0.42122\n",
      "epoch: 07, loss: -0.42060\n",
      "epoch: 08, loss: -0.41986\n",
      "epoch: 09, loss: -0.41894\n"
     ]
    },
    {
     "name": "stderr",
     "output_type": "stream",
     "text": [
      " 69%|██████▊   | 686/1000 [4:24:02<1:45:13, 20.11s/it]"
     ]
    },
    {
     "name": "stdout",
     "output_type": "stream",
     "text": [
      "eigenvalues shape torch.Size([5]) eigenvectors shape torch.Size([5, 400])\n",
      "686 /home/phdcs2/Hard_Disk/Datasets/Deep-Spectral-Segmentation/data/object-segmentation/ECSSD/features/dino_vits16/0687.pth\n",
      "0687\n",
      "Starting Training\n",
      "epoch: 00, loss: -0.59687\n",
      "epoch: 01, loss: -0.64788\n",
      "epoch: 02, loss: -0.65177\n",
      "epoch: 03, loss: -0.65328\n",
      "epoch: 04, loss: -0.65434\n",
      "epoch: 05, loss: -0.65477\n",
      "epoch: 06, loss: -0.65559\n",
      "epoch: 07, loss: -0.65619\n",
      "epoch: 08, loss: -0.65697\n",
      "epoch: 09, loss: -0.65707\n"
     ]
    },
    {
     "name": "stderr",
     "output_type": "stream",
     "text": [
      " 69%|██████▊   | 687/1000 [4:24:22<1:45:25, 20.21s/it]"
     ]
    },
    {
     "name": "stdout",
     "output_type": "stream",
     "text": [
      "eigenvalues shape torch.Size([5]) eigenvectors shape torch.Size([5, 400])\n",
      "687 /home/phdcs2/Hard_Disk/Datasets/Deep-Spectral-Segmentation/data/object-segmentation/ECSSD/features/dino_vits16/0688.pth\n",
      "0688\n",
      "Starting Training\n",
      "epoch: 00, loss: -0.39741\n",
      "epoch: 01, loss: -0.39593\n",
      "epoch: 02, loss: -0.39153\n",
      "epoch: 03, loss: -0.39026\n",
      "epoch: 04, loss: -0.38969\n",
      "epoch: 05, loss: -0.38988\n",
      "epoch: 06, loss: -0.39041\n",
      "epoch: 07, loss: -0.39106\n",
      "epoch: 08, loss: -0.39206\n",
      "epoch: 09, loss: -0.39250\n"
     ]
    },
    {
     "name": "stderr",
     "output_type": "stream",
     "text": [
      " 69%|██████▉   | 688/1000 [4:24:42<1:44:39, 20.13s/it]"
     ]
    },
    {
     "name": "stdout",
     "output_type": "stream",
     "text": [
      "eigenvalues shape torch.Size([5]) eigenvectors shape torch.Size([5, 425])\n",
      "688 /home/phdcs2/Hard_Disk/Datasets/Deep-Spectral-Segmentation/data/object-segmentation/ECSSD/features/dino_vits16/0689.pth\n",
      "0689\n",
      "Starting Training\n",
      "epoch: 00, loss: -0.36977\n",
      "epoch: 01, loss: -0.37609\n",
      "epoch: 02, loss: -0.37936\n",
      "epoch: 03, loss: -0.38146\n",
      "epoch: 04, loss: -0.38371\n",
      "epoch: 05, loss: -0.38538\n",
      "epoch: 06, loss: -0.38597\n",
      "epoch: 07, loss: -0.38753\n",
      "epoch: 08, loss: -0.38971\n",
      "epoch: 09, loss: -0.39155\n"
     ]
    },
    {
     "name": "stderr",
     "output_type": "stream",
     "text": [
      " 69%|██████▉   | 689/1000 [4:25:04<1:46:48, 20.60s/it]"
     ]
    },
    {
     "name": "stdout",
     "output_type": "stream",
     "text": [
      "eigenvalues shape torch.Size([5]) eigenvectors shape torch.Size([5, 425])\n",
      "689 /home/phdcs2/Hard_Disk/Datasets/Deep-Spectral-Segmentation/data/object-segmentation/ECSSD/features/dino_vits16/0690.pth\n",
      "0690\n",
      "Starting Training\n",
      "epoch: 00, loss: -0.43760\n",
      "epoch: 01, loss: -0.44552\n",
      "epoch: 02, loss: -0.46048\n",
      "epoch: 03, loss: -0.46901\n",
      "epoch: 04, loss: -0.47338\n",
      "epoch: 05, loss: -0.47388\n",
      "epoch: 06, loss: -0.47545\n",
      "epoch: 07, loss: -0.47569\n",
      "epoch: 08, loss: -0.47503\n",
      "epoch: 09, loss: -0.47521\n"
     ]
    },
    {
     "name": "stderr",
     "output_type": "stream",
     "text": [
      " 69%|██████▉   | 690/1000 [4:25:28<1:51:33, 21.59s/it]"
     ]
    },
    {
     "name": "stdout",
     "output_type": "stream",
     "text": [
      "eigenvalues shape torch.Size([5]) eigenvectors shape torch.Size([5, 450])\n",
      "690 /home/phdcs2/Hard_Disk/Datasets/Deep-Spectral-Segmentation/data/object-segmentation/ECSSD/features/dino_vits16/0691.pth\n",
      "0691\n",
      "Starting Training\n",
      "epoch: 00, loss: -0.41215\n",
      "epoch: 01, loss: -0.42257\n",
      "epoch: 02, loss: -0.42178\n",
      "epoch: 03, loss: -0.42073\n",
      "epoch: 04, loss: -0.42025\n",
      "epoch: 05, loss: -0.41836\n",
      "epoch: 06, loss: -0.41656\n",
      "epoch: 07, loss: -0.41489\n",
      "epoch: 08, loss: -0.41389\n",
      "epoch: 09, loss: -0.41172\n"
     ]
    },
    {
     "name": "stderr",
     "output_type": "stream",
     "text": [
      " 69%|██████▉   | 691/1000 [4:25:50<1:52:47, 21.90s/it]"
     ]
    },
    {
     "name": "stdout",
     "output_type": "stream",
     "text": [
      "eigenvalues shape torch.Size([5]) eigenvectors shape torch.Size([5, 450])\n",
      "691 /home/phdcs2/Hard_Disk/Datasets/Deep-Spectral-Segmentation/data/object-segmentation/ECSSD/features/dino_vits16/0692.pth\n",
      "0692\n",
      "Starting Training\n",
      "epoch: 00, loss: -0.40468\n",
      "epoch: 01, loss: -0.41505\n",
      "epoch: 02, loss: -0.41662\n",
      "epoch: 03, loss: -0.41748\n",
      "epoch: 04, loss: -0.41716\n",
      "epoch: 05, loss: -0.41636\n",
      "epoch: 06, loss: -0.41561\n",
      "epoch: 07, loss: -0.41351\n",
      "epoch: 08, loss: -0.41263\n",
      "epoch: 09, loss: -0.41255\n"
     ]
    },
    {
     "name": "stderr",
     "output_type": "stream",
     "text": [
      " 69%|██████▉   | 692/1000 [4:26:12<1:52:36, 21.94s/it]"
     ]
    },
    {
     "name": "stdout",
     "output_type": "stream",
     "text": [
      "eigenvalues shape torch.Size([5]) eigenvectors shape torch.Size([5, 400])\n",
      "692 /home/phdcs2/Hard_Disk/Datasets/Deep-Spectral-Segmentation/data/object-segmentation/ECSSD/features/dino_vits16/0693.pth\n",
      "0693\n",
      "Starting Training\n",
      "epoch: 00, loss: -0.40795\n",
      "epoch: 01, loss: -0.41829\n",
      "epoch: 02, loss: -0.41768\n",
      "epoch: 03, loss: -0.41777\n",
      "epoch: 04, loss: -0.41795\n",
      "epoch: 05, loss: -0.41724\n",
      "epoch: 06, loss: -0.41745\n",
      "epoch: 07, loss: -0.41744\n",
      "epoch: 08, loss: -0.41819\n",
      "epoch: 09, loss: -0.41821\n"
     ]
    },
    {
     "name": "stderr",
     "output_type": "stream",
     "text": [
      " 69%|██████▉   | 693/1000 [4:26:36<1:55:32, 22.58s/it]"
     ]
    },
    {
     "name": "stdout",
     "output_type": "stream",
     "text": [
      "eigenvalues shape torch.Size([5]) eigenvectors shape torch.Size([5, 400])\n",
      "693 /home/phdcs2/Hard_Disk/Datasets/Deep-Spectral-Segmentation/data/object-segmentation/ECSSD/features/dino_vits16/0694.pth\n",
      "0694\n",
      "Starting Training\n",
      "epoch: 00, loss: -0.45583\n",
      "epoch: 01, loss: -0.45924\n",
      "epoch: 02, loss: -0.46673\n",
      "epoch: 03, loss: -0.47251\n",
      "epoch: 04, loss: -0.47771\n",
      "epoch: 05, loss: -0.48302\n",
      "epoch: 06, loss: -0.48728\n",
      "epoch: 07, loss: -0.49106\n",
      "epoch: 08, loss: -0.49448\n",
      "epoch: 09, loss: -0.49723\n"
     ]
    },
    {
     "name": "stderr",
     "output_type": "stream",
     "text": [
      " 69%|██████▉   | 694/1000 [4:27:04<2:03:23, 24.19s/it]"
     ]
    },
    {
     "name": "stdout",
     "output_type": "stream",
     "text": [
      "eigenvalues shape torch.Size([5]) eigenvectors shape torch.Size([5, 500])\n",
      "694 /home/phdcs2/Hard_Disk/Datasets/Deep-Spectral-Segmentation/data/object-segmentation/ECSSD/features/dino_vits16/0695.pth\n",
      "0695\n",
      "Starting Training\n",
      "epoch: 00, loss: -0.38588\n",
      "epoch: 01, loss: -0.38909\n",
      "epoch: 02, loss: -0.38788\n",
      "epoch: 03, loss: -0.38717\n",
      "epoch: 04, loss: -0.38482\n",
      "epoch: 05, loss: -0.38306\n",
      "epoch: 06, loss: -0.38194\n",
      "epoch: 07, loss: -0.37994\n",
      "epoch: 08, loss: -0.37845\n",
      "epoch: 09, loss: -0.37612\n"
     ]
    },
    {
     "name": "stderr",
     "output_type": "stream",
     "text": [
      " 70%|██████▉   | 695/1000 [4:27:23<1:54:01, 22.43s/it]"
     ]
    },
    {
     "name": "stdout",
     "output_type": "stream",
     "text": [
      "eigenvalues shape torch.Size([5]) eigenvectors shape torch.Size([5, 400])\n",
      "695 /home/phdcs2/Hard_Disk/Datasets/Deep-Spectral-Segmentation/data/object-segmentation/ECSSD/features/dino_vits16/0696.pth\n",
      "0696\n",
      "Starting Training\n",
      "epoch: 00, loss: -0.38011\n",
      "epoch: 01, loss: -0.38392\n",
      "epoch: 02, loss: -0.38008\n",
      "epoch: 03, loss: -0.37609\n",
      "epoch: 04, loss: -0.37211\n",
      "epoch: 05, loss: -0.36893\n",
      "epoch: 06, loss: -0.36800\n",
      "epoch: 07, loss: -0.36995\n",
      "epoch: 08, loss: -0.37218\n",
      "epoch: 09, loss: -0.37806\n"
     ]
    },
    {
     "name": "stderr",
     "output_type": "stream",
     "text": [
      " 70%|██████▉   | 696/1000 [4:27:52<2:04:26, 24.56s/it]"
     ]
    },
    {
     "name": "stdout",
     "output_type": "stream",
     "text": [
      "eigenvalues shape torch.Size([5]) eigenvectors shape torch.Size([5, 575])\n",
      "696 /home/phdcs2/Hard_Disk/Datasets/Deep-Spectral-Segmentation/data/object-segmentation/ECSSD/features/dino_vits16/0697.pth\n",
      "0697\n",
      "Starting Training\n",
      "epoch: 00, loss: -0.40975\n",
      "epoch: 01, loss: -0.41977\n",
      "epoch: 02, loss: -0.42108\n",
      "epoch: 03, loss: -0.42308\n",
      "epoch: 04, loss: -0.42505\n",
      "epoch: 05, loss: -0.42623\n",
      "epoch: 06, loss: -0.42798\n",
      "epoch: 07, loss: -0.42852\n",
      "epoch: 08, loss: -0.42962\n",
      "epoch: 09, loss: -0.43036\n"
     ]
    },
    {
     "name": "stderr",
     "output_type": "stream",
     "text": [
      " 70%|██████▉   | 697/1000 [4:28:13<1:58:38, 23.49s/it]"
     ]
    },
    {
     "name": "stdout",
     "output_type": "stream",
     "text": [
      "eigenvalues shape torch.Size([5]) eigenvectors shape torch.Size([5, 450])\n",
      "697 /home/phdcs2/Hard_Disk/Datasets/Deep-Spectral-Segmentation/data/object-segmentation/ECSSD/features/dino_vits16/0698.pth\n",
      "0698\n",
      "Starting Training\n",
      "epoch: 00, loss: -0.39584\n",
      "epoch: 01, loss: -0.39860\n",
      "epoch: 02, loss: -0.39863\n",
      "epoch: 03, loss: -0.39990\n",
      "epoch: 04, loss: -0.40116\n",
      "epoch: 05, loss: -0.40038\n",
      "epoch: 06, loss: -0.40196\n",
      "epoch: 07, loss: -0.40215\n",
      "epoch: 08, loss: -0.40346\n",
      "epoch: 09, loss: -0.40276\n"
     ]
    },
    {
     "name": "stderr",
     "output_type": "stream",
     "text": [
      " 70%|██████▉   | 698/1000 [4:28:39<2:01:12, 24.08s/it]"
     ]
    },
    {
     "name": "stdout",
     "output_type": "stream",
     "text": [
      "eigenvalues shape torch.Size([5]) eigenvectors shape torch.Size([5, 450])\n",
      "698 /home/phdcs2/Hard_Disk/Datasets/Deep-Spectral-Segmentation/data/object-segmentation/ECSSD/features/dino_vits16/0699.pth\n",
      "0699\n",
      "Starting Training\n",
      "epoch: 00, loss: -0.41629\n",
      "epoch: 01, loss: -0.43258\n",
      "epoch: 02, loss: -0.43362\n",
      "epoch: 03, loss: -0.43413\n",
      "epoch: 04, loss: -0.43417\n",
      "epoch: 05, loss: -0.43411\n",
      "epoch: 06, loss: -0.43506\n",
      "epoch: 07, loss: -0.43576\n",
      "epoch: 08, loss: -0.43593\n",
      "epoch: 09, loss: -0.43672\n"
     ]
    },
    {
     "name": "stderr",
     "output_type": "stream",
     "text": [
      " 70%|██████▉   | 699/1000 [4:29:05<2:04:43, 24.86s/it]"
     ]
    },
    {
     "name": "stdout",
     "output_type": "stream",
     "text": [
      "eigenvalues shape torch.Size([5]) eigenvectors shape torch.Size([5, 450])\n",
      "699 /home/phdcs2/Hard_Disk/Datasets/Deep-Spectral-Segmentation/data/object-segmentation/ECSSD/features/dino_vits16/0700.pth\n",
      "0700\n",
      "Starting Training\n",
      "epoch: 00, loss: -0.45392\n",
      "epoch: 01, loss: -0.45910\n",
      "epoch: 02, loss: -0.46982\n",
      "epoch: 03, loss: -0.47881\n",
      "epoch: 04, loss: -0.48675\n",
      "epoch: 05, loss: -0.49430\n",
      "epoch: 06, loss: -0.50130\n",
      "epoch: 07, loss: -0.50677\n",
      "epoch: 08, loss: -0.51308\n",
      "epoch: 09, loss: -0.51873\n"
     ]
    },
    {
     "name": "stderr",
     "output_type": "stream",
     "text": [
      " 70%|███████   | 700/1000 [4:29:31<2:05:31, 25.11s/it]"
     ]
    },
    {
     "name": "stdout",
     "output_type": "stream",
     "text": [
      "eigenvalues shape torch.Size([5]) eigenvectors shape torch.Size([5, 450])\n",
      "700 /home/phdcs2/Hard_Disk/Datasets/Deep-Spectral-Segmentation/data/object-segmentation/ECSSD/features/dino_vits16/0701.pth\n",
      "0701\n",
      "Starting Training\n",
      "epoch: 00, loss: -0.36876\n",
      "epoch: 01, loss: -0.37227\n",
      "epoch: 02, loss: -0.37517\n",
      "epoch: 03, loss: -0.37751\n",
      "epoch: 04, loss: -0.37926\n",
      "epoch: 05, loss: -0.38044\n",
      "epoch: 06, loss: -0.38159\n",
      "epoch: 07, loss: -0.38268\n",
      "epoch: 08, loss: -0.38371\n",
      "epoch: 09, loss: -0.38477\n"
     ]
    },
    {
     "name": "stderr",
     "output_type": "stream",
     "text": [
      " 70%|███████   | 701/1000 [4:29:57<2:07:14, 25.53s/it]"
     ]
    },
    {
     "name": "stdout",
     "output_type": "stream",
     "text": [
      "eigenvalues shape torch.Size([5]) eigenvectors shape torch.Size([5, 450])\n",
      "701 /home/phdcs2/Hard_Disk/Datasets/Deep-Spectral-Segmentation/data/object-segmentation/ECSSD/features/dino_vits16/0702.pth\n",
      "0702\n",
      "Starting Training\n",
      "epoch: 00, loss: -0.38667\n",
      "epoch: 01, loss: -0.39429\n",
      "epoch: 02, loss: -0.39719\n",
      "epoch: 03, loss: -0.39864\n",
      "epoch: 04, loss: -0.40031\n",
      "epoch: 05, loss: -0.40365\n",
      "epoch: 06, loss: -0.40538\n",
      "epoch: 07, loss: -0.40905\n",
      "epoch: 08, loss: -0.40999\n",
      "epoch: 09, loss: -0.41324\n"
     ]
    },
    {
     "name": "stderr",
     "output_type": "stream",
     "text": [
      " 70%|███████   | 702/1000 [4:30:21<2:04:32, 25.08s/it]"
     ]
    },
    {
     "name": "stdout",
     "output_type": "stream",
     "text": [
      "eigenvalues shape torch.Size([5]) eigenvectors shape torch.Size([5, 425])\n",
      "702 /home/phdcs2/Hard_Disk/Datasets/Deep-Spectral-Segmentation/data/object-segmentation/ECSSD/features/dino_vits16/0703.pth\n",
      "0703\n",
      "Starting Training\n",
      "epoch: 00, loss: -0.55350\n",
      "epoch: 01, loss: -0.57286\n",
      "epoch: 02, loss: -0.57678\n",
      "epoch: 03, loss: -0.57930\n",
      "epoch: 04, loss: -0.58291\n",
      "epoch: 05, loss: -0.58492\n",
      "epoch: 06, loss: -0.58690\n",
      "epoch: 07, loss: -0.58823\n",
      "epoch: 08, loss: -0.58967\n",
      "epoch: 09, loss: -0.59057\n"
     ]
    },
    {
     "name": "stderr",
     "output_type": "stream",
     "text": [
      " 70%|███████   | 703/1000 [4:30:43<1:59:20, 24.11s/it]"
     ]
    },
    {
     "name": "stdout",
     "output_type": "stream",
     "text": [
      "eigenvalues shape torch.Size([5]) eigenvectors shape torch.Size([5, 400])\n",
      "703 /home/phdcs2/Hard_Disk/Datasets/Deep-Spectral-Segmentation/data/object-segmentation/ECSSD/features/dino_vits16/0704.pth\n",
      "0704\n",
      "Starting Training\n",
      "epoch: 00, loss: -0.42646\n",
      "epoch: 01, loss: -0.43564\n",
      "epoch: 02, loss: -0.43925\n",
      "epoch: 03, loss: -0.44062\n",
      "epoch: 04, loss: -0.44034\n",
      "epoch: 05, loss: -0.44244\n",
      "epoch: 06, loss: -0.44349\n",
      "epoch: 07, loss: -0.44406\n",
      "epoch: 08, loss: -0.44396\n",
      "epoch: 09, loss: -0.44478\n"
     ]
    },
    {
     "name": "stderr",
     "output_type": "stream",
     "text": [
      " 70%|███████   | 704/1000 [4:31:12<2:06:14, 25.59s/it]"
     ]
    },
    {
     "name": "stdout",
     "output_type": "stream",
     "text": [
      "eigenvalues shape torch.Size([5]) eigenvectors shape torch.Size([5, 500])\n",
      "704 /home/phdcs2/Hard_Disk/Datasets/Deep-Spectral-Segmentation/data/object-segmentation/ECSSD/features/dino_vits16/0705.pth\n",
      "0705\n",
      "Starting Training\n",
      "epoch: 00, loss: -0.36199\n",
      "epoch: 01, loss: -0.35771\n",
      "epoch: 02, loss: -0.35663\n",
      "epoch: 03, loss: -0.35931\n",
      "epoch: 04, loss: -0.36107\n",
      "epoch: 05, loss: -0.36447\n",
      "epoch: 06, loss: -0.36762\n",
      "epoch: 07, loss: -0.37038\n",
      "epoch: 08, loss: -0.37401\n",
      "epoch: 09, loss: -0.37672\n"
     ]
    },
    {
     "name": "stderr",
     "output_type": "stream",
     "text": [
      " 70%|███████   | 705/1000 [4:31:33<1:58:48, 24.16s/it]"
     ]
    },
    {
     "name": "stdout",
     "output_type": "stream",
     "text": [
      "eigenvalues shape torch.Size([5]) eigenvectors shape torch.Size([5, 400])\n",
      "705 /home/phdcs2/Hard_Disk/Datasets/Deep-Spectral-Segmentation/data/object-segmentation/ECSSD/features/dino_vits16/0706.pth\n",
      "0706\n",
      "Starting Training\n",
      "epoch: 00, loss: -0.37899\n",
      "epoch: 01, loss: -0.38700\n",
      "epoch: 02, loss: -0.39190\n",
      "epoch: 03, loss: -0.39550\n",
      "epoch: 04, loss: -0.39780\n",
      "epoch: 05, loss: -0.40228\n",
      "epoch: 06, loss: -0.40753\n",
      "epoch: 07, loss: -0.41161\n",
      "epoch: 08, loss: -0.41567\n",
      "epoch: 09, loss: -0.42155\n"
     ]
    },
    {
     "name": "stderr",
     "output_type": "stream",
     "text": [
      " 71%|███████   | 706/1000 [4:32:00<2:03:04, 25.12s/it]"
     ]
    },
    {
     "name": "stdout",
     "output_type": "stream",
     "text": [
      "eigenvalues shape torch.Size([5]) eigenvectors shape torch.Size([5, 500])\n",
      "706 /home/phdcs2/Hard_Disk/Datasets/Deep-Spectral-Segmentation/data/object-segmentation/ECSSD/features/dino_vits16/0707.pth\n",
      "0707\n",
      "Starting Training\n",
      "epoch: 00, loss: -0.38184\n",
      "epoch: 01, loss: -0.39054\n",
      "epoch: 02, loss: -0.39462\n",
      "epoch: 03, loss: -0.39787\n",
      "epoch: 04, loss: -0.39987\n",
      "epoch: 05, loss: -0.40121\n",
      "epoch: 06, loss: -0.40325\n",
      "epoch: 07, loss: -0.40572\n",
      "epoch: 08, loss: -0.40625\n",
      "epoch: 09, loss: -0.40976\n"
     ]
    },
    {
     "name": "stderr",
     "output_type": "stream",
     "text": [
      " 71%|███████   | 707/1000 [4:32:23<1:58:19, 24.23s/it]"
     ]
    },
    {
     "name": "stdout",
     "output_type": "stream",
     "text": [
      "eigenvalues shape torch.Size([5]) eigenvectors shape torch.Size([5, 400])\n",
      "707 /home/phdcs2/Hard_Disk/Datasets/Deep-Spectral-Segmentation/data/object-segmentation/ECSSD/features/dino_vits16/0708.pth\n",
      "0708\n",
      "Starting Training\n",
      "epoch: 00, loss: -0.34534\n",
      "epoch: 01, loss: -0.34544\n",
      "epoch: 02, loss: -0.35059\n",
      "epoch: 03, loss: -0.35514\n",
      "epoch: 04, loss: -0.36016\n",
      "epoch: 05, loss: -0.36350\n",
      "epoch: 06, loss: -0.36747\n",
      "epoch: 07, loss: -0.37094\n",
      "epoch: 08, loss: -0.37390\n",
      "epoch: 09, loss: -0.37759\n"
     ]
    },
    {
     "name": "stderr",
     "output_type": "stream",
     "text": [
      " 71%|███████   | 708/1000 [4:32:46<1:57:08, 24.07s/it]"
     ]
    },
    {
     "name": "stdout",
     "output_type": "stream",
     "text": [
      "eigenvalues shape torch.Size([5]) eigenvectors shape torch.Size([5, 400])\n",
      "708 /home/phdcs2/Hard_Disk/Datasets/Deep-Spectral-Segmentation/data/object-segmentation/ECSSD/features/dino_vits16/0709.pth\n",
      "0709\n",
      "Starting Training\n",
      "epoch: 00, loss: -0.38381\n",
      "epoch: 01, loss: -0.38784\n",
      "epoch: 02, loss: -0.38664\n",
      "epoch: 03, loss: -0.38635\n",
      "epoch: 04, loss: -0.38655\n",
      "epoch: 05, loss: -0.38557\n",
      "epoch: 06, loss: -0.38333\n",
      "epoch: 07, loss: -0.38256\n",
      "epoch: 08, loss: -0.38322\n",
      "epoch: 09, loss: -0.38176\n"
     ]
    },
    {
     "name": "stderr",
     "output_type": "stream",
     "text": [
      " 71%|███████   | 709/1000 [4:33:11<1:57:26, 24.21s/it]"
     ]
    },
    {
     "name": "stdout",
     "output_type": "stream",
     "text": [
      "eigenvalues shape torch.Size([5]) eigenvectors shape torch.Size([5, 400])\n",
      "709 /home/phdcs2/Hard_Disk/Datasets/Deep-Spectral-Segmentation/data/object-segmentation/ECSSD/features/dino_vits16/0710.pth\n",
      "0710\n",
      "Starting Training\n",
      "epoch: 00, loss: -0.36260\n",
      "epoch: 01, loss: -0.37865\n",
      "epoch: 02, loss: -0.38072\n",
      "epoch: 03, loss: -0.38062\n",
      "epoch: 04, loss: -0.38076\n",
      "epoch: 05, loss: -0.38330\n",
      "epoch: 06, loss: -0.38518\n",
      "epoch: 07, loss: -0.38671\n",
      "epoch: 08, loss: -0.39077\n",
      "epoch: 09, loss: -0.39634\n"
     ]
    },
    {
     "name": "stderr",
     "output_type": "stream",
     "text": [
      " 71%|███████   | 710/1000 [4:33:35<1:56:26, 24.09s/it]"
     ]
    },
    {
     "name": "stdout",
     "output_type": "stream",
     "text": [
      "eigenvalues shape torch.Size([5]) eigenvectors shape torch.Size([5, 400])\n",
      "710 /home/phdcs2/Hard_Disk/Datasets/Deep-Spectral-Segmentation/data/object-segmentation/ECSSD/features/dino_vits16/0711.pth\n",
      "0711\n",
      "Starting Training\n",
      "epoch: 00, loss: -0.34287\n",
      "epoch: 01, loss: -0.34830\n",
      "epoch: 02, loss: -0.35423\n",
      "epoch: 03, loss: -0.36201\n",
      "epoch: 04, loss: -0.36852\n",
      "epoch: 05, loss: -0.37532\n",
      "epoch: 06, loss: -0.38255\n",
      "epoch: 07, loss: -0.38908\n",
      "epoch: 08, loss: -0.39443\n",
      "epoch: 09, loss: -0.39552\n"
     ]
    },
    {
     "name": "stderr",
     "output_type": "stream",
     "text": [
      " 71%|███████   | 711/1000 [4:34:00<1:57:21, 24.37s/it]"
     ]
    },
    {
     "name": "stdout",
     "output_type": "stream",
     "text": [
      "eigenvalues shape torch.Size([5]) eigenvectors shape torch.Size([5, 400])\n",
      "711 /home/phdcs2/Hard_Disk/Datasets/Deep-Spectral-Segmentation/data/object-segmentation/ECSSD/features/dino_vits16/0712.pth\n",
      "0712\n",
      "Starting Training\n",
      "epoch: 00, loss: -0.35916\n",
      "epoch: 01, loss: -0.35153\n",
      "epoch: 02, loss: -0.35230\n",
      "epoch: 03, loss: -0.35573\n",
      "epoch: 04, loss: -0.35753\n",
      "epoch: 05, loss: -0.36373\n",
      "epoch: 06, loss: -0.36765\n",
      "epoch: 07, loss: -0.37093\n",
      "epoch: 08, loss: -0.37298\n",
      "epoch: 09, loss: -0.37502\n"
     ]
    },
    {
     "name": "stderr",
     "output_type": "stream",
     "text": [
      " 71%|███████   | 712/1000 [4:34:20<1:51:08, 23.16s/it]"
     ]
    },
    {
     "name": "stdout",
     "output_type": "stream",
     "text": [
      "eigenvalues shape torch.Size([5]) eigenvectors shape torch.Size([5, 400])\n",
      "712 /home/phdcs2/Hard_Disk/Datasets/Deep-Spectral-Segmentation/data/object-segmentation/ECSSD/features/dino_vits16/0713.pth\n",
      "0713\n",
      "Starting Training\n",
      "epoch: 00, loss: -0.38278\n",
      "epoch: 01, loss: -0.39069\n",
      "epoch: 02, loss: -0.39206\n",
      "epoch: 03, loss: -0.39323\n",
      "epoch: 04, loss: -0.39414\n",
      "epoch: 05, loss: -0.39572\n",
      "epoch: 06, loss: -0.39654\n",
      "epoch: 07, loss: -0.39837\n",
      "epoch: 08, loss: -0.39902\n",
      "epoch: 09, loss: -0.39992\n"
     ]
    },
    {
     "name": "stderr",
     "output_type": "stream",
     "text": [
      " 71%|███████▏  | 713/1000 [4:34:40<1:46:09, 22.19s/it]"
     ]
    },
    {
     "name": "stdout",
     "output_type": "stream",
     "text": [
      "eigenvalues shape torch.Size([5]) eigenvectors shape torch.Size([5, 400])\n",
      "713 /home/phdcs2/Hard_Disk/Datasets/Deep-Spectral-Segmentation/data/object-segmentation/ECSSD/features/dino_vits16/0714.pth\n",
      "0714\n",
      "Starting Training\n",
      "epoch: 00, loss: -0.43549\n",
      "epoch: 01, loss: -0.44944\n",
      "epoch: 02, loss: -0.44413\n",
      "epoch: 03, loss: -0.44045\n",
      "epoch: 04, loss: -0.43739\n",
      "epoch: 05, loss: -0.43572\n",
      "epoch: 06, loss: -0.43293\n",
      "epoch: 07, loss: -0.43129\n",
      "epoch: 08, loss: -0.43026\n",
      "epoch: 09, loss: -0.42920\n"
     ]
    },
    {
     "name": "stderr",
     "output_type": "stream",
     "text": [
      " 71%|███████▏  | 714/1000 [4:35:07<1:53:00, 23.71s/it]"
     ]
    },
    {
     "name": "stdout",
     "output_type": "stream",
     "text": [
      "eigenvalues shape torch.Size([5]) eigenvectors shape torch.Size([5, 400])\n",
      "714 /home/phdcs2/Hard_Disk/Datasets/Deep-Spectral-Segmentation/data/object-segmentation/ECSSD/features/dino_vits16/0715.pth\n",
      "0715\n",
      "Starting Training\n",
      "epoch: 00, loss: -0.62025\n",
      "epoch: 01, loss: -0.66123\n",
      "epoch: 02, loss: -0.66358\n",
      "epoch: 03, loss: -0.66485\n",
      "epoch: 04, loss: -0.66585\n",
      "epoch: 05, loss: -0.66610\n",
      "epoch: 06, loss: -0.66678\n",
      "epoch: 07, loss: -0.66713\n",
      "epoch: 08, loss: -0.66762\n",
      "epoch: 09, loss: -0.66805\n"
     ]
    },
    {
     "name": "stderr",
     "output_type": "stream",
     "text": [
      " 72%|███████▏  | 715/1000 [4:35:33<1:55:52, 24.39s/it]"
     ]
    },
    {
     "name": "stdout",
     "output_type": "stream",
     "text": [
      "eigenvalues shape torch.Size([5]) eigenvectors shape torch.Size([5, 400])\n",
      "715 /home/phdcs2/Hard_Disk/Datasets/Deep-Spectral-Segmentation/data/object-segmentation/ECSSD/features/dino_vits16/0716.pth\n",
      "0716\n",
      "Starting Training\n",
      "epoch: 00, loss: -0.38915\n",
      "epoch: 01, loss: -0.39903\n",
      "epoch: 02, loss: -0.40138\n",
      "epoch: 03, loss: -0.40334\n",
      "epoch: 04, loss: -0.40562\n",
      "epoch: 05, loss: -0.40772\n",
      "epoch: 06, loss: -0.40864\n",
      "epoch: 07, loss: -0.41009\n",
      "epoch: 08, loss: -0.41107\n",
      "epoch: 09, loss: -0.41200\n"
     ]
    },
    {
     "name": "stderr",
     "output_type": "stream",
     "text": [
      " 72%|███████▏  | 716/1000 [4:36:01<1:59:35, 25.27s/it]"
     ]
    },
    {
     "name": "stdout",
     "output_type": "stream",
     "text": [
      "eigenvalues shape torch.Size([5]) eigenvectors shape torch.Size([5, 450])\n",
      "716 /home/phdcs2/Hard_Disk/Datasets/Deep-Spectral-Segmentation/data/object-segmentation/ECSSD/features/dino_vits16/0717.pth\n",
      "0717\n",
      "Starting Training\n",
      "epoch: 00, loss: -0.39286\n",
      "epoch: 01, loss: -0.40168\n",
      "epoch: 02, loss: -0.40362\n",
      "epoch: 03, loss: -0.40495\n",
      "epoch: 04, loss: -0.40530\n",
      "epoch: 05, loss: -0.40526\n",
      "epoch: 06, loss: -0.40658\n",
      "epoch: 07, loss: -0.40588\n",
      "epoch: 08, loss: -0.40450\n",
      "epoch: 09, loss: -0.40434\n"
     ]
    },
    {
     "name": "stderr",
     "output_type": "stream",
     "text": [
      " 72%|███████▏  | 717/1000 [4:36:17<1:47:01, 22.69s/it]"
     ]
    },
    {
     "name": "stdout",
     "output_type": "stream",
     "text": [
      "eigenvalues shape torch.Size([5]) eigenvectors shape torch.Size([5, 350])\n",
      "717 /home/phdcs2/Hard_Disk/Datasets/Deep-Spectral-Segmentation/data/object-segmentation/ECSSD/features/dino_vits16/0718.pth\n",
      "0718\n",
      "Starting Training\n",
      "epoch: 00, loss: -0.35636\n",
      "epoch: 01, loss: -0.35656\n",
      "epoch: 02, loss: -0.36145\n",
      "epoch: 03, loss: -0.36672\n",
      "epoch: 04, loss: -0.37173\n",
      "epoch: 05, loss: -0.37668\n",
      "epoch: 06, loss: -0.38060\n",
      "epoch: 07, loss: -0.38559\n",
      "epoch: 08, loss: -0.38982\n",
      "epoch: 09, loss: -0.39501\n"
     ]
    },
    {
     "name": "stderr",
     "output_type": "stream",
     "text": [
      " 72%|███████▏  | 718/1000 [4:36:41<1:48:30, 23.09s/it]"
     ]
    },
    {
     "name": "stdout",
     "output_type": "stream",
     "text": [
      "eigenvalues shape torch.Size([5]) eigenvectors shape torch.Size([5, 450])\n",
      "718 /home/phdcs2/Hard_Disk/Datasets/Deep-Spectral-Segmentation/data/object-segmentation/ECSSD/features/dino_vits16/0719.pth\n",
      "0719\n",
      "Starting Training\n",
      "epoch: 00, loss: -0.39979\n",
      "epoch: 01, loss: -0.42124\n",
      "epoch: 02, loss: -0.42457\n",
      "epoch: 03, loss: -0.42812\n",
      "epoch: 04, loss: -0.43447\n",
      "epoch: 05, loss: -0.43841\n",
      "epoch: 06, loss: -0.44119\n",
      "epoch: 07, loss: -0.44220\n",
      "epoch: 08, loss: -0.44319\n",
      "epoch: 09, loss: -0.44371\n"
     ]
    },
    {
     "name": "stderr",
     "output_type": "stream",
     "text": [
      " 72%|███████▏  | 719/1000 [4:36:58<1:39:02, 21.15s/it]"
     ]
    },
    {
     "name": "stdout",
     "output_type": "stream",
     "text": [
      "eigenvalues shape torch.Size([5]) eigenvectors shape torch.Size([5, 275])\n",
      "719 /home/phdcs2/Hard_Disk/Datasets/Deep-Spectral-Segmentation/data/object-segmentation/ECSSD/features/dino_vits16/0720.pth\n",
      "0720\n",
      "Starting Training\n",
      "epoch: 00, loss: -0.39651\n",
      "epoch: 01, loss: -0.39140\n",
      "epoch: 02, loss: -0.38347\n",
      "epoch: 03, loss: -0.38007\n",
      "epoch: 04, loss: -0.37857\n",
      "epoch: 05, loss: -0.37726\n",
      "epoch: 06, loss: -0.37862\n",
      "epoch: 07, loss: -0.38004\n",
      "epoch: 08, loss: -0.38001\n",
      "epoch: 09, loss: -0.38097\n"
     ]
    },
    {
     "name": "stderr",
     "output_type": "stream",
     "text": [
      " 72%|███████▏  | 720/1000 [4:37:21<1:41:37, 21.78s/it]"
     ]
    },
    {
     "name": "stdout",
     "output_type": "stream",
     "text": [
      "eigenvalues shape torch.Size([5]) eigenvectors shape torch.Size([5, 400])\n",
      "720 /home/phdcs2/Hard_Disk/Datasets/Deep-Spectral-Segmentation/data/object-segmentation/ECSSD/features/dino_vits16/0721.pth\n",
      "0721\n",
      "Starting Training\n",
      "epoch: 00, loss: -0.39957\n",
      "epoch: 01, loss: -0.41207\n",
      "epoch: 02, loss: -0.41093\n",
      "epoch: 03, loss: -0.41016\n",
      "epoch: 04, loss: -0.41134\n",
      "epoch: 05, loss: -0.41304\n",
      "epoch: 06, loss: -0.41477\n",
      "epoch: 07, loss: -0.41636\n",
      "epoch: 08, loss: -0.41716\n",
      "epoch: 09, loss: -0.41822\n"
     ]
    },
    {
     "name": "stderr",
     "output_type": "stream",
     "text": [
      " 72%|███████▏  | 721/1000 [4:37:43<1:41:03, 21.73s/it]"
     ]
    },
    {
     "name": "stdout",
     "output_type": "stream",
     "text": [
      "eigenvalues shape torch.Size([5]) eigenvectors shape torch.Size([5, 400])\n",
      "721 /home/phdcs2/Hard_Disk/Datasets/Deep-Spectral-Segmentation/data/object-segmentation/ECSSD/features/dino_vits16/0722.pth\n",
      "0722\n",
      "Starting Training\n",
      "epoch: 00, loss: -0.39761\n",
      "epoch: 01, loss: -0.40319\n",
      "epoch: 02, loss: -0.40702\n",
      "epoch: 03, loss: -0.41206\n",
      "epoch: 04, loss: -0.41774\n",
      "epoch: 05, loss: -0.42241\n",
      "epoch: 06, loss: -0.42787\n",
      "epoch: 07, loss: -0.43489\n",
      "epoch: 08, loss: -0.44183\n",
      "epoch: 09, loss: -0.44908\n"
     ]
    },
    {
     "name": "stderr",
     "output_type": "stream",
     "text": [
      " 72%|███████▏  | 722/1000 [4:38:13<1:52:56, 24.38s/it]"
     ]
    },
    {
     "name": "stdout",
     "output_type": "stream",
     "text": [
      "eigenvalues shape torch.Size([5]) eigenvectors shape torch.Size([5, 575])\n",
      "722 /home/phdcs2/Hard_Disk/Datasets/Deep-Spectral-Segmentation/data/object-segmentation/ECSSD/features/dino_vits16/0723.pth\n",
      "0723\n",
      "Starting Training\n",
      "epoch: 00, loss: -0.38891\n",
      "epoch: 01, loss: -0.40377\n",
      "epoch: 02, loss: -0.40566\n",
      "epoch: 03, loss: -0.40419\n",
      "epoch: 04, loss: -0.40405\n",
      "epoch: 05, loss: -0.40539\n",
      "epoch: 06, loss: -0.40652\n",
      "epoch: 07, loss: -0.40671\n",
      "epoch: 08, loss: -0.40779\n",
      "epoch: 09, loss: -0.40849\n"
     ]
    },
    {
     "name": "stderr",
     "output_type": "stream",
     "text": [
      " 72%|███████▏  | 723/1000 [4:38:36<1:50:28, 23.93s/it]"
     ]
    },
    {
     "name": "stdout",
     "output_type": "stream",
     "text": [
      "eigenvalues shape torch.Size([5]) eigenvectors shape torch.Size([5, 400])\n",
      "723 /home/phdcs2/Hard_Disk/Datasets/Deep-Spectral-Segmentation/data/object-segmentation/ECSSD/features/dino_vits16/0724.pth\n",
      "0724\n",
      "Starting Training\n",
      "epoch: 00, loss: -0.37697\n",
      "epoch: 01, loss: -0.37352\n",
      "epoch: 02, loss: -0.37654\n",
      "epoch: 03, loss: -0.38222\n",
      "epoch: 04, loss: -0.38882\n",
      "epoch: 05, loss: -0.39396\n",
      "epoch: 06, loss: -0.39771\n",
      "epoch: 07, loss: -0.40046\n",
      "epoch: 08, loss: -0.40326\n",
      "epoch: 09, loss: -0.40615\n"
     ]
    },
    {
     "name": "stderr",
     "output_type": "stream",
     "text": [
      " 72%|███████▏  | 724/1000 [4:38:58<1:46:50, 23.22s/it]"
     ]
    },
    {
     "name": "stdout",
     "output_type": "stream",
     "text": [
      "eigenvalues shape torch.Size([5]) eigenvectors shape torch.Size([5, 400])\n",
      "724 /home/phdcs2/Hard_Disk/Datasets/Deep-Spectral-Segmentation/data/object-segmentation/ECSSD/features/dino_vits16/0725.pth\n",
      "0725\n",
      "Starting Training\n",
      "epoch: 00, loss: -0.41062\n",
      "epoch: 01, loss: -0.42836\n",
      "epoch: 02, loss: -0.42964\n",
      "epoch: 03, loss: -0.43026\n",
      "epoch: 04, loss: -0.43086\n",
      "epoch: 05, loss: -0.43079\n",
      "epoch: 06, loss: -0.43211\n",
      "epoch: 07, loss: -0.43324\n",
      "epoch: 08, loss: -0.43511\n",
      "epoch: 09, loss: -0.43684\n"
     ]
    },
    {
     "name": "stderr",
     "output_type": "stream",
     "text": [
      " 72%|███████▎  | 725/1000 [4:39:20<1:44:29, 22.80s/it]"
     ]
    },
    {
     "name": "stdout",
     "output_type": "stream",
     "text": [
      "eigenvalues shape torch.Size([5]) eigenvectors shape torch.Size([5, 450])\n",
      "725 /home/phdcs2/Hard_Disk/Datasets/Deep-Spectral-Segmentation/data/object-segmentation/ECSSD/features/dino_vits16/0726.pth\n",
      "0726\n",
      "Starting Training\n",
      "epoch: 00, loss: -0.41203\n",
      "epoch: 01, loss: -0.42037\n",
      "epoch: 02, loss: -0.42442\n",
      "epoch: 03, loss: -0.42782\n",
      "epoch: 04, loss: -0.43228\n",
      "epoch: 05, loss: -0.43620\n",
      "epoch: 06, loss: -0.44073\n",
      "epoch: 07, loss: -0.44461\n",
      "epoch: 08, loss: -0.44904\n",
      "epoch: 09, loss: -0.45393\n"
     ]
    },
    {
     "name": "stderr",
     "output_type": "stream",
     "text": [
      " 73%|███████▎  | 726/1000 [4:39:45<1:47:45, 23.60s/it]"
     ]
    },
    {
     "name": "stdout",
     "output_type": "stream",
     "text": [
      "eigenvalues shape torch.Size([5]) eigenvectors shape torch.Size([5, 450])\n",
      "726 /home/phdcs2/Hard_Disk/Datasets/Deep-Spectral-Segmentation/data/object-segmentation/ECSSD/features/dino_vits16/0727.pth\n",
      "0727\n",
      "Starting Training\n",
      "epoch: 00, loss: -0.38313\n",
      "epoch: 01, loss: -0.39230\n",
      "epoch: 02, loss: -0.39477\n",
      "epoch: 03, loss: -0.39562\n",
      "epoch: 04, loss: -0.39671\n",
      "epoch: 05, loss: -0.39722\n",
      "epoch: 06, loss: -0.39893\n",
      "epoch: 07, loss: -0.39929\n",
      "epoch: 08, loss: -0.39928\n",
      "epoch: 09, loss: -0.40075\n"
     ]
    },
    {
     "name": "stderr",
     "output_type": "stream",
     "text": [
      " 73%|███████▎  | 727/1000 [4:40:09<1:48:31, 23.85s/it]"
     ]
    },
    {
     "name": "stdout",
     "output_type": "stream",
     "text": [
      "eigenvalues shape torch.Size([5]) eigenvectors shape torch.Size([5, 450])\n",
      "727 /home/phdcs2/Hard_Disk/Datasets/Deep-Spectral-Segmentation/data/object-segmentation/ECSSD/features/dino_vits16/0728.pth\n",
      "0728\n",
      "Starting Training\n",
      "epoch: 00, loss: -0.36739\n",
      "epoch: 01, loss: -0.37117\n",
      "epoch: 02, loss: -0.37574\n",
      "epoch: 03, loss: -0.37977\n",
      "epoch: 04, loss: -0.38363\n",
      "epoch: 05, loss: -0.38629\n",
      "epoch: 06, loss: -0.38850\n",
      "epoch: 07, loss: -0.39187\n",
      "epoch: 08, loss: -0.39351\n",
      "epoch: 09, loss: -0.39497\n"
     ]
    },
    {
     "name": "stderr",
     "output_type": "stream",
     "text": [
      " 73%|███████▎  | 728/1000 [4:40:32<1:45:55, 23.37s/it]"
     ]
    },
    {
     "name": "stdout",
     "output_type": "stream",
     "text": [
      "eigenvalues shape torch.Size([5]) eigenvectors shape torch.Size([5, 450])\n",
      "728 /home/phdcs2/Hard_Disk/Datasets/Deep-Spectral-Segmentation/data/object-segmentation/ECSSD/features/dino_vits16/0729.pth\n",
      "0729\n",
      "Starting Training\n",
      "epoch: 00, loss: -0.38388\n",
      "epoch: 01, loss: -0.39378\n",
      "epoch: 02, loss: -0.40129\n",
      "epoch: 03, loss: -0.40666\n",
      "epoch: 04, loss: -0.41135\n",
      "epoch: 05, loss: -0.41630\n",
      "epoch: 06, loss: -0.42076\n",
      "epoch: 07, loss: -0.42615\n",
      "epoch: 08, loss: -0.42979\n",
      "epoch: 09, loss: -0.43382\n"
     ]
    },
    {
     "name": "stderr",
     "output_type": "stream",
     "text": [
      " 73%|███████▎  | 729/1000 [4:40:57<1:47:37, 23.83s/it]"
     ]
    },
    {
     "name": "stdout",
     "output_type": "stream",
     "text": [
      "eigenvalues shape torch.Size([5]) eigenvectors shape torch.Size([5, 400])\n",
      "729 /home/phdcs2/Hard_Disk/Datasets/Deep-Spectral-Segmentation/data/object-segmentation/ECSSD/features/dino_vits16/0730.pth\n",
      "0730\n",
      "Starting Training\n",
      "epoch: 00, loss: -0.40875\n",
      "epoch: 01, loss: -0.40612\n",
      "epoch: 02, loss: -0.39082\n",
      "epoch: 03, loss: -0.37695\n",
      "epoch: 04, loss: -0.36612\n",
      "epoch: 05, loss: -0.36187\n",
      "epoch: 06, loss: -0.36077\n",
      "epoch: 07, loss: -0.36222\n",
      "epoch: 08, loss: -0.36415\n",
      "epoch: 09, loss: -0.36571\n"
     ]
    },
    {
     "name": "stderr",
     "output_type": "stream",
     "text": [
      " 73%|███████▎  | 730/1000 [4:41:20<1:46:43, 23.72s/it]"
     ]
    },
    {
     "name": "stdout",
     "output_type": "stream",
     "text": [
      "eigenvalues shape torch.Size([5]) eigenvectors shape torch.Size([5, 450])\n",
      "730 /home/phdcs2/Hard_Disk/Datasets/Deep-Spectral-Segmentation/data/object-segmentation/ECSSD/features/dino_vits16/0731.pth\n",
      "0731\n",
      "Starting Training\n",
      "epoch: 00, loss: -0.40223\n",
      "epoch: 01, loss: -0.40828\n",
      "epoch: 02, loss: -0.40866\n",
      "epoch: 03, loss: -0.41075\n",
      "epoch: 04, loss: -0.41221\n",
      "epoch: 05, loss: -0.41274\n",
      "epoch: 06, loss: -0.41352\n",
      "epoch: 07, loss: -0.41455\n",
      "epoch: 08, loss: -0.41560\n",
      "epoch: 09, loss: -0.41695\n"
     ]
    },
    {
     "name": "stderr",
     "output_type": "stream",
     "text": [
      " 73%|███████▎  | 731/1000 [4:41:38<1:38:31, 21.98s/it]"
     ]
    },
    {
     "name": "stdout",
     "output_type": "stream",
     "text": [
      "eigenvalues shape torch.Size([5]) eigenvectors shape torch.Size([5, 400])\n",
      "731 /home/phdcs2/Hard_Disk/Datasets/Deep-Spectral-Segmentation/data/object-segmentation/ECSSD/features/dino_vits16/0732.pth\n",
      "0732\n",
      "Starting Training\n",
      "epoch: 00, loss: -0.45871\n",
      "epoch: 01, loss: -0.46082\n",
      "epoch: 02, loss: -0.46366\n",
      "epoch: 03, loss: -0.46599\n",
      "epoch: 04, loss: -0.46845\n",
      "epoch: 05, loss: -0.47031\n",
      "epoch: 06, loss: -0.47279\n",
      "epoch: 07, loss: -0.47455\n",
      "epoch: 08, loss: -0.47605\n",
      "epoch: 09, loss: -0.47815\n"
     ]
    },
    {
     "name": "stderr",
     "output_type": "stream",
     "text": [
      " 73%|███████▎  | 732/1000 [4:42:03<1:42:51, 23.03s/it]"
     ]
    },
    {
     "name": "stdout",
     "output_type": "stream",
     "text": [
      "eigenvalues shape torch.Size([5]) eigenvectors shape torch.Size([5, 525])\n",
      "732 /home/phdcs2/Hard_Disk/Datasets/Deep-Spectral-Segmentation/data/object-segmentation/ECSSD/features/dino_vits16/0733.pth\n",
      "0733\n",
      "Starting Training\n",
      "epoch: 00, loss: -0.35736\n",
      "epoch: 01, loss: -0.36061\n",
      "epoch: 02, loss: -0.36331\n",
      "epoch: 03, loss: -0.36465\n",
      "epoch: 04, loss: -0.36726\n",
      "epoch: 05, loss: -0.36907\n",
      "epoch: 06, loss: -0.37115\n",
      "epoch: 07, loss: -0.37441\n",
      "epoch: 08, loss: -0.37711\n",
      "epoch: 09, loss: -0.37893\n"
     ]
    },
    {
     "name": "stderr",
     "output_type": "stream",
     "text": [
      " 73%|███████▎  | 733/1000 [4:42:23<1:37:27, 21.90s/it]"
     ]
    },
    {
     "name": "stdout",
     "output_type": "stream",
     "text": [
      "eigenvalues shape torch.Size([5]) eigenvectors shape torch.Size([5, 400])\n",
      "733 /home/phdcs2/Hard_Disk/Datasets/Deep-Spectral-Segmentation/data/object-segmentation/ECSSD/features/dino_vits16/0734.pth\n",
      "0734\n",
      "Starting Training\n",
      "epoch: 00, loss: -0.61780\n",
      "epoch: 01, loss: -0.65764\n",
      "epoch: 02, loss: -0.66045\n",
      "epoch: 03, loss: -0.66239\n",
      "epoch: 04, loss: -0.66349\n",
      "epoch: 05, loss: -0.66440\n",
      "epoch: 06, loss: -0.66519\n",
      "epoch: 07, loss: -0.66610\n",
      "epoch: 08, loss: -0.66674\n",
      "epoch: 09, loss: -0.66720\n"
     ]
    },
    {
     "name": "stderr",
     "output_type": "stream",
     "text": [
      " 73%|███████▎  | 734/1000 [4:42:42<1:33:58, 21.20s/it]"
     ]
    },
    {
     "name": "stdout",
     "output_type": "stream",
     "text": [
      "eigenvalues shape torch.Size([5]) eigenvectors shape torch.Size([5, 425])\n",
      "734 /home/phdcs2/Hard_Disk/Datasets/Deep-Spectral-Segmentation/data/object-segmentation/ECSSD/features/dino_vits16/0735.pth\n",
      "0735\n",
      "Starting Training\n",
      "epoch: 00, loss: -0.41521\n",
      "epoch: 01, loss: -0.41790\n",
      "epoch: 02, loss: -0.41724\n",
      "epoch: 03, loss: -0.41616\n",
      "epoch: 04, loss: -0.41624\n",
      "epoch: 05, loss: -0.41605\n",
      "epoch: 06, loss: -0.41685\n",
      "epoch: 07, loss: -0.41841\n",
      "epoch: 08, loss: -0.42029\n",
      "epoch: 09, loss: -0.42304\n"
     ]
    },
    {
     "name": "stderr",
     "output_type": "stream",
     "text": [
      " 74%|███████▎  | 735/1000 [4:43:03<1:33:18, 21.13s/it]"
     ]
    },
    {
     "name": "stdout",
     "output_type": "stream",
     "text": [
      "eigenvalues shape torch.Size([5]) eigenvectors shape torch.Size([5, 450])\n",
      "735 /home/phdcs2/Hard_Disk/Datasets/Deep-Spectral-Segmentation/data/object-segmentation/ECSSD/features/dino_vits16/0736.pth\n",
      "0736\n",
      "Starting Training\n",
      "epoch: 00, loss: -0.43534\n",
      "epoch: 01, loss: -0.44915\n",
      "epoch: 02, loss: -0.45173\n",
      "epoch: 03, loss: -0.45413\n",
      "epoch: 04, loss: -0.45624\n",
      "epoch: 05, loss: -0.45804\n",
      "epoch: 06, loss: -0.45973\n",
      "epoch: 07, loss: -0.46129\n",
      "epoch: 08, loss: -0.46253\n",
      "epoch: 09, loss: -0.46388\n"
     ]
    },
    {
     "name": "stderr",
     "output_type": "stream",
     "text": [
      " 74%|███████▎  | 736/1000 [4:43:24<1:32:40, 21.06s/it]"
     ]
    },
    {
     "name": "stdout",
     "output_type": "stream",
     "text": [
      "eigenvalues shape torch.Size([5]) eigenvectors shape torch.Size([5, 450])\n",
      "736 /home/phdcs2/Hard_Disk/Datasets/Deep-Spectral-Segmentation/data/object-segmentation/ECSSD/features/dino_vits16/0737.pth\n",
      "0737\n",
      "Starting Training\n",
      "epoch: 00, loss: -0.40081\n",
      "epoch: 01, loss: -0.41236\n",
      "epoch: 02, loss: -0.41592\n",
      "epoch: 03, loss: -0.42306\n",
      "epoch: 04, loss: -0.42802\n",
      "epoch: 05, loss: -0.43396\n",
      "epoch: 06, loss: -0.43846\n",
      "epoch: 07, loss: -0.44220\n",
      "epoch: 08, loss: -0.44534\n",
      "epoch: 09, loss: -0.44851\n"
     ]
    },
    {
     "name": "stderr",
     "output_type": "stream",
     "text": [
      " 74%|███████▎  | 737/1000 [4:43:40<1:25:56, 19.61s/it]"
     ]
    },
    {
     "name": "stdout",
     "output_type": "stream",
     "text": [
      "eigenvalues shape torch.Size([5]) eigenvectors shape torch.Size([5, 400])\n",
      "737 /home/phdcs2/Hard_Disk/Datasets/Deep-Spectral-Segmentation/data/object-segmentation/ECSSD/features/dino_vits16/0738.pth\n",
      "0738\n",
      "Starting Training\n",
      "epoch: 00, loss: -0.35979\n",
      "epoch: 01, loss: -0.36659\n",
      "epoch: 02, loss: -0.36960\n",
      "epoch: 03, loss: -0.37454\n",
      "epoch: 04, loss: -0.37714\n",
      "epoch: 05, loss: -0.38091\n",
      "epoch: 06, loss: -0.37987\n",
      "epoch: 07, loss: -0.38050\n",
      "epoch: 08, loss: -0.38217\n",
      "epoch: 09, loss: -0.38360\n"
     ]
    },
    {
     "name": "stderr",
     "output_type": "stream",
     "text": [
      " 74%|███████▍  | 738/1000 [4:44:03<1:29:47, 20.56s/it]"
     ]
    },
    {
     "name": "stdout",
     "output_type": "stream",
     "text": [
      "eigenvalues shape torch.Size([5]) eigenvectors shape torch.Size([5, 450])\n",
      "738 /home/phdcs2/Hard_Disk/Datasets/Deep-Spectral-Segmentation/data/object-segmentation/ECSSD/features/dino_vits16/0739.pth\n",
      "0739\n",
      "Starting Training\n",
      "epoch: 00, loss: -0.37475\n",
      "epoch: 01, loss: -0.37890\n",
      "epoch: 02, loss: -0.37941\n",
      "epoch: 03, loss: -0.38058\n",
      "epoch: 04, loss: -0.38176\n",
      "epoch: 05, loss: -0.38185\n",
      "epoch: 06, loss: -0.38323\n",
      "epoch: 07, loss: -0.38333\n",
      "epoch: 08, loss: -0.38464\n",
      "epoch: 09, loss: -0.38616\n"
     ]
    },
    {
     "name": "stderr",
     "output_type": "stream",
     "text": [
      " 74%|███████▍  | 739/1000 [4:44:24<1:29:23, 20.55s/it]"
     ]
    },
    {
     "name": "stdout",
     "output_type": "stream",
     "text": [
      "eigenvalues shape torch.Size([5]) eigenvectors shape torch.Size([5, 400])\n",
      "739 /home/phdcs2/Hard_Disk/Datasets/Deep-Spectral-Segmentation/data/object-segmentation/ECSSD/features/dino_vits16/0740.pth\n",
      "0740\n",
      "Starting Training\n",
      "epoch: 00, loss: -0.41406\n",
      "epoch: 01, loss: -0.41132\n",
      "epoch: 02, loss: -0.40911\n",
      "epoch: 03, loss: -0.40832\n",
      "epoch: 04, loss: -0.40869\n",
      "epoch: 05, loss: -0.40828\n",
      "epoch: 06, loss: -0.40860\n",
      "epoch: 07, loss: -0.40905\n",
      "epoch: 08, loss: -0.40902\n",
      "epoch: 09, loss: -0.40919\n"
     ]
    },
    {
     "name": "stderr",
     "output_type": "stream",
     "text": [
      " 74%|███████▍  | 740/1000 [4:44:44<1:28:28, 20.42s/it]"
     ]
    },
    {
     "name": "stdout",
     "output_type": "stream",
     "text": [
      "eigenvalues shape torch.Size([5]) eigenvectors shape torch.Size([5, 400])\n",
      "740 /home/phdcs2/Hard_Disk/Datasets/Deep-Spectral-Segmentation/data/object-segmentation/ECSSD/features/dino_vits16/0741.pth\n",
      "0741\n",
      "Starting Training\n",
      "epoch: 00, loss: -0.35254\n",
      "epoch: 01, loss: -0.35419\n",
      "epoch: 02, loss: -0.35585\n",
      "epoch: 03, loss: -0.35759\n",
      "epoch: 04, loss: -0.35943\n",
      "epoch: 05, loss: -0.36148\n",
      "epoch: 06, loss: -0.36429\n",
      "epoch: 07, loss: -0.36613\n",
      "epoch: 08, loss: -0.36745\n",
      "epoch: 09, loss: -0.36981\n"
     ]
    },
    {
     "name": "stderr",
     "output_type": "stream",
     "text": [
      " 74%|███████▍  | 741/1000 [4:45:02<1:25:12, 19.74s/it]"
     ]
    },
    {
     "name": "stdout",
     "output_type": "stream",
     "text": [
      "eigenvalues shape torch.Size([5]) eigenvectors shape torch.Size([5, 400])\n",
      "741 /home/phdcs2/Hard_Disk/Datasets/Deep-Spectral-Segmentation/data/object-segmentation/ECSSD/features/dino_vits16/0742.pth\n",
      "0742\n",
      "Starting Training\n",
      "epoch: 00, loss: -0.38473\n",
      "epoch: 01, loss: -0.38568\n",
      "epoch: 02, loss: -0.38072\n",
      "epoch: 03, loss: -0.37992\n",
      "epoch: 04, loss: -0.38058\n",
      "epoch: 05, loss: -0.38040\n",
      "epoch: 06, loss: -0.38013\n",
      "epoch: 07, loss: -0.38138\n",
      "epoch: 08, loss: -0.38179\n",
      "epoch: 09, loss: -0.38370\n"
     ]
    },
    {
     "name": "stderr",
     "output_type": "stream",
     "text": [
      " 74%|███████▍  | 742/1000 [4:45:22<1:25:41, 19.93s/it]"
     ]
    },
    {
     "name": "stdout",
     "output_type": "stream",
     "text": [
      "eigenvalues shape torch.Size([5]) eigenvectors shape torch.Size([5, 400])\n",
      "742 /home/phdcs2/Hard_Disk/Datasets/Deep-Spectral-Segmentation/data/object-segmentation/ECSSD/features/dino_vits16/0743.pth\n",
      "0743\n",
      "Starting Training\n",
      "epoch: 00, loss: -0.37554\n",
      "epoch: 01, loss: -0.37790\n",
      "epoch: 02, loss: -0.38096\n",
      "epoch: 03, loss: -0.38318\n",
      "epoch: 04, loss: -0.38535\n",
      "epoch: 05, loss: -0.38752\n",
      "epoch: 06, loss: -0.39010\n",
      "epoch: 07, loss: -0.39324\n",
      "epoch: 08, loss: -0.39633\n",
      "epoch: 09, loss: -0.39953\n"
     ]
    },
    {
     "name": "stderr",
     "output_type": "stream",
     "text": [
      " 74%|███████▍  | 743/1000 [4:45:47<1:30:53, 21.22s/it]"
     ]
    },
    {
     "name": "stdout",
     "output_type": "stream",
     "text": [
      "eigenvalues shape torch.Size([5]) eigenvectors shape torch.Size([5, 525])\n",
      "743 /home/phdcs2/Hard_Disk/Datasets/Deep-Spectral-Segmentation/data/object-segmentation/ECSSD/features/dino_vits16/0744.pth\n",
      "0744\n",
      "Starting Training\n",
      "epoch: 00, loss: -0.35320\n",
      "epoch: 01, loss: -0.36154\n",
      "epoch: 02, loss: -0.36802\n",
      "epoch: 03, loss: -0.37431\n",
      "epoch: 04, loss: -0.38129\n",
      "epoch: 05, loss: -0.38804\n",
      "epoch: 06, loss: -0.39524\n",
      "epoch: 07, loss: -0.40148\n",
      "epoch: 08, loss: -0.40589\n",
      "epoch: 09, loss: -0.41010\n"
     ]
    },
    {
     "name": "stderr",
     "output_type": "stream",
     "text": [
      " 74%|███████▍  | 744/1000 [4:46:13<1:36:52, 22.70s/it]"
     ]
    },
    {
     "name": "stdout",
     "output_type": "stream",
     "text": [
      "eigenvalues shape torch.Size([5]) eigenvectors shape torch.Size([5, 475])\n",
      "744 /home/phdcs2/Hard_Disk/Datasets/Deep-Spectral-Segmentation/data/object-segmentation/ECSSD/features/dino_vits16/0745.pth\n",
      "0745\n",
      "Starting Training\n",
      "epoch: 00, loss: -0.59857\n",
      "epoch: 01, loss: -0.62848\n",
      "epoch: 02, loss: -0.63007\n",
      "epoch: 03, loss: -0.63141\n",
      "epoch: 04, loss: -0.63254\n",
      "epoch: 05, loss: -0.63340\n",
      "epoch: 06, loss: -0.63418\n",
      "epoch: 07, loss: -0.63474\n",
      "epoch: 08, loss: -0.63506\n",
      "epoch: 09, loss: -0.63579\n"
     ]
    },
    {
     "name": "stderr",
     "output_type": "stream",
     "text": [
      " 74%|███████▍  | 745/1000 [4:46:35<1:36:07, 22.62s/it]"
     ]
    },
    {
     "name": "stdout",
     "output_type": "stream",
     "text": [
      "eigenvalues shape torch.Size([5]) eigenvectors shape torch.Size([5, 400])\n",
      "745 /home/phdcs2/Hard_Disk/Datasets/Deep-Spectral-Segmentation/data/object-segmentation/ECSSD/features/dino_vits16/0746.pth\n",
      "0746\n",
      "Starting Training\n",
      "epoch: 00, loss: -0.36333\n",
      "epoch: 01, loss: -0.37009\n",
      "epoch: 02, loss: -0.37523\n",
      "epoch: 03, loss: -0.37622\n",
      "epoch: 04, loss: -0.37886\n",
      "epoch: 05, loss: -0.38191\n",
      "epoch: 06, loss: -0.38478\n",
      "epoch: 07, loss: -0.38730\n",
      "epoch: 08, loss: -0.38864\n",
      "epoch: 09, loss: -0.39200\n"
     ]
    },
    {
     "name": "stderr",
     "output_type": "stream",
     "text": [
      " 75%|███████▍  | 746/1000 [4:46:59<1:37:03, 22.93s/it]"
     ]
    },
    {
     "name": "stdout",
     "output_type": "stream",
     "text": [
      "eigenvalues shape torch.Size([5]) eigenvectors shape torch.Size([5, 400])\n",
      "746 /home/phdcs2/Hard_Disk/Datasets/Deep-Spectral-Segmentation/data/object-segmentation/ECSSD/features/dino_vits16/0747.pth\n",
      "0747\n",
      "Starting Training\n",
      "epoch: 00, loss: -0.37994\n",
      "epoch: 01, loss: -0.38713\n",
      "epoch: 02, loss: -0.39031\n",
      "epoch: 03, loss: -0.39444\n",
      "epoch: 04, loss: -0.39874\n",
      "epoch: 05, loss: -0.40434\n",
      "epoch: 06, loss: -0.40981\n",
      "epoch: 07, loss: -0.41507\n",
      "epoch: 08, loss: -0.42149\n",
      "epoch: 09, loss: -0.42702\n"
     ]
    },
    {
     "name": "stderr",
     "output_type": "stream",
     "text": [
      " 75%|███████▍  | 747/1000 [4:47:21<1:36:10, 22.81s/it]"
     ]
    },
    {
     "name": "stdout",
     "output_type": "stream",
     "text": [
      "eigenvalues shape torch.Size([5]) eigenvectors shape torch.Size([5, 400])\n",
      "747 /home/phdcs2/Hard_Disk/Datasets/Deep-Spectral-Segmentation/data/object-segmentation/ECSSD/features/dino_vits16/0748.pth\n",
      "0748\n",
      "Starting Training\n",
      "epoch: 00, loss: -0.59041\n",
      "epoch: 01, loss: -0.60645\n",
      "epoch: 02, loss: -0.60963\n",
      "epoch: 03, loss: -0.61217\n",
      "epoch: 04, loss: -0.61420\n",
      "epoch: 05, loss: -0.61573\n",
      "epoch: 06, loss: -0.61700\n",
      "epoch: 07, loss: -0.61802\n",
      "epoch: 08, loss: -0.61906\n",
      "epoch: 09, loss: -0.61965\n"
     ]
    },
    {
     "name": "stderr",
     "output_type": "stream",
     "text": [
      " 75%|███████▍  | 748/1000 [4:47:39<1:29:34, 21.33s/it]"
     ]
    },
    {
     "name": "stdout",
     "output_type": "stream",
     "text": [
      "eigenvalues shape torch.Size([5]) eigenvectors shape torch.Size([5, 400])\n",
      "748 /home/phdcs2/Hard_Disk/Datasets/Deep-Spectral-Segmentation/data/object-segmentation/ECSSD/features/dino_vits16/0749.pth\n",
      "0749\n",
      "Starting Training\n",
      "epoch: 00, loss: -0.43410\n",
      "epoch: 01, loss: -0.45528\n",
      "epoch: 02, loss: -0.45618\n",
      "epoch: 03, loss: -0.45741\n",
      "epoch: 04, loss: -0.45919\n",
      "epoch: 05, loss: -0.46060\n",
      "epoch: 06, loss: -0.46109\n",
      "epoch: 07, loss: -0.46243\n",
      "epoch: 08, loss: -0.46298\n",
      "epoch: 09, loss: -0.46347\n"
     ]
    },
    {
     "name": "stderr",
     "output_type": "stream",
     "text": [
      " 75%|███████▍  | 749/1000 [4:48:00<1:28:43, 21.21s/it]"
     ]
    },
    {
     "name": "stdout",
     "output_type": "stream",
     "text": [
      "eigenvalues shape torch.Size([5]) eigenvectors shape torch.Size([5, 400])\n",
      "749 /home/phdcs2/Hard_Disk/Datasets/Deep-Spectral-Segmentation/data/object-segmentation/ECSSD/features/dino_vits16/0750.pth\n",
      "0750\n",
      "Starting Training\n",
      "epoch: 00, loss: -0.38623\n",
      "epoch: 01, loss: -0.39436\n",
      "epoch: 02, loss: -0.39332\n",
      "epoch: 03, loss: -0.39122\n",
      "epoch: 04, loss: -0.38898\n",
      "epoch: 05, loss: -0.38595\n",
      "epoch: 06, loss: -0.38412\n",
      "epoch: 07, loss: -0.38342\n",
      "epoch: 08, loss: -0.38054\n",
      "epoch: 09, loss: -0.37877\n"
     ]
    },
    {
     "name": "stderr",
     "output_type": "stream",
     "text": [
      " 75%|███████▌  | 750/1000 [4:48:21<1:27:22, 20.97s/it]"
     ]
    },
    {
     "name": "stdout",
     "output_type": "stream",
     "text": [
      "eigenvalues shape torch.Size([5]) eigenvectors shape torch.Size([5, 400])\n",
      "750 /home/phdcs2/Hard_Disk/Datasets/Deep-Spectral-Segmentation/data/object-segmentation/ECSSD/features/dino_vits16/0751.pth\n",
      "0751\n",
      "Starting Training\n",
      "epoch: 00, loss: -0.42706\n",
      "epoch: 01, loss: -0.44553\n",
      "epoch: 02, loss: -0.44685\n",
      "epoch: 03, loss: -0.44834\n",
      "epoch: 04, loss: -0.44795\n",
      "epoch: 05, loss: -0.44829\n",
      "epoch: 06, loss: -0.44847\n",
      "epoch: 07, loss: -0.44870\n",
      "epoch: 08, loss: -0.44955\n",
      "epoch: 09, loss: -0.44926\n"
     ]
    },
    {
     "name": "stderr",
     "output_type": "stream",
     "text": [
      " 75%|███████▌  | 751/1000 [4:48:43<1:29:16, 21.51s/it]"
     ]
    },
    {
     "name": "stdout",
     "output_type": "stream",
     "text": [
      "eigenvalues shape torch.Size([5]) eigenvectors shape torch.Size([5, 450])\n",
      "751 /home/phdcs2/Hard_Disk/Datasets/Deep-Spectral-Segmentation/data/object-segmentation/ECSSD/features/dino_vits16/0752.pth\n",
      "0752\n",
      "Starting Training\n",
      "epoch: 00, loss: -0.38775\n",
      "epoch: 01, loss: -0.39729\n",
      "epoch: 02, loss: -0.40013\n",
      "epoch: 03, loss: -0.40268\n",
      "epoch: 04, loss: -0.40255\n",
      "epoch: 05, loss: -0.40422\n",
      "epoch: 06, loss: -0.40662\n",
      "epoch: 07, loss: -0.40764\n",
      "epoch: 08, loss: -0.40814\n",
      "epoch: 09, loss: -0.40992\n"
     ]
    },
    {
     "name": "stderr",
     "output_type": "stream",
     "text": [
      " 75%|███████▌  | 752/1000 [4:49:09<1:33:46, 22.69s/it]"
     ]
    },
    {
     "name": "stdout",
     "output_type": "stream",
     "text": [
      "eigenvalues shape torch.Size([5]) eigenvectors shape torch.Size([5, 450])\n",
      "752 /home/phdcs2/Hard_Disk/Datasets/Deep-Spectral-Segmentation/data/object-segmentation/ECSSD/features/dino_vits16/0753.pth\n",
      "0753\n",
      "Starting Training\n",
      "epoch: 00, loss: -0.36665\n",
      "epoch: 01, loss: -0.36913\n",
      "epoch: 02, loss: -0.37227\n",
      "epoch: 03, loss: -0.37326\n",
      "epoch: 04, loss: -0.37495\n",
      "epoch: 05, loss: -0.37699\n",
      "epoch: 06, loss: -0.38004\n",
      "epoch: 07, loss: -0.38085\n",
      "epoch: 08, loss: -0.38222\n",
      "epoch: 09, loss: -0.38439\n"
     ]
    },
    {
     "name": "stderr",
     "output_type": "stream",
     "text": [
      " 75%|███████▌  | 753/1000 [4:49:29<1:30:34, 22.00s/it]"
     ]
    },
    {
     "name": "stdout",
     "output_type": "stream",
     "text": [
      "eigenvalues shape torch.Size([5]) eigenvectors shape torch.Size([5, 400])\n",
      "753 /home/phdcs2/Hard_Disk/Datasets/Deep-Spectral-Segmentation/data/object-segmentation/ECSSD/features/dino_vits16/0754.pth\n",
      "0754\n",
      "Starting Training\n",
      "epoch: 00, loss: -0.37489\n",
      "epoch: 01, loss: -0.35574\n",
      "epoch: 02, loss: -0.35428\n",
      "epoch: 03, loss: -0.35563\n",
      "epoch: 04, loss: -0.35836\n",
      "epoch: 05, loss: -0.36072\n",
      "epoch: 06, loss: -0.36360\n",
      "epoch: 07, loss: -0.36602\n",
      "epoch: 08, loss: -0.36828\n",
      "epoch: 09, loss: -0.37074\n"
     ]
    },
    {
     "name": "stderr",
     "output_type": "stream",
     "text": [
      " 75%|███████▌  | 754/1000 [4:49:48<1:26:53, 21.20s/it]"
     ]
    },
    {
     "name": "stdout",
     "output_type": "stream",
     "text": [
      "eigenvalues shape torch.Size([5]) eigenvectors shape torch.Size([5, 400])\n",
      "754 /home/phdcs2/Hard_Disk/Datasets/Deep-Spectral-Segmentation/data/object-segmentation/ECSSD/features/dino_vits16/0755.pth\n",
      "0755\n",
      "Starting Training\n",
      "epoch: 00, loss: -0.62915\n",
      "epoch: 01, loss: -0.66856\n",
      "epoch: 02, loss: -0.67069\n",
      "epoch: 03, loss: -0.67234\n",
      "epoch: 04, loss: -0.67371\n",
      "epoch: 05, loss: -0.67488\n",
      "epoch: 06, loss: -0.67580\n",
      "epoch: 07, loss: -0.67649\n",
      "epoch: 08, loss: -0.67726\n",
      "epoch: 09, loss: -0.67790\n"
     ]
    },
    {
     "name": "stderr",
     "output_type": "stream",
     "text": [
      " 76%|███████▌  | 755/1000 [4:50:12<1:29:53, 22.02s/it]"
     ]
    },
    {
     "name": "stdout",
     "output_type": "stream",
     "text": [
      "eigenvalues shape torch.Size([5]) eigenvectors shape torch.Size([5, 400])\n",
      "755 /home/phdcs2/Hard_Disk/Datasets/Deep-Spectral-Segmentation/data/object-segmentation/ECSSD/features/dino_vits16/0756.pth\n",
      "0756\n",
      "Starting Training\n",
      "epoch: 00, loss: -0.36135\n",
      "epoch: 01, loss: -0.37031\n",
      "epoch: 02, loss: -0.37444\n",
      "epoch: 03, loss: -0.37742\n",
      "epoch: 04, loss: -0.38030\n",
      "epoch: 05, loss: -0.38326\n",
      "epoch: 06, loss: -0.38677\n",
      "epoch: 07, loss: -0.38994\n",
      "epoch: 08, loss: -0.39316\n",
      "epoch: 09, loss: -0.39574\n"
     ]
    },
    {
     "name": "stderr",
     "output_type": "stream",
     "text": [
      " 76%|███████▌  | 756/1000 [4:50:35<1:29:50, 22.09s/it]"
     ]
    },
    {
     "name": "stdout",
     "output_type": "stream",
     "text": [
      "eigenvalues shape torch.Size([5]) eigenvectors shape torch.Size([5, 400])\n",
      "756 /home/phdcs2/Hard_Disk/Datasets/Deep-Spectral-Segmentation/data/object-segmentation/ECSSD/features/dino_vits16/0757.pth\n",
      "0757\n",
      "Starting Training\n",
      "epoch: 00, loss: -0.38009\n",
      "epoch: 01, loss: -0.37896\n",
      "epoch: 02, loss: -0.37865\n",
      "epoch: 03, loss: -0.37922\n",
      "epoch: 04, loss: -0.37974\n",
      "epoch: 05, loss: -0.38031\n",
      "epoch: 06, loss: -0.38096\n",
      "epoch: 07, loss: -0.38112\n",
      "epoch: 08, loss: -0.38126\n",
      "epoch: 09, loss: -0.38166\n"
     ]
    },
    {
     "name": "stderr",
     "output_type": "stream",
     "text": [
      " 76%|███████▌  | 757/1000 [4:50:52<1:23:24, 20.59s/it]"
     ]
    },
    {
     "name": "stdout",
     "output_type": "stream",
     "text": [
      "eigenvalues shape torch.Size([5]) eigenvectors shape torch.Size([5, 400])\n",
      "757 /home/phdcs2/Hard_Disk/Datasets/Deep-Spectral-Segmentation/data/object-segmentation/ECSSD/features/dino_vits16/0758.pth\n",
      "0758\n",
      "Starting Training\n",
      "epoch: 00, loss: -0.39706\n",
      "epoch: 01, loss: -0.40650\n",
      "epoch: 02, loss: -0.40838\n",
      "epoch: 03, loss: -0.40788\n",
      "epoch: 04, loss: -0.40786\n",
      "epoch: 05, loss: -0.40777\n",
      "epoch: 06, loss: -0.40781\n",
      "epoch: 07, loss: -0.40531\n",
      "epoch: 08, loss: -0.40407\n",
      "epoch: 09, loss: -0.40343\n"
     ]
    },
    {
     "name": "stderr",
     "output_type": "stream",
     "text": [
      " 76%|███████▌  | 758/1000 [4:51:13<1:23:43, 20.76s/it]"
     ]
    },
    {
     "name": "stdout",
     "output_type": "stream",
     "text": [
      "eigenvalues shape torch.Size([5]) eigenvectors shape torch.Size([5, 450])\n",
      "758 /home/phdcs2/Hard_Disk/Datasets/Deep-Spectral-Segmentation/data/object-segmentation/ECSSD/features/dino_vits16/0759.pth\n",
      "0759\n",
      "Starting Training\n",
      "epoch: 00, loss: -0.60450\n",
      "epoch: 01, loss: -0.64058\n",
      "epoch: 02, loss: -0.64124\n",
      "epoch: 03, loss: -0.64151\n",
      "epoch: 04, loss: -0.64196\n",
      "epoch: 05, loss: -0.64200\n",
      "epoch: 06, loss: -0.64225\n",
      "epoch: 07, loss: -0.64237\n",
      "epoch: 08, loss: -0.64292\n",
      "epoch: 09, loss: -0.64296\n"
     ]
    },
    {
     "name": "stderr",
     "output_type": "stream",
     "text": [
      " 76%|███████▌  | 759/1000 [4:51:31<1:19:51, 19.88s/it]"
     ]
    },
    {
     "name": "stdout",
     "output_type": "stream",
     "text": [
      "eigenvalues shape torch.Size([5]) eigenvectors shape torch.Size([5, 400])\n",
      "759 /home/phdcs2/Hard_Disk/Datasets/Deep-Spectral-Segmentation/data/object-segmentation/ECSSD/features/dino_vits16/0760.pth\n",
      "0760\n",
      "Starting Training\n",
      "epoch: 00, loss: -0.40439\n",
      "epoch: 01, loss: -0.41490\n",
      "epoch: 02, loss: -0.41890\n",
      "epoch: 03, loss: -0.42162\n",
      "epoch: 04, loss: -0.42384\n",
      "epoch: 05, loss: -0.42565\n",
      "epoch: 06, loss: -0.42849\n",
      "epoch: 07, loss: -0.43151\n",
      "epoch: 08, loss: -0.43379\n",
      "epoch: 09, loss: -0.43625\n"
     ]
    },
    {
     "name": "stderr",
     "output_type": "stream",
     "text": [
      " 76%|███████▌  | 760/1000 [4:51:57<1:27:20, 21.84s/it]"
     ]
    },
    {
     "name": "stdout",
     "output_type": "stream",
     "text": [
      "eigenvalues shape torch.Size([5]) eigenvectors shape torch.Size([5, 450])\n",
      "760 /home/phdcs2/Hard_Disk/Datasets/Deep-Spectral-Segmentation/data/object-segmentation/ECSSD/features/dino_vits16/0761.pth\n",
      "0761\n",
      "Starting Training\n",
      "epoch: 00, loss: -0.56584\n",
      "epoch: 01, loss: -0.59157\n",
      "epoch: 02, loss: -0.59512\n",
      "epoch: 03, loss: -0.59882\n",
      "epoch: 04, loss: -0.60129\n",
      "epoch: 05, loss: -0.60392\n",
      "epoch: 06, loss: -0.60558\n",
      "epoch: 07, loss: -0.60702\n",
      "epoch: 08, loss: -0.60837\n",
      "epoch: 09, loss: -0.61027\n"
     ]
    },
    {
     "name": "stderr",
     "output_type": "stream",
     "text": [
      " 76%|███████▌  | 761/1000 [4:52:23<1:31:15, 22.91s/it]"
     ]
    },
    {
     "name": "stdout",
     "output_type": "stream",
     "text": [
      "eigenvalues shape torch.Size([5]) eigenvectors shape torch.Size([5, 475])\n",
      "761 /home/phdcs2/Hard_Disk/Datasets/Deep-Spectral-Segmentation/data/object-segmentation/ECSSD/features/dino_vits16/0762.pth\n",
      "0762\n",
      "Starting Training\n",
      "epoch: 00, loss: -0.37272\n",
      "epoch: 01, loss: -0.37313\n",
      "epoch: 02, loss: -0.37394\n",
      "epoch: 03, loss: -0.37483\n",
      "epoch: 04, loss: -0.37569\n",
      "epoch: 05, loss: -0.37799\n",
      "epoch: 06, loss: -0.37950\n",
      "epoch: 07, loss: -0.38107\n",
      "epoch: 08, loss: -0.38312\n",
      "epoch: 09, loss: -0.38628\n"
     ]
    },
    {
     "name": "stderr",
     "output_type": "stream",
     "text": [
      " 76%|███████▌  | 762/1000 [4:52:55<1:42:08, 25.75s/it]"
     ]
    },
    {
     "name": "stdout",
     "output_type": "stream",
     "text": [
      "eigenvalues shape torch.Size([5]) eigenvectors shape torch.Size([5, 600])\n",
      "762 /home/phdcs2/Hard_Disk/Datasets/Deep-Spectral-Segmentation/data/object-segmentation/ECSSD/features/dino_vits16/0763.pth\n",
      "0763\n",
      "Starting Training\n",
      "epoch: 00, loss: -0.39052\n",
      "epoch: 01, loss: -0.40210\n",
      "epoch: 02, loss: -0.40576\n",
      "epoch: 03, loss: -0.41062\n",
      "epoch: 04, loss: -0.41289\n",
      "epoch: 05, loss: -0.41588\n",
      "epoch: 06, loss: -0.41771\n",
      "epoch: 07, loss: -0.42021\n",
      "epoch: 08, loss: -0.42217\n",
      "epoch: 09, loss: -0.42326\n"
     ]
    },
    {
     "name": "stderr",
     "output_type": "stream",
     "text": [
      " 76%|███████▋  | 763/1000 [4:53:20<1:40:53, 25.54s/it]"
     ]
    },
    {
     "name": "stdout",
     "output_type": "stream",
     "text": [
      "eigenvalues shape torch.Size([5]) eigenvectors shape torch.Size([5, 450])\n",
      "763 /home/phdcs2/Hard_Disk/Datasets/Deep-Spectral-Segmentation/data/object-segmentation/ECSSD/features/dino_vits16/0764.pth\n",
      "0764\n",
      "Starting Training\n",
      "epoch: 00, loss: -0.43141\n",
      "epoch: 01, loss: -0.43439\n",
      "epoch: 02, loss: -0.43788\n",
      "epoch: 03, loss: -0.44159\n",
      "epoch: 04, loss: -0.44529\n",
      "epoch: 05, loss: -0.44788\n",
      "epoch: 06, loss: -0.44982\n",
      "epoch: 07, loss: -0.45218\n",
      "epoch: 08, loss: -0.45381\n",
      "epoch: 09, loss: -0.45475\n"
     ]
    },
    {
     "name": "stderr",
     "output_type": "stream",
     "text": [
      " 76%|███████▋  | 764/1000 [4:53:42<1:35:56, 24.39s/it]"
     ]
    },
    {
     "name": "stdout",
     "output_type": "stream",
     "text": [
      "eigenvalues shape torch.Size([5]) eigenvectors shape torch.Size([5, 400])\n",
      "764 /home/phdcs2/Hard_Disk/Datasets/Deep-Spectral-Segmentation/data/object-segmentation/ECSSD/features/dino_vits16/0765.pth\n",
      "0765\n",
      "Starting Training\n",
      "epoch: 00, loss: -0.42573\n",
      "epoch: 01, loss: -0.44191\n",
      "epoch: 02, loss: -0.44140\n",
      "epoch: 03, loss: -0.44080\n",
      "epoch: 04, loss: -0.43919\n",
      "epoch: 05, loss: -0.43874\n",
      "epoch: 06, loss: -0.43828\n",
      "epoch: 07, loss: -0.43815\n",
      "epoch: 08, loss: -0.43818\n",
      "epoch: 09, loss: -0.43858\n"
     ]
    },
    {
     "name": "stderr",
     "output_type": "stream",
     "text": [
      " 76%|███████▋  | 765/1000 [4:54:03<1:31:48, 23.44s/it]"
     ]
    },
    {
     "name": "stdout",
     "output_type": "stream",
     "text": [
      "eigenvalues shape torch.Size([5]) eigenvectors shape torch.Size([5, 400])\n",
      "765 /home/phdcs2/Hard_Disk/Datasets/Deep-Spectral-Segmentation/data/object-segmentation/ECSSD/features/dino_vits16/0766.pth\n",
      "0766\n",
      "Starting Training\n",
      "epoch: 00, loss: -0.40913\n",
      "epoch: 01, loss: -0.42092\n",
      "epoch: 02, loss: -0.42188\n",
      "epoch: 03, loss: -0.42156\n",
      "epoch: 04, loss: -0.42099\n",
      "epoch: 05, loss: -0.42082\n",
      "epoch: 06, loss: -0.42012\n",
      "epoch: 07, loss: -0.41973\n",
      "epoch: 08, loss: -0.41970\n",
      "epoch: 09, loss: -0.41883\n"
     ]
    },
    {
     "name": "stderr",
     "output_type": "stream",
     "text": [
      " 77%|███████▋  | 766/1000 [4:54:29<1:34:13, 24.16s/it]"
     ]
    },
    {
     "name": "stdout",
     "output_type": "stream",
     "text": [
      "eigenvalues shape torch.Size([5]) eigenvectors shape torch.Size([5, 500])\n",
      "766 /home/phdcs2/Hard_Disk/Datasets/Deep-Spectral-Segmentation/data/object-segmentation/ECSSD/features/dino_vits16/0767.pth\n",
      "0767\n",
      "Starting Training\n",
      "epoch: 00, loss: -0.41255\n",
      "epoch: 01, loss: -0.42684\n",
      "epoch: 02, loss: -0.42988\n",
      "epoch: 03, loss: -0.43210\n",
      "epoch: 04, loss: -0.43353\n",
      "epoch: 05, loss: -0.43428\n",
      "epoch: 06, loss: -0.43503\n",
      "epoch: 07, loss: -0.43597\n",
      "epoch: 08, loss: -0.43700\n",
      "epoch: 09, loss: -0.43816\n"
     ]
    },
    {
     "name": "stderr",
     "output_type": "stream",
     "text": [
      " 77%|███████▋  | 767/1000 [4:54:50<1:30:40, 23.35s/it]"
     ]
    },
    {
     "name": "stdout",
     "output_type": "stream",
     "text": [
      "eigenvalues shape torch.Size([5]) eigenvectors shape torch.Size([5, 400])\n",
      "767 /home/phdcs2/Hard_Disk/Datasets/Deep-Spectral-Segmentation/data/object-segmentation/ECSSD/features/dino_vits16/0768.pth\n",
      "0768\n",
      "Starting Training\n",
      "epoch: 00, loss: -0.37821\n",
      "epoch: 01, loss: -0.38326\n",
      "epoch: 02, loss: -0.38530\n",
      "epoch: 03, loss: -0.38832\n",
      "epoch: 04, loss: -0.39003\n",
      "epoch: 05, loss: -0.39311\n",
      "epoch: 06, loss: -0.39535\n",
      "epoch: 07, loss: -0.39947\n",
      "epoch: 08, loss: -0.40282\n",
      "epoch: 09, loss: -0.40655\n"
     ]
    },
    {
     "name": "stderr",
     "output_type": "stream",
     "text": [
      " 77%|███████▋  | 768/1000 [4:55:14<1:30:25, 23.38s/it]"
     ]
    },
    {
     "name": "stdout",
     "output_type": "stream",
     "text": [
      "eigenvalues shape torch.Size([5]) eigenvectors shape torch.Size([5, 475])\n",
      "768 /home/phdcs2/Hard_Disk/Datasets/Deep-Spectral-Segmentation/data/object-segmentation/ECSSD/features/dino_vits16/0769.pth\n",
      "0769\n",
      "Starting Training\n",
      "epoch: 00, loss: -0.39414\n",
      "epoch: 01, loss: -0.39936\n",
      "epoch: 02, loss: -0.40174\n",
      "epoch: 03, loss: -0.40170\n",
      "epoch: 04, loss: -0.40228\n",
      "epoch: 05, loss: -0.40311\n",
      "epoch: 06, loss: -0.40152\n",
      "epoch: 07, loss: -0.40106\n",
      "epoch: 08, loss: -0.40250\n",
      "epoch: 09, loss: -0.40341\n"
     ]
    },
    {
     "name": "stderr",
     "output_type": "stream",
     "text": [
      " 77%|███████▋  | 769/1000 [4:55:37<1:29:46, 23.32s/it]"
     ]
    },
    {
     "name": "stdout",
     "output_type": "stream",
     "text": [
      "eigenvalues shape torch.Size([5]) eigenvectors shape torch.Size([5, 375])\n",
      "769 /home/phdcs2/Hard_Disk/Datasets/Deep-Spectral-Segmentation/data/object-segmentation/ECSSD/features/dino_vits16/0770.pth\n",
      "0770\n",
      "Starting Training\n",
      "epoch: 00, loss: -0.39947\n",
      "epoch: 01, loss: -0.40273\n",
      "epoch: 02, loss: -0.39404\n",
      "epoch: 03, loss: -0.38920\n",
      "epoch: 04, loss: -0.38606\n",
      "epoch: 05, loss: -0.38405\n",
      "epoch: 06, loss: -0.38319\n",
      "epoch: 07, loss: -0.38392\n",
      "epoch: 08, loss: -0.38343\n",
      "epoch: 09, loss: -0.38399\n"
     ]
    },
    {
     "name": "stderr",
     "output_type": "stream",
     "text": [
      " 77%|███████▋  | 770/1000 [4:55:58<1:27:05, 22.72s/it]"
     ]
    },
    {
     "name": "stdout",
     "output_type": "stream",
     "text": [
      "eigenvalues shape torch.Size([5]) eigenvectors shape torch.Size([5, 400])\n",
      "770 /home/phdcs2/Hard_Disk/Datasets/Deep-Spectral-Segmentation/data/object-segmentation/ECSSD/features/dino_vits16/0771.pth\n",
      "0771\n",
      "Starting Training\n",
      "epoch: 00, loss: -0.43615\n",
      "epoch: 01, loss: -0.45170\n",
      "epoch: 02, loss: -0.44418\n",
      "epoch: 03, loss: -0.43902\n",
      "epoch: 04, loss: -0.43776\n",
      "epoch: 05, loss: -0.43754\n",
      "epoch: 06, loss: -0.43715\n",
      "epoch: 07, loss: -0.43698\n",
      "epoch: 08, loss: -0.43571\n",
      "epoch: 09, loss: -0.43585\n"
     ]
    },
    {
     "name": "stderr",
     "output_type": "stream",
     "text": [
      " 77%|███████▋  | 771/1000 [4:56:16<1:20:54, 21.20s/it]"
     ]
    },
    {
     "name": "stdout",
     "output_type": "stream",
     "text": [
      "eigenvalues shape torch.Size([5]) eigenvectors shape torch.Size([5, 400])\n",
      "771 /home/phdcs2/Hard_Disk/Datasets/Deep-Spectral-Segmentation/data/object-segmentation/ECSSD/features/dino_vits16/0772.pth\n",
      "0772\n",
      "Starting Training\n",
      "epoch: 00, loss: -0.35273\n",
      "epoch: 01, loss: -0.36637\n",
      "epoch: 02, loss: -0.37734\n",
      "epoch: 03, loss: -0.39133\n",
      "epoch: 04, loss: -0.40352\n",
      "epoch: 05, loss: -0.41204\n",
      "epoch: 06, loss: -0.41700\n",
      "epoch: 07, loss: -0.42280\n",
      "epoch: 08, loss: -0.42482\n",
      "epoch: 09, loss: -0.42752\n"
     ]
    },
    {
     "name": "stderr",
     "output_type": "stream",
     "text": [
      " 77%|███████▋  | 772/1000 [4:56:40<1:23:41, 22.03s/it]"
     ]
    },
    {
     "name": "stdout",
     "output_type": "stream",
     "text": [
      "eigenvalues shape torch.Size([5]) eigenvectors shape torch.Size([5, 475])\n",
      "772 /home/phdcs2/Hard_Disk/Datasets/Deep-Spectral-Segmentation/data/object-segmentation/ECSSD/features/dino_vits16/0773.pth\n",
      "0773\n",
      "Starting Training\n",
      "epoch: 00, loss: -0.43910\n",
      "epoch: 01, loss: -0.45872\n",
      "epoch: 02, loss: -0.45643\n",
      "epoch: 03, loss: -0.45366\n",
      "epoch: 04, loss: -0.45233\n",
      "epoch: 05, loss: -0.45097\n",
      "epoch: 06, loss: -0.44999\n",
      "epoch: 07, loss: -0.44939\n",
      "epoch: 08, loss: -0.44875\n",
      "epoch: 09, loss: -0.44833\n"
     ]
    },
    {
     "name": "stderr",
     "output_type": "stream",
     "text": [
      " 77%|███████▋  | 773/1000 [4:57:01<1:22:37, 21.84s/it]"
     ]
    },
    {
     "name": "stdout",
     "output_type": "stream",
     "text": [
      "eigenvalues shape torch.Size([5]) eigenvectors shape torch.Size([5, 450])\n",
      "773 /home/phdcs2/Hard_Disk/Datasets/Deep-Spectral-Segmentation/data/object-segmentation/ECSSD/features/dino_vits16/0774.pth\n",
      "0774\n",
      "Starting Training\n",
      "epoch: 00, loss: -0.43759\n",
      "epoch: 01, loss: -0.45682\n",
      "epoch: 02, loss: -0.45863\n",
      "epoch: 03, loss: -0.46163\n",
      "epoch: 04, loss: -0.46363\n",
      "epoch: 05, loss: -0.46571\n",
      "epoch: 06, loss: -0.46631\n",
      "epoch: 07, loss: -0.46784\n",
      "epoch: 08, loss: -0.46860\n",
      "epoch: 09, loss: -0.46881\n"
     ]
    },
    {
     "name": "stderr",
     "output_type": "stream",
     "text": [
      " 77%|███████▋  | 774/1000 [4:57:19<1:18:16, 20.78s/it]"
     ]
    },
    {
     "name": "stdout",
     "output_type": "stream",
     "text": [
      "eigenvalues shape torch.Size([5]) eigenvectors shape torch.Size([5, 425])\n",
      "774 /home/phdcs2/Hard_Disk/Datasets/Deep-Spectral-Segmentation/data/object-segmentation/ECSSD/features/dino_vits16/0775.pth\n",
      "0775\n",
      "Starting Training\n",
      "epoch: 00, loss: -0.37017\n",
      "epoch: 01, loss: -0.38116\n",
      "epoch: 02, loss: -0.38243\n",
      "epoch: 03, loss: -0.38241\n",
      "epoch: 04, loss: -0.38325\n",
      "epoch: 05, loss: -0.38335\n",
      "epoch: 06, loss: -0.38366\n",
      "epoch: 07, loss: -0.38504\n",
      "epoch: 08, loss: -0.38506\n",
      "epoch: 09, loss: -0.38485\n"
     ]
    },
    {
     "name": "stderr",
     "output_type": "stream",
     "text": [
      " 78%|███████▊  | 775/1000 [4:57:39<1:17:00, 20.53s/it]"
     ]
    },
    {
     "name": "stdout",
     "output_type": "stream",
     "text": [
      "eigenvalues shape torch.Size([5]) eigenvectors shape torch.Size([5, 400])\n",
      "775 /home/phdcs2/Hard_Disk/Datasets/Deep-Spectral-Segmentation/data/object-segmentation/ECSSD/features/dino_vits16/0776.pth\n",
      "0776\n",
      "Starting Training\n",
      "epoch: 00, loss: -0.65496\n",
      "epoch: 01, loss: -0.71173\n",
      "epoch: 02, loss: -0.71264\n",
      "epoch: 03, loss: -0.71294\n",
      "epoch: 04, loss: -0.71361\n",
      "epoch: 05, loss: -0.71379\n",
      "epoch: 06, loss: -0.71425\n",
      "epoch: 07, loss: -0.71453\n",
      "epoch: 08, loss: -0.71511\n",
      "epoch: 09, loss: -0.71517\n"
     ]
    },
    {
     "name": "stderr",
     "output_type": "stream",
     "text": [
      " 78%|███████▊  | 776/1000 [4:57:56<1:11:48, 19.24s/it]"
     ]
    },
    {
     "name": "stdout",
     "output_type": "stream",
     "text": [
      "eigenvalues shape torch.Size([5]) eigenvectors shape torch.Size([5, 400])\n",
      "776 /home/phdcs2/Hard_Disk/Datasets/Deep-Spectral-Segmentation/data/object-segmentation/ECSSD/features/dino_vits16/0777.pth\n",
      "0777\n",
      "Starting Training\n",
      "epoch: 00, loss: -0.36871\n",
      "epoch: 01, loss: -0.37357\n",
      "epoch: 02, loss: -0.37921\n",
      "epoch: 03, loss: -0.38551\n",
      "epoch: 04, loss: -0.39005\n",
      "epoch: 05, loss: -0.39441\n",
      "epoch: 06, loss: -0.39761\n",
      "epoch: 07, loss: -0.40130\n",
      "epoch: 08, loss: -0.40432\n",
      "epoch: 09, loss: -0.40658\n"
     ]
    },
    {
     "name": "stderr",
     "output_type": "stream",
     "text": [
      " 78%|███████▊  | 777/1000 [4:58:27<1:24:48, 22.82s/it]"
     ]
    },
    {
     "name": "stdout",
     "output_type": "stream",
     "text": [
      "eigenvalues shape torch.Size([5]) eigenvectors shape torch.Size([5, 625])\n",
      "777 /home/phdcs2/Hard_Disk/Datasets/Deep-Spectral-Segmentation/data/object-segmentation/ECSSD/features/dino_vits16/0778.pth\n",
      "0778\n",
      "Starting Training\n",
      "epoch: 00, loss: -0.38974\n",
      "epoch: 01, loss: -0.38766\n",
      "epoch: 02, loss: -0.38781\n",
      "epoch: 03, loss: -0.38758\n",
      "epoch: 04, loss: -0.38638\n",
      "epoch: 05, loss: -0.38509\n",
      "epoch: 06, loss: -0.38451\n",
      "epoch: 07, loss: -0.38297\n",
      "epoch: 08, loss: -0.38250\n",
      "epoch: 09, loss: -0.38145\n"
     ]
    },
    {
     "name": "stderr",
     "output_type": "stream",
     "text": [
      " 78%|███████▊  | 778/1000 [4:58:47<1:21:42, 22.09s/it]"
     ]
    },
    {
     "name": "stdout",
     "output_type": "stream",
     "text": [
      "eigenvalues shape torch.Size([5]) eigenvectors shape torch.Size([5, 450])\n",
      "778 /home/phdcs2/Hard_Disk/Datasets/Deep-Spectral-Segmentation/data/object-segmentation/ECSSD/features/dino_vits16/0779.pth\n",
      "0779\n",
      "Starting Training\n",
      "epoch: 00, loss: -0.58450\n",
      "epoch: 01, loss: -0.62277\n",
      "epoch: 02, loss: -0.62447\n",
      "epoch: 03, loss: -0.62560\n",
      "epoch: 04, loss: -0.62666\n",
      "epoch: 05, loss: -0.62741\n",
      "epoch: 06, loss: -0.62776\n",
      "epoch: 07, loss: -0.62838\n",
      "epoch: 08, loss: -0.62877\n",
      "epoch: 09, loss: -0.62943\n"
     ]
    },
    {
     "name": "stderr",
     "output_type": "stream",
     "text": [
      " 78%|███████▊  | 779/1000 [4:59:05<1:16:22, 20.73s/it]"
     ]
    },
    {
     "name": "stdout",
     "output_type": "stream",
     "text": [
      "eigenvalues shape torch.Size([5]) eigenvectors shape torch.Size([5, 375])\n",
      "779 /home/phdcs2/Hard_Disk/Datasets/Deep-Spectral-Segmentation/data/object-segmentation/ECSSD/features/dino_vits16/0780.pth\n",
      "0780\n",
      "Starting Training\n",
      "epoch: 00, loss: -0.39866\n",
      "epoch: 01, loss: -0.39090\n",
      "epoch: 02, loss: -0.38734\n",
      "epoch: 03, loss: -0.38540\n",
      "epoch: 04, loss: -0.38573\n",
      "epoch: 05, loss: -0.38530\n",
      "epoch: 06, loss: -0.38595\n",
      "epoch: 07, loss: -0.38595\n",
      "epoch: 08, loss: -0.38699\n",
      "epoch: 09, loss: -0.38821\n"
     ]
    },
    {
     "name": "stderr",
     "output_type": "stream",
     "text": [
      " 78%|███████▊  | 780/1000 [4:59:24<1:14:49, 20.41s/it]"
     ]
    },
    {
     "name": "stdout",
     "output_type": "stream",
     "text": [
      "eigenvalues shape torch.Size([5]) eigenvectors shape torch.Size([5, 400])\n",
      "780 /home/phdcs2/Hard_Disk/Datasets/Deep-Spectral-Segmentation/data/object-segmentation/ECSSD/features/dino_vits16/0781.pth\n",
      "0781\n",
      "Starting Training\n",
      "epoch: 00, loss: -0.40038\n",
      "epoch: 01, loss: -0.39820\n",
      "epoch: 02, loss: -0.39970\n",
      "epoch: 03, loss: -0.40209\n",
      "epoch: 04, loss: -0.40522\n",
      "epoch: 05, loss: -0.40747\n",
      "epoch: 06, loss: -0.41011\n",
      "epoch: 07, loss: -0.41236\n",
      "epoch: 08, loss: -0.41420\n",
      "epoch: 09, loss: -0.41654\n"
     ]
    },
    {
     "name": "stderr",
     "output_type": "stream",
     "text": [
      " 78%|███████▊  | 781/1000 [4:59:49<1:18:40, 21.56s/it]"
     ]
    },
    {
     "name": "stdout",
     "output_type": "stream",
     "text": [
      "eigenvalues shape torch.Size([5]) eigenvectors shape torch.Size([5, 450])\n",
      "781 /home/phdcs2/Hard_Disk/Datasets/Deep-Spectral-Segmentation/data/object-segmentation/ECSSD/features/dino_vits16/0782.pth\n",
      "0782\n",
      "Starting Training\n",
      "epoch: 00, loss: -0.34191\n",
      "epoch: 01, loss: -0.34670\n",
      "epoch: 02, loss: -0.34872\n",
      "epoch: 03, loss: -0.35390\n",
      "epoch: 04, loss: -0.36079\n",
      "epoch: 05, loss: -0.36850\n",
      "epoch: 06, loss: -0.37402\n",
      "epoch: 07, loss: -0.38495\n",
      "epoch: 08, loss: -0.39375\n",
      "epoch: 09, loss: -0.40366\n"
     ]
    },
    {
     "name": "stderr",
     "output_type": "stream",
     "text": [
      " 78%|███████▊  | 782/1000 [5:00:09<1:17:23, 21.30s/it]"
     ]
    },
    {
     "name": "stdout",
     "output_type": "stream",
     "text": [
      "eigenvalues shape torch.Size([5]) eigenvectors shape torch.Size([5, 400])\n",
      "782 /home/phdcs2/Hard_Disk/Datasets/Deep-Spectral-Segmentation/data/object-segmentation/ECSSD/features/dino_vits16/0783.pth\n",
      "0783\n",
      "Starting Training\n",
      "epoch: 00, loss: -0.48791\n",
      "epoch: 01, loss: -0.51083\n",
      "epoch: 02, loss: -0.51388\n",
      "epoch: 03, loss: -0.51639\n",
      "epoch: 04, loss: -0.51951\n",
      "epoch: 05, loss: -0.52208\n",
      "epoch: 06, loss: -0.52398\n",
      "epoch: 07, loss: -0.52570\n",
      "epoch: 08, loss: -0.52792\n",
      "epoch: 09, loss: -0.53002\n"
     ]
    },
    {
     "name": "stderr",
     "output_type": "stream",
     "text": [
      " 78%|███████▊  | 783/1000 [5:00:25<1:11:10, 19.68s/it]"
     ]
    },
    {
     "name": "stdout",
     "output_type": "stream",
     "text": [
      "eigenvalues shape torch.Size([5]) eigenvectors shape torch.Size([5, 300])\n",
      "783 /home/phdcs2/Hard_Disk/Datasets/Deep-Spectral-Segmentation/data/object-segmentation/ECSSD/features/dino_vits16/0784.pth\n",
      "0784\n",
      "Starting Training\n",
      "epoch: 00, loss: -0.45788\n",
      "epoch: 01, loss: -0.47006\n",
      "epoch: 02, loss: -0.47463\n",
      "epoch: 03, loss: -0.47915\n",
      "epoch: 04, loss: -0.48275\n",
      "epoch: 05, loss: -0.48656\n",
      "epoch: 06, loss: -0.48942\n",
      "epoch: 07, loss: -0.49343\n",
      "epoch: 08, loss: -0.49603\n",
      "epoch: 09, loss: -0.49908\n"
     ]
    },
    {
     "name": "stderr",
     "output_type": "stream",
     "text": [
      " 78%|███████▊  | 784/1000 [5:00:57<1:23:40, 23.24s/it]"
     ]
    },
    {
     "name": "stdout",
     "output_type": "stream",
     "text": [
      "eigenvalues shape torch.Size([5]) eigenvectors shape torch.Size([5, 525])\n",
      "784 /home/phdcs2/Hard_Disk/Datasets/Deep-Spectral-Segmentation/data/object-segmentation/ECSSD/features/dino_vits16/0785.pth\n",
      "0785\n",
      "Starting Training\n",
      "epoch: 00, loss: -0.37208\n",
      "epoch: 01, loss: -0.37965\n",
      "epoch: 02, loss: -0.38781\n",
      "epoch: 03, loss: -0.39270\n",
      "epoch: 04, loss: -0.39750\n",
      "epoch: 05, loss: -0.40397\n",
      "epoch: 06, loss: -0.40871\n",
      "epoch: 07, loss: -0.41496\n",
      "epoch: 08, loss: -0.41983\n",
      "epoch: 09, loss: -0.42569\n"
     ]
    },
    {
     "name": "stderr",
     "output_type": "stream",
     "text": [
      " 78%|███████▊  | 785/1000 [5:01:23<1:26:20, 24.10s/it]"
     ]
    },
    {
     "name": "stdout",
     "output_type": "stream",
     "text": [
      "eigenvalues shape torch.Size([5]) eigenvectors shape torch.Size([5, 500])\n",
      "785 /home/phdcs2/Hard_Disk/Datasets/Deep-Spectral-Segmentation/data/object-segmentation/ECSSD/features/dino_vits16/0786.pth\n",
      "0786\n",
      "Starting Training\n",
      "epoch: 00, loss: -0.36941\n",
      "epoch: 01, loss: -0.36735\n",
      "epoch: 02, loss: -0.36943\n",
      "epoch: 03, loss: -0.37244\n",
      "epoch: 04, loss: -0.37496\n",
      "epoch: 05, loss: -0.37773\n",
      "epoch: 06, loss: -0.38033\n",
      "epoch: 07, loss: -0.38370\n",
      "epoch: 08, loss: -0.38609\n",
      "epoch: 09, loss: -0.38838\n"
     ]
    },
    {
     "name": "stderr",
     "output_type": "stream",
     "text": [
      " 79%|███████▊  | 786/1000 [5:01:46<1:25:25, 23.95s/it]"
     ]
    },
    {
     "name": "stdout",
     "output_type": "stream",
     "text": [
      "eigenvalues shape torch.Size([5]) eigenvectors shape torch.Size([5, 450])\n",
      "786 /home/phdcs2/Hard_Disk/Datasets/Deep-Spectral-Segmentation/data/object-segmentation/ECSSD/features/dino_vits16/0787.pth\n",
      "0787\n",
      "Starting Training\n",
      "epoch: 00, loss: -0.35672\n",
      "epoch: 01, loss: -0.36622\n",
      "epoch: 02, loss: -0.37251\n",
      "epoch: 03, loss: -0.37842\n",
      "epoch: 04, loss: -0.38232\n",
      "epoch: 05, loss: -0.38555\n",
      "epoch: 06, loss: -0.38909\n",
      "epoch: 07, loss: -0.39143\n",
      "epoch: 08, loss: -0.39387\n",
      "epoch: 09, loss: -0.39688\n"
     ]
    },
    {
     "name": "stderr",
     "output_type": "stream",
     "text": [
      " 79%|███████▊  | 787/1000 [5:02:14<1:29:16, 25.15s/it]"
     ]
    },
    {
     "name": "stdout",
     "output_type": "stream",
     "text": [
      "eigenvalues shape torch.Size([5]) eigenvectors shape torch.Size([5, 550])\n",
      "787 /home/phdcs2/Hard_Disk/Datasets/Deep-Spectral-Segmentation/data/object-segmentation/ECSSD/features/dino_vits16/0788.pth\n",
      "0788\n",
      "Starting Training\n",
      "epoch: 00, loss: -0.42140\n",
      "epoch: 01, loss: -0.44132\n",
      "epoch: 02, loss: -0.44431\n",
      "epoch: 03, loss: -0.44428\n",
      "epoch: 04, loss: -0.44471\n",
      "epoch: 05, loss: -0.44497\n",
      "epoch: 06, loss: -0.44450\n",
      "epoch: 07, loss: -0.44463\n",
      "epoch: 08, loss: -0.44469\n",
      "epoch: 09, loss: -0.44426\n"
     ]
    },
    {
     "name": "stderr",
     "output_type": "stream",
     "text": [
      " 79%|███████▉  | 788/1000 [5:02:36<1:24:51, 24.02s/it]"
     ]
    },
    {
     "name": "stdout",
     "output_type": "stream",
     "text": [
      "eigenvalues shape torch.Size([5]) eigenvectors shape torch.Size([5, 400])\n",
      "788 /home/phdcs2/Hard_Disk/Datasets/Deep-Spectral-Segmentation/data/object-segmentation/ECSSD/features/dino_vits16/0789.pth\n",
      "0789\n",
      "Starting Training\n",
      "epoch: 00, loss: -0.39949\n",
      "epoch: 01, loss: -0.39837\n",
      "epoch: 02, loss: -0.39995\n",
      "epoch: 03, loss: -0.40034\n",
      "epoch: 04, loss: -0.39974\n",
      "epoch: 05, loss: -0.39884\n",
      "epoch: 06, loss: -0.39768\n",
      "epoch: 07, loss: -0.39598\n",
      "epoch: 08, loss: -0.39417\n",
      "epoch: 09, loss: -0.39225\n"
     ]
    },
    {
     "name": "stderr",
     "output_type": "stream",
     "text": [
      " 79%|███████▉  | 789/1000 [5:02:59<1:23:12, 23.66s/it]"
     ]
    },
    {
     "name": "stdout",
     "output_type": "stream",
     "text": [
      "eigenvalues shape torch.Size([5]) eigenvectors shape torch.Size([5, 450])\n",
      "789 /home/phdcs2/Hard_Disk/Datasets/Deep-Spectral-Segmentation/data/object-segmentation/ECSSD/features/dino_vits16/0790.pth\n",
      "0790\n",
      "Starting Training\n",
      "epoch: 00, loss: -0.42645\n",
      "epoch: 01, loss: -0.44514\n",
      "epoch: 02, loss: -0.44958\n",
      "epoch: 03, loss: -0.45286\n",
      "epoch: 04, loss: -0.45676\n",
      "epoch: 05, loss: -0.46180\n",
      "epoch: 06, loss: -0.46660\n",
      "epoch: 07, loss: -0.47267\n",
      "epoch: 08, loss: -0.47824\n",
      "epoch: 09, loss: -0.48479\n"
     ]
    },
    {
     "name": "stderr",
     "output_type": "stream",
     "text": [
      " 79%|███████▉  | 790/1000 [5:03:24<1:24:07, 24.04s/it]"
     ]
    },
    {
     "name": "stdout",
     "output_type": "stream",
     "text": [
      "eigenvalues shape torch.Size([5]) eigenvectors shape torch.Size([5, 525])\n",
      "790 /home/phdcs2/Hard_Disk/Datasets/Deep-Spectral-Segmentation/data/object-segmentation/ECSSD/features/dino_vits16/0791.pth\n",
      "0791\n",
      "Starting Training\n",
      "epoch: 00, loss: -0.38923\n",
      "epoch: 01, loss: -0.38666\n",
      "epoch: 02, loss: -0.38735\n",
      "epoch: 03, loss: -0.39414\n",
      "epoch: 04, loss: -0.40954\n",
      "epoch: 05, loss: -0.41791\n",
      "epoch: 06, loss: -0.42620\n",
      "epoch: 07, loss: -0.43225\n",
      "epoch: 08, loss: -0.43559\n",
      "epoch: 09, loss: -0.43934\n"
     ]
    },
    {
     "name": "stderr",
     "output_type": "stream",
     "text": [
      " 79%|███████▉  | 791/1000 [5:03:45<1:21:09, 23.30s/it]"
     ]
    },
    {
     "name": "stdout",
     "output_type": "stream",
     "text": [
      "eigenvalues shape torch.Size([5]) eigenvectors shape torch.Size([5, 450])\n",
      "791 /home/phdcs2/Hard_Disk/Datasets/Deep-Spectral-Segmentation/data/object-segmentation/ECSSD/features/dino_vits16/0792.pth\n",
      "0792\n",
      "Starting Training\n",
      "epoch: 00, loss: -0.39353\n",
      "epoch: 01, loss: -0.40537\n",
      "epoch: 02, loss: -0.40648\n",
      "epoch: 03, loss: -0.40680\n",
      "epoch: 04, loss: -0.40752\n",
      "epoch: 05, loss: -0.40752\n",
      "epoch: 06, loss: -0.40890\n",
      "epoch: 07, loss: -0.40820\n",
      "epoch: 08, loss: -0.40756\n",
      "epoch: 09, loss: -0.40784\n"
     ]
    },
    {
     "name": "stderr",
     "output_type": "stream",
     "text": [
      " 79%|███████▉  | 792/1000 [5:04:05<1:17:13, 22.28s/it]"
     ]
    },
    {
     "name": "stdout",
     "output_type": "stream",
     "text": [
      "eigenvalues shape torch.Size([5]) eigenvectors shape torch.Size([5, 450])\n",
      "792 /home/phdcs2/Hard_Disk/Datasets/Deep-Spectral-Segmentation/data/object-segmentation/ECSSD/features/dino_vits16/0793.pth\n",
      "0793\n",
      "Starting Training\n",
      "epoch: 00, loss: -0.40187\n",
      "epoch: 01, loss: -0.41262\n",
      "epoch: 02, loss: -0.41570\n",
      "epoch: 03, loss: -0.41888\n",
      "epoch: 04, loss: -0.42210\n",
      "epoch: 05, loss: -0.42252\n",
      "epoch: 06, loss: -0.42548\n",
      "epoch: 07, loss: -0.42605\n",
      "epoch: 08, loss: -0.42717\n",
      "epoch: 09, loss: -0.42847\n"
     ]
    },
    {
     "name": "stderr",
     "output_type": "stream",
     "text": [
      " 79%|███████▉  | 793/1000 [5:04:24<1:12:56, 21.14s/it]"
     ]
    },
    {
     "name": "stdout",
     "output_type": "stream",
     "text": [
      "eigenvalues shape torch.Size([5]) eigenvectors shape torch.Size([5, 400])\n",
      "793 /home/phdcs2/Hard_Disk/Datasets/Deep-Spectral-Segmentation/data/object-segmentation/ECSSD/features/dino_vits16/0794.pth\n",
      "0794\n",
      "Starting Training\n",
      "epoch: 00, loss: -0.41167\n",
      "epoch: 01, loss: -0.42258\n",
      "epoch: 02, loss: -0.42109\n",
      "epoch: 03, loss: -0.42003\n",
      "epoch: 04, loss: -0.41943\n",
      "epoch: 05, loss: -0.41703\n",
      "epoch: 06, loss: -0.41588\n",
      "epoch: 07, loss: -0.41534\n",
      "epoch: 08, loss: -0.41347\n",
      "epoch: 09, loss: -0.41268\n"
     ]
    },
    {
     "name": "stderr",
     "output_type": "stream",
     "text": [
      " 79%|███████▉  | 794/1000 [5:04:43<1:11:04, 20.70s/it]"
     ]
    },
    {
     "name": "stdout",
     "output_type": "stream",
     "text": [
      "eigenvalues shape torch.Size([5]) eigenvectors shape torch.Size([5, 400])\n",
      "794 /home/phdcs2/Hard_Disk/Datasets/Deep-Spectral-Segmentation/data/object-segmentation/ECSSD/features/dino_vits16/0795.pth\n",
      "0795\n",
      "Starting Training\n",
      "epoch: 00, loss: -0.42768\n",
      "epoch: 01, loss: -0.43985\n",
      "epoch: 02, loss: -0.44068\n",
      "epoch: 03, loss: -0.44303\n",
      "epoch: 04, loss: -0.44483\n",
      "epoch: 05, loss: -0.44729\n",
      "epoch: 06, loss: -0.45116\n",
      "epoch: 07, loss: -0.45505\n",
      "epoch: 08, loss: -0.45759\n",
      "epoch: 09, loss: -0.46207\n"
     ]
    },
    {
     "name": "stderr",
     "output_type": "stream",
     "text": [
      " 80%|███████▉  | 795/1000 [5:05:03<1:10:08, 20.53s/it]"
     ]
    },
    {
     "name": "stdout",
     "output_type": "stream",
     "text": [
      "eigenvalues shape torch.Size([5]) eigenvectors shape torch.Size([5, 375])\n",
      "795 /home/phdcs2/Hard_Disk/Datasets/Deep-Spectral-Segmentation/data/object-segmentation/ECSSD/features/dino_vits16/0796.pth\n",
      "0796\n",
      "Starting Training\n",
      "epoch: 00, loss: -0.38814\n",
      "epoch: 01, loss: -0.38470\n",
      "epoch: 02, loss: -0.37592\n",
      "epoch: 03, loss: -0.37055\n",
      "epoch: 04, loss: -0.36825\n",
      "epoch: 05, loss: -0.36770\n",
      "epoch: 06, loss: -0.36847\n",
      "epoch: 07, loss: -0.36978\n",
      "epoch: 08, loss: -0.37250\n",
      "epoch: 09, loss: -0.37505\n"
     ]
    },
    {
     "name": "stderr",
     "output_type": "stream",
     "text": [
      " 80%|███████▉  | 796/1000 [5:05:29<1:15:17, 22.14s/it]"
     ]
    },
    {
     "name": "stdout",
     "output_type": "stream",
     "text": [
      "eigenvalues shape torch.Size([5]) eigenvectors shape torch.Size([5, 500])\n",
      "796 /home/phdcs2/Hard_Disk/Datasets/Deep-Spectral-Segmentation/data/object-segmentation/ECSSD/features/dino_vits16/0797.pth\n",
      "0797\n",
      "Starting Training\n",
      "epoch: 00, loss: -0.39324\n",
      "epoch: 01, loss: -0.39023\n",
      "epoch: 02, loss: -0.38683\n",
      "epoch: 03, loss: -0.38519\n",
      "epoch: 04, loss: -0.38655\n",
      "epoch: 05, loss: -0.38834\n",
      "epoch: 06, loss: -0.39127\n",
      "epoch: 07, loss: -0.39362\n",
      "epoch: 08, loss: -0.39461\n",
      "epoch: 09, loss: -0.39593\n"
     ]
    },
    {
     "name": "stderr",
     "output_type": "stream",
     "text": [
      " 80%|███████▉  | 797/1000 [5:05:50<1:13:57, 21.86s/it]"
     ]
    },
    {
     "name": "stdout",
     "output_type": "stream",
     "text": [
      "eigenvalues shape torch.Size([5]) eigenvectors shape torch.Size([5, 450])\n",
      "797 /home/phdcs2/Hard_Disk/Datasets/Deep-Spectral-Segmentation/data/object-segmentation/ECSSD/features/dino_vits16/0798.pth\n",
      "0798\n",
      "Starting Training\n",
      "epoch: 00, loss: -0.36060\n",
      "epoch: 01, loss: -0.37380\n",
      "epoch: 02, loss: -0.38024\n",
      "epoch: 03, loss: -0.38403\n",
      "epoch: 04, loss: -0.38682\n",
      "epoch: 05, loss: -0.39100\n",
      "epoch: 06, loss: -0.39318\n",
      "epoch: 07, loss: -0.39611\n",
      "epoch: 08, loss: -0.39887\n",
      "epoch: 09, loss: -0.40045\n"
     ]
    },
    {
     "name": "stderr",
     "output_type": "stream",
     "text": [
      " 80%|███████▉  | 798/1000 [5:06:07<1:08:33, 20.36s/it]"
     ]
    },
    {
     "name": "stdout",
     "output_type": "stream",
     "text": [
      "eigenvalues shape torch.Size([5]) eigenvectors shape torch.Size([5, 350])\n",
      "798 /home/phdcs2/Hard_Disk/Datasets/Deep-Spectral-Segmentation/data/object-segmentation/ECSSD/features/dino_vits16/0799.pth\n",
      "0799\n",
      "Starting Training\n",
      "epoch: 00, loss: -0.57759\n",
      "epoch: 01, loss: -0.61195\n",
      "epoch: 02, loss: -0.61649\n",
      "epoch: 03, loss: -0.61987\n",
      "epoch: 04, loss: -0.62247\n",
      "epoch: 05, loss: -0.62472\n",
      "epoch: 06, loss: -0.62714\n",
      "epoch: 07, loss: -0.62865\n",
      "epoch: 08, loss: -0.63024\n",
      "epoch: 09, loss: -0.63145\n"
     ]
    },
    {
     "name": "stderr",
     "output_type": "stream",
     "text": [
      " 80%|███████▉  | 799/1000 [5:06:30<1:10:52, 21.16s/it]"
     ]
    },
    {
     "name": "stdout",
     "output_type": "stream",
     "text": [
      "eigenvalues shape torch.Size([5]) eigenvectors shape torch.Size([5, 400])\n",
      "799 /home/phdcs2/Hard_Disk/Datasets/Deep-Spectral-Segmentation/data/object-segmentation/ECSSD/features/dino_vits16/0800.pth\n",
      "0800\n",
      "Starting Training\n",
      "epoch: 00, loss: -0.38602\n",
      "epoch: 01, loss: -0.38752\n",
      "epoch: 02, loss: -0.38744\n",
      "epoch: 03, loss: -0.38703\n",
      "epoch: 04, loss: -0.38750\n",
      "epoch: 05, loss: -0.38757\n",
      "epoch: 06, loss: -0.38808\n",
      "epoch: 07, loss: -0.38783\n",
      "epoch: 08, loss: -0.38872\n",
      "epoch: 09, loss: -0.38828\n"
     ]
    },
    {
     "name": "stderr",
     "output_type": "stream",
     "text": [
      " 80%|████████  | 800/1000 [5:06:49<1:08:05, 20.43s/it]"
     ]
    },
    {
     "name": "stdout",
     "output_type": "stream",
     "text": [
      "eigenvalues shape torch.Size([5]) eigenvectors shape torch.Size([5, 350])\n",
      "800 /home/phdcs2/Hard_Disk/Datasets/Deep-Spectral-Segmentation/data/object-segmentation/ECSSD/features/dino_vits16/0801.pth\n",
      "0801\n",
      "Starting Training\n",
      "epoch: 00, loss: -0.41078\n",
      "epoch: 01, loss: -0.41681\n",
      "epoch: 02, loss: -0.41789\n",
      "epoch: 03, loss: -0.41775\n",
      "epoch: 04, loss: -0.41770\n",
      "epoch: 05, loss: -0.41661\n",
      "epoch: 06, loss: -0.41534\n",
      "epoch: 07, loss: -0.41423\n",
      "epoch: 08, loss: -0.41263\n",
      "epoch: 09, loss: -0.41118\n"
     ]
    },
    {
     "name": "stderr",
     "output_type": "stream",
     "text": [
      " 80%|████████  | 801/1000 [5:07:10<1:08:06, 20.53s/it]"
     ]
    },
    {
     "name": "stdout",
     "output_type": "stream",
     "text": [
      "eigenvalues shape torch.Size([5]) eigenvectors shape torch.Size([5, 375])\n",
      "801 /home/phdcs2/Hard_Disk/Datasets/Deep-Spectral-Segmentation/data/object-segmentation/ECSSD/features/dino_vits16/0802.pth\n",
      "0802\n",
      "Starting Training\n",
      "epoch: 00, loss: -0.39214\n",
      "epoch: 01, loss: -0.39945\n",
      "epoch: 02, loss: -0.40058\n",
      "epoch: 03, loss: -0.40185\n",
      "epoch: 04, loss: -0.40489\n",
      "epoch: 05, loss: -0.40579\n",
      "epoch: 06, loss: -0.40905\n",
      "epoch: 07, loss: -0.41277\n",
      "epoch: 08, loss: -0.41524\n",
      "epoch: 09, loss: -0.41923\n"
     ]
    },
    {
     "name": "stderr",
     "output_type": "stream",
     "text": [
      " 80%|████████  | 802/1000 [5:07:44<1:21:18, 24.64s/it]"
     ]
    },
    {
     "name": "stdout",
     "output_type": "stream",
     "text": [
      "eigenvalues shape torch.Size([5]) eigenvectors shape torch.Size([5, 625])\n",
      "802 /home/phdcs2/Hard_Disk/Datasets/Deep-Spectral-Segmentation/data/object-segmentation/ECSSD/features/dino_vits16/0803.pth\n",
      "0803\n",
      "Starting Training\n",
      "epoch: 00, loss: -0.59771\n",
      "epoch: 01, loss: -0.62612\n",
      "epoch: 02, loss: -0.62729\n",
      "epoch: 03, loss: -0.62834\n",
      "epoch: 04, loss: -0.62917\n",
      "epoch: 05, loss: -0.62972\n",
      "epoch: 06, loss: -0.63019\n",
      "epoch: 07, loss: -0.63030\n",
      "epoch: 08, loss: -0.63048\n",
      "epoch: 09, loss: -0.63053\n"
     ]
    },
    {
     "name": "stderr",
     "output_type": "stream",
     "text": [
      " 80%|████████  | 803/1000 [5:08:12<1:24:32, 25.75s/it]"
     ]
    },
    {
     "name": "stdout",
     "output_type": "stream",
     "text": [
      "eigenvalues shape torch.Size([5]) eigenvectors shape torch.Size([5, 500])\n",
      "803 /home/phdcs2/Hard_Disk/Datasets/Deep-Spectral-Segmentation/data/object-segmentation/ECSSD/features/dino_vits16/0804.pth\n",
      "0804\n",
      "Starting Training\n",
      "epoch: 00, loss: -0.43912\n",
      "epoch: 01, loss: -0.44788\n",
      "epoch: 02, loss: -0.44963\n",
      "epoch: 03, loss: -0.45105\n",
      "epoch: 04, loss: -0.45255\n",
      "epoch: 05, loss: -0.45374\n",
      "epoch: 06, loss: -0.45485\n",
      "epoch: 07, loss: -0.45631\n",
      "epoch: 08, loss: -0.45710\n",
      "epoch: 09, loss: -0.45816\n"
     ]
    },
    {
     "name": "stderr",
     "output_type": "stream",
     "text": [
      " 80%|████████  | 804/1000 [5:08:41<1:26:32, 26.49s/it]"
     ]
    },
    {
     "name": "stdout",
     "output_type": "stream",
     "text": [
      "eigenvalues shape torch.Size([5]) eigenvectors shape torch.Size([5, 500])\n",
      "804 /home/phdcs2/Hard_Disk/Datasets/Deep-Spectral-Segmentation/data/object-segmentation/ECSSD/features/dino_vits16/0805.pth\n",
      "0805\n",
      "Starting Training\n",
      "epoch: 00, loss: -0.38725\n",
      "epoch: 01, loss: -0.39936\n",
      "epoch: 02, loss: -0.40183\n",
      "epoch: 03, loss: -0.40363\n",
      "epoch: 04, loss: -0.40611\n",
      "epoch: 05, loss: -0.40830\n",
      "epoch: 06, loss: -0.41022\n",
      "epoch: 07, loss: -0.41157\n",
      "epoch: 08, loss: -0.41356\n",
      "epoch: 09, loss: -0.41529\n"
     ]
    },
    {
     "name": "stderr",
     "output_type": "stream",
     "text": [
      " 80%|████████  | 805/1000 [5:09:03<1:22:05, 25.26s/it]"
     ]
    },
    {
     "name": "stdout",
     "output_type": "stream",
     "text": [
      "eigenvalues shape torch.Size([5]) eigenvectors shape torch.Size([5, 400])\n",
      "805 /home/phdcs2/Hard_Disk/Datasets/Deep-Spectral-Segmentation/data/object-segmentation/ECSSD/features/dino_vits16/0806.pth\n",
      "0806\n",
      "Starting Training\n",
      "epoch: 00, loss: -0.39394\n",
      "epoch: 01, loss: -0.40775\n",
      "epoch: 02, loss: -0.41101\n",
      "epoch: 03, loss: -0.41668\n",
      "epoch: 04, loss: -0.42366\n",
      "epoch: 05, loss: -0.43021\n",
      "epoch: 06, loss: -0.43663\n",
      "epoch: 07, loss: -0.44149\n",
      "epoch: 08, loss: -0.44444\n",
      "epoch: 09, loss: -0.44640\n"
     ]
    },
    {
     "name": "stderr",
     "output_type": "stream",
     "text": [
      " 81%|████████  | 806/1000 [5:09:27<1:20:00, 24.75s/it]"
     ]
    },
    {
     "name": "stdout",
     "output_type": "stream",
     "text": [
      "eigenvalues shape torch.Size([5]) eigenvectors shape torch.Size([5, 425])\n",
      "806 /home/phdcs2/Hard_Disk/Datasets/Deep-Spectral-Segmentation/data/object-segmentation/ECSSD/features/dino_vits16/0807.pth\n",
      "0807\n",
      "Starting Training\n",
      "epoch: 00, loss: -0.39189\n",
      "epoch: 01, loss: -0.39296\n",
      "epoch: 02, loss: -0.38830\n",
      "epoch: 03, loss: -0.38359\n",
      "epoch: 04, loss: -0.38039\n",
      "epoch: 05, loss: -0.37678\n",
      "epoch: 06, loss: -0.37472\n",
      "epoch: 07, loss: -0.37568\n",
      "epoch: 08, loss: -0.37787\n",
      "epoch: 09, loss: -0.37933\n"
     ]
    },
    {
     "name": "stderr",
     "output_type": "stream",
     "text": [
      " 81%|████████  | 807/1000 [5:09:46<1:14:47, 23.25s/it]"
     ]
    },
    {
     "name": "stdout",
     "output_type": "stream",
     "text": [
      "eigenvalues shape torch.Size([5]) eigenvectors shape torch.Size([5, 450])\n",
      "807 /home/phdcs2/Hard_Disk/Datasets/Deep-Spectral-Segmentation/data/object-segmentation/ECSSD/features/dino_vits16/0808.pth\n",
      "0808\n",
      "Starting Training\n",
      "epoch: 00, loss: -0.38030\n",
      "epoch: 01, loss: -0.39050\n",
      "epoch: 02, loss: -0.39445\n",
      "epoch: 03, loss: -0.39619\n",
      "epoch: 04, loss: -0.39861\n",
      "epoch: 05, loss: -0.39841\n",
      "epoch: 06, loss: -0.39992\n",
      "epoch: 07, loss: -0.40000\n",
      "epoch: 08, loss: -0.39906\n",
      "epoch: 09, loss: -0.40021\n"
     ]
    },
    {
     "name": "stderr",
     "output_type": "stream",
     "text": [
      " 81%|████████  | 808/1000 [5:10:11<1:16:01, 23.76s/it]"
     ]
    },
    {
     "name": "stdout",
     "output_type": "stream",
     "text": [
      "eigenvalues shape torch.Size([5]) eigenvectors shape torch.Size([5, 450])\n",
      "808 /home/phdcs2/Hard_Disk/Datasets/Deep-Spectral-Segmentation/data/object-segmentation/ECSSD/features/dino_vits16/0809.pth\n",
      "0809\n",
      "Starting Training\n",
      "epoch: 00, loss: -0.41200\n",
      "epoch: 01, loss: -0.43035\n",
      "epoch: 02, loss: -0.43591\n",
      "epoch: 03, loss: -0.44163\n",
      "epoch: 04, loss: -0.45137\n",
      "epoch: 05, loss: -0.46139\n",
      "epoch: 06, loss: -0.47079\n",
      "epoch: 07, loss: -0.47869\n",
      "epoch: 08, loss: -0.48435\n",
      "epoch: 09, loss: -0.49041\n"
     ]
    },
    {
     "name": "stderr",
     "output_type": "stream",
     "text": [
      " 81%|████████  | 809/1000 [5:10:40<1:20:47, 25.38s/it]"
     ]
    },
    {
     "name": "stdout",
     "output_type": "stream",
     "text": [
      "eigenvalues shape torch.Size([5]) eigenvectors shape torch.Size([5, 500])\n",
      "809 /home/phdcs2/Hard_Disk/Datasets/Deep-Spectral-Segmentation/data/object-segmentation/ECSSD/features/dino_vits16/0810.pth\n",
      "0810\n",
      "Starting Training\n",
      "epoch: 00, loss: -0.35385\n",
      "epoch: 01, loss: -0.35794\n",
      "epoch: 02, loss: -0.36580\n",
      "epoch: 03, loss: -0.37244\n",
      "epoch: 04, loss: -0.37673\n",
      "epoch: 05, loss: -0.38111\n",
      "epoch: 06, loss: -0.38530\n",
      "epoch: 07, loss: -0.38978\n",
      "epoch: 08, loss: -0.39257\n",
      "epoch: 09, loss: -0.39513\n"
     ]
    },
    {
     "name": "stderr",
     "output_type": "stream",
     "text": [
      " 81%|████████  | 810/1000 [5:11:05<1:19:19, 25.05s/it]"
     ]
    },
    {
     "name": "stdout",
     "output_type": "stream",
     "text": [
      "eigenvalues shape torch.Size([5]) eigenvectors shape torch.Size([5, 450])\n",
      "810 /home/phdcs2/Hard_Disk/Datasets/Deep-Spectral-Segmentation/data/object-segmentation/ECSSD/features/dino_vits16/0811.pth\n",
      "0811\n",
      "Starting Training\n",
      "epoch: 00, loss: -0.40141\n",
      "epoch: 01, loss: -0.41128\n",
      "epoch: 02, loss: -0.41188\n",
      "epoch: 03, loss: -0.41296\n",
      "epoch: 04, loss: -0.41405\n",
      "epoch: 05, loss: -0.41514\n",
      "epoch: 06, loss: -0.41618\n",
      "epoch: 07, loss: -0.41692\n",
      "epoch: 08, loss: -0.41803\n",
      "epoch: 09, loss: -0.41913\n"
     ]
    },
    {
     "name": "stderr",
     "output_type": "stream",
     "text": [
      " 81%|████████  | 811/1000 [5:11:28<1:17:20, 24.55s/it]"
     ]
    },
    {
     "name": "stdout",
     "output_type": "stream",
     "text": [
      "eigenvalues shape torch.Size([5]) eigenvectors shape torch.Size([5, 400])\n",
      "811 /home/phdcs2/Hard_Disk/Datasets/Deep-Spectral-Segmentation/data/object-segmentation/ECSSD/features/dino_vits16/0812.pth\n",
      "0812\n",
      "Starting Training\n",
      "epoch: 00, loss: -0.38314\n",
      "epoch: 01, loss: -0.38618\n",
      "epoch: 02, loss: -0.39039\n",
      "epoch: 03, loss: -0.39116\n",
      "epoch: 04, loss: -0.39156\n",
      "epoch: 05, loss: -0.39318\n",
      "epoch: 06, loss: -0.39428\n",
      "epoch: 07, loss: -0.39526\n",
      "epoch: 08, loss: -0.39689\n",
      "epoch: 09, loss: -0.39795\n"
     ]
    },
    {
     "name": "stderr",
     "output_type": "stream",
     "text": [
      " 81%|████████  | 812/1000 [5:11:49<1:13:34, 23.48s/it]"
     ]
    },
    {
     "name": "stdout",
     "output_type": "stream",
     "text": [
      "eigenvalues shape torch.Size([5]) eigenvectors shape torch.Size([5, 400])\n",
      "812 /home/phdcs2/Hard_Disk/Datasets/Deep-Spectral-Segmentation/data/object-segmentation/ECSSD/features/dino_vits16/0813.pth\n",
      "0813\n",
      "Starting Training\n",
      "epoch: 00, loss: -0.42608\n",
      "epoch: 01, loss: -0.44071\n",
      "epoch: 02, loss: -0.44210\n",
      "epoch: 03, loss: -0.44298\n",
      "epoch: 04, loss: -0.44542\n",
      "epoch: 05, loss: -0.44498\n",
      "epoch: 06, loss: -0.44596\n",
      "epoch: 07, loss: -0.44691\n",
      "epoch: 08, loss: -0.44701\n",
      "epoch: 09, loss: -0.44548\n"
     ]
    },
    {
     "name": "stderr",
     "output_type": "stream",
     "text": [
      " 81%|████████▏ | 813/1000 [5:12:09<1:10:07, 22.50s/it]"
     ]
    },
    {
     "name": "stdout",
     "output_type": "stream",
     "text": [
      "eigenvalues shape torch.Size([5]) eigenvectors shape torch.Size([5, 400])\n",
      "813 /home/phdcs2/Hard_Disk/Datasets/Deep-Spectral-Segmentation/data/object-segmentation/ECSSD/features/dino_vits16/0814.pth\n",
      "0814\n",
      "Starting Training\n",
      "epoch: 00, loss: -0.39476\n",
      "epoch: 01, loss: -0.39556\n",
      "epoch: 02, loss: -0.39627\n",
      "epoch: 03, loss: -0.40295\n",
      "epoch: 04, loss: -0.41269\n",
      "epoch: 05, loss: -0.42541\n",
      "epoch: 06, loss: -0.43776\n",
      "epoch: 07, loss: -0.44715\n",
      "epoch: 08, loss: -0.45570\n",
      "epoch: 09, loss: -0.46165\n"
     ]
    },
    {
     "name": "stderr",
     "output_type": "stream",
     "text": [
      " 81%|████████▏ | 814/1000 [5:12:31<1:09:19, 22.36s/it]"
     ]
    },
    {
     "name": "stdout",
     "output_type": "stream",
     "text": [
      "eigenvalues shape torch.Size([5]) eigenvectors shape torch.Size([5, 400])\n",
      "814 /home/phdcs2/Hard_Disk/Datasets/Deep-Spectral-Segmentation/data/object-segmentation/ECSSD/features/dino_vits16/0815.pth\n",
      "0815\n",
      "Starting Training\n",
      "epoch: 00, loss: -0.37164\n",
      "epoch: 01, loss: -0.37833\n",
      "epoch: 02, loss: -0.38421\n",
      "epoch: 03, loss: -0.38935\n",
      "epoch: 04, loss: -0.39269\n",
      "epoch: 05, loss: -0.39624\n",
      "epoch: 06, loss: -0.39999\n",
      "epoch: 07, loss: -0.40286\n",
      "epoch: 08, loss: -0.40540\n",
      "epoch: 09, loss: -0.40849\n"
     ]
    },
    {
     "name": "stderr",
     "output_type": "stream",
     "text": [
      " 82%|████████▏ | 815/1000 [5:12:53<1:08:40, 22.27s/it]"
     ]
    },
    {
     "name": "stdout",
     "output_type": "stream",
     "text": [
      "eigenvalues shape torch.Size([5]) eigenvectors shape torch.Size([5, 400])\n",
      "815 /home/phdcs2/Hard_Disk/Datasets/Deep-Spectral-Segmentation/data/object-segmentation/ECSSD/features/dino_vits16/0816.pth\n",
      "0816\n",
      "Starting Training\n",
      "epoch: 00, loss: -0.38296\n",
      "epoch: 01, loss: -0.38282\n",
      "epoch: 02, loss: -0.38671\n",
      "epoch: 03, loss: -0.39213\n",
      "epoch: 04, loss: -0.40016\n",
      "epoch: 05, loss: -0.40548\n",
      "epoch: 06, loss: -0.41034\n",
      "epoch: 07, loss: -0.41405\n",
      "epoch: 08, loss: -0.41643\n",
      "epoch: 09, loss: -0.41918\n"
     ]
    },
    {
     "name": "stderr",
     "output_type": "stream",
     "text": [
      " 82%|████████▏ | 816/1000 [5:13:17<1:09:50, 22.78s/it]"
     ]
    },
    {
     "name": "stdout",
     "output_type": "stream",
     "text": [
      "eigenvalues shape torch.Size([5]) eigenvectors shape torch.Size([5, 450])\n",
      "816 /home/phdcs2/Hard_Disk/Datasets/Deep-Spectral-Segmentation/data/object-segmentation/ECSSD/features/dino_vits16/0817.pth\n",
      "0817\n",
      "Starting Training\n",
      "epoch: 00, loss: -0.39471\n",
      "epoch: 01, loss: -0.40146\n",
      "epoch: 02, loss: -0.40448\n",
      "epoch: 03, loss: -0.40476\n",
      "epoch: 04, loss: -0.40622\n",
      "epoch: 05, loss: -0.40738\n",
      "epoch: 06, loss: -0.40827\n",
      "epoch: 07, loss: -0.40994\n",
      "epoch: 08, loss: -0.41230\n",
      "epoch: 09, loss: -0.41352\n"
     ]
    },
    {
     "name": "stderr",
     "output_type": "stream",
     "text": [
      " 82%|████████▏ | 817/1000 [5:13:41<1:10:14, 23.03s/it]"
     ]
    },
    {
     "name": "stdout",
     "output_type": "stream",
     "text": [
      "eigenvalues shape torch.Size([5]) eigenvectors shape torch.Size([5, 450])\n",
      "817 /home/phdcs2/Hard_Disk/Datasets/Deep-Spectral-Segmentation/data/object-segmentation/ECSSD/features/dino_vits16/0818.pth\n",
      "0818\n",
      "Starting Training\n",
      "epoch: 00, loss: -0.41075\n",
      "epoch: 01, loss: -0.41484\n",
      "epoch: 02, loss: -0.41205\n",
      "epoch: 03, loss: -0.41184\n",
      "epoch: 04, loss: -0.41243\n",
      "epoch: 05, loss: -0.41272\n",
      "epoch: 06, loss: -0.41358\n",
      "epoch: 07, loss: -0.41473\n",
      "epoch: 08, loss: -0.41425\n",
      "epoch: 09, loss: -0.41426\n"
     ]
    },
    {
     "name": "stderr",
     "output_type": "stream",
     "text": [
      " 82%|████████▏ | 818/1000 [5:14:08<1:13:37, 24.27s/it]"
     ]
    },
    {
     "name": "stdout",
     "output_type": "stream",
     "text": [
      "eigenvalues shape torch.Size([5]) eigenvectors shape torch.Size([5, 525])\n",
      "818 /home/phdcs2/Hard_Disk/Datasets/Deep-Spectral-Segmentation/data/object-segmentation/ECSSD/features/dino_vits16/0819.pth\n",
      "0819\n",
      "Starting Training\n",
      "epoch: 00, loss: -0.37722\n",
      "epoch: 01, loss: -0.38146\n",
      "epoch: 02, loss: -0.38170\n",
      "epoch: 03, loss: -0.38251\n",
      "epoch: 04, loss: -0.38262\n",
      "epoch: 05, loss: -0.38333\n",
      "epoch: 06, loss: -0.38367\n",
      "epoch: 07, loss: -0.38315\n",
      "epoch: 08, loss: -0.38265\n",
      "epoch: 09, loss: -0.38269\n"
     ]
    },
    {
     "name": "stderr",
     "output_type": "stream",
     "text": [
      " 82%|████████▏ | 819/1000 [5:14:30<1:10:37, 23.41s/it]"
     ]
    },
    {
     "name": "stdout",
     "output_type": "stream",
     "text": [
      "eigenvalues shape torch.Size([5]) eigenvectors shape torch.Size([5, 425])\n",
      "819 /home/phdcs2/Hard_Disk/Datasets/Deep-Spectral-Segmentation/data/object-segmentation/ECSSD/features/dino_vits16/0820.pth\n",
      "0820\n",
      "Starting Training\n",
      "epoch: 00, loss: -0.40010\n",
      "epoch: 01, loss: -0.40850\n",
      "epoch: 02, loss: -0.41430\n",
      "epoch: 03, loss: -0.41979\n",
      "epoch: 04, loss: -0.42406\n",
      "epoch: 05, loss: -0.42726\n",
      "epoch: 06, loss: -0.42925\n",
      "epoch: 07, loss: -0.43138\n",
      "epoch: 08, loss: -0.43302\n",
      "epoch: 09, loss: -0.43372\n"
     ]
    },
    {
     "name": "stderr",
     "output_type": "stream",
     "text": [
      " 82%|████████▏ | 820/1000 [5:14:53<1:09:59, 23.33s/it]"
     ]
    },
    {
     "name": "stdout",
     "output_type": "stream",
     "text": [
      "eigenvalues shape torch.Size([5]) eigenvectors shape torch.Size([5, 450])\n",
      "820 /home/phdcs2/Hard_Disk/Datasets/Deep-Spectral-Segmentation/data/object-segmentation/ECSSD/features/dino_vits16/0821.pth\n",
      "0821\n",
      "Starting Training\n",
      "epoch: 00, loss: -0.35557\n",
      "epoch: 01, loss: -0.36084\n",
      "epoch: 02, loss: -0.36435\n",
      "epoch: 03, loss: -0.36868\n",
      "epoch: 04, loss: -0.37150\n",
      "epoch: 05, loss: -0.37469\n",
      "epoch: 06, loss: -0.37708\n",
      "epoch: 07, loss: -0.38112\n",
      "epoch: 08, loss: -0.38500\n",
      "epoch: 09, loss: -0.38888\n"
     ]
    },
    {
     "name": "stderr",
     "output_type": "stream",
     "text": [
      " 82%|████████▏ | 821/1000 [5:15:16<1:09:18, 23.23s/it]"
     ]
    },
    {
     "name": "stdout",
     "output_type": "stream",
     "text": [
      "eigenvalues shape torch.Size([5]) eigenvectors shape torch.Size([5, 450])\n",
      "821 /home/phdcs2/Hard_Disk/Datasets/Deep-Spectral-Segmentation/data/object-segmentation/ECSSD/features/dino_vits16/0822.pth\n",
      "0822\n",
      "Starting Training\n",
      "epoch: 00, loss: -0.34295\n",
      "epoch: 01, loss: -0.35292\n",
      "epoch: 02, loss: -0.35183\n",
      "epoch: 03, loss: -0.35176\n",
      "epoch: 04, loss: -0.35386\n",
      "epoch: 05, loss: -0.35427\n",
      "epoch: 06, loss: -0.35351\n",
      "epoch: 07, loss: -0.35646\n",
      "epoch: 08, loss: -0.35743\n",
      "epoch: 09, loss: -0.35807\n"
     ]
    },
    {
     "name": "stderr",
     "output_type": "stream",
     "text": [
      " 82%|████████▏ | 822/1000 [5:15:38<1:08:17, 23.02s/it]"
     ]
    },
    {
     "name": "stdout",
     "output_type": "stream",
     "text": [
      "eigenvalues shape torch.Size([5]) eigenvectors shape torch.Size([5, 450])\n",
      "822 /home/phdcs2/Hard_Disk/Datasets/Deep-Spectral-Segmentation/data/object-segmentation/ECSSD/features/dino_vits16/0823.pth\n",
      "0823\n",
      "Starting Training\n",
      "epoch: 00, loss: -0.36207\n",
      "epoch: 01, loss: -0.36733\n",
      "epoch: 02, loss: -0.36993\n",
      "epoch: 03, loss: -0.36908\n",
      "epoch: 04, loss: -0.36847\n",
      "epoch: 05, loss: -0.36873\n",
      "epoch: 06, loss: -0.36806\n",
      "epoch: 07, loss: -0.36771\n",
      "epoch: 08, loss: -0.36612\n",
      "epoch: 09, loss: -0.36752\n"
     ]
    },
    {
     "name": "stderr",
     "output_type": "stream",
     "text": [
      " 82%|████████▏ | 823/1000 [5:16:01<1:07:28, 22.87s/it]"
     ]
    },
    {
     "name": "stdout",
     "output_type": "stream",
     "text": [
      "eigenvalues shape torch.Size([5]) eigenvectors shape torch.Size([5, 450])\n",
      "823 /home/phdcs2/Hard_Disk/Datasets/Deep-Spectral-Segmentation/data/object-segmentation/ECSSD/features/dino_vits16/0824.pth\n",
      "0824\n",
      "Starting Training\n",
      "epoch: 00, loss: -0.41184\n",
      "epoch: 01, loss: -0.41591\n",
      "epoch: 02, loss: -0.41529\n",
      "epoch: 03, loss: -0.41458\n",
      "epoch: 04, loss: -0.41505\n",
      "epoch: 05, loss: -0.41599\n",
      "epoch: 06, loss: -0.41694\n",
      "epoch: 07, loss: -0.41791\n",
      "epoch: 08, loss: -0.41840\n",
      "epoch: 09, loss: -0.41974\n"
     ]
    },
    {
     "name": "stderr",
     "output_type": "stream",
     "text": [
      " 82%|████████▏ | 824/1000 [5:16:21<1:04:51, 22.11s/it]"
     ]
    },
    {
     "name": "stdout",
     "output_type": "stream",
     "text": [
      "eigenvalues shape torch.Size([5]) eigenvectors shape torch.Size([5, 400])\n",
      "824 /home/phdcs2/Hard_Disk/Datasets/Deep-Spectral-Segmentation/data/object-segmentation/ECSSD/features/dino_vits16/0825.pth\n",
      "0825\n",
      "Starting Training\n",
      "epoch: 00, loss: -0.64205\n",
      "epoch: 01, loss: -0.71173\n",
      "epoch: 02, loss: -0.71461\n",
      "epoch: 03, loss: -0.71631\n",
      "epoch: 04, loss: -0.71742\n",
      "epoch: 05, loss: -0.71809\n",
      "epoch: 06, loss: -0.71900\n",
      "epoch: 07, loss: -0.71938\n",
      "epoch: 08, loss: -0.72005\n",
      "epoch: 09, loss: -0.72040\n"
     ]
    },
    {
     "name": "stderr",
     "output_type": "stream",
     "text": [
      " 82%|████████▎ | 825/1000 [5:16:41<1:02:56, 21.58s/it]"
     ]
    },
    {
     "name": "stdout",
     "output_type": "stream",
     "text": [
      "eigenvalues shape torch.Size([5]) eigenvectors shape torch.Size([5, 400])\n",
      "825 /home/phdcs2/Hard_Disk/Datasets/Deep-Spectral-Segmentation/data/object-segmentation/ECSSD/features/dino_vits16/0826.pth\n",
      "0826\n",
      "Starting Training\n",
      "epoch: 00, loss: -0.38758\n",
      "epoch: 01, loss: -0.39487\n",
      "epoch: 02, loss: -0.39436\n",
      "epoch: 03, loss: -0.39562\n",
      "epoch: 04, loss: -0.39558\n",
      "epoch: 05, loss: -0.39724\n",
      "epoch: 06, loss: -0.39861\n",
      "epoch: 07, loss: -0.39906\n",
      "epoch: 08, loss: -0.40032\n",
      "epoch: 09, loss: -0.40097\n"
     ]
    },
    {
     "name": "stderr",
     "output_type": "stream",
     "text": [
      " 83%|████████▎ | 826/1000 [5:17:02<1:01:35, 21.24s/it]"
     ]
    },
    {
     "name": "stdout",
     "output_type": "stream",
     "text": [
      "eigenvalues shape torch.Size([5]) eigenvectors shape torch.Size([5, 400])\n",
      "826 /home/phdcs2/Hard_Disk/Datasets/Deep-Spectral-Segmentation/data/object-segmentation/ECSSD/features/dino_vits16/0827.pth\n",
      "0827\n",
      "Starting Training\n",
      "epoch: 00, loss: -0.40654\n",
      "epoch: 01, loss: -0.43761\n",
      "epoch: 02, loss: -0.44041\n",
      "epoch: 03, loss: -0.44389\n",
      "epoch: 04, loss: -0.44557\n",
      "epoch: 05, loss: -0.44564\n",
      "epoch: 06, loss: -0.44590\n",
      "epoch: 07, loss: -0.44553\n",
      "epoch: 08, loss: -0.44479\n",
      "epoch: 09, loss: -0.44449\n"
     ]
    },
    {
     "name": "stderr",
     "output_type": "stream",
     "text": [
      " 83%|████████▎ | 827/1000 [5:17:21<59:03, 20.48s/it]  "
     ]
    },
    {
     "name": "stdout",
     "output_type": "stream",
     "text": [
      "eigenvalues shape torch.Size([5]) eigenvectors shape torch.Size([5, 375])\n",
      "827 /home/phdcs2/Hard_Disk/Datasets/Deep-Spectral-Segmentation/data/object-segmentation/ECSSD/features/dino_vits16/0828.pth\n",
      "0828\n",
      "Starting Training\n",
      "epoch: 00, loss: -0.43792\n",
      "epoch: 01, loss: -0.45825\n",
      "epoch: 02, loss: -0.45989\n",
      "epoch: 03, loss: -0.45901\n",
      "epoch: 04, loss: -0.45903\n",
      "epoch: 05, loss: -0.45852\n",
      "epoch: 06, loss: -0.45752\n",
      "epoch: 07, loss: -0.45685\n",
      "epoch: 08, loss: -0.45612\n",
      "epoch: 09, loss: -0.45606\n"
     ]
    },
    {
     "name": "stderr",
     "output_type": "stream",
     "text": [
      " 83%|████████▎ | 828/1000 [5:17:42<59:06, 20.62s/it]"
     ]
    },
    {
     "name": "stdout",
     "output_type": "stream",
     "text": [
      "eigenvalues shape torch.Size([5]) eigenvectors shape torch.Size([5, 425])\n",
      "828 /home/phdcs2/Hard_Disk/Datasets/Deep-Spectral-Segmentation/data/object-segmentation/ECSSD/features/dino_vits16/0829.pth\n",
      "0829\n",
      "Starting Training\n",
      "epoch: 00, loss: -0.34763\n",
      "epoch: 01, loss: -0.35735\n",
      "epoch: 02, loss: -0.36875\n",
      "epoch: 03, loss: -0.37958\n",
      "epoch: 04, loss: -0.38629\n",
      "epoch: 05, loss: -0.39179\n",
      "epoch: 06, loss: -0.39631\n",
      "epoch: 07, loss: -0.39921\n",
      "epoch: 08, loss: -0.40219\n",
      "epoch: 09, loss: -0.40420\n"
     ]
    },
    {
     "name": "stderr",
     "output_type": "stream",
     "text": [
      " 83%|████████▎ | 829/1000 [5:18:08<1:04:10, 22.52s/it]"
     ]
    },
    {
     "name": "stdout",
     "output_type": "stream",
     "text": [
      "eigenvalues shape torch.Size([5]) eigenvectors shape torch.Size([5, 500])\n",
      "829 /home/phdcs2/Hard_Disk/Datasets/Deep-Spectral-Segmentation/data/object-segmentation/ECSSD/features/dino_vits16/0830.pth\n",
      "0830\n",
      "Starting Training\n",
      "epoch: 00, loss: -0.40813\n",
      "epoch: 01, loss: -0.42388\n",
      "epoch: 02, loss: -0.42439\n",
      "epoch: 03, loss: -0.42400\n",
      "epoch: 04, loss: -0.42406\n",
      "epoch: 05, loss: -0.42209\n",
      "epoch: 06, loss: -0.41930\n",
      "epoch: 07, loss: -0.41775\n",
      "epoch: 08, loss: -0.41450\n",
      "epoch: 09, loss: -0.41099\n"
     ]
    },
    {
     "name": "stderr",
     "output_type": "stream",
     "text": [
      " 83%|████████▎ | 830/1000 [5:18:29<1:01:51, 21.83s/it]"
     ]
    },
    {
     "name": "stdout",
     "output_type": "stream",
     "text": [
      "eigenvalues shape torch.Size([5]) eigenvectors shape torch.Size([5, 400])\n",
      "830 /home/phdcs2/Hard_Disk/Datasets/Deep-Spectral-Segmentation/data/object-segmentation/ECSSD/features/dino_vits16/0831.pth\n",
      "0831\n",
      "Starting Training\n",
      "epoch: 00, loss: -0.35570\n",
      "epoch: 01, loss: -0.35389\n",
      "epoch: 02, loss: -0.36157\n",
      "epoch: 03, loss: -0.36673\n",
      "epoch: 04, loss: -0.37132\n",
      "epoch: 05, loss: -0.37459\n",
      "epoch: 06, loss: -0.37766\n",
      "epoch: 07, loss: -0.38100\n",
      "epoch: 08, loss: -0.38463\n",
      "epoch: 09, loss: -0.38722\n"
     ]
    },
    {
     "name": "stderr",
     "output_type": "stream",
     "text": [
      " 83%|████████▎ | 831/1000 [5:18:49<1:00:06, 21.34s/it]"
     ]
    },
    {
     "name": "stdout",
     "output_type": "stream",
     "text": [
      "eigenvalues shape torch.Size([5]) eigenvectors shape torch.Size([5, 400])\n",
      "831 /home/phdcs2/Hard_Disk/Datasets/Deep-Spectral-Segmentation/data/object-segmentation/ECSSD/features/dino_vits16/0832.pth\n",
      "0832\n",
      "Starting Training\n",
      "epoch: 00, loss: -0.38756\n",
      "epoch: 01, loss: -0.39222\n",
      "epoch: 02, loss: -0.38986\n",
      "epoch: 03, loss: -0.39131\n",
      "epoch: 04, loss: -0.39156\n",
      "epoch: 05, loss: -0.39141\n",
      "epoch: 06, loss: -0.39075\n",
      "epoch: 07, loss: -0.39056\n",
      "epoch: 08, loss: -0.39146\n",
      "epoch: 09, loss: -0.39266\n"
     ]
    },
    {
     "name": "stderr",
     "output_type": "stream",
     "text": [
      " 83%|████████▎ | 832/1000 [5:19:15<1:03:39, 22.73s/it]"
     ]
    },
    {
     "name": "stdout",
     "output_type": "stream",
     "text": [
      "eigenvalues shape torch.Size([5]) eigenvectors shape torch.Size([5, 500])\n",
      "832 /home/phdcs2/Hard_Disk/Datasets/Deep-Spectral-Segmentation/data/object-segmentation/ECSSD/features/dino_vits16/0833.pth\n",
      "0833\n",
      "Starting Training\n",
      "epoch: 00, loss: -0.37608\n",
      "epoch: 01, loss: -0.40211\n",
      "epoch: 02, loss: -0.43621\n",
      "epoch: 03, loss: -0.45445\n",
      "epoch: 04, loss: -0.46081\n",
      "epoch: 05, loss: -0.46413\n",
      "epoch: 06, loss: -0.46817\n",
      "epoch: 07, loss: -0.46787\n",
      "epoch: 08, loss: -0.46864\n",
      "epoch: 09, loss: -0.46900\n"
     ]
    },
    {
     "name": "stderr",
     "output_type": "stream",
     "text": [
      " 83%|████████▎ | 833/1000 [5:19:38<1:03:32, 22.83s/it]"
     ]
    },
    {
     "name": "stdout",
     "output_type": "stream",
     "text": [
      "eigenvalues shape torch.Size([5]) eigenvectors shape torch.Size([5, 450])\n",
      "833 /home/phdcs2/Hard_Disk/Datasets/Deep-Spectral-Segmentation/data/object-segmentation/ECSSD/features/dino_vits16/0834.pth\n",
      "0834\n",
      "Starting Training\n",
      "epoch: 00, loss: -0.53806\n",
      "epoch: 01, loss: -0.55973\n",
      "epoch: 02, loss: -0.56774\n",
      "epoch: 03, loss: -0.57375\n",
      "epoch: 04, loss: -0.57843\n",
      "epoch: 05, loss: -0.58230\n",
      "epoch: 06, loss: -0.58466\n",
      "epoch: 07, loss: -0.58693\n",
      "epoch: 08, loss: -0.58875\n",
      "epoch: 09, loss: -0.59099\n"
     ]
    },
    {
     "name": "stderr",
     "output_type": "stream",
     "text": [
      " 83%|████████▎ | 834/1000 [5:19:57<1:00:01, 21.70s/it]"
     ]
    },
    {
     "name": "stdout",
     "output_type": "stream",
     "text": [
      "eigenvalues shape torch.Size([5]) eigenvectors shape torch.Size([5, 375])\n",
      "834 /home/phdcs2/Hard_Disk/Datasets/Deep-Spectral-Segmentation/data/object-segmentation/ECSSD/features/dino_vits16/0835.pth\n",
      "0835\n",
      "Starting Training\n",
      "epoch: 00, loss: -0.39294\n",
      "epoch: 01, loss: -0.39730\n",
      "epoch: 02, loss: -0.39794\n",
      "epoch: 03, loss: -0.39798\n",
      "epoch: 04, loss: -0.39857\n",
      "epoch: 05, loss: -0.39825\n",
      "epoch: 06, loss: -0.39917\n",
      "epoch: 07, loss: -0.39818\n",
      "epoch: 08, loss: -0.39827\n",
      "epoch: 09, loss: -0.39798\n"
     ]
    },
    {
     "name": "stderr",
     "output_type": "stream",
     "text": [
      " 84%|████████▎ | 835/1000 [5:20:16<57:26, 20.89s/it]  "
     ]
    },
    {
     "name": "stdout",
     "output_type": "stream",
     "text": [
      "eigenvalues shape torch.Size([5]) eigenvectors shape torch.Size([5, 375])\n",
      "835 /home/phdcs2/Hard_Disk/Datasets/Deep-Spectral-Segmentation/data/object-segmentation/ECSSD/features/dino_vits16/0836.pth\n",
      "0836\n",
      "Starting Training\n",
      "epoch: 00, loss: -0.64775\n",
      "epoch: 01, loss: -0.69908\n",
      "epoch: 02, loss: -0.70099\n",
      "epoch: 03, loss: -0.70206\n",
      "epoch: 04, loss: -0.70308\n",
      "epoch: 05, loss: -0.70378\n",
      "epoch: 06, loss: -0.70450\n",
      "epoch: 07, loss: -0.70522\n",
      "epoch: 08, loss: -0.70597\n",
      "epoch: 09, loss: -0.70635\n"
     ]
    },
    {
     "name": "stderr",
     "output_type": "stream",
     "text": [
      " 84%|████████▎ | 836/1000 [5:20:40<59:54, 21.92s/it]"
     ]
    },
    {
     "name": "stdout",
     "output_type": "stream",
     "text": [
      "eigenvalues shape torch.Size([5]) eigenvectors shape torch.Size([5, 475])\n",
      "836 /home/phdcs2/Hard_Disk/Datasets/Deep-Spectral-Segmentation/data/object-segmentation/ECSSD/features/dino_vits16/0837.pth\n",
      "0837\n",
      "Starting Training\n",
      "epoch: 00, loss: -0.42232\n",
      "epoch: 01, loss: -0.42363\n",
      "epoch: 02, loss: -0.42571\n",
      "epoch: 03, loss: -0.42900\n",
      "epoch: 04, loss: -0.43173\n",
      "epoch: 05, loss: -0.43610\n",
      "epoch: 06, loss: -0.43957\n",
      "epoch: 07, loss: -0.44311\n",
      "epoch: 08, loss: -0.44562\n",
      "epoch: 09, loss: -0.44832\n",
      " ** On entry to SLASCL parameter number  4 had an illegal value\n",
      " ** On entry to SLASCL parameter number  4 had an illegal value\n"
     ]
    },
    {
     "name": "stderr",
     "output_type": "stream",
     "text": [
      "/home/phdcs2/Hard_Disk/Projects/T2I/deep-spectral-segmentation/venv/lib/python3.8/site-packages/scipy/sparse/linalg/_eigen/arpack/arpack.py:935: LinAlgWarning: Diagonal number 425 is exactly zero. Singular matrix.\n",
      "  self.M_lu = lu_factor(M)\n",
      " 84%|████████▎ | 837/1000 [5:21:01<58:57, 21.70s/it]"
     ]
    },
    {
     "name": "stdout",
     "output_type": "stream",
     "text": [
      "eigenvalues shape torch.Size([5]) eigenvectors shape torch.Size([5, 425])\n",
      "837 /home/phdcs2/Hard_Disk/Datasets/Deep-Spectral-Segmentation/data/object-segmentation/ECSSD/features/dino_vits16/0838.pth\n",
      "0838\n",
      "Starting Training\n",
      "epoch: 00, loss: -0.42928\n",
      "epoch: 01, loss: -0.42554\n",
      "epoch: 02, loss: -0.42928\n",
      "epoch: 03, loss: -0.43078\n",
      "epoch: 04, loss: -0.43292\n",
      "epoch: 05, loss: -0.43445\n",
      "epoch: 06, loss: -0.43599\n",
      "epoch: 07, loss: -0.43747\n",
      "epoch: 08, loss: -0.43919\n",
      "epoch: 09, loss: -0.44068\n"
     ]
    },
    {
     "name": "stderr",
     "output_type": "stream",
     "text": [
      " 84%|████████▍ | 838/1000 [5:21:21<56:59, 21.11s/it]"
     ]
    },
    {
     "name": "stdout",
     "output_type": "stream",
     "text": [
      "eigenvalues shape torch.Size([5]) eigenvectors shape torch.Size([5, 400])\n",
      "838 /home/phdcs2/Hard_Disk/Datasets/Deep-Spectral-Segmentation/data/object-segmentation/ECSSD/features/dino_vits16/0839.pth\n",
      "0839\n",
      "Starting Training\n",
      "epoch: 00, loss: -0.40277\n",
      "epoch: 01, loss: -0.41410\n",
      "epoch: 02, loss: -0.41687\n",
      "epoch: 03, loss: -0.42014\n",
      "epoch: 04, loss: -0.42015\n",
      "epoch: 05, loss: -0.42119\n",
      "epoch: 06, loss: -0.42269\n",
      "epoch: 07, loss: -0.42334\n",
      "epoch: 08, loss: -0.42538\n",
      "epoch: 09, loss: -0.42599\n"
     ]
    },
    {
     "name": "stderr",
     "output_type": "stream",
     "text": [
      " 84%|████████▍ | 839/1000 [5:21:49<1:01:43, 23.00s/it]"
     ]
    },
    {
     "name": "stdout",
     "output_type": "stream",
     "text": [
      "eigenvalues shape torch.Size([5]) eigenvectors shape torch.Size([5, 525])\n",
      "839 /home/phdcs2/Hard_Disk/Datasets/Deep-Spectral-Segmentation/data/object-segmentation/ECSSD/features/dino_vits16/0840.pth\n",
      "0840\n",
      "Starting Training\n",
      "epoch: 00, loss: -0.37329\n",
      "epoch: 01, loss: -0.36503\n",
      "epoch: 02, loss: -0.36107\n",
      "epoch: 03, loss: -0.36073\n",
      "epoch: 04, loss: -0.36187\n",
      "epoch: 05, loss: -0.36481\n",
      "epoch: 06, loss: -0.36469\n",
      "epoch: 07, loss: -0.36611\n",
      "epoch: 08, loss: -0.36782\n",
      "epoch: 09, loss: -0.36947\n"
     ]
    },
    {
     "name": "stderr",
     "output_type": "stream",
     "text": [
      " 84%|████████▍ | 840/1000 [5:22:12<1:01:16, 22.98s/it]"
     ]
    },
    {
     "name": "stdout",
     "output_type": "stream",
     "text": [
      "eigenvalues shape torch.Size([5]) eigenvectors shape torch.Size([5, 450])\n",
      "840 /home/phdcs2/Hard_Disk/Datasets/Deep-Spectral-Segmentation/data/object-segmentation/ECSSD/features/dino_vits16/0841.pth\n",
      "0841\n",
      "Starting Training\n",
      "epoch: 00, loss: -0.53899\n",
      "epoch: 01, loss: -0.63487\n",
      "epoch: 02, loss: -0.64365\n",
      "epoch: 03, loss: -0.64650\n",
      "epoch: 04, loss: -0.64832\n",
      "epoch: 05, loss: -0.65008\n",
      "epoch: 06, loss: -0.65075\n",
      "epoch: 07, loss: -0.65158\n",
      "epoch: 08, loss: -0.65263\n",
      "epoch: 09, loss: -0.65283\n"
     ]
    },
    {
     "name": "stderr",
     "output_type": "stream",
     "text": [
      " 84%|████████▍ | 841/1000 [5:22:32<58:49, 22.20s/it]  "
     ]
    },
    {
     "name": "stdout",
     "output_type": "stream",
     "text": [
      "eigenvalues shape torch.Size([5]) eigenvectors shape torch.Size([5, 400])\n",
      "841 /home/phdcs2/Hard_Disk/Datasets/Deep-Spectral-Segmentation/data/object-segmentation/ECSSD/features/dino_vits16/0842.pth\n",
      "0842\n",
      "Starting Training\n",
      "epoch: 00, loss: -0.36867\n",
      "epoch: 01, loss: -0.37070\n",
      "epoch: 02, loss: -0.37243\n",
      "epoch: 03, loss: -0.37019\n",
      "epoch: 04, loss: -0.36909\n",
      "epoch: 05, loss: -0.36757\n",
      "epoch: 06, loss: -0.36672\n",
      "epoch: 07, loss: -0.36578\n",
      "epoch: 08, loss: -0.36404\n",
      "epoch: 09, loss: -0.36498\n"
     ]
    },
    {
     "name": "stderr",
     "output_type": "stream",
     "text": [
      " 84%|████████▍ | 842/1000 [5:22:53<57:11, 21.72s/it]"
     ]
    },
    {
     "name": "stdout",
     "output_type": "stream",
     "text": [
      "eigenvalues shape torch.Size([5]) eigenvectors shape torch.Size([5, 400])\n",
      "842 /home/phdcs2/Hard_Disk/Datasets/Deep-Spectral-Segmentation/data/object-segmentation/ECSSD/features/dino_vits16/0843.pth\n",
      "0843\n",
      "Starting Training\n",
      "epoch: 00, loss: -0.60457\n",
      "epoch: 01, loss: -0.64537\n",
      "epoch: 02, loss: -0.64895\n",
      "epoch: 03, loss: -0.65136\n",
      "epoch: 04, loss: -0.65275\n",
      "epoch: 05, loss: -0.65415\n",
      "epoch: 06, loss: -0.65520\n",
      "epoch: 07, loss: -0.65589\n",
      "epoch: 08, loss: -0.65692\n",
      "epoch: 09, loss: -0.65744\n"
     ]
    },
    {
     "name": "stderr",
     "output_type": "stream",
     "text": [
      " 84%|████████▍ | 843/1000 [5:23:13<55:34, 21.24s/it]"
     ]
    },
    {
     "name": "stdout",
     "output_type": "stream",
     "text": [
      "eigenvalues shape torch.Size([5]) eigenvectors shape torch.Size([5, 400])\n",
      "843 /home/phdcs2/Hard_Disk/Datasets/Deep-Spectral-Segmentation/data/object-segmentation/ECSSD/features/dino_vits16/0844.pth\n",
      "0844\n",
      "Starting Training\n",
      "epoch: 00, loss: -0.36810\n",
      "epoch: 01, loss: -0.36347\n",
      "epoch: 02, loss: -0.36591\n",
      "epoch: 03, loss: -0.36273\n",
      "epoch: 04, loss: -0.35952\n",
      "epoch: 05, loss: -0.35595\n",
      "epoch: 06, loss: -0.35303\n",
      "epoch: 07, loss: -0.35121\n",
      "epoch: 08, loss: -0.35033\n",
      "epoch: 09, loss: -0.35015\n"
     ]
    },
    {
     "name": "stderr",
     "output_type": "stream",
     "text": [
      " 84%|████████▍ | 844/1000 [5:23:33<54:32, 20.98s/it]"
     ]
    },
    {
     "name": "stdout",
     "output_type": "stream",
     "text": [
      "eigenvalues shape torch.Size([5]) eigenvectors shape torch.Size([5, 400])\n",
      "844 /home/phdcs2/Hard_Disk/Datasets/Deep-Spectral-Segmentation/data/object-segmentation/ECSSD/features/dino_vits16/0845.pth\n",
      "0845\n",
      "Starting Training\n",
      "epoch: 00, loss: -0.39409\n",
      "epoch: 01, loss: -0.40637\n",
      "epoch: 02, loss: -0.40872\n",
      "epoch: 03, loss: -0.41046\n",
      "epoch: 04, loss: -0.41039\n",
      "epoch: 05, loss: -0.41139\n",
      "epoch: 06, loss: -0.41195\n",
      "epoch: 07, loss: -0.41228\n",
      "epoch: 08, loss: -0.41336\n"
     ]
    },
    {
     "name": "stderr",
     "output_type": "stream",
     "text": [
      " 84%|████████▍ | 845/1000 [5:23:48<49:11, 19.04s/it]"
     ]
    },
    {
     "name": "stdout",
     "output_type": "stream",
     "text": [
      "epoch: 09, loss: -0.41447\n",
      "eigenvalues shape torch.Size([5]) eigenvectors shape torch.Size([5, 300])\n",
      "845 /home/phdcs2/Hard_Disk/Datasets/Deep-Spectral-Segmentation/data/object-segmentation/ECSSD/features/dino_vits16/0846.pth\n",
      "0846\n",
      "Starting Training\n",
      "epoch: 00, loss: -0.53904\n",
      "epoch: 01, loss: -0.66169\n",
      "epoch: 02, loss: -0.67645\n",
      "epoch: 03, loss: -0.68261\n",
      "epoch: 04, loss: -0.68622\n",
      "epoch: 05, loss: -0.68918\n",
      "epoch: 06, loss: -0.69125\n",
      "epoch: 07, loss: -0.69303\n",
      "epoch: 08, loss: -0.69447\n",
      "epoch: 09, loss: -0.69567\n"
     ]
    },
    {
     "name": "stderr",
     "output_type": "stream",
     "text": [
      " 85%|████████▍ | 846/1000 [5:24:08<49:45, 19.38s/it]"
     ]
    },
    {
     "name": "stdout",
     "output_type": "stream",
     "text": [
      "eigenvalues shape torch.Size([5]) eigenvectors shape torch.Size([5, 400])\n",
      "846 /home/phdcs2/Hard_Disk/Datasets/Deep-Spectral-Segmentation/data/object-segmentation/ECSSD/features/dino_vits16/0847.pth\n",
      "0847\n",
      "Starting Training\n",
      "epoch: 00, loss: -0.42319\n",
      "epoch: 01, loss: -0.44312\n",
      "epoch: 02, loss: -0.44385\n",
      "epoch: 03, loss: -0.44384\n",
      "epoch: 04, loss: -0.44482\n",
      "epoch: 05, loss: -0.44598\n",
      "epoch: 06, loss: -0.44723\n",
      "epoch: 07, loss: -0.44861\n",
      "epoch: 08, loss: -0.44978\n",
      "epoch: 09, loss: -0.45196\n"
     ]
    },
    {
     "name": "stderr",
     "output_type": "stream",
     "text": [
      " 85%|████████▍ | 847/1000 [5:24:28<50:07, 19.66s/it]"
     ]
    },
    {
     "name": "stdout",
     "output_type": "stream",
     "text": [
      "eigenvalues shape torch.Size([5]) eigenvectors shape torch.Size([5, 400])\n",
      "847 /home/phdcs2/Hard_Disk/Datasets/Deep-Spectral-Segmentation/data/object-segmentation/ECSSD/features/dino_vits16/0848.pth\n",
      "0848\n",
      "Starting Training\n",
      "epoch: 00, loss: -0.41618\n",
      "epoch: 01, loss: -0.42664\n",
      "epoch: 02, loss: -0.41909\n",
      "epoch: 03, loss: -0.41517\n",
      "epoch: 04, loss: -0.41448\n",
      "epoch: 05, loss: -0.41412\n",
      "epoch: 06, loss: -0.41373\n",
      "epoch: 07, loss: -0.41453\n",
      "epoch: 08, loss: -0.41539\n",
      "epoch: 09, loss: -0.41637\n"
     ]
    },
    {
     "name": "stderr",
     "output_type": "stream",
     "text": [
      " 85%|████████▍ | 848/1000 [5:24:52<53:07, 20.97s/it]"
     ]
    },
    {
     "name": "stdout",
     "output_type": "stream",
     "text": [
      "eigenvalues shape torch.Size([5]) eigenvectors shape torch.Size([5, 400])\n",
      "848 /home/phdcs2/Hard_Disk/Datasets/Deep-Spectral-Segmentation/data/object-segmentation/ECSSD/features/dino_vits16/0849.pth\n",
      "0849\n",
      "Starting Training\n",
      "epoch: 00, loss: -0.63209\n",
      "epoch: 01, loss: -0.67434\n",
      "epoch: 02, loss: -0.67750\n",
      "epoch: 03, loss: -0.67868\n",
      "epoch: 04, loss: -0.67992\n",
      "epoch: 05, loss: -0.68110\n",
      "epoch: 06, loss: -0.68163\n",
      "epoch: 07, loss: -0.68236\n",
      "epoch: 08, loss: -0.68295\n",
      "epoch: 09, loss: -0.68304\n"
     ]
    },
    {
     "name": "stderr",
     "output_type": "stream",
     "text": [
      " 85%|████████▍ | 849/1000 [5:25:10<50:51, 20.21s/it]"
     ]
    },
    {
     "name": "stdout",
     "output_type": "stream",
     "text": [
      "eigenvalues shape torch.Size([5]) eigenvectors shape torch.Size([5, 350])\n",
      "849 /home/phdcs2/Hard_Disk/Datasets/Deep-Spectral-Segmentation/data/object-segmentation/ECSSD/features/dino_vits16/0850.pth\n",
      "0850\n",
      "Starting Training\n",
      "epoch: 00, loss: -0.43281\n",
      "epoch: 01, loss: -0.44877\n",
      "epoch: 02, loss: -0.45163\n",
      "epoch: 03, loss: -0.45197\n",
      "epoch: 04, loss: -0.45381\n",
      "epoch: 05, loss: -0.45550\n",
      "epoch: 06, loss: -0.45756\n",
      "epoch: 07, loss: -0.45834\n",
      "epoch: 08, loss: -0.45997\n",
      "epoch: 09, loss: -0.46167\n"
     ]
    },
    {
     "name": "stderr",
     "output_type": "stream",
     "text": [
      " 85%|████████▌ | 850/1000 [5:25:31<50:48, 20.33s/it]"
     ]
    },
    {
     "name": "stdout",
     "output_type": "stream",
     "text": [
      "eigenvalues shape torch.Size([5]) eigenvectors shape torch.Size([5, 400])\n",
      "850 /home/phdcs2/Hard_Disk/Datasets/Deep-Spectral-Segmentation/data/object-segmentation/ECSSD/features/dino_vits16/0851.pth\n",
      "0851\n",
      "Starting Training\n",
      "epoch: 00, loss: -0.62106\n",
      "epoch: 01, loss: -0.66357\n",
      "epoch: 02, loss: -0.66565\n",
      "epoch: 03, loss: -0.66656\n",
      "epoch: 04, loss: -0.66746\n",
      "epoch: 05, loss: -0.66803\n",
      "epoch: 06, loss: -0.66834\n",
      "epoch: 07, loss: -0.66898\n",
      "epoch: 08, loss: -0.66918\n",
      "epoch: 09, loss: -0.66938\n"
     ]
    },
    {
     "name": "stderr",
     "output_type": "stream",
     "text": [
      " 85%|████████▌ | 851/1000 [5:25:51<50:29, 20.33s/it]"
     ]
    },
    {
     "name": "stdout",
     "output_type": "stream",
     "text": [
      "eigenvalues shape torch.Size([5]) eigenvectors shape torch.Size([5, 400])\n",
      "851 /home/phdcs2/Hard_Disk/Datasets/Deep-Spectral-Segmentation/data/object-segmentation/ECSSD/features/dino_vits16/0852.pth\n",
      "0852\n",
      "Starting Training\n",
      "epoch: 00, loss: -0.40723\n",
      "epoch: 01, loss: -0.42615\n",
      "epoch: 02, loss: -0.43118\n",
      "epoch: 03, loss: -0.43529\n",
      "epoch: 04, loss: -0.43913\n",
      "epoch: 05, loss: -0.44180\n",
      "epoch: 06, loss: -0.44415\n",
      "epoch: 07, loss: -0.44599\n",
      "epoch: 08, loss: -0.44785\n",
      "epoch: 09, loss: -0.44898\n"
     ]
    },
    {
     "name": "stderr",
     "output_type": "stream",
     "text": [
      " 85%|████████▌ | 852/1000 [5:26:13<51:05, 20.71s/it]"
     ]
    },
    {
     "name": "stdout",
     "output_type": "stream",
     "text": [
      "eigenvalues shape torch.Size([5]) eigenvectors shape torch.Size([5, 425])\n",
      "852 /home/phdcs2/Hard_Disk/Datasets/Deep-Spectral-Segmentation/data/object-segmentation/ECSSD/features/dino_vits16/0853.pth\n",
      "0853\n",
      "Starting Training\n",
      "epoch: 00, loss: -0.38681\n",
      "epoch: 01, loss: -0.39290\n",
      "epoch: 02, loss: -0.39228\n",
      "epoch: 03, loss: -0.38928\n",
      "epoch: 04, loss: -0.38521\n",
      "epoch: 05, loss: -0.38091\n",
      "epoch: 06, loss: -0.37862\n",
      "epoch: 07, loss: -0.37727\n",
      "epoch: 08, loss: -0.37498\n",
      "epoch: 09, loss: -0.37278\n"
     ]
    },
    {
     "name": "stderr",
     "output_type": "stream",
     "text": [
      " 85%|████████▌ | 853/1000 [5:26:33<50:29, 20.61s/it]"
     ]
    },
    {
     "name": "stdout",
     "output_type": "stream",
     "text": [
      "eigenvalues shape torch.Size([5]) eigenvectors shape torch.Size([5, 400])\n",
      "853 /home/phdcs2/Hard_Disk/Datasets/Deep-Spectral-Segmentation/data/object-segmentation/ECSSD/features/dino_vits16/0854.pth\n",
      "0854\n",
      "Starting Training\n",
      "epoch: 00, loss: -0.41280\n",
      "epoch: 01, loss: -0.43506\n",
      "epoch: 02, loss: -0.43916\n",
      "epoch: 03, loss: -0.44363\n",
      "epoch: 04, loss: -0.44810\n",
      "epoch: 05, loss: -0.45336\n",
      "epoch: 06, loss: -0.45724\n",
      "epoch: 07, loss: -0.46207\n",
      "epoch: 08, loss: -0.46464\n",
      "epoch: 09, loss: -0.46880\n"
     ]
    },
    {
     "name": "stderr",
     "output_type": "stream",
     "text": [
      " 85%|████████▌ | 854/1000 [5:26:53<49:43, 20.43s/it]"
     ]
    },
    {
     "name": "stdout",
     "output_type": "stream",
     "text": [
      "eigenvalues shape torch.Size([5]) eigenvectors shape torch.Size([5, 400])\n",
      "854 /home/phdcs2/Hard_Disk/Datasets/Deep-Spectral-Segmentation/data/object-segmentation/ECSSD/features/dino_vits16/0855.pth\n",
      "0855\n",
      "Starting Training\n",
      "epoch: 00, loss: -0.39048\n",
      "epoch: 01, loss: -0.40208\n",
      "epoch: 02, loss: -0.40102\n",
      "epoch: 03, loss: -0.40322\n",
      "epoch: 04, loss: -0.40462\n",
      "epoch: 05, loss: -0.40489\n",
      "epoch: 06, loss: -0.40658\n",
      "epoch: 07, loss: -0.40824\n",
      "epoch: 08, loss: -0.40889\n",
      "epoch: 09, loss: -0.41004\n"
     ]
    },
    {
     "name": "stderr",
     "output_type": "stream",
     "text": [
      " 86%|████████▌ | 855/1000 [5:27:14<49:20, 20.42s/it]"
     ]
    },
    {
     "name": "stdout",
     "output_type": "stream",
     "text": [
      "eigenvalues shape torch.Size([5]) eigenvectors shape torch.Size([5, 400])\n",
      "855 /home/phdcs2/Hard_Disk/Datasets/Deep-Spectral-Segmentation/data/object-segmentation/ECSSD/features/dino_vits16/0856.pth\n",
      "0856\n",
      "Starting Training\n",
      "epoch: 00, loss: -0.39239\n",
      "epoch: 01, loss: -0.39811\n",
      "epoch: 02, loss: -0.39930\n",
      "epoch: 03, loss: -0.40064\n",
      "epoch: 04, loss: -0.40179\n",
      "epoch: 05, loss: -0.40226\n",
      "epoch: 06, loss: -0.40331\n",
      "epoch: 07, loss: -0.40433\n",
      "epoch: 08, loss: -0.40514\n",
      "epoch: 09, loss: -0.40530\n"
     ]
    },
    {
     "name": "stderr",
     "output_type": "stream",
     "text": [
      " 86%|████████▌ | 856/1000 [5:27:34<49:05, 20.46s/it]"
     ]
    },
    {
     "name": "stdout",
     "output_type": "stream",
     "text": [
      "eigenvalues shape torch.Size([5]) eigenvectors shape torch.Size([5, 400])\n",
      "856 /home/phdcs2/Hard_Disk/Datasets/Deep-Spectral-Segmentation/data/object-segmentation/ECSSD/features/dino_vits16/0857.pth\n",
      "0857\n",
      "Starting Training\n",
      "epoch: 00, loss: -0.40200\n",
      "epoch: 01, loss: -0.40296\n",
      "epoch: 02, loss: -0.40396\n",
      "epoch: 03, loss: -0.40527\n",
      "epoch: 04, loss: -0.40678\n",
      "epoch: 05, loss: -0.40847\n",
      "epoch: 06, loss: -0.40928\n",
      "epoch: 07, loss: -0.40957\n",
      "epoch: 08, loss: -0.41105\n",
      "epoch: 09, loss: -0.41223\n"
     ]
    },
    {
     "name": "stderr",
     "output_type": "stream",
     "text": [
      " 86%|████████▌ | 857/1000 [5:27:57<50:23, 21.15s/it]"
     ]
    },
    {
     "name": "stdout",
     "output_type": "stream",
     "text": [
      "eigenvalues shape torch.Size([5]) eigenvectors shape torch.Size([5, 450])\n",
      "857 /home/phdcs2/Hard_Disk/Datasets/Deep-Spectral-Segmentation/data/object-segmentation/ECSSD/features/dino_vits16/0858.pth\n",
      "0858\n",
      "Starting Training\n",
      "epoch: 00, loss: -0.40339\n",
      "epoch: 01, loss: -0.42852\n",
      "epoch: 02, loss: -0.43825\n",
      "epoch: 03, loss: -0.44501\n",
      "epoch: 04, loss: -0.45065\n",
      "epoch: 05, loss: -0.45331\n",
      "epoch: 06, loss: -0.45613\n",
      "epoch: 07, loss: -0.45889\n",
      "epoch: 08, loss: -0.46099\n",
      "epoch: 09, loss: -0.46273\n"
     ]
    },
    {
     "name": "stderr",
     "output_type": "stream",
     "text": [
      " 86%|████████▌ | 858/1000 [5:28:18<50:03, 21.15s/it]"
     ]
    },
    {
     "name": "stdout",
     "output_type": "stream",
     "text": [
      "eigenvalues shape torch.Size([5]) eigenvectors shape torch.Size([5, 425])\n",
      "858 /home/phdcs2/Hard_Disk/Datasets/Deep-Spectral-Segmentation/data/object-segmentation/ECSSD/features/dino_vits16/0859.pth\n",
      "0859\n",
      "Starting Training\n",
      "epoch: 00, loss: -0.41121\n",
      "epoch: 01, loss: -0.41716\n",
      "epoch: 02, loss: -0.41901\n",
      "epoch: 03, loss: -0.42042\n",
      "epoch: 04, loss: -0.42238\n",
      "epoch: 05, loss: -0.42384\n",
      "epoch: 06, loss: -0.42582\n",
      "epoch: 07, loss: -0.42730\n",
      "epoch: 08, loss: -0.42916\n",
      "epoch: 09, loss: -0.42965\n"
     ]
    },
    {
     "name": "stderr",
     "output_type": "stream",
     "text": [
      " 86%|████████▌ | 859/1000 [5:28:38<48:50, 20.78s/it]"
     ]
    },
    {
     "name": "stdout",
     "output_type": "stream",
     "text": [
      "eigenvalues shape torch.Size([5]) eigenvectors shape torch.Size([5, 400])\n",
      "859 /home/phdcs2/Hard_Disk/Datasets/Deep-Spectral-Segmentation/data/object-segmentation/ECSSD/features/dino_vits16/0860.pth\n",
      "0860\n",
      "Starting Training\n",
      "epoch: 00, loss: -0.40181\n",
      "epoch: 01, loss: -0.40475\n",
      "epoch: 02, loss: -0.40159\n",
      "epoch: 03, loss: -0.39859\n",
      "epoch: 04, loss: -0.39525\n",
      "epoch: 05, loss: -0.39300\n",
      "epoch: 06, loss: -0.39169\n",
      "epoch: 07, loss: -0.39108\n",
      "epoch: 08, loss: -0.38994\n",
      "epoch: 09, loss: -0.38950\n"
     ]
    },
    {
     "name": "stderr",
     "output_type": "stream",
     "text": [
      " 86%|████████▌ | 860/1000 [5:28:57<47:17, 20.27s/it]"
     ]
    },
    {
     "name": "stdout",
     "output_type": "stream",
     "text": [
      "eigenvalues shape torch.Size([5]) eigenvectors shape torch.Size([5, 400])\n",
      "860 /home/phdcs2/Hard_Disk/Datasets/Deep-Spectral-Segmentation/data/object-segmentation/ECSSD/features/dino_vits16/0861.pth\n",
      "0861\n",
      "Starting Training\n",
      "epoch: 00, loss: -0.41814\n",
      "epoch: 01, loss: -0.43236\n",
      "epoch: 02, loss: -0.43327\n",
      "epoch: 03, loss: -0.43423\n",
      "epoch: 04, loss: -0.43576\n",
      "epoch: 05, loss: -0.43739\n",
      "epoch: 06, loss: -0.43837\n",
      "epoch: 07, loss: -0.43906\n",
      "epoch: 08, loss: -0.44075\n",
      "epoch: 09, loss: -0.44228\n"
     ]
    },
    {
     "name": "stderr",
     "output_type": "stream",
     "text": [
      " 86%|████████▌ | 861/1000 [5:29:18<46:57, 20.27s/it]"
     ]
    },
    {
     "name": "stdout",
     "output_type": "stream",
     "text": [
      "eigenvalues shape torch.Size([5]) eigenvectors shape torch.Size([5, 400])\n",
      "861 /home/phdcs2/Hard_Disk/Datasets/Deep-Spectral-Segmentation/data/object-segmentation/ECSSD/features/dino_vits16/0862.pth\n",
      "0862\n",
      "Starting Training\n",
      "epoch: 00, loss: -0.36889\n",
      "epoch: 01, loss: -0.38009\n",
      "epoch: 02, loss: -0.39204\n",
      "epoch: 03, loss: -0.40024\n",
      "epoch: 04, loss: -0.40548\n",
      "epoch: 05, loss: -0.40989\n",
      "epoch: 06, loss: -0.41302\n",
      "epoch: 07, loss: -0.41534\n",
      "epoch: 08, loss: -0.41715\n",
      "epoch: 09, loss: -0.42045\n"
     ]
    },
    {
     "name": "stderr",
     "output_type": "stream",
     "text": [
      " 86%|████████▌ | 862/1000 [5:29:50<55:00, 23.92s/it]"
     ]
    },
    {
     "name": "stdout",
     "output_type": "stream",
     "text": [
      "eigenvalues shape torch.Size([5]) eigenvectors shape torch.Size([5, 625])\n",
      "862 /home/phdcs2/Hard_Disk/Datasets/Deep-Spectral-Segmentation/data/object-segmentation/ECSSD/features/dino_vits16/0863.pth\n",
      "0863\n",
      "Starting Training\n",
      "epoch: 00, loss: -0.39840\n",
      "epoch: 01, loss: -0.41099\n",
      "epoch: 02, loss: -0.41283\n",
      "epoch: 03, loss: -0.41206\n",
      "epoch: 04, loss: -0.41125\n",
      "epoch: 05, loss: -0.41038\n",
      "epoch: 06, loss: -0.40884\n",
      "epoch: 07, loss: -0.40572\n",
      "epoch: 08, loss: -0.40466\n",
      "epoch: 09, loss: -0.40067\n"
     ]
    },
    {
     "name": "stderr",
     "output_type": "stream",
     "text": [
      " 86%|████████▋ | 863/1000 [5:30:11<52:25, 22.96s/it]"
     ]
    },
    {
     "name": "stdout",
     "output_type": "stream",
     "text": [
      "eigenvalues shape torch.Size([5]) eigenvectors shape torch.Size([5, 400])\n",
      "863 /home/phdcs2/Hard_Disk/Datasets/Deep-Spectral-Segmentation/data/object-segmentation/ECSSD/features/dino_vits16/0864.pth\n",
      "0864\n",
      "Starting Training\n",
      "epoch: 00, loss: -0.41015\n",
      "epoch: 01, loss: -0.41552\n",
      "epoch: 02, loss: -0.41547\n",
      "epoch: 03, loss: -0.41546\n",
      "epoch: 04, loss: -0.41667\n",
      "epoch: 05, loss: -0.41872\n",
      "epoch: 06, loss: -0.42129\n",
      "epoch: 07, loss: -0.42474\n",
      "epoch: 08, loss: -0.42701\n",
      "epoch: 09, loss: -0.42943\n"
     ]
    },
    {
     "name": "stderr",
     "output_type": "stream",
     "text": [
      " 86%|████████▋ | 864/1000 [5:30:28<48:16, 21.30s/it]"
     ]
    },
    {
     "name": "stdout",
     "output_type": "stream",
     "text": [
      "eigenvalues shape torch.Size([5]) eigenvectors shape torch.Size([5, 350])\n",
      "864 /home/phdcs2/Hard_Disk/Datasets/Deep-Spectral-Segmentation/data/object-segmentation/ECSSD/features/dino_vits16/0865.pth\n",
      "0865\n",
      "Starting Training\n",
      "epoch: 00, loss: -0.47482\n",
      "epoch: 01, loss: -0.48341\n",
      "epoch: 02, loss: -0.48501\n",
      "epoch: 03, loss: -0.48496\n",
      "epoch: 04, loss: -0.48385\n",
      "epoch: 05, loss: -0.48219\n",
      "epoch: 06, loss: -0.48169\n",
      "epoch: 07, loss: -0.48085\n",
      "epoch: 08, loss: -0.48056\n",
      "epoch: 09, loss: -0.48032\n"
     ]
    },
    {
     "name": "stderr",
     "output_type": "stream",
     "text": [
      " 86%|████████▋ | 865/1000 [5:30:49<47:18, 21.03s/it]"
     ]
    },
    {
     "name": "stdout",
     "output_type": "stream",
     "text": [
      "eigenvalues shape torch.Size([5]) eigenvectors shape torch.Size([5, 400])\n",
      "865 /home/phdcs2/Hard_Disk/Datasets/Deep-Spectral-Segmentation/data/object-segmentation/ECSSD/features/dino_vits16/0866.pth\n",
      "0866\n",
      "Starting Training\n",
      "epoch: 00, loss: -0.38383\n",
      "epoch: 01, loss: -0.39591\n",
      "epoch: 02, loss: -0.40334\n",
      "epoch: 03, loss: -0.40829\n",
      "epoch: 04, loss: -0.41145\n",
      "epoch: 05, loss: -0.41566\n",
      "epoch: 06, loss: -0.41756\n",
      "epoch: 07, loss: -0.42025\n",
      "epoch: 08, loss: -0.42156\n",
      "epoch: 09, loss: -0.42417\n"
     ]
    },
    {
     "name": "stderr",
     "output_type": "stream",
     "text": [
      " 87%|████████▋ | 866/1000 [5:31:09<46:32, 20.84s/it]"
     ]
    },
    {
     "name": "stdout",
     "output_type": "stream",
     "text": [
      "eigenvalues shape torch.Size([5]) eigenvectors shape torch.Size([5, 400])\n",
      "866 /home/phdcs2/Hard_Disk/Datasets/Deep-Spectral-Segmentation/data/object-segmentation/ECSSD/features/dino_vits16/0867.pth\n",
      "0867\n",
      "Starting Training\n",
      "epoch: 00, loss: -0.59228\n",
      "epoch: 01, loss: -0.62050\n",
      "epoch: 02, loss: -0.62289\n",
      "epoch: 03, loss: -0.62474\n",
      "epoch: 04, loss: -0.62668\n",
      "epoch: 05, loss: -0.62847\n",
      "epoch: 06, loss: -0.62982\n",
      "epoch: 07, loss: -0.63132\n",
      "epoch: 08, loss: -0.63209\n",
      "epoch: 09, loss: -0.63276\n"
     ]
    },
    {
     "name": "stderr",
     "output_type": "stream",
     "text": [
      " 87%|████████▋ | 867/1000 [5:31:31<47:14, 21.31s/it]"
     ]
    },
    {
     "name": "stdout",
     "output_type": "stream",
     "text": [
      "eigenvalues shape torch.Size([5]) eigenvectors shape torch.Size([5, 450])\n",
      "867 /home/phdcs2/Hard_Disk/Datasets/Deep-Spectral-Segmentation/data/object-segmentation/ECSSD/features/dino_vits16/0868.pth\n",
      "0868\n",
      "Starting Training\n",
      "epoch: 00, loss: -0.37306\n",
      "epoch: 01, loss: -0.36972\n",
      "epoch: 02, loss: -0.36946\n",
      "epoch: 03, loss: -0.37016\n",
      "epoch: 04, loss: -0.37128\n",
      "epoch: 05, loss: -0.37231\n",
      "epoch: 06, loss: -0.37320\n",
      "epoch: 07, loss: -0.37420\n",
      "epoch: 08, loss: -0.37565\n",
      "epoch: 09, loss: -0.37719\n"
     ]
    },
    {
     "name": "stderr",
     "output_type": "stream",
     "text": [
      " 87%|████████▋ | 868/1000 [5:31:55<48:16, 21.95s/it]"
     ]
    },
    {
     "name": "stdout",
     "output_type": "stream",
     "text": [
      "eigenvalues shape torch.Size([5]) eigenvectors shape torch.Size([5, 450])\n",
      "868 /home/phdcs2/Hard_Disk/Datasets/Deep-Spectral-Segmentation/data/object-segmentation/ECSSD/features/dino_vits16/0869.pth\n",
      "0869\n",
      "Starting Training\n",
      "epoch: 00, loss: -0.35434\n",
      "epoch: 01, loss: -0.35777\n",
      "epoch: 02, loss: -0.36177\n",
      "epoch: 03, loss: -0.36746\n",
      "epoch: 04, loss: -0.37170\n",
      "epoch: 05, loss: -0.37633\n",
      "epoch: 06, loss: -0.37909\n",
      "epoch: 07, loss: -0.38396\n",
      "epoch: 08, loss: -0.38806\n",
      "epoch: 09, loss: -0.39107\n"
     ]
    },
    {
     "name": "stderr",
     "output_type": "stream",
     "text": [
      " 87%|████████▋ | 869/1000 [5:32:27<54:40, 25.05s/it]"
     ]
    },
    {
     "name": "stdout",
     "output_type": "stream",
     "text": [
      "eigenvalues shape torch.Size([5]) eigenvectors shape torch.Size([5, 625])\n",
      "869 /home/phdcs2/Hard_Disk/Datasets/Deep-Spectral-Segmentation/data/object-segmentation/ECSSD/features/dino_vits16/0870.pth\n",
      "0870\n",
      "Starting Training\n",
      "epoch: 00, loss: -0.34638\n",
      "epoch: 01, loss: -0.34719\n",
      "epoch: 02, loss: -0.35847\n",
      "epoch: 03, loss: -0.36599\n",
      "epoch: 04, loss: -0.37017\n",
      "epoch: 05, loss: -0.37249\n",
      "epoch: 06, loss: -0.37479\n",
      "epoch: 07, loss: -0.37673\n",
      "epoch: 08, loss: -0.38057\n",
      "epoch: 09, loss: -0.38282\n"
     ]
    },
    {
     "name": "stderr",
     "output_type": "stream",
     "text": [
      " 87%|████████▋ | 870/1000 [5:32:47<50:53, 23.49s/it]"
     ]
    },
    {
     "name": "stdout",
     "output_type": "stream",
     "text": [
      "eigenvalues shape torch.Size([5]) eigenvectors shape torch.Size([5, 400])\n",
      "870 /home/phdcs2/Hard_Disk/Datasets/Deep-Spectral-Segmentation/data/object-segmentation/ECSSD/features/dino_vits16/0871.pth\n",
      "0871\n",
      "Starting Training\n",
      "epoch: 00, loss: -0.41773\n",
      "epoch: 01, loss: -0.42334\n",
      "epoch: 02, loss: -0.42350\n",
      "epoch: 03, loss: -0.42268\n",
      "epoch: 04, loss: -0.42376\n",
      "epoch: 05, loss: -0.42410\n",
      "epoch: 06, loss: -0.42475\n",
      "epoch: 07, loss: -0.42514\n",
      "epoch: 08, loss: -0.42550\n",
      "epoch: 09, loss: -0.42615\n"
     ]
    },
    {
     "name": "stderr",
     "output_type": "stream",
     "text": [
      " 87%|████████▋ | 871/1000 [5:33:07<48:12, 22.42s/it]"
     ]
    },
    {
     "name": "stdout",
     "output_type": "stream",
     "text": [
      "eigenvalues shape torch.Size([5]) eigenvectors shape torch.Size([5, 400])\n",
      "871 /home/phdcs2/Hard_Disk/Datasets/Deep-Spectral-Segmentation/data/object-segmentation/ECSSD/features/dino_vits16/0872.pth\n",
      "0872\n",
      "Starting Training\n",
      "epoch: 00, loss: -0.39064\n",
      "epoch: 01, loss: -0.40259\n",
      "epoch: 02, loss: -0.40339\n",
      "epoch: 03, loss: -0.40395\n",
      "epoch: 04, loss: -0.40348\n",
      "epoch: 05, loss: -0.40246\n",
      "epoch: 06, loss: -0.40289\n",
      "epoch: 07, loss: -0.40319\n",
      "epoch: 08, loss: -0.40327\n",
      "epoch: 09, loss: -0.40256\n"
     ]
    },
    {
     "name": "stderr",
     "output_type": "stream",
     "text": [
      " 87%|████████▋ | 872/1000 [5:33:29<47:58, 22.49s/it]"
     ]
    },
    {
     "name": "stdout",
     "output_type": "stream",
     "text": [
      "eigenvalues shape torch.Size([5]) eigenvectors shape torch.Size([5, 450])\n",
      "872 /home/phdcs2/Hard_Disk/Datasets/Deep-Spectral-Segmentation/data/object-segmentation/ECSSD/features/dino_vits16/0873.pth\n",
      "0873\n",
      "Starting Training\n",
      "epoch: 00, loss: -0.52826\n",
      "epoch: 01, loss: -0.55834\n",
      "epoch: 02, loss: -0.56425\n",
      "epoch: 03, loss: -0.56946\n",
      "epoch: 04, loss: -0.57366\n",
      "epoch: 05, loss: -0.57748\n",
      "epoch: 06, loss: -0.58061\n",
      "epoch: 07, loss: -0.58327\n",
      "epoch: 08, loss: -0.58514\n",
      "epoch: 09, loss: -0.58765\n"
     ]
    },
    {
     "name": "stderr",
     "output_type": "stream",
     "text": [
      " 87%|████████▋ | 873/1000 [5:33:52<47:35, 22.48s/it]"
     ]
    },
    {
     "name": "stdout",
     "output_type": "stream",
     "text": [
      "eigenvalues shape torch.Size([5]) eigenvectors shape torch.Size([5, 450])\n",
      "873 /home/phdcs2/Hard_Disk/Datasets/Deep-Spectral-Segmentation/data/object-segmentation/ECSSD/features/dino_vits16/0874.pth\n",
      "0874\n",
      "Starting Training\n",
      "epoch: 00, loss: -0.61682\n",
      "epoch: 01, loss: -0.66071\n",
      "epoch: 02, loss: -0.66342\n",
      "epoch: 03, loss: -0.66486\n",
      "epoch: 04, loss: -0.66563\n",
      "epoch: 05, loss: -0.66637\n",
      "epoch: 06, loss: -0.66678\n",
      "epoch: 07, loss: -0.66775\n",
      "epoch: 08, loss: -0.66800\n",
      "epoch: 09, loss: -0.66856\n"
     ]
    },
    {
     "name": "stderr",
     "output_type": "stream",
     "text": [
      " 87%|████████▋ | 874/1000 [5:34:12<45:49, 21.82s/it]"
     ]
    },
    {
     "name": "stdout",
     "output_type": "stream",
     "text": [
      "eigenvalues shape torch.Size([5]) eigenvectors shape torch.Size([5, 400])\n",
      "874 /home/phdcs2/Hard_Disk/Datasets/Deep-Spectral-Segmentation/data/object-segmentation/ECSSD/features/dino_vits16/0875.pth\n",
      "0875\n",
      "Starting Training\n",
      "epoch: 00, loss: -0.40946\n",
      "epoch: 01, loss: -0.41962\n",
      "epoch: 02, loss: -0.42455\n",
      "epoch: 03, loss: -0.43047\n",
      "epoch: 04, loss: -0.43606\n",
      "epoch: 05, loss: -0.44148\n",
      "epoch: 06, loss: -0.44550\n",
      "epoch: 07, loss: -0.44990\n",
      "epoch: 08, loss: -0.45257\n",
      "epoch: 09, loss: -0.45499\n"
     ]
    },
    {
     "name": "stderr",
     "output_type": "stream",
     "text": [
      " 88%|████████▊ | 875/1000 [5:34:32<44:21, 21.29s/it]"
     ]
    },
    {
     "name": "stdout",
     "output_type": "stream",
     "text": [
      "eigenvalues shape torch.Size([5]) eigenvectors shape torch.Size([5, 400])\n",
      "875 /home/phdcs2/Hard_Disk/Datasets/Deep-Spectral-Segmentation/data/object-segmentation/ECSSD/features/dino_vits16/0876.pth\n",
      "0876\n",
      "Starting Training\n",
      "epoch: 00, loss: -0.39193\n",
      "epoch: 01, loss: -0.40295\n",
      "epoch: 02, loss: -0.40459\n",
      "epoch: 03, loss: -0.40645\n",
      "epoch: 04, loss: -0.40646\n",
      "epoch: 05, loss: -0.40740\n",
      "epoch: 06, loss: -0.40742\n",
      "epoch: 07, loss: -0.40917\n",
      "epoch: 08, loss: -0.40881\n",
      "epoch: 09, loss: -0.40986\n"
     ]
    },
    {
     "name": "stderr",
     "output_type": "stream",
     "text": [
      " 88%|████████▊ | 876/1000 [5:34:52<43:07, 20.87s/it]"
     ]
    },
    {
     "name": "stdout",
     "output_type": "stream",
     "text": [
      "eigenvalues shape torch.Size([5]) eigenvectors shape torch.Size([5, 400])\n",
      "876 /home/phdcs2/Hard_Disk/Datasets/Deep-Spectral-Segmentation/data/object-segmentation/ECSSD/features/dino_vits16/0877.pth\n",
      "0877\n",
      "Starting Training\n",
      "epoch: 00, loss: -0.36004\n",
      "epoch: 01, loss: -0.35791\n",
      "epoch: 02, loss: -0.35847\n",
      "epoch: 03, loss: -0.36196\n",
      "epoch: 04, loss: -0.36568\n",
      "epoch: 05, loss: -0.36879\n",
      "epoch: 06, loss: -0.37247\n",
      "epoch: 07, loss: -0.37496\n",
      "epoch: 08, loss: -0.37712\n",
      "epoch: 09, loss: -0.37961\n"
     ]
    },
    {
     "name": "stderr",
     "output_type": "stream",
     "text": [
      " 88%|████████▊ | 877/1000 [5:35:13<42:30, 20.73s/it]"
     ]
    },
    {
     "name": "stdout",
     "output_type": "stream",
     "text": [
      "eigenvalues shape torch.Size([5]) eigenvectors shape torch.Size([5, 400])\n",
      "877 /home/phdcs2/Hard_Disk/Datasets/Deep-Spectral-Segmentation/data/object-segmentation/ECSSD/features/dino_vits16/0878.pth\n",
      "0878\n",
      "Starting Training\n",
      "epoch: 00, loss: -0.43793\n",
      "epoch: 01, loss: -0.45299\n",
      "epoch: 02, loss: -0.45354\n",
      "epoch: 03, loss: -0.45066\n",
      "epoch: 04, loss: -0.44602\n",
      "epoch: 05, loss: -0.44558\n",
      "epoch: 06, loss: -0.44716\n",
      "epoch: 07, loss: -0.44848\n",
      "epoch: 08, loss: -0.45010\n",
      "epoch: 09, loss: -0.45114\n"
     ]
    },
    {
     "name": "stderr",
     "output_type": "stream",
     "text": [
      " 88%|████████▊ | 878/1000 [5:35:39<45:46, 22.51s/it]"
     ]
    },
    {
     "name": "stdout",
     "output_type": "stream",
     "text": [
      "eigenvalues shape torch.Size([5]) eigenvectors shape torch.Size([5, 525])\n",
      "878 /home/phdcs2/Hard_Disk/Datasets/Deep-Spectral-Segmentation/data/object-segmentation/ECSSD/features/dino_vits16/0879.pth\n",
      "0879\n",
      "Starting Training\n",
      "epoch: 00, loss: -0.39006\n",
      "epoch: 01, loss: -0.39766\n",
      "epoch: 02, loss: -0.39781\n",
      "epoch: 03, loss: -0.39893\n",
      "epoch: 04, loss: -0.39982\n",
      "epoch: 05, loss: -0.40056\n",
      "epoch: 06, loss: -0.40226\n",
      "epoch: 07, loss: -0.40381\n",
      "epoch: 08, loss: -0.40500\n",
      "epoch: 09, loss: -0.40728\n"
     ]
    },
    {
     "name": "stderr",
     "output_type": "stream",
     "text": [
      " 88%|████████▊ | 879/1000 [5:36:02<45:28, 22.55s/it]"
     ]
    },
    {
     "name": "stdout",
     "output_type": "stream",
     "text": [
      "eigenvalues shape torch.Size([5]) eigenvectors shape torch.Size([5, 450])\n",
      "879 /home/phdcs2/Hard_Disk/Datasets/Deep-Spectral-Segmentation/data/object-segmentation/ECSSD/features/dino_vits16/0880.pth\n",
      "0880\n",
      "Starting Training\n",
      "epoch: 00, loss: -0.65074\n",
      "epoch: 01, loss: -0.71071\n",
      "epoch: 02, loss: -0.71201\n",
      "epoch: 03, loss: -0.71265\n",
      "epoch: 04, loss: -0.71317\n",
      "epoch: 05, loss: -0.71354\n",
      "epoch: 06, loss: -0.71381\n",
      "epoch: 07, loss: -0.71416\n",
      "epoch: 08, loss: -0.71475\n",
      "epoch: 09, loss: -0.71465\n"
     ]
    },
    {
     "name": "stderr",
     "output_type": "stream",
     "text": [
      " 88%|████████▊ | 880/1000 [5:36:22<43:45, 21.88s/it]"
     ]
    },
    {
     "name": "stdout",
     "output_type": "stream",
     "text": [
      "eigenvalues shape torch.Size([5]) eigenvectors shape torch.Size([5, 400])\n",
      "880 /home/phdcs2/Hard_Disk/Datasets/Deep-Spectral-Segmentation/data/object-segmentation/ECSSD/features/dino_vits16/0881.pth\n",
      "0881\n",
      "Starting Training\n",
      "epoch: 00, loss: -0.37975\n",
      "epoch: 01, loss: -0.38871\n",
      "epoch: 02, loss: -0.39219\n",
      "epoch: 03, loss: -0.39421\n",
      "epoch: 04, loss: -0.39556\n",
      "epoch: 05, loss: -0.39717\n",
      "epoch: 06, loss: -0.39870\n",
      "epoch: 07, loss: -0.40035\n",
      "epoch: 08, loss: -0.40140\n"
     ]
    },
    {
     "name": "stderr",
     "output_type": "stream",
     "text": [
      " 88%|████████▊ | 881/1000 [5:36:42<42:04, 21.21s/it]"
     ]
    },
    {
     "name": "stdout",
     "output_type": "stream",
     "text": [
      "epoch: 09, loss: -0.40278\n",
      "eigenvalues shape torch.Size([5]) eigenvectors shape torch.Size([5, 400])\n",
      "881 /home/phdcs2/Hard_Disk/Datasets/Deep-Spectral-Segmentation/data/object-segmentation/ECSSD/features/dino_vits16/0882.pth\n",
      "0882\n",
      "Starting Training\n",
      "epoch: 00, loss: -0.39111\n",
      "epoch: 01, loss: -0.39615\n",
      "epoch: 02, loss: -0.39542\n",
      "epoch: 03, loss: -0.39590\n",
      "epoch: 04, loss: -0.39604\n",
      "epoch: 05, loss: -0.39651\n",
      "epoch: 06, loss: -0.39727\n",
      "epoch: 07, loss: -0.39734\n",
      "epoch: 08, loss: -0.39779\n",
      "epoch: 09, loss: -0.39894\n"
     ]
    },
    {
     "name": "stderr",
     "output_type": "stream",
     "text": [
      " 88%|████████▊ | 882/1000 [5:37:02<41:19, 21.02s/it]"
     ]
    },
    {
     "name": "stdout",
     "output_type": "stream",
     "text": [
      "eigenvalues shape torch.Size([5]) eigenvectors shape torch.Size([5, 400])\n",
      "882 /home/phdcs2/Hard_Disk/Datasets/Deep-Spectral-Segmentation/data/object-segmentation/ECSSD/features/dino_vits16/0883.pth\n",
      "0883\n",
      "Starting Training\n",
      "epoch: 00, loss: -0.37460\n",
      "epoch: 01, loss: -0.40803\n",
      "epoch: 02, loss: -0.43732\n",
      "epoch: 03, loss: -0.44887\n",
      "epoch: 04, loss: -0.45222\n",
      "epoch: 05, loss: -0.45764\n",
      "epoch: 06, loss: -0.46118\n",
      "epoch: 07, loss: -0.46328\n",
      "epoch: 08, loss: -0.46339\n",
      "epoch: 09, loss: -0.46399\n"
     ]
    },
    {
     "name": "stderr",
     "output_type": "stream",
     "text": [
      " 88%|████████▊ | 883/1000 [5:37:26<42:22, 21.73s/it]"
     ]
    },
    {
     "name": "stdout",
     "output_type": "stream",
     "text": [
      "eigenvalues shape torch.Size([5]) eigenvectors shape torch.Size([5, 450])\n",
      "883 /home/phdcs2/Hard_Disk/Datasets/Deep-Spectral-Segmentation/data/object-segmentation/ECSSD/features/dino_vits16/0884.pth\n",
      "0884\n",
      "Starting Training\n",
      "epoch: 00, loss: -0.37578\n",
      "epoch: 01, loss: -0.37198\n",
      "epoch: 02, loss: -0.37393\n",
      "epoch: 03, loss: -0.37581\n",
      "epoch: 04, loss: -0.37857\n",
      "epoch: 05, loss: -0.38040\n",
      "epoch: 06, loss: -0.38246\n",
      "epoch: 07, loss: -0.38448\n",
      "epoch: 08, loss: -0.38666\n",
      "epoch: 09, loss: -0.38821\n"
     ]
    },
    {
     "name": "stderr",
     "output_type": "stream",
     "text": [
      " 88%|████████▊ | 884/1000 [5:37:48<42:05, 21.77s/it]"
     ]
    },
    {
     "name": "stdout",
     "output_type": "stream",
     "text": [
      "eigenvalues shape torch.Size([5]) eigenvectors shape torch.Size([5, 425])\n",
      "884 /home/phdcs2/Hard_Disk/Datasets/Deep-Spectral-Segmentation/data/object-segmentation/ECSSD/features/dino_vits16/0885.pth\n",
      "0885\n",
      "Starting Training\n",
      "epoch: 00, loss: -0.34858\n",
      "epoch: 01, loss: -0.34270\n",
      "epoch: 02, loss: -0.34400\n",
      "epoch: 03, loss: -0.34633\n",
      "epoch: 04, loss: -0.34912\n",
      "epoch: 05, loss: -0.35125\n",
      "epoch: 06, loss: -0.35391\n",
      "epoch: 07, loss: -0.35661\n",
      "epoch: 08, loss: -0.35903\n",
      "epoch: 09, loss: -0.36061\n"
     ]
    },
    {
     "name": "stderr",
     "output_type": "stream",
     "text": [
      " 88%|████████▊ | 885/1000 [5:38:08<40:39, 21.21s/it]"
     ]
    },
    {
     "name": "stdout",
     "output_type": "stream",
     "text": [
      "eigenvalues shape torch.Size([5]) eigenvectors shape torch.Size([5, 400])\n",
      "885 /home/phdcs2/Hard_Disk/Datasets/Deep-Spectral-Segmentation/data/object-segmentation/ECSSD/features/dino_vits16/0886.pth\n",
      "0886\n",
      "Starting Training\n",
      "epoch: 00, loss: -0.34536\n",
      "epoch: 01, loss: -0.35277\n",
      "epoch: 02, loss: -0.35817\n",
      "epoch: 03, loss: -0.36190\n",
      "epoch: 04, loss: -0.36624\n",
      "epoch: 05, loss: -0.37137\n",
      "epoch: 06, loss: -0.37513\n",
      "epoch: 07, loss: -0.37901\n",
      "epoch: 08, loss: -0.38271\n",
      "epoch: 09, loss: -0.38563\n"
     ]
    },
    {
     "name": "stderr",
     "output_type": "stream",
     "text": [
      " 89%|████████▊ | 886/1000 [5:38:28<39:37, 20.86s/it]"
     ]
    },
    {
     "name": "stdout",
     "output_type": "stream",
     "text": [
      "eigenvalues shape torch.Size([5]) eigenvectors shape torch.Size([5, 400])\n",
      "886 /home/phdcs2/Hard_Disk/Datasets/Deep-Spectral-Segmentation/data/object-segmentation/ECSSD/features/dino_vits16/0887.pth\n",
      "0887\n",
      "Starting Training\n",
      "epoch: 00, loss: -0.36531\n",
      "epoch: 01, loss: -0.36586\n",
      "epoch: 02, loss: -0.36676\n",
      "epoch: 03, loss: -0.36708\n",
      "epoch: 04, loss: -0.36851\n",
      "epoch: 05, loss: -0.36873\n",
      "epoch: 06, loss: -0.36984\n",
      "epoch: 07, loss: -0.37026\n",
      "epoch: 08, loss: -0.37107\n",
      "epoch: 09, loss: -0.37195\n"
     ]
    },
    {
     "name": "stderr",
     "output_type": "stream",
     "text": [
      " 89%|████████▊ | 887/1000 [5:38:46<38:04, 20.22s/it]"
     ]
    },
    {
     "name": "stdout",
     "output_type": "stream",
     "text": [
      "eigenvalues shape torch.Size([5]) eigenvectors shape torch.Size([5, 375])\n",
      "887 /home/phdcs2/Hard_Disk/Datasets/Deep-Spectral-Segmentation/data/object-segmentation/ECSSD/features/dino_vits16/0888.pth\n",
      "0888\n",
      "Starting Training\n",
      "epoch: 00, loss: -0.42160\n",
      "epoch: 01, loss: -0.43202\n",
      "epoch: 02, loss: -0.43495\n",
      "epoch: 03, loss: -0.43591\n",
      "epoch: 04, loss: -0.43593\n",
      "epoch: 05, loss: -0.43617\n",
      "epoch: 06, loss: -0.43674\n",
      "epoch: 07, loss: -0.43639\n",
      "epoch: 08, loss: -0.43630\n",
      "epoch: 09, loss: -0.43690\n"
     ]
    },
    {
     "name": "stderr",
     "output_type": "stream",
     "text": [
      " 89%|████████▉ | 888/1000 [5:39:18<44:16, 23.72s/it]"
     ]
    },
    {
     "name": "stdout",
     "output_type": "stream",
     "text": [
      "eigenvalues shape torch.Size([5]) eigenvectors shape torch.Size([5, 625])\n",
      "888 /home/phdcs2/Hard_Disk/Datasets/Deep-Spectral-Segmentation/data/object-segmentation/ECSSD/features/dino_vits16/0889.pth\n",
      "0889\n",
      "Starting Training\n",
      "epoch: 00, loss: -0.38278\n",
      "epoch: 01, loss: -0.38733\n",
      "epoch: 02, loss: -0.38563\n",
      "epoch: 03, loss: -0.38118\n",
      "epoch: 04, loss: -0.37886\n",
      "epoch: 05, loss: -0.37858\n",
      "epoch: 06, loss: -0.37805\n",
      "epoch: 07, loss: -0.37854\n",
      "epoch: 08, loss: -0.38024\n",
      "epoch: 09, loss: -0.38244\n"
     ]
    },
    {
     "name": "stderr",
     "output_type": "stream",
     "text": [
      " 89%|████████▉ | 889/1000 [5:39:41<43:35, 23.56s/it]"
     ]
    },
    {
     "name": "stdout",
     "output_type": "stream",
     "text": [
      "eigenvalues shape torch.Size([5]) eigenvectors shape torch.Size([5, 450])\n",
      "889 /home/phdcs2/Hard_Disk/Datasets/Deep-Spectral-Segmentation/data/object-segmentation/ECSSD/features/dino_vits16/0890.pth\n",
      "0890\n",
      "Starting Training\n",
      "epoch: 00, loss: -0.38050\n",
      "epoch: 01, loss: -0.38340\n",
      "epoch: 02, loss: -0.38785\n",
      "epoch: 03, loss: -0.39336\n",
      "epoch: 04, loss: -0.39882\n",
      "epoch: 05, loss: -0.40348\n",
      "epoch: 06, loss: -0.40810\n",
      "epoch: 07, loss: -0.41202\n",
      "epoch: 08, loss: -0.41647\n",
      "epoch: 09, loss: -0.42075\n"
     ]
    },
    {
     "name": "stderr",
     "output_type": "stream",
     "text": [
      " 89%|████████▉ | 890/1000 [5:40:06<43:56, 23.97s/it]"
     ]
    },
    {
     "name": "stdout",
     "output_type": "stream",
     "text": [
      "eigenvalues shape torch.Size([5]) eigenvectors shape torch.Size([5, 500])\n",
      "890 /home/phdcs2/Hard_Disk/Datasets/Deep-Spectral-Segmentation/data/object-segmentation/ECSSD/features/dino_vits16/0891.pth\n",
      "0891\n",
      "Starting Training\n",
      "epoch: 00, loss: -0.51152\n",
      "epoch: 01, loss: -0.52748\n",
      "epoch: 02, loss: -0.53223\n",
      "epoch: 03, loss: -0.53551\n",
      "epoch: 04, loss: -0.53882\n",
      "epoch: 05, loss: -0.54218\n",
      "epoch: 06, loss: -0.54520\n",
      "epoch: 07, loss: -0.54798\n",
      "epoch: 08, loss: -0.55021\n",
      "epoch: 09, loss: -0.55223\n"
     ]
    },
    {
     "name": "stderr",
     "output_type": "stream",
     "text": [
      " 89%|████████▉ | 891/1000 [5:40:26<41:27, 22.82s/it]"
     ]
    },
    {
     "name": "stdout",
     "output_type": "stream",
     "text": [
      "eigenvalues shape torch.Size([5]) eigenvectors shape torch.Size([5, 400])\n",
      "891 /home/phdcs2/Hard_Disk/Datasets/Deep-Spectral-Segmentation/data/object-segmentation/ECSSD/features/dino_vits16/0892.pth\n",
      "0892\n",
      "Starting Training\n",
      "epoch: 00, loss: -0.41908\n",
      "epoch: 01, loss: -0.43066\n",
      "epoch: 02, loss: -0.43262\n",
      "epoch: 03, loss: -0.43487\n",
      "epoch: 04, loss: -0.43642\n",
      "epoch: 05, loss: -0.43879\n",
      "epoch: 06, loss: -0.43950\n",
      "epoch: 07, loss: -0.44108\n",
      "epoch: 08, loss: -0.44206\n",
      "epoch: 09, loss: -0.44390\n"
     ]
    },
    {
     "name": "stderr",
     "output_type": "stream",
     "text": [
      " 89%|████████▉ | 892/1000 [5:40:45<38:39, 21.48s/it]"
     ]
    },
    {
     "name": "stdout",
     "output_type": "stream",
     "text": [
      "eigenvalues shape torch.Size([5]) eigenvectors shape torch.Size([5, 350])\n",
      "892 /home/phdcs2/Hard_Disk/Datasets/Deep-Spectral-Segmentation/data/object-segmentation/ECSSD/features/dino_vits16/0893.pth\n",
      "0893\n",
      "Starting Training\n",
      "epoch: 00, loss: -0.37603\n",
      "epoch: 01, loss: -0.38350\n",
      "epoch: 02, loss: -0.38096\n",
      "epoch: 03, loss: -0.38111\n",
      "epoch: 04, loss: -0.38233\n",
      "epoch: 05, loss: -0.38299\n",
      "epoch: 06, loss: -0.38295\n",
      "epoch: 07, loss: -0.38524\n",
      "epoch: 08, loss: -0.39011\n",
      "epoch: 09, loss: -0.39509\n"
     ]
    },
    {
     "name": "stderr",
     "output_type": "stream",
     "text": [
      " 89%|████████▉ | 893/1000 [5:41:05<37:47, 21.19s/it]"
     ]
    },
    {
     "name": "stdout",
     "output_type": "stream",
     "text": [
      "eigenvalues shape torch.Size([5]) eigenvectors shape torch.Size([5, 400])\n",
      "893 /home/phdcs2/Hard_Disk/Datasets/Deep-Spectral-Segmentation/data/object-segmentation/ECSSD/features/dino_vits16/0894.pth\n",
      "0894\n",
      "Starting Training\n",
      "epoch: 00, loss: -0.41266\n",
      "epoch: 01, loss: -0.41898\n",
      "epoch: 02, loss: -0.41980\n",
      "epoch: 03, loss: -0.42084\n",
      "epoch: 04, loss: -0.42220\n",
      "epoch: 05, loss: -0.42325\n",
      "epoch: 06, loss: -0.42417\n",
      "epoch: 07, loss: -0.42501\n",
      "epoch: 08, loss: -0.42508\n"
     ]
    },
    {
     "name": "stderr",
     "output_type": "stream",
     "text": [
      " 89%|████████▉ | 894/1000 [5:41:27<37:54, 21.45s/it]"
     ]
    },
    {
     "name": "stdout",
     "output_type": "stream",
     "text": [
      "epoch: 09, loss: -0.42549\n",
      "eigenvalues shape torch.Size([5]) eigenvectors shape torch.Size([5, 450])\n",
      "894 /home/phdcs2/Hard_Disk/Datasets/Deep-Spectral-Segmentation/data/object-segmentation/ECSSD/features/dino_vits16/0895.pth\n",
      "0895\n",
      "Starting Training\n",
      "epoch: 00, loss: -0.42069\n",
      "epoch: 01, loss: -0.43019\n",
      "epoch: 02, loss: -0.43088\n",
      "epoch: 03, loss: -0.43044\n",
      "epoch: 04, loss: -0.43071\n",
      "epoch: 05, loss: -0.43170\n",
      "epoch: 06, loss: -0.43172\n",
      "epoch: 07, loss: -0.43253\n",
      "epoch: 08, loss: -0.43253\n",
      "epoch: 09, loss: -0.43271\n"
     ]
    },
    {
     "name": "stderr",
     "output_type": "stream",
     "text": [
      " 90%|████████▉ | 895/1000 [5:41:51<38:34, 22.04s/it]"
     ]
    },
    {
     "name": "stdout",
     "output_type": "stream",
     "text": [
      "eigenvalues shape torch.Size([5]) eigenvectors shape torch.Size([5, 450])\n",
      "895 /home/phdcs2/Hard_Disk/Datasets/Deep-Spectral-Segmentation/data/object-segmentation/ECSSD/features/dino_vits16/0896.pth\n",
      "0896\n",
      "Starting Training\n",
      "epoch: 00, loss: -0.51281\n",
      "epoch: 01, loss: -0.53570\n",
      "epoch: 02, loss: -0.53762\n",
      "epoch: 03, loss: -0.53971\n",
      "epoch: 04, loss: -0.54162\n",
      "epoch: 05, loss: -0.54298\n",
      "epoch: 06, loss: -0.54458\n",
      "epoch: 07, loss: -0.54589\n",
      "epoch: 08, loss: -0.54746\n",
      "epoch: 09, loss: -0.54883\n"
     ]
    },
    {
     "name": "stderr",
     "output_type": "stream",
     "text": [
      " 90%|████████▉ | 896/1000 [5:42:13<38:31, 22.23s/it]"
     ]
    },
    {
     "name": "stdout",
     "output_type": "stream",
     "text": [
      "eigenvalues shape torch.Size([5]) eigenvectors shape torch.Size([5, 450])\n",
      "896 /home/phdcs2/Hard_Disk/Datasets/Deep-Spectral-Segmentation/data/object-segmentation/ECSSD/features/dino_vits16/0897.pth\n",
      "0897\n",
      "Starting Training\n",
      "epoch: 00, loss: -0.43921\n",
      "epoch: 01, loss: -0.42285\n",
      "epoch: 02, loss: -0.42464\n",
      "epoch: 03, loss: -0.42593\n",
      "epoch: 04, loss: -0.42785\n",
      "epoch: 05, loss: -0.43017\n",
      "epoch: 06, loss: -0.43174\n",
      "epoch: 07, loss: -0.43286\n",
      "epoch: 08, loss: -0.43459\n",
      "epoch: 09, loss: -0.43432\n"
     ]
    },
    {
     "name": "stderr",
     "output_type": "stream",
     "text": [
      " 90%|████████▉ | 897/1000 [5:42:30<35:04, 20.43s/it]"
     ]
    },
    {
     "name": "stdout",
     "output_type": "stream",
     "text": [
      "eigenvalues shape torch.Size([5]) eigenvectors shape torch.Size([5, 325])\n",
      "897 /home/phdcs2/Hard_Disk/Datasets/Deep-Spectral-Segmentation/data/object-segmentation/ECSSD/features/dino_vits16/0898.pth\n",
      "0898\n",
      "Starting Training\n",
      "epoch: 00, loss: -0.40088\n",
      "epoch: 01, loss: -0.41205\n",
      "epoch: 02, loss: -0.41385\n",
      "epoch: 03, loss: -0.41625\n",
      "epoch: 04, loss: -0.41814\n",
      "epoch: 05, loss: -0.41932\n",
      "epoch: 06, loss: -0.42011\n",
      "epoch: 07, loss: -0.42199\n",
      "epoch: 08, loss: -0.42282\n",
      "epoch: 09, loss: -0.42384\n"
     ]
    },
    {
     "name": "stderr",
     "output_type": "stream",
     "text": [
      " 90%|████████▉ | 898/1000 [5:42:47<33:03, 19.45s/it]"
     ]
    },
    {
     "name": "stdout",
     "output_type": "stream",
     "text": [
      "eigenvalues shape torch.Size([5]) eigenvectors shape torch.Size([5, 350])\n",
      "898 /home/phdcs2/Hard_Disk/Datasets/Deep-Spectral-Segmentation/data/object-segmentation/ECSSD/features/dino_vits16/0899.pth\n",
      "0899\n",
      "Starting Training\n",
      "epoch: 00, loss: -0.42069\n",
      "epoch: 01, loss: -0.42004\n",
      "epoch: 02, loss: -0.42094\n",
      "epoch: 03, loss: -0.42047\n",
      "epoch: 04, loss: -0.42127\n",
      "epoch: 05, loss: -0.42221\n",
      "epoch: 06, loss: -0.42297\n",
      "epoch: 07, loss: -0.42256\n",
      "epoch: 08, loss: -0.42196\n",
      "epoch: 09, loss: -0.42261\n",
      "eigenvalues shape torch.Size([5]) eigenvectors shape torch.Size([5, 450])\n"
     ]
    },
    {
     "name": "stderr",
     "output_type": "stream",
     "text": [
      " 90%|████████▉ | 899/1000 [5:43:09<34:03, 20.23s/it]"
     ]
    },
    {
     "name": "stdout",
     "output_type": "stream",
     "text": [
      "899 /home/phdcs2/Hard_Disk/Datasets/Deep-Spectral-Segmentation/data/object-segmentation/ECSSD/features/dino_vits16/0900.pth\n",
      "0900\n",
      "Starting Training\n",
      "epoch: 00, loss: -0.39056\n",
      "epoch: 01, loss: -0.39923\n",
      "epoch: 02, loss: -0.40155\n",
      "epoch: 03, loss: -0.40276\n",
      "epoch: 04, loss: -0.40478\n",
      "epoch: 05, loss: -0.40582\n",
      "epoch: 06, loss: -0.40759\n",
      "epoch: 07, loss: -0.40872\n",
      "epoch: 08, loss: -0.40911\n",
      "epoch: 09, loss: -0.41067\n"
     ]
    },
    {
     "name": "stderr",
     "output_type": "stream",
     "text": [
      " 90%|█████████ | 900/1000 [5:43:29<33:39, 20.19s/it]"
     ]
    },
    {
     "name": "stdout",
     "output_type": "stream",
     "text": [
      "eigenvalues shape torch.Size([5]) eigenvectors shape torch.Size([5, 400])\n",
      "900 /home/phdcs2/Hard_Disk/Datasets/Deep-Spectral-Segmentation/data/object-segmentation/ECSSD/features/dino_vits16/0901.pth\n",
      "0901\n",
      "Starting Training\n",
      "epoch: 00, loss: -0.37614\n",
      "epoch: 01, loss: -0.37395\n",
      "epoch: 02, loss: -0.38002\n",
      "epoch: 03, loss: -0.38751\n",
      "epoch: 04, loss: -0.39256\n",
      "epoch: 05, loss: -0.39758\n",
      "epoch: 06, loss: -0.40298\n",
      "epoch: 07, loss: -0.40846\n",
      "epoch: 08, loss: -0.41280\n",
      "epoch: 09, loss: -0.41709\n"
     ]
    },
    {
     "name": "stderr",
     "output_type": "stream",
     "text": [
      " 90%|█████████ | 901/1000 [5:43:48<32:31, 19.71s/it]"
     ]
    },
    {
     "name": "stdout",
     "output_type": "stream",
     "text": [
      "eigenvalues shape torch.Size([5]) eigenvectors shape torch.Size([5, 400])\n",
      "901 /home/phdcs2/Hard_Disk/Datasets/Deep-Spectral-Segmentation/data/object-segmentation/ECSSD/features/dino_vits16/0902.pth\n",
      "0902\n",
      "Starting Training\n",
      "epoch: 00, loss: -0.65551\n",
      "epoch: 01, loss: -0.70356\n",
      "epoch: 02, loss: -0.70446\n",
      "epoch: 03, loss: -0.70554\n",
      "epoch: 04, loss: -0.70620\n",
      "epoch: 05, loss: -0.70677\n",
      "epoch: 06, loss: -0.70717\n",
      "epoch: 07, loss: -0.70793\n",
      "epoch: 08, loss: -0.70817\n",
      "epoch: 09, loss: -0.70880\n"
     ]
    },
    {
     "name": "stderr",
     "output_type": "stream",
     "text": [
      " 90%|█████████ | 902/1000 [5:44:11<34:09, 20.92s/it]"
     ]
    },
    {
     "name": "stdout",
     "output_type": "stream",
     "text": [
      "eigenvalues shape torch.Size([5]) eigenvectors shape torch.Size([5, 450])\n",
      "902 /home/phdcs2/Hard_Disk/Datasets/Deep-Spectral-Segmentation/data/object-segmentation/ECSSD/features/dino_vits16/0903.pth\n",
      "0903\n",
      "Starting Training\n",
      "epoch: 00, loss: -0.54536\n",
      "epoch: 01, loss: -0.55477\n",
      "epoch: 02, loss: -0.55724\n",
      "epoch: 03, loss: -0.55861\n",
      "epoch: 04, loss: -0.56017\n",
      "epoch: 05, loss: -0.56105\n",
      "epoch: 06, loss: -0.56223\n",
      "epoch: 07, loss: -0.56228\n",
      "epoch: 08, loss: -0.56343\n",
      "epoch: 09, loss: -0.56410\n"
     ]
    },
    {
     "name": "stderr",
     "output_type": "stream",
     "text": [
      " 90%|█████████ | 903/1000 [5:44:36<35:51, 22.18s/it]"
     ]
    },
    {
     "name": "stdout",
     "output_type": "stream",
     "text": [
      "eigenvalues shape torch.Size([5]) eigenvectors shape torch.Size([5, 500])\n",
      "903 /home/phdcs2/Hard_Disk/Datasets/Deep-Spectral-Segmentation/data/object-segmentation/ECSSD/features/dino_vits16/0904.pth\n",
      "0904\n",
      "Starting Training\n",
      "epoch: 00, loss: -0.39636\n",
      "epoch: 01, loss: -0.38878\n",
      "epoch: 02, loss: -0.39005\n",
      "epoch: 03, loss: -0.39105\n",
      "epoch: 04, loss: -0.39218\n",
      "epoch: 05, loss: -0.39342\n",
      "epoch: 06, loss: -0.39443\n",
      "epoch: 07, loss: -0.39605\n",
      "epoch: 08, loss: -0.39677\n",
      "epoch: 09, loss: -0.39754\n"
     ]
    },
    {
     "name": "stderr",
     "output_type": "stream",
     "text": [
      " 90%|█████████ | 904/1000 [5:44:56<34:12, 21.38s/it]"
     ]
    },
    {
     "name": "stdout",
     "output_type": "stream",
     "text": [
      "eigenvalues shape torch.Size([5]) eigenvectors shape torch.Size([5, 375])\n",
      "904 /home/phdcs2/Hard_Disk/Datasets/Deep-Spectral-Segmentation/data/object-segmentation/ECSSD/features/dino_vits16/0905.pth\n",
      "0905\n",
      "Starting Training\n",
      "epoch: 00, loss: -0.41341\n",
      "epoch: 01, loss: -0.43466\n",
      "epoch: 02, loss: -0.43750\n",
      "epoch: 03, loss: -0.44221\n",
      "epoch: 04, loss: -0.44012\n",
      "epoch: 05, loss: -0.44258\n",
      "epoch: 06, loss: -0.44260\n",
      "epoch: 07, loss: -0.44495\n",
      "epoch: 08, loss: -0.44684\n",
      "epoch: 09, loss: -0.44748\n"
     ]
    },
    {
     "name": "stderr",
     "output_type": "stream",
     "text": [
      " 90%|█████████ | 905/1000 [5:45:16<33:22, 21.08s/it]"
     ]
    },
    {
     "name": "stdout",
     "output_type": "stream",
     "text": [
      "eigenvalues shape torch.Size([5]) eigenvectors shape torch.Size([5, 400])\n",
      "905 /home/phdcs2/Hard_Disk/Datasets/Deep-Spectral-Segmentation/data/object-segmentation/ECSSD/features/dino_vits16/0906.pth\n",
      "0906\n",
      "Starting Training\n",
      "epoch: 00, loss: -0.41795\n",
      "epoch: 01, loss: -0.44083\n",
      "epoch: 02, loss: -0.44621\n",
      "epoch: 03, loss: -0.45008\n",
      "epoch: 04, loss: -0.45356\n",
      "epoch: 05, loss: -0.45654\n",
      "epoch: 06, loss: -0.45860\n",
      "epoch: 07, loss: -0.46049\n",
      "epoch: 08, loss: -0.46237\n",
      "epoch: 09, loss: -0.46438\n"
     ]
    },
    {
     "name": "stderr",
     "output_type": "stream",
     "text": [
      " 91%|█████████ | 906/1000 [5:45:34<31:29, 20.10s/it]"
     ]
    },
    {
     "name": "stdout",
     "output_type": "stream",
     "text": [
      "eigenvalues shape torch.Size([5]) eigenvectors shape torch.Size([5, 350])\n",
      "906 /home/phdcs2/Hard_Disk/Datasets/Deep-Spectral-Segmentation/data/object-segmentation/ECSSD/features/dino_vits16/0907.pth\n",
      "0907\n",
      "Starting Training\n",
      "epoch: 00, loss: -0.39138\n",
      "epoch: 01, loss: -0.39947\n",
      "epoch: 02, loss: -0.39899\n",
      "epoch: 03, loss: -0.39806\n",
      "epoch: 04, loss: -0.39786\n",
      "epoch: 05, loss: -0.39655\n",
      "epoch: 06, loss: -0.39607\n",
      "epoch: 07, loss: -0.39534\n",
      "epoch: 08, loss: -0.39462\n",
      "epoch: 09, loss: -0.39424\n"
     ]
    },
    {
     "name": "stderr",
     "output_type": "stream",
     "text": [
      " 91%|█████████ | 907/1000 [5:45:54<30:58, 19.99s/it]"
     ]
    },
    {
     "name": "stdout",
     "output_type": "stream",
     "text": [
      "eigenvalues shape torch.Size([5]) eigenvectors shape torch.Size([5, 400])\n",
      "907 /home/phdcs2/Hard_Disk/Datasets/Deep-Spectral-Segmentation/data/object-segmentation/ECSSD/features/dino_vits16/0908.pth\n",
      "0908\n",
      "Starting Training\n",
      "epoch: 00, loss: -0.39998\n",
      "epoch: 01, loss: -0.41104\n",
      "epoch: 02, loss: -0.41252\n",
      "epoch: 03, loss: -0.41508\n",
      "epoch: 04, loss: -0.41653\n",
      "epoch: 05, loss: -0.41658\n",
      "epoch: 06, loss: -0.41799\n",
      "epoch: 07, loss: -0.41917\n",
      "epoch: 08, loss: -0.41963\n",
      "epoch: 09, loss: -0.42105\n"
     ]
    },
    {
     "name": "stderr",
     "output_type": "stream",
     "text": [
      " 91%|█████████ | 908/1000 [5:46:14<30:43, 20.03s/it]"
     ]
    },
    {
     "name": "stdout",
     "output_type": "stream",
     "text": [
      "eigenvalues shape torch.Size([5]) eigenvectors shape torch.Size([5, 400])\n",
      "908 /home/phdcs2/Hard_Disk/Datasets/Deep-Spectral-Segmentation/data/object-segmentation/ECSSD/features/dino_vits16/0909.pth\n",
      "0909\n",
      "Starting Training\n",
      "epoch: 00, loss: -0.57181\n",
      "epoch: 01, loss: -0.62512\n",
      "epoch: 02, loss: -0.62927\n",
      "epoch: 03, loss: -0.63255\n",
      "epoch: 04, loss: -0.63524\n",
      "epoch: 05, loss: -0.63727\n",
      "epoch: 06, loss: -0.63958\n",
      "epoch: 07, loss: -0.64169\n",
      "epoch: 08, loss: -0.64329\n",
      "epoch: 09, loss: -0.64486\n"
     ]
    },
    {
     "name": "stderr",
     "output_type": "stream",
     "text": [
      " 91%|█████████ | 909/1000 [5:46:34<30:16, 19.96s/it]"
     ]
    },
    {
     "name": "stdout",
     "output_type": "stream",
     "text": [
      "eigenvalues shape torch.Size([5]) eigenvectors shape torch.Size([5, 400])\n",
      "909 /home/phdcs2/Hard_Disk/Datasets/Deep-Spectral-Segmentation/data/object-segmentation/ECSSD/features/dino_vits16/0910.pth\n",
      "0910\n",
      "Starting Training\n",
      "epoch: 00, loss: -0.45833\n",
      "epoch: 01, loss: -0.45011\n",
      "epoch: 02, loss: -0.45226\n",
      "epoch: 03, loss: -0.45549\n",
      "epoch: 04, loss: -0.45664\n",
      "epoch: 05, loss: -0.45908\n",
      "epoch: 06, loss: -0.45979\n",
      "epoch: 07, loss: -0.46061\n",
      "epoch: 08, loss: -0.46252\n",
      "epoch: 09, loss: -0.46358\n"
     ]
    },
    {
     "name": "stderr",
     "output_type": "stream",
     "text": [
      " 91%|█████████ | 910/1000 [5:46:54<29:52, 19.91s/it]"
     ]
    },
    {
     "name": "stdout",
     "output_type": "stream",
     "text": [
      "eigenvalues shape torch.Size([5]) eigenvectors shape torch.Size([5, 400])\n",
      "910 /home/phdcs2/Hard_Disk/Datasets/Deep-Spectral-Segmentation/data/object-segmentation/ECSSD/features/dino_vits16/0911.pth\n",
      "0911\n",
      "Starting Training\n",
      "epoch: 00, loss: -0.45756\n",
      "epoch: 01, loss: -0.45670\n",
      "epoch: 02, loss: -0.46166\n",
      "epoch: 03, loss: -0.46592\n",
      "epoch: 04, loss: -0.47081\n",
      "epoch: 05, loss: -0.47636\n",
      "epoch: 06, loss: -0.48131\n",
      "epoch: 07, loss: -0.48744\n",
      "epoch: 08, loss: -0.49233\n",
      "epoch: 09, loss: -0.49793\n"
     ]
    },
    {
     "name": "stderr",
     "output_type": "stream",
     "text": [
      " 91%|█████████ | 911/1000 [5:47:26<34:59, 23.59s/it]"
     ]
    },
    {
     "name": "stdout",
     "output_type": "stream",
     "text": [
      "eigenvalues shape torch.Size([5]) eigenvectors shape torch.Size([5, 625])\n",
      "911 /home/phdcs2/Hard_Disk/Datasets/Deep-Spectral-Segmentation/data/object-segmentation/ECSSD/features/dino_vits16/0912.pth\n",
      "0912\n",
      "Starting Training\n",
      "epoch: 00, loss: -0.35973\n",
      "epoch: 01, loss: -0.36584\n",
      "epoch: 02, loss: -0.37033\n",
      "epoch: 03, loss: -0.37832\n",
      "epoch: 04, loss: -0.39280\n",
      "epoch: 05, loss: -0.40592\n",
      "epoch: 06, loss: -0.41744\n",
      "epoch: 07, loss: -0.42969\n",
      "epoch: 08, loss: -0.44186\n",
      "epoch: 09, loss: -0.45037\n"
     ]
    },
    {
     "name": "stderr",
     "output_type": "stream",
     "text": [
      " 91%|█████████ | 912/1000 [5:47:47<33:22, 22.76s/it]"
     ]
    },
    {
     "name": "stdout",
     "output_type": "stream",
     "text": [
      "eigenvalues shape torch.Size([5]) eigenvectors shape torch.Size([5, 450])\n",
      "912 /home/phdcs2/Hard_Disk/Datasets/Deep-Spectral-Segmentation/data/object-segmentation/ECSSD/features/dino_vits16/0913.pth\n",
      "0913\n",
      "Starting Training\n",
      "epoch: 00, loss: -0.41662\n",
      "epoch: 01, loss: -0.42590\n",
      "epoch: 02, loss: -0.41762\n",
      "epoch: 03, loss: -0.40671\n",
      "epoch: 04, loss: -0.39923\n",
      "epoch: 05, loss: -0.39379\n",
      "epoch: 06, loss: -0.38837\n",
      "epoch: 07, loss: -0.38615\n",
      "epoch: 08, loss: -0.38447\n",
      "epoch: 09, loss: -0.38414\n"
     ]
    },
    {
     "name": "stderr",
     "output_type": "stream",
     "text": [
      " 91%|█████████▏| 913/1000 [5:48:07<31:54, 22.00s/it]"
     ]
    },
    {
     "name": "stdout",
     "output_type": "stream",
     "text": [
      "eigenvalues shape torch.Size([5]) eigenvectors shape torch.Size([5, 400])\n",
      "913 /home/phdcs2/Hard_Disk/Datasets/Deep-Spectral-Segmentation/data/object-segmentation/ECSSD/features/dino_vits16/0914.pth\n",
      "0914\n",
      "Starting Training\n",
      "epoch: 00, loss: -0.41887\n",
      "epoch: 01, loss: -0.41780\n",
      "epoch: 02, loss: -0.41515\n",
      "epoch: 03, loss: -0.41466\n",
      "epoch: 04, loss: -0.41637\n",
      "epoch: 05, loss: -0.41871\n",
      "epoch: 06, loss: -0.42099\n",
      "epoch: 07, loss: -0.42394\n",
      "epoch: 08, loss: -0.42666\n",
      "epoch: 09, loss: -0.42932\n"
     ]
    },
    {
     "name": "stderr",
     "output_type": "stream",
     "text": [
      " 91%|█████████▏| 914/1000 [5:48:29<31:46, 22.17s/it]"
     ]
    },
    {
     "name": "stdout",
     "output_type": "stream",
     "text": [
      "eigenvalues shape torch.Size([5]) eigenvectors shape torch.Size([5, 450])\n",
      "914 /home/phdcs2/Hard_Disk/Datasets/Deep-Spectral-Segmentation/data/object-segmentation/ECSSD/features/dino_vits16/0915.pth\n",
      "0915\n",
      "Starting Training\n",
      "epoch: 00, loss: -0.37811\n",
      "epoch: 01, loss: -0.38674\n",
      "epoch: 02, loss: -0.38678\n",
      "epoch: 03, loss: -0.38914\n",
      "epoch: 04, loss: -0.38987\n",
      "epoch: 05, loss: -0.38944\n",
      "epoch: 06, loss: -0.38957\n",
      "epoch: 07, loss: -0.38932\n",
      "epoch: 08, loss: -0.38869\n",
      "epoch: 09, loss: -0.38876\n"
     ]
    },
    {
     "name": "stderr",
     "output_type": "stream",
     "text": [
      " 92%|█████████▏| 915/1000 [5:48:45<28:36, 20.19s/it]"
     ]
    },
    {
     "name": "stdout",
     "output_type": "stream",
     "text": [
      "eigenvalues shape torch.Size([5]) eigenvectors shape torch.Size([5, 300])\n",
      "915 /home/phdcs2/Hard_Disk/Datasets/Deep-Spectral-Segmentation/data/object-segmentation/ECSSD/features/dino_vits16/0916.pth\n",
      "0916\n",
      "Starting Training\n",
      "epoch: 00, loss: -0.38490\n",
      "epoch: 01, loss: -0.38853\n",
      "epoch: 02, loss: -0.38813\n",
      "epoch: 03, loss: -0.38807\n",
      "epoch: 04, loss: -0.38786\n",
      "epoch: 05, loss: -0.38788\n",
      "epoch: 06, loss: -0.38800\n",
      "epoch: 07, loss: -0.38858\n",
      "epoch: 08, loss: -0.38881\n",
      "epoch: 09, loss: -0.38862\n"
     ]
    },
    {
     "name": "stderr",
     "output_type": "stream",
     "text": [
      " 92%|█████████▏| 916/1000 [5:49:08<29:17, 20.93s/it]"
     ]
    },
    {
     "name": "stdout",
     "output_type": "stream",
     "text": [
      "eigenvalues shape torch.Size([5]) eigenvectors shape torch.Size([5, 450])\n",
      "916 /home/phdcs2/Hard_Disk/Datasets/Deep-Spectral-Segmentation/data/object-segmentation/ECSSD/features/dino_vits16/0917.pth\n",
      "0917\n",
      "Starting Training\n",
      "epoch: 00, loss: -0.35923\n",
      "epoch: 01, loss: -0.36077\n",
      "epoch: 02, loss: -0.36611\n",
      "epoch: 03, loss: -0.37139\n",
      "epoch: 04, loss: -0.37804\n",
      "epoch: 05, loss: -0.38543\n",
      "epoch: 06, loss: -0.39218\n",
      "epoch: 07, loss: -0.39899\n",
      "epoch: 08, loss: -0.40450\n",
      "epoch: 09, loss: -0.40948\n"
     ]
    },
    {
     "name": "stderr",
     "output_type": "stream",
     "text": [
      " 92%|█████████▏| 917/1000 [5:49:29<29:09, 21.08s/it]"
     ]
    },
    {
     "name": "stdout",
     "output_type": "stream",
     "text": [
      "eigenvalues shape torch.Size([5]) eigenvectors shape torch.Size([5, 425])\n",
      "917 /home/phdcs2/Hard_Disk/Datasets/Deep-Spectral-Segmentation/data/object-segmentation/ECSSD/features/dino_vits16/0918.pth\n",
      "0918\n",
      "Starting Training\n",
      "epoch: 00, loss: -0.40766\n",
      "epoch: 01, loss: -0.41917\n",
      "epoch: 02, loss: -0.42293\n",
      "epoch: 03, loss: -0.42680\n",
      "epoch: 04, loss: -0.42945\n",
      "epoch: 05, loss: -0.43232\n",
      "epoch: 06, loss: -0.43587\n",
      "epoch: 07, loss: -0.43952\n",
      "epoch: 08, loss: -0.44322\n",
      "epoch: 09, loss: -0.44712\n"
     ]
    },
    {
     "name": "stderr",
     "output_type": "stream",
     "text": [
      " 92%|█████████▏| 918/1000 [5:49:52<29:46, 21.78s/it]"
     ]
    },
    {
     "name": "stdout",
     "output_type": "stream",
     "text": [
      "eigenvalues shape torch.Size([5]) eigenvectors shape torch.Size([5, 450])\n",
      "918 /home/phdcs2/Hard_Disk/Datasets/Deep-Spectral-Segmentation/data/object-segmentation/ECSSD/features/dino_vits16/0919.pth\n",
      "0919\n",
      "Starting Training\n",
      "epoch: 00, loss: -0.38371\n",
      "epoch: 01, loss: -0.38656\n",
      "epoch: 02, loss: -0.39375\n",
      "epoch: 03, loss: -0.40073\n",
      "epoch: 04, loss: -0.40643\n",
      "epoch: 05, loss: -0.41105\n",
      "epoch: 06, loss: -0.41655\n",
      "epoch: 07, loss: -0.42179\n",
      "epoch: 08, loss: -0.42423\n",
      "epoch: 09, loss: -0.42776\n"
     ]
    },
    {
     "name": "stderr",
     "output_type": "stream",
     "text": [
      " 92%|█████████▏| 919/1000 [5:50:16<29:59, 22.21s/it]"
     ]
    },
    {
     "name": "stdout",
     "output_type": "stream",
     "text": [
      "eigenvalues shape torch.Size([5]) eigenvectors shape torch.Size([5, 450])\n",
      "919 /home/phdcs2/Hard_Disk/Datasets/Deep-Spectral-Segmentation/data/object-segmentation/ECSSD/features/dino_vits16/0920.pth\n",
      "0920\n",
      "Starting Training\n",
      "epoch: 00, loss: -0.39474\n",
      "epoch: 01, loss: -0.39965\n",
      "epoch: 02, loss: -0.40314\n",
      "epoch: 03, loss: -0.40546\n",
      "epoch: 04, loss: -0.40556\n",
      "epoch: 05, loss: -0.40708\n",
      "epoch: 06, loss: -0.40883\n",
      "epoch: 07, loss: -0.41102\n",
      "epoch: 08, loss: -0.41195\n",
      "epoch: 09, loss: -0.41338\n"
     ]
    },
    {
     "name": "stderr",
     "output_type": "stream",
     "text": [
      " 92%|█████████▏| 920/1000 [5:50:36<28:50, 21.63s/it]"
     ]
    },
    {
     "name": "stdout",
     "output_type": "stream",
     "text": [
      "eigenvalues shape torch.Size([5]) eigenvectors shape torch.Size([5, 400])\n",
      "920 /home/phdcs2/Hard_Disk/Datasets/Deep-Spectral-Segmentation/data/object-segmentation/ECSSD/features/dino_vits16/0921.pth\n",
      "0921\n",
      "Starting Training\n",
      "epoch: 00, loss: -0.40940\n",
      "epoch: 01, loss: -0.41366\n",
      "epoch: 02, loss: -0.39815\n",
      "epoch: 03, loss: -0.38570\n",
      "epoch: 04, loss: -0.37733\n",
      "epoch: 05, loss: -0.37404\n",
      "epoch: 06, loss: -0.37170\n",
      "epoch: 07, loss: -0.37122\n",
      "epoch: 08, loss: -0.37167\n",
      "epoch: 09, loss: -0.37129\n"
     ]
    },
    {
     "name": "stderr",
     "output_type": "stream",
     "text": [
      " 92%|█████████▏| 921/1000 [5:50:57<28:04, 21.32s/it]"
     ]
    },
    {
     "name": "stdout",
     "output_type": "stream",
     "text": [
      "eigenvalues shape torch.Size([5]) eigenvectors shape torch.Size([5, 400])\n",
      "921 /home/phdcs2/Hard_Disk/Datasets/Deep-Spectral-Segmentation/data/object-segmentation/ECSSD/features/dino_vits16/0922.pth\n",
      "0922\n",
      "Starting Training\n",
      "epoch: 00, loss: -0.59465\n",
      "epoch: 01, loss: -0.62347\n",
      "epoch: 02, loss: -0.62702\n",
      "epoch: 03, loss: -0.62933\n",
      "epoch: 04, loss: -0.63139\n",
      "epoch: 05, loss: -0.63300\n",
      "epoch: 06, loss: -0.63451\n",
      "epoch: 07, loss: -0.63578\n",
      "epoch: 08, loss: -0.63693\n",
      "epoch: 09, loss: -0.63779\n"
     ]
    },
    {
     "name": "stderr",
     "output_type": "stream",
     "text": [
      " 92%|█████████▏| 922/1000 [5:51:14<26:17, 20.23s/it]"
     ]
    },
    {
     "name": "stdout",
     "output_type": "stream",
     "text": [
      "eigenvalues shape torch.Size([5]) eigenvectors shape torch.Size([5, 350])\n",
      "922 /home/phdcs2/Hard_Disk/Datasets/Deep-Spectral-Segmentation/data/object-segmentation/ECSSD/features/dino_vits16/0923.pth\n",
      "0923\n",
      "Starting Training\n",
      "epoch: 00, loss: -0.43111\n",
      "epoch: 01, loss: -0.45398\n",
      "epoch: 02, loss: -0.45497\n",
      "epoch: 03, loss: -0.45625\n",
      "epoch: 04, loss: -0.45755\n",
      "epoch: 05, loss: -0.45818\n",
      "epoch: 06, loss: -0.45939\n",
      "epoch: 07, loss: -0.46014\n",
      "epoch: 08, loss: -0.46030\n",
      "epoch: 09, loss: -0.46125\n"
     ]
    },
    {
     "name": "stderr",
     "output_type": "stream",
     "text": [
      " 92%|█████████▏| 923/1000 [5:51:35<26:04, 20.32s/it]"
     ]
    },
    {
     "name": "stdout",
     "output_type": "stream",
     "text": [
      "eigenvalues shape torch.Size([5]) eigenvectors shape torch.Size([5, 400])\n",
      "923 /home/phdcs2/Hard_Disk/Datasets/Deep-Spectral-Segmentation/data/object-segmentation/ECSSD/features/dino_vits16/0924.pth\n",
      "0924\n",
      "Starting Training\n",
      "epoch: 00, loss: -0.39903\n",
      "epoch: 01, loss: -0.41716\n",
      "epoch: 02, loss: -0.42062\n",
      "epoch: 03, loss: -0.42442\n",
      "epoch: 04, loss: -0.42771\n",
      "epoch: 05, loss: -0.43104\n",
      "epoch: 06, loss: -0.43374\n",
      "epoch: 07, loss: -0.43582\n",
      "epoch: 08, loss: -0.43822\n",
      "epoch: 09, loss: -0.44075\n"
     ]
    },
    {
     "name": "stderr",
     "output_type": "stream",
     "text": [
      " 92%|█████████▏| 924/1000 [5:51:56<26:10, 20.66s/it]"
     ]
    },
    {
     "name": "stdout",
     "output_type": "stream",
     "text": [
      "eigenvalues shape torch.Size([5]) eigenvectors shape torch.Size([5, 450])\n",
      "924 /home/phdcs2/Hard_Disk/Datasets/Deep-Spectral-Segmentation/data/object-segmentation/ECSSD/features/dino_vits16/0925.pth\n",
      "0925\n",
      "Starting Training\n",
      "epoch: 00, loss: -0.42031\n",
      "epoch: 01, loss: -0.43585\n",
      "epoch: 02, loss: -0.44111\n",
      "epoch: 03, loss: -0.44492\n",
      "epoch: 04, loss: -0.44786\n",
      "epoch: 05, loss: -0.45198\n",
      "epoch: 06, loss: -0.45667\n",
      "epoch: 07, loss: -0.46045\n",
      "epoch: 08, loss: -0.46306\n",
      "epoch: 09, loss: -0.46590\n"
     ]
    },
    {
     "name": "stderr",
     "output_type": "stream",
     "text": [
      " 92%|█████████▎| 925/1000 [5:52:19<26:30, 21.21s/it]"
     ]
    },
    {
     "name": "stdout",
     "output_type": "stream",
     "text": [
      "eigenvalues shape torch.Size([5]) eigenvectors shape torch.Size([5, 450])\n",
      "925 /home/phdcs2/Hard_Disk/Datasets/Deep-Spectral-Segmentation/data/object-segmentation/ECSSD/features/dino_vits16/0926.pth\n",
      "0926\n",
      "Starting Training\n",
      "epoch: 00, loss: -0.41792\n",
      "epoch: 01, loss: -0.44801\n",
      "epoch: 02, loss: -0.44802\n",
      "epoch: 03, loss: -0.44708\n",
      "epoch: 04, loss: -0.44743\n",
      "epoch: 05, loss: -0.44655\n",
      "epoch: 06, loss: -0.44622\n",
      "epoch: 07, loss: -0.44660\n",
      "epoch: 08, loss: -0.44618\n"
     ]
    },
    {
     "name": "stderr",
     "output_type": "stream",
     "text": [
      " 93%|█████████▎| 926/1000 [5:52:38<25:36, 20.76s/it]"
     ]
    },
    {
     "name": "stdout",
     "output_type": "stream",
     "text": [
      "epoch: 09, loss: -0.44609\n",
      "eigenvalues shape torch.Size([5]) eigenvectors shape torch.Size([5, 400])\n",
      "926 /home/phdcs2/Hard_Disk/Datasets/Deep-Spectral-Segmentation/data/object-segmentation/ECSSD/features/dino_vits16/0927.pth\n",
      "0927\n",
      "Starting Training\n",
      "epoch: 00, loss: -0.39687\n",
      "epoch: 01, loss: -0.40082\n",
      "epoch: 02, loss: -0.39944\n",
      "epoch: 03, loss: -0.40031\n",
      "epoch: 04, loss: -0.40234\n",
      "epoch: 05, loss: -0.40415\n",
      "epoch: 06, loss: -0.40632\n",
      "epoch: 07, loss: -0.40899\n",
      "epoch: 08, loss: -0.41124\n",
      "epoch: 09, loss: -0.41198\n"
     ]
    },
    {
     "name": "stderr",
     "output_type": "stream",
     "text": [
      " 93%|█████████▎| 927/1000 [5:53:01<25:58, 21.35s/it]"
     ]
    },
    {
     "name": "stdout",
     "output_type": "stream",
     "text": [
      "eigenvalues shape torch.Size([5]) eigenvectors shape torch.Size([5, 450])\n",
      "927 /home/phdcs2/Hard_Disk/Datasets/Deep-Spectral-Segmentation/data/object-segmentation/ECSSD/features/dino_vits16/0928.pth\n",
      "0928\n",
      "Starting Training\n",
      "epoch: 00, loss: -0.37569\n",
      "epoch: 01, loss: -0.38347\n",
      "epoch: 02, loss: -0.38390\n",
      "epoch: 03, loss: -0.38398\n",
      "epoch: 04, loss: -0.38445\n",
      "epoch: 05, loss: -0.38465\n",
      "epoch: 06, loss: -0.38670\n",
      "epoch: 07, loss: -0.39024\n",
      "epoch: 08, loss: -0.39537\n",
      "epoch: 09, loss: -0.40023\n"
     ]
    },
    {
     "name": "stderr",
     "output_type": "stream",
     "text": [
      " 93%|█████████▎| 928/1000 [5:53:24<26:17, 21.90s/it]"
     ]
    },
    {
     "name": "stdout",
     "output_type": "stream",
     "text": [
      "eigenvalues shape torch.Size([5]) eigenvectors shape torch.Size([5, 450])\n",
      "928 /home/phdcs2/Hard_Disk/Datasets/Deep-Spectral-Segmentation/data/object-segmentation/ECSSD/features/dino_vits16/0929.pth\n",
      "0929\n",
      "Starting Training\n",
      "epoch: 00, loss: -0.36455\n",
      "epoch: 01, loss: -0.36926\n",
      "epoch: 02, loss: -0.37169\n",
      "epoch: 03, loss: -0.37453\n",
      "epoch: 04, loss: -0.37527\n",
      "epoch: 05, loss: -0.37644\n",
      "epoch: 06, loss: -0.37740\n",
      "epoch: 07, loss: -0.37890\n",
      "epoch: 08, loss: -0.38018\n",
      "epoch: 09, loss: -0.38248\n"
     ]
    },
    {
     "name": "stderr",
     "output_type": "stream",
     "text": [
      " 93%|█████████▎| 929/1000 [5:53:48<26:26, 22.35s/it]"
     ]
    },
    {
     "name": "stdout",
     "output_type": "stream",
     "text": [
      "eigenvalues shape torch.Size([5]) eigenvectors shape torch.Size([5, 450])\n",
      "929 /home/phdcs2/Hard_Disk/Datasets/Deep-Spectral-Segmentation/data/object-segmentation/ECSSD/features/dino_vits16/0930.pth\n",
      "0930\n",
      "Starting Training\n",
      "epoch: 00, loss: -0.39052\n",
      "epoch: 01, loss: -0.40013\n",
      "epoch: 02, loss: -0.40252\n",
      "epoch: 03, loss: -0.40492\n",
      "epoch: 04, loss: -0.40735\n",
      "epoch: 05, loss: -0.40916\n",
      "epoch: 06, loss: -0.41192\n",
      "epoch: 07, loss: -0.41464\n",
      "epoch: 08, loss: -0.41751\n",
      "epoch: 09, loss: -0.42012\n"
     ]
    },
    {
     "name": "stderr",
     "output_type": "stream",
     "text": [
      " 93%|█████████▎| 930/1000 [5:54:11<26:18, 22.54s/it]"
     ]
    },
    {
     "name": "stdout",
     "output_type": "stream",
     "text": [
      "eigenvalues shape torch.Size([5]) eigenvectors shape torch.Size([5, 450])\n",
      "930 /home/phdcs2/Hard_Disk/Datasets/Deep-Spectral-Segmentation/data/object-segmentation/ECSSD/features/dino_vits16/0931.pth\n",
      "0931\n",
      "Starting Training\n",
      "epoch: 00, loss: -0.42625\n",
      "epoch: 01, loss: -0.43986\n",
      "epoch: 02, loss: -0.44838\n",
      "epoch: 03, loss: -0.45499\n",
      "epoch: 04, loss: -0.46019\n",
      "epoch: 05, loss: -0.46434\n",
      "epoch: 06, loss: -0.46638\n",
      "epoch: 07, loss: -0.46747\n",
      "epoch: 08, loss: -0.46925\n",
      "epoch: 09, loss: -0.47025\n"
     ]
    },
    {
     "name": "stderr",
     "output_type": "stream",
     "text": [
      " 93%|█████████▎| 931/1000 [5:54:37<27:20, 23.78s/it]"
     ]
    },
    {
     "name": "stdout",
     "output_type": "stream",
     "text": [
      "eigenvalues shape torch.Size([5]) eigenvectors shape torch.Size([5, 525])\n",
      "931 /home/phdcs2/Hard_Disk/Datasets/Deep-Spectral-Segmentation/data/object-segmentation/ECSSD/features/dino_vits16/0932.pth\n",
      "0932\n",
      "Starting Training\n",
      "epoch: 00, loss: -0.35475\n",
      "epoch: 01, loss: -0.34520\n",
      "epoch: 02, loss: -0.34997\n",
      "epoch: 03, loss: -0.35392\n",
      "epoch: 04, loss: -0.35801\n",
      "epoch: 05, loss: -0.36129\n",
      "epoch: 06, loss: -0.36387\n",
      "epoch: 07, loss: -0.36708\n",
      "epoch: 08, loss: -0.36903\n",
      "epoch: 09, loss: -0.37086\n"
     ]
    },
    {
     "name": "stderr",
     "output_type": "stream",
     "text": [
      " 93%|█████████▎| 932/1000 [5:55:02<27:06, 23.92s/it]"
     ]
    },
    {
     "name": "stdout",
     "output_type": "stream",
     "text": [
      "eigenvalues shape torch.Size([5]) eigenvectors shape torch.Size([5, 475])\n",
      "932 /home/phdcs2/Hard_Disk/Datasets/Deep-Spectral-Segmentation/data/object-segmentation/ECSSD/features/dino_vits16/0933.pth\n",
      "0933\n",
      "Starting Training\n",
      "epoch: 00, loss: -0.39364\n",
      "epoch: 01, loss: -0.40578\n",
      "epoch: 02, loss: -0.41506\n",
      "epoch: 03, loss: -0.42101\n",
      "epoch: 04, loss: -0.42663\n",
      "epoch: 05, loss: -0.42956\n",
      "epoch: 06, loss: -0.43162\n",
      "epoch: 07, loss: -0.43474\n",
      "epoch: 08, loss: -0.43588\n",
      "epoch: 09, loss: -0.43791\n"
     ]
    },
    {
     "name": "stderr",
     "output_type": "stream",
     "text": [
      " 93%|█████████▎| 933/1000 [5:55:23<25:48, 23.11s/it]"
     ]
    },
    {
     "name": "stdout",
     "output_type": "stream",
     "text": [
      "eigenvalues shape torch.Size([5]) eigenvectors shape torch.Size([5, 425])\n",
      "933 /home/phdcs2/Hard_Disk/Datasets/Deep-Spectral-Segmentation/data/object-segmentation/ECSSD/features/dino_vits16/0934.pth\n",
      "0934\n",
      "Starting Training\n",
      "epoch: 00, loss: -0.37828\n",
      "epoch: 01, loss: -0.38427\n",
      "epoch: 02, loss: -0.38500\n",
      "epoch: 03, loss: -0.38689\n",
      "epoch: 04, loss: -0.39045\n",
      "epoch: 05, loss: -0.39465\n",
      "epoch: 06, loss: -0.39871\n",
      "epoch: 07, loss: -0.40359\n",
      "epoch: 08, loss: -0.40877\n",
      "epoch: 09, loss: -0.41290\n"
     ]
    },
    {
     "name": "stderr",
     "output_type": "stream",
     "text": [
      " 93%|█████████▎| 934/1000 [5:55:44<24:40, 22.43s/it]"
     ]
    },
    {
     "name": "stdout",
     "output_type": "stream",
     "text": [
      "eigenvalues shape torch.Size([5]) eigenvectors shape torch.Size([5, 450])\n",
      "934 /home/phdcs2/Hard_Disk/Datasets/Deep-Spectral-Segmentation/data/object-segmentation/ECSSD/features/dino_vits16/0935.pth\n",
      "0935\n",
      "Starting Training\n",
      "epoch: 00, loss: -0.40357\n",
      "epoch: 01, loss: -0.41608\n",
      "epoch: 02, loss: -0.41639\n",
      "epoch: 03, loss: -0.41601\n",
      "epoch: 04, loss: -0.41610\n",
      "epoch: 05, loss: -0.41698\n",
      "epoch: 06, loss: -0.41784\n",
      "epoch: 07, loss: -0.41856\n",
      "epoch: 08, loss: -0.41951\n",
      "epoch: 09, loss: -0.42068\n"
     ]
    },
    {
     "name": "stderr",
     "output_type": "stream",
     "text": [
      " 94%|█████████▎| 935/1000 [5:56:06<24:19, 22.46s/it]"
     ]
    },
    {
     "name": "stdout",
     "output_type": "stream",
     "text": [
      "eigenvalues shape torch.Size([5]) eigenvectors shape torch.Size([5, 450])\n",
      "935 /home/phdcs2/Hard_Disk/Datasets/Deep-Spectral-Segmentation/data/object-segmentation/ECSSD/features/dino_vits16/0936.pth\n",
      "0936\n",
      "Starting Training\n",
      "epoch: 00, loss: -0.36959\n",
      "epoch: 01, loss: -0.37823\n",
      "epoch: 02, loss: -0.38257\n",
      "epoch: 03, loss: -0.38495\n",
      "epoch: 04, loss: -0.38671\n",
      "epoch: 05, loss: -0.38897\n",
      "epoch: 06, loss: -0.39241\n",
      "epoch: 07, loss: -0.39678\n",
      "epoch: 08, loss: -0.40075\n",
      "epoch: 09, loss: -0.40522\n"
     ]
    },
    {
     "name": "stderr",
     "output_type": "stream",
     "text": [
      " 94%|█████████▎| 936/1000 [5:56:30<24:14, 22.73s/it]"
     ]
    },
    {
     "name": "stdout",
     "output_type": "stream",
     "text": [
      "eigenvalues shape torch.Size([5]) eigenvectors shape torch.Size([5, 450])\n",
      "936 /home/phdcs2/Hard_Disk/Datasets/Deep-Spectral-Segmentation/data/object-segmentation/ECSSD/features/dino_vits16/0937.pth\n",
      "0937\n",
      "Starting Training\n",
      "epoch: 00, loss: -0.36812\n",
      "epoch: 01, loss: -0.37421\n",
      "epoch: 02, loss: -0.37718\n",
      "epoch: 03, loss: -0.37952\n",
      "epoch: 04, loss: -0.37976\n",
      "epoch: 05, loss: -0.38044\n",
      "epoch: 06, loss: -0.38205\n",
      "epoch: 07, loss: -0.38263\n",
      "epoch: 08, loss: -0.38296\n",
      "epoch: 09, loss: -0.38273\n"
     ]
    },
    {
     "name": "stderr",
     "output_type": "stream",
     "text": [
      " 94%|█████████▎| 937/1000 [5:56:52<23:44, 22.61s/it]"
     ]
    },
    {
     "name": "stdout",
     "output_type": "stream",
     "text": [
      "eigenvalues shape torch.Size([5]) eigenvectors shape torch.Size([5, 450])\n",
      "937 /home/phdcs2/Hard_Disk/Datasets/Deep-Spectral-Segmentation/data/object-segmentation/ECSSD/features/dino_vits16/0938.pth\n",
      "0938\n",
      "Starting Training\n",
      "epoch: 00, loss: -0.38448\n",
      "epoch: 01, loss: -0.38416\n",
      "epoch: 02, loss: -0.38098\n",
      "epoch: 03, loss: -0.37880\n",
      "epoch: 04, loss: -0.37856\n",
      "epoch: 05, loss: -0.37768\n",
      "epoch: 06, loss: -0.37654\n",
      "epoch: 07, loss: -0.37643\n",
      "epoch: 08, loss: -0.37633\n",
      "epoch: 09, loss: -0.37636\n"
     ]
    },
    {
     "name": "stderr",
     "output_type": "stream",
     "text": [
      " 94%|█████████▍| 938/1000 [5:57:12<22:34, 21.84s/it]"
     ]
    },
    {
     "name": "stdout",
     "output_type": "stream",
     "text": [
      "eigenvalues shape torch.Size([5]) eigenvectors shape torch.Size([5, 400])\n",
      "938 /home/phdcs2/Hard_Disk/Datasets/Deep-Spectral-Segmentation/data/object-segmentation/ECSSD/features/dino_vits16/0939.pth\n",
      "0939\n",
      "Starting Training\n",
      "epoch: 00, loss: -0.39868\n",
      "epoch: 01, loss: -0.40452\n",
      "epoch: 02, loss: -0.40968\n",
      "epoch: 03, loss: -0.41547\n",
      "epoch: 04, loss: -0.42105\n",
      "epoch: 05, loss: -0.42739\n",
      "epoch: 06, loss: -0.43259\n",
      "epoch: 07, loss: -0.44014\n",
      "epoch: 08, loss: -0.44777\n",
      "epoch: 09, loss: -0.45312\n"
     ]
    },
    {
     "name": "stderr",
     "output_type": "stream",
     "text": [
      " 94%|█████████▍| 939/1000 [5:57:37<23:12, 22.83s/it]"
     ]
    },
    {
     "name": "stdout",
     "output_type": "stream",
     "text": [
      "eigenvalues shape torch.Size([5]) eigenvectors shape torch.Size([5, 500])\n",
      "939 /home/phdcs2/Hard_Disk/Datasets/Deep-Spectral-Segmentation/data/object-segmentation/ECSSD/features/dino_vits16/0940.pth\n",
      "0940\n",
      "Starting Training\n",
      "epoch: 00, loss: -0.40241\n",
      "epoch: 01, loss: -0.41378\n",
      "epoch: 02, loss: -0.41690\n",
      "epoch: 03, loss: -0.41740\n",
      "epoch: 04, loss: -0.41806\n",
      "epoch: 05, loss: -0.41878\n",
      "epoch: 06, loss: -0.41986\n",
      "epoch: 07, loss: -0.42083\n",
      "epoch: 08, loss: -0.42065\n",
      "epoch: 09, loss: -0.42260\n"
     ]
    },
    {
     "name": "stderr",
     "output_type": "stream",
     "text": [
      " 94%|█████████▍| 940/1000 [5:57:58<22:11, 22.19s/it]"
     ]
    },
    {
     "name": "stdout",
     "output_type": "stream",
     "text": [
      "eigenvalues shape torch.Size([5]) eigenvectors shape torch.Size([5, 400])\n",
      "940 /home/phdcs2/Hard_Disk/Datasets/Deep-Spectral-Segmentation/data/object-segmentation/ECSSD/features/dino_vits16/0941.pth\n",
      "0941\n",
      "Starting Training\n",
      "epoch: 00, loss: -0.42827\n",
      "epoch: 01, loss: -0.43447\n",
      "epoch: 02, loss: -0.43403\n",
      "epoch: 03, loss: -0.43483\n",
      "epoch: 04, loss: -0.43525\n",
      "epoch: 05, loss: -0.43591\n",
      "epoch: 06, loss: -0.43631\n",
      "epoch: 07, loss: -0.43569\n",
      "epoch: 08, loss: -0.43525\n",
      "epoch: 09, loss: -0.43520\n"
     ]
    },
    {
     "name": "stderr",
     "output_type": "stream",
     "text": [
      " 94%|█████████▍| 941/1000 [5:58:18<21:06, 21.47s/it]"
     ]
    },
    {
     "name": "stdout",
     "output_type": "stream",
     "text": [
      "eigenvalues shape torch.Size([5]) eigenvectors shape torch.Size([5, 400])\n",
      "941 /home/phdcs2/Hard_Disk/Datasets/Deep-Spectral-Segmentation/data/object-segmentation/ECSSD/features/dino_vits16/0942.pth\n",
      "0942\n",
      "Starting Training\n",
      "epoch: 00, loss: -0.38311\n",
      "epoch: 01, loss: -0.38898\n",
      "epoch: 02, loss: -0.39067\n",
      "epoch: 03, loss: -0.39609\n",
      "epoch: 04, loss: -0.39978\n",
      "epoch: 05, loss: -0.40333\n",
      "epoch: 06, loss: -0.40730\n",
      "epoch: 07, loss: -0.41145\n",
      "epoch: 08, loss: -0.41530\n",
      "epoch: 09, loss: -0.41870\n"
     ]
    },
    {
     "name": "stderr",
     "output_type": "stream",
     "text": [
      " 94%|█████████▍| 942/1000 [5:58:38<20:20, 21.04s/it]"
     ]
    },
    {
     "name": "stdout",
     "output_type": "stream",
     "text": [
      "eigenvalues shape torch.Size([5]) eigenvectors shape torch.Size([5, 400])\n",
      "942 /home/phdcs2/Hard_Disk/Datasets/Deep-Spectral-Segmentation/data/object-segmentation/ECSSD/features/dino_vits16/0943.pth\n",
      "0943\n",
      "Starting Training\n",
      "epoch: 00, loss: -0.49673\n",
      "epoch: 01, loss: -0.49963\n",
      "epoch: 02, loss: -0.50639\n",
      "epoch: 03, loss: -0.51003\n",
      "epoch: 04, loss: -0.51496\n",
      "epoch: 05, loss: -0.51839\n",
      "epoch: 06, loss: -0.52253\n",
      "epoch: 07, loss: -0.52663\n",
      "epoch: 08, loss: -0.53117\n",
      "epoch: 09, loss: -0.53456\n"
     ]
    },
    {
     "name": "stderr",
     "output_type": "stream",
     "text": [
      " 94%|█████████▍| 943/1000 [5:59:02<20:54, 22.01s/it]"
     ]
    },
    {
     "name": "stdout",
     "output_type": "stream",
     "text": [
      "eigenvalues shape torch.Size([5]) eigenvectors shape torch.Size([5, 475])\n",
      "943 /home/phdcs2/Hard_Disk/Datasets/Deep-Spectral-Segmentation/data/object-segmentation/ECSSD/features/dino_vits16/0944.pth\n",
      "0944\n",
      "Starting Training\n",
      "epoch: 00, loss: -0.40566\n",
      "epoch: 01, loss: -0.41866\n",
      "epoch: 02, loss: -0.41982\n",
      "epoch: 03, loss: -0.42435\n",
      "epoch: 04, loss: -0.43012\n",
      "epoch: 05, loss: -0.43573\n",
      "epoch: 06, loss: -0.44082\n",
      "epoch: 07, loss: -0.44575\n",
      "epoch: 08, loss: -0.45018\n",
      "epoch: 09, loss: -0.45431\n"
     ]
    },
    {
     "name": "stderr",
     "output_type": "stream",
     "text": [
      " 94%|█████████▍| 944/1000 [5:59:21<19:41, 21.10s/it]"
     ]
    },
    {
     "name": "stdout",
     "output_type": "stream",
     "text": [
      "eigenvalues shape torch.Size([5]) eigenvectors shape torch.Size([5, 400])\n",
      "944 /home/phdcs2/Hard_Disk/Datasets/Deep-Spectral-Segmentation/data/object-segmentation/ECSSD/features/dino_vits16/0945.pth\n",
      "0945\n",
      "Starting Training\n",
      "epoch: 00, loss: -0.43128\n",
      "epoch: 01, loss: -0.44977\n",
      "epoch: 02, loss: -0.44965\n",
      "epoch: 03, loss: -0.44651\n",
      "epoch: 04, loss: -0.44604\n",
      "epoch: 05, loss: -0.44624\n",
      "epoch: 06, loss: -0.44749\n",
      "epoch: 07, loss: -0.44808\n",
      "epoch: 08, loss: -0.44796\n",
      "epoch: 09, loss: -0.44885\n"
     ]
    },
    {
     "name": "stderr",
     "output_type": "stream",
     "text": [
      " 94%|█████████▍| 945/1000 [5:59:44<19:46, 21.58s/it]"
     ]
    },
    {
     "name": "stdout",
     "output_type": "stream",
     "text": [
      "eigenvalues shape torch.Size([5]) eigenvectors shape torch.Size([5, 450])\n",
      "945 /home/phdcs2/Hard_Disk/Datasets/Deep-Spectral-Segmentation/data/object-segmentation/ECSSD/features/dino_vits16/0946.pth\n",
      "0946\n",
      "Starting Training\n",
      "epoch: 00, loss: -0.36529\n",
      "epoch: 01, loss: -0.37214\n",
      "epoch: 02, loss: -0.37595\n",
      "epoch: 03, loss: -0.37957\n",
      "epoch: 04, loss: -0.38330\n",
      "epoch: 05, loss: -0.38558\n",
      "epoch: 06, loss: -0.38856\n",
      "epoch: 07, loss: -0.39047\n",
      "epoch: 08, loss: -0.39263\n",
      "epoch: 09, loss: -0.39376\n"
     ]
    },
    {
     "name": "stderr",
     "output_type": "stream",
     "text": [
      " 95%|█████████▍| 946/1000 [6:00:03<18:56, 21.05s/it]"
     ]
    },
    {
     "name": "stdout",
     "output_type": "stream",
     "text": [
      "eigenvalues shape torch.Size([5]) eigenvectors shape torch.Size([5, 400])\n",
      "946 /home/phdcs2/Hard_Disk/Datasets/Deep-Spectral-Segmentation/data/object-segmentation/ECSSD/features/dino_vits16/0947.pth\n",
      "0947\n",
      "Starting Training\n",
      "epoch: 00, loss: -0.39192\n",
      "epoch: 01, loss: -0.40024\n",
      "epoch: 02, loss: -0.39940\n",
      "epoch: 03, loss: -0.40047\n",
      "epoch: 04, loss: -0.40249\n",
      "epoch: 05, loss: -0.40568\n",
      "epoch: 06, loss: -0.40972\n",
      "epoch: 07, loss: -0.41268\n",
      "epoch: 08, loss: -0.41621\n",
      "epoch: 09, loss: -0.41858\n"
     ]
    },
    {
     "name": "stderr",
     "output_type": "stream",
     "text": [
      " 95%|█████████▍| 947/1000 [6:00:29<19:48, 22.43s/it]"
     ]
    },
    {
     "name": "stdout",
     "output_type": "stream",
     "text": [
      "eigenvalues shape torch.Size([5]) eigenvectors shape torch.Size([5, 500])\n",
      "947 /home/phdcs2/Hard_Disk/Datasets/Deep-Spectral-Segmentation/data/object-segmentation/ECSSD/features/dino_vits16/0948.pth\n",
      "0948\n",
      "Starting Training\n",
      "epoch: 00, loss: -0.39043\n",
      "epoch: 01, loss: -0.40451\n",
      "epoch: 02, loss: -0.40425\n",
      "epoch: 03, loss: -0.40373\n",
      "epoch: 04, loss: -0.40350\n",
      "epoch: 05, loss: -0.40272\n",
      "epoch: 06, loss: -0.40238\n",
      "epoch: 07, loss: -0.40193\n",
      "epoch: 08, loss: -0.40177\n",
      "epoch: 09, loss: -0.40176\n"
     ]
    },
    {
     "name": "stderr",
     "output_type": "stream",
     "text": [
      " 95%|█████████▍| 948/1000 [6:00:50<18:55, 21.83s/it]"
     ]
    },
    {
     "name": "stdout",
     "output_type": "stream",
     "text": [
      "eigenvalues shape torch.Size([5]) eigenvectors shape torch.Size([5, 400])\n",
      "948 /home/phdcs2/Hard_Disk/Datasets/Deep-Spectral-Segmentation/data/object-segmentation/ECSSD/features/dino_vits16/0949.pth\n",
      "0949\n",
      "Starting Training\n",
      "epoch: 00, loss: -0.37623\n",
      "epoch: 01, loss: -0.37983\n",
      "epoch: 02, loss: -0.37626\n",
      "epoch: 03, loss: -0.37535\n",
      "epoch: 04, loss: -0.37388\n",
      "epoch: 05, loss: -0.37352\n",
      "epoch: 06, loss: -0.37289\n",
      "epoch: 07, loss: -0.37269\n",
      "epoch: 08, loss: -0.37197\n",
      "epoch: 09, loss: -0.37137\n"
     ]
    },
    {
     "name": "stderr",
     "output_type": "stream",
     "text": [
      " 95%|█████████▍| 949/1000 [6:01:10<18:10, 21.39s/it]"
     ]
    },
    {
     "name": "stdout",
     "output_type": "stream",
     "text": [
      "eigenvalues shape torch.Size([5]) eigenvectors shape torch.Size([5, 400])\n",
      "949 /home/phdcs2/Hard_Disk/Datasets/Deep-Spectral-Segmentation/data/object-segmentation/ECSSD/features/dino_vits16/0950.pth\n",
      "0950\n",
      "Starting Training\n",
      "epoch: 00, loss: -0.50630\n",
      "epoch: 01, loss: -0.52002\n",
      "epoch: 02, loss: -0.52733\n",
      "epoch: 03, loss: -0.53185\n",
      "epoch: 04, loss: -0.53630\n",
      "epoch: 05, loss: -0.54040\n",
      "epoch: 06, loss: -0.54419\n",
      "epoch: 07, loss: -0.54705\n",
      "epoch: 08, loss: -0.54897\n",
      "epoch: 09, loss: -0.55028\n"
     ]
    },
    {
     "name": "stderr",
     "output_type": "stream",
     "text": [
      " 95%|█████████▌| 950/1000 [6:01:33<18:09, 21.79s/it]"
     ]
    },
    {
     "name": "stdout",
     "output_type": "stream",
     "text": [
      "eigenvalues shape torch.Size([5]) eigenvectors shape torch.Size([5, 450])\n",
      "950 /home/phdcs2/Hard_Disk/Datasets/Deep-Spectral-Segmentation/data/object-segmentation/ECSSD/features/dino_vits16/0951.pth\n",
      "0951\n",
      "Starting Training\n",
      "epoch: 00, loss: -0.36397\n",
      "epoch: 01, loss: -0.36967\n",
      "epoch: 02, loss: -0.37326\n",
      "epoch: 03, loss: -0.37410\n",
      "epoch: 04, loss: -0.37414\n",
      "epoch: 05, loss: -0.37497\n",
      "epoch: 06, loss: -0.37456\n",
      "epoch: 07, loss: -0.37368\n",
      "epoch: 08, loss: -0.37371\n",
      "epoch: 09, loss: -0.37364\n"
     ]
    },
    {
     "name": "stderr",
     "output_type": "stream",
     "text": [
      " 95%|█████████▌| 951/1000 [6:01:53<17:27, 21.37s/it]"
     ]
    },
    {
     "name": "stdout",
     "output_type": "stream",
     "text": [
      "eigenvalues shape torch.Size([5]) eigenvectors shape torch.Size([5, 400])\n",
      "951 /home/phdcs2/Hard_Disk/Datasets/Deep-Spectral-Segmentation/data/object-segmentation/ECSSD/features/dino_vits16/0952.pth\n",
      "0952\n",
      "Starting Training\n",
      "epoch: 00, loss: -0.35245\n",
      "epoch: 01, loss: -0.35981\n",
      "epoch: 02, loss: -0.36075\n",
      "epoch: 03, loss: -0.36161\n",
      "epoch: 04, loss: -0.36321\n",
      "epoch: 05, loss: -0.36363\n",
      "epoch: 06, loss: -0.36578\n",
      "epoch: 07, loss: -0.36923\n",
      "epoch: 08, loss: -0.37274\n",
      "epoch: 09, loss: -0.37617\n"
     ]
    },
    {
     "name": "stderr",
     "output_type": "stream",
     "text": [
      " 95%|█████████▌| 952/1000 [6:02:13<16:52, 21.10s/it]"
     ]
    },
    {
     "name": "stdout",
     "output_type": "stream",
     "text": [
      "eigenvalues shape torch.Size([5]) eigenvectors shape torch.Size([5, 400])\n",
      "952 /home/phdcs2/Hard_Disk/Datasets/Deep-Spectral-Segmentation/data/object-segmentation/ECSSD/features/dino_vits16/0953.pth\n",
      "0953\n",
      "Starting Training\n",
      "epoch: 00, loss: -0.66095\n",
      "epoch: 01, loss: -0.74681\n",
      "epoch: 02, loss: -0.74999\n",
      "epoch: 03, loss: -0.75152\n",
      "epoch: 04, loss: -0.75262\n",
      "epoch: 05, loss: -0.75340\n",
      "epoch: 06, loss: -0.75372\n",
      "epoch: 07, loss: -0.75426\n",
      "epoch: 08, loss: -0.75451\n",
      "epoch: 09, loss: -0.75498\n"
     ]
    },
    {
     "name": "stderr",
     "output_type": "stream",
     "text": [
      " 95%|█████████▌| 953/1000 [6:02:36<16:52, 21.54s/it]"
     ]
    },
    {
     "name": "stdout",
     "output_type": "stream",
     "text": [
      "eigenvalues shape torch.Size([5]) eigenvectors shape torch.Size([5, 450])\n",
      "953 /home/phdcs2/Hard_Disk/Datasets/Deep-Spectral-Segmentation/data/object-segmentation/ECSSD/features/dino_vits16/0954.pth\n",
      "0954\n",
      "Starting Training\n",
      "epoch: 00, loss: -0.58254\n",
      "epoch: 01, loss: -0.68327\n",
      "epoch: 02, loss: -0.69081\n",
      "epoch: 03, loss: -0.69402\n",
      "epoch: 04, loss: -0.69560\n",
      "epoch: 05, loss: -0.69698\n",
      "epoch: 06, loss: -0.69800\n",
      "epoch: 07, loss: -0.69930\n",
      "epoch: 08, loss: -0.69998\n",
      "epoch: 09, loss: -0.70029\n"
     ]
    },
    {
     "name": "stderr",
     "output_type": "stream",
     "text": [
      " 95%|█████████▌| 954/1000 [6:02:55<16:01, 20.90s/it]"
     ]
    },
    {
     "name": "stdout",
     "output_type": "stream",
     "text": [
      "eigenvalues shape torch.Size([5]) eigenvectors shape torch.Size([5, 375])\n",
      "954 /home/phdcs2/Hard_Disk/Datasets/Deep-Spectral-Segmentation/data/object-segmentation/ECSSD/features/dino_vits16/0955.pth\n",
      "0955\n",
      "Starting Training\n",
      "epoch: 00, loss: -0.35967\n",
      "epoch: 01, loss: -0.36203\n",
      "epoch: 02, loss: -0.37020\n",
      "epoch: 03, loss: -0.37789\n",
      "epoch: 04, loss: -0.39010\n",
      "epoch: 05, loss: -0.39988\n",
      "epoch: 06, loss: -0.41226\n",
      "epoch: 07, loss: -0.42270\n",
      "epoch: 08, loss: -0.43267\n",
      "epoch: 09, loss: -0.44456\n"
     ]
    },
    {
     "name": "stderr",
     "output_type": "stream",
     "text": [
      " 96%|█████████▌| 955/1000 [6:03:18<16:03, 21.41s/it]"
     ]
    },
    {
     "name": "stdout",
     "output_type": "stream",
     "text": [
      "eigenvalues shape torch.Size([5]) eigenvectors shape torch.Size([5, 450])\n",
      "955 /home/phdcs2/Hard_Disk/Datasets/Deep-Spectral-Segmentation/data/object-segmentation/ECSSD/features/dino_vits16/0956.pth\n",
      "0956\n",
      "Starting Training\n",
      "epoch: 00, loss: -0.39319\n",
      "epoch: 01, loss: -0.40330\n",
      "epoch: 02, loss: -0.40883\n",
      "epoch: 03, loss: -0.41349\n",
      "epoch: 04, loss: -0.41841\n",
      "epoch: 05, loss: -0.42275\n",
      "epoch: 06, loss: -0.42664\n",
      "epoch: 07, loss: -0.43103\n",
      "epoch: 08, loss: -0.43375\n",
      "epoch: 09, loss: -0.43572\n"
     ]
    },
    {
     "name": "stderr",
     "output_type": "stream",
     "text": [
      " 96%|█████████▌| 956/1000 [6:03:39<15:30, 21.14s/it]"
     ]
    },
    {
     "name": "stdout",
     "output_type": "stream",
     "text": [
      "eigenvalues shape torch.Size([5]) eigenvectors shape torch.Size([5, 400])\n",
      "956 /home/phdcs2/Hard_Disk/Datasets/Deep-Spectral-Segmentation/data/object-segmentation/ECSSD/features/dino_vits16/0957.pth\n",
      "0957\n",
      "Starting Training\n",
      "epoch: 00, loss: -0.58864\n",
      "epoch: 01, loss: -0.60743\n",
      "epoch: 02, loss: -0.61020\n",
      "epoch: 03, loss: -0.61204\n",
      "epoch: 04, loss: -0.61356\n",
      "epoch: 05, loss: -0.61532\n",
      "epoch: 06, loss: -0.61658\n",
      "epoch: 07, loss: -0.61808\n",
      "epoch: 08, loss: -0.61881\n",
      "epoch: 09, loss: -0.61978\n"
     ]
    },
    {
     "name": "stderr",
     "output_type": "stream",
     "text": [
      " 96%|█████████▌| 957/1000 [6:03:59<14:58, 20.89s/it]"
     ]
    },
    {
     "name": "stdout",
     "output_type": "stream",
     "text": [
      "eigenvalues shape torch.Size([5]) eigenvectors shape torch.Size([5, 400])\n",
      "957 /home/phdcs2/Hard_Disk/Datasets/Deep-Spectral-Segmentation/data/object-segmentation/ECSSD/features/dino_vits16/0958.pth\n",
      "0958\n",
      "Starting Training\n",
      "epoch: 00, loss: -0.35192\n",
      "epoch: 01, loss: -0.35993\n",
      "epoch: 02, loss: -0.37303\n",
      "epoch: 03, loss: -0.38157\n",
      "epoch: 04, loss: -0.38865\n",
      "epoch: 05, loss: -0.39520\n",
      "epoch: 06, loss: -0.40065\n",
      "epoch: 07, loss: -0.40548\n",
      "epoch: 08, loss: -0.40990\n",
      "epoch: 09, loss: -0.41497\n"
     ]
    },
    {
     "name": "stderr",
     "output_type": "stream",
     "text": [
      " 96%|█████████▌| 958/1000 [6:04:24<15:25, 22.04s/it]"
     ]
    },
    {
     "name": "stdout",
     "output_type": "stream",
     "text": [
      "eigenvalues shape torch.Size([5]) eigenvectors shape torch.Size([5, 475])\n",
      "958 /home/phdcs2/Hard_Disk/Datasets/Deep-Spectral-Segmentation/data/object-segmentation/ECSSD/features/dino_vits16/0959.pth\n",
      "0959\n",
      "Starting Training\n",
      "epoch: 00, loss: -0.40236\n",
      "epoch: 01, loss: -0.41530\n",
      "epoch: 02, loss: -0.41995\n",
      "epoch: 03, loss: -0.42405\n",
      "epoch: 04, loss: -0.42727\n",
      "epoch: 05, loss: -0.43018\n",
      "epoch: 06, loss: -0.43262\n",
      "epoch: 07, loss: -0.43614\n",
      "epoch: 08, loss: -0.43764\n",
      "epoch: 09, loss: -0.43941\n"
     ]
    },
    {
     "name": "stderr",
     "output_type": "stream",
     "text": [
      " 96%|█████████▌| 959/1000 [6:04:46<15:06, 22.10s/it]"
     ]
    },
    {
     "name": "stdout",
     "output_type": "stream",
     "text": [
      "eigenvalues shape torch.Size([5]) eigenvectors shape torch.Size([5, 450])\n",
      "959 /home/phdcs2/Hard_Disk/Datasets/Deep-Spectral-Segmentation/data/object-segmentation/ECSSD/features/dino_vits16/0960.pth\n",
      "0960\n",
      "Starting Training\n",
      "epoch: 00, loss: -0.40435\n",
      "epoch: 01, loss: -0.41375\n",
      "epoch: 02, loss: -0.41245\n",
      "epoch: 03, loss: -0.41126\n",
      "epoch: 04, loss: -0.41043\n",
      "epoch: 05, loss: -0.40965\n",
      "epoch: 06, loss: -0.40794\n",
      "epoch: 07, loss: -0.40747\n",
      "epoch: 08, loss: -0.40600\n",
      "epoch: 09, loss: -0.40401\n"
     ]
    },
    {
     "name": "stderr",
     "output_type": "stream",
     "text": [
      " 96%|█████████▌| 960/1000 [6:05:07<14:29, 21.74s/it]"
     ]
    },
    {
     "name": "stdout",
     "output_type": "stream",
     "text": [
      "eigenvalues shape torch.Size([5]) eigenvectors shape torch.Size([5, 400])\n",
      "960 /home/phdcs2/Hard_Disk/Datasets/Deep-Spectral-Segmentation/data/object-segmentation/ECSSD/features/dino_vits16/0961.pth\n",
      "0961\n",
      "Starting Training\n",
      "epoch: 00, loss: -0.38847\n",
      "epoch: 01, loss: -0.40346\n",
      "epoch: 02, loss: -0.40373\n",
      "epoch: 03, loss: -0.40217\n",
      "epoch: 04, loss: -0.40249\n",
      "epoch: 05, loss: -0.40248\n",
      "epoch: 06, loss: -0.40231\n",
      "epoch: 07, loss: -0.40249\n",
      "epoch: 08, loss: -0.40284\n",
      "epoch: 09, loss: -0.40359\n"
     ]
    },
    {
     "name": "stderr",
     "output_type": "stream",
     "text": [
      " 96%|█████████▌| 961/1000 [6:05:27<13:49, 21.27s/it]"
     ]
    },
    {
     "name": "stdout",
     "output_type": "stream",
     "text": [
      "eigenvalues shape torch.Size([5]) eigenvectors shape torch.Size([5, 400])\n",
      "961 /home/phdcs2/Hard_Disk/Datasets/Deep-Spectral-Segmentation/data/object-segmentation/ECSSD/features/dino_vits16/0962.pth\n",
      "0962\n",
      "Starting Training\n",
      "epoch: 00, loss: -0.42766\n",
      "epoch: 01, loss: -0.45017\n",
      "epoch: 02, loss: -0.45261\n",
      "epoch: 03, loss: -0.45375\n",
      "epoch: 04, loss: -0.45432\n",
      "epoch: 05, loss: -0.45505\n",
      "epoch: 06, loss: -0.45526\n",
      "epoch: 07, loss: -0.45582\n",
      "epoch: 08, loss: -0.45621\n",
      "epoch: 09, loss: -0.45627\n"
     ]
    },
    {
     "name": "stderr",
     "output_type": "stream",
     "text": [
      " 96%|█████████▌| 962/1000 [6:05:47<13:09, 20.78s/it]"
     ]
    },
    {
     "name": "stdout",
     "output_type": "stream",
     "text": [
      "eigenvalues shape torch.Size([5]) eigenvectors shape torch.Size([5, 375])\n",
      "962 /home/phdcs2/Hard_Disk/Datasets/Deep-Spectral-Segmentation/data/object-segmentation/ECSSD/features/dino_vits16/0963.pth\n",
      "0963\n",
      "Starting Training\n",
      "epoch: 00, loss: -0.38538\n",
      "epoch: 01, loss: -0.38740\n",
      "epoch: 02, loss: -0.38358\n",
      "epoch: 03, loss: -0.38128\n",
      "epoch: 04, loss: -0.37981\n",
      "epoch: 05, loss: -0.37900\n",
      "epoch: 06, loss: -0.37898\n",
      "epoch: 07, loss: -0.37859\n",
      "epoch: 08, loss: -0.37870\n",
      "epoch: 09, loss: -0.37922\n",
      " ** On entry to SLASCL parameter number  4 had an illegal value\n",
      " ** On entry to SLASCL parameter number  4 had an illegal value\n"
     ]
    },
    {
     "name": "stderr",
     "output_type": "stream",
     "text": [
      " 96%|█████████▋| 963/1000 [6:06:08<12:51, 20.85s/it]"
     ]
    },
    {
     "name": "stdout",
     "output_type": "stream",
     "text": [
      "eigenvalues shape torch.Size([5]) eigenvectors shape torch.Size([5, 400])\n",
      "963 /home/phdcs2/Hard_Disk/Datasets/Deep-Spectral-Segmentation/data/object-segmentation/ECSSD/features/dino_vits16/0964.pth\n",
      "0964\n",
      "Starting Training\n",
      "epoch: 00, loss: -0.37926\n",
      "epoch: 01, loss: -0.39014\n",
      "epoch: 02, loss: -0.39435\n",
      "epoch: 03, loss: -0.40040\n",
      "epoch: 04, loss: -0.40309\n",
      "epoch: 05, loss: -0.40493\n",
      "epoch: 06, loss: -0.40572\n",
      "epoch: 07, loss: -0.40777\n",
      "epoch: 08, loss: -0.40935\n",
      "epoch: 09, loss: -0.41151\n"
     ]
    },
    {
     "name": "stderr",
     "output_type": "stream",
     "text": [
      " 96%|█████████▋| 964/1000 [6:06:28<12:23, 20.64s/it]"
     ]
    },
    {
     "name": "stdout",
     "output_type": "stream",
     "text": [
      "eigenvalues shape torch.Size([5]) eigenvectors shape torch.Size([5, 400])\n",
      "964 /home/phdcs2/Hard_Disk/Datasets/Deep-Spectral-Segmentation/data/object-segmentation/ECSSD/features/dino_vits16/0965.pth\n",
      "0965\n",
      "Starting Training\n",
      "epoch: 00, loss: -0.41668\n",
      "epoch: 01, loss: -0.42336\n",
      "epoch: 02, loss: -0.42310\n",
      "epoch: 03, loss: -0.42390\n",
      "epoch: 04, loss: -0.42297\n",
      "epoch: 05, loss: -0.42177\n",
      "epoch: 06, loss: -0.42081\n",
      "epoch: 07, loss: -0.42077\n",
      "epoch: 08, loss: -0.42019\n",
      "epoch: 09, loss: -0.42043\n"
     ]
    },
    {
     "name": "stderr",
     "output_type": "stream",
     "text": [
      " 96%|█████████▋| 965/1000 [6:06:46<11:36, 19.90s/it]"
     ]
    },
    {
     "name": "stdout",
     "output_type": "stream",
     "text": [
      "eigenvalues shape torch.Size([5]) eigenvectors shape torch.Size([5, 350])\n",
      "965 /home/phdcs2/Hard_Disk/Datasets/Deep-Spectral-Segmentation/data/object-segmentation/ECSSD/features/dino_vits16/0966.pth\n",
      "0966\n",
      "Starting Training\n",
      "epoch: 00, loss: -0.42533\n",
      "epoch: 01, loss: -0.43290\n",
      "epoch: 02, loss: -0.43105\n",
      "epoch: 03, loss: -0.43227\n",
      "epoch: 04, loss: -0.43344\n",
      "epoch: 05, loss: -0.43361\n",
      "epoch: 06, loss: -0.43255\n",
      "epoch: 07, loss: -0.43215\n",
      "epoch: 08, loss: -0.43095\n",
      "epoch: 09, loss: -0.43093\n"
     ]
    },
    {
     "name": "stderr",
     "output_type": "stream",
     "text": [
      " 97%|█████████▋| 966/1000 [6:07:10<12:03, 21.27s/it]"
     ]
    },
    {
     "name": "stdout",
     "output_type": "stream",
     "text": [
      "eigenvalues shape torch.Size([5]) eigenvectors shape torch.Size([5, 475])\n",
      "966 /home/phdcs2/Hard_Disk/Datasets/Deep-Spectral-Segmentation/data/object-segmentation/ECSSD/features/dino_vits16/0967.pth\n",
      "0967\n",
      "Starting Training\n",
      "epoch: 00, loss: -0.40925\n",
      "epoch: 01, loss: -0.40481\n",
      "epoch: 02, loss: -0.40485\n",
      "epoch: 03, loss: -0.40451\n",
      "epoch: 04, loss: -0.40498\n",
      "epoch: 05, loss: -0.40533\n",
      "epoch: 06, loss: -0.40586\n",
      "epoch: 07, loss: -0.40897\n",
      "epoch: 08, loss: -0.41201\n",
      "epoch: 09, loss: -0.41615\n"
     ]
    },
    {
     "name": "stderr",
     "output_type": "stream",
     "text": [
      " 97%|█████████▋| 967/1000 [6:07:33<11:59, 21.81s/it]"
     ]
    },
    {
     "name": "stdout",
     "output_type": "stream",
     "text": [
      "eigenvalues shape torch.Size([5]) eigenvectors shape torch.Size([5, 450])\n",
      "967 /home/phdcs2/Hard_Disk/Datasets/Deep-Spectral-Segmentation/data/object-segmentation/ECSSD/features/dino_vits16/0968.pth\n",
      "0968\n",
      "Starting Training\n",
      "epoch: 00, loss: -0.60545\n",
      "epoch: 01, loss: -0.64313\n",
      "epoch: 02, loss: -0.64532\n",
      "epoch: 03, loss: -0.64701\n",
      "epoch: 04, loss: -0.64830\n",
      "epoch: 05, loss: -0.64947\n",
      "epoch: 06, loss: -0.65046\n",
      "epoch: 07, loss: -0.65102\n",
      "epoch: 08, loss: -0.65175\n",
      "epoch: 09, loss: -0.65228\n"
     ]
    },
    {
     "name": "stderr",
     "output_type": "stream",
     "text": [
      " 97%|█████████▋| 968/1000 [6:07:53<11:17, 21.16s/it]"
     ]
    },
    {
     "name": "stdout",
     "output_type": "stream",
     "text": [
      "eigenvalues shape torch.Size([5]) eigenvectors shape torch.Size([5, 400])\n",
      "968 /home/phdcs2/Hard_Disk/Datasets/Deep-Spectral-Segmentation/data/object-segmentation/ECSSD/features/dino_vits16/0969.pth\n",
      "0969\n",
      "Starting Training\n",
      "epoch: 00, loss: -0.42461\n",
      "epoch: 01, loss: -0.42311\n",
      "epoch: 02, loss: -0.42497\n",
      "epoch: 03, loss: -0.42711\n",
      "epoch: 04, loss: -0.42895\n",
      "epoch: 05, loss: -0.42960\n",
      "epoch: 06, loss: -0.43037\n",
      "epoch: 07, loss: -0.43184\n",
      "epoch: 08, loss: -0.43298\n",
      "epoch: 09, loss: -0.43486\n"
     ]
    },
    {
     "name": "stderr",
     "output_type": "stream",
     "text": [
      " 97%|█████████▋| 969/1000 [6:08:16<11:13, 21.74s/it]"
     ]
    },
    {
     "name": "stdout",
     "output_type": "stream",
     "text": [
      "eigenvalues shape torch.Size([5]) eigenvectors shape torch.Size([5, 450])\n",
      "969 /home/phdcs2/Hard_Disk/Datasets/Deep-Spectral-Segmentation/data/object-segmentation/ECSSD/features/dino_vits16/0970.pth\n",
      "0970\n",
      "Starting Training\n",
      "epoch: 00, loss: -0.45809\n",
      "epoch: 01, loss: -0.48733\n",
      "epoch: 02, loss: -0.49181\n",
      "epoch: 03, loss: -0.49476\n",
      "epoch: 04, loss: -0.49657\n",
      "epoch: 05, loss: -0.49793\n",
      "epoch: 06, loss: -0.49959\n",
      "epoch: 07, loss: -0.50107\n",
      "epoch: 08, loss: -0.50239\n",
      "epoch: 09, loss: -0.50332\n"
     ]
    },
    {
     "name": "stderr",
     "output_type": "stream",
     "text": [
      " 97%|█████████▋| 970/1000 [6:08:37<10:42, 21.41s/it]"
     ]
    },
    {
     "name": "stdout",
     "output_type": "stream",
     "text": [
      "eigenvalues shape torch.Size([5]) eigenvectors shape torch.Size([5, 400])\n",
      "970 /home/phdcs2/Hard_Disk/Datasets/Deep-Spectral-Segmentation/data/object-segmentation/ECSSD/features/dino_vits16/0971.pth\n",
      "0971\n",
      "Starting Training\n",
      "epoch: 00, loss: -0.42922\n",
      "epoch: 01, loss: -0.43357\n",
      "epoch: 02, loss: -0.43080\n",
      "epoch: 03, loss: -0.43084\n",
      "epoch: 04, loss: -0.43068\n",
      "epoch: 05, loss: -0.42927\n",
      "epoch: 06, loss: -0.42776\n",
      "epoch: 07, loss: -0.42597\n",
      "epoch: 08, loss: -0.42465\n",
      "epoch: 09, loss: -0.42355\n"
     ]
    },
    {
     "name": "stderr",
     "output_type": "stream",
     "text": [
      " 97%|█████████▋| 971/1000 [6:08:57<10:12, 21.11s/it]"
     ]
    },
    {
     "name": "stdout",
     "output_type": "stream",
     "text": [
      "eigenvalues shape torch.Size([5]) eigenvectors shape torch.Size([5, 400])\n",
      "971 /home/phdcs2/Hard_Disk/Datasets/Deep-Spectral-Segmentation/data/object-segmentation/ECSSD/features/dino_vits16/0972.pth\n",
      "0972\n",
      "Starting Training\n",
      "epoch: 00, loss: -0.38601\n",
      "epoch: 01, loss: -0.39922\n",
      "epoch: 02, loss: -0.40418\n",
      "epoch: 03, loss: -0.40505\n",
      "epoch: 04, loss: -0.40985\n",
      "epoch: 05, loss: -0.41195\n",
      "epoch: 06, loss: -0.41435\n",
      "epoch: 07, loss: -0.41737\n",
      "epoch: 08, loss: -0.42012\n",
      "epoch: 09, loss: -0.42416\n"
     ]
    },
    {
     "name": "stderr",
     "output_type": "stream",
     "text": [
      " 97%|█████████▋| 972/1000 [6:09:23<10:31, 22.56s/it]"
     ]
    },
    {
     "name": "stdout",
     "output_type": "stream",
     "text": [
      "eigenvalues shape torch.Size([5]) eigenvectors shape torch.Size([5, 525])\n",
      "972 /home/phdcs2/Hard_Disk/Datasets/Deep-Spectral-Segmentation/data/object-segmentation/ECSSD/features/dino_vits16/0973.pth\n",
      "0973\n",
      "Starting Training\n",
      "epoch: 00, loss: -0.41263\n",
      "epoch: 01, loss: -0.42419\n",
      "epoch: 02, loss: -0.43104\n",
      "epoch: 03, loss: -0.44000\n",
      "epoch: 04, loss: -0.44866\n",
      "epoch: 05, loss: -0.45317\n",
      "epoch: 06, loss: -0.45743\n",
      "epoch: 07, loss: -0.46233\n",
      "epoch: 08, loss: -0.46548\n",
      "epoch: 09, loss: -0.46762\n"
     ]
    },
    {
     "name": "stderr",
     "output_type": "stream",
     "text": [
      " 97%|█████████▋| 973/1000 [6:09:43<09:46, 21.73s/it]"
     ]
    },
    {
     "name": "stdout",
     "output_type": "stream",
     "text": [
      "eigenvalues shape torch.Size([5]) eigenvectors shape torch.Size([5, 400])\n",
      "973 /home/phdcs2/Hard_Disk/Datasets/Deep-Spectral-Segmentation/data/object-segmentation/ECSSD/features/dino_vits16/0974.pth\n",
      "0974\n",
      "Starting Training\n",
      "epoch: 00, loss: -0.38647\n",
      "epoch: 01, loss: -0.38851\n",
      "epoch: 02, loss: -0.38981\n",
      "epoch: 03, loss: -0.39020\n",
      "epoch: 04, loss: -0.39114\n",
      "epoch: 05, loss: -0.39050\n",
      "epoch: 06, loss: -0.39121\n",
      "epoch: 07, loss: -0.39104\n",
      "epoch: 08, loss: -0.39115\n",
      "epoch: 09, loss: -0.39175\n"
     ]
    },
    {
     "name": "stderr",
     "output_type": "stream",
     "text": [
      " 97%|█████████▋| 974/1000 [6:10:07<09:46, 22.57s/it]"
     ]
    },
    {
     "name": "stdout",
     "output_type": "stream",
     "text": [
      "eigenvalues shape torch.Size([5]) eigenvectors shape torch.Size([5, 500])\n",
      "974 /home/phdcs2/Hard_Disk/Datasets/Deep-Spectral-Segmentation/data/object-segmentation/ECSSD/features/dino_vits16/0975.pth\n",
      "0975\n",
      "Starting Training\n",
      "epoch: 00, loss: -0.39290\n",
      "epoch: 01, loss: -0.39198\n",
      "epoch: 02, loss: -0.38666\n",
      "epoch: 03, loss: -0.38628\n",
      "epoch: 04, loss: -0.38487\n",
      "epoch: 05, loss: -0.38514\n",
      "epoch: 06, loss: -0.38462\n",
      "epoch: 07, loss: -0.38297\n",
      "epoch: 08, loss: -0.38349\n",
      "epoch: 09, loss: -0.38590\n"
     ]
    },
    {
     "name": "stderr",
     "output_type": "stream",
     "text": [
      " 98%|█████████▊| 975/1000 [6:10:31<09:29, 22.78s/it]"
     ]
    },
    {
     "name": "stdout",
     "output_type": "stream",
     "text": [
      "eigenvalues shape torch.Size([5]) eigenvectors shape torch.Size([5, 450])\n",
      "975 /home/phdcs2/Hard_Disk/Datasets/Deep-Spectral-Segmentation/data/object-segmentation/ECSSD/features/dino_vits16/0976.pth\n",
      "0976\n",
      "Starting Training\n",
      "epoch: 00, loss: -0.53676\n",
      "epoch: 01, loss: -0.54630\n",
      "epoch: 02, loss: -0.55374\n",
      "epoch: 03, loss: -0.55979\n",
      "epoch: 04, loss: -0.56695\n",
      "epoch: 05, loss: -0.57219\n",
      "epoch: 06, loss: -0.57641\n",
      "epoch: 07, loss: -0.58019\n",
      "epoch: 08, loss: -0.58340\n",
      "epoch: 09, loss: -0.58668\n"
     ]
    },
    {
     "name": "stderr",
     "output_type": "stream",
     "text": [
      " 98%|█████████▊| 976/1000 [6:10:52<08:52, 22.20s/it]"
     ]
    },
    {
     "name": "stdout",
     "output_type": "stream",
     "text": [
      "eigenvalues shape torch.Size([5]) eigenvectors shape torch.Size([5, 400])\n",
      "976 /home/phdcs2/Hard_Disk/Datasets/Deep-Spectral-Segmentation/data/object-segmentation/ECSSD/features/dino_vits16/0977.pth\n",
      "0977\n",
      "Starting Training\n",
      "epoch: 00, loss: -0.37635\n",
      "epoch: 01, loss: -0.39041\n",
      "epoch: 02, loss: -0.41130\n",
      "epoch: 03, loss: -0.43084\n",
      "epoch: 04, loss: -0.44136\n",
      "epoch: 05, loss: -0.44866\n",
      "epoch: 06, loss: -0.45304\n",
      "epoch: 07, loss: -0.45428\n",
      "epoch: 08, loss: -0.45546\n",
      "epoch: 09, loss: -0.45664\n"
     ]
    },
    {
     "name": "stderr",
     "output_type": "stream",
     "text": [
      " 98%|█████████▊| 977/1000 [6:11:19<09:03, 23.63s/it]"
     ]
    },
    {
     "name": "stdout",
     "output_type": "stream",
     "text": [
      "eigenvalues shape torch.Size([5]) eigenvectors shape torch.Size([5, 525])\n",
      "977 /home/phdcs2/Hard_Disk/Datasets/Deep-Spectral-Segmentation/data/object-segmentation/ECSSD/features/dino_vits16/0978.pth\n",
      "0978\n",
      "Starting Training\n",
      "epoch: 00, loss: -0.44781\n",
      "epoch: 01, loss: -0.43892\n",
      "epoch: 02, loss: -0.44083\n",
      "epoch: 03, loss: -0.44351\n",
      "epoch: 04, loss: -0.44556\n",
      "epoch: 05, loss: -0.44860\n",
      "epoch: 06, loss: -0.45184\n",
      "epoch: 07, loss: -0.45512\n",
      "epoch: 08, loss: -0.45757\n",
      "epoch: 09, loss: -0.46122\n"
     ]
    },
    {
     "name": "stderr",
     "output_type": "stream",
     "text": [
      " 98%|█████████▊| 978/1000 [6:11:39<08:15, 22.53s/it]"
     ]
    },
    {
     "name": "stdout",
     "output_type": "stream",
     "text": [
      "eigenvalues shape torch.Size([5]) eigenvectors shape torch.Size([5, 400])\n",
      "978 /home/phdcs2/Hard_Disk/Datasets/Deep-Spectral-Segmentation/data/object-segmentation/ECSSD/features/dino_vits16/0979.pth\n",
      "0979\n",
      "Starting Training\n",
      "epoch: 00, loss: -0.42814\n",
      "epoch: 01, loss: -0.42613\n",
      "epoch: 02, loss: -0.42702\n",
      "epoch: 03, loss: -0.42991\n",
      "epoch: 04, loss: -0.43221\n",
      "epoch: 05, loss: -0.43539\n",
      "epoch: 06, loss: -0.43802\n",
      "epoch: 07, loss: -0.44046\n",
      "epoch: 08, loss: -0.44246\n",
      "epoch: 09, loss: -0.44518\n"
     ]
    },
    {
     "name": "stderr",
     "output_type": "stream",
     "text": [
      " 98%|█████████▊| 979/1000 [6:12:06<08:24, 24.05s/it]"
     ]
    },
    {
     "name": "stdout",
     "output_type": "stream",
     "text": [
      "eigenvalues shape torch.Size([5]) eigenvectors shape torch.Size([5, 525])\n",
      "979 /home/phdcs2/Hard_Disk/Datasets/Deep-Spectral-Segmentation/data/object-segmentation/ECSSD/features/dino_vits16/0980.pth\n",
      "0980\n",
      "Starting Training\n",
      "epoch: 00, loss: -0.38966\n",
      "epoch: 01, loss: -0.38438\n",
      "epoch: 02, loss: -0.38080\n",
      "epoch: 03, loss: -0.38421\n",
      "epoch: 04, loss: -0.38827\n",
      "epoch: 05, loss: -0.39333\n",
      "epoch: 06, loss: -0.39708\n",
      "epoch: 07, loss: -0.40014\n",
      "epoch: 08, loss: -0.40396\n",
      "epoch: 09, loss: -0.40700\n"
     ]
    },
    {
     "name": "stderr",
     "output_type": "stream",
     "text": [
      " 98%|█████████▊| 980/1000 [6:12:35<08:29, 25.47s/it]"
     ]
    },
    {
     "name": "stdout",
     "output_type": "stream",
     "text": [
      "eigenvalues shape torch.Size([5]) eigenvectors shape torch.Size([5, 550])\n",
      "980 /home/phdcs2/Hard_Disk/Datasets/Deep-Spectral-Segmentation/data/object-segmentation/ECSSD/features/dino_vits16/0981.pth\n",
      "0981\n",
      "Starting Training\n",
      "epoch: 00, loss: -0.39320\n",
      "epoch: 01, loss: -0.39976\n",
      "epoch: 02, loss: -0.40093\n",
      "epoch: 03, loss: -0.40174\n",
      "epoch: 04, loss: -0.40173\n",
      "epoch: 05, loss: -0.40121\n",
      "epoch: 06, loss: -0.40227\n",
      "epoch: 07, loss: -0.40489\n",
      "epoch: 08, loss: -0.40713\n",
      "epoch: 09, loss: -0.40980\n"
     ]
    },
    {
     "name": "stderr",
     "output_type": "stream",
     "text": [
      " 98%|█████████▊| 981/1000 [6:13:05<08:28, 26.76s/it]"
     ]
    },
    {
     "name": "stdout",
     "output_type": "stream",
     "text": [
      "eigenvalues shape torch.Size([5]) eigenvectors shape torch.Size([5, 600])\n",
      "981 /home/phdcs2/Hard_Disk/Datasets/Deep-Spectral-Segmentation/data/object-segmentation/ECSSD/features/dino_vits16/0982.pth\n",
      "0982\n",
      "Starting Training\n",
      "epoch: 00, loss: -0.37148\n",
      "epoch: 01, loss: -0.38404\n",
      "epoch: 02, loss: -0.39889\n",
      "epoch: 03, loss: -0.41067\n",
      "epoch: 04, loss: -0.42208\n",
      "epoch: 05, loss: -0.43435\n",
      "epoch: 06, loss: -0.44523\n",
      "epoch: 07, loss: -0.45311\n",
      "epoch: 08, loss: -0.46202\n",
      "epoch: 09, loss: -0.46639\n"
     ]
    },
    {
     "name": "stderr",
     "output_type": "stream",
     "text": [
      " 98%|█████████▊| 982/1000 [6:13:26<07:31, 25.06s/it]"
     ]
    },
    {
     "name": "stdout",
     "output_type": "stream",
     "text": [
      "eigenvalues shape torch.Size([5]) eigenvectors shape torch.Size([5, 408])\n",
      "982 /home/phdcs2/Hard_Disk/Datasets/Deep-Spectral-Segmentation/data/object-segmentation/ECSSD/features/dino_vits16/0983.pth\n",
      "0983\n",
      "Starting Training\n",
      "epoch: 00, loss: -0.37372\n",
      "epoch: 01, loss: -0.37771\n",
      "epoch: 02, loss: -0.37662\n",
      "epoch: 03, loss: -0.37485\n",
      "epoch: 04, loss: -0.37255\n",
      "epoch: 05, loss: -0.37223\n",
      "epoch: 06, loss: -0.37353\n",
      "epoch: 07, loss: -0.37646\n",
      "epoch: 08, loss: -0.38110\n",
      "epoch: 09, loss: -0.38756\n"
     ]
    },
    {
     "name": "stderr",
     "output_type": "stream",
     "text": [
      " 98%|█████████▊| 983/1000 [6:13:46<06:41, 23.62s/it]"
     ]
    },
    {
     "name": "stdout",
     "output_type": "stream",
     "text": [
      "eigenvalues shape torch.Size([5]) eigenvectors shape torch.Size([5, 400])\n",
      "983 /home/phdcs2/Hard_Disk/Datasets/Deep-Spectral-Segmentation/data/object-segmentation/ECSSD/features/dino_vits16/0984.pth\n",
      "0984\n",
      "Starting Training\n",
      "epoch: 00, loss: -0.40769\n",
      "epoch: 01, loss: -0.42558\n",
      "epoch: 02, loss: -0.42540\n",
      "epoch: 03, loss: -0.42421\n",
      "epoch: 04, loss: -0.42250\n",
      "epoch: 05, loss: -0.42044\n",
      "epoch: 06, loss: -0.41936\n",
      "epoch: 07, loss: -0.41927\n",
      "epoch: 08, loss: -0.41839\n",
      "epoch: 09, loss: -0.41922\n"
     ]
    },
    {
     "name": "stderr",
     "output_type": "stream",
     "text": [
      " 98%|█████████▊| 984/1000 [6:14:07<06:05, 22.86s/it]"
     ]
    },
    {
     "name": "stdout",
     "output_type": "stream",
     "text": [
      "eigenvalues shape torch.Size([5]) eigenvectors shape torch.Size([5, 400])\n",
      "984 /home/phdcs2/Hard_Disk/Datasets/Deep-Spectral-Segmentation/data/object-segmentation/ECSSD/features/dino_vits16/0985.pth\n",
      "0985\n",
      "Starting Training\n",
      "epoch: 00, loss: -0.35728\n",
      "epoch: 01, loss: -0.36210\n",
      "epoch: 02, loss: -0.36565\n",
      "epoch: 03, loss: -0.36896\n",
      "epoch: 04, loss: -0.37150\n",
      "epoch: 05, loss: -0.37401\n",
      "epoch: 06, loss: -0.37644\n",
      "epoch: 07, loss: -0.37807\n",
      "epoch: 08, loss: -0.37958\n",
      "epoch: 09, loss: -0.38125\n"
     ]
    },
    {
     "name": "stderr",
     "output_type": "stream",
     "text": [
      " 98%|█████████▊| 985/1000 [6:14:27<05:31, 22.12s/it]"
     ]
    },
    {
     "name": "stdout",
     "output_type": "stream",
     "text": [
      "eigenvalues shape torch.Size([5]) eigenvectors shape torch.Size([5, 400])\n",
      "985 /home/phdcs2/Hard_Disk/Datasets/Deep-Spectral-Segmentation/data/object-segmentation/ECSSD/features/dino_vits16/0986.pth\n",
      "0986\n",
      "Starting Training\n",
      "epoch: 00, loss: -0.36837\n",
      "epoch: 01, loss: -0.37399\n",
      "epoch: 02, loss: -0.37600\n",
      "epoch: 03, loss: -0.37680\n",
      "epoch: 04, loss: -0.37893\n",
      "epoch: 05, loss: -0.38295\n",
      "epoch: 06, loss: -0.38523\n",
      "epoch: 07, loss: -0.38880\n",
      "epoch: 08, loss: -0.39049\n",
      "epoch: 09, loss: -0.39221\n"
     ]
    },
    {
     "name": "stderr",
     "output_type": "stream",
     "text": [
      " 99%|█████████▊| 986/1000 [6:14:47<04:56, 21.19s/it]"
     ]
    },
    {
     "name": "stdout",
     "output_type": "stream",
     "text": [
      "eigenvalues shape torch.Size([5]) eigenvectors shape torch.Size([5, 375])\n",
      "986 /home/phdcs2/Hard_Disk/Datasets/Deep-Spectral-Segmentation/data/object-segmentation/ECSSD/features/dino_vits16/0987.pth\n",
      "0987\n",
      "Starting Training\n",
      "epoch: 00, loss: -0.34364\n",
      "epoch: 01, loss: -0.35386\n",
      "epoch: 02, loss: -0.36057\n",
      "epoch: 03, loss: -0.36470\n",
      "epoch: 04, loss: -0.36971\n",
      "epoch: 05, loss: -0.37607\n",
      "epoch: 06, loss: -0.37955\n",
      "epoch: 07, loss: -0.38446\n",
      "epoch: 08, loss: -0.38914\n",
      "epoch: 09, loss: -0.39341\n"
     ]
    },
    {
     "name": "stderr",
     "output_type": "stream",
     "text": [
      " 99%|█████████▊| 987/1000 [6:15:08<04:37, 21.32s/it]"
     ]
    },
    {
     "name": "stdout",
     "output_type": "stream",
     "text": [
      "eigenvalues shape torch.Size([5]) eigenvectors shape torch.Size([5, 425])\n",
      "987 /home/phdcs2/Hard_Disk/Datasets/Deep-Spectral-Segmentation/data/object-segmentation/ECSSD/features/dino_vits16/0988.pth\n",
      "0988\n",
      "Starting Training\n",
      "epoch: 00, loss: -0.39341\n",
      "epoch: 01, loss: -0.39841\n",
      "epoch: 02, loss: -0.39706\n",
      "epoch: 03, loss: -0.39576\n",
      "epoch: 04, loss: -0.39428\n",
      "epoch: 05, loss: -0.39335\n",
      "epoch: 06, loss: -0.39270\n",
      "epoch: 07, loss: -0.39233\n",
      "epoch: 08, loss: -0.39128\n",
      "epoch: 09, loss: -0.39045\n"
     ]
    },
    {
     "name": "stderr",
     "output_type": "stream",
     "text": [
      " 99%|█████████▉| 988/1000 [6:15:28<04:12, 21.03s/it]"
     ]
    },
    {
     "name": "stdout",
     "output_type": "stream",
     "text": [
      "eigenvalues shape torch.Size([5]) eigenvectors shape torch.Size([5, 400])\n",
      "988 /home/phdcs2/Hard_Disk/Datasets/Deep-Spectral-Segmentation/data/object-segmentation/ECSSD/features/dino_vits16/0989.pth\n",
      "0989\n",
      "Starting Training\n",
      "epoch: 00, loss: -0.34229\n",
      "epoch: 01, loss: -0.36156\n",
      "epoch: 02, loss: -0.38068\n",
      "epoch: 03, loss: -0.38606\n",
      "epoch: 04, loss: -0.38999\n",
      "epoch: 05, loss: -0.39469\n",
      "epoch: 06, loss: -0.39778\n",
      "epoch: 07, loss: -0.40073\n",
      "epoch: 08, loss: -0.40373\n",
      "epoch: 09, loss: -0.40414\n"
     ]
    },
    {
     "name": "stderr",
     "output_type": "stream",
     "text": [
      " 99%|█████████▉| 989/1000 [6:15:51<03:56, 21.49s/it]"
     ]
    },
    {
     "name": "stdout",
     "output_type": "stream",
     "text": [
      "eigenvalues shape torch.Size([5]) eigenvectors shape torch.Size([5, 450])\n",
      "989 /home/phdcs2/Hard_Disk/Datasets/Deep-Spectral-Segmentation/data/object-segmentation/ECSSD/features/dino_vits16/0990.pth\n",
      "0990\n",
      "Starting Training\n",
      "epoch: 00, loss: -0.42017\n",
      "epoch: 01, loss: -0.43275\n",
      "epoch: 02, loss: -0.43132\n",
      "epoch: 03, loss: -0.43080\n",
      "epoch: 04, loss: -0.42971\n",
      "epoch: 05, loss: -0.42879\n",
      "epoch: 06, loss: -0.42821\n",
      "epoch: 07, loss: -0.42710\n",
      "epoch: 08, loss: -0.42677\n",
      "epoch: 09, loss: -0.42575\n"
     ]
    },
    {
     "name": "stderr",
     "output_type": "stream",
     "text": [
      " 99%|█████████▉| 990/1000 [6:16:14<03:39, 21.94s/it]"
     ]
    },
    {
     "name": "stdout",
     "output_type": "stream",
     "text": [
      "eigenvalues shape torch.Size([5]) eigenvectors shape torch.Size([5, 450])\n",
      "990 /home/phdcs2/Hard_Disk/Datasets/Deep-Spectral-Segmentation/data/object-segmentation/ECSSD/features/dino_vits16/0991.pth\n",
      "0991\n",
      "Starting Training\n",
      "epoch: 00, loss: -0.37648\n",
      "epoch: 01, loss: -0.36966\n",
      "epoch: 02, loss: -0.36927\n",
      "epoch: 03, loss: -0.37249\n",
      "epoch: 04, loss: -0.37737\n",
      "epoch: 05, loss: -0.38079\n",
      "epoch: 06, loss: -0.38526\n",
      "epoch: 07, loss: -0.39024\n",
      "epoch: 08, loss: -0.39408\n",
      "epoch: 09, loss: -0.39849\n"
     ]
    },
    {
     "name": "stderr",
     "output_type": "stream",
     "text": [
      " 99%|█████████▉| 991/1000 [6:16:37<03:21, 22.36s/it]"
     ]
    },
    {
     "name": "stdout",
     "output_type": "stream",
     "text": [
      "eigenvalues shape torch.Size([5]) eigenvectors shape torch.Size([5, 450])\n",
      "991 /home/phdcs2/Hard_Disk/Datasets/Deep-Spectral-Segmentation/data/object-segmentation/ECSSD/features/dino_vits16/0992.pth\n",
      "0992\n",
      "Starting Training\n",
      "epoch: 00, loss: -0.38508\n",
      "epoch: 01, loss: -0.39223\n",
      "epoch: 02, loss: -0.39591\n",
      "epoch: 03, loss: -0.39886\n",
      "epoch: 04, loss: -0.40109\n",
      "epoch: 05, loss: -0.40421\n",
      "epoch: 06, loss: -0.40682\n",
      "epoch: 07, loss: -0.40923\n",
      "epoch: 08, loss: -0.41139\n",
      "epoch: 09, loss: -0.41359\n"
     ]
    },
    {
     "name": "stderr",
     "output_type": "stream",
     "text": [
      " 99%|█████████▉| 992/1000 [6:16:58<02:54, 21.86s/it]"
     ]
    },
    {
     "name": "stdout",
     "output_type": "stream",
     "text": [
      "eigenvalues shape torch.Size([5]) eigenvectors shape torch.Size([5, 400])\n",
      "992 /home/phdcs2/Hard_Disk/Datasets/Deep-Spectral-Segmentation/data/object-segmentation/ECSSD/features/dino_vits16/0993.pth\n",
      "0993\n",
      "Starting Training\n",
      "epoch: 00, loss: -0.40511\n",
      "epoch: 01, loss: -0.41189\n",
      "epoch: 02, loss: -0.40926\n",
      "epoch: 03, loss: -0.40974\n",
      "epoch: 04, loss: -0.40957\n",
      "epoch: 05, loss: -0.40919\n",
      "epoch: 06, loss: -0.40957\n",
      "epoch: 07, loss: -0.40982\n",
      "epoch: 08, loss: -0.40953\n",
      "epoch: 09, loss: -0.40961\n"
     ]
    },
    {
     "name": "stderr",
     "output_type": "stream",
     "text": [
      " 99%|█████████▉| 993/1000 [6:17:18<02:29, 21.29s/it]"
     ]
    },
    {
     "name": "stdout",
     "output_type": "stream",
     "text": [
      "eigenvalues shape torch.Size([5]) eigenvectors shape torch.Size([5, 400])\n",
      "993 /home/phdcs2/Hard_Disk/Datasets/Deep-Spectral-Segmentation/data/object-segmentation/ECSSD/features/dino_vits16/0994.pth\n",
      "0994\n",
      "Starting Training\n",
      "epoch: 00, loss: -0.57028\n",
      "epoch: 01, loss: -0.59301\n",
      "epoch: 02, loss: -0.59432\n",
      "epoch: 03, loss: -0.59580\n",
      "epoch: 04, loss: -0.59706\n",
      "epoch: 05, loss: -0.59729\n",
      "epoch: 06, loss: -0.59877\n",
      "epoch: 07, loss: -0.60024\n",
      "epoch: 08, loss: -0.60162\n",
      "epoch: 09, loss: -0.60242\n"
     ]
    },
    {
     "name": "stderr",
     "output_type": "stream",
     "text": [
      " 99%|█████████▉| 994/1000 [6:17:38<02:05, 21.00s/it]"
     ]
    },
    {
     "name": "stdout",
     "output_type": "stream",
     "text": [
      "eigenvalues shape torch.Size([5]) eigenvectors shape torch.Size([5, 400])\n",
      "994 /home/phdcs2/Hard_Disk/Datasets/Deep-Spectral-Segmentation/data/object-segmentation/ECSSD/features/dino_vits16/0995.pth\n",
      "0995\n",
      "Starting Training\n",
      "epoch: 00, loss: -0.35898\n",
      "epoch: 01, loss: -0.36401\n",
      "epoch: 02, loss: -0.36993\n",
      "epoch: 03, loss: -0.37268\n",
      "epoch: 04, loss: -0.37527\n",
      "epoch: 05, loss: -0.37676\n",
      "epoch: 06, loss: -0.37707\n",
      "epoch: 07, loss: -0.37927\n",
      "epoch: 08, loss: -0.38030\n",
      "epoch: 09, loss: -0.38138\n"
     ]
    },
    {
     "name": "stderr",
     "output_type": "stream",
     "text": [
      "100%|█████████▉| 995/1000 [6:18:02<01:48, 21.64s/it]"
     ]
    },
    {
     "name": "stdout",
     "output_type": "stream",
     "text": [
      "eigenvalues shape torch.Size([5]) eigenvectors shape torch.Size([5, 450])\n",
      "995 /home/phdcs2/Hard_Disk/Datasets/Deep-Spectral-Segmentation/data/object-segmentation/ECSSD/features/dino_vits16/0996.pth\n",
      "0996\n",
      "Starting Training\n",
      "epoch: 00, loss: -0.44136\n",
      "epoch: 01, loss: -0.46257\n",
      "epoch: 02, loss: -0.46390\n",
      "epoch: 03, loss: -0.46382\n",
      "epoch: 04, loss: -0.46449\n",
      "epoch: 05, loss: -0.46410\n",
      "epoch: 06, loss: -0.46464\n",
      "epoch: 07, loss: -0.46521\n",
      "epoch: 08, loss: -0.46548\n",
      "epoch: 09, loss: -0.46465\n"
     ]
    },
    {
     "name": "stderr",
     "output_type": "stream",
     "text": [
      "100%|█████████▉| 996/1000 [6:18:24<01:27, 21.93s/it]"
     ]
    },
    {
     "name": "stdout",
     "output_type": "stream",
     "text": [
      "eigenvalues shape torch.Size([5]) eigenvectors shape torch.Size([5, 450])\n",
      "996 /home/phdcs2/Hard_Disk/Datasets/Deep-Spectral-Segmentation/data/object-segmentation/ECSSD/features/dino_vits16/0997.pth\n",
      "0997\n",
      "Starting Training\n",
      "epoch: 00, loss: -0.41525\n",
      "epoch: 01, loss: -0.42646\n",
      "epoch: 02, loss: -0.42772\n",
      "epoch: 03, loss: -0.42955\n",
      "epoch: 04, loss: -0.43154\n",
      "epoch: 05, loss: -0.43354\n",
      "epoch: 06, loss: -0.43393\n",
      "epoch: 07, loss: -0.43633\n",
      "epoch: 08, loss: -0.43748\n",
      "epoch: 09, loss: -0.43908\n"
     ]
    },
    {
     "name": "stderr",
     "output_type": "stream",
     "text": [
      "100%|█████████▉| 997/1000 [6:18:47<01:06, 22.22s/it]"
     ]
    },
    {
     "name": "stdout",
     "output_type": "stream",
     "text": [
      "eigenvalues shape torch.Size([5]) eigenvectors shape torch.Size([5, 450])\n",
      "997 /home/phdcs2/Hard_Disk/Datasets/Deep-Spectral-Segmentation/data/object-segmentation/ECSSD/features/dino_vits16/0998.pth\n",
      "0998\n",
      "Starting Training\n",
      "epoch: 00, loss: -0.38344\n",
      "epoch: 01, loss: -0.39210\n",
      "epoch: 02, loss: -0.39518\n",
      "epoch: 03, loss: -0.39615\n",
      "epoch: 04, loss: -0.39693\n",
      "epoch: 05, loss: -0.39738\n",
      "epoch: 06, loss: -0.39896\n",
      "epoch: 07, loss: -0.39855\n",
      "epoch: 08, loss: -0.39911\n",
      "epoch: 09, loss: -0.39871\n"
     ]
    },
    {
     "name": "stderr",
     "output_type": "stream",
     "text": [
      "100%|█████████▉| 998/1000 [6:19:10<00:44, 22.44s/it]"
     ]
    },
    {
     "name": "stdout",
     "output_type": "stream",
     "text": [
      "eigenvalues shape torch.Size([5]) eigenvectors shape torch.Size([5, 450])\n",
      "998 /home/phdcs2/Hard_Disk/Datasets/Deep-Spectral-Segmentation/data/object-segmentation/ECSSD/features/dino_vits16/0999.pth\n",
      "0999\n",
      "Starting Training\n",
      "epoch: 00, loss: -0.37836\n",
      "epoch: 01, loss: -0.38959\n",
      "epoch: 02, loss: -0.39548\n",
      "epoch: 03, loss: -0.40347\n",
      "epoch: 04, loss: -0.41170\n",
      "epoch: 05, loss: -0.42091\n",
      "epoch: 06, loss: -0.42907\n",
      "epoch: 07, loss: -0.43878\n",
      "epoch: 08, loss: -0.44608\n",
      "epoch: 09, loss: -0.45201\n"
     ]
    },
    {
     "name": "stderr",
     "output_type": "stream",
     "text": [
      "100%|█████████▉| 999/1000 [6:19:29<00:21, 21.49s/it]"
     ]
    },
    {
     "name": "stdout",
     "output_type": "stream",
     "text": [
      "eigenvalues shape torch.Size([5]) eigenvectors shape torch.Size([5, 375])\n",
      "999 /home/phdcs2/Hard_Disk/Datasets/Deep-Spectral-Segmentation/data/object-segmentation/ECSSD/features/dino_vits16/1000.pth\n",
      "1000\n",
      "Starting Training\n",
      "epoch: 00, loss: -0.41671\n",
      "epoch: 01, loss: -0.42206\n",
      "epoch: 02, loss: -0.42184\n",
      "epoch: 03, loss: -0.42096\n",
      "epoch: 04, loss: -0.41983\n",
      "epoch: 05, loss: -0.41802\n",
      "epoch: 06, loss: -0.41745\n",
      "epoch: 07, loss: -0.41586\n",
      "epoch: 08, loss: -0.41418\n",
      "epoch: 09, loss: -0.41231\n"
     ]
    },
    {
     "name": "stderr",
     "output_type": "stream",
     "text": [
      "100%|██████████| 1000/1000 [6:19:49<00:00, 22.79s/it]"
     ]
    },
    {
     "name": "stdout",
     "output_type": "stream",
     "text": [
      "eigenvalues shape torch.Size([5]) eigenvectors shape torch.Size([5, 400])\n"
     ]
    },
    {
     "name": "stderr",
     "output_type": "stream",
     "text": [
      "\n"
     ]
    }
   ],
   "source": [
    "utils.make_output_dir(output_dir)\n",
    "feat_list=[]\n",
    "inputs = list(enumerate(sorted(Path(features_dir).iterdir())))\n",
    "\n",
    "#For GaussianBlur\n",
    "# sigma_val=[.1, 2.]\n",
    "# sigma = random.uniform(sigma_val[0],sigma_val[1])\n",
    "\n",
    "for inp in tqdm(inputs):\n",
    "    index, features_file = inp\n",
    "    print(index, features_file)\n",
    "     # Load\n",
    "    data_dict = torch.load(features_file, map_location='cpu')\n",
    "    # print(data_dict.keys())   #['k', 'indices', 'file', 'id', 'model_name', 'patch_size', 'shape']\n",
    "    # print(\"shape=\", data_dict['shape'], \"k shape\", data_dict['k'].shape, \"patch_size=\", data_dict['patch_size'])\n",
    "    image_id = data_dict['file'][:-4]\n",
    "    print(image_id)\n",
    "    # Load\n",
    "    output_file = str(Path(output_dir) / f'{image_id}.pth')\n",
    "    if Path(output_file).is_file():\n",
    "        print(f'Skipping existing file {str(output_file)}')\n",
    "        # break\n",
    "        # return  # skip because already generated\n",
    "\n",
    "    # Load affinity matrix\n",
    "    feats = data_dict[which_features].squeeze().cuda()\n",
    "    # print(\"Without normalizing, Features Shape is\",feats.shape)\n",
    "    if normalize:\n",
    "        feats = F.normalize(feats, p=2, dim=-1)\n",
    "    # print(\"After normalization, Features Shape\",feats.shape)\n",
    "    # print(\"which_matrix=\", which_matrix)\n",
    "    # Eigenvectors of affinity matrix\n",
    "    if which_matrix == 'affinity_torch':\n",
    "        W = feats @ feats.T\n",
    "        # W_feat=contrastive_affinity(feats, feats.T)\n",
    "        # print(\"W shape=\", W.shape)\n",
    "        if threshold_at_zero:\n",
    "            W = (W * (W > 0))\n",
    "            # print(\"W shape=\", W.shape)\n",
    "        eigenvalues, eigenvectors = torch.eig(W, eigenvectors=True)\n",
    "        eigenvalues = eigenvalues.cpu()\n",
    "        eigenvectors = eigenvectors.cpu()\n",
    "        print(\"which matrix=\",which_matrix, \"eigenvalues shape\", eigenvalues.shape, \"eigenvectors shape\", eigenvectors.shape)\n",
    "\n",
    "\n",
    "    # Eigenvectors of affinity matrix with scipy\n",
    "    elif which_matrix == 'affinity_svd':\n",
    "        USV = torch.linalg.svd(feats, full_matrices=False)\n",
    "        eigenvectors = USV[0][:, :K].T.to('cpu', non_blocking=True)\n",
    "        eigenvalues = USV[1][:K].to('cpu', non_blocking=True)\n",
    "        print(\"which matrix=\",which_matrix,\"eigenvalues shape\", eigenvalues.shape, \"eigenvectors shape\", eigenvectors.shape)\n",
    "\n",
    "    # Eigenvectors of affinity matrix with scipy\n",
    "    elif which_matrix == 'affinity':\n",
    "        # print(\"Without normalizing, Features Shape is\",feats.shape)\n",
    "        W = (feats @ feats.T)\n",
    "        # W_feat=contrastive_affinity(feats, feats.T)\n",
    "        # print(\"W shape=\", W.shape)\n",
    "        if threshold_at_zero:\n",
    "            W = (W * (W > 0))\n",
    "        W = W.cpu().numpy()\n",
    "        # print(\"W shape=\", W.shape)\n",
    "        eigenvalues, eigenvectors = eigsh(W, which='LM', k=K)\n",
    "        eigenvectors = torch.flip(torch.from_numpy(eigenvectors), dims=(-1,)).T\n",
    "        print(\"which matrix=\",which_matrix, \"eigenvalues shape\", eigenvalues.shape, \"eigenvectors shape\", eigenvectors.shape)\n",
    "\n",
    "    # Eigenvectors of matting laplacian matrix\n",
    "    elif which_matrix in ['matting_laplacian', 'laplacian']:\n",
    "\n",
    "        # Get sizes\n",
    "        B, C, H, W, P, H_patch, W_patch, H_pad, W_pad = utils.get_image_sizes(data_dict)\n",
    "        if image_downsample_factor is None:\n",
    "            image_downsample_factor = P\n",
    "        H_pad_lr, W_pad_lr = H_pad // image_downsample_factor, W_pad // image_downsample_factor\n",
    "\n",
    "        # Upscale features to match the resolution\n",
    "        if (H_patch, W_patch) != (H_pad_lr, W_pad_lr):\n",
    "            feats = F.interpolate(\n",
    "                feats.T.reshape(1, -1, H_patch, W_patch),\n",
    "                size=(H_pad_lr, W_pad_lr), mode='bilinear', align_corners=False\n",
    "            ).reshape(-1, H_pad_lr * W_pad_lr).T\n",
    "\n",
    "        ### Feature affinities\n",
    "        # print(\"Without normalizing, Features Shape is\",feats.shape)\n",
    "\n",
    "        W_feat_ds = (feats @ feats.T)\n",
    "        # feat_list.append(feats)\n",
    "        feat_dataset = Feature_Dataset(feats)\n",
    "        if feats.shape[0]%2==0:\n",
    "            features_dataloader = DataLoader(feat_dataset, batch_size=batch_size, shuffle=True)\n",
    "        else:\n",
    "            features_dataloader = DataLoader(feat_dataset, batch_size=batch_size, shuffle=True, drop_last=True)\n",
    "        model_simsiam = SimSiam()\n",
    "        device = \"cuda\" if torch.cuda.is_available() else \"cpu\"\n",
    "        model_simsiam.to(device)\n",
    "        criterion = NegativeCosineSimilarity()\n",
    "        optimizer = torch.optim.SGD(model_simsiam.parameters(), lr=0.06)\n",
    "        print(\"Starting Training\")\n",
    "        for epoch in range(epochs):\n",
    "            total_loss = 0\n",
    "            for x0 in features_dataloader:\n",
    "            # for (x0), _, _ in features_dataloader:\n",
    "            #     print(\"Before Unsqueezing, x0 shape=\", x0.shape)\n",
    "                x0 = x0.unsqueeze(0).to(device)\n",
    "                # x0 = x0.unsqueeze(1).to(device)\n",
    "                # print(\"After Unsqueezing x0 shape=\", x0.shape)\n",
    "                x1=torchvision.transforms.GaussianBlur((3,3), sigma=(0.1,.2))(x0)\n",
    "                # x1 = x0.filter(ImageFilter.GaussianBlur(radius=sigma))\n",
    "                # print(\"type(x1)\", type(x1))\n",
    "                # x1=torchvision.transforms.RandomAffine(0)(x0)\n",
    "                # print(\"After Unsqueezing x1 shape=\", x1.shape)\n",
    "                # x0 = x0.squeeze(0).to(device)\n",
    "                # print(\"batch_size=\",batch_size)\n",
    "                # x0_new = torch.tensor(x0).view(batch_size, 1, 1, 384)\n",
    "                # x0_new = torch.tensor(x0).view(batch_size, 1, 384)\n",
    "                x0_new = x0.view(batch_size, 1, 384)\n",
    "                # print(\"After viewing x0 shape=\", x0_new.shape)\n",
    "                # print(\"x0.shape=\", x0.shape)\n",
    "                # x1 = x1.squeeze(0).to(device)\n",
    "                # x1 = torch.tensor(x1).view(batch_size, 1, 1,384)\n",
    "                x1_new = x1.view(batch_size, 1, 384)\n",
    "                # print(\"After viewing x1 shape=\", x1_new.shape)\n",
    "                z0, p0 = model_simsiam(x0_new, True)\n",
    "                # print(\"zo.shape\", z0.shape)\n",
    "                # print(\"p0.shape\", p0.shape)\n",
    "                z1, p1 = model_simsiam(x1_new, True)\n",
    "                loss = 0.5 * (criterion(z0, p1) + criterion(z1, p0))\n",
    "                total_loss += loss.detach()\n",
    "                loss.backward()\n",
    "                optimizer.step()\n",
    "                optimizer.zero_grad()\n",
    "            avg_loss = total_loss / len(features_dataloader)\n",
    "            print(f\"epoch: {epoch:>02}, loss: {avg_loss:.5f}\")\n",
    "        feats=feats.unsqueeze(1).to(device)\n",
    "        # feats=feats.unsqueeze(2).to(device)\n",
    "        # print(\"After Unsqueezing, feature size=\", feats.shape)\n",
    "        proj_pred_feature=model_simsiam(feats, False)\n",
    "        projected_feature=proj_pred_feature[0]\n",
    "        projected_feature = projected_feature.squeeze().to(device)\n",
    "        # print(\"type(projected_feature)\", type(projected_feature))\n",
    "        # print(\"projected feature shape=\", projected_feature.shape)\n",
    "        W_feat_siam=torch.matmul(projected_feature, projected_feature.t())\n",
    "        W_feat=0.9*W_feat_ds + 0.1*W_feat_siam\n",
    "        # print(\"W_feat.shape=\", W_feat.shape)\n",
    "        # print(\"W_feat.shape=\", W_feat.shape)\n",
    "        # W_feat=contrastive_affinity(feats, feats.T)\n",
    "        if threshold_at_zero:\n",
    "            W_feat = (W_feat * (W_feat > 0))\n",
    "        W_feat = W_feat / W_feat.max()  # NOTE: If features are normalized, this naturally does nothing\n",
    "        # W_feat = W_feat.cpu().numpy()\n",
    "        W_feat = W_feat.detach().cpu().numpy()\n",
    "        # print(\"W_feat shape=\",W_feat.shape)\n",
    "\n",
    "        ### Color affinities\n",
    "        # If we are fusing with color affinites, then load the image and compute\n",
    "        if image_color_lambda > 0:\n",
    "\n",
    "            # Load image\n",
    "            image_file = str(Path(images_root) / f'{image_id}.jpg')\n",
    "            image_lr = Image.open(image_file).resize((W_pad_lr, H_pad_lr), Image.BILINEAR)\n",
    "            image_lr = np.array(image_lr) / 255.\n",
    "\n",
    "            # Color affinities (of type scipy.sparse.csr_matrix)\n",
    "            if which_color_matrix == 'knn':\n",
    "                W_lr = utils.knn_affinity(image_lr / 255)\n",
    "            elif which_color_matrix == 'rw':\n",
    "                W_lr = utils.rw_affinity(image_lr / 255)\n",
    "\n",
    "            # Convert to dense numpy array\n",
    "            W_color = np.array(W_lr.todense().astype(np.float32))\n",
    "            # print(\"W_color shape\", W_color.shape)\n",
    "\n",
    "        else:\n",
    "\n",
    "            # No color affinity\n",
    "            W_color = 0\n",
    "\n",
    "        # Combine\n",
    "        W_comb = W_feat + W_color * image_color_lambda  # combination\n",
    "        D_comb = np.array(utils.get_diagonal(W_comb).todense())  # is dense or sparse faster? not sure, should check\n",
    "        # print(\"W_comb shape= \", W_comb.shape, \"D_comb shape\",  D_comb.shape)\n",
    "        if lapnorm:\n",
    "            try:\n",
    "                eigenvalues, eigenvectors = eigsh(D_comb - W_comb, k=K, sigma=0, which='LM', M=D_comb)\n",
    "            except:\n",
    "                eigenvalues, eigenvectors = eigsh(D_comb - W_comb, k=K, which='SM', M=D_comb)\n",
    "        else:\n",
    "            try:\n",
    "                eigenvalues, eigenvectors = eigsh(D_comb - W_comb, k=K, sigma=0, which='LM')\n",
    "            except:\n",
    "                eigenvalues, eigenvectors = eigsh(D_comb - W_comb, k=K, which='SM')\n",
    "        eigenvalues, eigenvectors = torch.from_numpy(eigenvalues), torch.from_numpy(eigenvectors.T).float()\n",
    "    print(\"eigenvalues shape\", eigenvalues.shape, \"eigenvectors shape\", eigenvectors.shape)\n",
    "    # Sign ambiguity\n",
    "    for k in range(eigenvectors.shape[0]):\n",
    "        if 0.5 < torch.mean((eigenvectors[k] > 0).float()).item() < 1.0:  # reverse segment\n",
    "            eigenvectors[k] = 0 - eigenvectors[k]\n",
    "\n",
    "    # Save dict\n",
    "    output_dict = {'eigenvalues': eigenvalues, 'eigenvectors': eigenvectors}\n",
    "    torch.save(output_dict, output_file)"
   ]
  }
 ],
 "metadata": {
  "kernelspec": {
   "display_name": "Python 3 (ipykernel)",
   "language": "python",
   "name": "python3"
  },
  "language_info": {
   "codemirror_mode": {
    "name": "ipython",
    "version": 3
   },
   "file_extension": ".py",
   "mimetype": "text/x-python",
   "name": "python",
   "nbconvert_exporter": "python",
   "pygments_lexer": "ipython3",
   "version": "3.8.10"
  }
 },
 "nbformat": 4,
 "nbformat_minor": 1
}
