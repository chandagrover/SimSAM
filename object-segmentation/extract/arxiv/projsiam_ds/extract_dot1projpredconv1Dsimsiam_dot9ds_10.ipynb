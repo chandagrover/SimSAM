{
 "cells": [
  {
   "cell_type": "code",
   "execution_count": 1,
   "metadata": {
    "pycharm": {
     "name": "#%%\n"
    }
   },
   "outputs": [],
   "source": [
    "# from functools import partial\n",
    "from pathlib import Path\n",
    "# from typing import Optional, Tuple\n",
    "# import cv2\n",
    "# import fire\n",
    "import numpy as np\n",
    "import torch\n",
    "import torch.nn.functional as F\n",
    "from accelerate import Accelerator\n",
    "from PIL import Image\n",
    "from scipy.sparse.linalg import eigsh\n",
    "# from sklearn.cluster import KMeans, MiniBatchKMeans\n",
    "# from sklearn.decomposition import PCA\n",
    "# from torchvision.utils import draw_bounding_boxes\n",
    "from tqdm import tqdm\n",
    "import extract_utils as utils\n",
    "from torch.utils.data import Dataset, DataLoader\n",
    "from lightly.loss import NegativeCosineSimilarity\n",
    "from lightly.models.modules import SimSiamPredictionHead, SimSiamProjectionHead\n",
    "from torch import nn\n",
    "import torchvision"
   ]
  },
  {
   "cell_type": "markdown",
   "metadata": {
    "pycharm": {
     "name": "#%% md\n"
    }
   },
   "source": [
    "## Extract Features"
   ]
  },
  {
   "cell_type": "code",
   "execution_count": 2,
   "metadata": {
    "pycharm": {
     "name": "#%%\n"
    }
   },
   "outputs": [],
   "source": [
    "# images_list=\"/home/phdcs2/Hard_Disk/Datasets/Deep-Spectral-Segmentation/data/object-segmentation/ECSSD/lists/images.txt\"\n",
    "# images_root=\"/home/phdcs2/Hard_Disk/Datasets/Deep-Spectral-Segmentation/data/object-segmentation/ECSSD/images\"\n",
    "# model_name=\"dino_vits16\"\n",
    "# batch_size=1\n",
    "# output_dir=\"//home/phdcs2/Hard_Disk/Datasets/Deep-Spectral-Segmentation/data/object-segmentation/ECSSD/features/dino_vits16\"\n",
    "# which_block=-1\n",
    "# # Output\n",
    "# utils.make_output_dir(output_dir)\n",
    "# # Models\n",
    "# model_name = model_name.lower()\n",
    "# model, val_transform, patch_size, num_heads = utils.get_model(model_name)    #patch size= 16 number of heads= 6\n",
    "# # print(\"patch size=\", patch_size, \"number of heads=\", num_heads)\n",
    "# # Add hook\n",
    "# if 'dino' in model_name or 'mocov3' in model_name:\n",
    "#     feat_out = {}\n",
    "#     def hook_fn_forward_qkv(module, input, output):\n",
    "#         # print(\"feat_out.keys()\", feat_out.keys())\n",
    "#         feat_out[\"qkv\"] = output\n",
    "#     model._modules[\"blocks\"][which_block]._modules[\"attn\"]._modules[\"qkv\"].register_forward_hook(hook_fn_forward_qkv)\n",
    "# else:\n",
    "#     raise ValueError(model_name)\n",
    "# # Dataset\n",
    "# filenames = Path(images_list).read_text().splitlines()\n",
    "# dataset = utils.ImagesDataset(filenames=filenames, images_root=images_root, transform=val_transform)\n",
    "# dataloader = torch.utils.data.DataLoader(dataset, batch_size=batch_size, num_workers=8)\n",
    "# # print(f'Dataset size: {len(dataset)=}')\n",
    "# # print(f'Dataloader size: {len(dataloader)=}')\n",
    "# # Prepare\n",
    "# # accelerator = Accelerator(fp16=True, cpu=False)\n",
    "# accelerator = Accelerator(cpu=False)\n",
    "# # model, dataloader = accelerator.prepare(model, dataloader)\n",
    "# model = model.to(accelerator.device)\n",
    "# model.num_features\n",
    "# # print(\"model.num_features=\", model.num_features)\n",
    "# # model.get_submodule\n",
    "# # Process\n",
    "# pbar = list(tqdm(dataloader, desc='Processing'))\n",
    "# # Process\n",
    "# # pbar = list(tqdm(dataloader, desc='Processing'))\n",
    "# # print(\"feat_out.keys()=\", feat_out.keys())\n",
    "# for i, (images, files, indices) in enumerate(pbar):\n",
    "#     output_dict = {}\n",
    "#     # print(\"images.shape=\", images.shape, \"files =\", files, \"indices\", indices)\n",
    "#\n",
    "#     # Check if file already exists\n",
    "#     id = Path(files[0]).stem\n",
    "#     # print(\"id=\", id)\n",
    "#     output_file = Path(output_dir) / f'{id}.pth'\n",
    "#     # if output_file.is_file():\n",
    "#     #     pbar.write(f'Skipping existing file {str(output_file)}')\n",
    "#     #     continue\n",
    "#\n",
    "#     # Reshape image\n",
    "#     P = patch_size\n",
    "#     B, C, H, W = images.shape\n",
    "#     H_patch, W_patch = H // P, W // P\n",
    "#     H_pad, W_pad = H_patch * P, W_patch * P\n",
    "#     T = H_patch * W_patch + 1  # number of tokens, add 1 for [CLS]\n",
    "#     # images = F.interpolate(images, size=(H_pad, W_pad), mode='bilinear')  # resize image\n",
    "#     images = images[:, :, :H_pad, :W_pad]\n",
    "#     images = images.to(accelerator.device)\n",
    "#     # print(\"images.shape after padding=\", images.shape)\n",
    "#\n",
    "#     # Forward and collect features into output dict\n",
    "#     if 'dino' in model_name or 'mocov3' in model_name:\n",
    "#         # accelerator.unwrap_model(model).get_intermediate_layers(images)[0].squeeze(0)\n",
    "#         model.get_intermediate_layers(images)[0].squeeze(0)\n",
    "#         # print(model.get_intermediate_layers(images)[0])\n",
    "#         # output_dict['out'] = out\n",
    "#         # print(\"feat_out.keys()=\", feat_out.keys())\n",
    "#         output_qkv = feat_out[\"qkv\"].reshape(B, T, 3, num_heads, -1 // num_heads).permute(2, 0, 3, 1, 4)\n",
    "#         # print(\"type(output_qkv)\", type(output_qkv))\n",
    "#         # print(\"output_qkv.shape\", output_qkv.shape)    #3, 1, 6, 931, 64]\n",
    "#         # print(\"output_qkv[0].shape\", output_qkv[0].shape)\n",
    "#         # print(\"output_qkv[1].shape\", output_qkv[1].shape)\n",
    "#         # print(\"output_qkv[2].shape\", output_qkv[2].shape)\n",
    "#         # output_dict['q'] = output_qkv[0].transpose(1, 2).reshape(B, T, -1)[:, 1:, :]\n",
    "#         output_dict['k'] = output_qkv[1].transpose(1, 2).reshape(B, T, -1)[:, 1:, :]\n",
    "#         # print(\"output_dict[k].shape=\", output_dict['k'].shape)\n",
    "#         # output_dict['v'] = output_qkv[2].transpose(1, 2).reshape(B, T, -1)[:, 1:, :]\n",
    "#     else:\n",
    "#         raise ValueError(model_name)\n",
    "#\n",
    "#     # print(\"output_dict.items=\", output_dict.items())\n",
    "#     # Metadata\n",
    "#     output_dict['indices'] = indices[0]\n",
    "#     output_dict['file'] = files[0]\n",
    "#     output_dict['id'] = id\n",
    "#     output_dict['model_name'] = model_name\n",
    "#     output_dict['patch_size'] = patch_size\n",
    "#     output_dict['shape'] = (B, C, H, W)\n",
    "#     output_dict = {k: (v.detach().cpu() if torch.is_tensor(v) else v) for k, v in output_dict.items()}\n",
    "#     # for k, v in output_dict.items():\n",
    "#     #     print(\"k=\", k)\n",
    "#     #     if torch.is_tensor(v):\n",
    "#     #         print(\"v.shape\", v.shape)\n",
    "#     #     else:\n",
    "#     #         print(\"v=\", v)\n",
    "#     # print(\"output_dict.keys()\", output_dict.keys())\n",
    "#     # print(\"output_dict['k'].shape=\", output_dict['k'].shape,\"output_dict['indices'] =\", indices[0],\"output_dict['file'] =\", files[0],\"output_dict['id']=\" , id, \"output_dict['model_name'] =\", model_name,\" output_dict['shape'] =(\", B, C, H, W,\")output_dict['patch_size'] =\",  patch_size )\n",
    "#     # Save\n",
    "#     accelerator.save(output_dict, str(output_file))\n",
    "#     accelerator.wait_for_everyone()\n",
    "# print(f'Saved features to {output_dir}')"
   ]
  },
  {
   "cell_type": "code",
   "execution_count": 3,
   "metadata": {
    "pycharm": {
     "name": "#%%\n"
    }
   },
   "outputs": [],
   "source": [
    "# output_dict = {k: (v.detach().cpu() if torch.is_tensor(v) else v) for k, v in output_dict.items()}\n",
    "# print(output_dict.keys())\n",
    "# for k, v in output_dict.items():\n",
    "#     print(\"k=\", k)\n",
    "#     print(\"v.shape=\", v.shape)\n"
   ]
  },
  {
   "cell_type": "markdown",
   "metadata": {
    "pycharm": {
     "name": "#%% md\n"
    }
   },
   "source": [
    "## Extract Eigen Vectors"
   ]
  },
  {
   "cell_type": "code",
   "execution_count": 4,
   "metadata": {
    "pycharm": {
     "name": "#%%\n"
    }
   },
   "outputs": [],
   "source": [
    "images_root=\"/home/phdcs2/Hard_Disk/Datasets/Deep-Spectral-Segmentation/data/object-segmentation/ECSSD/images\"\n",
    "features_dir=\"/home/phdcs2/Hard_Disk/Datasets/Deep-Spectral-Segmentation/data/object-segmentation/ECSSD/features/dino_vits16\"\n",
    "output_dir=\"//home/phdcs2/Hard_Disk/Datasets/Deep-Spectral-Segmentation/data/object-segmentation/ECSSD/eigs_dot1projpredconv1Dsimsiam_dot9ds_10_jn\"\n",
    "which_matrix= 'laplacian'\n",
    "which_color_matrix= 'knn'\n",
    "which_features= 'k'\n",
    "normalize=True\n",
    "threshold_at_zero=True\n",
    "lapnorm= True\n",
    "K= 5\n",
    "image_downsample_factor = None\n",
    "image_color_lambda = 0.0\n",
    "multiprocessing = 0\n",
    "batch_size=2\n",
    "epochs=10"
   ]
  },
  {
   "cell_type": "markdown",
   "metadata": {
    "pycharm": {
     "name": "#%% md\n"
    }
   },
   "source": [
    "## ResNet Residual Block"
   ]
  },
  {
   "cell_type": "code",
   "execution_count": 5,
   "metadata": {
    "pycharm": {
     "name": "#%%\n"
    }
   },
   "outputs": [],
   "source": [
    "class BasicBlock(nn.Module):\n",
    "    expansion = 1\n",
    "\n",
    "    def __init__(self, in_channels=1, out_channels=1, stride=1, downsample=None):\n",
    "        super(BasicBlock, self).__init__()\n",
    "        self.conv1 = nn.Conv1d(in_channels=in_channels, out_channels=128, kernel_size=3, stride=stride, padding=1, bias=False)\n",
    "        self.bn1 = nn.BatchNorm1d(128)\n",
    "        self.relu = nn.ReLU(inplace=True)\n",
    "        self.conv2 = nn.Conv1d(128, out_channels * self.expansion, kernel_size=3, stride=1, padding=1, bias=False)\n",
    "        self.bn2 = nn.BatchNorm1d(out_channels * self.expansion)\n",
    "        self.downsample = downsample\n",
    "\n",
    "    def forward(self, x):\n",
    "        identity = x\n",
    "\n",
    "        out = self.conv1(x)\n",
    "        out = self.bn1(out)\n",
    "        out = self.relu(out)\n",
    "\n",
    "        out = self.conv2(out)\n",
    "        out = self.bn2(out)\n",
    "\n",
    "        if self.downsample is not None:\n",
    "            identity = self.downsample(x)\n",
    "\n",
    "        out += identity\n",
    "        out = self.relu(out)\n",
    "        # print(\"Before squeezing, out shape=\", out.shape)\n",
    "        out =  out.squeeze().to('cuda')\n",
    "        # print(\"After squeezing, out shape=\", out.shape)\n",
    "\n",
    "        return out"
   ]
  },
  {
   "cell_type": "code",
   "execution_count": 6,
   "metadata": {
    "pycharm": {
     "name": "#%%\n"
    }
   },
   "outputs": [],
   "source": [
    "# class ResidualBlock(nn.Module):\n",
    "#     def __init__(self, in_channels, out_channels, kernel_size=3, stride=1, padding=1, bias=False):\n",
    "#         super(ResidualBlock, self).__init__()\n",
    "#         self.conv1 = nn.Conv1d(in_channels, out_channels, kernel_size=kernel_size, stride=stride, padding=padding, bias=bias)\n",
    "#         self.bn1 = nn.BatchNorm1d(out_channels)\n",
    "#         self.relu = nn.ReLU(inplace=True)\n",
    "#         self.conv2 = nn.Conv1d(out_channels, out_channels, kernel_size=kernel_size, stride=stride, padding=padding, bias=bias)\n",
    "#         self.bn2 = nn.BatchNorm1d(out_channels)\n",
    "#         # shortcut connection\n",
    "#         self.shortcut = nn.Sequential()\n",
    "#         if stride != 1 or in_channels != out_channels:\n",
    "#             self.shortcut = nn.Sequential(\n",
    "#                 nn.Conv1d(in_channels, out_channels, kernel_size=1, stride=stride, bias=bias),\n",
    "#                 nn.BatchNorm1d(out_channels)\n",
    "#             )\n",
    "#\n",
    "#     def forward(self, x):\n",
    "#         residual = x\n",
    "#\n",
    "#         out = self.conv1(x)\n",
    "#         out = self.bn1(out)\n",
    "#         out = self.relu(out)\n",
    "#\n",
    "#         out = self.conv2(out)\n",
    "#         out = self.bn2(out)\n",
    "#\n",
    "#         out += self.shortcut(residual)\n",
    "#         out = self.relu(out)\n",
    "#\n",
    "#         return out\n",
    "# class ResNetBlock(nn.Module):\n",
    "#     def __init__(self, in_channels, out_channels, stride=1, downsample=None):\n",
    "#         super(ResNetBlock, self).__init__()\n",
    "#         self.conv1 = nn.Conv1d(in_channels, out_channels, kernel_size=3, stride=stride, padding=1, bias=False)\n",
    "#         self.bn1 = nn.BatchNorm1d(out_channels)\n",
    "#         self.relu = nn.ReLU(inplace=True)\n",
    "#         self.conv2 = nn.Conv1d(out_channels, out_channels, kernel_size=3, stride=1, padding=1, bias=False)\n",
    "#         self.bn2 = nn.BatchNorm1d(out_channels)\n",
    "#         self.downsample = downsample\n",
    "#\n",
    "#     def forward(self, x):\n",
    "#         identity = x\n",
    "#\n",
    "#         out = self.conv1(x)\n",
    "#         out = self.bn1(out)\n",
    "#         out = self.relu(out)\n",
    "#\n",
    "#         out = self.conv2(out)\n",
    "#         out = self.bn2(out)\n",
    "#\n",
    "#         if self.downsample is not None:\n",
    "#             identity = self.downsample(x)\n",
    "#\n",
    "#         out += identity\n",
    "#         out = self.relu(out)\n",
    "#\n",
    "#         return out"
   ]
  },
  {
   "cell_type": "markdown",
   "metadata": {
    "pycharm": {
     "name": "#%% md\n"
    }
   },
   "source": [
    "## Incorporating SimSiam"
   ]
  },
  {
   "cell_type": "code",
   "execution_count": 7,
   "metadata": {
    "pycharm": {
     "name": "#%%\n"
    }
   },
   "outputs": [],
   "source": [
    "# Define a custom dataset class\n",
    "class Feature_Dataset(Dataset):\n",
    "    def __init__(self, features):\n",
    "        self.features = features\n",
    "\n",
    "    def __getitem__(self, index):\n",
    "        return self.features[index]\n",
    "\n",
    "    def __len__(self):\n",
    "        return len(self.features)"
   ]
  },
  {
   "cell_type": "code",
   "execution_count": 8,
   "metadata": {
    "pycharm": {
     "name": "#%%\n"
    }
   },
   "outputs": [],
   "source": [
    "# print(feats.shape)"
   ]
  },
  {
   "cell_type": "code",
   "execution_count": 9,
   "metadata": {
    "pycharm": {
     "name": "#%%\n"
    }
   },
   "outputs": [],
   "source": [
    "class SimSiam(nn.Module):\n",
    "    def __init__(self, train=True):\n",
    "        super().__init__()\n",
    "        # self.projection_head = SimSiamProjectionHead(feats.shape[1], 128,feats.shape[1])\n",
    "        self.train=train\n",
    "        self.projection_head = BasicBlock()\n",
    "        # self.projection_head = ResidualBlock(feats.shape[1], feats.shape[1])\n",
    "        # self.prediction_head = SimSiamPredictionHead(feats.shape[1], 128, feats.shape[1])\n",
    "        self.prediction_head = BasicBlock()\n",
    "\n",
    "    def forward(self, x,train=True):\n",
    "        z = self.projection_head(x)\n",
    "        # print(\"z.shape\", z.shape)\n",
    "        if train:\n",
    "            z_new = z.view(2, 1, 384)\n",
    "        else:\n",
    "            z_new=z.view(feats.shape[0],1 , 384)\n",
    "            # print(z_new.shape)\n",
    "        p = self.prediction_head(z_new)\n",
    "        z_new.detach()\n",
    "        # if train:\n",
    "        #     z_new = z.view(2, 1, 384)\n",
    "        #     # print(z_new.shape)\n",
    "        #     p = self.prediction_head(z_new)\n",
    "        #     z_new.detach()\n",
    "        # else:\n",
    "        #     p = self.prediction_head(z)\n",
    "        # z = z.detach()\n",
    "        return z_new, p"
   ]
  },
  {
   "cell_type": "code",
   "execution_count": 10,
   "metadata": {
    "pycharm": {
     "name": "#%%\n"
    }
   },
   "outputs": [],
   "source": [
    "# utils.make_output_dir(output_dir)\n",
    "# feat_list=[]\n",
    "# inputs = list(enumerate(sorted(Path(features_dir).iterdir())))\n",
    "# batch_size=2\n",
    "# token_feature_size=384\n",
    "# for inp in tqdm(inputs[:2]):\n",
    "#     index, features_file = inp\n",
    "#     print(index, features_file)\n",
    "#      # Load\n",
    "#     data_dict = torch.load(features_file, map_location='cpu')\n",
    "#     # Load affinity matrix\n",
    "#     # feats_unsqueeze=data_dict[which_features].cuda()\n",
    "#     feats = data_dict[which_features].squeeze().cuda()\n",
    "#     print(feats.shape)\n",
    "#     # print(feats_unsqueeze.shape)\n",
    "#     feat_dataset = Feature_Dataset(feats)\n",
    "#     features_dataloader = DataLoader(feat_dataset, batch_size=2, shuffle=True)\n",
    "#     i=0\n",
    "#     for x0 in features_dataloader:\n",
    "#         if i==0:\n",
    "#         # for (x0), _, _ in features_dataloader:\n",
    "#             print(\"before unsqueezing x0.shape=\", x0.shape)\n",
    "#             x0 = x0.unsqueeze(0).to(device)\n",
    "#             x1=torchvision.transforms.RandomAffine(0)(x0)\n",
    "#             x0 = x0.squeeze(0).to(device)\n",
    "#             x0 = torch.tensor(x0).view(batch_size, 1, 1, token_feature_size)\n",
    "#             print(\"After squeezing and viewing x0 shape=\", x0.shape)\n",
    "#             # print(\"x0.shape=\", x0.shape)\n",
    "#             x1 = x1.squeeze(0).to(device)\n",
    "#             x1 = torch.tensor(x1).view(batch_size, 1, 1,token_feature_size)\n",
    "#             print(\"After squeezing and viewing x0 shape=\", x1.shape)\n",
    "#             print(\"x1 shape=\", x1.shape)\n",
    "#         else:\n",
    "#             break\n",
    "#         i+=1\n"
   ]
  },
  {
   "cell_type": "code",
   "execution_count": 11,
   "metadata": {
    "pycharm": {
     "name": "#%%\n"
    }
   },
   "outputs": [
    {
     "name": "stderr",
     "output_type": "stream",
     "text": [
      "  0%|          | 0/1000 [00:00<?, ?it/s]"
     ]
    },
    {
     "name": "stdout",
     "output_type": "stream",
     "text": [
      "0 /home/phdcs2/Hard_Disk/Datasets/Deep-Spectral-Segmentation/data/object-segmentation/ECSSD/features/dino_vits16/0001.pth\n",
      "0001\n",
      "Starting Training\n",
      "epoch: 00, loss: -0.60502\n",
      "epoch: 01, loss: -0.64636\n",
      "epoch: 02, loss: -0.64902\n",
      "epoch: 03, loss: -0.65054\n",
      "epoch: 04, loss: -0.65167\n",
      "epoch: 05, loss: -0.65202\n",
      "epoch: 06, loss: -0.65331\n",
      "epoch: 07, loss: -0.65373\n",
      "epoch: 08, loss: -0.65459\n",
      "epoch: 09, loss: -0.65504\n",
      "After Unsqueezing, feature size= torch.Size([400, 1, 384])\n",
      "type(projected_feature) <class 'torch.Tensor'>\n",
      "projected feature shape= torch.Size([400, 384])\n"
     ]
    },
    {
     "name": "stderr",
     "output_type": "stream",
     "text": [
      "  0%|          | 1/1000 [00:20<5:37:12, 20.25s/it]"
     ]
    },
    {
     "name": "stdout",
     "output_type": "stream",
     "text": [
      "eigenvalues shape torch.Size([5]) eigenvectors shape torch.Size([5, 400])\n",
      "1 /home/phdcs2/Hard_Disk/Datasets/Deep-Spectral-Segmentation/data/object-segmentation/ECSSD/features/dino_vits16/0002.pth\n",
      "0002\n",
      "Starting Training\n",
      "epoch: 00, loss: -0.33863\n",
      "epoch: 01, loss: -0.33361\n",
      "epoch: 02, loss: -0.33615\n",
      "epoch: 03, loss: -0.33847\n",
      "epoch: 04, loss: -0.34215\n",
      "epoch: 05, loss: -0.34506\n",
      "epoch: 06, loss: -0.34731\n",
      "epoch: 07, loss: -0.34934\n",
      "epoch: 08, loss: -0.35279\n",
      "epoch: 09, loss: -0.35611\n",
      "After Unsqueezing, feature size= torch.Size([400, 1, 384])\n",
      "type(projected_feature) <class 'torch.Tensor'>\n",
      "projected feature shape= torch.Size([400, 384])\n"
     ]
    },
    {
     "name": "stderr",
     "output_type": "stream",
     "text": [
      "  0%|          | 2/1000 [00:39<5:22:08, 19.37s/it]"
     ]
    },
    {
     "name": "stdout",
     "output_type": "stream",
     "text": [
      "eigenvalues shape torch.Size([5]) eigenvectors shape torch.Size([5, 400])\n",
      "2 /home/phdcs2/Hard_Disk/Datasets/Deep-Spectral-Segmentation/data/object-segmentation/ECSSD/features/dino_vits16/0003.pth\n",
      "0003\n",
      "Starting Training\n",
      "epoch: 00, loss: -0.39001\n",
      "epoch: 01, loss: -0.39373\n",
      "epoch: 02, loss: -0.39064\n",
      "epoch: 03, loss: -0.38753\n",
      "epoch: 04, loss: -0.38537\n",
      "epoch: 05, loss: -0.38167\n",
      "epoch: 06, loss: -0.38060\n",
      "epoch: 07, loss: -0.37994\n",
      "epoch: 08, loss: -0.37857\n",
      "epoch: 09, loss: -0.37940\n",
      "After Unsqueezing, feature size= torch.Size([400, 1, 384])\n",
      "type(projected_feature) <class 'torch.Tensor'>\n",
      "projected feature shape= torch.Size([400, 384])\n"
     ]
    },
    {
     "name": "stderr",
     "output_type": "stream",
     "text": [
      "  0%|          | 3/1000 [00:57<5:17:25, 19.10s/it]"
     ]
    },
    {
     "name": "stdout",
     "output_type": "stream",
     "text": [
      "eigenvalues shape torch.Size([5]) eigenvectors shape torch.Size([5, 400])\n",
      "3 /home/phdcs2/Hard_Disk/Datasets/Deep-Spectral-Segmentation/data/object-segmentation/ECSSD/features/dino_vits16/0004.pth\n",
      "0004\n",
      "Starting Training\n",
      "epoch: 00, loss: -0.39198\n",
      "epoch: 01, loss: -0.39917\n",
      "epoch: 02, loss: -0.39993\n",
      "epoch: 03, loss: -0.39985\n",
      "epoch: 04, loss: -0.40335\n",
      "epoch: 05, loss: -0.40522\n",
      "epoch: 06, loss: -0.40847\n",
      "epoch: 07, loss: -0.41132\n",
      "epoch: 08, loss: -0.41530\n",
      "epoch: 09, loss: -0.41912\n",
      "After Unsqueezing, feature size= torch.Size([400, 1, 384])\n",
      "type(projected_feature) <class 'torch.Tensor'>\n",
      "projected feature shape= torch.Size([400, 384])\n"
     ]
    },
    {
     "name": "stderr",
     "output_type": "stream",
     "text": [
      "  0%|          | 4/1000 [01:19<5:35:11, 20.19s/it]"
     ]
    },
    {
     "name": "stdout",
     "output_type": "stream",
     "text": [
      "eigenvalues shape torch.Size([5]) eigenvectors shape torch.Size([5, 400])\n",
      "4 /home/phdcs2/Hard_Disk/Datasets/Deep-Spectral-Segmentation/data/object-segmentation/ECSSD/features/dino_vits16/0005.pth\n",
      "0005\n",
      "Starting Training\n",
      "epoch: 00, loss: -0.37588\n",
      "epoch: 01, loss: -0.38629\n",
      "epoch: 02, loss: -0.39276\n",
      "epoch: 03, loss: -0.39778\n",
      "epoch: 04, loss: -0.40207\n",
      "epoch: 05, loss: -0.40553\n",
      "epoch: 06, loss: -0.40803\n",
      "epoch: 07, loss: -0.41005\n",
      "epoch: 08, loss: -0.41164\n",
      "epoch: 09, loss: -0.41468\n",
      "After Unsqueezing, feature size= torch.Size([400, 1, 384])\n",
      "type(projected_feature) <class 'torch.Tensor'>\n",
      "projected feature shape= torch.Size([400, 384])\n"
     ]
    },
    {
     "name": "stderr",
     "output_type": "stream",
     "text": [
      "  0%|          | 5/1000 [01:39<5:30:37, 19.94s/it]"
     ]
    },
    {
     "name": "stdout",
     "output_type": "stream",
     "text": [
      "eigenvalues shape torch.Size([5]) eigenvectors shape torch.Size([5, 400])\n",
      "5 /home/phdcs2/Hard_Disk/Datasets/Deep-Spectral-Segmentation/data/object-segmentation/ECSSD/features/dino_vits16/0006.pth\n",
      "0006\n",
      "Starting Training\n",
      "epoch: 00, loss: -0.42176\n",
      "epoch: 01, loss: -0.44781\n",
      "epoch: 02, loss: -0.45147\n",
      "epoch: 03, loss: -0.45178\n",
      "epoch: 04, loss: -0.45343\n",
      "epoch: 05, loss: -0.45536\n",
      "epoch: 06, loss: -0.45582\n",
      "epoch: 07, loss: -0.45783\n",
      "epoch: 08, loss: -0.45891\n",
      "epoch: 09, loss: -0.45872\n",
      "After Unsqueezing, feature size= torch.Size([400, 1, 384])\n",
      "type(projected_feature) <class 'torch.Tensor'>\n",
      "projected feature shape= torch.Size([400, 384])\n"
     ]
    },
    {
     "name": "stderr",
     "output_type": "stream",
     "text": [
      "  1%|          | 6/1000 [02:00<5:39:10, 20.47s/it]"
     ]
    },
    {
     "name": "stdout",
     "output_type": "stream",
     "text": [
      "eigenvalues shape torch.Size([5]) eigenvectors shape torch.Size([5, 400])\n",
      "6 /home/phdcs2/Hard_Disk/Datasets/Deep-Spectral-Segmentation/data/object-segmentation/ECSSD/features/dino_vits16/0007.pth\n",
      "0007\n",
      "Starting Training\n",
      "epoch: 00, loss: -0.45029\n",
      "epoch: 01, loss: -0.44524\n",
      "epoch: 02, loss: -0.45352\n",
      "epoch: 03, loss: -0.46117\n",
      "epoch: 04, loss: -0.46873\n",
      "epoch: 05, loss: -0.47492\n",
      "epoch: 06, loss: -0.48197\n",
      "epoch: 07, loss: -0.48685\n",
      "epoch: 08, loss: -0.49281\n",
      "epoch: 09, loss: -0.49845\n",
      "After Unsqueezing, feature size= torch.Size([400, 1, 384])\n",
      "type(projected_feature) <class 'torch.Tensor'>\n",
      "projected feature shape= torch.Size([400, 384])\n"
     ]
    },
    {
     "name": "stderr",
     "output_type": "stream",
     "text": [
      "  1%|          | 7/1000 [02:21<5:38:55, 20.48s/it]"
     ]
    },
    {
     "name": "stdout",
     "output_type": "stream",
     "text": [
      "eigenvalues shape torch.Size([5]) eigenvectors shape torch.Size([5, 400])\n",
      "7 /home/phdcs2/Hard_Disk/Datasets/Deep-Spectral-Segmentation/data/object-segmentation/ECSSD/features/dino_vits16/0008.pth\n",
      "0008\n",
      "Starting Training\n",
      "epoch: 00, loss: -0.39635\n",
      "epoch: 01, loss: -0.40445\n",
      "epoch: 02, loss: -0.40605\n",
      "epoch: 03, loss: -0.40655\n",
      "epoch: 04, loss: -0.40615\n",
      "epoch: 05, loss: -0.40677\n",
      "epoch: 06, loss: -0.40684\n",
      "epoch: 07, loss: -0.40658\n",
      "epoch: 08, loss: -0.40589\n",
      "epoch: 09, loss: -0.40674\n",
      "After Unsqueezing, feature size= torch.Size([400, 1, 384])\n",
      "type(projected_feature) <class 'torch.Tensor'>\n",
      "projected feature shape= torch.Size([400, 384])\n"
     ]
    },
    {
     "name": "stderr",
     "output_type": "stream",
     "text": [
      "  1%|          | 8/1000 [02:46<6:03:59, 22.02s/it]"
     ]
    },
    {
     "name": "stdout",
     "output_type": "stream",
     "text": [
      "eigenvalues shape torch.Size([5]) eigenvectors shape torch.Size([5, 400])\n",
      "8 /home/phdcs2/Hard_Disk/Datasets/Deep-Spectral-Segmentation/data/object-segmentation/ECSSD/features/dino_vits16/0009.pth\n",
      "0009\n",
      "Starting Training\n",
      "epoch: 00, loss: -0.38878\n",
      "epoch: 01, loss: -0.39479\n",
      "epoch: 02, loss: -0.39690\n",
      "epoch: 03, loss: -0.39739\n",
      "epoch: 04, loss: -0.39769\n",
      "epoch: 05, loss: -0.39685\n",
      "epoch: 06, loss: -0.39420\n",
      "epoch: 07, loss: -0.39384\n",
      "epoch: 08, loss: -0.39062\n",
      "epoch: 09, loss: -0.38996\n",
      "After Unsqueezing, feature size= torch.Size([400, 1, 384])\n",
      "type(projected_feature) <class 'torch.Tensor'>\n",
      "projected feature shape= torch.Size([400, 384])\n"
     ]
    },
    {
     "name": "stderr",
     "output_type": "stream",
     "text": [
      "  1%|          | 9/1000 [03:10<6:16:04, 22.77s/it]"
     ]
    },
    {
     "name": "stdout",
     "output_type": "stream",
     "text": [
      "eigenvalues shape torch.Size([5]) eigenvectors shape torch.Size([5, 400])\n",
      "9 /home/phdcs2/Hard_Disk/Datasets/Deep-Spectral-Segmentation/data/object-segmentation/ECSSD/features/dino_vits16/0010.pth\n",
      "0010\n",
      "Starting Training\n",
      "epoch: 00, loss: -0.40341\n",
      "epoch: 01, loss: -0.41334\n",
      "epoch: 02, loss: -0.42076\n",
      "epoch: 03, loss: -0.42865\n",
      "epoch: 04, loss: -0.43544\n",
      "epoch: 05, loss: -0.44107\n",
      "epoch: 06, loss: -0.44529\n",
      "epoch: 07, loss: -0.44850\n",
      "epoch: 08, loss: -0.45083\n",
      "epoch: 09, loss: -0.45369\n",
      "After Unsqueezing, feature size= torch.Size([400, 1, 384])\n",
      "type(projected_feature) <class 'torch.Tensor'>\n",
      "projected feature shape= torch.Size([400, 384])\n"
     ]
    },
    {
     "name": "stderr",
     "output_type": "stream",
     "text": [
      "  1%|          | 10/1000 [03:35<6:26:57, 23.45s/it]"
     ]
    },
    {
     "name": "stdout",
     "output_type": "stream",
     "text": [
      "eigenvalues shape torch.Size([5]) eigenvectors shape torch.Size([5, 400])\n",
      "10 /home/phdcs2/Hard_Disk/Datasets/Deep-Spectral-Segmentation/data/object-segmentation/ECSSD/features/dino_vits16/0011.pth\n",
      "0011\n",
      "Starting Training\n",
      "epoch: 00, loss: -0.37873\n",
      "epoch: 01, loss: -0.37488\n",
      "epoch: 02, loss: -0.37487\n",
      "epoch: 03, loss: -0.37754\n",
      "epoch: 04, loss: -0.38180\n",
      "epoch: 05, loss: -0.38561\n",
      "epoch: 06, loss: -0.38873\n",
      "epoch: 07, loss: -0.39164\n",
      "epoch: 08, loss: -0.39438\n",
      "epoch: 09, loss: -0.39677\n",
      "After Unsqueezing, feature size= torch.Size([400, 1, 384])\n",
      "type(projected_feature) <class 'torch.Tensor'>\n",
      "projected feature shape= torch.Size([400, 384])\n"
     ]
    },
    {
     "name": "stderr",
     "output_type": "stream",
     "text": [
      "  1%|          | 11/1000 [04:00<6:30:08, 23.67s/it]"
     ]
    },
    {
     "name": "stdout",
     "output_type": "stream",
     "text": [
      "eigenvalues shape torch.Size([5]) eigenvectors shape torch.Size([5, 400])\n",
      "11 /home/phdcs2/Hard_Disk/Datasets/Deep-Spectral-Segmentation/data/object-segmentation/ECSSD/features/dino_vits16/0012.pth\n",
      "0012\n",
      "Starting Training\n",
      "epoch: 00, loss: -0.61330\n",
      "epoch: 01, loss: -0.65785\n",
      "epoch: 02, loss: -0.66251\n",
      "epoch: 03, loss: -0.66541\n",
      "epoch: 04, loss: -0.66780\n",
      "epoch: 05, loss: -0.66951\n",
      "epoch: 06, loss: -0.67129\n",
      "epoch: 07, loss: -0.67263\n",
      "epoch: 08, loss: -0.67400\n",
      "epoch: 09, loss: -0.67507\n",
      "After Unsqueezing, feature size= torch.Size([400, 1, 384])\n",
      "type(projected_feature) <class 'torch.Tensor'>\n",
      "projected feature shape= torch.Size([400, 384])\n"
     ]
    },
    {
     "name": "stderr",
     "output_type": "stream",
     "text": [
      "  1%|          | 12/1000 [04:23<6:27:37, 23.54s/it]"
     ]
    },
    {
     "name": "stdout",
     "output_type": "stream",
     "text": [
      "eigenvalues shape torch.Size([5]) eigenvectors shape torch.Size([5, 400])\n",
      "12 /home/phdcs2/Hard_Disk/Datasets/Deep-Spectral-Segmentation/data/object-segmentation/ECSSD/features/dino_vits16/0013.pth\n",
      "0013\n",
      "Starting Training\n",
      "epoch: 00, loss: -0.42409\n",
      "epoch: 01, loss: -0.44394\n",
      "epoch: 02, loss: -0.44798\n",
      "epoch: 03, loss: -0.45244\n",
      "epoch: 04, loss: -0.45583\n",
      "epoch: 05, loss: -0.45881\n",
      "epoch: 06, loss: -0.45979\n",
      "epoch: 07, loss: -0.46093\n",
      "epoch: 08, loss: -0.46177\n",
      "epoch: 09, loss: -0.46208\n",
      "After Unsqueezing, feature size= torch.Size([400, 1, 384])\n",
      "type(projected_feature) <class 'torch.Tensor'>\n",
      "projected feature shape= torch.Size([400, 384])\n"
     ]
    },
    {
     "name": "stderr",
     "output_type": "stream",
     "text": [
      "  1%|▏         | 13/1000 [04:45<6:18:36, 23.02s/it]"
     ]
    },
    {
     "name": "stdout",
     "output_type": "stream",
     "text": [
      "eigenvalues shape torch.Size([5]) eigenvectors shape torch.Size([5, 400])\n",
      "13 /home/phdcs2/Hard_Disk/Datasets/Deep-Spectral-Segmentation/data/object-segmentation/ECSSD/features/dino_vits16/0014.pth\n",
      "0014\n",
      "Starting Training\n",
      "epoch: 00, loss: -0.39413\n",
      "epoch: 01, loss: -0.39219\n",
      "epoch: 02, loss: -0.39546\n",
      "epoch: 03, loss: -0.39837\n",
      "epoch: 04, loss: -0.40232\n",
      "epoch: 05, loss: -0.40543\n",
      "epoch: 06, loss: -0.40915\n",
      "epoch: 07, loss: -0.41248\n",
      "epoch: 08, loss: -0.41597\n",
      "epoch: 09, loss: -0.41875\n",
      "After Unsqueezing, feature size= torch.Size([400, 1, 384])\n",
      "type(projected_feature) <class 'torch.Tensor'>\n",
      "projected feature shape= torch.Size([400, 384])\n"
     ]
    },
    {
     "name": "stderr",
     "output_type": "stream",
     "text": [
      "  1%|▏         | 14/1000 [05:04<6:02:27, 22.06s/it]"
     ]
    },
    {
     "name": "stdout",
     "output_type": "stream",
     "text": [
      "eigenvalues shape torch.Size([5]) eigenvectors shape torch.Size([5, 400])\n",
      "14 /home/phdcs2/Hard_Disk/Datasets/Deep-Spectral-Segmentation/data/object-segmentation/ECSSD/features/dino_vits16/0015.pth\n",
      "0015\n",
      "Starting Training\n",
      "epoch: 00, loss: -0.40155\n",
      "epoch: 01, loss: -0.41024\n",
      "epoch: 02, loss: -0.41320\n",
      "epoch: 03, loss: -0.41422\n",
      "epoch: 04, loss: -0.41581\n",
      "epoch: 05, loss: -0.41603\n",
      "epoch: 06, loss: -0.41909\n",
      "epoch: 07, loss: -0.42123\n",
      "epoch: 08, loss: -0.42424\n",
      "epoch: 09, loss: -0.42761\n",
      "After Unsqueezing, feature size= torch.Size([400, 1, 384])\n",
      "type(projected_feature) <class 'torch.Tensor'>\n",
      "projected feature shape= torch.Size([400, 384])\n"
     ]
    },
    {
     "name": "stderr",
     "output_type": "stream",
     "text": [
      "  2%|▏         | 15/1000 [05:28<6:07:57, 22.41s/it]"
     ]
    },
    {
     "name": "stdout",
     "output_type": "stream",
     "text": [
      "eigenvalues shape torch.Size([5]) eigenvectors shape torch.Size([5, 400])\n",
      "15 /home/phdcs2/Hard_Disk/Datasets/Deep-Spectral-Segmentation/data/object-segmentation/ECSSD/features/dino_vits16/0016.pth\n",
      "0016\n",
      "Starting Training\n",
      "epoch: 00, loss: -0.38407\n",
      "epoch: 01, loss: -0.39057\n",
      "epoch: 02, loss: -0.38457\n",
      "epoch: 03, loss: -0.37812\n",
      "epoch: 04, loss: -0.37177\n",
      "epoch: 05, loss: -0.37001\n",
      "epoch: 06, loss: -0.36610\n",
      "epoch: 07, loss: -0.36012\n",
      "epoch: 08, loss: -0.35589\n",
      "epoch: 09, loss: -0.35455\n",
      "After Unsqueezing, feature size= torch.Size([400, 1, 384])\n",
      "type(projected_feature) <class 'torch.Tensor'>\n",
      "projected feature shape= torch.Size([400, 384])\n"
     ]
    },
    {
     "name": "stderr",
     "output_type": "stream",
     "text": [
      "  2%|▏         | 16/1000 [05:49<6:01:01, 22.01s/it]"
     ]
    },
    {
     "name": "stdout",
     "output_type": "stream",
     "text": [
      "eigenvalues shape torch.Size([5]) eigenvectors shape torch.Size([5, 400])\n",
      "16 /home/phdcs2/Hard_Disk/Datasets/Deep-Spectral-Segmentation/data/object-segmentation/ECSSD/features/dino_vits16/0017.pth\n",
      "0017\n",
      "Starting Training\n",
      "epoch: 00, loss: -0.38328\n",
      "epoch: 01, loss: -0.39428\n",
      "epoch: 02, loss: -0.39663\n",
      "epoch: 03, loss: -0.39822\n",
      "epoch: 04, loss: -0.39964\n",
      "epoch: 05, loss: -0.39986\n",
      "epoch: 06, loss: -0.40116\n",
      "epoch: 07, loss: -0.40175\n",
      "epoch: 08, loss: -0.40384\n",
      "epoch: 09, loss: -0.40523\n",
      "After Unsqueezing, feature size= torch.Size([400, 1, 384])\n",
      "type(projected_feature) <class 'torch.Tensor'>\n",
      "projected feature shape= torch.Size([400, 384])\n"
     ]
    },
    {
     "name": "stderr",
     "output_type": "stream",
     "text": [
      "  2%|▏         | 17/1000 [06:10<5:55:52, 21.72s/it]"
     ]
    },
    {
     "name": "stdout",
     "output_type": "stream",
     "text": [
      "eigenvalues shape torch.Size([5]) eigenvectors shape torch.Size([5, 400])\n",
      "17 /home/phdcs2/Hard_Disk/Datasets/Deep-Spectral-Segmentation/data/object-segmentation/ECSSD/features/dino_vits16/0018.pth\n",
      "0018\n",
      "Starting Training\n",
      "epoch: 00, loss: -0.37037\n",
      "epoch: 01, loss: -0.37343\n",
      "epoch: 02, loss: -0.37339\n",
      "epoch: 03, loss: -0.37268\n",
      "epoch: 04, loss: -0.37168\n",
      "epoch: 05, loss: -0.37211\n",
      "epoch: 06, loss: -0.37215\n",
      "epoch: 07, loss: -0.37339\n",
      "epoch: 08, loss: -0.37334\n",
      "epoch: 09, loss: -0.37373\n",
      "After Unsqueezing, feature size= torch.Size([400, 1, 384])\n",
      "type(projected_feature) <class 'torch.Tensor'>\n",
      "projected feature shape= torch.Size([400, 384])\n"
     ]
    },
    {
     "name": "stderr",
     "output_type": "stream",
     "text": [
      "  2%|▏         | 18/1000 [06:32<5:56:03, 21.76s/it]"
     ]
    },
    {
     "name": "stdout",
     "output_type": "stream",
     "text": [
      "eigenvalues shape torch.Size([5]) eigenvectors shape torch.Size([5, 400])\n",
      "18 /home/phdcs2/Hard_Disk/Datasets/Deep-Spectral-Segmentation/data/object-segmentation/ECSSD/features/dino_vits16/0019.pth\n",
      "0019\n",
      "Starting Training\n",
      "epoch: 00, loss: -0.39558\n",
      "epoch: 01, loss: -0.39593\n",
      "epoch: 02, loss: -0.39600\n",
      "epoch: 03, loss: -0.39468\n",
      "epoch: 04, loss: -0.39439\n",
      "epoch: 05, loss: -0.39426\n",
      "epoch: 06, loss: -0.39228\n",
      "epoch: 07, loss: -0.39128\n",
      "epoch: 08, loss: -0.39087\n",
      "epoch: 09, loss: -0.39026\n",
      "After Unsqueezing, feature size= torch.Size([400, 1, 384])\n",
      "type(projected_feature) <class 'torch.Tensor'>\n",
      "projected feature shape= torch.Size([400, 384])\n"
     ]
    },
    {
     "name": "stderr",
     "output_type": "stream",
     "text": [
      "  2%|▏         | 19/1000 [06:54<6:00:24, 22.04s/it]"
     ]
    },
    {
     "name": "stdout",
     "output_type": "stream",
     "text": [
      "eigenvalues shape torch.Size([5]) eigenvectors shape torch.Size([5, 400])\n",
      "19 /home/phdcs2/Hard_Disk/Datasets/Deep-Spectral-Segmentation/data/object-segmentation/ECSSD/features/dino_vits16/0020.pth\n",
      "0020\n",
      "Starting Training\n",
      "epoch: 00, loss: -0.36034\n",
      "epoch: 01, loss: -0.35422\n",
      "epoch: 02, loss: -0.35839\n",
      "epoch: 03, loss: -0.36495\n",
      "epoch: 04, loss: -0.37140\n",
      "epoch: 05, loss: -0.37949\n",
      "epoch: 06, loss: -0.38388\n",
      "epoch: 07, loss: -0.38951\n",
      "epoch: 08, loss: -0.39334\n",
      "epoch: 09, loss: -0.39577\n",
      "After Unsqueezing, feature size= torch.Size([400, 1, 384])\n",
      "type(projected_feature) <class 'torch.Tensor'>\n",
      "projected feature shape= torch.Size([400, 384])\n"
     ]
    },
    {
     "name": "stderr",
     "output_type": "stream",
     "text": [
      "  2%|▏         | 20/1000 [07:19<6:15:03, 22.96s/it]"
     ]
    },
    {
     "name": "stdout",
     "output_type": "stream",
     "text": [
      "eigenvalues shape torch.Size([5]) eigenvectors shape torch.Size([5, 400])\n",
      "20 /home/phdcs2/Hard_Disk/Datasets/Deep-Spectral-Segmentation/data/object-segmentation/ECSSD/features/dino_vits16/0021.pth\n",
      "0021\n",
      "Starting Training\n",
      "epoch: 00, loss: -0.47795\n",
      "epoch: 01, loss: -0.48806\n",
      "epoch: 02, loss: -0.49799\n",
      "epoch: 03, loss: -0.50380\n",
      "epoch: 04, loss: -0.50768\n",
      "epoch: 05, loss: -0.50988\n",
      "epoch: 06, loss: -0.51194\n",
      "epoch: 07, loss: -0.51367\n",
      "epoch: 08, loss: -0.51551\n",
      "epoch: 09, loss: -0.51707\n",
      "After Unsqueezing, feature size= torch.Size([400, 1, 384])\n",
      "type(projected_feature) <class 'torch.Tensor'>\n",
      "projected feature shape= torch.Size([400, 384])\n"
     ]
    },
    {
     "name": "stderr",
     "output_type": "stream",
     "text": [
      "  2%|▏         | 21/1000 [07:41<6:10:04, 22.68s/it]"
     ]
    },
    {
     "name": "stdout",
     "output_type": "stream",
     "text": [
      "eigenvalues shape torch.Size([5]) eigenvectors shape torch.Size([5, 400])\n",
      "21 /home/phdcs2/Hard_Disk/Datasets/Deep-Spectral-Segmentation/data/object-segmentation/ECSSD/features/dino_vits16/0022.pth\n",
      "0022\n",
      "Starting Training\n",
      "epoch: 00, loss: -0.36979\n",
      "epoch: 01, loss: -0.37931\n",
      "epoch: 02, loss: -0.38374\n",
      "epoch: 03, loss: -0.38626\n",
      "epoch: 04, loss: -0.38996\n",
      "epoch: 05, loss: -0.39407\n",
      "epoch: 06, loss: -0.40006\n",
      "epoch: 07, loss: -0.40623\n",
      "epoch: 08, loss: -0.41544\n",
      "epoch: 09, loss: -0.42166\n",
      "After Unsqueezing, feature size= torch.Size([400, 1, 384])\n",
      "type(projected_feature) <class 'torch.Tensor'>\n",
      "projected feature shape= torch.Size([400, 384])\n"
     ]
    },
    {
     "name": "stderr",
     "output_type": "stream",
     "text": [
      "  2%|▏         | 22/1000 [08:04<6:09:02, 22.64s/it]"
     ]
    },
    {
     "name": "stdout",
     "output_type": "stream",
     "text": [
      "eigenvalues shape torch.Size([5]) eigenvectors shape torch.Size([5, 400])\n",
      "22 /home/phdcs2/Hard_Disk/Datasets/Deep-Spectral-Segmentation/data/object-segmentation/ECSSD/features/dino_vits16/0023.pth\n",
      "0023\n",
      "Starting Training\n",
      "epoch: 00, loss: -0.37981\n",
      "epoch: 01, loss: -0.39948\n",
      "epoch: 02, loss: -0.41320\n",
      "epoch: 03, loss: -0.42771\n",
      "epoch: 04, loss: -0.43666\n",
      "epoch: 05, loss: -0.44016\n",
      "epoch: 06, loss: -0.44648\n",
      "epoch: 07, loss: -0.45086\n",
      "epoch: 08, loss: -0.45239\n",
      "epoch: 09, loss: -0.45606\n",
      "After Unsqueezing, feature size= torch.Size([400, 1, 384])\n",
      "type(projected_feature) <class 'torch.Tensor'>\n",
      "projected feature shape= torch.Size([400, 384])\n"
     ]
    },
    {
     "name": "stderr",
     "output_type": "stream",
     "text": [
      "  2%|▏         | 23/1000 [08:30<6:24:08, 23.59s/it]"
     ]
    },
    {
     "name": "stdout",
     "output_type": "stream",
     "text": [
      "eigenvalues shape torch.Size([5]) eigenvectors shape torch.Size([5, 400])\n",
      "23 /home/phdcs2/Hard_Disk/Datasets/Deep-Spectral-Segmentation/data/object-segmentation/ECSSD/features/dino_vits16/0024.pth\n",
      "0024\n",
      "Starting Training\n",
      "epoch: 00, loss: -0.41486\n",
      "epoch: 01, loss: -0.43207\n",
      "epoch: 02, loss: -0.43661\n",
      "epoch: 03, loss: -0.44165\n",
      "epoch: 04, loss: -0.44630\n",
      "epoch: 05, loss: -0.45090\n",
      "epoch: 06, loss: -0.45458\n",
      "epoch: 07, loss: -0.45846\n",
      "epoch: 08, loss: -0.46178\n",
      "epoch: 09, loss: -0.46526\n",
      "After Unsqueezing, feature size= torch.Size([400, 1, 384])\n",
      "type(projected_feature) <class 'torch.Tensor'>\n",
      "projected feature shape= torch.Size([400, 384])\n"
     ]
    },
    {
     "name": "stderr",
     "output_type": "stream",
     "text": [
      "  2%|▏         | 24/1000 [08:59<6:51:33, 25.30s/it]"
     ]
    },
    {
     "name": "stdout",
     "output_type": "stream",
     "text": [
      "eigenvalues shape torch.Size([5]) eigenvectors shape torch.Size([5, 400])\n",
      "24 /home/phdcs2/Hard_Disk/Datasets/Deep-Spectral-Segmentation/data/object-segmentation/ECSSD/features/dino_vits16/0025.pth\n",
      "0025\n",
      "Starting Training\n",
      "epoch: 00, loss: -0.38658\n",
      "epoch: 01, loss: -0.38695\n",
      "epoch: 02, loss: -0.38789\n",
      "epoch: 03, loss: -0.39109\n",
      "epoch: 04, loss: -0.39522\n",
      "epoch: 05, loss: -0.40016\n",
      "epoch: 06, loss: -0.40500\n",
      "epoch: 07, loss: -0.41103\n",
      "epoch: 08, loss: -0.41577\n",
      "epoch: 09, loss: -0.41935\n",
      "After Unsqueezing, feature size= torch.Size([400, 1, 384])\n",
      "type(projected_feature) <class 'torch.Tensor'>\n",
      "projected feature shape= torch.Size([400, 384])\n"
     ]
    },
    {
     "name": "stderr",
     "output_type": "stream",
     "text": [
      "  2%|▎         | 25/1000 [09:28<7:08:51, 26.39s/it]"
     ]
    },
    {
     "name": "stdout",
     "output_type": "stream",
     "text": [
      "eigenvalues shape torch.Size([5]) eigenvectors shape torch.Size([5, 400])\n",
      "25 /home/phdcs2/Hard_Disk/Datasets/Deep-Spectral-Segmentation/data/object-segmentation/ECSSD/features/dino_vits16/0026.pth\n",
      "0026\n",
      "Starting Training\n",
      "epoch: 00, loss: -0.36962\n",
      "epoch: 01, loss: -0.38414\n",
      "epoch: 02, loss: -0.40930\n",
      "epoch: 03, loss: -0.43793\n",
      "epoch: 04, loss: -0.45868\n",
      "epoch: 05, loss: -0.46702\n",
      "epoch: 06, loss: -0.47135\n",
      "epoch: 07, loss: -0.47385\n",
      "epoch: 08, loss: -0.47603\n",
      "epoch: 09, loss: -0.47831\n",
      "After Unsqueezing, feature size= torch.Size([400, 1, 384])\n",
      "type(projected_feature) <class 'torch.Tensor'>\n",
      "projected feature shape= torch.Size([400, 384])\n"
     ]
    },
    {
     "name": "stderr",
     "output_type": "stream",
     "text": [
      "  3%|▎         | 26/1000 [09:57<7:20:16, 27.12s/it]"
     ]
    },
    {
     "name": "stdout",
     "output_type": "stream",
     "text": [
      "eigenvalues shape torch.Size([5]) eigenvectors shape torch.Size([5, 400])\n",
      "26 /home/phdcs2/Hard_Disk/Datasets/Deep-Spectral-Segmentation/data/object-segmentation/ECSSD/features/dino_vits16/0027.pth\n",
      "0027\n",
      "Starting Training\n",
      "epoch: 00, loss: -0.39600\n",
      "epoch: 01, loss: -0.40692\n",
      "epoch: 02, loss: -0.40491\n",
      "epoch: 03, loss: -0.40335\n",
      "epoch: 04, loss: -0.40287\n",
      "epoch: 05, loss: -0.40371\n",
      "epoch: 06, loss: -0.40459\n",
      "epoch: 07, loss: -0.40583\n",
      "epoch: 08, loss: -0.40718\n",
      "epoch: 09, loss: -0.40881\n",
      "After Unsqueezing, feature size= torch.Size([400, 1, 384])\n",
      "type(projected_feature) <class 'torch.Tensor'>\n",
      "projected feature shape= torch.Size([400, 384])\n"
     ]
    },
    {
     "name": "stderr",
     "output_type": "stream",
     "text": [
      "  3%|▎         | 27/1000 [10:21<7:07:06, 26.34s/it]"
     ]
    },
    {
     "name": "stdout",
     "output_type": "stream",
     "text": [
      "eigenvalues shape torch.Size([5]) eigenvectors shape torch.Size([5, 400])\n",
      "27 /home/phdcs2/Hard_Disk/Datasets/Deep-Spectral-Segmentation/data/object-segmentation/ECSSD/features/dino_vits16/0028.pth\n",
      "0028\n",
      "Starting Training\n",
      "epoch: 00, loss: -0.38295\n",
      "epoch: 01, loss: -0.38728\n",
      "epoch: 02, loss: -0.38897\n",
      "epoch: 03, loss: -0.39224\n",
      "epoch: 04, loss: -0.39308\n",
      "epoch: 05, loss: -0.39611\n",
      "epoch: 06, loss: -0.39907\n",
      "epoch: 07, loss: -0.40304\n",
      "epoch: 08, loss: -0.40861\n",
      "epoch: 09, loss: -0.41159\n",
      "After Unsqueezing, feature size= torch.Size([400, 1, 384])\n",
      "type(projected_feature) <class 'torch.Tensor'>\n",
      "projected feature shape= torch.Size([400, 384])\n"
     ]
    },
    {
     "name": "stderr",
     "output_type": "stream",
     "text": [
      "  3%|▎         | 28/1000 [10:41<6:35:10, 24.39s/it]"
     ]
    },
    {
     "name": "stdout",
     "output_type": "stream",
     "text": [
      "eigenvalues shape torch.Size([5]) eigenvectors shape torch.Size([5, 400])\n",
      "28 /home/phdcs2/Hard_Disk/Datasets/Deep-Spectral-Segmentation/data/object-segmentation/ECSSD/features/dino_vits16/0029.pth\n",
      "0029\n",
      "Starting Training\n",
      "epoch: 00, loss: -0.42045\n",
      "epoch: 01, loss: -0.41325\n",
      "epoch: 02, loss: -0.41422\n",
      "epoch: 03, loss: -0.42096\n",
      "epoch: 04, loss: -0.42822\n",
      "epoch: 05, loss: -0.43578\n",
      "epoch: 06, loss: -0.44502\n",
      "epoch: 07, loss: -0.45316\n",
      "epoch: 08, loss: -0.46015\n",
      "epoch: 09, loss: -0.46417\n",
      "After Unsqueezing, feature size= torch.Size([400, 1, 384])\n",
      "type(projected_feature) <class 'torch.Tensor'>\n",
      "projected feature shape= torch.Size([400, 384])\n"
     ]
    },
    {
     "name": "stderr",
     "output_type": "stream",
     "text": [
      "  3%|▎         | 29/1000 [11:02<6:17:49, 23.35s/it]"
     ]
    },
    {
     "name": "stdout",
     "output_type": "stream",
     "text": [
      "eigenvalues shape torch.Size([5]) eigenvectors shape torch.Size([5, 400])\n",
      "29 /home/phdcs2/Hard_Disk/Datasets/Deep-Spectral-Segmentation/data/object-segmentation/ECSSD/features/dino_vits16/0030.pth\n",
      "0030\n",
      "Starting Training\n",
      "epoch: 00, loss: -0.41518\n",
      "epoch: 01, loss: -0.43184\n",
      "epoch: 02, loss: -0.43396\n",
      "epoch: 03, loss: -0.43541\n",
      "epoch: 04, loss: -0.43628\n",
      "epoch: 05, loss: -0.43731\n",
      "epoch: 06, loss: -0.43773\n",
      "epoch: 07, loss: -0.43864\n",
      "epoch: 08, loss: -0.43920\n",
      "epoch: 09, loss: -0.43959\n",
      "After Unsqueezing, feature size= torch.Size([400, 1, 384])\n",
      "type(projected_feature) <class 'torch.Tensor'>\n",
      "projected feature shape= torch.Size([400, 384])\n"
     ]
    },
    {
     "name": "stderr",
     "output_type": "stream",
     "text": [
      "  3%|▎         | 30/1000 [11:25<6:15:23, 23.22s/it]"
     ]
    },
    {
     "name": "stdout",
     "output_type": "stream",
     "text": [
      "eigenvalues shape torch.Size([5]) eigenvectors shape torch.Size([5, 400])\n",
      "30 /home/phdcs2/Hard_Disk/Datasets/Deep-Spectral-Segmentation/data/object-segmentation/ECSSD/features/dino_vits16/0031.pth\n",
      "0031\n",
      "Starting Training\n",
      "epoch: 00, loss: -0.37246\n",
      "epoch: 01, loss: -0.38532\n",
      "epoch: 02, loss: -0.39020\n",
      "epoch: 03, loss: -0.39304\n",
      "epoch: 04, loss: -0.39460\n",
      "epoch: 05, loss: -0.39581\n",
      "epoch: 06, loss: -0.39692\n",
      "epoch: 07, loss: -0.39705\n",
      "epoch: 08, loss: -0.39665\n",
      "epoch: 09, loss: -0.39717\n",
      "After Unsqueezing, feature size= torch.Size([400, 1, 384])\n",
      "type(projected_feature) <class 'torch.Tensor'>\n",
      "projected feature shape= torch.Size([400, 384])\n"
     ]
    },
    {
     "name": "stderr",
     "output_type": "stream",
     "text": [
      "  3%|▎         | 31/1000 [11:49<6:16:09, 23.29s/it]"
     ]
    },
    {
     "name": "stdout",
     "output_type": "stream",
     "text": [
      "eigenvalues shape torch.Size([5]) eigenvectors shape torch.Size([5, 400])\n",
      "31 /home/phdcs2/Hard_Disk/Datasets/Deep-Spectral-Segmentation/data/object-segmentation/ECSSD/features/dino_vits16/0032.pth\n",
      "0032\n",
      "Starting Training\n",
      "epoch: 00, loss: -0.45465\n",
      "epoch: 01, loss: -0.46537\n",
      "epoch: 02, loss: -0.47545\n",
      "epoch: 03, loss: -0.48410\n",
      "epoch: 04, loss: -0.49053\n",
      "epoch: 05, loss: -0.49480\n",
      "epoch: 06, loss: -0.49952\n",
      "epoch: 07, loss: -0.50282\n",
      "epoch: 08, loss: -0.50498\n",
      "epoch: 09, loss: -0.50696\n",
      "After Unsqueezing, feature size= torch.Size([400, 1, 384])\n",
      "type(projected_feature) <class 'torch.Tensor'>\n",
      "projected feature shape= torch.Size([400, 384])\n"
     ]
    },
    {
     "name": "stderr",
     "output_type": "stream",
     "text": [
      "  3%|▎         | 32/1000 [12:13<6:21:01, 23.62s/it]"
     ]
    },
    {
     "name": "stdout",
     "output_type": "stream",
     "text": [
      "eigenvalues shape torch.Size([5]) eigenvectors shape torch.Size([5, 400])\n",
      "32 /home/phdcs2/Hard_Disk/Datasets/Deep-Spectral-Segmentation/data/object-segmentation/ECSSD/features/dino_vits16/0033.pth\n",
      "0033\n",
      "Starting Training\n",
      "epoch: 00, loss: -0.37476\n",
      "epoch: 01, loss: -0.37676\n",
      "epoch: 02, loss: -0.38044\n",
      "epoch: 03, loss: -0.38472\n",
      "epoch: 04, loss: -0.38802\n",
      "epoch: 05, loss: -0.39131\n",
      "epoch: 06, loss: -0.39476\n",
      "epoch: 07, loss: -0.39757\n",
      "epoch: 08, loss: -0.40019\n",
      "epoch: 09, loss: -0.40337\n",
      "After Unsqueezing, feature size= torch.Size([400, 1, 384])\n",
      "type(projected_feature) <class 'torch.Tensor'>\n",
      "projected feature shape= torch.Size([400, 384])\n"
     ]
    },
    {
     "name": "stderr",
     "output_type": "stream",
     "text": [
      "  3%|▎         | 33/1000 [12:37<6:23:05, 23.77s/it]"
     ]
    },
    {
     "name": "stdout",
     "output_type": "stream",
     "text": [
      "eigenvalues shape torch.Size([5]) eigenvectors shape torch.Size([5, 400])\n",
      "33 /home/phdcs2/Hard_Disk/Datasets/Deep-Spectral-Segmentation/data/object-segmentation/ECSSD/features/dino_vits16/0034.pth\n",
      "0034\n",
      "Starting Training\n",
      "epoch: 00, loss: -0.51914\n",
      "epoch: 01, loss: -0.54257\n",
      "epoch: 02, loss: -0.55712\n",
      "epoch: 03, loss: -0.56639\n",
      "epoch: 04, loss: -0.57366\n",
      "epoch: 05, loss: -0.57899\n",
      "epoch: 06, loss: -0.58245\n",
      "epoch: 07, loss: -0.58548\n",
      "epoch: 08, loss: -0.58749\n",
      "epoch: 09, loss: -0.58951\n",
      "After Unsqueezing, feature size= torch.Size([400, 1, 384])\n",
      "type(projected_feature) <class 'torch.Tensor'>\n",
      "projected feature shape= torch.Size([400, 384])\n"
     ]
    },
    {
     "name": "stderr",
     "output_type": "stream",
     "text": [
      "  3%|▎         | 34/1000 [12:58<6:10:46, 23.03s/it]"
     ]
    },
    {
     "name": "stdout",
     "output_type": "stream",
     "text": [
      "eigenvalues shape torch.Size([5]) eigenvectors shape torch.Size([5, 400])\n",
      "34 /home/phdcs2/Hard_Disk/Datasets/Deep-Spectral-Segmentation/data/object-segmentation/ECSSD/features/dino_vits16/0035.pth\n",
      "0035\n",
      "Starting Training\n",
      "epoch: 00, loss: -0.39120\n",
      "epoch: 01, loss: -0.40190\n",
      "epoch: 02, loss: -0.40587\n",
      "epoch: 03, loss: -0.40840\n",
      "epoch: 04, loss: -0.41040\n",
      "epoch: 05, loss: -0.41215\n",
      "epoch: 06, loss: -0.41415\n",
      "epoch: 07, loss: -0.41558\n",
      "epoch: 08, loss: -0.41751\n",
      "epoch: 09, loss: -0.41747\n",
      "After Unsqueezing, feature size= torch.Size([400, 1, 384])\n",
      "type(projected_feature) <class 'torch.Tensor'>\n",
      "projected feature shape= torch.Size([400, 384])\n"
     ]
    },
    {
     "name": "stderr",
     "output_type": "stream",
     "text": [
      "  4%|▎         | 35/1000 [13:24<6:23:01, 23.81s/it]"
     ]
    },
    {
     "name": "stdout",
     "output_type": "stream",
     "text": [
      "eigenvalues shape torch.Size([5]) eigenvectors shape torch.Size([5, 400])\n",
      "35 /home/phdcs2/Hard_Disk/Datasets/Deep-Spectral-Segmentation/data/object-segmentation/ECSSD/features/dino_vits16/0036.pth\n",
      "0036\n",
      "Starting Training\n",
      "epoch: 00, loss: -0.40428\n",
      "epoch: 01, loss: -0.40944\n",
      "epoch: 02, loss: -0.40879\n",
      "epoch: 03, loss: -0.40797\n",
      "epoch: 04, loss: -0.40870\n",
      "epoch: 05, loss: -0.40879\n",
      "epoch: 06, loss: -0.40856\n",
      "epoch: 07, loss: -0.40848\n",
      "epoch: 08, loss: -0.40849\n",
      "epoch: 09, loss: -0.40828\n",
      "After Unsqueezing, feature size= torch.Size([450, 1, 384])\n",
      "type(projected_feature) <class 'torch.Tensor'>\n",
      "projected feature shape= torch.Size([450, 384])\n"
     ]
    },
    {
     "name": "stderr",
     "output_type": "stream",
     "text": [
      "  4%|▎         | 36/1000 [13:53<6:49:57, 25.52s/it]"
     ]
    },
    {
     "name": "stdout",
     "output_type": "stream",
     "text": [
      "eigenvalues shape torch.Size([5]) eigenvectors shape torch.Size([5, 450])\n",
      "36 /home/phdcs2/Hard_Disk/Datasets/Deep-Spectral-Segmentation/data/object-segmentation/ECSSD/features/dino_vits16/0037.pth\n",
      "0037\n",
      "Starting Training\n",
      "epoch: 00, loss: -0.39301\n",
      "epoch: 01, loss: -0.39665\n",
      "epoch: 02, loss: -0.39734\n",
      "epoch: 03, loss: -0.39980\n",
      "epoch: 04, loss: -0.40141\n",
      "epoch: 05, loss: -0.40255\n",
      "epoch: 06, loss: -0.40458\n",
      "epoch: 07, loss: -0.40544\n",
      "epoch: 08, loss: -0.40594\n",
      "epoch: 09, loss: -0.40630\n",
      "After Unsqueezing, feature size= torch.Size([450, 1, 384])\n",
      "type(projected_feature) <class 'torch.Tensor'>\n",
      "projected feature shape= torch.Size([450, 384])\n"
     ]
    },
    {
     "name": "stderr",
     "output_type": "stream",
     "text": [
      "  4%|▎         | 37/1000 [14:22<7:06:30, 26.57s/it]"
     ]
    },
    {
     "name": "stdout",
     "output_type": "stream",
     "text": [
      "eigenvalues shape torch.Size([5]) eigenvectors shape torch.Size([5, 450])\n",
      "37 /home/phdcs2/Hard_Disk/Datasets/Deep-Spectral-Segmentation/data/object-segmentation/ECSSD/features/dino_vits16/0038.pth\n",
      "0038\n",
      "Starting Training\n",
      "epoch: 00, loss: -0.65262\n",
      "epoch: 01, loss: -0.71414\n",
      "epoch: 02, loss: -0.71482\n",
      "epoch: 03, loss: -0.71535\n",
      "epoch: 04, loss: -0.71610\n",
      "epoch: 05, loss: -0.71648\n",
      "epoch: 06, loss: -0.71686\n",
      "epoch: 07, loss: -0.71698\n",
      "epoch: 08, loss: -0.71728\n",
      "epoch: 09, loss: -0.71746\n",
      "After Unsqueezing, feature size= torch.Size([400, 1, 384])\n",
      "type(projected_feature) <class 'torch.Tensor'>\n",
      "projected feature shape= torch.Size([400, 384])\n"
     ]
    },
    {
     "name": "stderr",
     "output_type": "stream",
     "text": [
      "  4%|▍         | 38/1000 [14:48<7:00:25, 26.22s/it]"
     ]
    },
    {
     "name": "stdout",
     "output_type": "stream",
     "text": [
      "eigenvalues shape torch.Size([5]) eigenvectors shape torch.Size([5, 400])\n",
      "38 /home/phdcs2/Hard_Disk/Datasets/Deep-Spectral-Segmentation/data/object-segmentation/ECSSD/features/dino_vits16/0039.pth\n",
      "0039\n",
      "Starting Training\n",
      "epoch: 00, loss: -0.39811\n",
      "epoch: 01, loss: -0.41373\n",
      "epoch: 02, loss: -0.41540\n",
      "epoch: 03, loss: -0.41685\n",
      "epoch: 04, loss: -0.41672\n",
      "epoch: 05, loss: -0.41789\n",
      "epoch: 06, loss: -0.41905\n",
      "epoch: 07, loss: -0.41947\n",
      "epoch: 08, loss: -0.42104\n",
      "epoch: 09, loss: -0.42255\n",
      "After Unsqueezing, feature size= torch.Size([400, 1, 384])\n",
      "type(projected_feature) <class 'torch.Tensor'>\n",
      "projected feature shape= torch.Size([400, 384])\n"
     ]
    },
    {
     "name": "stderr",
     "output_type": "stream",
     "text": [
      "  4%|▍         | 39/1000 [15:13<6:55:29, 25.94s/it]"
     ]
    },
    {
     "name": "stdout",
     "output_type": "stream",
     "text": [
      "eigenvalues shape torch.Size([5]) eigenvectors shape torch.Size([5, 400])\n",
      "39 /home/phdcs2/Hard_Disk/Datasets/Deep-Spectral-Segmentation/data/object-segmentation/ECSSD/features/dino_vits16/0040.pth\n",
      "0040\n",
      "Starting Training\n",
      "epoch: 00, loss: -0.60277\n",
      "epoch: 01, loss: -0.64402\n",
      "epoch: 02, loss: -0.64619\n",
      "epoch: 03, loss: -0.64722\n",
      "epoch: 04, loss: -0.64880\n",
      "epoch: 05, loss: -0.65039\n",
      "epoch: 06, loss: -0.65133\n",
      "epoch: 07, loss: -0.65262\n",
      "epoch: 08, loss: -0.65328\n",
      "epoch: 09, loss: -0.65552\n",
      "After Unsqueezing, feature size= torch.Size([400, 1, 384])\n",
      "type(projected_feature) <class 'torch.Tensor'>\n",
      "projected feature shape= torch.Size([400, 384])\n"
     ]
    },
    {
     "name": "stderr",
     "output_type": "stream",
     "text": [
      "  4%|▍         | 40/1000 [15:37<6:46:55, 25.43s/it]"
     ]
    },
    {
     "name": "stdout",
     "output_type": "stream",
     "text": [
      "eigenvalues shape torch.Size([5]) eigenvectors shape torch.Size([5, 400])\n",
      "40 /home/phdcs2/Hard_Disk/Datasets/Deep-Spectral-Segmentation/data/object-segmentation/ECSSD/features/dino_vits16/0041.pth\n",
      "0041\n",
      "Starting Training\n",
      "epoch: 00, loss: -0.38803\n",
      "epoch: 01, loss: -0.39569\n",
      "epoch: 02, loss: -0.40009\n",
      "epoch: 03, loss: -0.40319\n",
      "epoch: 04, loss: -0.40409\n",
      "epoch: 05, loss: -0.40536\n",
      "epoch: 06, loss: -0.40834\n",
      "epoch: 07, loss: -0.40972\n",
      "epoch: 08, loss: -0.41046\n",
      "epoch: 09, loss: -0.41003\n",
      "After Unsqueezing, feature size= torch.Size([450, 1, 384])\n",
      "type(projected_feature) <class 'torch.Tensor'>\n",
      "projected feature shape= torch.Size([450, 384])\n"
     ]
    },
    {
     "name": "stderr",
     "output_type": "stream",
     "text": [
      "  4%|▍         | 41/1000 [16:04<6:50:43, 25.70s/it]"
     ]
    },
    {
     "name": "stdout",
     "output_type": "stream",
     "text": [
      "eigenvalues shape torch.Size([5]) eigenvectors shape torch.Size([5, 450])\n",
      "41 /home/phdcs2/Hard_Disk/Datasets/Deep-Spectral-Segmentation/data/object-segmentation/ECSSD/features/dino_vits16/0042.pth\n",
      "0042\n",
      "Starting Training\n",
      "epoch: 00, loss: -0.37607\n",
      "epoch: 01, loss: -0.38373\n",
      "epoch: 02, loss: -0.38669\n",
      "epoch: 03, loss: -0.38848\n",
      "epoch: 04, loss: -0.38986\n",
      "epoch: 05, loss: -0.39258\n",
      "epoch: 06, loss: -0.39386\n",
      "epoch: 07, loss: -0.39518\n",
      "epoch: 08, loss: -0.39757\n",
      "epoch: 09, loss: -0.39943\n",
      "After Unsqueezing, feature size= torch.Size([400, 1, 384])\n",
      "type(projected_feature) <class 'torch.Tensor'>\n",
      "projected feature shape= torch.Size([400, 384])\n"
     ]
    },
    {
     "name": "stderr",
     "output_type": "stream",
     "text": [
      "  4%|▍         | 42/1000 [16:32<7:01:34, 26.40s/it]"
     ]
    },
    {
     "name": "stdout",
     "output_type": "stream",
     "text": [
      "eigenvalues shape torch.Size([5]) eigenvectors shape torch.Size([5, 400])\n",
      "42 /home/phdcs2/Hard_Disk/Datasets/Deep-Spectral-Segmentation/data/object-segmentation/ECSSD/features/dino_vits16/0043.pth\n",
      "0043\n",
      "Starting Training\n",
      "epoch: 00, loss: -0.37073\n",
      "epoch: 01, loss: -0.38455\n",
      "epoch: 02, loss: -0.38941\n",
      "epoch: 03, loss: -0.39416\n",
      "epoch: 04, loss: -0.40160\n",
      "epoch: 05, loss: -0.41200\n",
      "epoch: 06, loss: -0.42573\n",
      "epoch: 07, loss: -0.43594\n",
      "epoch: 08, loss: -0.44283\n",
      "epoch: 09, loss: -0.44802\n",
      "After Unsqueezing, feature size= torch.Size([450, 1, 384])\n",
      "type(projected_feature) <class 'torch.Tensor'>\n",
      "projected feature shape= torch.Size([450, 384])\n"
     ]
    },
    {
     "name": "stderr",
     "output_type": "stream",
     "text": [
      "  4%|▍         | 43/1000 [16:58<7:02:00, 26.46s/it]"
     ]
    },
    {
     "name": "stdout",
     "output_type": "stream",
     "text": [
      "eigenvalues shape torch.Size([5]) eigenvectors shape torch.Size([5, 450])\n",
      "43 /home/phdcs2/Hard_Disk/Datasets/Deep-Spectral-Segmentation/data/object-segmentation/ECSSD/features/dino_vits16/0044.pth\n",
      "0044\n",
      "Starting Training\n",
      "epoch: 00, loss: -0.34663\n",
      "epoch: 01, loss: -0.34958\n",
      "epoch: 02, loss: -0.35352\n",
      "epoch: 03, loss: -0.35669\n",
      "epoch: 04, loss: -0.35875\n",
      "epoch: 05, loss: -0.36183\n",
      "epoch: 06, loss: -0.36454\n",
      "epoch: 07, loss: -0.36693\n",
      "epoch: 08, loss: -0.37059\n",
      "epoch: 09, loss: -0.37346\n",
      "After Unsqueezing, feature size= torch.Size([525, 1, 384])\n",
      "type(projected_feature) <class 'torch.Tensor'>\n",
      "projected feature shape= torch.Size([525, 384])\n"
     ]
    },
    {
     "name": "stderr",
     "output_type": "stream",
     "text": [
      "  4%|▍         | 44/1000 [17:25<7:00:20, 26.38s/it]"
     ]
    },
    {
     "name": "stdout",
     "output_type": "stream",
     "text": [
      "eigenvalues shape torch.Size([5]) eigenvectors shape torch.Size([5, 525])\n",
      "44 /home/phdcs2/Hard_Disk/Datasets/Deep-Spectral-Segmentation/data/object-segmentation/ECSSD/features/dino_vits16/0045.pth\n",
      "0045\n",
      "Starting Training\n",
      "epoch: 00, loss: -0.38994\n",
      "epoch: 01, loss: -0.39347\n",
      "epoch: 02, loss: -0.39586\n",
      "epoch: 03, loss: -0.40050\n",
      "epoch: 04, loss: -0.40472\n",
      "epoch: 05, loss: -0.40952\n",
      "epoch: 06, loss: -0.41284\n",
      "epoch: 07, loss: -0.41551\n",
      "epoch: 08, loss: -0.41726\n",
      "epoch: 09, loss: -0.41999\n",
      "After Unsqueezing, feature size= torch.Size([450, 1, 384])\n",
      "type(projected_feature) <class 'torch.Tensor'>\n",
      "projected feature shape= torch.Size([450, 384])\n"
     ]
    },
    {
     "name": "stderr",
     "output_type": "stream",
     "text": [
      "  4%|▍         | 45/1000 [17:47<6:42:01, 25.26s/it]"
     ]
    },
    {
     "name": "stdout",
     "output_type": "stream",
     "text": [
      "eigenvalues shape torch.Size([5]) eigenvectors shape torch.Size([5, 450])\n",
      "45 /home/phdcs2/Hard_Disk/Datasets/Deep-Spectral-Segmentation/data/object-segmentation/ECSSD/features/dino_vits16/0046.pth\n",
      "0046\n",
      "Starting Training\n",
      "epoch: 00, loss: -0.63246\n",
      "epoch: 01, loss: -0.66976\n",
      "epoch: 02, loss: -0.67265\n",
      "epoch: 03, loss: -0.67488\n",
      "epoch: 04, loss: -0.67632\n",
      "epoch: 05, loss: -0.67797\n",
      "epoch: 06, loss: -0.67907\n",
      "epoch: 07, loss: -0.68013\n",
      "epoch: 08, loss: -0.68127\n",
      "epoch: 09, loss: -0.68183\n",
      "After Unsqueezing, feature size= torch.Size([450, 1, 384])\n",
      "type(projected_feature) <class 'torch.Tensor'>\n",
      "projected feature shape= torch.Size([450, 384])\n"
     ]
    },
    {
     "name": "stderr",
     "output_type": "stream",
     "text": [
      "  5%|▍         | 46/1000 [18:12<6:38:46, 25.08s/it]"
     ]
    },
    {
     "name": "stdout",
     "output_type": "stream",
     "text": [
      "eigenvalues shape torch.Size([5]) eigenvectors shape torch.Size([5, 450])\n",
      "46 /home/phdcs2/Hard_Disk/Datasets/Deep-Spectral-Segmentation/data/object-segmentation/ECSSD/features/dino_vits16/0047.pth\n",
      "0047\n",
      "Starting Training\n",
      "epoch: 00, loss: -0.39217\n",
      "epoch: 01, loss: -0.40014\n",
      "epoch: 02, loss: -0.40123\n",
      "epoch: 03, loss: -0.40127\n",
      "epoch: 04, loss: -0.40010\n",
      "epoch: 05, loss: -0.39863\n",
      "epoch: 06, loss: -0.39723\n",
      "epoch: 07, loss: -0.39586\n",
      "epoch: 08, loss: -0.39666\n",
      "epoch: 09, loss: -0.39624\n",
      "After Unsqueezing, feature size= torch.Size([400, 1, 384])\n",
      "type(projected_feature) <class 'torch.Tensor'>\n",
      "projected feature shape= torch.Size([400, 384])\n"
     ]
    },
    {
     "name": "stderr",
     "output_type": "stream",
     "text": [
      "  5%|▍         | 47/1000 [18:34<6:22:16, 24.07s/it]"
     ]
    },
    {
     "name": "stdout",
     "output_type": "stream",
     "text": [
      "eigenvalues shape torch.Size([5]) eigenvectors shape torch.Size([5, 400])\n",
      "47 /home/phdcs2/Hard_Disk/Datasets/Deep-Spectral-Segmentation/data/object-segmentation/ECSSD/features/dino_vits16/0048.pth\n",
      "0048\n",
      "Starting Training\n",
      "epoch: 00, loss: -0.39162\n",
      "epoch: 01, loss: -0.39501\n",
      "epoch: 02, loss: -0.39374\n",
      "epoch: 03, loss: -0.39262\n",
      "epoch: 04, loss: -0.39343\n",
      "epoch: 05, loss: -0.39257\n",
      "epoch: 06, loss: -0.39475\n",
      "epoch: 07, loss: -0.39465\n",
      "epoch: 08, loss: -0.39663\n",
      "epoch: 09, loss: -0.39676\n",
      "After Unsqueezing, feature size= torch.Size([450, 1, 384])\n",
      "type(projected_feature) <class 'torch.Tensor'>\n",
      "projected feature shape= torch.Size([450, 384])\n"
     ]
    },
    {
     "name": "stderr",
     "output_type": "stream",
     "text": [
      "  5%|▍         | 48/1000 [18:56<6:15:29, 23.67s/it]"
     ]
    },
    {
     "name": "stdout",
     "output_type": "stream",
     "text": [
      "eigenvalues shape torch.Size([5]) eigenvectors shape torch.Size([5, 450])\n",
      "48 /home/phdcs2/Hard_Disk/Datasets/Deep-Spectral-Segmentation/data/object-segmentation/ECSSD/features/dino_vits16/0049.pth\n",
      "0049\n",
      "Starting Training\n",
      "epoch: 00, loss: -0.38881\n",
      "epoch: 01, loss: -0.39268\n",
      "epoch: 02, loss: -0.39477\n",
      "epoch: 03, loss: -0.39469\n",
      "epoch: 04, loss: -0.39312\n",
      "epoch: 05, loss: -0.39214\n",
      "epoch: 06, loss: -0.39108\n",
      "epoch: 07, loss: -0.39030\n",
      "epoch: 08, loss: -0.38944\n",
      "epoch: 09, loss: -0.38911\n",
      "After Unsqueezing, feature size= torch.Size([450, 1, 384])\n",
      "type(projected_feature) <class 'torch.Tensor'>\n",
      "projected feature shape= torch.Size([450, 384])\n"
     ]
    },
    {
     "name": "stderr",
     "output_type": "stream",
     "text": [
      "  5%|▍         | 49/1000 [19:24<6:31:59, 24.73s/it]"
     ]
    },
    {
     "name": "stdout",
     "output_type": "stream",
     "text": [
      "eigenvalues shape torch.Size([5]) eigenvectors shape torch.Size([5, 450])\n",
      "49 /home/phdcs2/Hard_Disk/Datasets/Deep-Spectral-Segmentation/data/object-segmentation/ECSSD/features/dino_vits16/0050.pth\n",
      "0050\n",
      "Starting Training\n",
      "epoch: 00, loss: -0.38952\n",
      "epoch: 01, loss: -0.39644\n",
      "epoch: 02, loss: -0.39740\n",
      "epoch: 03, loss: -0.39839\n",
      "epoch: 04, loss: -0.40163\n",
      "epoch: 05, loss: -0.40192\n",
      "epoch: 06, loss: -0.40357\n",
      "epoch: 07, loss: -0.40565\n",
      "epoch: 08, loss: -0.40741\n",
      "epoch: 09, loss: -0.40882\n",
      "After Unsqueezing, feature size= torch.Size([400, 1, 384])\n",
      "type(projected_feature) <class 'torch.Tensor'>\n",
      "projected feature shape= torch.Size([400, 384])\n"
     ]
    },
    {
     "name": "stderr",
     "output_type": "stream",
     "text": [
      "  5%|▌         | 50/1000 [19:47<6:23:46, 24.24s/it]"
     ]
    },
    {
     "name": "stdout",
     "output_type": "stream",
     "text": [
      "eigenvalues shape torch.Size([5]) eigenvectors shape torch.Size([5, 400])\n",
      "50 /home/phdcs2/Hard_Disk/Datasets/Deep-Spectral-Segmentation/data/object-segmentation/ECSSD/features/dino_vits16/0051.pth\n",
      "0051\n",
      "Starting Training\n",
      "epoch: 00, loss: -0.38905\n",
      "epoch: 01, loss: -0.39958\n",
      "epoch: 02, loss: -0.40106\n",
      "epoch: 03, loss: -0.39999\n",
      "epoch: 04, loss: -0.40067\n",
      "epoch: 05, loss: -0.40060\n",
      "epoch: 06, loss: -0.39985\n",
      "epoch: 07, loss: -0.39977\n",
      "epoch: 08, loss: -0.39910\n",
      "epoch: 09, loss: -0.39858\n",
      "After Unsqueezing, feature size= torch.Size([450, 1, 384])\n",
      "type(projected_feature) <class 'torch.Tensor'>\n",
      "projected feature shape= torch.Size([450, 384])\n"
     ]
    },
    {
     "name": "stderr",
     "output_type": "stream",
     "text": [
      "  5%|▌         | 51/1000 [20:15<6:44:39, 25.58s/it]"
     ]
    },
    {
     "name": "stdout",
     "output_type": "stream",
     "text": [
      "eigenvalues shape torch.Size([5]) eigenvectors shape torch.Size([5, 450])\n",
      "51 /home/phdcs2/Hard_Disk/Datasets/Deep-Spectral-Segmentation/data/object-segmentation/ECSSD/features/dino_vits16/0052.pth\n",
      "0052\n",
      "Starting Training\n",
      "epoch: 00, loss: -0.37490\n",
      "epoch: 01, loss: -0.37381\n",
      "epoch: 02, loss: -0.37247\n",
      "epoch: 03, loss: -0.37070\n",
      "epoch: 04, loss: -0.36885\n",
      "epoch: 05, loss: -0.37012\n",
      "epoch: 06, loss: -0.37052\n",
      "epoch: 07, loss: -0.37283\n",
      "epoch: 08, loss: -0.37543\n",
      "epoch: 09, loss: -0.37693\n",
      "After Unsqueezing, feature size= torch.Size([450, 1, 384])\n",
      "type(projected_feature) <class 'torch.Tensor'>\n",
      "projected feature shape= torch.Size([450, 384])\n"
     ]
    },
    {
     "name": "stderr",
     "output_type": "stream",
     "text": [
      "  5%|▌         | 52/1000 [20:48<7:15:42, 27.58s/it]"
     ]
    },
    {
     "name": "stdout",
     "output_type": "stream",
     "text": [
      "eigenvalues shape torch.Size([5]) eigenvectors shape torch.Size([5, 450])\n",
      "52 /home/phdcs2/Hard_Disk/Datasets/Deep-Spectral-Segmentation/data/object-segmentation/ECSSD/features/dino_vits16/0053.pth\n",
      "0053\n",
      "Starting Training\n",
      "epoch: 00, loss: -0.38157\n",
      "epoch: 01, loss: -0.40222\n",
      "epoch: 02, loss: -0.41433\n",
      "epoch: 03, loss: -0.42325\n",
      "epoch: 04, loss: -0.42980\n",
      "epoch: 05, loss: -0.43551\n",
      "epoch: 06, loss: -0.44068\n",
      "epoch: 07, loss: -0.44501\n",
      "epoch: 08, loss: -0.44940\n",
      "epoch: 09, loss: -0.45320\n",
      "After Unsqueezing, feature size= torch.Size([375, 1, 384])\n",
      "type(projected_feature) <class 'torch.Tensor'>\n",
      "projected feature shape= torch.Size([375, 384])\n"
     ]
    },
    {
     "name": "stderr",
     "output_type": "stream",
     "text": [
      "  5%|▌         | 53/1000 [21:13<7:04:04, 26.87s/it]"
     ]
    },
    {
     "name": "stdout",
     "output_type": "stream",
     "text": [
      "eigenvalues shape torch.Size([5]) eigenvectors shape torch.Size([5, 375])\n",
      "53 /home/phdcs2/Hard_Disk/Datasets/Deep-Spectral-Segmentation/data/object-segmentation/ECSSD/features/dino_vits16/0054.pth\n",
      "0054\n",
      "Starting Training\n",
      "epoch: 00, loss: -0.44462\n",
      "epoch: 01, loss: -0.45589\n",
      "epoch: 02, loss: -0.45803\n",
      "epoch: 03, loss: -0.45972\n",
      "epoch: 04, loss: -0.46095\n",
      "epoch: 05, loss: -0.46263\n",
      "epoch: 06, loss: -0.46433\n",
      "epoch: 07, loss: -0.46533\n",
      "epoch: 08, loss: -0.46654\n",
      "epoch: 09, loss: -0.46787\n",
      "After Unsqueezing, feature size= torch.Size([450, 1, 384])\n",
      "type(projected_feature) <class 'torch.Tensor'>\n",
      "projected feature shape= torch.Size([450, 384])\n"
     ]
    },
    {
     "name": "stderr",
     "output_type": "stream",
     "text": [
      "  5%|▌         | 54/1000 [21:43<7:21:22, 27.99s/it]"
     ]
    },
    {
     "name": "stdout",
     "output_type": "stream",
     "text": [
      "eigenvalues shape torch.Size([5]) eigenvectors shape torch.Size([5, 450])\n",
      "54 /home/phdcs2/Hard_Disk/Datasets/Deep-Spectral-Segmentation/data/object-segmentation/ECSSD/features/dino_vits16/0055.pth\n",
      "0055\n",
      "Starting Training\n",
      "epoch: 00, loss: -0.57245\n",
      "epoch: 01, loss: -0.59891\n",
      "epoch: 02, loss: -0.61169\n",
      "epoch: 03, loss: -0.62126\n",
      "epoch: 04, loss: -0.63090\n",
      "epoch: 05, loss: -0.63653\n",
      "epoch: 06, loss: -0.64095\n",
      "epoch: 07, loss: -0.64427\n",
      "epoch: 08, loss: -0.64683\n",
      "epoch: 09, loss: -0.64890\n",
      "After Unsqueezing, feature size= torch.Size([450, 1, 384])\n",
      "type(projected_feature) <class 'torch.Tensor'>\n",
      "projected feature shape= torch.Size([450, 384])\n"
     ]
    },
    {
     "name": "stderr",
     "output_type": "stream",
     "text": [
      "  6%|▌         | 55/1000 [22:13<7:29:53, 28.56s/it]"
     ]
    },
    {
     "name": "stdout",
     "output_type": "stream",
     "text": [
      "eigenvalues shape torch.Size([5]) eigenvectors shape torch.Size([5, 450])\n",
      "55 /home/phdcs2/Hard_Disk/Datasets/Deep-Spectral-Segmentation/data/object-segmentation/ECSSD/features/dino_vits16/0056.pth\n",
      "0056\n",
      "Starting Training\n",
      "epoch: 00, loss: -0.39398\n",
      "epoch: 01, loss: -0.39777\n",
      "epoch: 02, loss: -0.40260\n",
      "epoch: 03, loss: -0.40861\n",
      "epoch: 04, loss: -0.41228\n",
      "epoch: 05, loss: -0.41670\n",
      "epoch: 06, loss: -0.42237\n",
      "epoch: 07, loss: -0.42759\n",
      "epoch: 08, loss: -0.43244\n",
      "epoch: 09, loss: -0.43747\n",
      "After Unsqueezing, feature size= torch.Size([400, 1, 384])\n",
      "type(projected_feature) <class 'torch.Tensor'>\n",
      "projected feature shape= torch.Size([400, 384])\n"
     ]
    },
    {
     "name": "stderr",
     "output_type": "stream",
     "text": [
      "  6%|▌         | 56/1000 [22:39<7:16:41, 27.76s/it]"
     ]
    },
    {
     "name": "stdout",
     "output_type": "stream",
     "text": [
      "eigenvalues shape torch.Size([5]) eigenvectors shape torch.Size([5, 400])\n",
      "56 /home/phdcs2/Hard_Disk/Datasets/Deep-Spectral-Segmentation/data/object-segmentation/ECSSD/features/dino_vits16/0057.pth\n",
      "0057\n",
      "Starting Training\n",
      "epoch: 00, loss: -0.41981\n",
      "epoch: 01, loss: -0.44433\n",
      "epoch: 02, loss: -0.45197\n",
      "epoch: 03, loss: -0.45747\n",
      "epoch: 04, loss: -0.45879\n",
      "epoch: 05, loss: -0.45831\n",
      "epoch: 06, loss: -0.45754\n",
      "epoch: 07, loss: -0.45801\n",
      "epoch: 08, loss: -0.45873\n",
      "epoch: 09, loss: -0.45843\n",
      "After Unsqueezing, feature size= torch.Size([400, 1, 384])\n",
      "type(projected_feature) <class 'torch.Tensor'>\n",
      "projected feature shape= torch.Size([400, 384])\n"
     ]
    },
    {
     "name": "stderr",
     "output_type": "stream",
     "text": [
      "  6%|▌         | 57/1000 [23:06<7:12:51, 27.54s/it]"
     ]
    },
    {
     "name": "stdout",
     "output_type": "stream",
     "text": [
      "eigenvalues shape torch.Size([5]) eigenvectors shape torch.Size([5, 400])\n",
      "57 /home/phdcs2/Hard_Disk/Datasets/Deep-Spectral-Segmentation/data/object-segmentation/ECSSD/features/dino_vits16/0058.pth\n",
      "0058\n",
      "Starting Training\n",
      "epoch: 00, loss: -0.40224\n",
      "epoch: 01, loss: -0.40956\n",
      "epoch: 02, loss: -0.40894\n",
      "epoch: 03, loss: -0.40957\n",
      "epoch: 04, loss: -0.40934\n",
      "epoch: 05, loss: -0.41008\n",
      "epoch: 06, loss: -0.41160\n",
      "epoch: 07, loss: -0.41009\n",
      "epoch: 08, loss: -0.41049\n",
      "epoch: 09, loss: -0.41002\n",
      "After Unsqueezing, feature size= torch.Size([425, 1, 384])\n",
      "type(projected_feature) <class 'torch.Tensor'>\n",
      "projected feature shape= torch.Size([425, 384])\n"
     ]
    },
    {
     "name": "stderr",
     "output_type": "stream",
     "text": [
      "  6%|▌         | 58/1000 [23:33<7:10:43, 27.43s/it]"
     ]
    },
    {
     "name": "stdout",
     "output_type": "stream",
     "text": [
      "eigenvalues shape torch.Size([5]) eigenvectors shape torch.Size([5, 425])\n",
      "58 /home/phdcs2/Hard_Disk/Datasets/Deep-Spectral-Segmentation/data/object-segmentation/ECSSD/features/dino_vits16/0059.pth\n",
      "0059\n",
      "Starting Training\n",
      "epoch: 00, loss: -0.38582\n",
      "epoch: 01, loss: -0.39345\n",
      "epoch: 02, loss: -0.39535\n",
      "epoch: 03, loss: -0.39625\n",
      "epoch: 04, loss: -0.39871\n",
      "epoch: 05, loss: -0.40062\n",
      "epoch: 06, loss: -0.40225\n",
      "epoch: 07, loss: -0.40441\n",
      "epoch: 08, loss: -0.40532\n",
      "epoch: 09, loss: -0.40697\n",
      "After Unsqueezing, feature size= torch.Size([450, 1, 384])\n",
      "type(projected_feature) <class 'torch.Tensor'>\n",
      "projected feature shape= torch.Size([450, 384])\n"
     ]
    },
    {
     "name": "stderr",
     "output_type": "stream",
     "text": [
      "  6%|▌         | 59/1000 [24:05<7:27:52, 28.56s/it]"
     ]
    },
    {
     "name": "stdout",
     "output_type": "stream",
     "text": [
      "eigenvalues shape torch.Size([5]) eigenvectors shape torch.Size([5, 450])\n",
      "59 /home/phdcs2/Hard_Disk/Datasets/Deep-Spectral-Segmentation/data/object-segmentation/ECSSD/features/dino_vits16/0060.pth\n",
      "0060\n",
      "Starting Training\n",
      "epoch: 00, loss: -0.63830\n",
      "epoch: 01, loss: -0.69513\n",
      "epoch: 02, loss: -0.69726\n",
      "epoch: 03, loss: -0.69852\n",
      "epoch: 04, loss: -0.69947\n",
      "epoch: 05, loss: -0.70032\n",
      "epoch: 06, loss: -0.70125\n",
      "epoch: 07, loss: -0.70192\n",
      "epoch: 08, loss: -0.70211\n",
      "epoch: 09, loss: -0.70287\n",
      "After Unsqueezing, feature size= torch.Size([400, 1, 384])\n",
      "type(projected_feature) <class 'torch.Tensor'>\n",
      "projected feature shape= torch.Size([400, 384])\n"
     ]
    },
    {
     "name": "stderr",
     "output_type": "stream",
     "text": [
      "  6%|▌         | 60/1000 [24:29<7:06:51, 27.25s/it]"
     ]
    },
    {
     "name": "stdout",
     "output_type": "stream",
     "text": [
      "eigenvalues shape torch.Size([5]) eigenvectors shape torch.Size([5, 400])\n",
      "60 /home/phdcs2/Hard_Disk/Datasets/Deep-Spectral-Segmentation/data/object-segmentation/ECSSD/features/dino_vits16/0061.pth\n",
      "0061\n",
      "Starting Training\n",
      "epoch: 00, loss: -0.43949\n",
      "epoch: 01, loss: -0.44434\n",
      "epoch: 02, loss: -0.44635\n",
      "epoch: 03, loss: -0.44807\n",
      "epoch: 04, loss: -0.44948\n",
      "epoch: 05, loss: -0.45129\n",
      "epoch: 06, loss: -0.45287\n",
      "epoch: 07, loss: -0.45368\n",
      "epoch: 08, loss: -0.45536\n",
      "epoch: 09, loss: -0.45468\n",
      "After Unsqueezing, feature size= torch.Size([425, 1, 384])\n",
      "type(projected_feature) <class 'torch.Tensor'>\n",
      "projected feature shape= torch.Size([425, 384])\n"
     ]
    },
    {
     "name": "stderr",
     "output_type": "stream",
     "text": [
      "  6%|▌         | 61/1000 [24:55<7:01:06, 26.91s/it]"
     ]
    },
    {
     "name": "stdout",
     "output_type": "stream",
     "text": [
      "eigenvalues shape torch.Size([5]) eigenvectors shape torch.Size([5, 425])\n",
      "61 /home/phdcs2/Hard_Disk/Datasets/Deep-Spectral-Segmentation/data/object-segmentation/ECSSD/features/dino_vits16/0062.pth\n",
      "0062\n",
      "Starting Training\n",
      "epoch: 00, loss: -0.38899\n",
      "epoch: 01, loss: -0.39828\n",
      "epoch: 02, loss: -0.39920\n",
      "epoch: 03, loss: -0.40065\n",
      "epoch: 04, loss: -0.40193\n",
      "epoch: 05, loss: -0.40291\n",
      "epoch: 06, loss: -0.40401\n",
      "epoch: 07, loss: -0.40440\n",
      "epoch: 08, loss: -0.40524\n",
      "epoch: 09, loss: -0.40602\n",
      "After Unsqueezing, feature size= torch.Size([425, 1, 384])\n",
      "type(projected_feature) <class 'torch.Tensor'>\n",
      "projected feature shape= torch.Size([425, 384])\n"
     ]
    },
    {
     "name": "stderr",
     "output_type": "stream",
     "text": [
      "  6%|▌         | 62/1000 [25:23<7:07:54, 27.37s/it]"
     ]
    },
    {
     "name": "stdout",
     "output_type": "stream",
     "text": [
      "eigenvalues shape torch.Size([5]) eigenvectors shape torch.Size([5, 425])\n",
      "62 /home/phdcs2/Hard_Disk/Datasets/Deep-Spectral-Segmentation/data/object-segmentation/ECSSD/features/dino_vits16/0063.pth\n",
      "0063\n",
      "Starting Training\n",
      "epoch: 00, loss: -0.37379\n",
      "epoch: 01, loss: -0.38154\n",
      "epoch: 02, loss: -0.38953\n",
      "epoch: 03, loss: -0.39465\n",
      "epoch: 04, loss: -0.39966\n",
      "epoch: 05, loss: -0.40734\n",
      "epoch: 06, loss: -0.41258\n",
      "epoch: 07, loss: -0.41719\n",
      "epoch: 08, loss: -0.42267\n",
      "epoch: 09, loss: -0.42601\n",
      "After Unsqueezing, feature size= torch.Size([400, 1, 384])\n",
      "type(projected_feature) <class 'torch.Tensor'>\n",
      "projected feature shape= torch.Size([400, 384])\n"
     ]
    },
    {
     "name": "stderr",
     "output_type": "stream",
     "text": [
      "  6%|▋         | 63/1000 [25:49<7:01:23, 26.98s/it]"
     ]
    },
    {
     "name": "stdout",
     "output_type": "stream",
     "text": [
      "eigenvalues shape torch.Size([5]) eigenvectors shape torch.Size([5, 400])\n",
      "63 /home/phdcs2/Hard_Disk/Datasets/Deep-Spectral-Segmentation/data/object-segmentation/ECSSD/features/dino_vits16/0064.pth\n",
      "0064\n",
      "Starting Training\n",
      "epoch: 00, loss: -0.41263\n",
      "epoch: 01, loss: -0.42701\n",
      "epoch: 02, loss: -0.43494\n",
      "epoch: 03, loss: -0.44288\n",
      "epoch: 04, loss: -0.44899\n",
      "epoch: 05, loss: -0.45295\n",
      "epoch: 06, loss: -0.45524\n",
      "epoch: 07, loss: -0.45851\n",
      "epoch: 08, loss: -0.46059\n",
      "epoch: 09, loss: -0.46254\n",
      "After Unsqueezing, feature size= torch.Size([400, 1, 384])\n",
      "type(projected_feature) <class 'torch.Tensor'>\n",
      "projected feature shape= torch.Size([400, 384])\n"
     ]
    },
    {
     "name": "stderr",
     "output_type": "stream",
     "text": [
      "  6%|▋         | 64/1000 [26:14<6:49:48, 26.27s/it]"
     ]
    },
    {
     "name": "stdout",
     "output_type": "stream",
     "text": [
      "eigenvalues shape torch.Size([5]) eigenvectors shape torch.Size([5, 400])\n",
      "64 /home/phdcs2/Hard_Disk/Datasets/Deep-Spectral-Segmentation/data/object-segmentation/ECSSD/features/dino_vits16/0065.pth\n",
      "0065\n",
      "Starting Training\n",
      "epoch: 00, loss: -0.36102\n",
      "epoch: 01, loss: -0.35851\n",
      "epoch: 02, loss: -0.36028\n",
      "epoch: 03, loss: -0.36642\n",
      "epoch: 04, loss: -0.37405\n",
      "epoch: 05, loss: -0.37984\n",
      "epoch: 06, loss: -0.38457\n",
      "epoch: 07, loss: -0.38850\n",
      "epoch: 08, loss: -0.39159\n",
      "epoch: 09, loss: -0.39467\n",
      "After Unsqueezing, feature size= torch.Size([450, 1, 384])\n",
      "type(projected_feature) <class 'torch.Tensor'>\n",
      "projected feature shape= torch.Size([450, 384])\n"
     ]
    },
    {
     "name": "stderr",
     "output_type": "stream",
     "text": [
      "  6%|▋         | 65/1000 [26:41<6:51:11, 26.39s/it]"
     ]
    },
    {
     "name": "stdout",
     "output_type": "stream",
     "text": [
      "eigenvalues shape torch.Size([5]) eigenvectors shape torch.Size([5, 450])\n",
      "65 /home/phdcs2/Hard_Disk/Datasets/Deep-Spectral-Segmentation/data/object-segmentation/ECSSD/features/dino_vits16/0066.pth\n",
      "0066\n",
      "Starting Training\n",
      "epoch: 00, loss: -0.37919\n",
      "epoch: 01, loss: -0.38921\n",
      "epoch: 02, loss: -0.39306\n",
      "epoch: 03, loss: -0.39747\n",
      "epoch: 04, loss: -0.40160\n",
      "epoch: 05, loss: -0.40485\n",
      "epoch: 06, loss: -0.40738\n",
      "epoch: 07, loss: -0.41011\n",
      "epoch: 08, loss: -0.41311\n",
      "epoch: 09, loss: -0.41612\n",
      "After Unsqueezing, feature size= torch.Size([400, 1, 384])\n",
      "type(projected_feature) <class 'torch.Tensor'>\n",
      "projected feature shape= torch.Size([400, 384])\n"
     ]
    },
    {
     "name": "stderr",
     "output_type": "stream",
     "text": [
      "  7%|▋         | 66/1000 [27:07<6:52:44, 26.51s/it]"
     ]
    },
    {
     "name": "stdout",
     "output_type": "stream",
     "text": [
      "eigenvalues shape torch.Size([5]) eigenvectors shape torch.Size([5, 400])\n",
      "66 /home/phdcs2/Hard_Disk/Datasets/Deep-Spectral-Segmentation/data/object-segmentation/ECSSD/features/dino_vits16/0067.pth\n",
      "0067\n",
      "Starting Training\n",
      "epoch: 00, loss: -0.40147\n",
      "epoch: 01, loss: -0.40860\n",
      "epoch: 02, loss: -0.40957\n",
      "epoch: 03, loss: -0.41086\n",
      "epoch: 04, loss: -0.41171\n",
      "epoch: 05, loss: -0.41302\n",
      "epoch: 06, loss: -0.41308\n",
      "epoch: 07, loss: -0.41322\n",
      "epoch: 08, loss: -0.41335\n",
      "epoch: 09, loss: -0.41374\n",
      "After Unsqueezing, feature size= torch.Size([350, 1, 384])\n",
      "type(projected_feature) <class 'torch.Tensor'>\n",
      "projected feature shape= torch.Size([350, 384])\n"
     ]
    },
    {
     "name": "stderr",
     "output_type": "stream",
     "text": [
      "  7%|▋         | 67/1000 [27:28<6:24:24, 24.72s/it]"
     ]
    },
    {
     "name": "stdout",
     "output_type": "stream",
     "text": [
      "eigenvalues shape torch.Size([5]) eigenvectors shape torch.Size([5, 350])\n",
      "67 /home/phdcs2/Hard_Disk/Datasets/Deep-Spectral-Segmentation/data/object-segmentation/ECSSD/features/dino_vits16/0068.pth\n",
      "0068\n",
      "Starting Training\n",
      "epoch: 00, loss: -0.40557\n",
      "epoch: 01, loss: -0.41294\n",
      "epoch: 02, loss: -0.41656\n",
      "epoch: 03, loss: -0.41970\n",
      "epoch: 04, loss: -0.42220\n",
      "epoch: 05, loss: -0.42446\n",
      "epoch: 06, loss: -0.42575\n",
      "epoch: 07, loss: -0.42716\n",
      "epoch: 08, loss: -0.42956\n",
      "epoch: 09, loss: -0.42994\n",
      "After Unsqueezing, feature size= torch.Size([525, 1, 384])\n",
      "type(projected_feature) <class 'torch.Tensor'>\n",
      "projected feature shape= torch.Size([525, 384])\n"
     ]
    },
    {
     "name": "stderr",
     "output_type": "stream",
     "text": [
      "  7%|▋         | 68/1000 [28:00<6:59:59, 27.04s/it]"
     ]
    },
    {
     "name": "stdout",
     "output_type": "stream",
     "text": [
      "eigenvalues shape torch.Size([5]) eigenvectors shape torch.Size([5, 525])\n",
      "68 /home/phdcs2/Hard_Disk/Datasets/Deep-Spectral-Segmentation/data/object-segmentation/ECSSD/features/dino_vits16/0069.pth\n",
      "0069\n",
      "Starting Training\n",
      "epoch: 00, loss: -0.40116\n",
      "epoch: 01, loss: -0.41062\n",
      "epoch: 02, loss: -0.41520\n",
      "epoch: 03, loss: -0.41735\n",
      "epoch: 04, loss: -0.41933\n",
      "epoch: 05, loss: -0.42032\n",
      "epoch: 06, loss: -0.41942\n",
      "epoch: 07, loss: -0.41889\n",
      "epoch: 08, loss: -0.41777\n",
      "epoch: 09, loss: -0.41658\n",
      "After Unsqueezing, feature size= torch.Size([425, 1, 384])\n",
      "type(projected_feature) <class 'torch.Tensor'>\n",
      "projected feature shape= torch.Size([425, 384])\n"
     ]
    },
    {
     "name": "stderr",
     "output_type": "stream",
     "text": [
      "  7%|▋         | 69/1000 [28:29<7:07:25, 27.55s/it]"
     ]
    },
    {
     "name": "stdout",
     "output_type": "stream",
     "text": [
      "eigenvalues shape torch.Size([5]) eigenvectors shape torch.Size([5, 425])\n",
      "69 /home/phdcs2/Hard_Disk/Datasets/Deep-Spectral-Segmentation/data/object-segmentation/ECSSD/features/dino_vits16/0070.pth\n",
      "0070\n",
      "Starting Training\n",
      "epoch: 00, loss: -0.35299\n",
      "epoch: 01, loss: -0.36041\n",
      "epoch: 02, loss: -0.37647\n",
      "epoch: 03, loss: -0.39765\n",
      "epoch: 04, loss: -0.41630\n",
      "epoch: 05, loss: -0.43238\n",
      "epoch: 06, loss: -0.44438\n",
      "epoch: 07, loss: -0.45311\n",
      "epoch: 08, loss: -0.45835\n",
      "epoch: 09, loss: -0.46258\n",
      "After Unsqueezing, feature size= torch.Size([500, 1, 384])\n",
      "type(projected_feature) <class 'torch.Tensor'>\n",
      "projected feature shape= torch.Size([500, 384])\n"
     ]
    },
    {
     "name": "stderr",
     "output_type": "stream",
     "text": [
      "  7%|▋         | 70/1000 [29:03<7:33:56, 29.29s/it]"
     ]
    },
    {
     "name": "stdout",
     "output_type": "stream",
     "text": [
      "eigenvalues shape torch.Size([5]) eigenvectors shape torch.Size([5, 500])\n",
      "70 /home/phdcs2/Hard_Disk/Datasets/Deep-Spectral-Segmentation/data/object-segmentation/ECSSD/features/dino_vits16/0071.pth\n",
      "0071\n",
      "Starting Training\n",
      "epoch: 00, loss: -0.43816\n",
      "epoch: 01, loss: -0.45530\n",
      "epoch: 02, loss: -0.46883\n",
      "epoch: 03, loss: -0.47669\n",
      "epoch: 04, loss: -0.48194\n",
      "epoch: 05, loss: -0.48681\n",
      "epoch: 06, loss: -0.48821\n",
      "epoch: 07, loss: -0.49059\n",
      "epoch: 08, loss: -0.49003\n",
      "epoch: 09, loss: -0.49130\n",
      "After Unsqueezing, feature size= torch.Size([450, 1, 384])\n",
      "type(projected_feature) <class 'torch.Tensor'>\n",
      "projected feature shape= torch.Size([450, 384])\n"
     ]
    },
    {
     "name": "stderr",
     "output_type": "stream",
     "text": [
      "  7%|▋         | 71/1000 [29:29<7:21:20, 28.50s/it]"
     ]
    },
    {
     "name": "stdout",
     "output_type": "stream",
     "text": [
      "eigenvalues shape torch.Size([5]) eigenvectors shape torch.Size([5, 450])\n",
      "71 /home/phdcs2/Hard_Disk/Datasets/Deep-Spectral-Segmentation/data/object-segmentation/ECSSD/features/dino_vits16/0072.pth\n",
      "0072\n",
      "Starting Training\n",
      "epoch: 00, loss: -0.36977\n",
      "epoch: 01, loss: -0.37803\n",
      "epoch: 02, loss: -0.38019\n",
      "epoch: 03, loss: -0.38053\n",
      "epoch: 04, loss: -0.38247\n",
      "epoch: 05, loss: -0.38251\n",
      "epoch: 06, loss: -0.38495\n",
      "epoch: 07, loss: -0.38790\n",
      "epoch: 08, loss: -0.39120\n",
      "epoch: 09, loss: -0.39604\n",
      "After Unsqueezing, feature size= torch.Size([400, 1, 384])\n",
      "type(projected_feature) <class 'torch.Tensor'>\n",
      "projected feature shape= torch.Size([400, 384])\n"
     ]
    },
    {
     "name": "stderr",
     "output_type": "stream",
     "text": [
      "  7%|▋         | 72/1000 [29:52<6:52:36, 26.68s/it]"
     ]
    },
    {
     "name": "stdout",
     "output_type": "stream",
     "text": [
      "eigenvalues shape torch.Size([5]) eigenvectors shape torch.Size([5, 400])\n",
      "72 /home/phdcs2/Hard_Disk/Datasets/Deep-Spectral-Segmentation/data/object-segmentation/ECSSD/features/dino_vits16/0073.pth\n",
      "0073\n",
      "Starting Training\n",
      "epoch: 00, loss: -0.41097\n",
      "epoch: 01, loss: -0.41904\n",
      "epoch: 02, loss: -0.42087\n",
      "epoch: 03, loss: -0.42227\n",
      "epoch: 04, loss: -0.42051\n",
      "epoch: 05, loss: -0.42008\n",
      "epoch: 06, loss: -0.41938\n",
      "epoch: 07, loss: -0.41939\n",
      "epoch: 08, loss: -0.42127\n",
      "epoch: 09, loss: -0.42123\n",
      "After Unsqueezing, feature size= torch.Size([450, 1, 384])\n",
      "type(projected_feature) <class 'torch.Tensor'>\n",
      "projected feature shape= torch.Size([450, 384])\n"
     ]
    },
    {
     "name": "stderr",
     "output_type": "stream",
     "text": [
      "  7%|▋         | 73/1000 [30:21<7:04:51, 27.50s/it]"
     ]
    },
    {
     "name": "stdout",
     "output_type": "stream",
     "text": [
      "eigenvalues shape torch.Size([5]) eigenvectors shape torch.Size([5, 450])\n",
      "73 /home/phdcs2/Hard_Disk/Datasets/Deep-Spectral-Segmentation/data/object-segmentation/ECSSD/features/dino_vits16/0074.pth\n",
      "0074\n",
      "Starting Training\n",
      "epoch: 00, loss: -0.36250\n",
      "epoch: 01, loss: -0.36798\n",
      "epoch: 02, loss: -0.37333\n",
      "epoch: 03, loss: -0.37730\n",
      "epoch: 04, loss: -0.38305\n",
      "epoch: 05, loss: -0.38717\n",
      "epoch: 06, loss: -0.39206\n",
      "epoch: 07, loss: -0.39558\n",
      "epoch: 08, loss: -0.39921\n",
      "epoch: 09, loss: -0.40223\n",
      "After Unsqueezing, feature size= torch.Size([450, 1, 384])\n",
      "type(projected_feature) <class 'torch.Tensor'>\n",
      "projected feature shape= torch.Size([450, 384])\n"
     ]
    },
    {
     "name": "stderr",
     "output_type": "stream",
     "text": [
      "  7%|▋         | 74/1000 [30:52<7:21:03, 28.58s/it]"
     ]
    },
    {
     "name": "stdout",
     "output_type": "stream",
     "text": [
      "eigenvalues shape torch.Size([5]) eigenvectors shape torch.Size([5, 450])\n",
      "74 /home/phdcs2/Hard_Disk/Datasets/Deep-Spectral-Segmentation/data/object-segmentation/ECSSD/features/dino_vits16/0075.pth\n",
      "0075\n",
      "Starting Training\n",
      "epoch: 00, loss: -0.38770\n",
      "epoch: 01, loss: -0.39556\n",
      "epoch: 02, loss: -0.39875\n",
      "epoch: 03, loss: -0.40080\n",
      "epoch: 04, loss: -0.40212\n",
      "epoch: 05, loss: -0.40270\n",
      "epoch: 06, loss: -0.40315\n",
      "epoch: 07, loss: -0.40512\n",
      "epoch: 08, loss: -0.40730\n",
      "epoch: 09, loss: -0.40873\n",
      "After Unsqueezing, feature size= torch.Size([450, 1, 384])\n",
      "type(projected_feature) <class 'torch.Tensor'>\n",
      "projected feature shape= torch.Size([450, 384])\n"
     ]
    },
    {
     "name": "stderr",
     "output_type": "stream",
     "text": [
      "  8%|▊         | 75/1000 [31:25<7:40:12, 29.85s/it]"
     ]
    },
    {
     "name": "stdout",
     "output_type": "stream",
     "text": [
      "eigenvalues shape torch.Size([5]) eigenvectors shape torch.Size([5, 450])\n",
      "75 /home/phdcs2/Hard_Disk/Datasets/Deep-Spectral-Segmentation/data/object-segmentation/ECSSD/features/dino_vits16/0076.pth\n",
      "0076\n",
      "Starting Training\n",
      "epoch: 00, loss: -0.35156\n",
      "epoch: 01, loss: -0.36014\n",
      "epoch: 02, loss: -0.37168\n",
      "epoch: 03, loss: -0.38546\n",
      "epoch: 04, loss: -0.39708\n",
      "epoch: 05, loss: -0.41062\n",
      "epoch: 06, loss: -0.42408\n",
      "epoch: 07, loss: -0.43517\n",
      "epoch: 08, loss: -0.44192\n",
      "epoch: 09, loss: -0.44664\n",
      "After Unsqueezing, feature size= torch.Size([400, 1, 384])\n",
      "type(projected_feature) <class 'torch.Tensor'>\n",
      "projected feature shape= torch.Size([400, 384])\n"
     ]
    },
    {
     "name": "stderr",
     "output_type": "stream",
     "text": [
      "  8%|▊         | 76/1000 [31:55<7:39:15, 29.82s/it]"
     ]
    },
    {
     "name": "stdout",
     "output_type": "stream",
     "text": [
      "eigenvalues shape torch.Size([5]) eigenvectors shape torch.Size([5, 400])\n",
      "76 /home/phdcs2/Hard_Disk/Datasets/Deep-Spectral-Segmentation/data/object-segmentation/ECSSD/features/dino_vits16/0077.pth\n",
      "0077\n",
      "Starting Training\n",
      "epoch: 00, loss: -0.37891\n",
      "epoch: 01, loss: -0.39090\n",
      "epoch: 02, loss: -0.39682\n",
      "epoch: 03, loss: -0.39982\n",
      "epoch: 04, loss: -0.40371\n",
      "epoch: 05, loss: -0.40748\n",
      "epoch: 06, loss: -0.40935\n",
      "epoch: 07, loss: -0.41230\n",
      "epoch: 08, loss: -0.41462\n",
      "epoch: 09, loss: -0.41624\n",
      "After Unsqueezing, feature size= torch.Size([450, 1, 384])\n",
      "type(projected_feature) <class 'torch.Tensor'>\n",
      "projected feature shape= torch.Size([450, 384])\n"
     ]
    },
    {
     "name": "stderr",
     "output_type": "stream",
     "text": [
      "  8%|▊         | 77/1000 [32:23<7:33:23, 29.47s/it]"
     ]
    },
    {
     "name": "stdout",
     "output_type": "stream",
     "text": [
      "eigenvalues shape torch.Size([5]) eigenvectors shape torch.Size([5, 450])\n",
      "77 /home/phdcs2/Hard_Disk/Datasets/Deep-Spectral-Segmentation/data/object-segmentation/ECSSD/features/dino_vits16/0078.pth\n",
      "0078\n",
      "Starting Training\n",
      "epoch: 00, loss: -0.36686\n",
      "epoch: 01, loss: -0.36332\n",
      "epoch: 02, loss: -0.36271\n",
      "epoch: 03, loss: -0.36679\n",
      "epoch: 04, loss: -0.37411\n",
      "epoch: 05, loss: -0.38271\n",
      "epoch: 06, loss: -0.39156\n",
      "epoch: 07, loss: -0.39838\n",
      "epoch: 08, loss: -0.40611\n",
      "epoch: 09, loss: -0.41314\n",
      "After Unsqueezing, feature size= torch.Size([400, 1, 384])\n",
      "type(projected_feature) <class 'torch.Tensor'>\n",
      "projected feature shape= torch.Size([400, 384])\n"
     ]
    },
    {
     "name": "stderr",
     "output_type": "stream",
     "text": [
      "  8%|▊         | 78/1000 [32:52<7:30:47, 29.34s/it]"
     ]
    },
    {
     "name": "stdout",
     "output_type": "stream",
     "text": [
      "eigenvalues shape torch.Size([5]) eigenvectors shape torch.Size([5, 400])\n",
      "78 /home/phdcs2/Hard_Disk/Datasets/Deep-Spectral-Segmentation/data/object-segmentation/ECSSD/features/dino_vits16/0079.pth\n",
      "0079\n",
      "Starting Training\n",
      "epoch: 00, loss: -0.60881\n",
      "epoch: 01, loss: -0.96026\n",
      "epoch: 02, loss: -0.98493\n",
      "epoch: 03, loss: -0.98523\n",
      "epoch: 04, loss: -0.98508\n",
      "epoch: 05, loss: -0.98506\n",
      "epoch: 06, loss: -0.98507\n",
      "epoch: 07, loss: -0.98501\n",
      "epoch: 08, loss: -0.98532\n",
      "epoch: 09, loss: -0.98524\n",
      "After Unsqueezing, feature size= torch.Size([525, 1, 384])\n",
      "type(projected_feature) <class 'torch.Tensor'>\n",
      "projected feature shape= torch.Size([525, 384])\n"
     ]
    },
    {
     "name": "stderr",
     "output_type": "stream",
     "text": [
      "  8%|▊         | 79/1000 [33:28<8:01:25, 31.36s/it]"
     ]
    },
    {
     "name": "stdout",
     "output_type": "stream",
     "text": [
      "eigenvalues shape torch.Size([5]) eigenvectors shape torch.Size([5, 525])\n",
      "79 /home/phdcs2/Hard_Disk/Datasets/Deep-Spectral-Segmentation/data/object-segmentation/ECSSD/features/dino_vits16/0080.pth\n",
      "0080\n",
      "Starting Training\n",
      "epoch: 00, loss: -0.38636\n",
      "epoch: 01, loss: -0.39452\n",
      "epoch: 02, loss: -0.39643\n",
      "epoch: 03, loss: -0.39645\n",
      "epoch: 04, loss: -0.39742\n",
      "epoch: 05, loss: -0.39577\n",
      "epoch: 06, loss: -0.39554\n",
      "epoch: 07, loss: -0.39432\n",
      "epoch: 08, loss: -0.39466\n",
      "epoch: 09, loss: -0.39480\n",
      "After Unsqueezing, feature size= torch.Size([450, 1, 384])\n",
      "type(projected_feature) <class 'torch.Tensor'>\n",
      "projected feature shape= torch.Size([450, 384])\n"
     ]
    },
    {
     "name": "stderr",
     "output_type": "stream",
     "text": [
      "  8%|▊         | 80/1000 [34:04<8:22:06, 32.75s/it]"
     ]
    },
    {
     "name": "stdout",
     "output_type": "stream",
     "text": [
      "eigenvalues shape torch.Size([5]) eigenvectors shape torch.Size([5, 450])\n",
      "80 /home/phdcs2/Hard_Disk/Datasets/Deep-Spectral-Segmentation/data/object-segmentation/ECSSD/features/dino_vits16/0081.pth\n",
      "0081\n",
      "Starting Training\n",
      "epoch: 00, loss: -0.40677\n",
      "epoch: 01, loss: -0.42754\n",
      "epoch: 02, loss: -0.42962\n",
      "epoch: 03, loss: -0.42946\n",
      "epoch: 04, loss: -0.43021\n",
      "epoch: 05, loss: -0.43062\n",
      "epoch: 06, loss: -0.43004\n",
      "epoch: 07, loss: -0.43132\n",
      "epoch: 08, loss: -0.43081\n",
      "epoch: 09, loss: -0.43106\n",
      "After Unsqueezing, feature size= torch.Size([450, 1, 384])\n",
      "type(projected_feature) <class 'torch.Tensor'>\n",
      "projected feature shape= torch.Size([450, 384])\n"
     ]
    },
    {
     "name": "stderr",
     "output_type": "stream",
     "text": [
      "  8%|▊         | 81/1000 [34:33<8:01:30, 31.44s/it]"
     ]
    },
    {
     "name": "stdout",
     "output_type": "stream",
     "text": [
      "eigenvalues shape torch.Size([5]) eigenvectors shape torch.Size([5, 450])\n",
      "81 /home/phdcs2/Hard_Disk/Datasets/Deep-Spectral-Segmentation/data/object-segmentation/ECSSD/features/dino_vits16/0082.pth\n",
      "0082\n",
      "Starting Training\n",
      "epoch: 00, loss: -0.40183\n",
      "epoch: 01, loss: -0.42847\n",
      "epoch: 02, loss: -0.43479\n",
      "epoch: 03, loss: -0.43926\n",
      "epoch: 04, loss: -0.44141\n",
      "epoch: 05, loss: -0.44404\n",
      "epoch: 06, loss: -0.44641\n",
      "epoch: 08, loss: -0.45020\n",
      "epoch: 09, loss: -0.45086\n",
      "After Unsqueezing, feature size= torch.Size([450, 1, 384])\n",
      "type(projected_feature) <class 'torch.Tensor'>\n",
      "projected feature shape= torch.Size([450, 384])\n"
     ]
    },
    {
     "name": "stderr",
     "output_type": "stream",
     "text": [
      "  8%|▊         | 82/1000 [35:03<7:55:21, 31.07s/it]"
     ]
    },
    {
     "name": "stdout",
     "output_type": "stream",
     "text": [
      "eigenvalues shape torch.Size([5]) eigenvectors shape torch.Size([5, 450])\n",
      "82 /home/phdcs2/Hard_Disk/Datasets/Deep-Spectral-Segmentation/data/object-segmentation/ECSSD/features/dino_vits16/0083.pth\n",
      "0083\n",
      "Starting Training\n",
      "epoch: 00, loss: -0.45015\n",
      "epoch: 01, loss: -0.46409\n",
      "epoch: 02, loss: -0.46525\n",
      "epoch: 03, loss: -0.46705\n",
      "epoch: 04, loss: -0.46764\n",
      "epoch: 05, loss: -0.46751\n",
      "epoch: 06, loss: -0.46726\n",
      "epoch: 07, loss: -0.46742\n",
      "epoch: 08, loss: -0.46773\n",
      "epoch: 09, loss: -0.46834\n",
      "After Unsqueezing, feature size= torch.Size([450, 1, 384])\n",
      "type(projected_feature) <class 'torch.Tensor'>\n",
      "projected feature shape= torch.Size([450, 384])\n"
     ]
    },
    {
     "name": "stderr",
     "output_type": "stream",
     "text": [
      "  8%|▊         | 83/1000 [35:32<7:43:38, 30.34s/it]"
     ]
    },
    {
     "name": "stdout",
     "output_type": "stream",
     "text": [
      "eigenvalues shape torch.Size([5]) eigenvectors shape torch.Size([5, 450])\n",
      "83 /home/phdcs2/Hard_Disk/Datasets/Deep-Spectral-Segmentation/data/object-segmentation/ECSSD/features/dino_vits16/0084.pth\n",
      "0084\n",
      "Starting Training\n",
      "epoch: 00, loss: -0.37743\n",
      "epoch: 01, loss: -0.37996\n",
      "epoch: 02, loss: -0.38020\n",
      "epoch: 03, loss: -0.37961\n",
      "epoch: 04, loss: -0.37863\n",
      "epoch: 05, loss: -0.37871\n",
      "epoch: 06, loss: -0.37760\n",
      "epoch: 07, loss: -0.37740\n",
      "epoch: 08, loss: -0.37695\n",
      "epoch: 09, loss: -0.37561\n",
      "After Unsqueezing, feature size= torch.Size([450, 1, 384])\n",
      "type(projected_feature) <class 'torch.Tensor'>\n",
      "projected feature shape= torch.Size([450, 384])\n"
     ]
    },
    {
     "name": "stderr",
     "output_type": "stream",
     "text": [
      "  8%|▊         | 84/1000 [35:59<7:29:52, 29.47s/it]"
     ]
    },
    {
     "name": "stdout",
     "output_type": "stream",
     "text": [
      "eigenvalues shape torch.Size([5]) eigenvectors shape torch.Size([5, 450])\n",
      "84 /home/phdcs2/Hard_Disk/Datasets/Deep-Spectral-Segmentation/data/object-segmentation/ECSSD/features/dino_vits16/0085.pth\n",
      "0085\n",
      "Starting Training\n",
      "epoch: 00, loss: -0.65730\n",
      "epoch: 01, loss: -0.69898\n",
      "epoch: 02, loss: -0.70055\n",
      "epoch: 03, loss: -0.70177\n",
      "epoch: 04, loss: -0.70245\n",
      "epoch: 05, loss: -0.70320\n",
      "epoch: 06, loss: -0.70370\n",
      "epoch: 07, loss: -0.70390\n",
      "epoch: 08, loss: -0.70420\n",
      "epoch: 09, loss: -0.70478\n",
      "After Unsqueezing, feature size= torch.Size([450, 1, 384])\n",
      "type(projected_feature) <class 'torch.Tensor'>\n",
      "projected feature shape= torch.Size([450, 384])\n"
     ]
    },
    {
     "name": "stderr",
     "output_type": "stream",
     "text": [
      "  8%|▊         | 85/1000 [36:26<7:15:26, 28.55s/it]"
     ]
    },
    {
     "name": "stdout",
     "output_type": "stream",
     "text": [
      "eigenvalues shape torch.Size([5]) eigenvectors shape torch.Size([5, 450])\n",
      "85 /home/phdcs2/Hard_Disk/Datasets/Deep-Spectral-Segmentation/data/object-segmentation/ECSSD/features/dino_vits16/0086.pth\n",
      "0086\n",
      "Starting Training\n",
      "epoch: 00, loss: -0.35772\n",
      "epoch: 01, loss: -0.36134\n",
      "epoch: 02, loss: -0.36162\n",
      "epoch: 03, loss: -0.36270\n",
      "epoch: 04, loss: -0.36430\n",
      "epoch: 05, loss: -0.36555\n",
      "epoch: 06, loss: -0.36750\n",
      "epoch: 07, loss: -0.36805\n",
      "epoch: 08, loss: -0.36832\n",
      "epoch: 09, loss: -0.36876\n",
      "After Unsqueezing, feature size= torch.Size([450, 1, 384])\n",
      "type(projected_feature) <class 'torch.Tensor'>\n",
      "projected feature shape= torch.Size([450, 384])\n"
     ]
    },
    {
     "name": "stderr",
     "output_type": "stream",
     "text": [
      "  9%|▊         | 86/1000 [36:55<7:19:18, 28.84s/it]"
     ]
    },
    {
     "name": "stdout",
     "output_type": "stream",
     "text": [
      "eigenvalues shape torch.Size([5]) eigenvectors shape torch.Size([5, 450])\n",
      "86 /home/phdcs2/Hard_Disk/Datasets/Deep-Spectral-Segmentation/data/object-segmentation/ECSSD/features/dino_vits16/0087.pth\n",
      "0087\n",
      "Starting Training\n",
      "epoch: 00, loss: -0.37944\n",
      "epoch: 01, loss: -0.39364\n",
      "epoch: 02, loss: -0.40158\n",
      "epoch: 03, loss: -0.40488\n",
      "epoch: 04, loss: -0.41385\n",
      "epoch: 05, loss: -0.41901\n",
      "epoch: 06, loss: -0.42634\n",
      "epoch: 07, loss: -0.43181\n",
      "epoch: 08, loss: -0.43636\n",
      "epoch: 09, loss: -0.44146\n",
      "After Unsqueezing, feature size= torch.Size([450, 1, 384])\n",
      "type(projected_feature) <class 'torch.Tensor'>\n",
      "projected feature shape= torch.Size([450, 384])\n"
     ]
    },
    {
     "name": "stderr",
     "output_type": "stream",
     "text": [
      "  9%|▊         | 87/1000 [37:24<7:17:29, 28.75s/it]"
     ]
    },
    {
     "name": "stdout",
     "output_type": "stream",
     "text": [
      "eigenvalues shape torch.Size([5]) eigenvectors shape torch.Size([5, 450])\n",
      "87 /home/phdcs2/Hard_Disk/Datasets/Deep-Spectral-Segmentation/data/object-segmentation/ECSSD/features/dino_vits16/0088.pth\n",
      "0088\n",
      "Starting Training\n",
      "epoch: 00, loss: -0.40381\n",
      "epoch: 01, loss: -0.40627\n",
      "epoch: 02, loss: -0.40167\n",
      "epoch: 03, loss: -0.39808\n",
      "epoch: 04, loss: -0.39845\n",
      "epoch: 05, loss: -0.39861\n",
      "epoch: 06, loss: -0.39873\n",
      "epoch: 07, loss: -0.39929\n",
      "epoch: 08, loss: -0.40005\n",
      "epoch: 09, loss: -0.40138\n",
      "After Unsqueezing, feature size= torch.Size([450, 1, 384])\n",
      "type(projected_feature) <class 'torch.Tensor'>\n",
      "projected feature shape= torch.Size([450, 384])\n"
     ]
    },
    {
     "name": "stderr",
     "output_type": "stream",
     "text": [
      "  9%|▉         | 88/1000 [37:50<7:04:40, 27.94s/it]"
     ]
    },
    {
     "name": "stdout",
     "output_type": "stream",
     "text": [
      "eigenvalues shape torch.Size([5]) eigenvectors shape torch.Size([5, 450])\n",
      "88 /home/phdcs2/Hard_Disk/Datasets/Deep-Spectral-Segmentation/data/object-segmentation/ECSSD/features/dino_vits16/0089.pth\n",
      "0089\n",
      "Starting Training\n",
      "epoch: 00, loss: -0.40133\n",
      "epoch: 01, loss: -0.40348\n",
      "epoch: 02, loss: -0.40509\n",
      "epoch: 03, loss: -0.40550\n",
      "epoch: 04, loss: -0.40585\n",
      "epoch: 05, loss: -0.40629\n",
      "epoch: 06, loss: -0.40580\n",
      "epoch: 07, loss: -0.40553\n",
      "epoch: 08, loss: -0.40577\n",
      "epoch: 09, loss: -0.40697\n",
      "After Unsqueezing, feature size= torch.Size([400, 1, 384])\n",
      "type(projected_feature) <class 'torch.Tensor'>\n",
      "projected feature shape= torch.Size([400, 384])\n"
     ]
    },
    {
     "name": "stderr",
     "output_type": "stream",
     "text": [
      "  9%|▉         | 89/1000 [38:14<6:45:47, 26.73s/it]"
     ]
    },
    {
     "name": "stdout",
     "output_type": "stream",
     "text": [
      "eigenvalues shape torch.Size([5]) eigenvectors shape torch.Size([5, 400])\n",
      "89 /home/phdcs2/Hard_Disk/Datasets/Deep-Spectral-Segmentation/data/object-segmentation/ECSSD/features/dino_vits16/0090.pth\n",
      "0090\n",
      "Starting Training\n",
      "epoch: 00, loss: -0.46065\n",
      "epoch: 01, loss: -0.47329\n",
      "epoch: 02, loss: -0.47773\n",
      "epoch: 03, loss: -0.48204\n",
      "epoch: 04, loss: -0.48666\n",
      "epoch: 05, loss: -0.49058\n",
      "epoch: 06, loss: -0.49461\n",
      "epoch: 07, loss: -0.49893\n",
      "epoch: 08, loss: -0.50354\n",
      "epoch: 09, loss: -0.50740\n",
      "After Unsqueezing, feature size= torch.Size([400, 1, 384])\n",
      "type(projected_feature) <class 'torch.Tensor'>\n",
      "projected feature shape= torch.Size([400, 384])\n"
     ]
    },
    {
     "name": "stderr",
     "output_type": "stream",
     "text": [
      "  9%|▉         | 90/1000 [38:39<6:41:06, 26.45s/it]"
     ]
    },
    {
     "name": "stdout",
     "output_type": "stream",
     "text": [
      "eigenvalues shape torch.Size([5]) eigenvectors shape torch.Size([5, 400])\n",
      "90 /home/phdcs2/Hard_Disk/Datasets/Deep-Spectral-Segmentation/data/object-segmentation/ECSSD/features/dino_vits16/0091.pth\n",
      "0091\n",
      "Starting Training\n",
      "epoch: 00, loss: -0.40970\n",
      "epoch: 01, loss: -0.42558\n",
      "epoch: 02, loss: -0.42860\n",
      "epoch: 03, loss: -0.42845\n",
      "epoch: 04, loss: -0.42848\n",
      "epoch: 05, loss: -0.42842\n",
      "epoch: 06, loss: -0.42905\n",
      "epoch: 07, loss: -0.42923\n",
      "epoch: 08, loss: -0.42917\n",
      "epoch: 09, loss: -0.43099\n",
      "After Unsqueezing, feature size= torch.Size([400, 1, 384])\n",
      "type(projected_feature) <class 'torch.Tensor'>\n",
      "projected feature shape= torch.Size([400, 384])\n"
     ]
    },
    {
     "name": "stderr",
     "output_type": "stream",
     "text": [
      "  9%|▉         | 91/1000 [39:03<6:26:42, 25.53s/it]"
     ]
    },
    {
     "name": "stdout",
     "output_type": "stream",
     "text": [
      "eigenvalues shape torch.Size([5]) eigenvectors shape torch.Size([5, 400])\n",
      "91 /home/phdcs2/Hard_Disk/Datasets/Deep-Spectral-Segmentation/data/object-segmentation/ECSSD/features/dino_vits16/0092.pth\n",
      "0092\n",
      "Starting Training\n",
      "epoch: 00, loss: -0.37816\n",
      "epoch: 01, loss: -0.38566\n",
      "epoch: 02, loss: -0.38823\n",
      "epoch: 03, loss: -0.39362\n",
      "epoch: 04, loss: -0.40045\n",
      "epoch: 05, loss: -0.40656\n",
      "epoch: 06, loss: -0.41245\n",
      "epoch: 07, loss: -0.41652\n",
      "epoch: 08, loss: -0.42082\n",
      "epoch: 09, loss: -0.42483\n",
      "After Unsqueezing, feature size= torch.Size([400, 1, 384])\n",
      "type(projected_feature) <class 'torch.Tensor'>\n",
      "projected feature shape= torch.Size([400, 384])\n"
     ]
    },
    {
     "name": "stderr",
     "output_type": "stream",
     "text": [
      "  9%|▉         | 92/1000 [39:27<6:19:53, 25.10s/it]"
     ]
    },
    {
     "name": "stdout",
     "output_type": "stream",
     "text": [
      "eigenvalues shape torch.Size([5]) eigenvectors shape torch.Size([5, 400])\n",
      "92 /home/phdcs2/Hard_Disk/Datasets/Deep-Spectral-Segmentation/data/object-segmentation/ECSSD/features/dino_vits16/0093.pth\n",
      "0093\n",
      "Starting Training\n",
      "epoch: 00, loss: -0.41426\n",
      "epoch: 01, loss: -0.42534\n",
      "epoch: 02, loss: -0.42711\n",
      "epoch: 03, loss: -0.42981\n",
      "epoch: 04, loss: -0.43151\n",
      "epoch: 05, loss: -0.43287\n",
      "epoch: 06, loss: -0.43429\n",
      "epoch: 07, loss: -0.43582\n",
      "epoch: 08, loss: -0.43725\n",
      "epoch: 09, loss: -0.43902\n",
      "After Unsqueezing, feature size= torch.Size([400, 1, 384])\n",
      "type(projected_feature) <class 'torch.Tensor'>\n",
      "projected feature shape= torch.Size([400, 384])\n"
     ]
    },
    {
     "name": "stderr",
     "output_type": "stream",
     "text": [
      "  9%|▉         | 93/1000 [39:48<6:02:54, 24.01s/it]"
     ]
    },
    {
     "name": "stdout",
     "output_type": "stream",
     "text": [
      "eigenvalues shape torch.Size([5]) eigenvectors shape torch.Size([5, 400])\n",
      "93 /home/phdcs2/Hard_Disk/Datasets/Deep-Spectral-Segmentation/data/object-segmentation/ECSSD/features/dino_vits16/0094.pth\n",
      "0094\n",
      "Starting Training\n",
      "epoch: 00, loss: -0.39740\n",
      "epoch: 01, loss: -0.40566\n",
      "epoch: 02, loss: -0.40729\n",
      "epoch: 03, loss: -0.40666\n",
      "epoch: 04, loss: -0.40677\n",
      "epoch: 05, loss: -0.40572\n",
      "epoch: 06, loss: -0.40533\n",
      "epoch: 07, loss: -0.40382\n",
      "epoch: 08, loss: -0.40349\n",
      "epoch: 09, loss: -0.40211\n",
      "After Unsqueezing, feature size= torch.Size([400, 1, 384])\n",
      "type(projected_feature) <class 'torch.Tensor'>\n",
      "projected feature shape= torch.Size([400, 384])\n"
     ]
    },
    {
     "name": "stderr",
     "output_type": "stream",
     "text": [
      "  9%|▉         | 94/1000 [40:12<6:01:38, 23.95s/it]"
     ]
    },
    {
     "name": "stdout",
     "output_type": "stream",
     "text": [
      "eigenvalues shape torch.Size([5]) eigenvectors shape torch.Size([5, 400])\n",
      "94 /home/phdcs2/Hard_Disk/Datasets/Deep-Spectral-Segmentation/data/object-segmentation/ECSSD/features/dino_vits16/0095.pth\n",
      "0095\n",
      "Starting Training\n",
      "epoch: 00, loss: -0.60704\n",
      "epoch: 01, loss: -0.65722\n",
      "epoch: 02, loss: -0.65998\n",
      "epoch: 03, loss: -0.66133\n",
      "epoch: 04, loss: -0.66277\n",
      "epoch: 05, loss: -0.66340\n",
      "epoch: 06, loss: -0.66452\n",
      "epoch: 07, loss: -0.66492\n",
      "epoch: 08, loss: -0.66566\n",
      "epoch: 09, loss: -0.66616\n",
      "After Unsqueezing, feature size= torch.Size([400, 1, 384])\n",
      "type(projected_feature) <class 'torch.Tensor'>\n",
      "projected feature shape= torch.Size([400, 384])\n"
     ]
    },
    {
     "name": "stderr",
     "output_type": "stream",
     "text": [
      " 10%|▉         | 95/1000 [40:35<5:54:30, 23.50s/it]"
     ]
    },
    {
     "name": "stdout",
     "output_type": "stream",
     "text": [
      "eigenvalues shape torch.Size([5]) eigenvectors shape torch.Size([5, 400])\n",
      "95 /home/phdcs2/Hard_Disk/Datasets/Deep-Spectral-Segmentation/data/object-segmentation/ECSSD/features/dino_vits16/0096.pth\n",
      "0096\n",
      "Starting Training\n",
      "epoch: 00, loss: -0.63241\n",
      "epoch: 01, loss: -0.67877\n",
      "epoch: 02, loss: -0.68070\n",
      "epoch: 03, loss: -0.68199\n",
      "epoch: 04, loss: -0.68320\n",
      "epoch: 05, loss: -0.68379\n",
      "epoch: 06, loss: -0.68452\n",
      "epoch: 07, loss: -0.68541\n",
      "epoch: 08, loss: -0.68598\n",
      "epoch: 09, loss: -0.68650\n",
      "After Unsqueezing, feature size= torch.Size([400, 1, 384])\n",
      "type(projected_feature) <class 'torch.Tensor'>\n",
      "projected feature shape= torch.Size([400, 384])\n"
     ]
    },
    {
     "name": "stderr",
     "output_type": "stream",
     "text": [
      " 10%|▉         | 96/1000 [40:59<5:59:54, 23.89s/it]"
     ]
    },
    {
     "name": "stdout",
     "output_type": "stream",
     "text": [
      "eigenvalues shape torch.Size([5]) eigenvectors shape torch.Size([5, 400])\n",
      "96 /home/phdcs2/Hard_Disk/Datasets/Deep-Spectral-Segmentation/data/object-segmentation/ECSSD/features/dino_vits16/0097.pth\n",
      "0097\n",
      "Starting Training\n",
      "epoch: 00, loss: -0.41810\n",
      "epoch: 01, loss: -0.43757\n",
      "epoch: 02, loss: -0.44408\n",
      "epoch: 03, loss: -0.44846\n",
      "epoch: 04, loss: -0.44724\n",
      "epoch: 05, loss: -0.44428\n",
      "epoch: 06, loss: -0.44178\n",
      "epoch: 07, loss: -0.44053\n",
      "epoch: 08, loss: -0.43901\n",
      "epoch: 09, loss: -0.43785\n",
      "After Unsqueezing, feature size= torch.Size([400, 1, 384])\n",
      "type(projected_feature) <class 'torch.Tensor'>\n",
      "projected feature shape= torch.Size([400, 384])\n"
     ]
    },
    {
     "name": "stderr",
     "output_type": "stream",
     "text": [
      " 10%|▉         | 97/1000 [41:21<5:50:11, 23.27s/it]"
     ]
    },
    {
     "name": "stdout",
     "output_type": "stream",
     "text": [
      "eigenvalues shape torch.Size([5]) eigenvectors shape torch.Size([5, 400])\n",
      "97 /home/phdcs2/Hard_Disk/Datasets/Deep-Spectral-Segmentation/data/object-segmentation/ECSSD/features/dino_vits16/0098.pth\n",
      "0098\n",
      "Starting Training\n",
      "epoch: 00, loss: -0.42394\n",
      "epoch: 01, loss: -0.43835\n",
      "epoch: 02, loss: -0.43970\n",
      "epoch: 03, loss: -0.44094\n",
      "epoch: 04, loss: -0.44052\n",
      "epoch: 05, loss: -0.44206\n",
      "epoch: 06, loss: -0.44314\n",
      "epoch: 07, loss: -0.44252\n",
      "epoch: 08, loss: -0.44253\n",
      "epoch: 09, loss: -0.44280\n",
      "After Unsqueezing, feature size= torch.Size([400, 1, 384])\n",
      "type(projected_feature) <class 'torch.Tensor'>\n",
      "projected feature shape= torch.Size([400, 384])\n"
     ]
    },
    {
     "name": "stderr",
     "output_type": "stream",
     "text": [
      " 10%|▉         | 98/1000 [41:44<5:45:54, 23.01s/it]"
     ]
    },
    {
     "name": "stdout",
     "output_type": "stream",
     "text": [
      "eigenvalues shape torch.Size([5]) eigenvectors shape torch.Size([5, 400])\n",
      "98 /home/phdcs2/Hard_Disk/Datasets/Deep-Spectral-Segmentation/data/object-segmentation/ECSSD/features/dino_vits16/0099.pth\n",
      "0099\n",
      "Starting Training\n",
      "epoch: 00, loss: -0.42420\n",
      "epoch: 01, loss: -0.43548\n",
      "epoch: 02, loss: -0.43706\n",
      "epoch: 03, loss: -0.43859\n",
      "epoch: 04, loss: -0.44012\n",
      "epoch: 05, loss: -0.44190\n",
      "epoch: 06, loss: -0.44304\n",
      "epoch: 07, loss: -0.44429\n",
      "epoch: 08, loss: -0.44613\n",
      "epoch: 09, loss: -0.44747\n",
      "After Unsqueezing, feature size= torch.Size([400, 1, 384])\n",
      "type(projected_feature) <class 'torch.Tensor'>\n",
      "projected feature shape= torch.Size([400, 384])\n"
     ]
    },
    {
     "name": "stderr",
     "output_type": "stream",
     "text": [
      " 10%|▉         | 99/1000 [42:04<5:34:58, 22.31s/it]"
     ]
    },
    {
     "name": "stdout",
     "output_type": "stream",
     "text": [
      "eigenvalues shape torch.Size([5]) eigenvectors shape torch.Size([5, 400])\n",
      "99 /home/phdcs2/Hard_Disk/Datasets/Deep-Spectral-Segmentation/data/object-segmentation/ECSSD/features/dino_vits16/0100.pth\n",
      "0100\n",
      "Starting Training\n",
      "epoch: 00, loss: -0.41041\n",
      "epoch: 01, loss: -0.42655\n",
      "epoch: 02, loss: -0.43002\n",
      "epoch: 03, loss: -0.43174\n",
      "epoch: 04, loss: -0.43342\n",
      "epoch: 05, loss: -0.43553\n",
      "epoch: 06, loss: -0.43633\n",
      "epoch: 07, loss: -0.43787\n",
      "epoch: 08, loss: -0.43903\n",
      "epoch: 09, loss: -0.43879\n",
      "After Unsqueezing, feature size= torch.Size([400, 1, 384])\n",
      "type(projected_feature) <class 'torch.Tensor'>\n",
      "projected feature shape= torch.Size([400, 384])\n"
     ]
    },
    {
     "name": "stderr",
     "output_type": "stream",
     "text": [
      " 10%|█         | 100/1000 [42:28<5:39:09, 22.61s/it]"
     ]
    },
    {
     "name": "stdout",
     "output_type": "stream",
     "text": [
      "eigenvalues shape torch.Size([5]) eigenvectors shape torch.Size([5, 400])\n",
      "100 /home/phdcs2/Hard_Disk/Datasets/Deep-Spectral-Segmentation/data/object-segmentation/ECSSD/features/dino_vits16/0101.pth\n",
      "0101\n",
      "Starting Training\n",
      "epoch: 00, loss: -0.35671\n",
      "epoch: 01, loss: -0.34727\n",
      "epoch: 02, loss: -0.35233\n",
      "epoch: 03, loss: -0.35489\n",
      "epoch: 04, loss: -0.35784\n",
      "epoch: 05, loss: -0.35974\n",
      "epoch: 06, loss: -0.36194\n",
      "epoch: 07, loss: -0.36349\n",
      "epoch: 08, loss: -0.36392\n",
      "epoch: 09, loss: -0.36441\n",
      "After Unsqueezing, feature size= torch.Size([400, 1, 384])\n",
      "type(projected_feature) <class 'torch.Tensor'>\n",
      "projected feature shape= torch.Size([400, 384])\n"
     ]
    },
    {
     "name": "stderr",
     "output_type": "stream",
     "text": [
      " 10%|█         | 101/1000 [42:53<5:50:45, 23.41s/it]"
     ]
    },
    {
     "name": "stdout",
     "output_type": "stream",
     "text": [
      "eigenvalues shape torch.Size([5]) eigenvectors shape torch.Size([5, 400])\n",
      "101 /home/phdcs2/Hard_Disk/Datasets/Deep-Spectral-Segmentation/data/object-segmentation/ECSSD/features/dino_vits16/0102.pth\n",
      "0102\n",
      "Starting Training\n",
      "epoch: 00, loss: -0.35750\n",
      "epoch: 01, loss: -0.36369\n",
      "epoch: 02, loss: -0.36893\n",
      "epoch: 03, loss: -0.37080\n",
      "epoch: 04, loss: -0.37441\n",
      "epoch: 05, loss: -0.37681\n",
      "epoch: 06, loss: -0.37924\n",
      "epoch: 07, loss: -0.38206\n",
      "epoch: 08, loss: -0.38455\n",
      "epoch: 09, loss: -0.38822\n",
      "After Unsqueezing, feature size= torch.Size([400, 1, 384])\n",
      "type(projected_feature) <class 'torch.Tensor'>\n",
      "projected feature shape= torch.Size([400, 384])\n"
     ]
    },
    {
     "name": "stderr",
     "output_type": "stream",
     "text": [
      " 10%|█         | 102/1000 [43:17<5:54:21, 23.68s/it]"
     ]
    },
    {
     "name": "stdout",
     "output_type": "stream",
     "text": [
      "eigenvalues shape torch.Size([5]) eigenvectors shape torch.Size([5, 400])\n",
      "102 /home/phdcs2/Hard_Disk/Datasets/Deep-Spectral-Segmentation/data/object-segmentation/ECSSD/features/dino_vits16/0103.pth\n",
      "0103\n",
      "Starting Training\n",
      "epoch: 00, loss: -0.40351\n",
      "epoch: 01, loss: -0.41301\n",
      "epoch: 02, loss: -0.41585\n",
      "epoch: 03, loss: -0.41733\n",
      "epoch: 04, loss: -0.41815\n",
      "epoch: 05, loss: -0.41857\n",
      "epoch: 06, loss: -0.41872\n",
      "epoch: 07, loss: -0.41837\n",
      "epoch: 08, loss: -0.41907\n",
      "epoch: 09, loss: -0.41895\n",
      "After Unsqueezing, feature size= torch.Size([400, 1, 384])\n",
      "type(projected_feature) <class 'torch.Tensor'>\n",
      "projected feature shape= torch.Size([400, 384])\n"
     ]
    },
    {
     "name": "stderr",
     "output_type": "stream",
     "text": [
      " 10%|█         | 103/1000 [43:41<5:55:08, 23.76s/it]"
     ]
    },
    {
     "name": "stdout",
     "output_type": "stream",
     "text": [
      "eigenvalues shape torch.Size([5]) eigenvectors shape torch.Size([5, 400])\n",
      "103 /home/phdcs2/Hard_Disk/Datasets/Deep-Spectral-Segmentation/data/object-segmentation/ECSSD/features/dino_vits16/0104.pth\n",
      "0104\n",
      "Starting Training\n",
      "epoch: 00, loss: -0.63763\n",
      "epoch: 01, loss: -0.68418\n",
      "epoch: 02, loss: -0.68568\n",
      "epoch: 03, loss: -0.68607\n",
      "epoch: 04, loss: -0.68657\n",
      "epoch: 05, loss: -0.68696\n",
      "epoch: 06, loss: -0.68759\n",
      "epoch: 07, loss: -0.68761\n",
      "epoch: 08, loss: -0.68796\n",
      "epoch: 09, loss: -0.68788\n",
      "After Unsqueezing, feature size= torch.Size([400, 1, 384])\n",
      "type(projected_feature) <class 'torch.Tensor'>\n",
      "projected feature shape= torch.Size([400, 384])\n"
     ]
    },
    {
     "name": "stderr",
     "output_type": "stream",
     "text": [
      " 10%|█         | 104/1000 [44:01<5:39:29, 22.73s/it]"
     ]
    },
    {
     "name": "stdout",
     "output_type": "stream",
     "text": [
      "eigenvalues shape torch.Size([5]) eigenvectors shape torch.Size([5, 400])\n",
      "104 /home/phdcs2/Hard_Disk/Datasets/Deep-Spectral-Segmentation/data/object-segmentation/ECSSD/features/dino_vits16/0105.pth\n",
      "0105\n",
      "Starting Training\n",
      "epoch: 00, loss: -0.36617\n",
      "epoch: 01, loss: -0.37389\n",
      "epoch: 02, loss: -0.38222\n",
      "epoch: 03, loss: -0.38787\n",
      "epoch: 04, loss: -0.39467\n",
      "epoch: 05, loss: -0.40102\n",
      "epoch: 06, loss: -0.40797\n",
      "epoch: 07, loss: -0.41585\n",
      "epoch: 08, loss: -0.42240\n",
      "epoch: 09, loss: -0.42880\n",
      "After Unsqueezing, feature size= torch.Size([400, 1, 384])\n",
      "type(projected_feature) <class 'torch.Tensor'>\n",
      "projected feature shape= torch.Size([400, 384])\n"
     ]
    },
    {
     "name": "stderr",
     "output_type": "stream",
     "text": [
      " 10%|█         | 105/1000 [44:22<5:29:22, 22.08s/it]"
     ]
    },
    {
     "name": "stdout",
     "output_type": "stream",
     "text": [
      "eigenvalues shape torch.Size([5]) eigenvectors shape torch.Size([5, 400])\n",
      "105 /home/phdcs2/Hard_Disk/Datasets/Deep-Spectral-Segmentation/data/object-segmentation/ECSSD/features/dino_vits16/0106.pth\n",
      "0106\n",
      "Starting Training\n",
      "epoch: 00, loss: -0.36137\n",
      "epoch: 01, loss: -0.36032\n",
      "epoch: 02, loss: -0.36139\n",
      "epoch: 03, loss: -0.36083\n",
      "epoch: 04, loss: -0.36253\n",
      "epoch: 05, loss: -0.36479\n",
      "epoch: 06, loss: -0.36824\n",
      "epoch: 07, loss: -0.37184\n",
      "epoch: 08, loss: -0.37347\n",
      "epoch: 09, loss: -0.37585\n",
      "After Unsqueezing, feature size= torch.Size([400, 1, 384])\n",
      "type(projected_feature) <class 'torch.Tensor'>\n",
      "projected feature shape= torch.Size([400, 384])\n"
     ]
    },
    {
     "name": "stderr",
     "output_type": "stream",
     "text": [
      " 11%|█         | 106/1000 [44:42<5:20:42, 21.52s/it]"
     ]
    },
    {
     "name": "stdout",
     "output_type": "stream",
     "text": [
      "eigenvalues shape torch.Size([5]) eigenvectors shape torch.Size([5, 400])\n",
      "106 /home/phdcs2/Hard_Disk/Datasets/Deep-Spectral-Segmentation/data/object-segmentation/ECSSD/features/dino_vits16/0107.pth\n",
      "0107\n",
      "Starting Training\n",
      "epoch: 00, loss: -0.43865\n",
      "epoch: 01, loss: -0.43864\n",
      "epoch: 02, loss: -0.44076\n",
      "epoch: 03, loss: -0.44469\n",
      "epoch: 04, loss: -0.44785\n",
      "epoch: 05, loss: -0.45161\n",
      "epoch: 06, loss: -0.45349\n",
      "epoch: 07, loss: -0.45658\n",
      "epoch: 08, loss: -0.45955\n",
      "epoch: 09, loss: -0.46169\n",
      "After Unsqueezing, feature size= torch.Size([400, 1, 384])\n",
      "type(projected_feature) <class 'torch.Tensor'>\n",
      "projected feature shape= torch.Size([400, 384])\n"
     ]
    },
    {
     "name": "stderr",
     "output_type": "stream",
     "text": [
      " 11%|█         | 107/1000 [45:04<5:20:00, 21.50s/it]"
     ]
    },
    {
     "name": "stdout",
     "output_type": "stream",
     "text": [
      "eigenvalues shape torch.Size([5]) eigenvectors shape torch.Size([5, 400])\n",
      "107 /home/phdcs2/Hard_Disk/Datasets/Deep-Spectral-Segmentation/data/object-segmentation/ECSSD/features/dino_vits16/0108.pth\n",
      "0108\n",
      "Starting Training\n",
      "epoch: 00, loss: -0.37031\n",
      "epoch: 01, loss: -0.37932\n",
      "epoch: 02, loss: -0.38418\n",
      "epoch: 03, loss: -0.39096\n",
      "epoch: 04, loss: -0.39563\n",
      "epoch: 05, loss: -0.40291\n",
      "epoch: 06, loss: -0.41087\n",
      "epoch: 07, loss: -0.41519\n",
      "epoch: 08, loss: -0.42196\n",
      "epoch: 09, loss: -0.42560\n",
      "After Unsqueezing, feature size= torch.Size([400, 1, 384])\n",
      "type(projected_feature) <class 'torch.Tensor'>\n",
      "projected feature shape= torch.Size([400, 384])\n"
     ]
    },
    {
     "name": "stderr",
     "output_type": "stream",
     "text": [
      " 11%|█         | 108/1000 [45:29<5:36:46, 22.65s/it]"
     ]
    },
    {
     "name": "stdout",
     "output_type": "stream",
     "text": [
      "eigenvalues shape torch.Size([5]) eigenvectors shape torch.Size([5, 400])\n",
      "108 /home/phdcs2/Hard_Disk/Datasets/Deep-Spectral-Segmentation/data/object-segmentation/ECSSD/features/dino_vits16/0109.pth\n",
      "0109\n",
      "Starting Training\n",
      "epoch: 00, loss: -0.41351\n",
      "epoch: 01, loss: -0.41290\n",
      "epoch: 02, loss: -0.40537\n",
      "epoch: 03, loss: -0.40059\n",
      "epoch: 04, loss: -0.39630\n",
      "epoch: 05, loss: -0.39487\n",
      "epoch: 06, loss: -0.39425\n",
      "epoch: 07, loss: -0.39362\n",
      "epoch: 08, loss: -0.39299\n",
      "epoch: 09, loss: -0.39303\n",
      "After Unsqueezing, feature size= torch.Size([400, 1, 384])\n",
      "type(projected_feature) <class 'torch.Tensor'>\n",
      "projected feature shape= torch.Size([400, 384])\n"
     ]
    },
    {
     "name": "stderr",
     "output_type": "stream",
     "text": [
      " 11%|█         | 109/1000 [45:55<5:52:10, 23.72s/it]"
     ]
    },
    {
     "name": "stdout",
     "output_type": "stream",
     "text": [
      "eigenvalues shape torch.Size([5]) eigenvectors shape torch.Size([5, 400])\n",
      "109 /home/phdcs2/Hard_Disk/Datasets/Deep-Spectral-Segmentation/data/object-segmentation/ECSSD/features/dino_vits16/0110.pth\n",
      "0110\n",
      "Starting Training\n",
      "epoch: 00, loss: -0.38955\n",
      "epoch: 01, loss: -0.39209\n",
      "epoch: 02, loss: -0.39301\n",
      "epoch: 03, loss: -0.39440\n",
      "epoch: 04, loss: -0.39481\n",
      "epoch: 05, loss: -0.39585\n",
      "epoch: 06, loss: -0.39661\n",
      "epoch: 07, loss: -0.39772\n",
      "epoch: 08, loss: -0.39846\n",
      "epoch: 09, loss: -0.39926\n",
      "After Unsqueezing, feature size= torch.Size([400, 1, 384])\n",
      "type(projected_feature) <class 'torch.Tensor'>\n",
      "projected feature shape= torch.Size([400, 384])\n"
     ]
    },
    {
     "name": "stderr",
     "output_type": "stream",
     "text": [
      " 11%|█         | 110/1000 [46:17<5:43:32, 23.16s/it]"
     ]
    },
    {
     "name": "stdout",
     "output_type": "stream",
     "text": [
      "eigenvalues shape torch.Size([5]) eigenvectors shape torch.Size([5, 400])\n",
      "110 /home/phdcs2/Hard_Disk/Datasets/Deep-Spectral-Segmentation/data/object-segmentation/ECSSD/features/dino_vits16/0111.pth\n",
      "0111\n",
      "Starting Training\n",
      "epoch: 00, loss: -0.42053\n",
      "epoch: 01, loss: -0.42615\n",
      "epoch: 02, loss: -0.42719\n",
      "epoch: 03, loss: -0.42815\n",
      "epoch: 04, loss: -0.42864\n",
      "epoch: 05, loss: -0.42954\n",
      "epoch: 06, loss: -0.42951\n",
      "epoch: 07, loss: -0.43001\n",
      "epoch: 08, loss: -0.43039\n",
      "epoch: 09, loss: -0.43031\n",
      "After Unsqueezing, feature size= torch.Size([400, 1, 384])\n",
      "type(projected_feature) <class 'torch.Tensor'>\n",
      "projected feature shape= torch.Size([400, 384])\n"
     ]
    },
    {
     "name": "stderr",
     "output_type": "stream",
     "text": [
      " 11%|█         | 111/1000 [46:38<5:34:44, 22.59s/it]"
     ]
    },
    {
     "name": "stdout",
     "output_type": "stream",
     "text": [
      "eigenvalues shape torch.Size([5]) eigenvectors shape torch.Size([5, 400])\n",
      "111 /home/phdcs2/Hard_Disk/Datasets/Deep-Spectral-Segmentation/data/object-segmentation/ECSSD/features/dino_vits16/0112.pth\n",
      "0112\n",
      "Starting Training\n",
      "epoch: 00, loss: -0.39527\n",
      "epoch: 01, loss: -0.40724\n",
      "epoch: 02, loss: -0.40294\n",
      "epoch: 03, loss: -0.39949\n",
      "epoch: 04, loss: -0.39549\n",
      "epoch: 05, loss: -0.39297\n",
      "epoch: 06, loss: -0.38932\n",
      "epoch: 07, loss: -0.38763\n",
      "epoch: 08, loss: -0.38483\n",
      "epoch: 09, loss: -0.38537\n",
      "After Unsqueezing, feature size= torch.Size([400, 1, 384])\n",
      "type(projected_feature) <class 'torch.Tensor'>\n",
      "projected feature shape= torch.Size([400, 384])\n"
     ]
    },
    {
     "name": "stderr",
     "output_type": "stream",
     "text": [
      " 11%|█         | 112/1000 [47:01<5:35:26, 22.66s/it]"
     ]
    },
    {
     "name": "stdout",
     "output_type": "stream",
     "text": [
      "eigenvalues shape torch.Size([5]) eigenvectors shape torch.Size([5, 400])\n",
      "112 /home/phdcs2/Hard_Disk/Datasets/Deep-Spectral-Segmentation/data/object-segmentation/ECSSD/features/dino_vits16/0113.pth\n",
      "0113\n",
      "Starting Training\n",
      "epoch: 00, loss: -0.34713\n",
      "epoch: 01, loss: -0.34467\n",
      "epoch: 02, loss: -0.34656\n",
      "epoch: 03, loss: -0.34840\n",
      "epoch: 04, loss: -0.34988\n",
      "epoch: 05, loss: -0.35182\n",
      "epoch: 06, loss: -0.35403\n",
      "epoch: 07, loss: -0.35501\n",
      "epoch: 08, loss: -0.35605\n",
      "epoch: 09, loss: -0.35692\n",
      "After Unsqueezing, feature size= torch.Size([400, 1, 384])\n",
      "type(projected_feature) <class 'torch.Tensor'>\n",
      "projected feature shape= torch.Size([400, 384])\n"
     ]
    },
    {
     "name": "stderr",
     "output_type": "stream",
     "text": [
      " 11%|█▏        | 113/1000 [47:22<5:29:05, 22.26s/it]"
     ]
    },
    {
     "name": "stdout",
     "output_type": "stream",
     "text": [
      "eigenvalues shape torch.Size([5]) eigenvectors shape torch.Size([5, 400])\n",
      "113 /home/phdcs2/Hard_Disk/Datasets/Deep-Spectral-Segmentation/data/object-segmentation/ECSSD/features/dino_vits16/0114.pth\n",
      "0114\n",
      "Starting Training\n",
      "epoch: 00, loss: -0.39343\n",
      "epoch: 01, loss: -0.39920\n",
      "epoch: 02, loss: -0.40203\n",
      "epoch: 03, loss: -0.40427\n",
      "epoch: 04, loss: -0.40722\n",
      "epoch: 05, loss: -0.40999\n",
      "epoch: 06, loss: -0.41156\n",
      "epoch: 07, loss: -0.41360\n",
      "epoch: 08, loss: -0.41549\n",
      "epoch: 09, loss: -0.41684\n",
      "After Unsqueezing, feature size= torch.Size([400, 1, 384])\n",
      "type(projected_feature) <class 'torch.Tensor'>\n",
      "projected feature shape= torch.Size([400, 384])\n"
     ]
    },
    {
     "name": "stderr",
     "output_type": "stream",
     "text": [
      " 11%|█▏        | 114/1000 [47:46<5:34:43, 22.67s/it]"
     ]
    },
    {
     "name": "stdout",
     "output_type": "stream",
     "text": [
      "eigenvalues shape torch.Size([5]) eigenvectors shape torch.Size([5, 400])\n",
      "114 /home/phdcs2/Hard_Disk/Datasets/Deep-Spectral-Segmentation/data/object-segmentation/ECSSD/features/dino_vits16/0115.pth\n",
      "0115\n",
      "Starting Training\n",
      "epoch: 00, loss: -0.37660\n",
      "epoch: 01, loss: -0.38036\n",
      "epoch: 02, loss: -0.37590\n",
      "epoch: 03, loss: -0.37281\n",
      "epoch: 04, loss: -0.37081\n",
      "epoch: 05, loss: -0.36889\n",
      "epoch: 06, loss: -0.36744\n",
      "epoch: 07, loss: -0.36564\n",
      "epoch: 08, loss: -0.36586\n",
      "epoch: 09, loss: -0.36552\n",
      "After Unsqueezing, feature size= torch.Size([400, 1, 384])\n",
      "type(projected_feature) <class 'torch.Tensor'>\n",
      "projected feature shape= torch.Size([400, 384])\n"
     ]
    },
    {
     "name": "stderr",
     "output_type": "stream",
     "text": [
      " 12%|█▏        | 115/1000 [48:09<5:34:59, 22.71s/it]"
     ]
    },
    {
     "name": "stdout",
     "output_type": "stream",
     "text": [
      "eigenvalues shape torch.Size([5]) eigenvectors shape torch.Size([5, 400])\n",
      "115 /home/phdcs2/Hard_Disk/Datasets/Deep-Spectral-Segmentation/data/object-segmentation/ECSSD/features/dino_vits16/0116.pth\n",
      "0116\n",
      "Starting Training\n",
      "epoch: 00, loss: -0.36248\n",
      "epoch: 01, loss: -0.35402\n",
      "epoch: 02, loss: -0.35555\n",
      "epoch: 03, loss: -0.35714\n",
      "epoch: 04, loss: -0.35844\n",
      "epoch: 05, loss: -0.36024\n",
      "epoch: 06, loss: -0.36232\n",
      "epoch: 07, loss: -0.36445\n",
      "epoch: 08, loss: -0.36681\n",
      "epoch: 09, loss: -0.36994\n",
      "After Unsqueezing, feature size= torch.Size([400, 1, 384])\n",
      "type(projected_feature) <class 'torch.Tensor'>\n",
      "projected feature shape= torch.Size([400, 384])\n"
     ]
    },
    {
     "name": "stderr",
     "output_type": "stream",
     "text": [
      " 12%|█▏        | 116/1000 [48:34<5:45:53, 23.48s/it]"
     ]
    },
    {
     "name": "stdout",
     "output_type": "stream",
     "text": [
      "eigenvalues shape torch.Size([5]) eigenvectors shape torch.Size([5, 400])\n",
      "116 /home/phdcs2/Hard_Disk/Datasets/Deep-Spectral-Segmentation/data/object-segmentation/ECSSD/features/dino_vits16/0117.pth\n",
      "0117\n",
      "Starting Training\n",
      "epoch: 00, loss: -0.40985\n",
      "epoch: 01, loss: -0.41903\n",
      "epoch: 02, loss: -0.42022\n",
      "epoch: 03, loss: -0.42269\n",
      "epoch: 04, loss: -0.42351\n",
      "epoch: 05, loss: -0.42343\n",
      "epoch: 06, loss: -0.42401\n",
      "epoch: 07, loss: -0.42389\n",
      "epoch: 08, loss: -0.42492\n",
      "epoch: 09, loss: -0.42475\n",
      "After Unsqueezing, feature size= torch.Size([400, 1, 384])\n",
      "type(projected_feature) <class 'torch.Tensor'>\n",
      "projected feature shape= torch.Size([400, 384])\n"
     ]
    },
    {
     "name": "stderr",
     "output_type": "stream",
     "text": [
      " 12%|█▏        | 117/1000 [49:00<5:55:50, 24.18s/it]"
     ]
    },
    {
     "name": "stdout",
     "output_type": "stream",
     "text": [
      "eigenvalues shape torch.Size([5]) eigenvectors shape torch.Size([5, 400])\n",
      "117 /home/phdcs2/Hard_Disk/Datasets/Deep-Spectral-Segmentation/data/object-segmentation/ECSSD/features/dino_vits16/0118.pth\n",
      "0118\n",
      "Starting Training\n",
      "epoch: 00, loss: -0.42951\n",
      "epoch: 01, loss: -0.44673\n",
      "epoch: 02, loss: -0.44885\n",
      "epoch: 03, loss: -0.45089\n",
      "epoch: 04, loss: -0.45247\n",
      "epoch: 05, loss: -0.45393\n",
      "epoch: 06, loss: -0.45496\n",
      "epoch: 07, loss: -0.45572\n",
      "epoch: 08, loss: -0.45612\n",
      "epoch: 09, loss: -0.45709\n",
      "After Unsqueezing, feature size= torch.Size([400, 1, 384])\n",
      "type(projected_feature) <class 'torch.Tensor'>\n",
      "projected feature shape= torch.Size([400, 384])\n"
     ]
    },
    {
     "name": "stderr",
     "output_type": "stream",
     "text": [
      " 12%|█▏        | 118/1000 [49:23<5:50:19, 23.83s/it]"
     ]
    },
    {
     "name": "stdout",
     "output_type": "stream",
     "text": [
      "eigenvalues shape torch.Size([5]) eigenvectors shape torch.Size([5, 400])\n",
      "118 /home/phdcs2/Hard_Disk/Datasets/Deep-Spectral-Segmentation/data/object-segmentation/ECSSD/features/dino_vits16/0119.pth\n",
      "0119\n",
      "Starting Training\n",
      "epoch: 00, loss: -0.40303\n",
      "epoch: 01, loss: -0.39922\n",
      "epoch: 02, loss: -0.40102\n",
      "epoch: 03, loss: -0.40299\n",
      "epoch: 04, loss: -0.40469\n",
      "epoch: 05, loss: -0.40653\n",
      "epoch: 06, loss: -0.40758\n",
      "epoch: 07, loss: -0.40939\n",
      "epoch: 08, loss: -0.41072\n",
      "epoch: 09, loss: -0.41281\n",
      "After Unsqueezing, feature size= torch.Size([400, 1, 384])\n",
      "type(projected_feature) <class 'torch.Tensor'>\n",
      "projected feature shape= torch.Size([400, 384])\n"
     ]
    },
    {
     "name": "stderr",
     "output_type": "stream",
     "text": [
      " 12%|█▏        | 119/1000 [49:46<5:46:58, 23.63s/it]"
     ]
    },
    {
     "name": "stdout",
     "output_type": "stream",
     "text": [
      "eigenvalues shape torch.Size([5]) eigenvectors shape torch.Size([5, 400])\n",
      "119 /home/phdcs2/Hard_Disk/Datasets/Deep-Spectral-Segmentation/data/object-segmentation/ECSSD/features/dino_vits16/0120.pth\n",
      "0120\n",
      "Starting Training\n",
      "epoch: 00, loss: -0.36492\n",
      "epoch: 01, loss: -0.35807\n",
      "epoch: 02, loss: -0.35865\n",
      "epoch: 03, loss: -0.36013\n",
      "epoch: 04, loss: -0.36395\n",
      "epoch: 05, loss: -0.36787\n",
      "epoch: 06, loss: -0.37125\n",
      "epoch: 07, loss: -0.37412\n",
      "epoch: 08, loss: -0.37764\n",
      "epoch: 09, loss: -0.38063\n",
      "After Unsqueezing, feature size= torch.Size([400, 1, 384])\n",
      "type(projected_feature) <class 'torch.Tensor'>\n",
      "projected feature shape= torch.Size([400, 384])\n"
     ]
    },
    {
     "name": "stderr",
     "output_type": "stream",
     "text": [
      " 12%|█▏        | 120/1000 [50:06<5:30:58, 22.57s/it]"
     ]
    },
    {
     "name": "stdout",
     "output_type": "stream",
     "text": [
      "eigenvalues shape torch.Size([5]) eigenvectors shape torch.Size([5, 400])\n",
      "120 /home/phdcs2/Hard_Disk/Datasets/Deep-Spectral-Segmentation/data/object-segmentation/ECSSD/features/dino_vits16/0121.pth\n",
      "0121\n",
      "Starting Training\n",
      "epoch: 00, loss: -0.65484\n",
      "epoch: 01, loss: -0.70906\n",
      "epoch: 02, loss: -0.71151\n",
      "epoch: 03, loss: -0.71274\n",
      "epoch: 04, loss: -0.71377\n",
      "epoch: 05, loss: -0.71447\n",
      "epoch: 06, loss: -0.71535\n",
      "epoch: 07, loss: -0.71626\n",
      "epoch: 08, loss: -0.71667\n",
      "epoch: 09, loss: -0.71749\n",
      "After Unsqueezing, feature size= torch.Size([400, 1, 384])\n",
      "type(projected_feature) <class 'torch.Tensor'>\n",
      "projected feature shape= torch.Size([400, 384])\n"
     ]
    },
    {
     "name": "stderr",
     "output_type": "stream",
     "text": [
      " 12%|█▏        | 121/1000 [50:28<5:28:59, 22.46s/it]"
     ]
    },
    {
     "name": "stdout",
     "output_type": "stream",
     "text": [
      "eigenvalues shape torch.Size([5]) eigenvectors shape torch.Size([5, 400])\n",
      "121 /home/phdcs2/Hard_Disk/Datasets/Deep-Spectral-Segmentation/data/object-segmentation/ECSSD/features/dino_vits16/0122.pth\n",
      "0122\n",
      "Starting Training\n",
      "epoch: 00, loss: -0.35334\n",
      "epoch: 01, loss: -0.35503\n",
      "epoch: 02, loss: -0.35769\n",
      "epoch: 03, loss: -0.36122\n",
      "epoch: 04, loss: -0.36484\n",
      "epoch: 05, loss: -0.36682\n",
      "epoch: 06, loss: -0.36896\n",
      "epoch: 07, loss: -0.37148\n",
      "epoch: 08, loss: -0.37349\n",
      "epoch: 09, loss: -0.37487\n",
      "After Unsqueezing, feature size= torch.Size([400, 1, 384])\n",
      "type(projected_feature) <class 'torch.Tensor'>\n",
      "projected feature shape= torch.Size([400, 384])\n"
     ]
    },
    {
     "name": "stderr",
     "output_type": "stream",
     "text": [
      " 12%|█▏        | 122/1000 [50:51<5:27:22, 22.37s/it]"
     ]
    },
    {
     "name": "stdout",
     "output_type": "stream",
     "text": [
      "eigenvalues shape torch.Size([5]) eigenvectors shape torch.Size([5, 400])\n",
      "122 /home/phdcs2/Hard_Disk/Datasets/Deep-Spectral-Segmentation/data/object-segmentation/ECSSD/features/dino_vits16/0123.pth\n",
      "0123\n",
      "Starting Training\n",
      "epoch: 00, loss: -0.37242\n",
      "epoch: 01, loss: -0.37947\n",
      "epoch: 02, loss: -0.38135\n",
      "epoch: 03, loss: -0.38321\n",
      "epoch: 04, loss: -0.38532\n",
      "epoch: 05, loss: -0.38602\n",
      "epoch: 06, loss: -0.38846\n",
      "epoch: 07, loss: -0.38932\n",
      "epoch: 08, loss: -0.39058\n",
      "epoch: 09, loss: -0.39173\n",
      "After Unsqueezing, feature size= torch.Size([400, 1, 384])\n",
      "type(projected_feature) <class 'torch.Tensor'>\n",
      "projected feature shape= torch.Size([400, 384])\n"
     ]
    },
    {
     "name": "stderr",
     "output_type": "stream",
     "text": [
      " 12%|█▏        | 123/1000 [51:12<5:23:17, 22.12s/it]"
     ]
    },
    {
     "name": "stdout",
     "output_type": "stream",
     "text": [
      "eigenvalues shape torch.Size([5]) eigenvectors shape torch.Size([5, 400])\n",
      "123 /home/phdcs2/Hard_Disk/Datasets/Deep-Spectral-Segmentation/data/object-segmentation/ECSSD/features/dino_vits16/0124.pth\n",
      "0124\n",
      "Starting Training\n",
      "epoch: 00, loss: -0.41619\n",
      "epoch: 01, loss: -0.43163\n",
      "epoch: 02, loss: -0.43329\n",
      "epoch: 03, loss: -0.43418\n",
      "epoch: 04, loss: -0.43416\n",
      "epoch: 05, loss: -0.43496\n",
      "epoch: 06, loss: -0.43552\n",
      "epoch: 07, loss: -0.43665\n",
      "epoch: 08, loss: -0.43855\n",
      "epoch: 09, loss: -0.43957\n",
      "After Unsqueezing, feature size= torch.Size([400, 1, 384])\n",
      "type(projected_feature) <class 'torch.Tensor'>\n",
      "projected feature shape= torch.Size([400, 384])\n"
     ]
    },
    {
     "name": "stderr",
     "output_type": "stream",
     "text": [
      " 12%|█▏        | 124/1000 [51:33<5:18:34, 21.82s/it]"
     ]
    },
    {
     "name": "stdout",
     "output_type": "stream",
     "text": [
      "eigenvalues shape torch.Size([5]) eigenvectors shape torch.Size([5, 400])\n",
      "124 /home/phdcs2/Hard_Disk/Datasets/Deep-Spectral-Segmentation/data/object-segmentation/ECSSD/features/dino_vits16/0125.pth\n",
      "0125\n",
      "Starting Training\n",
      "epoch: 00, loss: -0.39153\n",
      "epoch: 01, loss: -0.40077\n",
      "epoch: 02, loss: -0.40558\n",
      "epoch: 03, loss: -0.41004\n",
      "epoch: 04, loss: -0.41435\n",
      "epoch: 05, loss: -0.41722\n",
      "epoch: 06, loss: -0.42147\n",
      "epoch: 07, loss: -0.42466\n",
      "epoch: 08, loss: -0.42937\n",
      "epoch: 09, loss: -0.43163\n",
      "After Unsqueezing, feature size= torch.Size([400, 1, 384])\n",
      "type(projected_feature) <class 'torch.Tensor'>\n",
      "projected feature shape= torch.Size([400, 384])\n"
     ]
    },
    {
     "name": "stderr",
     "output_type": "stream",
     "text": [
      " 12%|█▎        | 125/1000 [51:55<5:16:02, 21.67s/it]"
     ]
    },
    {
     "name": "stdout",
     "output_type": "stream",
     "text": [
      "eigenvalues shape torch.Size([5]) eigenvectors shape torch.Size([5, 400])\n",
      "125 /home/phdcs2/Hard_Disk/Datasets/Deep-Spectral-Segmentation/data/object-segmentation/ECSSD/features/dino_vits16/0126.pth\n",
      "0126\n",
      "Starting Training\n",
      "epoch: 00, loss: -0.40987\n",
      "epoch: 01, loss: -0.40670\n",
      "epoch: 02, loss: -0.40372\n",
      "epoch: 03, loss: -0.40261\n",
      "epoch: 04, loss: -0.40226\n",
      "epoch: 05, loss: -0.40209\n",
      "epoch: 06, loss: -0.40188\n",
      "epoch: 07, loss: -0.40191\n",
      "epoch: 08, loss: -0.40172\n",
      "epoch: 09, loss: -0.40114\n",
      "After Unsqueezing, feature size= torch.Size([400, 1, 384])\n",
      "type(projected_feature) <class 'torch.Tensor'>\n",
      "projected feature shape= torch.Size([400, 384])\n"
     ]
    },
    {
     "name": "stderr",
     "output_type": "stream",
     "text": [
      " 13%|█▎        | 126/1000 [52:18<5:21:06, 22.04s/it]"
     ]
    },
    {
     "name": "stdout",
     "output_type": "stream",
     "text": [
      "eigenvalues shape torch.Size([5]) eigenvectors shape torch.Size([5, 400])\n",
      "126 /home/phdcs2/Hard_Disk/Datasets/Deep-Spectral-Segmentation/data/object-segmentation/ECSSD/features/dino_vits16/0127.pth\n",
      "0127\n",
      "Starting Training\n",
      "epoch: 00, loss: -0.39562\n",
      "epoch: 01, loss: -0.40175\n",
      "epoch: 02, loss: -0.39989\n",
      "epoch: 03, loss: -0.40007\n",
      "epoch: 04, loss: -0.39896\n",
      "epoch: 05, loss: -0.39938\n",
      "epoch: 06, loss: -0.39945\n",
      "epoch: 07, loss: -0.39944\n",
      "epoch: 08, loss: -0.40111\n",
      "epoch: 09, loss: -0.40152\n",
      "After Unsqueezing, feature size= torch.Size([400, 1, 384])\n",
      "type(projected_feature) <class 'torch.Tensor'>\n",
      "projected feature shape= torch.Size([400, 384])\n"
     ]
    },
    {
     "name": "stderr",
     "output_type": "stream",
     "text": [
      " 13%|█▎        | 127/1000 [52:39<5:20:09, 22.00s/it]"
     ]
    },
    {
     "name": "stdout",
     "output_type": "stream",
     "text": [
      "eigenvalues shape torch.Size([5]) eigenvectors shape torch.Size([5, 400])\n",
      "127 /home/phdcs2/Hard_Disk/Datasets/Deep-Spectral-Segmentation/data/object-segmentation/ECSSD/features/dino_vits16/0128.pth\n",
      "0128\n",
      "Starting Training\n",
      "epoch: 00, loss: -0.60038\n",
      "epoch: 01, loss: -0.62721\n",
      "epoch: 02, loss: -0.62741\n",
      "epoch: 03, loss: -0.62712\n",
      "epoch: 04, loss: -0.62747\n",
      "epoch: 05, loss: -0.62737\n",
      "epoch: 06, loss: -0.62687\n",
      "epoch: 07, loss: -0.62702\n",
      "epoch: 08, loss: -0.62752\n",
      "epoch: 09, loss: -0.62750\n",
      "After Unsqueezing, feature size= torch.Size([400, 1, 384])\n",
      "type(projected_feature) <class 'torch.Tensor'>\n",
      "projected feature shape= torch.Size([400, 384])\n"
     ]
    },
    {
     "name": "stderr",
     "output_type": "stream",
     "text": [
      " 13%|█▎        | 128/1000 [53:04<5:30:54, 22.77s/it]"
     ]
    },
    {
     "name": "stdout",
     "output_type": "stream",
     "text": [
      "eigenvalues shape torch.Size([5]) eigenvectors shape torch.Size([5, 400])\n",
      "128 /home/phdcs2/Hard_Disk/Datasets/Deep-Spectral-Segmentation/data/object-segmentation/ECSSD/features/dino_vits16/0129.pth\n",
      "0129\n",
      "Starting Training\n",
      "epoch: 00, loss: -0.36889\n",
      "epoch: 01, loss: -0.35920\n",
      "epoch: 02, loss: -0.36047\n",
      "epoch: 03, loss: -0.36153\n",
      "epoch: 04, loss: -0.36312\n",
      "epoch: 05, loss: -0.36403\n",
      "epoch: 06, loss: -0.36530\n",
      "epoch: 07, loss: -0.36638\n",
      "epoch: 08, loss: -0.36710\n",
      "epoch: 09, loss: -0.36788\n",
      "After Unsqueezing, feature size= torch.Size([425, 1, 384])\n",
      "type(projected_feature) <class 'torch.Tensor'>\n",
      "projected feature shape= torch.Size([425, 384])\n"
     ]
    },
    {
     "name": "stderr",
     "output_type": "stream",
     "text": [
      " 13%|█▎        | 129/1000 [53:27<5:33:36, 22.98s/it]"
     ]
    },
    {
     "name": "stdout",
     "output_type": "stream",
     "text": [
      "eigenvalues shape torch.Size([5]) eigenvectors shape torch.Size([5, 425])\n",
      "129 /home/phdcs2/Hard_Disk/Datasets/Deep-Spectral-Segmentation/data/object-segmentation/ECSSD/features/dino_vits16/0130.pth\n",
      "0130\n",
      "Starting Training\n",
      "epoch: 00, loss: -0.37089\n",
      "epoch: 01, loss: -0.37966\n",
      "epoch: 02, loss: -0.38119\n",
      "epoch: 03, loss: -0.38116\n",
      "epoch: 04, loss: -0.38357\n",
      "epoch: 05, loss: -0.38474\n",
      "epoch: 06, loss: -0.38510\n",
      "epoch: 07, loss: -0.38580\n",
      "epoch: 08, loss: -0.38534\n",
      "epoch: 09, loss: -0.38414\n",
      "After Unsqueezing, feature size= torch.Size([425, 1, 384])\n",
      "type(projected_feature) <class 'torch.Tensor'>\n",
      "projected feature shape= torch.Size([425, 384])\n"
     ]
    },
    {
     "name": "stderr",
     "output_type": "stream",
     "text": [
      " 13%|█▎        | 130/1000 [53:51<5:36:02, 23.17s/it]"
     ]
    },
    {
     "name": "stdout",
     "output_type": "stream",
     "text": [
      "eigenvalues shape torch.Size([5]) eigenvectors shape torch.Size([5, 425])\n",
      "130 /home/phdcs2/Hard_Disk/Datasets/Deep-Spectral-Segmentation/data/object-segmentation/ECSSD/features/dino_vits16/0131.pth\n",
      "0131\n",
      "Starting Training\n",
      "epoch: 00, loss: -0.59590\n",
      "epoch: 01, loss: -0.62155\n",
      "epoch: 02, loss: -0.62285\n",
      "epoch: 03, loss: -0.62407\n",
      "epoch: 04, loss: -0.62494\n",
      "epoch: 05, loss: -0.62589\n",
      "epoch: 06, loss: -0.62677\n",
      "epoch: 07, loss: -0.62727\n",
      "epoch: 08, loss: -0.62822\n",
      "epoch: 09, loss: -0.62891\n",
      "After Unsqueezing, feature size= torch.Size([450, 1, 384])\n",
      "type(projected_feature) <class 'torch.Tensor'>\n",
      "projected feature shape= torch.Size([450, 384])\n"
     ]
    },
    {
     "name": "stderr",
     "output_type": "stream",
     "text": [
      " 13%|█▎        | 131/1000 [54:16<5:42:42, 23.66s/it]"
     ]
    },
    {
     "name": "stdout",
     "output_type": "stream",
     "text": [
      "eigenvalues shape torch.Size([5]) eigenvectors shape torch.Size([5, 450])\n",
      "131 /home/phdcs2/Hard_Disk/Datasets/Deep-Spectral-Segmentation/data/object-segmentation/ECSSD/features/dino_vits16/0132.pth\n",
      "0132\n",
      "Starting Training\n",
      "epoch: 00, loss: -0.37279\n",
      "epoch: 01, loss: -0.38007\n",
      "epoch: 02, loss: -0.38179\n",
      "epoch: 03, loss: -0.38324\n",
      "epoch: 04, loss: -0.38381\n",
      "epoch: 05, loss: -0.38484\n",
      "epoch: 06, loss: -0.38605\n",
      "epoch: 07, loss: -0.38798\n",
      "epoch: 08, loss: -0.39050\n",
      "epoch: 09, loss: -0.39218\n",
      "After Unsqueezing, feature size= torch.Size([400, 1, 384])\n",
      "type(projected_feature) <class 'torch.Tensor'>\n",
      "projected feature shape= torch.Size([400, 384])\n"
     ]
    },
    {
     "name": "stderr",
     "output_type": "stream",
     "text": [
      " 13%|█▎        | 132/1000 [54:38<5:36:06, 23.23s/it]"
     ]
    },
    {
     "name": "stdout",
     "output_type": "stream",
     "text": [
      "eigenvalues shape torch.Size([5]) eigenvectors shape torch.Size([5, 400])\n",
      "132 /home/phdcs2/Hard_Disk/Datasets/Deep-Spectral-Segmentation/data/object-segmentation/ECSSD/features/dino_vits16/0133.pth\n",
      "0133\n",
      "Starting Training\n",
      "epoch: 00, loss: -0.40700\n",
      "epoch: 01, loss: -0.41165\n",
      "epoch: 02, loss: -0.41475\n",
      "epoch: 03, loss: -0.41734\n",
      "epoch: 04, loss: -0.41980\n",
      "epoch: 05, loss: -0.42339\n",
      "epoch: 06, loss: -0.42761\n",
      "epoch: 07, loss: -0.43045\n",
      "epoch: 08, loss: -0.43297\n",
      "epoch: 09, loss: -0.43558\n",
      "After Unsqueezing, feature size= torch.Size([525, 1, 384])\n",
      "type(projected_feature) <class 'torch.Tensor'>\n",
      "projected feature shape= torch.Size([525, 384])\n"
     ]
    },
    {
     "name": "stderr",
     "output_type": "stream",
     "text": [
      " 13%|█▎        | 133/1000 [55:08<6:05:32, 25.30s/it]"
     ]
    },
    {
     "name": "stdout",
     "output_type": "stream",
     "text": [
      "eigenvalues shape torch.Size([5]) eigenvectors shape torch.Size([5, 525])\n",
      "133 /home/phdcs2/Hard_Disk/Datasets/Deep-Spectral-Segmentation/data/object-segmentation/ECSSD/features/dino_vits16/0134.pth\n",
      "0134\n",
      "Starting Training\n",
      "epoch: 00, loss: -0.46306\n",
      "epoch: 01, loss: -0.46431\n",
      "epoch: 02, loss: -0.46436\n",
      "epoch: 03, loss: -0.46532\n",
      "epoch: 04, loss: -0.46522\n",
      "epoch: 05, loss: -0.46526\n",
      "epoch: 06, loss: -0.46574\n",
      "epoch: 07, loss: -0.46575\n",
      "epoch: 08, loss: -0.46616\n",
      "epoch: 09, loss: -0.46597\n",
      "After Unsqueezing, feature size= torch.Size([400, 1, 384])\n",
      "type(projected_feature) <class 'torch.Tensor'>\n",
      "projected feature shape= torch.Size([400, 384])\n"
     ]
    },
    {
     "name": "stderr",
     "output_type": "stream",
     "text": [
      " 13%|█▎        | 134/1000 [55:34<6:06:11, 25.37s/it]"
     ]
    },
    {
     "name": "stdout",
     "output_type": "stream",
     "text": [
      "eigenvalues shape torch.Size([5]) eigenvectors shape torch.Size([5, 400])\n",
      "134 /home/phdcs2/Hard_Disk/Datasets/Deep-Spectral-Segmentation/data/object-segmentation/ECSSD/features/dino_vits16/0135.pth\n",
      "0135\n",
      "Starting Training\n",
      "epoch: 00, loss: -0.39606\n",
      "epoch: 01, loss: -0.40412\n",
      "epoch: 02, loss: -0.39983\n",
      "epoch: 03, loss: -0.39468\n",
      "epoch: 04, loss: -0.39070\n",
      "epoch: 05, loss: -0.38732\n",
      "epoch: 06, loss: -0.38618\n",
      "epoch: 07, loss: -0.38414\n",
      "epoch: 08, loss: -0.38403\n",
      "epoch: 09, loss: -0.38478\n",
      "After Unsqueezing, feature size= torch.Size([450, 1, 384])\n",
      "type(projected_feature) <class 'torch.Tensor'>\n",
      "projected feature shape= torch.Size([450, 384])\n"
     ]
    },
    {
     "name": "stderr",
     "output_type": "stream",
     "text": [
      " 14%|█▎        | 135/1000 [55:59<6:03:31, 25.22s/it]"
     ]
    },
    {
     "name": "stdout",
     "output_type": "stream",
     "text": [
      "eigenvalues shape torch.Size([5]) eigenvectors shape torch.Size([5, 450])\n",
      "135 /home/phdcs2/Hard_Disk/Datasets/Deep-Spectral-Segmentation/data/object-segmentation/ECSSD/features/dino_vits16/0136.pth\n",
      "0136\n",
      "Starting Training\n",
      "epoch: 00, loss: -0.39021\n",
      "epoch: 01, loss: -0.39306\n",
      "epoch: 02, loss: -0.38984\n",
      "epoch: 03, loss: -0.38732\n",
      "epoch: 04, loss: -0.38608\n",
      "epoch: 05, loss: -0.38619\n",
      "epoch: 06, loss: -0.38829\n",
      "epoch: 07, loss: -0.39218\n",
      "epoch: 08, loss: -0.39864\n",
      "epoch: 09, loss: -0.40180\n",
      "After Unsqueezing, feature size= torch.Size([450, 1, 384])\n",
      "type(projected_feature) <class 'torch.Tensor'>\n",
      "projected feature shape= torch.Size([450, 384])\n"
     ]
    },
    {
     "name": "stderr",
     "output_type": "stream",
     "text": [
      " 14%|█▎        | 136/1000 [56:24<6:05:30, 25.38s/it]"
     ]
    },
    {
     "name": "stdout",
     "output_type": "stream",
     "text": [
      "eigenvalues shape torch.Size([5]) eigenvectors shape torch.Size([5, 450])\n",
      "136 /home/phdcs2/Hard_Disk/Datasets/Deep-Spectral-Segmentation/data/object-segmentation/ECSSD/features/dino_vits16/0137.pth\n",
      "0137\n",
      "Starting Training\n",
      "epoch: 00, loss: -0.38884\n",
      "epoch: 01, loss: -0.40667\n",
      "epoch: 02, loss: -0.41720\n",
      "epoch: 03, loss: -0.42907\n",
      "epoch: 04, loss: -0.44134\n",
      "epoch: 05, loss: -0.45148\n",
      "epoch: 06, loss: -0.45752\n",
      "epoch: 07, loss: -0.46378\n",
      "epoch: 08, loss: -0.46716\n",
      "epoch: 09, loss: -0.46992\n",
      "After Unsqueezing, feature size= torch.Size([475, 1, 384])\n",
      "type(projected_feature) <class 'torch.Tensor'>\n",
      "projected feature shape= torch.Size([475, 384])\n"
     ]
    },
    {
     "name": "stderr",
     "output_type": "stream",
     "text": [
      " 14%|█▎        | 137/1000 [56:49<6:02:11, 25.18s/it]"
     ]
    },
    {
     "name": "stdout",
     "output_type": "stream",
     "text": [
      "eigenvalues shape torch.Size([5]) eigenvectors shape torch.Size([5, 475])\n",
      "137 /home/phdcs2/Hard_Disk/Datasets/Deep-Spectral-Segmentation/data/object-segmentation/ECSSD/features/dino_vits16/0138.pth\n",
      "0138\n",
      "Starting Training\n",
      "epoch: 00, loss: -0.34256\n",
      "epoch: 01, loss: -0.34725\n",
      "epoch: 02, loss: -0.35062\n",
      "epoch: 03, loss: -0.35274\n",
      "epoch: 04, loss: -0.35857\n",
      "epoch: 05, loss: -0.36088\n",
      "epoch: 06, loss: -0.36474\n",
      "epoch: 07, loss: -0.36903\n",
      "epoch: 08, loss: -0.37635\n",
      "epoch: 09, loss: -0.38519\n",
      "After Unsqueezing, feature size= torch.Size([450, 1, 384])\n",
      "type(projected_feature) <class 'torch.Tensor'>\n",
      "projected feature shape= torch.Size([450, 384])\n"
     ]
    },
    {
     "name": "stderr",
     "output_type": "stream",
     "text": [
      " 14%|█▍        | 138/1000 [57:12<5:53:04, 24.58s/it]"
     ]
    },
    {
     "name": "stdout",
     "output_type": "stream",
     "text": [
      "eigenvalues shape torch.Size([5]) eigenvectors shape torch.Size([5, 450])\n",
      "138 /home/phdcs2/Hard_Disk/Datasets/Deep-Spectral-Segmentation/data/object-segmentation/ECSSD/features/dino_vits16/0139.pth\n",
      "0139\n",
      "Starting Training\n",
      "epoch: 00, loss: -0.39180\n",
      "epoch: 01, loss: -0.39774\n",
      "epoch: 02, loss: -0.39766\n",
      "epoch: 03, loss: -0.39842\n",
      "epoch: 04, loss: -0.39822\n",
      "epoch: 05, loss: -0.39846\n",
      "epoch: 06, loss: -0.39927\n",
      "epoch: 07, loss: -0.40040\n",
      "epoch: 08, loss: -0.40060\n",
      "epoch: 09, loss: -0.40072\n",
      "After Unsqueezing, feature size= torch.Size([450, 1, 384])\n",
      "type(projected_feature) <class 'torch.Tensor'>\n",
      "projected feature shape= torch.Size([450, 384])\n"
     ]
    },
    {
     "name": "stderr",
     "output_type": "stream",
     "text": [
      " 14%|█▍        | 139/1000 [57:40<6:05:56, 25.50s/it]"
     ]
    },
    {
     "name": "stdout",
     "output_type": "stream",
     "text": [
      "eigenvalues shape torch.Size([5]) eigenvectors shape torch.Size([5, 450])\n",
      "139 /home/phdcs2/Hard_Disk/Datasets/Deep-Spectral-Segmentation/data/object-segmentation/ECSSD/features/dino_vits16/0140.pth\n",
      "0140\n",
      "Starting Training\n",
      "epoch: 00, loss: -0.38398\n",
      "epoch: 01, loss: -0.38818\n",
      "epoch: 02, loss: -0.38894\n",
      "epoch: 03, loss: -0.38911\n",
      "epoch: 04, loss: -0.38955\n",
      "epoch: 05, loss: -0.39006\n",
      "epoch: 06, loss: -0.39030\n",
      "epoch: 07, loss: -0.39147\n",
      "epoch: 08, loss: -0.39250\n",
      "epoch: 09, loss: -0.39341\n",
      "After Unsqueezing, feature size= torch.Size([450, 1, 384])\n",
      "type(projected_feature) <class 'torch.Tensor'>\n",
      "projected feature shape= torch.Size([450, 384])\n"
     ]
    },
    {
     "name": "stderr",
     "output_type": "stream",
     "text": [
      " 14%|█▍        | 140/1000 [58:08<6:15:51, 26.22s/it]"
     ]
    },
    {
     "name": "stdout",
     "output_type": "stream",
     "text": [
      "eigenvalues shape torch.Size([5]) eigenvectors shape torch.Size([5, 450])\n",
      "140 /home/phdcs2/Hard_Disk/Datasets/Deep-Spectral-Segmentation/data/object-segmentation/ECSSD/features/dino_vits16/0141.pth\n",
      "0141\n",
      "Starting Training\n",
      "epoch: 00, loss: -0.39346\n",
      "epoch: 01, loss: -0.40700\n",
      "epoch: 02, loss: -0.40337\n",
      "epoch: 03, loss: -0.40320\n",
      "epoch: 04, loss: -0.40249\n",
      "epoch: 05, loss: -0.40251\n",
      "epoch: 06, loss: -0.40337\n",
      "epoch: 07, loss: -0.40286\n",
      "epoch: 08, loss: -0.40205\n",
      "epoch: 09, loss: -0.40293\n",
      "After Unsqueezing, feature size= torch.Size([350, 1, 384])\n",
      "type(projected_feature) <class 'torch.Tensor'>\n",
      "projected feature shape= torch.Size([350, 384])\n"
     ]
    },
    {
     "name": "stderr",
     "output_type": "stream",
     "text": [
      " 14%|█▍        | 141/1000 [58:30<5:57:42, 24.99s/it]"
     ]
    },
    {
     "name": "stdout",
     "output_type": "stream",
     "text": [
      "eigenvalues shape torch.Size([5]) eigenvectors shape torch.Size([5, 350])\n",
      "141 /home/phdcs2/Hard_Disk/Datasets/Deep-Spectral-Segmentation/data/object-segmentation/ECSSD/features/dino_vits16/0142.pth\n",
      "0142\n",
      "Starting Training\n",
      "epoch: 00, loss: -0.45159\n",
      "epoch: 01, loss: -0.44616\n",
      "epoch: 02, loss: -0.44749\n",
      "epoch: 03, loss: -0.44912\n",
      "epoch: 04, loss: -0.44921\n",
      "epoch: 05, loss: -0.45054\n",
      "epoch: 06, loss: -0.45089\n",
      "epoch: 07, loss: -0.45119\n",
      "epoch: 08, loss: -0.45101\n",
      "epoch: 09, loss: -0.45519\n",
      "After Unsqueezing, feature size= torch.Size([450, 1, 384])\n",
      "type(projected_feature) <class 'torch.Tensor'>\n",
      "projected feature shape= torch.Size([450, 384])\n"
     ]
    },
    {
     "name": "stderr",
     "output_type": "stream",
     "text": [
      " 14%|█▍        | 142/1000 [58:56<6:03:21, 25.41s/it]"
     ]
    },
    {
     "name": "stdout",
     "output_type": "stream",
     "text": [
      "eigenvalues shape torch.Size([5]) eigenvectors shape torch.Size([5, 450])\n",
      "142 /home/phdcs2/Hard_Disk/Datasets/Deep-Spectral-Segmentation/data/object-segmentation/ECSSD/features/dino_vits16/0143.pth\n",
      "0143\n",
      "Starting Training\n",
      "epoch: 00, loss: -0.36763\n",
      "epoch: 01, loss: -0.37337\n",
      "epoch: 02, loss: -0.37707\n",
      "epoch: 03, loss: -0.38015\n",
      "epoch: 04, loss: -0.38119\n",
      "epoch: 05, loss: -0.38305\n",
      "epoch: 06, loss: -0.38510\n",
      "epoch: 07, loss: -0.38669\n",
      "epoch: 08, loss: -0.38721\n",
      "epoch: 09, loss: -0.38783\n",
      "After Unsqueezing, feature size= torch.Size([450, 1, 384])\n",
      "type(projected_feature) <class 'torch.Tensor'>\n",
      "projected feature shape= torch.Size([450, 384])\n"
     ]
    },
    {
     "name": "stderr",
     "output_type": "stream",
     "text": [
      " 14%|█▍        | 143/1000 [59:24<6:11:56, 26.04s/it]"
     ]
    },
    {
     "name": "stdout",
     "output_type": "stream",
     "text": [
      "eigenvalues shape torch.Size([5]) eigenvectors shape torch.Size([5, 450])\n",
      "143 /home/phdcs2/Hard_Disk/Datasets/Deep-Spectral-Segmentation/data/object-segmentation/ECSSD/features/dino_vits16/0144.pth\n",
      "0144\n",
      "Starting Training\n",
      "epoch: 00, loss: -0.39617\n",
      "epoch: 01, loss: -0.40622\n",
      "epoch: 02, loss: -0.40628\n",
      "epoch: 03, loss: -0.40747\n",
      "epoch: 04, loss: -0.40817\n",
      "epoch: 05, loss: -0.40974\n",
      "epoch: 06, loss: -0.41010\n",
      "epoch: 07, loss: -0.41068\n",
      "epoch: 08, loss: -0.41082\n",
      "epoch: 09, loss: -0.41155\n",
      "After Unsqueezing, feature size= torch.Size([425, 1, 384])\n",
      "type(projected_feature) <class 'torch.Tensor'>\n",
      "projected feature shape= torch.Size([425, 384])\n"
     ]
    },
    {
     "name": "stderr",
     "output_type": "stream",
     "text": [
      " 14%|█▍        | 144/1000 [59:48<6:02:57, 25.44s/it]"
     ]
    },
    {
     "name": "stdout",
     "output_type": "stream",
     "text": [
      "eigenvalues shape torch.Size([5]) eigenvectors shape torch.Size([5, 425])\n",
      "144 /home/phdcs2/Hard_Disk/Datasets/Deep-Spectral-Segmentation/data/object-segmentation/ECSSD/features/dino_vits16/0145.pth\n",
      "0145\n",
      "Starting Training\n",
      "epoch: 00, loss: -0.43189\n",
      "epoch: 01, loss: -0.44572\n",
      "epoch: 02, loss: -0.44781\n",
      "epoch: 03, loss: -0.44869\n",
      "epoch: 04, loss: -0.45041\n",
      "epoch: 05, loss: -0.45149\n",
      "epoch: 06, loss: -0.45305\n",
      "epoch: 07, loss: -0.45482\n",
      "epoch: 08, loss: -0.45645\n",
      "epoch: 09, loss: -0.45790\n",
      "After Unsqueezing, feature size= torch.Size([450, 1, 384])\n",
      "type(projected_feature) <class 'torch.Tensor'>\n",
      "projected feature shape= torch.Size([450, 384])\n"
     ]
    },
    {
     "name": "stderr",
     "output_type": "stream",
     "text": [
      " 14%|█▍        | 145/1000 [1:00:13<5:59:35, 25.23s/it]"
     ]
    },
    {
     "name": "stdout",
     "output_type": "stream",
     "text": [
      "eigenvalues shape torch.Size([5]) eigenvectors shape torch.Size([5, 450])\n",
      "145 /home/phdcs2/Hard_Disk/Datasets/Deep-Spectral-Segmentation/data/object-segmentation/ECSSD/features/dino_vits16/0146.pth\n",
      "0146\n",
      "Starting Training\n",
      "epoch: 00, loss: -0.40725\n",
      "epoch: 01, loss: -0.41842\n",
      "epoch: 02, loss: -0.41709\n",
      "epoch: 03, loss: -0.41551\n",
      "epoch: 04, loss: -0.41643\n",
      "epoch: 05, loss: -0.41657\n",
      "epoch: 06, loss: -0.41693\n",
      "epoch: 07, loss: -0.41925\n",
      "epoch: 08, loss: -0.42128\n",
      "epoch: 09, loss: -0.42294\n",
      "After Unsqueezing, feature size= torch.Size([400, 1, 384])\n",
      "type(projected_feature) <class 'torch.Tensor'>\n",
      "projected feature shape= torch.Size([400, 384])\n"
     ]
    },
    {
     "name": "stderr",
     "output_type": "stream",
     "text": [
      " 15%|█▍        | 146/1000 [1:00:34<5:43:16, 24.12s/it]"
     ]
    },
    {
     "name": "stdout",
     "output_type": "stream",
     "text": [
      "eigenvalues shape torch.Size([5]) eigenvectors shape torch.Size([5, 400])\n",
      "146 /home/phdcs2/Hard_Disk/Datasets/Deep-Spectral-Segmentation/data/object-segmentation/ECSSD/features/dino_vits16/0147.pth\n",
      "0147\n",
      "Starting Training\n",
      "epoch: 00, loss: -0.42021\n",
      "epoch: 01, loss: -0.42814\n",
      "epoch: 02, loss: -0.42662\n",
      "epoch: 03, loss: -0.42450\n",
      "epoch: 04, loss: -0.42368\n",
      "epoch: 05, loss: -0.42175\n",
      "epoch: 06, loss: -0.42039\n",
      "epoch: 07, loss: -0.41813\n",
      "epoch: 08, loss: -0.41651\n",
      "epoch: 09, loss: -0.41427\n",
      "After Unsqueezing, feature size= torch.Size([550, 1, 384])\n",
      "type(projected_feature) <class 'torch.Tensor'>\n",
      "projected feature shape= torch.Size([550, 384])\n"
     ]
    },
    {
     "name": "stderr",
     "output_type": "stream",
     "text": [
      " 15%|█▍        | 147/1000 [1:01:05<6:12:59, 26.24s/it]"
     ]
    },
    {
     "name": "stdout",
     "output_type": "stream",
     "text": [
      "eigenvalues shape torch.Size([5]) eigenvectors shape torch.Size([5, 550])\n",
      "147 /home/phdcs2/Hard_Disk/Datasets/Deep-Spectral-Segmentation/data/object-segmentation/ECSSD/features/dino_vits16/0148.pth\n",
      "0148\n",
      "Starting Training\n",
      "epoch: 00, loss: -0.40071\n",
      "epoch: 01, loss: -0.41154\n",
      "epoch: 02, loss: -0.41008\n",
      "epoch: 03, loss: -0.40976\n",
      "epoch: 04, loss: -0.41033\n",
      "epoch: 05, loss: -0.40868\n",
      "epoch: 06, loss: -0.41126\n",
      "epoch: 07, loss: -0.41213\n",
      "epoch: 08, loss: -0.41485\n",
      "epoch: 09, loss: -0.41707\n",
      "After Unsqueezing, feature size= torch.Size([400, 1, 384])\n",
      "type(projected_feature) <class 'torch.Tensor'>\n",
      "projected feature shape= torch.Size([400, 384])\n"
     ]
    },
    {
     "name": "stderr",
     "output_type": "stream",
     "text": [
      " 15%|█▍        | 148/1000 [1:01:25<5:46:31, 24.40s/it]"
     ]
    },
    {
     "name": "stdout",
     "output_type": "stream",
     "text": [
      "eigenvalues shape torch.Size([5]) eigenvectors shape torch.Size([5, 400])\n",
      "148 /home/phdcs2/Hard_Disk/Datasets/Deep-Spectral-Segmentation/data/object-segmentation/ECSSD/features/dino_vits16/0149.pth\n",
      "0149\n",
      "Starting Training\n",
      "epoch: 00, loss: -0.38678\n",
      "epoch: 01, loss: -0.39462\n",
      "epoch: 02, loss: -0.39536\n",
      "epoch: 03, loss: -0.39594\n",
      "epoch: 04, loss: -0.39652\n",
      "epoch: 05, loss: -0.39805\n",
      "epoch: 06, loss: -0.39997\n",
      "epoch: 07, loss: -0.40194\n",
      "epoch: 08, loss: -0.40474\n",
      "epoch: 09, loss: -0.40659\n",
      "After Unsqueezing, feature size= torch.Size([400, 1, 384])\n",
      "type(projected_feature) <class 'torch.Tensor'>\n",
      "projected feature shape= torch.Size([400, 384])\n"
     ]
    },
    {
     "name": "stderr",
     "output_type": "stream",
     "text": [
      " 15%|█▍        | 149/1000 [1:01:47<5:35:43, 23.67s/it]"
     ]
    },
    {
     "name": "stdout",
     "output_type": "stream",
     "text": [
      "eigenvalues shape torch.Size([5]) eigenvectors shape torch.Size([5, 400])\n",
      "149 /home/phdcs2/Hard_Disk/Datasets/Deep-Spectral-Segmentation/data/object-segmentation/ECSSD/features/dino_vits16/0150.pth\n",
      "0150\n",
      "Starting Training\n",
      "epoch: 00, loss: -0.41913\n",
      "epoch: 01, loss: -0.42528\n",
      "epoch: 02, loss: -0.42526\n",
      "epoch: 03, loss: -0.42653\n",
      "epoch: 04, loss: -0.42715\n",
      "epoch: 05, loss: -0.42839\n",
      "epoch: 06, loss: -0.42895\n",
      "epoch: 07, loss: -0.42850\n",
      "epoch: 08, loss: -0.42912\n",
      "epoch: 09, loss: -0.43025\n",
      "After Unsqueezing, feature size= torch.Size([450, 1, 384])\n",
      "type(projected_feature) <class 'torch.Tensor'>\n",
      "projected feature shape= torch.Size([450, 384])\n"
     ]
    },
    {
     "name": "stderr",
     "output_type": "stream",
     "text": [
      " 15%|█▌        | 150/1000 [1:02:11<5:34:58, 23.64s/it]"
     ]
    },
    {
     "name": "stdout",
     "output_type": "stream",
     "text": [
      "eigenvalues shape torch.Size([5]) eigenvectors shape torch.Size([5, 450])\n",
      "150 /home/phdcs2/Hard_Disk/Datasets/Deep-Spectral-Segmentation/data/object-segmentation/ECSSD/features/dino_vits16/0151.pth\n",
      "0151\n",
      "Starting Training\n",
      "epoch: 00, loss: -0.39157\n",
      "epoch: 01, loss: -0.39432\n",
      "epoch: 02, loss: -0.39558\n",
      "epoch: 03, loss: -0.39614\n",
      "epoch: 04, loss: -0.39704\n",
      "epoch: 05, loss: -0.39832\n",
      "epoch: 06, loss: -0.39910\n",
      "epoch: 07, loss: -0.39978\n",
      "epoch: 08, loss: -0.40083\n",
      "epoch: 09, loss: -0.40064\n",
      "After Unsqueezing, feature size= torch.Size([525, 1, 384])\n",
      "type(projected_feature) <class 'torch.Tensor'>\n",
      "projected feature shape= torch.Size([525, 384])\n"
     ]
    },
    {
     "name": "stderr",
     "output_type": "stream",
     "text": [
      " 15%|█▌        | 151/1000 [1:02:43<6:09:02, 26.08s/it]"
     ]
    },
    {
     "name": "stdout",
     "output_type": "stream",
     "text": [
      "eigenvalues shape torch.Size([5]) eigenvectors shape torch.Size([5, 525])\n",
      "151 /home/phdcs2/Hard_Disk/Datasets/Deep-Spectral-Segmentation/data/object-segmentation/ECSSD/features/dino_vits16/0152.pth\n",
      "0152\n",
      "Starting Training\n",
      "epoch: 00, loss: -0.36997\n",
      "epoch: 01, loss: -0.37347\n",
      "epoch: 02, loss: -0.37650\n",
      "epoch: 03, loss: -0.37989\n",
      "epoch: 04, loss: -0.38091\n",
      "epoch: 05, loss: -0.38374\n",
      "epoch: 06, loss: -0.38477\n",
      "epoch: 07, loss: -0.38548\n",
      "epoch: 08, loss: -0.38636\n",
      "epoch: 09, loss: -0.38737\n",
      "After Unsqueezing, feature size= torch.Size([450, 1, 384])\n",
      "type(projected_feature) <class 'torch.Tensor'>\n",
      "projected feature shape= torch.Size([450, 384])\n"
     ]
    },
    {
     "name": "stderr",
     "output_type": "stream",
     "text": [
      " 15%|█▌        | 152/1000 [1:03:13<6:24:37, 27.21s/it]"
     ]
    },
    {
     "name": "stdout",
     "output_type": "stream",
     "text": [
      "eigenvalues shape torch.Size([5]) eigenvectors shape torch.Size([5, 450])\n",
      "152 /home/phdcs2/Hard_Disk/Datasets/Deep-Spectral-Segmentation/data/object-segmentation/ECSSD/features/dino_vits16/0153.pth\n",
      "0153\n",
      "Starting Training\n",
      "epoch: 00, loss: -0.40107\n",
      "epoch: 01, loss: -0.40509\n",
      "epoch: 02, loss: -0.40466\n",
      "epoch: 03, loss: -0.40455\n",
      "epoch: 04, loss: -0.40410\n",
      "epoch: 05, loss: -0.40388\n",
      "epoch: 06, loss: -0.40334\n",
      "epoch: 07, loss: -0.40301\n",
      "epoch: 08, loss: -0.40222\n",
      "epoch: 09, loss: -0.40235\n",
      "After Unsqueezing, feature size= torch.Size([450, 1, 384])\n",
      "type(projected_feature) <class 'torch.Tensor'>\n",
      "projected feature shape= torch.Size([450, 384])\n"
     ]
    },
    {
     "name": "stderr",
     "output_type": "stream",
     "text": [
      " 15%|█▌        | 153/1000 [1:03:41<6:28:40, 27.53s/it]"
     ]
    },
    {
     "name": "stdout",
     "output_type": "stream",
     "text": [
      "eigenvalues shape torch.Size([5]) eigenvectors shape torch.Size([5, 450])\n",
      "153 /home/phdcs2/Hard_Disk/Datasets/Deep-Spectral-Segmentation/data/object-segmentation/ECSSD/features/dino_vits16/0154.pth\n",
      "0154\n",
      "Starting Training\n",
      "epoch: 00, loss: -0.37577\n",
      "epoch: 01, loss: -0.38153\n",
      "epoch: 02, loss: -0.38465\n",
      "epoch: 03, loss: -0.38765\n",
      "epoch: 04, loss: -0.39148\n",
      "epoch: 05, loss: -0.39373\n",
      "epoch: 06, loss: -0.39562\n",
      "epoch: 07, loss: -0.39834\n",
      "epoch: 08, loss: -0.39957\n",
      "epoch: 09, loss: -0.40075\n",
      "After Unsqueezing, feature size= torch.Size([450, 1, 384])\n",
      "type(projected_feature) <class 'torch.Tensor'>\n",
      "projected feature shape= torch.Size([450, 384])\n"
     ]
    },
    {
     "name": "stderr",
     "output_type": "stream",
     "text": [
      " 15%|█▌        | 154/1000 [1:04:10<6:34:17, 27.96s/it]"
     ]
    },
    {
     "name": "stdout",
     "output_type": "stream",
     "text": [
      "eigenvalues shape torch.Size([5]) eigenvectors shape torch.Size([5, 450])\n",
      "154 /home/phdcs2/Hard_Disk/Datasets/Deep-Spectral-Segmentation/data/object-segmentation/ECSSD/features/dino_vits16/0155.pth\n",
      "0155\n",
      "Starting Training\n",
      "epoch: 00, loss: -0.38514\n",
      "epoch: 01, loss: -0.39538\n",
      "epoch: 02, loss: -0.39877\n",
      "epoch: 03, loss: -0.40074\n",
      "epoch: 04, loss: -0.40377\n",
      "epoch: 05, loss: -0.40533\n",
      "epoch: 06, loss: -0.40582\n",
      "epoch: 07, loss: -0.40668\n",
      "epoch: 08, loss: -0.40702\n",
      "epoch: 09, loss: -0.40774\n",
      "After Unsqueezing, feature size= torch.Size([475, 1, 384])\n",
      "type(projected_feature) <class 'torch.Tensor'>\n",
      "projected feature shape= torch.Size([475, 384])\n"
     ]
    },
    {
     "name": "stderr",
     "output_type": "stream",
     "text": [
      " 16%|█▌        | 155/1000 [1:04:36<6:26:53, 27.47s/it]"
     ]
    },
    {
     "name": "stdout",
     "output_type": "stream",
     "text": [
      "eigenvalues shape torch.Size([5]) eigenvectors shape torch.Size([5, 475])\n",
      "155 /home/phdcs2/Hard_Disk/Datasets/Deep-Spectral-Segmentation/data/object-segmentation/ECSSD/features/dino_vits16/0156.pth\n",
      "0156\n",
      "Starting Training\n",
      "epoch: 00, loss: -0.35673\n",
      "epoch: 01, loss: -0.36322\n",
      "epoch: 02, loss: -0.37290\n",
      "epoch: 03, loss: -0.38091\n",
      "epoch: 04, loss: -0.38773\n",
      "epoch: 05, loss: -0.39306\n",
      "epoch: 06, loss: -0.39764\n",
      "epoch: 07, loss: -0.40106\n",
      "epoch: 08, loss: -0.40466\n",
      "epoch: 09, loss: -0.40704\n",
      "After Unsqueezing, feature size= torch.Size([400, 1, 384])\n",
      "type(projected_feature) <class 'torch.Tensor'>\n",
      "projected feature shape= torch.Size([400, 384])\n"
     ]
    },
    {
     "name": "stderr",
     "output_type": "stream",
     "text": [
      " 16%|█▌        | 156/1000 [1:04:59<6:07:07, 26.10s/it]"
     ]
    },
    {
     "name": "stdout",
     "output_type": "stream",
     "text": [
      "eigenvalues shape torch.Size([5]) eigenvectors shape torch.Size([5, 400])\n",
      "156 /home/phdcs2/Hard_Disk/Datasets/Deep-Spectral-Segmentation/data/object-segmentation/ECSSD/features/dino_vits16/0157.pth\n",
      "0157\n",
      "Starting Training\n",
      "epoch: 00, loss: -0.41744\n",
      "epoch: 01, loss: -0.43649\n",
      "epoch: 02, loss: -0.44176\n",
      "epoch: 03, loss: -0.44519\n",
      "epoch: 04, loss: -0.44836\n",
      "epoch: 05, loss: -0.45081\n",
      "epoch: 06, loss: -0.45311\n",
      "epoch: 07, loss: -0.45639\n",
      "epoch: 08, loss: -0.46081\n",
      "epoch: 09, loss: -0.46354\n",
      "After Unsqueezing, feature size= torch.Size([375, 1, 384])\n",
      "type(projected_feature) <class 'torch.Tensor'>\n",
      "projected feature shape= torch.Size([375, 384])\n"
     ]
    },
    {
     "name": "stderr",
     "output_type": "stream",
     "text": [
      " 16%|█▌        | 157/1000 [1:05:21<5:50:21, 24.94s/it]"
     ]
    },
    {
     "name": "stdout",
     "output_type": "stream",
     "text": [
      "eigenvalues shape torch.Size([5]) eigenvectors shape torch.Size([5, 375])\n",
      "157 /home/phdcs2/Hard_Disk/Datasets/Deep-Spectral-Segmentation/data/object-segmentation/ECSSD/features/dino_vits16/0158.pth\n",
      "0158\n",
      "Starting Training\n",
      "epoch: 00, loss: -0.34179\n",
      "epoch: 01, loss: -0.34080\n",
      "epoch: 02, loss: -0.34248\n",
      "epoch: 03, loss: -0.34610\n",
      "epoch: 04, loss: -0.35104\n",
      "epoch: 05, loss: -0.35207\n",
      "epoch: 06, loss: -0.35195\n",
      "epoch: 07, loss: -0.35433\n",
      "epoch: 08, loss: -0.35642\n",
      "epoch: 09, loss: -0.35808\n",
      "After Unsqueezing, feature size= torch.Size([300, 1, 384])\n",
      "type(projected_feature) <class 'torch.Tensor'>\n",
      "projected feature shape= torch.Size([300, 384])\n"
     ]
    },
    {
     "name": "stderr",
     "output_type": "stream",
     "text": [
      " 16%|█▌        | 158/1000 [1:05:36<5:08:47, 22.00s/it]"
     ]
    },
    {
     "name": "stdout",
     "output_type": "stream",
     "text": [
      "eigenvalues shape torch.Size([5]) eigenvectors shape torch.Size([5, 300])\n",
      "158 /home/phdcs2/Hard_Disk/Datasets/Deep-Spectral-Segmentation/data/object-segmentation/ECSSD/features/dino_vits16/0159.pth\n",
      "0159\n",
      "Starting Training\n",
      "epoch: 00, loss: -0.35546\n",
      "epoch: 01, loss: -0.36198\n",
      "epoch: 02, loss: -0.36905\n",
      "epoch: 03, loss: -0.37308\n",
      "epoch: 04, loss: -0.37623\n",
      "epoch: 05, loss: -0.37808\n",
      "epoch: 06, loss: -0.37968\n",
      "epoch: 07, loss: -0.38150\n",
      "epoch: 08, loss: -0.38354\n",
      "epoch: 09, loss: -0.38541\n",
      "After Unsqueezing, feature size= torch.Size([425, 1, 384])\n",
      "type(projected_feature) <class 'torch.Tensor'>\n",
      "projected feature shape= torch.Size([425, 384])\n"
     ]
    },
    {
     "name": "stderr",
     "output_type": "stream",
     "text": [
      " 16%|█▌        | 159/1000 [1:06:03<5:25:45, 23.24s/it]"
     ]
    },
    {
     "name": "stdout",
     "output_type": "stream",
     "text": [
      "eigenvalues shape torch.Size([5]) eigenvectors shape torch.Size([5, 425])\n",
      "159 /home/phdcs2/Hard_Disk/Datasets/Deep-Spectral-Segmentation/data/object-segmentation/ECSSD/features/dino_vits16/0160.pth\n",
      "0160\n",
      "Starting Training\n",
      "epoch: 00, loss: -0.39142\n",
      "epoch: 01, loss: -0.39949\n",
      "epoch: 02, loss: -0.40381\n",
      "epoch: 03, loss: -0.40699\n",
      "epoch: 04, loss: -0.41205\n",
      "epoch: 05, loss: -0.41644\n",
      "epoch: 06, loss: -0.42023\n",
      "epoch: 07, loss: -0.42483\n",
      "epoch: 08, loss: -0.42924\n",
      "epoch: 09, loss: -0.43356\n",
      "After Unsqueezing, feature size= torch.Size([400, 1, 384])\n",
      "type(projected_feature) <class 'torch.Tensor'>\n",
      "projected feature shape= torch.Size([400, 384])\n"
     ]
    },
    {
     "name": "stderr",
     "output_type": "stream",
     "text": [
      " 16%|█▌        | 160/1000 [1:06:25<5:22:55, 23.07s/it]"
     ]
    },
    {
     "name": "stdout",
     "output_type": "stream",
     "text": [
      "eigenvalues shape torch.Size([5]) eigenvectors shape torch.Size([5, 400])\n",
      "160 /home/phdcs2/Hard_Disk/Datasets/Deep-Spectral-Segmentation/data/object-segmentation/ECSSD/features/dino_vits16/0161.pth\n",
      "0161\n",
      "Starting Training\n",
      "epoch: 00, loss: -0.40836\n",
      "epoch: 01, loss: -0.40705\n",
      "epoch: 02, loss: -0.40262\n",
      "epoch: 03, loss: -0.40027\n",
      "epoch: 04, loss: -0.39887\n",
      "epoch: 05, loss: -0.39758\n",
      "epoch: 06, loss: -0.39702\n",
      "epoch: 07, loss: -0.39633\n",
      "epoch: 08, loss: -0.39595\n",
      "epoch: 09, loss: -0.39574\n",
      "After Unsqueezing, feature size= torch.Size([450, 1, 384])\n",
      "type(projected_feature) <class 'torch.Tensor'>\n",
      "projected feature shape= torch.Size([450, 384])\n"
     ]
    },
    {
     "name": "stderr",
     "output_type": "stream",
     "text": [
      " 16%|█▌        | 161/1000 [1:06:49<5:25:46, 23.30s/it]"
     ]
    },
    {
     "name": "stdout",
     "output_type": "stream",
     "text": [
      "eigenvalues shape torch.Size([5]) eigenvectors shape torch.Size([5, 450])\n",
      "161 /home/phdcs2/Hard_Disk/Datasets/Deep-Spectral-Segmentation/data/object-segmentation/ECSSD/features/dino_vits16/0162.pth\n",
      "0162\n",
      "Starting Training\n",
      "epoch: 00, loss: -0.36262\n",
      "epoch: 01, loss: -0.36974\n",
      "epoch: 02, loss: -0.38113\n",
      "epoch: 03, loss: -0.39227\n",
      "epoch: 04, loss: -0.40526\n",
      "epoch: 05, loss: -0.42058\n",
      "epoch: 06, loss: -0.43505\n",
      "epoch: 07, loss: -0.44209\n",
      "epoch: 08, loss: -0.44796\n",
      "epoch: 09, loss: -0.45258\n",
      "After Unsqueezing, feature size= torch.Size([450, 1, 384])\n",
      "type(projected_feature) <class 'torch.Tensor'>\n",
      "projected feature shape= torch.Size([450, 384])\n"
     ]
    },
    {
     "name": "stderr",
     "output_type": "stream",
     "text": [
      " 16%|█▌        | 162/1000 [1:07:13<5:29:53, 23.62s/it]"
     ]
    },
    {
     "name": "stdout",
     "output_type": "stream",
     "text": [
      "eigenvalues shape torch.Size([5]) eigenvectors shape torch.Size([5, 450])\n",
      "162 /home/phdcs2/Hard_Disk/Datasets/Deep-Spectral-Segmentation/data/object-segmentation/ECSSD/features/dino_vits16/0163.pth\n",
      "0163\n",
      "Starting Training\n",
      "epoch: 00, loss: -0.45215\n",
      "epoch: 01, loss: -0.47004\n",
      "epoch: 02, loss: -0.48037\n",
      "epoch: 03, loss: -0.48946\n",
      "epoch: 04, loss: -0.49687\n",
      "epoch: 05, loss: -0.50304\n",
      "epoch: 06, loss: -0.50701\n",
      "epoch: 07, loss: -0.51122\n",
      "epoch: 08, loss: -0.51423\n",
      "epoch: 09, loss: -0.51677\n",
      "After Unsqueezing, feature size= torch.Size([400, 1, 384])\n",
      "type(projected_feature) <class 'torch.Tensor'>\n",
      "projected feature shape= torch.Size([400, 384])\n"
     ]
    },
    {
     "name": "stderr",
     "output_type": "stream",
     "text": [
      " 16%|█▋        | 163/1000 [1:07:34<5:18:10, 22.81s/it]"
     ]
    },
    {
     "name": "stdout",
     "output_type": "stream",
     "text": [
      "eigenvalues shape torch.Size([5]) eigenvectors shape torch.Size([5, 400])\n",
      "163 /home/phdcs2/Hard_Disk/Datasets/Deep-Spectral-Segmentation/data/object-segmentation/ECSSD/features/dino_vits16/0164.pth\n",
      "0164\n",
      "Starting Training\n",
      "epoch: 00, loss: -0.40007\n",
      "epoch: 01, loss: -0.40221\n",
      "epoch: 02, loss: -0.40201\n",
      "epoch: 03, loss: -0.40256\n",
      "epoch: 04, loss: -0.40335\n",
      "epoch: 05, loss: -0.40352\n",
      "epoch: 06, loss: -0.40275\n",
      "epoch: 07, loss: -0.40266\n",
      "epoch: 08, loss: -0.40318\n",
      "epoch: 09, loss: -0.40299\n",
      "After Unsqueezing, feature size= torch.Size([550, 1, 384])\n",
      "type(projected_feature) <class 'torch.Tensor'>\n",
      "projected feature shape= torch.Size([550, 384])\n"
     ]
    },
    {
     "name": "stderr",
     "output_type": "stream",
     "text": [
      " 16%|█▋        | 164/1000 [1:08:05<5:49:13, 25.06s/it]"
     ]
    },
    {
     "name": "stdout",
     "output_type": "stream",
     "text": [
      "eigenvalues shape torch.Size([5]) eigenvectors shape torch.Size([5, 550])\n",
      "164 /home/phdcs2/Hard_Disk/Datasets/Deep-Spectral-Segmentation/data/object-segmentation/ECSSD/features/dino_vits16/0165.pth\n",
      "0165\n",
      "Starting Training\n",
      "epoch: 00, loss: -0.39200\n",
      "epoch: 01, loss: -0.40299\n",
      "epoch: 02, loss: -0.40840\n",
      "epoch: 03, loss: -0.41437\n",
      "epoch: 04, loss: -0.41850\n",
      "epoch: 05, loss: -0.42294\n",
      "epoch: 06, loss: -0.42762\n",
      "epoch: 07, loss: -0.43282\n",
      "epoch: 08, loss: -0.43679\n",
      "epoch: 09, loss: -0.44005\n",
      "After Unsqueezing, feature size= torch.Size([450, 1, 384])\n",
      "type(projected_feature) <class 'torch.Tensor'>\n",
      "projected feature shape= torch.Size([450, 384])\n"
     ]
    },
    {
     "name": "stderr",
     "output_type": "stream",
     "text": [
      " 16%|█▋        | 165/1000 [1:08:29<5:44:44, 24.77s/it]"
     ]
    },
    {
     "name": "stdout",
     "output_type": "stream",
     "text": [
      "eigenvalues shape torch.Size([5]) eigenvectors shape torch.Size([5, 450])\n",
      "165 /home/phdcs2/Hard_Disk/Datasets/Deep-Spectral-Segmentation/data/object-segmentation/ECSSD/features/dino_vits16/0166.pth\n",
      "0166\n",
      "Starting Training\n",
      "epoch: 00, loss: -0.41117\n",
      "epoch: 01, loss: -0.42104\n",
      "epoch: 02, loss: -0.41995\n",
      "epoch: 03, loss: -0.42237\n",
      "epoch: 04, loss: -0.42204\n",
      "epoch: 05, loss: -0.42420\n",
      "epoch: 06, loss: -0.42583\n",
      "epoch: 07, loss: -0.42615\n",
      "epoch: 08, loss: -0.42753\n",
      "epoch: 09, loss: -0.42810\n",
      "After Unsqueezing, feature size= torch.Size([400, 1, 384])\n",
      "type(projected_feature) <class 'torch.Tensor'>\n",
      "projected feature shape= torch.Size([400, 384])\n"
     ]
    },
    {
     "name": "stderr",
     "output_type": "stream",
     "text": [
      " 17%|█▋        | 166/1000 [1:08:49<5:26:50, 23.51s/it]"
     ]
    },
    {
     "name": "stdout",
     "output_type": "stream",
     "text": [
      "eigenvalues shape torch.Size([5]) eigenvectors shape torch.Size([5, 400])\n",
      "166 /home/phdcs2/Hard_Disk/Datasets/Deep-Spectral-Segmentation/data/object-segmentation/ECSSD/features/dino_vits16/0167.pth\n",
      "0167\n",
      "Starting Training\n",
      "epoch: 00, loss: -0.41522\n",
      "epoch: 01, loss: -0.42651\n",
      "epoch: 02, loss: -0.43690\n",
      "epoch: 03, loss: -0.44583\n",
      "epoch: 04, loss: -0.45249\n",
      "epoch: 05, loss: -0.45787\n",
      "epoch: 06, loss: -0.46254\n",
      "epoch: 07, loss: -0.46585\n",
      "epoch: 08, loss: -0.46820\n",
      "epoch: 09, loss: -0.46967\n",
      "After Unsqueezing, feature size= torch.Size([450, 1, 384])\n",
      "type(projected_feature) <class 'torch.Tensor'>\n",
      "projected feature shape= torch.Size([450, 384])\n"
     ]
    },
    {
     "name": "stderr",
     "output_type": "stream",
     "text": [
      " 17%|█▋        | 167/1000 [1:09:14<5:31:10, 23.85s/it]"
     ]
    },
    {
     "name": "stdout",
     "output_type": "stream",
     "text": [
      "eigenvalues shape torch.Size([5]) eigenvectors shape torch.Size([5, 450])\n",
      "167 /home/phdcs2/Hard_Disk/Datasets/Deep-Spectral-Segmentation/data/object-segmentation/ECSSD/features/dino_vits16/0168.pth\n",
      "0168\n",
      "Starting Training\n",
      "epoch: 00, loss: -0.40035\n",
      "epoch: 01, loss: -0.40036\n",
      "epoch: 02, loss: -0.39961\n",
      "epoch: 03, loss: -0.39973\n",
      "epoch: 04, loss: -0.40232\n",
      "epoch: 05, loss: -0.40423\n",
      "epoch: 06, loss: -0.40698\n",
      "epoch: 07, loss: -0.40753\n",
      "epoch: 08, loss: -0.40871\n",
      "epoch: 09, loss: -0.40983\n",
      "After Unsqueezing, feature size= torch.Size([400, 1, 384])\n",
      "type(projected_feature) <class 'torch.Tensor'>\n",
      "projected feature shape= torch.Size([400, 384])\n"
     ]
    },
    {
     "name": "stderr",
     "output_type": "stream",
     "text": [
      " 17%|█▋        | 168/1000 [1:09:35<5:18:47, 22.99s/it]"
     ]
    },
    {
     "name": "stdout",
     "output_type": "stream",
     "text": [
      "eigenvalues shape torch.Size([5]) eigenvectors shape torch.Size([5, 400])\n",
      "168 /home/phdcs2/Hard_Disk/Datasets/Deep-Spectral-Segmentation/data/object-segmentation/ECSSD/features/dino_vits16/0169.pth\n",
      "0169\n",
      "Starting Training\n",
      "epoch: 00, loss: -0.41378\n",
      "epoch: 01, loss: -0.43093\n",
      "epoch: 02, loss: -0.43617\n",
      "epoch: 03, loss: -0.44009\n",
      "epoch: 04, loss: -0.44363\n",
      "epoch: 05, loss: -0.44590\n",
      "epoch: 06, loss: -0.44843\n",
      "epoch: 07, loss: -0.45162\n",
      "epoch: 08, loss: -0.45350\n",
      "epoch: 09, loss: -0.45586\n",
      "After Unsqueezing, feature size= torch.Size([400, 1, 384])\n",
      "type(projected_feature) <class 'torch.Tensor'>\n",
      "projected feature shape= torch.Size([400, 384])\n"
     ]
    },
    {
     "name": "stderr",
     "output_type": "stream",
     "text": [
      " 17%|█▋        | 169/1000 [1:09:56<5:10:10, 22.40s/it]"
     ]
    },
    {
     "name": "stdout",
     "output_type": "stream",
     "text": [
      "eigenvalues shape torch.Size([5]) eigenvectors shape torch.Size([5, 400])\n",
      "169 /home/phdcs2/Hard_Disk/Datasets/Deep-Spectral-Segmentation/data/object-segmentation/ECSSD/features/dino_vits16/0170.pth\n",
      "0170\n",
      "Starting Training\n",
      "epoch: 00, loss: -0.38818\n",
      "epoch: 01, loss: -0.39545\n",
      "epoch: 02, loss: -0.39465\n",
      "epoch: 03, loss: -0.39449\n",
      "epoch: 04, loss: -0.39339\n",
      "epoch: 05, loss: -0.39296\n",
      "epoch: 06, loss: -0.39559\n",
      "epoch: 07, loss: -0.39905\n",
      "epoch: 08, loss: -0.40291\n",
      "epoch: 09, loss: -0.40822\n",
      "After Unsqueezing, feature size= torch.Size([450, 1, 384])\n",
      "type(projected_feature) <class 'torch.Tensor'>\n",
      "projected feature shape= torch.Size([450, 384])\n"
     ]
    },
    {
     "name": "stderr",
     "output_type": "stream",
     "text": [
      " 17%|█▋        | 170/1000 [1:10:25<5:38:24, 24.46s/it]"
     ]
    },
    {
     "name": "stdout",
     "output_type": "stream",
     "text": [
      "eigenvalues shape torch.Size([5]) eigenvectors shape torch.Size([5, 450])\n",
      "170 /home/phdcs2/Hard_Disk/Datasets/Deep-Spectral-Segmentation/data/object-segmentation/ECSSD/features/dino_vits16/0171.pth\n",
      "0171\n",
      "Starting Training\n",
      "epoch: 00, loss: -0.61104\n",
      "epoch: 01, loss: -0.68493\n",
      "epoch: 02, loss: -0.68848\n",
      "epoch: 03, loss: -0.69012\n",
      "epoch: 04, loss: -0.69141\n",
      "epoch: 05, loss: -0.69237\n",
      "epoch: 06, loss: -0.69335\n",
      "epoch: 07, loss: -0.69379\n",
      "epoch: 08, loss: -0.69468\n",
      "epoch: 09, loss: -0.69505\n",
      "After Unsqueezing, feature size= torch.Size([375, 1, 384])\n",
      "type(projected_feature) <class 'torch.Tensor'>\n",
      "projected feature shape= torch.Size([375, 384])\n"
     ]
    },
    {
     "name": "stderr",
     "output_type": "stream",
     "text": [
      " 17%|█▋        | 171/1000 [1:10:47<5:26:25, 23.63s/it]"
     ]
    },
    {
     "name": "stdout",
     "output_type": "stream",
     "text": [
      "eigenvalues shape torch.Size([5]) eigenvectors shape torch.Size([5, 375])\n",
      "171 /home/phdcs2/Hard_Disk/Datasets/Deep-Spectral-Segmentation/data/object-segmentation/ECSSD/features/dino_vits16/0172.pth\n",
      "0172\n",
      "Starting Training\n",
      "epoch: 00, loss: -0.39403\n",
      "epoch: 01, loss: -0.39951\n",
      "epoch: 02, loss: -0.39411\n",
      "epoch: 03, loss: -0.39078\n",
      "epoch: 04, loss: -0.39219\n",
      "epoch: 05, loss: -0.39601\n",
      "epoch: 06, loss: -0.40050\n",
      "epoch: 07, loss: -0.40679\n",
      "epoch: 08, loss: -0.41110\n",
      "epoch: 09, loss: -0.41404\n",
      "After Unsqueezing, feature size= torch.Size([375, 1, 384])\n",
      "type(projected_feature) <class 'torch.Tensor'>\n",
      "projected feature shape= torch.Size([375, 384])\n"
     ]
    },
    {
     "name": "stderr",
     "output_type": "stream",
     "text": [
      " 17%|█▋        | 172/1000 [1:11:07<5:09:09, 22.40s/it]"
     ]
    },
    {
     "name": "stdout",
     "output_type": "stream",
     "text": [
      "eigenvalues shape torch.Size([5]) eigenvectors shape torch.Size([5, 375])\n",
      "172 /home/phdcs2/Hard_Disk/Datasets/Deep-Spectral-Segmentation/data/object-segmentation/ECSSD/features/dino_vits16/0173.pth\n",
      "0173\n",
      "Starting Training\n",
      "epoch: 00, loss: -0.38151\n",
      "epoch: 01, loss: -0.36952\n",
      "epoch: 02, loss: -0.36818\n",
      "epoch: 03, loss: -0.36727\n",
      "epoch: 04, loss: -0.36631\n",
      "epoch: 05, loss: -0.36690\n",
      "epoch: 06, loss: -0.36614\n",
      "epoch: 07, loss: -0.36823\n",
      "epoch: 08, loss: -0.37059\n",
      "epoch: 09, loss: -0.37461\n",
      "After Unsqueezing, feature size= torch.Size([450, 1, 384])\n",
      "type(projected_feature) <class 'torch.Tensor'>\n",
      "projected feature shape= torch.Size([450, 384])\n"
     ]
    },
    {
     "name": "stderr",
     "output_type": "stream",
     "text": [
      " 17%|█▋        | 173/1000 [1:11:30<5:12:14, 22.65s/it]"
     ]
    },
    {
     "name": "stdout",
     "output_type": "stream",
     "text": [
      "eigenvalues shape torch.Size([5]) eigenvectors shape torch.Size([5, 450])\n",
      "173 /home/phdcs2/Hard_Disk/Datasets/Deep-Spectral-Segmentation/data/object-segmentation/ECSSD/features/dino_vits16/0174.pth\n",
      "0174\n",
      "Starting Training\n",
      "epoch: 00, loss: -0.40834\n",
      "epoch: 01, loss: -0.42192\n",
      "epoch: 02, loss: -0.42111\n",
      "epoch: 03, loss: -0.41915\n",
      "epoch: 04, loss: -0.41802\n",
      "epoch: 05, loss: -0.41558\n",
      "epoch: 06, loss: -0.41263\n",
      "epoch: 07, loss: -0.41015\n",
      "epoch: 08, loss: -0.40790\n",
      "epoch: 09, loss: -0.40584\n",
      "After Unsqueezing, feature size= torch.Size([375, 1, 384])\n",
      "type(projected_feature) <class 'torch.Tensor'>\n",
      "projected feature shape= torch.Size([375, 384])\n"
     ]
    },
    {
     "name": "stderr",
     "output_type": "stream",
     "text": [
      " 17%|█▋        | 174/1000 [1:11:52<5:08:30, 22.41s/it]"
     ]
    },
    {
     "name": "stdout",
     "output_type": "stream",
     "text": [
      "eigenvalues shape torch.Size([5]) eigenvectors shape torch.Size([5, 375])\n",
      "174 /home/phdcs2/Hard_Disk/Datasets/Deep-Spectral-Segmentation/data/object-segmentation/ECSSD/features/dino_vits16/0175.pth\n",
      "0175\n",
      "Starting Training\n",
      "epoch: 00, loss: -0.37783\n",
      "epoch: 01, loss: -0.37108\n",
      "epoch: 02, loss: -0.36702\n",
      "epoch: 03, loss: -0.36509\n",
      "epoch: 04, loss: -0.36422\n",
      "epoch: 05, loss: -0.36326\n",
      "epoch: 06, loss: -0.36350\n",
      "epoch: 07, loss: -0.36354\n",
      "epoch: 08, loss: -0.36432\n",
      "epoch: 09, loss: -0.36440\n",
      "After Unsqueezing, feature size= torch.Size([450, 1, 384])\n",
      "type(projected_feature) <class 'torch.Tensor'>\n",
      "projected feature shape= torch.Size([450, 384])\n"
     ]
    },
    {
     "name": "stderr",
     "output_type": "stream",
     "text": [
      " 18%|█▊        | 175/1000 [1:12:15<5:13:50, 22.82s/it]"
     ]
    },
    {
     "name": "stdout",
     "output_type": "stream",
     "text": [
      "eigenvalues shape torch.Size([5]) eigenvectors shape torch.Size([5, 450])\n",
      "175 /home/phdcs2/Hard_Disk/Datasets/Deep-Spectral-Segmentation/data/object-segmentation/ECSSD/features/dino_vits16/0176.pth\n",
      "0176\n",
      "Starting Training\n",
      "epoch: 00, loss: -0.39657\n",
      "epoch: 01, loss: -0.39791\n",
      "epoch: 02, loss: -0.39921\n",
      "epoch: 03, loss: -0.40018\n",
      "epoch: 04, loss: -0.40097\n",
      "epoch: 05, loss: -0.40123\n",
      "epoch: 06, loss: -0.40194\n",
      "epoch: 07, loss: -0.40233\n",
      "epoch: 08, loss: -0.40293\n",
      "epoch: 09, loss: -0.40367\n",
      "After Unsqueezing, feature size= torch.Size([550, 1, 384])\n",
      "type(projected_feature) <class 'torch.Tensor'>\n",
      "projected feature shape= torch.Size([550, 384])\n"
     ]
    },
    {
     "name": "stderr",
     "output_type": "stream",
     "text": [
      " 18%|█▊        | 176/1000 [1:12:44<5:38:09, 24.62s/it]"
     ]
    },
    {
     "name": "stdout",
     "output_type": "stream",
     "text": [
      "eigenvalues shape torch.Size([5]) eigenvectors shape torch.Size([5, 550])\n",
      "176 /home/phdcs2/Hard_Disk/Datasets/Deep-Spectral-Segmentation/data/object-segmentation/ECSSD/features/dino_vits16/0177.pth\n",
      "0177\n",
      "Starting Training\n",
      "epoch: 00, loss: -0.37805\n",
      "epoch: 01, loss: -0.39059\n",
      "epoch: 02, loss: -0.39540\n",
      "epoch: 03, loss: -0.39880\n",
      "epoch: 04, loss: -0.40171\n",
      "epoch: 05, loss: -0.40476\n",
      "epoch: 06, loss: -0.40646\n",
      "epoch: 07, loss: -0.40900\n",
      "epoch: 08, loss: -0.41126\n",
      "epoch: 09, loss: -0.41308\n",
      "After Unsqueezing, feature size= torch.Size([400, 1, 384])\n",
      "type(projected_feature) <class 'torch.Tensor'>\n",
      "projected feature shape= torch.Size([400, 384])\n"
     ]
    },
    {
     "name": "stderr",
     "output_type": "stream",
     "text": [
      " 18%|█▊        | 177/1000 [1:13:09<5:37:18, 24.59s/it]"
     ]
    },
    {
     "name": "stdout",
     "output_type": "stream",
     "text": [
      "eigenvalues shape torch.Size([5]) eigenvectors shape torch.Size([5, 400])\n",
      "177 /home/phdcs2/Hard_Disk/Datasets/Deep-Spectral-Segmentation/data/object-segmentation/ECSSD/features/dino_vits16/0178.pth\n",
      "0178\n",
      "Starting Training\n",
      "epoch: 00, loss: -0.38969\n",
      "epoch: 01, loss: -0.38825\n",
      "epoch: 02, loss: -0.38584\n",
      "epoch: 03, loss: -0.38143\n",
      "epoch: 04, loss: -0.37953\n",
      "epoch: 05, loss: -0.37926\n",
      "epoch: 06, loss: -0.37876\n",
      "epoch: 07, loss: -0.37896\n",
      "epoch: 08, loss: -0.38081\n",
      "epoch: 09, loss: -0.38200\n",
      "After Unsqueezing, feature size= torch.Size([450, 1, 384])\n",
      "type(projected_feature) <class 'torch.Tensor'>\n",
      "projected feature shape= torch.Size([450, 384])\n"
     ]
    },
    {
     "name": "stderr",
     "output_type": "stream",
     "text": [
      " 18%|█▊        | 178/1000 [1:13:36<5:46:20, 25.28s/it]"
     ]
    },
    {
     "name": "stdout",
     "output_type": "stream",
     "text": [
      "eigenvalues shape torch.Size([5]) eigenvectors shape torch.Size([5, 450])\n",
      "178 /home/phdcs2/Hard_Disk/Datasets/Deep-Spectral-Segmentation/data/object-segmentation/ECSSD/features/dino_vits16/0179.pth\n",
      "0179\n",
      "Starting Training\n",
      "epoch: 00, loss: -0.39116\n",
      "epoch: 01, loss: -0.39563\n",
      "epoch: 02, loss: -0.39861\n",
      "epoch: 03, loss: -0.40455\n",
      "epoch: 04, loss: -0.41059\n",
      "epoch: 05, loss: -0.41929\n",
      "epoch: 06, loss: -0.42521\n",
      "epoch: 07, loss: -0.43276\n",
      "epoch: 08, loss: -0.43779\n",
      "epoch: 09, loss: -0.44128\n",
      "After Unsqueezing, feature size= torch.Size([400, 1, 384])\n",
      "type(projected_feature) <class 'torch.Tensor'>\n",
      "projected feature shape= torch.Size([400, 384])\n"
     ]
    },
    {
     "name": "stderr",
     "output_type": "stream",
     "text": [
      " 18%|█▊        | 179/1000 [1:14:00<5:40:13, 24.86s/it]"
     ]
    },
    {
     "name": "stdout",
     "output_type": "stream",
     "text": [
      "eigenvalues shape torch.Size([5]) eigenvectors shape torch.Size([5, 400])\n",
      "179 /home/phdcs2/Hard_Disk/Datasets/Deep-Spectral-Segmentation/data/object-segmentation/ECSSD/features/dino_vits16/0180.pth\n",
      "0180\n",
      "Starting Training\n",
      "epoch: 00, loss: -0.41929\n",
      "epoch: 01, loss: -0.42999\n",
      "epoch: 02, loss: -0.42725\n",
      "epoch: 03, loss: -0.42580\n",
      "epoch: 04, loss: -0.42490\n",
      "epoch: 05, loss: -0.42514\n",
      "epoch: 06, loss: -0.42490\n",
      "epoch: 07, loss: -0.42478\n",
      "epoch: 08, loss: -0.42535\n",
      "epoch: 09, loss: -0.42586\n",
      "After Unsqueezing, feature size= torch.Size([400, 1, 384])\n",
      "type(projected_feature) <class 'torch.Tensor'>\n",
      "projected feature shape= torch.Size([400, 384])\n"
     ]
    },
    {
     "name": "stderr",
     "output_type": "stream",
     "text": [
      " 18%|█▊        | 180/1000 [1:14:22<5:28:52, 24.06s/it]"
     ]
    },
    {
     "name": "stdout",
     "output_type": "stream",
     "text": [
      "eigenvalues shape torch.Size([5]) eigenvectors shape torch.Size([5, 400])\n",
      "180 /home/phdcs2/Hard_Disk/Datasets/Deep-Spectral-Segmentation/data/object-segmentation/ECSSD/features/dino_vits16/0181.pth\n",
      "0181\n",
      "Starting Training\n",
      "epoch: 00, loss: -0.35898\n",
      "epoch: 01, loss: -0.36010\n",
      "epoch: 02, loss: -0.36140\n",
      "epoch: 03, loss: -0.36368\n",
      "epoch: 04, loss: -0.36561\n",
      "epoch: 05, loss: -0.36782\n",
      "epoch: 06, loss: -0.36979\n",
      "epoch: 07, loss: -0.37126\n",
      "epoch: 08, loss: -0.37327\n",
      "epoch: 09, loss: -0.37605\n",
      "After Unsqueezing, feature size= torch.Size([375, 1, 384])\n",
      "type(projected_feature) <class 'torch.Tensor'>\n",
      "projected feature shape= torch.Size([375, 384])\n"
     ]
    },
    {
     "name": "stderr",
     "output_type": "stream",
     "text": [
      " 18%|█▊        | 181/1000 [1:14:44<5:20:43, 23.50s/it]"
     ]
    },
    {
     "name": "stdout",
     "output_type": "stream",
     "text": [
      "eigenvalues shape torch.Size([5]) eigenvectors shape torch.Size([5, 375])\n",
      "181 /home/phdcs2/Hard_Disk/Datasets/Deep-Spectral-Segmentation/data/object-segmentation/ECSSD/features/dino_vits16/0182.pth\n",
      "0182\n",
      "Starting Training\n",
      "epoch: 00, loss: -0.41242\n",
      "epoch: 01, loss: -0.42182\n",
      "epoch: 02, loss: -0.42412\n",
      "epoch: 03, loss: -0.42470\n",
      "epoch: 04, loss: -0.42515\n",
      "epoch: 05, loss: -0.42570\n",
      "epoch: 06, loss: -0.42651\n",
      "epoch: 07, loss: -0.42595\n",
      "epoch: 08, loss: -0.42657\n",
      "epoch: 09, loss: -0.42591\n",
      "After Unsqueezing, feature size= torch.Size([625, 1, 384])\n",
      "type(projected_feature) <class 'torch.Tensor'>\n",
      "projected feature shape= torch.Size([625, 384])\n"
     ]
    },
    {
     "name": "stderr",
     "output_type": "stream",
     "text": [
      " 18%|█▊        | 182/1000 [1:15:17<5:59:29, 26.37s/it]"
     ]
    },
    {
     "name": "stdout",
     "output_type": "stream",
     "text": [
      "eigenvalues shape torch.Size([5]) eigenvectors shape torch.Size([5, 625])\n",
      "182 /home/phdcs2/Hard_Disk/Datasets/Deep-Spectral-Segmentation/data/object-segmentation/ECSSD/features/dino_vits16/0183.pth\n",
      "0183\n",
      "Starting Training\n",
      "epoch: 00, loss: -0.46128\n",
      "epoch: 01, loss: -0.46890\n",
      "epoch: 02, loss: -0.47413\n",
      "epoch: 03, loss: -0.47966\n",
      "epoch: 04, loss: -0.48401\n",
      "epoch: 05, loss: -0.48877\n",
      "epoch: 06, loss: -0.49291\n",
      "epoch: 07, loss: -0.49727\n",
      "epoch: 08, loss: -0.50100\n",
      "epoch: 09, loss: -0.50423\n",
      "After Unsqueezing, feature size= torch.Size([400, 1, 384])\n",
      "type(projected_feature) <class 'torch.Tensor'>\n",
      "projected feature shape= torch.Size([400, 384])\n"
     ]
    },
    {
     "name": "stderr",
     "output_type": "stream",
     "text": [
      " 18%|█▊        | 183/1000 [1:15:39<5:39:59, 24.97s/it]"
     ]
    },
    {
     "name": "stdout",
     "output_type": "stream",
     "text": [
      "eigenvalues shape torch.Size([5]) eigenvectors shape torch.Size([5, 400])\n",
      "183 /home/phdcs2/Hard_Disk/Datasets/Deep-Spectral-Segmentation/data/object-segmentation/ECSSD/features/dino_vits16/0184.pth\n",
      "0184\n",
      "Starting Training\n",
      "epoch: 00, loss: -0.44897\n",
      "epoch: 01, loss: -0.45478\n",
      "epoch: 02, loss: -0.46329\n",
      "epoch: 03, loss: -0.47483\n",
      "epoch: 04, loss: -0.49063\n",
      "epoch: 05, loss: -0.50650\n",
      "epoch: 06, loss: -0.52095\n",
      "epoch: 07, loss: -0.53241\n",
      "epoch: 08, loss: -0.53835\n",
      "epoch: 09, loss: -0.54305\n",
      "After Unsqueezing, feature size= torch.Size([625, 1, 384])\n",
      "type(projected_feature) <class 'torch.Tensor'>\n",
      "projected feature shape= torch.Size([625, 384])\n"
     ]
    },
    {
     "name": "stderr",
     "output_type": "stream",
     "text": [
      " 18%|█▊        | 184/1000 [1:16:14<6:23:37, 28.21s/it]"
     ]
    },
    {
     "name": "stdout",
     "output_type": "stream",
     "text": [
      "eigenvalues shape torch.Size([5]) eigenvectors shape torch.Size([5, 625])\n",
      "184 /home/phdcs2/Hard_Disk/Datasets/Deep-Spectral-Segmentation/data/object-segmentation/ECSSD/features/dino_vits16/0185.pth\n",
      "0185\n",
      "Starting Training\n",
      "epoch: 00, loss: -0.34304\n",
      "epoch: 01, loss: -0.35295\n",
      "epoch: 02, loss: -0.37019\n",
      "epoch: 03, loss: -0.38246\n",
      "epoch: 04, loss: -0.39194\n",
      "epoch: 05, loss: -0.39406\n",
      "epoch: 06, loss: -0.39827\n",
      "epoch: 07, loss: -0.40121\n",
      "epoch: 08, loss: -0.40357\n",
      "epoch: 09, loss: -0.40603\n",
      "After Unsqueezing, feature size= torch.Size([625, 1, 384])\n",
      "type(projected_feature) <class 'torch.Tensor'>\n",
      "projected feature shape= torch.Size([625, 384])\n"
     ]
    },
    {
     "name": "stderr",
     "output_type": "stream",
     "text": [
      " 18%|█▊        | 185/1000 [1:16:53<7:04:34, 31.26s/it]"
     ]
    },
    {
     "name": "stdout",
     "output_type": "stream",
     "text": [
      "eigenvalues shape torch.Size([5]) eigenvectors shape torch.Size([5, 625])\n",
      "185 /home/phdcs2/Hard_Disk/Datasets/Deep-Spectral-Segmentation/data/object-segmentation/ECSSD/features/dino_vits16/0186.pth\n",
      "0186\n",
      "Starting Training\n",
      "epoch: 00, loss: -0.36178\n",
      "epoch: 01, loss: -0.37091\n",
      "epoch: 02, loss: -0.37828\n",
      "epoch: 03, loss: -0.38616\n",
      "epoch: 04, loss: -0.39299\n",
      "epoch: 05, loss: -0.40094\n",
      "epoch: 06, loss: -0.40810\n",
      "epoch: 07, loss: -0.41398\n",
      "epoch: 08, loss: -0.41618\n",
      "epoch: 09, loss: -0.41742\n",
      "After Unsqueezing, feature size= torch.Size([625, 1, 384])\n",
      "type(projected_feature) <class 'torch.Tensor'>\n",
      "projected feature shape= torch.Size([625, 384])\n"
     ]
    },
    {
     "name": "stderr",
     "output_type": "stream",
     "text": [
      " 19%|█▊        | 186/1000 [1:17:27<7:17:52, 32.28s/it]"
     ]
    },
    {
     "name": "stdout",
     "output_type": "stream",
     "text": [
      "eigenvalues shape torch.Size([5]) eigenvectors shape torch.Size([5, 625])\n",
      "186 /home/phdcs2/Hard_Disk/Datasets/Deep-Spectral-Segmentation/data/object-segmentation/ECSSD/features/dino_vits16/0187.pth\n",
      "0187\n",
      "Starting Training\n",
      "epoch: 00, loss: -0.39819\n",
      "epoch: 01, loss: -0.39600\n",
      "epoch: 02, loss: -0.39089\n",
      "epoch: 03, loss: -0.38807\n",
      "epoch: 04, loss: -0.38690\n",
      "epoch: 05, loss: -0.38653\n",
      "epoch: 06, loss: -0.38602\n",
      "epoch: 07, loss: -0.38676\n",
      "epoch: 08, loss: -0.38731\n",
      "epoch: 09, loss: -0.38803\n",
      "After Unsqueezing, feature size= torch.Size([200, 1, 384])\n",
      "type(projected_feature) <class 'torch.Tensor'>\n",
      "projected feature shape= torch.Size([200, 384])\n"
     ]
    },
    {
     "name": "stderr",
     "output_type": "stream",
     "text": [
      " 19%|█▊        | 187/1000 [1:17:38<5:50:02, 25.83s/it]"
     ]
    },
    {
     "name": "stdout",
     "output_type": "stream",
     "text": [
      "eigenvalues shape torch.Size([5]) eigenvectors shape torch.Size([5, 200])\n",
      "187 /home/phdcs2/Hard_Disk/Datasets/Deep-Spectral-Segmentation/data/object-segmentation/ECSSD/features/dino_vits16/0188.pth\n",
      "0188\n",
      "Starting Training\n",
      "epoch: 00, loss: -0.39116\n",
      "epoch: 01, loss: -0.40092\n",
      "epoch: 02, loss: -0.40243\n",
      "epoch: 03, loss: -0.40389\n",
      "epoch: 04, loss: -0.40549\n",
      "epoch: 05, loss: -0.40690\n",
      "epoch: 06, loss: -0.40823\n",
      "epoch: 07, loss: -0.40859\n",
      "epoch: 08, loss: -0.40954\n",
      "epoch: 09, loss: -0.41051\n",
      "After Unsqueezing, feature size= torch.Size([400, 1, 384])\n",
      "type(projected_feature) <class 'torch.Tensor'>\n",
      "projected feature shape= torch.Size([400, 384])\n"
     ]
    },
    {
     "name": "stderr",
     "output_type": "stream",
     "text": [
      " 19%|█▉        | 188/1000 [1:17:59<5:30:55, 24.45s/it]"
     ]
    },
    {
     "name": "stdout",
     "output_type": "stream",
     "text": [
      "eigenvalues shape torch.Size([5]) eigenvectors shape torch.Size([5, 400])\n",
      "188 /home/phdcs2/Hard_Disk/Datasets/Deep-Spectral-Segmentation/data/object-segmentation/ECSSD/features/dino_vits16/0189.pth\n",
      "0189\n",
      "Starting Training\n",
      "epoch: 00, loss: -0.60200\n",
      "epoch: 01, loss: -0.63790\n",
      "epoch: 02, loss: -0.63987\n",
      "epoch: 03, loss: -0.64129\n",
      "epoch: 04, loss: -0.64225\n",
      "epoch: 05, loss: -0.64305\n",
      "epoch: 06, loss: -0.64395\n",
      "epoch: 07, loss: -0.64506\n",
      "epoch: 08, loss: -0.64551\n",
      "epoch: 09, loss: -0.64625\n",
      "After Unsqueezing, feature size= torch.Size([400, 1, 384])\n",
      "type(projected_feature) <class 'torch.Tensor'>\n",
      "projected feature shape= torch.Size([400, 384])\n"
     ]
    },
    {
     "name": "stderr",
     "output_type": "stream",
     "text": [
      " 19%|█▉        | 189/1000 [1:18:24<5:29:35, 24.38s/it]"
     ]
    },
    {
     "name": "stdout",
     "output_type": "stream",
     "text": [
      "eigenvalues shape torch.Size([5]) eigenvectors shape torch.Size([5, 400])\n",
      "189 /home/phdcs2/Hard_Disk/Datasets/Deep-Spectral-Segmentation/data/object-segmentation/ECSSD/features/dino_vits16/0190.pth\n",
      "0190\n",
      "Starting Training\n",
      "epoch: 00, loss: -0.39647\n",
      "epoch: 01, loss: -0.41157\n",
      "epoch: 02, loss: -0.41776\n",
      "epoch: 03, loss: -0.42121\n",
      "epoch: 04, loss: -0.42358\n",
      "epoch: 05, loss: -0.42663\n",
      "epoch: 06, loss: -0.42887\n",
      "epoch: 07, loss: -0.42941\n",
      "epoch: 08, loss: -0.43121\n",
      "epoch: 09, loss: -0.43251\n",
      "After Unsqueezing, feature size= torch.Size([450, 1, 384])\n",
      "type(projected_feature) <class 'torch.Tensor'>\n",
      "projected feature shape= torch.Size([450, 384])\n"
     ]
    },
    {
     "name": "stderr",
     "output_type": "stream",
     "text": [
      " 19%|█▉        | 190/1000 [1:18:50<5:37:37, 25.01s/it]"
     ]
    },
    {
     "name": "stdout",
     "output_type": "stream",
     "text": [
      "eigenvalues shape torch.Size([5]) eigenvectors shape torch.Size([5, 450])\n",
      "190 /home/phdcs2/Hard_Disk/Datasets/Deep-Spectral-Segmentation/data/object-segmentation/ECSSD/features/dino_vits16/0191.pth\n",
      "0191\n",
      "Starting Training\n",
      "epoch: 00, loss: -0.39385\n",
      "epoch: 01, loss: -0.39138\n",
      "epoch: 02, loss: -0.38695\n",
      "epoch: 03, loss: -0.38576\n",
      "epoch: 04, loss: -0.38550\n",
      "epoch: 05, loss: -0.38650\n",
      "epoch: 06, loss: -0.38675\n",
      "epoch: 07, loss: -0.38594\n",
      "epoch: 08, loss: -0.38608\n",
      "epoch: 09, loss: -0.38638\n",
      "After Unsqueezing, feature size= torch.Size([450, 1, 384])\n",
      "type(projected_feature) <class 'torch.Tensor'>\n",
      "projected feature shape= torch.Size([450, 384])\n"
     ]
    },
    {
     "name": "stderr",
     "output_type": "stream",
     "text": [
      " 19%|█▉        | 191/1000 [1:19:15<5:37:07, 25.00s/it]"
     ]
    },
    {
     "name": "stdout",
     "output_type": "stream",
     "text": [
      "eigenvalues shape torch.Size([5]) eigenvectors shape torch.Size([5, 450])\n",
      "191 /home/phdcs2/Hard_Disk/Datasets/Deep-Spectral-Segmentation/data/object-segmentation/ECSSD/features/dino_vits16/0192.pth\n",
      "0192\n",
      "Starting Training\n",
      "epoch: 00, loss: -0.38772\n",
      "epoch: 01, loss: -0.38587\n",
      "epoch: 02, loss: -0.38647\n",
      "epoch: 03, loss: -0.38864\n",
      "epoch: 04, loss: -0.39199\n",
      "epoch: 05, loss: -0.39378\n",
      "epoch: 06, loss: -0.39601\n",
      "epoch: 07, loss: -0.39646\n",
      "epoch: 08, loss: -0.39768\n",
      "epoch: 09, loss: -0.39885\n",
      "After Unsqueezing, feature size= torch.Size([400, 1, 384])\n",
      "type(projected_feature) <class 'torch.Tensor'>\n",
      "projected feature shape= torch.Size([400, 384])\n"
     ]
    },
    {
     "name": "stderr",
     "output_type": "stream",
     "text": [
      " 19%|█▉        | 192/1000 [1:19:38<5:27:18, 24.31s/it]"
     ]
    },
    {
     "name": "stdout",
     "output_type": "stream",
     "text": [
      "eigenvalues shape torch.Size([5]) eigenvectors shape torch.Size([5, 400])\n",
      "192 /home/phdcs2/Hard_Disk/Datasets/Deep-Spectral-Segmentation/data/object-segmentation/ECSSD/features/dino_vits16/0193.pth\n",
      "0193\n",
      "Starting Training\n",
      "epoch: 00, loss: -0.37163\n",
      "epoch: 01, loss: -0.37672\n",
      "epoch: 02, loss: -0.37800\n",
      "epoch: 03, loss: -0.37932\n",
      "epoch: 04, loss: -0.37888\n",
      "epoch: 05, loss: -0.38021\n",
      "epoch: 06, loss: -0.38206\n",
      "epoch: 07, loss: -0.38588\n",
      "epoch: 08, loss: -0.38929\n",
      "epoch: 09, loss: -0.39260\n",
      "After Unsqueezing, feature size= torch.Size([450, 1, 384])\n",
      "type(projected_feature) <class 'torch.Tensor'>\n",
      "projected feature shape= torch.Size([450, 384])\n"
     ]
    },
    {
     "name": "stderr",
     "output_type": "stream",
     "text": [
      " 19%|█▉        | 193/1000 [1:20:04<5:33:06, 24.77s/it]"
     ]
    },
    {
     "name": "stdout",
     "output_type": "stream",
     "text": [
      "eigenvalues shape torch.Size([5]) eigenvectors shape torch.Size([5, 450])\n",
      "193 /home/phdcs2/Hard_Disk/Datasets/Deep-Spectral-Segmentation/data/object-segmentation/ECSSD/features/dino_vits16/0194.pth\n",
      "0194\n",
      "Starting Training\n",
      "epoch: 00, loss: -0.38508\n",
      "epoch: 01, loss: -0.38231\n",
      "epoch: 02, loss: -0.37844\n",
      "epoch: 03, loss: -0.38295\n",
      "epoch: 04, loss: -0.39021\n",
      "epoch: 05, loss: -0.39929\n",
      "epoch: 06, loss: -0.40786\n",
      "epoch: 07, loss: -0.41661\n",
      "epoch: 08, loss: -0.42349\n",
      "epoch: 09, loss: -0.43009\n",
      "After Unsqueezing, feature size= torch.Size([450, 1, 384])\n",
      "type(projected_feature) <class 'torch.Tensor'>\n",
      "projected feature shape= torch.Size([450, 384])\n"
     ]
    },
    {
     "name": "stderr",
     "output_type": "stream",
     "text": [
      " 19%|█▉        | 194/1000 [1:20:29<5:36:32, 25.05s/it]"
     ]
    },
    {
     "name": "stdout",
     "output_type": "stream",
     "text": [
      "eigenvalues shape torch.Size([5]) eigenvectors shape torch.Size([5, 450])\n",
      "194 /home/phdcs2/Hard_Disk/Datasets/Deep-Spectral-Segmentation/data/object-segmentation/ECSSD/features/dino_vits16/0195.pth\n",
      "0195\n",
      "Starting Training\n",
      "epoch: 00, loss: -0.37492\n",
      "epoch: 01, loss: -0.37668\n",
      "epoch: 02, loss: -0.37875\n",
      "epoch: 03, loss: -0.38129\n",
      "epoch: 04, loss: -0.38178\n",
      "epoch: 05, loss: -0.38479\n",
      "epoch: 06, loss: -0.38772\n",
      "epoch: 07, loss: -0.39149\n",
      "epoch: 08, loss: -0.39571\n",
      "epoch: 09, loss: -0.40020\n",
      "After Unsqueezing, feature size= torch.Size([400, 1, 384])\n",
      "type(projected_feature) <class 'torch.Tensor'>\n",
      "projected feature shape= torch.Size([400, 384])\n"
     ]
    },
    {
     "name": "stderr",
     "output_type": "stream",
     "text": [
      " 20%|█▉        | 195/1000 [1:20:52<5:27:54, 24.44s/it]"
     ]
    },
    {
     "name": "stdout",
     "output_type": "stream",
     "text": [
      "eigenvalues shape torch.Size([5]) eigenvectors shape torch.Size([5, 400])\n",
      "195 /home/phdcs2/Hard_Disk/Datasets/Deep-Spectral-Segmentation/data/object-segmentation/ECSSD/features/dino_vits16/0196.pth\n",
      "0196\n",
      "Starting Training\n",
      "epoch: 00, loss: -0.42151\n",
      "epoch: 01, loss: -0.43629\n",
      "epoch: 02, loss: -0.44224\n",
      "epoch: 03, loss: -0.44727\n",
      "epoch: 04, loss: -0.45282\n",
      "epoch: 05, loss: -0.45749\n",
      "epoch: 06, loss: -0.46199\n",
      "epoch: 07, loss: -0.46592\n",
      "epoch: 08, loss: -0.47034\n",
      "epoch: 09, loss: -0.47463\n",
      "After Unsqueezing, feature size= torch.Size([625, 1, 384])\n",
      "type(projected_feature) <class 'torch.Tensor'>\n",
      "projected feature shape= torch.Size([625, 384])\n"
     ]
    },
    {
     "name": "stderr",
     "output_type": "stream",
     "text": [
      " 20%|█▉        | 196/1000 [1:21:26<6:03:22, 27.12s/it]"
     ]
    },
    {
     "name": "stdout",
     "output_type": "stream",
     "text": [
      "eigenvalues shape torch.Size([5]) eigenvectors shape torch.Size([5, 625])\n",
      "196 /home/phdcs2/Hard_Disk/Datasets/Deep-Spectral-Segmentation/data/object-segmentation/ECSSD/features/dino_vits16/0197.pth\n",
      "0197\n",
      "Starting Training\n",
      "epoch: 00, loss: -0.41914\n",
      "epoch: 01, loss: -0.44541\n",
      "epoch: 02, loss: -0.44937\n",
      "epoch: 03, loss: -0.44950\n",
      "epoch: 04, loss: -0.44783\n",
      "epoch: 05, loss: -0.44858\n",
      "epoch: 06, loss: -0.44780\n",
      "epoch: 07, loss: -0.44763\n",
      "epoch: 08, loss: -0.44748\n",
      "epoch: 09, loss: -0.44760\n",
      "After Unsqueezing, feature size= torch.Size([400, 1, 384])\n",
      "type(projected_feature) <class 'torch.Tensor'>\n",
      "projected feature shape= torch.Size([400, 384])\n"
     ]
    },
    {
     "name": "stderr",
     "output_type": "stream",
     "text": [
      " 20%|█▉        | 197/1000 [1:21:45<5:31:36, 24.78s/it]"
     ]
    },
    {
     "name": "stdout",
     "output_type": "stream",
     "text": [
      "eigenvalues shape torch.Size([5]) eigenvectors shape torch.Size([5, 400])\n",
      "197 /home/phdcs2/Hard_Disk/Datasets/Deep-Spectral-Segmentation/data/object-segmentation/ECSSD/features/dino_vits16/0198.pth\n",
      "0198\n",
      "Starting Training\n",
      "epoch: 00, loss: -0.38023\n",
      "epoch: 01, loss: -0.39625\n",
      "epoch: 02, loss: -0.40460\n",
      "epoch: 03, loss: -0.41016\n",
      "epoch: 04, loss: -0.41519\n",
      "epoch: 05, loss: -0.42099\n",
      "epoch: 06, loss: -0.42560\n",
      "epoch: 07, loss: -0.42973\n",
      "epoch: 08, loss: -0.43381\n",
      "epoch: 09, loss: -0.43762\n",
      "After Unsqueezing, feature size= torch.Size([425, 1, 384])\n",
      "type(projected_feature) <class 'torch.Tensor'>\n",
      "projected feature shape= torch.Size([425, 384])\n"
     ]
    },
    {
     "name": "stderr",
     "output_type": "stream",
     "text": [
      " 20%|█▉        | 198/1000 [1:22:08<5:22:59, 24.16s/it]"
     ]
    },
    {
     "name": "stdout",
     "output_type": "stream",
     "text": [
      "eigenvalues shape torch.Size([5]) eigenvectors shape torch.Size([5, 425])\n",
      "198 /home/phdcs2/Hard_Disk/Datasets/Deep-Spectral-Segmentation/data/object-segmentation/ECSSD/features/dino_vits16/0199.pth\n",
      "0199\n",
      "Starting Training\n",
      "epoch: 00, loss: -0.41224\n",
      "epoch: 01, loss: -0.41940\n",
      "epoch: 02, loss: -0.42149\n",
      "epoch: 03, loss: -0.42456\n",
      "epoch: 04, loss: -0.42637\n",
      "epoch: 05, loss: -0.42790\n",
      "epoch: 06, loss: -0.42929\n",
      "epoch: 07, loss: -0.43065\n",
      "epoch: 08, loss: -0.43387\n",
      "epoch: 09, loss: -0.43654\n",
      "After Unsqueezing, feature size= torch.Size([450, 1, 384])\n",
      "type(projected_feature) <class 'torch.Tensor'>\n",
      "projected feature shape= torch.Size([450, 384])\n"
     ]
    },
    {
     "name": "stderr",
     "output_type": "stream",
     "text": [
      " 20%|█▉        | 199/1000 [1:22:32<5:22:08, 24.13s/it]"
     ]
    },
    {
     "name": "stdout",
     "output_type": "stream",
     "text": [
      "eigenvalues shape torch.Size([5]) eigenvectors shape torch.Size([5, 450])\n",
      "199 /home/phdcs2/Hard_Disk/Datasets/Deep-Spectral-Segmentation/data/object-segmentation/ECSSD/features/dino_vits16/0200.pth\n",
      "0200\n",
      "Starting Training\n",
      "epoch: 00, loss: -0.58562\n",
      "epoch: 01, loss: -0.61427\n",
      "epoch: 02, loss: -0.62170\n",
      "epoch: 03, loss: -0.62711\n",
      "epoch: 04, loss: -0.63109\n",
      "epoch: 05, loss: -0.63338\n",
      "epoch: 06, loss: -0.63492\n",
      "epoch: 07, loss: -0.63667\n",
      "epoch: 08, loss: -0.63786\n",
      "epoch: 09, loss: -0.63882\n",
      "After Unsqueezing, feature size= torch.Size([450, 1, 384])\n",
      "type(projected_feature) <class 'torch.Tensor'>\n",
      "projected feature shape= torch.Size([450, 384])\n"
     ]
    },
    {
     "name": "stderr",
     "output_type": "stream",
     "text": [
      " 20%|██        | 200/1000 [1:22:55<5:19:30, 23.96s/it]"
     ]
    },
    {
     "name": "stdout",
     "output_type": "stream",
     "text": [
      "eigenvalues shape torch.Size([5]) eigenvectors shape torch.Size([5, 450])\n",
      "200 /home/phdcs2/Hard_Disk/Datasets/Deep-Spectral-Segmentation/data/object-segmentation/ECSSD/features/dino_vits16/0201.pth\n",
      "0201\n",
      "Starting Training\n",
      "epoch: 00, loss: -0.39386\n",
      "epoch: 01, loss: -0.39951\n",
      "epoch: 02, loss: -0.40199\n",
      "epoch: 03, loss: -0.40280\n",
      "epoch: 04, loss: -0.40560\n",
      "epoch: 05, loss: -0.40790\n",
      "epoch: 06, loss: -0.40864\n",
      "epoch: 07, loss: -0.40864\n",
      "epoch: 08, loss: -0.40973\n",
      "epoch: 09, loss: -0.41043\n",
      "After Unsqueezing, feature size= torch.Size([425, 1, 384])\n",
      "type(projected_feature) <class 'torch.Tensor'>\n",
      "projected feature shape= torch.Size([425, 384])\n"
     ]
    },
    {
     "name": "stderr",
     "output_type": "stream",
     "text": [
      " 20%|██        | 201/1000 [1:23:18<5:15:24, 23.68s/it]"
     ]
    },
    {
     "name": "stdout",
     "output_type": "stream",
     "text": [
      "eigenvalues shape torch.Size([5]) eigenvectors shape torch.Size([5, 425])\n",
      "201 /home/phdcs2/Hard_Disk/Datasets/Deep-Spectral-Segmentation/data/object-segmentation/ECSSD/features/dino_vits16/0202.pth\n",
      "0202\n",
      "Starting Training\n",
      "epoch: 00, loss: -0.36761\n",
      "epoch: 01, loss: -0.38225\n",
      "epoch: 02, loss: -0.39448\n",
      "epoch: 03, loss: -0.40765\n",
      "epoch: 04, loss: -0.42240\n",
      "epoch: 05, loss: -0.44100\n",
      "epoch: 06, loss: -0.46060\n",
      "epoch: 07, loss: -0.47068\n",
      "epoch: 08, loss: -0.47769\n",
      "epoch: 09, loss: -0.48545\n",
      "After Unsqueezing, feature size= torch.Size([400, 1, 384])\n",
      "type(projected_feature) <class 'torch.Tensor'>\n",
      "projected feature shape= torch.Size([400, 384])\n"
     ]
    },
    {
     "name": "stderr",
     "output_type": "stream",
     "text": [
      " 20%|██        | 202/1000 [1:23:39<5:03:40, 22.83s/it]"
     ]
    },
    {
     "name": "stdout",
     "output_type": "stream",
     "text": [
      "eigenvalues shape torch.Size([5]) eigenvectors shape torch.Size([5, 400])\n",
      "202 /home/phdcs2/Hard_Disk/Datasets/Deep-Spectral-Segmentation/data/object-segmentation/ECSSD/features/dino_vits16/0203.pth\n",
      "0203\n",
      "Starting Training\n",
      "epoch: 00, loss: -0.42441\n",
      "epoch: 01, loss: -0.43489\n",
      "epoch: 02, loss: -0.43459\n",
      "epoch: 03, loss: -0.43446\n",
      "epoch: 04, loss: -0.43396\n",
      "epoch: 05, loss: -0.43290\n",
      "epoch: 06, loss: -0.43199\n",
      "epoch: 07, loss: -0.43216\n",
      "epoch: 08, loss: -0.43244\n",
      "epoch: 09, loss: -0.43264\n",
      "After Unsqueezing, feature size= torch.Size([400, 1, 384])\n",
      "type(projected_feature) <class 'torch.Tensor'>\n",
      "projected feature shape= torch.Size([400, 384])\n"
     ]
    },
    {
     "name": "stderr",
     "output_type": "stream",
     "text": [
      " 20%|██        | 203/1000 [1:24:01<4:59:28, 22.55s/it]"
     ]
    },
    {
     "name": "stdout",
     "output_type": "stream",
     "text": [
      "eigenvalues shape torch.Size([5]) eigenvectors shape torch.Size([5, 400])\n",
      "203 /home/phdcs2/Hard_Disk/Datasets/Deep-Spectral-Segmentation/data/object-segmentation/ECSSD/features/dino_vits16/0204.pth\n",
      "0204\n",
      "Starting Training\n",
      "epoch: 00, loss: -0.36050\n",
      "epoch: 01, loss: -0.36576\n",
      "epoch: 02, loss: -0.36703\n",
      "epoch: 03, loss: -0.49081\n",
      "epoch: 04, loss: -0.99893\n",
      "epoch: 05, loss: -0.99888\n",
      "epoch: 06, loss: -0.99889\n",
      "epoch: 07, loss: -0.99887\n",
      "epoch: 08, loss: -0.99885\n",
      "epoch: 09, loss: -0.99891\n",
      "After Unsqueezing, feature size= torch.Size([450, 1, 384])\n",
      "type(projected_feature) <class 'torch.Tensor'>\n",
      "projected feature shape= torch.Size([450, 384])\n"
     ]
    },
    {
     "name": "stderr",
     "output_type": "stream",
     "text": [
      " 20%|██        | 204/1000 [1:24:27<5:10:17, 23.39s/it]"
     ]
    },
    {
     "name": "stdout",
     "output_type": "stream",
     "text": [
      "eigenvalues shape torch.Size([5]) eigenvectors shape torch.Size([5, 450])\n",
      "204 /home/phdcs2/Hard_Disk/Datasets/Deep-Spectral-Segmentation/data/object-segmentation/ECSSD/features/dino_vits16/0205.pth\n",
      "0205\n",
      "Starting Training\n",
      "epoch: 00, loss: -0.37384\n",
      "epoch: 01, loss: -0.37647\n",
      "epoch: 02, loss: -0.37460\n",
      "epoch: 03, loss: -0.37258\n",
      "epoch: 04, loss: -0.37227\n",
      "epoch: 05, loss: -0.37178\n",
      "epoch: 06, loss: -0.37411\n",
      "epoch: 07, loss: -0.37485\n",
      "epoch: 08, loss: -0.38124\n",
      "epoch: 09, loss: -0.38762\n",
      "After Unsqueezing, feature size= torch.Size([450, 1, 384])\n",
      "type(projected_feature) <class 'torch.Tensor'>\n",
      "projected feature shape= torch.Size([450, 384])\n"
     ]
    },
    {
     "name": "stderr",
     "output_type": "stream",
     "text": [
      " 20%|██        | 205/1000 [1:24:49<5:06:08, 23.11s/it]"
     ]
    },
    {
     "name": "stdout",
     "output_type": "stream",
     "text": [
      "eigenvalues shape torch.Size([5]) eigenvectors shape torch.Size([5, 450])\n",
      "205 /home/phdcs2/Hard_Disk/Datasets/Deep-Spectral-Segmentation/data/object-segmentation/ECSSD/features/dino_vits16/0206.pth\n",
      "0206\n",
      "Starting Training\n",
      "epoch: 00, loss: -0.37718\n",
      "epoch: 01, loss: -0.38110\n",
      "epoch: 02, loss: -0.38037\n",
      "epoch: 03, loss: -0.38253\n",
      "epoch: 04, loss: -0.38469\n",
      "epoch: 05, loss: -0.38682\n",
      "epoch: 06, loss: -0.38944\n",
      "epoch: 07, loss: -0.39088\n",
      "epoch: 08, loss: -0.39211\n",
      "epoch: 09, loss: -0.39381\n",
      "After Unsqueezing, feature size= torch.Size([400, 1, 384])\n",
      "type(projected_feature) <class 'torch.Tensor'>\n",
      "projected feature shape= torch.Size([400, 384])\n"
     ]
    },
    {
     "name": "stderr",
     "output_type": "stream",
     "text": [
      " 21%|██        | 206/1000 [1:25:10<4:56:45, 22.43s/it]"
     ]
    },
    {
     "name": "stdout",
     "output_type": "stream",
     "text": [
      "eigenvalues shape torch.Size([5]) eigenvectors shape torch.Size([5, 400])\n",
      "206 /home/phdcs2/Hard_Disk/Datasets/Deep-Spectral-Segmentation/data/object-segmentation/ECSSD/features/dino_vits16/0207.pth\n",
      "0207\n",
      "Starting Training\n",
      "epoch: 00, loss: -0.65125\n",
      "epoch: 01, loss: -0.70374\n",
      "epoch: 02, loss: -0.70466\n",
      "epoch: 03, loss: -0.70501\n",
      "epoch: 04, loss: -0.70524\n",
      "epoch: 05, loss: -0.70562\n",
      "epoch: 06, loss: -0.70597\n",
      "epoch: 07, loss: -0.70611\n",
      "epoch: 08, loss: -0.70631\n",
      "epoch: 09, loss: -0.70676\n",
      "After Unsqueezing, feature size= torch.Size([400, 1, 384])\n",
      "type(projected_feature) <class 'torch.Tensor'>\n",
      "projected feature shape= torch.Size([400, 384])\n"
     ]
    },
    {
     "name": "stderr",
     "output_type": "stream",
     "text": [
      " 21%|██        | 207/1000 [1:25:32<4:56:04, 22.40s/it]"
     ]
    },
    {
     "name": "stdout",
     "output_type": "stream",
     "text": [
      "eigenvalues shape torch.Size([5]) eigenvectors shape torch.Size([5, 400])\n",
      "207 /home/phdcs2/Hard_Disk/Datasets/Deep-Spectral-Segmentation/data/object-segmentation/ECSSD/features/dino_vits16/0208.pth\n",
      "0208\n",
      "Starting Training\n",
      "epoch: 00, loss: -0.38495\n",
      "epoch: 01, loss: -0.39739\n",
      "epoch: 02, loss: -0.40242\n",
      "epoch: 03, loss: -0.40685\n",
      "epoch: 04, loss: -0.41010\n",
      "epoch: 05, loss: -0.41214\n",
      "epoch: 06, loss: -0.41430\n",
      "epoch: 07, loss: -0.41632\n",
      "epoch: 08, loss: -0.41788\n",
      "epoch: 09, loss: -0.41993\n",
      "After Unsqueezing, feature size= torch.Size([450, 1, 384])\n",
      "type(projected_feature) <class 'torch.Tensor'>\n",
      "projected feature shape= torch.Size([450, 384])\n"
     ]
    },
    {
     "name": "stderr",
     "output_type": "stream",
     "text": [
      " 21%|██        | 208/1000 [1:25:55<4:58:05, 22.58s/it]"
     ]
    },
    {
     "name": "stdout",
     "output_type": "stream",
     "text": [
      "eigenvalues shape torch.Size([5]) eigenvectors shape torch.Size([5, 450])\n",
      "208 /home/phdcs2/Hard_Disk/Datasets/Deep-Spectral-Segmentation/data/object-segmentation/ECSSD/features/dino_vits16/0209.pth\n",
      "0209\n",
      "Starting Training\n",
      "epoch: 00, loss: -0.39415\n",
      "epoch: 01, loss: -0.40100\n",
      "epoch: 02, loss: -0.40491\n",
      "epoch: 03, loss: -0.40790\n",
      "epoch: 04, loss: -0.41296\n",
      "epoch: 05, loss: -0.41983\n",
      "epoch: 06, loss: -0.42471\n",
      "epoch: 07, loss: -0.43071\n",
      "epoch: 08, loss: -0.43547\n",
      "epoch: 09, loss: -0.44351\n",
      "After Unsqueezing, feature size= torch.Size([500, 1, 384])\n",
      "type(projected_feature) <class 'torch.Tensor'>\n",
      "projected feature shape= torch.Size([500, 384])\n"
     ]
    },
    {
     "name": "stderr",
     "output_type": "stream",
     "text": [
      " 21%|██        | 209/1000 [1:26:22<5:15:25, 23.93s/it]"
     ]
    },
    {
     "name": "stdout",
     "output_type": "stream",
     "text": [
      "eigenvalues shape torch.Size([5]) eigenvectors shape torch.Size([5, 500])\n",
      "209 /home/phdcs2/Hard_Disk/Datasets/Deep-Spectral-Segmentation/data/object-segmentation/ECSSD/features/dino_vits16/0210.pth\n",
      "0210\n",
      "Starting Training\n",
      "epoch: 00, loss: -0.56828\n",
      "epoch: 01, loss: -0.61144\n",
      "epoch: 02, loss: -0.61265\n",
      "epoch: 03, loss: -0.61450\n",
      "epoch: 04, loss: -0.61584\n",
      "epoch: 05, loss: -0.61635\n",
      "epoch: 06, loss: -0.61743\n",
      "epoch: 07, loss: -0.61799\n",
      "epoch: 08, loss: -0.61871\n",
      "epoch: 09, loss: -0.61950\n",
      "After Unsqueezing, feature size= torch.Size([425, 1, 384])\n",
      "type(projected_feature) <class 'torch.Tensor'>\n",
      "projected feature shape= torch.Size([425, 384])\n"
     ]
    },
    {
     "name": "stderr",
     "output_type": "stream",
     "text": [
      " 21%|██        | 210/1000 [1:26:45<5:11:10, 23.63s/it]"
     ]
    },
    {
     "name": "stdout",
     "output_type": "stream",
     "text": [
      "eigenvalues shape torch.Size([5]) eigenvectors shape torch.Size([5, 425])\n",
      "210 /home/phdcs2/Hard_Disk/Datasets/Deep-Spectral-Segmentation/data/object-segmentation/ECSSD/features/dino_vits16/0211.pth\n",
      "0211\n",
      "Starting Training\n",
      "epoch: 00, loss: -0.36080\n",
      "epoch: 01, loss: -0.36188\n",
      "epoch: 02, loss: -0.36311\n",
      "epoch: 03, loss: -0.36396\n",
      "epoch: 04, loss: -0.36336\n",
      "epoch: 05, loss: -0.36449\n",
      "epoch: 06, loss: -0.36422\n",
      "epoch: 07, loss: -0.36442\n",
      "epoch: 08, loss: -0.36637\n",
      "epoch: 09, loss: -0.36787\n",
      "After Unsqueezing, feature size= torch.Size([500, 1, 384])\n",
      "type(projected_feature) <class 'torch.Tensor'>\n",
      "projected feature shape= torch.Size([500, 384])\n"
     ]
    },
    {
     "name": "stderr",
     "output_type": "stream",
     "text": [
      " 21%|██        | 211/1000 [1:27:12<5:21:57, 24.48s/it]"
     ]
    },
    {
     "name": "stdout",
     "output_type": "stream",
     "text": [
      "eigenvalues shape torch.Size([5]) eigenvectors shape torch.Size([5, 500])\n",
      "211 /home/phdcs2/Hard_Disk/Datasets/Deep-Spectral-Segmentation/data/object-segmentation/ECSSD/features/dino_vits16/0212.pth\n",
      "0212\n",
      "Starting Training\n",
      "epoch: 00, loss: -0.39191\n",
      "epoch: 01, loss: -0.40629\n",
      "epoch: 02, loss: -0.40477\n",
      "epoch: 03, loss: -0.40391\n",
      "epoch: 04, loss: -0.40451\n",
      "epoch: 05, loss: -0.40518\n",
      "epoch: 06, loss: -0.40868\n",
      "epoch: 07, loss: -0.41593\n",
      "epoch: 08, loss: -0.42834\n",
      "epoch: 09, loss: -0.44589\n",
      "After Unsqueezing, feature size= torch.Size([625, 1, 384])\n",
      "type(projected_feature) <class 'torch.Tensor'>\n",
      "projected feature shape= torch.Size([625, 384])\n"
     ]
    },
    {
     "name": "stderr",
     "output_type": "stream",
     "text": [
      " 21%|██        | 212/1000 [1:27:48<6:09:05, 28.10s/it]"
     ]
    },
    {
     "name": "stdout",
     "output_type": "stream",
     "text": [
      "eigenvalues shape torch.Size([5]) eigenvectors shape torch.Size([5, 625])\n",
      "212 /home/phdcs2/Hard_Disk/Datasets/Deep-Spectral-Segmentation/data/object-segmentation/ECSSD/features/dino_vits16/0213.pth\n",
      "0213\n",
      "Starting Training\n",
      "epoch: 00, loss: -0.42968\n",
      "epoch: 01, loss: -0.41887\n",
      "epoch: 02, loss: -0.41973\n",
      "epoch: 03, loss: -0.42111\n",
      "epoch: 04, loss: -0.42247\n",
      "epoch: 05, loss: -0.42491\n",
      "epoch: 06, loss: -0.42649\n",
      "epoch: 07, loss: -0.42806\n",
      "epoch: 08, loss: -0.42936\n",
      "epoch: 09, loss: -0.43059\n",
      "After Unsqueezing, feature size= torch.Size([450, 1, 384])\n",
      "type(projected_feature) <class 'torch.Tensor'>\n",
      "projected feature shape= torch.Size([450, 384])\n"
     ]
    },
    {
     "name": "stderr",
     "output_type": "stream",
     "text": [
      " 21%|██▏       | 213/1000 [1:28:12<5:53:27, 26.95s/it]"
     ]
    },
    {
     "name": "stdout",
     "output_type": "stream",
     "text": [
      "eigenvalues shape torch.Size([5]) eigenvectors shape torch.Size([5, 450])\n",
      "213 /home/phdcs2/Hard_Disk/Datasets/Deep-Spectral-Segmentation/data/object-segmentation/ECSSD/features/dino_vits16/0214.pth\n",
      "0214\n",
      "Starting Training\n",
      "epoch: 00, loss: -0.34110\n",
      "epoch: 01, loss: -0.34240\n",
      "epoch: 02, loss: -0.34643\n",
      "epoch: 03, loss: -0.35136\n",
      "epoch: 04, loss: -0.35719\n",
      "epoch: 05, loss: -0.36366\n",
      "epoch: 06, loss: -0.37159\n",
      "epoch: 07, loss: -0.37767\n",
      "epoch: 08, loss: -0.38459\n",
      "epoch: 09, loss: -0.39190\n",
      "After Unsqueezing, feature size= torch.Size([350, 1, 384])\n",
      "type(projected_feature) <class 'torch.Tensor'>\n",
      "projected feature shape= torch.Size([350, 384])\n"
     ]
    },
    {
     "name": "stderr",
     "output_type": "stream",
     "text": [
      " 21%|██▏       | 214/1000 [1:28:34<5:31:21, 25.29s/it]"
     ]
    },
    {
     "name": "stdout",
     "output_type": "stream",
     "text": [
      "eigenvalues shape torch.Size([5]) eigenvectors shape torch.Size([5, 350])\n",
      "214 /home/phdcs2/Hard_Disk/Datasets/Deep-Spectral-Segmentation/data/object-segmentation/ECSSD/features/dino_vits16/0215.pth\n",
      "0215\n",
      "Starting Training\n",
      "epoch: 00, loss: -0.58050\n",
      "epoch: 01, loss: -0.60526\n",
      "epoch: 02, loss: -0.60911\n",
      "epoch: 03, loss: -0.61293\n",
      "epoch: 04, loss: -0.61499\n",
      "epoch: 05, loss: -0.61812\n",
      "epoch: 06, loss: -0.62043\n",
      "epoch: 07, loss: -0.62273\n",
      "epoch: 08, loss: -0.62472\n",
      "epoch: 09, loss: -0.62661\n",
      "After Unsqueezing, feature size= torch.Size([425, 1, 384])\n",
      "type(projected_feature) <class 'torch.Tensor'>\n",
      "projected feature shape= torch.Size([425, 384])\n"
     ]
    },
    {
     "name": "stderr",
     "output_type": "stream",
     "text": [
      " 22%|██▏       | 215/1000 [1:28:58<5:26:23, 24.95s/it]"
     ]
    },
    {
     "name": "stdout",
     "output_type": "stream",
     "text": [
      "eigenvalues shape torch.Size([5]) eigenvectors shape torch.Size([5, 425])\n",
      "215 /home/phdcs2/Hard_Disk/Datasets/Deep-Spectral-Segmentation/data/object-segmentation/ECSSD/features/dino_vits16/0216.pth\n",
      "0216\n",
      "Starting Training\n",
      "epoch: 00, loss: -0.38412\n",
      "epoch: 01, loss: -0.38906\n",
      "epoch: 02, loss: -0.38866\n",
      "epoch: 03, loss: -0.38845\n",
      "epoch: 04, loss: -0.38843\n",
      "epoch: 05, loss: -0.38864\n",
      "epoch: 06, loss: -0.38793\n",
      "epoch: 07, loss: -0.38805\n",
      "epoch: 08, loss: -0.38776\n",
      "epoch: 09, loss: -0.38791\n",
      "After Unsqueezing, feature size= torch.Size([450, 1, 384])\n",
      "type(projected_feature) <class 'torch.Tensor'>\n",
      "projected feature shape= torch.Size([450, 384])\n"
     ]
    },
    {
     "name": "stderr",
     "output_type": "stream",
     "text": [
      " 22%|██▏       | 216/1000 [1:29:22<5:22:52, 24.71s/it]"
     ]
    },
    {
     "name": "stdout",
     "output_type": "stream",
     "text": [
      "eigenvalues shape torch.Size([5]) eigenvectors shape torch.Size([5, 450])\n",
      "216 /home/phdcs2/Hard_Disk/Datasets/Deep-Spectral-Segmentation/data/object-segmentation/ECSSD/features/dino_vits16/0217.pth\n",
      "0217\n",
      "Starting Training\n",
      "epoch: 00, loss: -0.35780\n",
      "epoch: 01, loss: -0.36735\n",
      "epoch: 02, loss: -0.37630\n",
      "epoch: 03, loss: -0.38331\n",
      "epoch: 04, loss: -0.38852\n",
      "epoch: 05, loss: -0.39264\n",
      "epoch: 06, loss: -0.39626\n",
      "epoch: 07, loss: -0.40085\n",
      "epoch: 08, loss: -0.40557\n",
      "epoch: 09, loss: -0.40845\n",
      "After Unsqueezing, feature size= torch.Size([450, 1, 384])\n",
      "type(projected_feature) <class 'torch.Tensor'>\n",
      "projected feature shape= torch.Size([450, 384])\n"
     ]
    },
    {
     "name": "stderr",
     "output_type": "stream",
     "text": [
      " 22%|██▏       | 217/1000 [1:29:47<5:22:54, 24.74s/it]"
     ]
    },
    {
     "name": "stdout",
     "output_type": "stream",
     "text": [
      "eigenvalues shape torch.Size([5]) eigenvectors shape torch.Size([5, 450])\n",
      "217 /home/phdcs2/Hard_Disk/Datasets/Deep-Spectral-Segmentation/data/object-segmentation/ECSSD/features/dino_vits16/0218.pth\n",
      "0218\n",
      "Starting Training\n",
      "epoch: 00, loss: -0.36105\n",
      "epoch: 01, loss: -0.36579\n",
      "epoch: 02, loss: -0.36946\n",
      "epoch: 03, loss: -0.37136\n",
      "epoch: 04, loss: -0.37377\n",
      "epoch: 05, loss: -0.37500\n",
      "epoch: 06, loss: -0.37672\n",
      "epoch: 07, loss: -0.37755\n",
      "epoch: 08, loss: -0.37866\n",
      "epoch: 09, loss: -0.37907\n",
      "After Unsqueezing, feature size= torch.Size([500, 1, 384])\n",
      "type(projected_feature) <class 'torch.Tensor'>\n",
      "projected feature shape= torch.Size([500, 384])\n"
     ]
    },
    {
     "name": "stderr",
     "output_type": "stream",
     "text": [
      "/home/phdcs2/Hard_Disk/Projects/T2I/deep-spectral-segmentation/venv/lib/python3.8/site-packages/scipy/sparse/linalg/_eigen/arpack/arpack.py:935: LinAlgWarning: Diagonal number 500 is exactly zero. Singular matrix.\n",
      "  self.M_lu = lu_factor(M)\n"
     ]
    },
    {
     "name": "stdout",
     "output_type": "stream",
     "text": [
      " ** On entry to SLASCL parameter number  4 had an illegal value\n",
      " ** On entry to SLASCL parameter number  4 had an illegal value\n"
     ]
    },
    {
     "name": "stderr",
     "output_type": "stream",
     "text": [
      " 22%|██▏       | 218/1000 [1:30:20<5:55:02, 27.24s/it]"
     ]
    },
    {
     "name": "stdout",
     "output_type": "stream",
     "text": [
      "eigenvalues shape torch.Size([5]) eigenvectors shape torch.Size([5, 500])\n",
      "218 /home/phdcs2/Hard_Disk/Datasets/Deep-Spectral-Segmentation/data/object-segmentation/ECSSD/features/dino_vits16/0219.pth\n",
      "0219\n",
      "Starting Training\n",
      "epoch: 00, loss: -0.35558\n",
      "epoch: 01, loss: -0.35961\n",
      "epoch: 02, loss: -0.36385\n",
      "epoch: 03, loss: -0.36943\n",
      "epoch: 04, loss: -0.37222\n",
      "epoch: 05, loss: -0.37739\n",
      "epoch: 06, loss: -0.38069\n",
      "epoch: 07, loss: -0.38417\n",
      "epoch: 08, loss: -0.38839\n",
      "epoch: 09, loss: -0.39012\n",
      "After Unsqueezing, feature size= torch.Size([450, 1, 384])\n",
      "type(projected_feature) <class 'torch.Tensor'>\n",
      "projected feature shape= torch.Size([450, 384])\n"
     ]
    },
    {
     "name": "stderr",
     "output_type": "stream",
     "text": [
      " 22%|██▏       | 219/1000 [1:30:46<5:48:24, 26.77s/it]"
     ]
    },
    {
     "name": "stdout",
     "output_type": "stream",
     "text": [
      "eigenvalues shape torch.Size([5]) eigenvectors shape torch.Size([5, 450])\n",
      "219 /home/phdcs2/Hard_Disk/Datasets/Deep-Spectral-Segmentation/data/object-segmentation/ECSSD/features/dino_vits16/0220.pth\n",
      "0220\n",
      "Starting Training\n",
      "epoch: 00, loss: -0.66291\n",
      "epoch: 01, loss: -0.70413\n",
      "epoch: 02, loss: -0.70620\n",
      "epoch: 03, loss: -0.70749\n",
      "epoch: 04, loss: -0.70776\n",
      "epoch: 05, loss: -0.70801\n",
      "epoch: 06, loss: -0.70823\n",
      "epoch: 07, loss: -0.70866\n",
      "epoch: 08, loss: -0.70832\n",
      "epoch: 09, loss: -0.70885\n",
      "After Unsqueezing, feature size= torch.Size([500, 1, 384])\n",
      "type(projected_feature) <class 'torch.Tensor'>\n",
      "projected feature shape= torch.Size([500, 384])\n"
     ]
    },
    {
     "name": "stderr",
     "output_type": "stream",
     "text": [
      " 22%|██▏       | 220/1000 [1:31:13<5:51:46, 27.06s/it]"
     ]
    },
    {
     "name": "stdout",
     "output_type": "stream",
     "text": [
      "eigenvalues shape torch.Size([5]) eigenvectors shape torch.Size([5, 500])\n",
      "220 /home/phdcs2/Hard_Disk/Datasets/Deep-Spectral-Segmentation/data/object-segmentation/ECSSD/features/dino_vits16/0221.pth\n",
      "0221\n",
      "Starting Training\n",
      "epoch: 00, loss: -0.36599\n",
      "epoch: 01, loss: -0.37526\n",
      "epoch: 02, loss: -0.37790\n",
      "epoch: 03, loss: -0.37810\n",
      "epoch: 04, loss: -0.38021\n",
      "epoch: 05, loss: -0.37943\n",
      "epoch: 06, loss: -0.37913\n",
      "epoch: 07, loss: -0.38134\n",
      "epoch: 08, loss: -0.38086\n",
      "epoch: 09, loss: -0.38220\n",
      "After Unsqueezing, feature size= torch.Size([400, 1, 384])\n",
      "type(projected_feature) <class 'torch.Tensor'>\n",
      "projected feature shape= torch.Size([400, 384])\n"
     ]
    },
    {
     "name": "stderr",
     "output_type": "stream",
     "text": [
      " 22%|██▏       | 221/1000 [1:31:35<5:30:07, 25.43s/it]"
     ]
    },
    {
     "name": "stdout",
     "output_type": "stream",
     "text": [
      "eigenvalues shape torch.Size([5]) eigenvectors shape torch.Size([5, 400])\n",
      "221 /home/phdcs2/Hard_Disk/Datasets/Deep-Spectral-Segmentation/data/object-segmentation/ECSSD/features/dino_vits16/0222.pth\n",
      "0222\n",
      "Starting Training\n",
      "epoch: 00, loss: -0.41004\n",
      "epoch: 01, loss: -0.42716\n",
      "epoch: 02, loss: -0.44273\n",
      "epoch: 03, loss: -0.45665\n",
      "epoch: 04, loss: -0.47054\n",
      "epoch: 05, loss: -0.48130\n",
      "epoch: 06, loss: -0.49085\n",
      "epoch: 07, loss: -0.49889\n",
      "epoch: 08, loss: -0.50396\n",
      "epoch: 09, loss: -0.50806\n",
      "After Unsqueezing, feature size= torch.Size([500, 1, 384])\n",
      "type(projected_feature) <class 'torch.Tensor'>\n",
      "projected feature shape= torch.Size([500, 384])\n"
     ]
    },
    {
     "name": "stderr",
     "output_type": "stream",
     "text": [
      " 22%|██▏       | 222/1000 [1:32:02<5:36:01, 25.91s/it]"
     ]
    },
    {
     "name": "stdout",
     "output_type": "stream",
     "text": [
      "eigenvalues shape torch.Size([5]) eigenvectors shape torch.Size([5, 500])\n",
      "222 /home/phdcs2/Hard_Disk/Datasets/Deep-Spectral-Segmentation/data/object-segmentation/ECSSD/features/dino_vits16/0223.pth\n",
      "0223\n",
      "Starting Training\n",
      "epoch: 00, loss: -0.35548\n",
      "epoch: 01, loss: -0.36418\n",
      "epoch: 02, loss: -0.36583\n",
      "epoch: 03, loss: -0.36828\n",
      "epoch: 04, loss: -0.37002\n",
      "epoch: 05, loss: -0.37164\n",
      "epoch: 06, loss: -0.37192\n",
      "epoch: 07, loss: -0.37340\n",
      "epoch: 08, loss: -0.37518\n",
      "epoch: 09, loss: -0.37541\n",
      "After Unsqueezing, feature size= torch.Size([500, 1, 384])\n",
      "type(projected_feature) <class 'torch.Tensor'>\n",
      "projected feature shape= torch.Size([500, 384])\n"
     ]
    },
    {
     "name": "stderr",
     "output_type": "stream",
     "text": [
      " 22%|██▏       | 223/1000 [1:32:30<5:41:49, 26.40s/it]"
     ]
    },
    {
     "name": "stdout",
     "output_type": "stream",
     "text": [
      "eigenvalues shape torch.Size([5]) eigenvectors shape torch.Size([5, 500])\n",
      "223 /home/phdcs2/Hard_Disk/Datasets/Deep-Spectral-Segmentation/data/object-segmentation/ECSSD/features/dino_vits16/0224.pth\n",
      "0224\n",
      "Starting Training\n",
      "epoch: 00, loss: -0.36270\n",
      "epoch: 01, loss: -0.36279\n",
      "epoch: 02, loss: -0.36429\n",
      "epoch: 03, loss: -0.36641\n",
      "epoch: 04, loss: -0.36801\n",
      "epoch: 05, loss: -0.36944\n",
      "epoch: 06, loss: -0.37168\n",
      "epoch: 07, loss: -0.37333\n",
      "epoch: 08, loss: -0.37492\n",
      "epoch: 09, loss: -0.37691\n",
      "After Unsqueezing, feature size= torch.Size([500, 1, 384])\n",
      "type(projected_feature) <class 'torch.Tensor'>\n",
      "projected feature shape= torch.Size([500, 384])\n"
     ]
    },
    {
     "name": "stderr",
     "output_type": "stream",
     "text": [
      " 22%|██▏       | 224/1000 [1:32:57<5:45:34, 26.72s/it]"
     ]
    },
    {
     "name": "stdout",
     "output_type": "stream",
     "text": [
      "eigenvalues shape torch.Size([5]) eigenvectors shape torch.Size([5, 500])\n",
      "224 /home/phdcs2/Hard_Disk/Datasets/Deep-Spectral-Segmentation/data/object-segmentation/ECSSD/features/dino_vits16/0225.pth\n",
      "0225\n",
      "Starting Training\n",
      "epoch: 00, loss: -0.40162\n",
      "epoch: 01, loss: -0.41489\n",
      "epoch: 02, loss: -0.41562\n",
      "epoch: 03, loss: -0.41492\n",
      "epoch: 04, loss: -0.41411\n",
      "epoch: 05, loss: -0.41355\n",
      "epoch: 06, loss: -0.41431\n",
      "epoch: 07, loss: -0.41447\n",
      "epoch: 08, loss: -0.41474\n",
      "epoch: 09, loss: -0.41587\n",
      "After Unsqueezing, feature size= torch.Size([450, 1, 384])\n",
      "type(projected_feature) <class 'torch.Tensor'>\n",
      "projected feature shape= torch.Size([450, 384])\n"
     ]
    },
    {
     "name": "stderr",
     "output_type": "stream",
     "text": [
      " 22%|██▎       | 225/1000 [1:33:22<5:36:13, 26.03s/it]"
     ]
    },
    {
     "name": "stdout",
     "output_type": "stream",
     "text": [
      "eigenvalues shape torch.Size([5]) eigenvectors shape torch.Size([5, 450])\n",
      "225 /home/phdcs2/Hard_Disk/Datasets/Deep-Spectral-Segmentation/data/object-segmentation/ECSSD/features/dino_vits16/0226.pth\n",
      "0226\n",
      "Starting Training\n",
      "epoch: 00, loss: -0.38255\n",
      "epoch: 01, loss: -0.38612\n",
      "epoch: 02, loss: -0.38654\n",
      "epoch: 03, loss: -0.38559\n",
      "epoch: 04, loss: -0.38491\n",
      "epoch: 05, loss: -0.38619\n",
      "epoch: 06, loss: -0.38713\n",
      "epoch: 07, loss: -0.38657\n",
      "epoch: 08, loss: -0.38625\n",
      "epoch: 09, loss: -0.38726\n",
      "After Unsqueezing, feature size= torch.Size([400, 1, 384])\n",
      "type(projected_feature) <class 'torch.Tensor'>\n",
      "projected feature shape= torch.Size([400, 384])\n"
     ]
    },
    {
     "name": "stderr",
     "output_type": "stream",
     "text": [
      " 23%|██▎       | 226/1000 [1:33:43<5:18:47, 24.71s/it]"
     ]
    },
    {
     "name": "stdout",
     "output_type": "stream",
     "text": [
      "eigenvalues shape torch.Size([5]) eigenvectors shape torch.Size([5, 400])\n",
      "226 /home/phdcs2/Hard_Disk/Datasets/Deep-Spectral-Segmentation/data/object-segmentation/ECSSD/features/dino_vits16/0227.pth\n",
      "0227\n",
      "Starting Training\n",
      "epoch: 00, loss: -0.39983\n",
      "epoch: 01, loss: -0.39503\n",
      "epoch: 02, loss: -0.39093\n",
      "epoch: 03, loss: -0.38774\n",
      "epoch: 04, loss: -0.38415\n",
      "epoch: 05, loss: -0.38248\n",
      "epoch: 06, loss: -0.38247\n",
      "epoch: 07, loss: -0.38324\n",
      "epoch: 08, loss: -0.38367\n",
      "epoch: 09, loss: -0.38366\n",
      "After Unsqueezing, feature size= torch.Size([375, 1, 384])\n",
      "type(projected_feature) <class 'torch.Tensor'>\n",
      "projected feature shape= torch.Size([375, 384])\n"
     ]
    },
    {
     "name": "stderr",
     "output_type": "stream",
     "text": [
      " 23%|██▎       | 227/1000 [1:34:02<4:55:26, 22.93s/it]"
     ]
    },
    {
     "name": "stdout",
     "output_type": "stream",
     "text": [
      "eigenvalues shape torch.Size([5]) eigenvectors shape torch.Size([5, 375])\n",
      "227 /home/phdcs2/Hard_Disk/Datasets/Deep-Spectral-Segmentation/data/object-segmentation/ECSSD/features/dino_vits16/0228.pth\n",
      "0228\n",
      "Starting Training\n",
      "epoch: 00, loss: -0.38721\n",
      "epoch: 01, loss: -0.39160\n",
      "epoch: 02, loss: -0.39148\n",
      "epoch: 03, loss: -0.38869\n",
      "epoch: 04, loss: -0.38542\n",
      "epoch: 05, loss: -0.38352\n",
      "epoch: 06, loss: -0.38174\n",
      "epoch: 07, loss: -0.38089\n",
      "epoch: 08, loss: -0.38058\n",
      "epoch: 09, loss: -0.37925\n",
      "After Unsqueezing, feature size= torch.Size([375, 1, 384])\n",
      "type(projected_feature) <class 'torch.Tensor'>\n",
      "projected feature shape= torch.Size([375, 384])\n"
     ]
    },
    {
     "name": "stderr",
     "output_type": "stream",
     "text": [
      " 23%|██▎       | 228/1000 [1:34:22<4:45:41, 22.20s/it]"
     ]
    },
    {
     "name": "stdout",
     "output_type": "stream",
     "text": [
      "eigenvalues shape torch.Size([5]) eigenvectors shape torch.Size([5, 375])\n",
      "228 /home/phdcs2/Hard_Disk/Datasets/Deep-Spectral-Segmentation/data/object-segmentation/ECSSD/features/dino_vits16/0229.pth\n",
      "0229\n",
      "Starting Training\n",
      "epoch: 00, loss: -0.39099\n",
      "epoch: 01, loss: -0.38717\n",
      "epoch: 02, loss: -0.38469\n",
      "epoch: 03, loss: -0.38464\n",
      "epoch: 04, loss: -0.38538\n",
      "epoch: 05, loss: -0.38525\n",
      "epoch: 06, loss: -0.38509\n",
      "epoch: 07, loss: -0.38568\n",
      "epoch: 08, loss: -0.38622\n",
      "epoch: 09, loss: -0.38683\n",
      "After Unsqueezing, feature size= torch.Size([400, 1, 384])\n",
      "type(projected_feature) <class 'torch.Tensor'>\n",
      "projected feature shape= torch.Size([400, 384])\n"
     ]
    },
    {
     "name": "stderr",
     "output_type": "stream",
     "text": [
      " 23%|██▎       | 229/1000 [1:34:47<4:52:48, 22.79s/it]"
     ]
    },
    {
     "name": "stdout",
     "output_type": "stream",
     "text": [
      "eigenvalues shape torch.Size([5]) eigenvectors shape torch.Size([5, 400])\n",
      "229 /home/phdcs2/Hard_Disk/Datasets/Deep-Spectral-Segmentation/data/object-segmentation/ECSSD/features/dino_vits16/0230.pth\n",
      "0230\n",
      "Starting Training\n",
      "epoch: 00, loss: -0.34400\n",
      "epoch: 01, loss: -0.35691\n",
      "epoch: 02, loss: -0.37171\n",
      "epoch: 03, loss: -0.39232\n",
      "epoch: 04, loss: -0.40985\n",
      "epoch: 05, loss: -0.41589\n",
      "epoch: 06, loss: -0.41740\n",
      "epoch: 07, loss: -0.42374\n",
      "epoch: 08, loss: -0.42551\n",
      "epoch: 09, loss: -0.42816\n",
      "After Unsqueezing, feature size= torch.Size([450, 1, 384])\n",
      "type(projected_feature) <class 'torch.Tensor'>\n",
      "projected feature shape= torch.Size([450, 384])\n"
     ]
    },
    {
     "name": "stderr",
     "output_type": "stream",
     "text": [
      " 23%|██▎       | 230/1000 [1:35:10<4:53:00, 22.83s/it]"
     ]
    },
    {
     "name": "stdout",
     "output_type": "stream",
     "text": [
      "eigenvalues shape torch.Size([5]) eigenvectors shape torch.Size([5, 450])\n",
      "230 /home/phdcs2/Hard_Disk/Datasets/Deep-Spectral-Segmentation/data/object-segmentation/ECSSD/features/dino_vits16/0231.pth\n",
      "0231\n",
      "Starting Training\n",
      "epoch: 00, loss: -0.63434\n",
      "epoch: 01, loss: -0.66674\n",
      "epoch: 02, loss: -0.66851\n",
      "epoch: 03, loss: -0.66928\n",
      "epoch: 04, loss: -0.67005\n",
      "epoch: 05, loss: -0.67097\n",
      "epoch: 06, loss: -0.67117\n",
      "epoch: 07, loss: -0.67186\n",
      "epoch: 08, loss: -0.67236\n",
      "epoch: 09, loss: -0.67305\n",
      "After Unsqueezing, feature size= torch.Size([525, 1, 384])\n",
      "type(projected_feature) <class 'torch.Tensor'>\n",
      "projected feature shape= torch.Size([525, 384])\n"
     ]
    },
    {
     "name": "stderr",
     "output_type": "stream",
     "text": [
      " 23%|██▎       | 231/1000 [1:35:39<5:17:31, 24.77s/it]"
     ]
    },
    {
     "name": "stdout",
     "output_type": "stream",
     "text": [
      "eigenvalues shape torch.Size([5]) eigenvectors shape torch.Size([5, 525])\n",
      "231 /home/phdcs2/Hard_Disk/Datasets/Deep-Spectral-Segmentation/data/object-segmentation/ECSSD/features/dino_vits16/0232.pth\n",
      "0232\n",
      "Starting Training\n",
      "epoch: 00, loss: -0.36662\n",
      "epoch: 01, loss: -0.37052\n",
      "epoch: 02, loss: -0.37635\n",
      "epoch: 03, loss: -0.38044\n",
      "epoch: 04, loss: -0.38353\n",
      "epoch: 05, loss: -0.38697\n",
      "epoch: 06, loss: -0.38930\n",
      "epoch: 07, loss: -0.39171\n",
      "epoch: 08, loss: -0.39386\n",
      "epoch: 09, loss: -0.39463\n",
      "After Unsqueezing, feature size= torch.Size([500, 1, 384])\n",
      "type(projected_feature) <class 'torch.Tensor'>\n",
      "projected feature shape= torch.Size([500, 384])\n"
     ]
    },
    {
     "name": "stderr",
     "output_type": "stream",
     "text": [
      " 23%|██▎       | 232/1000 [1:36:10<5:41:50, 26.71s/it]"
     ]
    },
    {
     "name": "stdout",
     "output_type": "stream",
     "text": [
      "eigenvalues shape torch.Size([5]) eigenvectors shape torch.Size([5, 500])\n",
      "232 /home/phdcs2/Hard_Disk/Datasets/Deep-Spectral-Segmentation/data/object-segmentation/ECSSD/features/dino_vits16/0233.pth\n",
      "0233\n",
      "Starting Training\n",
      "epoch: 00, loss: -0.34615\n",
      "epoch: 01, loss: -0.36621\n",
      "epoch: 02, loss: -0.40056\n",
      "epoch: 03, loss: -0.42249\n",
      "epoch: 04, loss: -0.43137\n",
      "epoch: 05, loss: -0.43588\n",
      "epoch: 06, loss: -0.43959\n",
      "epoch: 07, loss: -0.44138\n",
      "epoch: 08, loss: -0.44799\n",
      "epoch: 09, loss: -0.45034\n",
      "After Unsqueezing, feature size= torch.Size([475, 1, 384])\n",
      "type(projected_feature) <class 'torch.Tensor'>\n",
      "projected feature shape= torch.Size([475, 384])\n"
     ]
    },
    {
     "name": "stderr",
     "output_type": "stream",
     "text": [
      " 23%|██▎       | 233/1000 [1:36:41<5:59:21, 28.11s/it]"
     ]
    },
    {
     "name": "stdout",
     "output_type": "stream",
     "text": [
      "eigenvalues shape torch.Size([5]) eigenvectors shape torch.Size([5, 475])\n",
      "233 /home/phdcs2/Hard_Disk/Datasets/Deep-Spectral-Segmentation/data/object-segmentation/ECSSD/features/dino_vits16/0234.pth\n",
      "0234\n",
      "Starting Training\n",
      "epoch: 00, loss: -0.38493\n",
      "epoch: 01, loss: -0.39470\n",
      "epoch: 02, loss: -0.39595\n",
      "epoch: 03, loss: -0.39830\n",
      "epoch: 04, loss: -0.39718\n",
      "epoch: 05, loss: -0.39540\n",
      "epoch: 06, loss: -0.39354\n",
      "epoch: 07, loss: -0.39014\n",
      "epoch: 08, loss: -0.38613\n",
      "epoch: 09, loss: -0.38137\n",
      "After Unsqueezing, feature size= torch.Size([400, 1, 384])\n",
      "type(projected_feature) <class 'torch.Tensor'>\n",
      "projected feature shape= torch.Size([400, 384])\n"
     ]
    },
    {
     "name": "stderr",
     "output_type": "stream",
     "text": [
      " 23%|██▎       | 234/1000 [1:37:06<5:43:33, 26.91s/it]"
     ]
    },
    {
     "name": "stdout",
     "output_type": "stream",
     "text": [
      "eigenvalues shape torch.Size([5]) eigenvectors shape torch.Size([5, 400])\n",
      "234 /home/phdcs2/Hard_Disk/Datasets/Deep-Spectral-Segmentation/data/object-segmentation/ECSSD/features/dino_vits16/0235.pth\n",
      "0235\n",
      "Starting Training\n",
      "epoch: 00, loss: -0.57767\n",
      "epoch: 01, loss: -0.60908\n",
      "epoch: 02, loss: -0.61179\n",
      "epoch: 03, loss: -0.61418\n",
      "epoch: 04, loss: -0.61578\n",
      "epoch: 05, loss: -0.61669\n",
      "epoch: 06, loss: -0.61794\n",
      "epoch: 07, loss: -0.61909\n",
      "epoch: 08, loss: -0.61981\n",
      "epoch: 09, loss: -0.62047\n",
      "After Unsqueezing, feature size= torch.Size([400, 1, 384])\n",
      "type(projected_feature) <class 'torch.Tensor'>\n",
      "projected feature shape= torch.Size([400, 384])\n"
     ]
    },
    {
     "name": "stderr",
     "output_type": "stream",
     "text": [
      " 24%|██▎       | 235/1000 [1:37:29<5:30:34, 25.93s/it]"
     ]
    },
    {
     "name": "stdout",
     "output_type": "stream",
     "text": [
      "eigenvalues shape torch.Size([5]) eigenvectors shape torch.Size([5, 400])\n",
      "235 /home/phdcs2/Hard_Disk/Datasets/Deep-Spectral-Segmentation/data/object-segmentation/ECSSD/features/dino_vits16/0236.pth\n",
      "0236\n",
      "Starting Training\n",
      "epoch: 00, loss: -0.40061\n",
      "epoch: 01, loss: -0.40515\n",
      "epoch: 02, loss: -0.40588\n",
      "epoch: 03, loss: -0.40975\n",
      "epoch: 04, loss: -0.41257\n",
      "epoch: 05, loss: -0.41570\n",
      "epoch: 06, loss: -0.41852\n",
      "epoch: 07, loss: -0.42239\n",
      "epoch: 08, loss: -0.42600\n",
      "epoch: 09, loss: -0.43036\n",
      "After Unsqueezing, feature size= torch.Size([400, 1, 384])\n",
      "type(projected_feature) <class 'torch.Tensor'>\n",
      "projected feature shape= torch.Size([400, 384])\n"
     ]
    },
    {
     "name": "stderr",
     "output_type": "stream",
     "text": [
      " 24%|██▎       | 236/1000 [1:37:54<5:25:14, 25.54s/it]"
     ]
    },
    {
     "name": "stdout",
     "output_type": "stream",
     "text": [
      "eigenvalues shape torch.Size([5]) eigenvectors shape torch.Size([5, 400])\n",
      "236 /home/phdcs2/Hard_Disk/Datasets/Deep-Spectral-Segmentation/data/object-segmentation/ECSSD/features/dino_vits16/0237.pth\n",
      "0237\n",
      "Starting Training\n",
      "epoch: 00, loss: -0.34576\n",
      "epoch: 01, loss: -0.35077\n",
      "epoch: 02, loss: -0.36117\n",
      "epoch: 03, loss: -0.37134\n",
      "epoch: 04, loss: -0.38007\n",
      "epoch: 05, loss: -0.38917\n",
      "epoch: 06, loss: -0.39647\n",
      "epoch: 07, loss: -0.40343\n",
      "epoch: 08, loss: -0.40859\n",
      "epoch: 09, loss: -0.41242\n",
      "After Unsqueezing, feature size= torch.Size([400, 1, 384])\n",
      "type(projected_feature) <class 'torch.Tensor'>\n",
      "projected feature shape= torch.Size([400, 384])\n"
     ]
    },
    {
     "name": "stderr",
     "output_type": "stream",
     "text": [
      " 24%|██▎       | 237/1000 [1:38:16<5:11:51, 24.52s/it]"
     ]
    },
    {
     "name": "stdout",
     "output_type": "stream",
     "text": [
      "eigenvalues shape torch.Size([5]) eigenvectors shape torch.Size([5, 400])\n",
      "237 /home/phdcs2/Hard_Disk/Datasets/Deep-Spectral-Segmentation/data/object-segmentation/ECSSD/features/dino_vits16/0238.pth\n",
      "0238\n",
      "Starting Training\n",
      "epoch: 00, loss: -0.39531\n",
      "epoch: 01, loss: -0.41220\n",
      "epoch: 02, loss: -0.41502\n",
      "epoch: 03, loss: -0.41702\n",
      "epoch: 04, loss: -0.41716\n",
      "epoch: 05, loss: -0.41913\n",
      "epoch: 06, loss: -0.41972\n",
      "epoch: 07, loss: -0.42119\n",
      "epoch: 08, loss: -0.42257\n",
      "epoch: 09, loss: -0.42316\n",
      "After Unsqueezing, feature size= torch.Size([400, 1, 384])\n",
      "type(projected_feature) <class 'torch.Tensor'>\n",
      "projected feature shape= torch.Size([400, 384])\n"
     ]
    },
    {
     "name": "stderr",
     "output_type": "stream",
     "text": [
      " 24%|██▍       | 238/1000 [1:38:41<5:14:18, 24.75s/it]"
     ]
    },
    {
     "name": "stdout",
     "output_type": "stream",
     "text": [
      "eigenvalues shape torch.Size([5]) eigenvectors shape torch.Size([5, 400])\n",
      "238 /home/phdcs2/Hard_Disk/Datasets/Deep-Spectral-Segmentation/data/object-segmentation/ECSSD/features/dino_vits16/0239.pth\n",
      "0239\n",
      "Starting Training\n",
      "epoch: 00, loss: -0.38788\n",
      "epoch: 01, loss: -0.39633\n",
      "epoch: 02, loss: -0.40139\n",
      "epoch: 03, loss: -0.40718\n",
      "epoch: 04, loss: -0.41115\n",
      "epoch: 05, loss: -0.41789\n",
      "epoch: 06, loss: -0.42183\n",
      "epoch: 07, loss: -0.42649\n",
      "epoch: 08, loss: -0.42986\n",
      "epoch: 09, loss: -0.43293\n",
      "After Unsqueezing, feature size= torch.Size([400, 1, 384])\n",
      "type(projected_feature) <class 'torch.Tensor'>\n",
      "projected feature shape= torch.Size([400, 384])\n"
     ]
    },
    {
     "name": "stderr",
     "output_type": "stream",
     "text": [
      " 24%|██▍       | 239/1000 [1:39:07<5:15:44, 24.89s/it]"
     ]
    },
    {
     "name": "stdout",
     "output_type": "stream",
     "text": [
      "eigenvalues shape torch.Size([5]) eigenvectors shape torch.Size([5, 400])\n",
      "239 /home/phdcs2/Hard_Disk/Datasets/Deep-Spectral-Segmentation/data/object-segmentation/ECSSD/features/dino_vits16/0240.pth\n",
      "0240\n",
      "Starting Training\n",
      "epoch: 00, loss: -0.40956\n",
      "epoch: 01, loss: -0.41923\n",
      "epoch: 02, loss: -0.42275\n",
      "epoch: 03, loss: -0.42497\n",
      "epoch: 04, loss: -0.42894\n",
      "epoch: 05, loss: -0.43352\n",
      "epoch: 06, loss: -0.43921\n",
      "epoch: 07, loss: -0.44336\n",
      "epoch: 08, loss: -0.44767\n",
      "epoch: 09, loss: -0.45175\n",
      "After Unsqueezing, feature size= torch.Size([350, 1, 384])\n",
      "type(projected_feature) <class 'torch.Tensor'>\n",
      "projected feature shape= torch.Size([350, 384])\n"
     ]
    },
    {
     "name": "stderr",
     "output_type": "stream",
     "text": [
      " 24%|██▍       | 240/1000 [1:39:25<4:52:37, 23.10s/it]"
     ]
    },
    {
     "name": "stdout",
     "output_type": "stream",
     "text": [
      "eigenvalues shape torch.Size([5]) eigenvectors shape torch.Size([5, 350])\n",
      "240 /home/phdcs2/Hard_Disk/Datasets/Deep-Spectral-Segmentation/data/object-segmentation/ECSSD/features/dino_vits16/0241.pth\n",
      "0241\n",
      "Starting Training\n",
      "epoch: 00, loss: -0.62888\n",
      "epoch: 01, loss: -0.68638\n",
      "epoch: 02, loss: -0.68832\n",
      "epoch: 03, loss: -0.68925\n",
      "epoch: 04, loss: -0.68970\n",
      "epoch: 05, loss: -0.69038\n",
      "epoch: 06, loss: -0.69116\n",
      "epoch: 07, loss: -0.69144\n",
      "epoch: 08, loss: -0.69130\n",
      "epoch: 09, loss: -0.69238\n",
      "After Unsqueezing, feature size= torch.Size([400, 1, 384])\n",
      "type(projected_feature) <class 'torch.Tensor'>\n",
      "projected feature shape= torch.Size([400, 384])\n"
     ]
    },
    {
     "name": "stderr",
     "output_type": "stream",
     "text": [
      " 24%|██▍       | 241/1000 [1:39:47<4:47:23, 22.72s/it]"
     ]
    },
    {
     "name": "stdout",
     "output_type": "stream",
     "text": [
      "eigenvalues shape torch.Size([5]) eigenvectors shape torch.Size([5, 400])\n",
      "241 /home/phdcs2/Hard_Disk/Datasets/Deep-Spectral-Segmentation/data/object-segmentation/ECSSD/features/dino_vits16/0242.pth\n",
      "0242\n",
      "Starting Training\n",
      "epoch: 00, loss: -0.38105\n",
      "epoch: 01, loss: -0.38944\n",
      "epoch: 02, loss: -0.39157\n",
      "epoch: 03, loss: -0.39381\n",
      "epoch: 04, loss: -0.39653\n",
      "epoch: 05, loss: -0.39883\n",
      "epoch: 06, loss: -0.40072\n",
      "epoch: 07, loss: -0.40217\n",
      "epoch: 08, loss: -0.40387\n",
      "epoch: 09, loss: -0.40523\n",
      "After Unsqueezing, feature size= torch.Size([325, 1, 384])\n",
      "type(projected_feature) <class 'torch.Tensor'>\n",
      "projected feature shape= torch.Size([325, 384])\n"
     ]
    },
    {
     "name": "stderr",
     "output_type": "stream",
     "text": [
      " 24%|██▍       | 242/1000 [1:40:07<4:35:20, 21.79s/it]"
     ]
    },
    {
     "name": "stdout",
     "output_type": "stream",
     "text": [
      "eigenvalues shape torch.Size([5]) eigenvectors shape torch.Size([5, 325])\n",
      "242 /home/phdcs2/Hard_Disk/Datasets/Deep-Spectral-Segmentation/data/object-segmentation/ECSSD/features/dino_vits16/0243.pth\n",
      "0243\n",
      "Starting Training\n",
      "epoch: 00, loss: -0.39273\n",
      "epoch: 01, loss: -0.40042\n",
      "epoch: 02, loss: -0.39948\n",
      "epoch: 03, loss: -0.39945\n",
      "epoch: 04, loss: -0.39857\n",
      "epoch: 05, loss: -0.39796\n",
      "epoch: 06, loss: -0.39766\n",
      "epoch: 07, loss: -0.39787\n",
      "epoch: 08, loss: -0.39712\n",
      "epoch: 09, loss: -0.39784\n",
      "After Unsqueezing, feature size= torch.Size([400, 1, 384])\n",
      "type(projected_feature) <class 'torch.Tensor'>\n",
      "projected feature shape= torch.Size([400, 384])\n"
     ]
    },
    {
     "name": "stderr",
     "output_type": "stream",
     "text": [
      " 24%|██▍       | 243/1000 [1:40:34<4:53:10, 23.24s/it]"
     ]
    },
    {
     "name": "stdout",
     "output_type": "stream",
     "text": [
      "eigenvalues shape torch.Size([5]) eigenvectors shape torch.Size([5, 400])\n",
      "243 /home/phdcs2/Hard_Disk/Datasets/Deep-Spectral-Segmentation/data/object-segmentation/ECSSD/features/dino_vits16/0244.pth\n",
      "0244\n",
      "Starting Training\n",
      "epoch: 00, loss: -0.44145\n",
      "epoch: 01, loss: -0.45127\n",
      "epoch: 02, loss: -0.45220\n",
      "epoch: 03, loss: -0.45551\n",
      "epoch: 04, loss: -0.45568\n",
      "epoch: 05, loss: -0.45725\n",
      "epoch: 06, loss: -0.45838\n",
      "epoch: 07, loss: -0.45881\n",
      "epoch: 08, loss: -0.45751\n",
      "epoch: 09, loss: -0.45922\n",
      "After Unsqueezing, feature size= torch.Size([400, 1, 384])\n",
      "type(projected_feature) <class 'torch.Tensor'>\n",
      "projected feature shape= torch.Size([400, 384])\n"
     ]
    },
    {
     "name": "stderr",
     "output_type": "stream",
     "text": [
      " 24%|██▍       | 244/1000 [1:40:53<4:37:00, 21.98s/it]"
     ]
    },
    {
     "name": "stdout",
     "output_type": "stream",
     "text": [
      "eigenvalues shape torch.Size([5]) eigenvectors shape torch.Size([5, 400])\n",
      "244 /home/phdcs2/Hard_Disk/Datasets/Deep-Spectral-Segmentation/data/object-segmentation/ECSSD/features/dino_vits16/0245.pth\n",
      "0245\n",
      "Starting Training\n",
      "epoch: 00, loss: -0.40120\n",
      "epoch: 01, loss: -0.41980\n",
      "epoch: 02, loss: -0.41812\n",
      "epoch: 03, loss: -0.41188\n",
      "epoch: 04, loss: -0.40555\n",
      "epoch: 05, loss: -0.40278\n",
      "epoch: 06, loss: -0.40457\n",
      "epoch: 07, loss: -0.40901\n",
      "epoch: 08, loss: -0.41289\n",
      "epoch: 09, loss: -0.41719\n",
      "After Unsqueezing, feature size= torch.Size([400, 1, 384])\n",
      "type(projected_feature) <class 'torch.Tensor'>\n",
      "projected feature shape= torch.Size([400, 384])\n"
     ]
    },
    {
     "name": "stderr",
     "output_type": "stream",
     "text": [
      " 24%|██▍       | 245/1000 [1:41:19<4:52:58, 23.28s/it]"
     ]
    },
    {
     "name": "stdout",
     "output_type": "stream",
     "text": [
      "eigenvalues shape torch.Size([5]) eigenvectors shape torch.Size([5, 400])\n",
      "245 /home/phdcs2/Hard_Disk/Datasets/Deep-Spectral-Segmentation/data/object-segmentation/ECSSD/features/dino_vits16/0246.pth\n",
      "0246\n",
      "Starting Training\n",
      "epoch: 00, loss: -0.62013\n",
      "epoch: 01, loss: -0.66271\n",
      "epoch: 02, loss: -0.66498\n",
      "epoch: 03, loss: -0.66600\n",
      "epoch: 04, loss: -0.66717\n",
      "epoch: 05, loss: -0.66781\n",
      "epoch: 06, loss: -0.66889\n",
      "epoch: 07, loss: -0.66968\n",
      "epoch: 08, loss: -0.66996\n",
      "epoch: 09, loss: -0.67079\n",
      "After Unsqueezing, feature size= torch.Size([400, 1, 384])\n",
      "type(projected_feature) <class 'torch.Tensor'>\n",
      "projected feature shape= torch.Size([400, 384])\n"
     ]
    },
    {
     "name": "stderr",
     "output_type": "stream",
     "text": [
      " 25%|██▍       | 246/1000 [1:41:42<4:51:38, 23.21s/it]"
     ]
    },
    {
     "name": "stdout",
     "output_type": "stream",
     "text": [
      "eigenvalues shape torch.Size([5]) eigenvectors shape torch.Size([5, 400])\n",
      "246 /home/phdcs2/Hard_Disk/Datasets/Deep-Spectral-Segmentation/data/object-segmentation/ECSSD/features/dino_vits16/0247.pth\n",
      "0247\n",
      "Starting Training\n",
      "epoch: 00, loss: -0.64093\n",
      "epoch: 01, loss: -0.68841\n",
      "epoch: 02, loss: -0.69008\n",
      "epoch: 03, loss: -0.69070\n",
      "epoch: 04, loss: -0.69147\n",
      "epoch: 05, loss: -0.69207\n",
      "epoch: 06, loss: -0.69245\n",
      "epoch: 07, loss: -0.69287\n",
      "epoch: 08, loss: -0.69327\n",
      "epoch: 09, loss: -0.69346\n",
      "After Unsqueezing, feature size= torch.Size([400, 1, 384])\n",
      "type(projected_feature) <class 'torch.Tensor'>\n",
      "projected feature shape= torch.Size([400, 384])\n"
     ]
    },
    {
     "name": "stderr",
     "output_type": "stream",
     "text": [
      " 25%|██▍       | 247/1000 [1:42:04<4:47:47, 22.93s/it]"
     ]
    },
    {
     "name": "stdout",
     "output_type": "stream",
     "text": [
      "eigenvalues shape torch.Size([5]) eigenvectors shape torch.Size([5, 400])\n",
      "247 /home/phdcs2/Hard_Disk/Datasets/Deep-Spectral-Segmentation/data/object-segmentation/ECSSD/features/dino_vits16/0248.pth\n",
      "0248\n",
      "Starting Training\n",
      "epoch: 00, loss: -0.35965\n",
      "epoch: 01, loss: -0.35618\n",
      "epoch: 02, loss: -0.36005\n",
      "epoch: 03, loss: -0.36450\n",
      "epoch: 04, loss: -0.37117\n",
      "epoch: 05, loss: -0.37781\n",
      "epoch: 06, loss: -0.38550\n",
      "epoch: 07, loss: -0.39148\n",
      "epoch: 08, loss: -0.39750\n",
      "epoch: 09, loss: -0.40416\n",
      "After Unsqueezing, feature size= torch.Size([450, 1, 384])\n",
      "type(projected_feature) <class 'torch.Tensor'>\n",
      "projected feature shape= torch.Size([450, 384])\n"
     ]
    },
    {
     "name": "stderr",
     "output_type": "stream",
     "text": [
      " 25%|██▍       | 248/1000 [1:42:29<4:54:48, 23.52s/it]"
     ]
    },
    {
     "name": "stdout",
     "output_type": "stream",
     "text": [
      "eigenvalues shape torch.Size([5]) eigenvectors shape torch.Size([5, 450])\n",
      "248 /home/phdcs2/Hard_Disk/Datasets/Deep-Spectral-Segmentation/data/object-segmentation/ECSSD/features/dino_vits16/0249.pth\n",
      "0249\n",
      "Starting Training\n",
      "epoch: 00, loss: -0.40396\n",
      "epoch: 01, loss: -0.41570\n",
      "epoch: 02, loss: -0.41686\n",
      "epoch: 03, loss: -0.41947\n",
      "epoch: 04, loss: -0.42219\n",
      "epoch: 05, loss: -0.42419\n",
      "epoch: 06, loss: -0.42751\n",
      "epoch: 07, loss: -0.43070\n",
      "epoch: 08, loss: -0.43334\n",
      "epoch: 09, loss: -0.43435\n",
      "After Unsqueezing, feature size= torch.Size([425, 1, 384])\n",
      "type(projected_feature) <class 'torch.Tensor'>\n",
      "projected feature shape= torch.Size([425, 384])\n"
     ]
    },
    {
     "name": "stderr",
     "output_type": "stream",
     "text": [
      " 25%|██▍       | 249/1000 [1:42:53<4:54:07, 23.50s/it]"
     ]
    },
    {
     "name": "stdout",
     "output_type": "stream",
     "text": [
      "eigenvalues shape torch.Size([5]) eigenvectors shape torch.Size([5, 425])\n",
      "249 /home/phdcs2/Hard_Disk/Datasets/Deep-Spectral-Segmentation/data/object-segmentation/ECSSD/features/dino_vits16/0250.pth\n",
      "0250\n",
      "Starting Training\n",
      "epoch: 00, loss: -0.38977\n",
      "epoch: 01, loss: -0.40297\n",
      "epoch: 02, loss: -0.40571\n",
      "epoch: 03, loss: -0.40679\n",
      "epoch: 04, loss: -0.40724\n",
      "epoch: 05, loss: -0.40737\n",
      "epoch: 06, loss: -0.40714\n",
      "epoch: 07, loss: -0.40780\n",
      "epoch: 08, loss: -0.40704\n",
      "epoch: 09, loss: -0.40566\n",
      "After Unsqueezing, feature size= torch.Size([400, 1, 384])\n",
      "type(projected_feature) <class 'torch.Tensor'>\n",
      "projected feature shape= torch.Size([400, 384])\n"
     ]
    },
    {
     "name": "stderr",
     "output_type": "stream",
     "text": [
      " 25%|██▌       | 250/1000 [1:43:14<4:44:17, 22.74s/it]"
     ]
    },
    {
     "name": "stdout",
     "output_type": "stream",
     "text": [
      "eigenvalues shape torch.Size([5]) eigenvectors shape torch.Size([5, 400])\n",
      "250 /home/phdcs2/Hard_Disk/Datasets/Deep-Spectral-Segmentation/data/object-segmentation/ECSSD/features/dino_vits16/0251.pth\n",
      "0251\n",
      "Starting Training\n",
      "epoch: 00, loss: -0.38158\n",
      "epoch: 01, loss: -0.39205\n",
      "epoch: 02, loss: -0.39439\n",
      "epoch: 03, loss: -0.39780\n",
      "epoch: 04, loss: -0.39909\n",
      "epoch: 05, loss: -0.40158\n",
      "epoch: 06, loss: -0.40398\n",
      "epoch: 07, loss: -0.40608\n",
      "epoch: 08, loss: -0.40800\n",
      "epoch: 09, loss: -0.41025\n",
      "After Unsqueezing, feature size= torch.Size([450, 1, 384])\n",
      "type(projected_feature) <class 'torch.Tensor'>\n",
      "projected feature shape= torch.Size([450, 384])\n"
     ]
    },
    {
     "name": "stderr",
     "output_type": "stream",
     "text": [
      " 25%|██▌       | 251/1000 [1:43:37<4:48:00, 23.07s/it]"
     ]
    },
    {
     "name": "stdout",
     "output_type": "stream",
     "text": [
      "eigenvalues shape torch.Size([5]) eigenvectors shape torch.Size([5, 450])\n",
      "251 /home/phdcs2/Hard_Disk/Datasets/Deep-Spectral-Segmentation/data/object-segmentation/ECSSD/features/dino_vits16/0252.pth\n",
      "0252\n",
      "Starting Training\n",
      "epoch: 00, loss: -0.35672\n",
      "epoch: 01, loss: -0.35363\n",
      "epoch: 02, loss: -0.35877\n",
      "epoch: 03, loss: -0.36329\n",
      "epoch: 04, loss: -0.36613\n",
      "epoch: 05, loss: -0.36904\n",
      "epoch: 06, loss: -0.37045\n",
      "epoch: 07, loss: -0.37226\n",
      "epoch: 08, loss: -0.37462\n",
      "epoch: 09, loss: -0.37716\n",
      "After Unsqueezing, feature size= torch.Size([450, 1, 384])\n",
      "type(projected_feature) <class 'torch.Tensor'>\n",
      "projected feature shape= torch.Size([450, 384])\n"
     ]
    },
    {
     "name": "stderr",
     "output_type": "stream",
     "text": [
      " 25%|██▌       | 252/1000 [1:44:00<4:47:46, 23.08s/it]"
     ]
    },
    {
     "name": "stdout",
     "output_type": "stream",
     "text": [
      "eigenvalues shape torch.Size([5]) eigenvectors shape torch.Size([5, 450])\n",
      "252 /home/phdcs2/Hard_Disk/Datasets/Deep-Spectral-Segmentation/data/object-segmentation/ECSSD/features/dino_vits16/0253.pth\n",
      "0253\n",
      "Starting Training\n",
      "epoch: 00, loss: -0.48931\n",
      "epoch: 01, loss: -0.48293\n",
      "epoch: 02, loss: -0.48520\n",
      "epoch: 03, loss: -0.48790\n",
      "epoch: 04, loss: -0.49024\n",
      "epoch: 05, loss: -0.49207\n",
      "epoch: 06, loss: -0.49442\n",
      "epoch: 07, loss: -0.49734\n",
      "epoch: 08, loss: -0.49950\n",
      "epoch: 09, loss: -0.50149\n",
      "After Unsqueezing, feature size= torch.Size([450, 1, 384])\n",
      "type(projected_feature) <class 'torch.Tensor'>\n",
      "projected feature shape= torch.Size([450, 384])\n"
     ]
    },
    {
     "name": "stderr",
     "output_type": "stream",
     "text": [
      " 25%|██▌       | 253/1000 [1:44:23<4:46:43, 23.03s/it]"
     ]
    },
    {
     "name": "stdout",
     "output_type": "stream",
     "text": [
      "eigenvalues shape torch.Size([5]) eigenvectors shape torch.Size([5, 450])\n",
      "253 /home/phdcs2/Hard_Disk/Datasets/Deep-Spectral-Segmentation/data/object-segmentation/ECSSD/features/dino_vits16/0254.pth\n",
      "0254\n",
      "Starting Training\n",
      "epoch: 00, loss: -0.38796\n",
      "epoch: 01, loss: -0.39360\n",
      "epoch: 02, loss: -0.39264\n",
      "epoch: 03, loss: -0.39092\n",
      "epoch: 04, loss: -0.38959\n",
      "epoch: 05, loss: -0.38722\n",
      "epoch: 06, loss: -0.38731\n",
      "epoch: 07, loss: -0.38768\n",
      "epoch: 08, loss: -0.38774\n",
      "epoch: 09, loss: -0.38788\n",
      "After Unsqueezing, feature size= torch.Size([525, 1, 384])\n",
      "type(projected_feature) <class 'torch.Tensor'>\n",
      "projected feature shape= torch.Size([525, 384])\n"
     ]
    },
    {
     "name": "stderr",
     "output_type": "stream",
     "text": [
      " 25%|██▌       | 254/1000 [1:44:53<5:11:22, 25.04s/it]"
     ]
    },
    {
     "name": "stdout",
     "output_type": "stream",
     "text": [
      "eigenvalues shape torch.Size([5]) eigenvectors shape torch.Size([5, 525])\n",
      "254 /home/phdcs2/Hard_Disk/Datasets/Deep-Spectral-Segmentation/data/object-segmentation/ECSSD/features/dino_vits16/0255.pth\n",
      "0255\n",
      "Starting Training\n",
      "epoch: 00, loss: -0.38093\n",
      "epoch: 01, loss: -0.38616\n",
      "epoch: 02, loss: -0.38786\n",
      "epoch: 03, loss: -0.38921\n",
      "epoch: 04, loss: -0.39027\n",
      "epoch: 05, loss: -0.38945\n",
      "epoch: 06, loss: -0.38651\n",
      "epoch: 07, loss: -0.38578\n",
      "epoch: 08, loss: -0.38668\n",
      "epoch: 09, loss: -0.38835\n",
      "After Unsqueezing, feature size= torch.Size([575, 1, 384])\n",
      "type(projected_feature) <class 'torch.Tensor'>\n",
      "projected feature shape= torch.Size([575, 384])\n"
     ]
    },
    {
     "name": "stderr",
     "output_type": "stream",
     "text": [
      " 26%|██▌       | 255/1000 [1:45:23<5:30:42, 26.63s/it]"
     ]
    },
    {
     "name": "stdout",
     "output_type": "stream",
     "text": [
      "eigenvalues shape torch.Size([5]) eigenvectors shape torch.Size([5, 575])\n",
      "255 /home/phdcs2/Hard_Disk/Datasets/Deep-Spectral-Segmentation/data/object-segmentation/ECSSD/features/dino_vits16/0256.pth\n",
      "0256\n",
      "Starting Training\n",
      "epoch: 00, loss: -0.36912\n",
      "epoch: 01, loss: -0.38009\n",
      "epoch: 02, loss: -0.38524\n",
      "epoch: 03, loss: -0.39098\n",
      "epoch: 04, loss: -0.39129\n",
      "epoch: 05, loss: -0.39290\n",
      "epoch: 06, loss: -0.39268\n",
      "epoch: 07, loss: -0.39346\n",
      "epoch: 08, loss: -0.39398\n",
      "epoch: 09, loss: -0.39556\n",
      "After Unsqueezing, feature size= torch.Size([375, 1, 384])\n",
      "type(projected_feature) <class 'torch.Tensor'>\n",
      "projected feature shape= torch.Size([375, 384])\n"
     ]
    },
    {
     "name": "stderr",
     "output_type": "stream",
     "text": [
      " 26%|██▌       | 256/1000 [1:45:42<4:59:42, 24.17s/it]"
     ]
    },
    {
     "name": "stdout",
     "output_type": "stream",
     "text": [
      "eigenvalues shape torch.Size([5]) eigenvectors shape torch.Size([5, 375])\n",
      "256 /home/phdcs2/Hard_Disk/Datasets/Deep-Spectral-Segmentation/data/object-segmentation/ECSSD/features/dino_vits16/0257.pth\n",
      "0257\n",
      "Starting Training\n",
      "epoch: 00, loss: -0.44922\n",
      "epoch: 01, loss: -0.45734\n",
      "epoch: 02, loss: -0.45941\n",
      "epoch: 03, loss: -0.46136\n",
      "epoch: 04, loss: -0.46282\n",
      "epoch: 05, loss: -0.46417\n",
      "epoch: 06, loss: -0.46487\n",
      "epoch: 07, loss: -0.46593\n",
      "epoch: 08, loss: -0.46730\n",
      "epoch: 09, loss: -0.46786\n",
      "After Unsqueezing, feature size= torch.Size([475, 1, 384])\n",
      "type(projected_feature) <class 'torch.Tensor'>\n",
      "projected feature shape= torch.Size([475, 384])\n"
     ]
    },
    {
     "name": "stderr",
     "output_type": "stream",
     "text": [
      " 26%|██▌       | 257/1000 [1:46:08<5:04:50, 24.62s/it]"
     ]
    },
    {
     "name": "stdout",
     "output_type": "stream",
     "text": [
      "eigenvalues shape torch.Size([5]) eigenvectors shape torch.Size([5, 475])\n",
      "257 /home/phdcs2/Hard_Disk/Datasets/Deep-Spectral-Segmentation/data/object-segmentation/ECSSD/features/dino_vits16/0258.pth\n",
      "0258\n",
      "Starting Training\n",
      "epoch: 00, loss: -0.45182\n",
      "epoch: 01, loss: -0.44051\n",
      "epoch: 02, loss: -0.44237\n",
      "epoch: 03, loss: -0.44715\n",
      "epoch: 04, loss: -0.45545\n",
      "epoch: 05, loss: -0.46613\n",
      "epoch: 06, loss: -0.47839\n",
      "epoch: 07, loss: -0.48985\n",
      "epoch: 08, loss: -0.50082\n",
      "epoch: 09, loss: -0.51117\n",
      "After Unsqueezing, feature size= torch.Size([400, 1, 384])\n",
      "type(projected_feature) <class 'torch.Tensor'>\n",
      "projected feature shape= torch.Size([400, 384])\n"
     ]
    },
    {
     "name": "stderr",
     "output_type": "stream",
     "text": [
      " 26%|██▌       | 258/1000 [1:46:28<4:47:54, 23.28s/it]"
     ]
    },
    {
     "name": "stdout",
     "output_type": "stream",
     "text": [
      "eigenvalues shape torch.Size([5]) eigenvectors shape torch.Size([5, 400])\n",
      "258 /home/phdcs2/Hard_Disk/Datasets/Deep-Spectral-Segmentation/data/object-segmentation/ECSSD/features/dino_vits16/0259.pth\n",
      "0259\n",
      "Starting Training\n",
      "epoch: 00, loss: -0.38169\n",
      "epoch: 01, loss: -0.38243\n",
      "epoch: 02, loss: -0.37969\n",
      "epoch: 03, loss: -0.37621\n",
      "epoch: 04, loss: -0.37629\n",
      "epoch: 05, loss: -0.37455\n",
      "epoch: 06, loss: -0.37502\n",
      "epoch: 07, loss: -0.37529\n",
      "epoch: 08, loss: -0.37694\n",
      "epoch: 09, loss: -0.37837\n",
      "After Unsqueezing, feature size= torch.Size([450, 1, 384])\n",
      "type(projected_feature) <class 'torch.Tensor'>\n",
      "projected feature shape= torch.Size([450, 384])\n"
     ]
    },
    {
     "name": "stderr",
     "output_type": "stream",
     "text": [
      " 26%|██▌       | 259/1000 [1:46:50<4:43:51, 22.98s/it]"
     ]
    },
    {
     "name": "stdout",
     "output_type": "stream",
     "text": [
      "eigenvalues shape torch.Size([5]) eigenvectors shape torch.Size([5, 450])\n",
      "259 /home/phdcs2/Hard_Disk/Datasets/Deep-Spectral-Segmentation/data/object-segmentation/ECSSD/features/dino_vits16/0260.pth\n",
      "0260\n",
      "Starting Training\n",
      "epoch: 00, loss: -0.37581\n",
      "epoch: 01, loss: -0.38812\n",
      "epoch: 02, loss: -0.39181\n",
      "epoch: 03, loss: -0.39223\n",
      "epoch: 04, loss: -0.39481\n",
      "epoch: 05, loss: -0.39543\n",
      "epoch: 06, loss: -0.39739\n",
      "epoch: 07, loss: -0.39675\n",
      "epoch: 08, loss: -0.39668\n",
      "epoch: 09, loss: -0.39584\n",
      "After Unsqueezing, feature size= torch.Size([450, 1, 384])\n",
      "type(projected_feature) <class 'torch.Tensor'>\n",
      "projected feature shape= torch.Size([450, 384])\n"
     ]
    },
    {
     "name": "stderr",
     "output_type": "stream",
     "text": [
      " 26%|██▌       | 260/1000 [1:47:11<4:35:29, 22.34s/it]"
     ]
    },
    {
     "name": "stdout",
     "output_type": "stream",
     "text": [
      "eigenvalues shape torch.Size([5]) eigenvectors shape torch.Size([5, 450])\n",
      "260 /home/phdcs2/Hard_Disk/Datasets/Deep-Spectral-Segmentation/data/object-segmentation/ECSSD/features/dino_vits16/0261.pth\n",
      "0261\n",
      "Starting Training\n",
      "epoch: 00, loss: -0.40049\n",
      "epoch: 01, loss: -0.41104\n",
      "epoch: 02, loss: -0.41182\n",
      "epoch: 03, loss: -0.41197\n",
      "epoch: 04, loss: -0.41283\n",
      "epoch: 05, loss: -0.41202\n",
      "epoch: 06, loss: -0.41221\n",
      "epoch: 07, loss: -0.41251\n",
      "epoch: 08, loss: -0.41282\n",
      "epoch: 09, loss: -0.41273\n",
      "After Unsqueezing, feature size= torch.Size([400, 1, 384])\n",
      "type(projected_feature) <class 'torch.Tensor'>\n",
      "projected feature shape= torch.Size([400, 384])\n"
     ]
    },
    {
     "name": "stderr",
     "output_type": "stream",
     "text": [
      " 26%|██▌       | 261/1000 [1:47:31<4:28:08, 21.77s/it]"
     ]
    },
    {
     "name": "stdout",
     "output_type": "stream",
     "text": [
      "eigenvalues shape torch.Size([5]) eigenvectors shape torch.Size([5, 400])\n",
      "261 /home/phdcs2/Hard_Disk/Datasets/Deep-Spectral-Segmentation/data/object-segmentation/ECSSD/features/dino_vits16/0262.pth\n",
      "0262\n",
      "Starting Training\n",
      "epoch: 00, loss: -0.36983\n",
      "epoch: 01, loss: -0.33817\n",
      "epoch: 02, loss: -0.34337\n",
      "epoch: 03, loss: -0.34830\n",
      "epoch: 04, loss: -0.35107\n",
      "epoch: 05, loss: -0.35317\n",
      "epoch: 06, loss: -0.35563\n",
      "epoch: 07, loss: -0.35906\n",
      "epoch: 08, loss: -0.36197\n",
      "epoch: 09, loss: -0.36496\n",
      "After Unsqueezing, feature size= torch.Size([450, 1, 384])\n",
      "type(projected_feature) <class 'torch.Tensor'>\n",
      "projected feature shape= torch.Size([450, 384])\n"
     ]
    },
    {
     "name": "stderr",
     "output_type": "stream",
     "text": [
      " 26%|██▌       | 262/1000 [1:47:53<4:28:49, 21.86s/it]"
     ]
    },
    {
     "name": "stdout",
     "output_type": "stream",
     "text": [
      "eigenvalues shape torch.Size([5]) eigenvectors shape torch.Size([5, 450])\n",
      "262 /home/phdcs2/Hard_Disk/Datasets/Deep-Spectral-Segmentation/data/object-segmentation/ECSSD/features/dino_vits16/0263.pth\n",
      "0263\n",
      "Starting Training\n",
      "epoch: 00, loss: -0.39463\n",
      "epoch: 01, loss: -0.40320\n",
      "epoch: 02, loss: -0.41238\n",
      "epoch: 03, loss: -0.42534\n",
      "epoch: 04, loss: -0.44425\n",
      "epoch: 05, loss: -0.46485\n",
      "epoch: 06, loss: -0.47413\n",
      "epoch: 07, loss: -0.48201\n",
      "epoch: 08, loss: -0.48755\n",
      "epoch: 09, loss: -0.49007\n",
      "After Unsqueezing, feature size= torch.Size([450, 1, 384])\n",
      "type(projected_feature) <class 'torch.Tensor'>\n",
      "projected feature shape= torch.Size([450, 384])\n"
     ]
    },
    {
     "name": "stderr",
     "output_type": "stream",
     "text": [
      " 26%|██▋       | 263/1000 [1:48:16<4:30:21, 22.01s/it]"
     ]
    },
    {
     "name": "stdout",
     "output_type": "stream",
     "text": [
      "eigenvalues shape torch.Size([5]) eigenvectors shape torch.Size([5, 450])\n",
      "263 /home/phdcs2/Hard_Disk/Datasets/Deep-Spectral-Segmentation/data/object-segmentation/ECSSD/features/dino_vits16/0264.pth\n",
      "0264\n",
      "Starting Training\n",
      "epoch: 00, loss: -0.57780\n",
      "epoch: 01, loss: -0.59918\n",
      "epoch: 02, loss: -0.60310\n",
      "epoch: 03, loss: -0.60658\n",
      "epoch: 04, loss: -0.60932\n",
      "epoch: 05, loss: -0.61125\n",
      "epoch: 06, loss: -0.61415\n",
      "epoch: 07, loss: -0.61499\n",
      "epoch: 08, loss: -0.61675\n",
      "epoch: 09, loss: -0.61809\n",
      "After Unsqueezing, feature size= torch.Size([400, 1, 384])\n",
      "type(projected_feature) <class 'torch.Tensor'>\n",
      "projected feature shape= torch.Size([400, 384])\n"
     ]
    },
    {
     "name": "stderr",
     "output_type": "stream",
     "text": [
      " 26%|██▋       | 264/1000 [1:48:36<4:23:47, 21.50s/it]"
     ]
    },
    {
     "name": "stdout",
     "output_type": "stream",
     "text": [
      "eigenvalues shape torch.Size([5]) eigenvectors shape torch.Size([5, 400])\n",
      "264 /home/phdcs2/Hard_Disk/Datasets/Deep-Spectral-Segmentation/data/object-segmentation/ECSSD/features/dino_vits16/0265.pth\n",
      "0265\n",
      "Starting Training\n",
      "epoch: 00, loss: -0.38660\n",
      "epoch: 01, loss: -0.38695\n",
      "epoch: 02, loss: -0.37883\n",
      "epoch: 03, loss: -0.37403\n",
      "epoch: 04, loss: -0.37416\n",
      "epoch: 05, loss: -0.37707\n",
      "epoch: 06, loss: -0.38303\n",
      "epoch: 07, loss: -0.39357\n",
      "epoch: 08, loss: -0.40682\n",
      "epoch: 09, loss: -0.41899\n",
      "After Unsqueezing, feature size= torch.Size([525, 1, 384])\n",
      "type(projected_feature) <class 'torch.Tensor'>\n",
      "projected feature shape= torch.Size([525, 384])\n"
     ]
    },
    {
     "name": "stderr",
     "output_type": "stream",
     "text": [
      " 26%|██▋       | 265/1000 [1:49:02<4:38:20, 22.72s/it]"
     ]
    },
    {
     "name": "stdout",
     "output_type": "stream",
     "text": [
      "eigenvalues shape torch.Size([5]) eigenvectors shape torch.Size([5, 525])\n",
      "265 /home/phdcs2/Hard_Disk/Datasets/Deep-Spectral-Segmentation/data/object-segmentation/ECSSD/features/dino_vits16/0266.pth\n",
      "0266\n",
      "Starting Training\n",
      "epoch: 00, loss: -0.36229\n",
      "epoch: 01, loss: -0.37391\n",
      "epoch: 02, loss: -0.38451\n",
      "epoch: 03, loss: -0.39417\n",
      "epoch: 04, loss: -0.40442\n",
      "epoch: 05, loss: -0.41542\n",
      "epoch: 06, loss: -0.42412\n",
      "epoch: 07, loss: -0.43231\n",
      "epoch: 08, loss: -0.43982\n",
      "epoch: 09, loss: -0.44549\n",
      "After Unsqueezing, feature size= torch.Size([425, 1, 384])\n",
      "type(projected_feature) <class 'torch.Tensor'>\n",
      "projected feature shape= torch.Size([425, 384])\n"
     ]
    },
    {
     "name": "stderr",
     "output_type": "stream",
     "text": [
      " 27%|██▋       | 266/1000 [1:49:24<4:36:21, 22.59s/it]"
     ]
    },
    {
     "name": "stdout",
     "output_type": "stream",
     "text": [
      "eigenvalues shape torch.Size([5]) eigenvectors shape torch.Size([5, 425])\n",
      "266 /home/phdcs2/Hard_Disk/Datasets/Deep-Spectral-Segmentation/data/object-segmentation/ECSSD/features/dino_vits16/0267.pth\n",
      "0267\n",
      "Starting Training\n",
      "epoch: 00, loss: -0.43816\n",
      "epoch: 01, loss: -0.47007\n",
      "epoch: 02, loss: -0.47179\n",
      "epoch: 03, loss: -0.47234\n",
      "epoch: 04, loss: -0.47285\n",
      "epoch: 05, loss: -0.47298\n",
      "epoch: 06, loss: -0.47351\n",
      "epoch: 07, loss: -0.47333\n",
      "epoch: 08, loss: -0.47466\n",
      "epoch: 09, loss: -0.47507\n",
      "After Unsqueezing, feature size= torch.Size([400, 1, 384])\n",
      "type(projected_feature) <class 'torch.Tensor'>\n",
      "projected feature shape= torch.Size([400, 384])\n"
     ]
    },
    {
     "name": "stderr",
     "output_type": "stream",
     "text": [
      " 27%|██▋       | 267/1000 [1:49:44<4:25:21, 21.72s/it]"
     ]
    },
    {
     "name": "stdout",
     "output_type": "stream",
     "text": [
      "eigenvalues shape torch.Size([5]) eigenvectors shape torch.Size([5, 400])\n",
      "267 /home/phdcs2/Hard_Disk/Datasets/Deep-Spectral-Segmentation/data/object-segmentation/ECSSD/features/dino_vits16/0268.pth\n",
      "0268\n",
      "Starting Training\n",
      "epoch: 00, loss: -0.40219\n",
      "epoch: 01, loss: -0.40922\n",
      "epoch: 02, loss: -0.41077\n",
      "epoch: 03, loss: -0.41166\n",
      "epoch: 04, loss: -0.41232\n",
      "epoch: 05, loss: -0.41303\n",
      "epoch: 06, loss: -0.41174\n",
      "epoch: 07, loss: -0.41040\n",
      "epoch: 08, loss: -0.41039\n",
      "epoch: 09, loss: -0.40923\n",
      "After Unsqueezing, feature size= torch.Size([600, 1, 384])\n",
      "type(projected_feature) <class 'torch.Tensor'>\n",
      "projected feature shape= torch.Size([600, 384])\n"
     ]
    },
    {
     "name": "stderr",
     "output_type": "stream",
     "text": [
      " 27%|██▋       | 268/1000 [1:50:13<4:54:49, 24.17s/it]"
     ]
    },
    {
     "name": "stdout",
     "output_type": "stream",
     "text": [
      "eigenvalues shape torch.Size([5]) eigenvectors shape torch.Size([5, 600])\n",
      "268 /home/phdcs2/Hard_Disk/Datasets/Deep-Spectral-Segmentation/data/object-segmentation/ECSSD/features/dino_vits16/0269.pth\n",
      "0269\n",
      "Starting Training\n",
      "epoch: 00, loss: -0.38678\n",
      "epoch: 01, loss: -0.39497\n",
      "epoch: 02, loss: -0.39812\n",
      "epoch: 03, loss: -0.40103\n",
      "epoch: 04, loss: -0.40227\n",
      "epoch: 05, loss: -0.40314\n",
      "epoch: 06, loss: -0.40405\n",
      "epoch: 07, loss: -0.40539\n",
      "epoch: 08, loss: -0.40361\n",
      "epoch: 09, loss: -0.40355\n",
      "After Unsqueezing, feature size= torch.Size([400, 1, 384])\n",
      "type(projected_feature) <class 'torch.Tensor'>\n",
      "projected feature shape= torch.Size([400, 384])\n"
     ]
    },
    {
     "name": "stderr",
     "output_type": "stream",
     "text": [
      " 27%|██▋       | 269/1000 [1:50:33<4:38:30, 22.86s/it]"
     ]
    },
    {
     "name": "stdout",
     "output_type": "stream",
     "text": [
      "eigenvalues shape torch.Size([5]) eigenvectors shape torch.Size([5, 400])\n",
      "269 /home/phdcs2/Hard_Disk/Datasets/Deep-Spectral-Segmentation/data/object-segmentation/ECSSD/features/dino_vits16/0270.pth\n",
      "0270\n",
      "Starting Training\n",
      "epoch: 00, loss: -0.38424\n",
      "epoch: 01, loss: -0.39324\n",
      "epoch: 02, loss: -0.39571\n",
      "epoch: 03, loss: -0.39875\n",
      "epoch: 04, loss: -0.40131\n",
      "epoch: 05, loss: -0.40517\n",
      "epoch: 06, loss: -0.40830\n",
      "epoch: 07, loss: -0.41250\n",
      "epoch: 08, loss: -0.41643\n",
      "epoch: 09, loss: -0.41944\n",
      "After Unsqueezing, feature size= torch.Size([375, 1, 384])\n",
      "type(projected_feature) <class 'torch.Tensor'>\n",
      "projected feature shape= torch.Size([375, 384])\n"
     ]
    },
    {
     "name": "stderr",
     "output_type": "stream",
     "text": [
      " 27%|██▋       | 270/1000 [1:50:52<4:22:51, 21.61s/it]"
     ]
    },
    {
     "name": "stdout",
     "output_type": "stream",
     "text": [
      "eigenvalues shape torch.Size([5]) eigenvectors shape torch.Size([5, 375])\n",
      "270 /home/phdcs2/Hard_Disk/Datasets/Deep-Spectral-Segmentation/data/object-segmentation/ECSSD/features/dino_vits16/0271.pth\n",
      "0271\n",
      "Starting Training\n",
      "epoch: 00, loss: -0.38777\n",
      "epoch: 01, loss: -0.39683\n",
      "epoch: 02, loss: -0.40029\n",
      "epoch: 03, loss: -0.40402\n",
      "epoch: 04, loss: -0.40707\n",
      "epoch: 05, loss: -0.41079\n",
      "epoch: 06, loss: -0.41369\n",
      "epoch: 07, loss: -0.41614\n",
      "epoch: 08, loss: -0.41813\n",
      "epoch: 09, loss: -0.42004\n",
      "After Unsqueezing, feature size= torch.Size([450, 1, 384])\n",
      "type(projected_feature) <class 'torch.Tensor'>\n",
      "projected feature shape= torch.Size([450, 384])\n"
     ]
    },
    {
     "name": "stderr",
     "output_type": "stream",
     "text": [
      " 27%|██▋       | 271/1000 [1:51:14<4:24:51, 21.80s/it]"
     ]
    },
    {
     "name": "stdout",
     "output_type": "stream",
     "text": [
      "eigenvalues shape torch.Size([5]) eigenvectors shape torch.Size([5, 450])\n",
      "271 /home/phdcs2/Hard_Disk/Datasets/Deep-Spectral-Segmentation/data/object-segmentation/ECSSD/features/dino_vits16/0272.pth\n",
      "0272\n",
      "Starting Training\n",
      "epoch: 00, loss: -0.45732\n",
      "epoch: 01, loss: -0.46524\n",
      "epoch: 02, loss: -0.47206\n",
      "epoch: 03, loss: -0.47847\n",
      "epoch: 04, loss: -0.48166\n",
      "epoch: 05, loss: -0.48357\n",
      "epoch: 06, loss: -0.48559\n",
      "epoch: 07, loss: -0.48690\n",
      "epoch: 08, loss: -0.48783\n",
      "epoch: 09, loss: -0.48837\n",
      "After Unsqueezing, feature size= torch.Size([500, 1, 384])\n",
      "type(projected_feature) <class 'torch.Tensor'>\n",
      "projected feature shape= torch.Size([500, 384])\n"
     ]
    },
    {
     "name": "stderr",
     "output_type": "stream",
     "text": [
      " 27%|██▋       | 272/1000 [1:51:39<4:35:56, 22.74s/it]"
     ]
    },
    {
     "name": "stdout",
     "output_type": "stream",
     "text": [
      "eigenvalues shape torch.Size([5]) eigenvectors shape torch.Size([5, 500])\n",
      "272 /home/phdcs2/Hard_Disk/Datasets/Deep-Spectral-Segmentation/data/object-segmentation/ECSSD/features/dino_vits16/0273.pth\n",
      "0273\n",
      "Starting Training\n",
      "epoch: 00, loss: -0.48684\n",
      "epoch: 01, loss: -0.48170\n",
      "epoch: 02, loss: -0.48452\n",
      "epoch: 03, loss: -0.48733\n",
      "epoch: 04, loss: -0.49031\n",
      "epoch: 05, loss: -0.49311\n",
      "epoch: 06, loss: -0.49521\n",
      "epoch: 07, loss: -0.49953\n",
      "epoch: 08, loss: -0.50076\n",
      "epoch: 09, loss: -0.50447\n",
      "After Unsqueezing, feature size= torch.Size([400, 1, 384])\n",
      "type(projected_feature) <class 'torch.Tensor'>\n",
      "projected feature shape= torch.Size([400, 384])\n"
     ]
    },
    {
     "name": "stderr",
     "output_type": "stream",
     "text": [
      " 27%|██▋       | 273/1000 [1:52:00<4:28:31, 22.16s/it]"
     ]
    },
    {
     "name": "stdout",
     "output_type": "stream",
     "text": [
      "eigenvalues shape torch.Size([5]) eigenvectors shape torch.Size([5, 400])\n",
      "273 /home/phdcs2/Hard_Disk/Datasets/Deep-Spectral-Segmentation/data/object-segmentation/ECSSD/features/dino_vits16/0274.pth\n",
      "0274\n",
      "Starting Training\n",
      "epoch: 00, loss: -0.42114\n",
      "epoch: 01, loss: -0.43134\n",
      "epoch: 02, loss: -0.43351\n",
      "epoch: 03, loss: -0.43807\n",
      "epoch: 04, loss: -0.44134\n",
      "epoch: 05, loss: -0.44506\n",
      "epoch: 06, loss: -0.44852\n",
      "epoch: 07, loss: -0.45044\n",
      "epoch: 08, loss: -0.45300\n",
      "epoch: 09, loss: -0.45479\n",
      "After Unsqueezing, feature size= torch.Size([575, 1, 384])\n",
      "type(projected_feature) <class 'torch.Tensor'>\n",
      "projected feature shape= torch.Size([575, 384])\n"
     ]
    },
    {
     "name": "stderr",
     "output_type": "stream",
     "text": [
      " 27%|██▋       | 274/1000 [1:52:29<4:53:07, 24.23s/it]"
     ]
    },
    {
     "name": "stdout",
     "output_type": "stream",
     "text": [
      "eigenvalues shape torch.Size([5]) eigenvectors shape torch.Size([5, 575])\n",
      "274 /home/phdcs2/Hard_Disk/Datasets/Deep-Spectral-Segmentation/data/object-segmentation/ECSSD/features/dino_vits16/0275.pth\n",
      "0275\n",
      "Starting Training\n",
      "epoch: 00, loss: -0.52747\n",
      "epoch: 01, loss: -0.54561\n",
      "epoch: 02, loss: -0.55593\n",
      "epoch: 03, loss: -0.56403\n",
      "epoch: 04, loss: -0.57273\n",
      "epoch: 05, loss: -0.57961\n",
      "epoch: 06, loss: -0.58459\n",
      "epoch: 07, loss: -0.59019\n",
      "epoch: 08, loss: -0.59394\n",
      "epoch: 09, loss: -0.59759\n",
      "After Unsqueezing, feature size= torch.Size([400, 1, 384])\n",
      "type(projected_feature) <class 'torch.Tensor'>\n",
      "projected feature shape= torch.Size([400, 384])\n"
     ]
    },
    {
     "name": "stderr",
     "output_type": "stream",
     "text": [
      " 28%|██▊       | 275/1000 [1:52:52<4:49:24, 23.95s/it]"
     ]
    },
    {
     "name": "stdout",
     "output_type": "stream",
     "text": [
      "eigenvalues shape torch.Size([5]) eigenvectors shape torch.Size([5, 400])\n",
      "275 /home/phdcs2/Hard_Disk/Datasets/Deep-Spectral-Segmentation/data/object-segmentation/ECSSD/features/dino_vits16/0276.pth\n",
      "0276\n",
      "Starting Training\n",
      "epoch: 00, loss: -0.40307\n",
      "epoch: 01, loss: -0.41100\n",
      "epoch: 02, loss: -0.41344\n",
      "epoch: 03, loss: -0.41433\n",
      "epoch: 04, loss: -0.41457\n",
      "epoch: 05, loss: -0.41600\n",
      "epoch: 06, loss: -0.41742\n",
      "epoch: 07, loss: -0.41988\n",
      "epoch: 08, loss: -0.42152\n",
      "epoch: 09, loss: -0.42402\n",
      "After Unsqueezing, feature size= torch.Size([525, 1, 384])\n",
      "type(projected_feature) <class 'torch.Tensor'>\n",
      "projected feature shape= torch.Size([525, 384])\n"
     ]
    },
    {
     "name": "stderr",
     "output_type": "stream",
     "text": [
      " 28%|██▊       | 276/1000 [1:53:18<4:56:07, 24.54s/it]"
     ]
    },
    {
     "name": "stdout",
     "output_type": "stream",
     "text": [
      "eigenvalues shape torch.Size([5]) eigenvectors shape torch.Size([5, 525])\n",
      "276 /home/phdcs2/Hard_Disk/Datasets/Deep-Spectral-Segmentation/data/object-segmentation/ECSSD/features/dino_vits16/0277.pth\n",
      "0277\n",
      "Starting Training\n",
      "epoch: 00, loss: -0.44725\n",
      "epoch: 01, loss: -0.44233\n",
      "epoch: 02, loss: -0.44517\n",
      "epoch: 03, loss: -0.44728\n",
      "epoch: 04, loss: -0.45007\n",
      "epoch: 05, loss: -0.45195\n",
      "epoch: 06, loss: -0.45356\n",
      "epoch: 07, loss: -0.45566\n",
      "epoch: 08, loss: -0.45784\n",
      "epoch: 09, loss: -0.45957\n",
      "After Unsqueezing, feature size= torch.Size([400, 1, 384])\n",
      "type(projected_feature) <class 'torch.Tensor'>\n",
      "projected feature shape= torch.Size([400, 384])\n"
     ]
    },
    {
     "name": "stderr",
     "output_type": "stream",
     "text": [
      " 28%|██▊       | 277/1000 [1:53:39<4:42:58, 23.48s/it]"
     ]
    },
    {
     "name": "stdout",
     "output_type": "stream",
     "text": [
      "eigenvalues shape torch.Size([5]) eigenvectors shape torch.Size([5, 400])\n",
      "277 /home/phdcs2/Hard_Disk/Datasets/Deep-Spectral-Segmentation/data/object-segmentation/ECSSD/features/dino_vits16/0278.pth\n",
      "0278\n",
      "Starting Training\n",
      "epoch: 00, loss: -0.35820\n",
      "epoch: 01, loss: -0.36995\n",
      "epoch: 02, loss: -0.38834\n",
      "epoch: 03, loss: -0.41123\n",
      "epoch: 04, loss: -0.43054\n",
      "epoch: 05, loss: -0.43901\n",
      "epoch: 06, loss: -0.44788\n",
      "epoch: 07, loss: -0.45096\n",
      "epoch: 08, loss: -0.45393\n",
      "epoch: 09, loss: -0.45517\n",
      "After Unsqueezing, feature size= torch.Size([550, 1, 384])\n",
      "type(projected_feature) <class 'torch.Tensor'>\n",
      "projected feature shape= torch.Size([550, 384])\n"
     ]
    },
    {
     "name": "stderr",
     "output_type": "stream",
     "text": [
      " 28%|██▊       | 278/1000 [1:54:07<4:58:48, 24.83s/it]"
     ]
    },
    {
     "name": "stdout",
     "output_type": "stream",
     "text": [
      "eigenvalues shape torch.Size([5]) eigenvectors shape torch.Size([5, 550])\n",
      "278 /home/phdcs2/Hard_Disk/Datasets/Deep-Spectral-Segmentation/data/object-segmentation/ECSSD/features/dino_vits16/0279.pth\n",
      "0279\n",
      "Starting Training\n",
      "epoch: 00, loss: -0.39334\n",
      "epoch: 01, loss: -0.40091\n",
      "epoch: 02, loss: -0.40424\n",
      "epoch: 03, loss: -0.41032\n",
      "epoch: 04, loss: -0.41331\n",
      "epoch: 05, loss: -0.41802\n",
      "epoch: 06, loss: -0.42116\n",
      "epoch: 07, loss: -0.42508\n",
      "epoch: 08, loss: -0.42964\n",
      "epoch: 09, loss: -0.43286\n",
      "After Unsqueezing, feature size= torch.Size([450, 1, 384])\n",
      "type(projected_feature) <class 'torch.Tensor'>\n",
      "projected feature shape= torch.Size([450, 384])\n"
     ]
    },
    {
     "name": "stderr",
     "output_type": "stream",
     "text": [
      " 28%|██▊       | 279/1000 [1:54:30<4:52:18, 24.33s/it]"
     ]
    },
    {
     "name": "stdout",
     "output_type": "stream",
     "text": [
      "eigenvalues shape torch.Size([5]) eigenvectors shape torch.Size([5, 450])\n",
      "279 /home/phdcs2/Hard_Disk/Datasets/Deep-Spectral-Segmentation/data/object-segmentation/ECSSD/features/dino_vits16/0280.pth\n",
      "0280\n",
      "Starting Training\n",
      "epoch: 00, loss: -0.39981\n",
      "epoch: 01, loss: -0.40954\n",
      "epoch: 02, loss: -0.41557\n",
      "epoch: 03, loss: -0.42406\n",
      "epoch: 04, loss: -0.43475\n",
      "epoch: 05, loss: -0.45133\n",
      "epoch: 06, loss: -0.46554\n",
      "epoch: 07, loss: -0.47567\n",
      "epoch: 08, loss: -0.48164\n",
      "epoch: 09, loss: -0.48782\n",
      "After Unsqueezing, feature size= torch.Size([625, 1, 384])\n",
      "type(projected_feature) <class 'torch.Tensor'>\n",
      "projected feature shape= torch.Size([625, 384])\n"
     ]
    },
    {
     "name": "stderr",
     "output_type": "stream",
     "text": [
      " 28%|██▊       | 280/1000 [1:55:10<5:48:08, 29.01s/it]"
     ]
    },
    {
     "name": "stdout",
     "output_type": "stream",
     "text": [
      "eigenvalues shape torch.Size([5]) eigenvectors shape torch.Size([5, 625])\n",
      "280 /home/phdcs2/Hard_Disk/Datasets/Deep-Spectral-Segmentation/data/object-segmentation/ECSSD/features/dino_vits16/0281.pth\n",
      "0281\n",
      "Starting Training\n",
      "epoch: 00, loss: -0.42327\n",
      "epoch: 01, loss: -0.43900\n",
      "epoch: 02, loss: -0.43996\n",
      "epoch: 03, loss: -0.44151\n",
      "epoch: 04, loss: -0.44294\n",
      "epoch: 05, loss: -0.44454\n",
      "epoch: 06, loss: -0.44562\n",
      "epoch: 07, loss: -0.44653\n",
      "epoch: 08, loss: -0.44747\n",
      "epoch: 09, loss: -0.44800\n",
      "After Unsqueezing, feature size= torch.Size([450, 1, 384])\n",
      "type(projected_feature) <class 'torch.Tensor'>\n",
      "projected feature shape= torch.Size([450, 384])\n"
     ]
    },
    {
     "name": "stderr",
     "output_type": "stream",
     "text": [
      " 28%|██▊       | 281/1000 [1:55:39<5:48:18, 29.07s/it]"
     ]
    },
    {
     "name": "stdout",
     "output_type": "stream",
     "text": [
      "eigenvalues shape torch.Size([5]) eigenvectors shape torch.Size([5, 450])\n",
      "281 /home/phdcs2/Hard_Disk/Datasets/Deep-Spectral-Segmentation/data/object-segmentation/ECSSD/features/dino_vits16/0282.pth\n",
      "0282\n",
      "Starting Training\n",
      "epoch: 00, loss: -0.48339\n",
      "epoch: 01, loss: -0.48456\n",
      "epoch: 02, loss: -0.48443\n",
      "epoch: 03, loss: -0.48412\n",
      "epoch: 04, loss: -0.48457\n",
      "epoch: 05, loss: -0.48424\n",
      "epoch: 06, loss: -0.48358\n",
      "epoch: 07, loss: -0.48382\n",
      "epoch: 08, loss: -0.48364\n",
      "epoch: 09, loss: -0.48376\n",
      "After Unsqueezing, feature size= torch.Size([400, 1, 384])\n",
      "type(projected_feature) <class 'torch.Tensor'>\n",
      "projected feature shape= torch.Size([400, 384])\n"
     ]
    },
    {
     "name": "stderr",
     "output_type": "stream",
     "text": [
      " 28%|██▊       | 282/1000 [1:56:05<5:35:33, 28.04s/it]"
     ]
    },
    {
     "name": "stdout",
     "output_type": "stream",
     "text": [
      "eigenvalues shape torch.Size([5]) eigenvectors shape torch.Size([5, 400])\n",
      "282 /home/phdcs2/Hard_Disk/Datasets/Deep-Spectral-Segmentation/data/object-segmentation/ECSSD/features/dino_vits16/0283.pth\n",
      "0283\n",
      "Starting Training\n",
      "epoch: 00, loss: -0.41391\n",
      "epoch: 01, loss: -0.41220\n",
      "epoch: 02, loss: -0.41109\n",
      "epoch: 03, loss: -0.41007\n",
      "epoch: 04, loss: -0.40883\n",
      "epoch: 05, loss: -0.40736\n",
      "epoch: 06, loss: -0.40605\n",
      "epoch: 07, loss: -0.40453\n",
      "epoch: 08, loss: -0.40360\n",
      "epoch: 09, loss: -0.40247\n",
      "After Unsqueezing, feature size= torch.Size([400, 1, 384])\n",
      "type(projected_feature) <class 'torch.Tensor'>\n",
      "projected feature shape= torch.Size([400, 384])\n"
     ]
    },
    {
     "name": "stderr",
     "output_type": "stream",
     "text": [
      " 28%|██▊       | 283/1000 [1:56:29<5:20:05, 26.79s/it]"
     ]
    },
    {
     "name": "stdout",
     "output_type": "stream",
     "text": [
      "eigenvalues shape torch.Size([5]) eigenvectors shape torch.Size([5, 400])\n",
      "283 /home/phdcs2/Hard_Disk/Datasets/Deep-Spectral-Segmentation/data/object-segmentation/ECSSD/features/dino_vits16/0284.pth\n",
      "0284\n",
      "Starting Training\n",
      "epoch: 00, loss: -0.38114\n",
      "epoch: 01, loss: -0.37814\n",
      "epoch: 02, loss: -0.37860\n",
      "epoch: 03, loss: -0.38102\n",
      "epoch: 04, loss: -0.38326\n",
      "epoch: 05, loss: -0.38359\n",
      "epoch: 06, loss: -0.38325\n",
      "epoch: 07, loss: -0.38575\n",
      "epoch: 08, loss: -0.38765\n",
      "epoch: 09, loss: -0.38952\n",
      "After Unsqueezing, feature size= torch.Size([400, 1, 384])\n",
      "type(projected_feature) <class 'torch.Tensor'>\n",
      "projected feature shape= torch.Size([400, 384])\n"
     ]
    },
    {
     "name": "stderr",
     "output_type": "stream",
     "text": [
      " 28%|██▊       | 284/1000 [1:56:54<5:13:46, 26.29s/it]"
     ]
    },
    {
     "name": "stdout",
     "output_type": "stream",
     "text": [
      "eigenvalues shape torch.Size([5]) eigenvectors shape torch.Size([5, 400])\n",
      "284 /home/phdcs2/Hard_Disk/Datasets/Deep-Spectral-Segmentation/data/object-segmentation/ECSSD/features/dino_vits16/0285.pth\n",
      "0285\n",
      "Starting Training\n",
      "epoch: 00, loss: -0.35782\n",
      "epoch: 01, loss: -0.36900\n",
      "epoch: 02, loss: -0.37594\n",
      "epoch: 03, loss: -0.38195\n",
      "epoch: 04, loss: -0.38812\n",
      "epoch: 05, loss: -0.39143\n",
      "epoch: 06, loss: -0.39305\n",
      "epoch: 07, loss: -0.39327\n",
      "epoch: 08, loss: -0.39320\n",
      "epoch: 09, loss: -0.39484\n",
      "After Unsqueezing, feature size= torch.Size([400, 1, 384])\n",
      "type(projected_feature) <class 'torch.Tensor'>\n",
      "projected feature shape= torch.Size([400, 384])\n"
     ]
    },
    {
     "name": "stderr",
     "output_type": "stream",
     "text": [
      " 28%|██▊       | 285/1000 [1:57:17<5:00:13, 25.19s/it]"
     ]
    },
    {
     "name": "stdout",
     "output_type": "stream",
     "text": [
      "eigenvalues shape torch.Size([5]) eigenvectors shape torch.Size([5, 400])\n",
      "285 /home/phdcs2/Hard_Disk/Datasets/Deep-Spectral-Segmentation/data/object-segmentation/ECSSD/features/dino_vits16/0286.pth\n",
      "0286\n",
      "Starting Training\n",
      "epoch: 00, loss: -0.48615\n",
      "epoch: 01, loss: -0.48243\n",
      "epoch: 02, loss: -0.48682\n",
      "epoch: 03, loss: -0.49366\n",
      "epoch: 04, loss: -0.49860\n",
      "epoch: 05, loss: -0.50489\n",
      "epoch: 06, loss: -0.51004\n",
      "epoch: 07, loss: -0.51551\n",
      "epoch: 08, loss: -0.51991\n",
      "epoch: 09, loss: -0.52344\n",
      "After Unsqueezing, feature size= torch.Size([450, 1, 384])\n",
      "type(projected_feature) <class 'torch.Tensor'>\n",
      "projected feature shape= torch.Size([450, 384])\n"
     ]
    },
    {
     "name": "stderr",
     "output_type": "stream",
     "text": [
      " 29%|██▊       | 286/1000 [1:57:43<5:03:06, 25.47s/it]"
     ]
    },
    {
     "name": "stdout",
     "output_type": "stream",
     "text": [
      "eigenvalues shape torch.Size([5]) eigenvectors shape torch.Size([5, 450])\n",
      "286 /home/phdcs2/Hard_Disk/Datasets/Deep-Spectral-Segmentation/data/object-segmentation/ECSSD/features/dino_vits16/0287.pth\n",
      "0287\n",
      "Starting Training\n",
      "epoch: 00, loss: -0.43630\n",
      "epoch: 01, loss: -0.46626\n",
      "epoch: 02, loss: -0.47116\n",
      "epoch: 03, loss: -0.47582\n",
      "epoch: 04, loss: -0.47897\n",
      "epoch: 05, loss: -0.48288\n",
      "epoch: 06, loss: -0.48655\n",
      "epoch: 07, loss: -0.48969\n",
      "epoch: 08, loss: -0.49297\n",
      "epoch: 09, loss: -0.49751\n",
      "After Unsqueezing, feature size= torch.Size([375, 1, 384])\n",
      "type(projected_feature) <class 'torch.Tensor'>\n",
      "projected feature shape= torch.Size([375, 384])\n"
     ]
    },
    {
     "name": "stderr",
     "output_type": "stream",
     "text": [
      " 29%|██▊       | 287/1000 [1:58:04<4:46:27, 24.11s/it]"
     ]
    },
    {
     "name": "stdout",
     "output_type": "stream",
     "text": [
      "eigenvalues shape torch.Size([5]) eigenvectors shape torch.Size([5, 375])\n",
      "287 /home/phdcs2/Hard_Disk/Datasets/Deep-Spectral-Segmentation/data/object-segmentation/ECSSD/features/dino_vits16/0288.pth\n",
      "0288\n",
      "Starting Training\n",
      "epoch: 00, loss: -0.41099\n",
      "epoch: 01, loss: -0.42139\n",
      "epoch: 02, loss: -0.42331\n",
      "epoch: 03, loss: -0.42635\n",
      "epoch: 04, loss: -0.42725\n",
      "epoch: 05, loss: -0.42895\n",
      "epoch: 06, loss: -0.42946\n",
      "epoch: 07, loss: -0.43100\n",
      "epoch: 08, loss: -0.43109\n",
      "epoch: 09, loss: -0.43215\n",
      "After Unsqueezing, feature size= torch.Size([450, 1, 384])\n",
      "type(projected_feature) <class 'torch.Tensor'>\n",
      "projected feature shape= torch.Size([450, 384])\n"
     ]
    },
    {
     "name": "stderr",
     "output_type": "stream",
     "text": [
      " 29%|██▉       | 288/1000 [1:58:30<4:52:34, 24.66s/it]"
     ]
    },
    {
     "name": "stdout",
     "output_type": "stream",
     "text": [
      "eigenvalues shape torch.Size([5]) eigenvectors shape torch.Size([5, 450])\n",
      "288 /home/phdcs2/Hard_Disk/Datasets/Deep-Spectral-Segmentation/data/object-segmentation/ECSSD/features/dino_vits16/0289.pth\n",
      "0289\n",
      "Starting Training\n",
      "epoch: 00, loss: -0.45380\n",
      "epoch: 01, loss: -0.45713\n",
      "epoch: 02, loss: -0.45991\n",
      "epoch: 03, loss: -0.46189\n",
      "epoch: 04, loss: -0.46373\n",
      "epoch: 05, loss: -0.46544\n",
      "epoch: 06, loss: -0.46704\n",
      "epoch: 07, loss: -0.46870\n",
      "epoch: 08, loss: -0.46977\n",
      "epoch: 09, loss: -0.47138\n",
      "After Unsqueezing, feature size= torch.Size([450, 1, 384])\n",
      "type(projected_feature) <class 'torch.Tensor'>\n",
      "projected feature shape= torch.Size([450, 384])\n"
     ]
    },
    {
     "name": "stderr",
     "output_type": "stream",
     "text": [
      " 29%|██▉       | 289/1000 [1:58:57<5:01:18, 25.43s/it]"
     ]
    },
    {
     "name": "stdout",
     "output_type": "stream",
     "text": [
      "eigenvalues shape torch.Size([5]) eigenvectors shape torch.Size([5, 450])\n",
      "289 /home/phdcs2/Hard_Disk/Datasets/Deep-Spectral-Segmentation/data/object-segmentation/ECSSD/features/dino_vits16/0290.pth\n",
      "0290\n",
      "Starting Training\n",
      "epoch: 00, loss: -0.36539\n",
      "epoch: 01, loss: -0.36743\n",
      "epoch: 02, loss: -0.36875\n",
      "epoch: 03, loss: -0.37053\n",
      "epoch: 04, loss: -0.37318\n",
      "epoch: 05, loss: -0.37465\n",
      "epoch: 06, loss: -0.37620\n",
      "epoch: 07, loss: -0.37796\n",
      "epoch: 08, loss: -0.37924\n",
      "epoch: 09, loss: -0.38178\n",
      "After Unsqueezing, feature size= torch.Size([375, 1, 384])\n",
      "type(projected_feature) <class 'torch.Tensor'>\n",
      "projected feature shape= torch.Size([375, 384])\n"
     ]
    },
    {
     "name": "stderr",
     "output_type": "stream",
     "text": [
      " 29%|██▉       | 290/1000 [1:59:19<4:50:25, 24.54s/it]"
     ]
    },
    {
     "name": "stdout",
     "output_type": "stream",
     "text": [
      "eigenvalues shape torch.Size([5]) eigenvectors shape torch.Size([5, 375])\n",
      "290 /home/phdcs2/Hard_Disk/Datasets/Deep-Spectral-Segmentation/data/object-segmentation/ECSSD/features/dino_vits16/0291.pth\n",
      "0291\n",
      "Starting Training\n",
      "epoch: 00, loss: -0.34916\n",
      "epoch: 01, loss: -0.35264\n",
      "epoch: 02, loss: -0.35567\n",
      "epoch: 03, loss: -0.35969\n",
      "epoch: 04, loss: -0.36132\n",
      "epoch: 05, loss: -0.36463\n",
      "epoch: 06, loss: -0.36826\n",
      "epoch: 07, loss: -0.37158\n",
      "epoch: 08, loss: -0.37489\n",
      "epoch: 09, loss: -0.37908\n",
      "After Unsqueezing, feature size= torch.Size([475, 1, 384])\n",
      "type(projected_feature) <class 'torch.Tensor'>\n",
      "projected feature shape= torch.Size([475, 384])\n"
     ]
    },
    {
     "name": "stderr",
     "output_type": "stream",
     "text": [
      " 29%|██▉       | 291/1000 [1:59:49<5:07:29, 26.02s/it]"
     ]
    },
    {
     "name": "stdout",
     "output_type": "stream",
     "text": [
      "eigenvalues shape torch.Size([5]) eigenvectors shape torch.Size([5, 475])\n",
      "291 /home/phdcs2/Hard_Disk/Datasets/Deep-Spectral-Segmentation/data/object-segmentation/ECSSD/features/dino_vits16/0292.pth\n",
      "0292\n",
      "Starting Training\n",
      "epoch: 00, loss: -0.38015\n",
      "epoch: 01, loss: -0.38305\n",
      "epoch: 02, loss: -0.38133\n",
      "epoch: 03, loss: -0.38035\n",
      "epoch: 04, loss: -0.38030\n",
      "epoch: 05, loss: -0.38078\n",
      "epoch: 06, loss: -0.38286\n",
      "epoch: 07, loss: -0.38395\n",
      "epoch: 08, loss: -0.38490\n",
      "epoch: 09, loss: -0.38520\n",
      "After Unsqueezing, feature size= torch.Size([400, 1, 384])\n",
      "type(projected_feature) <class 'torch.Tensor'>\n",
      "projected feature shape= torch.Size([400, 384])\n"
     ]
    },
    {
     "name": "stderr",
     "output_type": "stream",
     "text": [
      " 29%|██▉       | 292/1000 [2:00:11<4:52:46, 24.81s/it]"
     ]
    },
    {
     "name": "stdout",
     "output_type": "stream",
     "text": [
      "eigenvalues shape torch.Size([5]) eigenvectors shape torch.Size([5, 400])\n",
      "292 /home/phdcs2/Hard_Disk/Datasets/Deep-Spectral-Segmentation/data/object-segmentation/ECSSD/features/dino_vits16/0293.pth\n",
      "0293\n",
      "Starting Training\n",
      "epoch: 00, loss: -0.38476\n",
      "epoch: 01, loss: -0.39904\n",
      "epoch: 02, loss: -0.40076\n",
      "epoch: 03, loss: -0.40278\n",
      "epoch: 04, loss: -0.40031\n",
      "epoch: 05, loss: -0.39689\n",
      "epoch: 06, loss: -0.39269\n",
      "epoch: 07, loss: -0.39132\n",
      "epoch: 08, loss: -0.39301\n",
      "epoch: 09, loss: -0.39444\n",
      "After Unsqueezing, feature size= torch.Size([425, 1, 384])\n",
      "type(projected_feature) <class 'torch.Tensor'>\n",
      "projected feature shape= torch.Size([425, 384])\n"
     ]
    },
    {
     "name": "stderr",
     "output_type": "stream",
     "text": [
      " 29%|██▉       | 293/1000 [2:00:34<4:47:37, 24.41s/it]"
     ]
    },
    {
     "name": "stdout",
     "output_type": "stream",
     "text": [
      "eigenvalues shape torch.Size([5]) eigenvectors shape torch.Size([5, 425])\n",
      "293 /home/phdcs2/Hard_Disk/Datasets/Deep-Spectral-Segmentation/data/object-segmentation/ECSSD/features/dino_vits16/0294.pth\n",
      "0294\n",
      "Starting Training\n",
      "epoch: 00, loss: -0.36719\n",
      "epoch: 01, loss: -0.36867\n",
      "epoch: 02, loss: -0.37024\n",
      "epoch: 03, loss: -0.37332\n",
      "epoch: 04, loss: -0.37488\n",
      "epoch: 05, loss: -0.37649\n",
      "epoch: 06, loss: -0.37813\n",
      "epoch: 07, loss: -0.37840\n",
      "epoch: 08, loss: -0.37941\n",
      "epoch: 09, loss: -0.38103\n",
      "After Unsqueezing, feature size= torch.Size([425, 1, 384])\n",
      "type(projected_feature) <class 'torch.Tensor'>\n",
      "projected feature shape= torch.Size([425, 384])\n"
     ]
    },
    {
     "name": "stderr",
     "output_type": "stream",
     "text": [
      " 29%|██▉       | 294/1000 [2:00:58<4:42:48, 24.04s/it]"
     ]
    },
    {
     "name": "stdout",
     "output_type": "stream",
     "text": [
      "eigenvalues shape torch.Size([5]) eigenvectors shape torch.Size([5, 425])\n",
      "294 /home/phdcs2/Hard_Disk/Datasets/Deep-Spectral-Segmentation/data/object-segmentation/ECSSD/features/dino_vits16/0295.pth\n",
      "0295\n",
      "Starting Training\n",
      "epoch: 00, loss: -0.38478\n",
      "epoch: 01, loss: -0.38452\n",
      "epoch: 02, loss: -0.38021\n",
      "epoch: 03, loss: -0.37857\n",
      "epoch: 04, loss: -0.37654\n",
      "epoch: 05, loss: -0.37567\n",
      "epoch: 06, loss: -0.37542\n",
      "epoch: 07, loss: -0.37531\n",
      "epoch: 08, loss: -0.37532\n",
      "epoch: 09, loss: -0.37598\n",
      "After Unsqueezing, feature size= torch.Size([425, 1, 384])\n",
      "type(projected_feature) <class 'torch.Tensor'>\n",
      "projected feature shape= torch.Size([425, 384])\n"
     ]
    },
    {
     "name": "stderr",
     "output_type": "stream",
     "text": [
      " 30%|██▉       | 295/1000 [2:01:20<4:35:51, 23.48s/it]"
     ]
    },
    {
     "name": "stdout",
     "output_type": "stream",
     "text": [
      "eigenvalues shape torch.Size([5]) eigenvectors shape torch.Size([5, 425])\n",
      "295 /home/phdcs2/Hard_Disk/Datasets/Deep-Spectral-Segmentation/data/object-segmentation/ECSSD/features/dino_vits16/0296.pth\n",
      "0296\n",
      "Starting Training\n",
      "epoch: 00, loss: -0.38099\n",
      "epoch: 01, loss: -0.38379\n",
      "epoch: 02, loss: -0.38516\n",
      "epoch: 03, loss: -0.38644\n",
      "epoch: 04, loss: -0.38791\n",
      "epoch: 05, loss: -0.38984\n",
      "epoch: 06, loss: -0.39155\n",
      "epoch: 07, loss: -0.39333\n",
      "epoch: 08, loss: -0.39577\n",
      "epoch: 09, loss: -0.39864\n",
      "After Unsqueezing, feature size= torch.Size([425, 1, 384])\n",
      "type(projected_feature) <class 'torch.Tensor'>\n",
      "projected feature shape= torch.Size([425, 384])\n"
     ]
    },
    {
     "name": "stderr",
     "output_type": "stream",
     "text": [
      " 30%|██▉       | 296/1000 [2:01:43<4:35:58, 23.52s/it]"
     ]
    },
    {
     "name": "stdout",
     "output_type": "stream",
     "text": [
      "eigenvalues shape torch.Size([5]) eigenvectors shape torch.Size([5, 425])\n",
      "296 /home/phdcs2/Hard_Disk/Datasets/Deep-Spectral-Segmentation/data/object-segmentation/ECSSD/features/dino_vits16/0297.pth\n",
      "0297\n",
      "Starting Training\n",
      "epoch: 00, loss: -0.40228\n",
      "epoch: 01, loss: -0.41143\n",
      "epoch: 02, loss: -0.41370\n",
      "epoch: 03, loss: -0.41603\n",
      "epoch: 04, loss: -0.41770\n",
      "epoch: 05, loss: -0.41870\n",
      "epoch: 06, loss: -0.41908\n",
      "epoch: 07, loss: -0.42154\n",
      "epoch: 08, loss: -0.42263\n",
      "epoch: 09, loss: -0.42459\n",
      "After Unsqueezing, feature size= torch.Size([475, 1, 384])\n",
      "type(projected_feature) <class 'torch.Tensor'>\n",
      "projected feature shape= torch.Size([475, 384])\n"
     ]
    },
    {
     "name": "stderr",
     "output_type": "stream",
     "text": [
      " 30%|██▉       | 297/1000 [2:02:11<4:50:56, 24.83s/it]"
     ]
    },
    {
     "name": "stdout",
     "output_type": "stream",
     "text": [
      "eigenvalues shape torch.Size([5]) eigenvectors shape torch.Size([5, 475])\n",
      "297 /home/phdcs2/Hard_Disk/Datasets/Deep-Spectral-Segmentation/data/object-segmentation/ECSSD/features/dino_vits16/0298.pth\n",
      "0298\n",
      "Starting Training\n",
      "epoch: 00, loss: -0.68231\n",
      "epoch: 01, loss: -0.71981\n",
      "epoch: 02, loss: -0.72011\n",
      "epoch: 03, loss: -0.72168\n",
      "epoch: 04, loss: -0.72254\n",
      "epoch: 05, loss: -0.72325\n",
      "epoch: 06, loss: -0.72427\n",
      "epoch: 07, loss: -0.72487\n",
      "epoch: 08, loss: -0.72604\n",
      "epoch: 09, loss: -0.72682\n",
      "After Unsqueezing, feature size= torch.Size([400, 1, 384])\n",
      "type(projected_feature) <class 'torch.Tensor'>\n",
      "projected feature shape= torch.Size([400, 384])\n"
     ]
    },
    {
     "name": "stderr",
     "output_type": "stream",
     "text": [
      " 30%|██▉       | 298/1000 [2:02:32<4:37:35, 23.73s/it]"
     ]
    },
    {
     "name": "stdout",
     "output_type": "stream",
     "text": [
      "eigenvalues shape torch.Size([5]) eigenvectors shape torch.Size([5, 400])\n",
      "298 /home/phdcs2/Hard_Disk/Datasets/Deep-Spectral-Segmentation/data/object-segmentation/ECSSD/features/dino_vits16/0299.pth\n",
      "0299\n",
      "Starting Training\n",
      "epoch: 00, loss: -0.38024\n",
      "epoch: 01, loss: -0.37658\n",
      "epoch: 02, loss: -0.37938\n",
      "epoch: 03, loss: -0.38412\n",
      "epoch: 04, loss: -0.38682\n",
      "epoch: 05, loss: -0.38973\n",
      "epoch: 06, loss: -0.39050\n",
      "epoch: 07, loss: -0.39191\n",
      "epoch: 08, loss: -0.39529\n",
      "epoch: 09, loss: -0.39826\n",
      "After Unsqueezing, feature size= torch.Size([450, 1, 384])\n",
      "type(projected_feature) <class 'torch.Tensor'>\n",
      "projected feature shape= torch.Size([450, 384])\n"
     ]
    },
    {
     "name": "stderr",
     "output_type": "stream",
     "text": [
      " 30%|██▉       | 299/1000 [2:02:59<4:48:30, 24.69s/it]"
     ]
    },
    {
     "name": "stdout",
     "output_type": "stream",
     "text": [
      "eigenvalues shape torch.Size([5]) eigenvectors shape torch.Size([5, 450])\n",
      "299 /home/phdcs2/Hard_Disk/Datasets/Deep-Spectral-Segmentation/data/object-segmentation/ECSSD/features/dino_vits16/0300.pth\n",
      "0300\n",
      "Starting Training\n",
      "epoch: 00, loss: -0.36023\n",
      "epoch: 01, loss: -0.36321\n",
      "epoch: 02, loss: -0.36731\n",
      "epoch: 03, loss: -0.37082\n",
      "epoch: 04, loss: -0.37480\n",
      "epoch: 05, loss: -0.37867\n",
      "epoch: 06, loss: -0.38115\n",
      "epoch: 07, loss: -0.38443\n",
      "epoch: 08, loss: -0.38695\n",
      "epoch: 09, loss: -0.38992\n",
      "After Unsqueezing, feature size= torch.Size([475, 1, 384])\n",
      "type(projected_feature) <class 'torch.Tensor'>\n",
      "projected feature shape= torch.Size([475, 384])\n"
     ]
    },
    {
     "name": "stderr",
     "output_type": "stream",
     "text": [
      " 30%|███       | 300/1000 [2:03:27<4:58:29, 25.59s/it]"
     ]
    },
    {
     "name": "stdout",
     "output_type": "stream",
     "text": [
      "eigenvalues shape torch.Size([5]) eigenvectors shape torch.Size([5, 475])\n",
      "300 /home/phdcs2/Hard_Disk/Datasets/Deep-Spectral-Segmentation/data/object-segmentation/ECSSD/features/dino_vits16/0301.pth\n",
      "0301\n",
      "Starting Training\n",
      "epoch: 00, loss: -0.41683\n",
      "epoch: 01, loss: -0.42942\n",
      "epoch: 02, loss: -0.42987\n",
      "epoch: 03, loss: -0.43241\n",
      "epoch: 04, loss: -0.43212\n",
      "epoch: 05, loss: -0.43258\n",
      "epoch: 06, loss: -0.43392\n",
      "epoch: 07, loss: -0.43314\n",
      "epoch: 08, loss: -0.43296\n",
      "epoch: 09, loss: -0.43307\n",
      "After Unsqueezing, feature size= torch.Size([400, 1, 384])\n",
      "type(projected_feature) <class 'torch.Tensor'>\n",
      "projected feature shape= torch.Size([400, 384])\n"
     ]
    },
    {
     "name": "stderr",
     "output_type": "stream",
     "text": [
      " 30%|███       | 301/1000 [2:03:54<5:04:02, 26.10s/it]"
     ]
    },
    {
     "name": "stdout",
     "output_type": "stream",
     "text": [
      "eigenvalues shape torch.Size([5]) eigenvectors shape torch.Size([5, 400])\n",
      "301 /home/phdcs2/Hard_Disk/Datasets/Deep-Spectral-Segmentation/data/object-segmentation/ECSSD/features/dino_vits16/0302.pth\n",
      "0302\n",
      "Starting Training\n",
      "epoch: 00, loss: -0.40760\n",
      "epoch: 01, loss: -0.43177\n",
      "epoch: 02, loss: -0.43948\n",
      "epoch: 03, loss: -0.44526\n",
      "epoch: 04, loss: -0.45041\n",
      "epoch: 05, loss: -0.45394\n",
      "epoch: 06, loss: -0.45756\n",
      "epoch: 07, loss: -0.46080\n",
      "epoch: 08, loss: -0.46470\n",
      "epoch: 09, loss: -0.46771\n",
      "After Unsqueezing, feature size= torch.Size([450, 1, 384])\n",
      "type(projected_feature) <class 'torch.Tensor'>\n",
      "projected feature shape= torch.Size([450, 384])\n"
     ]
    },
    {
     "name": "stderr",
     "output_type": "stream",
     "text": [
      " 30%|███       | 302/1000 [2:04:25<5:19:27, 27.46s/it]"
     ]
    },
    {
     "name": "stdout",
     "output_type": "stream",
     "text": [
      "eigenvalues shape torch.Size([5]) eigenvectors shape torch.Size([5, 450])\n",
      "302 /home/phdcs2/Hard_Disk/Datasets/Deep-Spectral-Segmentation/data/object-segmentation/ECSSD/features/dino_vits16/0303.pth\n",
      "0303\n",
      "Starting Training\n",
      "epoch: 00, loss: -0.34940\n",
      "epoch: 01, loss: -0.35018\n",
      "epoch: 02, loss: -0.35081\n",
      "epoch: 03, loss: -0.34964\n",
      "epoch: 04, loss: -0.35244\n",
      "epoch: 05, loss: -0.35743\n",
      "epoch: 06, loss: -0.36356\n",
      "epoch: 07, loss: -0.36932\n",
      "epoch: 08, loss: -0.37498\n",
      "epoch: 09, loss: -0.38063\n",
      "After Unsqueezing, feature size= torch.Size([450, 1, 384])\n",
      "type(projected_feature) <class 'torch.Tensor'>\n",
      "projected feature shape= torch.Size([450, 384])\n"
     ]
    },
    {
     "name": "stderr",
     "output_type": "stream",
     "text": [
      " 30%|███       | 303/1000 [2:04:54<5:25:11, 27.99s/it]"
     ]
    },
    {
     "name": "stdout",
     "output_type": "stream",
     "text": [
      "eigenvalues shape torch.Size([5]) eigenvectors shape torch.Size([5, 450])\n",
      "303 /home/phdcs2/Hard_Disk/Datasets/Deep-Spectral-Segmentation/data/object-segmentation/ECSSD/features/dino_vits16/0304.pth\n",
      "0304\n",
      "Starting Training\n",
      "epoch: 00, loss: -0.40056\n",
      "epoch: 01, loss: -0.40214\n",
      "epoch: 02, loss: -0.39813\n",
      "epoch: 03, loss: -0.39569\n",
      "epoch: 04, loss: -0.39294\n",
      "epoch: 05, loss: -0.39001\n",
      "epoch: 06, loss: -0.39064\n",
      "epoch: 07, loss: -0.39451\n",
      "epoch: 08, loss: -0.39963\n",
      "epoch: 09, loss: -0.40546\n",
      "After Unsqueezing, feature size= torch.Size([400, 1, 384])\n",
      "type(projected_feature) <class 'torch.Tensor'>\n",
      "projected feature shape= torch.Size([400, 384])\n"
     ]
    },
    {
     "name": "stderr",
     "output_type": "stream",
     "text": [
      " 30%|███       | 304/1000 [2:05:21<5:21:02, 27.68s/it]"
     ]
    },
    {
     "name": "stdout",
     "output_type": "stream",
     "text": [
      "eigenvalues shape torch.Size([5]) eigenvectors shape torch.Size([5, 400])\n",
      "304 /home/phdcs2/Hard_Disk/Datasets/Deep-Spectral-Segmentation/data/object-segmentation/ECSSD/features/dino_vits16/0305.pth\n",
      "0305\n",
      "Starting Training\n",
      "epoch: 00, loss: -0.36764\n",
      "epoch: 01, loss: -0.37318\n",
      "epoch: 02, loss: -0.37803\n",
      "epoch: 03, loss: -0.38095\n",
      "epoch: 04, loss: -0.38461\n",
      "epoch: 05, loss: -0.38753\n",
      "epoch: 06, loss: -0.38986\n",
      "epoch: 07, loss: -0.39196\n",
      "epoch: 08, loss: -0.39420\n",
      "epoch: 09, loss: -0.39527\n",
      "After Unsqueezing, feature size= torch.Size([400, 1, 384])\n",
      "type(projected_feature) <class 'torch.Tensor'>\n",
      "projected feature shape= torch.Size([400, 384])\n"
     ]
    },
    {
     "name": "stderr",
     "output_type": "stream",
     "text": [
      " 30%|███       | 305/1000 [2:05:46<5:09:58, 26.76s/it]"
     ]
    },
    {
     "name": "stdout",
     "output_type": "stream",
     "text": [
      "eigenvalues shape torch.Size([5]) eigenvectors shape torch.Size([5, 400])\n",
      "305 /home/phdcs2/Hard_Disk/Datasets/Deep-Spectral-Segmentation/data/object-segmentation/ECSSD/features/dino_vits16/0306.pth\n",
      "0306\n",
      "Starting Training\n",
      "epoch: 00, loss: -0.34314\n",
      "epoch: 01, loss: -0.34813\n",
      "epoch: 02, loss: -0.35126\n",
      "epoch: 03, loss: -0.35426\n",
      "epoch: 04, loss: -0.35897\n",
      "epoch: 05, loss: -0.36184\n",
      "epoch: 06, loss: -0.36611\n",
      "epoch: 07, loss: -0.36803\n",
      "epoch: 08, loss: -0.37083\n",
      "epoch: 09, loss: -0.37423\n",
      "After Unsqueezing, feature size= torch.Size([400, 1, 384])\n",
      "type(projected_feature) <class 'torch.Tensor'>\n",
      "projected feature shape= torch.Size([400, 384])\n"
     ]
    },
    {
     "name": "stderr",
     "output_type": "stream",
     "text": [
      " 31%|███       | 306/1000 [2:06:13<5:10:29, 26.84s/it]"
     ]
    },
    {
     "name": "stdout",
     "output_type": "stream",
     "text": [
      "eigenvalues shape torch.Size([5]) eigenvectors shape torch.Size([5, 400])\n",
      "306 /home/phdcs2/Hard_Disk/Datasets/Deep-Spectral-Segmentation/data/object-segmentation/ECSSD/features/dino_vits16/0307.pth\n",
      "0307\n",
      "Starting Training\n",
      "epoch: 00, loss: -0.37286\n",
      "epoch: 01, loss: -0.38175\n",
      "epoch: 02, loss: -0.38514\n",
      "epoch: 03, loss: -0.38640\n",
      "epoch: 04, loss: -0.38869\n",
      "epoch: 05, loss: -0.38997\n",
      "epoch: 06, loss: -0.39045\n",
      "epoch: 07, loss: -0.39120\n",
      "epoch: 08, loss: -0.39309\n",
      "epoch: 09, loss: -0.39377\n",
      "After Unsqueezing, feature size= torch.Size([450, 1, 384])\n",
      "type(projected_feature) <class 'torch.Tensor'>\n",
      "projected feature shape= torch.Size([450, 384])\n"
     ]
    },
    {
     "name": "stderr",
     "output_type": "stream",
     "text": [
      " 31%|███       | 307/1000 [2:06:39<5:06:57, 26.58s/it]"
     ]
    },
    {
     "name": "stdout",
     "output_type": "stream",
     "text": [
      "eigenvalues shape torch.Size([5]) eigenvectors shape torch.Size([5, 450])\n",
      "307 /home/phdcs2/Hard_Disk/Datasets/Deep-Spectral-Segmentation/data/object-segmentation/ECSSD/features/dino_vits16/0308.pth\n",
      "0308\n",
      "Starting Training\n",
      "epoch: 00, loss: -0.37952\n",
      "epoch: 01, loss: -0.38522\n",
      "epoch: 02, loss: -0.38475\n",
      "epoch: 03, loss: -0.38437\n",
      "epoch: 04, loss: -0.38333\n",
      "epoch: 05, loss: -0.38224\n",
      "epoch: 06, loss: -0.38230\n",
      "epoch: 07, loss: -0.38247\n",
      "epoch: 08, loss: -0.38134\n",
      "epoch: 09, loss: -0.37941\n",
      "After Unsqueezing, feature size= torch.Size([450, 1, 384])\n",
      "type(projected_feature) <class 'torch.Tensor'>\n",
      "projected feature shape= torch.Size([450, 384])\n"
     ]
    },
    {
     "name": "stderr",
     "output_type": "stream",
     "text": [
      " 31%|███       | 308/1000 [2:07:05<5:04:43, 26.42s/it]"
     ]
    },
    {
     "name": "stdout",
     "output_type": "stream",
     "text": [
      "eigenvalues shape torch.Size([5]) eigenvectors shape torch.Size([5, 450])\n",
      "308 /home/phdcs2/Hard_Disk/Datasets/Deep-Spectral-Segmentation/data/object-segmentation/ECSSD/features/dino_vits16/0309.pth\n",
      "0309\n",
      "Starting Training\n",
      "epoch: 00, loss: -0.36826\n",
      "epoch: 01, loss: -0.37275\n",
      "epoch: 02, loss: -0.37539\n",
      "epoch: 03, loss: -0.37762\n",
      "epoch: 04, loss: -0.37848\n",
      "epoch: 05, loss: -0.38097\n",
      "epoch: 06, loss: -0.38246\n",
      "epoch: 07, loss: -0.38348\n",
      "epoch: 08, loss: -0.38526\n",
      "epoch: 09, loss: -0.38604\n",
      "After Unsqueezing, feature size= torch.Size([400, 1, 384])\n",
      "type(projected_feature) <class 'torch.Tensor'>\n",
      "projected feature shape= torch.Size([400, 384])\n"
     ]
    },
    {
     "name": "stderr",
     "output_type": "stream",
     "text": [
      " 31%|███       | 309/1000 [2:07:31<5:03:56, 26.39s/it]"
     ]
    },
    {
     "name": "stdout",
     "output_type": "stream",
     "text": [
      "eigenvalues shape torch.Size([5]) eigenvectors shape torch.Size([5, 400])\n",
      "309 /home/phdcs2/Hard_Disk/Datasets/Deep-Spectral-Segmentation/data/object-segmentation/ECSSD/features/dino_vits16/0310.pth\n",
      "0310\n",
      "Starting Training\n",
      "epoch: 00, loss: -0.38432\n",
      "epoch: 01, loss: -0.39012\n",
      "epoch: 02, loss: -0.39326\n",
      "epoch: 03, loss: -0.39586\n",
      "epoch: 04, loss: -0.39834\n",
      "epoch: 05, loss: -0.40200\n",
      "epoch: 06, loss: -0.40535\n",
      "epoch: 07, loss: -0.40856\n",
      "epoch: 08, loss: -0.41156\n",
      "epoch: 09, loss: -0.41373\n",
      "After Unsqueezing, feature size= torch.Size([450, 1, 384])\n",
      "type(projected_feature) <class 'torch.Tensor'>\n",
      "projected feature shape= torch.Size([450, 384])\n"
     ]
    },
    {
     "name": "stderr",
     "output_type": "stream",
     "text": [
      " 31%|███       | 310/1000 [2:07:57<5:00:45, 26.15s/it]"
     ]
    },
    {
     "name": "stdout",
     "output_type": "stream",
     "text": [
      "eigenvalues shape torch.Size([5]) eigenvectors shape torch.Size([5, 450])\n",
      "310 /home/phdcs2/Hard_Disk/Datasets/Deep-Spectral-Segmentation/data/object-segmentation/ECSSD/features/dino_vits16/0311.pth\n",
      "0311\n",
      "Starting Training\n",
      "epoch: 00, loss: -0.63661\n",
      "epoch: 01, loss: -0.69115\n",
      "epoch: 02, loss: -0.69377\n",
      "epoch: 03, loss: -0.69542\n",
      "epoch: 04, loss: -0.69634\n",
      "epoch: 05, loss: -0.69745\n",
      "epoch: 06, loss: -0.69849\n",
      "epoch: 07, loss: -0.69889\n",
      "epoch: 08, loss: -0.69951\n",
      "epoch: 09, loss: -0.70013\n",
      "After Unsqueezing, feature size= torch.Size([400, 1, 384])\n",
      "type(projected_feature) <class 'torch.Tensor'>\n",
      "projected feature shape= torch.Size([400, 384])\n"
     ]
    },
    {
     "name": "stderr",
     "output_type": "stream",
     "text": [
      " 31%|███       | 311/1000 [2:08:21<4:55:01, 25.69s/it]"
     ]
    },
    {
     "name": "stdout",
     "output_type": "stream",
     "text": [
      "eigenvalues shape torch.Size([5]) eigenvectors shape torch.Size([5, 400])\n",
      "311 /home/phdcs2/Hard_Disk/Datasets/Deep-Spectral-Segmentation/data/object-segmentation/ECSSD/features/dino_vits16/0312.pth\n",
      "0312\n",
      "Starting Training\n",
      "epoch: 00, loss: -0.39299\n",
      "epoch: 01, loss: -0.40441\n",
      "epoch: 02, loss: -0.40786\n",
      "epoch: 03, loss: -0.40998\n",
      "epoch: 04, loss: -0.41197\n",
      "epoch: 05, loss: -0.41412\n",
      "epoch: 06, loss: -0.41471\n",
      "epoch: 07, loss: -0.41643\n",
      "epoch: 08, loss: -0.41757\n",
      "epoch: 09, loss: -0.41835\n",
      "After Unsqueezing, feature size= torch.Size([400, 1, 384])\n",
      "type(projected_feature) <class 'torch.Tensor'>\n",
      "projected feature shape= torch.Size([400, 384])\n"
     ]
    },
    {
     "name": "stderr",
     "output_type": "stream",
     "text": [
      " 31%|███       | 312/1000 [2:08:46<4:52:31, 25.51s/it]"
     ]
    },
    {
     "name": "stdout",
     "output_type": "stream",
     "text": [
      "eigenvalues shape torch.Size([5]) eigenvectors shape torch.Size([5, 400])\n",
      "312 /home/phdcs2/Hard_Disk/Datasets/Deep-Spectral-Segmentation/data/object-segmentation/ECSSD/features/dino_vits16/0313.pth\n",
      "0313\n",
      "Starting Training\n",
      "epoch: 00, loss: -0.39233\n",
      "epoch: 01, loss: -0.39829\n",
      "epoch: 02, loss: -0.39811\n",
      "epoch: 03, loss: -0.39780\n",
      "epoch: 04, loss: -0.39866\n",
      "epoch: 05, loss: -0.39786\n",
      "epoch: 06, loss: -0.39771\n",
      "epoch: 07, loss: -0.39775\n",
      "epoch: 08, loss: -0.39751\n",
      "epoch: 09, loss: -0.39711\n",
      "After Unsqueezing, feature size= torch.Size([400, 1, 384])\n",
      "type(projected_feature) <class 'torch.Tensor'>\n",
      "projected feature shape= torch.Size([400, 384])\n"
     ]
    },
    {
     "name": "stderr",
     "output_type": "stream",
     "text": [
      " 31%|███▏      | 313/1000 [2:09:13<4:56:04, 25.86s/it]"
     ]
    },
    {
     "name": "stdout",
     "output_type": "stream",
     "text": [
      "eigenvalues shape torch.Size([5]) eigenvectors shape torch.Size([5, 400])\n",
      "313 /home/phdcs2/Hard_Disk/Datasets/Deep-Spectral-Segmentation/data/object-segmentation/ECSSD/features/dino_vits16/0314.pth\n",
      "0314\n",
      "Starting Training\n",
      "epoch: 00, loss: -0.40011\n",
      "epoch: 01, loss: -0.41202\n",
      "epoch: 02, loss: -0.41244\n",
      "epoch: 03, loss: -0.41239\n",
      "epoch: 04, loss: -0.41237\n",
      "epoch: 05, loss: -0.41295\n",
      "epoch: 06, loss: -0.41487\n",
      "epoch: 07, loss: -0.41629\n",
      "epoch: 08, loss: -0.41818\n",
      "epoch: 09, loss: -0.41962\n",
      "After Unsqueezing, feature size= torch.Size([400, 1, 384])\n",
      "type(projected_feature) <class 'torch.Tensor'>\n",
      "projected feature shape= torch.Size([400, 384])\n"
     ]
    },
    {
     "name": "stderr",
     "output_type": "stream",
     "text": [
      " 31%|███▏      | 314/1000 [2:09:41<5:03:13, 26.52s/it]"
     ]
    },
    {
     "name": "stdout",
     "output_type": "stream",
     "text": [
      "eigenvalues shape torch.Size([5]) eigenvectors shape torch.Size([5, 400])\n",
      "314 /home/phdcs2/Hard_Disk/Datasets/Deep-Spectral-Segmentation/data/object-segmentation/ECSSD/features/dino_vits16/0315.pth\n",
      "0315\n",
      "Starting Training\n",
      "epoch: 00, loss: -0.35951\n",
      "epoch: 01, loss: -0.36357\n",
      "epoch: 02, loss: -0.37242\n",
      "epoch: 03, loss: -0.37763\n",
      "epoch: 04, loss: -0.38111\n",
      "epoch: 05, loss: -0.38385\n",
      "epoch: 06, loss: -0.38697\n",
      "epoch: 07, loss: -0.38957\n",
      "epoch: 08, loss: -0.39263\n",
      "epoch: 09, loss: -0.39486\n",
      "After Unsqueezing, feature size= torch.Size([450, 1, 384])\n",
      "type(projected_feature) <class 'torch.Tensor'>\n",
      "projected feature shape= torch.Size([450, 384])\n"
     ]
    },
    {
     "name": "stderr",
     "output_type": "stream",
     "text": [
      " 32%|███▏      | 315/1000 [2:10:08<5:04:24, 26.66s/it]"
     ]
    },
    {
     "name": "stdout",
     "output_type": "stream",
     "text": [
      "eigenvalues shape torch.Size([5]) eigenvectors shape torch.Size([5, 450])\n",
      "315 /home/phdcs2/Hard_Disk/Datasets/Deep-Spectral-Segmentation/data/object-segmentation/ECSSD/features/dino_vits16/0316.pth\n",
      "0316\n",
      "Starting Training\n",
      "epoch: 00, loss: -0.38889\n",
      "epoch: 01, loss: -0.39996\n",
      "epoch: 02, loss: -0.40301\n",
      "epoch: 03, loss: -0.40412\n",
      "epoch: 04, loss: -0.40581\n",
      "epoch: 05, loss: -0.40523\n",
      "epoch: 06, loss: -0.40549\n",
      "epoch: 07, loss: -0.40685\n",
      "epoch: 08, loss: -0.40715\n",
      "epoch: 09, loss: -0.40816\n",
      "After Unsqueezing, feature size= torch.Size([450, 1, 384])\n",
      "type(projected_feature) <class 'torch.Tensor'>\n",
      "projected feature shape= torch.Size([450, 384])\n"
     ]
    },
    {
     "name": "stderr",
     "output_type": "stream",
     "text": [
      " 32%|███▏      | 316/1000 [2:10:36<5:08:50, 27.09s/it]"
     ]
    },
    {
     "name": "stdout",
     "output_type": "stream",
     "text": [
      "eigenvalues shape torch.Size([5]) eigenvectors shape torch.Size([5, 450])\n",
      "316 /home/phdcs2/Hard_Disk/Datasets/Deep-Spectral-Segmentation/data/object-segmentation/ECSSD/features/dino_vits16/0317.pth\n",
      "0317\n",
      "Starting Training\n",
      "epoch: 00, loss: -0.36246\n",
      "epoch: 01, loss: -0.36606\n",
      "epoch: 02, loss: -0.36916\n",
      "epoch: 03, loss: -0.37232\n",
      "epoch: 04, loss: -0.37559\n",
      "epoch: 05, loss: -0.37739\n",
      "epoch: 06, loss: -0.38139\n",
      "epoch: 07, loss: -0.38412\n",
      "epoch: 08, loss: -0.38894\n",
      "epoch: 09, loss: -0.39433\n",
      "After Unsqueezing, feature size= torch.Size([450, 1, 384])\n",
      "type(projected_feature) <class 'torch.Tensor'>\n",
      "projected feature shape= torch.Size([450, 384])\n"
     ]
    },
    {
     "name": "stderr",
     "output_type": "stream",
     "text": [
      " 32%|███▏      | 317/1000 [2:11:03<5:08:32, 27.11s/it]"
     ]
    },
    {
     "name": "stdout",
     "output_type": "stream",
     "text": [
      "eigenvalues shape torch.Size([5]) eigenvectors shape torch.Size([5, 450])\n",
      "317 /home/phdcs2/Hard_Disk/Datasets/Deep-Spectral-Segmentation/data/object-segmentation/ECSSD/features/dino_vits16/0318.pth\n",
      "0318\n",
      "Starting Training\n",
      "epoch: 00, loss: -0.39714\n",
      "epoch: 01, loss: -0.40434\n",
      "epoch: 02, loss: -0.40670\n",
      "epoch: 03, loss: -0.41031\n",
      "epoch: 04, loss: -0.41219\n",
      "epoch: 05, loss: -0.41417\n",
      "epoch: 06, loss: -0.41518\n",
      "epoch: 07, loss: -0.41566\n",
      "epoch: 08, loss: -0.41640\n",
      "epoch: 09, loss: -0.41606\n",
      "After Unsqueezing, feature size= torch.Size([450, 1, 384])\n",
      "type(projected_feature) <class 'torch.Tensor'>\n",
      "projected feature shape= torch.Size([450, 384])\n"
     ]
    },
    {
     "name": "stderr",
     "output_type": "stream",
     "text": [
      " 32%|███▏      | 318/1000 [2:11:35<5:22:55, 28.41s/it]"
     ]
    },
    {
     "name": "stdout",
     "output_type": "stream",
     "text": [
      "eigenvalues shape torch.Size([5]) eigenvectors shape torch.Size([5, 450])\n",
      "318 /home/phdcs2/Hard_Disk/Datasets/Deep-Spectral-Segmentation/data/object-segmentation/ECSSD/features/dino_vits16/0319.pth\n",
      "0319\n",
      "Starting Training\n",
      "epoch: 00, loss: -0.41006\n",
      "epoch: 01, loss: -0.42250\n",
      "epoch: 02, loss: -0.42311\n",
      "epoch: 03, loss: -0.42416\n",
      "epoch: 04, loss: -0.42540\n",
      "epoch: 05, loss: -0.42612\n",
      "epoch: 06, loss: -0.42763\n",
      "epoch: 07, loss: -0.42790\n",
      "epoch: 08, loss: -0.42888\n",
      "epoch: 09, loss: -0.43093\n",
      "After Unsqueezing, feature size= torch.Size([450, 1, 384])\n",
      "type(projected_feature) <class 'torch.Tensor'>\n",
      "projected feature shape= torch.Size([450, 384])\n"
     ]
    },
    {
     "name": "stderr",
     "output_type": "stream",
     "text": [
      " 32%|███▏      | 319/1000 [2:12:05<5:26:51, 28.80s/it]"
     ]
    },
    {
     "name": "stdout",
     "output_type": "stream",
     "text": [
      "eigenvalues shape torch.Size([5]) eigenvectors shape torch.Size([5, 450])\n",
      "319 /home/phdcs2/Hard_Disk/Datasets/Deep-Spectral-Segmentation/data/object-segmentation/ECSSD/features/dino_vits16/0320.pth\n",
      "0320\n",
      "Starting Training\n",
      "epoch: 00, loss: -0.37938\n",
      "epoch: 01, loss: -0.38440\n",
      "epoch: 02, loss: -0.38380\n",
      "epoch: 03, loss: -0.38294\n",
      "epoch: 04, loss: -0.38313\n",
      "epoch: 05, loss: -0.38303\n",
      "epoch: 06, loss: -0.38330\n",
      "epoch: 07, loss: -0.38313\n",
      "epoch: 08, loss: -0.38360\n",
      "epoch: 09, loss: -0.38488\n",
      "After Unsqueezing, feature size= torch.Size([450, 1, 384])\n",
      "type(projected_feature) <class 'torch.Tensor'>\n",
      "projected feature shape= torch.Size([450, 384])\n"
     ]
    },
    {
     "name": "stderr",
     "output_type": "stream",
     "text": [
      " 32%|███▏      | 320/1000 [2:12:30<5:16:48, 27.95s/it]"
     ]
    },
    {
     "name": "stdout",
     "output_type": "stream",
     "text": [
      "eigenvalues shape torch.Size([5]) eigenvectors shape torch.Size([5, 450])\n",
      "320 /home/phdcs2/Hard_Disk/Datasets/Deep-Spectral-Segmentation/data/object-segmentation/ECSSD/features/dino_vits16/0321.pth\n",
      "0321\n",
      "Starting Training\n",
      "epoch: 00, loss: -0.40126\n",
      "epoch: 01, loss: -0.42286\n",
      "epoch: 02, loss: -0.43355\n",
      "epoch: 03, loss: -0.44323\n",
      "epoch: 04, loss: -0.45305\n",
      "epoch: 05, loss: -0.46096\n",
      "epoch: 06, loss: -0.46814\n",
      "epoch: 07, loss: -0.47459\n",
      "epoch: 08, loss: -0.48086\n",
      "epoch: 09, loss: -0.48546\n",
      "After Unsqueezing, feature size= torch.Size([500, 1, 384])\n",
      "type(projected_feature) <class 'torch.Tensor'>\n",
      "projected feature shape= torch.Size([500, 384])\n"
     ]
    },
    {
     "name": "stderr",
     "output_type": "stream",
     "text": [
      " 32%|███▏      | 321/1000 [2:12:58<5:16:18, 27.95s/it]"
     ]
    },
    {
     "name": "stdout",
     "output_type": "stream",
     "text": [
      "eigenvalues shape torch.Size([5]) eigenvectors shape torch.Size([5, 500])\n",
      "321 /home/phdcs2/Hard_Disk/Datasets/Deep-Spectral-Segmentation/data/object-segmentation/ECSSD/features/dino_vits16/0322.pth\n",
      "0322\n",
      "Starting Training\n",
      "epoch: 00, loss: -0.36293\n",
      "epoch: 01, loss: -0.36341\n",
      "epoch: 02, loss: -0.36367\n",
      "epoch: 03, loss: -0.36581\n",
      "epoch: 04, loss: -0.36832\n",
      "epoch: 05, loss: -0.37094\n",
      "epoch: 06, loss: -0.37423\n",
      "epoch: 07, loss: -0.37608\n",
      "epoch: 08, loss: -0.37827\n",
      "epoch: 09, loss: -0.38037\n",
      "After Unsqueezing, feature size= torch.Size([450, 1, 384])\n",
      "type(projected_feature) <class 'torch.Tensor'>\n",
      "projected feature shape= torch.Size([450, 384])\n"
     ]
    },
    {
     "name": "stderr",
     "output_type": "stream",
     "text": [
      " 32%|███▏      | 322/1000 [2:13:23<5:05:11, 27.01s/it]"
     ]
    },
    {
     "name": "stdout",
     "output_type": "stream",
     "text": [
      "eigenvalues shape torch.Size([5]) eigenvectors shape torch.Size([5, 450])\n",
      "322 /home/phdcs2/Hard_Disk/Datasets/Deep-Spectral-Segmentation/data/object-segmentation/ECSSD/features/dino_vits16/0323.pth\n",
      "0323\n",
      "Starting Training\n",
      "epoch: 00, loss: -0.36273\n",
      "epoch: 01, loss: -0.36734\n",
      "epoch: 02, loss: -0.36410\n",
      "epoch: 03, loss: -0.36355\n",
      "epoch: 04, loss: -0.36164\n",
      "epoch: 05, loss: -0.36163\n",
      "epoch: 06, loss: -0.36162\n",
      "epoch: 07, loss: -0.36277\n",
      "epoch: 08, loss: -0.36388\n",
      "epoch: 09, loss: -0.36304\n",
      "After Unsqueezing, feature size= torch.Size([450, 1, 384])\n",
      "type(projected_feature) <class 'torch.Tensor'>\n",
      "projected feature shape= torch.Size([450, 384])\n"
     ]
    },
    {
     "name": "stderr",
     "output_type": "stream",
     "text": [
      " 32%|███▏      | 323/1000 [2:13:50<5:04:54, 27.02s/it]"
     ]
    },
    {
     "name": "stdout",
     "output_type": "stream",
     "text": [
      "eigenvalues shape torch.Size([5]) eigenvectors shape torch.Size([5, 450])\n",
      "323 /home/phdcs2/Hard_Disk/Datasets/Deep-Spectral-Segmentation/data/object-segmentation/ECSSD/features/dino_vits16/0324.pth\n",
      "0324\n",
      "Starting Training\n",
      "epoch: 00, loss: -0.40517\n",
      "epoch: 01, loss: -0.41156\n",
      "epoch: 02, loss: -0.41424\n",
      "epoch: 03, loss: -0.41799\n",
      "epoch: 04, loss: -0.42190\n",
      "epoch: 05, loss: -0.42684\n",
      "epoch: 06, loss: -0.43088\n",
      "epoch: 07, loss: -0.43529\n",
      "epoch: 08, loss: -0.43903\n",
      "epoch: 09, loss: -0.44243\n",
      "After Unsqueezing, feature size= torch.Size([450, 1, 384])\n",
      "type(projected_feature) <class 'torch.Tensor'>\n",
      "projected feature shape= torch.Size([450, 384])\n"
     ]
    },
    {
     "name": "stderr",
     "output_type": "stream",
     "text": [
      " 32%|███▏      | 324/1000 [2:14:14<4:54:41, 26.16s/it]"
     ]
    },
    {
     "name": "stdout",
     "output_type": "stream",
     "text": [
      "eigenvalues shape torch.Size([5]) eigenvectors shape torch.Size([5, 450])\n",
      "324 /home/phdcs2/Hard_Disk/Datasets/Deep-Spectral-Segmentation/data/object-segmentation/ECSSD/features/dino_vits16/0325.pth\n",
      "0325\n",
      "Starting Training\n",
      "epoch: 00, loss: -0.42004\n",
      "epoch: 01, loss: -0.43484\n",
      "epoch: 02, loss: -0.43325\n",
      "epoch: 03, loss: -0.43212\n",
      "epoch: 04, loss: -0.43363\n",
      "epoch: 05, loss: -0.43477\n",
      "epoch: 06, loss: -0.43700\n",
      "epoch: 07, loss: -0.43879\n",
      "epoch: 08, loss: -0.44054\n",
      "epoch: 09, loss: -0.44268\n",
      "After Unsqueezing, feature size= torch.Size([450, 1, 384])\n",
      "type(projected_feature) <class 'torch.Tensor'>\n",
      "projected feature shape= torch.Size([450, 384])\n"
     ]
    },
    {
     "name": "stderr",
     "output_type": "stream",
     "text": [
      " 32%|███▎      | 325/1000 [2:14:37<4:43:06, 25.17s/it]"
     ]
    },
    {
     "name": "stdout",
     "output_type": "stream",
     "text": [
      "eigenvalues shape torch.Size([5]) eigenvectors shape torch.Size([5, 450])\n",
      "325 /home/phdcs2/Hard_Disk/Datasets/Deep-Spectral-Segmentation/data/object-segmentation/ECSSD/features/dino_vits16/0326.pth\n",
      "0326\n",
      "Starting Training\n",
      "epoch: 00, loss: -0.48574\n",
      "epoch: 01, loss: -0.50263\n",
      "epoch: 02, loss: -0.51032\n",
      "epoch: 03, loss: -0.51635\n",
      "epoch: 04, loss: -0.52115\n",
      "epoch: 05, loss: -0.52442\n",
      "epoch: 06, loss: -0.52679\n",
      "epoch: 07, loss: -0.52898\n",
      "epoch: 08, loss: -0.53079\n",
      "epoch: 09, loss: -0.53185\n",
      "After Unsqueezing, feature size= torch.Size([425, 1, 384])\n",
      "type(projected_feature) <class 'torch.Tensor'>\n",
      "projected feature shape= torch.Size([425, 384])\n"
     ]
    },
    {
     "name": "stderr",
     "output_type": "stream",
     "text": [
      " 33%|███▎      | 326/1000 [2:15:02<4:40:18, 24.95s/it]"
     ]
    },
    {
     "name": "stdout",
     "output_type": "stream",
     "text": [
      "eigenvalues shape torch.Size([5]) eigenvectors shape torch.Size([5, 425])\n",
      "326 /home/phdcs2/Hard_Disk/Datasets/Deep-Spectral-Segmentation/data/object-segmentation/ECSSD/features/dino_vits16/0327.pth\n",
      "0327\n",
      "Starting Training\n",
      "epoch: 00, loss: -0.44548\n",
      "epoch: 01, loss: -0.45169\n",
      "epoch: 02, loss: -0.45759\n",
      "epoch: 03, loss: -0.46343\n",
      "epoch: 04, loss: -0.46732\n",
      "epoch: 05, loss: -0.47124\n",
      "epoch: 06, loss: -0.47519\n",
      "epoch: 07, loss: -0.47765\n",
      "epoch: 08, loss: -0.47994\n",
      "epoch: 09, loss: -0.48129\n",
      "After Unsqueezing, feature size= torch.Size([450, 1, 384])\n",
      "type(projected_feature) <class 'torch.Tensor'>\n",
      "projected feature shape= torch.Size([450, 384])\n"
     ]
    },
    {
     "name": "stderr",
     "output_type": "stream",
     "text": [
      " 33%|███▎      | 327/1000 [2:15:27<4:39:33, 24.92s/it]"
     ]
    },
    {
     "name": "stdout",
     "output_type": "stream",
     "text": [
      "eigenvalues shape torch.Size([5]) eigenvectors shape torch.Size([5, 450])\n",
      "327 /home/phdcs2/Hard_Disk/Datasets/Deep-Spectral-Segmentation/data/object-segmentation/ECSSD/features/dino_vits16/0328.pth\n",
      "0328\n",
      "Starting Training\n",
      "epoch: 00, loss: -0.41502\n",
      "epoch: 01, loss: -0.42980\n",
      "epoch: 02, loss: -0.43194\n",
      "epoch: 03, loss: -0.43554\n",
      "epoch: 04, loss: -0.43778\n",
      "epoch: 05, loss: -0.43911\n",
      "epoch: 06, loss: -0.44134\n",
      "epoch: 07, loss: -0.44246\n",
      "epoch: 08, loss: -0.44186\n",
      "epoch: 09, loss: -0.44286\n",
      "After Unsqueezing, feature size= torch.Size([475, 1, 384])\n",
      "type(projected_feature) <class 'torch.Tensor'>\n",
      "projected feature shape= torch.Size([475, 384])\n"
     ]
    },
    {
     "name": "stderr",
     "output_type": "stream",
     "text": [
      " 33%|███▎      | 328/1000 [2:15:52<4:41:20, 25.12s/it]"
     ]
    },
    {
     "name": "stdout",
     "output_type": "stream",
     "text": [
      "eigenvalues shape torch.Size([5]) eigenvectors shape torch.Size([5, 475])\n",
      "328 /home/phdcs2/Hard_Disk/Datasets/Deep-Spectral-Segmentation/data/object-segmentation/ECSSD/features/dino_vits16/0329.pth\n",
      "0329\n",
      "Starting Training\n",
      "epoch: 00, loss: -0.38443\n",
      "epoch: 01, loss: -0.39234\n",
      "epoch: 02, loss: -0.39463\n",
      "epoch: 03, loss: -0.39849\n",
      "epoch: 04, loss: -0.40200\n",
      "epoch: 05, loss: -0.40504\n",
      "epoch: 06, loss: -0.40946\n",
      "epoch: 07, loss: -0.41196\n",
      "epoch: 08, loss: -0.41629\n",
      "epoch: 09, loss: -0.41905\n",
      "After Unsqueezing, feature size= torch.Size([500, 1, 384])\n",
      "type(projected_feature) <class 'torch.Tensor'>\n",
      "projected feature shape= torch.Size([500, 384])\n"
     ]
    },
    {
     "name": "stderr",
     "output_type": "stream",
     "text": [
      " 33%|███▎      | 329/1000 [2:16:24<5:02:45, 27.07s/it]"
     ]
    },
    {
     "name": "stdout",
     "output_type": "stream",
     "text": [
      "eigenvalues shape torch.Size([5]) eigenvectors shape torch.Size([5, 500])\n",
      "329 /home/phdcs2/Hard_Disk/Datasets/Deep-Spectral-Segmentation/data/object-segmentation/ECSSD/features/dino_vits16/0330.pth\n",
      "0330\n",
      "Starting Training\n",
      "epoch: 00, loss: -0.39154\n",
      "epoch: 01, loss: -0.39061\n",
      "epoch: 02, loss: -0.39110\n",
      "epoch: 03, loss: -0.39128\n",
      "epoch: 04, loss: -0.39272\n",
      "epoch: 05, loss: -0.39430\n",
      "epoch: 06, loss: -0.39628\n",
      "epoch: 07, loss: -0.39752\n",
      "epoch: 08, loss: -0.39902\n",
      "epoch: 09, loss: -0.39928\n",
      "After Unsqueezing, feature size= torch.Size([450, 1, 384])\n",
      "type(projected_feature) <class 'torch.Tensor'>\n",
      "projected feature shape= torch.Size([450, 384])\n"
     ]
    },
    {
     "name": "stderr",
     "output_type": "stream",
     "text": [
      " 33%|███▎      | 330/1000 [2:16:56<5:19:19, 28.60s/it]"
     ]
    },
    {
     "name": "stdout",
     "output_type": "stream",
     "text": [
      "eigenvalues shape torch.Size([5]) eigenvectors shape torch.Size([5, 450])\n",
      "330 /home/phdcs2/Hard_Disk/Datasets/Deep-Spectral-Segmentation/data/object-segmentation/ECSSD/features/dino_vits16/0331.pth\n",
      "0331\n",
      "Starting Training\n",
      "epoch: 00, loss: -0.38347\n",
      "epoch: 01, loss: -0.38349\n",
      "epoch: 02, loss: -0.37834\n",
      "epoch: 03, loss: -0.37896\n",
      "epoch: 04, loss: -0.38220\n",
      "epoch: 05, loss: -0.38699\n",
      "epoch: 06, loss: -0.39202\n",
      "epoch: 07, loss: -0.39620\n",
      "epoch: 08, loss: -0.39952\n",
      "epoch: 09, loss: -0.40329\n",
      "After Unsqueezing, feature size= torch.Size([450, 1, 384])\n",
      "type(projected_feature) <class 'torch.Tensor'>\n",
      "projected feature shape= torch.Size([450, 384])\n"
     ]
    },
    {
     "name": "stderr",
     "output_type": "stream",
     "text": [
      " 33%|███▎      | 331/1000 [2:17:28<5:28:59, 29.51s/it]"
     ]
    },
    {
     "name": "stdout",
     "output_type": "stream",
     "text": [
      "eigenvalues shape torch.Size([5]) eigenvectors shape torch.Size([5, 450])\n",
      "331 /home/phdcs2/Hard_Disk/Datasets/Deep-Spectral-Segmentation/data/object-segmentation/ECSSD/features/dino_vits16/0332.pth\n",
      "0332\n",
      "Starting Training\n",
      "epoch: 00, loss: -0.39089\n",
      "epoch: 01, loss: -0.39056\n",
      "epoch: 02, loss: -0.38964\n",
      "epoch: 03, loss: -0.38768\n",
      "epoch: 04, loss: -0.38437\n",
      "epoch: 05, loss: -0.38166\n"
     ]
    },
    {
     "name": "stderr",
     "output_type": "stream",
     "text": [
      "IOPub message rate exceeded.\n",
      "The notebook server will temporarily stop sending output\n",
      "to the client in order to avoid crashing it.\n",
      "To change this limit, set the config variable\n",
      "`--NotebookApp.iopub_msg_rate_limit`.\n",
      "\n",
      "Current values:\n",
      "NotebookApp.iopub_msg_rate_limit=1000.0 (msgs/sec)\n",
      "NotebookApp.rate_limit_window=3.0 (secs)\n",
      "\n"
     ]
    }
   ],
   "source": [
    "utils.make_output_dir(output_dir)\n",
    "feat_list=[]\n",
    "inputs = list(enumerate(sorted(Path(features_dir).iterdir())))\n",
    "for inp in tqdm(inputs[123:124]):\n",
    "    index, features_file = inp\n",
    "    print(index, features_file)\n",
    "     # Load\n",
    "    data_dict = torch.load(features_file, map_location='cpu')\n",
    "    # print(data_dict.keys())   #['k', 'indices', 'file', 'id', 'model_name', 'patch_size', 'shape']\n",
    "    # print(\"shape=\", data_dict['shape'], \"k shape\", data_dict['k'].shape, \"patch_size=\", data_dict['patch_size'])\n",
    "    image_id = data_dict['file'][:-4]\n",
    "    print(image_id)\n",
    "    # Load\n",
    "    output_file = str(Path(output_dir) / f'{image_id}.pth')\n",
    "    if Path(output_file).is_file():\n",
    "        print(f'Skipping existing file {str(output_file)}')\n",
    "        # break\n",
    "        # return  # skip because already generated\n",
    "\n",
    "    # Load affinity matrix\n",
    "    feats = data_dict[which_features].squeeze().cuda()\n",
    "    # print(\"Without normalizing, Features Shape is\",feats.shape)\n",
    "    if normalize:\n",
    "        feats = F.normalize(feats, p=2, dim=-1)\n",
    "    # print(\"After normalization, Features Shape\",feats.shape)\n",
    "    # print(\"which_matrix=\", which_matrix)\n",
    "    # Eigenvectors of affinity matrix\n",
    "    if which_matrix == 'affinity_torch':\n",
    "        W = feats @ feats.T\n",
    "        # W_feat=contrastive_affinity(feats, feats.T)\n",
    "        # print(\"W shape=\", W.shape)\n",
    "        if threshold_at_zero:\n",
    "            W = (W * (W > 0))\n",
    "            # print(\"W shape=\", W.shape)\n",
    "        eigenvalues, eigenvectors = torch.eig(W, eigenvectors=True)\n",
    "        eigenvalues = eigenvalues.cpu()\n",
    "        eigenvectors = eigenvectors.cpu()\n",
    "        print(\"which matrix=\",which_matrix, \"eigenvalues shape\", eigenvalues.shape, \"eigenvectors shape\", eigenvectors.shape)\n",
    "\n",
    "\n",
    "    # Eigenvectors of affinity matrix with scipy\n",
    "    elif which_matrix == 'affinity_svd':\n",
    "        USV = torch.linalg.svd(feats, full_matrices=False)\n",
    "        eigenvectors = USV[0][:, :K].T.to('cpu', non_blocking=True)\n",
    "        eigenvalues = USV[1][:K].to('cpu', non_blocking=True)\n",
    "        print(\"which matrix=\",which_matrix,\"eigenvalues shape\", eigenvalues.shape, \"eigenvectors shape\", eigenvectors.shape)\n",
    "\n",
    "    # Eigenvectors of affinity matrix with scipy\n",
    "    elif which_matrix == 'affinity':\n",
    "        # print(\"Without normalizing, Features Shape is\",feats.shape)\n",
    "        W = (feats @ feats.T)\n",
    "        # W_feat=contrastive_affinity(feats, feats.T)\n",
    "        # print(\"W shape=\", W.shape)\n",
    "        if threshold_at_zero:\n",
    "            W = (W * (W > 0))\n",
    "        W = W.cpu().numpy()\n",
    "        # print(\"W shape=\", W.shape)\n",
    "        eigenvalues, eigenvectors = eigsh(W, which='LM', k=K)\n",
    "        eigenvectors = torch.flip(torch.from_numpy(eigenvectors), dims=(-1,)).T\n",
    "        print(\"which matrix=\",which_matrix, \"eigenvalues shape\", eigenvalues.shape, \"eigenvectors shape\", eigenvectors.shape)\n",
    "\n",
    "    # Eigenvectors of matting laplacian matrix\n",
    "    elif which_matrix in ['matting_laplacian', 'laplacian']:\n",
    "\n",
    "        # Get sizes\n",
    "        B, C, H, W, P, H_patch, W_patch, H_pad, W_pad = utils.get_image_sizes(data_dict)\n",
    "        if image_downsample_factor is None:\n",
    "            image_downsample_factor = P\n",
    "        H_pad_lr, W_pad_lr = H_pad // image_downsample_factor, W_pad // image_downsample_factor\n",
    "\n",
    "        # Upscale features to match the resolution\n",
    "        if (H_patch, W_patch) != (H_pad_lr, W_pad_lr):\n",
    "            feats = F.interpolate(\n",
    "                feats.T.reshape(1, -1, H_patch, W_patch),\n",
    "                size=(H_pad_lr, W_pad_lr), mode='bilinear', align_corners=False\n",
    "            ).reshape(-1, H_pad_lr * W_pad_lr).T\n",
    "\n",
    "        ### Feature affinities\n",
    "        # print(\"Without normalizing, Features Shape is\",feats.shape)\n",
    "\n",
    "        W_feat_ds = (feats @ feats.T)\n",
    "        # feat_list.append(feats)\n",
    "        feat_dataset = Feature_Dataset(feats)\n",
    "        if feats.shape[0]%2==0:\n",
    "            features_dataloader = DataLoader(feat_dataset, batch_size=batch_size, shuffle=True)\n",
    "        else:\n",
    "            features_dataloader = DataLoader(feat_dataset, batch_size=batch_size, shuffle=True, drop_last=True)\n",
    "        model_simsiam = SimSiam()\n",
    "        device = \"cuda\" if torch.cuda.is_available() else \"cpu\"\n",
    "        model_simsiam.to(device)\n",
    "        criterion = NegativeCosineSimilarity()\n",
    "        optimizer = torch.optim.SGD(model_simsiam.parameters(), lr=0.06)\n",
    "        print(\"Starting Training\")\n",
    "        for epoch in range(epochs):\n",
    "            total_loss = 0\n",
    "            for x0 in features_dataloader:\n",
    "            # for (x0), _, _ in features_dataloader:\n",
    "            #     print(\"Before Unsqueezing, x0 shape=\", x0.shape)\n",
    "                x0 = x0.unsqueeze(0).to(device)\n",
    "                # x0 = x0.unsqueeze(1).to(device)\n",
    "                # print(\"After Unsqueezing x0 shape=\", x0.shape)\n",
    "                x1=torchvision.transforms.RandomAffine(0)(x0)\n",
    "                # print(\"After Unsqueezing x1 shape=\", x1.shape)\n",
    "                # x0 = x0.squeeze(0).to(device)\n",
    "                # print(\"batch_size=\",batch_size)\n",
    "                # x0_new = torch.tensor(x0).view(batch_size, 1, 1, 384)\n",
    "                # x0_new = torch.tensor(x0).view(batch_size, 1, 384)\n",
    "                x0_new = x0.view(batch_size, 1, 384)\n",
    "                # print(\"After viewing x0 shape=\", x0_new.shape)\n",
    "                # print(\"x0.shape=\", x0.shape)\n",
    "                # x1 = x1.squeeze(0).to(device)\n",
    "                # x1 = torch.tensor(x1).view(batch_size, 1, 1,384)\n",
    "                x1_new = x1.view(batch_size, 1, 384)\n",
    "                # print(\"After viewing x1 shape=\", x1_new.shape)\n",
    "                z0, p0 = model_simsiam(x0_new, True)\n",
    "                # print(\"zo.shape\", z0.shape)\n",
    "                # print(\"p0.shape\", p0.shape)\n",
    "                z1, p1 = model_simsiam(x1_new, True)\n",
    "                loss = 0.5 * (criterion(z0, p1) + criterion(z1, p0))\n",
    "                total_loss += loss.detach()\n",
    "                loss.backward()\n",
    "                optimizer.step()\n",
    "                optimizer.zero_grad()\n",
    "            avg_loss = total_loss / len(features_dataloader)\n",
    "            print(f\"epoch: {epoch:>02}, loss: {avg_loss:.5f}\")\n",
    "        feats=feats.unsqueeze(1).to(device)\n",
    "        # feats=feats.unsqueeze(2).to(device)\n",
    "        print(\"After Unsqueezing, feature size=\", feats.shape)\n",
    "        proj_pred_feature=model_simsiam(feats, False)\n",
    "        projected_feature=proj_pred_feature[0]\n",
    "        projected_feature = projected_feature.squeeze().to(device)\n",
    "        print(\"type(projected_feature)\", type(projected_feature))\n",
    "        print(\"projected feature shape=\", projected_feature.shape)\n",
    "        W_feat_siam=torch.matmul(projected_feature, projected_feature.t())\n",
    "        W_feat=0.9*W_feat_ds + 0.1*W_feat_siam\n",
    "        # print(\"W_feat.shape=\", W_feat.shape)\n",
    "        # print(\"W_feat.shape=\", W_feat.shape)\n",
    "        # W_feat=contrastive_affinity(feats, feats.T)\n",
    "        if threshold_at_zero:\n",
    "            W_feat = (W_feat * (W_feat > 0))\n",
    "        W_feat = W_feat / W_feat.max()  # NOTE: If features are normalized, this naturally does nothing\n",
    "        # W_feat = W_feat.cpu().numpy()\n",
    "        W_feat = W_feat.detach().cpu().numpy()\n",
    "        # print(\"W_feat shape=\",W_feat.shape)\n",
    "\n",
    "        ### Color affinities\n",
    "        # If we are fusing with color affinites, then load the image and compute\n",
    "        if image_color_lambda > 0:\n",
    "\n",
    "            # Load image\n",
    "            image_file = str(Path(images_root) / f'{image_id}.jpg')\n",
    "            image_lr = Image.open(image_file).resize((W_pad_lr, H_pad_lr), Image.BILINEAR)\n",
    "            image_lr = np.array(image_lr) / 255.\n",
    "\n",
    "            # Color affinities (of type scipy.sparse.csr_matrix)\n",
    "            if which_color_matrix == 'knn':\n",
    "                W_lr = utils.knn_affinity(image_lr / 255)\n",
    "            elif which_color_matrix == 'rw':\n",
    "                W_lr = utils.rw_affinity(image_lr / 255)\n",
    "\n",
    "            # Convert to dense numpy array\n",
    "            W_color = np.array(W_lr.todense().astype(np.float32))\n",
    "            # print(\"W_color shape\", W_color.shape)\n",
    "\n",
    "        else:\n",
    "\n",
    "            # No color affinity\n",
    "            W_color = 0\n",
    "\n",
    "        # Combine\n",
    "        W_comb = W_feat + W_color * image_color_lambda  # combination\n",
    "        D_comb = np.array(utils.get_diagonal(W_comb).todense())  # is dense or sparse faster? not sure, should check\n",
    "        # print(\"W_comb shape= \", W_comb.shape, \"D_comb shape\",  D_comb.shape)\n",
    "        if lapnorm:\n",
    "            try:\n",
    "                eigenvalues, eigenvectors = eigsh(D_comb - W_comb, k=K, sigma=0, which='LM', M=D_comb)\n",
    "            except:\n",
    "                eigenvalues, eigenvectors = eigsh(D_comb - W_comb, k=K, which='SM', M=D_comb)\n",
    "        else:\n",
    "            try:\n",
    "                eigenvalues, eigenvectors = eigsh(D_comb - W_comb, k=K, sigma=0, which='LM')\n",
    "            except:\n",
    "                eigenvalues, eigenvectors = eigsh(D_comb - W_comb, k=K, which='SM')\n",
    "        eigenvalues, eigenvectors = torch.from_numpy(eigenvalues), torch.from_numpy(eigenvectors.T).float()\n",
    "    print(\"eigenvalues shape\", eigenvalues.shape, \"eigenvectors shape\", eigenvectors.shape)\n",
    "    # Sign ambiguity\n",
    "    for k in range(eigenvectors.shape[0]):\n",
    "        if 0.5 < torch.mean((eigenvectors[k] > 0).float()).item() < 1.0:  # reverse segment\n",
    "            eigenvectors[k] = 0 - eigenvectors[k]\n",
    "\n",
    "    # Save dict\n",
    "    output_dict = {'eigenvalues': eigenvalues, 'eigenvectors': eigenvectors}\n",
    "    torch.save(output_dict, output_file)"
   ]
  },
  {
   "cell_type": "code",
   "execution_count": null,
   "metadata": {},
   "outputs": [],
   "source": [
    "import matplotlib.pyplot as plt\n",
    "# numpy_array = W_feat.numpy()\n",
    "\n",
    "# Downsample the tensor by averaging values in small blocks\n",
    "downsampled_array = np.mean(W_feat.reshape(128, 8, 128, 8), axis=(1, 3))\n",
    "# downsampled_array = np.mean(W_feat.reshape(64, 16, 64, 16), axis=(1, 3))\n",
    "\n",
    "# Plot the heatmap of the downsampled tensor\n",
    "plt.imshow(downsampled_array, cmap='YlGnBu', interpolation='nearest')\n",
    "plt.colorbar()\n",
    "plt.title('Downsampled Heatmap of 2D Tensor')\n",
    "plt.show()"
   ]
  }
 ],
 "metadata": {
  "kernelspec": {
   "display_name": "Python 3 (ipykernel)",
   "language": "python",
   "name": "python3"
  },
  "language_info": {
   "codemirror_mode": {
    "name": "ipython",
    "version": 3
   },
   "file_extension": ".py",
   "mimetype": "text/x-python",
   "name": "python",
   "nbconvert_exporter": "python",
   "pygments_lexer": "ipython3",
   "version": "3.8.10"
  }
 },
 "nbformat": 4,
 "nbformat_minor": 1
}
