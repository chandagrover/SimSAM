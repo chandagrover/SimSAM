{
 "cells": [
  {
   "cell_type": "code",
   "execution_count": 2,
   "metadata": {
    "pycharm": {
     "name": "#%%\n"
    }
   },
   "outputs": [],
   "source": [
    "# from functools import partial\n",
    "from pathlib import Path\n",
    "# from typing import Optional, Tuple\n",
    "# import cv2\n",
    "# import fire\n",
    "import numpy as np\n",
    "import torch\n",
    "import torch.nn.functional as F\n",
    "from accelerate import Accelerator\n",
    "from PIL import Image\n",
    "from scipy.sparse.linalg import eigsh\n",
    "# from sklearn.cluster import KMeans, MiniBatchKMeans\n",
    "# from sklearn.decomposition import PCA\n",
    "# from torchvision.utils import draw_bounding_boxes\n",
    "from tqdm import tqdm\n",
    "import extract_utils as utils\n",
    "from torch.utils.data import Dataset, DataLoader\n",
    "from lightly.loss import NegativeCosineSimilarity\n",
    "from lightly.models.modules import SimSiamPredictionHead, SimSiamProjectionHead\n",
    "from torch import nn\n",
    "import torchvision\n",
    "from sklearn.decomposition import PCA\n",
    "from scipy.ndimage import affine_transform"
   ]
  },
  {
   "cell_type": "markdown",
   "metadata": {
    "pycharm": {
     "name": "#%% md\n"
    }
   },
   "source": [
    "## Extract Eigen Vectors"
   ]
  },
  {
   "cell_type": "code",
   "execution_count": 3,
   "metadata": {
    "pycharm": {
     "name": "#%%\n"
    }
   },
   "outputs": [],
   "source": [
    "images_root=\"/home/phdcs2/Hard_Disk/Datasets/Deep-Spectral-Segmentation/data/object-segmentation/ECSSD/images\"\n",
    "features_dir=\"/home/phdcs2/Hard_Disk/Datasets/Deep-Spectral-Segmentation/data/object-segmentation/ECSSD/features/dino_vits16\"\n",
    "output_dir=\"/home/phdcs2/Hard_Disk/Datasets/Deep-Spectral-Segmentation/data/object-segmentation/ECSSD/eigs_dot1PCAtfprojpredconv1Dsimsiam_ds_10_jn\"\n",
    "which_matrix= 'laplacian'\n",
    "which_color_matrix= 'knn'\n",
    "which_features= 'k'\n",
    "normalize=True\n",
    "threshold_at_zero=True\n",
    "lapnorm= True\n",
    "K= 5\n",
    "image_downsample_factor = None\n",
    "image_color_lambda = 0.0\n",
    "multiprocessing = 0\n",
    "batch_size=2\n",
    "epochs=10"
   ]
  },
  {
   "cell_type": "markdown",
   "metadata": {
    "pycharm": {
     "name": "#%% md\n"
    }
   },
   "source": [
    "## ResNet Residual Block"
   ]
  },
  {
   "cell_type": "code",
   "execution_count": 4,
   "metadata": {
    "pycharm": {
     "name": "#%%\n"
    }
   },
   "outputs": [],
   "source": [
    "class BasicBlock(nn.Module):\n",
    "    expansion = 1\n",
    "\n",
    "    def __init__(self, in_channels=1, out_channels=1, stride=1, downsample=None):\n",
    "        super(BasicBlock, self).__init__()\n",
    "        self.conv1 = nn.Conv1d(in_channels=in_channels, out_channels=64, kernel_size=3, stride=stride, padding=1, bias=False)\n",
    "        self.bn1 = nn.BatchNorm1d(64)\n",
    "        self.relu = nn.ReLU(inplace=True)\n",
    "        self.conv2 = nn.Conv1d(64, out_channels * self.expansion, kernel_size=3, stride=1, padding=1, bias=False)\n",
    "        self.bn2 = nn.BatchNorm1d(out_channels * self.expansion)\n",
    "        self.downsample = downsample\n",
    "\n",
    "    def forward(self, x):\n",
    "        identity = x\n",
    "\n",
    "        out = self.conv1(x)\n",
    "        out = self.bn1(out)\n",
    "        out = self.relu(out)\n",
    "\n",
    "        out = self.conv2(out)\n",
    "        out = self.bn2(out)\n",
    "\n",
    "        if self.downsample is not None:\n",
    "            identity = self.downsample(x)\n",
    "\n",
    "        out += identity\n",
    "        out = self.relu(out)\n",
    "        # print(\"Before squeezing, out shape=\", out.shape)\n",
    "        out =  out.squeeze().to('cuda')\n",
    "        # print(\"After squeezing, out shape=\", out.shape)\n",
    "\n",
    "        return out"
   ]
  },
  {
   "cell_type": "markdown",
   "metadata": {
    "pycharm": {
     "name": "#%% md\n"
    }
   },
   "source": [
    "## Incorporating SimSiam"
   ]
  },
  {
   "cell_type": "code",
   "execution_count": 5,
   "metadata": {
    "pycharm": {
     "name": "#%%\n"
    }
   },
   "outputs": [],
   "source": [
    "# Define a custom dataset class\n",
    "class Feature_Dataset(Dataset):\n",
    "    def __init__(self, features):\n",
    "        self.features = features\n",
    "\n",
    "    def __getitem__(self, index):\n",
    "        return self.features[index]\n",
    "\n",
    "    def __len__(self):\n",
    "        return len(self.features)"
   ]
  },
  {
   "cell_type": "code",
   "execution_count": 6,
   "metadata": {
    "pycharm": {
     "name": "#%%\n"
    }
   },
   "outputs": [],
   "source": [
    "class SimSiam(nn.Module):\n",
    "    def __init__(self, train=True):\n",
    "        super().__init__()\n",
    "        # self.projection_head = SimSiamProjectionHead(feats.shape[1], 128,feats.shape[1])\n",
    "        self.train=train\n",
    "        self.projection_head = BasicBlock()\n",
    "        # self.projection_head = ResidualBlock(feats.shape[1], feats.shape[1])\n",
    "        # self.prediction_head = SimSiamPredictionHead(feats.shape[1], 128, feats.shape[1])\n",
    "        self.prediction_head = BasicBlock()\n",
    "\n",
    "    def forward(self, x,train=True):\n",
    "        z = self.projection_head(x)\n",
    "        # print(\"z.shape\", z.shape)\n",
    "        if train:\n",
    "            z_new = z.view(batch_size, 1, 128)\n",
    "        else:\n",
    "            z_new=z.view(feats.shape[0],1 , 128)\n",
    "            # print(z_new.shape)\n",
    "        p = self.prediction_head(z_new)\n",
    "        z_new.detach()\n",
    "        # if train:\n",
    "        #     z_new = z.view(2, 1, 384)\n",
    "        #     # print(z_new.shape)\n",
    "        #     p = self.prediction_head(z_new)\n",
    "        #     z_new.detach()\n",
    "        # else:\n",
    "        #     p = self.prediction_head(z)\n",
    "        # z = z.detach()\n",
    "        return z_new, p"
   ]
  },
  {
   "cell_type": "code",
   "execution_count": 7,
   "metadata": {
    "pycharm": {
     "name": "#%%\n"
    }
   },
   "outputs": [],
   "source": [
    "# utils.make_output_dir(output_dir)\n",
    "# feat_list=[]\n",
    "# inputs = list(enumerate(sorted(Path(features_dir).iterdir())))\n",
    "# batch_size=2\n",
    "# token_feature_size=384\n",
    "# for inp in tqdm(inputs[:2]):\n",
    "#     index, features_file = inp\n",
    "#     print(index, features_file)\n",
    "#      # Load\n",
    "#     data_dict = torch.load(features_file, map_location='cpu')\n",
    "#     # Load affinity matrix\n",
    "#     # feats_unsqueeze=data_dict[which_features].cuda()\n",
    "#     feats = data_dict[which_features].squeeze().cuda()\n",
    "#     print(feats.shape)\n",
    "#     # print(feats_unsqueeze.shape)\n",
    "#     feat_dataset = Feature_Dataset(feats)\n",
    "#     features_dataloader = DataLoader(feat_dataset, batch_size=2, shuffle=True)\n",
    "#     i=0\n",
    "#     for x0 in features_dataloader:\n",
    "#         if i==0:\n",
    "#         # for (x0), _, _ in features_dataloader:\n",
    "#             print(\"before unsqueezing x0.shape=\", x0.shape)\n",
    "#             x0 = x0.unsqueeze(0).to(device)\n",
    "#             x1=torchvision.transforms.RandomAffine(0)(x0)\n",
    "#             x0 = x0.squeeze(0).to(device)\n",
    "#             x0 = torch.tensor(x0).view(batch_size, 1, 1, token_feature_size)\n",
    "#             print(\"After squeezing and viewing x0 shape=\", x0.shape)\n",
    "#             # print(\"x0.shape=\", x0.shape)\n",
    "#             x1 = x1.squeeze(0).to(device)\n",
    "#             x1 = torch.tensor(x1).view(batch_size, 1, 1,token_feature_size)\n",
    "#             print(\"After squeezing and viewing x0 shape=\", x1.shape)\n",
    "#             print(\"x1 shape=\", x1.shape)\n",
    "#         else:\n",
    "#             break\n",
    "#         i+=1\n"
   ]
  },
  {
   "cell_type": "code",
   "execution_count": null,
   "metadata": {
    "pycharm": {
     "is_executing": true,
     "name": "#%%\n"
    }
   },
   "outputs": [
    {
     "name": "stderr",
     "output_type": "stream",
     "text": [
      "  0%|          | 0/1000 [00:00<?, ?it/s]/home/phdcs2/Hard_Disk/Projects/T2I/deep-spectral-segmentation/venv/lib/python3.8/site-packages/sklearn/decomposition/_pca.py:545: RuntimeWarning: invalid value encountered in divide\n",
      "  explained_variance_ratio_ = explained_variance_ / total_var\n"
     ]
    },
    {
     "name": "stdout",
     "output_type": "stream",
     "text": [
      "0 /home/phdcs2/Hard_Disk/Datasets/Deep-Spectral-Segmentation/data/object-segmentation/ECSSD/features/dino_vits16/0001.pth\n",
      "0001\n",
      "Starting Training\n",
      "epoch: 00, loss: 0.00000\n",
      "epoch: 01, loss: 0.00000\n",
      "epoch: 02, loss: 0.00000\n",
      "epoch: 03, loss: 0.00000\n",
      "epoch: 04, loss: 0.00000\n",
      "epoch: 05, loss: 0.00000\n",
      "epoch: 06, loss: 0.00000\n",
      "epoch: 07, loss: 0.00000\n",
      "epoch: 08, loss: 0.00000\n",
      "epoch: 09, loss: 0.00000\n",
      "After Unsqueezing, feature size= torch.Size([400, 384])\n",
      "type(projected_feature) <class 'torch.Tensor'>\n",
      "projected feature shape= torch.Size([400, 128])\n"
     ]
    },
    {
     "name": "stderr",
     "output_type": "stream",
     "text": [
      "  0%|          | 1/1000 [00:23<6:38:40, 23.94s/it]"
     ]
    },
    {
     "name": "stdout",
     "output_type": "stream",
     "text": [
      "eigenvalues shape torch.Size([5]) eigenvectors shape torch.Size([5, 400])\n",
      "1 /home/phdcs2/Hard_Disk/Datasets/Deep-Spectral-Segmentation/data/object-segmentation/ECSSD/features/dino_vits16/0002.pth\n",
      "0002\n",
      "Starting Training\n",
      "epoch: 00, loss: -0.31687\n",
      "epoch: 01, loss: -0.33137\n",
      "epoch: 02, loss: -0.33701\n",
      "epoch: 03, loss: -0.34167\n",
      "epoch: 04, loss: -0.34539\n",
      "epoch: 05, loss: -0.34907\n",
      "epoch: 06, loss: -0.35282\n",
      "epoch: 07, loss: -0.35524\n",
      "epoch: 08, loss: -0.35947\n",
      "epoch: 09, loss: -0.36406\n",
      "After Unsqueezing, feature size= torch.Size([400, 384])\n",
      "type(projected_feature) <class 'torch.Tensor'>\n",
      "projected feature shape= torch.Size([400, 128])\n"
     ]
    },
    {
     "name": "stderr",
     "output_type": "stream",
     "text": [
      "  0%|          | 2/1000 [00:44<6:06:51, 22.06s/it]"
     ]
    },
    {
     "name": "stdout",
     "output_type": "stream",
     "text": [
      "eigenvalues shape torch.Size([5]) eigenvectors shape torch.Size([5, 400])\n",
      "2 /home/phdcs2/Hard_Disk/Datasets/Deep-Spectral-Segmentation/data/object-segmentation/ECSSD/features/dino_vits16/0003.pth\n",
      "0003\n",
      "Starting Training\n",
      "epoch: 00, loss: -0.28563\n",
      "epoch: 01, loss: -0.29788\n",
      "epoch: 02, loss: -0.30735\n",
      "epoch: 03, loss: -0.31005\n",
      "epoch: 04, loss: -0.31631\n",
      "epoch: 05, loss: -0.31954\n",
      "epoch: 06, loss: -0.32367\n",
      "epoch: 07, loss: -0.32602\n",
      "epoch: 08, loss: -0.33021\n",
      "epoch: 09, loss: -0.33321\n",
      "After Unsqueezing, feature size= torch.Size([400, 384])\n",
      "type(projected_feature) <class 'torch.Tensor'>\n",
      "projected feature shape= torch.Size([400, 128])\n"
     ]
    },
    {
     "name": "stderr",
     "output_type": "stream",
     "text": [
      "  0%|          | 3/1000 [01:06<6:01:49, 21.78s/it]"
     ]
    },
    {
     "name": "stdout",
     "output_type": "stream",
     "text": [
      "eigenvalues shape torch.Size([5]) eigenvectors shape torch.Size([5, 400])\n",
      "3 /home/phdcs2/Hard_Disk/Datasets/Deep-Spectral-Segmentation/data/object-segmentation/ECSSD/features/dino_vits16/0004.pth\n",
      "0004\n",
      "Starting Training\n",
      "epoch: 00, loss: -0.74199\n",
      "epoch: 01, loss: -0.84840\n",
      "epoch: 02, loss: -0.85130\n",
      "epoch: 03, loss: -0.85393\n",
      "epoch: 04, loss: -0.85510\n",
      "epoch: 05, loss: -0.85588\n",
      "epoch: 06, loss: -0.85591\n",
      "epoch: 07, loss: -0.85564\n",
      "epoch: 08, loss: -0.85651\n",
      "epoch: 09, loss: -0.85753\n",
      "After Unsqueezing, feature size= torch.Size([400, 384])\n",
      "type(projected_feature) <class 'torch.Tensor'>\n",
      "projected feature shape= torch.Size([400, 128])\n"
     ]
    },
    {
     "name": "stderr",
     "output_type": "stream",
     "text": [
      "  0%|          | 4/1000 [01:27<5:58:43, 21.61s/it]"
     ]
    },
    {
     "name": "stdout",
     "output_type": "stream",
     "text": [
      "eigenvalues shape torch.Size([5]) eigenvectors shape torch.Size([5, 400])\n",
      "4 /home/phdcs2/Hard_Disk/Datasets/Deep-Spectral-Segmentation/data/object-segmentation/ECSSD/features/dino_vits16/0005.pth\n",
      "0005\n",
      "Starting Training\n",
      "epoch: 00, loss: -0.31766\n",
      "epoch: 01, loss: -0.32891\n",
      "epoch: 02, loss: -0.33625\n",
      "epoch: 03, loss: -0.34237\n",
      "epoch: 04, loss: -0.50919\n",
      "epoch: 05, loss: -0.99901\n",
      "epoch: 06, loss: -0.99901\n",
      "epoch: 07, loss: -0.99903\n",
      "epoch: 08, loss: -0.99900\n",
      "epoch: 09, loss: -0.99902\n",
      "After Unsqueezing, feature size= torch.Size([400, 384])\n",
      "type(projected_feature) <class 'torch.Tensor'>\n",
      "projected feature shape= torch.Size([400, 128])\n"
     ]
    },
    {
     "name": "stderr",
     "output_type": "stream",
     "text": [
      "  0%|          | 5/1000 [01:49<5:58:47, 21.64s/it]"
     ]
    },
    {
     "name": "stdout",
     "output_type": "stream",
     "text": [
      "eigenvalues shape torch.Size([5]) eigenvectors shape torch.Size([5, 400])\n",
      "5 /home/phdcs2/Hard_Disk/Datasets/Deep-Spectral-Segmentation/data/object-segmentation/ECSSD/features/dino_vits16/0006.pth\n",
      "0006\n",
      "Starting Training\n",
      "epoch: 00, loss: -0.76337\n",
      "epoch: 01, loss: -0.86720\n",
      "epoch: 02, loss: -0.86683\n",
      "epoch: 03, loss: -0.86683\n",
      "epoch: 04, loss: -0.86651\n",
      "epoch: 05, loss: -0.86613\n",
      "epoch: 06, loss: -0.86629\n",
      "epoch: 07, loss: -0.86466\n",
      "epoch: 08, loss: -0.86558\n",
      "epoch: 09, loss: -0.86464\n",
      "After Unsqueezing, feature size= torch.Size([400, 384])\n",
      "type(projected_feature) <class 'torch.Tensor'>\n",
      "projected feature shape= torch.Size([400, 128])\n"
     ]
    },
    {
     "name": "stderr",
     "output_type": "stream",
     "text": [
      "  1%|          | 6/1000 [02:12<6:08:55, 22.27s/it]"
     ]
    },
    {
     "name": "stdout",
     "output_type": "stream",
     "text": [
      "eigenvalues shape torch.Size([5]) eigenvectors shape torch.Size([5, 400])\n",
      "6 /home/phdcs2/Hard_Disk/Datasets/Deep-Spectral-Segmentation/data/object-segmentation/ECSSD/features/dino_vits16/0007.pth\n",
      "0007\n"
     ]
    },
    {
     "name": "stderr",
     "output_type": "stream",
     "text": [
      "/home/phdcs2/Hard_Disk/Projects/T2I/deep-spectral-segmentation/venv/lib/python3.8/site-packages/sklearn/decomposition/_pca.py:545: RuntimeWarning: invalid value encountered in divide\n",
      "  explained_variance_ratio_ = explained_variance_ / total_var\n"
     ]
    },
    {
     "name": "stdout",
     "output_type": "stream",
     "text": [
      "Starting Training\n",
      "epoch: 00, loss: 0.00000\n",
      "epoch: 01, loss: 0.00000\n",
      "epoch: 02, loss: 0.00000\n",
      "epoch: 03, loss: 0.00000\n",
      "epoch: 04, loss: 0.00000\n",
      "epoch: 05, loss: 0.00000\n",
      "epoch: 06, loss: 0.00000\n",
      "epoch: 07, loss: 0.00000\n",
      "epoch: 08, loss: 0.00000\n",
      "epoch: 09, loss: 0.00000\n",
      "After Unsqueezing, feature size= torch.Size([400, 384])\n",
      "type(projected_feature) <class 'torch.Tensor'>\n",
      "projected feature shape= torch.Size([400, 128])\n"
     ]
    },
    {
     "name": "stderr",
     "output_type": "stream",
     "text": [
      "  1%|          | 7/1000 [02:34<6:08:56, 22.29s/it]"
     ]
    },
    {
     "name": "stdout",
     "output_type": "stream",
     "text": [
      "eigenvalues shape torch.Size([5]) eigenvectors shape torch.Size([5, 400])\n",
      "7 /home/phdcs2/Hard_Disk/Datasets/Deep-Spectral-Segmentation/data/object-segmentation/ECSSD/features/dino_vits16/0008.pth\n",
      "0008\n",
      "Starting Training\n"
     ]
    },
    {
     "name": "stderr",
     "output_type": "stream",
     "text": [
      "/home/phdcs2/Hard_Disk/Projects/T2I/deep-spectral-segmentation/venv/lib/python3.8/site-packages/sklearn/decomposition/_pca.py:545: RuntimeWarning: invalid value encountered in divide\n",
      "  explained_variance_ratio_ = explained_variance_ / total_var\n"
     ]
    },
    {
     "name": "stdout",
     "output_type": "stream",
     "text": [
      "epoch: 00, loss: 0.00000\n",
      "epoch: 01, loss: 0.00000\n",
      "epoch: 02, loss: 0.00000\n",
      "epoch: 03, loss: 0.00000\n",
      "epoch: 04, loss: 0.00000\n",
      "epoch: 05, loss: 0.00000\n",
      "epoch: 06, loss: 0.00000\n",
      "epoch: 07, loss: 0.00000\n",
      "epoch: 08, loss: 0.00000\n",
      "epoch: 09, loss: 0.00000\n",
      "After Unsqueezing, feature size= torch.Size([400, 384])\n",
      "type(projected_feature) <class 'torch.Tensor'>\n",
      "projected feature shape= torch.Size([400, 128])\n"
     ]
    },
    {
     "name": "stderr",
     "output_type": "stream",
     "text": [
      "  1%|          | 8/1000 [02:58<6:14:06, 22.63s/it]"
     ]
    },
    {
     "name": "stdout",
     "output_type": "stream",
     "text": [
      "eigenvalues shape torch.Size([5]) eigenvectors shape torch.Size([5, 400])\n",
      "8 /home/phdcs2/Hard_Disk/Datasets/Deep-Spectral-Segmentation/data/object-segmentation/ECSSD/features/dino_vits16/0009.pth\n",
      "0009\n",
      "Starting Training\n",
      "epoch: 00, loss: -0.35958\n",
      "epoch: 01, loss: -0.33505\n",
      "epoch: 02, loss: -0.34728\n",
      "epoch: 03, loss: -0.35869\n",
      "epoch: 04, loss: -0.36848\n",
      "epoch: 05, loss: -0.37455\n",
      "epoch: 06, loss: -0.37887\n",
      "epoch: 07, loss: -0.38354\n",
      "epoch: 08, loss: -0.38675\n",
      "epoch: 09, loss: -0.38976\n",
      "After Unsqueezing, feature size= torch.Size([400, 384])\n",
      "type(projected_feature) <class 'torch.Tensor'>\n",
      "projected feature shape= torch.Size([400, 128])\n"
     ]
    },
    {
     "name": "stderr",
     "output_type": "stream",
     "text": [
      "  1%|          | 9/1000 [03:19<6:08:21, 22.30s/it]"
     ]
    },
    {
     "name": "stdout",
     "output_type": "stream",
     "text": [
      "eigenvalues shape torch.Size([5]) eigenvectors shape torch.Size([5, 400])\n",
      "9 /home/phdcs2/Hard_Disk/Datasets/Deep-Spectral-Segmentation/data/object-segmentation/ECSSD/features/dino_vits16/0010.pth\n",
      "0010\n",
      "Starting Training\n",
      "epoch: 00, loss: -0.18791\n",
      "epoch: 01, loss: -0.15965\n",
      "epoch: 02, loss: -0.15878\n",
      "epoch: 03, loss: -0.15765\n",
      "epoch: 04, loss: -0.15631\n",
      "epoch: 05, loss: -0.15453\n",
      "epoch: 06, loss: -0.15483\n",
      "epoch: 07, loss: -0.15533\n",
      "epoch: 08, loss: -0.15673\n",
      "epoch: 09, loss: -0.15492\n",
      "After Unsqueezing, feature size= torch.Size([400, 384])\n",
      "type(projected_feature) <class 'torch.Tensor'>\n",
      "projected feature shape= torch.Size([400, 128])\n"
     ]
    },
    {
     "name": "stderr",
     "output_type": "stream",
     "text": [
      "  1%|          | 10/1000 [03:40<6:01:08, 21.89s/it]"
     ]
    },
    {
     "name": "stdout",
     "output_type": "stream",
     "text": [
      "eigenvalues shape torch.Size([5]) eigenvectors shape torch.Size([5, 400])\n",
      "10 /home/phdcs2/Hard_Disk/Datasets/Deep-Spectral-Segmentation/data/object-segmentation/ECSSD/features/dino_vits16/0011.pth\n",
      "0011\n"
     ]
    },
    {
     "name": "stderr",
     "output_type": "stream",
     "text": [
      "/home/phdcs2/Hard_Disk/Projects/T2I/deep-spectral-segmentation/venv/lib/python3.8/site-packages/sklearn/decomposition/_pca.py:545: RuntimeWarning: invalid value encountered in divide\n",
      "  explained_variance_ratio_ = explained_variance_ / total_var\n"
     ]
    },
    {
     "name": "stdout",
     "output_type": "stream",
     "text": [
      "Starting Training\n",
      "epoch: 00, loss: 0.00000\n",
      "epoch: 01, loss: 0.00000\n",
      "epoch: 02, loss: 0.00000\n",
      "epoch: 03, loss: 0.00000\n",
      "epoch: 04, loss: 0.00000\n",
      "epoch: 05, loss: 0.00000\n",
      "epoch: 06, loss: 0.00000\n",
      "epoch: 07, loss: 0.00000\n",
      "epoch: 08, loss: 0.00000\n",
      "epoch: 09, loss: 0.00000\n",
      "After Unsqueezing, feature size= torch.Size([400, 384])\n",
      "type(projected_feature) <class 'torch.Tensor'>\n",
      "projected feature shape= torch.Size([400, 128])\n"
     ]
    },
    {
     "name": "stderr",
     "output_type": "stream",
     "text": [
      "  1%|          | 11/1000 [04:03<6:02:04, 21.97s/it]"
     ]
    },
    {
     "name": "stdout",
     "output_type": "stream",
     "text": [
      "eigenvalues shape torch.Size([5]) eigenvectors shape torch.Size([5, 400])\n",
      "11 /home/phdcs2/Hard_Disk/Datasets/Deep-Spectral-Segmentation/data/object-segmentation/ECSSD/features/dino_vits16/0012.pth\n",
      "0012\n"
     ]
    },
    {
     "name": "stderr",
     "output_type": "stream",
     "text": [
      "/home/phdcs2/Hard_Disk/Projects/T2I/deep-spectral-segmentation/venv/lib/python3.8/site-packages/sklearn/decomposition/_pca.py:545: RuntimeWarning: invalid value encountered in divide\n",
      "  explained_variance_ratio_ = explained_variance_ / total_var\n"
     ]
    },
    {
     "name": "stdout",
     "output_type": "stream",
     "text": [
      "Starting Training\n",
      "epoch: 00, loss: 0.00000\n",
      "epoch: 01, loss: 0.00000\n",
      "epoch: 02, loss: 0.00000\n",
      "epoch: 03, loss: 0.00000\n",
      "epoch: 04, loss: 0.00000\n",
      "epoch: 05, loss: 0.00000\n",
      "epoch: 06, loss: 0.00000\n",
      "epoch: 07, loss: 0.00000\n",
      "epoch: 08, loss: 0.00000\n",
      "epoch: 09, loss: 0.00000\n",
      "After Unsqueezing, feature size= torch.Size([400, 384])\n",
      "type(projected_feature) <class 'torch.Tensor'>\n",
      "projected feature shape= torch.Size([400, 128])\n"
     ]
    },
    {
     "name": "stderr",
     "output_type": "stream",
     "text": [
      "  1%|          | 12/1000 [04:25<6:05:47, 22.21s/it]"
     ]
    },
    {
     "name": "stdout",
     "output_type": "stream",
     "text": [
      "eigenvalues shape torch.Size([5]) eigenvectors shape torch.Size([5, 400])\n",
      "12 /home/phdcs2/Hard_Disk/Datasets/Deep-Spectral-Segmentation/data/object-segmentation/ECSSD/features/dino_vits16/0013.pth\n",
      "0013\n"
     ]
    },
    {
     "name": "stderr",
     "output_type": "stream",
     "text": [
      "/home/phdcs2/Hard_Disk/Projects/T2I/deep-spectral-segmentation/venv/lib/python3.8/site-packages/sklearn/decomposition/_pca.py:545: RuntimeWarning: invalid value encountered in divide\n",
      "  explained_variance_ratio_ = explained_variance_ / total_var\n"
     ]
    },
    {
     "name": "stdout",
     "output_type": "stream",
     "text": [
      "Starting Training\n",
      "epoch: 00, loss: 0.00000\n",
      "epoch: 01, loss: 0.00000\n",
      "epoch: 02, loss: 0.00000\n",
      "epoch: 03, loss: 0.00000\n",
      "epoch: 04, loss: 0.00000\n",
      "epoch: 05, loss: 0.00000\n",
      "epoch: 06, loss: 0.00000\n",
      "epoch: 07, loss: 0.00000\n",
      "epoch: 08, loss: 0.00000\n",
      "epoch: 09, loss: 0.00000\n",
      "After Unsqueezing, feature size= torch.Size([400, 384])\n",
      "type(projected_feature) <class 'torch.Tensor'>\n",
      "projected feature shape= torch.Size([400, 128])\n"
     ]
    },
    {
     "name": "stderr",
     "output_type": "stream",
     "text": [
      "  1%|▏         | 13/1000 [04:48<6:09:54, 22.49s/it]"
     ]
    },
    {
     "name": "stdout",
     "output_type": "stream",
     "text": [
      "eigenvalues shape torch.Size([5]) eigenvectors shape torch.Size([5, 400])\n",
      "13 /home/phdcs2/Hard_Disk/Datasets/Deep-Spectral-Segmentation/data/object-segmentation/ECSSD/features/dino_vits16/0014.pth\n",
      "0014\n"
     ]
    },
    {
     "name": "stderr",
     "output_type": "stream",
     "text": [
      "/home/phdcs2/Hard_Disk/Projects/T2I/deep-spectral-segmentation/venv/lib/python3.8/site-packages/sklearn/decomposition/_pca.py:545: RuntimeWarning: invalid value encountered in divide\n",
      "  explained_variance_ratio_ = explained_variance_ / total_var\n"
     ]
    },
    {
     "name": "stdout",
     "output_type": "stream",
     "text": [
      "Starting Training\n",
      "epoch: 00, loss: 0.00000\n",
      "epoch: 01, loss: 0.00000\n",
      "epoch: 02, loss: 0.00000\n",
      "epoch: 03, loss: 0.00000\n",
      "epoch: 04, loss: 0.00000\n",
      "epoch: 05, loss: 0.00000\n",
      "epoch: 06, loss: 0.00000\n",
      "epoch: 07, loss: 0.00000\n",
      "epoch: 08, loss: 0.00000\n",
      "epoch: 09, loss: 0.00000\n",
      "After Unsqueezing, feature size= torch.Size([400, 384])\n",
      "type(projected_feature) <class 'torch.Tensor'>\n",
      "projected feature shape= torch.Size([400, 128])\n"
     ]
    },
    {
     "name": "stderr",
     "output_type": "stream",
     "text": [
      "  1%|▏         | 14/1000 [05:10<6:04:22, 22.17s/it]"
     ]
    },
    {
     "name": "stdout",
     "output_type": "stream",
     "text": [
      "eigenvalues shape torch.Size([5]) eigenvectors shape torch.Size([5, 400])\n",
      "14 /home/phdcs2/Hard_Disk/Datasets/Deep-Spectral-Segmentation/data/object-segmentation/ECSSD/features/dino_vits16/0015.pth\n",
      "0015\n"
     ]
    },
    {
     "name": "stderr",
     "output_type": "stream",
     "text": [
      "/home/phdcs2/Hard_Disk/Projects/T2I/deep-spectral-segmentation/venv/lib/python3.8/site-packages/sklearn/decomposition/_pca.py:545: RuntimeWarning: invalid value encountered in divide\n",
      "  explained_variance_ratio_ = explained_variance_ / total_var\n"
     ]
    },
    {
     "name": "stdout",
     "output_type": "stream",
     "text": [
      "Starting Training\n",
      "epoch: 00, loss: 0.00000\n",
      "epoch: 01, loss: 0.00000\n",
      "epoch: 02, loss: 0.00000\n",
      "epoch: 03, loss: 0.00000\n",
      "epoch: 04, loss: 0.00000\n",
      "epoch: 05, loss: 0.00000\n",
      "epoch: 06, loss: 0.00000\n",
      "epoch: 07, loss: 0.00000\n",
      "epoch: 08, loss: 0.00000\n",
      "epoch: 09, loss: 0.00000\n",
      "After Unsqueezing, feature size= torch.Size([400, 384])\n",
      "type(projected_feature) <class 'torch.Tensor'>\n",
      "projected feature shape= torch.Size([400, 128])\n"
     ]
    },
    {
     "name": "stderr",
     "output_type": "stream",
     "text": [
      "  2%|▏         | 15/1000 [05:31<5:56:31, 21.72s/it]"
     ]
    },
    {
     "name": "stdout",
     "output_type": "stream",
     "text": [
      "eigenvalues shape torch.Size([5]) eigenvectors shape torch.Size([5, 400])\n",
      "15 /home/phdcs2/Hard_Disk/Datasets/Deep-Spectral-Segmentation/data/object-segmentation/ECSSD/features/dino_vits16/0016.pth\n",
      "0016\n"
     ]
    },
    {
     "name": "stderr",
     "output_type": "stream",
     "text": [
      "/home/phdcs2/Hard_Disk/Projects/T2I/deep-spectral-segmentation/venv/lib/python3.8/site-packages/sklearn/decomposition/_pca.py:545: RuntimeWarning: invalid value encountered in divide\n",
      "  explained_variance_ratio_ = explained_variance_ / total_var\n"
     ]
    },
    {
     "name": "stdout",
     "output_type": "stream",
     "text": [
      "Starting Training\n",
      "epoch: 00, loss: 0.00000\n",
      "epoch: 01, loss: 0.00000\n",
      "epoch: 02, loss: 0.00000\n",
      "epoch: 03, loss: 0.00000\n",
      "epoch: 04, loss: 0.00000\n",
      "epoch: 05, loss: 0.00000\n",
      "epoch: 06, loss: 0.00000\n",
      "epoch: 07, loss: 0.00000\n",
      "epoch: 08, loss: 0.00000\n",
      "epoch: 09, loss: 0.00000\n",
      "After Unsqueezing, feature size= torch.Size([400, 384])\n",
      "type(projected_feature) <class 'torch.Tensor'>\n",
      "projected feature shape= torch.Size([400, 128])\n"
     ]
    },
    {
     "name": "stderr",
     "output_type": "stream",
     "text": [
      "  2%|▏         | 16/1000 [05:53<6:01:06, 22.02s/it]"
     ]
    },
    {
     "name": "stdout",
     "output_type": "stream",
     "text": [
      "eigenvalues shape torch.Size([5]) eigenvectors shape torch.Size([5, 400])\n",
      "16 /home/phdcs2/Hard_Disk/Datasets/Deep-Spectral-Segmentation/data/object-segmentation/ECSSD/features/dino_vits16/0017.pth\n",
      "0017\n",
      "Starting Training\n",
      "epoch: 00, loss: -0.73865\n",
      "epoch: 01, loss: -0.83230\n",
      "epoch: 02, loss: -0.83534\n",
      "epoch: 03, loss: -0.83753\n",
      "epoch: 04, loss: -0.83959\n",
      "epoch: 05, loss: -0.84112\n",
      "epoch: 06, loss: -0.84220\n",
      "epoch: 07, loss: -0.84312\n",
      "epoch: 08, loss: -0.84403\n",
      "epoch: 09, loss: -0.84428\n",
      "After Unsqueezing, feature size= torch.Size([400, 384])\n",
      "type(projected_feature) <class 'torch.Tensor'>\n",
      "projected feature shape= torch.Size([400, 128])\n"
     ]
    },
    {
     "name": "stderr",
     "output_type": "stream",
     "text": [
      "  2%|▏         | 17/1000 [06:14<5:53:28, 21.58s/it]"
     ]
    },
    {
     "name": "stdout",
     "output_type": "stream",
     "text": [
      "eigenvalues shape torch.Size([5]) eigenvectors shape torch.Size([5, 400])\n",
      "17 /home/phdcs2/Hard_Disk/Datasets/Deep-Spectral-Segmentation/data/object-segmentation/ECSSD/features/dino_vits16/0018.pth\n",
      "0018\n",
      "Starting Training\n",
      "epoch: 00, loss: -0.21193\n",
      "epoch: 01, loss: -0.22044\n",
      "epoch: 02, loss: -0.22267\n",
      "epoch: 03, loss: -0.22560\n",
      "epoch: 04, loss: -0.22638\n",
      "epoch: 05, loss: -0.22791\n",
      "epoch: 06, loss: -0.22986\n",
      "epoch: 07, loss: -0.23165\n",
      "epoch: 08, loss: -0.23344\n",
      "epoch: 09, loss: -0.23379\n",
      "After Unsqueezing, feature size= torch.Size([400, 384])\n",
      "type(projected_feature) <class 'torch.Tensor'>\n",
      "projected feature shape= torch.Size([400, 128])\n"
     ]
    },
    {
     "name": "stderr",
     "output_type": "stream",
     "text": [
      "  2%|▏         | 18/1000 [06:35<5:52:20, 21.53s/it]"
     ]
    },
    {
     "name": "stdout",
     "output_type": "stream",
     "text": [
      "eigenvalues shape torch.Size([5]) eigenvectors shape torch.Size([5, 400])\n",
      "18 /home/phdcs2/Hard_Disk/Datasets/Deep-Spectral-Segmentation/data/object-segmentation/ECSSD/features/dino_vits16/0019.pth\n",
      "0019\n",
      "Starting Training\n",
      "epoch: 00, loss: -0.33146\n",
      "epoch: 01, loss: -0.34644\n",
      "epoch: 02, loss: -0.35207\n",
      "epoch: 03, loss: -0.36007\n",
      "epoch: 04, loss: -0.36438\n",
      "epoch: 05, loss: -0.37018\n",
      "epoch: 06, loss: -0.37585\n",
      "epoch: 07, loss: -0.38164\n",
      "epoch: 08, loss: -0.38571\n",
      "epoch: 09, loss: -0.38898\n",
      "After Unsqueezing, feature size= torch.Size([400, 384])\n",
      "type(projected_feature) <class 'torch.Tensor'>\n",
      "projected feature shape= torch.Size([400, 128])\n"
     ]
    },
    {
     "name": "stderr",
     "output_type": "stream",
     "text": [
      "  2%|▏         | 19/1000 [06:55<5:42:13, 20.93s/it]"
     ]
    },
    {
     "name": "stdout",
     "output_type": "stream",
     "text": [
      "eigenvalues shape torch.Size([5]) eigenvectors shape torch.Size([5, 400])\n",
      "19 /home/phdcs2/Hard_Disk/Datasets/Deep-Spectral-Segmentation/data/object-segmentation/ECSSD/features/dino_vits16/0020.pth\n",
      "0020\n",
      "Starting Training\n",
      "epoch: 00, loss: -0.76283\n",
      "epoch: 01, loss: -0.87284\n",
      "epoch: 02, loss: -0.87392\n",
      "epoch: 03, loss: -0.87477\n",
      "epoch: 04, loss: -0.87586\n",
      "epoch: 05, loss: -0.87731\n",
      "epoch: 06, loss: -0.87719\n",
      "epoch: 07, loss: -0.87830\n",
      "epoch: 08, loss: -0.87955\n",
      "epoch: 09, loss: -0.87943\n",
      "After Unsqueezing, feature size= torch.Size([400, 384])\n",
      "type(projected_feature) <class 'torch.Tensor'>\n",
      "projected feature shape= torch.Size([400, 128])\n"
     ]
    },
    {
     "name": "stderr",
     "output_type": "stream",
     "text": [
      "  2%|▏         | 20/1000 [07:14<5:32:09, 20.34s/it]"
     ]
    },
    {
     "name": "stdout",
     "output_type": "stream",
     "text": [
      "eigenvalues shape torch.Size([5]) eigenvectors shape torch.Size([5, 400])\n",
      "20 /home/phdcs2/Hard_Disk/Datasets/Deep-Spectral-Segmentation/data/object-segmentation/ECSSD/features/dino_vits16/0021.pth\n",
      "0021\n",
      "Starting Training\n",
      "epoch: 00, loss: -0.24332\n",
      "epoch: 01, loss: -0.24939\n",
      "epoch: 02, loss: -0.25391\n",
      "epoch: 03, loss: -0.25647\n",
      "epoch: 04, loss: -0.25828\n",
      "epoch: 05, loss: -0.25946\n",
      "epoch: 06, loss: -0.26162\n",
      "epoch: 07, loss: -0.26428\n",
      "epoch: 08, loss: -0.26690\n",
      "epoch: 09, loss: -0.26996\n",
      "After Unsqueezing, feature size= torch.Size([400, 384])\n",
      "type(projected_feature) <class 'torch.Tensor'>\n",
      "projected feature shape= torch.Size([400, 128])\n"
     ]
    },
    {
     "name": "stderr",
     "output_type": "stream",
     "text": [
      "  2%|▏         | 21/1000 [07:33<5:25:55, 19.98s/it]"
     ]
    },
    {
     "name": "stdout",
     "output_type": "stream",
     "text": [
      "eigenvalues shape torch.Size([5]) eigenvectors shape torch.Size([5, 400])\n",
      "21 /home/phdcs2/Hard_Disk/Datasets/Deep-Spectral-Segmentation/data/object-segmentation/ECSSD/features/dino_vits16/0022.pth\n",
      "0022\n"
     ]
    },
    {
     "name": "stderr",
     "output_type": "stream",
     "text": [
      "/home/phdcs2/Hard_Disk/Projects/T2I/deep-spectral-segmentation/venv/lib/python3.8/site-packages/sklearn/decomposition/_pca.py:545: RuntimeWarning: invalid value encountered in divide\n",
      "  explained_variance_ratio_ = explained_variance_ / total_var\n"
     ]
    },
    {
     "name": "stdout",
     "output_type": "stream",
     "text": [
      "Starting Training\n",
      "epoch: 00, loss: 0.00000\n",
      "epoch: 01, loss: 0.00000\n",
      "epoch: 02, loss: 0.00000\n",
      "epoch: 03, loss: 0.00000\n",
      "epoch: 04, loss: 0.00000\n",
      "epoch: 05, loss: 0.00000\n",
      "epoch: 06, loss: 0.00000\n",
      "epoch: 07, loss: 0.00000\n",
      "epoch: 08, loss: 0.00000\n",
      "epoch: 09, loss: 0.00000\n",
      "After Unsqueezing, feature size= torch.Size([400, 384])\n",
      "type(projected_feature) <class 'torch.Tensor'>\n",
      "projected feature shape= torch.Size([400, 128])\n"
     ]
    },
    {
     "name": "stderr",
     "output_type": "stream",
     "text": [
      "  2%|▏         | 22/1000 [07:52<5:20:42, 19.68s/it]"
     ]
    },
    {
     "name": "stdout",
     "output_type": "stream",
     "text": [
      "eigenvalues shape torch.Size([5]) eigenvectors shape torch.Size([5, 400])\n",
      "22 /home/phdcs2/Hard_Disk/Datasets/Deep-Spectral-Segmentation/data/object-segmentation/ECSSD/features/dino_vits16/0023.pth\n",
      "0023\n",
      "Starting Training\n",
      "epoch: 00, loss: -0.31277\n",
      "epoch: 01, loss: -0.32561\n",
      "epoch: 02, loss: -0.32813\n",
      "epoch: 03, loss: -0.33489\n",
      "epoch: 04, loss: -0.33716\n",
      "epoch: 05, loss: -0.34133\n",
      "epoch: 06, loss: -0.34368\n",
      "epoch: 07, loss: -0.34827\n",
      "epoch: 08, loss: -0.35271\n",
      "epoch: 09, loss: -0.35565\n",
      "After Unsqueezing, feature size= torch.Size([400, 384])\n",
      "type(projected_feature) <class 'torch.Tensor'>\n",
      "projected feature shape= torch.Size([400, 128])\n"
     ]
    },
    {
     "name": "stderr",
     "output_type": "stream",
     "text": [
      "  2%|▏         | 23/1000 [08:11<5:17:26, 19.49s/it]"
     ]
    },
    {
     "name": "stdout",
     "output_type": "stream",
     "text": [
      "eigenvalues shape torch.Size([5]) eigenvectors shape torch.Size([5, 400])\n",
      "23 /home/phdcs2/Hard_Disk/Datasets/Deep-Spectral-Segmentation/data/object-segmentation/ECSSD/features/dino_vits16/0024.pth\n",
      "0024\n",
      "Starting Training\n",
      "epoch: 00, loss: -0.20593\n",
      "epoch: 01, loss: -0.20943\n",
      "epoch: 02, loss: -0.21229\n",
      "epoch: 03, loss: -0.21522\n",
      "epoch: 04, loss: -0.21888\n",
      "epoch: 05, loss: -0.22266\n",
      "epoch: 06, loss: -0.22620\n",
      "epoch: 07, loss: -0.22932\n",
      "epoch: 08, loss: -0.23351\n",
      "epoch: 09, loss: -0.23606\n",
      "After Unsqueezing, feature size= torch.Size([400, 384])\n",
      "type(projected_feature) <class 'torch.Tensor'>\n",
      "projected feature shape= torch.Size([400, 128])\n"
     ]
    },
    {
     "name": "stderr",
     "output_type": "stream",
     "text": [
      "  2%|▏         | 24/1000 [08:30<5:13:26, 19.27s/it]"
     ]
    },
    {
     "name": "stdout",
     "output_type": "stream",
     "text": [
      "eigenvalues shape torch.Size([5]) eigenvectors shape torch.Size([5, 400])\n",
      "24 /home/phdcs2/Hard_Disk/Datasets/Deep-Spectral-Segmentation/data/object-segmentation/ECSSD/features/dino_vits16/0025.pth\n",
      "0025\n",
      "Starting Training\n",
      "epoch: 00, loss: -0.29311\n",
      "epoch: 01, loss: -0.31469\n",
      "epoch: 02, loss: -0.31800\n",
      "epoch: 03, loss: -0.32390\n",
      "epoch: 04, loss: -0.32697\n",
      "epoch: 05, loss: -0.33172\n",
      "epoch: 06, loss: -0.33481\n",
      "epoch: 07, loss: -0.33783\n",
      "epoch: 08, loss: -0.34107\n",
      "epoch: 09, loss: -0.34478\n",
      "After Unsqueezing, feature size= torch.Size([400, 384])\n",
      "type(projected_feature) <class 'torch.Tensor'>\n",
      "projected feature shape= torch.Size([400, 128])\n"
     ]
    },
    {
     "name": "stderr",
     "output_type": "stream",
     "text": [
      "  2%|▎         | 25/1000 [08:49<5:11:16, 19.16s/it]"
     ]
    },
    {
     "name": "stdout",
     "output_type": "stream",
     "text": [
      "eigenvalues shape torch.Size([5]) eigenvectors shape torch.Size([5, 400])\n",
      "25 /home/phdcs2/Hard_Disk/Datasets/Deep-Spectral-Segmentation/data/object-segmentation/ECSSD/features/dino_vits16/0026.pth\n",
      "0026\n",
      "Starting Training\n",
      "epoch: 00, loss: -0.29519\n",
      "epoch: 01, loss: -0.30565\n",
      "epoch: 02, loss: -0.31308\n",
      "epoch: 03, loss: -0.31757\n",
      "epoch: 04, loss: -0.32303\n",
      "epoch: 05, loss: -0.32694\n",
      "epoch: 06, loss: -0.33271\n",
      "epoch: 07, loss: -0.33594\n",
      "epoch: 08, loss: -0.34046\n",
      "epoch: 09, loss: -0.34334\n",
      "After Unsqueezing, feature size= torch.Size([400, 384])\n",
      "type(projected_feature) <class 'torch.Tensor'>\n",
      "projected feature shape= torch.Size([400, 128])\n"
     ]
    },
    {
     "name": "stderr",
     "output_type": "stream",
     "text": [
      "  3%|▎         | 26/1000 [09:07<5:10:01, 19.10s/it]"
     ]
    },
    {
     "name": "stdout",
     "output_type": "stream",
     "text": [
      "eigenvalues shape torch.Size([5]) eigenvectors shape torch.Size([5, 400])\n",
      "26 /home/phdcs2/Hard_Disk/Datasets/Deep-Spectral-Segmentation/data/object-segmentation/ECSSD/features/dino_vits16/0027.pth\n",
      "0027\n",
      "Starting Training\n"
     ]
    },
    {
     "name": "stderr",
     "output_type": "stream",
     "text": [
      "/home/phdcs2/Hard_Disk/Projects/T2I/deep-spectral-segmentation/venv/lib/python3.8/site-packages/sklearn/decomposition/_pca.py:545: RuntimeWarning: invalid value encountered in divide\n",
      "  explained_variance_ratio_ = explained_variance_ / total_var\n"
     ]
    },
    {
     "name": "stdout",
     "output_type": "stream",
     "text": [
      "epoch: 00, loss: 0.00000\n",
      "epoch: 01, loss: 0.00000\n",
      "epoch: 02, loss: 0.00000\n",
      "epoch: 03, loss: 0.00000\n",
      "epoch: 04, loss: 0.00000\n",
      "epoch: 05, loss: 0.00000\n",
      "epoch: 06, loss: 0.00000\n",
      "epoch: 07, loss: 0.00000\n",
      "epoch: 08, loss: 0.00000\n",
      "epoch: 09, loss: 0.00000\n",
      "After Unsqueezing, feature size= torch.Size([400, 384])\n",
      "type(projected_feature) <class 'torch.Tensor'>\n",
      "projected feature shape= torch.Size([400, 128])\n"
     ]
    },
    {
     "name": "stderr",
     "output_type": "stream",
     "text": [
      "  3%|▎         | 27/1000 [09:27<5:10:11, 19.13s/it]"
     ]
    },
    {
     "name": "stdout",
     "output_type": "stream",
     "text": [
      "eigenvalues shape torch.Size([5]) eigenvectors shape torch.Size([5, 400])\n",
      "27 /home/phdcs2/Hard_Disk/Datasets/Deep-Spectral-Segmentation/data/object-segmentation/ECSSD/features/dino_vits16/0028.pth\n",
      "0028\n",
      "Starting Training\n",
      "epoch: 00, loss: -0.69820\n",
      "epoch: 01, loss: -0.80750\n",
      "epoch: 02, loss: -0.80937\n",
      "epoch: 03, loss: -0.81142\n",
      "epoch: 04, loss: -0.81304\n",
      "epoch: 05, loss: -0.81379\n",
      "epoch: 06, loss: -0.81544\n",
      "epoch: 07, loss: -0.81549\n",
      "epoch: 08, loss: -0.81660\n",
      "epoch: 09, loss: -0.81760\n",
      "After Unsqueezing, feature size= torch.Size([400, 384])\n",
      "type(projected_feature) <class 'torch.Tensor'>\n",
      "projected feature shape= torch.Size([400, 128])\n"
     ]
    },
    {
     "name": "stderr",
     "output_type": "stream",
     "text": [
      "  3%|▎         | 28/1000 [09:46<5:09:13, 19.09s/it]"
     ]
    },
    {
     "name": "stdout",
     "output_type": "stream",
     "text": [
      "eigenvalues shape torch.Size([5]) eigenvectors shape torch.Size([5, 400])\n",
      "28 /home/phdcs2/Hard_Disk/Datasets/Deep-Spectral-Segmentation/data/object-segmentation/ECSSD/features/dino_vits16/0029.pth\n",
      "0029\n",
      "Starting Training\n"
     ]
    },
    {
     "name": "stderr",
     "output_type": "stream",
     "text": [
      "/home/phdcs2/Hard_Disk/Projects/T2I/deep-spectral-segmentation/venv/lib/python3.8/site-packages/sklearn/decomposition/_pca.py:545: RuntimeWarning: invalid value encountered in divide\n",
      "  explained_variance_ratio_ = explained_variance_ / total_var\n"
     ]
    },
    {
     "name": "stdout",
     "output_type": "stream",
     "text": [
      "epoch: 00, loss: 0.00000\n",
      "epoch: 01, loss: 0.00000\n",
      "epoch: 02, loss: 0.00000\n",
      "epoch: 03, loss: 0.00000\n",
      "epoch: 04, loss: 0.00000\n",
      "epoch: 05, loss: 0.00000\n",
      "epoch: 06, loss: 0.00000\n",
      "epoch: 07, loss: 0.00000\n",
      "epoch: 08, loss: 0.00000\n",
      "epoch: 09, loss: 0.00000\n",
      "After Unsqueezing, feature size= torch.Size([400, 384])\n",
      "type(projected_feature) <class 'torch.Tensor'>\n",
      "projected feature shape= torch.Size([400, 128])\n"
     ]
    },
    {
     "name": "stderr",
     "output_type": "stream",
     "text": [
      "  3%|▎         | 29/1000 [10:05<5:08:25, 19.06s/it]"
     ]
    },
    {
     "name": "stdout",
     "output_type": "stream",
     "text": [
      "eigenvalues shape torch.Size([5]) eigenvectors shape torch.Size([5, 400])\n",
      "29 /home/phdcs2/Hard_Disk/Datasets/Deep-Spectral-Segmentation/data/object-segmentation/ECSSD/features/dino_vits16/0030.pth\n",
      "0030\n",
      "Starting Training\n",
      "epoch: 00, loss: -0.15692\n",
      "epoch: 01, loss: -0.18073\n",
      "epoch: 02, loss: -0.18197\n",
      "epoch: 03, loss: -0.18372\n",
      "epoch: 04, loss: -0.18592\n",
      "epoch: 05, loss: -0.18906\n",
      "epoch: 06, loss: -0.19159\n",
      "epoch: 07, loss: -0.19364\n",
      "epoch: 08, loss: -0.20034\n",
      "epoch: 09, loss: -0.20782\n",
      "After Unsqueezing, feature size= torch.Size([400, 384])\n",
      "type(projected_feature) <class 'torch.Tensor'>\n",
      "projected feature shape= torch.Size([400, 128])\n"
     ]
    },
    {
     "name": "stderr",
     "output_type": "stream",
     "text": [
      "  3%|▎         | 30/1000 [10:24<5:07:50, 19.04s/it]"
     ]
    },
    {
     "name": "stdout",
     "output_type": "stream",
     "text": [
      "eigenvalues shape torch.Size([5]) eigenvectors shape torch.Size([5, 400])\n",
      "30 /home/phdcs2/Hard_Disk/Datasets/Deep-Spectral-Segmentation/data/object-segmentation/ECSSD/features/dino_vits16/0031.pth\n",
      "0031\n",
      "Starting Training\n",
      "epoch: 00, loss: -0.33183\n",
      "epoch: 01, loss: -0.36111\n",
      "epoch: 02, loss: -0.37720\n",
      "epoch: 03, loss: -0.38902\n",
      "epoch: 04, loss: -0.39694\n",
      "epoch: 05, loss: -0.40202\n",
      "epoch: 06, loss: -0.40839\n",
      "epoch: 07, loss: -0.41680\n",
      "epoch: 08, loss: -0.42031\n",
      "epoch: 09, loss: -0.42427\n",
      "After Unsqueezing, feature size= torch.Size([400, 384])\n",
      "type(projected_feature) <class 'torch.Tensor'>\n",
      "projected feature shape= torch.Size([400, 128])\n"
     ]
    },
    {
     "name": "stderr",
     "output_type": "stream",
     "text": [
      "  3%|▎         | 31/1000 [10:43<5:06:39, 18.99s/it]"
     ]
    },
    {
     "name": "stdout",
     "output_type": "stream",
     "text": [
      "eigenvalues shape torch.Size([5]) eigenvectors shape torch.Size([5, 400])\n",
      "31 /home/phdcs2/Hard_Disk/Datasets/Deep-Spectral-Segmentation/data/object-segmentation/ECSSD/features/dino_vits16/0032.pth\n",
      "0032\n",
      "Starting Training\n",
      "epoch: 00, loss: -0.30787\n",
      "epoch: 01, loss: -0.32694\n",
      "epoch: 02, loss: -0.33609\n",
      "epoch: 03, loss: -0.33911\n",
      "epoch: 04, loss: -0.34291\n",
      "epoch: 05, loss: -0.34606\n",
      "epoch: 06, loss: -0.34917\n",
      "epoch: 07, loss: -0.35326\n",
      "epoch: 08, loss: -0.35554\n",
      "epoch: 09, loss: -0.35926\n",
      "After Unsqueezing, feature size= torch.Size([400, 384])\n",
      "type(projected_feature) <class 'torch.Tensor'>\n",
      "projected feature shape= torch.Size([400, 128])\n"
     ]
    },
    {
     "name": "stderr",
     "output_type": "stream",
     "text": [
      "  3%|▎         | 32/1000 [11:02<5:06:33, 19.00s/it]"
     ]
    },
    {
     "name": "stdout",
     "output_type": "stream",
     "text": [
      "eigenvalues shape torch.Size([5]) eigenvectors shape torch.Size([5, 400])\n",
      "32 /home/phdcs2/Hard_Disk/Datasets/Deep-Spectral-Segmentation/data/object-segmentation/ECSSD/features/dino_vits16/0033.pth\n",
      "0033\n"
     ]
    },
    {
     "name": "stderr",
     "output_type": "stream",
     "text": [
      "/home/phdcs2/Hard_Disk/Projects/T2I/deep-spectral-segmentation/venv/lib/python3.8/site-packages/sklearn/decomposition/_pca.py:545: RuntimeWarning: invalid value encountered in divide\n",
      "  explained_variance_ratio_ = explained_variance_ / total_var\n"
     ]
    },
    {
     "name": "stdout",
     "output_type": "stream",
     "text": [
      "Starting Training\n",
      "epoch: 00, loss: 0.00000\n",
      "epoch: 01, loss: 0.00000\n",
      "epoch: 02, loss: 0.00000\n",
      "epoch: 03, loss: 0.00000\n",
      "epoch: 04, loss: 0.00000\n",
      "epoch: 05, loss: 0.00000\n",
      "epoch: 06, loss: 0.00000\n",
      "epoch: 07, loss: 0.00000\n",
      "epoch: 08, loss: 0.00000\n",
      "epoch: 09, loss: 0.00000\n",
      "After Unsqueezing, feature size= torch.Size([400, 384])\n",
      "type(projected_feature) <class 'torch.Tensor'>\n",
      "projected feature shape= torch.Size([400, 128])\n"
     ]
    },
    {
     "name": "stderr",
     "output_type": "stream",
     "text": [
      "  3%|▎         | 33/1000 [11:21<5:07:21, 19.07s/it]"
     ]
    },
    {
     "name": "stdout",
     "output_type": "stream",
     "text": [
      "eigenvalues shape torch.Size([5]) eigenvectors shape torch.Size([5, 400])\n",
      "33 /home/phdcs2/Hard_Disk/Datasets/Deep-Spectral-Segmentation/data/object-segmentation/ECSSD/features/dino_vits16/0034.pth\n",
      "0034\n"
     ]
    },
    {
     "name": "stderr",
     "output_type": "stream",
     "text": [
      "/home/phdcs2/Hard_Disk/Projects/T2I/deep-spectral-segmentation/venv/lib/python3.8/site-packages/sklearn/decomposition/_pca.py:545: RuntimeWarning: invalid value encountered in divide\n",
      "  explained_variance_ratio_ = explained_variance_ / total_var\n"
     ]
    },
    {
     "name": "stdout",
     "output_type": "stream",
     "text": [
      "Starting Training\n",
      "epoch: 00, loss: 0.00000\n",
      "epoch: 01, loss: 0.00000\n",
      "epoch: 02, loss: 0.00000\n",
      "epoch: 03, loss: 0.00000\n",
      "epoch: 04, loss: 0.00000\n",
      "epoch: 05, loss: 0.00000\n",
      "epoch: 06, loss: 0.00000\n",
      "epoch: 07, loss: 0.00000\n",
      "epoch: 08, loss: 0.00000\n",
      "epoch: 09, loss: 0.00000\n",
      "After Unsqueezing, feature size= torch.Size([400, 384])\n",
      "type(projected_feature) <class 'torch.Tensor'>\n",
      "projected feature shape= torch.Size([400, 128])\n"
     ]
    },
    {
     "name": "stderr",
     "output_type": "stream",
     "text": [
      "  3%|▎         | 34/1000 [11:40<5:06:01, 19.01s/it]"
     ]
    },
    {
     "name": "stdout",
     "output_type": "stream",
     "text": [
      "eigenvalues shape torch.Size([5]) eigenvectors shape torch.Size([5, 400])\n",
      "34 /home/phdcs2/Hard_Disk/Datasets/Deep-Spectral-Segmentation/data/object-segmentation/ECSSD/features/dino_vits16/0035.pth\n",
      "0035\n",
      "Starting Training\n",
      "epoch: 00, loss: -0.02345\n",
      "epoch: 01, loss: -0.02419\n",
      "epoch: 02, loss: -0.02426\n",
      "epoch: 03, loss: -0.02409\n",
      "epoch: 04, loss: -0.02406\n",
      "epoch: 05, loss: -0.02407\n",
      "epoch: 06, loss: -0.02415\n",
      "epoch: 07, loss: -0.02435\n",
      "epoch: 08, loss: -0.02425\n",
      "epoch: 09, loss: -0.02438\n",
      "After Unsqueezing, feature size= torch.Size([400, 384])\n",
      "type(projected_feature) <class 'torch.Tensor'>\n",
      "projected feature shape= torch.Size([400, 128])\n"
     ]
    },
    {
     "name": "stderr",
     "output_type": "stream",
     "text": [
      "  4%|▎         | 35/1000 [11:59<5:05:39, 19.00s/it]"
     ]
    },
    {
     "name": "stdout",
     "output_type": "stream",
     "text": [
      "eigenvalues shape torch.Size([5]) eigenvectors shape torch.Size([5, 400])\n",
      "35 /home/phdcs2/Hard_Disk/Datasets/Deep-Spectral-Segmentation/data/object-segmentation/ECSSD/features/dino_vits16/0036.pth\n",
      "0036\n",
      "Starting Training\n",
      "epoch: 00, loss: -0.32956\n",
      "epoch: 01, loss: -0.34520\n",
      "epoch: 02, loss: -0.35605\n",
      "epoch: 03, loss: -0.36613\n",
      "epoch: 04, loss: -0.37394\n",
      "epoch: 05, loss: -0.38088\n",
      "epoch: 06, loss: -0.38777\n",
      "epoch: 07, loss: -0.39278\n",
      "epoch: 08, loss: -0.39561\n",
      "epoch: 09, loss: -0.39948\n",
      "After Unsqueezing, feature size= torch.Size([450, 384])\n",
      "type(projected_feature) <class 'torch.Tensor'>\n",
      "projected feature shape= torch.Size([450, 128])\n"
     ]
    },
    {
     "name": "stderr",
     "output_type": "stream",
     "text": [
      "  4%|▎         | 36/1000 [12:20<5:15:14, 19.62s/it]"
     ]
    },
    {
     "name": "stdout",
     "output_type": "stream",
     "text": [
      "eigenvalues shape torch.Size([5]) eigenvectors shape torch.Size([5, 450])\n",
      "36 /home/phdcs2/Hard_Disk/Datasets/Deep-Spectral-Segmentation/data/object-segmentation/ECSSD/features/dino_vits16/0037.pth\n",
      "0037\n",
      "Starting Training\n",
      "epoch: 00, loss: -0.76415\n",
      "epoch: 01, loss: -0.86553\n",
      "epoch: 02, loss: -0.86752\n",
      "epoch: 03, loss: -0.86777\n",
      "epoch: 04, loss: -0.86911\n",
      "epoch: 05, loss: -0.87043\n",
      "epoch: 06, loss: -0.87125\n",
      "epoch: 07, loss: -0.87246\n",
      "epoch: 08, loss: -0.87295\n",
      "epoch: 09, loss: -0.87469\n",
      "After Unsqueezing, feature size= torch.Size([450, 384])\n",
      "type(projected_feature) <class 'torch.Tensor'>\n",
      "projected feature shape= torch.Size([450, 128])\n"
     ]
    },
    {
     "name": "stderr",
     "output_type": "stream",
     "text": [
      "  4%|▎         | 37/1000 [12:41<5:22:11, 20.07s/it]"
     ]
    },
    {
     "name": "stdout",
     "output_type": "stream",
     "text": [
      "eigenvalues shape torch.Size([5]) eigenvectors shape torch.Size([5, 450])\n",
      "37 /home/phdcs2/Hard_Disk/Datasets/Deep-Spectral-Segmentation/data/object-segmentation/ECSSD/features/dino_vits16/0038.pth\n",
      "0038\n",
      "Starting Training\n",
      "epoch: 00, loss: -0.32269\n",
      "epoch: 01, loss: -0.32759\n",
      "epoch: 02, loss: -0.33212\n",
      "epoch: 03, loss: -0.33688\n",
      "epoch: 04, loss: -0.33981\n",
      "epoch: 05, loss: -0.34325\n",
      "epoch: 06, loss: -0.34684\n",
      "epoch: 07, loss: -0.35084\n",
      "epoch: 08, loss: -0.35387\n",
      "epoch: 09, loss: -0.35712\n",
      "After Unsqueezing, feature size= torch.Size([400, 384])\n",
      "type(projected_feature) <class 'torch.Tensor'>\n",
      "projected feature shape= torch.Size([400, 128])\n"
     ]
    },
    {
     "name": "stderr",
     "output_type": "stream",
     "text": [
      "  4%|▍         | 38/1000 [13:00<5:16:20, 19.73s/it]"
     ]
    },
    {
     "name": "stdout",
     "output_type": "stream",
     "text": [
      "eigenvalues shape torch.Size([5]) eigenvectors shape torch.Size([5, 400])\n",
      "38 /home/phdcs2/Hard_Disk/Datasets/Deep-Spectral-Segmentation/data/object-segmentation/ECSSD/features/dino_vits16/0039.pth\n",
      "0039\n",
      "Starting Training\n",
      "epoch: 00, loss: -0.22294\n",
      "epoch: 01, loss: -0.19091\n",
      "epoch: 02, loss: -0.20529\n",
      "epoch: 03, loss: -0.21762\n",
      "epoch: 04, loss: -0.20850\n",
      "epoch: 05, loss: -0.19858\n",
      "epoch: 06, loss: -0.16765\n",
      "epoch: 07, loss: -0.17327\n",
      "epoch: 08, loss: -0.16826\n",
      "epoch: 09, loss: -0.16283\n",
      "After Unsqueezing, feature size= torch.Size([400, 384])\n",
      "type(projected_feature) <class 'torch.Tensor'>\n",
      "projected feature shape= torch.Size([400, 128])\n"
     ]
    },
    {
     "name": "stderr",
     "output_type": "stream",
     "text": [
      "  4%|▍         | 39/1000 [13:19<5:12:18, 19.50s/it]"
     ]
    },
    {
     "name": "stdout",
     "output_type": "stream",
     "text": [
      "eigenvalues shape torch.Size([5]) eigenvectors shape torch.Size([5, 400])\n",
      "39 /home/phdcs2/Hard_Disk/Datasets/Deep-Spectral-Segmentation/data/object-segmentation/ECSSD/features/dino_vits16/0040.pth\n",
      "0040\n"
     ]
    },
    {
     "name": "stderr",
     "output_type": "stream",
     "text": [
      "/home/phdcs2/Hard_Disk/Projects/T2I/deep-spectral-segmentation/venv/lib/python3.8/site-packages/sklearn/decomposition/_pca.py:545: RuntimeWarning: invalid value encountered in divide\n",
      "  explained_variance_ratio_ = explained_variance_ / total_var\n"
     ]
    },
    {
     "name": "stdout",
     "output_type": "stream",
     "text": [
      "Starting Training\n",
      "epoch: 00, loss: 0.00000\n",
      "epoch: 01, loss: 0.00000\n",
      "epoch: 02, loss: 0.00000\n",
      "epoch: 03, loss: 0.00000\n",
      "epoch: 04, loss: 0.00000\n",
      "epoch: 05, loss: 0.00000\n",
      "epoch: 06, loss: 0.00000\n",
      "epoch: 07, loss: 0.00000\n",
      "epoch: 08, loss: 0.00000\n",
      "epoch: 09, loss: 0.00000\n",
      "After Unsqueezing, feature size= torch.Size([400, 384])\n",
      "type(projected_feature) <class 'torch.Tensor'>\n",
      "projected feature shape= torch.Size([400, 128])\n"
     ]
    },
    {
     "name": "stderr",
     "output_type": "stream",
     "text": [
      "  4%|▍         | 40/1000 [13:38<5:09:31, 19.35s/it]"
     ]
    },
    {
     "name": "stdout",
     "output_type": "stream",
     "text": [
      "eigenvalues shape torch.Size([5]) eigenvectors shape torch.Size([5, 400])\n",
      "40 /home/phdcs2/Hard_Disk/Datasets/Deep-Spectral-Segmentation/data/object-segmentation/ECSSD/features/dino_vits16/0041.pth\n",
      "0041\n",
      "Starting Training\n",
      "epoch: 00, loss: -0.32935\n",
      "epoch: 01, loss: -0.34511\n",
      "epoch: 02, loss: -0.35459\n",
      "epoch: 03, loss: -0.35968\n",
      "epoch: 04, loss: -0.36556\n",
      "epoch: 05, loss: -0.37294\n",
      "epoch: 06, loss: -0.37729\n",
      "epoch: 07, loss: -0.38345\n",
      "epoch: 08, loss: -0.38833\n",
      "epoch: 09, loss: -0.39302\n",
      "After Unsqueezing, feature size= torch.Size([450, 384])\n",
      "type(projected_feature) <class 'torch.Tensor'>\n",
      "projected feature shape= torch.Size([450, 128])\n"
     ]
    },
    {
     "name": "stderr",
     "output_type": "stream",
     "text": [
      "  4%|▍         | 41/1000 [13:59<5:18:56, 19.95s/it]"
     ]
    },
    {
     "name": "stdout",
     "output_type": "stream",
     "text": [
      "eigenvalues shape torch.Size([5]) eigenvectors shape torch.Size([5, 450])\n",
      "41 /home/phdcs2/Hard_Disk/Datasets/Deep-Spectral-Segmentation/data/object-segmentation/ECSSD/features/dino_vits16/0042.pth\n",
      "0042\n"
     ]
    },
    {
     "name": "stderr",
     "output_type": "stream",
     "text": [
      "/home/phdcs2/Hard_Disk/Projects/T2I/deep-spectral-segmentation/venv/lib/python3.8/site-packages/sklearn/decomposition/_pca.py:545: RuntimeWarning: invalid value encountered in divide\n",
      "  explained_variance_ratio_ = explained_variance_ / total_var\n"
     ]
    },
    {
     "name": "stdout",
     "output_type": "stream",
     "text": [
      "Starting Training\n",
      "epoch: 00, loss: 0.00000\n",
      "epoch: 01, loss: 0.00000\n",
      "epoch: 02, loss: 0.00000\n",
      "epoch: 03, loss: 0.00000\n",
      "epoch: 04, loss: 0.00000\n",
      "epoch: 05, loss: 0.00000\n",
      "epoch: 06, loss: 0.00000\n",
      "epoch: 07, loss: 0.00000\n",
      "epoch: 08, loss: 0.00000\n",
      "epoch: 09, loss: 0.00000\n",
      "After Unsqueezing, feature size= torch.Size([400, 384])\n",
      "type(projected_feature) <class 'torch.Tensor'>\n",
      "projected feature shape= torch.Size([400, 128])\n"
     ]
    },
    {
     "name": "stderr",
     "output_type": "stream",
     "text": [
      "  4%|▍         | 42/1000 [14:18<5:14:48, 19.72s/it]"
     ]
    },
    {
     "name": "stdout",
     "output_type": "stream",
     "text": [
      "eigenvalues shape torch.Size([5]) eigenvectors shape torch.Size([5, 400])\n",
      "42 /home/phdcs2/Hard_Disk/Datasets/Deep-Spectral-Segmentation/data/object-segmentation/ECSSD/features/dino_vits16/0043.pth\n",
      "0043\n"
     ]
    },
    {
     "name": "stderr",
     "output_type": "stream",
     "text": [
      "/home/phdcs2/Hard_Disk/Projects/T2I/deep-spectral-segmentation/venv/lib/python3.8/site-packages/sklearn/decomposition/_pca.py:545: RuntimeWarning: invalid value encountered in divide\n",
      "  explained_variance_ratio_ = explained_variance_ / total_var\n"
     ]
    },
    {
     "name": "stdout",
     "output_type": "stream",
     "text": [
      "Starting Training\n",
      "epoch: 00, loss: 0.00000\n",
      "epoch: 01, loss: 0.00000\n",
      "epoch: 02, loss: 0.00000\n",
      "epoch: 03, loss: 0.00000\n",
      "epoch: 04, loss: 0.00000\n",
      "epoch: 05, loss: 0.00000\n",
      "epoch: 06, loss: 0.00000\n",
      "epoch: 07, loss: 0.00000\n",
      "epoch: 08, loss: 0.00000\n",
      "epoch: 09, loss: 0.00000\n",
      "After Unsqueezing, feature size= torch.Size([450, 384])\n",
      "type(projected_feature) <class 'torch.Tensor'>\n",
      "projected feature shape= torch.Size([450, 128])\n"
     ]
    },
    {
     "name": "stderr",
     "output_type": "stream",
     "text": [
      "  4%|▍         | 43/1000 [14:39<5:21:39, 20.17s/it]"
     ]
    },
    {
     "name": "stdout",
     "output_type": "stream",
     "text": [
      "eigenvalues shape torch.Size([5]) eigenvectors shape torch.Size([5, 450])\n",
      "43 /home/phdcs2/Hard_Disk/Datasets/Deep-Spectral-Segmentation/data/object-segmentation/ECSSD/features/dino_vits16/0044.pth\n",
      "0044\n",
      "Starting Training\n",
      "epoch: 00, loss: -0.32002\n",
      "epoch: 01, loss: -0.34067\n",
      "epoch: 02, loss: -0.35715\n",
      "epoch: 03, loss: -0.38107\n",
      "epoch: 04, loss: -0.42778\n",
      "epoch: 05, loss: -0.50209\n",
      "epoch: 06, loss: -0.61092\n",
      "epoch: 07, loss: -0.65454\n",
      "epoch: 08, loss: -0.67855\n",
      "epoch: 09, loss: -0.68879\n",
      "After Unsqueezing, feature size= torch.Size([525, 384])\n",
      "type(projected_feature) <class 'torch.Tensor'>\n",
      "projected feature shape= torch.Size([525, 128])\n"
     ]
    },
    {
     "name": "stderr",
     "output_type": "stream",
     "text": [
      "  4%|▍         | 44/1000 [15:06<5:50:19, 21.99s/it]"
     ]
    },
    {
     "name": "stdout",
     "output_type": "stream",
     "text": [
      "eigenvalues shape torch.Size([5]) eigenvectors shape torch.Size([5, 525])\n",
      "44 /home/phdcs2/Hard_Disk/Datasets/Deep-Spectral-Segmentation/data/object-segmentation/ECSSD/features/dino_vits16/0045.pth\n",
      "0045\n",
      "Starting Training\n",
      "epoch: 00, loss: -0.76189\n",
      "epoch: 01, loss: -0.89860\n",
      "epoch: 02, loss: -0.90092\n",
      "epoch: 03, loss: -0.90127\n",
      "epoch: 04, loss: -0.90237\n",
      "epoch: 05, loss: -0.90304\n",
      "epoch: 06, loss: -0.90345\n",
      "epoch: 07, loss: -0.90444\n",
      "epoch: 08, loss: -0.90501\n",
      "epoch: 09, loss: -0.90535\n",
      "After Unsqueezing, feature size= torch.Size([450, 384])\n",
      "type(projected_feature) <class 'torch.Tensor'>\n",
      "projected feature shape= torch.Size([450, 128])\n"
     ]
    },
    {
     "name": "stderr",
     "output_type": "stream",
     "text": [
      "  4%|▍         | 45/1000 [15:27<5:47:03, 21.80s/it]"
     ]
    },
    {
     "name": "stdout",
     "output_type": "stream",
     "text": [
      "eigenvalues shape torch.Size([5]) eigenvectors shape torch.Size([5, 450])\n",
      "45 /home/phdcs2/Hard_Disk/Datasets/Deep-Spectral-Segmentation/data/object-segmentation/ECSSD/features/dino_vits16/0046.pth\n",
      "0046\n"
     ]
    },
    {
     "name": "stderr",
     "output_type": "stream",
     "text": [
      "/home/phdcs2/Hard_Disk/Projects/T2I/deep-spectral-segmentation/venv/lib/python3.8/site-packages/sklearn/decomposition/_pca.py:545: RuntimeWarning: invalid value encountered in divide\n",
      "  explained_variance_ratio_ = explained_variance_ / total_var\n"
     ]
    },
    {
     "name": "stdout",
     "output_type": "stream",
     "text": [
      "Starting Training\n",
      "epoch: 00, loss: 0.00000\n",
      "epoch: 01, loss: 0.00000\n",
      "epoch: 02, loss: 0.00000\n",
      "epoch: 03, loss: 0.00000\n",
      "epoch: 04, loss: 0.00000\n",
      "epoch: 05, loss: 0.00000\n",
      "epoch: 06, loss: 0.00000\n",
      "epoch: 07, loss: 0.00000\n",
      "epoch: 08, loss: 0.00000\n",
      "epoch: 09, loss: 0.00000\n",
      "After Unsqueezing, feature size= torch.Size([450, 384])\n",
      "type(projected_feature) <class 'torch.Tensor'>\n",
      "projected feature shape= torch.Size([450, 128])\n"
     ]
    },
    {
     "name": "stderr",
     "output_type": "stream",
     "text": [
      "  5%|▍         | 46/1000 [15:49<5:45:09, 21.71s/it]"
     ]
    },
    {
     "name": "stdout",
     "output_type": "stream",
     "text": [
      "eigenvalues shape torch.Size([5]) eigenvectors shape torch.Size([5, 450])\n",
      "46 /home/phdcs2/Hard_Disk/Datasets/Deep-Spectral-Segmentation/data/object-segmentation/ECSSD/features/dino_vits16/0047.pth\n",
      "0047\n"
     ]
    },
    {
     "name": "stderr",
     "output_type": "stream",
     "text": [
      "/home/phdcs2/Hard_Disk/Projects/T2I/deep-spectral-segmentation/venv/lib/python3.8/site-packages/sklearn/decomposition/_pca.py:545: RuntimeWarning: invalid value encountered in divide\n",
      "  explained_variance_ratio_ = explained_variance_ / total_var\n"
     ]
    },
    {
     "name": "stdout",
     "output_type": "stream",
     "text": [
      "Starting Training\n",
      "epoch: 00, loss: 0.00000\n",
      "epoch: 01, loss: 0.00000\n",
      "epoch: 02, loss: 0.00000\n",
      "epoch: 03, loss: 0.00000\n",
      "epoch: 04, loss: 0.00000\n",
      "epoch: 05, loss: 0.00000\n",
      "epoch: 06, loss: 0.00000\n",
      "epoch: 07, loss: 0.00000\n",
      "epoch: 08, loss: 0.00000\n",
      "epoch: 09, loss: 0.00000\n",
      "After Unsqueezing, feature size= torch.Size([400, 384])\n",
      "type(projected_feature) <class 'torch.Tensor'>\n",
      "projected feature shape= torch.Size([400, 128])\n"
     ]
    },
    {
     "name": "stderr",
     "output_type": "stream",
     "text": [
      "  5%|▍         | 47/1000 [16:08<5:35:54, 21.15s/it]"
     ]
    },
    {
     "name": "stdout",
     "output_type": "stream",
     "text": [
      "eigenvalues shape torch.Size([5]) eigenvectors shape torch.Size([5, 400])\n",
      "47 /home/phdcs2/Hard_Disk/Datasets/Deep-Spectral-Segmentation/data/object-segmentation/ECSSD/features/dino_vits16/0048.pth\n",
      "0048\n",
      "Starting Training\n"
     ]
    },
    {
     "name": "stderr",
     "output_type": "stream",
     "text": [
      "/home/phdcs2/Hard_Disk/Projects/T2I/deep-spectral-segmentation/venv/lib/python3.8/site-packages/sklearn/decomposition/_pca.py:545: RuntimeWarning: invalid value encountered in divide\n",
      "  explained_variance_ratio_ = explained_variance_ / total_var\n"
     ]
    },
    {
     "name": "stdout",
     "output_type": "stream",
     "text": [
      "epoch: 00, loss: 0.00000\n",
      "epoch: 01, loss: 0.00000\n",
      "epoch: 02, loss: 0.00000\n",
      "epoch: 03, loss: 0.00000\n",
      "epoch: 04, loss: 0.00000\n",
      "epoch: 05, loss: 0.00000\n",
      "epoch: 06, loss: 0.00000\n",
      "epoch: 07, loss: 0.00000\n",
      "epoch: 08, loss: 0.00000\n",
      "epoch: 09, loss: 0.00000\n",
      "After Unsqueezing, feature size= torch.Size([450, 384])\n",
      "type(projected_feature) <class 'torch.Tensor'>\n",
      "projected feature shape= torch.Size([450, 128])\n"
     ]
    },
    {
     "name": "stderr",
     "output_type": "stream",
     "text": [
      "  5%|▍         | 48/1000 [16:30<5:35:42, 21.16s/it]"
     ]
    },
    {
     "name": "stdout",
     "output_type": "stream",
     "text": [
      "eigenvalues shape torch.Size([5]) eigenvectors shape torch.Size([5, 450])\n",
      "48 /home/phdcs2/Hard_Disk/Datasets/Deep-Spectral-Segmentation/data/object-segmentation/ECSSD/features/dino_vits16/0049.pth\n",
      "0049\n",
      "Starting Training\n",
      "epoch: 00, loss: -0.42359\n",
      "epoch: 01, loss: -0.43224\n",
      "epoch: 02, loss: -0.45585\n",
      "epoch: 03, loss: -0.48050\n",
      "epoch: 04, loss: -0.51220\n",
      "epoch: 05, loss: -0.54232\n",
      "epoch: 06, loss: -0.56066\n",
      "epoch: 07, loss: -0.57859\n",
      "epoch: 08, loss: -0.58727\n",
      "epoch: 09, loss: -0.59928\n",
      "After Unsqueezing, feature size= torch.Size([450, 384])\n",
      "type(projected_feature) <class 'torch.Tensor'>\n",
      "projected feature shape= torch.Size([450, 128])\n"
     ]
    },
    {
     "name": "stderr",
     "output_type": "stream",
     "text": [
      "  5%|▍         | 49/1000 [16:51<5:35:09, 21.15s/it]"
     ]
    },
    {
     "name": "stdout",
     "output_type": "stream",
     "text": [
      "eigenvalues shape torch.Size([5]) eigenvectors shape torch.Size([5, 450])\n",
      "49 /home/phdcs2/Hard_Disk/Datasets/Deep-Spectral-Segmentation/data/object-segmentation/ECSSD/features/dino_vits16/0050.pth\n",
      "0050\n",
      "Starting Training\n",
      "epoch: 00, loss: -0.32459\n",
      "epoch: 01, loss: -0.33416\n",
      "epoch: 02, loss: -0.33743\n",
      "epoch: 03, loss: -0.34187\n",
      "epoch: 04, loss: -0.34495\n",
      "epoch: 05, loss: -0.34849\n",
      "epoch: 06, loss: -0.35157\n",
      "epoch: 07, loss: -0.35569\n",
      "epoch: 08, loss: -0.35884\n",
      "epoch: 09, loss: -0.36313\n",
      "After Unsqueezing, feature size= torch.Size([400, 384])\n",
      "type(projected_feature) <class 'torch.Tensor'>\n",
      "projected feature shape= torch.Size([400, 128])\n"
     ]
    },
    {
     "name": "stderr",
     "output_type": "stream",
     "text": [
      "  5%|▌         | 50/1000 [17:09<5:23:30, 20.43s/it]"
     ]
    },
    {
     "name": "stdout",
     "output_type": "stream",
     "text": [
      "eigenvalues shape torch.Size([5]) eigenvectors shape torch.Size([5, 400])\n",
      "50 /home/phdcs2/Hard_Disk/Datasets/Deep-Spectral-Segmentation/data/object-segmentation/ECSSD/features/dino_vits16/0051.pth\n",
      "0051\n",
      "Starting Training\n",
      "epoch: 00, loss: -0.31856\n",
      "epoch: 01, loss: -0.32518\n",
      "epoch: 02, loss: -0.33219\n",
      "epoch: 03, loss: -0.33716\n",
      "epoch: 04, loss: -0.34425\n",
      "epoch: 05, loss: -0.34862\n",
      "epoch: 06, loss: -0.35301\n",
      "epoch: 07, loss: -0.35873\n",
      "epoch: 08, loss: -0.36331\n",
      "epoch: 09, loss: -0.36632\n",
      "After Unsqueezing, feature size= torch.Size([450, 384])\n",
      "type(projected_feature) <class 'torch.Tensor'>\n",
      "projected feature shape= torch.Size([450, 128])\n"
     ]
    },
    {
     "name": "stderr",
     "output_type": "stream",
     "text": [
      "  5%|▌         | 51/1000 [17:31<5:28:29, 20.77s/it]"
     ]
    },
    {
     "name": "stdout",
     "output_type": "stream",
     "text": [
      "eigenvalues shape torch.Size([5]) eigenvectors shape torch.Size([5, 450])\n",
      "51 /home/phdcs2/Hard_Disk/Datasets/Deep-Spectral-Segmentation/data/object-segmentation/ECSSD/features/dino_vits16/0052.pth\n",
      "0052\n",
      "Starting Training\n",
      "epoch: 00, loss: -0.29684\n",
      "epoch: 01, loss: -0.30316\n",
      "epoch: 02, loss: -0.30452\n",
      "epoch: 03, loss: -0.30707\n",
      "epoch: 04, loss: -0.30953\n",
      "epoch: 05, loss: -0.31041\n",
      "epoch: 06, loss: -0.31355\n",
      "epoch: 07, loss: -0.31503\n",
      "epoch: 08, loss: -0.31636\n",
      "epoch: 09, loss: -0.31930\n",
      "After Unsqueezing, feature size= torch.Size([450, 384])\n",
      "type(projected_feature) <class 'torch.Tensor'>\n",
      "projected feature shape= torch.Size([450, 128])\n"
     ]
    },
    {
     "name": "stderr",
     "output_type": "stream",
     "text": [
      "  5%|▌         | 52/1000 [17:52<5:30:51, 20.94s/it]"
     ]
    },
    {
     "name": "stdout",
     "output_type": "stream",
     "text": [
      "eigenvalues shape torch.Size([5]) eigenvectors shape torch.Size([5, 450])\n",
      "52 /home/phdcs2/Hard_Disk/Datasets/Deep-Spectral-Segmentation/data/object-segmentation/ECSSD/features/dino_vits16/0053.pth\n",
      "0053\n",
      "Starting Training\n",
      "epoch: 00, loss: -0.30082\n",
      "epoch: 01, loss: -0.32083\n",
      "epoch: 02, loss: -0.32967\n",
      "epoch: 03, loss: -0.33720\n",
      "epoch: 04, loss: -0.34787\n",
      "epoch: 05, loss: -0.35332\n",
      "epoch: 06, loss: -0.36327\n",
      "epoch: 07, loss: -0.36941\n",
      "epoch: 08, loss: -0.37506\n",
      "epoch: 09, loss: -0.38290\n",
      "After Unsqueezing, feature size= torch.Size([375, 384])\n",
      "type(projected_feature) <class 'torch.Tensor'>\n",
      "projected feature shape= torch.Size([375, 128])\n"
     ]
    },
    {
     "name": "stderr",
     "output_type": "stream",
     "text": [
      "  5%|▌         | 53/1000 [18:10<5:16:09, 20.03s/it]"
     ]
    },
    {
     "name": "stdout",
     "output_type": "stream",
     "text": [
      "eigenvalues shape torch.Size([5]) eigenvectors shape torch.Size([5, 375])\n",
      "53 /home/phdcs2/Hard_Disk/Datasets/Deep-Spectral-Segmentation/data/object-segmentation/ECSSD/features/dino_vits16/0054.pth\n",
      "0054\n"
     ]
    },
    {
     "name": "stderr",
     "output_type": "stream",
     "text": [
      "/home/phdcs2/Hard_Disk/Projects/T2I/deep-spectral-segmentation/venv/lib/python3.8/site-packages/sklearn/decomposition/_pca.py:545: RuntimeWarning: invalid value encountered in divide\n",
      "  explained_variance_ratio_ = explained_variance_ / total_var\n"
     ]
    },
    {
     "name": "stdout",
     "output_type": "stream",
     "text": [
      "Starting Training\n",
      "epoch: 00, loss: 0.00000\n",
      "epoch: 01, loss: 0.00000\n",
      "epoch: 02, loss: 0.00000\n",
      "epoch: 03, loss: 0.00000\n",
      "epoch: 04, loss: 0.00000\n",
      "epoch: 05, loss: 0.00000\n",
      "epoch: 06, loss: 0.00000\n",
      "epoch: 07, loss: 0.00000\n",
      "epoch: 08, loss: 0.00000\n",
      "epoch: 09, loss: 0.00000\n",
      "After Unsqueezing, feature size= torch.Size([450, 384])\n",
      "type(projected_feature) <class 'torch.Tensor'>\n",
      "projected feature shape= torch.Size([450, 128])\n"
     ]
    },
    {
     "name": "stderr",
     "output_type": "stream",
     "text": [
      "  5%|▌         | 54/1000 [18:32<5:22:05, 20.43s/it]"
     ]
    },
    {
     "name": "stdout",
     "output_type": "stream",
     "text": [
      "eigenvalues shape torch.Size([5]) eigenvectors shape torch.Size([5, 450])\n",
      "54 /home/phdcs2/Hard_Disk/Datasets/Deep-Spectral-Segmentation/data/object-segmentation/ECSSD/features/dino_vits16/0055.pth\n",
      "0055\n",
      "Starting Training\n",
      "epoch: 00, loss: -0.75393\n",
      "epoch: 01, loss: -0.77386\n",
      "epoch: 02, loss: -0.78690\n",
      "epoch: 03, loss: -0.79268\n",
      "epoch: 04, loss: -0.79793\n",
      "epoch: 05, loss: -0.79918\n",
      "epoch: 06, loss: -0.80529\n",
      "epoch: 07, loss: -0.80955\n",
      "epoch: 08, loss: -0.81101\n",
      "epoch: 09, loss: -0.81424\n",
      "After Unsqueezing, feature size= torch.Size([450, 384])\n",
      "type(projected_feature) <class 'torch.Tensor'>\n",
      "projected feature shape= torch.Size([450, 128])\n"
     ]
    },
    {
     "name": "stderr",
     "output_type": "stream",
     "text": [
      "  6%|▌         | 55/1000 [18:53<5:25:13, 20.65s/it]"
     ]
    },
    {
     "name": "stdout",
     "output_type": "stream",
     "text": [
      "eigenvalues shape torch.Size([5]) eigenvectors shape torch.Size([5, 450])\n",
      "55 /home/phdcs2/Hard_Disk/Datasets/Deep-Spectral-Segmentation/data/object-segmentation/ECSSD/features/dino_vits16/0056.pth\n",
      "0056\n"
     ]
    },
    {
     "name": "stderr",
     "output_type": "stream",
     "text": [
      "/home/phdcs2/Hard_Disk/Projects/T2I/deep-spectral-segmentation/venv/lib/python3.8/site-packages/sklearn/decomposition/_pca.py:545: RuntimeWarning: invalid value encountered in divide\n",
      "  explained_variance_ratio_ = explained_variance_ / total_var\n"
     ]
    },
    {
     "name": "stdout",
     "output_type": "stream",
     "text": [
      "Starting Training\n",
      "epoch: 00, loss: 0.00000\n",
      "epoch: 01, loss: 0.00000\n",
      "epoch: 02, loss: 0.00000\n",
      "epoch: 03, loss: 0.00000\n",
      "epoch: 04, loss: 0.00000\n",
      "epoch: 05, loss: 0.00000\n",
      "epoch: 06, loss: 0.00000\n",
      "epoch: 07, loss: 0.00000\n",
      "epoch: 08, loss: 0.00000\n",
      "epoch: 09, loss: 0.00000\n",
      "After Unsqueezing, feature size= torch.Size([400, 384])\n",
      "type(projected_feature) <class 'torch.Tensor'>\n",
      "projected feature shape= torch.Size([400, 128])\n"
     ]
    },
    {
     "name": "stderr",
     "output_type": "stream",
     "text": [
      "  6%|▌         | 56/1000 [19:12<5:17:51, 20.20s/it]"
     ]
    },
    {
     "name": "stdout",
     "output_type": "stream",
     "text": [
      "eigenvalues shape torch.Size([5]) eigenvectors shape torch.Size([5, 400])\n",
      "56 /home/phdcs2/Hard_Disk/Datasets/Deep-Spectral-Segmentation/data/object-segmentation/ECSSD/features/dino_vits16/0057.pth\n",
      "0057\n",
      "Starting Training\n",
      "epoch: 00, loss: -0.73003\n",
      "epoch: 01, loss: -0.86300\n",
      "epoch: 02, loss: -0.86772\n",
      "epoch: 03, loss: -0.86854\n",
      "epoch: 04, loss: -0.86869\n",
      "epoch: 05, loss: -0.86908\n",
      "epoch: 06, loss: -0.87058\n",
      "epoch: 07, loss: -0.86948\n",
      "epoch: 08, loss: -0.87239\n",
      "epoch: 09, loss: -0.87035\n",
      "After Unsqueezing, feature size= torch.Size([400, 384])\n",
      "type(projected_feature) <class 'torch.Tensor'>\n",
      "projected feature shape= torch.Size([400, 128])\n"
     ]
    },
    {
     "name": "stderr",
     "output_type": "stream",
     "text": [
      "  6%|▌         | 57/1000 [19:31<5:11:56, 19.85s/it]"
     ]
    },
    {
     "name": "stdout",
     "output_type": "stream",
     "text": [
      "eigenvalues shape torch.Size([5]) eigenvectors shape torch.Size([5, 400])\n",
      "57 /home/phdcs2/Hard_Disk/Datasets/Deep-Spectral-Segmentation/data/object-segmentation/ECSSD/features/dino_vits16/0058.pth\n",
      "0058\n",
      "Starting Training\n",
      "epoch: 00, loss: -0.29768\n",
      "epoch: 01, loss: -0.31472\n",
      "epoch: 02, loss: -0.31767\n",
      "epoch: 03, loss: -0.32075\n",
      "epoch: 04, loss: -0.32482\n",
      "epoch: 05, loss: -0.32731\n",
      "epoch: 06, loss: -0.33043\n",
      "epoch: 07, loss: -0.33336\n",
      "epoch: 08, loss: -0.33532\n",
      "epoch: 09, loss: -0.33913\n",
      "After Unsqueezing, feature size= torch.Size([425, 384])\n",
      "type(projected_feature) <class 'torch.Tensor'>\n",
      "projected feature shape= torch.Size([425, 128])\n"
     ]
    },
    {
     "name": "stderr",
     "output_type": "stream",
     "text": [
      "  6%|▌         | 58/1000 [19:51<5:13:05, 19.94s/it]"
     ]
    },
    {
     "name": "stdout",
     "output_type": "stream",
     "text": [
      "eigenvalues shape torch.Size([5]) eigenvectors shape torch.Size([5, 425])\n",
      "58 /home/phdcs2/Hard_Disk/Datasets/Deep-Spectral-Segmentation/data/object-segmentation/ECSSD/features/dino_vits16/0059.pth\n",
      "0059\n",
      "Starting Training\n",
      "epoch: 00, loss: -0.78418\n",
      "epoch: 01, loss: -0.87520\n",
      "epoch: 02, loss: -0.87649\n",
      "epoch: 03, loss: -0.87634\n",
      "epoch: 04, loss: -0.87848\n",
      "epoch: 05, loss: -0.88023\n",
      "epoch: 06, loss: -0.88098\n",
      "epoch: 07, loss: -0.88109\n",
      "epoch: 08, loss: -0.88002\n",
      "epoch: 09, loss: -0.88283\n",
      "After Unsqueezing, feature size= torch.Size([450, 384])\n",
      "type(projected_feature) <class 'torch.Tensor'>\n",
      "projected feature shape= torch.Size([450, 128])\n"
     ]
    },
    {
     "name": "stderr",
     "output_type": "stream",
     "text": [
      "  6%|▌         | 59/1000 [20:12<5:19:08, 20.35s/it]"
     ]
    },
    {
     "name": "stdout",
     "output_type": "stream",
     "text": [
      "eigenvalues shape torch.Size([5]) eigenvectors shape torch.Size([5, 450])\n",
      "59 /home/phdcs2/Hard_Disk/Datasets/Deep-Spectral-Segmentation/data/object-segmentation/ECSSD/features/dino_vits16/0060.pth\n",
      "0060\n",
      "Starting Training\n",
      "epoch: 00, loss: -0.32844\n",
      "epoch: 01, loss: -0.33719\n",
      "epoch: 02, loss: -0.34051\n",
      "epoch: 03, loss: -0.34391\n",
      "epoch: 04, loss: -0.34816\n",
      "epoch: 05, loss: -0.35197\n",
      "epoch: 06, loss: -0.35608\n",
      "epoch: 07, loss: -0.35929\n",
      "epoch: 08, loss: -0.36269\n",
      "epoch: 09, loss: -0.36603\n",
      "After Unsqueezing, feature size= torch.Size([400, 384])\n",
      "type(projected_feature) <class 'torch.Tensor'>\n",
      "projected feature shape= torch.Size([400, 128])\n"
     ]
    },
    {
     "name": "stderr",
     "output_type": "stream",
     "text": [
      "  6%|▌         | 60/1000 [20:31<5:11:38, 19.89s/it]"
     ]
    },
    {
     "name": "stdout",
     "output_type": "stream",
     "text": [
      "eigenvalues shape torch.Size([5]) eigenvectors shape torch.Size([5, 400])\n",
      "60 /home/phdcs2/Hard_Disk/Datasets/Deep-Spectral-Segmentation/data/object-segmentation/ECSSD/features/dino_vits16/0061.pth\n",
      "0061\n",
      "Starting Training\n",
      "epoch: 00, loss: -0.32352\n",
      "epoch: 01, loss: -0.34575\n",
      "epoch: 02, loss: -0.35710\n",
      "epoch: 03, loss: -0.36476\n",
      "epoch: 04, loss: -0.37082\n",
      "epoch: 05, loss: -0.37597\n",
      "epoch: 06, loss: -0.37897\n",
      "epoch: 07, loss: -0.38416\n",
      "epoch: 08, loss: -0.38931\n",
      "epoch: 09, loss: -0.39460\n",
      "After Unsqueezing, feature size= torch.Size([425, 384])\n",
      "type(projected_feature) <class 'torch.Tensor'>\n",
      "projected feature shape= torch.Size([425, 128])\n"
     ]
    },
    {
     "name": "stderr",
     "output_type": "stream",
     "text": [
      "  6%|▌         | 61/1000 [20:52<5:13:09, 20.01s/it]"
     ]
    },
    {
     "name": "stdout",
     "output_type": "stream",
     "text": [
      "eigenvalues shape torch.Size([5]) eigenvectors shape torch.Size([5, 425])\n",
      "61 /home/phdcs2/Hard_Disk/Datasets/Deep-Spectral-Segmentation/data/object-segmentation/ECSSD/features/dino_vits16/0062.pth\n",
      "0062\n"
     ]
    },
    {
     "name": "stderr",
     "output_type": "stream",
     "text": [
      "/home/phdcs2/Hard_Disk/Projects/T2I/deep-spectral-segmentation/venv/lib/python3.8/site-packages/sklearn/decomposition/_pca.py:545: RuntimeWarning: invalid value encountered in divide\n",
      "  explained_variance_ratio_ = explained_variance_ / total_var\n"
     ]
    },
    {
     "name": "stdout",
     "output_type": "stream",
     "text": [
      "Starting Training\n",
      "epoch: 00, loss: 0.00000\n",
      "epoch: 01, loss: 0.00000\n",
      "epoch: 02, loss: 0.00000\n",
      "epoch: 03, loss: 0.00000\n",
      "epoch: 04, loss: 0.00000\n",
      "epoch: 05, loss: 0.00000\n",
      "epoch: 06, loss: 0.00000\n",
      "epoch: 07, loss: 0.00000\n",
      "epoch: 08, loss: 0.00000\n",
      "epoch: 09, loss: 0.00000\n",
      "After Unsqueezing, feature size= torch.Size([425, 384])\n",
      "type(projected_feature) <class 'torch.Tensor'>\n",
      "projected feature shape= torch.Size([425, 128])\n"
     ]
    },
    {
     "name": "stderr",
     "output_type": "stream",
     "text": [
      "  6%|▌         | 62/1000 [21:12<5:13:50, 20.08s/it]"
     ]
    },
    {
     "name": "stdout",
     "output_type": "stream",
     "text": [
      "eigenvalues shape torch.Size([5]) eigenvectors shape torch.Size([5, 425])\n",
      "62 /home/phdcs2/Hard_Disk/Datasets/Deep-Spectral-Segmentation/data/object-segmentation/ECSSD/features/dino_vits16/0063.pth\n",
      "0063\n"
     ]
    },
    {
     "name": "stderr",
     "output_type": "stream",
     "text": [
      "/home/phdcs2/Hard_Disk/Projects/T2I/deep-spectral-segmentation/venv/lib/python3.8/site-packages/sklearn/decomposition/_pca.py:545: RuntimeWarning: invalid value encountered in divide\n",
      "  explained_variance_ratio_ = explained_variance_ / total_var\n"
     ]
    },
    {
     "name": "stdout",
     "output_type": "stream",
     "text": [
      "Starting Training\n",
      "epoch: 00, loss: 0.00000\n",
      "epoch: 01, loss: 0.00000\n",
      "epoch: 02, loss: 0.00000\n",
      "epoch: 03, loss: 0.00000\n",
      "epoch: 04, loss: 0.00000\n",
      "epoch: 05, loss: 0.00000\n",
      "epoch: 06, loss: 0.00000\n",
      "epoch: 07, loss: 0.00000\n",
      "epoch: 08, loss: 0.00000\n",
      "epoch: 09, loss: 0.00000\n",
      "After Unsqueezing, feature size= torch.Size([400, 384])\n",
      "type(projected_feature) <class 'torch.Tensor'>\n",
      "projected feature shape= torch.Size([400, 128])\n"
     ]
    },
    {
     "name": "stderr",
     "output_type": "stream",
     "text": [
      "  6%|▋         | 63/1000 [21:32<5:14:26, 20.13s/it]"
     ]
    },
    {
     "name": "stdout",
     "output_type": "stream",
     "text": [
      "eigenvalues shape torch.Size([5]) eigenvectors shape torch.Size([5, 400])\n",
      "63 /home/phdcs2/Hard_Disk/Datasets/Deep-Spectral-Segmentation/data/object-segmentation/ECSSD/features/dino_vits16/0064.pth\n",
      "0064\n",
      "Starting Training\n",
      "epoch: 00, loss: -0.29143\n",
      "epoch: 01, loss: -0.30964\n",
      "epoch: 02, loss: -0.31335\n",
      "epoch: 03, loss: -0.31838\n",
      "epoch: 04, loss: -0.32323\n",
      "epoch: 05, loss: -0.32872\n",
      "epoch: 06, loss: -0.33175\n",
      "epoch: 07, loss: -0.33568\n",
      "epoch: 08, loss: -0.33848\n",
      "epoch: 09, loss: -0.34209\n",
      "After Unsqueezing, feature size= torch.Size([400, 384])\n",
      "type(projected_feature) <class 'torch.Tensor'>\n",
      "projected feature shape= torch.Size([400, 128])\n"
     ]
    },
    {
     "name": "stderr",
     "output_type": "stream",
     "text": [
      "  6%|▋         | 64/1000 [21:57<5:37:37, 21.64s/it]"
     ]
    },
    {
     "name": "stdout",
     "output_type": "stream",
     "text": [
      "eigenvalues shape torch.Size([5]) eigenvectors shape torch.Size([5, 400])\n",
      "64 /home/phdcs2/Hard_Disk/Datasets/Deep-Spectral-Segmentation/data/object-segmentation/ECSSD/features/dino_vits16/0065.pth\n",
      "0065\n"
     ]
    },
    {
     "name": "stderr",
     "output_type": "stream",
     "text": [
      "/home/phdcs2/Hard_Disk/Projects/T2I/deep-spectral-segmentation/venv/lib/python3.8/site-packages/sklearn/decomposition/_pca.py:545: RuntimeWarning: invalid value encountered in divide\n",
      "  explained_variance_ratio_ = explained_variance_ / total_var\n"
     ]
    },
    {
     "name": "stdout",
     "output_type": "stream",
     "text": [
      "Starting Training\n",
      "epoch: 00, loss: 0.00000\n",
      "epoch: 01, loss: 0.00000\n",
      "epoch: 02, loss: 0.00000\n",
      "epoch: 03, loss: 0.00000\n",
      "epoch: 04, loss: 0.00000\n",
      "epoch: 05, loss: 0.00000\n",
      "epoch: 06, loss: 0.00000\n",
      "epoch: 07, loss: 0.00000\n",
      "epoch: 08, loss: 0.00000\n",
      "epoch: 09, loss: 0.00000\n",
      "After Unsqueezing, feature size= torch.Size([450, 384])\n",
      "type(projected_feature) <class 'torch.Tensor'>\n",
      "projected feature shape= torch.Size([450, 128])\n"
     ]
    },
    {
     "name": "stderr",
     "output_type": "stream",
     "text": [
      "  6%|▋         | 65/1000 [22:24<6:01:08, 23.18s/it]"
     ]
    },
    {
     "name": "stdout",
     "output_type": "stream",
     "text": [
      "eigenvalues shape torch.Size([5]) eigenvectors shape torch.Size([5, 450])\n",
      "65 /home/phdcs2/Hard_Disk/Datasets/Deep-Spectral-Segmentation/data/object-segmentation/ECSSD/features/dino_vits16/0066.pth\n",
      "0066\n",
      "Starting Training\n"
     ]
    },
    {
     "name": "stderr",
     "output_type": "stream",
     "text": [
      "/home/phdcs2/Hard_Disk/Projects/T2I/deep-spectral-segmentation/venv/lib/python3.8/site-packages/sklearn/decomposition/_pca.py:545: RuntimeWarning: invalid value encountered in divide\n",
      "  explained_variance_ratio_ = explained_variance_ / total_var\n"
     ]
    },
    {
     "name": "stdout",
     "output_type": "stream",
     "text": [
      "epoch: 00, loss: 0.00000\n",
      "epoch: 01, loss: 0.00000\n",
      "epoch: 02, loss: 0.00000\n",
      "epoch: 03, loss: 0.00000\n",
      "epoch: 04, loss: 0.00000\n",
      "epoch: 05, loss: 0.00000\n",
      "epoch: 06, loss: 0.00000\n",
      "epoch: 07, loss: 0.00000\n",
      "epoch: 08, loss: 0.00000\n",
      "epoch: 09, loss: 0.00000\n",
      "After Unsqueezing, feature size= torch.Size([400, 384])\n",
      "type(projected_feature) <class 'torch.Tensor'>\n",
      "projected feature shape= torch.Size([400, 128])\n"
     ]
    },
    {
     "name": "stderr",
     "output_type": "stream",
     "text": [
      "  7%|▋         | 66/1000 [22:47<5:58:12, 23.01s/it]"
     ]
    },
    {
     "name": "stdout",
     "output_type": "stream",
     "text": [
      "eigenvalues shape torch.Size([5]) eigenvectors shape torch.Size([5, 400])\n",
      "66 /home/phdcs2/Hard_Disk/Datasets/Deep-Spectral-Segmentation/data/object-segmentation/ECSSD/features/dino_vits16/0067.pth\n",
      "0067\n"
     ]
    },
    {
     "name": "stderr",
     "output_type": "stream",
     "text": [
      "/home/phdcs2/Hard_Disk/Projects/T2I/deep-spectral-segmentation/venv/lib/python3.8/site-packages/sklearn/decomposition/_pca.py:545: RuntimeWarning: invalid value encountered in divide\n",
      "  explained_variance_ratio_ = explained_variance_ / total_var\n"
     ]
    },
    {
     "name": "stdout",
     "output_type": "stream",
     "text": [
      "Starting Training\n",
      "epoch: 00, loss: 0.00000\n",
      "epoch: 01, loss: 0.00000\n",
      "epoch: 02, loss: 0.00000\n",
      "epoch: 03, loss: 0.00000\n",
      "epoch: 04, loss: 0.00000\n",
      "epoch: 05, loss: 0.00000\n",
      "epoch: 06, loss: 0.00000\n",
      "epoch: 07, loss: 0.00000\n",
      "epoch: 08, loss: 0.00000\n",
      "epoch: 09, loss: 0.00000\n",
      "After Unsqueezing, feature size= torch.Size([350, 384])\n",
      "type(projected_feature) <class 'torch.Tensor'>\n",
      "projected feature shape= torch.Size([350, 128])\n"
     ]
    },
    {
     "name": "stderr",
     "output_type": "stream",
     "text": [
      "  7%|▋         | 67/1000 [23:05<5:36:22, 21.63s/it]"
     ]
    },
    {
     "name": "stdout",
     "output_type": "stream",
     "text": [
      "eigenvalues shape torch.Size([5]) eigenvectors shape torch.Size([5, 350])\n",
      "67 /home/phdcs2/Hard_Disk/Datasets/Deep-Spectral-Segmentation/data/object-segmentation/ECSSD/features/dino_vits16/0068.pth\n",
      "0068\n"
     ]
    },
    {
     "name": "stderr",
     "output_type": "stream",
     "text": [
      "/home/phdcs2/Hard_Disk/Projects/T2I/deep-spectral-segmentation/venv/lib/python3.8/site-packages/sklearn/decomposition/_pca.py:545: RuntimeWarning: invalid value encountered in divide\n",
      "  explained_variance_ratio_ = explained_variance_ / total_var\n"
     ]
    },
    {
     "name": "stdout",
     "output_type": "stream",
     "text": [
      "Starting Training\n",
      "epoch: 00, loss: 0.00000\n",
      "epoch: 01, loss: 0.00000\n",
      "epoch: 02, loss: 0.00000\n",
      "epoch: 03, loss: 0.00000\n",
      "epoch: 04, loss: 0.00000\n",
      "epoch: 05, loss: 0.00000\n",
      "epoch: 06, loss: 0.00000\n",
      "epoch: 07, loss: 0.00000\n",
      "epoch: 08, loss: 0.00000\n",
      "epoch: 09, loss: 0.00000\n",
      "After Unsqueezing, feature size= torch.Size([525, 384])\n",
      "type(projected_feature) <class 'torch.Tensor'>\n",
      "projected feature shape= torch.Size([525, 128])\n"
     ]
    },
    {
     "name": "stderr",
     "output_type": "stream",
     "text": [
      "  7%|▋         | 68/1000 [23:34<6:11:17, 23.90s/it]"
     ]
    },
    {
     "name": "stdout",
     "output_type": "stream",
     "text": [
      "eigenvalues shape torch.Size([5]) eigenvectors shape torch.Size([5, 525])\n",
      "68 /home/phdcs2/Hard_Disk/Datasets/Deep-Spectral-Segmentation/data/object-segmentation/ECSSD/features/dino_vits16/0069.pth\n",
      "0069\n"
     ]
    },
    {
     "name": "stderr",
     "output_type": "stream",
     "text": [
      "/home/phdcs2/Hard_Disk/Projects/T2I/deep-spectral-segmentation/venv/lib/python3.8/site-packages/sklearn/decomposition/_pca.py:545: RuntimeWarning: invalid value encountered in divide\n",
      "  explained_variance_ratio_ = explained_variance_ / total_var\n"
     ]
    },
    {
     "name": "stdout",
     "output_type": "stream",
     "text": [
      "Starting Training\n",
      "epoch: 00, loss: 0.00000\n",
      "epoch: 01, loss: 0.00000\n",
      "epoch: 02, loss: 0.00000\n",
      "epoch: 03, loss: 0.00000\n",
      "epoch: 04, loss: 0.00000\n",
      "epoch: 05, loss: 0.00000\n",
      "epoch: 06, loss: 0.00000\n",
      "epoch: 07, loss: 0.00000\n",
      "epoch: 08, loss: 0.00000\n",
      "epoch: 09, loss: 0.00000\n",
      "After Unsqueezing, feature size= torch.Size([425, 384])\n",
      "type(projected_feature) <class 'torch.Tensor'>\n",
      "projected feature shape= torch.Size([425, 128])\n"
     ]
    },
    {
     "name": "stderr",
     "output_type": "stream",
     "text": [
      "  7%|▋         | 69/1000 [23:57<6:05:31, 23.56s/it]"
     ]
    },
    {
     "name": "stdout",
     "output_type": "stream",
     "text": [
      "eigenvalues shape torch.Size([5]) eigenvectors shape torch.Size([5, 425])\n",
      "69 /home/phdcs2/Hard_Disk/Datasets/Deep-Spectral-Segmentation/data/object-segmentation/ECSSD/features/dino_vits16/0070.pth\n",
      "0070\n"
     ]
    },
    {
     "name": "stderr",
     "output_type": "stream",
     "text": [
      "/home/phdcs2/Hard_Disk/Projects/T2I/deep-spectral-segmentation/venv/lib/python3.8/site-packages/sklearn/decomposition/_pca.py:545: RuntimeWarning: invalid value encountered in divide\n",
      "  explained_variance_ratio_ = explained_variance_ / total_var\n"
     ]
    },
    {
     "name": "stdout",
     "output_type": "stream",
     "text": [
      "Starting Training\n",
      "epoch: 00, loss: 0.00000\n",
      "epoch: 01, loss: 0.00000\n",
      "epoch: 02, loss: 0.00000\n",
      "epoch: 03, loss: 0.00000\n",
      "epoch: 04, loss: 0.00000\n",
      "epoch: 05, loss: 0.00000\n",
      "epoch: 06, loss: 0.00000\n",
      "epoch: 07, loss: 0.00000\n",
      "epoch: 08, loss: 0.00000\n",
      "epoch: 09, loss: 0.00000\n",
      "After Unsqueezing, feature size= torch.Size([500, 384])\n",
      "type(projected_feature) <class 'torch.Tensor'>\n",
      "projected feature shape= torch.Size([500, 128])\n"
     ]
    },
    {
     "name": "stderr",
     "output_type": "stream",
     "text": [
      "  7%|▋         | 70/1000 [24:22<6:13:40, 24.11s/it]"
     ]
    },
    {
     "name": "stdout",
     "output_type": "stream",
     "text": [
      "eigenvalues shape torch.Size([5]) eigenvectors shape torch.Size([5, 500])\n",
      "70 /home/phdcs2/Hard_Disk/Datasets/Deep-Spectral-Segmentation/data/object-segmentation/ECSSD/features/dino_vits16/0071.pth\n",
      "0071\n",
      "Starting Training\n",
      "epoch: 00, loss: -0.77646\n",
      "epoch: 01, loss: -0.87327\n",
      "epoch: 02, loss: -0.93337\n",
      "epoch: 03, loss: -0.94193\n",
      "epoch: 04, loss: -0.94127\n",
      "epoch: 05, loss: -0.94148\n",
      "epoch: 06, loss: -0.94196\n",
      "epoch: 07, loss: -0.94490\n",
      "epoch: 08, loss: -0.94568\n",
      "epoch: 09, loss: -0.94540\n",
      "After Unsqueezing, feature size= torch.Size([450, 384])\n",
      "type(projected_feature) <class 'torch.Tensor'>\n",
      "projected feature shape= torch.Size([450, 128])\n"
     ]
    },
    {
     "name": "stderr",
     "output_type": "stream",
     "text": [
      "  7%|▋         | 71/1000 [24:47<6:14:12, 24.17s/it]"
     ]
    },
    {
     "name": "stdout",
     "output_type": "stream",
     "text": [
      "eigenvalues shape torch.Size([5]) eigenvectors shape torch.Size([5, 450])\n",
      "71 /home/phdcs2/Hard_Disk/Datasets/Deep-Spectral-Segmentation/data/object-segmentation/ECSSD/features/dino_vits16/0072.pth\n",
      "0072\n"
     ]
    },
    {
     "name": "stderr",
     "output_type": "stream",
     "text": [
      "/home/phdcs2/Hard_Disk/Projects/T2I/deep-spectral-segmentation/venv/lib/python3.8/site-packages/sklearn/decomposition/_pca.py:545: RuntimeWarning: invalid value encountered in divide\n",
      "  explained_variance_ratio_ = explained_variance_ / total_var\n"
     ]
    },
    {
     "name": "stdout",
     "output_type": "stream",
     "text": [
      "Starting Training\n",
      "epoch: 00, loss: 0.00000\n",
      "epoch: 01, loss: 0.00000\n",
      "epoch: 02, loss: 0.00000\n",
      "epoch: 03, loss: 0.00000\n",
      "epoch: 04, loss: 0.00000\n",
      "epoch: 05, loss: 0.00000\n",
      "epoch: 06, loss: 0.00000\n",
      "epoch: 07, loss: 0.00000\n",
      "epoch: 08, loss: 0.00000\n",
      "epoch: 09, loss: 0.00000\n",
      "After Unsqueezing, feature size= torch.Size([400, 384])\n",
      "type(projected_feature) <class 'torch.Tensor'>\n",
      "projected feature shape= torch.Size([400, 128])\n"
     ]
    },
    {
     "name": "stderr",
     "output_type": "stream",
     "text": [
      "  7%|▋         | 72/1000 [25:11<6:13:52, 24.17s/it]"
     ]
    },
    {
     "name": "stdout",
     "output_type": "stream",
     "text": [
      "eigenvalues shape torch.Size([5]) eigenvectors shape torch.Size([5, 400])\n",
      "72 /home/phdcs2/Hard_Disk/Datasets/Deep-Spectral-Segmentation/data/object-segmentation/ECSSD/features/dino_vits16/0073.pth\n",
      "0073\n",
      "Starting Training\n",
      "epoch: 00, loss: -0.32830\n",
      "epoch: 01, loss: -0.34961\n",
      "epoch: 02, loss: -0.35588\n",
      "epoch: 03, loss: -0.36072\n",
      "epoch: 04, loss: -0.36642\n",
      "epoch: 05, loss: -0.37091\n",
      "epoch: 06, loss: -0.37434\n",
      "epoch: 07, loss: -0.37977\n",
      "epoch: 08, loss: -0.38393\n",
      "epoch: 09, loss: -0.38735\n",
      "After Unsqueezing, feature size= torch.Size([450, 384])\n",
      "type(projected_feature) <class 'torch.Tensor'>\n",
      "projected feature shape= torch.Size([450, 128])\n"
     ]
    },
    {
     "name": "stderr",
     "output_type": "stream",
     "text": [
      "  7%|▋         | 73/1000 [25:35<6:14:26, 24.24s/it]"
     ]
    },
    {
     "name": "stdout",
     "output_type": "stream",
     "text": [
      "eigenvalues shape torch.Size([5]) eigenvectors shape torch.Size([5, 450])\n",
      "73 /home/phdcs2/Hard_Disk/Datasets/Deep-Spectral-Segmentation/data/object-segmentation/ECSSD/features/dino_vits16/0074.pth\n",
      "0074\n",
      "Starting Training\n",
      "epoch: 00, loss: -0.31672\n",
      "epoch: 01, loss: -0.33271\n",
      "epoch: 02, loss: -0.34603\n",
      "epoch: 03, loss: -0.36093\n",
      "epoch: 04, loss: -0.37577\n",
      "epoch: 05, loss: -0.38949\n",
      "epoch: 06, loss: -0.39857\n",
      "epoch: 07, loss: -0.41013\n",
      "epoch: 08, loss: -0.42348\n",
      "epoch: 09, loss: -0.43661\n",
      "After Unsqueezing, feature size= torch.Size([450, 384])\n",
      "type(projected_feature) <class 'torch.Tensor'>\n",
      "projected feature shape= torch.Size([450, 128])\n"
     ]
    },
    {
     "name": "stderr",
     "output_type": "stream",
     "text": [
      "  7%|▋         | 74/1000 [26:04<6:33:55, 25.52s/it]"
     ]
    },
    {
     "name": "stdout",
     "output_type": "stream",
     "text": [
      "eigenvalues shape torch.Size([5]) eigenvectors shape torch.Size([5, 450])\n",
      "74 /home/phdcs2/Hard_Disk/Datasets/Deep-Spectral-Segmentation/data/object-segmentation/ECSSD/features/dino_vits16/0075.pth\n",
      "0075\n"
     ]
    },
    {
     "name": "stderr",
     "output_type": "stream",
     "text": [
      "/home/phdcs2/Hard_Disk/Projects/T2I/deep-spectral-segmentation/venv/lib/python3.8/site-packages/sklearn/decomposition/_pca.py:545: RuntimeWarning: invalid value encountered in divide\n",
      "  explained_variance_ratio_ = explained_variance_ / total_var\n"
     ]
    },
    {
     "name": "stdout",
     "output_type": "stream",
     "text": [
      "Starting Training\n",
      "epoch: 00, loss: 0.00000\n",
      "epoch: 01, loss: 0.00000\n",
      "epoch: 02, loss: 0.00000\n",
      "epoch: 03, loss: 0.00000\n",
      "epoch: 04, loss: 0.00000\n",
      "epoch: 05, loss: 0.00000\n",
      "epoch: 06, loss: 0.00000\n",
      "epoch: 07, loss: 0.00000\n",
      "epoch: 08, loss: 0.00000\n",
      "epoch: 09, loss: 0.00000\n",
      "After Unsqueezing, feature size= torch.Size([450, 384])\n",
      "type(projected_feature) <class 'torch.Tensor'>\n",
      "projected feature shape= torch.Size([450, 128])\n"
     ]
    },
    {
     "name": "stderr",
     "output_type": "stream",
     "text": [
      "  8%|▊         | 75/1000 [26:26<6:19:02, 24.59s/it]"
     ]
    },
    {
     "name": "stdout",
     "output_type": "stream",
     "text": [
      "eigenvalues shape torch.Size([5]) eigenvectors shape torch.Size([5, 450])\n",
      "75 /home/phdcs2/Hard_Disk/Datasets/Deep-Spectral-Segmentation/data/object-segmentation/ECSSD/features/dino_vits16/0076.pth\n",
      "0076\n"
     ]
    },
    {
     "name": "stderr",
     "output_type": "stream",
     "text": [
      "/home/phdcs2/Hard_Disk/Projects/T2I/deep-spectral-segmentation/venv/lib/python3.8/site-packages/sklearn/decomposition/_pca.py:545: RuntimeWarning: invalid value encountered in divide\n",
      "  explained_variance_ratio_ = explained_variance_ / total_var\n"
     ]
    },
    {
     "name": "stdout",
     "output_type": "stream",
     "text": [
      "Starting Training\n",
      "epoch: 00, loss: 0.00000\n",
      "epoch: 01, loss: 0.00000\n",
      "epoch: 02, loss: 0.00000\n",
      "epoch: 03, loss: 0.00000\n",
      "epoch: 04, loss: 0.00000\n",
      "epoch: 05, loss: 0.00000\n",
      "epoch: 06, loss: 0.00000\n",
      "epoch: 07, loss: 0.00000\n",
      "epoch: 08, loss: 0.00000\n",
      "epoch: 09, loss: 0.00000\n",
      "After Unsqueezing, feature size= torch.Size([400, 384])\n",
      "type(projected_feature) <class 'torch.Tensor'>\n",
      "projected feature shape= torch.Size([400, 128])\n"
     ]
    },
    {
     "name": "stderr",
     "output_type": "stream",
     "text": [
      "  8%|▊         | 76/1000 [26:48<6:05:13, 23.72s/it]"
     ]
    },
    {
     "name": "stdout",
     "output_type": "stream",
     "text": [
      "eigenvalues shape torch.Size([5]) eigenvectors shape torch.Size([5, 400])\n",
      "76 /home/phdcs2/Hard_Disk/Datasets/Deep-Spectral-Segmentation/data/object-segmentation/ECSSD/features/dino_vits16/0077.pth\n",
      "0077\n",
      "Starting Training\n",
      "epoch: 00, loss: -0.29833\n",
      "epoch: 01, loss: -0.31500\n",
      "epoch: 02, loss: -0.32639\n",
      "epoch: 03, loss: -0.33049\n",
      "epoch: 04, loss: -0.33388\n",
      "epoch: 05, loss: -0.34275\n",
      "epoch: 06, loss: -0.34573\n",
      "epoch: 07, loss: -0.35098\n",
      "epoch: 08, loss: -0.35639\n",
      "epoch: 09, loss: -0.36009\n",
      "After Unsqueezing, feature size= torch.Size([450, 384])\n",
      "type(projected_feature) <class 'torch.Tensor'>\n",
      "projected feature shape= torch.Size([450, 128])\n"
     ]
    },
    {
     "name": "stderr",
     "output_type": "stream",
     "text": [
      "  8%|▊         | 77/1000 [27:10<5:58:43, 23.32s/it]"
     ]
    },
    {
     "name": "stdout",
     "output_type": "stream",
     "text": [
      "eigenvalues shape torch.Size([5]) eigenvectors shape torch.Size([5, 450])\n",
      "77 /home/phdcs2/Hard_Disk/Datasets/Deep-Spectral-Segmentation/data/object-segmentation/ECSSD/features/dino_vits16/0078.pth\n",
      "0078\n",
      "Starting Training\n",
      "epoch: 00, loss: -0.26555\n",
      "epoch: 01, loss: -0.29192\n",
      "epoch: 02, loss: -0.25920\n",
      "epoch: 03, loss: -0.21787\n",
      "epoch: 04, loss: -0.23278\n",
      "epoch: 05, loss: -0.23570\n",
      "epoch: 06, loss: -0.24080\n",
      "epoch: 07, loss: -0.20359\n",
      "epoch: 08, loss: -0.21527\n",
      "epoch: 09, loss: -0.20636\n",
      "After Unsqueezing, feature size= torch.Size([400, 384])\n",
      "type(projected_feature) <class 'torch.Tensor'>\n",
      "projected feature shape= torch.Size([400, 128])\n"
     ]
    },
    {
     "name": "stderr",
     "output_type": "stream",
     "text": [
      "  8%|▊         | 78/1000 [27:32<5:50:33, 22.81s/it]"
     ]
    },
    {
     "name": "stdout",
     "output_type": "stream",
     "text": [
      "eigenvalues shape torch.Size([5]) eigenvectors shape torch.Size([5, 400])\n",
      "78 /home/phdcs2/Hard_Disk/Datasets/Deep-Spectral-Segmentation/data/object-segmentation/ECSSD/features/dino_vits16/0079.pth\n",
      "0079\n",
      "Starting Training\n",
      "epoch: 00, loss: -0.33713\n",
      "epoch: 01, loss: -0.35011\n",
      "epoch: 02, loss: -0.36169\n",
      "epoch: 03, loss: -0.36543\n",
      "epoch: 04, loss: -0.37105\n",
      "epoch: 05, loss: -0.37860\n",
      "epoch: 06, loss: -0.38387\n",
      "epoch: 07, loss: -0.38845\n",
      "epoch: 08, loss: -0.39071\n",
      "epoch: 09, loss: -0.39408\n",
      "After Unsqueezing, feature size= torch.Size([525, 384])\n",
      "type(projected_feature) <class 'torch.Tensor'>\n",
      "projected feature shape= torch.Size([525, 128])\n"
     ]
    },
    {
     "name": "stderr",
     "output_type": "stream",
     "text": [
      "  8%|▊         | 79/1000 [28:05<6:38:01, 25.93s/it]"
     ]
    },
    {
     "name": "stdout",
     "output_type": "stream",
     "text": [
      "eigenvalues shape torch.Size([5]) eigenvectors shape torch.Size([5, 525])\n",
      "79 /home/phdcs2/Hard_Disk/Datasets/Deep-Spectral-Segmentation/data/object-segmentation/ECSSD/features/dino_vits16/0080.pth\n",
      "0080\n",
      "Starting Training\n",
      "epoch: 00, loss: -0.73888\n",
      "epoch: 01, loss: -0.84405\n",
      "epoch: 02, loss: -0.84351\n",
      "epoch: 03, loss: -0.84326\n",
      "epoch: 04, loss: -0.84382\n",
      "epoch: 05, loss: -0.84475\n",
      "epoch: 06, loss: -0.84562\n",
      "epoch: 07, loss: -0.84621\n",
      "epoch: 08, loss: -0.84733\n",
      "epoch: 09, loss: -0.84845\n",
      "After Unsqueezing, feature size= torch.Size([450, 384])\n",
      "type(projected_feature) <class 'torch.Tensor'>\n",
      "projected feature shape= torch.Size([450, 128])\n"
     ]
    },
    {
     "name": "stderr",
     "output_type": "stream",
     "text": [
      "  8%|▊         | 80/1000 [28:28<6:25:53, 25.17s/it]"
     ]
    },
    {
     "name": "stdout",
     "output_type": "stream",
     "text": [
      "eigenvalues shape torch.Size([5]) eigenvectors shape torch.Size([5, 450])\n",
      "80 /home/phdcs2/Hard_Disk/Datasets/Deep-Spectral-Segmentation/data/object-segmentation/ECSSD/features/dino_vits16/0081.pth\n",
      "0081\n",
      "Starting Training\n",
      "epoch: 00, loss: -0.30730\n",
      "epoch: 01, loss: -0.34214\n",
      "epoch: 02, loss: -0.37810\n",
      "epoch: 03, loss: -0.40735\n",
      "epoch: 04, loss: -0.43710\n",
      "epoch: 05, loss: -0.46094\n",
      "epoch: 06, loss: -0.47398\n",
      "epoch: 07, loss: -0.48018\n",
      "epoch: 08, loss: -0.49255\n",
      "epoch: 09, loss: -0.49943\n",
      "After Unsqueezing, feature size= torch.Size([450, 384])\n",
      "type(projected_feature) <class 'torch.Tensor'>\n",
      "projected feature shape= torch.Size([450, 128])\n"
     ]
    },
    {
     "name": "stderr",
     "output_type": "stream",
     "text": [
      "  8%|▊         | 81/1000 [28:56<6:35:49, 25.84s/it]"
     ]
    },
    {
     "name": "stdout",
     "output_type": "stream",
     "text": [
      "eigenvalues shape torch.Size([5]) eigenvectors shape torch.Size([5, 450])\n",
      "81 /home/phdcs2/Hard_Disk/Datasets/Deep-Spectral-Segmentation/data/object-segmentation/ECSSD/features/dino_vits16/0082.pth\n",
      "0082\n",
      "Starting Training\n",
      "epoch: 00, loss: -0.33198\n",
      "epoch: 01, loss: -0.32913\n",
      "epoch: 02, loss: -0.33297\n",
      "epoch: 03, loss: -0.33572\n",
      "epoch: 04, loss: -0.33913\n",
      "epoch: 05, loss: -0.34226\n",
      "epoch: 06, loss: -0.34582\n",
      "epoch: 07, loss: -0.34794\n",
      "epoch: 08, loss: -0.35137\n",
      "epoch: 09, loss: -0.35303\n",
      "After Unsqueezing, feature size= torch.Size([450, 384])\n",
      "type(projected_feature) <class 'torch.Tensor'>\n",
      "projected feature shape= torch.Size([450, 128])\n"
     ]
    },
    {
     "name": "stderr",
     "output_type": "stream",
     "text": [
      "  8%|▊         | 82/1000 [29:18<6:20:35, 24.87s/it]"
     ]
    },
    {
     "name": "stdout",
     "output_type": "stream",
     "text": [
      "eigenvalues shape torch.Size([5]) eigenvectors shape torch.Size([5, 450])\n",
      "82 /home/phdcs2/Hard_Disk/Datasets/Deep-Spectral-Segmentation/data/object-segmentation/ECSSD/features/dino_vits16/0083.pth\n",
      "0083\n"
     ]
    },
    {
     "name": "stderr",
     "output_type": "stream",
     "text": [
      "/home/phdcs2/Hard_Disk/Projects/T2I/deep-spectral-segmentation/venv/lib/python3.8/site-packages/sklearn/decomposition/_pca.py:545: RuntimeWarning: invalid value encountered in divide\n",
      "  explained_variance_ratio_ = explained_variance_ / total_var\n"
     ]
    },
    {
     "name": "stdout",
     "output_type": "stream",
     "text": [
      "Starting Training\n",
      "epoch: 00, loss: 0.00000\n",
      "epoch: 01, loss: 0.00000\n",
      "epoch: 02, loss: 0.00000\n",
      "epoch: 03, loss: 0.00000\n",
      "epoch: 04, loss: 0.00000\n",
      "epoch: 05, loss: 0.00000\n",
      "epoch: 06, loss: 0.00000\n",
      "epoch: 07, loss: 0.00000\n",
      "epoch: 08, loss: 0.00000\n",
      "epoch: 09, loss: 0.00000\n",
      "After Unsqueezing, feature size= torch.Size([450, 384])\n",
      "type(projected_feature) <class 'torch.Tensor'>\n",
      "projected feature shape= torch.Size([450, 128])\n"
     ]
    },
    {
     "name": "stderr",
     "output_type": "stream",
     "text": [
      "  8%|▊         | 83/1000 [29:43<6:17:19, 24.69s/it]"
     ]
    },
    {
     "name": "stdout",
     "output_type": "stream",
     "text": [
      "eigenvalues shape torch.Size([5]) eigenvectors shape torch.Size([5, 450])\n",
      "83 /home/phdcs2/Hard_Disk/Datasets/Deep-Spectral-Segmentation/data/object-segmentation/ECSSD/features/dino_vits16/0084.pth\n",
      "0084\n",
      "Starting Training\n",
      "epoch: 00, loss: -0.33786\n",
      "epoch: 01, loss: -0.36112\n",
      "epoch: 02, loss: -0.36737\n",
      "epoch: 03, loss: -0.36439\n",
      "epoch: 04, loss: -0.36521\n",
      "epoch: 05, loss: -0.36780\n",
      "epoch: 06, loss: -0.37113\n",
      "epoch: 07, loss: -0.37162\n",
      "epoch: 08, loss: -0.37564\n",
      "epoch: 09, loss: -0.38131\n",
      "After Unsqueezing, feature size= torch.Size([450, 384])\n",
      "type(projected_feature) <class 'torch.Tensor'>\n",
      "projected feature shape= torch.Size([450, 128])\n"
     ]
    },
    {
     "name": "stderr",
     "output_type": "stream",
     "text": [
      "  8%|▊         | 84/1000 [30:08<6:19:30, 24.86s/it]"
     ]
    },
    {
     "name": "stdout",
     "output_type": "stream",
     "text": [
      "eigenvalues shape torch.Size([5]) eigenvectors shape torch.Size([5, 450])\n",
      "84 /home/phdcs2/Hard_Disk/Datasets/Deep-Spectral-Segmentation/data/object-segmentation/ECSSD/features/dino_vits16/0085.pth\n",
      "0085\n",
      "Starting Training\n",
      "epoch: 00, loss: -0.30226\n",
      "epoch: 01, loss: -0.31837\n",
      "epoch: 02, loss: -0.32393\n",
      "epoch: 03, loss: -0.32691\n",
      "epoch: 04, loss: -0.33088\n",
      "epoch: 05, loss: -0.33572\n",
      "epoch: 06, loss: -0.33864\n",
      "epoch: 07, loss: -0.34311\n",
      "epoch: 08, loss: -0.34524\n",
      "epoch: 09, loss: -0.34862\n",
      "After Unsqueezing, feature size= torch.Size([450, 384])\n",
      "type(projected_feature) <class 'torch.Tensor'>\n",
      "projected feature shape= torch.Size([450, 128])\n"
     ]
    },
    {
     "name": "stderr",
     "output_type": "stream",
     "text": [
      "  8%|▊         | 85/1000 [30:35<6:26:48, 25.36s/it]"
     ]
    },
    {
     "name": "stdout",
     "output_type": "stream",
     "text": [
      "eigenvalues shape torch.Size([5]) eigenvectors shape torch.Size([5, 450])\n",
      "85 /home/phdcs2/Hard_Disk/Datasets/Deep-Spectral-Segmentation/data/object-segmentation/ECSSD/features/dino_vits16/0086.pth\n",
      "0086\n",
      "Starting Training\n",
      "epoch: 00, loss: -0.30811\n",
      "epoch: 01, loss: -0.33029\n",
      "epoch: 02, loss: -0.33733\n",
      "epoch: 03, loss: -0.34159\n",
      "epoch: 04, loss: -0.34698\n",
      "epoch: 05, loss: -0.35206\n",
      "epoch: 06, loss: -0.35645\n",
      "epoch: 07, loss: -0.36163\n",
      "epoch: 08, loss: -0.36586\n",
      "epoch: 09, loss: -0.36983\n",
      "After Unsqueezing, feature size= torch.Size([450, 384])\n",
      "type(projected_feature) <class 'torch.Tensor'>\n",
      "projected feature shape= torch.Size([450, 128])\n"
     ]
    },
    {
     "name": "stderr",
     "output_type": "stream",
     "text": [
      "  9%|▊         | 86/1000 [31:00<6:28:00, 25.47s/it]"
     ]
    },
    {
     "name": "stdout",
     "output_type": "stream",
     "text": [
      "eigenvalues shape torch.Size([5]) eigenvectors shape torch.Size([5, 450])\n",
      "86 /home/phdcs2/Hard_Disk/Datasets/Deep-Spectral-Segmentation/data/object-segmentation/ECSSD/features/dino_vits16/0087.pth\n",
      "0087\n",
      "Starting Training\n",
      "epoch: 00, loss: -0.28700\n",
      "epoch: 01, loss: -0.31196\n",
      "epoch: 02, loss: -0.31668\n",
      "epoch: 03, loss: -0.31969\n",
      "epoch: 04, loss: -0.32638\n",
      "epoch: 05, loss: -0.32982\n",
      "epoch: 06, loss: -0.33617\n",
      "epoch: 07, loss: -0.34009\n",
      "epoch: 08, loss: -0.34334\n",
      "epoch: 09, loss: -0.34996\n",
      "After Unsqueezing, feature size= torch.Size([450, 384])\n",
      "type(projected_feature) <class 'torch.Tensor'>\n",
      "projected feature shape= torch.Size([450, 128])\n"
     ]
    },
    {
     "name": "stderr",
     "output_type": "stream",
     "text": [
      "  9%|▊         | 87/1000 [31:26<6:26:54, 25.43s/it]"
     ]
    },
    {
     "name": "stdout",
     "output_type": "stream",
     "text": [
      "eigenvalues shape torch.Size([5]) eigenvectors shape torch.Size([5, 450])\n",
      "87 /home/phdcs2/Hard_Disk/Datasets/Deep-Spectral-Segmentation/data/object-segmentation/ECSSD/features/dino_vits16/0088.pth\n",
      "0088\n",
      "Starting Training\n",
      "epoch: 00, loss: -0.68766\n",
      "epoch: 01, loss: -0.71926\n",
      "epoch: 02, loss: -0.73312\n",
      "epoch: 03, loss: -0.73989\n",
      "epoch: 04, loss: -0.74780\n",
      "epoch: 05, loss: -0.75200\n",
      "epoch: 06, loss: -0.75610\n",
      "epoch: 07, loss: -0.76026\n",
      "epoch: 08, loss: -0.76522\n",
      "epoch: 09, loss: -0.76763\n",
      "After Unsqueezing, feature size= torch.Size([450, 384])\n",
      "type(projected_feature) <class 'torch.Tensor'>\n",
      "projected feature shape= torch.Size([450, 128])\n"
     ]
    },
    {
     "name": "stderr",
     "output_type": "stream",
     "text": [
      "  9%|▉         | 88/1000 [31:49<6:15:35, 24.71s/it]"
     ]
    },
    {
     "name": "stdout",
     "output_type": "stream",
     "text": [
      "eigenvalues shape torch.Size([5]) eigenvectors shape torch.Size([5, 450])\n",
      "88 /home/phdcs2/Hard_Disk/Datasets/Deep-Spectral-Segmentation/data/object-segmentation/ECSSD/features/dino_vits16/0089.pth\n",
      "0089\n",
      "Starting Training\n",
      "epoch: 00, loss: -0.31900\n",
      "epoch: 01, loss: -0.33322\n",
      "epoch: 02, loss: -0.34268\n",
      "epoch: 03, loss: -0.35029\n",
      "epoch: 04, loss: -0.35849\n",
      "epoch: 05, loss: -0.36261\n",
      "epoch: 06, loss: -0.36811\n",
      "epoch: 07, loss: -0.37527\n",
      "epoch: 08, loss: -0.37951\n",
      "epoch: 09, loss: -0.38459\n",
      "After Unsqueezing, feature size= torch.Size([400, 384])\n",
      "type(projected_feature) <class 'torch.Tensor'>\n",
      "projected feature shape= torch.Size([400, 128])\n"
     ]
    },
    {
     "name": "stderr",
     "output_type": "stream",
     "text": [
      "  9%|▉         | 89/1000 [32:10<5:59:47, 23.70s/it]"
     ]
    },
    {
     "name": "stdout",
     "output_type": "stream",
     "text": [
      "eigenvalues shape torch.Size([5]) eigenvectors shape torch.Size([5, 400])\n",
      "89 /home/phdcs2/Hard_Disk/Datasets/Deep-Spectral-Segmentation/data/object-segmentation/ECSSD/features/dino_vits16/0090.pth\n",
      "0090\n",
      "Starting Training\n",
      "epoch: 00, loss: -0.31946\n",
      "epoch: 01, loss: -0.32905\n",
      "epoch: 02, loss: -0.33445\n",
      "epoch: 03, loss: -0.33812\n",
      "epoch: 04, loss: -0.34167\n",
      "epoch: 05, loss: -0.34527\n",
      "epoch: 06, loss: -0.34871\n",
      "epoch: 07, loss: -0.35259\n",
      "epoch: 08, loss: -0.35648\n",
      "epoch: 09, loss: -0.35812\n",
      "After Unsqueezing, feature size= torch.Size([400, 384])\n",
      "type(projected_feature) <class 'torch.Tensor'>\n",
      "projected feature shape= torch.Size([400, 128])\n"
     ]
    },
    {
     "name": "stderr",
     "output_type": "stream",
     "text": [
      "  9%|▉         | 90/1000 [32:32<5:52:36, 23.25s/it]"
     ]
    },
    {
     "name": "stdout",
     "output_type": "stream",
     "text": [
      "eigenvalues shape torch.Size([5]) eigenvectors shape torch.Size([5, 400])\n",
      "90 /home/phdcs2/Hard_Disk/Datasets/Deep-Spectral-Segmentation/data/object-segmentation/ECSSD/features/dino_vits16/0091.pth\n",
      "0091\n"
     ]
    },
    {
     "name": "stderr",
     "output_type": "stream",
     "text": [
      "/home/phdcs2/Hard_Disk/Projects/T2I/deep-spectral-segmentation/venv/lib/python3.8/site-packages/sklearn/decomposition/_pca.py:545: RuntimeWarning: invalid value encountered in divide\n",
      "  explained_variance_ratio_ = explained_variance_ / total_var\n"
     ]
    },
    {
     "name": "stdout",
     "output_type": "stream",
     "text": [
      "Starting Training\n",
      "epoch: 00, loss: 0.00000\n",
      "epoch: 01, loss: 0.00000\n",
      "epoch: 02, loss: 0.00000\n",
      "epoch: 03, loss: 0.00000\n",
      "epoch: 04, loss: 0.00000\n",
      "epoch: 05, loss: 0.00000\n",
      "epoch: 06, loss: 0.00000\n",
      "epoch: 07, loss: 0.00000\n",
      "epoch: 08, loss: 0.00000\n",
      "epoch: 09, loss: 0.00000\n",
      "After Unsqueezing, feature size= torch.Size([400, 384])\n",
      "type(projected_feature) <class 'torch.Tensor'>\n",
      "projected feature shape= torch.Size([400, 128])\n"
     ]
    },
    {
     "name": "stderr",
     "output_type": "stream",
     "text": [
      "  9%|▉         | 91/1000 [32:54<5:44:00, 22.71s/it]"
     ]
    },
    {
     "name": "stdout",
     "output_type": "stream",
     "text": [
      "eigenvalues shape torch.Size([5]) eigenvectors shape torch.Size([5, 400])\n",
      "91 /home/phdcs2/Hard_Disk/Datasets/Deep-Spectral-Segmentation/data/object-segmentation/ECSSD/features/dino_vits16/0092.pth\n",
      "0092\n"
     ]
    },
    {
     "name": "stderr",
     "output_type": "stream",
     "text": [
      "/home/phdcs2/Hard_Disk/Projects/T2I/deep-spectral-segmentation/venv/lib/python3.8/site-packages/sklearn/decomposition/_pca.py:545: RuntimeWarning: invalid value encountered in divide\n",
      "  explained_variance_ratio_ = explained_variance_ / total_var\n"
     ]
    },
    {
     "name": "stdout",
     "output_type": "stream",
     "text": [
      "Starting Training\n",
      "epoch: 00, loss: 0.00000\n",
      "epoch: 01, loss: 0.00000\n",
      "epoch: 02, loss: 0.00000\n",
      "epoch: 03, loss: 0.00000\n",
      "epoch: 04, loss: 0.00000\n",
      "epoch: 05, loss: 0.00000\n",
      "epoch: 06, loss: 0.00000\n",
      "epoch: 07, loss: 0.00000\n",
      "epoch: 08, loss: 0.00000\n",
      "epoch: 09, loss: 0.00000\n",
      "After Unsqueezing, feature size= torch.Size([400, 384])\n",
      "type(projected_feature) <class 'torch.Tensor'>\n",
      "projected feature shape= torch.Size([400, 128])\n"
     ]
    },
    {
     "name": "stderr",
     "output_type": "stream",
     "text": [
      "  9%|▉         | 92/1000 [33:14<5:33:09, 22.02s/it]"
     ]
    },
    {
     "name": "stdout",
     "output_type": "stream",
     "text": [
      "eigenvalues shape torch.Size([5]) eigenvectors shape torch.Size([5, 400])\n",
      "92 /home/phdcs2/Hard_Disk/Datasets/Deep-Spectral-Segmentation/data/object-segmentation/ECSSD/features/dino_vits16/0093.pth\n",
      "0093\n",
      "Starting Training\n",
      "epoch: 00, loss: -0.31116\n",
      "epoch: 01, loss: -0.33179\n",
      "epoch: 02, loss: -0.33872\n",
      "epoch: 03, loss: -0.34418\n",
      "epoch: 04, loss: -0.34789\n",
      "epoch: 05, loss: -0.35216\n",
      "epoch: 06, loss: -0.35343\n",
      "epoch: 07, loss: -0.35735\n",
      "epoch: 08, loss: -0.36110\n",
      "epoch: 09, loss: -0.36420\n",
      "After Unsqueezing, feature size= torch.Size([400, 384])\n",
      "type(projected_feature) <class 'torch.Tensor'>\n",
      "projected feature shape= torch.Size([400, 128])\n"
     ]
    },
    {
     "name": "stderr",
     "output_type": "stream",
     "text": [
      "  9%|▉         | 93/1000 [33:35<5:28:38, 21.74s/it]"
     ]
    },
    {
     "name": "stdout",
     "output_type": "stream",
     "text": [
      "eigenvalues shape torch.Size([5]) eigenvectors shape torch.Size([5, 400])\n",
      "93 /home/phdcs2/Hard_Disk/Datasets/Deep-Spectral-Segmentation/data/object-segmentation/ECSSD/features/dino_vits16/0094.pth\n",
      "0094\n",
      "Starting Training\n",
      "epoch: 00, loss: -0.32655\n",
      "epoch: 01, loss: -0.34163\n",
      "epoch: 02, loss: -0.34969\n",
      "epoch: 03, loss: -0.35608\n",
      "epoch: 04, loss: -0.36151\n",
      "epoch: 05, loss: -0.36747\n",
      "epoch: 06, loss: -0.37212\n",
      "epoch: 07, loss: -0.37679\n",
      "epoch: 08, loss: -0.38026\n",
      "epoch: 09, loss: -0.38399\n",
      "After Unsqueezing, feature size= torch.Size([400, 384])\n",
      "type(projected_feature) <class 'torch.Tensor'>\n",
      "projected feature shape= torch.Size([400, 128])\n"
     ]
    },
    {
     "name": "stderr",
     "output_type": "stream",
     "text": [
      "  9%|▉         | 94/1000 [33:57<5:28:42, 21.77s/it]"
     ]
    },
    {
     "name": "stdout",
     "output_type": "stream",
     "text": [
      "eigenvalues shape torch.Size([5]) eigenvectors shape torch.Size([5, 400])\n",
      "94 /home/phdcs2/Hard_Disk/Datasets/Deep-Spectral-Segmentation/data/object-segmentation/ECSSD/features/dino_vits16/0095.pth\n",
      "0095\n",
      "Starting Training\n",
      "epoch: 00, loss: -0.71786\n",
      "epoch: 01, loss: -0.77595\n",
      "epoch: 02, loss: -0.78143\n",
      "epoch: 03, loss: -0.78434\n",
      "epoch: 04, loss: -0.78695\n",
      "epoch: 05, loss: -0.78819\n",
      "epoch: 06, loss: -0.79076\n",
      "epoch: 07, loss: -0.79126\n",
      "epoch: 08, loss: -0.79277\n",
      "epoch: 09, loss: -0.79440\n",
      "After Unsqueezing, feature size= torch.Size([400, 384])\n",
      "type(projected_feature) <class 'torch.Tensor'>\n",
      "projected feature shape= torch.Size([400, 128])\n"
     ]
    },
    {
     "name": "stderr",
     "output_type": "stream",
     "text": [
      " 10%|▉         | 95/1000 [34:18<5:23:57, 21.48s/it]"
     ]
    },
    {
     "name": "stdout",
     "output_type": "stream",
     "text": [
      "eigenvalues shape torch.Size([5]) eigenvectors shape torch.Size([5, 400])\n",
      "95 /home/phdcs2/Hard_Disk/Datasets/Deep-Spectral-Segmentation/data/object-segmentation/ECSSD/features/dino_vits16/0096.pth\n",
      "0096\n"
     ]
    },
    {
     "name": "stderr",
     "output_type": "stream",
     "text": [
      "/home/phdcs2/Hard_Disk/Projects/T2I/deep-spectral-segmentation/venv/lib/python3.8/site-packages/sklearn/decomposition/_pca.py:545: RuntimeWarning: invalid value encountered in divide\n",
      "  explained_variance_ratio_ = explained_variance_ / total_var\n"
     ]
    },
    {
     "name": "stdout",
     "output_type": "stream",
     "text": [
      "Starting Training\n",
      "epoch: 00, loss: 0.00000\n",
      "epoch: 01, loss: 0.00000\n",
      "epoch: 02, loss: 0.00000\n",
      "epoch: 03, loss: 0.00000\n",
      "epoch: 04, loss: 0.00000\n",
      "epoch: 05, loss: 0.00000\n",
      "epoch: 06, loss: 0.00000\n",
      "epoch: 07, loss: 0.00000\n",
      "epoch: 08, loss: 0.00000\n",
      "epoch: 09, loss: 0.00000\n",
      "After Unsqueezing, feature size= torch.Size([400, 384])\n",
      "type(projected_feature) <class 'torch.Tensor'>\n",
      "projected feature shape= torch.Size([400, 128])\n"
     ]
    },
    {
     "name": "stderr",
     "output_type": "stream",
     "text": [
      " 10%|▉         | 96/1000 [34:39<5:20:20, 21.26s/it]"
     ]
    },
    {
     "name": "stdout",
     "output_type": "stream",
     "text": [
      "eigenvalues shape torch.Size([5]) eigenvectors shape torch.Size([5, 400])\n",
      "96 /home/phdcs2/Hard_Disk/Datasets/Deep-Spectral-Segmentation/data/object-segmentation/ECSSD/features/dino_vits16/0097.pth\n",
      "0097\n",
      "Starting Training\n",
      "epoch: 00, loss: -0.29415\n",
      "epoch: 01, loss: -0.31061\n",
      "epoch: 02, loss: -0.31129\n",
      "epoch: 03, loss: -0.31483\n",
      "epoch: 04, loss: -0.31996\n",
      "epoch: 05, loss: -0.32274\n",
      "epoch: 06, loss: -0.32606\n",
      "epoch: 07, loss: -0.32770\n",
      "epoch: 08, loss: -0.32841\n",
      "epoch: 09, loss: -0.33176\n",
      "After Unsqueezing, feature size= torch.Size([400, 384])\n",
      "type(projected_feature) <class 'torch.Tensor'>\n",
      "projected feature shape= torch.Size([400, 128])\n"
     ]
    },
    {
     "name": "stderr",
     "output_type": "stream",
     "text": [
      " 10%|▉         | 97/1000 [34:59<5:16:47, 21.05s/it]"
     ]
    },
    {
     "name": "stdout",
     "output_type": "stream",
     "text": [
      "eigenvalues shape torch.Size([5]) eigenvectors shape torch.Size([5, 400])\n",
      "97 /home/phdcs2/Hard_Disk/Datasets/Deep-Spectral-Segmentation/data/object-segmentation/ECSSD/features/dino_vits16/0098.pth\n",
      "0098\n",
      "Starting Training\n",
      "epoch: 00, loss: -0.73334\n",
      "epoch: 01, loss: -0.81855\n",
      "epoch: 02, loss: -0.81980\n",
      "epoch: 03, loss: -0.82040\n",
      "epoch: 04, loss: -0.82049\n",
      "epoch: 05, loss: -0.82142\n",
      "epoch: 06, loss: -0.82099\n",
      "epoch: 07, loss: -0.82079\n",
      "epoch: 08, loss: -0.82184\n",
      "epoch: 09, loss: -0.82204\n",
      "After Unsqueezing, feature size= torch.Size([400, 384])\n",
      "type(projected_feature) <class 'torch.Tensor'>\n",
      "projected feature shape= torch.Size([400, 128])\n"
     ]
    },
    {
     "name": "stderr",
     "output_type": "stream",
     "text": [
      " 10%|▉         | 98/1000 [35:21<5:22:20, 21.44s/it]"
     ]
    },
    {
     "name": "stdout",
     "output_type": "stream",
     "text": [
      "eigenvalues shape torch.Size([5]) eigenvectors shape torch.Size([5, 400])\n",
      "98 /home/phdcs2/Hard_Disk/Datasets/Deep-Spectral-Segmentation/data/object-segmentation/ECSSD/features/dino_vits16/0099.pth\n",
      "0099\n"
     ]
    },
    {
     "name": "stderr",
     "output_type": "stream",
     "text": [
      "/home/phdcs2/Hard_Disk/Projects/T2I/deep-spectral-segmentation/venv/lib/python3.8/site-packages/sklearn/decomposition/_pca.py:545: RuntimeWarning: invalid value encountered in divide\n",
      "  explained_variance_ratio_ = explained_variance_ / total_var\n"
     ]
    },
    {
     "name": "stdout",
     "output_type": "stream",
     "text": [
      "Starting Training\n",
      "epoch: 00, loss: 0.00000\n",
      "epoch: 01, loss: 0.00000\n",
      "epoch: 02, loss: 0.00000\n",
      "epoch: 03, loss: 0.00000\n",
      "epoch: 04, loss: 0.00000\n",
      "epoch: 05, loss: 0.00000\n",
      "epoch: 06, loss: 0.00000\n",
      "epoch: 07, loss: 0.00000\n",
      "epoch: 08, loss: 0.00000\n",
      "epoch: 09, loss: 0.00000\n",
      "After Unsqueezing, feature size= torch.Size([400, 384])\n",
      "type(projected_feature) <class 'torch.Tensor'>\n",
      "projected feature shape= torch.Size([400, 128])\n"
     ]
    },
    {
     "name": "stderr",
     "output_type": "stream",
     "text": [
      " 10%|▉         | 99/1000 [35:46<5:34:05, 22.25s/it]"
     ]
    },
    {
     "name": "stdout",
     "output_type": "stream",
     "text": [
      "eigenvalues shape torch.Size([5]) eigenvectors shape torch.Size([5, 400])\n",
      "99 /home/phdcs2/Hard_Disk/Datasets/Deep-Spectral-Segmentation/data/object-segmentation/ECSSD/features/dino_vits16/0100.pth\n",
      "0100\n",
      "Starting Training\n",
      "epoch: 00, loss: -0.79547\n",
      "epoch: 01, loss: -0.88761\n",
      "epoch: 02, loss: -0.89023\n",
      "epoch: 03, loss: -0.89116\n",
      "epoch: 04, loss: -0.89282\n",
      "epoch: 05, loss: -0.89412\n",
      "epoch: 06, loss: -0.89732\n",
      "epoch: 07, loss: -0.89658\n",
      "epoch: 08, loss: -0.89716\n",
      "epoch: 09, loss: -0.89730\n",
      "After Unsqueezing, feature size= torch.Size([400, 384])\n",
      "type(projected_feature) <class 'torch.Tensor'>\n",
      "projected feature shape= torch.Size([400, 128])\n"
     ]
    },
    {
     "name": "stderr",
     "output_type": "stream",
     "text": [
      " 10%|█         | 100/1000 [36:04<5:16:39, 21.11s/it]"
     ]
    },
    {
     "name": "stdout",
     "output_type": "stream",
     "text": [
      "eigenvalues shape torch.Size([5]) eigenvectors shape torch.Size([5, 400])\n",
      "100 /home/phdcs2/Hard_Disk/Datasets/Deep-Spectral-Segmentation/data/object-segmentation/ECSSD/features/dino_vits16/0101.pth\n",
      "0101\n",
      "Starting Training\n",
      "epoch: 00, loss: -0.23103\n",
      "epoch: 01, loss: -0.23654\n",
      "epoch: 02, loss: -0.24449\n",
      "epoch: 03, loss: -0.24416\n",
      "epoch: 04, loss: -0.22982\n",
      "epoch: 05, loss: -0.21419\n",
      "epoch: 06, loss: -0.18412\n",
      "epoch: 07, loss: -0.15895\n",
      "epoch: 08, loss: -0.16385\n",
      "epoch: 09, loss: -0.16444\n",
      "After Unsqueezing, feature size= torch.Size([400, 384])\n",
      "type(projected_feature) <class 'torch.Tensor'>\n",
      "projected feature shape= torch.Size([400, 128])\n"
     ]
    },
    {
     "name": "stderr",
     "output_type": "stream",
     "text": [
      " 10%|█         | 101/1000 [36:25<5:14:50, 21.01s/it]"
     ]
    },
    {
     "name": "stdout",
     "output_type": "stream",
     "text": [
      "eigenvalues shape torch.Size([5]) eigenvectors shape torch.Size([5, 400])\n",
      "101 /home/phdcs2/Hard_Disk/Datasets/Deep-Spectral-Segmentation/data/object-segmentation/ECSSD/features/dino_vits16/0102.pth\n",
      "0102\n"
     ]
    },
    {
     "name": "stderr",
     "output_type": "stream",
     "text": [
      "/home/phdcs2/Hard_Disk/Projects/T2I/deep-spectral-segmentation/venv/lib/python3.8/site-packages/sklearn/decomposition/_pca.py:545: RuntimeWarning: invalid value encountered in divide\n",
      "  explained_variance_ratio_ = explained_variance_ / total_var\n"
     ]
    },
    {
     "name": "stdout",
     "output_type": "stream",
     "text": [
      "Starting Training\n",
      "epoch: 00, loss: 0.00000\n",
      "epoch: 01, loss: 0.00000\n",
      "epoch: 02, loss: 0.00000\n",
      "epoch: 03, loss: 0.00000\n",
      "epoch: 04, loss: 0.00000\n",
      "epoch: 05, loss: 0.00000\n",
      "epoch: 06, loss: 0.00000\n",
      "epoch: 07, loss: 0.00000\n",
      "epoch: 08, loss: 0.00000\n",
      "epoch: 09, loss: 0.00000\n",
      "After Unsqueezing, feature size= torch.Size([400, 384])\n",
      "type(projected_feature) <class 'torch.Tensor'>\n",
      "projected feature shape= torch.Size([400, 128])\n"
     ]
    },
    {
     "name": "stderr",
     "output_type": "stream",
     "text": [
      " 10%|█         | 102/1000 [36:45<5:11:48, 20.83s/it]"
     ]
    },
    {
     "name": "stdout",
     "output_type": "stream",
     "text": [
      "eigenvalues shape torch.Size([5]) eigenvectors shape torch.Size([5, 400])\n",
      "102 /home/phdcs2/Hard_Disk/Datasets/Deep-Spectral-Segmentation/data/object-segmentation/ECSSD/features/dino_vits16/0103.pth\n",
      "0103\n",
      "Starting Training\n"
     ]
    },
    {
     "name": "stderr",
     "output_type": "stream",
     "text": [
      "/home/phdcs2/Hard_Disk/Projects/T2I/deep-spectral-segmentation/venv/lib/python3.8/site-packages/sklearn/decomposition/_pca.py:545: RuntimeWarning: invalid value encountered in divide\n",
      "  explained_variance_ratio_ = explained_variance_ / total_var\n"
     ]
    },
    {
     "name": "stdout",
     "output_type": "stream",
     "text": [
      "epoch: 00, loss: 0.00000\n",
      "epoch: 01, loss: 0.00000\n",
      "epoch: 02, loss: 0.00000\n",
      "epoch: 03, loss: 0.00000\n",
      "epoch: 04, loss: 0.00000\n",
      "epoch: 05, loss: 0.00000\n",
      "epoch: 06, loss: 0.00000\n",
      "epoch: 07, loss: 0.00000\n",
      "epoch: 08, loss: 0.00000\n",
      "epoch: 09, loss: 0.00000\n",
      "After Unsqueezing, feature size= torch.Size([400, 384])\n",
      "type(projected_feature) <class 'torch.Tensor'>\n",
      "projected feature shape= torch.Size([400, 128])\n"
     ]
    },
    {
     "name": "stderr",
     "output_type": "stream",
     "text": [
      " 10%|█         | 103/1000 [37:06<5:12:17, 20.89s/it]"
     ]
    },
    {
     "name": "stdout",
     "output_type": "stream",
     "text": [
      "eigenvalues shape torch.Size([5]) eigenvectors shape torch.Size([5, 400])\n",
      "103 /home/phdcs2/Hard_Disk/Datasets/Deep-Spectral-Segmentation/data/object-segmentation/ECSSD/features/dino_vits16/0104.pth\n",
      "0104\n"
     ]
    },
    {
     "name": "stderr",
     "output_type": "stream",
     "text": [
      "/home/phdcs2/Hard_Disk/Projects/T2I/deep-spectral-segmentation/venv/lib/python3.8/site-packages/sklearn/decomposition/_pca.py:545: RuntimeWarning: invalid value encountered in divide\n",
      "  explained_variance_ratio_ = explained_variance_ / total_var\n"
     ]
    },
    {
     "name": "stdout",
     "output_type": "stream",
     "text": [
      "Starting Training\n",
      "epoch: 00, loss: 0.00000\n",
      "epoch: 01, loss: 0.00000\n",
      "epoch: 02, loss: 0.00000\n",
      "epoch: 03, loss: 0.00000\n",
      "epoch: 04, loss: 0.00000\n",
      "epoch: 05, loss: 0.00000\n",
      "epoch: 06, loss: 0.00000\n",
      "epoch: 07, loss: 0.00000\n",
      "epoch: 08, loss: 0.00000\n",
      "epoch: 09, loss: 0.00000\n",
      "After Unsqueezing, feature size= torch.Size([400, 384])\n",
      "type(projected_feature) <class 'torch.Tensor'>\n",
      "projected feature shape= torch.Size([400, 128])\n"
     ]
    },
    {
     "name": "stderr",
     "output_type": "stream",
     "text": [
      " 10%|█         | 104/1000 [37:28<5:15:36, 21.13s/it]"
     ]
    },
    {
     "name": "stdout",
     "output_type": "stream",
     "text": [
      "eigenvalues shape torch.Size([5]) eigenvectors shape torch.Size([5, 400])\n",
      "104 /home/phdcs2/Hard_Disk/Datasets/Deep-Spectral-Segmentation/data/object-segmentation/ECSSD/features/dino_vits16/0105.pth\n",
      "0105\n"
     ]
    },
    {
     "name": "stderr",
     "output_type": "stream",
     "text": [
      "/home/phdcs2/Hard_Disk/Projects/T2I/deep-spectral-segmentation/venv/lib/python3.8/site-packages/sklearn/decomposition/_pca.py:545: RuntimeWarning: invalid value encountered in divide\n",
      "  explained_variance_ratio_ = explained_variance_ / total_var\n"
     ]
    },
    {
     "name": "stdout",
     "output_type": "stream",
     "text": [
      "Starting Training\n",
      "epoch: 00, loss: 0.00000\n",
      "epoch: 01, loss: 0.00000\n",
      "epoch: 02, loss: 0.00000\n",
      "epoch: 03, loss: 0.00000\n",
      "epoch: 04, loss: 0.00000\n",
      "epoch: 05, loss: 0.00000\n",
      "epoch: 06, loss: 0.00000\n",
      "epoch: 07, loss: 0.00000\n",
      "epoch: 08, loss: 0.00000\n",
      "epoch: 09, loss: 0.00000\n",
      "After Unsqueezing, feature size= torch.Size([400, 384])\n",
      "type(projected_feature) <class 'torch.Tensor'>\n",
      "projected feature shape= torch.Size([400, 128])\n"
     ]
    },
    {
     "name": "stderr",
     "output_type": "stream",
     "text": [
      " 10%|█         | 105/1000 [37:50<5:20:53, 21.51s/it]"
     ]
    },
    {
     "name": "stdout",
     "output_type": "stream",
     "text": [
      "eigenvalues shape torch.Size([5]) eigenvectors shape torch.Size([5, 400])\n",
      "105 /home/phdcs2/Hard_Disk/Datasets/Deep-Spectral-Segmentation/data/object-segmentation/ECSSD/features/dino_vits16/0106.pth\n",
      "0106\n"
     ]
    },
    {
     "name": "stderr",
     "output_type": "stream",
     "text": [
      "/home/phdcs2/Hard_Disk/Projects/T2I/deep-spectral-segmentation/venv/lib/python3.8/site-packages/sklearn/decomposition/_pca.py:545: RuntimeWarning: invalid value encountered in divide\n",
      "  explained_variance_ratio_ = explained_variance_ / total_var\n"
     ]
    },
    {
     "name": "stdout",
     "output_type": "stream",
     "text": [
      "Starting Training\n",
      "epoch: 00, loss: 0.00000\n",
      "epoch: 01, loss: 0.00000\n",
      "epoch: 02, loss: 0.00000\n",
      "epoch: 03, loss: 0.00000\n",
      "epoch: 04, loss: 0.00000\n",
      "epoch: 05, loss: 0.00000\n",
      "epoch: 06, loss: 0.00000\n",
      "epoch: 07, loss: 0.00000\n",
      "epoch: 08, loss: 0.00000\n",
      "epoch: 09, loss: 0.00000\n",
      "After Unsqueezing, feature size= torch.Size([400, 384])\n",
      "type(projected_feature) <class 'torch.Tensor'>\n",
      "projected feature shape= torch.Size([400, 128])\n"
     ]
    },
    {
     "name": "stderr",
     "output_type": "stream",
     "text": [
      " 11%|█         | 106/1000 [38:11<5:17:31, 21.31s/it]"
     ]
    },
    {
     "name": "stdout",
     "output_type": "stream",
     "text": [
      "eigenvalues shape torch.Size([5]) eigenvectors shape torch.Size([5, 400])\n",
      "106 /home/phdcs2/Hard_Disk/Datasets/Deep-Spectral-Segmentation/data/object-segmentation/ECSSD/features/dino_vits16/0107.pth\n",
      "0107\n"
     ]
    },
    {
     "name": "stderr",
     "output_type": "stream",
     "text": [
      "/home/phdcs2/Hard_Disk/Projects/T2I/deep-spectral-segmentation/venv/lib/python3.8/site-packages/sklearn/decomposition/_pca.py:545: RuntimeWarning: invalid value encountered in divide\n",
      "  explained_variance_ratio_ = explained_variance_ / total_var\n"
     ]
    },
    {
     "name": "stdout",
     "output_type": "stream",
     "text": [
      "Starting Training\n",
      "epoch: 00, loss: 0.00000\n",
      "epoch: 01, loss: 0.00000\n",
      "epoch: 02, loss: 0.00000\n",
      "epoch: 03, loss: 0.00000\n",
      "epoch: 04, loss: 0.00000\n",
      "epoch: 05, loss: 0.00000\n",
      "epoch: 06, loss: 0.00000\n",
      "epoch: 07, loss: 0.00000\n",
      "epoch: 08, loss: 0.00000\n",
      "epoch: 09, loss: 0.00000\n",
      "After Unsqueezing, feature size= torch.Size([400, 384])\n",
      "type(projected_feature) <class 'torch.Tensor'>\n",
      "projected feature shape= torch.Size([400, 128])\n"
     ]
    },
    {
     "name": "stderr",
     "output_type": "stream",
     "text": [
      " 11%|█         | 107/1000 [38:33<5:17:48, 21.35s/it]"
     ]
    },
    {
     "name": "stdout",
     "output_type": "stream",
     "text": [
      "eigenvalues shape torch.Size([5]) eigenvectors shape torch.Size([5, 400])\n",
      "107 /home/phdcs2/Hard_Disk/Datasets/Deep-Spectral-Segmentation/data/object-segmentation/ECSSD/features/dino_vits16/0108.pth\n",
      "0108\n",
      "Starting Training\n",
      "epoch: 00, loss: -0.34013\n",
      "epoch: 01, loss: -0.34240\n",
      "epoch: 02, loss: -0.34849\n",
      "epoch: 03, loss: -0.35298\n",
      "epoch: 04, loss: -0.35795\n",
      "epoch: 05, loss: -0.36207\n",
      "epoch: 06, loss: -0.36863\n",
      "epoch: 07, loss: -0.37294\n",
      "epoch: 08, loss: -0.37584\n",
      "epoch: 09, loss: -0.38250\n",
      "After Unsqueezing, feature size= torch.Size([400, 384])\n",
      "type(projected_feature) <class 'torch.Tensor'>\n",
      "projected feature shape= torch.Size([400, 128])\n"
     ]
    },
    {
     "name": "stderr",
     "output_type": "stream",
     "text": [
      " 11%|█         | 108/1000 [38:53<5:12:02, 20.99s/it]"
     ]
    },
    {
     "name": "stdout",
     "output_type": "stream",
     "text": [
      "eigenvalues shape torch.Size([5]) eigenvectors shape torch.Size([5, 400])\n",
      "108 /home/phdcs2/Hard_Disk/Datasets/Deep-Spectral-Segmentation/data/object-segmentation/ECSSD/features/dino_vits16/0109.pth\n",
      "0109\n",
      "Starting Training\n",
      "epoch: 00, loss: -0.31470\n",
      "epoch: 01, loss: -0.33654\n",
      "epoch: 02, loss: -0.33950\n",
      "epoch: 03, loss: -0.34219\n",
      "epoch: 04, loss: -0.34488\n",
      "epoch: 05, loss: -0.34947\n",
      "epoch: 06, loss: -0.35138\n",
      "epoch: 07, loss: -0.35393\n",
      "epoch: 08, loss: -0.35427\n",
      "epoch: 09, loss: -0.35775\n",
      "After Unsqueezing, feature size= torch.Size([400, 384])\n",
      "type(projected_feature) <class 'torch.Tensor'>\n",
      "projected feature shape= torch.Size([400, 128])\n"
     ]
    },
    {
     "name": "stderr",
     "output_type": "stream",
     "text": [
      " 11%|█         | 109/1000 [39:13<5:09:19, 20.83s/it]"
     ]
    },
    {
     "name": "stdout",
     "output_type": "stream",
     "text": [
      "eigenvalues shape torch.Size([5]) eigenvectors shape torch.Size([5, 400])\n",
      "109 /home/phdcs2/Hard_Disk/Datasets/Deep-Spectral-Segmentation/data/object-segmentation/ECSSD/features/dino_vits16/0110.pth\n",
      "0110\n",
      "Starting Training\n",
      "epoch: 00, loss: -0.21587\n",
      "epoch: 01, loss: -0.22450\n",
      "epoch: 02, loss: -0.22651\n",
      "epoch: 03, loss: -0.22849\n",
      "epoch: 04, loss: -0.23190\n",
      "epoch: 05, loss: -0.23231\n",
      "epoch: 06, loss: -0.23568\n",
      "epoch: 07, loss: -0.23740\n",
      "epoch: 08, loss: -0.23902\n",
      "epoch: 09, loss: -0.24028\n",
      "After Unsqueezing, feature size= torch.Size([400, 384])\n",
      "type(projected_feature) <class 'torch.Tensor'>\n",
      "projected feature shape= torch.Size([400, 128])\n"
     ]
    },
    {
     "name": "stderr",
     "output_type": "stream",
     "text": [
      " 11%|█         | 110/1000 [39:33<5:06:32, 20.67s/it]"
     ]
    },
    {
     "name": "stdout",
     "output_type": "stream",
     "text": [
      "eigenvalues shape torch.Size([5]) eigenvectors shape torch.Size([5, 400])\n",
      "110 /home/phdcs2/Hard_Disk/Datasets/Deep-Spectral-Segmentation/data/object-segmentation/ECSSD/features/dino_vits16/0111.pth\n",
      "0111\n",
      "Starting Training\n"
     ]
    },
    {
     "name": "stderr",
     "output_type": "stream",
     "text": [
      "/home/phdcs2/Hard_Disk/Projects/T2I/deep-spectral-segmentation/venv/lib/python3.8/site-packages/sklearn/decomposition/_pca.py:545: RuntimeWarning: invalid value encountered in divide\n",
      "  explained_variance_ratio_ = explained_variance_ / total_var\n"
     ]
    },
    {
     "name": "stdout",
     "output_type": "stream",
     "text": [
      "epoch: 00, loss: 0.00000\n",
      "epoch: 01, loss: 0.00000\n",
      "epoch: 02, loss: 0.00000\n",
      "epoch: 03, loss: 0.00000\n",
      "epoch: 04, loss: 0.00000\n",
      "epoch: 05, loss: 0.00000\n",
      "epoch: 06, loss: 0.00000\n",
      "epoch: 07, loss: 0.00000\n",
      "epoch: 08, loss: 0.00000\n",
      "epoch: 09, loss: 0.00000\n",
      "After Unsqueezing, feature size= torch.Size([400, 384])\n",
      "type(projected_feature) <class 'torch.Tensor'>\n",
      "projected feature shape= torch.Size([400, 128])\n"
     ]
    },
    {
     "name": "stderr",
     "output_type": "stream",
     "text": [
      " 11%|█         | 111/1000 [39:54<5:05:10, 20.60s/it]"
     ]
    },
    {
     "name": "stdout",
     "output_type": "stream",
     "text": [
      "eigenvalues shape torch.Size([5]) eigenvectors shape torch.Size([5, 400])\n",
      "111 /home/phdcs2/Hard_Disk/Datasets/Deep-Spectral-Segmentation/data/object-segmentation/ECSSD/features/dino_vits16/0112.pth\n",
      "0112\n",
      "Starting Training\n",
      "epoch: 00, loss: -0.28464\n",
      "epoch: 01, loss: -0.29721\n",
      "epoch: 02, loss: -0.30417\n",
      "epoch: 03, loss: -0.30948\n",
      "epoch: 04, loss: -0.31020\n",
      "epoch: 05, loss: -0.31511\n",
      "epoch: 06, loss: -0.31911\n",
      "epoch: 07, loss: -0.32075\n",
      "epoch: 08, loss: -0.32413\n",
      "epoch: 09, loss: -0.32809\n",
      "After Unsqueezing, feature size= torch.Size([400, 384])\n",
      "type(projected_feature) <class 'torch.Tensor'>\n",
      "projected feature shape= torch.Size([400, 128])\n"
     ]
    },
    {
     "name": "stderr",
     "output_type": "stream",
     "text": [
      " 11%|█         | 112/1000 [40:15<5:06:25, 20.70s/it]"
     ]
    },
    {
     "name": "stdout",
     "output_type": "stream",
     "text": [
      "eigenvalues shape torch.Size([5]) eigenvectors shape torch.Size([5, 400])\n",
      "112 /home/phdcs2/Hard_Disk/Datasets/Deep-Spectral-Segmentation/data/object-segmentation/ECSSD/features/dino_vits16/0113.pth\n",
      "0113\n",
      "Starting Training\n",
      "epoch: 00, loss: -0.17484\n",
      "epoch: 01, loss: -0.12412\n",
      "epoch: 02, loss: -0.05527\n",
      "epoch: 03, loss: -0.02045\n",
      "epoch: 04, loss: -0.02061\n",
      "epoch: 05, loss: -0.02078\n",
      "epoch: 06, loss: -0.02064\n",
      "epoch: 07, loss: -0.02064\n",
      "epoch: 08, loss: -0.02079\n",
      "epoch: 09, loss: -0.02077\n",
      "After Unsqueezing, feature size= torch.Size([400, 384])\n",
      "type(projected_feature) <class 'torch.Tensor'>\n",
      "projected feature shape= torch.Size([400, 128])\n"
     ]
    },
    {
     "name": "stderr",
     "output_type": "stream",
     "text": [
      " 11%|█▏        | 113/1000 [40:37<5:10:58, 21.04s/it]"
     ]
    },
    {
     "name": "stdout",
     "output_type": "stream",
     "text": [
      "eigenvalues shape torch.Size([5]) eigenvectors shape torch.Size([5, 400])\n",
      "113 /home/phdcs2/Hard_Disk/Datasets/Deep-Spectral-Segmentation/data/object-segmentation/ECSSD/features/dino_vits16/0114.pth\n",
      "0114\n",
      "Starting Training\n",
      "epoch: 00, loss: -0.16660\n",
      "epoch: 01, loss: -0.05883\n",
      "epoch: 02, loss: -0.02689\n",
      "epoch: 03, loss: -0.02694\n",
      "epoch: 04, loss: -0.02699\n",
      "epoch: 05, loss: -0.02696\n",
      "epoch: 06, loss: -0.02700\n",
      "epoch: 07, loss: -0.02700\n",
      "epoch: 08, loss: -0.02701\n",
      "epoch: 09, loss: -0.02701\n",
      "After Unsqueezing, feature size= torch.Size([400, 384])\n",
      "type(projected_feature) <class 'torch.Tensor'>\n",
      "projected feature shape= torch.Size([400, 128])\n"
     ]
    },
    {
     "name": "stderr",
     "output_type": "stream",
     "text": [
      " 11%|█▏        | 114/1000 [40:57<5:08:13, 20.87s/it]"
     ]
    },
    {
     "name": "stdout",
     "output_type": "stream",
     "text": [
      "eigenvalues shape torch.Size([5]) eigenvectors shape torch.Size([5, 400])\n",
      "114 /home/phdcs2/Hard_Disk/Datasets/Deep-Spectral-Segmentation/data/object-segmentation/ECSSD/features/dino_vits16/0115.pth\n",
      "0115\n",
      "Starting Training\n",
      "epoch: 00, loss: -0.31651\n",
      "epoch: 01, loss: -0.33106\n",
      "epoch: 02, loss: -0.33995\n",
      "epoch: 03, loss: -0.34569\n",
      "epoch: 04, loss: -0.35115\n",
      "epoch: 05, loss: -0.35495\n",
      "epoch: 06, loss: -0.35986\n",
      "epoch: 07, loss: -0.36558\n",
      "epoch: 08, loss: -0.36885\n",
      "epoch: 09, loss: -0.37512\n",
      "After Unsqueezing, feature size= torch.Size([400, 384])\n",
      "type(projected_feature) <class 'torch.Tensor'>\n",
      "projected feature shape= torch.Size([400, 128])\n"
     ]
    },
    {
     "name": "stderr",
     "output_type": "stream",
     "text": [
      " 12%|█▏        | 115/1000 [41:20<5:16:00, 21.42s/it]"
     ]
    },
    {
     "name": "stdout",
     "output_type": "stream",
     "text": [
      "eigenvalues shape torch.Size([5]) eigenvectors shape torch.Size([5, 400])\n",
      "115 /home/phdcs2/Hard_Disk/Datasets/Deep-Spectral-Segmentation/data/object-segmentation/ECSSD/features/dino_vits16/0116.pth\n",
      "0116\n",
      "Starting Training\n",
      "epoch: 00, loss: -0.76202\n",
      "epoch: 01, loss: -0.86650\n",
      "epoch: 02, loss: -0.86834\n",
      "epoch: 03, loss: -0.86987\n",
      "epoch: 04, loss: -0.87042\n",
      "epoch: 05, loss: -0.87155\n",
      "epoch: 06, loss: -0.87074\n",
      "epoch: 07, loss: -0.87100\n",
      "epoch: 08, loss: -0.87180\n",
      "epoch: 09, loss: -0.87282\n",
      "After Unsqueezing, feature size= torch.Size([400, 384])\n",
      "type(projected_feature) <class 'torch.Tensor'>\n",
      "projected feature shape= torch.Size([400, 128])\n"
     ]
    },
    {
     "name": "stderr",
     "output_type": "stream",
     "text": [
      " 12%|█▏        | 116/1000 [41:42<5:19:27, 21.68s/it]"
     ]
    },
    {
     "name": "stdout",
     "output_type": "stream",
     "text": [
      "eigenvalues shape torch.Size([5]) eigenvectors shape torch.Size([5, 400])\n",
      "116 /home/phdcs2/Hard_Disk/Datasets/Deep-Spectral-Segmentation/data/object-segmentation/ECSSD/features/dino_vits16/0117.pth\n",
      "0117\n",
      "Starting Training\n",
      "epoch: 00, loss: -0.33627\n",
      "epoch: 01, loss: -0.35070\n",
      "epoch: 02, loss: -0.35747\n",
      "epoch: 03, loss: -0.36336\n",
      "epoch: 04, loss: -0.36597\n",
      "epoch: 05, loss: -0.37048\n",
      "epoch: 06, loss: -0.37277\n",
      "epoch: 07, loss: -0.37727\n",
      "epoch: 08, loss: -0.38098\n",
      "epoch: 09, loss: -0.38236\n",
      "After Unsqueezing, feature size= torch.Size([400, 384])\n",
      "type(projected_feature) <class 'torch.Tensor'>\n",
      "projected feature shape= torch.Size([400, 128])\n"
     ]
    },
    {
     "name": "stderr",
     "output_type": "stream",
     "text": [
      " 12%|█▏        | 117/1000 [42:04<5:19:19, 21.70s/it]"
     ]
    },
    {
     "name": "stdout",
     "output_type": "stream",
     "text": [
      "eigenvalues shape torch.Size([5]) eigenvectors shape torch.Size([5, 400])\n",
      "117 /home/phdcs2/Hard_Disk/Datasets/Deep-Spectral-Segmentation/data/object-segmentation/ECSSD/features/dino_vits16/0118.pth\n",
      "0118\n"
     ]
    },
    {
     "name": "stderr",
     "output_type": "stream",
     "text": [
      "/home/phdcs2/Hard_Disk/Projects/T2I/deep-spectral-segmentation/venv/lib/python3.8/site-packages/sklearn/decomposition/_pca.py:545: RuntimeWarning: invalid value encountered in divide\n",
      "  explained_variance_ratio_ = explained_variance_ / total_var\n"
     ]
    },
    {
     "name": "stdout",
     "output_type": "stream",
     "text": [
      "Starting Training\n",
      "epoch: 00, loss: 0.00000\n",
      "epoch: 01, loss: 0.00000\n",
      "epoch: 02, loss: 0.00000\n",
      "epoch: 03, loss: 0.00000\n",
      "epoch: 04, loss: 0.00000\n",
      "epoch: 05, loss: 0.00000\n",
      "epoch: 06, loss: 0.00000\n",
      "epoch: 07, loss: 0.00000\n",
      "epoch: 08, loss: 0.00000\n",
      "epoch: 09, loss: 0.00000\n",
      "After Unsqueezing, feature size= torch.Size([400, 384])\n",
      "type(projected_feature) <class 'torch.Tensor'>\n",
      "projected feature shape= torch.Size([400, 128])\n"
     ]
    },
    {
     "name": "stderr",
     "output_type": "stream",
     "text": [
      " 12%|█▏        | 118/1000 [42:24<5:13:21, 21.32s/it]"
     ]
    },
    {
     "name": "stdout",
     "output_type": "stream",
     "text": [
      "eigenvalues shape torch.Size([5]) eigenvectors shape torch.Size([5, 400])\n",
      "118 /home/phdcs2/Hard_Disk/Datasets/Deep-Spectral-Segmentation/data/object-segmentation/ECSSD/features/dino_vits16/0119.pth\n",
      "0119\n",
      "Starting Training\n"
     ]
    },
    {
     "name": "stderr",
     "output_type": "stream",
     "text": [
      "/home/phdcs2/Hard_Disk/Projects/T2I/deep-spectral-segmentation/venv/lib/python3.8/site-packages/sklearn/decomposition/_pca.py:545: RuntimeWarning: invalid value encountered in divide\n",
      "  explained_variance_ratio_ = explained_variance_ / total_var\n"
     ]
    },
    {
     "name": "stdout",
     "output_type": "stream",
     "text": [
      "epoch: 00, loss: 0.00000\n",
      "epoch: 01, loss: 0.00000\n",
      "epoch: 02, loss: 0.00000\n",
      "epoch: 03, loss: 0.00000\n",
      "epoch: 04, loss: 0.00000\n",
      "epoch: 05, loss: 0.00000\n",
      "epoch: 06, loss: 0.00000\n",
      "epoch: 07, loss: 0.00000\n",
      "epoch: 08, loss: 0.00000\n",
      "epoch: 09, loss: 0.00000\n",
      "After Unsqueezing, feature size= torch.Size([400, 384])\n",
      "type(projected_feature) <class 'torch.Tensor'>\n",
      "projected feature shape= torch.Size([400, 128])\n"
     ]
    },
    {
     "name": "stderr",
     "output_type": "stream",
     "text": [
      " 12%|█▏        | 119/1000 [42:45<5:12:11, 21.26s/it]"
     ]
    },
    {
     "name": "stdout",
     "output_type": "stream",
     "text": [
      "eigenvalues shape torch.Size([5]) eigenvectors shape torch.Size([5, 400])\n",
      "119 /home/phdcs2/Hard_Disk/Datasets/Deep-Spectral-Segmentation/data/object-segmentation/ECSSD/features/dino_vits16/0120.pth\n",
      "0120\n",
      "Starting Training\n",
      "epoch: 00, loss: -0.32656\n",
      "epoch: 01, loss: -0.34556\n",
      "epoch: 02, loss: -0.35172\n",
      "epoch: 03, loss: -0.35697\n",
      "epoch: 04, loss: -0.36219\n",
      "epoch: 05, loss: -0.36589\n",
      "epoch: 06, loss: -0.37025\n",
      "epoch: 07, loss: -0.37527\n",
      "epoch: 08, loss: -0.37953\n",
      "epoch: 09, loss: -0.38352\n",
      "After Unsqueezing, feature size= torch.Size([400, 384])\n",
      "type(projected_feature) <class 'torch.Tensor'>\n",
      "projected feature shape= torch.Size([400, 128])\n"
     ]
    },
    {
     "name": "stderr",
     "output_type": "stream",
     "text": [
      " 12%|█▏        | 120/1000 [43:09<5:19:52, 21.81s/it]"
     ]
    },
    {
     "name": "stdout",
     "output_type": "stream",
     "text": [
      "eigenvalues shape torch.Size([5]) eigenvectors shape torch.Size([5, 400])\n",
      "120 /home/phdcs2/Hard_Disk/Datasets/Deep-Spectral-Segmentation/data/object-segmentation/ECSSD/features/dino_vits16/0121.pth\n",
      "0121\n",
      "Starting Training\n",
      "epoch: 00, loss: -0.20190\n",
      "epoch: 01, loss: -0.21693\n",
      "epoch: 02, loss: -0.22261\n",
      "epoch: 03, loss: -0.22845\n",
      "epoch: 04, loss: -0.23059\n",
      "epoch: 05, loss: -0.23321\n",
      "epoch: 06, loss: -0.23845\n",
      "epoch: 07, loss: -0.24515\n",
      "epoch: 08, loss: -0.24906\n",
      "epoch: 09, loss: -0.25232\n",
      "After Unsqueezing, feature size= torch.Size([400, 384])\n",
      "type(projected_feature) <class 'torch.Tensor'>\n",
      "projected feature shape= torch.Size([400, 128])\n"
     ]
    },
    {
     "name": "stderr",
     "output_type": "stream",
     "text": [
      " 12%|█▏        | 121/1000 [43:31<5:20:10, 21.85s/it]"
     ]
    },
    {
     "name": "stdout",
     "output_type": "stream",
     "text": [
      "eigenvalues shape torch.Size([5]) eigenvectors shape torch.Size([5, 400])\n",
      "121 /home/phdcs2/Hard_Disk/Datasets/Deep-Spectral-Segmentation/data/object-segmentation/ECSSD/features/dino_vits16/0122.pth\n",
      "0122\n",
      "Starting Training\n",
      "epoch: 00, loss: -0.20478\n",
      "epoch: 01, loss: -0.21804\n",
      "epoch: 02, loss: -0.22255\n",
      "epoch: 03, loss: -0.22964\n",
      "epoch: 04, loss: -0.23017\n",
      "epoch: 05, loss: -0.23300\n",
      "epoch: 06, loss: -0.23663\n",
      "epoch: 07, loss: -0.24029\n",
      "epoch: 08, loss: -0.23898\n",
      "epoch: 09, loss: -0.24002\n",
      "After Unsqueezing, feature size= torch.Size([400, 384])\n",
      "type(projected_feature) <class 'torch.Tensor'>\n",
      "projected feature shape= torch.Size([400, 128])\n"
     ]
    },
    {
     "name": "stderr",
     "output_type": "stream",
     "text": [
      " 12%|█▏        | 122/1000 [43:51<5:12:12, 21.34s/it]"
     ]
    },
    {
     "name": "stdout",
     "output_type": "stream",
     "text": [
      "eigenvalues shape torch.Size([5]) eigenvectors shape torch.Size([5, 400])\n",
      "122 /home/phdcs2/Hard_Disk/Datasets/Deep-Spectral-Segmentation/data/object-segmentation/ECSSD/features/dino_vits16/0123.pth\n",
      "0123\n",
      "Starting Training\n",
      "epoch: 00, loss: -0.31469\n",
      "epoch: 01, loss: -0.33037\n",
      "epoch: 02, loss: -0.33565\n",
      "epoch: 03, loss: -0.34032\n",
      "epoch: 04, loss: -0.34349\n",
      "epoch: 05, loss: -0.34892\n",
      "epoch: 06, loss: -0.35094\n",
      "epoch: 07, loss: -0.35483\n",
      "epoch: 08, loss: -0.35796\n",
      "epoch: 09, loss: -0.36095\n",
      "After Unsqueezing, feature size= torch.Size([400, 384])\n",
      "type(projected_feature) <class 'torch.Tensor'>\n",
      "projected feature shape= torch.Size([400, 128])\n"
     ]
    },
    {
     "name": "stderr",
     "output_type": "stream",
     "text": [
      " 12%|█▏        | 123/1000 [44:12<5:10:30, 21.24s/it]"
     ]
    },
    {
     "name": "stdout",
     "output_type": "stream",
     "text": [
      "eigenvalues shape torch.Size([5]) eigenvectors shape torch.Size([5, 400])\n",
      "123 /home/phdcs2/Hard_Disk/Datasets/Deep-Spectral-Segmentation/data/object-segmentation/ECSSD/features/dino_vits16/0124.pth\n",
      "0124\n",
      "Starting Training\n",
      "epoch: 00, loss: -0.29546\n",
      "epoch: 01, loss: -0.29189\n",
      "epoch: 02, loss: -0.29489\n",
      "epoch: 03, loss: -0.29793\n",
      "epoch: 04, loss: -0.30121\n",
      "epoch: 05, loss: -0.30366\n",
      "epoch: 06, loss: -0.30614\n",
      "epoch: 07, loss: -0.30755\n",
      "epoch: 08, loss: -0.30913\n",
      "epoch: 09, loss: -0.31187\n",
      "After Unsqueezing, feature size= torch.Size([400, 384])\n",
      "type(projected_feature) <class 'torch.Tensor'>\n",
      "projected feature shape= torch.Size([400, 128])\n"
     ]
    },
    {
     "name": "stderr",
     "output_type": "stream",
     "text": [
      " 12%|█▏        | 124/1000 [44:33<5:09:17, 21.18s/it]"
     ]
    },
    {
     "name": "stdout",
     "output_type": "stream",
     "text": [
      "eigenvalues shape torch.Size([5]) eigenvectors shape torch.Size([5, 400])\n",
      "124 /home/phdcs2/Hard_Disk/Datasets/Deep-Spectral-Segmentation/data/object-segmentation/ECSSD/features/dino_vits16/0125.pth\n",
      "0125\n",
      "Starting Training\n",
      "epoch: 00, loss: -0.28794\n",
      "epoch: 01, loss: -0.32374\n",
      "epoch: 02, loss: -0.32919\n",
      "epoch: 03, loss: -0.33175\n",
      "epoch: 04, loss: -0.33551\n",
      "epoch: 05, loss: -0.33832\n",
      "epoch: 06, loss: -0.34269\n",
      "epoch: 07, loss: -0.34461\n",
      "epoch: 08, loss: -0.34710\n",
      "epoch: 09, loss: -0.35142\n",
      "After Unsqueezing, feature size= torch.Size([400, 384])\n",
      "type(projected_feature) <class 'torch.Tensor'>\n",
      "projected feature shape= torch.Size([400, 128])\n"
     ]
    },
    {
     "name": "stderr",
     "output_type": "stream",
     "text": [
      " 12%|█▎        | 125/1000 [44:53<5:05:06, 20.92s/it]"
     ]
    },
    {
     "name": "stdout",
     "output_type": "stream",
     "text": [
      "eigenvalues shape torch.Size([5]) eigenvectors shape torch.Size([5, 400])\n",
      "125 /home/phdcs2/Hard_Disk/Datasets/Deep-Spectral-Segmentation/data/object-segmentation/ECSSD/features/dino_vits16/0126.pth\n",
      "0126\n",
      "Starting Training\n",
      "epoch: 00, loss: -0.73874\n",
      "epoch: 01, loss: -0.85347\n",
      "epoch: 02, loss: -0.85565\n",
      "epoch: 03, loss: -0.85588\n",
      "epoch: 04, loss: -0.85588\n",
      "epoch: 05, loss: -0.85582\n",
      "epoch: 06, loss: -0.85546\n",
      "epoch: 07, loss: -0.85534\n",
      "epoch: 08, loss: -0.85569\n",
      "epoch: 09, loss: -0.85524\n",
      "After Unsqueezing, feature size= torch.Size([400, 384])\n",
      "type(projected_feature) <class 'torch.Tensor'>\n",
      "projected feature shape= torch.Size([400, 128])\n"
     ]
    },
    {
     "name": "stderr",
     "output_type": "stream",
     "text": [
      " 13%|█▎        | 126/1000 [45:15<5:10:56, 21.35s/it]"
     ]
    },
    {
     "name": "stdout",
     "output_type": "stream",
     "text": [
      "eigenvalues shape torch.Size([5]) eigenvectors shape torch.Size([5, 400])\n",
      "126 /home/phdcs2/Hard_Disk/Datasets/Deep-Spectral-Segmentation/data/object-segmentation/ECSSD/features/dino_vits16/0127.pth\n",
      "0127\n",
      "Starting Training\n",
      "epoch: 00, loss: -0.26669\n",
      "epoch: 01, loss: -0.24620\n",
      "epoch: 02, loss: -0.25343\n",
      "epoch: 03, loss: -0.25960\n",
      "epoch: 04, loss: -0.26617\n",
      "epoch: 05, loss: -0.27270\n",
      "epoch: 06, loss: -0.27868\n",
      "epoch: 07, loss: -0.28313\n",
      "epoch: 08, loss: -0.28855\n",
      "epoch: 09, loss: -0.29376\n",
      "After Unsqueezing, feature size= torch.Size([400, 384])\n",
      "type(projected_feature) <class 'torch.Tensor'>\n",
      "projected feature shape= torch.Size([400, 128])\n"
     ]
    },
    {
     "name": "stderr",
     "output_type": "stream",
     "text": [
      " 13%|█▎        | 127/1000 [45:33<4:55:01, 20.28s/it]"
     ]
    },
    {
     "name": "stdout",
     "output_type": "stream",
     "text": [
      "eigenvalues shape torch.Size([5]) eigenvectors shape torch.Size([5, 400])\n",
      "127 /home/phdcs2/Hard_Disk/Datasets/Deep-Spectral-Segmentation/data/object-segmentation/ECSSD/features/dino_vits16/0128.pth\n",
      "0128\n",
      "Starting Training\n",
      "epoch: 00, loss: -0.72170\n",
      "epoch: 01, loss: -0.79568\n",
      "epoch: 02, loss: -0.79979\n",
      "epoch: 03, loss: -0.80008\n",
      "epoch: 04, loss: -0.80220\n",
      "epoch: 05, loss: -0.80396\n",
      "epoch: 06, loss: -0.80459\n",
      "epoch: 07, loss: -0.80531\n",
      "epoch: 08, loss: -0.80590\n",
      "epoch: 09, loss: -0.80840\n",
      "After Unsqueezing, feature size= torch.Size([400, 384])\n",
      "type(projected_feature) <class 'torch.Tensor'>\n",
      "projected feature shape= torch.Size([400, 128])\n"
     ]
    },
    {
     "name": "stderr",
     "output_type": "stream",
     "text": [
      " 13%|█▎        | 128/1000 [45:52<4:47:10, 19.76s/it]"
     ]
    },
    {
     "name": "stdout",
     "output_type": "stream",
     "text": [
      "eigenvalues shape torch.Size([5]) eigenvectors shape torch.Size([5, 400])\n",
      "128 /home/phdcs2/Hard_Disk/Datasets/Deep-Spectral-Segmentation/data/object-segmentation/ECSSD/features/dino_vits16/0129.pth\n",
      "0129\n"
     ]
    },
    {
     "name": "stderr",
     "output_type": "stream",
     "text": [
      "/home/phdcs2/Hard_Disk/Projects/T2I/deep-spectral-segmentation/venv/lib/python3.8/site-packages/sklearn/decomposition/_pca.py:545: RuntimeWarning: invalid value encountered in divide\n",
      "  explained_variance_ratio_ = explained_variance_ / total_var\n"
     ]
    },
    {
     "name": "stdout",
     "output_type": "stream",
     "text": [
      "Starting Training\n",
      "epoch: 00, loss: 0.00000\n",
      "epoch: 01, loss: 0.00000\n",
      "epoch: 02, loss: 0.00000\n",
      "epoch: 03, loss: 0.00000\n",
      "epoch: 04, loss: 0.00000\n",
      "epoch: 05, loss: 0.00000\n",
      "epoch: 06, loss: 0.00000\n",
      "epoch: 07, loss: 0.00000\n",
      "epoch: 08, loss: 0.00000\n",
      "epoch: 09, loss: 0.00000\n",
      "After Unsqueezing, feature size= torch.Size([425, 384])\n",
      "type(projected_feature) <class 'torch.Tensor'>\n",
      "projected feature shape= torch.Size([425, 128])\n"
     ]
    },
    {
     "name": "stderr",
     "output_type": "stream",
     "text": [
      " 13%|█▎        | 129/1000 [46:10<4:40:23, 19.32s/it]"
     ]
    },
    {
     "name": "stdout",
     "output_type": "stream",
     "text": [
      "eigenvalues shape torch.Size([5]) eigenvectors shape torch.Size([5, 425])\n",
      "129 /home/phdcs2/Hard_Disk/Datasets/Deep-Spectral-Segmentation/data/object-segmentation/ECSSD/features/dino_vits16/0130.pth\n",
      "0130\n",
      "Starting Training\n",
      "epoch: 00, loss: -0.33488\n",
      "epoch: 01, loss: -0.34447\n",
      "epoch: 02, loss: -0.34997\n",
      "epoch: 03, loss: -0.35804\n",
      "epoch: 04, loss: -0.36454\n",
      "epoch: 05, loss: -0.36960\n",
      "epoch: 06, loss: -0.37432\n",
      "epoch: 07, loss: -0.37832\n",
      "epoch: 08, loss: -0.38216\n",
      "epoch: 09, loss: -0.38508\n",
      "After Unsqueezing, feature size= torch.Size([425, 384])\n",
      "type(projected_feature) <class 'torch.Tensor'>\n",
      "projected feature shape= torch.Size([425, 128])\n"
     ]
    },
    {
     "name": "stderr",
     "output_type": "stream",
     "text": [
      " 13%|█▎        | 130/1000 [46:30<4:44:58, 19.65s/it]"
     ]
    },
    {
     "name": "stdout",
     "output_type": "stream",
     "text": [
      "eigenvalues shape torch.Size([5]) eigenvectors shape torch.Size([5, 425])\n",
      "130 /home/phdcs2/Hard_Disk/Datasets/Deep-Spectral-Segmentation/data/object-segmentation/ECSSD/features/dino_vits16/0131.pth\n",
      "0131\n",
      "Starting Training\n",
      "epoch: 00, loss: -0.17094\n",
      "epoch: 01, loss: -0.15273\n",
      "epoch: 02, loss: -0.15038\n",
      "epoch: 03, loss: -0.15054\n",
      "epoch: 04, loss: -0.15171\n",
      "epoch: 05, loss: -0.15278\n",
      "epoch: 06, loss: -0.15552\n",
      "epoch: 07, loss: -0.15684\n",
      "epoch: 08, loss: -0.15574\n",
      "epoch: 09, loss: -0.15485\n",
      "After Unsqueezing, feature size= torch.Size([450, 384])\n",
      "type(projected_feature) <class 'torch.Tensor'>\n",
      "projected feature shape= torch.Size([450, 128])\n"
     ]
    },
    {
     "name": "stderr",
     "output_type": "stream",
     "text": [
      " 13%|█▎        | 131/1000 [46:50<4:44:33, 19.65s/it]"
     ]
    },
    {
     "name": "stdout",
     "output_type": "stream",
     "text": [
      "eigenvalues shape torch.Size([5]) eigenvectors shape torch.Size([5, 450])\n",
      "131 /home/phdcs2/Hard_Disk/Datasets/Deep-Spectral-Segmentation/data/object-segmentation/ECSSD/features/dino_vits16/0132.pth\n",
      "0132\n",
      "Starting Training\n",
      "epoch: 00, loss: -0.30450\n",
      "epoch: 01, loss: -0.32136\n",
      "epoch: 02, loss: -0.32585\n",
      "epoch: 03, loss: -0.32993\n",
      "epoch: 04, loss: -0.33306\n",
      "epoch: 05, loss: -0.33755\n",
      "epoch: 06, loss: -0.34220\n",
      "epoch: 07, loss: -0.34549\n",
      "epoch: 08, loss: -0.34743\n",
      "epoch: 09, loss: -0.35206\n",
      "After Unsqueezing, feature size= torch.Size([400, 384])\n",
      "type(projected_feature) <class 'torch.Tensor'>\n",
      "projected feature shape= torch.Size([400, 128])\n"
     ]
    },
    {
     "name": "stderr",
     "output_type": "stream",
     "text": [
      " 13%|█▎        | 132/1000 [47:09<4:41:32, 19.46s/it]"
     ]
    },
    {
     "name": "stdout",
     "output_type": "stream",
     "text": [
      "eigenvalues shape torch.Size([5]) eigenvectors shape torch.Size([5, 400])\n",
      "132 /home/phdcs2/Hard_Disk/Datasets/Deep-Spectral-Segmentation/data/object-segmentation/ECSSD/features/dino_vits16/0133.pth\n",
      "0133\n",
      "Starting Training\n",
      "epoch: 00, loss: -0.33219\n",
      "epoch: 01, loss: -0.34598\n",
      "epoch: 02, loss: -0.35182\n",
      "epoch: 03, loss: -0.35873\n",
      "epoch: 04, loss: -0.36427\n",
      "epoch: 05, loss: -0.37141\n",
      "epoch: 06, loss: -0.37842\n",
      "epoch: 07, loss: -0.38364\n",
      "epoch: 08, loss: -0.38973\n",
      "epoch: 09, loss: -0.39661\n",
      "After Unsqueezing, feature size= torch.Size([525, 384])\n",
      "type(projected_feature) <class 'torch.Tensor'>\n",
      "projected feature shape= torch.Size([525, 128])\n"
     ]
    },
    {
     "name": "stderr",
     "output_type": "stream",
     "text": [
      " 13%|█▎        | 133/1000 [48:08<7:32:29, 31.31s/it]"
     ]
    },
    {
     "name": "stdout",
     "output_type": "stream",
     "text": [
      "eigenvalues shape torch.Size([5]) eigenvectors shape torch.Size([5, 525])\n",
      "133 /home/phdcs2/Hard_Disk/Datasets/Deep-Spectral-Segmentation/data/object-segmentation/ECSSD/features/dino_vits16/0134.pth\n",
      "0134\n",
      "Starting Training\n",
      "epoch: 00, loss: -0.23190\n",
      "epoch: 01, loss: -0.25095\n",
      "epoch: 02, loss: -0.25874\n",
      "epoch: 03, loss: -0.26256\n",
      "epoch: 04, loss: -0.26750\n",
      "epoch: 05, loss: -0.27237\n",
      "epoch: 06, loss: -0.27530\n",
      "epoch: 07, loss: -0.27693\n",
      "epoch: 08, loss: -0.28022\n",
      "epoch: 09, loss: -0.28406\n",
      "After Unsqueezing, feature size= torch.Size([400, 384])\n",
      "type(projected_feature) <class 'torch.Tensor'>\n",
      "projected feature shape= torch.Size([400, 128])\n"
     ]
    },
    {
     "name": "stderr",
     "output_type": "stream",
     "text": [
      " 13%|█▎        | 134/1000 [48:27<6:39:23, 27.67s/it]"
     ]
    },
    {
     "name": "stdout",
     "output_type": "stream",
     "text": [
      "eigenvalues shape torch.Size([5]) eigenvectors shape torch.Size([5, 400])\n",
      "134 /home/phdcs2/Hard_Disk/Datasets/Deep-Spectral-Segmentation/data/object-segmentation/ECSSD/features/dino_vits16/0135.pth\n",
      "0135\n",
      "Starting Training\n",
      "epoch: 00, loss: -0.35127\n",
      "epoch: 01, loss: -0.38916\n",
      "epoch: 02, loss: -0.41138\n",
      "epoch: 03, loss: -0.43038\n",
      "epoch: 04, loss: -0.44746\n",
      "epoch: 05, loss: -0.46455\n",
      "epoch: 06, loss: -0.48295\n",
      "epoch: 07, loss: -0.50194\n",
      "epoch: 08, loss: -0.51938\n",
      "epoch: 09, loss: -0.53416\n",
      "After Unsqueezing, feature size= torch.Size([450, 384])\n",
      "type(projected_feature) <class 'torch.Tensor'>\n",
      "projected feature shape= torch.Size([450, 128])\n"
     ]
    },
    {
     "name": "stderr",
     "output_type": "stream",
     "text": [
      " 14%|█▎        | 135/1000 [48:47<6:06:38, 25.43s/it]"
     ]
    },
    {
     "name": "stdout",
     "output_type": "stream",
     "text": [
      "eigenvalues shape torch.Size([5]) eigenvectors shape torch.Size([5, 450])\n",
      "135 /home/phdcs2/Hard_Disk/Datasets/Deep-Spectral-Segmentation/data/object-segmentation/ECSSD/features/dino_vits16/0136.pth\n",
      "0136\n",
      "Starting Training\n",
      "epoch: 00, loss: -0.76094\n",
      "epoch: 01, loss: -0.86816\n",
      "epoch: 02, loss: -0.87092\n",
      "epoch: 03, loss: -0.87168\n",
      "epoch: 04, loss: -0.87136\n",
      "epoch: 05, loss: -0.87231\n",
      "epoch: 06, loss: -0.87173\n",
      "epoch: 07, loss: -0.87129\n",
      "epoch: 08, loss: -0.87213\n",
      "epoch: 09, loss: -0.87066\n",
      "After Unsqueezing, feature size= torch.Size([450, 384])\n",
      "type(projected_feature) <class 'torch.Tensor'>\n",
      "projected feature shape= torch.Size([450, 128])\n"
     ]
    },
    {
     "name": "stderr",
     "output_type": "stream",
     "text": [
      " 14%|█▎        | 136/1000 [49:12<6:01:29, 25.10s/it]"
     ]
    },
    {
     "name": "stdout",
     "output_type": "stream",
     "text": [
      "eigenvalues shape torch.Size([5]) eigenvectors shape torch.Size([5, 450])\n",
      "136 /home/phdcs2/Hard_Disk/Datasets/Deep-Spectral-Segmentation/data/object-segmentation/ECSSD/features/dino_vits16/0137.pth\n",
      "0137\n",
      "Starting Training\n",
      "epoch: 00, loss: -0.33608\n",
      "epoch: 01, loss: -0.33792\n",
      "epoch: 02, loss: -0.34761\n",
      "epoch: 03, loss: -0.35188\n",
      "epoch: 04, loss: -0.35596\n",
      "epoch: 05, loss: -0.36027\n",
      "epoch: 06, loss: -0.36611\n",
      "epoch: 07, loss: -0.36968\n",
      "epoch: 08, loss: -0.37645\n",
      "epoch: 09, loss: -0.37943\n",
      "After Unsqueezing, feature size= torch.Size([475, 384])\n",
      "type(projected_feature) <class 'torch.Tensor'>\n",
      "projected feature shape= torch.Size([475, 128])\n"
     ]
    },
    {
     "name": "stderr",
     "output_type": "stream",
     "text": [
      " 14%|█▎        | 137/1000 [49:35<5:51:49, 24.46s/it]"
     ]
    },
    {
     "name": "stdout",
     "output_type": "stream",
     "text": [
      "eigenvalues shape torch.Size([5]) eigenvectors shape torch.Size([5, 475])\n",
      "137 /home/phdcs2/Hard_Disk/Datasets/Deep-Spectral-Segmentation/data/object-segmentation/ECSSD/features/dino_vits16/0138.pth\n",
      "0138\n",
      "Starting Training\n",
      "epoch: 00, loss: -0.30523\n",
      "epoch: 01, loss: -0.32153\n",
      "epoch: 02, loss: -0.32576\n",
      "epoch: 03, loss: -0.32916\n",
      "epoch: 04, loss: -0.33360\n",
      "epoch: 05, loss: -0.33855\n",
      "epoch: 06, loss: -0.34249\n",
      "epoch: 07, loss: -0.34675\n",
      "epoch: 08, loss: -0.35153\n",
      "epoch: 09, loss: -0.35484\n",
      "After Unsqueezing, feature size= torch.Size([450, 384])\n",
      "type(projected_feature) <class 'torch.Tensor'>\n",
      "projected feature shape= torch.Size([450, 128])\n"
     ]
    },
    {
     "name": "stderr",
     "output_type": "stream",
     "text": [
      " 14%|█▍        | 138/1000 [49:55<5:31:13, 23.06s/it]"
     ]
    },
    {
     "name": "stdout",
     "output_type": "stream",
     "text": [
      "eigenvalues shape torch.Size([5]) eigenvectors shape torch.Size([5, 450])\n",
      "138 /home/phdcs2/Hard_Disk/Datasets/Deep-Spectral-Segmentation/data/object-segmentation/ECSSD/features/dino_vits16/0139.pth\n",
      "0139\n",
      "Starting Training\n",
      "epoch: 00, loss: -0.32427\n",
      "epoch: 01, loss: -0.35241\n",
      "epoch: 02, loss: -0.36578\n",
      "epoch: 03, loss: -0.37416\n",
      "epoch: 04, loss: -0.37961\n",
      "epoch: 05, loss: -0.38527\n",
      "epoch: 06, loss: -0.38992\n",
      "epoch: 07, loss: -0.39442\n",
      "epoch: 08, loss: -0.39857\n",
      "epoch: 09, loss: -0.40275\n",
      "After Unsqueezing, feature size= torch.Size([450, 384])\n",
      "type(projected_feature) <class 'torch.Tensor'>\n",
      "projected feature shape= torch.Size([450, 128])\n"
     ]
    },
    {
     "name": "stderr",
     "output_type": "stream",
     "text": [
      " 14%|█▍        | 139/1000 [50:17<5:27:05, 22.79s/it]"
     ]
    },
    {
     "name": "stdout",
     "output_type": "stream",
     "text": [
      "eigenvalues shape torch.Size([5]) eigenvectors shape torch.Size([5, 450])\n",
      "139 /home/phdcs2/Hard_Disk/Datasets/Deep-Spectral-Segmentation/data/object-segmentation/ECSSD/features/dino_vits16/0140.pth\n",
      "0140\n",
      "Starting Training\n",
      "epoch: 00, loss: -0.29211\n",
      "epoch: 01, loss: -0.30875\n",
      "epoch: 02, loss: -0.31804\n",
      "epoch: 03, loss: -0.32433\n",
      "epoch: 04, loss: -0.33006\n",
      "epoch: 05, loss: -0.33615\n",
      "epoch: 06, loss: -0.34084\n",
      "epoch: 07, loss: -0.34719\n",
      "epoch: 08, loss: -0.35098\n",
      "epoch: 09, loss: -0.35433\n",
      "After Unsqueezing, feature size= torch.Size([450, 384])\n",
      "type(projected_feature) <class 'torch.Tensor'>\n",
      "projected feature shape= torch.Size([450, 128])\n"
     ]
    },
    {
     "name": "stderr",
     "output_type": "stream",
     "text": [
      " 14%|█▍        | 140/1000 [50:40<5:27:58, 22.88s/it]"
     ]
    },
    {
     "name": "stdout",
     "output_type": "stream",
     "text": [
      "eigenvalues shape torch.Size([5]) eigenvectors shape torch.Size([5, 450])\n",
      "140 /home/phdcs2/Hard_Disk/Datasets/Deep-Spectral-Segmentation/data/object-segmentation/ECSSD/features/dino_vits16/0141.pth\n",
      "0141\n"
     ]
    },
    {
     "name": "stderr",
     "output_type": "stream",
     "text": [
      "/home/phdcs2/Hard_Disk/Projects/T2I/deep-spectral-segmentation/venv/lib/python3.8/site-packages/sklearn/decomposition/_pca.py:545: RuntimeWarning: invalid value encountered in divide\n",
      "  explained_variance_ratio_ = explained_variance_ / total_var\n"
     ]
    },
    {
     "name": "stdout",
     "output_type": "stream",
     "text": [
      "Starting Training\n",
      "epoch: 00, loss: 0.00000\n",
      "epoch: 01, loss: 0.00000\n",
      "epoch: 02, loss: 0.00000\n",
      "epoch: 03, loss: 0.00000\n",
      "epoch: 04, loss: 0.00000\n",
      "epoch: 05, loss: 0.00000\n",
      "epoch: 06, loss: 0.00000\n",
      "epoch: 07, loss: 0.00000\n",
      "epoch: 08, loss: 0.00000\n",
      "epoch: 09, loss: 0.00000\n",
      "After Unsqueezing, feature size= torch.Size([350, 384])\n",
      "type(projected_feature) <class 'torch.Tensor'>\n",
      "projected feature shape= torch.Size([350, 128])\n"
     ]
    },
    {
     "name": "stderr",
     "output_type": "stream",
     "text": [
      " 14%|█▍        | 141/1000 [50:57<5:01:09, 21.04s/it]"
     ]
    },
    {
     "name": "stdout",
     "output_type": "stream",
     "text": [
      "eigenvalues shape torch.Size([5]) eigenvectors shape torch.Size([5, 350])\n",
      "141 /home/phdcs2/Hard_Disk/Datasets/Deep-Spectral-Segmentation/data/object-segmentation/ECSSD/features/dino_vits16/0142.pth\n",
      "0142\n",
      "Starting Training\n",
      "epoch: 00, loss: -0.79377\n",
      "epoch: 01, loss: -0.90283\n",
      "epoch: 02, loss: -0.90457\n",
      "epoch: 03, loss: -0.90550\n",
      "epoch: 04, loss: -0.90618\n",
      "epoch: 05, loss: -0.90725\n",
      "epoch: 06, loss: -0.90909\n",
      "epoch: 07, loss: -0.90991\n",
      "epoch: 08, loss: -0.91042\n",
      "epoch: 09, loss: -0.91104\n",
      "After Unsqueezing, feature size= torch.Size([450, 384])\n",
      "type(projected_feature) <class 'torch.Tensor'>\n",
      "projected feature shape= torch.Size([450, 128])\n"
     ]
    },
    {
     "name": "stderr",
     "output_type": "stream",
     "text": [
      " 14%|█▍        | 142/1000 [51:18<5:04:36, 21.30s/it]"
     ]
    },
    {
     "name": "stdout",
     "output_type": "stream",
     "text": [
      "eigenvalues shape torch.Size([5]) eigenvectors shape torch.Size([5, 450])\n",
      "142 /home/phdcs2/Hard_Disk/Datasets/Deep-Spectral-Segmentation/data/object-segmentation/ECSSD/features/dino_vits16/0143.pth\n",
      "0143\n",
      "Starting Training\n",
      "epoch: 00, loss: -0.30447\n",
      "epoch: 01, loss: -0.32046\n",
      "epoch: 02, loss: -0.32483\n",
      "epoch: 03, loss: -0.33087\n",
      "epoch: 04, loss: -0.33587\n",
      "epoch: 05, loss: -0.34341\n",
      "epoch: 06, loss: -0.34672\n",
      "epoch: 07, loss: -0.35248\n",
      "epoch: 08, loss: -0.35781\n",
      "epoch: 09, loss: -0.36083\n",
      "After Unsqueezing, feature size= torch.Size([450, 384])\n",
      "type(projected_feature) <class 'torch.Tensor'>\n",
      "projected feature shape= torch.Size([450, 128])\n"
     ]
    },
    {
     "name": "stderr",
     "output_type": "stream",
     "text": [
      " 14%|█▍        | 143/1000 [51:36<4:46:30, 20.06s/it]"
     ]
    },
    {
     "name": "stdout",
     "output_type": "stream",
     "text": [
      "eigenvalues shape torch.Size([5]) eigenvectors shape torch.Size([5, 450])\n",
      "143 /home/phdcs2/Hard_Disk/Datasets/Deep-Spectral-Segmentation/data/object-segmentation/ECSSD/features/dino_vits16/0144.pth\n",
      "0144\n"
     ]
    },
    {
     "name": "stderr",
     "output_type": "stream",
     "text": [
      "/home/phdcs2/Hard_Disk/Projects/T2I/deep-spectral-segmentation/venv/lib/python3.8/site-packages/sklearn/decomposition/_pca.py:545: RuntimeWarning: invalid value encountered in divide\n",
      "  explained_variance_ratio_ = explained_variance_ / total_var\n"
     ]
    },
    {
     "name": "stdout",
     "output_type": "stream",
     "text": [
      "Starting Training\n",
      "epoch: 00, loss: 0.00000\n",
      "epoch: 01, loss: 0.00000\n",
      "epoch: 02, loss: 0.00000\n",
      "epoch: 03, loss: 0.00000\n",
      "epoch: 04, loss: 0.00000\n",
      "epoch: 05, loss: 0.00000\n",
      "epoch: 06, loss: 0.00000\n",
      "epoch: 07, loss: 0.00000\n",
      "epoch: 08, loss: 0.00000\n",
      "epoch: 09, loss: 0.00000\n",
      "After Unsqueezing, feature size= torch.Size([425, 384])\n",
      "type(projected_feature) <class 'torch.Tensor'>\n",
      "projected feature shape= torch.Size([425, 128])\n"
     ]
    },
    {
     "name": "stderr",
     "output_type": "stream",
     "text": [
      " 14%|█▍        | 144/1000 [51:57<4:51:23, 20.43s/it]"
     ]
    },
    {
     "name": "stdout",
     "output_type": "stream",
     "text": [
      "eigenvalues shape torch.Size([5]) eigenvectors shape torch.Size([5, 425])\n",
      "144 /home/phdcs2/Hard_Disk/Datasets/Deep-Spectral-Segmentation/data/object-segmentation/ECSSD/features/dino_vits16/0145.pth\n",
      "0145\n",
      "Starting Training\n",
      "epoch: 00, loss: -0.20648\n",
      "epoch: 01, loss: -0.21505\n",
      "epoch: 02, loss: -0.21570\n",
      "epoch: 03, loss: -0.21889\n",
      "epoch: 04, loss: -0.22167\n",
      "epoch: 05, loss: -0.22367\n",
      "epoch: 06, loss: -0.22664\n",
      "epoch: 07, loss: -0.22880\n",
      "epoch: 08, loss: -0.23168\n",
      "epoch: 09, loss: -0.23434\n",
      "After Unsqueezing, feature size= torch.Size([450, 384])\n",
      "type(projected_feature) <class 'torch.Tensor'>\n",
      "projected feature shape= torch.Size([450, 128])\n"
     ]
    },
    {
     "name": "stderr",
     "output_type": "stream",
     "text": [
      " 14%|█▍        | 145/1000 [52:17<4:50:17, 20.37s/it]"
     ]
    },
    {
     "name": "stdout",
     "output_type": "stream",
     "text": [
      "eigenvalues shape torch.Size([5]) eigenvectors shape torch.Size([5, 450])\n",
      "145 /home/phdcs2/Hard_Disk/Datasets/Deep-Spectral-Segmentation/data/object-segmentation/ECSSD/features/dino_vits16/0146.pth\n",
      "0146\n",
      "Starting Training\n",
      "epoch: 00, loss: -0.02374\n",
      "epoch: 01, loss: -0.02888\n",
      "epoch: 02, loss: -0.02887\n",
      "epoch: 03, loss: -0.02896\n",
      "epoch: 04, loss: -0.02878\n",
      "epoch: 05, loss: -0.02895\n",
      "epoch: 06, loss: -0.02867\n",
      "epoch: 07, loss: -0.02849\n",
      "epoch: 08, loss: -0.02847\n",
      "epoch: 09, loss: -0.02830\n",
      "After Unsqueezing, feature size= torch.Size([400, 384])\n",
      "type(projected_feature) <class 'torch.Tensor'>\n",
      "projected feature shape= torch.Size([400, 128])\n"
     ]
    },
    {
     "name": "stderr",
     "output_type": "stream",
     "text": [
      " 15%|█▍        | 146/1000 [52:34<4:34:12, 19.27s/it]"
     ]
    },
    {
     "name": "stdout",
     "output_type": "stream",
     "text": [
      "eigenvalues shape torch.Size([5]) eigenvectors shape torch.Size([5, 400])\n",
      "146 /home/phdcs2/Hard_Disk/Datasets/Deep-Spectral-Segmentation/data/object-segmentation/ECSSD/features/dino_vits16/0147.pth\n",
      "0147\n",
      "Starting Training\n",
      "epoch: 00, loss: -0.77510\n",
      "epoch: 01, loss: -0.84423\n",
      "epoch: 02, loss: -0.84805\n",
      "epoch: 03, loss: -0.84768\n",
      "epoch: 04, loss: -0.84826\n",
      "epoch: 05, loss: -0.84894\n",
      "epoch: 06, loss: -0.84865\n",
      "epoch: 07, loss: -0.84820\n",
      "epoch: 08, loss: -0.84867\n",
      "epoch: 09, loss: -0.84861\n",
      "After Unsqueezing, feature size= torch.Size([550, 384])\n",
      "type(projected_feature) <class 'torch.Tensor'>\n",
      "projected feature shape= torch.Size([550, 128])\n"
     ]
    },
    {
     "name": "stderr",
     "output_type": "stream",
     "text": [
      " 15%|█▍        | 147/1000 [53:32<7:18:35, 30.85s/it]"
     ]
    },
    {
     "name": "stdout",
     "output_type": "stream",
     "text": [
      "eigenvalues shape torch.Size([5]) eigenvectors shape torch.Size([5, 550])\n",
      "147 /home/phdcs2/Hard_Disk/Datasets/Deep-Spectral-Segmentation/data/object-segmentation/ECSSD/features/dino_vits16/0148.pth\n",
      "0148\n",
      "Starting Training\n",
      "epoch: 00, loss: -0.25857\n",
      "epoch: 01, loss: -0.29617\n",
      "epoch: 02, loss: -0.30052\n",
      "epoch: 03, loss: -0.30240\n",
      "epoch: 04, loss: -0.30253\n",
      "epoch: 05, loss: -0.30296\n",
      "epoch: 06, loss: -0.30568\n",
      "epoch: 07, loss: -0.30650\n",
      "epoch: 08, loss: -0.30712\n",
      "epoch: 09, loss: -0.31043\n",
      "After Unsqueezing, feature size= torch.Size([400, 384])\n",
      "type(projected_feature) <class 'torch.Tensor'>\n",
      "projected feature shape= torch.Size([400, 128])\n"
     ]
    },
    {
     "name": "stderr",
     "output_type": "stream",
     "text": [
      " 15%|█▍        | 148/1000 [53:52<6:31:32, 27.57s/it]"
     ]
    },
    {
     "name": "stdout",
     "output_type": "stream",
     "text": [
      "eigenvalues shape torch.Size([5]) eigenvectors shape torch.Size([5, 400])\n",
      "148 /home/phdcs2/Hard_Disk/Datasets/Deep-Spectral-Segmentation/data/object-segmentation/ECSSD/features/dino_vits16/0149.pth\n",
      "0149\n"
     ]
    },
    {
     "name": "stderr",
     "output_type": "stream",
     "text": [
      "/home/phdcs2/Hard_Disk/Projects/T2I/deep-spectral-segmentation/venv/lib/python3.8/site-packages/sklearn/decomposition/_pca.py:545: RuntimeWarning: invalid value encountered in divide\n",
      "  explained_variance_ratio_ = explained_variance_ / total_var\n"
     ]
    },
    {
     "name": "stdout",
     "output_type": "stream",
     "text": [
      "Starting Training\n",
      "epoch: 00, loss: 0.00000\n",
      "epoch: 01, loss: 0.00000\n",
      "epoch: 02, loss: 0.00000\n",
      "epoch: 03, loss: 0.00000\n",
      "epoch: 04, loss: 0.00000\n",
      "epoch: 05, loss: 0.00000\n",
      "epoch: 06, loss: 0.00000\n",
      "epoch: 07, loss: 0.00000\n",
      "epoch: 08, loss: 0.00000\n",
      "epoch: 09, loss: 0.00000\n",
      "After Unsqueezing, feature size= torch.Size([400, 384])\n",
      "type(projected_feature) <class 'torch.Tensor'>\n",
      "projected feature shape= torch.Size([400, 128])\n"
     ]
    },
    {
     "name": "stderr",
     "output_type": "stream",
     "text": [
      " 15%|█▍        | 149/1000 [54:10<5:51:45, 24.80s/it]"
     ]
    },
    {
     "name": "stdout",
     "output_type": "stream",
     "text": [
      "eigenvalues shape torch.Size([5]) eigenvectors shape torch.Size([5, 400])\n",
      "149 /home/phdcs2/Hard_Disk/Datasets/Deep-Spectral-Segmentation/data/object-segmentation/ECSSD/features/dino_vits16/0150.pth\n",
      "0150\n"
     ]
    },
    {
     "name": "stderr",
     "output_type": "stream",
     "text": [
      "/home/phdcs2/Hard_Disk/Projects/T2I/deep-spectral-segmentation/venv/lib/python3.8/site-packages/sklearn/decomposition/_pca.py:545: RuntimeWarning: invalid value encountered in divide\n",
      "  explained_variance_ratio_ = explained_variance_ / total_var\n"
     ]
    },
    {
     "name": "stdout",
     "output_type": "stream",
     "text": [
      "Starting Training\n",
      "epoch: 00, loss: 0.00000\n",
      "epoch: 01, loss: 0.00000\n",
      "epoch: 02, loss: 0.00000\n",
      "epoch: 03, loss: 0.00000\n",
      "epoch: 04, loss: 0.00000\n",
      "epoch: 05, loss: 0.00000\n",
      "epoch: 06, loss: 0.00000\n",
      "epoch: 07, loss: 0.00000\n",
      "epoch: 08, loss: 0.00000\n",
      "epoch: 09, loss: 0.00000\n",
      "After Unsqueezing, feature size= torch.Size([450, 384])\n",
      "type(projected_feature) <class 'torch.Tensor'>\n",
      "projected feature shape= torch.Size([450, 128])\n"
     ]
    },
    {
     "name": "stderr",
     "output_type": "stream",
     "text": [
      " 15%|█▌        | 150/1000 [54:32<5:40:45, 24.05s/it]"
     ]
    },
    {
     "name": "stdout",
     "output_type": "stream",
     "text": [
      "eigenvalues shape torch.Size([5]) eigenvectors shape torch.Size([5, 450])\n",
      "150 /home/phdcs2/Hard_Disk/Datasets/Deep-Spectral-Segmentation/data/object-segmentation/ECSSD/features/dino_vits16/0151.pth\n",
      "0151\n"
     ]
    },
    {
     "name": "stderr",
     "output_type": "stream",
     "text": [
      "/home/phdcs2/Hard_Disk/Projects/T2I/deep-spectral-segmentation/venv/lib/python3.8/site-packages/sklearn/decomposition/_pca.py:545: RuntimeWarning: invalid value encountered in divide\n",
      "  explained_variance_ratio_ = explained_variance_ / total_var\n"
     ]
    },
    {
     "name": "stdout",
     "output_type": "stream",
     "text": [
      "Starting Training\n",
      "epoch: 00, loss: 0.00000\n",
      "epoch: 01, loss: 0.00000\n",
      "epoch: 02, loss: 0.00000\n",
      "epoch: 03, loss: 0.00000\n",
      "epoch: 04, loss: 0.00000\n",
      "epoch: 05, loss: 0.00000\n",
      "epoch: 06, loss: 0.00000\n",
      "epoch: 07, loss: 0.00000\n",
      "epoch: 08, loss: 0.00000\n",
      "epoch: 09, loss: 0.00000\n",
      "After Unsqueezing, feature size= torch.Size([525, 384])\n",
      "type(projected_feature) <class 'torch.Tensor'>\n",
      "projected feature shape= torch.Size([525, 128])\n"
     ]
    },
    {
     "name": "stderr",
     "output_type": "stream",
     "text": [
      " 15%|█▌        | 151/1000 [55:29<7:58:58, 33.85s/it]"
     ]
    },
    {
     "name": "stdout",
     "output_type": "stream",
     "text": [
      "eigenvalues shape torch.Size([5]) eigenvectors shape torch.Size([5, 525])\n",
      "151 /home/phdcs2/Hard_Disk/Datasets/Deep-Spectral-Segmentation/data/object-segmentation/ECSSD/features/dino_vits16/0152.pth\n",
      "0152\n",
      "Starting Training\n",
      "epoch: 00, loss: -0.74364\n",
      "epoch: 01, loss: -0.84216\n",
      "epoch: 02, loss: -0.84639\n",
      "epoch: 03, loss: -0.84894\n",
      "epoch: 04, loss: -0.85054\n",
      "epoch: 05, loss: -0.85275\n",
      "epoch: 06, loss: -0.85433\n",
      "epoch: 07, loss: -0.85411\n",
      "epoch: 08, loss: -0.85553\n",
      "epoch: 09, loss: -0.85604\n",
      "After Unsqueezing, feature size= torch.Size([450, 384])\n",
      "type(projected_feature) <class 'torch.Tensor'>\n",
      "projected feature shape= torch.Size([450, 128])\n"
     ]
    },
    {
     "name": "stderr",
     "output_type": "stream",
     "text": [
      " 15%|█▌        | 152/1000 [55:50<7:02:31, 29.90s/it]"
     ]
    },
    {
     "name": "stdout",
     "output_type": "stream",
     "text": [
      "eigenvalues shape torch.Size([5]) eigenvectors shape torch.Size([5, 450])\n",
      "152 /home/phdcs2/Hard_Disk/Datasets/Deep-Spectral-Segmentation/data/object-segmentation/ECSSD/features/dino_vits16/0153.pth\n",
      "0153\n",
      "Starting Training\n",
      "epoch: 00, loss: -0.34588\n",
      "epoch: 01, loss: -0.36306\n",
      "epoch: 02, loss: -0.37050\n",
      "epoch: 03, loss: -0.37868\n",
      "epoch: 04, loss: -0.38425\n",
      "epoch: 05, loss: -0.39173\n",
      "epoch: 06, loss: -0.39823\n",
      "epoch: 07, loss: -0.40312\n",
      "epoch: 08, loss: -0.40752\n",
      "epoch: 09, loss: -0.41230\n",
      "After Unsqueezing, feature size= torch.Size([450, 384])\n",
      "type(projected_feature) <class 'torch.Tensor'>\n",
      "projected feature shape= torch.Size([450, 128])\n"
     ]
    },
    {
     "name": "stderr",
     "output_type": "stream",
     "text": [
      " 15%|█▌        | 153/1000 [56:10<6:20:25, 26.95s/it]"
     ]
    },
    {
     "name": "stdout",
     "output_type": "stream",
     "text": [
      "eigenvalues shape torch.Size([5]) eigenvectors shape torch.Size([5, 450])\n",
      "153 /home/phdcs2/Hard_Disk/Datasets/Deep-Spectral-Segmentation/data/object-segmentation/ECSSD/features/dino_vits16/0154.pth\n",
      "0154\n",
      "Starting Training\n",
      "epoch: 00, loss: -0.31506\n",
      "epoch: 01, loss: -0.33143\n",
      "epoch: 02, loss: -0.33778\n",
      "epoch: 03, loss: -0.34316\n",
      "epoch: 04, loss: -0.34795\n",
      "epoch: 05, loss: -0.35102\n",
      "epoch: 06, loss: -0.35511\n",
      "epoch: 07, loss: -0.35864\n",
      "epoch: 08, loss: -0.36274\n",
      "epoch: 09, loss: -0.36603\n",
      "After Unsqueezing, feature size= torch.Size([450, 384])\n",
      "type(projected_feature) <class 'torch.Tensor'>\n",
      "projected feature shape= torch.Size([450, 128])\n"
     ]
    },
    {
     "name": "stderr",
     "output_type": "stream",
     "text": [
      " 15%|█▌        | 154/1000 [56:30<5:50:45, 24.88s/it]"
     ]
    },
    {
     "name": "stdout",
     "output_type": "stream",
     "text": [
      "eigenvalues shape torch.Size([5]) eigenvectors shape torch.Size([5, 450])\n",
      "154 /home/phdcs2/Hard_Disk/Datasets/Deep-Spectral-Segmentation/data/object-segmentation/ECSSD/features/dino_vits16/0155.pth\n",
      "0155\n",
      "Starting Training\n",
      "epoch: 00, loss: -0.32162\n",
      "epoch: 01, loss: -0.33016\n",
      "epoch: 02, loss: -0.33725\n",
      "epoch: 03, loss: -0.34158\n",
      "epoch: 04, loss: -0.34532\n",
      "epoch: 05, loss: -0.35005\n",
      "epoch: 06, loss: -0.35287\n",
      "epoch: 07, loss: -0.35687\n",
      "epoch: 08, loss: -0.36049\n",
      "epoch: 09, loss: -0.36392\n",
      "After Unsqueezing, feature size= torch.Size([475, 384])\n",
      "type(projected_feature) <class 'torch.Tensor'>\n",
      "projected feature shape= torch.Size([475, 128])\n"
     ]
    },
    {
     "name": "stderr",
     "output_type": "stream",
     "text": [
      " 16%|█▌        | 155/1000 [56:50<5:30:37, 23.48s/it]"
     ]
    },
    {
     "name": "stdout",
     "output_type": "stream",
     "text": [
      "eigenvalues shape torch.Size([5]) eigenvectors shape torch.Size([5, 475])\n",
      "155 /home/phdcs2/Hard_Disk/Datasets/Deep-Spectral-Segmentation/data/object-segmentation/ECSSD/features/dino_vits16/0156.pth\n",
      "0156\n"
     ]
    },
    {
     "name": "stderr",
     "output_type": "stream",
     "text": [
      "/home/phdcs2/Hard_Disk/Projects/T2I/deep-spectral-segmentation/venv/lib/python3.8/site-packages/sklearn/decomposition/_pca.py:545: RuntimeWarning: invalid value encountered in divide\n",
      "  explained_variance_ratio_ = explained_variance_ / total_var\n"
     ]
    },
    {
     "name": "stdout",
     "output_type": "stream",
     "text": [
      "Starting Training\n",
      "epoch: 00, loss: 0.00000\n",
      "epoch: 01, loss: 0.00000\n",
      "epoch: 02, loss: 0.00000\n",
      "epoch: 03, loss: 0.00000\n",
      "epoch: 04, loss: 0.00000\n",
      "epoch: 05, loss: 0.00000\n",
      "epoch: 06, loss: 0.00000\n",
      "epoch: 07, loss: 0.00000\n",
      "epoch: 08, loss: 0.00000\n",
      "epoch: 09, loss: 0.00000\n",
      "After Unsqueezing, feature size= torch.Size([400, 384])\n",
      "type(projected_feature) <class 'torch.Tensor'>\n",
      "projected feature shape= torch.Size([400, 128])\n"
     ]
    },
    {
     "name": "stderr",
     "output_type": "stream",
     "text": [
      " 16%|█▌        | 156/1000 [57:07<5:05:02, 21.69s/it]"
     ]
    },
    {
     "name": "stdout",
     "output_type": "stream",
     "text": [
      "eigenvalues shape torch.Size([5]) eigenvectors shape torch.Size([5, 400])\n",
      "156 /home/phdcs2/Hard_Disk/Datasets/Deep-Spectral-Segmentation/data/object-segmentation/ECSSD/features/dino_vits16/0157.pth\n",
      "0157\n",
      "Starting Training\n",
      "epoch: 00, loss: -0.34096\n",
      "epoch: 01, loss: -0.35969\n",
      "epoch: 02, loss: -0.36465\n",
      "epoch: 03, loss: -0.37167\n",
      "epoch: 04, loss: -0.37659\n",
      "epoch: 05, loss: -0.38171\n",
      "epoch: 06, loss: -0.38394\n",
      "epoch: 07, loss: -0.38833\n",
      "epoch: 08, loss: -0.39401\n",
      "epoch: 09, loss: -0.39893\n",
      "After Unsqueezing, feature size= torch.Size([375, 384])\n",
      "type(projected_feature) <class 'torch.Tensor'>\n",
      "projected feature shape= torch.Size([375, 128])\n"
     ]
    },
    {
     "name": "stderr",
     "output_type": "stream",
     "text": [
      " 16%|█▌        | 157/1000 [57:23<4:39:40, 19.91s/it]"
     ]
    },
    {
     "name": "stdout",
     "output_type": "stream",
     "text": [
      "eigenvalues shape torch.Size([5]) eigenvectors shape torch.Size([5, 375])\n",
      "157 /home/phdcs2/Hard_Disk/Datasets/Deep-Spectral-Segmentation/data/object-segmentation/ECSSD/features/dino_vits16/0158.pth\n",
      "0158\n"
     ]
    },
    {
     "name": "stderr",
     "output_type": "stream",
     "text": [
      "/home/phdcs2/Hard_Disk/Projects/T2I/deep-spectral-segmentation/venv/lib/python3.8/site-packages/sklearn/decomposition/_pca.py:545: RuntimeWarning: invalid value encountered in divide\n",
      "  explained_variance_ratio_ = explained_variance_ / total_var\n"
     ]
    },
    {
     "name": "stdout",
     "output_type": "stream",
     "text": [
      "Starting Training\n",
      "epoch: 00, loss: 0.00000\n",
      "epoch: 01, loss: 0.00000\n",
      "epoch: 02, loss: 0.00000\n",
      "epoch: 03, loss: 0.00000\n",
      "epoch: 04, loss: 0.00000\n",
      "epoch: 05, loss: 0.00000\n",
      "epoch: 06, loss: 0.00000\n",
      "epoch: 07, loss: 0.00000\n",
      "epoch: 08, loss: 0.00000\n",
      "epoch: 09, loss: 0.00000\n",
      "After Unsqueezing, feature size= torch.Size([300, 384])\n",
      "type(projected_feature) <class 'torch.Tensor'>\n",
      "projected feature shape= torch.Size([300, 128])\n"
     ]
    },
    {
     "name": "stderr",
     "output_type": "stream",
     "text": [
      " 16%|█▌        | 158/1000 [57:37<4:14:36, 18.14s/it]"
     ]
    },
    {
     "name": "stdout",
     "output_type": "stream",
     "text": [
      "eigenvalues shape torch.Size([5]) eigenvectors shape torch.Size([5, 300])\n",
      "158 /home/phdcs2/Hard_Disk/Datasets/Deep-Spectral-Segmentation/data/object-segmentation/ECSSD/features/dino_vits16/0159.pth\n",
      "0159\n",
      "Starting Training\n",
      "epoch: 00, loss: -0.31010\n",
      "epoch: 01, loss: -0.32368\n",
      "epoch: 02, loss: -0.32757\n",
      "epoch: 03, loss: -0.33158\n",
      "epoch: 04, loss: -0.33746\n",
      "epoch: 05, loss: -0.34048\n",
      "epoch: 06, loss: -0.34455\n",
      "epoch: 07, loss: -0.34690\n",
      "epoch: 08, loss: -0.35288\n",
      "epoch: 09, loss: -0.35599\n",
      "After Unsqueezing, feature size= torch.Size([425, 384])\n",
      "type(projected_feature) <class 'torch.Tensor'>\n",
      "projected feature shape= torch.Size([425, 128])\n"
     ]
    },
    {
     "name": "stderr",
     "output_type": "stream",
     "text": [
      " 16%|█▌        | 159/1000 [57:56<4:18:59, 18.48s/it]"
     ]
    },
    {
     "name": "stdout",
     "output_type": "stream",
     "text": [
      "eigenvalues shape torch.Size([5]) eigenvectors shape torch.Size([5, 425])\n",
      "159 /home/phdcs2/Hard_Disk/Datasets/Deep-Spectral-Segmentation/data/object-segmentation/ECSSD/features/dino_vits16/0160.pth\n",
      "0160\n",
      "Starting Training\n",
      "epoch: 00, loss: -0.18507\n",
      "epoch: 01, loss: -0.17019\n",
      "epoch: 02, loss: -0.07841\n",
      "epoch: 03, loss: -0.03054\n",
      "epoch: 04, loss: -0.02978\n",
      "epoch: 05, loss: -0.02990\n",
      "epoch: 06, loss: -0.03368\n",
      "epoch: 07, loss: -0.03394\n",
      "epoch: 08, loss: -0.03403\n",
      "epoch: 09, loss: -0.03406\n",
      "After Unsqueezing, feature size= torch.Size([400, 384])\n",
      "type(projected_feature) <class 'torch.Tensor'>\n",
      "projected feature shape= torch.Size([400, 128])\n"
     ]
    },
    {
     "name": "stderr",
     "output_type": "stream",
     "text": [
      " 16%|█▌        | 160/1000 [58:14<4:12:54, 18.06s/it]"
     ]
    },
    {
     "name": "stdout",
     "output_type": "stream",
     "text": [
      "eigenvalues shape torch.Size([5]) eigenvectors shape torch.Size([5, 400])\n",
      "160 /home/phdcs2/Hard_Disk/Datasets/Deep-Spectral-Segmentation/data/object-segmentation/ECSSD/features/dino_vits16/0161.pth\n",
      "0161\n"
     ]
    },
    {
     "name": "stderr",
     "output_type": "stream",
     "text": [
      "/home/phdcs2/Hard_Disk/Projects/T2I/deep-spectral-segmentation/venv/lib/python3.8/site-packages/sklearn/decomposition/_pca.py:545: RuntimeWarning: invalid value encountered in divide\n",
      "  explained_variance_ratio_ = explained_variance_ / total_var\n"
     ]
    },
    {
     "name": "stdout",
     "output_type": "stream",
     "text": [
      "Starting Training\n",
      "epoch: 00, loss: 0.00000\n",
      "epoch: 01, loss: 0.00000\n",
      "epoch: 02, loss: 0.00000\n",
      "epoch: 03, loss: 0.00000\n",
      "epoch: 04, loss: 0.00000\n",
      "epoch: 05, loss: 0.00000\n",
      "epoch: 06, loss: 0.00000\n",
      "epoch: 07, loss: 0.00000\n",
      "epoch: 08, loss: 0.00000\n",
      "epoch: 09, loss: 0.00000\n",
      "After Unsqueezing, feature size= torch.Size([450, 384])\n",
      "type(projected_feature) <class 'torch.Tensor'>\n",
      "projected feature shape= torch.Size([450, 128])\n"
     ]
    },
    {
     "name": "stderr",
     "output_type": "stream",
     "text": [
      " 16%|█▌        | 161/1000 [58:34<4:22:41, 18.79s/it]"
     ]
    },
    {
     "name": "stdout",
     "output_type": "stream",
     "text": [
      "eigenvalues shape torch.Size([5]) eigenvectors shape torch.Size([5, 450])\n",
      "161 /home/phdcs2/Hard_Disk/Datasets/Deep-Spectral-Segmentation/data/object-segmentation/ECSSD/features/dino_vits16/0162.pth\n",
      "0162\n",
      "Starting Training\n",
      "epoch: 00, loss: -0.33889\n",
      "epoch: 01, loss: -0.33858\n",
      "epoch: 02, loss: -0.33983\n",
      "epoch: 03, loss: -0.34485\n",
      "epoch: 04, loss: -0.34681\n",
      "epoch: 05, loss: -0.35208\n",
      "epoch: 06, loss: -0.35746\n",
      "epoch: 07, loss: -0.36113\n",
      "epoch: 08, loss: -0.36646\n",
      "epoch: 09, loss: -0.37047\n",
      "After Unsqueezing, feature size= torch.Size([450, 384])\n",
      "type(projected_feature) <class 'torch.Tensor'>\n",
      "projected feature shape= torch.Size([450, 128])\n"
     ]
    },
    {
     "name": "stderr",
     "output_type": "stream",
     "text": [
      " 16%|█▌        | 162/1000 [58:55<4:29:38, 19.31s/it]"
     ]
    },
    {
     "name": "stdout",
     "output_type": "stream",
     "text": [
      "eigenvalues shape torch.Size([5]) eigenvectors shape torch.Size([5, 450])\n",
      "162 /home/phdcs2/Hard_Disk/Datasets/Deep-Spectral-Segmentation/data/object-segmentation/ECSSD/features/dino_vits16/0163.pth\n",
      "0163\n"
     ]
    },
    {
     "name": "stderr",
     "output_type": "stream",
     "text": [
      "/home/phdcs2/Hard_Disk/Projects/T2I/deep-spectral-segmentation/venv/lib/python3.8/site-packages/sklearn/decomposition/_pca.py:545: RuntimeWarning: invalid value encountered in divide\n",
      "  explained_variance_ratio_ = explained_variance_ / total_var\n"
     ]
    },
    {
     "name": "stdout",
     "output_type": "stream",
     "text": [
      "Starting Training\n",
      "epoch: 00, loss: 0.00000\n",
      "epoch: 01, loss: 0.00000\n",
      "epoch: 02, loss: 0.00000\n",
      "epoch: 03, loss: 0.00000\n",
      "epoch: 04, loss: 0.00000\n",
      "epoch: 05, loss: 0.00000\n",
      "epoch: 06, loss: 0.00000\n",
      "epoch: 07, loss: 0.00000\n",
      "epoch: 08, loss: 0.00000\n",
      "epoch: 09, loss: 0.00000\n",
      "After Unsqueezing, feature size= torch.Size([400, 384])\n",
      "type(projected_feature) <class 'torch.Tensor'>\n",
      "projected feature shape= torch.Size([400, 128])\n"
     ]
    },
    {
     "name": "stderr",
     "output_type": "stream",
     "text": [
      " 16%|█▋        | 163/1000 [59:12<4:20:57, 18.71s/it]"
     ]
    },
    {
     "name": "stdout",
     "output_type": "stream",
     "text": [
      "eigenvalues shape torch.Size([5]) eigenvectors shape torch.Size([5, 400])\n",
      "163 /home/phdcs2/Hard_Disk/Datasets/Deep-Spectral-Segmentation/data/object-segmentation/ECSSD/features/dino_vits16/0164.pth\n",
      "0164\n",
      "Starting Training\n",
      "epoch: 00, loss: -0.33057\n",
      "epoch: 01, loss: -0.34801\n",
      "epoch: 02, loss: -0.35669\n",
      "epoch: 03, loss: -0.36430\n",
      "epoch: 04, loss: -0.37114\n",
      "epoch: 05, loss: -0.37811\n",
      "epoch: 06, loss: -0.38477\n",
      "epoch: 07, loss: -0.39116\n",
      "epoch: 08, loss: -0.39541\n",
      "epoch: 09, loss: -0.40275\n",
      "After Unsqueezing, feature size= torch.Size([550, 384])\n",
      "type(projected_feature) <class 'torch.Tensor'>\n",
      "projected feature shape= torch.Size([550, 128])\n"
     ]
    },
    {
     "name": "stderr",
     "output_type": "stream",
     "text": [
      " 16%|█▋        | 164/1000 [1:00:13<7:18:23, 31.46s/it]"
     ]
    },
    {
     "name": "stdout",
     "output_type": "stream",
     "text": [
      "eigenvalues shape torch.Size([5]) eigenvectors shape torch.Size([5, 550])\n",
      "164 /home/phdcs2/Hard_Disk/Datasets/Deep-Spectral-Segmentation/data/object-segmentation/ECSSD/features/dino_vits16/0165.pth\n",
      "0165\n",
      "Starting Training\n",
      "epoch: 00, loss: -0.76649\n",
      "epoch: 01, loss: -0.88516\n",
      "epoch: 02, loss: -0.88464\n",
      "epoch: 03, loss: -0.88659\n",
      "epoch: 04, loss: -0.88729\n",
      "epoch: 05, loss: -0.88757\n",
      "epoch: 06, loss: -0.88925\n",
      "epoch: 07, loss: -0.88909\n",
      "epoch: 08, loss: -0.88981\n",
      "epoch: 09, loss: -0.89019\n",
      "After Unsqueezing, feature size= torch.Size([450, 384])\n",
      "type(projected_feature) <class 'torch.Tensor'>\n",
      "projected feature shape= torch.Size([450, 128])\n"
     ]
    },
    {
     "name": "stderr",
     "output_type": "stream",
     "text": [
      " 16%|█▋        | 165/1000 [1:00:32<6:27:02, 27.81s/it]"
     ]
    },
    {
     "name": "stdout",
     "output_type": "stream",
     "text": [
      "eigenvalues shape torch.Size([5]) eigenvectors shape torch.Size([5, 450])\n",
      "165 /home/phdcs2/Hard_Disk/Datasets/Deep-Spectral-Segmentation/data/object-segmentation/ECSSD/features/dino_vits16/0166.pth\n",
      "0166\n",
      "Starting Training\n",
      "epoch: 00, loss: -0.37670\n",
      "epoch: 01, loss: -0.36630\n",
      "epoch: 02, loss: -0.37972\n",
      "epoch: 03, loss: -0.38828\n",
      "epoch: 04, loss: -0.39298\n",
      "epoch: 05, loss: -0.39823\n",
      "epoch: 06, loss: -0.40264\n",
      "epoch: 07, loss: -0.40845\n",
      "epoch: 08, loss: -0.41390\n",
      "epoch: 09, loss: -0.41627\n",
      "After Unsqueezing, feature size= torch.Size([400, 384])\n",
      "type(projected_feature) <class 'torch.Tensor'>\n",
      "projected feature shape= torch.Size([400, 128])\n"
     ]
    },
    {
     "name": "stderr",
     "output_type": "stream",
     "text": [
      " 17%|█▋        | 166/1000 [1:00:50<5:44:01, 24.75s/it]"
     ]
    },
    {
     "name": "stdout",
     "output_type": "stream",
     "text": [
      "eigenvalues shape torch.Size([5]) eigenvectors shape torch.Size([5, 400])\n",
      "166 /home/phdcs2/Hard_Disk/Datasets/Deep-Spectral-Segmentation/data/object-segmentation/ECSSD/features/dino_vits16/0167.pth\n",
      "0167\n",
      "Starting Training\n",
      "epoch: 00, loss: -0.29957\n",
      "epoch: 01, loss: -0.31539\n",
      "epoch: 02, loss: -0.32074\n",
      "epoch: 03, loss: -0.32639\n",
      "epoch: 04, loss: -0.33120\n",
      "epoch: 05, loss: -0.33430\n",
      "epoch: 06, loss: -0.33841\n",
      "epoch: 07, loss: -0.34247\n",
      "epoch: 08, loss: -0.34501\n",
      "epoch: 09, loss: -0.34772\n",
      "After Unsqueezing, feature size= torch.Size([450, 384])\n",
      "type(projected_feature) <class 'torch.Tensor'>\n",
      "projected feature shape= torch.Size([450, 128])\n"
     ]
    },
    {
     "name": "stderr",
     "output_type": "stream",
     "text": [
      " 17%|█▋        | 167/1000 [1:01:09<5:20:48, 23.11s/it]"
     ]
    },
    {
     "name": "stdout",
     "output_type": "stream",
     "text": [
      "eigenvalues shape torch.Size([5]) eigenvectors shape torch.Size([5, 450])\n",
      "167 /home/phdcs2/Hard_Disk/Datasets/Deep-Spectral-Segmentation/data/object-segmentation/ECSSD/features/dino_vits16/0168.pth\n",
      "0168\n",
      "Starting Training\n",
      "epoch: 00, loss: -0.72032\n",
      "epoch: 01, loss: -0.85013\n",
      "epoch: 02, loss: -0.85169\n",
      "epoch: 03, loss: -0.85270\n",
      "epoch: 04, loss: -0.85433\n",
      "epoch: 05, loss: -0.85540\n",
      "epoch: 06, loss: -0.85565\n",
      "epoch: 07, loss: -0.85610\n",
      "epoch: 08, loss: -0.85722\n",
      "epoch: 09, loss: -0.85793\n",
      "After Unsqueezing, feature size= torch.Size([400, 384])\n",
      "type(projected_feature) <class 'torch.Tensor'>\n",
      "projected feature shape= torch.Size([400, 128])\n"
     ]
    },
    {
     "name": "stderr",
     "output_type": "stream",
     "text": [
      " 17%|█▋        | 168/1000 [1:01:25<4:51:11, 21.00s/it]"
     ]
    },
    {
     "name": "stdout",
     "output_type": "stream",
     "text": [
      "eigenvalues shape torch.Size([5]) eigenvectors shape torch.Size([5, 400])\n",
      "168 /home/phdcs2/Hard_Disk/Datasets/Deep-Spectral-Segmentation/data/object-segmentation/ECSSD/features/dino_vits16/0169.pth\n",
      "0169\n",
      "Starting Training\n",
      "epoch: 00, loss: -0.32236\n",
      "epoch: 01, loss: -0.33765\n",
      "epoch: 02, loss: -0.34216\n",
      "epoch: 03, loss: -0.34786\n",
      "epoch: 04, loss: -0.35154\n",
      "epoch: 05, loss: -0.35549\n",
      "epoch: 06, loss: -0.35881\n",
      "epoch: 07, loss: -0.36319\n",
      "epoch: 08, loss: -0.36649\n",
      "epoch: 09, loss: -0.37107\n",
      "After Unsqueezing, feature size= torch.Size([400, 384])\n",
      "type(projected_feature) <class 'torch.Tensor'>\n",
      "projected feature shape= torch.Size([400, 128])\n"
     ]
    },
    {
     "name": "stderr",
     "output_type": "stream",
     "text": [
      " 17%|█▋        | 169/1000 [1:01:43<4:37:51, 20.06s/it]"
     ]
    },
    {
     "name": "stdout",
     "output_type": "stream",
     "text": [
      "eigenvalues shape torch.Size([5]) eigenvectors shape torch.Size([5, 400])\n",
      "169 /home/phdcs2/Hard_Disk/Datasets/Deep-Spectral-Segmentation/data/object-segmentation/ECSSD/features/dino_vits16/0170.pth\n",
      "0170\n"
     ]
    },
    {
     "name": "stderr",
     "output_type": "stream",
     "text": [
      "/home/phdcs2/Hard_Disk/Projects/T2I/deep-spectral-segmentation/venv/lib/python3.8/site-packages/sklearn/decomposition/_pca.py:545: RuntimeWarning: invalid value encountered in divide\n",
      "  explained_variance_ratio_ = explained_variance_ / total_var\n"
     ]
    },
    {
     "name": "stdout",
     "output_type": "stream",
     "text": [
      "Starting Training\n",
      "epoch: 00, loss: 0.00000\n",
      "epoch: 01, loss: 0.00000\n",
      "epoch: 02, loss: 0.00000\n",
      "epoch: 03, loss: 0.00000\n",
      "epoch: 04, loss: 0.00000\n",
      "epoch: 05, loss: 0.00000\n",
      "epoch: 06, loss: 0.00000\n",
      "epoch: 07, loss: 0.00000\n",
      "epoch: 08, loss: 0.00000\n",
      "epoch: 09, loss: 0.00000\n",
      "After Unsqueezing, feature size= torch.Size([450, 384])\n",
      "type(projected_feature) <class 'torch.Tensor'>\n",
      "projected feature shape= torch.Size([450, 128])\n"
     ]
    },
    {
     "name": "stderr",
     "output_type": "stream",
     "text": [
      " 17%|█▋        | 170/1000 [1:02:08<4:57:49, 21.53s/it]"
     ]
    },
    {
     "name": "stdout",
     "output_type": "stream",
     "text": [
      "eigenvalues shape torch.Size([5]) eigenvectors shape torch.Size([5, 450])\n",
      "170 /home/phdcs2/Hard_Disk/Datasets/Deep-Spectral-Segmentation/data/object-segmentation/ECSSD/features/dino_vits16/0171.pth\n",
      "0171\n",
      "Starting Training\n",
      "epoch: 00, loss: -0.31348\n",
      "epoch: 01, loss: -0.33534\n",
      "epoch: 02, loss: -0.33939\n",
      "epoch: 03, loss: -0.34658\n",
      "epoch: 04, loss: -0.35363\n",
      "epoch: 05, loss: -0.35845\n",
      "epoch: 06, loss: -0.36428\n",
      "epoch: 07, loss: -0.37027\n",
      "epoch: 08, loss: -0.37320\n",
      "epoch: 09, loss: -0.38056\n",
      "After Unsqueezing, feature size= torch.Size([375, 384])\n",
      "type(projected_feature) <class 'torch.Tensor'>\n",
      "projected feature shape= torch.Size([375, 128])\n"
     ]
    },
    {
     "name": "stderr",
     "output_type": "stream",
     "text": [
      " 17%|█▋        | 171/1000 [1:02:33<5:09:05, 22.37s/it]"
     ]
    },
    {
     "name": "stdout",
     "output_type": "stream",
     "text": [
      "eigenvalues shape torch.Size([5]) eigenvectors shape torch.Size([5, 375])\n",
      "171 /home/phdcs2/Hard_Disk/Datasets/Deep-Spectral-Segmentation/data/object-segmentation/ECSSD/features/dino_vits16/0172.pth\n",
      "0172\n"
     ]
    },
    {
     "name": "stderr",
     "output_type": "stream",
     "text": [
      "/home/phdcs2/Hard_Disk/Projects/T2I/deep-spectral-segmentation/venv/lib/python3.8/site-packages/sklearn/decomposition/_pca.py:545: RuntimeWarning: invalid value encountered in divide\n",
      "  explained_variance_ratio_ = explained_variance_ / total_var\n"
     ]
    },
    {
     "name": "stdout",
     "output_type": "stream",
     "text": [
      "Starting Training\n",
      "epoch: 00, loss: 0.00000\n",
      "epoch: 01, loss: 0.00000\n",
      "epoch: 02, loss: 0.00000\n",
      "epoch: 03, loss: 0.00000\n",
      "epoch: 04, loss: 0.00000\n",
      "epoch: 05, loss: 0.00000\n",
      "epoch: 06, loss: 0.00000\n",
      "epoch: 07, loss: 0.00000\n",
      "epoch: 08, loss: 0.00000\n",
      "epoch: 09, loss: 0.00000\n",
      "After Unsqueezing, feature size= torch.Size([375, 384])\n",
      "type(projected_feature) <class 'torch.Tensor'>\n",
      "projected feature shape= torch.Size([375, 128])\n"
     ]
    },
    {
     "name": "stderr",
     "output_type": "stream",
     "text": [
      " 17%|█▋        | 172/1000 [1:02:55<5:08:12, 22.33s/it]"
     ]
    },
    {
     "name": "stdout",
     "output_type": "stream",
     "text": [
      "eigenvalues shape torch.Size([5]) eigenvectors shape torch.Size([5, 375])\n",
      "172 /home/phdcs2/Hard_Disk/Datasets/Deep-Spectral-Segmentation/data/object-segmentation/ECSSD/features/dino_vits16/0173.pth\n",
      "0173\n",
      "Starting Training\n",
      "epoch: 00, loss: -0.23775\n",
      "epoch: 01, loss: -0.17219\n",
      "epoch: 02, loss: -0.15022\n",
      "epoch: 03, loss: -0.15771\n",
      "epoch: 04, loss: -0.16138\n",
      "epoch: 05, loss: -0.16297\n",
      "epoch: 06, loss: -0.16279\n",
      "epoch: 07, loss: -0.16412\n",
      "epoch: 08, loss: -0.16315\n",
      "epoch: 09, loss: -0.16539\n",
      "After Unsqueezing, feature size= torch.Size([450, 384])\n",
      "type(projected_feature) <class 'torch.Tensor'>\n",
      "projected feature shape= torch.Size([450, 128])\n"
     ]
    },
    {
     "name": "stderr",
     "output_type": "stream",
     "text": [
      " 17%|█▋        | 173/1000 [1:03:25<5:41:48, 24.80s/it]"
     ]
    },
    {
     "name": "stdout",
     "output_type": "stream",
     "text": [
      "eigenvalues shape torch.Size([5]) eigenvectors shape torch.Size([5, 450])\n",
      "173 /home/phdcs2/Hard_Disk/Datasets/Deep-Spectral-Segmentation/data/object-segmentation/ECSSD/features/dino_vits16/0174.pth\n",
      "0174\n"
     ]
    },
    {
     "name": "stderr",
     "output_type": "stream",
     "text": [
      "/home/phdcs2/Hard_Disk/Projects/T2I/deep-spectral-segmentation/venv/lib/python3.8/site-packages/sklearn/decomposition/_pca.py:545: RuntimeWarning: invalid value encountered in divide\n",
      "  explained_variance_ratio_ = explained_variance_ / total_var\n"
     ]
    },
    {
     "name": "stdout",
     "output_type": "stream",
     "text": [
      "Starting Training\n",
      "epoch: 00, loss: 0.00000\n",
      "epoch: 01, loss: 0.00000\n",
      "epoch: 02, loss: 0.00000\n",
      "epoch: 03, loss: 0.00000\n",
      "epoch: 04, loss: 0.00000\n",
      "epoch: 05, loss: 0.00000\n",
      "epoch: 06, loss: 0.00000\n",
      "epoch: 07, loss: 0.00000\n",
      "epoch: 08, loss: 0.00000\n",
      "epoch: 09, loss: 0.00000\n",
      "After Unsqueezing, feature size= torch.Size([375, 384])\n",
      "type(projected_feature) <class 'torch.Tensor'>\n",
      "projected feature shape= torch.Size([375, 128])\n"
     ]
    },
    {
     "name": "stderr",
     "output_type": "stream",
     "text": [
      " 17%|█▋        | 174/1000 [1:03:47<5:30:29, 24.01s/it]"
     ]
    },
    {
     "name": "stdout",
     "output_type": "stream",
     "text": [
      "eigenvalues shape torch.Size([5]) eigenvectors shape torch.Size([5, 375])\n",
      "174 /home/phdcs2/Hard_Disk/Datasets/Deep-Spectral-Segmentation/data/object-segmentation/ECSSD/features/dino_vits16/0175.pth\n",
      "0175\n"
     ]
    },
    {
     "name": "stderr",
     "output_type": "stream",
     "text": [
      "/home/phdcs2/Hard_Disk/Projects/T2I/deep-spectral-segmentation/venv/lib/python3.8/site-packages/sklearn/decomposition/_pca.py:545: RuntimeWarning: invalid value encountered in divide\n",
      "  explained_variance_ratio_ = explained_variance_ / total_var\n"
     ]
    },
    {
     "name": "stdout",
     "output_type": "stream",
     "text": [
      "Starting Training\n",
      "epoch: 00, loss: 0.00000\n",
      "epoch: 01, loss: 0.00000\n",
      "epoch: 02, loss: 0.00000\n",
      "epoch: 03, loss: 0.00000\n",
      "epoch: 04, loss: 0.00000\n",
      "epoch: 05, loss: 0.00000\n",
      "epoch: 06, loss: 0.00000\n",
      "epoch: 07, loss: 0.00000\n",
      "epoch: 08, loss: 0.00000\n",
      "epoch: 09, loss: 0.00000\n",
      "After Unsqueezing, feature size= torch.Size([450, 384])\n",
      "type(projected_feature) <class 'torch.Tensor'>\n",
      "projected feature shape= torch.Size([450, 128])\n"
     ]
    },
    {
     "name": "stderr",
     "output_type": "stream",
     "text": [
      " 18%|█▊        | 175/1000 [1:04:12<5:31:45, 24.13s/it]"
     ]
    },
    {
     "name": "stdout",
     "output_type": "stream",
     "text": [
      "eigenvalues shape torch.Size([5]) eigenvectors shape torch.Size([5, 450])\n",
      "175 /home/phdcs2/Hard_Disk/Datasets/Deep-Spectral-Segmentation/data/object-segmentation/ECSSD/features/dino_vits16/0176.pth\n",
      "0176\n"
     ]
    },
    {
     "name": "stderr",
     "output_type": "stream",
     "text": [
      "/home/phdcs2/Hard_Disk/Projects/T2I/deep-spectral-segmentation/venv/lib/python3.8/site-packages/sklearn/decomposition/_pca.py:545: RuntimeWarning: invalid value encountered in divide\n",
      "  explained_variance_ratio_ = explained_variance_ / total_var\n"
     ]
    },
    {
     "name": "stdout",
     "output_type": "stream",
     "text": [
      "Starting Training\n",
      "epoch: 00, loss: 0.00000\n",
      "epoch: 01, loss: 0.00000\n",
      "epoch: 02, loss: 0.00000\n",
      "epoch: 03, loss: 0.00000\n",
      "epoch: 04, loss: 0.00000\n",
      "epoch: 05, loss: 0.00000\n",
      "epoch: 06, loss: 0.00000\n",
      "epoch: 07, loss: 0.00000\n",
      "epoch: 08, loss: 0.00000\n",
      "epoch: 09, loss: 0.00000\n",
      "After Unsqueezing, feature size= torch.Size([550, 384])\n",
      "type(projected_feature) <class 'torch.Tensor'>\n",
      "projected feature shape= torch.Size([550, 128])\n"
     ]
    },
    {
     "name": "stderr",
     "output_type": "stream",
     "text": [
      " 18%|█▊        | 176/1000 [1:05:34<9:28:49, 41.42s/it]"
     ]
    },
    {
     "name": "stdout",
     "output_type": "stream",
     "text": [
      "eigenvalues shape torch.Size([5]) eigenvectors shape torch.Size([5, 550])\n",
      "176 /home/phdcs2/Hard_Disk/Datasets/Deep-Spectral-Segmentation/data/object-segmentation/ECSSD/features/dino_vits16/0177.pth\n",
      "0177\n",
      "Starting Training\n",
      "epoch: 00, loss: -0.32967\n",
      "epoch: 01, loss: -0.34737\n",
      "epoch: 02, loss: -0.35699\n",
      "epoch: 03, loss: -0.36852\n",
      "epoch: 04, loss: -0.37775\n",
      "epoch: 05, loss: -0.38310\n",
      "epoch: 06, loss: -0.38776\n",
      "epoch: 07, loss: -0.39022\n",
      "epoch: 08, loss: -0.39342\n",
      "epoch: 09, loss: -0.39536\n",
      "After Unsqueezing, feature size= torch.Size([400, 384])\n",
      "type(projected_feature) <class 'torch.Tensor'>\n",
      "projected feature shape= torch.Size([400, 128])\n"
     ]
    },
    {
     "name": "stderr",
     "output_type": "stream",
     "text": [
      " 18%|█▊        | 177/1000 [1:06:02<8:35:35, 37.59s/it]"
     ]
    },
    {
     "name": "stdout",
     "output_type": "stream",
     "text": [
      "eigenvalues shape torch.Size([5]) eigenvectors shape torch.Size([5, 400])\n",
      "177 /home/phdcs2/Hard_Disk/Datasets/Deep-Spectral-Segmentation/data/object-segmentation/ECSSD/features/dino_vits16/0178.pth\n",
      "0178\n"
     ]
    },
    {
     "name": "stderr",
     "output_type": "stream",
     "text": [
      "/home/phdcs2/Hard_Disk/Projects/T2I/deep-spectral-segmentation/venv/lib/python3.8/site-packages/sklearn/decomposition/_pca.py:545: RuntimeWarning: invalid value encountered in divide\n",
      "  explained_variance_ratio_ = explained_variance_ / total_var\n"
     ]
    },
    {
     "name": "stdout",
     "output_type": "stream",
     "text": [
      "Starting Training\n",
      "epoch: 00, loss: 0.00000\n",
      "epoch: 01, loss: 0.00000\n",
      "epoch: 02, loss: 0.00000\n",
      "epoch: 03, loss: 0.00000\n",
      "epoch: 04, loss: 0.00000\n",
      "epoch: 05, loss: 0.00000\n",
      "epoch: 06, loss: 0.00000\n",
      "epoch: 07, loss: 0.00000\n",
      "epoch: 08, loss: 0.00000\n",
      "epoch: 09, loss: 0.00000\n",
      "After Unsqueezing, feature size= torch.Size([450, 384])\n",
      "type(projected_feature) <class 'torch.Tensor'>\n",
      "projected feature shape= torch.Size([450, 128])\n"
     ]
    },
    {
     "name": "stderr",
     "output_type": "stream",
     "text": [
      " 18%|█▊        | 178/1000 [1:06:26<7:36:50, 33.35s/it]"
     ]
    },
    {
     "name": "stdout",
     "output_type": "stream",
     "text": [
      "eigenvalues shape torch.Size([5]) eigenvectors shape torch.Size([5, 450])\n",
      "178 /home/phdcs2/Hard_Disk/Datasets/Deep-Spectral-Segmentation/data/object-segmentation/ECSSD/features/dino_vits16/0179.pth\n",
      "0179\n",
      "Starting Training\n",
      "epoch: 00, loss: -0.31434\n",
      "epoch: 01, loss: -0.35498\n",
      "epoch: 02, loss: -0.36735\n",
      "epoch: 03, loss: -0.36412\n",
      "epoch: 04, loss: -0.35981\n",
      "epoch: 05, loss: -0.35759\n",
      "epoch: 06, loss: -0.36041\n",
      "epoch: 07, loss: -0.36098\n",
      "epoch: 08, loss: -0.36244\n",
      "epoch: 09, loss: -0.36709\n",
      "After Unsqueezing, feature size= torch.Size([400, 384])\n",
      "type(projected_feature) <class 'torch.Tensor'>\n",
      "projected feature shape= torch.Size([400, 128])\n"
     ]
    },
    {
     "name": "stderr",
     "output_type": "stream",
     "text": [
      " 18%|█▊        | 179/1000 [1:06:49<6:53:27, 30.22s/it]"
     ]
    },
    {
     "name": "stdout",
     "output_type": "stream",
     "text": [
      "eigenvalues shape torch.Size([5]) eigenvectors shape torch.Size([5, 400])\n",
      "179 /home/phdcs2/Hard_Disk/Datasets/Deep-Spectral-Segmentation/data/object-segmentation/ECSSD/features/dino_vits16/0180.pth\n",
      "0180\n",
      "Starting Training\n",
      "epoch: 00, loss: -0.35475\n",
      "epoch: 01, loss: -0.34055\n",
      "epoch: 02, loss: -0.34837\n",
      "epoch: 03, loss: -0.35278\n",
      "epoch: 04, loss: -0.35765\n",
      "epoch: 05, loss: -0.36149\n",
      "epoch: 06, loss: -0.36575\n",
      "epoch: 07, loss: -0.36966\n",
      "epoch: 08, loss: -0.37216\n",
      "epoch: 09, loss: -0.37724\n",
      "After Unsqueezing, feature size= torch.Size([400, 384])\n",
      "type(projected_feature) <class 'torch.Tensor'>\n",
      "projected feature shape= torch.Size([400, 128])\n"
     ]
    },
    {
     "name": "stderr",
     "output_type": "stream",
     "text": [
      " 18%|█▊        | 180/1000 [1:07:09<6:13:15, 27.31s/it]"
     ]
    },
    {
     "name": "stdout",
     "output_type": "stream",
     "text": [
      "eigenvalues shape torch.Size([5]) eigenvectors shape torch.Size([5, 400])\n",
      "180 /home/phdcs2/Hard_Disk/Datasets/Deep-Spectral-Segmentation/data/object-segmentation/ECSSD/features/dino_vits16/0181.pth\n",
      "0181\n"
     ]
    },
    {
     "name": "stderr",
     "output_type": "stream",
     "text": [
      "/home/phdcs2/Hard_Disk/Projects/T2I/deep-spectral-segmentation/venv/lib/python3.8/site-packages/sklearn/decomposition/_pca.py:545: RuntimeWarning: invalid value encountered in divide\n",
      "  explained_variance_ratio_ = explained_variance_ / total_var\n"
     ]
    },
    {
     "name": "stdout",
     "output_type": "stream",
     "text": [
      "Starting Training\n",
      "epoch: 00, loss: 0.00000\n",
      "epoch: 01, loss: 0.00000\n",
      "epoch: 02, loss: 0.00000\n",
      "epoch: 03, loss: 0.00000\n",
      "epoch: 04, loss: 0.00000\n",
      "epoch: 05, loss: 0.00000\n",
      "epoch: 06, loss: 0.00000\n",
      "epoch: 07, loss: 0.00000\n",
      "epoch: 08, loss: 0.00000\n",
      "epoch: 09, loss: 0.00000\n",
      "After Unsqueezing, feature size= torch.Size([375, 384])\n",
      "type(projected_feature) <class 'torch.Tensor'>\n",
      "projected feature shape= torch.Size([375, 128])\n"
     ]
    },
    {
     "name": "stderr",
     "output_type": "stream",
     "text": [
      " 18%|█▊        | 181/1000 [1:07:28<5:39:31, 24.87s/it]"
     ]
    },
    {
     "name": "stdout",
     "output_type": "stream",
     "text": [
      "eigenvalues shape torch.Size([5]) eigenvectors shape torch.Size([5, 375])\n",
      "181 /home/phdcs2/Hard_Disk/Datasets/Deep-Spectral-Segmentation/data/object-segmentation/ECSSD/features/dino_vits16/0182.pth\n",
      "0182\n"
     ]
    },
    {
     "name": "stderr",
     "output_type": "stream",
     "text": [
      "/home/phdcs2/Hard_Disk/Projects/T2I/deep-spectral-segmentation/venv/lib/python3.8/site-packages/sklearn/decomposition/_pca.py:545: RuntimeWarning: invalid value encountered in divide\n",
      "  explained_variance_ratio_ = explained_variance_ / total_var\n"
     ]
    },
    {
     "name": "stdout",
     "output_type": "stream",
     "text": [
      "Starting Training\n",
      "epoch: 00, loss: 0.00000\n",
      "epoch: 01, loss: 0.00000\n",
      "epoch: 02, loss: 0.00000\n",
      "epoch: 03, loss: 0.00000\n",
      "epoch: 04, loss: 0.00000\n",
      "epoch: 05, loss: 0.00000\n",
      "epoch: 06, loss: 0.00000\n",
      "epoch: 07, loss: 0.00000\n",
      "epoch: 08, loss: 0.00000\n",
      "epoch: 09, loss: 0.00000\n",
      "After Unsqueezing, feature size= torch.Size([625, 384])\n",
      "type(projected_feature) <class 'torch.Tensor'>\n",
      "projected feature shape= torch.Size([625, 128])\n"
     ]
    },
    {
     "name": "stderr",
     "output_type": "stream",
     "text": [
      " 18%|█▊        | 182/1000 [1:08:54<9:48:44, 43.18s/it]"
     ]
    },
    {
     "name": "stdout",
     "output_type": "stream",
     "text": [
      "eigenvalues shape torch.Size([5]) eigenvectors shape torch.Size([5, 625])\n",
      "182 /home/phdcs2/Hard_Disk/Datasets/Deep-Spectral-Segmentation/data/object-segmentation/ECSSD/features/dino_vits16/0183.pth\n",
      "0183\n"
     ]
    },
    {
     "name": "stderr",
     "output_type": "stream",
     "text": [
      "/home/phdcs2/Hard_Disk/Projects/T2I/deep-spectral-segmentation/venv/lib/python3.8/site-packages/sklearn/decomposition/_pca.py:545: RuntimeWarning: invalid value encountered in divide\n",
      "  explained_variance_ratio_ = explained_variance_ / total_var\n"
     ]
    },
    {
     "name": "stdout",
     "output_type": "stream",
     "text": [
      "Starting Training\n",
      "epoch: 00, loss: 0.00000\n",
      "epoch: 01, loss: 0.00000\n",
      "epoch: 02, loss: 0.00000\n",
      "epoch: 03, loss: 0.00000\n",
      "epoch: 04, loss: 0.00000\n",
      "epoch: 05, loss: 0.00000\n",
      "epoch: 06, loss: 0.00000\n",
      "epoch: 07, loss: 0.00000\n",
      "epoch: 08, loss: 0.00000\n",
      "epoch: 09, loss: 0.00000\n",
      "After Unsqueezing, feature size= torch.Size([400, 384])\n",
      "type(projected_feature) <class 'torch.Tensor'>\n",
      "projected feature shape= torch.Size([400, 128])\n"
     ]
    },
    {
     "name": "stderr",
     "output_type": "stream",
     "text": [
      " 18%|█▊        | 183/1000 [1:09:18<8:28:43, 37.36s/it]"
     ]
    },
    {
     "name": "stdout",
     "output_type": "stream",
     "text": [
      "eigenvalues shape torch.Size([5]) eigenvectors shape torch.Size([5, 400])\n",
      "183 /home/phdcs2/Hard_Disk/Datasets/Deep-Spectral-Segmentation/data/object-segmentation/ECSSD/features/dino_vits16/0184.pth\n",
      "0184\n",
      "Starting Training\n",
      "epoch: 00, loss: -0.33785\n",
      "epoch: 01, loss: -0.35495\n",
      "epoch: 02, loss: -0.36452\n",
      "epoch: 03, loss: -0.37304\n",
      "epoch: 04, loss: -0.38124\n",
      "epoch: 05, loss: -0.38909\n",
      "epoch: 06, loss: -0.39534\n",
      "epoch: 07, loss: -0.40165\n",
      "epoch: 08, loss: -0.40756\n",
      "epoch: 09, loss: -0.41457\n",
      "After Unsqueezing, feature size= torch.Size([625, 384])\n",
      "type(projected_feature) <class 'torch.Tensor'>\n",
      "projected feature shape= torch.Size([625, 128])\n"
     ]
    },
    {
     "name": "stderr",
     "output_type": "stream",
     "text": [
      " 18%|█▊        | 184/1000 [1:10:39<11:24:00, 50.29s/it]"
     ]
    },
    {
     "name": "stdout",
     "output_type": "stream",
     "text": [
      "eigenvalues shape torch.Size([5]) eigenvectors shape torch.Size([5, 625])\n",
      "184 /home/phdcs2/Hard_Disk/Datasets/Deep-Spectral-Segmentation/data/object-segmentation/ECSSD/features/dino_vits16/0185.pth\n",
      "0185\n",
      "Starting Training\n",
      "epoch: 00, loss: -0.31363\n",
      "epoch: 01, loss: -0.35628\n",
      "epoch: 02, loss: -0.36831\n",
      "epoch: 03, loss: -0.37774\n",
      "epoch: 04, loss: -0.38397\n",
      "epoch: 05, loss: -0.38883\n",
      "epoch: 06, loss: -0.39488\n",
      "epoch: 07, loss: -0.40279\n",
      "epoch: 08, loss: -0.40599\n",
      "epoch: 09, loss: -0.40886\n",
      "After Unsqueezing, feature size= torch.Size([625, 384])\n",
      "type(projected_feature) <class 'torch.Tensor'>\n",
      "projected feature shape= torch.Size([625, 128])\n"
     ]
    },
    {
     "name": "stderr",
     "output_type": "stream",
     "text": [
      " 18%|█▊        | 185/1000 [1:12:00<13:28:23, 59.51s/it]"
     ]
    },
    {
     "name": "stdout",
     "output_type": "stream",
     "text": [
      "eigenvalues shape torch.Size([5]) eigenvectors shape torch.Size([5, 625])\n",
      "185 /home/phdcs2/Hard_Disk/Datasets/Deep-Spectral-Segmentation/data/object-segmentation/ECSSD/features/dino_vits16/0186.pth\n",
      "0186\n"
     ]
    },
    {
     "name": "stderr",
     "output_type": "stream",
     "text": [
      "/home/phdcs2/Hard_Disk/Projects/T2I/deep-spectral-segmentation/venv/lib/python3.8/site-packages/sklearn/decomposition/_pca.py:545: RuntimeWarning: invalid value encountered in divide\n",
      "  explained_variance_ratio_ = explained_variance_ / total_var\n"
     ]
    },
    {
     "name": "stdout",
     "output_type": "stream",
     "text": [
      "Starting Training\n",
      "epoch: 00, loss: 0.00000\n",
      "epoch: 01, loss: 0.00000\n",
      "epoch: 02, loss: 0.00000\n",
      "epoch: 03, loss: 0.00000\n",
      "epoch: 04, loss: 0.00000\n",
      "epoch: 05, loss: 0.00000\n",
      "epoch: 06, loss: 0.00000\n",
      "epoch: 07, loss: 0.00000\n",
      "epoch: 08, loss: 0.00000\n",
      "epoch: 09, loss: 0.00000\n",
      "After Unsqueezing, feature size= torch.Size([625, 384])\n",
      "type(projected_feature) <class 'torch.Tensor'>\n",
      "projected feature shape= torch.Size([625, 128])\n"
     ]
    },
    {
     "name": "stderr",
     "output_type": "stream",
     "text": [
      " 19%|█▊        | 186/1000 [1:13:20<14:51:08, 65.69s/it]"
     ]
    },
    {
     "name": "stdout",
     "output_type": "stream",
     "text": [
      "eigenvalues shape torch.Size([5]) eigenvectors shape torch.Size([5, 625])\n",
      "186 /home/phdcs2/Hard_Disk/Datasets/Deep-Spectral-Segmentation/data/object-segmentation/ECSSD/features/dino_vits16/0187.pth\n",
      "0187\n"
     ]
    },
    {
     "name": "stderr",
     "output_type": "stream",
     "text": [
      "/home/phdcs2/Hard_Disk/Projects/T2I/deep-spectral-segmentation/venv/lib/python3.8/site-packages/sklearn/decomposition/_pca.py:545: RuntimeWarning: invalid value encountered in divide\n",
      "  explained_variance_ratio_ = explained_variance_ / total_var\n"
     ]
    },
    {
     "name": "stdout",
     "output_type": "stream",
     "text": [
      "Starting Training\n",
      "epoch: 00, loss: 0.00000\n",
      "epoch: 01, loss: 0.00000\n",
      "epoch: 02, loss: 0.00000\n",
      "epoch: 03, loss: 0.00000\n",
      "epoch: 04, loss: 0.00000\n",
      "epoch: 05, loss: 0.00000\n",
      "epoch: 06, loss: 0.00000\n",
      "epoch: 07, loss: 0.00000\n",
      "epoch: 08, loss: 0.00000\n",
      "epoch: 09, loss: 0.00000\n",
      "After Unsqueezing, feature size= torch.Size([200, 384])\n",
      "type(projected_feature) <class 'torch.Tensor'>\n",
      "projected feature shape= torch.Size([200, 128])\n"
     ]
    },
    {
     "name": "stderr",
     "output_type": "stream",
     "text": [
      " 19%|█▊        | 187/1000 [1:13:30<11:03:09, 48.94s/it]"
     ]
    },
    {
     "name": "stdout",
     "output_type": "stream",
     "text": [
      "eigenvalues shape torch.Size([5]) eigenvectors shape torch.Size([5, 200])\n",
      "187 /home/phdcs2/Hard_Disk/Datasets/Deep-Spectral-Segmentation/data/object-segmentation/ECSSD/features/dino_vits16/0188.pth\n",
      "0188\n"
     ]
    },
    {
     "name": "stderr",
     "output_type": "stream",
     "text": [
      "/home/phdcs2/Hard_Disk/Projects/T2I/deep-spectral-segmentation/venv/lib/python3.8/site-packages/sklearn/decomposition/_pca.py:545: RuntimeWarning: invalid value encountered in divide\n",
      "  explained_variance_ratio_ = explained_variance_ / total_var\n"
     ]
    },
    {
     "name": "stdout",
     "output_type": "stream",
     "text": [
      "Starting Training\n",
      "epoch: 00, loss: 0.00000\n",
      "epoch: 01, loss: 0.00000\n",
      "epoch: 02, loss: 0.00000\n",
      "epoch: 03, loss: 0.00000\n",
      "epoch: 04, loss: 0.00000\n",
      "epoch: 05, loss: 0.00000\n",
      "epoch: 06, loss: 0.00000\n",
      "epoch: 07, loss: 0.00000\n",
      "epoch: 08, loss: 0.00000\n",
      "epoch: 09, loss: 0.00000\n",
      "After Unsqueezing, feature size= torch.Size([400, 384])\n",
      "type(projected_feature) <class 'torch.Tensor'>\n",
      "projected feature shape= torch.Size([400, 128])\n"
     ]
    },
    {
     "name": "stderr",
     "output_type": "stream",
     "text": [
      " 19%|█▉        | 188/1000 [1:13:50<9:04:49, 40.26s/it] "
     ]
    },
    {
     "name": "stdout",
     "output_type": "stream",
     "text": [
      "eigenvalues shape torch.Size([5]) eigenvectors shape torch.Size([5, 400])\n",
      "188 /home/phdcs2/Hard_Disk/Datasets/Deep-Spectral-Segmentation/data/object-segmentation/ECSSD/features/dino_vits16/0189.pth\n",
      "0189\n"
     ]
    },
    {
     "name": "stderr",
     "output_type": "stream",
     "text": [
      "/home/phdcs2/Hard_Disk/Projects/T2I/deep-spectral-segmentation/venv/lib/python3.8/site-packages/sklearn/decomposition/_pca.py:545: RuntimeWarning: invalid value encountered in divide\n",
      "  explained_variance_ratio_ = explained_variance_ / total_var\n"
     ]
    },
    {
     "name": "stdout",
     "output_type": "stream",
     "text": [
      "Starting Training\n",
      "epoch: 00, loss: 0.00000\n",
      "epoch: 01, loss: 0.00000\n",
      "epoch: 02, loss: 0.00000\n",
      "epoch: 03, loss: 0.00000\n",
      "epoch: 04, loss: 0.00000\n",
      "epoch: 05, loss: 0.00000\n",
      "epoch: 06, loss: 0.00000\n",
      "epoch: 07, loss: 0.00000\n",
      "epoch: 08, loss: 0.00000\n",
      "epoch: 09, loss: 0.00000\n",
      "After Unsqueezing, feature size= torch.Size([400, 384])\n",
      "type(projected_feature) <class 'torch.Tensor'>\n",
      "projected feature shape= torch.Size([400, 128])\n"
     ]
    },
    {
     "name": "stderr",
     "output_type": "stream",
     "text": [
      " 19%|█▉        | 189/1000 [1:14:09<7:38:51, 33.95s/it]"
     ]
    },
    {
     "name": "stdout",
     "output_type": "stream",
     "text": [
      "eigenvalues shape torch.Size([5]) eigenvectors shape torch.Size([5, 400])\n",
      "189 /home/phdcs2/Hard_Disk/Datasets/Deep-Spectral-Segmentation/data/object-segmentation/ECSSD/features/dino_vits16/0190.pth\n",
      "0190\n",
      "Starting Training\n",
      "epoch: 00, loss: -0.12096\n",
      "epoch: 01, loss: -0.19254\n",
      "epoch: 02, loss: -0.19540\n",
      "epoch: 03, loss: -0.19721\n",
      "epoch: 04, loss: -0.19991\n",
      "epoch: 05, loss: -0.20224\n",
      "epoch: 06, loss: -0.20432\n",
      "epoch: 07, loss: -0.20820\n",
      "epoch: 08, loss: -0.21260\n",
      "epoch: 09, loss: -0.21526\n",
      "After Unsqueezing, feature size= torch.Size([450, 384])\n",
      "type(projected_feature) <class 'torch.Tensor'>\n",
      "projected feature shape= torch.Size([450, 128])\n"
     ]
    },
    {
     "name": "stderr",
     "output_type": "stream",
     "text": [
      " 19%|█▉        | 190/1000 [1:14:40<7:27:34, 33.15s/it]"
     ]
    },
    {
     "name": "stdout",
     "output_type": "stream",
     "text": [
      "eigenvalues shape torch.Size([5]) eigenvectors shape torch.Size([5, 450])\n",
      "190 /home/phdcs2/Hard_Disk/Datasets/Deep-Spectral-Segmentation/data/object-segmentation/ECSSD/features/dino_vits16/0191.pth\n",
      "0191\n",
      "Starting Training\n",
      "epoch: 00, loss: -0.31237\n",
      "epoch: 01, loss: -0.32120\n",
      "epoch: 02, loss: -0.32599\n",
      "epoch: 03, loss: -0.33117\n",
      "epoch: 04, loss: -0.33581\n",
      "epoch: 05, loss: -0.33876\n",
      "epoch: 06, loss: -0.34209\n",
      "epoch: 07, loss: -0.34601\n",
      "epoch: 08, loss: -0.34890\n",
      "epoch: 09, loss: -0.35396\n",
      "After Unsqueezing, feature size= torch.Size([450, 384])\n",
      "type(projected_feature) <class 'torch.Tensor'>\n",
      "projected feature shape= torch.Size([450, 128])\n"
     ]
    },
    {
     "name": "stderr",
     "output_type": "stream",
     "text": [
      " 19%|█▉        | 191/1000 [1:15:04<6:47:43, 30.24s/it]"
     ]
    },
    {
     "name": "stdout",
     "output_type": "stream",
     "text": [
      "eigenvalues shape torch.Size([5]) eigenvectors shape torch.Size([5, 450])\n",
      "191 /home/phdcs2/Hard_Disk/Datasets/Deep-Spectral-Segmentation/data/object-segmentation/ECSSD/features/dino_vits16/0192.pth\n",
      "0192\n",
      "Starting Training\n",
      "epoch: 00, loss: -0.75118\n",
      "epoch: 01, loss: -0.85504\n",
      "epoch: 02, loss: -0.85840\n",
      "epoch: 03, loss: -0.85977\n",
      "epoch: 04, loss: -0.86085\n",
      "epoch: 05, loss: -0.86081\n",
      "epoch: 06, loss: -0.86205\n",
      "epoch: 07, loss: -0.86327\n",
      "epoch: 08, loss: -0.86344\n",
      "epoch: 09, loss: -0.86396\n",
      "After Unsqueezing, feature size= torch.Size([400, 384])\n",
      "type(projected_feature) <class 'torch.Tensor'>\n",
      "projected feature shape= torch.Size([400, 128])\n"
     ]
    },
    {
     "name": "stderr",
     "output_type": "stream",
     "text": [
      " 19%|█▉        | 192/1000 [1:15:32<6:38:58, 29.63s/it]"
     ]
    },
    {
     "name": "stdout",
     "output_type": "stream",
     "text": [
      "eigenvalues shape torch.Size([5]) eigenvectors shape torch.Size([5, 400])\n",
      "192 /home/phdcs2/Hard_Disk/Datasets/Deep-Spectral-Segmentation/data/object-segmentation/ECSSD/features/dino_vits16/0193.pth\n",
      "0193\n",
      "Starting Training\n",
      "epoch: 00, loss: -0.33800\n",
      "epoch: 01, loss: -0.35202\n",
      "epoch: 02, loss: -0.35714\n",
      "epoch: 03, loss: -0.35813\n",
      "epoch: 04, loss: -0.36103\n",
      "epoch: 05, loss: -0.36221\n",
      "epoch: 06, loss: -0.36590\n",
      "epoch: 07, loss: -0.36870\n",
      "epoch: 08, loss: -0.37042\n",
      "epoch: 09, loss: -0.37280\n",
      "After Unsqueezing, feature size= torch.Size([450, 384])\n",
      "type(projected_feature) <class 'torch.Tensor'>\n",
      "projected feature shape= torch.Size([450, 128])\n"
     ]
    },
    {
     "name": "stderr",
     "output_type": "stream",
     "text": [
      " 19%|█▉        | 193/1000 [1:16:05<6:53:34, 30.75s/it]"
     ]
    },
    {
     "name": "stdout",
     "output_type": "stream",
     "text": [
      "eigenvalues shape torch.Size([5]) eigenvectors shape torch.Size([5, 450])\n",
      "193 /home/phdcs2/Hard_Disk/Datasets/Deep-Spectral-Segmentation/data/object-segmentation/ECSSD/features/dino_vits16/0194.pth\n",
      "0194\n",
      "Starting Training\n",
      "epoch: 00, loss: -0.32509\n",
      "epoch: 01, loss: -0.33945\n",
      "epoch: 02, loss: -0.34537\n",
      "epoch: 03, loss: -0.34961\n",
      "epoch: 04, loss: -0.35530\n",
      "epoch: 05, loss: -0.35878\n",
      "epoch: 06, loss: -0.36267\n",
      "epoch: 07, loss: -0.36680\n",
      "epoch: 08, loss: -0.37077\n",
      "epoch: 09, loss: -0.37450\n",
      "After Unsqueezing, feature size= torch.Size([450, 384])\n",
      "type(projected_feature) <class 'torch.Tensor'>\n",
      "projected feature shape= torch.Size([450, 128])\n"
     ]
    },
    {
     "name": "stderr",
     "output_type": "stream",
     "text": [
      " 19%|█▉        | 194/1000 [1:16:33<6:42:20, 29.95s/it]"
     ]
    },
    {
     "name": "stdout",
     "output_type": "stream",
     "text": [
      "eigenvalues shape torch.Size([5]) eigenvectors shape torch.Size([5, 450])\n",
      "194 /home/phdcs2/Hard_Disk/Datasets/Deep-Spectral-Segmentation/data/object-segmentation/ECSSD/features/dino_vits16/0195.pth\n",
      "0195\n",
      "Starting Training\n",
      "epoch: 00, loss: -0.31733\n",
      "epoch: 01, loss: -0.32543\n",
      "epoch: 02, loss: -0.32708\n",
      "epoch: 03, loss: -0.33101\n",
      "epoch: 04, loss: -0.33360\n",
      "epoch: 05, loss: -0.33731\n",
      "epoch: 06, loss: -0.33959\n",
      "epoch: 07, loss: -0.34282\n",
      "epoch: 08, loss: -0.34631\n",
      "epoch: 09, loss: -0.34816\n",
      "After Unsqueezing, feature size= torch.Size([400, 384])\n",
      "type(projected_feature) <class 'torch.Tensor'>\n",
      "projected feature shape= torch.Size([400, 128])\n"
     ]
    },
    {
     "name": "stderr",
     "output_type": "stream",
     "text": [
      " 20%|█▉        | 195/1000 [1:17:00<6:27:56, 28.92s/it]"
     ]
    },
    {
     "name": "stdout",
     "output_type": "stream",
     "text": [
      "eigenvalues shape torch.Size([5]) eigenvectors shape torch.Size([5, 400])\n",
      "195 /home/phdcs2/Hard_Disk/Datasets/Deep-Spectral-Segmentation/data/object-segmentation/ECSSD/features/dino_vits16/0196.pth\n",
      "0196\n",
      "Starting Training\n",
      "epoch: 00, loss: -0.35153\n",
      "epoch: 01, loss: -0.27239\n",
      "epoch: 02, loss: -0.27671\n",
      "epoch: 03, loss: -0.28566\n",
      "epoch: 04, loss: -0.30500\n",
      "epoch: 05, loss: -0.32045\n",
      "epoch: 06, loss: -0.33323\n",
      "epoch: 07, loss: -0.34186\n",
      "epoch: 08, loss: -0.34524\n",
      "epoch: 09, loss: -0.35335\n",
      "After Unsqueezing, feature size= torch.Size([625, 384])\n",
      "type(projected_feature) <class 'torch.Tensor'>\n",
      "projected feature shape= torch.Size([625, 128])\n"
     ]
    },
    {
     "name": "stderr",
     "output_type": "stream",
     "text": [
      " 20%|█▉        | 196/1000 [1:18:30<10:36:07, 47.47s/it]"
     ]
    },
    {
     "name": "stdout",
     "output_type": "stream",
     "text": [
      "eigenvalues shape torch.Size([5]) eigenvectors shape torch.Size([5, 625])\n",
      "196 /home/phdcs2/Hard_Disk/Datasets/Deep-Spectral-Segmentation/data/object-segmentation/ECSSD/features/dino_vits16/0197.pth\n",
      "0197\n",
      "Starting Training\n",
      "epoch: 00, loss: -0.31497\n",
      "epoch: 01, loss: -0.32746\n",
      "epoch: 02, loss: -0.33501\n",
      "epoch: 03, loss: -0.34282\n",
      "epoch: 04, loss: -0.34765\n",
      "epoch: 05, loss: -0.35570\n",
      "epoch: 06, loss: -0.36221\n",
      "epoch: 07, loss: -0.36587\n",
      "epoch: 08, loss: -0.37304\n",
      "epoch: 09, loss: -0.37792\n",
      "After Unsqueezing, feature size= torch.Size([400, 384])\n",
      "type(projected_feature) <class 'torch.Tensor'>\n",
      "projected feature shape= torch.Size([400, 128])\n"
     ]
    },
    {
     "name": "stderr",
     "output_type": "stream",
     "text": [
      " 20%|█▉        | 197/1000 [1:18:56<9:08:11, 40.96s/it] "
     ]
    },
    {
     "name": "stdout",
     "output_type": "stream",
     "text": [
      "eigenvalues shape torch.Size([5]) eigenvectors shape torch.Size([5, 400])\n",
      "197 /home/phdcs2/Hard_Disk/Datasets/Deep-Spectral-Segmentation/data/object-segmentation/ECSSD/features/dino_vits16/0198.pth\n",
      "0198\n",
      "Starting Training\n",
      "epoch: 00, loss: -0.32048\n",
      "epoch: 01, loss: -0.33997\n",
      "epoch: 02, loss: -0.35903\n",
      "epoch: 03, loss: -0.37596\n",
      "epoch: 04, loss: -0.38682\n",
      "epoch: 05, loss: -0.39917\n",
      "epoch: 06, loss: -0.40606\n",
      "epoch: 07, loss: -0.41807\n",
      "epoch: 08, loss: -0.42658\n",
      "epoch: 09, loss: -0.43658\n",
      "After Unsqueezing, feature size= torch.Size([425, 384])\n",
      "type(projected_feature) <class 'torch.Tensor'>\n",
      "projected feature shape= torch.Size([425, 128])\n"
     ]
    },
    {
     "name": "stderr",
     "output_type": "stream",
     "text": [
      " 20%|█▉        | 198/1000 [1:19:25<8:17:44, 37.24s/it]"
     ]
    },
    {
     "name": "stdout",
     "output_type": "stream",
     "text": [
      "eigenvalues shape torch.Size([5]) eigenvectors shape torch.Size([5, 425])\n",
      "198 /home/phdcs2/Hard_Disk/Datasets/Deep-Spectral-Segmentation/data/object-segmentation/ECSSD/features/dino_vits16/0199.pth\n",
      "0199\n"
     ]
    },
    {
     "name": "stderr",
     "output_type": "stream",
     "text": [
      "/home/phdcs2/Hard_Disk/Projects/T2I/deep-spectral-segmentation/venv/lib/python3.8/site-packages/sklearn/decomposition/_pca.py:545: RuntimeWarning: invalid value encountered in divide\n",
      "  explained_variance_ratio_ = explained_variance_ / total_var\n"
     ]
    },
    {
     "name": "stdout",
     "output_type": "stream",
     "text": [
      "Starting Training\n",
      "epoch: 00, loss: 0.00000\n",
      "epoch: 01, loss: 0.00000\n",
      "epoch: 02, loss: 0.00000\n",
      "epoch: 03, loss: 0.00000\n",
      "epoch: 04, loss: 0.00000\n",
      "epoch: 05, loss: 0.00000\n",
      "epoch: 06, loss: 0.00000\n",
      "epoch: 07, loss: 0.00000\n",
      "epoch: 08, loss: 0.00000\n",
      "epoch: 09, loss: 0.00000\n",
      "After Unsqueezing, feature size= torch.Size([450, 384])\n",
      "type(projected_feature) <class 'torch.Tensor'>\n",
      "projected feature shape= torch.Size([450, 128])\n"
     ]
    },
    {
     "name": "stderr",
     "output_type": "stream",
     "text": [
      " 20%|█▉        | 199/1000 [1:19:57<7:56:30, 35.69s/it]"
     ]
    },
    {
     "name": "stdout",
     "output_type": "stream",
     "text": [
      "eigenvalues shape torch.Size([5]) eigenvectors shape torch.Size([5, 450])\n",
      "199 /home/phdcs2/Hard_Disk/Datasets/Deep-Spectral-Segmentation/data/object-segmentation/ECSSD/features/dino_vits16/0200.pth\n",
      "0200\n",
      "Starting Training\n",
      "epoch: 00, loss: -0.29211\n",
      "epoch: 01, loss: -0.30884\n",
      "epoch: 02, loss: -0.31412\n",
      "epoch: 03, loss: -0.31723\n",
      "epoch: 04, loss: -0.32146\n",
      "epoch: 05, loss: -0.32435\n",
      "epoch: 06, loss: -0.32943\n",
      "epoch: 07, loss: -0.33194\n",
      "epoch: 08, loss: -0.33537\n",
      "epoch: 09, loss: -0.33918\n",
      "After Unsqueezing, feature size= torch.Size([450, 384])\n",
      "type(projected_feature) <class 'torch.Tensor'>\n",
      "projected feature shape= torch.Size([450, 128])\n"
     ]
    },
    {
     "name": "stderr",
     "output_type": "stream",
     "text": [
      " 20%|██        | 200/1000 [1:20:26<7:29:07, 33.68s/it]"
     ]
    },
    {
     "name": "stdout",
     "output_type": "stream",
     "text": [
      "eigenvalues shape torch.Size([5]) eigenvectors shape torch.Size([5, 450])\n",
      "200 /home/phdcs2/Hard_Disk/Datasets/Deep-Spectral-Segmentation/data/object-segmentation/ECSSD/features/dino_vits16/0201.pth\n",
      "0201\n",
      "Starting Training\n",
      "epoch: 00, loss: -0.31636\n",
      "epoch: 01, loss: -0.32771\n",
      "epoch: 02, loss: -0.33740\n",
      "epoch: 03, loss: -0.34961\n",
      "epoch: 04, loss: -0.36031\n",
      "epoch: 05, loss: -0.36595\n",
      "epoch: 06, loss: -0.37620\n",
      "epoch: 07, loss: -0.38494\n",
      "epoch: 08, loss: -0.39223\n",
      "epoch: 09, loss: -0.40095\n",
      "After Unsqueezing, feature size= torch.Size([425, 384])\n",
      "type(projected_feature) <class 'torch.Tensor'>\n",
      "projected feature shape= torch.Size([425, 128])\n"
     ]
    },
    {
     "name": "stderr",
     "output_type": "stream",
     "text": [
      " 20%|██        | 201/1000 [1:20:55<7:11:27, 32.40s/it]"
     ]
    },
    {
     "name": "stdout",
     "output_type": "stream",
     "text": [
      "eigenvalues shape torch.Size([5]) eigenvectors shape torch.Size([5, 425])\n",
      "201 /home/phdcs2/Hard_Disk/Datasets/Deep-Spectral-Segmentation/data/object-segmentation/ECSSD/features/dino_vits16/0202.pth\n",
      "0202\n"
     ]
    },
    {
     "name": "stderr",
     "output_type": "stream",
     "text": [
      "/home/phdcs2/Hard_Disk/Projects/T2I/deep-spectral-segmentation/venv/lib/python3.8/site-packages/sklearn/decomposition/_pca.py:545: RuntimeWarning: invalid value encountered in divide\n",
      "  explained_variance_ratio_ = explained_variance_ / total_var\n"
     ]
    },
    {
     "name": "stdout",
     "output_type": "stream",
     "text": [
      "Starting Training\n",
      "epoch: 00, loss: 0.00000\n",
      "epoch: 01, loss: 0.00000\n",
      "epoch: 02, loss: 0.00000\n",
      "epoch: 03, loss: 0.00000\n",
      "epoch: 04, loss: 0.00000\n",
      "epoch: 05, loss: 0.00000\n",
      "epoch: 06, loss: 0.00000\n",
      "epoch: 07, loss: 0.00000\n",
      "epoch: 08, loss: 0.00000\n",
      "epoch: 09, loss: 0.00000\n",
      "After Unsqueezing, feature size= torch.Size([400, 384])\n",
      "type(projected_feature) <class 'torch.Tensor'>\n",
      "projected feature shape= torch.Size([400, 128])\n"
     ]
    },
    {
     "name": "stderr",
     "output_type": "stream",
     "text": [
      " 20%|██        | 202/1000 [1:21:21<6:44:57, 30.45s/it]"
     ]
    },
    {
     "name": "stdout",
     "output_type": "stream",
     "text": [
      "eigenvalues shape torch.Size([5]) eigenvectors shape torch.Size([5, 400])\n",
      "202 /home/phdcs2/Hard_Disk/Datasets/Deep-Spectral-Segmentation/data/object-segmentation/ECSSD/features/dino_vits16/0203.pth\n",
      "0203\n",
      "Starting Training\n",
      "epoch: 00, loss: -0.73107\n",
      "epoch: 01, loss: -0.81841\n",
      "epoch: 02, loss: -0.81916\n",
      "epoch: 03, loss: -0.82014\n",
      "epoch: 04, loss: -0.82253\n",
      "epoch: 05, loss: -0.82288\n",
      "epoch: 06, loss: -0.82417\n",
      "epoch: 07, loss: -0.82603\n",
      "epoch: 08, loss: -0.82742\n",
      "epoch: 09, loss: -0.82644\n",
      "After Unsqueezing, feature size= torch.Size([400, 384])\n",
      "type(projected_feature) <class 'torch.Tensor'>\n",
      "projected feature shape= torch.Size([400, 128])\n"
     ]
    },
    {
     "name": "stderr",
     "output_type": "stream",
     "text": [
      " 20%|██        | 203/1000 [1:21:48<6:28:54, 29.28s/it]"
     ]
    },
    {
     "name": "stdout",
     "output_type": "stream",
     "text": [
      "eigenvalues shape torch.Size([5]) eigenvectors shape torch.Size([5, 400])\n",
      "203 /home/phdcs2/Hard_Disk/Datasets/Deep-Spectral-Segmentation/data/object-segmentation/ECSSD/features/dino_vits16/0204.pth\n",
      "0204\n",
      "Starting Training\n",
      "epoch: 00, loss: -0.16970\n",
      "epoch: 01, loss: -0.15995\n",
      "epoch: 02, loss: -0.15867\n",
      "epoch: 03, loss: -0.16041\n",
      "epoch: 04, loss: -0.15211\n",
      "epoch: 05, loss: -0.16771\n",
      "epoch: 06, loss: -0.16392\n",
      "epoch: 07, loss: -0.15159\n",
      "epoch: 08, loss: -0.15356\n",
      "epoch: 09, loss: -0.18318\n",
      "After Unsqueezing, feature size= torch.Size([450, 384])\n",
      "type(projected_feature) <class 'torch.Tensor'>\n",
      "projected feature shape= torch.Size([450, 128])\n"
     ]
    },
    {
     "name": "stderr",
     "output_type": "stream",
     "text": [
      " 20%|██        | 204/1000 [1:22:17<6:26:50, 29.16s/it]"
     ]
    },
    {
     "name": "stdout",
     "output_type": "stream",
     "text": [
      "eigenvalues shape torch.Size([5]) eigenvectors shape torch.Size([5, 450])\n",
      "204 /home/phdcs2/Hard_Disk/Datasets/Deep-Spectral-Segmentation/data/object-segmentation/ECSSD/features/dino_vits16/0205.pth\n",
      "0205\n",
      "Starting Training\n",
      "epoch: 00, loss: -0.15784\n",
      "epoch: 01, loss: -0.14779\n",
      "epoch: 02, loss: -0.14599\n",
      "epoch: 03, loss: -0.15039\n",
      "epoch: 04, loss: -0.15780\n",
      "epoch: 05, loss: -0.16221\n",
      "epoch: 06, loss: -0.16398\n",
      "epoch: 07, loss: -0.16357\n",
      "epoch: 08, loss: -0.16386\n",
      "epoch: 09, loss: -0.16603\n",
      "After Unsqueezing, feature size= torch.Size([450, 384])\n",
      "type(projected_feature) <class 'torch.Tensor'>\n",
      "projected feature shape= torch.Size([450, 128])\n"
     ]
    },
    {
     "name": "stderr",
     "output_type": "stream",
     "text": [
      " 20%|██        | 205/1000 [1:22:41<6:07:03, 27.70s/it]"
     ]
    },
    {
     "name": "stdout",
     "output_type": "stream",
     "text": [
      "eigenvalues shape torch.Size([5]) eigenvectors shape torch.Size([5, 450])\n",
      "205 /home/phdcs2/Hard_Disk/Datasets/Deep-Spectral-Segmentation/data/object-segmentation/ECSSD/features/dino_vits16/0206.pth\n",
      "0206\n",
      "Starting Training\n",
      "epoch: 00, loss: -0.30447\n",
      "epoch: 01, loss: -0.32537\n",
      "epoch: 02, loss: -0.32942\n",
      "epoch: 03, loss: -0.33559\n",
      "epoch: 04, loss: -0.33823\n",
      "epoch: 05, loss: -0.34151\n",
      "epoch: 06, loss: -0.34464\n",
      "epoch: 07, loss: -0.34649\n",
      "epoch: 08, loss: -0.34943\n",
      "epoch: 09, loss: -0.35291\n",
      "After Unsqueezing, feature size= torch.Size([400, 384])\n",
      "type(projected_feature) <class 'torch.Tensor'>\n",
      "projected feature shape= torch.Size([400, 128])\n"
     ]
    },
    {
     "name": "stderr",
     "output_type": "stream",
     "text": [
      " 21%|██        | 206/1000 [1:23:03<5:44:56, 26.07s/it]"
     ]
    },
    {
     "name": "stdout",
     "output_type": "stream",
     "text": [
      "eigenvalues shape torch.Size([5]) eigenvectors shape torch.Size([5, 400])\n",
      "206 /home/phdcs2/Hard_Disk/Datasets/Deep-Spectral-Segmentation/data/object-segmentation/ECSSD/features/dino_vits16/0207.pth\n",
      "0207\n"
     ]
    },
    {
     "name": "stderr",
     "output_type": "stream",
     "text": [
      "/home/phdcs2/Hard_Disk/Projects/T2I/deep-spectral-segmentation/venv/lib/python3.8/site-packages/sklearn/decomposition/_pca.py:545: RuntimeWarning: invalid value encountered in divide\n",
      "  explained_variance_ratio_ = explained_variance_ / total_var\n"
     ]
    },
    {
     "name": "stdout",
     "output_type": "stream",
     "text": [
      "Starting Training\n",
      "epoch: 00, loss: 0.00000\n",
      "epoch: 01, loss: 0.00000\n",
      "epoch: 02, loss: 0.00000\n",
      "epoch: 03, loss: 0.00000\n",
      "epoch: 04, loss: 0.00000\n",
      "epoch: 05, loss: 0.00000\n",
      "epoch: 06, loss: 0.00000\n",
      "epoch: 07, loss: 0.00000\n",
      "epoch: 08, loss: 0.00000\n",
      "epoch: 09, loss: 0.00000\n",
      "After Unsqueezing, feature size= torch.Size([400, 384])\n",
      "type(projected_feature) <class 'torch.Tensor'>\n",
      "projected feature shape= torch.Size([400, 128])\n"
     ]
    },
    {
     "name": "stderr",
     "output_type": "stream",
     "text": [
      " 21%|██        | 207/1000 [1:23:27<5:36:35, 25.47s/it]"
     ]
    },
    {
     "name": "stdout",
     "output_type": "stream",
     "text": [
      "eigenvalues shape torch.Size([5]) eigenvectors shape torch.Size([5, 400])\n",
      "207 /home/phdcs2/Hard_Disk/Datasets/Deep-Spectral-Segmentation/data/object-segmentation/ECSSD/features/dino_vits16/0208.pth\n",
      "0208\n",
      "Starting Training\n",
      "epoch: 00, loss: -0.04105\n",
      "epoch: 01, loss: -0.04238\n",
      "epoch: 02, loss: -0.04248\n",
      "epoch: 03, loss: -0.04265\n",
      "epoch: 04, loss: -0.04292\n",
      "epoch: 05, loss: -0.04310\n",
      "epoch: 06, loss: -0.04349\n",
      "epoch: 07, loss: -0.04370\n",
      "epoch: 08, loss: -0.04396\n",
      "epoch: 09, loss: -0.04418\n",
      "After Unsqueezing, feature size= torch.Size([450, 384])\n",
      "type(projected_feature) <class 'torch.Tensor'>\n",
      "projected feature shape= torch.Size([450, 128])\n"
     ]
    },
    {
     "name": "stderr",
     "output_type": "stream",
     "text": [
      " 21%|██        | 208/1000 [1:23:54<5:41:24, 25.86s/it]"
     ]
    },
    {
     "name": "stdout",
     "output_type": "stream",
     "text": [
      "eigenvalues shape torch.Size([5]) eigenvectors shape torch.Size([5, 450])\n",
      "208 /home/phdcs2/Hard_Disk/Datasets/Deep-Spectral-Segmentation/data/object-segmentation/ECSSD/features/dino_vits16/0209.pth\n",
      "0209\n",
      "Starting Training\n",
      "epoch: 00, loss: -0.03438\n",
      "epoch: 01, loss: -0.04001\n",
      "epoch: 02, loss: -0.04297\n",
      "epoch: 03, loss: -0.04369\n",
      "epoch: 04, loss: -0.04371\n",
      "epoch: 05, loss: -0.04355\n",
      "epoch: 06, loss: -0.04263\n",
      "epoch: 07, loss: -0.04052\n",
      "epoch: 08, loss: -0.04349\n",
      "epoch: 09, loss: -0.04111\n",
      "After Unsqueezing, feature size= torch.Size([500, 384])\n",
      "type(projected_feature) <class 'torch.Tensor'>\n",
      "projected feature shape= torch.Size([500, 128])\n"
     ]
    },
    {
     "name": "stderr",
     "output_type": "stream",
     "text": [
      " 21%|██        | 209/1000 [1:24:21<5:46:01, 26.25s/it]"
     ]
    },
    {
     "name": "stdout",
     "output_type": "stream",
     "text": [
      "eigenvalues shape torch.Size([5]) eigenvectors shape torch.Size([5, 500])\n",
      "209 /home/phdcs2/Hard_Disk/Datasets/Deep-Spectral-Segmentation/data/object-segmentation/ECSSD/features/dino_vits16/0210.pth\n",
      "0210\n"
     ]
    },
    {
     "name": "stderr",
     "output_type": "stream",
     "text": [
      "/home/phdcs2/Hard_Disk/Projects/T2I/deep-spectral-segmentation/venv/lib/python3.8/site-packages/sklearn/decomposition/_pca.py:545: RuntimeWarning: invalid value encountered in divide\n",
      "  explained_variance_ratio_ = explained_variance_ / total_var\n"
     ]
    },
    {
     "name": "stdout",
     "output_type": "stream",
     "text": [
      "Starting Training\n",
      "epoch: 00, loss: 0.00000\n",
      "epoch: 01, loss: 0.00000\n",
      "epoch: 02, loss: 0.00000\n",
      "epoch: 03, loss: 0.00000\n",
      "epoch: 04, loss: 0.00000\n",
      "epoch: 05, loss: 0.00000\n",
      "epoch: 06, loss: 0.00000\n",
      "epoch: 07, loss: 0.00000\n",
      "epoch: 08, loss: 0.00000\n",
      "epoch: 09, loss: 0.00000\n",
      "After Unsqueezing, feature size= torch.Size([425, 384])\n",
      "type(projected_feature) <class 'torch.Tensor'>\n",
      "projected feature shape= torch.Size([425, 128])\n"
     ]
    },
    {
     "name": "stderr",
     "output_type": "stream",
     "text": [
      " 21%|██        | 210/1000 [1:24:42<5:26:22, 24.79s/it]"
     ]
    },
    {
     "name": "stdout",
     "output_type": "stream",
     "text": [
      "eigenvalues shape torch.Size([5]) eigenvectors shape torch.Size([5, 425])\n",
      "210 /home/phdcs2/Hard_Disk/Datasets/Deep-Spectral-Segmentation/data/object-segmentation/ECSSD/features/dino_vits16/0211.pth\n",
      "0211\n"
     ]
    },
    {
     "name": "stderr",
     "output_type": "stream",
     "text": [
      "/home/phdcs2/Hard_Disk/Projects/T2I/deep-spectral-segmentation/venv/lib/python3.8/site-packages/sklearn/decomposition/_pca.py:545: RuntimeWarning: invalid value encountered in divide\n",
      "  explained_variance_ratio_ = explained_variance_ / total_var\n"
     ]
    },
    {
     "name": "stdout",
     "output_type": "stream",
     "text": [
      "Starting Training\n",
      "epoch: 00, loss: 0.00000\n",
      "epoch: 01, loss: 0.00000\n",
      "epoch: 02, loss: 0.00000\n",
      "epoch: 03, loss: 0.00000\n",
      "epoch: 04, loss: 0.00000\n",
      "epoch: 05, loss: 0.00000\n",
      "epoch: 06, loss: 0.00000\n",
      "epoch: 07, loss: 0.00000\n",
      "epoch: 08, loss: 0.00000\n",
      "epoch: 09, loss: 0.00000\n",
      "After Unsqueezing, feature size= torch.Size([500, 384])\n",
      "type(projected_feature) <class 'torch.Tensor'>\n",
      "projected feature shape= torch.Size([500, 128])\n"
     ]
    },
    {
     "name": "stderr",
     "output_type": "stream",
     "text": [
      " 21%|██        | 211/1000 [1:25:09<5:31:19, 25.20s/it]"
     ]
    },
    {
     "name": "stdout",
     "output_type": "stream",
     "text": [
      "eigenvalues shape torch.Size([5]) eigenvectors shape torch.Size([5, 500])\n",
      "211 /home/phdcs2/Hard_Disk/Datasets/Deep-Spectral-Segmentation/data/object-segmentation/ECSSD/features/dino_vits16/0212.pth\n",
      "0212\n",
      "Starting Training\n",
      "epoch: 00, loss: -0.75071\n",
      "epoch: 01, loss: -0.83746\n",
      "epoch: 02, loss: -0.83996\n",
      "epoch: 03, loss: -0.84132\n",
      "epoch: 04, loss: -0.84237\n",
      "epoch: 05, loss: -0.84412\n",
      "epoch: 06, loss: -0.84373\n",
      "epoch: 07, loss: -0.84481\n",
      "epoch: 08, loss: -0.84635\n",
      "epoch: 09, loss: -0.84604\n",
      "After Unsqueezing, feature size= torch.Size([625, 384])\n",
      "type(projected_feature) <class 'torch.Tensor'>\n",
      "projected feature shape= torch.Size([625, 128])\n"
     ]
    },
    {
     "name": "stderr",
     "output_type": "stream",
     "text": [
      " 21%|██        | 212/1000 [1:26:33<9:24:02, 42.95s/it]"
     ]
    },
    {
     "name": "stdout",
     "output_type": "stream",
     "text": [
      "eigenvalues shape torch.Size([5]) eigenvectors shape torch.Size([5, 625])\n",
      "212 /home/phdcs2/Hard_Disk/Datasets/Deep-Spectral-Segmentation/data/object-segmentation/ECSSD/features/dino_vits16/0213.pth\n",
      "0213\n",
      "Starting Training\n",
      "epoch: 00, loss: -0.25709\n",
      "epoch: 01, loss: -0.27010\n",
      "epoch: 02, loss: -0.27629\n",
      "epoch: 03, loss: -0.28101\n",
      "epoch: 04, loss: -0.28853\n",
      "epoch: 05, loss: -0.29364\n",
      "epoch: 06, loss: -0.29927\n",
      "epoch: 07, loss: -0.30549\n",
      "epoch: 08, loss: -0.31107\n",
      "epoch: 09, loss: -0.31758\n",
      "After Unsqueezing, feature size= torch.Size([450, 384])\n",
      "type(projected_feature) <class 'torch.Tensor'>\n",
      "projected feature shape= torch.Size([450, 128])\n"
     ]
    },
    {
     "name": "stderr",
     "output_type": "stream",
     "text": [
      " 21%|██▏       | 213/1000 [1:26:57<8:08:45, 37.26s/it]"
     ]
    },
    {
     "name": "stdout",
     "output_type": "stream",
     "text": [
      "eigenvalues shape torch.Size([5]) eigenvectors shape torch.Size([5, 450])\n",
      "213 /home/phdcs2/Hard_Disk/Datasets/Deep-Spectral-Segmentation/data/object-segmentation/ECSSD/features/dino_vits16/0214.pth\n",
      "0214\n"
     ]
    },
    {
     "name": "stderr",
     "output_type": "stream",
     "text": [
      "/home/phdcs2/Hard_Disk/Projects/T2I/deep-spectral-segmentation/venv/lib/python3.8/site-packages/sklearn/decomposition/_pca.py:545: RuntimeWarning: invalid value encountered in divide\n",
      "  explained_variance_ratio_ = explained_variance_ / total_var\n"
     ]
    },
    {
     "name": "stdout",
     "output_type": "stream",
     "text": [
      "Starting Training\n",
      "epoch: 00, loss: 0.00000\n",
      "epoch: 01, loss: 0.00000\n",
      "epoch: 02, loss: 0.00000\n",
      "epoch: 03, loss: 0.00000\n",
      "epoch: 04, loss: 0.00000\n",
      "epoch: 05, loss: 0.00000\n",
      "epoch: 06, loss: 0.00000\n",
      "epoch: 07, loss: 0.00000\n",
      "epoch: 08, loss: 0.00000\n",
      "epoch: 09, loss: 0.00000\n",
      "After Unsqueezing, feature size= torch.Size([350, 384])\n",
      "type(projected_feature) <class 'torch.Tensor'>\n",
      "projected feature shape= torch.Size([350, 128])\n"
     ]
    },
    {
     "name": "stderr",
     "output_type": "stream",
     "text": [
      " 21%|██▏       | 214/1000 [1:27:15<6:51:23, 31.40s/it]"
     ]
    },
    {
     "name": "stdout",
     "output_type": "stream",
     "text": [
      "eigenvalues shape torch.Size([5]) eigenvectors shape torch.Size([5, 350])\n",
      "214 /home/phdcs2/Hard_Disk/Datasets/Deep-Spectral-Segmentation/data/object-segmentation/ECSSD/features/dino_vits16/0215.pth\n",
      "0215\n",
      "Starting Training\n",
      "epoch: 00, loss: -0.80979\n",
      "epoch: 01, loss: -0.91558\n",
      "epoch: 02, loss: -0.92285\n",
      "epoch: 03, loss: -0.92358\n",
      "epoch: 04, loss: -0.92407\n",
      "epoch: 05, loss: -0.92566\n",
      "epoch: 06, loss: -0.92574\n",
      "epoch: 07, loss: -0.92570\n",
      "epoch: 08, loss: -0.92634\n",
      "epoch: 09, loss: -0.92794\n",
      "After Unsqueezing, feature size= torch.Size([425, 384])\n",
      "type(projected_feature) <class 'torch.Tensor'>\n",
      "projected feature shape= torch.Size([425, 128])\n"
     ]
    },
    {
     "name": "stderr",
     "output_type": "stream",
     "text": [
      " 22%|██▏       | 215/1000 [1:27:36<6:09:50, 28.27s/it]"
     ]
    },
    {
     "name": "stdout",
     "output_type": "stream",
     "text": [
      "eigenvalues shape torch.Size([5]) eigenvectors shape torch.Size([5, 425])\n",
      "215 /home/phdcs2/Hard_Disk/Datasets/Deep-Spectral-Segmentation/data/object-segmentation/ECSSD/features/dino_vits16/0216.pth\n",
      "0216\n"
     ]
    },
    {
     "name": "stderr",
     "output_type": "stream",
     "text": [
      "/home/phdcs2/Hard_Disk/Projects/T2I/deep-spectral-segmentation/venv/lib/python3.8/site-packages/sklearn/decomposition/_pca.py:545: RuntimeWarning: invalid value encountered in divide\n",
      "  explained_variance_ratio_ = explained_variance_ / total_var\n"
     ]
    },
    {
     "name": "stdout",
     "output_type": "stream",
     "text": [
      "Starting Training\n",
      "epoch: 00, loss: 0.00000\n",
      "epoch: 01, loss: 0.00000\n",
      "epoch: 02, loss: 0.00000\n",
      "epoch: 03, loss: 0.00000\n",
      "epoch: 04, loss: 0.00000\n",
      "epoch: 05, loss: 0.00000\n",
      "epoch: 06, loss: 0.00000\n",
      "epoch: 07, loss: 0.00000\n",
      "epoch: 08, loss: 0.00000\n",
      "epoch: 09, loss: 0.00000\n",
      "After Unsqueezing, feature size= torch.Size([450, 384])\n",
      "type(projected_feature) <class 'torch.Tensor'>\n",
      "projected feature shape= torch.Size([450, 128])\n"
     ]
    },
    {
     "name": "stderr",
     "output_type": "stream",
     "text": [
      " 22%|██▏       | 216/1000 [1:27:59<5:51:40, 26.91s/it]"
     ]
    },
    {
     "name": "stdout",
     "output_type": "stream",
     "text": [
      "eigenvalues shape torch.Size([5]) eigenvectors shape torch.Size([5, 450])\n",
      "216 /home/phdcs2/Hard_Disk/Datasets/Deep-Spectral-Segmentation/data/object-segmentation/ECSSD/features/dino_vits16/0217.pth\n",
      "0217\n",
      "Starting Training\n",
      "epoch: 00, loss: -0.31403\n",
      "epoch: 01, loss: -0.32352\n",
      "epoch: 02, loss: -0.33132\n",
      "epoch: 03, loss: -0.33492\n",
      "epoch: 04, loss: -0.33694\n",
      "epoch: 05, loss: -0.34071\n",
      "epoch: 06, loss: -0.34345\n",
      "epoch: 07, loss: -0.34683\n",
      "epoch: 08, loss: -0.34903\n",
      "epoch: 09, loss: -0.35086\n",
      "After Unsqueezing, feature size= torch.Size([450, 384])\n",
      "type(projected_feature) <class 'torch.Tensor'>\n",
      "projected feature shape= torch.Size([450, 128])\n"
     ]
    },
    {
     "name": "stderr",
     "output_type": "stream",
     "text": [
      " 22%|██▏       | 217/1000 [1:28:23<5:37:37, 25.87s/it]"
     ]
    },
    {
     "name": "stdout",
     "output_type": "stream",
     "text": [
      "eigenvalues shape torch.Size([5]) eigenvectors shape torch.Size([5, 450])\n",
      "217 /home/phdcs2/Hard_Disk/Datasets/Deep-Spectral-Segmentation/data/object-segmentation/ECSSD/features/dino_vits16/0218.pth\n",
      "0218\n",
      "Starting Training\n",
      "epoch: 00, loss: -0.32820\n",
      "epoch: 01, loss: -0.36249\n",
      "epoch: 02, loss: -0.38459\n",
      "epoch: 03, loss: -0.39909\n",
      "epoch: 04, loss: -0.42076\n",
      "epoch: 05, loss: -0.44638\n",
      "epoch: 06, loss: -0.47058\n",
      "epoch: 07, loss: -0.48452\n",
      "epoch: 08, loss: -0.50079\n",
      "epoch: 09, loss: -0.50830\n",
      "After Unsqueezing, feature size= torch.Size([500, 384])\n",
      "type(projected_feature) <class 'torch.Tensor'>\n",
      "projected feature shape= torch.Size([500, 128])\n"
     ]
    },
    {
     "name": "stderr",
     "output_type": "stream",
     "text": [
      " 22%|██▏       | 218/1000 [1:28:49<5:37:44, 25.91s/it]"
     ]
    },
    {
     "name": "stdout",
     "output_type": "stream",
     "text": [
      "eigenvalues shape torch.Size([5]) eigenvectors shape torch.Size([5, 500])\n",
      "218 /home/phdcs2/Hard_Disk/Datasets/Deep-Spectral-Segmentation/data/object-segmentation/ECSSD/features/dino_vits16/0219.pth\n",
      "0219\n",
      "Starting Training\n",
      "epoch: 00, loss: -0.21125\n",
      "epoch: 01, loss: -0.17905\n",
      "epoch: 02, loss: -0.16858\n",
      "epoch: 03, loss: -0.17436\n",
      "epoch: 04, loss: -0.17041\n",
      "epoch: 05, loss: -0.16667\n",
      "epoch: 06, loss: -0.16419\n",
      "epoch: 07, loss: -0.16547\n",
      "epoch: 08, loss: -0.16430\n",
      "epoch: 09, loss: -0.16536\n",
      "After Unsqueezing, feature size= torch.Size([450, 384])\n",
      "type(projected_feature) <class 'torch.Tensor'>\n",
      "projected feature shape= torch.Size([450, 128])\n"
     ]
    },
    {
     "name": "stderr",
     "output_type": "stream",
     "text": [
      " 22%|██▏       | 219/1000 [1:29:12<5:28:01, 25.20s/it]"
     ]
    },
    {
     "name": "stdout",
     "output_type": "stream",
     "text": [
      "eigenvalues shape torch.Size([5]) eigenvectors shape torch.Size([5, 450])\n",
      "219 /home/phdcs2/Hard_Disk/Datasets/Deep-Spectral-Segmentation/data/object-segmentation/ECSSD/features/dino_vits16/0220.pth\n",
      "0220\n",
      "Starting Training\n",
      "epoch: 00, loss: -0.31041\n",
      "epoch: 01, loss: -0.32764\n",
      "epoch: 02, loss: -0.33409\n",
      "epoch: 03, loss: -0.34107\n",
      "epoch: 04, loss: -0.34599\n",
      "epoch: 05, loss: -0.34795\n",
      "epoch: 06, loss: -0.35030\n",
      "epoch: 07, loss: -0.35416\n",
      "epoch: 08, loss: -0.35720\n",
      "epoch: 09, loss: -0.36191\n",
      "After Unsqueezing, feature size= torch.Size([500, 384])\n",
      "type(projected_feature) <class 'torch.Tensor'>\n",
      "projected feature shape= torch.Size([500, 128])\n"
     ]
    },
    {
     "name": "stderr",
     "output_type": "stream",
     "text": [
      " 22%|██▏       | 220/1000 [1:29:40<5:35:46, 25.83s/it]"
     ]
    },
    {
     "name": "stdout",
     "output_type": "stream",
     "text": [
      "eigenvalues shape torch.Size([5]) eigenvectors shape torch.Size([5, 500])\n",
      "220 /home/phdcs2/Hard_Disk/Datasets/Deep-Spectral-Segmentation/data/object-segmentation/ECSSD/features/dino_vits16/0221.pth\n",
      "0221\n"
     ]
    },
    {
     "name": "stderr",
     "output_type": "stream",
     "text": [
      "/home/phdcs2/Hard_Disk/Projects/T2I/deep-spectral-segmentation/venv/lib/python3.8/site-packages/sklearn/decomposition/_pca.py:545: RuntimeWarning: invalid value encountered in divide\n",
      "  explained_variance_ratio_ = explained_variance_ / total_var\n"
     ]
    },
    {
     "name": "stdout",
     "output_type": "stream",
     "text": [
      "Starting Training\n",
      "epoch: 00, loss: 0.00000\n",
      "epoch: 01, loss: 0.00000\n",
      "epoch: 02, loss: 0.00000\n",
      "epoch: 03, loss: 0.00000\n",
      "epoch: 04, loss: 0.00000\n",
      "epoch: 05, loss: 0.00000\n",
      "epoch: 06, loss: 0.00000\n",
      "epoch: 07, loss: 0.00000\n",
      "epoch: 08, loss: 0.00000\n",
      "epoch: 09, loss: 0.00000\n",
      "After Unsqueezing, feature size= torch.Size([400, 384])\n",
      "type(projected_feature) <class 'torch.Tensor'>\n",
      "projected feature shape= torch.Size([400, 128])\n"
     ]
    },
    {
     "name": "stderr",
     "output_type": "stream",
     "text": [
      " 22%|██▏       | 221/1000 [1:30:01<5:17:18, 24.44s/it]"
     ]
    },
    {
     "name": "stdout",
     "output_type": "stream",
     "text": [
      "eigenvalues shape torch.Size([5]) eigenvectors shape torch.Size([5, 400])\n",
      "221 /home/phdcs2/Hard_Disk/Datasets/Deep-Spectral-Segmentation/data/object-segmentation/ECSSD/features/dino_vits16/0222.pth\n",
      "0222\n"
     ]
    },
    {
     "name": "stderr",
     "output_type": "stream",
     "text": [
      "/home/phdcs2/Hard_Disk/Projects/T2I/deep-spectral-segmentation/venv/lib/python3.8/site-packages/sklearn/decomposition/_pca.py:545: RuntimeWarning: invalid value encountered in divide\n",
      "  explained_variance_ratio_ = explained_variance_ / total_var\n"
     ]
    },
    {
     "name": "stdout",
     "output_type": "stream",
     "text": [
      "Starting Training\n",
      "epoch: 00, loss: 0.00000\n",
      "epoch: 01, loss: 0.00000\n",
      "epoch: 02, loss: 0.00000\n",
      "epoch: 03, loss: 0.00000\n",
      "epoch: 04, loss: 0.00000\n",
      "epoch: 05, loss: 0.00000\n",
      "epoch: 06, loss: 0.00000\n",
      "epoch: 07, loss: 0.00000\n",
      "epoch: 08, loss: 0.00000\n",
      "epoch: 09, loss: 0.00000\n",
      "After Unsqueezing, feature size= torch.Size([500, 384])\n",
      "type(projected_feature) <class 'torch.Tensor'>\n",
      "projected feature shape= torch.Size([500, 128])\n"
     ]
    },
    {
     "name": "stderr",
     "output_type": "stream",
     "text": [
      " 22%|██▏       | 222/1000 [1:30:28<5:27:55, 25.29s/it]"
     ]
    },
    {
     "name": "stdout",
     "output_type": "stream",
     "text": [
      "eigenvalues shape torch.Size([5]) eigenvectors shape torch.Size([5, 500])\n",
      "222 /home/phdcs2/Hard_Disk/Datasets/Deep-Spectral-Segmentation/data/object-segmentation/ECSSD/features/dino_vits16/0223.pth\n",
      "0223\n"
     ]
    },
    {
     "name": "stderr",
     "output_type": "stream",
     "text": [
      "/home/phdcs2/Hard_Disk/Projects/T2I/deep-spectral-segmentation/venv/lib/python3.8/site-packages/sklearn/decomposition/_pca.py:545: RuntimeWarning: invalid value encountered in divide\n",
      "  explained_variance_ratio_ = explained_variance_ / total_var\n"
     ]
    },
    {
     "name": "stdout",
     "output_type": "stream",
     "text": [
      "Starting Training\n",
      "epoch: 00, loss: 0.00000\n",
      "epoch: 01, loss: 0.00000\n",
      "epoch: 02, loss: 0.00000\n",
      "epoch: 03, loss: 0.00000\n",
      "epoch: 04, loss: 0.00000\n",
      "epoch: 05, loss: 0.00000\n",
      "epoch: 06, loss: 0.00000\n",
      "epoch: 07, loss: 0.00000\n",
      "epoch: 08, loss: 0.00000\n",
      "epoch: 09, loss: 0.00000\n",
      "After Unsqueezing, feature size= torch.Size([500, 384])\n",
      "type(projected_feature) <class 'torch.Tensor'>\n",
      "projected feature shape= torch.Size([500, 128])\n"
     ]
    },
    {
     "name": "stderr",
     "output_type": "stream",
     "text": [
      " 22%|██▏       | 223/1000 [1:30:55<5:33:13, 25.73s/it]"
     ]
    },
    {
     "name": "stdout",
     "output_type": "stream",
     "text": [
      "eigenvalues shape torch.Size([5]) eigenvectors shape torch.Size([5, 500])\n",
      "223 /home/phdcs2/Hard_Disk/Datasets/Deep-Spectral-Segmentation/data/object-segmentation/ECSSD/features/dino_vits16/0224.pth\n",
      "0224\n",
      "Starting Training\n",
      "epoch: 00, loss: -0.32751\n",
      "epoch: 01, loss: -0.34916\n",
      "epoch: 02, loss: -0.35851\n",
      "epoch: 03, loss: -0.36385\n",
      "epoch: 04, loss: -0.36663\n",
      "epoch: 05, loss: -0.37157\n",
      "epoch: 06, loss: -0.37363\n",
      "epoch: 07, loss: -0.37557\n",
      "epoch: 08, loss: -0.38014\n",
      "epoch: 09, loss: -0.38363\n",
      "After Unsqueezing, feature size= torch.Size([500, 384])\n",
      "type(projected_feature) <class 'torch.Tensor'>\n",
      "projected feature shape= torch.Size([500, 128])\n"
     ]
    },
    {
     "name": "stderr",
     "output_type": "stream",
     "text": [
      " 22%|██▏       | 224/1000 [1:31:26<5:54:26, 27.41s/it]"
     ]
    },
    {
     "name": "stdout",
     "output_type": "stream",
     "text": [
      "eigenvalues shape torch.Size([5]) eigenvectors shape torch.Size([5, 500])\n",
      "224 /home/phdcs2/Hard_Disk/Datasets/Deep-Spectral-Segmentation/data/object-segmentation/ECSSD/features/dino_vits16/0225.pth\n",
      "0225\n"
     ]
    },
    {
     "name": "stderr",
     "output_type": "stream",
     "text": [
      "/home/phdcs2/Hard_Disk/Projects/T2I/deep-spectral-segmentation/venv/lib/python3.8/site-packages/sklearn/decomposition/_pca.py:545: RuntimeWarning: invalid value encountered in divide\n",
      "  explained_variance_ratio_ = explained_variance_ / total_var\n"
     ]
    },
    {
     "name": "stdout",
     "output_type": "stream",
     "text": [
      "Starting Training\n",
      "epoch: 00, loss: 0.00000\n",
      "epoch: 01, loss: 0.00000\n",
      "epoch: 02, loss: 0.00000\n",
      "epoch: 03, loss: 0.00000\n",
      "epoch: 04, loss: 0.00000\n",
      "epoch: 05, loss: 0.00000\n",
      "epoch: 06, loss: 0.00000\n",
      "epoch: 07, loss: 0.00000\n",
      "epoch: 08, loss: 0.00000\n",
      "epoch: 09, loss: 0.00000\n",
      "After Unsqueezing, feature size= torch.Size([450, 384])\n",
      "type(projected_feature) <class 'torch.Tensor'>\n",
      "projected feature shape= torch.Size([450, 128])\n"
     ]
    },
    {
     "name": "stderr",
     "output_type": "stream",
     "text": [
      " 22%|██▎       | 225/1000 [1:31:50<5:38:47, 26.23s/it]"
     ]
    },
    {
     "name": "stdout",
     "output_type": "stream",
     "text": [
      "eigenvalues shape torch.Size([5]) eigenvectors shape torch.Size([5, 450])\n",
      "225 /home/phdcs2/Hard_Disk/Datasets/Deep-Spectral-Segmentation/data/object-segmentation/ECSSD/features/dino_vits16/0226.pth\n",
      "0226\n"
     ]
    },
    {
     "name": "stderr",
     "output_type": "stream",
     "text": [
      "/home/phdcs2/Hard_Disk/Projects/T2I/deep-spectral-segmentation/venv/lib/python3.8/site-packages/sklearn/decomposition/_pca.py:545: RuntimeWarning: invalid value encountered in divide\n",
      "  explained_variance_ratio_ = explained_variance_ / total_var\n"
     ]
    },
    {
     "name": "stdout",
     "output_type": "stream",
     "text": [
      "Starting Training\n",
      "epoch: 00, loss: 0.00000\n",
      "epoch: 01, loss: 0.00000\n",
      "epoch: 02, loss: 0.00000\n",
      "epoch: 03, loss: 0.00000\n",
      "epoch: 04, loss: 0.00000\n",
      "epoch: 05, loss: 0.00000\n",
      "epoch: 06, loss: 0.00000\n",
      "epoch: 07, loss: 0.00000\n",
      "epoch: 08, loss: 0.00000\n",
      "epoch: 09, loss: 0.00000\n",
      "After Unsqueezing, feature size= torch.Size([400, 384])\n",
      "type(projected_feature) <class 'torch.Tensor'>\n",
      "projected feature shape= torch.Size([400, 128])\n"
     ]
    },
    {
     "name": "stderr",
     "output_type": "stream",
     "text": [
      " 23%|██▎       | 226/1000 [1:32:14<5:29:43, 25.56s/it]"
     ]
    },
    {
     "name": "stdout",
     "output_type": "stream",
     "text": [
      "eigenvalues shape torch.Size([5]) eigenvectors shape torch.Size([5, 400])\n",
      "226 /home/phdcs2/Hard_Disk/Datasets/Deep-Spectral-Segmentation/data/object-segmentation/ECSSD/features/dino_vits16/0227.pth\n",
      "0227\n",
      "Starting Training\n",
      "epoch: 00, loss: -0.18785\n",
      "epoch: 01, loss: -0.19277\n",
      "epoch: 02, loss: -0.19482\n",
      "epoch: 03, loss: -0.19204\n",
      "epoch: 04, loss: -0.19205\n",
      "epoch: 05, loss: -0.19435\n",
      "epoch: 06, loss: -0.19473\n",
      "epoch: 07, loss: -0.19590\n",
      "epoch: 08, loss: -0.19813\n",
      "epoch: 09, loss: -0.20149\n",
      "After Unsqueezing, feature size= torch.Size([375, 384])\n",
      "type(projected_feature) <class 'torch.Tensor'>\n",
      "projected feature shape= torch.Size([375, 128])\n"
     ]
    },
    {
     "name": "stderr",
     "output_type": "stream",
     "text": [
      " 23%|██▎       | 227/1000 [1:32:35<5:14:11, 24.39s/it]"
     ]
    },
    {
     "name": "stdout",
     "output_type": "stream",
     "text": [
      "eigenvalues shape torch.Size([5]) eigenvectors shape torch.Size([5, 375])\n",
      "227 /home/phdcs2/Hard_Disk/Datasets/Deep-Spectral-Segmentation/data/object-segmentation/ECSSD/features/dino_vits16/0228.pth\n",
      "0228\n",
      "Starting Training\n",
      "epoch: 00, loss: -0.73528\n",
      "epoch: 01, loss: -0.85410\n",
      "epoch: 02, loss: -0.85780\n",
      "epoch: 03, loss: -0.85886\n",
      "epoch: 04, loss: -0.85905\n",
      "epoch: 05, loss: -0.85992\n",
      "epoch: 06, loss: -0.86048\n",
      "epoch: 07, loss: -0.85943\n",
      "epoch: 08, loss: -0.86076\n",
      "epoch: 09, loss: -0.85974\n",
      "After Unsqueezing, feature size= torch.Size([375, 384])\n",
      "type(projected_feature) <class 'torch.Tensor'>\n",
      "projected feature shape= torch.Size([375, 128])\n"
     ]
    },
    {
     "name": "stderr",
     "output_type": "stream",
     "text": [
      " 23%|██▎       | 228/1000 [1:32:58<5:06:38, 23.83s/it]"
     ]
    },
    {
     "name": "stdout",
     "output_type": "stream",
     "text": [
      "eigenvalues shape torch.Size([5]) eigenvectors shape torch.Size([5, 375])\n",
      "228 /home/phdcs2/Hard_Disk/Datasets/Deep-Spectral-Segmentation/data/object-segmentation/ECSSD/features/dino_vits16/0229.pth\n",
      "0229\n",
      "Starting Training\n",
      "epoch: 00, loss: -0.30943\n",
      "epoch: 01, loss: -0.32717\n",
      "epoch: 02, loss: -0.33721\n",
      "epoch: 03, loss: -0.34267\n",
      "epoch: 04, loss: -0.34862\n",
      "epoch: 05, loss: -0.35177\n",
      "epoch: 06, loss: -0.35545\n",
      "epoch: 07, loss: -0.35931\n",
      "epoch: 08, loss: -0.36370\n",
      "epoch: 09, loss: -0.36684\n",
      "After Unsqueezing, feature size= torch.Size([400, 384])\n",
      "type(projected_feature) <class 'torch.Tensor'>\n",
      "projected feature shape= torch.Size([400, 128])\n"
     ]
    },
    {
     "name": "stderr",
     "output_type": "stream",
     "text": [
      " 23%|██▎       | 229/1000 [1:33:21<5:04:19, 23.68s/it]"
     ]
    },
    {
     "name": "stdout",
     "output_type": "stream",
     "text": [
      "eigenvalues shape torch.Size([5]) eigenvectors shape torch.Size([5, 400])\n",
      "229 /home/phdcs2/Hard_Disk/Datasets/Deep-Spectral-Segmentation/data/object-segmentation/ECSSD/features/dino_vits16/0230.pth\n",
      "0230\n"
     ]
    },
    {
     "name": "stderr",
     "output_type": "stream",
     "text": [
      "/home/phdcs2/Hard_Disk/Projects/T2I/deep-spectral-segmentation/venv/lib/python3.8/site-packages/sklearn/decomposition/_pca.py:545: RuntimeWarning: invalid value encountered in divide\n",
      "  explained_variance_ratio_ = explained_variance_ / total_var\n"
     ]
    },
    {
     "name": "stdout",
     "output_type": "stream",
     "text": [
      "Starting Training\n",
      "epoch: 00, loss: 0.00000\n",
      "epoch: 01, loss: 0.00000\n",
      "epoch: 02, loss: 0.00000\n",
      "epoch: 03, loss: 0.00000\n",
      "epoch: 04, loss: 0.00000\n",
      "epoch: 05, loss: 0.00000\n",
      "epoch: 06, loss: 0.00000\n",
      "epoch: 07, loss: 0.00000\n",
      "epoch: 08, loss: 0.00000\n",
      "epoch: 09, loss: 0.00000\n",
      "After Unsqueezing, feature size= torch.Size([450, 384])\n",
      "type(projected_feature) <class 'torch.Tensor'>\n",
      "projected feature shape= torch.Size([450, 128])\n"
     ]
    },
    {
     "name": "stderr",
     "output_type": "stream",
     "text": [
      " 23%|██▎       | 230/1000 [1:33:48<5:16:04, 24.63s/it]"
     ]
    },
    {
     "name": "stdout",
     "output_type": "stream",
     "text": [
      "eigenvalues shape torch.Size([5]) eigenvectors shape torch.Size([5, 450])\n",
      "230 /home/phdcs2/Hard_Disk/Datasets/Deep-Spectral-Segmentation/data/object-segmentation/ECSSD/features/dino_vits16/0231.pth\n",
      "0231\n"
     ]
    },
    {
     "name": "stderr",
     "output_type": "stream",
     "text": [
      "/home/phdcs2/Hard_Disk/Projects/T2I/deep-spectral-segmentation/venv/lib/python3.8/site-packages/sklearn/decomposition/_pca.py:545: RuntimeWarning: invalid value encountered in divide\n",
      "  explained_variance_ratio_ = explained_variance_ / total_var\n"
     ]
    },
    {
     "name": "stdout",
     "output_type": "stream",
     "text": [
      "Starting Training\n",
      "epoch: 00, loss: 0.00000\n",
      "epoch: 01, loss: 0.00000\n",
      "epoch: 02, loss: 0.00000\n",
      "epoch: 03, loss: 0.00000\n",
      "epoch: 04, loss: 0.00000\n",
      "epoch: 05, loss: 0.00000\n",
      "epoch: 06, loss: 0.00000\n",
      "epoch: 07, loss: 0.00000\n",
      "epoch: 08, loss: 0.00000\n",
      "epoch: 09, loss: 0.00000\n",
      "After Unsqueezing, feature size= torch.Size([525, 384])\n",
      "type(projected_feature) <class 'torch.Tensor'>\n",
      "projected feature shape= torch.Size([525, 128])\n"
     ]
    },
    {
     "name": "stderr",
     "output_type": "stream",
     "text": [
      " 23%|██▎       | 231/1000 [1:35:06<8:40:45, 40.63s/it]"
     ]
    },
    {
     "name": "stdout",
     "output_type": "stream",
     "text": [
      "eigenvalues shape torch.Size([5]) eigenvectors shape torch.Size([5, 525])\n",
      "231 /home/phdcs2/Hard_Disk/Datasets/Deep-Spectral-Segmentation/data/object-segmentation/ECSSD/features/dino_vits16/0232.pth\n",
      "0232\n",
      "Starting Training\n",
      "epoch: 00, loss: -0.30111\n",
      "epoch: 01, loss: -0.31150\n",
      "epoch: 02, loss: -0.31607\n",
      "epoch: 03, loss: -0.32024\n",
      "epoch: 04, loss: -0.32360\n",
      "epoch: 05, loss: -0.32611\n",
      "epoch: 06, loss: -0.32960\n",
      "epoch: 07, loss: -0.33371\n",
      "epoch: 08, loss: -0.33633\n",
      "epoch: 09, loss: -0.33803\n",
      "After Unsqueezing, feature size= torch.Size([500, 384])\n",
      "type(projected_feature) <class 'torch.Tensor'>\n",
      "projected feature shape= torch.Size([500, 128])\n"
     ]
    },
    {
     "name": "stderr",
     "output_type": "stream",
     "text": [
      " 23%|██▎       | 232/1000 [1:35:33<7:48:53, 36.63s/it]"
     ]
    },
    {
     "name": "stdout",
     "output_type": "stream",
     "text": [
      "eigenvalues shape torch.Size([5]) eigenvectors shape torch.Size([5, 500])\n",
      "232 /home/phdcs2/Hard_Disk/Datasets/Deep-Spectral-Segmentation/data/object-segmentation/ECSSD/features/dino_vits16/0233.pth\n",
      "0233\n",
      "Starting Training\n",
      "epoch: 00, loss: -0.30882\n",
      "epoch: 01, loss: -0.32253\n",
      "epoch: 02, loss: -0.33185\n",
      "epoch: 03, loss: -0.33949\n",
      "epoch: 04, loss: -0.34488\n",
      "epoch: 05, loss: -0.34930\n",
      "epoch: 06, loss: -0.35496\n",
      "epoch: 07, loss: -0.35938\n",
      "epoch: 08, loss: -0.36254\n",
      "epoch: 09, loss: -0.36694\n",
      "After Unsqueezing, feature size= torch.Size([475, 384])\n",
      "type(projected_feature) <class 'torch.Tensor'>\n",
      "projected feature shape= torch.Size([475, 128])\n"
     ]
    },
    {
     "name": "stderr",
     "output_type": "stream",
     "text": [
      " 23%|██▎       | 233/1000 [1:35:56<6:54:41, 32.44s/it]"
     ]
    },
    {
     "name": "stdout",
     "output_type": "stream",
     "text": [
      "eigenvalues shape torch.Size([5]) eigenvectors shape torch.Size([5, 475])\n",
      "233 /home/phdcs2/Hard_Disk/Datasets/Deep-Spectral-Segmentation/data/object-segmentation/ECSSD/features/dino_vits16/0234.pth\n",
      "0234\n",
      "Starting Training\n",
      "epoch: 00, loss: -0.31521\n",
      "epoch: 01, loss: -0.32816\n",
      "epoch: 02, loss: -0.33689\n",
      "epoch: 03, loss: -0.34249\n",
      "epoch: 04, loss: -0.34885\n",
      "epoch: 05, loss: -0.35407\n",
      "epoch: 06, loss: -0.35703\n",
      "epoch: 07, loss: -0.36049\n",
      "epoch: 08, loss: -0.36327\n",
      "epoch: 09, loss: -0.36730\n",
      "After Unsqueezing, feature size= torch.Size([400, 384])\n",
      "type(projected_feature) <class 'torch.Tensor'>\n",
      "projected feature shape= torch.Size([400, 128])\n"
     ]
    },
    {
     "name": "stderr",
     "output_type": "stream",
     "text": [
      " 23%|██▎       | 234/1000 [1:36:18<6:15:52, 29.44s/it]"
     ]
    },
    {
     "name": "stdout",
     "output_type": "stream",
     "text": [
      "eigenvalues shape torch.Size([5]) eigenvectors shape torch.Size([5, 400])\n",
      "234 /home/phdcs2/Hard_Disk/Datasets/Deep-Spectral-Segmentation/data/object-segmentation/ECSSD/features/dino_vits16/0235.pth\n",
      "0235\n",
      "Starting Training\n",
      "epoch: 00, loss: -0.31842\n",
      "epoch: 01, loss: -0.34564\n",
      "epoch: 02, loss: -0.35327\n",
      "epoch: 03, loss: -0.35541\n",
      "epoch: 04, loss: -0.36209\n",
      "epoch: 05, loss: -0.36549\n",
      "epoch: 06, loss: -0.36901\n",
      "epoch: 07, loss: -0.37189\n",
      "epoch: 08, loss: -0.37592\n",
      "epoch: 09, loss: -0.37985\n",
      "After Unsqueezing, feature size= torch.Size([400, 384])\n",
      "type(projected_feature) <class 'torch.Tensor'>\n",
      "projected feature shape= torch.Size([400, 128])\n"
     ]
    },
    {
     "name": "stderr",
     "output_type": "stream",
     "text": [
      " 24%|██▎       | 235/1000 [1:36:39<5:42:36, 26.87s/it]"
     ]
    },
    {
     "name": "stdout",
     "output_type": "stream",
     "text": [
      "eigenvalues shape torch.Size([5]) eigenvectors shape torch.Size([5, 400])\n",
      "235 /home/phdcs2/Hard_Disk/Datasets/Deep-Spectral-Segmentation/data/object-segmentation/ECSSD/features/dino_vits16/0236.pth\n",
      "0236\n"
     ]
    },
    {
     "name": "stderr",
     "output_type": "stream",
     "text": [
      "/home/phdcs2/Hard_Disk/Projects/T2I/deep-spectral-segmentation/venv/lib/python3.8/site-packages/sklearn/decomposition/_pca.py:545: RuntimeWarning: invalid value encountered in divide\n",
      "  explained_variance_ratio_ = explained_variance_ / total_var\n"
     ]
    },
    {
     "name": "stdout",
     "output_type": "stream",
     "text": [
      "Starting Training\n",
      "epoch: 00, loss: 0.00000\n",
      "epoch: 01, loss: 0.00000\n",
      "epoch: 02, loss: 0.00000\n",
      "epoch: 03, loss: 0.00000\n",
      "epoch: 04, loss: 0.00000\n",
      "epoch: 05, loss: 0.00000\n",
      "epoch: 06, loss: 0.00000\n",
      "epoch: 07, loss: 0.00000\n",
      "epoch: 08, loss: 0.00000\n",
      "epoch: 09, loss: 0.00000\n",
      "After Unsqueezing, feature size= torch.Size([400, 384])\n",
      "type(projected_feature) <class 'torch.Tensor'>\n",
      "projected feature shape= torch.Size([400, 128])\n"
     ]
    },
    {
     "name": "stderr",
     "output_type": "stream",
     "text": [
      " 24%|██▎       | 236/1000 [1:37:01<5:23:38, 25.42s/it]"
     ]
    },
    {
     "name": "stdout",
     "output_type": "stream",
     "text": [
      "eigenvalues shape torch.Size([5]) eigenvectors shape torch.Size([5, 400])\n",
      "236 /home/phdcs2/Hard_Disk/Datasets/Deep-Spectral-Segmentation/data/object-segmentation/ECSSD/features/dino_vits16/0237.pth\n",
      "0237\n",
      "Starting Training\n",
      "epoch: 00, loss: -0.16957\n",
      "epoch: 01, loss: -0.14768\n",
      "epoch: 02, loss: -0.14784\n",
      "epoch: 03, loss: -0.14889\n",
      "epoch: 04, loss: -0.14940\n",
      "epoch: 05, loss: -0.14829\n",
      "epoch: 06, loss: -0.14990\n",
      "epoch: 07, loss: -0.14916\n",
      "epoch: 08, loss: -0.14875\n",
      "epoch: 09, loss: -0.14933\n",
      "After Unsqueezing, feature size= torch.Size([400, 384])\n",
      "type(projected_feature) <class 'torch.Tensor'>\n",
      "projected feature shape= torch.Size([400, 128])\n"
     ]
    },
    {
     "name": "stderr",
     "output_type": "stream",
     "text": [
      " 24%|██▎       | 237/1000 [1:37:22<5:04:20, 23.93s/it]"
     ]
    },
    {
     "name": "stdout",
     "output_type": "stream",
     "text": [
      "eigenvalues shape torch.Size([5]) eigenvectors shape torch.Size([5, 400])\n",
      "237 /home/phdcs2/Hard_Disk/Datasets/Deep-Spectral-Segmentation/data/object-segmentation/ECSSD/features/dino_vits16/0238.pth\n",
      "0238\n",
      "Starting Training\n",
      "epoch: 00, loss: -0.02629\n",
      "epoch: 01, loss: -0.03276\n",
      "epoch: 02, loss: -0.03361\n",
      "epoch: 03, loss: -0.03390\n",
      "epoch: 04, loss: -0.03390\n",
      "epoch: 05, loss: -0.03388\n",
      "epoch: 06, loss: -0.03392\n",
      "epoch: 07, loss: -0.03403\n",
      "epoch: 08, loss: -0.03402\n",
      "epoch: 09, loss: -0.03396\n",
      "After Unsqueezing, feature size= torch.Size([400, 384])\n",
      "type(projected_feature) <class 'torch.Tensor'>\n",
      "projected feature shape= torch.Size([400, 128])\n"
     ]
    },
    {
     "name": "stderr",
     "output_type": "stream",
     "text": [
      " 24%|██▍       | 238/1000 [1:37:44<4:56:53, 23.38s/it]"
     ]
    },
    {
     "name": "stdout",
     "output_type": "stream",
     "text": [
      "eigenvalues shape torch.Size([5]) eigenvectors shape torch.Size([5, 400])\n",
      "238 /home/phdcs2/Hard_Disk/Datasets/Deep-Spectral-Segmentation/data/object-segmentation/ECSSD/features/dino_vits16/0239.pth\n",
      "0239\n"
     ]
    },
    {
     "name": "stderr",
     "output_type": "stream",
     "text": [
      "/home/phdcs2/Hard_Disk/Projects/T2I/deep-spectral-segmentation/venv/lib/python3.8/site-packages/sklearn/decomposition/_pca.py:545: RuntimeWarning: invalid value encountered in divide\n",
      "  explained_variance_ratio_ = explained_variance_ / total_var\n"
     ]
    },
    {
     "name": "stdout",
     "output_type": "stream",
     "text": [
      "Starting Training\n",
      "epoch: 00, loss: 0.00000\n",
      "epoch: 01, loss: 0.00000\n",
      "epoch: 02, loss: 0.00000\n",
      "epoch: 03, loss: 0.00000\n",
      "epoch: 04, loss: 0.00000\n",
      "epoch: 05, loss: 0.00000\n",
      "epoch: 06, loss: 0.00000\n",
      "epoch: 07, loss: 0.00000\n",
      "epoch: 08, loss: 0.00000\n",
      "epoch: 09, loss: 0.00000\n",
      "After Unsqueezing, feature size= torch.Size([400, 384])\n",
      "type(projected_feature) <class 'torch.Tensor'>\n",
      "projected feature shape= torch.Size([400, 128])\n"
     ]
    },
    {
     "name": "stderr",
     "output_type": "stream",
     "text": [
      " 24%|██▍       | 239/1000 [1:38:03<4:40:18, 22.10s/it]"
     ]
    },
    {
     "name": "stdout",
     "output_type": "stream",
     "text": [
      "eigenvalues shape torch.Size([5]) eigenvectors shape torch.Size([5, 400])\n",
      "239 /home/phdcs2/Hard_Disk/Datasets/Deep-Spectral-Segmentation/data/object-segmentation/ECSSD/features/dino_vits16/0240.pth\n",
      "0240\n"
     ]
    },
    {
     "name": "stderr",
     "output_type": "stream",
     "text": [
      "/home/phdcs2/Hard_Disk/Projects/T2I/deep-spectral-segmentation/venv/lib/python3.8/site-packages/sklearn/decomposition/_pca.py:545: RuntimeWarning: invalid value encountered in divide\n",
      "  explained_variance_ratio_ = explained_variance_ / total_var\n"
     ]
    },
    {
     "name": "stdout",
     "output_type": "stream",
     "text": [
      "Starting Training\n",
      "epoch: 00, loss: 0.00000\n",
      "epoch: 01, loss: 0.00000\n",
      "epoch: 02, loss: 0.00000\n",
      "epoch: 03, loss: 0.00000\n",
      "epoch: 04, loss: 0.00000\n",
      "epoch: 05, loss: 0.00000\n",
      "epoch: 06, loss: 0.00000\n",
      "epoch: 07, loss: 0.00000\n",
      "epoch: 08, loss: 0.00000\n",
      "epoch: 09, loss: 0.00000\n",
      "After Unsqueezing, feature size= torch.Size([350, 384])\n",
      "type(projected_feature) <class 'torch.Tensor'>\n",
      "projected feature shape= torch.Size([350, 128])\n"
     ]
    },
    {
     "name": "stderr",
     "output_type": "stream",
     "text": [
      " 24%|██▍       | 240/1000 [1:38:22<4:29:05, 21.24s/it]"
     ]
    },
    {
     "name": "stdout",
     "output_type": "stream",
     "text": [
      "eigenvalues shape torch.Size([5]) eigenvectors shape torch.Size([5, 350])\n",
      "240 /home/phdcs2/Hard_Disk/Datasets/Deep-Spectral-Segmentation/data/object-segmentation/ECSSD/features/dino_vits16/0241.pth\n",
      "0241\n",
      "Starting Training\n",
      "epoch: 00, loss: -0.23306\n",
      "epoch: 01, loss: -0.16903\n",
      "epoch: 02, loss: -0.16528\n",
      "epoch: 03, loss: -0.16512\n",
      "epoch: 04, loss: -0.16668\n",
      "epoch: 05, loss: -0.16918\n",
      "epoch: 06, loss: -0.17177\n",
      "epoch: 07, loss: -0.17385\n",
      "epoch: 08, loss: -0.17319\n",
      "epoch: 09, loss: -0.17533\n",
      "After Unsqueezing, feature size= torch.Size([400, 384])\n",
      "type(projected_feature) <class 'torch.Tensor'>\n",
      "projected feature shape= torch.Size([400, 128])\n"
     ]
    },
    {
     "name": "stderr",
     "output_type": "stream",
     "text": [
      " 24%|██▍       | 241/1000 [1:38:42<4:24:29, 20.91s/it]"
     ]
    },
    {
     "name": "stdout",
     "output_type": "stream",
     "text": [
      "eigenvalues shape torch.Size([5]) eigenvectors shape torch.Size([5, 400])\n",
      "241 /home/phdcs2/Hard_Disk/Datasets/Deep-Spectral-Segmentation/data/object-segmentation/ECSSD/features/dino_vits16/0242.pth\n",
      "0242\n",
      "Starting Training\n",
      "epoch: 00, loss: -0.33863\n",
      "epoch: 01, loss: -0.19144\n",
      "epoch: 02, loss: -0.19502\n",
      "epoch: 03, loss: -0.19759\n",
      "epoch: 04, loss: -0.20008\n",
      "epoch: 05, loss: -0.19961\n",
      "epoch: 06, loss: -0.20137\n",
      "epoch: 07, loss: -0.20252\n",
      "epoch: 08, loss: -0.20374\n",
      "epoch: 09, loss: -0.20494\n",
      "After Unsqueezing, feature size= torch.Size([325, 384])\n",
      "type(projected_feature) <class 'torch.Tensor'>\n",
      "projected feature shape= torch.Size([325, 128])\n"
     ]
    },
    {
     "name": "stderr",
     "output_type": "stream",
     "text": [
      " 24%|██▍       | 242/1000 [1:39:00<4:10:56, 19.86s/it]"
     ]
    },
    {
     "name": "stdout",
     "output_type": "stream",
     "text": [
      "eigenvalues shape torch.Size([5]) eigenvectors shape torch.Size([5, 325])\n",
      "242 /home/phdcs2/Hard_Disk/Datasets/Deep-Spectral-Segmentation/data/object-segmentation/ECSSD/features/dino_vits16/0243.pth\n",
      "0243\n",
      "Starting Training\n",
      "epoch: 00, loss: -0.31090\n",
      "epoch: 01, loss: -0.32697\n",
      "epoch: 02, loss: -0.33180\n",
      "epoch: 03, loss: -0.33595\n",
      "epoch: 04, loss: -0.34094\n",
      "epoch: 05, loss: -0.34650\n",
      "epoch: 06, loss: -0.35001\n",
      "epoch: 07, loss: -0.35274\n",
      "epoch: 08, loss: -0.35793\n",
      "epoch: 09, loss: -0.36013\n",
      "After Unsqueezing, feature size= torch.Size([400, 384])\n",
      "type(projected_feature) <class 'torch.Tensor'>\n",
      "projected feature shape= torch.Size([400, 128])\n"
     ]
    },
    {
     "name": "stderr",
     "output_type": "stream",
     "text": [
      " 24%|██▍       | 243/1000 [1:39:20<4:12:40, 20.03s/it]"
     ]
    },
    {
     "name": "stdout",
     "output_type": "stream",
     "text": [
      "eigenvalues shape torch.Size([5]) eigenvectors shape torch.Size([5, 400])\n",
      "243 /home/phdcs2/Hard_Disk/Datasets/Deep-Spectral-Segmentation/data/object-segmentation/ECSSD/features/dino_vits16/0244.pth\n",
      "0244\n",
      "Starting Training\n",
      "epoch: 00, loss: -0.27493\n",
      "epoch: 01, loss: -0.29945\n",
      "epoch: 02, loss: -0.30434\n",
      "epoch: 03, loss: -0.30900\n",
      "epoch: 04, loss: -0.31174\n",
      "epoch: 05, loss: -0.31641\n",
      "epoch: 06, loss: -0.31788\n",
      "epoch: 07, loss: -0.32054\n",
      "epoch: 08, loss: -0.32281\n",
      "epoch: 09, loss: -0.32459\n",
      "After Unsqueezing, feature size= torch.Size([400, 384])\n",
      "type(projected_feature) <class 'torch.Tensor'>\n",
      "projected feature shape= torch.Size([400, 128])\n"
     ]
    },
    {
     "name": "stderr",
     "output_type": "stream",
     "text": [
      " 24%|██▍       | 244/1000 [1:39:39<4:08:58, 19.76s/it]"
     ]
    },
    {
     "name": "stdout",
     "output_type": "stream",
     "text": [
      "eigenvalues shape torch.Size([5]) eigenvectors shape torch.Size([5, 400])\n",
      "244 /home/phdcs2/Hard_Disk/Datasets/Deep-Spectral-Segmentation/data/object-segmentation/ECSSD/features/dino_vits16/0245.pth\n",
      "0245\n",
      "Starting Training\n",
      "epoch: 00, loss: -0.72911\n",
      "epoch: 01, loss: -0.88258\n",
      "epoch: 02, loss: -0.88681\n",
      "epoch: 03, loss: -0.88734\n",
      "epoch: 04, loss: -0.88699\n",
      "epoch: 05, loss: -0.88635\n",
      "epoch: 06, loss: -0.88762\n",
      "epoch: 07, loss: -0.88735\n",
      "epoch: 08, loss: -0.88781\n",
      "epoch: 09, loss: -0.88705\n",
      "After Unsqueezing, feature size= torch.Size([400, 384])\n",
      "type(projected_feature) <class 'torch.Tensor'>\n",
      "projected feature shape= torch.Size([400, 128])\n"
     ]
    },
    {
     "name": "stderr",
     "output_type": "stream",
     "text": [
      " 24%|██▍       | 245/1000 [1:39:59<4:06:10, 19.56s/it]"
     ]
    },
    {
     "name": "stdout",
     "output_type": "stream",
     "text": [
      "eigenvalues shape torch.Size([5]) eigenvectors shape torch.Size([5, 400])\n",
      "245 /home/phdcs2/Hard_Disk/Datasets/Deep-Spectral-Segmentation/data/object-segmentation/ECSSD/features/dino_vits16/0246.pth\n",
      "0246\n",
      "Starting Training\n",
      "epoch: 00, loss: -0.02318\n",
      "epoch: 01, loss: -0.02449\n",
      "epoch: 02, loss: -0.02776\n",
      "epoch: 03, loss: -0.02792\n",
      "epoch: 04, loss: -0.02797\n",
      "epoch: 05, loss: -0.02788\n",
      "epoch: 06, loss: -0.02788\n",
      "epoch: 07, loss: -0.02789\n",
      "epoch: 08, loss: -0.02796\n",
      "epoch: 09, loss: -0.02795\n",
      "After Unsqueezing, feature size= torch.Size([400, 384])\n",
      "type(projected_feature) <class 'torch.Tensor'>\n",
      "projected feature shape= torch.Size([400, 128])\n"
     ]
    },
    {
     "name": "stderr",
     "output_type": "stream",
     "text": [
      " 25%|██▍       | 246/1000 [1:40:18<4:05:06, 19.50s/it]"
     ]
    },
    {
     "name": "stdout",
     "output_type": "stream",
     "text": [
      "eigenvalues shape torch.Size([5]) eigenvectors shape torch.Size([5, 400])\n",
      "246 /home/phdcs2/Hard_Disk/Datasets/Deep-Spectral-Segmentation/data/object-segmentation/ECSSD/features/dino_vits16/0247.pth\n",
      "0247\n"
     ]
    },
    {
     "name": "stderr",
     "output_type": "stream",
     "text": [
      "/home/phdcs2/Hard_Disk/Projects/T2I/deep-spectral-segmentation/venv/lib/python3.8/site-packages/sklearn/decomposition/_pca.py:545: RuntimeWarning: invalid value encountered in divide\n",
      "  explained_variance_ratio_ = explained_variance_ / total_var\n"
     ]
    },
    {
     "name": "stdout",
     "output_type": "stream",
     "text": [
      "Starting Training\n",
      "epoch: 00, loss: 0.00000\n",
      "epoch: 01, loss: 0.00000\n",
      "epoch: 02, loss: 0.00000\n",
      "epoch: 03, loss: 0.00000\n",
      "epoch: 04, loss: 0.00000\n",
      "epoch: 05, loss: 0.00000\n",
      "epoch: 06, loss: 0.00000\n",
      "epoch: 07, loss: 0.00000\n",
      "epoch: 08, loss: 0.00000\n",
      "epoch: 09, loss: 0.00000\n",
      "After Unsqueezing, feature size= torch.Size([400, 384])\n",
      "type(projected_feature) <class 'torch.Tensor'>\n",
      "projected feature shape= torch.Size([400, 128])\n"
     ]
    },
    {
     "name": "stderr",
     "output_type": "stream",
     "text": [
      " 25%|██▍       | 247/1000 [1:40:38<4:07:03, 19.69s/it]"
     ]
    },
    {
     "name": "stdout",
     "output_type": "stream",
     "text": [
      "eigenvalues shape torch.Size([5]) eigenvectors shape torch.Size([5, 400])\n",
      "247 /home/phdcs2/Hard_Disk/Datasets/Deep-Spectral-Segmentation/data/object-segmentation/ECSSD/features/dino_vits16/0248.pth\n",
      "0248\n",
      "Starting Training\n",
      "epoch: 00, loss: -0.77013\n",
      "epoch: 01, loss: -0.88908\n",
      "epoch: 02, loss: -0.89221\n",
      "epoch: 03, loss: -0.89005\n",
      "epoch: 04, loss: -0.88918\n",
      "epoch: 05, loss: -0.88830\n",
      "epoch: 06, loss: -0.88758\n",
      "epoch: 07, loss: -0.88641\n",
      "epoch: 08, loss: -0.88641\n",
      "epoch: 09, loss: -0.88682\n",
      "After Unsqueezing, feature size= torch.Size([450, 384])\n",
      "type(projected_feature) <class 'torch.Tensor'>\n",
      "projected feature shape= torch.Size([450, 128])\n"
     ]
    },
    {
     "name": "stderr",
     "output_type": "stream",
     "text": [
      " 25%|██▍       | 248/1000 [1:41:01<4:19:27, 20.70s/it]"
     ]
    },
    {
     "name": "stdout",
     "output_type": "stream",
     "text": [
      "eigenvalues shape torch.Size([5]) eigenvectors shape torch.Size([5, 450])\n",
      "248 /home/phdcs2/Hard_Disk/Datasets/Deep-Spectral-Segmentation/data/object-segmentation/ECSSD/features/dino_vits16/0249.pth\n",
      "0249\n",
      "Starting Training\n",
      "epoch: 00, loss: -0.71741\n",
      "epoch: 01, loss: -0.81032\n",
      "epoch: 02, loss: -0.81536\n",
      "epoch: 03, loss: -0.81930\n",
      "epoch: 04, loss: -0.82093\n",
      "epoch: 05, loss: -0.82328\n",
      "epoch: 06, loss: -0.82559\n",
      "epoch: 07, loss: -0.82715\n",
      "epoch: 08, loss: -0.82864\n",
      "epoch: 09, loss: -0.83046\n",
      "After Unsqueezing, feature size= torch.Size([425, 384])\n",
      "type(projected_feature) <class 'torch.Tensor'>\n",
      "projected feature shape= torch.Size([425, 128])\n"
     ]
    },
    {
     "name": "stderr",
     "output_type": "stream",
     "text": [
      " 25%|██▍       | 249/1000 [1:41:22<4:20:54, 20.84s/it]"
     ]
    },
    {
     "name": "stdout",
     "output_type": "stream",
     "text": [
      "eigenvalues shape torch.Size([5]) eigenvectors shape torch.Size([5, 425])\n",
      "249 /home/phdcs2/Hard_Disk/Datasets/Deep-Spectral-Segmentation/data/object-segmentation/ECSSD/features/dino_vits16/0250.pth\n",
      "0250\n",
      "Starting Training\n",
      "epoch: 00, loss: -0.82288\n",
      "epoch: 01, loss: -0.91427\n",
      "epoch: 02, loss: -0.91693\n",
      "epoch: 03, loss: -0.91819\n",
      "epoch: 04, loss: -0.91930\n",
      "epoch: 05, loss: -0.91995\n",
      "epoch: 06, loss: -0.92145\n",
      "epoch: 07, loss: -0.92175\n",
      "epoch: 08, loss: -0.92145\n",
      "epoch: 09, loss: -0.92400\n",
      "After Unsqueezing, feature size= torch.Size([400, 384])\n",
      "type(projected_feature) <class 'torch.Tensor'>\n",
      "projected feature shape= torch.Size([400, 128])\n"
     ]
    },
    {
     "name": "stderr",
     "output_type": "stream",
     "text": [
      " 25%|██▌       | 250/1000 [1:41:42<4:17:47, 20.62s/it]"
     ]
    },
    {
     "name": "stdout",
     "output_type": "stream",
     "text": [
      "eigenvalues shape torch.Size([5]) eigenvectors shape torch.Size([5, 400])\n",
      "250 /home/phdcs2/Hard_Disk/Datasets/Deep-Spectral-Segmentation/data/object-segmentation/ECSSD/features/dino_vits16/0251.pth\n",
      "0251\n",
      "Starting Training\n",
      "epoch: 00, loss: -0.32639\n",
      "epoch: 01, loss: -0.34754\n",
      "epoch: 02, loss: -0.35219\n",
      "epoch: 03, loss: -0.35773\n",
      "epoch: 04, loss: -0.36452\n",
      "epoch: 05, loss: -0.37169\n",
      "epoch: 06, loss: -0.37578\n",
      "epoch: 07, loss: -0.38145\n",
      "epoch: 08, loss: -0.38469\n",
      "epoch: 09, loss: -0.38987\n",
      "After Unsqueezing, feature size= torch.Size([450, 384])\n",
      "type(projected_feature) <class 'torch.Tensor'>\n",
      "projected feature shape= torch.Size([450, 128])\n"
     ]
    },
    {
     "name": "stderr",
     "output_type": "stream",
     "text": [
      " 25%|██▌       | 251/1000 [1:42:04<4:23:10, 21.08s/it]"
     ]
    },
    {
     "name": "stdout",
     "output_type": "stream",
     "text": [
      "eigenvalues shape torch.Size([5]) eigenvectors shape torch.Size([5, 450])\n",
      "251 /home/phdcs2/Hard_Disk/Datasets/Deep-Spectral-Segmentation/data/object-segmentation/ECSSD/features/dino_vits16/0252.pth\n",
      "0252\n",
      "Starting Training\n",
      "epoch: 00, loss: -0.27574\n",
      "epoch: 01, loss: -0.29477\n",
      "epoch: 02, loss: -0.30120\n",
      "epoch: 03, loss: -0.30459\n",
      "epoch: 04, loss: -0.30743\n",
      "epoch: 05, loss: -0.31016\n",
      "epoch: 06, loss: -0.31456\n",
      "epoch: 07, loss: -0.31574\n",
      "epoch: 08, loss: -0.31851\n",
      "epoch: 09, loss: -0.32057\n",
      "After Unsqueezing, feature size= torch.Size([450, 384])\n",
      "type(projected_feature) <class 'torch.Tensor'>\n",
      "projected feature shape= torch.Size([450, 128])\n"
     ]
    },
    {
     "name": "stderr",
     "output_type": "stream",
     "text": [
      " 25%|██▌       | 252/1000 [1:42:26<4:25:27, 21.29s/it]"
     ]
    },
    {
     "name": "stdout",
     "output_type": "stream",
     "text": [
      "eigenvalues shape torch.Size([5]) eigenvectors shape torch.Size([5, 450])\n",
      "252 /home/phdcs2/Hard_Disk/Datasets/Deep-Spectral-Segmentation/data/object-segmentation/ECSSD/features/dino_vits16/0253.pth\n",
      "0253\n",
      "Starting Training\n",
      "epoch: 00, loss: -0.29476\n",
      "epoch: 01, loss: -0.30793\n",
      "epoch: 02, loss: -0.31544\n",
      "epoch: 03, loss: -0.31993\n",
      "epoch: 04, loss: -0.32432\n",
      "epoch: 05, loss: -0.32907\n",
      "epoch: 06, loss: -0.33241\n",
      "epoch: 07, loss: -0.33795\n",
      "epoch: 08, loss: -0.34318\n",
      "epoch: 09, loss: -0.34522\n",
      "After Unsqueezing, feature size= torch.Size([450, 384])\n",
      "type(projected_feature) <class 'torch.Tensor'>\n",
      "projected feature shape= torch.Size([450, 128])\n"
     ]
    },
    {
     "name": "stderr",
     "output_type": "stream",
     "text": [
      " 25%|██▌       | 253/1000 [1:42:50<4:34:13, 22.03s/it]"
     ]
    },
    {
     "name": "stdout",
     "output_type": "stream",
     "text": [
      "eigenvalues shape torch.Size([5]) eigenvectors shape torch.Size([5, 450])\n",
      "253 /home/phdcs2/Hard_Disk/Datasets/Deep-Spectral-Segmentation/data/object-segmentation/ECSSD/features/dino_vits16/0254.pth\n",
      "0254\n",
      "Starting Training\n",
      "epoch: 00, loss: -0.72087\n",
      "epoch: 01, loss: -0.77901\n",
      "epoch: 02, loss: -0.78287\n",
      "epoch: 03, loss: -0.78523\n",
      "epoch: 04, loss: -0.78738\n",
      "epoch: 05, loss: -0.78877\n",
      "epoch: 06, loss: -0.78990\n",
      "epoch: 07, loss: -0.79203\n",
      "epoch: 08, loss: -0.79277\n",
      "epoch: 09, loss: -0.79306\n",
      "After Unsqueezing, feature size= torch.Size([525, 384])\n",
      "type(projected_feature) <class 'torch.Tensor'>\n",
      "projected feature shape= torch.Size([525, 128])\n"
     ]
    },
    {
     "name": "stderr",
     "output_type": "stream",
     "text": [
      " 25%|██▌       | 254/1000 [1:44:07<7:58:52, 38.52s/it]"
     ]
    },
    {
     "name": "stdout",
     "output_type": "stream",
     "text": [
      "eigenvalues shape torch.Size([5]) eigenvectors shape torch.Size([5, 525])\n",
      "254 /home/phdcs2/Hard_Disk/Datasets/Deep-Spectral-Segmentation/data/object-segmentation/ECSSD/features/dino_vits16/0255.pth\n",
      "0255\n",
      "Starting Training\n",
      "epoch: 00, loss: -0.26460\n",
      "epoch: 01, loss: -0.23590\n",
      "epoch: 02, loss: -0.23707\n",
      "epoch: 03, loss: -0.24033\n",
      "epoch: 04, loss: -0.24074\n",
      "epoch: 05, loss: -0.24211\n",
      "epoch: 06, loss: -0.24461\n",
      "epoch: 07, loss: -0.24522\n",
      "epoch: 08, loss: -0.24722\n",
      "epoch: 09, loss: -0.24836\n",
      "After Unsqueezing, feature size= torch.Size([575, 384])\n",
      "type(projected_feature) <class 'torch.Tensor'>\n",
      "projected feature shape= torch.Size([575, 128])\n"
     ]
    },
    {
     "name": "stderr",
     "output_type": "stream",
     "text": [
      " 26%|██▌       | 255/1000 [1:45:31<10:47:32, 52.15s/it]"
     ]
    },
    {
     "name": "stdout",
     "output_type": "stream",
     "text": [
      "eigenvalues shape torch.Size([5]) eigenvectors shape torch.Size([5, 575])\n",
      "255 /home/phdcs2/Hard_Disk/Datasets/Deep-Spectral-Segmentation/data/object-segmentation/ECSSD/features/dino_vits16/0256.pth\n",
      "0256\n",
      "Starting Training\n",
      "epoch: 00, loss: -0.77101\n",
      "epoch: 01, loss: -0.89483\n",
      "epoch: 02, loss: -0.90766\n",
      "epoch: 03, loss: -0.90525\n",
      "epoch: 04, loss: -0.90793\n",
      "epoch: 05, loss: -0.90623\n",
      "epoch: 06, loss: -0.90688\n",
      "epoch: 07, loss: -0.90623\n",
      "epoch: 08, loss: -0.90626\n",
      "epoch: 09, loss: -0.90681\n",
      "After Unsqueezing, feature size= torch.Size([375, 384])\n",
      "type(projected_feature) <class 'torch.Tensor'>\n",
      "projected feature shape= torch.Size([375, 128])\n"
     ]
    },
    {
     "name": "stderr",
     "output_type": "stream",
     "text": [
      " 26%|██▌       | 256/1000 [1:45:53<8:53:31, 43.03s/it] "
     ]
    },
    {
     "name": "stdout",
     "output_type": "stream",
     "text": [
      "eigenvalues shape torch.Size([5]) eigenvectors shape torch.Size([5, 375])\n",
      "256 /home/phdcs2/Hard_Disk/Datasets/Deep-Spectral-Segmentation/data/object-segmentation/ECSSD/features/dino_vits16/0257.pth\n",
      "0257\n"
     ]
    },
    {
     "name": "stderr",
     "output_type": "stream",
     "text": [
      "/home/phdcs2/Hard_Disk/Projects/T2I/deep-spectral-segmentation/venv/lib/python3.8/site-packages/sklearn/decomposition/_pca.py:545: RuntimeWarning: invalid value encountered in divide\n",
      "  explained_variance_ratio_ = explained_variance_ / total_var\n"
     ]
    },
    {
     "name": "stdout",
     "output_type": "stream",
     "text": [
      "Starting Training\n",
      "epoch: 00, loss: 0.00000\n",
      "epoch: 01, loss: 0.00000\n",
      "epoch: 02, loss: 0.00000\n",
      "epoch: 03, loss: 0.00000\n",
      "epoch: 04, loss: 0.00000\n",
      "epoch: 05, loss: 0.00000\n",
      "epoch: 06, loss: 0.00000\n",
      "epoch: 07, loss: 0.00000\n",
      "epoch: 08, loss: 0.00000\n",
      "epoch: 09, loss: 0.00000\n",
      "After Unsqueezing, feature size= torch.Size([475, 384])\n",
      "type(projected_feature) <class 'torch.Tensor'>\n",
      "projected feature shape= torch.Size([475, 128])\n"
     ]
    },
    {
     "name": "stderr",
     "output_type": "stream",
     "text": [
      " 26%|██▌       | 257/1000 [1:46:18<7:48:15, 37.81s/it]"
     ]
    },
    {
     "name": "stdout",
     "output_type": "stream",
     "text": [
      "eigenvalues shape torch.Size([5]) eigenvectors shape torch.Size([5, 475])\n",
      "257 /home/phdcs2/Hard_Disk/Datasets/Deep-Spectral-Segmentation/data/object-segmentation/ECSSD/features/dino_vits16/0258.pth\n",
      "0258\n"
     ]
    },
    {
     "name": "stderr",
     "output_type": "stream",
     "text": [
      "/home/phdcs2/Hard_Disk/Projects/T2I/deep-spectral-segmentation/venv/lib/python3.8/site-packages/sklearn/decomposition/_pca.py:545: RuntimeWarning: invalid value encountered in divide\n",
      "  explained_variance_ratio_ = explained_variance_ / total_var\n"
     ]
    },
    {
     "name": "stdout",
     "output_type": "stream",
     "text": [
      "Starting Training\n",
      "epoch: 00, loss: 0.00000\n",
      "epoch: 01, loss: 0.00000\n",
      "epoch: 02, loss: 0.00000\n",
      "epoch: 03, loss: 0.00000\n",
      "epoch: 04, loss: 0.00000\n",
      "epoch: 05, loss: 0.00000\n",
      "epoch: 06, loss: 0.00000\n",
      "epoch: 07, loss: 0.00000\n",
      "epoch: 08, loss: 0.00000\n",
      "epoch: 09, loss: 0.00000\n",
      "After Unsqueezing, feature size= torch.Size([400, 384])\n",
      "type(projected_feature) <class 'torch.Tensor'>\n",
      "projected feature shape= torch.Size([400, 128])\n"
     ]
    },
    {
     "name": "stderr",
     "output_type": "stream",
     "text": [
      " 26%|██▌       | 258/1000 [1:46:39<6:45:16, 32.77s/it]"
     ]
    },
    {
     "name": "stdout",
     "output_type": "stream",
     "text": [
      "eigenvalues shape torch.Size([5]) eigenvectors shape torch.Size([5, 400])\n",
      "258 /home/phdcs2/Hard_Disk/Datasets/Deep-Spectral-Segmentation/data/object-segmentation/ECSSD/features/dino_vits16/0259.pth\n",
      "0259\n"
     ]
    },
    {
     "name": "stderr",
     "output_type": "stream",
     "text": [
      "/home/phdcs2/Hard_Disk/Projects/T2I/deep-spectral-segmentation/venv/lib/python3.8/site-packages/sklearn/decomposition/_pca.py:545: RuntimeWarning: invalid value encountered in divide\n",
      "  explained_variance_ratio_ = explained_variance_ / total_var\n"
     ]
    },
    {
     "name": "stdout",
     "output_type": "stream",
     "text": [
      "Starting Training\n",
      "epoch: 00, loss: 0.00000\n",
      "epoch: 01, loss: 0.00000\n",
      "epoch: 02, loss: 0.00000\n",
      "epoch: 03, loss: 0.00000\n",
      "epoch: 04, loss: 0.00000\n",
      "epoch: 05, loss: 0.00000\n",
      "epoch: 06, loss: 0.00000\n",
      "epoch: 07, loss: 0.00000\n",
      "epoch: 08, loss: 0.00000\n",
      "epoch: 09, loss: 0.00000\n",
      "After Unsqueezing, feature size= torch.Size([450, 384])\n",
      "type(projected_feature) <class 'torch.Tensor'>\n",
      "projected feature shape= torch.Size([450, 128])\n"
     ]
    },
    {
     "name": "stderr",
     "output_type": "stream",
     "text": [
      " 26%|██▌       | 259/1000 [1:47:09<6:34:34, 31.95s/it]"
     ]
    },
    {
     "name": "stdout",
     "output_type": "stream",
     "text": [
      "eigenvalues shape torch.Size([5]) eigenvectors shape torch.Size([5, 450])\n",
      "259 /home/phdcs2/Hard_Disk/Datasets/Deep-Spectral-Segmentation/data/object-segmentation/ECSSD/features/dino_vits16/0260.pth\n",
      "0260\n",
      "Starting Training\n",
      "epoch: 00, loss: -0.33195\n",
      "epoch: 01, loss: -0.34168\n",
      "epoch: 02, loss: -0.34230\n",
      "epoch: 03, loss: -0.34290\n",
      "epoch: 04, loss: -0.34580\n",
      "epoch: 05, loss: -0.34876\n",
      "epoch: 06, loss: -0.35163\n",
      "epoch: 07, loss: -0.35641\n",
      "epoch: 08, loss: -0.35894\n",
      "epoch: 09, loss: -0.36383\n",
      "After Unsqueezing, feature size= torch.Size([450, 384])\n",
      "type(projected_feature) <class 'torch.Tensor'>\n",
      "projected feature shape= torch.Size([450, 128])\n"
     ]
    },
    {
     "name": "stderr",
     "output_type": "stream",
     "text": [
      " 26%|██▌       | 260/1000 [1:47:35<6:10:15, 30.02s/it]"
     ]
    },
    {
     "name": "stdout",
     "output_type": "stream",
     "text": [
      "eigenvalues shape torch.Size([5]) eigenvectors shape torch.Size([5, 450])\n",
      "260 /home/phdcs2/Hard_Disk/Datasets/Deep-Spectral-Segmentation/data/object-segmentation/ECSSD/features/dino_vits16/0261.pth\n",
      "0261\n",
      "Starting Training\n",
      "epoch: 00, loss: -0.71772\n",
      "epoch: 01, loss: -0.79745\n",
      "epoch: 02, loss: -0.79887\n",
      "epoch: 03, loss: -0.80090\n",
      "epoch: 04, loss: -0.80227\n",
      "epoch: 05, loss: -0.80271\n",
      "epoch: 06, loss: -0.80277\n",
      "epoch: 07, loss: -0.80384\n",
      "epoch: 08, loss: -0.80524\n",
      "epoch: 09, loss: -0.80512\n",
      "After Unsqueezing, feature size= torch.Size([400, 384])\n",
      "type(projected_feature) <class 'torch.Tensor'>\n",
      "projected feature shape= torch.Size([400, 128])\n"
     ]
    },
    {
     "name": "stderr",
     "output_type": "stream",
     "text": [
      " 26%|██▌       | 261/1000 [1:47:59<5:46:55, 28.17s/it]"
     ]
    },
    {
     "name": "stdout",
     "output_type": "stream",
     "text": [
      "eigenvalues shape torch.Size([5]) eigenvectors shape torch.Size([5, 400])\n",
      "261 /home/phdcs2/Hard_Disk/Datasets/Deep-Spectral-Segmentation/data/object-segmentation/ECSSD/features/dino_vits16/0262.pth\n",
      "0262\n"
     ]
    },
    {
     "name": "stderr",
     "output_type": "stream",
     "text": [
      "/home/phdcs2/Hard_Disk/Projects/T2I/deep-spectral-segmentation/venv/lib/python3.8/site-packages/sklearn/decomposition/_pca.py:545: RuntimeWarning: invalid value encountered in divide\n",
      "  explained_variance_ratio_ = explained_variance_ / total_var\n"
     ]
    },
    {
     "name": "stdout",
     "output_type": "stream",
     "text": [
      "Starting Training\n",
      "epoch: 00, loss: 0.00000\n",
      "epoch: 01, loss: 0.00000\n",
      "epoch: 02, loss: 0.00000\n",
      "epoch: 03, loss: 0.00000\n",
      "epoch: 04, loss: 0.00000\n",
      "epoch: 05, loss: 0.00000\n",
      "epoch: 06, loss: 0.00000\n",
      "epoch: 07, loss: 0.00000\n",
      "epoch: 08, loss: 0.00000\n",
      "epoch: 09, loss: 0.00000\n",
      "After Unsqueezing, feature size= torch.Size([450, 384])\n",
      "type(projected_feature) <class 'torch.Tensor'>\n",
      "projected feature shape= torch.Size([450, 128])\n"
     ]
    },
    {
     "name": "stderr",
     "output_type": "stream",
     "text": [
      " 26%|██▌       | 262/1000 [1:48:25<5:40:22, 27.67s/it]"
     ]
    },
    {
     "name": "stdout",
     "output_type": "stream",
     "text": [
      "eigenvalues shape torch.Size([5]) eigenvectors shape torch.Size([5, 450])\n",
      "262 /home/phdcs2/Hard_Disk/Datasets/Deep-Spectral-Segmentation/data/object-segmentation/ECSSD/features/dino_vits16/0263.pth\n",
      "0263\n",
      "Starting Training\n",
      "epoch: 00, loss: -0.02755\n",
      "epoch: 01, loss: -0.02892\n",
      "epoch: 02, loss: -0.03304\n",
      "epoch: 03, loss: -0.03383\n",
      "epoch: 04, loss: -0.03626\n",
      "epoch: 05, loss: -0.03895\n",
      "epoch: 06, loss: -0.04016\n",
      "epoch: 07, loss: -0.04336\n",
      "epoch: 08, loss: -0.04398\n",
      "epoch: 09, loss: -0.04426\n",
      "After Unsqueezing, feature size= torch.Size([450, 384])\n",
      "type(projected_feature) <class 'torch.Tensor'>\n",
      "projected feature shape= torch.Size([450, 128])\n"
     ]
    },
    {
     "name": "stderr",
     "output_type": "stream",
     "text": [
      " 26%|██▋       | 263/1000 [1:48:52<5:35:05, 27.28s/it]"
     ]
    },
    {
     "name": "stdout",
     "output_type": "stream",
     "text": [
      "eigenvalues shape torch.Size([5]) eigenvectors shape torch.Size([5, 450])\n",
      "263 /home/phdcs2/Hard_Disk/Datasets/Deep-Spectral-Segmentation/data/object-segmentation/ECSSD/features/dino_vits16/0264.pth\n",
      "0264\n",
      "Starting Training\n",
      "epoch: 00, loss: -0.31535\n",
      "epoch: 01, loss: -0.33580\n",
      "epoch: 02, loss: -0.34236\n",
      "epoch: 03, loss: -0.34697\n",
      "epoch: 04, loss: -0.35213\n",
      "epoch: 05, loss: -0.35533\n",
      "epoch: 06, loss: -0.36073\n",
      "epoch: 07, loss: -0.36501\n",
      "epoch: 08, loss: -0.36896\n",
      "epoch: 09, loss: -0.37210\n",
      "After Unsqueezing, feature size= torch.Size([400, 384])\n",
      "type(projected_feature) <class 'torch.Tensor'>\n",
      "projected feature shape= torch.Size([400, 128])\n"
     ]
    },
    {
     "name": "stderr",
     "output_type": "stream",
     "text": [
      " 26%|██▋       | 264/1000 [1:49:16<5:22:47, 26.31s/it]"
     ]
    },
    {
     "name": "stdout",
     "output_type": "stream",
     "text": [
      "eigenvalues shape torch.Size([5]) eigenvectors shape torch.Size([5, 400])\n",
      "264 /home/phdcs2/Hard_Disk/Datasets/Deep-Spectral-Segmentation/data/object-segmentation/ECSSD/features/dino_vits16/0265.pth\n",
      "0265\n",
      "Starting Training\n",
      "epoch: 00, loss: -0.29681\n",
      "epoch: 01, loss: -0.31602\n",
      "epoch: 02, loss: -0.32786\n",
      "epoch: 03, loss: -0.33842\n",
      "epoch: 04, loss: -0.34848\n",
      "epoch: 05, loss: -0.35941\n",
      "epoch: 06, loss: -0.36890\n",
      "epoch: 07, loss: -0.37889\n",
      "epoch: 08, loss: -0.38763\n",
      "epoch: 09, loss: -0.39724\n",
      "After Unsqueezing, feature size= torch.Size([525, 384])\n",
      "type(projected_feature) <class 'torch.Tensor'>\n",
      "projected feature shape= torch.Size([525, 128])\n"
     ]
    },
    {
     "name": "stderr",
     "output_type": "stream",
     "text": [
      " 26%|██▋       | 265/1000 [1:50:35<8:38:17, 42.31s/it]"
     ]
    },
    {
     "name": "stdout",
     "output_type": "stream",
     "text": [
      "eigenvalues shape torch.Size([5]) eigenvectors shape torch.Size([5, 525])\n",
      "265 /home/phdcs2/Hard_Disk/Datasets/Deep-Spectral-Segmentation/data/object-segmentation/ECSSD/features/dino_vits16/0266.pth\n",
      "0266\n",
      "Starting Training\n",
      "epoch: 00, loss: -0.30352\n",
      "epoch: 01, loss: -0.32527\n",
      "epoch: 02, loss: -0.33313\n",
      "epoch: 03, loss: -0.34897\n",
      "epoch: 04, loss: -0.36830\n",
      "epoch: 05, loss: -0.37226\n",
      "epoch: 06, loss: -0.39648\n",
      "epoch: 07, loss: -0.43641\n",
      "epoch: 08, loss: -0.43873\n",
      "epoch: 09, loss: -0.45537\n",
      "After Unsqueezing, feature size= torch.Size([425, 384])\n",
      "type(projected_feature) <class 'torch.Tensor'>\n",
      "projected feature shape= torch.Size([425, 128])\n"
     ]
    },
    {
     "name": "stderr",
     "output_type": "stream",
     "text": [
      " 27%|██▋       | 266/1000 [1:50:59<7:30:58, 36.86s/it]"
     ]
    },
    {
     "name": "stdout",
     "output_type": "stream",
     "text": [
      "eigenvalues shape torch.Size([5]) eigenvectors shape torch.Size([5, 425])\n",
      "266 /home/phdcs2/Hard_Disk/Datasets/Deep-Spectral-Segmentation/data/object-segmentation/ECSSD/features/dino_vits16/0267.pth\n",
      "0267\n",
      "Starting Training\n",
      "epoch: 00, loss: -0.30333\n",
      "epoch: 01, loss: -0.32057\n",
      "epoch: 02, loss: -0.32974\n",
      "epoch: 03, loss: -0.33694\n",
      "epoch: 04, loss: -0.34264\n",
      "epoch: 05, loss: -0.34880\n",
      "epoch: 06, loss: -0.35271\n",
      "epoch: 07, loss: -0.35661\n",
      "epoch: 08, loss: -0.36086\n",
      "epoch: 09, loss: -0.36548\n",
      "After Unsqueezing, feature size= torch.Size([400, 384])\n",
      "type(projected_feature) <class 'torch.Tensor'>\n",
      "projected feature shape= torch.Size([400, 128])\n"
     ]
    },
    {
     "name": "stderr",
     "output_type": "stream",
     "text": [
      "/home/phdcs2/Hard_Disk/Projects/T2I/deep-spectral-segmentation/venv/lib/python3.8/site-packages/scipy/sparse/linalg/_eigen/arpack/arpack.py:935: LinAlgWarning: Diagonal number 400 is exactly zero. Singular matrix.\n",
      "  self.M_lu = lu_factor(M)\n"
     ]
    },
    {
     "name": "stdout",
     "output_type": "stream",
     "text": [
      " ** On entry to SLASCL parameter number  4 had an illegal value\n",
      " ** On entry to SLASCL parameter number  4 had an illegal value\n"
     ]
    },
    {
     "name": "stderr",
     "output_type": "stream",
     "text": [
      " 27%|██▋       | 267/1000 [1:51:31<7:09:59, 35.20s/it]"
     ]
    },
    {
     "name": "stdout",
     "output_type": "stream",
     "text": [
      "eigenvalues shape torch.Size([5]) eigenvectors shape torch.Size([5, 400])\n",
      "267 /home/phdcs2/Hard_Disk/Datasets/Deep-Spectral-Segmentation/data/object-segmentation/ECSSD/features/dino_vits16/0268.pth\n",
      "0268\n"
     ]
    },
    {
     "name": "stderr",
     "output_type": "stream",
     "text": [
      "/home/phdcs2/Hard_Disk/Projects/T2I/deep-spectral-segmentation/venv/lib/python3.8/site-packages/sklearn/decomposition/_pca.py:545: RuntimeWarning: invalid value encountered in divide\n",
      "  explained_variance_ratio_ = explained_variance_ / total_var\n"
     ]
    },
    {
     "name": "stdout",
     "output_type": "stream",
     "text": [
      "Starting Training\n",
      "epoch: 00, loss: 0.00000\n",
      "epoch: 01, loss: 0.00000\n",
      "epoch: 02, loss: 0.00000\n",
      "epoch: 03, loss: 0.00000\n",
      "epoch: 04, loss: 0.00000\n",
      "epoch: 05, loss: 0.00000\n",
      "epoch: 06, loss: 0.00000\n",
      "epoch: 07, loss: 0.00000\n",
      "epoch: 08, loss: 0.00000\n",
      "epoch: 09, loss: 0.00000\n",
      "After Unsqueezing, feature size= torch.Size([600, 384])\n",
      "type(projected_feature) <class 'torch.Tensor'>\n",
      "projected feature shape= torch.Size([600, 128])\n"
     ]
    },
    {
     "name": "stderr",
     "output_type": "stream",
     "text": [
      " 27%|██▋       | 268/1000 [1:52:49<9:45:17, 47.97s/it]"
     ]
    },
    {
     "name": "stdout",
     "output_type": "stream",
     "text": [
      "eigenvalues shape torch.Size([5]) eigenvectors shape torch.Size([5, 600])\n",
      "268 /home/phdcs2/Hard_Disk/Datasets/Deep-Spectral-Segmentation/data/object-segmentation/ECSSD/features/dino_vits16/0269.pth\n",
      "0269\n",
      "Starting Training\n",
      "epoch: 00, loss: -0.24401\n",
      "epoch: 01, loss: -0.17476\n",
      "epoch: 02, loss: -0.17584\n",
      "epoch: 03, loss: -0.17511\n",
      "epoch: 04, loss: -0.17087\n",
      "epoch: 05, loss: -0.17866\n",
      "epoch: 06, loss: -0.18242\n",
      "epoch: 07, loss: -0.18362\n",
      "epoch: 08, loss: -0.18477\n",
      "epoch: 09, loss: -0.18625\n",
      "After Unsqueezing, feature size= torch.Size([400, 384])\n",
      "type(projected_feature) <class 'torch.Tensor'>\n",
      "projected feature shape= torch.Size([400, 128])\n"
     ]
    },
    {
     "name": "stderr",
     "output_type": "stream",
     "text": [
      " 27%|██▋       | 269/1000 [1:53:09<8:01:58, 39.56s/it]"
     ]
    },
    {
     "name": "stdout",
     "output_type": "stream",
     "text": [
      "eigenvalues shape torch.Size([5]) eigenvectors shape torch.Size([5, 400])\n",
      "269 /home/phdcs2/Hard_Disk/Datasets/Deep-Spectral-Segmentation/data/object-segmentation/ECSSD/features/dino_vits16/0270.pth\n",
      "0270\n",
      "Starting Training\n",
      "epoch: 00, loss: -0.02912\n",
      "epoch: 01, loss: -0.02940\n",
      "epoch: 02, loss: -0.02914\n",
      "epoch: 03, loss: -0.02912\n",
      "epoch: 04, loss: -0.02935\n",
      "epoch: 05, loss: -0.02918\n",
      "epoch: 06, loss: -0.02914\n",
      "epoch: 07, loss: -0.02905\n",
      "epoch: 08, loss: -0.02913\n",
      "epoch: 09, loss: -0.02902\n",
      "After Unsqueezing, feature size= torch.Size([375, 384])\n",
      "type(projected_feature) <class 'torch.Tensor'>\n",
      "projected feature shape= torch.Size([375, 128])\n"
     ]
    },
    {
     "name": "stderr",
     "output_type": "stream",
     "text": [
      " 27%|██▋       | 270/1000 [1:53:28<6:47:21, 33.48s/it]"
     ]
    },
    {
     "name": "stdout",
     "output_type": "stream",
     "text": [
      "eigenvalues shape torch.Size([5]) eigenvectors shape torch.Size([5, 375])\n",
      "270 /home/phdcs2/Hard_Disk/Datasets/Deep-Spectral-Segmentation/data/object-segmentation/ECSSD/features/dino_vits16/0271.pth\n",
      "0271\n",
      "Starting Training\n",
      "epoch: 00, loss: -0.01789\n",
      "epoch: 01, loss: -0.01806\n",
      "epoch: 02, loss: -0.01834\n",
      "epoch: 03, loss: -0.01864\n",
      "epoch: 04, loss: -0.01883\n",
      "epoch: 05, loss: -0.01909\n",
      "epoch: 06, loss: -0.01927\n",
      "epoch: 07, loss: -0.01959\n",
      "epoch: 08, loss: -0.01967\n",
      "epoch: 09, loss: -0.01889\n",
      "After Unsqueezing, feature size= torch.Size([450, 384])\n",
      "type(projected_feature) <class 'torch.Tensor'>\n",
      "projected feature shape= torch.Size([450, 128])\n"
     ]
    },
    {
     "name": "stderr",
     "output_type": "stream",
     "text": [
      " 27%|██▋       | 271/1000 [1:53:50<6:06:52, 30.20s/it]"
     ]
    },
    {
     "name": "stdout",
     "output_type": "stream",
     "text": [
      "eigenvalues shape torch.Size([5]) eigenvectors shape torch.Size([5, 450])\n",
      "271 /home/phdcs2/Hard_Disk/Datasets/Deep-Spectral-Segmentation/data/object-segmentation/ECSSD/features/dino_vits16/0272.pth\n",
      "0272\n",
      "Starting Training\n",
      "epoch: 00, loss: -0.17662\n",
      "epoch: 01, loss: -0.15941\n",
      "epoch: 02, loss: -0.14937\n",
      "epoch: 03, loss: -0.14889\n",
      "epoch: 04, loss: -0.14950\n",
      "epoch: 05, loss: -0.15341\n",
      "epoch: 06, loss: -0.15447\n",
      "epoch: 07, loss: -0.15369\n",
      "epoch: 08, loss: -0.15479\n",
      "epoch: 09, loss: -0.15530\n",
      "After Unsqueezing, feature size= torch.Size([500, 384])\n",
      "type(projected_feature) <class 'torch.Tensor'>\n",
      "projected feature shape= torch.Size([500, 128])\n"
     ]
    },
    {
     "name": "stderr",
     "output_type": "stream",
     "text": [
      " 27%|██▋       | 272/1000 [1:54:14<5:44:10, 28.37s/it]"
     ]
    },
    {
     "name": "stdout",
     "output_type": "stream",
     "text": [
      "eigenvalues shape torch.Size([5]) eigenvectors shape torch.Size([5, 500])\n",
      "272 /home/phdcs2/Hard_Disk/Datasets/Deep-Spectral-Segmentation/data/object-segmentation/ECSSD/features/dino_vits16/0273.pth\n",
      "0273\n"
     ]
    },
    {
     "name": "stderr",
     "output_type": "stream",
     "text": [
      "/home/phdcs2/Hard_Disk/Projects/T2I/deep-spectral-segmentation/venv/lib/python3.8/site-packages/sklearn/decomposition/_pca.py:545: RuntimeWarning: invalid value encountered in divide\n",
      "  explained_variance_ratio_ = explained_variance_ / total_var\n"
     ]
    },
    {
     "name": "stdout",
     "output_type": "stream",
     "text": [
      "Starting Training\n",
      "epoch: 00, loss: 0.00000\n",
      "epoch: 01, loss: 0.00000\n",
      "epoch: 02, loss: 0.00000\n",
      "epoch: 03, loss: 0.00000\n",
      "epoch: 04, loss: 0.00000\n",
      "epoch: 05, loss: 0.00000\n",
      "epoch: 06, loss: 0.00000\n",
      "epoch: 07, loss: 0.00000\n",
      "epoch: 08, loss: 0.00000\n",
      "epoch: 09, loss: 0.00000\n",
      "After Unsqueezing, feature size= torch.Size([400, 384])\n",
      "type(projected_feature) <class 'torch.Tensor'>\n",
      "projected feature shape= torch.Size([400, 128])\n"
     ]
    },
    {
     "name": "stderr",
     "output_type": "stream",
     "text": [
      " 27%|██▋       | 273/1000 [1:54:33<5:08:15, 25.44s/it]"
     ]
    },
    {
     "name": "stdout",
     "output_type": "stream",
     "text": [
      "eigenvalues shape torch.Size([5]) eigenvectors shape torch.Size([5, 400])\n",
      "273 /home/phdcs2/Hard_Disk/Datasets/Deep-Spectral-Segmentation/data/object-segmentation/ECSSD/features/dino_vits16/0274.pth\n",
      "0274\n"
     ]
    },
    {
     "name": "stderr",
     "output_type": "stream",
     "text": [
      "/home/phdcs2/Hard_Disk/Projects/T2I/deep-spectral-segmentation/venv/lib/python3.8/site-packages/sklearn/decomposition/_pca.py:545: RuntimeWarning: invalid value encountered in divide\n",
      "  explained_variance_ratio_ = explained_variance_ / total_var\n"
     ]
    },
    {
     "name": "stdout",
     "output_type": "stream",
     "text": [
      "Starting Training\n",
      "epoch: 00, loss: 0.00000\n",
      "epoch: 01, loss: 0.00000\n",
      "epoch: 02, loss: 0.00000\n",
      "epoch: 03, loss: 0.00000\n",
      "epoch: 04, loss: 0.00000\n",
      "epoch: 05, loss: 0.00000\n",
      "epoch: 06, loss: 0.00000\n",
      "epoch: 07, loss: 0.00000\n",
      "epoch: 08, loss: 0.00000\n",
      "epoch: 09, loss: 0.00000\n",
      "After Unsqueezing, feature size= torch.Size([575, 384])\n",
      "type(projected_feature) <class 'torch.Tensor'>\n",
      "projected feature shape= torch.Size([575, 128])\n"
     ]
    },
    {
     "name": "stderr",
     "output_type": "stream",
     "text": [
      " 27%|██▋       | 274/1000 [1:55:50<8:13:55, 40.82s/it]"
     ]
    },
    {
     "name": "stdout",
     "output_type": "stream",
     "text": [
      "eigenvalues shape torch.Size([5]) eigenvectors shape torch.Size([5, 575])\n",
      "274 /home/phdcs2/Hard_Disk/Datasets/Deep-Spectral-Segmentation/data/object-segmentation/ECSSD/features/dino_vits16/0275.pth\n",
      "0275\n"
     ]
    },
    {
     "name": "stderr",
     "output_type": "stream",
     "text": [
      "/home/phdcs2/Hard_Disk/Projects/T2I/deep-spectral-segmentation/venv/lib/python3.8/site-packages/sklearn/decomposition/_pca.py:545: RuntimeWarning: invalid value encountered in divide\n",
      "  explained_variance_ratio_ = explained_variance_ / total_var\n"
     ]
    },
    {
     "name": "stdout",
     "output_type": "stream",
     "text": [
      "Starting Training\n",
      "epoch: 00, loss: 0.00000\n",
      "epoch: 01, loss: 0.00000\n",
      "epoch: 02, loss: 0.00000\n",
      "epoch: 03, loss: 0.00000\n",
      "epoch: 04, loss: 0.00000\n",
      "epoch: 05, loss: 0.00000\n",
      "epoch: 06, loss: 0.00000\n",
      "epoch: 07, loss: 0.00000\n",
      "epoch: 08, loss: 0.00000\n",
      "epoch: 09, loss: 0.00000\n",
      "After Unsqueezing, feature size= torch.Size([400, 384])\n",
      "type(projected_feature) <class 'torch.Tensor'>\n",
      "projected feature shape= torch.Size([400, 128])\n"
     ]
    },
    {
     "name": "stderr",
     "output_type": "stream",
     "text": [
      " 28%|██▊       | 275/1000 [1:56:11<7:02:46, 34.99s/it]"
     ]
    },
    {
     "name": "stdout",
     "output_type": "stream",
     "text": [
      "eigenvalues shape torch.Size([5]) eigenvectors shape torch.Size([5, 400])\n",
      "275 /home/phdcs2/Hard_Disk/Datasets/Deep-Spectral-Segmentation/data/object-segmentation/ECSSD/features/dino_vits16/0276.pth\n",
      "0276\n",
      "Starting Training\n",
      "epoch: 00, loss: -0.30652\n",
      "epoch: 01, loss: -0.32077\n",
      "epoch: 02, loss: -0.33702\n",
      "epoch: 03, loss: -0.34905\n",
      "epoch: 04, loss: -0.35845\n",
      "epoch: 05, loss: -0.37041\n",
      "epoch: 06, loss: -0.37537\n",
      "epoch: 07, loss: -0.38571\n",
      "epoch: 08, loss: -0.39593\n",
      "epoch: 09, loss: -0.40549\n",
      "After Unsqueezing, feature size= torch.Size([525, 384])\n",
      "type(projected_feature) <class 'torch.Tensor'>\n",
      "projected feature shape= torch.Size([525, 128])\n"
     ]
    },
    {
     "name": "stderr",
     "output_type": "stream",
     "text": [
      " 28%|██▊       | 276/1000 [1:57:28<9:32:24, 47.44s/it]"
     ]
    },
    {
     "name": "stdout",
     "output_type": "stream",
     "text": [
      "eigenvalues shape torch.Size([5]) eigenvectors shape torch.Size([5, 525])\n",
      "276 /home/phdcs2/Hard_Disk/Datasets/Deep-Spectral-Segmentation/data/object-segmentation/ECSSD/features/dino_vits16/0277.pth\n",
      "0277\n"
     ]
    },
    {
     "name": "stderr",
     "output_type": "stream",
     "text": [
      "/home/phdcs2/Hard_Disk/Projects/T2I/deep-spectral-segmentation/venv/lib/python3.8/site-packages/sklearn/decomposition/_pca.py:545: RuntimeWarning: invalid value encountered in divide\n",
      "  explained_variance_ratio_ = explained_variance_ / total_var\n"
     ]
    },
    {
     "name": "stdout",
     "output_type": "stream",
     "text": [
      "Starting Training\n",
      "epoch: 00, loss: 0.00000\n",
      "epoch: 01, loss: 0.00000\n",
      "epoch: 02, loss: 0.00000\n",
      "epoch: 03, loss: 0.00000\n",
      "epoch: 04, loss: 0.00000\n",
      "epoch: 05, loss: 0.00000\n",
      "epoch: 06, loss: 0.00000\n",
      "epoch: 07, loss: 0.00000\n",
      "epoch: 08, loss: 0.00000\n",
      "epoch: 09, loss: 0.00000\n",
      "After Unsqueezing, feature size= torch.Size([400, 384])\n",
      "type(projected_feature) <class 'torch.Tensor'>\n",
      "projected feature shape= torch.Size([400, 128])\n"
     ]
    },
    {
     "name": "stderr",
     "output_type": "stream",
     "text": [
      " 28%|██▊       | 277/1000 [1:57:53<8:10:37, 40.72s/it]"
     ]
    },
    {
     "name": "stdout",
     "output_type": "stream",
     "text": [
      "eigenvalues shape torch.Size([5]) eigenvectors shape torch.Size([5, 400])\n",
      "277 /home/phdcs2/Hard_Disk/Datasets/Deep-Spectral-Segmentation/data/object-segmentation/ECSSD/features/dino_vits16/0278.pth\n",
      "0278\n",
      "Starting Training\n",
      "epoch: 00, loss: -0.35015\n",
      "epoch: 01, loss: -0.37686\n",
      "epoch: 02, loss: -0.38075\n",
      "epoch: 03, loss: -0.38804\n",
      "epoch: 04, loss: -0.39163\n",
      "epoch: 05, loss: -0.39657\n",
      "epoch: 06, loss: -0.40037\n",
      "epoch: 07, loss: -0.40450\n",
      "epoch: 08, loss: -0.40902\n",
      "epoch: 09, loss: -0.41420\n",
      "After Unsqueezing, feature size= torch.Size([550, 384])\n",
      "type(projected_feature) <class 'torch.Tensor'>\n",
      "projected feature shape= torch.Size([550, 128])\n"
     ]
    },
    {
     "name": "stderr",
     "output_type": "stream",
     "text": [
      " 28%|██▊       | 278/1000 [1:59:13<10:33:52, 52.68s/it]"
     ]
    },
    {
     "name": "stdout",
     "output_type": "stream",
     "text": [
      "eigenvalues shape torch.Size([5]) eigenvectors shape torch.Size([5, 550])\n",
      "278 /home/phdcs2/Hard_Disk/Datasets/Deep-Spectral-Segmentation/data/object-segmentation/ECSSD/features/dino_vits16/0279.pth\n",
      "0279\n"
     ]
    },
    {
     "name": "stderr",
     "output_type": "stream",
     "text": [
      "/home/phdcs2/Hard_Disk/Projects/T2I/deep-spectral-segmentation/venv/lib/python3.8/site-packages/sklearn/decomposition/_pca.py:545: RuntimeWarning: invalid value encountered in divide\n",
      "  explained_variance_ratio_ = explained_variance_ / total_var\n"
     ]
    },
    {
     "name": "stdout",
     "output_type": "stream",
     "text": [
      "Starting Training\n",
      "epoch: 00, loss: 0.00000\n",
      "epoch: 01, loss: 0.00000\n",
      "epoch: 02, loss: 0.00000\n",
      "epoch: 03, loss: 0.00000\n",
      "epoch: 04, loss: 0.00000\n",
      "epoch: 05, loss: 0.00000\n",
      "epoch: 06, loss: 0.00000\n",
      "epoch: 07, loss: 0.00000\n",
      "epoch: 08, loss: 0.00000\n",
      "epoch: 09, loss: 0.00000\n",
      "After Unsqueezing, feature size= torch.Size([450, 384])\n",
      "type(projected_feature) <class 'torch.Tensor'>\n",
      "projected feature shape= torch.Size([450, 128])\n"
     ]
    },
    {
     "name": "stderr",
     "output_type": "stream",
     "text": [
      " 28%|██▊       | 279/1000 [1:59:39<8:57:08, 44.70s/it] "
     ]
    },
    {
     "name": "stdout",
     "output_type": "stream",
     "text": [
      "eigenvalues shape torch.Size([5]) eigenvectors shape torch.Size([5, 450])\n",
      "279 /home/phdcs2/Hard_Disk/Datasets/Deep-Spectral-Segmentation/data/object-segmentation/ECSSD/features/dino_vits16/0280.pth\n",
      "0280\n",
      "Starting Training\n",
      "epoch: 00, loss: -0.30433\n",
      "epoch: 01, loss: -0.32106\n",
      "epoch: 02, loss: -0.33309\n",
      "epoch: 03, loss: -0.34239\n",
      "epoch: 04, loss: -0.35592\n",
      "epoch: 05, loss: -0.36588\n",
      "epoch: 06, loss: -0.37857\n",
      "epoch: 07, loss: -0.39319\n",
      "epoch: 08, loss: -0.40292\n",
      "epoch: 09, loss: -0.41425\n",
      "After Unsqueezing, feature size= torch.Size([625, 384])\n",
      "type(projected_feature) <class 'torch.Tensor'>\n",
      "projected feature shape= torch.Size([625, 128])\n"
     ]
    },
    {
     "name": "stderr",
     "output_type": "stream",
     "text": [
      " 28%|██▊       | 280/1000 [2:01:00<11:05:14, 55.44s/it]"
     ]
    },
    {
     "name": "stdout",
     "output_type": "stream",
     "text": [
      "eigenvalues shape torch.Size([5]) eigenvectors shape torch.Size([5, 625])\n",
      "280 /home/phdcs2/Hard_Disk/Datasets/Deep-Spectral-Segmentation/data/object-segmentation/ECSSD/features/dino_vits16/0281.pth\n",
      "0281\n",
      "Starting Training\n",
      "epoch: 00, loss: -0.28103\n",
      "epoch: 01, loss: -0.29467\n",
      "epoch: 02, loss: -0.30308\n",
      "epoch: 03, loss: -0.30931\n",
      "epoch: 04, loss: -0.31293\n",
      "epoch: 05, loss: -0.31805\n",
      "epoch: 06, loss: -0.32479\n",
      "epoch: 07, loss: -0.32972\n",
      "epoch: 08, loss: -0.33445\n",
      "epoch: 09, loss: -0.33746\n",
      "After Unsqueezing, feature size= torch.Size([450, 384])\n",
      "type(projected_feature) <class 'torch.Tensor'>\n",
      "projected feature shape= torch.Size([450, 128])\n"
     ]
    },
    {
     "name": "stderr",
     "output_type": "stream",
     "text": [
      " 28%|██▊       | 281/1000 [2:01:24<9:13:07, 46.16s/it] "
     ]
    },
    {
     "name": "stdout",
     "output_type": "stream",
     "text": [
      "eigenvalues shape torch.Size([5]) eigenvectors shape torch.Size([5, 450])\n",
      "281 /home/phdcs2/Hard_Disk/Datasets/Deep-Spectral-Segmentation/data/object-segmentation/ECSSD/features/dino_vits16/0282.pth\n",
      "0282\n"
     ]
    },
    {
     "name": "stderr",
     "output_type": "stream",
     "text": [
      "/home/phdcs2/Hard_Disk/Projects/T2I/deep-spectral-segmentation/venv/lib/python3.8/site-packages/sklearn/decomposition/_pca.py:545: RuntimeWarning: invalid value encountered in divide\n",
      "  explained_variance_ratio_ = explained_variance_ / total_var\n"
     ]
    },
    {
     "name": "stdout",
     "output_type": "stream",
     "text": [
      "Starting Training\n",
      "epoch: 00, loss: 0.00000\n",
      "epoch: 01, loss: 0.00000\n",
      "epoch: 02, loss: 0.00000\n",
      "epoch: 03, loss: 0.00000\n",
      "epoch: 04, loss: 0.00000\n",
      "epoch: 05, loss: 0.00000\n",
      "epoch: 06, loss: 0.00000\n",
      "epoch: 07, loss: 0.00000\n",
      "epoch: 08, loss: 0.00000\n",
      "epoch: 09, loss: 0.00000\n",
      "After Unsqueezing, feature size= torch.Size([400, 384])\n",
      "type(projected_feature) <class 'torch.Tensor'>\n",
      "projected feature shape= torch.Size([400, 128])\n"
     ]
    },
    {
     "name": "stderr",
     "output_type": "stream",
     "text": [
      " 28%|██▊       | 282/1000 [2:01:46<7:44:50, 38.84s/it]"
     ]
    },
    {
     "name": "stdout",
     "output_type": "stream",
     "text": [
      "eigenvalues shape torch.Size([5]) eigenvectors shape torch.Size([5, 400])\n",
      "282 /home/phdcs2/Hard_Disk/Datasets/Deep-Spectral-Segmentation/data/object-segmentation/ECSSD/features/dino_vits16/0283.pth\n",
      "0283\n",
      "Starting Training\n",
      "epoch: 00, loss: -0.16755\n",
      "epoch: 01, loss: -0.13955\n",
      "epoch: 02, loss: -0.14552\n",
      "epoch: 03, loss: -0.15367\n",
      "epoch: 04, loss: -0.16426\n",
      "epoch: 05, loss: -0.16868\n",
      "epoch: 06, loss: -0.16905\n",
      "epoch: 07, loss: -0.16944\n",
      "epoch: 08, loss: -0.17103\n",
      "epoch: 09, loss: -0.17088\n",
      "After Unsqueezing, feature size= torch.Size([400, 384])\n",
      "type(projected_feature) <class 'torch.Tensor'>\n",
      "projected feature shape= torch.Size([400, 128])\n"
     ]
    },
    {
     "name": "stderr",
     "output_type": "stream",
     "text": [
      " 28%|██▊       | 283/1000 [2:02:10<6:49:34, 34.27s/it]"
     ]
    },
    {
     "name": "stdout",
     "output_type": "stream",
     "text": [
      "eigenvalues shape torch.Size([5]) eigenvectors shape torch.Size([5, 400])\n",
      "283 /home/phdcs2/Hard_Disk/Datasets/Deep-Spectral-Segmentation/data/object-segmentation/ECSSD/features/dino_vits16/0284.pth\n",
      "0284\n"
     ]
    },
    {
     "name": "stderr",
     "output_type": "stream",
     "text": [
      "/home/phdcs2/Hard_Disk/Projects/T2I/deep-spectral-segmentation/venv/lib/python3.8/site-packages/sklearn/decomposition/_pca.py:545: RuntimeWarning: invalid value encountered in divide\n",
      "  explained_variance_ratio_ = explained_variance_ / total_var\n"
     ]
    },
    {
     "name": "stdout",
     "output_type": "stream",
     "text": [
      "Starting Training\n",
      "epoch: 00, loss: 0.00000\n",
      "epoch: 01, loss: 0.00000\n",
      "epoch: 02, loss: 0.00000\n",
      "epoch: 03, loss: 0.00000\n",
      "epoch: 04, loss: 0.00000\n",
      "epoch: 05, loss: 0.00000\n",
      "epoch: 06, loss: 0.00000\n",
      "epoch: 07, loss: 0.00000\n",
      "epoch: 08, loss: 0.00000\n",
      "epoch: 09, loss: 0.00000\n",
      "After Unsqueezing, feature size= torch.Size([400, 384])\n",
      "type(projected_feature) <class 'torch.Tensor'>\n",
      "projected feature shape= torch.Size([400, 128])\n"
     ]
    },
    {
     "name": "stderr",
     "output_type": "stream",
     "text": [
      " 28%|██▊       | 284/1000 [2:02:34<6:14:18, 31.37s/it]"
     ]
    },
    {
     "name": "stdout",
     "output_type": "stream",
     "text": [
      "eigenvalues shape torch.Size([5]) eigenvectors shape torch.Size([5, 400])\n",
      "284 /home/phdcs2/Hard_Disk/Datasets/Deep-Spectral-Segmentation/data/object-segmentation/ECSSD/features/dino_vits16/0285.pth\n",
      "0285\n"
     ]
    },
    {
     "name": "stderr",
     "output_type": "stream",
     "text": [
      "/home/phdcs2/Hard_Disk/Projects/T2I/deep-spectral-segmentation/venv/lib/python3.8/site-packages/sklearn/decomposition/_pca.py:545: RuntimeWarning: invalid value encountered in divide\n",
      "  explained_variance_ratio_ = explained_variance_ / total_var\n"
     ]
    },
    {
     "name": "stdout",
     "output_type": "stream",
     "text": [
      "Starting Training\n",
      "epoch: 00, loss: 0.00000\n",
      "epoch: 01, loss: 0.00000\n",
      "epoch: 02, loss: 0.00000\n",
      "epoch: 03, loss: 0.00000\n",
      "epoch: 04, loss: 0.00000\n",
      "epoch: 05, loss: 0.00000\n",
      "epoch: 06, loss: 0.00000\n",
      "epoch: 07, loss: 0.00000\n",
      "epoch: 08, loss: 0.00000\n",
      "epoch: 09, loss: 0.00000\n",
      "After Unsqueezing, feature size= torch.Size([400, 384])\n",
      "type(projected_feature) <class 'torch.Tensor'>\n",
      "projected feature shape= torch.Size([400, 128])\n"
     ]
    },
    {
     "name": "stderr",
     "output_type": "stream",
     "text": [
      " 28%|██▊       | 285/1000 [2:02:56<5:40:33, 28.58s/it]"
     ]
    },
    {
     "name": "stdout",
     "output_type": "stream",
     "text": [
      "eigenvalues shape torch.Size([5]) eigenvectors shape torch.Size([5, 400])\n",
      "285 /home/phdcs2/Hard_Disk/Datasets/Deep-Spectral-Segmentation/data/object-segmentation/ECSSD/features/dino_vits16/0286.pth\n",
      "0286\n"
     ]
    },
    {
     "name": "stderr",
     "output_type": "stream",
     "text": [
      "/home/phdcs2/Hard_Disk/Projects/T2I/deep-spectral-segmentation/venv/lib/python3.8/site-packages/sklearn/decomposition/_pca.py:545: RuntimeWarning: invalid value encountered in divide\n",
      "  explained_variance_ratio_ = explained_variance_ / total_var\n"
     ]
    },
    {
     "name": "stdout",
     "output_type": "stream",
     "text": [
      "Starting Training\n",
      "epoch: 00, loss: 0.00000\n",
      "epoch: 01, loss: 0.00000\n",
      "epoch: 02, loss: 0.00000\n",
      "epoch: 03, loss: 0.00000\n",
      "epoch: 04, loss: 0.00000\n",
      "epoch: 05, loss: 0.00000\n",
      "epoch: 06, loss: 0.00000\n",
      "epoch: 07, loss: 0.00000\n",
      "epoch: 08, loss: 0.00000\n",
      "epoch: 09, loss: 0.00000\n",
      "After Unsqueezing, feature size= torch.Size([450, 384])\n",
      "type(projected_feature) <class 'torch.Tensor'>\n",
      "projected feature shape= torch.Size([450, 128])\n"
     ]
    },
    {
     "name": "stderr",
     "output_type": "stream",
     "text": [
      " 29%|██▊       | 286/1000 [2:03:18<5:13:28, 26.34s/it]"
     ]
    },
    {
     "name": "stdout",
     "output_type": "stream",
     "text": [
      "eigenvalues shape torch.Size([5]) eigenvectors shape torch.Size([5, 450])\n",
      "286 /home/phdcs2/Hard_Disk/Datasets/Deep-Spectral-Segmentation/data/object-segmentation/ECSSD/features/dino_vits16/0287.pth\n",
      "0287\n"
     ]
    },
    {
     "name": "stderr",
     "output_type": "stream",
     "text": [
      "/home/phdcs2/Hard_Disk/Projects/T2I/deep-spectral-segmentation/venv/lib/python3.8/site-packages/sklearn/decomposition/_pca.py:545: RuntimeWarning: invalid value encountered in divide\n",
      "  explained_variance_ratio_ = explained_variance_ / total_var\n"
     ]
    },
    {
     "name": "stdout",
     "output_type": "stream",
     "text": [
      "Starting Training\n",
      "epoch: 00, loss: 0.00000\n",
      "epoch: 01, loss: 0.00000\n",
      "epoch: 02, loss: 0.00000\n",
      "epoch: 03, loss: 0.00000\n",
      "epoch: 04, loss: 0.00000\n",
      "epoch: 05, loss: 0.00000\n",
      "epoch: 06, loss: 0.00000\n",
      "epoch: 07, loss: 0.00000\n",
      "epoch: 08, loss: 0.00000\n",
      "epoch: 09, loss: 0.00000\n",
      "After Unsqueezing, feature size= torch.Size([375, 384])\n",
      "type(projected_feature) <class 'torch.Tensor'>\n",
      "projected feature shape= torch.Size([375, 128])\n"
     ]
    },
    {
     "name": "stderr",
     "output_type": "stream",
     "text": [
      " 29%|██▊       | 287/1000 [2:03:33<4:35:06, 23.15s/it]"
     ]
    },
    {
     "name": "stdout",
     "output_type": "stream",
     "text": [
      "eigenvalues shape torch.Size([5]) eigenvectors shape torch.Size([5, 375])\n",
      "287 /home/phdcs2/Hard_Disk/Datasets/Deep-Spectral-Segmentation/data/object-segmentation/ECSSD/features/dino_vits16/0288.pth\n",
      "0288\n"
     ]
    },
    {
     "name": "stderr",
     "output_type": "stream",
     "text": [
      "/home/phdcs2/Hard_Disk/Projects/T2I/deep-spectral-segmentation/venv/lib/python3.8/site-packages/sklearn/decomposition/_pca.py:545: RuntimeWarning: invalid value encountered in divide\n",
      "  explained_variance_ratio_ = explained_variance_ / total_var\n"
     ]
    },
    {
     "name": "stdout",
     "output_type": "stream",
     "text": [
      "Starting Training\n",
      "epoch: 00, loss: 0.00000\n",
      "epoch: 01, loss: 0.00000\n",
      "epoch: 02, loss: 0.00000\n",
      "epoch: 03, loss: 0.00000\n",
      "epoch: 04, loss: 0.00000\n",
      "epoch: 05, loss: 0.00000\n",
      "epoch: 06, loss: 0.00000\n",
      "epoch: 07, loss: 0.00000\n",
      "epoch: 08, loss: 0.00000\n",
      "epoch: 09, loss: 0.00000\n",
      "After Unsqueezing, feature size= torch.Size([450, 384])\n",
      "type(projected_feature) <class 'torch.Tensor'>\n",
      "projected feature shape= torch.Size([450, 128])\n"
     ]
    },
    {
     "name": "stderr",
     "output_type": "stream",
     "text": [
      " 29%|██▉       | 288/1000 [2:03:50<4:13:47, 21.39s/it]"
     ]
    },
    {
     "name": "stdout",
     "output_type": "stream",
     "text": [
      "eigenvalues shape torch.Size([5]) eigenvectors shape torch.Size([5, 450])\n",
      "288 /home/phdcs2/Hard_Disk/Datasets/Deep-Spectral-Segmentation/data/object-segmentation/ECSSD/features/dino_vits16/0289.pth\n",
      "0289\n",
      "Starting Training\n",
      "epoch: 00, loss: -0.02977\n",
      "epoch: 01, loss: -0.02994\n",
      "epoch: 02, loss: -0.03033\n",
      "epoch: 03, loss: -0.03051\n",
      "epoch: 04, loss: -0.03087\n",
      "epoch: 05, loss: -0.03086\n",
      "epoch: 06, loss: -0.03088\n",
      "epoch: 07, loss: -0.03097\n",
      "epoch: 08, loss: -0.03102\n",
      "epoch: 09, loss: -0.03097\n",
      "After Unsqueezing, feature size= torch.Size([450, 384])\n",
      "type(projected_feature) <class 'torch.Tensor'>\n",
      "projected feature shape= torch.Size([450, 128])\n"
     ]
    },
    {
     "name": "stderr",
     "output_type": "stream",
     "text": [
      " 29%|██▉       | 289/1000 [2:04:08<3:58:57, 20.16s/it]"
     ]
    },
    {
     "name": "stdout",
     "output_type": "stream",
     "text": [
      "eigenvalues shape torch.Size([5]) eigenvectors shape torch.Size([5, 450])\n",
      "289 /home/phdcs2/Hard_Disk/Datasets/Deep-Spectral-Segmentation/data/object-segmentation/ECSSD/features/dino_vits16/0290.pth\n",
      "0290\n"
     ]
    },
    {
     "name": "stderr",
     "output_type": "stream",
     "text": [
      "/home/phdcs2/Hard_Disk/Projects/T2I/deep-spectral-segmentation/venv/lib/python3.8/site-packages/sklearn/decomposition/_pca.py:545: RuntimeWarning: invalid value encountered in divide\n",
      "  explained_variance_ratio_ = explained_variance_ / total_var\n"
     ]
    },
    {
     "name": "stdout",
     "output_type": "stream",
     "text": [
      "Starting Training\n",
      "epoch: 00, loss: 0.00000\n",
      "epoch: 01, loss: 0.00000\n",
      "epoch: 02, loss: 0.00000\n",
      "epoch: 03, loss: 0.00000\n",
      "epoch: 04, loss: 0.00000\n",
      "epoch: 05, loss: 0.00000\n",
      "epoch: 06, loss: 0.00000\n",
      "epoch: 07, loss: 0.00000\n",
      "epoch: 08, loss: 0.00000\n",
      "epoch: 09, loss: 0.00000\n",
      "After Unsqueezing, feature size= torch.Size([375, 384])\n",
      "type(projected_feature) <class 'torch.Tensor'>\n",
      "projected feature shape= torch.Size([375, 128])\n"
     ]
    },
    {
     "name": "stderr",
     "output_type": "stream",
     "text": [
      " 29%|██▉       | 290/1000 [2:04:22<3:39:14, 18.53s/it]"
     ]
    },
    {
     "name": "stdout",
     "output_type": "stream",
     "text": [
      "eigenvalues shape torch.Size([5]) eigenvectors shape torch.Size([5, 375])\n",
      "290 /home/phdcs2/Hard_Disk/Datasets/Deep-Spectral-Segmentation/data/object-segmentation/ECSSD/features/dino_vits16/0291.pth\n",
      "0291\n"
     ]
    },
    {
     "name": "stderr",
     "output_type": "stream",
     "text": [
      "/home/phdcs2/Hard_Disk/Projects/T2I/deep-spectral-segmentation/venv/lib/python3.8/site-packages/sklearn/decomposition/_pca.py:545: RuntimeWarning: invalid value encountered in divide\n",
      "  explained_variance_ratio_ = explained_variance_ / total_var\n"
     ]
    },
    {
     "name": "stdout",
     "output_type": "stream",
     "text": [
      "Starting Training\n",
      "epoch: 00, loss: 0.00000\n",
      "epoch: 01, loss: 0.00000\n",
      "epoch: 02, loss: 0.00000\n",
      "epoch: 03, loss: 0.00000\n",
      "epoch: 04, loss: 0.00000\n",
      "epoch: 05, loss: 0.00000\n",
      "epoch: 06, loss: 0.00000\n",
      "epoch: 07, loss: 0.00000\n",
      "epoch: 08, loss: 0.00000\n",
      "epoch: 09, loss: 0.00000\n",
      "After Unsqueezing, feature size= torch.Size([475, 384])\n",
      "type(projected_feature) <class 'torch.Tensor'>\n",
      "projected feature shape= torch.Size([475, 128])\n"
     ]
    },
    {
     "name": "stderr",
     "output_type": "stream",
     "text": [
      " 29%|██▉       | 291/1000 [2:04:44<3:48:55, 19.37s/it]"
     ]
    },
    {
     "name": "stdout",
     "output_type": "stream",
     "text": [
      "eigenvalues shape torch.Size([5]) eigenvectors shape torch.Size([5, 475])\n",
      "291 /home/phdcs2/Hard_Disk/Datasets/Deep-Spectral-Segmentation/data/object-segmentation/ECSSD/features/dino_vits16/0292.pth\n",
      "0292\n"
     ]
    },
    {
     "name": "stderr",
     "output_type": "stream",
     "text": [
      "/home/phdcs2/Hard_Disk/Projects/T2I/deep-spectral-segmentation/venv/lib/python3.8/site-packages/sklearn/decomposition/_pca.py:545: RuntimeWarning: invalid value encountered in divide\n",
      "  explained_variance_ratio_ = explained_variance_ / total_var\n"
     ]
    },
    {
     "name": "stdout",
     "output_type": "stream",
     "text": [
      "Starting Training\n",
      "epoch: 00, loss: 0.00000\n",
      "epoch: 01, loss: 0.00000\n",
      "epoch: 02, loss: 0.00000\n",
      "epoch: 03, loss: 0.00000\n",
      "epoch: 04, loss: 0.00000\n",
      "epoch: 05, loss: 0.00000\n",
      "epoch: 06, loss: 0.00000\n",
      "epoch: 07, loss: 0.00000\n",
      "epoch: 08, loss: 0.00000\n",
      "epoch: 09, loss: 0.00000\n",
      "After Unsqueezing, feature size= torch.Size([400, 384])\n",
      "type(projected_feature) <class 'torch.Tensor'>\n",
      "projected feature shape= torch.Size([400, 128])\n"
     ]
    },
    {
     "name": "stderr",
     "output_type": "stream",
     "text": [
      " 29%|██▉       | 292/1000 [2:05:01<3:42:06, 18.82s/it]"
     ]
    },
    {
     "name": "stdout",
     "output_type": "stream",
     "text": [
      "eigenvalues shape torch.Size([5]) eigenvectors shape torch.Size([5, 400])\n",
      "292 /home/phdcs2/Hard_Disk/Datasets/Deep-Spectral-Segmentation/data/object-segmentation/ECSSD/features/dino_vits16/0293.pth\n",
      "0293\n"
     ]
    },
    {
     "name": "stderr",
     "output_type": "stream",
     "text": [
      "/home/phdcs2/Hard_Disk/Projects/T2I/deep-spectral-segmentation/venv/lib/python3.8/site-packages/sklearn/decomposition/_pca.py:545: RuntimeWarning: invalid value encountered in divide\n",
      "  explained_variance_ratio_ = explained_variance_ / total_var\n"
     ]
    },
    {
     "name": "stdout",
     "output_type": "stream",
     "text": [
      "Starting Training\n",
      "epoch: 00, loss: 0.00000\n",
      "epoch: 01, loss: 0.00000\n",
      "epoch: 02, loss: 0.00000\n",
      "epoch: 03, loss: 0.00000\n",
      "epoch: 04, loss: 0.00000\n",
      "epoch: 05, loss: 0.00000\n",
      "epoch: 06, loss: 0.00000\n",
      "epoch: 07, loss: 0.00000\n",
      "epoch: 08, loss: 0.00000\n",
      "epoch: 09, loss: 0.00000\n",
      "After Unsqueezing, feature size= torch.Size([425, 384])\n",
      "type(projected_feature) <class 'torch.Tensor'>\n",
      "projected feature shape= torch.Size([425, 128])\n"
     ]
    },
    {
     "name": "stderr",
     "output_type": "stream",
     "text": [
      " 29%|██▉       | 293/1000 [2:05:22<3:48:19, 19.38s/it]"
     ]
    },
    {
     "name": "stdout",
     "output_type": "stream",
     "text": [
      "eigenvalues shape torch.Size([5]) eigenvectors shape torch.Size([5, 425])\n",
      "293 /home/phdcs2/Hard_Disk/Datasets/Deep-Spectral-Segmentation/data/object-segmentation/ECSSD/features/dino_vits16/0294.pth\n",
      "0294\n",
      "Starting Training\n",
      "epoch: 00, loss: -0.32123\n",
      "epoch: 01, loss: -0.34682\n",
      "epoch: 02, loss: -0.36138\n",
      "epoch: 03, loss: -0.36972\n",
      "epoch: 04, loss: -0.37230\n",
      "epoch: 05, loss: -0.37455\n",
      "epoch: 06, loss: -0.37784\n",
      "epoch: 07, loss: -0.38013\n",
      "epoch: 08, loss: -0.38379\n",
      "epoch: 09, loss: -0.38699\n",
      "After Unsqueezing, feature size= torch.Size([425, 384])\n",
      "type(projected_feature) <class 'torch.Tensor'>\n",
      "projected feature shape= torch.Size([425, 128])\n"
     ]
    },
    {
     "name": "stderr",
     "output_type": "stream",
     "text": [
      " 29%|██▉       | 294/1000 [2:05:40<3:44:05, 19.05s/it]"
     ]
    },
    {
     "name": "stdout",
     "output_type": "stream",
     "text": [
      "eigenvalues shape torch.Size([5]) eigenvectors shape torch.Size([5, 425])\n",
      "294 /home/phdcs2/Hard_Disk/Datasets/Deep-Spectral-Segmentation/data/object-segmentation/ECSSD/features/dino_vits16/0295.pth\n",
      "0295\n"
     ]
    },
    {
     "name": "stderr",
     "output_type": "stream",
     "text": [
      "/home/phdcs2/Hard_Disk/Projects/T2I/deep-spectral-segmentation/venv/lib/python3.8/site-packages/sklearn/decomposition/_pca.py:545: RuntimeWarning: invalid value encountered in divide\n",
      "  explained_variance_ratio_ = explained_variance_ / total_var\n"
     ]
    },
    {
     "name": "stdout",
     "output_type": "stream",
     "text": [
      "Starting Training\n",
      "epoch: 00, loss: 0.00000\n",
      "epoch: 01, loss: 0.00000\n",
      "epoch: 02, loss: 0.00000\n",
      "epoch: 03, loss: 0.00000\n",
      "epoch: 04, loss: 0.00000\n",
      "epoch: 05, loss: 0.00000\n",
      "epoch: 06, loss: 0.00000\n",
      "epoch: 07, loss: 0.00000\n",
      "epoch: 08, loss: 0.00000\n",
      "epoch: 09, loss: 0.00000\n",
      "After Unsqueezing, feature size= torch.Size([425, 384])\n",
      "type(projected_feature) <class 'torch.Tensor'>\n",
      "projected feature shape= torch.Size([425, 128])\n"
     ]
    },
    {
     "name": "stderr",
     "output_type": "stream",
     "text": [
      " 30%|██▉       | 295/1000 [2:05:58<3:40:08, 18.74s/it]"
     ]
    },
    {
     "name": "stdout",
     "output_type": "stream",
     "text": [
      "eigenvalues shape torch.Size([5]) eigenvectors shape torch.Size([5, 425])\n",
      "295 /home/phdcs2/Hard_Disk/Datasets/Deep-Spectral-Segmentation/data/object-segmentation/ECSSD/features/dino_vits16/0296.pth\n",
      "0296\n",
      "Starting Training\n",
      "epoch: 00, loss: -0.21698\n",
      "epoch: 01, loss: -0.17186\n",
      "epoch: 02, loss: -0.15179\n",
      "epoch: 03, loss: -0.03781\n",
      "epoch: 04, loss: -0.03787\n",
      "epoch: 05, loss: -0.03778\n",
      "epoch: 06, loss: -0.03790\n",
      "epoch: 07, loss: -0.03779\n",
      "epoch: 08, loss: -0.03778\n",
      "epoch: 09, loss: -0.03797\n",
      "After Unsqueezing, feature size= torch.Size([425, 384])\n",
      "type(projected_feature) <class 'torch.Tensor'>\n",
      "projected feature shape= torch.Size([425, 128])\n"
     ]
    },
    {
     "name": "stderr",
     "output_type": "stream",
     "text": [
      " 30%|██▉       | 296/1000 [2:06:17<3:41:09, 18.85s/it]"
     ]
    },
    {
     "name": "stdout",
     "output_type": "stream",
     "text": [
      "eigenvalues shape torch.Size([5]) eigenvectors shape torch.Size([5, 425])\n",
      "296 /home/phdcs2/Hard_Disk/Datasets/Deep-Spectral-Segmentation/data/object-segmentation/ECSSD/features/dino_vits16/0297.pth\n",
      "0297\n"
     ]
    },
    {
     "name": "stderr",
     "output_type": "stream",
     "text": [
      "/home/phdcs2/Hard_Disk/Projects/T2I/deep-spectral-segmentation/venv/lib/python3.8/site-packages/sklearn/decomposition/_pca.py:545: RuntimeWarning: invalid value encountered in divide\n",
      "  explained_variance_ratio_ = explained_variance_ / total_var\n"
     ]
    },
    {
     "name": "stdout",
     "output_type": "stream",
     "text": [
      "Starting Training\n",
      "epoch: 00, loss: 0.00000\n",
      "epoch: 01, loss: 0.00000\n",
      "epoch: 02, loss: 0.00000\n",
      "epoch: 03, loss: 0.00000\n",
      "epoch: 04, loss: 0.00000\n",
      "epoch: 05, loss: 0.00000\n",
      "epoch: 06, loss: 0.00000\n",
      "epoch: 07, loss: 0.00000\n",
      "epoch: 08, loss: 0.00000\n",
      "epoch: 09, loss: 0.00000\n",
      "After Unsqueezing, feature size= torch.Size([475, 384])\n",
      "type(projected_feature) <class 'torch.Tensor'>\n",
      "projected feature shape= torch.Size([475, 128])\n"
     ]
    },
    {
     "name": "stderr",
     "output_type": "stream",
     "text": [
      " 30%|██▉       | 297/1000 [2:06:40<3:52:09, 19.81s/it]"
     ]
    },
    {
     "name": "stdout",
     "output_type": "stream",
     "text": [
      "eigenvalues shape torch.Size([5]) eigenvectors shape torch.Size([5, 475])\n",
      "297 /home/phdcs2/Hard_Disk/Datasets/Deep-Spectral-Segmentation/data/object-segmentation/ECSSD/features/dino_vits16/0298.pth\n",
      "0298\n"
     ]
    },
    {
     "name": "stderr",
     "output_type": "stream",
     "text": [
      "/home/phdcs2/Hard_Disk/Projects/T2I/deep-spectral-segmentation/venv/lib/python3.8/site-packages/sklearn/decomposition/_pca.py:545: RuntimeWarning: invalid value encountered in divide\n",
      "  explained_variance_ratio_ = explained_variance_ / total_var\n"
     ]
    },
    {
     "name": "stdout",
     "output_type": "stream",
     "text": [
      "Starting Training\n",
      "epoch: 00, loss: 0.00000\n",
      "epoch: 01, loss: 0.00000\n",
      "epoch: 02, loss: 0.00000\n",
      "epoch: 03, loss: 0.00000\n",
      "epoch: 04, loss: 0.00000\n",
      "epoch: 05, loss: 0.00000\n",
      "epoch: 06, loss: 0.00000\n",
      "epoch: 07, loss: 0.00000\n",
      "epoch: 08, loss: 0.00000\n",
      "epoch: 09, loss: 0.00000\n",
      "After Unsqueezing, feature size= torch.Size([400, 384])\n",
      "type(projected_feature) <class 'torch.Tensor'>\n",
      "projected feature shape= torch.Size([400, 128])\n"
     ]
    },
    {
     "name": "stderr",
     "output_type": "stream",
     "text": [
      " 30%|██▉       | 298/1000 [2:06:58<3:47:39, 19.46s/it]"
     ]
    },
    {
     "name": "stdout",
     "output_type": "stream",
     "text": [
      "eigenvalues shape torch.Size([5]) eigenvectors shape torch.Size([5, 400])\n",
      "298 /home/phdcs2/Hard_Disk/Datasets/Deep-Spectral-Segmentation/data/object-segmentation/ECSSD/features/dino_vits16/0299.pth\n",
      "0299\n",
      "Starting Training\n",
      "epoch: 00, loss: -0.32342\n",
      "epoch: 01, loss: -0.33870\n",
      "epoch: 02, loss: -0.34762\n",
      "epoch: 03, loss: -0.35376\n",
      "epoch: 04, loss: -0.36079\n",
      "epoch: 05, loss: -0.36814\n",
      "epoch: 06, loss: -0.37458\n",
      "epoch: 07, loss: -0.38147\n",
      "epoch: 08, loss: -0.38789\n",
      "epoch: 09, loss: -0.39435\n",
      "After Unsqueezing, feature size= torch.Size([450, 384])\n",
      "type(projected_feature) <class 'torch.Tensor'>\n",
      "projected feature shape= torch.Size([450, 128])\n"
     ]
    },
    {
     "name": "stderr",
     "output_type": "stream",
     "text": [
      " 30%|██▉       | 299/1000 [2:07:19<3:50:34, 19.74s/it]"
     ]
    },
    {
     "name": "stdout",
     "output_type": "stream",
     "text": [
      "eigenvalues shape torch.Size([5]) eigenvectors shape torch.Size([5, 450])\n",
      "299 /home/phdcs2/Hard_Disk/Datasets/Deep-Spectral-Segmentation/data/object-segmentation/ECSSD/features/dino_vits16/0300.pth\n",
      "0300\n",
      "Starting Training\n",
      "epoch: 00, loss: -0.05247\n",
      "epoch: 01, loss: -0.02862\n",
      "epoch: 02, loss: -0.03024\n",
      "epoch: 03, loss: -0.03047\n",
      "epoch: 04, loss: -0.03574\n",
      "epoch: 05, loss: -0.14301\n",
      "epoch: 06, loss: -0.14807\n",
      "epoch: 07, loss: -0.10880\n",
      "epoch: 08, loss: -0.15838\n",
      "epoch: 09, loss: -0.06406\n",
      "After Unsqueezing, feature size= torch.Size([475, 384])\n",
      "type(projected_feature) <class 'torch.Tensor'>\n",
      "projected feature shape= torch.Size([475, 128])\n"
     ]
    },
    {
     "name": "stderr",
     "output_type": "stream",
     "text": [
      " 30%|███       | 300/1000 [2:07:40<3:57:25, 20.35s/it]"
     ]
    },
    {
     "name": "stdout",
     "output_type": "stream",
     "text": [
      "eigenvalues shape torch.Size([5]) eigenvectors shape torch.Size([5, 475])\n",
      "300 /home/phdcs2/Hard_Disk/Datasets/Deep-Spectral-Segmentation/data/object-segmentation/ECSSD/features/dino_vits16/0301.pth\n",
      "0301\n"
     ]
    },
    {
     "name": "stderr",
     "output_type": "stream",
     "text": [
      "/home/phdcs2/Hard_Disk/Projects/T2I/deep-spectral-segmentation/venv/lib/python3.8/site-packages/sklearn/decomposition/_pca.py:545: RuntimeWarning: invalid value encountered in divide\n",
      "  explained_variance_ratio_ = explained_variance_ / total_var\n"
     ]
    },
    {
     "name": "stdout",
     "output_type": "stream",
     "text": [
      "Starting Training\n",
      "epoch: 00, loss: 0.00000\n",
      "epoch: 01, loss: 0.00000\n",
      "epoch: 02, loss: 0.00000\n",
      "epoch: 03, loss: 0.00000\n",
      "epoch: 04, loss: 0.00000\n",
      "epoch: 05, loss: 0.00000\n",
      "epoch: 06, loss: 0.00000\n",
      "epoch: 07, loss: 0.00000\n",
      "epoch: 08, loss: 0.00000\n",
      "epoch: 09, loss: 0.00000\n",
      "After Unsqueezing, feature size= torch.Size([400, 384])\n",
      "type(projected_feature) <class 'torch.Tensor'>\n",
      "projected feature shape= torch.Size([400, 128])\n"
     ]
    },
    {
     "name": "stderr",
     "output_type": "stream",
     "text": [
      " 30%|███       | 301/1000 [2:07:58<3:48:39, 19.63s/it]"
     ]
    },
    {
     "name": "stdout",
     "output_type": "stream",
     "text": [
      "eigenvalues shape torch.Size([5]) eigenvectors shape torch.Size([5, 400])\n",
      "301 /home/phdcs2/Hard_Disk/Datasets/Deep-Spectral-Segmentation/data/object-segmentation/ECSSD/features/dino_vits16/0302.pth\n",
      "0302\n"
     ]
    },
    {
     "name": "stderr",
     "output_type": "stream",
     "text": [
      "/home/phdcs2/Hard_Disk/Projects/T2I/deep-spectral-segmentation/venv/lib/python3.8/site-packages/sklearn/decomposition/_pca.py:545: RuntimeWarning: invalid value encountered in divide\n",
      "  explained_variance_ratio_ = explained_variance_ / total_var\n"
     ]
    },
    {
     "name": "stdout",
     "output_type": "stream",
     "text": [
      "Starting Training\n",
      "epoch: 00, loss: 0.00000\n",
      "epoch: 01, loss: 0.00000\n",
      "epoch: 02, loss: 0.00000\n",
      "epoch: 03, loss: 0.00000\n",
      "epoch: 04, loss: 0.00000\n",
      "epoch: 05, loss: 0.00000\n",
      "epoch: 06, loss: 0.00000\n",
      "epoch: 07, loss: 0.00000\n",
      "epoch: 08, loss: 0.00000\n",
      "epoch: 09, loss: 0.00000\n",
      "After Unsqueezing, feature size= torch.Size([450, 384])\n",
      "type(projected_feature) <class 'torch.Tensor'>\n",
      "projected feature shape= torch.Size([450, 128])\n"
     ]
    },
    {
     "name": "stderr",
     "output_type": "stream",
     "text": [
      " 30%|███       | 302/1000 [2:08:19<3:53:57, 20.11s/it]"
     ]
    },
    {
     "name": "stdout",
     "output_type": "stream",
     "text": [
      "eigenvalues shape torch.Size([5]) eigenvectors shape torch.Size([5, 450])\n",
      "302 /home/phdcs2/Hard_Disk/Datasets/Deep-Spectral-Segmentation/data/object-segmentation/ECSSD/features/dino_vits16/0303.pth\n",
      "0303\n",
      "Starting Training\n",
      "epoch: 00, loss: -0.73578\n",
      "epoch: 01, loss: -0.83850\n",
      "epoch: 02, loss: -0.84304\n",
      "epoch: 03, loss: -0.84373\n",
      "epoch: 04, loss: -0.84529\n",
      "epoch: 05, loss: -0.84585\n",
      "epoch: 06, loss: -0.84743\n",
      "epoch: 07, loss: -0.84737\n",
      "epoch: 08, loss: -0.84858\n",
      "epoch: 09, loss: -0.84809\n",
      "After Unsqueezing, feature size= torch.Size([450, 384])\n",
      "type(projected_feature) <class 'torch.Tensor'>\n",
      "projected feature shape= torch.Size([450, 128])\n"
     ]
    },
    {
     "name": "stderr",
     "output_type": "stream",
     "text": [
      " 30%|███       | 303/1000 [2:08:39<3:52:41, 20.03s/it]"
     ]
    },
    {
     "name": "stdout",
     "output_type": "stream",
     "text": [
      "eigenvalues shape torch.Size([5]) eigenvectors shape torch.Size([5, 450])\n",
      "303 /home/phdcs2/Hard_Disk/Datasets/Deep-Spectral-Segmentation/data/object-segmentation/ECSSD/features/dino_vits16/0304.pth\n",
      "0304\n"
     ]
    },
    {
     "name": "stderr",
     "output_type": "stream",
     "text": [
      "/home/phdcs2/Hard_Disk/Projects/T2I/deep-spectral-segmentation/venv/lib/python3.8/site-packages/sklearn/decomposition/_pca.py:545: RuntimeWarning: invalid value encountered in divide\n",
      "  explained_variance_ratio_ = explained_variance_ / total_var\n"
     ]
    },
    {
     "name": "stdout",
     "output_type": "stream",
     "text": [
      "Starting Training\n",
      "epoch: 00, loss: 0.00000\n",
      "epoch: 01, loss: 0.00000\n",
      "epoch: 02, loss: 0.00000\n",
      "epoch: 03, loss: 0.00000\n",
      "epoch: 04, loss: 0.00000\n",
      "epoch: 05, loss: 0.00000\n",
      "epoch: 06, loss: 0.00000\n",
      "epoch: 07, loss: 0.00000\n",
      "epoch: 08, loss: 0.00000\n",
      "epoch: 09, loss: 0.00000\n",
      "After Unsqueezing, feature size= torch.Size([400, 384])\n",
      "type(projected_feature) <class 'torch.Tensor'>\n",
      "projected feature shape= torch.Size([400, 128])\n"
     ]
    },
    {
     "name": "stderr",
     "output_type": "stream",
     "text": [
      " 30%|███       | 304/1000 [2:08:57<3:43:10, 19.24s/it]"
     ]
    },
    {
     "name": "stdout",
     "output_type": "stream",
     "text": [
      "eigenvalues shape torch.Size([5]) eigenvectors shape torch.Size([5, 400])\n",
      "304 /home/phdcs2/Hard_Disk/Datasets/Deep-Spectral-Segmentation/data/object-segmentation/ECSSD/features/dino_vits16/0305.pth\n",
      "0305\n",
      "Starting Training\n",
      "epoch: 00, loss: -0.24735\n",
      "epoch: 01, loss: -0.27319\n",
      "epoch: 02, loss: -0.28493\n",
      "epoch: 03, loss: -0.29284\n",
      "epoch: 04, loss: -0.30481\n",
      "epoch: 05, loss: -0.32325\n",
      "epoch: 06, loss: -0.34836\n",
      "epoch: 07, loss: -0.44775\n",
      "epoch: 08, loss: -0.67758\n",
      "epoch: 09, loss: -0.72079\n",
      "After Unsqueezing, feature size= torch.Size([400, 384])\n",
      "type(projected_feature) <class 'torch.Tensor'>\n",
      "projected feature shape= torch.Size([400, 128])\n"
     ]
    },
    {
     "name": "stderr",
     "output_type": "stream",
     "text": [
      " 30%|███       | 305/1000 [2:09:14<3:35:31, 18.61s/it]"
     ]
    },
    {
     "name": "stdout",
     "output_type": "stream",
     "text": [
      "eigenvalues shape torch.Size([5]) eigenvectors shape torch.Size([5, 400])\n",
      "305 /home/phdcs2/Hard_Disk/Datasets/Deep-Spectral-Segmentation/data/object-segmentation/ECSSD/features/dino_vits16/0306.pth\n",
      "0306\n",
      "Starting Training\n",
      "epoch: 00, loss: -0.28411\n",
      "epoch: 01, loss: -0.30311\n",
      "epoch: 02, loss: -0.30838\n",
      "epoch: 03, loss: -0.31013\n",
      "epoch: 04, loss: -0.31409\n",
      "epoch: 05, loss: -0.31717\n",
      "epoch: 06, loss: -0.32048\n",
      "epoch: 07, loss: -0.32379\n",
      "epoch: 08, loss: -0.32702\n",
      "epoch: 09, loss: -0.32996\n",
      "After Unsqueezing, feature size= torch.Size([400, 384])\n",
      "type(projected_feature) <class 'torch.Tensor'>\n",
      "projected feature shape= torch.Size([400, 128])\n"
     ]
    },
    {
     "name": "stderr",
     "output_type": "stream",
     "text": [
      " 31%|███       | 306/1000 [2:09:33<3:35:48, 18.66s/it]"
     ]
    },
    {
     "name": "stdout",
     "output_type": "stream",
     "text": [
      "eigenvalues shape torch.Size([5]) eigenvectors shape torch.Size([5, 400])\n",
      "306 /home/phdcs2/Hard_Disk/Datasets/Deep-Spectral-Segmentation/data/object-segmentation/ECSSD/features/dino_vits16/0307.pth\n",
      "0307\n",
      "Starting Training\n",
      "epoch: 00, loss: -0.04914\n",
      "epoch: 01, loss: -0.05448\n",
      "epoch: 02, loss: -0.05663\n",
      "epoch: 03, loss: -0.05860\n",
      "epoch: 04, loss: -0.06017\n",
      "epoch: 05, loss: -0.09913\n",
      "epoch: 06, loss: -0.17459\n",
      "epoch: 07, loss: -0.17853\n",
      "epoch: 08, loss: -0.18469\n",
      "epoch: 09, loss: -0.18975\n",
      "After Unsqueezing, feature size= torch.Size([450, 384])\n",
      "type(projected_feature) <class 'torch.Tensor'>\n",
      "projected feature shape= torch.Size([450, 128])\n"
     ]
    },
    {
     "name": "stderr",
     "output_type": "stream",
     "text": [
      " 31%|███       | 307/1000 [2:09:52<3:38:00, 18.88s/it]"
     ]
    },
    {
     "name": "stdout",
     "output_type": "stream",
     "text": [
      "eigenvalues shape torch.Size([5]) eigenvectors shape torch.Size([5, 450])\n",
      "307 /home/phdcs2/Hard_Disk/Datasets/Deep-Spectral-Segmentation/data/object-segmentation/ECSSD/features/dino_vits16/0308.pth\n",
      "0308\n",
      "Starting Training\n",
      "epoch: 00, loss: -0.30088\n",
      "epoch: 01, loss: -0.31406\n",
      "epoch: 02, loss: -0.31496\n",
      "epoch: 03, loss: -0.31769\n",
      "epoch: 04, loss: -0.32194\n",
      "epoch: 05, loss: -0.32504\n",
      "epoch: 06, loss: -0.32715\n",
      "epoch: 07, loss: -0.32757\n",
      "epoch: 08, loss: -0.33099\n",
      "epoch: 09, loss: -0.33393\n",
      "After Unsqueezing, feature size= torch.Size([450, 384])\n",
      "type(projected_feature) <class 'torch.Tensor'>\n",
      "projected feature shape= torch.Size([450, 128])\n"
     ]
    },
    {
     "name": "stderr",
     "output_type": "stream",
     "text": [
      " 31%|███       | 308/1000 [2:10:12<3:42:26, 19.29s/it]"
     ]
    },
    {
     "name": "stdout",
     "output_type": "stream",
     "text": [
      "eigenvalues shape torch.Size([5]) eigenvectors shape torch.Size([5, 450])\n",
      "308 /home/phdcs2/Hard_Disk/Datasets/Deep-Spectral-Segmentation/data/object-segmentation/ECSSD/features/dino_vits16/0309.pth\n",
      "0309\n"
     ]
    },
    {
     "name": "stderr",
     "output_type": "stream",
     "text": [
      "/home/phdcs2/Hard_Disk/Projects/T2I/deep-spectral-segmentation/venv/lib/python3.8/site-packages/sklearn/decomposition/_pca.py:545: RuntimeWarning: invalid value encountered in divide\n",
      "  explained_variance_ratio_ = explained_variance_ / total_var\n"
     ]
    },
    {
     "name": "stdout",
     "output_type": "stream",
     "text": [
      "Starting Training\n",
      "epoch: 00, loss: 0.00000\n",
      "epoch: 01, loss: 0.00000\n",
      "epoch: 02, loss: 0.00000\n",
      "epoch: 03, loss: 0.00000\n",
      "epoch: 04, loss: 0.00000\n",
      "epoch: 05, loss: 0.00000\n",
      "epoch: 06, loss: 0.00000\n",
      "epoch: 07, loss: 0.00000\n",
      "epoch: 08, loss: 0.00000\n",
      "epoch: 09, loss: 0.00000\n",
      "After Unsqueezing, feature size= torch.Size([400, 384])\n",
      "type(projected_feature) <class 'torch.Tensor'>\n",
      "projected feature shape= torch.Size([400, 128])\n"
     ]
    },
    {
     "name": "stderr",
     "output_type": "stream",
     "text": [
      " 31%|███       | 309/1000 [2:10:31<3:41:01, 19.19s/it]"
     ]
    },
    {
     "name": "stdout",
     "output_type": "stream",
     "text": [
      "eigenvalues shape torch.Size([5]) eigenvectors shape torch.Size([5, 400])\n",
      "309 /home/phdcs2/Hard_Disk/Datasets/Deep-Spectral-Segmentation/data/object-segmentation/ECSSD/features/dino_vits16/0310.pth\n",
      "0310\n",
      "Starting Training\n",
      "epoch: 00, loss: -0.32866\n",
      "epoch: 01, loss: -0.34239\n",
      "epoch: 02, loss: -0.35408\n",
      "epoch: 03, loss: -0.36199\n",
      "epoch: 04, loss: -0.36826\n",
      "epoch: 05, loss: -0.36925\n",
      "epoch: 06, loss: -0.37224\n",
      "epoch: 07, loss: -0.37503\n",
      "epoch: 08, loss: -0.37863\n",
      "epoch: 09, loss: -0.38402\n",
      "After Unsqueezing, feature size= torch.Size([450, 384])\n",
      "type(projected_feature) <class 'torch.Tensor'>\n",
      "projected feature shape= torch.Size([450, 128])\n"
     ]
    },
    {
     "name": "stderr",
     "output_type": "stream",
     "text": [
      " 31%|███       | 310/1000 [2:10:51<3:42:22, 19.34s/it]"
     ]
    },
    {
     "name": "stdout",
     "output_type": "stream",
     "text": [
      "eigenvalues shape torch.Size([5]) eigenvectors shape torch.Size([5, 450])\n",
      "310 /home/phdcs2/Hard_Disk/Datasets/Deep-Spectral-Segmentation/data/object-segmentation/ECSSD/features/dino_vits16/0311.pth\n",
      "0311\n",
      "Starting Training\n",
      "epoch: 00, loss: -0.29592\n",
      "epoch: 01, loss: -0.30978\n",
      "epoch: 02, loss: -0.31440\n",
      "epoch: 03, loss: -0.32030\n",
      "epoch: 04, loss: -0.32202\n",
      "epoch: 05, loss: -0.32799\n",
      "epoch: 06, loss: -0.33090\n",
      "epoch: 07, loss: -0.33585\n",
      "epoch: 08, loss: -0.33799\n",
      "epoch: 09, loss: -0.34227\n",
      "After Unsqueezing, feature size= torch.Size([400, 384])\n",
      "type(projected_feature) <class 'torch.Tensor'>\n",
      "projected feature shape= torch.Size([400, 128])\n"
     ]
    },
    {
     "name": "stderr",
     "output_type": "stream",
     "text": [
      " 31%|███       | 311/1000 [2:11:08<3:32:59, 18.55s/it]"
     ]
    },
    {
     "name": "stdout",
     "output_type": "stream",
     "text": [
      "eigenvalues shape torch.Size([5]) eigenvectors shape torch.Size([5, 400])\n",
      "311 /home/phdcs2/Hard_Disk/Datasets/Deep-Spectral-Segmentation/data/object-segmentation/ECSSD/features/dino_vits16/0312.pth\n",
      "0312\n"
     ]
    },
    {
     "name": "stderr",
     "output_type": "stream",
     "text": [
      "/home/phdcs2/Hard_Disk/Projects/T2I/deep-spectral-segmentation/venv/lib/python3.8/site-packages/sklearn/decomposition/_pca.py:545: RuntimeWarning: invalid value encountered in divide\n",
      "  explained_variance_ratio_ = explained_variance_ / total_var\n"
     ]
    },
    {
     "name": "stdout",
     "output_type": "stream",
     "text": [
      "Starting Training\n",
      "epoch: 00, loss: 0.00000\n",
      "epoch: 01, loss: 0.00000\n",
      "epoch: 02, loss: 0.00000\n",
      "epoch: 03, loss: 0.00000\n",
      "epoch: 04, loss: 0.00000\n",
      "epoch: 05, loss: 0.00000\n",
      "epoch: 06, loss: 0.00000\n",
      "epoch: 07, loss: 0.00000\n",
      "epoch: 08, loss: 0.00000\n",
      "epoch: 09, loss: 0.00000\n",
      "After Unsqueezing, feature size= torch.Size([400, 384])\n",
      "type(projected_feature) <class 'torch.Tensor'>\n",
      "projected feature shape= torch.Size([400, 128])\n"
     ]
    },
    {
     "name": "stderr",
     "output_type": "stream",
     "text": [
      " 31%|███       | 312/1000 [2:11:24<3:25:07, 17.89s/it]"
     ]
    },
    {
     "name": "stdout",
     "output_type": "stream",
     "text": [
      "eigenvalues shape torch.Size([5]) eigenvectors shape torch.Size([5, 400])\n",
      "312 /home/phdcs2/Hard_Disk/Datasets/Deep-Spectral-Segmentation/data/object-segmentation/ECSSD/features/dino_vits16/0313.pth\n",
      "0313\n",
      "Starting Training\n",
      "epoch: 00, loss: -0.01506\n",
      "epoch: 01, loss: -0.02167\n",
      "epoch: 02, loss: -0.02298\n",
      "epoch: 03, loss: -0.02315\n",
      "epoch: 04, loss: -0.02334\n",
      "epoch: 05, loss: -0.02353\n",
      "epoch: 06, loss: -0.02349\n",
      "epoch: 07, loss: -0.02372\n",
      "epoch: 08, loss: -0.02374\n",
      "epoch: 09, loss: -0.02381\n",
      "After Unsqueezing, feature size= torch.Size([400, 384])\n",
      "type(projected_feature) <class 'torch.Tensor'>\n",
      "projected feature shape= torch.Size([400, 128])\n"
     ]
    },
    {
     "name": "stderr",
     "output_type": "stream",
     "text": [
      " 31%|███▏      | 313/1000 [2:11:40<3:18:16, 17.32s/it]"
     ]
    },
    {
     "name": "stdout",
     "output_type": "stream",
     "text": [
      "eigenvalues shape torch.Size([5]) eigenvectors shape torch.Size([5, 400])\n",
      "313 /home/phdcs2/Hard_Disk/Datasets/Deep-Spectral-Segmentation/data/object-segmentation/ECSSD/features/dino_vits16/0314.pth\n",
      "0314\n"
     ]
    },
    {
     "name": "stderr",
     "output_type": "stream",
     "text": [
      "/home/phdcs2/Hard_Disk/Projects/T2I/deep-spectral-segmentation/venv/lib/python3.8/site-packages/sklearn/decomposition/_pca.py:545: RuntimeWarning: invalid value encountered in divide\n",
      "  explained_variance_ratio_ = explained_variance_ / total_var\n"
     ]
    },
    {
     "name": "stdout",
     "output_type": "stream",
     "text": [
      "Starting Training\n",
      "epoch: 00, loss: 0.00000\n",
      "epoch: 01, loss: 0.00000\n",
      "epoch: 02, loss: 0.00000\n",
      "epoch: 03, loss: 0.00000\n",
      "epoch: 04, loss: 0.00000\n",
      "epoch: 05, loss: 0.00000\n",
      "epoch: 06, loss: 0.00000\n",
      "epoch: 07, loss: 0.00000\n",
      "epoch: 08, loss: 0.00000\n",
      "epoch: 09, loss: 0.00000\n",
      "After Unsqueezing, feature size= torch.Size([400, 384])\n",
      "type(projected_feature) <class 'torch.Tensor'>\n",
      "projected feature shape= torch.Size([400, 128])\n"
     ]
    },
    {
     "name": "stderr",
     "output_type": "stream",
     "text": [
      " 31%|███▏      | 314/1000 [2:11:56<3:13:41, 16.94s/it]"
     ]
    },
    {
     "name": "stdout",
     "output_type": "stream",
     "text": [
      "eigenvalues shape torch.Size([5]) eigenvectors shape torch.Size([5, 400])\n",
      "314 /home/phdcs2/Hard_Disk/Datasets/Deep-Spectral-Segmentation/data/object-segmentation/ECSSD/features/dino_vits16/0315.pth\n",
      "0315\n",
      "Starting Training\n",
      "epoch: 00, loss: -0.20340\n",
      "epoch: 01, loss: -0.20651\n",
      "epoch: 02, loss: -0.21001\n",
      "epoch: 03, loss: -0.21431\n",
      "epoch: 04, loss: -0.21612\n",
      "epoch: 05, loss: -0.21991\n",
      "epoch: 06, loss: -0.22209\n",
      "epoch: 07, loss: -0.22339\n",
      "epoch: 08, loss: -0.22612\n",
      "epoch: 09, loss: -0.22893\n",
      "After Unsqueezing, feature size= torch.Size([450, 384])\n",
      "type(projected_feature) <class 'torch.Tensor'>\n",
      "projected feature shape= torch.Size([450, 128])\n"
     ]
    },
    {
     "name": "stderr",
     "output_type": "stream",
     "text": [
      " 32%|███▏      | 315/1000 [2:12:15<3:21:27, 17.65s/it]"
     ]
    },
    {
     "name": "stdout",
     "output_type": "stream",
     "text": [
      "eigenvalues shape torch.Size([5]) eigenvectors shape torch.Size([5, 450])\n",
      "315 /home/phdcs2/Hard_Disk/Datasets/Deep-Spectral-Segmentation/data/object-segmentation/ECSSD/features/dino_vits16/0316.pth\n",
      "0316\n",
      "Starting Training\n",
      "epoch: 00, loss: -0.73305\n",
      "epoch: 01, loss: -0.79639\n",
      "epoch: 02, loss: -0.79855\n",
      "epoch: 03, loss: -0.80137\n",
      "epoch: 04, loss: -0.80144\n",
      "epoch: 05, loss: -0.80242\n",
      "epoch: 06, loss: -0.80331\n",
      "epoch: 07, loss: -0.80359\n",
      "epoch: 08, loss: -0.80422\n",
      "epoch: 09, loss: -0.80511\n",
      "After Unsqueezing, feature size= torch.Size([450, 384])\n",
      "type(projected_feature) <class 'torch.Tensor'>\n",
      "projected feature shape= torch.Size([450, 128])\n"
     ]
    },
    {
     "name": "stderr",
     "output_type": "stream",
     "text": [
      " 32%|███▏      | 316/1000 [2:12:35<3:26:53, 18.15s/it]"
     ]
    },
    {
     "name": "stdout",
     "output_type": "stream",
     "text": [
      "eigenvalues shape torch.Size([5]) eigenvectors shape torch.Size([5, 450])\n",
      "316 /home/phdcs2/Hard_Disk/Datasets/Deep-Spectral-Segmentation/data/object-segmentation/ECSSD/features/dino_vits16/0317.pth\n",
      "0317\n",
      "Starting Training\n",
      "epoch: 00, loss: -0.31332\n",
      "epoch: 01, loss: -0.33645\n",
      "epoch: 02, loss: -0.34215\n",
      "epoch: 03, loss: -0.34595\n",
      "epoch: 04, loss: -0.34931\n",
      "epoch: 05, loss: -0.35393\n",
      "epoch: 06, loss: -0.35751\n",
      "epoch: 07, loss: -0.36013\n",
      "epoch: 08, loss: -0.36374\n",
      "epoch: 09, loss: -0.36673\n",
      "After Unsqueezing, feature size= torch.Size([450, 384])\n",
      "type(projected_feature) <class 'torch.Tensor'>\n",
      "projected feature shape= torch.Size([450, 128])\n"
     ]
    },
    {
     "name": "stderr",
     "output_type": "stream",
     "text": [
      " 32%|███▏      | 317/1000 [2:12:53<3:27:36, 18.24s/it]"
     ]
    },
    {
     "name": "stdout",
     "output_type": "stream",
     "text": [
      "eigenvalues shape torch.Size([5]) eigenvectors shape torch.Size([5, 450])\n",
      "317 /home/phdcs2/Hard_Disk/Datasets/Deep-Spectral-Segmentation/data/object-segmentation/ECSSD/features/dino_vits16/0318.pth\n",
      "0318\n",
      "Starting Training\n",
      "epoch: 00, loss: -0.31659\n",
      "epoch: 01, loss: -0.32123\n",
      "epoch: 02, loss: -0.32416\n",
      "epoch: 03, loss: -0.32868\n",
      "epoch: 04, loss: -0.33096\n",
      "epoch: 05, loss: -0.33482\n",
      "epoch: 06, loss: -0.33491\n",
      "epoch: 07, loss: -0.33501\n",
      "epoch: 08, loss: -0.33757\n",
      "epoch: 09, loss: -0.34082\n",
      "After Unsqueezing, feature size= torch.Size([450, 384])\n",
      "type(projected_feature) <class 'torch.Tensor'>\n",
      "projected feature shape= torch.Size([450, 128])\n"
     ]
    },
    {
     "name": "stderr",
     "output_type": "stream",
     "text": [
      " 32%|███▏      | 318/1000 [2:13:11<3:25:34, 18.09s/it]"
     ]
    },
    {
     "name": "stdout",
     "output_type": "stream",
     "text": [
      "eigenvalues shape torch.Size([5]) eigenvectors shape torch.Size([5, 450])\n",
      "318 /home/phdcs2/Hard_Disk/Datasets/Deep-Spectral-Segmentation/data/object-segmentation/ECSSD/features/dino_vits16/0319.pth\n",
      "0319\n",
      "Starting Training\n",
      "epoch: 00, loss: -0.73571\n",
      "epoch: 01, loss: -0.79990\n",
      "epoch: 02, loss: -0.80237\n",
      "epoch: 03, loss: -0.80543\n",
      "epoch: 04, loss: -0.80697\n",
      "epoch: 05, loss: -0.80774\n",
      "epoch: 06, loss: -0.80897\n",
      "epoch: 07, loss: -0.80986\n",
      "epoch: 08, loss: -0.81224\n",
      "epoch: 09, loss: -0.81162\n",
      "After Unsqueezing, feature size= torch.Size([450, 384])\n",
      "type(projected_feature) <class 'torch.Tensor'>\n",
      "projected feature shape= torch.Size([450, 128])\n"
     ]
    },
    {
     "name": "stderr",
     "output_type": "stream",
     "text": [
      " 32%|███▏      | 319/1000 [2:13:29<3:24:04, 17.98s/it]"
     ]
    },
    {
     "name": "stdout",
     "output_type": "stream",
     "text": [
      "eigenvalues shape torch.Size([5]) eigenvectors shape torch.Size([5, 450])\n",
      "319 /home/phdcs2/Hard_Disk/Datasets/Deep-Spectral-Segmentation/data/object-segmentation/ECSSD/features/dino_vits16/0320.pth\n",
      "0320\n",
      "Starting Training\n",
      "epoch: 00, loss: -0.24907\n",
      "epoch: 01, loss: -0.31097\n",
      "epoch: 02, loss: -0.33428\n",
      "epoch: 03, loss: -0.36915\n",
      "epoch: 04, loss: -0.44331\n",
      "epoch: 05, loss: -0.59510\n",
      "epoch: 06, loss: -0.72008\n",
      "epoch: 07, loss: -0.75195\n",
      "epoch: 08, loss: -0.76296\n",
      "epoch: 09, loss: -0.77154\n",
      "After Unsqueezing, feature size= torch.Size([450, 384])\n",
      "type(projected_feature) <class 'torch.Tensor'>\n",
      "projected feature shape= torch.Size([450, 128])\n"
     ]
    },
    {
     "name": "stderr",
     "output_type": "stream",
     "text": [
      " 32%|███▏      | 320/1000 [2:13:46<3:22:37, 17.88s/it]"
     ]
    },
    {
     "name": "stdout",
     "output_type": "stream",
     "text": [
      "eigenvalues shape torch.Size([5]) eigenvectors shape torch.Size([5, 450])\n",
      "320 /home/phdcs2/Hard_Disk/Datasets/Deep-Spectral-Segmentation/data/object-segmentation/ECSSD/features/dino_vits16/0321.pth\n",
      "0321\n",
      "Starting Training\n",
      "epoch: 00, loss: -0.77357\n",
      "epoch: 01, loss: -0.89700\n",
      "epoch: 02, loss: -0.90047\n",
      "epoch: 03, loss: -0.90201\n",
      "epoch: 04, loss: -0.90288\n",
      "epoch: 05, loss: -0.90447\n",
      "epoch: 06, loss: -0.90555\n",
      "epoch: 07, loss: -0.90589\n",
      "epoch: 08, loss: -0.90697\n",
      "epoch: 09, loss: -0.90740\n",
      "After Unsqueezing, feature size= torch.Size([500, 384])\n",
      "type(projected_feature) <class 'torch.Tensor'>\n",
      "projected feature shape= torch.Size([500, 128])\n"
     ]
    },
    {
     "name": "stderr",
     "output_type": "stream",
     "text": [
      " 32%|███▏      | 321/1000 [2:14:06<3:29:37, 18.52s/it]"
     ]
    },
    {
     "name": "stdout",
     "output_type": "stream",
     "text": [
      "eigenvalues shape torch.Size([5]) eigenvectors shape torch.Size([5, 500])\n",
      "321 /home/phdcs2/Hard_Disk/Datasets/Deep-Spectral-Segmentation/data/object-segmentation/ECSSD/features/dino_vits16/0322.pth\n",
      "0322\n"
     ]
    },
    {
     "name": "stderr",
     "output_type": "stream",
     "text": [
      "/home/phdcs2/Hard_Disk/Projects/T2I/deep-spectral-segmentation/venv/lib/python3.8/site-packages/sklearn/decomposition/_pca.py:545: RuntimeWarning: invalid value encountered in divide\n",
      "  explained_variance_ratio_ = explained_variance_ / total_var\n"
     ]
    },
    {
     "name": "stdout",
     "output_type": "stream",
     "text": [
      "Starting Training\n",
      "epoch: 00, loss: 0.00000\n",
      "epoch: 01, loss: 0.00000\n",
      "epoch: 02, loss: 0.00000\n",
      "epoch: 03, loss: 0.00000\n",
      "epoch: 04, loss: 0.00000\n",
      "epoch: 05, loss: 0.00000\n",
      "epoch: 06, loss: 0.00000\n",
      "epoch: 07, loss: 0.00000\n",
      "epoch: 08, loss: 0.00000\n",
      "epoch: 09, loss: 0.00000\n",
      "After Unsqueezing, feature size= torch.Size([450, 384])\n",
      "type(projected_feature) <class 'torch.Tensor'>\n",
      "projected feature shape= torch.Size([450, 128])\n"
     ]
    },
    {
     "name": "stderr",
     "output_type": "stream",
     "text": [
      " 32%|███▏      | 322/1000 [2:14:24<3:26:31, 18.28s/it]"
     ]
    },
    {
     "name": "stdout",
     "output_type": "stream",
     "text": [
      "eigenvalues shape torch.Size([5]) eigenvectors shape torch.Size([5, 450])\n",
      "322 /home/phdcs2/Hard_Disk/Datasets/Deep-Spectral-Segmentation/data/object-segmentation/ECSSD/features/dino_vits16/0323.pth\n",
      "0323\n",
      "Starting Training\n",
      "epoch: 00, loss: -0.33075\n",
      "epoch: 01, loss: -0.33671\n",
      "epoch: 02, loss: -0.34428\n",
      "epoch: 03, loss: -0.35035\n",
      "epoch: 04, loss: -0.35472\n",
      "epoch: 05, loss: -0.36063\n",
      "epoch: 06, loss: -0.36592\n",
      "epoch: 07, loss: -0.36935\n",
      "epoch: 08, loss: -0.37473\n",
      "epoch: 09, loss: -0.37805\n",
      "After Unsqueezing, feature size= torch.Size([450, 384])\n",
      "type(projected_feature) <class 'torch.Tensor'>\n",
      "projected feature shape= torch.Size([450, 128])\n"
     ]
    },
    {
     "name": "stderr",
     "output_type": "stream",
     "text": [
      " 32%|███▏      | 323/1000 [2:14:41<3:23:33, 18.04s/it]"
     ]
    },
    {
     "name": "stdout",
     "output_type": "stream",
     "text": [
      "eigenvalues shape torch.Size([5]) eigenvectors shape torch.Size([5, 450])\n",
      "323 /home/phdcs2/Hard_Disk/Datasets/Deep-Spectral-Segmentation/data/object-segmentation/ECSSD/features/dino_vits16/0324.pth\n",
      "0324\n",
      "Starting Training\n",
      "epoch: 00, loss: -0.32192\n",
      "epoch: 01, loss: -0.33994\n",
      "epoch: 02, loss: -0.35105\n",
      "epoch: 03, loss: -0.35912\n",
      "epoch: 04, loss: -0.36771\n",
      "epoch: 05, loss: -0.37421\n",
      "epoch: 06, loss: -0.37914\n",
      "epoch: 07, loss: -0.37803\n",
      "epoch: 08, loss: -0.38123\n",
      "epoch: 09, loss: -0.38468\n",
      "After Unsqueezing, feature size= torch.Size([450, 384])\n",
      "type(projected_feature) <class 'torch.Tensor'>\n",
      "projected feature shape= torch.Size([450, 128])\n"
     ]
    },
    {
     "name": "stderr",
     "output_type": "stream",
     "text": [
      " 32%|███▏      | 324/1000 [2:14:59<3:22:46, 18.00s/it]"
     ]
    },
    {
     "name": "stdout",
     "output_type": "stream",
     "text": [
      "eigenvalues shape torch.Size([5]) eigenvectors shape torch.Size([5, 450])\n",
      "324 /home/phdcs2/Hard_Disk/Datasets/Deep-Spectral-Segmentation/data/object-segmentation/ECSSD/features/dino_vits16/0325.pth\n",
      "0325\n",
      "Starting Training\n",
      "epoch: 00, loss: -0.17179\n",
      "epoch: 01, loss: -0.02574\n",
      "epoch: 02, loss: -0.02869\n",
      "epoch: 03, loss: -0.03017\n",
      "epoch: 04, loss: -0.03401\n",
      "epoch: 05, loss: -0.04122\n",
      "epoch: 06, loss: -0.04233\n",
      "epoch: 07, loss: -0.09404\n",
      "epoch: 08, loss: -0.29308\n",
      "epoch: 09, loss: -0.29634\n",
      "After Unsqueezing, feature size= torch.Size([450, 384])\n",
      "type(projected_feature) <class 'torch.Tensor'>\n",
      "projected feature shape= torch.Size([450, 128])\n"
     ]
    },
    {
     "name": "stderr",
     "output_type": "stream",
     "text": [
      " 32%|███▎      | 325/1000 [2:15:17<3:20:16, 17.80s/it]"
     ]
    },
    {
     "name": "stdout",
     "output_type": "stream",
     "text": [
      "eigenvalues shape torch.Size([5]) eigenvectors shape torch.Size([5, 450])\n",
      "325 /home/phdcs2/Hard_Disk/Datasets/Deep-Spectral-Segmentation/data/object-segmentation/ECSSD/features/dino_vits16/0326.pth\n",
      "0326\n"
     ]
    },
    {
     "name": "stderr",
     "output_type": "stream",
     "text": [
      "/home/phdcs2/Hard_Disk/Projects/T2I/deep-spectral-segmentation/venv/lib/python3.8/site-packages/sklearn/decomposition/_pca.py:545: RuntimeWarning: invalid value encountered in divide\n",
      "  explained_variance_ratio_ = explained_variance_ / total_var\n"
     ]
    },
    {
     "name": "stdout",
     "output_type": "stream",
     "text": [
      "Starting Training\n",
      "epoch: 00, loss: 0.00000\n",
      "epoch: 01, loss: 0.00000\n",
      "epoch: 02, loss: 0.00000\n",
      "epoch: 03, loss: 0.00000\n",
      "epoch: 04, loss: 0.00000\n",
      "epoch: 05, loss: 0.00000\n",
      "epoch: 06, loss: 0.00000\n",
      "epoch: 07, loss: 0.00000\n",
      "epoch: 08, loss: 0.00000\n",
      "epoch: 09, loss: 0.00000\n",
      "After Unsqueezing, feature size= torch.Size([425, 384])\n",
      "type(projected_feature) <class 'torch.Tensor'>\n",
      "projected feature shape= torch.Size([425, 128])\n"
     ]
    },
    {
     "name": "stderr",
     "output_type": "stream",
     "text": [
      " 33%|███▎      | 326/1000 [2:15:34<3:17:08, 17.55s/it]"
     ]
    },
    {
     "name": "stdout",
     "output_type": "stream",
     "text": [
      "eigenvalues shape torch.Size([5]) eigenvectors shape torch.Size([5, 425])\n",
      "326 /home/phdcs2/Hard_Disk/Datasets/Deep-Spectral-Segmentation/data/object-segmentation/ECSSD/features/dino_vits16/0327.pth\n",
      "0327\n"
     ]
    },
    {
     "name": "stderr",
     "output_type": "stream",
     "text": [
      "/home/phdcs2/Hard_Disk/Projects/T2I/deep-spectral-segmentation/venv/lib/python3.8/site-packages/sklearn/decomposition/_pca.py:545: RuntimeWarning: invalid value encountered in divide\n",
      "  explained_variance_ratio_ = explained_variance_ / total_var\n"
     ]
    },
    {
     "name": "stdout",
     "output_type": "stream",
     "text": [
      "Starting Training\n",
      "epoch: 00, loss: 0.00000\n",
      "epoch: 01, loss: 0.00000\n",
      "epoch: 02, loss: 0.00000\n",
      "epoch: 03, loss: 0.00000\n",
      "epoch: 04, loss: 0.00000\n",
      "epoch: 05, loss: 0.00000\n",
      "epoch: 06, loss: 0.00000\n",
      "epoch: 07, loss: 0.00000\n",
      "epoch: 08, loss: 0.00000\n",
      "epoch: 09, loss: 0.00000\n",
      "After Unsqueezing, feature size= torch.Size([450, 384])\n",
      "type(projected_feature) <class 'torch.Tensor'>\n",
      "projected feature shape= torch.Size([450, 128])\n"
     ]
    },
    {
     "name": "stderr",
     "output_type": "stream",
     "text": [
      " 33%|███▎      | 327/1000 [2:15:52<3:18:31, 17.70s/it]"
     ]
    },
    {
     "name": "stdout",
     "output_type": "stream",
     "text": [
      "eigenvalues shape torch.Size([5]) eigenvectors shape torch.Size([5, 450])\n",
      "327 /home/phdcs2/Hard_Disk/Datasets/Deep-Spectral-Segmentation/data/object-segmentation/ECSSD/features/dino_vits16/0328.pth\n",
      "0328\n"
     ]
    },
    {
     "name": "stderr",
     "output_type": "stream",
     "text": [
      "/home/phdcs2/Hard_Disk/Projects/T2I/deep-spectral-segmentation/venv/lib/python3.8/site-packages/sklearn/decomposition/_pca.py:545: RuntimeWarning: invalid value encountered in divide\n",
      "  explained_variance_ratio_ = explained_variance_ / total_var\n"
     ]
    },
    {
     "name": "stdout",
     "output_type": "stream",
     "text": [
      "Starting Training\n",
      "epoch: 00, loss: 0.00000\n",
      "epoch: 01, loss: 0.00000\n",
      "epoch: 02, loss: 0.00000\n",
      "epoch: 03, loss: 0.00000\n",
      "epoch: 04, loss: 0.00000\n",
      "epoch: 05, loss: 0.00000\n",
      "epoch: 06, loss: 0.00000\n",
      "epoch: 07, loss: 0.00000\n",
      "epoch: 08, loss: 0.00000\n",
      "epoch: 09, loss: 0.00000\n",
      "After Unsqueezing, feature size= torch.Size([475, 384])\n",
      "type(projected_feature) <class 'torch.Tensor'>\n",
      "projected feature shape= torch.Size([475, 128])\n"
     ]
    },
    {
     "name": "stderr",
     "output_type": "stream",
     "text": [
      " 33%|███▎      | 328/1000 [2:16:10<3:20:15, 17.88s/it]"
     ]
    },
    {
     "name": "stdout",
     "output_type": "stream",
     "text": [
      "eigenvalues shape torch.Size([5]) eigenvectors shape torch.Size([5, 475])\n",
      "328 /home/phdcs2/Hard_Disk/Datasets/Deep-Spectral-Segmentation/data/object-segmentation/ECSSD/features/dino_vits16/0329.pth\n",
      "0329\n"
     ]
    },
    {
     "name": "stderr",
     "output_type": "stream",
     "text": [
      "/home/phdcs2/Hard_Disk/Projects/T2I/deep-spectral-segmentation/venv/lib/python3.8/site-packages/sklearn/decomposition/_pca.py:545: RuntimeWarning: invalid value encountered in divide\n",
      "  explained_variance_ratio_ = explained_variance_ / total_var\n"
     ]
    },
    {
     "name": "stdout",
     "output_type": "stream",
     "text": [
      "Starting Training\n",
      "epoch: 00, loss: 0.00000\n",
      "epoch: 01, loss: 0.00000\n",
      "epoch: 02, loss: 0.00000\n",
      "epoch: 03, loss: 0.00000\n",
      "epoch: 04, loss: 0.00000\n",
      "epoch: 05, loss: 0.00000\n",
      "epoch: 06, loss: 0.00000\n",
      "epoch: 07, loss: 0.00000\n",
      "epoch: 08, loss: 0.00000\n",
      "epoch: 09, loss: 0.00000\n",
      "After Unsqueezing, feature size= torch.Size([500, 384])\n",
      "type(projected_feature) <class 'torch.Tensor'>\n",
      "projected feature shape= torch.Size([500, 128])\n"
     ]
    },
    {
     "name": "stderr",
     "output_type": "stream",
     "text": [
      " 33%|███▎      | 329/1000 [2:16:29<3:25:09, 18.34s/it]"
     ]
    },
    {
     "name": "stdout",
     "output_type": "stream",
     "text": [
      "eigenvalues shape torch.Size([5]) eigenvectors shape torch.Size([5, 500])\n",
      "329 /home/phdcs2/Hard_Disk/Datasets/Deep-Spectral-Segmentation/data/object-segmentation/ECSSD/features/dino_vits16/0330.pth\n",
      "0330\n",
      "Starting Training\n",
      "epoch: 00, loss: -0.31154\n",
      "epoch: 01, loss: -0.32699\n",
      "epoch: 02, loss: -0.33368\n",
      "epoch: 03, loss: -0.33830\n",
      "epoch: 04, loss: -0.34429\n",
      "epoch: 05, loss: -0.34811\n",
      "epoch: 06, loss: -0.35242\n",
      "epoch: 07, loss: -0.35767\n",
      "epoch: 08, loss: -0.36223\n",
      "epoch: 09, loss: -0.36559\n",
      "After Unsqueezing, feature size= torch.Size([450, 384])\n",
      "type(projected_feature) <class 'torch.Tensor'>\n",
      "projected feature shape= torch.Size([450, 128])\n"
     ]
    },
    {
     "name": "stderr",
     "output_type": "stream",
     "text": [
      " 33%|███▎      | 330/1000 [2:16:46<3:18:55, 17.81s/it]"
     ]
    },
    {
     "name": "stdout",
     "output_type": "stream",
     "text": [
      "eigenvalues shape torch.Size([5]) eigenvectors shape torch.Size([5, 450])\n",
      "330 /home/phdcs2/Hard_Disk/Datasets/Deep-Spectral-Segmentation/data/object-segmentation/ECSSD/features/dino_vits16/0331.pth\n",
      "0331\n",
      "Starting Training\n",
      "epoch: 00, loss: -0.26188\n",
      "epoch: 01, loss: -0.27036\n",
      "epoch: 02, loss: -0.27685\n",
      "epoch: 03, loss: -0.28246\n",
      "epoch: 04, loss: -0.28622\n",
      "epoch: 05, loss: -0.29156\n",
      "epoch: 06, loss: -0.29498\n",
      "epoch: 07, loss: -0.29787\n",
      "epoch: 08, loss: -0.30067\n",
      "epoch: 09, loss: -0.30660\n",
      "After Unsqueezing, feature size= torch.Size([450, 384])\n",
      "type(projected_feature) <class 'torch.Tensor'>\n",
      "projected feature shape= torch.Size([450, 128])\n"
     ]
    },
    {
     "name": "stderr",
     "output_type": "stream",
     "text": [
      " 33%|███▎      | 331/1000 [2:17:04<3:18:57, 17.84s/it]"
     ]
    },
    {
     "name": "stdout",
     "output_type": "stream",
     "text": [
      "eigenvalues shape torch.Size([5]) eigenvectors shape torch.Size([5, 450])\n",
      "331 /home/phdcs2/Hard_Disk/Datasets/Deep-Spectral-Segmentation/data/object-segmentation/ECSSD/features/dino_vits16/0332.pth\n",
      "0332\n"
     ]
    },
    {
     "name": "stderr",
     "output_type": "stream",
     "text": [
      "/home/phdcs2/Hard_Disk/Projects/T2I/deep-spectral-segmentation/venv/lib/python3.8/site-packages/sklearn/decomposition/_pca.py:545: RuntimeWarning: invalid value encountered in divide\n",
      "  explained_variance_ratio_ = explained_variance_ / total_var\n"
     ]
    },
    {
     "name": "stdout",
     "output_type": "stream",
     "text": [
      "Starting Training\n",
      "epoch: 00, loss: 0.00000\n",
      "epoch: 01, loss: 0.00000\n",
      "epoch: 02, loss: 0.00000\n",
      "epoch: 03, loss: 0.00000\n",
      "epoch: 04, loss: 0.00000\n",
      "epoch: 05, loss: 0.00000\n",
      "epoch: 06, loss: 0.00000\n",
      "epoch: 07, loss: 0.00000\n",
      "epoch: 08, loss: 0.00000\n",
      "epoch: 09, loss: 0.00000\n",
      "After Unsqueezing, feature size= torch.Size([400, 384])\n",
      "type(projected_feature) <class 'torch.Tensor'>\n",
      "projected feature shape= torch.Size([400, 128])\n"
     ]
    },
    {
     "name": "stderr",
     "output_type": "stream",
     "text": [
      " 33%|███▎      | 332/1000 [2:17:19<3:11:15, 17.18s/it]"
     ]
    },
    {
     "name": "stdout",
     "output_type": "stream",
     "text": [
      "eigenvalues shape torch.Size([5]) eigenvectors shape torch.Size([5, 400])\n",
      "332 /home/phdcs2/Hard_Disk/Datasets/Deep-Spectral-Segmentation/data/object-segmentation/ECSSD/features/dino_vits16/0333.pth\n",
      "0333\n",
      "Starting Training\n",
      "epoch: 00, loss: -0.16918\n",
      "epoch: 01, loss: -0.13922\n",
      "epoch: 02, loss: -0.18471\n",
      "epoch: 03, loss: -0.16825\n",
      "epoch: 04, loss: -0.16224\n",
      "epoch: 05, loss: -0.16325\n",
      "epoch: 06, loss: -0.16830\n",
      "epoch: 07, loss: -0.16822\n",
      "epoch: 08, loss: -0.17139\n",
      "epoch: 09, loss: -0.18005\n",
      "After Unsqueezing, feature size= torch.Size([400, 384])\n",
      "type(projected_feature) <class 'torch.Tensor'>\n",
      "projected feature shape= torch.Size([400, 128])\n"
     ]
    },
    {
     "name": "stderr",
     "output_type": "stream",
     "text": [
      " 33%|███▎      | 333/1000 [2:17:35<3:05:11, 16.66s/it]"
     ]
    },
    {
     "name": "stdout",
     "output_type": "stream",
     "text": [
      "eigenvalues shape torch.Size([5]) eigenvectors shape torch.Size([5, 400])\n",
      "333 /home/phdcs2/Hard_Disk/Datasets/Deep-Spectral-Segmentation/data/object-segmentation/ECSSD/features/dino_vits16/0334.pth\n",
      "0334\n",
      "Starting Training\n",
      "epoch: 00, loss: -0.16833\n",
      "epoch: 01, loss: -0.14676\n",
      "epoch: 02, loss: -0.13769\n",
      "epoch: 03, loss: -0.02666\n",
      "epoch: 04, loss: -0.02290\n",
      "epoch: 05, loss: -0.02203\n",
      "epoch: 06, loss: -0.02203\n",
      "epoch: 07, loss: -0.02200\n",
      "epoch: 08, loss: -0.02224\n",
      "epoch: 09, loss: -0.02189\n",
      "After Unsqueezing, feature size= torch.Size([450, 384])\n",
      "type(projected_feature) <class 'torch.Tensor'>\n",
      "projected feature shape= torch.Size([450, 128])\n"
     ]
    },
    {
     "name": "stderr",
     "output_type": "stream",
     "text": [
      " 33%|███▎      | 334/1000 [2:17:52<3:07:52, 16.93s/it]"
     ]
    },
    {
     "name": "stdout",
     "output_type": "stream",
     "text": [
      "eigenvalues shape torch.Size([5]) eigenvectors shape torch.Size([5, 450])\n",
      "334 /home/phdcs2/Hard_Disk/Datasets/Deep-Spectral-Segmentation/data/object-segmentation/ECSSD/features/dino_vits16/0335.pth\n",
      "0335\n",
      "Starting Training\n",
      "epoch: 00, loss: -0.73826\n",
      "epoch: 01, loss: -0.84960\n",
      "epoch: 02, loss: -0.84562\n",
      "epoch: 03, loss: -0.84264\n",
      "epoch: 04, loss: -0.84081\n",
      "epoch: 05, loss: -0.83969\n",
      "epoch: 06, loss: -0.83918\n",
      "epoch: 07, loss: -0.83819\n",
      "epoch: 08, loss: -0.83899\n",
      "epoch: 09, loss: -0.83834\n",
      "After Unsqueezing, feature size= torch.Size([400, 384])\n",
      "type(projected_feature) <class 'torch.Tensor'>\n",
      "projected feature shape= torch.Size([400, 128])\n"
     ]
    },
    {
     "name": "stderr",
     "output_type": "stream",
     "text": [
      " 34%|███▎      | 335/1000 [2:18:08<3:04:11, 16.62s/it]"
     ]
    },
    {
     "name": "stdout",
     "output_type": "stream",
     "text": [
      "eigenvalues shape torch.Size([5]) eigenvectors shape torch.Size([5, 400])\n",
      "335 /home/phdcs2/Hard_Disk/Datasets/Deep-Spectral-Segmentation/data/object-segmentation/ECSSD/features/dino_vits16/0336.pth\n",
      "0336\n",
      "Starting Training\n",
      "epoch: 00, loss: -0.78597\n",
      "epoch: 01, loss: -0.88093\n",
      "epoch: 02, loss: -0.88097\n",
      "epoch: 03, loss: -0.88340\n",
      "epoch: 04, loss: -0.88507\n",
      "epoch: 05, loss: -0.88531\n",
      "epoch: 06, loss: -0.88639\n",
      "epoch: 07, loss: -0.88653\n",
      "epoch: 08, loss: -0.88799\n",
      "epoch: 09, loss: -0.88720\n",
      "After Unsqueezing, feature size= torch.Size([450, 384])\n",
      "type(projected_feature) <class 'torch.Tensor'>\n",
      "projected feature shape= torch.Size([450, 128])\n"
     ]
    },
    {
     "name": "stderr",
     "output_type": "stream",
     "text": [
      " 34%|███▎      | 336/1000 [2:18:25<3:05:19, 16.75s/it]"
     ]
    },
    {
     "name": "stdout",
     "output_type": "stream",
     "text": [
      "eigenvalues shape torch.Size([5]) eigenvectors shape torch.Size([5, 450])\n",
      "336 /home/phdcs2/Hard_Disk/Datasets/Deep-Spectral-Segmentation/data/object-segmentation/ECSSD/features/dino_vits16/0337.pth\n",
      "0337\n",
      "Starting Training\n",
      "epoch: 00, loss: -0.33604\n",
      "epoch: 01, loss: -0.35287\n",
      "epoch: 02, loss: -0.36282\n",
      "epoch: 03, loss: -0.37100\n",
      "epoch: 04, loss: -0.37745\n",
      "epoch: 05, loss: -0.38245\n",
      "epoch: 06, loss: -0.38636\n",
      "epoch: 07, loss: -0.39253\n",
      "epoch: 08, loss: -0.39612\n",
      "epoch: 09, loss: -0.40243\n",
      "After Unsqueezing, feature size= torch.Size([450, 384])\n",
      "type(projected_feature) <class 'torch.Tensor'>\n",
      "projected feature shape= torch.Size([450, 128])\n"
     ]
    },
    {
     "name": "stderr",
     "output_type": "stream",
     "text": [
      " 34%|███▎      | 337/1000 [2:18:42<3:05:37, 16.80s/it]"
     ]
    },
    {
     "name": "stdout",
     "output_type": "stream",
     "text": [
      "eigenvalues shape torch.Size([5]) eigenvectors shape torch.Size([5, 450])\n",
      "337 /home/phdcs2/Hard_Disk/Datasets/Deep-Spectral-Segmentation/data/object-segmentation/ECSSD/features/dino_vits16/0338.pth\n",
      "0338\n",
      "Starting Training\n",
      "epoch: 00, loss: -0.23852\n",
      "epoch: 01, loss: -0.25572\n",
      "epoch: 02, loss: -0.26085\n",
      "epoch: 03, loss: -0.26295\n",
      "epoch: 04, loss: -0.26902\n",
      "epoch: 05, loss: -0.27119\n",
      "epoch: 06, loss: -0.27364\n",
      "epoch: 07, loss: -0.27772\n",
      "epoch: 08, loss: -0.28054\n",
      "epoch: 09, loss: -0.27879\n",
      "After Unsqueezing, feature size= torch.Size([450, 384])\n",
      "type(projected_feature) <class 'torch.Tensor'>\n",
      "projected feature shape= torch.Size([450, 128])\n"
     ]
    },
    {
     "name": "stderr",
     "output_type": "stream",
     "text": [
      " 34%|███▍      | 338/1000 [2:19:01<3:10:19, 17.25s/it]"
     ]
    },
    {
     "name": "stdout",
     "output_type": "stream",
     "text": [
      "eigenvalues shape torch.Size([5]) eigenvectors shape torch.Size([5, 450])\n",
      "338 /home/phdcs2/Hard_Disk/Datasets/Deep-Spectral-Segmentation/data/object-segmentation/ECSSD/features/dino_vits16/0339.pth\n",
      "0339\n"
     ]
    },
    {
     "name": "stderr",
     "output_type": "stream",
     "text": [
      "/home/phdcs2/Hard_Disk/Projects/T2I/deep-spectral-segmentation/venv/lib/python3.8/site-packages/sklearn/decomposition/_pca.py:545: RuntimeWarning: invalid value encountered in divide\n",
      "  explained_variance_ratio_ = explained_variance_ / total_var\n"
     ]
    },
    {
     "name": "stdout",
     "output_type": "stream",
     "text": [
      "Starting Training\n",
      "epoch: 00, loss: 0.00000\n",
      "epoch: 01, loss: 0.00000\n",
      "epoch: 02, loss: 0.00000\n",
      "epoch: 03, loss: 0.00000\n",
      "epoch: 04, loss: 0.00000\n",
      "epoch: 05, loss: 0.00000\n",
      "epoch: 06, loss: 0.00000\n",
      "epoch: 07, loss: 0.00000\n",
      "epoch: 08, loss: 0.00000\n",
      "epoch: 09, loss: 0.00000\n",
      "After Unsqueezing, feature size= torch.Size([450, 384])\n",
      "type(projected_feature) <class 'torch.Tensor'>\n",
      "projected feature shape= torch.Size([450, 128])\n"
     ]
    },
    {
     "name": "stderr",
     "output_type": "stream",
     "text": [
      " 34%|███▍      | 339/1000 [2:19:20<3:15:47, 17.77s/it]"
     ]
    },
    {
     "name": "stdout",
     "output_type": "stream",
     "text": [
      "eigenvalues shape torch.Size([5]) eigenvectors shape torch.Size([5, 450])\n",
      "339 /home/phdcs2/Hard_Disk/Datasets/Deep-Spectral-Segmentation/data/object-segmentation/ECSSD/features/dino_vits16/0340.pth\n",
      "0340\n",
      "Starting Training\n",
      "epoch: 00, loss: -0.30847\n",
      "epoch: 01, loss: -0.31221\n",
      "epoch: 02, loss: -0.32907\n",
      "epoch: 03, loss: -0.33766\n",
      "epoch: 04, loss: -0.34704\n",
      "epoch: 05, loss: -0.35100\n",
      "epoch: 06, loss: -0.35589\n",
      "epoch: 07, loss: -0.36240\n",
      "epoch: 08, loss: -0.36516\n",
      "epoch: 09, loss: -0.37138\n",
      "After Unsqueezing, feature size= torch.Size([375, 384])\n",
      "type(projected_feature) <class 'torch.Tensor'>\n",
      "projected feature shape= torch.Size([375, 128])\n"
     ]
    },
    {
     "name": "stderr",
     "output_type": "stream",
     "text": [
      " 34%|███▍      | 340/1000 [2:19:36<3:12:16, 17.48s/it]"
     ]
    },
    {
     "name": "stdout",
     "output_type": "stream",
     "text": [
      "eigenvalues shape torch.Size([5]) eigenvectors shape torch.Size([5, 375])\n",
      "340 /home/phdcs2/Hard_Disk/Datasets/Deep-Spectral-Segmentation/data/object-segmentation/ECSSD/features/dino_vits16/0341.pth\n",
      "0341\n",
      "Starting Training\n",
      "epoch: 00, loss: -0.31015\n",
      "epoch: 01, loss: -0.33418\n",
      "epoch: 02, loss: -0.34008\n",
      "epoch: 03, loss: -0.34586\n",
      "epoch: 04, loss: -0.34910\n",
      "epoch: 05, loss: -0.35246\n",
      "epoch: 06, loss: -0.35810\n",
      "epoch: 07, loss: -0.36261\n",
      "epoch: 08, loss: -0.36583\n",
      "epoch: 09, loss: -0.37009\n",
      "After Unsqueezing, feature size= torch.Size([375, 384])\n",
      "type(projected_feature) <class 'torch.Tensor'>\n",
      "projected feature shape= torch.Size([375, 128])\n"
     ]
    },
    {
     "name": "stderr",
     "output_type": "stream",
     "text": [
      " 34%|███▍      | 341/1000 [2:19:54<3:11:42, 17.45s/it]"
     ]
    },
    {
     "name": "stdout",
     "output_type": "stream",
     "text": [
      "eigenvalues shape torch.Size([5]) eigenvectors shape torch.Size([5, 375])\n",
      "341 /home/phdcs2/Hard_Disk/Datasets/Deep-Spectral-Segmentation/data/object-segmentation/ECSSD/features/dino_vits16/0342.pth\n",
      "0342\n"
     ]
    },
    {
     "name": "stderr",
     "output_type": "stream",
     "text": [
      "/home/phdcs2/Hard_Disk/Projects/T2I/deep-spectral-segmentation/venv/lib/python3.8/site-packages/sklearn/decomposition/_pca.py:545: RuntimeWarning: invalid value encountered in divide\n",
      "  explained_variance_ratio_ = explained_variance_ / total_var\n"
     ]
    },
    {
     "name": "stdout",
     "output_type": "stream",
     "text": [
      "Starting Training\n",
      "epoch: 00, loss: 0.00000\n",
      "epoch: 01, loss: 0.00000\n",
      "epoch: 02, loss: 0.00000\n",
      "epoch: 03, loss: 0.00000\n",
      "epoch: 04, loss: 0.00000\n",
      "epoch: 05, loss: 0.00000\n",
      "epoch: 06, loss: 0.00000\n",
      "epoch: 07, loss: 0.00000\n",
      "epoch: 08, loss: 0.00000\n",
      "epoch: 09, loss: 0.00000\n",
      "After Unsqueezing, feature size= torch.Size([450, 384])\n",
      "type(projected_feature) <class 'torch.Tensor'>\n",
      "projected feature shape= torch.Size([450, 128])\n"
     ]
    },
    {
     "name": "stderr",
     "output_type": "stream",
     "text": [
      " 34%|███▍      | 342/1000 [2:20:17<3:29:16, 19.08s/it]"
     ]
    },
    {
     "name": "stdout",
     "output_type": "stream",
     "text": [
      "eigenvalues shape torch.Size([5]) eigenvectors shape torch.Size([5, 450])\n",
      "342 /home/phdcs2/Hard_Disk/Datasets/Deep-Spectral-Segmentation/data/object-segmentation/ECSSD/features/dino_vits16/0343.pth\n",
      "0343\n"
     ]
    },
    {
     "name": "stderr",
     "output_type": "stream",
     "text": [
      "/home/phdcs2/Hard_Disk/Projects/T2I/deep-spectral-segmentation/venv/lib/python3.8/site-packages/sklearn/decomposition/_pca.py:545: RuntimeWarning: invalid value encountered in divide\n",
      "  explained_variance_ratio_ = explained_variance_ / total_var\n"
     ]
    },
    {
     "name": "stdout",
     "output_type": "stream",
     "text": [
      "Starting Training\n",
      "epoch: 00, loss: 0.00000\n",
      "epoch: 01, loss: 0.00000\n",
      "epoch: 02, loss: 0.00000\n",
      "epoch: 03, loss: 0.00000\n",
      "epoch: 04, loss: 0.00000\n",
      "epoch: 05, loss: 0.00000\n",
      "epoch: 06, loss: 0.00000\n",
      "epoch: 07, loss: 0.00000\n",
      "epoch: 08, loss: 0.00000\n",
      "epoch: 09, loss: 0.00000\n",
      "After Unsqueezing, feature size= torch.Size([500, 384])\n",
      "type(projected_feature) <class 'torch.Tensor'>\n",
      "projected feature shape= torch.Size([500, 128])\n"
     ]
    },
    {
     "name": "stderr",
     "output_type": "stream",
     "text": [
      " 34%|███▍      | 343/1000 [2:20:44<3:54:16, 21.39s/it]"
     ]
    },
    {
     "name": "stdout",
     "output_type": "stream",
     "text": [
      "eigenvalues shape torch.Size([5]) eigenvectors shape torch.Size([5, 500])\n",
      "343 /home/phdcs2/Hard_Disk/Datasets/Deep-Spectral-Segmentation/data/object-segmentation/ECSSD/features/dino_vits16/0344.pth\n",
      "0344\n",
      "Starting Training\n",
      "epoch: 00, loss: -0.33560\n",
      "epoch: 01, loss: -0.37074\n",
      "epoch: 02, loss: -0.39265\n",
      "epoch: 03, loss: -0.40424\n",
      "epoch: 04, loss: -0.40971\n",
      "epoch: 05, loss: -0.42158\n",
      "epoch: 06, loss: -0.42565\n",
      "epoch: 07, loss: -0.42565\n",
      "epoch: 08, loss: -0.43596\n",
      "epoch: 09, loss: -0.44659\n",
      "After Unsqueezing, feature size= torch.Size([450, 384])\n",
      "type(projected_feature) <class 'torch.Tensor'>\n",
      "projected feature shape= torch.Size([450, 128])\n"
     ]
    },
    {
     "name": "stderr",
     "output_type": "stream",
     "text": [
      " 34%|███▍      | 344/1000 [2:21:08<4:02:54, 22.22s/it]"
     ]
    },
    {
     "name": "stdout",
     "output_type": "stream",
     "text": [
      "eigenvalues shape torch.Size([5]) eigenvectors shape torch.Size([5, 450])\n",
      "344 /home/phdcs2/Hard_Disk/Datasets/Deep-Spectral-Segmentation/data/object-segmentation/ECSSD/features/dino_vits16/0345.pth\n",
      "0345\n",
      "Starting Training\n",
      "epoch: 00, loss: -0.32404\n",
      "epoch: 01, loss: -0.34093\n",
      "epoch: 02, loss: -0.35462\n",
      "epoch: 03, loss: -0.36939\n",
      "epoch: 04, loss: -0.37779\n",
      "epoch: 05, loss: -0.38442\n",
      "epoch: 06, loss: -0.38820\n",
      "epoch: 07, loss: -0.39217\n",
      "epoch: 08, loss: -0.39590\n",
      "epoch: 09, loss: -0.39896\n",
      "After Unsqueezing, feature size= torch.Size([500, 384])\n",
      "type(projected_feature) <class 'torch.Tensor'>\n",
      "projected feature shape= torch.Size([500, 128])\n"
     ]
    },
    {
     "name": "stderr",
     "output_type": "stream",
     "text": [
      " 34%|███▍      | 345/1000 [2:21:37<4:25:47, 24.35s/it]"
     ]
    },
    {
     "name": "stdout",
     "output_type": "stream",
     "text": [
      "eigenvalues shape torch.Size([5]) eigenvectors shape torch.Size([5, 500])\n",
      "345 /home/phdcs2/Hard_Disk/Datasets/Deep-Spectral-Segmentation/data/object-segmentation/ECSSD/features/dino_vits16/0346.pth\n",
      "0346\n"
     ]
    },
    {
     "name": "stderr",
     "output_type": "stream",
     "text": [
      "/home/phdcs2/Hard_Disk/Projects/T2I/deep-spectral-segmentation/venv/lib/python3.8/site-packages/sklearn/decomposition/_pca.py:545: RuntimeWarning: invalid value encountered in divide\n",
      "  explained_variance_ratio_ = explained_variance_ / total_var\n"
     ]
    },
    {
     "name": "stdout",
     "output_type": "stream",
     "text": [
      "Starting Training\n",
      "epoch: 00, loss: 0.00000\n",
      "epoch: 01, loss: 0.00000\n",
      "epoch: 02, loss: 0.00000\n",
      "epoch: 03, loss: 0.00000\n",
      "epoch: 04, loss: 0.00000\n",
      "epoch: 05, loss: 0.00000\n",
      "epoch: 06, loss: 0.00000\n",
      "epoch: 07, loss: 0.00000\n",
      "epoch: 08, loss: 0.00000\n",
      "epoch: 09, loss: 0.00000\n",
      "After Unsqueezing, feature size= torch.Size([450, 384])\n",
      "type(projected_feature) <class 'torch.Tensor'>\n",
      "projected feature shape= torch.Size([450, 128])\n"
     ]
    },
    {
     "name": "stderr",
     "output_type": "stream",
     "text": [
      " 35%|███▍      | 346/1000 [2:22:01<4:23:21, 24.16s/it]"
     ]
    },
    {
     "name": "stdout",
     "output_type": "stream",
     "text": [
      "eigenvalues shape torch.Size([5]) eigenvectors shape torch.Size([5, 450])\n",
      "346 /home/phdcs2/Hard_Disk/Datasets/Deep-Spectral-Segmentation/data/object-segmentation/ECSSD/features/dino_vits16/0347.pth\n",
      "0347\n",
      "Starting Training\n",
      "epoch: 00, loss: -0.36516\n",
      "epoch: 01, loss: -0.37550\n",
      "epoch: 02, loss: -0.38780\n",
      "epoch: 03, loss: -0.39506\n",
      "epoch: 04, loss: -0.39904\n",
      "epoch: 05, loss: -0.40503\n",
      "epoch: 06, loss: -0.41002\n",
      "epoch: 07, loss: -0.41221\n",
      "epoch: 08, loss: -0.41687\n",
      "epoch: 09, loss: -0.41854\n",
      "After Unsqueezing, feature size= torch.Size([450, 384])\n",
      "type(projected_feature) <class 'torch.Tensor'>\n",
      "projected feature shape= torch.Size([450, 128])\n"
     ]
    },
    {
     "name": "stderr",
     "output_type": "stream",
     "text": [
      " 35%|███▍      | 347/1000 [2:22:23<4:17:31, 23.66s/it]"
     ]
    },
    {
     "name": "stdout",
     "output_type": "stream",
     "text": [
      "eigenvalues shape torch.Size([5]) eigenvectors shape torch.Size([5, 450])\n",
      "347 /home/phdcs2/Hard_Disk/Datasets/Deep-Spectral-Segmentation/data/object-segmentation/ECSSD/features/dino_vits16/0348.pth\n",
      "0348\n",
      "Starting Training\n",
      "epoch: 00, loss: -0.31602\n",
      "epoch: 01, loss: -0.33771\n",
      "epoch: 02, loss: -0.34463\n",
      "epoch: 03, loss: -0.35002\n",
      "epoch: 04, loss: -0.35449\n",
      "epoch: 05, loss: -0.35874\n",
      "epoch: 06, loss: -0.36132\n",
      "epoch: 07, loss: -0.36619\n",
      "epoch: 08, loss: -0.37103\n",
      "epoch: 09, loss: -0.37456\n",
      "After Unsqueezing, feature size= torch.Size([400, 384])\n",
      "type(projected_feature) <class 'torch.Tensor'>\n",
      "projected feature shape= torch.Size([400, 128])\n"
     ]
    },
    {
     "name": "stderr",
     "output_type": "stream",
     "text": [
      " 35%|███▍      | 348/1000 [2:22:47<4:17:07, 23.66s/it]"
     ]
    },
    {
     "name": "stdout",
     "output_type": "stream",
     "text": [
      "eigenvalues shape torch.Size([5]) eigenvectors shape torch.Size([5, 400])\n",
      "348 /home/phdcs2/Hard_Disk/Datasets/Deep-Spectral-Segmentation/data/object-segmentation/ECSSD/features/dino_vits16/0349.pth\n",
      "0349\n"
     ]
    },
    {
     "name": "stderr",
     "output_type": "stream",
     "text": [
      "/home/phdcs2/Hard_Disk/Projects/T2I/deep-spectral-segmentation/venv/lib/python3.8/site-packages/sklearn/decomposition/_pca.py:545: RuntimeWarning: invalid value encountered in divide\n",
      "  explained_variance_ratio_ = explained_variance_ / total_var\n"
     ]
    },
    {
     "name": "stdout",
     "output_type": "stream",
     "text": [
      "Starting Training\n",
      "epoch: 00, loss: 0.00000\n",
      "epoch: 01, loss: 0.00000\n",
      "epoch: 02, loss: 0.00000\n",
      "epoch: 03, loss: 0.00000\n",
      "epoch: 04, loss: 0.00000\n",
      "epoch: 05, loss: 0.00000\n",
      "epoch: 06, loss: 0.00000\n",
      "epoch: 07, loss: 0.00000\n",
      "epoch: 08, loss: 0.00000\n",
      "epoch: 09, loss: 0.00000\n",
      "After Unsqueezing, feature size= torch.Size([400, 384])\n",
      "type(projected_feature) <class 'torch.Tensor'>\n",
      "projected feature shape= torch.Size([400, 128])\n"
     ]
    },
    {
     "name": "stderr",
     "output_type": "stream",
     "text": [
      " 35%|███▍      | 349/1000 [2:23:08<4:09:24, 22.99s/it]"
     ]
    },
    {
     "name": "stdout",
     "output_type": "stream",
     "text": [
      "eigenvalues shape torch.Size([5]) eigenvectors shape torch.Size([5, 400])\n",
      "349 /home/phdcs2/Hard_Disk/Datasets/Deep-Spectral-Segmentation/data/object-segmentation/ECSSD/features/dino_vits16/0350.pth\n",
      "0350\n",
      "Starting Training\n",
      "epoch: 00, loss: -0.73397\n",
      "epoch: 01, loss: -0.82286\n",
      "epoch: 02, loss: -0.82332\n",
      "epoch: 03, loss: -0.82444\n",
      "epoch: 04, loss: -0.82592\n",
      "epoch: 05, loss: -0.82744\n",
      "epoch: 06, loss: -0.82850\n",
      "epoch: 07, loss: -0.82843\n",
      "epoch: 08, loss: -0.82988\n",
      "epoch: 09, loss: -0.82977\n",
      "After Unsqueezing, feature size= torch.Size([475, 384])\n",
      "type(projected_feature) <class 'torch.Tensor'>\n",
      "projected feature shape= torch.Size([475, 128])\n"
     ]
    },
    {
     "name": "stderr",
     "output_type": "stream",
     "text": [
      " 35%|███▌      | 350/1000 [2:23:27<3:56:11, 21.80s/it]"
     ]
    },
    {
     "name": "stdout",
     "output_type": "stream",
     "text": [
      "eigenvalues shape torch.Size([5]) eigenvectors shape torch.Size([5, 475])\n",
      "350 /home/phdcs2/Hard_Disk/Datasets/Deep-Spectral-Segmentation/data/object-segmentation/ECSSD/features/dino_vits16/0351.pth\n",
      "0351\n",
      "Starting Training\n",
      "epoch: 00, loss: -0.32093\n",
      "epoch: 01, loss: -0.20941\n",
      "epoch: 02, loss: -0.21915\n",
      "epoch: 03, loss: -0.22874\n",
      "epoch: 04, loss: -0.23353\n",
      "epoch: 05, loss: -0.24143\n",
      "epoch: 06, loss: -0.24572\n",
      "epoch: 07, loss: -0.25123\n",
      "epoch: 08, loss: -0.25437\n",
      "epoch: 09, loss: -0.25969\n",
      "After Unsqueezing, feature size= torch.Size([450, 384])\n",
      "type(projected_feature) <class 'torch.Tensor'>\n",
      "projected feature shape= torch.Size([450, 128])\n"
     ]
    },
    {
     "name": "stderr",
     "output_type": "stream",
     "text": [
      " 35%|███▌      | 351/1000 [2:23:50<3:58:43, 22.07s/it]"
     ]
    },
    {
     "name": "stdout",
     "output_type": "stream",
     "text": [
      "eigenvalues shape torch.Size([5]) eigenvectors shape torch.Size([5, 450])\n",
      "351 /home/phdcs2/Hard_Disk/Datasets/Deep-Spectral-Segmentation/data/object-segmentation/ECSSD/features/dino_vits16/0352.pth\n",
      "0352\n"
     ]
    },
    {
     "name": "stderr",
     "output_type": "stream",
     "text": [
      "/home/phdcs2/Hard_Disk/Projects/T2I/deep-spectral-segmentation/venv/lib/python3.8/site-packages/sklearn/decomposition/_pca.py:545: RuntimeWarning: invalid value encountered in divide\n",
      "  explained_variance_ratio_ = explained_variance_ / total_var\n"
     ]
    },
    {
     "name": "stdout",
     "output_type": "stream",
     "text": [
      "Starting Training\n",
      "epoch: 00, loss: 0.00000\n",
      "epoch: 01, loss: 0.00000\n",
      "epoch: 02, loss: 0.00000\n",
      "epoch: 03, loss: 0.00000\n",
      "epoch: 04, loss: 0.00000\n",
      "epoch: 05, loss: 0.00000\n",
      "epoch: 06, loss: 0.00000\n",
      "epoch: 07, loss: 0.00000\n",
      "epoch: 08, loss: 0.00000\n",
      "epoch: 09, loss: 0.00000\n",
      "After Unsqueezing, feature size= torch.Size([400, 384])\n",
      "type(projected_feature) <class 'torch.Tensor'>\n",
      "projected feature shape= torch.Size([400, 128])\n"
     ]
    },
    {
     "name": "stderr",
     "output_type": "stream",
     "text": [
      " 35%|███▌      | 352/1000 [2:24:10<3:52:29, 21.53s/it]"
     ]
    },
    {
     "name": "stdout",
     "output_type": "stream",
     "text": [
      "eigenvalues shape torch.Size([5]) eigenvectors shape torch.Size([5, 400])\n",
      "352 /home/phdcs2/Hard_Disk/Datasets/Deep-Spectral-Segmentation/data/object-segmentation/ECSSD/features/dino_vits16/0353.pth\n",
      "0353\n",
      "Starting Training\n",
      "epoch: 00, loss: -0.73524\n",
      "epoch: 01, loss: -0.80036\n",
      "epoch: 02, loss: -0.80395\n",
      "epoch: 03, loss: -0.80485\n",
      "epoch: 04, loss: -0.80671\n",
      "epoch: 05, loss: -0.80849\n",
      "epoch: 06, loss: -0.80908\n",
      "epoch: 07, loss: -0.81003\n",
      "epoch: 08, loss: -0.81035\n",
      "epoch: 09, loss: -0.81111\n",
      "After Unsqueezing, feature size= torch.Size([425, 384])\n",
      "type(projected_feature) <class 'torch.Tensor'>\n",
      "projected feature shape= torch.Size([425, 128])\n"
     ]
    },
    {
     "name": "stderr",
     "output_type": "stream",
     "text": [
      " 35%|███▌      | 353/1000 [2:24:31<3:50:08, 21.34s/it]"
     ]
    },
    {
     "name": "stdout",
     "output_type": "stream",
     "text": [
      "eigenvalues shape torch.Size([5]) eigenvectors shape torch.Size([5, 425])\n",
      "353 /home/phdcs2/Hard_Disk/Datasets/Deep-Spectral-Segmentation/data/object-segmentation/ECSSD/features/dino_vits16/0354.pth\n",
      "0354\n",
      "Starting Training\n",
      "epoch: 00, loss: -0.31517\n",
      "epoch: 01, loss: -0.33032\n",
      "epoch: 02, loss: -0.33720\n",
      "epoch: 03, loss: -0.34220\n",
      "epoch: 04, loss: -0.34811\n",
      "epoch: 05, loss: -0.35403\n",
      "epoch: 06, loss: -0.35765\n",
      "epoch: 07, loss: -0.36406\n",
      "epoch: 08, loss: -0.36772\n",
      "epoch: 09, loss: -0.37240\n"
     ]
    },
    {
     "name": "stderr",
     "output_type": "stream",
     "text": [
      " 35%|███▌      | 354/1000 [2:25:05<4:29:18, 25.01s/it]"
     ]
    },
    {
     "name": "stdout",
     "output_type": "stream",
     "text": [
      "After Unsqueezing, feature size= torch.Size([575, 384])\n",
      "type(projected_feature) <class 'torch.Tensor'>\n",
      "projected feature shape= torch.Size([575, 128])\n",
      "eigenvalues shape torch.Size([5]) eigenvectors shape torch.Size([5, 575])\n",
      "354 /home/phdcs2/Hard_Disk/Datasets/Deep-Spectral-Segmentation/data/object-segmentation/ECSSD/features/dino_vits16/0355.pth\n",
      "0355\n",
      "Starting Training\n",
      "epoch: 00, loss: -0.26658\n",
      "epoch: 01, loss: -0.59795\n",
      "epoch: 02, loss: -0.73323\n",
      "epoch: 03, loss: -0.73842\n",
      "epoch: 04, loss: -0.74003\n",
      "epoch: 05, loss: -0.74274\n",
      "epoch: 06, loss: -0.74559\n",
      "epoch: 07, loss: -0.74837\n",
      "epoch: 08, loss: -0.88726\n",
      "epoch: 09, loss: -0.99093\n",
      "After Unsqueezing, feature size= torch.Size([450, 384])\n",
      "type(projected_feature) <class 'torch.Tensor'>\n",
      "projected feature shape= torch.Size([450, 128])\n"
     ]
    },
    {
     "name": "stderr",
     "output_type": "stream",
     "text": [
      "/home/phdcs2/Hard_Disk/Projects/T2I/deep-spectral-segmentation/venv/lib/python3.8/site-packages/scipy/sparse/linalg/_eigen/arpack/arpack.py:935: LinAlgWarning: Diagonal number 450 is exactly zero. Singular matrix.\n",
      "  self.M_lu = lu_factor(M)\n",
      " 36%|███▌      | 355/1000 [2:25:29<4:27:02, 24.84s/it]"
     ]
    },
    {
     "name": "stdout",
     "output_type": "stream",
     "text": [
      " ** On entry to SLASCL parameter number  4 had an illegal value\n",
      " ** On entry to SLASCL parameter number  4 had an illegal value\n",
      "eigenvalues shape torch.Size([5]) eigenvectors shape torch.Size([5, 450])\n",
      "355 /home/phdcs2/Hard_Disk/Datasets/Deep-Spectral-Segmentation/data/object-segmentation/ECSSD/features/dino_vits16/0356.pth\n",
      "0356\n",
      "Starting Training\n",
      "epoch: 00, loss: -0.29196\n",
      "epoch: 01, loss: -0.20884\n",
      "epoch: 02, loss: -0.20989\n",
      "epoch: 03, loss: -0.21077\n",
      "epoch: 04, loss: -0.21438\n",
      "epoch: 05, loss: -0.22113\n",
      "epoch: 06, loss: -0.22267\n",
      "epoch: 07, loss: -0.22509\n",
      "epoch: 08, loss: -0.22635\n",
      "epoch: 09, loss: -0.22856\n",
      "After Unsqueezing, feature size= torch.Size([450, 384])\n",
      "type(projected_feature) <class 'torch.Tensor'>\n",
      "projected feature shape= torch.Size([450, 128])\n"
     ]
    },
    {
     "name": "stderr",
     "output_type": "stream",
     "text": [
      " 36%|███▌      | 356/1000 [2:25:54<4:27:19, 24.91s/it]"
     ]
    },
    {
     "name": "stdout",
     "output_type": "stream",
     "text": [
      "eigenvalues shape torch.Size([5]) eigenvectors shape torch.Size([5, 450])\n",
      "356 /home/phdcs2/Hard_Disk/Datasets/Deep-Spectral-Segmentation/data/object-segmentation/ECSSD/features/dino_vits16/0357.pth\n",
      "0357\n",
      "Starting Training\n",
      "epoch: 00, loss: -0.32900\n",
      "epoch: 01, loss: -0.34783\n",
      "epoch: 02, loss: -0.36127\n",
      "epoch: 03, loss: -0.37344\n",
      "epoch: 04, loss: -0.38351\n",
      "epoch: 05, loss: -0.39527\n",
      "epoch: 06, loss: -0.40456\n",
      "epoch: 07, loss: -0.41441\n",
      "epoch: 08, loss: -0.42341\n",
      "epoch: 09, loss: -0.43110\n",
      "After Unsqueezing, feature size= torch.Size([475, 384])\n",
      "type(projected_feature) <class 'torch.Tensor'>\n",
      "projected feature shape= torch.Size([475, 128])\n"
     ]
    },
    {
     "name": "stderr",
     "output_type": "stream",
     "text": [
      " 36%|███▌      | 357/1000 [2:26:23<4:37:55, 25.93s/it]"
     ]
    },
    {
     "name": "stdout",
     "output_type": "stream",
     "text": [
      "eigenvalues shape torch.Size([5]) eigenvectors shape torch.Size([5, 475])\n",
      "357 /home/phdcs2/Hard_Disk/Datasets/Deep-Spectral-Segmentation/data/object-segmentation/ECSSD/features/dino_vits16/0358.pth\n",
      "0358\n"
     ]
    },
    {
     "name": "stderr",
     "output_type": "stream",
     "text": [
      "/home/phdcs2/Hard_Disk/Projects/T2I/deep-spectral-segmentation/venv/lib/python3.8/site-packages/sklearn/decomposition/_pca.py:545: RuntimeWarning: invalid value encountered in divide\n",
      "  explained_variance_ratio_ = explained_variance_ / total_var\n"
     ]
    },
    {
     "name": "stdout",
     "output_type": "stream",
     "text": [
      "Starting Training\n",
      "epoch: 00, loss: 0.00000\n",
      "epoch: 01, loss: 0.00000\n",
      "epoch: 02, loss: 0.00000\n",
      "epoch: 03, loss: 0.00000\n",
      "epoch: 04, loss: 0.00000\n",
      "epoch: 05, loss: 0.00000\n",
      "epoch: 06, loss: 0.00000\n",
      "epoch: 07, loss: 0.00000\n",
      "epoch: 08, loss: 0.00000\n",
      "epoch: 09, loss: 0.00000\n",
      "After Unsqueezing, feature size= torch.Size([400, 384])\n",
      "type(projected_feature) <class 'torch.Tensor'>\n",
      "projected feature shape= torch.Size([400, 128])\n"
     ]
    },
    {
     "name": "stderr",
     "output_type": "stream",
     "text": [
      " 36%|███▌      | 358/1000 [2:26:45<4:25:45, 24.84s/it]"
     ]
    },
    {
     "name": "stdout",
     "output_type": "stream",
     "text": [
      "eigenvalues shape torch.Size([5]) eigenvectors shape torch.Size([5, 400])\n",
      "358 /home/phdcs2/Hard_Disk/Datasets/Deep-Spectral-Segmentation/data/object-segmentation/ECSSD/features/dino_vits16/0359.pth\n",
      "0359\n",
      "Starting Training\n",
      "epoch: 00, loss: -0.20474\n",
      "epoch: 01, loss: -0.21708\n",
      "epoch: 02, loss: -0.21863\n",
      "epoch: 03, loss: -0.22246\n",
      "epoch: 04, loss: -0.22500\n",
      "epoch: 05, loss: -0.22830\n",
      "epoch: 06, loss: -0.23125\n",
      "epoch: 07, loss: -0.23213\n",
      "epoch: 08, loss: -0.23679\n",
      "epoch: 09, loss: -0.23788\n",
      "After Unsqueezing, feature size= torch.Size([350, 384])\n",
      "type(projected_feature) <class 'torch.Tensor'>\n",
      "projected feature shape= torch.Size([350, 128])\n"
     ]
    },
    {
     "name": "stderr",
     "output_type": "stream",
     "text": [
      " 36%|███▌      | 359/1000 [2:27:03<4:05:09, 22.95s/it]"
     ]
    },
    {
     "name": "stdout",
     "output_type": "stream",
     "text": [
      "eigenvalues shape torch.Size([5]) eigenvectors shape torch.Size([5, 350])\n",
      "359 /home/phdcs2/Hard_Disk/Datasets/Deep-Spectral-Segmentation/data/object-segmentation/ECSSD/features/dino_vits16/0360.pth\n",
      "0360\n"
     ]
    },
    {
     "name": "stderr",
     "output_type": "stream",
     "text": [
      "/home/phdcs2/Hard_Disk/Projects/T2I/deep-spectral-segmentation/venv/lib/python3.8/site-packages/sklearn/decomposition/_pca.py:545: RuntimeWarning: invalid value encountered in divide\n",
      "  explained_variance_ratio_ = explained_variance_ / total_var\n"
     ]
    },
    {
     "name": "stdout",
     "output_type": "stream",
     "text": [
      "Starting Training\n",
      "epoch: 00, loss: 0.00000\n",
      "epoch: 01, loss: 0.00000\n",
      "epoch: 02, loss: 0.00000\n",
      "epoch: 03, loss: 0.00000\n",
      "epoch: 04, loss: 0.00000\n",
      "epoch: 05, loss: 0.00000\n",
      "epoch: 06, loss: 0.00000\n",
      "epoch: 07, loss: 0.00000\n",
      "epoch: 08, loss: 0.00000\n",
      "epoch: 09, loss: 0.00000\n",
      "After Unsqueezing, feature size= torch.Size([400, 384])\n",
      "type(projected_feature) <class 'torch.Tensor'>\n",
      "projected feature shape= torch.Size([400, 128])\n"
     ]
    },
    {
     "name": "stderr",
     "output_type": "stream",
     "text": [
      " 36%|███▌      | 360/1000 [2:27:23<3:54:44, 22.01s/it]"
     ]
    },
    {
     "name": "stdout",
     "output_type": "stream",
     "text": [
      "eigenvalues shape torch.Size([5]) eigenvectors shape torch.Size([5, 400])\n",
      "360 /home/phdcs2/Hard_Disk/Datasets/Deep-Spectral-Segmentation/data/object-segmentation/ECSSD/features/dino_vits16/0361.pth\n",
      "0361\n",
      "Starting Training\n",
      "epoch: 00, loss: -0.29692\n",
      "epoch: 01, loss: -0.32589\n",
      "epoch: 02, loss: -0.34558\n",
      "epoch: 03, loss: -0.36114\n",
      "epoch: 04, loss: -0.36847\n",
      "epoch: 05, loss: -0.37375\n",
      "epoch: 06, loss: -0.37760\n",
      "epoch: 07, loss: -0.38255\n",
      "epoch: 08, loss: -0.38797\n",
      "epoch: 09, loss: -0.39054\n",
      "After Unsqueezing, feature size= torch.Size([400, 384])\n",
      "type(projected_feature) <class 'torch.Tensor'>\n",
      "projected feature shape= torch.Size([400, 128])\n"
     ]
    },
    {
     "name": "stderr",
     "output_type": "stream",
     "text": [
      " 36%|███▌      | 361/1000 [2:27:44<3:49:55, 21.59s/it]"
     ]
    },
    {
     "name": "stdout",
     "output_type": "stream",
     "text": [
      "eigenvalues shape torch.Size([5]) eigenvectors shape torch.Size([5, 400])\n",
      "361 /home/phdcs2/Hard_Disk/Datasets/Deep-Spectral-Segmentation/data/object-segmentation/ECSSD/features/dino_vits16/0362.pth\n",
      "0362\n",
      "Starting Training\n",
      "epoch: 00, loss: -0.22894\n",
      "epoch: 01, loss: -0.22386\n",
      "epoch: 02, loss: -0.22761\n",
      "epoch: 03, loss: -0.23041\n",
      "epoch: 04, loss: -0.23259\n",
      "epoch: 05, loss: -0.23519\n",
      "epoch: 06, loss: -0.23850\n",
      "epoch: 07, loss: -0.24054\n",
      "epoch: 08, loss: -0.24450\n",
      "epoch: 09, loss: -0.24575\n",
      "After Unsqueezing, feature size= torch.Size([500, 384])\n",
      "type(projected_feature) <class 'torch.Tensor'>\n",
      "projected feature shape= torch.Size([500, 128])\n"
     ]
    },
    {
     "name": "stderr",
     "output_type": "stream",
     "text": [
      " 36%|███▌      | 362/1000 [2:28:09<4:01:04, 22.67s/it]"
     ]
    },
    {
     "name": "stdout",
     "output_type": "stream",
     "text": [
      "eigenvalues shape torch.Size([5]) eigenvectors shape torch.Size([5, 500])\n",
      "362 /home/phdcs2/Hard_Disk/Datasets/Deep-Spectral-Segmentation/data/object-segmentation/ECSSD/features/dino_vits16/0363.pth\n",
      "0363\n",
      "Starting Training\n",
      "epoch: 00, loss: -0.33717\n",
      "epoch: 01, loss: -0.34637\n",
      "epoch: 02, loss: -0.35479\n",
      "epoch: 03, loss: -0.36310\n",
      "epoch: 04, loss: -0.37022\n",
      "epoch: 05, loss: -0.37889\n",
      "epoch: 06, loss: -0.38554\n",
      "epoch: 07, loss: -0.39198\n",
      "epoch: 08, loss: -0.39835\n",
      "epoch: 09, loss: -0.40620\n",
      "After Unsqueezing, feature size= torch.Size([625, 384])\n",
      "type(projected_feature) <class 'torch.Tensor'>\n",
      "projected feature shape= torch.Size([625, 128])\n"
     ]
    },
    {
     "name": "stderr",
     "output_type": "stream",
     "text": [
      " 36%|███▋      | 363/1000 [2:28:44<4:38:28, 26.23s/it]"
     ]
    },
    {
     "name": "stdout",
     "output_type": "stream",
     "text": [
      "eigenvalues shape torch.Size([5]) eigenvectors shape torch.Size([5, 625])\n",
      "363 /home/phdcs2/Hard_Disk/Datasets/Deep-Spectral-Segmentation/data/object-segmentation/ECSSD/features/dino_vits16/0364.pth\n",
      "0364\n",
      "Starting Training\n",
      "epoch: 00, loss: -0.31444\n",
      "epoch: 01, loss: -0.32092\n",
      "epoch: 02, loss: -0.32851\n",
      "epoch: 03, loss: -0.33572\n",
      "epoch: 04, loss: -0.34365\n",
      "epoch: 05, loss: -0.34881\n",
      "epoch: 06, loss: -0.35431\n",
      "epoch: 07, loss: -0.35991\n",
      "epoch: 08, loss: -0.36596\n",
      "epoch: 09, loss: -0.37232\n",
      "After Unsqueezing, feature size= torch.Size([450, 384])\n",
      "type(projected_feature) <class 'torch.Tensor'>\n",
      "projected feature shape= torch.Size([450, 128])\n"
     ]
    },
    {
     "name": "stderr",
     "output_type": "stream",
     "text": [
      " 36%|███▋      | 364/1000 [2:29:06<4:26:25, 25.13s/it]"
     ]
    },
    {
     "name": "stdout",
     "output_type": "stream",
     "text": [
      "eigenvalues shape torch.Size([5]) eigenvectors shape torch.Size([5, 450])\n",
      "364 /home/phdcs2/Hard_Disk/Datasets/Deep-Spectral-Segmentation/data/object-segmentation/ECSSD/features/dino_vits16/0365.pth\n",
      "0365\n",
      "Starting Training\n",
      "epoch: 00, loss: -0.02418\n",
      "epoch: 01, loss: -0.02671\n",
      "epoch: 02, loss: -0.12182\n",
      "epoch: 03, loss: -0.19558\n",
      "epoch: 04, loss: -0.21630\n",
      "epoch: 05, loss: -0.21900\n",
      "epoch: 06, loss: -0.22333\n",
      "epoch: 07, loss: -0.22602\n",
      "epoch: 08, loss: -0.22703\n",
      "epoch: 09, loss: -0.22942\n",
      "After Unsqueezing, feature size= torch.Size([450, 384])\n",
      "type(projected_feature) <class 'torch.Tensor'>\n",
      "projected feature shape= torch.Size([450, 128])\n"
     ]
    },
    {
     "name": "stderr",
     "output_type": "stream",
     "text": [
      " 36%|███▋      | 365/1000 [2:29:29<4:18:33, 24.43s/it]"
     ]
    },
    {
     "name": "stdout",
     "output_type": "stream",
     "text": [
      "eigenvalues shape torch.Size([5]) eigenvectors shape torch.Size([5, 450])\n",
      "365 /home/phdcs2/Hard_Disk/Datasets/Deep-Spectral-Segmentation/data/object-segmentation/ECSSD/features/dino_vits16/0366.pth\n",
      "0366\n",
      "Starting Training\n",
      "epoch: 00, loss: -0.09186\n",
      "epoch: 01, loss: -0.04240\n",
      "epoch: 02, loss: -0.04337\n",
      "epoch: 03, loss: -0.04553\n",
      "epoch: 04, loss: -0.04638\n",
      "epoch: 05, loss: -0.05216\n",
      "epoch: 06, loss: -0.05317\n",
      "epoch: 07, loss: -0.05973\n",
      "epoch: 08, loss: -0.11683\n",
      "epoch: 09, loss: -0.17168\n",
      "After Unsqueezing, feature size= torch.Size([500, 384])\n",
      "type(projected_feature) <class 'torch.Tensor'>\n",
      "projected feature shape= torch.Size([500, 128])\n"
     ]
    },
    {
     "name": "stderr",
     "output_type": "stream",
     "text": [
      " 37%|███▋      | 366/1000 [2:29:57<4:31:07, 25.66s/it]"
     ]
    },
    {
     "name": "stdout",
     "output_type": "stream",
     "text": [
      "eigenvalues shape torch.Size([5]) eigenvectors shape torch.Size([5, 500])\n",
      "366 /home/phdcs2/Hard_Disk/Datasets/Deep-Spectral-Segmentation/data/object-segmentation/ECSSD/features/dino_vits16/0367.pth\n",
      "0367\n",
      "Starting Training\n",
      "epoch: 00, loss: -0.34051\n",
      "epoch: 01, loss: -0.36121\n",
      "epoch: 02, loss: -0.36390\n",
      "epoch: 03, loss: -0.36961\n",
      "epoch: 04, loss: -0.37565\n",
      "epoch: 05, loss: -0.37830\n",
      "epoch: 06, loss: -0.38318\n",
      "epoch: 07, loss: -0.38647\n",
      "epoch: 08, loss: -0.39029\n",
      "epoch: 09, loss: -0.39522\n",
      "After Unsqueezing, feature size= torch.Size([400, 384])\n",
      "type(projected_feature) <class 'torch.Tensor'>\n",
      "projected feature shape= torch.Size([400, 128])\n"
     ]
    },
    {
     "name": "stderr",
     "output_type": "stream",
     "text": [
      " 37%|███▋      | 367/1000 [2:30:19<4:16:51, 24.35s/it]"
     ]
    },
    {
     "name": "stdout",
     "output_type": "stream",
     "text": [
      "eigenvalues shape torch.Size([5]) eigenvectors shape torch.Size([5, 400])\n",
      "367 /home/phdcs2/Hard_Disk/Datasets/Deep-Spectral-Segmentation/data/object-segmentation/ECSSD/features/dino_vits16/0368.pth\n",
      "0368\n"
     ]
    },
    {
     "name": "stderr",
     "output_type": "stream",
     "text": [
      "/home/phdcs2/Hard_Disk/Projects/T2I/deep-spectral-segmentation/venv/lib/python3.8/site-packages/sklearn/decomposition/_pca.py:545: RuntimeWarning: invalid value encountered in divide\n",
      "  explained_variance_ratio_ = explained_variance_ / total_var\n"
     ]
    },
    {
     "name": "stdout",
     "output_type": "stream",
     "text": [
      "Starting Training\n",
      "epoch: 00, loss: 0.00000\n",
      "epoch: 01, loss: 0.00000\n",
      "epoch: 02, loss: 0.00000\n",
      "epoch: 03, loss: 0.00000\n",
      "epoch: 04, loss: 0.00000\n",
      "epoch: 05, loss: 0.00000\n",
      "epoch: 06, loss: 0.00000\n",
      "epoch: 07, loss: 0.00000\n",
      "epoch: 08, loss: 0.00000\n",
      "epoch: 09, loss: 0.00000\n",
      "After Unsqueezing, feature size= torch.Size([400, 384])\n",
      "type(projected_feature) <class 'torch.Tensor'>\n",
      "projected feature shape= torch.Size([400, 128])\n"
     ]
    },
    {
     "name": "stderr",
     "output_type": "stream",
     "text": [
      " 37%|███▋      | 368/1000 [2:30:38<4:00:15, 22.81s/it]"
     ]
    },
    {
     "name": "stdout",
     "output_type": "stream",
     "text": [
      "eigenvalues shape torch.Size([5]) eigenvectors shape torch.Size([5, 400])\n",
      "368 /home/phdcs2/Hard_Disk/Datasets/Deep-Spectral-Segmentation/data/object-segmentation/ECSSD/features/dino_vits16/0369.pth\n",
      "0369\n",
      "Starting Training\n",
      "epoch: 00, loss: -0.18843\n",
      "epoch: 01, loss: -0.19757\n",
      "epoch: 02, loss: -0.20201\n",
      "epoch: 03, loss: -0.20637\n",
      "epoch: 04, loss: -0.21017\n",
      "epoch: 05, loss: -0.21492\n",
      "epoch: 06, loss: -0.22043\n",
      "epoch: 07, loss: -0.22398\n",
      "epoch: 08, loss: -0.22873\n",
      "epoch: 09, loss: -0.23206\n",
      "After Unsqueezing, feature size= torch.Size([400, 384])\n",
      "type(projected_feature) <class 'torch.Tensor'>\n",
      "projected feature shape= torch.Size([400, 128])\n"
     ]
    },
    {
     "name": "stderr",
     "output_type": "stream",
     "text": [
      " 37%|███▋      | 369/1000 [2:30:58<3:49:58, 21.87s/it]"
     ]
    },
    {
     "name": "stdout",
     "output_type": "stream",
     "text": [
      "eigenvalues shape torch.Size([5]) eigenvectors shape torch.Size([5, 400])\n",
      "369 /home/phdcs2/Hard_Disk/Datasets/Deep-Spectral-Segmentation/data/object-segmentation/ECSSD/features/dino_vits16/0370.pth\n",
      "0370\n",
      "Starting Training\n",
      "epoch: 00, loss: -0.32441\n",
      "epoch: 01, loss: -0.34267\n",
      "epoch: 02, loss: -0.35071\n",
      "epoch: 03, loss: -0.35622\n",
      "epoch: 04, loss: -0.36246\n",
      "epoch: 05, loss: -0.36835\n",
      "epoch: 06, loss: -0.37449\n",
      "epoch: 07, loss: -0.37873\n",
      "epoch: 08, loss: -0.38416\n",
      "epoch: 09, loss: -0.38802\n"
     ]
    },
    {
     "name": "stderr",
     "output_type": "stream",
     "text": [
      " 37%|███▋      | 370/1000 [2:31:29<4:18:17, 24.60s/it]"
     ]
    },
    {
     "name": "stdout",
     "output_type": "stream",
     "text": [
      "After Unsqueezing, feature size= torch.Size([600, 384])\n",
      "type(projected_feature) <class 'torch.Tensor'>\n",
      "projected feature shape= torch.Size([600, 128])\n",
      "eigenvalues shape torch.Size([5]) eigenvectors shape torch.Size([5, 600])\n",
      "370 /home/phdcs2/Hard_Disk/Datasets/Deep-Spectral-Segmentation/data/object-segmentation/ECSSD/features/dino_vits16/0371.pth\n",
      "0371\n",
      "Starting Training\n",
      "epoch: 00, loss: -0.30057\n",
      "epoch: 01, loss: -0.31713\n",
      "epoch: 02, loss: -0.32548\n",
      "epoch: 03, loss: -0.33104\n",
      "epoch: 04, loss: -0.33826\n",
      "epoch: 05, loss: -0.34446\n",
      "epoch: 06, loss: -0.34820\n",
      "epoch: 07, loss: -0.35177\n",
      "epoch: 08, loss: -0.35469\n",
      "epoch: 09, loss: -0.35900\n",
      "After Unsqueezing, feature size= torch.Size([550, 384])\n",
      "type(projected_feature) <class 'torch.Tensor'>\n",
      "projected feature shape= torch.Size([550, 128])\n"
     ]
    },
    {
     "name": "stderr",
     "output_type": "stream",
     "text": [
      " 37%|███▋      | 371/1000 [2:31:58<4:33:05, 26.05s/it]"
     ]
    },
    {
     "name": "stdout",
     "output_type": "stream",
     "text": [
      "eigenvalues shape torch.Size([5]) eigenvectors shape torch.Size([5, 550])\n",
      "371 /home/phdcs2/Hard_Disk/Datasets/Deep-Spectral-Segmentation/data/object-segmentation/ECSSD/features/dino_vits16/0372.pth\n",
      "0372\n",
      "Starting Training\n",
      "epoch: 00, loss: -0.34396\n",
      "epoch: 01, loss: -0.36215\n",
      "epoch: 02, loss: -0.36562\n",
      "epoch: 03, loss: -0.36834\n",
      "epoch: 04, loss: -0.37308\n",
      "epoch: 05, loss: -0.37861\n",
      "epoch: 06, loss: -0.38067\n",
      "epoch: 07, loss: -0.38954\n",
      "epoch: 08, loss: -0.39443\n",
      "epoch: 09, loss: -0.40017\n"
     ]
    },
    {
     "name": "stderr",
     "output_type": "stream",
     "text": [
      " 37%|███▋      | 372/1000 [2:32:29<4:47:22, 27.46s/it]"
     ]
    },
    {
     "name": "stdout",
     "output_type": "stream",
     "text": [
      "After Unsqueezing, feature size= torch.Size([600, 384])\n",
      "type(projected_feature) <class 'torch.Tensor'>\n",
      "projected feature shape= torch.Size([600, 128])\n",
      "eigenvalues shape torch.Size([5]) eigenvectors shape torch.Size([5, 600])\n",
      "372 /home/phdcs2/Hard_Disk/Datasets/Deep-Spectral-Segmentation/data/object-segmentation/ECSSD/features/dino_vits16/0373.pth\n",
      "0373\n"
     ]
    },
    {
     "name": "stderr",
     "output_type": "stream",
     "text": [
      "/home/phdcs2/Hard_Disk/Projects/T2I/deep-spectral-segmentation/venv/lib/python3.8/site-packages/sklearn/decomposition/_pca.py:545: RuntimeWarning: invalid value encountered in divide\n",
      "  explained_variance_ratio_ = explained_variance_ / total_var\n"
     ]
    },
    {
     "name": "stdout",
     "output_type": "stream",
     "text": [
      "Starting Training\n",
      "epoch: 00, loss: 0.00000\n",
      "epoch: 01, loss: 0.00000\n",
      "epoch: 02, loss: 0.00000\n",
      "epoch: 03, loss: 0.00000\n",
      "epoch: 04, loss: 0.00000\n",
      "epoch: 05, loss: 0.00000\n",
      "epoch: 06, loss: 0.00000\n",
      "epoch: 07, loss: 0.00000\n",
      "epoch: 08, loss: 0.00000\n",
      "epoch: 09, loss: 0.00000\n",
      "After Unsqueezing, feature size= torch.Size([400, 384])\n",
      "type(projected_feature) <class 'torch.Tensor'>\n",
      "projected feature shape= torch.Size([400, 128])\n"
     ]
    },
    {
     "name": "stderr",
     "output_type": "stream",
     "text": [
      " 37%|███▋      | 373/1000 [2:32:48<4:22:07, 25.08s/it]"
     ]
    },
    {
     "name": "stdout",
     "output_type": "stream",
     "text": [
      "eigenvalues shape torch.Size([5]) eigenvectors shape torch.Size([5, 400])\n",
      "373 /home/phdcs2/Hard_Disk/Datasets/Deep-Spectral-Segmentation/data/object-segmentation/ECSSD/features/dino_vits16/0374.pth\n",
      "0374\n",
      "Starting Training\n",
      "epoch: 00, loss: -0.31321\n",
      "epoch: 01, loss: -0.32261\n",
      "epoch: 02, loss: -0.32713\n",
      "epoch: 03, loss: -0.33121\n",
      "epoch: 04, loss: -0.33567\n",
      "epoch: 05, loss: -0.33836\n",
      "epoch: 06, loss: -0.34090\n",
      "epoch: 07, loss: -0.34435\n",
      "epoch: 08, loss: -0.34681\n",
      "epoch: 09, loss: -0.35030\n",
      "After Unsqueezing, feature size= torch.Size([450, 384])\n",
      "type(projected_feature) <class 'torch.Tensor'>\n",
      "projected feature shape= torch.Size([450, 128])\n"
     ]
    },
    {
     "name": "stderr",
     "output_type": "stream",
     "text": [
      " 37%|███▋      | 374/1000 [2:33:10<4:09:42, 23.93s/it]"
     ]
    },
    {
     "name": "stdout",
     "output_type": "stream",
     "text": [
      "eigenvalues shape torch.Size([5]) eigenvectors shape torch.Size([5, 450])\n",
      "374 /home/phdcs2/Hard_Disk/Datasets/Deep-Spectral-Segmentation/data/object-segmentation/ECSSD/features/dino_vits16/0375.pth\n",
      "0375\n",
      "Starting Training\n"
     ]
    },
    {
     "name": "stderr",
     "output_type": "stream",
     "text": [
      "/home/phdcs2/Hard_Disk/Projects/T2I/deep-spectral-segmentation/venv/lib/python3.8/site-packages/sklearn/decomposition/_pca.py:545: RuntimeWarning: invalid value encountered in divide\n",
      "  explained_variance_ratio_ = explained_variance_ / total_var\n"
     ]
    },
    {
     "name": "stdout",
     "output_type": "stream",
     "text": [
      "epoch: 00, loss: 0.00000\n",
      "epoch: 01, loss: 0.00000\n",
      "epoch: 02, loss: 0.00000\n",
      "epoch: 03, loss: 0.00000\n",
      "epoch: 04, loss: 0.00000\n",
      "epoch: 05, loss: 0.00000\n",
      "epoch: 06, loss: 0.00000\n",
      "epoch: 07, loss: 0.00000\n",
      "epoch: 08, loss: 0.00000\n",
      "epoch: 09, loss: 0.00000\n",
      "After Unsqueezing, feature size= torch.Size([475, 384])\n",
      "type(projected_feature) <class 'torch.Tensor'>\n",
      "projected feature shape= torch.Size([475, 128])\n"
     ]
    },
    {
     "name": "stderr",
     "output_type": "stream",
     "text": [
      " 38%|███▊      | 375/1000 [2:33:32<4:04:32, 23.48s/it]"
     ]
    },
    {
     "name": "stdout",
     "output_type": "stream",
     "text": [
      "eigenvalues shape torch.Size([5]) eigenvectors shape torch.Size([5, 475])\n",
      "375 /home/phdcs2/Hard_Disk/Datasets/Deep-Spectral-Segmentation/data/object-segmentation/ECSSD/features/dino_vits16/0376.pth\n",
      "0376\n",
      "Starting Training\n",
      "epoch: 00, loss: -0.32644\n",
      "epoch: 01, loss: -0.33598\n",
      "epoch: 02, loss: -0.34322\n",
      "epoch: 03, loss: -0.34873\n",
      "epoch: 04, loss: -0.35583\n",
      "epoch: 05, loss: -0.36035\n",
      "epoch: 06, loss: -0.36648\n",
      "epoch: 07, loss: -0.37084\n",
      "epoch: 08, loss: -0.37580\n",
      "epoch: 09, loss: -0.38158\n",
      "After Unsqueezing, feature size= torch.Size([625, 384])\n",
      "type(projected_feature) <class 'torch.Tensor'>\n",
      "projected feature shape= torch.Size([625, 128])\n"
     ]
    },
    {
     "name": "stderr",
     "output_type": "stream",
     "text": [
      " 38%|███▊      | 376/1000 [2:34:06<4:37:51, 26.72s/it]"
     ]
    },
    {
     "name": "stdout",
     "output_type": "stream",
     "text": [
      "eigenvalues shape torch.Size([5]) eigenvectors shape torch.Size([5, 625])\n",
      "376 /home/phdcs2/Hard_Disk/Datasets/Deep-Spectral-Segmentation/data/object-segmentation/ECSSD/features/dino_vits16/0377.pth\n",
      "0377\n",
      "Starting Training\n",
      "epoch: 00, loss: -0.31016\n",
      "epoch: 01, loss: -0.32783\n",
      "epoch: 02, loss: -0.33353\n",
      "epoch: 03, loss: -0.33722\n",
      "epoch: 04, loss: -0.34192\n",
      "epoch: 05, loss: -0.34645\n",
      "epoch: 06, loss: -0.35013\n",
      "epoch: 07, loss: -0.35260\n",
      "epoch: 08, loss: -0.35685\n",
      "epoch: 09, loss: -0.36022\n",
      "After Unsqueezing, feature size= torch.Size([400, 384])\n",
      "type(projected_feature) <class 'torch.Tensor'>\n",
      "projected feature shape= torch.Size([400, 128])\n"
     ]
    },
    {
     "name": "stderr",
     "output_type": "stream",
     "text": [
      " 38%|███▊      | 377/1000 [2:34:27<4:19:59, 25.04s/it]"
     ]
    },
    {
     "name": "stdout",
     "output_type": "stream",
     "text": [
      "eigenvalues shape torch.Size([5]) eigenvectors shape torch.Size([5, 400])\n",
      "377 /home/phdcs2/Hard_Disk/Datasets/Deep-Spectral-Segmentation/data/object-segmentation/ECSSD/features/dino_vits16/0378.pth\n",
      "0378\n"
     ]
    },
    {
     "name": "stderr",
     "output_type": "stream",
     "text": [
      "/home/phdcs2/Hard_Disk/Projects/T2I/deep-spectral-segmentation/venv/lib/python3.8/site-packages/sklearn/decomposition/_pca.py:545: RuntimeWarning: invalid value encountered in divide\n",
      "  explained_variance_ratio_ = explained_variance_ / total_var\n"
     ]
    },
    {
     "name": "stdout",
     "output_type": "stream",
     "text": [
      "Starting Training\n",
      "epoch: 00, loss: 0.00000\n",
      "epoch: 01, loss: 0.00000\n",
      "epoch: 02, loss: 0.00000\n",
      "epoch: 03, loss: 0.00000\n",
      "epoch: 04, loss: 0.00000\n",
      "epoch: 05, loss: 0.00000\n",
      "epoch: 06, loss: 0.00000\n",
      "epoch: 07, loss: 0.00000\n",
      "epoch: 08, loss: 0.00000\n",
      "epoch: 09, loss: 0.00000\n",
      "After Unsqueezing, feature size= torch.Size([450, 384])\n",
      "type(projected_feature) <class 'torch.Tensor'>\n",
      "projected feature shape= torch.Size([450, 128])\n"
     ]
    },
    {
     "name": "stderr",
     "output_type": "stream",
     "text": [
      " 38%|███▊      | 378/1000 [2:34:50<4:12:47, 24.39s/it]"
     ]
    },
    {
     "name": "stdout",
     "output_type": "stream",
     "text": [
      "eigenvalues shape torch.Size([5]) eigenvectors shape torch.Size([5, 450])\n",
      "378 /home/phdcs2/Hard_Disk/Datasets/Deep-Spectral-Segmentation/data/object-segmentation/ECSSD/features/dino_vits16/0379.pth\n",
      "0379\n",
      "Starting Training\n",
      "epoch: 00, loss: -0.33666\n",
      "epoch: 01, loss: -0.35027\n",
      "epoch: 02, loss: -0.35531\n",
      "epoch: 03, loss: -0.36127\n",
      "epoch: 04, loss: -0.36500\n",
      "epoch: 05, loss: -0.36827\n",
      "epoch: 06, loss: -0.37288\n",
      "epoch: 07, loss: -0.37688\n",
      "epoch: 08, loss: -0.38026\n",
      "epoch: 09, loss: -0.38392\n",
      "After Unsqueezing, feature size= torch.Size([450, 384])\n",
      "type(projected_feature) <class 'torch.Tensor'>\n",
      "projected feature shape= torch.Size([450, 128])\n"
     ]
    },
    {
     "name": "stderr",
     "output_type": "stream",
     "text": [
      " 38%|███▊      | 379/1000 [2:35:14<4:10:19, 24.19s/it]"
     ]
    },
    {
     "name": "stdout",
     "output_type": "stream",
     "text": [
      "eigenvalues shape torch.Size([5]) eigenvectors shape torch.Size([5, 450])\n",
      "379 /home/phdcs2/Hard_Disk/Datasets/Deep-Spectral-Segmentation/data/object-segmentation/ECSSD/features/dino_vits16/0380.pth\n",
      "0380\n",
      "Starting Training\n",
      "epoch: 00, loss: -0.29338\n",
      "epoch: 01, loss: -0.29742\n",
      "epoch: 02, loss: -0.29968\n",
      "epoch: 03, loss: -0.30713\n",
      "epoch: 04, loss: -0.30992\n",
      "epoch: 05, loss: -0.31529\n",
      "epoch: 06, loss: -0.31803\n",
      "epoch: 07, loss: -0.31959\n",
      "epoch: 08, loss: -0.32391\n",
      "epoch: 09, loss: -0.32466\n",
      "After Unsqueezing, feature size= torch.Size([425, 384])\n",
      "type(projected_feature) <class 'torch.Tensor'>\n",
      "projected feature shape= torch.Size([425, 128])\n"
     ]
    },
    {
     "name": "stderr",
     "output_type": "stream",
     "text": [
      " 38%|███▊      | 380/1000 [2:35:37<4:07:03, 23.91s/it]"
     ]
    },
    {
     "name": "stdout",
     "output_type": "stream",
     "text": [
      "eigenvalues shape torch.Size([5]) eigenvectors shape torch.Size([5, 425])\n",
      "380 /home/phdcs2/Hard_Disk/Datasets/Deep-Spectral-Segmentation/data/object-segmentation/ECSSD/features/dino_vits16/0381.pth\n",
      "0381\n"
     ]
    },
    {
     "name": "stderr",
     "output_type": "stream",
     "text": [
      "/home/phdcs2/Hard_Disk/Projects/T2I/deep-spectral-segmentation/venv/lib/python3.8/site-packages/sklearn/decomposition/_pca.py:545: RuntimeWarning: invalid value encountered in divide\n",
      "  explained_variance_ratio_ = explained_variance_ / total_var\n"
     ]
    },
    {
     "name": "stdout",
     "output_type": "stream",
     "text": [
      "Starting Training\n",
      "epoch: 00, loss: 0.00000\n",
      "epoch: 01, loss: 0.00000\n",
      "epoch: 02, loss: 0.00000\n",
      "epoch: 03, loss: 0.00000\n",
      "epoch: 04, loss: 0.00000\n",
      "epoch: 05, loss: 0.00000\n",
      "epoch: 06, loss: 0.00000\n",
      "epoch: 07, loss: 0.00000\n",
      "epoch: 08, loss: 0.00000\n",
      "epoch: 09, loss: 0.00000\n",
      "After Unsqueezing, feature size= torch.Size([450, 384])\n",
      "type(projected_feature) <class 'torch.Tensor'>\n",
      "projected feature shape= torch.Size([450, 128])\n"
     ]
    },
    {
     "name": "stderr",
     "output_type": "stream",
     "text": [
      " 38%|███▊      | 381/1000 [2:36:00<4:02:38, 23.52s/it]"
     ]
    },
    {
     "name": "stdout",
     "output_type": "stream",
     "text": [
      "eigenvalues shape torch.Size([5]) eigenvectors shape torch.Size([5, 450])\n",
      "381 /home/phdcs2/Hard_Disk/Datasets/Deep-Spectral-Segmentation/data/object-segmentation/ECSSD/features/dino_vits16/0382.pth\n",
      "0382\n",
      "Starting Training\n",
      "epoch: 00, loss: -0.31162\n",
      "epoch: 01, loss: -0.32856\n",
      "epoch: 02, loss: -0.33481\n",
      "epoch: 03, loss: -0.34117\n",
      "epoch: 04, loss: -0.34486\n",
      "epoch: 05, loss: -0.34988\n",
      "epoch: 06, loss: -0.35479\n",
      "epoch: 07, loss: -0.36013\n",
      "epoch: 08, loss: -0.36282\n",
      "epoch: 09, loss: -0.36797\n",
      "After Unsqueezing, feature size= torch.Size([425, 384])\n",
      "type(projected_feature) <class 'torch.Tensor'>\n",
      "projected feature shape= torch.Size([425, 128])\n"
     ]
    },
    {
     "name": "stderr",
     "output_type": "stream",
     "text": [
      " 38%|███▊      | 382/1000 [2:36:20<3:52:19, 22.56s/it]"
     ]
    },
    {
     "name": "stdout",
     "output_type": "stream",
     "text": [
      "eigenvalues shape torch.Size([5]) eigenvectors shape torch.Size([5, 425])\n",
      "382 /home/phdcs2/Hard_Disk/Datasets/Deep-Spectral-Segmentation/data/object-segmentation/ECSSD/features/dino_vits16/0383.pth\n",
      "0383\n",
      "Starting Training\n"
     ]
    },
    {
     "name": "stderr",
     "output_type": "stream",
     "text": [
      "/home/phdcs2/Hard_Disk/Projects/T2I/deep-spectral-segmentation/venv/lib/python3.8/site-packages/sklearn/decomposition/_pca.py:545: RuntimeWarning: invalid value encountered in divide\n",
      "  explained_variance_ratio_ = explained_variance_ / total_var\n"
     ]
    },
    {
     "name": "stdout",
     "output_type": "stream",
     "text": [
      "epoch: 00, loss: 0.00000\n",
      "epoch: 01, loss: 0.00000\n",
      "epoch: 02, loss: 0.00000\n",
      "epoch: 03, loss: 0.00000\n",
      "epoch: 04, loss: 0.00000\n",
      "epoch: 05, loss: 0.00000\n",
      "epoch: 06, loss: 0.00000\n",
      "epoch: 07, loss: 0.00000\n",
      "epoch: 08, loss: 0.00000\n",
      "epoch: 09, loss: 0.00000\n",
      "After Unsqueezing, feature size= torch.Size([350, 384])\n",
      "type(projected_feature) <class 'torch.Tensor'>\n",
      "projected feature shape= torch.Size([350, 128])\n"
     ]
    },
    {
     "name": "stderr",
     "output_type": "stream",
     "text": [
      " 38%|███▊      | 383/1000 [2:36:37<3:34:15, 20.84s/it]"
     ]
    },
    {
     "name": "stdout",
     "output_type": "stream",
     "text": [
      "eigenvalues shape torch.Size([5]) eigenvectors shape torch.Size([5, 350])\n",
      "383 /home/phdcs2/Hard_Disk/Datasets/Deep-Spectral-Segmentation/data/object-segmentation/ECSSD/features/dino_vits16/0384.pth\n",
      "0384\n",
      "Starting Training\n",
      "epoch: 00, loss: -0.24770\n",
      "epoch: 01, loss: -0.23272\n",
      "epoch: 02, loss: -0.23703\n",
      "epoch: 03, loss: -0.24217\n",
      "epoch: 04, loss: -0.24604\n",
      "epoch: 05, loss: -0.25000\n",
      "epoch: 06, loss: -0.25123\n",
      "epoch: 07, loss: -0.25346\n",
      "epoch: 08, loss: -0.25656\n",
      "epoch: 09, loss: -0.25943\n",
      "After Unsqueezing, feature size= torch.Size([475, 384])\n",
      "type(projected_feature) <class 'torch.Tensor'>\n",
      "projected feature shape= torch.Size([475, 128])\n"
     ]
    },
    {
     "name": "stderr",
     "output_type": "stream",
     "text": [
      " 38%|███▊      | 384/1000 [2:37:00<3:39:16, 21.36s/it]"
     ]
    },
    {
     "name": "stdout",
     "output_type": "stream",
     "text": [
      "eigenvalues shape torch.Size([5]) eigenvectors shape torch.Size([5, 475])\n",
      "384 /home/phdcs2/Hard_Disk/Datasets/Deep-Spectral-Segmentation/data/object-segmentation/ECSSD/features/dino_vits16/0385.pth\n",
      "0385\n"
     ]
    },
    {
     "name": "stderr",
     "output_type": "stream",
     "text": [
      "/home/phdcs2/Hard_Disk/Projects/T2I/deep-spectral-segmentation/venv/lib/python3.8/site-packages/sklearn/decomposition/_pca.py:545: RuntimeWarning: invalid value encountered in divide\n",
      "  explained_variance_ratio_ = explained_variance_ / total_var\n"
     ]
    },
    {
     "name": "stdout",
     "output_type": "stream",
     "text": [
      "Starting Training\n",
      "epoch: 00, loss: 0.00000\n",
      "epoch: 01, loss: 0.00000\n",
      "epoch: 02, loss: 0.00000\n",
      "epoch: 03, loss: 0.00000\n",
      "epoch: 04, loss: 0.00000\n",
      "epoch: 05, loss: 0.00000\n",
      "epoch: 06, loss: 0.00000\n",
      "epoch: 07, loss: 0.00000\n",
      "epoch: 08, loss: 0.00000\n",
      "epoch: 09, loss: 0.00000\n",
      "After Unsqueezing, feature size= torch.Size([600, 384])\n",
      "type(projected_feature) <class 'torch.Tensor'>\n",
      "projected feature shape= torch.Size([600, 128])\n"
     ]
    },
    {
     "name": "stderr",
     "output_type": "stream",
     "text": [
      " 38%|███▊      | 385/1000 [2:37:30<4:05:38, 23.96s/it]"
     ]
    },
    {
     "name": "stdout",
     "output_type": "stream",
     "text": [
      "eigenvalues shape torch.Size([5]) eigenvectors shape torch.Size([5, 600])\n",
      "385 /home/phdcs2/Hard_Disk/Datasets/Deep-Spectral-Segmentation/data/object-segmentation/ECSSD/features/dino_vits16/0386.pth\n",
      "0386\n",
      "Starting Training\n",
      "epoch: 00, loss: -0.30972\n",
      "epoch: 01, loss: -0.32489\n",
      "epoch: 02, loss: -0.33204\n",
      "epoch: 03, loss: -0.33873\n",
      "epoch: 04, loss: -0.34534\n",
      "epoch: 05, loss: -0.35131\n",
      "epoch: 06, loss: -0.35511\n",
      "epoch: 07, loss: -0.35937\n",
      "epoch: 08, loss: -0.36362\n",
      "epoch: 09, loss: -0.36613\n",
      "After Unsqueezing, feature size= torch.Size([400, 384])\n",
      "type(projected_feature) <class 'torch.Tensor'>\n",
      "projected feature shape= torch.Size([400, 128])\n"
     ]
    },
    {
     "name": "stderr",
     "output_type": "stream",
     "text": [
      " 39%|███▊      | 386/1000 [2:37:50<3:54:53, 22.95s/it]"
     ]
    },
    {
     "name": "stdout",
     "output_type": "stream",
     "text": [
      "eigenvalues shape torch.Size([5]) eigenvectors shape torch.Size([5, 400])\n",
      "386 /home/phdcs2/Hard_Disk/Datasets/Deep-Spectral-Segmentation/data/object-segmentation/ECSSD/features/dino_vits16/0387.pth\n",
      "0387\n",
      "Starting Training\n",
      "epoch: 00, loss: -0.38920\n",
      "epoch: 01, loss: -0.44953\n",
      "epoch: 02, loss: -0.47174\n",
      "epoch: 03, loss: -0.49475\n",
      "epoch: 04, loss: -0.51308\n",
      "epoch: 05, loss: -0.54729\n",
      "epoch: 06, loss: -0.59155\n",
      "epoch: 07, loss: -0.61838\n",
      "epoch: 08, loss: -0.63468\n",
      "epoch: 09, loss: -0.64736\n",
      "After Unsqueezing, feature size= torch.Size([450, 384])\n",
      "type(projected_feature) <class 'torch.Tensor'>\n",
      "projected feature shape= torch.Size([450, 128])\n"
     ]
    },
    {
     "name": "stderr",
     "output_type": "stream",
     "text": [
      " 39%|███▊      | 387/1000 [2:38:13<3:55:29, 23.05s/it]"
     ]
    },
    {
     "name": "stdout",
     "output_type": "stream",
     "text": [
      "eigenvalues shape torch.Size([5]) eigenvectors shape torch.Size([5, 450])\n",
      "387 /home/phdcs2/Hard_Disk/Datasets/Deep-Spectral-Segmentation/data/object-segmentation/ECSSD/features/dino_vits16/0388.pth\n",
      "0388\n",
      "Starting Training\n",
      "epoch: 00, loss: -0.32555\n",
      "epoch: 01, loss: -0.33998\n",
      "epoch: 02, loss: -0.34967\n",
      "epoch: 03, loss: -0.35638\n",
      "epoch: 04, loss: -0.36132\n",
      "epoch: 05, loss: -0.36642\n",
      "epoch: 06, loss: -0.37136\n",
      "epoch: 07, loss: -0.37617\n",
      "epoch: 08, loss: -0.38124\n",
      "epoch: 09, loss: -0.38528\n",
      "After Unsqueezing, feature size= torch.Size([500, 384])\n",
      "type(projected_feature) <class 'torch.Tensor'>\n",
      "projected feature shape= torch.Size([500, 128])\n"
     ]
    },
    {
     "name": "stderr",
     "output_type": "stream",
     "text": [
      " 39%|███▉      | 388/1000 [2:38:38<4:01:02, 23.63s/it]"
     ]
    },
    {
     "name": "stdout",
     "output_type": "stream",
     "text": [
      "eigenvalues shape torch.Size([5]) eigenvectors shape torch.Size([5, 500])\n",
      "388 /home/phdcs2/Hard_Disk/Datasets/Deep-Spectral-Segmentation/data/object-segmentation/ECSSD/features/dino_vits16/0389.pth\n",
      "0389\n"
     ]
    },
    {
     "name": "stderr",
     "output_type": "stream",
     "text": [
      "/home/phdcs2/Hard_Disk/Projects/T2I/deep-spectral-segmentation/venv/lib/python3.8/site-packages/sklearn/decomposition/_pca.py:545: RuntimeWarning: invalid value encountered in divide\n",
      "  explained_variance_ratio_ = explained_variance_ / total_var\n"
     ]
    },
    {
     "name": "stdout",
     "output_type": "stream",
     "text": [
      "Starting Training\n",
      "epoch: 00, loss: 0.00000\n",
      "epoch: 01, loss: 0.00000\n",
      "epoch: 02, loss: 0.00000\n",
      "epoch: 03, loss: 0.00000\n",
      "epoch: 04, loss: 0.00000\n",
      "epoch: 05, loss: 0.00000\n",
      "epoch: 06, loss: 0.00000\n",
      "epoch: 07, loss: 0.00000\n",
      "epoch: 08, loss: 0.00000\n",
      "epoch: 09, loss: 0.00000\n",
      "After Unsqueezing, feature size= torch.Size([450, 384])\n",
      "type(projected_feature) <class 'torch.Tensor'>\n",
      "projected feature shape= torch.Size([450, 128])\n"
     ]
    },
    {
     "name": "stderr",
     "output_type": "stream",
     "text": [
      " 39%|███▉      | 389/1000 [2:39:01<3:56:50, 23.26s/it]"
     ]
    },
    {
     "name": "stdout",
     "output_type": "stream",
     "text": [
      "eigenvalues shape torch.Size([5]) eigenvectors shape torch.Size([5, 450])\n",
      "389 /home/phdcs2/Hard_Disk/Datasets/Deep-Spectral-Segmentation/data/object-segmentation/ECSSD/features/dino_vits16/0390.pth\n",
      "0390\n",
      "Starting Training\n",
      "epoch: 00, loss: -0.76030\n",
      "epoch: 01, loss: -0.88567\n",
      "epoch: 02, loss: -0.88970\n",
      "epoch: 03, loss: -0.88982\n",
      "epoch: 04, loss: -0.89077\n",
      "epoch: 05, loss: -0.89118\n",
      "epoch: 06, loss: -0.89188\n",
      "epoch: 07, loss: -0.89231\n",
      "epoch: 08, loss: -0.89252\n",
      "epoch: 09, loss: -0.89340\n",
      "After Unsqueezing, feature size= torch.Size([450, 384])\n",
      "type(projected_feature) <class 'torch.Tensor'>\n",
      "projected feature shape= torch.Size([450, 128])\n"
     ]
    },
    {
     "name": "stderr",
     "output_type": "stream",
     "text": [
      " 39%|███▉      | 390/1000 [2:39:23<3:53:30, 22.97s/it]"
     ]
    },
    {
     "name": "stdout",
     "output_type": "stream",
     "text": [
      "eigenvalues shape torch.Size([5]) eigenvectors shape torch.Size([5, 450])\n",
      "390 /home/phdcs2/Hard_Disk/Datasets/Deep-Spectral-Segmentation/data/object-segmentation/ECSSD/features/dino_vits16/0391.pth\n",
      "0391\n",
      "Starting Training\n",
      "epoch: 00, loss: -0.29721\n",
      "epoch: 01, loss: -0.31951\n",
      "epoch: 02, loss: -0.32639\n",
      "epoch: 03, loss: -0.33156\n",
      "epoch: 04, loss: -0.33637\n",
      "epoch: 05, loss: -0.33940\n",
      "epoch: 06, loss: -0.34324\n",
      "epoch: 07, loss: -0.34765\n",
      "epoch: 08, loss: -0.35190\n",
      "epoch: 09, loss: -0.35455\n",
      "After Unsqueezing, feature size= torch.Size([400, 384])\n",
      "type(projected_feature) <class 'torch.Tensor'>\n",
      "projected feature shape= torch.Size([400, 128])\n"
     ]
    },
    {
     "name": "stderr",
     "output_type": "stream",
     "text": [
      " 39%|███▉      | 391/1000 [2:39:43<3:44:33, 22.12s/it]"
     ]
    },
    {
     "name": "stdout",
     "output_type": "stream",
     "text": [
      "eigenvalues shape torch.Size([5]) eigenvectors shape torch.Size([5, 400])\n",
      "391 /home/phdcs2/Hard_Disk/Datasets/Deep-Spectral-Segmentation/data/object-segmentation/ECSSD/features/dino_vits16/0392.pth\n",
      "0392\n",
      "Starting Training\n",
      "epoch: 00, loss: -0.27225\n",
      "epoch: 01, loss: -0.28092\n",
      "epoch: 02, loss: -0.28320\n",
      "epoch: 03, loss: -0.28525\n",
      "epoch: 04, loss: -0.28852\n",
      "epoch: 05, loss: -0.29072\n",
      "epoch: 06, loss: -0.29335\n",
      "epoch: 07, loss: -0.29520\n",
      "epoch: 08, loss: -0.29856\n",
      "epoch: 09, loss: -0.30034\n",
      "After Unsqueezing, feature size= torch.Size([400, 384])\n",
      "type(projected_feature) <class 'torch.Tensor'>\n",
      "projected feature shape= torch.Size([400, 128])\n"
     ]
    },
    {
     "name": "stderr",
     "output_type": "stream",
     "text": [
      " 39%|███▉      | 392/1000 [2:40:04<3:39:07, 21.62s/it]"
     ]
    },
    {
     "name": "stdout",
     "output_type": "stream",
     "text": [
      "eigenvalues shape torch.Size([5]) eigenvectors shape torch.Size([5, 400])\n",
      "392 /home/phdcs2/Hard_Disk/Datasets/Deep-Spectral-Segmentation/data/object-segmentation/ECSSD/features/dino_vits16/0393.pth\n",
      "0393\n",
      "Starting Training\n",
      "epoch: 00, loss: -0.22260\n",
      "epoch: 01, loss: -0.16495\n",
      "epoch: 02, loss: -0.16402\n",
      "epoch: 03, loss: -0.17033\n",
      "epoch: 04, loss: -0.17137\n",
      "epoch: 05, loss: -0.17148\n",
      "epoch: 06, loss: -0.17342\n",
      "epoch: 07, loss: -0.17362\n",
      "epoch: 08, loss: -0.17402\n",
      "epoch: 09, loss: -0.17452\n",
      "After Unsqueezing, feature size= torch.Size([400, 384])\n",
      "type(projected_feature) <class 'torch.Tensor'>\n",
      "projected feature shape= torch.Size([400, 128])\n"
     ]
    },
    {
     "name": "stderr",
     "output_type": "stream",
     "text": [
      " 39%|███▉      | 393/1000 [2:40:24<3:34:21, 21.19s/it]"
     ]
    },
    {
     "name": "stdout",
     "output_type": "stream",
     "text": [
      "eigenvalues shape torch.Size([5]) eigenvectors shape torch.Size([5, 400])\n",
      "393 /home/phdcs2/Hard_Disk/Datasets/Deep-Spectral-Segmentation/data/object-segmentation/ECSSD/features/dino_vits16/0394.pth\n",
      "0394\n",
      "Starting Training\n",
      "epoch: 00, loss: -0.31068\n",
      "epoch: 01, loss: -0.32619\n",
      "epoch: 02, loss: -0.32892\n",
      "epoch: 03, loss: -0.33172\n",
      "epoch: 04, loss: -0.33541\n",
      "epoch: 05, loss: -0.33818\n",
      "epoch: 06, loss: -0.34278\n",
      "epoch: 07, loss: -0.34624\n",
      "epoch: 08, loss: -0.34929\n",
      "epoch: 09, loss: -0.35242\n",
      "After Unsqueezing, feature size= torch.Size([400, 384])\n",
      "type(projected_feature) <class 'torch.Tensor'>\n",
      "projected feature shape= torch.Size([400, 128])\n"
     ]
    },
    {
     "name": "stderr",
     "output_type": "stream",
     "text": [
      " 39%|███▉      | 394/1000 [2:40:45<3:32:35, 21.05s/it]"
     ]
    },
    {
     "name": "stdout",
     "output_type": "stream",
     "text": [
      "eigenvalues shape torch.Size([5]) eigenvectors shape torch.Size([5, 400])\n",
      "394 /home/phdcs2/Hard_Disk/Datasets/Deep-Spectral-Segmentation/data/object-segmentation/ECSSD/features/dino_vits16/0395.pth\n",
      "0395\n",
      "Starting Training\n",
      "epoch: 00, loss: -0.23538\n",
      "epoch: 01, loss: -0.25600\n",
      "epoch: 02, loss: -0.26159\n",
      "epoch: 03, loss: -0.26466\n",
      "epoch: 04, loss: -0.26804\n",
      "epoch: 05, loss: -0.27328\n",
      "epoch: 06, loss: -0.27957\n",
      "epoch: 07, loss: -0.28256\n",
      "epoch: 08, loss: -0.28590\n",
      "epoch: 09, loss: -0.28959\n",
      "After Unsqueezing, feature size= torch.Size([400, 384])\n",
      "type(projected_feature) <class 'torch.Tensor'>\n",
      "projected feature shape= torch.Size([400, 128])\n"
     ]
    },
    {
     "name": "stderr",
     "output_type": "stream",
     "text": [
      " 40%|███▉      | 395/1000 [2:41:08<3:39:11, 21.74s/it]"
     ]
    },
    {
     "name": "stdout",
     "output_type": "stream",
     "text": [
      "eigenvalues shape torch.Size([5]) eigenvectors shape torch.Size([5, 400])\n",
      "395 /home/phdcs2/Hard_Disk/Datasets/Deep-Spectral-Segmentation/data/object-segmentation/ECSSD/features/dino_vits16/0396.pth\n",
      "0396\n",
      "Starting Training\n",
      "epoch: 00, loss: -0.21039\n",
      "epoch: 01, loss: -0.22814\n",
      "epoch: 02, loss: -0.23082\n",
      "epoch: 03, loss: -0.23394\n",
      "epoch: 04, loss: -0.23515\n",
      "epoch: 05, loss: -0.23722\n",
      "epoch: 06, loss: -0.24026\n",
      "epoch: 07, loss: -0.24184\n",
      "epoch: 08, loss: -0.24366\n",
      "epoch: 09, loss: -0.24462\n",
      "After Unsqueezing, feature size= torch.Size([450, 384])\n",
      "type(projected_feature) <class 'torch.Tensor'>\n",
      "projected feature shape= torch.Size([450, 128])\n"
     ]
    },
    {
     "name": "stderr",
     "output_type": "stream",
     "text": [
      " 40%|███▉      | 396/1000 [2:41:30<3:41:00, 21.95s/it]"
     ]
    },
    {
     "name": "stdout",
     "output_type": "stream",
     "text": [
      "eigenvalues shape torch.Size([5]) eigenvectors shape torch.Size([5, 450])\n",
      "396 /home/phdcs2/Hard_Disk/Datasets/Deep-Spectral-Segmentation/data/object-segmentation/ECSSD/features/dino_vits16/0397.pth\n",
      "0397\n"
     ]
    },
    {
     "name": "stderr",
     "output_type": "stream",
     "text": [
      "/home/phdcs2/Hard_Disk/Projects/T2I/deep-spectral-segmentation/venv/lib/python3.8/site-packages/sklearn/decomposition/_pca.py:545: RuntimeWarning: invalid value encountered in divide\n",
      "  explained_variance_ratio_ = explained_variance_ / total_var\n"
     ]
    },
    {
     "name": "stdout",
     "output_type": "stream",
     "text": [
      "Starting Training\n",
      "epoch: 00, loss: 0.00000\n",
      "epoch: 01, loss: 0.00000\n",
      "epoch: 02, loss: 0.00000\n",
      "epoch: 03, loss: 0.00000\n",
      "epoch: 04, loss: 0.00000\n",
      "epoch: 05, loss: 0.00000\n",
      "epoch: 06, loss: 0.00000\n",
      "epoch: 07, loss: 0.00000\n",
      "epoch: 08, loss: 0.00000\n",
      "epoch: 09, loss: 0.00000\n",
      "After Unsqueezing, feature size= torch.Size([400, 384])\n",
      "type(projected_feature) <class 'torch.Tensor'>\n",
      "projected feature shape= torch.Size([400, 128])\n"
     ]
    },
    {
     "name": "stderr",
     "output_type": "stream",
     "text": [
      " 40%|███▉      | 397/1000 [2:41:53<3:43:15, 22.21s/it]"
     ]
    },
    {
     "name": "stdout",
     "output_type": "stream",
     "text": [
      "eigenvalues shape torch.Size([5]) eigenvectors shape torch.Size([5, 400])\n",
      "397 /home/phdcs2/Hard_Disk/Datasets/Deep-Spectral-Segmentation/data/object-segmentation/ECSSD/features/dino_vits16/0398.pth\n",
      "0398\n",
      "Starting Training\n",
      "epoch: 00, loss: -0.22133\n",
      "epoch: 01, loss: -0.23968\n",
      "epoch: 02, loss: -0.24806\n",
      "epoch: 03, loss: -0.25391\n",
      "epoch: 04, loss: -0.25860\n",
      "epoch: 05, loss: -0.26562\n",
      "epoch: 06, loss: -0.27207\n",
      "epoch: 07, loss: -0.27678\n",
      "epoch: 08, loss: -0.28298\n",
      "epoch: 09, loss: -0.28815\n",
      "After Unsqueezing, feature size= torch.Size([400, 384])\n",
      "type(projected_feature) <class 'torch.Tensor'>\n",
      "projected feature shape= torch.Size([400, 128])\n"
     ]
    },
    {
     "name": "stderr",
     "output_type": "stream",
     "text": [
      " 40%|███▉      | 398/1000 [2:42:13<3:36:50, 21.61s/it]"
     ]
    },
    {
     "name": "stdout",
     "output_type": "stream",
     "text": [
      "eigenvalues shape torch.Size([5]) eigenvectors shape torch.Size([5, 400])\n",
      "398 /home/phdcs2/Hard_Disk/Datasets/Deep-Spectral-Segmentation/data/object-segmentation/ECSSD/features/dino_vits16/0399.pth\n",
      "0399\n"
     ]
    },
    {
     "name": "stderr",
     "output_type": "stream",
     "text": [
      "/home/phdcs2/Hard_Disk/Projects/T2I/deep-spectral-segmentation/venv/lib/python3.8/site-packages/sklearn/decomposition/_pca.py:545: RuntimeWarning: invalid value encountered in divide\n",
      "  explained_variance_ratio_ = explained_variance_ / total_var\n"
     ]
    },
    {
     "name": "stdout",
     "output_type": "stream",
     "text": [
      "Starting Training\n",
      "epoch: 00, loss: 0.00000\n",
      "epoch: 01, loss: 0.00000\n",
      "epoch: 02, loss: 0.00000\n",
      "epoch: 03, loss: 0.00000\n",
      "epoch: 04, loss: 0.00000\n",
      "epoch: 05, loss: 0.00000\n",
      "epoch: 06, loss: 0.00000\n",
      "epoch: 07, loss: 0.00000\n",
      "epoch: 08, loss: 0.00000\n",
      "epoch: 09, loss: 0.00000\n",
      "After Unsqueezing, feature size= torch.Size([400, 384])\n",
      "type(projected_feature) <class 'torch.Tensor'>\n",
      "projected feature shape= torch.Size([400, 128])\n"
     ]
    },
    {
     "name": "stderr",
     "output_type": "stream",
     "text": [
      " 40%|███▉      | 399/1000 [2:42:33<3:29:28, 20.91s/it]"
     ]
    },
    {
     "name": "stdout",
     "output_type": "stream",
     "text": [
      "eigenvalues shape torch.Size([5]) eigenvectors shape torch.Size([5, 400])\n",
      "399 /home/phdcs2/Hard_Disk/Datasets/Deep-Spectral-Segmentation/data/object-segmentation/ECSSD/features/dino_vits16/0400.pth\n",
      "0400\n",
      "Starting Training\n",
      "epoch: 00, loss: -0.31645\n",
      "epoch: 01, loss: -0.32621\n",
      "epoch: 02, loss: -0.33647\n",
      "epoch: 03, loss: -0.34341\n",
      "epoch: 04, loss: -0.35161\n",
      "epoch: 05, loss: -0.35857\n",
      "epoch: 06, loss: -0.36309\n",
      "epoch: 07, loss: -0.36881\n",
      "epoch: 08, loss: -0.37550\n",
      "epoch: 09, loss: -0.38125\n",
      "After Unsqueezing, feature size= torch.Size([400, 384])\n",
      "type(projected_feature) <class 'torch.Tensor'>\n",
      "projected feature shape= torch.Size([400, 128])\n"
     ]
    },
    {
     "name": "stderr",
     "output_type": "stream",
     "text": [
      " 40%|████      | 400/1000 [2:42:53<3:28:19, 20.83s/it]"
     ]
    },
    {
     "name": "stdout",
     "output_type": "stream",
     "text": [
      "eigenvalues shape torch.Size([5]) eigenvectors shape torch.Size([5, 400])\n",
      "400 /home/phdcs2/Hard_Disk/Datasets/Deep-Spectral-Segmentation/data/object-segmentation/ECSSD/features/dino_vits16/0401.pth\n",
      "0401\n",
      "Starting Training\n",
      "epoch: 00, loss: -0.19609\n",
      "epoch: 01, loss: -0.14840\n",
      "epoch: 02, loss: -0.14028\n",
      "epoch: 03, loss: -0.13923\n",
      "epoch: 04, loss: -0.13880\n",
      "epoch: 05, loss: -0.13926\n",
      "epoch: 06, loss: -0.14000\n",
      "epoch: 07, loss: -0.14016\n",
      "epoch: 08, loss: -0.14051\n",
      "epoch: 09, loss: -0.14090\n",
      "After Unsqueezing, feature size= torch.Size([400, 384])\n",
      "type(projected_feature) <class 'torch.Tensor'>\n",
      "projected feature shape= torch.Size([400, 128])\n"
     ]
    },
    {
     "name": "stderr",
     "output_type": "stream",
     "text": [
      " 40%|████      | 401/1000 [2:43:14<3:28:48, 20.92s/it]"
     ]
    },
    {
     "name": "stdout",
     "output_type": "stream",
     "text": [
      "eigenvalues shape torch.Size([5]) eigenvectors shape torch.Size([5, 400])\n",
      "401 /home/phdcs2/Hard_Disk/Datasets/Deep-Spectral-Segmentation/data/object-segmentation/ECSSD/features/dino_vits16/0402.pth\n",
      "0402\n",
      "Starting Training\n",
      "epoch: 00, loss: -0.77522\n",
      "epoch: 01, loss: -0.89880\n",
      "epoch: 02, loss: -0.90257\n",
      "epoch: 03, loss: -0.90265\n",
      "epoch: 04, loss: -0.90347\n",
      "epoch: 05, loss: -0.90447\n",
      "epoch: 06, loss: -0.90401\n",
      "epoch: 07, loss: -0.90572\n",
      "epoch: 08, loss: -0.90627\n",
      "epoch: 09, loss: -0.90578\n",
      "After Unsqueezing, feature size= torch.Size([400, 384])\n",
      "type(projected_feature) <class 'torch.Tensor'>\n",
      "projected feature shape= torch.Size([400, 128])\n"
     ]
    },
    {
     "name": "stderr",
     "output_type": "stream",
     "text": [
      " 40%|████      | 402/1000 [2:43:34<3:25:42, 20.64s/it]"
     ]
    },
    {
     "name": "stdout",
     "output_type": "stream",
     "text": [
      "eigenvalues shape torch.Size([5]) eigenvectors shape torch.Size([5, 400])\n",
      "402 /home/phdcs2/Hard_Disk/Datasets/Deep-Spectral-Segmentation/data/object-segmentation/ECSSD/features/dino_vits16/0403.pth\n",
      "0403\n",
      "Starting Training\n",
      "epoch: 00, loss: -0.33579\n",
      "epoch: 01, loss: -0.35537\n",
      "epoch: 02, loss: -0.36618\n",
      "epoch: 03, loss: -0.37471\n",
      "epoch: 04, loss: -0.37971\n",
      "epoch: 05, loss: -0.38555\n",
      "epoch: 06, loss: -0.39000\n",
      "epoch: 07, loss: -0.39412\n",
      "epoch: 08, loss: -0.39897\n",
      "epoch: 09, loss: -0.40429\n",
      "After Unsqueezing, feature size= torch.Size([400, 384])\n",
      "type(projected_feature) <class 'torch.Tensor'>\n",
      "projected feature shape= torch.Size([400, 128])\n"
     ]
    },
    {
     "name": "stderr",
     "output_type": "stream",
     "text": [
      " 40%|████      | 403/1000 [2:43:55<3:25:14, 20.63s/it]"
     ]
    },
    {
     "name": "stdout",
     "output_type": "stream",
     "text": [
      "eigenvalues shape torch.Size([5]) eigenvectors shape torch.Size([5, 400])\n",
      "403 /home/phdcs2/Hard_Disk/Datasets/Deep-Spectral-Segmentation/data/object-segmentation/ECSSD/features/dino_vits16/0404.pth\n",
      "0404\n",
      "Starting Training\n",
      "epoch: 00, loss: -0.29772\n",
      "epoch: 01, loss: -0.30962\n",
      "epoch: 02, loss: -0.31300\n",
      "epoch: 03, loss: -0.31792\n",
      "epoch: 04, loss: -0.32020\n",
      "epoch: 05, loss: -0.32374\n",
      "epoch: 06, loss: -0.32682\n",
      "epoch: 07, loss: -0.32941\n",
      "epoch: 08, loss: -0.33186\n"
     ]
    },
    {
     "name": "stderr",
     "output_type": "stream",
     "text": [
      " 40%|████      | 404/1000 [2:44:16<3:26:37, 20.80s/it]"
     ]
    },
    {
     "name": "stdout",
     "output_type": "stream",
     "text": [
      "epoch: 09, loss: -0.33521\n",
      "After Unsqueezing, feature size= torch.Size([400, 384])\n",
      "type(projected_feature) <class 'torch.Tensor'>\n",
      "projected feature shape= torch.Size([400, 128])\n",
      "eigenvalues shape torch.Size([5]) eigenvectors shape torch.Size([5, 400])\n",
      "404 /home/phdcs2/Hard_Disk/Datasets/Deep-Spectral-Segmentation/data/object-segmentation/ECSSD/features/dino_vits16/0405.pth\n",
      "0405\n",
      "Starting Training\n",
      "epoch: 00, loss: -0.29009\n",
      "epoch: 01, loss: -0.30727\n",
      "epoch: 02, loss: -0.31557\n",
      "epoch: 03, loss: -0.32312\n",
      "epoch: 04, loss: -0.32760\n",
      "epoch: 05, loss: -0.33456\n",
      "epoch: 06, loss: -0.33790\n",
      "epoch: 07, loss: -0.34239\n",
      "epoch: 08, loss: -0.34531\n",
      "epoch: 09, loss: -0.34979\n",
      "After Unsqueezing, feature size= torch.Size([400, 384])\n",
      "type(projected_feature) <class 'torch.Tensor'>\n",
      "projected feature shape= torch.Size([400, 128])\n"
     ]
    },
    {
     "name": "stderr",
     "output_type": "stream",
     "text": [
      " 40%|████      | 405/1000 [2:44:40<3:34:03, 21.59s/it]"
     ]
    },
    {
     "name": "stdout",
     "output_type": "stream",
     "text": [
      "eigenvalues shape torch.Size([5]) eigenvectors shape torch.Size([5, 400])\n",
      "405 /home/phdcs2/Hard_Disk/Datasets/Deep-Spectral-Segmentation/data/object-segmentation/ECSSD/features/dino_vits16/0406.pth\n",
      "0406\n",
      "Starting Training\n",
      "epoch: 00, loss: -0.30495\n",
      "epoch: 01, loss: -0.32086\n",
      "epoch: 02, loss: -0.32612\n",
      "epoch: 03, loss: -0.33043\n",
      "epoch: 04, loss: -0.33599\n",
      "epoch: 05, loss: -0.33959\n",
      "epoch: 06, loss: -0.34217\n",
      "epoch: 07, loss: -0.34754\n",
      "epoch: 08, loss: -0.35108\n",
      "epoch: 09, loss: -0.35343\n",
      "After Unsqueezing, feature size= torch.Size([400, 384])\n",
      "type(projected_feature) <class 'torch.Tensor'>\n",
      "projected feature shape= torch.Size([400, 128])\n"
     ]
    },
    {
     "name": "stderr",
     "output_type": "stream",
     "text": [
      " 41%|████      | 406/1000 [2:45:01<3:32:20, 21.45s/it]"
     ]
    },
    {
     "name": "stdout",
     "output_type": "stream",
     "text": [
      "eigenvalues shape torch.Size([5]) eigenvectors shape torch.Size([5, 400])\n",
      "406 /home/phdcs2/Hard_Disk/Datasets/Deep-Spectral-Segmentation/data/object-segmentation/ECSSD/features/dino_vits16/0407.pth\n",
      "0407\n",
      "Starting Training\n"
     ]
    },
    {
     "name": "stderr",
     "output_type": "stream",
     "text": [
      "/home/phdcs2/Hard_Disk/Projects/T2I/deep-spectral-segmentation/venv/lib/python3.8/site-packages/sklearn/decomposition/_pca.py:545: RuntimeWarning: invalid value encountered in divide\n",
      "  explained_variance_ratio_ = explained_variance_ / total_var\n"
     ]
    },
    {
     "name": "stdout",
     "output_type": "stream",
     "text": [
      "epoch: 00, loss: 0.00000\n",
      "epoch: 01, loss: 0.00000\n",
      "epoch: 02, loss: 0.00000\n",
      "epoch: 03, loss: 0.00000\n",
      "epoch: 04, loss: 0.00000\n",
      "epoch: 05, loss: 0.00000\n",
      "epoch: 06, loss: 0.00000\n",
      "epoch: 07, loss: 0.00000\n",
      "epoch: 08, loss: 0.00000\n",
      "epoch: 09, loss: 0.00000\n",
      "After Unsqueezing, feature size= torch.Size([400, 384])\n",
      "type(projected_feature) <class 'torch.Tensor'>\n",
      "projected feature shape= torch.Size([400, 128])\n"
     ]
    },
    {
     "name": "stderr",
     "output_type": "stream",
     "text": [
      " 41%|████      | 407/1000 [2:45:21<3:29:10, 21.16s/it]"
     ]
    },
    {
     "name": "stdout",
     "output_type": "stream",
     "text": [
      "eigenvalues shape torch.Size([5]) eigenvectors shape torch.Size([5, 400])\n",
      "407 /home/phdcs2/Hard_Disk/Datasets/Deep-Spectral-Segmentation/data/object-segmentation/ECSSD/features/dino_vits16/0408.pth\n",
      "0408\n",
      "Starting Training\n",
      "epoch: 00, loss: -0.68499\n",
      "epoch: 01, loss: -0.74645\n",
      "epoch: 02, loss: -0.75189\n",
      "epoch: 03, loss: -0.75431\n",
      "epoch: 04, loss: -0.75729\n",
      "epoch: 05, loss: -0.76004\n",
      "epoch: 06, loss: -0.76136\n",
      "epoch: 07, loss: -0.76378\n",
      "epoch: 08, loss: -0.76514\n",
      "epoch: 09, loss: -0.76764\n",
      "After Unsqueezing, feature size= torch.Size([400, 384])\n",
      "type(projected_feature) <class 'torch.Tensor'>\n",
      "projected feature shape= torch.Size([400, 128])\n"
     ]
    },
    {
     "name": "stderr",
     "output_type": "stream",
     "text": [
      " 41%|████      | 408/1000 [2:45:43<3:31:24, 21.43s/it]"
     ]
    },
    {
     "name": "stdout",
     "output_type": "stream",
     "text": [
      "eigenvalues shape torch.Size([5]) eigenvectors shape torch.Size([5, 400])\n",
      "408 /home/phdcs2/Hard_Disk/Datasets/Deep-Spectral-Segmentation/data/object-segmentation/ECSSD/features/dino_vits16/0409.pth\n",
      "0409\n",
      "Starting Training\n",
      "epoch: 00, loss: -0.75648\n",
      "epoch: 01, loss: -0.84316\n",
      "epoch: 02, loss: -0.84416\n",
      "epoch: 03, loss: -0.84466\n",
      "epoch: 04, loss: -0.84587\n",
      "epoch: 05, loss: -0.84634\n",
      "epoch: 06, loss: -0.84709\n",
      "epoch: 07, loss: -0.84714\n",
      "epoch: 08, loss: -0.84821\n",
      "epoch: 09, loss: -0.84815\n",
      "After Unsqueezing, feature size= torch.Size([450, 384])\n",
      "type(projected_feature) <class 'torch.Tensor'>\n",
      "projected feature shape= torch.Size([450, 128])\n"
     ]
    },
    {
     "name": "stderr",
     "output_type": "stream",
     "text": [
      " 41%|████      | 409/1000 [2:46:08<3:40:20, 22.37s/it]"
     ]
    },
    {
     "name": "stdout",
     "output_type": "stream",
     "text": [
      "eigenvalues shape torch.Size([5]) eigenvectors shape torch.Size([5, 450])\n",
      "409 /home/phdcs2/Hard_Disk/Datasets/Deep-Spectral-Segmentation/data/object-segmentation/ECSSD/features/dino_vits16/0410.pth\n",
      "0410\n"
     ]
    },
    {
     "name": "stderr",
     "output_type": "stream",
     "text": [
      "/home/phdcs2/Hard_Disk/Projects/T2I/deep-spectral-segmentation/venv/lib/python3.8/site-packages/sklearn/decomposition/_pca.py:545: RuntimeWarning: invalid value encountered in divide\n",
      "  explained_variance_ratio_ = explained_variance_ / total_var\n"
     ]
    },
    {
     "name": "stdout",
     "output_type": "stream",
     "text": [
      "Starting Training\n",
      "epoch: 00, loss: 0.00000\n",
      "epoch: 01, loss: 0.00000\n",
      "epoch: 02, loss: 0.00000\n",
      "epoch: 03, loss: 0.00000\n",
      "epoch: 04, loss: 0.00000\n",
      "epoch: 05, loss: 0.00000\n",
      "epoch: 06, loss: 0.00000\n",
      "epoch: 07, loss: 0.00000\n",
      "epoch: 08, loss: 0.00000\n",
      "epoch: 09, loss: 0.00000\n",
      "After Unsqueezing, feature size= torch.Size([325, 384])\n",
      "type(projected_feature) <class 'torch.Tensor'>\n",
      "projected feature shape= torch.Size([325, 128])\n"
     ]
    },
    {
     "name": "stderr",
     "output_type": "stream",
     "text": [
      " 41%|████      | 410/1000 [2:46:26<3:27:26, 21.10s/it]"
     ]
    },
    {
     "name": "stdout",
     "output_type": "stream",
     "text": [
      "eigenvalues shape torch.Size([5]) eigenvectors shape torch.Size([5, 325])\n",
      "410 /home/phdcs2/Hard_Disk/Datasets/Deep-Spectral-Segmentation/data/object-segmentation/ECSSD/features/dino_vits16/0411.pth\n",
      "0411\n"
     ]
    },
    {
     "name": "stderr",
     "output_type": "stream",
     "text": [
      "/home/phdcs2/Hard_Disk/Projects/T2I/deep-spectral-segmentation/venv/lib/python3.8/site-packages/sklearn/decomposition/_pca.py:545: RuntimeWarning: invalid value encountered in divide\n",
      "  explained_variance_ratio_ = explained_variance_ / total_var\n"
     ]
    },
    {
     "name": "stdout",
     "output_type": "stream",
     "text": [
      "Starting Training\n",
      "epoch: 00, loss: 0.00000\n",
      "epoch: 01, loss: 0.00000\n",
      "epoch: 02, loss: 0.00000\n",
      "epoch: 03, loss: 0.00000\n",
      "epoch: 04, loss: 0.00000\n",
      "epoch: 05, loss: 0.00000\n",
      "epoch: 06, loss: 0.00000\n",
      "epoch: 07, loss: 0.00000\n",
      "epoch: 08, loss: 0.00000\n",
      "epoch: 09, loss: 0.00000\n",
      "After Unsqueezing, feature size= torch.Size([450, 384])\n",
      "type(projected_feature) <class 'torch.Tensor'>\n",
      "projected feature shape= torch.Size([450, 128])\n"
     ]
    },
    {
     "name": "stderr",
     "output_type": "stream",
     "text": [
      " 41%|████      | 411/1000 [2:46:50<3:36:40, 22.07s/it]"
     ]
    },
    {
     "name": "stdout",
     "output_type": "stream",
     "text": [
      "eigenvalues shape torch.Size([5]) eigenvectors shape torch.Size([5, 450])\n",
      "411 /home/phdcs2/Hard_Disk/Datasets/Deep-Spectral-Segmentation/data/object-segmentation/ECSSD/features/dino_vits16/0412.pth\n",
      "0412\n"
     ]
    },
    {
     "name": "stderr",
     "output_type": "stream",
     "text": [
      "/home/phdcs2/Hard_Disk/Projects/T2I/deep-spectral-segmentation/venv/lib/python3.8/site-packages/sklearn/decomposition/_pca.py:545: RuntimeWarning: invalid value encountered in divide\n",
      "  explained_variance_ratio_ = explained_variance_ / total_var\n"
     ]
    },
    {
     "name": "stdout",
     "output_type": "stream",
     "text": [
      "Starting Training\n",
      "epoch: 00, loss: 0.00000\n",
      "epoch: 01, loss: 0.00000\n",
      "epoch: 02, loss: 0.00000\n",
      "epoch: 03, loss: 0.00000\n",
      "epoch: 04, loss: 0.00000\n",
      "epoch: 05, loss: 0.00000\n",
      "epoch: 06, loss: 0.00000\n",
      "epoch: 07, loss: 0.00000\n",
      "epoch: 08, loss: 0.00000\n",
      "epoch: 09, loss: 0.00000\n",
      "After Unsqueezing, feature size= torch.Size([450, 384])\n",
      "type(projected_feature) <class 'torch.Tensor'>\n",
      "projected feature shape= torch.Size([450, 128])\n"
     ]
    },
    {
     "name": "stderr",
     "output_type": "stream",
     "text": [
      " 41%|████      | 412/1000 [2:47:16<3:45:36, 23.02s/it]"
     ]
    },
    {
     "name": "stdout",
     "output_type": "stream",
     "text": [
      "eigenvalues shape torch.Size([5]) eigenvectors shape torch.Size([5, 450])\n",
      "412 /home/phdcs2/Hard_Disk/Datasets/Deep-Spectral-Segmentation/data/object-segmentation/ECSSD/features/dino_vits16/0413.pth\n",
      "0413\n",
      "Starting Training\n",
      "epoch: 00, loss: -0.23357\n",
      "epoch: 01, loss: -0.25241\n",
      "epoch: 02, loss: -0.25695\n",
      "epoch: 03, loss: -0.25876\n",
      "epoch: 04, loss: -0.26043\n",
      "epoch: 05, loss: -0.26309\n",
      "epoch: 06, loss: -0.26467\n",
      "epoch: 07, loss: -0.26634\n",
      "epoch: 08, loss: -0.26866\n",
      "epoch: 09, loss: -0.27073\n",
      "After Unsqueezing, feature size= torch.Size([450, 384])\n",
      "type(projected_feature) <class 'torch.Tensor'>\n",
      "projected feature shape= torch.Size([450, 128])\n"
     ]
    },
    {
     "name": "stderr",
     "output_type": "stream",
     "text": [
      " 41%|████▏     | 413/1000 [2:47:39<3:45:40, 23.07s/it]"
     ]
    },
    {
     "name": "stdout",
     "output_type": "stream",
     "text": [
      "eigenvalues shape torch.Size([5]) eigenvectors shape torch.Size([5, 450])\n",
      "413 /home/phdcs2/Hard_Disk/Datasets/Deep-Spectral-Segmentation/data/object-segmentation/ECSSD/features/dino_vits16/0414.pth\n",
      "0414\n",
      "Starting Training\n",
      "epoch: 00, loss: -0.33337\n",
      "epoch: 01, loss: -0.34829\n",
      "epoch: 02, loss: -0.35275\n",
      "epoch: 03, loss: -0.35782\n",
      "epoch: 04, loss: -0.36468\n",
      "epoch: 05, loss: -0.36929\n",
      "epoch: 06, loss: -0.37453\n",
      "epoch: 07, loss: -0.37914\n",
      "epoch: 08, loss: -0.38311\n",
      "epoch: 09, loss: -0.38810\n",
      "After Unsqueezing, feature size= torch.Size([450, 384])\n",
      "type(projected_feature) <class 'torch.Tensor'>\n",
      "projected feature shape= torch.Size([450, 128])\n"
     ]
    },
    {
     "name": "stderr",
     "output_type": "stream",
     "text": [
      " 41%|████▏     | 414/1000 [2:48:02<3:44:24, 22.98s/it]"
     ]
    },
    {
     "name": "stdout",
     "output_type": "stream",
     "text": [
      "eigenvalues shape torch.Size([5]) eigenvectors shape torch.Size([5, 450])\n",
      "414 /home/phdcs2/Hard_Disk/Datasets/Deep-Spectral-Segmentation/data/object-segmentation/ECSSD/features/dino_vits16/0415.pth\n",
      "0415\n",
      "Starting Training\n"
     ]
    },
    {
     "name": "stderr",
     "output_type": "stream",
     "text": [
      "/home/phdcs2/Hard_Disk/Projects/T2I/deep-spectral-segmentation/venv/lib/python3.8/site-packages/sklearn/decomposition/_pca.py:545: RuntimeWarning: invalid value encountered in divide\n",
      "  explained_variance_ratio_ = explained_variance_ / total_var\n"
     ]
    },
    {
     "name": "stdout",
     "output_type": "stream",
     "text": [
      "epoch: 00, loss: 0.00000\n",
      "epoch: 01, loss: 0.00000\n",
      "epoch: 02, loss: 0.00000\n",
      "epoch: 03, loss: 0.00000\n",
      "epoch: 04, loss: 0.00000\n",
      "epoch: 05, loss: 0.00000\n",
      "epoch: 06, loss: 0.00000\n",
      "epoch: 07, loss: 0.00000\n",
      "epoch: 08, loss: 0.00000\n",
      "epoch: 09, loss: 0.00000\n",
      "After Unsqueezing, feature size= torch.Size([450, 384])\n",
      "type(projected_feature) <class 'torch.Tensor'>\n",
      "projected feature shape= torch.Size([450, 128])\n"
     ]
    },
    {
     "name": "stderr",
     "output_type": "stream",
     "text": [
      " 42%|████▏     | 415/1000 [2:48:25<3:44:44, 23.05s/it]"
     ]
    },
    {
     "name": "stdout",
     "output_type": "stream",
     "text": [
      "eigenvalues shape torch.Size([5]) eigenvectors shape torch.Size([5, 450])\n",
      "415 /home/phdcs2/Hard_Disk/Datasets/Deep-Spectral-Segmentation/data/object-segmentation/ECSSD/features/dino_vits16/0416.pth\n",
      "0416\n",
      "Starting Training\n",
      "epoch: 00, loss: -0.33471\n",
      "epoch: 01, loss: -0.33887\n",
      "epoch: 02, loss: -0.34781\n",
      "epoch: 03, loss: -0.35385\n",
      "epoch: 04, loss: -0.35899\n",
      "epoch: 05, loss: -0.36346\n",
      "epoch: 06, loss: -0.36645\n",
      "epoch: 07, loss: -0.37161\n",
      "epoch: 08, loss: -0.37579\n",
      "epoch: 09, loss: -0.37799\n",
      "After Unsqueezing, feature size= torch.Size([450, 384])\n",
      "type(projected_feature) <class 'torch.Tensor'>\n",
      "projected feature shape= torch.Size([450, 128])\n"
     ]
    },
    {
     "name": "stderr",
     "output_type": "stream",
     "text": [
      " 42%|████▏     | 416/1000 [2:48:49<3:47:30, 23.37s/it]"
     ]
    },
    {
     "name": "stdout",
     "output_type": "stream",
     "text": [
      "eigenvalues shape torch.Size([5]) eigenvectors shape torch.Size([5, 450])\n",
      "416 /home/phdcs2/Hard_Disk/Datasets/Deep-Spectral-Segmentation/data/object-segmentation/ECSSD/features/dino_vits16/0417.pth\n",
      "0417\n"
     ]
    },
    {
     "name": "stderr",
     "output_type": "stream",
     "text": [
      "/home/phdcs2/Hard_Disk/Projects/T2I/deep-spectral-segmentation/venv/lib/python3.8/site-packages/sklearn/decomposition/_pca.py:545: RuntimeWarning: invalid value encountered in divide\n",
      "  explained_variance_ratio_ = explained_variance_ / total_var\n"
     ]
    },
    {
     "name": "stdout",
     "output_type": "stream",
     "text": [
      "Starting Training\n",
      "epoch: 00, loss: 0.00000\n",
      "epoch: 01, loss: 0.00000\n",
      "epoch: 02, loss: 0.00000\n",
      "epoch: 03, loss: 0.00000\n",
      "epoch: 04, loss: 0.00000\n",
      "epoch: 05, loss: 0.00000\n",
      "epoch: 06, loss: 0.00000\n",
      "epoch: 07, loss: 0.00000\n",
      "epoch: 08, loss: 0.00000\n",
      "epoch: 09, loss: 0.00000\n",
      "After Unsqueezing, feature size= torch.Size([450, 384])\n",
      "type(projected_feature) <class 'torch.Tensor'>\n",
      "projected feature shape= torch.Size([450, 128])\n"
     ]
    },
    {
     "name": "stderr",
     "output_type": "stream",
     "text": [
      " 42%|████▏     | 417/1000 [2:49:12<3:47:35, 23.42s/it]"
     ]
    },
    {
     "name": "stdout",
     "output_type": "stream",
     "text": [
      "eigenvalues shape torch.Size([5]) eigenvectors shape torch.Size([5, 450])\n",
      "417 /home/phdcs2/Hard_Disk/Datasets/Deep-Spectral-Segmentation/data/object-segmentation/ECSSD/features/dino_vits16/0418.pth\n",
      "0418\n",
      "Starting Training\n",
      "epoch: 00, loss: -0.73713\n",
      "epoch: 01, loss: -0.82455\n",
      "epoch: 02, loss: -0.82586\n",
      "epoch: 03, loss: -0.82796\n",
      "epoch: 04, loss: -0.82927\n",
      "epoch: 05, loss: -0.83064\n",
      "epoch: 06, loss: -0.83242\n",
      "epoch: 07, loss: -0.83328\n",
      "epoch: 08, loss: -0.83443\n",
      "epoch: 09, loss: -0.83637\n",
      "After Unsqueezing, feature size= torch.Size([450, 384])\n",
      "type(projected_feature) <class 'torch.Tensor'>\n",
      "projected feature shape= torch.Size([450, 128])\n"
     ]
    },
    {
     "name": "stderr",
     "output_type": "stream",
     "text": [
      " 42%|████▏     | 418/1000 [2:49:36<3:46:24, 23.34s/it]"
     ]
    },
    {
     "name": "stdout",
     "output_type": "stream",
     "text": [
      "eigenvalues shape torch.Size([5]) eigenvectors shape torch.Size([5, 450])\n",
      "418 /home/phdcs2/Hard_Disk/Datasets/Deep-Spectral-Segmentation/data/object-segmentation/ECSSD/features/dino_vits16/0419.pth\n",
      "0419\n"
     ]
    },
    {
     "name": "stderr",
     "output_type": "stream",
     "text": [
      "/home/phdcs2/Hard_Disk/Projects/T2I/deep-spectral-segmentation/venv/lib/python3.8/site-packages/sklearn/decomposition/_pca.py:545: RuntimeWarning: invalid value encountered in divide\n",
      "  explained_variance_ratio_ = explained_variance_ / total_var\n"
     ]
    },
    {
     "name": "stdout",
     "output_type": "stream",
     "text": [
      "Starting Training\n",
      "epoch: 00, loss: 0.00000\n",
      "epoch: 01, loss: 0.00000\n",
      "epoch: 02, loss: 0.00000\n",
      "epoch: 03, loss: 0.00000\n",
      "epoch: 04, loss: 0.00000\n",
      "epoch: 05, loss: 0.00000\n",
      "epoch: 06, loss: 0.00000\n",
      "epoch: 07, loss: 0.00000\n",
      "epoch: 08, loss: 0.00000\n",
      "epoch: 09, loss: 0.00000\n",
      "After Unsqueezing, feature size= torch.Size([450, 384])\n",
      "type(projected_feature) <class 'torch.Tensor'>\n",
      "projected feature shape= torch.Size([450, 128])\n"
     ]
    },
    {
     "name": "stderr",
     "output_type": "stream",
     "text": [
      " 42%|████▏     | 419/1000 [2:50:00<3:47:40, 23.51s/it]"
     ]
    },
    {
     "name": "stdout",
     "output_type": "stream",
     "text": [
      "eigenvalues shape torch.Size([5]) eigenvectors shape torch.Size([5, 450])\n",
      "419 /home/phdcs2/Hard_Disk/Datasets/Deep-Spectral-Segmentation/data/object-segmentation/ECSSD/features/dino_vits16/0420.pth\n",
      "0420\n"
     ]
    },
    {
     "name": "stderr",
     "output_type": "stream",
     "text": [
      "/home/phdcs2/Hard_Disk/Projects/T2I/deep-spectral-segmentation/venv/lib/python3.8/site-packages/sklearn/decomposition/_pca.py:545: RuntimeWarning: invalid value encountered in divide\n",
      "  explained_variance_ratio_ = explained_variance_ / total_var\n"
     ]
    },
    {
     "name": "stdout",
     "output_type": "stream",
     "text": [
      "Starting Training\n",
      "epoch: 00, loss: 0.00000\n",
      "epoch: 01, loss: 0.00000\n",
      "epoch: 02, loss: 0.00000\n",
      "epoch: 03, loss: 0.00000\n",
      "epoch: 04, loss: 0.00000\n",
      "epoch: 05, loss: 0.00000\n",
      "epoch: 06, loss: 0.00000\n",
      "epoch: 07, loss: 0.00000\n",
      "epoch: 08, loss: 0.00000\n",
      "epoch: 09, loss: 0.00000\n"
     ]
    },
    {
     "name": "stderr",
     "output_type": "stream",
     "text": [
      " 42%|████▏     | 420/1000 [2:50:32<4:12:00, 26.07s/it]"
     ]
    },
    {
     "name": "stdout",
     "output_type": "stream",
     "text": [
      "After Unsqueezing, feature size= torch.Size([575, 384])\n",
      "type(projected_feature) <class 'torch.Tensor'>\n",
      "projected feature shape= torch.Size([575, 128])\n",
      "eigenvalues shape torch.Size([5]) eigenvectors shape torch.Size([5, 575])\n",
      "420 /home/phdcs2/Hard_Disk/Datasets/Deep-Spectral-Segmentation/data/object-segmentation/ECSSD/features/dino_vits16/0421.pth\n",
      "0421\n"
     ]
    },
    {
     "name": "stderr",
     "output_type": "stream",
     "text": [
      "/home/phdcs2/Hard_Disk/Projects/T2I/deep-spectral-segmentation/venv/lib/python3.8/site-packages/sklearn/decomposition/_pca.py:545: RuntimeWarning: invalid value encountered in divide\n",
      "  explained_variance_ratio_ = explained_variance_ / total_var\n"
     ]
    },
    {
     "name": "stdout",
     "output_type": "stream",
     "text": [
      "Starting Training\n",
      "epoch: 00, loss: 0.00000\n",
      "epoch: 01, loss: 0.00000\n",
      "epoch: 02, loss: 0.00000\n",
      "epoch: 03, loss: 0.00000\n",
      "epoch: 04, loss: 0.00000\n",
      "epoch: 05, loss: 0.00000\n",
      "epoch: 06, loss: 0.00000\n",
      "epoch: 07, loss: 0.00000\n",
      "epoch: 08, loss: 0.00000\n",
      "epoch: 09, loss: 0.00000\n",
      "After Unsqueezing, feature size= torch.Size([525, 384])\n",
      "type(projected_feature) <class 'torch.Tensor'>\n",
      "projected feature shape= torch.Size([525, 128])\n"
     ]
    },
    {
     "name": "stderr",
     "output_type": "stream",
     "text": [
      " 42%|████▏     | 421/1000 [2:51:00<4:17:26, 26.68s/it]"
     ]
    },
    {
     "name": "stdout",
     "output_type": "stream",
     "text": [
      "eigenvalues shape torch.Size([5]) eigenvectors shape torch.Size([5, 525])\n",
      "421 /home/phdcs2/Hard_Disk/Datasets/Deep-Spectral-Segmentation/data/object-segmentation/ECSSD/features/dino_vits16/0422.pth\n",
      "0422\n",
      "Starting Training\n",
      "epoch: 00, loss: -0.14169\n",
      "epoch: 01, loss: -0.02463\n",
      "epoch: 02, loss: -0.02503\n",
      "epoch: 03, loss: -0.02508\n",
      "epoch: 04, loss: -0.02519\n",
      "epoch: 05, loss: -0.02609\n",
      "epoch: 06, loss: -0.03017\n",
      "epoch: 07, loss: -0.03038\n",
      "epoch: 08, loss: -0.03028\n",
      "epoch: 09, loss: -0.03035\n",
      "After Unsqueezing, feature size= torch.Size([450, 384])\n",
      "type(projected_feature) <class 'torch.Tensor'>\n",
      "projected feature shape= torch.Size([450, 128])\n"
     ]
    },
    {
     "name": "stderr",
     "output_type": "stream",
     "text": [
      " 42%|████▏     | 422/1000 [2:51:23<4:06:07, 25.55s/it]"
     ]
    },
    {
     "name": "stdout",
     "output_type": "stream",
     "text": [
      "eigenvalues shape torch.Size([5]) eigenvectors shape torch.Size([5, 450])\n",
      "422 /home/phdcs2/Hard_Disk/Datasets/Deep-Spectral-Segmentation/data/object-segmentation/ECSSD/features/dino_vits16/0423.pth\n",
      "0423\n",
      "Starting Training\n",
      "epoch: 00, loss: -0.32145\n",
      "epoch: 01, loss: -0.33897\n",
      "epoch: 02, loss: -0.34919\n",
      "epoch: 03, loss: -0.35612\n",
      "epoch: 04, loss: -0.36402\n",
      "epoch: 05, loss: -0.36875\n",
      "epoch: 06, loss: -0.37404\n",
      "epoch: 07, loss: -0.37519\n",
      "epoch: 08, loss: -0.37978\n",
      "epoch: 09, loss: -0.38511\n",
      "After Unsqueezing, feature size= torch.Size([425, 384])\n",
      "type(projected_feature) <class 'torch.Tensor'>\n",
      "projected feature shape= torch.Size([425, 128])\n"
     ]
    },
    {
     "name": "stderr",
     "output_type": "stream",
     "text": [
      " 42%|████▏     | 423/1000 [2:51:44<3:53:13, 24.25s/it]"
     ]
    },
    {
     "name": "stdout",
     "output_type": "stream",
     "text": [
      "eigenvalues shape torch.Size([5]) eigenvectors shape torch.Size([5, 425])\n",
      "423 /home/phdcs2/Hard_Disk/Datasets/Deep-Spectral-Segmentation/data/object-segmentation/ECSSD/features/dino_vits16/0424.pth\n",
      "0424\n"
     ]
    },
    {
     "name": "stderr",
     "output_type": "stream",
     "text": [
      "/home/phdcs2/Hard_Disk/Projects/T2I/deep-spectral-segmentation/venv/lib/python3.8/site-packages/sklearn/decomposition/_pca.py:545: RuntimeWarning: invalid value encountered in divide\n",
      "  explained_variance_ratio_ = explained_variance_ / total_var\n"
     ]
    },
    {
     "name": "stdout",
     "output_type": "stream",
     "text": [
      "Starting Training\n",
      "epoch: 00, loss: 0.00000\n",
      "epoch: 01, loss: 0.00000\n",
      "epoch: 02, loss: 0.00000\n",
      "epoch: 03, loss: 0.00000\n",
      "epoch: 04, loss: 0.00000\n",
      "epoch: 05, loss: 0.00000\n",
      "epoch: 06, loss: 0.00000\n",
      "epoch: 07, loss: 0.00000\n",
      "epoch: 08, loss: 0.00000\n",
      "epoch: 09, loss: 0.00000\n",
      "After Unsqueezing, feature size= torch.Size([550, 384])\n",
      "type(projected_feature) <class 'torch.Tensor'>\n",
      "projected feature shape= torch.Size([550, 128])\n"
     ]
    },
    {
     "name": "stderr",
     "output_type": "stream",
     "text": [
      " 42%|████▏     | 424/1000 [2:52:41<5:26:29, 34.01s/it]"
     ]
    },
    {
     "name": "stdout",
     "output_type": "stream",
     "text": [
      "eigenvalues shape torch.Size([5]) eigenvectors shape torch.Size([5, 550])\n",
      "424 /home/phdcs2/Hard_Disk/Datasets/Deep-Spectral-Segmentation/data/object-segmentation/ECSSD/features/dino_vits16/0425.pth\n",
      "0425\n",
      "Starting Training\n",
      "epoch: 00, loss: -0.30561\n",
      "epoch: 01, loss: -0.31454\n",
      "epoch: 02, loss: -0.32182\n",
      "epoch: 03, loss: -0.32759\n",
      "epoch: 04, loss: -0.33103\n",
      "epoch: 05, loss: -0.33427\n",
      "epoch: 06, loss: -0.33801\n",
      "epoch: 07, loss: -0.34017\n",
      "epoch: 08, loss: -0.34376\n",
      "epoch: 09, loss: -0.34654\n",
      "After Unsqueezing, feature size= torch.Size([475, 384])\n",
      "type(projected_feature) <class 'torch.Tensor'>\n",
      "projected feature shape= torch.Size([475, 128])\n"
     ]
    },
    {
     "name": "stderr",
     "output_type": "stream",
     "text": [
      " 42%|████▎     | 425/1000 [2:52:59<4:41:09, 29.34s/it]"
     ]
    },
    {
     "name": "stdout",
     "output_type": "stream",
     "text": [
      "eigenvalues shape torch.Size([5]) eigenvectors shape torch.Size([5, 475])\n",
      "425 /home/phdcs2/Hard_Disk/Datasets/Deep-Spectral-Segmentation/data/object-segmentation/ECSSD/features/dino_vits16/0426.pth\n",
      "0426\n",
      "Starting Training\n",
      "epoch: 00, loss: -0.26952\n",
      "epoch: 01, loss: -0.28200\n",
      "epoch: 02, loss: -0.28583\n",
      "epoch: 03, loss: -0.28916\n",
      "epoch: 04, loss: -0.29192\n",
      "epoch: 05, loss: -0.29523\n",
      "epoch: 06, loss: -0.29830\n",
      "epoch: 07, loss: -0.29989\n",
      "epoch: 08, loss: -0.30306\n",
      "epoch: 09, loss: -0.30391\n",
      "After Unsqueezing, feature size= torch.Size([500, 384])\n",
      "type(projected_feature) <class 'torch.Tensor'>\n",
      "projected feature shape= torch.Size([500, 128])\n"
     ]
    },
    {
     "name": "stderr",
     "output_type": "stream",
     "text": [
      " 43%|████▎     | 426/1000 [2:53:20<4:16:53, 26.85s/it]"
     ]
    },
    {
     "name": "stdout",
     "output_type": "stream",
     "text": [
      "eigenvalues shape torch.Size([5]) eigenvectors shape torch.Size([5, 500])\n",
      "426 /home/phdcs2/Hard_Disk/Datasets/Deep-Spectral-Segmentation/data/object-segmentation/ECSSD/features/dino_vits16/0427.pth\n",
      "0427\n",
      "Starting Training\n",
      "epoch: 00, loss: -0.30039\n",
      "epoch: 01, loss: -0.31795\n",
      "epoch: 02, loss: -0.33306\n",
      "epoch: 03, loss: -0.34846\n",
      "epoch: 04, loss: -0.35708\n",
      "epoch: 05, loss: -0.36088\n",
      "epoch: 06, loss: -0.36496\n",
      "epoch: 07, loss: -0.36971\n",
      "epoch: 08, loss: -0.37367\n",
      "epoch: 09, loss: -0.37715\n",
      "After Unsqueezing, feature size= torch.Size([450, 384])\n",
      "type(projected_feature) <class 'torch.Tensor'>\n",
      "projected feature shape= torch.Size([450, 128])\n"
     ]
    },
    {
     "name": "stderr",
     "output_type": "stream",
     "text": [
      " 43%|████▎     | 427/1000 [2:53:38<3:51:52, 24.28s/it]"
     ]
    },
    {
     "name": "stdout",
     "output_type": "stream",
     "text": [
      "eigenvalues shape torch.Size([5]) eigenvectors shape torch.Size([5, 450])\n",
      "427 /home/phdcs2/Hard_Disk/Datasets/Deep-Spectral-Segmentation/data/object-segmentation/ECSSD/features/dino_vits16/0428.pth\n",
      "0428\n"
     ]
    },
    {
     "name": "stderr",
     "output_type": "stream",
     "text": [
      "/home/phdcs2/Hard_Disk/Projects/T2I/deep-spectral-segmentation/venv/lib/python3.8/site-packages/sklearn/decomposition/_pca.py:545: RuntimeWarning: invalid value encountered in divide\n",
      "  explained_variance_ratio_ = explained_variance_ / total_var\n"
     ]
    },
    {
     "name": "stdout",
     "output_type": "stream",
     "text": [
      "Starting Training\n",
      "epoch: 00, loss: 0.00000\n",
      "epoch: 01, loss: 0.00000\n",
      "epoch: 02, loss: 0.00000\n",
      "epoch: 03, loss: 0.00000\n",
      "epoch: 04, loss: 0.00000\n",
      "epoch: 05, loss: 0.00000\n",
      "epoch: 06, loss: 0.00000\n",
      "epoch: 07, loss: 0.00000\n",
      "epoch: 08, loss: 0.00000\n",
      "epoch: 09, loss: 0.00000\n",
      "After Unsqueezing, feature size= torch.Size([400, 384])\n",
      "type(projected_feature) <class 'torch.Tensor'>\n",
      "projected feature shape= torch.Size([400, 128])\n"
     ]
    },
    {
     "name": "stderr",
     "output_type": "stream",
     "text": [
      " 43%|████▎     | 428/1000 [2:53:53<3:25:04, 21.51s/it]"
     ]
    },
    {
     "name": "stdout",
     "output_type": "stream",
     "text": [
      "eigenvalues shape torch.Size([5]) eigenvectors shape torch.Size([5, 400])\n",
      "428 /home/phdcs2/Hard_Disk/Datasets/Deep-Spectral-Segmentation/data/object-segmentation/ECSSD/features/dino_vits16/0429.pth\n",
      "0429\n"
     ]
    },
    {
     "name": "stderr",
     "output_type": "stream",
     "text": [
      "/home/phdcs2/Hard_Disk/Projects/T2I/deep-spectral-segmentation/venv/lib/python3.8/site-packages/sklearn/decomposition/_pca.py:545: RuntimeWarning: invalid value encountered in divide\n",
      "  explained_variance_ratio_ = explained_variance_ / total_var\n"
     ]
    },
    {
     "name": "stdout",
     "output_type": "stream",
     "text": [
      "Starting Training\n",
      "epoch: 00, loss: 0.00000\n",
      "epoch: 01, loss: 0.00000\n",
      "epoch: 02, loss: 0.00000\n",
      "epoch: 03, loss: 0.00000\n",
      "epoch: 04, loss: 0.00000\n",
      "epoch: 05, loss: 0.00000\n",
      "epoch: 06, loss: 0.00000\n",
      "epoch: 07, loss: 0.00000\n",
      "epoch: 08, loss: 0.00000\n",
      "epoch: 09, loss: 0.00000\n",
      "After Unsqueezing, feature size= torch.Size([375, 384])\n",
      "type(projected_feature) <class 'torch.Tensor'>\n",
      "projected feature shape= torch.Size([375, 128])\n"
     ]
    },
    {
     "name": "stderr",
     "output_type": "stream",
     "text": [
      " 43%|████▎     | 429/1000 [2:54:08<3:03:46, 19.31s/it]"
     ]
    },
    {
     "name": "stdout",
     "output_type": "stream",
     "text": [
      "eigenvalues shape torch.Size([5]) eigenvectors shape torch.Size([5, 375])\n",
      "429 /home/phdcs2/Hard_Disk/Datasets/Deep-Spectral-Segmentation/data/object-segmentation/ECSSD/features/dino_vits16/0430.pth\n",
      "0430\n",
      "Starting Training\n",
      "epoch: 00, loss: -0.33422\n",
      "epoch: 01, loss: -0.35097\n",
      "epoch: 02, loss: -0.35389\n",
      "epoch: 03, loss: -0.35502\n",
      "epoch: 04, loss: -0.35749\n",
      "epoch: 05, loss: -0.36080\n",
      "epoch: 06, loss: -0.36305\n",
      "epoch: 07, loss: -0.36435\n",
      "epoch: 08, loss: -0.36859\n",
      "epoch: 09, loss: -0.37166\n",
      "After Unsqueezing, feature size= torch.Size([500, 384])\n",
      "type(projected_feature) <class 'torch.Tensor'>\n",
      "projected feature shape= torch.Size([500, 128])\n"
     ]
    },
    {
     "name": "stderr",
     "output_type": "stream",
     "text": [
      " 43%|████▎     | 430/1000 [2:54:27<3:04:40, 19.44s/it]"
     ]
    },
    {
     "name": "stdout",
     "output_type": "stream",
     "text": [
      "eigenvalues shape torch.Size([5]) eigenvectors shape torch.Size([5, 500])\n",
      "430 /home/phdcs2/Hard_Disk/Datasets/Deep-Spectral-Segmentation/data/object-segmentation/ECSSD/features/dino_vits16/0431.pth\n",
      "0431\n"
     ]
    },
    {
     "name": "stderr",
     "output_type": "stream",
     "text": [
      "/home/phdcs2/Hard_Disk/Projects/T2I/deep-spectral-segmentation/venv/lib/python3.8/site-packages/sklearn/decomposition/_pca.py:545: RuntimeWarning: invalid value encountered in divide\n",
      "  explained_variance_ratio_ = explained_variance_ / total_var\n"
     ]
    },
    {
     "name": "stdout",
     "output_type": "stream",
     "text": [
      "Starting Training\n",
      "epoch: 00, loss: 0.00000\n",
      "epoch: 01, loss: 0.00000\n",
      "epoch: 02, loss: 0.00000\n",
      "epoch: 03, loss: 0.00000\n",
      "epoch: 04, loss: 0.00000\n",
      "epoch: 05, loss: 0.00000\n",
      "epoch: 06, loss: 0.00000\n",
      "epoch: 07, loss: 0.00000\n",
      "epoch: 08, loss: 0.00000\n",
      "epoch: 09, loss: 0.00000\n",
      "After Unsqueezing, feature size= torch.Size([400, 384])\n",
      "type(projected_feature) <class 'torch.Tensor'>\n",
      "projected feature shape= torch.Size([400, 128])\n"
     ]
    },
    {
     "name": "stderr",
     "output_type": "stream",
     "text": [
      " 43%|████▎     | 431/1000 [2:54:43<2:52:56, 18.24s/it]"
     ]
    },
    {
     "name": "stdout",
     "output_type": "stream",
     "text": [
      "eigenvalues shape torch.Size([5]) eigenvectors shape torch.Size([5, 400])\n",
      "431 /home/phdcs2/Hard_Disk/Datasets/Deep-Spectral-Segmentation/data/object-segmentation/ECSSD/features/dino_vits16/0432.pth\n",
      "0432\n"
     ]
    },
    {
     "name": "stderr",
     "output_type": "stream",
     "text": [
      "/home/phdcs2/Hard_Disk/Projects/T2I/deep-spectral-segmentation/venv/lib/python3.8/site-packages/sklearn/decomposition/_pca.py:545: RuntimeWarning: invalid value encountered in divide\n",
      "  explained_variance_ratio_ = explained_variance_ / total_var\n"
     ]
    },
    {
     "name": "stdout",
     "output_type": "stream",
     "text": [
      "Starting Training\n",
      "epoch: 00, loss: 0.00000\n",
      "epoch: 01, loss: 0.00000\n",
      "epoch: 02, loss: 0.00000\n",
      "epoch: 03, loss: 0.00000\n",
      "epoch: 04, loss: 0.00000\n",
      "epoch: 05, loss: 0.00000\n",
      "epoch: 06, loss: 0.00000\n",
      "epoch: 07, loss: 0.00000\n",
      "epoch: 08, loss: 0.00000\n",
      "epoch: 09, loss: 0.00000\n",
      "After Unsqueezing, feature size= torch.Size([425, 384])\n",
      "type(projected_feature) <class 'torch.Tensor'>\n",
      "projected feature shape= torch.Size([425, 128])\n"
     ]
    },
    {
     "name": "stderr",
     "output_type": "stream",
     "text": [
      " 43%|████▎     | 432/1000 [2:55:00<2:48:53, 17.84s/it]"
     ]
    },
    {
     "name": "stdout",
     "output_type": "stream",
     "text": [
      "eigenvalues shape torch.Size([5]) eigenvectors shape torch.Size([5, 425])\n",
      "432 /home/phdcs2/Hard_Disk/Datasets/Deep-Spectral-Segmentation/data/object-segmentation/ECSSD/features/dino_vits16/0433.pth\n",
      "0433\n",
      "Starting Training\n",
      "epoch: 00, loss: -0.36383\n",
      "epoch: 01, loss: -0.38837\n",
      "epoch: 02, loss: -0.41088\n",
      "epoch: 03, loss: -0.41203\n",
      "epoch: 04, loss: -0.40992\n",
      "epoch: 05, loss: -0.42624\n",
      "epoch: 06, loss: -0.43711\n",
      "epoch: 07, loss: -0.42845\n",
      "epoch: 08, loss: -0.70219\n",
      "epoch: 09, loss: -0.86516\n",
      "After Unsqueezing, feature size= torch.Size([475, 384])\n",
      "type(projected_feature) <class 'torch.Tensor'>\n",
      "projected feature shape= torch.Size([475, 128])\n"
     ]
    },
    {
     "name": "stderr",
     "output_type": "stream",
     "text": [
      " 43%|████▎     | 433/1000 [2:55:18<2:49:38, 17.95s/it]"
     ]
    },
    {
     "name": "stdout",
     "output_type": "stream",
     "text": [
      "eigenvalues shape torch.Size([5]) eigenvectors shape torch.Size([5, 475])\n",
      "433 /home/phdcs2/Hard_Disk/Datasets/Deep-Spectral-Segmentation/data/object-segmentation/ECSSD/features/dino_vits16/0434.pth\n",
      "0434\n",
      "Starting Training\n",
      "epoch: 00, loss: -0.31574\n",
      "epoch: 01, loss: -0.32752\n",
      "epoch: 02, loss: -0.33298\n",
      "epoch: 03, loss: -0.33879\n",
      "epoch: 04, loss: -0.34180\n",
      "epoch: 05, loss: -0.34508\n",
      "epoch: 06, loss: -0.34784\n",
      "epoch: 07, loss: -0.35232\n",
      "epoch: 08, loss: -0.35491\n",
      "epoch: 09, loss: -0.35588\n",
      "After Unsqueezing, feature size= torch.Size([450, 384])\n",
      "type(projected_feature) <class 'torch.Tensor'>\n",
      "projected feature shape= torch.Size([450, 128])\n"
     ]
    },
    {
     "name": "stderr",
     "output_type": "stream",
     "text": [
      " 43%|████▎     | 434/1000 [2:55:36<2:49:04, 17.92s/it]"
     ]
    },
    {
     "name": "stdout",
     "output_type": "stream",
     "text": [
      "eigenvalues shape torch.Size([5]) eigenvectors shape torch.Size([5, 450])\n",
      "434 /home/phdcs2/Hard_Disk/Datasets/Deep-Spectral-Segmentation/data/object-segmentation/ECSSD/features/dino_vits16/0435.pth\n",
      "0435\n",
      "Starting Training\n",
      "epoch: 00, loss: -0.18362\n",
      "epoch: 01, loss: -0.16255\n",
      "epoch: 02, loss: -0.16672\n",
      "epoch: 03, loss: -0.15264\n",
      "epoch: 04, loss: -0.15644\n",
      "epoch: 05, loss: -0.16161\n",
      "epoch: 06, loss: -0.15569\n",
      "epoch: 07, loss: -0.15746\n",
      "epoch: 08, loss: -0.15738\n",
      "epoch: 09, loss: -0.15727\n",
      "After Unsqueezing, feature size= torch.Size([450, 384])\n",
      "type(projected_feature) <class 'torch.Tensor'>\n",
      "projected feature shape= torch.Size([450, 128])\n"
     ]
    },
    {
     "name": "stderr",
     "output_type": "stream",
     "text": [
      " 44%|████▎     | 435/1000 [2:55:53<2:47:05, 17.74s/it]"
     ]
    },
    {
     "name": "stdout",
     "output_type": "stream",
     "text": [
      "eigenvalues shape torch.Size([5]) eigenvectors shape torch.Size([5, 450])\n",
      "435 /home/phdcs2/Hard_Disk/Datasets/Deep-Spectral-Segmentation/data/object-segmentation/ECSSD/features/dino_vits16/0436.pth\n",
      "0436\n",
      "Starting Training\n",
      "epoch: 00, loss: -0.02765\n",
      "epoch: 01, loss: -0.03031\n",
      "epoch: 02, loss: -0.03091\n",
      "epoch: 03, loss: -0.03096\n",
      "epoch: 04, loss: -0.03094\n",
      "epoch: 05, loss: -0.03096\n",
      "epoch: 06, loss: -0.03094\n",
      "epoch: 07, loss: -0.03096\n",
      "epoch: 08, loss: -0.03083\n",
      "epoch: 09, loss: -0.03082\n",
      "After Unsqueezing, feature size= torch.Size([475, 384])\n",
      "type(projected_feature) <class 'torch.Tensor'>\n",
      "projected feature shape= torch.Size([475, 128])\n"
     ]
    },
    {
     "name": "stderr",
     "output_type": "stream",
     "text": [
      " 44%|████▎     | 436/1000 [2:56:12<2:48:56, 17.97s/it]"
     ]
    },
    {
     "name": "stdout",
     "output_type": "stream",
     "text": [
      "eigenvalues shape torch.Size([5]) eigenvectors shape torch.Size([5, 475])\n",
      "436 /home/phdcs2/Hard_Disk/Datasets/Deep-Spectral-Segmentation/data/object-segmentation/ECSSD/features/dino_vits16/0437.pth\n",
      "0437\n",
      "Starting Training\n",
      "epoch: 00, loss: -0.21614\n",
      "epoch: 01, loss: -0.20845\n",
      "epoch: 02, loss: -0.20197\n",
      "epoch: 03, loss: -0.19338\n",
      "epoch: 04, loss: -0.18613\n",
      "epoch: 05, loss: -0.18452\n",
      "epoch: 06, loss: -0.18476\n",
      "epoch: 07, loss: -0.18375\n",
      "epoch: 08, loss: -0.18570\n",
      "epoch: 09, loss: -0.18599\n",
      "After Unsqueezing, feature size= torch.Size([450, 384])\n",
      "type(projected_feature) <class 'torch.Tensor'>\n",
      "projected feature shape= torch.Size([450, 128])\n"
     ]
    },
    {
     "name": "stderr",
     "output_type": "stream",
     "text": [
      " 44%|████▎     | 437/1000 [2:56:34<3:01:53, 19.39s/it]"
     ]
    },
    {
     "name": "stdout",
     "output_type": "stream",
     "text": [
      "eigenvalues shape torch.Size([5]) eigenvectors shape torch.Size([5, 450])\n",
      "437 /home/phdcs2/Hard_Disk/Datasets/Deep-Spectral-Segmentation/data/object-segmentation/ECSSD/features/dino_vits16/0438.pth\n",
      "0438\n"
     ]
    },
    {
     "name": "stderr",
     "output_type": "stream",
     "text": [
      "/home/phdcs2/Hard_Disk/Projects/T2I/deep-spectral-segmentation/venv/lib/python3.8/site-packages/sklearn/decomposition/_pca.py:545: RuntimeWarning: invalid value encountered in divide\n",
      "  explained_variance_ratio_ = explained_variance_ / total_var\n"
     ]
    },
    {
     "name": "stdout",
     "output_type": "stream",
     "text": [
      "Starting Training\n",
      "epoch: 00, loss: 0.00000\n",
      "epoch: 01, loss: 0.00000\n",
      "epoch: 02, loss: 0.00000\n",
      "epoch: 03, loss: 0.00000\n",
      "epoch: 04, loss: 0.00000\n",
      "epoch: 05, loss: 0.00000\n",
      "epoch: 06, loss: 0.00000\n",
      "epoch: 07, loss: 0.00000\n",
      "epoch: 08, loss: 0.00000\n",
      "epoch: 09, loss: 0.00000\n",
      "After Unsqueezing, feature size= torch.Size([450, 384])\n",
      "type(projected_feature) <class 'torch.Tensor'>\n",
      "projected feature shape= torch.Size([450, 128])\n"
     ]
    },
    {
     "name": "stderr",
     "output_type": "stream",
     "text": [
      " 44%|████▍     | 438/1000 [2:56:53<3:00:53, 19.31s/it]"
     ]
    },
    {
     "name": "stdout",
     "output_type": "stream",
     "text": [
      "eigenvalues shape torch.Size([5]) eigenvectors shape torch.Size([5, 450])\n",
      "438 /home/phdcs2/Hard_Disk/Datasets/Deep-Spectral-Segmentation/data/object-segmentation/ECSSD/features/dino_vits16/0439.pth\n",
      "0439\n",
      "Starting Training\n",
      "epoch: 00, loss: -0.75704\n",
      "epoch: 01, loss: -0.82913\n",
      "epoch: 02, loss: -0.83236\n",
      "epoch: 03, loss: -0.83533\n",
      "epoch: 04, loss: -0.83727\n",
      "epoch: 05, loss: -0.83878\n",
      "epoch: 06, loss: -0.84011\n",
      "epoch: 07, loss: -0.84198\n",
      "epoch: 08, loss: -0.84304\n",
      "epoch: 09, loss: -0.84440\n",
      "After Unsqueezing, feature size= torch.Size([575, 384])\n",
      "type(projected_feature) <class 'torch.Tensor'>\n",
      "projected feature shape= torch.Size([575, 128])\n"
     ]
    },
    {
     "name": "stderr",
     "output_type": "stream",
     "text": [
      " 44%|████▍     | 439/1000 [2:57:52<4:51:18, 31.16s/it]"
     ]
    },
    {
     "name": "stdout",
     "output_type": "stream",
     "text": [
      "eigenvalues shape torch.Size([5]) eigenvectors shape torch.Size([5, 575])\n",
      "439 /home/phdcs2/Hard_Disk/Datasets/Deep-Spectral-Segmentation/data/object-segmentation/ECSSD/features/dino_vits16/0440.pth\n",
      "0440\n"
     ]
    },
    {
     "name": "stderr",
     "output_type": "stream",
     "text": [
      "/home/phdcs2/Hard_Disk/Projects/T2I/deep-spectral-segmentation/venv/lib/python3.8/site-packages/sklearn/decomposition/_pca.py:545: RuntimeWarning: invalid value encountered in divide\n",
      "  explained_variance_ratio_ = explained_variance_ / total_var\n"
     ]
    },
    {
     "name": "stdout",
     "output_type": "stream",
     "text": [
      "Starting Training\n",
      "epoch: 00, loss: 0.00000\n",
      "epoch: 01, loss: 0.00000\n",
      "epoch: 02, loss: 0.00000\n",
      "epoch: 03, loss: 0.00000\n",
      "epoch: 04, loss: 0.00000\n",
      "epoch: 05, loss: 0.00000\n",
      "epoch: 06, loss: 0.00000\n",
      "epoch: 07, loss: 0.00000\n",
      "epoch: 08, loss: 0.00000\n",
      "epoch: 09, loss: 0.00000\n",
      "After Unsqueezing, feature size= torch.Size([450, 384])\n",
      "type(projected_feature) <class 'torch.Tensor'>\n",
      "projected feature shape= torch.Size([450, 128])\n"
     ]
    },
    {
     "name": "stderr",
     "output_type": "stream",
     "text": [
      " 44%|████▍     | 440/1000 [2:58:12<4:20:17, 27.89s/it]"
     ]
    },
    {
     "name": "stdout",
     "output_type": "stream",
     "text": [
      "eigenvalues shape torch.Size([5]) eigenvectors shape torch.Size([5, 450])\n",
      "440 /home/phdcs2/Hard_Disk/Datasets/Deep-Spectral-Segmentation/data/object-segmentation/ECSSD/features/dino_vits16/0441.pth\n",
      "0441\n",
      "Starting Training\n",
      "epoch: 00, loss: -0.34747\n",
      "epoch: 01, loss: -0.35315\n",
      "epoch: 02, loss: -0.35963\n",
      "epoch: 03, loss: -0.36628\n",
      "epoch: 04, loss: -0.37227\n",
      "epoch: 05, loss: -0.37627\n",
      "epoch: 06, loss: -0.38173\n",
      "epoch: 07, loss: -0.38725\n",
      "epoch: 08, loss: -0.39154\n",
      "epoch: 09, loss: -0.39793\n",
      "After Unsqueezing, feature size= torch.Size([450, 384])\n",
      "type(projected_feature) <class 'torch.Tensor'>\n",
      "projected feature shape= torch.Size([450, 128])\n"
     ]
    },
    {
     "name": "stderr",
     "output_type": "stream",
     "text": [
      " 44%|████▍     | 441/1000 [2:58:31<3:53:34, 25.07s/it]"
     ]
    },
    {
     "name": "stdout",
     "output_type": "stream",
     "text": [
      "eigenvalues shape torch.Size([5]) eigenvectors shape torch.Size([5, 450])\n",
      "441 /home/phdcs2/Hard_Disk/Datasets/Deep-Spectral-Segmentation/data/object-segmentation/ECSSD/features/dino_vits16/0442.pth\n",
      "0442\n"
     ]
    },
    {
     "name": "stderr",
     "output_type": "stream",
     "text": [
      "/home/phdcs2/Hard_Disk/Projects/T2I/deep-spectral-segmentation/venv/lib/python3.8/site-packages/sklearn/decomposition/_pca.py:545: RuntimeWarning: invalid value encountered in divide\n",
      "  explained_variance_ratio_ = explained_variance_ / total_var\n"
     ]
    },
    {
     "name": "stdout",
     "output_type": "stream",
     "text": [
      "Starting Training\n",
      "epoch: 00, loss: 0.00000\n",
      "epoch: 01, loss: 0.00000\n",
      "epoch: 02, loss: 0.00000\n",
      "epoch: 03, loss: 0.00000\n",
      "epoch: 04, loss: 0.00000\n",
      "epoch: 05, loss: 0.00000\n",
      "epoch: 06, loss: 0.00000\n",
      "epoch: 07, loss: 0.00000\n",
      "epoch: 08, loss: 0.00000\n",
      "epoch: 09, loss: 0.00000\n",
      "After Unsqueezing, feature size= torch.Size([475, 384])\n",
      "type(projected_feature) <class 'torch.Tensor'>\n",
      "projected feature shape= torch.Size([475, 128])\n"
     ]
    },
    {
     "name": "stderr",
     "output_type": "stream",
     "text": [
      " 44%|████▍     | 442/1000 [2:58:51<3:39:30, 23.60s/it]"
     ]
    },
    {
     "name": "stdout",
     "output_type": "stream",
     "text": [
      "eigenvalues shape torch.Size([5]) eigenvectors shape torch.Size([5, 475])\n",
      "442 /home/phdcs2/Hard_Disk/Datasets/Deep-Spectral-Segmentation/data/object-segmentation/ECSSD/features/dino_vits16/0443.pth\n",
      "0443\n",
      "Starting Training\n",
      "epoch: 00, loss: -0.81871\n",
      "epoch: 01, loss: -0.86697\n",
      "epoch: 02, loss: -0.87103\n",
      "epoch: 03, loss: -0.87390\n",
      "epoch: 04, loss: -0.87547\n",
      "epoch: 05, loss: -0.87591\n",
      "epoch: 06, loss: -0.87694\n",
      "epoch: 07, loss: -0.87848\n",
      "epoch: 08, loss: -0.87823\n",
      "epoch: 09, loss: -0.87949\n",
      "After Unsqueezing, feature size= torch.Size([450, 384])\n",
      "type(projected_feature) <class 'torch.Tensor'>\n",
      "projected feature shape= torch.Size([450, 128])\n"
     ]
    },
    {
     "name": "stderr",
     "output_type": "stream",
     "text": [
      "/home/phdcs2/Hard_Disk/Projects/T2I/deep-spectral-segmentation/venv/lib/python3.8/site-packages/scipy/sparse/linalg/_eigen/arpack/arpack.py:935: LinAlgWarning: Diagonal number 450 is exactly zero. Singular matrix.\n",
      "  self.M_lu = lu_factor(M)\n"
     ]
    },
    {
     "name": "stdout",
     "output_type": "stream",
     "text": [
      " ** On entry to SLASCL parameter number  4 had an illegal value\n",
      " ** On entry to SLASCL parameter number  4 had an illegal value\n"
     ]
    },
    {
     "name": "stderr",
     "output_type": "stream",
     "text": [
      " 44%|████▍     | 443/1000 [2:59:15<3:40:53, 23.79s/it]"
     ]
    },
    {
     "name": "stdout",
     "output_type": "stream",
     "text": [
      "eigenvalues shape torch.Size([5]) eigenvectors shape torch.Size([5, 450])\n",
      "443 /home/phdcs2/Hard_Disk/Datasets/Deep-Spectral-Segmentation/data/object-segmentation/ECSSD/features/dino_vits16/0444.pth\n",
      "0444\n",
      "Starting Training\n",
      "epoch: 00, loss: -0.26417\n",
      "epoch: 01, loss: -0.27484\n",
      "epoch: 02, loss: -0.27828\n",
      "epoch: 03, loss: -0.28048\n",
      "epoch: 04, loss: -0.28389\n",
      "epoch: 05, loss: -0.28540\n",
      "epoch: 06, loss: -0.28889\n",
      "epoch: 07, loss: -0.29066\n",
      "epoch: 08, loss: -0.29192\n",
      "epoch: 09, loss: -0.29486\n",
      "After Unsqueezing, feature size= torch.Size([450, 384])\n",
      "type(projected_feature) <class 'torch.Tensor'>\n",
      "projected feature shape= torch.Size([450, 128])\n"
     ]
    },
    {
     "name": "stderr",
     "output_type": "stream",
     "text": [
      " 44%|████▍     | 444/1000 [2:59:34<3:26:20, 22.27s/it]"
     ]
    },
    {
     "name": "stdout",
     "output_type": "stream",
     "text": [
      "eigenvalues shape torch.Size([5]) eigenvectors shape torch.Size([5, 450])\n",
      "444 /home/phdcs2/Hard_Disk/Datasets/Deep-Spectral-Segmentation/data/object-segmentation/ECSSD/features/dino_vits16/0445.pth\n",
      "0445\n",
      "Starting Training\n",
      "epoch: 00, loss: -0.29856\n",
      "epoch: 01, loss: -0.30680\n",
      "epoch: 02, loss: -0.31072\n",
      "epoch: 03, loss: -0.31519\n",
      "epoch: 04, loss: -0.31949\n",
      "epoch: 05, loss: -0.32251\n",
      "epoch: 06, loss: -0.32573\n",
      "epoch: 07, loss: -0.32865\n",
      "epoch: 08, loss: -0.33324\n",
      "epoch: 09, loss: -0.33459\n",
      "After Unsqueezing, feature size= torch.Size([400, 384])\n",
      "type(projected_feature) <class 'torch.Tensor'>\n",
      "projected feature shape= torch.Size([400, 128])\n"
     ]
    },
    {
     "name": "stderr",
     "output_type": "stream",
     "text": [
      " 44%|████▍     | 445/1000 [2:59:50<3:09:07, 20.45s/it]"
     ]
    },
    {
     "name": "stdout",
     "output_type": "stream",
     "text": [
      "eigenvalues shape torch.Size([5]) eigenvectors shape torch.Size([5, 400])\n",
      "445 /home/phdcs2/Hard_Disk/Datasets/Deep-Spectral-Segmentation/data/object-segmentation/ECSSD/features/dino_vits16/0446.pth\n",
      "0446\n"
     ]
    },
    {
     "name": "stderr",
     "output_type": "stream",
     "text": [
      "/home/phdcs2/Hard_Disk/Projects/T2I/deep-spectral-segmentation/venv/lib/python3.8/site-packages/sklearn/decomposition/_pca.py:545: RuntimeWarning: invalid value encountered in divide\n",
      "  explained_variance_ratio_ = explained_variance_ / total_var\n"
     ]
    },
    {
     "name": "stdout",
     "output_type": "stream",
     "text": [
      "Starting Training\n",
      "epoch: 00, loss: 0.00000\n",
      "epoch: 01, loss: 0.00000\n",
      "epoch: 02, loss: 0.00000\n",
      "epoch: 03, loss: 0.00000\n",
      "epoch: 04, loss: 0.00000\n",
      "epoch: 05, loss: 0.00000\n",
      "epoch: 06, loss: 0.00000\n",
      "epoch: 07, loss: 0.00000\n",
      "epoch: 08, loss: 0.00000\n",
      "epoch: 09, loss: 0.00000\n",
      "After Unsqueezing, feature size= torch.Size([400, 384])\n",
      "type(projected_feature) <class 'torch.Tensor'>\n",
      "projected feature shape= torch.Size([400, 128])\n"
     ]
    },
    {
     "name": "stderr",
     "output_type": "stream",
     "text": [
      " 45%|████▍     | 446/1000 [3:00:06<2:56:59, 19.17s/it]"
     ]
    },
    {
     "name": "stdout",
     "output_type": "stream",
     "text": [
      "eigenvalues shape torch.Size([5]) eigenvectors shape torch.Size([5, 400])\n",
      "446 /home/phdcs2/Hard_Disk/Datasets/Deep-Spectral-Segmentation/data/object-segmentation/ECSSD/features/dino_vits16/0447.pth\n",
      "0447\n",
      "Starting Training\n",
      "epoch: 00, loss: -0.29209\n",
      "epoch: 01, loss: -0.31039\n",
      "epoch: 02, loss: -0.31411\n",
      "epoch: 03, loss: -0.31707\n",
      "epoch: 04, loss: -0.32135\n",
      "epoch: 05, loss: -0.32343\n",
      "epoch: 06, loss: -0.32685\n",
      "epoch: 07, loss: -0.32919\n",
      "epoch: 08, loss: -0.33225\n",
      "epoch: 09, loss: -0.33451\n",
      "After Unsqueezing, feature size= torch.Size([400, 384])\n",
      "type(projected_feature) <class 'torch.Tensor'>\n",
      "projected feature shape= torch.Size([400, 128])\n"
     ]
    },
    {
     "name": "stderr",
     "output_type": "stream",
     "text": [
      " 45%|████▍     | 447/1000 [3:00:25<2:55:38, 19.06s/it]"
     ]
    },
    {
     "name": "stdout",
     "output_type": "stream",
     "text": [
      "eigenvalues shape torch.Size([5]) eigenvectors shape torch.Size([5, 400])\n",
      "447 /home/phdcs2/Hard_Disk/Datasets/Deep-Spectral-Segmentation/data/object-segmentation/ECSSD/features/dino_vits16/0448.pth\n",
      "0448\n"
     ]
    },
    {
     "name": "stderr",
     "output_type": "stream",
     "text": [
      "/home/phdcs2/Hard_Disk/Projects/T2I/deep-spectral-segmentation/venv/lib/python3.8/site-packages/sklearn/decomposition/_pca.py:545: RuntimeWarning: invalid value encountered in divide\n",
      "  explained_variance_ratio_ = explained_variance_ / total_var\n"
     ]
    },
    {
     "name": "stdout",
     "output_type": "stream",
     "text": [
      "Starting Training\n",
      "epoch: 00, loss: 0.00000\n",
      "epoch: 01, loss: 0.00000\n",
      "epoch: 02, loss: 0.00000\n",
      "epoch: 03, loss: 0.00000\n",
      "epoch: 04, loss: 0.00000\n",
      "epoch: 05, loss: 0.00000\n",
      "epoch: 06, loss: 0.00000\n",
      "epoch: 07, loss: 0.00000\n",
      "epoch: 08, loss: 0.00000\n",
      "epoch: 09, loss: 0.00000\n",
      "After Unsqueezing, feature size= torch.Size([350, 384])\n",
      "type(projected_feature) <class 'torch.Tensor'>\n",
      "projected feature shape= torch.Size([350, 128])\n"
     ]
    },
    {
     "name": "stderr",
     "output_type": "stream",
     "text": [
      " 45%|████▍     | 448/1000 [3:00:42<2:47:58, 18.26s/it]"
     ]
    },
    {
     "name": "stdout",
     "output_type": "stream",
     "text": [
      "eigenvalues shape torch.Size([5]) eigenvectors shape torch.Size([5, 350])\n",
      "448 /home/phdcs2/Hard_Disk/Datasets/Deep-Spectral-Segmentation/data/object-segmentation/ECSSD/features/dino_vits16/0449.pth\n",
      "0449\n"
     ]
    },
    {
     "name": "stderr",
     "output_type": "stream",
     "text": [
      "/home/phdcs2/Hard_Disk/Projects/T2I/deep-spectral-segmentation/venv/lib/python3.8/site-packages/sklearn/decomposition/_pca.py:545: RuntimeWarning: invalid value encountered in divide\n",
      "  explained_variance_ratio_ = explained_variance_ / total_var\n"
     ]
    },
    {
     "name": "stdout",
     "output_type": "stream",
     "text": [
      "Starting Training\n",
      "epoch: 00, loss: 0.00000\n",
      "epoch: 01, loss: 0.00000\n",
      "epoch: 02, loss: 0.00000\n",
      "epoch: 03, loss: 0.00000\n",
      "epoch: 04, loss: 0.00000\n",
      "epoch: 05, loss: 0.00000\n",
      "epoch: 06, loss: 0.00000\n",
      "epoch: 07, loss: 0.00000\n",
      "epoch: 08, loss: 0.00000\n",
      "epoch: 09, loss: 0.00000\n",
      "After Unsqueezing, feature size= torch.Size([475, 384])\n",
      "type(projected_feature) <class 'torch.Tensor'>\n",
      "projected feature shape= torch.Size([475, 128])\n"
     ]
    },
    {
     "name": "stderr",
     "output_type": "stream",
     "text": [
      " 45%|████▍     | 449/1000 [3:01:02<2:53:35, 18.90s/it]"
     ]
    },
    {
     "name": "stdout",
     "output_type": "stream",
     "text": [
      "eigenvalues shape torch.Size([5]) eigenvectors shape torch.Size([5, 475])\n",
      "449 /home/phdcs2/Hard_Disk/Datasets/Deep-Spectral-Segmentation/data/object-segmentation/ECSSD/features/dino_vits16/0450.pth\n",
      "0450\n",
      "Starting Training\n",
      "epoch: 00, loss: -0.30205\n",
      "epoch: 01, loss: -0.31378\n",
      "epoch: 02, loss: -0.31861\n",
      "epoch: 03, loss: -0.32111\n",
      "epoch: 04, loss: -0.32632\n",
      "epoch: 05, loss: -0.32928\n",
      "epoch: 06, loss: -0.33168\n",
      "epoch: 07, loss: -0.33567\n",
      "epoch: 08, loss: -0.34198\n",
      "epoch: 09, loss: -0.34394\n",
      "After Unsqueezing, feature size= torch.Size([400, 384])\n",
      "type(projected_feature) <class 'torch.Tensor'>\n",
      "projected feature shape= torch.Size([400, 128])\n"
     ]
    },
    {
     "name": "stderr",
     "output_type": "stream",
     "text": [
      " 45%|████▌     | 450/1000 [3:01:20<2:51:19, 18.69s/it]"
     ]
    },
    {
     "name": "stdout",
     "output_type": "stream",
     "text": [
      "eigenvalues shape torch.Size([5]) eigenvectors shape torch.Size([5, 400])\n",
      "450 /home/phdcs2/Hard_Disk/Datasets/Deep-Spectral-Segmentation/data/object-segmentation/ECSSD/features/dino_vits16/0451.pth\n",
      "0451\n"
     ]
    },
    {
     "name": "stderr",
     "output_type": "stream",
     "text": [
      "/home/phdcs2/Hard_Disk/Projects/T2I/deep-spectral-segmentation/venv/lib/python3.8/site-packages/sklearn/decomposition/_pca.py:545: RuntimeWarning: invalid value encountered in divide\n",
      "  explained_variance_ratio_ = explained_variance_ / total_var\n"
     ]
    },
    {
     "name": "stdout",
     "output_type": "stream",
     "text": [
      "Starting Training\n",
      "epoch: 00, loss: 0.00000\n",
      "epoch: 01, loss: 0.00000\n",
      "epoch: 02, loss: 0.00000\n",
      "epoch: 03, loss: 0.00000\n",
      "epoch: 04, loss: 0.00000\n",
      "epoch: 05, loss: 0.00000\n",
      "epoch: 06, loss: 0.00000\n",
      "epoch: 07, loss: 0.00000\n",
      "epoch: 08, loss: 0.00000\n",
      "epoch: 09, loss: 0.00000\n",
      "After Unsqueezing, feature size= torch.Size([450, 384])\n",
      "type(projected_feature) <class 'torch.Tensor'>\n",
      "projected feature shape= torch.Size([450, 128])\n"
     ]
    },
    {
     "name": "stderr",
     "output_type": "stream",
     "text": [
      " 45%|████▌     | 451/1000 [3:01:42<2:58:13, 19.48s/it]"
     ]
    },
    {
     "name": "stdout",
     "output_type": "stream",
     "text": [
      "eigenvalues shape torch.Size([5]) eigenvectors shape torch.Size([5, 450])\n",
      "451 /home/phdcs2/Hard_Disk/Datasets/Deep-Spectral-Segmentation/data/object-segmentation/ECSSD/features/dino_vits16/0452.pth\n",
      "0452\n"
     ]
    },
    {
     "name": "stderr",
     "output_type": "stream",
     "text": [
      "/home/phdcs2/Hard_Disk/Projects/T2I/deep-spectral-segmentation/venv/lib/python3.8/site-packages/sklearn/decomposition/_pca.py:545: RuntimeWarning: invalid value encountered in divide\n",
      "  explained_variance_ratio_ = explained_variance_ / total_var\n"
     ]
    },
    {
     "name": "stdout",
     "output_type": "stream",
     "text": [
      "Starting Training\n",
      "epoch: 00, loss: 0.00000\n",
      "epoch: 01, loss: 0.00000\n",
      "epoch: 02, loss: 0.00000\n",
      "epoch: 03, loss: 0.00000\n",
      "epoch: 04, loss: 0.00000\n",
      "epoch: 05, loss: 0.00000\n",
      "epoch: 06, loss: 0.00000\n",
      "epoch: 07, loss: 0.00000\n",
      "epoch: 08, loss: 0.00000\n",
      "epoch: 09, loss: 0.00000\n",
      "After Unsqueezing, feature size= torch.Size([475, 384])\n",
      "type(projected_feature) <class 'torch.Tensor'>\n",
      "projected feature shape= torch.Size([475, 128])\n"
     ]
    },
    {
     "name": "stderr",
     "output_type": "stream",
     "text": [
      " 45%|████▌     | 452/1000 [3:02:05<3:07:42, 20.55s/it]"
     ]
    },
    {
     "name": "stdout",
     "output_type": "stream",
     "text": [
      "eigenvalues shape torch.Size([5]) eigenvectors shape torch.Size([5, 475])\n",
      "452 /home/phdcs2/Hard_Disk/Datasets/Deep-Spectral-Segmentation/data/object-segmentation/ECSSD/features/dino_vits16/0453.pth\n",
      "0453\n",
      "Starting Training\n",
      "epoch: 00, loss: -0.18190\n",
      "epoch: 01, loss: -0.17052\n",
      "epoch: 02, loss: -0.16840\n",
      "epoch: 03, loss: -0.17073\n",
      "epoch: 04, loss: -0.17238\n",
      "epoch: 05, loss: -0.17287\n",
      "epoch: 06, loss: -0.17402\n",
      "epoch: 07, loss: -0.17403\n",
      "epoch: 08, loss: -0.17543\n",
      "epoch: 09, loss: -0.17649\n",
      "After Unsqueezing, feature size= torch.Size([400, 384])\n",
      "type(projected_feature) <class 'torch.Tensor'>\n",
      "projected feature shape= torch.Size([400, 128])\n"
     ]
    },
    {
     "name": "stderr",
     "output_type": "stream",
     "text": [
      " 45%|████▌     | 453/1000 [3:02:29<3:16:46, 21.58s/it]"
     ]
    },
    {
     "name": "stdout",
     "output_type": "stream",
     "text": [
      "eigenvalues shape torch.Size([5]) eigenvectors shape torch.Size([5, 400])\n",
      "453 /home/phdcs2/Hard_Disk/Datasets/Deep-Spectral-Segmentation/data/object-segmentation/ECSSD/features/dino_vits16/0454.pth\n",
      "0454\n",
      "Starting Training\n",
      "epoch: 00, loss: -0.79564\n",
      "epoch: 01, loss: -0.88509\n",
      "epoch: 02, loss: -0.88765\n",
      "epoch: 03, loss: -0.88954\n",
      "epoch: 04, loss: -0.89061\n",
      "epoch: 05, loss: -0.89158\n",
      "epoch: 06, loss: -0.89307\n",
      "epoch: 07, loss: -0.89400\n",
      "epoch: 08, loss: -0.89529\n",
      "epoch: 09, loss: -0.89634\n",
      "After Unsqueezing, feature size= torch.Size([400, 384])\n",
      "type(projected_feature) <class 'torch.Tensor'>\n",
      "projected feature shape= torch.Size([400, 128])\n"
     ]
    },
    {
     "name": "stderr",
     "output_type": "stream",
     "text": [
      " 45%|████▌     | 454/1000 [3:02:51<3:19:35, 21.93s/it]"
     ]
    },
    {
     "name": "stdout",
     "output_type": "stream",
     "text": [
      "eigenvalues shape torch.Size([5]) eigenvectors shape torch.Size([5, 400])\n",
      "454 /home/phdcs2/Hard_Disk/Datasets/Deep-Spectral-Segmentation/data/object-segmentation/ECSSD/features/dino_vits16/0455.pth\n",
      "0455\n"
     ]
    },
    {
     "name": "stderr",
     "output_type": "stream",
     "text": [
      "/home/phdcs2/Hard_Disk/Projects/T2I/deep-spectral-segmentation/venv/lib/python3.8/site-packages/sklearn/decomposition/_pca.py:545: RuntimeWarning: invalid value encountered in divide\n",
      "  explained_variance_ratio_ = explained_variance_ / total_var\n"
     ]
    },
    {
     "name": "stdout",
     "output_type": "stream",
     "text": [
      "Starting Training\n",
      "epoch: 00, loss: 0.00000\n",
      "epoch: 01, loss: 0.00000\n",
      "epoch: 02, loss: 0.00000\n",
      "epoch: 03, loss: 0.00000\n",
      "epoch: 04, loss: 0.00000\n",
      "epoch: 05, loss: 0.00000\n",
      "epoch: 06, loss: 0.00000\n",
      "epoch: 07, loss: 0.00000\n",
      "epoch: 08, loss: 0.00000\n",
      "epoch: 09, loss: 0.00000\n",
      "After Unsqueezing, feature size= torch.Size([400, 384])\n",
      "type(projected_feature) <class 'torch.Tensor'>\n",
      "projected feature shape= torch.Size([400, 128])\n"
     ]
    },
    {
     "name": "stderr",
     "output_type": "stream",
     "text": [
      " 46%|████▌     | 455/1000 [3:03:12<3:16:29, 21.63s/it]"
     ]
    },
    {
     "name": "stdout",
     "output_type": "stream",
     "text": [
      "eigenvalues shape torch.Size([5]) eigenvectors shape torch.Size([5, 400])\n",
      "455 /home/phdcs2/Hard_Disk/Datasets/Deep-Spectral-Segmentation/data/object-segmentation/ECSSD/features/dino_vits16/0456.pth\n",
      "0456\n",
      "Starting Training\n",
      "epoch: 00, loss: -0.73479\n",
      "epoch: 01, loss: -0.86037\n",
      "epoch: 02, loss: -0.86232\n",
      "epoch: 03, loss: -0.86284\n",
      "epoch: 04, loss: -0.86480\n",
      "epoch: 05, loss: -0.86497\n",
      "epoch: 06, loss: -0.86588\n",
      "epoch: 07, loss: -0.86657\n",
      "epoch: 08, loss: -0.86718\n",
      "epoch: 09, loss: -0.86785\n",
      "After Unsqueezing, feature size= torch.Size([425, 384])\n",
      "type(projected_feature) <class 'torch.Tensor'>\n",
      "projected feature shape= torch.Size([425, 128])\n"
     ]
    },
    {
     "name": "stderr",
     "output_type": "stream",
     "text": [
      " 46%|████▌     | 456/1000 [3:03:33<3:13:59, 21.40s/it]"
     ]
    },
    {
     "name": "stdout",
     "output_type": "stream",
     "text": [
      "eigenvalues shape torch.Size([5]) eigenvectors shape torch.Size([5, 425])\n",
      "456 /home/phdcs2/Hard_Disk/Datasets/Deep-Spectral-Segmentation/data/object-segmentation/ECSSD/features/dino_vits16/0457.pth\n",
      "0457\n",
      "Starting Training\n",
      "epoch: 00, loss: -0.32563\n",
      "epoch: 01, loss: -0.34082\n",
      "epoch: 02, loss: -0.34753\n",
      "epoch: 03, loss: -0.35252\n",
      "epoch: 04, loss: -0.36001\n",
      "epoch: 05, loss: -0.36417\n",
      "epoch: 06, loss: -0.36985\n",
      "epoch: 07, loss: -0.37347\n",
      "epoch: 08, loss: -0.37843\n",
      "epoch: 09, loss: -0.38307\n",
      "After Unsqueezing, feature size= torch.Size([400, 384])\n",
      "type(projected_feature) <class 'torch.Tensor'>\n",
      "projected feature shape= torch.Size([400, 128])\n"
     ]
    },
    {
     "name": "stderr",
     "output_type": "stream",
     "text": [
      " 46%|████▌     | 457/1000 [3:03:55<3:14:54, 21.54s/it]"
     ]
    },
    {
     "name": "stdout",
     "output_type": "stream",
     "text": [
      "eigenvalues shape torch.Size([5]) eigenvectors shape torch.Size([5, 400])\n",
      "457 /home/phdcs2/Hard_Disk/Datasets/Deep-Spectral-Segmentation/data/object-segmentation/ECSSD/features/dino_vits16/0458.pth\n",
      "0458\n"
     ]
    },
    {
     "name": "stderr",
     "output_type": "stream",
     "text": [
      "/home/phdcs2/Hard_Disk/Projects/T2I/deep-spectral-segmentation/venv/lib/python3.8/site-packages/sklearn/decomposition/_pca.py:545: RuntimeWarning: invalid value encountered in divide\n",
      "  explained_variance_ratio_ = explained_variance_ / total_var\n"
     ]
    },
    {
     "name": "stdout",
     "output_type": "stream",
     "text": [
      "Starting Training\n",
      "epoch: 00, loss: 0.00000\n",
      "epoch: 01, loss: 0.00000\n",
      "epoch: 02, loss: 0.00000\n",
      "epoch: 03, loss: 0.00000\n",
      "epoch: 04, loss: 0.00000\n",
      "epoch: 05, loss: 0.00000\n",
      "epoch: 06, loss: 0.00000\n",
      "epoch: 07, loss: 0.00000\n",
      "epoch: 08, loss: 0.00000\n",
      "epoch: 09, loss: 0.00000\n",
      "After Unsqueezing, feature size= torch.Size([450, 384])\n",
      "type(projected_feature) <class 'torch.Tensor'>\n",
      "projected feature shape= torch.Size([450, 128])\n"
     ]
    },
    {
     "name": "stderr",
     "output_type": "stream",
     "text": [
      " 46%|████▌     | 458/1000 [3:04:21<3:26:23, 22.85s/it]"
     ]
    },
    {
     "name": "stdout",
     "output_type": "stream",
     "text": [
      "eigenvalues shape torch.Size([5]) eigenvectors shape torch.Size([5, 450])\n",
      "458 /home/phdcs2/Hard_Disk/Datasets/Deep-Spectral-Segmentation/data/object-segmentation/ECSSD/features/dino_vits16/0459.pth\n",
      "0459\n"
     ]
    },
    {
     "name": "stderr",
     "output_type": "stream",
     "text": [
      "/home/phdcs2/Hard_Disk/Projects/T2I/deep-spectral-segmentation/venv/lib/python3.8/site-packages/sklearn/decomposition/_pca.py:545: RuntimeWarning: invalid value encountered in divide\n",
      "  explained_variance_ratio_ = explained_variance_ / total_var\n"
     ]
    },
    {
     "name": "stdout",
     "output_type": "stream",
     "text": [
      "Starting Training\n",
      "epoch: 00, loss: 0.00000\n",
      "epoch: 01, loss: 0.00000\n",
      "epoch: 02, loss: 0.00000\n",
      "epoch: 03, loss: 0.00000\n",
      "epoch: 04, loss: 0.00000\n",
      "epoch: 05, loss: 0.00000\n",
      "epoch: 06, loss: 0.00000\n",
      "epoch: 07, loss: 0.00000\n",
      "epoch: 08, loss: 0.00000\n",
      "epoch: 09, loss: 0.00000\n",
      "After Unsqueezing, feature size= torch.Size([400, 384])\n",
      "type(projected_feature) <class 'torch.Tensor'>\n",
      "projected feature shape= torch.Size([400, 128])\n"
     ]
    },
    {
     "name": "stderr",
     "output_type": "stream",
     "text": [
      " 46%|████▌     | 459/1000 [3:04:41<3:19:12, 22.09s/it]"
     ]
    },
    {
     "name": "stdout",
     "output_type": "stream",
     "text": [
      "eigenvalues shape torch.Size([5]) eigenvectors shape torch.Size([5, 400])\n",
      "459 /home/phdcs2/Hard_Disk/Datasets/Deep-Spectral-Segmentation/data/object-segmentation/ECSSD/features/dino_vits16/0460.pth\n",
      "0460\n",
      "Starting Training\n",
      "epoch: 00, loss: -0.31154\n",
      "epoch: 01, loss: -0.32426\n",
      "epoch: 02, loss: -0.32952\n",
      "epoch: 03, loss: -0.33282\n",
      "epoch: 04, loss: -0.33588\n",
      "epoch: 05, loss: -0.34047\n",
      "epoch: 06, loss: -0.34403\n",
      "epoch: 07, loss: -0.34743\n",
      "epoch: 08, loss: -0.34894\n",
      "epoch: 09, loss: -0.34999\n",
      "After Unsqueezing, feature size= torch.Size([450, 384])\n",
      "type(projected_feature) <class 'torch.Tensor'>\n",
      "projected feature shape= torch.Size([450, 128])\n"
     ]
    },
    {
     "name": "stderr",
     "output_type": "stream",
     "text": [
      " 46%|████▌     | 460/1000 [3:05:04<3:20:09, 22.24s/it]"
     ]
    },
    {
     "name": "stdout",
     "output_type": "stream",
     "text": [
      "eigenvalues shape torch.Size([5]) eigenvectors shape torch.Size([5, 450])\n",
      "460 /home/phdcs2/Hard_Disk/Datasets/Deep-Spectral-Segmentation/data/object-segmentation/ECSSD/features/dino_vits16/0461.pth\n",
      "0461\n",
      "Starting Training\n",
      "epoch: 00, loss: -0.30721\n",
      "epoch: 01, loss: -0.34666\n",
      "epoch: 02, loss: -0.36214\n",
      "epoch: 03, loss: -0.37170\n",
      "epoch: 04, loss: -0.37992\n",
      "epoch: 05, loss: -0.38840\n",
      "epoch: 06, loss: -0.39710\n",
      "epoch: 07, loss: -0.40069\n",
      "epoch: 08, loss: -0.41065\n",
      "epoch: 09, loss: -0.42249\n",
      "After Unsqueezing, feature size= torch.Size([450, 384])\n",
      "type(projected_feature) <class 'torch.Tensor'>\n",
      "projected feature shape= torch.Size([450, 128])\n"
     ]
    },
    {
     "name": "stderr",
     "output_type": "stream",
     "text": [
      " 46%|████▌     | 461/1000 [3:05:30<3:30:50, 23.47s/it]"
     ]
    },
    {
     "name": "stdout",
     "output_type": "stream",
     "text": [
      "eigenvalues shape torch.Size([5]) eigenvectors shape torch.Size([5, 450])\n",
      "461 /home/phdcs2/Hard_Disk/Datasets/Deep-Spectral-Segmentation/data/object-segmentation/ECSSD/features/dino_vits16/0462.pth\n",
      "0462\n",
      "Starting Training\n",
      "epoch: 00, loss: -0.75724\n",
      "epoch: 01, loss: -0.87415\n",
      "epoch: 02, loss: -0.87052\n",
      "epoch: 03, loss: -0.86937\n",
      "epoch: 04, loss: -0.86725\n",
      "epoch: 05, loss: -0.86745\n",
      "epoch: 06, loss: -0.86735\n",
      "epoch: 07, loss: -0.86850\n",
      "epoch: 08, loss: -0.86641\n",
      "epoch: 09, loss: -0.86767\n",
      "After Unsqueezing, feature size= torch.Size([400, 384])\n",
      "type(projected_feature) <class 'torch.Tensor'>\n",
      "projected feature shape= torch.Size([400, 128])\n"
     ]
    },
    {
     "name": "stderr",
     "output_type": "stream",
     "text": [
      " 46%|████▌     | 462/1000 [3:05:52<3:25:18, 22.90s/it]"
     ]
    },
    {
     "name": "stdout",
     "output_type": "stream",
     "text": [
      "eigenvalues shape torch.Size([5]) eigenvectors shape torch.Size([5, 400])\n",
      "462 /home/phdcs2/Hard_Disk/Datasets/Deep-Spectral-Segmentation/data/object-segmentation/ECSSD/features/dino_vits16/0463.pth\n",
      "0463\n"
     ]
    },
    {
     "name": "stderr",
     "output_type": "stream",
     "text": [
      "/home/phdcs2/Hard_Disk/Projects/T2I/deep-spectral-segmentation/venv/lib/python3.8/site-packages/sklearn/decomposition/_pca.py:545: RuntimeWarning: invalid value encountered in divide\n",
      "  explained_variance_ratio_ = explained_variance_ / total_var\n"
     ]
    },
    {
     "name": "stdout",
     "output_type": "stream",
     "text": [
      "Starting Training\n",
      "epoch: 00, loss: 0.00000\n",
      "epoch: 01, loss: 0.00000\n",
      "epoch: 02, loss: 0.00000\n",
      "epoch: 03, loss: 0.00000\n",
      "epoch: 04, loss: 0.00000\n",
      "epoch: 05, loss: 0.00000\n",
      "epoch: 06, loss: 0.00000\n",
      "epoch: 07, loss: 0.00000\n",
      "epoch: 08, loss: 0.00000\n",
      "epoch: 09, loss: 0.00000\n",
      "After Unsqueezing, feature size= torch.Size([450, 384])\n",
      "type(projected_feature) <class 'torch.Tensor'>\n",
      "projected feature shape= torch.Size([450, 128])\n"
     ]
    },
    {
     "name": "stderr",
     "output_type": "stream",
     "text": [
      " 46%|████▋     | 463/1000 [3:06:15<3:26:28, 23.07s/it]"
     ]
    },
    {
     "name": "stdout",
     "output_type": "stream",
     "text": [
      "eigenvalues shape torch.Size([5]) eigenvectors shape torch.Size([5, 450])\n",
      "463 /home/phdcs2/Hard_Disk/Datasets/Deep-Spectral-Segmentation/data/object-segmentation/ECSSD/features/dino_vits16/0464.pth\n",
      "0464\n"
     ]
    },
    {
     "name": "stderr",
     "output_type": "stream",
     "text": [
      "/home/phdcs2/Hard_Disk/Projects/T2I/deep-spectral-segmentation/venv/lib/python3.8/site-packages/sklearn/decomposition/_pca.py:545: RuntimeWarning: invalid value encountered in divide\n",
      "  explained_variance_ratio_ = explained_variance_ / total_var\n"
     ]
    },
    {
     "name": "stdout",
     "output_type": "stream",
     "text": [
      "Starting Training\n",
      "epoch: 00, loss: 0.00000\n",
      "epoch: 01, loss: 0.00000\n",
      "epoch: 02, loss: 0.00000\n",
      "epoch: 03, loss: 0.00000\n",
      "epoch: 04, loss: 0.00000\n",
      "epoch: 05, loss: 0.00000\n",
      "epoch: 06, loss: 0.00000\n",
      "epoch: 07, loss: 0.00000\n",
      "epoch: 08, loss: 0.00000\n",
      "epoch: 09, loss: 0.00000\n",
      "After Unsqueezing, feature size= torch.Size([450, 384])\n",
      "type(projected_feature) <class 'torch.Tensor'>\n",
      "projected feature shape= torch.Size([450, 128])\n"
     ]
    },
    {
     "name": "stderr",
     "output_type": "stream",
     "text": [
      " 46%|████▋     | 464/1000 [3:06:42<3:36:26, 24.23s/it]"
     ]
    },
    {
     "name": "stdout",
     "output_type": "stream",
     "text": [
      "eigenvalues shape torch.Size([5]) eigenvectors shape torch.Size([5, 450])\n",
      "464 /home/phdcs2/Hard_Disk/Datasets/Deep-Spectral-Segmentation/data/object-segmentation/ECSSD/features/dino_vits16/0465.pth\n",
      "0465\n",
      "Starting Training\n",
      "epoch: 00, loss: -0.31846\n",
      "epoch: 01, loss: -0.34848\n",
      "epoch: 02, loss: -0.36064\n",
      "epoch: 03, loss: -0.36781\n",
      "epoch: 04, loss: -0.37262\n",
      "epoch: 05, loss: -0.37776\n",
      "epoch: 06, loss: -0.38384\n",
      "epoch: 07, loss: -0.38728\n",
      "epoch: 08, loss: -0.39252\n",
      "epoch: 09, loss: -0.39661\n",
      "After Unsqueezing, feature size= torch.Size([450, 384])\n",
      "type(projected_feature) <class 'torch.Tensor'>\n",
      "projected feature shape= torch.Size([450, 128])\n"
     ]
    },
    {
     "name": "stderr",
     "output_type": "stream",
     "text": [
      " 46%|████▋     | 465/1000 [3:07:10<3:45:06, 25.25s/it]"
     ]
    },
    {
     "name": "stdout",
     "output_type": "stream",
     "text": [
      "eigenvalues shape torch.Size([5]) eigenvectors shape torch.Size([5, 450])\n",
      "465 /home/phdcs2/Hard_Disk/Datasets/Deep-Spectral-Segmentation/data/object-segmentation/ECSSD/features/dino_vits16/0466.pth\n",
      "0466\n",
      "Starting Training\n",
      "epoch: 00, loss: -0.73419\n",
      "epoch: 01, loss: -0.81070\n",
      "epoch: 02, loss: -0.81468\n",
      "epoch: 03, loss: -0.81604\n",
      "epoch: 04, loss: -0.81732\n",
      "epoch: 05, loss: -0.81895\n",
      "epoch: 06, loss: -0.81963\n",
      "epoch: 07, loss: -0.81960\n",
      "epoch: 08, loss: -0.82075\n",
      "epoch: 09, loss: -0.82083\n",
      "After Unsqueezing, feature size= torch.Size([400, 384])\n",
      "type(projected_feature) <class 'torch.Tensor'>\n",
      "projected feature shape= torch.Size([400, 128])\n"
     ]
    },
    {
     "name": "stderr",
     "output_type": "stream",
     "text": [
      " 47%|████▋     | 466/1000 [3:07:37<3:50:06, 25.85s/it]"
     ]
    },
    {
     "name": "stdout",
     "output_type": "stream",
     "text": [
      "eigenvalues shape torch.Size([5]) eigenvectors shape torch.Size([5, 400])\n",
      "466 /home/phdcs2/Hard_Disk/Datasets/Deep-Spectral-Segmentation/data/object-segmentation/ECSSD/features/dino_vits16/0467.pth\n",
      "0467\n",
      "Starting Training\n",
      "epoch: 00, loss: -0.28543\n",
      "epoch: 01, loss: -0.28868\n",
      "epoch: 02, loss: -0.29796\n",
      "epoch: 03, loss: -0.30710\n",
      "epoch: 04, loss: -0.31176\n",
      "epoch: 05, loss: -0.31528\n",
      "epoch: 06, loss: -0.31622\n",
      "epoch: 07, loss: -0.32000\n",
      "epoch: 08, loss: -0.32187\n",
      "epoch: 09, loss: -0.32389\n",
      "After Unsqueezing, feature size= torch.Size([425, 384])\n",
      "type(projected_feature) <class 'torch.Tensor'>\n",
      "projected feature shape= torch.Size([425, 128])\n"
     ]
    },
    {
     "name": "stderr",
     "output_type": "stream",
     "text": [
      " 47%|████▋     | 467/1000 [3:08:04<3:51:19, 26.04s/it]"
     ]
    },
    {
     "name": "stdout",
     "output_type": "stream",
     "text": [
      "eigenvalues shape torch.Size([5]) eigenvectors shape torch.Size([5, 425])\n",
      "467 /home/phdcs2/Hard_Disk/Datasets/Deep-Spectral-Segmentation/data/object-segmentation/ECSSD/features/dino_vits16/0468.pth\n",
      "0468\n"
     ]
    },
    {
     "name": "stderr",
     "output_type": "stream",
     "text": [
      "/home/phdcs2/Hard_Disk/Projects/T2I/deep-spectral-segmentation/venv/lib/python3.8/site-packages/sklearn/decomposition/_pca.py:545: RuntimeWarning: invalid value encountered in divide\n",
      "  explained_variance_ratio_ = explained_variance_ / total_var\n"
     ]
    },
    {
     "name": "stdout",
     "output_type": "stream",
     "text": [
      "Starting Training\n",
      "epoch: 00, loss: 0.00000\n",
      "epoch: 01, loss: 0.00000\n",
      "epoch: 02, loss: 0.00000\n",
      "epoch: 03, loss: 0.00000\n",
      "epoch: 04, loss: 0.00000\n",
      "epoch: 05, loss: 0.00000\n",
      "epoch: 06, loss: 0.00000\n",
      "epoch: 07, loss: 0.00000\n",
      "epoch: 08, loss: 0.00000\n",
      "epoch: 09, loss: 0.00000\n",
      "After Unsqueezing, feature size= torch.Size([450, 384])\n",
      "type(projected_feature) <class 'torch.Tensor'>\n",
      "projected feature shape= torch.Size([450, 128])\n"
     ]
    },
    {
     "name": "stderr",
     "output_type": "stream",
     "text": [
      " 47%|████▋     | 468/1000 [3:08:32<3:57:03, 26.74s/it]"
     ]
    },
    {
     "name": "stdout",
     "output_type": "stream",
     "text": [
      "eigenvalues shape torch.Size([5]) eigenvectors shape torch.Size([5, 450])\n",
      "468 /home/phdcs2/Hard_Disk/Datasets/Deep-Spectral-Segmentation/data/object-segmentation/ECSSD/features/dino_vits16/0469.pth\n",
      "0469\n"
     ]
    },
    {
     "name": "stderr",
     "output_type": "stream",
     "text": [
      "/home/phdcs2/Hard_Disk/Projects/T2I/deep-spectral-segmentation/venv/lib/python3.8/site-packages/sklearn/decomposition/_pca.py:545: RuntimeWarning: invalid value encountered in divide\n",
      "  explained_variance_ratio_ = explained_variance_ / total_var\n"
     ]
    },
    {
     "name": "stdout",
     "output_type": "stream",
     "text": [
      "Starting Training\n",
      "epoch: 00, loss: 0.00000\n",
      "epoch: 01, loss: 0.00000\n",
      "epoch: 02, loss: 0.00000\n",
      "epoch: 03, loss: 0.00000\n",
      "epoch: 04, loss: 0.00000\n",
      "epoch: 05, loss: 0.00000\n",
      "epoch: 06, loss: 0.00000\n",
      "epoch: 07, loss: 0.00000\n",
      "epoch: 08, loss: 0.00000\n",
      "epoch: 09, loss: 0.00000\n",
      "After Unsqueezing, feature size= torch.Size([400, 384])\n",
      "type(projected_feature) <class 'torch.Tensor'>\n",
      "projected feature shape= torch.Size([400, 128])\n"
     ]
    },
    {
     "name": "stderr",
     "output_type": "stream",
     "text": [
      " 47%|████▋     | 469/1000 [3:08:57<3:51:30, 26.16s/it]"
     ]
    },
    {
     "name": "stdout",
     "output_type": "stream",
     "text": [
      "eigenvalues shape torch.Size([5]) eigenvectors shape torch.Size([5, 400])\n",
      "469 /home/phdcs2/Hard_Disk/Datasets/Deep-Spectral-Segmentation/data/object-segmentation/ECSSD/features/dino_vits16/0470.pth\n",
      "0470\n",
      "Starting Training\n",
      "epoch: 00, loss: -0.19760\n",
      "epoch: 01, loss: -0.17068\n",
      "epoch: 02, loss: -0.17592\n",
      "epoch: 03, loss: -0.18939\n",
      "epoch: 04, loss: -0.20392\n",
      "epoch: 05, loss: -0.20976\n",
      "epoch: 06, loss: -0.21471\n",
      "epoch: 07, loss: -0.20710\n",
      "epoch: 08, loss: -0.17961\n",
      "epoch: 09, loss: -0.18246\n",
      "After Unsqueezing, feature size= torch.Size([400, 384])\n",
      "type(projected_feature) <class 'torch.Tensor'>\n",
      "projected feature shape= torch.Size([400, 128])\n"
     ]
    },
    {
     "name": "stderr",
     "output_type": "stream",
     "text": [
      " 47%|████▋     | 470/1000 [3:09:20<3:44:50, 25.45s/it]"
     ]
    },
    {
     "name": "stdout",
     "output_type": "stream",
     "text": [
      "eigenvalues shape torch.Size([5]) eigenvectors shape torch.Size([5, 400])\n",
      "470 /home/phdcs2/Hard_Disk/Datasets/Deep-Spectral-Segmentation/data/object-segmentation/ECSSD/features/dino_vits16/0471.pth\n",
      "0471\n",
      "Starting Training\n",
      "epoch: 00, loss: -0.33056\n",
      "epoch: 01, loss: -0.37269\n",
      "epoch: 02, loss: -0.37930\n",
      "epoch: 03, loss: -0.38390\n",
      "epoch: 04, loss: -0.38888\n",
      "epoch: 05, loss: -0.39194\n",
      "epoch: 06, loss: -0.39737\n",
      "epoch: 07, loss: -0.40080\n",
      "epoch: 08, loss: -0.40550\n",
      "epoch: 09, loss: -0.40856\n",
      "After Unsqueezing, feature size= torch.Size([450, 384])\n",
      "type(projected_feature) <class 'torch.Tensor'>\n",
      "projected feature shape= torch.Size([450, 128])\n"
     ]
    },
    {
     "name": "stderr",
     "output_type": "stream",
     "text": [
      " 47%|████▋     | 471/1000 [3:09:48<3:48:40, 25.94s/it]"
     ]
    },
    {
     "name": "stdout",
     "output_type": "stream",
     "text": [
      "eigenvalues shape torch.Size([5]) eigenvectors shape torch.Size([5, 450])\n",
      "471 /home/phdcs2/Hard_Disk/Datasets/Deep-Spectral-Segmentation/data/object-segmentation/ECSSD/features/dino_vits16/0472.pth\n",
      "0472\n",
      "Starting Training\n",
      "epoch: 00, loss: -0.36226\n",
      "epoch: 01, loss: -0.35460\n",
      "epoch: 02, loss: -0.36379\n",
      "epoch: 03, loss: -0.37019\n",
      "epoch: 04, loss: -0.37428\n",
      "epoch: 05, loss: -0.37861\n",
      "epoch: 06, loss: -0.38199\n",
      "epoch: 07, loss: -0.38575\n",
      "epoch: 08, loss: -0.38975\n",
      "epoch: 09, loss: -0.39266\n",
      "After Unsqueezing, feature size= torch.Size([400, 384])\n",
      "type(projected_feature) <class 'torch.Tensor'>\n",
      "projected feature shape= torch.Size([400, 128])\n"
     ]
    },
    {
     "name": "stderr",
     "output_type": "stream",
     "text": [
      " 47%|████▋     | 472/1000 [3:10:16<3:54:29, 26.65s/it]"
     ]
    },
    {
     "name": "stdout",
     "output_type": "stream",
     "text": [
      "eigenvalues shape torch.Size([5]) eigenvectors shape torch.Size([5, 400])\n",
      "472 /home/phdcs2/Hard_Disk/Datasets/Deep-Spectral-Segmentation/data/object-segmentation/ECSSD/features/dino_vits16/0473.pth\n",
      "0473\n",
      "Starting Training\n",
      "epoch: 00, loss: -0.31220\n",
      "epoch: 01, loss: -0.32927\n",
      "epoch: 02, loss: -0.33808\n",
      "epoch: 03, loss: -0.34156\n",
      "epoch: 04, loss: -0.34352\n",
      "epoch: 05, loss: -0.34606\n",
      "epoch: 06, loss: -0.34836\n",
      "epoch: 07, loss: -0.35147\n",
      "epoch: 08, loss: -0.35333\n",
      "epoch: 09, loss: -0.35616\n",
      "After Unsqueezing, feature size= torch.Size([425, 384])\n",
      "type(projected_feature) <class 'torch.Tensor'>\n",
      "projected feature shape= torch.Size([425, 128])\n"
     ]
    },
    {
     "name": "stderr",
     "output_type": "stream",
     "text": [
      " 47%|████▋     | 473/1000 [3:10:42<3:51:33, 26.36s/it]"
     ]
    },
    {
     "name": "stdout",
     "output_type": "stream",
     "text": [
      "eigenvalues shape torch.Size([5]) eigenvectors shape torch.Size([5, 425])\n",
      "473 /home/phdcs2/Hard_Disk/Datasets/Deep-Spectral-Segmentation/data/object-segmentation/ECSSD/features/dino_vits16/0474.pth\n",
      "0474\n"
     ]
    },
    {
     "name": "stderr",
     "output_type": "stream",
     "text": [
      "/home/phdcs2/Hard_Disk/Projects/T2I/deep-spectral-segmentation/venv/lib/python3.8/site-packages/sklearn/decomposition/_pca.py:545: RuntimeWarning: invalid value encountered in divide\n",
      "  explained_variance_ratio_ = explained_variance_ / total_var\n"
     ]
    },
    {
     "name": "stdout",
     "output_type": "stream",
     "text": [
      "Starting Training\n",
      "epoch: 00, loss: 0.00000\n",
      "epoch: 01, loss: 0.00000\n",
      "epoch: 02, loss: 0.00000\n",
      "epoch: 03, loss: 0.00000\n",
      "epoch: 04, loss: 0.00000\n",
      "epoch: 05, loss: 0.00000\n",
      "epoch: 06, loss: 0.00000\n",
      "epoch: 07, loss: 0.00000\n",
      "epoch: 08, loss: 0.00000\n",
      "epoch: 09, loss: 0.00000\n",
      "After Unsqueezing, feature size= torch.Size([400, 384])\n",
      "type(projected_feature) <class 'torch.Tensor'>\n",
      "projected feature shape= torch.Size([400, 128])\n"
     ]
    },
    {
     "name": "stderr",
     "output_type": "stream",
     "text": [
      " 47%|████▋     | 474/1000 [3:11:05<3:42:13, 25.35s/it]"
     ]
    },
    {
     "name": "stdout",
     "output_type": "stream",
     "text": [
      "eigenvalues shape torch.Size([5]) eigenvectors shape torch.Size([5, 400])\n",
      "474 /home/phdcs2/Hard_Disk/Datasets/Deep-Spectral-Segmentation/data/object-segmentation/ECSSD/features/dino_vits16/0475.pth\n",
      "0475\n",
      "Starting Training\n",
      "epoch: 00, loss: -0.26199\n",
      "epoch: 01, loss: -0.19320\n",
      "epoch: 02, loss: -0.17599\n",
      "epoch: 03, loss: -0.16489\n",
      "epoch: 04, loss: -0.12640\n",
      "epoch: 05, loss: -0.03318\n",
      "epoch: 06, loss: -0.03315\n",
      "epoch: 07, loss: -0.03329\n",
      "epoch: 08, loss: -0.03345\n",
      "epoch: 09, loss: -0.03385\n",
      "After Unsqueezing, feature size= torch.Size([400, 384])\n",
      "type(projected_feature) <class 'torch.Tensor'>\n",
      "projected feature shape= torch.Size([400, 128])\n"
     ]
    },
    {
     "name": "stderr",
     "output_type": "stream",
     "text": [
      " 48%|████▊     | 475/1000 [3:11:27<3:33:44, 24.43s/it]"
     ]
    },
    {
     "name": "stdout",
     "output_type": "stream",
     "text": [
      "eigenvalues shape torch.Size([5]) eigenvectors shape torch.Size([5, 400])\n",
      "475 /home/phdcs2/Hard_Disk/Datasets/Deep-Spectral-Segmentation/data/object-segmentation/ECSSD/features/dino_vits16/0476.pth\n",
      "0476\n",
      "Starting Training\n",
      "epoch: 00, loss: -0.29240\n",
      "epoch: 01, loss: -0.31390\n",
      "epoch: 02, loss: -0.31831\n",
      "epoch: 03, loss: -0.32395\n",
      "epoch: 04, loss: -0.32650\n",
      "epoch: 05, loss: -0.32944\n",
      "epoch: 06, loss: -0.33166\n",
      "epoch: 07, loss: -0.33384\n",
      "epoch: 08, loss: -0.33582\n",
      "epoch: 09, loss: -0.33854\n",
      "After Unsqueezing, feature size= torch.Size([400, 384])\n",
      "type(projected_feature) <class 'torch.Tensor'>\n",
      "projected feature shape= torch.Size([400, 128])\n"
     ]
    },
    {
     "name": "stderr",
     "output_type": "stream",
     "text": [
      " 48%|████▊     | 476/1000 [3:11:49<3:26:29, 23.64s/it]"
     ]
    },
    {
     "name": "stdout",
     "output_type": "stream",
     "text": [
      "eigenvalues shape torch.Size([5]) eigenvectors shape torch.Size([5, 400])\n",
      "476 /home/phdcs2/Hard_Disk/Datasets/Deep-Spectral-Segmentation/data/object-segmentation/ECSSD/features/dino_vits16/0477.pth\n",
      "0477\n",
      "Starting Training\n",
      "epoch: 00, loss: -0.21658\n",
      "epoch: 01, loss: -0.17867\n",
      "epoch: 02, loss: -0.17981\n",
      "epoch: 03, loss: -0.18534\n",
      "epoch: 04, loss: -0.18841\n",
      "epoch: 05, loss: -0.18805\n",
      "epoch: 06, loss: -0.19293\n",
      "epoch: 07, loss: -0.19285\n",
      "epoch: 08, loss: -0.19860\n",
      "epoch: 09, loss: -0.19998\n",
      "After Unsqueezing, feature size= torch.Size([450, 384])\n",
      "type(projected_feature) <class 'torch.Tensor'>\n",
      "projected feature shape= torch.Size([450, 128])\n"
     ]
    },
    {
     "name": "stderr",
     "output_type": "stream",
     "text": [
      " 48%|████▊     | 477/1000 [3:12:17<3:38:06, 25.02s/it]"
     ]
    },
    {
     "name": "stdout",
     "output_type": "stream",
     "text": [
      "eigenvalues shape torch.Size([5]) eigenvectors shape torch.Size([5, 450])\n",
      "477 /home/phdcs2/Hard_Disk/Datasets/Deep-Spectral-Segmentation/data/object-segmentation/ECSSD/features/dino_vits16/0478.pth\n",
      "0478\n",
      "Starting Training\n",
      "epoch: 00, loss: -0.73219\n",
      "epoch: 01, loss: -0.87068\n",
      "epoch: 02, loss: -0.88281\n",
      "epoch: 03, loss: -0.88268\n",
      "epoch: 04, loss: -0.88165\n",
      "epoch: 05, loss: -0.88140\n",
      "epoch: 06, loss: -0.88093\n",
      "epoch: 07, loss: -0.87923\n",
      "epoch: 08, loss: -0.87986\n",
      "epoch: 09, loss: -0.87897\n",
      "After Unsqueezing, feature size= torch.Size([400, 384])\n",
      "type(projected_feature) <class 'torch.Tensor'>\n",
      "projected feature shape= torch.Size([400, 128])\n"
     ]
    },
    {
     "name": "stderr",
     "output_type": "stream",
     "text": [
      " 48%|████▊     | 478/1000 [3:12:40<3:31:38, 24.33s/it]"
     ]
    },
    {
     "name": "stdout",
     "output_type": "stream",
     "text": [
      "eigenvalues shape torch.Size([5]) eigenvectors shape torch.Size([5, 400])\n",
      "478 /home/phdcs2/Hard_Disk/Datasets/Deep-Spectral-Segmentation/data/object-segmentation/ECSSD/features/dino_vits16/0479.pth\n",
      "0479\n"
     ]
    },
    {
     "name": "stderr",
     "output_type": "stream",
     "text": [
      "/home/phdcs2/Hard_Disk/Projects/T2I/deep-spectral-segmentation/venv/lib/python3.8/site-packages/sklearn/decomposition/_pca.py:545: RuntimeWarning: invalid value encountered in divide\n",
      "  explained_variance_ratio_ = explained_variance_ / total_var\n"
     ]
    },
    {
     "name": "stdout",
     "output_type": "stream",
     "text": [
      "Starting Training\n",
      "epoch: 00, loss: 0.00000\n",
      "epoch: 01, loss: 0.00000\n",
      "epoch: 02, loss: 0.00000\n",
      "epoch: 03, loss: 0.00000\n",
      "epoch: 04, loss: 0.00000\n",
      "epoch: 05, loss: 0.00000\n",
      "epoch: 06, loss: 0.00000\n",
      "epoch: 07, loss: 0.00000\n",
      "epoch: 08, loss: 0.00000\n",
      "epoch: 09, loss: 0.00000\n",
      "After Unsqueezing, feature size= torch.Size([450, 384])\n",
      "type(projected_feature) <class 'torch.Tensor'>\n",
      "projected feature shape= torch.Size([450, 128])\n"
     ]
    },
    {
     "name": "stderr",
     "output_type": "stream",
     "text": [
      " 48%|████▊     | 479/1000 [3:13:04<3:31:58, 24.41s/it]"
     ]
    },
    {
     "name": "stdout",
     "output_type": "stream",
     "text": [
      "eigenvalues shape torch.Size([5]) eigenvectors shape torch.Size([5, 450])\n",
      "479 /home/phdcs2/Hard_Disk/Datasets/Deep-Spectral-Segmentation/data/object-segmentation/ECSSD/features/dino_vits16/0480.pth\n",
      "0480\n",
      "Starting Training\n",
      "epoch: 00, loss: -0.33788\n",
      "epoch: 01, loss: -0.35540\n",
      "epoch: 02, loss: -0.36343\n",
      "epoch: 03, loss: -0.37071\n",
      "epoch: 04, loss: -0.37680\n",
      "epoch: 05, loss: -0.38215\n",
      "epoch: 06, loss: -0.38765\n",
      "epoch: 07, loss: -0.39360\n",
      "epoch: 08, loss: -0.39818\n",
      "epoch: 09, loss: -0.40425\n",
      "After Unsqueezing, feature size= torch.Size([625, 384])\n",
      "type(projected_feature) <class 'torch.Tensor'>\n",
      "projected feature shape= torch.Size([625, 128])\n"
     ]
    },
    {
     "name": "stderr",
     "output_type": "stream",
     "text": [
      " 48%|████▊     | 480/1000 [3:14:21<5:48:51, 40.25s/it]"
     ]
    },
    {
     "name": "stdout",
     "output_type": "stream",
     "text": [
      "eigenvalues shape torch.Size([5]) eigenvectors shape torch.Size([5, 625])\n",
      "480 /home/phdcs2/Hard_Disk/Datasets/Deep-Spectral-Segmentation/data/object-segmentation/ECSSD/features/dino_vits16/0481.pth\n",
      "0481\n"
     ]
    },
    {
     "name": "stderr",
     "output_type": "stream",
     "text": [
      "/home/phdcs2/Hard_Disk/Projects/T2I/deep-spectral-segmentation/venv/lib/python3.8/site-packages/sklearn/decomposition/_pca.py:545: RuntimeWarning: invalid value encountered in divide\n",
      "  explained_variance_ratio_ = explained_variance_ / total_var\n"
     ]
    },
    {
     "name": "stdout",
     "output_type": "stream",
     "text": [
      "Starting Training\n",
      "epoch: 00, loss: 0.00000\n",
      "epoch: 01, loss: 0.00000\n",
      "epoch: 02, loss: 0.00000\n",
      "epoch: 03, loss: 0.00000\n",
      "epoch: 04, loss: 0.00000\n",
      "epoch: 05, loss: 0.00000\n",
      "epoch: 06, loss: 0.00000\n",
      "epoch: 07, loss: 0.00000\n",
      "epoch: 08, loss: 0.00000\n",
      "epoch: 09, loss: 0.00000\n",
      "After Unsqueezing, feature size= torch.Size([450, 384])\n",
      "type(projected_feature) <class 'torch.Tensor'>\n",
      "projected feature shape= torch.Size([450, 128])\n"
     ]
    },
    {
     "name": "stderr",
     "output_type": "stream",
     "text": [
      " 48%|████▊     | 481/1000 [3:14:45<5:05:27, 35.31s/it]"
     ]
    },
    {
     "name": "stdout",
     "output_type": "stream",
     "text": [
      "eigenvalues shape torch.Size([5]) eigenvectors shape torch.Size([5, 450])\n",
      "481 /home/phdcs2/Hard_Disk/Datasets/Deep-Spectral-Segmentation/data/object-segmentation/ECSSD/features/dino_vits16/0482.pth\n",
      "0482\n",
      "Starting Training\n",
      "epoch: 00, loss: -0.31525\n",
      "epoch: 01, loss: -0.33392\n",
      "epoch: 02, loss: -0.34063\n",
      "epoch: 03, loss: -0.34512\n",
      "epoch: 04, loss: -0.34855\n",
      "epoch: 05, loss: -0.35456\n",
      "epoch: 06, loss: -0.35826\n",
      "epoch: 07, loss: -0.36303\n",
      "epoch: 08, loss: -0.36748\n",
      "epoch: 09, loss: -0.37134\n",
      "After Unsqueezing, feature size= torch.Size([450, 384])\n",
      "type(projected_feature) <class 'torch.Tensor'>\n",
      "projected feature shape= torch.Size([450, 128])\n"
     ]
    },
    {
     "name": "stderr",
     "output_type": "stream",
     "text": [
      " 48%|████▊     | 482/1000 [3:15:10<4:37:48, 32.18s/it]"
     ]
    },
    {
     "name": "stdout",
     "output_type": "stream",
     "text": [
      "eigenvalues shape torch.Size([5]) eigenvectors shape torch.Size([5, 450])\n",
      "482 /home/phdcs2/Hard_Disk/Datasets/Deep-Spectral-Segmentation/data/object-segmentation/ECSSD/features/dino_vits16/0483.pth\n",
      "0483\n",
      "Starting Training\n",
      "epoch: 00, loss: -0.32078\n",
      "epoch: 01, loss: -0.33016\n",
      "epoch: 02, loss: -0.34038\n",
      "epoch: 03, loss: -0.35042\n",
      "epoch: 04, loss: -0.36038\n",
      "epoch: 05, loss: -0.36707\n",
      "epoch: 06, loss: -0.37549\n",
      "epoch: 07, loss: -0.38516\n",
      "epoch: 08, loss: -0.38948\n",
      "epoch: 09, loss: -0.39692\n",
      "After Unsqueezing, feature size= torch.Size([400, 384])\n",
      "type(projected_feature) <class 'torch.Tensor'>\n",
      "projected feature shape= torch.Size([400, 128])\n"
     ]
    },
    {
     "name": "stderr",
     "output_type": "stream",
     "text": [
      " 48%|████▊     | 483/1000 [3:15:32<4:11:22, 29.17s/it]"
     ]
    },
    {
     "name": "stdout",
     "output_type": "stream",
     "text": [
      "eigenvalues shape torch.Size([5]) eigenvectors shape torch.Size([5, 400])\n",
      "483 /home/phdcs2/Hard_Disk/Datasets/Deep-Spectral-Segmentation/data/object-segmentation/ECSSD/features/dino_vits16/0484.pth\n",
      "0484\n",
      "Starting Training\n",
      "epoch: 00, loss: -0.29531\n",
      "epoch: 01, loss: -0.30496\n",
      "epoch: 02, loss: -0.30928\n",
      "epoch: 03, loss: -0.31269\n",
      "epoch: 04, loss: -0.31668\n",
      "epoch: 05, loss: -0.31970\n",
      "epoch: 06, loss: -0.32208\n",
      "epoch: 07, loss: -0.32349\n",
      "epoch: 08, loss: -0.32678\n",
      "epoch: 09, loss: -0.33066\n",
      "After Unsqueezing, feature size= torch.Size([450, 384])\n",
      "type(projected_feature) <class 'torch.Tensor'>\n",
      "projected feature shape= torch.Size([450, 128])\n"
     ]
    },
    {
     "name": "stderr",
     "output_type": "stream",
     "text": [
      " 48%|████▊     | 484/1000 [3:15:57<3:58:26, 27.73s/it]"
     ]
    },
    {
     "name": "stdout",
     "output_type": "stream",
     "text": [
      "eigenvalues shape torch.Size([5]) eigenvectors shape torch.Size([5, 450])\n",
      "484 /home/phdcs2/Hard_Disk/Datasets/Deep-Spectral-Segmentation/data/object-segmentation/ECSSD/features/dino_vits16/0485.pth\n",
      "0485\n",
      "Starting Training\n",
      "epoch: 00, loss: -0.21488\n",
      "epoch: 01, loss: -0.22308\n",
      "epoch: 02, loss: -0.23019\n",
      "epoch: 03, loss: -0.23461\n",
      "epoch: 04, loss: -0.24013\n",
      "epoch: 05, loss: -0.24355\n",
      "epoch: 06, loss: -0.24668\n",
      "epoch: 07, loss: -0.24980\n",
      "epoch: 08, loss: -0.25350\n",
      "epoch: 09, loss: -0.25531\n",
      "After Unsqueezing, feature size= torch.Size([400, 384])\n",
      "type(projected_feature) <class 'torch.Tensor'>\n",
      "projected feature shape= torch.Size([400, 128])\n"
     ]
    },
    {
     "name": "stderr",
     "output_type": "stream",
     "text": [
      " 48%|████▊     | 485/1000 [3:16:24<3:56:10, 27.52s/it]"
     ]
    },
    {
     "name": "stdout",
     "output_type": "stream",
     "text": [
      "eigenvalues shape torch.Size([5]) eigenvectors shape torch.Size([5, 400])\n",
      "485 /home/phdcs2/Hard_Disk/Datasets/Deep-Spectral-Segmentation/data/object-segmentation/ECSSD/features/dino_vits16/0486.pth\n",
      "0486\n",
      "Starting Training\n",
      "epoch: 00, loss: -0.32679\n",
      "epoch: 01, loss: -0.34861\n",
      "epoch: 02, loss: -0.35603\n",
      "epoch: 03, loss: -0.35940\n",
      "epoch: 04, loss: -0.36288\n",
      "epoch: 05, loss: -0.36792\n",
      "epoch: 06, loss: -0.36981\n",
      "epoch: 07, loss: -0.37168\n",
      "epoch: 08, loss: -0.37589\n",
      "epoch: 09, loss: -0.37671\n",
      "After Unsqueezing, feature size= torch.Size([450, 384])\n",
      "type(projected_feature) <class 'torch.Tensor'>\n",
      "projected feature shape= torch.Size([450, 128])\n"
     ]
    },
    {
     "name": "stderr",
     "output_type": "stream",
     "text": [
      " 49%|████▊     | 486/1000 [3:16:52<3:58:56, 27.89s/it]"
     ]
    },
    {
     "name": "stdout",
     "output_type": "stream",
     "text": [
      "eigenvalues shape torch.Size([5]) eigenvectors shape torch.Size([5, 450])\n",
      "486 /home/phdcs2/Hard_Disk/Datasets/Deep-Spectral-Segmentation/data/object-segmentation/ECSSD/features/dino_vits16/0487.pth\n",
      "0487\n"
     ]
    },
    {
     "name": "stderr",
     "output_type": "stream",
     "text": [
      "/home/phdcs2/Hard_Disk/Projects/T2I/deep-spectral-segmentation/venv/lib/python3.8/site-packages/sklearn/decomposition/_pca.py:545: RuntimeWarning: invalid value encountered in divide\n",
      "  explained_variance_ratio_ = explained_variance_ / total_var\n"
     ]
    },
    {
     "name": "stdout",
     "output_type": "stream",
     "text": [
      "Starting Training\n",
      "epoch: 00, loss: 0.00000\n",
      "epoch: 01, loss: 0.00000\n",
      "epoch: 02, loss: 0.00000\n",
      "epoch: 03, loss: 0.00000\n",
      "epoch: 04, loss: 0.00000\n",
      "epoch: 05, loss: 0.00000\n",
      "epoch: 06, loss: 0.00000\n",
      "epoch: 07, loss: 0.00000\n",
      "epoch: 08, loss: 0.00000\n",
      "epoch: 09, loss: 0.00000\n",
      "After Unsqueezing, feature size= torch.Size([400, 384])\n",
      "type(projected_feature) <class 'torch.Tensor'>\n",
      "projected feature shape= torch.Size([400, 128])\n"
     ]
    },
    {
     "name": "stderr",
     "output_type": "stream",
     "text": [
      " 49%|████▊     | 487/1000 [3:17:14<3:42:21, 26.01s/it]"
     ]
    },
    {
     "name": "stdout",
     "output_type": "stream",
     "text": [
      "eigenvalues shape torch.Size([5]) eigenvectors shape torch.Size([5, 400])\n",
      "487 /home/phdcs2/Hard_Disk/Datasets/Deep-Spectral-Segmentation/data/object-segmentation/ECSSD/features/dino_vits16/0488.pth\n",
      "0488\n",
      "Starting Training\n",
      "epoch: 00, loss: -0.34050\n",
      "epoch: 01, loss: -0.35582\n",
      "epoch: 02, loss: -0.36144\n",
      "epoch: 03, loss: -0.36670\n",
      "epoch: 04, loss: -0.37293\n",
      "epoch: 05, loss: -0.37894\n"
     ]
    }
   ],
   "source": [
    "utils.make_output_dir(output_dir)\n",
    "feat_list=[]\n",
    "inputs = list(enumerate(sorted(Path(features_dir).iterdir())))\n",
    "pca = PCA(n_components=128)\n",
    "for inp in tqdm(inputs):\n",
    "    index, features_file = inp\n",
    "    print(index, features_file)\n",
    "     # Load\n",
    "    data_dict = torch.load(features_file, map_location='cpu')\n",
    "    # print(data_dict.keys())   #['k', 'indices', 'file', 'id', 'model_name', 'patch_size', 'shape']\n",
    "    # print(\"shape=\", data_dict['shape'], \"k shape\", data_dict['k'].shape, \"patch_size=\", data_dict['patch_size'])\n",
    "    image_id = data_dict['file'][:-4]\n",
    "    print(image_id)\n",
    "    # Load\n",
    "    output_file = str(Path(output_dir) / f'{image_id}.pth')\n",
    "    if Path(output_file).is_file():\n",
    "        print(f'Skipping existing file {str(output_file)}')\n",
    "        # break\n",
    "        # return  # skip because already generated\n",
    "\n",
    "    # Load affinity matrix\n",
    "    feats = data_dict[which_features].squeeze().cuda()\n",
    "    # print(\"Without normalizing, Features Shape is\",feats.shape)\n",
    "    if normalize:\n",
    "        feats = F.normalize(feats, p=2, dim=-1)\n",
    "    # print(\"After normalization, Features Shape\",feats.shape)\n",
    "    # print(\"which_matrix=\", which_matrix)\n",
    "    # Eigenvectors of affinity matrix\n",
    "    if which_matrix == 'affinity_torch':\n",
    "        W = feats @ feats.T\n",
    "        # W_feat=contrastive_affinity(feats, feats.T)\n",
    "        # print(\"W shape=\", W.shape)\n",
    "        if threshold_at_zero:\n",
    "            W = (W * (W > 0))\n",
    "            # print(\"W shape=\", W.shape)\n",
    "        eigenvalues, eigenvectors = torch.eig(W, eigenvectors=True)\n",
    "        eigenvalues = eigenvalues.cpu()\n",
    "        eigenvectors = eigenvectors.cpu()\n",
    "        print(\"which matrix=\",which_matrix, \"eigenvalues shape\", eigenvalues.shape, \"eigenvectors shape\", eigenvectors.shape)\n",
    "\n",
    "\n",
    "    # Eigenvectors of affinity matrix with scipy\n",
    "    elif which_matrix == 'affinity_svd':\n",
    "        USV = torch.linalg.svd(feats, full_matrices=False)\n",
    "        eigenvectors = USV[0][:, :K].T.to('cpu', non_blocking=True)\n",
    "        eigenvalues = USV[1][:K].to('cpu', non_blocking=True)\n",
    "        print(\"which matrix=\",which_matrix,\"eigenvalues shape\", eigenvalues.shape, \"eigenvectors shape\", eigenvectors.shape)\n",
    "\n",
    "    # Eigenvectors of affinity matrix with scipy\n",
    "    elif which_matrix == 'affinity':\n",
    "        # print(\"Without normalizing, Features Shape is\",feats.shape)\n",
    "        W = (feats @ feats.T)\n",
    "        # W_feat=contrastive_affinity(feats, feats.T)\n",
    "        # print(\"W shape=\", W.shape)\n",
    "        if threshold_at_zero:\n",
    "            W = (W * (W > 0))\n",
    "        W = W.cpu().numpy()\n",
    "        # print(\"W shape=\", W.shape)\n",
    "        eigenvalues, eigenvectors = eigsh(W, which='LM', k=K)\n",
    "        eigenvectors = torch.flip(torch.from_numpy(eigenvectors), dims=(-1,)).T\n",
    "        print(\"which matrix=\",which_matrix, \"eigenvalues shape\", eigenvalues.shape, \"eigenvectors shape\", eigenvectors.shape)\n",
    "\n",
    "    # Eigenvectors of matting laplacian matrix\n",
    "    elif which_matrix in ['matting_laplacian', 'laplacian']:\n",
    "\n",
    "        # Get sizes\n",
    "        B, C, H, W, P, H_patch, W_patch, H_pad, W_pad = utils.get_image_sizes(data_dict)\n",
    "        if image_downsample_factor is None:\n",
    "            image_downsample_factor = P\n",
    "        H_pad_lr, W_pad_lr = H_pad // image_downsample_factor, W_pad // image_downsample_factor\n",
    "\n",
    "        # Upscale features to match the resolution\n",
    "        if (H_patch, W_patch) != (H_pad_lr, W_pad_lr):\n",
    "            feats = F.interpolate(\n",
    "                feats.T.reshape(1, -1, H_patch, W_patch),\n",
    "                size=(H_pad_lr, W_pad_lr), mode='bilinear', align_corners=False\n",
    "            ).reshape(-1, H_pad_lr * W_pad_lr).T\n",
    "\n",
    "        ### Feature affinities\n",
    "        # print(\"Without normalizing, Features Shape is\",feats.shape)\n",
    "\n",
    "        W_feat_ds = (feats @ feats.T)\n",
    "        x0=feats\n",
    "        x0_arr=x0.cpu()\n",
    "        # print(x0_arr.shape)\n",
    "        x0_arr= pca.fit_transform(x0_arr)\n",
    "\n",
    "        # Define the affine transformation parameters\n",
    "        scale = np.random.uniform(0.8, 1.2)  # Random scaling factor between 0.8 and 1.2\n",
    "        translation = np.random.uniform(-10, 10, size=2)  # Random translation vector between -10 and 10 in both directions\n",
    "        rotation = np.random.uniform(-15, 15)  # Random rotation angle between -15 and 15 degrees\n",
    "        shear = np.random.uniform(-0.2, 0.2, size=2)  # Random shear factor between -0.2 and 0.2 in both directions\n",
    "\n",
    "        # Define the affine matrix\n",
    "        affine_matrix = np.array([[scale * np.cos(rotation), -shear[0] * scale * np.sin(rotation), translation[0]],\n",
    "                                  [shear[1] * scale * np.sin(rotation), scale * np.cos(rotation), translation[1]],\n",
    "                                  [0, 0, 1]])\n",
    "        x1_arr=affine_transform(x0_arr, affine_matrix)\n",
    "        x1_arr=pca.fit_transform(x1_arr)\n",
    "        x0 = torch.from_numpy(x0_arr).float()\n",
    "        x1 = torch.from_numpy(x1_arr).float()\n",
    "\n",
    "        # feat_list.append(feats)\n",
    "        feat_dataset_x0 = Feature_Dataset(x0)\n",
    "        if feats.shape[0]%2==0:\n",
    "            features_dataloader_x0 = DataLoader(feat_dataset_x0, batch_size=batch_size, shuffle=True)\n",
    "        else:\n",
    "            features_dataloader_x0 = DataLoader(feat_dataset_x0, batch_size=batch_size, shuffle=True, drop_last=True)\n",
    "\n",
    "        feat_dataset_x1 = Feature_Dataset(x1)\n",
    "        if feats.shape[0]%2==0:\n",
    "            features_dataloader_x1 = DataLoader(feat_dataset_x1, batch_size=batch_size, shuffle=True)\n",
    "        else:\n",
    "            features_dataloader_x1 = DataLoader(feat_dataset_x1, batch_size=batch_size, shuffle=True, drop_last=True)\n",
    "        model_simsiam = SimSiam()\n",
    "        device = \"cuda\" if torch.cuda.is_available() else \"cpu\"\n",
    "        model_simsiam.to(device)\n",
    "        criterion = NegativeCosineSimilarity()\n",
    "        optimizer = torch.optim.SGD(model_simsiam.parameters(), lr=0.06)\n",
    "        print(\"Starting Training\")\n",
    "        for epoch in range(epochs):\n",
    "            total_loss = 0\n",
    "            for x0,x1 in zip(features_dataloader_x0,features_dataloader_x1):\n",
    "            # for (x0), _, _ in features_dataloader:\n",
    "\n",
    "                x0 = x0.unsqueeze(0).to(device)\n",
    "                # print(\"After unsqueezing x0.shape=\", x0.shape )\n",
    "                x1 = x1.unsqueeze(0).to(device)\n",
    "                x0_new = x0.view(batch_size, 1, 128)\n",
    "                # print(\"After viewing x0 shape=\", x0_new.shape)\n",
    "                # print(\"x0.shape=\", x0.shape)\n",
    "                # x1 = x1.squeeze(0).to(device)\n",
    "                # x1 = torch.tensor(x1).view(batch_size, 1, 1,384)\n",
    "                x1_new = x1.view(batch_size, 1, 128)\n",
    "                # print(\"After viewing x1 shape=\", x1_new.shape)\n",
    "                z0, p0 = model_simsiam(x0_new, True)\n",
    "                # print(\"zo.shape\", z0.shape)\n",
    "                # print(\"p0.shape\", p0.shape)\n",
    "                z1, p1 = model_simsiam(x1_new, True)\n",
    "                loss = 0.5 * (criterion(z0, p1) + criterion(z1, p0))\n",
    "                total_loss += loss.detach()\n",
    "                loss.backward()\n",
    "                optimizer.step()\n",
    "                optimizer.zero_grad()\n",
    "            avg_loss = total_loss / len(features_dataloader_x0)\n",
    "            print(f\"epoch: {epoch:>02}, loss: {avg_loss:.5f}\")\n",
    "        x0=feats\n",
    "        x0_arr=x0.cpu()\n",
    "        x0_arr= pca.fit_transform(x0_arr)\n",
    "        x0 = torch.from_numpy(x0_arr).float()\n",
    "        x0=x0.unsqueeze(1).to(device)\n",
    "        # feats=feats.unsqueeze(1).to(device)\n",
    "        # feats=feats.unsqueeze(2).to(device)\n",
    "        print(\"After Unsqueezing, feature size=\", feats.shape)\n",
    "        proj_pred_feature=model_simsiam(x0, False)\n",
    "        projected_feature=proj_pred_feature[0]\n",
    "        projected_feature = projected_feature.squeeze().to(device)\n",
    "        print(\"type(projected_feature)\", type(projected_feature))\n",
    "        print(\"projected feature shape=\", projected_feature.shape)\n",
    "        W_feat_siam=torch.matmul(projected_feature, projected_feature.t())\n",
    "        W_feat=W_feat_ds + 0.1*W_feat_siam\n",
    "        # print(\"W_feat.shape=\", W_feat.shape)\n",
    "        # print(\"W_feat.shape=\", W_feat.shape)\n",
    "        # W_feat=contrastive_affinity(feats, feats.T)\n",
    "        if threshold_at_zero:\n",
    "            W_feat = (W_feat * (W_feat > 0))\n",
    "        W_feat = W_feat / W_feat.max()  # NOTE: If features are normalized, this naturally does nothing\n",
    "        # W_feat = W_feat.cpu().numpy()\n",
    "        W_feat = W_feat.detach().cpu().numpy()\n",
    "        # print(\"W_feat shape=\",W_feat.shape)\n",
    "\n",
    "        ### Color affinities\n",
    "        # If we are fusing with color affinites, then load the image and compute\n",
    "        if image_color_lambda > 0:\n",
    "\n",
    "            # Load image\n",
    "            image_file = str(Path(images_root) / f'{image_id}.jpg')\n",
    "            image_lr = Image.open(image_file).resize((W_pad_lr, H_pad_lr), Image.BILINEAR)\n",
    "            image_lr = np.array(image_lr) / 255.\n",
    "\n",
    "            # Color affinities (of type scipy.sparse.csr_matrix)\n",
    "            if which_color_matrix == 'knn':\n",
    "                W_lr = utils.knn_affinity(image_lr / 255)\n",
    "            elif which_color_matrix == 'rw':\n",
    "                W_lr = utils.rw_affinity(image_lr / 255)\n",
    "\n",
    "            # Convert to dense numpy array\n",
    "            W_color = np.array(W_lr.todense().astype(np.float32))\n",
    "            # print(\"W_color shape\", W_color.shape)\n",
    "\n",
    "        else:\n",
    "\n",
    "            # No color affinity\n",
    "            W_color = 0\n",
    "\n",
    "        # Combine\n",
    "        W_comb = W_feat + W_color * image_color_lambda  # combination\n",
    "        D_comb = np.array(utils.get_diagonal(W_comb).todense())  # is dense or sparse faster? not sure, should check\n",
    "        # print(\"W_comb shape= \", W_comb.shape, \"D_comb shape\",  D_comb.shape)\n",
    "        if lapnorm:\n",
    "            try:\n",
    "                eigenvalues, eigenvectors = eigsh(D_comb - W_comb, k=K, sigma=0, which='LM', M=D_comb)\n",
    "            except:\n",
    "                eigenvalues, eigenvectors = eigsh(D_comb - W_comb, k=K, which='SM', M=D_comb)\n",
    "        else:\n",
    "            try:\n",
    "                eigenvalues, eigenvectors = eigsh(D_comb - W_comb, k=K, sigma=0, which='LM')\n",
    "            except:\n",
    "                eigenvalues, eigenvectors = eigsh(D_comb - W_comb, k=K, which='SM')\n",
    "        eigenvalues, eigenvectors = torch.from_numpy(eigenvalues), torch.from_numpy(eigenvectors.T).float()\n",
    "    print(\"eigenvalues shape\", eigenvalues.shape, \"eigenvectors shape\", eigenvectors.shape)\n",
    "    # Sign ambiguity\n",
    "    for k in range(eigenvectors.shape[0]):\n",
    "        if 0.5 < torch.mean((eigenvectors[k] > 0).float()).item() < 1.0:  # reverse segment\n",
    "            eigenvectors[k] = 0 - eigenvectors[k]\n",
    "\n",
    "    # Save dict\n",
    "    output_dict = {'eigenvalues': eigenvalues, 'eigenvectors': eigenvectors}\n",
    "    torch.save(output_dict, output_file)"
   ]
  }
 ],
 "metadata": {
  "kernelspec": {
   "display_name": "Python 3 (ipykernel)",
   "language": "python",
   "name": "python3"
  },
  "language_info": {
   "codemirror_mode": {
    "name": "ipython",
    "version": 3
   },
   "file_extension": ".py",
   "mimetype": "text/x-python",
   "name": "python",
   "nbconvert_exporter": "python",
   "pygments_lexer": "ipython3",
   "version": "3.8.10"
  }
 },
 "nbformat": 4,
 "nbformat_minor": 1
}
