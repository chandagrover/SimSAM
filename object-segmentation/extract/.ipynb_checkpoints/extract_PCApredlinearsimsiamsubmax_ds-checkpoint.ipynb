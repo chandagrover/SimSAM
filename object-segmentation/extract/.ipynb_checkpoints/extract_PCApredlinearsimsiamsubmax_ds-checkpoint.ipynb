{
 "cells": [
  {
   "cell_type": "code",
   "execution_count": 1,
   "metadata": {
    "pycharm": {
     "name": "#%%\n"
    }
   },
   "outputs": [],
   "source": [
    "# from functools import partial\n",
    "from pathlib import Path\n",
    "# from typing import Optional, Tuple\n",
    "# import cv2\n",
    "# import fire\n",
    "import numpy as np\n",
    "import torch\n",
    "import torch.nn.functional as F\n",
    "from accelerate import Accelerator\n",
    "from PIL import Image\n",
    "from scipy.sparse.linalg import eigsh\n",
    "# from sklearn.cluster import KMeans, MiniBatchKMeans\n",
    "from sklearn.decomposition import PCA\n",
    "# from torchvision.utils import draw_bounding_boxes\n",
    "from tqdm import tqdm\n",
    "import extract_utils as utils\n",
    "from torch.utils.data import Dataset, DataLoader\n",
    "from lightly.loss import NegativeCosineSimilarity\n",
    "from lightly.models.modules import SimSiamPredictionHead, SimSiamProjectionHead\n",
    "from torch import nn\n",
    "import torchvision\n",
    "from scipy.ndimage import affine_transform"
   ]
  },
  {
   "cell_type": "markdown",
   "metadata": {
    "pycharm": {
     "name": "#%% md\n"
    }
   },
   "source": [
    "## Extract Eigen Vectors"
   ]
  },
  {
   "cell_type": "code",
   "execution_count": 2,
   "metadata": {
    "pycharm": {
     "name": "#%%\n"
    }
   },
   "outputs": [],
   "source": [
    "images_root=\"/home/phdcs2/Hard_Disk/Datasets/Deep-Spectral-Segmentation/data/object-segmentation/ECSSD/images\"\n",
    "features_dir=\"/home/phdcs2/Hard_Disk/Datasets/Deep-Spectral-Segmentation/data/object-segmentation/ECSSD/features/dino_vits16\"\n",
    "output_dir=\"/home/phdcs2/Hard_Disk/Datasets/Deep-Spectral-Segmentation/data/object-segmentation/ECSSD/eigs_dot1PCA64predsubmax_ds_10_color8\"\n",
    "which_matrix= 'laplacian'\n",
    "which_color_matrix= 'knn'\n",
    "which_features= 'k'\n",
    "normalize=True\n",
    "threshold_at_zero=True\n",
    "lapnorm= True\n",
    "K= 5\n",
    "image_downsample_factor = None\n",
    "image_color_lambda = 8.0\n",
    "multiprocessing = 0\n",
    "batch_size=2\n",
    "epochs=10"
   ]
  },
  {
   "cell_type": "markdown",
   "metadata": {
    "pycharm": {
     "name": "#%% md\n"
    }
   },
   "source": [
    "## Incorporating SimSiam"
   ]
  },
  {
   "cell_type": "code",
   "execution_count": 3,
   "metadata": {
    "pycharm": {
     "name": "#%%\n"
    }
   },
   "outputs": [],
   "source": [
    "# Define a custom dataset class\n",
    "class Feature_Dataset(Dataset):\n",
    "    def __init__(self, features):\n",
    "        self.features = features\n",
    "\n",
    "    def __getitem__(self, index):\n",
    "        return self.features[index]\n",
    "\n",
    "    def __len__(self):\n",
    "        return len(self.features)"
   ]
  },
  {
   "cell_type": "code",
   "execution_count": 4,
   "metadata": {
    "pycharm": {
     "name": "#%%\n"
    }
   },
   "outputs": [],
   "source": [
    "# class SimSiam(nn.Module):\n",
    "#     def __init__(self):\n",
    "#         super().__init__()\n",
    "#         self.projection_head = SimSiamProjectionHead(feats.shape[1], 128,feats.shape[1])\n",
    "#         self.prediction_head = SimSiamPredictionHead(feats.shape[1], 128, feats.shape[1])\n",
    "#\n",
    "#     def forward(self, x):\n",
    "#         z = self.projection_head(x)\n",
    "#         p = self.prediction_head(z)\n",
    "#         z = z.detach()\n",
    "#         return z, p"
   ]
  },
  {
   "cell_type": "code",
   "execution_count": 5,
   "metadata": {
    "pycharm": {
     "name": "#%%\n"
    }
   },
   "outputs": [],
   "source": [
    "# def normalize_affinity_matrix(affinity_matrix, axis=0):\n",
    "#     if axis == 1:\n",
    "#         # Normalize by row-wise sums\n",
    "#         row_sums = torch.sum(affinity_matrix, dim=1, keepdim=True)\n",
    "#         print(row_sums)\n",
    "#         normalized_matrix = affinity_matrix / row_sums\n",
    "#     elif axis == 0:\n",
    "#         # Normalize by column-wise sums\n",
    "#         col_sums = torch.sum(affinity_matrix, dim=0, keepdim=True)\n",
    "#         normalized_matrix = affinity_matrix / col_sums\n",
    "#     else:\n",
    "#         raise ValueError(\"Invalid axis. Axis must be either 0 or 1.\")\n",
    "\n",
    "#     return normalized_matrix"
   ]
  },
  {
   "cell_type": "code",
   "execution_count": null,
   "metadata": {
    "pycharm": {
     "is_executing": true,
     "name": "#%%\n"
    }
   },
   "outputs": [
    {
     "name": "stderr",
     "output_type": "stream",
     "text": [
      "  0%|          | 0/1000 [00:00<?, ?it/s]"
     ]
    },
    {
     "name": "stdout",
     "output_type": "stream",
     "text": [
      "0 /home/phdcs2/Hard_Disk/Datasets/Deep-Spectral-Segmentation/data/object-segmentation/ECSSD/features/dino_vits16/0001.pth\n",
      "dict_keys(['k', 'indices', 'file', 'id', 'model_name', 'patch_size', 'shape'])\n",
      "0001\n",
      "Starting Training\n",
      "epoch: 00, loss: -0.02229\n",
      "epoch: 01, loss: -0.04388\n",
      "epoch: 02, loss: -0.05058\n",
      "epoch: 03, loss: -0.04988\n",
      "epoch: 04, loss: -0.05158\n",
      "epoch: 05, loss: -0.05091\n",
      "epoch: 06, loss: -0.05237\n",
      "epoch: 07, loss: -0.05225\n",
      "epoch: 08, loss: -0.05124\n",
      "epoch: 09, loss: -0.05593\n",
      "torch.Size([400, 64])\n"
     ]
    },
    {
     "name": "stderr",
     "output_type": "stream",
     "text": [
      "  0%|          | 1/1000 [00:17<4:57:05, 17.84s/it]"
     ]
    },
    {
     "name": "stdout",
     "output_type": "stream",
     "text": [
      "eigenvalues shape torch.Size([5]) eigenvectors shape torch.Size([5, 400])\n",
      "1 /home/phdcs2/Hard_Disk/Datasets/Deep-Spectral-Segmentation/data/object-segmentation/ECSSD/features/dino_vits16/0002.pth\n",
      "dict_keys(['k', 'indices', 'file', 'id', 'model_name', 'patch_size', 'shape'])\n",
      "0002\n",
      "Starting Training\n",
      "epoch: 00, loss: -0.03009\n",
      "epoch: 01, loss: -0.05783\n",
      "epoch: 02, loss: -0.06140\n",
      "epoch: 03, loss: -0.06499\n",
      "epoch: 04, loss: -0.06399\n",
      "epoch: 05, loss: -0.06723\n",
      "epoch: 06, loss: -0.06845\n",
      "epoch: 07, loss: -0.06662\n",
      "epoch: 08, loss: -0.06787\n",
      "epoch: 09, loss: -0.06736\n",
      "torch.Size([400, 64])\n"
     ]
    },
    {
     "name": "stderr",
     "output_type": "stream",
     "text": [
      "/home/phdcs2/Hard_Disk/Projects/T2I/deep-spectral-segmentation/venv/lib/python3.8/site-packages/scipy/sparse/linalg/_eigen/arpack/arpack.py:935: LinAlgWarning: Diagonal number 400 is exactly zero. Singular matrix.\n",
      "  self.M_lu = lu_factor(M)\n"
     ]
    },
    {
     "name": "stdout",
     "output_type": "stream",
     "text": [
      " ** On entry to SLASCL parameter number  4 had an illegal value\n",
      " ** On entry to SLASCL parameter number  4 had an illegal value\n"
     ]
    },
    {
     "name": "stderr",
     "output_type": "stream",
     "text": [
      "  0%|          | 2/1000 [00:36<5:09:15, 18.59s/it]"
     ]
    },
    {
     "name": "stdout",
     "output_type": "stream",
     "text": [
      "eigenvalues shape torch.Size([5]) eigenvectors shape torch.Size([5, 400])\n",
      "2 /home/phdcs2/Hard_Disk/Datasets/Deep-Spectral-Segmentation/data/object-segmentation/ECSSD/features/dino_vits16/0003.pth\n",
      "dict_keys(['k', 'indices', 'file', 'id', 'model_name', 'patch_size', 'shape'])\n",
      "0003\n",
      "Starting Training\n",
      "epoch: 00, loss: -0.01479\n",
      "epoch: 01, loss: -0.03521\n",
      "epoch: 02, loss: -0.03861\n",
      "epoch: 03, loss: -0.03965\n",
      "epoch: 04, loss: -0.04003\n",
      "epoch: 05, loss: -0.04025\n",
      "epoch: 06, loss: -0.04037\n",
      "epoch: 07, loss: -0.04061\n",
      "epoch: 08, loss: -0.04082\n",
      "epoch: 09, loss: -0.04096\n",
      "torch.Size([400, 64])\n"
     ]
    },
    {
     "name": "stderr",
     "output_type": "stream",
     "text": [
      "  0%|          | 3/1000 [00:49<4:22:31, 15.80s/it]"
     ]
    },
    {
     "name": "stdout",
     "output_type": "stream",
     "text": [
      "eigenvalues shape torch.Size([5]) eigenvectors shape torch.Size([5, 400])\n",
      "3 /home/phdcs2/Hard_Disk/Datasets/Deep-Spectral-Segmentation/data/object-segmentation/ECSSD/features/dino_vits16/0004.pth\n",
      "dict_keys(['k', 'indices', 'file', 'id', 'model_name', 'patch_size', 'shape'])\n",
      "0004\n",
      "Starting Training\n",
      "epoch: 00, loss: -0.02684\n",
      "epoch: 01, loss: -0.05230\n",
      "epoch: 02, loss: -0.05384\n",
      "epoch: 03, loss: -0.05463\n",
      "epoch: 04, loss: -0.05490\n",
      "epoch: 05, loss: -0.05520\n",
      "epoch: 06, loss: -0.05530\n",
      "epoch: 07, loss: -0.05563\n",
      "epoch: 08, loss: -0.05555\n",
      "epoch: 09, loss: -0.05571\n",
      "torch.Size([400, 64])\n"
     ]
    },
    {
     "name": "stderr",
     "output_type": "stream",
     "text": [
      "  0%|          | 4/1000 [01:04<4:14:41, 15.34s/it]"
     ]
    },
    {
     "name": "stdout",
     "output_type": "stream",
     "text": [
      "eigenvalues shape torch.Size([5]) eigenvectors shape torch.Size([5, 400])\n",
      "4 /home/phdcs2/Hard_Disk/Datasets/Deep-Spectral-Segmentation/data/object-segmentation/ECSSD/features/dino_vits16/0005.pth\n",
      "dict_keys(['k', 'indices', 'file', 'id', 'model_name', 'patch_size', 'shape'])\n",
      "0005\n",
      "Starting Training\n",
      "epoch: 00, loss: -0.02108\n",
      "epoch: 01, loss: -0.03729\n",
      "epoch: 02, loss: -0.03920\n",
      "epoch: 03, loss: -0.04001\n",
      "epoch: 04, loss: -0.04059\n",
      "epoch: 05, loss: -0.04050\n",
      "epoch: 06, loss: -0.04090\n",
      "epoch: 07, loss: -0.04124\n",
      "epoch: 08, loss: -0.04108\n",
      "epoch: 09, loss: -0.04147\n",
      "torch.Size([400, 64])\n"
     ]
    },
    {
     "name": "stderr",
     "output_type": "stream",
     "text": [
      "  0%|          | 5/1000 [01:18<4:11:20, 15.16s/it]"
     ]
    },
    {
     "name": "stdout",
     "output_type": "stream",
     "text": [
      "eigenvalues shape torch.Size([5]) eigenvectors shape torch.Size([5, 400])\n",
      "5 /home/phdcs2/Hard_Disk/Datasets/Deep-Spectral-Segmentation/data/object-segmentation/ECSSD/features/dino_vits16/0006.pth\n",
      "dict_keys(['k', 'indices', 'file', 'id', 'model_name', 'patch_size', 'shape'])\n",
      "0006\n",
      "Starting Training\n",
      "epoch: 00, loss: -0.04596\n",
      "epoch: 01, loss: -0.07400\n",
      "epoch: 02, loss: -0.08001\n",
      "epoch: 03, loss: -0.08002\n",
      "epoch: 04, loss: -0.08524\n",
      "epoch: 05, loss: -0.08254\n",
      "epoch: 06, loss: -0.08219\n",
      "epoch: 07, loss: -0.08508\n",
      "epoch: 08, loss: -0.08247\n",
      "epoch: 09, loss: -0.08441\n",
      "torch.Size([400, 64])\n"
     ]
    },
    {
     "name": "stderr",
     "output_type": "stream",
     "text": [
      "  1%|          | 6/1000 [01:32<4:02:27, 14.64s/it]"
     ]
    },
    {
     "name": "stdout",
     "output_type": "stream",
     "text": [
      "eigenvalues shape torch.Size([5]) eigenvectors shape torch.Size([5, 400])\n",
      "6 /home/phdcs2/Hard_Disk/Datasets/Deep-Spectral-Segmentation/data/object-segmentation/ECSSD/features/dino_vits16/0007.pth\n",
      "dict_keys(['k', 'indices', 'file', 'id', 'model_name', 'patch_size', 'shape'])\n",
      "0007\n",
      "Starting Training\n",
      "epoch: 00, loss: -0.02447\n",
      "epoch: 01, loss: -0.04647\n",
      "epoch: 02, loss: -0.04841\n",
      "epoch: 03, loss: -0.04928\n",
      "epoch: 04, loss: -0.04935\n",
      "epoch: 05, loss: -0.04977\n",
      "epoch: 06, loss: -0.04969\n",
      "epoch: 07, loss: -0.04985\n",
      "epoch: 08, loss: -0.05008\n",
      "epoch: 09, loss: -0.05009\n",
      "torch.Size([400, 64])\n"
     ]
    },
    {
     "name": "stderr",
     "output_type": "stream",
     "text": [
      "  1%|          | 7/1000 [01:46<4:01:17, 14.58s/it]"
     ]
    },
    {
     "name": "stdout",
     "output_type": "stream",
     "text": [
      "eigenvalues shape torch.Size([5]) eigenvectors shape torch.Size([5, 400])\n",
      "7 /home/phdcs2/Hard_Disk/Datasets/Deep-Spectral-Segmentation/data/object-segmentation/ECSSD/features/dino_vits16/0008.pth\n",
      "dict_keys(['k', 'indices', 'file', 'id', 'model_name', 'patch_size', 'shape'])\n",
      "0008\n",
      "Starting Training\n",
      "epoch: 00, loss: 0.00181\n",
      "epoch: 01, loss: -0.01215\n",
      "epoch: 02, loss: -0.01714\n",
      "epoch: 03, loss: -0.01933\n",
      "epoch: 04, loss: -0.02025\n",
      "epoch: 05, loss: -0.02103\n",
      "epoch: 06, loss: -0.02128\n",
      "epoch: 07, loss: -0.02160\n",
      "epoch: 08, loss: -0.02174\n",
      "epoch: 09, loss: -0.02192\n",
      "torch.Size([400, 64])\n"
     ]
    },
    {
     "name": "stderr",
     "output_type": "stream",
     "text": [
      "  1%|          | 8/1000 [01:59<3:51:36, 14.01s/it]"
     ]
    },
    {
     "name": "stdout",
     "output_type": "stream",
     "text": [
      "eigenvalues shape torch.Size([5]) eigenvectors shape torch.Size([5, 400])\n",
      "8 /home/phdcs2/Hard_Disk/Datasets/Deep-Spectral-Segmentation/data/object-segmentation/ECSSD/features/dino_vits16/0009.pth\n",
      "dict_keys(['k', 'indices', 'file', 'id', 'model_name', 'patch_size', 'shape'])\n",
      "0009\n",
      "Starting Training\n",
      "epoch: 00, loss: -0.02409\n",
      "epoch: 01, loss: -0.06128\n",
      "epoch: 02, loss: -0.06826\n",
      "epoch: 03, loss: -0.07062\n",
      "epoch: 04, loss: -0.07286\n",
      "epoch: 05, loss: -0.07416\n",
      "epoch: 06, loss: -0.07198\n",
      "epoch: 07, loss: -0.07256\n",
      "epoch: 08, loss: -0.07375\n",
      "epoch: 09, loss: -0.07617\n",
      "torch.Size([400, 64])\n"
     ]
    },
    {
     "name": "stderr",
     "output_type": "stream",
     "text": [
      "  1%|          | 9/1000 [02:16<4:03:20, 14.73s/it]"
     ]
    },
    {
     "name": "stdout",
     "output_type": "stream",
     "text": [
      "eigenvalues shape torch.Size([5]) eigenvectors shape torch.Size([5, 400])\n",
      "9 /home/phdcs2/Hard_Disk/Datasets/Deep-Spectral-Segmentation/data/object-segmentation/ECSSD/features/dino_vits16/0010.pth\n",
      "dict_keys(['k', 'indices', 'file', 'id', 'model_name', 'patch_size', 'shape'])\n",
      "0010\n",
      "Starting Training\n",
      "epoch: 00, loss: -0.01870\n",
      "epoch: 01, loss: -0.04633\n",
      "epoch: 02, loss: -0.05365\n",
      "epoch: 03, loss: -0.05076\n",
      "epoch: 04, loss: -0.05113\n",
      "epoch: 05, loss: -0.05501\n",
      "epoch: 06, loss: -0.05494\n",
      "epoch: 07, loss: -0.05373\n",
      "epoch: 08, loss: -0.05694\n",
      "epoch: 09, loss: -0.05588\n",
      "torch.Size([400, 64])\n"
     ]
    },
    {
     "name": "stderr",
     "output_type": "stream",
     "text": [
      "  1%|          | 10/1000 [02:26<3:42:33, 13.49s/it]"
     ]
    },
    {
     "name": "stdout",
     "output_type": "stream",
     "text": [
      "eigenvalues shape torch.Size([5]) eigenvectors shape torch.Size([5, 400])\n",
      "10 /home/phdcs2/Hard_Disk/Datasets/Deep-Spectral-Segmentation/data/object-segmentation/ECSSD/features/dino_vits16/0011.pth\n",
      "dict_keys(['k', 'indices', 'file', 'id', 'model_name', 'patch_size', 'shape'])\n",
      "0011\n",
      "Starting Training\n",
      "epoch: 00, loss: -0.04580\n",
      "epoch: 01, loss: -0.08030\n",
      "epoch: 02, loss: -0.08180\n",
      "epoch: 03, loss: -0.08343\n",
      "epoch: 04, loss: -0.08462\n",
      "epoch: 05, loss: -0.08574\n",
      "epoch: 06, loss: -0.08437\n",
      "epoch: 07, loss: -0.08665\n",
      "epoch: 08, loss: -0.08765\n",
      "epoch: 09, loss: -0.08922\n",
      "torch.Size([400, 64])\n"
     ]
    },
    {
     "name": "stderr",
     "output_type": "stream",
     "text": [
      "  1%|          | 11/1000 [02:41<3:47:20, 13.79s/it]"
     ]
    },
    {
     "name": "stdout",
     "output_type": "stream",
     "text": [
      "eigenvalues shape torch.Size([5]) eigenvectors shape torch.Size([5, 400])\n",
      "11 /home/phdcs2/Hard_Disk/Datasets/Deep-Spectral-Segmentation/data/object-segmentation/ECSSD/features/dino_vits16/0012.pth\n",
      "dict_keys(['k', 'indices', 'file', 'id', 'model_name', 'patch_size', 'shape'])\n",
      "0012\n",
      "Starting Training\n",
      "epoch: 00, loss: -0.02056\n",
      "epoch: 01, loss: -0.04499\n",
      "epoch: 02, loss: -0.04836\n",
      "epoch: 03, loss: -0.04893\n",
      "epoch: 04, loss: -0.04922\n",
      "epoch: 05, loss: -0.04950\n",
      "epoch: 06, loss: -0.04974\n",
      "epoch: 07, loss: -0.05005\n",
      "epoch: 08, loss: -0.05018\n",
      "epoch: 09, loss: -0.05037\n",
      "torch.Size([400, 64])\n"
     ]
    },
    {
     "name": "stderr",
     "output_type": "stream",
     "text": [
      "  1%|          | 12/1000 [02:55<3:48:37, 13.88s/it]"
     ]
    },
    {
     "name": "stdout",
     "output_type": "stream",
     "text": [
      "eigenvalues shape torch.Size([5]) eigenvectors shape torch.Size([5, 400])\n",
      "12 /home/phdcs2/Hard_Disk/Datasets/Deep-Spectral-Segmentation/data/object-segmentation/ECSSD/features/dino_vits16/0013.pth\n",
      "dict_keys(['k', 'indices', 'file', 'id', 'model_name', 'patch_size', 'shape'])\n",
      "0013\n",
      "Starting Training\n",
      "epoch: 00, loss: -0.00973\n",
      "epoch: 01, loss: -0.02595\n",
      "epoch: 02, loss: -0.03012\n",
      "epoch: 03, loss: -0.03148\n",
      "epoch: 04, loss: -0.03179\n",
      "epoch: 05, loss: -0.03230\n",
      "epoch: 06, loss: -0.03234\n",
      "epoch: 07, loss: -0.03272\n",
      "epoch: 08, loss: -0.03278\n",
      "epoch: 09, loss: -0.03295\n",
      "torch.Size([400, 64])\n"
     ]
    },
    {
     "name": "stderr",
     "output_type": "stream",
     "text": [
      "  1%|▏         | 13/1000 [03:11<3:58:27, 14.50s/it]"
     ]
    },
    {
     "name": "stdout",
     "output_type": "stream",
     "text": [
      "eigenvalues shape torch.Size([5]) eigenvectors shape torch.Size([5, 400])\n",
      "13 /home/phdcs2/Hard_Disk/Datasets/Deep-Spectral-Segmentation/data/object-segmentation/ECSSD/features/dino_vits16/0014.pth\n",
      "dict_keys(['k', 'indices', 'file', 'id', 'model_name', 'patch_size', 'shape'])\n",
      "0014\n",
      "Starting Training\n",
      "epoch: 00, loss: 0.00627\n",
      "epoch: 01, loss: -0.00392\n",
      "epoch: 02, loss: -0.00805\n",
      "epoch: 03, loss: -0.01006\n",
      "epoch: 04, loss: -0.01143\n",
      "epoch: 05, loss: -0.01220\n",
      "epoch: 06, loss: -0.01272\n",
      "epoch: 07, loss: -0.01316\n",
      "epoch: 08, loss: -0.01354\n",
      "epoch: 09, loss: -0.01367\n",
      "torch.Size([400, 64])\n"
     ]
    },
    {
     "name": "stderr",
     "output_type": "stream",
     "text": [
      "  1%|▏         | 14/1000 [03:28<4:12:32, 15.37s/it]"
     ]
    },
    {
     "name": "stdout",
     "output_type": "stream",
     "text": [
      "eigenvalues shape torch.Size([5]) eigenvectors shape torch.Size([5, 400])\n",
      "14 /home/phdcs2/Hard_Disk/Datasets/Deep-Spectral-Segmentation/data/object-segmentation/ECSSD/features/dino_vits16/0015.pth\n",
      "dict_keys(['k', 'indices', 'file', 'id', 'model_name', 'patch_size', 'shape'])\n",
      "0015\n",
      "Starting Training\n",
      "epoch: 00, loss: -0.02027\n",
      "epoch: 01, loss: -0.04369\n",
      "epoch: 02, loss: -0.04675\n",
      "epoch: 03, loss: -0.04732\n",
      "epoch: 04, loss: -0.04788\n",
      "epoch: 05, loss: -0.04799\n",
      "epoch: 06, loss: -0.04817\n",
      "epoch: 07, loss: -0.04814\n",
      "epoch: 08, loss: -0.04856\n",
      "epoch: 09, loss: -0.04858\n",
      "torch.Size([400, 64])\n"
     ]
    },
    {
     "name": "stderr",
     "output_type": "stream",
     "text": [
      "  2%|▏         | 15/1000 [03:47<4:27:19, 16.28s/it]"
     ]
    },
    {
     "name": "stdout",
     "output_type": "stream",
     "text": [
      "eigenvalues shape torch.Size([5]) eigenvectors shape torch.Size([5, 400])\n",
      "15 /home/phdcs2/Hard_Disk/Datasets/Deep-Spectral-Segmentation/data/object-segmentation/ECSSD/features/dino_vits16/0016.pth\n",
      "dict_keys(['k', 'indices', 'file', 'id', 'model_name', 'patch_size', 'shape'])\n",
      "0016\n",
      "Starting Training\n",
      "epoch: 00, loss: -0.00520\n",
      "epoch: 01, loss: -0.02098\n",
      "epoch: 02, loss: -0.02493\n",
      "epoch: 03, loss: -0.02665\n",
      "epoch: 04, loss: -0.02713\n",
      "epoch: 05, loss: -0.02759\n",
      "epoch: 06, loss: -0.02789\n",
      "epoch: 07, loss: -0.02819\n",
      "epoch: 08, loss: -0.02831\n",
      "epoch: 09, loss: -0.02844\n",
      "torch.Size([400, 64])\n"
     ]
    },
    {
     "name": "stderr",
     "output_type": "stream",
     "text": [
      "  2%|▏         | 16/1000 [04:08<4:52:33, 17.84s/it]"
     ]
    },
    {
     "name": "stdout",
     "output_type": "stream",
     "text": [
      "eigenvalues shape torch.Size([5]) eigenvectors shape torch.Size([5, 400])\n",
      "16 /home/phdcs2/Hard_Disk/Datasets/Deep-Spectral-Segmentation/data/object-segmentation/ECSSD/features/dino_vits16/0017.pth\n",
      "dict_keys(['k', 'indices', 'file', 'id', 'model_name', 'patch_size', 'shape'])\n",
      "0017\n",
      "Starting Training\n",
      "epoch: 00, loss: -0.00791\n",
      "epoch: 01, loss: -0.02868\n",
      "epoch: 02, loss: -0.03195\n",
      "epoch: 03, loss: -0.03298\n",
      "epoch: 04, loss: -0.03463\n",
      "epoch: 05, loss: -0.03628\n",
      "epoch: 06, loss: -0.03720\n",
      "epoch: 07, loss: -0.03769\n",
      "epoch: 08, loss: -0.03762\n",
      "epoch: 09, loss: -0.03677\n",
      "torch.Size([400, 64])\n"
     ]
    },
    {
     "name": "stderr",
     "output_type": "stream",
     "text": [
      "  2%|▏         | 17/1000 [04:29<5:08:14, 18.81s/it]"
     ]
    },
    {
     "name": "stdout",
     "output_type": "stream",
     "text": [
      "eigenvalues shape torch.Size([5]) eigenvectors shape torch.Size([5, 400])\n",
      "17 /home/phdcs2/Hard_Disk/Datasets/Deep-Spectral-Segmentation/data/object-segmentation/ECSSD/features/dino_vits16/0018.pth\n",
      "dict_keys(['k', 'indices', 'file', 'id', 'model_name', 'patch_size', 'shape'])\n",
      "0018\n",
      "Starting Training\n",
      "epoch: 00, loss: -0.05324\n",
      "epoch: 01, loss: -0.07901\n",
      "epoch: 02, loss: -0.08287\n",
      "epoch: 03, loss: -0.08486\n",
      "epoch: 04, loss: -0.08750\n",
      "epoch: 05, loss: -0.08610\n",
      "epoch: 06, loss: -0.08569\n",
      "epoch: 07, loss: -0.08560\n",
      "epoch: 08, loss: -0.08666\n",
      "epoch: 09, loss: -0.08719\n",
      "torch.Size([400, 64])\n"
     ]
    },
    {
     "name": "stderr",
     "output_type": "stream",
     "text": [
      "  2%|▏         | 18/1000 [04:51<5:21:25, 19.64s/it]"
     ]
    },
    {
     "name": "stdout",
     "output_type": "stream",
     "text": [
      "eigenvalues shape torch.Size([5]) eigenvectors shape torch.Size([5, 400])\n",
      "18 /home/phdcs2/Hard_Disk/Datasets/Deep-Spectral-Segmentation/data/object-segmentation/ECSSD/features/dino_vits16/0019.pth\n",
      "dict_keys(['k', 'indices', 'file', 'id', 'model_name', 'patch_size', 'shape'])\n",
      "0019\n",
      "Starting Training\n",
      "epoch: 00, loss: -0.02416\n",
      "epoch: 01, loss: -0.04640\n",
      "epoch: 02, loss: -0.04803\n",
      "epoch: 03, loss: -0.04850\n",
      "epoch: 04, loss: -0.04894\n",
      "epoch: 05, loss: -0.04901\n",
      "epoch: 06, loss: -0.04929\n",
      "epoch: 07, loss: -0.04948\n",
      "epoch: 08, loss: -0.04954\n",
      "epoch: 09, loss: -0.04972\n",
      "torch.Size([400, 64])\n"
     ]
    },
    {
     "name": "stderr",
     "output_type": "stream",
     "text": [
      "  2%|▏         | 19/1000 [05:09<5:15:36, 19.30s/it]"
     ]
    },
    {
     "name": "stdout",
     "output_type": "stream",
     "text": [
      "eigenvalues shape torch.Size([5]) eigenvectors shape torch.Size([5, 400])\n",
      "19 /home/phdcs2/Hard_Disk/Datasets/Deep-Spectral-Segmentation/data/object-segmentation/ECSSD/features/dino_vits16/0020.pth\n",
      "dict_keys(['k', 'indices', 'file', 'id', 'model_name', 'patch_size', 'shape'])\n",
      "0020\n",
      "Starting Training\n",
      "epoch: 00, loss: -0.04486\n",
      "epoch: 01, loss: -0.06220\n",
      "epoch: 02, loss: -0.06291\n",
      "epoch: 03, loss: -0.06350\n",
      "epoch: 04, loss: -0.06378\n",
      "epoch: 05, loss: -0.06368\n",
      "epoch: 06, loss: -0.06396\n",
      "epoch: 07, loss: -0.06419\n",
      "epoch: 08, loss: -0.06425\n",
      "epoch: 09, loss: -0.06431\n",
      "torch.Size([400, 64])\n"
     ]
    },
    {
     "name": "stderr",
     "output_type": "stream",
     "text": [
      "  2%|▏         | 20/1000 [05:27<5:07:56, 18.85s/it]"
     ]
    },
    {
     "name": "stdout",
     "output_type": "stream",
     "text": [
      "eigenvalues shape torch.Size([5]) eigenvectors shape torch.Size([5, 400])\n",
      "20 /home/phdcs2/Hard_Disk/Datasets/Deep-Spectral-Segmentation/data/object-segmentation/ECSSD/features/dino_vits16/0021.pth\n",
      "dict_keys(['k', 'indices', 'file', 'id', 'model_name', 'patch_size', 'shape'])\n",
      "0021\n",
      "Starting Training\n",
      "epoch: 00, loss: -0.05952\n",
      "epoch: 01, loss: -0.08203\n",
      "epoch: 02, loss: -0.08225\n",
      "epoch: 03, loss: -0.08298\n",
      "epoch: 04, loss: -0.08293\n",
      "epoch: 05, loss: -0.08302\n",
      "epoch: 06, loss: -0.08326\n",
      "epoch: 07, loss: -0.08348\n",
      "epoch: 08, loss: -0.08352\n",
      "epoch: 09, loss: -0.08354\n",
      "torch.Size([400, 64])\n"
     ]
    },
    {
     "name": "stderr",
     "output_type": "stream",
     "text": [
      "  2%|▏         | 21/1000 [05:48<5:19:59, 19.61s/it]"
     ]
    },
    {
     "name": "stdout",
     "output_type": "stream",
     "text": [
      "eigenvalues shape torch.Size([5]) eigenvectors shape torch.Size([5, 400])\n",
      "21 /home/phdcs2/Hard_Disk/Datasets/Deep-Spectral-Segmentation/data/object-segmentation/ECSSD/features/dino_vits16/0022.pth\n",
      "dict_keys(['k', 'indices', 'file', 'id', 'model_name', 'patch_size', 'shape'])\n",
      "0022\n",
      "Starting Training\n",
      "epoch: 00, loss: -0.02478\n",
      "epoch: 01, loss: -0.04674\n",
      "epoch: 02, loss: -0.04925\n",
      "epoch: 03, loss: -0.04963\n",
      "epoch: 04, loss: -0.04994\n",
      "epoch: 05, loss: -0.05016\n",
      "epoch: 06, loss: -0.05037\n",
      "epoch: 07, loss: -0.05053\n",
      "epoch: 08, loss: -0.05065\n",
      "epoch: 09, loss: -0.05070\n",
      "torch.Size([400, 64])\n"
     ]
    },
    {
     "name": "stderr",
     "output_type": "stream",
     "text": [
      "  2%|▏         | 22/1000 [06:07<5:14:08, 19.27s/it]"
     ]
    },
    {
     "name": "stdout",
     "output_type": "stream",
     "text": [
      "eigenvalues shape torch.Size([5]) eigenvectors shape torch.Size([5, 400])\n",
      "22 /home/phdcs2/Hard_Disk/Datasets/Deep-Spectral-Segmentation/data/object-segmentation/ECSSD/features/dino_vits16/0023.pth\n",
      "dict_keys(['k', 'indices', 'file', 'id', 'model_name', 'patch_size', 'shape'])\n",
      "0023\n",
      "Starting Training\n",
      "epoch: 00, loss: -0.04819\n",
      "epoch: 01, loss: -0.08068\n",
      "epoch: 02, loss: -0.08570\n",
      "epoch: 03, loss: -0.08543\n",
      "epoch: 04, loss: -0.08746\n",
      "epoch: 05, loss: -0.08653\n",
      "epoch: 06, loss: -0.08704\n",
      "epoch: 07, loss: -0.08793\n",
      "epoch: 08, loss: -0.08876\n",
      "epoch: 09, loss: -0.08752\n",
      "torch.Size([400, 64])\n"
     ]
    },
    {
     "name": "stderr",
     "output_type": "stream",
     "text": [
      "  2%|▏         | 23/1000 [06:27<5:15:41, 19.39s/it]"
     ]
    },
    {
     "name": "stdout",
     "output_type": "stream",
     "text": [
      "eigenvalues shape torch.Size([5]) eigenvectors shape torch.Size([5, 400])\n",
      "23 /home/phdcs2/Hard_Disk/Datasets/Deep-Spectral-Segmentation/data/object-segmentation/ECSSD/features/dino_vits16/0024.pth\n",
      "dict_keys(['k', 'indices', 'file', 'id', 'model_name', 'patch_size', 'shape'])\n",
      "0024\n",
      "Starting Training\n",
      "epoch: 00, loss: -0.06417\n",
      "epoch: 01, loss: -0.09296\n",
      "epoch: 02, loss: -0.09826\n",
      "epoch: 03, loss: -0.10020\n",
      "epoch: 04, loss: -0.10170\n",
      "epoch: 05, loss: -0.10321\n",
      "epoch: 06, loss: -0.10279\n",
      "epoch: 07, loss: -0.10334\n",
      "epoch: 08, loss: -0.10257\n",
      "epoch: 09, loss: -0.10110\n",
      "torch.Size([400, 64])\n"
     ]
    },
    {
     "name": "stderr",
     "output_type": "stream",
     "text": [
      "  2%|▏         | 24/1000 [06:44<5:06:43, 18.86s/it]"
     ]
    },
    {
     "name": "stdout",
     "output_type": "stream",
     "text": [
      "eigenvalues shape torch.Size([5]) eigenvectors shape torch.Size([5, 400])\n",
      "24 /home/phdcs2/Hard_Disk/Datasets/Deep-Spectral-Segmentation/data/object-segmentation/ECSSD/features/dino_vits16/0025.pth\n",
      "dict_keys(['k', 'indices', 'file', 'id', 'model_name', 'patch_size', 'shape'])\n",
      "0025\n",
      "Starting Training\n",
      "epoch: 00, loss: -0.07105\n",
      "epoch: 01, loss: -0.09213\n",
      "epoch: 02, loss: -0.09819\n",
      "epoch: 03, loss: -0.10313\n",
      "epoch: 04, loss: -0.10036\n",
      "epoch: 05, loss: -0.09975\n",
      "epoch: 06, loss: -0.10392\n",
      "epoch: 07, loss: -0.10375\n",
      "epoch: 08, loss: -0.10526\n",
      "epoch: 09, loss: -0.10382\n",
      "torch.Size([400, 64])\n"
     ]
    },
    {
     "name": "stderr",
     "output_type": "stream",
     "text": [
      "  2%|▎         | 25/1000 [07:05<5:17:59, 19.57s/it]"
     ]
    },
    {
     "name": "stdout",
     "output_type": "stream",
     "text": [
      "eigenvalues shape torch.Size([5]) eigenvectors shape torch.Size([5, 400])\n",
      "25 /home/phdcs2/Hard_Disk/Datasets/Deep-Spectral-Segmentation/data/object-segmentation/ECSSD/features/dino_vits16/0026.pth\n",
      "dict_keys(['k', 'indices', 'file', 'id', 'model_name', 'patch_size', 'shape'])\n",
      "0026\n",
      "Starting Training\n",
      "epoch: 00, loss: -0.07592\n",
      "epoch: 01, loss: -0.10986\n",
      "epoch: 02, loss: -0.11346\n",
      "epoch: 03, loss: -0.11522\n",
      "epoch: 04, loss: -0.11571\n",
      "epoch: 05, loss: -0.11612\n",
      "epoch: 06, loss: -0.11546\n",
      "epoch: 07, loss: -0.11904\n",
      "epoch: 08, loss: -0.11987\n",
      "epoch: 09, loss: -0.11910\n",
      "torch.Size([400, 64])\n"
     ]
    },
    {
     "name": "stderr",
     "output_type": "stream",
     "text": [
      "  3%|▎         | 26/1000 [07:26<5:24:00, 19.96s/it]"
     ]
    },
    {
     "name": "stdout",
     "output_type": "stream",
     "text": [
      "eigenvalues shape torch.Size([5]) eigenvectors shape torch.Size([5, 400])\n",
      "26 /home/phdcs2/Hard_Disk/Datasets/Deep-Spectral-Segmentation/data/object-segmentation/ECSSD/features/dino_vits16/0027.pth\n",
      "dict_keys(['k', 'indices', 'file', 'id', 'model_name', 'patch_size', 'shape'])\n",
      "0027\n",
      "Starting Training\n",
      "epoch: 00, loss: -0.02221\n",
      "epoch: 01, loss: -0.04293\n",
      "epoch: 02, loss: -0.04160\n",
      "epoch: 03, loss: -0.04865\n",
      "epoch: 04, loss: -0.04730\n",
      "epoch: 05, loss: -0.04516\n",
      "epoch: 06, loss: -0.04555\n",
      "epoch: 07, loss: -0.04796\n",
      "epoch: 08, loss: -0.04762\n",
      "epoch: 09, loss: -0.04691\n",
      "torch.Size([400, 64])\n"
     ]
    },
    {
     "name": "stderr",
     "output_type": "stream",
     "text": [
      "  3%|▎         | 27/1000 [07:43<5:07:16, 18.95s/it]"
     ]
    },
    {
     "name": "stdout",
     "output_type": "stream",
     "text": [
      "eigenvalues shape torch.Size([5]) eigenvectors shape torch.Size([5, 400])\n",
      "27 /home/phdcs2/Hard_Disk/Datasets/Deep-Spectral-Segmentation/data/object-segmentation/ECSSD/features/dino_vits16/0028.pth\n",
      "dict_keys(['k', 'indices', 'file', 'id', 'model_name', 'patch_size', 'shape'])\n",
      "0028\n",
      "Starting Training\n",
      "epoch: 00, loss: -0.02969\n",
      "epoch: 01, loss: -0.04996\n",
      "epoch: 02, loss: -0.05202\n",
      "epoch: 03, loss: -0.05265\n",
      "epoch: 04, loss: -0.05300\n",
      "epoch: 05, loss: -0.05345\n",
      "epoch: 06, loss: -0.05348\n",
      "epoch: 07, loss: -0.05384\n",
      "epoch: 08, loss: -0.05370\n",
      "epoch: 09, loss: -0.05396\n",
      "torch.Size([400, 64])\n"
     ]
    },
    {
     "name": "stderr",
     "output_type": "stream",
     "text": [
      "  3%|▎         | 28/1000 [08:04<5:16:10, 19.52s/it]"
     ]
    },
    {
     "name": "stdout",
     "output_type": "stream",
     "text": [
      "eigenvalues shape torch.Size([5]) eigenvectors shape torch.Size([5, 400])\n",
      "28 /home/phdcs2/Hard_Disk/Datasets/Deep-Spectral-Segmentation/data/object-segmentation/ECSSD/features/dino_vits16/0029.pth\n",
      "dict_keys(['k', 'indices', 'file', 'id', 'model_name', 'patch_size', 'shape'])\n",
      "0029\n",
      "Starting Training\n",
      "epoch: 00, loss: -0.00873\n",
      "epoch: 01, loss: -0.02727\n",
      "epoch: 02, loss: -0.03089\n",
      "epoch: 03, loss: -0.03187\n",
      "epoch: 04, loss: -0.03257\n",
      "epoch: 05, loss: -0.03288\n",
      "epoch: 06, loss: -0.03310\n",
      "epoch: 07, loss: -0.03317\n",
      "epoch: 08, loss: -0.03332\n",
      "epoch: 09, loss: -0.03347\n",
      "torch.Size([400, 64])\n"
     ]
    },
    {
     "name": "stderr",
     "output_type": "stream",
     "text": [
      "  3%|▎         | 29/1000 [08:23<5:13:45, 19.39s/it]"
     ]
    },
    {
     "name": "stdout",
     "output_type": "stream",
     "text": [
      "eigenvalues shape torch.Size([5]) eigenvectors shape torch.Size([5, 400])\n",
      "29 /home/phdcs2/Hard_Disk/Datasets/Deep-Spectral-Segmentation/data/object-segmentation/ECSSD/features/dino_vits16/0030.pth\n",
      "dict_keys(['k', 'indices', 'file', 'id', 'model_name', 'patch_size', 'shape'])\n",
      "0030\n",
      "Starting Training\n",
      "epoch: 00, loss: -0.06280\n",
      "epoch: 01, loss: -0.09520\n",
      "epoch: 02, loss: -0.09900\n",
      "epoch: 03, loss: -0.09902\n",
      "epoch: 04, loss: -0.10102\n",
      "epoch: 05, loss: -0.10123\n",
      "epoch: 06, loss: -0.10316\n",
      "epoch: 07, loss: -0.10387\n",
      "epoch: 08, loss: -0.10206\n",
      "epoch: 09, loss: -0.10430\n",
      "torch.Size([400, 64])\n"
     ]
    },
    {
     "name": "stderr",
     "output_type": "stream",
     "text": [
      "  3%|▎         | 30/1000 [08:45<5:25:01, 20.10s/it]"
     ]
    },
    {
     "name": "stdout",
     "output_type": "stream",
     "text": [
      "eigenvalues shape torch.Size([5]) eigenvectors shape torch.Size([5, 400])\n",
      "30 /home/phdcs2/Hard_Disk/Datasets/Deep-Spectral-Segmentation/data/object-segmentation/ECSSD/features/dino_vits16/0031.pth\n",
      "dict_keys(['k', 'indices', 'file', 'id', 'model_name', 'patch_size', 'shape'])\n",
      "0031\n",
      "Starting Training\n",
      "epoch: 00, loss: -0.00710\n",
      "epoch: 01, loss: -0.02771\n",
      "epoch: 02, loss: -0.03195\n",
      "epoch: 03, loss: -0.03872\n",
      "epoch: 04, loss: -0.03975\n",
      "epoch: 05, loss: -0.04030\n",
      "epoch: 06, loss: -0.04283\n",
      "epoch: 07, loss: -0.04312\n",
      "epoch: 08, loss: -0.03829\n",
      "epoch: 09, loss: -0.04027\n",
      "torch.Size([400, 64])\n"
     ]
    },
    {
     "name": "stderr",
     "output_type": "stream",
     "text": [
      "  3%|▎         | 31/1000 [09:07<5:34:44, 20.73s/it]"
     ]
    },
    {
     "name": "stdout",
     "output_type": "stream",
     "text": [
      "eigenvalues shape torch.Size([5]) eigenvectors shape torch.Size([5, 400])\n",
      "31 /home/phdcs2/Hard_Disk/Datasets/Deep-Spectral-Segmentation/data/object-segmentation/ECSSD/features/dino_vits16/0032.pth\n",
      "dict_keys(['k', 'indices', 'file', 'id', 'model_name', 'patch_size', 'shape'])\n",
      "0032\n",
      "Starting Training\n",
      "epoch: 00, loss: -0.01941\n",
      "epoch: 01, loss: -0.04462\n",
      "epoch: 02, loss: -0.04827\n",
      "epoch: 03, loss: -0.04891\n",
      "epoch: 04, loss: -0.04966\n",
      "epoch: 05, loss: -0.04962\n",
      "epoch: 06, loss: -0.05010\n",
      "epoch: 07, loss: -0.04952\n",
      "epoch: 08, loss: -0.05006\n",
      "epoch: 09, loss: -0.05026\n",
      "torch.Size([400, 64])\n"
     ]
    },
    {
     "name": "stderr",
     "output_type": "stream",
     "text": [
      "  3%|▎         | 32/1000 [09:26<5:28:55, 20.39s/it]"
     ]
    },
    {
     "name": "stdout",
     "output_type": "stream",
     "text": [
      "eigenvalues shape torch.Size([5]) eigenvectors shape torch.Size([5, 400])\n",
      "32 /home/phdcs2/Hard_Disk/Datasets/Deep-Spectral-Segmentation/data/object-segmentation/ECSSD/features/dino_vits16/0033.pth\n",
      "dict_keys(['k', 'indices', 'file', 'id', 'model_name', 'patch_size', 'shape'])\n",
      "0033\n",
      "Starting Training\n",
      "epoch: 00, loss: -0.00229\n",
      "epoch: 01, loss: -0.01921\n",
      "epoch: 02, loss: -0.02439\n",
      "epoch: 03, loss: -0.02628\n",
      "epoch: 04, loss: -0.02721\n",
      "epoch: 05, loss: -0.02754\n",
      "epoch: 06, loss: -0.02767\n",
      "epoch: 07, loss: -0.02795\n",
      "epoch: 08, loss: -0.02813\n",
      "epoch: 09, loss: -0.02824\n",
      "torch.Size([400, 64])\n"
     ]
    },
    {
     "name": "stderr",
     "output_type": "stream",
     "text": [
      "  3%|▎         | 33/1000 [09:47<5:30:22, 20.50s/it]"
     ]
    },
    {
     "name": "stdout",
     "output_type": "stream",
     "text": [
      "eigenvalues shape torch.Size([5]) eigenvectors shape torch.Size([5, 400])\n",
      "33 /home/phdcs2/Hard_Disk/Datasets/Deep-Spectral-Segmentation/data/object-segmentation/ECSSD/features/dino_vits16/0034.pth\n",
      "dict_keys(['k', 'indices', 'file', 'id', 'model_name', 'patch_size', 'shape'])\n",
      "0034\n",
      "Starting Training\n",
      "epoch: 00, loss: -0.02791\n",
      "epoch: 01, loss: -0.06049\n",
      "epoch: 02, loss: -0.06629\n",
      "epoch: 03, loss: -0.06698\n",
      "epoch: 04, loss: -0.07091\n",
      "epoch: 05, loss: -0.06965\n",
      "epoch: 06, loss: -0.07260\n",
      "epoch: 07, loss: -0.07401\n",
      "epoch: 08, loss: -0.07189\n",
      "epoch: 09, loss: -0.07329\n",
      "torch.Size([400, 64])\n"
     ]
    },
    {
     "name": "stderr",
     "output_type": "stream",
     "text": [
      "  3%|▎         | 34/1000 [10:04<5:10:44, 19.30s/it]"
     ]
    },
    {
     "name": "stdout",
     "output_type": "stream",
     "text": [
      "eigenvalues shape torch.Size([5]) eigenvectors shape torch.Size([5, 400])\n",
      "34 /home/phdcs2/Hard_Disk/Datasets/Deep-Spectral-Segmentation/data/object-segmentation/ECSSD/features/dino_vits16/0035.pth\n",
      "dict_keys(['k', 'indices', 'file', 'id', 'model_name', 'patch_size', 'shape'])\n",
      "0035\n",
      "Starting Training\n",
      "epoch: 00, loss: -0.07078\n",
      "epoch: 01, loss: -0.10698\n",
      "epoch: 02, loss: -0.10903\n",
      "epoch: 03, loss: -0.11357\n",
      "epoch: 04, loss: -0.11436\n",
      "epoch: 05, loss: -0.11739\n",
      "epoch: 06, loss: -0.11687\n",
      "epoch: 07, loss: -0.11633\n",
      "epoch: 08, loss: -0.11527\n",
      "epoch: 09, loss: -0.11730\n",
      "torch.Size([400, 64])\n"
     ]
    },
    {
     "name": "stderr",
     "output_type": "stream",
     "text": [
      "  4%|▎         | 35/1000 [10:24<5:14:10, 19.53s/it]"
     ]
    },
    {
     "name": "stdout",
     "output_type": "stream",
     "text": [
      "eigenvalues shape torch.Size([5]) eigenvectors shape torch.Size([5, 400])\n",
      "35 /home/phdcs2/Hard_Disk/Datasets/Deep-Spectral-Segmentation/data/object-segmentation/ECSSD/features/dino_vits16/0036.pth\n",
      "dict_keys(['k', 'indices', 'file', 'id', 'model_name', 'patch_size', 'shape'])\n",
      "0036\n",
      "Starting Training\n",
      "epoch: 00, loss: -0.02755\n",
      "epoch: 01, loss: -0.04540\n",
      "epoch: 02, loss: -0.04721\n",
      "epoch: 03, loss: -0.04757\n",
      "epoch: 04, loss: -0.04809\n",
      "epoch: 05, loss: -0.04790\n",
      "epoch: 06, loss: -0.04811\n",
      "epoch: 07, loss: -0.04857\n",
      "epoch: 08, loss: -0.04890\n",
      "epoch: 09, loss: -0.04865\n",
      "torch.Size([450, 64])\n"
     ]
    },
    {
     "name": "stderr",
     "output_type": "stream",
     "text": [
      "  4%|▎         | 36/1000 [10:47<5:34:31, 20.82s/it]"
     ]
    },
    {
     "name": "stdout",
     "output_type": "stream",
     "text": [
      "eigenvalues shape torch.Size([5]) eigenvectors shape torch.Size([5, 450])\n",
      "36 /home/phdcs2/Hard_Disk/Datasets/Deep-Spectral-Segmentation/data/object-segmentation/ECSSD/features/dino_vits16/0037.pth\n",
      "dict_keys(['k', 'indices', 'file', 'id', 'model_name', 'patch_size', 'shape'])\n",
      "0037\n",
      "Starting Training\n",
      "epoch: 00, loss: -0.01750\n",
      "epoch: 01, loss: -0.03280\n",
      "epoch: 02, loss: -0.03544\n",
      "epoch: 03, loss: -0.03602\n",
      "epoch: 04, loss: -0.03629\n",
      "epoch: 05, loss: -0.03665\n",
      "epoch: 06, loss: -0.03681\n",
      "epoch: 07, loss: -0.03699\n",
      "epoch: 08, loss: -0.03700\n",
      "epoch: 09, loss: -0.03716\n",
      "torch.Size([450, 64])\n"
     ]
    },
    {
     "name": "stderr",
     "output_type": "stream",
     "text": [
      "  4%|▎         | 37/1000 [11:08<5:31:18, 20.64s/it]"
     ]
    },
    {
     "name": "stdout",
     "output_type": "stream",
     "text": [
      "eigenvalues shape torch.Size([5]) eigenvectors shape torch.Size([5, 450])\n",
      "37 /home/phdcs2/Hard_Disk/Datasets/Deep-Spectral-Segmentation/data/object-segmentation/ECSSD/features/dino_vits16/0038.pth\n",
      "dict_keys(['k', 'indices', 'file', 'id', 'model_name', 'patch_size', 'shape'])\n",
      "0038\n",
      "Starting Training\n",
      "epoch: 00, loss: -0.06480\n",
      "epoch: 01, loss: -0.10811\n",
      "epoch: 02, loss: -0.11266\n",
      "epoch: 03, loss: -0.11539\n",
      "epoch: 04, loss: -0.11567\n",
      "epoch: 05, loss: -0.11667\n",
      "epoch: 06, loss: -0.11776\n",
      "epoch: 07, loss: -0.11694\n",
      "epoch: 08, loss: -0.11854\n",
      "epoch: 09, loss: -0.11938\n",
      "torch.Size([400, 64])\n"
     ]
    },
    {
     "name": "stderr",
     "output_type": "stream",
     "text": [
      "  4%|▍         | 38/1000 [11:26<5:18:26, 19.86s/it]"
     ]
    },
    {
     "name": "stdout",
     "output_type": "stream",
     "text": [
      "eigenvalues shape torch.Size([5]) eigenvectors shape torch.Size([5, 400])\n",
      "38 /home/phdcs2/Hard_Disk/Datasets/Deep-Spectral-Segmentation/data/object-segmentation/ECSSD/features/dino_vits16/0039.pth\n",
      "dict_keys(['k', 'indices', 'file', 'id', 'model_name', 'patch_size', 'shape'])\n",
      "0039\n",
      "Starting Training\n",
      "epoch: 00, loss: -0.06331\n",
      "epoch: 01, loss: -0.08479\n",
      "epoch: 02, loss: -0.08634\n",
      "epoch: 03, loss: -0.08841\n",
      "epoch: 04, loss: -0.08840\n",
      "epoch: 05, loss: -0.09046\n",
      "epoch: 06, loss: -0.08994\n",
      "epoch: 07, loss: -0.08957\n",
      "epoch: 08, loss: -0.09177\n",
      "epoch: 09, loss: -0.09045\n",
      "torch.Size([400, 64])\n"
     ]
    },
    {
     "name": "stderr",
     "output_type": "stream",
     "text": [
      "  4%|▍         | 39/1000 [11:43<5:08:00, 19.23s/it]"
     ]
    },
    {
     "name": "stdout",
     "output_type": "stream",
     "text": [
      "eigenvalues shape torch.Size([5]) eigenvectors shape torch.Size([5, 400])\n",
      "39 /home/phdcs2/Hard_Disk/Datasets/Deep-Spectral-Segmentation/data/object-segmentation/ECSSD/features/dino_vits16/0040.pth\n",
      "dict_keys(['k', 'indices', 'file', 'id', 'model_name', 'patch_size', 'shape'])\n",
      "0040\n",
      "Starting Training\n",
      "epoch: 00, loss: -0.05130\n",
      "epoch: 01, loss: -0.08389\n",
      "epoch: 02, loss: -0.08381\n",
      "epoch: 03, loss: -0.08409\n",
      "epoch: 04, loss: -0.08387\n",
      "epoch: 05, loss: -0.08438\n",
      "epoch: 06, loss: -0.08480\n",
      "epoch: 07, loss: -0.08526\n",
      "epoch: 08, loss: -0.08559\n",
      "epoch: 09, loss: -0.08513\n",
      "torch.Size([400, 64])\n"
     ]
    },
    {
     "name": "stderr",
     "output_type": "stream",
     "text": [
      "  4%|▍         | 40/1000 [12:03<5:09:43, 19.36s/it]"
     ]
    },
    {
     "name": "stdout",
     "output_type": "stream",
     "text": [
      "eigenvalues shape torch.Size([5]) eigenvectors shape torch.Size([5, 400])\n",
      "40 /home/phdcs2/Hard_Disk/Datasets/Deep-Spectral-Segmentation/data/object-segmentation/ECSSD/features/dino_vits16/0041.pth\n",
      "dict_keys(['k', 'indices', 'file', 'id', 'model_name', 'patch_size', 'shape'])\n",
      "0041\n",
      "Starting Training\n",
      "epoch: 00, loss: -0.04654\n",
      "epoch: 01, loss: -0.07379\n",
      "epoch: 02, loss: -0.07747\n",
      "epoch: 03, loss: -0.08095\n",
      "epoch: 04, loss: -0.07885\n",
      "epoch: 05, loss: -0.07883\n",
      "epoch: 06, loss: -0.08164\n",
      "epoch: 07, loss: -0.08245\n",
      "epoch: 08, loss: -0.08239\n",
      "epoch: 09, loss: -0.08256\n",
      "torch.Size([450, 64])\n"
     ]
    },
    {
     "name": "stderr",
     "output_type": "stream",
     "text": [
      "  4%|▍         | 41/1000 [12:27<5:33:09, 20.84s/it]"
     ]
    },
    {
     "name": "stdout",
     "output_type": "stream",
     "text": [
      "eigenvalues shape torch.Size([5]) eigenvectors shape torch.Size([5, 450])\n",
      "41 /home/phdcs2/Hard_Disk/Datasets/Deep-Spectral-Segmentation/data/object-segmentation/ECSSD/features/dino_vits16/0042.pth\n",
      "dict_keys(['k', 'indices', 'file', 'id', 'model_name', 'patch_size', 'shape'])\n",
      "0042\n",
      "Starting Training\n",
      "epoch: 00, loss: -0.00481\n",
      "epoch: 01, loss: -0.03164\n",
      "epoch: 02, loss: -0.03559\n",
      "epoch: 03, loss: -0.03539\n",
      "epoch: 04, loss: -0.03899\n",
      "epoch: 05, loss: -0.03920\n",
      "epoch: 06, loss: -0.03830\n",
      "epoch: 07, loss: -0.03986\n",
      "epoch: 08, loss: -0.03952\n",
      "epoch: 09, loss: -0.03984\n",
      "torch.Size([400, 64])\n"
     ]
    },
    {
     "name": "stderr",
     "output_type": "stream",
     "text": [
      "  4%|▍         | 42/1000 [12:47<5:28:17, 20.56s/it]"
     ]
    },
    {
     "name": "stdout",
     "output_type": "stream",
     "text": [
      "eigenvalues shape torch.Size([5]) eigenvectors shape torch.Size([5, 400])\n",
      "42 /home/phdcs2/Hard_Disk/Datasets/Deep-Spectral-Segmentation/data/object-segmentation/ECSSD/features/dino_vits16/0043.pth\n",
      "dict_keys(['k', 'indices', 'file', 'id', 'model_name', 'patch_size', 'shape'])\n",
      "0043\n",
      "Starting Training\n",
      "epoch: 00, loss: -0.03132\n",
      "epoch: 01, loss: -0.05984\n",
      "epoch: 02, loss: -0.06251\n",
      "epoch: 03, loss: -0.06305\n",
      "epoch: 04, loss: -0.06339\n",
      "epoch: 05, loss: -0.06463\n",
      "epoch: 06, loss: -0.06454\n",
      "epoch: 07, loss: -0.06466\n",
      "epoch: 08, loss: -0.06444\n",
      "epoch: 09, loss: -0.06482\n",
      "torch.Size([450, 64])\n"
     ]
    },
    {
     "name": "stderr",
     "output_type": "stream",
     "text": [
      "  4%|▍         | 43/1000 [13:10<5:36:29, 21.10s/it]"
     ]
    },
    {
     "name": "stdout",
     "output_type": "stream",
     "text": [
      "eigenvalues shape torch.Size([5]) eigenvectors shape torch.Size([5, 450])\n",
      "43 /home/phdcs2/Hard_Disk/Datasets/Deep-Spectral-Segmentation/data/object-segmentation/ECSSD/features/dino_vits16/0044.pth\n",
      "dict_keys(['k', 'indices', 'file', 'id', 'model_name', 'patch_size', 'shape'])\n",
      "0044\n",
      "Starting Training\n",
      "epoch: 00, loss: -0.04708\n",
      "epoch: 01, loss: -0.07277\n",
      "epoch: 02, loss: -0.07426\n",
      "epoch: 03, loss: -0.07868\n",
      "epoch: 04, loss: -0.07945\n",
      "epoch: 05, loss: -0.08105\n",
      "epoch: 06, loss: -0.08365\n",
      "epoch: 07, loss: -0.08188\n",
      "epoch: 08, loss: -0.08131\n",
      "epoch: 09, loss: -0.08055\n",
      "torch.Size([525, 64])\n"
     ]
    },
    {
     "name": "stderr",
     "output_type": "stream",
     "text": [
      "  4%|▍         | 44/1000 [13:32<5:43:33, 21.56s/it]"
     ]
    },
    {
     "name": "stdout",
     "output_type": "stream",
     "text": [
      "eigenvalues shape torch.Size([5]) eigenvectors shape torch.Size([5, 525])\n",
      "44 /home/phdcs2/Hard_Disk/Datasets/Deep-Spectral-Segmentation/data/object-segmentation/ECSSD/features/dino_vits16/0045.pth\n",
      "dict_keys(['k', 'indices', 'file', 'id', 'model_name', 'patch_size', 'shape'])\n",
      "0045\n",
      "Starting Training\n",
      "epoch: 00, loss: -0.03373\n",
      "epoch: 01, loss: -0.05596\n",
      "epoch: 02, loss: -0.05726\n",
      "epoch: 03, loss: -0.05770\n",
      "epoch: 04, loss: -0.05783\n",
      "epoch: 05, loss: -0.05810\n",
      "epoch: 06, loss: -0.05836\n",
      "epoch: 07, loss: -0.05842\n",
      "epoch: 08, loss: -0.05868\n",
      "epoch: 09, loss: -0.05873\n",
      "torch.Size([450, 64])\n"
     ]
    },
    {
     "name": "stderr",
     "output_type": "stream",
     "text": [
      "  4%|▍         | 45/1000 [13:50<5:23:58, 20.35s/it]"
     ]
    },
    {
     "name": "stdout",
     "output_type": "stream",
     "text": [
      "eigenvalues shape torch.Size([5]) eigenvectors shape torch.Size([5, 450])\n",
      "45 /home/phdcs2/Hard_Disk/Datasets/Deep-Spectral-Segmentation/data/object-segmentation/ECSSD/features/dino_vits16/0046.pth\n",
      "dict_keys(['k', 'indices', 'file', 'id', 'model_name', 'patch_size', 'shape'])\n",
      "0046\n",
      "Starting Training\n",
      "epoch: 00, loss: -0.05235\n",
      "epoch: 01, loss: -0.07088\n",
      "epoch: 02, loss: -0.07145\n",
      "epoch: 03, loss: -0.07160\n",
      "epoch: 04, loss: -0.07104\n",
      "epoch: 05, loss: -0.07242\n",
      "epoch: 06, loss: -0.07288\n",
      "epoch: 07, loss: -0.07225\n",
      "epoch: 08, loss: -0.07236\n",
      "epoch: 09, loss: -0.07235\n",
      "torch.Size([450, 64])\n"
     ]
    },
    {
     "name": "stderr",
     "output_type": "stream",
     "text": [
      "  5%|▍         | 46/1000 [14:07<5:08:12, 19.38s/it]"
     ]
    },
    {
     "name": "stdout",
     "output_type": "stream",
     "text": [
      "eigenvalues shape torch.Size([5]) eigenvectors shape torch.Size([5, 450])\n",
      "46 /home/phdcs2/Hard_Disk/Datasets/Deep-Spectral-Segmentation/data/object-segmentation/ECSSD/features/dino_vits16/0047.pth\n",
      "dict_keys(['k', 'indices', 'file', 'id', 'model_name', 'patch_size', 'shape'])\n",
      "0047\n",
      "Starting Training\n",
      "epoch: 00, loss: -0.04977\n",
      "epoch: 01, loss: -0.08195\n",
      "epoch: 02, loss: -0.08223\n",
      "epoch: 03, loss: -0.08711\n",
      "epoch: 04, loss: -0.08847\n",
      "epoch: 05, loss: -0.08737\n",
      "epoch: 06, loss: -0.08859\n",
      "epoch: 07, loss: -0.09059\n",
      "epoch: 08, loss: -0.08829\n",
      "epoch: 09, loss: -0.09064\n",
      "torch.Size([400, 64])\n"
     ]
    },
    {
     "name": "stderr",
     "output_type": "stream",
     "text": [
      "  5%|▍         | 47/1000 [14:24<4:56:23, 18.66s/it]"
     ]
    },
    {
     "name": "stdout",
     "output_type": "stream",
     "text": [
      "eigenvalues shape torch.Size([5]) eigenvectors shape torch.Size([5, 400])\n",
      "47 /home/phdcs2/Hard_Disk/Datasets/Deep-Spectral-Segmentation/data/object-segmentation/ECSSD/features/dino_vits16/0048.pth\n",
      "dict_keys(['k', 'indices', 'file', 'id', 'model_name', 'patch_size', 'shape'])\n",
      "0048\n",
      "Starting Training\n",
      "epoch: 00, loss: -0.05838\n",
      "epoch: 01, loss: -0.07562\n",
      "epoch: 02, loss: -0.08051\n",
      "epoch: 03, loss: -0.08121\n",
      "epoch: 04, loss: -0.08310\n",
      "epoch: 05, loss: -0.08340\n",
      "epoch: 06, loss: -0.08232\n",
      "epoch: 07, loss: -0.08269\n",
      "epoch: 08, loss: -0.08441\n",
      "epoch: 09, loss: -0.08319\n",
      "torch.Size([450, 64])\n"
     ]
    },
    {
     "name": "stderr",
     "output_type": "stream",
     "text": [
      "  5%|▍         | 48/1000 [14:45<5:07:22, 19.37s/it]"
     ]
    },
    {
     "name": "stdout",
     "output_type": "stream",
     "text": [
      "eigenvalues shape torch.Size([5]) eigenvectors shape torch.Size([5, 450])\n",
      "48 /home/phdcs2/Hard_Disk/Datasets/Deep-Spectral-Segmentation/data/object-segmentation/ECSSD/features/dino_vits16/0049.pth\n",
      "dict_keys(['k', 'indices', 'file', 'id', 'model_name', 'patch_size', 'shape'])\n",
      "0049\n",
      "Starting Training\n",
      "epoch: 00, loss: -0.06012\n",
      "epoch: 01, loss: -0.08677\n",
      "epoch: 02, loss: -0.08874\n",
      "epoch: 03, loss: -0.08817\n",
      "epoch: 04, loss: -0.08951\n",
      "epoch: 05, loss: -0.08895\n",
      "epoch: 06, loss: -0.08913\n",
      "epoch: 07, loss: -0.08937\n",
      "epoch: 08, loss: -0.09011\n",
      "epoch: 09, loss: -0.09047\n",
      "torch.Size([450, 64])\n"
     ]
    },
    {
     "name": "stderr",
     "output_type": "stream",
     "text": [
      "  5%|▍         | 49/1000 [15:04<5:04:40, 19.22s/it]"
     ]
    },
    {
     "name": "stdout",
     "output_type": "stream",
     "text": [
      "eigenvalues shape torch.Size([5]) eigenvectors shape torch.Size([5, 450])\n",
      "49 /home/phdcs2/Hard_Disk/Datasets/Deep-Spectral-Segmentation/data/object-segmentation/ECSSD/features/dino_vits16/0050.pth\n",
      "dict_keys(['k', 'indices', 'file', 'id', 'model_name', 'patch_size', 'shape'])\n",
      "0050\n",
      "Starting Training\n",
      "epoch: 00, loss: -0.05091\n",
      "epoch: 01, loss: -0.08428\n",
      "epoch: 02, loss: -0.08700\n",
      "epoch: 03, loss: -0.08868\n",
      "epoch: 04, loss: -0.09309\n",
      "epoch: 05, loss: -0.09202\n",
      "epoch: 06, loss: -0.09497\n",
      "epoch: 07, loss: -0.09375\n",
      "epoch: 08, loss: -0.09346\n",
      "epoch: 09, loss: -0.09391\n",
      "torch.Size([400, 64])\n"
     ]
    },
    {
     "name": "stderr",
     "output_type": "stream",
     "text": [
      "  5%|▌         | 50/1000 [15:19<4:43:44, 17.92s/it]"
     ]
    },
    {
     "name": "stdout",
     "output_type": "stream",
     "text": [
      "eigenvalues shape torch.Size([5]) eigenvectors shape torch.Size([5, 400])\n",
      "50 /home/phdcs2/Hard_Disk/Datasets/Deep-Spectral-Segmentation/data/object-segmentation/ECSSD/features/dino_vits16/0051.pth\n",
      "dict_keys(['k', 'indices', 'file', 'id', 'model_name', 'patch_size', 'shape'])\n",
      "0051\n",
      "Starting Training\n",
      "epoch: 00, loss: -0.07521\n",
      "epoch: 01, loss: -0.10790\n",
      "epoch: 02, loss: -0.10967\n",
      "epoch: 03, loss: -0.10971\n",
      "epoch: 04, loss: -0.11187\n",
      "epoch: 05, loss: -0.11334\n",
      "epoch: 06, loss: -0.11389\n",
      "epoch: 07, loss: -0.11298\n",
      "epoch: 08, loss: -0.11495\n",
      "epoch: 09, loss: -0.11538\n",
      "torch.Size([450, 64])\n"
     ]
    },
    {
     "name": "stderr",
     "output_type": "stream",
     "text": [
      "  5%|▌         | 51/1000 [15:39<4:54:24, 18.61s/it]"
     ]
    },
    {
     "name": "stdout",
     "output_type": "stream",
     "text": [
      "eigenvalues shape torch.Size([5]) eigenvectors shape torch.Size([5, 450])\n",
      "51 /home/phdcs2/Hard_Disk/Datasets/Deep-Spectral-Segmentation/data/object-segmentation/ECSSD/features/dino_vits16/0052.pth\n",
      "dict_keys(['k', 'indices', 'file', 'id', 'model_name', 'patch_size', 'shape'])\n",
      "0052\n",
      "Starting Training\n",
      "epoch: 00, loss: -0.05486\n",
      "epoch: 01, loss: -0.07347\n",
      "epoch: 02, loss: -0.07520\n",
      "epoch: 03, loss: -0.07483\n",
      "epoch: 04, loss: -0.07456\n",
      "epoch: 05, loss: -0.07474\n",
      "epoch: 06, loss: -0.07528\n",
      "epoch: 07, loss: -0.07532\n",
      "epoch: 08, loss: -0.07558\n",
      "epoch: 09, loss: -0.07599\n",
      "torch.Size([450, 64])\n"
     ]
    },
    {
     "name": "stderr",
     "output_type": "stream",
     "text": [
      "  5%|▌         | 52/1000 [15:58<4:56:51, 18.79s/it]"
     ]
    },
    {
     "name": "stdout",
     "output_type": "stream",
     "text": [
      "eigenvalues shape torch.Size([5]) eigenvectors shape torch.Size([5, 450])\n",
      "52 /home/phdcs2/Hard_Disk/Datasets/Deep-Spectral-Segmentation/data/object-segmentation/ECSSD/features/dino_vits16/0053.pth\n",
      "dict_keys(['k', 'indices', 'file', 'id', 'model_name', 'patch_size', 'shape'])\n",
      "0053\n",
      "Starting Training\n",
      "epoch: 00, loss: -0.00543\n",
      "epoch: 01, loss: -0.03562\n",
      "epoch: 02, loss: -0.04048\n",
      "epoch: 03, loss: -0.04130\n",
      "epoch: 04, loss: -0.04433\n",
      "epoch: 05, loss: -0.04758\n",
      "epoch: 06, loss: -0.04574\n",
      "epoch: 07, loss: -0.04628\n",
      "epoch: 08, loss: -0.04801\n",
      "epoch: 09, loss: -0.04521\n",
      "torch.Size([375, 64])\n"
     ]
    },
    {
     "name": "stderr",
     "output_type": "stream",
     "text": [
      "  5%|▌         | 53/1000 [16:16<4:52:49, 18.55s/it]"
     ]
    },
    {
     "name": "stdout",
     "output_type": "stream",
     "text": [
      "eigenvalues shape torch.Size([5]) eigenvectors shape torch.Size([5, 375])\n",
      "53 /home/phdcs2/Hard_Disk/Datasets/Deep-Spectral-Segmentation/data/object-segmentation/ECSSD/features/dino_vits16/0054.pth\n",
      "dict_keys(['k', 'indices', 'file', 'id', 'model_name', 'patch_size', 'shape'])\n",
      "0054\n",
      "Starting Training\n",
      "epoch: 00, loss: -0.03789\n",
      "epoch: 01, loss: -0.05883\n",
      "epoch: 02, loss: -0.06028\n",
      "epoch: 03, loss: -0.06074\n",
      "epoch: 04, loss: -0.06098\n",
      "epoch: 05, loss: -0.06107\n",
      "epoch: 06, loss: -0.06108\n",
      "epoch: 07, loss: -0.06183\n",
      "epoch: 08, loss: -0.06196\n",
      "epoch: 09, loss: -0.06186\n",
      "torch.Size([450, 64])\n"
     ]
    },
    {
     "name": "stderr",
     "output_type": "stream",
     "text": [
      "  5%|▌         | 54/1000 [16:42<5:25:07, 20.62s/it]"
     ]
    },
    {
     "name": "stdout",
     "output_type": "stream",
     "text": [
      "eigenvalues shape torch.Size([5]) eigenvectors shape torch.Size([5, 450])\n",
      "54 /home/phdcs2/Hard_Disk/Datasets/Deep-Spectral-Segmentation/data/object-segmentation/ECSSD/features/dino_vits16/0055.pth\n",
      "dict_keys(['k', 'indices', 'file', 'id', 'model_name', 'patch_size', 'shape'])\n",
      "0055\n",
      "Starting Training\n",
      "epoch: 00, loss: -0.09390\n",
      "epoch: 01, loss: -0.12621\n",
      "epoch: 02, loss: -0.13097\n",
      "epoch: 03, loss: -0.13261\n",
      "epoch: 04, loss: -0.13429\n",
      "epoch: 05, loss: -0.13495\n",
      "epoch: 06, loss: -0.13641\n",
      "epoch: 07, loss: -0.13665\n",
      "epoch: 08, loss: -0.13401\n",
      "epoch: 09, loss: -0.13448\n",
      "torch.Size([450, 64])\n"
     ]
    },
    {
     "name": "stderr",
     "output_type": "stream",
     "text": [
      "  6%|▌         | 55/1000 [17:02<5:22:59, 20.51s/it]"
     ]
    },
    {
     "name": "stdout",
     "output_type": "stream",
     "text": [
      "eigenvalues shape torch.Size([5]) eigenvectors shape torch.Size([5, 450])\n",
      "55 /home/phdcs2/Hard_Disk/Datasets/Deep-Spectral-Segmentation/data/object-segmentation/ECSSD/features/dino_vits16/0056.pth\n",
      "dict_keys(['k', 'indices', 'file', 'id', 'model_name', 'patch_size', 'shape'])\n",
      "0056\n",
      "Starting Training\n",
      "epoch: 00, loss: -0.04214\n",
      "epoch: 01, loss: -0.07765\n",
      "epoch: 02, loss: -0.08293\n",
      "epoch: 03, loss: -0.08505\n",
      "epoch: 04, loss: -0.08449\n",
      "epoch: 05, loss: -0.08823\n",
      "epoch: 06, loss: -0.08811\n",
      "epoch: 07, loss: -0.08813\n",
      "epoch: 08, loss: -0.08854\n",
      "epoch: 09, loss: -0.09108\n",
      "torch.Size([400, 64])\n"
     ]
    },
    {
     "name": "stderr",
     "output_type": "stream",
     "text": [
      "  6%|▌         | 56/1000 [17:21<5:17:49, 20.20s/it]"
     ]
    },
    {
     "name": "stdout",
     "output_type": "stream",
     "text": [
      "eigenvalues shape torch.Size([5]) eigenvectors shape torch.Size([5, 400])\n",
      "56 /home/phdcs2/Hard_Disk/Datasets/Deep-Spectral-Segmentation/data/object-segmentation/ECSSD/features/dino_vits16/0057.pth\n",
      "dict_keys(['k', 'indices', 'file', 'id', 'model_name', 'patch_size', 'shape'])\n",
      "0057\n",
      "Starting Training\n",
      "epoch: 00, loss: -0.06109\n",
      "epoch: 01, loss: -0.07945\n",
      "epoch: 02, loss: -0.07951\n",
      "epoch: 03, loss: -0.08013\n",
      "epoch: 04, loss: -0.08041\n",
      "epoch: 05, loss: -0.08046\n",
      "epoch: 06, loss: -0.08077\n",
      "epoch: 07, loss: -0.08077\n",
      "epoch: 08, loss: -0.08096\n",
      "epoch: 09, loss: -0.08108\n",
      "torch.Size([400, 64])\n"
     ]
    },
    {
     "name": "stderr",
     "output_type": "stream",
     "text": [
      "  6%|▌         | 57/1000 [17:43<5:24:54, 20.67s/it]"
     ]
    },
    {
     "name": "stdout",
     "output_type": "stream",
     "text": [
      "eigenvalues shape torch.Size([5]) eigenvectors shape torch.Size([5, 400])\n",
      "57 /home/phdcs2/Hard_Disk/Datasets/Deep-Spectral-Segmentation/data/object-segmentation/ECSSD/features/dino_vits16/0058.pth\n",
      "dict_keys(['k', 'indices', 'file', 'id', 'model_name', 'patch_size', 'shape'])\n",
      "0058\n",
      "Starting Training\n",
      "epoch: 00, loss: -0.03922\n",
      "epoch: 01, loss: -0.05874\n",
      "epoch: 02, loss: -0.06063\n",
      "epoch: 03, loss: -0.06011\n",
      "epoch: 04, loss: -0.06076\n",
      "epoch: 05, loss: -0.06045\n",
      "epoch: 06, loss: -0.06038\n",
      "epoch: 07, loss: -0.06093\n",
      "epoch: 08, loss: -0.06243\n",
      "epoch: 09, loss: -0.06093\n",
      "torch.Size([425, 64])\n"
     ]
    },
    {
     "name": "stderr",
     "output_type": "stream",
     "text": [
      "  6%|▌         | 58/1000 [18:05<5:30:27, 21.05s/it]"
     ]
    },
    {
     "name": "stdout",
     "output_type": "stream",
     "text": [
      "eigenvalues shape torch.Size([5]) eigenvectors shape torch.Size([5, 425])\n",
      "58 /home/phdcs2/Hard_Disk/Datasets/Deep-Spectral-Segmentation/data/object-segmentation/ECSSD/features/dino_vits16/0059.pth\n",
      "dict_keys(['k', 'indices', 'file', 'id', 'model_name', 'patch_size', 'shape'])\n",
      "0059\n",
      "Starting Training\n",
      "epoch: 00, loss: -0.05473\n",
      "epoch: 01, loss: -0.08226\n",
      "epoch: 02, loss: -0.08512\n",
      "epoch: 03, loss: -0.08698\n",
      "epoch: 04, loss: -0.08892\n",
      "epoch: 05, loss: -0.08853\n",
      "epoch: 06, loss: -0.09061\n",
      "epoch: 07, loss: -0.09167\n",
      "epoch: 08, loss: -0.08977\n",
      "epoch: 09, loss: -0.09044\n",
      "torch.Size([450, 64])\n"
     ]
    },
    {
     "name": "stderr",
     "output_type": "stream",
     "text": [
      "  6%|▌         | 59/1000 [18:24<5:19:25, 20.37s/it]"
     ]
    },
    {
     "name": "stdout",
     "output_type": "stream",
     "text": [
      "eigenvalues shape torch.Size([5]) eigenvectors shape torch.Size([5, 450])\n",
      "59 /home/phdcs2/Hard_Disk/Datasets/Deep-Spectral-Segmentation/data/object-segmentation/ECSSD/features/dino_vits16/0060.pth\n",
      "dict_keys(['k', 'indices', 'file', 'id', 'model_name', 'patch_size', 'shape'])\n",
      "0060\n",
      "Starting Training\n",
      "epoch: 00, loss: -0.07398\n",
      "epoch: 01, loss: -0.09838\n",
      "epoch: 02, loss: -0.09905\n",
      "epoch: 03, loss: -0.09928\n",
      "epoch: 04, loss: -0.09957\n",
      "epoch: 05, loss: -0.09972\n",
      "epoch: 06, loss: -0.09994\n",
      "epoch: 07, loss: -0.10008\n",
      "epoch: 08, loss: -0.10015\n",
      "epoch: 09, loss: -0.10024\n",
      "torch.Size([400, 64])\n"
     ]
    },
    {
     "name": "stderr",
     "output_type": "stream",
     "text": [
      "  6%|▌         | 60/1000 [18:43<5:12:04, 19.92s/it]"
     ]
    },
    {
     "name": "stdout",
     "output_type": "stream",
     "text": [
      "eigenvalues shape torch.Size([5]) eigenvectors shape torch.Size([5, 400])\n",
      "60 /home/phdcs2/Hard_Disk/Datasets/Deep-Spectral-Segmentation/data/object-segmentation/ECSSD/features/dino_vits16/0061.pth\n",
      "dict_keys(['k', 'indices', 'file', 'id', 'model_name', 'patch_size', 'shape'])\n",
      "0061\n",
      "Starting Training\n",
      "epoch: 00, loss: -0.07548\n",
      "epoch: 01, loss: -0.10753\n",
      "epoch: 02, loss: -0.11054\n",
      "epoch: 03, loss: -0.11625\n",
      "epoch: 04, loss: -0.11495\n",
      "epoch: 05, loss: -0.11469\n",
      "epoch: 06, loss: -0.11496\n",
      "epoch: 07, loss: -0.11578\n",
      "epoch: 08, loss: -0.11647\n",
      "epoch: 09, loss: -0.12005\n",
      "torch.Size([425, 64])\n"
     ]
    },
    {
     "name": "stderr",
     "output_type": "stream",
     "text": [
      "  6%|▌         | 61/1000 [18:59<4:53:46, 18.77s/it]"
     ]
    },
    {
     "name": "stdout",
     "output_type": "stream",
     "text": [
      "eigenvalues shape torch.Size([5]) eigenvectors shape torch.Size([5, 425])\n",
      "61 /home/phdcs2/Hard_Disk/Datasets/Deep-Spectral-Segmentation/data/object-segmentation/ECSSD/features/dino_vits16/0062.pth\n",
      "dict_keys(['k', 'indices', 'file', 'id', 'model_name', 'patch_size', 'shape'])\n",
      "0062\n",
      "Starting Training\n",
      "epoch: 00, loss: -0.02763\n",
      "epoch: 01, loss: -0.04522\n",
      "epoch: 02, loss: -0.04773\n",
      "epoch: 03, loss: -0.04831\n",
      "epoch: 04, loss: -0.04858\n",
      "epoch: 05, loss: -0.04837\n",
      "epoch: 06, loss: -0.04911\n",
      "epoch: 07, loss: -0.04987\n",
      "epoch: 08, loss: -0.04937\n",
      "epoch: 09, loss: -0.05028\n",
      "torch.Size([425, 64])\n"
     ]
    },
    {
     "name": "stderr",
     "output_type": "stream",
     "text": [
      "  6%|▌         | 62/1000 [19:17<4:49:01, 18.49s/it]"
     ]
    },
    {
     "name": "stdout",
     "output_type": "stream",
     "text": [
      "eigenvalues shape torch.Size([5]) eigenvectors shape torch.Size([5, 425])\n",
      "62 /home/phdcs2/Hard_Disk/Datasets/Deep-Spectral-Segmentation/data/object-segmentation/ECSSD/features/dino_vits16/0063.pth\n",
      "dict_keys(['k', 'indices', 'file', 'id', 'model_name', 'patch_size', 'shape'])\n",
      "0063\n",
      "Starting Training\n",
      "epoch: 00, loss: -0.04396\n",
      "epoch: 01, loss: -0.06462\n",
      "epoch: 02, loss: -0.06517\n",
      "epoch: 03, loss: -0.06588\n",
      "epoch: 04, loss: -0.06634\n",
      "epoch: 05, loss: -0.06642\n",
      "epoch: 06, loss: -0.06715\n",
      "epoch: 07, loss: -0.06678\n",
      "epoch: 08, loss: -0.06686\n",
      "epoch: 09, loss: -0.06699\n",
      "torch.Size([400, 64])\n"
     ]
    },
    {
     "name": "stderr",
     "output_type": "stream",
     "text": [
      "  6%|▋         | 63/1000 [19:32<4:34:15, 17.56s/it]"
     ]
    },
    {
     "name": "stdout",
     "output_type": "stream",
     "text": [
      "eigenvalues shape torch.Size([5]) eigenvectors shape torch.Size([5, 400])\n",
      "63 /home/phdcs2/Hard_Disk/Datasets/Deep-Spectral-Segmentation/data/object-segmentation/ECSSD/features/dino_vits16/0064.pth\n",
      "dict_keys(['k', 'indices', 'file', 'id', 'model_name', 'patch_size', 'shape'])\n",
      "0064\n",
      "Starting Training\n",
      "epoch: 00, loss: -0.02209\n",
      "epoch: 01, loss: -0.05050\n",
      "epoch: 02, loss: -0.05369\n",
      "epoch: 03, loss: -0.05453\n",
      "epoch: 04, loss: -0.05460\n",
      "epoch: 05, loss: -0.05503\n",
      "epoch: 06, loss: -0.05501\n",
      "epoch: 07, loss: -0.05510\n",
      "epoch: 08, loss: -0.05523\n",
      "epoch: 09, loss: -0.05525\n",
      "torch.Size([400, 64])\n"
     ]
    },
    {
     "name": "stderr",
     "output_type": "stream",
     "text": [
      "  6%|▋         | 64/1000 [19:49<4:31:19, 17.39s/it]"
     ]
    },
    {
     "name": "stdout",
     "output_type": "stream",
     "text": [
      "eigenvalues shape torch.Size([5]) eigenvectors shape torch.Size([5, 400])\n",
      "64 /home/phdcs2/Hard_Disk/Datasets/Deep-Spectral-Segmentation/data/object-segmentation/ECSSD/features/dino_vits16/0065.pth\n",
      "dict_keys(['k', 'indices', 'file', 'id', 'model_name', 'patch_size', 'shape'])\n",
      "0065\n",
      "Starting Training\n",
      "epoch: 00, loss: -0.01486\n",
      "epoch: 01, loss: -0.03653\n",
      "epoch: 02, loss: -0.04342\n",
      "epoch: 03, loss: -0.04427\n",
      "epoch: 04, loss: -0.04808\n",
      "epoch: 05, loss: -0.04632\n",
      "epoch: 06, loss: -0.04783\n",
      "epoch: 07, loss: -0.05016\n",
      "epoch: 08, loss: -0.05014\n",
      "epoch: 09, loss: -0.04994\n",
      "torch.Size([450, 64])\n"
     ]
    },
    {
     "name": "stderr",
     "output_type": "stream",
     "text": [
      "  6%|▋         | 65/1000 [20:08<4:39:30, 17.94s/it]"
     ]
    },
    {
     "name": "stdout",
     "output_type": "stream",
     "text": [
      "eigenvalues shape torch.Size([5]) eigenvectors shape torch.Size([5, 450])\n",
      "65 /home/phdcs2/Hard_Disk/Datasets/Deep-Spectral-Segmentation/data/object-segmentation/ECSSD/features/dino_vits16/0066.pth\n",
      "dict_keys(['k', 'indices', 'file', 'id', 'model_name', 'patch_size', 'shape'])\n",
      "0066\n",
      "Starting Training\n",
      "epoch: 00, loss: -0.03424\n",
      "epoch: 01, loss: -0.05955\n",
      "epoch: 02, loss: -0.06131\n",
      "epoch: 03, loss: -0.06318\n",
      "epoch: 04, loss: -0.06335\n",
      "epoch: 05, loss: -0.06454\n",
      "epoch: 06, loss: -0.06376\n",
      "epoch: 07, loss: -0.06587\n",
      "epoch: 08, loss: -0.06366\n",
      "epoch: 09, loss: -0.06493\n",
      "torch.Size([400, 64])\n"
     ]
    },
    {
     "name": "stderr",
     "output_type": "stream",
     "text": [
      "  7%|▋         | 66/1000 [20:25<4:33:14, 17.55s/it]"
     ]
    },
    {
     "name": "stdout",
     "output_type": "stream",
     "text": [
      "eigenvalues shape torch.Size([5]) eigenvectors shape torch.Size([5, 400])\n",
      "66 /home/phdcs2/Hard_Disk/Datasets/Deep-Spectral-Segmentation/data/object-segmentation/ECSSD/features/dino_vits16/0067.pth\n",
      "dict_keys(['k', 'indices', 'file', 'id', 'model_name', 'patch_size', 'shape'])\n",
      "0067\n",
      "Starting Training\n",
      "epoch: 00, loss: -0.00900\n",
      "epoch: 01, loss: -0.02876\n",
      "epoch: 02, loss: -0.03646\n",
      "epoch: 03, loss: -0.03685\n",
      "epoch: 04, loss: -0.04293\n",
      "epoch: 05, loss: -0.04095\n",
      "epoch: 06, loss: -0.04008\n",
      "epoch: 07, loss: -0.04266\n",
      "epoch: 08, loss: -0.04197\n",
      "epoch: 09, loss: -0.03953\n",
      "torch.Size([350, 64])\n"
     ]
    },
    {
     "name": "stderr",
     "output_type": "stream",
     "text": [
      "  7%|▋         | 67/1000 [20:44<4:38:35, 17.92s/it]"
     ]
    },
    {
     "name": "stdout",
     "output_type": "stream",
     "text": [
      "eigenvalues shape torch.Size([5]) eigenvectors shape torch.Size([5, 350])\n",
      "67 /home/phdcs2/Hard_Disk/Datasets/Deep-Spectral-Segmentation/data/object-segmentation/ECSSD/features/dino_vits16/0068.pth\n",
      "dict_keys(['k', 'indices', 'file', 'id', 'model_name', 'patch_size', 'shape'])\n",
      "0068\n",
      "Starting Training\n",
      "epoch: 00, loss: -0.03609\n",
      "epoch: 01, loss: -0.05200\n",
      "epoch: 02, loss: -0.05391\n",
      "epoch: 03, loss: -0.05445\n",
      "epoch: 04, loss: -0.05461\n",
      "epoch: 05, loss: -0.05389\n",
      "epoch: 06, loss: -0.05503\n",
      "epoch: 07, loss: -0.05426\n",
      "epoch: 08, loss: -0.05421\n",
      "epoch: 09, loss: -0.05486\n",
      "torch.Size([525, 64])\n"
     ]
    },
    {
     "name": "stderr",
     "output_type": "stream",
     "text": [
      "  7%|▋         | 68/1000 [21:15<5:39:13, 21.84s/it]"
     ]
    },
    {
     "name": "stdout",
     "output_type": "stream",
     "text": [
      "eigenvalues shape torch.Size([5]) eigenvectors shape torch.Size([5, 525])\n",
      "68 /home/phdcs2/Hard_Disk/Datasets/Deep-Spectral-Segmentation/data/object-segmentation/ECSSD/features/dino_vits16/0069.pth\n",
      "dict_keys(['k', 'indices', 'file', 'id', 'model_name', 'patch_size', 'shape'])\n",
      "0069\n",
      "Starting Training\n",
      "epoch: 00, loss: -0.07650\n",
      "epoch: 01, loss: -0.10477\n",
      "epoch: 02, loss: -0.10656\n",
      "epoch: 03, loss: -0.10800\n",
      "epoch: 04, loss: -0.10831\n",
      "epoch: 05, loss: -0.10869\n",
      "epoch: 06, loss: -0.10956\n",
      "epoch: 07, loss: -0.11101\n",
      "epoch: 08, loss: -0.11028\n",
      "epoch: 09, loss: -0.11077\n",
      "torch.Size([425, 64])\n"
     ]
    },
    {
     "name": "stderr",
     "output_type": "stream",
     "text": [
      "  7%|▋         | 69/1000 [21:35<5:30:17, 21.29s/it]"
     ]
    },
    {
     "name": "stdout",
     "output_type": "stream",
     "text": [
      "eigenvalues shape torch.Size([5]) eigenvectors shape torch.Size([5, 425])\n",
      "69 /home/phdcs2/Hard_Disk/Datasets/Deep-Spectral-Segmentation/data/object-segmentation/ECSSD/features/dino_vits16/0070.pth\n",
      "dict_keys(['k', 'indices', 'file', 'id', 'model_name', 'patch_size', 'shape'])\n",
      "0070\n",
      "Starting Training\n",
      "epoch: 00, loss: -0.03155\n",
      "epoch: 01, loss: -0.06136\n",
      "epoch: 02, loss: -0.06270\n",
      "epoch: 03, loss: -0.06421\n",
      "epoch: 04, loss: -0.06671\n",
      "epoch: 05, loss: -0.06678\n",
      "epoch: 06, loss: -0.06724\n",
      "epoch: 07, loss: -0.06771\n",
      "epoch: 08, loss: -0.06752\n",
      "epoch: 09, loss: -0.06947\n",
      "torch.Size([500, 64])\n"
     ]
    },
    {
     "name": "stderr",
     "output_type": "stream",
     "text": [
      "  7%|▋         | 70/1000 [22:02<5:59:22, 23.19s/it]"
     ]
    },
    {
     "name": "stdout",
     "output_type": "stream",
     "text": [
      "eigenvalues shape torch.Size([5]) eigenvectors shape torch.Size([5, 500])\n",
      "70 /home/phdcs2/Hard_Disk/Datasets/Deep-Spectral-Segmentation/data/object-segmentation/ECSSD/features/dino_vits16/0071.pth\n",
      "dict_keys(['k', 'indices', 'file', 'id', 'model_name', 'patch_size', 'shape'])\n",
      "0071\n",
      "Starting Training\n",
      "epoch: 00, loss: -0.06193\n",
      "epoch: 01, loss: -0.08614\n",
      "epoch: 02, loss: -0.09109\n",
      "epoch: 03, loss: -0.09132\n",
      "epoch: 04, loss: -0.09098\n",
      "epoch: 05, loss: -0.09277\n",
      "epoch: 06, loss: -0.08996\n",
      "epoch: 07, loss: -0.09105\n",
      "epoch: 08, loss: -0.09453\n",
      "epoch: 09, loss: -0.09437\n",
      "torch.Size([450, 64])\n"
     ]
    },
    {
     "name": "stderr",
     "output_type": "stream",
     "text": [
      "  7%|▋         | 71/1000 [22:24<5:51:04, 22.67s/it]"
     ]
    },
    {
     "name": "stdout",
     "output_type": "stream",
     "text": [
      "eigenvalues shape torch.Size([5]) eigenvectors shape torch.Size([5, 450])\n",
      "71 /home/phdcs2/Hard_Disk/Datasets/Deep-Spectral-Segmentation/data/object-segmentation/ECSSD/features/dino_vits16/0072.pth\n",
      "dict_keys(['k', 'indices', 'file', 'id', 'model_name', 'patch_size', 'shape'])\n",
      "0072\n",
      "Starting Training\n",
      "epoch: 00, loss: -0.03578\n",
      "epoch: 01, loss: -0.06354\n",
      "epoch: 02, loss: -0.06659\n",
      "epoch: 03, loss: -0.06491\n",
      "epoch: 04, loss: -0.06679\n",
      "epoch: 05, loss: -0.06730\n",
      "epoch: 06, loss: -0.06872\n",
      "epoch: 07, loss: -0.06988\n",
      "epoch: 08, loss: -0.06634\n",
      "epoch: 09, loss: -0.07076\n",
      "torch.Size([400, 64])\n"
     ]
    },
    {
     "name": "stderr",
     "output_type": "stream",
     "text": [
      "  7%|▋         | 72/1000 [22:41<5:23:44, 20.93s/it]"
     ]
    },
    {
     "name": "stdout",
     "output_type": "stream",
     "text": [
      "eigenvalues shape torch.Size([5]) eigenvectors shape torch.Size([5, 400])\n",
      "72 /home/phdcs2/Hard_Disk/Datasets/Deep-Spectral-Segmentation/data/object-segmentation/ECSSD/features/dino_vits16/0073.pth\n",
      "dict_keys(['k', 'indices', 'file', 'id', 'model_name', 'patch_size', 'shape'])\n",
      "0073\n",
      "Starting Training\n",
      "epoch: 00, loss: -0.03008\n",
      "epoch: 01, loss: -0.05847\n",
      "epoch: 02, loss: -0.06264\n",
      "epoch: 03, loss: -0.06435\n",
      "epoch: 04, loss: -0.06671\n",
      "epoch: 05, loss: -0.06708\n",
      "epoch: 06, loss: -0.06707\n",
      "epoch: 07, loss: -0.06787\n",
      "epoch: 08, loss: -0.06772\n",
      "epoch: 09, loss: -0.06859\n",
      "torch.Size([450, 64])\n"
     ]
    },
    {
     "name": "stderr",
     "output_type": "stream",
     "text": [
      "  7%|▋         | 73/1000 [23:02<5:25:39, 21.08s/it]"
     ]
    },
    {
     "name": "stdout",
     "output_type": "stream",
     "text": [
      "eigenvalues shape torch.Size([5]) eigenvectors shape torch.Size([5, 450])\n",
      "73 /home/phdcs2/Hard_Disk/Datasets/Deep-Spectral-Segmentation/data/object-segmentation/ECSSD/features/dino_vits16/0074.pth\n",
      "dict_keys(['k', 'indices', 'file', 'id', 'model_name', 'patch_size', 'shape'])\n",
      "0074\n",
      "Starting Training\n",
      "epoch: 00, loss: -0.00049\n",
      "epoch: 01, loss: -0.01602\n",
      "epoch: 02, loss: -0.02143\n",
      "epoch: 03, loss: -0.02374\n",
      "epoch: 04, loss: -0.02450\n",
      "epoch: 05, loss: -0.02499\n",
      "epoch: 06, loss: -0.02535\n",
      "epoch: 07, loss: -0.02546\n",
      "epoch: 08, loss: -0.02556\n",
      "epoch: 09, loss: -0.02564\n",
      "torch.Size([450, 64])\n"
     ]
    },
    {
     "name": "stderr",
     "output_type": "stream",
     "text": [
      "  7%|▋         | 74/1000 [23:23<5:26:50, 21.18s/it]"
     ]
    },
    {
     "name": "stdout",
     "output_type": "stream",
     "text": [
      "eigenvalues shape torch.Size([5]) eigenvectors shape torch.Size([5, 450])\n",
      "74 /home/phdcs2/Hard_Disk/Datasets/Deep-Spectral-Segmentation/data/object-segmentation/ECSSD/features/dino_vits16/0075.pth\n",
      "dict_keys(['k', 'indices', 'file', 'id', 'model_name', 'patch_size', 'shape'])\n",
      "0075\n",
      "Starting Training\n",
      "epoch: 00, loss: -0.07224\n",
      "epoch: 01, loss: -0.09890\n",
      "epoch: 02, loss: -0.10371\n",
      "epoch: 03, loss: -0.10514\n",
      "epoch: 04, loss: -0.10693\n",
      "epoch: 05, loss: -0.10794\n",
      "epoch: 06, loss: -0.10517\n",
      "epoch: 07, loss: -0.10660\n",
      "epoch: 08, loss: -0.10936\n",
      "epoch: 09, loss: -0.10736\n",
      "torch.Size([450, 64])\n"
     ]
    },
    {
     "name": "stderr",
     "output_type": "stream",
     "text": [
      "  8%|▊         | 75/1000 [23:42<5:14:01, 20.37s/it]"
     ]
    },
    {
     "name": "stdout",
     "output_type": "stream",
     "text": [
      "eigenvalues shape torch.Size([5]) eigenvectors shape torch.Size([5, 450])\n",
      "75 /home/phdcs2/Hard_Disk/Datasets/Deep-Spectral-Segmentation/data/object-segmentation/ECSSD/features/dino_vits16/0076.pth\n",
      "dict_keys(['k', 'indices', 'file', 'id', 'model_name', 'patch_size', 'shape'])\n",
      "0076\n",
      "Starting Training\n",
      "epoch: 00, loss: -0.03052\n",
      "epoch: 01, loss: -0.06028\n",
      "epoch: 02, loss: -0.06201\n",
      "epoch: 03, loss: -0.06248\n",
      "epoch: 04, loss: -0.06269\n",
      "epoch: 05, loss: -0.06296\n",
      "epoch: 06, loss: -0.06307\n",
      "epoch: 07, loss: -0.06306\n",
      "epoch: 08, loss: -0.06331\n",
      "epoch: 09, loss: -0.06329\n",
      "torch.Size([400, 64])\n"
     ]
    },
    {
     "name": "stderr",
     "output_type": "stream",
     "text": [
      "  8%|▊         | 76/1000 [23:58<4:54:48, 19.14s/it]"
     ]
    },
    {
     "name": "stdout",
     "output_type": "stream",
     "text": [
      "eigenvalues shape torch.Size([5]) eigenvectors shape torch.Size([5, 400])\n",
      "76 /home/phdcs2/Hard_Disk/Datasets/Deep-Spectral-Segmentation/data/object-segmentation/ECSSD/features/dino_vits16/0077.pth\n",
      "dict_keys(['k', 'indices', 'file', 'id', 'model_name', 'patch_size', 'shape'])\n",
      "0077\n",
      "Starting Training\n",
      "epoch: 00, loss: -0.05486\n",
      "epoch: 01, loss: -0.08106\n",
      "epoch: 02, loss: -0.08655\n",
      "epoch: 03, loss: -0.08797\n",
      "epoch: 04, loss: -0.08695\n",
      "epoch: 05, loss: -0.08676\n",
      "epoch: 06, loss: -0.08817\n",
      "epoch: 07, loss: -0.08773\n",
      "epoch: 08, loss: -0.09086\n",
      "epoch: 09, loss: -0.08846\n",
      "torch.Size([450, 64])\n"
     ]
    },
    {
     "name": "stderr",
     "output_type": "stream",
     "text": [
      "  8%|▊         | 77/1000 [24:20<5:06:49, 19.94s/it]"
     ]
    },
    {
     "name": "stdout",
     "output_type": "stream",
     "text": [
      "eigenvalues shape torch.Size([5]) eigenvectors shape torch.Size([5, 450])\n",
      "77 /home/phdcs2/Hard_Disk/Datasets/Deep-Spectral-Segmentation/data/object-segmentation/ECSSD/features/dino_vits16/0078.pth\n",
      "dict_keys(['k', 'indices', 'file', 'id', 'model_name', 'patch_size', 'shape'])\n",
      "0078\n",
      "Starting Training\n",
      "epoch: 00, loss: -0.02871\n",
      "epoch: 01, loss: -0.06274\n",
      "epoch: 02, loss: -0.06389\n",
      "epoch: 03, loss: -0.06530\n",
      "epoch: 04, loss: -0.06536\n",
      "epoch: 05, loss: -0.06573\n",
      "epoch: 06, loss: -0.06746\n",
      "epoch: 07, loss: -0.06641\n",
      "epoch: 08, loss: -0.06666\n",
      "epoch: 09, loss: -0.06706\n",
      "torch.Size([400, 64])\n"
     ]
    },
    {
     "name": "stderr",
     "output_type": "stream",
     "text": [
      "  8%|▊         | 78/1000 [24:36<4:47:24, 18.70s/it]"
     ]
    },
    {
     "name": "stdout",
     "output_type": "stream",
     "text": [
      "eigenvalues shape torch.Size([5]) eigenvectors shape torch.Size([5, 400])\n",
      "78 /home/phdcs2/Hard_Disk/Datasets/Deep-Spectral-Segmentation/data/object-segmentation/ECSSD/features/dino_vits16/0079.pth\n",
      "dict_keys(['k', 'indices', 'file', 'id', 'model_name', 'patch_size', 'shape'])\n",
      "0079\n",
      "Starting Training\n",
      "epoch: 00, loss: -0.05092\n",
      "epoch: 01, loss: -0.06777\n",
      "epoch: 02, loss: -0.06805\n",
      "epoch: 03, loss: -0.06771\n",
      "epoch: 04, loss: -0.06786\n",
      "epoch: 05, loss: -0.06892\n",
      "epoch: 06, loss: -0.06927\n",
      "epoch: 07, loss: -0.06815\n",
      "epoch: 08, loss: -0.06841\n",
      "epoch: 09, loss: -0.06928\n",
      "torch.Size([525, 64])\n"
     ]
    },
    {
     "name": "stderr",
     "output_type": "stream",
     "text": [
      "  8%|▊         | 79/1000 [25:02<5:22:07, 20.99s/it]"
     ]
    },
    {
     "name": "stdout",
     "output_type": "stream",
     "text": [
      "eigenvalues shape torch.Size([5]) eigenvectors shape torch.Size([5, 525])\n",
      "79 /home/phdcs2/Hard_Disk/Datasets/Deep-Spectral-Segmentation/data/object-segmentation/ECSSD/features/dino_vits16/0080.pth\n",
      "dict_keys(['k', 'indices', 'file', 'id', 'model_name', 'patch_size', 'shape'])\n",
      "0080\n",
      "Starting Training\n",
      "epoch: 00, loss: -0.00989\n",
      "epoch: 01, loss: -0.02317\n",
      "epoch: 02, loss: -0.02678\n",
      "epoch: 03, loss: -0.02802\n",
      "epoch: 04, loss: -0.02844\n",
      "epoch: 05, loss: -0.02916\n",
      "epoch: 06, loss: -0.02913\n",
      "epoch: 07, loss: -0.02972\n",
      "epoch: 08, loss: -0.02938\n",
      "epoch: 09, loss: -0.02991\n",
      "torch.Size([450, 64])\n"
     ]
    },
    {
     "name": "stderr",
     "output_type": "stream",
     "text": [
      "  8%|▊         | 80/1000 [25:21<5:09:46, 20.20s/it]"
     ]
    },
    {
     "name": "stdout",
     "output_type": "stream",
     "text": [
      "eigenvalues shape torch.Size([5]) eigenvectors shape torch.Size([5, 450])\n",
      "80 /home/phdcs2/Hard_Disk/Datasets/Deep-Spectral-Segmentation/data/object-segmentation/ECSSD/features/dino_vits16/0081.pth\n",
      "dict_keys(['k', 'indices', 'file', 'id', 'model_name', 'patch_size', 'shape'])\n",
      "0081\n",
      "Starting Training\n",
      "epoch: 00, loss: -0.05754\n",
      "epoch: 01, loss: -0.07940\n",
      "epoch: 02, loss: -0.08085\n",
      "epoch: 03, loss: -0.08054\n",
      "epoch: 04, loss: -0.08018\n",
      "epoch: 05, loss: -0.07975\n",
      "epoch: 06, loss: -0.08049\n",
      "epoch: 07, loss: -0.08088\n",
      "epoch: 08, loss: -0.08035\n",
      "epoch: 09, loss: -0.08085\n",
      "torch.Size([450, 64])\n"
     ]
    },
    {
     "name": "stderr",
     "output_type": "stream",
     "text": [
      "  8%|▊         | 81/1000 [25:40<5:06:47, 20.03s/it]"
     ]
    },
    {
     "name": "stdout",
     "output_type": "stream",
     "text": [
      "eigenvalues shape torch.Size([5]) eigenvectors shape torch.Size([5, 450])\n",
      "81 /home/phdcs2/Hard_Disk/Datasets/Deep-Spectral-Segmentation/data/object-segmentation/ECSSD/features/dino_vits16/0082.pth\n",
      "dict_keys(['k', 'indices', 'file', 'id', 'model_name', 'patch_size', 'shape'])\n",
      "0082\n",
      "Starting Training\n",
      "epoch: 00, loss: -0.01363\n",
      "epoch: 01, loss: -0.02931\n",
      "epoch: 02, loss: -0.03489\n",
      "epoch: 03, loss: -0.03658\n",
      "epoch: 04, loss: -0.03945\n",
      "epoch: 05, loss: -0.03956\n",
      "epoch: 06, loss: -0.04164\n",
      "epoch: 07, loss: -0.04133\n",
      "epoch: 08, loss: -0.04029\n",
      "epoch: 09, loss: -0.04110\n",
      "torch.Size([450, 64])\n"
     ]
    },
    {
     "name": "stderr",
     "output_type": "stream",
     "text": [
      "  8%|▊         | 82/1000 [26:00<5:03:39, 19.85s/it]"
     ]
    },
    {
     "name": "stdout",
     "output_type": "stream",
     "text": [
      "eigenvalues shape torch.Size([5]) eigenvectors shape torch.Size([5, 450])\n",
      "82 /home/phdcs2/Hard_Disk/Datasets/Deep-Spectral-Segmentation/data/object-segmentation/ECSSD/features/dino_vits16/0083.pth\n",
      "dict_keys(['k', 'indices', 'file', 'id', 'model_name', 'patch_size', 'shape'])\n",
      "0083\n",
      "Starting Training\n",
      "epoch: 00, loss: -0.03357\n",
      "epoch: 01, loss: -0.05121\n",
      "epoch: 02, loss: -0.05239\n",
      "epoch: 03, loss: -0.05303\n",
      "epoch: 04, loss: -0.05332\n",
      "epoch: 05, loss: -0.05349\n",
      "epoch: 06, loss: -0.05366\n",
      "epoch: 07, loss: -0.05363\n",
      "epoch: 08, loss: -0.05381\n",
      "epoch: 09, loss: -0.05397\n",
      "torch.Size([450, 64])\n"
     ]
    },
    {
     "name": "stderr",
     "output_type": "stream",
     "text": [
      "  8%|▊         | 83/1000 [26:19<5:00:23, 19.65s/it]"
     ]
    },
    {
     "name": "stdout",
     "output_type": "stream",
     "text": [
      "eigenvalues shape torch.Size([5]) eigenvectors shape torch.Size([5, 450])\n",
      "83 /home/phdcs2/Hard_Disk/Datasets/Deep-Spectral-Segmentation/data/object-segmentation/ECSSD/features/dino_vits16/0084.pth\n",
      "dict_keys(['k', 'indices', 'file', 'id', 'model_name', 'patch_size', 'shape'])\n",
      "0084\n",
      "Starting Training\n",
      "epoch: 00, loss: -0.04643\n",
      "epoch: 01, loss: -0.07788\n",
      "epoch: 02, loss: -0.07728\n",
      "epoch: 03, loss: -0.08226\n",
      "epoch: 04, loss: -0.08089\n",
      "epoch: 05, loss: -0.08154\n",
      "epoch: 06, loss: -0.08135\n",
      "epoch: 07, loss: -0.07903\n",
      "epoch: 08, loss: -0.08170\n",
      "epoch: 09, loss: -0.08240\n",
      "torch.Size([450, 64])\n"
     ]
    },
    {
     "name": "stderr",
     "output_type": "stream",
     "text": [
      "  8%|▊         | 84/1000 [26:39<5:00:46, 19.70s/it]"
     ]
    },
    {
     "name": "stdout",
     "output_type": "stream",
     "text": [
      "eigenvalues shape torch.Size([5]) eigenvectors shape torch.Size([5, 450])\n",
      "84 /home/phdcs2/Hard_Disk/Datasets/Deep-Spectral-Segmentation/data/object-segmentation/ECSSD/features/dino_vits16/0085.pth\n",
      "dict_keys(['k', 'indices', 'file', 'id', 'model_name', 'patch_size', 'shape'])\n",
      "0085\n",
      "Starting Training\n",
      "epoch: 00, loss: -0.04089\n",
      "epoch: 01, loss: -0.07360\n",
      "epoch: 02, loss: -0.07702\n",
      "epoch: 03, loss: -0.08010\n",
      "epoch: 04, loss: -0.08027\n",
      "epoch: 05, loss: -0.08191\n",
      "epoch: 06, loss: -0.08152\n",
      "epoch: 07, loss: -0.08283\n",
      "epoch: 08, loss: -0.08301\n",
      "epoch: 09, loss: -0.08255\n",
      "torch.Size([450, 64])\n"
     ]
    },
    {
     "name": "stderr",
     "output_type": "stream",
     "text": [
      "  8%|▊         | 85/1000 [26:59<5:04:02, 19.94s/it]"
     ]
    },
    {
     "name": "stdout",
     "output_type": "stream",
     "text": [
      "eigenvalues shape torch.Size([5]) eigenvectors shape torch.Size([5, 450])\n",
      "85 /home/phdcs2/Hard_Disk/Datasets/Deep-Spectral-Segmentation/data/object-segmentation/ECSSD/features/dino_vits16/0086.pth\n",
      "dict_keys(['k', 'indices', 'file', 'id', 'model_name', 'patch_size', 'shape'])\n",
      "0086\n",
      "Starting Training\n",
      "epoch: 00, loss: 0.00074\n",
      "epoch: 01, loss: -0.03153\n",
      "epoch: 02, loss: -0.04048\n",
      "epoch: 03, loss: -0.04043\n",
      "epoch: 04, loss: -0.04061\n",
      "epoch: 05, loss: -0.04263\n",
      "epoch: 06, loss: -0.04551\n",
      "epoch: 07, loss: -0.04449\n",
      "epoch: 08, loss: -0.04632\n",
      "epoch: 09, loss: -0.04705\n",
      "torch.Size([450, 64])\n"
     ]
    },
    {
     "name": "stderr",
     "output_type": "stream",
     "text": [
      "  9%|▊         | 86/1000 [27:18<4:59:32, 19.66s/it]"
     ]
    },
    {
     "name": "stdout",
     "output_type": "stream",
     "text": [
      "eigenvalues shape torch.Size([5]) eigenvectors shape torch.Size([5, 450])\n",
      "86 /home/phdcs2/Hard_Disk/Datasets/Deep-Spectral-Segmentation/data/object-segmentation/ECSSD/features/dino_vits16/0087.pth\n",
      "dict_keys(['k', 'indices', 'file', 'id', 'model_name', 'patch_size', 'shape'])\n",
      "0087\n",
      "Starting Training\n",
      "epoch: 00, loss: -0.10621\n",
      "epoch: 01, loss: -0.13203\n",
      "epoch: 02, loss: -0.13598\n",
      "epoch: 03, loss: -0.13654\n",
      "epoch: 04, loss: -0.13933\n",
      "epoch: 05, loss: -0.13867\n",
      "epoch: 06, loss: -0.13941\n",
      "epoch: 07, loss: -0.14015\n",
      "epoch: 08, loss: -0.13924\n",
      "epoch: 09, loss: -0.13987\n",
      "torch.Size([450, 64])\n"
     ]
    },
    {
     "name": "stderr",
     "output_type": "stream",
     "text": [
      "  9%|▊         | 87/1000 [27:38<5:00:52, 19.77s/it]"
     ]
    },
    {
     "name": "stdout",
     "output_type": "stream",
     "text": [
      "eigenvalues shape torch.Size([5]) eigenvectors shape torch.Size([5, 450])\n",
      "87 /home/phdcs2/Hard_Disk/Datasets/Deep-Spectral-Segmentation/data/object-segmentation/ECSSD/features/dino_vits16/0088.pth\n",
      "dict_keys(['k', 'indices', 'file', 'id', 'model_name', 'patch_size', 'shape'])\n",
      "0088\n",
      "Starting Training\n",
      "epoch: 00, loss: -0.03186\n",
      "epoch: 01, loss: -0.05799\n",
      "epoch: 02, loss: -0.06165\n",
      "epoch: 03, loss: -0.06357\n",
      "epoch: 04, loss: -0.06391\n",
      "epoch: 05, loss: -0.06610\n",
      "epoch: 06, loss: -0.06586\n",
      "epoch: 07, loss: -0.06573\n",
      "epoch: 08, loss: -0.06527\n",
      "epoch: 09, loss: -0.06519\n",
      "torch.Size([450, 64])\n"
     ]
    },
    {
     "name": "stderr",
     "output_type": "stream",
     "text": [
      "  9%|▉         | 88/1000 [27:57<4:58:16, 19.62s/it]"
     ]
    },
    {
     "name": "stdout",
     "output_type": "stream",
     "text": [
      "eigenvalues shape torch.Size([5]) eigenvectors shape torch.Size([5, 450])\n",
      "88 /home/phdcs2/Hard_Disk/Datasets/Deep-Spectral-Segmentation/data/object-segmentation/ECSSD/features/dino_vits16/0089.pth\n",
      "dict_keys(['k', 'indices', 'file', 'id', 'model_name', 'patch_size', 'shape'])\n",
      "0089\n",
      "Starting Training\n",
      "epoch: 00, loss: -0.05555\n",
      "epoch: 01, loss: -0.07885\n",
      "epoch: 02, loss: -0.08066\n",
      "epoch: 03, loss: -0.08099\n",
      "epoch: 04, loss: -0.07911\n",
      "epoch: 05, loss: -0.08066\n",
      "epoch: 06, loss: -0.08090\n",
      "epoch: 07, loss: -0.08031\n",
      "epoch: 08, loss: -0.08170\n",
      "epoch: 09, loss: -0.08132\n",
      "torch.Size([400, 64])\n"
     ]
    },
    {
     "name": "stderr",
     "output_type": "stream",
     "text": [
      "  9%|▉         | 89/1000 [28:15<4:48:01, 18.97s/it]"
     ]
    },
    {
     "name": "stdout",
     "output_type": "stream",
     "text": [
      "eigenvalues shape torch.Size([5]) eigenvectors shape torch.Size([5, 400])\n",
      "89 /home/phdcs2/Hard_Disk/Datasets/Deep-Spectral-Segmentation/data/object-segmentation/ECSSD/features/dino_vits16/0090.pth\n",
      "dict_keys(['k', 'indices', 'file', 'id', 'model_name', 'patch_size', 'shape'])\n",
      "0090\n",
      "Starting Training\n",
      "epoch: 00, loss: -0.02945\n",
      "epoch: 01, loss: -0.05511\n",
      "epoch: 02, loss: -0.06075\n",
      "epoch: 03, loss: -0.05926\n",
      "epoch: 04, loss: -0.06507\n",
      "epoch: 05, loss: -0.06641\n",
      "epoch: 06, loss: -0.06324\n",
      "epoch: 07, loss: -0.06206\n",
      "epoch: 08, loss: -0.06448\n",
      "epoch: 09, loss: -0.06312\n",
      "torch.Size([400, 64])\n"
     ]
    },
    {
     "name": "stderr",
     "output_type": "stream",
     "text": [
      "  9%|▉         | 90/1000 [28:33<4:45:28, 18.82s/it]"
     ]
    },
    {
     "name": "stdout",
     "output_type": "stream",
     "text": [
      "eigenvalues shape torch.Size([5]) eigenvectors shape torch.Size([5, 400])\n",
      "90 /home/phdcs2/Hard_Disk/Datasets/Deep-Spectral-Segmentation/data/object-segmentation/ECSSD/features/dino_vits16/0091.pth\n",
      "dict_keys(['k', 'indices', 'file', 'id', 'model_name', 'patch_size', 'shape'])\n",
      "0091\n",
      "Starting Training\n",
      "epoch: 00, loss: -0.01832\n",
      "epoch: 01, loss: -0.03240\n",
      "epoch: 02, loss: -0.03509\n",
      "epoch: 03, loss: -0.03636\n",
      "epoch: 04, loss: -0.03639\n",
      "epoch: 05, loss: -0.03685\n",
      "epoch: 06, loss: -0.03731\n",
      "epoch: 07, loss: -0.03737\n",
      "epoch: 08, loss: -0.03734\n",
      "epoch: 09, loss: -0.03757\n",
      "torch.Size([400, 64])\n"
     ]
    },
    {
     "name": "stderr",
     "output_type": "stream",
     "text": [
      "  9%|▉         | 91/1000 [28:50<4:35:40, 18.20s/it]"
     ]
    },
    {
     "name": "stdout",
     "output_type": "stream",
     "text": [
      "eigenvalues shape torch.Size([5]) eigenvectors shape torch.Size([5, 400])\n",
      "91 /home/phdcs2/Hard_Disk/Datasets/Deep-Spectral-Segmentation/data/object-segmentation/ECSSD/features/dino_vits16/0092.pth\n",
      "dict_keys(['k', 'indices', 'file', 'id', 'model_name', 'patch_size', 'shape'])\n",
      "0092\n",
      "Starting Training\n",
      "epoch: 00, loss: -0.02830\n",
      "epoch: 01, loss: -0.05792\n",
      "epoch: 02, loss: -0.06734\n",
      "epoch: 03, loss: -0.07242\n",
      "epoch: 04, loss: -0.07365\n",
      "epoch: 05, loss: -0.07033\n",
      "epoch: 06, loss: -0.07565\n",
      "epoch: 07, loss: -0.07236\n",
      "epoch: 08, loss: -0.07386\n",
      "epoch: 09, loss: -0.07513\n",
      "torch.Size([400, 64])\n"
     ]
    },
    {
     "name": "stderr",
     "output_type": "stream",
     "text": [
      "  9%|▉         | 92/1000 [29:10<4:42:13, 18.65s/it]"
     ]
    },
    {
     "name": "stdout",
     "output_type": "stream",
     "text": [
      "eigenvalues shape torch.Size([5]) eigenvectors shape torch.Size([5, 400])\n",
      "92 /home/phdcs2/Hard_Disk/Datasets/Deep-Spectral-Segmentation/data/object-segmentation/ECSSD/features/dino_vits16/0093.pth\n",
      "dict_keys(['k', 'indices', 'file', 'id', 'model_name', 'patch_size', 'shape'])\n",
      "0093\n",
      "Starting Training\n",
      "epoch: 00, loss: -0.02773\n",
      "epoch: 01, loss: -0.04482\n",
      "epoch: 02, loss: -0.04639\n",
      "epoch: 03, loss: -0.04700\n",
      "epoch: 04, loss: -0.04728\n",
      "epoch: 05, loss: -0.04754\n",
      "epoch: 06, loss: -0.04779\n",
      "epoch: 07, loss: -0.04784\n",
      "epoch: 08, loss: -0.04800\n",
      "epoch: 09, loss: -0.04811\n",
      "torch.Size([400, 64])\n"
     ]
    },
    {
     "name": "stderr",
     "output_type": "stream",
     "text": [
      "  9%|▉         | 93/1000 [29:27<4:34:47, 18.18s/it]"
     ]
    },
    {
     "name": "stdout",
     "output_type": "stream",
     "text": [
      "eigenvalues shape torch.Size([5]) eigenvectors shape torch.Size([5, 400])\n",
      "93 /home/phdcs2/Hard_Disk/Datasets/Deep-Spectral-Segmentation/data/object-segmentation/ECSSD/features/dino_vits16/0094.pth\n",
      "dict_keys(['k', 'indices', 'file', 'id', 'model_name', 'patch_size', 'shape'])\n",
      "0094\n",
      "Starting Training\n",
      "epoch: 00, loss: -0.02615\n",
      "epoch: 01, loss: -0.04189\n",
      "epoch: 02, loss: -0.04363\n",
      "epoch: 03, loss: -0.04429\n",
      "epoch: 04, loss: -0.04448\n",
      "epoch: 05, loss: -0.04481\n",
      "epoch: 06, loss: -0.04488\n",
      "epoch: 07, loss: -0.04508\n",
      "epoch: 08, loss: -0.04508\n",
      "epoch: 09, loss: -0.04528\n",
      "torch.Size([400, 64])\n"
     ]
    },
    {
     "name": "stderr",
     "output_type": "stream",
     "text": [
      "  9%|▉         | 94/1000 [29:46<4:38:36, 18.45s/it]"
     ]
    },
    {
     "name": "stdout",
     "output_type": "stream",
     "text": [
      "eigenvalues shape torch.Size([5]) eigenvectors shape torch.Size([5, 400])\n",
      "94 /home/phdcs2/Hard_Disk/Datasets/Deep-Spectral-Segmentation/data/object-segmentation/ECSSD/features/dino_vits16/0095.pth\n",
      "dict_keys(['k', 'indices', 'file', 'id', 'model_name', 'patch_size', 'shape'])\n",
      "0095\n",
      "Starting Training\n",
      "epoch: 00, loss: -0.00725\n",
      "epoch: 01, loss: -0.02261\n",
      "epoch: 02, loss: -0.02847\n",
      "epoch: 03, loss: -0.03128\n",
      "epoch: 04, loss: -0.03358\n",
      "epoch: 05, loss: -0.03359\n",
      "epoch: 06, loss: -0.03301\n",
      "epoch: 07, loss: -0.03665\n",
      "epoch: 08, loss: -0.03512\n",
      "epoch: 09, loss: -0.03205\n",
      "torch.Size([400, 64])\n"
     ]
    },
    {
     "name": "stderr",
     "output_type": "stream",
     "text": [
      " 10%|▉         | 95/1000 [30:03<4:32:26, 18.06s/it]"
     ]
    },
    {
     "name": "stdout",
     "output_type": "stream",
     "text": [
      "eigenvalues shape torch.Size([5]) eigenvectors shape torch.Size([5, 400])\n",
      "95 /home/phdcs2/Hard_Disk/Datasets/Deep-Spectral-Segmentation/data/object-segmentation/ECSSD/features/dino_vits16/0096.pth\n",
      "dict_keys(['k', 'indices', 'file', 'id', 'model_name', 'patch_size', 'shape'])\n",
      "0096\n",
      "Starting Training\n",
      "epoch: 00, loss: -0.00161\n",
      "epoch: 01, loss: -0.02225\n",
      "epoch: 02, loss: -0.02850\n",
      "epoch: 03, loss: -0.03009\n",
      "epoch: 04, loss: -0.03085\n",
      "epoch: 05, loss: -0.03103\n",
      "epoch: 06, loss: -0.03139\n",
      "epoch: 07, loss: -0.03155\n",
      "epoch: 08, loss: -0.03164\n",
      "epoch: 09, loss: -0.03171\n",
      "torch.Size([400, 64])\n"
     ]
    },
    {
     "name": "stderr",
     "output_type": "stream",
     "text": [
      " 10%|▉         | 96/1000 [30:19<4:24:13, 17.54s/it]"
     ]
    },
    {
     "name": "stdout",
     "output_type": "stream",
     "text": [
      "eigenvalues shape torch.Size([5]) eigenvectors shape torch.Size([5, 400])\n",
      "96 /home/phdcs2/Hard_Disk/Datasets/Deep-Spectral-Segmentation/data/object-segmentation/ECSSD/features/dino_vits16/0097.pth\n",
      "dict_keys(['k', 'indices', 'file', 'id', 'model_name', 'patch_size', 'shape'])\n",
      "0097\n",
      "Starting Training\n",
      "epoch: 00, loss: -0.03265\n",
      "epoch: 01, loss: -0.07138\n",
      "epoch: 02, loss: -0.07832\n",
      "epoch: 03, loss: -0.08083\n",
      "epoch: 04, loss: -0.08086\n",
      "epoch: 05, loss: -0.08205\n",
      "epoch: 06, loss: -0.08274\n",
      "epoch: 07, loss: -0.08354\n",
      "epoch: 08, loss: -0.08444\n",
      "epoch: 09, loss: -0.08452\n",
      "torch.Size([400, 64])\n"
     ]
    },
    {
     "name": "stderr",
     "output_type": "stream",
     "text": [
      " 10%|▉         | 97/1000 [30:34<4:10:56, 16.67s/it]"
     ]
    },
    {
     "name": "stdout",
     "output_type": "stream",
     "text": [
      "eigenvalues shape torch.Size([5]) eigenvectors shape torch.Size([5, 400])\n",
      "97 /home/phdcs2/Hard_Disk/Datasets/Deep-Spectral-Segmentation/data/object-segmentation/ECSSD/features/dino_vits16/0098.pth\n",
      "dict_keys(['k', 'indices', 'file', 'id', 'model_name', 'patch_size', 'shape'])\n",
      "0098\n",
      "Starting Training\n",
      "epoch: 00, loss: -0.04679\n",
      "epoch: 01, loss: -0.06863\n",
      "epoch: 02, loss: -0.07575\n",
      "epoch: 03, loss: -0.07789\n",
      "epoch: 04, loss: -0.08034\n",
      "epoch: 05, loss: -0.07935\n",
      "epoch: 06, loss: -0.07857\n",
      "epoch: 07, loss: -0.08393\n",
      "epoch: 08, loss: -0.08030\n",
      "epoch: 09, loss: -0.08105\n",
      "torch.Size([400, 64])\n"
     ]
    },
    {
     "name": "stderr",
     "output_type": "stream",
     "text": [
      " 10%|▉         | 98/1000 [30:53<4:18:53, 17.22s/it]"
     ]
    },
    {
     "name": "stdout",
     "output_type": "stream",
     "text": [
      "eigenvalues shape torch.Size([5]) eigenvectors shape torch.Size([5, 400])\n",
      "98 /home/phdcs2/Hard_Disk/Datasets/Deep-Spectral-Segmentation/data/object-segmentation/ECSSD/features/dino_vits16/0099.pth\n",
      "dict_keys(['k', 'indices', 'file', 'id', 'model_name', 'patch_size', 'shape'])\n",
      "0099\n",
      "Starting Training\n",
      "epoch: 00, loss: -0.01100\n",
      "epoch: 01, loss: -0.03526\n",
      "epoch: 02, loss: -0.04154\n",
      "epoch: 03, loss: -0.04472\n",
      "epoch: 04, loss: -0.04200\n",
      "epoch: 05, loss: -0.04569\n",
      "epoch: 06, loss: -0.04493\n",
      "epoch: 07, loss: -0.04576\n",
      "epoch: 08, loss: -0.04727\n",
      "epoch: 09, loss: -0.04584\n",
      "torch.Size([400, 64])\n"
     ]
    },
    {
     "name": "stderr",
     "output_type": "stream",
     "text": [
      " 10%|▉         | 99/1000 [31:11<4:24:38, 17.62s/it]"
     ]
    },
    {
     "name": "stdout",
     "output_type": "stream",
     "text": [
      "eigenvalues shape torch.Size([5]) eigenvectors shape torch.Size([5, 400])\n",
      "99 /home/phdcs2/Hard_Disk/Datasets/Deep-Spectral-Segmentation/data/object-segmentation/ECSSD/features/dino_vits16/0100.pth\n",
      "dict_keys(['k', 'indices', 'file', 'id', 'model_name', 'patch_size', 'shape'])\n",
      "0100\n",
      "Starting Training\n",
      "epoch: 00, loss: -0.00475\n",
      "epoch: 01, loss: -0.02076\n",
      "epoch: 02, loss: -0.02599\n",
      "epoch: 03, loss: -0.02809\n",
      "epoch: 04, loss: -0.02867\n",
      "epoch: 05, loss: -0.02894\n",
      "epoch: 06, loss: -0.02917\n",
      "epoch: 07, loss: -0.02943\n",
      "epoch: 08, loss: -0.02959\n",
      "epoch: 09, loss: -0.02955\n",
      "torch.Size([400, 64])\n"
     ]
    },
    {
     "name": "stderr",
     "output_type": "stream",
     "text": [
      " 10%|█         | 100/1000 [31:29<4:24:41, 17.65s/it]"
     ]
    },
    {
     "name": "stdout",
     "output_type": "stream",
     "text": [
      "eigenvalues shape torch.Size([5]) eigenvectors shape torch.Size([5, 400])\n",
      "100 /home/phdcs2/Hard_Disk/Datasets/Deep-Spectral-Segmentation/data/object-segmentation/ECSSD/features/dino_vits16/0101.pth\n",
      "dict_keys(['k', 'indices', 'file', 'id', 'model_name', 'patch_size', 'shape'])\n",
      "0101\n",
      "Starting Training\n",
      "epoch: 00, loss: -0.05541\n",
      "epoch: 01, loss: -0.08546\n",
      "epoch: 02, loss: -0.09205\n",
      "epoch: 03, loss: -0.09145\n",
      "epoch: 04, loss: -0.09242\n",
      "epoch: 05, loss: -0.09360\n",
      "epoch: 06, loss: -0.09644\n",
      "epoch: 07, loss: -0.09602\n",
      "epoch: 08, loss: -0.09482\n",
      "epoch: 09, loss: -0.09291\n",
      "torch.Size([400, 64])\n"
     ]
    },
    {
     "name": "stderr",
     "output_type": "stream",
     "text": [
      " 10%|█         | 101/1000 [31:46<4:23:37, 17.59s/it]"
     ]
    },
    {
     "name": "stdout",
     "output_type": "stream",
     "text": [
      "eigenvalues shape torch.Size([5]) eigenvectors shape torch.Size([5, 400])\n",
      "101 /home/phdcs2/Hard_Disk/Datasets/Deep-Spectral-Segmentation/data/object-segmentation/ECSSD/features/dino_vits16/0102.pth\n",
      "dict_keys(['k', 'indices', 'file', 'id', 'model_name', 'patch_size', 'shape'])\n",
      "0102\n",
      "Starting Training\n",
      "epoch: 00, loss: -0.04682\n",
      "epoch: 01, loss: -0.07884\n",
      "epoch: 02, loss: -0.08384\n",
      "epoch: 03, loss: -0.08460\n",
      "epoch: 04, loss: -0.08660\n",
      "epoch: 05, loss: -0.08566\n",
      "epoch: 06, loss: -0.08542\n",
      "epoch: 07, loss: -0.08866\n",
      "epoch: 08, loss: -0.08901\n",
      "epoch: 09, loss: -0.08753\n",
      "torch.Size([400, 64])\n"
     ]
    },
    {
     "name": "stderr",
     "output_type": "stream",
     "text": [
      " 10%|█         | 102/1000 [32:05<4:28:54, 17.97s/it]"
     ]
    },
    {
     "name": "stdout",
     "output_type": "stream",
     "text": [
      "eigenvalues shape torch.Size([5]) eigenvectors shape torch.Size([5, 400])\n",
      "102 /home/phdcs2/Hard_Disk/Datasets/Deep-Spectral-Segmentation/data/object-segmentation/ECSSD/features/dino_vits16/0103.pth\n",
      "dict_keys(['k', 'indices', 'file', 'id', 'model_name', 'patch_size', 'shape'])\n",
      "0103\n",
      "Starting Training\n",
      "epoch: 00, loss: -0.04751\n",
      "epoch: 01, loss: -0.07408\n",
      "epoch: 02, loss: -0.07825\n",
      "epoch: 03, loss: -0.08309\n",
      "epoch: 04, loss: -0.08260\n",
      "epoch: 05, loss: -0.08175\n",
      "epoch: 06, loss: -0.08215\n",
      "epoch: 07, loss: -0.08515\n",
      "epoch: 08, loss: -0.08402\n",
      "epoch: 09, loss: -0.08379\n",
      "torch.Size([400, 64])\n"
     ]
    },
    {
     "name": "stderr",
     "output_type": "stream",
     "text": [
      " 10%|█         | 103/1000 [32:21<4:19:50, 17.38s/it]"
     ]
    },
    {
     "name": "stdout",
     "output_type": "stream",
     "text": [
      "eigenvalues shape torch.Size([5]) eigenvectors shape torch.Size([5, 400])\n",
      "103 /home/phdcs2/Hard_Disk/Datasets/Deep-Spectral-Segmentation/data/object-segmentation/ECSSD/features/dino_vits16/0104.pth\n",
      "dict_keys(['k', 'indices', 'file', 'id', 'model_name', 'patch_size', 'shape'])\n",
      "0104\n",
      "Starting Training\n",
      "epoch: 00, loss: -0.04048\n",
      "epoch: 01, loss: -0.07471\n",
      "epoch: 02, loss: -0.08360\n",
      "epoch: 03, loss: -0.08178\n",
      "epoch: 04, loss: -0.08526\n",
      "epoch: 05, loss: -0.08546\n",
      "epoch: 06, loss: -0.08593\n",
      "epoch: 07, loss: -0.08762\n",
      "epoch: 08, loss: -0.08617\n",
      "epoch: 09, loss: -0.08572\n",
      "torch.Size([400, 64])\n"
     ]
    },
    {
     "name": "stderr",
     "output_type": "stream",
     "text": [
      " 10%|█         | 104/1000 [32:40<4:24:42, 17.73s/it]"
     ]
    },
    {
     "name": "stdout",
     "output_type": "stream",
     "text": [
      "eigenvalues shape torch.Size([5]) eigenvectors shape torch.Size([5, 400])\n",
      "104 /home/phdcs2/Hard_Disk/Datasets/Deep-Spectral-Segmentation/data/object-segmentation/ECSSD/features/dino_vits16/0105.pth\n",
      "dict_keys(['k', 'indices', 'file', 'id', 'model_name', 'patch_size', 'shape'])\n",
      "0105\n",
      "Starting Training\n",
      "epoch: 00, loss: -0.03826\n",
      "epoch: 01, loss: -0.06861\n",
      "epoch: 02, loss: -0.07600\n",
      "epoch: 03, loss: -0.07734\n",
      "epoch: 04, loss: -0.07840\n",
      "epoch: 05, loss: -0.07982\n",
      "epoch: 06, loss: -0.08010\n",
      "epoch: 07, loss: -0.08227\n",
      "epoch: 08, loss: -0.08068\n",
      "epoch: 09, loss: -0.08117\n",
      "torch.Size([400, 64])\n"
     ]
    },
    {
     "name": "stderr",
     "output_type": "stream",
     "text": [
      " 10%|█         | 105/1000 [32:58<4:27:40, 17.94s/it]"
     ]
    },
    {
     "name": "stdout",
     "output_type": "stream",
     "text": [
      "eigenvalues shape torch.Size([5]) eigenvectors shape torch.Size([5, 400])\n",
      "105 /home/phdcs2/Hard_Disk/Datasets/Deep-Spectral-Segmentation/data/object-segmentation/ECSSD/features/dino_vits16/0106.pth\n",
      "dict_keys(['k', 'indices', 'file', 'id', 'model_name', 'patch_size', 'shape'])\n",
      "0106\n",
      "Starting Training\n",
      "epoch: 00, loss: 0.00057\n",
      "epoch: 01, loss: -0.00725\n",
      "epoch: 02, loss: -0.01120\n",
      "epoch: 03, loss: -0.01325\n",
      "epoch: 04, loss: -0.01437\n",
      "epoch: 05, loss: -0.01485\n",
      "epoch: 06, loss: -0.01534\n",
      "epoch: 07, loss: -0.01592\n",
      "epoch: 08, loss: -0.01613\n",
      "epoch: 09, loss: -0.01640\n",
      "torch.Size([400, 64])\n"
     ]
    },
    {
     "name": "stderr",
     "output_type": "stream",
     "text": [
      " 11%|█         | 106/1000 [33:18<4:35:03, 18.46s/it]"
     ]
    },
    {
     "name": "stdout",
     "output_type": "stream",
     "text": [
      "eigenvalues shape torch.Size([5]) eigenvectors shape torch.Size([5, 400])\n",
      "106 /home/phdcs2/Hard_Disk/Datasets/Deep-Spectral-Segmentation/data/object-segmentation/ECSSD/features/dino_vits16/0107.pth\n",
      "dict_keys(['k', 'indices', 'file', 'id', 'model_name', 'patch_size', 'shape'])\n",
      "0107\n",
      "Starting Training\n",
      "epoch: 00, loss: -0.05180\n",
      "epoch: 01, loss: -0.08316\n",
      "epoch: 02, loss: -0.08609\n",
      "epoch: 03, loss: -0.09086\n",
      "epoch: 04, loss: -0.08959\n",
      "epoch: 05, loss: -0.08949\n",
      "epoch: 06, loss: -0.09450\n",
      "epoch: 07, loss: -0.09400\n",
      "epoch: 08, loss: -0.09484\n",
      "epoch: 09, loss: -0.09287\n",
      "torch.Size([400, 64])\n"
     ]
    },
    {
     "name": "stderr",
     "output_type": "stream",
     "text": [
      " 11%|█         | 107/1000 [33:35<4:28:47, 18.06s/it]"
     ]
    },
    {
     "name": "stdout",
     "output_type": "stream",
     "text": [
      "eigenvalues shape torch.Size([5]) eigenvectors shape torch.Size([5, 400])\n",
      "107 /home/phdcs2/Hard_Disk/Datasets/Deep-Spectral-Segmentation/data/object-segmentation/ECSSD/features/dino_vits16/0108.pth\n",
      "dict_keys(['k', 'indices', 'file', 'id', 'model_name', 'patch_size', 'shape'])\n",
      "0108\n",
      "Starting Training\n",
      "epoch: 00, loss: -0.04942\n",
      "epoch: 01, loss: -0.08557\n",
      "epoch: 02, loss: -0.08505\n",
      "epoch: 03, loss: -0.08643\n",
      "epoch: 04, loss: -0.08694\n",
      "epoch: 05, loss: -0.08801\n",
      "epoch: 06, loss: -0.08797\n",
      "epoch: 07, loss: -0.08940\n",
      "epoch: 08, loss: -0.09271\n",
      "epoch: 09, loss: -0.09162\n",
      "torch.Size([400, 64])\n"
     ]
    },
    {
     "name": "stderr",
     "output_type": "stream",
     "text": [
      " 11%|█         | 108/1000 [33:54<4:32:53, 18.36s/it]"
     ]
    },
    {
     "name": "stdout",
     "output_type": "stream",
     "text": [
      "eigenvalues shape torch.Size([5]) eigenvectors shape torch.Size([5, 400])\n",
      "108 /home/phdcs2/Hard_Disk/Datasets/Deep-Spectral-Segmentation/data/object-segmentation/ECSSD/features/dino_vits16/0109.pth\n",
      "dict_keys(['k', 'indices', 'file', 'id', 'model_name', 'patch_size', 'shape'])\n",
      "0109\n",
      "Starting Training\n",
      "epoch: 00, loss: -0.00207\n",
      "epoch: 01, loss: -0.02412\n",
      "epoch: 02, loss: -0.02940\n",
      "epoch: 03, loss: -0.03191\n",
      "epoch: 04, loss: -0.03438\n",
      "epoch: 05, loss: -0.03492\n",
      "epoch: 06, loss: -0.03626\n",
      "epoch: 07, loss: -0.03524\n",
      "epoch: 08, loss: -0.03624\n",
      "epoch: 09, loss: -0.03560\n",
      "torch.Size([400, 64])\n"
     ]
    },
    {
     "name": "stderr",
     "output_type": "stream",
     "text": [
      " 11%|█         | 109/1000 [34:12<4:30:52, 18.24s/it]"
     ]
    },
    {
     "name": "stdout",
     "output_type": "stream",
     "text": [
      "eigenvalues shape torch.Size([5]) eigenvectors shape torch.Size([5, 400])\n",
      "109 /home/phdcs2/Hard_Disk/Datasets/Deep-Spectral-Segmentation/data/object-segmentation/ECSSD/features/dino_vits16/0110.pth\n",
      "dict_keys(['k', 'indices', 'file', 'id', 'model_name', 'patch_size', 'shape'])\n",
      "0110\n",
      "Starting Training\n",
      "epoch: 00, loss: -0.00495\n",
      "epoch: 01, loss: -0.03648\n",
      "epoch: 02, loss: -0.03906\n",
      "epoch: 03, loss: -0.03767\n",
      "epoch: 04, loss: -0.04266\n",
      "epoch: 05, loss: -0.04217\n",
      "epoch: 06, loss: -0.04256\n",
      "epoch: 07, loss: -0.04155\n",
      "epoch: 08, loss: -0.04578\n",
      "epoch: 09, loss: -0.04298\n",
      "torch.Size([400, 64])\n"
     ]
    },
    {
     "name": "stderr",
     "output_type": "stream",
     "text": [
      " 11%|█         | 110/1000 [34:31<4:35:10, 18.55s/it]"
     ]
    },
    {
     "name": "stdout",
     "output_type": "stream",
     "text": [
      "eigenvalues shape torch.Size([5]) eigenvectors shape torch.Size([5, 400])\n",
      "110 /home/phdcs2/Hard_Disk/Datasets/Deep-Spectral-Segmentation/data/object-segmentation/ECSSD/features/dino_vits16/0111.pth\n",
      "dict_keys(['k', 'indices', 'file', 'id', 'model_name', 'patch_size', 'shape'])\n",
      "0111\n",
      "Starting Training\n",
      "epoch: 00, loss: -0.00009\n",
      "epoch: 01, loss: -0.01989\n",
      "epoch: 02, loss: -0.02558\n",
      "epoch: 03, loss: -0.02752\n",
      "epoch: 04, loss: -0.02831\n",
      "epoch: 05, loss: -0.02883\n",
      "epoch: 06, loss: -0.02907\n",
      "epoch: 07, loss: -0.02920\n",
      "epoch: 08, loss: -0.02937\n",
      "epoch: 09, loss: -0.02945\n",
      "torch.Size([400, 64])\n"
     ]
    },
    {
     "name": "stderr",
     "output_type": "stream",
     "text": [
      " 11%|█         | 111/1000 [34:48<4:28:55, 18.15s/it]"
     ]
    },
    {
     "name": "stdout",
     "output_type": "stream",
     "text": [
      "eigenvalues shape torch.Size([5]) eigenvectors shape torch.Size([5, 400])\n",
      "111 /home/phdcs2/Hard_Disk/Datasets/Deep-Spectral-Segmentation/data/object-segmentation/ECSSD/features/dino_vits16/0112.pth\n",
      "dict_keys(['k', 'indices', 'file', 'id', 'model_name', 'patch_size', 'shape'])\n",
      "0112\n",
      "Starting Training\n",
      "epoch: 00, loss: -0.02230\n",
      "epoch: 01, loss: -0.04048\n",
      "epoch: 02, loss: -0.04275\n",
      "epoch: 03, loss: -0.04331\n",
      "epoch: 04, loss: -0.04369\n",
      "epoch: 05, loss: -0.04400\n",
      "epoch: 06, loss: -0.04425\n",
      "epoch: 07, loss: -0.04431\n",
      "epoch: 08, loss: -0.04440\n",
      "epoch: 09, loss: -0.04460\n",
      "torch.Size([400, 64])\n"
     ]
    },
    {
     "name": "stderr",
     "output_type": "stream",
     "text": [
      " 11%|█         | 112/1000 [35:05<4:23:13, 17.79s/it]"
     ]
    },
    {
     "name": "stdout",
     "output_type": "stream",
     "text": [
      "eigenvalues shape torch.Size([5]) eigenvectors shape torch.Size([5, 400])\n",
      "112 /home/phdcs2/Hard_Disk/Datasets/Deep-Spectral-Segmentation/data/object-segmentation/ECSSD/features/dino_vits16/0113.pth\n",
      "dict_keys(['k', 'indices', 'file', 'id', 'model_name', 'patch_size', 'shape'])\n",
      "0113\n",
      "Starting Training\n",
      "epoch: 00, loss: -0.00857\n",
      "epoch: 01, loss: -0.02768\n",
      "epoch: 02, loss: -0.03065\n",
      "epoch: 03, loss: -0.03273\n",
      "epoch: 04, loss: -0.03336\n",
      "epoch: 05, loss: -0.03367\n",
      "epoch: 06, loss: -0.03462\n",
      "epoch: 07, loss: -0.03435\n",
      "epoch: 08, loss: -0.03456\n",
      "epoch: 09, loss: -0.03463\n",
      "torch.Size([400, 64])\n"
     ]
    },
    {
     "name": "stderr",
     "output_type": "stream",
     "text": [
      " 11%|█▏        | 113/1000 [35:22<4:18:28, 17.48s/it]"
     ]
    },
    {
     "name": "stdout",
     "output_type": "stream",
     "text": [
      "eigenvalues shape torch.Size([5]) eigenvectors shape torch.Size([5, 400])\n",
      "113 /home/phdcs2/Hard_Disk/Datasets/Deep-Spectral-Segmentation/data/object-segmentation/ECSSD/features/dino_vits16/0114.pth\n",
      "dict_keys(['k', 'indices', 'file', 'id', 'model_name', 'patch_size', 'shape'])\n",
      "0114\n",
      "Starting Training\n",
      "epoch: 00, loss: -0.00391\n",
      "epoch: 01, loss: -0.01800\n",
      "epoch: 02, loss: -0.02129\n",
      "epoch: 03, loss: -0.02225\n",
      "epoch: 04, loss: -0.02306\n",
      "epoch: 05, loss: -0.02363\n",
      "epoch: 06, loss: -0.02380\n",
      "epoch: 07, loss: -0.02392\n",
      "epoch: 08, loss: -0.02403\n",
      "epoch: 09, loss: -0.02431\n",
      "torch.Size([400, 64])\n"
     ]
    },
    {
     "name": "stderr",
     "output_type": "stream",
     "text": [
      " 11%|█▏        | 114/1000 [35:41<4:24:57, 17.94s/it]"
     ]
    },
    {
     "name": "stdout",
     "output_type": "stream",
     "text": [
      "eigenvalues shape torch.Size([5]) eigenvectors shape torch.Size([5, 400])\n",
      "114 /home/phdcs2/Hard_Disk/Datasets/Deep-Spectral-Segmentation/data/object-segmentation/ECSSD/features/dino_vits16/0115.pth\n",
      "dict_keys(['k', 'indices', 'file', 'id', 'model_name', 'patch_size', 'shape'])\n",
      "0115\n",
      "Starting Training\n",
      "epoch: 00, loss: -0.04103\n",
      "epoch: 01, loss: -0.06891\n",
      "epoch: 02, loss: -0.07309\n",
      "epoch: 03, loss: -0.07201\n",
      "epoch: 04, loss: -0.07302\n",
      "epoch: 05, loss: -0.07488\n",
      "epoch: 06, loss: -0.07352\n",
      "epoch: 07, loss: -0.07490\n",
      "epoch: 08, loss: -0.07745\n",
      "epoch: 09, loss: -0.07744\n",
      "torch.Size([400, 64])\n"
     ]
    },
    {
     "name": "stderr",
     "output_type": "stream",
     "text": [
      " 12%|█▏        | 115/1000 [35:57<4:14:59, 17.29s/it]"
     ]
    },
    {
     "name": "stdout",
     "output_type": "stream",
     "text": [
      "eigenvalues shape torch.Size([5]) eigenvectors shape torch.Size([5, 400])\n",
      "115 /home/phdcs2/Hard_Disk/Datasets/Deep-Spectral-Segmentation/data/object-segmentation/ECSSD/features/dino_vits16/0116.pth\n",
      "dict_keys(['k', 'indices', 'file', 'id', 'model_name', 'patch_size', 'shape'])\n",
      "0116\n",
      "Starting Training\n",
      "epoch: 00, loss: -0.00111\n",
      "epoch: 01, loss: -0.01576\n",
      "epoch: 02, loss: -0.02046\n",
      "epoch: 03, loss: -0.02313\n",
      "epoch: 04, loss: -0.02391\n",
      "epoch: 05, loss: -0.02471\n",
      "epoch: 06, loss: -0.02478\n",
      "epoch: 07, loss: -0.02522\n",
      "epoch: 08, loss: -0.02553\n",
      "epoch: 09, loss: -0.02575\n",
      "torch.Size([400, 64])\n"
     ]
    },
    {
     "name": "stderr",
     "output_type": "stream",
     "text": [
      " 12%|█▏        | 116/1000 [36:17<4:27:02, 18.13s/it]"
     ]
    },
    {
     "name": "stdout",
     "output_type": "stream",
     "text": [
      "eigenvalues shape torch.Size([5]) eigenvectors shape torch.Size([5, 400])\n",
      "116 /home/phdcs2/Hard_Disk/Datasets/Deep-Spectral-Segmentation/data/object-segmentation/ECSSD/features/dino_vits16/0117.pth\n",
      "dict_keys(['k', 'indices', 'file', 'id', 'model_name', 'patch_size', 'shape'])\n",
      "0117\n",
      "Starting Training\n",
      "epoch: 00, loss: -0.00353\n",
      "epoch: 01, loss: -0.01487\n",
      "epoch: 02, loss: -0.01886\n",
      "epoch: 03, loss: -0.02071\n",
      "epoch: 04, loss: -0.02142\n",
      "epoch: 05, loss: -0.02204\n",
      "epoch: 06, loss: -0.02237\n",
      "epoch: 07, loss: -0.02258\n",
      "epoch: 08, loss: -0.02270\n",
      "epoch: 09, loss: -0.02291\n",
      "torch.Size([400, 64])\n"
     ]
    },
    {
     "name": "stderr",
     "output_type": "stream",
     "text": [
      " 12%|█▏        | 117/1000 [36:36<4:31:50, 18.47s/it]"
     ]
    },
    {
     "name": "stdout",
     "output_type": "stream",
     "text": [
      "eigenvalues shape torch.Size([5]) eigenvectors shape torch.Size([5, 400])\n",
      "117 /home/phdcs2/Hard_Disk/Datasets/Deep-Spectral-Segmentation/data/object-segmentation/ECSSD/features/dino_vits16/0118.pth\n",
      "dict_keys(['k', 'indices', 'file', 'id', 'model_name', 'patch_size', 'shape'])\n",
      "0118\n",
      "Starting Training\n",
      "epoch: 00, loss: -0.06009\n",
      "epoch: 01, loss: -0.10697\n",
      "epoch: 02, loss: -0.11030\n",
      "epoch: 03, loss: -0.11236\n",
      "epoch: 04, loss: -0.11447\n",
      "epoch: 05, loss: -0.11499\n",
      "epoch: 06, loss: -0.11243\n",
      "epoch: 07, loss: -0.11659\n",
      "epoch: 08, loss: -0.11531\n",
      "epoch: 09, loss: -0.11813\n",
      "torch.Size([400, 64])\n"
     ]
    },
    {
     "name": "stderr",
     "output_type": "stream",
     "text": [
      " 12%|█▏        | 118/1000 [36:52<4:21:07, 17.76s/it]"
     ]
    },
    {
     "name": "stdout",
     "output_type": "stream",
     "text": [
      "eigenvalues shape torch.Size([5]) eigenvectors shape torch.Size([5, 400])\n",
      "118 /home/phdcs2/Hard_Disk/Datasets/Deep-Spectral-Segmentation/data/object-segmentation/ECSSD/features/dino_vits16/0119.pth\n",
      "dict_keys(['k', 'indices', 'file', 'id', 'model_name', 'patch_size', 'shape'])\n",
      "0119\n",
      "Starting Training\n",
      "epoch: 00, loss: -0.00812\n",
      "epoch: 01, loss: -0.03696\n",
      "epoch: 02, loss: -0.04202\n",
      "epoch: 03, loss: -0.04741\n",
      "epoch: 04, loss: -0.04597\n",
      "epoch: 05, loss: -0.04717\n",
      "epoch: 06, loss: -0.04565\n",
      "epoch: 07, loss: -0.04842\n",
      "epoch: 08, loss: -0.05078\n",
      "epoch: 09, loss: -0.04853\n",
      "torch.Size([400, 64])\n"
     ]
    },
    {
     "name": "stderr",
     "output_type": "stream",
     "text": [
      " 12%|█▏        | 119/1000 [37:09<4:15:41, 17.41s/it]"
     ]
    },
    {
     "name": "stdout",
     "output_type": "stream",
     "text": [
      "eigenvalues shape torch.Size([5]) eigenvectors shape torch.Size([5, 400])\n",
      "119 /home/phdcs2/Hard_Disk/Datasets/Deep-Spectral-Segmentation/data/object-segmentation/ECSSD/features/dino_vits16/0120.pth\n",
      "dict_keys(['k', 'indices', 'file', 'id', 'model_name', 'patch_size', 'shape'])\n",
      "0120\n",
      "Starting Training\n",
      "epoch: 00, loss: -0.09991\n",
      "epoch: 01, loss: -0.14016\n",
      "epoch: 02, loss: -0.14629\n",
      "epoch: 03, loss: -0.14736\n",
      "epoch: 04, loss: -0.14713\n",
      "epoch: 05, loss: -0.14766\n",
      "epoch: 06, loss: -0.14914\n",
      "epoch: 07, loss: -0.15053\n",
      "epoch: 08, loss: -0.14987\n",
      "epoch: 09, loss: -0.15012\n",
      "torch.Size([400, 64])\n"
     ]
    },
    {
     "name": "stderr",
     "output_type": "stream",
     "text": [
      " 12%|█▏        | 120/1000 [37:26<4:15:20, 17.41s/it]"
     ]
    },
    {
     "name": "stdout",
     "output_type": "stream",
     "text": [
      "eigenvalues shape torch.Size([5]) eigenvectors shape torch.Size([5, 400])\n",
      "120 /home/phdcs2/Hard_Disk/Datasets/Deep-Spectral-Segmentation/data/object-segmentation/ECSSD/features/dino_vits16/0121.pth\n",
      "dict_keys(['k', 'indices', 'file', 'id', 'model_name', 'patch_size', 'shape'])\n",
      "0121\n",
      "Starting Training\n",
      "epoch: 00, loss: -0.03533\n",
      "epoch: 01, loss: -0.05446\n",
      "epoch: 02, loss: -0.05596\n",
      "epoch: 03, loss: -0.05638\n",
      "epoch: 04, loss: -0.05681\n",
      "epoch: 05, loss: -0.05686\n",
      "epoch: 06, loss: -0.05715\n",
      "epoch: 07, loss: -0.05716\n",
      "epoch: 08, loss: -0.05741\n",
      "epoch: 09, loss: -0.05757\n",
      "torch.Size([400, 64])\n"
     ]
    },
    {
     "name": "stderr",
     "output_type": "stream",
     "text": [
      " 12%|█▏        | 121/1000 [37:45<4:19:02, 17.68s/it]"
     ]
    },
    {
     "name": "stdout",
     "output_type": "stream",
     "text": [
      "eigenvalues shape torch.Size([5]) eigenvectors shape torch.Size([5, 400])\n",
      "121 /home/phdcs2/Hard_Disk/Datasets/Deep-Spectral-Segmentation/data/object-segmentation/ECSSD/features/dino_vits16/0122.pth\n",
      "dict_keys(['k', 'indices', 'file', 'id', 'model_name', 'patch_size', 'shape'])\n",
      "0122\n",
      "Starting Training\n",
      "epoch: 00, loss: 0.00483\n",
      "epoch: 01, loss: -0.00516\n",
      "epoch: 02, loss: -0.00958\n",
      "epoch: 03, loss: -0.01212\n",
      "epoch: 04, loss: -0.01341\n",
      "epoch: 05, loss: -0.01420\n",
      "epoch: 06, loss: -0.01474\n",
      "epoch: 07, loss: -0.01503\n",
      "epoch: 08, loss: -0.01534\n",
      "epoch: 09, loss: -0.01553\n",
      "torch.Size([400, 64])\n"
     ]
    },
    {
     "name": "stderr",
     "output_type": "stream",
     "text": [
      " 12%|█▏        | 122/1000 [38:00<4:07:01, 16.88s/it]"
     ]
    },
    {
     "name": "stdout",
     "output_type": "stream",
     "text": [
      "eigenvalues shape torch.Size([5]) eigenvectors shape torch.Size([5, 400])\n",
      "122 /home/phdcs2/Hard_Disk/Datasets/Deep-Spectral-Segmentation/data/object-segmentation/ECSSD/features/dino_vits16/0123.pth\n",
      "dict_keys(['k', 'indices', 'file', 'id', 'model_name', 'patch_size', 'shape'])\n",
      "0123\n",
      "Starting Training\n",
      "epoch: 00, loss: -0.00291\n",
      "epoch: 01, loss: -0.01814\n",
      "epoch: 02, loss: -0.02343\n",
      "epoch: 03, loss: -0.02724\n",
      "epoch: 04, loss: -0.02695\n",
      "epoch: 05, loss: -0.02745\n",
      "epoch: 06, loss: -0.02902\n",
      "epoch: 07, loss: -0.02910\n",
      "epoch: 08, loss: -0.02906\n",
      "epoch: 09, loss: -0.03033\n",
      "torch.Size([400, 64])\n"
     ]
    },
    {
     "name": "stderr",
     "output_type": "stream",
     "text": [
      " 12%|█▏        | 123/1000 [38:19<4:18:44, 17.70s/it]"
     ]
    },
    {
     "name": "stdout",
     "output_type": "stream",
     "text": [
      "eigenvalues shape torch.Size([5]) eigenvectors shape torch.Size([5, 400])\n",
      "123 /home/phdcs2/Hard_Disk/Datasets/Deep-Spectral-Segmentation/data/object-segmentation/ECSSD/features/dino_vits16/0124.pth\n",
      "dict_keys(['k', 'indices', 'file', 'id', 'model_name', 'patch_size', 'shape'])\n",
      "0124\n",
      "Starting Training\n",
      "epoch: 00, loss: -0.01397\n",
      "epoch: 01, loss: -0.03677\n",
      "epoch: 02, loss: -0.03972\n",
      "epoch: 03, loss: -0.04053\n",
      "epoch: 04, loss: -0.04106\n",
      "epoch: 05, loss: -0.04124\n",
      "epoch: 06, loss: -0.04153\n",
      "epoch: 07, loss: -0.04165\n",
      "epoch: 08, loss: -0.04180\n",
      "epoch: 09, loss: -0.04194\n",
      "torch.Size([400, 64])\n"
     ]
    },
    {
     "name": "stderr",
     "output_type": "stream",
     "text": [
      " 12%|█▏        | 124/1000 [38:41<4:33:59, 18.77s/it]"
     ]
    },
    {
     "name": "stdout",
     "output_type": "stream",
     "text": [
      "eigenvalues shape torch.Size([5]) eigenvectors shape torch.Size([5, 400])\n",
      "124 /home/phdcs2/Hard_Disk/Datasets/Deep-Spectral-Segmentation/data/object-segmentation/ECSSD/features/dino_vits16/0125.pth\n",
      "dict_keys(['k', 'indices', 'file', 'id', 'model_name', 'patch_size', 'shape'])\n",
      "0125\n",
      "Starting Training\n",
      "epoch: 00, loss: -0.02536\n",
      "epoch: 01, loss: -0.04560\n",
      "epoch: 02, loss: -0.04650\n",
      "epoch: 03, loss: -0.04791\n",
      "epoch: 04, loss: -0.05157\n",
      "epoch: 05, loss: -0.05262\n",
      "epoch: 06, loss: -0.05272\n",
      "epoch: 07, loss: -0.05282\n",
      "epoch: 08, loss: -0.05174\n",
      "epoch: 09, loss: -0.05152\n",
      "torch.Size([400, 64])\n"
     ]
    },
    {
     "name": "stderr",
     "output_type": "stream",
     "text": [
      " 12%|█▎        | 125/1000 [38:59<4:30:11, 18.53s/it]"
     ]
    },
    {
     "name": "stdout",
     "output_type": "stream",
     "text": [
      "eigenvalues shape torch.Size([5]) eigenvectors shape torch.Size([5, 400])\n",
      "125 /home/phdcs2/Hard_Disk/Datasets/Deep-Spectral-Segmentation/data/object-segmentation/ECSSD/features/dino_vits16/0126.pth\n",
      "dict_keys(['k', 'indices', 'file', 'id', 'model_name', 'patch_size', 'shape'])\n",
      "0126\n",
      "Starting Training\n",
      "epoch: 00, loss: -0.00665\n",
      "epoch: 01, loss: -0.02842\n",
      "epoch: 02, loss: -0.03466\n",
      "epoch: 03, loss: -0.03234\n",
      "epoch: 04, loss: -0.03657\n",
      "epoch: 05, loss: -0.03758\n",
      "epoch: 06, loss: -0.03593\n",
      "epoch: 07, loss: -0.03909\n",
      "epoch: 08, loss: -0.03856\n",
      "epoch: 09, loss: -0.03777\n",
      "torch.Size([400, 64])\n"
     ]
    },
    {
     "name": "stderr",
     "output_type": "stream",
     "text": [
      " 13%|█▎        | 126/1000 [39:17<4:29:25, 18.50s/it]"
     ]
    },
    {
     "name": "stdout",
     "output_type": "stream",
     "text": [
      "eigenvalues shape torch.Size([5]) eigenvectors shape torch.Size([5, 400])\n",
      "126 /home/phdcs2/Hard_Disk/Datasets/Deep-Spectral-Segmentation/data/object-segmentation/ECSSD/features/dino_vits16/0127.pth\n",
      "dict_keys(['k', 'indices', 'file', 'id', 'model_name', 'patch_size', 'shape'])\n",
      "0127\n",
      "Starting Training\n",
      "epoch: 00, loss: -0.01686\n",
      "epoch: 01, loss: -0.04700\n",
      "epoch: 02, loss: -0.04982\n",
      "epoch: 03, loss: -0.05038\n",
      "epoch: 04, loss: -0.05097\n",
      "epoch: 05, loss: -0.05091\n",
      "epoch: 06, loss: -0.05119\n",
      "epoch: 07, loss: -0.05121\n",
      "epoch: 08, loss: -0.05147\n",
      "epoch: 09, loss: -0.05149\n",
      "torch.Size([400, 64])\n"
     ]
    },
    {
     "name": "stderr",
     "output_type": "stream",
     "text": [
      " 13%|█▎        | 127/1000 [39:35<4:28:46, 18.47s/it]"
     ]
    },
    {
     "name": "stdout",
     "output_type": "stream",
     "text": [
      "eigenvalues shape torch.Size([5]) eigenvectors shape torch.Size([5, 400])\n",
      "127 /home/phdcs2/Hard_Disk/Datasets/Deep-Spectral-Segmentation/data/object-segmentation/ECSSD/features/dino_vits16/0128.pth\n",
      "dict_keys(['k', 'indices', 'file', 'id', 'model_name', 'patch_size', 'shape'])\n",
      "0128\n",
      "Starting Training\n",
      "epoch: 00, loss: -0.02613\n",
      "epoch: 01, loss: -0.05021\n",
      "epoch: 02, loss: -0.05196\n",
      "epoch: 03, loss: -0.05187\n",
      "epoch: 04, loss: -0.05228\n",
      "epoch: 05, loss: -0.05244\n",
      "epoch: 06, loss: -0.05263\n",
      "epoch: 07, loss: -0.05267\n",
      "epoch: 08, loss: -0.05297\n",
      "epoch: 09, loss: -0.05287\n",
      "torch.Size([400, 64])\n"
     ]
    },
    {
     "name": "stderr",
     "output_type": "stream",
     "text": [
      " 13%|█▎        | 128/1000 [39:55<4:34:48, 18.91s/it]"
     ]
    },
    {
     "name": "stdout",
     "output_type": "stream",
     "text": [
      "eigenvalues shape torch.Size([5]) eigenvectors shape torch.Size([5, 400])\n",
      "128 /home/phdcs2/Hard_Disk/Datasets/Deep-Spectral-Segmentation/data/object-segmentation/ECSSD/features/dino_vits16/0129.pth\n",
      "dict_keys(['k', 'indices', 'file', 'id', 'model_name', 'patch_size', 'shape'])\n",
      "0129\n",
      "Starting Training\n",
      "epoch: 00, loss: -0.06717\n",
      "epoch: 01, loss: -0.09445\n",
      "epoch: 02, loss: -0.09832\n",
      "epoch: 03, loss: -0.10073\n",
      "epoch: 04, loss: -0.09972\n",
      "epoch: 05, loss: -0.10083\n",
      "epoch: 06, loss: -0.09859\n",
      "epoch: 07, loss: -0.10045\n",
      "epoch: 08, loss: -0.10061\n",
      "epoch: 09, loss: -0.10255\n",
      "torch.Size([425, 64])\n"
     ]
    },
    {
     "name": "stderr",
     "output_type": "stream",
     "text": [
      " 13%|█▎        | 129/1000 [40:12<4:26:40, 18.37s/it]"
     ]
    },
    {
     "name": "stdout",
     "output_type": "stream",
     "text": [
      "eigenvalues shape torch.Size([5]) eigenvectors shape torch.Size([5, 425])\n",
      "129 /home/phdcs2/Hard_Disk/Datasets/Deep-Spectral-Segmentation/data/object-segmentation/ECSSD/features/dino_vits16/0130.pth\n",
      "dict_keys(['k', 'indices', 'file', 'id', 'model_name', 'patch_size', 'shape'])\n",
      "0130\n",
      "Starting Training\n",
      "epoch: 00, loss: -0.00149\n",
      "epoch: 01, loss: -0.02107\n",
      "epoch: 02, loss: -0.02719\n",
      "epoch: 03, loss: -0.02752\n",
      "epoch: 04, loss: -0.02895\n",
      "epoch: 05, loss: -0.02711\n",
      "epoch: 06, loss: -0.02836\n",
      "epoch: 07, loss: -0.03067\n",
      "epoch: 08, loss: -0.03018\n",
      "epoch: 09, loss: -0.02897\n",
      "torch.Size([425, 64])\n"
     ]
    },
    {
     "name": "stderr",
     "output_type": "stream",
     "text": [
      " 13%|█▎        | 130/1000 [40:32<4:29:43, 18.60s/it]"
     ]
    },
    {
     "name": "stdout",
     "output_type": "stream",
     "text": [
      "eigenvalues shape torch.Size([5]) eigenvectors shape torch.Size([5, 425])\n",
      "130 /home/phdcs2/Hard_Disk/Datasets/Deep-Spectral-Segmentation/data/object-segmentation/ECSSD/features/dino_vits16/0131.pth\n",
      "dict_keys(['k', 'indices', 'file', 'id', 'model_name', 'patch_size', 'shape'])\n",
      "0131\n",
      "Starting Training\n",
      "epoch: 00, loss: -0.06536\n",
      "epoch: 01, loss: -0.09021\n",
      "epoch: 02, loss: -0.08938\n",
      "epoch: 03, loss: -0.09127\n",
      "epoch: 04, loss: -0.09103\n",
      "epoch: 05, loss: -0.09085\n",
      "epoch: 06, loss: -0.09155\n",
      "epoch: 07, loss: -0.09178\n",
      "epoch: 08, loss: -0.09147\n",
      "epoch: 09, loss: -0.09182\n",
      "torch.Size([450, 64])\n"
     ]
    },
    {
     "name": "stderr",
     "output_type": "stream",
     "text": [
      " 13%|█▎        | 131/1000 [40:54<4:44:56, 19.67s/it]"
     ]
    },
    {
     "name": "stdout",
     "output_type": "stream",
     "text": [
      "eigenvalues shape torch.Size([5]) eigenvectors shape torch.Size([5, 450])\n",
      "131 /home/phdcs2/Hard_Disk/Datasets/Deep-Spectral-Segmentation/data/object-segmentation/ECSSD/features/dino_vits16/0132.pth\n",
      "dict_keys(['k', 'indices', 'file', 'id', 'model_name', 'patch_size', 'shape'])\n",
      "0132\n",
      "Starting Training\n",
      "epoch: 00, loss: -0.04076\n",
      "epoch: 01, loss: -0.06288\n",
      "epoch: 02, loss: -0.06425\n",
      "epoch: 03, loss: -0.06537\n",
      "epoch: 04, loss: -0.06487\n",
      "epoch: 05, loss: -0.06536\n",
      "epoch: 06, loss: -0.06577\n",
      "epoch: 07, loss: -0.06601\n",
      "epoch: 08, loss: -0.06566\n",
      "epoch: 09, loss: -0.06633\n",
      "torch.Size([400, 64])\n"
     ]
    },
    {
     "name": "stderr",
     "output_type": "stream",
     "text": [
      " 13%|█▎        | 132/1000 [41:11<4:32:06, 18.81s/it]"
     ]
    },
    {
     "name": "stdout",
     "output_type": "stream",
     "text": [
      "eigenvalues shape torch.Size([5]) eigenvectors shape torch.Size([5, 400])\n",
      "132 /home/phdcs2/Hard_Disk/Datasets/Deep-Spectral-Segmentation/data/object-segmentation/ECSSD/features/dino_vits16/0133.pth\n",
      "dict_keys(['k', 'indices', 'file', 'id', 'model_name', 'patch_size', 'shape'])\n",
      "0133\n",
      "Starting Training\n",
      "epoch: 00, loss: -0.05366\n",
      "epoch: 01, loss: -0.07765\n",
      "epoch: 02, loss: -0.07807\n",
      "epoch: 03, loss: -0.07940\n",
      "epoch: 04, loss: -0.07987\n",
      "epoch: 05, loss: -0.07916\n",
      "epoch: 06, loss: -0.08118\n",
      "epoch: 07, loss: -0.07960\n",
      "epoch: 08, loss: -0.08031\n",
      "epoch: 09, loss: -0.07966\n",
      "torch.Size([525, 64])\n"
     ]
    },
    {
     "name": "stderr",
     "output_type": "stream",
     "text": [
      " 13%|█▎        | 133/1000 [41:40<5:16:46, 21.92s/it]"
     ]
    },
    {
     "name": "stdout",
     "output_type": "stream",
     "text": [
      "eigenvalues shape torch.Size([5]) eigenvectors shape torch.Size([5, 525])\n",
      "133 /home/phdcs2/Hard_Disk/Datasets/Deep-Spectral-Segmentation/data/object-segmentation/ECSSD/features/dino_vits16/0134.pth\n",
      "dict_keys(['k', 'indices', 'file', 'id', 'model_name', 'patch_size', 'shape'])\n",
      "0134\n",
      "Starting Training\n",
      "epoch: 00, loss: -0.04300\n",
      "epoch: 01, loss: -0.06263\n",
      "epoch: 02, loss: -0.06392\n",
      "epoch: 03, loss: -0.06403\n",
      "epoch: 04, loss: -0.06424\n",
      "epoch: 05, loss: -0.06448\n",
      "epoch: 06, loss: -0.06463\n",
      "epoch: 07, loss: -0.06492\n",
      "epoch: 08, loss: -0.06486\n",
      "epoch: 09, loss: -0.06500\n",
      "torch.Size([400, 64])\n"
     ]
    },
    {
     "name": "stderr",
     "output_type": "stream",
     "text": [
      " 13%|█▎        | 134/1000 [42:00<5:10:48, 21.53s/it]"
     ]
    },
    {
     "name": "stdout",
     "output_type": "stream",
     "text": [
      "eigenvalues shape torch.Size([5]) eigenvectors shape torch.Size([5, 400])\n",
      "134 /home/phdcs2/Hard_Disk/Datasets/Deep-Spectral-Segmentation/data/object-segmentation/ECSSD/features/dino_vits16/0135.pth\n",
      "dict_keys(['k', 'indices', 'file', 'id', 'model_name', 'patch_size', 'shape'])\n",
      "0135\n",
      "Starting Training\n",
      "epoch: 00, loss: -0.04841\n",
      "epoch: 01, loss: -0.06499\n",
      "epoch: 02, loss: -0.06627\n",
      "epoch: 03, loss: -0.06643\n",
      "epoch: 04, loss: -0.06687\n",
      "epoch: 05, loss: -0.06706\n",
      "epoch: 06, loss: -0.06724\n",
      "epoch: 07, loss: -0.06728\n",
      "epoch: 08, loss: -0.06757\n",
      "epoch: 09, loss: -0.06750\n",
      "torch.Size([450, 64])\n"
     ]
    },
    {
     "name": "stderr",
     "output_type": "stream",
     "text": [
      " 14%|█▎        | 135/1000 [42:22<5:10:24, 21.53s/it]"
     ]
    },
    {
     "name": "stdout",
     "output_type": "stream",
     "text": [
      "eigenvalues shape torch.Size([5]) eigenvectors shape torch.Size([5, 450])\n",
      "135 /home/phdcs2/Hard_Disk/Datasets/Deep-Spectral-Segmentation/data/object-segmentation/ECSSD/features/dino_vits16/0136.pth\n",
      "dict_keys(['k', 'indices', 'file', 'id', 'model_name', 'patch_size', 'shape'])\n",
      "0136\n",
      "Starting Training\n",
      "epoch: 00, loss: -0.02745\n",
      "epoch: 01, loss: -0.04445\n",
      "epoch: 02, loss: -0.04680\n",
      "epoch: 03, loss: -0.04670\n",
      "epoch: 04, loss: -0.04774\n",
      "epoch: 05, loss: -0.04737\n",
      "epoch: 06, loss: -0.04704\n",
      "epoch: 07, loss: -0.04784\n",
      "epoch: 08, loss: -0.04716\n",
      "epoch: 09, loss: -0.04720\n",
      "torch.Size([450, 64])\n"
     ]
    },
    {
     "name": "stderr",
     "output_type": "stream",
     "text": [
      " 14%|█▎        | 136/1000 [42:43<5:06:19, 21.27s/it]"
     ]
    },
    {
     "name": "stdout",
     "output_type": "stream",
     "text": [
      "eigenvalues shape torch.Size([5]) eigenvectors shape torch.Size([5, 450])\n",
      "136 /home/phdcs2/Hard_Disk/Datasets/Deep-Spectral-Segmentation/data/object-segmentation/ECSSD/features/dino_vits16/0137.pth\n",
      "dict_keys(['k', 'indices', 'file', 'id', 'model_name', 'patch_size', 'shape'])\n",
      "0137\n",
      "Starting Training\n",
      "epoch: 00, loss: -0.09148\n",
      "epoch: 01, loss: -0.12592\n",
      "epoch: 02, loss: -0.12787\n",
      "epoch: 03, loss: -0.13040\n",
      "epoch: 04, loss: -0.12723\n",
      "epoch: 05, loss: -0.13218\n",
      "epoch: 06, loss: -0.13011\n",
      "epoch: 07, loss: -0.13053\n",
      "epoch: 08, loss: -0.13193\n",
      "epoch: 09, loss: -0.13327\n",
      "torch.Size([475, 64])\n"
     ]
    },
    {
     "name": "stderr",
     "output_type": "stream",
     "text": [
      " 14%|█▎        | 137/1000 [43:01<4:55:15, 20.53s/it]"
     ]
    },
    {
     "name": "stdout",
     "output_type": "stream",
     "text": [
      "eigenvalues shape torch.Size([5]) eigenvectors shape torch.Size([5, 475])\n",
      "137 /home/phdcs2/Hard_Disk/Datasets/Deep-Spectral-Segmentation/data/object-segmentation/ECSSD/features/dino_vits16/0138.pth\n",
      "dict_keys(['k', 'indices', 'file', 'id', 'model_name', 'patch_size', 'shape'])\n",
      "0138\n",
      "Starting Training\n",
      "epoch: 00, loss: -0.06579\n",
      "epoch: 01, loss: -0.09259\n",
      "epoch: 02, loss: -0.09595\n",
      "epoch: 03, loss: -0.10093\n",
      "epoch: 04, loss: -0.10032\n",
      "epoch: 05, loss: -0.10071\n",
      "epoch: 06, loss: -0.10173\n",
      "epoch: 07, loss: -0.10229\n",
      "epoch: 08, loss: -0.10399\n",
      "epoch: 09, loss: -0.10328\n",
      "torch.Size([450, 64])\n"
     ]
    },
    {
     "name": "stderr",
     "output_type": "stream",
     "text": [
      " 14%|█▍        | 138/1000 [43:21<4:51:58, 20.32s/it]"
     ]
    },
    {
     "name": "stdout",
     "output_type": "stream",
     "text": [
      "eigenvalues shape torch.Size([5]) eigenvectors shape torch.Size([5, 450])\n",
      "138 /home/phdcs2/Hard_Disk/Datasets/Deep-Spectral-Segmentation/data/object-segmentation/ECSSD/features/dino_vits16/0139.pth\n",
      "dict_keys(['k', 'indices', 'file', 'id', 'model_name', 'patch_size', 'shape'])\n",
      "0139\n",
      "Starting Training\n",
      "epoch: 00, loss: -0.02894\n",
      "epoch: 01, loss: -0.04647\n",
      "epoch: 02, loss: -0.04816\n",
      "epoch: 03, loss: -0.04865\n",
      "epoch: 04, loss: -0.04912\n",
      "epoch: 05, loss: -0.04939\n",
      "epoch: 06, loss: -0.04947\n",
      "epoch: 07, loss: -0.04961\n",
      "epoch: 08, loss: -0.04980\n",
      "epoch: 09, loss: -0.04988\n",
      "torch.Size([450, 64])\n"
     ]
    },
    {
     "name": "stderr",
     "output_type": "stream",
     "text": [
      " 14%|█▍        | 139/1000 [43:40<4:46:07, 19.94s/it]"
     ]
    },
    {
     "name": "stdout",
     "output_type": "stream",
     "text": [
      "eigenvalues shape torch.Size([5]) eigenvectors shape torch.Size([5, 450])\n",
      "139 /home/phdcs2/Hard_Disk/Datasets/Deep-Spectral-Segmentation/data/object-segmentation/ECSSD/features/dino_vits16/0140.pth\n",
      "dict_keys(['k', 'indices', 'file', 'id', 'model_name', 'patch_size', 'shape'])\n",
      "0140\n",
      "Starting Training\n",
      "epoch: 00, loss: -0.00429\n",
      "epoch: 01, loss: -0.01962\n",
      "epoch: 02, loss: -0.02343\n",
      "epoch: 03, loss: -0.02391\n",
      "epoch: 04, loss: -0.02644\n",
      "epoch: 05, loss: -0.02664\n",
      "epoch: 06, loss: -0.02698\n",
      "epoch: 07, loss: -0.02646\n",
      "epoch: 08, loss: -0.02652\n",
      "epoch: 09, loss: -0.02726\n",
      "torch.Size([450, 64])\n"
     ]
    },
    {
     "name": "stderr",
     "output_type": "stream",
     "text": [
      " 14%|█▍        | 140/1000 [44:01<4:49:17, 20.18s/it]"
     ]
    },
    {
     "name": "stdout",
     "output_type": "stream",
     "text": [
      "eigenvalues shape torch.Size([5]) eigenvectors shape torch.Size([5, 450])\n",
      "140 /home/phdcs2/Hard_Disk/Datasets/Deep-Spectral-Segmentation/data/object-segmentation/ECSSD/features/dino_vits16/0141.pth\n",
      "dict_keys(['k', 'indices', 'file', 'id', 'model_name', 'patch_size', 'shape'])\n",
      "0141\n",
      "Starting Training\n",
      "epoch: 00, loss: -0.00697\n",
      "epoch: 01, loss: -0.02521\n",
      "epoch: 02, loss: -0.03035\n",
      "epoch: 03, loss: -0.03210\n",
      "epoch: 04, loss: -0.03252\n",
      "epoch: 05, loss: -0.03305\n",
      "epoch: 06, loss: -0.03322\n",
      "epoch: 07, loss: -0.03347\n",
      "epoch: 08, loss: -0.03365\n",
      "epoch: 09, loss: -0.03375\n",
      "torch.Size([350, 64])\n"
     ]
    },
    {
     "name": "stderr",
     "output_type": "stream",
     "text": [
      " 14%|█▍        | 141/1000 [44:16<4:28:02, 18.72s/it]"
     ]
    },
    {
     "name": "stdout",
     "output_type": "stream",
     "text": [
      "eigenvalues shape torch.Size([5]) eigenvectors shape torch.Size([5, 350])\n",
      "141 /home/phdcs2/Hard_Disk/Datasets/Deep-Spectral-Segmentation/data/object-segmentation/ECSSD/features/dino_vits16/0142.pth\n",
      "dict_keys(['k', 'indices', 'file', 'id', 'model_name', 'patch_size', 'shape'])\n",
      "0142\n",
      "Starting Training\n",
      "epoch: 00, loss: -0.05804\n",
      "epoch: 01, loss: -0.09440\n",
      "epoch: 02, loss: -0.09910\n",
      "epoch: 03, loss: -0.09992\n",
      "epoch: 04, loss: -0.10171\n",
      "epoch: 05, loss: -0.10258\n",
      "epoch: 06, loss: -0.10263\n",
      "epoch: 07, loss: -0.10195\n",
      "epoch: 08, loss: -0.10421\n",
      "epoch: 09, loss: -0.10387\n",
      "torch.Size([450, 64])\n"
     ]
    },
    {
     "name": "stderr",
     "output_type": "stream",
     "text": [
      " 14%|█▍        | 142/1000 [44:37<4:36:39, 19.35s/it]"
     ]
    },
    {
     "name": "stdout",
     "output_type": "stream",
     "text": [
      "eigenvalues shape torch.Size([5]) eigenvectors shape torch.Size([5, 450])\n",
      "142 /home/phdcs2/Hard_Disk/Datasets/Deep-Spectral-Segmentation/data/object-segmentation/ECSSD/features/dino_vits16/0143.pth\n",
      "dict_keys(['k', 'indices', 'file', 'id', 'model_name', 'patch_size', 'shape'])\n",
      "0143\n",
      "Starting Training\n",
      "epoch: 00, loss: -0.02666\n",
      "epoch: 01, loss: -0.05697\n",
      "epoch: 02, loss: -0.06115\n",
      "epoch: 03, loss: -0.06510\n",
      "epoch: 04, loss: -0.06484\n",
      "epoch: 05, loss: -0.06340\n",
      "epoch: 06, loss: -0.06499\n",
      "epoch: 07, loss: -0.06451\n",
      "epoch: 08, loss: -0.06468\n",
      "epoch: 09, loss: -0.06625\n",
      "torch.Size([450, 64])\n"
     ]
    },
    {
     "name": "stderr",
     "output_type": "stream",
     "text": [
      " 14%|█▍        | 143/1000 [44:55<4:29:43, 18.88s/it]"
     ]
    },
    {
     "name": "stdout",
     "output_type": "stream",
     "text": [
      "eigenvalues shape torch.Size([5]) eigenvectors shape torch.Size([5, 450])\n",
      "143 /home/phdcs2/Hard_Disk/Datasets/Deep-Spectral-Segmentation/data/object-segmentation/ECSSD/features/dino_vits16/0144.pth\n",
      "dict_keys(['k', 'indices', 'file', 'id', 'model_name', 'patch_size', 'shape'])\n",
      "0144\n",
      "Starting Training\n",
      "epoch: 00, loss: -0.04923\n",
      "epoch: 01, loss: -0.08227\n",
      "epoch: 02, loss: -0.08618\n",
      "epoch: 03, loss: -0.08800\n",
      "epoch: 04, loss: -0.08935\n",
      "epoch: 05, loss: -0.09032\n",
      "epoch: 06, loss: -0.08911\n",
      "epoch: 07, loss: -0.09089\n",
      "epoch: 08, loss: -0.09221\n",
      "epoch: 09, loss: -0.09045\n",
      "torch.Size([425, 64])\n"
     ]
    },
    {
     "name": "stderr",
     "output_type": "stream",
     "text": [
      " 14%|█▍        | 144/1000 [45:14<4:28:38, 18.83s/it]"
     ]
    },
    {
     "name": "stdout",
     "output_type": "stream",
     "text": [
      "eigenvalues shape torch.Size([5]) eigenvectors shape torch.Size([5, 425])\n",
      "144 /home/phdcs2/Hard_Disk/Datasets/Deep-Spectral-Segmentation/data/object-segmentation/ECSSD/features/dino_vits16/0145.pth\n",
      "dict_keys(['k', 'indices', 'file', 'id', 'model_name', 'patch_size', 'shape'])\n",
      "0145\n",
      "Starting Training\n",
      "epoch: 00, loss: -0.02068\n",
      "epoch: 01, loss: -0.04378\n",
      "epoch: 02, loss: -0.04647\n",
      "epoch: 03, loss: -0.04726\n",
      "epoch: 04, loss: -0.04761\n",
      "epoch: 05, loss: -0.04766\n",
      "epoch: 06, loss: -0.04824\n",
      "epoch: 07, loss: -0.04832\n",
      "epoch: 08, loss: -0.04828\n",
      "epoch: 09, loss: -0.04831\n",
      "torch.Size([450, 64])\n"
     ]
    },
    {
     "name": "stderr",
     "output_type": "stream",
     "text": [
      " 14%|█▍        | 145/1000 [45:34<4:33:53, 19.22s/it]"
     ]
    },
    {
     "name": "stdout",
     "output_type": "stream",
     "text": [
      "eigenvalues shape torch.Size([5]) eigenvectors shape torch.Size([5, 450])\n",
      "145 /home/phdcs2/Hard_Disk/Datasets/Deep-Spectral-Segmentation/data/object-segmentation/ECSSD/features/dino_vits16/0146.pth\n",
      "dict_keys(['k', 'indices', 'file', 'id', 'model_name', 'patch_size', 'shape'])\n",
      "0146\n",
      "Starting Training\n",
      "epoch: 00, loss: -0.00530\n",
      "epoch: 01, loss: -0.01907\n",
      "epoch: 02, loss: -0.02364\n",
      "epoch: 03, loss: -0.02548\n",
      "epoch: 04, loss: -0.02620\n",
      "epoch: 05, loss: -0.02664\n",
      "epoch: 06, loss: -0.02690\n",
      "epoch: 07, loss: -0.02711\n",
      "epoch: 08, loss: -0.02725\n",
      "epoch: 09, loss: -0.02737\n",
      "torch.Size([400, 64])\n"
     ]
    },
    {
     "name": "stderr",
     "output_type": "stream",
     "text": [
      " 15%|█▍        | 146/1000 [45:52<4:29:12, 18.91s/it]"
     ]
    },
    {
     "name": "stdout",
     "output_type": "stream",
     "text": [
      "eigenvalues shape torch.Size([5]) eigenvectors shape torch.Size([5, 400])\n",
      "146 /home/phdcs2/Hard_Disk/Datasets/Deep-Spectral-Segmentation/data/object-segmentation/ECSSD/features/dino_vits16/0147.pth\n",
      "dict_keys(['k', 'indices', 'file', 'id', 'model_name', 'patch_size', 'shape'])\n",
      "0147\n",
      "Starting Training\n",
      "epoch: 00, loss: -0.01839\n",
      "epoch: 01, loss: -0.04122\n",
      "epoch: 02, loss: -0.04298\n",
      "epoch: 03, loss: -0.04331\n",
      "epoch: 04, loss: -0.04361\n",
      "epoch: 05, loss: -0.04374\n",
      "epoch: 06, loss: -0.04414\n",
      "epoch: 07, loss: -0.04415\n",
      "epoch: 08, loss: -0.04419\n",
      "epoch: 09, loss: -0.04422\n",
      "torch.Size([550, 64])\n"
     ]
    },
    {
     "name": "stderr",
     "output_type": "stream",
     "text": [
      " 15%|█▍        | 147/1000 [46:29<5:48:21, 24.50s/it]"
     ]
    },
    {
     "name": "stdout",
     "output_type": "stream",
     "text": [
      "eigenvalues shape torch.Size([5]) eigenvectors shape torch.Size([5, 550])\n",
      "147 /home/phdcs2/Hard_Disk/Datasets/Deep-Spectral-Segmentation/data/object-segmentation/ECSSD/features/dino_vits16/0148.pth\n",
      "dict_keys(['k', 'indices', 'file', 'id', 'model_name', 'patch_size', 'shape'])\n",
      "0148\n",
      "Starting Training\n",
      "epoch: 00, loss: -0.04018\n",
      "epoch: 01, loss: -0.06813\n",
      "epoch: 02, loss: -0.06999\n",
      "epoch: 03, loss: -0.07028\n",
      "epoch: 04, loss: -0.07022\n",
      "epoch: 05, loss: -0.07088\n",
      "epoch: 06, loss: -0.07103\n",
      "epoch: 07, loss: -0.07107\n",
      "epoch: 08, loss: -0.07090\n",
      "epoch: 09, loss: -0.07084\n",
      "torch.Size([400, 64])\n"
     ]
    },
    {
     "name": "stderr",
     "output_type": "stream",
     "text": [
      " 15%|█▍        | 148/1000 [46:47<5:16:49, 22.31s/it]"
     ]
    },
    {
     "name": "stdout",
     "output_type": "stream",
     "text": [
      "eigenvalues shape torch.Size([5]) eigenvectors shape torch.Size([5, 400])\n",
      "148 /home/phdcs2/Hard_Disk/Datasets/Deep-Spectral-Segmentation/data/object-segmentation/ECSSD/features/dino_vits16/0149.pth\n",
      "dict_keys(['k', 'indices', 'file', 'id', 'model_name', 'patch_size', 'shape'])\n",
      "0149\n",
      "Starting Training\n",
      "epoch: 00, loss: -0.04148\n",
      "epoch: 01, loss: -0.06901\n",
      "epoch: 02, loss: -0.07097\n",
      "epoch: 03, loss: -0.07436\n",
      "epoch: 04, loss: -0.07402\n",
      "epoch: 05, loss: -0.07468\n",
      "epoch: 06, loss: -0.07415\n",
      "epoch: 07, loss: -0.07575\n",
      "epoch: 08, loss: -0.07615\n",
      "epoch: 09, loss: -0.07585\n",
      "torch.Size([400, 64])\n"
     ]
    },
    {
     "name": "stderr",
     "output_type": "stream",
     "text": [
      " 15%|█▍        | 149/1000 [47:04<4:55:39, 20.85s/it]"
     ]
    },
    {
     "name": "stdout",
     "output_type": "stream",
     "text": [
      "eigenvalues shape torch.Size([5]) eigenvectors shape torch.Size([5, 400])\n",
      "149 /home/phdcs2/Hard_Disk/Datasets/Deep-Spectral-Segmentation/data/object-segmentation/ECSSD/features/dino_vits16/0150.pth\n",
      "dict_keys(['k', 'indices', 'file', 'id', 'model_name', 'patch_size', 'shape'])\n",
      "0150\n",
      "Starting Training\n",
      "epoch: 00, loss: -0.02450\n",
      "epoch: 01, loss: -0.05020\n",
      "epoch: 02, loss: -0.05271\n",
      "epoch: 03, loss: -0.05501\n",
      "epoch: 04, loss: -0.05572\n",
      "epoch: 05, loss: -0.05632\n",
      "epoch: 06, loss: -0.05696\n",
      "epoch: 07, loss: -0.05891\n",
      "epoch: 08, loss: -0.06027\n",
      "epoch: 09, loss: -0.05720\n",
      "torch.Size([450, 64])\n"
     ]
    },
    {
     "name": "stderr",
     "output_type": "stream",
     "text": [
      " 15%|█▌        | 150/1000 [47:25<4:54:47, 20.81s/it]"
     ]
    },
    {
     "name": "stdout",
     "output_type": "stream",
     "text": [
      "eigenvalues shape torch.Size([5]) eigenvectors shape torch.Size([5, 450])\n",
      "150 /home/phdcs2/Hard_Disk/Datasets/Deep-Spectral-Segmentation/data/object-segmentation/ECSSD/features/dino_vits16/0151.pth\n",
      "dict_keys(['k', 'indices', 'file', 'id', 'model_name', 'patch_size', 'shape'])\n",
      "0151\n",
      "Starting Training\n",
      "epoch: 00, loss: -0.07946\n",
      "epoch: 01, loss: -0.09201\n",
      "epoch: 02, loss: -0.09290\n",
      "epoch: 03, loss: -0.09214\n",
      "epoch: 04, loss: -0.09305\n",
      "epoch: 05, loss: -0.09208\n",
      "epoch: 06, loss: -0.09353\n",
      "epoch: 07, loss: -0.09258\n",
      "epoch: 08, loss: -0.09238\n",
      "epoch: 09, loss: -0.09412\n",
      "torch.Size([525, 64])\n"
     ]
    },
    {
     "name": "stderr",
     "output_type": "stream",
     "text": [
      " 15%|█▌        | 151/1000 [47:50<5:13:47, 22.18s/it]"
     ]
    },
    {
     "name": "stdout",
     "output_type": "stream",
     "text": [
      "eigenvalues shape torch.Size([5]) eigenvectors shape torch.Size([5, 525])\n",
      "151 /home/phdcs2/Hard_Disk/Datasets/Deep-Spectral-Segmentation/data/object-segmentation/ECSSD/features/dino_vits16/0152.pth\n",
      "dict_keys(['k', 'indices', 'file', 'id', 'model_name', 'patch_size', 'shape'])\n",
      "0152\n",
      "Starting Training\n",
      "epoch: 00, loss: -0.07074\n",
      "epoch: 01, loss: -0.09553\n",
      "epoch: 02, loss: -0.10255\n",
      "epoch: 03, loss: -0.10210\n",
      "epoch: 04, loss: -0.10275\n",
      "epoch: 05, loss: -0.10318\n",
      "epoch: 06, loss: -0.10461\n",
      "epoch: 07, loss: -0.10576\n",
      "epoch: 08, loss: -0.10472\n",
      "epoch: 09, loss: -0.10530\n",
      "torch.Size([450, 64])\n"
     ]
    },
    {
     "name": "stderr",
     "output_type": "stream",
     "text": [
      " 15%|█▌        | 152/1000 [48:08<4:53:37, 20.78s/it]"
     ]
    },
    {
     "name": "stdout",
     "output_type": "stream",
     "text": [
      "eigenvalues shape torch.Size([5]) eigenvectors shape torch.Size([5, 450])\n",
      "152 /home/phdcs2/Hard_Disk/Datasets/Deep-Spectral-Segmentation/data/object-segmentation/ECSSD/features/dino_vits16/0153.pth\n",
      "dict_keys(['k', 'indices', 'file', 'id', 'model_name', 'patch_size', 'shape'])\n",
      "0153\n",
      "Starting Training\n",
      "epoch: 00, loss: -0.03369\n",
      "epoch: 01, loss: -0.06294\n",
      "epoch: 02, loss: -0.06771\n",
      "epoch: 03, loss: -0.06727\n",
      "epoch: 04, loss: -0.07059\n",
      "epoch: 05, loss: -0.07004\n",
      "epoch: 06, loss: -0.07228\n",
      "epoch: 07, loss: -0.07325\n",
      "epoch: 08, loss: -0.07186\n",
      "epoch: 09, loss: -0.07162\n",
      "torch.Size([450, 64])\n"
     ]
    },
    {
     "name": "stderr",
     "output_type": "stream",
     "text": [
      " 15%|█▌        | 153/1000 [48:26<4:44:50, 20.18s/it]"
     ]
    },
    {
     "name": "stdout",
     "output_type": "stream",
     "text": [
      "eigenvalues shape torch.Size([5]) eigenvectors shape torch.Size([5, 450])\n",
      "153 /home/phdcs2/Hard_Disk/Datasets/Deep-Spectral-Segmentation/data/object-segmentation/ECSSD/features/dino_vits16/0154.pth\n",
      "dict_keys(['k', 'indices', 'file', 'id', 'model_name', 'patch_size', 'shape'])\n",
      "0154\n",
      "Starting Training\n",
      "epoch: 00, loss: -0.02281\n",
      "epoch: 01, loss: -0.04972\n",
      "epoch: 02, loss: -0.05200\n",
      "epoch: 03, loss: -0.05263\n",
      "epoch: 04, loss: -0.05271\n",
      "epoch: 05, loss: -0.05300\n",
      "epoch: 06, loss: -0.05324\n",
      "epoch: 07, loss: -0.05336\n",
      "epoch: 08, loss: -0.05346\n",
      "epoch: 09, loss: -0.05349\n",
      "torch.Size([450, 64])\n"
     ]
    },
    {
     "name": "stderr",
     "output_type": "stream",
     "text": [
      " 15%|█▌        | 154/1000 [48:45<4:38:55, 19.78s/it]"
     ]
    },
    {
     "name": "stdout",
     "output_type": "stream",
     "text": [
      "eigenvalues shape torch.Size([5]) eigenvectors shape torch.Size([5, 450])\n",
      "154 /home/phdcs2/Hard_Disk/Datasets/Deep-Spectral-Segmentation/data/object-segmentation/ECSSD/features/dino_vits16/0155.pth\n",
      "dict_keys(['k', 'indices', 'file', 'id', 'model_name', 'patch_size', 'shape'])\n",
      "0155\n",
      "Starting Training\n",
      "epoch: 00, loss: -0.07558\n",
      "epoch: 01, loss: -0.10505\n",
      "epoch: 02, loss: -0.11494\n",
      "epoch: 03, loss: -0.11382\n",
      "epoch: 04, loss: -0.11474\n",
      "epoch: 05, loss: -0.11582\n",
      "epoch: 06, loss: -0.11738\n",
      "epoch: 07, loss: -0.11666\n",
      "epoch: 08, loss: -0.11787\n",
      "epoch: 09, loss: -0.11973\n",
      "torch.Size([475, 64])\n"
     ]
    },
    {
     "name": "stderr",
     "output_type": "stream",
     "text": [
      " 16%|█▌        | 155/1000 [49:05<4:36:26, 19.63s/it]"
     ]
    },
    {
     "name": "stdout",
     "output_type": "stream",
     "text": [
      "eigenvalues shape torch.Size([5]) eigenvectors shape torch.Size([5, 475])\n",
      "155 /home/phdcs2/Hard_Disk/Datasets/Deep-Spectral-Segmentation/data/object-segmentation/ECSSD/features/dino_vits16/0156.pth\n",
      "dict_keys(['k', 'indices', 'file', 'id', 'model_name', 'patch_size', 'shape'])\n",
      "0156\n",
      "Starting Training\n",
      "epoch: 00, loss: -0.05143\n",
      "epoch: 01, loss: -0.07628\n",
      "epoch: 02, loss: -0.07765\n",
      "epoch: 03, loss: -0.07778\n",
      "epoch: 04, loss: -0.07750\n",
      "epoch: 05, loss: -0.07826\n",
      "epoch: 06, loss: -0.07798\n",
      "epoch: 07, loss: -0.07836\n",
      "epoch: 08, loss: -0.07890\n",
      "epoch: 09, loss: -0.07859\n",
      "torch.Size([400, 64])\n"
     ]
    },
    {
     "name": "stderr",
     "output_type": "stream",
     "text": [
      " 16%|█▌        | 156/1000 [49:21<4:23:01, 18.70s/it]"
     ]
    },
    {
     "name": "stdout",
     "output_type": "stream",
     "text": [
      "eigenvalues shape torch.Size([5]) eigenvectors shape torch.Size([5, 400])\n",
      "156 /home/phdcs2/Hard_Disk/Datasets/Deep-Spectral-Segmentation/data/object-segmentation/ECSSD/features/dino_vits16/0157.pth\n",
      "dict_keys(['k', 'indices', 'file', 'id', 'model_name', 'patch_size', 'shape'])\n",
      "0157\n",
      "Starting Training\n",
      "epoch: 00, loss: -0.10782\n",
      "epoch: 01, loss: -0.13623\n",
      "epoch: 02, loss: -0.14272\n",
      "epoch: 03, loss: -0.14435\n",
      "epoch: 04, loss: -0.14392\n",
      "epoch: 05, loss: -0.14407\n",
      "epoch: 06, loss: -0.14731\n",
      "epoch: 07, loss: -0.14536\n",
      "epoch: 08, loss: -0.14843\n",
      "epoch: 09, loss: -0.14699\n",
      "torch.Size([375, 64])\n"
     ]
    },
    {
     "name": "stderr",
     "output_type": "stream",
     "text": [
      " 16%|█▌        | 157/1000 [49:37<4:11:07, 17.87s/it]"
     ]
    },
    {
     "name": "stdout",
     "output_type": "stream",
     "text": [
      "eigenvalues shape torch.Size([5]) eigenvectors shape torch.Size([5, 375])\n",
      "157 /home/phdcs2/Hard_Disk/Datasets/Deep-Spectral-Segmentation/data/object-segmentation/ECSSD/features/dino_vits16/0158.pth\n",
      "dict_keys(['k', 'indices', 'file', 'id', 'model_name', 'patch_size', 'shape'])\n",
      "0158\n",
      "Starting Training\n",
      "epoch: 00, loss: -0.14158\n",
      "epoch: 01, loss: -0.17364\n",
      "epoch: 02, loss: -0.17426\n",
      "epoch: 03, loss: -0.17473\n",
      "epoch: 04, loss: -0.17471\n",
      "epoch: 05, loss: -0.17465\n",
      "epoch: 06, loss: -0.17502\n",
      "epoch: 07, loss: -0.17502\n",
      "epoch: 08, loss: -0.17520\n",
      "epoch: 09, loss: -0.17523\n",
      "torch.Size([300, 64])\n"
     ]
    },
    {
     "name": "stderr",
     "output_type": "stream",
     "text": [
      " 16%|█▌        | 158/1000 [49:52<3:58:08, 16.97s/it]"
     ]
    },
    {
     "name": "stdout",
     "output_type": "stream",
     "text": [
      "eigenvalues shape torch.Size([5]) eigenvectors shape torch.Size([5, 300])\n",
      "158 /home/phdcs2/Hard_Disk/Datasets/Deep-Spectral-Segmentation/data/object-segmentation/ECSSD/features/dino_vits16/0159.pth\n",
      "dict_keys(['k', 'indices', 'file', 'id', 'model_name', 'patch_size', 'shape'])\n",
      "0159\n",
      "Starting Training\n",
      "epoch: 00, loss: -0.02157\n",
      "epoch: 01, loss: -0.04201\n",
      "epoch: 02, loss: -0.04518\n",
      "epoch: 03, loss: -0.04579\n",
      "epoch: 04, loss: -0.04456\n",
      "epoch: 05, loss: -0.04497\n",
      "epoch: 06, loss: -0.04557\n",
      "epoch: 07, loss: -0.04641\n",
      "epoch: 08, loss: -0.04582\n",
      "epoch: 09, loss: -0.04574\n",
      "torch.Size([425, 64])\n"
     ]
    },
    {
     "name": "stderr",
     "output_type": "stream",
     "text": [
      " 16%|█▌        | 159/1000 [50:12<4:11:30, 17.94s/it]"
     ]
    },
    {
     "name": "stdout",
     "output_type": "stream",
     "text": [
      "eigenvalues shape torch.Size([5]) eigenvectors shape torch.Size([5, 425])\n",
      "159 /home/phdcs2/Hard_Disk/Datasets/Deep-Spectral-Segmentation/data/object-segmentation/ECSSD/features/dino_vits16/0160.pth\n",
      "dict_keys(['k', 'indices', 'file', 'id', 'model_name', 'patch_size', 'shape'])\n",
      "0160\n",
      "Starting Training\n",
      "epoch: 00, loss: -0.03385\n",
      "epoch: 01, loss: -0.05580\n",
      "epoch: 02, loss: -0.05769\n",
      "epoch: 03, loss: -0.05766\n",
      "epoch: 04, loss: -0.05853\n",
      "epoch: 05, loss: -0.05838\n",
      "epoch: 06, loss: -0.05869\n",
      "epoch: 07, loss: -0.05869\n",
      "epoch: 08, loss: -0.05885\n",
      "epoch: 09, loss: -0.05906\n",
      "torch.Size([400, 64])\n"
     ]
    },
    {
     "name": "stderr",
     "output_type": "stream",
     "text": [
      " 16%|█▌        | 160/1000 [50:30<4:08:47, 17.77s/it]"
     ]
    },
    {
     "name": "stdout",
     "output_type": "stream",
     "text": [
      "eigenvalues shape torch.Size([5]) eigenvectors shape torch.Size([5, 400])\n",
      "160 /home/phdcs2/Hard_Disk/Datasets/Deep-Spectral-Segmentation/data/object-segmentation/ECSSD/features/dino_vits16/0161.pth\n",
      "dict_keys(['k', 'indices', 'file', 'id', 'model_name', 'patch_size', 'shape'])\n",
      "0161\n",
      "Starting Training\n",
      "epoch: 00, loss: 0.00037\n",
      "epoch: 01, loss: -0.01452\n",
      "epoch: 02, loss: -0.02001\n",
      "epoch: 03, loss: -0.02197\n",
      "epoch: 04, loss: -0.02328\n",
      "epoch: 05, loss: -0.02368\n",
      "epoch: 06, loss: -0.02390\n",
      "epoch: 07, loss: -0.02405\n",
      "epoch: 08, loss: -0.02428\n",
      "epoch: 09, loss: -0.02430\n",
      "torch.Size([450, 64])\n"
     ]
    },
    {
     "name": "stderr",
     "output_type": "stream",
     "text": [
      " 16%|█▌        | 161/1000 [50:50<4:21:28, 18.70s/it]"
     ]
    },
    {
     "name": "stdout",
     "output_type": "stream",
     "text": [
      "eigenvalues shape torch.Size([5]) eigenvectors shape torch.Size([5, 450])\n",
      "161 /home/phdcs2/Hard_Disk/Datasets/Deep-Spectral-Segmentation/data/object-segmentation/ECSSD/features/dino_vits16/0162.pth\n",
      "dict_keys(['k', 'indices', 'file', 'id', 'model_name', 'patch_size', 'shape'])\n",
      "0162\n",
      "Starting Training\n",
      "epoch: 00, loss: -0.04516\n",
      "epoch: 01, loss: -0.06895\n",
      "epoch: 02, loss: -0.07152\n",
      "epoch: 03, loss: -0.07174\n",
      "epoch: 04, loss: -0.07054\n",
      "epoch: 05, loss: -0.07094\n",
      "epoch: 06, loss: -0.07280\n",
      "epoch: 07, loss: -0.07285\n",
      "epoch: 08, loss: -0.07297\n",
      "epoch: 09, loss: -0.07258\n",
      "torch.Size([450, 64])\n"
     ]
    },
    {
     "name": "stderr",
     "output_type": "stream",
     "text": [
      " 16%|█▌        | 162/1000 [51:10<4:24:58, 18.97s/it]"
     ]
    },
    {
     "name": "stdout",
     "output_type": "stream",
     "text": [
      "eigenvalues shape torch.Size([5]) eigenvectors shape torch.Size([5, 450])\n",
      "162 /home/phdcs2/Hard_Disk/Datasets/Deep-Spectral-Segmentation/data/object-segmentation/ECSSD/features/dino_vits16/0163.pth\n",
      "dict_keys(['k', 'indices', 'file', 'id', 'model_name', 'patch_size', 'shape'])\n",
      "0163\n",
      "Starting Training\n",
      "epoch: 00, loss: -0.07827\n",
      "epoch: 01, loss: -0.11762\n",
      "epoch: 02, loss: -0.11954\n",
      "epoch: 03, loss: -0.12127\n",
      "epoch: 04, loss: -0.12430\n",
      "epoch: 05, loss: -0.12510\n",
      "epoch: 06, loss: -0.12464\n",
      "epoch: 07, loss: -0.12726\n",
      "epoch: 08, loss: -0.12821\n",
      "epoch: 09, loss: -0.12602\n",
      "torch.Size([400, 64])\n"
     ]
    },
    {
     "name": "stderr",
     "output_type": "stream",
     "text": [
      " 16%|█▋        | 163/1000 [51:26<4:11:54, 18.06s/it]"
     ]
    },
    {
     "name": "stdout",
     "output_type": "stream",
     "text": [
      "eigenvalues shape torch.Size([5]) eigenvectors shape torch.Size([5, 400])\n",
      "163 /home/phdcs2/Hard_Disk/Datasets/Deep-Spectral-Segmentation/data/object-segmentation/ECSSD/features/dino_vits16/0164.pth\n",
      "dict_keys(['k', 'indices', 'file', 'id', 'model_name', 'patch_size', 'shape'])\n",
      "0164\n",
      "Starting Training\n",
      "epoch: 00, loss: -0.08447\n",
      "epoch: 01, loss: -0.09620\n",
      "epoch: 02, loss: -0.09700\n",
      "epoch: 03, loss: -0.09748\n",
      "epoch: 04, loss: -0.09780\n",
      "epoch: 05, loss: -0.09774\n",
      "epoch: 06, loss: -0.09797\n",
      "epoch: 07, loss: -0.09805\n",
      "epoch: 08, loss: -0.09807\n",
      "epoch: 09, loss: -0.09820\n",
      "torch.Size([550, 64])\n"
     ]
    },
    {
     "name": "stderr",
     "output_type": "stream",
     "text": [
      " 16%|█▋        | 164/1000 [52:04<5:33:33, 23.94s/it]"
     ]
    },
    {
     "name": "stdout",
     "output_type": "stream",
     "text": [
      "eigenvalues shape torch.Size([5]) eigenvectors shape torch.Size([5, 550])\n",
      "164 /home/phdcs2/Hard_Disk/Datasets/Deep-Spectral-Segmentation/data/object-segmentation/ECSSD/features/dino_vits16/0165.pth\n",
      "dict_keys(['k', 'indices', 'file', 'id', 'model_name', 'patch_size', 'shape'])\n",
      "0165\n",
      "Starting Training\n",
      "epoch: 00, loss: -0.03536\n",
      "epoch: 01, loss: -0.05397\n",
      "epoch: 02, loss: -0.05602\n",
      "epoch: 03, loss: -0.05628\n",
      "epoch: 04, loss: -0.05677\n",
      "epoch: 05, loss: -0.05723\n",
      "epoch: 06, loss: -0.05744\n",
      "epoch: 07, loss: -0.05768\n",
      "epoch: 08, loss: -0.05777\n",
      "epoch: 09, loss: -0.05808\n",
      "torch.Size([450, 64])\n"
     ]
    },
    {
     "name": "stderr",
     "output_type": "stream",
     "text": [
      " 16%|█▋        | 165/1000 [52:27<5:32:31, 23.89s/it]"
     ]
    },
    {
     "name": "stdout",
     "output_type": "stream",
     "text": [
      "eigenvalues shape torch.Size([5]) eigenvectors shape torch.Size([5, 450])\n",
      "165 /home/phdcs2/Hard_Disk/Datasets/Deep-Spectral-Segmentation/data/object-segmentation/ECSSD/features/dino_vits16/0166.pth\n",
      "dict_keys(['k', 'indices', 'file', 'id', 'model_name', 'patch_size', 'shape'])\n",
      "0166\n",
      "Starting Training\n",
      "epoch: 00, loss: -0.03255\n",
      "epoch: 01, loss: -0.05609\n",
      "epoch: 02, loss: -0.06166\n",
      "epoch: 03, loss: -0.06452\n",
      "epoch: 04, loss: -0.06326\n",
      "epoch: 05, loss: -0.06374\n",
      "epoch: 06, loss: -0.06604\n",
      "epoch: 07, loss: -0.06566\n",
      "epoch: 08, loss: -0.06606\n",
      "epoch: 09, loss: -0.06506\n",
      "torch.Size([400, 64])\n"
     ]
    },
    {
     "name": "stderr",
     "output_type": "stream",
     "text": [
      " 17%|█▋        | 166/1000 [52:47<5:13:09, 22.53s/it]"
     ]
    },
    {
     "name": "stdout",
     "output_type": "stream",
     "text": [
      "eigenvalues shape torch.Size([5]) eigenvectors shape torch.Size([5, 400])\n",
      "166 /home/phdcs2/Hard_Disk/Datasets/Deep-Spectral-Segmentation/data/object-segmentation/ECSSD/features/dino_vits16/0167.pth\n",
      "dict_keys(['k', 'indices', 'file', 'id', 'model_name', 'patch_size', 'shape'])\n",
      "0167\n",
      "Starting Training\n",
      "epoch: 00, loss: -0.02861\n",
      "epoch: 01, loss: -0.04798\n",
      "epoch: 02, loss: -0.05000\n",
      "epoch: 03, loss: -0.05062\n",
      "epoch: 04, loss: -0.05084\n",
      "epoch: 05, loss: -0.05101\n",
      "epoch: 06, loss: -0.05118\n",
      "epoch: 07, loss: -0.05148\n",
      "epoch: 08, loss: -0.05146\n",
      "epoch: 09, loss: -0.05158\n",
      "torch.Size([450, 64])\n"
     ]
    },
    {
     "name": "stderr",
     "output_type": "stream",
     "text": [
      " 17%|█▋        | 167/1000 [53:07<5:01:21, 21.71s/it]"
     ]
    },
    {
     "name": "stdout",
     "output_type": "stream",
     "text": [
      "eigenvalues shape torch.Size([5]) eigenvectors shape torch.Size([5, 450])\n",
      "167 /home/phdcs2/Hard_Disk/Datasets/Deep-Spectral-Segmentation/data/object-segmentation/ECSSD/features/dino_vits16/0168.pth\n",
      "dict_keys(['k', 'indices', 'file', 'id', 'model_name', 'patch_size', 'shape'])\n",
      "0168\n",
      "Starting Training\n",
      "epoch: 00, loss: -0.23275\n",
      "epoch: 01, loss: -0.27552\n",
      "epoch: 02, loss: -0.28358\n",
      "epoch: 03, loss: -0.29036\n",
      "epoch: 04, loss: -0.29247\n",
      "epoch: 05, loss: -0.29847\n",
      "epoch: 06, loss: -0.30350\n",
      "epoch: 07, loss: -0.30623\n",
      "epoch: 08, loss: -0.30512\n",
      "epoch: 09, loss: -0.30560\n",
      "torch.Size([400, 64])\n"
     ]
    },
    {
     "name": "stderr",
     "output_type": "stream",
     "text": [
      " 17%|█▋        | 168/1000 [53:25<4:49:19, 20.86s/it]"
     ]
    },
    {
     "name": "stdout",
     "output_type": "stream",
     "text": [
      "eigenvalues shape torch.Size([5]) eigenvectors shape torch.Size([5, 400])\n",
      "168 /home/phdcs2/Hard_Disk/Datasets/Deep-Spectral-Segmentation/data/object-segmentation/ECSSD/features/dino_vits16/0169.pth\n",
      "dict_keys(['k', 'indices', 'file', 'id', 'model_name', 'patch_size', 'shape'])\n",
      "0169\n",
      "Starting Training\n",
      "epoch: 00, loss: -0.02234\n",
      "epoch: 01, loss: -0.03873\n",
      "epoch: 02, loss: -0.04147\n",
      "epoch: 03, loss: -0.04192\n",
      "epoch: 04, loss: -0.04220\n",
      "epoch: 05, loss: -0.04240\n",
      "epoch: 06, loss: -0.04277\n",
      "epoch: 07, loss: -0.04295\n",
      "epoch: 08, loss: -0.04301\n",
      "epoch: 09, loss: -0.04324\n",
      "torch.Size([400, 64])\n"
     ]
    },
    {
     "name": "stderr",
     "output_type": "stream",
     "text": [
      " 17%|█▋        | 169/1000 [53:43<4:37:07, 20.01s/it]"
     ]
    },
    {
     "name": "stdout",
     "output_type": "stream",
     "text": [
      "eigenvalues shape torch.Size([5]) eigenvectors shape torch.Size([5, 400])\n",
      "169 /home/phdcs2/Hard_Disk/Datasets/Deep-Spectral-Segmentation/data/object-segmentation/ECSSD/features/dino_vits16/0170.pth\n",
      "dict_keys(['k', 'indices', 'file', 'id', 'model_name', 'patch_size', 'shape'])\n",
      "0170\n",
      "Starting Training\n",
      "epoch: 00, loss: -0.03714\n",
      "epoch: 01, loss: -0.06255\n",
      "epoch: 02, loss: -0.06414\n",
      "epoch: 03, loss: -0.06467\n",
      "epoch: 04, loss: -0.06493\n",
      "epoch: 05, loss: -0.06527\n",
      "epoch: 06, loss: -0.06533\n",
      "epoch: 07, loss: -0.06538\n",
      "epoch: 08, loss: -0.06532\n",
      "epoch: 09, loss: -0.06557\n",
      "torch.Size([450, 64])\n"
     ]
    },
    {
     "name": "stderr",
     "output_type": "stream",
     "text": [
      " 17%|█▋        | 170/1000 [54:08<4:55:42, 21.38s/it]"
     ]
    },
    {
     "name": "stdout",
     "output_type": "stream",
     "text": [
      "eigenvalues shape torch.Size([5]) eigenvectors shape torch.Size([5, 450])\n",
      "170 /home/phdcs2/Hard_Disk/Datasets/Deep-Spectral-Segmentation/data/object-segmentation/ECSSD/features/dino_vits16/0171.pth\n",
      "dict_keys(['k', 'indices', 'file', 'id', 'model_name', 'patch_size', 'shape'])\n",
      "0171\n",
      "Starting Training\n",
      "epoch: 00, loss: -0.05193\n",
      "epoch: 01, loss: -0.07702\n",
      "epoch: 02, loss: -0.08062\n",
      "epoch: 03, loss: -0.08403\n",
      "epoch: 04, loss: -0.08485\n",
      "epoch: 05, loss: -0.08481\n",
      "epoch: 06, loss: -0.08528\n",
      "epoch: 07, loss: -0.08647\n",
      "epoch: 08, loss: -0.08541\n",
      "epoch: 09, loss: -0.08789\n",
      "torch.Size([375, 64])\n"
     ]
    },
    {
     "name": "stderr",
     "output_type": "stream",
     "text": [
      " 17%|█▋        | 171/1000 [54:26<4:41:23, 20.37s/it]"
     ]
    },
    {
     "name": "stdout",
     "output_type": "stream",
     "text": [
      "eigenvalues shape torch.Size([5]) eigenvectors shape torch.Size([5, 375])\n",
      "171 /home/phdcs2/Hard_Disk/Datasets/Deep-Spectral-Segmentation/data/object-segmentation/ECSSD/features/dino_vits16/0172.pth\n",
      "dict_keys(['k', 'indices', 'file', 'id', 'model_name', 'patch_size', 'shape'])\n",
      "0172\n",
      "Starting Training\n",
      "epoch: 00, loss: -0.03505\n",
      "epoch: 01, loss: -0.06702\n",
      "epoch: 02, loss: -0.06962\n",
      "epoch: 03, loss: -0.06949\n",
      "epoch: 04, loss: -0.06854\n",
      "epoch: 05, loss: -0.07080\n",
      "epoch: 06, loss: -0.06908\n",
      "epoch: 07, loss: -0.06907\n",
      "epoch: 08, loss: -0.06923\n",
      "epoch: 09, loss: -0.06937\n",
      "torch.Size([375, 64])\n"
     ]
    },
    {
     "name": "stderr",
     "output_type": "stream",
     "text": [
      " 17%|█▋        | 172/1000 [54:44<4:33:17, 19.80s/it]"
     ]
    },
    {
     "name": "stdout",
     "output_type": "stream",
     "text": [
      "eigenvalues shape torch.Size([5]) eigenvectors shape torch.Size([5, 375])\n",
      "172 /home/phdcs2/Hard_Disk/Datasets/Deep-Spectral-Segmentation/data/object-segmentation/ECSSD/features/dino_vits16/0173.pth\n",
      "dict_keys(['k', 'indices', 'file', 'id', 'model_name', 'patch_size', 'shape'])\n",
      "0173\n",
      "Starting Training\n",
      "epoch: 00, loss: -0.06606\n",
      "epoch: 01, loss: -0.08598\n",
      "epoch: 02, loss: -0.08666\n",
      "epoch: 03, loss: -0.08718\n",
      "epoch: 04, loss: -0.08744\n",
      "epoch: 05, loss: -0.08749\n",
      "epoch: 06, loss: -0.08754\n",
      "epoch: 07, loss: -0.08769\n",
      "epoch: 08, loss: -0.08793\n",
      "epoch: 09, loss: -0.08786\n",
      "torch.Size([450, 64])\n"
     ]
    },
    {
     "name": "stderr",
     "output_type": "stream",
     "text": [
      " 17%|█▋        | 173/1000 [55:03<4:28:44, 19.50s/it]"
     ]
    },
    {
     "name": "stdout",
     "output_type": "stream",
     "text": [
      "eigenvalues shape torch.Size([5]) eigenvectors shape torch.Size([5, 450])\n",
      "173 /home/phdcs2/Hard_Disk/Datasets/Deep-Spectral-Segmentation/data/object-segmentation/ECSSD/features/dino_vits16/0174.pth\n",
      "dict_keys(['k', 'indices', 'file', 'id', 'model_name', 'patch_size', 'shape'])\n",
      "0174\n",
      "Starting Training\n",
      "epoch: 00, loss: -0.01797\n",
      "epoch: 01, loss: -0.04171\n",
      "epoch: 02, loss: -0.04444\n",
      "epoch: 03, loss: -0.04698\n",
      "epoch: 04, loss: -0.04625\n",
      "epoch: 05, loss: -0.04703\n",
      "epoch: 06, loss: -0.04638\n",
      "epoch: 07, loss: -0.04686\n",
      "epoch: 08, loss: -0.04838\n",
      "epoch: 09, loss: -0.04762\n",
      "torch.Size([375, 64])\n"
     ]
    },
    {
     "name": "stderr",
     "output_type": "stream",
     "text": [
      " 17%|█▋        | 174/1000 [55:19<4:14:15, 18.47s/it]"
     ]
    },
    {
     "name": "stdout",
     "output_type": "stream",
     "text": [
      "eigenvalues shape torch.Size([5]) eigenvectors shape torch.Size([5, 375])\n",
      "174 /home/phdcs2/Hard_Disk/Datasets/Deep-Spectral-Segmentation/data/object-segmentation/ECSSD/features/dino_vits16/0175.pth\n",
      "dict_keys(['k', 'indices', 'file', 'id', 'model_name', 'patch_size', 'shape'])\n",
      "0175\n",
      "Starting Training\n",
      "epoch: 00, loss: -0.04346\n",
      "epoch: 01, loss: -0.07756\n",
      "epoch: 02, loss: -0.07850\n",
      "epoch: 03, loss: -0.08229\n",
      "epoch: 04, loss: -0.08204\n",
      "epoch: 05, loss: -0.08333\n",
      "epoch: 06, loss: -0.08266\n",
      "epoch: 07, loss: -0.08272\n",
      "epoch: 08, loss: -0.08391\n",
      "epoch: 09, loss: -0.08441\n",
      "torch.Size([450, 64])\n"
     ]
    },
    {
     "name": "stderr",
     "output_type": "stream",
     "text": [
      " 18%|█▊        | 175/1000 [55:38<4:14:00, 18.47s/it]"
     ]
    },
    {
     "name": "stdout",
     "output_type": "stream",
     "text": [
      "eigenvalues shape torch.Size([5]) eigenvectors shape torch.Size([5, 450])\n",
      "175 /home/phdcs2/Hard_Disk/Datasets/Deep-Spectral-Segmentation/data/object-segmentation/ECSSD/features/dino_vits16/0176.pth\n",
      "dict_keys(['k', 'indices', 'file', 'id', 'model_name', 'patch_size', 'shape'])\n",
      "0176\n",
      "Starting Training\n",
      "epoch: 00, loss: -0.06130\n",
      "epoch: 01, loss: -0.08257\n",
      "epoch: 02, loss: -0.08377\n",
      "epoch: 03, loss: -0.08741\n",
      "epoch: 04, loss: -0.08816\n",
      "epoch: 05, loss: -0.08720\n",
      "epoch: 06, loss: -0.08835\n",
      "epoch: 07, loss: -0.08999\n",
      "epoch: 08, loss: -0.08866\n",
      "epoch: 09, loss: -0.09230\n",
      "torch.Size([550, 64])\n"
     ]
    },
    {
     "name": "stderr",
     "output_type": "stream",
     "text": [
      " 18%|█▊        | 176/1000 [55:58<4:22:15, 19.10s/it]"
     ]
    },
    {
     "name": "stdout",
     "output_type": "stream",
     "text": [
      "eigenvalues shape torch.Size([5]) eigenvectors shape torch.Size([5, 550])\n",
      "176 /home/phdcs2/Hard_Disk/Datasets/Deep-Spectral-Segmentation/data/object-segmentation/ECSSD/features/dino_vits16/0177.pth\n",
      "dict_keys(['k', 'indices', 'file', 'id', 'model_name', 'patch_size', 'shape'])\n",
      "0177\n",
      "Starting Training\n",
      "epoch: 00, loss: -0.02527\n",
      "epoch: 01, loss: -0.04833\n",
      "epoch: 02, loss: -0.05072\n",
      "epoch: 03, loss: -0.05142\n",
      "epoch: 04, loss: -0.05189\n",
      "epoch: 05, loss: -0.05224\n",
      "epoch: 06, loss: -0.05225\n",
      "epoch: 07, loss: -0.05243\n",
      "epoch: 08, loss: -0.05256\n",
      "epoch: 09, loss: -0.05265\n",
      "torch.Size([400, 64])\n"
     ]
    },
    {
     "name": "stderr",
     "output_type": "stream",
     "text": [
      " 18%|█▊        | 177/1000 [56:19<4:26:14, 19.41s/it]"
     ]
    },
    {
     "name": "stdout",
     "output_type": "stream",
     "text": [
      "eigenvalues shape torch.Size([5]) eigenvectors shape torch.Size([5, 400])\n",
      "177 /home/phdcs2/Hard_Disk/Datasets/Deep-Spectral-Segmentation/data/object-segmentation/ECSSD/features/dino_vits16/0178.pth\n",
      "dict_keys(['k', 'indices', 'file', 'id', 'model_name', 'patch_size', 'shape'])\n",
      "0178\n",
      "Starting Training\n",
      "epoch: 00, loss: -0.02597\n",
      "epoch: 01, loss: -0.04996\n",
      "epoch: 02, loss: -0.05113\n",
      "epoch: 03, loss: -0.05176\n",
      "epoch: 04, loss: -0.05250\n",
      "epoch: 05, loss: -0.05238\n",
      "epoch: 06, loss: -0.05305\n",
      "epoch: 07, loss: -0.05285\n",
      "epoch: 08, loss: -0.05290\n",
      "epoch: 09, loss: -0.05306\n",
      "torch.Size([450, 64])\n"
     ]
    },
    {
     "name": "stderr",
     "output_type": "stream",
     "text": [
      " 18%|█▊        | 178/1000 [56:39<4:30:54, 19.77s/it]"
     ]
    },
    {
     "name": "stdout",
     "output_type": "stream",
     "text": [
      "eigenvalues shape torch.Size([5]) eigenvectors shape torch.Size([5, 450])\n",
      "178 /home/phdcs2/Hard_Disk/Datasets/Deep-Spectral-Segmentation/data/object-segmentation/ECSSD/features/dino_vits16/0179.pth\n",
      "dict_keys(['k', 'indices', 'file', 'id', 'model_name', 'patch_size', 'shape'])\n",
      "0179\n",
      "Starting Training\n",
      "epoch: 00, loss: -0.03588\n",
      "epoch: 01, loss: -0.05560\n",
      "epoch: 02, loss: -0.05649\n",
      "epoch: 03, loss: -0.05738\n",
      "epoch: 04, loss: -0.05720\n",
      "epoch: 05, loss: -0.05750\n",
      "epoch: 06, loss: -0.05778\n",
      "epoch: 07, loss: -0.05799\n",
      "epoch: 08, loss: -0.05809\n",
      "epoch: 09, loss: -0.05806\n",
      "torch.Size([400, 64])\n"
     ]
    },
    {
     "name": "stderr",
     "output_type": "stream",
     "text": [
      " 18%|█▊        | 179/1000 [57:01<4:37:38, 20.29s/it]"
     ]
    },
    {
     "name": "stdout",
     "output_type": "stream",
     "text": [
      "eigenvalues shape torch.Size([5]) eigenvectors shape torch.Size([5, 400])\n",
      "179 /home/phdcs2/Hard_Disk/Datasets/Deep-Spectral-Segmentation/data/object-segmentation/ECSSD/features/dino_vits16/0180.pth\n",
      "dict_keys(['k', 'indices', 'file', 'id', 'model_name', 'patch_size', 'shape'])\n",
      "0180\n",
      "Starting Training\n",
      "epoch: 00, loss: -0.04859\n",
      "epoch: 01, loss: -0.07928\n",
      "epoch: 02, loss: -0.07977\n",
      "epoch: 03, loss: -0.08009\n",
      "epoch: 04, loss: -0.08058\n",
      "epoch: 05, loss: -0.08081\n",
      "epoch: 06, loss: -0.08080\n",
      "epoch: 07, loss: -0.08084\n",
      "epoch: 08, loss: -0.08118\n",
      "epoch: 09, loss: -0.08111\n",
      "torch.Size([400, 64])\n"
     ]
    },
    {
     "name": "stderr",
     "output_type": "stream",
     "text": [
      " 18%|█▊        | 180/1000 [57:23<4:43:47, 20.77s/it]"
     ]
    },
    {
     "name": "stdout",
     "output_type": "stream",
     "text": [
      "eigenvalues shape torch.Size([5]) eigenvectors shape torch.Size([5, 400])\n",
      "180 /home/phdcs2/Hard_Disk/Datasets/Deep-Spectral-Segmentation/data/object-segmentation/ECSSD/features/dino_vits16/0181.pth\n",
      "dict_keys(['k', 'indices', 'file', 'id', 'model_name', 'patch_size', 'shape'])\n",
      "0181\n",
      "Starting Training\n",
      "epoch: 00, loss: -0.02165\n",
      "epoch: 01, loss: -0.04243\n",
      "epoch: 02, loss: -0.04492\n",
      "epoch: 03, loss: -0.05048\n",
      "epoch: 04, loss: -0.04797\n",
      "epoch: 05, loss: -0.05001\n",
      "epoch: 06, loss: -0.04891\n",
      "epoch: 07, loss: -0.05064\n",
      "epoch: 08, loss: -0.05138\n",
      "epoch: 09, loss: -0.05393\n",
      "torch.Size([375, 64])\n"
     ]
    },
    {
     "name": "stderr",
     "output_type": "stream",
     "text": [
      " 18%|█▊        | 181/1000 [57:39<4:26:29, 19.52s/it]"
     ]
    },
    {
     "name": "stdout",
     "output_type": "stream",
     "text": [
      "eigenvalues shape torch.Size([5]) eigenvectors shape torch.Size([5, 375])\n",
      "181 /home/phdcs2/Hard_Disk/Datasets/Deep-Spectral-Segmentation/data/object-segmentation/ECSSD/features/dino_vits16/0182.pth\n",
      "dict_keys(['k', 'indices', 'file', 'id', 'model_name', 'patch_size', 'shape'])\n",
      "0182\n",
      "Starting Training\n",
      "epoch: 00, loss: -0.01193\n",
      "epoch: 01, loss: -0.02700\n",
      "epoch: 02, loss: -0.02890\n",
      "epoch: 03, loss: -0.02907\n",
      "epoch: 04, loss: -0.03042\n",
      "epoch: 05, loss: -0.03053\n",
      "epoch: 06, loss: -0.03009\n",
      "epoch: 07, loss: -0.03063\n",
      "epoch: 08, loss: -0.03029\n",
      "epoch: 09, loss: -0.03050\n",
      "torch.Size([625, 64])\n"
     ]
    },
    {
     "name": "stderr",
     "output_type": "stream",
     "text": [
      " 18%|█▊        | 182/1000 [58:15<5:33:41, 24.48s/it]"
     ]
    },
    {
     "name": "stdout",
     "output_type": "stream",
     "text": [
      "eigenvalues shape torch.Size([5]) eigenvectors shape torch.Size([5, 625])\n",
      "182 /home/phdcs2/Hard_Disk/Datasets/Deep-Spectral-Segmentation/data/object-segmentation/ECSSD/features/dino_vits16/0183.pth\n",
      "dict_keys(['k', 'indices', 'file', 'id', 'model_name', 'patch_size', 'shape'])\n",
      "0183\n",
      "Starting Training\n",
      "epoch: 00, loss: 0.00741\n",
      "epoch: 01, loss: -0.00470\n",
      "epoch: 02, loss: -0.01424\n",
      "epoch: 03, loss: -0.01771\n",
      "epoch: 04, loss: -0.01881\n",
      "epoch: 05, loss: -0.01972\n",
      "epoch: 06, loss: -0.02035\n",
      "epoch: 07, loss: -0.02124\n",
      "epoch: 08, loss: -0.02284\n",
      "epoch: 09, loss: -0.01921\n",
      "torch.Size([400, 64])\n"
     ]
    },
    {
     "name": "stderr",
     "output_type": "stream",
     "text": [
      " 18%|█▊        | 183/1000 [58:38<5:24:41, 23.84s/it]"
     ]
    },
    {
     "name": "stdout",
     "output_type": "stream",
     "text": [
      "eigenvalues shape torch.Size([5]) eigenvectors shape torch.Size([5, 400])\n",
      "183 /home/phdcs2/Hard_Disk/Datasets/Deep-Spectral-Segmentation/data/object-segmentation/ECSSD/features/dino_vits16/0184.pth\n",
      "dict_keys(['k', 'indices', 'file', 'id', 'model_name', 'patch_size', 'shape'])\n",
      "0184\n",
      "Starting Training\n",
      "epoch: 00, loss: -0.06169\n",
      "epoch: 01, loss: -0.08280\n",
      "epoch: 02, loss: -0.08187\n",
      "epoch: 03, loss: -0.08224\n",
      "epoch: 04, loss: -0.08359\n",
      "epoch: 05, loss: -0.08371\n",
      "epoch: 06, loss: -0.08392\n",
      "epoch: 07, loss: -0.08385\n",
      "epoch: 08, loss: -0.08387\n",
      "epoch: 09, loss: -0.08334\n",
      "torch.Size([625, 64])\n"
     ]
    },
    {
     "name": "stderr",
     "output_type": "stream",
     "text": [
      " 18%|█▊        | 184/1000 [59:19<6:35:08, 29.05s/it]"
     ]
    },
    {
     "name": "stdout",
     "output_type": "stream",
     "text": [
      "eigenvalues shape torch.Size([5]) eigenvectors shape torch.Size([5, 625])\n",
      "184 /home/phdcs2/Hard_Disk/Datasets/Deep-Spectral-Segmentation/data/object-segmentation/ECSSD/features/dino_vits16/0185.pth\n",
      "dict_keys(['k', 'indices', 'file', 'id', 'model_name', 'patch_size', 'shape'])\n",
      "0185\n",
      "Starting Training\n",
      "epoch: 00, loss: -0.02285\n",
      "epoch: 01, loss: -0.04434\n",
      "epoch: 02, loss: -0.04668\n",
      "epoch: 03, loss: -0.04656\n",
      "epoch: 04, loss: -0.04791\n",
      "epoch: 05, loss: -0.04728\n",
      "epoch: 06, loss: -0.04805\n",
      "epoch: 07, loss: -0.04750\n",
      "epoch: 08, loss: -0.04799\n",
      "epoch: 09, loss: -0.04744\n",
      "torch.Size([625, 64])\n"
     ]
    },
    {
     "name": "stderr",
     "output_type": "stream",
     "text": [
      " 18%|█▊        | 185/1000 [59:48<6:36:23, 29.18s/it]"
     ]
    },
    {
     "name": "stdout",
     "output_type": "stream",
     "text": [
      "eigenvalues shape torch.Size([5]) eigenvectors shape torch.Size([5, 625])\n",
      "185 /home/phdcs2/Hard_Disk/Datasets/Deep-Spectral-Segmentation/data/object-segmentation/ECSSD/features/dino_vits16/0186.pth\n",
      "dict_keys(['k', 'indices', 'file', 'id', 'model_name', 'patch_size', 'shape'])\n",
      "0186\n",
      "Starting Training\n",
      "epoch: 00, loss: -0.08413\n",
      "epoch: 01, loss: -0.11033\n",
      "epoch: 02, loss: -0.11501\n",
      "epoch: 03, loss: -0.11727\n",
      "epoch: 04, loss: -0.11707\n",
      "epoch: 05, loss: -0.11832\n",
      "epoch: 06, loss: -0.11773\n",
      "epoch: 07, loss: -0.11925\n",
      "epoch: 08, loss: -0.11931\n",
      "epoch: 09, loss: -0.11959\n",
      "torch.Size([625, 64])\n"
     ]
    },
    {
     "name": "stderr",
     "output_type": "stream",
     "text": [
      " 19%|█▊        | 186/1000 [1:00:22<6:56:12, 30.68s/it]"
     ]
    },
    {
     "name": "stdout",
     "output_type": "stream",
     "text": [
      "eigenvalues shape torch.Size([5]) eigenvectors shape torch.Size([5, 625])\n",
      "186 /home/phdcs2/Hard_Disk/Datasets/Deep-Spectral-Segmentation/data/object-segmentation/ECSSD/features/dino_vits16/0187.pth\n",
      "dict_keys(['k', 'indices', 'file', 'id', 'model_name', 'patch_size', 'shape'])\n",
      "0187\n",
      "Starting Training\n",
      "epoch: 00, loss: -0.02587\n",
      "epoch: 01, loss: -0.07765\n",
      "epoch: 02, loss: -0.08206\n",
      "epoch: 03, loss: -0.09286\n",
      "epoch: 04, loss: -0.08540\n",
      "epoch: 05, loss: -0.09085\n",
      "epoch: 06, loss: -0.09026\n",
      "epoch: 07, loss: -0.09346\n",
      "epoch: 08, loss: -0.09388\n",
      "epoch: 09, loss: -0.09178\n",
      "torch.Size([200, 64])\n"
     ]
    },
    {
     "name": "stderr",
     "output_type": "stream",
     "text": [
      " 19%|█▊        | 187/1000 [1:00:35<5:42:54, 25.31s/it]"
     ]
    },
    {
     "name": "stdout",
     "output_type": "stream",
     "text": [
      "eigenvalues shape torch.Size([5]) eigenvectors shape torch.Size([5, 200])\n",
      "187 /home/phdcs2/Hard_Disk/Datasets/Deep-Spectral-Segmentation/data/object-segmentation/ECSSD/features/dino_vits16/0188.pth\n",
      "dict_keys(['k', 'indices', 'file', 'id', 'model_name', 'patch_size', 'shape'])\n",
      "0188\n",
      "Starting Training\n",
      "epoch: 00, loss: -0.07098\n",
      "epoch: 01, loss: -0.11060\n",
      "epoch: 02, loss: -0.11462\n",
      "epoch: 03, loss: -0.11657\n",
      "epoch: 04, loss: -0.11579\n",
      "epoch: 05, loss: -0.11850\n",
      "epoch: 06, loss: -0.11806\n",
      "epoch: 07, loss: -0.11784\n",
      "epoch: 08, loss: -0.12024\n",
      "epoch: 09, loss: -0.11850\n",
      "torch.Size([400, 64])\n"
     ]
    },
    {
     "name": "stderr",
     "output_type": "stream",
     "text": [
      " 19%|█▉        | 188/1000 [1:00:52<5:06:34, 22.65s/it]"
     ]
    },
    {
     "name": "stdout",
     "output_type": "stream",
     "text": [
      "eigenvalues shape torch.Size([5]) eigenvectors shape torch.Size([5, 400])\n",
      "188 /home/phdcs2/Hard_Disk/Datasets/Deep-Spectral-Segmentation/data/object-segmentation/ECSSD/features/dino_vits16/0189.pth\n",
      "dict_keys(['k', 'indices', 'file', 'id', 'model_name', 'patch_size', 'shape'])\n",
      "0189\n",
      "Starting Training\n",
      "epoch: 00, loss: -0.01408\n",
      "epoch: 01, loss: -0.02778\n",
      "epoch: 02, loss: -0.03116\n",
      "epoch: 03, loss: -0.03179\n",
      "epoch: 04, loss: -0.03229\n",
      "epoch: 05, loss: -0.03258\n",
      "epoch: 06, loss: -0.03277\n",
      "epoch: 07, loss: -0.03301\n",
      "epoch: 08, loss: -0.03323\n",
      "epoch: 09, loss: -0.03342\n",
      "torch.Size([400, 64])\n"
     ]
    },
    {
     "name": "stderr",
     "output_type": "stream",
     "text": [
      " 19%|█▉        | 189/1000 [1:01:09<4:42:55, 20.93s/it]"
     ]
    },
    {
     "name": "stdout",
     "output_type": "stream",
     "text": [
      "eigenvalues shape torch.Size([5]) eigenvectors shape torch.Size([5, 400])\n",
      "189 /home/phdcs2/Hard_Disk/Datasets/Deep-Spectral-Segmentation/data/object-segmentation/ECSSD/features/dino_vits16/0190.pth\n",
      "dict_keys(['k', 'indices', 'file', 'id', 'model_name', 'patch_size', 'shape'])\n",
      "0190\n",
      "Starting Training\n",
      "epoch: 00, loss: -0.02772\n",
      "epoch: 01, loss: -0.05165\n",
      "epoch: 02, loss: -0.05295\n",
      "epoch: 03, loss: -0.05317\n",
      "epoch: 04, loss: -0.05389\n",
      "epoch: 05, loss: -0.05483\n",
      "epoch: 06, loss: -0.05419\n",
      "epoch: 07, loss: -0.05423\n",
      "epoch: 08, loss: -0.05385\n",
      "epoch: 09, loss: -0.05428\n",
      "torch.Size([450, 64])\n"
     ]
    },
    {
     "name": "stderr",
     "output_type": "stream",
     "text": [
      " 19%|█▉        | 190/1000 [1:01:31<4:46:56, 21.26s/it]"
     ]
    },
    {
     "name": "stdout",
     "output_type": "stream",
     "text": [
      "eigenvalues shape torch.Size([5]) eigenvectors shape torch.Size([5, 450])\n",
      "190 /home/phdcs2/Hard_Disk/Datasets/Deep-Spectral-Segmentation/data/object-segmentation/ECSSD/features/dino_vits16/0191.pth\n",
      "dict_keys(['k', 'indices', 'file', 'id', 'model_name', 'patch_size', 'shape'])\n",
      "0191\n",
      "Starting Training\n",
      "epoch: 00, loss: -0.03932\n",
      "epoch: 01, loss: -0.06140\n",
      "epoch: 02, loss: -0.06449\n",
      "epoch: 03, loss: -0.06719\n",
      "epoch: 04, loss: -0.06468\n",
      "epoch: 05, loss: -0.06750\n",
      "epoch: 06, loss: -0.06730\n",
      "epoch: 07, loss: -0.06614\n",
      "epoch: 08, loss: -0.06938\n",
      "epoch: 09, loss: -0.06853\n",
      "torch.Size([450, 64])\n"
     ]
    },
    {
     "name": "stderr",
     "output_type": "stream",
     "text": [
      " 19%|█▉        | 191/1000 [1:01:54<4:55:46, 21.94s/it]"
     ]
    },
    {
     "name": "stdout",
     "output_type": "stream",
     "text": [
      "eigenvalues shape torch.Size([5]) eigenvectors shape torch.Size([5, 450])\n",
      "191 /home/phdcs2/Hard_Disk/Datasets/Deep-Spectral-Segmentation/data/object-segmentation/ECSSD/features/dino_vits16/0192.pth\n",
      "dict_keys(['k', 'indices', 'file', 'id', 'model_name', 'patch_size', 'shape'])\n",
      "0192\n",
      "Starting Training\n",
      "epoch: 00, loss: -0.04974\n",
      "epoch: 01, loss: -0.06874\n",
      "epoch: 02, loss: -0.06966\n",
      "epoch: 03, loss: -0.07015\n",
      "epoch: 04, loss: -0.07013\n",
      "epoch: 05, loss: -0.07052\n",
      "epoch: 06, loss: -0.07063\n",
      "epoch: 07, loss: -0.07059\n",
      "epoch: 08, loss: -0.07083\n",
      "epoch: 09, loss: -0.07098\n",
      "torch.Size([400, 64])\n"
     ]
    },
    {
     "name": "stderr",
     "output_type": "stream",
     "text": [
      " 19%|█▉        | 192/1000 [1:02:12<4:38:01, 20.65s/it]"
     ]
    },
    {
     "name": "stdout",
     "output_type": "stream",
     "text": [
      "eigenvalues shape torch.Size([5]) eigenvectors shape torch.Size([5, 400])\n",
      "192 /home/phdcs2/Hard_Disk/Datasets/Deep-Spectral-Segmentation/data/object-segmentation/ECSSD/features/dino_vits16/0193.pth\n",
      "dict_keys(['k', 'indices', 'file', 'id', 'model_name', 'patch_size', 'shape'])\n",
      "0193\n",
      "Starting Training\n",
      "epoch: 00, loss: -0.01087\n",
      "epoch: 01, loss: -0.03639\n",
      "epoch: 02, loss: -0.04198\n",
      "epoch: 03, loss: -0.04542\n",
      "epoch: 04, loss: -0.04871\n",
      "epoch: 05, loss: -0.04646\n",
      "epoch: 06, loss: -0.04662\n",
      "epoch: 07, loss: -0.04720\n",
      "epoch: 08, loss: -0.04804\n",
      "epoch: 09, loss: -0.04793\n",
      "torch.Size([450, 64])\n"
     ]
    },
    {
     "name": "stderr",
     "output_type": "stream",
     "text": [
      " 19%|█▉        | 193/1000 [1:02:33<4:40:40, 20.87s/it]"
     ]
    },
    {
     "name": "stdout",
     "output_type": "stream",
     "text": [
      "eigenvalues shape torch.Size([5]) eigenvectors shape torch.Size([5, 450])\n",
      "193 /home/phdcs2/Hard_Disk/Datasets/Deep-Spectral-Segmentation/data/object-segmentation/ECSSD/features/dino_vits16/0194.pth\n",
      "dict_keys(['k', 'indices', 'file', 'id', 'model_name', 'patch_size', 'shape'])\n",
      "0194\n",
      "Starting Training\n",
      "epoch: 00, loss: -0.00528\n",
      "epoch: 01, loss: -0.01887\n",
      "epoch: 02, loss: -0.02376\n",
      "epoch: 03, loss: -0.02515\n",
      "epoch: 04, loss: -0.02495\n",
      "epoch: 05, loss: -0.02643\n",
      "epoch: 06, loss: -0.02610\n",
      "epoch: 07, loss: -0.02703\n",
      "epoch: 08, loss: -0.02655\n",
      "epoch: 09, loss: -0.02696\n",
      "torch.Size([450, 64])\n"
     ]
    },
    {
     "name": "stderr",
     "output_type": "stream",
     "text": [
      " 19%|█▉        | 194/1000 [1:02:53<4:37:20, 20.65s/it]"
     ]
    },
    {
     "name": "stdout",
     "output_type": "stream",
     "text": [
      "eigenvalues shape torch.Size([5]) eigenvectors shape torch.Size([5, 450])\n",
      "194 /home/phdcs2/Hard_Disk/Datasets/Deep-Spectral-Segmentation/data/object-segmentation/ECSSD/features/dino_vits16/0195.pth\n",
      "dict_keys(['k', 'indices', 'file', 'id', 'model_name', 'patch_size', 'shape'])\n",
      "0195\n",
      "Starting Training\n",
      "epoch: 00, loss: -0.04647\n",
      "epoch: 01, loss: -0.07568\n",
      "epoch: 02, loss: -0.07324\n",
      "epoch: 03, loss: -0.07766\n",
      "epoch: 04, loss: -0.07756\n",
      "epoch: 05, loss: -0.07952\n",
      "epoch: 06, loss: -0.08149\n",
      "epoch: 07, loss: -0.07985\n",
      "epoch: 08, loss: -0.08037\n",
      "epoch: 09, loss: -0.08032\n",
      "torch.Size([400, 64])\n"
     ]
    },
    {
     "name": "stderr",
     "output_type": "stream",
     "text": [
      " 20%|█▉        | 195/1000 [1:03:08<4:13:42, 18.91s/it]"
     ]
    },
    {
     "name": "stdout",
     "output_type": "stream",
     "text": [
      "eigenvalues shape torch.Size([5]) eigenvectors shape torch.Size([5, 400])\n",
      "195 /home/phdcs2/Hard_Disk/Datasets/Deep-Spectral-Segmentation/data/object-segmentation/ECSSD/features/dino_vits16/0196.pth\n",
      "dict_keys(['k', 'indices', 'file', 'id', 'model_name', 'patch_size', 'shape'])\n",
      "0196\n",
      "Starting Training\n",
      "epoch: 00, loss: -0.05794\n",
      "epoch: 01, loss: -0.08553\n",
      "epoch: 02, loss: -0.08829\n",
      "epoch: 03, loss: -0.08917\n",
      "epoch: 04, loss: -0.08953\n",
      "epoch: 05, loss: -0.08950\n",
      "epoch: 06, loss: -0.09047\n",
      "epoch: 07, loss: -0.09349\n",
      "epoch: 08, loss: -0.09150\n",
      "epoch: 09, loss: -0.09539\n",
      "torch.Size([625, 64])\n"
     ]
    },
    {
     "name": "stderr",
     "output_type": "stream",
     "text": [
      " 20%|█▉        | 196/1000 [1:03:46<5:30:58, 24.70s/it]"
     ]
    },
    {
     "name": "stdout",
     "output_type": "stream",
     "text": [
      "eigenvalues shape torch.Size([5]) eigenvectors shape torch.Size([5, 625])\n",
      "196 /home/phdcs2/Hard_Disk/Datasets/Deep-Spectral-Segmentation/data/object-segmentation/ECSSD/features/dino_vits16/0197.pth\n",
      "dict_keys(['k', 'indices', 'file', 'id', 'model_name', 'patch_size', 'shape'])\n",
      "0197\n",
      "Starting Training\n",
      "epoch: 00, loss: -0.05049\n",
      "epoch: 01, loss: -0.07802\n",
      "epoch: 02, loss: -0.08105\n",
      "epoch: 03, loss: -0.08233\n",
      "epoch: 04, loss: -0.08417\n",
      "epoch: 05, loss: -0.08404\n",
      "epoch: 06, loss: -0.08265\n",
      "epoch: 07, loss: -0.08073\n",
      "epoch: 08, loss: -0.08314\n",
      "epoch: 09, loss: -0.08495\n",
      "torch.Size([400, 64])\n"
     ]
    },
    {
     "name": "stderr",
     "output_type": "stream",
     "text": [
      " 20%|█▉        | 197/1000 [1:04:02<4:55:39, 22.09s/it]"
     ]
    },
    {
     "name": "stdout",
     "output_type": "stream",
     "text": [
      "eigenvalues shape torch.Size([5]) eigenvectors shape torch.Size([5, 400])\n",
      "197 /home/phdcs2/Hard_Disk/Datasets/Deep-Spectral-Segmentation/data/object-segmentation/ECSSD/features/dino_vits16/0198.pth\n",
      "dict_keys(['k', 'indices', 'file', 'id', 'model_name', 'patch_size', 'shape'])\n",
      "0198\n",
      "Starting Training\n",
      "epoch: 00, loss: -0.00537\n",
      "epoch: 01, loss: -0.02587\n",
      "epoch: 02, loss: -0.03029\n",
      "epoch: 03, loss: -0.03254\n",
      "epoch: 04, loss: -0.03406\n",
      "epoch: 05, loss: -0.03809\n",
      "epoch: 06, loss: -0.03714\n",
      "epoch: 07, loss: -0.03766\n",
      "epoch: 08, loss: -0.03850\n",
      "epoch: 09, loss: -0.03994\n",
      "torch.Size([425, 64])\n"
     ]
    },
    {
     "name": "stderr",
     "output_type": "stream",
     "text": [
      " 20%|█▉        | 198/1000 [1:04:25<4:59:32, 22.41s/it]"
     ]
    },
    {
     "name": "stdout",
     "output_type": "stream",
     "text": [
      "eigenvalues shape torch.Size([5]) eigenvectors shape torch.Size([5, 425])\n",
      "198 /home/phdcs2/Hard_Disk/Datasets/Deep-Spectral-Segmentation/data/object-segmentation/ECSSD/features/dino_vits16/0199.pth\n",
      "dict_keys(['k', 'indices', 'file', 'id', 'model_name', 'patch_size', 'shape'])\n",
      "0199\n",
      "Starting Training\n",
      "epoch: 00, loss: -0.05583\n",
      "epoch: 01, loss: -0.08793\n",
      "epoch: 02, loss: -0.09035\n",
      "epoch: 03, loss: -0.09410\n",
      "epoch: 04, loss: -0.09268\n",
      "epoch: 05, loss: -0.09366\n",
      "epoch: 06, loss: -0.09461\n",
      "epoch: 07, loss: -0.09512\n",
      "epoch: 08, loss: -0.09637\n",
      "epoch: 09, loss: -0.09478\n",
      "torch.Size([450, 64])\n"
     ]
    },
    {
     "name": "stderr",
     "output_type": "stream",
     "text": [
      " 20%|█▉        | 199/1000 [1:04:45<4:49:38, 21.70s/it]"
     ]
    },
    {
     "name": "stdout",
     "output_type": "stream",
     "text": [
      "eigenvalues shape torch.Size([5]) eigenvectors shape torch.Size([5, 450])\n",
      "199 /home/phdcs2/Hard_Disk/Datasets/Deep-Spectral-Segmentation/data/object-segmentation/ECSSD/features/dino_vits16/0200.pth\n",
      "dict_keys(['k', 'indices', 'file', 'id', 'model_name', 'patch_size', 'shape'])\n",
      "0200\n",
      "Starting Training\n",
      "epoch: 00, loss: -0.02726\n",
      "epoch: 01, loss: -0.04363\n",
      "epoch: 02, loss: -0.04553\n",
      "epoch: 03, loss: -0.04604\n",
      "epoch: 04, loss: -0.04657\n",
      "epoch: 05, loss: -0.04670\n",
      "epoch: 06, loss: -0.04699\n",
      "epoch: 07, loss: -0.04688\n",
      "epoch: 08, loss: -0.04698\n",
      "epoch: 09, loss: -0.04718\n",
      "torch.Size([450, 64])\n"
     ]
    },
    {
     "name": "stderr",
     "output_type": "stream",
     "text": [
      " 20%|██        | 200/1000 [1:05:09<4:55:53, 22.19s/it]"
     ]
    },
    {
     "name": "stdout",
     "output_type": "stream",
     "text": [
      "eigenvalues shape torch.Size([5]) eigenvectors shape torch.Size([5, 450])\n",
      "200 /home/phdcs2/Hard_Disk/Datasets/Deep-Spectral-Segmentation/data/object-segmentation/ECSSD/features/dino_vits16/0201.pth\n",
      "dict_keys(['k', 'indices', 'file', 'id', 'model_name', 'patch_size', 'shape'])\n",
      "0201\n",
      "Starting Training\n",
      "epoch: 00, loss: -0.06140\n",
      "epoch: 01, loss: -0.08266\n",
      "epoch: 02, loss: -0.08674\n",
      "epoch: 03, loss: -0.08714\n",
      "epoch: 04, loss: -0.08842\n",
      "epoch: 05, loss: -0.08743\n",
      "epoch: 06, loss: -0.08756\n",
      "epoch: 07, loss: -0.08885\n",
      "epoch: 08, loss: -0.08824\n",
      "epoch: 09, loss: -0.08927\n",
      "torch.Size([425, 64])\n"
     ]
    },
    {
     "name": "stderr",
     "output_type": "stream",
     "text": [
      " 20%|██        | 201/1000 [1:05:30<4:49:59, 21.78s/it]"
     ]
    },
    {
     "name": "stdout",
     "output_type": "stream",
     "text": [
      "eigenvalues shape torch.Size([5]) eigenvectors shape torch.Size([5, 425])\n",
      "201 /home/phdcs2/Hard_Disk/Datasets/Deep-Spectral-Segmentation/data/object-segmentation/ECSSD/features/dino_vits16/0202.pth\n",
      "dict_keys(['k', 'indices', 'file', 'id', 'model_name', 'patch_size', 'shape'])\n",
      "0202\n",
      "Starting Training\n",
      "epoch: 00, loss: -0.03467\n",
      "epoch: 01, loss: -0.05607\n",
      "epoch: 02, loss: -0.05801\n",
      "epoch: 03, loss: -0.05854\n",
      "epoch: 04, loss: -0.05865\n",
      "epoch: 05, loss: -0.05882\n",
      "epoch: 06, loss: -0.05956\n",
      "epoch: 07, loss: -0.05914\n",
      "epoch: 08, loss: -0.05921\n",
      "epoch: 09, loss: -0.05942\n",
      "torch.Size([400, 64])\n"
     ]
    },
    {
     "name": "stderr",
     "output_type": "stream",
     "text": [
      " 20%|██        | 202/1000 [1:05:43<4:17:11, 19.34s/it]"
     ]
    },
    {
     "name": "stdout",
     "output_type": "stream",
     "text": [
      "eigenvalues shape torch.Size([5]) eigenvectors shape torch.Size([5, 400])\n",
      "202 /home/phdcs2/Hard_Disk/Datasets/Deep-Spectral-Segmentation/data/object-segmentation/ECSSD/features/dino_vits16/0203.pth\n",
      "dict_keys(['k', 'indices', 'file', 'id', 'model_name', 'patch_size', 'shape'])\n",
      "0203\n",
      "Starting Training\n",
      "epoch: 00, loss: -0.00219\n",
      "epoch: 01, loss: -0.01477\n",
      "epoch: 02, loss: -0.01907\n",
      "epoch: 03, loss: -0.02077\n",
      "epoch: 04, loss: -0.02176\n",
      "epoch: 05, loss: -0.02227\n",
      "epoch: 06, loss: -0.02247\n",
      "epoch: 07, loss: -0.02274\n",
      "epoch: 08, loss: -0.02303\n",
      "epoch: 09, loss: -0.02305\n",
      "torch.Size([400, 64])\n"
     ]
    },
    {
     "name": "stderr",
     "output_type": "stream",
     "text": [
      " 20%|██        | 203/1000 [1:06:00<4:06:50, 18.58s/it]"
     ]
    },
    {
     "name": "stdout",
     "output_type": "stream",
     "text": [
      "eigenvalues shape torch.Size([5]) eigenvectors shape torch.Size([5, 400])\n",
      "203 /home/phdcs2/Hard_Disk/Datasets/Deep-Spectral-Segmentation/data/object-segmentation/ECSSD/features/dino_vits16/0204.pth\n",
      "dict_keys(['k', 'indices', 'file', 'id', 'model_name', 'patch_size', 'shape'])\n",
      "0204\n",
      "Starting Training\n",
      "epoch: 00, loss: -0.04092\n",
      "epoch: 01, loss: -0.06512\n",
      "epoch: 02, loss: -0.06616\n",
      "epoch: 03, loss: -0.06661\n",
      "epoch: 04, loss: -0.06673\n",
      "epoch: 05, loss: -0.06688\n",
      "epoch: 06, loss: -0.06695\n",
      "epoch: 07, loss: -0.06705\n",
      "epoch: 08, loss: -0.06724\n",
      "epoch: 09, loss: -0.06733\n",
      "torch.Size([450, 64])\n"
     ]
    },
    {
     "name": "stderr",
     "output_type": "stream",
     "text": [
      " 20%|██        | 204/1000 [1:06:21<4:17:20, 19.40s/it]"
     ]
    },
    {
     "name": "stdout",
     "output_type": "stream",
     "text": [
      "eigenvalues shape torch.Size([5]) eigenvectors shape torch.Size([5, 450])\n",
      "204 /home/phdcs2/Hard_Disk/Datasets/Deep-Spectral-Segmentation/data/object-segmentation/ECSSD/features/dino_vits16/0205.pth\n",
      "dict_keys(['k', 'indices', 'file', 'id', 'model_name', 'patch_size', 'shape'])\n",
      "0205\n",
      "Starting Training\n",
      "epoch: 00, loss: -0.02594\n",
      "epoch: 01, loss: -0.04851\n",
      "epoch: 02, loss: -0.04938\n",
      "epoch: 03, loss: -0.05347\n",
      "epoch: 04, loss: -0.05065\n",
      "epoch: 05, loss: -0.05322\n",
      "epoch: 06, loss: -0.05128\n",
      "epoch: 07, loss: -0.05395\n",
      "epoch: 08, loss: -0.05341\n",
      "epoch: 09, loss: -0.05356\n",
      "torch.Size([450, 64])\n"
     ]
    },
    {
     "name": "stderr",
     "output_type": "stream",
     "text": [
      "/home/phdcs2/Hard_Disk/Projects/T2I/deep-spectral-segmentation/venv/lib/python3.8/site-packages/scipy/sparse/linalg/_eigen/arpack/arpack.py:935: LinAlgWarning: Diagonal number 450 is exactly zero. Singular matrix.\n",
      "  self.M_lu = lu_factor(M)\n"
     ]
    },
    {
     "name": "stdout",
     "output_type": "stream",
     "text": [
      " ** On entry to SLASCL parameter number  4 had an illegal value\n",
      " ** On entry to SLASCL parameter number  4 had an illegal value\n"
     ]
    },
    {
     "name": "stderr",
     "output_type": "stream",
     "text": [
      " 20%|██        | 205/1000 [1:06:48<4:45:57, 21.58s/it]"
     ]
    },
    {
     "name": "stdout",
     "output_type": "stream",
     "text": [
      "eigenvalues shape torch.Size([5]) eigenvectors shape torch.Size([5, 450])\n",
      "205 /home/phdcs2/Hard_Disk/Datasets/Deep-Spectral-Segmentation/data/object-segmentation/ECSSD/features/dino_vits16/0206.pth\n",
      "dict_keys(['k', 'indices', 'file', 'id', 'model_name', 'patch_size', 'shape'])\n",
      "0206\n",
      "Starting Training\n",
      "epoch: 00, loss: -0.03522\n",
      "epoch: 01, loss: -0.06725\n",
      "epoch: 02, loss: -0.06852\n",
      "epoch: 03, loss: -0.06709\n",
      "epoch: 04, loss: -0.06955\n",
      "epoch: 05, loss: -0.07099\n",
      "epoch: 06, loss: -0.07103\n",
      "epoch: 07, loss: -0.07338\n",
      "epoch: 08, loss: -0.07382\n",
      "epoch: 09, loss: -0.07176\n",
      "torch.Size([400, 64])\n"
     ]
    },
    {
     "name": "stderr",
     "output_type": "stream",
     "text": [
      " 21%|██        | 206/1000 [1:07:07<4:33:07, 20.64s/it]"
     ]
    },
    {
     "name": "stdout",
     "output_type": "stream",
     "text": [
      "eigenvalues shape torch.Size([5]) eigenvectors shape torch.Size([5, 400])\n",
      "206 /home/phdcs2/Hard_Disk/Datasets/Deep-Spectral-Segmentation/data/object-segmentation/ECSSD/features/dino_vits16/0207.pth\n",
      "dict_keys(['k', 'indices', 'file', 'id', 'model_name', 'patch_size', 'shape'])\n",
      "0207\n",
      "Starting Training\n",
      "epoch: 00, loss: -0.06006\n",
      "epoch: 01, loss: -0.08328\n",
      "epoch: 02, loss: -0.08434\n",
      "epoch: 03, loss: -0.08469\n",
      "epoch: 04, loss: -0.08479\n",
      "epoch: 05, loss: -0.08533\n",
      "epoch: 06, loss: -0.08533\n",
      "epoch: 07, loss: -0.08536\n",
      "epoch: 08, loss: -0.08562\n",
      "epoch: 09, loss: -0.08552\n",
      "torch.Size([400, 64])\n"
     ]
    },
    {
     "name": "stderr",
     "output_type": "stream",
     "text": [
      " 21%|██        | 207/1000 [1:07:25<4:22:36, 19.87s/it]"
     ]
    },
    {
     "name": "stdout",
     "output_type": "stream",
     "text": [
      "eigenvalues shape torch.Size([5]) eigenvectors shape torch.Size([5, 400])\n",
      "207 /home/phdcs2/Hard_Disk/Datasets/Deep-Spectral-Segmentation/data/object-segmentation/ECSSD/features/dino_vits16/0208.pth\n",
      "dict_keys(['k', 'indices', 'file', 'id', 'model_name', 'patch_size', 'shape'])\n",
      "0208\n",
      "Starting Training\n",
      "epoch: 00, loss: -0.04621\n",
      "epoch: 01, loss: -0.07976\n",
      "epoch: 02, loss: -0.08470\n",
      "epoch: 03, loss: -0.08538\n",
      "epoch: 04, loss: -0.08584\n",
      "epoch: 05, loss: -0.08938\n",
      "epoch: 06, loss: -0.08900\n",
      "epoch: 07, loss: -0.08957\n",
      "epoch: 08, loss: -0.09073\n",
      "epoch: 09, loss: -0.09045\n",
      "torch.Size([450, 64])\n"
     ]
    },
    {
     "name": "stderr",
     "output_type": "stream",
     "text": [
      " 21%|██        | 208/1000 [1:07:43<4:17:31, 19.51s/it]"
     ]
    },
    {
     "name": "stdout",
     "output_type": "stream",
     "text": [
      "eigenvalues shape torch.Size([5]) eigenvectors shape torch.Size([5, 450])\n",
      "208 /home/phdcs2/Hard_Disk/Datasets/Deep-Spectral-Segmentation/data/object-segmentation/ECSSD/features/dino_vits16/0209.pth\n",
      "dict_keys(['k', 'indices', 'file', 'id', 'model_name', 'patch_size', 'shape'])\n",
      "0209\n",
      "Starting Training\n",
      "epoch: 00, loss: -0.04402\n",
      "epoch: 01, loss: -0.06393\n",
      "epoch: 02, loss: -0.06556\n",
      "epoch: 03, loss: -0.06528\n",
      "epoch: 04, loss: -0.06543\n",
      "epoch: 05, loss: -0.06568\n",
      "epoch: 06, loss: -0.06587\n",
      "epoch: 07, loss: -0.06607\n",
      "epoch: 08, loss: -0.06610\n",
      "epoch: 09, loss: -0.06617\n",
      "torch.Size([500, 64])\n"
     ]
    },
    {
     "name": "stderr",
     "output_type": "stream",
     "text": [
      " 21%|██        | 209/1000 [1:08:04<4:23:32, 19.99s/it]"
     ]
    },
    {
     "name": "stdout",
     "output_type": "stream",
     "text": [
      "eigenvalues shape torch.Size([5]) eigenvectors shape torch.Size([5, 500])\n",
      "209 /home/phdcs2/Hard_Disk/Datasets/Deep-Spectral-Segmentation/data/object-segmentation/ECSSD/features/dino_vits16/0210.pth\n",
      "dict_keys(['k', 'indices', 'file', 'id', 'model_name', 'patch_size', 'shape'])\n",
      "0210\n",
      "Starting Training\n",
      "epoch: 00, loss: -0.02490\n",
      "epoch: 01, loss: -0.04482\n",
      "epoch: 02, loss: -0.04499\n",
      "epoch: 03, loss: -0.04720\n",
      "epoch: 04, loss: -0.04639\n",
      "epoch: 05, loss: -0.04760\n",
      "epoch: 06, loss: -0.04654\n",
      "epoch: 07, loss: -0.04712\n",
      "epoch: 08, loss: -0.04751\n",
      "epoch: 09, loss: -0.04675\n",
      "torch.Size([425, 64])\n"
     ]
    },
    {
     "name": "stderr",
     "output_type": "stream",
     "text": [
      " 21%|██        | 210/1000 [1:08:21<4:10:22, 19.02s/it]"
     ]
    },
    {
     "name": "stdout",
     "output_type": "stream",
     "text": [
      "eigenvalues shape torch.Size([5]) eigenvectors shape torch.Size([5, 425])\n",
      "210 /home/phdcs2/Hard_Disk/Datasets/Deep-Spectral-Segmentation/data/object-segmentation/ECSSD/features/dino_vits16/0211.pth\n",
      "dict_keys(['k', 'indices', 'file', 'id', 'model_name', 'patch_size', 'shape'])\n",
      "0211\n",
      "Starting Training\n",
      "epoch: 00, loss: -0.09049\n",
      "epoch: 01, loss: -0.11562\n",
      "epoch: 02, loss: -0.11581\n",
      "epoch: 03, loss: -0.11628\n",
      "epoch: 04, loss: -0.11618\n",
      "epoch: 05, loss: -0.11665\n",
      "epoch: 06, loss: -0.11646\n",
      "epoch: 07, loss: -0.11661\n",
      "epoch: 08, loss: -0.11668\n",
      "epoch: 09, loss: -0.11701\n",
      "torch.Size([500, 64])\n"
     ]
    },
    {
     "name": "stderr",
     "output_type": "stream",
     "text": [
      " 21%|██        | 211/1000 [1:08:45<4:27:21, 20.33s/it]"
     ]
    },
    {
     "name": "stdout",
     "output_type": "stream",
     "text": [
      "eigenvalues shape torch.Size([5]) eigenvectors shape torch.Size([5, 500])\n",
      "211 /home/phdcs2/Hard_Disk/Datasets/Deep-Spectral-Segmentation/data/object-segmentation/ECSSD/features/dino_vits16/0212.pth\n",
      "dict_keys(['k', 'indices', 'file', 'id', 'model_name', 'patch_size', 'shape'])\n",
      "0212\n"
     ]
    }
   ],
   "source": [
    "pca_comp=64\n",
    "pca = PCA(n_components=pca_comp)\n",
    "utils.make_output_dir(output_dir)\n",
    "inputs = list(enumerate(sorted(Path(features_dir).iterdir())))\n",
    "for inp in tqdm(inputs):\n",
    "    index, features_file = inp\n",
    "    print(index, features_file)\n",
    "     # Load\n",
    "    data_dict = torch.load(features_file, map_location='cpu')\n",
    "    print(data_dict.keys())   #['k', 'indices', 'file', 'id', 'model_name', 'patch_size', 'shape']\n",
    "    # print(\"shape=\", data_dict['shape'], \"k shape\", data_dict['k'].shape, \"patch_size=\", data_dict['patch_size'])\n",
    "    image_id = data_dict['file'][:-4]\n",
    "    print(image_id)\n",
    "    # Load\n",
    "    output_file = str(Path(output_dir) / f'{image_id}.pth')\n",
    "    if Path(output_file).is_file():\n",
    "        print(f'Skipping existing file {str(output_file)}')\n",
    "        # break\n",
    "        # return  # skip because already generated\n",
    "\n",
    "    # Load affinity matrix\n",
    "    feats = data_dict[which_features].squeeze().cuda()\n",
    "    # print(\"Without normalizing, Features Shape is\",feats.shape)\n",
    "    if normalize:\n",
    "        feats = F.normalize(feats, p=2, dim=-1)\n",
    "    # print(\"After normalization, Features Shape\",feats.shape)\n",
    "    # print(\"which_matrix=\", which_matrix)\n",
    "    # Eigenvectors of affinity matrix\n",
    "    if which_matrix == 'affinity_torch':\n",
    "        W = feats @ feats.T\n",
    "        # W_feat=contrastive_affinity(feats, feats.T)\n",
    "        # print(\"W shape=\", W.shape)\n",
    "        if threshold_at_zero:\n",
    "            W = (W * (W > 0))\n",
    "            # print(\"W shape=\", W.shape)\n",
    "        eigenvalues, eigenvectors = torch.eig(W, eigenvectors=True)\n",
    "        eigenvalues = eigenvalues.cpu()\n",
    "        eigenvectors = eigenvectors.cpu()\n",
    "        print(\"which matrix=\",which_matrix, \"eigenvalues shape\", eigenvalues.shape, \"eigenvectors shape\", eigenvectors.shape)\n",
    "\n",
    "\n",
    "    # Eigenvectors of affinity matrix with scipy\n",
    "    elif which_matrix == 'affinity_svd':\n",
    "        USV = torch.linalg.svd(feats, full_matrices=False)\n",
    "        eigenvectors = USV[0][:, :K].T.to('cpu', non_blocking=True)\n",
    "        eigenvalues = USV[1][:K].to('cpu', non_blocking=True)\n",
    "        print(\"which matrix=\",which_matrix,\"eigenvalues shape\", eigenvalues.shape, \"eigenvectors shape\", eigenvectors.shape)\n",
    "\n",
    "    # Eigenvectors of affinity matrix with scipy\n",
    "    elif which_matrix == 'affinity':\n",
    "        # print(\"Without normalizing, Features Shape is\",feats.shape)\n",
    "        W = (feats @ feats.T)\n",
    "        # W_feat=contrastive_affinity(feats, feats.T)\n",
    "        # print(\"W shape=\", W.shape)\n",
    "        if threshold_at_zero:\n",
    "            W = (W * (W > 0))\n",
    "        W = W.cpu().numpy()\n",
    "        # print(\"W shape=\", W.shape)\n",
    "        eigenvalues, eigenvectors = eigsh(W, which='LM', k=K)\n",
    "        eigenvectors = torch.flip(torch.from_numpy(eigenvectors), dims=(-1,)).T\n",
    "        print(\"which matrix=\",which_matrix, \"eigenvalues shape\", eigenvalues.shape, \"eigenvectors shape\", eigenvectors.shape)\n",
    "\n",
    "    # Eigenvectors of matting laplacian matrix\n",
    "    elif which_matrix in ['matting_laplacian', 'laplacian']:\n",
    "\n",
    "        # Get sizes\n",
    "        B, C, H, W, P, H_patch, W_patch, H_pad, W_pad = utils.get_image_sizes(data_dict)\n",
    "        if image_downsample_factor is None:\n",
    "            image_downsample_factor = P\n",
    "        H_pad_lr, W_pad_lr = H_pad // image_downsample_factor, W_pad // image_downsample_factor\n",
    "\n",
    "        # Upscale features to match the resolution\n",
    "        if (H_patch, W_patch) != (H_pad_lr, W_pad_lr):\n",
    "            feats = F.interpolate(\n",
    "                feats.T.reshape(1, -1, H_patch, W_patch),\n",
    "                size=(H_pad_lr, W_pad_lr), mode='bilinear', align_corners=False\n",
    "            ).reshape(-1, H_pad_lr * W_pad_lr).T\n",
    "\n",
    "        ### Feature affinities\n",
    "        # print(\"Without normalizing, Features Shape is\",feats.shape)\n",
    "\n",
    "        W_feat_ds = (feats @ feats.T)\n",
    "        # max_wfeatds=torch.max(W_feat_ds).item()\n",
    "        # alpha=3\n",
    "        # W_feat_ds = W_feat_ds - (max_wfeatds / alpha)\n",
    "        layer=nn.Linear(pca_comp,pca_comp).cuda()\n",
    "        x0=feats\n",
    "        x0_arr=x0.cpu()\n",
    "        # print(x0_arr.shape)\n",
    "        z0_arr= pca.fit_transform(x0_arr)\n",
    "\n",
    "        # Define the affine transformation parameters\n",
    "        scale = np.random.uniform(0.8, 1.2)  # Random scaling factor between 0.8 and 1.2\n",
    "        translation = np.random.uniform(-10, 10, size=2)  # Random translation vector between -10 and 10 in both directions\n",
    "        rotation = np.random.uniform(-15, 15)  # Random rotation angle between -15 and 15 degrees\n",
    "        shear = np.random.uniform(-0.2, 0.2, size=2)  # Random shear factor between -0.2 and 0.2 in both directions\n",
    "\n",
    "        # Define the affine matrix\n",
    "        affine_matrix = np.array([[scale * np.cos(rotation), -shear[0] * scale * np.sin(rotation), translation[0]],\n",
    "                                  [shear[1] * scale * np.sin(rotation), scale * np.cos(rotation), translation[1]],\n",
    "                                  [0, 0, 1]])\n",
    "        z1_arr=affine_transform(z0_arr, affine_matrix)\n",
    "#         z1_arr=pca.fit_transform(z1_arr)\n",
    "        z0 = torch.from_numpy(z0_arr).float()\n",
    "        z1 = torch.from_numpy(z1_arr).float()\n",
    "\n",
    "        # feat_list.append(feats)\n",
    "        feat_dataset_z0 = Feature_Dataset(z0)\n",
    "        if feats.shape[0]%2==0:\n",
    "            features_dataloader_z0 = DataLoader(feat_dataset_z0, batch_size=batch_size, shuffle=True)\n",
    "        else:\n",
    "            features_dataloader_z0 = DataLoader(feat_dataset_z0, batch_size=batch_size, shuffle=True, drop_last=True)\n",
    "\n",
    "        feat_dataset_z1 = Feature_Dataset(z1)\n",
    "        if feats.shape[0]%2==0:\n",
    "            features_dataloader_z1 = DataLoader(feat_dataset_z1, batch_size=batch_size, shuffle=True)\n",
    "        else:\n",
    "            features_dataloader_z1 = DataLoader(feat_dataset_z1, batch_size=batch_size, shuffle=True, drop_last=True)\n",
    "        device = \"cuda\" if torch.cuda.is_available() else \"cpu\"\n",
    "    \n",
    "        criterion = NegativeCosineSimilarity()\n",
    "        optimizer = torch.optim.SGD(layer.parameters(), lr=0.06)\n",
    "        print(\"Starting Training\")\n",
    "        for epoch in range(epochs):\n",
    "            total_loss = 0\n",
    "            for z0_new,z1_new in zip(features_dataloader_z0,features_dataloader_z1):\n",
    "                z0_new = z0_new.to(device)\n",
    "                z1_new = z1_new.to(device)\n",
    "    #             print(\"z0_new.shape\", z0_new.shape)\n",
    "    #             print(\"z1_new.shape\", z1_new.shape)\n",
    "                p0=layer(z0_new)\n",
    "                p1=layer(z1_new)\n",
    "    #             print(\"p0.shape\", p0.shape)\n",
    "    #             print(\"p1.shape\", p1.shape)\n",
    "                loss = 0.5 * (criterion(z0_new, p1) + criterion(z1_new, p0))\n",
    "                total_loss += loss.detach()\n",
    "                loss.backward()\n",
    "                optimizer.step()\n",
    "                optimizer.zero_grad()\n",
    "            avg_loss = total_loss / len(features_dataloader_z0)\n",
    "            print(f\"epoch: {epoch:>02}, loss: {avg_loss:.5f}\")\n",
    "        projected_feature=layer(z0.to(device))\n",
    "        print(projected_feature.shape)\n",
    "        W_feat_siam=torch.matmul(projected_feature, projected_feature.t())\n",
    "        max_wfeatsiam=torch.max(W_feat_siam).item()\n",
    "        alpha=3\n",
    "        W_feat_siam = W_feat_siam - (max_wfeatsiam / alpha)\n",
    "        # W_feat_siam=torch.matmul(projected_feature[0], projected_feature[0].t())\n",
    "        W_feat=W_feat_ds + 0.1*W_feat_siam\n",
    "#         W_feat=normalize_affinity_matrix(W_feat_unnorm, axis=1)\n",
    "        # print(\"W_feat.shape=\", W_feat.shape)\n",
    "        # print(\"W_feat.shape=\", W_feat.shape)\n",
    "        # W_feat=contrastive_affinity(feats, feats.T)\n",
    "        if threshold_at_zero:\n",
    "            W_feat = (W_feat * (W_feat > 0))\n",
    "        W_feat = W_feat / W_feat.max()  # NOTE: If features are normalized, this naturally does nothing\n",
    "        # W_feat = W_feat.cpu().numpy()\n",
    "        W_feat = W_feat.detach().cpu().numpy()\n",
    "        # print(\"W_feat shape=\",W_feat.shape)\n",
    "\n",
    "        ### Color affinities\n",
    "        # If we are fusing with color affinites, then load the image and compute\n",
    "        if image_color_lambda > 0:\n",
    "\n",
    "            # Load image\n",
    "            image_file = str(Path(images_root) / f'{image_id}.jpg')\n",
    "            image_lr = Image.open(image_file).resize((W_pad_lr, H_pad_lr), Image.BILINEAR)\n",
    "            image_lr = np.array(image_lr) / 255.\n",
    "\n",
    "            # Color affinities (of type scipy.sparse.csr_matrix)\n",
    "            if which_color_matrix == 'knn':\n",
    "                W_lr = utils.knn_affinity(image_lr / 255)\n",
    "            elif which_color_matrix == 'rw':\n",
    "                W_lr = utils.rw_affinity(image_lr / 255)\n",
    "\n",
    "            # Convert to dense numpy array\n",
    "            W_color = np.array(W_lr.todense().astype(np.float32))\n",
    "            # print(\"W_color shape\", W_color.shape)\n",
    "\n",
    "        else:\n",
    "\n",
    "            # No color affinity\n",
    "            W_color = 0\n",
    "\n",
    "        # Combine\n",
    "        W_comb = W_feat + W_color * image_color_lambda  # combination\n",
    "        D_comb = np.array(utils.get_diagonal(W_comb).todense())  # is dense or sparse faster? not sure, should check\n",
    "        # print(\"W_comb shape= \", W_comb.shape, \"D_comb shape\",  D_comb.shape)\n",
    "        if lapnorm:\n",
    "            try:\n",
    "                eigenvalues, eigenvectors = eigsh(D_comb - W_comb, k=K, sigma=0, which='LM', M=D_comb)\n",
    "            except:\n",
    "                eigenvalues, eigenvectors = eigsh(D_comb - W_comb, k=K, which='SM', M=D_comb)\n",
    "        else:\n",
    "            try:\n",
    "                eigenvalues, eigenvectors = eigsh(D_comb - W_comb, k=K, sigma=0, which='LM')\n",
    "            except:\n",
    "                eigenvalues, eigenvectors = eigsh(D_comb - W_comb, k=K, which='SM')\n",
    "        eigenvalues, eigenvectors = torch.from_numpy(eigenvalues), torch.from_numpy(eigenvectors.T).float()\n",
    "    print(\"eigenvalues shape\", eigenvalues.shape, \"eigenvectors shape\", eigenvectors.shape)\n",
    "    # Sign ambiguity\n",
    "    for k in range(eigenvectors.shape[0]):\n",
    "        if 0.5 < torch.mean((eigenvectors[k] > 0).float()).item() < 1.0:  # reverse segment\n",
    "            eigenvectors[k] = 0 - eigenvectors[k]\n",
    "\n",
    "    # Save dict\n",
    "    output_dict = {'eigenvalues': eigenvalues, 'eigenvectors': eigenvectors}\n",
    "    torch.save(output_dict, output_file)"
   ]
  }
 ],
 "metadata": {
  "kernelspec": {
   "display_name": "Python 3 (ipykernel)",
   "language": "python",
   "name": "python3"
  },
  "language_info": {
   "codemirror_mode": {
    "name": "ipython",
    "version": 3
   },
   "file_extension": ".py",
   "mimetype": "text/x-python",
   "name": "python",
   "nbconvert_exporter": "python",
   "pygments_lexer": "ipython3",
   "version": "3.8.10"
  }
 },
 "nbformat": 4,
 "nbformat_minor": 1
}
