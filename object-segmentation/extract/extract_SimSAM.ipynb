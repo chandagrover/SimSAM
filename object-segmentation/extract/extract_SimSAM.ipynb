{
 "cells": [
  {
   "cell_type": "code",
   "execution_count": 1,
   "metadata": {
    "pycharm": {
     "name": "#%%\n"
    }
   },
   "outputs": [],
   "source": [
    "# from functools import partial\n",
    "from pathlib import Path\n",
    "# from typing import Optional, Tuple\n",
    "# import cv2\n",
    "# import fire\n",
    "import numpy as np\n",
    "import torch\n",
    "import torch.nn.functional as F\n",
    "from accelerate import Accelerator\n",
    "from PIL import Image\n",
    "from scipy.sparse.linalg import eigsh\n",
    "# from sklearn.cluster import KMeans, MiniBatchKMeans\n",
    "from sklearn.decomposition import PCA\n",
    "# from torchvision.utils import draw_bounding_boxes\n",
    "from tqdm import tqdm\n",
    "# import extract_utils_dinov2 as utils\n",
    "import extract_utils as utils\n",
    "from torch.utils.data import Dataset, DataLoader\n",
    "from lightly.loss import NegativeCosineSimilarity\n",
    "from lightly.models.modules import SimSiamPredictionHead, SimSiamProjectionHead\n",
    "from torch import nn\n",
    "import torchvision\n",
    "from scipy.ndimage import affine_transform"
   ]
  },
  {
   "cell_type": "markdown",
   "metadata": {
    "pycharm": {
     "name": "#%% md\n"
    }
   },
   "source": [
    "## Extract Eigen Vectors"
   ]
  },
  {
   "cell_type": "code",
   "execution_count": 2,
   "metadata": {
    "pycharm": {
     "name": "#%%\n"
    }
   },
   "outputs": [],
   "source": [
    "images_root=\"/home/phdcs2/Hard_Disk/Datasets/Deep-Spectral-Segmentation/data/object-segmentation/ECSSD/images\"\n",
    "# features_dir=\"/home/phdcs2/Hard_Disk/Datasets/Deep-Spectral-Segmentation/data/object-segmentation/ECSSD_1/features/dino_vits16\"\n",
    "features_dir=\"/home/phdcs2/Hard_Disk/Datasets/Deep-Spectral-Segmentation/data/object-segmentation/ECSSD/features/\"\n",
    "# features_dir=\"/home/phdcs2/Hard_Disk/Datasets/Deep-Spectral-Segmentation/data/object-segmentation/ECSSD/features_dinov2/\"\n",
    "# output_dir=\"/home/phdcs2/Hard_Disk/Datasets/Deep-Spectral-Segmentation/data/object-segmentation/ECSSD/eigs_dot1PCA64linearpredlinear_dssubmax_pred2_encoder_elu_corr2_dinov2_vitg14\"\n",
    "output_dir=\"/home/phdcs2/Hard_Disk/Datasets/Deep-Spectral-Segmentation/data/object-segmentation/ECSSD/eigs_dot1linearpredlinear_dssubmax_pred2_encoder_elu2_ECSSD2\""
   ]
  },
  {
   "cell_type": "code",
   "execution_count": null,
   "metadata": {
    "pycharm": {
     "name": "#%%\n"
    }
   },
   "outputs": [],
   "source": []
  },
  {
   "cell_type": "code",
   "execution_count": 3,
   "metadata": {
    "pycharm": {
     "name": "#%%\n"
    }
   },
   "outputs": [],
   "source": [
    "# images_root=\"/home/phdcs2/Hard_Disk/Datasets/Deep-Spectral-Segmentation/data/VOC2012_10/images/trainval/JPEGImages\"\n",
    "# # features_dir=\"/home/phdcs2/Hard_Disk/Datasets/Deep-Spectral-Segmentation/data/object-segmentation/ECSSD_1/features/dino_vits16\"\n",
    "# # features_dir=\"/home/phdcs2/Hard_Disk/Datasets/Deep-Spectral-Segmentation/data/object-segmentation/ECSSD/features/\"\n",
    "# features_dir=\"/home/phdcs2/Hard_Disk/Datasets/Deep-Spectral-Segmentation/data/VOC2012_10/features/dino_vits16\"\n",
    "# output_dir=\"/home/phdcs2/Hard_Disk/Datasets/Deep-Spectral-Segmentation/data/VOC2012_10/eigs_ours_model\""
   ]
  },
  {
   "cell_type": "code",
   "execution_count": 4,
   "metadata": {
    "pycharm": {
     "name": "#%%\n"
    }
   },
   "outputs": [],
   "source": [
    "# images_root=\"/home/phdcs2/Hard_Disk/Datasets/Deep-Spectral-Segmentation/data/VOC2012/images/trainval/JPEGImages\"\n",
    "# # features_dir=\"/home/phdcs2/Hard_Disk/Datasets/Deep-Spectral-Segmentation/data/object-segmentation/ECSSD_1/features/dino_vits16\"\n",
    "# # features_dir=\"/home/phdcs2/Hard_Disk/Datasets/Deep-Spectral-Segmentation/data/object-segmentation/ECSSD/features/\"\n",
    "# features_dir=\"/home/phdcs2/Hard_Disk/Datasets/Deep-Spectral-Segmentation/data/VOC2012/2012/features/dino_vits16\"\n",
    "# output_dir=\"/home/phdcs2/Hard_Disk/Datasets/Deep-Spectral-Segmentation/data/VOC2012/2012/eigs_ours_model\""
   ]
  },
  {
   "cell_type": "code",
   "execution_count": 5,
   "metadata": {
    "pycharm": {
     "name": "#%%\n"
    }
   },
   "outputs": [],
   "source": [
    "# images_root=\"/home/phdcs2/Hard_Disk/Datasets/Deep-Spectral-Segmentation/data/VOC2012/images/test/JPEGImages\"\n",
    "# # features_dir=\"/home/phdcs2/Hard_Disk/Datasets/Deep-Spectral-Segmentation/data/object-segmentation/ECSSD_1/features/dino_vits16\"\n",
    "# # features_dir=\"/home/phdcs2/Hard_Disk/Datasets/Deep-Spectral-Segmentation/data/object-segmentation/ECSSD/features/\"\n",
    "# features_dir=\"/home/phdcs2/Hard_Disk/Datasets/Deep-Spectral-Segmentation/data/VOC2012/images/test/features/dino_vits16\"\n",
    "# output_dir=\"/home/phdcs2/Hard_Disk/Datasets/Deep-Spectral-Segmentation/data/VOC2012/images/test/eigs_test_ours_model/laplacian\""
   ]
  },
  {
   "cell_type": "code",
   "execution_count": 6,
   "metadata": {
    "pycharm": {
     "name": "#%%\n"
    }
   },
   "outputs": [],
   "source": [
    "# images_root=\"/home/phdcs2/Hard_Disk/Datasets/Deep-Spectral-Segmentation/data/VOC2012/images/trainval/JPEGImages\"\n",
    "# # features_dir=\"/home/phdcs2/Hard_Disk/Datasets/Deep-Spectral-Segmentation/data/object-segmentation/ECSSD_1/features/dino_vits16\"\n",
    "# features_dir=\"/home/phdcs2/Hard_Disk/Datasets/Deep-Spectral-Segmentation/data/VOC2012/features/dino_vits16\"\n",
    "# output_dir=\"/home/phdcs2/Hard_Disk/Datasets/Deep-Spectral-Segmentation/data/VOC2012/eigs_test/laplacian\"\n",
    "which_matrix= 'laplacian'\n",
    "which_color_matrix= 'knn'\n",
    "which_features= 'k'\n",
    "normalize=True\n",
    "threshold_at_zero=True\n",
    "lapnorm= True\n",
    "K=15\n",
    "image_downsample_factor = None\n",
    "image_color_lambda = 0.0\n",
    "multiprocessing = 0\n",
    "batch_size=2\n",
    "epochs=10"
   ]
  },
  {
   "cell_type": "markdown",
   "metadata": {
    "pycharm": {
     "name": "#%% md\n"
    }
   },
   "source": [
    "## Incorporating SimSiam"
   ]
  },
  {
   "cell_type": "code",
   "execution_count": 7,
   "metadata": {
    "pycharm": {
     "name": "#%%\n"
    }
   },
   "outputs": [],
   "source": [
    "# Define a custom dataset class\n",
    "class Feature_Dataset(Dataset):\n",
    "    def __init__(self, features):\n",
    "        self.features = features\n",
    "\n",
    "    def __getitem__(self, index):\n",
    "        return self.features[index]\n",
    "\n",
    "    def __len__(self):\n",
    "        return len(self.features)"
   ]
  },
  {
   "cell_type": "code",
   "execution_count": 8,
   "metadata": {
    "pycharm": {
     "name": "#%%\n"
    }
   },
   "outputs": [],
   "source": [
    "# class SimSiam(nn.Module):\n",
    "#     def __init__(self):\n",
    "#         super().__init__()\n",
    "#         self.projection_head = SimSiamProjectionHead(feats.shape[1], 128,feats.shape[1])\n",
    "#         self.prediction_head = SimSiamPredictionHead(feats.shape[1], 128, feats.shape[1])\n",
    "#\n",
    "#     def forward(self, x):\n",
    "#         z = self.projection_head(x)\n",
    "#         p = self.prediction_head(z)\n",
    "#         z = z.detach()\n",
    "#         return z, p"
   ]
  },
  {
   "cell_type": "code",
   "execution_count": 9,
   "metadata": {
    "pycharm": {
     "name": "#%%\n"
    }
   },
   "outputs": [],
   "source": [
    "# def normalize_affinity_matrix(affinity_matrix, axis=0):\n",
    "#     if axis == 1:\n",
    "#         # Normalize by row-wise sums\n",
    "#         row_sums = torch.sum(affinity_matrix, dim=1, keepdim=True)\n",
    "#         print(row_sums)\n",
    "#         normalized_matrix = affinity_matrix / row_sums\n",
    "#     elif axis == 0:\n",
    "#         # Normalize by column-wise sums\n",
    "#         col_sums = torch.sum(affinity_matrix, dim=0, keepdim=True)\n",
    "#         normalized_matrix = affinity_matrix / col_sums\n",
    "#     else:\n",
    "#         raise ValueError(\"Invalid axis. Axis must be either 0 or 1.\")\n",
    "\n",
    "#     return normalized_matrix"
   ]
  },
  {
   "cell_type": "code",
   "execution_count": 10,
   "metadata": {
    "pycharm": {
     "name": "#%%\n"
    },
    "scrolled": true
   },
   "outputs": [
    {
     "name": "stderr",
     "output_type": "stream",
     "text": [
      "\r",
      "  0%|                                                                                                                                                                                      | 0/999 [00:00<?, ?it/s]"
     ]
    },
    {
     "name": "stdout",
     "output_type": "stream",
     "text": [
      "0 /home/phdcs2/Hard_Disk/Datasets/Deep-Spectral-Segmentation/data/object-segmentation/ECSSD/features/0001_resized.pth\n",
      "dict_keys(['k', 'indices', 'file', 'id', 'model_name', 'patch_size', 'shape'])\n",
      "0001_resized\n",
      "shape of w_feat_ds torch.Size([1024, 1024])\n",
      "z shape: torch.Size([1024, 384]) (1024, 384)\n",
      "Starting Training\n",
      "epoch: 00, loss: -0.91259\n",
      "epoch: 01, loss: -0.94205\n",
      "epoch: 02, loss: -0.94471\n",
      "epoch: 03, loss: -0.94487\n",
      "epoch: 04, loss: -0.94646\n",
      "epoch: 05, loss: -0.94776\n",
      "epoch: 06, loss: -0.94990\n",
      "epoch: 07, loss: -0.95239\n",
      "epoch: 08, loss: -0.95388\n",
      "epoch: 09, loss: -0.95564\n",
      "torch.Size([1024, 384])\n",
      "W_feat shape= (1024, 1024)\n"
     ]
    },
    {
     "name": "stderr",
     "output_type": "stream",
     "text": [
      "\r",
      "  0%|▏                                                                                                                                                                          | 1/999 [01:27<24:23:39, 88.00s/it]"
     ]
    },
    {
     "name": "stdout",
     "output_type": "stream",
     "text": [
      "eigenvalues shape torch.Size([15]) eigenvectors shape torch.Size([15, 1024])\n",
      "1 /home/phdcs2/Hard_Disk/Datasets/Deep-Spectral-Segmentation/data/object-segmentation/ECSSD/features/0002_resized.pth\n",
      "dict_keys(['k', 'indices', 'file', 'id', 'model_name', 'patch_size', 'shape'])\n",
      "0002_resized\n",
      "shape of w_feat_ds torch.Size([1024, 1024])\n",
      "z shape: torch.Size([1024, 384]) (1024, 384)\n",
      "Starting Training\n",
      "epoch: 00, loss: -0.91112\n",
      "epoch: 01, loss: -0.94093\n",
      "epoch: 02, loss: -0.94280\n",
      "epoch: 03, loss: -0.94201\n",
      "epoch: 04, loss: -0.94270\n",
      "epoch: 05, loss: -0.94659\n",
      "epoch: 06, loss: -0.95044\n",
      "epoch: 07, loss: -0.95350\n",
      "epoch: 08, loss: -0.95592\n",
      "epoch: 09, loss: -0.95775\n",
      "torch.Size([1024, 384])\n",
      "W_feat shape= (1024, 1024)\n"
     ]
    },
    {
     "name": "stderr",
     "output_type": "stream",
     "text": [
      "\r",
      "  0%|▎                                                                                                                                                                          | 2/999 [02:26<19:30:42, 70.45s/it]"
     ]
    },
    {
     "name": "stdout",
     "output_type": "stream",
     "text": [
      "eigenvalues shape torch.Size([15]) eigenvectors shape torch.Size([15, 1024])\n",
      "2 /home/phdcs2/Hard_Disk/Datasets/Deep-Spectral-Segmentation/data/object-segmentation/ECSSD/features/0003_resized.pth\n",
      "dict_keys(['k', 'indices', 'file', 'id', 'model_name', 'patch_size', 'shape'])\n",
      "0003_resized\n",
      "shape of w_feat_ds torch.Size([1024, 1024])\n",
      "z shape: torch.Size([1024, 384]) (1024, 384)\n",
      "Starting Training\n",
      "epoch: 00, loss: -0.83467\n",
      "epoch: 01, loss: -0.89786\n",
      "epoch: 02, loss: -0.91206\n",
      "epoch: 03, loss: -0.91847\n",
      "epoch: 04, loss: -0.92120\n",
      "epoch: 05, loss: -0.92279\n",
      "epoch: 06, loss: -0.92334\n",
      "epoch: 07, loss: -0.92493\n",
      "epoch: 08, loss: -0.92486\n",
      "epoch: 09, loss: -0.92507\n",
      "torch.Size([1024, 384])\n",
      "W_feat shape= (1024, 1024)\n"
     ]
    },
    {
     "name": "stderr",
     "output_type": "stream",
     "text": [
      "\r",
      "  0%|▌                                                                                                                                                                          | 3/999 [03:36<19:25:45, 70.23s/it]"
     ]
    },
    {
     "name": "stdout",
     "output_type": "stream",
     "text": [
      "eigenvalues shape torch.Size([15]) eigenvectors shape torch.Size([15, 1024])\n",
      "3 /home/phdcs2/Hard_Disk/Datasets/Deep-Spectral-Segmentation/data/object-segmentation/ECSSD/features/0004_resized.pth\n",
      "dict_keys(['k', 'indices', 'file', 'id', 'model_name', 'patch_size', 'shape'])\n",
      "0004_resized\n",
      "shape of w_feat_ds torch.Size([1024, 1024])\n",
      "z shape: torch.Size([1024, 384]) (1024, 384)\n",
      "Starting Training\n",
      "epoch: 00, loss: -0.84332\n",
      "epoch: 01, loss: -0.90161\n",
      "epoch: 02, loss: -0.91417\n",
      "epoch: 03, loss: -0.91980\n",
      "epoch: 04, loss: -0.92254\n",
      "epoch: 05, loss: -0.92233\n",
      "epoch: 06, loss: -0.92104\n",
      "epoch: 07, loss: -0.92132\n",
      "epoch: 08, loss: -0.91946\n",
      "epoch: 09, loss: -0.92008\n",
      "torch.Size([1024, 384])\n",
      "W_feat shape= (1024, 1024)\n"
     ]
    },
    {
     "name": "stderr",
     "output_type": "stream",
     "text": [
      "\r",
      "  0%|▋                                                                                                                                                                          | 4/999 [04:29<17:34:13, 63.57s/it]"
     ]
    },
    {
     "name": "stdout",
     "output_type": "stream",
     "text": [
      "eigenvalues shape torch.Size([15]) eigenvectors shape torch.Size([15, 1024])\n",
      "4 /home/phdcs2/Hard_Disk/Datasets/Deep-Spectral-Segmentation/data/object-segmentation/ECSSD/features/0005_resized.pth\n",
      "dict_keys(['k', 'indices', 'file', 'id', 'model_name', 'patch_size', 'shape'])\n",
      "0005_resized\n",
      "shape of w_feat_ds torch.Size([1024, 1024])\n",
      "z shape: torch.Size([1024, 384]) (1024, 384)\n",
      "Starting Training\n",
      "epoch: 00, loss: -0.84645\n",
      "epoch: 01, loss: -0.90393\n",
      "epoch: 02, loss: -0.91676\n",
      "epoch: 03, loss: -0.92224\n",
      "epoch: 04, loss: -0.92502\n",
      "epoch: 05, loss: -0.92672\n",
      "epoch: 06, loss: -0.92780\n",
      "epoch: 07, loss: -0.92862\n",
      "epoch: 08, loss: -0.92922\n",
      "epoch: 09, loss: -0.93011\n",
      "torch.Size([1024, 384])\n",
      "W_feat shape= (1024, 1024)\n"
     ]
    },
    {
     "name": "stderr",
     "output_type": "stream",
     "text": [
      "\r",
      "  1%|▊                                                                                                                                                                          | 5/999 [05:34<17:41:59, 64.10s/it]"
     ]
    },
    {
     "name": "stdout",
     "output_type": "stream",
     "text": [
      "eigenvalues shape torch.Size([15]) eigenvectors shape torch.Size([15, 1024])\n",
      "5 /home/phdcs2/Hard_Disk/Datasets/Deep-Spectral-Segmentation/data/object-segmentation/ECSSD/features/0006_resized.pth\n",
      "dict_keys(['k', 'indices', 'file', 'id', 'model_name', 'patch_size', 'shape'])\n",
      "0006_resized\n",
      "shape of w_feat_ds torch.Size([1024, 1024])\n",
      "z shape: torch.Size([1024, 384]) (1024, 384)\n",
      "Starting Training\n",
      "epoch: 00, loss: -0.83788\n",
      "epoch: 01, loss: -0.90094\n",
      "epoch: 02, loss: -0.91642\n",
      "epoch: 03, loss: -0.92406\n",
      "epoch: 04, loss: -0.92806\n",
      "epoch: 05, loss: -0.93141\n",
      "epoch: 06, loss: -0.93312\n",
      "epoch: 07, loss: -0.93550\n",
      "epoch: 08, loss: -0.93531\n",
      "epoch: 09, loss: -0.93659\n",
      "torch.Size([1024, 384])\n",
      "W_feat shape= (1024, 1024)\n"
     ]
    },
    {
     "name": "stderr",
     "output_type": "stream",
     "text": [
      "\r",
      "  1%|█                                                                                                                                                                          | 6/999 [06:46<18:24:39, 66.75s/it]"
     ]
    },
    {
     "name": "stdout",
     "output_type": "stream",
     "text": [
      "eigenvalues shape torch.Size([15]) eigenvectors shape torch.Size([15, 1024])\n",
      "6 /home/phdcs2/Hard_Disk/Datasets/Deep-Spectral-Segmentation/data/object-segmentation/ECSSD/features/0007_resized.pth\n",
      "dict_keys(['k', 'indices', 'file', 'id', 'model_name', 'patch_size', 'shape'])\n",
      "0007_resized\n",
      "shape of w_feat_ds torch.Size([1024, 1024])\n",
      "z shape: torch.Size([1024, 384]) (1024, 384)\n",
      "Starting Training\n",
      "epoch: 00, loss: -0.90700\n",
      "epoch: 01, loss: -0.93835\n",
      "epoch: 02, loss: -0.94270\n",
      "epoch: 03, loss: -0.94562\n",
      "epoch: 04, loss: -0.94533\n",
      "epoch: 05, loss: -0.94554\n",
      "epoch: 06, loss: -0.94500\n",
      "epoch: 07, loss: -0.94399\n",
      "epoch: 08, loss: -0.94394\n",
      "epoch: 09, loss: -0.94433\n",
      "torch.Size([1024, 384])\n",
      "W_feat shape= (1024, 1024)\n"
     ]
    },
    {
     "name": "stderr",
     "output_type": "stream",
     "text": [
      "\r",
      "  1%|█▏                                                                                                                                                                         | 7/999 [07:58<18:52:10, 68.48s/it]"
     ]
    },
    {
     "name": "stdout",
     "output_type": "stream",
     "text": [
      "eigenvalues shape torch.Size([15]) eigenvectors shape torch.Size([15, 1024])\n",
      "7 /home/phdcs2/Hard_Disk/Datasets/Deep-Spectral-Segmentation/data/object-segmentation/ECSSD/features/0008_resized.pth\n",
      "dict_keys(['k', 'indices', 'file', 'id', 'model_name', 'patch_size', 'shape'])\n",
      "0008_resized\n",
      "shape of w_feat_ds torch.Size([1024, 1024])\n",
      "z shape: torch.Size([1024, 384]) (1024, 384)\n",
      "Starting Training\n",
      "epoch: 00, loss: -0.89120\n",
      "epoch: 01, loss: -0.93409\n",
      "epoch: 02, loss: -0.94361\n",
      "epoch: 03, loss: -0.94885\n",
      "epoch: 04, loss: -0.95203\n",
      "epoch: 05, loss: -0.95386\n",
      "epoch: 06, loss: -0.95488\n",
      "epoch: 07, loss: -0.95580\n",
      "epoch: 08, loss: -0.95627\n",
      "epoch: 09, loss: -0.95638\n",
      "torch.Size([1024, 384])\n",
      "W_feat shape= (1024, 1024)\n"
     ]
    },
    {
     "name": "stderr",
     "output_type": "stream",
     "text": [
      "\r",
      "  1%|█▎                                                                                                                                                                         | 8/999 [08:57<18:02:50, 65.56s/it]"
     ]
    },
    {
     "name": "stdout",
     "output_type": "stream",
     "text": [
      "eigenvalues shape torch.Size([15]) eigenvectors shape torch.Size([15, 1024])\n",
      "8 /home/phdcs2/Hard_Disk/Datasets/Deep-Spectral-Segmentation/data/object-segmentation/ECSSD/features/0009_resized.pth\n",
      "dict_keys(['k', 'indices', 'file', 'id', 'model_name', 'patch_size', 'shape'])\n",
      "0009_resized\n",
      "shape of w_feat_ds torch.Size([1024, 1024])\n",
      "z shape: torch.Size([1024, 384]) (1024, 384)\n",
      "Starting Training\n",
      "epoch: 00, loss: -0.90834\n",
      "epoch: 01, loss: -0.94280\n",
      "epoch: 02, loss: -0.94885\n",
      "epoch: 03, loss: -0.95153\n",
      "epoch: 04, loss: -0.95216\n",
      "epoch: 05, loss: -0.95182\n",
      "epoch: 06, loss: -0.95141\n",
      "epoch: 07, loss: -0.95038\n",
      "epoch: 08, loss: -0.95005\n",
      "epoch: 09, loss: -0.95064\n",
      "torch.Size([1024, 384])\n",
      "W_feat shape= (1024, 1024)\n"
     ]
    },
    {
     "name": "stderr",
     "output_type": "stream",
     "text": [
      "\r",
      "  1%|█▌                                                                                                                                                                         | 9/999 [10:07<18:24:39, 66.95s/it]"
     ]
    },
    {
     "name": "stdout",
     "output_type": "stream",
     "text": [
      "eigenvalues shape torch.Size([15]) eigenvectors shape torch.Size([15, 1024])\n",
      "9 /home/phdcs2/Hard_Disk/Datasets/Deep-Spectral-Segmentation/data/object-segmentation/ECSSD/features/0010_resized.pth\n",
      "dict_keys(['k', 'indices', 'file', 'id', 'model_name', 'patch_size', 'shape'])\n",
      "0010_resized\n",
      "shape of w_feat_ds torch.Size([1024, 1024])\n",
      "z shape: torch.Size([1024, 384]) (1024, 384)\n",
      "Starting Training\n",
      "epoch: 00, loss: -0.92189\n",
      "epoch: 01, loss: -0.94458\n",
      "epoch: 02, loss: -0.94777\n",
      "epoch: 03, loss: -0.95409\n",
      "epoch: 04, loss: -0.95877\n",
      "epoch: 05, loss: -0.96166\n",
      "epoch: 06, loss: -0.96401\n",
      "epoch: 07, loss: -0.96555\n",
      "epoch: 08, loss: -0.96690\n",
      "epoch: 09, loss: -0.96797\n",
      "torch.Size([1024, 384])\n",
      "W_feat shape= (1024, 1024)\n"
     ]
    },
    {
     "name": "stderr",
     "output_type": "stream",
     "text": [
      "\r",
      "  1%|█▋                                                                                                                                                                        | 10/999 [11:14<18:20:54, 66.79s/it]"
     ]
    },
    {
     "name": "stdout",
     "output_type": "stream",
     "text": [
      "eigenvalues shape torch.Size([15]) eigenvectors shape torch.Size([15, 1024])\n",
      "10 /home/phdcs2/Hard_Disk/Datasets/Deep-Spectral-Segmentation/data/object-segmentation/ECSSD/features/0011_resized.pth\n",
      "dict_keys(['k', 'indices', 'file', 'id', 'model_name', 'patch_size', 'shape'])\n",
      "0011_resized\n",
      "shape of w_feat_ds torch.Size([1024, 1024])\n",
      "z shape: torch.Size([1024, 384]) (1024, 384)\n",
      "Starting Training\n",
      "epoch: 00, loss: -0.85620\n",
      "epoch: 01, loss: -0.88406\n",
      "epoch: 02, loss: -0.88585\n",
      "epoch: 03, loss: -0.89938\n",
      "epoch: 04, loss: -0.91006\n",
      "epoch: 05, loss: -0.91889\n",
      "epoch: 06, loss: -0.92536\n",
      "epoch: 07, loss: -0.93049\n",
      "epoch: 08, loss: -0.93468\n",
      "epoch: 09, loss: -0.93808\n",
      "torch.Size([1024, 384])\n",
      "W_feat shape= (1024, 1024)\n"
     ]
    },
    {
     "name": "stderr",
     "output_type": "stream",
     "text": [
      "\r",
      "  1%|█▊                                                                                                                                                                        | 11/999 [12:20<18:16:38, 66.60s/it]"
     ]
    },
    {
     "name": "stdout",
     "output_type": "stream",
     "text": [
      "eigenvalues shape torch.Size([15]) eigenvectors shape torch.Size([15, 1024])\n",
      "11 /home/phdcs2/Hard_Disk/Datasets/Deep-Spectral-Segmentation/data/object-segmentation/ECSSD/features/0012_resized.pth\n",
      "dict_keys(['k', 'indices', 'file', 'id', 'model_name', 'patch_size', 'shape'])\n",
      "0012_resized\n",
      "shape of w_feat_ds torch.Size([1024, 1024])\n",
      "z shape: torch.Size([1024, 384]) (1024, 384)\n",
      "Starting Training\n",
      "epoch: 00, loss: -0.86767\n",
      "epoch: 01, loss: -0.89715\n",
      "epoch: 02, loss: -0.89087\n",
      "epoch: 03, loss: -0.89604\n",
      "epoch: 04, loss: -0.90221\n",
      "epoch: 05, loss: -0.90762\n",
      "epoch: 06, loss: -0.91567\n",
      "epoch: 07, loss: -0.92000\n",
      "epoch: 08, loss: -0.92444\n",
      "epoch: 09, loss: -0.92997\n",
      "torch.Size([1024, 384])\n",
      "W_feat shape= (1024, 1024)\n"
     ]
    },
    {
     "name": "stderr",
     "output_type": "stream",
     "text": [
      "\r",
      "  1%|██                                                                                                                                                                        | 12/999 [13:37<19:06:56, 69.72s/it]"
     ]
    },
    {
     "name": "stdout",
     "output_type": "stream",
     "text": [
      "eigenvalues shape torch.Size([15]) eigenvectors shape torch.Size([15, 1024])\n",
      "12 /home/phdcs2/Hard_Disk/Datasets/Deep-Spectral-Segmentation/data/object-segmentation/ECSSD/features/0013_resized.pth\n",
      "dict_keys(['k', 'indices', 'file', 'id', 'model_name', 'patch_size', 'shape'])\n",
      "0013_resized\n",
      "shape of w_feat_ds torch.Size([1024, 1024])\n",
      "z shape: torch.Size([1024, 384]) (1024, 384)\n",
      "Starting Training\n",
      "epoch: 00, loss: -0.91311\n",
      "epoch: 01, loss: -0.94161\n",
      "epoch: 02, loss: -0.94275\n",
      "epoch: 03, loss: -0.94389\n",
      "epoch: 04, loss: -0.94304\n",
      "epoch: 05, loss: -0.94327\n",
      "epoch: 06, loss: -0.94518\n",
      "epoch: 07, loss: -0.94686\n",
      "epoch: 08, loss: -0.94927\n",
      "epoch: 09, loss: -0.95085\n",
      "torch.Size([1024, 384])\n",
      "W_feat shape= (1024, 1024)\n"
     ]
    },
    {
     "name": "stderr",
     "output_type": "stream",
     "text": [
      "\r",
      "  1%|██▏                                                                                                                                                                       | 13/999 [14:51<19:29:43, 71.18s/it]"
     ]
    },
    {
     "name": "stdout",
     "output_type": "stream",
     "text": [
      "eigenvalues shape torch.Size([15]) eigenvectors shape torch.Size([15, 1024])\n",
      "13 /home/phdcs2/Hard_Disk/Datasets/Deep-Spectral-Segmentation/data/object-segmentation/ECSSD/features/0014_resized.pth\n",
      "dict_keys(['k', 'indices', 'file', 'id', 'model_name', 'patch_size', 'shape'])\n",
      "0014_resized\n",
      "shape of w_feat_ds torch.Size([1024, 1024])\n",
      "z shape: torch.Size([1024, 384]) (1024, 384)\n",
      "Starting Training\n",
      "epoch: 00, loss: -0.91163\n",
      "epoch: 01, loss: -0.94337\n",
      "epoch: 02, loss: -0.94664\n",
      "epoch: 03, loss: -0.94524\n",
      "epoch: 04, loss: -0.94475\n",
      "epoch: 05, loss: -0.94587\n",
      "epoch: 06, loss: -0.94870\n",
      "epoch: 07, loss: -0.95110\n",
      "epoch: 08, loss: -0.95339\n",
      "epoch: 09, loss: -0.95517\n",
      "torch.Size([1024, 384])\n",
      "W_feat shape= (1024, 1024)\n"
     ]
    },
    {
     "name": "stderr",
     "output_type": "stream",
     "text": [
      "\r",
      "  1%|██▍                                                                                                                                                                       | 14/999 [15:58<19:08:13, 69.94s/it]"
     ]
    },
    {
     "name": "stdout",
     "output_type": "stream",
     "text": [
      "eigenvalues shape torch.Size([15]) eigenvectors shape torch.Size([15, 1024])\n",
      "14 /home/phdcs2/Hard_Disk/Datasets/Deep-Spectral-Segmentation/data/object-segmentation/ECSSD/features/0015_resized.pth\n",
      "dict_keys(['k', 'indices', 'file', 'id', 'model_name', 'patch_size', 'shape'])\n",
      "0015_resized\n",
      "shape of w_feat_ds torch.Size([1024, 1024])\n",
      "z shape: torch.Size([1024, 384]) (1024, 384)\n",
      "Starting Training\n",
      "epoch: 00, loss: -0.85516\n",
      "epoch: 01, loss: -0.88468\n",
      "epoch: 02, loss: -0.89606\n",
      "epoch: 03, loss: -0.90708\n",
      "epoch: 04, loss: -0.91742\n",
      "epoch: 05, loss: -0.92412\n",
      "epoch: 06, loss: -0.92944\n",
      "epoch: 07, loss: -0.93374\n",
      "epoch: 08, loss: -0.93681\n",
      "epoch: 09, loss: -0.93968\n",
      "torch.Size([1024, 384])\n",
      "W_feat shape= (1024, 1024)\n"
     ]
    },
    {
     "name": "stderr",
     "output_type": "stream",
     "text": [
      "\r",
      "  2%|██▌                                                                                                                                                                       | 15/999 [17:13<19:28:21, 71.24s/it]"
     ]
    },
    {
     "name": "stdout",
     "output_type": "stream",
     "text": [
      "eigenvalues shape torch.Size([15]) eigenvectors shape torch.Size([15, 1024])\n",
      "15 /home/phdcs2/Hard_Disk/Datasets/Deep-Spectral-Segmentation/data/object-segmentation/ECSSD/features/0016_resized.pth\n",
      "dict_keys(['k', 'indices', 'file', 'id', 'model_name', 'patch_size', 'shape'])\n",
      "0016_resized\n",
      "shape of w_feat_ds torch.Size([1024, 1024])\n",
      "z shape: torch.Size([1024, 384]) (1024, 384)\n",
      "Starting Training\n",
      "epoch: 00, loss: -0.84707\n",
      "epoch: 01, loss: -0.90816\n",
      "epoch: 02, loss: -0.92318\n",
      "epoch: 03, loss: -0.93140\n",
      "epoch: 04, loss: -0.93596\n",
      "epoch: 05, loss: -0.93922\n",
      "epoch: 06, loss: -0.94129\n",
      "epoch: 07, loss: -0.94234\n",
      "epoch: 08, loss: -0.94290\n",
      "epoch: 09, loss: -0.94319\n",
      "torch.Size([1024, 384])\n",
      "W_feat shape= (1024, 1024)\n"
     ]
    },
    {
     "name": "stderr",
     "output_type": "stream",
     "text": [
      "\r",
      "  2%|██▋                                                                                                                                                                       | 16/999 [18:27<19:40:33, 72.06s/it]"
     ]
    },
    {
     "name": "stdout",
     "output_type": "stream",
     "text": [
      "eigenvalues shape torch.Size([15]) eigenvectors shape torch.Size([15, 1024])\n",
      "16 /home/phdcs2/Hard_Disk/Datasets/Deep-Spectral-Segmentation/data/object-segmentation/ECSSD/features/0017_resized.pth\n",
      "dict_keys(['k', 'indices', 'file', 'id', 'model_name', 'patch_size', 'shape'])\n",
      "0017_resized\n",
      "shape of w_feat_ds torch.Size([1024, 1024])\n",
      "z shape: torch.Size([1024, 384]) (1024, 384)\n",
      "Starting Training\n",
      "epoch: 00, loss: -0.84451\n",
      "epoch: 01, loss: -0.89184\n",
      "epoch: 02, loss: -0.89065\n",
      "epoch: 03, loss: -0.88940\n",
      "epoch: 04, loss: -0.89791\n",
      "epoch: 05, loss: -0.90328\n",
      "epoch: 06, loss: -0.91073\n",
      "epoch: 07, loss: -0.91735\n",
      "epoch: 08, loss: -0.92184\n",
      "epoch: 09, loss: -0.92678\n",
      "torch.Size([1024, 384])\n",
      "W_feat shape= (1024, 1024)\n"
     ]
    },
    {
     "name": "stderr",
     "output_type": "stream",
     "text": [
      "\r",
      "  2%|██▉                                                                                                                                                                       | 17/999 [19:36<19:24:52, 71.17s/it]"
     ]
    },
    {
     "name": "stdout",
     "output_type": "stream",
     "text": [
      "eigenvalues shape torch.Size([15]) eigenvectors shape torch.Size([15, 1024])\n",
      "17 /home/phdcs2/Hard_Disk/Datasets/Deep-Spectral-Segmentation/data/object-segmentation/ECSSD/features/0018_resized.pth\n",
      "dict_keys(['k', 'indices', 'file', 'id', 'model_name', 'patch_size', 'shape'])\n",
      "0018_resized\n",
      "shape of w_feat_ds torch.Size([1024, 1024])\n",
      "z shape: torch.Size([1024, 384]) (1024, 384)\n",
      "Starting Training\n",
      "epoch: 00, loss: -0.91827\n",
      "epoch: 01, loss: -0.93037\n",
      "epoch: 02, loss: -0.93248\n",
      "epoch: 03, loss: -0.93475\n",
      "epoch: 04, loss: -0.94224\n",
      "epoch: 05, loss: -0.94545\n",
      "epoch: 06, loss: -0.94902\n",
      "epoch: 07, loss: -0.95185\n",
      "epoch: 08, loss: -0.95413\n",
      "epoch: 09, loss: -0.95557\n",
      "torch.Size([1024, 384])\n",
      "W_feat shape= (1024, 1024)\n"
     ]
    },
    {
     "name": "stderr",
     "output_type": "stream",
     "text": [
      "\r",
      "  2%|███                                                                                                                                                                       | 18/999 [20:49<19:31:53, 71.67s/it]"
     ]
    },
    {
     "name": "stdout",
     "output_type": "stream",
     "text": [
      "eigenvalues shape torch.Size([15]) eigenvectors shape torch.Size([15, 1024])\n",
      "18 /home/phdcs2/Hard_Disk/Datasets/Deep-Spectral-Segmentation/data/object-segmentation/ECSSD/features/0019_resized.pth\n",
      "dict_keys(['k', 'indices', 'file', 'id', 'model_name', 'patch_size', 'shape'])\n",
      "0019_resized\n",
      "shape of w_feat_ds torch.Size([1024, 1024])\n",
      "z shape: torch.Size([1024, 384]) (1024, 384)\n",
      "Starting Training\n",
      "epoch: 00, loss: -0.90924\n",
      "epoch: 01, loss: -0.94177\n",
      "epoch: 02, loss: -0.94584\n",
      "epoch: 03, loss: -0.94670\n",
      "epoch: 04, loss: -0.94739\n",
      "epoch: 05, loss: -0.94839\n",
      "epoch: 06, loss: -0.94816\n",
      "epoch: 07, loss: -0.95004\n",
      "epoch: 08, loss: -0.95058\n",
      "epoch: 09, loss: -0.95185\n",
      "torch.Size([1024, 384])\n",
      "W_feat shape= (1024, 1024)\n"
     ]
    },
    {
     "name": "stderr",
     "output_type": "stream",
     "text": [
      "\r",
      "  2%|███▏                                                                                                                                                                      | 19/999 [21:56<19:08:26, 70.31s/it]"
     ]
    },
    {
     "name": "stdout",
     "output_type": "stream",
     "text": [
      "eigenvalues shape torch.Size([15]) eigenvectors shape torch.Size([15, 1024])\n",
      "19 /home/phdcs2/Hard_Disk/Datasets/Deep-Spectral-Segmentation/data/object-segmentation/ECSSD/features/0020_resized.pth\n",
      "dict_keys(['k', 'indices', 'file', 'id', 'model_name', 'patch_size', 'shape'])\n",
      "0020_resized\n",
      "shape of w_feat_ds torch.Size([1024, 1024])\n",
      "z shape: torch.Size([1024, 384]) (1024, 384)\n",
      "Starting Training\n",
      "epoch: 00, loss: -0.91338\n",
      "epoch: 01, loss: -0.94146\n",
      "epoch: 02, loss: -0.94465\n",
      "epoch: 03, loss: -0.94580\n",
      "epoch: 04, loss: -0.94624\n",
      "epoch: 05, loss: -0.94632\n",
      "epoch: 06, loss: -0.94681\n",
      "epoch: 07, loss: -0.94754\n",
      "epoch: 08, loss: -0.94740\n",
      "epoch: 09, loss: -0.94788\n",
      "torch.Size([1024, 384])\n",
      "W_feat shape= (1024, 1024)\n"
     ]
    },
    {
     "name": "stderr",
     "output_type": "stream",
     "text": [
      "\r",
      "  2%|███▍                                                                                                                                                                      | 20/999 [22:56<18:18:43, 67.34s/it]"
     ]
    },
    {
     "name": "stdout",
     "output_type": "stream",
     "text": [
      "eigenvalues shape torch.Size([15]) eigenvectors shape torch.Size([15, 1024])\n",
      "20 /home/phdcs2/Hard_Disk/Datasets/Deep-Spectral-Segmentation/data/object-segmentation/ECSSD/features/0021_resized.pth\n",
      "dict_keys(['k', 'indices', 'file', 'id', 'model_name', 'patch_size', 'shape'])\n",
      "0021_resized\n",
      "shape of w_feat_ds torch.Size([1024, 1024])\n",
      "z shape: torch.Size([1024, 384]) (1024, 384)\n",
      "Starting Training\n",
      "epoch: 00, loss: -0.84398\n",
      "epoch: 01, loss: -0.89767\n",
      "epoch: 02, loss: -0.90456\n",
      "epoch: 03, loss: -0.90336\n",
      "epoch: 04, loss: -0.90360\n",
      "epoch: 05, loss: -0.90667\n",
      "epoch: 06, loss: -0.91109\n",
      "epoch: 07, loss: -0.91658\n",
      "epoch: 08, loss: -0.92203\n",
      "epoch: 09, loss: -0.92605\n",
      "torch.Size([1024, 384])\n",
      "W_feat shape= (1024, 1024)\n"
     ]
    },
    {
     "name": "stderr",
     "output_type": "stream",
     "text": [
      "\r",
      "  2%|███▌                                                                                                                                                                      | 21/999 [23:58<17:53:14, 65.84s/it]"
     ]
    },
    {
     "name": "stdout",
     "output_type": "stream",
     "text": [
      "eigenvalues shape torch.Size([15]) eigenvectors shape torch.Size([15, 1024])\n",
      "21 /home/phdcs2/Hard_Disk/Datasets/Deep-Spectral-Segmentation/data/object-segmentation/ECSSD/features/0022_resized.pth\n",
      "dict_keys(['k', 'indices', 'file', 'id', 'model_name', 'patch_size', 'shape'])\n",
      "0022_resized\n",
      "shape of w_feat_ds torch.Size([1024, 1024])\n",
      "z shape: torch.Size([1024, 384]) (1024, 384)\n",
      "Starting Training\n",
      "epoch: 00, loss: -0.91580\n",
      "epoch: 01, loss: -0.93732\n",
      "epoch: 02, loss: -0.93620\n",
      "epoch: 03, loss: -0.93517\n",
      "epoch: 04, loss: -0.93949\n",
      "epoch: 05, loss: -0.94211\n",
      "epoch: 06, loss: -0.94539\n",
      "epoch: 07, loss: -0.94802\n",
      "epoch: 08, loss: -0.95088\n",
      "epoch: 09, loss: -0.95298\n",
      "torch.Size([1024, 384])\n",
      "W_feat shape= (1024, 1024)\n"
     ]
    },
    {
     "name": "stderr",
     "output_type": "stream",
     "text": [
      "\r",
      "  2%|███▋                                                                                                                                                                      | 22/999 [25:15<18:43:44, 69.01s/it]"
     ]
    },
    {
     "name": "stdout",
     "output_type": "stream",
     "text": [
      "eigenvalues shape torch.Size([15]) eigenvectors shape torch.Size([15, 1024])\n",
      "22 /home/phdcs2/Hard_Disk/Datasets/Deep-Spectral-Segmentation/data/object-segmentation/ECSSD/features/0024_resized.pth\n",
      "dict_keys(['k', 'indices', 'file', 'id', 'model_name', 'patch_size', 'shape'])\n",
      "0024_resized\n",
      "shape of w_feat_ds torch.Size([1024, 1024])\n",
      "z shape: torch.Size([1024, 384]) (1024, 384)\n",
      "Starting Training\n",
      "epoch: 00, loss: -0.88009\n",
      "epoch: 01, loss: -0.92573\n",
      "epoch: 02, loss: -0.93586\n",
      "epoch: 03, loss: -0.94058\n",
      "epoch: 04, loss: -0.94319\n",
      "epoch: 05, loss: -0.94424\n",
      "epoch: 06, loss: -0.94460\n",
      "epoch: 07, loss: -0.94401\n",
      "epoch: 08, loss: -0.94303\n",
      "epoch: 09, loss: -0.94220\n",
      "torch.Size([1024, 384])\n",
      "W_feat shape= (1024, 1024)\n"
     ]
    },
    {
     "name": "stderr",
     "output_type": "stream",
     "text": [
      "\r",
      "  2%|███▉                                                                                                                                                                      | 23/999 [26:28<19:00:35, 70.12s/it]"
     ]
    },
    {
     "name": "stdout",
     "output_type": "stream",
     "text": [
      "eigenvalues shape torch.Size([15]) eigenvectors shape torch.Size([15, 1024])\n",
      "23 /home/phdcs2/Hard_Disk/Datasets/Deep-Spectral-Segmentation/data/object-segmentation/ECSSD/features/0025_resized.pth\n",
      "dict_keys(['k', 'indices', 'file', 'id', 'model_name', 'patch_size', 'shape'])\n",
      "0025_resized\n",
      "shape of w_feat_ds torch.Size([1024, 1024])\n",
      "z shape: torch.Size([1024, 384]) (1024, 384)\n",
      "Starting Training\n",
      "epoch: 00, loss: -0.91619\n",
      "epoch: 01, loss: -0.93908\n",
      "epoch: 02, loss: -0.93912\n",
      "epoch: 03, loss: -0.94520\n",
      "epoch: 04, loss: -0.95033\n",
      "epoch: 05, loss: -0.95408\n",
      "epoch: 06, loss: -0.95710\n",
      "epoch: 07, loss: -0.95911\n",
      "epoch: 08, loss: -0.96082\n",
      "epoch: 09, loss: -0.96221\n",
      "torch.Size([1024, 384])\n",
      "W_feat shape= (1024, 1024)\n"
     ]
    },
    {
     "name": "stderr",
     "output_type": "stream",
     "text": [
      "\r",
      "  2%|████                                                                                                                                                                      | 24/999 [27:41<19:13:21, 70.98s/it]"
     ]
    },
    {
     "name": "stdout",
     "output_type": "stream",
     "text": [
      "eigenvalues shape torch.Size([15]) eigenvectors shape torch.Size([15, 1024])\n",
      "24 /home/phdcs2/Hard_Disk/Datasets/Deep-Spectral-Segmentation/data/object-segmentation/ECSSD/features/0026_resized.pth\n",
      "dict_keys(['k', 'indices', 'file', 'id', 'model_name', 'patch_size', 'shape'])\n",
      "0026_resized\n",
      "shape of w_feat_ds torch.Size([1024, 1024])\n",
      "z shape: torch.Size([1024, 384]) (1024, 384)\n",
      "Starting Training\n",
      "epoch: 00, loss: -0.84571\n",
      "epoch: 01, loss: -0.89980\n",
      "epoch: 02, loss: -0.90900\n",
      "epoch: 03, loss: -0.91087\n",
      "epoch: 04, loss: -0.91296\n",
      "epoch: 05, loss: -0.91185\n",
      "epoch: 06, loss: -0.91256\n",
      "epoch: 07, loss: -0.91432\n",
      "epoch: 08, loss: -0.91594\n",
      "epoch: 09, loss: -0.91840\n",
      "torch.Size([1024, 384])\n",
      "W_feat shape= (1024, 1024)\n"
     ]
    },
    {
     "name": "stderr",
     "output_type": "stream",
     "text": [
      "\r",
      "  3%|████▎                                                                                                                                                                     | 25/999 [28:45<18:41:14, 69.07s/it]"
     ]
    },
    {
     "name": "stdout",
     "output_type": "stream",
     "text": [
      "eigenvalues shape torch.Size([15]) eigenvectors shape torch.Size([15, 1024])\n",
      "25 /home/phdcs2/Hard_Disk/Datasets/Deep-Spectral-Segmentation/data/object-segmentation/ECSSD/features/0027_resized.pth\n",
      "dict_keys(['k', 'indices', 'file', 'id', 'model_name', 'patch_size', 'shape'])\n",
      "0027_resized\n",
      "shape of w_feat_ds torch.Size([1024, 1024])\n",
      "z shape: torch.Size([1024, 384]) (1024, 384)\n",
      "Starting Training\n",
      "epoch: 00, loss: -0.83444\n",
      "epoch: 01, loss: -0.89084\n",
      "epoch: 02, loss: -0.89935\n",
      "epoch: 03, loss: -0.90094\n",
      "epoch: 04, loss: -0.89863\n",
      "epoch: 05, loss: -0.89890\n",
      "epoch: 06, loss: -0.89861\n",
      "epoch: 07, loss: -0.90163\n",
      "epoch: 08, loss: -0.90348\n",
      "epoch: 09, loss: -0.90465\n",
      "torch.Size([1024, 384])\n",
      "W_feat shape= (1024, 1024)\n"
     ]
    },
    {
     "name": "stderr",
     "output_type": "stream",
     "text": [
      "\r",
      "  3%|████▍                                                                                                                                                                     | 26/999 [29:58<19:00:47, 70.35s/it]"
     ]
    },
    {
     "name": "stdout",
     "output_type": "stream",
     "text": [
      "eigenvalues shape torch.Size([15]) eigenvectors shape torch.Size([15, 1024])\n",
      "26 /home/phdcs2/Hard_Disk/Datasets/Deep-Spectral-Segmentation/data/object-segmentation/ECSSD/features/0028_resized.pth\n",
      "dict_keys(['k', 'indices', 'file', 'id', 'model_name', 'patch_size', 'shape'])\n",
      "0028_resized\n",
      "shape of w_feat_ds torch.Size([1024, 1024])\n",
      "z shape: torch.Size([1024, 384]) (1024, 384)\n",
      "Starting Training\n",
      "epoch: 00, loss: -0.85412\n",
      "epoch: 01, loss: -0.89809\n",
      "epoch: 02, loss: -0.89362\n",
      "epoch: 03, loss: -0.89572\n",
      "epoch: 04, loss: -0.90098\n",
      "epoch: 05, loss: -0.90734\n",
      "epoch: 06, loss: -0.91540\n",
      "epoch: 07, loss: -0.92147\n",
      "epoch: 08, loss: -0.92596\n",
      "epoch: 09, loss: -0.93072\n",
      "torch.Size([1024, 384])\n",
      "W_feat shape= (1024, 1024)\n"
     ]
    },
    {
     "name": "stderr",
     "output_type": "stream",
     "text": [
      "\r",
      "  3%|████▌                                                                                                                                                                     | 27/999 [31:11<19:07:58, 70.86s/it]"
     ]
    },
    {
     "name": "stdout",
     "output_type": "stream",
     "text": [
      "eigenvalues shape torch.Size([15]) eigenvectors shape torch.Size([15, 1024])\n",
      "27 /home/phdcs2/Hard_Disk/Datasets/Deep-Spectral-Segmentation/data/object-segmentation/ECSSD/features/0029_resized.pth\n",
      "dict_keys(['k', 'indices', 'file', 'id', 'model_name', 'patch_size', 'shape'])\n",
      "0029_resized\n",
      "shape of w_feat_ds torch.Size([1024, 1024])\n",
      "z shape: torch.Size([1024, 384]) (1024, 384)\n",
      "Starting Training\n",
      "epoch: 00, loss: -0.91265\n",
      "epoch: 01, loss: -0.94433\n",
      "epoch: 02, loss: -0.94848\n",
      "epoch: 03, loss: -0.94925\n",
      "epoch: 04, loss: -0.94916\n",
      "epoch: 05, loss: -0.94900\n",
      "epoch: 06, loss: -0.94895\n",
      "epoch: 07, loss: -0.95104\n",
      "epoch: 08, loss: -0.95274\n",
      "epoch: 09, loss: -0.95436\n",
      "torch.Size([1024, 384])\n",
      "W_feat shape= (1024, 1024)\n"
     ]
    },
    {
     "name": "stderr",
     "output_type": "stream",
     "text": [
      "\r",
      "  3%|████▊                                                                                                                                                                     | 28/999 [32:14<18:33:10, 68.78s/it]"
     ]
    },
    {
     "name": "stdout",
     "output_type": "stream",
     "text": [
      "eigenvalues shape torch.Size([15]) eigenvectors shape torch.Size([15, 1024])\n",
      "28 /home/phdcs2/Hard_Disk/Datasets/Deep-Spectral-Segmentation/data/object-segmentation/ECSSD/features/0030_resized.pth\n",
      "dict_keys(['k', 'indices', 'file', 'id', 'model_name', 'patch_size', 'shape'])\n",
      "0030_resized\n",
      "shape of w_feat_ds torch.Size([1024, 1024])\n",
      "z shape: torch.Size([1024, 384]) (1024, 384)\n",
      "Starting Training\n",
      "epoch: 00, loss: -0.83358\n",
      "epoch: 01, loss: -0.89594\n",
      "epoch: 02, loss: -0.91032\n",
      "epoch: 03, loss: -0.91689\n",
      "epoch: 04, loss: -0.91998\n",
      "epoch: 05, loss: -0.92173\n",
      "epoch: 06, loss: -0.92282\n",
      "epoch: 07, loss: -0.92349\n",
      "epoch: 08, loss: -0.92519\n",
      "epoch: 09, loss: -0.92560\n",
      "torch.Size([1024, 384])\n",
      "W_feat shape= (1024, 1024)\n"
     ]
    },
    {
     "name": "stderr",
     "output_type": "stream",
     "text": [
      "\r",
      "  3%|████▉                                                                                                                                                                     | 29/999 [33:25<18:42:56, 69.46s/it]"
     ]
    },
    {
     "name": "stdout",
     "output_type": "stream",
     "text": [
      "eigenvalues shape torch.Size([15]) eigenvectors shape torch.Size([15, 1024])\n",
      "29 /home/phdcs2/Hard_Disk/Datasets/Deep-Spectral-Segmentation/data/object-segmentation/ECSSD/features/0031_resized.pth\n",
      "dict_keys(['k', 'indices', 'file', 'id', 'model_name', 'patch_size', 'shape'])\n",
      "0031_resized\n",
      "shape of w_feat_ds torch.Size([1024, 1024])\n",
      "z shape: torch.Size([1024, 384]) (1024, 384)\n",
      "Starting Training\n",
      "epoch: 00, loss: -0.90906\n",
      "epoch: 01, loss: -0.94107\n",
      "epoch: 02, loss: -0.94616\n",
      "epoch: 03, loss: -0.94750\n",
      "epoch: 04, loss: -0.94709\n",
      "epoch: 05, loss: -0.94647\n",
      "epoch: 06, loss: -0.94745\n",
      "epoch: 07, loss: -0.94819\n",
      "epoch: 08, loss: -0.95027\n",
      "epoch: 09, loss: -0.95214\n",
      "torch.Size([1024, 384])\n",
      "W_feat shape= (1024, 1024)\n"
     ]
    },
    {
     "name": "stderr",
     "output_type": "stream",
     "text": [
      "\r",
      "  3%|█████                                                                                                                                                                     | 30/999 [34:33<18:30:23, 68.76s/it]"
     ]
    },
    {
     "name": "stdout",
     "output_type": "stream",
     "text": [
      "eigenvalues shape torch.Size([15]) eigenvectors shape torch.Size([15, 1024])\n",
      "30 /home/phdcs2/Hard_Disk/Datasets/Deep-Spectral-Segmentation/data/object-segmentation/ECSSD/features/0032_resized.pth\n",
      "dict_keys(['k', 'indices', 'file', 'id', 'model_name', 'patch_size', 'shape'])\n",
      "0032_resized\n",
      "shape of w_feat_ds torch.Size([1024, 1024])\n",
      "z shape: torch.Size([1024, 384]) (1024, 384)\n",
      "Starting Training\n",
      "epoch: 00, loss: -0.84690\n",
      "epoch: 01, loss: -0.90505\n",
      "epoch: 02, loss: -0.91769\n",
      "epoch: 03, loss: -0.92281\n",
      "epoch: 04, loss: -0.92544\n",
      "epoch: 05, loss: -0.92577\n",
      "epoch: 06, loss: -0.92605\n",
      "epoch: 07, loss: -0.92580\n",
      "epoch: 08, loss: -0.92644\n",
      "epoch: 09, loss: -0.92734\n",
      "torch.Size([1024, 384])\n",
      "W_feat shape= (1024, 1024)\n"
     ]
    },
    {
     "name": "stderr",
     "output_type": "stream",
     "text": [
      "\r",
      "  3%|█████▎                                                                                                                                                                    | 31/999 [35:39<18:15:55, 67.93s/it]"
     ]
    },
    {
     "name": "stdout",
     "output_type": "stream",
     "text": [
      "eigenvalues shape torch.Size([15]) eigenvectors shape torch.Size([15, 1024])\n",
      "31 /home/phdcs2/Hard_Disk/Datasets/Deep-Spectral-Segmentation/data/object-segmentation/ECSSD/features/0033_resized.pth\n",
      "dict_keys(['k', 'indices', 'file', 'id', 'model_name', 'patch_size', 'shape'])\n",
      "0033_resized\n",
      "shape of w_feat_ds torch.Size([1024, 1024])\n",
      "z shape: torch.Size([1024, 384]) (1024, 384)\n",
      "Starting Training\n",
      "epoch: 00, loss: -0.91078\n",
      "epoch: 01, loss: -0.94435\n",
      "epoch: 02, loss: -0.94981\n",
      "epoch: 03, loss: -0.95188\n",
      "epoch: 04, loss: -0.95138\n",
      "epoch: 05, loss: -0.95059\n",
      "epoch: 06, loss: -0.94990\n",
      "epoch: 07, loss: -0.95028\n",
      "epoch: 08, loss: -0.95067\n",
      "epoch: 09, loss: -0.95187\n",
      "torch.Size([1024, 384])\n",
      "W_feat shape= (1024, 1024)\n"
     ]
    },
    {
     "name": "stderr",
     "output_type": "stream",
     "text": [
      "\r",
      "  3%|█████▍                                                                                                                                                                    | 32/999 [36:53<18:43:50, 69.73s/it]"
     ]
    },
    {
     "name": "stdout",
     "output_type": "stream",
     "text": [
      "eigenvalues shape torch.Size([15]) eigenvectors shape torch.Size([15, 1024])\n",
      "32 /home/phdcs2/Hard_Disk/Datasets/Deep-Spectral-Segmentation/data/object-segmentation/ECSSD/features/0034_resized.pth\n",
      "dict_keys(['k', 'indices', 'file', 'id', 'model_name', 'patch_size', 'shape'])\n",
      "0034_resized\n",
      "shape of w_feat_ds torch.Size([1024, 1024])\n",
      "z shape: torch.Size([1024, 384]) (1024, 384)\n",
      "Starting Training\n",
      "epoch: 00, loss: -0.91054\n",
      "epoch: 01, loss: -0.93987\n",
      "epoch: 02, loss: -0.94373\n",
      "epoch: 03, loss: -0.94295\n",
      "epoch: 04, loss: -0.94492\n",
      "epoch: 05, loss: -0.94494\n",
      "epoch: 06, loss: -0.94526\n",
      "epoch: 07, loss: -0.94638\n",
      "epoch: 08, loss: -0.94787\n",
      "epoch: 09, loss: -0.94858\n",
      "torch.Size([1024, 384])\n",
      "W_feat shape= (1024, 1024)\n"
     ]
    },
    {
     "name": "stderr",
     "output_type": "stream",
     "text": [
      "\r",
      "  3%|█████▌                                                                                                                                                                    | 33/999 [38:02<18:40:10, 69.58s/it]"
     ]
    },
    {
     "name": "stdout",
     "output_type": "stream",
     "text": [
      "eigenvalues shape torch.Size([15]) eigenvectors shape torch.Size([15, 1024])\n",
      "33 /home/phdcs2/Hard_Disk/Datasets/Deep-Spectral-Segmentation/data/object-segmentation/ECSSD/features/0035_resized.pth\n",
      "dict_keys(['k', 'indices', 'file', 'id', 'model_name', 'patch_size', 'shape'])\n",
      "0035_resized\n",
      "shape of w_feat_ds torch.Size([1024, 1024])\n",
      "z shape: torch.Size([1024, 384]) (1024, 384)\n",
      "Starting Training\n",
      "epoch: 00, loss: -0.85357\n",
      "epoch: 01, loss: -0.91109\n",
      "epoch: 02, loss: -0.92411\n",
      "epoch: 03, loss: -0.93048\n",
      "epoch: 04, loss: -0.93392\n",
      "epoch: 05, loss: -0.93553\n",
      "epoch: 06, loss: -0.93555\n",
      "epoch: 07, loss: -0.93501\n",
      "epoch: 08, loss: -0.93428\n",
      "epoch: 09, loss: -0.93286\n",
      "torch.Size([1024, 384])\n",
      "W_feat shape= (1024, 1024)\n"
     ]
    },
    {
     "name": "stderr",
     "output_type": "stream",
     "text": [
      "\r",
      "  3%|█████▊                                                                                                                                                                    | 34/999 [39:09<18:29:38, 68.99s/it]"
     ]
    },
    {
     "name": "stdout",
     "output_type": "stream",
     "text": [
      "eigenvalues shape torch.Size([15]) eigenvectors shape torch.Size([15, 1024])\n",
      "34 /home/phdcs2/Hard_Disk/Datasets/Deep-Spectral-Segmentation/data/object-segmentation/ECSSD/features/0036_resized.pth\n",
      "dict_keys(['k', 'indices', 'file', 'id', 'model_name', 'patch_size', 'shape'])\n",
      "0036_resized\n",
      "shape of w_feat_ds torch.Size([1024, 1024])\n",
      "z shape: torch.Size([1024, 384]) (1024, 384)\n",
      "Starting Training\n",
      "epoch: 00, loss: -0.91435\n",
      "epoch: 01, loss: -0.94400\n",
      "epoch: 02, loss: -0.94707\n",
      "epoch: 03, loss: -0.94712\n",
      "epoch: 04, loss: -0.94642\n",
      "epoch: 05, loss: -0.94562\n",
      "epoch: 06, loss: -0.94785\n",
      "epoch: 07, loss: -0.94985\n",
      "epoch: 08, loss: -0.95131\n",
      "epoch: 09, loss: -0.95360\n",
      "torch.Size([1024, 384])\n",
      "W_feat shape= (1024, 1024)\n"
     ]
    },
    {
     "name": "stderr",
     "output_type": "stream",
     "text": [
      "\r",
      "  4%|█████▉                                                                                                                                                                    | 35/999 [40:19<18:33:23, 69.30s/it]"
     ]
    },
    {
     "name": "stdout",
     "output_type": "stream",
     "text": [
      "eigenvalues shape torch.Size([15]) eigenvectors shape torch.Size([15, 1024])\n",
      "35 /home/phdcs2/Hard_Disk/Datasets/Deep-Spectral-Segmentation/data/object-segmentation/ECSSD/features/0037_resized.pth\n",
      "dict_keys(['k', 'indices', 'file', 'id', 'model_name', 'patch_size', 'shape'])\n",
      "0037_resized\n",
      "shape of w_feat_ds torch.Size([1024, 1024])\n",
      "z shape: torch.Size([1024, 384]) (1024, 384)\n",
      "Starting Training\n",
      "epoch: 00, loss: -0.90912\n",
      "epoch: 01, loss: -0.94486\n",
      "epoch: 02, loss: -0.95231\n",
      "epoch: 03, loss: -0.95652\n",
      "epoch: 04, loss: -0.95896\n",
      "epoch: 05, loss: -0.96066\n",
      "epoch: 06, loss: -0.96179\n",
      "epoch: 07, loss: -0.96274\n",
      "epoch: 08, loss: -0.96329\n",
      "epoch: 09, loss: -0.96369\n",
      "torch.Size([1024, 384])\n",
      "W_feat shape= (1024, 1024)\n"
     ]
    },
    {
     "name": "stderr",
     "output_type": "stream",
     "text": [
      "\r",
      "  4%|██████▏                                                                                                                                                                   | 36/999 [41:27<18:23:19, 68.74s/it]"
     ]
    },
    {
     "name": "stdout",
     "output_type": "stream",
     "text": [
      "eigenvalues shape torch.Size([15]) eigenvectors shape torch.Size([15, 1024])\n",
      "36 /home/phdcs2/Hard_Disk/Datasets/Deep-Spectral-Segmentation/data/object-segmentation/ECSSD/features/0038_resized.pth\n",
      "dict_keys(['k', 'indices', 'file', 'id', 'model_name', 'patch_size', 'shape'])\n",
      "0038_resized\n",
      "shape of w_feat_ds torch.Size([1024, 1024])\n",
      "z shape: torch.Size([1024, 384]) (1024, 384)\n",
      "Starting Training\n",
      "epoch: 00, loss: -0.90895\n",
      "epoch: 01, loss: -0.93987\n",
      "epoch: 02, loss: -0.94328\n",
      "epoch: 03, loss: -0.94391\n",
      "epoch: 04, loss: -0.94435\n",
      "epoch: 05, loss: -0.94540\n",
      "epoch: 06, loss: -0.94526\n",
      "epoch: 07, loss: -0.94694\n",
      "epoch: 08, loss: -0.94823\n",
      "epoch: 09, loss: -0.94919\n",
      "torch.Size([1024, 384])\n",
      "W_feat shape= (1024, 1024)\n"
     ]
    },
    {
     "name": "stderr",
     "output_type": "stream",
     "text": [
      "\r",
      "  4%|██████▎                                                                                                                                                                   | 37/999 [42:36<18:23:16, 68.81s/it]"
     ]
    },
    {
     "name": "stdout",
     "output_type": "stream",
     "text": [
      "eigenvalues shape torch.Size([15]) eigenvectors shape torch.Size([15, 1024])\n",
      "37 /home/phdcs2/Hard_Disk/Datasets/Deep-Spectral-Segmentation/data/object-segmentation/ECSSD/features/0039_resized.pth\n",
      "dict_keys(['k', 'indices', 'file', 'id', 'model_name', 'patch_size', 'shape'])\n",
      "0039_resized\n",
      "shape of w_feat_ds torch.Size([1024, 1024])\n",
      "z shape: torch.Size([1024, 384]) (1024, 384)\n",
      "Starting Training\n",
      "epoch: 00, loss: -0.91747\n",
      "epoch: 01, loss: -0.94121\n",
      "epoch: 02, loss: -0.94091\n",
      "epoch: 03, loss: -0.94227\n",
      "epoch: 04, loss: -0.94697\n",
      "epoch: 05, loss: -0.95079\n",
      "epoch: 06, loss: -0.95367\n",
      "epoch: 07, loss: -0.95624\n",
      "epoch: 08, loss: -0.95794\n",
      "epoch: 09, loss: -0.95939\n",
      "torch.Size([1024, 384])\n",
      "W_feat shape= (1024, 1024)\n"
     ]
    },
    {
     "name": "stderr",
     "output_type": "stream",
     "text": [
      "\r",
      "  4%|██████▍                                                                                                                                                                   | 38/999 [43:38<17:49:56, 66.80s/it]"
     ]
    },
    {
     "name": "stdout",
     "output_type": "stream",
     "text": [
      "eigenvalues shape torch.Size([15]) eigenvectors shape torch.Size([15, 1024])\n",
      "38 /home/phdcs2/Hard_Disk/Datasets/Deep-Spectral-Segmentation/data/object-segmentation/ECSSD/features/0040_resized.pth\n",
      "dict_keys(['k', 'indices', 'file', 'id', 'model_name', 'patch_size', 'shape'])\n",
      "0040_resized\n",
      "shape of w_feat_ds torch.Size([1024, 1024])\n",
      "z shape: torch.Size([1024, 384]) (1024, 384)\n",
      "Starting Training\n",
      "epoch: 00, loss: -0.84889\n",
      "epoch: 01, loss: -0.90002\n",
      "epoch: 02, loss: -0.90993\n",
      "epoch: 03, loss: -0.91244\n",
      "epoch: 04, loss: -0.91536\n",
      "epoch: 05, loss: -0.91578\n",
      "epoch: 06, loss: -0.91979\n",
      "epoch: 07, loss: -0.92147\n",
      "epoch: 08, loss: -0.92494\n",
      "epoch: 09, loss: -0.92668\n",
      "torch.Size([1024, 384])\n",
      "W_feat shape= (1024, 1024)\n"
     ]
    },
    {
     "name": "stderr",
     "output_type": "stream",
     "text": [
      "\r",
      "  4%|██████▋                                                                                                                                                                   | 39/999 [44:51<18:19:54, 68.74s/it]"
     ]
    },
    {
     "name": "stdout",
     "output_type": "stream",
     "text": [
      "eigenvalues shape torch.Size([15]) eigenvectors shape torch.Size([15, 1024])\n",
      "39 /home/phdcs2/Hard_Disk/Datasets/Deep-Spectral-Segmentation/data/object-segmentation/ECSSD/features/0041_resized.pth\n",
      "dict_keys(['k', 'indices', 'file', 'id', 'model_name', 'patch_size', 'shape'])\n",
      "0041_resized\n",
      "shape of w_feat_ds torch.Size([1024, 1024])\n",
      "z shape: torch.Size([1024, 384]) (1024, 384)\n",
      "Starting Training\n",
      "epoch: 00, loss: -0.90810\n",
      "epoch: 01, loss: -0.94383\n",
      "epoch: 02, loss: -0.95065\n",
      "epoch: 03, loss: -0.95381\n",
      "epoch: 04, loss: -0.95453\n",
      "epoch: 05, loss: -0.95555\n",
      "epoch: 06, loss: -0.95430\n",
      "epoch: 07, loss: -0.95397\n",
      "epoch: 08, loss: -0.95293\n",
      "epoch: 09, loss: -0.95275\n",
      "torch.Size([1024, 384])\n",
      "W_feat shape= (1024, 1024)\n"
     ]
    },
    {
     "name": "stderr",
     "output_type": "stream",
     "text": [
      "\r",
      "  4%|██████▊                                                                                                                                                                   | 40/999 [45:59<18:13:23, 68.41s/it]"
     ]
    },
    {
     "name": "stdout",
     "output_type": "stream",
     "text": [
      "eigenvalues shape torch.Size([15]) eigenvectors shape torch.Size([15, 1024])\n",
      "40 /home/phdcs2/Hard_Disk/Datasets/Deep-Spectral-Segmentation/data/object-segmentation/ECSSD/features/0042_resized.pth\n",
      "dict_keys(['k', 'indices', 'file', 'id', 'model_name', 'patch_size', 'shape'])\n",
      "0042_resized\n",
      "shape of w_feat_ds torch.Size([1024, 1024])\n",
      "z shape: torch.Size([1024, 384]) (1024, 384)\n",
      "Starting Training\n",
      "epoch: 00, loss: -0.83858\n",
      "epoch: 01, loss: -0.90386\n",
      "epoch: 02, loss: -0.92042\n",
      "epoch: 03, loss: -0.92946\n",
      "epoch: 04, loss: -0.93553\n",
      "epoch: 05, loss: -0.93986\n",
      "epoch: 06, loss: -0.94302\n",
      "epoch: 07, loss: -0.94545\n",
      "epoch: 08, loss: -0.94749\n",
      "epoch: 09, loss: -0.94895\n",
      "torch.Size([1024, 384])\n",
      "W_feat shape= (1024, 1024)\n"
     ]
    },
    {
     "name": "stderr",
     "output_type": "stream",
     "text": [
      "\r",
      "  4%|██████▉                                                                                                                                                                   | 41/999 [47:00<17:36:57, 66.20s/it]"
     ]
    },
    {
     "name": "stdout",
     "output_type": "stream",
     "text": [
      "eigenvalues shape torch.Size([15]) eigenvectors shape torch.Size([15, 1024])\n",
      "41 /home/phdcs2/Hard_Disk/Datasets/Deep-Spectral-Segmentation/data/object-segmentation/ECSSD/features/0043_resized.pth\n",
      "dict_keys(['k', 'indices', 'file', 'id', 'model_name', 'patch_size', 'shape'])\n",
      "0043_resized\n",
      "shape of w_feat_ds torch.Size([1024, 1024])\n",
      "z shape: torch.Size([1024, 384]) (1024, 384)\n",
      "Starting Training\n",
      "epoch: 00, loss: -0.92167\n",
      "epoch: 01, loss: -0.94067\n",
      "epoch: 02, loss: -0.93722\n",
      "epoch: 03, loss: -0.93801\n",
      "epoch: 04, loss: -0.93862\n",
      "epoch: 05, loss: -0.93988\n",
      "epoch: 06, loss: -0.94383\n",
      "epoch: 07, loss: -0.94687\n",
      "epoch: 08, loss: -0.94871\n",
      "epoch: 09, loss: -0.95081\n",
      "torch.Size([1024, 384])\n",
      "W_feat shape= (1024, 1024)\n"
     ]
    },
    {
     "name": "stderr",
     "output_type": "stream",
     "text": [
      "\r",
      "  4%|███████▏                                                                                                                                                                  | 42/999 [48:06<17:35:11, 66.16s/it]"
     ]
    },
    {
     "name": "stdout",
     "output_type": "stream",
     "text": [
      "eigenvalues shape torch.Size([15]) eigenvectors shape torch.Size([15, 1024])\n",
      "42 /home/phdcs2/Hard_Disk/Datasets/Deep-Spectral-Segmentation/data/object-segmentation/ECSSD/features/0044_resized.pth\n",
      "dict_keys(['k', 'indices', 'file', 'id', 'model_name', 'patch_size', 'shape'])\n",
      "0044_resized\n",
      "shape of w_feat_ds torch.Size([1024, 1024])\n",
      "z shape: torch.Size([1024, 384]) (1024, 384)\n",
      "Starting Training\n",
      "epoch: 00, loss: -0.91547\n",
      "epoch: 01, loss: -0.94727\n",
      "epoch: 02, loss: -0.95190\n",
      "epoch: 03, loss: -0.95278\n",
      "epoch: 04, loss: -0.95154\n",
      "epoch: 05, loss: -0.95113\n",
      "epoch: 06, loss: -0.95190\n",
      "epoch: 07, loss: -0.95327\n",
      "epoch: 08, loss: -0.95547\n",
      "epoch: 09, loss: -0.95713\n",
      "torch.Size([1024, 384])\n",
      "W_feat shape= (1024, 1024)\n"
     ]
    },
    {
     "name": "stderr",
     "output_type": "stream",
     "text": [
      "\r",
      "  4%|███████▎                                                                                                                                                                  | 43/999 [49:19<18:08:38, 68.32s/it]"
     ]
    },
    {
     "name": "stdout",
     "output_type": "stream",
     "text": [
      "eigenvalues shape torch.Size([15]) eigenvectors shape torch.Size([15, 1024])\n",
      "43 /home/phdcs2/Hard_Disk/Datasets/Deep-Spectral-Segmentation/data/object-segmentation/ECSSD/features/0045_resized.pth\n",
      "dict_keys(['k', 'indices', 'file', 'id', 'model_name', 'patch_size', 'shape'])\n",
      "0045_resized\n",
      "shape of w_feat_ds torch.Size([1024, 1024])\n",
      "z shape: torch.Size([1024, 384]) (1024, 384)\n",
      "Starting Training\n",
      "epoch: 00, loss: -0.91942\n",
      "epoch: 01, loss: -0.94381\n",
      "epoch: 02, loss: -0.94165\n",
      "epoch: 03, loss: -0.94078\n",
      "epoch: 04, loss: -0.94098\n",
      "epoch: 05, loss: -0.94326\n",
      "epoch: 06, loss: -0.94690\n",
      "epoch: 07, loss: -0.94941\n",
      "epoch: 08, loss: -0.95242\n",
      "epoch: 09, loss: -0.95470\n",
      "torch.Size([1024, 384])\n",
      "W_feat shape= (1024, 1024)\n"
     ]
    },
    {
     "name": "stderr",
     "output_type": "stream",
     "text": [
      "\r",
      "  4%|███████▍                                                                                                                                                                  | 44/999 [50:40<19:06:15, 72.02s/it]"
     ]
    },
    {
     "name": "stdout",
     "output_type": "stream",
     "text": [
      "eigenvalues shape torch.Size([15]) eigenvectors shape torch.Size([15, 1024])\n",
      "44 /home/phdcs2/Hard_Disk/Datasets/Deep-Spectral-Segmentation/data/object-segmentation/ECSSD/features/0046_resized.pth\n",
      "dict_keys(['k', 'indices', 'file', 'id', 'model_name', 'patch_size', 'shape'])\n",
      "0046_resized\n",
      "shape of w_feat_ds torch.Size([1024, 1024])\n",
      "z shape: torch.Size([1024, 384]) (1024, 384)\n",
      "Starting Training\n",
      "epoch: 00, loss: -0.84435\n",
      "epoch: 01, loss: -0.90030\n",
      "epoch: 02, loss: -0.91096\n",
      "epoch: 03, loss: -0.91353\n",
      "epoch: 04, loss: -0.91703\n",
      "epoch: 05, loss: -0.91713\n",
      "epoch: 06, loss: -0.91881\n",
      "epoch: 07, loss: -0.92081\n",
      "epoch: 08, loss: -0.92363\n",
      "epoch: 09, loss: -0.92592\n",
      "torch.Size([1024, 384])\n",
      "W_feat shape= (1024, 1024)\n"
     ]
    },
    {
     "name": "stderr",
     "output_type": "stream",
     "text": [
      "\r",
      "  5%|███████▋                                                                                                                                                                  | 45/999 [51:52<19:06:55, 72.13s/it]"
     ]
    },
    {
     "name": "stdout",
     "output_type": "stream",
     "text": [
      "eigenvalues shape torch.Size([15]) eigenvectors shape torch.Size([15, 1024])\n",
      "45 /home/phdcs2/Hard_Disk/Datasets/Deep-Spectral-Segmentation/data/object-segmentation/ECSSD/features/0047_resized.pth\n",
      "dict_keys(['k', 'indices', 'file', 'id', 'model_name', 'patch_size', 'shape'])\n",
      "0047_resized\n",
      "shape of w_feat_ds torch.Size([1024, 1024])\n",
      "z shape: torch.Size([1024, 384]) (1024, 384)\n",
      "Starting Training\n",
      "epoch: 00, loss: -0.92005\n",
      "epoch: 01, loss: -0.93860\n",
      "epoch: 02, loss: -0.93510\n",
      "epoch: 03, loss: -0.93550\n",
      "epoch: 04, loss: -0.94006\n",
      "epoch: 05, loss: -0.94300\n",
      "epoch: 06, loss: -0.94703\n",
      "epoch: 07, loss: -0.95085\n",
      "epoch: 08, loss: -0.95398\n",
      "epoch: 09, loss: -0.95634\n",
      "torch.Size([1024, 384])\n",
      "W_feat shape= (1024, 1024)\n"
     ]
    },
    {
     "name": "stderr",
     "output_type": "stream",
     "text": [
      "\r",
      "  5%|███████▊                                                                                                                                                                  | 46/999 [53:04<19:01:32, 71.87s/it]"
     ]
    },
    {
     "name": "stdout",
     "output_type": "stream",
     "text": [
      "eigenvalues shape torch.Size([15]) eigenvectors shape torch.Size([15, 1024])\n",
      "46 /home/phdcs2/Hard_Disk/Datasets/Deep-Spectral-Segmentation/data/object-segmentation/ECSSD/features/0048_resized.pth\n",
      "dict_keys(['k', 'indices', 'file', 'id', 'model_name', 'patch_size', 'shape'])\n",
      "0048_resized\n",
      "shape of w_feat_ds torch.Size([1024, 1024])\n",
      "z shape: torch.Size([1024, 384]) (1024, 384)\n",
      "Starting Training\n",
      "epoch: 00, loss: -0.91607\n",
      "epoch: 01, loss: -0.94355\n",
      "epoch: 02, loss: -0.94552\n",
      "epoch: 03, loss: -0.94689\n",
      "epoch: 04, loss: -0.94688\n",
      "epoch: 05, loss: -0.94619\n",
      "epoch: 06, loss: -0.94694\n",
      "epoch: 07, loss: -0.94819\n",
      "epoch: 08, loss: -0.94828\n",
      "epoch: 09, loss: -0.94903\n",
      "torch.Size([1024, 384])\n",
      "W_feat shape= (1024, 1024)\n"
     ]
    },
    {
     "name": "stderr",
     "output_type": "stream",
     "text": [
      "\r",
      "  5%|███████▉                                                                                                                                                                  | 47/999 [54:18<19:13:45, 72.72s/it]"
     ]
    },
    {
     "name": "stdout",
     "output_type": "stream",
     "text": [
      "eigenvalues shape torch.Size([15]) eigenvectors shape torch.Size([15, 1024])\n",
      "47 /home/phdcs2/Hard_Disk/Datasets/Deep-Spectral-Segmentation/data/object-segmentation/ECSSD/features/0049_resized.pth\n",
      "dict_keys(['k', 'indices', 'file', 'id', 'model_name', 'patch_size', 'shape'])\n",
      "0049_resized\n",
      "shape of w_feat_ds torch.Size([1024, 1024])\n",
      "z shape: torch.Size([1024, 384]) (1024, 384)\n",
      "Starting Training\n",
      "epoch: 00, loss: -0.91533\n",
      "epoch: 01, loss: -0.94338\n",
      "epoch: 02, loss: -0.94666\n",
      "epoch: 03, loss: -0.94729\n",
      "epoch: 04, loss: -0.94807\n",
      "epoch: 05, loss: -0.94796\n",
      "epoch: 06, loss: -0.94881\n",
      "epoch: 07, loss: -0.95022\n",
      "epoch: 08, loss: -0.95178\n",
      "epoch: 09, loss: -0.95364\n",
      "torch.Size([1024, 384])\n",
      "W_feat shape= (1024, 1024)\n"
     ]
    },
    {
     "name": "stderr",
     "output_type": "stream",
     "text": [
      "\r",
      "  5%|████████▏                                                                                                                                                                 | 48/999 [55:29<19:04:54, 72.23s/it]"
     ]
    },
    {
     "name": "stdout",
     "output_type": "stream",
     "text": [
      "eigenvalues shape torch.Size([15]) eigenvectors shape torch.Size([15, 1024])\n",
      "48 /home/phdcs2/Hard_Disk/Datasets/Deep-Spectral-Segmentation/data/object-segmentation/ECSSD/features/0050_resized.pth\n",
      "dict_keys(['k', 'indices', 'file', 'id', 'model_name', 'patch_size', 'shape'])\n",
      "0050_resized\n",
      "shape of w_feat_ds torch.Size([1024, 1024])\n",
      "z shape: torch.Size([1024, 384]) (1024, 384)\n",
      "Starting Training\n",
      "epoch: 00, loss: -0.84497\n",
      "epoch: 01, loss: -0.87775\n",
      "epoch: 02, loss: -0.89380\n",
      "epoch: 03, loss: -0.90811\n",
      "epoch: 04, loss: -0.91775\n",
      "epoch: 05, loss: -0.92466\n",
      "epoch: 06, loss: -0.93074\n",
      "epoch: 07, loss: -0.93588\n",
      "epoch: 08, loss: -0.93906\n",
      "epoch: 09, loss: -0.94297\n",
      "torch.Size([1024, 384])\n",
      "W_feat shape= (1024, 1024)\n"
     ]
    },
    {
     "name": "stderr",
     "output_type": "stream",
     "text": [
      "\r",
      "  5%|████████▎                                                                                                                                                                 | 49/999 [56:36<18:36:02, 70.49s/it]"
     ]
    },
    {
     "name": "stdout",
     "output_type": "stream",
     "text": [
      "eigenvalues shape torch.Size([15]) eigenvectors shape torch.Size([15, 1024])\n",
      "49 /home/phdcs2/Hard_Disk/Datasets/Deep-Spectral-Segmentation/data/object-segmentation/ECSSD/features/0051_resized.pth\n",
      "dict_keys(['k', 'indices', 'file', 'id', 'model_name', 'patch_size', 'shape'])\n",
      "0051_resized\n",
      "shape of w_feat_ds torch.Size([1024, 1024])\n",
      "z shape: torch.Size([1024, 384]) (1024, 384)\n",
      "Starting Training\n",
      "epoch: 00, loss: -0.83321\n",
      "epoch: 01, loss: -0.87701\n",
      "epoch: 02, loss: -0.87509\n",
      "epoch: 03, loss: -0.87726\n",
      "epoch: 04, loss: -0.88718\n",
      "epoch: 05, loss: -0.89401\n",
      "epoch: 06, loss: -0.90023\n",
      "epoch: 07, loss: -0.90678\n",
      "epoch: 08, loss: -0.91204\n",
      "epoch: 09, loss: -0.91698\n",
      "torch.Size([1024, 384])\n",
      "W_feat shape= (1024, 1024)\n"
     ]
    },
    {
     "name": "stderr",
     "output_type": "stream",
     "text": [
      "\r",
      "  5%|████████▌                                                                                                                                                                 | 50/999 [57:53<19:07:50, 72.57s/it]"
     ]
    },
    {
     "name": "stdout",
     "output_type": "stream",
     "text": [
      "eigenvalues shape torch.Size([15]) eigenvectors shape torch.Size([15, 1024])\n",
      "50 /home/phdcs2/Hard_Disk/Datasets/Deep-Spectral-Segmentation/data/object-segmentation/ECSSD/features/0052_resized.pth\n",
      "dict_keys(['k', 'indices', 'file', 'id', 'model_name', 'patch_size', 'shape'])\n",
      "0052_resized\n",
      "shape of w_feat_ds torch.Size([1024, 1024])\n",
      "z shape: torch.Size([1024, 384]) (1024, 384)\n",
      "Starting Training\n",
      "epoch: 00, loss: -0.84828\n",
      "epoch: 01, loss: -0.89324\n",
      "epoch: 02, loss: -0.89357\n",
      "epoch: 03, loss: -0.89665\n",
      "epoch: 04, loss: -0.90553\n",
      "epoch: 05, loss: -0.91504\n",
      "epoch: 06, loss: -0.92169\n",
      "epoch: 07, loss: -0.92767\n",
      "epoch: 08, loss: -0.93216\n",
      "epoch: 09, loss: -0.93570\n",
      "torch.Size([1024, 384])\n",
      "W_feat shape= (1024, 1024)\n"
     ]
    },
    {
     "name": "stderr",
     "output_type": "stream",
     "text": [
      "\r",
      "  5%|████████▋                                                                                                                                                                 | 51/999 [58:49<17:48:07, 67.60s/it]"
     ]
    },
    {
     "name": "stdout",
     "output_type": "stream",
     "text": [
      "eigenvalues shape torch.Size([15]) eigenvectors shape torch.Size([15, 1024])\n",
      "51 /home/phdcs2/Hard_Disk/Datasets/Deep-Spectral-Segmentation/data/object-segmentation/ECSSD/features/0053_resized.pth\n",
      "dict_keys(['k', 'indices', 'file', 'id', 'model_name', 'patch_size', 'shape'])\n",
      "0053_resized\n",
      "shape of w_feat_ds torch.Size([1024, 1024])\n",
      "z shape: torch.Size([1024, 384]) (1024, 384)\n",
      "Starting Training\n",
      "epoch: 00, loss: -0.84009\n",
      "epoch: 01, loss: -0.90295\n",
      "epoch: 02, loss: -0.91882\n",
      "epoch: 03, loss: -0.92716\n",
      "epoch: 04, loss: -0.93221\n",
      "epoch: 05, loss: -0.93562\n",
      "epoch: 06, loss: -0.93791\n",
      "epoch: 07, loss: -0.93895\n",
      "epoch: 08, loss: -0.93952\n",
      "epoch: 09, loss: -0.93972\n",
      "torch.Size([1024, 384])\n",
      "W_feat shape= (1024, 1024)\n"
     ]
    },
    {
     "name": "stderr",
     "output_type": "stream",
     "text": [
      "\r",
      "  5%|████████▊                                                                                                                                                                 | 52/999 [59:57<17:46:18, 67.56s/it]"
     ]
    },
    {
     "name": "stdout",
     "output_type": "stream",
     "text": [
      "eigenvalues shape torch.Size([15]) eigenvectors shape torch.Size([15, 1024])\n",
      "52 /home/phdcs2/Hard_Disk/Datasets/Deep-Spectral-Segmentation/data/object-segmentation/ECSSD/features/0054_resized.pth\n",
      "dict_keys(['k', 'indices', 'file', 'id', 'model_name', 'patch_size', 'shape'])\n",
      "0054_resized\n",
      "shape of w_feat_ds torch.Size([1024, 1024])\n",
      "z shape: torch.Size([1024, 384]) (1024, 384)\n",
      "Starting Training\n",
      "epoch: 00, loss: -0.90919\n",
      "epoch: 01, loss: -0.93987\n",
      "epoch: 02, loss: -0.94386\n",
      "epoch: 03, loss: -0.94481\n",
      "epoch: 04, loss: -0.94507\n",
      "epoch: 05, loss: -0.94523\n",
      "epoch: 06, loss: -0.94488\n",
      "epoch: 07, loss: -0.94462\n",
      "epoch: 08, loss: -0.94522\n",
      "epoch: 09, loss: -0.94525\n",
      "torch.Size([1024, 384])\n",
      "W_feat shape= (1024, 1024)\n"
     ]
    },
    {
     "name": "stderr",
     "output_type": "stream",
     "text": [
      "\r",
      "  5%|████████▉                                                                                                                                                               | 53/999 [1:01:02<17:34:51, 66.90s/it]"
     ]
    },
    {
     "name": "stdout",
     "output_type": "stream",
     "text": [
      "eigenvalues shape torch.Size([15]) eigenvectors shape torch.Size([15, 1024])\n",
      "53 /home/phdcs2/Hard_Disk/Datasets/Deep-Spectral-Segmentation/data/object-segmentation/ECSSD/features/0055_resized.pth\n",
      "dict_keys(['k', 'indices', 'file', 'id', 'model_name', 'patch_size', 'shape'])\n",
      "0055_resized\n",
      "shape of w_feat_ds torch.Size([1024, 1024])\n",
      "z shape: torch.Size([1024, 384]) (1024, 384)\n",
      "Starting Training\n",
      "epoch: 00, loss: -0.85828\n",
      "epoch: 01, loss: -0.88643\n",
      "epoch: 02, loss: -0.88077\n",
      "epoch: 03, loss: -0.88351\n",
      "epoch: 04, loss: -0.88941\n",
      "epoch: 05, loss: -0.89771\n",
      "epoch: 06, loss: -0.90067\n",
      "epoch: 07, loss: -0.90683\n",
      "epoch: 08, loss: -0.91192\n",
      "epoch: 09, loss: -0.91634\n",
      "torch.Size([1024, 384])\n",
      "W_feat shape= (1024, 1024)\n"
     ]
    },
    {
     "name": "stderr",
     "output_type": "stream",
     "text": [
      "\r",
      "  5%|█████████                                                                                                                                                               | 54/999 [1:02:15<18:01:17, 68.65s/it]"
     ]
    },
    {
     "name": "stdout",
     "output_type": "stream",
     "text": [
      "eigenvalues shape torch.Size([15]) eigenvectors shape torch.Size([15, 1024])\n",
      "54 /home/phdcs2/Hard_Disk/Datasets/Deep-Spectral-Segmentation/data/object-segmentation/ECSSD/features/0056_resized.pth\n",
      "dict_keys(['k', 'indices', 'file', 'id', 'model_name', 'patch_size', 'shape'])\n",
      "0056_resized\n",
      "shape of w_feat_ds torch.Size([1024, 1024])\n",
      "z shape: torch.Size([1024, 384]) (1024, 384)\n",
      "Starting Training\n",
      "epoch: 00, loss: -0.83901\n",
      "epoch: 01, loss: -0.90354\n",
      "epoch: 02, loss: -0.91935\n",
      "epoch: 03, loss: -0.92806\n",
      "epoch: 04, loss: -0.93333\n",
      "epoch: 05, loss: -0.93699\n",
      "epoch: 06, loss: -0.93937\n",
      "epoch: 07, loss: -0.94114\n",
      "epoch: 08, loss: -0.94208\n",
      "epoch: 09, loss: -0.94312\n",
      "torch.Size([1024, 384])\n",
      "W_feat shape= (1024, 1024)\n"
     ]
    },
    {
     "name": "stderr",
     "output_type": "stream",
     "text": [
      "\r",
      "  6%|█████████▏                                                                                                                                                              | 55/999 [1:03:22<17:54:21, 68.29s/it]"
     ]
    },
    {
     "name": "stdout",
     "output_type": "stream",
     "text": [
      "eigenvalues shape torch.Size([15]) eigenvectors shape torch.Size([15, 1024])\n",
      "55 /home/phdcs2/Hard_Disk/Datasets/Deep-Spectral-Segmentation/data/object-segmentation/ECSSD/features/0057_resized.pth\n",
      "dict_keys(['k', 'indices', 'file', 'id', 'model_name', 'patch_size', 'shape'])\n",
      "0057_resized\n",
      "shape of w_feat_ds torch.Size([1024, 1024])\n",
      "z shape: torch.Size([1024, 384]) (1024, 384)\n",
      "Starting Training\n",
      "epoch: 00, loss: -0.84544\n",
      "epoch: 01, loss: -0.90355\n",
      "epoch: 02, loss: -0.91514\n",
      "epoch: 03, loss: -0.91960\n",
      "epoch: 04, loss: -0.92055\n",
      "epoch: 05, loss: -0.92146\n",
      "epoch: 06, loss: -0.92046\n",
      "epoch: 07, loss: -0.92086\n",
      "epoch: 08, loss: -0.92162\n",
      "epoch: 09, loss: -0.92223\n",
      "torch.Size([1024, 384])\n",
      "W_feat shape= (1024, 1024)\n"
     ]
    },
    {
     "name": "stderr",
     "output_type": "stream",
     "text": [
      "\r",
      "  6%|█████████▍                                                                                                                                                              | 56/999 [1:04:29<17:47:22, 67.91s/it]"
     ]
    },
    {
     "name": "stdout",
     "output_type": "stream",
     "text": [
      "eigenvalues shape torch.Size([15]) eigenvectors shape torch.Size([15, 1024])\n",
      "56 /home/phdcs2/Hard_Disk/Datasets/Deep-Spectral-Segmentation/data/object-segmentation/ECSSD/features/0058_resized.pth\n",
      "dict_keys(['k', 'indices', 'file', 'id', 'model_name', 'patch_size', 'shape'])\n",
      "0058_resized\n",
      "shape of w_feat_ds torch.Size([1024, 1024])\n",
      "z shape: torch.Size([1024, 384]) (1024, 384)\n",
      "Starting Training\n",
      "epoch: 00, loss: -0.90839\n",
      "epoch: 01, loss: -0.94061\n",
      "epoch: 02, loss: -0.94534\n",
      "epoch: 03, loss: -0.94604\n",
      "epoch: 04, loss: -0.94755\n",
      "epoch: 05, loss: -0.94835\n",
      "epoch: 06, loss: -0.95000\n",
      "epoch: 07, loss: -0.94965\n",
      "epoch: 08, loss: -0.94968\n",
      "epoch: 09, loss: -0.95142\n",
      "torch.Size([1024, 384])\n",
      "W_feat shape= (1024, 1024)\n"
     ]
    },
    {
     "name": "stderr",
     "output_type": "stream",
     "text": [
      "\r",
      "  6%|█████████▌                                                                                                                                                              | 57/999 [1:05:41<18:03:42, 69.03s/it]"
     ]
    },
    {
     "name": "stdout",
     "output_type": "stream",
     "text": [
      "eigenvalues shape torch.Size([15]) eigenvectors shape torch.Size([15, 1024])\n",
      "57 /home/phdcs2/Hard_Disk/Datasets/Deep-Spectral-Segmentation/data/object-segmentation/ECSSD/features/0059_resized.pth\n",
      "dict_keys(['k', 'indices', 'file', 'id', 'model_name', 'patch_size', 'shape'])\n",
      "0059_resized\n",
      "shape of w_feat_ds torch.Size([1024, 1024])\n",
      "z shape: torch.Size([1024, 384]) (1024, 384)\n",
      "Starting Training\n",
      "epoch: 00, loss: -0.84040\n",
      "epoch: 01, loss: -0.89534\n",
      "epoch: 02, loss: -0.90284\n",
      "epoch: 03, loss: -0.90317\n",
      "epoch: 04, loss: -0.90435\n",
      "epoch: 05, loss: -0.90372\n",
      "epoch: 06, loss: -0.90709\n",
      "epoch: 07, loss: -0.90949\n",
      "epoch: 08, loss: -0.91415\n",
      "epoch: 09, loss: -0.91891\n",
      "torch.Size([1024, 384])\n",
      "W_feat shape= (1024, 1024)\n"
     ]
    },
    {
     "name": "stderr",
     "output_type": "stream",
     "text": [
      "\r",
      "  6%|█████████▊                                                                                                                                                              | 58/999 [1:06:56<18:30:19, 70.80s/it]"
     ]
    },
    {
     "name": "stdout",
     "output_type": "stream",
     "text": [
      "eigenvalues shape torch.Size([15]) eigenvectors shape torch.Size([15, 1024])\n",
      "58 /home/phdcs2/Hard_Disk/Datasets/Deep-Spectral-Segmentation/data/object-segmentation/ECSSD/features/0060_resized.pth\n",
      "dict_keys(['k', 'indices', 'file', 'id', 'model_name', 'patch_size', 'shape'])\n",
      "0060_resized\n",
      "shape of w_feat_ds torch.Size([1024, 1024])\n",
      "z shape: torch.Size([1024, 384]) (1024, 384)\n",
      "Starting Training\n",
      "epoch: 00, loss: -0.91634\n",
      "epoch: 01, loss: -0.93371\n",
      "epoch: 02, loss: -0.93333\n",
      "epoch: 03, loss: -0.93615\n",
      "epoch: 04, loss: -0.94298\n",
      "epoch: 05, loss: -0.94796\n",
      "epoch: 06, loss: -0.95211\n",
      "epoch: 07, loss: -0.95563\n",
      "epoch: 08, loss: -0.95811\n",
      "epoch: 09, loss: -0.96009\n",
      "torch.Size([1024, 384])\n",
      "W_feat shape= (1024, 1024)\n"
     ]
    },
    {
     "name": "stderr",
     "output_type": "stream",
     "text": [
      "\r",
      "  6%|█████████▉                                                                                                                                                              | 59/999 [1:07:47<16:58:18, 65.00s/it]"
     ]
    },
    {
     "name": "stdout",
     "output_type": "stream",
     "text": [
      "eigenvalues shape torch.Size([15]) eigenvectors shape torch.Size([15, 1024])\n",
      "59 /home/phdcs2/Hard_Disk/Datasets/Deep-Spectral-Segmentation/data/object-segmentation/ECSSD/features/0061_resized.pth\n",
      "dict_keys(['k', 'indices', 'file', 'id', 'model_name', 'patch_size', 'shape'])\n",
      "0061_resized\n",
      "shape of w_feat_ds torch.Size([1024, 1024])\n",
      "z shape: torch.Size([1024, 384]) (1024, 384)\n",
      "Starting Training\n",
      "epoch: 00, loss: -0.90758\n",
      "epoch: 01, loss: -0.93795\n",
      "epoch: 02, loss: -0.94416\n",
      "epoch: 03, loss: -0.94602\n",
      "epoch: 04, loss: -0.94832\n",
      "epoch: 05, loss: -0.94889\n",
      "epoch: 06, loss: -0.94949\n",
      "epoch: 07, loss: -0.94968\n",
      "epoch: 08, loss: -0.94945\n",
      "epoch: 09, loss: -0.95006\n",
      "torch.Size([1024, 384])\n",
      "W_feat shape= (1024, 1024)\n"
     ]
    },
    {
     "name": "stderr",
     "output_type": "stream",
     "text": [
      "\r",
      "  6%|██████████                                                                                                                                                              | 60/999 [1:08:59<17:27:52, 66.96s/it]"
     ]
    },
    {
     "name": "stdout",
     "output_type": "stream",
     "text": [
      "eigenvalues shape torch.Size([15]) eigenvectors shape torch.Size([15, 1024])\n",
      "60 /home/phdcs2/Hard_Disk/Datasets/Deep-Spectral-Segmentation/data/object-segmentation/ECSSD/features/0062_resized.pth\n",
      "dict_keys(['k', 'indices', 'file', 'id', 'model_name', 'patch_size', 'shape'])\n",
      "0062_resized\n",
      "shape of w_feat_ds torch.Size([1024, 1024])\n",
      "z shape: torch.Size([1024, 384]) (1024, 384)\n",
      "Starting Training\n",
      "epoch: 00, loss: -0.85587\n",
      "epoch: 01, loss: -0.90670\n",
      "epoch: 02, loss: -0.91506\n",
      "epoch: 03, loss: -0.91625\n",
      "epoch: 04, loss: -0.91670\n",
      "epoch: 05, loss: -0.91830\n",
      "epoch: 06, loss: -0.91864\n",
      "epoch: 07, loss: -0.92174\n",
      "epoch: 08, loss: -0.92459\n",
      "epoch: 09, loss: -0.92712\n",
      "torch.Size([1024, 384])\n",
      "W_feat shape= (1024, 1024)\n"
     ]
    },
    {
     "name": "stderr",
     "output_type": "stream",
     "text": [
      "\r",
      "  6%|██████████▎                                                                                                                                                             | 61/999 [1:09:58<16:52:02, 64.74s/it]"
     ]
    },
    {
     "name": "stdout",
     "output_type": "stream",
     "text": [
      "eigenvalues shape torch.Size([15]) eigenvectors shape torch.Size([15, 1024])\n",
      "61 /home/phdcs2/Hard_Disk/Datasets/Deep-Spectral-Segmentation/data/object-segmentation/ECSSD/features/0063_resized.pth\n",
      "dict_keys(['k', 'indices', 'file', 'id', 'model_name', 'patch_size', 'shape'])\n",
      "0063_resized\n",
      "shape of w_feat_ds torch.Size([1024, 1024])\n",
      "z shape: torch.Size([1024, 384]) (1024, 384)\n",
      "Starting Training\n",
      "epoch: 00, loss: -0.85694\n",
      "epoch: 01, loss: -0.90474\n",
      "epoch: 02, loss: -0.91131\n",
      "epoch: 03, loss: -0.91478\n",
      "epoch: 04, loss: -0.91462\n",
      "epoch: 05, loss: -0.91714\n",
      "epoch: 06, loss: -0.91970\n",
      "epoch: 07, loss: -0.92178\n",
      "epoch: 08, loss: -0.92495\n",
      "epoch: 09, loss: -0.92813\n",
      "torch.Size([1024, 384])\n",
      "W_feat shape= (1024, 1024)\n"
     ]
    },
    {
     "name": "stderr",
     "output_type": "stream",
     "text": [
      "\r",
      "  6%|██████████▍                                                                                                                                                             | 62/999 [1:11:08<17:12:38, 66.12s/it]"
     ]
    },
    {
     "name": "stdout",
     "output_type": "stream",
     "text": [
      "eigenvalues shape torch.Size([15]) eigenvectors shape torch.Size([15, 1024])\n",
      "62 /home/phdcs2/Hard_Disk/Datasets/Deep-Spectral-Segmentation/data/object-segmentation/ECSSD/features/0064_resized.pth\n",
      "dict_keys(['k', 'indices', 'file', 'id', 'model_name', 'patch_size', 'shape'])\n",
      "0064_resized\n",
      "shape of w_feat_ds torch.Size([1024, 1024])\n",
      "z shape: torch.Size([1024, 384]) (1024, 384)\n",
      "Starting Training\n",
      "epoch: 00, loss: -0.84816\n",
      "epoch: 01, loss: -0.90641\n",
      "epoch: 02, loss: -0.91967\n",
      "epoch: 03, loss: -0.92654\n",
      "epoch: 04, loss: -0.93016\n",
      "epoch: 05, loss: -0.93245\n",
      "epoch: 06, loss: -0.93335\n",
      "epoch: 07, loss: -0.93422\n",
      "epoch: 08, loss: -0.93465\n",
      "epoch: 09, loss: -0.93517\n",
      "torch.Size([1024, 384])\n",
      "W_feat shape= (1024, 1024)\n"
     ]
    },
    {
     "name": "stderr",
     "output_type": "stream",
     "text": [
      "\r",
      "  6%|██████████▌                                                                                                                                                             | 63/999 [1:12:14<17:13:01, 66.22s/it]"
     ]
    },
    {
     "name": "stdout",
     "output_type": "stream",
     "text": [
      "eigenvalues shape torch.Size([15]) eigenvectors shape torch.Size([15, 1024])\n",
      "63 /home/phdcs2/Hard_Disk/Datasets/Deep-Spectral-Segmentation/data/object-segmentation/ECSSD/features/0065_resized.pth\n",
      "dict_keys(['k', 'indices', 'file', 'id', 'model_name', 'patch_size', 'shape'])\n",
      "0065_resized\n",
      "shape of w_feat_ds torch.Size([1024, 1024])\n",
      "z shape: torch.Size([1024, 384]) (1024, 384)\n",
      "Starting Training\n",
      "epoch: 00, loss: -0.90312\n",
      "epoch: 01, loss: -0.94130\n",
      "epoch: 02, loss: -0.94933\n",
      "epoch: 03, loss: -0.95318\n",
      "epoch: 04, loss: -0.95527\n",
      "epoch: 05, loss: -0.95606\n",
      "epoch: 06, loss: -0.95603\n",
      "epoch: 07, loss: -0.95585\n",
      "epoch: 08, loss: -0.95481\n",
      "epoch: 09, loss: -0.95411\n",
      "torch.Size([1024, 384])\n",
      "W_feat shape= (1024, 1024)\n"
     ]
    },
    {
     "name": "stderr",
     "output_type": "stream",
     "text": [
      "\r",
      "  6%|██████████▊                                                                                                                                                             | 64/999 [1:13:26<17:36:15, 67.78s/it]"
     ]
    },
    {
     "name": "stdout",
     "output_type": "stream",
     "text": [
      "eigenvalues shape torch.Size([15]) eigenvectors shape torch.Size([15, 1024])\n",
      "64 /home/phdcs2/Hard_Disk/Datasets/Deep-Spectral-Segmentation/data/object-segmentation/ECSSD/features/0066_resized.pth\n",
      "dict_keys(['k', 'indices', 'file', 'id', 'model_name', 'patch_size', 'shape'])\n",
      "0066_resized\n",
      "shape of w_feat_ds torch.Size([1024, 1024])\n",
      "z shape: torch.Size([1024, 384]) (1024, 384)\n",
      "Starting Training\n",
      "epoch: 00, loss: -0.85738\n",
      "epoch: 01, loss: -0.88613\n",
      "epoch: 02, loss: -0.88872\n",
      "epoch: 03, loss: -0.89789\n",
      "epoch: 04, loss: -0.90492\n",
      "epoch: 05, loss: -0.91154\n",
      "epoch: 06, loss: -0.91669\n",
      "epoch: 07, loss: -0.92136\n",
      "epoch: 08, loss: -0.92560\n",
      "epoch: 09, loss: -0.92890\n",
      "torch.Size([1024, 384])\n",
      "W_feat shape= (1024, 1024)\n"
     ]
    },
    {
     "name": "stderr",
     "output_type": "stream",
     "text": [
      "\r",
      "  7%|██████████▉                                                                                                                                                             | 65/999 [1:14:30<17:20:23, 66.83s/it]"
     ]
    },
    {
     "name": "stdout",
     "output_type": "stream",
     "text": [
      "eigenvalues shape torch.Size([15]) eigenvectors shape torch.Size([15, 1024])\n",
      "65 /home/phdcs2/Hard_Disk/Datasets/Deep-Spectral-Segmentation/data/object-segmentation/ECSSD/features/0067_resized.pth\n",
      "dict_keys(['k', 'indices', 'file', 'id', 'model_name', 'patch_size', 'shape'])\n",
      "0067_resized\n",
      "shape of w_feat_ds torch.Size([1024, 1024])\n",
      "z shape: torch.Size([1024, 384]) (1024, 384)\n",
      "Starting Training\n",
      "epoch: 00, loss: -0.85312\n",
      "epoch: 01, loss: -0.90810\n",
      "epoch: 02, loss: -0.91774\n",
      "epoch: 03, loss: -0.92053\n",
      "epoch: 04, loss: -0.91939\n",
      "epoch: 05, loss: -0.91575\n",
      "epoch: 06, loss: -0.91728\n",
      "epoch: 07, loss: -0.91778\n",
      "epoch: 08, loss: -0.92045\n",
      "epoch: 09, loss: -0.92222\n",
      "torch.Size([1024, 384])\n",
      "W_feat shape= (1024, 1024)\n"
     ]
    },
    {
     "name": "stderr",
     "output_type": "stream",
     "text": [
      "\r",
      "  7%|███████████                                                                                                                                                             | 66/999 [1:15:47<18:05:38, 69.82s/it]"
     ]
    },
    {
     "name": "stdout",
     "output_type": "stream",
     "text": [
      "eigenvalues shape torch.Size([15]) eigenvectors shape torch.Size([15, 1024])\n",
      "66 /home/phdcs2/Hard_Disk/Datasets/Deep-Spectral-Segmentation/data/object-segmentation/ECSSD/features/0068_resized.pth\n",
      "dict_keys(['k', 'indices', 'file', 'id', 'model_name', 'patch_size', 'shape'])\n",
      "0068_resized\n",
      "shape of w_feat_ds torch.Size([1024, 1024])\n",
      "z shape: torch.Size([1024, 384]) (1024, 384)\n",
      "Starting Training\n",
      "epoch: 00, loss: -0.91401\n",
      "epoch: 01, loss: -0.94275\n",
      "epoch: 02, loss: -0.94642\n",
      "epoch: 03, loss: -0.94684\n",
      "epoch: 04, loss: -0.94704\n",
      "epoch: 05, loss: -0.94785\n",
      "epoch: 06, loss: -0.94790\n",
      "epoch: 07, loss: -0.94943\n",
      "epoch: 08, loss: -0.95113\n",
      "epoch: 09, loss: -0.95273\n",
      "torch.Size([1024, 384])\n",
      "W_feat shape= (1024, 1024)\n"
     ]
    },
    {
     "name": "stderr",
     "output_type": "stream",
     "text": [
      "\r",
      "  7%|███████████▎                                                                                                                                                            | 67/999 [1:16:54<17:52:52, 69.07s/it]"
     ]
    },
    {
     "name": "stdout",
     "output_type": "stream",
     "text": [
      "eigenvalues shape torch.Size([15]) eigenvectors shape torch.Size([15, 1024])\n",
      "67 /home/phdcs2/Hard_Disk/Datasets/Deep-Spectral-Segmentation/data/object-segmentation/ECSSD/features/0069_resized.pth\n",
      "dict_keys(['k', 'indices', 'file', 'id', 'model_name', 'patch_size', 'shape'])\n",
      "0069_resized\n",
      "shape of w_feat_ds torch.Size([1024, 1024])\n",
      "z shape: torch.Size([1024, 384]) (1024, 384)\n",
      "Starting Training\n",
      "epoch: 00, loss: -0.91818\n",
      "epoch: 01, loss: -0.93379\n",
      "epoch: 02, loss: -0.93479\n",
      "epoch: 03, loss: -0.94070\n",
      "epoch: 04, loss: -0.94698\n",
      "epoch: 05, loss: -0.95083\n",
      "epoch: 06, loss: -0.95466\n",
      "epoch: 07, loss: -0.95683\n",
      "epoch: 08, loss: -0.95879\n",
      "epoch: 09, loss: -0.96071\n",
      "torch.Size([1024, 384])\n",
      "W_feat shape= (1024, 1024)\n"
     ]
    },
    {
     "name": "stderr",
     "output_type": "stream",
     "text": [
      "\r",
      "  7%|███████████▍                                                                                                                                                            | 68/999 [1:18:03<17:49:49, 68.95s/it]"
     ]
    },
    {
     "name": "stdout",
     "output_type": "stream",
     "text": [
      "eigenvalues shape torch.Size([15]) eigenvectors shape torch.Size([15, 1024])\n",
      "68 /home/phdcs2/Hard_Disk/Datasets/Deep-Spectral-Segmentation/data/object-segmentation/ECSSD/features/0070_resized.pth\n",
      "dict_keys(['k', 'indices', 'file', 'id', 'model_name', 'patch_size', 'shape'])\n",
      "0070_resized\n",
      "shape of w_feat_ds torch.Size([1024, 1024])\n",
      "z shape: torch.Size([1024, 384]) (1024, 384)\n",
      "Starting Training\n",
      "epoch: 00, loss: -0.90837\n",
      "epoch: 01, loss: -0.93914\n",
      "epoch: 02, loss: -0.94531\n",
      "epoch: 03, loss: -0.94770\n",
      "epoch: 04, loss: -0.94851\n",
      "epoch: 05, loss: -0.94921\n",
      "epoch: 06, loss: -0.94894\n",
      "epoch: 07, loss: -0.94963\n",
      "epoch: 08, loss: -0.94909\n",
      "epoch: 09, loss: -0.94888\n",
      "torch.Size([1024, 384])\n",
      "W_feat shape= (1024, 1024)\n"
     ]
    },
    {
     "name": "stderr",
     "output_type": "stream",
     "text": [
      "\r",
      "  7%|███████████▌                                                                                                                                                            | 69/999 [1:19:10<17:40:32, 68.42s/it]"
     ]
    },
    {
     "name": "stdout",
     "output_type": "stream",
     "text": [
      "eigenvalues shape torch.Size([15]) eigenvectors shape torch.Size([15, 1024])\n",
      "69 /home/phdcs2/Hard_Disk/Datasets/Deep-Spectral-Segmentation/data/object-segmentation/ECSSD/features/0071_resized.pth\n",
      "dict_keys(['k', 'indices', 'file', 'id', 'model_name', 'patch_size', 'shape'])\n",
      "0071_resized\n",
      "shape of w_feat_ds torch.Size([1024, 1024])\n",
      "z shape: torch.Size([1024, 384]) (1024, 384)\n",
      "Starting Training\n",
      "epoch: 00, loss: -0.84405\n",
      "epoch: 01, loss: -0.90406\n",
      "epoch: 02, loss: -0.91797\n",
      "epoch: 03, loss: -0.92449\n",
      "epoch: 04, loss: -0.92865\n",
      "epoch: 05, loss: -0.92976\n",
      "epoch: 06, loss: -0.93081\n",
      "epoch: 07, loss: -0.93109\n",
      "epoch: 08, loss: -0.93199\n",
      "epoch: 09, loss: -0.93178\n",
      "torch.Size([1024, 384])\n",
      "W_feat shape= (1024, 1024)\n"
     ]
    },
    {
     "name": "stderr",
     "output_type": "stream",
     "text": [
      "\r",
      "  7%|███████████▊                                                                                                                                                            | 70/999 [1:20:22<17:56:08, 69.50s/it]"
     ]
    },
    {
     "name": "stdout",
     "output_type": "stream",
     "text": [
      "eigenvalues shape torch.Size([15]) eigenvectors shape torch.Size([15, 1024])\n",
      "70 /home/phdcs2/Hard_Disk/Datasets/Deep-Spectral-Segmentation/data/object-segmentation/ECSSD/features/0072_resized.pth\n",
      "dict_keys(['k', 'indices', 'file', 'id', 'model_name', 'patch_size', 'shape'])\n",
      "0072_resized\n",
      "shape of w_feat_ds torch.Size([1024, 1024])\n",
      "z shape: torch.Size([1024, 384]) (1024, 384)\n",
      "Starting Training\n",
      "epoch: 00, loss: -0.90723\n",
      "epoch: 01, loss: -0.93901\n",
      "epoch: 02, loss: -0.94540\n",
      "epoch: 03, loss: -0.94673\n",
      "epoch: 04, loss: -0.94895\n",
      "epoch: 05, loss: -0.94895\n",
      "epoch: 06, loss: -0.94944\n",
      "epoch: 07, loss: -0.95041\n",
      "epoch: 08, loss: -0.94926\n",
      "epoch: 09, loss: -0.94919\n",
      "torch.Size([1024, 384])\n",
      "W_feat shape= (1024, 1024)\n"
     ]
    },
    {
     "name": "stderr",
     "output_type": "stream",
     "text": [
      "\r",
      "  7%|███████████▉                                                                                                                                                            | 71/999 [1:21:46<19:01:55, 73.83s/it]"
     ]
    },
    {
     "name": "stdout",
     "output_type": "stream",
     "text": [
      "eigenvalues shape torch.Size([15]) eigenvectors shape torch.Size([15, 1024])\n",
      "71 /home/phdcs2/Hard_Disk/Datasets/Deep-Spectral-Segmentation/data/object-segmentation/ECSSD/features/0073_resized.pth\n",
      "dict_keys(['k', 'indices', 'file', 'id', 'model_name', 'patch_size', 'shape'])\n",
      "0073_resized\n",
      "shape of w_feat_ds torch.Size([1024, 1024])\n",
      "z shape: torch.Size([1024, 384]) (1024, 384)\n",
      "Starting Training\n",
      "epoch: 00, loss: -0.91816\n",
      "epoch: 01, loss: -0.93266\n",
      "epoch: 02, loss: -0.93018\n",
      "epoch: 03, loss: -0.93338\n",
      "epoch: 04, loss: -0.93748\n",
      "epoch: 05, loss: -0.94280\n",
      "epoch: 06, loss: -0.94822\n",
      "epoch: 07, loss: -0.95146\n",
      "epoch: 08, loss: -0.95431\n",
      "epoch: 09, loss: -0.95694\n",
      "torch.Size([1024, 384])\n",
      "W_feat shape= (1024, 1024)\n"
     ]
    },
    {
     "name": "stderr",
     "output_type": "stream",
     "text": [
      "\r",
      "  7%|████████████                                                                                                                                                            | 72/999 [1:22:57<18:47:15, 72.96s/it]"
     ]
    },
    {
     "name": "stdout",
     "output_type": "stream",
     "text": [
      "eigenvalues shape torch.Size([15]) eigenvectors shape torch.Size([15, 1024])\n",
      "72 /home/phdcs2/Hard_Disk/Datasets/Deep-Spectral-Segmentation/data/object-segmentation/ECSSD/features/0074_resized.pth\n",
      "dict_keys(['k', 'indices', 'file', 'id', 'model_name', 'patch_size', 'shape'])\n",
      "0074_resized\n",
      "shape of w_feat_ds torch.Size([1024, 1024])\n",
      "z shape: torch.Size([1024, 384]) (1024, 384)\n",
      "Starting Training\n",
      "epoch: 00, loss: -0.84322\n",
      "epoch: 01, loss: -0.90563\n",
      "epoch: 02, loss: -0.92071\n",
      "epoch: 03, loss: -0.92896\n",
      "epoch: 04, loss: -0.93382\n",
      "epoch: 05, loss: -0.93688\n",
      "epoch: 06, loss: -0.93886\n",
      "epoch: 07, loss: -0.94016\n",
      "epoch: 08, loss: -0.94048\n",
      "epoch: 09, loss: -0.94073\n",
      "torch.Size([1024, 384])\n",
      "W_feat shape= (1024, 1024)\n"
     ]
    },
    {
     "name": "stderr",
     "output_type": "stream",
     "text": [
      "\r",
      "  7%|████████████▎                                                                                                                                                           | 73/999 [1:24:17<19:19:34, 75.13s/it]"
     ]
    },
    {
     "name": "stdout",
     "output_type": "stream",
     "text": [
      "eigenvalues shape torch.Size([15]) eigenvectors shape torch.Size([15, 1024])\n",
      "73 /home/phdcs2/Hard_Disk/Datasets/Deep-Spectral-Segmentation/data/object-segmentation/ECSSD/features/0075_resized.pth\n",
      "dict_keys(['k', 'indices', 'file', 'id', 'model_name', 'patch_size', 'shape'])\n",
      "0075_resized\n",
      "shape of w_feat_ds torch.Size([1024, 1024])\n",
      "z shape: torch.Size([1024, 384]) (1024, 384)\n",
      "Starting Training\n",
      "epoch: 00, loss: -0.85630\n",
      "epoch: 01, loss: -0.90705\n",
      "epoch: 02, loss: -0.91812\n",
      "epoch: 03, loss: -0.92340\n",
      "epoch: 04, loss: -0.92429\n",
      "epoch: 05, loss: -0.92519\n",
      "epoch: 06, loss: -0.92599\n",
      "epoch: 07, loss: -0.92436\n",
      "epoch: 08, loss: -0.92393\n",
      "epoch: 09, loss: -0.92284\n",
      "torch.Size([1024, 384])\n",
      "W_feat shape= (1024, 1024)\n"
     ]
    },
    {
     "name": "stderr",
     "output_type": "stream",
     "text": [
      "\r",
      "  7%|████████████▍                                                                                                                                                           | 74/999 [1:25:29<19:00:04, 73.95s/it]"
     ]
    },
    {
     "name": "stdout",
     "output_type": "stream",
     "text": [
      "eigenvalues shape torch.Size([15]) eigenvectors shape torch.Size([15, 1024])\n",
      "74 /home/phdcs2/Hard_Disk/Datasets/Deep-Spectral-Segmentation/data/object-segmentation/ECSSD/features/0076_resized.pth\n",
      "dict_keys(['k', 'indices', 'file', 'id', 'model_name', 'patch_size', 'shape'])\n",
      "0076_resized\n",
      "shape of w_feat_ds torch.Size([1024, 1024])\n",
      "z shape: torch.Size([1024, 384]) (1024, 384)\n",
      "Starting Training\n",
      "epoch: 00, loss: -0.90619\n",
      "epoch: 01, loss: -0.93654\n",
      "epoch: 02, loss: -0.93952\n",
      "epoch: 03, loss: -0.93953\n",
      "epoch: 04, loss: -0.94107\n",
      "epoch: 05, loss: -0.94249\n",
      "epoch: 06, loss: -0.94533\n",
      "epoch: 07, loss: -0.94797\n",
      "epoch: 08, loss: -0.94988\n",
      "epoch: 09, loss: -0.95231\n",
      "torch.Size([1024, 384])\n",
      "W_feat shape= (1024, 1024)\n"
     ]
    },
    {
     "name": "stderr",
     "output_type": "stream",
     "text": [
      "\r",
      "  8%|████████████▌                                                                                                                                                           | 75/999 [1:26:34<18:18:56, 71.36s/it]"
     ]
    },
    {
     "name": "stdout",
     "output_type": "stream",
     "text": [
      "eigenvalues shape torch.Size([15]) eigenvectors shape torch.Size([15, 1024])\n",
      "75 /home/phdcs2/Hard_Disk/Datasets/Deep-Spectral-Segmentation/data/object-segmentation/ECSSD/features/0077_resized.pth\n",
      "dict_keys(['k', 'indices', 'file', 'id', 'model_name', 'patch_size', 'shape'])\n",
      "0077_resized\n",
      "shape of w_feat_ds torch.Size([1024, 1024])\n",
      "z shape: torch.Size([1024, 384]) (1024, 384)\n",
      "Starting Training\n",
      "epoch: 00, loss: -0.86425\n",
      "epoch: 01, loss: -0.91133\n",
      "epoch: 02, loss: -0.91658\n",
      "epoch: 03, loss: -0.91629\n",
      "epoch: 04, loss: -0.91475\n",
      "epoch: 05, loss: -0.91578\n",
      "epoch: 06, loss: -0.91860\n",
      "epoch: 07, loss: -0.92155\n",
      "epoch: 08, loss: -0.92606\n",
      "epoch: 09, loss: -0.92942\n",
      "torch.Size([1024, 384])\n",
      "W_feat shape= (1024, 1024)\n"
     ]
    },
    {
     "name": "stderr",
     "output_type": "stream",
     "text": [
      "\r",
      "  8%|████████████▊                                                                                                                                                           | 76/999 [1:27:38<17:46:23, 69.32s/it]"
     ]
    },
    {
     "name": "stdout",
     "output_type": "stream",
     "text": [
      "eigenvalues shape torch.Size([15]) eigenvectors shape torch.Size([15, 1024])\n",
      "76 /home/phdcs2/Hard_Disk/Datasets/Deep-Spectral-Segmentation/data/object-segmentation/ECSSD/features/0078_resized.pth\n",
      "dict_keys(['k', 'indices', 'file', 'id', 'model_name', 'patch_size', 'shape'])\n",
      "0078_resized\n",
      "shape of w_feat_ds torch.Size([1024, 1024])\n",
      "z shape: torch.Size([1024, 384]) (1024, 384)\n",
      "Starting Training\n",
      "epoch: 00, loss: -0.91160\n",
      "epoch: 01, loss: -0.94079\n",
      "epoch: 02, loss: -0.94407\n",
      "epoch: 03, loss: -0.94577\n",
      "epoch: 04, loss: -0.94568\n",
      "epoch: 05, loss: -0.94595\n",
      "epoch: 06, loss: -0.94578\n",
      "epoch: 07, loss: -0.94661\n",
      "epoch: 08, loss: -0.94678\n",
      "epoch: 09, loss: -0.94827\n",
      "torch.Size([1024, 384])\n",
      "W_feat shape= (1024, 1024)\n"
     ]
    },
    {
     "name": "stderr",
     "output_type": "stream",
     "text": [
      "\r",
      "  8%|████████████▉                                                                                                                                                           | 77/999 [1:28:43<17:22:37, 67.85s/it]"
     ]
    },
    {
     "name": "stdout",
     "output_type": "stream",
     "text": [
      "eigenvalues shape torch.Size([15]) eigenvectors shape torch.Size([15, 1024])\n",
      "77 /home/phdcs2/Hard_Disk/Datasets/Deep-Spectral-Segmentation/data/object-segmentation/ECSSD/features/0079_resized.pth\n",
      "dict_keys(['k', 'indices', 'file', 'id', 'model_name', 'patch_size', 'shape'])\n",
      "0079_resized\n",
      "shape of w_feat_ds torch.Size([1024, 1024])\n",
      "z shape: torch.Size([1024, 384]) (1024, 384)\n",
      "Starting Training\n",
      "epoch: 00, loss: -0.87659\n",
      "epoch: 01, loss: -0.91596\n",
      "epoch: 02, loss: -0.91921\n",
      "epoch: 03, loss: -0.91911\n",
      "epoch: 04, loss: -0.91895\n",
      "epoch: 05, loss: -0.92213\n",
      "epoch: 06, loss: -0.92339\n",
      "epoch: 07, loss: -0.92621\n",
      "epoch: 08, loss: -0.92982\n",
      "epoch: 09, loss: -0.93174\n",
      "torch.Size([1024, 384])\n",
      "W_feat shape= (1024, 1024)\n"
     ]
    },
    {
     "name": "stderr",
     "output_type": "stream",
     "text": [
      "\r",
      "  8%|█████████████                                                                                                                                                           | 78/999 [1:29:50<17:20:01, 67.75s/it]"
     ]
    },
    {
     "name": "stdout",
     "output_type": "stream",
     "text": [
      "eigenvalues shape torch.Size([15]) eigenvectors shape torch.Size([15, 1024])\n",
      "78 /home/phdcs2/Hard_Disk/Datasets/Deep-Spectral-Segmentation/data/object-segmentation/ECSSD/features/0080_resized.pth\n",
      "dict_keys(['k', 'indices', 'file', 'id', 'model_name', 'patch_size', 'shape'])\n",
      "0080_resized\n",
      "shape of w_feat_ds torch.Size([1024, 1024])\n",
      "z shape: torch.Size([1024, 384]) (1024, 384)\n",
      "Starting Training\n",
      "epoch: 00, loss: -0.85365\n",
      "epoch: 01, loss: -0.88770\n",
      "epoch: 02, loss: -0.88606\n",
      "epoch: 03, loss: -0.89122\n",
      "epoch: 04, loss: -0.90096\n",
      "epoch: 05, loss: -0.90567\n",
      "epoch: 06, loss: -0.91232\n",
      "epoch: 07, loss: -0.91521\n",
      "epoch: 08, loss: -0.91955\n",
      "epoch: 09, loss: -0.92280\n",
      "torch.Size([1024, 384])\n",
      "W_feat shape= (1024, 1024)\n"
     ]
    },
    {
     "name": "stderr",
     "output_type": "stream",
     "text": [
      "\r",
      "  8%|█████████████▎                                                                                                                                                          | 79/999 [1:30:54<17:01:48, 66.64s/it]"
     ]
    },
    {
     "name": "stdout",
     "output_type": "stream",
     "text": [
      "eigenvalues shape torch.Size([15]) eigenvectors shape torch.Size([15, 1024])\n",
      "79 /home/phdcs2/Hard_Disk/Datasets/Deep-Spectral-Segmentation/data/object-segmentation/ECSSD/features/0081_resized.pth\n",
      "dict_keys(['k', 'indices', 'file', 'id', 'model_name', 'patch_size', 'shape'])\n",
      "0081_resized\n",
      "shape of w_feat_ds torch.Size([1024, 1024])\n",
      "z shape: torch.Size([1024, 384]) (1024, 384)\n",
      "Starting Training\n",
      "epoch: 00, loss: -0.91183\n",
      "epoch: 01, loss: -0.94402\n",
      "epoch: 02, loss: -0.94940\n",
      "epoch: 03, loss: -0.95107\n",
      "epoch: 04, loss: -0.95137\n",
      "epoch: 05, loss: -0.95031\n",
      "epoch: 06, loss: -0.95035\n",
      "epoch: 07, loss: -0.94920\n",
      "epoch: 08, loss: -0.94981\n",
      "epoch: 09, loss: -0.94955\n",
      "torch.Size([1024, 384])\n",
      "W_feat shape= (1024, 1024)\n"
     ]
    },
    {
     "name": "stderr",
     "output_type": "stream",
     "text": [
      "\r",
      "  8%|█████████████▍                                                                                                                                                          | 80/999 [1:32:02<17:05:14, 66.94s/it]"
     ]
    },
    {
     "name": "stdout",
     "output_type": "stream",
     "text": [
      "eigenvalues shape torch.Size([15]) eigenvectors shape torch.Size([15, 1024])\n",
      "80 /home/phdcs2/Hard_Disk/Datasets/Deep-Spectral-Segmentation/data/object-segmentation/ECSSD/features/0082_resized.pth\n",
      "dict_keys(['k', 'indices', 'file', 'id', 'model_name', 'patch_size', 'shape'])\n",
      "0082_resized\n",
      "shape of w_feat_ds torch.Size([1024, 1024])\n",
      "z shape: torch.Size([1024, 384]) (1024, 384)\n",
      "Starting Training\n",
      "epoch: 00, loss: -0.89519\n",
      "epoch: 01, loss: -0.93647\n",
      "epoch: 02, loss: -0.94646\n",
      "epoch: 03, loss: -0.95198\n",
      "epoch: 04, loss: -0.95556\n",
      "epoch: 05, loss: -0.95820\n",
      "epoch: 06, loss: -0.96018\n",
      "epoch: 07, loss: -0.96172\n",
      "epoch: 08, loss: -0.96292\n",
      "epoch: 09, loss: -0.96381\n",
      "torch.Size([1024, 384])\n",
      "W_feat shape= (1024, 1024)\n"
     ]
    },
    {
     "name": "stderr",
     "output_type": "stream",
     "text": [
      "\r",
      "  8%|█████████████▌                                                                                                                                                          | 81/999 [1:33:17<17:42:41, 69.46s/it]"
     ]
    },
    {
     "name": "stdout",
     "output_type": "stream",
     "text": [
      "eigenvalues shape torch.Size([15]) eigenvectors shape torch.Size([15, 1024])\n",
      "81 /home/phdcs2/Hard_Disk/Datasets/Deep-Spectral-Segmentation/data/object-segmentation/ECSSD/features/0083_resized.pth\n",
      "dict_keys(['k', 'indices', 'file', 'id', 'model_name', 'patch_size', 'shape'])\n",
      "0083_resized\n",
      "shape of w_feat_ds torch.Size([1024, 1024])\n",
      "z shape: torch.Size([1024, 384]) (1024, 384)\n",
      "Starting Training\n",
      "epoch: 00, loss: -0.91813\n",
      "epoch: 01, loss: -0.94707\n",
      "epoch: 02, loss: -0.95116\n",
      "epoch: 03, loss: -0.95194\n",
      "epoch: 04, loss: -0.95147\n",
      "epoch: 05, loss: -0.95075\n",
      "epoch: 06, loss: -0.95151\n",
      "epoch: 07, loss: -0.95296\n",
      "epoch: 08, loss: -0.95390\n",
      "epoch: 09, loss: -0.95566\n",
      "torch.Size([1024, 384])\n",
      "W_feat shape= (1024, 1024)\n"
     ]
    },
    {
     "name": "stderr",
     "output_type": "stream",
     "text": [
      "\r",
      "  8%|█████████████▊                                                                                                                                                          | 82/999 [1:34:20<17:10:17, 67.41s/it]"
     ]
    },
    {
     "name": "stdout",
     "output_type": "stream",
     "text": [
      "eigenvalues shape torch.Size([15]) eigenvectors shape torch.Size([15, 1024])\n",
      "82 /home/phdcs2/Hard_Disk/Datasets/Deep-Spectral-Segmentation/data/object-segmentation/ECSSD/features/0084_resized.pth\n",
      "dict_keys(['k', 'indices', 'file', 'id', 'model_name', 'patch_size', 'shape'])\n",
      "0084_resized\n",
      "shape of w_feat_ds torch.Size([1024, 1024])\n",
      "z shape: torch.Size([1024, 384]) (1024, 384)\n",
      "Starting Training\n",
      "epoch: 00, loss: -0.83552\n",
      "epoch: 01, loss: -0.87446\n",
      "epoch: 02, loss: -0.87456\n",
      "epoch: 03, loss: -0.87833\n",
      "epoch: 04, loss: -0.88641\n",
      "epoch: 05, loss: -0.89568\n",
      "epoch: 06, loss: -0.90135\n",
      "epoch: 07, loss: -0.90728\n",
      "epoch: 08, loss: -0.91188\n",
      "epoch: 09, loss: -0.91781\n",
      "torch.Size([1024, 384])\n",
      "W_feat shape= (1024, 1024)\n"
     ]
    },
    {
     "name": "stderr",
     "output_type": "stream",
     "text": [
      "\r",
      "  8%|█████████████▉                                                                                                                                                          | 83/999 [1:35:35<17:42:55, 69.62s/it]"
     ]
    },
    {
     "name": "stdout",
     "output_type": "stream",
     "text": [
      "eigenvalues shape torch.Size([15]) eigenvectors shape torch.Size([15, 1024])\n",
      "83 /home/phdcs2/Hard_Disk/Datasets/Deep-Spectral-Segmentation/data/object-segmentation/ECSSD/features/0085_resized.pth\n",
      "dict_keys(['k', 'indices', 'file', 'id', 'model_name', 'patch_size', 'shape'])\n",
      "0085_resized\n",
      "shape of w_feat_ds torch.Size([1024, 1024])\n",
      "z shape: torch.Size([1024, 384]) (1024, 384)\n",
      "Starting Training\n",
      "epoch: 00, loss: -0.92038\n",
      "epoch: 01, loss: -0.94303\n",
      "epoch: 02, loss: -0.94563\n",
      "epoch: 03, loss: -0.95189\n",
      "epoch: 04, loss: -0.95675\n",
      "epoch: 05, loss: -0.95995\n",
      "epoch: 06, loss: -0.96233\n",
      "epoch: 07, loss: -0.96402\n",
      "epoch: 08, loss: -0.96543\n",
      "epoch: 09, loss: -0.96670\n",
      "torch.Size([1024, 384])\n",
      "W_feat shape= (1024, 1024)\n"
     ]
    },
    {
     "name": "stderr",
     "output_type": "stream",
     "text": [
      "\r",
      "  8%|██████████████▏                                                                                                                                                         | 84/999 [1:36:45<17:45:35, 69.88s/it]"
     ]
    },
    {
     "name": "stdout",
     "output_type": "stream",
     "text": [
      "eigenvalues shape torch.Size([15]) eigenvectors shape torch.Size([15, 1024])\n",
      "84 /home/phdcs2/Hard_Disk/Datasets/Deep-Spectral-Segmentation/data/object-segmentation/ECSSD/features/0086_resized.pth\n",
      "dict_keys(['k', 'indices', 'file', 'id', 'model_name', 'patch_size', 'shape'])\n",
      "0086_resized\n",
      "shape of w_feat_ds torch.Size([1024, 1024])\n",
      "z shape: torch.Size([1024, 384]) (1024, 384)\n",
      "Starting Training\n",
      "epoch: 00, loss: -0.83986\n",
      "epoch: 01, loss: -0.90424\n",
      "epoch: 02, loss: -0.92022\n",
      "epoch: 03, loss: -0.92889\n",
      "epoch: 04, loss: -0.93417\n",
      "epoch: 05, loss: -0.93735\n",
      "epoch: 06, loss: -0.93961\n",
      "epoch: 07, loss: -0.94065\n",
      "epoch: 08, loss: -0.94112\n",
      "epoch: 09, loss: -0.94138\n",
      "torch.Size([1024, 384])\n",
      "W_feat shape= (1024, 1024)\n"
     ]
    },
    {
     "name": "stderr",
     "output_type": "stream",
     "text": [
      "\r",
      "  9%|██████████████▎                                                                                                                                                         | 85/999 [1:38:01<18:10:53, 71.61s/it]"
     ]
    },
    {
     "name": "stdout",
     "output_type": "stream",
     "text": [
      "eigenvalues shape torch.Size([15]) eigenvectors shape torch.Size([15, 1024])\n",
      "85 /home/phdcs2/Hard_Disk/Datasets/Deep-Spectral-Segmentation/data/object-segmentation/ECSSD/features/0087_resized.pth\n",
      "dict_keys(['k', 'indices', 'file', 'id', 'model_name', 'patch_size', 'shape'])\n",
      "0087_resized\n",
      "shape of w_feat_ds torch.Size([1024, 1024])\n",
      "z shape: torch.Size([1024, 384]) (1024, 384)\n",
      "Starting Training\n",
      "epoch: 00, loss: -0.86464\n",
      "epoch: 01, loss: -0.89097\n",
      "epoch: 02, loss: -0.89226\n",
      "epoch: 03, loss: -0.89889\n",
      "epoch: 04, loss: -0.91018\n",
      "epoch: 05, loss: -0.91681\n",
      "epoch: 06, loss: -0.92396\n",
      "epoch: 07, loss: -0.92858\n",
      "epoch: 08, loss: -0.93313\n",
      "epoch: 09, loss: -0.93720\n",
      "torch.Size([1024, 384])\n",
      "W_feat shape= (1024, 1024)\n"
     ]
    },
    {
     "name": "stderr",
     "output_type": "stream",
     "text": [
      "\r",
      "  9%|██████████████▍                                                                                                                                                         | 86/999 [1:39:14<18:17:03, 72.10s/it]"
     ]
    },
    {
     "name": "stdout",
     "output_type": "stream",
     "text": [
      "eigenvalues shape torch.Size([15]) eigenvectors shape torch.Size([15, 1024])\n",
      "86 /home/phdcs2/Hard_Disk/Datasets/Deep-Spectral-Segmentation/data/object-segmentation/ECSSD/features/0088_resized.pth\n",
      "dict_keys(['k', 'indices', 'file', 'id', 'model_name', 'patch_size', 'shape'])\n",
      "0088_resized\n",
      "shape of w_feat_ds torch.Size([1024, 1024])\n",
      "z shape: torch.Size([1024, 384]) (1024, 384)\n",
      "Starting Training\n",
      "epoch: 00, loss: -0.85347\n",
      "epoch: 01, loss: -0.90893\n",
      "epoch: 02, loss: -0.92127\n",
      "epoch: 03, loss: -0.92718\n",
      "epoch: 04, loss: -0.93006\n",
      "epoch: 05, loss: -0.93093\n",
      "epoch: 06, loss: -0.93046\n",
      "epoch: 07, loss: -0.93044\n",
      "epoch: 08, loss: -0.93028\n",
      "epoch: 09, loss: -0.93030\n",
      "torch.Size([1024, 384])\n",
      "W_feat shape= (1024, 1024)\n"
     ]
    },
    {
     "name": "stderr",
     "output_type": "stream",
     "text": [
      "\r",
      "  9%|██████████████▋                                                                                                                                                         | 87/999 [1:40:23<18:02:24, 71.21s/it]"
     ]
    },
    {
     "name": "stdout",
     "output_type": "stream",
     "text": [
      "eigenvalues shape torch.Size([15]) eigenvectors shape torch.Size([15, 1024])\n",
      "87 /home/phdcs2/Hard_Disk/Datasets/Deep-Spectral-Segmentation/data/object-segmentation/ECSSD/features/0089_resized.pth\n",
      "dict_keys(['k', 'indices', 'file', 'id', 'model_name', 'patch_size', 'shape'])\n",
      "0089_resized\n",
      "shape of w_feat_ds torch.Size([1024, 1024])\n",
      "z shape: torch.Size([1024, 384]) (1024, 384)\n",
      "Starting Training\n",
      "epoch: 00, loss: -0.85157\n",
      "epoch: 01, loss: -0.88351\n",
      "epoch: 02, loss: -0.88468\n",
      "epoch: 03, loss: -0.89294\n",
      "epoch: 04, loss: -0.90093\n",
      "epoch: 05, loss: -0.90989\n",
      "epoch: 06, loss: -0.91656\n",
      "epoch: 07, loss: -0.92249\n",
      "epoch: 08, loss: -0.92678\n",
      "epoch: 09, loss: -0.93113\n",
      "torch.Size([1024, 384])\n",
      "W_feat shape= (1024, 1024)\n"
     ]
    },
    {
     "name": "stderr",
     "output_type": "stream",
     "text": [
      "\r",
      "  9%|██████████████▊                                                                                                                                                         | 88/999 [1:41:31<17:47:19, 70.30s/it]"
     ]
    },
    {
     "name": "stdout",
     "output_type": "stream",
     "text": [
      "eigenvalues shape torch.Size([15]) eigenvectors shape torch.Size([15, 1024])\n",
      "88 /home/phdcs2/Hard_Disk/Datasets/Deep-Spectral-Segmentation/data/object-segmentation/ECSSD/features/0090_resized.pth\n",
      "dict_keys(['k', 'indices', 'file', 'id', 'model_name', 'patch_size', 'shape'])\n",
      "0090_resized\n",
      "shape of w_feat_ds torch.Size([1024, 1024])\n",
      "z shape: torch.Size([1024, 384]) (1024, 384)\n",
      "Starting Training\n",
      "epoch: 00, loss: -0.91204\n",
      "epoch: 01, loss: -0.94090\n",
      "epoch: 02, loss: -0.94241\n",
      "epoch: 03, loss: -0.94258\n",
      "epoch: 04, loss: -0.94320\n",
      "epoch: 05, loss: -0.94516\n",
      "epoch: 06, loss: -0.94762\n",
      "epoch: 07, loss: -0.94996\n",
      "epoch: 08, loss: -0.95278\n",
      "epoch: 09, loss: -0.95390\n",
      "torch.Size([1024, 384])\n",
      "W_feat shape= (1024, 1024)\n"
     ]
    },
    {
     "name": "stderr",
     "output_type": "stream",
     "text": [
      "\r",
      "  9%|██████████████▉                                                                                                                                                         | 89/999 [1:42:34<17:09:18, 67.87s/it]"
     ]
    },
    {
     "name": "stdout",
     "output_type": "stream",
     "text": [
      "eigenvalues shape torch.Size([15]) eigenvectors shape torch.Size([15, 1024])\n",
      "89 /home/phdcs2/Hard_Disk/Datasets/Deep-Spectral-Segmentation/data/object-segmentation/ECSSD/features/0091_resized.pth\n",
      "dict_keys(['k', 'indices', 'file', 'id', 'model_name', 'patch_size', 'shape'])\n",
      "0091_resized\n",
      "shape of w_feat_ds torch.Size([1024, 1024])\n",
      "z shape: torch.Size([1024, 384]) (1024, 384)\n",
      "Starting Training\n",
      "epoch: 00, loss: -0.91732\n",
      "epoch: 01, loss: -0.94168\n",
      "epoch: 02, loss: -0.94068\n",
      "epoch: 03, loss: -0.94288\n",
      "epoch: 04, loss: -0.94698\n",
      "epoch: 05, loss: -0.95025\n",
      "epoch: 06, loss: -0.95397\n",
      "epoch: 07, loss: -0.95646\n",
      "epoch: 08, loss: -0.95885\n",
      "epoch: 09, loss: -0.96075\n",
      "torch.Size([1024, 384])\n",
      "W_feat shape= (1024, 1024)\n"
     ]
    },
    {
     "name": "stderr",
     "output_type": "stream",
     "text": [
      "\r",
      "  9%|███████████████▏                                                                                                                                                        | 90/999 [1:43:39<16:54:42, 66.98s/it]"
     ]
    },
    {
     "name": "stdout",
     "output_type": "stream",
     "text": [
      "eigenvalues shape torch.Size([15]) eigenvectors shape torch.Size([15, 1024])\n",
      "90 /home/phdcs2/Hard_Disk/Datasets/Deep-Spectral-Segmentation/data/object-segmentation/ECSSD/features/0092_resized.pth\n",
      "dict_keys(['k', 'indices', 'file', 'id', 'model_name', 'patch_size', 'shape'])\n",
      "0092_resized\n",
      "shape of w_feat_ds torch.Size([1024, 1024])\n",
      "z shape: torch.Size([1024, 384]) (1024, 384)\n",
      "Starting Training\n",
      "epoch: 00, loss: -0.91101\n",
      "epoch: 01, loss: -0.94497\n",
      "epoch: 02, loss: -0.95079\n",
      "epoch: 03, loss: -0.95337\n",
      "epoch: 04, loss: -0.95397\n",
      "epoch: 05, loss: -0.95438\n",
      "epoch: 06, loss: -0.95436\n",
      "epoch: 07, loss: -0.95461\n",
      "epoch: 08, loss: -0.95553\n",
      "epoch: 09, loss: -0.95486\n",
      "torch.Size([1024, 384])\n",
      "W_feat shape= (1024, 1024)\n"
     ]
    },
    {
     "name": "stderr",
     "output_type": "stream",
     "text": [
      "\r",
      "  9%|███████████████▎                                                                                                                                                        | 91/999 [1:44:43<16:42:46, 66.26s/it]"
     ]
    },
    {
     "name": "stdout",
     "output_type": "stream",
     "text": [
      "eigenvalues shape torch.Size([15]) eigenvectors shape torch.Size([15, 1024])\n",
      "91 /home/phdcs2/Hard_Disk/Datasets/Deep-Spectral-Segmentation/data/object-segmentation/ECSSD/features/0093_resized.pth\n",
      "dict_keys(['k', 'indices', 'file', 'id', 'model_name', 'patch_size', 'shape'])\n",
      "0093_resized\n",
      "shape of w_feat_ds torch.Size([1024, 1024])\n",
      "z shape: torch.Size([1024, 384]) (1024, 384)\n",
      "Starting Training\n",
      "epoch: 00, loss: -0.83908\n",
      "epoch: 01, loss: -0.90125\n",
      "epoch: 02, loss: -0.91683\n",
      "epoch: 03, loss: -0.92478\n",
      "epoch: 04, loss: -0.92966\n",
      "epoch: 05, loss: -0.93261\n",
      "epoch: 06, loss: -0.93481\n",
      "epoch: 07, loss: -0.93655\n",
      "epoch: 08, loss: -0.93727\n",
      "epoch: 09, loss: -0.93777\n",
      "torch.Size([1024, 384])\n",
      "W_feat shape= (1024, 1024)\n"
     ]
    },
    {
     "name": "stderr",
     "output_type": "stream",
     "text": [
      "\r",
      "  9%|███████████████▍                                                                                                                                                        | 92/999 [1:45:46<16:26:35, 65.27s/it]"
     ]
    },
    {
     "name": "stdout",
     "output_type": "stream",
     "text": [
      "eigenvalues shape torch.Size([15]) eigenvectors shape torch.Size([15, 1024])\n",
      "92 /home/phdcs2/Hard_Disk/Datasets/Deep-Spectral-Segmentation/data/object-segmentation/ECSSD/features/0094_resized.pth\n",
      "dict_keys(['k', 'indices', 'file', 'id', 'model_name', 'patch_size', 'shape'])\n",
      "0094_resized\n",
      "shape of w_feat_ds torch.Size([1024, 1024])\n",
      "z shape: torch.Size([1024, 384]) (1024, 384)\n",
      "Starting Training\n",
      "epoch: 00, loss: -0.84414\n",
      "epoch: 01, loss: -0.90759\n",
      "epoch: 02, loss: -0.92253\n",
      "epoch: 03, loss: -0.93039\n",
      "epoch: 04, loss: -0.93506\n",
      "epoch: 05, loss: -0.93778\n",
      "epoch: 06, loss: -0.93949\n",
      "epoch: 07, loss: -0.94039\n",
      "epoch: 08, loss: -0.94078\n",
      "epoch: 09, loss: -0.94101\n",
      "torch.Size([1024, 384])\n",
      "W_feat shape= (1024, 1024)\n"
     ]
    },
    {
     "name": "stderr",
     "output_type": "stream",
     "text": [
      "\r",
      "  9%|███████████████▋                                                                                                                                                        | 93/999 [1:46:43<15:49:57, 62.91s/it]"
     ]
    },
    {
     "name": "stdout",
     "output_type": "stream",
     "text": [
      "eigenvalues shape torch.Size([15]) eigenvectors shape torch.Size([15, 1024])\n",
      "93 /home/phdcs2/Hard_Disk/Datasets/Deep-Spectral-Segmentation/data/object-segmentation/ECSSD/features/0095_resized.pth\n",
      "dict_keys(['k', 'indices', 'file', 'id', 'model_name', 'patch_size', 'shape'])\n",
      "0095_resized\n",
      "shape of w_feat_ds torch.Size([1024, 1024])\n",
      "z shape: torch.Size([1024, 384]) (1024, 384)\n",
      "Starting Training\n",
      "epoch: 00, loss: -0.91613\n",
      "epoch: 01, loss: -0.94821\n",
      "epoch: 02, loss: -0.95440\n",
      "epoch: 03, loss: -0.95714\n",
      "epoch: 04, loss: -0.95853\n",
      "epoch: 05, loss: -0.95934\n",
      "epoch: 06, loss: -0.95923\n",
      "epoch: 07, loss: -0.95945\n",
      "epoch: 08, loss: -0.95954\n",
      "epoch: 09, loss: -0.95977\n",
      "torch.Size([1024, 384])\n",
      "W_feat shape= (1024, 1024)\n"
     ]
    },
    {
     "name": "stderr",
     "output_type": "stream",
     "text": [
      "\r",
      "  9%|███████████████▊                                                                                                                                                        | 94/999 [1:47:38<15:10:46, 60.38s/it]"
     ]
    },
    {
     "name": "stdout",
     "output_type": "stream",
     "text": [
      "eigenvalues shape torch.Size([15]) eigenvectors shape torch.Size([15, 1024])\n",
      "94 /home/phdcs2/Hard_Disk/Datasets/Deep-Spectral-Segmentation/data/object-segmentation/ECSSD/features/0096_resized.pth\n",
      "dict_keys(['k', 'indices', 'file', 'id', 'model_name', 'patch_size', 'shape'])\n",
      "0096_resized\n",
      "shape of w_feat_ds torch.Size([1024, 1024])\n",
      "z shape: torch.Size([1024, 384]) (1024, 384)\n",
      "Starting Training\n",
      "epoch: 00, loss: -0.89349\n",
      "epoch: 01, loss: -0.93558\n",
      "epoch: 02, loss: -0.94548\n",
      "epoch: 03, loss: -0.95106\n",
      "epoch: 04, loss: -0.95462\n",
      "epoch: 05, loss: -0.95709\n",
      "epoch: 06, loss: -0.95897\n",
      "epoch: 07, loss: -0.96045\n",
      "epoch: 08, loss: -0.96156\n",
      "epoch: 09, loss: -0.96229\n",
      "torch.Size([1024, 384])\n",
      "W_feat shape= (1024, 1024)\n"
     ]
    },
    {
     "name": "stderr",
     "output_type": "stream",
     "text": [
      "\r",
      " 10%|███████████████▉                                                                                                                                                        | 95/999 [1:48:35<14:54:38, 59.38s/it]"
     ]
    },
    {
     "name": "stdout",
     "output_type": "stream",
     "text": [
      "eigenvalues shape torch.Size([15]) eigenvectors shape torch.Size([15, 1024])\n",
      "95 /home/phdcs2/Hard_Disk/Datasets/Deep-Spectral-Segmentation/data/object-segmentation/ECSSD/features/0097_resized.pth\n",
      "dict_keys(['k', 'indices', 'file', 'id', 'model_name', 'patch_size', 'shape'])\n",
      "0097_resized\n",
      "shape of w_feat_ds torch.Size([1024, 1024])\n",
      "z shape: torch.Size([1024, 384]) (1024, 384)\n",
      "Starting Training\n",
      "epoch: 00, loss: -0.85338\n",
      "epoch: 01, loss: -0.90750\n",
      "epoch: 02, loss: -0.91665\n",
      "epoch: 03, loss: -0.91957\n",
      "epoch: 04, loss: -0.92024\n",
      "epoch: 05, loss: -0.92056\n",
      "epoch: 06, loss: -0.92055\n",
      "epoch: 07, loss: -0.92177\n",
      "epoch: 08, loss: -0.92509\n",
      "epoch: 09, loss: -0.92747\n",
      "torch.Size([1024, 384])\n",
      "W_feat shape= (1024, 1024)\n"
     ]
    },
    {
     "name": "stderr",
     "output_type": "stream",
     "text": [
      "\r",
      " 10%|████████████████▏                                                                                                                                                       | 96/999 [1:49:36<15:01:14, 59.88s/it]"
     ]
    },
    {
     "name": "stdout",
     "output_type": "stream",
     "text": [
      "eigenvalues shape torch.Size([15]) eigenvectors shape torch.Size([15, 1024])\n",
      "96 /home/phdcs2/Hard_Disk/Datasets/Deep-Spectral-Segmentation/data/object-segmentation/ECSSD/features/0098_resized.pth\n",
      "dict_keys(['k', 'indices', 'file', 'id', 'model_name', 'patch_size', 'shape'])\n",
      "0098_resized\n",
      "shape of w_feat_ds torch.Size([1024, 1024])\n",
      "z shape: torch.Size([1024, 384]) (1024, 384)\n",
      "Starting Training\n",
      "epoch: 00, loss: -0.90300\n",
      "epoch: 01, loss: -0.94201\n",
      "epoch: 02, loss: -0.95097\n",
      "epoch: 03, loss: -0.95591\n",
      "epoch: 04, loss: -0.95903\n",
      "epoch: 05, loss: -0.96116\n",
      "epoch: 06, loss: -0.96268\n",
      "epoch: 07, loss: -0.96371\n",
      "epoch: 08, loss: -0.96444\n",
      "epoch: 09, loss: -0.96480\n",
      "torch.Size([1024, 384])\n",
      "W_feat shape= (1024, 1024)\n"
     ]
    },
    {
     "name": "stderr",
     "output_type": "stream",
     "text": [
      "\r",
      " 10%|████████████████▎                                                                                                                                                       | 97/999 [1:50:36<15:00:17, 59.89s/it]"
     ]
    },
    {
     "name": "stdout",
     "output_type": "stream",
     "text": [
      "eigenvalues shape torch.Size([15]) eigenvectors shape torch.Size([15, 1024])\n",
      "97 /home/phdcs2/Hard_Disk/Datasets/Deep-Spectral-Segmentation/data/object-segmentation/ECSSD/features/0099_resized.pth\n",
      "dict_keys(['k', 'indices', 'file', 'id', 'model_name', 'patch_size', 'shape'])\n",
      "0099_resized\n",
      "shape of w_feat_ds torch.Size([1024, 1024])\n",
      "z shape: torch.Size([1024, 384]) (1024, 384)\n",
      "Starting Training\n",
      "epoch: 00, loss: -0.90797\n",
      "epoch: 01, loss: -0.94313\n",
      "epoch: 02, loss: -0.94883\n",
      "epoch: 03, loss: -0.94984\n",
      "epoch: 04, loss: -0.94865\n",
      "epoch: 05, loss: -0.94670\n",
      "epoch: 06, loss: -0.94631\n",
      "epoch: 07, loss: -0.94787\n",
      "epoch: 08, loss: -0.95010\n",
      "epoch: 09, loss: -0.95198\n",
      "torch.Size([1024, 384])\n",
      "W_feat shape= (1024, 1024)\n"
     ]
    },
    {
     "name": "stderr",
     "output_type": "stream",
     "text": [
      "\r",
      " 10%|████████████████▍                                                                                                                                                       | 98/999 [1:51:38<15:11:04, 60.67s/it]"
     ]
    },
    {
     "name": "stdout",
     "output_type": "stream",
     "text": [
      "eigenvalues shape torch.Size([15]) eigenvectors shape torch.Size([15, 1024])\n",
      "98 /home/phdcs2/Hard_Disk/Datasets/Deep-Spectral-Segmentation/data/object-segmentation/ECSSD/features/0100_resized.pth\n",
      "dict_keys(['k', 'indices', 'file', 'id', 'model_name', 'patch_size', 'shape'])\n",
      "0100_resized\n",
      "shape of w_feat_ds torch.Size([1024, 1024])\n",
      "z shape: torch.Size([1024, 384]) (1024, 384)\n",
      "Starting Training\n",
      "epoch: 00, loss: -0.91209\n",
      "epoch: 01, loss: -0.93873\n",
      "epoch: 02, loss: -0.93863\n",
      "epoch: 03, loss: -0.94115\n",
      "epoch: 04, loss: -0.94591\n",
      "epoch: 05, loss: -0.94974\n",
      "epoch: 06, loss: -0.95274\n",
      "epoch: 07, loss: -0.95496\n",
      "epoch: 08, loss: -0.95638\n",
      "epoch: 09, loss: -0.95777\n",
      "torch.Size([1024, 384])\n",
      "W_feat shape= (1024, 1024)\n"
     ]
    },
    {
     "name": "stderr",
     "output_type": "stream",
     "text": [
      "\r",
      " 10%|████████████████▋                                                                                                                                                       | 99/999 [1:52:36<14:57:41, 59.85s/it]"
     ]
    },
    {
     "name": "stdout",
     "output_type": "stream",
     "text": [
      "eigenvalues shape torch.Size([15]) eigenvectors shape torch.Size([15, 1024])\n",
      "99 /home/phdcs2/Hard_Disk/Datasets/Deep-Spectral-Segmentation/data/object-segmentation/ECSSD/features/0101_resized.pth\n",
      "dict_keys(['k', 'indices', 'file', 'id', 'model_name', 'patch_size', 'shape'])\n",
      "0101_resized\n",
      "shape of w_feat_ds torch.Size([1024, 1024])\n",
      "z shape: torch.Size([1024, 384]) (1024, 384)\n",
      "Starting Training\n",
      "epoch: 00, loss: -0.84138\n",
      "epoch: 01, loss: -0.89220\n",
      "epoch: 02, loss: -0.89773\n",
      "epoch: 03, loss: -0.89393\n",
      "epoch: 04, loss: -0.89686\n",
      "epoch: 05, loss: -0.90110\n",
      "epoch: 06, loss: -0.90532\n",
      "epoch: 07, loss: -0.91028\n",
      "epoch: 08, loss: -0.91434\n",
      "epoch: 09, loss: -0.91930\n",
      "torch.Size([1024, 384])\n",
      "W_feat shape= (1024, 1024)\n"
     ]
    },
    {
     "name": "stderr",
     "output_type": "stream",
     "text": [
      "\r",
      " 10%|████████████████▋                                                                                                                                                      | 100/999 [1:53:35<14:51:48, 59.52s/it]"
     ]
    },
    {
     "name": "stdout",
     "output_type": "stream",
     "text": [
      "eigenvalues shape torch.Size([15]) eigenvectors shape torch.Size([15, 1024])\n",
      "100 /home/phdcs2/Hard_Disk/Datasets/Deep-Spectral-Segmentation/data/object-segmentation/ECSSD/features/0102_resized.pth\n",
      "dict_keys(['k', 'indices', 'file', 'id', 'model_name', 'patch_size', 'shape'])\n",
      "0102_resized\n",
      "shape of w_feat_ds torch.Size([1024, 1024])\n",
      "z shape: torch.Size([1024, 384]) (1024, 384)\n",
      "Starting Training\n",
      "epoch: 00, loss: -0.85505\n",
      "epoch: 01, loss: -0.90421\n",
      "epoch: 02, loss: -0.90814\n",
      "epoch: 03, loss: -0.90712\n",
      "epoch: 04, loss: -0.90587\n",
      "epoch: 05, loss: -0.90767\n",
      "epoch: 06, loss: -0.91055\n",
      "epoch: 07, loss: -0.91672\n",
      "epoch: 08, loss: -0.91816\n",
      "epoch: 09, loss: -0.92303\n",
      "torch.Size([1024, 384])\n",
      "W_feat shape= (1024, 1024)\n"
     ]
    },
    {
     "name": "stderr",
     "output_type": "stream",
     "text": [
      "\r",
      " 10%|████████████████▉                                                                                                                                                      | 101/999 [1:54:34<14:50:08, 59.48s/it]"
     ]
    },
    {
     "name": "stdout",
     "output_type": "stream",
     "text": [
      "eigenvalues shape torch.Size([15]) eigenvectors shape torch.Size([15, 1024])\n",
      "101 /home/phdcs2/Hard_Disk/Datasets/Deep-Spectral-Segmentation/data/object-segmentation/ECSSD/features/0103_resized.pth\n",
      "dict_keys(['k', 'indices', 'file', 'id', 'model_name', 'patch_size', 'shape'])\n",
      "0103_resized\n",
      "shape of w_feat_ds torch.Size([1024, 1024])\n",
      "z shape: torch.Size([1024, 384]) (1024, 384)\n",
      "Starting Training\n",
      "epoch: 00, loss: -0.84340\n",
      "epoch: 01, loss: -0.90351\n",
      "epoch: 02, loss: -0.91735\n",
      "epoch: 03, loss: -0.92457\n",
      "epoch: 04, loss: -0.92887\n",
      "epoch: 05, loss: -0.93092\n",
      "epoch: 06, loss: -0.93248\n",
      "epoch: 07, loss: -0.93325\n",
      "epoch: 08, loss: -0.93333\n",
      "epoch: 09, loss: -0.93380\n",
      "torch.Size([1024, 384])\n",
      "W_feat shape= (1024, 1024)\n"
     ]
    },
    {
     "name": "stderr",
     "output_type": "stream",
     "text": [
      "\r",
      " 10%|█████████████████                                                                                                                                                      | 102/999 [1:55:41<15:19:34, 61.51s/it]"
     ]
    },
    {
     "name": "stdout",
     "output_type": "stream",
     "text": [
      "eigenvalues shape torch.Size([15]) eigenvectors shape torch.Size([15, 1024])\n",
      "102 /home/phdcs2/Hard_Disk/Datasets/Deep-Spectral-Segmentation/data/object-segmentation/ECSSD/features/0104_resized.pth\n",
      "dict_keys(['k', 'indices', 'file', 'id', 'model_name', 'patch_size', 'shape'])\n",
      "0104_resized\n",
      "shape of w_feat_ds torch.Size([1024, 1024])\n",
      "z shape: torch.Size([1024, 384]) (1024, 384)\n",
      "Starting Training\n",
      "epoch: 00, loss: -0.91233\n",
      "epoch: 01, loss: -0.93198\n",
      "epoch: 02, loss: -0.93744\n",
      "epoch: 03, loss: -0.94444\n",
      "epoch: 04, loss: -0.95033\n",
      "epoch: 05, loss: -0.95413\n",
      "epoch: 06, loss: -0.95675\n",
      "epoch: 07, loss: -0.95898\n",
      "epoch: 08, loss: -0.96057\n",
      "epoch: 09, loss: -0.96196\n",
      "torch.Size([1024, 384])\n",
      "W_feat shape= (1024, 1024)\n"
     ]
    },
    {
     "name": "stderr",
     "output_type": "stream",
     "text": [
      "\r",
      " 10%|█████████████████▏                                                                                                                                                     | 103/999 [1:56:43<15:21:41, 61.72s/it]"
     ]
    },
    {
     "name": "stdout",
     "output_type": "stream",
     "text": [
      "eigenvalues shape torch.Size([15]) eigenvectors shape torch.Size([15, 1024])\n",
      "103 /home/phdcs2/Hard_Disk/Datasets/Deep-Spectral-Segmentation/data/object-segmentation/ECSSD/features/0105_resized.pth\n",
      "dict_keys(['k', 'indices', 'file', 'id', 'model_name', 'patch_size', 'shape'])\n",
      "0105_resized\n",
      "shape of w_feat_ds torch.Size([1024, 1024])\n",
      "z shape: torch.Size([1024, 384]) (1024, 384)\n",
      "Starting Training\n",
      "epoch: 00, loss: -0.85172\n",
      "epoch: 01, loss: -0.90955\n",
      "epoch: 02, loss: -0.92343\n",
      "epoch: 03, loss: -0.93093\n",
      "epoch: 04, loss: -0.93519\n",
      "epoch: 05, loss: -0.93788\n",
      "epoch: 06, loss: -0.93911\n",
      "epoch: 07, loss: -0.94025\n",
      "epoch: 08, loss: -0.94119\n",
      "epoch: 09, loss: -0.94100\n",
      "torch.Size([1024, 384])\n",
      "W_feat shape= (1024, 1024)\n"
     ]
    },
    {
     "name": "stderr",
     "output_type": "stream",
     "text": [
      "\r",
      " 10%|█████████████████▍                                                                                                                                                     | 104/999 [1:57:49<15:37:49, 62.87s/it]"
     ]
    },
    {
     "name": "stdout",
     "output_type": "stream",
     "text": [
      "eigenvalues shape torch.Size([15]) eigenvectors shape torch.Size([15, 1024])\n",
      "104 /home/phdcs2/Hard_Disk/Datasets/Deep-Spectral-Segmentation/data/object-segmentation/ECSSD/features/0106_resized.pth\n",
      "dict_keys(['k', 'indices', 'file', 'id', 'model_name', 'patch_size', 'shape'])\n",
      "0106_resized\n",
      "shape of w_feat_ds torch.Size([1024, 1024])\n",
      "z shape: torch.Size([1024, 384]) (1024, 384)\n",
      "Starting Training\n",
      "epoch: 00, loss: -0.84279\n",
      "epoch: 01, loss: -0.90422\n",
      "epoch: 02, loss: -0.91856\n",
      "epoch: 03, loss: -0.92492\n",
      "epoch: 04, loss: -0.92855\n",
      "epoch: 05, loss: -0.92950\n",
      "epoch: 06, loss: -0.92927\n",
      "epoch: 07, loss: -0.92812\n",
      "epoch: 08, loss: -0.92648\n",
      "epoch: 09, loss: -0.92596\n",
      "torch.Size([1024, 384])\n",
      "W_feat shape= (1024, 1024)\n"
     ]
    },
    {
     "name": "stderr",
     "output_type": "stream",
     "text": [
      "\r",
      " 11%|█████████████████▌                                                                                                                                                     | 105/999 [1:58:46<15:14:42, 61.39s/it]"
     ]
    },
    {
     "name": "stdout",
     "output_type": "stream",
     "text": [
      "eigenvalues shape torch.Size([15]) eigenvectors shape torch.Size([15, 1024])\n",
      "105 /home/phdcs2/Hard_Disk/Datasets/Deep-Spectral-Segmentation/data/object-segmentation/ECSSD/features/0107_resized.pth\n",
      "dict_keys(['k', 'indices', 'file', 'id', 'model_name', 'patch_size', 'shape'])\n",
      "0107_resized\n",
      "shape of w_feat_ds torch.Size([1024, 1024])\n",
      "z shape: torch.Size([1024, 384]) (1024, 384)\n",
      "Starting Training\n",
      "epoch: 00, loss: -0.84750\n",
      "epoch: 01, loss: -0.90631\n",
      "epoch: 02, loss: -0.91996\n",
      "epoch: 03, loss: -0.92651\n",
      "epoch: 04, loss: -0.93031\n",
      "epoch: 05, loss: -0.93265\n",
      "epoch: 06, loss: -0.93437\n",
      "epoch: 07, loss: -0.93550\n",
      "epoch: 08, loss: -0.93585\n",
      "epoch: 09, loss: -0.93603\n",
      "torch.Size([1024, 384])\n",
      "W_feat shape= (1024, 1024)\n"
     ]
    },
    {
     "name": "stderr",
     "output_type": "stream",
     "text": [
      "\r",
      " 11%|█████████████████▋                                                                                                                                                     | 106/999 [1:59:43<14:53:22, 60.03s/it]"
     ]
    },
    {
     "name": "stdout",
     "output_type": "stream",
     "text": [
      "eigenvalues shape torch.Size([15]) eigenvectors shape torch.Size([15, 1024])\n",
      "106 /home/phdcs2/Hard_Disk/Datasets/Deep-Spectral-Segmentation/data/object-segmentation/ECSSD/features/0108_resized.pth\n",
      "dict_keys(['k', 'indices', 'file', 'id', 'model_name', 'patch_size', 'shape'])\n",
      "0108_resized\n",
      "shape of w_feat_ds torch.Size([1024, 1024])\n",
      "z shape: torch.Size([1024, 384]) (1024, 384)\n",
      "Starting Training\n",
      "epoch: 00, loss: -0.84705\n",
      "epoch: 01, loss: -0.90591\n",
      "epoch: 02, loss: -0.91927\n",
      "epoch: 03, loss: -0.92617\n",
      "epoch: 04, loss: -0.92939\n",
      "epoch: 05, loss: -0.93100\n",
      "epoch: 06, loss: -0.93218\n",
      "epoch: 07, loss: -0.93273\n",
      "epoch: 08, loss: -0.93380\n",
      "epoch: 09, loss: -0.93408\n",
      "torch.Size([1024, 384])\n",
      "W_feat shape= (1024, 1024)\n"
     ]
    },
    {
     "name": "stderr",
     "output_type": "stream",
     "text": [
      "\r",
      " 11%|█████████████████▉                                                                                                                                                     | 107/999 [2:00:43<14:51:04, 59.94s/it]"
     ]
    },
    {
     "name": "stdout",
     "output_type": "stream",
     "text": [
      "eigenvalues shape torch.Size([15]) eigenvectors shape torch.Size([15, 1024])\n",
      "107 /home/phdcs2/Hard_Disk/Datasets/Deep-Spectral-Segmentation/data/object-segmentation/ECSSD/features/0109_resized.pth\n",
      "dict_keys(['k', 'indices', 'file', 'id', 'model_name', 'patch_size', 'shape'])\n",
      "0109_resized\n",
      "shape of w_feat_ds torch.Size([1024, 1024])\n",
      "z shape: torch.Size([1024, 384]) (1024, 384)\n",
      "Starting Training\n",
      "epoch: 00, loss: -0.87942\n",
      "epoch: 01, loss: -0.92747\n",
      "epoch: 02, loss: -0.93753\n",
      "epoch: 03, loss: -0.94191\n",
      "epoch: 04, loss: -0.94395\n",
      "epoch: 05, loss: -0.94449\n",
      "epoch: 06, loss: -0.94437\n",
      "epoch: 07, loss: -0.94387\n",
      "epoch: 08, loss: -0.94311\n",
      "epoch: 09, loss: -0.94338\n",
      "torch.Size([1024, 384])\n",
      "W_feat shape= (1024, 1024)\n"
     ]
    },
    {
     "name": "stderr",
     "output_type": "stream",
     "text": [
      "\r",
      " 11%|██████████████████                                                                                                                                                     | 108/999 [2:01:47<15:08:34, 61.18s/it]"
     ]
    },
    {
     "name": "stdout",
     "output_type": "stream",
     "text": [
      "eigenvalues shape torch.Size([15]) eigenvectors shape torch.Size([15, 1024])\n",
      "108 /home/phdcs2/Hard_Disk/Datasets/Deep-Spectral-Segmentation/data/object-segmentation/ECSSD/features/0110_resized.pth\n",
      "dict_keys(['k', 'indices', 'file', 'id', 'model_name', 'patch_size', 'shape'])\n",
      "0110_resized\n",
      "shape of w_feat_ds torch.Size([1024, 1024])\n",
      "z shape: torch.Size([1024, 384]) (1024, 384)\n",
      "Starting Training\n",
      "epoch: 00, loss: -0.85394\n",
      "epoch: 01, loss: -0.90811\n",
      "epoch: 02, loss: -0.91660\n",
      "epoch: 03, loss: -0.91597\n",
      "epoch: 04, loss: -0.91352\n",
      "epoch: 05, loss: -0.91305\n",
      "epoch: 06, loss: -0.91454\n",
      "epoch: 07, loss: -0.91787\n",
      "epoch: 08, loss: -0.92329\n",
      "epoch: 09, loss: -0.92662\n",
      "torch.Size([1024, 384])\n",
      "W_feat shape= (1024, 1024)\n"
     ]
    },
    {
     "name": "stderr",
     "output_type": "stream",
     "text": [
      "\r",
      " 11%|██████████████████▏                                                                                                                                                    | 109/999 [2:02:41<14:36:53, 59.12s/it]"
     ]
    },
    {
     "name": "stdout",
     "output_type": "stream",
     "text": [
      "eigenvalues shape torch.Size([15]) eigenvectors shape torch.Size([15, 1024])\n",
      "109 /home/phdcs2/Hard_Disk/Datasets/Deep-Spectral-Segmentation/data/object-segmentation/ECSSD/features/0111_resized.pth\n",
      "dict_keys(['k', 'indices', 'file', 'id', 'model_name', 'patch_size', 'shape'])\n",
      "0111_resized\n",
      "shape of w_feat_ds torch.Size([1024, 1024])\n",
      "z shape: torch.Size([1024, 384]) (1024, 384)\n",
      "Starting Training\n",
      "epoch: 00, loss: -0.90511\n",
      "epoch: 01, loss: -0.94081\n",
      "epoch: 02, loss: -0.94699\n",
      "epoch: 03, loss: -0.94945\n",
      "epoch: 04, loss: -0.94965\n",
      "epoch: 05, loss: -0.94923\n",
      "epoch: 06, loss: -0.94831\n",
      "epoch: 07, loss: -0.94730\n",
      "epoch: 08, loss: -0.94697\n",
      "epoch: 09, loss: -0.94752\n",
      "torch.Size([1024, 384])\n",
      "W_feat shape= (1024, 1024)\n"
     ]
    },
    {
     "name": "stderr",
     "output_type": "stream",
     "text": [
      "\r",
      " 11%|██████████████████▍                                                                                                                                                    | 110/999 [2:03:42<14:43:41, 59.64s/it]"
     ]
    },
    {
     "name": "stdout",
     "output_type": "stream",
     "text": [
      "eigenvalues shape torch.Size([15]) eigenvectors shape torch.Size([15, 1024])\n",
      "110 /home/phdcs2/Hard_Disk/Datasets/Deep-Spectral-Segmentation/data/object-segmentation/ECSSD/features/0112_resized.pth\n",
      "dict_keys(['k', 'indices', 'file', 'id', 'model_name', 'patch_size', 'shape'])\n",
      "0112_resized\n",
      "shape of w_feat_ds torch.Size([1024, 1024])\n",
      "z shape: torch.Size([1024, 384]) (1024, 384)\n",
      "Starting Training\n",
      "epoch: 00, loss: -0.91256\n",
      "epoch: 01, loss: -0.93909\n",
      "epoch: 02, loss: -0.94043\n",
      "epoch: 03, loss: -0.94054\n",
      "epoch: 04, loss: -0.94166\n",
      "epoch: 05, loss: -0.94303\n",
      "epoch: 06, loss: -0.94639\n",
      "epoch: 07, loss: -0.94887\n",
      "epoch: 08, loss: -0.95124\n",
      "epoch: 09, loss: -0.95350\n",
      "torch.Size([1024, 384])\n",
      "W_feat shape= (1024, 1024)\n"
     ]
    },
    {
     "name": "stderr",
     "output_type": "stream",
     "text": [
      "\r",
      " 11%|██████████████████▌                                                                                                                                                    | 111/999 [2:04:43<14:46:22, 59.89s/it]"
     ]
    },
    {
     "name": "stdout",
     "output_type": "stream",
     "text": [
      "eigenvalues shape torch.Size([15]) eigenvectors shape torch.Size([15, 1024])\n",
      "111 /home/phdcs2/Hard_Disk/Datasets/Deep-Spectral-Segmentation/data/object-segmentation/ECSSD/features/0113_resized.pth\n",
      "dict_keys(['k', 'indices', 'file', 'id', 'model_name', 'patch_size', 'shape'])\n",
      "0113_resized\n",
      "shape of w_feat_ds torch.Size([1024, 1024])\n",
      "z shape: torch.Size([1024, 384]) (1024, 384)\n",
      "Starting Training\n",
      "epoch: 00, loss: -0.84472\n",
      "epoch: 01, loss: -0.89979\n",
      "epoch: 02, loss: -0.90737\n",
      "epoch: 03, loss: -0.90537\n",
      "epoch: 04, loss: -0.90367\n",
      "epoch: 05, loss: -0.90452\n",
      "epoch: 06, loss: -0.90788\n",
      "epoch: 07, loss: -0.91354\n",
      "epoch: 08, loss: -0.91811\n",
      "epoch: 09, loss: -0.92301\n",
      "torch.Size([1024, 384])\n",
      "W_feat shape= (1024, 1024)\n"
     ]
    },
    {
     "name": "stderr",
     "output_type": "stream",
     "text": [
      "\r",
      " 11%|██████████████████▋                                                                                                                                                    | 112/999 [2:05:44<14:52:40, 60.38s/it]"
     ]
    },
    {
     "name": "stdout",
     "output_type": "stream",
     "text": [
      "eigenvalues shape torch.Size([15]) eigenvectors shape torch.Size([15, 1024])\n",
      "112 /home/phdcs2/Hard_Disk/Datasets/Deep-Spectral-Segmentation/data/object-segmentation/ECSSD/features/0114_resized.pth\n",
      "dict_keys(['k', 'indices', 'file', 'id', 'model_name', 'patch_size', 'shape'])\n",
      "0114_resized\n",
      "shape of w_feat_ds torch.Size([1024, 1024])\n",
      "z shape: torch.Size([1024, 384]) (1024, 384)\n",
      "Starting Training\n",
      "epoch: 00, loss: -0.84178\n",
      "epoch: 01, loss: -0.90652\n",
      "epoch: 02, loss: -0.92216\n",
      "epoch: 03, loss: -0.93030\n",
      "epoch: 04, loss: -0.93538\n",
      "epoch: 05, loss: -0.93901\n",
      "epoch: 06, loss: -0.94096\n",
      "epoch: 07, loss: -0.94264\n",
      "epoch: 08, loss: -0.94332\n",
      "epoch: 09, loss: -0.94378\n",
      "torch.Size([1024, 384])\n",
      "W_feat shape= (1024, 1024)\n"
     ]
    },
    {
     "name": "stderr",
     "output_type": "stream",
     "text": [
      "\r",
      " 11%|██████████████████▉                                                                                                                                                    | 113/999 [2:06:49<15:12:04, 61.77s/it]"
     ]
    },
    {
     "name": "stdout",
     "output_type": "stream",
     "text": [
      "eigenvalues shape torch.Size([15]) eigenvectors shape torch.Size([15, 1024])\n",
      "113 /home/phdcs2/Hard_Disk/Datasets/Deep-Spectral-Segmentation/data/object-segmentation/ECSSD/features/0115_resized.pth\n",
      "dict_keys(['k', 'indices', 'file', 'id', 'model_name', 'patch_size', 'shape'])\n",
      "0115_resized\n",
      "shape of w_feat_ds torch.Size([1024, 1024])\n",
      "z shape: torch.Size([1024, 384]) (1024, 384)\n",
      "Starting Training\n",
      "epoch: 00, loss: -0.91683\n",
      "epoch: 01, loss: -0.93315\n",
      "epoch: 02, loss: -0.93476\n",
      "epoch: 03, loss: -0.94113\n",
      "epoch: 04, loss: -0.94565\n",
      "epoch: 05, loss: -0.95099\n",
      "epoch: 06, loss: -0.95402\n",
      "epoch: 07, loss: -0.95670\n",
      "epoch: 08, loss: -0.95887\n",
      "epoch: 09, loss: -0.96038\n",
      "torch.Size([1024, 384])\n",
      "W_feat shape= (1024, 1024)\n"
     ]
    },
    {
     "name": "stderr",
     "output_type": "stream",
     "text": [
      "\r",
      " 11%|███████████████████                                                                                                                                                    | 114/999 [2:07:52<15:14:10, 61.98s/it]"
     ]
    },
    {
     "name": "stdout",
     "output_type": "stream",
     "text": [
      "eigenvalues shape torch.Size([15]) eigenvectors shape torch.Size([15, 1024])\n",
      "114 /home/phdcs2/Hard_Disk/Datasets/Deep-Spectral-Segmentation/data/object-segmentation/ECSSD/features/0116_resized.pth\n",
      "dict_keys(['k', 'indices', 'file', 'id', 'model_name', 'patch_size', 'shape'])\n",
      "0116_resized\n",
      "shape of w_feat_ds torch.Size([1024, 1024])\n",
      "z shape: torch.Size([1024, 384]) (1024, 384)\n",
      "Starting Training\n",
      "epoch: 00, loss: -0.90483\n",
      "epoch: 01, loss: -0.94103\n",
      "epoch: 02, loss: -0.94826\n",
      "epoch: 03, loss: -0.95112\n",
      "epoch: 04, loss: -0.95200\n",
      "epoch: 05, loss: -0.95194\n",
      "epoch: 06, loss: -0.95091\n",
      "epoch: 07, loss: -0.95060\n",
      "epoch: 08, loss: -0.94959\n",
      "epoch: 09, loss: -0.94943\n",
      "torch.Size([1024, 384])\n",
      "W_feat shape= (1024, 1024)\n"
     ]
    },
    {
     "name": "stderr",
     "output_type": "stream",
     "text": [
      "\r",
      " 12%|███████████████████▏                                                                                                                                                   | 115/999 [2:08:53<15:11:12, 61.85s/it]"
     ]
    },
    {
     "name": "stdout",
     "output_type": "stream",
     "text": [
      "eigenvalues shape torch.Size([15]) eigenvectors shape torch.Size([15, 1024])\n",
      "115 /home/phdcs2/Hard_Disk/Datasets/Deep-Spectral-Segmentation/data/object-segmentation/ECSSD/features/0117_resized.pth\n",
      "dict_keys(['k', 'indices', 'file', 'id', 'model_name', 'patch_size', 'shape'])\n",
      "0117_resized\n",
      "shape of w_feat_ds torch.Size([1024, 1024])\n",
      "z shape: torch.Size([1024, 384]) (1024, 384)\n",
      "Starting Training\n",
      "epoch: 00, loss: -0.91338\n",
      "epoch: 01, loss: -0.94774\n",
      "epoch: 02, loss: -0.95518\n",
      "epoch: 03, loss: -0.95921\n",
      "epoch: 04, loss: -0.96164\n",
      "epoch: 05, loss: -0.96325\n",
      "epoch: 06, loss: -0.96432\n"
     ]
    }
   ],
   "source": [
    "pca_comp=384\n",
    "pca = PCA(n_components=pca_comp)\n",
    "utils.make_output_dir(output_dir)\n",
    "inputs = list(enumerate(sorted(Path(features_dir).iterdir())))\n",
    "for inp in tqdm(inputs):\n",
    "    index, features_file = inp\n",
    "    print(index, features_file)\n",
    "     # Load\n",
    "    data_dict = torch.load(features_file, map_location='cpu')\n",
    "    print(data_dict.keys())   #['k', 'indices', 'file', 'id', 'model_name', 'patch_size', 'shape']\n",
    "    # print(\"shape=\", data_dict['shape'], \"k shape\", data_dict['k'].shape, \"patch_size=\", data_dict['patch_size'])\n",
    "    image_id = data_dict['file'][:-4]\n",
    "    print(image_id)\n",
    "    # Load\n",
    "    output_file = str(Path(output_dir) / f'{image_id}.pth')\n",
    "    if Path(output_file).is_file():\n",
    "        print(f'Skipping existing file {str(output_file)}')\n",
    "        continue\n",
    "        # break\n",
    "        # return  # skip because already generated\n",
    "\n",
    "    # Load affinity matrix\n",
    "    feats = data_dict[which_features].squeeze().cuda()\n",
    "    # print(\"Without normalizing, Features Shape is\",feats.shape)\n",
    "    if normalize:\n",
    "        feats = F.normalize(feats, p=2, dim=-1)\n",
    "    # print(\"After normalization, Features Shape\",feats.shape)\n",
    "    # print(\"which_matrix=\", which_matrix)\n",
    "    # Eigenvectors of affinity matrix\n",
    "    if which_matrix == 'affinity_torch':\n",
    "        W = feats @ feats.T\n",
    "        # W_feat=contrastive_affinity(feats, feats.T)\n",
    "        # print(\"W shape=\", W.shape)\n",
    "        if threshold_at_zero:\n",
    "            W = (W * (W > 0))\n",
    "            # print(\"W shape=\", W.shape)\n",
    "        eigenvalues, eigenvectors = torch.eig(W, eigenvectors=True)\n",
    "        eigenvalues = eigenvalues.cpu()\n",
    "        eigenvectors = eigenvectors.cpu()\n",
    "        print(\"which matrix=\",which_matrix, \"eigenvalues shape\", eigenvalues.shape, \"eigenvectors shape\", eigenvectors.shape)\n",
    "\n",
    "\n",
    "    # Eigenvectors of affinity matrix with scipy\n",
    "    elif which_matrix == 'affinity_svd':\n",
    "        USV = torch.linalg.svd(feats, full_matrices=False)\n",
    "        eigenvectors = USV[0][:, :K].T.to('cpu', non_blocking=True)\n",
    "        eigenvalues = USV[1][:K].to('cpu', non_blocking=True)\n",
    "        print(\"which matrix=\",which_matrix,\"eigenvalues shape\", eigenvalues.shape, \"eigenvectors shape\", eigenvectors.shape)\n",
    "\n",
    "    # Eigenvectors of affinity matrix with scipy\n",
    "    elif which_matrix == 'affinity':\n",
    "        # print(\"Without normalizing, Features Shape is\",feats.shape)\n",
    "        W = (feats @ feats.T)\n",
    "        # W_feat=contrastive_affinity(feats, feats.T)\n",
    "        # print(\"W shape=\", W.shape)\n",
    "        if threshold_at_zero:\n",
    "            W = (W * (W > 0))\n",
    "        W = W.cpu().numpy()\n",
    "        # print(\"W shape=\", W.shape)\n",
    "        eigenvalues, eigenvectors = eigsh(W, which='LM', k=K)\n",
    "        eigenvectors = torch.flip(torch.from_numpy(eigenvectors), dims=(-1,)).T\n",
    "        print(\"which matrix=\",which_matrix, \"eigenvalues shape\", eigenvalues.shape, \"eigenvectors shape\", eigenvectors.shape)\n",
    "\n",
    "    # Eigenvectors of matting laplacian matrix\n",
    "    elif which_matrix in ['matting_laplacian', 'laplacian']:\n",
    "\n",
    "        # Get sizes\n",
    "        B, C, H, W, P, H_patch, W_patch, H_pad, W_pad = utils.get_image_sizes(data_dict)\n",
    "        if image_downsample_factor is None:\n",
    "            image_downsample_factor = P\n",
    "        H_pad_lr, W_pad_lr = H_pad // image_downsample_factor, W_pad // image_downsample_factor\n",
    "\n",
    "        # Upscale features to match the resolution\n",
    "        if (H_patch, W_patch) != (H_pad_lr, W_pad_lr):\n",
    "            feats = F.interpolate(\n",
    "                feats.T.reshape(1, -1, H_patch, W_patch),\n",
    "                size=(H_pad_lr, W_pad_lr), mode='bilinear', align_corners=False\n",
    "            ).reshape(-1, H_pad_lr * W_pad_lr).T\n",
    "\n",
    "        ### Feature affinities\n",
    "        # print(\"Without normalizing, Features Shape is\",feats.shape)\n",
    "\n",
    "        W_feat_ds = (feats @ feats.T)\n",
    "        print(\"shape of w_feat_ds\", W_feat_ds.shape)\n",
    "        max_wfeatds=torch.max(W_feat_ds).item()\n",
    "        alpha=3\n",
    "        # print(\"Before Subtraction\")\n",
    "        count_positive = torch.count_nonzero(torch.greater_equal(W_feat_ds, 0.))\n",
    "        # print(\"positive values=\", count_positive)\n",
    "        W_feat_ds_sum = torch.sum(W_feat_ds)\n",
    "        # print(\"w_feat_ds_sum=\", W_feat_ds_sum)\n",
    "        W_feat_ds_mean = torch.mean(W_feat_ds)\n",
    "        # print(\"Mean of W_feat\", W_feat_ds_mean)\n",
    "        W_feat_ds_median = torch.median(W_feat_ds)\n",
    "        # print(\"Median of W_feat\", W_feat_ds_median)\n",
    "        W_feat_ds_std = torch.std(W_feat_ds)\n",
    "        # print(\"Standard Deviation of W_feat\", W_feat_ds_std)\n",
    "        W_feat_ds_max = torch.max(W_feat_ds)\n",
    "        # print(\"Maximum of W_feat\", W_feat_ds_max)\n",
    "        W_feat_ds_min = torch.min(W_feat_ds)\n",
    "        # print(\"Minimum of W_feat\", W_feat_ds_min)\n",
    "        # print(\"Factor value\", (max_wfeatds / alpha))\n",
    "\n",
    "        W_feat_ds = W_feat_ds - (max_wfeatds / alpha)\n",
    "\n",
    "        # print(\"After Subtraction\")\n",
    "        count_positive = torch.count_nonzero(torch.greater_equal(W_feat_ds, 0.))\n",
    "        # print(\"positive values=\", count_positive)\n",
    "        W_feat_ds_sum = torch.sum(W_feat_ds)\n",
    "        # print(\"w_feat_ds_sum=\", W_feat_ds_sum)\n",
    "        W_feat_ds_mean = torch.mean(W_feat_ds)\n",
    "        # print(\"Mean of W_feat\", W_feat_ds_mean)\n",
    "        W_feat_ds_median = torch.median(W_feat_ds)\n",
    "        # print(\"Median of W_feat\", W_feat_ds_median)\n",
    "        W_feat_ds_std = torch.std(W_feat_ds)\n",
    "        # print(\"Standard Deviation of W_feat\", W_feat_ds_std)\n",
    "        W_feat_ds_max = torch.max(W_feat_ds)\n",
    "        # print(\"Maximum of W_feat\", W_feat_ds_max)\n",
    "        W_feat_ds_min = torch.min(W_feat_ds)\n",
    "        # print(\"Minimum of W_feat\", W_feat_ds_min)\n",
    "        proj_layer=nn.Linear(pca_comp,pca_comp).cuda()\n",
    "        elu = nn.ELU()\n",
    "        proj_model = nn.Sequential(proj_layer, elu ).cuda()\n",
    "        pred_layer=nn.Linear(pca_comp,pca_comp).cuda()\n",
    "        x0=feats\n",
    "\n",
    "        x0_arr=x0.cpu()\n",
    "        scale = np.random.uniform(0.8, 1.2)  # Random scaling factor between 0.8 and 1.2\n",
    "        translation = np.random.uniform(-10, 10, size=2)  # Random translation vector between -10 and 10 in both directions\n",
    "        rotation = np.random.uniform(-15, 15)  # Random rotation angle between -15 and 15 degrees\n",
    "        shear = np.random.uniform(-0.2, 0.2, size=2)  # Random shear factor between -0.2 and 0.2 in both directions\n",
    "\n",
    "        # Define the affine matrix\n",
    "        affine_matrix = np.array([[scale * np.cos(rotation), -shear[0] * scale * np.sin(rotation), translation[0]],\n",
    "                                  [shear[1] * scale * np.sin(rotation), scale * np.cos(rotation), translation[1]],\n",
    "                                  [0, 0, 1]])\n",
    "        # print(x0_arr.shape)\n",
    "        x1_arr=affine_transform(x0_arr, affine_matrix)\n",
    "    \n",
    "    \n",
    "#with PCA\n",
    "#         z0_arr= pca.fit_transform(x0_arr)\n",
    "#         z1_arr= pca.fit_transform(x1_arr)\n",
    "#         z0 = torch.from_numpy(z0_arr).float()\n",
    "#         z1 = torch.from_numpy(z1_arr).float()\n",
    "#         print(\"x shape: \", x0_arr.shape, x1_arr.shape)    \n",
    "#         print(\"z shape:\", z0_arr.shape, z1_arr.shape)\n",
    "\n",
    "#without PCA\n",
    "#         print(x0_arr.shape, type(x0))\n",
    "        z0=x0_arr\n",
    "        z1=x1_arr\n",
    "        print(\"z shape:\", z0.shape, z1.shape)\n",
    "#         z0 = torch.from_numpy(x0_arr).float()\n",
    "#         z1 = torch.from_numpy(x1_arr).float()\n",
    "\n",
    "        # Define the affine transformation parameters\n",
    "\n",
    "        # feat_list.append(feats)\n",
    "        feat_dataset_z0 = Feature_Dataset(z0)\n",
    "        if feats.shape[0]%2==0:\n",
    "            features_dataloader_z0 = DataLoader(feat_dataset_z0, batch_size=batch_size, shuffle=True)\n",
    "        else:\n",
    "            features_dataloader_z0 = DataLoader(feat_dataset_z0, batch_size=batch_size, shuffle=True, drop_last=True)\n",
    "\n",
    "        feat_dataset_z1 = Feature_Dataset(z1)\n",
    "        if feats.shape[0]%2==0:\n",
    "            features_dataloader_z1 = DataLoader(feat_dataset_z1, batch_size=batch_size, shuffle=True)\n",
    "        else:\n",
    "            features_dataloader_z1 = DataLoader(feat_dataset_z1, batch_size=batch_size, shuffle=True, drop_last=True)\n",
    "        device = \"cuda\" if torch.cuda.is_available() else \"cpu\"\n",
    "    \n",
    "        criterion = NegativeCosineSimilarity()\n",
    "        proj_optimizer = torch.optim.SGD(proj_layer.parameters(), lr=0.06)\n",
    "        pred_optimizer = torch.optim.SGD(pred_layer.parameters(), lr=0.06)\n",
    "        print(\"Starting Training\")\n",
    "        for epoch in range(epochs):\n",
    "            total_loss = 0\n",
    "            for z0_new,z1_new in zip(features_dataloader_z0,features_dataloader_z1):\n",
    "                z0_new = z0_new.to(device)\n",
    "                z1_new = z1_new.to(device)\n",
    "                # z0_new=proj_layer(z0_new)\n",
    "                z0_new=proj_model(z0_new)\n",
    "                # z1_new=proj_layer(z1_new)\n",
    "                # z1_new=proj_layer(z1_new)\n",
    "                z1_new=proj_model(z1_new)\n",
    "    #             print(\"z0_new.shape\", z0_new.shape)\n",
    "    #             print(\"z1_new.shape\", z1_new.shape)\n",
    "                p0=pred_layer(z0_new)\n",
    "                p1=pred_layer(z1_new)\n",
    "    #             print(\"p0.shape\", p0.shape)\n",
    "    #             print(\"p1.shape\", p1.shape)\n",
    "\n",
    "                z0_new=z0_new.detach()\n",
    "                z1_new=z1_new.detach()\n",
    "                loss = 0.5 * (criterion(z0_new, p1) + criterion(z1_new, p0))\n",
    "                total_loss += loss.detach()\n",
    "                loss.backward()\n",
    "                proj_optimizer.step()\n",
    "                pred_optimizer.step()\n",
    "                proj_optimizer.zero_grad()\n",
    "                pred_optimizer.zero_grad()\n",
    "            avg_loss = total_loss / len(features_dataloader_z0)\n",
    "            print(f\"epoch: {epoch:>02}, loss: {avg_loss:.5f}\")\n",
    "        # z0_projected=proj_layer(z0.to(device))\n",
    "        projected_feature=pred_layer(z0.to(device))\n",
    "        print(projected_feature.shape)\n",
    "        W_feat_siam=torch.matmul(projected_feature, projected_feature.t())\n",
    "        # max_wfeatsiam=torch.max(W_feat_siam).item()\n",
    "        # alpha=3\n",
    "        # W_feat_siam = W_feat_siam - (max_wfeatsiam / alpha)\n",
    "        # W_feat_siam=torch.matmul(projected_feature[0], projected_feature[0].t())\n",
    "        W_feat=W_feat_ds + 0.1*W_feat_siam\n",
    "#         W_feat=normalize_affinity_matrix(W_feat_unnorm, axis=1)\n",
    "        # print(\"W_feat.shape=\", W_feat.shape)\n",
    "        # print(\"W_feat.shape=\", W_feat.shape)\n",
    "        # W_feat=contrastive_affinity(feats, feats.T)\n",
    "        if threshold_at_zero:\n",
    "            W_feat = (W_feat * (W_feat > 0))\n",
    "        W_feat = W_feat / W_feat.max()  # NOTE: If features are normalized, this naturally does nothing\n",
    "        # W_feat = W_feat.cpu().numpy()\n",
    "        W_feat = W_feat.detach().cpu().numpy()\n",
    "        print(\"W_feat shape=\",W_feat.shape)\n",
    "\n",
    "        ### Color affinities\n",
    "        # If we are fusing with color affinites, then load the image and compute\n",
    "        if image_color_lambda > 0:\n",
    "\n",
    "            # Load image\n",
    "            image_file = str(Path(images_root) / f'{image_id}.jpg')\n",
    "            image_lr = Image.open(image_file).resize((W_pad_lr, H_pad_lr), Image.BILINEAR)\n",
    "            image_lr = np.array(image_lr) / 255.\n",
    "\n",
    "            # Color affinities (of type scipy.sparse.csr_matrix)\n",
    "            if which_color_matrix == 'knn':\n",
    "                W_lr = utils.knn_affinity(image_lr / 255)\n",
    "            elif which_color_matrix == 'rw':\n",
    "                W_lr = utils.rw_affinity(image_lr / 255)\n",
    "\n",
    "            # Convert to dense numpy array\n",
    "            W_color = np.array(W_lr.todense().astype(np.float32))\n",
    "            # print(\"W_color shape\", W_color.shape)\n",
    "\n",
    "        else:\n",
    "\n",
    "            # No color affinity\n",
    "            W_color = 0\n",
    "\n",
    "        # Combine\n",
    "        W_comb = W_feat + W_color * image_color_lambda  # combination\n",
    "        D_comb = np.array(utils.get_diagonal(W_comb).todense())  # is dense or sparse faster? not sure, should check\n",
    "        # print(\"W_comb shape= \", W_comb.shape, \"D_comb shape\",  D_comb.shape)\n",
    "        if lapnorm:\n",
    "            try:\n",
    "                eigenvalues, eigenvectors = eigsh(D_comb - W_comb, k=K, sigma=0, which='LM', M=D_comb)\n",
    "            except:\n",
    "                eigenvalues, eigenvectors = eigsh(D_comb - W_comb, k=K, which='SM', M=D_comb)\n",
    "        else:\n",
    "            try:\n",
    "                eigenvalues, eigenvectors = eigsh(D_comb - W_comb, k=K, sigma=0, which='LM')\n",
    "            except:\n",
    "                eigenvalues, eigenvectors = eigsh(D_comb - W_comb, k=K, which='SM')\n",
    "        eigenvalues, eigenvectors = torch.from_numpy(eigenvalues), torch.from_numpy(eigenvectors.T).float()\n",
    "    print(\"eigenvalues shape\", eigenvalues.shape, \"eigenvectors shape\", eigenvectors.shape)\n",
    "    # Sign ambiguity\n",
    "    for k in range(eigenvectors.shape[0]):\n",
    "        if 0.5 < torch.mean((eigenvectors[k] > 0).float()).item() < 1.0:  # reverse segment\n",
    "            eigenvectors[k] = 0 - eigenvectors[k]\n",
    "\n",
    "    # Save dict\n",
    "    output_dict = {'eigenvalues': eigenvalues, 'eigenvectors': eigenvectors}\n",
    "    torch.save(output_dict, output_file)"
   ]
  }
 ],
 "metadata": {
  "kernelspec": {
   "display_name": "Python 3 (ipykernel)",
   "language": "python",
   "name": "python3"
  },
  "language_info": {
   "codemirror_mode": {
    "name": "ipython",
    "version": 3
   },
   "file_extension": ".py",
   "mimetype": "text/x-python",
   "name": "python",
   "nbconvert_exporter": "python",
   "pygments_lexer": "ipython3",
   "version": "3.8.10"
  }
 },
 "nbformat": 4,
 "nbformat_minor": 1
}
