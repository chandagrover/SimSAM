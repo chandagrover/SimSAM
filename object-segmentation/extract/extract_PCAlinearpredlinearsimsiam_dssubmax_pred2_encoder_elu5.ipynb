{
 "cells": [
  {
   "cell_type": "code",
   "execution_count": 1,
   "metadata": {
    "pycharm": {
     "name": "#%%\n"
    }
   },
   "outputs": [],
   "source": [
    "# from functools import partial\n",
    "from pathlib import Path\n",
    "# from typing import Optional, Tuple\n",
    "# import cv2\n",
    "# import fire\n",
    "import numpy as np\n",
    "import torch\n",
    "import torch.nn.functional as F\n",
    "from accelerate import Accelerator\n",
    "from PIL import Image\n",
    "from scipy.sparse.linalg import eigsh\n",
    "# from sklearn.cluster import KMeans, MiniBatchKMeans\n",
    "from sklearn.decomposition import PCA\n",
    "# from torchvision.utils import draw_bounding_boxes\n",
    "from tqdm import tqdm\n",
    "import extract_utils as utils\n",
    "from torch.utils.data import Dataset, DataLoader\n",
    "from lightly.loss import NegativeCosineSimilarity\n",
    "from lightly.models.modules import SimSiamPredictionHead, SimSiamProjectionHead\n",
    "from torch import nn\n",
    "import torchvision\n",
    "from scipy.ndimage import affine_transform"
   ]
  },
  {
   "cell_type": "markdown",
   "metadata": {
    "pycharm": {
     "name": "#%% md\n"
    }
   },
   "source": [
    "## Extract Eigen Vectors"
   ]
  },
  {
   "cell_type": "code",
   "execution_count": 2,
   "outputs": [],
   "source": [
    "images_root=\"/home/phdcs2/Hard_Disk/Datasets/Deep-Spectral-Segmentation/data/object-segmentation/ECSSD/images\"\n",
    "# features_dir=\"/home/phdcs2/Hard_Disk/Datasets/Deep-Spectral-Segmentation/data/object-segmentation/ECSSD_1/features/dino_vits16\"\n",
    "features_dir=\"/home/phdcs2/Hard_Disk/Datasets/Deep-Spectral-Segmentation/data/object-segmentation/ECSSD/features/\"\n",
    "output_dir=\"/home/phdcs2/Hard_Disk/Datasets/Deep-Spectral-Segmentation/data/object-segmentation/ECSSD/eigs_dot1PCA64linearpredlinear_dssubmax_pred2_encoder_elu_corr5\""
   ],
   "metadata": {
    "collapsed": false,
    "pycharm": {
     "name": "#%%\n"
    }
   }
  },
  {
   "cell_type": "code",
   "execution_count": 3,
   "metadata": {
    "pycharm": {
     "name": "#%%\n"
    }
   },
   "outputs": [],
   "source": [
    "# images_root=\"/home/phdcs2/Hard_Disk/Datasets/Deep-Spectral-Segmentation/data/VOC2012/images/trainval/JPEGImages\"\n",
    "# # features_dir=\"/home/phdcs2/Hard_Disk/Datasets/Deep-Spectral-Segmentation/data/object-segmentation/ECSSD_1/features/dino_vits16\"\n",
    "# features_dir=\"/home/phdcs2/Hard_Disk/Datasets/Deep-Spectral-Segmentation/data/VOC2012/features/dino_vits16\"\n",
    "# output_dir=\"/home/phdcs2/Hard_Disk/Datasets/Deep-Spectral-Segmentation/data/VOC2012/eigs_test/laplacian\"\n",
    "which_matrix= 'laplacian'\n",
    "which_color_matrix= 'knn'\n",
    "which_features= 'k'\n",
    "normalize=True\n",
    "threshold_at_zero=True\n",
    "lapnorm= True\n",
    "K= 5\n",
    "image_downsample_factor = None\n",
    "image_color_lambda = 0.0\n",
    "multiprocessing = 0\n",
    "batch_size=2\n",
    "epochs=10"
   ]
  },
  {
   "cell_type": "markdown",
   "metadata": {
    "pycharm": {
     "name": "#%% md\n"
    }
   },
   "source": [
    "## Incorporating SimSiam"
   ]
  },
  {
   "cell_type": "code",
   "execution_count": 4,
   "metadata": {
    "pycharm": {
     "name": "#%%\n"
    }
   },
   "outputs": [],
   "source": [
    "# Define a custom dataset class\n",
    "class Feature_Dataset(Dataset):\n",
    "    def __init__(self, features):\n",
    "        self.features = features\n",
    "\n",
    "    def __getitem__(self, index):\n",
    "        return self.features[index]\n",
    "\n",
    "    def __len__(self):\n",
    "        return len(self.features)"
   ]
  },
  {
   "cell_type": "code",
   "execution_count": 5,
   "metadata": {
    "pycharm": {
     "name": "#%%\n"
    }
   },
   "outputs": [],
   "source": [
    "# class SimSiam(nn.Module):\n",
    "#     def __init__(self):\n",
    "#         super().__init__()\n",
    "#         self.projection_head = SimSiamProjectionHead(feats.shape[1], 128,feats.shape[1])\n",
    "#         self.prediction_head = SimSiamPredictionHead(feats.shape[1], 128, feats.shape[1])\n",
    "#\n",
    "#     def forward(self, x):\n",
    "#         z = self.projection_head(x)\n",
    "#         p = self.prediction_head(z)\n",
    "#         z = z.detach()\n",
    "#         return z, p"
   ]
  },
  {
   "cell_type": "code",
   "execution_count": 6,
   "metadata": {
    "pycharm": {
     "name": "#%%\n"
    }
   },
   "outputs": [],
   "source": [
    "# def normalize_affinity_matrix(affinity_matrix, axis=0):\n",
    "#     if axis == 1:\n",
    "#         # Normalize by row-wise sums\n",
    "#         row_sums = torch.sum(affinity_matrix, dim=1, keepdim=True)\n",
    "#         print(row_sums)\n",
    "#         normalized_matrix = affinity_matrix / row_sums\n",
    "#     elif axis == 0:\n",
    "#         # Normalize by column-wise sums\n",
    "#         col_sums = torch.sum(affinity_matrix, dim=0, keepdim=True)\n",
    "#         normalized_matrix = affinity_matrix / col_sums\n",
    "#     else:\n",
    "#         raise ValueError(\"Invalid axis. Axis must be either 0 or 1.\")\n",
    "\n",
    "#     return normalized_matrix"
   ]
  },
  {
   "cell_type": "code",
   "execution_count": null,
   "metadata": {
    "pycharm": {
     "name": "#%%\n",
     "is_executing": true
    }
   },
   "outputs": [
    {
     "name": "stderr",
     "output_type": "stream",
     "text": [
      "  0%|          | 0/999 [00:00<?, ?it/s]"
     ]
    },
    {
     "name": "stdout",
     "output_type": "stream",
     "text": [
      "0 /home/phdcs2/Hard_Disk/Datasets/Deep-Spectral-Segmentation/data/object-segmentation/ECSSD/features/0001_resized.pth\n",
      "dict_keys(['k', 'indices', 'file', 'id', 'model_name', 'patch_size', 'shape'])\n",
      "0001_resized\n",
      "Starting Training\n",
      "epoch: 00, loss: -0.87443\n",
      "epoch: 01, loss: -0.92428\n",
      "epoch: 02, loss: -0.93664\n",
      "epoch: 03, loss: -0.94380\n",
      "epoch: 04, loss: -0.94851\n",
      "epoch: 05, loss: -0.95204\n",
      "epoch: 06, loss: -0.95478\n",
      "epoch: 07, loss: -0.95699\n",
      "epoch: 08, loss: -0.95882\n",
      "epoch: 09, loss: -0.96046\n",
      "torch.Size([1024, 64])\n"
     ]
    },
    {
     "name": "stderr",
     "output_type": "stream",
     "text": [
      "  0%|          | 1/999 [01:03<17:28:39, 63.05s/it]"
     ]
    },
    {
     "name": "stdout",
     "output_type": "stream",
     "text": [
      "eigenvalues shape torch.Size([5]) eigenvectors shape torch.Size([5, 1024])\n",
      "1 /home/phdcs2/Hard_Disk/Datasets/Deep-Spectral-Segmentation/data/object-segmentation/ECSSD/features/0002_resized.pth\n",
      "dict_keys(['k', 'indices', 'file', 'id', 'model_name', 'patch_size', 'shape'])\n",
      "0002_resized\n"
     ]
    },
    {
     "name": "stderr",
     "output_type": "stream",
     "text": [
      "/home/phdcs2/Hard_Disk/Projects/T2I/deep-spectral-segmentation/venv/lib/python3.8/site-packages/sklearn/decomposition/_pca.py:642: RuntimeWarning: invalid value encountered in divide\n",
      "  self.explained_variance_ratio_ = self.explained_variance_ / total_var\n"
     ]
    },
    {
     "name": "stdout",
     "output_type": "stream",
     "text": [
      "Starting Training\n",
      "epoch: 00, loss: -0.92815\n",
      "epoch: 01, loss: -0.95831\n",
      "epoch: 02, loss: -0.96481\n",
      "epoch: 03, loss: -0.96853\n",
      "epoch: 04, loss: -0.97103\n",
      "epoch: 05, loss: -0.97294\n",
      "epoch: 06, loss: -0.97443\n",
      "epoch: 07, loss: -0.97561\n",
      "epoch: 08, loss: -0.97661\n",
      "epoch: 09, loss: -0.97748\n",
      "torch.Size([1024, 64])\n"
     ]
    },
    {
     "name": "stderr",
     "output_type": "stream",
     "text": [
      "  0%|          | 2/999 [02:06<17:27:09, 63.02s/it]"
     ]
    },
    {
     "name": "stdout",
     "output_type": "stream",
     "text": [
      "eigenvalues shape torch.Size([5]) eigenvectors shape torch.Size([5, 1024])\n",
      "2 /home/phdcs2/Hard_Disk/Datasets/Deep-Spectral-Segmentation/data/object-segmentation/ECSSD/features/0003_resized.pth\n",
      "dict_keys(['k', 'indices', 'file', 'id', 'model_name', 'patch_size', 'shape'])\n",
      "0003_resized\n",
      "Starting Training\n",
      "epoch: 00, loss: -0.86146\n",
      "epoch: 01, loss: -0.91805\n",
      "epoch: 02, loss: -0.93270\n",
      "epoch: 03, loss: -0.94111\n",
      "epoch: 04, loss: -0.94669\n",
      "epoch: 05, loss: -0.95064\n",
      "epoch: 06, loss: -0.95390\n",
      "epoch: 07, loss: -0.95658\n",
      "epoch: 08, loss: -0.95872\n",
      "epoch: 09, loss: -0.96043\n",
      "torch.Size([1024, 64])\n"
     ]
    },
    {
     "name": "stderr",
     "output_type": "stream",
     "text": [
      "  0%|          | 3/999 [03:07<17:16:14, 62.42s/it]"
     ]
    },
    {
     "name": "stdout",
     "output_type": "stream",
     "text": [
      "eigenvalues shape torch.Size([5]) eigenvectors shape torch.Size([5, 1024])\n",
      "3 /home/phdcs2/Hard_Disk/Datasets/Deep-Spectral-Segmentation/data/object-segmentation/ECSSD/features/0004_resized.pth\n",
      "dict_keys(['k', 'indices', 'file', 'id', 'model_name', 'patch_size', 'shape'])\n",
      "0004_resized\n",
      "Starting Training\n",
      "epoch: 00, loss: -0.91711\n",
      "epoch: 01, loss: -0.94829\n",
      "epoch: 02, loss: -0.95611\n",
      "epoch: 03, loss: -0.96065\n",
      "epoch: 04, loss: -0.96386\n",
      "epoch: 05, loss: -0.96620\n",
      "epoch: 06, loss: -0.96799\n",
      "epoch: 07, loss: -0.96953\n",
      "epoch: 08, loss: -0.97077\n",
      "epoch: 09, loss: -0.97187\n",
      "torch.Size([1024, 64])\n"
     ]
    },
    {
     "name": "stderr",
     "output_type": "stream",
     "text": [
      "  0%|          | 4/999 [04:21<18:29:37, 66.91s/it]"
     ]
    },
    {
     "name": "stdout",
     "output_type": "stream",
     "text": [
      "eigenvalues shape torch.Size([5]) eigenvectors shape torch.Size([5, 1024])\n",
      "4 /home/phdcs2/Hard_Disk/Datasets/Deep-Spectral-Segmentation/data/object-segmentation/ECSSD/features/0005_resized.pth\n",
      "dict_keys(['k', 'indices', 'file', 'id', 'model_name', 'patch_size', 'shape'])\n",
      "0005_resized\n",
      "Starting Training\n",
      "epoch: 00, loss: -0.86407\n",
      "epoch: 01, loss: -0.91721\n",
      "epoch: 02, loss: -0.93029\n",
      "epoch: 03, loss: -0.93801\n",
      "epoch: 04, loss: -0.94295\n",
      "epoch: 05, loss: -0.94664\n",
      "epoch: 06, loss: -0.94966\n",
      "epoch: 07, loss: -0.95218\n",
      "epoch: 08, loss: -0.95414\n",
      "epoch: 09, loss: -0.95590\n",
      "torch.Size([1024, 64])\n"
     ]
    },
    {
     "name": "stderr",
     "output_type": "stream",
     "text": [
      "  1%|          | 5/999 [05:36<19:14:49, 69.71s/it]"
     ]
    },
    {
     "name": "stdout",
     "output_type": "stream",
     "text": [
      "eigenvalues shape torch.Size([5]) eigenvectors shape torch.Size([5, 1024])\n",
      "5 /home/phdcs2/Hard_Disk/Datasets/Deep-Spectral-Segmentation/data/object-segmentation/ECSSD/features/0006_resized.pth\n",
      "dict_keys(['k', 'indices', 'file', 'id', 'model_name', 'patch_size', 'shape'])\n",
      "0006_resized\n",
      "Starting Training\n",
      "epoch: 00, loss: -0.85459\n",
      "epoch: 01, loss: -0.91497\n",
      "epoch: 02, loss: -0.93021\n",
      "epoch: 03, loss: -0.93867\n",
      "epoch: 04, loss: -0.94451\n",
      "epoch: 05, loss: -0.94870\n",
      "epoch: 06, loss: -0.95198\n",
      "epoch: 07, loss: -0.95463\n",
      "epoch: 08, loss: -0.95679\n",
      "epoch: 09, loss: -0.95848\n",
      "torch.Size([1024, 64])\n"
     ]
    },
    {
     "name": "stderr",
     "output_type": "stream",
     "text": [
      "  1%|          | 6/999 [06:52<19:51:56, 72.02s/it]"
     ]
    },
    {
     "name": "stdout",
     "output_type": "stream",
     "text": [
      "eigenvalues shape torch.Size([5]) eigenvectors shape torch.Size([5, 1024])\n",
      "6 /home/phdcs2/Hard_Disk/Datasets/Deep-Spectral-Segmentation/data/object-segmentation/ECSSD/features/0007_resized.pth\n",
      "dict_keys(['k', 'indices', 'file', 'id', 'model_name', 'patch_size', 'shape'])\n",
      "0007_resized\n",
      "Starting Training\n",
      "epoch: 00, loss: -0.87548\n",
      "epoch: 01, loss: -0.92444\n",
      "epoch: 02, loss: -0.93696\n",
      "epoch: 03, loss: -0.94432\n",
      "epoch: 04, loss: -0.94929\n",
      "epoch: 05, loss: -0.95296\n",
      "epoch: 06, loss: -0.95578\n",
      "epoch: 07, loss: -0.95806\n",
      "epoch: 08, loss: -0.95989\n",
      "epoch: 09, loss: -0.96158\n",
      "torch.Size([1024, 64])\n"
     ]
    },
    {
     "name": "stderr",
     "output_type": "stream",
     "text": [
      "  1%|          | 7/999 [07:54<18:53:52, 68.58s/it]"
     ]
    },
    {
     "name": "stdout",
     "output_type": "stream",
     "text": [
      "eigenvalues shape torch.Size([5]) eigenvectors shape torch.Size([5, 1024])\n",
      "7 /home/phdcs2/Hard_Disk/Datasets/Deep-Spectral-Segmentation/data/object-segmentation/ECSSD/features/0008_resized.pth\n",
      "dict_keys(['k', 'indices', 'file', 'id', 'model_name', 'patch_size', 'shape'])\n",
      "0008_resized\n",
      "Starting Training\n",
      "epoch: 00, loss: -0.83557\n",
      "epoch: 01, loss: -0.90257\n",
      "epoch: 02, loss: -0.92070\n",
      "epoch: 03, loss: -0.93075\n",
      "epoch: 04, loss: -0.93725\n",
      "epoch: 05, loss: -0.94217\n",
      "epoch: 06, loss: -0.94578\n",
      "epoch: 07, loss: -0.94885\n",
      "epoch: 08, loss: -0.95130\n",
      "epoch: 09, loss: -0.95330\n",
      "torch.Size([1024, 64])\n"
     ]
    },
    {
     "name": "stderr",
     "output_type": "stream",
     "text": [
      "  1%|          | 8/999 [09:05<19:05:55, 69.38s/it]"
     ]
    },
    {
     "name": "stdout",
     "output_type": "stream",
     "text": [
      "eigenvalues shape torch.Size([5]) eigenvectors shape torch.Size([5, 1024])\n",
      "8 /home/phdcs2/Hard_Disk/Datasets/Deep-Spectral-Segmentation/data/object-segmentation/ECSSD/features/0009_resized.pth\n",
      "dict_keys(['k', 'indices', 'file', 'id', 'model_name', 'patch_size', 'shape'])\n",
      "0009_resized\n"
     ]
    },
    {
     "name": "stderr",
     "output_type": "stream",
     "text": [
      "/home/phdcs2/Hard_Disk/Projects/T2I/deep-spectral-segmentation/venv/lib/python3.8/site-packages/sklearn/decomposition/_pca.py:642: RuntimeWarning: invalid value encountered in divide\n",
      "  self.explained_variance_ratio_ = self.explained_variance_ / total_var\n"
     ]
    },
    {
     "name": "stdout",
     "output_type": "stream",
     "text": [
      "Starting Training\n",
      "epoch: 00, loss: -0.92854\n",
      "epoch: 01, loss: -0.95541\n",
      "epoch: 02, loss: -0.96196\n",
      "epoch: 03, loss: -0.96577\n",
      "epoch: 04, loss: -0.96844\n",
      "epoch: 05, loss: -0.97041\n",
      "epoch: 06, loss: -0.97200\n",
      "epoch: 07, loss: -0.97327\n",
      "epoch: 08, loss: -0.97434\n",
      "epoch: 09, loss: -0.97528\n",
      "torch.Size([1024, 64])\n"
     ]
    },
    {
     "name": "stderr",
     "output_type": "stream",
     "text": [
      "  1%|          | 9/999 [10:19<19:31:41, 71.01s/it]"
     ]
    },
    {
     "name": "stdout",
     "output_type": "stream",
     "text": [
      "eigenvalues shape torch.Size([5]) eigenvectors shape torch.Size([5, 1024])\n",
      "9 /home/phdcs2/Hard_Disk/Datasets/Deep-Spectral-Segmentation/data/object-segmentation/ECSSD/features/0010_resized.pth\n",
      "dict_keys(['k', 'indices', 'file', 'id', 'model_name', 'patch_size', 'shape'])\n",
      "0010_resized\n",
      "Starting Training\n",
      "epoch: 00, loss: -0.85666\n",
      "epoch: 01, loss: -0.91656\n",
      "epoch: 02, loss: -0.93168\n",
      "epoch: 03, loss: -0.94024\n",
      "epoch: 04, loss: -0.94586\n",
      "epoch: 05, loss: -0.94997\n",
      "epoch: 06, loss: -0.95307\n",
      "epoch: 07, loss: -0.95549\n",
      "epoch: 08, loss: -0.95763\n",
      "epoch: 09, loss: -0.95936\n",
      "torch.Size([1024, 64])\n"
     ]
    },
    {
     "name": "stderr",
     "output_type": "stream",
     "text": [
      "  1%|          | 10/999 [11:34<19:48:25, 72.10s/it]"
     ]
    },
    {
     "name": "stdout",
     "output_type": "stream",
     "text": [
      "eigenvalues shape torch.Size([5]) eigenvectors shape torch.Size([5, 1024])\n",
      "10 /home/phdcs2/Hard_Disk/Datasets/Deep-Spectral-Segmentation/data/object-segmentation/ECSSD/features/0011_resized.pth\n",
      "dict_keys(['k', 'indices', 'file', 'id', 'model_name', 'patch_size', 'shape'])\n",
      "0011_resized\n"
     ]
    },
    {
     "name": "stderr",
     "output_type": "stream",
     "text": [
      "/home/phdcs2/Hard_Disk/Projects/T2I/deep-spectral-segmentation/venv/lib/python3.8/site-packages/sklearn/decomposition/_pca.py:642: RuntimeWarning: invalid value encountered in divide\n",
      "  self.explained_variance_ratio_ = self.explained_variance_ / total_var\n"
     ]
    },
    {
     "name": "stdout",
     "output_type": "stream",
     "text": [
      "Starting Training\n",
      "epoch: 00, loss: -0.93290\n",
      "epoch: 01, loss: -0.95990\n",
      "epoch: 02, loss: -0.96600\n",
      "epoch: 03, loss: -0.96959\n",
      "epoch: 04, loss: -0.97203\n",
      "epoch: 05, loss: -0.97385\n",
      "epoch: 06, loss: -0.97528\n",
      "epoch: 07, loss: -0.97645\n",
      "epoch: 08, loss: -0.97744\n",
      "epoch: 09, loss: -0.97829\n",
      "torch.Size([1024, 64])\n"
     ]
    },
    {
     "name": "stderr",
     "output_type": "stream",
     "text": [
      "  1%|          | 11/999 [12:51<20:10:26, 73.51s/it]"
     ]
    },
    {
     "name": "stdout",
     "output_type": "stream",
     "text": [
      "eigenvalues shape torch.Size([5]) eigenvectors shape torch.Size([5, 1024])\n",
      "11 /home/phdcs2/Hard_Disk/Datasets/Deep-Spectral-Segmentation/data/object-segmentation/ECSSD/features/0012_resized.pth\n",
      "dict_keys(['k', 'indices', 'file', 'id', 'model_name', 'patch_size', 'shape'])\n",
      "0012_resized\n",
      "Starting Training\n",
      "epoch: 00, loss: -0.90778\n",
      "epoch: 01, loss: -0.94656\n",
      "epoch: 02, loss: -0.95553\n",
      "epoch: 03, loss: -0.96079\n",
      "epoch: 04, loss: -0.96424\n",
      "epoch: 05, loss: -0.96682\n",
      "epoch: 06, loss: -0.96888\n",
      "epoch: 07, loss: -0.97050\n",
      "epoch: 08, loss: -0.97194\n",
      "epoch: 09, loss: -0.97311\n",
      "torch.Size([1024, 64])\n"
     ]
    },
    {
     "name": "stderr",
     "output_type": "stream",
     "text": [
      "  1%|          | 12/999 [14:08<20:28:33, 74.68s/it]"
     ]
    },
    {
     "name": "stdout",
     "output_type": "stream",
     "text": [
      "eigenvalues shape torch.Size([5]) eigenvectors shape torch.Size([5, 1024])\n",
      "12 /home/phdcs2/Hard_Disk/Datasets/Deep-Spectral-Segmentation/data/object-segmentation/ECSSD/features/0013_resized.pth\n",
      "dict_keys(['k', 'indices', 'file', 'id', 'model_name', 'patch_size', 'shape'])\n",
      "0013_resized\n",
      "Starting Training\n",
      "epoch: 00, loss: -0.86149\n",
      "epoch: 01, loss: -0.91702\n",
      "epoch: 02, loss: -0.93039\n",
      "epoch: 03, loss: -0.93825\n",
      "epoch: 04, loss: -0.94344\n",
      "epoch: 05, loss: -0.94729\n",
      "epoch: 06, loss: -0.95021\n",
      "epoch: 07, loss: -0.95256\n",
      "epoch: 08, loss: -0.95445\n",
      "epoch: 09, loss: -0.95608\n",
      "torch.Size([1024, 64])\n"
     ]
    },
    {
     "name": "stderr",
     "output_type": "stream",
     "text": [
      "  1%|▏         | 13/999 [15:21<20:17:30, 74.09s/it]"
     ]
    },
    {
     "name": "stdout",
     "output_type": "stream",
     "text": [
      "eigenvalues shape torch.Size([5]) eigenvectors shape torch.Size([5, 1024])\n",
      "13 /home/phdcs2/Hard_Disk/Datasets/Deep-Spectral-Segmentation/data/object-segmentation/ECSSD/features/0014_resized.pth\n",
      "dict_keys(['k', 'indices', 'file', 'id', 'model_name', 'patch_size', 'shape'])\n",
      "0014_resized\n",
      "Starting Training\n",
      "epoch: 00, loss: -0.86903\n",
      "epoch: 01, loss: -0.92200\n",
      "epoch: 02, loss: -0.93610\n",
      "epoch: 03, loss: -0.94410\n",
      "epoch: 04, loss: -0.94947\n",
      "epoch: 05, loss: -0.95340\n",
      "epoch: 06, loss: -0.95645\n",
      "epoch: 07, loss: -0.95895\n",
      "epoch: 08, loss: -0.96104\n",
      "epoch: 09, loss: -0.96265\n",
      "torch.Size([1024, 64])\n"
     ]
    },
    {
     "name": "stderr",
     "output_type": "stream",
     "text": [
      "  1%|▏         | 14/999 [16:35<20:16:20, 74.09s/it]"
     ]
    },
    {
     "name": "stdout",
     "output_type": "stream",
     "text": [
      "eigenvalues shape torch.Size([5]) eigenvectors shape torch.Size([5, 1024])\n",
      "14 /home/phdcs2/Hard_Disk/Datasets/Deep-Spectral-Segmentation/data/object-segmentation/ECSSD/features/0015_resized.pth\n",
      "dict_keys(['k', 'indices', 'file', 'id', 'model_name', 'patch_size', 'shape'])\n",
      "0015_resized\n"
     ]
    },
    {
     "name": "stderr",
     "output_type": "stream",
     "text": [
      "/home/phdcs2/Hard_Disk/Projects/T2I/deep-spectral-segmentation/venv/lib/python3.8/site-packages/sklearn/decomposition/_pca.py:642: RuntimeWarning: invalid value encountered in divide\n",
      "  self.explained_variance_ratio_ = self.explained_variance_ / total_var\n"
     ]
    },
    {
     "name": "stdout",
     "output_type": "stream",
     "text": [
      "Starting Training\n",
      "epoch: 00, loss: -0.91671\n",
      "epoch: 01, loss: -0.94892\n",
      "epoch: 02, loss: -0.95664\n",
      "epoch: 03, loss: -0.96122\n",
      "epoch: 04, loss: -0.96444\n",
      "epoch: 05, loss: -0.96676\n",
      "epoch: 06, loss: -0.96867\n",
      "epoch: 07, loss: -0.97016\n",
      "epoch: 08, loss: -0.97146\n",
      "epoch: 09, loss: -0.97255\n",
      "torch.Size([1024, 64])\n"
     ]
    },
    {
     "name": "stderr",
     "output_type": "stream",
     "text": [
      "  2%|▏         | 15/999 [17:40<19:29:18, 71.30s/it]"
     ]
    },
    {
     "name": "stdout",
     "output_type": "stream",
     "text": [
      "eigenvalues shape torch.Size([5]) eigenvectors shape torch.Size([5, 1024])\n",
      "15 /home/phdcs2/Hard_Disk/Datasets/Deep-Spectral-Segmentation/data/object-segmentation/ECSSD/features/0016_resized.pth\n",
      "dict_keys(['k', 'indices', 'file', 'id', 'model_name', 'patch_size', 'shape'])\n",
      "0016_resized\n",
      "Starting Training\n",
      "epoch: 00, loss: -0.82783\n",
      "epoch: 01, loss: -0.89755\n",
      "epoch: 02, loss: -0.91666\n",
      "epoch: 03, loss: -0.92739\n",
      "epoch: 04, loss: -0.93447\n",
      "epoch: 05, loss: -0.93952\n",
      "epoch: 06, loss: -0.94355\n",
      "epoch: 07, loss: -0.94665\n",
      "epoch: 08, loss: -0.94922\n",
      "epoch: 09, loss: -0.95147\n",
      "torch.Size([1024, 64])\n"
     ]
    },
    {
     "name": "stderr",
     "output_type": "stream",
     "text": [
      "  2%|▏         | 16/999 [18:45<18:57:06, 69.41s/it]"
     ]
    },
    {
     "name": "stdout",
     "output_type": "stream",
     "text": [
      "eigenvalues shape torch.Size([5]) eigenvectors shape torch.Size([5, 1024])\n",
      "16 /home/phdcs2/Hard_Disk/Datasets/Deep-Spectral-Segmentation/data/object-segmentation/ECSSD/features/0017_resized.pth\n",
      "dict_keys(['k', 'indices', 'file', 'id', 'model_name', 'patch_size', 'shape'])\n",
      "0017_resized\n",
      "Starting Training\n",
      "epoch: 00, loss: -0.86873\n",
      "epoch: 01, loss: -0.92154\n",
      "epoch: 02, loss: -0.93581\n",
      "epoch: 03, loss: -0.94370\n",
      "epoch: 04, loss: -0.94899\n",
      "epoch: 05, loss: -0.95302\n",
      "epoch: 06, loss: -0.95610\n",
      "epoch: 07, loss: -0.95856\n",
      "epoch: 08, loss: -0.96054\n",
      "epoch: 09, loss: -0.96227\n",
      "torch.Size([1024, 64])\n"
     ]
    },
    {
     "name": "stderr",
     "output_type": "stream",
     "text": [
      "  2%|▏         | 17/999 [19:49<18:33:02, 68.01s/it]"
     ]
    },
    {
     "name": "stdout",
     "output_type": "stream",
     "text": [
      "eigenvalues shape torch.Size([5]) eigenvectors shape torch.Size([5, 1024])\n",
      "17 /home/phdcs2/Hard_Disk/Datasets/Deep-Spectral-Segmentation/data/object-segmentation/ECSSD/features/0018_resized.pth\n",
      "dict_keys(['k', 'indices', 'file', 'id', 'model_name', 'patch_size', 'shape'])\n",
      "0018_resized\n",
      "Starting Training\n",
      "epoch: 00, loss: -0.89536\n",
      "epoch: 01, loss: -0.93624\n",
      "epoch: 02, loss: -0.94643\n",
      "epoch: 03, loss: -0.95188\n",
      "epoch: 04, loss: -0.95569\n",
      "epoch: 05, loss: -0.95854\n",
      "epoch: 06, loss: -0.96075\n",
      "epoch: 07, loss: -0.96269\n",
      "epoch: 08, loss: -0.96418\n",
      "epoch: 09, loss: -0.96547\n",
      "torch.Size([1024, 64])\n"
     ]
    },
    {
     "name": "stderr",
     "output_type": "stream",
     "text": [
      "  2%|▏         | 18/999 [20:50<17:54:54, 65.74s/it]"
     ]
    },
    {
     "name": "stdout",
     "output_type": "stream",
     "text": [
      "eigenvalues shape torch.Size([5]) eigenvectors shape torch.Size([5, 1024])\n",
      "18 /home/phdcs2/Hard_Disk/Datasets/Deep-Spectral-Segmentation/data/object-segmentation/ECSSD/features/0019_resized.pth\n",
      "dict_keys(['k', 'indices', 'file', 'id', 'model_name', 'patch_size', 'shape'])\n",
      "0019_resized\n",
      "Starting Training\n",
      "epoch: 00, loss: -0.91452\n",
      "epoch: 01, loss: -0.95003\n",
      "epoch: 02, loss: -0.95785\n",
      "epoch: 03, loss: -0.96238\n",
      "epoch: 04, loss: -0.96549\n",
      "epoch: 05, loss: -0.96779\n",
      "epoch: 06, loss: -0.96961\n",
      "epoch: 07, loss: -0.97109\n",
      "epoch: 08, loss: -0.97232\n",
      "epoch: 09, loss: -0.97336\n",
      "torch.Size([1024, 64])\n"
     ]
    },
    {
     "name": "stderr",
     "output_type": "stream",
     "text": [
      "  2%|▏         | 19/999 [21:45<17:01:46, 62.56s/it]"
     ]
    },
    {
     "name": "stdout",
     "output_type": "stream",
     "text": [
      "eigenvalues shape torch.Size([5]) eigenvectors shape torch.Size([5, 1024])\n",
      "19 /home/phdcs2/Hard_Disk/Datasets/Deep-Spectral-Segmentation/data/object-segmentation/ECSSD/features/0020_resized.pth\n",
      "dict_keys(['k', 'indices', 'file', 'id', 'model_name', 'patch_size', 'shape'])\n",
      "0020_resized\n",
      "Starting Training\n",
      "epoch: 00, loss: -0.87044\n",
      "epoch: 01, loss: -0.92069\n",
      "epoch: 02, loss: -0.93395\n",
      "epoch: 03, loss: -0.94161\n",
      "epoch: 04, loss: -0.94684\n",
      "epoch: 05, loss: -0.95065\n",
      "epoch: 06, loss: -0.95363\n",
      "epoch: 07, loss: -0.95596\n",
      "epoch: 08, loss: -0.95804\n",
      "epoch: 09, loss: -0.95963\n",
      "torch.Size([1024, 64])\n"
     ]
    },
    {
     "name": "stderr",
     "output_type": "stream",
     "text": [
      "  2%|▏         | 20/999 [22:48<17:03:34, 62.73s/it]"
     ]
    },
    {
     "name": "stdout",
     "output_type": "stream",
     "text": [
      "eigenvalues shape torch.Size([5]) eigenvectors shape torch.Size([5, 1024])\n",
      "20 /home/phdcs2/Hard_Disk/Datasets/Deep-Spectral-Segmentation/data/object-segmentation/ECSSD/features/0021_resized.pth\n",
      "dict_keys(['k', 'indices', 'file', 'id', 'model_name', 'patch_size', 'shape'])\n",
      "0021_resized\n"
     ]
    },
    {
     "name": "stderr",
     "output_type": "stream",
     "text": [
      "/home/phdcs2/Hard_Disk/Projects/T2I/deep-spectral-segmentation/venv/lib/python3.8/site-packages/sklearn/decomposition/_pca.py:642: RuntimeWarning: invalid value encountered in divide\n",
      "  self.explained_variance_ratio_ = self.explained_variance_ / total_var\n"
     ]
    },
    {
     "name": "stdout",
     "output_type": "stream",
     "text": [
      "Starting Training\n",
      "epoch: 00, loss: -0.92174\n",
      "epoch: 01, loss: -0.95073\n",
      "epoch: 02, loss: -0.95766\n",
      "epoch: 03, loss: -0.96173\n",
      "epoch: 04, loss: -0.96456\n",
      "epoch: 05, loss: -0.96664\n",
      "epoch: 06, loss: -0.96833\n",
      "epoch: 07, loss: -0.96966\n",
      "epoch: 08, loss: -0.97082\n",
      "epoch: 09, loss: -0.97178\n",
      "torch.Size([1024, 64])\n"
     ]
    },
    {
     "name": "stderr",
     "output_type": "stream",
     "text": [
      "  2%|▏         | 21/999 [24:03<18:00:00, 66.26s/it]"
     ]
    },
    {
     "name": "stdout",
     "output_type": "stream",
     "text": [
      "eigenvalues shape torch.Size([5]) eigenvectors shape torch.Size([5, 1024])\n",
      "21 /home/phdcs2/Hard_Disk/Datasets/Deep-Spectral-Segmentation/data/object-segmentation/ECSSD/features/0022_resized.pth\n",
      "dict_keys(['k', 'indices', 'file', 'id', 'model_name', 'patch_size', 'shape'])\n",
      "0022_resized\n"
     ]
    },
    {
     "name": "stderr",
     "output_type": "stream",
     "text": [
      "/home/phdcs2/Hard_Disk/Projects/T2I/deep-spectral-segmentation/venv/lib/python3.8/site-packages/sklearn/decomposition/_pca.py:642: RuntimeWarning: invalid value encountered in divide\n",
      "  self.explained_variance_ratio_ = self.explained_variance_ / total_var\n"
     ]
    },
    {
     "name": "stdout",
     "output_type": "stream",
     "text": [
      "Starting Training\n",
      "epoch: 00, loss: -0.92863\n",
      "epoch: 01, loss: -0.95764\n",
      "epoch: 02, loss: -0.96400\n",
      "epoch: 03, loss: -0.96766\n",
      "epoch: 04, loss: -0.97021\n",
      "epoch: 05, loss: -0.97210\n",
      "epoch: 06, loss: -0.97362\n",
      "epoch: 07, loss: -0.97486\n",
      "epoch: 08, loss: -0.97588\n",
      "epoch: 09, loss: -0.97677\n",
      "torch.Size([1024, 64])\n"
     ]
    },
    {
     "name": "stderr",
     "output_type": "stream",
     "text": [
      "  2%|▏         | 22/999 [25:11<18:07:14, 66.77s/it]"
     ]
    },
    {
     "name": "stdout",
     "output_type": "stream",
     "text": [
      "eigenvalues shape torch.Size([5]) eigenvectors shape torch.Size([5, 1024])\n",
      "22 /home/phdcs2/Hard_Disk/Datasets/Deep-Spectral-Segmentation/data/object-segmentation/ECSSD/features/0024_resized.pth\n",
      "dict_keys(['k', 'indices', 'file', 'id', 'model_name', 'patch_size', 'shape'])\n",
      "0024_resized\n"
     ]
    },
    {
     "name": "stderr",
     "output_type": "stream",
     "text": [
      "/home/phdcs2/Hard_Disk/Projects/T2I/deep-spectral-segmentation/venv/lib/python3.8/site-packages/sklearn/decomposition/_pca.py:642: RuntimeWarning: invalid value encountered in divide\n",
      "  self.explained_variance_ratio_ = self.explained_variance_ / total_var\n"
     ]
    },
    {
     "name": "stdout",
     "output_type": "stream",
     "text": [
      "Starting Training\n",
      "epoch: 00, loss: -0.92563\n",
      "epoch: 01, loss: -0.95513\n",
      "epoch: 02, loss: -0.96170\n",
      "epoch: 03, loss: -0.96550\n",
      "epoch: 04, loss: -0.96809\n",
      "epoch: 05, loss: -0.97005\n",
      "epoch: 06, loss: -0.97159\n",
      "epoch: 07, loss: -0.97283\n",
      "epoch: 08, loss: -0.97390\n",
      "epoch: 09, loss: -0.97482\n",
      "torch.Size([1024, 64])\n"
     ]
    },
    {
     "name": "stderr",
     "output_type": "stream",
     "text": [
      "  2%|▏         | 23/999 [26:20<18:21:13, 67.70s/it]"
     ]
    },
    {
     "name": "stdout",
     "output_type": "stream",
     "text": [
      "eigenvalues shape torch.Size([5]) eigenvectors shape torch.Size([5, 1024])\n",
      "23 /home/phdcs2/Hard_Disk/Datasets/Deep-Spectral-Segmentation/data/object-segmentation/ECSSD/features/0025_resized.pth\n",
      "dict_keys(['k', 'indices', 'file', 'id', 'model_name', 'patch_size', 'shape'])\n",
      "0025_resized\n",
      "Starting Training\n",
      "epoch: 00, loss: -0.86720\n",
      "epoch: 01, loss: -0.92014\n",
      "epoch: 02, loss: -0.93417\n",
      "epoch: 03, loss: -0.94250\n",
      "epoch: 04, loss: -0.94766\n",
      "epoch: 05, loss: -0.95162\n",
      "epoch: 06, loss: -0.95456\n",
      "epoch: 07, loss: -0.95689\n",
      "epoch: 08, loss: -0.95895\n",
      "epoch: 09, loss: -0.96058\n",
      "torch.Size([1024, 64])\n"
     ]
    },
    {
     "name": "stderr",
     "output_type": "stream",
     "text": [
      "  2%|▏         | 24/999 [27:26<18:08:46, 67.00s/it]"
     ]
    },
    {
     "name": "stdout",
     "output_type": "stream",
     "text": [
      "eigenvalues shape torch.Size([5]) eigenvectors shape torch.Size([5, 1024])\n",
      "24 /home/phdcs2/Hard_Disk/Datasets/Deep-Spectral-Segmentation/data/object-segmentation/ECSSD/features/0026_resized.pth\n",
      "dict_keys(['k', 'indices', 'file', 'id', 'model_name', 'patch_size', 'shape'])\n",
      "0026_resized\n",
      "Starting Training\n",
      "epoch: 00, loss: -0.89565\n",
      "epoch: 01, loss: -0.93691\n",
      "epoch: 02, loss: -0.94673\n",
      "epoch: 03, loss: -0.95237\n",
      "epoch: 04, loss: -0.95625\n",
      "epoch: 05, loss: -0.95905\n",
      "epoch: 06, loss: -0.96125\n",
      "epoch: 07, loss: -0.96310\n",
      "epoch: 08, loss: -0.96455\n",
      "epoch: 09, loss: -0.96590\n",
      "torch.Size([1024, 64])\n"
     ]
    },
    {
     "name": "stderr",
     "output_type": "stream",
     "text": [
      "  3%|▎         | 25/999 [28:28<17:44:25, 65.57s/it]"
     ]
    },
    {
     "name": "stdout",
     "output_type": "stream",
     "text": [
      "eigenvalues shape torch.Size([5]) eigenvectors shape torch.Size([5, 1024])\n",
      "25 /home/phdcs2/Hard_Disk/Datasets/Deep-Spectral-Segmentation/data/object-segmentation/ECSSD/features/0027_resized.pth\n",
      "dict_keys(['k', 'indices', 'file', 'id', 'model_name', 'patch_size', 'shape'])\n",
      "0027_resized\n",
      "Starting Training\n",
      "epoch: 00, loss: -0.88226\n",
      "epoch: 01, loss: -0.92906\n",
      "epoch: 02, loss: -0.94113\n",
      "epoch: 03, loss: -0.94782\n",
      "epoch: 04, loss: -0.95248\n",
      "epoch: 05, loss: -0.95584\n",
      "epoch: 06, loss: -0.95850\n",
      "epoch: 07, loss: -0.96075\n",
      "epoch: 08, loss: -0.96247\n",
      "epoch: 09, loss: -0.96402\n",
      "torch.Size([1024, 64])\n"
     ]
    },
    {
     "name": "stderr",
     "output_type": "stream",
     "text": [
      "  3%|▎         | 26/999 [29:36<17:54:52, 66.28s/it]"
     ]
    },
    {
     "name": "stdout",
     "output_type": "stream",
     "text": [
      "eigenvalues shape torch.Size([5]) eigenvectors shape torch.Size([5, 1024])\n",
      "26 /home/phdcs2/Hard_Disk/Datasets/Deep-Spectral-Segmentation/data/object-segmentation/ECSSD/features/0028_resized.pth\n",
      "dict_keys(['k', 'indices', 'file', 'id', 'model_name', 'patch_size', 'shape'])\n",
      "0028_resized\n",
      "Starting Training\n",
      "epoch: 00, loss: -0.86497\n",
      "epoch: 01, loss: -0.92107\n",
      "epoch: 02, loss: -0.93478\n",
      "epoch: 03, loss: -0.94220\n",
      "epoch: 04, loss: -0.94742\n",
      "epoch: 05, loss: -0.95119\n",
      "epoch: 06, loss: -0.95399\n",
      "epoch: 07, loss: -0.95637\n",
      "epoch: 08, loss: -0.95836\n",
      "epoch: 09, loss: -0.96002\n",
      "torch.Size([1024, 64])\n"
     ]
    },
    {
     "name": "stderr",
     "output_type": "stream",
     "text": [
      "  3%|▎         | 27/999 [30:45<18:08:02, 67.16s/it]"
     ]
    },
    {
     "name": "stdout",
     "output_type": "stream",
     "text": [
      "eigenvalues shape torch.Size([5]) eigenvectors shape torch.Size([5, 1024])\n",
      "27 /home/phdcs2/Hard_Disk/Datasets/Deep-Spectral-Segmentation/data/object-segmentation/ECSSD/features/0029_resized.pth\n",
      "dict_keys(['k', 'indices', 'file', 'id', 'model_name', 'patch_size', 'shape'])\n",
      "0029_resized\n"
     ]
    },
    {
     "name": "stderr",
     "output_type": "stream",
     "text": [
      "/home/phdcs2/Hard_Disk/Projects/T2I/deep-spectral-segmentation/venv/lib/python3.8/site-packages/sklearn/decomposition/_pca.py:642: RuntimeWarning: invalid value encountered in divide\n",
      "  self.explained_variance_ratio_ = self.explained_variance_ / total_var\n"
     ]
    },
    {
     "name": "stdout",
     "output_type": "stream",
     "text": [
      "Starting Training\n",
      "epoch: 00, loss: -0.92397\n",
      "epoch: 01, loss: -0.95242\n",
      "epoch: 02, loss: -0.95972\n",
      "epoch: 03, loss: -0.96397\n",
      "epoch: 04, loss: -0.96692\n",
      "epoch: 05, loss: -0.96907\n",
      "epoch: 06, loss: -0.97077\n",
      "epoch: 07, loss: -0.97218\n",
      "epoch: 08, loss: -0.97334\n",
      "epoch: 09, loss: -0.97435\n",
      "torch.Size([1024, 64])\n"
     ]
    },
    {
     "name": "stderr",
     "output_type": "stream",
     "text": [
      "  3%|▎         | 28/999 [31:49<17:49:06, 66.06s/it]"
     ]
    },
    {
     "name": "stdout",
     "output_type": "stream",
     "text": [
      "eigenvalues shape torch.Size([5]) eigenvectors shape torch.Size([5, 1024])\n",
      "28 /home/phdcs2/Hard_Disk/Datasets/Deep-Spectral-Segmentation/data/object-segmentation/ECSSD/features/0030_resized.pth\n",
      "dict_keys(['k', 'indices', 'file', 'id', 'model_name', 'patch_size', 'shape'])\n",
      "0030_resized\n"
     ]
    },
    {
     "name": "stderr",
     "output_type": "stream",
     "text": [
      "/home/phdcs2/Hard_Disk/Projects/T2I/deep-spectral-segmentation/venv/lib/python3.8/site-packages/sklearn/decomposition/_pca.py:642: RuntimeWarning: invalid value encountered in divide\n",
      "  self.explained_variance_ratio_ = self.explained_variance_ / total_var\n"
     ]
    },
    {
     "name": "stdout",
     "output_type": "stream",
     "text": [
      "Starting Training\n",
      "epoch: 00, loss: -0.92658\n",
      "epoch: 01, loss: -0.95589\n",
      "epoch: 02, loss: -0.96289\n",
      "epoch: 03, loss: -0.96689\n",
      "epoch: 04, loss: -0.96964\n",
      "epoch: 05, loss: -0.97164\n",
      "epoch: 06, loss: -0.97324\n",
      "epoch: 07, loss: -0.97452\n",
      "epoch: 08, loss: -0.97559\n",
      "epoch: 09, loss: -0.97652\n",
      "torch.Size([1024, 64])\n"
     ]
    },
    {
     "name": "stderr",
     "output_type": "stream",
     "text": [
      "  3%|▎         | 29/999 [33:03<18:25:18, 68.37s/it]"
     ]
    },
    {
     "name": "stdout",
     "output_type": "stream",
     "text": [
      "eigenvalues shape torch.Size([5]) eigenvectors shape torch.Size([5, 1024])\n",
      "29 /home/phdcs2/Hard_Disk/Datasets/Deep-Spectral-Segmentation/data/object-segmentation/ECSSD/features/0031_resized.pth\n",
      "dict_keys(['k', 'indices', 'file', 'id', 'model_name', 'patch_size', 'shape'])\n",
      "0031_resized\n",
      "Starting Training\n",
      "epoch: 00, loss: -0.83404\n",
      "epoch: 01, loss: -0.90231\n",
      "epoch: 02, loss: -0.91993\n",
      "epoch: 03, loss: -0.92993\n",
      "epoch: 04, loss: -0.93655\n",
      "epoch: 05, loss: -0.94134\n",
      "epoch: 06, loss: -0.94494\n",
      "epoch: 07, loss: -0.94797\n",
      "epoch: 08, loss: -0.95032\n",
      "epoch: 09, loss: -0.95235\n",
      "torch.Size([1024, 64])\n"
     ]
    },
    {
     "name": "stderr",
     "output_type": "stream",
     "text": [
      "  3%|▎         | 30/999 [34:16<18:49:23, 69.93s/it]"
     ]
    },
    {
     "name": "stdout",
     "output_type": "stream",
     "text": [
      "eigenvalues shape torch.Size([5]) eigenvectors shape torch.Size([5, 1024])\n",
      "30 /home/phdcs2/Hard_Disk/Datasets/Deep-Spectral-Segmentation/data/object-segmentation/ECSSD/features/0032_resized.pth\n",
      "dict_keys(['k', 'indices', 'file', 'id', 'model_name', 'patch_size', 'shape'])\n",
      "0032_resized\n",
      "Starting Training\n",
      "epoch: 00, loss: -0.87086\n",
      "epoch: 01, loss: -0.92326\n",
      "epoch: 02, loss: -0.93626\n",
      "epoch: 03, loss: -0.94365\n",
      "epoch: 04, loss: -0.94882\n",
      "epoch: 05, loss: -0.95236\n",
      "epoch: 06, loss: -0.95519\n",
      "epoch: 07, loss: -0.95735\n",
      "epoch: 08, loss: -0.95919\n",
      "epoch: 09, loss: -0.96081\n",
      "torch.Size([1024, 64])\n"
     ]
    },
    {
     "name": "stderr",
     "output_type": "stream",
     "text": [
      "  3%|▎         | 31/999 [35:23<18:34:37, 69.09s/it]"
     ]
    },
    {
     "name": "stdout",
     "output_type": "stream",
     "text": [
      "eigenvalues shape torch.Size([5]) eigenvectors shape torch.Size([5, 1024])\n",
      "31 /home/phdcs2/Hard_Disk/Datasets/Deep-Spectral-Segmentation/data/object-segmentation/ECSSD/features/0033_resized.pth\n",
      "dict_keys(['k', 'indices', 'file', 'id', 'model_name', 'patch_size', 'shape'])\n",
      "0033_resized\n",
      "Starting Training\n",
      "epoch: 00, loss: -0.86074\n",
      "epoch: 01, loss: -0.91765\n",
      "epoch: 02, loss: -0.93290\n",
      "epoch: 03, loss: -0.94145\n",
      "epoch: 04, loss: -0.94728\n",
      "epoch: 05, loss: -0.95146\n",
      "epoch: 06, loss: -0.95454\n",
      "epoch: 07, loss: -0.95712\n",
      "epoch: 08, loss: -0.95919\n",
      "epoch: 09, loss: -0.96097\n",
      "torch.Size([1024, 64])\n"
     ]
    },
    {
     "name": "stderr",
     "output_type": "stream",
     "text": [
      "  3%|▎         | 32/999 [36:32<18:33:47, 69.11s/it]"
     ]
    },
    {
     "name": "stdout",
     "output_type": "stream",
     "text": [
      "eigenvalues shape torch.Size([5]) eigenvectors shape torch.Size([5, 1024])\n",
      "32 /home/phdcs2/Hard_Disk/Datasets/Deep-Spectral-Segmentation/data/object-segmentation/ECSSD/features/0034_resized.pth\n",
      "dict_keys(['k', 'indices', 'file', 'id', 'model_name', 'patch_size', 'shape'])\n",
      "0034_resized\n",
      "Starting Training\n",
      "epoch: 00, loss: -0.83839\n",
      "epoch: 01, loss: -0.90217\n",
      "epoch: 02, loss: -0.91871\n",
      "epoch: 03, loss: -0.92788\n",
      "epoch: 04, loss: -0.93412\n",
      "epoch: 05, loss: -0.93861\n",
      "epoch: 06, loss: -0.94205\n",
      "epoch: 07, loss: -0.94493\n",
      "epoch: 08, loss: -0.94721\n",
      "epoch: 09, loss: -0.94916\n",
      "torch.Size([1024, 64])\n"
     ]
    },
    {
     "name": "stderr",
     "output_type": "stream",
     "text": [
      "  3%|▎         | 33/999 [37:48<19:04:42, 71.10s/it]"
     ]
    },
    {
     "name": "stdout",
     "output_type": "stream",
     "text": [
      "eigenvalues shape torch.Size([5]) eigenvectors shape torch.Size([5, 1024])\n",
      "33 /home/phdcs2/Hard_Disk/Datasets/Deep-Spectral-Segmentation/data/object-segmentation/ECSSD/features/0035_resized.pth\n",
      "dict_keys(['k', 'indices', 'file', 'id', 'model_name', 'patch_size', 'shape'])\n",
      "0035_resized\n",
      "Starting Training\n",
      "epoch: 00, loss: -0.87574\n",
      "epoch: 01, loss: -0.92906\n",
      "epoch: 02, loss: -0.94158\n",
      "epoch: 03, loss: -0.94845\n",
      "epoch: 04, loss: -0.95326\n",
      "epoch: 05, loss: -0.95663\n",
      "epoch: 06, loss: -0.95939\n",
      "epoch: 07, loss: -0.96149\n",
      "epoch: 08, loss: -0.96333\n",
      "epoch: 09, loss: -0.96484\n",
      "torch.Size([1024, 64])\n"
     ]
    },
    {
     "name": "stderr",
     "output_type": "stream",
     "text": [
      "  3%|▎         | 34/999 [39:07<19:40:05, 73.37s/it]"
     ]
    },
    {
     "name": "stdout",
     "output_type": "stream",
     "text": [
      "eigenvalues shape torch.Size([5]) eigenvectors shape torch.Size([5, 1024])\n",
      "34 /home/phdcs2/Hard_Disk/Datasets/Deep-Spectral-Segmentation/data/object-segmentation/ECSSD/features/0036_resized.pth\n",
      "dict_keys(['k', 'indices', 'file', 'id', 'model_name', 'patch_size', 'shape'])\n",
      "0036_resized\n",
      "Starting Training\n",
      "epoch: 00, loss: -0.87071\n",
      "epoch: 01, loss: -0.92415\n",
      "epoch: 02, loss: -0.93678\n",
      "epoch: 03, loss: -0.94411\n",
      "epoch: 04, loss: -0.94882\n",
      "epoch: 05, loss: -0.95236\n",
      "epoch: 06, loss: -0.95504\n",
      "epoch: 07, loss: -0.95726\n",
      "epoch: 08, loss: -0.95918\n",
      "epoch: 09, loss: -0.96077\n",
      "torch.Size([1024, 64])\n"
     ]
    },
    {
     "name": "stderr",
     "output_type": "stream",
     "text": [
      "  4%|▎         | 35/999 [40:25<20:00:54, 74.75s/it]"
     ]
    },
    {
     "name": "stdout",
     "output_type": "stream",
     "text": [
      "eigenvalues shape torch.Size([5]) eigenvectors shape torch.Size([5, 1024])\n",
      "35 /home/phdcs2/Hard_Disk/Datasets/Deep-Spectral-Segmentation/data/object-segmentation/ECSSD/features/0037_resized.pth\n",
      "dict_keys(['k', 'indices', 'file', 'id', 'model_name', 'patch_size', 'shape'])\n",
      "0037_resized\n",
      "Starting Training\n",
      "epoch: 00, loss: -0.86926\n",
      "epoch: 01, loss: -0.92225\n",
      "epoch: 02, loss: -0.93567\n",
      "epoch: 03, loss: -0.94317\n",
      "epoch: 04, loss: -0.94821\n",
      "epoch: 05, loss: -0.95193\n",
      "epoch: 06, loss: -0.95481\n",
      "epoch: 07, loss: -0.95722\n",
      "epoch: 08, loss: -0.95905\n",
      "epoch: 09, loss: -0.96062\n",
      "torch.Size([1024, 64])\n"
     ]
    },
    {
     "name": "stderr",
     "output_type": "stream",
     "text": [
      "  4%|▎         | 36/999 [41:46<20:29:49, 76.62s/it]"
     ]
    },
    {
     "name": "stdout",
     "output_type": "stream",
     "text": [
      "eigenvalues shape torch.Size([5]) eigenvectors shape torch.Size([5, 1024])\n",
      "36 /home/phdcs2/Hard_Disk/Datasets/Deep-Spectral-Segmentation/data/object-segmentation/ECSSD/features/0038_resized.pth\n",
      "dict_keys(['k', 'indices', 'file', 'id', 'model_name', 'patch_size', 'shape'])\n",
      "0038_resized\n"
     ]
    },
    {
     "name": "stderr",
     "output_type": "stream",
     "text": [
      "/home/phdcs2/Hard_Disk/Projects/T2I/deep-spectral-segmentation/venv/lib/python3.8/site-packages/sklearn/decomposition/_pca.py:642: RuntimeWarning: invalid value encountered in divide\n",
      "  self.explained_variance_ratio_ = self.explained_variance_ / total_var\n"
     ]
    },
    {
     "name": "stdout",
     "output_type": "stream",
     "text": [
      "Starting Training\n",
      "epoch: 00, loss: -0.90509\n",
      "epoch: 01, loss: -0.94284\n",
      "epoch: 02, loss: -0.95181\n",
      "epoch: 03, loss: -0.95703\n",
      "epoch: 04, loss: -0.96057\n",
      "epoch: 05, loss: -0.96326\n",
      "epoch: 06, loss: -0.96533\n",
      "epoch: 07, loss: -0.96701\n",
      "epoch: 08, loss: -0.96845\n",
      "epoch: 09, loss: -0.96965\n",
      "torch.Size([1024, 64])\n"
     ]
    },
    {
     "name": "stderr",
     "output_type": "stream",
     "text": [
      "  4%|▎         | 37/999 [43:02<20:29:02, 76.66s/it]"
     ]
    },
    {
     "name": "stdout",
     "output_type": "stream",
     "text": [
      "eigenvalues shape torch.Size([5]) eigenvectors shape torch.Size([5, 1024])\n",
      "37 /home/phdcs2/Hard_Disk/Datasets/Deep-Spectral-Segmentation/data/object-segmentation/ECSSD/features/0039_resized.pth\n",
      "dict_keys(['k', 'indices', 'file', 'id', 'model_name', 'patch_size', 'shape'])\n",
      "0039_resized\n"
     ]
    },
    {
     "name": "stderr",
     "output_type": "stream",
     "text": [
      "/home/phdcs2/Hard_Disk/Projects/T2I/deep-spectral-segmentation/venv/lib/python3.8/site-packages/sklearn/decomposition/_pca.py:642: RuntimeWarning: invalid value encountered in divide\n",
      "  self.explained_variance_ratio_ = self.explained_variance_ / total_var\n"
     ]
    },
    {
     "name": "stdout",
     "output_type": "stream",
     "text": [
      "Starting Training\n",
      "epoch: 00, loss: -0.92884\n",
      "epoch: 01, loss: -0.95607\n",
      "epoch: 02, loss: -0.96238\n",
      "epoch: 03, loss: -0.96605\n",
      "epoch: 04, loss: -0.96864\n",
      "epoch: 05, loss: -0.97054\n",
      "epoch: 06, loss: -0.97204\n",
      "epoch: 07, loss: -0.97329\n",
      "epoch: 08, loss: -0.97436\n",
      "epoch: 09, loss: -0.97525\n",
      "torch.Size([1024, 64])\n"
     ]
    },
    {
     "name": "stderr",
     "output_type": "stream",
     "text": [
      "  4%|▍         | 38/999 [44:21<20:37:43, 77.28s/it]"
     ]
    },
    {
     "name": "stdout",
     "output_type": "stream",
     "text": [
      "eigenvalues shape torch.Size([5]) eigenvectors shape torch.Size([5, 1024])\n",
      "38 /home/phdcs2/Hard_Disk/Datasets/Deep-Spectral-Segmentation/data/object-segmentation/ECSSD/features/0040_resized.pth\n",
      "dict_keys(['k', 'indices', 'file', 'id', 'model_name', 'patch_size', 'shape'])\n",
      "0040_resized\n"
     ]
    },
    {
     "name": "stderr",
     "output_type": "stream",
     "text": [
      "/home/phdcs2/Hard_Disk/Projects/T2I/deep-spectral-segmentation/venv/lib/python3.8/site-packages/sklearn/decomposition/_pca.py:642: RuntimeWarning: invalid value encountered in divide\n",
      "  self.explained_variance_ratio_ = self.explained_variance_ / total_var\n"
     ]
    },
    {
     "name": "stdout",
     "output_type": "stream",
     "text": [
      "Starting Training\n",
      "epoch: 00, loss: -0.93463\n",
      "epoch: 01, loss: -0.96069\n",
      "epoch: 02, loss: -0.96668\n",
      "epoch: 03, loss: -0.97019\n",
      "epoch: 04, loss: -0.97249\n",
      "epoch: 05, loss: -0.97428\n",
      "epoch: 06, loss: -0.97569\n",
      "epoch: 07, loss: -0.97680\n",
      "epoch: 08, loss: -0.97775\n",
      "epoch: 09, loss: -0.97856\n",
      "torch.Size([1024, 64])\n"
     ]
    },
    {
     "name": "stderr",
     "output_type": "stream",
     "text": [
      "  4%|▍         | 39/999 [45:35<20:18:11, 76.14s/it]"
     ]
    },
    {
     "name": "stdout",
     "output_type": "stream",
     "text": [
      "eigenvalues shape torch.Size([5]) eigenvectors shape torch.Size([5, 1024])\n",
      "39 /home/phdcs2/Hard_Disk/Datasets/Deep-Spectral-Segmentation/data/object-segmentation/ECSSD/features/0041_resized.pth\n",
      "dict_keys(['k', 'indices', 'file', 'id', 'model_name', 'patch_size', 'shape'])\n",
      "0041_resized\n"
     ]
    },
    {
     "name": "stderr",
     "output_type": "stream",
     "text": [
      "/home/phdcs2/Hard_Disk/Projects/T2I/deep-spectral-segmentation/venv/lib/python3.8/site-packages/sklearn/decomposition/_pca.py:642: RuntimeWarning: invalid value encountered in divide\n",
      "  self.explained_variance_ratio_ = self.explained_variance_ / total_var\n"
     ]
    },
    {
     "name": "stdout",
     "output_type": "stream",
     "text": [
      "Starting Training\n",
      "epoch: 00, loss: -0.90125\n",
      "epoch: 01, loss: -0.93633\n",
      "epoch: 02, loss: -0.94634\n",
      "epoch: 03, loss: -0.95233\n",
      "epoch: 04, loss: -0.95645\n",
      "epoch: 05, loss: -0.95949\n",
      "epoch: 06, loss: -0.96189\n",
      "epoch: 07, loss: -0.96386\n",
      "epoch: 08, loss: -0.96550\n",
      "epoch: 09, loss: -0.96690\n",
      "torch.Size([1024, 64])\n"
     ]
    },
    {
     "name": "stderr",
     "output_type": "stream",
     "text": [
      "  4%|▍         | 40/999 [46:47<19:58:46, 75.00s/it]"
     ]
    },
    {
     "name": "stdout",
     "output_type": "stream",
     "text": [
      "eigenvalues shape torch.Size([5]) eigenvectors shape torch.Size([5, 1024])\n",
      "40 /home/phdcs2/Hard_Disk/Datasets/Deep-Spectral-Segmentation/data/object-segmentation/ECSSD/features/0042_resized.pth\n",
      "dict_keys(['k', 'indices', 'file', 'id', 'model_name', 'patch_size', 'shape'])\n",
      "0042_resized\n",
      "Starting Training\n",
      "epoch: 00, loss: -0.87866\n",
      "epoch: 01, loss: -0.92731\n",
      "epoch: 02, loss: -0.93908\n",
      "epoch: 03, loss: -0.94598\n",
      "epoch: 04, loss: -0.95055\n",
      "epoch: 05, loss: -0.95391\n",
      "epoch: 06, loss: -0.95658\n",
      "epoch: 07, loss: -0.95869\n",
      "epoch: 08, loss: -0.96056\n",
      "epoch: 09, loss: -0.96202\n",
      "torch.Size([1024, 64])\n"
     ]
    },
    {
     "name": "stderr",
     "output_type": "stream",
     "text": [
      "  4%|▍         | 41/999 [48:02<19:59:24, 75.12s/it]"
     ]
    },
    {
     "name": "stdout",
     "output_type": "stream",
     "text": [
      "eigenvalues shape torch.Size([5]) eigenvectors shape torch.Size([5, 1024])\n",
      "41 /home/phdcs2/Hard_Disk/Datasets/Deep-Spectral-Segmentation/data/object-segmentation/ECSSD/features/0043_resized.pth\n",
      "dict_keys(['k', 'indices', 'file', 'id', 'model_name', 'patch_size', 'shape'])\n",
      "0043_resized\n",
      "Starting Training\n",
      "epoch: 00, loss: -0.88105\n",
      "epoch: 01, loss: -0.92922\n",
      "epoch: 02, loss: -0.94176\n",
      "epoch: 03, loss: -0.94877\n",
      "epoch: 04, loss: -0.95357\n",
      "epoch: 05, loss: -0.95701\n",
      "epoch: 06, loss: -0.95980\n",
      "epoch: 07, loss: -0.96190\n",
      "epoch: 08, loss: -0.96363\n",
      "epoch: 09, loss: -0.96523\n",
      "torch.Size([1024, 64])\n"
     ]
    },
    {
     "name": "stderr",
     "output_type": "stream",
     "text": [
      "  4%|▍         | 42/999 [49:12<19:29:32, 73.33s/it]"
     ]
    },
    {
     "name": "stdout",
     "output_type": "stream",
     "text": [
      "eigenvalues shape torch.Size([5]) eigenvectors shape torch.Size([5, 1024])\n",
      "42 /home/phdcs2/Hard_Disk/Datasets/Deep-Spectral-Segmentation/data/object-segmentation/ECSSD/features/0044_resized.pth\n",
      "dict_keys(['k', 'indices', 'file', 'id', 'model_name', 'patch_size', 'shape'])\n",
      "0044_resized\n",
      "Starting Training\n",
      "epoch: 00, loss: -0.88775\n",
      "epoch: 01, loss: -0.93243\n",
      "epoch: 02, loss: -0.94300\n",
      "epoch: 03, loss: -0.94899\n",
      "epoch: 04, loss: -0.95303\n",
      "epoch: 05, loss: -0.95626\n",
      "epoch: 06, loss: -0.95859\n",
      "epoch: 07, loss: -0.96044\n",
      "epoch: 08, loss: -0.96209\n",
      "epoch: 09, loss: -0.96346\n",
      "torch.Size([1024, 64])\n"
     ]
    },
    {
     "name": "stderr",
     "output_type": "stream",
     "text": [
      "  4%|▍         | 43/999 [50:22<19:16:08, 72.56s/it]"
     ]
    },
    {
     "name": "stdout",
     "output_type": "stream",
     "text": [
      "eigenvalues shape torch.Size([5]) eigenvectors shape torch.Size([5, 1024])\n",
      "43 /home/phdcs2/Hard_Disk/Datasets/Deep-Spectral-Segmentation/data/object-segmentation/ECSSD/features/0045_resized.pth\n",
      "dict_keys(['k', 'indices', 'file', 'id', 'model_name', 'patch_size', 'shape'])\n",
      "0045_resized\n",
      "Starting Training\n",
      "epoch: 00, loss: -0.92584\n",
      "epoch: 01, loss: -0.95475\n",
      "epoch: 02, loss: -0.96168\n",
      "epoch: 03, loss: -0.96579\n",
      "epoch: 04, loss: -0.96859\n",
      "epoch: 05, loss: -0.97069\n",
      "epoch: 06, loss: -0.97233\n",
      "epoch: 07, loss: -0.97369\n",
      "epoch: 08, loss: -0.97483\n",
      "epoch: 09, loss: -0.97577\n",
      "torch.Size([1024, 64])\n"
     ]
    },
    {
     "name": "stderr",
     "output_type": "stream",
     "text": [
      "  4%|▍         | 44/999 [51:30<18:52:25, 71.15s/it]"
     ]
    },
    {
     "name": "stdout",
     "output_type": "stream",
     "text": [
      "eigenvalues shape torch.Size([5]) eigenvectors shape torch.Size([5, 1024])\n",
      "44 /home/phdcs2/Hard_Disk/Datasets/Deep-Spectral-Segmentation/data/object-segmentation/ECSSD/features/0046_resized.pth\n",
      "dict_keys(['k', 'indices', 'file', 'id', 'model_name', 'patch_size', 'shape'])\n",
      "0046_resized\n",
      "Starting Training\n",
      "epoch: 00, loss: -0.86745\n",
      "epoch: 01, loss: -0.91882\n",
      "epoch: 02, loss: -0.93318\n",
      "epoch: 03, loss: -0.94108\n",
      "epoch: 04, loss: -0.94627\n",
      "epoch: 05, loss: -0.95033\n",
      "epoch: 06, loss: -0.95334\n",
      "epoch: 07, loss: -0.95583\n",
      "epoch: 08, loss: -0.95785\n",
      "epoch: 09, loss: -0.95962\n",
      "torch.Size([1024, 64])\n"
     ]
    },
    {
     "name": "stderr",
     "output_type": "stream",
     "text": [
      "  5%|▍         | 45/999 [52:34<18:15:00, 68.87s/it]"
     ]
    },
    {
     "name": "stdout",
     "output_type": "stream",
     "text": [
      "eigenvalues shape torch.Size([5]) eigenvectors shape torch.Size([5, 1024])\n",
      "45 /home/phdcs2/Hard_Disk/Datasets/Deep-Spectral-Segmentation/data/object-segmentation/ECSSD/features/0047_resized.pth\n",
      "dict_keys(['k', 'indices', 'file', 'id', 'model_name', 'patch_size', 'shape'])\n",
      "0047_resized\n",
      "Starting Training\n",
      "epoch: 00, loss: -0.88160\n",
      "epoch: 01, loss: -0.93235\n",
      "epoch: 02, loss: -0.94414\n",
      "epoch: 03, loss: -0.95087\n",
      "epoch: 04, loss: -0.95515\n",
      "epoch: 05, loss: -0.95831\n",
      "epoch: 06, loss: -0.96073\n",
      "epoch: 07, loss: -0.96280\n",
      "epoch: 08, loss: -0.96444\n",
      "epoch: 09, loss: -0.96582\n",
      "torch.Size([1024, 64])\n"
     ]
    },
    {
     "name": "stderr",
     "output_type": "stream",
     "text": [
      "  5%|▍         | 46/999 [53:34<17:31:15, 66.19s/it]"
     ]
    },
    {
     "name": "stdout",
     "output_type": "stream",
     "text": [
      "eigenvalues shape torch.Size([5]) eigenvectors shape torch.Size([5, 1024])\n",
      "46 /home/phdcs2/Hard_Disk/Datasets/Deep-Spectral-Segmentation/data/object-segmentation/ECSSD/features/0048_resized.pth\n",
      "dict_keys(['k', 'indices', 'file', 'id', 'model_name', 'patch_size', 'shape'])\n",
      "0048_resized\n"
     ]
    },
    {
     "name": "stderr",
     "output_type": "stream",
     "text": [
      "/home/phdcs2/Hard_Disk/Projects/T2I/deep-spectral-segmentation/venv/lib/python3.8/site-packages/sklearn/decomposition/_pca.py:642: RuntimeWarning: invalid value encountered in divide\n",
      "  self.explained_variance_ratio_ = self.explained_variance_ / total_var\n"
     ]
    },
    {
     "name": "stdout",
     "output_type": "stream",
     "text": [
      "Starting Training\n",
      "epoch: 00, loss: -0.92282\n",
      "epoch: 01, loss: -0.95406\n",
      "epoch: 02, loss: -0.96091\n",
      "epoch: 03, loss: -0.96495\n",
      "epoch: 04, loss: -0.96771\n",
      "epoch: 05, loss: -0.96981\n",
      "epoch: 06, loss: -0.97146\n",
      "epoch: 07, loss: -0.97282\n",
      "epoch: 08, loss: -0.97394\n",
      "epoch: 09, loss: -0.97492\n",
      "torch.Size([1024, 64])\n"
     ]
    },
    {
     "name": "stderr",
     "output_type": "stream",
     "text": [
      "  5%|▍         | 47/999 [54:35<17:04:43, 64.58s/it]"
     ]
    },
    {
     "name": "stdout",
     "output_type": "stream",
     "text": [
      "eigenvalues shape torch.Size([5]) eigenvectors shape torch.Size([5, 1024])\n",
      "47 /home/phdcs2/Hard_Disk/Datasets/Deep-Spectral-Segmentation/data/object-segmentation/ECSSD/features/0049_resized.pth\n",
      "dict_keys(['k', 'indices', 'file', 'id', 'model_name', 'patch_size', 'shape'])\n",
      "0049_resized\n",
      "Starting Training\n",
      "epoch: 00, loss: -0.92021\n",
      "epoch: 01, loss: -0.95286\n",
      "epoch: 02, loss: -0.95971\n",
      "epoch: 03, loss: -0.96373\n",
      "epoch: 04, loss: -0.96655\n",
      "epoch: 05, loss: -0.96864\n",
      "epoch: 06, loss: -0.97028\n",
      "epoch: 07, loss: -0.97164\n",
      "epoch: 08, loss: -0.97280\n",
      "epoch: 09, loss: -0.97377\n",
      "torch.Size([1024, 64])\n"
     ]
    },
    {
     "name": "stderr",
     "output_type": "stream",
     "text": [
      "  5%|▍         | 48/999 [55:26<16:02:50, 60.75s/it]"
     ]
    },
    {
     "name": "stdout",
     "output_type": "stream",
     "text": [
      "eigenvalues shape torch.Size([5]) eigenvectors shape torch.Size([5, 1024])\n",
      "48 /home/phdcs2/Hard_Disk/Datasets/Deep-Spectral-Segmentation/data/object-segmentation/ECSSD/features/0050_resized.pth\n",
      "dict_keys(['k', 'indices', 'file', 'id', 'model_name', 'patch_size', 'shape'])\n",
      "0050_resized\n",
      "Starting Training\n",
      "epoch: 00, loss: -0.88404\n",
      "epoch: 01, loss: -0.92767\n",
      "epoch: 02, loss: -0.94068\n",
      "epoch: 03, loss: -0.94803\n",
      "epoch: 04, loss: -0.95292\n",
      "epoch: 05, loss: -0.95661\n",
      "epoch: 06, loss: -0.95944\n",
      "epoch: 07, loss: -0.96161\n",
      "epoch: 08, loss: -0.96359\n",
      "epoch: 09, loss: -0.96519\n",
      "torch.Size([1024, 64])\n"
     ]
    },
    {
     "name": "stderr",
     "output_type": "stream",
     "text": [
      "  5%|▍         | 49/999 [56:38<16:55:32, 64.14s/it]"
     ]
    },
    {
     "name": "stdout",
     "output_type": "stream",
     "text": [
      "eigenvalues shape torch.Size([5]) eigenvectors shape torch.Size([5, 1024])\n",
      "49 /home/phdcs2/Hard_Disk/Datasets/Deep-Spectral-Segmentation/data/object-segmentation/ECSSD/features/0051_resized.pth\n",
      "dict_keys(['k', 'indices', 'file', 'id', 'model_name', 'patch_size', 'shape'])\n",
      "0051_resized\n",
      "Starting Training\n",
      "epoch: 00, loss: -0.88516\n",
      "epoch: 01, loss: -0.93183\n",
      "epoch: 02, loss: -0.94389\n",
      "epoch: 03, loss: -0.95048\n",
      "epoch: 04, loss: -0.95501\n",
      "epoch: 05, loss: -0.95822\n",
      "epoch: 06, loss: -0.96085\n",
      "epoch: 07, loss: -0.96291\n",
      "epoch: 08, loss: -0.96459\n",
      "epoch: 09, loss: -0.96605\n",
      "torch.Size([1024, 64])\n"
     ]
    },
    {
     "name": "stderr",
     "output_type": "stream",
     "text": [
      "  5%|▌         | 50/999 [57:51<17:32:27, 66.54s/it]"
     ]
    },
    {
     "name": "stdout",
     "output_type": "stream",
     "text": [
      "eigenvalues shape torch.Size([5]) eigenvectors shape torch.Size([5, 1024])\n",
      "50 /home/phdcs2/Hard_Disk/Datasets/Deep-Spectral-Segmentation/data/object-segmentation/ECSSD/features/0052_resized.pth\n",
      "dict_keys(['k', 'indices', 'file', 'id', 'model_name', 'patch_size', 'shape'])\n",
      "0052_resized\n"
     ]
    },
    {
     "name": "stderr",
     "output_type": "stream",
     "text": [
      "/home/phdcs2/Hard_Disk/Projects/T2I/deep-spectral-segmentation/venv/lib/python3.8/site-packages/sklearn/decomposition/_pca.py:642: RuntimeWarning: invalid value encountered in divide\n",
      "  self.explained_variance_ratio_ = self.explained_variance_ / total_var\n"
     ]
    },
    {
     "name": "stdout",
     "output_type": "stream",
     "text": [
      "Starting Training\n",
      "epoch: 00, loss: -0.92410\n",
      "epoch: 01, loss: -0.95534\n",
      "epoch: 02, loss: -0.96203\n",
      "epoch: 03, loss: -0.96591\n",
      "epoch: 04, loss: -0.96856\n",
      "epoch: 05, loss: -0.97056\n",
      "epoch: 06, loss: -0.97212\n",
      "epoch: 07, loss: -0.97337\n",
      "epoch: 08, loss: -0.97443\n",
      "epoch: 09, loss: -0.97533\n",
      "torch.Size([1024, 64])\n"
     ]
    },
    {
     "name": "stderr",
     "output_type": "stream",
     "text": [
      "  5%|▌         | 51/999 [58:59<17:38:15, 66.98s/it]"
     ]
    },
    {
     "name": "stdout",
     "output_type": "stream",
     "text": [
      "eigenvalues shape torch.Size([5]) eigenvectors shape torch.Size([5, 1024])\n",
      "51 /home/phdcs2/Hard_Disk/Datasets/Deep-Spectral-Segmentation/data/object-segmentation/ECSSD/features/0053_resized.pth\n",
      "dict_keys(['k', 'indices', 'file', 'id', 'model_name', 'patch_size', 'shape'])\n",
      "0053_resized\n"
     ]
    },
    {
     "name": "stderr",
     "output_type": "stream",
     "text": [
      "/home/phdcs2/Hard_Disk/Projects/T2I/deep-spectral-segmentation/venv/lib/python3.8/site-packages/sklearn/decomposition/_pca.py:642: RuntimeWarning: invalid value encountered in divide\n",
      "  self.explained_variance_ratio_ = self.explained_variance_ / total_var\n"
     ]
    },
    {
     "name": "stdout",
     "output_type": "stream",
     "text": [
      "Starting Training\n",
      "epoch: 00, loss: -0.92323\n",
      "epoch: 01, loss: -0.95516\n",
      "epoch: 02, loss: -0.96208\n",
      "epoch: 03, loss: -0.96608\n",
      "epoch: 04, loss: -0.96878\n",
      "epoch: 05, loss: -0.97084\n",
      "epoch: 06, loss: -0.97240\n",
      "epoch: 07, loss: -0.97372\n",
      "epoch: 08, loss: -0.97482\n",
      "epoch: 09, loss: -0.97574\n",
      "torch.Size([1024, 64])\n"
     ]
    },
    {
     "name": "stderr",
     "output_type": "stream",
     "text": [
      "  5%|▌         | 52/999 [1:00:04<17:31:24, 66.61s/it]"
     ]
    },
    {
     "name": "stdout",
     "output_type": "stream",
     "text": [
      "eigenvalues shape torch.Size([5]) eigenvectors shape torch.Size([5, 1024])\n",
      "52 /home/phdcs2/Hard_Disk/Datasets/Deep-Spectral-Segmentation/data/object-segmentation/ECSSD/features/0054_resized.pth\n",
      "dict_keys(['k', 'indices', 'file', 'id', 'model_name', 'patch_size', 'shape'])\n",
      "0054_resized\n",
      "Starting Training\n",
      "epoch: 00, loss: -0.92814\n",
      "epoch: 01, loss: -0.95806\n",
      "epoch: 02, loss: -0.96494\n",
      "epoch: 03, loss: -0.96890\n",
      "epoch: 04, loss: -0.97159\n",
      "epoch: 05, loss: -0.97361\n",
      "epoch: 06, loss: -0.97520\n",
      "epoch: 07, loss: -0.97648\n",
      "epoch: 08, loss: -0.97756\n",
      "epoch: 09, loss: -0.97847\n",
      "torch.Size([1024, 64])\n"
     ]
    },
    {
     "name": "stderr",
     "output_type": "stream",
     "text": [
      "  5%|▌         | 53/999 [1:01:16<17:52:41, 68.04s/it]"
     ]
    },
    {
     "name": "stdout",
     "output_type": "stream",
     "text": [
      "eigenvalues shape torch.Size([5]) eigenvectors shape torch.Size([5, 1024])\n",
      "53 /home/phdcs2/Hard_Disk/Datasets/Deep-Spectral-Segmentation/data/object-segmentation/ECSSD/features/0055_resized.pth\n",
      "dict_keys(['k', 'indices', 'file', 'id', 'model_name', 'patch_size', 'shape'])\n",
      "0055_resized\n",
      "Starting Training\n",
      "epoch: 00, loss: -0.94306\n",
      "epoch: 01, loss: -0.96570\n",
      "epoch: 02, loss: -0.97053\n",
      "epoch: 03, loss: -0.97339\n",
      "epoch: 04, loss: -0.97540\n",
      "epoch: 05, loss: -0.97695\n",
      "epoch: 06, loss: -0.97813\n",
      "epoch: 07, loss: -0.97914\n",
      "epoch: 08, loss: -0.97999\n",
      "epoch: 09, loss: -0.98069\n",
      "torch.Size([1024, 64])\n"
     ]
    },
    {
     "name": "stderr",
     "output_type": "stream",
     "text": [
      "  5%|▌         | 54/999 [1:02:29<18:15:46, 69.57s/it]"
     ]
    },
    {
     "name": "stdout",
     "output_type": "stream",
     "text": [
      "eigenvalues shape torch.Size([5]) eigenvectors shape torch.Size([5, 1024])\n",
      "54 /home/phdcs2/Hard_Disk/Datasets/Deep-Spectral-Segmentation/data/object-segmentation/ECSSD/features/0056_resized.pth\n",
      "dict_keys(['k', 'indices', 'file', 'id', 'model_name', 'patch_size', 'shape'])\n",
      "0056_resized\n",
      "Starting Training\n",
      "epoch: 00, loss: -0.86933\n",
      "epoch: 01, loss: -0.92505\n",
      "epoch: 02, loss: -0.93845\n",
      "epoch: 03, loss: -0.94577\n",
      "epoch: 04, loss: -0.95081\n",
      "epoch: 05, loss: -0.95443\n",
      "epoch: 06, loss: -0.95724\n",
      "epoch: 07, loss: -0.95960\n",
      "epoch: 08, loss: -0.96150\n",
      "epoch: 09, loss: -0.96306\n",
      "torch.Size([1024, 64])\n"
     ]
    },
    {
     "name": "stderr",
     "output_type": "stream",
     "text": [
      "  6%|▌         | 55/999 [1:03:46<18:52:29, 71.98s/it]"
     ]
    },
    {
     "name": "stdout",
     "output_type": "stream",
     "text": [
      "eigenvalues shape torch.Size([5]) eigenvectors shape torch.Size([5, 1024])\n",
      "55 /home/phdcs2/Hard_Disk/Datasets/Deep-Spectral-Segmentation/data/object-segmentation/ECSSD/features/0057_resized.pth\n",
      "dict_keys(['k', 'indices', 'file', 'id', 'model_name', 'patch_size', 'shape'])\n",
      "0057_resized\n",
      "Starting Training\n",
      "epoch: 00, loss: -0.93102\n",
      "epoch: 01, loss: -0.96127\n",
      "epoch: 02, loss: -0.96743\n",
      "epoch: 03, loss: -0.97096\n",
      "epoch: 04, loss: -0.97339\n",
      "epoch: 05, loss: -0.97517\n",
      "epoch: 06, loss: -0.97658\n",
      "epoch: 07, loss: -0.97773\n",
      "epoch: 08, loss: -0.97867\n",
      "epoch: 09, loss: -0.97948\n",
      "torch.Size([1024, 64])\n"
     ]
    },
    {
     "name": "stderr",
     "output_type": "stream",
     "text": [
      "  6%|▌         | 56/999 [1:04:58<18:50:22, 71.92s/it]"
     ]
    },
    {
     "name": "stdout",
     "output_type": "stream",
     "text": [
      "eigenvalues shape torch.Size([5]) eigenvectors shape torch.Size([5, 1024])\n",
      "56 /home/phdcs2/Hard_Disk/Datasets/Deep-Spectral-Segmentation/data/object-segmentation/ECSSD/features/0058_resized.pth\n",
      "dict_keys(['k', 'indices', 'file', 'id', 'model_name', 'patch_size', 'shape'])\n",
      "0058_resized\n",
      "Starting Training\n",
      "epoch: 00, loss: -0.85904\n",
      "epoch: 01, loss: -0.91603\n",
      "epoch: 02, loss: -0.93044\n",
      "epoch: 03, loss: -0.93862\n",
      "epoch: 04, loss: -0.94404\n",
      "epoch: 05, loss: -0.94798\n",
      "epoch: 06, loss: -0.95110\n",
      "epoch: 07, loss: -0.95362\n",
      "epoch: 08, loss: -0.95580\n",
      "epoch: 09, loss: -0.95764\n",
      "torch.Size([1024, 64])\n"
     ]
    },
    {
     "name": "stderr",
     "output_type": "stream",
     "text": [
      "  6%|▌         | 57/999 [1:06:04<18:22:26, 70.22s/it]"
     ]
    },
    {
     "name": "stdout",
     "output_type": "stream",
     "text": [
      "eigenvalues shape torch.Size([5]) eigenvectors shape torch.Size([5, 1024])\n",
      "57 /home/phdcs2/Hard_Disk/Datasets/Deep-Spectral-Segmentation/data/object-segmentation/ECSSD/features/0059_resized.pth\n",
      "dict_keys(['k', 'indices', 'file', 'id', 'model_name', 'patch_size', 'shape'])\n",
      "0059_resized\n",
      "Starting Training\n",
      "epoch: 00, loss: -0.87559\n",
      "epoch: 01, loss: -0.92484\n",
      "epoch: 02, loss: -0.93768\n",
      "epoch: 03, loss: -0.94504\n",
      "epoch: 04, loss: -0.94988\n",
      "epoch: 05, loss: -0.95352\n",
      "epoch: 06, loss: -0.95647\n",
      "epoch: 07, loss: -0.95861\n",
      "epoch: 08, loss: -0.96048\n",
      "epoch: 09, loss: -0.96203\n",
      "torch.Size([1024, 64])\n"
     ]
    },
    {
     "name": "stderr",
     "output_type": "stream",
     "text": [
      "  6%|▌         | 58/999 [1:07:18<18:38:36, 71.33s/it]"
     ]
    },
    {
     "name": "stdout",
     "output_type": "stream",
     "text": [
      "eigenvalues shape torch.Size([5]) eigenvectors shape torch.Size([5, 1024])\n",
      "58 /home/phdcs2/Hard_Disk/Datasets/Deep-Spectral-Segmentation/data/object-segmentation/ECSSD/features/0060_resized.pth\n",
      "dict_keys(['k', 'indices', 'file', 'id', 'model_name', 'patch_size', 'shape'])\n",
      "0060_resized\n",
      "Starting Training\n",
      "epoch: 00, loss: -0.86593\n",
      "epoch: 01, loss: -0.91963\n",
      "epoch: 02, loss: -0.93391\n",
      "epoch: 03, loss: -0.94206\n",
      "epoch: 04, loss: -0.94770\n",
      "epoch: 05, loss: -0.95163\n",
      "epoch: 06, loss: -0.95484\n",
      "epoch: 07, loss: -0.95724\n",
      "epoch: 08, loss: -0.95939\n",
      "epoch: 09, loss: -0.96112\n",
      "torch.Size([1024, 64])\n"
     ]
    },
    {
     "name": "stderr",
     "output_type": "stream",
     "text": [
      "  6%|▌         | 59/999 [1:08:34<18:59:11, 72.71s/it]"
     ]
    },
    {
     "name": "stdout",
     "output_type": "stream",
     "text": [
      "eigenvalues shape torch.Size([5]) eigenvectors shape torch.Size([5, 1024])\n",
      "59 /home/phdcs2/Hard_Disk/Datasets/Deep-Spectral-Segmentation/data/object-segmentation/ECSSD/features/0061_resized.pth\n",
      "dict_keys(['k', 'indices', 'file', 'id', 'model_name', 'patch_size', 'shape'])\n",
      "0061_resized\n"
     ]
    },
    {
     "name": "stderr",
     "output_type": "stream",
     "text": [
      "/home/phdcs2/Hard_Disk/Projects/T2I/deep-spectral-segmentation/venv/lib/python3.8/site-packages/sklearn/decomposition/_pca.py:642: RuntimeWarning: invalid value encountered in divide\n",
      "  self.explained_variance_ratio_ = self.explained_variance_ / total_var\n"
     ]
    },
    {
     "name": "stdout",
     "output_type": "stream",
     "text": [
      "Starting Training\n",
      "epoch: 00, loss: -0.91694\n",
      "epoch: 01, loss: -0.95177\n",
      "epoch: 02, loss: -0.95983\n",
      "epoch: 03, loss: -0.96439\n",
      "epoch: 04, loss: -0.96749\n",
      "epoch: 05, loss: -0.96980\n",
      "epoch: 06, loss: -0.97156\n",
      "epoch: 07, loss: -0.97304\n",
      "epoch: 08, loss: -0.97422\n",
      "epoch: 09, loss: -0.97524\n",
      "torch.Size([1024, 64])\n"
     ]
    },
    {
     "name": "stderr",
     "output_type": "stream",
     "text": [
      "  6%|▌         | 60/999 [1:09:52<19:19:56, 74.12s/it]"
     ]
    },
    {
     "name": "stdout",
     "output_type": "stream",
     "text": [
      "eigenvalues shape torch.Size([5]) eigenvectors shape torch.Size([5, 1024])\n",
      "60 /home/phdcs2/Hard_Disk/Datasets/Deep-Spectral-Segmentation/data/object-segmentation/ECSSD/features/0062_resized.pth\n",
      "dict_keys(['k', 'indices', 'file', 'id', 'model_name', 'patch_size', 'shape'])\n",
      "0062_resized\n"
     ]
    },
    {
     "name": "stderr",
     "output_type": "stream",
     "text": [
      "/home/phdcs2/Hard_Disk/Projects/T2I/deep-spectral-segmentation/venv/lib/python3.8/site-packages/sklearn/decomposition/_pca.py:642: RuntimeWarning: invalid value encountered in divide\n",
      "  self.explained_variance_ratio_ = self.explained_variance_ / total_var\n"
     ]
    },
    {
     "name": "stdout",
     "output_type": "stream",
     "text": [
      "Starting Training\n",
      "epoch: 00, loss: -0.92654\n",
      "epoch: 01, loss: -0.95608\n",
      "epoch: 02, loss: -0.96278\n",
      "epoch: 03, loss: -0.96661\n",
      "epoch: 04, loss: -0.96925\n",
      "epoch: 05, loss: -0.97121\n",
      "epoch: 06, loss: -0.97277\n",
      "epoch: 07, loss: -0.97403\n",
      "epoch: 08, loss: -0.97510\n",
      "epoch: 09, loss: -0.97601\n",
      "torch.Size([1024, 64])\n"
     ]
    },
    {
     "name": "stderr",
     "output_type": "stream",
     "text": [
      "  6%|▌         | 61/999 [1:11:07<19:23:09, 74.40s/it]"
     ]
    },
    {
     "name": "stdout",
     "output_type": "stream",
     "text": [
      "eigenvalues shape torch.Size([5]) eigenvectors shape torch.Size([5, 1024])\n",
      "61 /home/phdcs2/Hard_Disk/Datasets/Deep-Spectral-Segmentation/data/object-segmentation/ECSSD/features/0063_resized.pth\n",
      "dict_keys(['k', 'indices', 'file', 'id', 'model_name', 'patch_size', 'shape'])\n",
      "0063_resized\n"
     ]
    },
    {
     "name": "stderr",
     "output_type": "stream",
     "text": [
      "/home/phdcs2/Hard_Disk/Projects/T2I/deep-spectral-segmentation/venv/lib/python3.8/site-packages/sklearn/decomposition/_pca.py:642: RuntimeWarning: invalid value encountered in divide\n",
      "  self.explained_variance_ratio_ = self.explained_variance_ / total_var\n"
     ]
    },
    {
     "name": "stdout",
     "output_type": "stream",
     "text": [
      "Starting Training\n",
      "epoch: 00, loss: -0.93019\n",
      "epoch: 01, loss: -0.95875\n",
      "epoch: 02, loss: -0.96517\n",
      "epoch: 03, loss: -0.96884\n",
      "epoch: 04, loss: -0.97139\n",
      "epoch: 05, loss: -0.97328\n",
      "epoch: 06, loss: -0.97475\n",
      "epoch: 07, loss: -0.97596\n",
      "epoch: 08, loss: -0.97697\n",
      "epoch: 09, loss: -0.97784\n",
      "torch.Size([1024, 64])\n"
     ]
    },
    {
     "name": "stderr",
     "output_type": "stream",
     "text": [
      "  6%|▌         | 62/999 [1:12:22<19:24:26, 74.56s/it]"
     ]
    },
    {
     "name": "stdout",
     "output_type": "stream",
     "text": [
      "eigenvalues shape torch.Size([5]) eigenvectors shape torch.Size([5, 1024])\n",
      "62 /home/phdcs2/Hard_Disk/Datasets/Deep-Spectral-Segmentation/data/object-segmentation/ECSSD/features/0064_resized.pth\n",
      "dict_keys(['k', 'indices', 'file', 'id', 'model_name', 'patch_size', 'shape'])\n",
      "0064_resized\n",
      "Starting Training\n",
      "epoch: 00, loss: -0.87312\n",
      "epoch: 01, loss: -0.92335\n",
      "epoch: 02, loss: -0.93565\n",
      "epoch: 03, loss: -0.94276\n",
      "epoch: 04, loss: -0.94759\n",
      "epoch: 05, loss: -0.95110\n",
      "epoch: 06, loss: -0.95389\n",
      "epoch: 07, loss: -0.95607\n",
      "epoch: 08, loss: -0.95790\n",
      "epoch: 09, loss: -0.95954\n",
      "torch.Size([1024, 64])\n"
     ]
    },
    {
     "name": "stderr",
     "output_type": "stream",
     "text": [
      "  6%|▋         | 63/999 [1:13:26<18:35:51, 71.53s/it]"
     ]
    },
    {
     "name": "stdout",
     "output_type": "stream",
     "text": [
      "eigenvalues shape torch.Size([5]) eigenvectors shape torch.Size([5, 1024])\n",
      "63 /home/phdcs2/Hard_Disk/Datasets/Deep-Spectral-Segmentation/data/object-segmentation/ECSSD/features/0065_resized.pth\n",
      "dict_keys(['k', 'indices', 'file', 'id', 'model_name', 'patch_size', 'shape'])\n",
      "0065_resized\n"
     ]
    },
    {
     "name": "stderr",
     "output_type": "stream",
     "text": [
      "/home/phdcs2/Hard_Disk/Projects/T2I/deep-spectral-segmentation/venv/lib/python3.8/site-packages/sklearn/decomposition/_pca.py:642: RuntimeWarning: invalid value encountered in divide\n",
      "  self.explained_variance_ratio_ = self.explained_variance_ / total_var\n"
     ]
    },
    {
     "name": "stdout",
     "output_type": "stream",
     "text": [
      "Starting Training\n",
      "epoch: 00, loss: -0.90601\n",
      "epoch: 01, loss: -0.94382\n",
      "epoch: 02, loss: -0.95238\n",
      "epoch: 03, loss: -0.95743\n",
      "epoch: 04, loss: -0.96079\n",
      "epoch: 05, loss: -0.96337\n",
      "epoch: 06, loss: -0.96536\n",
      "epoch: 07, loss: -0.96701\n",
      "epoch: 08, loss: -0.96836\n",
      "epoch: 09, loss: -0.96953\n",
      "torch.Size([1024, 64])\n"
     ]
    },
    {
     "name": "stderr",
     "output_type": "stream",
     "text": [
      "  6%|▋         | 64/999 [1:14:37<18:33:56, 71.48s/it]"
     ]
    },
    {
     "name": "stdout",
     "output_type": "stream",
     "text": [
      "eigenvalues shape torch.Size([5]) eigenvectors shape torch.Size([5, 1024])\n",
      "64 /home/phdcs2/Hard_Disk/Datasets/Deep-Spectral-Segmentation/data/object-segmentation/ECSSD/features/0066_resized.pth\n",
      "dict_keys(['k', 'indices', 'file', 'id', 'model_name', 'patch_size', 'shape'])\n",
      "0066_resized\n",
      "Starting Training\n",
      "epoch: 00, loss: -0.86832\n",
      "epoch: 01, loss: -0.92278\n",
      "epoch: 02, loss: -0.93643\n",
      "epoch: 03, loss: -0.94452\n",
      "epoch: 04, loss: -0.94989\n",
      "epoch: 05, loss: -0.95373\n",
      "epoch: 06, loss: -0.95667\n",
      "epoch: 07, loss: -0.95907\n",
      "epoch: 08, loss: -0.96092\n",
      "epoch: 09, loss: -0.96263\n",
      "torch.Size([1024, 64])\n"
     ]
    },
    {
     "name": "stderr",
     "output_type": "stream",
     "text": [
      "  7%|▋         | 65/999 [1:15:51<18:40:00, 71.95s/it]"
     ]
    },
    {
     "name": "stdout",
     "output_type": "stream",
     "text": [
      "eigenvalues shape torch.Size([5]) eigenvectors shape torch.Size([5, 1024])\n",
      "65 /home/phdcs2/Hard_Disk/Datasets/Deep-Spectral-Segmentation/data/object-segmentation/ECSSD/features/0067_resized.pth\n",
      "dict_keys(['k', 'indices', 'file', 'id', 'model_name', 'patch_size', 'shape'])\n",
      "0067_resized\n",
      "Starting Training\n",
      "epoch: 00, loss: -0.86841\n",
      "epoch: 01, loss: -0.92290\n",
      "epoch: 02, loss: -0.93670\n",
      "epoch: 03, loss: -0.94421\n",
      "epoch: 04, loss: -0.94932\n",
      "epoch: 05, loss: -0.95312\n",
      "epoch: 06, loss: -0.95598\n",
      "epoch: 07, loss: -0.95828\n",
      "epoch: 08, loss: -0.96022\n",
      "epoch: 09, loss: -0.96177\n",
      "torch.Size([1024, 64])\n"
     ]
    },
    {
     "name": "stderr",
     "output_type": "stream",
     "text": [
      "  7%|▋         | 66/999 [1:17:04<18:47:06, 72.48s/it]"
     ]
    },
    {
     "name": "stdout",
     "output_type": "stream",
     "text": [
      "eigenvalues shape torch.Size([5]) eigenvectors shape torch.Size([5, 1024])\n",
      "66 /home/phdcs2/Hard_Disk/Datasets/Deep-Spectral-Segmentation/data/object-segmentation/ECSSD/features/0068_resized.pth\n",
      "dict_keys(['k', 'indices', 'file', 'id', 'model_name', 'patch_size', 'shape'])\n",
      "0068_resized\n"
     ]
    },
    {
     "name": "stderr",
     "output_type": "stream",
     "text": [
      "/home/phdcs2/Hard_Disk/Projects/T2I/deep-spectral-segmentation/venv/lib/python3.8/site-packages/sklearn/decomposition/_pca.py:642: RuntimeWarning: invalid value encountered in divide\n",
      "  self.explained_variance_ratio_ = self.explained_variance_ / total_var\n"
     ]
    },
    {
     "name": "stdout",
     "output_type": "stream",
     "text": [
      "Starting Training\n",
      "epoch: 00, loss: -0.92268\n",
      "epoch: 01, loss: -0.95597\n",
      "epoch: 02, loss: -0.96288\n",
      "epoch: 03, loss: -0.96691\n",
      "epoch: 04, loss: -0.96960\n",
      "epoch: 05, loss: -0.97161\n",
      "epoch: 06, loss: -0.97320\n",
      "epoch: 07, loss: -0.97449\n",
      "epoch: 08, loss: -0.97556\n",
      "epoch: 09, loss: -0.97648\n",
      "torch.Size([1024, 64])\n"
     ]
    },
    {
     "name": "stderr",
     "output_type": "stream",
     "text": [
      "  7%|▋         | 67/999 [1:18:15<18:39:00, 72.04s/it]"
     ]
    },
    {
     "name": "stdout",
     "output_type": "stream",
     "text": [
      "eigenvalues shape torch.Size([5]) eigenvectors shape torch.Size([5, 1024])\n",
      "67 /home/phdcs2/Hard_Disk/Datasets/Deep-Spectral-Segmentation/data/object-segmentation/ECSSD/features/0069_resized.pth\n",
      "dict_keys(['k', 'indices', 'file', 'id', 'model_name', 'patch_size', 'shape'])\n",
      "0069_resized\n"
     ]
    },
    {
     "name": "stderr",
     "output_type": "stream",
     "text": [
      "/home/phdcs2/Hard_Disk/Projects/T2I/deep-spectral-segmentation/venv/lib/python3.8/site-packages/sklearn/decomposition/_pca.py:642: RuntimeWarning: invalid value encountered in divide\n",
      "  self.explained_variance_ratio_ = self.explained_variance_ / total_var\n"
     ]
    },
    {
     "name": "stdout",
     "output_type": "stream",
     "text": [
      "Starting Training\n",
      "epoch: 00, loss: -0.92355\n",
      "epoch: 01, loss: -0.95435\n",
      "epoch: 02, loss: -0.96099\n",
      "epoch: 03, loss: -0.96493\n",
      "epoch: 04, loss: -0.96768\n",
      "epoch: 05, loss: -0.96970\n",
      "epoch: 06, loss: -0.97132\n",
      "epoch: 07, loss: -0.97264\n",
      "epoch: 08, loss: -0.97377\n",
      "epoch: 09, loss: -0.97472\n",
      "torch.Size([1024, 64])\n"
     ]
    },
    {
     "name": "stderr",
     "output_type": "stream",
     "text": [
      "  7%|▋         | 68/999 [1:19:30<18:49:21, 72.78s/it]"
     ]
    },
    {
     "name": "stdout",
     "output_type": "stream",
     "text": [
      "eigenvalues shape torch.Size([5]) eigenvectors shape torch.Size([5, 1024])\n",
      "68 /home/phdcs2/Hard_Disk/Datasets/Deep-Spectral-Segmentation/data/object-segmentation/ECSSD/features/0070_resized.pth\n",
      "dict_keys(['k', 'indices', 'file', 'id', 'model_name', 'patch_size', 'shape'])\n",
      "0070_resized\n"
     ]
    },
    {
     "name": "stderr",
     "output_type": "stream",
     "text": [
      "/home/phdcs2/Hard_Disk/Projects/T2I/deep-spectral-segmentation/venv/lib/python3.8/site-packages/sklearn/decomposition/_pca.py:642: RuntimeWarning: invalid value encountered in divide\n",
      "  self.explained_variance_ratio_ = self.explained_variance_ / total_var\n"
     ]
    },
    {
     "name": "stdout",
     "output_type": "stream",
     "text": [
      "Starting Training\n",
      "epoch: 00, loss: -0.91810\n",
      "epoch: 01, loss: -0.95192\n",
      "epoch: 02, loss: -0.95942\n",
      "epoch: 03, loss: -0.96373\n",
      "epoch: 04, loss: -0.96669\n",
      "epoch: 05, loss: -0.96887\n",
      "epoch: 06, loss: -0.97062\n",
      "epoch: 07, loss: -0.97199\n",
      "epoch: 08, loss: -0.97315\n",
      "epoch: 09, loss: -0.97417\n",
      "torch.Size([1024, 64])\n"
     ]
    },
    {
     "name": "stderr",
     "output_type": "stream",
     "text": [
      "  7%|▋         | 69/999 [1:20:42<18:44:52, 72.57s/it]"
     ]
    },
    {
     "name": "stdout",
     "output_type": "stream",
     "text": [
      "eigenvalues shape torch.Size([5]) eigenvectors shape torch.Size([5, 1024])\n",
      "69 /home/phdcs2/Hard_Disk/Datasets/Deep-Spectral-Segmentation/data/object-segmentation/ECSSD/features/0071_resized.pth\n",
      "dict_keys(['k', 'indices', 'file', 'id', 'model_name', 'patch_size', 'shape'])\n",
      "0071_resized\n"
     ]
    },
    {
     "name": "stderr",
     "output_type": "stream",
     "text": [
      "/home/phdcs2/Hard_Disk/Projects/T2I/deep-spectral-segmentation/venv/lib/python3.8/site-packages/sklearn/decomposition/_pca.py:642: RuntimeWarning: invalid value encountered in divide\n",
      "  self.explained_variance_ratio_ = self.explained_variance_ / total_var\n"
     ]
    },
    {
     "name": "stdout",
     "output_type": "stream",
     "text": [
      "Starting Training\n",
      "epoch: 00, loss: -0.92472\n",
      "epoch: 01, loss: -0.95623\n",
      "epoch: 02, loss: -0.96286\n",
      "epoch: 03, loss: -0.96671\n",
      "epoch: 04, loss: -0.96935\n",
      "epoch: 05, loss: -0.97130\n",
      "epoch: 06, loss: -0.97286\n",
      "epoch: 07, loss: -0.97411\n",
      "epoch: 08, loss: -0.97517\n",
      "epoch: 09, loss: -0.97608\n",
      "torch.Size([1024, 64])\n"
     ]
    },
    {
     "name": "stderr",
     "output_type": "stream",
     "text": [
      "  7%|▋         | 70/999 [1:21:48<18:14:51, 70.71s/it]"
     ]
    },
    {
     "name": "stdout",
     "output_type": "stream",
     "text": [
      "eigenvalues shape torch.Size([5]) eigenvectors shape torch.Size([5, 1024])\n",
      "70 /home/phdcs2/Hard_Disk/Datasets/Deep-Spectral-Segmentation/data/object-segmentation/ECSSD/features/0072_resized.pth\n",
      "dict_keys(['k', 'indices', 'file', 'id', 'model_name', 'patch_size', 'shape'])\n",
      "0072_resized\n",
      "Starting Training\n",
      "epoch: 00, loss: -0.88990\n",
      "epoch: 01, loss: -0.93420\n",
      "epoch: 02, loss: -0.94473\n",
      "epoch: 03, loss: -0.95085\n",
      "epoch: 04, loss: -0.95505\n",
      "epoch: 05, loss: -0.95810\n",
      "epoch: 06, loss: -0.96056\n",
      "epoch: 07, loss: -0.96263\n",
      "epoch: 08, loss: -0.96429\n",
      "epoch: 09, loss: -0.96572\n",
      "torch.Size([1024, 64])\n"
     ]
    },
    {
     "name": "stderr",
     "output_type": "stream",
     "text": [
      "  7%|▋         | 71/999 [1:22:52<17:42:04, 68.67s/it]"
     ]
    },
    {
     "name": "stdout",
     "output_type": "stream",
     "text": [
      "eigenvalues shape torch.Size([5]) eigenvectors shape torch.Size([5, 1024])\n",
      "71 /home/phdcs2/Hard_Disk/Datasets/Deep-Spectral-Segmentation/data/object-segmentation/ECSSD/features/0073_resized.pth\n",
      "dict_keys(['k', 'indices', 'file', 'id', 'model_name', 'patch_size', 'shape'])\n",
      "0073_resized\n",
      "Starting Training\n",
      "epoch: 00, loss: -0.89835\n",
      "epoch: 01, loss: -0.93807\n",
      "epoch: 02, loss: -0.94896\n",
      "epoch: 03, loss: -0.95499\n",
      "epoch: 04, loss: -0.95906\n",
      "epoch: 05, loss: -0.96227\n",
      "epoch: 06, loss: -0.96457\n",
      "epoch: 07, loss: -0.96645\n",
      "epoch: 08, loss: -0.96820\n",
      "epoch: 09, loss: -0.96943\n",
      "torch.Size([1024, 64])\n"
     ]
    },
    {
     "name": "stderr",
     "output_type": "stream",
     "text": [
      "  7%|▋         | 72/999 [1:24:02<17:47:44, 69.11s/it]"
     ]
    },
    {
     "name": "stdout",
     "output_type": "stream",
     "text": [
      "eigenvalues shape torch.Size([5]) eigenvectors shape torch.Size([5, 1024])\n",
      "72 /home/phdcs2/Hard_Disk/Datasets/Deep-Spectral-Segmentation/data/object-segmentation/ECSSD/features/0074_resized.pth\n",
      "dict_keys(['k', 'indices', 'file', 'id', 'model_name', 'patch_size', 'shape'])\n",
      "0074_resized\n"
     ]
    },
    {
     "name": "stderr",
     "output_type": "stream",
     "text": [
      "/home/phdcs2/Hard_Disk/Projects/T2I/deep-spectral-segmentation/venv/lib/python3.8/site-packages/sklearn/decomposition/_pca.py:642: RuntimeWarning: invalid value encountered in divide\n",
      "  self.explained_variance_ratio_ = self.explained_variance_ / total_var\n"
     ]
    },
    {
     "name": "stdout",
     "output_type": "stream",
     "text": [
      "Starting Training\n",
      "epoch: 00, loss: -0.92263\n",
      "epoch: 01, loss: -0.95310\n",
      "epoch: 02, loss: -0.96032\n",
      "epoch: 03, loss: -0.96447\n",
      "epoch: 04, loss: -0.96729\n",
      "epoch: 05, loss: -0.96937\n",
      "epoch: 06, loss: -0.97099\n",
      "epoch: 07, loss: -0.97230\n",
      "epoch: 08, loss: -0.97342\n",
      "epoch: 09, loss: -0.97435\n",
      "torch.Size([1024, 64])\n"
     ]
    },
    {
     "name": "stderr",
     "output_type": "stream",
     "text": [
      "  7%|▋         | 73/999 [1:25:14<17:57:56, 69.85s/it]"
     ]
    },
    {
     "name": "stdout",
     "output_type": "stream",
     "text": [
      "eigenvalues shape torch.Size([5]) eigenvectors shape torch.Size([5, 1024])\n",
      "73 /home/phdcs2/Hard_Disk/Datasets/Deep-Spectral-Segmentation/data/object-segmentation/ECSSD/features/0075_resized.pth\n",
      "dict_keys(['k', 'indices', 'file', 'id', 'model_name', 'patch_size', 'shape'])\n",
      "0075_resized\n",
      "Starting Training\n",
      "epoch: 00, loss: -0.89944\n",
      "epoch: 01, loss: -0.94152\n",
      "epoch: 02, loss: -0.95094\n",
      "epoch: 03, loss: -0.95636\n",
      "epoch: 04, loss: -0.95997\n",
      "epoch: 05, loss: -0.96269\n",
      "epoch: 06, loss: -0.96479\n",
      "epoch: 07, loss: -0.96656\n",
      "epoch: 08, loss: -0.96797\n",
      "epoch: 09, loss: -0.96921\n",
      "torch.Size([1024, 64])\n"
     ]
    },
    {
     "name": "stderr",
     "output_type": "stream",
     "text": [
      "  7%|▋         | 74/999 [1:26:31<18:29:07, 71.94s/it]"
     ]
    },
    {
     "name": "stdout",
     "output_type": "stream",
     "text": [
      "eigenvalues shape torch.Size([5]) eigenvectors shape torch.Size([5, 1024])\n",
      "74 /home/phdcs2/Hard_Disk/Datasets/Deep-Spectral-Segmentation/data/object-segmentation/ECSSD/features/0076_resized.pth\n",
      "dict_keys(['k', 'indices', 'file', 'id', 'model_name', 'patch_size', 'shape'])\n",
      "0076_resized\n",
      "Starting Training\n",
      "epoch: 00, loss: -0.86305\n",
      "epoch: 01, loss: -0.92266\n",
      "epoch: 02, loss: -0.93574\n",
      "epoch: 03, loss: -0.94328\n",
      "epoch: 04, loss: -0.94825\n",
      "epoch: 05, loss: -0.95175\n",
      "epoch: 06, loss: -0.95472\n",
      "epoch: 07, loss: -0.95686\n",
      "epoch: 08, loss: -0.95878\n",
      "epoch: 09, loss: -0.96030\n",
      "torch.Size([1024, 64])\n"
     ]
    },
    {
     "name": "stderr",
     "output_type": "stream",
     "text": [
      "  8%|▊         | 75/999 [1:27:42<18:26:27, 71.85s/it]"
     ]
    },
    {
     "name": "stdout",
     "output_type": "stream",
     "text": [
      "eigenvalues shape torch.Size([5]) eigenvectors shape torch.Size([5, 1024])\n",
      "75 /home/phdcs2/Hard_Disk/Datasets/Deep-Spectral-Segmentation/data/object-segmentation/ECSSD/features/0077_resized.pth\n",
      "dict_keys(['k', 'indices', 'file', 'id', 'model_name', 'patch_size', 'shape'])\n",
      "0077_resized\n",
      "Starting Training\n",
      "epoch: 00, loss: -0.92557\n",
      "epoch: 01, loss: -0.95612\n",
      "epoch: 02, loss: -0.96273\n",
      "epoch: 03, loss: -0.96657\n",
      "epoch: 04, loss: -0.96922\n",
      "epoch: 05, loss: -0.97116\n",
      "epoch: 06, loss: -0.97267\n",
      "epoch: 07, loss: -0.97393\n",
      "epoch: 08, loss: -0.97496\n",
      "epoch: 09, loss: -0.97586\n",
      "torch.Size([1024, 64])\n"
     ]
    },
    {
     "name": "stderr",
     "output_type": "stream",
     "text": [
      "  8%|▊         | 76/999 [1:28:45<17:41:50, 69.03s/it]"
     ]
    },
    {
     "name": "stdout",
     "output_type": "stream",
     "text": [
      "eigenvalues shape torch.Size([5]) eigenvectors shape torch.Size([5, 1024])\n",
      "76 /home/phdcs2/Hard_Disk/Datasets/Deep-Spectral-Segmentation/data/object-segmentation/ECSSD/features/0078_resized.pth\n",
      "dict_keys(['k', 'indices', 'file', 'id', 'model_name', 'patch_size', 'shape'])\n",
      "0078_resized\n",
      "Starting Training\n",
      "epoch: 00, loss: -0.85387\n",
      "epoch: 01, loss: -0.91276\n",
      "epoch: 02, loss: -0.92785\n",
      "epoch: 03, loss: -0.93650\n",
      "epoch: 04, loss: -0.94243\n",
      "epoch: 05, loss: -0.94659\n",
      "epoch: 06, loss: -0.94977\n",
      "epoch: 07, loss: -0.95251\n",
      "epoch: 08, loss: -0.95469\n",
      "epoch: 09, loss: -0.95645\n",
      "torch.Size([1024, 64])\n"
     ]
    },
    {
     "name": "stderr",
     "output_type": "stream",
     "text": [
      "  8%|▊         | 77/999 [1:29:54<17:43:01, 69.18s/it]"
     ]
    },
    {
     "name": "stdout",
     "output_type": "stream",
     "text": [
      "eigenvalues shape torch.Size([5]) eigenvectors shape torch.Size([5, 1024])\n",
      "77 /home/phdcs2/Hard_Disk/Datasets/Deep-Spectral-Segmentation/data/object-segmentation/ECSSD/features/0079_resized.pth\n",
      "dict_keys(['k', 'indices', 'file', 'id', 'model_name', 'patch_size', 'shape'])\n",
      "0079_resized\n"
     ]
    },
    {
     "name": "stderr",
     "output_type": "stream",
     "text": [
      "/home/phdcs2/Hard_Disk/Projects/T2I/deep-spectral-segmentation/venv/lib/python3.8/site-packages/sklearn/decomposition/_pca.py:642: RuntimeWarning: invalid value encountered in divide\n",
      "  self.explained_variance_ratio_ = self.explained_variance_ / total_var\n"
     ]
    },
    {
     "name": "stdout",
     "output_type": "stream",
     "text": [
      "Starting Training\n",
      "epoch: 00, loss: -0.91825\n",
      "epoch: 01, loss: -0.95062\n",
      "epoch: 02, loss: -0.95830\n",
      "epoch: 03, loss: -0.96276\n",
      "epoch: 04, loss: -0.96587\n",
      "epoch: 05, loss: -0.96816\n",
      "epoch: 06, loss: -0.96994\n",
      "epoch: 07, loss: -0.97140\n",
      "epoch: 08, loss: -0.97264\n",
      "epoch: 09, loss: -0.97368\n",
      "torch.Size([1024, 64])\n"
     ]
    },
    {
     "name": "stderr",
     "output_type": "stream",
     "text": [
      "  8%|▊         | 78/999 [1:31:05<17:47:40, 69.56s/it]"
     ]
    },
    {
     "name": "stdout",
     "output_type": "stream",
     "text": [
      "eigenvalues shape torch.Size([5]) eigenvectors shape torch.Size([5, 1024])\n",
      "78 /home/phdcs2/Hard_Disk/Datasets/Deep-Spectral-Segmentation/data/object-segmentation/ECSSD/features/0080_resized.pth\n",
      "dict_keys(['k', 'indices', 'file', 'id', 'model_name', 'patch_size', 'shape'])\n",
      "0080_resized\n"
     ]
    },
    {
     "name": "stderr",
     "output_type": "stream",
     "text": [
      "/home/phdcs2/Hard_Disk/Projects/T2I/deep-spectral-segmentation/venv/lib/python3.8/site-packages/sklearn/decomposition/_pca.py:642: RuntimeWarning: invalid value encountered in divide\n",
      "  self.explained_variance_ratio_ = self.explained_variance_ / total_var\n"
     ]
    },
    {
     "name": "stdout",
     "output_type": "stream",
     "text": [
      "Starting Training\n",
      "epoch: 00, loss: -0.93667\n",
      "epoch: 01, loss: -0.96371\n",
      "epoch: 02, loss: -0.96925\n",
      "epoch: 03, loss: -0.97246\n",
      "epoch: 04, loss: -0.97463\n",
      "epoch: 05, loss: -0.97627\n",
      "epoch: 06, loss: -0.97754\n",
      "epoch: 07, loss: -0.97859\n",
      "epoch: 08, loss: -0.97945\n",
      "epoch: 09, loss: -0.98020\n",
      "torch.Size([1024, 64])\n"
     ]
    },
    {
     "name": "stderr",
     "output_type": "stream",
     "text": [
      "  8%|▊         | 79/999 [1:32:22<18:21:13, 71.82s/it]"
     ]
    },
    {
     "name": "stdout",
     "output_type": "stream",
     "text": [
      "eigenvalues shape torch.Size([5]) eigenvectors shape torch.Size([5, 1024])\n",
      "79 /home/phdcs2/Hard_Disk/Datasets/Deep-Spectral-Segmentation/data/object-segmentation/ECSSD/features/0081_resized.pth\n",
      "dict_keys(['k', 'indices', 'file', 'id', 'model_name', 'patch_size', 'shape'])\n",
      "0081_resized\n",
      "Starting Training\n",
      "epoch: 00, loss: -0.91096\n",
      "epoch: 01, loss: -0.94760\n",
      "epoch: 02, loss: -0.95527\n",
      "epoch: 03, loss: -0.95989\n",
      "epoch: 04, loss: -0.96294\n",
      "epoch: 05, loss: -0.96520\n",
      "epoch: 06, loss: -0.96701\n",
      "epoch: 07, loss: -0.96845\n",
      "epoch: 08, loss: -0.96971\n",
      "epoch: 09, loss: -0.97072\n",
      "torch.Size([1024, 64])\n"
     ]
    },
    {
     "name": "stderr",
     "output_type": "stream",
     "text": [
      "  8%|▊         | 80/999 [1:33:42<19:00:13, 74.44s/it]"
     ]
    },
    {
     "name": "stdout",
     "output_type": "stream",
     "text": [
      "eigenvalues shape torch.Size([5]) eigenvectors shape torch.Size([5, 1024])\n",
      "80 /home/phdcs2/Hard_Disk/Datasets/Deep-Spectral-Segmentation/data/object-segmentation/ECSSD/features/0082_resized.pth\n",
      "dict_keys(['k', 'indices', 'file', 'id', 'model_name', 'patch_size', 'shape'])\n",
      "0082_resized\n",
      "Starting Training\n",
      "epoch: 00, loss: -0.90903\n",
      "epoch: 01, loss: -0.94721\n",
      "epoch: 02, loss: -0.95558\n",
      "epoch: 03, loss: -0.96034\n",
      "epoch: 04, loss: -0.96357\n",
      "epoch: 05, loss: -0.96600\n",
      "epoch: 06, loss: -0.96788\n",
      "epoch: 07, loss: -0.96940\n",
      "epoch: 08, loss: -0.97067\n",
      "epoch: 09, loss: -0.97177\n",
      "torch.Size([1024, 64])\n"
     ]
    },
    {
     "name": "stderr",
     "output_type": "stream",
     "text": [
      "  8%|▊         | 81/999 [1:34:59<19:08:36, 75.07s/it]"
     ]
    },
    {
     "name": "stdout",
     "output_type": "stream",
     "text": [
      "eigenvalues shape torch.Size([5]) eigenvectors shape torch.Size([5, 1024])\n",
      "81 /home/phdcs2/Hard_Disk/Datasets/Deep-Spectral-Segmentation/data/object-segmentation/ECSSD/features/0083_resized.pth\n",
      "dict_keys(['k', 'indices', 'file', 'id', 'model_name', 'patch_size', 'shape'])\n",
      "0083_resized\n",
      "Starting Training\n",
      "epoch: 00, loss: -0.89410\n",
      "epoch: 01, loss: -0.93646\n",
      "epoch: 02, loss: -0.94720\n",
      "epoch: 03, loss: -0.95345\n",
      "epoch: 04, loss: -0.95769\n",
      "epoch: 05, loss: -0.96075\n",
      "epoch: 06, loss: -0.96316\n",
      "epoch: 07, loss: -0.96507\n",
      "epoch: 08, loss: -0.96666\n",
      "epoch: 09, loss: -0.96802\n",
      "torch.Size([1024, 64])\n"
     ]
    },
    {
     "name": "stderr",
     "output_type": "stream",
     "text": [
      "  8%|▊         | 82/999 [1:36:15<19:09:53, 75.24s/it]"
     ]
    },
    {
     "name": "stdout",
     "output_type": "stream",
     "text": [
      "eigenvalues shape torch.Size([5]) eigenvectors shape torch.Size([5, 1024])\n",
      "82 /home/phdcs2/Hard_Disk/Datasets/Deep-Spectral-Segmentation/data/object-segmentation/ECSSD/features/0084_resized.pth\n",
      "dict_keys(['k', 'indices', 'file', 'id', 'model_name', 'patch_size', 'shape'])\n",
      "0084_resized\n",
      "Starting Training\n",
      "epoch: 00, loss: -0.86282\n",
      "epoch: 01, loss: -0.91264\n",
      "epoch: 02, loss: -0.92434\n",
      "epoch: 03, loss: -0.93130\n",
      "epoch: 04, loss: -0.93601\n",
      "epoch: 05, loss: -0.93941\n",
      "epoch: 06, loss: -0.94213\n",
      "epoch: 07, loss: -0.94448\n",
      "epoch: 08, loss: -0.94650\n",
      "epoch: 09, loss: -0.94839\n",
      "torch.Size([1024, 64])\n"
     ]
    },
    {
     "name": "stderr",
     "output_type": "stream",
     "text": [
      "  8%|▊         | 83/999 [1:37:26<18:52:27, 74.18s/it]"
     ]
    },
    {
     "name": "stdout",
     "output_type": "stream",
     "text": [
      "eigenvalues shape torch.Size([5]) eigenvectors shape torch.Size([5, 1024])\n",
      "83 /home/phdcs2/Hard_Disk/Datasets/Deep-Spectral-Segmentation/data/object-segmentation/ECSSD/features/0085_resized.pth\n",
      "dict_keys(['k', 'indices', 'file', 'id', 'model_name', 'patch_size', 'shape'])\n",
      "0085_resized\n",
      "Starting Training\n",
      "epoch: 00, loss: -0.88125\n",
      "epoch: 01, loss: -0.93083\n",
      "epoch: 02, loss: -0.94309\n",
      "epoch: 03, loss: -0.95009\n",
      "epoch: 04, loss: -0.95470\n",
      "epoch: 05, loss: -0.95814\n",
      "epoch: 06, loss: -0.96074\n",
      "epoch: 07, loss: -0.96287\n",
      "epoch: 08, loss: -0.96461\n",
      "epoch: 09, loss: -0.96616\n",
      "torch.Size([1024, 64])\n"
     ]
    },
    {
     "name": "stderr",
     "output_type": "stream",
     "text": [
      "  8%|▊         | 84/999 [1:38:34<18:23:24, 72.36s/it]"
     ]
    },
    {
     "name": "stdout",
     "output_type": "stream",
     "text": [
      "eigenvalues shape torch.Size([5]) eigenvectors shape torch.Size([5, 1024])\n",
      "84 /home/phdcs2/Hard_Disk/Datasets/Deep-Spectral-Segmentation/data/object-segmentation/ECSSD/features/0086_resized.pth\n",
      "dict_keys(['k', 'indices', 'file', 'id', 'model_name', 'patch_size', 'shape'])\n",
      "0086_resized\n",
      "Starting Training\n",
      "epoch: 00, loss: -0.83734\n",
      "epoch: 01, loss: -0.90395\n",
      "epoch: 02, loss: -0.92117\n",
      "epoch: 03, loss: -0.93049\n",
      "epoch: 04, loss: -0.93659\n",
      "epoch: 05, loss: -0.94113\n",
      "epoch: 06, loss: -0.94455\n",
      "epoch: 07, loss: -0.94741\n",
      "epoch: 08, loss: -0.94956\n",
      "epoch: 09, loss: -0.95160\n",
      "torch.Size([1024, 64])\n"
     ]
    },
    {
     "name": "stderr",
     "output_type": "stream",
     "text": [
      "  9%|▊         | 85/999 [1:39:41<17:55:02, 70.57s/it]"
     ]
    },
    {
     "name": "stdout",
     "output_type": "stream",
     "text": [
      "eigenvalues shape torch.Size([5]) eigenvectors shape torch.Size([5, 1024])\n",
      "85 /home/phdcs2/Hard_Disk/Datasets/Deep-Spectral-Segmentation/data/object-segmentation/ECSSD/features/0087_resized.pth\n",
      "dict_keys(['k', 'indices', 'file', 'id', 'model_name', 'patch_size', 'shape'])\n",
      "0087_resized\n",
      "Starting Training\n",
      "epoch: 00, loss: -0.89347\n",
      "epoch: 01, loss: -0.93641\n",
      "epoch: 02, loss: -0.94769\n",
      "epoch: 03, loss: -0.95407\n",
      "epoch: 04, loss: -0.95824\n",
      "epoch: 05, loss: -0.96145\n",
      "epoch: 06, loss: -0.96394\n",
      "epoch: 07, loss: -0.96597\n",
      "epoch: 08, loss: -0.96759\n",
      "epoch: 09, loss: -0.96898\n",
      "torch.Size([1024, 64])\n"
     ]
    },
    {
     "name": "stderr",
     "output_type": "stream",
     "text": [
      "  9%|▊         | 86/999 [1:40:52<17:54:40, 70.62s/it]"
     ]
    },
    {
     "name": "stdout",
     "output_type": "stream",
     "text": [
      "eigenvalues shape torch.Size([5]) eigenvectors shape torch.Size([5, 1024])\n",
      "86 /home/phdcs2/Hard_Disk/Datasets/Deep-Spectral-Segmentation/data/object-segmentation/ECSSD/features/0088_resized.pth\n",
      "dict_keys(['k', 'indices', 'file', 'id', 'model_name', 'patch_size', 'shape'])\n",
      "0088_resized\n"
     ]
    },
    {
     "name": "stderr",
     "output_type": "stream",
     "text": [
      "/home/phdcs2/Hard_Disk/Projects/T2I/deep-spectral-segmentation/venv/lib/python3.8/site-packages/sklearn/decomposition/_pca.py:642: RuntimeWarning: invalid value encountered in divide\n",
      "  self.explained_variance_ratio_ = self.explained_variance_ / total_var\n"
     ]
    },
    {
     "name": "stdout",
     "output_type": "stream",
     "text": [
      "Starting Training\n",
      "epoch: 00, loss: -0.91556\n",
      "epoch: 01, loss: -0.95471\n",
      "epoch: 02, loss: -0.96228\n",
      "epoch: 03, loss: -0.96658\n",
      "epoch: 04, loss: -0.96946\n",
      "epoch: 05, loss: -0.97157\n",
      "epoch: 06, loss: -0.97322\n",
      "epoch: 07, loss: -0.97457\n",
      "epoch: 08, loss: -0.97567\n",
      "epoch: 09, loss: -0.97662\n",
      "torch.Size([1024, 64])\n"
     ]
    },
    {
     "name": "stderr",
     "output_type": "stream",
     "text": [
      "  9%|▊         | 87/999 [1:42:00<17:41:39, 69.85s/it]"
     ]
    },
    {
     "name": "stdout",
     "output_type": "stream",
     "text": [
      "eigenvalues shape torch.Size([5]) eigenvectors shape torch.Size([5, 1024])\n",
      "87 /home/phdcs2/Hard_Disk/Datasets/Deep-Spectral-Segmentation/data/object-segmentation/ECSSD/features/0089_resized.pth\n",
      "dict_keys(['k', 'indices', 'file', 'id', 'model_name', 'patch_size', 'shape'])\n",
      "0089_resized\n"
     ]
    },
    {
     "name": "stderr",
     "output_type": "stream",
     "text": [
      "/home/phdcs2/Hard_Disk/Projects/T2I/deep-spectral-segmentation/venv/lib/python3.8/site-packages/sklearn/decomposition/_pca.py:642: RuntimeWarning: invalid value encountered in divide\n",
      "  self.explained_variance_ratio_ = self.explained_variance_ / total_var\n"
     ]
    },
    {
     "name": "stdout",
     "output_type": "stream",
     "text": [
      "Starting Training\n",
      "epoch: 00, loss: -0.92834\n",
      "epoch: 01, loss: -0.95650\n",
      "epoch: 02, loss: -0.96345\n",
      "epoch: 03, loss: -0.96752\n",
      "epoch: 04, loss: -0.97028\n",
      "epoch: 05, loss: -0.97238\n",
      "epoch: 06, loss: -0.97396\n",
      "epoch: 07, loss: -0.97528\n",
      "epoch: 08, loss: -0.97639\n",
      "epoch: 09, loss: -0.97733\n",
      "torch.Size([1024, 64])\n"
     ]
    },
    {
     "name": "stderr",
     "output_type": "stream",
     "text": [
      "  9%|▉         | 88/999 [1:43:08<17:33:43, 69.40s/it]"
     ]
    },
    {
     "name": "stdout",
     "output_type": "stream",
     "text": [
      "eigenvalues shape torch.Size([5]) eigenvectors shape torch.Size([5, 1024])\n",
      "88 /home/phdcs2/Hard_Disk/Datasets/Deep-Spectral-Segmentation/data/object-segmentation/ECSSD/features/0090_resized.pth\n",
      "dict_keys(['k', 'indices', 'file', 'id', 'model_name', 'patch_size', 'shape'])\n",
      "0090_resized\n",
      "Starting Training\n",
      "epoch: 00, loss: -0.87028\n",
      "epoch: 01, loss: -0.92346\n",
      "epoch: 02, loss: -0.93635\n",
      "epoch: 03, loss: -0.94353\n",
      "epoch: 04, loss: -0.94842\n",
      "epoch: 05, loss: -0.95209\n",
      "epoch: 06, loss: -0.95476\n",
      "epoch: 07, loss: -0.95700\n",
      "epoch: 08, loss: -0.95892\n",
      "epoch: 09, loss: -0.96057\n",
      "torch.Size([1024, 64])\n"
     ]
    },
    {
     "name": "stderr",
     "output_type": "stream",
     "text": [
      "  9%|▉         | 89/999 [1:44:19<17:40:00, 69.89s/it]"
     ]
    },
    {
     "name": "stdout",
     "output_type": "stream",
     "text": [
      "eigenvalues shape torch.Size([5]) eigenvectors shape torch.Size([5, 1024])\n",
      "89 /home/phdcs2/Hard_Disk/Datasets/Deep-Spectral-Segmentation/data/object-segmentation/ECSSD/features/0091_resized.pth\n",
      "dict_keys(['k', 'indices', 'file', 'id', 'model_name', 'patch_size', 'shape'])\n",
      "0091_resized\n",
      "Starting Training\n",
      "epoch: 00, loss: -0.86100\n",
      "epoch: 01, loss: -0.91767\n",
      "epoch: 02, loss: -0.93227\n",
      "epoch: 03, loss: -0.94072\n",
      "epoch: 04, loss: -0.94611\n",
      "epoch: 05, loss: -0.95023\n",
      "epoch: 06, loss: -0.95336\n",
      "epoch: 07, loss: -0.95591\n",
      "epoch: 08, loss: -0.95801\n",
      "epoch: 09, loss: -0.95971\n",
      "torch.Size([1024, 64])\n"
     ]
    },
    {
     "name": "stderr",
     "output_type": "stream",
     "text": [
      "  9%|▉         | 90/999 [1:45:23<17:13:49, 68.24s/it]"
     ]
    },
    {
     "name": "stdout",
     "output_type": "stream",
     "text": [
      "eigenvalues shape torch.Size([5]) eigenvectors shape torch.Size([5, 1024])\n",
      "90 /home/phdcs2/Hard_Disk/Datasets/Deep-Spectral-Segmentation/data/object-segmentation/ECSSD/features/0092_resized.pth\n",
      "dict_keys(['k', 'indices', 'file', 'id', 'model_name', 'patch_size', 'shape'])\n",
      "0092_resized\n"
     ]
    },
    {
     "name": "stderr",
     "output_type": "stream",
     "text": [
      "/home/phdcs2/Hard_Disk/Projects/T2I/deep-spectral-segmentation/venv/lib/python3.8/site-packages/sklearn/decomposition/_pca.py:642: RuntimeWarning: invalid value encountered in divide\n",
      "  self.explained_variance_ratio_ = self.explained_variance_ / total_var\n"
     ]
    },
    {
     "name": "stdout",
     "output_type": "stream",
     "text": [
      "Starting Training\n",
      "epoch: 00, loss: -0.92286\n",
      "epoch: 01, loss: -0.95664\n",
      "epoch: 02, loss: -0.96355\n",
      "epoch: 03, loss: -0.96750\n",
      "epoch: 04, loss: -0.97023\n",
      "epoch: 05, loss: -0.97222\n",
      "epoch: 06, loss: -0.97379\n",
      "epoch: 07, loss: -0.97510\n",
      "epoch: 08, loss: -0.97614\n",
      "epoch: 09, loss: -0.97704\n",
      "torch.Size([1024, 64])\n"
     ]
    },
    {
     "name": "stderr",
     "output_type": "stream",
     "text": [
      "  9%|▉         | 91/999 [1:46:23<16:34:43, 65.73s/it]"
     ]
    },
    {
     "name": "stdout",
     "output_type": "stream",
     "text": [
      "eigenvalues shape torch.Size([5]) eigenvectors shape torch.Size([5, 1024])\n",
      "91 /home/phdcs2/Hard_Disk/Datasets/Deep-Spectral-Segmentation/data/object-segmentation/ECSSD/features/0093_resized.pth\n",
      "dict_keys(['k', 'indices', 'file', 'id', 'model_name', 'patch_size', 'shape'])\n",
      "0093_resized\n"
     ]
    },
    {
     "name": "stderr",
     "output_type": "stream",
     "text": [
      "/home/phdcs2/Hard_Disk/Projects/T2I/deep-spectral-segmentation/venv/lib/python3.8/site-packages/sklearn/decomposition/_pca.py:642: RuntimeWarning: invalid value encountered in divide\n",
      "  self.explained_variance_ratio_ = self.explained_variance_ / total_var\n"
     ]
    },
    {
     "name": "stdout",
     "output_type": "stream",
     "text": [
      "Starting Training\n",
      "epoch: 00, loss: -0.91880\n",
      "epoch: 01, loss: -0.95061\n",
      "epoch: 02, loss: -0.95860\n",
      "epoch: 03, loss: -0.96319\n",
      "epoch: 04, loss: -0.96635\n",
      "epoch: 05, loss: -0.96869\n",
      "epoch: 06, loss: -0.97051\n",
      "epoch: 07, loss: -0.97198\n",
      "epoch: 08, loss: -0.97323\n",
      "epoch: 09, loss: -0.97428\n",
      "torch.Size([1024, 64])\n"
     ]
    },
    {
     "name": "stderr",
     "output_type": "stream",
     "text": [
      "  9%|▉         | 92/999 [1:47:28<16:29:02, 65.43s/it]"
     ]
    },
    {
     "name": "stdout",
     "output_type": "stream",
     "text": [
      "eigenvalues shape torch.Size([5]) eigenvectors shape torch.Size([5, 1024])\n",
      "92 /home/phdcs2/Hard_Disk/Datasets/Deep-Spectral-Segmentation/data/object-segmentation/ECSSD/features/0094_resized.pth\n",
      "dict_keys(['k', 'indices', 'file', 'id', 'model_name', 'patch_size', 'shape'])\n",
      "0094_resized\n",
      "Starting Training\n",
      "epoch: 00, loss: -0.85182\n",
      "epoch: 01, loss: -0.91095\n",
      "epoch: 02, loss: -0.92627\n",
      "epoch: 03, loss: -0.93555\n",
      "epoch: 04, loss: -0.94150\n",
      "epoch: 05, loss: -0.94576\n",
      "epoch: 06, loss: -0.94922\n",
      "epoch: 07, loss: -0.95186\n",
      "epoch: 08, loss: -0.95412\n",
      "epoch: 09, loss: -0.95594\n",
      "torch.Size([1024, 64])\n"
     ]
    },
    {
     "name": "stderr",
     "output_type": "stream",
     "text": [
      "  9%|▉         | 93/999 [1:48:42<17:06:12, 67.96s/it]"
     ]
    },
    {
     "name": "stdout",
     "output_type": "stream",
     "text": [
      "eigenvalues shape torch.Size([5]) eigenvectors shape torch.Size([5, 1024])\n",
      "93 /home/phdcs2/Hard_Disk/Datasets/Deep-Spectral-Segmentation/data/object-segmentation/ECSSD/features/0095_resized.pth\n",
      "dict_keys(['k', 'indices', 'file', 'id', 'model_name', 'patch_size', 'shape'])\n",
      "0095_resized\n",
      "Starting Training\n",
      "epoch: 00, loss: -0.87462\n",
      "epoch: 01, loss: -0.92731\n",
      "epoch: 02, loss: -0.94017\n",
      "epoch: 03, loss: -0.94746\n",
      "epoch: 04, loss: -0.95235\n",
      "epoch: 05, loss: -0.95571\n",
      "epoch: 06, loss: -0.95842\n",
      "epoch: 07, loss: -0.96056\n",
      "epoch: 08, loss: -0.96234\n",
      "epoch: 09, loss: -0.96382\n",
      "torch.Size([1024, 64])\n"
     ]
    },
    {
     "name": "stderr",
     "output_type": "stream",
     "text": [
      "  9%|▉         | 94/999 [1:50:03<18:06:57, 72.06s/it]"
     ]
    },
    {
     "name": "stdout",
     "output_type": "stream",
     "text": [
      "eigenvalues shape torch.Size([5]) eigenvectors shape torch.Size([5, 1024])\n",
      "94 /home/phdcs2/Hard_Disk/Datasets/Deep-Spectral-Segmentation/data/object-segmentation/ECSSD/features/0096_resized.pth\n",
      "dict_keys(['k', 'indices', 'file', 'id', 'model_name', 'patch_size', 'shape'])\n",
      "0096_resized\n"
     ]
    },
    {
     "name": "stderr",
     "output_type": "stream",
     "text": [
      "/home/phdcs2/Hard_Disk/Projects/T2I/deep-spectral-segmentation/venv/lib/python3.8/site-packages/sklearn/decomposition/_pca.py:642: RuntimeWarning: invalid value encountered in divide\n",
      "  self.explained_variance_ratio_ = self.explained_variance_ / total_var\n"
     ]
    },
    {
     "name": "stdout",
     "output_type": "stream",
     "text": [
      "Starting Training\n",
      "epoch: 00, loss: -0.91412\n",
      "epoch: 01, loss: -0.94898\n",
      "epoch: 02, loss: -0.95689\n",
      "epoch: 03, loss: -0.96143\n",
      "epoch: 04, loss: -0.96452\n",
      "epoch: 05, loss: -0.96682\n",
      "epoch: 06, loss: -0.96863\n",
      "epoch: 07, loss: -0.97011\n",
      "epoch: 08, loss: -0.97134\n",
      "epoch: 09, loss: -0.97239\n",
      "torch.Size([1024, 64])\n"
     ]
    },
    {
     "name": "stderr",
     "output_type": "stream",
     "text": [
      " 10%|▉         | 95/999 [1:51:26<18:54:53, 75.32s/it]"
     ]
    },
    {
     "name": "stdout",
     "output_type": "stream",
     "text": [
      "eigenvalues shape torch.Size([5]) eigenvectors shape torch.Size([5, 1024])\n",
      "95 /home/phdcs2/Hard_Disk/Datasets/Deep-Spectral-Segmentation/data/object-segmentation/ECSSD/features/0097_resized.pth\n",
      "dict_keys(['k', 'indices', 'file', 'id', 'model_name', 'patch_size', 'shape'])\n",
      "0097_resized\n"
     ]
    },
    {
     "name": "stderr",
     "output_type": "stream",
     "text": [
      "/home/phdcs2/Hard_Disk/Projects/T2I/deep-spectral-segmentation/venv/lib/python3.8/site-packages/sklearn/decomposition/_pca.py:642: RuntimeWarning: invalid value encountered in divide\n",
      "  self.explained_variance_ratio_ = self.explained_variance_ / total_var\n"
     ]
    },
    {
     "name": "stdout",
     "output_type": "stream",
     "text": [
      "Starting Training\n",
      "epoch: 00, loss: -0.92810\n",
      "epoch: 01, loss: -0.95757\n",
      "epoch: 02, loss: -0.96416\n",
      "epoch: 03, loss: -0.96800\n",
      "epoch: 04, loss: -0.97061\n",
      "epoch: 05, loss: -0.97256\n",
      "epoch: 06, loss: -0.97404\n",
      "epoch: 07, loss: -0.97528\n",
      "epoch: 08, loss: -0.97629\n",
      "epoch: 09, loss: -0.97718\n",
      "torch.Size([1024, 64])\n"
     ]
    },
    {
     "name": "stderr",
     "output_type": "stream",
     "text": [
      " 10%|▉         | 96/999 [1:52:47<19:17:58, 76.94s/it]"
     ]
    },
    {
     "name": "stdout",
     "output_type": "stream",
     "text": [
      "eigenvalues shape torch.Size([5]) eigenvectors shape torch.Size([5, 1024])\n",
      "96 /home/phdcs2/Hard_Disk/Datasets/Deep-Spectral-Segmentation/data/object-segmentation/ECSSD/features/0098_resized.pth\n",
      "dict_keys(['k', 'indices', 'file', 'id', 'model_name', 'patch_size', 'shape'])\n",
      "0098_resized\n",
      "Starting Training\n",
      "epoch: 00, loss: -0.91673\n",
      "epoch: 01, loss: -0.95331\n",
      "epoch: 02, loss: -0.96096\n",
      "epoch: 03, loss: -0.96535\n",
      "epoch: 04, loss: -0.96828\n",
      "epoch: 05, loss: -0.97046\n",
      "epoch: 06, loss: -0.97216\n",
      "epoch: 07, loss: -0.97357\n",
      "epoch: 08, loss: -0.97472\n",
      "epoch: 09, loss: -0.97570\n",
      "torch.Size([1024, 64])\n"
     ]
    },
    {
     "name": "stderr",
     "output_type": "stream",
     "text": [
      " 10%|▉         | 97/999 [1:53:57<18:45:20, 74.86s/it]"
     ]
    },
    {
     "name": "stdout",
     "output_type": "stream",
     "text": [
      "eigenvalues shape torch.Size([5]) eigenvectors shape torch.Size([5, 1024])\n",
      "97 /home/phdcs2/Hard_Disk/Datasets/Deep-Spectral-Segmentation/data/object-segmentation/ECSSD/features/0099_resized.pth\n",
      "dict_keys(['k', 'indices', 'file', 'id', 'model_name', 'patch_size', 'shape'])\n",
      "0099_resized\n"
     ]
    },
    {
     "name": "stderr",
     "output_type": "stream",
     "text": [
      "/home/phdcs2/Hard_Disk/Projects/T2I/deep-spectral-segmentation/venv/lib/python3.8/site-packages/sklearn/decomposition/_pca.py:642: RuntimeWarning: invalid value encountered in divide\n",
      "  self.explained_variance_ratio_ = self.explained_variance_ / total_var\n"
     ]
    },
    {
     "name": "stdout",
     "output_type": "stream",
     "text": [
      "Starting Training\n",
      "epoch: 00, loss: -0.91605\n",
      "epoch: 01, loss: -0.94930\n",
      "epoch: 02, loss: -0.95755\n",
      "epoch: 03, loss: -0.96229\n",
      "epoch: 04, loss: -0.96548\n",
      "epoch: 05, loss: -0.96785\n",
      "epoch: 06, loss: -0.96967\n",
      "epoch: 07, loss: -0.97117\n",
      "epoch: 08, loss: -0.97241\n",
      "epoch: 09, loss: -0.97344\n",
      "torch.Size([1024, 64])\n"
     ]
    },
    {
     "name": "stderr",
     "output_type": "stream",
     "text": [
      " 10%|▉         | 98/999 [1:55:08<18:27:03, 73.72s/it]"
     ]
    },
    {
     "name": "stdout",
     "output_type": "stream",
     "text": [
      "eigenvalues shape torch.Size([5]) eigenvectors shape torch.Size([5, 1024])\n",
      "98 /home/phdcs2/Hard_Disk/Datasets/Deep-Spectral-Segmentation/data/object-segmentation/ECSSD/features/0100_resized.pth\n",
      "dict_keys(['k', 'indices', 'file', 'id', 'model_name', 'patch_size', 'shape'])\n",
      "0100_resized\n",
      "Starting Training\n",
      "epoch: 00, loss: -0.86638\n",
      "epoch: 01, loss: -0.92103\n",
      "epoch: 02, loss: -0.93479\n",
      "epoch: 03, loss: -0.94305\n",
      "epoch: 04, loss: -0.94851\n",
      "epoch: 05, loss: -0.95266\n",
      "epoch: 06, loss: -0.95577\n",
      "epoch: 07, loss: -0.95825\n",
      "epoch: 08, loss: -0.96042\n",
      "epoch: 09, loss: -0.96211\n",
      "torch.Size([1024, 64])\n"
     ]
    },
    {
     "name": "stderr",
     "output_type": "stream",
     "text": [
      " 10%|▉         | 99/999 [1:56:22<18:25:48, 73.72s/it]"
     ]
    },
    {
     "name": "stdout",
     "output_type": "stream",
     "text": [
      "eigenvalues shape torch.Size([5]) eigenvectors shape torch.Size([5, 1024])\n",
      "99 /home/phdcs2/Hard_Disk/Datasets/Deep-Spectral-Segmentation/data/object-segmentation/ECSSD/features/0101_resized.pth\n",
      "dict_keys(['k', 'indices', 'file', 'id', 'model_name', 'patch_size', 'shape'])\n",
      "0101_resized\n"
     ]
    },
    {
     "name": "stderr",
     "output_type": "stream",
     "text": [
      "/home/phdcs2/Hard_Disk/Projects/T2I/deep-spectral-segmentation/venv/lib/python3.8/site-packages/sklearn/decomposition/_pca.py:642: RuntimeWarning: invalid value encountered in divide\n",
      "  self.explained_variance_ratio_ = self.explained_variance_ / total_var\n"
     ]
    },
    {
     "name": "stdout",
     "output_type": "stream",
     "text": [
      "Starting Training\n",
      "epoch: 00, loss: -0.92783\n",
      "epoch: 01, loss: -0.95554\n",
      "epoch: 02, loss: -0.96254\n",
      "epoch: 03, loss: -0.96660\n",
      "epoch: 04, loss: -0.96937\n",
      "epoch: 05, loss: -0.97146\n",
      "epoch: 06, loss: -0.97309\n",
      "epoch: 07, loss: -0.97441\n",
      "epoch: 08, loss: -0.97550\n",
      "epoch: 09, loss: -0.97646\n",
      "torch.Size([1024, 64])\n"
     ]
    },
    {
     "name": "stderr",
     "output_type": "stream",
     "text": [
      " 10%|█         | 100/999 [1:57:35<18:20:45, 73.47s/it]"
     ]
    },
    {
     "name": "stdout",
     "output_type": "stream",
     "text": [
      "eigenvalues shape torch.Size([5]) eigenvectors shape torch.Size([5, 1024])\n",
      "100 /home/phdcs2/Hard_Disk/Datasets/Deep-Spectral-Segmentation/data/object-segmentation/ECSSD/features/0102_resized.pth\n",
      "dict_keys(['k', 'indices', 'file', 'id', 'model_name', 'patch_size', 'shape'])\n",
      "0102_resized\n",
      "Starting Training\n",
      "epoch: 00, loss: -0.85447\n",
      "epoch: 01, loss: -0.91708\n",
      "epoch: 02, loss: -0.93226\n",
      "epoch: 03, loss: -0.94106\n",
      "epoch: 04, loss: -0.94696\n",
      "epoch: 05, loss: -0.95112\n",
      "epoch: 06, loss: -0.95424\n",
      "epoch: 07, loss: -0.95687\n",
      "epoch: 08, loss: -0.95895\n",
      "epoch: 09, loss: -0.96078\n",
      "torch.Size([1024, 64])\n"
     ]
    },
    {
     "name": "stderr",
     "output_type": "stream",
     "text": [
      " 10%|█         | 101/999 [1:58:42<17:52:06, 71.63s/it]"
     ]
    },
    {
     "name": "stdout",
     "output_type": "stream",
     "text": [
      "eigenvalues shape torch.Size([5]) eigenvectors shape torch.Size([5, 1024])\n",
      "101 /home/phdcs2/Hard_Disk/Datasets/Deep-Spectral-Segmentation/data/object-segmentation/ECSSD/features/0103_resized.pth\n",
      "dict_keys(['k', 'indices', 'file', 'id', 'model_name', 'patch_size', 'shape'])\n",
      "0103_resized\n"
     ]
    },
    {
     "name": "stderr",
     "output_type": "stream",
     "text": [
      "/home/phdcs2/Hard_Disk/Projects/T2I/deep-spectral-segmentation/venv/lib/python3.8/site-packages/sklearn/decomposition/_pca.py:642: RuntimeWarning: invalid value encountered in divide\n",
      "  self.explained_variance_ratio_ = self.explained_variance_ / total_var\n"
     ]
    },
    {
     "name": "stdout",
     "output_type": "stream",
     "text": [
      "Starting Training\n",
      "epoch: 00, loss: -0.91031\n",
      "epoch: 01, loss: -0.94445\n",
      "epoch: 02, loss: -0.95321\n",
      "epoch: 03, loss: -0.95819\n",
      "epoch: 04, loss: -0.96168\n",
      "epoch: 05, loss: -0.96421\n",
      "epoch: 06, loss: -0.96622\n",
      "epoch: 07, loss: -0.96786\n",
      "epoch: 08, loss: -0.96921\n",
      "epoch: 09, loss: -0.97036\n",
      "torch.Size([1024, 64])\n"
     ]
    },
    {
     "name": "stderr",
     "output_type": "stream",
     "text": [
      " 10%|█         | 102/999 [1:59:43<17:04:16, 68.51s/it]"
     ]
    },
    {
     "name": "stdout",
     "output_type": "stream",
     "text": [
      "eigenvalues shape torch.Size([5]) eigenvectors shape torch.Size([5, 1024])\n",
      "102 /home/phdcs2/Hard_Disk/Datasets/Deep-Spectral-Segmentation/data/object-segmentation/ECSSD/features/0104_resized.pth\n",
      "dict_keys(['k', 'indices', 'file', 'id', 'model_name', 'patch_size', 'shape'])\n",
      "0104_resized\n"
     ]
    },
    {
     "name": "stderr",
     "output_type": "stream",
     "text": [
      "/home/phdcs2/Hard_Disk/Projects/T2I/deep-spectral-segmentation/venv/lib/python3.8/site-packages/sklearn/decomposition/_pca.py:642: RuntimeWarning: invalid value encountered in divide\n",
      "  self.explained_variance_ratio_ = self.explained_variance_ / total_var\n"
     ]
    },
    {
     "name": "stdout",
     "output_type": "stream",
     "text": [
      "Starting Training\n",
      "epoch: 00, loss: -0.92614\n",
      "epoch: 01, loss: -0.95595\n",
      "epoch: 02, loss: -0.96226\n",
      "epoch: 03, loss: -0.96603\n",
      "epoch: 04, loss: -0.96860\n",
      "epoch: 05, loss: -0.97058\n",
      "epoch: 06, loss: -0.97212\n",
      "epoch: 07, loss: -0.97341\n",
      "epoch: 08, loss: -0.97449\n",
      "epoch: 09, loss: -0.97539\n",
      "torch.Size([1024, 64])\n"
     ]
    },
    {
     "name": "stderr",
     "output_type": "stream",
     "text": [
      " 10%|█         | 103/999 [2:00:43<16:21:42, 65.74s/it]"
     ]
    },
    {
     "name": "stdout",
     "output_type": "stream",
     "text": [
      "eigenvalues shape torch.Size([5]) eigenvectors shape torch.Size([5, 1024])\n",
      "103 /home/phdcs2/Hard_Disk/Datasets/Deep-Spectral-Segmentation/data/object-segmentation/ECSSD/features/0105_resized.pth\n",
      "dict_keys(['k', 'indices', 'file', 'id', 'model_name', 'patch_size', 'shape'])\n",
      "0105_resized\n"
     ]
    },
    {
     "name": "stderr",
     "output_type": "stream",
     "text": [
      "/home/phdcs2/Hard_Disk/Projects/T2I/deep-spectral-segmentation/venv/lib/python3.8/site-packages/sklearn/decomposition/_pca.py:642: RuntimeWarning: invalid value encountered in divide\n",
      "  self.explained_variance_ratio_ = self.explained_variance_ / total_var\n"
     ]
    },
    {
     "name": "stdout",
     "output_type": "stream",
     "text": [
      "Starting Training\n",
      "epoch: 00, loss: -0.91662\n",
      "epoch: 01, loss: -0.95051\n",
      "epoch: 02, loss: -0.95816\n",
      "epoch: 03, loss: -0.96261\n",
      "epoch: 04, loss: -0.96564\n",
      "epoch: 05, loss: -0.96792\n",
      "epoch: 06, loss: -0.96968\n",
      "epoch: 07, loss: -0.97115\n",
      "epoch: 08, loss: -0.97233\n",
      "epoch: 09, loss: -0.97337\n",
      "torch.Size([1024, 64])\n"
     ]
    },
    {
     "name": "stderr",
     "output_type": "stream",
     "text": [
      " 10%|█         | 104/999 [2:01:48<16:20:56, 65.76s/it]"
     ]
    },
    {
     "name": "stdout",
     "output_type": "stream",
     "text": [
      "eigenvalues shape torch.Size([5]) eigenvectors shape torch.Size([5, 1024])\n",
      "104 /home/phdcs2/Hard_Disk/Datasets/Deep-Spectral-Segmentation/data/object-segmentation/ECSSD/features/0106_resized.pth\n",
      "dict_keys(['k', 'indices', 'file', 'id', 'model_name', 'patch_size', 'shape'])\n",
      "0106_resized\n",
      "Starting Training\n",
      "epoch: 00, loss: -0.84705\n",
      "epoch: 01, loss: -0.90458\n",
      "epoch: 02, loss: -0.92133\n",
      "epoch: 03, loss: -0.93091\n",
      "epoch: 04, loss: -0.93758\n",
      "epoch: 05, loss: -0.94223\n",
      "epoch: 06, loss: -0.94613\n",
      "epoch: 07, loss: -0.94911\n",
      "epoch: 08, loss: -0.95163\n",
      "epoch: 09, loss: -0.95370\n",
      "torch.Size([1024, 64])\n"
     ]
    },
    {
     "name": "stderr",
     "output_type": "stream",
     "text": [
      " 11%|█         | 105/999 [2:03:02<16:55:43, 68.17s/it]"
     ]
    },
    {
     "name": "stdout",
     "output_type": "stream",
     "text": [
      "eigenvalues shape torch.Size([5]) eigenvectors shape torch.Size([5, 1024])\n",
      "105 /home/phdcs2/Hard_Disk/Datasets/Deep-Spectral-Segmentation/data/object-segmentation/ECSSD/features/0107_resized.pth\n",
      "dict_keys(['k', 'indices', 'file', 'id', 'model_name', 'patch_size', 'shape'])\n",
      "0107_resized\n",
      "Starting Training\n",
      "epoch: 00, loss: -0.87416\n",
      "epoch: 01, loss: -0.92687\n",
      "epoch: 02, loss: -0.93967\n",
      "epoch: 03, loss: -0.94681\n",
      "epoch: 04, loss: -0.95150\n",
      "epoch: 05, loss: -0.95507\n",
      "epoch: 06, loss: -0.95796\n",
      "epoch: 07, loss: -0.96009\n",
      "epoch: 08, loss: -0.96189\n",
      "epoch: 09, loss: -0.96351\n",
      "torch.Size([1024, 64])\n"
     ]
    },
    {
     "name": "stderr",
     "output_type": "stream",
     "text": [
      " 11%|█         | 106/999 [2:04:17<17:24:49, 70.20s/it]"
     ]
    },
    {
     "name": "stdout",
     "output_type": "stream",
     "text": [
      "eigenvalues shape torch.Size([5]) eigenvectors shape torch.Size([5, 1024])\n",
      "106 /home/phdcs2/Hard_Disk/Datasets/Deep-Spectral-Segmentation/data/object-segmentation/ECSSD/features/0108_resized.pth\n",
      "dict_keys(['k', 'indices', 'file', 'id', 'model_name', 'patch_size', 'shape'])\n",
      "0108_resized\n",
      "Starting Training\n",
      "epoch: 00, loss: -0.86246\n",
      "epoch: 01, loss: -0.91921\n",
      "epoch: 02, loss: -0.93372\n",
      "epoch: 03, loss: -0.94163\n",
      "epoch: 04, loss: -0.94687\n",
      "epoch: 05, loss: -0.95088\n",
      "epoch: 06, loss: -0.95388\n",
      "epoch: 07, loss: -0.95621\n",
      "epoch: 08, loss: -0.95835\n",
      "epoch: 09, loss: -0.95993\n",
      "torch.Size([1024, 64])\n"
     ]
    },
    {
     "name": "stderr",
     "output_type": "stream",
     "text": [
      " 11%|█         | 107/999 [2:05:33<17:48:25, 71.87s/it]"
     ]
    },
    {
     "name": "stdout",
     "output_type": "stream",
     "text": [
      "eigenvalues shape torch.Size([5]) eigenvectors shape torch.Size([5, 1024])\n",
      "107 /home/phdcs2/Hard_Disk/Datasets/Deep-Spectral-Segmentation/data/object-segmentation/ECSSD/features/0109_resized.pth\n",
      "dict_keys(['k', 'indices', 'file', 'id', 'model_name', 'patch_size', 'shape'])\n",
      "0109_resized\n",
      "Starting Training\n",
      "epoch: 00, loss: -0.89515\n",
      "epoch: 01, loss: -0.93711\n",
      "epoch: 02, loss: -0.94702\n",
      "epoch: 03, loss: -0.95268\n",
      "epoch: 04, loss: -0.95664\n",
      "epoch: 05, loss: -0.95956\n",
      "epoch: 06, loss: -0.96187\n",
      "epoch: 07, loss: -0.96371\n",
      "epoch: 08, loss: -0.96519\n",
      "epoch: 09, loss: -0.96647\n",
      "torch.Size([1024, 64])\n"
     ]
    },
    {
     "name": "stderr",
     "output_type": "stream",
     "text": [
      " 11%|█         | 108/999 [2:06:48<17:59:36, 72.70s/it]"
     ]
    },
    {
     "name": "stdout",
     "output_type": "stream",
     "text": [
      "eigenvalues shape torch.Size([5]) eigenvectors shape torch.Size([5, 1024])\n",
      "108 /home/phdcs2/Hard_Disk/Datasets/Deep-Spectral-Segmentation/data/object-segmentation/ECSSD/features/0110_resized.pth\n",
      "dict_keys(['k', 'indices', 'file', 'id', 'model_name', 'patch_size', 'shape'])\n",
      "0110_resized\n",
      "Starting Training\n",
      "epoch: 00, loss: -0.85388\n",
      "epoch: 01, loss: -0.91234\n",
      "epoch: 02, loss: -0.92826\n",
      "epoch: 03, loss: -0.93748\n",
      "epoch: 04, loss: -0.94346\n",
      "epoch: 05, loss: -0.94767\n",
      "epoch: 06, loss: -0.95123\n",
      "epoch: 07, loss: -0.95389\n",
      "epoch: 08, loss: -0.95623\n",
      "epoch: 09, loss: -0.95807\n",
      "torch.Size([1024, 64])\n"
     ]
    },
    {
     "name": "stderr",
     "output_type": "stream",
     "text": [
      " 11%|█         | 109/999 [2:08:00<17:59:22, 72.77s/it]"
     ]
    },
    {
     "name": "stdout",
     "output_type": "stream",
     "text": [
      "eigenvalues shape torch.Size([5]) eigenvectors shape torch.Size([5, 1024])\n",
      "109 /home/phdcs2/Hard_Disk/Datasets/Deep-Spectral-Segmentation/data/object-segmentation/ECSSD/features/0111_resized.pth\n",
      "dict_keys(['k', 'indices', 'file', 'id', 'model_name', 'patch_size', 'shape'])\n",
      "0111_resized\n",
      "Starting Training\n",
      "epoch: 00, loss: -0.92145\n",
      "epoch: 01, loss: -0.95479\n",
      "epoch: 02, loss: -0.96187\n",
      "epoch: 03, loss: -0.96595\n",
      "epoch: 04, loss: -0.96877\n",
      "epoch: 05, loss: -0.97083\n",
      "epoch: 06, loss: -0.97246\n",
      "epoch: 07, loss: -0.97377\n",
      "epoch: 08, loss: -0.97490\n",
      "epoch: 09, loss: -0.97583\n",
      "torch.Size([1024, 64])\n"
     ]
    },
    {
     "name": "stderr",
     "output_type": "stream",
     "text": [
      " 11%|█         | 110/999 [2:09:21<18:33:37, 75.16s/it]"
     ]
    },
    {
     "name": "stdout",
     "output_type": "stream",
     "text": [
      "eigenvalues shape torch.Size([5]) eigenvectors shape torch.Size([5, 1024])\n",
      "110 /home/phdcs2/Hard_Disk/Datasets/Deep-Spectral-Segmentation/data/object-segmentation/ECSSD/features/0112_resized.pth\n",
      "dict_keys(['k', 'indices', 'file', 'id', 'model_name', 'patch_size', 'shape'])\n",
      "0112_resized\n",
      "Starting Training\n",
      "epoch: 00, loss: -0.84615\n",
      "epoch: 01, loss: -0.90594\n",
      "epoch: 02, loss: -0.92112\n",
      "epoch: 03, loss: -0.92971\n",
      "epoch: 04, loss: -0.93565\n",
      "epoch: 05, loss: -0.94016\n",
      "epoch: 06, loss: -0.94356\n",
      "epoch: 07, loss: -0.94639\n",
      "epoch: 08, loss: -0.94853\n",
      "epoch: 09, loss: -0.95043\n",
      "torch.Size([1024, 64])\n"
     ]
    },
    {
     "name": "stderr",
     "output_type": "stream",
     "text": [
      " 11%|█         | 111/999 [2:10:35<18:28:14, 74.88s/it]"
     ]
    },
    {
     "name": "stdout",
     "output_type": "stream",
     "text": [
      "eigenvalues shape torch.Size([5]) eigenvectors shape torch.Size([5, 1024])\n",
      "111 /home/phdcs2/Hard_Disk/Datasets/Deep-Spectral-Segmentation/data/object-segmentation/ECSSD/features/0113_resized.pth\n",
      "dict_keys(['k', 'indices', 'file', 'id', 'model_name', 'patch_size', 'shape'])\n",
      "0113_resized\n"
     ]
    },
    {
     "name": "stderr",
     "output_type": "stream",
     "text": [
      "/home/phdcs2/Hard_Disk/Projects/T2I/deep-spectral-segmentation/venv/lib/python3.8/site-packages/sklearn/decomposition/_pca.py:642: RuntimeWarning: invalid value encountered in divide\n",
      "  self.explained_variance_ratio_ = self.explained_variance_ / total_var\n"
     ]
    },
    {
     "name": "stdout",
     "output_type": "stream",
     "text": [
      "Starting Training\n",
      "epoch: 00, loss: -0.90279\n",
      "epoch: 01, loss: -0.94066\n",
      "epoch: 02, loss: -0.95012\n",
      "epoch: 03, loss: -0.95561\n",
      "epoch: 04, loss: -0.95938\n",
      "epoch: 05, loss: -0.96216\n",
      "epoch: 06, loss: -0.96437\n",
      "epoch: 07, loss: -0.96615\n",
      "epoch: 08, loss: -0.96763\n",
      "epoch: 09, loss: -0.96890\n",
      "torch.Size([1024, 64])\n"
     ]
    },
    {
     "name": "stderr",
     "output_type": "stream",
     "text": [
      " 11%|█         | 112/999 [2:11:51<18:29:48, 75.07s/it]"
     ]
    },
    {
     "name": "stdout",
     "output_type": "stream",
     "text": [
      "eigenvalues shape torch.Size([5]) eigenvectors shape torch.Size([5, 1024])\n",
      "112 /home/phdcs2/Hard_Disk/Datasets/Deep-Spectral-Segmentation/data/object-segmentation/ECSSD/features/0114_resized.pth\n",
      "dict_keys(['k', 'indices', 'file', 'id', 'model_name', 'patch_size', 'shape'])\n",
      "0114_resized\n",
      "Starting Training\n",
      "epoch: 00, loss: -0.91519\n",
      "epoch: 01, loss: -0.94761\n",
      "epoch: 02, loss: -0.95533\n",
      "epoch: 03, loss: -0.95981\n",
      "epoch: 04, loss: -0.96293\n",
      "epoch: 05, loss: -0.96523\n",
      "epoch: 06, loss: -0.96702\n",
      "epoch: 07, loss: -0.96856\n",
      "epoch: 08, loss: -0.96980\n",
      "epoch: 09, loss: -0.97086\n",
      "torch.Size([1024, 64])\n"
     ]
    },
    {
     "name": "stderr",
     "output_type": "stream",
     "text": [
      " 11%|█▏        | 113/999 [2:13:09<18:43:14, 76.07s/it]"
     ]
    },
    {
     "name": "stdout",
     "output_type": "stream",
     "text": [
      "eigenvalues shape torch.Size([5]) eigenvectors shape torch.Size([5, 1024])\n",
      "113 /home/phdcs2/Hard_Disk/Datasets/Deep-Spectral-Segmentation/data/object-segmentation/ECSSD/features/0115_resized.pth\n",
      "dict_keys(['k', 'indices', 'file', 'id', 'model_name', 'patch_size', 'shape'])\n",
      "0115_resized\n"
     ]
    },
    {
     "name": "stderr",
     "output_type": "stream",
     "text": [
      "/home/phdcs2/Hard_Disk/Projects/T2I/deep-spectral-segmentation/venv/lib/python3.8/site-packages/sklearn/decomposition/_pca.py:642: RuntimeWarning: invalid value encountered in divide\n",
      "  self.explained_variance_ratio_ = self.explained_variance_ / total_var\n"
     ]
    },
    {
     "name": "stdout",
     "output_type": "stream",
     "text": [
      "Starting Training\n",
      "epoch: 00, loss: -0.93237\n",
      "epoch: 01, loss: -0.96194\n",
      "epoch: 02, loss: -0.96800\n",
      "epoch: 03, loss: -0.97148\n",
      "epoch: 04, loss: -0.97386\n",
      "epoch: 05, loss: -0.97562\n",
      "epoch: 06, loss: -0.97704\n",
      "epoch: 07, loss: -0.97816\n",
      "epoch: 08, loss: -0.97909\n",
      "epoch: 09, loss: -0.97992\n",
      "torch.Size([1024, 64])\n"
     ]
    },
    {
     "name": "stderr",
     "output_type": "stream",
     "text": [
      " 11%|█▏        | 114/999 [2:14:26<18:43:13, 76.15s/it]"
     ]
    },
    {
     "name": "stdout",
     "output_type": "stream",
     "text": [
      "eigenvalues shape torch.Size([5]) eigenvectors shape torch.Size([5, 1024])\n",
      "114 /home/phdcs2/Hard_Disk/Datasets/Deep-Spectral-Segmentation/data/object-segmentation/ECSSD/features/0116_resized.pth\n",
      "dict_keys(['k', 'indices', 'file', 'id', 'model_name', 'patch_size', 'shape'])\n",
      "0116_resized\n",
      "Starting Training\n",
      "epoch: 00, loss: -0.91952\n",
      "epoch: 01, loss: -0.95111\n",
      "epoch: 02, loss: -0.95897\n",
      "epoch: 03, loss: -0.96343\n",
      "epoch: 04, loss: -0.96648\n",
      "epoch: 05, loss: -0.96873\n",
      "epoch: 06, loss: -0.97051\n",
      "epoch: 07, loss: -0.97193\n",
      "epoch: 08, loss: -0.97315\n",
      "epoch: 09, loss: -0.97420\n",
      "torch.Size([1024, 64])\n"
     ]
    },
    {
     "name": "stderr",
     "output_type": "stream",
     "text": [
      " 12%|█▏        | 115/999 [2:15:45<18:55:11, 77.05s/it]"
     ]
    },
    {
     "name": "stdout",
     "output_type": "stream",
     "text": [
      "eigenvalues shape torch.Size([5]) eigenvectors shape torch.Size([5, 1024])\n",
      "115 /home/phdcs2/Hard_Disk/Datasets/Deep-Spectral-Segmentation/data/object-segmentation/ECSSD/features/0117_resized.pth\n",
      "dict_keys(['k', 'indices', 'file', 'id', 'model_name', 'patch_size', 'shape'])\n",
      "0117_resized\n"
     ]
    },
    {
     "name": "stderr",
     "output_type": "stream",
     "text": [
      "/home/phdcs2/Hard_Disk/Projects/T2I/deep-spectral-segmentation/venv/lib/python3.8/site-packages/sklearn/decomposition/_pca.py:642: RuntimeWarning: invalid value encountered in divide\n",
      "  self.explained_variance_ratio_ = self.explained_variance_ / total_var\n"
     ]
    },
    {
     "name": "stdout",
     "output_type": "stream",
     "text": [
      "Starting Training\n",
      "epoch: 00, loss: -0.92306\n",
      "epoch: 01, loss: -0.95526\n",
      "epoch: 02, loss: -0.96256\n",
      "epoch: 03, loss: -0.96672\n",
      "epoch: 04, loss: -0.96951\n",
      "epoch: 05, loss: -0.97157\n",
      "epoch: 06, loss: -0.97319\n",
      "epoch: 07, loss: -0.97449\n",
      "epoch: 08, loss: -0.97557\n",
      "epoch: 09, loss: -0.97649\n",
      "torch.Size([1024, 64])\n"
     ]
    },
    {
     "name": "stderr",
     "output_type": "stream",
     "text": [
      " 12%|█▏        | 116/999 [2:17:00<18:46:10, 76.52s/it]"
     ]
    },
    {
     "name": "stdout",
     "output_type": "stream",
     "text": [
      "eigenvalues shape torch.Size([5]) eigenvectors shape torch.Size([5, 1024])\n",
      "116 /home/phdcs2/Hard_Disk/Datasets/Deep-Spectral-Segmentation/data/object-segmentation/ECSSD/features/0118_resized.pth\n",
      "dict_keys(['k', 'indices', 'file', 'id', 'model_name', 'patch_size', 'shape'])\n",
      "0118_resized\n",
      "Starting Training\n",
      "epoch: 00, loss: -0.86483\n",
      "epoch: 01, loss: -0.91917\n",
      "epoch: 02, loss: -0.93324\n",
      "epoch: 03, loss: -0.94138\n",
      "epoch: 04, loss: -0.94670\n",
      "epoch: 05, loss: -0.95079\n",
      "epoch: 06, loss: -0.95370\n",
      "epoch: 07, loss: -0.95622\n",
      "epoch: 08, loss: -0.95824\n",
      "epoch: 09, loss: -0.96002\n",
      "torch.Size([1024, 64])\n"
     ]
    },
    {
     "name": "stderr",
     "output_type": "stream",
     "text": [
      " 12%|█▏        | 117/999 [2:18:18<18:49:57, 76.87s/it]"
     ]
    },
    {
     "name": "stdout",
     "output_type": "stream",
     "text": [
      "eigenvalues shape torch.Size([5]) eigenvectors shape torch.Size([5, 1024])\n",
      "117 /home/phdcs2/Hard_Disk/Datasets/Deep-Spectral-Segmentation/data/object-segmentation/ECSSD/features/0119_resized.pth\n",
      "dict_keys(['k', 'indices', 'file', 'id', 'model_name', 'patch_size', 'shape'])\n",
      "0119_resized\n",
      "Starting Training\n",
      "epoch: 00, loss: -0.91602\n",
      "epoch: 01, loss: -0.94953\n",
      "epoch: 02, loss: -0.95754\n",
      "epoch: 03, loss: -0.96218\n",
      "epoch: 04, loss: -0.96530\n",
      "epoch: 05, loss: -0.96758\n",
      "epoch: 06, loss: -0.96938\n",
      "epoch: 07, loss: -0.97088\n",
      "epoch: 08, loss: -0.97210\n",
      "epoch: 09, loss: -0.97313\n",
      "torch.Size([1024, 64])\n"
     ]
    },
    {
     "name": "stderr",
     "output_type": "stream",
     "text": [
      " 12%|█▏        | 118/999 [2:19:29<18:21:56, 75.05s/it]"
     ]
    },
    {
     "name": "stdout",
     "output_type": "stream",
     "text": [
      "eigenvalues shape torch.Size([5]) eigenvectors shape torch.Size([5, 1024])\n",
      "118 /home/phdcs2/Hard_Disk/Datasets/Deep-Spectral-Segmentation/data/object-segmentation/ECSSD/features/0120_resized.pth\n",
      "dict_keys(['k', 'indices', 'file', 'id', 'model_name', 'patch_size', 'shape'])\n",
      "0120_resized\n",
      "Starting Training\n",
      "epoch: 00, loss: -0.89654\n",
      "epoch: 01, loss: -0.93611\n",
      "epoch: 02, loss: -0.94591\n",
      "epoch: 03, loss: -0.95170\n",
      "epoch: 04, loss: -0.95569\n",
      "epoch: 05, loss: -0.95873\n",
      "epoch: 06, loss: -0.96105\n",
      "epoch: 07, loss: -0.96300\n",
      "epoch: 08, loss: -0.96457\n",
      "epoch: 09, loss: -0.96601\n",
      "torch.Size([1024, 64])\n"
     ]
    },
    {
     "name": "stderr",
     "output_type": "stream",
     "text": [
      " 12%|█▏        | 119/999 [2:20:48<18:38:48, 76.28s/it]"
     ]
    },
    {
     "name": "stdout",
     "output_type": "stream",
     "text": [
      "eigenvalues shape torch.Size([5]) eigenvectors shape torch.Size([5, 1024])\n",
      "119 /home/phdcs2/Hard_Disk/Datasets/Deep-Spectral-Segmentation/data/object-segmentation/ECSSD/features/0121_resized.pth\n",
      "dict_keys(['k', 'indices', 'file', 'id', 'model_name', 'patch_size', 'shape'])\n",
      "0121_resized\n",
      "Starting Training\n",
      "epoch: 00, loss: -0.87678\n",
      "epoch: 01, loss: -0.92792\n",
      "epoch: 02, loss: -0.94035\n",
      "epoch: 03, loss: -0.94721\n",
      "epoch: 04, loss: -0.95202\n",
      "epoch: 05, loss: -0.95548\n",
      "epoch: 06, loss: -0.95836\n",
      "epoch: 07, loss: -0.96049\n",
      "epoch: 08, loss: -0.96232\n",
      "epoch: 09, loss: -0.96382\n",
      "torch.Size([1024, 64])\n"
     ]
    },
    {
     "name": "stderr",
     "output_type": "stream",
     "text": [
      " 12%|█▏        | 120/999 [2:22:01<18:23:29, 75.32s/it]"
     ]
    },
    {
     "name": "stdout",
     "output_type": "stream",
     "text": [
      "eigenvalues shape torch.Size([5]) eigenvectors shape torch.Size([5, 1024])\n",
      "120 /home/phdcs2/Hard_Disk/Datasets/Deep-Spectral-Segmentation/data/object-segmentation/ECSSD/features/0122_resized.pth\n",
      "dict_keys(['k', 'indices', 'file', 'id', 'model_name', 'patch_size', 'shape'])\n",
      "0122_resized\n",
      "Starting Training\n",
      "epoch: 00, loss: -0.84418\n",
      "epoch: 01, loss: -0.91075\n",
      "epoch: 02, loss: -0.92687\n",
      "epoch: 03, loss: -0.93574\n",
      "epoch: 04, loss: -0.94181\n",
      "epoch: 05, loss: -0.94611\n",
      "epoch: 06, loss: -0.94941\n",
      "epoch: 07, loss: -0.95217\n",
      "epoch: 08, loss: -0.95442\n",
      "epoch: 09, loss: -0.95629\n",
      "torch.Size([1024, 64])\n"
     ]
    },
    {
     "name": "stderr",
     "output_type": "stream",
     "text": [
      " 12%|█▏        | 121/999 [2:23:05<17:31:06, 71.83s/it]"
     ]
    },
    {
     "name": "stdout",
     "output_type": "stream",
     "text": [
      "eigenvalues shape torch.Size([5]) eigenvectors shape torch.Size([5, 1024])\n",
      "121 /home/phdcs2/Hard_Disk/Datasets/Deep-Spectral-Segmentation/data/object-segmentation/ECSSD/features/0123_resized.pth\n",
      "dict_keys(['k', 'indices', 'file', 'id', 'model_name', 'patch_size', 'shape'])\n",
      "0123_resized\n",
      "Starting Training\n",
      "epoch: 00, loss: -0.88746\n",
      "epoch: 01, loss: -0.93241\n",
      "epoch: 02, loss: -0.94427\n",
      "epoch: 03, loss: -0.95118\n",
      "epoch: 04, loss: -0.95568\n",
      "epoch: 05, loss: -0.95901\n",
      "epoch: 06, loss: -0.96164\n",
      "epoch: 07, loss: -0.96374\n",
      "epoch: 08, loss: -0.96545\n",
      "epoch: 09, loss: -0.96682\n",
      "torch.Size([1024, 64])\n"
     ]
    },
    {
     "name": "stderr",
     "output_type": "stream",
     "text": [
      " 12%|█▏        | 122/999 [2:24:10<17:01:50, 69.91s/it]"
     ]
    },
    {
     "name": "stdout",
     "output_type": "stream",
     "text": [
      "eigenvalues shape torch.Size([5]) eigenvectors shape torch.Size([5, 1024])\n",
      "122 /home/phdcs2/Hard_Disk/Datasets/Deep-Spectral-Segmentation/data/object-segmentation/ECSSD/features/0124_resized.pth\n",
      "dict_keys(['k', 'indices', 'file', 'id', 'model_name', 'patch_size', 'shape'])\n",
      "0124_resized\n",
      "Starting Training\n",
      "epoch: 00, loss: -0.84266\n",
      "epoch: 01, loss: -0.90641\n",
      "epoch: 02, loss: -0.92294\n",
      "epoch: 03, loss: -0.93243\n",
      "epoch: 04, loss: -0.93874\n",
      "epoch: 05, loss: -0.94298\n",
      "epoch: 06, loss: -0.94646\n",
      "epoch: 07, loss: -0.94939\n",
      "epoch: 08, loss: -0.95181\n",
      "epoch: 09, loss: -0.95382\n",
      "torch.Size([1024, 64])\n"
     ]
    },
    {
     "name": "stderr",
     "output_type": "stream",
     "text": [
      " 12%|█▏        | 123/999 [2:25:12<16:28:04, 67.68s/it]"
     ]
    },
    {
     "name": "stdout",
     "output_type": "stream",
     "text": [
      "eigenvalues shape torch.Size([5]) eigenvectors shape torch.Size([5, 1024])\n",
      "123 /home/phdcs2/Hard_Disk/Datasets/Deep-Spectral-Segmentation/data/object-segmentation/ECSSD/features/0125_resized.pth\n",
      "dict_keys(['k', 'indices', 'file', 'id', 'model_name', 'patch_size', 'shape'])\n",
      "0125_resized\n",
      "Starting Training\n",
      "epoch: 00, loss: -0.87764\n",
      "epoch: 01, loss: -0.92577\n",
      "epoch: 02, loss: -0.93890\n",
      "epoch: 03, loss: -0.94638\n",
      "epoch: 04, loss: -0.95129\n",
      "epoch: 05, loss: -0.95487\n",
      "epoch: 06, loss: -0.95769\n",
      "epoch: 07, loss: -0.95998\n",
      "epoch: 08, loss: -0.96182\n",
      "epoch: 09, loss: -0.96339\n",
      "torch.Size([1024, 64])\n"
     ]
    },
    {
     "name": "stderr",
     "output_type": "stream",
     "text": [
      " 12%|█▏        | 124/999 [2:26:21<16:29:31, 67.85s/it]"
     ]
    },
    {
     "name": "stdout",
     "output_type": "stream",
     "text": [
      "eigenvalues shape torch.Size([5]) eigenvectors shape torch.Size([5, 1024])\n",
      "124 /home/phdcs2/Hard_Disk/Datasets/Deep-Spectral-Segmentation/data/object-segmentation/ECSSD/features/0126_resized.pth\n",
      "dict_keys(['k', 'indices', 'file', 'id', 'model_name', 'patch_size', 'shape'])\n",
      "0126_resized\n",
      "Starting Training\n",
      "epoch: 00, loss: -0.86947\n",
      "epoch: 01, loss: -0.92264\n",
      "epoch: 02, loss: -0.93612\n",
      "epoch: 03, loss: -0.94384\n",
      "epoch: 04, loss: -0.94874\n",
      "epoch: 05, loss: -0.95260\n",
      "epoch: 06, loss: -0.95546\n",
      "epoch: 07, loss: -0.95788\n",
      "epoch: 08, loss: -0.95989\n",
      "epoch: 09, loss: -0.96151\n",
      "torch.Size([1024, 64])\n"
     ]
    },
    {
     "name": "stderr",
     "output_type": "stream",
     "text": [
      " 13%|█▎        | 125/999 [2:27:32<16:43:34, 68.89s/it]"
     ]
    },
    {
     "name": "stdout",
     "output_type": "stream",
     "text": [
      "eigenvalues shape torch.Size([5]) eigenvectors shape torch.Size([5, 1024])\n",
      "125 /home/phdcs2/Hard_Disk/Datasets/Deep-Spectral-Segmentation/data/object-segmentation/ECSSD/features/0127_resized.pth\n",
      "dict_keys(['k', 'indices', 'file', 'id', 'model_name', 'patch_size', 'shape'])\n",
      "0127_resized\n",
      "Starting Training\n",
      "epoch: 00, loss: -0.88339\n",
      "epoch: 01, loss: -0.92970\n",
      "epoch: 02, loss: -0.94180\n",
      "epoch: 03, loss: -0.94880\n",
      "epoch: 04, loss: -0.95328\n",
      "epoch: 05, loss: -0.95667\n",
      "epoch: 06, loss: -0.95919\n",
      "epoch: 07, loss: -0.96128\n",
      "epoch: 08, loss: -0.96312\n",
      "epoch: 09, loss: -0.96456\n",
      "torch.Size([1024, 64])\n"
     ]
    },
    {
     "name": "stderr",
     "output_type": "stream",
     "text": [
      " 13%|█▎        | 126/999 [2:28:43<16:52:46, 69.61s/it]"
     ]
    },
    {
     "name": "stdout",
     "output_type": "stream",
     "text": [
      "eigenvalues shape torch.Size([5]) eigenvectors shape torch.Size([5, 1024])\n",
      "126 /home/phdcs2/Hard_Disk/Datasets/Deep-Spectral-Segmentation/data/object-segmentation/ECSSD/features/0128_resized.pth\n",
      "dict_keys(['k', 'indices', 'file', 'id', 'model_name', 'patch_size', 'shape'])\n",
      "0128_resized\n",
      "Starting Training\n",
      "epoch: 00, loss: -0.84919\n",
      "epoch: 01, loss: -0.91140\n",
      "epoch: 02, loss: -0.92651\n",
      "epoch: 03, loss: -0.93498\n",
      "epoch: 04, loss: -0.94065\n",
      "epoch: 05, loss: -0.94501\n",
      "epoch: 06, loss: -0.94835\n",
      "epoch: 07, loss: -0.95094\n",
      "epoch: 08, loss: -0.95296\n",
      "epoch: 09, loss: -0.95473\n",
      "torch.Size([1024, 64])\n"
     ]
    },
    {
     "name": "stderr",
     "output_type": "stream",
     "text": [
      " 13%|█▎        | 127/999 [2:29:48<16:31:31, 68.22s/it]"
     ]
    },
    {
     "name": "stdout",
     "output_type": "stream",
     "text": [
      "eigenvalues shape torch.Size([5]) eigenvectors shape torch.Size([5, 1024])\n",
      "127 /home/phdcs2/Hard_Disk/Datasets/Deep-Spectral-Segmentation/data/object-segmentation/ECSSD/features/0129_resized.pth\n",
      "dict_keys(['k', 'indices', 'file', 'id', 'model_name', 'patch_size', 'shape'])\n",
      "0129_resized\n"
     ]
    },
    {
     "name": "stderr",
     "output_type": "stream",
     "text": [
      "/home/phdcs2/Hard_Disk/Projects/T2I/deep-spectral-segmentation/venv/lib/python3.8/site-packages/sklearn/decomposition/_pca.py:642: RuntimeWarning: invalid value encountered in divide\n",
      "  self.explained_variance_ratio_ = self.explained_variance_ / total_var\n"
     ]
    },
    {
     "name": "stdout",
     "output_type": "stream",
     "text": [
      "Starting Training\n",
      "epoch: 00, loss: -0.93149\n",
      "epoch: 01, loss: -0.96020\n",
      "epoch: 02, loss: -0.96643\n",
      "epoch: 03, loss: -0.97004\n",
      "epoch: 04, loss: -0.97251\n",
      "epoch: 05, loss: -0.97441\n",
      "epoch: 06, loss: -0.97588\n",
      "epoch: 07, loss: -0.97707\n",
      "epoch: 08, loss: -0.97808\n",
      "epoch: 09, loss: -0.97893\n",
      "torch.Size([1024, 64])\n"
     ]
    },
    {
     "name": "stderr",
     "output_type": "stream",
     "text": [
      " 13%|█▎        | 128/999 [2:30:49<15:59:24, 66.09s/it]"
     ]
    },
    {
     "name": "stdout",
     "output_type": "stream",
     "text": [
      "eigenvalues shape torch.Size([5]) eigenvectors shape torch.Size([5, 1024])\n",
      "128 /home/phdcs2/Hard_Disk/Datasets/Deep-Spectral-Segmentation/data/object-segmentation/ECSSD/features/0130_resized.pth\n",
      "dict_keys(['k', 'indices', 'file', 'id', 'model_name', 'patch_size', 'shape'])\n",
      "0130_resized\n",
      "Starting Training\n",
      "epoch: 00, loss: -0.90889\n",
      "epoch: 01, loss: -0.94140\n",
      "epoch: 02, loss: -0.95049\n",
      "epoch: 03, loss: -0.95563\n",
      "epoch: 04, loss: -0.95931\n",
      "epoch: 05, loss: -0.96201\n",
      "epoch: 06, loss: -0.96414\n",
      "epoch: 07, loss: -0.96590\n",
      "epoch: 08, loss: -0.96736\n",
      "epoch: 09, loss: -0.96861\n",
      "torch.Size([1024, 64])\n"
     ]
    },
    {
     "name": "stderr",
     "output_type": "stream",
     "text": [
      " 13%|█▎        | 129/999 [2:31:47<15:20:45, 63.50s/it]"
     ]
    },
    {
     "name": "stdout",
     "output_type": "stream",
     "text": [
      "eigenvalues shape torch.Size([5]) eigenvectors shape torch.Size([5, 1024])\n",
      "129 /home/phdcs2/Hard_Disk/Datasets/Deep-Spectral-Segmentation/data/object-segmentation/ECSSD/features/0131_resized.pth\n",
      "dict_keys(['k', 'indices', 'file', 'id', 'model_name', 'patch_size', 'shape'])\n",
      "0131_resized\n",
      "Starting Training\n",
      "epoch: 00, loss: -0.86648\n",
      "epoch: 01, loss: -0.91982\n",
      "epoch: 02, loss: -0.93338\n",
      "epoch: 03, loss: -0.94087\n",
      "epoch: 04, loss: -0.94614\n",
      "epoch: 05, loss: -0.94992\n",
      "epoch: 06, loss: -0.95279\n",
      "epoch: 07, loss: -0.95529\n",
      "epoch: 08, loss: -0.95725\n",
      "epoch: 09, loss: -0.95905\n",
      "torch.Size([1024, 64])\n"
     ]
    },
    {
     "name": "stderr",
     "output_type": "stream",
     "text": [
      " 13%|█▎        | 130/999 [2:32:48<15:10:51, 62.89s/it]"
     ]
    },
    {
     "name": "stdout",
     "output_type": "stream",
     "text": [
      "eigenvalues shape torch.Size([5]) eigenvectors shape torch.Size([5, 1024])\n",
      "130 /home/phdcs2/Hard_Disk/Datasets/Deep-Spectral-Segmentation/data/object-segmentation/ECSSD/features/0132_resized.pth\n",
      "dict_keys(['k', 'indices', 'file', 'id', 'model_name', 'patch_size', 'shape'])\n",
      "0132_resized\n"
     ]
    },
    {
     "name": "stderr",
     "output_type": "stream",
     "text": [
      "/home/phdcs2/Hard_Disk/Projects/T2I/deep-spectral-segmentation/venv/lib/python3.8/site-packages/sklearn/decomposition/_pca.py:642: RuntimeWarning: invalid value encountered in divide\n",
      "  self.explained_variance_ratio_ = self.explained_variance_ / total_var\n"
     ]
    },
    {
     "name": "stdout",
     "output_type": "stream",
     "text": [
      "Starting Training\n",
      "epoch: 00, loss: -0.92709\n",
      "epoch: 01, loss: -0.95691\n",
      "epoch: 02, loss: -0.96341\n",
      "epoch: 03, loss: -0.96724\n",
      "epoch: 04, loss: -0.96987\n",
      "epoch: 05, loss: -0.97183\n",
      "epoch: 06, loss: -0.97334\n",
      "epoch: 07, loss: -0.97461\n",
      "epoch: 08, loss: -0.97569\n",
      "epoch: 09, loss: -0.97659\n",
      "torch.Size([1024, 64])\n"
     ]
    },
    {
     "name": "stderr",
     "output_type": "stream",
     "text": [
      " 13%|█▎        | 131/999 [2:33:47<14:53:42, 61.78s/it]"
     ]
    },
    {
     "name": "stdout",
     "output_type": "stream",
     "text": [
      "eigenvalues shape torch.Size([5]) eigenvectors shape torch.Size([5, 1024])\n",
      "131 /home/phdcs2/Hard_Disk/Datasets/Deep-Spectral-Segmentation/data/object-segmentation/ECSSD/features/0133_resized.pth\n",
      "dict_keys(['k', 'indices', 'file', 'id', 'model_name', 'patch_size', 'shape'])\n",
      "0133_resized\n",
      "Starting Training\n",
      "epoch: 00, loss: -0.87303\n",
      "epoch: 01, loss: -0.92597\n",
      "epoch: 02, loss: -0.93887\n",
      "epoch: 03, loss: -0.94608\n",
      "epoch: 04, loss: -0.95114\n",
      "epoch: 05, loss: -0.95491\n",
      "epoch: 06, loss: -0.95779\n",
      "epoch: 07, loss: -0.96011\n",
      "epoch: 08, loss: -0.96191\n",
      "epoch: 09, loss: -0.96354\n",
      "torch.Size([1024, 64])\n"
     ]
    },
    {
     "name": "stderr",
     "output_type": "stream",
     "text": [
      " 13%|█▎        | 132/999 [2:34:45<14:32:06, 60.35s/it]"
     ]
    },
    {
     "name": "stdout",
     "output_type": "stream",
     "text": [
      "eigenvalues shape torch.Size([5]) eigenvectors shape torch.Size([5, 1024])\n",
      "132 /home/phdcs2/Hard_Disk/Datasets/Deep-Spectral-Segmentation/data/object-segmentation/ECSSD/features/0134_resized.pth\n",
      "dict_keys(['k', 'indices', 'file', 'id', 'model_name', 'patch_size', 'shape'])\n",
      "0134_resized\n",
      "Starting Training\n",
      "epoch: 00, loss: -0.88429\n",
      "epoch: 01, loss: -0.93126\n",
      "epoch: 02, loss: -0.94336\n",
      "epoch: 03, loss: -0.95031\n",
      "epoch: 04, loss: -0.95500\n",
      "epoch: 05, loss: -0.95847\n",
      "epoch: 06, loss: -0.96108\n",
      "epoch: 07, loss: -0.96316\n",
      "epoch: 08, loss: -0.96489\n",
      "epoch: 09, loss: -0.96641\n",
      "torch.Size([1024, 64])\n"
     ]
    },
    {
     "name": "stderr",
     "output_type": "stream",
     "text": [
      " 13%|█▎        | 133/999 [2:35:51<14:57:11, 62.16s/it]"
     ]
    },
    {
     "name": "stdout",
     "output_type": "stream",
     "text": [
      "eigenvalues shape torch.Size([5]) eigenvectors shape torch.Size([5, 1024])\n",
      "133 /home/phdcs2/Hard_Disk/Datasets/Deep-Spectral-Segmentation/data/object-segmentation/ECSSD/features/0135_resized.pth\n",
      "dict_keys(['k', 'indices', 'file', 'id', 'model_name', 'patch_size', 'shape'])\n",
      "0135_resized\n",
      "Starting Training\n",
      "epoch: 00, loss: -0.86771\n",
      "epoch: 01, loss: -0.91825\n",
      "epoch: 02, loss: -0.93258\n",
      "epoch: 03, loss: -0.94089\n",
      "epoch: 04, loss: -0.94633\n",
      "epoch: 05, loss: -0.95033\n",
      "epoch: 06, loss: -0.95346\n",
      "epoch: 07, loss: -0.95598\n",
      "epoch: 08, loss: -0.95803\n",
      "epoch: 09, loss: -0.95981\n",
      "torch.Size([1024, 64])\n"
     ]
    },
    {
     "name": "stderr",
     "output_type": "stream",
     "text": [
      " 13%|█▎        | 134/999 [2:36:57<15:14:37, 63.44s/it]"
     ]
    },
    {
     "name": "stdout",
     "output_type": "stream",
     "text": [
      "eigenvalues shape torch.Size([5]) eigenvectors shape torch.Size([5, 1024])\n",
      "134 /home/phdcs2/Hard_Disk/Datasets/Deep-Spectral-Segmentation/data/object-segmentation/ECSSD/features/0136_resized.pth\n",
      "dict_keys(['k', 'indices', 'file', 'id', 'model_name', 'patch_size', 'shape'])\n",
      "0136_resized\n"
     ]
    },
    {
     "name": "stderr",
     "output_type": "stream",
     "text": [
      "/home/phdcs2/Hard_Disk/Projects/T2I/deep-spectral-segmentation/venv/lib/python3.8/site-packages/sklearn/decomposition/_pca.py:642: RuntimeWarning: invalid value encountered in divide\n",
      "  self.explained_variance_ratio_ = self.explained_variance_ / total_var\n"
     ]
    },
    {
     "name": "stdout",
     "output_type": "stream",
     "text": [
      "Starting Training\n",
      "epoch: 00, loss: -0.90815\n",
      "epoch: 01, loss: -0.94542\n",
      "epoch: 02, loss: -0.95393\n",
      "epoch: 03, loss: -0.95889\n",
      "epoch: 04, loss: -0.96223\n",
      "epoch: 05, loss: -0.96469\n",
      "epoch: 06, loss: -0.96662\n",
      "epoch: 07, loss: -0.96821\n",
      "epoch: 08, loss: -0.96954\n",
      "epoch: 09, loss: -0.97064\n",
      "torch.Size([1024, 64])\n"
     ]
    },
    {
     "name": "stderr",
     "output_type": "stream",
     "text": [
      " 14%|█▎        | 135/999 [2:38:08<15:45:00, 65.63s/it]"
     ]
    },
    {
     "name": "stdout",
     "output_type": "stream",
     "text": [
      "eigenvalues shape torch.Size([5]) eigenvectors shape torch.Size([5, 1024])\n",
      "135 /home/phdcs2/Hard_Disk/Datasets/Deep-Spectral-Segmentation/data/object-segmentation/ECSSD/features/0137_resized.pth\n",
      "dict_keys(['k', 'indices', 'file', 'id', 'model_name', 'patch_size', 'shape'])\n",
      "0137_resized\n"
     ]
    },
    {
     "name": "stderr",
     "output_type": "stream",
     "text": [
      "/home/phdcs2/Hard_Disk/Projects/T2I/deep-spectral-segmentation/venv/lib/python3.8/site-packages/sklearn/decomposition/_pca.py:642: RuntimeWarning: invalid value encountered in divide\n",
      "  self.explained_variance_ratio_ = self.explained_variance_ / total_var\n"
     ]
    },
    {
     "name": "stdout",
     "output_type": "stream",
     "text": [
      "Starting Training\n",
      "epoch: 00, loss: -0.92819\n",
      "epoch: 01, loss: -0.95562\n",
      "epoch: 02, loss: -0.96165\n",
      "epoch: 03, loss: -0.96528\n",
      "epoch: 04, loss: -0.96781\n",
      "epoch: 05, loss: -0.96972\n",
      "epoch: 06, loss: -0.97125\n",
      "epoch: 07, loss: -0.97252\n",
      "epoch: 08, loss: -0.97357\n",
      "epoch: 09, loss: -0.97450\n",
      "torch.Size([1024, 64])\n"
     ]
    },
    {
     "name": "stderr",
     "output_type": "stream",
     "text": [
      " 14%|█▎        | 136/999 [2:39:17<15:58:29, 66.64s/it]"
     ]
    },
    {
     "name": "stdout",
     "output_type": "stream",
     "text": [
      "eigenvalues shape torch.Size([5]) eigenvectors shape torch.Size([5, 1024])\n",
      "136 /home/phdcs2/Hard_Disk/Datasets/Deep-Spectral-Segmentation/data/object-segmentation/ECSSD/features/0138_resized.pth\n",
      "dict_keys(['k', 'indices', 'file', 'id', 'model_name', 'patch_size', 'shape'])\n",
      "0138_resized\n",
      "Starting Training\n",
      "epoch: 00, loss: -0.92880\n",
      "epoch: 01, loss: -0.95722\n",
      "epoch: 02, loss: -0.96337\n",
      "epoch: 03, loss: -0.96697\n",
      "epoch: 04, loss: -0.96942\n",
      "epoch: 05, loss: -0.97127\n",
      "epoch: 06, loss: -0.97275\n",
      "epoch: 07, loss: -0.97395\n",
      "epoch: 08, loss: -0.97497\n",
      "epoch: 09, loss: -0.97586\n",
      "torch.Size([1024, 64])\n"
     ]
    },
    {
     "name": "stderr",
     "output_type": "stream",
     "text": [
      " 14%|█▎        | 137/999 [2:40:25<16:03:16, 67.05s/it]"
     ]
    },
    {
     "name": "stdout",
     "output_type": "stream",
     "text": [
      "eigenvalues shape torch.Size([5]) eigenvectors shape torch.Size([5, 1024])\n",
      "137 /home/phdcs2/Hard_Disk/Datasets/Deep-Spectral-Segmentation/data/object-segmentation/ECSSD/features/0139_resized.pth\n",
      "dict_keys(['k', 'indices', 'file', 'id', 'model_name', 'patch_size', 'shape'])\n",
      "0139_resized\n",
      "Starting Training\n",
      "epoch: 00, loss: -0.87468\n",
      "epoch: 01, loss: -0.92343\n",
      "epoch: 02, loss: -0.93669\n",
      "epoch: 03, loss: -0.94437\n",
      "epoch: 04, loss: -0.94952\n",
      "epoch: 05, loss: -0.95325\n",
      "epoch: 06, loss: -0.95617\n",
      "epoch: 07, loss: -0.95851\n",
      "epoch: 08, loss: -0.96044\n",
      "epoch: 09, loss: -0.96216\n",
      "torch.Size([1024, 64])\n"
     ]
    },
    {
     "name": "stderr",
     "output_type": "stream",
     "text": [
      " 14%|█▍        | 138/999 [2:41:35<16:16:26, 68.05s/it]"
     ]
    },
    {
     "name": "stdout",
     "output_type": "stream",
     "text": [
      "eigenvalues shape torch.Size([5]) eigenvectors shape torch.Size([5, 1024])\n",
      "138 /home/phdcs2/Hard_Disk/Datasets/Deep-Spectral-Segmentation/data/object-segmentation/ECSSD/features/0140_resized.pth\n",
      "dict_keys(['k', 'indices', 'file', 'id', 'model_name', 'patch_size', 'shape'])\n",
      "0140_resized\n",
      "Starting Training\n",
      "epoch: 00, loss: -0.91034\n",
      "epoch: 01, loss: -0.94378\n",
      "epoch: 02, loss: -0.95281\n",
      "epoch: 03, loss: -0.95795\n",
      "epoch: 04, loss: -0.96154\n",
      "epoch: 05, loss: -0.96420\n",
      "epoch: 06, loss: -0.96630\n",
      "epoch: 07, loss: -0.96801\n",
      "epoch: 08, loss: -0.96944\n",
      "epoch: 09, loss: -0.97065\n",
      "torch.Size([1024, 64])\n"
     ]
    },
    {
     "name": "stderr",
     "output_type": "stream",
     "text": [
      " 14%|█▍        | 139/999 [2:42:51<16:48:02, 70.33s/it]"
     ]
    },
    {
     "name": "stdout",
     "output_type": "stream",
     "text": [
      "eigenvalues shape torch.Size([5]) eigenvectors shape torch.Size([5, 1024])\n",
      "139 /home/phdcs2/Hard_Disk/Datasets/Deep-Spectral-Segmentation/data/object-segmentation/ECSSD/features/0141_resized.pth\n",
      "dict_keys(['k', 'indices', 'file', 'id', 'model_name', 'patch_size', 'shape'])\n",
      "0141_resized\n"
     ]
    },
    {
     "name": "stderr",
     "output_type": "stream",
     "text": [
      "/home/phdcs2/Hard_Disk/Projects/T2I/deep-spectral-segmentation/venv/lib/python3.8/site-packages/sklearn/decomposition/_pca.py:642: RuntimeWarning: invalid value encountered in divide\n",
      "  self.explained_variance_ratio_ = self.explained_variance_ / total_var\n"
     ]
    },
    {
     "name": "stdout",
     "output_type": "stream",
     "text": [
      "Starting Training\n",
      "epoch: 00, loss: -0.92554\n",
      "epoch: 01, loss: -0.95415\n",
      "epoch: 02, loss: -0.96103\n",
      "epoch: 03, loss: -0.96498\n",
      "epoch: 04, loss: -0.96771\n",
      "epoch: 05, loss: -0.96972\n",
      "epoch: 06, loss: -0.97130\n",
      "epoch: 07, loss: -0.97259\n",
      "epoch: 08, loss: -0.97367\n",
      "epoch: 09, loss: -0.97459\n",
      "torch.Size([1024, 64])\n"
     ]
    },
    {
     "name": "stderr",
     "output_type": "stream",
     "text": [
      " 14%|█▍        | 140/999 [2:44:04<16:56:52, 71.03s/it]"
     ]
    },
    {
     "name": "stdout",
     "output_type": "stream",
     "text": [
      "eigenvalues shape torch.Size([5]) eigenvectors shape torch.Size([5, 1024])\n",
      "140 /home/phdcs2/Hard_Disk/Datasets/Deep-Spectral-Segmentation/data/object-segmentation/ECSSD/features/0142_resized.pth\n",
      "dict_keys(['k', 'indices', 'file', 'id', 'model_name', 'patch_size', 'shape'])\n",
      "0142_resized\n",
      "Starting Training\n",
      "epoch: 00, loss: -0.93136\n",
      "epoch: 01, loss: -0.95842\n",
      "epoch: 02, loss: -0.96443\n",
      "epoch: 03, loss: -0.96800\n",
      "epoch: 04, loss: -0.97050\n",
      "epoch: 05, loss: -0.97244\n",
      "epoch: 06, loss: -0.97386\n",
      "epoch: 07, loss: -0.97510\n",
      "epoch: 08, loss: -0.97610\n",
      "epoch: 09, loss: -0.97697\n",
      "torch.Size([1024, 64])\n"
     ]
    },
    {
     "name": "stderr",
     "output_type": "stream",
     "text": [
      " 14%|█▍        | 141/999 [2:45:07<16:21:34, 68.64s/it]"
     ]
    },
    {
     "name": "stdout",
     "output_type": "stream",
     "text": [
      "eigenvalues shape torch.Size([5]) eigenvectors shape torch.Size([5, 1024])\n",
      "141 /home/phdcs2/Hard_Disk/Datasets/Deep-Spectral-Segmentation/data/object-segmentation/ECSSD/features/0143_resized.pth\n",
      "dict_keys(['k', 'indices', 'file', 'id', 'model_name', 'patch_size', 'shape'])\n",
      "0143_resized\n",
      "Starting Training\n",
      "epoch: 00, loss: -0.84454\n",
      "epoch: 01, loss: -0.90096\n",
      "epoch: 02, loss: -0.91740\n",
      "epoch: 03, loss: -0.92715\n",
      "epoch: 04, loss: -0.93372\n",
      "epoch: 05, loss: -0.93862\n",
      "epoch: 06, loss: -0.94241\n",
      "epoch: 07, loss: -0.94544\n",
      "epoch: 08, loss: -0.94805\n",
      "epoch: 09, loss: -0.95012\n",
      "torch.Size([1024, 64])\n"
     ]
    },
    {
     "name": "stderr",
     "output_type": "stream",
     "text": [
      " 14%|█▍        | 142/999 [2:46:20<16:39:59, 70.01s/it]"
     ]
    },
    {
     "name": "stdout",
     "output_type": "stream",
     "text": [
      "eigenvalues shape torch.Size([5]) eigenvectors shape torch.Size([5, 1024])\n",
      "142 /home/phdcs2/Hard_Disk/Datasets/Deep-Spectral-Segmentation/data/object-segmentation/ECSSD/features/0144_resized.pth\n",
      "dict_keys(['k', 'indices', 'file', 'id', 'model_name', 'patch_size', 'shape'])\n",
      "0144_resized\n"
     ]
    },
    {
     "name": "stderr",
     "output_type": "stream",
     "text": [
      "/home/phdcs2/Hard_Disk/Projects/T2I/deep-spectral-segmentation/venv/lib/python3.8/site-packages/sklearn/decomposition/_pca.py:642: RuntimeWarning: invalid value encountered in divide\n",
      "  self.explained_variance_ratio_ = self.explained_variance_ / total_var\n"
     ]
    },
    {
     "name": "stdout",
     "output_type": "stream",
     "text": [
      "Starting Training\n",
      "epoch: 00, loss: -0.93417\n",
      "epoch: 01, loss: -0.96070\n",
      "epoch: 02, loss: -0.96662\n",
      "epoch: 03, loss: -0.97014\n",
      "epoch: 04, loss: -0.97255\n",
      "epoch: 05, loss: -0.97437\n",
      "epoch: 06, loss: -0.97577\n",
      "epoch: 07, loss: -0.97692\n",
      "epoch: 08, loss: -0.97792\n",
      "epoch: 09, loss: -0.97874\n",
      "torch.Size([1024, 64])\n"
     ]
    },
    {
     "name": "stderr",
     "output_type": "stream",
     "text": [
      " 14%|█▍        | 143/999 [2:47:25<16:16:52, 68.47s/it]"
     ]
    },
    {
     "name": "stdout",
     "output_type": "stream",
     "text": [
      "eigenvalues shape torch.Size([5]) eigenvectors shape torch.Size([5, 1024])\n",
      "143 /home/phdcs2/Hard_Disk/Datasets/Deep-Spectral-Segmentation/data/object-segmentation/ECSSD/features/0145_resized.pth\n",
      "dict_keys(['k', 'indices', 'file', 'id', 'model_name', 'patch_size', 'shape'])\n",
      "0145_resized\n",
      "Starting Training\n",
      "epoch: 00, loss: -0.87346\n",
      "epoch: 01, loss: -0.92655\n",
      "epoch: 02, loss: -0.93967\n",
      "epoch: 03, loss: -0.94704\n",
      "epoch: 04, loss: -0.95203\n",
      "epoch: 05, loss: -0.95552\n",
      "epoch: 06, loss: -0.95834\n",
      "epoch: 07, loss: -0.96058\n",
      "epoch: 08, loss: -0.96238\n",
      "epoch: 09, loss: -0.96392\n",
      "torch.Size([1024, 64])\n"
     ]
    },
    {
     "name": "stderr",
     "output_type": "stream",
     "text": [
      " 14%|█▍        | 144/999 [2:48:32<16:11:01, 68.14s/it]"
     ]
    },
    {
     "name": "stdout",
     "output_type": "stream",
     "text": [
      "eigenvalues shape torch.Size([5]) eigenvectors shape torch.Size([5, 1024])\n",
      "144 /home/phdcs2/Hard_Disk/Datasets/Deep-Spectral-Segmentation/data/object-segmentation/ECSSD/features/0146_resized.pth\n",
      "dict_keys(['k', 'indices', 'file', 'id', 'model_name', 'patch_size', 'shape'])\n",
      "0146_resized\n"
     ]
    },
    {
     "name": "stderr",
     "output_type": "stream",
     "text": [
      "/home/phdcs2/Hard_Disk/Projects/T2I/deep-spectral-segmentation/venv/lib/python3.8/site-packages/sklearn/decomposition/_pca.py:642: RuntimeWarning: invalid value encountered in divide\n",
      "  self.explained_variance_ratio_ = self.explained_variance_ / total_var\n"
     ]
    },
    {
     "name": "stdout",
     "output_type": "stream",
     "text": [
      "Starting Training\n",
      "epoch: 00, loss: -0.91406\n",
      "epoch: 01, loss: -0.94720\n",
      "epoch: 02, loss: -0.95516\n",
      "epoch: 03, loss: -0.95981\n",
      "epoch: 04, loss: -0.96298\n",
      "epoch: 05, loss: -0.96538\n",
      "epoch: 06, loss: -0.96723\n",
      "epoch: 07, loss: -0.96872\n",
      "epoch: 08, loss: -0.97001\n",
      "epoch: 09, loss: -0.97109\n",
      "torch.Size([1024, 64])\n"
     ]
    },
    {
     "name": "stderr",
     "output_type": "stream",
     "text": [
      " 15%|█▍        | 145/999 [2:49:33<15:39:06, 65.98s/it]"
     ]
    },
    {
     "name": "stdout",
     "output_type": "stream",
     "text": [
      "eigenvalues shape torch.Size([5]) eigenvectors shape torch.Size([5, 1024])\n",
      "145 /home/phdcs2/Hard_Disk/Datasets/Deep-Spectral-Segmentation/data/object-segmentation/ECSSD/features/0147_resized.pth\n",
      "dict_keys(['k', 'indices', 'file', 'id', 'model_name', 'patch_size', 'shape'])\n",
      "0147_resized\n",
      "Starting Training\n",
      "epoch: 00, loss: -0.84757\n",
      "epoch: 01, loss: -0.90778\n",
      "epoch: 02, loss: -0.92463\n",
      "epoch: 03, loss: -0.93423\n",
      "epoch: 04, loss: -0.94063\n",
      "epoch: 05, loss: -0.94532\n",
      "epoch: 06, loss: -0.94886\n",
      "epoch: 07, loss: -0.95176\n",
      "epoch: 08, loss: -0.95413\n",
      "epoch: 09, loss: -0.95617\n",
      "torch.Size([1024, 64])\n"
     ]
    },
    {
     "name": "stderr",
     "output_type": "stream",
     "text": [
      " 15%|█▍        | 146/999 [2:50:47<16:12:08, 68.38s/it]"
     ]
    },
    {
     "name": "stdout",
     "output_type": "stream",
     "text": [
      "eigenvalues shape torch.Size([5]) eigenvectors shape torch.Size([5, 1024])\n",
      "146 /home/phdcs2/Hard_Disk/Datasets/Deep-Spectral-Segmentation/data/object-segmentation/ECSSD/features/0148_resized.pth\n",
      "dict_keys(['k', 'indices', 'file', 'id', 'model_name', 'patch_size', 'shape'])\n",
      "0148_resized\n"
     ]
    },
    {
     "name": "stderr",
     "output_type": "stream",
     "text": [
      "/home/phdcs2/Hard_Disk/Projects/T2I/deep-spectral-segmentation/venv/lib/python3.8/site-packages/sklearn/decomposition/_pca.py:642: RuntimeWarning: invalid value encountered in divide\n",
      "  self.explained_variance_ratio_ = self.explained_variance_ / total_var\n"
     ]
    },
    {
     "name": "stdout",
     "output_type": "stream",
     "text": [
      "Starting Training\n",
      "epoch: 00, loss: -0.90852\n",
      "epoch: 01, loss: -0.94389\n",
      "epoch: 02, loss: -0.95313\n",
      "epoch: 03, loss: -0.95846\n",
      "epoch: 04, loss: -0.96212\n",
      "epoch: 05, loss: -0.96487\n",
      "epoch: 06, loss: -0.96697\n",
      "epoch: 07, loss: -0.96867\n",
      "epoch: 08, loss: -0.97009\n",
      "epoch: 09, loss: -0.97129\n",
      "torch.Size([1024, 64])\n"
     ]
    },
    {
     "name": "stderr",
     "output_type": "stream",
     "text": [
      " 15%|█▍        | 147/999 [2:51:53<15:58:20, 67.49s/it]"
     ]
    },
    {
     "name": "stdout",
     "output_type": "stream",
     "text": [
      "eigenvalues shape torch.Size([5]) eigenvectors shape torch.Size([5, 1024])\n",
      "147 /home/phdcs2/Hard_Disk/Datasets/Deep-Spectral-Segmentation/data/object-segmentation/ECSSD/features/0149_resized.pth\n",
      "dict_keys(['k', 'indices', 'file', 'id', 'model_name', 'patch_size', 'shape'])\n",
      "0149_resized\n",
      "Starting Training\n",
      "epoch: 00, loss: -0.86779\n",
      "epoch: 01, loss: -0.92231\n",
      "epoch: 02, loss: -0.93596\n",
      "epoch: 03, loss: -0.94385\n",
      "epoch: 04, loss: -0.94899\n",
      "epoch: 05, loss: -0.95285\n",
      "epoch: 06, loss: -0.95597\n",
      "epoch: 07, loss: -0.95830\n",
      "epoch: 08, loss: -0.96037\n",
      "epoch: 09, loss: -0.96201\n",
      "torch.Size([1024, 64])\n"
     ]
    },
    {
     "name": "stderr",
     "output_type": "stream",
     "text": [
      " 15%|█▍        | 148/999 [2:53:01<16:02:09, 67.84s/it]"
     ]
    },
    {
     "name": "stdout",
     "output_type": "stream",
     "text": [
      "eigenvalues shape torch.Size([5]) eigenvectors shape torch.Size([5, 1024])\n",
      "148 /home/phdcs2/Hard_Disk/Datasets/Deep-Spectral-Segmentation/data/object-segmentation/ECSSD/features/0150_resized.pth\n",
      "dict_keys(['k', 'indices', 'file', 'id', 'model_name', 'patch_size', 'shape'])\n",
      "0150_resized\n",
      "Starting Training\n",
      "epoch: 00, loss: -0.90307\n",
      "epoch: 01, loss: -0.94086\n",
      "epoch: 02, loss: -0.94993\n",
      "epoch: 03, loss: -0.95517\n",
      "epoch: 04, loss: -0.95886\n",
      "epoch: 05, loss: -0.96151\n",
      "epoch: 06, loss: -0.96364\n",
      "epoch: 07, loss: -0.96537\n",
      "epoch: 08, loss: -0.96681\n",
      "epoch: 09, loss: -0.96805\n",
      "torch.Size([1024, 64])\n"
     ]
    },
    {
     "name": "stderr",
     "output_type": "stream",
     "text": [
      " 15%|█▍        | 149/999 [2:54:11<16:08:57, 68.40s/it]"
     ]
    },
    {
     "name": "stdout",
     "output_type": "stream",
     "text": [
      "eigenvalues shape torch.Size([5]) eigenvectors shape torch.Size([5, 1024])\n",
      "149 /home/phdcs2/Hard_Disk/Datasets/Deep-Spectral-Segmentation/data/object-segmentation/ECSSD/features/0151_resized.pth\n",
      "dict_keys(['k', 'indices', 'file', 'id', 'model_name', 'patch_size', 'shape'])\n",
      "0151_resized\n",
      "Starting Training\n",
      "epoch: 00, loss: -0.88055\n",
      "epoch: 01, loss: -0.93044\n",
      "epoch: 02, loss: -0.94129\n",
      "epoch: 03, loss: -0.94770\n",
      "epoch: 04, loss: -0.95197\n",
      "epoch: 05, loss: -0.95527\n",
      "epoch: 06, loss: -0.95777\n",
      "epoch: 07, loss: -0.95978\n",
      "epoch: 08, loss: -0.96134\n",
      "epoch: 09, loss: -0.96278\n",
      "torch.Size([1024, 64])\n"
     ]
    },
    {
     "name": "stderr",
     "output_type": "stream",
     "text": [
      " 15%|█▌        | 150/999 [2:55:20<16:10:35, 68.59s/it]"
     ]
    },
    {
     "name": "stdout",
     "output_type": "stream",
     "text": [
      "eigenvalues shape torch.Size([5]) eigenvectors shape torch.Size([5, 1024])\n",
      "150 /home/phdcs2/Hard_Disk/Datasets/Deep-Spectral-Segmentation/data/object-segmentation/ECSSD/features/0152_resized.pth\n",
      "dict_keys(['k', 'indices', 'file', 'id', 'model_name', 'patch_size', 'shape'])\n",
      "0152_resized\n",
      "Starting Training\n",
      "epoch: 00, loss: -0.86914\n",
      "epoch: 01, loss: -0.92194\n",
      "epoch: 02, loss: -0.93561\n",
      "epoch: 03, loss: -0.94355\n",
      "epoch: 04, loss: -0.94865\n",
      "epoch: 05, loss: -0.95240\n",
      "epoch: 06, loss: -0.95531\n",
      "epoch: 07, loss: -0.95762\n",
      "epoch: 08, loss: -0.95961\n",
      "epoch: 09, loss: -0.96128\n",
      "torch.Size([1024, 64])\n"
     ]
    },
    {
     "name": "stderr",
     "output_type": "stream",
     "text": [
      " 15%|█▌        | 151/999 [2:56:29<16:12:40, 68.82s/it]"
     ]
    },
    {
     "name": "stdout",
     "output_type": "stream",
     "text": [
      "eigenvalues shape torch.Size([5]) eigenvectors shape torch.Size([5, 1024])\n",
      "151 /home/phdcs2/Hard_Disk/Datasets/Deep-Spectral-Segmentation/data/object-segmentation/ECSSD/features/0153_resized.pth\n",
      "dict_keys(['k', 'indices', 'file', 'id', 'model_name', 'patch_size', 'shape'])\n",
      "0153_resized\n",
      "Starting Training\n",
      "epoch: 00, loss: -0.92282\n",
      "epoch: 01, loss: -0.95394\n",
      "epoch: 02, loss: -0.96125\n",
      "epoch: 03, loss: -0.96551\n",
      "epoch: 04, loss: -0.96841\n",
      "epoch: 05, loss: -0.97061\n",
      "epoch: 06, loss: -0.97232\n",
      "epoch: 07, loss: -0.97370\n",
      "epoch: 08, loss: -0.97487\n",
      "epoch: 09, loss: -0.97586\n",
      "torch.Size([1024, 64])\n"
     ]
    },
    {
     "name": "stderr",
     "output_type": "stream",
     "text": [
      " 15%|█▌        | 152/999 [2:57:37<16:06:56, 68.50s/it]"
     ]
    },
    {
     "name": "stdout",
     "output_type": "stream",
     "text": [
      "eigenvalues shape torch.Size([5]) eigenvectors shape torch.Size([5, 1024])\n",
      "152 /home/phdcs2/Hard_Disk/Datasets/Deep-Spectral-Segmentation/data/object-segmentation/ECSSD/features/0154_resized.pth\n",
      "dict_keys(['k', 'indices', 'file', 'id', 'model_name', 'patch_size', 'shape'])\n",
      "0154_resized\n",
      "Starting Training\n",
      "epoch: 00, loss: -0.86820\n",
      "epoch: 01, loss: -0.92124\n",
      "epoch: 02, loss: -0.93544\n",
      "epoch: 03, loss: -0.94371\n",
      "epoch: 04, loss: -0.94893\n",
      "epoch: 05, loss: -0.95299\n",
      "epoch: 06, loss: -0.95601\n",
      "epoch: 07, loss: -0.95858\n",
      "epoch: 08, loss: -0.96060\n",
      "epoch: 09, loss: -0.96234\n",
      "torch.Size([1024, 64])\n"
     ]
    },
    {
     "name": "stderr",
     "output_type": "stream",
     "text": [
      " 15%|█▌        | 153/999 [2:58:42<15:52:34, 67.56s/it]"
     ]
    },
    {
     "name": "stdout",
     "output_type": "stream",
     "text": [
      "eigenvalues shape torch.Size([5]) eigenvectors shape torch.Size([5, 1024])\n",
      "153 /home/phdcs2/Hard_Disk/Datasets/Deep-Spectral-Segmentation/data/object-segmentation/ECSSD/features/0155_resized.pth\n",
      "dict_keys(['k', 'indices', 'file', 'id', 'model_name', 'patch_size', 'shape'])\n",
      "0155_resized\n",
      "Starting Training\n",
      "epoch: 00, loss: -0.91919\n",
      "epoch: 01, loss: -0.95084\n",
      "epoch: 02, loss: -0.95860\n",
      "epoch: 03, loss: -0.96310\n",
      "epoch: 04, loss: -0.96613\n",
      "epoch: 05, loss: -0.96850\n",
      "epoch: 06, loss: -0.97026\n",
      "epoch: 07, loss: -0.97173\n",
      "epoch: 08, loss: -0.97297\n",
      "epoch: 09, loss: -0.97400\n",
      "torch.Size([1024, 64])\n"
     ]
    },
    {
     "name": "stderr",
     "output_type": "stream",
     "text": [
      " 15%|█▌        | 154/999 [2:59:53<16:04:59, 68.52s/it]"
     ]
    },
    {
     "name": "stdout",
     "output_type": "stream",
     "text": [
      "eigenvalues shape torch.Size([5]) eigenvectors shape torch.Size([5, 1024])\n",
      "154 /home/phdcs2/Hard_Disk/Datasets/Deep-Spectral-Segmentation/data/object-segmentation/ECSSD/features/0156_resized.pth\n",
      "dict_keys(['k', 'indices', 'file', 'id', 'model_name', 'patch_size', 'shape'])\n",
      "0156_resized\n",
      "Starting Training\n",
      "epoch: 00, loss: -0.87796\n",
      "epoch: 01, loss: -0.92775\n",
      "epoch: 02, loss: -0.94030\n",
      "epoch: 03, loss: -0.94745\n",
      "epoch: 04, loss: -0.95213\n",
      "epoch: 05, loss: -0.95546\n",
      "epoch: 06, loss: -0.95822\n",
      "epoch: 07, loss: -0.96037\n",
      "epoch: 08, loss: -0.96220\n",
      "epoch: 09, loss: -0.96377\n",
      "torch.Size([1024, 64])\n"
     ]
    },
    {
     "name": "stderr",
     "output_type": "stream",
     "text": [
      " 16%|█▌        | 155/999 [3:01:06<16:23:27, 69.91s/it]"
     ]
    },
    {
     "name": "stdout",
     "output_type": "stream",
     "text": [
      "eigenvalues shape torch.Size([5]) eigenvectors shape torch.Size([5, 1024])\n",
      "155 /home/phdcs2/Hard_Disk/Datasets/Deep-Spectral-Segmentation/data/object-segmentation/ECSSD/features/0157_resized.pth\n",
      "dict_keys(['k', 'indices', 'file', 'id', 'model_name', 'patch_size', 'shape'])\n",
      "0157_resized\n",
      "Starting Training\n",
      "epoch: 00, loss: -0.86306\n",
      "epoch: 01, loss: -0.92264\n",
      "epoch: 02, loss: -0.93664\n",
      "epoch: 03, loss: -0.94450\n",
      "epoch: 04, loss: -0.94978\n",
      "epoch: 05, loss: -0.95354\n",
      "epoch: 06, loss: -0.95648\n",
      "epoch: 07, loss: -0.95880\n",
      "epoch: 08, loss: -0.96083\n",
      "epoch: 09, loss: -0.96244\n",
      "torch.Size([1024, 64])\n"
     ]
    },
    {
     "name": "stderr",
     "output_type": "stream",
     "text": [
      " 16%|█▌        | 156/999 [3:02:18<16:28:15, 70.34s/it]"
     ]
    },
    {
     "name": "stdout",
     "output_type": "stream",
     "text": [
      "eigenvalues shape torch.Size([5]) eigenvectors shape torch.Size([5, 1024])\n",
      "156 /home/phdcs2/Hard_Disk/Datasets/Deep-Spectral-Segmentation/data/object-segmentation/ECSSD/features/0158_resized.pth\n",
      "dict_keys(['k', 'indices', 'file', 'id', 'model_name', 'patch_size', 'shape'])\n",
      "0158_resized\n"
     ]
    },
    {
     "name": "stderr",
     "output_type": "stream",
     "text": [
      "/home/phdcs2/Hard_Disk/Projects/T2I/deep-spectral-segmentation/venv/lib/python3.8/site-packages/sklearn/decomposition/_pca.py:642: RuntimeWarning: invalid value encountered in divide\n",
      "  self.explained_variance_ratio_ = self.explained_variance_ / total_var\n"
     ]
    },
    {
     "name": "stdout",
     "output_type": "stream",
     "text": [
      "Starting Training\n",
      "epoch: 00, loss: -0.96083\n",
      "epoch: 01, loss: -0.97647\n",
      "epoch: 02, loss: -0.97988\n",
      "epoch: 03, loss: -0.98191\n",
      "epoch: 04, loss: -0.98330\n",
      "epoch: 05, loss: -0.98437\n",
      "epoch: 06, loss: -0.98519\n",
      "epoch: 07, loss: -0.98589\n",
      "epoch: 08, loss: -0.98645\n",
      "epoch: 09, loss: -0.98696\n",
      "torch.Size([1024, 64])\n"
     ]
    },
    {
     "name": "stderr",
     "output_type": "stream",
     "text": [
      " 16%|█▌        | 157/999 [3:03:22<16:02:35, 68.59s/it]"
     ]
    },
    {
     "name": "stdout",
     "output_type": "stream",
     "text": [
      "eigenvalues shape torch.Size([5]) eigenvectors shape torch.Size([5, 1024])\n",
      "157 /home/phdcs2/Hard_Disk/Datasets/Deep-Spectral-Segmentation/data/object-segmentation/ECSSD/features/0159_resized.pth\n",
      "dict_keys(['k', 'indices', 'file', 'id', 'model_name', 'patch_size', 'shape'])\n",
      "0159_resized\n"
     ]
    },
    {
     "name": "stderr",
     "output_type": "stream",
     "text": [
      "/home/phdcs2/Hard_Disk/Projects/T2I/deep-spectral-segmentation/venv/lib/python3.8/site-packages/sklearn/decomposition/_pca.py:642: RuntimeWarning: invalid value encountered in divide\n",
      "  self.explained_variance_ratio_ = self.explained_variance_ / total_var\n"
     ]
    },
    {
     "name": "stdout",
     "output_type": "stream",
     "text": [
      "Starting Training\n",
      "epoch: 00, loss: -0.90406\n",
      "epoch: 01, loss: -0.94079\n",
      "epoch: 02, loss: -0.94953\n",
      "epoch: 03, loss: -0.95466\n",
      "epoch: 04, loss: -0.95818\n",
      "epoch: 05, loss: -0.96085\n",
      "epoch: 06, loss: -0.96292\n",
      "epoch: 07, loss: -0.96460\n",
      "epoch: 08, loss: -0.96604\n",
      "epoch: 09, loss: -0.96723\n",
      "torch.Size([1024, 64])\n"
     ]
    },
    {
     "name": "stderr",
     "output_type": "stream",
     "text": [
      " 16%|█▌        | 158/999 [3:04:21<15:21:38, 65.75s/it]"
     ]
    },
    {
     "name": "stdout",
     "output_type": "stream",
     "text": [
      "eigenvalues shape torch.Size([5]) eigenvectors shape torch.Size([5, 1024])\n",
      "158 /home/phdcs2/Hard_Disk/Datasets/Deep-Spectral-Segmentation/data/object-segmentation/ECSSD/features/0160_resized.pth\n",
      "dict_keys(['k', 'indices', 'file', 'id', 'model_name', 'patch_size', 'shape'])\n",
      "0160_resized\n",
      "Starting Training\n",
      "epoch: 00, loss: -0.89314\n",
      "epoch: 01, loss: -0.93400\n",
      "epoch: 02, loss: -0.94443\n",
      "epoch: 03, loss: -0.95048\n",
      "epoch: 04, loss: -0.95460\n",
      "epoch: 05, loss: -0.95767\n",
      "epoch: 06, loss: -0.96008\n",
      "epoch: 07, loss: -0.96195\n",
      "epoch: 08, loss: -0.96364\n",
      "epoch: 09, loss: -0.96502\n",
      "torch.Size([1024, 64])\n"
     ]
    },
    {
     "name": "stderr",
     "output_type": "stream",
     "text": [
      " 16%|█▌        | 159/999 [3:05:18<14:42:52, 63.06s/it]"
     ]
    },
    {
     "name": "stdout",
     "output_type": "stream",
     "text": [
      "eigenvalues shape torch.Size([5]) eigenvectors shape torch.Size([5, 1024])\n",
      "159 /home/phdcs2/Hard_Disk/Datasets/Deep-Spectral-Segmentation/data/object-segmentation/ECSSD/features/0161_resized.pth\n",
      "dict_keys(['k', 'indices', 'file', 'id', 'model_name', 'patch_size', 'shape'])\n",
      "0161_resized\n",
      "Starting Training\n",
      "epoch: 00, loss: -0.85185\n",
      "epoch: 01, loss: -0.91193\n",
      "epoch: 02, loss: -0.92773\n",
      "epoch: 03, loss: -0.93622\n",
      "epoch: 04, loss: -0.94195\n",
      "epoch: 05, loss: -0.94616\n",
      "epoch: 06, loss: -0.94929\n",
      "epoch: 07, loss: -0.95199\n",
      "epoch: 08, loss: -0.95402\n",
      "epoch: 09, loss: -0.95580\n",
      "torch.Size([1024, 64])\n"
     ]
    },
    {
     "name": "stderr",
     "output_type": "stream",
     "text": [
      " 16%|█▌        | 160/999 [3:06:13<14:06:11, 60.51s/it]"
     ]
    },
    {
     "name": "stdout",
     "output_type": "stream",
     "text": [
      "eigenvalues shape torch.Size([5]) eigenvectors shape torch.Size([5, 1024])\n",
      "160 /home/phdcs2/Hard_Disk/Datasets/Deep-Spectral-Segmentation/data/object-segmentation/ECSSD/features/0162_resized.pth\n",
      "dict_keys(['k', 'indices', 'file', 'id', 'model_name', 'patch_size', 'shape'])\n",
      "0162_resized\n",
      "Starting Training\n",
      "epoch: 00, loss: -0.86091\n",
      "epoch: 01, loss: -0.92001\n",
      "epoch: 02, loss: -0.93378\n",
      "epoch: 03, loss: -0.94184\n",
      "epoch: 04, loss: -0.94708\n",
      "epoch: 05, loss: -0.95082\n",
      "epoch: 06, loss: -0.95373\n",
      "epoch: 07, loss: -0.95616\n",
      "epoch: 08, loss: -0.95826\n",
      "epoch: 09, loss: -0.95999\n",
      "torch.Size([1024, 64])\n"
     ]
    },
    {
     "name": "stderr",
     "output_type": "stream",
     "text": [
      " 16%|█▌        | 161/999 [3:07:23<14:46:17, 63.46s/it]"
     ]
    },
    {
     "name": "stdout",
     "output_type": "stream",
     "text": [
      "eigenvalues shape torch.Size([5]) eigenvectors shape torch.Size([5, 1024])\n",
      "161 /home/phdcs2/Hard_Disk/Datasets/Deep-Spectral-Segmentation/data/object-segmentation/ECSSD/features/0163_resized.pth\n",
      "dict_keys(['k', 'indices', 'file', 'id', 'model_name', 'patch_size', 'shape'])\n",
      "0163_resized\n",
      "Starting Training\n",
      "epoch: 00, loss: -0.91294\n",
      "epoch: 01, loss: -0.94666\n",
      "epoch: 02, loss: -0.95464\n",
      "epoch: 03, loss: -0.95933\n",
      "epoch: 04, loss: -0.96254\n",
      "epoch: 05, loss: -0.96499\n",
      "epoch: 06, loss: -0.96691\n",
      "epoch: 07, loss: -0.96845\n",
      "epoch: 08, loss: -0.96977\n",
      "epoch: 09, loss: -0.97087\n",
      "torch.Size([1024, 64])\n"
     ]
    },
    {
     "name": "stderr",
     "output_type": "stream",
     "text": [
      " 16%|█▌        | 162/999 [3:08:34<15:14:40, 65.57s/it]"
     ]
    },
    {
     "name": "stdout",
     "output_type": "stream",
     "text": [
      "eigenvalues shape torch.Size([5]) eigenvectors shape torch.Size([5, 1024])\n",
      "162 /home/phdcs2/Hard_Disk/Datasets/Deep-Spectral-Segmentation/data/object-segmentation/ECSSD/features/0164_resized.pth\n",
      "dict_keys(['k', 'indices', 'file', 'id', 'model_name', 'patch_size', 'shape'])\n",
      "0164_resized\n"
     ]
    },
    {
     "name": "stderr",
     "output_type": "stream",
     "text": [
      "/home/phdcs2/Hard_Disk/Projects/T2I/deep-spectral-segmentation/venv/lib/python3.8/site-packages/sklearn/decomposition/_pca.py:642: RuntimeWarning: invalid value encountered in divide\n",
      "  self.explained_variance_ratio_ = self.explained_variance_ / total_var\n"
     ]
    },
    {
     "name": "stdout",
     "output_type": "stream",
     "text": [
      "Starting Training\n",
      "epoch: 00, loss: -0.92817\n",
      "epoch: 01, loss: -0.95559\n",
      "epoch: 02, loss: -0.96239\n",
      "epoch: 03, loss: -0.96635\n",
      "epoch: 04, loss: -0.96914\n",
      "epoch: 05, loss: -0.97120\n",
      "epoch: 06, loss: -0.97281\n",
      "epoch: 07, loss: -0.97417\n",
      "epoch: 08, loss: -0.97529\n",
      "epoch: 09, loss: -0.97627\n",
      "torch.Size([1024, 64])\n"
     ]
    },
    {
     "name": "stderr",
     "output_type": "stream",
     "text": [
      " 16%|█▋        | 163/999 [3:09:43<15:28:48, 66.66s/it]"
     ]
    },
    {
     "name": "stdout",
     "output_type": "stream",
     "text": [
      "eigenvalues shape torch.Size([5]) eigenvectors shape torch.Size([5, 1024])\n",
      "163 /home/phdcs2/Hard_Disk/Datasets/Deep-Spectral-Segmentation/data/object-segmentation/ECSSD/features/0165_resized.pth\n",
      "dict_keys(['k', 'indices', 'file', 'id', 'model_name', 'patch_size', 'shape'])\n",
      "0165_resized\n",
      "Starting Training\n",
      "epoch: 00, loss: -0.87185\n",
      "epoch: 01, loss: -0.92556\n",
      "epoch: 02, loss: -0.93891\n",
      "epoch: 03, loss: -0.94621\n",
      "epoch: 04, loss: -0.95113\n",
      "epoch: 05, loss: -0.95480\n",
      "epoch: 06, loss: -0.95753\n",
      "epoch: 07, loss: -0.95983\n",
      "epoch: 08, loss: -0.96170\n",
      "epoch: 09, loss: -0.96317\n",
      "torch.Size([1024, 64])\n"
     ]
    },
    {
     "name": "stderr",
     "output_type": "stream",
     "text": [
      " 16%|█▋        | 164/999 [3:10:50<15:31:15, 66.92s/it]"
     ]
    },
    {
     "name": "stdout",
     "output_type": "stream",
     "text": [
      "eigenvalues shape torch.Size([5]) eigenvectors shape torch.Size([5, 1024])\n",
      "164 /home/phdcs2/Hard_Disk/Datasets/Deep-Spectral-Segmentation/data/object-segmentation/ECSSD/features/0166_resized.pth\n",
      "dict_keys(['k', 'indices', 'file', 'id', 'model_name', 'patch_size', 'shape'])\n",
      "0166_resized\n",
      "Starting Training\n",
      "epoch: 00, loss: -0.88855\n",
      "epoch: 01, loss: -0.93420\n",
      "epoch: 02, loss: -0.94552\n",
      "epoch: 03, loss: -0.95191\n",
      "epoch: 04, loss: -0.95625\n",
      "epoch: 05, loss: -0.95944\n",
      "epoch: 06, loss: -0.96205\n",
      "epoch: 07, loss: -0.96408\n",
      "epoch: 08, loss: -0.96574\n",
      "epoch: 09, loss: -0.96725\n",
      "torch.Size([1024, 64])\n"
     ]
    },
    {
     "name": "stderr",
     "output_type": "stream",
     "text": [
      " 17%|█▋        | 165/999 [3:11:59<15:35:59, 67.34s/it]"
     ]
    },
    {
     "name": "stdout",
     "output_type": "stream",
     "text": [
      "eigenvalues shape torch.Size([5]) eigenvectors shape torch.Size([5, 1024])\n",
      "165 /home/phdcs2/Hard_Disk/Datasets/Deep-Spectral-Segmentation/data/object-segmentation/ECSSD/features/0167_resized.pth\n",
      "dict_keys(['k', 'indices', 'file', 'id', 'model_name', 'patch_size', 'shape'])\n",
      "0167_resized\n",
      "Starting Training\n",
      "epoch: 00, loss: -0.87308\n",
      "epoch: 01, loss: -0.92486\n",
      "epoch: 02, loss: -0.93703\n",
      "epoch: 03, loss: -0.94415\n",
      "epoch: 04, loss: -0.94890\n",
      "epoch: 05, loss: -0.95231\n",
      "epoch: 06, loss: -0.95497\n",
      "epoch: 07, loss: -0.95717\n",
      "epoch: 08, loss: -0.95897\n",
      "epoch: 09, loss: -0.96051\n",
      "torch.Size([1024, 64])\n"
     ]
    },
    {
     "name": "stderr",
     "output_type": "stream",
     "text": [
      " 17%|█▋        | 166/999 [3:13:14<16:06:30, 69.62s/it]"
     ]
    },
    {
     "name": "stdout",
     "output_type": "stream",
     "text": [
      "eigenvalues shape torch.Size([5]) eigenvectors shape torch.Size([5, 1024])\n",
      "166 /home/phdcs2/Hard_Disk/Datasets/Deep-Spectral-Segmentation/data/object-segmentation/ECSSD/features/0168_resized.pth\n",
      "dict_keys(['k', 'indices', 'file', 'id', 'model_name', 'patch_size', 'shape'])\n",
      "0168_resized\n",
      "Starting Training\n",
      "epoch: 00, loss: -0.85787\n",
      "epoch: 01, loss: -0.91271\n",
      "epoch: 02, loss: -0.92787\n",
      "epoch: 03, loss: -0.93680\n",
      "epoch: 04, loss: -0.94277\n",
      "epoch: 05, loss: -0.94721\n",
      "epoch: 06, loss: -0.95041\n",
      "epoch: 07, loss: -0.95304\n",
      "epoch: 08, loss: -0.95532\n",
      "epoch: 09, loss: -0.95719\n",
      "torch.Size([1024, 64])\n"
     ]
    },
    {
     "name": "stderr",
     "output_type": "stream",
     "text": [
      " 17%|█▋        | 167/999 [3:14:29<16:27:50, 71.24s/it]"
     ]
    },
    {
     "name": "stdout",
     "output_type": "stream",
     "text": [
      "eigenvalues shape torch.Size([5]) eigenvectors shape torch.Size([5, 1024])\n",
      "167 /home/phdcs2/Hard_Disk/Datasets/Deep-Spectral-Segmentation/data/object-segmentation/ECSSD/features/0169_resized.pth\n",
      "dict_keys(['k', 'indices', 'file', 'id', 'model_name', 'patch_size', 'shape'])\n",
      "0169_resized\n",
      "Starting Training\n",
      "epoch: 00, loss: -0.86903\n",
      "epoch: 01, loss: -0.92240\n",
      "epoch: 02, loss: -0.93626\n",
      "epoch: 03, loss: -0.94405\n",
      "epoch: 04, loss: -0.94923\n",
      "epoch: 05, loss: -0.95304\n",
      "epoch: 06, loss: -0.95596\n",
      "epoch: 07, loss: -0.95831\n",
      "epoch: 08, loss: -0.96028\n",
      "epoch: 09, loss: -0.96198\n",
      "torch.Size([1024, 64])\n"
     ]
    },
    {
     "name": "stderr",
     "output_type": "stream",
     "text": [
      " 17%|█▋        | 168/999 [3:15:41<16:31:23, 71.58s/it]"
     ]
    },
    {
     "name": "stdout",
     "output_type": "stream",
     "text": [
      "eigenvalues shape torch.Size([5]) eigenvectors shape torch.Size([5, 1024])\n",
      "168 /home/phdcs2/Hard_Disk/Datasets/Deep-Spectral-Segmentation/data/object-segmentation/ECSSD/features/0170_resized.pth\n",
      "dict_keys(['k', 'indices', 'file', 'id', 'model_name', 'patch_size', 'shape'])\n",
      "0170_resized\n"
     ]
    },
    {
     "name": "stderr",
     "output_type": "stream",
     "text": [
      "/home/phdcs2/Hard_Disk/Projects/T2I/deep-spectral-segmentation/venv/lib/python3.8/site-packages/sklearn/decomposition/_pca.py:642: RuntimeWarning: invalid value encountered in divide\n",
      "  self.explained_variance_ratio_ = self.explained_variance_ / total_var\n"
     ]
    },
    {
     "name": "stdout",
     "output_type": "stream",
     "text": [
      "Starting Training\n",
      "epoch: 00, loss: -0.91971\n",
      "epoch: 01, loss: -0.94985\n",
      "epoch: 02, loss: -0.95723\n",
      "epoch: 03, loss: -0.96157\n",
      "epoch: 04, loss: -0.96456\n",
      "epoch: 05, loss: -0.96684\n",
      "epoch: 06, loss: -0.96859\n",
      "epoch: 07, loss: -0.97003\n",
      "epoch: 08, loss: -0.97129\n",
      "epoch: 09, loss: -0.97230\n",
      "torch.Size([1024, 64])\n"
     ]
    },
    {
     "name": "stderr",
     "output_type": "stream",
     "text": [
      " 17%|█▋        | 169/999 [3:16:53<16:33:37, 71.83s/it]"
     ]
    },
    {
     "name": "stdout",
     "output_type": "stream",
     "text": [
      "eigenvalues shape torch.Size([5]) eigenvectors shape torch.Size([5, 1024])\n",
      "169 /home/phdcs2/Hard_Disk/Datasets/Deep-Spectral-Segmentation/data/object-segmentation/ECSSD/features/0171_resized.pth\n",
      "dict_keys(['k', 'indices', 'file', 'id', 'model_name', 'patch_size', 'shape'])\n",
      "0171_resized\n",
      "Starting Training\n",
      "epoch: 00, loss: -0.91472\n",
      "epoch: 01, loss: -0.94497\n",
      "epoch: 02, loss: -0.95285\n",
      "epoch: 03, loss: -0.95757\n",
      "epoch: 04, loss: -0.96081\n",
      "epoch: 05, loss: -0.96324\n",
      "epoch: 06, loss: -0.96515\n",
      "epoch: 07, loss: -0.96672\n",
      "epoch: 08, loss: -0.96806\n",
      "epoch: 09, loss: -0.96916\n",
      "torch.Size([1024, 64])\n"
     ]
    },
    {
     "name": "stderr",
     "output_type": "stream",
     "text": [
      " 17%|█▋        | 170/999 [3:18:00<16:10:30, 70.24s/it]"
     ]
    },
    {
     "name": "stdout",
     "output_type": "stream",
     "text": [
      "eigenvalues shape torch.Size([5]) eigenvectors shape torch.Size([5, 1024])\n",
      "170 /home/phdcs2/Hard_Disk/Datasets/Deep-Spectral-Segmentation/data/object-segmentation/ECSSD/features/0172_resized.pth\n",
      "dict_keys(['k', 'indices', 'file', 'id', 'model_name', 'patch_size', 'shape'])\n",
      "0172_resized\n"
     ]
    },
    {
     "name": "stderr",
     "output_type": "stream",
     "text": [
      "/home/phdcs2/Hard_Disk/Projects/T2I/deep-spectral-segmentation/venv/lib/python3.8/site-packages/sklearn/decomposition/_pca.py:642: RuntimeWarning: invalid value encountered in divide\n",
      "  self.explained_variance_ratio_ = self.explained_variance_ / total_var\n"
     ]
    },
    {
     "name": "stdout",
     "output_type": "stream",
     "text": [
      "Starting Training\n",
      "epoch: 00, loss: -0.92343\n",
      "epoch: 01, loss: -0.95495\n",
      "epoch: 02, loss: -0.96225\n",
      "epoch: 03, loss: -0.96645\n",
      "epoch: 04, loss: -0.96931\n",
      "epoch: 05, loss: -0.97145\n",
      "epoch: 06, loss: -0.97313\n",
      "epoch: 07, loss: -0.97450\n",
      "epoch: 08, loss: -0.97564\n",
      "epoch: 09, loss: -0.97662\n",
      "torch.Size([1024, 64])\n"
     ]
    },
    {
     "name": "stderr",
     "output_type": "stream",
     "text": [
      " 17%|█▋        | 171/999 [3:19:17<16:37:59, 72.32s/it]"
     ]
    },
    {
     "name": "stdout",
     "output_type": "stream",
     "text": [
      "eigenvalues shape torch.Size([5]) eigenvectors shape torch.Size([5, 1024])\n",
      "171 /home/phdcs2/Hard_Disk/Datasets/Deep-Spectral-Segmentation/data/object-segmentation/ECSSD/features/0173_resized.pth\n",
      "dict_keys(['k', 'indices', 'file', 'id', 'model_name', 'patch_size', 'shape'])\n",
      "0173_resized\n"
     ]
    },
    {
     "name": "stderr",
     "output_type": "stream",
     "text": [
      "/home/phdcs2/Hard_Disk/Projects/T2I/deep-spectral-segmentation/venv/lib/python3.8/site-packages/sklearn/decomposition/_pca.py:642: RuntimeWarning: invalid value encountered in divide\n",
      "  self.explained_variance_ratio_ = self.explained_variance_ / total_var\n"
     ]
    },
    {
     "name": "stdout",
     "output_type": "stream",
     "text": [
      "Starting Training\n",
      "epoch: 00, loss: -0.93181\n",
      "epoch: 01, loss: -0.95824\n",
      "epoch: 02, loss: -0.96418\n",
      "epoch: 03, loss: -0.96767\n",
      "epoch: 04, loss: -0.97004\n",
      "epoch: 05, loss: -0.97181\n",
      "epoch: 06, loss: -0.97319\n",
      "epoch: 07, loss: -0.97435\n",
      "epoch: 08, loss: -0.97529\n",
      "epoch: 09, loss: -0.97615\n",
      "torch.Size([1024, 64])\n"
     ]
    },
    {
     "name": "stderr",
     "output_type": "stream",
     "text": [
      " 17%|█▋        | 172/999 [3:20:29<16:35:59, 72.26s/it]"
     ]
    },
    {
     "name": "stdout",
     "output_type": "stream",
     "text": [
      "eigenvalues shape torch.Size([5]) eigenvectors shape torch.Size([5, 1024])\n",
      "172 /home/phdcs2/Hard_Disk/Datasets/Deep-Spectral-Segmentation/data/object-segmentation/ECSSD/features/0174_resized.pth\n",
      "dict_keys(['k', 'indices', 'file', 'id', 'model_name', 'patch_size', 'shape'])\n",
      "0174_resized\n"
     ]
    },
    {
     "name": "stderr",
     "output_type": "stream",
     "text": [
      "/home/phdcs2/Hard_Disk/Projects/T2I/deep-spectral-segmentation/venv/lib/python3.8/site-packages/sklearn/decomposition/_pca.py:642: RuntimeWarning: invalid value encountered in divide\n",
      "  self.explained_variance_ratio_ = self.explained_variance_ / total_var\n"
     ]
    },
    {
     "name": "stdout",
     "output_type": "stream",
     "text": [
      "Starting Training\n",
      "epoch: 00, loss: -0.91964\n",
      "epoch: 01, loss: -0.94963\n",
      "epoch: 02, loss: -0.95748\n",
      "epoch: 03, loss: -0.96206\n",
      "epoch: 04, loss: -0.96522\n",
      "epoch: 05, loss: -0.96756\n",
      "epoch: 06, loss: -0.96944\n",
      "epoch: 07, loss: -0.97091\n",
      "epoch: 08, loss: -0.97218\n",
      "epoch: 09, loss: -0.97325\n",
      "torch.Size([1024, 64])\n"
     ]
    },
    {
     "name": "stderr",
     "output_type": "stream",
     "text": [
      " 17%|█▋        | 173/999 [3:21:42<16:38:30, 72.53s/it]"
     ]
    },
    {
     "name": "stdout",
     "output_type": "stream",
     "text": [
      "eigenvalues shape torch.Size([5]) eigenvectors shape torch.Size([5, 1024])\n",
      "173 /home/phdcs2/Hard_Disk/Datasets/Deep-Spectral-Segmentation/data/object-segmentation/ECSSD/features/0175_resized.pth\n",
      "dict_keys(['k', 'indices', 'file', 'id', 'model_name', 'patch_size', 'shape'])\n",
      "0175_resized\n",
      "Starting Training\n",
      "epoch: 00, loss: -0.87331\n",
      "epoch: 01, loss: -0.92562\n",
      "epoch: 02, loss: -0.93875\n",
      "epoch: 03, loss: -0.94610\n",
      "epoch: 04, loss: -0.95099\n",
      "epoch: 05, loss: -0.95458\n",
      "epoch: 06, loss: -0.95744\n",
      "epoch: 07, loss: -0.95966\n",
      "epoch: 08, loss: -0.96152\n",
      "epoch: 09, loss: -0.96310\n",
      "torch.Size([1024, 64])\n"
     ]
    },
    {
     "name": "stderr",
     "output_type": "stream",
     "text": [
      " 17%|█▋        | 174/999 [3:22:59<16:54:17, 73.77s/it]"
     ]
    },
    {
     "name": "stdout",
     "output_type": "stream",
     "text": [
      "eigenvalues shape torch.Size([5]) eigenvectors shape torch.Size([5, 1024])\n",
      "174 /home/phdcs2/Hard_Disk/Datasets/Deep-Spectral-Segmentation/data/object-segmentation/ECSSD/features/0176_resized.pth\n",
      "dict_keys(['k', 'indices', 'file', 'id', 'model_name', 'patch_size', 'shape'])\n",
      "0176_resized\n",
      "Starting Training\n",
      "epoch: 00, loss: -0.92285\n",
      "epoch: 01, loss: -0.95237\n",
      "epoch: 02, loss: -0.95950\n",
      "epoch: 03, loss: -0.96369\n",
      "epoch: 04, loss: -0.96657\n",
      "epoch: 05, loss: -0.96872\n",
      "epoch: 06, loss: -0.97041\n",
      "epoch: 07, loss: -0.97181\n",
      "epoch: 08, loss: -0.97300\n",
      "epoch: 09, loss: -0.97397\n",
      "torch.Size([1024, 64])\n"
     ]
    },
    {
     "name": "stderr",
     "output_type": "stream",
     "text": [
      " 18%|█▊        | 175/999 [3:24:10<16:42:06, 72.97s/it]"
     ]
    },
    {
     "name": "stdout",
     "output_type": "stream",
     "text": [
      "eigenvalues shape torch.Size([5]) eigenvectors shape torch.Size([5, 1024])\n",
      "175 /home/phdcs2/Hard_Disk/Datasets/Deep-Spectral-Segmentation/data/object-segmentation/ECSSD/features/0177_resized.pth\n",
      "dict_keys(['k', 'indices', 'file', 'id', 'model_name', 'patch_size', 'shape'])\n",
      "0177_resized\n",
      "Starting Training\n",
      "epoch: 00, loss: -0.86633\n",
      "epoch: 01, loss: -0.91971\n",
      "epoch: 02, loss: -0.93392\n",
      "epoch: 03, loss: -0.94195\n",
      "epoch: 04, loss: -0.94756\n",
      "epoch: 05, loss: -0.95162\n",
      "epoch: 06, loss: -0.95468\n",
      "epoch: 07, loss: -0.95707\n",
      "epoch: 08, loss: -0.95915\n",
      "epoch: 09, loss: -0.96089\n",
      "torch.Size([1024, 64])\n"
     ]
    },
    {
     "name": "stderr",
     "output_type": "stream",
     "text": [
      " 18%|█▊        | 176/999 [3:25:22<16:36:43, 72.67s/it]"
     ]
    },
    {
     "name": "stdout",
     "output_type": "stream",
     "text": [
      "eigenvalues shape torch.Size([5]) eigenvectors shape torch.Size([5, 1024])\n",
      "176 /home/phdcs2/Hard_Disk/Datasets/Deep-Spectral-Segmentation/data/object-segmentation/ECSSD/features/0178_resized.pth\n",
      "dict_keys(['k', 'indices', 'file', 'id', 'model_name', 'patch_size', 'shape'])\n",
      "0178_resized\n"
     ]
    },
    {
     "name": "stderr",
     "output_type": "stream",
     "text": [
      "/home/phdcs2/Hard_Disk/Projects/T2I/deep-spectral-segmentation/venv/lib/python3.8/site-packages/sklearn/decomposition/_pca.py:642: RuntimeWarning: invalid value encountered in divide\n",
      "  self.explained_variance_ratio_ = self.explained_variance_ / total_var\n"
     ]
    },
    {
     "name": "stdout",
     "output_type": "stream",
     "text": [
      "Starting Training\n",
      "epoch: 00, loss: -0.92273\n",
      "epoch: 01, loss: -0.95309\n",
      "epoch: 02, loss: -0.96065\n",
      "epoch: 03, loss: -0.96496\n",
      "epoch: 04, loss: -0.96794\n",
      "epoch: 05, loss: -0.97013\n",
      "epoch: 06, loss: -0.97186\n",
      "epoch: 07, loss: -0.97326\n",
      "epoch: 08, loss: -0.97441\n",
      "epoch: 09, loss: -0.97540\n",
      "torch.Size([1024, 64])\n"
     ]
    },
    {
     "name": "stderr",
     "output_type": "stream",
     "text": [
      " 18%|█▊        | 177/999 [3:26:28<16:07:06, 70.59s/it]"
     ]
    },
    {
     "name": "stdout",
     "output_type": "stream",
     "text": [
      "eigenvalues shape torch.Size([5]) eigenvectors shape torch.Size([5, 1024])\n",
      "177 /home/phdcs2/Hard_Disk/Datasets/Deep-Spectral-Segmentation/data/object-segmentation/ECSSD/features/0179_resized.pth\n",
      "dict_keys(['k', 'indices', 'file', 'id', 'model_name', 'patch_size', 'shape'])\n",
      "0179_resized\n",
      "Starting Training\n",
      "epoch: 00, loss: -0.86705\n",
      "epoch: 01, loss: -0.91734\n",
      "epoch: 02, loss: -0.93126\n",
      "epoch: 03, loss: -0.93909\n",
      "epoch: 04, loss: -0.94448\n",
      "epoch: 05, loss: -0.94843\n",
      "epoch: 06, loss: -0.95144\n",
      "epoch: 07, loss: -0.95386\n",
      "epoch: 08, loss: -0.95585\n",
      "epoch: 09, loss: -0.95767\n",
      "torch.Size([1024, 64])\n"
     ]
    },
    {
     "name": "stderr",
     "output_type": "stream",
     "text": [
      " 18%|█▊        | 178/999 [3:27:37<16:01:29, 70.27s/it]"
     ]
    },
    {
     "name": "stdout",
     "output_type": "stream",
     "text": [
      "eigenvalues shape torch.Size([5]) eigenvectors shape torch.Size([5, 1024])\n",
      "178 /home/phdcs2/Hard_Disk/Datasets/Deep-Spectral-Segmentation/data/object-segmentation/ECSSD/features/0180_resized.pth\n",
      "dict_keys(['k', 'indices', 'file', 'id', 'model_name', 'patch_size', 'shape'])\n",
      "0180_resized\n"
     ]
    },
    {
     "name": "stderr",
     "output_type": "stream",
     "text": [
      "/home/phdcs2/Hard_Disk/Projects/T2I/deep-spectral-segmentation/venv/lib/python3.8/site-packages/sklearn/decomposition/_pca.py:642: RuntimeWarning: invalid value encountered in divide\n",
      "  self.explained_variance_ratio_ = self.explained_variance_ / total_var\n"
     ]
    },
    {
     "name": "stdout",
     "output_type": "stream",
     "text": [
      "Starting Training\n",
      "epoch: 00, loss: -0.92032\n",
      "epoch: 01, loss: -0.95387\n",
      "epoch: 02, loss: -0.96069\n",
      "epoch: 03, loss: -0.96470\n",
      "epoch: 04, loss: -0.96743\n",
      "epoch: 05, loss: -0.96950\n",
      "epoch: 06, loss: -0.97112\n",
      "epoch: 07, loss: -0.97245\n",
      "epoch: 08, loss: -0.97358\n",
      "epoch: 09, loss: -0.97453\n",
      "torch.Size([1024, 64])\n"
     ]
    },
    {
     "name": "stderr",
     "output_type": "stream",
     "text": [
      " 18%|█▊        | 179/999 [3:28:44<15:45:22, 69.17s/it]"
     ]
    },
    {
     "name": "stdout",
     "output_type": "stream",
     "text": [
      "eigenvalues shape torch.Size([5]) eigenvectors shape torch.Size([5, 1024])\n",
      "179 /home/phdcs2/Hard_Disk/Datasets/Deep-Spectral-Segmentation/data/object-segmentation/ECSSD/features/0181_resized.pth\n",
      "dict_keys(['k', 'indices', 'file', 'id', 'model_name', 'patch_size', 'shape'])\n",
      "0181_resized\n"
     ]
    },
    {
     "name": "stderr",
     "output_type": "stream",
     "text": [
      "/home/phdcs2/Hard_Disk/Projects/T2I/deep-spectral-segmentation/venv/lib/python3.8/site-packages/sklearn/decomposition/_pca.py:642: RuntimeWarning: invalid value encountered in divide\n",
      "  self.explained_variance_ratio_ = self.explained_variance_ / total_var\n"
     ]
    },
    {
     "name": "stdout",
     "output_type": "stream",
     "text": [
      "Starting Training\n",
      "epoch: 00, loss: -0.90566\n",
      "epoch: 01, loss: -0.94096\n",
      "epoch: 02, loss: -0.95021\n",
      "epoch: 03, loss: -0.95559\n",
      "epoch: 04, loss: -0.95929\n",
      "epoch: 05, loss: -0.96207\n",
      "epoch: 06, loss: -0.96424\n",
      "epoch: 07, loss: -0.96600\n",
      "epoch: 08, loss: -0.96748\n",
      "epoch: 09, loss: -0.96876\n",
      "torch.Size([1024, 64])\n"
     ]
    },
    {
     "name": "stderr",
     "output_type": "stream",
     "text": [
      " 18%|█▊        | 180/999 [3:29:49<15:27:06, 67.92s/it]"
     ]
    },
    {
     "name": "stdout",
     "output_type": "stream",
     "text": [
      "eigenvalues shape torch.Size([5]) eigenvectors shape torch.Size([5, 1024])\n",
      "180 /home/phdcs2/Hard_Disk/Datasets/Deep-Spectral-Segmentation/data/object-segmentation/ECSSD/features/0182_resized.pth\n",
      "dict_keys(['k', 'indices', 'file', 'id', 'model_name', 'patch_size', 'shape'])\n",
      "0182_resized\n",
      "Starting Training\n",
      "epoch: 00, loss: -0.89168\n",
      "epoch: 01, loss: -0.93633\n",
      "epoch: 02, loss: -0.94723\n",
      "epoch: 03, loss: -0.95341\n",
      "epoch: 04, loss: -0.95747\n",
      "epoch: 05, loss: -0.96043\n",
      "epoch: 06, loss: -0.96293\n",
      "epoch: 07, loss: -0.96481\n",
      "epoch: 08, loss: -0.96645\n",
      "epoch: 09, loss: -0.96770\n",
      "torch.Size([1024, 64])\n"
     ]
    },
    {
     "name": "stderr",
     "output_type": "stream",
     "text": [
      " 18%|█▊        | 181/999 [3:30:49<14:55:50, 65.71s/it]"
     ]
    },
    {
     "name": "stdout",
     "output_type": "stream",
     "text": [
      "eigenvalues shape torch.Size([5]) eigenvectors shape torch.Size([5, 1024])\n",
      "181 /home/phdcs2/Hard_Disk/Datasets/Deep-Spectral-Segmentation/data/object-segmentation/ECSSD/features/0183_resized.pth\n",
      "dict_keys(['k', 'indices', 'file', 'id', 'model_name', 'patch_size', 'shape'])\n",
      "0183_resized\n"
     ]
    },
    {
     "name": "stderr",
     "output_type": "stream",
     "text": [
      "/home/phdcs2/Hard_Disk/Projects/T2I/deep-spectral-segmentation/venv/lib/python3.8/site-packages/sklearn/decomposition/_pca.py:642: RuntimeWarning: invalid value encountered in divide\n",
      "  self.explained_variance_ratio_ = self.explained_variance_ / total_var\n"
     ]
    },
    {
     "name": "stdout",
     "output_type": "stream",
     "text": [
      "Starting Training\n",
      "epoch: 00, loss: -0.92528\n",
      "epoch: 01, loss: -0.95515\n",
      "epoch: 02, loss: -0.96229\n",
      "epoch: 03, loss: -0.96639\n",
      "epoch: 04, loss: -0.96917\n",
      "epoch: 05, loss: -0.97126\n",
      "epoch: 06, loss: -0.97283\n",
      "epoch: 07, loss: -0.97416\n",
      "epoch: 08, loss: -0.97526\n",
      "epoch: 09, loss: -0.97620\n",
      "torch.Size([1024, 64])\n"
     ]
    },
    {
     "name": "stderr",
     "output_type": "stream",
     "text": [
      " 18%|█▊        | 182/999 [3:31:47<14:22:45, 63.36s/it]"
     ]
    },
    {
     "name": "stdout",
     "output_type": "stream",
     "text": [
      "eigenvalues shape torch.Size([5]) eigenvectors shape torch.Size([5, 1024])\n",
      "182 /home/phdcs2/Hard_Disk/Datasets/Deep-Spectral-Segmentation/data/object-segmentation/ECSSD/features/0184_resized.pth\n",
      "dict_keys(['k', 'indices', 'file', 'id', 'model_name', 'patch_size', 'shape'])\n",
      "0184_resized\n"
     ]
    },
    {
     "name": "stderr",
     "output_type": "stream",
     "text": [
      "/home/phdcs2/Hard_Disk/Projects/T2I/deep-spectral-segmentation/venv/lib/python3.8/site-packages/sklearn/decomposition/_pca.py:642: RuntimeWarning: invalid value encountered in divide\n",
      "  self.explained_variance_ratio_ = self.explained_variance_ / total_var\n"
     ]
    },
    {
     "name": "stdout",
     "output_type": "stream",
     "text": [
      "Starting Training\n",
      "epoch: 00, loss: -0.92807\n",
      "epoch: 01, loss: -0.95405\n",
      "epoch: 02, loss: -0.96027\n",
      "epoch: 03, loss: -0.96384\n",
      "epoch: 04, loss: -0.96637\n",
      "epoch: 05, loss: -0.96830\n",
      "epoch: 06, loss: -0.96985\n",
      "epoch: 07, loss: -0.97104\n",
      "epoch: 08, loss: -0.97207\n",
      "epoch: 09, loss: -0.97300\n",
      "torch.Size([1024, 64])\n"
     ]
    },
    {
     "name": "stderr",
     "output_type": "stream",
     "text": [
      " 18%|█▊        | 183/999 [3:32:41<13:42:45, 60.50s/it]"
     ]
    },
    {
     "name": "stdout",
     "output_type": "stream",
     "text": [
      "eigenvalues shape torch.Size([5]) eigenvectors shape torch.Size([5, 1024])\n",
      "183 /home/phdcs2/Hard_Disk/Datasets/Deep-Spectral-Segmentation/data/object-segmentation/ECSSD/features/0185_resized.pth\n",
      "dict_keys(['k', 'indices', 'file', 'id', 'model_name', 'patch_size', 'shape'])\n",
      "0185_resized\n",
      "Starting Training\n",
      "epoch: 00, loss: -0.87884\n",
      "epoch: 01, loss: -0.92889\n",
      "epoch: 02, loss: -0.94136\n",
      "epoch: 03, loss: -0.94833\n",
      "epoch: 04, loss: -0.95321\n",
      "epoch: 05, loss: -0.95665\n",
      "epoch: 06, loss: -0.95928\n",
      "epoch: 07, loss: -0.96160\n",
      "epoch: 08, loss: -0.96334\n",
      "epoch: 09, loss: -0.96481\n",
      "torch.Size([1024, 64])\n"
     ]
    },
    {
     "name": "stderr",
     "output_type": "stream",
     "text": [
      " 18%|█▊        | 184/999 [3:33:50<14:14:27, 62.90s/it]"
     ]
    },
    {
     "name": "stdout",
     "output_type": "stream",
     "text": [
      "eigenvalues shape torch.Size([5]) eigenvectors shape torch.Size([5, 1024])\n",
      "184 /home/phdcs2/Hard_Disk/Datasets/Deep-Spectral-Segmentation/data/object-segmentation/ECSSD/features/0186_resized.pth\n",
      "dict_keys(['k', 'indices', 'file', 'id', 'model_name', 'patch_size', 'shape'])\n",
      "0186_resized\n",
      "Starting Training\n",
      "epoch: 00, loss: -0.86592\n",
      "epoch: 01, loss: -0.92087\n",
      "epoch: 02, loss: -0.93483\n",
      "epoch: 03, loss: -0.94301\n",
      "epoch: 04, loss: -0.94832\n",
      "epoch: 05, loss: -0.95230\n",
      "epoch: 06, loss: -0.95523\n",
      "epoch: 07, loss: -0.95755\n",
      "epoch: 08, loss: -0.95967\n",
      "epoch: 09, loss: -0.96133\n",
      "torch.Size([1024, 64])\n"
     ]
    },
    {
     "name": "stderr",
     "output_type": "stream",
     "text": [
      " 19%|█▊        | 185/999 [3:35:01<14:49:21, 65.56s/it]"
     ]
    },
    {
     "name": "stdout",
     "output_type": "stream",
     "text": [
      "eigenvalues shape torch.Size([5]) eigenvectors shape torch.Size([5, 1024])\n",
      "185 /home/phdcs2/Hard_Disk/Datasets/Deep-Spectral-Segmentation/data/object-segmentation/ECSSD/features/0187_resized.pth\n",
      "dict_keys(['k', 'indices', 'file', 'id', 'model_name', 'patch_size', 'shape'])\n",
      "0187_resized\n",
      "Starting Training\n",
      "epoch: 00, loss: -0.83843\n",
      "epoch: 01, loss: -0.90082\n",
      "epoch: 02, loss: -0.91792\n",
      "epoch: 03, loss: -0.92793\n",
      "epoch: 04, loss: -0.93472\n",
      "epoch: 05, loss: -0.93982\n",
      "epoch: 06, loss: -0.94364\n",
      "epoch: 07, loss: -0.94651\n",
      "epoch: 08, loss: -0.94893\n",
      "epoch: 09, loss: -0.95110\n",
      "torch.Size([1024, 64])\n"
     ]
    },
    {
     "name": "stderr",
     "output_type": "stream",
     "text": [
      " 19%|█▊        | 186/999 [3:36:24<15:56:40, 70.60s/it]"
     ]
    },
    {
     "name": "stdout",
     "output_type": "stream",
     "text": [
      "eigenvalues shape torch.Size([5]) eigenvectors shape torch.Size([5, 1024])\n",
      "186 /home/phdcs2/Hard_Disk/Datasets/Deep-Spectral-Segmentation/data/object-segmentation/ECSSD/features/0188_resized.pth\n",
      "dict_keys(['k', 'indices', 'file', 'id', 'model_name', 'patch_size', 'shape'])\n",
      "0188_resized\n",
      "Starting Training\n",
      "epoch: 00, loss: -0.87334\n",
      "epoch: 01, loss: -0.92406\n",
      "epoch: 02, loss: -0.93715\n",
      "epoch: 03, loss: -0.94510\n",
      "epoch: 04, loss: -0.94994\n",
      "epoch: 05, loss: -0.95372\n",
      "epoch: 06, loss: -0.95662\n",
      "epoch: 07, loss: -0.95894\n",
      "epoch: 08, loss: -0.96084\n",
      "epoch: 09, loss: -0.96250\n",
      "torch.Size([1024, 64])\n"
     ]
    },
    {
     "name": "stderr",
     "output_type": "stream",
     "text": [
      " 19%|█▊        | 187/999 [3:37:45<16:37:53, 73.74s/it]"
     ]
    },
    {
     "name": "stdout",
     "output_type": "stream",
     "text": [
      "eigenvalues shape torch.Size([5]) eigenvectors shape torch.Size([5, 1024])\n",
      "187 /home/phdcs2/Hard_Disk/Datasets/Deep-Spectral-Segmentation/data/object-segmentation/ECSSD/features/0189_resized.pth\n",
      "dict_keys(['k', 'indices', 'file', 'id', 'model_name', 'patch_size', 'shape'])\n",
      "0189_resized\n",
      "Starting Training\n",
      "epoch: 00, loss: -0.86306\n",
      "epoch: 01, loss: -0.91629\n",
      "epoch: 02, loss: -0.92928\n",
      "epoch: 03, loss: -0.93659\n",
      "epoch: 04, loss: -0.94160\n",
      "epoch: 05, loss: -0.94525\n",
      "epoch: 06, loss: -0.94810\n",
      "epoch: 07, loss: -0.95024\n",
      "epoch: 08, loss: -0.95215\n",
      "epoch: 09, loss: -0.95373\n",
      "torch.Size([1024, 64])\n"
     ]
    },
    {
     "name": "stderr",
     "output_type": "stream",
     "text": [
      " 19%|█▉        | 188/999 [3:38:57<16:30:55, 73.31s/it]"
     ]
    },
    {
     "name": "stdout",
     "output_type": "stream",
     "text": [
      "eigenvalues shape torch.Size([5]) eigenvectors shape torch.Size([5, 1024])\n",
      "188 /home/phdcs2/Hard_Disk/Datasets/Deep-Spectral-Segmentation/data/object-segmentation/ECSSD/features/0190_resized.pth\n",
      "dict_keys(['k', 'indices', 'file', 'id', 'model_name', 'patch_size', 'shape'])\n",
      "0190_resized\n"
     ]
    },
    {
     "name": "stderr",
     "output_type": "stream",
     "text": [
      "/home/phdcs2/Hard_Disk/Projects/T2I/deep-spectral-segmentation/venv/lib/python3.8/site-packages/sklearn/decomposition/_pca.py:642: RuntimeWarning: invalid value encountered in divide\n",
      "  self.explained_variance_ratio_ = self.explained_variance_ / total_var\n"
     ]
    },
    {
     "name": "stdout",
     "output_type": "stream",
     "text": [
      "Starting Training\n",
      "epoch: 00, loss: -0.93359\n",
      "epoch: 01, loss: -0.95918\n",
      "epoch: 02, loss: -0.96522\n",
      "epoch: 03, loss: -0.96881\n",
      "epoch: 04, loss: -0.97125\n",
      "epoch: 05, loss: -0.97307\n",
      "epoch: 06, loss: -0.97455\n",
      "epoch: 07, loss: -0.97570\n",
      "epoch: 08, loss: -0.97671\n",
      "epoch: 09, loss: -0.97754\n",
      "torch.Size([1024, 64])\n"
     ]
    },
    {
     "name": "stderr",
     "output_type": "stream",
     "text": [
      " 19%|█▉        | 189/999 [3:40:15<16:46:07, 74.53s/it]"
     ]
    },
    {
     "name": "stdout",
     "output_type": "stream",
     "text": [
      "eigenvalues shape torch.Size([5]) eigenvectors shape torch.Size([5, 1024])\n",
      "189 /home/phdcs2/Hard_Disk/Datasets/Deep-Spectral-Segmentation/data/object-segmentation/ECSSD/features/0191_resized.pth\n",
      "dict_keys(['k', 'indices', 'file', 'id', 'model_name', 'patch_size', 'shape'])\n",
      "0191_resized\n",
      "Starting Training\n",
      "epoch: 00, loss: -0.93297\n",
      "epoch: 01, loss: -0.96089\n",
      "epoch: 02, loss: -0.96701\n",
      "epoch: 03, loss: -0.97059\n",
      "epoch: 04, loss: -0.97303\n",
      "epoch: 05, loss: -0.97485\n",
      "epoch: 06, loss: -0.97630\n",
      "epoch: 07, loss: -0.97746\n",
      "epoch: 08, loss: -0.97844\n",
      "epoch: 09, loss: -0.97928\n",
      "torch.Size([1024, 64])\n"
     ]
    },
    {
     "name": "stderr",
     "output_type": "stream",
     "text": [
      " 19%|█▉        | 190/999 [3:41:41<17:31:39, 78.00s/it]"
     ]
    },
    {
     "name": "stdout",
     "output_type": "stream",
     "text": [
      "eigenvalues shape torch.Size([5]) eigenvectors shape torch.Size([5, 1024])\n",
      "190 /home/phdcs2/Hard_Disk/Datasets/Deep-Spectral-Segmentation/data/object-segmentation/ECSSD/features/0192_resized.pth\n",
      "dict_keys(['k', 'indices', 'file', 'id', 'model_name', 'patch_size', 'shape'])\n",
      "0192_resized\n"
     ]
    },
    {
     "name": "stderr",
     "output_type": "stream",
     "text": [
      "/home/phdcs2/Hard_Disk/Projects/T2I/deep-spectral-segmentation/venv/lib/python3.8/site-packages/sklearn/decomposition/_pca.py:642: RuntimeWarning: invalid value encountered in divide\n",
      "  self.explained_variance_ratio_ = self.explained_variance_ / total_var\n"
     ]
    },
    {
     "name": "stdout",
     "output_type": "stream",
     "text": [
      "Starting Training\n",
      "epoch: 00, loss: -0.93197\n",
      "epoch: 01, loss: -0.95948\n",
      "epoch: 02, loss: -0.96569\n",
      "epoch: 03, loss: -0.96922\n",
      "epoch: 04, loss: -0.97166\n",
      "epoch: 05, loss: -0.97347\n",
      "epoch: 06, loss: -0.97489\n",
      "epoch: 07, loss: -0.97607\n",
      "epoch: 08, loss: -0.97702\n",
      "epoch: 09, loss: -0.97785\n",
      "torch.Size([1024, 64])\n"
     ]
    },
    {
     "name": "stderr",
     "output_type": "stream",
     "text": [
      " 19%|█▉        | 191/999 [3:42:55<17:16:05, 76.94s/it]"
     ]
    },
    {
     "name": "stdout",
     "output_type": "stream",
     "text": [
      "eigenvalues shape torch.Size([5]) eigenvectors shape torch.Size([5, 1024])\n",
      "191 /home/phdcs2/Hard_Disk/Datasets/Deep-Spectral-Segmentation/data/object-segmentation/ECSSD/features/0193_resized.pth\n",
      "dict_keys(['k', 'indices', 'file', 'id', 'model_name', 'patch_size', 'shape'])\n",
      "0193_resized\n"
     ]
    },
    {
     "name": "stderr",
     "output_type": "stream",
     "text": [
      "/home/phdcs2/Hard_Disk/Projects/T2I/deep-spectral-segmentation/venv/lib/python3.8/site-packages/sklearn/decomposition/_pca.py:642: RuntimeWarning: invalid value encountered in divide\n",
      "  self.explained_variance_ratio_ = self.explained_variance_ / total_var\n"
     ]
    },
    {
     "name": "stdout",
     "output_type": "stream",
     "text": [
      "Starting Training\n",
      "epoch: 00, loss: -0.91505\n",
      "epoch: 01, loss: -0.94763\n",
      "epoch: 02, loss: -0.95586\n",
      "epoch: 03, loss: -0.96064\n",
      "epoch: 04, loss: -0.96394\n",
      "epoch: 05, loss: -0.96640\n",
      "epoch: 06, loss: -0.96832\n",
      "epoch: 07, loss: -0.96989\n",
      "epoch: 08, loss: -0.97120\n",
      "epoch: 09, loss: -0.97232\n",
      "torch.Size([1024, 64])\n"
     ]
    },
    {
     "name": "stderr",
     "output_type": "stream",
     "text": [
      " 19%|█▉        | 192/999 [3:44:21<17:49:53, 79.55s/it]"
     ]
    },
    {
     "name": "stdout",
     "output_type": "stream",
     "text": [
      "eigenvalues shape torch.Size([5]) eigenvectors shape torch.Size([5, 1024])\n",
      "192 /home/phdcs2/Hard_Disk/Datasets/Deep-Spectral-Segmentation/data/object-segmentation/ECSSD/features/0194_resized.pth\n",
      "dict_keys(['k', 'indices', 'file', 'id', 'model_name', 'patch_size', 'shape'])\n",
      "0194_resized\n",
      "Starting Training\n",
      "epoch: 00, loss: -0.85617\n",
      "epoch: 01, loss: -0.91600\n",
      "epoch: 02, loss: -0.93093\n",
      "epoch: 03, loss: -0.93923\n",
      "epoch: 04, loss: -0.94483\n",
      "epoch: 05, loss: -0.94897\n",
      "epoch: 06, loss: -0.95210\n",
      "epoch: 07, loss: -0.95468\n",
      "epoch: 08, loss: -0.95685\n",
      "epoch: 09, loss: -0.95868\n",
      "torch.Size([1024, 64])\n"
     ]
    },
    {
     "name": "stderr",
     "output_type": "stream",
     "text": [
      " 19%|█▉        | 193/999 [3:45:53<18:39:13, 83.32s/it]"
     ]
    },
    {
     "name": "stdout",
     "output_type": "stream",
     "text": [
      "eigenvalues shape torch.Size([5]) eigenvectors shape torch.Size([5, 1024])\n",
      "193 /home/phdcs2/Hard_Disk/Datasets/Deep-Spectral-Segmentation/data/object-segmentation/ECSSD/features/0195_resized.pth\n",
      "dict_keys(['k', 'indices', 'file', 'id', 'model_name', 'patch_size', 'shape'])\n",
      "0195_resized\n"
     ]
    },
    {
     "name": "stderr",
     "output_type": "stream",
     "text": [
      "/home/phdcs2/Hard_Disk/Projects/T2I/deep-spectral-segmentation/venv/lib/python3.8/site-packages/sklearn/decomposition/_pca.py:642: RuntimeWarning: invalid value encountered in divide\n",
      "  self.explained_variance_ratio_ = self.explained_variance_ / total_var\n"
     ]
    },
    {
     "name": "stdout",
     "output_type": "stream",
     "text": [
      "Starting Training\n",
      "epoch: 00, loss: -0.91861\n",
      "epoch: 01, loss: -0.94899\n",
      "epoch: 02, loss: -0.95654\n",
      "epoch: 03, loss: -0.96104\n",
      "epoch: 04, loss: -0.96414\n",
      "epoch: 05, loss: -0.96649\n",
      "epoch: 06, loss: -0.96832\n",
      "epoch: 07, loss: -0.96982\n",
      "epoch: 08, loss: -0.97112\n",
      "epoch: 09, loss: -0.97220\n",
      "torch.Size([1024, 64])\n"
     ]
    },
    {
     "name": "stderr",
     "output_type": "stream",
     "text": [
      " 19%|█▉        | 194/999 [3:47:23<19:03:26, 85.23s/it]"
     ]
    },
    {
     "name": "stdout",
     "output_type": "stream",
     "text": [
      "eigenvalues shape torch.Size([5]) eigenvectors shape torch.Size([5, 1024])\n",
      "194 /home/phdcs2/Hard_Disk/Datasets/Deep-Spectral-Segmentation/data/object-segmentation/ECSSD/features/0196_resized.pth\n",
      "dict_keys(['k', 'indices', 'file', 'id', 'model_name', 'patch_size', 'shape'])\n",
      "0196_resized\n",
      "Starting Training\n",
      "epoch: 00, loss: -0.92385\n",
      "epoch: 01, loss: -0.95425\n",
      "epoch: 02, loss: -0.96132\n",
      "epoch: 03, loss: -0.96551\n",
      "epoch: 04, loss: -0.96832\n",
      "epoch: 05, loss: -0.97044\n",
      "epoch: 06, loss: -0.97209\n",
      "epoch: 07, loss: -0.97345\n",
      "epoch: 08, loss: -0.97457\n",
      "epoch: 09, loss: -0.97554\n",
      "torch.Size([1024, 64])\n"
     ]
    },
    {
     "name": "stderr",
     "output_type": "stream",
     "text": [
      " 20%|█▉        | 195/999 [3:48:50<19:12:08, 85.98s/it]"
     ]
    },
    {
     "name": "stdout",
     "output_type": "stream",
     "text": [
      "eigenvalues shape torch.Size([5]) eigenvectors shape torch.Size([5, 1024])\n",
      "195 /home/phdcs2/Hard_Disk/Datasets/Deep-Spectral-Segmentation/data/object-segmentation/ECSSD/features/0197_resized.pth\n",
      "dict_keys(['k', 'indices', 'file', 'id', 'model_name', 'patch_size', 'shape'])\n",
      "0197_resized\n"
     ]
    },
    {
     "name": "stderr",
     "output_type": "stream",
     "text": [
      "/home/phdcs2/Hard_Disk/Projects/T2I/deep-spectral-segmentation/venv/lib/python3.8/site-packages/sklearn/decomposition/_pca.py:642: RuntimeWarning: invalid value encountered in divide\n",
      "  self.explained_variance_ratio_ = self.explained_variance_ / total_var\n"
     ]
    },
    {
     "name": "stdout",
     "output_type": "stream",
     "text": [
      "Starting Training\n",
      "epoch: 00, loss: -0.93688\n",
      "epoch: 01, loss: -0.96203\n",
      "epoch: 02, loss: -0.96739\n",
      "epoch: 03, loss: -0.97055\n",
      "epoch: 04, loss: -0.97271\n",
      "epoch: 05, loss: -0.97436\n",
      "epoch: 06, loss: -0.97563\n",
      "epoch: 07, loss: -0.97668\n",
      "epoch: 08, loss: -0.97758\n",
      "epoch: 09, loss: -0.97833\n",
      "torch.Size([1024, 64])\n"
     ]
    },
    {
     "name": "stderr",
     "output_type": "stream",
     "text": [
      " 20%|█▉        | 196/999 [3:50:16<19:10:31, 85.97s/it]"
     ]
    },
    {
     "name": "stdout",
     "output_type": "stream",
     "text": [
      "eigenvalues shape torch.Size([5]) eigenvectors shape torch.Size([5, 1024])\n",
      "196 /home/phdcs2/Hard_Disk/Datasets/Deep-Spectral-Segmentation/data/object-segmentation/ECSSD/features/0198_resized.pth\n",
      "dict_keys(['k', 'indices', 'file', 'id', 'model_name', 'patch_size', 'shape'])\n",
      "0198_resized\n",
      "Starting Training\n",
      "epoch: 00, loss: -0.84189\n",
      "epoch: 01, loss: -0.90744\n",
      "epoch: 02, loss: -0.92358\n",
      "epoch: 03, loss: -0.93296\n",
      "epoch: 04, loss: -0.93885\n",
      "epoch: 05, loss: -0.94323\n",
      "epoch: 06, loss: -0.94667\n",
      "epoch: 07, loss: -0.94930\n",
      "epoch: 08, loss: -0.95150\n",
      "epoch: 09, loss: -0.95356\n",
      "torch.Size([1024, 64])\n"
     ]
    },
    {
     "name": "stderr",
     "output_type": "stream",
     "text": [
      " 20%|█▉        | 197/999 [3:51:39<18:56:54, 85.06s/it]"
     ]
    },
    {
     "name": "stdout",
     "output_type": "stream",
     "text": [
      "eigenvalues shape torch.Size([5]) eigenvectors shape torch.Size([5, 1024])\n",
      "197 /home/phdcs2/Hard_Disk/Datasets/Deep-Spectral-Segmentation/data/object-segmentation/ECSSD/features/0199_resized.pth\n",
      "dict_keys(['k', 'indices', 'file', 'id', 'model_name', 'patch_size', 'shape'])\n",
      "0199_resized\n",
      "Starting Training\n",
      "epoch: 00, loss: -0.87701\n",
      "epoch: 01, loss: -0.92939\n",
      "epoch: 02, loss: -0.94219\n",
      "epoch: 03, loss: -0.94937\n",
      "epoch: 04, loss: -0.95422\n",
      "epoch: 05, loss: -0.95761\n",
      "epoch: 06, loss: -0.96034\n",
      "epoch: 07, loss: -0.96244\n",
      "epoch: 08, loss: -0.96422\n",
      "epoch: 09, loss: -0.96574\n",
      "torch.Size([1024, 64])\n"
     ]
    },
    {
     "name": "stderr",
     "output_type": "stream",
     "text": [
      " 20%|█▉        | 198/999 [3:53:03<18:49:37, 84.62s/it]"
     ]
    },
    {
     "name": "stdout",
     "output_type": "stream",
     "text": [
      "eigenvalues shape torch.Size([5]) eigenvectors shape torch.Size([5, 1024])\n",
      "198 /home/phdcs2/Hard_Disk/Datasets/Deep-Spectral-Segmentation/data/object-segmentation/ECSSD/features/0200_resized.pth\n",
      "dict_keys(['k', 'indices', 'file', 'id', 'model_name', 'patch_size', 'shape'])\n",
      "0200_resized\n",
      "Starting Training\n",
      "epoch: 00, loss: -0.86169\n",
      "epoch: 01, loss: -0.91727\n",
      "epoch: 02, loss: -0.93130\n",
      "epoch: 03, loss: -0.93901\n",
      "epoch: 04, loss: -0.94422\n",
      "epoch: 05, loss: -0.94798\n",
      "epoch: 06, loss: -0.95099\n",
      "epoch: 07, loss: -0.95331\n",
      "epoch: 08, loss: -0.95531\n",
      "epoch: 09, loss: -0.95698\n",
      "torch.Size([1024, 64])\n"
     ]
    },
    {
     "name": "stderr",
     "output_type": "stream",
     "text": [
      " 20%|█▉        | 199/999 [3:54:11<17:41:22, 79.60s/it]"
     ]
    },
    {
     "name": "stdout",
     "output_type": "stream",
     "text": [
      "eigenvalues shape torch.Size([5]) eigenvectors shape torch.Size([5, 1024])\n",
      "199 /home/phdcs2/Hard_Disk/Datasets/Deep-Spectral-Segmentation/data/object-segmentation/ECSSD/features/0201_resized.pth\n",
      "dict_keys(['k', 'indices', 'file', 'id', 'model_name', 'patch_size', 'shape'])\n",
      "0201_resized\n",
      "Starting Training\n",
      "epoch: 00, loss: -0.85576\n",
      "epoch: 01, loss: -0.91619\n",
      "epoch: 02, loss: -0.93185\n",
      "epoch: 03, loss: -0.94040\n",
      "epoch: 04, loss: -0.94635\n",
      "epoch: 05, loss: -0.95052\n",
      "epoch: 06, loss: -0.95379\n",
      "epoch: 07, loss: -0.95648\n",
      "epoch: 08, loss: -0.95867\n",
      "epoch: 09, loss: -0.96044\n",
      "torch.Size([1024, 64])\n"
     ]
    },
    {
     "name": "stderr",
     "output_type": "stream",
     "text": [
      " 20%|██        | 200/999 [3:55:27<17:26:35, 78.59s/it]"
     ]
    },
    {
     "name": "stdout",
     "output_type": "stream",
     "text": [
      "eigenvalues shape torch.Size([5]) eigenvectors shape torch.Size([5, 1024])\n",
      "200 /home/phdcs2/Hard_Disk/Datasets/Deep-Spectral-Segmentation/data/object-segmentation/ECSSD/features/0202_resized.pth\n",
      "dict_keys(['k', 'indices', 'file', 'id', 'model_name', 'patch_size', 'shape'])\n",
      "0202_resized\n",
      "Starting Training\n",
      "epoch: 00, loss: -0.89136\n",
      "epoch: 01, loss: -0.93739\n",
      "epoch: 02, loss: -0.94752\n",
      "epoch: 03, loss: -0.95334\n",
      "epoch: 04, loss: -0.95734\n",
      "epoch: 05, loss: -0.96024\n",
      "epoch: 06, loss: -0.96248\n",
      "epoch: 07, loss: -0.96428\n",
      "epoch: 08, loss: -0.96582\n",
      "epoch: 09, loss: -0.96706\n",
      "torch.Size([1024, 64])\n"
     ]
    },
    {
     "name": "stderr",
     "output_type": "stream",
     "text": [
      " 20%|██        | 201/999 [3:56:38<16:56:11, 76.40s/it]"
     ]
    },
    {
     "name": "stdout",
     "output_type": "stream",
     "text": [
      "eigenvalues shape torch.Size([5]) eigenvectors shape torch.Size([5, 1024])\n",
      "201 /home/phdcs2/Hard_Disk/Datasets/Deep-Spectral-Segmentation/data/object-segmentation/ECSSD/features/0203_resized.pth\n",
      "dict_keys(['k', 'indices', 'file', 'id', 'model_name', 'patch_size', 'shape'])\n",
      "0203_resized\n",
      "Starting Training\n",
      "epoch: 00, loss: -0.86972\n",
      "epoch: 01, loss: -0.92257\n",
      "epoch: 02, loss: -0.93571\n",
      "epoch: 03, loss: -0.94364\n",
      "epoch: 04, loss: -0.94883\n",
      "epoch: 05, loss: -0.95250\n",
      "epoch: 06, loss: -0.95539\n",
      "epoch: 07, loss: -0.95758\n",
      "epoch: 08, loss: -0.95958\n",
      "epoch: 09, loss: -0.96121\n",
      "torch.Size([1024, 64])\n"
     ]
    },
    {
     "name": "stderr",
     "output_type": "stream",
     "text": [
      " 20%|██        | 202/999 [3:57:54<16:54:36, 76.38s/it]"
     ]
    },
    {
     "name": "stdout",
     "output_type": "stream",
     "text": [
      "eigenvalues shape torch.Size([5]) eigenvectors shape torch.Size([5, 1024])\n",
      "202 /home/phdcs2/Hard_Disk/Datasets/Deep-Spectral-Segmentation/data/object-segmentation/ECSSD/features/0204_resized.pth\n",
      "dict_keys(['k', 'indices', 'file', 'id', 'model_name', 'patch_size', 'shape'])\n",
      "0204_resized\n",
      "Starting Training\n",
      "epoch: 00, loss: -0.89212\n",
      "epoch: 01, loss: -0.93646\n",
      "epoch: 02, loss: -0.94720\n",
      "epoch: 03, loss: -0.95316\n",
      "epoch: 04, loss: -0.95727\n",
      "epoch: 05, loss: -0.96032\n",
      "epoch: 06, loss: -0.96269\n",
      "epoch: 07, loss: -0.96458\n",
      "epoch: 08, loss: -0.96617\n",
      "epoch: 09, loss: -0.96751\n",
      "torch.Size([1024, 64])\n"
     ]
    },
    {
     "name": "stderr",
     "output_type": "stream",
     "text": [
      " 20%|██        | 203/999 [3:59:17<17:19:08, 78.33s/it]"
     ]
    },
    {
     "name": "stdout",
     "output_type": "stream",
     "text": [
      "eigenvalues shape torch.Size([5]) eigenvectors shape torch.Size([5, 1024])\n",
      "203 /home/phdcs2/Hard_Disk/Datasets/Deep-Spectral-Segmentation/data/object-segmentation/ECSSD/features/0205_resized.pth\n",
      "dict_keys(['k', 'indices', 'file', 'id', 'model_name', 'patch_size', 'shape'])\n",
      "0205_resized\n"
     ]
    },
    {
     "name": "stderr",
     "output_type": "stream",
     "text": [
      "/home/phdcs2/Hard_Disk/Projects/T2I/deep-spectral-segmentation/venv/lib/python3.8/site-packages/sklearn/decomposition/_pca.py:642: RuntimeWarning: invalid value encountered in divide\n",
      "  self.explained_variance_ratio_ = self.explained_variance_ / total_var\n"
     ]
    },
    {
     "name": "stdout",
     "output_type": "stream",
     "text": [
      "Starting Training\n",
      "epoch: 00, loss: -0.92871\n",
      "epoch: 01, loss: -0.95697\n",
      "epoch: 02, loss: -0.96346\n",
      "epoch: 03, loss: -0.96722\n",
      "epoch: 04, loss: -0.96980\n",
      "epoch: 05, loss: -0.97175\n",
      "epoch: 06, loss: -0.97325\n",
      "epoch: 07, loss: -0.97450\n",
      "epoch: 08, loss: -0.97553\n",
      "epoch: 09, loss: -0.97642\n",
      "torch.Size([1024, 64])\n"
     ]
    },
    {
     "name": "stderr",
     "output_type": "stream",
     "text": [
      " 20%|██        | 204/999 [4:00:32<17:04:29, 77.32s/it]"
     ]
    },
    {
     "name": "stdout",
     "output_type": "stream",
     "text": [
      "eigenvalues shape torch.Size([5]) eigenvectors shape torch.Size([5, 1024])\n",
      "204 /home/phdcs2/Hard_Disk/Datasets/Deep-Spectral-Segmentation/data/object-segmentation/ECSSD/features/0206_resized.pth\n",
      "dict_keys(['k', 'indices', 'file', 'id', 'model_name', 'patch_size', 'shape'])\n",
      "0206_resized\n"
     ]
    },
    {
     "name": "stderr",
     "output_type": "stream",
     "text": [
      "/home/phdcs2/Hard_Disk/Projects/T2I/deep-spectral-segmentation/venv/lib/python3.8/site-packages/sklearn/decomposition/_pca.py:642: RuntimeWarning: invalid value encountered in divide\n",
      "  self.explained_variance_ratio_ = self.explained_variance_ / total_var\n"
     ]
    },
    {
     "name": "stdout",
     "output_type": "stream",
     "text": [
      "Starting Training\n",
      "epoch: 00, loss: -0.92319\n",
      "epoch: 01, loss: -0.95648\n",
      "epoch: 02, loss: -0.96329\n",
      "epoch: 03, loss: -0.96716\n",
      "epoch: 04, loss: -0.96981\n",
      "epoch: 05, loss: -0.97181\n",
      "epoch: 06, loss: -0.97335\n",
      "epoch: 07, loss: -0.97461\n",
      "epoch: 08, loss: -0.97569\n",
      "epoch: 09, loss: -0.97658\n",
      "torch.Size([1024, 64])\n"
     ]
    },
    {
     "name": "stderr",
     "output_type": "stream",
     "text": [
      " 21%|██        | 205/999 [4:01:45<16:44:21, 75.90s/it]"
     ]
    },
    {
     "name": "stdout",
     "output_type": "stream",
     "text": [
      "eigenvalues shape torch.Size([5]) eigenvectors shape torch.Size([5, 1024])\n",
      "205 /home/phdcs2/Hard_Disk/Datasets/Deep-Spectral-Segmentation/data/object-segmentation/ECSSD/features/0207_resized.pth\n",
      "dict_keys(['k', 'indices', 'file', 'id', 'model_name', 'patch_size', 'shape'])\n",
      "0207_resized\n",
      "Starting Training\n",
      "epoch: 00, loss: -0.86619\n",
      "epoch: 01, loss: -0.92308\n",
      "epoch: 02, loss: -0.93683\n",
      "epoch: 03, loss: -0.94486\n",
      "epoch: 04, loss: -0.95017\n",
      "epoch: 05, loss: -0.95401\n",
      "epoch: 06, loss: -0.95689\n",
      "epoch: 07, loss: -0.95928\n",
      "epoch: 08, loss: -0.96125\n",
      "epoch: 09, loss: -0.96282\n",
      "torch.Size([1024, 64])\n"
     ]
    },
    {
     "name": "stderr",
     "output_type": "stream",
     "text": [
      " 21%|██        | 206/999 [4:03:03<16:50:13, 76.44s/it]"
     ]
    },
    {
     "name": "stdout",
     "output_type": "stream",
     "text": [
      "eigenvalues shape torch.Size([5]) eigenvectors shape torch.Size([5, 1024])\n",
      "206 /home/phdcs2/Hard_Disk/Datasets/Deep-Spectral-Segmentation/data/object-segmentation/ECSSD/features/0208_resized.pth\n",
      "dict_keys(['k', 'indices', 'file', 'id', 'model_name', 'patch_size', 'shape'])\n",
      "0208_resized\n",
      "Starting Training\n",
      "epoch: 00, loss: -0.84852\n",
      "epoch: 01, loss: -0.91076\n",
      "epoch: 02, loss: -0.92721\n",
      "epoch: 03, loss: -0.93659\n",
      "epoch: 04, loss: -0.94269\n",
      "epoch: 05, loss: -0.94716\n",
      "epoch: 06, loss: -0.95064\n",
      "epoch: 07, loss: -0.95349\n",
      "epoch: 08, loss: -0.95576\n",
      "epoch: 09, loss: -0.95773\n",
      "torch.Size([1024, 64])\n"
     ]
    },
    {
     "name": "stderr",
     "output_type": "stream",
     "text": [
      " 21%|██        | 207/999 [4:04:18<16:46:19, 76.24s/it]"
     ]
    },
    {
     "name": "stdout",
     "output_type": "stream",
     "text": [
      "eigenvalues shape torch.Size([5]) eigenvectors shape torch.Size([5, 1024])\n",
      "207 /home/phdcs2/Hard_Disk/Datasets/Deep-Spectral-Segmentation/data/object-segmentation/ECSSD/features/0209_resized.pth\n",
      "dict_keys(['k', 'indices', 'file', 'id', 'model_name', 'patch_size', 'shape'])\n",
      "0209_resized\n",
      "Starting Training\n",
      "epoch: 00, loss: -0.84232\n",
      "epoch: 01, loss: -0.90557\n",
      "epoch: 02, loss: -0.92138\n",
      "epoch: 03, loss: -0.93092\n",
      "epoch: 04, loss: -0.93703\n",
      "epoch: 05, loss: -0.94163\n",
      "epoch: 06, loss: -0.94517\n",
      "epoch: 07, loss: -0.94790\n",
      "epoch: 08, loss: -0.95026\n",
      "epoch: 09, loss: -0.95234\n",
      "torch.Size([1024, 64])\n"
     ]
    },
    {
     "name": "stderr",
     "output_type": "stream",
     "text": [
      " 21%|██        | 208/999 [4:05:29<16:23:35, 74.61s/it]"
     ]
    },
    {
     "name": "stdout",
     "output_type": "stream",
     "text": [
      "eigenvalues shape torch.Size([5]) eigenvectors shape torch.Size([5, 1024])\n",
      "208 /home/phdcs2/Hard_Disk/Datasets/Deep-Spectral-Segmentation/data/object-segmentation/ECSSD/features/0210_resized.pth\n",
      "dict_keys(['k', 'indices', 'file', 'id', 'model_name', 'patch_size', 'shape'])\n",
      "0210_resized\n",
      "Starting Training\n",
      "epoch: 00, loss: -0.87571\n",
      "epoch: 01, loss: -0.92771\n",
      "epoch: 02, loss: -0.94049\n",
      "epoch: 03, loss: -0.94788\n",
      "epoch: 04, loss: -0.95269\n",
      "epoch: 05, loss: -0.95621\n",
      "epoch: 06, loss: -0.95895\n",
      "epoch: 07, loss: -0.96115\n",
      "epoch: 08, loss: -0.96302\n",
      "epoch: 09, loss: -0.96462\n",
      "torch.Size([1024, 64])\n"
     ]
    },
    {
     "name": "stderr",
     "output_type": "stream",
     "text": [
      " 21%|██        | 209/999 [4:06:29<15:23:37, 70.15s/it]"
     ]
    },
    {
     "name": "stdout",
     "output_type": "stream",
     "text": [
      "eigenvalues shape torch.Size([5]) eigenvectors shape torch.Size([5, 1024])\n",
      "209 /home/phdcs2/Hard_Disk/Datasets/Deep-Spectral-Segmentation/data/object-segmentation/ECSSD/features/0211_resized.pth\n",
      "dict_keys(['k', 'indices', 'file', 'id', 'model_name', 'patch_size', 'shape'])\n",
      "0211_resized\n"
     ]
    },
    {
     "name": "stderr",
     "output_type": "stream",
     "text": [
      "/home/phdcs2/Hard_Disk/Projects/T2I/deep-spectral-segmentation/venv/lib/python3.8/site-packages/sklearn/decomposition/_pca.py:642: RuntimeWarning: invalid value encountered in divide\n",
      "  self.explained_variance_ratio_ = self.explained_variance_ / total_var\n"
     ]
    },
    {
     "name": "stdout",
     "output_type": "stream",
     "text": [
      "Starting Training\n",
      "epoch: 00, loss: -0.92185\n",
      "epoch: 01, loss: -0.95675\n",
      "epoch: 02, loss: -0.96281\n",
      "epoch: 03, loss: -0.96638\n",
      "epoch: 04, loss: -0.96881\n",
      "epoch: 05, loss: -0.97069\n",
      "epoch: 06, loss: -0.97215\n",
      "epoch: 07, loss: -0.97334\n",
      "epoch: 08, loss: -0.97437\n",
      "epoch: 09, loss: -0.97525\n",
      "torch.Size([1024, 64])\n"
     ]
    },
    {
     "name": "stderr",
     "output_type": "stream",
     "text": [
      " 21%|██        | 210/999 [4:07:32<14:54:10, 68.00s/it]"
     ]
    },
    {
     "name": "stdout",
     "output_type": "stream",
     "text": [
      "eigenvalues shape torch.Size([5]) eigenvectors shape torch.Size([5, 1024])\n",
      "210 /home/phdcs2/Hard_Disk/Datasets/Deep-Spectral-Segmentation/data/object-segmentation/ECSSD/features/0212_resized.pth\n",
      "dict_keys(['k', 'indices', 'file', 'id', 'model_name', 'patch_size', 'shape'])\n",
      "0212_resized\n"
     ]
    },
    {
     "name": "stderr",
     "output_type": "stream",
     "text": [
      "/home/phdcs2/Hard_Disk/Projects/T2I/deep-spectral-segmentation/venv/lib/python3.8/site-packages/sklearn/decomposition/_pca.py:642: RuntimeWarning: invalid value encountered in divide\n",
      "  self.explained_variance_ratio_ = self.explained_variance_ / total_var\n"
     ]
    },
    {
     "name": "stdout",
     "output_type": "stream",
     "text": [
      "Starting Training\n",
      "epoch: 00, loss: -0.92259\n",
      "epoch: 01, loss: -0.95361\n",
      "epoch: 02, loss: -0.96099\n",
      "epoch: 03, loss: -0.96521\n",
      "epoch: 04, loss: -0.96806\n",
      "epoch: 05, loss: -0.97019\n",
      "epoch: 06, loss: -0.97185\n",
      "epoch: 07, loss: -0.97320\n",
      "epoch: 08, loss: -0.97433\n",
      "epoch: 09, loss: -0.97530\n",
      "torch.Size([1024, 64])\n"
     ]
    },
    {
     "name": "stderr",
     "output_type": "stream",
     "text": [
      " 21%|██        | 211/999 [4:08:44<15:10:56, 69.36s/it]"
     ]
    },
    {
     "name": "stdout",
     "output_type": "stream",
     "text": [
      "eigenvalues shape torch.Size([5]) eigenvectors shape torch.Size([5, 1024])\n",
      "211 /home/phdcs2/Hard_Disk/Datasets/Deep-Spectral-Segmentation/data/object-segmentation/ECSSD/features/0213_resized.pth\n",
      "dict_keys(['k', 'indices', 'file', 'id', 'model_name', 'patch_size', 'shape'])\n",
      "0213_resized\n",
      "Starting Training\n",
      "epoch: 00, loss: -0.94361\n",
      "epoch: 01, loss: -0.96641\n",
      "epoch: 02, loss: -0.97141\n",
      "epoch: 03, loss: -0.97429\n",
      "epoch: 04, loss: -0.97623\n",
      "epoch: 05, loss: -0.97768\n",
      "epoch: 06, loss: -0.97882\n",
      "epoch: 07, loss: -0.97974\n",
      "epoch: 08, loss: -0.98051\n",
      "epoch: 09, loss: -0.98119\n",
      "torch.Size([1024, 64])\n"
     ]
    },
    {
     "name": "stderr",
     "output_type": "stream",
     "text": [
      " 21%|██        | 212/999 [4:10:05<15:55:00, 72.81s/it]"
     ]
    },
    {
     "name": "stdout",
     "output_type": "stream",
     "text": [
      "eigenvalues shape torch.Size([5]) eigenvectors shape torch.Size([5, 1024])\n",
      "212 /home/phdcs2/Hard_Disk/Datasets/Deep-Spectral-Segmentation/data/object-segmentation/ECSSD/features/0214_resized.pth\n",
      "dict_keys(['k', 'indices', 'file', 'id', 'model_name', 'patch_size', 'shape'])\n",
      "0214_resized\n",
      "Starting Training\n",
      "epoch: 00, loss: -0.88232\n",
      "epoch: 01, loss: -0.92704\n",
      "epoch: 02, loss: -0.93940\n",
      "epoch: 03, loss: -0.94647\n",
      "epoch: 04, loss: -0.95122\n",
      "epoch: 05, loss: -0.95476\n",
      "epoch: 06, loss: -0.95763\n",
      "epoch: 07, loss: -0.95978\n",
      "epoch: 08, loss: -0.96162\n",
      "epoch: 09, loss: -0.96312\n",
      "torch.Size([1024, 64])\n"
     ]
    },
    {
     "name": "stderr",
     "output_type": "stream",
     "text": [
      " 21%|██▏       | 213/999 [4:11:26<16:24:35, 75.16s/it]"
     ]
    },
    {
     "name": "stdout",
     "output_type": "stream",
     "text": [
      "eigenvalues shape torch.Size([5]) eigenvectors shape torch.Size([5, 1024])\n",
      "213 /home/phdcs2/Hard_Disk/Datasets/Deep-Spectral-Segmentation/data/object-segmentation/ECSSD/features/0215_resized.pth\n",
      "dict_keys(['k', 'indices', 'file', 'id', 'model_name', 'patch_size', 'shape'])\n",
      "0215_resized\n",
      "Starting Training\n",
      "epoch: 00, loss: -0.86145\n",
      "epoch: 01, loss: -0.91812\n",
      "epoch: 02, loss: -0.93235\n",
      "epoch: 03, loss: -0.94049\n",
      "epoch: 04, loss: -0.94568\n",
      "epoch: 05, loss: -0.94975\n",
      "epoch: 06, loss: -0.95279\n",
      "epoch: 07, loss: -0.95526\n",
      "epoch: 08, loss: -0.95725\n",
      "epoch: 09, loss: -0.95905\n",
      "torch.Size([1024, 64])\n"
     ]
    },
    {
     "name": "stderr",
     "output_type": "stream",
     "text": [
      " 21%|██▏       | 214/999 [4:12:50<16:56:44, 77.71s/it]"
     ]
    },
    {
     "name": "stdout",
     "output_type": "stream",
     "text": [
      "eigenvalues shape torch.Size([5]) eigenvectors shape torch.Size([5, 1024])\n",
      "214 /home/phdcs2/Hard_Disk/Datasets/Deep-Spectral-Segmentation/data/object-segmentation/ECSSD/features/0216_resized.pth\n",
      "dict_keys(['k', 'indices', 'file', 'id', 'model_name', 'patch_size', 'shape'])\n",
      "0216_resized\n"
     ]
    },
    {
     "name": "stderr",
     "output_type": "stream",
     "text": [
      "/home/phdcs2/Hard_Disk/Projects/T2I/deep-spectral-segmentation/venv/lib/python3.8/site-packages/sklearn/decomposition/_pca.py:642: RuntimeWarning: invalid value encountered in divide\n",
      "  self.explained_variance_ratio_ = self.explained_variance_ / total_var\n"
     ]
    },
    {
     "name": "stdout",
     "output_type": "stream",
     "text": [
      "Starting Training\n",
      "epoch: 00, loss: -0.92691\n",
      "epoch: 01, loss: -0.95355\n",
      "epoch: 02, loss: -0.96020\n",
      "epoch: 03, loss: -0.96414\n",
      "epoch: 04, loss: -0.96683\n",
      "epoch: 05, loss: -0.96886\n",
      "epoch: 06, loss: -0.97044\n",
      "epoch: 07, loss: -0.97179\n",
      "epoch: 08, loss: -0.97290\n",
      "epoch: 09, loss: -0.97386\n",
      "torch.Size([1024, 64])\n"
     ]
    },
    {
     "name": "stderr",
     "output_type": "stream",
     "text": [
      " 22%|██▏       | 215/999 [4:14:13<17:15:59, 79.29s/it]"
     ]
    },
    {
     "name": "stdout",
     "output_type": "stream",
     "text": [
      "eigenvalues shape torch.Size([5]) eigenvectors shape torch.Size([5, 1024])\n",
      "215 /home/phdcs2/Hard_Disk/Datasets/Deep-Spectral-Segmentation/data/object-segmentation/ECSSD/features/0217_resized.pth\n",
      "dict_keys(['k', 'indices', 'file', 'id', 'model_name', 'patch_size', 'shape'])\n",
      "0217_resized\n",
      "Starting Training\n",
      "epoch: 00, loss: -0.87836\n",
      "epoch: 01, loss: -0.92793\n",
      "epoch: 02, loss: -0.94019\n",
      "epoch: 03, loss: -0.94709\n",
      "epoch: 04, loss: -0.95203\n",
      "epoch: 05, loss: -0.95545\n",
      "epoch: 06, loss: -0.95814\n",
      "epoch: 07, loss: -0.96031\n",
      "epoch: 08, loss: -0.96209\n",
      "epoch: 09, loss: -0.96364\n",
      "torch.Size([1024, 64])\n"
     ]
    },
    {
     "name": "stderr",
     "output_type": "stream",
     "text": [
      " 22%|██▏       | 216/999 [4:15:34<17:22:41, 79.90s/it]"
     ]
    },
    {
     "name": "stdout",
     "output_type": "stream",
     "text": [
      "eigenvalues shape torch.Size([5]) eigenvectors shape torch.Size([5, 1024])\n",
      "216 /home/phdcs2/Hard_Disk/Datasets/Deep-Spectral-Segmentation/data/object-segmentation/ECSSD/features/0218_resized.pth\n",
      "dict_keys(['k', 'indices', 'file', 'id', 'model_name', 'patch_size', 'shape'])\n",
      "0218_resized\n"
     ]
    },
    {
     "name": "stderr",
     "output_type": "stream",
     "text": [
      "/home/phdcs2/Hard_Disk/Projects/T2I/deep-spectral-segmentation/venv/lib/python3.8/site-packages/sklearn/decomposition/_pca.py:642: RuntimeWarning: invalid value encountered in divide\n",
      "  self.explained_variance_ratio_ = self.explained_variance_ / total_var\n"
     ]
    },
    {
     "name": "stdout",
     "output_type": "stream",
     "text": [
      "Starting Training\n",
      "epoch: 00, loss: -0.92028\n",
      "epoch: 01, loss: -0.95325\n",
      "epoch: 02, loss: -0.96064\n",
      "epoch: 03, loss: -0.96484\n",
      "epoch: 04, loss: -0.96774\n",
      "epoch: 05, loss: -0.96988\n",
      "epoch: 06, loss: -0.97157\n",
      "epoch: 07, loss: -0.97293\n",
      "epoch: 08, loss: -0.97407\n",
      "epoch: 09, loss: -0.97504\n",
      "torch.Size([1024, 64])\n"
     ]
    },
    {
     "name": "stderr",
     "output_type": "stream",
     "text": [
      " 22%|██▏       | 217/999 [4:16:55<17:25:01, 80.18s/it]"
     ]
    },
    {
     "name": "stdout",
     "output_type": "stream",
     "text": [
      "eigenvalues shape torch.Size([5]) eigenvectors shape torch.Size([5, 1024])\n",
      "217 /home/phdcs2/Hard_Disk/Datasets/Deep-Spectral-Segmentation/data/object-segmentation/ECSSD/features/0219_resized.pth\n",
      "dict_keys(['k', 'indices', 'file', 'id', 'model_name', 'patch_size', 'shape'])\n",
      "0219_resized\n",
      "Starting Training\n",
      "epoch: 00, loss: -0.93120\n",
      "epoch: 01, loss: -0.96039\n",
      "epoch: 02, loss: -0.96662\n",
      "epoch: 03, loss: -0.97032\n",
      "epoch: 04, loss: -0.97282\n",
      "epoch: 05, loss: -0.97462\n",
      "epoch: 06, loss: -0.97603\n",
      "epoch: 07, loss: -0.97725\n",
      "epoch: 08, loss: -0.97821\n",
      "epoch: 09, loss: -0.97904\n",
      "torch.Size([1024, 64])\n"
     ]
    },
    {
     "name": "stderr",
     "output_type": "stream",
     "text": [
      " 22%|██▏       | 218/999 [4:18:18<17:37:16, 81.23s/it]"
     ]
    },
    {
     "name": "stdout",
     "output_type": "stream",
     "text": [
      "eigenvalues shape torch.Size([5]) eigenvectors shape torch.Size([5, 1024])\n",
      "218 /home/phdcs2/Hard_Disk/Datasets/Deep-Spectral-Segmentation/data/object-segmentation/ECSSD/features/0220_resized.pth\n",
      "dict_keys(['k', 'indices', 'file', 'id', 'model_name', 'patch_size', 'shape'])\n",
      "0220_resized\n"
     ]
    },
    {
     "name": "stderr",
     "output_type": "stream",
     "text": [
      "/home/phdcs2/Hard_Disk/Projects/T2I/deep-spectral-segmentation/venv/lib/python3.8/site-packages/sklearn/decomposition/_pca.py:642: RuntimeWarning: invalid value encountered in divide\n",
      "  self.explained_variance_ratio_ = self.explained_variance_ / total_var\n"
     ]
    },
    {
     "name": "stdout",
     "output_type": "stream",
     "text": [
      "Starting Training\n",
      "epoch: 00, loss: -0.94494\n",
      "epoch: 01, loss: -0.96795\n",
      "epoch: 02, loss: -0.97264\n",
      "epoch: 03, loss: -0.97543\n",
      "epoch: 04, loss: -0.97731\n",
      "epoch: 05, loss: -0.97877\n",
      "epoch: 06, loss: -0.97984\n",
      "epoch: 07, loss: -0.98075\n",
      "epoch: 08, loss: -0.98154\n",
      "epoch: 09, loss: -0.98217\n",
      "torch.Size([1024, 64])\n"
     ]
    },
    {
     "name": "stderr",
     "output_type": "stream",
     "text": [
      " 22%|██▏       | 219/999 [4:19:42<17:47:03, 82.08s/it]"
     ]
    },
    {
     "name": "stdout",
     "output_type": "stream",
     "text": [
      "eigenvalues shape torch.Size([5]) eigenvectors shape torch.Size([5, 1024])\n",
      "219 /home/phdcs2/Hard_Disk/Datasets/Deep-Spectral-Segmentation/data/object-segmentation/ECSSD/features/0221_resized.pth\n",
      "dict_keys(['k', 'indices', 'file', 'id', 'model_name', 'patch_size', 'shape'])\n",
      "0221_resized\n",
      "Starting Training\n",
      "epoch: 00, loss: -0.85233\n",
      "epoch: 01, loss: -0.91439\n",
      "epoch: 02, loss: -0.93051\n",
      "epoch: 03, loss: -0.93960\n",
      "epoch: 04, loss: -0.94542\n",
      "epoch: 05, loss: -0.94961\n",
      "epoch: 06, loss: -0.95288\n",
      "epoch: 07, loss: -0.95555\n",
      "epoch: 08, loss: -0.95773\n",
      "epoch: 09, loss: -0.95962\n",
      "torch.Size([1024, 64])\n"
     ]
    },
    {
     "name": "stderr",
     "output_type": "stream",
     "text": [
      " 22%|██▏       | 220/999 [4:21:02<17:37:32, 81.45s/it]"
     ]
    },
    {
     "name": "stdout",
     "output_type": "stream",
     "text": [
      "eigenvalues shape torch.Size([5]) eigenvectors shape torch.Size([5, 1024])\n",
      "220 /home/phdcs2/Hard_Disk/Datasets/Deep-Spectral-Segmentation/data/object-segmentation/ECSSD/features/0222_resized.pth\n",
      "dict_keys(['k', 'indices', 'file', 'id', 'model_name', 'patch_size', 'shape'])\n",
      "0222_resized\n"
     ]
    },
    {
     "name": "stderr",
     "output_type": "stream",
     "text": [
      "/home/phdcs2/Hard_Disk/Projects/T2I/deep-spectral-segmentation/venv/lib/python3.8/site-packages/sklearn/decomposition/_pca.py:642: RuntimeWarning: invalid value encountered in divide\n",
      "  self.explained_variance_ratio_ = self.explained_variance_ / total_var\n"
     ]
    },
    {
     "name": "stdout",
     "output_type": "stream",
     "text": [
      "Starting Training\n",
      "epoch: 00, loss: -0.92472\n",
      "epoch: 01, loss: -0.95748\n",
      "epoch: 02, loss: -0.96416\n",
      "epoch: 03, loss: -0.96799\n",
      "epoch: 04, loss: -0.97066\n",
      "epoch: 05, loss: -0.97261\n",
      "epoch: 06, loss: -0.97414\n",
      "epoch: 07, loss: -0.97539\n",
      "epoch: 08, loss: -0.97644\n",
      "epoch: 09, loss: -0.97733\n",
      "torch.Size([1024, 64])\n"
     ]
    },
    {
     "name": "stderr",
     "output_type": "stream",
     "text": [
      " 22%|██▏       | 221/999 [4:22:29<17:57:04, 83.07s/it]"
     ]
    },
    {
     "name": "stdout",
     "output_type": "stream",
     "text": [
      "eigenvalues shape torch.Size([5]) eigenvectors shape torch.Size([5, 1024])\n",
      "221 /home/phdcs2/Hard_Disk/Datasets/Deep-Spectral-Segmentation/data/object-segmentation/ECSSD/features/0223_resized.pth\n",
      "dict_keys(['k', 'indices', 'file', 'id', 'model_name', 'patch_size', 'shape'])\n",
      "0223_resized\n",
      "Starting Training\n",
      "epoch: 00, loss: -0.87495\n",
      "epoch: 01, loss: -0.92332\n",
      "epoch: 02, loss: -0.93700\n",
      "epoch: 03, loss: -0.94458\n",
      "epoch: 04, loss: -0.94983\n",
      "epoch: 05, loss: -0.95381\n",
      "epoch: 06, loss: -0.95671\n",
      "epoch: 07, loss: -0.95903\n",
      "epoch: 08, loss: -0.96109\n",
      "epoch: 09, loss: -0.96281\n",
      "torch.Size([1024, 64])\n"
     ]
    },
    {
     "name": "stderr",
     "output_type": "stream",
     "text": [
      " 22%|██▏       | 222/999 [4:24:00<18:24:31, 85.29s/it]"
     ]
    },
    {
     "name": "stdout",
     "output_type": "stream",
     "text": [
      "eigenvalues shape torch.Size([5]) eigenvectors shape torch.Size([5, 1024])\n",
      "222 /home/phdcs2/Hard_Disk/Datasets/Deep-Spectral-Segmentation/data/object-segmentation/ECSSD/features/0224_resized.pth\n",
      "dict_keys(['k', 'indices', 'file', 'id', 'model_name', 'patch_size', 'shape'])\n",
      "0224_resized\n",
      "Starting Training\n",
      "epoch: 00, loss: -0.87852\n",
      "epoch: 01, loss: -0.92832\n",
      "epoch: 02, loss: -0.94142\n",
      "epoch: 03, loss: -0.94862\n",
      "epoch: 04, loss: -0.95343\n",
      "epoch: 05, loss: -0.95692\n",
      "epoch: 06, loss: -0.95978\n",
      "epoch: 07, loss: -0.96196\n",
      "epoch: 08, loss: -0.96378\n",
      "epoch: 09, loss: -0.96538\n",
      "torch.Size([1024, 64])\n"
     ]
    },
    {
     "name": "stderr",
     "output_type": "stream",
     "text": [
      " 22%|██▏       | 223/999 [4:25:28<18:35:48, 86.27s/it]"
     ]
    },
    {
     "name": "stdout",
     "output_type": "stream",
     "text": [
      "eigenvalues shape torch.Size([5]) eigenvectors shape torch.Size([5, 1024])\n",
      "223 /home/phdcs2/Hard_Disk/Datasets/Deep-Spectral-Segmentation/data/object-segmentation/ECSSD/features/0225_resized.pth\n",
      "dict_keys(['k', 'indices', 'file', 'id', 'model_name', 'patch_size', 'shape'])\n",
      "0225_resized\n",
      "Starting Training\n",
      "epoch: 00, loss: -0.87126\n",
      "epoch: 01, loss: -0.92380\n",
      "epoch: 02, loss: -0.93680\n",
      "epoch: 03, loss: -0.94399\n",
      "epoch: 04, loss: -0.94894\n",
      "epoch: 05, loss: -0.95271\n",
      "epoch: 06, loss: -0.95553\n",
      "epoch: 07, loss: -0.95788\n",
      "epoch: 08, loss: -0.95980\n",
      "epoch: 09, loss: -0.96145\n",
      "torch.Size([1024, 64])\n"
     ]
    },
    {
     "name": "stderr",
     "output_type": "stream",
     "text": [
      " 22%|██▏       | 224/999 [4:26:57<18:43:31, 86.98s/it]"
     ]
    },
    {
     "name": "stdout",
     "output_type": "stream",
     "text": [
      "eigenvalues shape torch.Size([5]) eigenvectors shape torch.Size([5, 1024])\n",
      "224 /home/phdcs2/Hard_Disk/Datasets/Deep-Spectral-Segmentation/data/object-segmentation/ECSSD/features/0226_resized.pth\n",
      "dict_keys(['k', 'indices', 'file', 'id', 'model_name', 'patch_size', 'shape'])\n",
      "0226_resized\n",
      "Starting Training\n",
      "epoch: 00, loss: -0.87380\n",
      "epoch: 01, loss: -0.92379\n",
      "epoch: 02, loss: -0.93640\n",
      "epoch: 03, loss: -0.94358\n",
      "epoch: 04, loss: -0.94863\n",
      "epoch: 05, loss: -0.95231\n",
      "epoch: 06, loss: -0.95521\n",
      "epoch: 07, loss: -0.95746\n",
      "epoch: 08, loss: -0.95939\n",
      "epoch: 09, loss: -0.96101\n",
      "torch.Size([1024, 64])\n"
     ]
    },
    {
     "name": "stderr",
     "output_type": "stream",
     "text": [
      " 23%|██▎       | 225/999 [4:28:22<18:33:28, 86.32s/it]"
     ]
    },
    {
     "name": "stdout",
     "output_type": "stream",
     "text": [
      "eigenvalues shape torch.Size([5]) eigenvectors shape torch.Size([5, 1024])\n",
      "225 /home/phdcs2/Hard_Disk/Datasets/Deep-Spectral-Segmentation/data/object-segmentation/ECSSD/features/0227_resized.pth\n",
      "dict_keys(['k', 'indices', 'file', 'id', 'model_name', 'patch_size', 'shape'])\n",
      "0227_resized\n",
      "Starting Training\n",
      "epoch: 00, loss: -0.87594\n",
      "epoch: 01, loss: -0.92697\n",
      "epoch: 02, loss: -0.93935\n",
      "epoch: 03, loss: -0.94667\n",
      "epoch: 04, loss: -0.95156\n",
      "epoch: 05, loss: -0.95510\n",
      "epoch: 06, loss: -0.95795\n",
      "epoch: 07, loss: -0.96015\n",
      "epoch: 08, loss: -0.96206\n",
      "epoch: 09, loss: -0.96362\n",
      "torch.Size([1024, 64])\n"
     ]
    },
    {
     "name": "stderr",
     "output_type": "stream",
     "text": [
      " 23%|██▎       | 226/999 [4:29:47<18:27:19, 85.95s/it]"
     ]
    },
    {
     "name": "stdout",
     "output_type": "stream",
     "text": [
      "eigenvalues shape torch.Size([5]) eigenvectors shape torch.Size([5, 1024])\n",
      "226 /home/phdcs2/Hard_Disk/Datasets/Deep-Spectral-Segmentation/data/object-segmentation/ECSSD/features/0228_resized.pth\n",
      "dict_keys(['k', 'indices', 'file', 'id', 'model_name', 'patch_size', 'shape'])\n",
      "0228_resized\n"
     ]
    },
    {
     "name": "stderr",
     "output_type": "stream",
     "text": [
      "/home/phdcs2/Hard_Disk/Projects/T2I/deep-spectral-segmentation/venv/lib/python3.8/site-packages/sklearn/decomposition/_pca.py:642: RuntimeWarning: invalid value encountered in divide\n",
      "  self.explained_variance_ratio_ = self.explained_variance_ / total_var\n"
     ]
    },
    {
     "name": "stdout",
     "output_type": "stream",
     "text": [
      "Starting Training\n",
      "epoch: 00, loss: -0.93175\n",
      "epoch: 01, loss: -0.95796\n",
      "epoch: 02, loss: -0.96417\n",
      "epoch: 03, loss: -0.96776\n",
      "epoch: 04, loss: -0.97014\n",
      "epoch: 05, loss: -0.97204\n",
      "epoch: 06, loss: -0.97346\n",
      "epoch: 07, loss: -0.97463\n",
      "epoch: 08, loss: -0.97565\n",
      "epoch: 09, loss: -0.97649\n",
      "torch.Size([1024, 64])\n"
     ]
    },
    {
     "name": "stderr",
     "output_type": "stream",
     "text": [
      " 23%|██▎       | 227/999 [4:31:11<18:20:17, 85.52s/it]"
     ]
    },
    {
     "name": "stdout",
     "output_type": "stream",
     "text": [
      "eigenvalues shape torch.Size([5]) eigenvectors shape torch.Size([5, 1024])\n",
      "227 /home/phdcs2/Hard_Disk/Datasets/Deep-Spectral-Segmentation/data/object-segmentation/ECSSD/features/0229_resized.pth\n",
      "dict_keys(['k', 'indices', 'file', 'id', 'model_name', 'patch_size', 'shape'])\n",
      "0229_resized\n"
     ]
    },
    {
     "name": "stderr",
     "output_type": "stream",
     "text": [
      "/home/phdcs2/Hard_Disk/Projects/T2I/deep-spectral-segmentation/venv/lib/python3.8/site-packages/sklearn/decomposition/_pca.py:642: RuntimeWarning: invalid value encountered in divide\n",
      "  self.explained_variance_ratio_ = self.explained_variance_ / total_var\n"
     ]
    },
    {
     "name": "stdout",
     "output_type": "stream",
     "text": [
      "Starting Training\n",
      "epoch: 00, loss: -0.91719\n",
      "epoch: 01, loss: -0.95028\n",
      "epoch: 02, loss: -0.95845\n",
      "epoch: 03, loss: -0.96313\n",
      "epoch: 04, loss: -0.96635\n",
      "epoch: 05, loss: -0.96868\n",
      "epoch: 06, loss: -0.97054\n",
      "epoch: 07, loss: -0.97203\n",
      "epoch: 08, loss: -0.97327\n",
      "epoch: 09, loss: -0.97433\n",
      "torch.Size([1024, 64])\n"
     ]
    },
    {
     "name": "stderr",
     "output_type": "stream",
     "text": [
      " 23%|██▎       | 228/999 [4:32:26<17:37:37, 82.31s/it]"
     ]
    },
    {
     "name": "stdout",
     "output_type": "stream",
     "text": [
      "eigenvalues shape torch.Size([5]) eigenvectors shape torch.Size([5, 1024])\n",
      "228 /home/phdcs2/Hard_Disk/Datasets/Deep-Spectral-Segmentation/data/object-segmentation/ECSSD/features/0230_resized.pth\n",
      "dict_keys(['k', 'indices', 'file', 'id', 'model_name', 'patch_size', 'shape'])\n",
      "0230_resized\n",
      "Starting Training\n",
      "epoch: 00, loss: -0.86834\n",
      "epoch: 01, loss: -0.91840\n",
      "epoch: 02, loss: -0.93149\n",
      "epoch: 03, loss: -0.93882\n",
      "epoch: 04, loss: -0.94377\n",
      "epoch: 05, loss: -0.94754\n",
      "epoch: 06, loss: -0.95047\n",
      "epoch: 07, loss: -0.95285\n",
      "epoch: 08, loss: -0.95480\n",
      "epoch: 09, loss: -0.95648\n",
      "torch.Size([1024, 64])\n"
     ]
    },
    {
     "name": "stderr",
     "output_type": "stream",
     "text": [
      " 23%|██▎       | 229/999 [4:33:44<17:20:01, 81.04s/it]"
     ]
    },
    {
     "name": "stdout",
     "output_type": "stream",
     "text": [
      "eigenvalues shape torch.Size([5]) eigenvectors shape torch.Size([5, 1024])\n",
      "229 /home/phdcs2/Hard_Disk/Datasets/Deep-Spectral-Segmentation/data/object-segmentation/ECSSD/features/0231_resized.pth\n",
      "dict_keys(['k', 'indices', 'file', 'id', 'model_name', 'patch_size', 'shape'])\n",
      "0231_resized\n",
      "Starting Training\n",
      "epoch: 00, loss: -0.83262\n",
      "epoch: 01, loss: -0.90143\n",
      "epoch: 02, loss: -0.91962\n",
      "epoch: 03, loss: -0.93030\n",
      "epoch: 04, loss: -0.93703\n",
      "epoch: 05, loss: -0.94211\n",
      "epoch: 06, loss: -0.94604\n",
      "epoch: 07, loss: -0.94903\n",
      "epoch: 08, loss: -0.95157\n",
      "epoch: 09, loss: -0.95377\n",
      "torch.Size([1024, 64])\n"
     ]
    },
    {
     "name": "stderr",
     "output_type": "stream",
     "text": [
      " 23%|██▎       | 230/999 [4:34:57<16:46:47, 78.55s/it]"
     ]
    },
    {
     "name": "stdout",
     "output_type": "stream",
     "text": [
      "eigenvalues shape torch.Size([5]) eigenvectors shape torch.Size([5, 1024])\n",
      "230 /home/phdcs2/Hard_Disk/Datasets/Deep-Spectral-Segmentation/data/object-segmentation/ECSSD/features/0232_resized.pth\n",
      "dict_keys(['k', 'indices', 'file', 'id', 'model_name', 'patch_size', 'shape'])\n",
      "0232_resized\n",
      "Starting Training\n",
      "epoch: 00, loss: -0.91395\n",
      "epoch: 01, loss: -0.94892\n",
      "epoch: 02, loss: -0.95660\n",
      "epoch: 03, loss: -0.96110\n",
      "epoch: 04, loss: -0.96421\n",
      "epoch: 05, loss: -0.96647\n",
      "epoch: 06, loss: -0.96826\n",
      "epoch: 07, loss: -0.96975\n",
      "epoch: 08, loss: -0.97101\n",
      "epoch: 09, loss: -0.97204\n",
      "torch.Size([1024, 64])\n"
     ]
    },
    {
     "name": "stderr",
     "output_type": "stream",
     "text": [
      " 23%|██▎       | 231/999 [4:36:02<15:53:11, 74.47s/it]"
     ]
    },
    {
     "name": "stdout",
     "output_type": "stream",
     "text": [
      "eigenvalues shape torch.Size([5]) eigenvectors shape torch.Size([5, 1024])\n",
      "231 /home/phdcs2/Hard_Disk/Datasets/Deep-Spectral-Segmentation/data/object-segmentation/ECSSD/features/0233_resized.pth\n",
      "dict_keys(['k', 'indices', 'file', 'id', 'model_name', 'patch_size', 'shape'])\n",
      "0233_resized\n",
      "Starting Training\n",
      "epoch: 00, loss: -0.88039\n",
      "epoch: 01, loss: -0.92737\n",
      "epoch: 02, loss: -0.93984\n",
      "epoch: 03, loss: -0.94720\n",
      "epoch: 04, loss: -0.95192\n",
      "epoch: 05, loss: -0.95545\n",
      "epoch: 06, loss: -0.95824\n",
      "epoch: 07, loss: -0.96041\n",
      "epoch: 08, loss: -0.96231\n",
      "epoch: 09, loss: -0.96386\n",
      "torch.Size([1024, 64])\n"
     ]
    },
    {
     "name": "stderr",
     "output_type": "stream",
     "text": [
      " 23%|██▎       | 232/999 [4:37:01<14:51:50, 69.77s/it]"
     ]
    },
    {
     "name": "stdout",
     "output_type": "stream",
     "text": [
      "eigenvalues shape torch.Size([5]) eigenvectors shape torch.Size([5, 1024])\n",
      "232 /home/phdcs2/Hard_Disk/Datasets/Deep-Spectral-Segmentation/data/object-segmentation/ECSSD/features/0234_resized.pth\n",
      "dict_keys(['k', 'indices', 'file', 'id', 'model_name', 'patch_size', 'shape'])\n",
      "0234_resized\n",
      "Starting Training\n",
      "epoch: 00, loss: -0.91583\n",
      "epoch: 01, loss: -0.94901\n",
      "epoch: 02, loss: -0.95679\n",
      "epoch: 03, loss: -0.96128\n",
      "epoch: 04, loss: -0.96440\n",
      "epoch: 05, loss: -0.96672\n",
      "epoch: 06, loss: -0.96856\n",
      "epoch: 07, loss: -0.97005\n",
      "epoch: 08, loss: -0.97131\n",
      "epoch: 09, loss: -0.97238\n",
      "torch.Size([1024, 64])\n"
     ]
    },
    {
     "name": "stderr",
     "output_type": "stream",
     "text": [
      " 23%|██▎       | 233/999 [4:38:03<14:22:05, 67.53s/it]"
     ]
    },
    {
     "name": "stdout",
     "output_type": "stream",
     "text": [
      "eigenvalues shape torch.Size([5]) eigenvectors shape torch.Size([5, 1024])\n",
      "233 /home/phdcs2/Hard_Disk/Datasets/Deep-Spectral-Segmentation/data/object-segmentation/ECSSD/features/0235_resized.pth\n",
      "dict_keys(['k', 'indices', 'file', 'id', 'model_name', 'patch_size', 'shape'])\n",
      "0235_resized\n"
     ]
    },
    {
     "name": "stderr",
     "output_type": "stream",
     "text": [
      "/home/phdcs2/Hard_Disk/Projects/T2I/deep-spectral-segmentation/venv/lib/python3.8/site-packages/sklearn/decomposition/_pca.py:642: RuntimeWarning: invalid value encountered in divide\n",
      "  self.explained_variance_ratio_ = self.explained_variance_ / total_var\n"
     ]
    },
    {
     "name": "stdout",
     "output_type": "stream",
     "text": [
      "Starting Training\n",
      "epoch: 00, loss: -0.92570\n",
      "epoch: 01, loss: -0.95626\n",
      "epoch: 02, loss: -0.96303\n",
      "epoch: 03, loss: -0.96693\n",
      "epoch: 04, loss: -0.96962\n",
      "epoch: 05, loss: -0.97159\n",
      "epoch: 06, loss: -0.97317\n",
      "epoch: 07, loss: -0.97443\n",
      "epoch: 08, loss: -0.97552\n",
      "epoch: 09, loss: -0.97643\n",
      "torch.Size([1024, 64])\n"
     ]
    },
    {
     "name": "stderr",
     "output_type": "stream",
     "text": [
      " 23%|██▎       | 234/999 [4:39:10<14:18:44, 67.35s/it]"
     ]
    },
    {
     "name": "stdout",
     "output_type": "stream",
     "text": [
      "eigenvalues shape torch.Size([5]) eigenvectors shape torch.Size([5, 1024])\n",
      "234 /home/phdcs2/Hard_Disk/Datasets/Deep-Spectral-Segmentation/data/object-segmentation/ECSSD/features/0236_resized.pth\n",
      "dict_keys(['k', 'indices', 'file', 'id', 'model_name', 'patch_size', 'shape'])\n",
      "0236_resized\n",
      "Starting Training\n",
      "epoch: 00, loss: -0.83684\n",
      "epoch: 01, loss: -0.90712\n",
      "epoch: 02, loss: -0.92279\n",
      "epoch: 03, loss: -0.93128\n",
      "epoch: 04, loss: -0.93680\n",
      "epoch: 05, loss: -0.94076\n",
      "epoch: 06, loss: -0.94387\n",
      "epoch: 07, loss: -0.94640\n",
      "epoch: 08, loss: -0.94843\n",
      "epoch: 09, loss: -0.95021\n",
      "torch.Size([1024, 64])\n"
     ]
    },
    {
     "name": "stderr",
     "output_type": "stream",
     "text": [
      " 24%|██▎       | 235/999 [4:40:31<15:09:12, 71.40s/it]"
     ]
    },
    {
     "name": "stdout",
     "output_type": "stream",
     "text": [
      "eigenvalues shape torch.Size([5]) eigenvectors shape torch.Size([5, 1024])\n",
      "235 /home/phdcs2/Hard_Disk/Datasets/Deep-Spectral-Segmentation/data/object-segmentation/ECSSD/features/0237_resized.pth\n",
      "dict_keys(['k', 'indices', 'file', 'id', 'model_name', 'patch_size', 'shape'])\n",
      "0237_resized\n"
     ]
    },
    {
     "name": "stderr",
     "output_type": "stream",
     "text": [
      "/home/phdcs2/Hard_Disk/Projects/T2I/deep-spectral-segmentation/venv/lib/python3.8/site-packages/sklearn/decomposition/_pca.py:642: RuntimeWarning: invalid value encountered in divide\n",
      "  self.explained_variance_ratio_ = self.explained_variance_ / total_var\n"
     ]
    },
    {
     "name": "stdout",
     "output_type": "stream",
     "text": [
      "Starting Training\n",
      "epoch: 00, loss: -0.92375\n",
      "epoch: 01, loss: -0.95283\n",
      "epoch: 02, loss: -0.96048\n",
      "epoch: 03, loss: -0.96494\n",
      "epoch: 04, loss: -0.96795\n",
      "epoch: 05, loss: -0.97021\n",
      "epoch: 06, loss: -0.97195\n",
      "epoch: 07, loss: -0.97339\n",
      "epoch: 08, loss: -0.97458\n",
      "epoch: 09, loss: -0.97560\n",
      "torch.Size([1024, 64])\n"
     ]
    },
    {
     "name": "stderr",
     "output_type": "stream",
     "text": [
      " 24%|██▎       | 236/999 [4:41:49<15:34:02, 73.45s/it]"
     ]
    },
    {
     "name": "stdout",
     "output_type": "stream",
     "text": [
      "eigenvalues shape torch.Size([5]) eigenvectors shape torch.Size([5, 1024])\n",
      "236 /home/phdcs2/Hard_Disk/Datasets/Deep-Spectral-Segmentation/data/object-segmentation/ECSSD/features/0238_resized.pth\n",
      "dict_keys(['k', 'indices', 'file', 'id', 'model_name', 'patch_size', 'shape'])\n",
      "0238_resized\n",
      "Starting Training\n",
      "epoch: 00, loss: -0.87897\n",
      "epoch: 01, loss: -0.92932\n",
      "epoch: 02, loss: -0.94153\n",
      "epoch: 03, loss: -0.94830\n",
      "epoch: 04, loss: -0.95286\n",
      "epoch: 05, loss: -0.95623\n",
      "epoch: 06, loss: -0.95896\n",
      "epoch: 07, loss: -0.96108\n",
      "epoch: 08, loss: -0.96285\n",
      "epoch: 09, loss: -0.96434\n",
      "torch.Size([1024, 64])\n"
     ]
    },
    {
     "name": "stderr",
     "output_type": "stream",
     "text": [
      " 24%|██▎       | 237/999 [4:43:13<16:12:07, 76.55s/it]"
     ]
    },
    {
     "name": "stdout",
     "output_type": "stream",
     "text": [
      "eigenvalues shape torch.Size([5]) eigenvectors shape torch.Size([5, 1024])\n",
      "237 /home/phdcs2/Hard_Disk/Datasets/Deep-Spectral-Segmentation/data/object-segmentation/ECSSD/features/0239_resized.pth\n",
      "dict_keys(['k', 'indices', 'file', 'id', 'model_name', 'patch_size', 'shape'])\n",
      "0239_resized\n",
      "Starting Training\n",
      "epoch: 00, loss: -0.89812\n",
      "epoch: 01, loss: -0.94024\n",
      "epoch: 02, loss: -0.95041\n",
      "epoch: 03, loss: -0.95596\n",
      "epoch: 04, loss: -0.95979\n",
      "epoch: 05, loss: -0.96269\n",
      "epoch: 06, loss: -0.96484\n",
      "epoch: 07, loss: -0.96670\n",
      "epoch: 08, loss: -0.96822\n",
      "epoch: 09, loss: -0.96941\n",
      "torch.Size([1024, 64])\n"
     ]
    },
    {
     "name": "stderr",
     "output_type": "stream",
     "text": [
      " 24%|██▍       | 238/999 [4:44:40<16:52:43, 79.85s/it]"
     ]
    },
    {
     "name": "stdout",
     "output_type": "stream",
     "text": [
      "eigenvalues shape torch.Size([5]) eigenvectors shape torch.Size([5, 1024])\n",
      "238 /home/phdcs2/Hard_Disk/Datasets/Deep-Spectral-Segmentation/data/object-segmentation/ECSSD/features/0240_resized.pth\n",
      "dict_keys(['k', 'indices', 'file', 'id', 'model_name', 'patch_size', 'shape'])\n",
      "0240_resized\n",
      "Starting Training\n",
      "epoch: 00, loss: -0.89709\n",
      "epoch: 01, loss: -0.93758\n",
      "epoch: 02, loss: -0.94793\n",
      "epoch: 03, loss: -0.95366\n",
      "epoch: 04, loss: -0.95764\n",
      "epoch: 05, loss: -0.96068\n",
      "epoch: 06, loss: -0.96284\n",
      "epoch: 07, loss: -0.96481\n",
      "epoch: 08, loss: -0.96638\n",
      "epoch: 09, loss: -0.96765\n",
      "torch.Size([1024, 64])\n"
     ]
    },
    {
     "name": "stderr",
     "output_type": "stream",
     "text": [
      " 24%|██▍       | 239/999 [4:46:12<17:36:52, 83.44s/it]"
     ]
    },
    {
     "name": "stdout",
     "output_type": "stream",
     "text": [
      "eigenvalues shape torch.Size([5]) eigenvectors shape torch.Size([5, 1024])\n",
      "239 /home/phdcs2/Hard_Disk/Datasets/Deep-Spectral-Segmentation/data/object-segmentation/ECSSD/features/0241_resized.pth\n",
      "dict_keys(['k', 'indices', 'file', 'id', 'model_name', 'patch_size', 'shape'])\n",
      "0241_resized\n"
     ]
    },
    {
     "name": "stderr",
     "output_type": "stream",
     "text": [
      "/home/phdcs2/Hard_Disk/Projects/T2I/deep-spectral-segmentation/venv/lib/python3.8/site-packages/sklearn/decomposition/_pca.py:642: RuntimeWarning: invalid value encountered in divide\n",
      "  self.explained_variance_ratio_ = self.explained_variance_ / total_var\n"
     ]
    },
    {
     "name": "stdout",
     "output_type": "stream",
     "text": [
      "Starting Training\n",
      "epoch: 00, loss: -0.92521\n",
      "epoch: 01, loss: -0.95583\n",
      "epoch: 02, loss: -0.96247\n",
      "epoch: 03, loss: -0.96640\n",
      "epoch: 04, loss: -0.96906\n",
      "epoch: 05, loss: -0.97104\n",
      "epoch: 06, loss: -0.97263\n",
      "epoch: 07, loss: -0.97392\n",
      "epoch: 08, loss: -0.97499\n",
      "epoch: 09, loss: -0.97592\n",
      "torch.Size([1024, 64])\n"
     ]
    },
    {
     "name": "stderr",
     "output_type": "stream",
     "text": [
      " 24%|██▍       | 240/999 [4:47:44<18:05:54, 85.84s/it]"
     ]
    },
    {
     "name": "stdout",
     "output_type": "stream",
     "text": [
      "eigenvalues shape torch.Size([5]) eigenvectors shape torch.Size([5, 1024])\n",
      "240 /home/phdcs2/Hard_Disk/Datasets/Deep-Spectral-Segmentation/data/object-segmentation/ECSSD/features/0242_resized.pth\n",
      "dict_keys(['k', 'indices', 'file', 'id', 'model_name', 'patch_size', 'shape'])\n",
      "0242_resized\n"
     ]
    },
    {
     "name": "stderr",
     "output_type": "stream",
     "text": [
      "/home/phdcs2/Hard_Disk/Projects/T2I/deep-spectral-segmentation/venv/lib/python3.8/site-packages/sklearn/decomposition/_pca.py:642: RuntimeWarning: invalid value encountered in divide\n",
      "  self.explained_variance_ratio_ = self.explained_variance_ / total_var\n"
     ]
    },
    {
     "name": "stdout",
     "output_type": "stream",
     "text": [
      "Starting Training\n",
      "epoch: 00, loss: -0.92682\n",
      "epoch: 01, loss: -0.95661\n",
      "epoch: 02, loss: -0.96342\n",
      "epoch: 03, loss: -0.96735\n",
      "epoch: 04, loss: -0.96999\n",
      "epoch: 05, loss: -0.97199\n",
      "epoch: 06, loss: -0.97356\n",
      "epoch: 07, loss: -0.97484\n",
      "epoch: 08, loss: -0.97589\n",
      "epoch: 09, loss: -0.97681\n",
      "torch.Size([1024, 64])\n"
     ]
    },
    {
     "name": "stderr",
     "output_type": "stream",
     "text": [
      " 24%|██▍       | 241/999 [4:49:15<18:25:39, 87.52s/it]"
     ]
    },
    {
     "name": "stdout",
     "output_type": "stream",
     "text": [
      "eigenvalues shape torch.Size([5]) eigenvectors shape torch.Size([5, 1024])\n",
      "241 /home/phdcs2/Hard_Disk/Datasets/Deep-Spectral-Segmentation/data/object-segmentation/ECSSD/features/0243_resized.pth\n",
      "dict_keys(['k', 'indices', 'file', 'id', 'model_name', 'patch_size', 'shape'])\n",
      "0243_resized\n",
      "Starting Training\n",
      "epoch: 00, loss: -0.86732\n",
      "epoch: 01, loss: -0.92087\n",
      "epoch: 02, loss: -0.93552\n",
      "epoch: 03, loss: -0.94334\n",
      "epoch: 04, loss: -0.94883\n",
      "epoch: 05, loss: -0.95277\n",
      "epoch: 06, loss: -0.95579\n",
      "epoch: 07, loss: -0.95822\n",
      "epoch: 08, loss: -0.96024\n",
      "epoch: 09, loss: -0.96199\n",
      "torch.Size([1024, 64])\n"
     ]
    },
    {
     "name": "stderr",
     "output_type": "stream",
     "text": [
      " 24%|██▍       | 242/999 [4:50:48<18:45:06, 89.18s/it]"
     ]
    },
    {
     "name": "stdout",
     "output_type": "stream",
     "text": [
      "eigenvalues shape torch.Size([5]) eigenvectors shape torch.Size([5, 1024])\n",
      "242 /home/phdcs2/Hard_Disk/Datasets/Deep-Spectral-Segmentation/data/object-segmentation/ECSSD/features/0244_resized.pth\n",
      "dict_keys(['k', 'indices', 'file', 'id', 'model_name', 'patch_size', 'shape'])\n",
      "0244_resized\n",
      "Starting Training\n",
      "epoch: 00, loss: -0.88962\n",
      "epoch: 01, loss: -0.93598\n",
      "epoch: 02, loss: -0.94740\n",
      "epoch: 03, loss: -0.95361\n",
      "epoch: 04, loss: -0.95792\n",
      "epoch: 05, loss: -0.96097\n",
      "epoch: 06, loss: -0.96346\n",
      "epoch: 07, loss: -0.96545\n",
      "epoch: 08, loss: -0.96703\n",
      "epoch: 09, loss: -0.96833\n",
      "torch.Size([1024, 64])\n"
     ]
    },
    {
     "name": "stderr",
     "output_type": "stream",
     "text": [
      " 24%|██▍       | 243/999 [4:52:16<18:38:17, 88.75s/it]"
     ]
    },
    {
     "name": "stdout",
     "output_type": "stream",
     "text": [
      "eigenvalues shape torch.Size([5]) eigenvectors shape torch.Size([5, 1024])\n",
      "243 /home/phdcs2/Hard_Disk/Datasets/Deep-Spectral-Segmentation/data/object-segmentation/ECSSD/features/0245_resized.pth\n",
      "dict_keys(['k', 'indices', 'file', 'id', 'model_name', 'patch_size', 'shape'])\n",
      "0245_resized\n",
      "Starting Training\n",
      "epoch: 00, loss: -0.86420\n",
      "epoch: 01, loss: -0.91998\n",
      "epoch: 02, loss: -0.93387\n",
      "epoch: 03, loss: -0.94171\n",
      "epoch: 04, loss: -0.94697\n",
      "epoch: 05, loss: -0.95071\n",
      "epoch: 06, loss: -0.95374\n",
      "epoch: 07, loss: -0.95618\n",
      "epoch: 08, loss: -0.95806\n",
      "epoch: 09, loss: -0.95970\n",
      "torch.Size([1024, 64])\n"
     ]
    },
    {
     "name": "stderr",
     "output_type": "stream",
     "text": [
      " 24%|██▍       | 244/999 [4:53:43<18:29:51, 88.20s/it]"
     ]
    },
    {
     "name": "stdout",
     "output_type": "stream",
     "text": [
      "eigenvalues shape torch.Size([5]) eigenvectors shape torch.Size([5, 1024])\n",
      "244 /home/phdcs2/Hard_Disk/Datasets/Deep-Spectral-Segmentation/data/object-segmentation/ECSSD/features/0246_resized.pth\n",
      "dict_keys(['k', 'indices', 'file', 'id', 'model_name', 'patch_size', 'shape'])\n",
      "0246_resized\n",
      "Starting Training\n",
      "epoch: 00, loss: -0.84910\n",
      "epoch: 01, loss: -0.91278\n",
      "epoch: 02, loss: -0.92784\n",
      "epoch: 03, loss: -0.93639\n",
      "epoch: 04, loss: -0.94224\n",
      "epoch: 05, loss: -0.94624\n",
      "epoch: 06, loss: -0.94938\n",
      "epoch: 07, loss: -0.95202\n",
      "epoch: 08, loss: -0.95417\n",
      "epoch: 09, loss: -0.95600\n",
      "torch.Size([1024, 64])\n"
     ]
    },
    {
     "name": "stderr",
     "output_type": "stream",
     "text": [
      " 25%|██▍       | 245/999 [4:55:08<18:17:55, 87.37s/it]"
     ]
    },
    {
     "name": "stdout",
     "output_type": "stream",
     "text": [
      "eigenvalues shape torch.Size([5]) eigenvectors shape torch.Size([5, 1024])\n",
      "245 /home/phdcs2/Hard_Disk/Datasets/Deep-Spectral-Segmentation/data/object-segmentation/ECSSD/features/0247_resized.pth\n",
      "dict_keys(['k', 'indices', 'file', 'id', 'model_name', 'patch_size', 'shape'])\n",
      "0247_resized\n"
     ]
    },
    {
     "name": "stderr",
     "output_type": "stream",
     "text": [
      "/home/phdcs2/Hard_Disk/Projects/T2I/deep-spectral-segmentation/venv/lib/python3.8/site-packages/sklearn/decomposition/_pca.py:642: RuntimeWarning: invalid value encountered in divide\n",
      "  self.explained_variance_ratio_ = self.explained_variance_ / total_var\n"
     ]
    },
    {
     "name": "stdout",
     "output_type": "stream",
     "text": [
      "Starting Training\n",
      "epoch: 00, loss: -0.93372\n",
      "epoch: 01, loss: -0.96205\n",
      "epoch: 02, loss: -0.96767\n",
      "epoch: 03, loss: -0.97098\n",
      "epoch: 04, loss: -0.97320\n",
      "epoch: 05, loss: -0.97491\n",
      "epoch: 06, loss: -0.97621\n",
      "epoch: 07, loss: -0.97730\n",
      "epoch: 08, loss: -0.97821\n",
      "epoch: 09, loss: -0.97899\n",
      "torch.Size([1024, 64])\n"
     ]
    },
    {
     "name": "stderr",
     "output_type": "stream",
     "text": [
      " 25%|██▍       | 246/999 [4:56:33<18:05:29, 86.49s/it]"
     ]
    },
    {
     "name": "stdout",
     "output_type": "stream",
     "text": [
      "eigenvalues shape torch.Size([5]) eigenvectors shape torch.Size([5, 1024])\n",
      "246 /home/phdcs2/Hard_Disk/Datasets/Deep-Spectral-Segmentation/data/object-segmentation/ECSSD/features/0248_resized.pth\n",
      "dict_keys(['k', 'indices', 'file', 'id', 'model_name', 'patch_size', 'shape'])\n",
      "0248_resized\n"
     ]
    },
    {
     "name": "stderr",
     "output_type": "stream",
     "text": [
      "/home/phdcs2/Hard_Disk/Projects/T2I/deep-spectral-segmentation/venv/lib/python3.8/site-packages/sklearn/decomposition/_pca.py:642: RuntimeWarning: invalid value encountered in divide\n",
      "  self.explained_variance_ratio_ = self.explained_variance_ / total_var\n"
     ]
    },
    {
     "name": "stdout",
     "output_type": "stream",
     "text": [
      "Starting Training\n",
      "epoch: 00, loss: -0.92396\n",
      "epoch: 01, loss: -0.95388\n",
      "epoch: 02, loss: -0.96107\n",
      "epoch: 03, loss: -0.96524\n",
      "epoch: 04, loss: -0.96808\n",
      "epoch: 05, loss: -0.97015\n",
      "epoch: 06, loss: -0.97180\n",
      "epoch: 07, loss: -0.97315\n",
      "epoch: 08, loss: -0.97424\n",
      "epoch: 09, loss: -0.97520\n",
      "torch.Size([1024, 64])\n"
     ]
    },
    {
     "name": "stderr",
     "output_type": "stream",
     "text": [
      " 25%|██▍       | 247/999 [4:57:54<17:45:55, 85.05s/it]"
     ]
    },
    {
     "name": "stdout",
     "output_type": "stream",
     "text": [
      "eigenvalues shape torch.Size([5]) eigenvectors shape torch.Size([5, 1024])\n",
      "247 /home/phdcs2/Hard_Disk/Datasets/Deep-Spectral-Segmentation/data/object-segmentation/ECSSD/features/0249_resized.pth\n",
      "dict_keys(['k', 'indices', 'file', 'id', 'model_name', 'patch_size', 'shape'])\n",
      "0249_resized\n",
      "Starting Training\n",
      "epoch: 00, loss: -0.91800\n",
      "epoch: 01, loss: -0.95174\n",
      "epoch: 02, loss: -0.95960\n",
      "epoch: 03, loss: -0.96401\n",
      "epoch: 04, loss: -0.96715\n",
      "epoch: 05, loss: -0.96943\n",
      "epoch: 06, loss: -0.97110\n",
      "epoch: 07, loss: -0.97256\n",
      "epoch: 08, loss: -0.97370\n",
      "epoch: 09, loss: -0.97476\n",
      "torch.Size([1024, 64])\n"
     ]
    },
    {
     "name": "stderr",
     "output_type": "stream",
     "text": [
      " 25%|██▍       | 248/999 [4:59:15<17:28:55, 83.80s/it]"
     ]
    },
    {
     "name": "stdout",
     "output_type": "stream",
     "text": [
      "eigenvalues shape torch.Size([5]) eigenvectors shape torch.Size([5, 1024])\n",
      "248 /home/phdcs2/Hard_Disk/Datasets/Deep-Spectral-Segmentation/data/object-segmentation/ECSSD/features/0250_resized.pth\n",
      "dict_keys(['k', 'indices', 'file', 'id', 'model_name', 'patch_size', 'shape'])\n",
      "0250_resized\n",
      "Starting Training\n",
      "epoch: 00, loss: -0.86180\n",
      "epoch: 01, loss: -0.91632\n",
      "epoch: 02, loss: -0.93167\n",
      "epoch: 03, loss: -0.94074\n",
      "epoch: 04, loss: -0.94655\n",
      "epoch: 05, loss: -0.95078\n",
      "epoch: 06, loss: -0.95404\n",
      "epoch: 07, loss: -0.95667\n",
      "epoch: 08, loss: -0.95889\n",
      "epoch: 09, loss: -0.96065\n",
      "torch.Size([1024, 64])\n"
     ]
    },
    {
     "name": "stderr",
     "output_type": "stream",
     "text": [
      " 25%|██▍       | 249/999 [5:00:41<17:36:15, 84.50s/it]"
     ]
    },
    {
     "name": "stdout",
     "output_type": "stream",
     "text": [
      "eigenvalues shape torch.Size([5]) eigenvectors shape torch.Size([5, 1024])\n",
      "249 /home/phdcs2/Hard_Disk/Datasets/Deep-Spectral-Segmentation/data/object-segmentation/ECSSD/features/0251_resized.pth\n",
      "dict_keys(['k', 'indices', 'file', 'id', 'model_name', 'patch_size', 'shape'])\n",
      "0251_resized\n",
      "Starting Training\n",
      "epoch: 00, loss: -0.84837\n",
      "epoch: 01, loss: -0.91072\n",
      "epoch: 02, loss: -0.92554\n",
      "epoch: 03, loss: -0.93409\n",
      "epoch: 04, loss: -0.93965\n",
      "epoch: 05, loss: -0.94371\n",
      "epoch: 06, loss: -0.94691\n",
      "epoch: 07, loss: -0.94944\n",
      "epoch: 08, loss: -0.95151\n",
      "epoch: 09, loss: -0.95331\n",
      "torch.Size([1024, 64])\n"
     ]
    },
    {
     "name": "stderr",
     "output_type": "stream",
     "text": [
      " 25%|██▌       | 250/999 [5:02:07<17:40:00, 84.91s/it]"
     ]
    },
    {
     "name": "stdout",
     "output_type": "stream",
     "text": [
      "eigenvalues shape torch.Size([5]) eigenvectors shape torch.Size([5, 1024])\n",
      "250 /home/phdcs2/Hard_Disk/Datasets/Deep-Spectral-Segmentation/data/object-segmentation/ECSSD/features/0252_resized.pth\n",
      "dict_keys(['k', 'indices', 'file', 'id', 'model_name', 'patch_size', 'shape'])\n",
      "0252_resized\n",
      "Starting Training\n",
      "epoch: 00, loss: -0.88864\n",
      "epoch: 01, loss: -0.93393\n",
      "epoch: 02, loss: -0.94450\n",
      "epoch: 03, loss: -0.95059\n",
      "epoch: 04, loss: -0.95458\n",
      "epoch: 05, loss: -0.95760\n",
      "epoch: 06, loss: -0.95983\n",
      "epoch: 07, loss: -0.96180\n",
      "epoch: 08, loss: -0.96330\n",
      "epoch: 09, loss: -0.96472\n",
      "torch.Size([1024, 64])\n"
     ]
    },
    {
     "name": "stderr",
     "output_type": "stream",
     "text": [
      " 25%|██▌       | 251/999 [5:03:31<17:33:53, 84.54s/it]"
     ]
    },
    {
     "name": "stdout",
     "output_type": "stream",
     "text": [
      "eigenvalues shape torch.Size([5]) eigenvectors shape torch.Size([5, 1024])\n",
      "251 /home/phdcs2/Hard_Disk/Datasets/Deep-Spectral-Segmentation/data/object-segmentation/ECSSD/features/0253_resized.pth\n",
      "dict_keys(['k', 'indices', 'file', 'id', 'model_name', 'patch_size', 'shape'])\n",
      "0253_resized\n",
      "Starting Training\n",
      "epoch: 00, loss: -0.89771\n",
      "epoch: 01, loss: -0.94069\n",
      "epoch: 02, loss: -0.95063\n",
      "epoch: 03, loss: -0.95605\n",
      "epoch: 04, loss: -0.95980\n",
      "epoch: 05, loss: -0.96268\n",
      "epoch: 06, loss: -0.96480\n",
      "epoch: 07, loss: -0.96657\n",
      "epoch: 08, loss: -0.96799\n",
      "epoch: 09, loss: -0.96924\n",
      "torch.Size([1024, 64])\n"
     ]
    },
    {
     "name": "stderr",
     "output_type": "stream",
     "text": [
      " 25%|██▌       | 252/999 [5:04:51<17:17:08, 83.31s/it]"
     ]
    },
    {
     "name": "stdout",
     "output_type": "stream",
     "text": [
      "eigenvalues shape torch.Size([5]) eigenvectors shape torch.Size([5, 1024])\n",
      "252 /home/phdcs2/Hard_Disk/Datasets/Deep-Spectral-Segmentation/data/object-segmentation/ECSSD/features/0254_resized.pth\n",
      "dict_keys(['k', 'indices', 'file', 'id', 'model_name', 'patch_size', 'shape'])\n",
      "0254_resized\n",
      "Starting Training\n",
      "epoch: 00, loss: -0.88388\n",
      "epoch: 01, loss: -0.93146\n",
      "epoch: 02, loss: -0.94298\n",
      "epoch: 03, loss: -0.94957\n",
      "epoch: 04, loss: -0.95399\n",
      "epoch: 05, loss: -0.95731\n",
      "epoch: 06, loss: -0.95998\n",
      "epoch: 07, loss: -0.96208\n",
      "epoch: 08, loss: -0.96374\n",
      "epoch: 09, loss: -0.96519\n",
      "torch.Size([1024, 64])\n"
     ]
    },
    {
     "name": "stderr",
     "output_type": "stream",
     "text": [
      " 25%|██▌       | 253/999 [5:06:05<16:40:39, 80.48s/it]"
     ]
    },
    {
     "name": "stdout",
     "output_type": "stream",
     "text": [
      "eigenvalues shape torch.Size([5]) eigenvectors shape torch.Size([5, 1024])\n",
      "253 /home/phdcs2/Hard_Disk/Datasets/Deep-Spectral-Segmentation/data/object-segmentation/ECSSD/features/0255_resized.pth\n",
      "dict_keys(['k', 'indices', 'file', 'id', 'model_name', 'patch_size', 'shape'])\n",
      "0255_resized\n"
     ]
    },
    {
     "name": "stderr",
     "output_type": "stream",
     "text": [
      "/home/phdcs2/Hard_Disk/Projects/T2I/deep-spectral-segmentation/venv/lib/python3.8/site-packages/sklearn/decomposition/_pca.py:642: RuntimeWarning: invalid value encountered in divide\n",
      "  self.explained_variance_ratio_ = self.explained_variance_ / total_var\n"
     ]
    },
    {
     "name": "stdout",
     "output_type": "stream",
     "text": [
      "Starting Training\n",
      "epoch: 00, loss: -0.93221\n",
      "epoch: 01, loss: -0.96117\n",
      "epoch: 02, loss: -0.96719\n",
      "epoch: 03, loss: -0.97067\n",
      "epoch: 04, loss: -0.97303\n",
      "epoch: 05, loss: -0.97478\n",
      "epoch: 06, loss: -0.97616\n",
      "epoch: 07, loss: -0.97729\n",
      "epoch: 08, loss: -0.97822\n",
      "epoch: 09, loss: -0.97904\n",
      "torch.Size([1024, 64])\n"
     ]
    },
    {
     "name": "stderr",
     "output_type": "stream",
     "text": [
      " 25%|██▌       | 254/999 [5:07:29<16:49:52, 81.33s/it]"
     ]
    },
    {
     "name": "stdout",
     "output_type": "stream",
     "text": [
      "eigenvalues shape torch.Size([5]) eigenvectors shape torch.Size([5, 1024])\n",
      "254 /home/phdcs2/Hard_Disk/Datasets/Deep-Spectral-Segmentation/data/object-segmentation/ECSSD/features/0256_resized.pth\n",
      "dict_keys(['k', 'indices', 'file', 'id', 'model_name', 'patch_size', 'shape'])\n",
      "0256_resized\n",
      "Starting Training\n",
      "epoch: 00, loss: -0.87112\n",
      "epoch: 01, loss: -0.92484\n",
      "epoch: 02, loss: -0.93804\n",
      "epoch: 03, loss: -0.94535\n",
      "epoch: 04, loss: -0.95021\n",
      "epoch: 05, loss: -0.95375\n",
      "epoch: 06, loss: -0.95646\n",
      "epoch: 07, loss: -0.95870\n",
      "epoch: 08, loss: -0.96057\n",
      "epoch: 09, loss: -0.96207\n",
      "torch.Size([1024, 64])\n"
     ]
    },
    {
     "name": "stderr",
     "output_type": "stream",
     "text": [
      " 26%|██▌       | 255/999 [5:08:47<16:37:28, 80.44s/it]"
     ]
    },
    {
     "name": "stdout",
     "output_type": "stream",
     "text": [
      "eigenvalues shape torch.Size([5]) eigenvectors shape torch.Size([5, 1024])\n",
      "255 /home/phdcs2/Hard_Disk/Datasets/Deep-Spectral-Segmentation/data/object-segmentation/ECSSD/features/0257_resized.pth\n",
      "dict_keys(['k', 'indices', 'file', 'id', 'model_name', 'patch_size', 'shape'])\n",
      "0257_resized\n",
      "Starting Training\n",
      "epoch: 00, loss: -0.86120\n",
      "epoch: 01, loss: -0.91768\n",
      "epoch: 02, loss: -0.93241\n",
      "epoch: 03, loss: -0.94102\n",
      "epoch: 04, loss: -0.94671\n",
      "epoch: 05, loss: -0.95081\n",
      "epoch: 06, loss: -0.95405\n",
      "epoch: 07, loss: -0.95662\n",
      "epoch: 08, loss: -0.95864\n",
      "epoch: 09, loss: -0.96049\n",
      "torch.Size([1024, 64])\n"
     ]
    },
    {
     "name": "stderr",
     "output_type": "stream",
     "text": [
      " 26%|██▌       | 256/999 [5:10:06<16:32:49, 80.17s/it]"
     ]
    },
    {
     "name": "stdout",
     "output_type": "stream",
     "text": [
      "eigenvalues shape torch.Size([5]) eigenvectors shape torch.Size([5, 1024])\n",
      "256 /home/phdcs2/Hard_Disk/Datasets/Deep-Spectral-Segmentation/data/object-segmentation/ECSSD/features/0258_resized.pth\n",
      "dict_keys(['k', 'indices', 'file', 'id', 'model_name', 'patch_size', 'shape'])\n",
      "0258_resized\n",
      "Starting Training\n",
      "epoch: 00, loss: -0.88565\n",
      "epoch: 01, loss: -0.93365\n",
      "epoch: 02, loss: -0.94460\n",
      "epoch: 03, loss: -0.95103\n",
      "epoch: 04, loss: -0.95535\n",
      "epoch: 05, loss: -0.95840\n",
      "epoch: 06, loss: -0.96100\n",
      "epoch: 07, loss: -0.96294\n",
      "epoch: 08, loss: -0.96459\n",
      "epoch: 09, loss: -0.96593\n",
      "torch.Size([1024, 64])\n"
     ]
    },
    {
     "name": "stderr",
     "output_type": "stream",
     "text": [
      " 26%|██▌       | 257/999 [5:11:20<16:05:36, 78.08s/it]"
     ]
    },
    {
     "name": "stdout",
     "output_type": "stream",
     "text": [
      "eigenvalues shape torch.Size([5]) eigenvectors shape torch.Size([5, 1024])\n",
      "257 /home/phdcs2/Hard_Disk/Datasets/Deep-Spectral-Segmentation/data/object-segmentation/ECSSD/features/0259_resized.pth\n",
      "dict_keys(['k', 'indices', 'file', 'id', 'model_name', 'patch_size', 'shape'])\n",
      "0259_resized\n",
      "Starting Training\n",
      "epoch: 00, loss: -0.86617\n",
      "epoch: 01, loss: -0.92033\n",
      "epoch: 02, loss: -0.93410\n",
      "epoch: 03, loss: -0.94193\n",
      "epoch: 04, loss: -0.94727\n",
      "epoch: 05, loss: -0.95100\n",
      "epoch: 06, loss: -0.95400\n",
      "epoch: 07, loss: -0.95638\n",
      "epoch: 08, loss: -0.95838\n",
      "epoch: 09, loss: -0.96003\n",
      "torch.Size([1024, 64])\n"
     ]
    },
    {
     "name": "stderr",
     "output_type": "stream",
     "text": [
      " 26%|██▌       | 258/999 [5:12:29<15:30:18, 75.33s/it]"
     ]
    },
    {
     "name": "stdout",
     "output_type": "stream",
     "text": [
      "eigenvalues shape torch.Size([5]) eigenvectors shape torch.Size([5, 1024])\n",
      "258 /home/phdcs2/Hard_Disk/Datasets/Deep-Spectral-Segmentation/data/object-segmentation/ECSSD/features/0260_resized.pth\n",
      "dict_keys(['k', 'indices', 'file', 'id', 'model_name', 'patch_size', 'shape'])\n",
      "0260_resized\n"
     ]
    },
    {
     "name": "stderr",
     "output_type": "stream",
     "text": [
      "/home/phdcs2/Hard_Disk/Projects/T2I/deep-spectral-segmentation/venv/lib/python3.8/site-packages/sklearn/decomposition/_pca.py:642: RuntimeWarning: invalid value encountered in divide\n",
      "  self.explained_variance_ratio_ = self.explained_variance_ / total_var\n"
     ]
    },
    {
     "name": "stdout",
     "output_type": "stream",
     "text": [
      "Starting Training\n",
      "epoch: 00, loss: -0.93058\n",
      "epoch: 01, loss: -0.95857\n",
      "epoch: 02, loss: -0.96498\n",
      "epoch: 03, loss: -0.96875\n",
      "epoch: 04, loss: -0.97135\n",
      "epoch: 05, loss: -0.97327\n",
      "epoch: 06, loss: -0.97479\n",
      "epoch: 07, loss: -0.97603\n",
      "epoch: 08, loss: -0.97709\n",
      "epoch: 09, loss: -0.97796\n",
      "torch.Size([1024, 64])\n"
     ]
    },
    {
     "name": "stderr",
     "output_type": "stream",
     "text": [
      " 26%|██▌       | 259/999 [5:13:46<15:37:01, 75.98s/it]"
     ]
    },
    {
     "name": "stdout",
     "output_type": "stream",
     "text": [
      "eigenvalues shape torch.Size([5]) eigenvectors shape torch.Size([5, 1024])\n",
      "259 /home/phdcs2/Hard_Disk/Datasets/Deep-Spectral-Segmentation/data/object-segmentation/ECSSD/features/0261_resized.pth\n",
      "dict_keys(['k', 'indices', 'file', 'id', 'model_name', 'patch_size', 'shape'])\n",
      "0261_resized\n",
      "Starting Training\n",
      "epoch: 00, loss: -0.87761\n",
      "epoch: 01, loss: -0.93097\n",
      "epoch: 02, loss: -0.94281\n",
      "epoch: 03, loss: -0.94962\n",
      "epoch: 04, loss: -0.95417\n",
      "epoch: 05, loss: -0.95748\n",
      "epoch: 06, loss: -0.96002\n",
      "epoch: 07, loss: -0.96227\n",
      "epoch: 08, loss: -0.96398\n",
      "epoch: 09, loss: -0.96551\n",
      "torch.Size([1024, 64])\n"
     ]
    },
    {
     "name": "stderr",
     "output_type": "stream",
     "text": [
      " 26%|██▌       | 260/999 [5:15:06<15:51:39, 77.27s/it]"
     ]
    },
    {
     "name": "stdout",
     "output_type": "stream",
     "text": [
      "eigenvalues shape torch.Size([5]) eigenvectors shape torch.Size([5, 1024])\n",
      "260 /home/phdcs2/Hard_Disk/Datasets/Deep-Spectral-Segmentation/data/object-segmentation/ECSSD/features/0262_resized.pth\n",
      "dict_keys(['k', 'indices', 'file', 'id', 'model_name', 'patch_size', 'shape'])\n",
      "0262_resized\n"
     ]
    },
    {
     "name": "stderr",
     "output_type": "stream",
     "text": [
      "/home/phdcs2/Hard_Disk/Projects/T2I/deep-spectral-segmentation/venv/lib/python3.8/site-packages/sklearn/decomposition/_pca.py:642: RuntimeWarning: invalid value encountered in divide\n",
      "  self.explained_variance_ratio_ = self.explained_variance_ / total_var\n"
     ]
    },
    {
     "name": "stdout",
     "output_type": "stream",
     "text": [
      "Starting Training\n",
      "epoch: 00, loss: -0.93482\n",
      "epoch: 01, loss: -0.96231\n",
      "epoch: 02, loss: -0.96805\n",
      "epoch: 03, loss: -0.97135\n",
      "epoch: 04, loss: -0.97360\n",
      "epoch: 05, loss: -0.97527\n",
      "epoch: 06, loss: -0.97659\n",
      "epoch: 07, loss: -0.97767\n",
      "epoch: 08, loss: -0.97856\n",
      "epoch: 09, loss: -0.97934\n",
      "torch.Size([1024, 64])\n"
     ]
    },
    {
     "name": "stderr",
     "output_type": "stream",
     "text": [
      " 26%|██▌       | 261/999 [5:16:21<15:39:45, 76.40s/it]"
     ]
    },
    {
     "name": "stdout",
     "output_type": "stream",
     "text": [
      "eigenvalues shape torch.Size([5]) eigenvectors shape torch.Size([5, 1024])\n",
      "261 /home/phdcs2/Hard_Disk/Datasets/Deep-Spectral-Segmentation/data/object-segmentation/ECSSD/features/0263_resized.pth\n",
      "dict_keys(['k', 'indices', 'file', 'id', 'model_name', 'patch_size', 'shape'])\n",
      "0263_resized\n",
      "Starting Training\n",
      "epoch: 00, loss: -0.83892\n",
      "epoch: 01, loss: -0.90669\n",
      "epoch: 02, loss: -0.92463\n",
      "epoch: 03, loss: -0.93442\n",
      "epoch: 04, loss: -0.94081\n",
      "epoch: 05, loss: -0.94540\n",
      "epoch: 06, loss: -0.94906\n",
      "epoch: 07, loss: -0.95192\n",
      "epoch: 08, loss: -0.95421\n",
      "epoch: 09, loss: -0.95634\n",
      "torch.Size([1024, 64])\n"
     ]
    },
    {
     "name": "stderr",
     "output_type": "stream",
     "text": [
      " 26%|██▌       | 262/999 [5:17:29<15:10:19, 74.11s/it]"
     ]
    },
    {
     "name": "stdout",
     "output_type": "stream",
     "text": [
      "eigenvalues shape torch.Size([5]) eigenvectors shape torch.Size([5, 1024])\n",
      "262 /home/phdcs2/Hard_Disk/Datasets/Deep-Spectral-Segmentation/data/object-segmentation/ECSSD/features/0264_resized.pth\n",
      "dict_keys(['k', 'indices', 'file', 'id', 'model_name', 'patch_size', 'shape'])\n",
      "0264_resized\n"
     ]
    },
    {
     "name": "stderr",
     "output_type": "stream",
     "text": [
      "/home/phdcs2/Hard_Disk/Projects/T2I/deep-spectral-segmentation/venv/lib/python3.8/site-packages/sklearn/decomposition/_pca.py:642: RuntimeWarning: invalid value encountered in divide\n",
      "  self.explained_variance_ratio_ = self.explained_variance_ / total_var\n"
     ]
    },
    {
     "name": "stdout",
     "output_type": "stream",
     "text": [
      "Starting Training\n",
      "epoch: 00, loss: -0.91537\n",
      "epoch: 01, loss: -0.94939\n",
      "epoch: 02, loss: -0.95784\n",
      "epoch: 03, loss: -0.96269\n",
      "epoch: 04, loss: -0.96595\n",
      "epoch: 05, loss: -0.96840\n",
      "epoch: 06, loss: -0.97028\n",
      "epoch: 07, loss: -0.97185\n",
      "epoch: 08, loss: -0.97312\n",
      "epoch: 09, loss: -0.97421\n",
      "torch.Size([1024, 64])\n"
     ]
    },
    {
     "name": "stderr",
     "output_type": "stream",
     "text": [
      " 26%|██▋       | 263/999 [5:18:40<14:54:26, 72.92s/it]"
     ]
    },
    {
     "name": "stdout",
     "output_type": "stream",
     "text": [
      "eigenvalues shape torch.Size([5]) eigenvectors shape torch.Size([5, 1024])\n",
      "263 /home/phdcs2/Hard_Disk/Datasets/Deep-Spectral-Segmentation/data/object-segmentation/ECSSD/features/0265_resized.pth\n",
      "dict_keys(['k', 'indices', 'file', 'id', 'model_name', 'patch_size', 'shape'])\n",
      "0265_resized\n"
     ]
    },
    {
     "name": "stderr",
     "output_type": "stream",
     "text": [
      "/home/phdcs2/Hard_Disk/Projects/T2I/deep-spectral-segmentation/venv/lib/python3.8/site-packages/sklearn/decomposition/_pca.py:642: RuntimeWarning: invalid value encountered in divide\n",
      "  self.explained_variance_ratio_ = self.explained_variance_ / total_var\n"
     ]
    },
    {
     "name": "stdout",
     "output_type": "stream",
     "text": [
      "Starting Training\n",
      "epoch: 00, loss: -0.91189\n",
      "epoch: 01, loss: -0.94588\n",
      "epoch: 02, loss: -0.95449\n",
      "epoch: 03, loss: -0.95943\n",
      "epoch: 04, loss: -0.96282\n",
      "epoch: 05, loss: -0.96532\n",
      "epoch: 06, loss: -0.96734\n",
      "epoch: 07, loss: -0.96888\n",
      "epoch: 08, loss: -0.97024\n",
      "epoch: 09, loss: -0.97137\n",
      "torch.Size([1024, 64])\n"
     ]
    },
    {
     "name": "stderr",
     "output_type": "stream",
     "text": [
      " 26%|██▋       | 264/999 [5:19:53<14:55:24, 73.09s/it]"
     ]
    },
    {
     "name": "stdout",
     "output_type": "stream",
     "text": [
      "eigenvalues shape torch.Size([5]) eigenvectors shape torch.Size([5, 1024])\n",
      "264 /home/phdcs2/Hard_Disk/Datasets/Deep-Spectral-Segmentation/data/object-segmentation/ECSSD/features/0266_resized.pth\n",
      "dict_keys(['k', 'indices', 'file', 'id', 'model_name', 'patch_size', 'shape'])\n",
      "0266_resized\n"
     ]
    },
    {
     "name": "stderr",
     "output_type": "stream",
     "text": [
      "/home/phdcs2/Hard_Disk/Projects/T2I/deep-spectral-segmentation/venv/lib/python3.8/site-packages/sklearn/decomposition/_pca.py:642: RuntimeWarning: invalid value encountered in divide\n",
      "  self.explained_variance_ratio_ = self.explained_variance_ / total_var\n"
     ]
    },
    {
     "name": "stdout",
     "output_type": "stream",
     "text": [
      "Starting Training\n",
      "epoch: 00, loss: -0.93842\n",
      "epoch: 01, loss: -0.96274\n",
      "epoch: 02, loss: -0.96857\n",
      "epoch: 03, loss: -0.97196\n",
      "epoch: 04, loss: -0.97430\n",
      "epoch: 05, loss: -0.97603\n",
      "epoch: 06, loss: -0.97741\n",
      "epoch: 07, loss: -0.97853\n",
      "epoch: 08, loss: -0.97944\n",
      "epoch: 09, loss: -0.98024\n",
      "torch.Size([1024, 64])\n"
     ]
    },
    {
     "name": "stderr",
     "output_type": "stream",
     "text": [
      " 27%|██▋       | 265/999 [5:20:59<14:27:54, 70.95s/it]"
     ]
    },
    {
     "name": "stdout",
     "output_type": "stream",
     "text": [
      "eigenvalues shape torch.Size([5]) eigenvectors shape torch.Size([5, 1024])\n",
      "265 /home/phdcs2/Hard_Disk/Datasets/Deep-Spectral-Segmentation/data/object-segmentation/ECSSD/features/0267_resized.pth\n",
      "dict_keys(['k', 'indices', 'file', 'id', 'model_name', 'patch_size', 'shape'])\n",
      "0267_resized\n",
      "Starting Training\n",
      "epoch: 00, loss: -0.87466\n",
      "epoch: 01, loss: -0.92481\n",
      "epoch: 02, loss: -0.93691\n",
      "epoch: 03, loss: -0.94402\n",
      "epoch: 04, loss: -0.94868\n",
      "epoch: 05, loss: -0.95205\n",
      "epoch: 06, loss: -0.95478\n",
      "epoch: 07, loss: -0.95698\n",
      "epoch: 08, loss: -0.95886\n",
      "epoch: 09, loss: -0.96033\n",
      "torch.Size([1024, 64])\n"
     ]
    },
    {
     "name": "stderr",
     "output_type": "stream",
     "text": [
      " 27%|██▋       | 266/999 [5:22:18<14:54:16, 73.20s/it]"
     ]
    },
    {
     "name": "stdout",
     "output_type": "stream",
     "text": [
      "eigenvalues shape torch.Size([5]) eigenvectors shape torch.Size([5, 1024])\n",
      "266 /home/phdcs2/Hard_Disk/Datasets/Deep-Spectral-Segmentation/data/object-segmentation/ECSSD/features/0268_resized.pth\n",
      "dict_keys(['k', 'indices', 'file', 'id', 'model_name', 'patch_size', 'shape'])\n",
      "0268_resized\n"
     ]
    },
    {
     "name": "stderr",
     "output_type": "stream",
     "text": [
      "/home/phdcs2/Hard_Disk/Projects/T2I/deep-spectral-segmentation/venv/lib/python3.8/site-packages/sklearn/decomposition/_pca.py:642: RuntimeWarning: invalid value encountered in divide\n",
      "  self.explained_variance_ratio_ = self.explained_variance_ / total_var\n"
     ]
    },
    {
     "name": "stdout",
     "output_type": "stream",
     "text": [
      "Starting Training\n",
      "epoch: 00, loss: -0.93664\n",
      "epoch: 01, loss: -0.96142\n",
      "epoch: 02, loss: -0.96738\n",
      "epoch: 03, loss: -0.97086\n",
      "epoch: 04, loss: -0.97326\n",
      "epoch: 05, loss: -0.97506\n",
      "epoch: 06, loss: -0.97648\n",
      "epoch: 07, loss: -0.97762\n",
      "epoch: 08, loss: -0.97858\n",
      "epoch: 09, loss: -0.97939\n",
      "torch.Size([1024, 64])\n"
     ]
    },
    {
     "name": "stderr",
     "output_type": "stream",
     "text": [
      " 27%|██▋       | 267/999 [5:23:34<15:04:17, 74.12s/it]"
     ]
    },
    {
     "name": "stdout",
     "output_type": "stream",
     "text": [
      "eigenvalues shape torch.Size([5]) eigenvectors shape torch.Size([5, 1024])\n",
      "267 /home/phdcs2/Hard_Disk/Datasets/Deep-Spectral-Segmentation/data/object-segmentation/ECSSD/features/0269_resized.pth\n",
      "dict_keys(['k', 'indices', 'file', 'id', 'model_name', 'patch_size', 'shape'])\n",
      "0269_resized\n",
      "Starting Training\n",
      "epoch: 00, loss: -0.92224\n",
      "epoch: 01, loss: -0.95237\n",
      "epoch: 02, loss: -0.95947\n",
      "epoch: 03, loss: -0.96366\n",
      "epoch: 04, loss: -0.96657\n",
      "epoch: 05, loss: -0.96873\n",
      "epoch: 06, loss: -0.97042\n",
      "epoch: 07, loss: -0.97183\n",
      "epoch: 08, loss: -0.97299\n",
      "epoch: 09, loss: -0.97400\n",
      "torch.Size([1024, 64])\n"
     ]
    },
    {
     "name": "stderr",
     "output_type": "stream",
     "text": [
      " 27%|██▋       | 268/999 [5:24:58<15:39:27, 77.11s/it]"
     ]
    },
    {
     "name": "stdout",
     "output_type": "stream",
     "text": [
      "eigenvalues shape torch.Size([5]) eigenvectors shape torch.Size([5, 1024])\n",
      "268 /home/phdcs2/Hard_Disk/Datasets/Deep-Spectral-Segmentation/data/object-segmentation/ECSSD/features/0270_resized.pth\n",
      "dict_keys(['k', 'indices', 'file', 'id', 'model_name', 'patch_size', 'shape'])\n",
      "0270_resized\n",
      "Starting Training\n",
      "epoch: 00, loss: -0.92784\n",
      "epoch: 01, loss: -0.95589\n",
      "epoch: 02, loss: -0.96248\n",
      "epoch: 03, loss: -0.96637\n",
      "epoch: 04, loss: -0.96908\n",
      "epoch: 05, loss: -0.97106\n",
      "epoch: 06, loss: -0.97268\n",
      "epoch: 07, loss: -0.97397\n",
      "epoch: 08, loss: -0.97506\n",
      "epoch: 09, loss: -0.97600\n",
      "torch.Size([1024, 64])\n"
     ]
    },
    {
     "name": "stderr",
     "output_type": "stream",
     "text": [
      " 27%|██▋       | 269/999 [5:26:13<15:30:18, 76.46s/it]"
     ]
    },
    {
     "name": "stdout",
     "output_type": "stream",
     "text": [
      "eigenvalues shape torch.Size([5]) eigenvectors shape torch.Size([5, 1024])\n",
      "269 /home/phdcs2/Hard_Disk/Datasets/Deep-Spectral-Segmentation/data/object-segmentation/ECSSD/features/0271_resized.pth\n",
      "dict_keys(['k', 'indices', 'file', 'id', 'model_name', 'patch_size', 'shape'])\n",
      "0271_resized\n",
      "Starting Training\n",
      "epoch: 00, loss: -0.88331\n",
      "epoch: 01, loss: -0.92872\n",
      "epoch: 02, loss: -0.94105\n",
      "epoch: 03, loss: -0.94793\n",
      "epoch: 04, loss: -0.95261\n",
      "epoch: 05, loss: -0.95610\n",
      "epoch: 06, loss: -0.95883\n",
      "epoch: 07, loss: -0.96111\n",
      "epoch: 08, loss: -0.96298\n",
      "epoch: 09, loss: -0.96451\n",
      "torch.Size([1024, 64])\n"
     ]
    },
    {
     "name": "stderr",
     "output_type": "stream",
     "text": [
      " 27%|██▋       | 270/999 [5:27:32<15:40:23, 77.40s/it]"
     ]
    },
    {
     "name": "stdout",
     "output_type": "stream",
     "text": [
      "eigenvalues shape torch.Size([5]) eigenvectors shape torch.Size([5, 1024])\n",
      "270 /home/phdcs2/Hard_Disk/Datasets/Deep-Spectral-Segmentation/data/object-segmentation/ECSSD/features/0272_resized.pth\n",
      "dict_keys(['k', 'indices', 'file', 'id', 'model_name', 'patch_size', 'shape'])\n",
      "0272_resized\n",
      "Starting Training\n",
      "epoch: 00, loss: -0.93949\n",
      "epoch: 01, loss: -0.96506\n",
      "epoch: 02, loss: -0.97060\n",
      "epoch: 03, loss: -0.97379\n",
      "epoch: 04, loss: -0.97598\n",
      "epoch: 05, loss: -0.97759\n",
      "epoch: 06, loss: -0.97886\n",
      "epoch: 07, loss: -0.97990\n",
      "epoch: 08, loss: -0.98077\n",
      "epoch: 09, loss: -0.98151\n",
      "torch.Size([1024, 64])\n"
     ]
    },
    {
     "name": "stderr",
     "output_type": "stream",
     "text": [
      " 27%|██▋       | 271/999 [5:28:58<16:09:01, 79.86s/it]"
     ]
    },
    {
     "name": "stdout",
     "output_type": "stream",
     "text": [
      "eigenvalues shape torch.Size([5]) eigenvectors shape torch.Size([5, 1024])\n",
      "271 /home/phdcs2/Hard_Disk/Datasets/Deep-Spectral-Segmentation/data/object-segmentation/ECSSD/features/0273_resized.pth\n",
      "dict_keys(['k', 'indices', 'file', 'id', 'model_name', 'patch_size', 'shape'])\n",
      "0273_resized\n",
      "Starting Training\n",
      "epoch: 00, loss: -0.88804\n",
      "epoch: 01, loss: -0.93423\n",
      "epoch: 02, loss: -0.94554\n",
      "epoch: 03, loss: -0.95193\n",
      "epoch: 04, loss: -0.95630\n",
      "epoch: 05, loss: -0.95944\n",
      "epoch: 06, loss: -0.96195\n",
      "epoch: 07, loss: -0.96390\n",
      "epoch: 08, loss: -0.96566\n",
      "epoch: 09, loss: -0.96709\n",
      "torch.Size([1024, 64])\n"
     ]
    },
    {
     "name": "stderr",
     "output_type": "stream",
     "text": [
      " 27%|██▋       | 272/999 [5:30:21<16:18:32, 80.76s/it]"
     ]
    },
    {
     "name": "stdout",
     "output_type": "stream",
     "text": [
      "eigenvalues shape torch.Size([5]) eigenvectors shape torch.Size([5, 1024])\n",
      "272 /home/phdcs2/Hard_Disk/Datasets/Deep-Spectral-Segmentation/data/object-segmentation/ECSSD/features/0274_resized.pth\n",
      "dict_keys(['k', 'indices', 'file', 'id', 'model_name', 'patch_size', 'shape'])\n",
      "0274_resized\n",
      "Starting Training\n",
      "epoch: 00, loss: -0.84805\n",
      "epoch: 01, loss: -0.91179\n",
      "epoch: 02, loss: -0.92691\n",
      "epoch: 03, loss: -0.93538\n",
      "epoch: 04, loss: -0.94118\n",
      "epoch: 05, loss: -0.94533\n",
      "epoch: 06, loss: -0.94855\n",
      "epoch: 07, loss: -0.95128\n",
      "epoch: 08, loss: -0.95357\n",
      "epoch: 09, loss: -0.95545\n",
      "torch.Size([1024, 64])\n"
     ]
    },
    {
     "name": "stderr",
     "output_type": "stream",
     "text": [
      " 27%|██▋       | 273/999 [5:31:48<16:40:04, 82.65s/it]"
     ]
    },
    {
     "name": "stdout",
     "output_type": "stream",
     "text": [
      "eigenvalues shape torch.Size([5]) eigenvectors shape torch.Size([5, 1024])\n",
      "273 /home/phdcs2/Hard_Disk/Datasets/Deep-Spectral-Segmentation/data/object-segmentation/ECSSD/features/0275_resized.pth\n",
      "dict_keys(['k', 'indices', 'file', 'id', 'model_name', 'patch_size', 'shape'])\n",
      "0275_resized\n",
      "Starting Training\n",
      "epoch: 00, loss: -0.88771\n",
      "epoch: 01, loss: -0.93369\n",
      "epoch: 02, loss: -0.94471\n",
      "epoch: 03, loss: -0.95123\n",
      "epoch: 04, loss: -0.95562\n",
      "epoch: 05, loss: -0.95888\n",
      "epoch: 06, loss: -0.96144\n",
      "epoch: 07, loss: -0.96346\n",
      "epoch: 08, loss: -0.96517\n",
      "epoch: 09, loss: -0.96664\n",
      "torch.Size([1024, 64])\n"
     ]
    },
    {
     "name": "stderr",
     "output_type": "stream",
     "text": [
      " 27%|██▋       | 274/999 [5:33:19<17:08:41, 85.13s/it]"
     ]
    },
    {
     "name": "stdout",
     "output_type": "stream",
     "text": [
      "eigenvalues shape torch.Size([5]) eigenvectors shape torch.Size([5, 1024])\n",
      "274 /home/phdcs2/Hard_Disk/Datasets/Deep-Spectral-Segmentation/data/object-segmentation/ECSSD/features/0276_resized.pth\n",
      "dict_keys(['k', 'indices', 'file', 'id', 'model_name', 'patch_size', 'shape'])\n",
      "0276_resized\n",
      "Starting Training\n",
      "epoch: 00, loss: -0.89546\n",
      "epoch: 01, loss: -0.93782\n",
      "epoch: 02, loss: -0.94790\n",
      "epoch: 03, loss: -0.95345\n",
      "epoch: 04, loss: -0.95736\n",
      "epoch: 05, loss: -0.96025\n",
      "epoch: 06, loss: -0.96248\n",
      "epoch: 07, loss: -0.96419\n",
      "epoch: 08, loss: -0.96572\n",
      "epoch: 09, loss: -0.96706\n",
      "torch.Size([1024, 64])\n"
     ]
    },
    {
     "name": "stderr",
     "output_type": "stream",
     "text": [
      " 28%|██▊       | 275/999 [5:34:42<16:58:36, 84.41s/it]"
     ]
    },
    {
     "name": "stdout",
     "output_type": "stream",
     "text": [
      "eigenvalues shape torch.Size([5]) eigenvectors shape torch.Size([5, 1024])\n",
      "275 /home/phdcs2/Hard_Disk/Datasets/Deep-Spectral-Segmentation/data/object-segmentation/ECSSD/features/0277_resized.pth\n",
      "dict_keys(['k', 'indices', 'file', 'id', 'model_name', 'patch_size', 'shape'])\n",
      "0277_resized\n",
      "Starting Training\n",
      "epoch: 00, loss: -0.90037\n",
      "epoch: 01, loss: -0.93894\n",
      "epoch: 02, loss: -0.94931\n",
      "epoch: 03, loss: -0.95518\n",
      "epoch: 04, loss: -0.95926\n",
      "epoch: 05, loss: -0.96210\n",
      "epoch: 06, loss: -0.96443\n",
      "epoch: 07, loss: -0.96625\n",
      "epoch: 08, loss: -0.96781\n",
      "epoch: 09, loss: -0.96907\n",
      "torch.Size([1024, 64])\n"
     ]
    },
    {
     "name": "stderr",
     "output_type": "stream",
     "text": [
      " 28%|██▊       | 276/999 [5:36:08<17:05:30, 85.11s/it]"
     ]
    },
    {
     "name": "stdout",
     "output_type": "stream",
     "text": [
      "eigenvalues shape torch.Size([5]) eigenvectors shape torch.Size([5, 1024])\n",
      "276 /home/phdcs2/Hard_Disk/Datasets/Deep-Spectral-Segmentation/data/object-segmentation/ECSSD/features/0278_resized.pth\n",
      "dict_keys(['k', 'indices', 'file', 'id', 'model_name', 'patch_size', 'shape'])\n",
      "0278_resized\n",
      "epoch: 01, loss: -0.96348\n",
      "epoch: 02, loss: -0.96908\n",
      "epoch: 03, loss: -0.97231\n",
      "epoch: 04, loss: -0.97453\n",
      "epoch: 05, loss: -0.97620\n",
      "epoch: 06, loss: -0.97750\n",
      "epoch: 07, loss: -0.97856\n",
      "epoch: 08, loss: -0.97946\n",
      "epoch: 09, loss: -0.98022\n",
      "torch.Size([1024, 64])\n"
     ]
    },
    {
     "name": "stderr",
     "output_type": "stream",
     "text": [
      " 29%|██▉       | 291/999 [5:55:58<13:18:24, 67.66s/it]"
     ]
    },
    {
     "name": "stdout",
     "output_type": "stream",
     "text": [
      "eigenvalues shape torch.Size([5]) eigenvectors shape torch.Size([5, 1024])\n",
      "291 /home/phdcs2/Hard_Disk/Datasets/Deep-Spectral-Segmentation/data/object-segmentation/ECSSD/features/0293_resized.pth\n",
      "dict_keys(['k', 'indices', 'file', 'id', 'model_name', 'patch_size', 'shape'])\n",
      "0293_resized\n",
      "Starting Training\n",
      "epoch: 00, loss: -0.86492\n",
      "epoch: 01, loss: -0.91646\n",
      "epoch: 02, loss: -0.93081\n",
      "epoch: 03, loss: -0.93903\n",
      "epoch: 04, loss: -0.94472\n",
      "epoch: 05, loss: -0.94877\n",
      "epoch: 06, loss: -0.95188\n",
      "epoch: 07, loss: -0.95443\n",
      "epoch: 08, loss: -0.95666\n",
      "epoch: 09, loss: -0.95836\n",
      "torch.Size([1024, 64])\n"
     ]
    },
    {
     "name": "stderr",
     "output_type": "stream",
     "text": [
      " 29%|██▉       | 292/999 [5:57:06<13:19:08, 67.82s/it]"
     ]
    },
    {
     "name": "stdout",
     "output_type": "stream",
     "text": [
      "eigenvalues shape torch.Size([5]) eigenvectors shape torch.Size([5, 1024])\n",
      "292 /home/phdcs2/Hard_Disk/Datasets/Deep-Spectral-Segmentation/data/object-segmentation/ECSSD/features/0294_resized.pth\n",
      "dict_keys(['k', 'indices', 'file', 'id', 'model_name', 'patch_size', 'shape'])\n",
      "0294_resized\n",
      "Starting Training\n",
      "epoch: 00, loss: -0.93845\n",
      "epoch: 01, loss: -0.96435\n",
      "epoch: 02, loss: -0.96973\n",
      "epoch: 03, loss: -0.97291\n",
      "epoch: 04, loss: -0.97506\n",
      "epoch: 05, loss: -0.97669\n",
      "epoch: 06, loss: -0.97798\n",
      "epoch: 07, loss: -0.97901\n",
      "epoch: 08, loss: -0.97990\n",
      "epoch: 09, loss: -0.98065\n",
      "torch.Size([1024, 64])\n"
     ]
    },
    {
     "name": "stderr",
     "output_type": "stream",
     "text": [
      " 29%|██▉       | 293/999 [5:58:15<13:21:48, 68.14s/it]"
     ]
    },
    {
     "name": "stdout",
     "output_type": "stream",
     "text": [
      "eigenvalues shape torch.Size([5]) eigenvectors shape torch.Size([5, 1024])\n",
      "293 /home/phdcs2/Hard_Disk/Datasets/Deep-Spectral-Segmentation/data/object-segmentation/ECSSD/features/0295_resized.pth\n",
      "dict_keys(['k', 'indices', 'file', 'id', 'model_name', 'patch_size', 'shape'])\n",
      "0295_resized\n"
     ]
    },
    {
     "name": "stderr",
     "output_type": "stream",
     "text": [
      "/home/phdcs2/Hard_Disk/Projects/T2I/deep-spectral-segmentation/venv/lib/python3.8/site-packages/sklearn/decomposition/_pca.py:642: RuntimeWarning: invalid value encountered in divide\n",
      "  self.explained_variance_ratio_ = self.explained_variance_ / total_var\n"
     ]
    },
    {
     "name": "stdout",
     "output_type": "stream",
     "text": [
      "Starting Training\n",
      "epoch: 00, loss: -0.93141\n",
      "epoch: 01, loss: -0.95974\n",
      "epoch: 02, loss: -0.96575\n",
      "epoch: 03, loss: -0.96928\n",
      "epoch: 04, loss: -0.97174\n",
      "epoch: 05, loss: -0.97358\n",
      "epoch: 06, loss: -0.97503\n",
      "epoch: 07, loss: -0.97621\n",
      "epoch: 08, loss: -0.97722\n",
      "epoch: 09, loss: -0.97807\n",
      "torch.Size([1024, 64])\n"
     ]
    },
    {
     "name": "stderr",
     "output_type": "stream",
     "text": [
      " 29%|██▉       | 294/999 [5:59:16<12:55:47, 66.02s/it]"
     ]
    },
    {
     "name": "stdout",
     "output_type": "stream",
     "text": [
      "eigenvalues shape torch.Size([5]) eigenvectors shape torch.Size([5, 1024])\n",
      "294 /home/phdcs2/Hard_Disk/Datasets/Deep-Spectral-Segmentation/data/object-segmentation/ECSSD/features/0296_resized.pth\n",
      "dict_keys(['k', 'indices', 'file', 'id', 'model_name', 'patch_size', 'shape'])\n",
      "0296_resized\n",
      "Starting Training\n",
      "epoch: 00, loss: -0.93014\n",
      "epoch: 01, loss: -0.96027\n",
      "epoch: 02, loss: -0.96679\n",
      "epoch: 03, loss: -0.97058\n",
      "epoch: 04, loss: -0.97311\n",
      "epoch: 05, loss: -0.97501\n",
      "epoch: 06, loss: -0.97650\n",
      "epoch: 07, loss: -0.97768\n",
      "epoch: 08, loss: -0.97870\n",
      "epoch: 09, loss: -0.97956\n",
      "torch.Size([1024, 64])\n"
     ]
    },
    {
     "name": "stderr",
     "output_type": "stream",
     "text": [
      " 30%|██▉       | 295/999 [6:00:15<12:30:51, 63.99s/it]"
     ]
    },
    {
     "name": "stdout",
     "output_type": "stream",
     "text": [
      "eigenvalues shape torch.Size([5]) eigenvectors shape torch.Size([5, 1024])\n",
      "295 /home/phdcs2/Hard_Disk/Datasets/Deep-Spectral-Segmentation/data/object-segmentation/ECSSD/features/0297_resized.pth\n",
      "dict_keys(['k', 'indices', 'file', 'id', 'model_name', 'patch_size', 'shape'])\n",
      "0297_resized\n"
     ]
    },
    {
     "name": "stderr",
     "output_type": "stream",
     "text": [
      "/home/phdcs2/Hard_Disk/Projects/T2I/deep-spectral-segmentation/venv/lib/python3.8/site-packages/sklearn/decomposition/_pca.py:642: RuntimeWarning: invalid value encountered in divide\n",
      "  self.explained_variance_ratio_ = self.explained_variance_ / total_var\n"
     ]
    },
    {
     "name": "stdout",
     "output_type": "stream",
     "text": [
      "Starting Training\n",
      "epoch: 00, loss: -0.93230\n",
      "epoch: 01, loss: -0.95808\n",
      "epoch: 02, loss: -0.96433\n",
      "epoch: 03, loss: -0.96800\n",
      "epoch: 04, loss: -0.97051\n",
      "epoch: 05, loss: -0.97241\n",
      "epoch: 06, loss: -0.97390\n",
      "epoch: 07, loss: -0.97512\n",
      "epoch: 08, loss: -0.97617\n",
      "epoch: 09, loss: -0.97702\n",
      "torch.Size([1024, 64])\n"
     ]
    },
    {
     "name": "stderr",
     "output_type": "stream",
     "text": [
      " 30%|██▉       | 296/999 [6:01:11<12:00:07, 61.46s/it]"
     ]
    },
    {
     "name": "stdout",
     "output_type": "stream",
     "text": [
      "eigenvalues shape torch.Size([5]) eigenvectors shape torch.Size([5, 1024])\n",
      "296 /home/phdcs2/Hard_Disk/Datasets/Deep-Spectral-Segmentation/data/object-segmentation/ECSSD/features/0298_resized.pth\n",
      "dict_keys(['k', 'indices', 'file', 'id', 'model_name', 'patch_size', 'shape'])\n",
      "0298_resized\n"
     ]
    },
    {
     "name": "stderr",
     "output_type": "stream",
     "text": [
      "/home/phdcs2/Hard_Disk/Projects/T2I/deep-spectral-segmentation/venv/lib/python3.8/site-packages/sklearn/decomposition/_pca.py:642: RuntimeWarning: invalid value encountered in divide\n",
      "  self.explained_variance_ratio_ = self.explained_variance_ / total_var\n"
     ]
    },
    {
     "name": "stdout",
     "output_type": "stream",
     "text": [
      "Starting Training\n",
      "epoch: 00, loss: -0.92719\n",
      "epoch: 01, loss: -0.95395\n",
      "epoch: 02, loss: -0.96068\n",
      "epoch: 03, loss: -0.96469\n",
      "epoch: 04, loss: -0.96751\n",
      "epoch: 05, loss: -0.96954\n",
      "epoch: 06, loss: -0.97118\n",
      "epoch: 07, loss: -0.97254\n",
      "epoch: 08, loss: -0.97366\n",
      "epoch: 09, loss: -0.97464\n",
      "torch.Size([1024, 64])\n"
     ]
    },
    {
     "name": "stderr",
     "output_type": "stream",
     "text": [
      " 30%|██▉       | 297/999 [6:02:13<12:01:38, 61.68s/it]"
     ]
    },
    {
     "name": "stdout",
     "output_type": "stream",
     "text": [
      "eigenvalues shape torch.Size([5]) eigenvectors shape torch.Size([5, 1024])\n",
      "297 /home/phdcs2/Hard_Disk/Datasets/Deep-Spectral-Segmentation/data/object-segmentation/ECSSD/features/0299_resized.pth\n",
      "dict_keys(['k', 'indices', 'file', 'id', 'model_name', 'patch_size', 'shape'])\n",
      "0299_resized\n",
      "Starting Training\n",
      "epoch: 00, loss: -0.86337\n",
      "epoch: 01, loss: -0.91951\n",
      "epoch: 02, loss: -0.93298\n",
      "epoch: 03, loss: -0.94062\n",
      "epoch: 04, loss: -0.94591\n",
      "epoch: 05, loss: -0.94966\n",
      "epoch: 06, loss: -0.95268\n",
      "epoch: 07, loss: -0.95509\n",
      "epoch: 08, loss: -0.95705\n",
      "epoch: 09, loss: -0.95864\n",
      "torch.Size([1024, 64])\n"
     ]
    },
    {
     "name": "stderr",
     "output_type": "stream",
     "text": [
      " 30%|██▉       | 298/999 [6:03:22<12:25:34, 63.82s/it]"
     ]
    },
    {
     "name": "stdout",
     "output_type": "stream",
     "text": [
      "eigenvalues shape torch.Size([5]) eigenvectors shape torch.Size([5, 1024])\n",
      "298 /home/phdcs2/Hard_Disk/Datasets/Deep-Spectral-Segmentation/data/object-segmentation/ECSSD/features/0300_resized.pth\n",
      "dict_keys(['k', 'indices', 'file', 'id', 'model_name', 'patch_size', 'shape'])\n",
      "0300_resized\n"
     ]
    },
    {
     "name": "stderr",
     "output_type": "stream",
     "text": [
      "/home/phdcs2/Hard_Disk/Projects/T2I/deep-spectral-segmentation/venv/lib/python3.8/site-packages/sklearn/decomposition/_pca.py:642: RuntimeWarning: invalid value encountered in divide\n",
      "  self.explained_variance_ratio_ = self.explained_variance_ / total_var\n"
     ]
    },
    {
     "name": "stdout",
     "output_type": "stream",
     "text": [
      "Starting Training\n",
      "epoch: 00, loss: -0.91414\n",
      "epoch: 01, loss: -0.94852\n",
      "epoch: 02, loss: -0.95634\n",
      "epoch: 03, loss: -0.96098\n",
      "epoch: 04, loss: -0.96408\n",
      "epoch: 05, loss: -0.96642\n",
      "epoch: 06, loss: -0.96826\n",
      "epoch: 07, loss: -0.96975\n",
      "epoch: 08, loss: -0.97100\n",
      "epoch: 09, loss: -0.97209\n",
      "torch.Size([1024, 64])\n"
     ]
    },
    {
     "name": "stderr",
     "output_type": "stream",
     "text": [
      " 30%|██▉       | 299/999 [6:04:29<12:35:59, 64.80s/it]"
     ]
    },
    {
     "name": "stdout",
     "output_type": "stream",
     "text": [
      "eigenvalues shape torch.Size([5]) eigenvectors shape torch.Size([5, 1024])\n",
      "299 /home/phdcs2/Hard_Disk/Datasets/Deep-Spectral-Segmentation/data/object-segmentation/ECSSD/features/0301_resized.pth\n",
      "dict_keys(['k', 'indices', 'file', 'id', 'model_name', 'patch_size', 'shape'])\n",
      "0301_resized\n"
     ]
    },
    {
     "name": "stderr",
     "output_type": "stream",
     "text": [
      "/home/phdcs2/Hard_Disk/Projects/T2I/deep-spectral-segmentation/venv/lib/python3.8/site-packages/sklearn/decomposition/_pca.py:642: RuntimeWarning: invalid value encountered in divide\n",
      "  self.explained_variance_ratio_ = self.explained_variance_ / total_var\n"
     ]
    },
    {
     "name": "stdout",
     "output_type": "stream",
     "text": [
      "Starting Training\n",
      "epoch: 00, loss: -0.91856\n",
      "epoch: 01, loss: -0.95223\n",
      "epoch: 02, loss: -0.95968\n",
      "epoch: 03, loss: -0.96403\n",
      "epoch: 04, loss: -0.96697\n",
      "epoch: 05, loss: -0.96919\n",
      "epoch: 06, loss: -0.97089\n",
      "epoch: 07, loss: -0.97230\n",
      "epoch: 08, loss: -0.97348\n",
      "epoch: 09, loss: -0.97447\n",
      "torch.Size([1024, 64])\n"
     ]
    },
    {
     "name": "stderr",
     "output_type": "stream",
     "text": [
      " 30%|███       | 300/999 [6:05:35<12:38:57, 65.15s/it]"
     ]
    },
    {
     "name": "stdout",
     "output_type": "stream",
     "text": [
      "eigenvalues shape torch.Size([5]) eigenvectors shape torch.Size([5, 1024])\n",
      "300 /home/phdcs2/Hard_Disk/Datasets/Deep-Spectral-Segmentation/data/object-segmentation/ECSSD/features/0302_resized.pth\n",
      "dict_keys(['k', 'indices', 'file', 'id', 'model_name', 'patch_size', 'shape'])\n",
      "0302_resized\n"
     ]
    },
    {
     "name": "stderr",
     "output_type": "stream",
     "text": [
      "/home/phdcs2/Hard_Disk/Projects/T2I/deep-spectral-segmentation/venv/lib/python3.8/site-packages/sklearn/decomposition/_pca.py:642: RuntimeWarning: invalid value encountered in divide\n",
      "  self.explained_variance_ratio_ = self.explained_variance_ / total_var\n"
     ]
    },
    {
     "name": "stdout",
     "output_type": "stream",
     "text": [
      "Starting Training\n",
      "epoch: 00, loss: -0.92572\n",
      "epoch: 01, loss: -0.95621\n",
      "epoch: 02, loss: -0.96323\n",
      "epoch: 03, loss: -0.96727\n",
      "epoch: 04, loss: -0.97004\n",
      "epoch: 05, loss: -0.97208\n",
      "epoch: 06, loss: -0.97367\n",
      "epoch: 07, loss: -0.97498\n",
      "epoch: 08, loss: -0.97605\n",
      "epoch: 09, loss: -0.97698\n",
      "torch.Size([1024, 64])\n"
     ]
    },
    {
     "name": "stderr",
     "output_type": "stream",
     "text": [
      " 30%|███       | 301/999 [6:06:51<13:15:38, 68.39s/it]"
     ]
    },
    {
     "name": "stdout",
     "output_type": "stream",
     "text": [
      "eigenvalues shape torch.Size([5]) eigenvectors shape torch.Size([5, 1024])\n",
      "301 /home/phdcs2/Hard_Disk/Datasets/Deep-Spectral-Segmentation/data/object-segmentation/ECSSD/features/0303_resized.pth\n",
      "dict_keys(['k', 'indices', 'file', 'id', 'model_name', 'patch_size', 'shape'])\n",
      "0303_resized\n",
      "Starting Training\n",
      "epoch: 00, loss: -0.85101\n",
      "epoch: 01, loss: -0.90947\n",
      "epoch: 02, loss: -0.92538\n",
      "epoch: 03, loss: -0.93428\n",
      "epoch: 04, loss: -0.94005\n",
      "epoch: 05, loss: -0.94454\n",
      "epoch: 06, loss: -0.94783\n",
      "epoch: 07, loss: -0.95052\n",
      "epoch: 08, loss: -0.95289\n",
      "epoch: 09, loss: -0.95482\n",
      "torch.Size([1024, 64])\n"
     ]
    },
    {
     "name": "stderr",
     "output_type": "stream",
     "text": [
      " 30%|███       | 302/999 [6:08:08<13:43:25, 70.88s/it]"
     ]
    },
    {
     "name": "stdout",
     "output_type": "stream",
     "text": [
      "eigenvalues shape torch.Size([5]) eigenvectors shape torch.Size([5, 1024])\n",
      "302 /home/phdcs2/Hard_Disk/Datasets/Deep-Spectral-Segmentation/data/object-segmentation/ECSSD/features/0304_resized.pth\n",
      "dict_keys(['k', 'indices', 'file', 'id', 'model_name', 'patch_size', 'shape'])\n",
      "0304_resized\n"
     ]
    },
    {
     "name": "stderr",
     "output_type": "stream",
     "text": [
      "/home/phdcs2/Hard_Disk/Projects/T2I/deep-spectral-segmentation/venv/lib/python3.8/site-packages/sklearn/decomposition/_pca.py:642: RuntimeWarning: invalid value encountered in divide\n",
      "  self.explained_variance_ratio_ = self.explained_variance_ / total_var\n"
     ]
    },
    {
     "name": "stdout",
     "output_type": "stream",
     "text": [
      "Starting Training\n",
      "epoch: 00, loss: -0.90477\n",
      "epoch: 01, loss: -0.94391\n",
      "epoch: 02, loss: -0.95313\n",
      "epoch: 03, loss: -0.95848\n",
      "epoch: 04, loss: -0.96207\n",
      "epoch: 05, loss: -0.96474\n",
      "epoch: 06, loss: -0.96685\n",
      "epoch: 07, loss: -0.96850\n",
      "epoch: 08, loss: -0.96991\n",
      "epoch: 09, loss: -0.97111\n",
      "torch.Size([1024, 64])\n"
     ]
    },
    {
     "name": "stderr",
     "output_type": "stream",
     "text": [
      " 30%|███       | 303/999 [6:09:30<14:20:54, 74.22s/it]"
     ]
    },
    {
     "name": "stdout",
     "output_type": "stream",
     "text": [
      "eigenvalues shape torch.Size([5]) eigenvectors shape torch.Size([5, 1024])\n",
      "303 /home/phdcs2/Hard_Disk/Datasets/Deep-Spectral-Segmentation/data/object-segmentation/ECSSD/features/0305_resized.pth\n",
      "dict_keys(['k', 'indices', 'file', 'id', 'model_name', 'patch_size', 'shape'])\n",
      "0305_resized\n"
     ]
    },
    {
     "name": "stderr",
     "output_type": "stream",
     "text": [
      "/home/phdcs2/Hard_Disk/Projects/T2I/deep-spectral-segmentation/venv/lib/python3.8/site-packages/sklearn/decomposition/_pca.py:642: RuntimeWarning: invalid value encountered in divide\n",
      "  self.explained_variance_ratio_ = self.explained_variance_ / total_var\n"
     ]
    },
    {
     "name": "stdout",
     "output_type": "stream",
     "text": [
      "Starting Training\n",
      "epoch: 00, loss: -0.91726\n",
      "epoch: 01, loss: -0.95115\n",
      "epoch: 02, loss: -0.95885\n",
      "epoch: 03, loss: -0.96330\n",
      "epoch: 04, loss: -0.96636\n",
      "epoch: 05, loss: -0.96863\n",
      "epoch: 06, loss: -0.97040\n",
      "epoch: 07, loss: -0.97187\n",
      "epoch: 08, loss: -0.97305\n",
      "epoch: 09, loss: -0.97409\n",
      "torch.Size([1024, 64])\n"
     ]
    },
    {
     "name": "stderr",
     "output_type": "stream",
     "text": [
      " 30%|███       | 304/999 [6:10:47<14:30:42, 75.17s/it]"
     ]
    },
    {
     "name": "stdout",
     "output_type": "stream",
     "text": [
      "eigenvalues shape torch.Size([5]) eigenvectors shape torch.Size([5, 1024])\n",
      "304 /home/phdcs2/Hard_Disk/Datasets/Deep-Spectral-Segmentation/data/object-segmentation/ECSSD/features/0306_resized.pth\n",
      "dict_keys(['k', 'indices', 'file', 'id', 'model_name', 'patch_size', 'shape'])\n",
      "0306_resized\n",
      "Starting Training\n",
      "epoch: 00, loss: -0.83805\n",
      "epoch: 01, loss: -0.90416\n",
      "epoch: 02, loss: -0.92177\n",
      "epoch: 03, loss: -0.93160\n",
      "epoch: 04, loss: -0.93791\n",
      "epoch: 05, loss: -0.94263\n",
      "epoch: 06, loss: -0.94618\n",
      "epoch: 07, loss: -0.94916\n",
      "epoch: 08, loss: -0.95152\n",
      "epoch: 09, loss: -0.95354\n",
      "torch.Size([1024, 64])\n"
     ]
    },
    {
     "name": "stderr",
     "output_type": "stream",
     "text": [
      " 31%|███       | 305/999 [6:12:03<14:31:21, 75.33s/it]"
     ]
    },
    {
     "name": "stdout",
     "output_type": "stream",
     "text": [
      "eigenvalues shape torch.Size([5]) eigenvectors shape torch.Size([5, 1024])\n",
      "305 /home/phdcs2/Hard_Disk/Datasets/Deep-Spectral-Segmentation/data/object-segmentation/ECSSD/features/0307_resized.pth\n",
      "dict_keys(['k', 'indices', 'file', 'id', 'model_name', 'patch_size', 'shape'])\n",
      "0307_resized\n",
      "Starting Training\n",
      "epoch: 00, loss: -0.87587\n",
      "epoch: 01, loss: -0.92658\n",
      "epoch: 02, loss: -0.93967\n",
      "epoch: 03, loss: -0.94686\n",
      "epoch: 04, loss: -0.95179\n",
      "epoch: 05, loss: -0.95530\n",
      "epoch: 06, loss: -0.95816\n",
      "epoch: 07, loss: -0.96052\n",
      "epoch: 08, loss: -0.96233\n",
      "epoch: 09, loss: -0.96392\n",
      "torch.Size([1024, 64])\n"
     ]
    },
    {
     "name": "stderr",
     "output_type": "stream",
     "text": [
      " 31%|███       | 306/999 [6:13:19<14:32:23, 75.53s/it]"
     ]
    },
    {
     "name": "stdout",
     "output_type": "stream",
     "text": [
      "eigenvalues shape torch.Size([5]) eigenvectors shape torch.Size([5, 1024])\n",
      "306 /home/phdcs2/Hard_Disk/Datasets/Deep-Spectral-Segmentation/data/object-segmentation/ECSSD/features/0308_resized.pth\n",
      "dict_keys(['k', 'indices', 'file', 'id', 'model_name', 'patch_size', 'shape'])\n",
      "0308_resized\n",
      "Starting Training\n",
      "epoch: 00, loss: -0.91346\n",
      "epoch: 01, loss: -0.94738\n",
      "epoch: 02, loss: -0.95547\n",
      "epoch: 03, loss: -0.96020\n",
      "epoch: 04, loss: -0.96343\n",
      "epoch: 05, loss: -0.96589\n",
      "epoch: 06, loss: -0.96770\n",
      "epoch: 07, loss: -0.96921\n",
      "epoch: 08, loss: -0.97049\n",
      "epoch: 09, loss: -0.97157\n",
      "torch.Size([1024, 64])\n"
     ]
    },
    {
     "name": "stderr",
     "output_type": "stream",
     "text": [
      " 31%|███       | 307/999 [6:14:37<14:41:30, 76.43s/it]"
     ]
    },
    {
     "name": "stdout",
     "output_type": "stream",
     "text": [
      "eigenvalues shape torch.Size([5]) eigenvectors shape torch.Size([5, 1024])\n",
      "307 /home/phdcs2/Hard_Disk/Datasets/Deep-Spectral-Segmentation/data/object-segmentation/ECSSD/features/0309_resized.pth\n",
      "dict_keys(['k', 'indices', 'file', 'id', 'model_name', 'patch_size', 'shape'])\n",
      "0309_resized\n",
      "Starting Training\n",
      "epoch: 00, loss: -0.85162\n",
      "epoch: 01, loss: -0.91275\n",
      "epoch: 02, loss: -0.92811\n",
      "epoch: 03, loss: -0.93681\n",
      "epoch: 04, loss: -0.94271\n",
      "epoch: 05, loss: -0.94666\n",
      "epoch: 06, loss: -0.94996\n",
      "epoch: 07, loss: -0.95247\n",
      "epoch: 08, loss: -0.95461\n",
      "epoch: 09, loss: -0.95643\n",
      "torch.Size([1024, 64])\n"
     ]
    },
    {
     "name": "stderr",
     "output_type": "stream",
     "text": [
      " 31%|███       | 308/999 [6:15:58<14:53:44, 77.60s/it]"
     ]
    },
    {
     "name": "stdout",
     "output_type": "stream",
     "text": [
      "eigenvalues shape torch.Size([5]) eigenvectors shape torch.Size([5, 1024])\n",
      "308 /home/phdcs2/Hard_Disk/Datasets/Deep-Spectral-Segmentation/data/object-segmentation/ECSSD/features/0310_resized.pth\n",
      "dict_keys(['k', 'indices', 'file', 'id', 'model_name', 'patch_size', 'shape'])\n",
      "0310_resized\n"
     ]
    },
    {
     "name": "stderr",
     "output_type": "stream",
     "text": [
      "/home/phdcs2/Hard_Disk/Projects/T2I/deep-spectral-segmentation/venv/lib/python3.8/site-packages/sklearn/decomposition/_pca.py:642: RuntimeWarning: invalid value encountered in divide\n",
      "  self.explained_variance_ratio_ = self.explained_variance_ / total_var\n"
     ]
    },
    {
     "name": "stdout",
     "output_type": "stream",
     "text": [
      "Starting Training\n",
      "epoch: 00, loss: -0.91830\n",
      "epoch: 01, loss: -0.95066\n",
      "epoch: 02, loss: -0.95868\n",
      "epoch: 03, loss: -0.96324\n",
      "epoch: 04, loss: -0.96638\n",
      "epoch: 05, loss: -0.96870\n",
      "epoch: 06, loss: -0.97051\n",
      "epoch: 07, loss: -0.97201\n",
      "epoch: 08, loss: -0.97322\n",
      "epoch: 09, loss: -0.97429\n",
      "torch.Size([1024, 64])\n"
     ]
    },
    {
     "name": "stderr",
     "output_type": "stream",
     "text": [
      " 31%|███       | 309/999 [6:17:28<15:35:47, 81.37s/it]"
     ]
    },
    {
     "name": "stdout",
     "output_type": "stream",
     "text": [
      "eigenvalues shape torch.Size([5]) eigenvectors shape torch.Size([5, 1024])\n",
      "309 /home/phdcs2/Hard_Disk/Datasets/Deep-Spectral-Segmentation/data/object-segmentation/ECSSD/features/0311_resized.pth\n",
      "dict_keys(['k', 'indices', 'file', 'id', 'model_name', 'patch_size', 'shape'])\n",
      "0311_resized\n",
      "Starting Training\n",
      "epoch: 00, loss: -0.86172\n",
      "epoch: 01, loss: -0.91965\n",
      "epoch: 02, loss: -0.93329\n",
      "epoch: 03, loss: -0.94098\n",
      "epoch: 04, loss: -0.94610\n",
      "epoch: 05, loss: -0.94979\n",
      "epoch: 06, loss: -0.95284\n",
      "epoch: 07, loss: -0.95504\n",
      "epoch: 08, loss: -0.95697\n",
      "epoch: 09, loss: -0.95865\n",
      "torch.Size([1024, 64])\n"
     ]
    },
    {
     "name": "stderr",
     "output_type": "stream",
     "text": [
      " 31%|███       | 310/999 [6:18:41<15:07:55, 79.06s/it]"
     ]
    },
    {
     "name": "stdout",
     "output_type": "stream",
     "text": [
      "eigenvalues shape torch.Size([5]) eigenvectors shape torch.Size([5, 1024])\n",
      "310 /home/phdcs2/Hard_Disk/Datasets/Deep-Spectral-Segmentation/data/object-segmentation/ECSSD/features/0312_resized.pth\n",
      "dict_keys(['k', 'indices', 'file', 'id', 'model_name', 'patch_size', 'shape'])\n",
      "0312_resized\n"
     ]
    },
    {
     "name": "stderr",
     "output_type": "stream",
     "text": [
      "/home/phdcs2/Hard_Disk/Projects/T2I/deep-spectral-segmentation/venv/lib/python3.8/site-packages/sklearn/decomposition/_pca.py:642: RuntimeWarning: invalid value encountered in divide\n",
      "  self.explained_variance_ratio_ = self.explained_variance_ / total_var\n"
     ]
    },
    {
     "name": "stdout",
     "output_type": "stream",
     "text": [
      "Starting Training\n",
      "epoch: 00, loss: -0.92106\n",
      "epoch: 01, loss: -0.95626\n",
      "epoch: 02, loss: -0.96348\n",
      "epoch: 03, loss: -0.96764\n",
      "epoch: 04, loss: -0.97044\n",
      "epoch: 05, loss: -0.97254\n",
      "epoch: 06, loss: -0.97417\n",
      "epoch: 07, loss: -0.97548\n",
      "epoch: 08, loss: -0.97660\n",
      "epoch: 09, loss: -0.97754\n",
      "torch.Size([1024, 64])\n"
     ]
    },
    {
     "name": "stderr",
     "output_type": "stream",
     "text": [
      " 31%|███       | 311/999 [6:19:49<14:26:44, 75.59s/it]"
     ]
    },
    {
     "name": "stdout",
     "output_type": "stream",
     "text": [
      "eigenvalues shape torch.Size([5]) eigenvectors shape torch.Size([5, 1024])\n",
      "311 /home/phdcs2/Hard_Disk/Datasets/Deep-Spectral-Segmentation/data/object-segmentation/ECSSD/features/0313_resized.pth\n",
      "dict_keys(['k', 'indices', 'file', 'id', 'model_name', 'patch_size', 'shape'])\n",
      "0313_resized\n"
     ]
    },
    {
     "name": "stderr",
     "output_type": "stream",
     "text": [
      "/home/phdcs2/Hard_Disk/Projects/T2I/deep-spectral-segmentation/venv/lib/python3.8/site-packages/sklearn/decomposition/_pca.py:642: RuntimeWarning: invalid value encountered in divide\n",
      "  self.explained_variance_ratio_ = self.explained_variance_ / total_var\n"
     ]
    },
    {
     "name": "stdout",
     "output_type": "stream",
     "text": [
      "Starting Training\n",
      "epoch: 00, loss: -0.91961\n",
      "epoch: 01, loss: -0.95280\n",
      "epoch: 02, loss: -0.96069\n",
      "epoch: 03, loss: -0.96524\n",
      "epoch: 04, loss: -0.96826\n",
      "epoch: 05, loss: -0.97049\n",
      "epoch: 06, loss: -0.97226\n",
      "epoch: 07, loss: -0.97366\n",
      "epoch: 08, loss: -0.97487\n",
      "epoch: 09, loss: -0.97585\n",
      "torch.Size([1024, 64])\n"
     ]
    },
    {
     "name": "stderr",
     "output_type": "stream",
     "text": [
      " 31%|███       | 312/999 [6:20:59<14:07:02, 73.98s/it]"
     ]
    },
    {
     "name": "stdout",
     "output_type": "stream",
     "text": [
      "eigenvalues shape torch.Size([5]) eigenvectors shape torch.Size([5, 1024])\n",
      "312 /home/phdcs2/Hard_Disk/Datasets/Deep-Spectral-Segmentation/data/object-segmentation/ECSSD/features/0314_resized.pth\n",
      "dict_keys(['k', 'indices', 'file', 'id', 'model_name', 'patch_size', 'shape'])\n",
      "0314_resized\n",
      "Starting Training\n",
      "epoch: 00, loss: -0.92413\n",
      "epoch: 01, loss: -0.95756\n",
      "epoch: 02, loss: -0.96445\n",
      "epoch: 03, loss: -0.96838\n",
      "epoch: 04, loss: -0.97104\n",
      "epoch: 05, loss: -0.97300\n",
      "epoch: 06, loss: -0.97452\n",
      "epoch: 07, loss: -0.97577\n",
      "epoch: 08, loss: -0.97681\n",
      "epoch: 09, loss: -0.97769\n",
      "torch.Size([1024, 64])\n"
     ]
    },
    {
     "name": "stderr",
     "output_type": "stream",
     "text": [
      " 31%|███▏      | 313/999 [6:22:06<13:42:26, 71.93s/it]"
     ]
    },
    {
     "name": "stdout",
     "output_type": "stream",
     "text": [
      "eigenvalues shape torch.Size([5]) eigenvectors shape torch.Size([5, 1024])\n",
      "313 /home/phdcs2/Hard_Disk/Datasets/Deep-Spectral-Segmentation/data/object-segmentation/ECSSD/features/0315_resized.pth\n",
      "dict_keys(['k', 'indices', 'file', 'id', 'model_name', 'patch_size', 'shape'])\n",
      "0315_resized\n"
     ]
    },
    {
     "name": "stderr",
     "output_type": "stream",
     "text": [
      "/home/phdcs2/Hard_Disk/Projects/T2I/deep-spectral-segmentation/venv/lib/python3.8/site-packages/sklearn/decomposition/_pca.py:642: RuntimeWarning: invalid value encountered in divide\n",
      "  self.explained_variance_ratio_ = self.explained_variance_ / total_var\n"
     ]
    },
    {
     "name": "stdout",
     "output_type": "stream",
     "text": [
      "Starting Training\n",
      "epoch: 00, loss: -0.92413\n",
      "epoch: 01, loss: -0.95400\n",
      "epoch: 02, loss: -0.96086\n",
      "epoch: 03, loss: -0.96486\n",
      "epoch: 04, loss: -0.96755\n",
      "epoch: 05, loss: -0.96959\n",
      "epoch: 06, loss: -0.97118\n",
      "epoch: 07, loss: -0.97249\n",
      "epoch: 08, loss: -0.97357\n",
      "epoch: 09, loss: -0.97450\n",
      "torch.Size([1024, 64])\n"
     ]
    },
    {
     "name": "stderr",
     "output_type": "stream",
     "text": [
      " 31%|███▏      | 314/999 [6:23:08<13:06:18, 68.87s/it]"
     ]
    },
    {
     "name": "stdout",
     "output_type": "stream",
     "text": [
      "eigenvalues shape torch.Size([5]) eigenvectors shape torch.Size([5, 1024])\n",
      "314 /home/phdcs2/Hard_Disk/Datasets/Deep-Spectral-Segmentation/data/object-segmentation/ECSSD/features/0316_resized.pth\n",
      "dict_keys(['k', 'indices', 'file', 'id', 'model_name', 'patch_size', 'shape'])\n",
      "0316_resized\n",
      "Starting Training\n",
      "epoch: 00, loss: -0.87862\n",
      "epoch: 01, loss: -0.93034\n",
      "epoch: 02, loss: -0.94263\n",
      "epoch: 03, loss: -0.94957\n",
      "epoch: 04, loss: -0.95399\n",
      "epoch: 05, loss: -0.95738\n",
      "epoch: 06, loss: -0.95991\n",
      "epoch: 07, loss: -0.96187\n",
      "epoch: 08, loss: -0.96373\n",
      "epoch: 09, loss: -0.96513\n",
      "torch.Size([1024, 64])\n"
     ]
    },
    {
     "name": "stderr",
     "output_type": "stream",
     "text": [
      " 32%|███▏      | 315/999 [6:24:14<12:53:55, 67.89s/it]"
     ]
    },
    {
     "name": "stdout",
     "output_type": "stream",
     "text": [
      "eigenvalues shape torch.Size([5]) eigenvectors shape torch.Size([5, 1024])\n",
      "315 /home/phdcs2/Hard_Disk/Datasets/Deep-Spectral-Segmentation/data/object-segmentation/ECSSD/features/0317_resized.pth\n",
      "dict_keys(['k', 'indices', 'file', 'id', 'model_name', 'patch_size', 'shape'])\n",
      "0317_resized\n"
     ]
    },
    {
     "name": "stderr",
     "output_type": "stream",
     "text": [
      "/home/phdcs2/Hard_Disk/Projects/T2I/deep-spectral-segmentation/venv/lib/python3.8/site-packages/sklearn/decomposition/_pca.py:642: RuntimeWarning: invalid value encountered in divide\n",
      "  self.explained_variance_ratio_ = self.explained_variance_ / total_var\n"
     ]
    },
    {
     "name": "stdout",
     "output_type": "stream",
     "text": [
      "Starting Training\n",
      "epoch: 00, loss: -0.92505\n",
      "epoch: 01, loss: -0.95647\n",
      "epoch: 02, loss: -0.96317\n",
      "epoch: 03, loss: -0.96704\n",
      "epoch: 04, loss: -0.96964\n",
      "epoch: 05, loss: -0.97161\n",
      "epoch: 06, loss: -0.97311\n",
      "epoch: 07, loss: -0.97439\n",
      "epoch: 08, loss: -0.97543\n",
      "epoch: 09, loss: -0.97631\n",
      "torch.Size([1024, 64])\n"
     ]
    },
    {
     "name": "stderr",
     "output_type": "stream",
     "text": [
      " 32%|███▏      | 316/999 [6:25:23<12:58:25, 68.38s/it]"
     ]
    },
    {
     "name": "stdout",
     "output_type": "stream",
     "text": [
      "eigenvalues shape torch.Size([5]) eigenvectors shape torch.Size([5, 1024])\n",
      "316 /home/phdcs2/Hard_Disk/Datasets/Deep-Spectral-Segmentation/data/object-segmentation/ECSSD/features/0318_resized.pth\n",
      "dict_keys(['k', 'indices', 'file', 'id', 'model_name', 'patch_size', 'shape'])\n",
      "0318_resized\n",
      "Starting Training\n",
      "epoch: 00, loss: -0.86301\n",
      "epoch: 01, loss: -0.91535\n",
      "epoch: 02, loss: -0.92953\n",
      "epoch: 03, loss: -0.93746\n",
      "epoch: 04, loss: -0.94275\n",
      "epoch: 05, loss: -0.94667\n",
      "epoch: 06, loss: -0.94982\n",
      "epoch: 07, loss: -0.95231\n",
      "epoch: 08, loss: -0.95446\n",
      "epoch: 09, loss: -0.95629\n",
      "torch.Size([1024, 64])\n"
     ]
    },
    {
     "name": "stderr",
     "output_type": "stream",
     "text": [
      " 32%|███▏      | 317/999 [6:26:33<13:03:18, 68.91s/it]"
     ]
    },
    {
     "name": "stdout",
     "output_type": "stream",
     "text": [
      "eigenvalues shape torch.Size([5]) eigenvectors shape torch.Size([5, 1024])\n",
      "317 /home/phdcs2/Hard_Disk/Datasets/Deep-Spectral-Segmentation/data/object-segmentation/ECSSD/features/0319_resized.pth\n",
      "dict_keys(['k', 'indices', 'file', 'id', 'model_name', 'patch_size', 'shape'])\n",
      "0319_resized\n",
      "Starting Training\n",
      "epoch: 00, loss: -0.85734\n",
      "epoch: 01, loss: -0.91633\n",
      "epoch: 02, loss: -0.93147\n",
      "epoch: 03, loss: -0.93971\n",
      "epoch: 04, loss: -0.94530\n",
      "epoch: 05, loss: -0.94940\n",
      "epoch: 06, loss: -0.95236\n",
      "epoch: 07, loss: -0.95480\n",
      "epoch: 08, loss: -0.95689\n",
      "epoch: 09, loss: -0.95876\n",
      "torch.Size([1024, 64])\n"
     ]
    },
    {
     "name": "stderr",
     "output_type": "stream",
     "text": [
      " 32%|███▏      | 318/999 [6:27:42<13:00:08, 68.74s/it]"
     ]
    },
    {
     "name": "stdout",
     "output_type": "stream",
     "text": [
      "eigenvalues shape torch.Size([5]) eigenvectors shape torch.Size([5, 1024])\n",
      "318 /home/phdcs2/Hard_Disk/Datasets/Deep-Spectral-Segmentation/data/object-segmentation/ECSSD/features/0320_resized.pth\n",
      "dict_keys(['k', 'indices', 'file', 'id', 'model_name', 'patch_size', 'shape'])\n",
      "0320_resized\n"
     ]
    },
    {
     "name": "stderr",
     "output_type": "stream",
     "text": [
      "/home/phdcs2/Hard_Disk/Projects/T2I/deep-spectral-segmentation/venv/lib/python3.8/site-packages/sklearn/decomposition/_pca.py:642: RuntimeWarning: invalid value encountered in divide\n",
      "  self.explained_variance_ratio_ = self.explained_variance_ / total_var\n"
     ]
    },
    {
     "name": "stdout",
     "output_type": "stream",
     "text": [
      "Starting Training\n",
      "epoch: 00, loss: -0.93678\n",
      "epoch: 01, loss: -0.96201\n",
      "epoch: 02, loss: -0.96762\n",
      "epoch: 03, loss: -0.97092\n",
      "epoch: 04, loss: -0.97322\n",
      "epoch: 05, loss: -0.97488\n",
      "epoch: 06, loss: -0.97624\n",
      "epoch: 07, loss: -0.97734\n",
      "epoch: 08, loss: -0.97828\n",
      "epoch: 09, loss: -0.97907\n",
      "torch.Size([1024, 64])\n"
     ]
    },
    {
     "name": "stderr",
     "output_type": "stream",
     "text": [
      " 32%|███▏      | 319/999 [6:28:43<12:35:19, 66.65s/it]"
     ]
    },
    {
     "name": "stdout",
     "output_type": "stream",
     "text": [
      "eigenvalues shape torch.Size([5]) eigenvectors shape torch.Size([5, 1024])\n",
      "319 /home/phdcs2/Hard_Disk/Datasets/Deep-Spectral-Segmentation/data/object-segmentation/ECSSD/features/0321_resized.pth\n",
      "dict_keys(['k', 'indices', 'file', 'id', 'model_name', 'patch_size', 'shape'])\n",
      "0321_resized\n",
      "Starting Training\n",
      "epoch: 00, loss: -0.85428\n",
      "epoch: 01, loss: -0.91186\n",
      "epoch: 02, loss: -0.92750\n",
      "epoch: 03, loss: -0.93647\n",
      "epoch: 04, loss: -0.94253\n",
      "epoch: 05, loss: -0.94700\n",
      "epoch: 06, loss: -0.95044\n",
      "epoch: 07, loss: -0.95320\n",
      "epoch: 08, loss: -0.95554\n",
      "epoch: 09, loss: -0.95730\n",
      "torch.Size([1024, 64])\n"
     ]
    },
    {
     "name": "stderr",
     "output_type": "stream",
     "text": [
      " 32%|███▏      | 320/999 [6:29:55<12:52:30, 68.26s/it]"
     ]
    },
    {
     "name": "stdout",
     "output_type": "stream",
     "text": [
      "eigenvalues shape torch.Size([5]) eigenvectors shape torch.Size([5, 1024])\n",
      "320 /home/phdcs2/Hard_Disk/Datasets/Deep-Spectral-Segmentation/data/object-segmentation/ECSSD/features/0322_resized.pth\n",
      "dict_keys(['k', 'indices', 'file', 'id', 'model_name', 'patch_size', 'shape'])\n",
      "0322_resized\n",
      "Starting Training\n",
      "epoch: 00, loss: -0.88660\n",
      "epoch: 01, loss: -0.93265\n",
      "epoch: 02, loss: -0.94422\n",
      "epoch: 03, loss: -0.95113\n",
      "epoch: 04, loss: -0.95555\n",
      "epoch: 05, loss: -0.95894\n",
      "epoch: 06, loss: -0.96151\n",
      "epoch: 07, loss: -0.96360\n",
      "epoch: 08, loss: -0.96530\n",
      "epoch: 09, loss: -0.96678\n",
      "torch.Size([1024, 64])\n"
     ]
    },
    {
     "name": "stderr",
     "output_type": "stream",
     "text": [
      " 32%|███▏      | 321/999 [6:31:07<13:01:00, 69.12s/it]"
     ]
    },
    {
     "name": "stdout",
     "output_type": "stream",
     "text": [
      "eigenvalues shape torch.Size([5]) eigenvectors shape torch.Size([5, 1024])\n",
      "321 /home/phdcs2/Hard_Disk/Datasets/Deep-Spectral-Segmentation/data/object-segmentation/ECSSD/features/0323_resized.pth\n",
      "dict_keys(['k', 'indices', 'file', 'id', 'model_name', 'patch_size', 'shape'])\n",
      "0323_resized\n",
      "Starting Training\n",
      "epoch: 00, loss: -0.86231\n",
      "epoch: 01, loss: -0.91436\n",
      "epoch: 02, loss: -0.92948\n",
      "epoch: 03, loss: -0.93797\n",
      "epoch: 04, loss: -0.94388\n",
      "epoch: 05, loss: -0.94802\n",
      "epoch: 06, loss: -0.95145\n",
      "epoch: 07, loss: -0.95425\n",
      "epoch: 08, loss: -0.95654\n",
      "epoch: 09, loss: -0.95846\n",
      "torch.Size([1024, 64])\n"
     ]
    },
    {
     "name": "stderr",
     "output_type": "stream",
     "text": [
      " 32%|███▏      | 322/999 [6:32:15<12:59:01, 69.04s/it]"
     ]
    },
    {
     "name": "stdout",
     "output_type": "stream",
     "text": [
      "eigenvalues shape torch.Size([5]) eigenvectors shape torch.Size([5, 1024])\n",
      "322 /home/phdcs2/Hard_Disk/Datasets/Deep-Spectral-Segmentation/data/object-segmentation/ECSSD/features/0324_resized.pth\n",
      "dict_keys(['k', 'indices', 'file', 'id', 'model_name', 'patch_size', 'shape'])\n",
      "0324_resized\n"
     ]
    },
    {
     "name": "stderr",
     "output_type": "stream",
     "text": [
      "/home/phdcs2/Hard_Disk/Projects/T2I/deep-spectral-segmentation/venv/lib/python3.8/site-packages/sklearn/decomposition/_pca.py:642: RuntimeWarning: invalid value encountered in divide\n",
      "  self.explained_variance_ratio_ = self.explained_variance_ / total_var\n"
     ]
    },
    {
     "name": "stdout",
     "output_type": "stream",
     "text": [
      "Starting Training\n",
      "epoch: 00, loss: -0.92699\n",
      "epoch: 01, loss: -0.95709\n",
      "epoch: 02, loss: -0.96355\n",
      "epoch: 03, loss: -0.96730\n",
      "epoch: 04, loss: -0.96988\n",
      "epoch: 05, loss: -0.97179\n",
      "epoch: 06, loss: -0.97330\n",
      "epoch: 07, loss: -0.97454\n",
      "epoch: 08, loss: -0.97555\n",
      "epoch: 09, loss: -0.97644\n",
      "torch.Size([1024, 64])\n"
     ]
    },
    {
     "name": "stderr",
     "output_type": "stream",
     "text": [
      " 32%|███▏      | 323/999 [6:33:22<12:49:52, 68.33s/it]"
     ]
    },
    {
     "name": "stdout",
     "output_type": "stream",
     "text": [
      "eigenvalues shape torch.Size([5]) eigenvectors shape torch.Size([5, 1024])\n",
      "323 /home/phdcs2/Hard_Disk/Datasets/Deep-Spectral-Segmentation/data/object-segmentation/ECSSD/features/0325_resized.pth\n",
      "dict_keys(['k', 'indices', 'file', 'id', 'model_name', 'patch_size', 'shape'])\n",
      "0325_resized\n",
      "Starting Training\n",
      "epoch: 00, loss: -0.83701\n",
      "epoch: 01, loss: -0.90386\n",
      "epoch: 02, loss: -0.92041\n",
      "epoch: 03, loss: -0.92984\n",
      "epoch: 04, loss: -0.93622\n",
      "epoch: 05, loss: -0.94074\n",
      "epoch: 06, loss: -0.94439\n",
      "epoch: 07, loss: -0.94736\n",
      "epoch: 08, loss: -0.94979\n",
      "epoch: 09, loss: -0.95182\n",
      "torch.Size([1024, 64])\n"
     ]
    },
    {
     "name": "stderr",
     "output_type": "stream",
     "text": [
      " 32%|███▏      | 324/999 [6:34:26<12:32:41, 66.91s/it]"
     ]
    },
    {
     "name": "stdout",
     "output_type": "stream",
     "text": [
      "eigenvalues shape torch.Size([5]) eigenvectors shape torch.Size([5, 1024])\n",
      "324 /home/phdcs2/Hard_Disk/Datasets/Deep-Spectral-Segmentation/data/object-segmentation/ECSSD/features/0326_resized.pth\n",
      "dict_keys(['k', 'indices', 'file', 'id', 'model_name', 'patch_size', 'shape'])\n",
      "0326_resized\n",
      "Starting Training\n",
      "epoch: 00, loss: -0.91711\n",
      "epoch: 01, loss: -0.95128\n",
      "epoch: 02, loss: -0.95873\n",
      "epoch: 03, loss: -0.96302\n",
      "epoch: 04, loss: -0.96604\n",
      "epoch: 05, loss: -0.96830\n",
      "epoch: 06, loss: -0.97006\n",
      "epoch: 07, loss: -0.97150\n",
      "epoch: 08, loss: -0.97273\n",
      "epoch: 09, loss: -0.97378\n",
      "torch.Size([1024, 64])\n"
     ]
    },
    {
     "name": "stderr",
     "output_type": "stream",
     "text": [
      " 33%|███▎      | 325/999 [6:35:25<12:07:05, 64.73s/it]"
     ]
    },
    {
     "name": "stdout",
     "output_type": "stream",
     "text": [
      "eigenvalues shape torch.Size([5]) eigenvectors shape torch.Size([5, 1024])\n",
      "325 /home/phdcs2/Hard_Disk/Datasets/Deep-Spectral-Segmentation/data/object-segmentation/ECSSD/features/0327_resized.pth\n",
      "dict_keys(['k', 'indices', 'file', 'id', 'model_name', 'patch_size', 'shape'])\n",
      "0327_resized\n",
      "Starting Training\n",
      "epoch: 00, loss: -0.87203\n",
      "epoch: 01, loss: -0.92220\n",
      "epoch: 02, loss: -0.93618\n",
      "epoch: 03, loss: -0.94396\n",
      "epoch: 04, loss: -0.94941\n",
      "epoch: 05, loss: -0.95316\n",
      "epoch: 06, loss: -0.95623\n",
      "epoch: 07, loss: -0.95864\n",
      "epoch: 08, loss: -0.96064\n",
      "epoch: 09, loss: -0.96228\n",
      "torch.Size([1024, 64])\n"
     ]
    },
    {
     "name": "stderr",
     "output_type": "stream",
     "text": [
      " 33%|███▎      | 326/999 [6:36:26<11:50:43, 63.36s/it]"
     ]
    },
    {
     "name": "stdout",
     "output_type": "stream",
     "text": [
      "eigenvalues shape torch.Size([5]) eigenvectors shape torch.Size([5, 1024])\n",
      "326 /home/phdcs2/Hard_Disk/Datasets/Deep-Spectral-Segmentation/data/object-segmentation/ECSSD/features/0328_resized.pth\n",
      "dict_keys(['k', 'indices', 'file', 'id', 'model_name', 'patch_size', 'shape'])\n",
      "0328_resized\n",
      "Starting Training\n",
      "epoch: 00, loss: -0.86629\n",
      "epoch: 01, loss: -0.92165\n",
      "epoch: 02, loss: -0.93514\n",
      "epoch: 03, loss: -0.94295\n",
      "epoch: 04, loss: -0.94786\n",
      "epoch: 05, loss: -0.95175\n",
      "epoch: 06, loss: -0.95465\n",
      "epoch: 07, loss: -0.95703\n",
      "epoch: 08, loss: -0.95895\n",
      "epoch: 09, loss: -0.96060\n",
      "torch.Size([1024, 64])\n"
     ]
    },
    {
     "name": "stderr",
     "output_type": "stream",
     "text": [
      " 33%|███▎      | 327/999 [6:37:19<11:16:14, 60.38s/it]"
     ]
    },
    {
     "name": "stdout",
     "output_type": "stream",
     "text": [
      "eigenvalues shape torch.Size([5]) eigenvectors shape torch.Size([5, 1024])\n",
      "327 /home/phdcs2/Hard_Disk/Datasets/Deep-Spectral-Segmentation/data/object-segmentation/ECSSD/features/0329_resized.pth\n",
      "dict_keys(['k', 'indices', 'file', 'id', 'model_name', 'patch_size', 'shape'])\n",
      "0329_resized\n",
      "Starting Training\n",
      "epoch: 00, loss: -0.87507\n",
      "epoch: 01, loss: -0.92538\n",
      "epoch: 02, loss: -0.93813\n",
      "epoch: 03, loss: -0.94508\n",
      "epoch: 04, loss: -0.94993\n",
      "epoch: 05, loss: -0.95366\n",
      "epoch: 06, loss: -0.95645\n",
      "epoch: 07, loss: -0.95867\n",
      "epoch: 08, loss: -0.96045\n",
      "epoch: 09, loss: -0.96204\n",
      "torch.Size([1024, 64])\n"
     ]
    },
    {
     "name": "stderr",
     "output_type": "stream",
     "text": [
      " 33%|███▎      | 328/999 [6:38:16<11:05:00, 59.46s/it]"
     ]
    },
    {
     "name": "stdout",
     "output_type": "stream",
     "text": [
      "eigenvalues shape torch.Size([5]) eigenvectors shape torch.Size([5, 1024])\n",
      "328 /home/phdcs2/Hard_Disk/Datasets/Deep-Spectral-Segmentation/data/object-segmentation/ECSSD/features/0330_resized.pth\n",
      "dict_keys(['k', 'indices', 'file', 'id', 'model_name', 'patch_size', 'shape'])\n",
      "0330_resized\n"
     ]
    },
    {
     "name": "stderr",
     "output_type": "stream",
     "text": [
      "/home/phdcs2/Hard_Disk/Projects/T2I/deep-spectral-segmentation/venv/lib/python3.8/site-packages/sklearn/decomposition/_pca.py:642: RuntimeWarning: invalid value encountered in divide\n",
      "  self.explained_variance_ratio_ = self.explained_variance_ / total_var\n"
     ]
    },
    {
     "name": "stdout",
     "output_type": "stream",
     "text": [
      "Starting Training\n",
      "epoch: 00, loss: -0.91501\n",
      "epoch: 01, loss: -0.95058\n",
      "epoch: 02, loss: -0.95818\n",
      "epoch: 03, loss: -0.96261\n",
      "epoch: 04, loss: -0.96567\n",
      "epoch: 05, loss: -0.96790\n",
      "epoch: 06, loss: -0.96967\n",
      "epoch: 07, loss: -0.97112\n",
      "epoch: 08, loss: -0.97232\n",
      "epoch: 09, loss: -0.97333\n",
      "torch.Size([1024, 64])\n"
     ]
    },
    {
     "name": "stderr",
     "output_type": "stream",
     "text": [
      " 33%|███▎      | 329/999 [6:39:17<11:07:23, 59.77s/it]"
     ]
    },
    {
     "name": "stdout",
     "output_type": "stream",
     "text": [
      "eigenvalues shape torch.Size([5]) eigenvectors shape torch.Size([5, 1024])\n",
      "329 /home/phdcs2/Hard_Disk/Datasets/Deep-Spectral-Segmentation/data/object-segmentation/ECSSD/features/0331_resized.pth\n",
      "dict_keys(['k', 'indices', 'file', 'id', 'model_name', 'patch_size', 'shape'])\n",
      "0331_resized\n",
      "Starting Training\n",
      "epoch: 00, loss: -0.88583\n",
      "epoch: 01, loss: -0.93028\n",
      "epoch: 02, loss: -0.94183\n",
      "epoch: 03, loss: -0.94850\n",
      "epoch: 04, loss: -0.95310\n",
      "epoch: 05, loss: -0.95649\n",
      "epoch: 06, loss: -0.95917\n",
      "epoch: 07, loss: -0.96127\n",
      "epoch: 08, loss: -0.96307\n",
      "epoch: 09, loss: -0.96456\n",
      "torch.Size([1024, 64])\n"
     ]
    },
    {
     "name": "stderr",
     "output_type": "stream",
     "text": [
      " 33%|███▎      | 330/999 [6:40:28<11:43:29, 63.09s/it]"
     ]
    },
    {
     "name": "stdout",
     "output_type": "stream",
     "text": [
      "eigenvalues shape torch.Size([5]) eigenvectors shape torch.Size([5, 1024])\n",
      "330 /home/phdcs2/Hard_Disk/Datasets/Deep-Spectral-Segmentation/data/object-segmentation/ECSSD/features/0332_resized.pth\n",
      "dict_keys(['k', 'indices', 'file', 'id', 'model_name', 'patch_size', 'shape'])\n",
      "0332_resized\n",
      "Starting Training\n",
      "epoch: 00, loss: -0.93760\n",
      "epoch: 01, loss: -0.96202\n",
      "epoch: 02, loss: -0.96755\n",
      "epoch: 03, loss: -0.97079\n",
      "epoch: 04, loss: -0.97303\n",
      "epoch: 05, loss: -0.97469\n",
      "epoch: 06, loss: -0.97601\n",
      "epoch: 07, loss: -0.97707\n",
      "epoch: 08, loss: -0.97798\n",
      "epoch: 09, loss: -0.97875\n",
      "torch.Size([1024, 64])\n"
     ]
    },
    {
     "name": "stderr",
     "output_type": "stream",
     "text": [
      " 33%|███▎      | 331/999 [6:41:36<12:00:11, 64.69s/it]"
     ]
    },
    {
     "name": "stdout",
     "output_type": "stream",
     "text": [
      "eigenvalues shape torch.Size([5]) eigenvectors shape torch.Size([5, 1024])\n",
      "331 /home/phdcs2/Hard_Disk/Datasets/Deep-Spectral-Segmentation/data/object-segmentation/ECSSD/features/0333_resized.pth\n",
      "dict_keys(['k', 'indices', 'file', 'id', 'model_name', 'patch_size', 'shape'])\n",
      "0333_resized\n",
      "Starting Training\n",
      "epoch: 00, loss: -0.86889\n",
      "epoch: 01, loss: -0.92482\n",
      "epoch: 02, loss: -0.93794\n",
      "epoch: 03, loss: -0.94528\n",
      "epoch: 04, loss: -0.95002\n",
      "epoch: 05, loss: -0.95360\n",
      "epoch: 06, loss: -0.95623\n",
      "epoch: 07, loss: -0.95842\n",
      "epoch: 08, loss: -0.96030\n",
      "epoch: 09, loss: -0.96187\n",
      "torch.Size([1024, 64])\n"
     ]
    },
    {
     "name": "stderr",
     "output_type": "stream",
     "text": [
      " 33%|███▎      | 332/999 [6:42:49<12:26:44, 67.17s/it]"
     ]
    },
    {
     "name": "stdout",
     "output_type": "stream",
     "text": [
      "eigenvalues shape torch.Size([5]) eigenvectors shape torch.Size([5, 1024])\n",
      "332 /home/phdcs2/Hard_Disk/Datasets/Deep-Spectral-Segmentation/data/object-segmentation/ECSSD/features/0334_resized.pth\n",
      "dict_keys(['k', 'indices', 'file', 'id', 'model_name', 'patch_size', 'shape'])\n",
      "0334_resized\n",
      "Starting Training\n",
      "epoch: 00, loss: -0.90120\n",
      "epoch: 01, loss: -0.94371\n",
      "epoch: 02, loss: -0.95235\n",
      "epoch: 03, loss: -0.95737\n",
      "epoch: 04, loss: -0.96065\n",
      "epoch: 05, loss: -0.96299\n",
      "epoch: 06, loss: -0.96503\n",
      "epoch: 07, loss: -0.96644\n",
      "epoch: 08, loss: -0.96781\n",
      "epoch: 09, loss: -0.96899\n",
      "torch.Size([1024, 64])\n"
     ]
    },
    {
     "name": "stderr",
     "output_type": "stream",
     "text": [
      " 33%|███▎      | 333/999 [6:43:58<12:33:27, 67.88s/it]"
     ]
    },
    {
     "name": "stdout",
     "output_type": "stream",
     "text": [
      "eigenvalues shape torch.Size([5]) eigenvectors shape torch.Size([5, 1024])\n",
      "333 /home/phdcs2/Hard_Disk/Datasets/Deep-Spectral-Segmentation/data/object-segmentation/ECSSD/features/0335_resized.pth\n",
      "dict_keys(['k', 'indices', 'file', 'id', 'model_name', 'patch_size', 'shape'])\n",
      "0335_resized\n"
     ]
    },
    {
     "name": "stderr",
     "output_type": "stream",
     "text": [
      "/home/phdcs2/Hard_Disk/Projects/T2I/deep-spectral-segmentation/venv/lib/python3.8/site-packages/sklearn/decomposition/_pca.py:642: RuntimeWarning: invalid value encountered in divide\n",
      "  self.explained_variance_ratio_ = self.explained_variance_ / total_var\n"
     ]
    },
    {
     "name": "stdout",
     "output_type": "stream",
     "text": [
      "Starting Training\n",
      "epoch: 00, loss: -0.93481\n",
      "epoch: 01, loss: -0.96194\n",
      "epoch: 02, loss: -0.96798\n",
      "epoch: 03, loss: -0.97142\n",
      "epoch: 04, loss: -0.97376\n",
      "epoch: 05, loss: -0.97552\n",
      "epoch: 06, loss: -0.97688\n",
      "epoch: 07, loss: -0.97800\n",
      "epoch: 08, loss: -0.97893\n",
      "epoch: 09, loss: -0.97972\n",
      "torch.Size([1024, 64])\n"
     ]
    },
    {
     "name": "stderr",
     "output_type": "stream",
     "text": [
      " 33%|███▎      | 334/999 [6:45:12<12:52:37, 69.71s/it]"
     ]
    },
    {
     "name": "stdout",
     "output_type": "stream",
     "text": [
      "eigenvalues shape torch.Size([5]) eigenvectors shape torch.Size([5, 1024])\n",
      "334 /home/phdcs2/Hard_Disk/Datasets/Deep-Spectral-Segmentation/data/object-segmentation/ECSSD/features/0336_resized.pth\n",
      "dict_keys(['k', 'indices', 'file', 'id', 'model_name', 'patch_size', 'shape'])\n",
      "0336_resized\n",
      "Starting Training\n",
      "epoch: 00, loss: -0.88067\n",
      "epoch: 01, loss: -0.92860\n",
      "epoch: 02, loss: -0.94108\n",
      "epoch: 03, loss: -0.94800\n",
      "epoch: 04, loss: -0.95269\n",
      "epoch: 05, loss: -0.95621\n",
      "epoch: 06, loss: -0.95901\n",
      "epoch: 07, loss: -0.96101\n",
      "epoch: 08, loss: -0.96284\n",
      "epoch: 09, loss: -0.96439\n",
      "torch.Size([1024, 64])\n"
     ]
    },
    {
     "name": "stderr",
     "output_type": "stream",
     "text": [
      " 34%|███▎      | 335/999 [6:46:22<12:50:53, 69.66s/it]"
     ]
    },
    {
     "name": "stdout",
     "output_type": "stream",
     "text": [
      "eigenvalues shape torch.Size([5]) eigenvectors shape torch.Size([5, 1024])\n",
      "335 /home/phdcs2/Hard_Disk/Datasets/Deep-Spectral-Segmentation/data/object-segmentation/ECSSD/features/0337_resized.pth\n",
      "dict_keys(['k', 'indices', 'file', 'id', 'model_name', 'patch_size', 'shape'])\n",
      "0337_resized\n",
      "Starting Training\n",
      "epoch: 00, loss: -0.86259\n",
      "epoch: 01, loss: -0.91695\n",
      "epoch: 02, loss: -0.93108\n",
      "epoch: 03, loss: -0.93887\n",
      "epoch: 04, loss: -0.94422\n",
      "epoch: 05, loss: -0.94831\n",
      "epoch: 06, loss: -0.95143\n",
      "epoch: 07, loss: -0.95401\n",
      "epoch: 08, loss: -0.95617\n",
      "epoch: 09, loss: -0.95794\n",
      "torch.Size([1024, 64])\n"
     ]
    },
    {
     "name": "stderr",
     "output_type": "stream",
     "text": [
      " 34%|███▎      | 336/999 [6:47:33<12:52:49, 69.94s/it]"
     ]
    },
    {
     "name": "stdout",
     "output_type": "stream",
     "text": [
      "eigenvalues shape torch.Size([5]) eigenvectors shape torch.Size([5, 1024])\n",
      "336 /home/phdcs2/Hard_Disk/Datasets/Deep-Spectral-Segmentation/data/object-segmentation/ECSSD/features/0338_resized.pth\n",
      "dict_keys(['k', 'indices', 'file', 'id', 'model_name', 'patch_size', 'shape'])\n",
      "0338_resized\n",
      "Starting Training\n",
      "epoch: 00, loss: -0.91108\n",
      "epoch: 01, loss: -0.94627\n",
      "epoch: 02, loss: -0.95473\n",
      "epoch: 03, loss: -0.95956\n",
      "epoch: 04, loss: -0.96292\n",
      "epoch: 05, loss: -0.96535\n",
      "epoch: 06, loss: -0.96727\n",
      "epoch: 07, loss: -0.96887\n",
      "epoch: 08, loss: -0.97016\n",
      "epoch: 09, loss: -0.97129\n",
      "torch.Size([1024, 64])\n"
     ]
    },
    {
     "name": "stderr",
     "output_type": "stream",
     "text": [
      " 34%|███▎      | 337/999 [6:48:46<13:02:18, 70.90s/it]"
     ]
    },
    {
     "name": "stdout",
     "output_type": "stream",
     "text": [
      "eigenvalues shape torch.Size([5]) eigenvectors shape torch.Size([5, 1024])\n",
      "337 /home/phdcs2/Hard_Disk/Datasets/Deep-Spectral-Segmentation/data/object-segmentation/ECSSD/features/0339_resized.pth\n",
      "dict_keys(['k', 'indices', 'file', 'id', 'model_name', 'patch_size', 'shape'])\n",
      "0339_resized\n",
      "Starting Training\n",
      "epoch: 00, loss: -0.85275\n",
      "epoch: 01, loss: -0.91090\n",
      "epoch: 02, loss: -0.92628\n",
      "epoch: 03, loss: -0.93487\n",
      "epoch: 04, loss: -0.94048\n",
      "epoch: 05, loss: -0.94478\n",
      "epoch: 06, loss: -0.94798\n",
      "epoch: 07, loss: -0.95070\n",
      "epoch: 08, loss: -0.95287\n",
      "epoch: 09, loss: -0.95471\n",
      "torch.Size([1024, 64])\n"
     ]
    },
    {
     "name": "stderr",
     "output_type": "stream",
     "text": [
      " 34%|███▍      | 338/999 [6:49:55<12:54:25, 70.30s/it]"
     ]
    },
    {
     "name": "stdout",
     "output_type": "stream",
     "text": [
      "eigenvalues shape torch.Size([5]) eigenvectors shape torch.Size([5, 1024])\n",
      "338 /home/phdcs2/Hard_Disk/Datasets/Deep-Spectral-Segmentation/data/object-segmentation/ECSSD/features/0340_resized.pth\n",
      "dict_keys(['k', 'indices', 'file', 'id', 'model_name', 'patch_size', 'shape'])\n",
      "0340_resized\n",
      "Starting Training\n",
      "epoch: 00, loss: -0.91955\n",
      "epoch: 01, loss: -0.95044\n",
      "epoch: 02, loss: -0.95788\n",
      "epoch: 03, loss: -0.96223\n",
      "epoch: 04, loss: -0.96518\n",
      "epoch: 05, loss: -0.96732\n",
      "epoch: 06, loss: -0.96903\n",
      "epoch: 07, loss: -0.97047\n",
      "epoch: 08, loss: -0.97160\n",
      "epoch: 09, loss: -0.97262\n",
      "torch.Size([1024, 64])\n"
     ]
    },
    {
     "name": "stderr",
     "output_type": "stream",
     "text": [
      " 34%|███▍      | 339/999 [6:50:55<12:20:17, 67.30s/it]"
     ]
    },
    {
     "name": "stdout",
     "output_type": "stream",
     "text": [
      "eigenvalues shape torch.Size([5]) eigenvectors shape torch.Size([5, 1024])\n",
      "339 /home/phdcs2/Hard_Disk/Datasets/Deep-Spectral-Segmentation/data/object-segmentation/ECSSD/features/0341_resized.pth\n",
      "dict_keys(['k', 'indices', 'file', 'id', 'model_name', 'patch_size', 'shape'])\n",
      "0341_resized\n",
      "Starting Training\n",
      "epoch: 00, loss: -0.91369\n",
      "epoch: 01, loss: -0.94584\n",
      "epoch: 02, loss: -0.95343\n",
      "epoch: 03, loss: -0.95794\n",
      "epoch: 04, loss: -0.96105\n",
      "epoch: 05, loss: -0.96337\n",
      "epoch: 06, loss: -0.96522\n",
      "epoch: 07, loss: -0.96674\n",
      "epoch: 08, loss: -0.96804\n",
      "epoch: 09, loss: -0.96911\n",
      "torch.Size([1024, 64])\n"
     ]
    },
    {
     "name": "stderr",
     "output_type": "stream",
     "text": [
      " 34%|███▍      | 340/999 [6:52:10<12:43:51, 69.55s/it]"
     ]
    },
    {
     "name": "stdout",
     "output_type": "stream",
     "text": [
      "eigenvalues shape torch.Size([5]) eigenvectors shape torch.Size([5, 1024])\n",
      "340 /home/phdcs2/Hard_Disk/Datasets/Deep-Spectral-Segmentation/data/object-segmentation/ECSSD/features/0342_resized.pth\n",
      "dict_keys(['k', 'indices', 'file', 'id', 'model_name', 'patch_size', 'shape'])\n",
      "0342_resized\n",
      "Starting Training\n",
      "epoch: 00, loss: -0.87186\n",
      "epoch: 01, loss: -0.92534\n",
      "epoch: 02, loss: -0.93864\n",
      "epoch: 03, loss: -0.94620\n",
      "epoch: 04, loss: -0.95141\n",
      "epoch: 05, loss: -0.95509\n",
      "epoch: 06, loss: -0.95768\n",
      "epoch: 07, loss: -0.95995\n",
      "epoch: 08, loss: -0.96179\n",
      "epoch: 09, loss: -0.96334\n",
      "torch.Size([1024, 64])\n"
     ]
    },
    {
     "name": "stderr",
     "output_type": "stream",
     "text": [
      " 34%|███▍      | 341/999 [6:53:25<13:00:30, 71.17s/it]"
     ]
    },
    {
     "name": "stdout",
     "output_type": "stream",
     "text": [
      "eigenvalues shape torch.Size([5]) eigenvectors shape torch.Size([5, 1024])\n",
      "341 /home/phdcs2/Hard_Disk/Datasets/Deep-Spectral-Segmentation/data/object-segmentation/ECSSD/features/0343_resized.pth\n",
      "dict_keys(['k', 'indices', 'file', 'id', 'model_name', 'patch_size', 'shape'])\n",
      "0343_resized\n",
      "Starting Training\n",
      "epoch: 00, loss: -0.84983\n",
      "epoch: 01, loss: -0.91182\n",
      "epoch: 02, loss: -0.92743\n",
      "epoch: 03, loss: -0.93643\n",
      "epoch: 04, loss: -0.94234\n",
      "epoch: 05, loss: -0.94669\n",
      "epoch: 06, loss: -0.95010\n",
      "epoch: 07, loss: -0.95285\n",
      "epoch: 08, loss: -0.95492\n",
      "epoch: 09, loss: -0.95675\n",
      "torch.Size([1024, 64])\n"
     ]
    },
    {
     "name": "stderr",
     "output_type": "stream",
     "text": [
      " 34%|███▍      | 342/999 [6:54:35<12:57:58, 71.05s/it]"
     ]
    },
    {
     "name": "stdout",
     "output_type": "stream",
     "text": [
      "eigenvalues shape torch.Size([5]) eigenvectors shape torch.Size([5, 1024])\n",
      "342 /home/phdcs2/Hard_Disk/Datasets/Deep-Spectral-Segmentation/data/object-segmentation/ECSSD/features/0344_resized.pth\n",
      "dict_keys(['k', 'indices', 'file', 'id', 'model_name', 'patch_size', 'shape'])\n",
      "0344_resized\n",
      "Starting Training\n",
      "epoch: 00, loss: -0.88353\n",
      "epoch: 01, loss: -0.93033\n",
      "epoch: 02, loss: -0.94246\n",
      "epoch: 03, loss: -0.94892\n",
      "epoch: 04, loss: -0.95353\n",
      "epoch: 05, loss: -0.95706\n",
      "epoch: 06, loss: -0.95958\n",
      "epoch: 07, loss: -0.96182\n",
      "epoch: 08, loss: -0.96356\n",
      "epoch: 09, loss: -0.96508\n",
      "torch.Size([1024, 64])\n"
     ]
    },
    {
     "name": "stderr",
     "output_type": "stream",
     "text": [
      " 34%|███▍      | 343/999 [6:55:42<12:40:45, 69.58s/it]"
     ]
    },
    {
     "name": "stdout",
     "output_type": "stream",
     "text": [
      "eigenvalues shape torch.Size([5]) eigenvectors shape torch.Size([5, 1024])\n",
      "343 /home/phdcs2/Hard_Disk/Datasets/Deep-Spectral-Segmentation/data/object-segmentation/ECSSD/features/0345_resized.pth\n",
      "dict_keys(['k', 'indices', 'file', 'id', 'model_name', 'patch_size', 'shape'])\n",
      "0345_resized\n",
      "Starting Training\n",
      "epoch: 00, loss: -0.87034\n",
      "epoch: 01, loss: -0.92310\n",
      "epoch: 02, loss: -0.93615\n",
      "epoch: 03, loss: -0.94366\n",
      "epoch: 04, loss: -0.94833\n",
      "epoch: 05, loss: -0.95175\n",
      "epoch: 06, loss: -0.95475\n",
      "epoch: 07, loss: -0.95698\n",
      "epoch: 08, loss: -0.95895\n",
      "epoch: 09, loss: -0.96058\n",
      "torch.Size([1024, 64])\n"
     ]
    },
    {
     "name": "stderr",
     "output_type": "stream",
     "text": [
      " 34%|███▍      | 344/999 [6:56:56<12:55:45, 71.06s/it]"
     ]
    },
    {
     "name": "stdout",
     "output_type": "stream",
     "text": [
      "eigenvalues shape torch.Size([5]) eigenvectors shape torch.Size([5, 1024])\n",
      "344 /home/phdcs2/Hard_Disk/Datasets/Deep-Spectral-Segmentation/data/object-segmentation/ECSSD/features/0346_resized.pth\n",
      "dict_keys(['k', 'indices', 'file', 'id', 'model_name', 'patch_size', 'shape'])\n",
      "0346_resized\n",
      "Starting Training\n",
      "epoch: 00, loss: -0.94195\n",
      "epoch: 01, loss: -0.96739\n",
      "epoch: 02, loss: -0.97256\n",
      "epoch: 03, loss: -0.97554\n",
      "epoch: 04, loss: -0.97754\n",
      "epoch: 05, loss: -0.97903\n",
      "epoch: 06, loss: -0.98018\n",
      "epoch: 07, loss: -0.98115\n",
      "epoch: 08, loss: -0.98193\n",
      "epoch: 09, loss: -0.98261\n",
      "torch.Size([1024, 64])\n"
     ]
    },
    {
     "name": "stderr",
     "output_type": "stream",
     "text": [
      " 35%|███▍      | 345/999 [6:58:09<13:01:17, 71.68s/it]"
     ]
    },
    {
     "name": "stdout",
     "output_type": "stream",
     "text": [
      "eigenvalues shape torch.Size([5]) eigenvectors shape torch.Size([5, 1024])\n",
      "345 /home/phdcs2/Hard_Disk/Datasets/Deep-Spectral-Segmentation/data/object-segmentation/ECSSD/features/0347_resized.pth\n",
      "dict_keys(['k', 'indices', 'file', 'id', 'model_name', 'patch_size', 'shape'])\n",
      "0347_resized\n"
     ]
    },
    {
     "name": "stderr",
     "output_type": "stream",
     "text": [
      "/home/phdcs2/Hard_Disk/Projects/T2I/deep-spectral-segmentation/venv/lib/python3.8/site-packages/sklearn/decomposition/_pca.py:642: RuntimeWarning: invalid value encountered in divide\n",
      "  self.explained_variance_ratio_ = self.explained_variance_ / total_var\n"
     ]
    },
    {
     "name": "stdout",
     "output_type": "stream",
     "text": [
      "Starting Training\n",
      "epoch: 00, loss: -0.91879\n",
      "epoch: 01, loss: -0.94964\n",
      "epoch: 02, loss: -0.95746\n",
      "epoch: 03, loss: -0.96203\n",
      "epoch: 04, loss: -0.96517\n",
      "epoch: 05, loss: -0.96750\n",
      "epoch: 06, loss: -0.96934\n",
      "epoch: 07, loss: -0.97081\n",
      "epoch: 08, loss: -0.97209\n",
      "epoch: 09, loss: -0.97313\n",
      "torch.Size([1024, 64])\n"
     ]
    },
    {
     "name": "stderr",
     "output_type": "stream",
     "text": [
      " 35%|███▍      | 346/999 [6:59:17<12:47:32, 70.52s/it]"
     ]
    },
    {
     "name": "stdout",
     "output_type": "stream",
     "text": [
      "eigenvalues shape torch.Size([5]) eigenvectors shape torch.Size([5, 1024])\n",
      "346 /home/phdcs2/Hard_Disk/Datasets/Deep-Spectral-Segmentation/data/object-segmentation/ECSSD/features/0348_resized.pth\n",
      "dict_keys(['k', 'indices', 'file', 'id', 'model_name', 'patch_size', 'shape'])\n",
      "0348_resized\n"
     ]
    },
    {
     "name": "stderr",
     "output_type": "stream",
     "text": [
      "/home/phdcs2/Hard_Disk/Projects/T2I/deep-spectral-segmentation/venv/lib/python3.8/site-packages/sklearn/decomposition/_pca.py:642: RuntimeWarning: invalid value encountered in divide\n",
      "  self.explained_variance_ratio_ = self.explained_variance_ / total_var\n"
     ]
    },
    {
     "name": "stdout",
     "output_type": "stream",
     "text": [
      "Starting Training\n",
      "epoch: 00, loss: -0.93046\n",
      "epoch: 01, loss: -0.96001\n",
      "epoch: 02, loss: -0.96624\n",
      "epoch: 03, loss: -0.96984\n",
      "epoch: 04, loss: -0.97231\n",
      "epoch: 05, loss: -0.97414\n",
      "epoch: 06, loss: -0.97557\n",
      "epoch: 07, loss: -0.97673\n",
      "epoch: 08, loss: -0.97769\n",
      "epoch: 09, loss: -0.97853\n",
      "torch.Size([1024, 64])\n"
     ]
    },
    {
     "name": "stderr",
     "output_type": "stream",
     "text": [
      " 35%|███▍      | 347/999 [7:00:23<12:30:26, 69.06s/it]"
     ]
    },
    {
     "name": "stdout",
     "output_type": "stream",
     "text": [
      "eigenvalues shape torch.Size([5]) eigenvectors shape torch.Size([5, 1024])\n",
      "347 /home/phdcs2/Hard_Disk/Datasets/Deep-Spectral-Segmentation/data/object-segmentation/ECSSD/features/0349_resized.pth\n",
      "dict_keys(['k', 'indices', 'file', 'id', 'model_name', 'patch_size', 'shape'])\n",
      "0349_resized\n",
      "Starting Training\n",
      "epoch: 00, loss: -0.88796\n",
      "epoch: 01, loss: -0.93341\n",
      "epoch: 02, loss: -0.94530\n",
      "epoch: 03, loss: -0.95186\n",
      "epoch: 04, loss: -0.95634\n",
      "epoch: 05, loss: -0.95955\n",
      "epoch: 06, loss: -0.96210\n",
      "epoch: 07, loss: -0.96427\n",
      "epoch: 08, loss: -0.96587\n",
      "epoch: 09, loss: -0.96733\n",
      "torch.Size([1024, 64])\n"
     ]
    },
    {
     "name": "stderr",
     "output_type": "stream",
     "text": [
      " 35%|███▍      | 348/999 [7:01:27<12:14:41, 67.71s/it]"
     ]
    },
    {
     "name": "stdout",
     "output_type": "stream",
     "text": [
      "eigenvalues shape torch.Size([5]) eigenvectors shape torch.Size([5, 1024])\n",
      "348 /home/phdcs2/Hard_Disk/Datasets/Deep-Spectral-Segmentation/data/object-segmentation/ECSSD/features/0350_resized.pth\n",
      "dict_keys(['k', 'indices', 'file', 'id', 'model_name', 'patch_size', 'shape'])\n",
      "0350_resized\n"
     ]
    },
    {
     "name": "stderr",
     "output_type": "stream",
     "text": [
      "/home/phdcs2/Hard_Disk/Projects/T2I/deep-spectral-segmentation/venv/lib/python3.8/site-packages/sklearn/decomposition/_pca.py:642: RuntimeWarning: invalid value encountered in divide\n",
      "  self.explained_variance_ratio_ = self.explained_variance_ / total_var\n"
     ]
    },
    {
     "name": "stdout",
     "output_type": "stream",
     "text": [
      "Starting Training\n",
      "epoch: 00, loss: -0.92755\n",
      "epoch: 01, loss: -0.95523\n",
      "epoch: 02, loss: -0.96208\n",
      "epoch: 03, loss: -0.96600\n",
      "epoch: 04, loss: -0.96871\n",
      "epoch: 05, loss: -0.97070\n",
      "epoch: 06, loss: -0.97232\n",
      "epoch: 07, loss: -0.97359\n",
      "epoch: 08, loss: -0.97467\n",
      "epoch: 09, loss: -0.97562\n",
      "torch.Size([1024, 64])\n"
     ]
    },
    {
     "name": "stderr",
     "output_type": "stream",
     "text": [
      " 35%|███▍      | 349/999 [7:02:27<11:45:54, 65.16s/it]"
     ]
    },
    {
     "name": "stdout",
     "output_type": "stream",
     "text": [
      "eigenvalues shape torch.Size([5]) eigenvectors shape torch.Size([5, 1024])\n",
      "349 /home/phdcs2/Hard_Disk/Datasets/Deep-Spectral-Segmentation/data/object-segmentation/ECSSD/features/0351_resized.pth\n",
      "dict_keys(['k', 'indices', 'file', 'id', 'model_name', 'patch_size', 'shape'])\n",
      "0351_resized\n",
      "Starting Training\n",
      "epoch: 00, loss: -0.85061\n",
      "epoch: 01, loss: -0.91011\n",
      "epoch: 02, loss: -0.92590\n",
      "epoch: 03, loss: -0.93477\n",
      "epoch: 04, loss: -0.94083\n",
      "epoch: 05, loss: -0.94524\n",
      "epoch: 06, loss: -0.94867\n",
      "epoch: 07, loss: -0.95141\n",
      "epoch: 08, loss: -0.95374\n",
      "epoch: 09, loss: -0.95568\n",
      "torch.Size([1024, 64])\n"
     ]
    },
    {
     "name": "stderr",
     "output_type": "stream",
     "text": [
      " 35%|███▌      | 350/999 [7:03:21<11:10:51, 62.02s/it]"
     ]
    },
    {
     "name": "stdout",
     "output_type": "stream",
     "text": [
      "eigenvalues shape torch.Size([5]) eigenvectors shape torch.Size([5, 1024])\n",
      "350 /home/phdcs2/Hard_Disk/Datasets/Deep-Spectral-Segmentation/data/object-segmentation/ECSSD/features/0352_resized.pth\n",
      "dict_keys(['k', 'indices', 'file', 'id', 'model_name', 'patch_size', 'shape'])\n",
      "0352_resized\n",
      "Starting Training\n",
      "epoch: 00, loss: -0.88894\n",
      "epoch: 01, loss: -0.93489\n",
      "epoch: 02, loss: -0.94593\n",
      "epoch: 03, loss: -0.95206\n",
      "epoch: 04, loss: -0.95629\n",
      "epoch: 05, loss: -0.95943\n",
      "epoch: 06, loss: -0.96179\n",
      "epoch: 07, loss: -0.96373\n",
      "epoch: 08, loss: -0.96532\n",
      "epoch: 09, loss: -0.96665\n",
      "torch.Size([1024, 64])\n"
     ]
    },
    {
     "name": "stderr",
     "output_type": "stream",
     "text": [
      " 35%|███▌      | 351/999 [7:04:17<10:50:49, 60.26s/it]"
     ]
    },
    {
     "name": "stdout",
     "output_type": "stream",
     "text": [
      "eigenvalues shape torch.Size([5]) eigenvectors shape torch.Size([5, 1024])\n",
      "351 /home/phdcs2/Hard_Disk/Datasets/Deep-Spectral-Segmentation/data/object-segmentation/ECSSD/features/0353_resized.pth\n",
      "dict_keys(['k', 'indices', 'file', 'id', 'model_name', 'patch_size', 'shape'])\n",
      "0353_resized\n",
      "Starting Training\n",
      "epoch: 00, loss: -0.84557\n",
      "epoch: 01, loss: -0.90795\n",
      "epoch: 02, loss: -0.92355\n",
      "epoch: 03, loss: -0.93257\n",
      "epoch: 04, loss: -0.93832\n",
      "epoch: 05, loss: -0.94258\n",
      "epoch: 06, loss: -0.94599\n",
      "epoch: 07, loss: -0.94877\n",
      "epoch: 08, loss: -0.95107\n",
      "epoch: 09, loss: -0.95301\n",
      "torch.Size([1024, 64])\n"
     ]
    },
    {
     "name": "stderr",
     "output_type": "stream",
     "text": [
      " 35%|███▌      | 352/999 [7:05:28<11:22:17, 63.27s/it]"
     ]
    },
    {
     "name": "stdout",
     "output_type": "stream",
     "text": [
      "eigenvalues shape torch.Size([5]) eigenvectors shape torch.Size([5, 1024])\n",
      "352 /home/phdcs2/Hard_Disk/Datasets/Deep-Spectral-Segmentation/data/object-segmentation/ECSSD/features/0354_resized.pth\n",
      "dict_keys(['k', 'indices', 'file', 'id', 'model_name', 'patch_size', 'shape'])\n",
      "0354_resized\n",
      "Starting Training\n",
      "epoch: 00, loss: -0.86802\n",
      "epoch: 01, loss: -0.92166\n",
      "epoch: 02, loss: -0.93527\n",
      "epoch: 03, loss: -0.94315\n",
      "epoch: 04, loss: -0.94832\n",
      "epoch: 05, loss: -0.95215\n",
      "epoch: 06, loss: -0.95522\n",
      "epoch: 07, loss: -0.95765\n",
      "epoch: 08, loss: -0.95960\n",
      "epoch: 09, loss: -0.96141\n",
      "torch.Size([1024, 64])\n"
     ]
    },
    {
     "name": "stderr",
     "output_type": "stream",
     "text": [
      " 35%|███▌      | 353/999 [7:06:34<11:31:25, 64.22s/it]"
     ]
    },
    {
     "name": "stdout",
     "output_type": "stream",
     "text": [
      "eigenvalues shape torch.Size([5]) eigenvectors shape torch.Size([5, 1024])\n",
      "353 /home/phdcs2/Hard_Disk/Datasets/Deep-Spectral-Segmentation/data/object-segmentation/ECSSD/features/0355_resized.pth\n",
      "dict_keys(['k', 'indices', 'file', 'id', 'model_name', 'patch_size', 'shape'])\n",
      "0355_resized\n"
     ]
    },
    {
     "name": "stderr",
     "output_type": "stream",
     "text": [
      "/home/phdcs2/Hard_Disk/Projects/T2I/deep-spectral-segmentation/venv/lib/python3.8/site-packages/sklearn/decomposition/_pca.py:642: RuntimeWarning: invalid value encountered in divide\n",
      "  self.explained_variance_ratio_ = self.explained_variance_ / total_var\n"
     ]
    },
    {
     "name": "stdout",
     "output_type": "stream",
     "text": [
      "Starting Training\n",
      "epoch: 00, loss: -0.91135\n",
      "epoch: 01, loss: -0.94644\n",
      "epoch: 02, loss: -0.95526\n",
      "epoch: 03, loss: -0.96036\n",
      "epoch: 04, loss: -0.96382\n",
      "epoch: 05, loss: -0.96640\n",
      "epoch: 06, loss: -0.96837\n",
      "epoch: 07, loss: -0.97000\n",
      "epoch: 08, loss: -0.97134\n",
      "epoch: 09, loss: -0.97251\n",
      "torch.Size([1024, 64])\n"
     ]
    },
    {
     "name": "stderr",
     "output_type": "stream",
     "text": [
      " 35%|███▌      | 354/999 [7:07:47<11:59:24, 66.92s/it]"
     ]
    },
    {
     "name": "stdout",
     "output_type": "stream",
     "text": [
      "eigenvalues shape torch.Size([5]) eigenvectors shape torch.Size([5, 1024])\n",
      "354 /home/phdcs2/Hard_Disk/Datasets/Deep-Spectral-Segmentation/data/object-segmentation/ECSSD/features/0356_resized.pth\n",
      "dict_keys(['k', 'indices', 'file', 'id', 'model_name', 'patch_size', 'shape'])\n",
      "0356_resized\n"
     ]
    },
    {
     "name": "stderr",
     "output_type": "stream",
     "text": [
      "/home/phdcs2/Hard_Disk/Projects/T2I/deep-spectral-segmentation/venv/lib/python3.8/site-packages/sklearn/decomposition/_pca.py:642: RuntimeWarning: invalid value encountered in divide\n",
      "  self.explained_variance_ratio_ = self.explained_variance_ / total_var\n"
     ]
    },
    {
     "name": "stdout",
     "output_type": "stream",
     "text": [
      "Starting Training\n",
      "epoch: 00, loss: -0.91600\n",
      "epoch: 01, loss: -0.95074\n",
      "epoch: 02, loss: -0.95875\n",
      "epoch: 03, loss: -0.96341\n",
      "epoch: 04, loss: -0.96659\n",
      "epoch: 05, loss: -0.96899\n",
      "epoch: 06, loss: -0.97081\n",
      "epoch: 07, loss: -0.97232\n",
      "epoch: 08, loss: -0.97358\n",
      "epoch: 09, loss: -0.97466\n",
      "torch.Size([1024, 64])\n"
     ]
    },
    {
     "name": "stderr",
     "output_type": "stream",
     "text": [
      " 36%|███▌      | 355/999 [7:08:52<11:50:39, 66.21s/it]"
     ]
    },
    {
     "name": "stdout",
     "output_type": "stream",
     "text": [
      "eigenvalues shape torch.Size([5]) eigenvectors shape torch.Size([5, 1024])\n",
      "355 /home/phdcs2/Hard_Disk/Datasets/Deep-Spectral-Segmentation/data/object-segmentation/ECSSD/features/0357_resized.pth\n",
      "dict_keys(['k', 'indices', 'file', 'id', 'model_name', 'patch_size', 'shape'])\n",
      "0357_resized\n"
     ]
    },
    {
     "name": "stderr",
     "output_type": "stream",
     "text": [
      "/home/phdcs2/Hard_Disk/Projects/T2I/deep-spectral-segmentation/venv/lib/python3.8/site-packages/sklearn/decomposition/_pca.py:642: RuntimeWarning: invalid value encountered in divide\n",
      "  self.explained_variance_ratio_ = self.explained_variance_ / total_var\n"
     ]
    },
    {
     "name": "stdout",
     "output_type": "stream",
     "text": [
      "Starting Training\n",
      "epoch: 00, loss: -0.92914\n",
      "epoch: 01, loss: -0.95671\n",
      "epoch: 02, loss: -0.96362\n",
      "epoch: 03, loss: -0.96763\n",
      "epoch: 04, loss: -0.97036\n",
      "epoch: 05, loss: -0.97240\n",
      "epoch: 06, loss: -0.97398\n",
      "epoch: 07, loss: -0.97530\n",
      "epoch: 08, loss: -0.97639\n",
      "epoch: 09, loss: -0.97731\n",
      "torch.Size([1024, 64])\n"
     ]
    },
    {
     "name": "stderr",
     "output_type": "stream",
     "text": [
      " 36%|███▌      | 356/999 [7:09:55<11:40:54, 65.40s/it]"
     ]
    },
    {
     "name": "stdout",
     "output_type": "stream",
     "text": [
      "eigenvalues shape torch.Size([5]) eigenvectors shape torch.Size([5, 1024])\n",
      "356 /home/phdcs2/Hard_Disk/Datasets/Deep-Spectral-Segmentation/data/object-segmentation/ECSSD/features/0358_resized.pth\n",
      "dict_keys(['k', 'indices', 'file', 'id', 'model_name', 'patch_size', 'shape'])\n",
      "0358_resized\n",
      "Starting Training\n",
      "epoch: 00, loss: -0.85807\n",
      "epoch: 01, loss: -0.91481\n",
      "epoch: 02, loss: -0.92904\n",
      "epoch: 03, loss: -0.93762\n",
      "epoch: 04, loss: -0.94337\n",
      "epoch: 05, loss: -0.94755\n",
      "epoch: 06, loss: -0.95090\n",
      "epoch: 07, loss: -0.95336\n",
      "epoch: 08, loss: -0.95544\n",
      "epoch: 09, loss: -0.95737\n",
      "torch.Size([1024, 64])\n"
     ]
    },
    {
     "name": "stderr",
     "output_type": "stream",
     "text": [
      " 36%|███▌      | 357/999 [7:11:06<11:55:29, 66.87s/it]"
     ]
    },
    {
     "name": "stdout",
     "output_type": "stream",
     "text": [
      "eigenvalues shape torch.Size([5]) eigenvectors shape torch.Size([5, 1024])\n",
      "357 /home/phdcs2/Hard_Disk/Datasets/Deep-Spectral-Segmentation/data/object-segmentation/ECSSD/features/0359_resized.pth\n",
      "dict_keys(['k', 'indices', 'file', 'id', 'model_name', 'patch_size', 'shape'])\n",
      "0359_resized\n",
      "Starting Training\n",
      "epoch: 00, loss: -0.92488\n",
      "epoch: 01, loss: -0.95714\n",
      "epoch: 02, loss: -0.96378\n",
      "epoch: 03, loss: -0.96766\n",
      "epoch: 04, loss: -0.97029\n",
      "epoch: 05, loss: -0.97227\n",
      "epoch: 06, loss: -0.97381\n",
      "epoch: 07, loss: -0.97509\n",
      "epoch: 08, loss: -0.97613\n",
      "epoch: 09, loss: -0.97705\n",
      "torch.Size([1024, 64])\n"
     ]
    },
    {
     "name": "stderr",
     "output_type": "stream",
     "text": [
      " 36%|███▌      | 358/999 [7:12:12<11:52:36, 66.70s/it]"
     ]
    },
    {
     "name": "stdout",
     "output_type": "stream",
     "text": [
      "eigenvalues shape torch.Size([5]) eigenvectors shape torch.Size([5, 1024])\n",
      "358 /home/phdcs2/Hard_Disk/Datasets/Deep-Spectral-Segmentation/data/object-segmentation/ECSSD/features/0360_resized.pth\n",
      "dict_keys(['k', 'indices', 'file', 'id', 'model_name', 'patch_size', 'shape'])\n",
      "0360_resized\n",
      "Starting Training\n",
      "epoch: 00, loss: -0.92681\n",
      "epoch: 01, loss: -0.95435\n",
      "epoch: 02, loss: -0.96162\n",
      "epoch: 03, loss: -0.96589\n",
      "epoch: 04, loss: -0.96875\n",
      "epoch: 05, loss: -0.97089\n",
      "epoch: 06, loss: -0.97260\n",
      "epoch: 07, loss: -0.97397\n",
      "epoch: 08, loss: -0.97513\n",
      "epoch: 09, loss: -0.97608\n",
      "torch.Size([1024, 64])\n"
     ]
    },
    {
     "name": "stderr",
     "output_type": "stream",
     "text": [
      " 36%|███▌      | 359/999 [7:13:14<11:37:50, 65.42s/it]"
     ]
    },
    {
     "name": "stdout",
     "output_type": "stream",
     "text": [
      "eigenvalues shape torch.Size([5]) eigenvectors shape torch.Size([5, 1024])\n",
      "359 /home/phdcs2/Hard_Disk/Datasets/Deep-Spectral-Segmentation/data/object-segmentation/ECSSD/features/0361_resized.pth\n",
      "dict_keys(['k', 'indices', 'file', 'id', 'model_name', 'patch_size', 'shape'])\n",
      "0361_resized\n",
      "Starting Training\n",
      "epoch: 00, loss: -0.85918\n",
      "epoch: 01, loss: -0.91745\n",
      "epoch: 02, loss: -0.93251\n",
      "epoch: 03, loss: -0.94092\n",
      "epoch: 04, loss: -0.94657\n",
      "epoch: 05, loss: -0.95078\n",
      "epoch: 06, loss: -0.95397\n",
      "epoch: 07, loss: -0.95654\n",
      "epoch: 08, loss: -0.95862\n",
      "epoch: 09, loss: -0.96048\n",
      "torch.Size([1024, 64])\n"
     ]
    },
    {
     "name": "stderr",
     "output_type": "stream",
     "text": [
      " 36%|███▌      | 360/999 [7:14:13<11:15:35, 63.44s/it]"
     ]
    },
    {
     "name": "stdout",
     "output_type": "stream",
     "text": [
      "eigenvalues shape torch.Size([5]) eigenvectors shape torch.Size([5, 1024])\n",
      "360 /home/phdcs2/Hard_Disk/Datasets/Deep-Spectral-Segmentation/data/object-segmentation/ECSSD/features/0362_resized.pth\n",
      "dict_keys(['k', 'indices', 'file', 'id', 'model_name', 'patch_size', 'shape'])\n",
      "0362_resized\n"
     ]
    },
    {
     "name": "stderr",
     "output_type": "stream",
     "text": [
      "/home/phdcs2/Hard_Disk/Projects/T2I/deep-spectral-segmentation/venv/lib/python3.8/site-packages/sklearn/decomposition/_pca.py:642: RuntimeWarning: invalid value encountered in divide\n",
      "  self.explained_variance_ratio_ = self.explained_variance_ / total_var\n"
     ]
    },
    {
     "name": "stdout",
     "output_type": "stream",
     "text": [
      "Starting Training\n",
      "epoch: 00, loss: -0.93238\n",
      "epoch: 01, loss: -0.95878\n",
      "epoch: 02, loss: -0.96459\n",
      "epoch: 03, loss: -0.96804\n",
      "epoch: 04, loss: -0.97040\n",
      "epoch: 05, loss: -0.97218\n",
      "epoch: 06, loss: -0.97359\n",
      "epoch: 07, loss: -0.97473\n",
      "epoch: 08, loss: -0.97572\n",
      "epoch: 09, loss: -0.97656\n",
      "torch.Size([1024, 64])\n"
     ]
    },
    {
     "name": "stderr",
     "output_type": "stream",
     "text": [
      " 36%|███▌      | 361/999 [7:15:19<11:23:27, 64.27s/it]"
     ]
    },
    {
     "name": "stdout",
     "output_type": "stream",
     "text": [
      "eigenvalues shape torch.Size([5]) eigenvectors shape torch.Size([5, 1024])\n",
      "361 /home/phdcs2/Hard_Disk/Datasets/Deep-Spectral-Segmentation/data/object-segmentation/ECSSD/features/0363_resized.pth\n",
      "dict_keys(['k', 'indices', 'file', 'id', 'model_name', 'patch_size', 'shape'])\n",
      "0363_resized\n",
      "Starting Training\n",
      "epoch: 00, loss: -0.87326\n",
      "epoch: 01, loss: -0.92179\n",
      "epoch: 02, loss: -0.93514\n",
      "epoch: 03, loss: -0.94298\n",
      "epoch: 04, loss: -0.94838\n",
      "epoch: 05, loss: -0.95223\n",
      "epoch: 06, loss: -0.95518\n",
      "epoch: 07, loss: -0.95762\n",
      "epoch: 08, loss: -0.95964\n",
      "epoch: 09, loss: -0.96126\n",
      "torch.Size([1024, 64])\n"
     ]
    },
    {
     "name": "stderr",
     "output_type": "stream",
     "text": [
      " 36%|███▌      | 362/999 [7:16:19<11:06:15, 62.76s/it]"
     ]
    },
    {
     "name": "stdout",
     "output_type": "stream",
     "text": [
      "eigenvalues shape torch.Size([5]) eigenvectors shape torch.Size([5, 1024])\n",
      "362 /home/phdcs2/Hard_Disk/Datasets/Deep-Spectral-Segmentation/data/object-segmentation/ECSSD/features/0364_resized.pth\n",
      "dict_keys(['k', 'indices', 'file', 'id', 'model_name', 'patch_size', 'shape'])\n",
      "0364_resized\n",
      "Starting Training\n",
      "epoch: 00, loss: -0.86828\n",
      "epoch: 01, loss: -0.92234\n",
      "epoch: 02, loss: -0.93589\n",
      "epoch: 03, loss: -0.94363\n",
      "epoch: 04, loss: -0.94859\n",
      "epoch: 05, loss: -0.95233\n",
      "epoch: 06, loss: -0.95522\n",
      "epoch: 07, loss: -0.95751\n",
      "epoch: 08, loss: -0.95941\n",
      "epoch: 09, loss: -0.96095\n",
      "torch.Size([1024, 64])\n"
     ]
    },
    {
     "name": "stderr",
     "output_type": "stream",
     "text": [
      " 36%|███▋      | 363/999 [7:17:18<10:52:58, 61.60s/it]"
     ]
    },
    {
     "name": "stdout",
     "output_type": "stream",
     "text": [
      "eigenvalues shape torch.Size([5]) eigenvectors shape torch.Size([5, 1024])\n",
      "363 /home/phdcs2/Hard_Disk/Datasets/Deep-Spectral-Segmentation/data/object-segmentation/ECSSD/features/0365_resized.pth\n",
      "dict_keys(['k', 'indices', 'file', 'id', 'model_name', 'patch_size', 'shape'])\n",
      "0365_resized\n",
      "Starting Training\n",
      "epoch: 00, loss: -0.88919\n",
      "epoch: 01, loss: -0.93342\n",
      "epoch: 02, loss: -0.94421\n",
      "epoch: 03, loss: -0.95050\n",
      "epoch: 04, loss: -0.95473\n",
      "epoch: 05, loss: -0.95772\n",
      "epoch: 06, loss: -0.96018\n",
      "epoch: 07, loss: -0.96220\n",
      "epoch: 08, loss: -0.96389\n",
      "epoch: 09, loss: -0.96528\n",
      "torch.Size([1024, 64])\n"
     ]
    },
    {
     "name": "stderr",
     "output_type": "stream",
     "text": [
      " 36%|███▋      | 364/999 [7:18:16<10:41:08, 60.58s/it]"
     ]
    },
    {
     "name": "stdout",
     "output_type": "stream",
     "text": [
      "eigenvalues shape torch.Size([5]) eigenvectors shape torch.Size([5, 1024])\n",
      "364 /home/phdcs2/Hard_Disk/Datasets/Deep-Spectral-Segmentation/data/object-segmentation/ECSSD/features/0366_resized.pth\n",
      "dict_keys(['k', 'indices', 'file', 'id', 'model_name', 'patch_size', 'shape'])\n",
      "0366_resized\n",
      "Starting Training\n",
      "epoch: 00, loss: -0.86961\n",
      "epoch: 01, loss: -0.92036\n",
      "epoch: 02, loss: -0.93310\n",
      "epoch: 03, loss: -0.94039\n",
      "epoch: 04, loss: -0.94521\n",
      "epoch: 05, loss: -0.94886\n",
      "epoch: 06, loss: -0.95167\n",
      "epoch: 07, loss: -0.95395\n",
      "epoch: 08, loss: -0.95587\n",
      "epoch: 09, loss: -0.95755\n",
      "torch.Size([1024, 64])\n"
     ]
    },
    {
     "name": "stderr",
     "output_type": "stream",
     "text": [
      " 37%|███▋      | 365/999 [7:19:09<10:16:26, 58.34s/it]"
     ]
    },
    {
     "name": "stdout",
     "output_type": "stream",
     "text": [
      "eigenvalues shape torch.Size([5]) eigenvectors shape torch.Size([5, 1024])\n",
      "365 /home/phdcs2/Hard_Disk/Datasets/Deep-Spectral-Segmentation/data/object-segmentation/ECSSD/features/0367_resized.pth\n",
      "dict_keys(['k', 'indices', 'file', 'id', 'model_name', 'patch_size', 'shape'])\n",
      "0367_resized\n"
     ]
    },
    {
     "name": "stderr",
     "output_type": "stream",
     "text": [
      "/home/phdcs2/Hard_Disk/Projects/T2I/deep-spectral-segmentation/venv/lib/python3.8/site-packages/sklearn/decomposition/_pca.py:642: RuntimeWarning: invalid value encountered in divide\n",
      "  self.explained_variance_ratio_ = self.explained_variance_ / total_var\n"
     ]
    },
    {
     "name": "stdout",
     "output_type": "stream",
     "text": [
      "Starting Training\n",
      "epoch: 00, loss: -0.92930\n",
      "epoch: 01, loss: -0.95863\n",
      "epoch: 02, loss: -0.96519\n",
      "epoch: 03, loss: -0.96893\n",
      "epoch: 04, loss: -0.97153\n",
      "epoch: 05, loss: -0.97344\n",
      "epoch: 06, loss: -0.97495\n",
      "epoch: 07, loss: -0.97617\n",
      "epoch: 08, loss: -0.97719\n",
      "epoch: 09, loss: -0.97807\n",
      "torch.Size([1024, 64])\n"
     ]
    },
    {
     "name": "stderr",
     "output_type": "stream",
     "text": [
      " 37%|███▋      | 366/999 [7:20:14<10:37:28, 60.42s/it]"
     ]
    },
    {
     "name": "stdout",
     "output_type": "stream",
     "text": [
      "eigenvalues shape torch.Size([5]) eigenvectors shape torch.Size([5, 1024])\n",
      "366 /home/phdcs2/Hard_Disk/Datasets/Deep-Spectral-Segmentation/data/object-segmentation/ECSSD/features/0368_resized.pth\n",
      "dict_keys(['k', 'indices', 'file', 'id', 'model_name', 'patch_size', 'shape'])\n",
      "0368_resized\n",
      "Starting Training\n",
      "epoch: 00, loss: -0.86835\n",
      "epoch: 01, loss: -0.92082\n",
      "epoch: 02, loss: -0.93468\n",
      "epoch: 03, loss: -0.94223\n",
      "epoch: 04, loss: -0.94748\n",
      "epoch: 05, loss: -0.95116\n",
      "epoch: 06, loss: -0.95411\n",
      "epoch: 07, loss: -0.95655\n",
      "epoch: 08, loss: -0.95845\n",
      "epoch: 09, loss: -0.96012\n",
      "torch.Size([1024, 64])\n"
     ]
    },
    {
     "name": "stderr",
     "output_type": "stream",
     "text": [
      " 37%|███▋      | 367/999 [7:21:23<11:02:49, 62.93s/it]"
     ]
    },
    {
     "name": "stdout",
     "output_type": "stream",
     "text": [
      "eigenvalues shape torch.Size([5]) eigenvectors shape torch.Size([5, 1024])\n",
      "367 /home/phdcs2/Hard_Disk/Datasets/Deep-Spectral-Segmentation/data/object-segmentation/ECSSD/features/0369_resized.pth\n",
      "dict_keys(['k', 'indices', 'file', 'id', 'model_name', 'patch_size', 'shape'])\n",
      "0369_resized\n",
      "Starting Training\n",
      "epoch: 00, loss: -0.85169\n",
      "epoch: 01, loss: -0.90945\n",
      "epoch: 02, loss: -0.92545\n",
      "epoch: 03, loss: -0.93485\n",
      "epoch: 04, loss: -0.94088\n",
      "epoch: 05, loss: -0.94538\n",
      "epoch: 06, loss: -0.94899\n",
      "epoch: 07, loss: -0.95180\n",
      "epoch: 08, loss: -0.95407\n",
      "epoch: 09, loss: -0.95611\n",
      "torch.Size([1024, 64])\n"
     ]
    },
    {
     "name": "stderr",
     "output_type": "stream",
     "text": [
      " 37%|███▋      | 368/999 [7:22:30<11:15:25, 64.22s/it]"
     ]
    },
    {
     "name": "stdout",
     "output_type": "stream",
     "text": [
      "eigenvalues shape torch.Size([5]) eigenvectors shape torch.Size([5, 1024])\n",
      "368 /home/phdcs2/Hard_Disk/Datasets/Deep-Spectral-Segmentation/data/object-segmentation/ECSSD/features/0370_resized.pth\n",
      "dict_keys(['k', 'indices', 'file', 'id', 'model_name', 'patch_size', 'shape'])\n",
      "0370_resized\n",
      "Starting Training\n",
      "epoch: 00, loss: -0.86656\n",
      "epoch: 01, loss: -0.91997\n",
      "epoch: 02, loss: -0.93404\n",
      "epoch: 03, loss: -0.94212\n",
      "epoch: 04, loss: -0.94730\n",
      "epoch: 05, loss: -0.95141\n",
      "epoch: 06, loss: -0.95451\n",
      "epoch: 07, loss: -0.95692\n",
      "epoch: 08, loss: -0.95896\n",
      "epoch: 09, loss: -0.96064\n",
      "torch.Size([1024, 64])\n"
     ]
    },
    {
     "name": "stderr",
     "output_type": "stream",
     "text": [
      " 37%|███▋      | 369/999 [7:23:32<11:06:49, 63.51s/it]"
     ]
    },
    {
     "name": "stdout",
     "output_type": "stream",
     "text": [
      "eigenvalues shape torch.Size([5]) eigenvectors shape torch.Size([5, 1024])\n",
      "369 /home/phdcs2/Hard_Disk/Datasets/Deep-Spectral-Segmentation/data/object-segmentation/ECSSD/features/0371_resized.pth\n",
      "dict_keys(['k', 'indices', 'file', 'id', 'model_name', 'patch_size', 'shape'])\n",
      "0371_resized\n",
      "Starting Training\n",
      "epoch: 00, loss: -0.89312\n",
      "epoch: 01, loss: -0.93560\n",
      "epoch: 02, loss: -0.94630\n",
      "epoch: 03, loss: -0.95224\n",
      "epoch: 04, loss: -0.95620\n",
      "epoch: 05, loss: -0.95934\n",
      "epoch: 06, loss: -0.96151\n",
      "epoch: 07, loss: -0.96344\n",
      "epoch: 08, loss: -0.96496\n",
      "epoch: 09, loss: -0.96626\n",
      "torch.Size([1024, 64])\n"
     ]
    },
    {
     "name": "stderr",
     "output_type": "stream",
     "text": [
      " 37%|███▋      | 370/999 [7:24:38<11:14:08, 64.31s/it]"
     ]
    },
    {
     "name": "stdout",
     "output_type": "stream",
     "text": [
      "eigenvalues shape torch.Size([5]) eigenvectors shape torch.Size([5, 1024])\n",
      "370 /home/phdcs2/Hard_Disk/Datasets/Deep-Spectral-Segmentation/data/object-segmentation/ECSSD/features/0372_resized.pth\n",
      "dict_keys(['k', 'indices', 'file', 'id', 'model_name', 'patch_size', 'shape'])\n",
      "0372_resized\n",
      "Starting Training\n",
      "epoch: 00, loss: -0.88239\n",
      "epoch: 01, loss: -0.92679\n",
      "epoch: 02, loss: -0.93809\n",
      "epoch: 03, loss: -0.94448\n",
      "epoch: 04, loss: -0.94898\n",
      "epoch: 05, loss: -0.95244\n",
      "epoch: 06, loss: -0.95497\n",
      "epoch: 07, loss: -0.95717\n",
      "epoch: 08, loss: -0.95881\n",
      "epoch: 09, loss: -0.96053\n",
      "torch.Size([1024, 64])\n"
     ]
    },
    {
     "name": "stderr",
     "output_type": "stream",
     "text": [
      " 37%|███▋      | 371/999 [7:25:49<11:33:59, 66.30s/it]"
     ]
    },
    {
     "name": "stdout",
     "output_type": "stream",
     "text": [
      "eigenvalues shape torch.Size([5]) eigenvectors shape torch.Size([5, 1024])\n",
      "371 /home/phdcs2/Hard_Disk/Datasets/Deep-Spectral-Segmentation/data/object-segmentation/ECSSD/features/0373_resized.pth\n",
      "dict_keys(['k', 'indices', 'file', 'id', 'model_name', 'patch_size', 'shape'])\n",
      "0373_resized\n"
     ]
    },
    {
     "name": "stderr",
     "output_type": "stream",
     "text": [
      "/home/phdcs2/Hard_Disk/Projects/T2I/deep-spectral-segmentation/venv/lib/python3.8/site-packages/sklearn/decomposition/_pca.py:642: RuntimeWarning: invalid value encountered in divide\n",
      "  self.explained_variance_ratio_ = self.explained_variance_ / total_var\n"
     ]
    },
    {
     "name": "stdout",
     "output_type": "stream",
     "text": [
      "Starting Training\n",
      "epoch: 00, loss: -0.91775\n",
      "epoch: 01, loss: -0.94977\n",
      "epoch: 02, loss: -0.95764\n",
      "epoch: 03, loss: -0.96217\n",
      "epoch: 04, loss: -0.96529\n",
      "epoch: 05, loss: -0.96757\n",
      "epoch: 06, loss: -0.96939\n",
      "epoch: 07, loss: -0.97087\n",
      "epoch: 08, loss: -0.97208\n",
      "epoch: 09, loss: -0.97312\n",
      "torch.Size([1024, 64])\n"
     ]
    },
    {
     "name": "stderr",
     "output_type": "stream",
     "text": [
      " 37%|███▋      | 372/999 [7:26:55<11:31:12, 66.14s/it]"
     ]
    },
    {
     "name": "stdout",
     "output_type": "stream",
     "text": [
      "eigenvalues shape torch.Size([5]) eigenvectors shape torch.Size([5, 1024])\n",
      "372 /home/phdcs2/Hard_Disk/Datasets/Deep-Spectral-Segmentation/data/object-segmentation/ECSSD/features/0374_resized.pth\n",
      "dict_keys(['k', 'indices', 'file', 'id', 'model_name', 'patch_size', 'shape'])\n",
      "0374_resized\n",
      "Starting Training\n",
      "epoch: 00, loss: -0.88214\n",
      "epoch: 01, loss: -0.92598\n",
      "epoch: 02, loss: -0.93810\n",
      "epoch: 03, loss: -0.94486\n",
      "epoch: 04, loss: -0.94955\n",
      "epoch: 05, loss: -0.95303\n",
      "epoch: 06, loss: -0.95567\n",
      "epoch: 07, loss: -0.95795\n",
      "epoch: 08, loss: -0.95977\n",
      "epoch: 09, loss: -0.96131\n",
      "torch.Size([1024, 64])\n"
     ]
    },
    {
     "name": "stderr",
     "output_type": "stream",
     "text": [
      " 37%|███▋      | 373/999 [7:28:04<11:38:55, 66.99s/it]"
     ]
    },
    {
     "name": "stdout",
     "output_type": "stream",
     "text": [
      "eigenvalues shape torch.Size([5]) eigenvectors shape torch.Size([5, 1024])\n",
      "373 /home/phdcs2/Hard_Disk/Datasets/Deep-Spectral-Segmentation/data/object-segmentation/ECSSD/features/0375_resized.pth\n",
      "dict_keys(['k', 'indices', 'file', 'id', 'model_name', 'patch_size', 'shape'])\n",
      "0375_resized\n",
      "Starting Training\n",
      "epoch: 00, loss: -0.85828\n",
      "epoch: 01, loss: -0.91797\n",
      "epoch: 02, loss: -0.93234\n",
      "epoch: 03, loss: -0.94047\n",
      "epoch: 04, loss: -0.94566\n",
      "epoch: 05, loss: -0.94945\n",
      "epoch: 06, loss: -0.95251\n",
      "epoch: 07, loss: -0.95486\n",
      "epoch: 08, loss: -0.95691\n",
      "epoch: 09, loss: -0.95852\n",
      "torch.Size([1024, 64])\n"
     ]
    },
    {
     "name": "stderr",
     "output_type": "stream",
     "text": [
      " 37%|███▋      | 374/999 [7:29:19<12:01:56, 69.31s/it]"
     ]
    },
    {
     "name": "stdout",
     "output_type": "stream",
     "text": [
      "eigenvalues shape torch.Size([5]) eigenvectors shape torch.Size([5, 1024])\n",
      "374 /home/phdcs2/Hard_Disk/Datasets/Deep-Spectral-Segmentation/data/object-segmentation/ECSSD/features/0376_resized.pth\n",
      "dict_keys(['k', 'indices', 'file', 'id', 'model_name', 'patch_size', 'shape'])\n",
      "0376_resized\n",
      "Starting Training\n",
      "epoch: 00, loss: -0.86628\n",
      "epoch: 01, loss: -0.92211\n",
      "epoch: 02, loss: -0.93605\n",
      "epoch: 03, loss: -0.94410\n",
      "epoch: 04, loss: -0.94953\n",
      "epoch: 05, loss: -0.95321\n",
      "epoch: 06, loss: -0.95626\n",
      "epoch: 07, loss: -0.95872\n",
      "epoch: 08, loss: -0.96073\n",
      "epoch: 09, loss: -0.96240\n",
      "torch.Size([1024, 64])\n"
     ]
    },
    {
     "name": "stderr",
     "output_type": "stream",
     "text": [
      " 38%|███▊      | 375/999 [7:30:30<12:06:24, 69.85s/it]"
     ]
    },
    {
     "name": "stdout",
     "output_type": "stream",
     "text": [
      "eigenvalues shape torch.Size([5]) eigenvectors shape torch.Size([5, 1024])\n",
      "375 /home/phdcs2/Hard_Disk/Datasets/Deep-Spectral-Segmentation/data/object-segmentation/ECSSD/features/0377_resized.pth\n",
      "dict_keys(['k', 'indices', 'file', 'id', 'model_name', 'patch_size', 'shape'])\n",
      "0377_resized\n",
      "Starting Training\n",
      "epoch: 00, loss: -0.88729\n",
      "epoch: 01, loss: -0.93535\n",
      "epoch: 02, loss: -0.94685\n",
      "epoch: 03, loss: -0.95327\n",
      "epoch: 04, loss: -0.95748\n",
      "epoch: 05, loss: -0.96061\n",
      "epoch: 06, loss: -0.96296\n",
      "epoch: 07, loss: -0.96488\n",
      "epoch: 08, loss: -0.96644\n",
      "epoch: 09, loss: -0.96790\n",
      "torch.Size([1024, 64])\n"
     ]
    },
    {
     "name": "stderr",
     "output_type": "stream",
     "text": [
      " 38%|███▊      | 376/999 [7:31:43<12:15:56, 70.88s/it]"
     ]
    },
    {
     "name": "stdout",
     "output_type": "stream",
     "text": [
      "eigenvalues shape torch.Size([5]) eigenvectors shape torch.Size([5, 1024])\n",
      "376 /home/phdcs2/Hard_Disk/Datasets/Deep-Spectral-Segmentation/data/object-segmentation/ECSSD/features/0378_resized.pth\n",
      "dict_keys(['k', 'indices', 'file', 'id', 'model_name', 'patch_size', 'shape'])\n",
      "0378_resized\n"
     ]
    },
    {
     "name": "stderr",
     "output_type": "stream",
     "text": [
      "/home/phdcs2/Hard_Disk/Projects/T2I/deep-spectral-segmentation/venv/lib/python3.8/site-packages/sklearn/decomposition/_pca.py:642: RuntimeWarning: invalid value encountered in divide\n",
      "  self.explained_variance_ratio_ = self.explained_variance_ / total_var\n"
     ]
    },
    {
     "name": "stdout",
     "output_type": "stream",
     "text": [
      "Starting Training\n",
      "epoch: 00, loss: -0.92664\n",
      "epoch: 01, loss: -0.95922\n",
      "epoch: 02, loss: -0.96574\n",
      "epoch: 03, loss: -0.96945\n",
      "epoch: 04, loss: -0.97200\n",
      "epoch: 05, loss: -0.97386\n",
      "epoch: 06, loss: -0.97533\n",
      "epoch: 07, loss: -0.97650\n",
      "epoch: 08, loss: -0.97751\n",
      "epoch: 09, loss: -0.97836\n",
      "torch.Size([1024, 64])\n"
     ]
    },
    {
     "name": "stderr",
     "output_type": "stream",
     "text": [
      " 38%|███▊      | 377/999 [7:32:48<11:57:41, 69.23s/it]"
     ]
    },
    {
     "name": "stdout",
     "output_type": "stream",
     "text": [
      "eigenvalues shape torch.Size([5]) eigenvectors shape torch.Size([5, 1024])\n",
      "377 /home/phdcs2/Hard_Disk/Datasets/Deep-Spectral-Segmentation/data/object-segmentation/ECSSD/features/0379_resized.pth\n",
      "dict_keys(['k', 'indices', 'file', 'id', 'model_name', 'patch_size', 'shape'])\n",
      "0379_resized\n"
     ]
    },
    {
     "name": "stderr",
     "output_type": "stream",
     "text": [
      "/home/phdcs2/Hard_Disk/Projects/T2I/deep-spectral-segmentation/venv/lib/python3.8/site-packages/sklearn/decomposition/_pca.py:642: RuntimeWarning: invalid value encountered in divide\n",
      "  self.explained_variance_ratio_ = self.explained_variance_ / total_var\n"
     ]
    },
    {
     "name": "stdout",
     "output_type": "stream",
     "text": [
      "Starting Training\n",
      "epoch: 00, loss: -0.92466\n",
      "epoch: 01, loss: -0.95590\n",
      "epoch: 02, loss: -0.96278\n",
      "epoch: 03, loss: -0.96679\n",
      "epoch: 04, loss: -0.96951\n",
      "epoch: 05, loss: -0.97158\n",
      "epoch: 06, loss: -0.97320\n",
      "epoch: 07, loss: -0.97449\n",
      "epoch: 08, loss: -0.97562\n",
      "epoch: 09, loss: -0.97653\n",
      "torch.Size([1024, 64])\n"
     ]
    },
    {
     "name": "stderr",
     "output_type": "stream",
     "text": [
      " 38%|███▊      | 378/999 [7:33:55<11:49:14, 68.53s/it]"
     ]
    },
    {
     "name": "stdout",
     "output_type": "stream",
     "text": [
      "eigenvalues shape torch.Size([5]) eigenvectors shape torch.Size([5, 1024])\n",
      "378 /home/phdcs2/Hard_Disk/Datasets/Deep-Spectral-Segmentation/data/object-segmentation/ECSSD/features/0380_resized.pth\n",
      "dict_keys(['k', 'indices', 'file', 'id', 'model_name', 'patch_size', 'shape'])\n",
      "0380_resized\n",
      "Starting Training\n",
      "epoch: 00, loss: -0.87442\n",
      "epoch: 01, loss: -0.92783\n",
      "epoch: 02, loss: -0.94090\n",
      "epoch: 03, loss: -0.94823\n",
      "epoch: 04, loss: -0.95316\n",
      "epoch: 05, loss: -0.95667\n",
      "epoch: 06, loss: -0.95934\n",
      "epoch: 07, loss: -0.96160\n",
      "epoch: 08, loss: -0.96340\n",
      "epoch: 09, loss: -0.96497\n",
      "torch.Size([1024, 64])\n"
     ]
    },
    {
     "name": "stderr",
     "output_type": "stream",
     "text": [
      " 38%|███▊      | 379/999 [7:35:11<12:09:21, 70.58s/it]"
     ]
    },
    {
     "name": "stdout",
     "output_type": "stream",
     "text": [
      "eigenvalues shape torch.Size([5]) eigenvectors shape torch.Size([5, 1024])\n",
      "379 /home/phdcs2/Hard_Disk/Datasets/Deep-Spectral-Segmentation/data/object-segmentation/ECSSD/features/0381_resized.pth\n",
      "dict_keys(['k', 'indices', 'file', 'id', 'model_name', 'patch_size', 'shape'])\n",
      "0381_resized\n"
     ]
    },
    {
     "name": "stderr",
     "output_type": "stream",
     "text": [
      "/home/phdcs2/Hard_Disk/Projects/T2I/deep-spectral-segmentation/venv/lib/python3.8/site-packages/sklearn/decomposition/_pca.py:642: RuntimeWarning: invalid value encountered in divide\n",
      "  self.explained_variance_ratio_ = self.explained_variance_ / total_var\n"
     ]
    },
    {
     "name": "stdout",
     "output_type": "stream",
     "text": [
      "Starting Training\n",
      "epoch: 00, loss: -0.91760\n",
      "epoch: 01, loss: -0.94920\n",
      "epoch: 02, loss: -0.95664\n",
      "epoch: 03, loss: -0.96107\n",
      "epoch: 04, loss: -0.96416\n",
      "epoch: 05, loss: -0.96645\n",
      "epoch: 06, loss: -0.96829\n",
      "epoch: 07, loss: -0.96975\n",
      "epoch: 08, loss: -0.97102\n",
      "epoch: 09, loss: -0.97205\n",
      "torch.Size([1024, 64])\n"
     ]
    },
    {
     "name": "stderr",
     "output_type": "stream",
     "text": [
      " 38%|███▊      | 380/999 [7:36:24<12:18:17, 71.56s/it]"
     ]
    },
    {
     "name": "stdout",
     "output_type": "stream",
     "text": [
      "eigenvalues shape torch.Size([5]) eigenvectors shape torch.Size([5, 1024])\n",
      "380 /home/phdcs2/Hard_Disk/Datasets/Deep-Spectral-Segmentation/data/object-segmentation/ECSSD/features/0382_resized.pth\n",
      "dict_keys(['k', 'indices', 'file', 'id', 'model_name', 'patch_size', 'shape'])\n",
      "0382_resized\n",
      "Starting Training\n",
      "epoch: 00, loss: -0.86138\n",
      "epoch: 01, loss: -0.91834\n",
      "epoch: 02, loss: -0.93249\n",
      "epoch: 03, loss: -0.94085\n",
      "epoch: 04, loss: -0.94637\n",
      "epoch: 05, loss: -0.95020\n",
      "epoch: 06, loss: -0.95339\n",
      "epoch: 07, loss: -0.95582\n",
      "epoch: 08, loss: -0.95790\n",
      "epoch: 09, loss: -0.95964\n",
      "torch.Size([1024, 64])\n"
     ]
    },
    {
     "name": "stderr",
     "output_type": "stream",
     "text": [
      " 38%|███▊      | 381/999 [7:37:32<12:04:18, 70.32s/it]"
     ]
    },
    {
     "name": "stdout",
     "output_type": "stream",
     "text": [
      "eigenvalues shape torch.Size([5]) eigenvectors shape torch.Size([5, 1024])\n",
      "381 /home/phdcs2/Hard_Disk/Datasets/Deep-Spectral-Segmentation/data/object-segmentation/ECSSD/features/0383_resized.pth\n",
      "dict_keys(['k', 'indices', 'file', 'id', 'model_name', 'patch_size', 'shape'])\n",
      "0383_resized\n"
     ]
    },
    {
     "name": "stderr",
     "output_type": "stream",
     "text": [
      "/home/phdcs2/Hard_Disk/Projects/T2I/deep-spectral-segmentation/venv/lib/python3.8/site-packages/sklearn/decomposition/_pca.py:642: RuntimeWarning: invalid value encountered in divide\n",
      "  self.explained_variance_ratio_ = self.explained_variance_ / total_var\n"
     ]
    },
    {
     "name": "stdout",
     "output_type": "stream",
     "text": [
      "Starting Training\n",
      "epoch: 00, loss: -0.90789\n",
      "epoch: 01, loss: -0.94492\n",
      "epoch: 02, loss: -0.95364\n",
      "epoch: 03, loss: -0.95864\n",
      "epoch: 04, loss: -0.96211\n",
      "epoch: 05, loss: -0.96468\n",
      "epoch: 06, loss: -0.96669\n",
      "epoch: 07, loss: -0.96833\n",
      "epoch: 08, loss: -0.96970\n",
      "epoch: 09, loss: -0.97085\n",
      "torch.Size([1024, 64])\n"
     ]
    },
    {
     "name": "stderr",
     "output_type": "stream",
     "text": [
      " 38%|███▊      | 382/999 [7:38:37<11:47:51, 68.84s/it]"
     ]
    },
    {
     "name": "stdout",
     "output_type": "stream",
     "text": [
      "eigenvalues shape torch.Size([5]) eigenvectors shape torch.Size([5, 1024])\n",
      "382 /home/phdcs2/Hard_Disk/Datasets/Deep-Spectral-Segmentation/data/object-segmentation/ECSSD/features/0384_resized.pth\n",
      "dict_keys(['k', 'indices', 'file', 'id', 'model_name', 'patch_size', 'shape'])\n",
      "0384_resized\n",
      "Starting Training\n",
      "epoch: 00, loss: -0.88110\n",
      "epoch: 01, loss: -0.93195\n",
      "epoch: 02, loss: -0.94365\n",
      "epoch: 03, loss: -0.95003\n",
      "epoch: 04, loss: -0.95432\n",
      "epoch: 05, loss: -0.95754\n",
      "epoch: 06, loss: -0.96008\n",
      "epoch: 07, loss: -0.96215\n",
      "epoch: 08, loss: -0.96377\n",
      "epoch: 09, loss: -0.96524\n",
      "torch.Size([1024, 64])\n"
     ]
    },
    {
     "name": "stderr",
     "output_type": "stream",
     "text": [
      " 38%|███▊      | 383/999 [7:39:46<11:47:39, 68.93s/it]"
     ]
    },
    {
     "name": "stdout",
     "output_type": "stream",
     "text": [
      "eigenvalues shape torch.Size([5]) eigenvectors shape torch.Size([5, 1024])\n",
      "383 /home/phdcs2/Hard_Disk/Datasets/Deep-Spectral-Segmentation/data/object-segmentation/ECSSD/features/0385_resized.pth\n",
      "dict_keys(['k', 'indices', 'file', 'id', 'model_name', 'patch_size', 'shape'])\n",
      "0385_resized\n",
      "Starting Training\n",
      "epoch: 00, loss: -0.87857\n",
      "epoch: 01, loss: -0.92689\n",
      "epoch: 02, loss: -0.93915\n",
      "epoch: 03, loss: -0.94651\n",
      "epoch: 04, loss: -0.95136\n",
      "epoch: 05, loss: -0.95490\n",
      "epoch: 06, loss: -0.95773\n",
      "epoch: 07, loss: -0.95989\n",
      "epoch: 08, loss: -0.96185\n",
      "epoch: 09, loss: -0.96338\n",
      "torch.Size([1024, 64])\n"
     ]
    },
    {
     "name": "stderr",
     "output_type": "stream",
     "text": [
      " 38%|███▊      | 384/999 [7:41:03<12:09:04, 71.13s/it]"
     ]
    },
    {
     "name": "stdout",
     "output_type": "stream",
     "text": [
      "eigenvalues shape torch.Size([5]) eigenvectors shape torch.Size([5, 1024])\n",
      "384 /home/phdcs2/Hard_Disk/Datasets/Deep-Spectral-Segmentation/data/object-segmentation/ECSSD/features/0386_resized.pth\n",
      "dict_keys(['k', 'indices', 'file', 'id', 'model_name', 'patch_size', 'shape'])\n",
      "0386_resized\n"
     ]
    },
    {
     "name": "stderr",
     "output_type": "stream",
     "text": [
      "/home/phdcs2/Hard_Disk/Projects/T2I/deep-spectral-segmentation/venv/lib/python3.8/site-packages/sklearn/decomposition/_pca.py:642: RuntimeWarning: invalid value encountered in divide\n",
      "  self.explained_variance_ratio_ = self.explained_variance_ / total_var\n"
     ]
    },
    {
     "name": "stdout",
     "output_type": "stream",
     "text": [
      "Starting Training\n",
      "epoch: 00, loss: -0.92470\n",
      "epoch: 01, loss: -0.95571\n",
      "epoch: 02, loss: -0.96248\n",
      "epoch: 03, loss: -0.96636\n",
      "epoch: 04, loss: -0.96907\n",
      "epoch: 05, loss: -0.97106\n",
      "epoch: 06, loss: -0.97265\n",
      "epoch: 07, loss: -0.97390\n",
      "epoch: 08, loss: -0.97499\n",
      "epoch: 09, loss: -0.97589\n",
      "torch.Size([1024, 64])\n"
     ]
    },
    {
     "name": "stderr",
     "output_type": "stream",
     "text": [
      " 39%|███▊      | 385/999 [7:42:17<12:19:00, 72.22s/it]"
     ]
    },
    {
     "name": "stdout",
     "output_type": "stream",
     "text": [
      "eigenvalues shape torch.Size([5]) eigenvectors shape torch.Size([5, 1024])\n",
      "385 /home/phdcs2/Hard_Disk/Datasets/Deep-Spectral-Segmentation/data/object-segmentation/ECSSD/features/0387_resized.pth\n",
      "dict_keys(['k', 'indices', 'file', 'id', 'model_name', 'patch_size', 'shape'])\n",
      "0387_resized\n",
      "Starting Training\n",
      "epoch: 00, loss: -0.92005\n",
      "epoch: 01, loss: -0.95196\n",
      "epoch: 02, loss: -0.95912\n",
      "epoch: 03, loss: -0.96327\n",
      "epoch: 04, loss: -0.96615\n",
      "epoch: 05, loss: -0.96827\n",
      "epoch: 06, loss: -0.96995\n",
      "epoch: 07, loss: -0.97134\n",
      "epoch: 08, loss: -0.97248\n",
      "epoch: 09, loss: -0.97345\n",
      "torch.Size([1024, 64])\n"
     ]
    },
    {
     "name": "stderr",
     "output_type": "stream",
     "text": [
      " 39%|███▊      | 386/999 [7:43:30<12:18:42, 72.30s/it]"
     ]
    },
    {
     "name": "stdout",
     "output_type": "stream",
     "text": [
      "eigenvalues shape torch.Size([5]) eigenvectors shape torch.Size([5, 1024])\n",
      "386 /home/phdcs2/Hard_Disk/Datasets/Deep-Spectral-Segmentation/data/object-segmentation/ECSSD/features/0388_resized.pth\n",
      "dict_keys(['k', 'indices', 'file', 'id', 'model_name', 'patch_size', 'shape'])\n",
      "0388_resized\n",
      "Starting Training\n",
      "epoch: 00, loss: -0.88909\n",
      "epoch: 01, loss: -0.93509\n",
      "epoch: 02, loss: -0.94618\n",
      "epoch: 03, loss: -0.95246\n",
      "epoch: 04, loss: -0.95671\n",
      "epoch: 05, loss: -0.95984\n",
      "epoch: 06, loss: -0.96227\n",
      "epoch: 07, loss: -0.96416\n",
      "epoch: 08, loss: -0.96577\n",
      "epoch: 09, loss: -0.96719\n",
      "torch.Size([1024, 64])\n"
     ]
    },
    {
     "name": "stderr",
     "output_type": "stream",
     "text": [
      " 39%|███▊      | 387/999 [7:44:41<12:13:11, 71.88s/it]"
     ]
    },
    {
     "name": "stdout",
     "output_type": "stream",
     "text": [
      "eigenvalues shape torch.Size([5]) eigenvectors shape torch.Size([5, 1024])\n",
      "387 /home/phdcs2/Hard_Disk/Datasets/Deep-Spectral-Segmentation/data/object-segmentation/ECSSD/features/0389_resized.pth\n",
      "dict_keys(['k', 'indices', 'file', 'id', 'model_name', 'patch_size', 'shape'])\n",
      "0389_resized\n"
     ]
    },
    {
     "name": "stderr",
     "output_type": "stream",
     "text": [
      "/home/phdcs2/Hard_Disk/Projects/T2I/deep-spectral-segmentation/venv/lib/python3.8/site-packages/sklearn/decomposition/_pca.py:642: RuntimeWarning: invalid value encountered in divide\n",
      "  self.explained_variance_ratio_ = self.explained_variance_ / total_var\n"
     ]
    },
    {
     "name": "stdout",
     "output_type": "stream",
     "text": [
      "Starting Training\n",
      "epoch: 00, loss: -0.93490\n",
      "epoch: 01, loss: -0.96088\n",
      "epoch: 02, loss: -0.96675\n",
      "epoch: 03, loss: -0.97015\n",
      "epoch: 04, loss: -0.97248\n",
      "epoch: 05, loss: -0.97423\n",
      "epoch: 06, loss: -0.97561\n",
      "epoch: 07, loss: -0.97675\n",
      "epoch: 08, loss: -0.97768\n",
      "epoch: 09, loss: -0.97851\n",
      "torch.Size([1024, 64])\n"
     ]
    },
    {
     "name": "stderr",
     "output_type": "stream",
     "text": [
      " 39%|███▉      | 388/999 [7:45:46<11:50:09, 69.74s/it]"
     ]
    },
    {
     "name": "stdout",
     "output_type": "stream",
     "text": [
      "eigenvalues shape torch.Size([5]) eigenvectors shape torch.Size([5, 1024])\n",
      "388 /home/phdcs2/Hard_Disk/Datasets/Deep-Spectral-Segmentation/data/object-segmentation/ECSSD/features/0390_resized.pth\n",
      "dict_keys(['k', 'indices', 'file', 'id', 'model_name', 'patch_size', 'shape'])\n",
      "0390_resized\n",
      "Starting Training\n",
      "epoch: 00, loss: -0.86774\n",
      "epoch: 01, loss: -0.92364\n",
      "epoch: 02, loss: -0.93677\n",
      "epoch: 03, loss: -0.94407\n",
      "epoch: 04, loss: -0.94904\n",
      "epoch: 05, loss: -0.95259\n",
      "epoch: 06, loss: -0.95538\n",
      "epoch: 07, loss: -0.95763\n",
      "epoch: 08, loss: -0.95949\n",
      "epoch: 09, loss: -0.96106\n",
      "torch.Size([1024, 64])\n"
     ]
    },
    {
     "name": "stderr",
     "output_type": "stream",
     "text": [
      " 39%|███▉      | 389/999 [7:46:59<12:00:24, 70.86s/it]"
     ]
    },
    {
     "name": "stdout",
     "output_type": "stream",
     "text": [
      "eigenvalues shape torch.Size([5]) eigenvectors shape torch.Size([5, 1024])\n",
      "389 /home/phdcs2/Hard_Disk/Datasets/Deep-Spectral-Segmentation/data/object-segmentation/ECSSD/features/0391_resized.pth\n",
      "dict_keys(['k', 'indices', 'file', 'id', 'model_name', 'patch_size', 'shape'])\n",
      "0391_resized\n",
      "Starting Training\n",
      "epoch: 00, loss: -0.89657\n",
      "epoch: 01, loss: -0.93901\n",
      "epoch: 02, loss: -0.94893\n",
      "epoch: 03, loss: -0.95476\n",
      "epoch: 04, loss: -0.95872\n",
      "epoch: 05, loss: -0.96159\n",
      "epoch: 06, loss: -0.96386\n",
      "epoch: 07, loss: -0.96567\n",
      "epoch: 08, loss: -0.96712\n",
      "epoch: 09, loss: -0.96841\n",
      "torch.Size([1024, 64])\n"
     ]
    },
    {
     "name": "stderr",
     "output_type": "stream",
     "text": [
      " 39%|███▉      | 390/999 [7:48:13<12:10:03, 71.93s/it]"
     ]
    },
    {
     "name": "stdout",
     "output_type": "stream",
     "text": [
      "eigenvalues shape torch.Size([5]) eigenvectors shape torch.Size([5, 1024])\n",
      "390 /home/phdcs2/Hard_Disk/Datasets/Deep-Spectral-Segmentation/data/object-segmentation/ECSSD/features/0392_resized.pth\n",
      "dict_keys(['k', 'indices', 'file', 'id', 'model_name', 'patch_size', 'shape'])\n",
      "0392_resized\n"
     ]
    },
    {
     "name": "stderr",
     "output_type": "stream",
     "text": [
      "/home/phdcs2/Hard_Disk/Projects/T2I/deep-spectral-segmentation/venv/lib/python3.8/site-packages/sklearn/decomposition/_pca.py:642: RuntimeWarning: invalid value encountered in divide\n",
      "  self.explained_variance_ratio_ = self.explained_variance_ / total_var\n"
     ]
    },
    {
     "name": "stdout",
     "output_type": "stream",
     "text": [
      "Starting Training\n",
      "epoch: 00, loss: -0.91469\n",
      "epoch: 01, loss: -0.95004\n",
      "epoch: 02, loss: -0.95801\n",
      "epoch: 03, loss: -0.96265\n",
      "epoch: 04, loss: -0.96579\n",
      "epoch: 05, loss: -0.96814\n",
      "epoch: 06, loss: -0.96995\n",
      "epoch: 07, loss: -0.97145\n",
      "epoch: 08, loss: -0.97268\n",
      "epoch: 09, loss: -0.97372\n",
      "torch.Size([1024, 64])\n"
     ]
    },
    {
     "name": "stderr",
     "output_type": "stream",
     "text": [
      " 39%|███▉      | 391/999 [7:49:23<12:02:46, 71.33s/it]"
     ]
    },
    {
     "name": "stdout",
     "output_type": "stream",
     "text": [
      "eigenvalues shape torch.Size([5]) eigenvectors shape torch.Size([5, 1024])\n",
      "391 /home/phdcs2/Hard_Disk/Datasets/Deep-Spectral-Segmentation/data/object-segmentation/ECSSD/features/0393_resized.pth\n",
      "dict_keys(['k', 'indices', 'file', 'id', 'model_name', 'patch_size', 'shape'])\n",
      "0393_resized\n"
     ]
    },
    {
     "name": "stderr",
     "output_type": "stream",
     "text": [
      "/home/phdcs2/Hard_Disk/Projects/T2I/deep-spectral-segmentation/venv/lib/python3.8/site-packages/sklearn/decomposition/_pca.py:642: RuntimeWarning: invalid value encountered in divide\n",
      "  self.explained_variance_ratio_ = self.explained_variance_ / total_var\n"
     ]
    },
    {
     "name": "stdout",
     "output_type": "stream",
     "text": [
      "Starting Training\n",
      "epoch: 00, loss: -0.93520\n",
      "epoch: 01, loss: -0.96147\n",
      "epoch: 02, loss: -0.96728\n",
      "epoch: 03, loss: -0.97063\n",
      "epoch: 04, loss: -0.97297\n",
      "epoch: 05, loss: -0.97471\n",
      "epoch: 06, loss: -0.97609\n",
      "epoch: 07, loss: -0.97719\n",
      "epoch: 08, loss: -0.97815\n",
      "epoch: 09, loss: -0.97896\n",
      "torch.Size([1024, 64])\n"
     ]
    },
    {
     "name": "stderr",
     "output_type": "stream",
     "text": [
      " 39%|███▉      | 392/999 [7:50:31<11:48:51, 70.07s/it]"
     ]
    },
    {
     "name": "stdout",
     "output_type": "stream",
     "text": [
      "eigenvalues shape torch.Size([5]) eigenvectors shape torch.Size([5, 1024])\n",
      "392 /home/phdcs2/Hard_Disk/Datasets/Deep-Spectral-Segmentation/data/object-segmentation/ECSSD/features/0394_resized.pth\n",
      "dict_keys(['k', 'indices', 'file', 'id', 'model_name', 'patch_size', 'shape'])\n",
      "0394_resized\n",
      "Starting Training\n",
      "epoch: 00, loss: -0.86506\n",
      "epoch: 01, loss: -0.91993\n",
      "epoch: 02, loss: -0.93426\n",
      "epoch: 03, loss: -0.94225\n",
      "epoch: 04, loss: -0.94780\n",
      "epoch: 05, loss: -0.95177\n",
      "epoch: 06, loss: -0.95481\n",
      "epoch: 07, loss: -0.95731\n",
      "epoch: 08, loss: -0.95936\n",
      "epoch: 09, loss: -0.96107\n",
      "torch.Size([1024, 64])\n"
     ]
    },
    {
     "name": "stderr",
     "output_type": "stream",
     "text": [
      " 39%|███▉      | 393/999 [7:51:30<11:15:46, 66.91s/it]"
     ]
    },
    {
     "name": "stdout",
     "output_type": "stream",
     "text": [
      "eigenvalues shape torch.Size([5]) eigenvectors shape torch.Size([5, 1024])\n",
      "393 /home/phdcs2/Hard_Disk/Datasets/Deep-Spectral-Segmentation/data/object-segmentation/ECSSD/features/0395_resized.pth\n",
      "dict_keys(['k', 'indices', 'file', 'id', 'model_name', 'patch_size', 'shape'])\n",
      "0395_resized\n",
      "Starting Training\n",
      "epoch: 00, loss: -0.91974\n",
      "epoch: 01, loss: -0.95108\n",
      "epoch: 02, loss: -0.95872\n",
      "epoch: 03, loss: -0.96309\n",
      "epoch: 04, loss: -0.96612\n",
      "epoch: 05, loss: -0.96833\n",
      "epoch: 06, loss: -0.97013\n",
      "epoch: 07, loss: -0.97155\n",
      "epoch: 08, loss: -0.97276\n",
      "epoch: 09, loss: -0.97381\n",
      "torch.Size([1024, 64])\n"
     ]
    },
    {
     "name": "stderr",
     "output_type": "stream",
     "text": [
      " 39%|███▉      | 394/999 [7:52:34<11:06:54, 66.14s/it]"
     ]
    },
    {
     "name": "stdout",
     "output_type": "stream",
     "text": [
      "eigenvalues shape torch.Size([5]) eigenvectors shape torch.Size([5, 1024])\n",
      "394 /home/phdcs2/Hard_Disk/Datasets/Deep-Spectral-Segmentation/data/object-segmentation/ECSSD/features/0396_resized.pth\n",
      "dict_keys(['k', 'indices', 'file', 'id', 'model_name', 'patch_size', 'shape'])\n",
      "0396_resized\n",
      "Starting Training\n",
      "epoch: 00, loss: -0.89054\n",
      "epoch: 01, loss: -0.93525\n",
      "epoch: 02, loss: -0.94656\n",
      "epoch: 03, loss: -0.95271\n",
      "epoch: 04, loss: -0.95701\n",
      "epoch: 05, loss: -0.96018\n",
      "epoch: 06, loss: -0.96265\n",
      "epoch: 07, loss: -0.96465\n",
      "epoch: 08, loss: -0.96621\n",
      "epoch: 09, loss: -0.96755\n",
      "torch.Size([1024, 64])\n"
     ]
    },
    {
     "name": "stderr",
     "output_type": "stream",
     "text": [
      " 40%|███▉      | 395/999 [7:53:39<11:01:14, 65.69s/it]"
     ]
    },
    {
     "name": "stdout",
     "output_type": "stream",
     "text": [
      "eigenvalues shape torch.Size([5]) eigenvectors shape torch.Size([5, 1024])\n",
      "395 /home/phdcs2/Hard_Disk/Datasets/Deep-Spectral-Segmentation/data/object-segmentation/ECSSD/features/0397_resized.pth\n",
      "dict_keys(['k', 'indices', 'file', 'id', 'model_name', 'patch_size', 'shape'])\n",
      "0397_resized\n",
      "Starting Training\n",
      "epoch: 00, loss: -0.92386\n",
      "epoch: 01, loss: -0.95673\n",
      "epoch: 02, loss: -0.96368\n",
      "epoch: 03, loss: -0.96772\n",
      "epoch: 04, loss: -0.97043\n",
      "epoch: 05, loss: -0.97245\n",
      "epoch: 06, loss: -0.97402\n",
      "epoch: 07, loss: -0.97529\n",
      "epoch: 08, loss: -0.97637\n",
      "epoch: 09, loss: -0.97728\n",
      "torch.Size([1024, 64])\n"
     ]
    },
    {
     "name": "stderr",
     "output_type": "stream",
     "text": [
      " 40%|███▉      | 396/999 [7:54:38<10:41:17, 63.81s/it]"
     ]
    },
    {
     "name": "stdout",
     "output_type": "stream",
     "text": [
      "eigenvalues shape torch.Size([5]) eigenvectors shape torch.Size([5, 1024])\n",
      "396 /home/phdcs2/Hard_Disk/Datasets/Deep-Spectral-Segmentation/data/object-segmentation/ECSSD/features/0398_resized.pth\n",
      "dict_keys(['k', 'indices', 'file', 'id', 'model_name', 'patch_size', 'shape'])\n",
      "0398_resized\n",
      "Starting Training\n",
      "epoch: 00, loss: -0.86340\n",
      "epoch: 01, loss: -0.91850\n",
      "epoch: 02, loss: -0.93257\n",
      "epoch: 03, loss: -0.94069\n",
      "epoch: 04, loss: -0.94589\n",
      "epoch: 05, loss: -0.94976\n",
      "epoch: 06, loss: -0.95284\n",
      "epoch: 07, loss: -0.95532\n",
      "epoch: 08, loss: -0.95730\n",
      "epoch: 09, loss: -0.95902\n",
      "torch.Size([1024, 64])\n"
     ]
    },
    {
     "name": "stderr",
     "output_type": "stream",
     "text": [
      " 40%|███▉      | 397/999 [7:55:35<10:18:14, 61.62s/it]"
     ]
    },
    {
     "name": "stdout",
     "output_type": "stream",
     "text": [
      "eigenvalues shape torch.Size([5]) eigenvectors shape torch.Size([5, 1024])\n",
      "397 /home/phdcs2/Hard_Disk/Datasets/Deep-Spectral-Segmentation/data/object-segmentation/ECSSD/features/0399_resized.pth\n",
      "dict_keys(['k', 'indices', 'file', 'id', 'model_name', 'patch_size', 'shape'])\n",
      "0399_resized\n",
      "Starting Training\n",
      "epoch: 00, loss: -0.84912\n",
      "epoch: 01, loss: -0.90874\n",
      "epoch: 02, loss: -0.92508\n",
      "epoch: 03, loss: -0.93465\n",
      "epoch: 04, loss: -0.94077\n",
      "epoch: 05, loss: -0.94519\n",
      "epoch: 06, loss: -0.94876\n",
      "epoch: 07, loss: -0.95167\n",
      "epoch: 08, loss: -0.95412\n",
      "epoch: 09, loss: -0.95600\n",
      "torch.Size([1024, 64])\n"
     ]
    },
    {
     "name": "stderr",
     "output_type": "stream",
     "text": [
      " 40%|███▉      | 398/999 [7:56:27<9:49:14, 58.83s/it] "
     ]
    },
    {
     "name": "stdout",
     "output_type": "stream",
     "text": [
      "eigenvalues shape torch.Size([5]) eigenvectors shape torch.Size([5, 1024])\n",
      "398 /home/phdcs2/Hard_Disk/Datasets/Deep-Spectral-Segmentation/data/object-segmentation/ECSSD/features/0400_resized.pth\n",
      "dict_keys(['k', 'indices', 'file', 'id', 'model_name', 'patch_size', 'shape'])\n",
      "0400_resized\n"
     ]
    },
    {
     "name": "stderr",
     "output_type": "stream",
     "text": [
      "/home/phdcs2/Hard_Disk/Projects/T2I/deep-spectral-segmentation/venv/lib/python3.8/site-packages/sklearn/decomposition/_pca.py:642: RuntimeWarning: invalid value encountered in divide\n",
      "  self.explained_variance_ratio_ = self.explained_variance_ / total_var\n"
     ]
    },
    {
     "name": "stdout",
     "output_type": "stream",
     "text": [
      "Starting Training\n",
      "epoch: 00, loss: -0.91634\n",
      "epoch: 01, loss: -0.95158\n",
      "epoch: 02, loss: -0.95902\n",
      "epoch: 03, loss: -0.96332\n",
      "epoch: 04, loss: -0.96618\n",
      "epoch: 05, loss: -0.96833\n",
      "epoch: 06, loss: -0.97004\n",
      "epoch: 07, loss: -0.97139\n",
      "epoch: 08, loss: -0.97256\n",
      "epoch: 09, loss: -0.97355\n",
      "torch.Size([1024, 64])\n"
     ]
    },
    {
     "name": "stderr",
     "output_type": "stream",
     "text": [
      " 40%|███▉      | 399/999 [7:57:36<10:19:09, 61.92s/it]"
     ]
    },
    {
     "name": "stdout",
     "output_type": "stream",
     "text": [
      "eigenvalues shape torch.Size([5]) eigenvectors shape torch.Size([5, 1024])\n",
      "399 /home/phdcs2/Hard_Disk/Datasets/Deep-Spectral-Segmentation/data/object-segmentation/ECSSD/features/0401_resized.pth\n",
      "dict_keys(['k', 'indices', 'file', 'id', 'model_name', 'patch_size', 'shape'])\n",
      "0401_resized\n"
     ]
    },
    {
     "name": "stderr",
     "output_type": "stream",
     "text": [
      "/home/phdcs2/Hard_Disk/Projects/T2I/deep-spectral-segmentation/venv/lib/python3.8/site-packages/sklearn/decomposition/_pca.py:642: RuntimeWarning: invalid value encountered in divide\n",
      "  self.explained_variance_ratio_ = self.explained_variance_ / total_var\n"
     ]
    },
    {
     "name": "stdout",
     "output_type": "stream",
     "text": [
      "Starting Training\n",
      "epoch: 00, loss: -0.89999\n",
      "epoch: 01, loss: -0.94021\n",
      "epoch: 02, loss: -0.95029\n",
      "epoch: 03, loss: -0.95614\n",
      "epoch: 04, loss: -0.96007\n",
      "epoch: 05, loss: -0.96299\n",
      "epoch: 06, loss: -0.96525\n",
      "epoch: 07, loss: -0.96708\n",
      "epoch: 08, loss: -0.96863\n",
      "epoch: 09, loss: -0.96990\n",
      "torch.Size([1024, 64])\n"
     ]
    },
    {
     "name": "stderr",
     "output_type": "stream",
     "text": [
      " 40%|████      | 400/999 [7:58:50<10:51:57, 65.31s/it]"
     ]
    },
    {
     "name": "stdout",
     "output_type": "stream",
     "text": [
      "eigenvalues shape torch.Size([5]) eigenvectors shape torch.Size([5, 1024])\n",
      "400 /home/phdcs2/Hard_Disk/Datasets/Deep-Spectral-Segmentation/data/object-segmentation/ECSSD/features/0402_resized.pth\n",
      "dict_keys(['k', 'indices', 'file', 'id', 'model_name', 'patch_size', 'shape'])\n",
      "0402_resized\n"
     ]
    },
    {
     "name": "stderr",
     "output_type": "stream",
     "text": [
      "/home/phdcs2/Hard_Disk/Projects/T2I/deep-spectral-segmentation/venv/lib/python3.8/site-packages/sklearn/decomposition/_pca.py:642: RuntimeWarning: invalid value encountered in divide\n",
      "  self.explained_variance_ratio_ = self.explained_variance_ / total_var\n"
     ]
    },
    {
     "name": "stdout",
     "output_type": "stream",
     "text": [
      "Starting Training\n",
      "epoch: 00, loss: -0.92959\n",
      "epoch: 01, loss: -0.95724\n",
      "epoch: 02, loss: -0.96342\n",
      "epoch: 03, loss: -0.96703\n",
      "epoch: 04, loss: -0.96957\n",
      "epoch: 05, loss: -0.97146\n",
      "epoch: 06, loss: -0.97296\n",
      "epoch: 07, loss: -0.97418\n",
      "epoch: 08, loss: -0.97521\n",
      "epoch: 09, loss: -0.97611\n",
      "torch.Size([1024, 64])\n"
     ]
    },
    {
     "name": "stderr",
     "output_type": "stream",
     "text": [
      " 40%|████      | 401/999 [8:00:03<11:14:02, 67.63s/it]"
     ]
    },
    {
     "name": "stdout",
     "output_type": "stream",
     "text": [
      "eigenvalues shape torch.Size([5]) eigenvectors shape torch.Size([5, 1024])\n",
      "401 /home/phdcs2/Hard_Disk/Datasets/Deep-Spectral-Segmentation/data/object-segmentation/ECSSD/features/0403_resized.pth\n",
      "dict_keys(['k', 'indices', 'file', 'id', 'model_name', 'patch_size', 'shape'])\n",
      "0403_resized\n"
     ]
    },
    {
     "name": "stderr",
     "output_type": "stream",
     "text": [
      "/home/phdcs2/Hard_Disk/Projects/T2I/deep-spectral-segmentation/venv/lib/python3.8/site-packages/sklearn/decomposition/_pca.py:642: RuntimeWarning: invalid value encountered in divide\n",
      "  self.explained_variance_ratio_ = self.explained_variance_ / total_var\n"
     ]
    },
    {
     "name": "stdout",
     "output_type": "stream",
     "text": [
      "Starting Training\n",
      "epoch: 00, loss: -0.91200\n",
      "epoch: 01, loss: -0.94698\n",
      "epoch: 02, loss: -0.95551\n",
      "epoch: 03, loss: -0.96044\n",
      "epoch: 04, loss: -0.96380\n",
      "epoch: 05, loss: -0.96626\n",
      "epoch: 06, loss: -0.96823\n",
      "epoch: 07, loss: -0.96982\n",
      "epoch: 08, loss: -0.97115\n",
      "epoch: 09, loss: -0.97227\n",
      "torch.Size([1024, 64])\n"
     ]
    },
    {
     "name": "stderr",
     "output_type": "stream",
     "text": [
      " 40%|████      | 402/999 [8:01:13<11:22:22, 68.58s/it]"
     ]
    },
    {
     "name": "stdout",
     "output_type": "stream",
     "text": [
      "eigenvalues shape torch.Size([5]) eigenvectors shape torch.Size([5, 1024])\n",
      "402 /home/phdcs2/Hard_Disk/Datasets/Deep-Spectral-Segmentation/data/object-segmentation/ECSSD/features/0404_resized.pth\n",
      "dict_keys(['k', 'indices', 'file', 'id', 'model_name', 'patch_size', 'shape'])\n",
      "0404_resized\n",
      "Starting Training\n",
      "epoch: 00, loss: -0.87955\n",
      "epoch: 01, loss: -0.92814\n",
      "epoch: 02, loss: -0.94034\n",
      "epoch: 03, loss: -0.94725\n",
      "epoch: 04, loss: -0.95194\n",
      "epoch: 05, loss: -0.95529\n",
      "epoch: 06, loss: -0.95795\n",
      "epoch: 07, loss: -0.96010\n",
      "epoch: 08, loss: -0.96198\n",
      "epoch: 09, loss: -0.96342\n",
      "torch.Size([1024, 64])\n"
     ]
    },
    {
     "name": "stderr",
     "output_type": "stream",
     "text": [
      " 40%|████      | 403/999 [8:02:15<11:00:57, 66.54s/it]"
     ]
    },
    {
     "name": "stdout",
     "output_type": "stream",
     "text": [
      "eigenvalues shape torch.Size([5]) eigenvectors shape torch.Size([5, 1024])\n",
      "403 /home/phdcs2/Hard_Disk/Datasets/Deep-Spectral-Segmentation/data/object-segmentation/ECSSD/features/0405_resized.pth\n",
      "dict_keys(['k', 'indices', 'file', 'id', 'model_name', 'patch_size', 'shape'])\n",
      "0405_resized\n",
      "Starting Training\n",
      "epoch: 00, loss: -0.91773\n",
      "epoch: 01, loss: -0.95039\n",
      "epoch: 02, loss: -0.95801\n",
      "epoch: 03, loss: -0.96250\n",
      "epoch: 04, loss: -0.96557\n",
      "epoch: 05, loss: -0.96786\n",
      "epoch: 06, loss: -0.96965\n",
      "epoch: 07, loss: -0.97109\n",
      "epoch: 08, loss: -0.97233\n",
      "epoch: 09, loss: -0.97338\n",
      "torch.Size([1024, 64])\n"
     ]
    },
    {
     "name": "stderr",
     "output_type": "stream",
     "text": [
      " 40%|████      | 404/999 [8:03:32<11:31:26, 69.73s/it]"
     ]
    },
    {
     "name": "stdout",
     "output_type": "stream",
     "text": [
      "eigenvalues shape torch.Size([5]) eigenvectors shape torch.Size([5, 1024])\n",
      "404 /home/phdcs2/Hard_Disk/Datasets/Deep-Spectral-Segmentation/data/object-segmentation/ECSSD/features/0406_resized.pth\n",
      "dict_keys(['k', 'indices', 'file', 'id', 'model_name', 'patch_size', 'shape'])\n",
      "0406_resized\n"
     ]
    },
    {
     "name": "stderr",
     "output_type": "stream",
     "text": [
      "/home/phdcs2/Hard_Disk/Projects/T2I/deep-spectral-segmentation/venv/lib/python3.8/site-packages/sklearn/decomposition/_pca.py:642: RuntimeWarning: invalid value encountered in divide\n",
      "  self.explained_variance_ratio_ = self.explained_variance_ / total_var\n"
     ]
    },
    {
     "name": "stdout",
     "output_type": "stream",
     "text": [
      "Starting Training\n",
      "epoch: 00, loss: -0.92182\n",
      "epoch: 01, loss: -0.95146\n",
      "epoch: 02, loss: -0.95870\n",
      "epoch: 03, loss: -0.96294\n",
      "epoch: 04, loss: -0.96587\n",
      "epoch: 05, loss: -0.96803\n",
      "epoch: 06, loss: -0.96979\n",
      "epoch: 07, loss: -0.97119\n",
      "epoch: 08, loss: -0.97238\n",
      "epoch: 09, loss: -0.97337\n",
      "torch.Size([1024, 64])\n"
     ]
    },
    {
     "name": "stderr",
     "output_type": "stream",
     "text": [
      " 41%|████      | 405/999 [8:04:44<11:34:43, 70.17s/it]"
     ]
    },
    {
     "name": "stdout",
     "output_type": "stream",
     "text": [
      "eigenvalues shape torch.Size([5]) eigenvectors shape torch.Size([5, 1024])\n",
      "405 /home/phdcs2/Hard_Disk/Datasets/Deep-Spectral-Segmentation/data/object-segmentation/ECSSD/features/0407_resized.pth\n",
      "dict_keys(['k', 'indices', 'file', 'id', 'model_name', 'patch_size', 'shape'])\n",
      "0407_resized\n"
     ]
    },
    {
     "name": "stderr",
     "output_type": "stream",
     "text": [
      "/home/phdcs2/Hard_Disk/Projects/T2I/deep-spectral-segmentation/venv/lib/python3.8/site-packages/sklearn/decomposition/_pca.py:642: RuntimeWarning: invalid value encountered in divide\n",
      "  self.explained_variance_ratio_ = self.explained_variance_ / total_var\n"
     ]
    },
    {
     "name": "stdout",
     "output_type": "stream",
     "text": [
      "Starting Training\n",
      "epoch: 00, loss: -0.90960\n",
      "epoch: 01, loss: -0.94546\n",
      "epoch: 02, loss: -0.95400\n",
      "epoch: 03, loss: -0.95897\n",
      "epoch: 04, loss: -0.96235\n",
      "epoch: 05, loss: -0.96488\n",
      "epoch: 06, loss: -0.96684\n",
      "epoch: 07, loss: -0.96845\n",
      "epoch: 08, loss: -0.96979\n",
      "epoch: 09, loss: -0.97092\n",
      "torch.Size([1024, 64])\n"
     ]
    },
    {
     "name": "stderr",
     "output_type": "stream",
     "text": [
      " 41%|████      | 406/999 [8:05:54<11:33:30, 70.17s/it]"
     ]
    },
    {
     "name": "stdout",
     "output_type": "stream",
     "text": [
      "eigenvalues shape torch.Size([5]) eigenvectors shape torch.Size([5, 1024])\n",
      "406 /home/phdcs2/Hard_Disk/Datasets/Deep-Spectral-Segmentation/data/object-segmentation/ECSSD/features/0408_resized.pth\n",
      "dict_keys(['k', 'indices', 'file', 'id', 'model_name', 'patch_size', 'shape'])\n",
      "0408_resized\n",
      "Starting Training\n",
      "epoch: 00, loss: -0.88003\n",
      "epoch: 01, loss: -0.92905\n",
      "epoch: 02, loss: -0.94165\n",
      "epoch: 03, loss: -0.94895\n",
      "epoch: 04, loss: -0.95375\n",
      "epoch: 05, loss: -0.95724\n",
      "epoch: 06, loss: -0.95985\n",
      "epoch: 07, loss: -0.96207\n",
      "epoch: 08, loss: -0.96390\n",
      "epoch: 09, loss: -0.96547\n",
      "torch.Size([1024, 64])\n"
     ]
    },
    {
     "name": "stderr",
     "output_type": "stream",
     "text": [
      " 41%|████      | 407/999 [8:06:59<11:18:27, 68.76s/it]"
     ]
    },
    {
     "name": "stdout",
     "output_type": "stream",
     "text": [
      "eigenvalues shape torch.Size([5]) eigenvectors shape torch.Size([5, 1024])\n",
      "407 /home/phdcs2/Hard_Disk/Datasets/Deep-Spectral-Segmentation/data/object-segmentation/ECSSD/features/0409_resized.pth\n",
      "dict_keys(['k', 'indices', 'file', 'id', 'model_name', 'patch_size', 'shape'])\n",
      "0409_resized\n",
      "Starting Training\n",
      "epoch: 00, loss: -0.92006\n",
      "epoch: 01, loss: -0.95373\n",
      "epoch: 02, loss: -0.96147\n",
      "epoch: 03, loss: -0.96589\n",
      "epoch: 04, loss: -0.96887\n",
      "epoch: 05, loss: -0.97110\n",
      "epoch: 06, loss: -0.97279\n",
      "epoch: 07, loss: -0.97418\n",
      "epoch: 08, loss: -0.97534\n",
      "epoch: 09, loss: -0.97632\n",
      "torch.Size([1024, 64])\n"
     ]
    },
    {
     "name": "stderr",
     "output_type": "stream",
     "text": [
      " 41%|████      | 408/999 [8:08:13<11:30:52, 70.14s/it]"
     ]
    },
    {
     "name": "stdout",
     "output_type": "stream",
     "text": [
      "eigenvalues shape torch.Size([5]) eigenvectors shape torch.Size([5, 1024])\n",
      "408 /home/phdcs2/Hard_Disk/Datasets/Deep-Spectral-Segmentation/data/object-segmentation/ECSSD/features/0410_resized.pth\n",
      "dict_keys(['k', 'indices', 'file', 'id', 'model_name', 'patch_size', 'shape'])\n",
      "0410_resized\n",
      "Starting Training\n",
      "epoch: 00, loss: -0.87156\n",
      "epoch: 01, loss: -0.92177\n",
      "epoch: 02, loss: -0.93478\n",
      "epoch: 03, loss: -0.94212\n",
      "epoch: 04, loss: -0.94707\n",
      "epoch: 05, loss: -0.95105\n",
      "epoch: 06, loss: -0.95385\n",
      "epoch: 07, loss: -0.95615\n",
      "epoch: 08, loss: -0.95811\n",
      "epoch: 09, loss: -0.95973\n",
      "torch.Size([1024, 64])\n"
     ]
    },
    {
     "name": "stderr",
     "output_type": "stream",
     "text": [
      " 41%|████      | 409/999 [8:09:27<11:42:11, 71.41s/it]"
     ]
    },
    {
     "name": "stdout",
     "output_type": "stream",
     "text": [
      "eigenvalues shape torch.Size([5]) eigenvectors shape torch.Size([5, 1024])\n",
      "409 /home/phdcs2/Hard_Disk/Datasets/Deep-Spectral-Segmentation/data/object-segmentation/ECSSD/features/0411_resized.pth\n",
      "dict_keys(['k', 'indices', 'file', 'id', 'model_name', 'patch_size', 'shape'])\n",
      "0411_resized\n"
     ]
    },
    {
     "name": "stderr",
     "output_type": "stream",
     "text": [
      "/home/phdcs2/Hard_Disk/Projects/T2I/deep-spectral-segmentation/venv/lib/python3.8/site-packages/sklearn/decomposition/_pca.py:642: RuntimeWarning: invalid value encountered in divide\n",
      "  self.explained_variance_ratio_ = self.explained_variance_ / total_var\n"
     ]
    },
    {
     "name": "stdout",
     "output_type": "stream",
     "text": [
      "Starting Training\n",
      "epoch: 00, loss: -0.91755\n",
      "epoch: 01, loss: -0.95174\n",
      "epoch: 02, loss: -0.95961\n",
      "epoch: 03, loss: -0.96409\n",
      "epoch: 04, loss: -0.96714\n",
      "epoch: 05, loss: -0.96938\n",
      "epoch: 06, loss: -0.97116\n",
      "epoch: 07, loss: -0.97256\n",
      "epoch: 08, loss: -0.97377\n",
      "epoch: 09, loss: -0.97479\n",
      "torch.Size([1024, 64])\n"
     ]
    },
    {
     "name": "stderr",
     "output_type": "stream",
     "text": [
      " 41%|████      | 410/999 [8:10:42<11:52:33, 72.59s/it]"
     ]
    },
    {
     "name": "stdout",
     "output_type": "stream",
     "text": [
      "eigenvalues shape torch.Size([5]) eigenvectors shape torch.Size([5, 1024])\n",
      "410 /home/phdcs2/Hard_Disk/Datasets/Deep-Spectral-Segmentation/data/object-segmentation/ECSSD/features/0412_resized.pth\n",
      "dict_keys(['k', 'indices', 'file', 'id', 'model_name', 'patch_size', 'shape'])\n",
      "0412_resized\n",
      "Starting Training\n",
      "epoch: 00, loss: -0.86232\n",
      "epoch: 01, loss: -0.91723\n",
      "epoch: 02, loss: -0.93047\n",
      "epoch: 03, loss: -0.93803\n",
      "epoch: 04, loss: -0.94319\n",
      "epoch: 05, loss: -0.94699\n",
      "epoch: 06, loss: -0.95001\n",
      "epoch: 07, loss: -0.95227\n",
      "epoch: 08, loss: -0.95437\n",
      "epoch: 09, loss: -0.95601\n",
      "torch.Size([1024, 64])\n"
     ]
    },
    {
     "name": "stderr",
     "output_type": "stream",
     "text": [
      " 41%|████      | 411/999 [8:11:52<11:42:11, 71.65s/it]"
     ]
    },
    {
     "name": "stdout",
     "output_type": "stream",
     "text": [
      "eigenvalues shape torch.Size([5]) eigenvectors shape torch.Size([5, 1024])\n",
      "411 /home/phdcs2/Hard_Disk/Datasets/Deep-Spectral-Segmentation/data/object-segmentation/ECSSD/features/0413_resized.pth\n",
      "dict_keys(['k', 'indices', 'file', 'id', 'model_name', 'patch_size', 'shape'])\n",
      "0413_resized\n",
      "Starting Training\n",
      "epoch: 00, loss: -0.91759\n",
      "epoch: 01, loss: -0.95015\n",
      "epoch: 02, loss: -0.95803\n",
      "epoch: 03, loss: -0.96261\n",
      "epoch: 04, loss: -0.96576\n",
      "epoch: 05, loss: -0.96805\n",
      "epoch: 06, loss: -0.96986\n",
      "epoch: 07, loss: -0.97136\n",
      "epoch: 08, loss: -0.97260\n",
      "epoch: 09, loss: -0.97365\n",
      "torch.Size([1024, 64])\n"
     ]
    },
    {
     "name": "stderr",
     "output_type": "stream",
     "text": [
      " 41%|████      | 412/999 [8:12:54<11:13:58, 68.89s/it]"
     ]
    },
    {
     "name": "stdout",
     "output_type": "stream",
     "text": [
      "eigenvalues shape torch.Size([5]) eigenvectors shape torch.Size([5, 1024])\n",
      "412 /home/phdcs2/Hard_Disk/Datasets/Deep-Spectral-Segmentation/data/object-segmentation/ECSSD/features/0414_resized.pth\n",
      "dict_keys(['k', 'indices', 'file', 'id', 'model_name', 'patch_size', 'shape'])\n",
      "0414_resized\n"
     ]
    },
    {
     "name": "stderr",
     "output_type": "stream",
     "text": [
      "/home/phdcs2/Hard_Disk/Projects/T2I/deep-spectral-segmentation/venv/lib/python3.8/site-packages/sklearn/decomposition/_pca.py:642: RuntimeWarning: invalid value encountered in divide\n",
      "  self.explained_variance_ratio_ = self.explained_variance_ / total_var\n"
     ]
    },
    {
     "name": "stdout",
     "output_type": "stream",
     "text": [
      "Starting Training\n",
      "epoch: 00, loss: -0.91311\n",
      "epoch: 01, loss: -0.94858\n",
      "epoch: 02, loss: -0.95677\n",
      "epoch: 03, loss: -0.96158\n",
      "epoch: 04, loss: -0.96487\n",
      "epoch: 05, loss: -0.96732\n",
      "epoch: 06, loss: -0.96928\n",
      "epoch: 07, loss: -0.97084\n",
      "epoch: 08, loss: -0.97215\n",
      "epoch: 09, loss: -0.97327\n",
      "torch.Size([1024, 64])\n"
     ]
    },
    {
     "name": "stderr",
     "output_type": "stream",
     "text": [
      " 41%|████▏     | 413/999 [8:14:03<11:13:06, 68.92s/it]"
     ]
    },
    {
     "name": "stdout",
     "output_type": "stream",
     "text": [
      "eigenvalues shape torch.Size([5]) eigenvectors shape torch.Size([5, 1024])\n",
      "413 /home/phdcs2/Hard_Disk/Datasets/Deep-Spectral-Segmentation/data/object-segmentation/ECSSD/features/0415_resized.pth\n",
      "dict_keys(['k', 'indices', 'file', 'id', 'model_name', 'patch_size', 'shape'])\n",
      "0415_resized\n"
     ]
    },
    {
     "name": "stderr",
     "output_type": "stream",
     "text": [
      "/home/phdcs2/Hard_Disk/Projects/T2I/deep-spectral-segmentation/venv/lib/python3.8/site-packages/sklearn/decomposition/_pca.py:642: RuntimeWarning: invalid value encountered in divide\n",
      "  self.explained_variance_ratio_ = self.explained_variance_ / total_var\n"
     ]
    },
    {
     "name": "stdout",
     "output_type": "stream",
     "text": [
      "Starting Training\n",
      "epoch: 00, loss: -0.91481\n",
      "epoch: 01, loss: -0.94955\n",
      "epoch: 02, loss: -0.95724\n",
      "epoch: 03, loss: -0.96169\n",
      "epoch: 04, loss: -0.96474\n",
      "epoch: 05, loss: -0.96701\n",
      "epoch: 06, loss: -0.96879\n",
      "epoch: 07, loss: -0.97025\n",
      "epoch: 08, loss: -0.97146\n",
      "epoch: 09, loss: -0.97252\n",
      "torch.Size([1024, 64])\n"
     ]
    },
    {
     "name": "stderr",
     "output_type": "stream",
     "text": [
      " 41%|████▏     | 414/999 [8:15:13<11:15:40, 69.30s/it]"
     ]
    },
    {
     "name": "stdout",
     "output_type": "stream",
     "text": [
      "eigenvalues shape torch.Size([5]) eigenvectors shape torch.Size([5, 1024])\n",
      "414 /home/phdcs2/Hard_Disk/Datasets/Deep-Spectral-Segmentation/data/object-segmentation/ECSSD/features/0416_resized.pth\n",
      "dict_keys(['k', 'indices', 'file', 'id', 'model_name', 'patch_size', 'shape'])\n",
      "0416_resized\n",
      "Starting Training\n",
      "epoch: 00, loss: -0.86510\n",
      "epoch: 01, loss: -0.91949\n",
      "epoch: 02, loss: -0.93396\n",
      "epoch: 03, loss: -0.94199\n",
      "epoch: 04, loss: -0.94720\n",
      "epoch: 05, loss: -0.95135\n",
      "epoch: 06, loss: -0.95449\n",
      "epoch: 07, loss: -0.95693\n",
      "epoch: 08, loss: -0.95910\n",
      "epoch: 09, loss: -0.96079\n",
      "torch.Size([1024, 64])\n"
     ]
    },
    {
     "name": "stderr",
     "output_type": "stream",
     "text": [
      " 42%|████▏     | 415/999 [8:16:21<11:08:52, 68.72s/it]"
     ]
    },
    {
     "name": "stdout",
     "output_type": "stream",
     "text": [
      "eigenvalues shape torch.Size([5]) eigenvectors shape torch.Size([5, 1024])\n",
      "415 /home/phdcs2/Hard_Disk/Datasets/Deep-Spectral-Segmentation/data/object-segmentation/ECSSD/features/0417_resized.pth\n",
      "dict_keys(['k', 'indices', 'file', 'id', 'model_name', 'patch_size', 'shape'])\n",
      "0417_resized\n",
      "Starting Training\n",
      "epoch: 00, loss: -0.87364\n",
      "epoch: 01, loss: -0.92360\n",
      "epoch: 02, loss: -0.93554\n",
      "epoch: 03, loss: -0.94214\n",
      "epoch: 04, loss: -0.94670\n",
      "epoch: 05, loss: -0.94993\n",
      "epoch: 06, loss: -0.95264\n",
      "epoch: 07, loss: -0.95483\n",
      "epoch: 08, loss: -0.95661\n",
      "epoch: 09, loss: -0.95811\n",
      "torch.Size([1024, 64])\n"
     ]
    },
    {
     "name": "stderr",
     "output_type": "stream",
     "text": [
      " 42%|████▏     | 416/999 [8:17:32<11:15:27, 69.52s/it]"
     ]
    },
    {
     "name": "stdout",
     "output_type": "stream",
     "text": [
      "eigenvalues shape torch.Size([5]) eigenvectors shape torch.Size([5, 1024])\n",
      "416 /home/phdcs2/Hard_Disk/Datasets/Deep-Spectral-Segmentation/data/object-segmentation/ECSSD/features/0418_resized.pth\n",
      "dict_keys(['k', 'indices', 'file', 'id', 'model_name', 'patch_size', 'shape'])\n",
      "0418_resized\n"
     ]
    },
    {
     "name": "stderr",
     "output_type": "stream",
     "text": [
      "/home/phdcs2/Hard_Disk/Projects/T2I/deep-spectral-segmentation/venv/lib/python3.8/site-packages/sklearn/decomposition/_pca.py:642: RuntimeWarning: invalid value encountered in divide\n",
      "  self.explained_variance_ratio_ = self.explained_variance_ / total_var\n"
     ]
    },
    {
     "name": "stdout",
     "output_type": "stream",
     "text": [
      "Starting Training\n",
      "epoch: 00, loss: -0.93293\n",
      "epoch: 01, loss: -0.96195\n",
      "epoch: 02, loss: -0.96781\n",
      "epoch: 03, loss: -0.97123\n",
      "epoch: 04, loss: -0.97358\n",
      "epoch: 05, loss: -0.97533\n",
      "epoch: 06, loss: -0.97672\n",
      "epoch: 07, loss: -0.97785\n",
      "epoch: 08, loss: -0.97879\n",
      "epoch: 09, loss: -0.97959\n",
      "torch.Size([1024, 64])\n"
     ]
    },
    {
     "name": "stderr",
     "output_type": "stream",
     "text": [
      " 42%|████▏     | 417/999 [8:18:48<11:33:25, 71.49s/it]"
     ]
    },
    {
     "name": "stdout",
     "output_type": "stream",
     "text": [
      "eigenvalues shape torch.Size([5]) eigenvectors shape torch.Size([5, 1024])\n",
      "417 /home/phdcs2/Hard_Disk/Datasets/Deep-Spectral-Segmentation/data/object-segmentation/ECSSD/features/0419_resized.pth\n",
      "dict_keys(['k', 'indices', 'file', 'id', 'model_name', 'patch_size', 'shape'])\n",
      "0419_resized\n",
      "Starting Training\n",
      "epoch: 00, loss: -0.86700\n",
      "epoch: 01, loss: -0.92189\n",
      "epoch: 02, loss: -0.93576\n",
      "epoch: 03, loss: -0.94345\n",
      "epoch: 04, loss: -0.94862\n",
      "epoch: 05, loss: -0.95246\n",
      "epoch: 06, loss: -0.95539\n",
      "epoch: 07, loss: -0.95764\n",
      "epoch: 08, loss: -0.95954\n",
      "epoch: 09, loss: -0.96119\n",
      "torch.Size([1024, 64])\n"
     ]
    },
    {
     "name": "stderr",
     "output_type": "stream",
     "text": [
      " 42%|████▏     | 418/999 [8:20:04<11:44:14, 72.73s/it]"
     ]
    },
    {
     "name": "stdout",
     "output_type": "stream",
     "text": [
      "eigenvalues shape torch.Size([5]) eigenvectors shape torch.Size([5, 1024])\n",
      "418 /home/phdcs2/Hard_Disk/Datasets/Deep-Spectral-Segmentation/data/object-segmentation/ECSSD/features/0420_resized.pth\n",
      "dict_keys(['k', 'indices', 'file', 'id', 'model_name', 'patch_size', 'shape'])\n",
      "0420_resized\n",
      "Starting Training\n",
      "epoch: 00, loss: -0.93181\n",
      "epoch: 01, loss: -0.95992\n",
      "epoch: 02, loss: -0.96600\n",
      "epoch: 03, loss: -0.96955\n",
      "epoch: 04, loss: -0.97198\n",
      "epoch: 05, loss: -0.97380\n",
      "epoch: 06, loss: -0.97522\n",
      "epoch: 07, loss: -0.97639\n",
      "epoch: 08, loss: -0.97736\n",
      "epoch: 09, loss: -0.97820\n",
      "torch.Size([1024, 64])\n"
     ]
    },
    {
     "name": "stderr",
     "output_type": "stream",
     "text": [
      " 42%|████▏     | 419/999 [8:21:18<11:47:14, 73.16s/it]"
     ]
    },
    {
     "name": "stdout",
     "output_type": "stream",
     "text": [
      "eigenvalues shape torch.Size([5]) eigenvectors shape torch.Size([5, 1024])\n",
      "419 /home/phdcs2/Hard_Disk/Datasets/Deep-Spectral-Segmentation/data/object-segmentation/ECSSD/features/0421_resized.pth\n",
      "dict_keys(['k', 'indices', 'file', 'id', 'model_name', 'patch_size', 'shape'])\n",
      "0421_resized\n"
     ]
    },
    {
     "name": "stderr",
     "output_type": "stream",
     "text": [
      "/home/phdcs2/Hard_Disk/Projects/T2I/deep-spectral-segmentation/venv/lib/python3.8/site-packages/sklearn/decomposition/_pca.py:642: RuntimeWarning: invalid value encountered in divide\n",
      "  self.explained_variance_ratio_ = self.explained_variance_ / total_var\n"
     ]
    },
    {
     "name": "stdout",
     "output_type": "stream",
     "text": [
      "Starting Training\n",
      "epoch: 00, loss: -0.93063\n",
      "epoch: 01, loss: -0.95616\n",
      "epoch: 02, loss: -0.96262\n",
      "epoch: 03, loss: -0.96637\n",
      "epoch: 04, loss: -0.96898\n",
      "epoch: 05, loss: -0.97091\n",
      "epoch: 06, loss: -0.97243\n",
      "epoch: 07, loss: -0.97367\n",
      "epoch: 08, loss: -0.97469\n",
      "epoch: 09, loss: -0.97561\n",
      "torch.Size([1024, 64])\n"
     ]
    },
    {
     "name": "stderr",
     "output_type": "stream",
     "text": [
      " 42%|████▏     | 420/999 [8:22:31<11:44:23, 72.99s/it]"
     ]
    },
    {
     "name": "stdout",
     "output_type": "stream",
     "text": [
      "eigenvalues shape torch.Size([5]) eigenvectors shape torch.Size([5, 1024])\n",
      "420 /home/phdcs2/Hard_Disk/Datasets/Deep-Spectral-Segmentation/data/object-segmentation/ECSSD/features/0422_resized.pth\n",
      "dict_keys(['k', 'indices', 'file', 'id', 'model_name', 'patch_size', 'shape'])\n",
      "0422_resized\n"
     ]
    },
    {
     "name": "stderr",
     "output_type": "stream",
     "text": [
      "/home/phdcs2/Hard_Disk/Projects/T2I/deep-spectral-segmentation/venv/lib/python3.8/site-packages/sklearn/decomposition/_pca.py:642: RuntimeWarning: invalid value encountered in divide\n",
      "  self.explained_variance_ratio_ = self.explained_variance_ / total_var\n"
     ]
    },
    {
     "name": "stdout",
     "output_type": "stream",
     "text": [
      "Starting Training\n",
      "epoch: 00, loss: -0.90234\n",
      "epoch: 01, loss: -0.94016\n",
      "epoch: 02, loss: -0.94930\n",
      "epoch: 03, loss: -0.95457\n",
      "epoch: 04, loss: -0.95821\n",
      "epoch: 05, loss: -0.96095\n",
      "epoch: 06, loss: -0.96309\n",
      "epoch: 07, loss: -0.96483\n",
      "epoch: 08, loss: -0.96632\n",
      "epoch: 09, loss: -0.96753\n",
      "torch.Size([1024, 64])\n"
     ]
    },
    {
     "name": "stderr",
     "output_type": "stream",
     "text": [
      " 42%|████▏     | 421/999 [8:23:41<11:34:03, 72.05s/it]"
     ]
    },
    {
     "name": "stdout",
     "output_type": "stream",
     "text": [
      "eigenvalues shape torch.Size([5]) eigenvectors shape torch.Size([5, 1024])\n",
      "421 /home/phdcs2/Hard_Disk/Datasets/Deep-Spectral-Segmentation/data/object-segmentation/ECSSD/features/0423_resized.pth\n",
      "dict_keys(['k', 'indices', 'file', 'id', 'model_name', 'patch_size', 'shape'])\n",
      "0423_resized\n",
      "Starting Training\n",
      "epoch: 00, loss: -0.87066\n",
      "epoch: 01, loss: -0.92338\n",
      "epoch: 02, loss: -0.93706\n",
      "epoch: 03, loss: -0.94450\n",
      "epoch: 04, loss: -0.94979\n",
      "epoch: 05, loss: -0.95358\n",
      "epoch: 06, loss: -0.95645\n",
      "epoch: 07, loss: -0.95881\n",
      "epoch: 08, loss: -0.96077\n",
      "epoch: 09, loss: -0.96245\n",
      "torch.Size([1024, 64])\n"
     ]
    },
    {
     "name": "stderr",
     "output_type": "stream",
     "text": [
      " 42%|████▏     | 422/999 [8:24:48<11:19:30, 70.66s/it]"
     ]
    },
    {
     "name": "stdout",
     "output_type": "stream",
     "text": [
      "eigenvalues shape torch.Size([5]) eigenvectors shape torch.Size([5, 1024])\n",
      "422 /home/phdcs2/Hard_Disk/Datasets/Deep-Spectral-Segmentation/data/object-segmentation/ECSSD/features/0424_resized.pth\n",
      "dict_keys(['k', 'indices', 'file', 'id', 'model_name', 'patch_size', 'shape'])\n",
      "0424_resized\n",
      "Starting Training\n",
      "epoch: 00, loss: -0.87977\n",
      "epoch: 01, loss: -0.92777\n",
      "epoch: 02, loss: -0.94041\n",
      "epoch: 03, loss: -0.94754\n",
      "epoch: 04, loss: -0.95240\n",
      "epoch: 05, loss: -0.95589\n",
      "epoch: 06, loss: -0.95860\n",
      "epoch: 07, loss: -0.96083\n",
      "epoch: 08, loss: -0.96255\n",
      "epoch: 09, loss: -0.96413\n",
      "torch.Size([1024, 64])\n"
     ]
    },
    {
     "name": "stderr",
     "output_type": "stream",
     "text": [
      " 42%|████▏     | 423/999 [8:25:59<11:18:59, 70.73s/it]"
     ]
    },
    {
     "name": "stdout",
     "output_type": "stream",
     "text": [
      "eigenvalues shape torch.Size([5]) eigenvectors shape torch.Size([5, 1024])\n",
      "423 /home/phdcs2/Hard_Disk/Datasets/Deep-Spectral-Segmentation/data/object-segmentation/ECSSD/features/0425_resized.pth\n",
      "dict_keys(['k', 'indices', 'file', 'id', 'model_name', 'patch_size', 'shape'])\n",
      "0425_resized\n",
      "Starting Training\n",
      "epoch: 00, loss: -0.86563\n",
      "epoch: 01, loss: -0.91883\n",
      "epoch: 02, loss: -0.93279\n",
      "epoch: 03, loss: -0.94064\n",
      "epoch: 04, loss: -0.94604\n",
      "epoch: 05, loss: -0.94992\n",
      "epoch: 06, loss: -0.95288\n",
      "epoch: 07, loss: -0.95547\n",
      "epoch: 08, loss: -0.95745\n",
      "epoch: 09, loss: -0.95919\n",
      "torch.Size([1024, 64])\n"
     ]
    },
    {
     "name": "stderr",
     "output_type": "stream",
     "text": [
      " 42%|████▏     | 424/999 [8:27:13<11:28:54, 71.89s/it]"
     ]
    },
    {
     "name": "stdout",
     "output_type": "stream",
     "text": [
      "eigenvalues shape torch.Size([5]) eigenvectors shape torch.Size([5, 1024])\n",
      "424 /home/phdcs2/Hard_Disk/Datasets/Deep-Spectral-Segmentation/data/object-segmentation/ECSSD/features/0426_resized.pth\n",
      "dict_keys(['k', 'indices', 'file', 'id', 'model_name', 'patch_size', 'shape'])\n",
      "0426_resized\n",
      "Starting Training\n",
      "epoch: 00, loss: -0.86679\n",
      "epoch: 01, loss: -0.91852\n",
      "epoch: 02, loss: -0.93297\n",
      "epoch: 03, loss: -0.94111\n",
      "epoch: 04, loss: -0.94659\n",
      "epoch: 05, loss: -0.95051\n",
      "epoch: 06, loss: -0.95358\n",
      "epoch: 07, loss: -0.95602\n",
      "epoch: 08, loss: -0.95807\n",
      "epoch: 09, loss: -0.95987\n",
      "torch.Size([1024, 64])\n"
     ]
    },
    {
     "name": "stderr",
     "output_type": "stream",
     "text": [
      " 43%|████▎     | 425/999 [8:28:29<11:37:31, 72.91s/it]"
     ]
    },
    {
     "name": "stdout",
     "output_type": "stream",
     "text": [
      "eigenvalues shape torch.Size([5]) eigenvectors shape torch.Size([5, 1024])\n",
      "425 /home/phdcs2/Hard_Disk/Datasets/Deep-Spectral-Segmentation/data/object-segmentation/ECSSD/features/0427_resized.pth\n",
      "dict_keys(['k', 'indices', 'file', 'id', 'model_name', 'patch_size', 'shape'])\n",
      "0427_resized\n",
      "Starting Training\n",
      "epoch: 00, loss: -0.92360\n",
      "epoch: 01, loss: -0.95219\n",
      "epoch: 02, loss: -0.95919\n",
      "epoch: 03, loss: -0.96346\n",
      "epoch: 04, loss: -0.96637\n",
      "epoch: 05, loss: -0.96855\n",
      "epoch: 06, loss: -0.97029\n",
      "epoch: 07, loss: -0.97173\n",
      "epoch: 08, loss: -0.97292\n",
      "epoch: 09, loss: -0.97393\n",
      "torch.Size([1024, 64])\n"
     ]
    },
    {
     "name": "stderr",
     "output_type": "stream",
     "text": [
      " 43%|████▎     | 426/999 [8:29:43<11:41:01, 73.41s/it]"
     ]
    },
    {
     "name": "stdout",
     "output_type": "stream",
     "text": [
      "eigenvalues shape torch.Size([5]) eigenvectors shape torch.Size([5, 1024])\n",
      "426 /home/phdcs2/Hard_Disk/Datasets/Deep-Spectral-Segmentation/data/object-segmentation/ECSSD/features/0428_resized.pth\n",
      "dict_keys(['k', 'indices', 'file', 'id', 'model_name', 'patch_size', 'shape'])\n",
      "0428_resized\n",
      "Starting Training\n",
      "epoch: 00, loss: -0.93700\n",
      "epoch: 01, loss: -0.96283\n",
      "epoch: 02, loss: -0.96843\n",
      "epoch: 03, loss: -0.97171\n",
      "epoch: 04, loss: -0.97393\n",
      "epoch: 05, loss: -0.97557\n",
      "epoch: 06, loss: -0.97688\n",
      "epoch: 07, loss: -0.97795\n",
      "epoch: 08, loss: -0.97883\n",
      "epoch: 09, loss: -0.97960\n",
      "torch.Size([1024, 64])\n"
     ]
    },
    {
     "name": "stderr",
     "output_type": "stream",
     "text": [
      " 43%|████▎     | 427/999 [8:30:58<11:44:03, 73.85s/it]"
     ]
    },
    {
     "name": "stdout",
     "output_type": "stream",
     "text": [
      "eigenvalues shape torch.Size([5]) eigenvectors shape torch.Size([5, 1024])\n",
      "427 /home/phdcs2/Hard_Disk/Datasets/Deep-Spectral-Segmentation/data/object-segmentation/ECSSD/features/0429_resized.pth\n",
      "dict_keys(['k', 'indices', 'file', 'id', 'model_name', 'patch_size', 'shape'])\n",
      "0429_resized\n"
     ]
    },
    {
     "name": "stderr",
     "output_type": "stream",
     "text": [
      "/home/phdcs2/Hard_Disk/Projects/T2I/deep-spectral-segmentation/venv/lib/python3.8/site-packages/sklearn/decomposition/_pca.py:642: RuntimeWarning: invalid value encountered in divide\n",
      "  self.explained_variance_ratio_ = self.explained_variance_ / total_var\n"
     ]
    },
    {
     "name": "stdout",
     "output_type": "stream",
     "text": [
      "Starting Training\n",
      "epoch: 00, loss: -0.92548\n",
      "epoch: 01, loss: -0.95872\n",
      "epoch: 02, loss: -0.96514\n",
      "epoch: 03, loss: -0.96881\n",
      "epoch: 04, loss: -0.97133\n",
      "epoch: 05, loss: -0.97316\n",
      "epoch: 06, loss: -0.97461\n",
      "epoch: 07, loss: -0.97581\n",
      "epoch: 08, loss: -0.97683\n",
      "epoch: 09, loss: -0.97764\n",
      "torch.Size([1024, 64])\n"
     ]
    },
    {
     "name": "stderr",
     "output_type": "stream",
     "text": [
      " 43%|████▎     | 428/999 [8:32:11<11:39:41, 73.52s/it]"
     ]
    },
    {
     "name": "stdout",
     "output_type": "stream",
     "text": [
      "eigenvalues shape torch.Size([5]) eigenvectors shape torch.Size([5, 1024])\n",
      "428 /home/phdcs2/Hard_Disk/Datasets/Deep-Spectral-Segmentation/data/object-segmentation/ECSSD/features/0430_resized.pth\n",
      "dict_keys(['k', 'indices', 'file', 'id', 'model_name', 'patch_size', 'shape'])\n",
      "0430_resized\n",
      "Starting Training\n",
      "epoch: 00, loss: -0.86965\n",
      "epoch: 01, loss: -0.92110\n",
      "epoch: 02, loss: -0.93489\n",
      "epoch: 03, loss: -0.94261\n",
      "epoch: 04, loss: -0.94800\n",
      "epoch: 05, loss: -0.95183\n",
      "epoch: 06, loss: -0.95487\n",
      "epoch: 07, loss: -0.95729\n",
      "epoch: 08, loss: -0.95929\n",
      "epoch: 09, loss: -0.96102\n",
      "torch.Size([1024, 64])\n"
     ]
    },
    {
     "name": "stderr",
     "output_type": "stream",
     "text": [
      " 43%|████▎     | 429/999 [8:33:22<11:31:28, 72.79s/it]"
     ]
    },
    {
     "name": "stdout",
     "output_type": "stream",
     "text": [
      "eigenvalues shape torch.Size([5]) eigenvectors shape torch.Size([5, 1024])\n",
      "429 /home/phdcs2/Hard_Disk/Datasets/Deep-Spectral-Segmentation/data/object-segmentation/ECSSD/features/0431_resized.pth\n",
      "dict_keys(['k', 'indices', 'file', 'id', 'model_name', 'patch_size', 'shape'])\n",
      "0431_resized\n",
      "Starting Training\n",
      "epoch: 00, loss: -0.84516\n",
      "epoch: 01, loss: -0.90783\n",
      "epoch: 02, loss: -0.92366\n",
      "epoch: 03, loss: -0.93239\n",
      "epoch: 04, loss: -0.93853\n",
      "epoch: 05, loss: -0.94282\n",
      "epoch: 06, loss: -0.94629\n",
      "epoch: 07, loss: -0.94901\n",
      "epoch: 08, loss: -0.95135\n",
      "epoch: 09, loss: -0.95330\n",
      "torch.Size([1024, 64])\n"
     ]
    },
    {
     "name": "stderr",
     "output_type": "stream",
     "text": [
      " 43%|████▎     | 430/999 [8:34:29<11:12:27, 70.91s/it]"
     ]
    },
    {
     "name": "stdout",
     "output_type": "stream",
     "text": [
      "eigenvalues shape torch.Size([5]) eigenvectors shape torch.Size([5, 1024])\n",
      "430 /home/phdcs2/Hard_Disk/Datasets/Deep-Spectral-Segmentation/data/object-segmentation/ECSSD/features/0432_resized.pth\n",
      "dict_keys(['k', 'indices', 'file', 'id', 'model_name', 'patch_size', 'shape'])\n",
      "0432_resized\n"
     ]
    },
    {
     "name": "stderr",
     "output_type": "stream",
     "text": [
      "/home/phdcs2/Hard_Disk/Projects/T2I/deep-spectral-segmentation/venv/lib/python3.8/site-packages/sklearn/decomposition/_pca.py:642: RuntimeWarning: invalid value encountered in divide\n",
      "  self.explained_variance_ratio_ = self.explained_variance_ / total_var\n"
     ]
    },
    {
     "name": "stdout",
     "output_type": "stream",
     "text": [
      "Starting Training\n",
      "epoch: 00, loss: -0.91108\n",
      "epoch: 01, loss: -0.94563\n",
      "epoch: 02, loss: -0.95443\n",
      "epoch: 03, loss: -0.95942\n",
      "epoch: 04, loss: -0.96284\n",
      "epoch: 05, loss: -0.96536\n",
      "epoch: 06, loss: -0.96739\n",
      "epoch: 07, loss: -0.96900\n",
      "epoch: 08, loss: -0.97034\n",
      "epoch: 09, loss: -0.97149\n",
      "torch.Size([1024, 64])\n"
     ]
    },
    {
     "name": "stderr",
     "output_type": "stream",
     "text": [
      " 43%|████▎     | 431/999 [8:35:40<11:12:25, 71.03s/it]"
     ]
    },
    {
     "name": "stdout",
     "output_type": "stream",
     "text": [
      "eigenvalues shape torch.Size([5]) eigenvectors shape torch.Size([5, 1024])\n",
      "431 /home/phdcs2/Hard_Disk/Datasets/Deep-Spectral-Segmentation/data/object-segmentation/ECSSD/features/0433_resized.pth\n",
      "dict_keys(['k', 'indices', 'file', 'id', 'model_name', 'patch_size', 'shape'])\n",
      "0433_resized\n",
      "Starting Training\n",
      "epoch: 00, loss: -0.86690\n",
      "epoch: 01, loss: -0.92152\n",
      "epoch: 02, loss: -0.93570\n",
      "epoch: 03, loss: -0.94348\n",
      "epoch: 04, loss: -0.94881\n",
      "epoch: 05, loss: -0.95265\n",
      "epoch: 06, loss: -0.95560\n",
      "epoch: 07, loss: -0.95795\n",
      "epoch: 08, loss: -0.96004\n",
      "epoch: 09, loss: -0.96164\n",
      "torch.Size([1024, 64])\n"
     ]
    },
    {
     "name": "stderr",
     "output_type": "stream",
     "text": [
      " 43%|████▎     | 432/999 [8:36:57<11:27:34, 72.76s/it]"
     ]
    },
    {
     "name": "stdout",
     "output_type": "stream",
     "text": [
      "eigenvalues shape torch.Size([5]) eigenvectors shape torch.Size([5, 1024])\n",
      "432 /home/phdcs2/Hard_Disk/Datasets/Deep-Spectral-Segmentation/data/object-segmentation/ECSSD/features/0434_resized.pth\n",
      "dict_keys(['k', 'indices', 'file', 'id', 'model_name', 'patch_size', 'shape'])\n",
      "0434_resized\n"
     ]
    },
    {
     "name": "stderr",
     "output_type": "stream",
     "text": [
      "/home/phdcs2/Hard_Disk/Projects/T2I/deep-spectral-segmentation/venv/lib/python3.8/site-packages/sklearn/decomposition/_pca.py:642: RuntimeWarning: invalid value encountered in divide\n",
      "  self.explained_variance_ratio_ = self.explained_variance_ / total_var\n"
     ]
    },
    {
     "name": "stdout",
     "output_type": "stream",
     "text": [
      "Starting Training\n",
      "epoch: 00, loss: -0.91724\n",
      "epoch: 01, loss: -0.95166\n",
      "epoch: 02, loss: -0.95947\n",
      "epoch: 03, loss: -0.96396\n",
      "epoch: 04, loss: -0.96695\n",
      "epoch: 05, loss: -0.96917\n",
      "epoch: 06, loss: -0.97090\n",
      "epoch: 07, loss: -0.97231\n",
      "epoch: 08, loss: -0.97349\n",
      "epoch: 09, loss: -0.97449\n",
      "torch.Size([1024, 64])\n"
     ]
    },
    {
     "name": "stderr",
     "output_type": "stream",
     "text": [
      " 43%|████▎     | 433/999 [8:38:12<11:34:35, 73.63s/it]"
     ]
    },
    {
     "name": "stdout",
     "output_type": "stream",
     "text": [
      "eigenvalues shape torch.Size([5]) eigenvectors shape torch.Size([5, 1024])\n",
      "433 /home/phdcs2/Hard_Disk/Datasets/Deep-Spectral-Segmentation/data/object-segmentation/ECSSD/features/0435_resized.pth\n",
      "dict_keys(['k', 'indices', 'file', 'id', 'model_name', 'patch_size', 'shape'])\n",
      "0435_resized\n",
      "Starting Training\n",
      "epoch: 00, loss: -0.87270\n",
      "epoch: 01, loss: -0.92624\n",
      "epoch: 02, loss: -0.93890\n",
      "epoch: 03, loss: -0.94546\n",
      "epoch: 04, loss: -0.94999\n",
      "epoch: 05, loss: -0.95344\n",
      "epoch: 06, loss: -0.95596\n",
      "epoch: 07, loss: -0.95810\n",
      "epoch: 08, loss: -0.95986\n",
      "epoch: 09, loss: -0.96131\n",
      "torch.Size([1024, 64])\n"
     ]
    },
    {
     "name": "stderr",
     "output_type": "stream",
     "text": [
      " 43%|████▎     | 434/999 [8:39:24<11:27:57, 73.06s/it]"
     ]
    },
    {
     "name": "stdout",
     "output_type": "stream",
     "text": [
      "eigenvalues shape torch.Size([5]) eigenvectors shape torch.Size([5, 1024])\n",
      "434 /home/phdcs2/Hard_Disk/Datasets/Deep-Spectral-Segmentation/data/object-segmentation/ECSSD/features/0436_resized.pth\n",
      "dict_keys(['k', 'indices', 'file', 'id', 'model_name', 'patch_size', 'shape'])\n",
      "0436_resized\n"
     ]
    },
    {
     "name": "stderr",
     "output_type": "stream",
     "text": [
      "/home/phdcs2/Hard_Disk/Projects/T2I/deep-spectral-segmentation/venv/lib/python3.8/site-packages/sklearn/decomposition/_pca.py:642: RuntimeWarning: invalid value encountered in divide\n",
      "  self.explained_variance_ratio_ = self.explained_variance_ / total_var\n"
     ]
    },
    {
     "name": "stdout",
     "output_type": "stream",
     "text": [
      "Starting Training\n",
      "epoch: 00, loss: -0.91705\n",
      "epoch: 01, loss: -0.95019\n",
      "epoch: 02, loss: -0.95752\n",
      "epoch: 03, loss: -0.96180\n",
      "epoch: 04, loss: -0.96471\n",
      "epoch: 05, loss: -0.96693\n",
      "epoch: 06, loss: -0.96864\n",
      "epoch: 07, loss: -0.97006\n",
      "epoch: 08, loss: -0.97124\n",
      "epoch: 09, loss: -0.97229\n",
      "torch.Size([1024, 64])\n"
     ]
    },
    {
     "name": "stderr",
     "output_type": "stream",
     "text": [
      " 44%|████▎     | 435/999 [8:40:32<11:12:48, 71.58s/it]"
     ]
    },
    {
     "name": "stdout",
     "output_type": "stream",
     "text": [
      "eigenvalues shape torch.Size([5]) eigenvectors shape torch.Size([5, 1024])\n",
      "435 /home/phdcs2/Hard_Disk/Datasets/Deep-Spectral-Segmentation/data/object-segmentation/ECSSD/features/0437_resized.pth\n",
      "dict_keys(['k', 'indices', 'file', 'id', 'model_name', 'patch_size', 'shape'])\n",
      "0437_resized\n"
     ]
    },
    {
     "name": "stderr",
     "output_type": "stream",
     "text": [
      "/home/phdcs2/Hard_Disk/Projects/T2I/deep-spectral-segmentation/venv/lib/python3.8/site-packages/sklearn/decomposition/_pca.py:642: RuntimeWarning: invalid value encountered in divide\n",
      "  self.explained_variance_ratio_ = self.explained_variance_ / total_var\n"
     ]
    },
    {
     "name": "stdout",
     "output_type": "stream",
     "text": [
      "Starting Training\n",
      "epoch: 00, loss: -0.91226\n",
      "epoch: 01, loss: -0.94784\n",
      "epoch: 02, loss: -0.95637\n",
      "epoch: 03, loss: -0.96126\n",
      "epoch: 04, loss: -0.96456\n",
      "epoch: 05, loss: -0.96704\n",
      "epoch: 06, loss: -0.96895\n",
      "epoch: 07, loss: -0.97050\n",
      "epoch: 08, loss: -0.97180\n",
      "epoch: 09, loss: -0.97290\n",
      "torch.Size([1024, 64])\n"
     ]
    },
    {
     "name": "stderr",
     "output_type": "stream",
     "text": [
      " 44%|████▎     | 436/999 [8:41:36<10:48:53, 69.15s/it]"
     ]
    },
    {
     "name": "stdout",
     "output_type": "stream",
     "text": [
      "eigenvalues shape torch.Size([5]) eigenvectors shape torch.Size([5, 1024])\n",
      "436 /home/phdcs2/Hard_Disk/Datasets/Deep-Spectral-Segmentation/data/object-segmentation/ECSSD/features/0438_resized.pth\n",
      "dict_keys(['k', 'indices', 'file', 'id', 'model_name', 'patch_size', 'shape'])\n",
      "0438_resized\n"
     ]
    },
    {
     "name": "stderr",
     "output_type": "stream",
     "text": [
      "/home/phdcs2/Hard_Disk/Projects/T2I/deep-spectral-segmentation/venv/lib/python3.8/site-packages/sklearn/decomposition/_pca.py:642: RuntimeWarning: invalid value encountered in divide\n",
      "  self.explained_variance_ratio_ = self.explained_variance_ / total_var\n"
     ]
    },
    {
     "name": "stdout",
     "output_type": "stream",
     "text": [
      "Starting Training\n",
      "epoch: 00, loss: -0.91465\n",
      "epoch: 01, loss: -0.95094\n",
      "epoch: 02, loss: -0.95903\n",
      "epoch: 03, loss: -0.96366\n",
      "epoch: 04, loss: -0.96675\n",
      "epoch: 05, loss: -0.96907\n",
      "epoch: 06, loss: -0.97090\n",
      "epoch: 07, loss: -0.97234\n",
      "epoch: 08, loss: -0.97356\n",
      "epoch: 09, loss: -0.97463\n",
      "torch.Size([1024, 64])\n"
     ]
    },
    {
     "name": "stderr",
     "output_type": "stream",
     "text": [
      " 44%|████▎     | 437/999 [8:42:49<10:59:19, 70.39s/it]"
     ]
    },
    {
     "name": "stdout",
     "output_type": "stream",
     "text": [
      "eigenvalues shape torch.Size([5]) eigenvectors shape torch.Size([5, 1024])\n",
      "437 /home/phdcs2/Hard_Disk/Datasets/Deep-Spectral-Segmentation/data/object-segmentation/ECSSD/features/0439_resized.pth\n",
      "dict_keys(['k', 'indices', 'file', 'id', 'model_name', 'patch_size', 'shape'])\n",
      "0439_resized\n",
      "Starting Training\n",
      "epoch: 00, loss: -0.86294\n",
      "epoch: 01, loss: -0.92074\n",
      "epoch: 02, loss: -0.93449\n",
      "epoch: 03, loss: -0.94225\n",
      "epoch: 04, loss: -0.94736\n",
      "epoch: 05, loss: -0.95119\n",
      "epoch: 06, loss: -0.95396\n",
      "epoch: 07, loss: -0.95623\n",
      "epoch: 08, loss: -0.95814\n",
      "epoch: 09, loss: -0.95979\n",
      "torch.Size([1024, 64])\n"
     ]
    },
    {
     "name": "stderr",
     "output_type": "stream",
     "text": [
      " 44%|████▍     | 438/999 [8:44:03<11:08:24, 71.49s/it]"
     ]
    },
    {
     "name": "stdout",
     "output_type": "stream",
     "text": [
      "eigenvalues shape torch.Size([5]) eigenvectors shape torch.Size([5, 1024])\n",
      "438 /home/phdcs2/Hard_Disk/Datasets/Deep-Spectral-Segmentation/data/object-segmentation/ECSSD/features/0440_resized.pth\n",
      "dict_keys(['k', 'indices', 'file', 'id', 'model_name', 'patch_size', 'shape'])\n",
      "0440_resized\n",
      "Starting Training\n",
      "epoch: 00, loss: -0.86220\n",
      "epoch: 01, loss: -0.92004\n",
      "epoch: 02, loss: -0.93388\n",
      "epoch: 03, loss: -0.94169\n",
      "epoch: 04, loss: -0.94715\n",
      "epoch: 05, loss: -0.95092\n",
      "epoch: 06, loss: -0.95394\n",
      "epoch: 07, loss: -0.95641\n",
      "epoch: 08, loss: -0.95861\n",
      "epoch: 09, loss: -0.96028\n",
      "torch.Size([1024, 64])\n"
     ]
    },
    {
     "name": "stderr",
     "output_type": "stream",
     "text": [
      " 44%|████▍     | 439/999 [8:45:13<11:03:09, 71.05s/it]"
     ]
    },
    {
     "name": "stdout",
     "output_type": "stream",
     "text": [
      "eigenvalues shape torch.Size([5]) eigenvectors shape torch.Size([5, 1024])\n",
      "439 /home/phdcs2/Hard_Disk/Datasets/Deep-Spectral-Segmentation/data/object-segmentation/ECSSD/features/0441_resized.pth\n",
      "dict_keys(['k', 'indices', 'file', 'id', 'model_name', 'patch_size', 'shape'])\n",
      "0441_resized\n"
     ]
    },
    {
     "name": "stderr",
     "output_type": "stream",
     "text": [
      "/home/phdcs2/Hard_Disk/Projects/T2I/deep-spectral-segmentation/venv/lib/python3.8/site-packages/sklearn/decomposition/_pca.py:642: RuntimeWarning: invalid value encountered in divide\n",
      "  self.explained_variance_ratio_ = self.explained_variance_ / total_var\n"
     ]
    },
    {
     "name": "stdout",
     "output_type": "stream",
     "text": [
      "Starting Training\n",
      "epoch: 00, loss: -0.91399\n",
      "epoch: 01, loss: -0.94906\n",
      "epoch: 02, loss: -0.95702\n",
      "epoch: 03, loss: -0.96157\n",
      "epoch: 04, loss: -0.96473\n",
      "epoch: 05, loss: -0.96707\n",
      "epoch: 06, loss: -0.96888\n",
      "epoch: 07, loss: -0.97038\n",
      "epoch: 08, loss: -0.97161\n",
      "epoch: 09, loss: -0.97267\n",
      "torch.Size([1024, 64])\n"
     ]
    },
    {
     "name": "stderr",
     "output_type": "stream",
     "text": [
      " 44%|████▍     | 440/999 [8:46:21<10:54:51, 70.29s/it]"
     ]
    },
    {
     "name": "stdout",
     "output_type": "stream",
     "text": [
      "eigenvalues shape torch.Size([5]) eigenvectors shape torch.Size([5, 1024])\n",
      "440 /home/phdcs2/Hard_Disk/Datasets/Deep-Spectral-Segmentation/data/object-segmentation/ECSSD/features/0442_resized.pth\n",
      "dict_keys(['k', 'indices', 'file', 'id', 'model_name', 'patch_size', 'shape'])\n",
      "0442_resized\n",
      "Starting Training\n",
      "epoch: 00, loss: -0.90926\n",
      "epoch: 01, loss: -0.94953\n",
      "epoch: 02, loss: -0.95809\n",
      "epoch: 03, loss: -0.96297\n",
      "epoch: 04, loss: -0.96635\n",
      "epoch: 05, loss: -0.96875\n",
      "epoch: 06, loss: -0.97062\n",
      "epoch: 07, loss: -0.97216\n",
      "epoch: 08, loss: -0.97343\n",
      "epoch: 09, loss: -0.97452\n",
      "torch.Size([1024, 64])\n"
     ]
    },
    {
     "name": "stderr",
     "output_type": "stream",
     "text": [
      " 44%|████▍     | 441/999 [8:47:27<10:40:33, 68.88s/it]"
     ]
    },
    {
     "name": "stdout",
     "output_type": "stream",
     "text": [
      "eigenvalues shape torch.Size([5]) eigenvectors shape torch.Size([5, 1024])\n",
      "441 /home/phdcs2/Hard_Disk/Datasets/Deep-Spectral-Segmentation/data/object-segmentation/ECSSD/features/0443_resized.pth\n",
      "dict_keys(['k', 'indices', 'file', 'id', 'model_name', 'patch_size', 'shape'])\n",
      "0443_resized\n",
      "Starting Training\n",
      "epoch: 00, loss: -0.92701\n",
      "epoch: 01, loss: -0.95806\n",
      "epoch: 02, loss: -0.96487\n",
      "epoch: 03, loss: -0.96876\n",
      "epoch: 04, loss: -0.97143\n",
      "epoch: 05, loss: -0.97341\n",
      "epoch: 06, loss: -0.97492\n",
      "epoch: 07, loss: -0.97617\n",
      "epoch: 08, loss: -0.97723\n",
      "epoch: 09, loss: -0.97813\n",
      "torch.Size([1024, 64])\n"
     ]
    },
    {
     "name": "stderr",
     "output_type": "stream",
     "text": [
      " 44%|████▍     | 442/999 [8:48:41<10:54:43, 70.53s/it]"
     ]
    },
    {
     "name": "stdout",
     "output_type": "stream",
     "text": [
      "eigenvalues shape torch.Size([5]) eigenvectors shape torch.Size([5, 1024])\n",
      "442 /home/phdcs2/Hard_Disk/Datasets/Deep-Spectral-Segmentation/data/object-segmentation/ECSSD/features/0444_resized.pth\n",
      "dict_keys(['k', 'indices', 'file', 'id', 'model_name', 'patch_size', 'shape'])\n",
      "0444_resized\n",
      "Starting Training\n",
      "epoch: 00, loss: -0.92207\n",
      "epoch: 01, loss: -0.95143\n",
      "epoch: 02, loss: -0.95823\n",
      "epoch: 03, loss: -0.96218\n",
      "epoch: 04, loss: -0.96501\n",
      "epoch: 05, loss: -0.96708\n",
      "epoch: 06, loss: -0.96871\n",
      "epoch: 07, loss: -0.97009\n",
      "epoch: 08, loss: -0.97124\n",
      "epoch: 09, loss: -0.97222\n",
      "torch.Size([1024, 64])\n"
     ]
    },
    {
     "name": "stderr",
     "output_type": "stream",
     "text": [
      " 44%|████▍     | 443/999 [8:49:57<11:07:37, 72.05s/it]"
     ]
    },
    {
     "name": "stdout",
     "output_type": "stream",
     "text": [
      "eigenvalues shape torch.Size([5]) eigenvectors shape torch.Size([5, 1024])\n",
      "443 /home/phdcs2/Hard_Disk/Datasets/Deep-Spectral-Segmentation/data/object-segmentation/ECSSD/features/0445_resized.pth\n",
      "dict_keys(['k', 'indices', 'file', 'id', 'model_name', 'patch_size', 'shape'])\n",
      "0445_resized\n"
     ]
    },
    {
     "name": "stderr",
     "output_type": "stream",
     "text": [
      "/home/phdcs2/Hard_Disk/Projects/T2I/deep-spectral-segmentation/venv/lib/python3.8/site-packages/sklearn/decomposition/_pca.py:642: RuntimeWarning: invalid value encountered in divide\n",
      "  self.explained_variance_ratio_ = self.explained_variance_ / total_var\n"
     ]
    },
    {
     "name": "stdout",
     "output_type": "stream",
     "text": [
      "Starting Training\n",
      "epoch: 00, loss: -0.90786\n",
      "epoch: 01, loss: -0.94386\n",
      "epoch: 02, loss: -0.95222\n",
      "epoch: 03, loss: -0.95710\n",
      "epoch: 04, loss: -0.96048\n",
      "epoch: 05, loss: -0.96300\n",
      "epoch: 06, loss: -0.96497\n",
      "epoch: 07, loss: -0.96662\n",
      "epoch: 08, loss: -0.96798\n",
      "epoch: 09, loss: -0.96914\n",
      "torch.Size([1024, 64])\n"
     ]
    },
    {
     "name": "stderr",
     "output_type": "stream",
     "text": [
      " 44%|████▍     | 444/999 [8:51:13<11:18:00, 73.30s/it]"
     ]
    },
    {
     "name": "stdout",
     "output_type": "stream",
     "text": [
      "eigenvalues shape torch.Size([5]) eigenvectors shape torch.Size([5, 1024])\n",
      "444 /home/phdcs2/Hard_Disk/Datasets/Deep-Spectral-Segmentation/data/object-segmentation/ECSSD/features/0446_resized.pth\n",
      "dict_keys(['k', 'indices', 'file', 'id', 'model_name', 'patch_size', 'shape'])\n",
      "0446_resized\n",
      "Starting Training\n",
      "epoch: 00, loss: -0.88629\n",
      "epoch: 01, loss: -0.93035\n",
      "epoch: 02, loss: -0.94206\n",
      "epoch: 03, loss: -0.94868\n",
      "epoch: 04, loss: -0.95329\n",
      "epoch: 05, loss: -0.95669\n",
      "epoch: 06, loss: -0.95933\n",
      "epoch: 07, loss: -0.96142\n",
      "epoch: 08, loss: -0.96312\n",
      "epoch: 09, loss: -0.96459\n",
      "torch.Size([1024, 64])\n"
     ]
    },
    {
     "name": "stderr",
     "output_type": "stream",
     "text": [
      " 45%|████▍     | 445/999 [8:52:30<11:27:24, 74.45s/it]"
     ]
    },
    {
     "name": "stdout",
     "output_type": "stream",
     "text": [
      "eigenvalues shape torch.Size([5]) eigenvectors shape torch.Size([5, 1024])\n",
      "445 /home/phdcs2/Hard_Disk/Datasets/Deep-Spectral-Segmentation/data/object-segmentation/ECSSD/features/0447_resized.pth\n",
      "dict_keys(['k', 'indices', 'file', 'id', 'model_name', 'patch_size', 'shape'])\n",
      "0447_resized\n",
      "Starting Training\n",
      "epoch: 00, loss: -0.86373\n",
      "epoch: 01, loss: -0.92086\n",
      "epoch: 02, loss: -0.93522\n",
      "epoch: 03, loss: -0.94371\n",
      "epoch: 04, loss: -0.94919\n",
      "epoch: 05, loss: -0.95319\n",
      "epoch: 06, loss: -0.95621\n",
      "epoch: 07, loss: -0.95881\n",
      "epoch: 08, loss: -0.96090\n",
      "epoch: 09, loss: -0.96261\n",
      "torch.Size([1024, 64])\n"
     ]
    },
    {
     "name": "stderr",
     "output_type": "stream",
     "text": [
      " 45%|████▍     | 446/999 [8:53:48<11:34:48, 75.39s/it]"
     ]
    },
    {
     "name": "stdout",
     "output_type": "stream",
     "text": [
      "eigenvalues shape torch.Size([5]) eigenvectors shape torch.Size([5, 1024])\n",
      "446 /home/phdcs2/Hard_Disk/Datasets/Deep-Spectral-Segmentation/data/object-segmentation/ECSSD/features/0448_resized.pth\n",
      "dict_keys(['k', 'indices', 'file', 'id', 'model_name', 'patch_size', 'shape'])\n",
      "0448_resized\n"
     ]
    },
    {
     "name": "stderr",
     "output_type": "stream",
     "text": [
      "/home/phdcs2/Hard_Disk/Projects/T2I/deep-spectral-segmentation/venv/lib/python3.8/site-packages/sklearn/decomposition/_pca.py:642: RuntimeWarning: invalid value encountered in divide\n",
      "  self.explained_variance_ratio_ = self.explained_variance_ / total_var\n"
     ]
    },
    {
     "name": "stdout",
     "output_type": "stream",
     "text": [
      "Starting Training\n",
      "epoch: 00, loss: -0.91658\n",
      "epoch: 01, loss: -0.94931\n",
      "epoch: 02, loss: -0.95747\n",
      "epoch: 03, loss: -0.96209\n",
      "epoch: 04, loss: -0.96525\n",
      "epoch: 05, loss: -0.96760\n",
      "epoch: 06, loss: -0.96943\n",
      "epoch: 07, loss: -0.97094\n",
      "epoch: 08, loss: -0.97217\n",
      "epoch: 09, loss: -0.97324\n",
      "torch.Size([1024, 64])\n"
     ]
    },
    {
     "name": "stderr",
     "output_type": "stream",
     "text": [
      " 45%|████▍     | 447/999 [8:55:04<11:35:41, 75.62s/it]"
     ]
    },
    {
     "name": "stdout",
     "output_type": "stream",
     "text": [
      "eigenvalues shape torch.Size([5]) eigenvectors shape torch.Size([5, 1024])\n",
      "447 /home/phdcs2/Hard_Disk/Datasets/Deep-Spectral-Segmentation/data/object-segmentation/ECSSD/features/0449_resized.pth\n",
      "dict_keys(['k', 'indices', 'file', 'id', 'model_name', 'patch_size', 'shape'])\n",
      "0449_resized\n",
      "Starting Training\n",
      "epoch: 00, loss: -0.86978\n",
      "epoch: 01, loss: -0.92288\n",
      "epoch: 02, loss: -0.93654\n",
      "epoch: 03, loss: -0.94421\n",
      "epoch: 04, loss: -0.94946\n",
      "epoch: 05, loss: -0.95319\n",
      "epoch: 06, loss: -0.95623\n",
      "epoch: 07, loss: -0.95856\n",
      "epoch: 08, loss: -0.96055\n",
      "epoch: 09, loss: -0.96224\n",
      "torch.Size([1024, 64])\n"
     ]
    },
    {
     "name": "stderr",
     "output_type": "stream",
     "text": [
      " 45%|████▍     | 448/999 [8:56:17<11:27:57, 74.91s/it]"
     ]
    },
    {
     "name": "stdout",
     "output_type": "stream",
     "text": [
      "eigenvalues shape torch.Size([5]) eigenvectors shape torch.Size([5, 1024])\n",
      "448 /home/phdcs2/Hard_Disk/Datasets/Deep-Spectral-Segmentation/data/object-segmentation/ECSSD/features/0450_resized.pth\n",
      "dict_keys(['k', 'indices', 'file', 'id', 'model_name', 'patch_size', 'shape'])\n",
      "0450_resized\n",
      "Starting Training\n",
      "epoch: 00, loss: -0.92448\n",
      "epoch: 01, loss: -0.95569\n",
      "epoch: 02, loss: -0.96221\n",
      "epoch: 03, loss: -0.96604\n",
      "epoch: 04, loss: -0.96864\n",
      "epoch: 05, loss: -0.97060\n",
      "epoch: 06, loss: -0.97214\n",
      "epoch: 07, loss: -0.97342\n",
      "epoch: 08, loss: -0.97449\n",
      "epoch: 09, loss: -0.97540\n",
      "torch.Size([1024, 64])\n"
     ]
    },
    {
     "name": "stderr",
     "output_type": "stream",
     "text": [
      " 45%|████▍     | 449/999 [8:57:28<11:15:26, 73.68s/it]"
     ]
    },
    {
     "name": "stdout",
     "output_type": "stream",
     "text": [
      "eigenvalues shape torch.Size([5]) eigenvectors shape torch.Size([5, 1024])\n",
      "449 /home/phdcs2/Hard_Disk/Datasets/Deep-Spectral-Segmentation/data/object-segmentation/ECSSD/features/0451_resized.pth\n",
      "dict_keys(['k', 'indices', 'file', 'id', 'model_name', 'patch_size', 'shape'])\n",
      "0451_resized\n"
     ]
    },
    {
     "name": "stderr",
     "output_type": "stream",
     "text": [
      "/home/phdcs2/Hard_Disk/Projects/T2I/deep-spectral-segmentation/venv/lib/python3.8/site-packages/sklearn/decomposition/_pca.py:642: RuntimeWarning: invalid value encountered in divide\n",
      "  self.explained_variance_ratio_ = self.explained_variance_ / total_var\n"
     ]
    },
    {
     "name": "stdout",
     "output_type": "stream",
     "text": [
      "Starting Training\n",
      "epoch: 00, loss: -0.93805\n",
      "epoch: 01, loss: -0.96387\n",
      "epoch: 02, loss: -0.96926\n",
      "epoch: 03, loss: -0.97244\n",
      "epoch: 04, loss: -0.97462\n",
      "epoch: 05, loss: -0.97626\n",
      "epoch: 06, loss: -0.97758\n",
      "epoch: 07, loss: -0.97864\n",
      "epoch: 08, loss: -0.97952\n",
      "epoch: 09, loss: -0.98030\n",
      "torch.Size([1024, 64])\n"
     ]
    },
    {
     "name": "stderr",
     "output_type": "stream",
     "text": [
      " 45%|████▌     | 450/999 [8:58:35<10:54:23, 71.52s/it]"
     ]
    },
    {
     "name": "stdout",
     "output_type": "stream",
     "text": [
      "eigenvalues shape torch.Size([5]) eigenvectors shape torch.Size([5, 1024])\n",
      "450 /home/phdcs2/Hard_Disk/Datasets/Deep-Spectral-Segmentation/data/object-segmentation/ECSSD/features/0452_resized.pth\n",
      "dict_keys(['k', 'indices', 'file', 'id', 'model_name', 'patch_size', 'shape'])\n",
      "0452_resized\n",
      "Starting Training\n",
      "epoch: 00, loss: -0.87709\n",
      "epoch: 01, loss: -0.92762\n",
      "epoch: 02, loss: -0.94024\n",
      "epoch: 03, loss: -0.94755\n",
      "epoch: 04, loss: -0.95230\n",
      "epoch: 05, loss: -0.95588\n",
      "epoch: 06, loss: -0.95861\n",
      "epoch: 07, loss: -0.96079\n",
      "epoch: 08, loss: -0.96268\n",
      "epoch: 09, loss: -0.96423\n",
      "torch.Size([1024, 64])\n"
     ]
    },
    {
     "name": "stderr",
     "output_type": "stream",
     "text": [
      " 45%|████▌     | 451/999 [8:59:51<11:06:10, 72.94s/it]"
     ]
    },
    {
     "name": "stdout",
     "output_type": "stream",
     "text": [
      "eigenvalues shape torch.Size([5]) eigenvectors shape torch.Size([5, 1024])\n",
      "451 /home/phdcs2/Hard_Disk/Datasets/Deep-Spectral-Segmentation/data/object-segmentation/ECSSD/features/0453_resized.pth\n",
      "dict_keys(['k', 'indices', 'file', 'id', 'model_name', 'patch_size', 'shape'])\n",
      "0453_resized\n",
      "Starting Training\n",
      "epoch: 00, loss: -0.84670\n",
      "epoch: 01, loss: -0.90768\n",
      "epoch: 02, loss: -0.92326\n",
      "epoch: 03, loss: -0.93218\n",
      "epoch: 04, loss: -0.93817\n",
      "epoch: 05, loss: -0.94260\n",
      "epoch: 06, loss: -0.94599\n",
      "epoch: 07, loss: -0.94881\n",
      "epoch: 08, loss: -0.95106\n",
      "epoch: 09, loss: -0.95294\n",
      "torch.Size([1024, 64])\n"
     ]
    },
    {
     "name": "stderr",
     "output_type": "stream",
     "text": [
      " 45%|████▌     | 452/999 [9:01:04<11:06:31, 73.11s/it]"
     ]
    },
    {
     "name": "stdout",
     "output_type": "stream",
     "text": [
      "eigenvalues shape torch.Size([5]) eigenvectors shape torch.Size([5, 1024])\n",
      "452 /home/phdcs2/Hard_Disk/Datasets/Deep-Spectral-Segmentation/data/object-segmentation/ECSSD/features/0454_resized.pth\n",
      "dict_keys(['k', 'indices', 'file', 'id', 'model_name', 'patch_size', 'shape'])\n",
      "0454_resized\n",
      "Starting Training\n",
      "epoch: 00, loss: -0.87476\n",
      "epoch: 01, loss: -0.92554\n",
      "epoch: 02, loss: -0.93821\n",
      "epoch: 03, loss: -0.94553\n",
      "epoch: 04, loss: -0.95044\n",
      "epoch: 05, loss: -0.95411\n",
      "epoch: 06, loss: -0.95690\n",
      "epoch: 07, loss: -0.95904\n",
      "epoch: 08, loss: -0.96091\n",
      "epoch: 09, loss: -0.96249\n",
      "torch.Size([1024, 64])\n"
     ]
    },
    {
     "name": "stderr",
     "output_type": "stream",
     "text": [
      " 45%|████▌     | 453/999 [9:02:18<11:05:50, 73.17s/it]"
     ]
    },
    {
     "name": "stdout",
     "output_type": "stream",
     "text": [
      "eigenvalues shape torch.Size([5]) eigenvectors shape torch.Size([5, 1024])\n",
      "453 /home/phdcs2/Hard_Disk/Datasets/Deep-Spectral-Segmentation/data/object-segmentation/ECSSD/features/0455_resized.pth\n",
      "dict_keys(['k', 'indices', 'file', 'id', 'model_name', 'patch_size', 'shape'])\n",
      "0455_resized\n",
      "Starting Training\n",
      "epoch: 00, loss: -0.85522\n",
      "epoch: 01, loss: -0.91054\n",
      "epoch: 02, loss: -0.92624\n",
      "epoch: 03, loss: -0.93518\n",
      "epoch: 04, loss: -0.94122\n",
      "epoch: 05, loss: -0.94563\n",
      "epoch: 06, loss: -0.94916\n",
      "epoch: 07, loss: -0.95189\n",
      "epoch: 08, loss: -0.95421\n",
      "epoch: 09, loss: -0.95617\n",
      "torch.Size([1024, 64])\n"
     ]
    },
    {
     "name": "stderr",
     "output_type": "stream",
     "text": [
      " 45%|████▌     | 454/999 [9:03:30<11:00:54, 72.76s/it]"
     ]
    },
    {
     "name": "stdout",
     "output_type": "stream",
     "text": [
      "eigenvalues shape torch.Size([5]) eigenvectors shape torch.Size([5, 1024])\n",
      "454 /home/phdcs2/Hard_Disk/Datasets/Deep-Spectral-Segmentation/data/object-segmentation/ECSSD/features/0456_resized.pth\n",
      "dict_keys(['k', 'indices', 'file', 'id', 'model_name', 'patch_size', 'shape'])\n",
      "0456_resized\n",
      "Starting Training\n",
      "epoch: 00, loss: -0.85719\n",
      "epoch: 01, loss: -0.91263\n",
      "epoch: 02, loss: -0.92770\n",
      "epoch: 03, loss: -0.93598\n",
      "epoch: 04, loss: -0.94167\n",
      "epoch: 05, loss: -0.94577\n",
      "epoch: 06, loss: -0.94899\n",
      "epoch: 07, loss: -0.95164\n",
      "epoch: 08, loss: -0.95371\n",
      "epoch: 09, loss: -0.95560\n",
      "torch.Size([1024, 64])\n"
     ]
    },
    {
     "name": "stderr",
     "output_type": "stream",
     "text": [
      " 46%|████▌     | 455/999 [9:04:38<10:48:41, 71.55s/it]"
     ]
    },
    {
     "name": "stdout",
     "output_type": "stream",
     "text": [
      "eigenvalues shape torch.Size([5]) eigenvectors shape torch.Size([5, 1024])\n",
      "455 /home/phdcs2/Hard_Disk/Datasets/Deep-Spectral-Segmentation/data/object-segmentation/ECSSD/features/0457_resized.pth\n",
      "dict_keys(['k', 'indices', 'file', 'id', 'model_name', 'patch_size', 'shape'])\n",
      "0457_resized\n",
      "Starting Training\n",
      "epoch: 00, loss: -0.85357\n",
      "epoch: 01, loss: -0.91228\n",
      "epoch: 02, loss: -0.92758\n",
      "epoch: 03, loss: -0.93588\n",
      "epoch: 04, loss: -0.94161\n",
      "epoch: 05, loss: -0.94575\n",
      "epoch: 06, loss: -0.94901\n",
      "epoch: 07, loss: -0.95167\n",
      "epoch: 08, loss: -0.95395\n",
      "epoch: 09, loss: -0.95580\n",
      "torch.Size([1024, 64])\n"
     ]
    },
    {
     "name": "stderr",
     "output_type": "stream",
     "text": [
      " 46%|████▌     | 456/999 [9:05:42<10:25:40, 69.14s/it]"
     ]
    },
    {
     "name": "stdout",
     "output_type": "stream",
     "text": [
      "eigenvalues shape torch.Size([5]) eigenvectors shape torch.Size([5, 1024])\n",
      "456 /home/phdcs2/Hard_Disk/Datasets/Deep-Spectral-Segmentation/data/object-segmentation/ECSSD/features/0458_resized.pth\n",
      "dict_keys(['k', 'indices', 'file', 'id', 'model_name', 'patch_size', 'shape'])\n",
      "0458_resized\n",
      "Starting Training\n",
      "epoch: 00, loss: -0.85793\n",
      "epoch: 01, loss: -0.92035\n",
      "epoch: 02, loss: -0.93536\n",
      "epoch: 03, loss: -0.94348\n",
      "epoch: 04, loss: -0.94892\n",
      "epoch: 05, loss: -0.95273\n",
      "epoch: 06, loss: -0.95582\n",
      "epoch: 07, loss: -0.95815\n",
      "epoch: 08, loss: -0.96032\n",
      "epoch: 09, loss: -0.96204\n",
      "torch.Size([1024, 64])\n"
     ]
    },
    {
     "name": "stderr",
     "output_type": "stream",
     "text": [
      " 46%|████▌     | 457/999 [9:06:58<10:44:00, 71.29s/it]"
     ]
    },
    {
     "name": "stdout",
     "output_type": "stream",
     "text": [
      "eigenvalues shape torch.Size([5]) eigenvectors shape torch.Size([5, 1024])\n",
      "457 /home/phdcs2/Hard_Disk/Datasets/Deep-Spectral-Segmentation/data/object-segmentation/ECSSD/features/0459_resized.pth\n",
      "dict_keys(['k', 'indices', 'file', 'id', 'model_name', 'patch_size', 'shape'])\n",
      "0459_resized\n",
      "Starting Training\n",
      "epoch: 00, loss: -0.93227\n",
      "epoch: 01, loss: -0.96042\n",
      "epoch: 02, loss: -0.96668\n",
      "epoch: 03, loss: -0.97027\n",
      "epoch: 04, loss: -0.97275\n",
      "epoch: 05, loss: -0.97462\n",
      "epoch: 06, loss: -0.97607\n",
      "epoch: 07, loss: -0.97724\n",
      "epoch: 08, loss: -0.97823\n",
      "epoch: 09, loss: -0.97907\n",
      "torch.Size([1024, 64])\n"
     ]
    },
    {
     "name": "stderr",
     "output_type": "stream",
     "text": [
      " 46%|████▌     | 458/999 [9:08:10<10:43:19, 71.35s/it]"
     ]
    },
    {
     "name": "stdout",
     "output_type": "stream",
     "text": [
      "eigenvalues shape torch.Size([5]) eigenvectors shape torch.Size([5, 1024])\n",
      "458 /home/phdcs2/Hard_Disk/Datasets/Deep-Spectral-Segmentation/data/object-segmentation/ECSSD/features/0460_resized.pth\n",
      "dict_keys(['k', 'indices', 'file', 'id', 'model_name', 'patch_size', 'shape'])\n",
      "0460_resized\n",
      "Starting Training\n",
      "epoch: 00, loss: -0.88523\n",
      "epoch: 01, loss: -0.93270\n",
      "epoch: 02, loss: -0.94421\n",
      "epoch: 03, loss: -0.95077\n",
      "epoch: 04, loss: -0.95515\n",
      "epoch: 05, loss: -0.95831\n",
      "epoch: 06, loss: -0.96087\n",
      "epoch: 07, loss: -0.96303\n",
      "epoch: 08, loss: -0.96473\n",
      "epoch: 09, loss: -0.96611\n",
      "torch.Size([1024, 64])\n"
     ]
    },
    {
     "name": "stderr",
     "output_type": "stream",
     "text": [
      " 46%|████▌     | 459/999 [9:09:21<10:41:53, 71.32s/it]"
     ]
    },
    {
     "name": "stdout",
     "output_type": "stream",
     "text": [
      "eigenvalues shape torch.Size([5]) eigenvectors shape torch.Size([5, 1024])\n",
      "459 /home/phdcs2/Hard_Disk/Datasets/Deep-Spectral-Segmentation/data/object-segmentation/ECSSD/features/0461_resized.pth\n",
      "dict_keys(['k', 'indices', 'file', 'id', 'model_name', 'patch_size', 'shape'])\n",
      "0461_resized\n",
      "Starting Training\n",
      "epoch: 00, loss: -0.92662\n",
      "epoch: 01, loss: -0.95504\n",
      "epoch: 02, loss: -0.96185\n",
      "epoch: 03, loss: -0.96577\n",
      "epoch: 04, loss: -0.96845\n",
      "epoch: 05, loss: -0.97045\n",
      "epoch: 06, loss: -0.97204\n",
      "epoch: 07, loss: -0.97335\n",
      "epoch: 08, loss: -0.97443\n",
      "epoch: 09, loss: -0.97534\n",
      "torch.Size([1024, 64])\n"
     ]
    },
    {
     "name": "stderr",
     "output_type": "stream",
     "text": [
      " 46%|████▌     | 460/999 [9:10:35<10:47:13, 72.05s/it]"
     ]
    },
    {
     "name": "stdout",
     "output_type": "stream",
     "text": [
      "eigenvalues shape torch.Size([5]) eigenvectors shape torch.Size([5, 1024])\n",
      "460 /home/phdcs2/Hard_Disk/Datasets/Deep-Spectral-Segmentation/data/object-segmentation/ECSSD/features/0462_resized.pth\n",
      "dict_keys(['k', 'indices', 'file', 'id', 'model_name', 'patch_size', 'shape'])\n",
      "0462_resized\n",
      "Starting Training\n",
      "epoch: 00, loss: -0.91834\n",
      "epoch: 01, loss: -0.95416\n",
      "epoch: 02, loss: -0.96159\n",
      "epoch: 03, loss: -0.96594\n",
      "epoch: 04, loss: -0.96886\n",
      "epoch: 05, loss: -0.97106\n",
      "epoch: 06, loss: -0.97282\n",
      "epoch: 07, loss: -0.97422\n",
      "epoch: 08, loss: -0.97540\n",
      "epoch: 09, loss: -0.97642\n",
      "torch.Size([1024, 64])\n"
     ]
    },
    {
     "name": "stderr",
     "output_type": "stream",
     "text": [
      " 46%|████▌     | 461/999 [9:11:36<10:16:09, 68.72s/it]"
     ]
    },
    {
     "name": "stdout",
     "output_type": "stream",
     "text": [
      "eigenvalues shape torch.Size([5]) eigenvectors shape torch.Size([5, 1024])\n",
      "461 /home/phdcs2/Hard_Disk/Datasets/Deep-Spectral-Segmentation/data/object-segmentation/ECSSD/features/0463_resized.pth\n",
      "dict_keys(['k', 'indices', 'file', 'id', 'model_name', 'patch_size', 'shape'])\n",
      "0463_resized\n"
     ]
    },
    {
     "name": "stderr",
     "output_type": "stream",
     "text": [
      "/home/phdcs2/Hard_Disk/Projects/T2I/deep-spectral-segmentation/venv/lib/python3.8/site-packages/sklearn/decomposition/_pca.py:642: RuntimeWarning: invalid value encountered in divide\n",
      "  self.explained_variance_ratio_ = self.explained_variance_ / total_var\n"
     ]
    },
    {
     "name": "stdout",
     "output_type": "stream",
     "text": [
      "Starting Training\n",
      "epoch: 00, loss: -0.91656\n",
      "epoch: 01, loss: -0.94783\n",
      "epoch: 02, loss: -0.95583\n",
      "epoch: 03, loss: -0.96051\n",
      "epoch: 04, loss: -0.96373\n",
      "epoch: 05, loss: -0.96615\n",
      "epoch: 06, loss: -0.96805\n",
      "epoch: 07, loss: -0.96957\n",
      "epoch: 08, loss: -0.97087\n",
      "epoch: 09, loss: -0.97199\n",
      "torch.Size([1024, 64])\n"
     ]
    },
    {
     "name": "stderr",
     "output_type": "stream",
     "text": [
      " 46%|████▌     | 462/999 [9:12:40<10:03:33, 67.44s/it]"
     ]
    },
    {
     "name": "stdout",
     "output_type": "stream",
     "text": [
      "eigenvalues shape torch.Size([5]) eigenvectors shape torch.Size([5, 1024])\n",
      "462 /home/phdcs2/Hard_Disk/Datasets/Deep-Spectral-Segmentation/data/object-segmentation/ECSSD/features/0464_resized.pth\n",
      "dict_keys(['k', 'indices', 'file', 'id', 'model_name', 'patch_size', 'shape'])\n",
      "0464_resized\n",
      "Starting Training\n",
      "epoch: 00, loss: -0.84273\n",
      "epoch: 01, loss: -0.90737\n",
      "epoch: 02, loss: -0.92432\n",
      "epoch: 03, loss: -0.93371\n",
      "epoch: 04, loss: -0.94007\n",
      "epoch: 05, loss: -0.94451\n",
      "epoch: 06, loss: -0.94805\n",
      "epoch: 07, loss: -0.95070\n",
      "epoch: 08, loss: -0.95303\n",
      "epoch: 09, loss: -0.95495\n",
      "torch.Size([1024, 64])\n"
     ]
    },
    {
     "name": "stderr",
     "output_type": "stream",
     "text": [
      " 46%|████▋     | 463/999 [9:13:47<10:01:06, 67.29s/it]"
     ]
    },
    {
     "name": "stdout",
     "output_type": "stream",
     "text": [
      "eigenvalues shape torch.Size([5]) eigenvectors shape torch.Size([5, 1024])\n",
      "463 /home/phdcs2/Hard_Disk/Datasets/Deep-Spectral-Segmentation/data/object-segmentation/ECSSD/features/0465_resized.pth\n",
      "dict_keys(['k', 'indices', 'file', 'id', 'model_name', 'patch_size', 'shape'])\n",
      "0465_resized\n",
      "Starting Training\n",
      "epoch: 00, loss: -0.86408\n",
      "epoch: 01, loss: -0.91849\n",
      "epoch: 02, loss: -0.93251\n",
      "epoch: 03, loss: -0.94074\n",
      "epoch: 04, loss: -0.94633\n",
      "epoch: 05, loss: -0.95036\n",
      "epoch: 06, loss: -0.95347\n",
      "epoch: 07, loss: -0.95611\n",
      "epoch: 08, loss: -0.95809\n",
      "epoch: 09, loss: -0.95990\n",
      "torch.Size([1024, 64])\n"
     ]
    },
    {
     "name": "stderr",
     "output_type": "stream",
     "text": [
      " 46%|████▋     | 464/999 [9:14:47<9:41:07, 65.17s/it] "
     ]
    },
    {
     "name": "stdout",
     "output_type": "stream",
     "text": [
      "eigenvalues shape torch.Size([5]) eigenvectors shape torch.Size([5, 1024])\n",
      "464 /home/phdcs2/Hard_Disk/Datasets/Deep-Spectral-Segmentation/data/object-segmentation/ECSSD/features/0466_resized.pth\n",
      "dict_keys(['k', 'indices', 'file', 'id', 'model_name', 'patch_size', 'shape'])\n",
      "0466_resized\n"
     ]
    },
    {
     "name": "stderr",
     "output_type": "stream",
     "text": [
      "/home/phdcs2/Hard_Disk/Projects/T2I/deep-spectral-segmentation/venv/lib/python3.8/site-packages/sklearn/decomposition/_pca.py:642: RuntimeWarning: invalid value encountered in divide\n",
      "  self.explained_variance_ratio_ = self.explained_variance_ / total_var\n"
     ]
    },
    {
     "name": "stdout",
     "output_type": "stream",
     "text": [
      "Starting Training\n",
      "epoch: 00, loss: -0.91973\n",
      "epoch: 01, loss: -0.95475\n",
      "epoch: 02, loss: -0.96244\n",
      "epoch: 03, loss: -0.96688\n",
      "epoch: 04, loss: -0.96986\n",
      "epoch: 05, loss: -0.97204\n",
      "epoch: 06, loss: -0.97374\n",
      "epoch: 07, loss: -0.97512\n",
      "epoch: 08, loss: -0.97627\n",
      "epoch: 09, loss: -0.97722\n",
      "torch.Size([1024, 64])\n"
     ]
    },
    {
     "name": "stderr",
     "output_type": "stream",
     "text": [
      " 47%|████▋     | 465/999 [9:15:45<9:19:33, 62.87s/it]"
     ]
    },
    {
     "name": "stdout",
     "output_type": "stream",
     "text": [
      "eigenvalues shape torch.Size([5]) eigenvectors shape torch.Size([5, 1024])\n",
      "465 /home/phdcs2/Hard_Disk/Datasets/Deep-Spectral-Segmentation/data/object-segmentation/ECSSD/features/0467_resized.pth\n",
      "dict_keys(['k', 'indices', 'file', 'id', 'model_name', 'patch_size', 'shape'])\n",
      "0467_resized\n"
     ]
    },
    {
     "name": "stderr",
     "output_type": "stream",
     "text": [
      "/home/phdcs2/Hard_Disk/Projects/T2I/deep-spectral-segmentation/venv/lib/python3.8/site-packages/sklearn/decomposition/_pca.py:642: RuntimeWarning: invalid value encountered in divide\n",
      "  self.explained_variance_ratio_ = self.explained_variance_ / total_var\n"
     ]
    },
    {
     "name": "stdout",
     "output_type": "stream",
     "text": [
      "Starting Training\n",
      "epoch: 00, loss: -0.91312\n",
      "epoch: 01, loss: -0.94869\n",
      "epoch: 02, loss: -0.95667\n",
      "epoch: 03, loss: -0.96142\n",
      "epoch: 04, loss: -0.96461\n",
      "epoch: 05, loss: -0.96701\n",
      "epoch: 06, loss: -0.96889\n",
      "epoch: 07, loss: -0.97044\n",
      "epoch: 08, loss: -0.97170\n",
      "epoch: 09, loss: -0.97280\n",
      "torch.Size([1024, 64])\n"
     ]
    },
    {
     "name": "stderr",
     "output_type": "stream",
     "text": [
      " 47%|████▋     | 466/999 [9:16:41<9:00:42, 60.87s/it]"
     ]
    },
    {
     "name": "stdout",
     "output_type": "stream",
     "text": [
      "eigenvalues shape torch.Size([5]) eigenvectors shape torch.Size([5, 1024])\n",
      "466 /home/phdcs2/Hard_Disk/Datasets/Deep-Spectral-Segmentation/data/object-segmentation/ECSSD/features/0468_resized.pth\n",
      "dict_keys(['k', 'indices', 'file', 'id', 'model_name', 'patch_size', 'shape'])\n",
      "0468_resized\n"
     ]
    },
    {
     "name": "stderr",
     "output_type": "stream",
     "text": [
      "/home/phdcs2/Hard_Disk/Projects/T2I/deep-spectral-segmentation/venv/lib/python3.8/site-packages/sklearn/decomposition/_pca.py:642: RuntimeWarning: invalid value encountered in divide\n",
      "  self.explained_variance_ratio_ = self.explained_variance_ / total_var\n"
     ]
    },
    {
     "name": "stdout",
     "output_type": "stream",
     "text": [
      "Starting Training\n",
      "epoch: 00, loss: -0.92336\n",
      "epoch: 01, loss: -0.95346\n",
      "epoch: 02, loss: -0.96077\n",
      "epoch: 03, loss: -0.96498\n",
      "epoch: 04, loss: -0.96785\n",
      "epoch: 05, loss: -0.96998\n",
      "epoch: 06, loss: -0.97166\n",
      "epoch: 07, loss: -0.97299\n",
      "epoch: 08, loss: -0.97412\n",
      "epoch: 09, loss: -0.97511\n",
      "torch.Size([1024, 64])\n"
     ]
    },
    {
     "name": "stderr",
     "output_type": "stream",
     "text": [
      " 47%|████▋     | 467/999 [9:17:37<8:47:50, 59.53s/it]"
     ]
    },
    {
     "name": "stdout",
     "output_type": "stream",
     "text": [
      "eigenvalues shape torch.Size([5]) eigenvectors shape torch.Size([5, 1024])\n",
      "467 /home/phdcs2/Hard_Disk/Datasets/Deep-Spectral-Segmentation/data/object-segmentation/ECSSD/features/0469_resized.pth\n",
      "dict_keys(['k', 'indices', 'file', 'id', 'model_name', 'patch_size', 'shape'])\n",
      "0469_resized\n",
      "Starting Training\n",
      "epoch: 00, loss: -0.92913\n",
      "epoch: 01, loss: -0.95838\n",
      "epoch: 02, loss: -0.96507\n",
      "epoch: 03, loss: -0.96892\n",
      "epoch: 04, loss: -0.97156\n",
      "epoch: 05, loss: -0.97351\n",
      "epoch: 06, loss: -0.97505\n",
      "epoch: 07, loss: -0.97631\n",
      "epoch: 08, loss: -0.97733\n",
      "epoch: 09, loss: -0.97824\n",
      "torch.Size([1024, 64])\n"
     ]
    },
    {
     "name": "stderr",
     "output_type": "stream",
     "text": [
      " 47%|████▋     | 468/999 [9:18:43<9:02:53, 61.34s/it]"
     ]
    },
    {
     "name": "stdout",
     "output_type": "stream",
     "text": [
      "eigenvalues shape torch.Size([5]) eigenvectors shape torch.Size([5, 1024])\n",
      "468 /home/phdcs2/Hard_Disk/Datasets/Deep-Spectral-Segmentation/data/object-segmentation/ECSSD/features/0470_resized.pth\n",
      "dict_keys(['k', 'indices', 'file', 'id', 'model_name', 'patch_size', 'shape'])\n",
      "0470_resized\n",
      "Starting Training\n",
      "epoch: 00, loss: -0.88174\n",
      "epoch: 01, loss: -0.93069\n",
      "epoch: 02, loss: -0.94215\n",
      "epoch: 03, loss: -0.94861\n",
      "epoch: 04, loss: -0.95308\n",
      "epoch: 05, loss: -0.95635\n",
      "epoch: 06, loss: -0.95906\n",
      "epoch: 07, loss: -0.96109\n",
      "epoch: 08, loss: -0.96283\n",
      "epoch: 09, loss: -0.96426\n",
      "torch.Size([1024, 64])\n"
     ]
    },
    {
     "name": "stderr",
     "output_type": "stream",
     "text": [
      " 47%|████▋     | 469/999 [9:19:54<9:26:39, 64.15s/it]"
     ]
    },
    {
     "name": "stdout",
     "output_type": "stream",
     "text": [
      "eigenvalues shape torch.Size([5]) eigenvectors shape torch.Size([5, 1024])\n",
      "469 /home/phdcs2/Hard_Disk/Datasets/Deep-Spectral-Segmentation/data/object-segmentation/ECSSD/features/0471_resized.pth\n",
      "dict_keys(['k', 'indices', 'file', 'id', 'model_name', 'patch_size', 'shape'])\n",
      "0471_resized\n",
      "Starting Training\n",
      "epoch: 00, loss: -0.87577\n",
      "epoch: 01, loss: -0.92291\n",
      "epoch: 02, loss: -0.93627\n",
      "epoch: 03, loss: -0.94398\n",
      "epoch: 04, loss: -0.94902\n",
      "epoch: 05, loss: -0.95274\n",
      "epoch: 06, loss: -0.95561\n",
      "epoch: 07, loss: -0.95800\n",
      "epoch: 08, loss: -0.95987\n",
      "epoch: 09, loss: -0.96157\n",
      "torch.Size([1024, 64])\n"
     ]
    },
    {
     "name": "stderr",
     "output_type": "stream",
     "text": [
      " 47%|████▋     | 470/999 [9:21:04<9:42:34, 66.08s/it]"
     ]
    },
    {
     "name": "stdout",
     "output_type": "stream",
     "text": [
      "eigenvalues shape torch.Size([5]) eigenvectors shape torch.Size([5, 1024])\n",
      "470 /home/phdcs2/Hard_Disk/Datasets/Deep-Spectral-Segmentation/data/object-segmentation/ECSSD/features/0472_resized.pth\n",
      "dict_keys(['k', 'indices', 'file', 'id', 'model_name', 'patch_size', 'shape'])\n",
      "0472_resized\n"
     ]
    },
    {
     "name": "stderr",
     "output_type": "stream",
     "text": [
      "/home/phdcs2/Hard_Disk/Projects/T2I/deep-spectral-segmentation/venv/lib/python3.8/site-packages/sklearn/decomposition/_pca.py:642: RuntimeWarning: invalid value encountered in divide\n",
      "  self.explained_variance_ratio_ = self.explained_variance_ / total_var\n"
     ]
    },
    {
     "name": "stdout",
     "output_type": "stream",
     "text": [
      "Starting Training\n",
      "epoch: 00, loss: -0.92492\n",
      "epoch: 01, loss: -0.95398\n",
      "epoch: 02, loss: -0.96089\n",
      "epoch: 03, loss: -0.96499\n",
      "epoch: 04, loss: -0.96779\n",
      "epoch: 05, loss: -0.96991\n",
      "epoch: 06, loss: -0.97155\n",
      "epoch: 07, loss: -0.97289\n",
      "epoch: 08, loss: -0.97404\n",
      "epoch: 09, loss: -0.97499\n",
      "torch.Size([1024, 64])\n"
     ]
    },
    {
     "name": "stderr",
     "output_type": "stream",
     "text": [
      " 47%|████▋     | 471/999 [9:22:11<9:43:08, 66.27s/it]"
     ]
    },
    {
     "name": "stdout",
     "output_type": "stream",
     "text": [
      "eigenvalues shape torch.Size([5]) eigenvectors shape torch.Size([5, 1024])\n",
      "471 /home/phdcs2/Hard_Disk/Datasets/Deep-Spectral-Segmentation/data/object-segmentation/ECSSD/features/0473_resized.pth\n",
      "dict_keys(['k', 'indices', 'file', 'id', 'model_name', 'patch_size', 'shape'])\n",
      "0473_resized\n",
      "Starting Training\n",
      "epoch: 00, loss: -0.86299\n",
      "epoch: 01, loss: -0.92140\n",
      "epoch: 02, loss: -0.93545\n",
      "epoch: 03, loss: -0.94336\n",
      "epoch: 04, loss: -0.94867\n",
      "epoch: 05, loss: -0.95268\n",
      "epoch: 06, loss: -0.95563\n",
      "epoch: 07, loss: -0.95797\n",
      "epoch: 08, loss: -0.95997\n",
      "epoch: 09, loss: -0.96166\n",
      "torch.Size([1024, 64])\n"
     ]
    },
    {
     "name": "stderr",
     "output_type": "stream",
     "text": [
      " 47%|████▋     | 472/999 [9:23:27<10:08:12, 69.25s/it]"
     ]
    },
    {
     "name": "stdout",
     "output_type": "stream",
     "text": [
      "eigenvalues shape torch.Size([5]) eigenvectors shape torch.Size([5, 1024])\n",
      "472 /home/phdcs2/Hard_Disk/Datasets/Deep-Spectral-Segmentation/data/object-segmentation/ECSSD/features/0474_resized.pth\n",
      "dict_keys(['k', 'indices', 'file', 'id', 'model_name', 'patch_size', 'shape'])\n",
      "0474_resized\n",
      "Starting Training\n",
      "epoch: 00, loss: -0.86912\n",
      "epoch: 01, loss: -0.92372\n",
      "epoch: 02, loss: -0.93753\n",
      "epoch: 03, loss: -0.94519\n",
      "epoch: 04, loss: -0.95044\n",
      "epoch: 05, loss: -0.95410\n",
      "epoch: 06, loss: -0.95698\n",
      "epoch: 07, loss: -0.95936\n",
      "epoch: 08, loss: -0.96139\n",
      "epoch: 09, loss: -0.96298\n",
      "torch.Size([1024, 64])\n"
     ]
    },
    {
     "name": "stderr",
     "output_type": "stream",
     "text": [
      " 47%|████▋     | 473/999 [9:24:41<10:18:13, 70.52s/it]"
     ]
    },
    {
     "name": "stdout",
     "output_type": "stream",
     "text": [
      "eigenvalues shape torch.Size([5]) eigenvectors shape torch.Size([5, 1024])\n",
      "473 /home/phdcs2/Hard_Disk/Datasets/Deep-Spectral-Segmentation/data/object-segmentation/ECSSD/features/0475_resized.pth\n",
      "dict_keys(['k', 'indices', 'file', 'id', 'model_name', 'patch_size', 'shape'])\n",
      "0475_resized\n"
     ]
    },
    {
     "name": "stderr",
     "output_type": "stream",
     "text": [
      "/home/phdcs2/Hard_Disk/Projects/T2I/deep-spectral-segmentation/venv/lib/python3.8/site-packages/sklearn/decomposition/_pca.py:642: RuntimeWarning: invalid value encountered in divide\n",
      "  self.explained_variance_ratio_ = self.explained_variance_ / total_var\n"
     ]
    },
    {
     "name": "stdout",
     "output_type": "stream",
     "text": [
      "Starting Training\n",
      "epoch: 00, loss: -0.92556\n",
      "epoch: 01, loss: -0.95261\n",
      "epoch: 02, loss: -0.95938\n",
      "epoch: 03, loss: -0.96334\n",
      "epoch: 04, loss: -0.96607\n",
      "epoch: 05, loss: -0.96817\n",
      "epoch: 06, loss: -0.96984\n",
      "epoch: 07, loss: -0.97119\n",
      "epoch: 08, loss: -0.97233\n",
      "epoch: 09, loss: -0.97331\n",
      "torch.Size([1024, 64])\n"
     ]
    },
    {
     "name": "stderr",
     "output_type": "stream",
     "text": [
      " 47%|████▋     | 474/999 [9:25:46<10:03:06, 68.93s/it]"
     ]
    },
    {
     "name": "stdout",
     "output_type": "stream",
     "text": [
      "eigenvalues shape torch.Size([5]) eigenvectors shape torch.Size([5, 1024])\n",
      "474 /home/phdcs2/Hard_Disk/Datasets/Deep-Spectral-Segmentation/data/object-segmentation/ECSSD/features/0476_resized.pth\n",
      "dict_keys(['k', 'indices', 'file', 'id', 'model_name', 'patch_size', 'shape'])\n",
      "0476_resized\n",
      "Starting Training\n",
      "epoch: 00, loss: -0.87032\n",
      "epoch: 01, loss: -0.92185\n",
      "epoch: 02, loss: -0.93525\n",
      "epoch: 03, loss: -0.94321\n",
      "epoch: 04, loss: -0.94847\n",
      "epoch: 05, loss: -0.95233\n",
      "epoch: 06, loss: -0.95533\n",
      "epoch: 07, loss: -0.95773\n",
      "epoch: 08, loss: -0.95979\n",
      "epoch: 09, loss: -0.96143\n",
      "torch.Size([1024, 64])\n"
     ]
    },
    {
     "name": "stderr",
     "output_type": "stream",
     "text": [
      " 48%|████▊     | 475/999 [9:27:02<10:20:19, 71.03s/it]"
     ]
    },
    {
     "name": "stdout",
     "output_type": "stream",
     "text": [
      "eigenvalues shape torch.Size([5]) eigenvectors shape torch.Size([5, 1024])\n",
      "475 /home/phdcs2/Hard_Disk/Datasets/Deep-Spectral-Segmentation/data/object-segmentation/ECSSD/features/0477_resized.pth\n",
      "dict_keys(['k', 'indices', 'file', 'id', 'model_name', 'patch_size', 'shape'])\n",
      "0477_resized\n"
     ]
    },
    {
     "name": "stderr",
     "output_type": "stream",
     "text": [
      "/home/phdcs2/Hard_Disk/Projects/T2I/deep-spectral-segmentation/venv/lib/python3.8/site-packages/sklearn/decomposition/_pca.py:642: RuntimeWarning: invalid value encountered in divide\n",
      "  self.explained_variance_ratio_ = self.explained_variance_ / total_var\n"
     ]
    },
    {
     "name": "stdout",
     "output_type": "stream",
     "text": [
      "Starting Training\n",
      "epoch: 00, loss: -0.91594\n",
      "epoch: 01, loss: -0.95138\n",
      "epoch: 02, loss: -0.95934\n",
      "epoch: 03, loss: -0.96383\n",
      "epoch: 04, loss: -0.96695\n",
      "epoch: 05, loss: -0.96922\n",
      "epoch: 06, loss: -0.97097\n",
      "epoch: 07, loss: -0.97241\n",
      "epoch: 08, loss: -0.97362\n",
      "epoch: 09, loss: -0.97464\n",
      "torch.Size([1024, 64])\n"
     ]
    },
    {
     "name": "stderr",
     "output_type": "stream",
     "text": [
      " 48%|████▊     | 476/999 [9:28:17<10:30:46, 72.36s/it]"
     ]
    },
    {
     "name": "stdout",
     "output_type": "stream",
     "text": [
      "eigenvalues shape torch.Size([5]) eigenvectors shape torch.Size([5, 1024])\n",
      "476 /home/phdcs2/Hard_Disk/Datasets/Deep-Spectral-Segmentation/data/object-segmentation/ECSSD/features/0478_resized.pth\n",
      "dict_keys(['k', 'indices', 'file', 'id', 'model_name', 'patch_size', 'shape'])\n",
      "0478_resized\n",
      "Starting Training\n",
      "epoch: 00, loss: -0.92497\n",
      "epoch: 01, loss: -0.95400\n",
      "epoch: 02, loss: -0.96087\n",
      "epoch: 03, loss: -0.96488\n",
      "epoch: 04, loss: -0.96765\n",
      "epoch: 05, loss: -0.96972\n",
      "epoch: 06, loss: -0.97135\n",
      "epoch: 07, loss: -0.97271\n",
      "epoch: 08, loss: -0.97381\n",
      "epoch: 09, loss: -0.97478\n",
      "torch.Size([1024, 64])\n"
     ]
    },
    {
     "name": "stderr",
     "output_type": "stream",
     "text": [
      " 48%|████▊     | 477/999 [9:29:36<10:46:54, 74.36s/it]"
     ]
    },
    {
     "name": "stdout",
     "output_type": "stream",
     "text": [
      "eigenvalues shape torch.Size([5]) eigenvectors shape torch.Size([5, 1024])\n",
      "477 /home/phdcs2/Hard_Disk/Datasets/Deep-Spectral-Segmentation/data/object-segmentation/ECSSD/features/0479_resized.pth\n",
      "dict_keys(['k', 'indices', 'file', 'id', 'model_name', 'patch_size', 'shape'])\n",
      "0479_resized\n"
     ]
    },
    {
     "name": "stderr",
     "output_type": "stream",
     "text": [
      "/home/phdcs2/Hard_Disk/Projects/T2I/deep-spectral-segmentation/venv/lib/python3.8/site-packages/sklearn/decomposition/_pca.py:642: RuntimeWarning: invalid value encountered in divide\n",
      "  self.explained_variance_ratio_ = self.explained_variance_ / total_var\n"
     ]
    },
    {
     "name": "stdout",
     "output_type": "stream",
     "text": [
      "Starting Training\n",
      "epoch: 00, loss: -0.92790\n",
      "epoch: 01, loss: -0.95537\n",
      "epoch: 02, loss: -0.96231\n",
      "epoch: 03, loss: -0.96638\n",
      "epoch: 04, loss: -0.96919\n",
      "epoch: 05, loss: -0.97124\n",
      "epoch: 06, loss: -0.97288\n",
      "epoch: 07, loss: -0.97421\n",
      "epoch: 08, loss: -0.97534\n",
      "epoch: 09, loss: -0.97629\n",
      "torch.Size([1024, 64])\n"
     ]
    },
    {
     "name": "stderr",
     "output_type": "stream",
     "text": [
      " 48%|████▊     | 478/999 [9:30:54<10:54:08, 75.33s/it]"
     ]
    },
    {
     "name": "stdout",
     "output_type": "stream",
     "text": [
      "eigenvalues shape torch.Size([5]) eigenvectors shape torch.Size([5, 1024])\n",
      "478 /home/phdcs2/Hard_Disk/Datasets/Deep-Spectral-Segmentation/data/object-segmentation/ECSSD/features/0480_resized.pth\n",
      "dict_keys(['k', 'indices', 'file', 'id', 'model_name', 'patch_size', 'shape'])\n",
      "0480_resized\n",
      "Starting Training\n",
      "epoch: 00, loss: -0.86018\n",
      "epoch: 01, loss: -0.91842\n",
      "epoch: 02, loss: -0.93335\n",
      "epoch: 03, loss: -0.94171\n",
      "epoch: 04, loss: -0.94716\n",
      "epoch: 05, loss: -0.95130\n",
      "epoch: 06, loss: -0.95430\n",
      "epoch: 07, loss: -0.95677\n",
      "epoch: 08, loss: -0.95886\n",
      "epoch: 09, loss: -0.96066\n",
      "torch.Size([1024, 64])\n"
     ]
    },
    {
     "name": "stderr",
     "output_type": "stream",
     "text": [
      " 28%|██▊       | 277/999 [5:37:36<17:15:02, 86.01s/it]"
     ]
    },
    {
     "name": "stdout",
     "output_type": "stream",
     "text": [
      "eigenvalues shape torch.Size([5]) eigenvectors shape torch.Size([5, 1024])\n",
      "277 /home/phdcs2/Hard_Disk/Datasets/Deep-Spectral-Segmentation/data/object-segmentation/ECSSD/features/0279_resized.pth\n",
      "dict_keys(['k', 'indices', 'file', 'id', 'model_name', 'patch_size', 'shape'])\n",
      "0279_resized\n",
      "Starting Training\n",
      "epoch: 00, loss: -0.84287\n",
      "epoch: 01, loss: -0.90605\n",
      "epoch: 02, loss: -0.92307\n",
      "epoch: 03, loss: -0.93231\n",
      "epoch: 04, loss: -0.93870\n",
      "epoch: 05, loss: -0.94316\n",
      "epoch: 06, loss: -0.94665\n",
      "epoch: 07, loss: -0.94953\n",
      "epoch: 08, loss: -0.95191\n",
      "epoch: 09, loss: -0.95395\n",
      "torch.Size([1024, 64])\n"
     ]
    },
    {
     "name": "stderr",
     "output_type": "stream",
     "text": [
      " 28%|██▊       | 278/999 [5:39:11<17:45:07, 88.64s/it]"
     ]
    },
    {
     "name": "stdout",
     "output_type": "stream",
     "text": [
      "eigenvalues shape torch.Size([5]) eigenvectors shape torch.Size([5, 1024])\n",
      "278 /home/phdcs2/Hard_Disk/Datasets/Deep-Spectral-Segmentation/data/object-segmentation/ECSSD/features/0280_resized.pth\n",
      "dict_keys(['k', 'indices', 'file', 'id', 'model_name', 'patch_size', 'shape'])\n",
      "0280_resized\n",
      "Starting Training\n",
      "epoch: 00, loss: -0.92279\n",
      "epoch: 01, loss: -0.95283\n",
      "epoch: 02, loss: -0.96012\n",
      "epoch: 03, loss: -0.96439\n",
      "epoch: 04, loss: -0.96733\n",
      "epoch: 05, loss: -0.96953\n",
      "epoch: 06, loss: -0.97127\n",
      "epoch: 07, loss: -0.97267\n",
      "epoch: 08, loss: -0.97385\n",
      "epoch: 09, loss: -0.97485\n",
      "torch.Size([1024, 64])\n"
     ]
    },
    {
     "name": "stderr",
     "output_type": "stream",
     "text": [
      " 28%|██▊       | 279/999 [5:40:49<18:17:45, 91.48s/it]"
     ]
    },
    {
     "name": "stdout",
     "output_type": "stream",
     "text": [
      "eigenvalues shape torch.Size([5]) eigenvectors shape torch.Size([5, 1024])\n",
      "279 /home/phdcs2/Hard_Disk/Datasets/Deep-Spectral-Segmentation/data/object-segmentation/ECSSD/features/0281_resized.pth\n",
      "dict_keys(['k', 'indices', 'file', 'id', 'model_name', 'patch_size', 'shape'])\n",
      "0281_resized\n",
      "Starting Training\n",
      "epoch: 00, loss: -0.82909\n",
      "epoch: 01, loss: -0.89606\n",
      "epoch: 02, loss: -0.91228\n",
      "epoch: 03, loss: -0.92132\n",
      "epoch: 04, loss: -0.92724\n",
      "epoch: 05, loss: -0.93156\n",
      "epoch: 06, loss: -0.93497\n",
      "epoch: 07, loss: -0.93782\n",
      "epoch: 08, loss: -0.94010\n",
      "epoch: 09, loss: -0.94217\n",
      "torch.Size([1024, 64])\n"
     ]
    },
    {
     "name": "stderr",
     "output_type": "stream",
     "text": [
      " 28%|██▊       | 280/999 [5:42:15<17:55:13, 89.73s/it]"
     ]
    },
    {
     "name": "stdout",
     "output_type": "stream",
     "text": [
      "eigenvalues shape torch.Size([5]) eigenvectors shape torch.Size([5, 1024])\n",
      "280 /home/phdcs2/Hard_Disk/Datasets/Deep-Spectral-Segmentation/data/object-segmentation/ECSSD/features/0282_resized.pth\n",
      "dict_keys(['k', 'indices', 'file', 'id', 'model_name', 'patch_size', 'shape'])\n",
      "0282_resized\n"
     ]
    },
    {
     "name": "stderr",
     "output_type": "stream",
     "text": [
      "/home/phdcs2/Hard_Disk/Projects/T2I/deep-spectral-segmentation/venv/lib/python3.8/site-packages/sklearn/decomposition/_pca.py:642: RuntimeWarning: invalid value encountered in divide\n",
      "  self.explained_variance_ratio_ = self.explained_variance_ / total_var\n"
     ]
    },
    {
     "name": "stdout",
     "output_type": "stream",
     "text": [
      "Starting Training\n",
      "epoch: 00, loss: -0.92097\n",
      "epoch: 01, loss: -0.95079\n",
      "epoch: 02, loss: -0.95796\n",
      "epoch: 03, loss: -0.96220\n",
      "epoch: 04, loss: -0.96512\n",
      "epoch: 05, loss: -0.96730\n",
      "epoch: 06, loss: -0.96904\n",
      "epoch: 07, loss: -0.97047\n",
      "epoch: 08, loss: -0.97167\n",
      "epoch: 09, loss: -0.97266\n",
      "torch.Size([1024, 64])\n"
     ]
    },
    {
     "name": "stderr",
     "output_type": "stream",
     "text": [
      " 28%|██▊       | 281/999 [5:43:44<17:51:52, 89.57s/it]"
     ]
    },
    {
     "name": "stdout",
     "output_type": "stream",
     "text": [
      "eigenvalues shape torch.Size([5]) eigenvectors shape torch.Size([5, 1024])\n",
      "281 /home/phdcs2/Hard_Disk/Datasets/Deep-Spectral-Segmentation/data/object-segmentation/ECSSD/features/0283_resized.pth\n",
      "dict_keys(['k', 'indices', 'file', 'id', 'model_name', 'patch_size', 'shape'])\n",
      "0283_resized\n",
      "Starting Training\n",
      "epoch: 00, loss: -0.89594\n",
      "epoch: 01, loss: -0.93938\n",
      "epoch: 02, loss: -0.94989\n",
      "epoch: 03, loss: -0.95604\n",
      "epoch: 04, loss: -0.96003\n",
      "epoch: 05, loss: -0.96313\n",
      "epoch: 06, loss: -0.96548\n",
      "epoch: 07, loss: -0.96738\n",
      "epoch: 08, loss: -0.96892\n",
      "epoch: 09, loss: -0.97025\n",
      "torch.Size([1024, 64])\n"
     ]
    },
    {
     "name": "stderr",
     "output_type": "stream",
     "text": [
      " 28%|██▊       | 282/999 [5:45:11<17:39:41, 88.68s/it]"
     ]
    },
    {
     "name": "stdout",
     "output_type": "stream",
     "text": [
      "eigenvalues shape torch.Size([5]) eigenvectors shape torch.Size([5, 1024])\n",
      "282 /home/phdcs2/Hard_Disk/Datasets/Deep-Spectral-Segmentation/data/object-segmentation/ECSSD/features/0284_resized.pth\n",
      "dict_keys(['k', 'indices', 'file', 'id', 'model_name', 'patch_size', 'shape'])\n",
      "0284_resized\n"
     ]
    },
    {
     "name": "stderr",
     "output_type": "stream",
     "text": [
      "/home/phdcs2/Hard_Disk/Projects/T2I/deep-spectral-segmentation/venv/lib/python3.8/site-packages/sklearn/decomposition/_pca.py:642: RuntimeWarning: invalid value encountered in divide\n",
      "  self.explained_variance_ratio_ = self.explained_variance_ / total_var\n"
     ]
    },
    {
     "name": "stdout",
     "output_type": "stream",
     "text": [
      "Starting Training\n",
      "epoch: 00, loss: -0.93156\n",
      "epoch: 01, loss: -0.95923\n",
      "epoch: 02, loss: -0.96549\n",
      "epoch: 03, loss: -0.96912\n",
      "epoch: 04, loss: -0.97160\n",
      "epoch: 05, loss: -0.97342\n",
      "epoch: 06, loss: -0.97488\n",
      "epoch: 07, loss: -0.97608\n",
      "epoch: 08, loss: -0.97704\n",
      "epoch: 09, loss: -0.97790\n",
      "torch.Size([1024, 64])\n"
     ]
    },
    {
     "name": "stderr",
     "output_type": "stream",
     "text": [
      " 28%|██▊       | 283/999 [5:46:37<17:30:24, 88.02s/it]"
     ]
    },
    {
     "name": "stdout",
     "output_type": "stream",
     "text": [
      "eigenvalues shape torch.Size([5]) eigenvectors shape torch.Size([5, 1024])\n",
      "283 /home/phdcs2/Hard_Disk/Datasets/Deep-Spectral-Segmentation/data/object-segmentation/ECSSD/features/0285_resized.pth\n",
      "dict_keys(['k', 'indices', 'file', 'id', 'model_name', 'patch_size', 'shape'])\n",
      "0285_resized\n"
     ]
    },
    {
     "name": "stderr",
     "output_type": "stream",
     "text": [
      "/home/phdcs2/Hard_Disk/Projects/T2I/deep-spectral-segmentation/venv/lib/python3.8/site-packages/sklearn/decomposition/_pca.py:642: RuntimeWarning: invalid value encountered in divide\n",
      "  self.explained_variance_ratio_ = self.explained_variance_ / total_var\n"
     ]
    },
    {
     "name": "stdout",
     "output_type": "stream",
     "text": [
      "Starting Training\n",
      "epoch: 00, loss: -0.92450\n",
      "epoch: 01, loss: -0.95468\n",
      "epoch: 02, loss: -0.96209\n",
      "epoch: 03, loss: -0.96637\n",
      "epoch: 04, loss: -0.96930\n",
      "epoch: 05, loss: -0.97145\n",
      "epoch: 06, loss: -0.97316\n",
      "epoch: 07, loss: -0.97452\n",
      "epoch: 08, loss: -0.97569\n",
      "epoch: 09, loss: -0.97666\n",
      "torch.Size([1024, 64])\n"
     ]
    },
    {
     "name": "stderr",
     "output_type": "stream",
     "text": [
      " 28%|██▊       | 284/999 [5:48:01<17:13:29, 86.73s/it]"
     ]
    },
    {
     "name": "stdout",
     "output_type": "stream",
     "text": [
      "eigenvalues shape torch.Size([5]) eigenvectors shape torch.Size([5, 1024])\n",
      "284 /home/phdcs2/Hard_Disk/Datasets/Deep-Spectral-Segmentation/data/object-segmentation/ECSSD/features/0286_resized.pth\n",
      "dict_keys(['k', 'indices', 'file', 'id', 'model_name', 'patch_size', 'shape'])\n",
      "0286_resized\n"
     ]
    },
    {
     "name": "stderr",
     "output_type": "stream",
     "text": [
      "/home/phdcs2/Hard_Disk/Projects/T2I/deep-spectral-segmentation/venv/lib/python3.8/site-packages/sklearn/decomposition/_pca.py:642: RuntimeWarning: invalid value encountered in divide\n",
      "  self.explained_variance_ratio_ = self.explained_variance_ / total_var\n"
     ]
    },
    {
     "name": "stdout",
     "output_type": "stream",
     "text": [
      "Starting Training\n",
      "epoch: 00, loss: -0.92992\n",
      "epoch: 01, loss: -0.95947\n",
      "epoch: 02, loss: -0.96580\n",
      "epoch: 03, loss: -0.96952\n",
      "epoch: 04, loss: -0.97212\n",
      "epoch: 05, loss: -0.97400\n",
      "epoch: 06, loss: -0.97553\n",
      "epoch: 07, loss: -0.97674\n",
      "epoch: 08, loss: -0.97777\n",
      "epoch: 09, loss: -0.97864\n",
      "torch.Size([1024, 64])\n"
     ]
    },
    {
     "name": "stderr",
     "output_type": "stream",
     "text": [
      " 29%|██▊       | 285/999 [5:49:17<16:32:19, 83.39s/it]"
     ]
    },
    {
     "name": "stdout",
     "output_type": "stream",
     "text": [
      "eigenvalues shape torch.Size([5]) eigenvectors shape torch.Size([5, 1024])\n",
      "285 /home/phdcs2/Hard_Disk/Datasets/Deep-Spectral-Segmentation/data/object-segmentation/ECSSD/features/0287_resized.pth\n",
      "dict_keys(['k', 'indices', 'file', 'id', 'model_name', 'patch_size', 'shape'])\n",
      "0287_resized\n"
     ]
    },
    {
     "name": "stderr",
     "output_type": "stream",
     "text": [
      "/home/phdcs2/Hard_Disk/Projects/T2I/deep-spectral-segmentation/venv/lib/python3.8/site-packages/sklearn/decomposition/_pca.py:642: RuntimeWarning: invalid value encountered in divide\n",
      "  self.explained_variance_ratio_ = self.explained_variance_ / total_var\n"
     ]
    },
    {
     "name": "stdout",
     "output_type": "stream",
     "text": [
      "Starting Training\n",
      "epoch: 00, loss: -0.93078\n",
      "epoch: 01, loss: -0.95685\n",
      "epoch: 02, loss: -0.96309\n",
      "epoch: 03, loss: -0.96677\n",
      "epoch: 04, loss: -0.96929\n",
      "epoch: 05, loss: -0.97118\n",
      "epoch: 06, loss: -0.97271\n",
      "epoch: 07, loss: -0.97392\n",
      "epoch: 08, loss: -0.97497\n",
      "epoch: 09, loss: -0.97586\n",
      "torch.Size([1024, 64])\n"
     ]
    },
    {
     "name": "stderr",
     "output_type": "stream",
     "text": [
      " 29%|██▊       | 286/999 [5:50:24<15:32:37, 78.48s/it]"
     ]
    },
    {
     "name": "stdout",
     "output_type": "stream",
     "text": [
      "eigenvalues shape torch.Size([5]) eigenvectors shape torch.Size([5, 1024])\n",
      "286 /home/phdcs2/Hard_Disk/Datasets/Deep-Spectral-Segmentation/data/object-segmentation/ECSSD/features/0288_resized.pth\n",
      "dict_keys(['k', 'indices', 'file', 'id', 'model_name', 'patch_size', 'shape'])\n",
      "0288_resized\n",
      "Starting Training\n",
      "epoch: 00, loss: -0.92015\n",
      "epoch: 01, loss: -0.95147\n",
      "epoch: 02, loss: -0.95931\n",
      "epoch: 03, loss: -0.96386\n",
      "epoch: 04, loss: -0.96700\n",
      "epoch: 05, loss: -0.96930\n",
      "epoch: 06, loss: -0.97112\n",
      "epoch: 07, loss: -0.97259\n",
      "epoch: 08, loss: -0.97381\n",
      "epoch: 09, loss: -0.97485\n",
      "torch.Size([1024, 64])\n"
     ]
    },
    {
     "name": "stderr",
     "output_type": "stream",
     "text": [
      " 29%|██▊       | 287/999 [5:51:27<14:39:09, 74.09s/it]"
     ]
    },
    {
     "name": "stdout",
     "output_type": "stream",
     "text": [
      "eigenvalues shape torch.Size([5]) eigenvectors shape torch.Size([5, 1024])\n",
      "287 /home/phdcs2/Hard_Disk/Datasets/Deep-Spectral-Segmentation/data/object-segmentation/ECSSD/features/0289_resized.pth\n",
      "dict_keys(['k', 'indices', 'file', 'id', 'model_name', 'patch_size', 'shape'])\n",
      "0289_resized\n",
      "Starting Training\n",
      "epoch: 00, loss: -0.86650\n",
      "epoch: 01, loss: -0.92102\n",
      "epoch: 02, loss: -0.93523\n",
      "epoch: 03, loss: -0.94293\n",
      "epoch: 04, loss: -0.94835\n",
      "epoch: 05, loss: -0.95217\n",
      "epoch: 06, loss: -0.95510\n",
      "epoch: 07, loss: -0.95759\n",
      "epoch: 08, loss: -0.95969\n",
      "epoch: 09, loss: -0.96151\n",
      "torch.Size([1024, 64])\n"
     ]
    },
    {
     "name": "stderr",
     "output_type": "stream",
     "text": [
      " 29%|██▉       | 288/999 [5:52:40<14:31:35, 73.55s/it]"
     ]
    },
    {
     "name": "stdout",
     "output_type": "stream",
     "text": [
      "eigenvalues shape torch.Size([5]) eigenvectors shape torch.Size([5, 1024])\n",
      "288 /home/phdcs2/Hard_Disk/Datasets/Deep-Spectral-Segmentation/data/object-segmentation/ECSSD/features/0290_resized.pth\n",
      "dict_keys(['k', 'indices', 'file', 'id', 'model_name', 'patch_size', 'shape'])\n",
      "0290_resized\n",
      "Starting Training\n",
      "epoch: 00, loss: -0.89033\n",
      "epoch: 01, loss: -0.93766\n",
      "epoch: 02, loss: -0.94870\n",
      "epoch: 03, loss: -0.95486\n",
      "epoch: 04, loss: -0.95908\n",
      "epoch: 05, loss: -0.96210\n",
      "epoch: 06, loss: -0.96459\n",
      "epoch: 07, loss: -0.96654\n",
      "epoch: 08, loss: -0.96822\n",
      "epoch: 09, loss: -0.96946\n",
      "torch.Size([1024, 64])\n"
     ]
    },
    {
     "name": "stderr",
     "output_type": "stream",
     "text": [
      " 29%|██▉       | 289/999 [5:53:51<14:23:51, 73.00s/it]"
     ]
    },
    {
     "name": "stdout",
     "output_type": "stream",
     "text": [
      "eigenvalues shape torch.Size([5]) eigenvectors shape torch.Size([5, 1024])\n",
      "289 /home/phdcs2/Hard_Disk/Datasets/Deep-Spectral-Segmentation/data/object-segmentation/ECSSD/features/0291_resized.pth\n",
      "dict_keys(['k', 'indices', 'file', 'id', 'model_name', 'patch_size', 'shape'])\n",
      "0291_resized\n",
      "Starting Training\n",
      "epoch: 00, loss: -0.85342\n",
      "epoch: 01, loss: -0.91024\n",
      "epoch: 02, loss: -0.92588\n",
      "epoch: 03, loss: -0.93527\n",
      "epoch: 04, loss: -0.94144\n",
      "epoch: 05, loss: -0.94597\n",
      "epoch: 06, loss: -0.94945\n",
      "epoch: 07, loss: -0.95237\n",
      "epoch: 08, loss: -0.95470\n",
      "epoch: 09, loss: -0.95670\n",
      "torch.Size([1024, 64])\n"
     ]
    },
    {
     "name": "stderr",
     "output_type": "stream",
     "text": [
      " 29%|██▉       | 290/999 [5:54:59<14:02:58, 71.34s/it]"
     ]
    },
    {
     "name": "stdout",
     "output_type": "stream",
     "text": [
      "eigenvalues shape torch.Size([5]) eigenvectors shape torch.Size([5, 1024])\n",
      "290 /home/phdcs2/Hard_Disk/Datasets/Deep-Spectral-Segmentation/data/object-segmentation/ECSSD/features/0292_resized.pth\n",
      "dict_keys(['k', 'indices', 'file', 'id', 'model_name', 'patch_size', 'shape'])\n",
      "0292_resized\n",
      "Starting Training\n",
      "epoch: 00, loss: -0.93595\n",
      "Starting Training\n",
      "epoch: 00, loss: -0.86564\n",
      "epoch: 01, loss: -0.92080\n",
      "epoch: 02, loss: -0.93502\n",
      "epoch: 03, loss: -0.94313\n",
      "epoch: 04, loss: -0.94838\n",
      "epoch: 05, loss: -0.95243\n",
      "epoch: 06, loss: -0.95550\n",
      "epoch: 07, loss: -0.95793\n",
      "epoch: 08, loss: -0.96010\n",
      "epoch: 09, loss: -0.96182\n",
      "torch.Size([1024, 64])\n"
     ]
    },
    {
     "name": "stderr",
     "output_type": "stream",
     "text": [
      " 48%|████▊     | 479/999 [9:32:10<10:54:34, 75.53s/it]"
     ]
    },
    {
     "name": "stdout",
     "output_type": "stream",
     "text": [
      "eigenvalues shape torch.Size([5]) eigenvectors shape torch.Size([5, 1024])\n",
      "479 /home/phdcs2/Hard_Disk/Datasets/Deep-Spectral-Segmentation/data/object-segmentation/ECSSD/features/0481_resized.pth\n",
      "dict_keys(['k', 'indices', 'file', 'id', 'model_name', 'patch_size', 'shape'])\n",
      "0481_resized\n"
     ]
    },
    {
     "name": "stderr",
     "output_type": "stream",
     "text": [
      "/home/phdcs2/Hard_Disk/Projects/T2I/deep-spectral-segmentation/venv/lib/python3.8/site-packages/sklearn/decomposition/_pca.py:642: RuntimeWarning: invalid value encountered in divide\n",
      "  self.explained_variance_ratio_ = self.explained_variance_ / total_var\n"
     ]
    },
    {
     "name": "stdout",
     "output_type": "stream",
     "text": [
      "Starting Training\n",
      "epoch: 00, loss: -0.91284\n",
      "epoch: 01, loss: -0.94856\n",
      "epoch: 02, loss: -0.95676\n",
      "epoch: 03, loss: -0.96153\n",
      "epoch: 04, loss: -0.96477\n",
      "epoch: 05, loss: -0.96719\n",
      "epoch: 06, loss: -0.96909\n",
      "epoch: 07, loss: -0.97062\n",
      "epoch: 08, loss: -0.97191\n",
      "epoch: 09, loss: -0.97300\n",
      "torch.Size([1024, 64])\n"
     ]
    },
    {
     "name": "stderr",
     "output_type": "stream",
     "text": [
      " 48%|████▊     | 480/999 [9:33:27<10:57:27, 76.01s/it]"
     ]
    },
    {
     "name": "stdout",
     "output_type": "stream",
     "text": [
      "eigenvalues shape torch.Size([5]) eigenvectors shape torch.Size([5, 1024])\n",
      "480 /home/phdcs2/Hard_Disk/Datasets/Deep-Spectral-Segmentation/data/object-segmentation/ECSSD/features/0482_resized.pth\n",
      "dict_keys(['k', 'indices', 'file', 'id', 'model_name', 'patch_size', 'shape'])\n",
      "0482_resized\n",
      "epoch: 03, loss: -0.93635\n",
      "epoch: 04, loss: -0.94232\n",
      "epoch: 05, loss: -0.94650\n",
      "epoch: 06, loss: -0.94985\n",
      "epoch: 07, loss: -0.95236\n",
      "epoch: 08, loss: -0.95453\n",
      "epoch: 09, loss: -0.95634\n",
      "torch.Size([1024, 64])\n"
     ]
    },
    {
     "name": "stderr",
     "output_type": "stream",
     "text": [
      " 50%|█████     | 501/999 [9:59:04<10:09:28, 73.43s/it]"
     ]
    },
    {
     "name": "stdout",
     "output_type": "stream",
     "text": [
      "eigenvalues shape torch.Size([5]) eigenvectors shape torch.Size([5, 1024])\n",
      "501 /home/phdcs2/Hard_Disk/Datasets/Deep-Spectral-Segmentation/data/object-segmentation/ECSSD/features/0503_resized.pth\n",
      "dict_keys(['k', 'indices', 'file', 'id', 'model_name', 'patch_size', 'shape'])\n",
      "0503_resized\n",
      "Starting Training\n",
      "epoch: 00, loss: -0.87178\n",
      "epoch: 01, loss: -0.91995\n",
      "epoch: 02, loss: -0.93398\n",
      "epoch: 03, loss: -0.94167\n",
      "epoch: 04, loss: -0.94725\n",
      "epoch: 05, loss: -0.95125\n",
      "epoch: 06, loss: -0.95436\n",
      "epoch: 07, loss: -0.95683\n",
      "epoch: 08, loss: -0.95898\n",
      "epoch: 09, loss: -0.96079\n",
      "torch.Size([1024, 64])\n"
     ]
    },
    {
     "name": "stderr",
     "output_type": "stream",
     "text": [
      " 50%|█████     | 502/999 [10:00:22<10:20:56, 74.96s/it]"
     ]
    },
    {
     "name": "stdout",
     "output_type": "stream",
     "text": [
      "eigenvalues shape torch.Size([5]) eigenvectors shape torch.Size([5, 1024])\n",
      "502 /home/phdcs2/Hard_Disk/Datasets/Deep-Spectral-Segmentation/data/object-segmentation/ECSSD/features/0504_resized.pth\n",
      "dict_keys(['k', 'indices', 'file', 'id', 'model_name', 'patch_size', 'shape'])\n",
      "0504_resized\n",
      "Starting Training\n",
      "epoch: 00, loss: -0.90274\n",
      "epoch: 01, loss: -0.93718\n",
      "epoch: 02, loss: -0.94647\n",
      "epoch: 03, loss: -0.95202\n",
      "epoch: 04, loss: -0.95584\n",
      "epoch: 05, loss: -0.95872\n",
      "epoch: 06, loss: -0.96105\n",
      "epoch: 07, loss: -0.96289\n",
      "epoch: 08, loss: -0.96442\n",
      "epoch: 09, loss: -0.96576\n",
      "torch.Size([1024, 64])\n"
     ]
    },
    {
     "name": "stderr",
     "output_type": "stream",
     "text": [
      " 50%|█████     | 503/999 [10:01:37<10:19:58, 75.00s/it]"
     ]
    },
    {
     "name": "stdout",
     "output_type": "stream",
     "text": [
      "eigenvalues shape torch.Size([5]) eigenvectors shape torch.Size([5, 1024])\n",
      "503 /home/phdcs2/Hard_Disk/Datasets/Deep-Spectral-Segmentation/data/object-segmentation/ECSSD/features/0505_resized.pth\n",
      "dict_keys(['k', 'indices', 'file', 'id', 'model_name', 'patch_size', 'shape'])\n",
      "0505_resized\n",
      "Starting Training\n",
      "epoch: 00, loss: -0.85958\n",
      "epoch: 01, loss: -0.91565\n",
      "epoch: 02, loss: -0.93041\n",
      "epoch: 03, loss: -0.93931\n",
      "epoch: 04, loss: -0.94494\n",
      "epoch: 05, loss: -0.94928\n",
      "epoch: 06, loss: -0.95233\n",
      "epoch: 07, loss: -0.95514\n",
      "epoch: 08, loss: -0.95725\n",
      "epoch: 09, loss: -0.95910\n",
      "torch.Size([1024, 64])\n"
     ]
    },
    {
     "name": "stderr",
     "output_type": "stream",
     "text": [
      " 50%|█████     | 504/999 [10:02:47<10:06:33, 73.52s/it]"
     ]
    },
    {
     "name": "stdout",
     "output_type": "stream",
     "text": [
      "eigenvalues shape torch.Size([5]) eigenvectors shape torch.Size([5, 1024])\n",
      "504 /home/phdcs2/Hard_Disk/Datasets/Deep-Spectral-Segmentation/data/object-segmentation/ECSSD/features/0506_resized.pth\n",
      "dict_keys(['k', 'indices', 'file', 'id', 'model_name', 'patch_size', 'shape'])\n",
      "0506_resized\n"
     ]
    },
    {
     "name": "stderr",
     "output_type": "stream",
     "text": [
      "/home/phdcs2/Hard_Disk/Projects/T2I/deep-spectral-segmentation/venv/lib/python3.8/site-packages/sklearn/decomposition/_pca.py:642: RuntimeWarning: invalid value encountered in divide\n",
      "  self.explained_variance_ratio_ = self.explained_variance_ / total_var\n"
     ]
    },
    {
     "name": "stdout",
     "output_type": "stream",
     "text": [
      "Starting Training\n",
      "epoch: 00, loss: -0.92069\n",
      "epoch: 01, loss: -0.95277\n",
      "epoch: 02, loss: -0.96039\n",
      "epoch: 03, loss: -0.96467\n",
      "epoch: 04, loss: -0.96761\n",
      "epoch: 05, loss: -0.96981\n",
      "epoch: 06, loss: -0.97149\n",
      "epoch: 07, loss: -0.97288\n",
      "epoch: 08, loss: -0.97403\n",
      "epoch: 09, loss: -0.97503\n",
      "torch.Size([1024, 64])\n"
     ]
    },
    {
     "name": "stderr",
     "output_type": "stream",
     "text": [
      " 51%|█████     | 505/999 [10:03:59<9:59:15, 72.78s/it] "
     ]
    },
    {
     "name": "stdout",
     "output_type": "stream",
     "text": [
      "eigenvalues shape torch.Size([5]) eigenvectors shape torch.Size([5, 1024])\n",
      "505 /home/phdcs2/Hard_Disk/Datasets/Deep-Spectral-Segmentation/data/object-segmentation/ECSSD/features/0507_resized.pth\n",
      "dict_keys(['k', 'indices', 'file', 'id', 'model_name', 'patch_size', 'shape'])\n",
      "0507_resized\n",
      "Starting Training\n",
      "epoch: 00, loss: -0.89631\n",
      "epoch: 01, loss: -0.93787\n",
      "epoch: 02, loss: -0.94860\n",
      "epoch: 03, loss: -0.95479\n",
      "epoch: 04, loss: -0.95887\n",
      "epoch: 05, loss: -0.96181\n",
      "epoch: 06, loss: -0.96424\n",
      "epoch: 07, loss: -0.96616\n",
      "epoch: 08, loss: -0.96776\n",
      "epoch: 09, loss: -0.96904\n",
      "torch.Size([1024, 64])\n"
     ]
    },
    {
     "name": "stderr",
     "output_type": "stream",
     "text": [
      " 51%|█████     | 506/999 [10:05:12<10:00:56, 73.14s/it]"
     ]
    },
    {
     "name": "stdout",
     "output_type": "stream",
     "text": [
      "eigenvalues shape torch.Size([5]) eigenvectors shape torch.Size([5, 1024])\n",
      "506 /home/phdcs2/Hard_Disk/Datasets/Deep-Spectral-Segmentation/data/object-segmentation/ECSSD/features/0508_resized.pth\n",
      "dict_keys(['k', 'indices', 'file', 'id', 'model_name', 'patch_size', 'shape'])\n",
      "0508_resized\n",
      "Starting Training\n",
      "epoch: 00, loss: -0.87389\n",
      "epoch: 01, loss: -0.92471\n",
      "epoch: 02, loss: -0.93749\n",
      "epoch: 03, loss: -0.94460\n",
      "epoch: 04, loss: -0.94947\n",
      "epoch: 05, loss: -0.95305\n",
      "epoch: 06, loss: -0.95583\n",
      "epoch: 07, loss: -0.95802\n",
      "epoch: 08, loss: -0.95984\n",
      "epoch: 09, loss: -0.96145\n",
      "torch.Size([1024, 64])\n"
     ]
    },
    {
     "name": "stderr",
     "output_type": "stream",
     "text": [
      " 51%|█████     | 507/999 [10:06:32<10:14:45, 74.97s/it]"
     ]
    },
    {
     "name": "stdout",
     "output_type": "stream",
     "text": [
      "eigenvalues shape torch.Size([5]) eigenvectors shape torch.Size([5, 1024])\n",
      "507 /home/phdcs2/Hard_Disk/Datasets/Deep-Spectral-Segmentation/data/object-segmentation/ECSSD/features/0509_resized.pth\n",
      "dict_keys(['k', 'indices', 'file', 'id', 'model_name', 'patch_size', 'shape'])\n",
      "0509_resized\n",
      "Starting Training\n",
      "epoch: 00, loss: -0.91941\n",
      "epoch: 01, loss: -0.95052\n",
      "epoch: 02, loss: -0.95859\n",
      "epoch: 03, loss: -0.96324\n",
      "epoch: 04, loss: -0.96642\n",
      "epoch: 05, loss: -0.96876\n",
      "epoch: 06, loss: -0.97064\n",
      "epoch: 07, loss: -0.97210\n",
      "epoch: 08, loss: -0.97335\n",
      "epoch: 09, loss: -0.97443\n",
      "torch.Size([1024, 64])\n"
     ]
    },
    {
     "name": "stderr",
     "output_type": "stream",
     "text": [
      " 51%|█████     | 508/999 [10:07:48<10:16:49, 75.38s/it]"
     ]
    },
    {
     "name": "stdout",
     "output_type": "stream",
     "text": [
      "eigenvalues shape torch.Size([5]) eigenvectors shape torch.Size([5, 1024])\n",
      "508 /home/phdcs2/Hard_Disk/Datasets/Deep-Spectral-Segmentation/data/object-segmentation/ECSSD/features/0510_resized.pth\n",
      "dict_keys(['k', 'indices', 'file', 'id', 'model_name', 'patch_size', 'shape'])\n",
      "0510_resized\n"
     ]
    },
    {
     "name": "stderr",
     "output_type": "stream",
     "text": [
      "/home/phdcs2/Hard_Disk/Projects/T2I/deep-spectral-segmentation/venv/lib/python3.8/site-packages/sklearn/decomposition/_pca.py:642: RuntimeWarning: invalid value encountered in divide\n",
      "  self.explained_variance_ratio_ = self.explained_variance_ / total_var\n"
     ]
    },
    {
     "name": "stdout",
     "output_type": "stream",
     "text": [
      "Starting Training\n",
      "epoch: 00, loss: -0.92386\n",
      "epoch: 01, loss: -0.95547\n",
      "epoch: 02, loss: -0.96233\n",
      "epoch: 03, loss: -0.96634\n",
      "epoch: 04, loss: -0.96904\n",
      "epoch: 05, loss: -0.97106\n",
      "epoch: 06, loss: -0.97264\n",
      "epoch: 07, loss: -0.97394\n",
      "epoch: 08, loss: -0.97499\n",
      "epoch: 09, loss: -0.97593\n",
      "torch.Size([1024, 64])\n"
     ]
    },
    {
     "name": "stderr",
     "output_type": "stream",
     "text": [
      " 51%|█████     | 509/999 [10:08:58<10:01:04, 73.60s/it]"
     ]
    },
    {
     "name": "stdout",
     "output_type": "stream",
     "text": [
      "eigenvalues shape torch.Size([5]) eigenvectors shape torch.Size([5, 1024])\n",
      "509 /home/phdcs2/Hard_Disk/Datasets/Deep-Spectral-Segmentation/data/object-segmentation/ECSSD/features/0511_resized.pth\n",
      "dict_keys(['k', 'indices', 'file', 'id', 'model_name', 'patch_size', 'shape'])\n",
      "0511_resized\n"
     ]
    },
    {
     "name": "stderr",
     "output_type": "stream",
     "text": [
      "/home/phdcs2/Hard_Disk/Projects/T2I/deep-spectral-segmentation/venv/lib/python3.8/site-packages/sklearn/decomposition/_pca.py:642: RuntimeWarning: invalid value encountered in divide\n",
      "  self.explained_variance_ratio_ = self.explained_variance_ / total_var\n"
     ]
    },
    {
     "name": "stdout",
     "output_type": "stream",
     "text": [
      "Starting Training\n",
      "epoch: 00, loss: -0.93312\n",
      "epoch: 01, loss: -0.96085\n",
      "epoch: 02, loss: -0.96688\n",
      "epoch: 03, loss: -0.97046\n",
      "epoch: 04, loss: -0.97289\n",
      "epoch: 05, loss: -0.97472\n",
      "epoch: 06, loss: -0.97613\n",
      "epoch: 07, loss: -0.97729\n",
      "epoch: 08, loss: -0.97828\n",
      "epoch: 09, loss: -0.97911\n",
      "torch.Size([1024, 64])\n"
     ]
    },
    {
     "name": "stderr",
     "output_type": "stream",
     "text": [
      " 51%|█████     | 510/999 [10:10:05<9:43:57, 71.65s/it] "
     ]
    },
    {
     "name": "stdout",
     "output_type": "stream",
     "text": [
      "eigenvalues shape torch.Size([5]) eigenvectors shape torch.Size([5, 1024])\n",
      "510 /home/phdcs2/Hard_Disk/Datasets/Deep-Spectral-Segmentation/data/object-segmentation/ECSSD/features/0512_resized.pth\n",
      "dict_keys(['k', 'indices', 'file', 'id', 'model_name', 'patch_size', 'shape'])\n",
      "0512_resized\n"
     ]
    },
    {
     "name": "stderr",
     "output_type": "stream",
     "text": [
      "/home/phdcs2/Hard_Disk/Projects/T2I/deep-spectral-segmentation/venv/lib/python3.8/site-packages/sklearn/decomposition/_pca.py:642: RuntimeWarning: invalid value encountered in divide\n",
      "  self.explained_variance_ratio_ = self.explained_variance_ / total_var\n"
     ]
    },
    {
     "name": "stdout",
     "output_type": "stream",
     "text": [
      "Starting Training\n",
      "epoch: 00, loss: -0.92253\n",
      "epoch: 01, loss: -0.95366\n",
      "epoch: 02, loss: -0.96085\n",
      "epoch: 03, loss: -0.96500\n",
      "epoch: 04, loss: -0.96784\n",
      "epoch: 05, loss: -0.96996\n",
      "epoch: 06, loss: -0.97165\n",
      "epoch: 07, loss: -0.97298\n",
      "epoch: 08, loss: -0.97413\n",
      "epoch: 09, loss: -0.97511\n",
      "torch.Size([1024, 64])\n"
     ]
    },
    {
     "name": "stderr",
     "output_type": "stream",
     "text": [
      " 51%|█████     | 511/999 [10:11:15<9:39:07, 71.20s/it]"
     ]
    },
    {
     "name": "stdout",
     "output_type": "stream",
     "text": [
      "eigenvalues shape torch.Size([5]) eigenvectors shape torch.Size([5, 1024])\n",
      "511 /home/phdcs2/Hard_Disk/Datasets/Deep-Spectral-Segmentation/data/object-segmentation/ECSSD/features/0513_resized.pth\n",
      "dict_keys(['k', 'indices', 'file', 'id', 'model_name', 'patch_size', 'shape'])\n",
      "0513_resized\n",
      "Starting Training\n",
      "epoch: 00, loss: -0.87891\n",
      "epoch: 01, loss: -0.92809\n",
      "epoch: 02, loss: -0.93890\n",
      "epoch: 03, loss: -0.94499\n",
      "epoch: 04, loss: -0.94905\n",
      "epoch: 05, loss: -0.95208\n",
      "epoch: 06, loss: -0.95439\n",
      "epoch: 07, loss: -0.95633\n",
      "epoch: 08, loss: -0.95804\n",
      "epoch: 09, loss: -0.95938\n",
      "torch.Size([1024, 64])\n"
     ]
    },
    {
     "name": "stderr",
     "output_type": "stream",
     "text": [
      " 51%|█████▏    | 512/999 [10:12:30<9:46:54, 72.31s/it]"
     ]
    },
    {
     "name": "stdout",
     "output_type": "stream",
     "text": [
      "eigenvalues shape torch.Size([5]) eigenvectors shape torch.Size([5, 1024])\n",
      "512 /home/phdcs2/Hard_Disk/Datasets/Deep-Spectral-Segmentation/data/object-segmentation/ECSSD/features/0514_resized.pth\n",
      "dict_keys(['k', 'indices', 'file', 'id', 'model_name', 'patch_size', 'shape'])\n",
      "0514_resized\n",
      "Starting Training\n",
      "epoch: 00, loss: -0.87529\n",
      "epoch: 01, loss: -0.92514\n",
      "epoch: 02, loss: -0.93803\n",
      "epoch: 03, loss: -0.94535\n",
      "epoch: 04, loss: -0.95021\n",
      "epoch: 05, loss: -0.95394\n",
      "epoch: 06, loss: -0.95684\n",
      "epoch: 07, loss: -0.95902\n",
      "epoch: 08, loss: -0.96103\n",
      "epoch: 09, loss: -0.96255\n",
      "torch.Size([1024, 64])\n"
     ]
    },
    {
     "name": "stderr",
     "output_type": "stream",
     "text": [
      " 51%|█████▏    | 513/999 [10:13:51<10:07:19, 74.98s/it]"
     ]
    },
    {
     "name": "stdout",
     "output_type": "stream",
     "text": [
      "eigenvalues shape torch.Size([5]) eigenvectors shape torch.Size([5, 1024])\n",
      "513 /home/phdcs2/Hard_Disk/Datasets/Deep-Spectral-Segmentation/data/object-segmentation/ECSSD/features/0515_resized.pth\n",
      "dict_keys(['k', 'indices', 'file', 'id', 'model_name', 'patch_size', 'shape'])\n",
      "0515_resized\n",
      "Starting Training\n",
      "epoch: 00, loss: -0.86509\n",
      "epoch: 01, loss: -0.92264\n",
      "epoch: 02, loss: -0.93580\n",
      "epoch: 03, loss: -0.94344\n",
      "epoch: 04, loss: -0.94861\n",
      "epoch: 05, loss: -0.95219\n",
      "epoch: 06, loss: -0.95512\n",
      "epoch: 07, loss: -0.95749\n",
      "epoch: 08, loss: -0.95940\n",
      "epoch: 09, loss: -0.96112\n",
      "torch.Size([1024, 64])\n"
     ]
    },
    {
     "name": "stderr",
     "output_type": "stream",
     "text": [
      " 51%|█████▏    | 514/999 [10:15:07<10:07:52, 75.20s/it]"
     ]
    },
    {
     "name": "stdout",
     "output_type": "stream",
     "text": [
      "eigenvalues shape torch.Size([5]) eigenvectors shape torch.Size([5, 1024])\n",
      "514 /home/phdcs2/Hard_Disk/Datasets/Deep-Spectral-Segmentation/data/object-segmentation/ECSSD/features/0516_resized.pth\n",
      "dict_keys(['k', 'indices', 'file', 'id', 'model_name', 'patch_size', 'shape'])\n",
      "0516_resized\n"
     ]
    },
    {
     "name": "stderr",
     "output_type": "stream",
     "text": [
      "/home/phdcs2/Hard_Disk/Projects/T2I/deep-spectral-segmentation/venv/lib/python3.8/site-packages/sklearn/decomposition/_pca.py:642: RuntimeWarning: invalid value encountered in divide\n",
      "  self.explained_variance_ratio_ = self.explained_variance_ / total_var\n"
     ]
    },
    {
     "name": "stdout",
     "output_type": "stream",
     "text": [
      "Starting Training\n",
      "epoch: 00, loss: -0.91617\n",
      "epoch: 01, loss: -0.94875\n",
      "epoch: 02, loss: -0.95662\n",
      "epoch: 03, loss: -0.96121\n",
      "epoch: 04, loss: -0.96429\n",
      "epoch: 05, loss: -0.96664\n",
      "epoch: 06, loss: -0.96846\n",
      "epoch: 07, loss: -0.96994\n",
      "epoch: 08, loss: -0.97120\n",
      "epoch: 09, loss: -0.97225\n",
      "torch.Size([1024, 64])\n"
     ]
    },
    {
     "name": "stderr",
     "output_type": "stream",
     "text": [
      " 52%|█████▏    | 515/999 [10:16:26<10:16:00, 76.37s/it]"
     ]
    },
    {
     "name": "stdout",
     "output_type": "stream",
     "text": [
      "eigenvalues shape torch.Size([5]) eigenvectors shape torch.Size([5, 1024])\n",
      "515 /home/phdcs2/Hard_Disk/Datasets/Deep-Spectral-Segmentation/data/object-segmentation/ECSSD/features/0517_resized.pth\n",
      "dict_keys(['k', 'indices', 'file', 'id', 'model_name', 'patch_size', 'shape'])\n",
      "0517_resized\n",
      "Starting Training\n",
      "epoch: 00, loss: -0.88880\n",
      "epoch: 01, loss: -0.93336\n",
      "epoch: 02, loss: -0.94497\n",
      "epoch: 03, loss: -0.95149\n",
      "epoch: 04, loss: -0.95604\n",
      "epoch: 05, loss: -0.95921\n",
      "epoch: 06, loss: -0.96188\n",
      "epoch: 07, loss: -0.96388\n",
      "epoch: 08, loss: -0.96563\n",
      "epoch: 09, loss: -0.96708\n",
      "torch.Size([1024, 64])\n"
     ]
    },
    {
     "name": "stderr",
     "output_type": "stream",
     "text": [
      " 52%|█████▏    | 516/999 [10:17:47<10:25:53, 77.75s/it]"
     ]
    },
    {
     "name": "stdout",
     "output_type": "stream",
     "text": [
      "eigenvalues shape torch.Size([5]) eigenvectors shape torch.Size([5, 1024])\n",
      "516 /home/phdcs2/Hard_Disk/Datasets/Deep-Spectral-Segmentation/data/object-segmentation/ECSSD/features/0518_resized.pth\n",
      "dict_keys(['k', 'indices', 'file', 'id', 'model_name', 'patch_size', 'shape'])\n",
      "0518_resized\n",
      "Starting Training\n",
      "epoch: 00, loss: -0.83299\n",
      "epoch: 01, loss: -0.89955\n",
      "epoch: 02, loss: -0.91769\n",
      "epoch: 03, loss: -0.92814\n",
      "epoch: 04, loss: -0.93506\n",
      "epoch: 05, loss: -0.94021\n",
      "epoch: 06, loss: -0.94423\n",
      "epoch: 07, loss: -0.94734\n",
      "epoch: 08, loss: -0.94992\n",
      "epoch: 09, loss: -0.95212\n",
      "torch.Size([1024, 64])\n"
     ]
    },
    {
     "name": "stderr",
     "output_type": "stream",
     "text": [
      " 52%|█████▏    | 517/999 [10:19:02<10:17:58, 76.93s/it]"
     ]
    },
    {
     "name": "stdout",
     "output_type": "stream",
     "text": [
      "eigenvalues shape torch.Size([5]) eigenvectors shape torch.Size([5, 1024])\n",
      "517 /home/phdcs2/Hard_Disk/Datasets/Deep-Spectral-Segmentation/data/object-segmentation/ECSSD/features/0519_resized.pth\n",
      "dict_keys(['k', 'indices', 'file', 'id', 'model_name', 'patch_size', 'shape'])\n",
      "0519_resized\n",
      "Starting Training\n",
      "epoch: 00, loss: -0.92562\n",
      "epoch: 01, loss: -0.95624\n",
      "epoch: 02, loss: -0.96303\n",
      "epoch: 03, loss: -0.96695\n",
      "epoch: 04, loss: -0.96965\n",
      "epoch: 05, loss: -0.97164\n",
      "epoch: 06, loss: -0.97325\n",
      "epoch: 07, loss: -0.97452\n",
      "epoch: 08, loss: -0.97561\n",
      "epoch: 09, loss: -0.97653\n",
      "torch.Size([1024, 64])\n"
     ]
    },
    {
     "name": "stderr",
     "output_type": "stream",
     "text": [
      " 52%|█████▏    | 518/999 [10:20:11<9:59:14, 74.75s/it] "
     ]
    },
    {
     "name": "stdout",
     "output_type": "stream",
     "text": [
      "eigenvalues shape torch.Size([5]) eigenvectors shape torch.Size([5, 1024])\n",
      "518 /home/phdcs2/Hard_Disk/Datasets/Deep-Spectral-Segmentation/data/object-segmentation/ECSSD/features/0520_resized.pth\n",
      "dict_keys(['k', 'indices', 'file', 'id', 'model_name', 'patch_size', 'shape'])\n",
      "0520_resized\n",
      "Starting Training\n",
      "epoch: 00, loss: -0.86439\n",
      "epoch: 01, loss: -0.91903\n",
      "epoch: 02, loss: -0.93394\n",
      "epoch: 03, loss: -0.94205\n",
      "epoch: 04, loss: -0.94759\n",
      "epoch: 05, loss: -0.95156\n",
      "epoch: 06, loss: -0.95466\n",
      "epoch: 07, loss: -0.95717\n",
      "epoch: 08, loss: -0.95927\n",
      "epoch: 09, loss: -0.96096\n",
      "torch.Size([1024, 64])\n"
     ]
    },
    {
     "name": "stderr",
     "output_type": "stream",
     "text": [
      " 52%|█████▏    | 519/999 [10:21:19<9:41:40, 72.71s/it]"
     ]
    },
    {
     "name": "stdout",
     "output_type": "stream",
     "text": [
      "eigenvalues shape torch.Size([5]) eigenvectors shape torch.Size([5, 1024])\n",
      "519 /home/phdcs2/Hard_Disk/Datasets/Deep-Spectral-Segmentation/data/object-segmentation/ECSSD/features/0521_resized.pth\n",
      "dict_keys(['k', 'indices', 'file', 'id', 'model_name', 'patch_size', 'shape'])\n",
      "0521_resized\n"
     ]
    },
    {
     "name": "stderr",
     "output_type": "stream",
     "text": [
      "/home/phdcs2/Hard_Disk/Projects/T2I/deep-spectral-segmentation/venv/lib/python3.8/site-packages/sklearn/decomposition/_pca.py:642: RuntimeWarning: invalid value encountered in divide\n",
      "  self.explained_variance_ratio_ = self.explained_variance_ / total_var\n"
     ]
    },
    {
     "name": "stdout",
     "output_type": "stream",
     "text": [
      "Starting Training\n",
      "epoch: 00, loss: -0.92304\n",
      "epoch: 01, loss: -0.95325\n",
      "epoch: 02, loss: -0.96057\n",
      "epoch: 03, loss: -0.96478\n",
      "epoch: 04, loss: -0.96765\n",
      "epoch: 05, loss: -0.96983\n",
      "epoch: 06, loss: -0.97150\n",
      "epoch: 07, loss: -0.97286\n",
      "epoch: 08, loss: -0.97402\n",
      "epoch: 09, loss: -0.97501\n",
      "torch.Size([1024, 64])\n"
     ]
    },
    {
     "name": "stderr",
     "output_type": "stream",
     "text": [
      " 52%|█████▏    | 520/999 [10:22:30<9:34:43, 71.99s/it]"
     ]
    },
    {
     "name": "stdout",
     "output_type": "stream",
     "text": [
      "eigenvalues shape torch.Size([5]) eigenvectors shape torch.Size([5, 1024])\n",
      "520 /home/phdcs2/Hard_Disk/Datasets/Deep-Spectral-Segmentation/data/object-segmentation/ECSSD/features/0522_resized.pth\n",
      "dict_keys(['k', 'indices', 'file', 'id', 'model_name', 'patch_size', 'shape'])\n",
      "0522_resized\n",
      "Starting Training\n",
      "epoch: 00, loss: -0.87516\n",
      "epoch: 01, loss: -0.92529\n",
      "epoch: 02, loss: -0.93837\n",
      "epoch: 03, loss: -0.94573\n",
      "epoch: 04, loss: -0.95079\n",
      "epoch: 05, loss: -0.95432\n",
      "epoch: 06, loss: -0.95716\n",
      "epoch: 07, loss: -0.95949\n",
      "epoch: 08, loss: -0.96137\n",
      "epoch: 09, loss: -0.96291\n",
      "torch.Size([1024, 64])\n"
     ]
    },
    {
     "name": "stderr",
     "output_type": "stream",
     "text": [
      " 52%|█████▏    | 521/999 [10:23:41<9:32:07, 71.81s/it]"
     ]
    },
    {
     "name": "stdout",
     "output_type": "stream",
     "text": [
      "eigenvalues shape torch.Size([5]) eigenvectors shape torch.Size([5, 1024])\n",
      "521 /home/phdcs2/Hard_Disk/Datasets/Deep-Spectral-Segmentation/data/object-segmentation/ECSSD/features/0523_resized.pth\n",
      "dict_keys(['k', 'indices', 'file', 'id', 'model_name', 'patch_size', 'shape'])\n",
      "0523_resized\n",
      "Starting Training\n",
      "epoch: 00, loss: -0.87056\n",
      "epoch: 01, loss: -0.91966\n",
      "epoch: 02, loss: -0.93164\n",
      "epoch: 03, loss: -0.93826\n",
      "epoch: 04, loss: -0.94311\n",
      "epoch: 05, loss: -0.94657\n",
      "epoch: 06, loss: -0.94931\n",
      "epoch: 07, loss: -0.95143\n",
      "epoch: 08, loss: -0.95331\n",
      "epoch: 09, loss: -0.95487\n",
      "torch.Size([1024, 64])\n"
     ]
    },
    {
     "name": "stderr",
     "output_type": "stream",
     "text": [
      " 52%|█████▏    | 522/999 [10:24:57<9:40:30, 73.02s/it]"
     ]
    },
    {
     "name": "stdout",
     "output_type": "stream",
     "text": [
      "eigenvalues shape torch.Size([5]) eigenvectors shape torch.Size([5, 1024])\n",
      "522 /home/phdcs2/Hard_Disk/Datasets/Deep-Spectral-Segmentation/data/object-segmentation/ECSSD/features/0524_resized.pth\n",
      "dict_keys(['k', 'indices', 'file', 'id', 'model_name', 'patch_size', 'shape'])\n",
      "0524_resized\n"
     ]
    },
    {
     "name": "stderr",
     "output_type": "stream",
     "text": [
      "/home/phdcs2/Hard_Disk/Projects/T2I/deep-spectral-segmentation/venv/lib/python3.8/site-packages/sklearn/decomposition/_pca.py:642: RuntimeWarning: invalid value encountered in divide\n",
      "  self.explained_variance_ratio_ = self.explained_variance_ / total_var\n"
     ]
    },
    {
     "name": "stdout",
     "output_type": "stream",
     "text": [
      "Starting Training\n",
      "epoch: 00, loss: -0.91655\n",
      "epoch: 01, loss: -0.94988\n",
      "epoch: 02, loss: -0.95808\n",
      "epoch: 03, loss: -0.96280\n",
      "epoch: 04, loss: -0.96598\n",
      "epoch: 05, loss: -0.96834\n",
      "epoch: 06, loss: -0.97019\n",
      "epoch: 07, loss: -0.97171\n",
      "epoch: 08, loss: -0.97297\n",
      "epoch: 09, loss: -0.97403\n",
      "torch.Size([1024, 64])\n"
     ]
    },
    {
     "name": "stderr",
     "output_type": "stream",
     "text": [
      " 52%|█████▏    | 523/999 [10:26:08<9:33:55, 72.34s/it]"
     ]
    },
    {
     "name": "stdout",
     "output_type": "stream",
     "text": [
      "eigenvalues shape torch.Size([5]) eigenvectors shape torch.Size([5, 1024])\n",
      "523 /home/phdcs2/Hard_Disk/Datasets/Deep-Spectral-Segmentation/data/object-segmentation/ECSSD/features/0525_resized.pth\n",
      "dict_keys(['k', 'indices', 'file', 'id', 'model_name', 'patch_size', 'shape'])\n",
      "0525_resized\n",
      "Starting Training\n",
      "epoch: 00, loss: -0.91965\n",
      "epoch: 01, loss: -0.95202\n",
      "epoch: 02, loss: -0.95983\n",
      "epoch: 03, loss: -0.96430\n",
      "epoch: 04, loss: -0.96734\n",
      "epoch: 05, loss: -0.96961\n",
      "epoch: 06, loss: -0.97139\n",
      "epoch: 07, loss: -0.97280\n",
      "epoch: 08, loss: -0.97401\n",
      "epoch: 09, loss: -0.97501\n",
      "torch.Size([1024, 64])\n"
     ]
    },
    {
     "name": "stderr",
     "output_type": "stream",
     "text": [
      " 52%|█████▏    | 524/999 [10:27:19<9:31:23, 72.18s/it]"
     ]
    },
    {
     "name": "stdout",
     "output_type": "stream",
     "text": [
      "eigenvalues shape torch.Size([5]) eigenvectors shape torch.Size([5, 1024])\n",
      "524 /home/phdcs2/Hard_Disk/Datasets/Deep-Spectral-Segmentation/data/object-segmentation/ECSSD/features/0526_resized.pth\n",
      "dict_keys(['k', 'indices', 'file', 'id', 'model_name', 'patch_size', 'shape'])\n",
      "0526_resized\n"
     ]
    },
    {
     "name": "stderr",
     "output_type": "stream",
     "text": [
      "/home/phdcs2/Hard_Disk/Projects/T2I/deep-spectral-segmentation/venv/lib/python3.8/site-packages/sklearn/decomposition/_pca.py:642: RuntimeWarning: invalid value encountered in divide\n",
      "  self.explained_variance_ratio_ = self.explained_variance_ / total_var\n"
     ]
    },
    {
     "name": "stdout",
     "output_type": "stream",
     "text": [
      "Starting Training\n",
      "epoch: 00, loss: -0.90906\n",
      "epoch: 01, loss: -0.94627\n",
      "epoch: 02, loss: -0.95498\n",
      "epoch: 03, loss: -0.95997\n",
      "epoch: 04, loss: -0.96342\n",
      "epoch: 05, loss: -0.96592\n",
      "epoch: 06, loss: -0.96790\n",
      "epoch: 07, loss: -0.96950\n",
      "epoch: 08, loss: -0.97084\n",
      "epoch: 09, loss: -0.97199\n",
      "torch.Size([1024, 64])\n"
     ]
    },
    {
     "name": "stderr",
     "output_type": "stream",
     "text": [
      " 53%|█████▎    | 525/999 [10:28:26<9:17:53, 70.62s/it]"
     ]
    },
    {
     "name": "stdout",
     "output_type": "stream",
     "text": [
      "eigenvalues shape torch.Size([5]) eigenvectors shape torch.Size([5, 1024])\n",
      "525 /home/phdcs2/Hard_Disk/Datasets/Deep-Spectral-Segmentation/data/object-segmentation/ECSSD/features/0527_resized.pth\n",
      "dict_keys(['k', 'indices', 'file', 'id', 'model_name', 'patch_size', 'shape'])\n",
      "0527_resized\n",
      "Starting Training\n",
      "epoch: 00, loss: -0.89727\n",
      "epoch: 01, loss: -0.93967\n",
      "epoch: 02, loss: -0.95010\n",
      "epoch: 03, loss: -0.95609\n",
      "epoch: 04, loss: -0.96006\n",
      "epoch: 05, loss: -0.96306\n",
      "epoch: 06, loss: -0.96535\n",
      "epoch: 07, loss: -0.96719\n",
      "epoch: 08, loss: -0.96862\n",
      "epoch: 09, loss: -0.96995\n",
      "torch.Size([1024, 64])\n"
     ]
    },
    {
     "name": "stderr",
     "output_type": "stream",
     "text": [
      " 53%|█████▎    | 526/999 [10:29:34<9:10:37, 69.85s/it]"
     ]
    },
    {
     "name": "stdout",
     "output_type": "stream",
     "text": [
      "eigenvalues shape torch.Size([5]) eigenvectors shape torch.Size([5, 1024])\n",
      "526 /home/phdcs2/Hard_Disk/Datasets/Deep-Spectral-Segmentation/data/object-segmentation/ECSSD/features/0528_resized.pth\n",
      "dict_keys(['k', 'indices', 'file', 'id', 'model_name', 'patch_size', 'shape'])\n",
      "0528_resized\n",
      "Starting Training\n",
      "epoch: 00, loss: -0.88104\n",
      "epoch: 01, loss: -0.92880\n",
      "epoch: 02, loss: -0.94171\n",
      "epoch: 03, loss: -0.94869\n",
      "epoch: 04, loss: -0.95344\n",
      "epoch: 05, loss: -0.95704\n",
      "epoch: 06, loss: -0.95965\n",
      "epoch: 07, loss: -0.96188\n",
      "epoch: 08, loss: -0.96378\n",
      "epoch: 09, loss: -0.96526\n",
      "torch.Size([1024, 64])\n"
     ]
    },
    {
     "name": "stderr",
     "output_type": "stream",
     "text": [
      " 53%|█████▎    | 527/999 [10:30:42<9:04:25, 69.21s/it]"
     ]
    },
    {
     "name": "stdout",
     "output_type": "stream",
     "text": [
      "eigenvalues shape torch.Size([5]) eigenvectors shape torch.Size([5, 1024])\n",
      "527 /home/phdcs2/Hard_Disk/Datasets/Deep-Spectral-Segmentation/data/object-segmentation/ECSSD/features/0529_resized.pth\n",
      "dict_keys(['k', 'indices', 'file', 'id', 'model_name', 'patch_size', 'shape'])\n",
      "0529_resized\n",
      "Starting Training\n",
      "epoch: 00, loss: -0.87171\n",
      "epoch: 01, loss: -0.92402\n",
      "epoch: 02, loss: -0.93774\n",
      "epoch: 03, loss: -0.94558\n",
      "epoch: 04, loss: -0.95069\n",
      "epoch: 05, loss: -0.95446\n",
      "epoch: 06, loss: -0.95729\n",
      "epoch: 07, loss: -0.95973\n",
      "epoch: 08, loss: -0.96154\n",
      "epoch: 09, loss: -0.96319\n",
      "torch.Size([1024, 64])\n"
     ]
    },
    {
     "name": "stderr",
     "output_type": "stream",
     "text": [
      " 53%|█████▎    | 528/999 [10:31:47<8:52:55, 67.89s/it]"
     ]
    },
    {
     "name": "stdout",
     "output_type": "stream",
     "text": [
      "eigenvalues shape torch.Size([5]) eigenvectors shape torch.Size([5, 1024])\n",
      "528 /home/phdcs2/Hard_Disk/Datasets/Deep-Spectral-Segmentation/data/object-segmentation/ECSSD/features/0530_resized.pth\n",
      "dict_keys(['k', 'indices', 'file', 'id', 'model_name', 'patch_size', 'shape'])\n",
      "0530_resized\n",
      "Starting Training\n",
      "epoch: 00, loss: -0.86219\n",
      "epoch: 01, loss: -0.91833\n",
      "epoch: 02, loss: -0.93220\n",
      "epoch: 03, loss: -0.94008\n",
      "epoch: 04, loss: -0.94529\n",
      "epoch: 05, loss: -0.94931\n",
      "epoch: 06, loss: -0.95232\n",
      "epoch: 07, loss: -0.95473\n",
      "epoch: 08, loss: -0.95691\n",
      "epoch: 09, loss: -0.95854\n",
      "torch.Size([1024, 64])\n"
     ]
    },
    {
     "name": "stderr",
     "output_type": "stream",
     "text": [
      " 53%|█████▎    | 529/999 [10:33:06<9:17:04, 71.12s/it]"
     ]
    },
    {
     "name": "stdout",
     "output_type": "stream",
     "text": [
      "eigenvalues shape torch.Size([5]) eigenvectors shape torch.Size([5, 1024])\n",
      "529 /home/phdcs2/Hard_Disk/Datasets/Deep-Spectral-Segmentation/data/object-segmentation/ECSSD/features/0531_resized.pth\n",
      "dict_keys(['k', 'indices', 'file', 'id', 'model_name', 'patch_size', 'shape'])\n",
      "0531_resized\n",
      "Starting Training\n",
      "epoch: 00, loss: -0.86932\n",
      "epoch: 01, loss: -0.92214\n",
      "epoch: 02, loss: -0.93569\n",
      "epoch: 03, loss: -0.94355\n",
      "epoch: 04, loss: -0.94885\n",
      "epoch: 05, loss: -0.95270\n",
      "epoch: 06, loss: -0.95578\n",
      "epoch: 07, loss: -0.95800\n",
      "epoch: 08, loss: -0.96015\n",
      "epoch: 09, loss: -0.96189\n",
      "torch.Size([1024, 64])\n"
     ]
    },
    {
     "name": "stderr",
     "output_type": "stream",
     "text": [
      " 53%|█████▎    | 530/999 [10:34:21<9:27:07, 72.55s/it]"
     ]
    },
    {
     "name": "stdout",
     "output_type": "stream",
     "text": [
      "eigenvalues shape torch.Size([5]) eigenvectors shape torch.Size([5, 1024])\n",
      "530 /home/phdcs2/Hard_Disk/Datasets/Deep-Spectral-Segmentation/data/object-segmentation/ECSSD/features/0532_resized.pth\n",
      "dict_keys(['k', 'indices', 'file', 'id', 'model_name', 'patch_size', 'shape'])\n",
      "0532_resized\n",
      "Starting Training\n",
      "epoch: 00, loss: -0.85577\n",
      "epoch: 01, loss: -0.91314\n",
      "epoch: 02, loss: -0.92933\n",
      "epoch: 03, loss: -0.93843\n",
      "epoch: 04, loss: -0.94440\n",
      "epoch: 05, loss: -0.94887\n",
      "epoch: 06, loss: -0.95234\n",
      "epoch: 07, loss: -0.95507\n",
      "epoch: 08, loss: -0.95736\n",
      "epoch: 09, loss: -0.95919\n",
      "torch.Size([1024, 64])\n"
     ]
    },
    {
     "name": "stderr",
     "output_type": "stream",
     "text": [
      " 53%|█████▎    | 531/999 [10:35:37<9:32:45, 73.43s/it]"
     ]
    },
    {
     "name": "stdout",
     "output_type": "stream",
     "text": [
      "eigenvalues shape torch.Size([5]) eigenvectors shape torch.Size([5, 1024])\n",
      "531 /home/phdcs2/Hard_Disk/Datasets/Deep-Spectral-Segmentation/data/object-segmentation/ECSSD/features/0533_resized.pth\n",
      "dict_keys(['k', 'indices', 'file', 'id', 'model_name', 'patch_size', 'shape'])\n",
      "0533_resized\n",
      "Starting Training\n",
      "epoch: 00, loss: -0.90616\n",
      "epoch: 01, loss: -0.94482\n",
      "epoch: 02, loss: -0.95378\n",
      "epoch: 03, loss: -0.95916\n",
      "epoch: 04, loss: -0.96273\n",
      "epoch: 05, loss: -0.96538\n",
      "epoch: 06, loss: -0.96745\n",
      "epoch: 07, loss: -0.96915\n",
      "epoch: 08, loss: -0.97059\n",
      "epoch: 09, loss: -0.97176\n",
      "torch.Size([1024, 64])\n"
     ]
    },
    {
     "name": "stderr",
     "output_type": "stream",
     "text": [
      " 53%|█████▎    | 532/999 [10:36:49<9:28:19, 73.02s/it]"
     ]
    },
    {
     "name": "stdout",
     "output_type": "stream",
     "text": [
      "eigenvalues shape torch.Size([5]) eigenvectors shape torch.Size([5, 1024])\n",
      "532 /home/phdcs2/Hard_Disk/Datasets/Deep-Spectral-Segmentation/data/object-segmentation/ECSSD/features/0534_resized.pth\n",
      "dict_keys(['k', 'indices', 'file', 'id', 'model_name', 'patch_size', 'shape'])\n",
      "0534_resized\n",
      "Starting Training\n",
      "epoch: 00, loss: -0.86510\n",
      "epoch: 01, loss: -0.92218\n",
      "epoch: 02, loss: -0.93599\n",
      "epoch: 03, loss: -0.94357\n",
      "epoch: 04, loss: -0.94876\n",
      "epoch: 05, loss: -0.95243\n",
      "epoch: 06, loss: -0.95530\n",
      "epoch: 07, loss: -0.95768\n",
      "epoch: 08, loss: -0.95956\n",
      "epoch: 09, loss: -0.96122\n",
      "torch.Size([1024, 64])\n"
     ]
    },
    {
     "name": "stderr",
     "output_type": "stream",
     "text": [
      " 53%|█████▎    | 533/999 [10:38:00<9:21:36, 72.31s/it]"
     ]
    },
    {
     "name": "stdout",
     "output_type": "stream",
     "text": [
      "eigenvalues shape torch.Size([5]) eigenvectors shape torch.Size([5, 1024])\n",
      "533 /home/phdcs2/Hard_Disk/Datasets/Deep-Spectral-Segmentation/data/object-segmentation/ECSSD/features/0535_resized.pth\n",
      "dict_keys(['k', 'indices', 'file', 'id', 'model_name', 'patch_size', 'shape'])\n",
      "0535_resized\n",
      "Starting Training\n",
      "epoch: 00, loss: -0.91396\n",
      "epoch: 01, loss: -0.94813\n",
      "epoch: 02, loss: -0.95630\n",
      "epoch: 03, loss: -0.96107\n",
      "epoch: 04, loss: -0.96426\n",
      "epoch: 05, loss: -0.96670\n",
      "epoch: 06, loss: -0.96858\n",
      "epoch: 07, loss: -0.97014\n",
      "epoch: 08, loss: -0.97142\n",
      "epoch: 09, loss: -0.97249\n",
      "torch.Size([1024, 64])\n"
     ]
    },
    {
     "name": "stderr",
     "output_type": "stream",
     "text": [
      " 53%|█████▎    | 534/999 [10:39:01<8:54:05, 68.91s/it]"
     ]
    },
    {
     "name": "stdout",
     "output_type": "stream",
     "text": [
      "eigenvalues shape torch.Size([5]) eigenvectors shape torch.Size([5, 1024])\n",
      "534 /home/phdcs2/Hard_Disk/Datasets/Deep-Spectral-Segmentation/data/object-segmentation/ECSSD/features/0536_resized.pth\n",
      "dict_keys(['k', 'indices', 'file', 'id', 'model_name', 'patch_size', 'shape'])\n",
      "0536_resized\n",
      "Starting Training\n",
      "epoch: 00, loss: -0.84394\n",
      "epoch: 01, loss: -0.90539\n",
      "epoch: 02, loss: -0.92260\n",
      "epoch: 03, loss: -0.93214\n",
      "epoch: 04, loss: -0.93874\n",
      "epoch: 05, loss: -0.94344\n",
      "epoch: 06, loss: -0.94698\n",
      "epoch: 07, loss: -0.95008\n",
      "epoch: 08, loss: -0.95239\n",
      "epoch: 09, loss: -0.95453\n",
      "torch.Size([1024, 64])\n"
     ]
    },
    {
     "name": "stderr",
     "output_type": "stream",
     "text": [
      " 54%|█████▎    | 535/999 [10:40:11<8:56:13, 69.34s/it]"
     ]
    },
    {
     "name": "stdout",
     "output_type": "stream",
     "text": [
      "eigenvalues shape torch.Size([5]) eigenvectors shape torch.Size([5, 1024])\n",
      "535 /home/phdcs2/Hard_Disk/Datasets/Deep-Spectral-Segmentation/data/object-segmentation/ECSSD/features/0537_resized.pth\n",
      "dict_keys(['k', 'indices', 'file', 'id', 'model_name', 'patch_size', 'shape'])\n",
      "0537_resized\n",
      "Starting Training\n",
      "epoch: 00, loss: -0.85681\n",
      "epoch: 01, loss: -0.91456\n",
      "epoch: 02, loss: -0.92982\n",
      "epoch: 03, loss: -0.93848\n",
      "epoch: 04, loss: -0.94425\n",
      "epoch: 05, loss: -0.94840\n",
      "epoch: 06, loss: -0.95173\n",
      "epoch: 07, loss: -0.95447\n",
      "epoch: 08, loss: -0.95654\n",
      "epoch: 09, loss: -0.95846\n",
      "torch.Size([1024, 64])\n"
     ]
    },
    {
     "name": "stderr",
     "output_type": "stream",
     "text": [
      " 54%|█████▎    | 536/999 [10:41:08<8:26:22, 65.62s/it]"
     ]
    },
    {
     "name": "stdout",
     "output_type": "stream",
     "text": [
      "eigenvalues shape torch.Size([5]) eigenvectors shape torch.Size([5, 1024])\n",
      "536 /home/phdcs2/Hard_Disk/Datasets/Deep-Spectral-Segmentation/data/object-segmentation/ECSSD/features/0538_resized.pth\n",
      "dict_keys(['k', 'indices', 'file', 'id', 'model_name', 'patch_size', 'shape'])\n",
      "0538_resized\n",
      "Starting Training\n",
      "epoch: 00, loss: -0.90624\n",
      "epoch: 01, loss: -0.94533\n",
      "epoch: 02, loss: -0.95449\n",
      "epoch: 03, loss: -0.95975\n",
      "epoch: 04, loss: -0.96330\n",
      "epoch: 05, loss: -0.96596\n",
      "epoch: 06, loss: -0.96800\n",
      "epoch: 07, loss: -0.96967\n",
      "epoch: 08, loss: -0.97104\n",
      "epoch: 09, loss: -0.97222\n",
      "torch.Size([1024, 64])\n"
     ]
    },
    {
     "name": "stderr",
     "output_type": "stream",
     "text": [
      " 54%|█████▍    | 537/999 [10:42:09<8:15:13, 64.32s/it]"
     ]
    },
    {
     "name": "stdout",
     "output_type": "stream",
     "text": [
      "eigenvalues shape torch.Size([5]) eigenvectors shape torch.Size([5, 1024])\n",
      "537 /home/phdcs2/Hard_Disk/Datasets/Deep-Spectral-Segmentation/data/object-segmentation/ECSSD/features/0539_resized.pth\n",
      "dict_keys(['k', 'indices', 'file', 'id', 'model_name', 'patch_size', 'shape'])\n",
      "0539_resized\n",
      "Starting Training\n",
      "epoch: 00, loss: -0.85567\n",
      "epoch: 01, loss: -0.91303\n",
      "epoch: 02, loss: -0.92729\n",
      "epoch: 03, loss: -0.93544\n",
      "epoch: 04, loss: -0.94084\n",
      "epoch: 05, loss: -0.94469\n",
      "epoch: 06, loss: -0.94792\n",
      "epoch: 07, loss: -0.95053\n",
      "epoch: 08, loss: -0.95254\n",
      "epoch: 09, loss: -0.95425\n",
      "torch.Size([1024, 64])\n"
     ]
    },
    {
     "name": "stderr",
     "output_type": "stream",
     "text": [
      " 54%|█████▍    | 538/999 [10:43:05<7:55:30, 61.89s/it]"
     ]
    },
    {
     "name": "stdout",
     "output_type": "stream",
     "text": [
      "eigenvalues shape torch.Size([5]) eigenvectors shape torch.Size([5, 1024])\n",
      "538 /home/phdcs2/Hard_Disk/Datasets/Deep-Spectral-Segmentation/data/object-segmentation/ECSSD/features/0540_resized.pth\n",
      "dict_keys(['k', 'indices', 'file', 'id', 'model_name', 'patch_size', 'shape'])\n",
      "0540_resized\n"
     ]
    },
    {
     "name": "stderr",
     "output_type": "stream",
     "text": [
      "/home/phdcs2/Hard_Disk/Projects/T2I/deep-spectral-segmentation/venv/lib/python3.8/site-packages/sklearn/decomposition/_pca.py:642: RuntimeWarning: invalid value encountered in divide\n",
      "  self.explained_variance_ratio_ = self.explained_variance_ / total_var\n"
     ]
    },
    {
     "name": "stdout",
     "output_type": "stream",
     "text": [
      "Starting Training\n",
      "epoch: 00, loss: -0.93149\n",
      "epoch: 01, loss: -0.95848\n",
      "epoch: 02, loss: -0.96508\n",
      "epoch: 03, loss: -0.96890\n",
      "epoch: 04, loss: -0.97153\n",
      "epoch: 05, loss: -0.97346\n",
      "epoch: 06, loss: -0.97500\n",
      "epoch: 07, loss: -0.97623\n",
      "epoch: 08, loss: -0.97729\n",
      "epoch: 09, loss: -0.97816\n",
      "torch.Size([1024, 64])\n"
     ]
    },
    {
     "name": "stderr",
     "output_type": "stream",
     "text": [
      " 54%|█████▍    | 539/999 [10:44:01<7:39:06, 59.88s/it]"
     ]
    },
    {
     "name": "stdout",
     "output_type": "stream",
     "text": [
      "eigenvalues shape torch.Size([5]) eigenvectors shape torch.Size([5, 1024])\n",
      "539 /home/phdcs2/Hard_Disk/Datasets/Deep-Spectral-Segmentation/data/object-segmentation/ECSSD/features/0541_resized.pth\n",
      "dict_keys(['k', 'indices', 'file', 'id', 'model_name', 'patch_size', 'shape'])\n",
      "0541_resized\n",
      "Starting Training\n",
      "epoch: 00, loss: -0.87745\n",
      "epoch: 01, loss: -0.92674\n",
      "epoch: 02, loss: -0.93922\n",
      "epoch: 03, loss: -0.94616\n",
      "epoch: 04, loss: -0.95119\n",
      "epoch: 05, loss: -0.95477\n",
      "epoch: 06, loss: -0.95771\n",
      "epoch: 07, loss: -0.95991\n",
      "epoch: 08, loss: -0.96176\n",
      "epoch: 09, loss: -0.96347\n",
      "torch.Size([1024, 64])\n"
     ]
    },
    {
     "name": "stderr",
     "output_type": "stream",
     "text": [
      " 54%|█████▍    | 540/999 [10:45:10<7:58:48, 62.59s/it]"
     ]
    },
    {
     "name": "stdout",
     "output_type": "stream",
     "text": [
      "eigenvalues shape torch.Size([5]) eigenvectors shape torch.Size([5, 1024])\n",
      "540 /home/phdcs2/Hard_Disk/Datasets/Deep-Spectral-Segmentation/data/object-segmentation/ECSSD/features/0542_resized.pth\n",
      "dict_keys(['k', 'indices', 'file', 'id', 'model_name', 'patch_size', 'shape'])\n",
      "0542_resized\n",
      "Starting Training\n",
      "epoch: 00, loss: -0.92301\n",
      "epoch: 01, loss: -0.95522\n",
      "epoch: 02, loss: -0.96207\n",
      "epoch: 03, loss: -0.96605\n",
      "epoch: 04, loss: -0.96875\n",
      "epoch: 05, loss: -0.97079\n",
      "epoch: 06, loss: -0.97240\n",
      "epoch: 07, loss: -0.97373\n",
      "epoch: 08, loss: -0.97479\n",
      "epoch: 09, loss: -0.97575\n",
      "torch.Size([1024, 64])\n"
     ]
    },
    {
     "name": "stderr",
     "output_type": "stream",
     "text": [
      " 54%|█████▍    | 541/999 [10:46:14<8:01:30, 63.08s/it]"
     ]
    },
    {
     "name": "stdout",
     "output_type": "stream",
     "text": [
      "eigenvalues shape torch.Size([5]) eigenvectors shape torch.Size([5, 1024])\n",
      "541 /home/phdcs2/Hard_Disk/Datasets/Deep-Spectral-Segmentation/data/object-segmentation/ECSSD/features/0543_resized.pth\n",
      "dict_keys(['k', 'indices', 'file', 'id', 'model_name', 'patch_size', 'shape'])\n",
      "0543_resized\n",
      "Starting Training\n",
      "epoch: 00, loss: -0.84692\n",
      "epoch: 01, loss: -0.90887\n",
      "epoch: 02, loss: -0.92471\n",
      "epoch: 03, loss: -0.93367\n",
      "epoch: 04, loss: -0.93966\n",
      "epoch: 05, loss: -0.94387\n",
      "epoch: 06, loss: -0.94718\n",
      "epoch: 07, loss: -0.94981\n",
      "epoch: 08, loss: -0.95223\n",
      "epoch: 09, loss: -0.95410\n",
      "torch.Size([1024, 64])\n"
     ]
    },
    {
     "name": "stderr",
     "output_type": "stream",
     "text": [
      " 54%|█████▍    | 542/999 [10:47:23<8:13:36, 64.81s/it]"
     ]
    },
    {
     "name": "stdout",
     "output_type": "stream",
     "text": [
      "eigenvalues shape torch.Size([5]) eigenvectors shape torch.Size([5, 1024])\n",
      "542 /home/phdcs2/Hard_Disk/Datasets/Deep-Spectral-Segmentation/data/object-segmentation/ECSSD/features/0544_resized.pth\n",
      "dict_keys(['k', 'indices', 'file', 'id', 'model_name', 'patch_size', 'shape'])\n",
      "0544_resized\n",
      "Starting Training\n",
      "epoch: 00, loss: -0.83759\n",
      "epoch: 01, loss: -0.90310\n",
      "epoch: 02, loss: -0.92107\n",
      "epoch: 03, loss: -0.93131\n",
      "epoch: 04, loss: -0.93782\n",
      "epoch: 05, loss: -0.94265\n",
      "epoch: 06, loss: -0.94632\n",
      "epoch: 07, loss: -0.94941\n",
      "epoch: 08, loss: -0.95191\n",
      "epoch: 09, loss: -0.95410\n",
      "torch.Size([1024, 64])\n"
     ]
    },
    {
     "name": "stderr",
     "output_type": "stream",
     "text": [
      " 54%|█████▍    | 543/999 [10:48:34<8:27:13, 66.74s/it]"
     ]
    },
    {
     "name": "stdout",
     "output_type": "stream",
     "text": [
      "eigenvalues shape torch.Size([5]) eigenvectors shape torch.Size([5, 1024])\n",
      "543 /home/phdcs2/Hard_Disk/Datasets/Deep-Spectral-Segmentation/data/object-segmentation/ECSSD/features/0545_resized.pth\n",
      "dict_keys(['k', 'indices', 'file', 'id', 'model_name', 'patch_size', 'shape'])\n",
      "0545_resized\n",
      "Starting Training\n",
      "epoch: 00, loss: -0.87403\n",
      "epoch: 01, loss: -0.92439\n",
      "epoch: 02, loss: -0.93758\n",
      "epoch: 03, loss: -0.94534\n",
      "epoch: 04, loss: -0.95052\n",
      "epoch: 05, loss: -0.95420\n",
      "epoch: 06, loss: -0.95709\n",
      "epoch: 07, loss: -0.95945\n",
      "epoch: 08, loss: -0.96141\n",
      "epoch: 09, loss: -0.96300\n",
      "torch.Size([1024, 64])\n"
     ]
    },
    {
     "name": "stderr",
     "output_type": "stream",
     "text": [
      " 54%|█████▍    | 544/999 [10:49:40<8:25:35, 66.67s/it]"
     ]
    },
    {
     "name": "stdout",
     "output_type": "stream",
     "text": [
      "eigenvalues shape torch.Size([5]) eigenvectors shape torch.Size([5, 1024])\n",
      "544 /home/phdcs2/Hard_Disk/Datasets/Deep-Spectral-Segmentation/data/object-segmentation/ECSSD/features/0546_resized.pth\n",
      "dict_keys(['k', 'indices', 'file', 'id', 'model_name', 'patch_size', 'shape'])\n",
      "0546_resized\n",
      "Starting Training\n",
      "epoch: 00, loss: -0.91027\n",
      "epoch: 01, loss: -0.94735\n",
      "epoch: 02, loss: -0.95591\n",
      "epoch: 03, loss: -0.96082\n",
      "epoch: 04, loss: -0.96418\n",
      "epoch: 05, loss: -0.96664\n",
      "epoch: 06, loss: -0.96857\n",
      "epoch: 07, loss: -0.97015\n",
      "epoch: 08, loss: -0.97146\n",
      "epoch: 09, loss: -0.97256\n",
      "torch.Size([1024, 64])\n"
     ]
    },
    {
     "name": "stderr",
     "output_type": "stream",
     "text": [
      " 55%|█████▍    | 545/999 [10:50:47<8:24:36, 66.69s/it]"
     ]
    },
    {
     "name": "stdout",
     "output_type": "stream",
     "text": [
      "eigenvalues shape torch.Size([5]) eigenvectors shape torch.Size([5, 1024])\n",
      "545 /home/phdcs2/Hard_Disk/Datasets/Deep-Spectral-Segmentation/data/object-segmentation/ECSSD/features/0547_resized.pth\n",
      "dict_keys(['k', 'indices', 'file', 'id', 'model_name', 'patch_size', 'shape'])\n",
      "0547_resized\n"
     ]
    },
    {
     "name": "stderr",
     "output_type": "stream",
     "text": [
      "/home/phdcs2/Hard_Disk/Projects/T2I/deep-spectral-segmentation/venv/lib/python3.8/site-packages/sklearn/decomposition/_pca.py:642: RuntimeWarning: invalid value encountered in divide\n",
      "  self.explained_variance_ratio_ = self.explained_variance_ / total_var\n"
     ]
    },
    {
     "name": "stdout",
     "output_type": "stream",
     "text": [
      "Starting Training\n",
      "epoch: 00, loss: -0.91954\n",
      "epoch: 01, loss: -0.95098\n",
      "epoch: 02, loss: -0.95830\n",
      "epoch: 03, loss: -0.96257\n",
      "epoch: 04, loss: -0.96554\n",
      "epoch: 05, loss: -0.96769\n",
      "epoch: 06, loss: -0.96939\n",
      "epoch: 07, loss: -0.97081\n",
      "epoch: 08, loss: -0.97200\n",
      "epoch: 09, loss: -0.97297\n",
      "torch.Size([1024, 64])\n"
     ]
    },
    {
     "name": "stderr",
     "output_type": "stream",
     "text": [
      " 55%|█████▍    | 546/999 [10:51:57<8:31:33, 67.76s/it]"
     ]
    },
    {
     "name": "stdout",
     "output_type": "stream",
     "text": [
      "eigenvalues shape torch.Size([5]) eigenvectors shape torch.Size([5, 1024])\n",
      "546 /home/phdcs2/Hard_Disk/Datasets/Deep-Spectral-Segmentation/data/object-segmentation/ECSSD/features/0548_resized.pth\n",
      "dict_keys(['k', 'indices', 'file', 'id', 'model_name', 'patch_size', 'shape'])\n",
      "0548_resized\n",
      "Starting Training\n",
      "epoch: 00, loss: -0.85761\n",
      "epoch: 01, loss: -0.91807\n",
      "epoch: 02, loss: -0.93261\n",
      "epoch: 03, loss: -0.94074\n",
      "epoch: 04, loss: -0.94622\n",
      "epoch: 05, loss: -0.95005\n",
      "epoch: 06, loss: -0.95311\n",
      "epoch: 07, loss: -0.95552\n",
      "epoch: 08, loss: -0.95765\n",
      "epoch: 09, loss: -0.95926\n",
      "torch.Size([1024, 64])\n"
     ]
    },
    {
     "name": "stderr",
     "output_type": "stream",
     "text": [
      " 55%|█████▍    | 547/999 [10:53:11<8:42:43, 69.39s/it]"
     ]
    },
    {
     "name": "stdout",
     "output_type": "stream",
     "text": [
      "eigenvalues shape torch.Size([5]) eigenvectors shape torch.Size([5, 1024])\n",
      "547 /home/phdcs2/Hard_Disk/Datasets/Deep-Spectral-Segmentation/data/object-segmentation/ECSSD/features/0549_resized.pth\n",
      "dict_keys(['k', 'indices', 'file', 'id', 'model_name', 'patch_size', 'shape'])\n",
      "0549_resized\n",
      "Starting Training\n",
      "epoch: 00, loss: -0.91585\n",
      "epoch: 01, loss: -0.94959\n",
      "epoch: 02, loss: -0.95696\n",
      "epoch: 03, loss: -0.96139\n",
      "epoch: 04, loss: -0.96439\n",
      "epoch: 05, loss: -0.96666\n",
      "epoch: 06, loss: -0.96847\n",
      "epoch: 07, loss: -0.96996\n",
      "epoch: 08, loss: -0.97120\n",
      "epoch: 09, loss: -0.97225\n",
      "torch.Size([1024, 64])\n"
     ]
    },
    {
     "name": "stderr",
     "output_type": "stream",
     "text": [
      " 55%|█████▍    | 548/999 [10:54:18<8:38:05, 68.93s/it]"
     ]
    },
    {
     "name": "stdout",
     "output_type": "stream",
     "text": [
      "eigenvalues shape torch.Size([5]) eigenvectors shape torch.Size([5, 1024])\n",
      "548 /home/phdcs2/Hard_Disk/Datasets/Deep-Spectral-Segmentation/data/object-segmentation/ECSSD/features/0550_resized.pth\n",
      "dict_keys(['k', 'indices', 'file', 'id', 'model_name', 'patch_size', 'shape'])\n",
      "0550_resized\n",
      "Starting Training\n",
      "epoch: 00, loss: -0.93806\n",
      "epoch: 01, loss: -0.96217\n",
      "epoch: 02, loss: -0.96786\n",
      "epoch: 03, loss: -0.97120\n",
      "epoch: 04, loss: -0.97352\n",
      "epoch: 05, loss: -0.97523\n",
      "epoch: 06, loss: -0.97660\n",
      "epoch: 07, loss: -0.97770\n",
      "epoch: 08, loss: -0.97865\n",
      "epoch: 09, loss: -0.97943\n",
      "torch.Size([1024, 64])\n"
     ]
    },
    {
     "name": "stderr",
     "output_type": "stream",
     "text": [
      " 55%|█████▍    | 549/999 [10:55:30<8:43:56, 69.86s/it]"
     ]
    },
    {
     "name": "stdout",
     "output_type": "stream",
     "text": [
      "eigenvalues shape torch.Size([5]) eigenvectors shape torch.Size([5, 1024])\n",
      "549 /home/phdcs2/Hard_Disk/Datasets/Deep-Spectral-Segmentation/data/object-segmentation/ECSSD/features/0551_resized.pth\n",
      "dict_keys(['k', 'indices', 'file', 'id', 'model_name', 'patch_size', 'shape'])\n",
      "0551_resized\n",
      "Starting Training\n",
      "epoch: 00, loss: -0.91666\n",
      "epoch: 01, loss: -0.95114\n",
      "epoch: 02, loss: -0.95888\n",
      "epoch: 03, loss: -0.96330\n",
      "epoch: 04, loss: -0.96631\n",
      "epoch: 05, loss: -0.96857\n",
      "epoch: 06, loss: -0.97032\n",
      "epoch: 07, loss: -0.97173\n",
      "epoch: 08, loss: -0.97294\n",
      "epoch: 09, loss: -0.97396\n",
      "torch.Size([1024, 64])\n"
     ]
    },
    {
     "name": "stderr",
     "output_type": "stream",
     "text": [
      " 55%|█████▌    | 550/999 [10:56:44<8:51:02, 70.96s/it]"
     ]
    },
    {
     "name": "stdout",
     "output_type": "stream",
     "text": [
      "eigenvalues shape torch.Size([5]) eigenvectors shape torch.Size([5, 1024])\n",
      "550 /home/phdcs2/Hard_Disk/Datasets/Deep-Spectral-Segmentation/data/object-segmentation/ECSSD/features/0552_resized.pth\n",
      "dict_keys(['k', 'indices', 'file', 'id', 'model_name', 'patch_size', 'shape'])\n",
      "0552_resized\n",
      "Starting Training\n",
      "epoch: 00, loss: -0.89451\n",
      "epoch: 01, loss: -0.93613\n",
      "epoch: 02, loss: -0.94711\n",
      "epoch: 03, loss: -0.95346\n",
      "epoch: 04, loss: -0.95781\n",
      "epoch: 05, loss: -0.96092\n",
      "epoch: 06, loss: -0.96343\n",
      "epoch: 07, loss: -0.96538\n",
      "epoch: 08, loss: -0.96707\n",
      "epoch: 09, loss: -0.96851\n",
      "torch.Size([1024, 64])\n"
     ]
    },
    {
     "name": "stderr",
     "output_type": "stream",
     "text": [
      " 55%|█████▌    | 551/999 [10:58:00<9:01:26, 72.51s/it]"
     ]
    },
    {
     "name": "stdout",
     "output_type": "stream",
     "text": [
      "eigenvalues shape torch.Size([5]) eigenvectors shape torch.Size([5, 1024])\n",
      "551 /home/phdcs2/Hard_Disk/Datasets/Deep-Spectral-Segmentation/data/object-segmentation/ECSSD/features/0553_resized.pth\n",
      "dict_keys(['k', 'indices', 'file', 'id', 'model_name', 'patch_size', 'shape'])\n",
      "0553_resized\n",
      "Starting Training\n",
      "epoch: 00, loss: -0.88010\n",
      "epoch: 01, loss: -0.92634\n",
      "epoch: 02, loss: -0.93862\n",
      "epoch: 03, loss: -0.94572\n",
      "epoch: 04, loss: -0.95059\n",
      "epoch: 05, loss: -0.95409\n",
      "epoch: 06, loss: -0.95682\n",
      "epoch: 07, loss: -0.95905\n",
      "epoch: 08, loss: -0.96088\n",
      "epoch: 09, loss: -0.96258\n",
      "torch.Size([1024, 64])\n"
     ]
    },
    {
     "name": "stderr",
     "output_type": "stream",
     "text": [
      " 55%|█████▌    | 552/999 [10:59:11<8:56:36, 72.03s/it]"
     ]
    },
    {
     "name": "stdout",
     "output_type": "stream",
     "text": [
      "eigenvalues shape torch.Size([5]) eigenvectors shape torch.Size([5, 1024])\n",
      "552 /home/phdcs2/Hard_Disk/Datasets/Deep-Spectral-Segmentation/data/object-segmentation/ECSSD/features/0554_resized.pth\n",
      "dict_keys(['k', 'indices', 'file', 'id', 'model_name', 'patch_size', 'shape'])\n",
      "0554_resized\n",
      "Starting Training\n",
      "epoch: 00, loss: -0.85752\n",
      "epoch: 01, loss: -0.91618\n",
      "epoch: 02, loss: -0.93105\n",
      "epoch: 03, loss: -0.93940\n",
      "epoch: 04, loss: -0.94506\n",
      "epoch: 05, loss: -0.94919\n",
      "epoch: 06, loss: -0.95242\n",
      "epoch: 07, loss: -0.95496\n",
      "epoch: 08, loss: -0.95703\n",
      "epoch: 09, loss: -0.95876\n",
      "torch.Size([1024, 64])\n"
     ]
    },
    {
     "name": "stderr",
     "output_type": "stream",
     "text": [
      " 55%|█████▌    | 553/999 [11:00:20<8:49:47, 71.27s/it]"
     ]
    },
    {
     "name": "stdout",
     "output_type": "stream",
     "text": [
      "eigenvalues shape torch.Size([5]) eigenvectors shape torch.Size([5, 1024])\n",
      "553 /home/phdcs2/Hard_Disk/Datasets/Deep-Spectral-Segmentation/data/object-segmentation/ECSSD/features/0555_resized.pth\n",
      "dict_keys(['k', 'indices', 'file', 'id', 'model_name', 'patch_size', 'shape'])\n",
      "0555_resized\n",
      "Starting Training\n",
      "epoch: 00, loss: -0.86244\n",
      "epoch: 01, loss: -0.91901\n",
      "epoch: 02, loss: -0.93376\n",
      "epoch: 03, loss: -0.94207\n",
      "epoch: 04, loss: -0.94751\n",
      "epoch: 05, loss: -0.95159\n",
      "epoch: 06, loss: -0.95473\n",
      "epoch: 07, loss: -0.95733\n",
      "epoch: 08, loss: -0.95936\n",
      "epoch: 09, loss: -0.96112\n",
      "torch.Size([1024, 64])\n"
     ]
    },
    {
     "name": "stderr",
     "output_type": "stream",
     "text": [
      " 55%|█████▌    | 554/999 [11:01:26<8:36:19, 69.62s/it]"
     ]
    },
    {
     "name": "stdout",
     "output_type": "stream",
     "text": [
      "eigenvalues shape torch.Size([5]) eigenvectors shape torch.Size([5, 1024])\n",
      "554 /home/phdcs2/Hard_Disk/Datasets/Deep-Spectral-Segmentation/data/object-segmentation/ECSSD/features/0556_resized.pth\n",
      "dict_keys(['k', 'indices', 'file', 'id', 'model_name', 'patch_size', 'shape'])\n",
      "0556_resized\n",
      "Starting Training\n",
      "epoch: 00, loss: -0.87496\n",
      "epoch: 01, loss: -0.92064\n",
      "epoch: 02, loss: -0.93403\n",
      "epoch: 03, loss: -0.94186\n",
      "epoch: 04, loss: -0.94722\n",
      "epoch: 05, loss: -0.95097\n",
      "epoch: 06, loss: -0.95404\n",
      "epoch: 07, loss: -0.95647\n",
      "epoch: 08, loss: -0.95837\n",
      "epoch: 09, loss: -0.96014\n",
      "torch.Size([1024, 64])\n"
     ]
    },
    {
     "name": "stderr",
     "output_type": "stream",
     "text": [
      " 56%|█████▌    | 555/999 [11:02:26<8:14:03, 66.76s/it]"
     ]
    },
    {
     "name": "stdout",
     "output_type": "stream",
     "text": [
      "eigenvalues shape torch.Size([5]) eigenvectors shape torch.Size([5, 1024])\n",
      "555 /home/phdcs2/Hard_Disk/Datasets/Deep-Spectral-Segmentation/data/object-segmentation/ECSSD/features/0557_resized.pth\n",
      "dict_keys(['k', 'indices', 'file', 'id', 'model_name', 'patch_size', 'shape'])\n",
      "0557_resized\n"
     ]
    },
    {
     "name": "stderr",
     "output_type": "stream",
     "text": [
      "/home/phdcs2/Hard_Disk/Projects/T2I/deep-spectral-segmentation/venv/lib/python3.8/site-packages/sklearn/decomposition/_pca.py:642: RuntimeWarning: invalid value encountered in divide\n",
      "  self.explained_variance_ratio_ = self.explained_variance_ / total_var\n"
     ]
    },
    {
     "name": "stdout",
     "output_type": "stream",
     "text": [
      "Starting Training\n",
      "epoch: 00, loss: -0.91698\n",
      "epoch: 01, loss: -0.95006\n",
      "epoch: 02, loss: -0.95756\n",
      "epoch: 03, loss: -0.96187\n",
      "epoch: 04, loss: -0.96478\n",
      "epoch: 05, loss: -0.96699\n",
      "epoch: 06, loss: -0.96872\n",
      "epoch: 07, loss: -0.97013\n",
      "epoch: 08, loss: -0.97131\n",
      "epoch: 09, loss: -0.97230\n",
      "torch.Size([1024, 64])\n"
     ]
    },
    {
     "name": "stderr",
     "output_type": "stream",
     "text": [
      " 56%|█████▌    | 556/999 [11:03:23<7:51:03, 63.80s/it]"
     ]
    },
    {
     "name": "stdout",
     "output_type": "stream",
     "text": [
      "eigenvalues shape torch.Size([5]) eigenvectors shape torch.Size([5, 1024])\n",
      "556 /home/phdcs2/Hard_Disk/Datasets/Deep-Spectral-Segmentation/data/object-segmentation/ECSSD/features/0558_resized.pth\n",
      "dict_keys(['k', 'indices', 'file', 'id', 'model_name', 'patch_size', 'shape'])\n",
      "0558_resized\n",
      "Starting Training\n",
      "epoch: 00, loss: -0.86333\n",
      "epoch: 01, loss: -0.91821\n",
      "epoch: 02, loss: -0.93287\n",
      "epoch: 03, loss: -0.94150\n",
      "epoch: 04, loss: -0.94698\n",
      "epoch: 05, loss: -0.95122\n",
      "epoch: 06, loss: -0.95433\n",
      "epoch: 07, loss: -0.95694\n",
      "epoch: 08, loss: -0.95900\n",
      "epoch: 09, loss: -0.96079\n",
      "torch.Size([1024, 64])\n"
     ]
    },
    {
     "name": "stderr",
     "output_type": "stream",
     "text": [
      " 56%|█████▌    | 557/999 [11:04:21<7:35:44, 61.86s/it]"
     ]
    },
    {
     "name": "stdout",
     "output_type": "stream",
     "text": [
      "eigenvalues shape torch.Size([5]) eigenvectors shape torch.Size([5, 1024])\n",
      "557 /home/phdcs2/Hard_Disk/Datasets/Deep-Spectral-Segmentation/data/object-segmentation/ECSSD/features/0559_resized.pth\n",
      "dict_keys(['k', 'indices', 'file', 'id', 'model_name', 'patch_size', 'shape'])\n",
      "0559_resized\n",
      "Starting Training\n",
      "epoch: 00, loss: -0.90705\n",
      "epoch: 01, loss: -0.94409\n",
      "epoch: 02, loss: -0.95275\n",
      "epoch: 03, loss: -0.95779\n",
      "epoch: 04, loss: -0.96125\n",
      "epoch: 05, loss: -0.96389\n",
      "epoch: 06, loss: -0.96588\n",
      "epoch: 07, loss: -0.96755\n",
      "epoch: 08, loss: -0.96893\n",
      "epoch: 09, loss: -0.97014\n",
      "torch.Size([1024, 64])\n"
     ]
    },
    {
     "name": "stderr",
     "output_type": "stream",
     "text": [
      " 56%|█████▌    | 558/999 [11:05:31<7:54:11, 64.51s/it]"
     ]
    },
    {
     "name": "stdout",
     "output_type": "stream",
     "text": [
      "eigenvalues shape torch.Size([5]) eigenvectors shape torch.Size([5, 1024])\n",
      "558 /home/phdcs2/Hard_Disk/Datasets/Deep-Spectral-Segmentation/data/object-segmentation/ECSSD/features/0560_resized.pth\n",
      "dict_keys(['k', 'indices', 'file', 'id', 'model_name', 'patch_size', 'shape'])\n",
      "0560_resized\n"
     ]
    },
    {
     "name": "stderr",
     "output_type": "stream",
     "text": [
      "/home/phdcs2/Hard_Disk/Projects/T2I/deep-spectral-segmentation/venv/lib/python3.8/site-packages/sklearn/decomposition/_pca.py:642: RuntimeWarning: invalid value encountered in divide\n",
      "  self.explained_variance_ratio_ = self.explained_variance_ / total_var\n"
     ]
    },
    {
     "name": "stdout",
     "output_type": "stream",
     "text": [
      "Starting Training\n",
      "epoch: 00, loss: -0.89719\n",
      "epoch: 01, loss: -0.93684\n",
      "epoch: 02, loss: -0.94697\n",
      "epoch: 03, loss: -0.95284\n",
      "epoch: 04, loss: -0.95682\n",
      "epoch: 05, loss: -0.95983\n",
      "epoch: 06, loss: -0.96213\n",
      "epoch: 07, loss: -0.96401\n",
      "epoch: 08, loss: -0.96558\n",
      "epoch: 09, loss: -0.96690\n",
      "torch.Size([1024, 64])\n"
     ]
    },
    {
     "name": "stderr",
     "output_type": "stream",
     "text": [
      " 56%|█████▌    | 559/999 [11:06:44<8:11:08, 66.97s/it]"
     ]
    },
    {
     "name": "stdout",
     "output_type": "stream",
     "text": [
      "eigenvalues shape torch.Size([5]) eigenvectors shape torch.Size([5, 1024])\n",
      "559 /home/phdcs2/Hard_Disk/Datasets/Deep-Spectral-Segmentation/data/object-segmentation/ECSSD/features/0561_resized.pth\n",
      "dict_keys(['k', 'indices', 'file', 'id', 'model_name', 'patch_size', 'shape'])\n",
      "0561_resized\n",
      "Starting Training\n",
      "epoch: 00, loss: -0.88155\n",
      "epoch: 01, loss: -0.93022\n",
      "epoch: 02, loss: -0.94247\n",
      "epoch: 03, loss: -0.94962\n",
      "epoch: 04, loss: -0.95439\n",
      "epoch: 05, loss: -0.95774\n",
      "epoch: 06, loss: -0.96046\n",
      "epoch: 07, loss: -0.96263\n",
      "epoch: 08, loss: -0.96442\n",
      "epoch: 09, loss: -0.96586\n",
      "torch.Size([1024, 64])\n"
     ]
    },
    {
     "name": "stderr",
     "output_type": "stream",
     "text": [
      " 56%|█████▌    | 560/999 [11:07:53<8:14:52, 67.64s/it]"
     ]
    },
    {
     "name": "stdout",
     "output_type": "stream",
     "text": [
      "eigenvalues shape torch.Size([5]) eigenvectors shape torch.Size([5, 1024])\n",
      "560 /home/phdcs2/Hard_Disk/Datasets/Deep-Spectral-Segmentation/data/object-segmentation/ECSSD/features/0562_resized.pth\n",
      "dict_keys(['k', 'indices', 'file', 'id', 'model_name', 'patch_size', 'shape'])\n",
      "0562_resized\n",
      "Starting Training\n",
      "epoch: 00, loss: -0.92819\n",
      "epoch: 01, loss: -0.95819\n",
      "epoch: 02, loss: -0.96498\n",
      "epoch: 03, loss: -0.96890\n",
      "epoch: 04, loss: -0.97156\n",
      "epoch: 05, loss: -0.97355\n",
      "epoch: 06, loss: -0.97509\n",
      "epoch: 07, loss: -0.97635\n",
      "epoch: 08, loss: -0.97741\n",
      "epoch: 09, loss: -0.97831\n",
      "torch.Size([1024, 64])\n"
     ]
    },
    {
     "name": "stderr",
     "output_type": "stream",
     "text": [
      " 56%|█████▌    | 561/999 [11:09:04<8:20:41, 68.59s/it]"
     ]
    },
    {
     "name": "stdout",
     "output_type": "stream",
     "text": [
      "eigenvalues shape torch.Size([5]) eigenvectors shape torch.Size([5, 1024])\n",
      "561 /home/phdcs2/Hard_Disk/Datasets/Deep-Spectral-Segmentation/data/object-segmentation/ECSSD/features/0563_resized.pth\n",
      "dict_keys(['k', 'indices', 'file', 'id', 'model_name', 'patch_size', 'shape'])\n",
      "0563_resized\n"
     ]
    },
    {
     "name": "stderr",
     "output_type": "stream",
     "text": [
      "/home/phdcs2/Hard_Disk/Projects/T2I/deep-spectral-segmentation/venv/lib/python3.8/site-packages/sklearn/decomposition/_pca.py:642: RuntimeWarning: invalid value encountered in divide\n",
      "  self.explained_variance_ratio_ = self.explained_variance_ / total_var\n"
     ]
    },
    {
     "name": "stdout",
     "output_type": "stream",
     "text": [
      "Starting Training\n",
      "epoch: 00, loss: -0.91420\n",
      "epoch: 01, loss: -0.94843\n",
      "epoch: 02, loss: -0.95684\n",
      "epoch: 03, loss: -0.96176\n",
      "epoch: 04, loss: -0.96506\n",
      "epoch: 05, loss: -0.96750\n",
      "epoch: 06, loss: -0.96943\n",
      "epoch: 07, loss: -0.97098\n",
      "epoch: 08, loss: -0.97227\n",
      "epoch: 09, loss: -0.97339\n",
      "torch.Size([1024, 64])\n"
     ]
    },
    {
     "name": "stderr",
     "output_type": "stream",
     "text": [
      " 56%|█████▋    | 562/999 [11:10:09<8:12:20, 67.60s/it]"
     ]
    },
    {
     "name": "stdout",
     "output_type": "stream",
     "text": [
      "eigenvalues shape torch.Size([5]) eigenvectors shape torch.Size([5, 1024])\n",
      "562 /home/phdcs2/Hard_Disk/Datasets/Deep-Spectral-Segmentation/data/object-segmentation/ECSSD/features/0564_resized.pth\n",
      "dict_keys(['k', 'indices', 'file', 'id', 'model_name', 'patch_size', 'shape'])\n",
      "0564_resized\n",
      "Starting Training\n",
      "epoch: 00, loss: -0.92615\n",
      "epoch: 01, loss: -0.95689\n",
      "epoch: 02, loss: -0.96363\n",
      "epoch: 03, loss: -0.96758\n",
      "epoch: 04, loss: -0.97025\n",
      "epoch: 05, loss: -0.97223\n",
      "epoch: 06, loss: -0.97382\n",
      "epoch: 07, loss: -0.97509\n",
      "epoch: 08, loss: -0.97614\n",
      "epoch: 09, loss: -0.97706\n",
      "torch.Size([1024, 64])\n"
     ]
    },
    {
     "name": "stderr",
     "output_type": "stream",
     "text": [
      " 56%|█████▋    | 563/999 [11:11:18<8:12:56, 67.83s/it]"
     ]
    },
    {
     "name": "stdout",
     "output_type": "stream",
     "text": [
      "eigenvalues shape torch.Size([5]) eigenvectors shape torch.Size([5, 1024])\n",
      "563 /home/phdcs2/Hard_Disk/Datasets/Deep-Spectral-Segmentation/data/object-segmentation/ECSSD/features/0565_resized.pth\n",
      "dict_keys(['k', 'indices', 'file', 'id', 'model_name', 'patch_size', 'shape'])\n",
      "0565_resized\n",
      "Starting Training\n",
      "epoch: 00, loss: -0.92517\n",
      "epoch: 01, loss: -0.95502\n",
      "epoch: 02, loss: -0.96209\n",
      "epoch: 03, loss: -0.96621\n",
      "epoch: 04, loss: -0.96901\n",
      "epoch: 05, loss: -0.97111\n",
      "epoch: 06, loss: -0.97274\n",
      "epoch: 07, loss: -0.97411\n",
      "epoch: 08, loss: -0.97522\n",
      "epoch: 09, loss: -0.97619\n",
      "torch.Size([1024, 64])\n"
     ]
    },
    {
     "name": "stderr",
     "output_type": "stream",
     "text": [
      " 56%|█████▋    | 564/999 [11:12:28<8:17:14, 68.59s/it]"
     ]
    },
    {
     "name": "stdout",
     "output_type": "stream",
     "text": [
      "eigenvalues shape torch.Size([5]) eigenvectors shape torch.Size([5, 1024])\n",
      "564 /home/phdcs2/Hard_Disk/Datasets/Deep-Spectral-Segmentation/data/object-segmentation/ECSSD/features/0566_resized.pth\n",
      "dict_keys(['k', 'indices', 'file', 'id', 'model_name', 'patch_size', 'shape'])\n",
      "0566_resized\n"
     ]
    },
    {
     "name": "stderr",
     "output_type": "stream",
     "text": [
      "/home/phdcs2/Hard_Disk/Projects/T2I/deep-spectral-segmentation/venv/lib/python3.8/site-packages/sklearn/decomposition/_pca.py:642: RuntimeWarning: invalid value encountered in divide\n",
      "  self.explained_variance_ratio_ = self.explained_variance_ / total_var\n"
     ]
    },
    {
     "name": "stdout",
     "output_type": "stream",
     "text": [
      "Starting Training\n",
      "epoch: 00, loss: -0.92352\n",
      "epoch: 01, loss: -0.95473\n",
      "epoch: 02, loss: -0.96166\n",
      "epoch: 03, loss: -0.96576\n",
      "epoch: 04, loss: -0.96851\n",
      "epoch: 05, loss: -0.97057\n",
      "epoch: 06, loss: -0.97218\n",
      "epoch: 07, loss: -0.97350\n",
      "epoch: 08, loss: -0.97461\n",
      "epoch: 09, loss: -0.97555\n",
      "torch.Size([1024, 64])\n"
     ]
    },
    {
     "name": "stderr",
     "output_type": "stream",
     "text": [
      " 57%|█████▋    | 565/999 [11:13:37<8:17:14, 68.74s/it]"
     ]
    },
    {
     "name": "stdout",
     "output_type": "stream",
     "text": [
      "eigenvalues shape torch.Size([5]) eigenvectors shape torch.Size([5, 1024])\n",
      "565 /home/phdcs2/Hard_Disk/Datasets/Deep-Spectral-Segmentation/data/object-segmentation/ECSSD/features/0567_resized.pth\n",
      "dict_keys(['k', 'indices', 'file', 'id', 'model_name', 'patch_size', 'shape'])\n",
      "0567_resized\n"
     ]
    },
    {
     "name": "stderr",
     "output_type": "stream",
     "text": [
      "/home/phdcs2/Hard_Disk/Projects/T2I/deep-spectral-segmentation/venv/lib/python3.8/site-packages/sklearn/decomposition/_pca.py:642: RuntimeWarning: invalid value encountered in divide\n",
      "  self.explained_variance_ratio_ = self.explained_variance_ / total_var\n"
     ]
    },
    {
     "name": "stdout",
     "output_type": "stream",
     "text": [
      "Starting Training\n",
      "epoch: 00, loss: -0.95113\n",
      "epoch: 01, loss: -0.97130\n",
      "epoch: 02, loss: -0.97548\n",
      "epoch: 03, loss: -0.97797\n",
      "epoch: 04, loss: -0.97967\n",
      "epoch: 05, loss: -0.98095\n",
      "epoch: 06, loss: -0.98197\n",
      "epoch: 07, loss: -0.98279\n",
      "epoch: 08, loss: -0.98350\n",
      "epoch: 09, loss: -0.98408\n",
      "torch.Size([1024, 64])\n"
     ]
    },
    {
     "name": "stderr",
     "output_type": "stream",
     "text": [
      " 57%|█████▋    | 566/999 [11:14:41<8:05:01, 67.21s/it]"
     ]
    },
    {
     "name": "stdout",
     "output_type": "stream",
     "text": [
      "eigenvalues shape torch.Size([5]) eigenvectors shape torch.Size([5, 1024])\n",
      "566 /home/phdcs2/Hard_Disk/Datasets/Deep-Spectral-Segmentation/data/object-segmentation/ECSSD/features/0568_resized.pth\n",
      "dict_keys(['k', 'indices', 'file', 'id', 'model_name', 'patch_size', 'shape'])\n",
      "0568_resized\n",
      "Starting Training\n",
      "epoch: 00, loss: -0.86214\n",
      "epoch: 01, loss: -0.91888\n",
      "epoch: 02, loss: -0.93339\n",
      "epoch: 03, loss: -0.94162\n",
      "epoch: 04, loss: -0.94697\n",
      "epoch: 05, loss: -0.95106\n",
      "epoch: 06, loss: -0.95421\n",
      "epoch: 07, loss: -0.95682\n",
      "epoch: 08, loss: -0.95886\n",
      "epoch: 09, loss: -0.96070\n",
      "torch.Size([1024, 64])\n"
     ]
    },
    {
     "name": "stderr",
     "output_type": "stream",
     "text": [
      " 57%|█████▋    | 567/999 [11:15:55<8:18:40, 69.26s/it]"
     ]
    },
    {
     "name": "stdout",
     "output_type": "stream",
     "text": [
      "eigenvalues shape torch.Size([5]) eigenvectors shape torch.Size([5, 1024])\n",
      "567 /home/phdcs2/Hard_Disk/Datasets/Deep-Spectral-Segmentation/data/object-segmentation/ECSSD/features/0569_resized.pth\n",
      "dict_keys(['k', 'indices', 'file', 'id', 'model_name', 'patch_size', 'shape'])\n",
      "0569_resized\n"
     ]
    },
    {
     "name": "stderr",
     "output_type": "stream",
     "text": [
      "/home/phdcs2/Hard_Disk/Projects/T2I/deep-spectral-segmentation/venv/lib/python3.8/site-packages/sklearn/decomposition/_pca.py:642: RuntimeWarning: invalid value encountered in divide\n",
      "  self.explained_variance_ratio_ = self.explained_variance_ / total_var\n"
     ]
    },
    {
     "name": "stdout",
     "output_type": "stream",
     "text": [
      "Starting Training\n",
      "epoch: 00, loss: -0.91449\n",
      "epoch: 01, loss: -0.95052\n",
      "epoch: 02, loss: -0.95867\n",
      "epoch: 03, loss: -0.96337\n",
      "epoch: 04, loss: -0.96657\n",
      "epoch: 05, loss: -0.96893\n",
      "epoch: 06, loss: -0.97078\n",
      "epoch: 07, loss: -0.97228\n",
      "epoch: 08, loss: -0.97353\n",
      "epoch: 09, loss: -0.97457\n",
      "torch.Size([1024, 64])\n"
     ]
    },
    {
     "name": "stderr",
     "output_type": "stream",
     "text": [
      " 57%|█████▋    | 568/999 [11:17:02<8:13:06, 68.65s/it]"
     ]
    },
    {
     "name": "stdout",
     "output_type": "stream",
     "text": [
      "eigenvalues shape torch.Size([5]) eigenvectors shape torch.Size([5, 1024])\n",
      "568 /home/phdcs2/Hard_Disk/Datasets/Deep-Spectral-Segmentation/data/object-segmentation/ECSSD/features/0570_resized.pth\n",
      "dict_keys(['k', 'indices', 'file', 'id', 'model_name', 'patch_size', 'shape'])\n",
      "0570_resized\n"
     ]
    },
    {
     "name": "stderr",
     "output_type": "stream",
     "text": [
      "/home/phdcs2/Hard_Disk/Projects/T2I/deep-spectral-segmentation/venv/lib/python3.8/site-packages/sklearn/decomposition/_pca.py:642: RuntimeWarning: invalid value encountered in divide\n",
      "  self.explained_variance_ratio_ = self.explained_variance_ / total_var\n"
     ]
    },
    {
     "name": "stdout",
     "output_type": "stream",
     "text": [
      "Starting Training\n",
      "epoch: 00, loss: -0.91310\n",
      "epoch: 01, loss: -0.94575\n",
      "epoch: 02, loss: -0.95395\n",
      "epoch: 03, loss: -0.95878\n",
      "epoch: 04, loss: -0.96216\n",
      "epoch: 05, loss: -0.96464\n",
      "epoch: 06, loss: -0.96663\n",
      "epoch: 07, loss: -0.96825\n",
      "epoch: 08, loss: -0.96960\n",
      "epoch: 09, loss: -0.97076\n",
      "torch.Size([1024, 64])\n"
     ]
    },
    {
     "name": "stderr",
     "output_type": "stream",
     "text": [
      " 57%|█████▋    | 569/999 [11:18:10<8:10:30, 68.44s/it]"
     ]
    },
    {
     "name": "stdout",
     "output_type": "stream",
     "text": [
      "eigenvalues shape torch.Size([5]) eigenvectors shape torch.Size([5, 1024])\n",
      "569 /home/phdcs2/Hard_Disk/Datasets/Deep-Spectral-Segmentation/data/object-segmentation/ECSSD/features/0571_resized.pth\n",
      "dict_keys(['k', 'indices', 'file', 'id', 'model_name', 'patch_size', 'shape'])\n",
      "0571_resized\n",
      "Starting Training\n",
      "epoch: 00, loss: -0.85058\n",
      "epoch: 01, loss: -0.91135\n",
      "epoch: 02, loss: -0.92652\n",
      "epoch: 03, loss: -0.93504\n",
      "epoch: 04, loss: -0.94063\n",
      "epoch: 05, loss: -0.94489\n",
      "epoch: 06, loss: -0.94821\n",
      "epoch: 07, loss: -0.95083\n",
      "epoch: 08, loss: -0.95310\n",
      "epoch: 09, loss: -0.95487\n",
      "torch.Size([1024, 64])\n"
     ]
    },
    {
     "name": "stderr",
     "output_type": "stream",
     "text": [
      " 57%|█████▋    | 570/999 [11:19:15<8:02:26, 67.47s/it]"
     ]
    },
    {
     "name": "stdout",
     "output_type": "stream",
     "text": [
      "eigenvalues shape torch.Size([5]) eigenvectors shape torch.Size([5, 1024])\n",
      "570 /home/phdcs2/Hard_Disk/Datasets/Deep-Spectral-Segmentation/data/object-segmentation/ECSSD/features/0572_resized.pth\n",
      "dict_keys(['k', 'indices', 'file', 'id', 'model_name', 'patch_size', 'shape'])\n",
      "0572_resized\n"
     ]
    },
    {
     "name": "stderr",
     "output_type": "stream",
     "text": [
      "/home/phdcs2/Hard_Disk/Projects/T2I/deep-spectral-segmentation/venv/lib/python3.8/site-packages/sklearn/decomposition/_pca.py:642: RuntimeWarning: invalid value encountered in divide\n",
      "  self.explained_variance_ratio_ = self.explained_variance_ / total_var\n"
     ]
    },
    {
     "name": "stdout",
     "output_type": "stream",
     "text": [
      "Starting Training\n",
      "epoch: 00, loss: -0.93194\n",
      "epoch: 01, loss: -0.96051\n",
      "epoch: 02, loss: -0.96702\n",
      "epoch: 03, loss: -0.97078\n",
      "epoch: 04, loss: -0.97334\n",
      "epoch: 05, loss: -0.97523\n",
      "epoch: 06, loss: -0.97669\n",
      "epoch: 07, loss: -0.97789\n",
      "epoch: 08, loss: -0.97889\n",
      "epoch: 09, loss: -0.97974\n",
      "torch.Size([1024, 64])\n"
     ]
    },
    {
     "name": "stderr",
     "output_type": "stream",
     "text": [
      " 57%|█████▋    | 571/999 [11:20:19<7:53:41, 66.40s/it]"
     ]
    },
    {
     "name": "stdout",
     "output_type": "stream",
     "text": [
      "eigenvalues shape torch.Size([5]) eigenvectors shape torch.Size([5, 1024])\n",
      "571 /home/phdcs2/Hard_Disk/Datasets/Deep-Spectral-Segmentation/data/object-segmentation/ECSSD/features/0573_resized.pth\n",
      "dict_keys(['k', 'indices', 'file', 'id', 'model_name', 'patch_size', 'shape'])\n",
      "0573_resized\n",
      "Starting Training\n",
      "epoch: 00, loss: -0.87121\n",
      "epoch: 01, loss: -0.92603\n",
      "epoch: 02, loss: -0.93850\n",
      "epoch: 03, loss: -0.94571\n",
      "epoch: 04, loss: -0.95045\n",
      "epoch: 05, loss: -0.95419\n",
      "epoch: 06, loss: -0.95693\n",
      "epoch: 07, loss: -0.95921\n",
      "epoch: 08, loss: -0.96097\n",
      "epoch: 09, loss: -0.96260\n",
      "torch.Size([1024, 64])\n"
     ]
    },
    {
     "name": "stderr",
     "output_type": "stream",
     "text": [
      " 57%|█████▋    | 572/999 [11:21:20<7:40:24, 64.70s/it]"
     ]
    },
    {
     "name": "stdout",
     "output_type": "stream",
     "text": [
      "eigenvalues shape torch.Size([5]) eigenvectors shape torch.Size([5, 1024])\n",
      "572 /home/phdcs2/Hard_Disk/Datasets/Deep-Spectral-Segmentation/data/object-segmentation/ECSSD/features/0574_resized.pth\n",
      "dict_keys(['k', 'indices', 'file', 'id', 'model_name', 'patch_size', 'shape'])\n",
      "0574_resized\n",
      "Starting Training\n",
      "epoch: 00, loss: -0.86672\n",
      "epoch: 01, loss: -0.91892\n",
      "epoch: 02, loss: -0.93275\n",
      "epoch: 03, loss: -0.94099\n",
      "epoch: 04, loss: -0.94653\n",
      "epoch: 05, loss: -0.95049\n",
      "epoch: 06, loss: -0.95353\n",
      "epoch: 07, loss: -0.95606\n",
      "epoch: 08, loss: -0.95803\n",
      "epoch: 09, loss: -0.95975\n",
      "torch.Size([1024, 64])\n"
     ]
    },
    {
     "name": "stderr",
     "output_type": "stream",
     "text": [
      " 57%|█████▋    | 573/999 [11:22:30<7:50:01, 66.20s/it]"
     ]
    },
    {
     "name": "stdout",
     "output_type": "stream",
     "text": [
      "eigenvalues shape torch.Size([5]) eigenvectors shape torch.Size([5, 1024])\n",
      "573 /home/phdcs2/Hard_Disk/Datasets/Deep-Spectral-Segmentation/data/object-segmentation/ECSSD/features/0575_resized.pth\n",
      "dict_keys(['k', 'indices', 'file', 'id', 'model_name', 'patch_size', 'shape'])\n",
      "0575_resized\n",
      "Starting Training\n",
      "epoch: 00, loss: -0.90242\n",
      "epoch: 01, loss: -0.94289\n",
      "epoch: 02, loss: -0.95202\n",
      "epoch: 03, loss: -0.95735\n",
      "epoch: 04, loss: -0.96096\n",
      "epoch: 05, loss: -0.96367\n",
      "epoch: 06, loss: -0.96578\n",
      "epoch: 07, loss: -0.96748\n",
      "epoch: 08, loss: -0.96892\n",
      "epoch: 09, loss: -0.97016\n",
      "torch.Size([1024, 64])\n"
     ]
    },
    {
     "name": "stderr",
     "output_type": "stream",
     "text": [
      " 57%|█████▋    | 574/999 [11:23:33<7:43:50, 65.48s/it]"
     ]
    },
    {
     "name": "stdout",
     "output_type": "stream",
     "text": [
      "eigenvalues shape torch.Size([5]) eigenvectors shape torch.Size([5, 1024])\n",
      "574 /home/phdcs2/Hard_Disk/Datasets/Deep-Spectral-Segmentation/data/object-segmentation/ECSSD/features/0576_resized.pth\n",
      "dict_keys(['k', 'indices', 'file', 'id', 'model_name', 'patch_size', 'shape'])\n",
      "0576_resized\n"
     ]
    },
    {
     "name": "stderr",
     "output_type": "stream",
     "text": [
      "/home/phdcs2/Hard_Disk/Projects/T2I/deep-spectral-segmentation/venv/lib/python3.8/site-packages/sklearn/decomposition/_pca.py:642: RuntimeWarning: invalid value encountered in divide\n",
      "  self.explained_variance_ratio_ = self.explained_variance_ / total_var\n"
     ]
    },
    {
     "name": "stdout",
     "output_type": "stream",
     "text": [
      "Starting Training\n",
      "epoch: 00, loss: -0.90732\n",
      "epoch: 01, loss: -0.94687\n",
      "epoch: 02, loss: -0.95567\n",
      "epoch: 03, loss: -0.96072\n",
      "epoch: 04, loss: -0.96417\n",
      "epoch: 05, loss: -0.96669\n",
      "epoch: 06, loss: -0.96868\n",
      "epoch: 07, loss: -0.97027\n",
      "epoch: 08, loss: -0.97163\n",
      "epoch: 09, loss: -0.97276\n",
      "torch.Size([1024, 64])\n"
     ]
    },
    {
     "name": "stderr",
     "output_type": "stream",
     "text": [
      " 58%|█████▊    | 575/999 [11:24:31<7:26:26, 63.18s/it]"
     ]
    },
    {
     "name": "stdout",
     "output_type": "stream",
     "text": [
      "eigenvalues shape torch.Size([5]) eigenvectors shape torch.Size([5, 1024])\n",
      "575 /home/phdcs2/Hard_Disk/Datasets/Deep-Spectral-Segmentation/data/object-segmentation/ECSSD/features/0577_resized.pth\n",
      "dict_keys(['k', 'indices', 'file', 'id', 'model_name', 'patch_size', 'shape'])\n",
      "0577_resized\n",
      "Starting Training\n",
      "epoch: 00, loss: -0.87158\n",
      "epoch: 01, loss: -0.92285\n",
      "epoch: 02, loss: -0.93617\n",
      "epoch: 03, loss: -0.94402\n",
      "epoch: 04, loss: -0.94923\n",
      "epoch: 05, loss: -0.95296\n",
      "epoch: 06, loss: -0.95607\n",
      "epoch: 07, loss: -0.95844\n",
      "epoch: 08, loss: -0.96035\n",
      "epoch: 09, loss: -0.96200\n",
      "torch.Size([1024, 64])\n"
     ]
    },
    {
     "name": "stderr",
     "output_type": "stream",
     "text": [
      " 58%|█████▊    | 576/999 [11:25:28<7:12:12, 61.31s/it]"
     ]
    },
    {
     "name": "stdout",
     "output_type": "stream",
     "text": [
      "eigenvalues shape torch.Size([5]) eigenvectors shape torch.Size([5, 1024])\n",
      "576 /home/phdcs2/Hard_Disk/Datasets/Deep-Spectral-Segmentation/data/object-segmentation/ECSSD/features/0578_resized.pth\n",
      "dict_keys(['k', 'indices', 'file', 'id', 'model_name', 'patch_size', 'shape'])\n",
      "0578_resized\n",
      "Starting Training\n",
      "epoch: 00, loss: -0.90081\n",
      "epoch: 01, loss: -0.94150\n",
      "epoch: 02, loss: -0.95139\n",
      "epoch: 03, loss: -0.95703\n",
      "epoch: 04, loss: -0.96096\n",
      "epoch: 05, loss: -0.96382\n",
      "epoch: 06, loss: -0.96603\n",
      "epoch: 07, loss: -0.96779\n",
      "epoch: 08, loss: -0.96926\n",
      "epoch: 09, loss: -0.97057\n",
      "torch.Size([1024, 64])\n"
     ]
    },
    {
     "name": "stderr",
     "output_type": "stream",
     "text": [
      " 58%|█████▊    | 577/999 [11:26:27<7:06:12, 60.60s/it]"
     ]
    },
    {
     "name": "stdout",
     "output_type": "stream",
     "text": [
      "eigenvalues shape torch.Size([5]) eigenvectors shape torch.Size([5, 1024])\n",
      "577 /home/phdcs2/Hard_Disk/Datasets/Deep-Spectral-Segmentation/data/object-segmentation/ECSSD/features/0579_resized.pth\n",
      "dict_keys(['k', 'indices', 'file', 'id', 'model_name', 'patch_size', 'shape'])\n",
      "0579_resized\n",
      "Starting Training\n",
      "epoch: 00, loss: -0.92584\n",
      "epoch: 01, loss: -0.95496\n",
      "epoch: 02, loss: -0.96212\n",
      "epoch: 03, loss: -0.96624\n",
      "epoch: 04, loss: -0.96901\n",
      "epoch: 05, loss: -0.97109\n",
      "epoch: 06, loss: -0.97270\n",
      "epoch: 07, loss: -0.97402\n",
      "epoch: 08, loss: -0.97512\n",
      "epoch: 09, loss: -0.97608\n",
      "torch.Size([1024, 64])\n"
     ]
    },
    {
     "name": "stderr",
     "output_type": "stream",
     "text": [
      " 58%|█████▊    | 578/999 [11:27:29<7:08:02, 61.00s/it]"
     ]
    },
    {
     "name": "stdout",
     "output_type": "stream",
     "text": [
      "eigenvalues shape torch.Size([5]) eigenvectors shape torch.Size([5, 1024])\n",
      "578 /home/phdcs2/Hard_Disk/Datasets/Deep-Spectral-Segmentation/data/object-segmentation/ECSSD/features/0580_resized.pth\n",
      "dict_keys(['k', 'indices', 'file', 'id', 'model_name', 'patch_size', 'shape'])\n",
      "0580_resized\n",
      "Starting Training\n",
      "epoch: 00, loss: -0.88672\n",
      "epoch: 01, loss: -0.93106\n",
      "epoch: 02, loss: -0.94242\n",
      "epoch: 03, loss: -0.94889\n",
      "epoch: 04, loss: -0.95322\n",
      "epoch: 05, loss: -0.95658\n",
      "epoch: 06, loss: -0.95916\n",
      "epoch: 07, loss: -0.96125\n",
      "epoch: 08, loss: -0.96303\n",
      "epoch: 09, loss: -0.96443\n",
      "torch.Size([1024, 64])\n"
     ]
    },
    {
     "name": "stderr",
     "output_type": "stream",
     "text": [
      " 58%|█████▊    | 579/999 [11:28:36<7:19:16, 62.75s/it]"
     ]
    },
    {
     "name": "stdout",
     "output_type": "stream",
     "text": [
      "eigenvalues shape torch.Size([5]) eigenvectors shape torch.Size([5, 1024])\n",
      "579 /home/phdcs2/Hard_Disk/Datasets/Deep-Spectral-Segmentation/data/object-segmentation/ECSSD/features/0581_resized.pth\n",
      "dict_keys(['k', 'indices', 'file', 'id', 'model_name', 'patch_size', 'shape'])\n",
      "0581_resized\n"
     ]
    },
    {
     "name": "stderr",
     "output_type": "stream",
     "text": [
      "/home/phdcs2/Hard_Disk/Projects/T2I/deep-spectral-segmentation/venv/lib/python3.8/site-packages/sklearn/decomposition/_pca.py:642: RuntimeWarning: invalid value encountered in divide\n",
      "  self.explained_variance_ratio_ = self.explained_variance_ / total_var\n"
     ]
    },
    {
     "name": "stdout",
     "output_type": "stream",
     "text": [
      "Starting Training\n",
      "epoch: 00, loss: -0.92116\n",
      "epoch: 01, loss: -0.95428\n",
      "epoch: 02, loss: -0.96177\n",
      "epoch: 03, loss: -0.96604\n",
      "epoch: 04, loss: -0.96897\n",
      "epoch: 05, loss: -0.97113\n",
      "epoch: 06, loss: -0.97280\n",
      "epoch: 07, loss: -0.97420\n",
      "epoch: 08, loss: -0.97534\n",
      "epoch: 09, loss: -0.97633\n",
      "torch.Size([1024, 64])\n"
     ]
    },
    {
     "name": "stderr",
     "output_type": "stream",
     "text": [
      " 58%|█████▊    | 580/999 [11:29:48<7:39:05, 65.74s/it]"
     ]
    },
    {
     "name": "stdout",
     "output_type": "stream",
     "text": [
      "eigenvalues shape torch.Size([5]) eigenvectors shape torch.Size([5, 1024])\n",
      "580 /home/phdcs2/Hard_Disk/Datasets/Deep-Spectral-Segmentation/data/object-segmentation/ECSSD/features/0582_resized.pth\n",
      "dict_keys(['k', 'indices', 'file', 'id', 'model_name', 'patch_size', 'shape'])\n",
      "0582_resized\n",
      "Starting Training\n",
      "epoch: 00, loss: -0.87609\n",
      "epoch: 01, loss: -0.92597\n",
      "epoch: 02, loss: -0.93848\n",
      "epoch: 03, loss: -0.94549\n",
      "epoch: 04, loss: -0.95008\n",
      "epoch: 05, loss: -0.95348\n",
      "epoch: 06, loss: -0.95627\n",
      "epoch: 07, loss: -0.95836\n",
      "epoch: 08, loss: -0.96024\n",
      "epoch: 09, loss: -0.96174\n",
      "torch.Size([1024, 64])\n"
     ]
    },
    {
     "name": "stderr",
     "output_type": "stream",
     "text": [
      " 58%|█████▊    | 581/999 [11:31:03<7:55:47, 68.29s/it]"
     ]
    },
    {
     "name": "stdout",
     "output_type": "stream",
     "text": [
      "eigenvalues shape torch.Size([5]) eigenvectors shape torch.Size([5, 1024])\n",
      "581 /home/phdcs2/Hard_Disk/Datasets/Deep-Spectral-Segmentation/data/object-segmentation/ECSSD/features/0583_resized.pth\n",
      "dict_keys(['k', 'indices', 'file', 'id', 'model_name', 'patch_size', 'shape'])\n",
      "0583_resized\n",
      "Starting Training\n",
      "epoch: 00, loss: -0.86420\n",
      "epoch: 01, loss: -0.92174\n",
      "epoch: 02, loss: -0.93573\n",
      "epoch: 03, loss: -0.94361\n",
      "epoch: 04, loss: -0.94875\n",
      "epoch: 05, loss: -0.95276\n",
      "epoch: 06, loss: -0.95576\n",
      "epoch: 07, loss: -0.95814\n",
      "epoch: 08, loss: -0.96011\n",
      "epoch: 09, loss: -0.96183\n",
      "torch.Size([1024, 64])\n"
     ]
    },
    {
     "name": "stderr",
     "output_type": "stream",
     "text": [
      " 58%|█████▊    | 582/999 [11:32:19<8:10:56, 70.64s/it]"
     ]
    },
    {
     "name": "stdout",
     "output_type": "stream",
     "text": [
      "eigenvalues shape torch.Size([5]) eigenvectors shape torch.Size([5, 1024])\n",
      "582 /home/phdcs2/Hard_Disk/Datasets/Deep-Spectral-Segmentation/data/object-segmentation/ECSSD/features/0584_resized.pth\n",
      "dict_keys(['k', 'indices', 'file', 'id', 'model_name', 'patch_size', 'shape'])\n",
      "0584_resized\n",
      "Starting Training\n",
      "epoch: 00, loss: -0.91585\n",
      "epoch: 01, loss: -0.94611\n",
      "epoch: 02, loss: -0.95351\n",
      "epoch: 03, loss: -0.95792\n",
      "epoch: 04, loss: -0.96101\n",
      "epoch: 05, loss: -0.96330\n",
      "epoch: 06, loss: -0.96515\n",
      "epoch: 07, loss: -0.96669\n",
      "epoch: 08, loss: -0.96797\n",
      "epoch: 09, loss: -0.96907\n",
      "torch.Size([1024, 64])\n"
     ]
    },
    {
     "name": "stderr",
     "output_type": "stream",
     "text": [
      " 58%|█████▊    | 583/999 [11:33:28<8:07:33, 70.32s/it]"
     ]
    },
    {
     "name": "stdout",
     "output_type": "stream",
     "text": [
      "eigenvalues shape torch.Size([5]) eigenvectors shape torch.Size([5, 1024])\n",
      "583 /home/phdcs2/Hard_Disk/Datasets/Deep-Spectral-Segmentation/data/object-segmentation/ECSSD/features/0585_resized.pth\n",
      "dict_keys(['k', 'indices', 'file', 'id', 'model_name', 'patch_size', 'shape'])\n",
      "0585_resized\n"
     ]
    },
    {
     "name": "stderr",
     "output_type": "stream",
     "text": [
      "/home/phdcs2/Hard_Disk/Projects/T2I/deep-spectral-segmentation/venv/lib/python3.8/site-packages/sklearn/decomposition/_pca.py:642: RuntimeWarning: invalid value encountered in divide\n",
      "  self.explained_variance_ratio_ = self.explained_variance_ / total_var\n"
     ]
    },
    {
     "name": "stdout",
     "output_type": "stream",
     "text": [
      "Starting Training\n",
      "epoch: 00, loss: -0.92347\n",
      "epoch: 01, loss: -0.95389\n",
      "epoch: 02, loss: -0.96102\n",
      "epoch: 03, loss: -0.96512\n",
      "epoch: 04, loss: -0.96793\n",
      "epoch: 05, loss: -0.97004\n",
      "epoch: 06, loss: -0.97170\n",
      "epoch: 07, loss: -0.97304\n",
      "epoch: 08, loss: -0.97418\n",
      "epoch: 09, loss: -0.97514\n",
      "torch.Size([1024, 64])\n"
     ]
    },
    {
     "name": "stderr",
     "output_type": "stream",
     "text": [
      " 58%|█████▊    | 584/999 [11:34:32<7:52:26, 68.30s/it]"
     ]
    },
    {
     "name": "stdout",
     "output_type": "stream",
     "text": [
      "eigenvalues shape torch.Size([5]) eigenvectors shape torch.Size([5, 1024])\n",
      "584 /home/phdcs2/Hard_Disk/Datasets/Deep-Spectral-Segmentation/data/object-segmentation/ECSSD/features/0586_resized.pth\n",
      "dict_keys(['k', 'indices', 'file', 'id', 'model_name', 'patch_size', 'shape'])\n",
      "0586_resized\n",
      "Starting Training\n",
      "epoch: 00, loss: -0.91548\n",
      "epoch: 01, loss: -0.95023\n",
      "epoch: 02, loss: -0.95837\n",
      "epoch: 03, loss: -0.96306\n",
      "epoch: 04, loss: -0.96623\n",
      "epoch: 05, loss: -0.96855\n",
      "epoch: 06, loss: -0.97037\n",
      "epoch: 07, loss: -0.97186\n",
      "epoch: 08, loss: -0.97308\n",
      "epoch: 09, loss: -0.97413\n",
      "torch.Size([1024, 64])\n"
     ]
    },
    {
     "name": "stderr",
     "output_type": "stream",
     "text": [
      " 59%|█████▊    | 585/999 [11:35:47<8:04:24, 70.20s/it]"
     ]
    },
    {
     "name": "stdout",
     "output_type": "stream",
     "text": [
      "eigenvalues shape torch.Size([5]) eigenvectors shape torch.Size([5, 1024])\n",
      "585 /home/phdcs2/Hard_Disk/Datasets/Deep-Spectral-Segmentation/data/object-segmentation/ECSSD/features/0587_resized.pth\n",
      "dict_keys(['k', 'indices', 'file', 'id', 'model_name', 'patch_size', 'shape'])\n",
      "0587_resized\n",
      "Starting Training\n",
      "epoch: 00, loss: -0.87694\n",
      "epoch: 01, loss: -0.92542\n",
      "epoch: 02, loss: -0.93845\n",
      "epoch: 03, loss: -0.94589\n",
      "epoch: 04, loss: -0.95090\n",
      "epoch: 05, loss: -0.95449\n",
      "epoch: 06, loss: -0.95736\n",
      "epoch: 07, loss: -0.95958\n",
      "epoch: 08, loss: -0.96149\n",
      "epoch: 09, loss: -0.96313\n",
      "torch.Size([1024, 64])\n"
     ]
    },
    {
     "name": "stderr",
     "output_type": "stream",
     "text": [
      " 59%|█████▊    | 586/999 [11:37:04<8:18:38, 72.44s/it]"
     ]
    },
    {
     "name": "stdout",
     "output_type": "stream",
     "text": [
      "eigenvalues shape torch.Size([5]) eigenvectors shape torch.Size([5, 1024])\n",
      "586 /home/phdcs2/Hard_Disk/Datasets/Deep-Spectral-Segmentation/data/object-segmentation/ECSSD/features/0588_resized.pth\n",
      "dict_keys(['k', 'indices', 'file', 'id', 'model_name', 'patch_size', 'shape'])\n",
      "0588_resized\n",
      "Starting Training\n",
      "epoch: 00, loss: -0.89974\n",
      "epoch: 01, loss: -0.93734\n",
      "epoch: 02, loss: -0.94792\n",
      "epoch: 03, loss: -0.95393\n",
      "epoch: 04, loss: -0.95800\n",
      "epoch: 05, loss: -0.96102\n",
      "epoch: 06, loss: -0.96340\n",
      "epoch: 07, loss: -0.96525\n",
      "epoch: 08, loss: -0.96679\n",
      "epoch: 09, loss: -0.96815\n",
      "torch.Size([1024, 64])\n"
     ]
    },
    {
     "name": "stderr",
     "output_type": "stream",
     "text": [
      " 59%|█████▉    | 587/999 [11:38:21<8:26:01, 73.69s/it]"
     ]
    },
    {
     "name": "stdout",
     "output_type": "stream",
     "text": [
      "eigenvalues shape torch.Size([5]) eigenvectors shape torch.Size([5, 1024])\n",
      "587 /home/phdcs2/Hard_Disk/Datasets/Deep-Spectral-Segmentation/data/object-segmentation/ECSSD/features/0589_resized.pth\n",
      "dict_keys(['k', 'indices', 'file', 'id', 'model_name', 'patch_size', 'shape'])\n",
      "0589_resized\n"
     ]
    },
    {
     "name": "stderr",
     "output_type": "stream",
     "text": [
      "/home/phdcs2/Hard_Disk/Projects/T2I/deep-spectral-segmentation/venv/lib/python3.8/site-packages/sklearn/decomposition/_pca.py:642: RuntimeWarning: invalid value encountered in divide\n",
      "  self.explained_variance_ratio_ = self.explained_variance_ / total_var\n"
     ]
    },
    {
     "name": "stdout",
     "output_type": "stream",
     "text": [
      "Starting Training\n",
      "epoch: 00, loss: -0.92956\n",
      "epoch: 01, loss: -0.95797\n",
      "epoch: 02, loss: -0.96457\n",
      "epoch: 03, loss: -0.96833\n",
      "epoch: 04, loss: -0.97092\n",
      "epoch: 05, loss: -0.97280\n",
      "epoch: 06, loss: -0.97427\n",
      "epoch: 07, loss: -0.97549\n",
      "epoch: 08, loss: -0.97650\n",
      "epoch: 09, loss: -0.97737\n",
      "torch.Size([1024, 64])\n"
     ]
    },
    {
     "name": "stderr",
     "output_type": "stream",
     "text": [
      " 59%|█████▉    | 588/999 [11:39:39<8:34:06, 75.05s/it]"
     ]
    },
    {
     "name": "stdout",
     "output_type": "stream",
     "text": [
      "eigenvalues shape torch.Size([5]) eigenvectors shape torch.Size([5, 1024])\n",
      "588 /home/phdcs2/Hard_Disk/Datasets/Deep-Spectral-Segmentation/data/object-segmentation/ECSSD/features/0590_resized.pth\n",
      "dict_keys(['k', 'indices', 'file', 'id', 'model_name', 'patch_size', 'shape'])\n",
      "0590_resized\n"
     ]
    },
    {
     "name": "stderr",
     "output_type": "stream",
     "text": [
      "/home/phdcs2/Hard_Disk/Projects/T2I/deep-spectral-segmentation/venv/lib/python3.8/site-packages/sklearn/decomposition/_pca.py:642: RuntimeWarning: invalid value encountered in divide\n",
      "  self.explained_variance_ratio_ = self.explained_variance_ / total_var\n"
     ]
    },
    {
     "name": "stdout",
     "output_type": "stream",
     "text": [
      "Starting Training\n",
      "epoch: 00, loss: -0.91890\n",
      "epoch: 01, loss: -0.95027\n",
      "epoch: 02, loss: -0.95834\n",
      "epoch: 03, loss: -0.96300\n",
      "epoch: 04, loss: -0.96619\n",
      "epoch: 05, loss: -0.96857\n",
      "epoch: 06, loss: -0.97043\n",
      "epoch: 07, loss: -0.97195\n",
      "epoch: 08, loss: -0.97321\n",
      "epoch: 09, loss: -0.97428\n",
      "torch.Size([1024, 64])\n"
     ]
    },
    {
     "name": "stderr",
     "output_type": "stream",
     "text": [
      " 59%|█████▉    | 589/999 [11:40:52<8:29:12, 74.52s/it]"
     ]
    },
    {
     "name": "stdout",
     "output_type": "stream",
     "text": [
      "eigenvalues shape torch.Size([5]) eigenvectors shape torch.Size([5, 1024])\n",
      "589 /home/phdcs2/Hard_Disk/Datasets/Deep-Spectral-Segmentation/data/object-segmentation/ECSSD/features/0591_resized.pth\n",
      "dict_keys(['k', 'indices', 'file', 'id', 'model_name', 'patch_size', 'shape'])\n",
      "0591_resized\n",
      "Starting Training\n",
      "epoch: 00, loss: -0.85390\n",
      "epoch: 01, loss: -0.91157\n",
      "epoch: 02, loss: -0.92702\n",
      "epoch: 03, loss: -0.93578\n",
      "epoch: 04, loss: -0.94163\n",
      "epoch: 05, loss: -0.94612\n",
      "epoch: 06, loss: -0.94952\n",
      "epoch: 07, loss: -0.95236\n",
      "epoch: 08, loss: -0.95461\n",
      "epoch: 09, loss: -0.95655\n",
      "torch.Size([1024, 64])\n"
     ]
    },
    {
     "name": "stderr",
     "output_type": "stream",
     "text": [
      " 59%|█████▉    | 590/999 [11:42:05<8:24:43, 74.04s/it]"
     ]
    },
    {
     "name": "stdout",
     "output_type": "stream",
     "text": [
      "eigenvalues shape torch.Size([5]) eigenvectors shape torch.Size([5, 1024])\n",
      "590 /home/phdcs2/Hard_Disk/Datasets/Deep-Spectral-Segmentation/data/object-segmentation/ECSSD/features/0592_resized.pth\n",
      "dict_keys(['k', 'indices', 'file', 'id', 'model_name', 'patch_size', 'shape'])\n",
      "0592_resized\n",
      "Starting Training\n",
      "epoch: 00, loss: -0.86483\n",
      "epoch: 01, loss: -0.91669\n",
      "epoch: 02, loss: -0.93109\n",
      "epoch: 03, loss: -0.93922\n",
      "epoch: 04, loss: -0.94481\n",
      "epoch: 05, loss: -0.94886\n",
      "epoch: 06, loss: -0.95198\n",
      "epoch: 07, loss: -0.95448\n",
      "epoch: 08, loss: -0.95666\n",
      "epoch: 09, loss: -0.95846\n",
      "torch.Size([1024, 64])\n"
     ]
    },
    {
     "name": "stderr",
     "output_type": "stream",
     "text": [
      " 59%|█████▉    | 591/999 [11:43:18<8:19:37, 73.48s/it]"
     ]
    },
    {
     "name": "stdout",
     "output_type": "stream",
     "text": [
      "eigenvalues shape torch.Size([5]) eigenvectors shape torch.Size([5, 1024])\n",
      "591 /home/phdcs2/Hard_Disk/Datasets/Deep-Spectral-Segmentation/data/object-segmentation/ECSSD/features/0593_resized.pth\n",
      "dict_keys(['k', 'indices', 'file', 'id', 'model_name', 'patch_size', 'shape'])\n",
      "0593_resized\n"
     ]
    },
    {
     "name": "stderr",
     "output_type": "stream",
     "text": [
      "/home/phdcs2/Hard_Disk/Projects/T2I/deep-spectral-segmentation/venv/lib/python3.8/site-packages/sklearn/decomposition/_pca.py:642: RuntimeWarning: invalid value encountered in divide\n",
      "  self.explained_variance_ratio_ = self.explained_variance_ / total_var\n"
     ]
    },
    {
     "name": "stdout",
     "output_type": "stream",
     "text": [
      "Starting Training\n",
      "epoch: 00, loss: -0.91878\n",
      "epoch: 01, loss: -0.95156\n",
      "epoch: 02, loss: -0.95954\n",
      "epoch: 03, loss: -0.96418\n",
      "epoch: 04, loss: -0.96735\n",
      "epoch: 05, loss: -0.96966\n",
      "epoch: 06, loss: -0.97146\n",
      "epoch: 07, loss: -0.97295\n",
      "epoch: 08, loss: -0.97416\n",
      "epoch: 09, loss: -0.97522\n",
      "torch.Size([1024, 64])\n"
     ]
    },
    {
     "name": "stderr",
     "output_type": "stream",
     "text": [
      " 59%|█████▉    | 592/999 [11:44:28<8:11:51, 72.51s/it]"
     ]
    },
    {
     "name": "stdout",
     "output_type": "stream",
     "text": [
      "eigenvalues shape torch.Size([5]) eigenvectors shape torch.Size([5, 1024])\n",
      "592 /home/phdcs2/Hard_Disk/Datasets/Deep-Spectral-Segmentation/data/object-segmentation/ECSSD/features/0594_resized.pth\n",
      "dict_keys(['k', 'indices', 'file', 'id', 'model_name', 'patch_size', 'shape'])\n",
      "0594_resized\n",
      "Starting Training\n",
      "epoch: 00, loss: -0.87237\n",
      "epoch: 01, loss: -0.92547\n",
      "epoch: 02, loss: -0.93910\n",
      "epoch: 03, loss: -0.94641\n",
      "epoch: 04, loss: -0.95133\n",
      "epoch: 05, loss: -0.95505\n",
      "epoch: 06, loss: -0.95787\n",
      "epoch: 07, loss: -0.96023\n",
      "epoch: 08, loss: -0.96214\n",
      "epoch: 09, loss: -0.96379\n",
      "torch.Size([1024, 64])\n"
     ]
    },
    {
     "name": "stderr",
     "output_type": "stream",
     "text": [
      " 59%|█████▉    | 593/999 [11:45:35<8:00:22, 70.99s/it]"
     ]
    },
    {
     "name": "stdout",
     "output_type": "stream",
     "text": [
      "eigenvalues shape torch.Size([5]) eigenvectors shape torch.Size([5, 1024])\n",
      "593 /home/phdcs2/Hard_Disk/Datasets/Deep-Spectral-Segmentation/data/object-segmentation/ECSSD/features/0595_resized.pth\n",
      "dict_keys(['k', 'indices', 'file', 'id', 'model_name', 'patch_size', 'shape'])\n",
      "0595_resized\n",
      "Starting Training\n",
      "epoch: 00, loss: -0.92673\n",
      "epoch: 01, loss: -0.95598\n",
      "epoch: 02, loss: -0.96281\n",
      "epoch: 03, loss: -0.96667\n",
      "epoch: 04, loss: -0.96936\n",
      "epoch: 05, loss: -0.97133\n",
      "epoch: 06, loss: -0.97288\n",
      "epoch: 07, loss: -0.97414\n",
      "epoch: 08, loss: -0.97520\n",
      "epoch: 09, loss: -0.97610\n",
      "torch.Size([1024, 64])\n"
     ]
    },
    {
     "name": "stderr",
     "output_type": "stream",
     "text": [
      " 59%|█████▉    | 594/999 [11:46:43<7:52:44, 70.04s/it]"
     ]
    },
    {
     "name": "stdout",
     "output_type": "stream",
     "text": [
      "eigenvalues shape torch.Size([5]) eigenvectors shape torch.Size([5, 1024])\n",
      "594 /home/phdcs2/Hard_Disk/Datasets/Deep-Spectral-Segmentation/data/object-segmentation/ECSSD/features/0596_resized.pth\n",
      "dict_keys(['k', 'indices', 'file', 'id', 'model_name', 'patch_size', 'shape'])\n",
      "0596_resized\n",
      "Starting Training\n",
      "epoch: 00, loss: -0.85412\n",
      "epoch: 01, loss: -0.91451\n",
      "epoch: 02, loss: -0.93025\n",
      "epoch: 03, loss: -0.93876\n",
      "epoch: 04, loss: -0.94449\n",
      "epoch: 05, loss: -0.94884\n",
      "epoch: 06, loss: -0.95208\n",
      "epoch: 07, loss: -0.95465\n",
      "epoch: 08, loss: -0.95682\n",
      "epoch: 09, loss: -0.95870\n",
      "torch.Size([1024, 64])\n"
     ]
    },
    {
     "name": "stderr",
     "output_type": "stream",
     "text": [
      " 60%|█████▉    | 595/999 [11:47:57<8:00:03, 71.30s/it]"
     ]
    },
    {
     "name": "stdout",
     "output_type": "stream",
     "text": [
      "eigenvalues shape torch.Size([5]) eigenvectors shape torch.Size([5, 1024])\n",
      "595 /home/phdcs2/Hard_Disk/Datasets/Deep-Spectral-Segmentation/data/object-segmentation/ECSSD/features/0597_resized.pth\n",
      "dict_keys(['k', 'indices', 'file', 'id', 'model_name', 'patch_size', 'shape'])\n",
      "0597_resized\n"
     ]
    },
    {
     "name": "stderr",
     "output_type": "stream",
     "text": [
      "/home/phdcs2/Hard_Disk/Projects/T2I/deep-spectral-segmentation/venv/lib/python3.8/site-packages/sklearn/decomposition/_pca.py:642: RuntimeWarning: invalid value encountered in divide\n",
      "  self.explained_variance_ratio_ = self.explained_variance_ / total_var\n"
     ]
    },
    {
     "name": "stdout",
     "output_type": "stream",
     "text": [
      "Starting Training\n",
      "epoch: 00, loss: -0.91356\n",
      "epoch: 01, loss: -0.94816\n",
      "epoch: 02, loss: -0.95619\n",
      "epoch: 03, loss: -0.96084\n",
      "epoch: 04, loss: -0.96403\n",
      "epoch: 05, loss: -0.96639\n",
      "epoch: 06, loss: -0.96823\n",
      "epoch: 07, loss: -0.96976\n",
      "epoch: 08, loss: -0.97104\n",
      "epoch: 09, loss: -0.97212\n",
      "torch.Size([1024, 64])\n"
     ]
    },
    {
     "name": "stderr",
     "output_type": "stream",
     "text": [
      " 60%|█████▉    | 596/999 [11:49:08<7:57:44, 71.13s/it]"
     ]
    },
    {
     "name": "stdout",
     "output_type": "stream",
     "text": [
      "eigenvalues shape torch.Size([5]) eigenvectors shape torch.Size([5, 1024])\n",
      "596 /home/phdcs2/Hard_Disk/Datasets/Deep-Spectral-Segmentation/data/object-segmentation/ECSSD/features/0598_resized.pth\n",
      "dict_keys(['k', 'indices', 'file', 'id', 'model_name', 'patch_size', 'shape'])\n",
      "0598_resized\n",
      "Starting Training\n",
      "epoch: 00, loss: -0.87348\n",
      "epoch: 01, loss: -0.92534\n",
      "epoch: 02, loss: -0.93904\n",
      "epoch: 03, loss: -0.94664\n",
      "epoch: 04, loss: -0.95179\n",
      "epoch: 05, loss: -0.95539\n",
      "epoch: 06, loss: -0.95826\n",
      "epoch: 07, loss: -0.96058\n",
      "epoch: 08, loss: -0.96252\n",
      "epoch: 09, loss: -0.96419\n",
      "torch.Size([1024, 64])\n"
     ]
    },
    {
     "name": "stderr",
     "output_type": "stream",
     "text": [
      " 60%|█████▉    | 597/999 [11:50:19<7:55:47, 71.01s/it]"
     ]
    },
    {
     "name": "stdout",
     "output_type": "stream",
     "text": [
      "eigenvalues shape torch.Size([5]) eigenvectors shape torch.Size([5, 1024])\n",
      "597 /home/phdcs2/Hard_Disk/Datasets/Deep-Spectral-Segmentation/data/object-segmentation/ECSSD/features/0599_resized.pth\n",
      "dict_keys(['k', 'indices', 'file', 'id', 'model_name', 'patch_size', 'shape'])\n",
      "0599_resized\n",
      "Starting Training\n",
      "epoch: 00, loss: -0.84995\n",
      "epoch: 01, loss: -0.91076\n",
      "epoch: 02, loss: -0.92726\n",
      "epoch: 03, loss: -0.93661\n",
      "epoch: 04, loss: -0.94271\n",
      "epoch: 05, loss: -0.94716\n",
      "epoch: 06, loss: -0.95058\n",
      "epoch: 07, loss: -0.95349\n",
      "epoch: 08, loss: -0.95583\n",
      "epoch: 09, loss: -0.95783\n",
      "torch.Size([1024, 64])\n"
     ]
    },
    {
     "name": "stderr",
     "output_type": "stream",
     "text": [
      " 60%|█████▉    | 598/999 [11:51:27<7:48:28, 70.10s/it]"
     ]
    },
    {
     "name": "stdout",
     "output_type": "stream",
     "text": [
      "eigenvalues shape torch.Size([5]) eigenvectors shape torch.Size([5, 1024])\n",
      "598 /home/phdcs2/Hard_Disk/Datasets/Deep-Spectral-Segmentation/data/object-segmentation/ECSSD/features/0600_resized.pth\n",
      "dict_keys(['k', 'indices', 'file', 'id', 'model_name', 'patch_size', 'shape'])\n",
      "0600_resized\n"
     ]
    },
    {
     "name": "stderr",
     "output_type": "stream",
     "text": [
      "/home/phdcs2/Hard_Disk/Projects/T2I/deep-spectral-segmentation/venv/lib/python3.8/site-packages/sklearn/decomposition/_pca.py:642: RuntimeWarning: invalid value encountered in divide\n",
      "  self.explained_variance_ratio_ = self.explained_variance_ / total_var\n"
     ]
    },
    {
     "name": "stdout",
     "output_type": "stream",
     "text": [
      "Starting Training\n",
      "epoch: 00, loss: -0.92912\n",
      "epoch: 01, loss: -0.95640\n",
      "epoch: 02, loss: -0.96317\n",
      "epoch: 03, loss: -0.96710\n",
      "epoch: 04, loss: -0.96982\n",
      "epoch: 05, loss: -0.97183\n",
      "epoch: 06, loss: -0.97343\n",
      "epoch: 07, loss: -0.97472\n",
      "epoch: 08, loss: -0.97581\n",
      "epoch: 09, loss: -0.97672\n",
      "torch.Size([1024, 64])\n"
     ]
    },
    {
     "name": "stderr",
     "output_type": "stream",
     "text": [
      " 60%|█████▉    | 599/999 [11:52:26<7:26:13, 66.93s/it]"
     ]
    },
    {
     "name": "stdout",
     "output_type": "stream",
     "text": [
      "eigenvalues shape torch.Size([5]) eigenvectors shape torch.Size([5, 1024])\n",
      "599 /home/phdcs2/Hard_Disk/Datasets/Deep-Spectral-Segmentation/data/object-segmentation/ECSSD/features/0601_resized.pth\n",
      "dict_keys(['k', 'indices', 'file', 'id', 'model_name', 'patch_size', 'shape'])\n",
      "0601_resized\n"
     ]
    },
    {
     "name": "stderr",
     "output_type": "stream",
     "text": [
      "/home/phdcs2/Hard_Disk/Projects/T2I/deep-spectral-segmentation/venv/lib/python3.8/site-packages/sklearn/decomposition/_pca.py:642: RuntimeWarning: invalid value encountered in divide\n",
      "  self.explained_variance_ratio_ = self.explained_variance_ / total_var\n"
     ]
    },
    {
     "name": "stdout",
     "output_type": "stream",
     "text": [
      "Starting Training\n",
      "epoch: 00, loss: -0.91363\n",
      "epoch: 01, loss: -0.94859\n",
      "epoch: 02, loss: -0.95652\n",
      "epoch: 03, loss: -0.96122\n",
      "epoch: 04, loss: -0.96437\n",
      "epoch: 05, loss: -0.96675\n",
      "epoch: 06, loss: -0.96861\n",
      "epoch: 07, loss: -0.97013\n",
      "epoch: 08, loss: -0.97140\n",
      "epoch: 09, loss: -0.97249\n",
      "torch.Size([1024, 64])\n"
     ]
    },
    {
     "name": "stderr",
     "output_type": "stream",
     "text": [
      " 60%|██████    | 600/999 [11:53:23<7:05:38, 64.01s/it]"
     ]
    },
    {
     "name": "stdout",
     "output_type": "stream",
     "text": [
      "eigenvalues shape torch.Size([5]) eigenvectors shape torch.Size([5, 1024])\n",
      "600 /home/phdcs2/Hard_Disk/Datasets/Deep-Spectral-Segmentation/data/object-segmentation/ECSSD/features/0602_resized.pth\n",
      "dict_keys(['k', 'indices', 'file', 'id', 'model_name', 'patch_size', 'shape'])\n",
      "0602_resized\n"
     ]
    },
    {
     "name": "stderr",
     "output_type": "stream",
     "text": [
      "/home/phdcs2/Hard_Disk/Projects/T2I/deep-spectral-segmentation/venv/lib/python3.8/site-packages/sklearn/decomposition/_pca.py:642: RuntimeWarning: invalid value encountered in divide\n",
      "  self.explained_variance_ratio_ = self.explained_variance_ / total_var\n"
     ]
    },
    {
     "name": "stdout",
     "output_type": "stream",
     "text": [
      "Starting Training\n",
      "epoch: 00, loss: -0.91585\n",
      "epoch: 01, loss: -0.94990\n",
      "epoch: 02, loss: -0.95762\n",
      "epoch: 03, loss: -0.96206\n",
      "epoch: 04, loss: -0.96510\n",
      "epoch: 05, loss: -0.96737\n",
      "epoch: 06, loss: -0.96915\n",
      "epoch: 07, loss: -0.97061\n",
      "epoch: 08, loss: -0.97182\n",
      "epoch: 09, loss: -0.97287\n",
      "torch.Size([1024, 64])\n"
     ]
    },
    {
     "name": "stderr",
     "output_type": "stream",
     "text": [
      " 60%|██████    | 601/999 [11:54:20<6:49:20, 61.71s/it]"
     ]
    },
    {
     "name": "stdout",
     "output_type": "stream",
     "text": [
      "eigenvalues shape torch.Size([5]) eigenvectors shape torch.Size([5, 1024])\n",
      "601 /home/phdcs2/Hard_Disk/Datasets/Deep-Spectral-Segmentation/data/object-segmentation/ECSSD/features/0603_resized.pth\n",
      "dict_keys(['k', 'indices', 'file', 'id', 'model_name', 'patch_size', 'shape'])\n",
      "0603_resized\n",
      "Starting Training\n",
      "epoch: 00, loss: -0.86788\n",
      "epoch: 01, loss: -0.92106\n",
      "epoch: 02, loss: -0.93451\n",
      "epoch: 03, loss: -0.94190\n",
      "epoch: 04, loss: -0.94692\n",
      "epoch: 05, loss: -0.95070\n",
      "epoch: 06, loss: -0.95365\n",
      "epoch: 07, loss: -0.95608\n",
      "epoch: 08, loss: -0.95799\n",
      "epoch: 09, loss: -0.95974\n",
      "torch.Size([1024, 64])\n"
     ]
    },
    {
     "name": "stderr",
     "output_type": "stream",
     "text": [
      " 60%|██████    | 602/999 [11:55:29<7:03:49, 64.06s/it]"
     ]
    },
    {
     "name": "stdout",
     "output_type": "stream",
     "text": [
      "eigenvalues shape torch.Size([5]) eigenvectors shape torch.Size([5, 1024])\n",
      "602 /home/phdcs2/Hard_Disk/Datasets/Deep-Spectral-Segmentation/data/object-segmentation/ECSSD/features/0604_resized.pth\n",
      "dict_keys(['k', 'indices', 'file', 'id', 'model_name', 'patch_size', 'shape'])\n",
      "0604_resized\n",
      "Starting Training\n",
      "epoch: 00, loss: -0.84517\n",
      "epoch: 01, loss: -0.90973\n",
      "epoch: 02, loss: -0.92616\n",
      "epoch: 03, loss: -0.93533\n",
      "epoch: 04, loss: -0.94128\n",
      "epoch: 05, loss: -0.94585\n",
      "epoch: 06, loss: -0.94938\n",
      "epoch: 07, loss: -0.95219\n",
      "epoch: 08, loss: -0.95455\n",
      "epoch: 09, loss: -0.95648\n",
      "torch.Size([1024, 64])\n"
     ]
    },
    {
     "name": "stderr",
     "output_type": "stream",
     "text": [
      " 60%|██████    | 603/999 [11:56:44<7:22:56, 67.11s/it]"
     ]
    },
    {
     "name": "stdout",
     "output_type": "stream",
     "text": [
      "eigenvalues shape torch.Size([5]) eigenvectors shape torch.Size([5, 1024])\n",
      "603 /home/phdcs2/Hard_Disk/Datasets/Deep-Spectral-Segmentation/data/object-segmentation/ECSSD/features/0605_resized.pth\n",
      "dict_keys(['k', 'indices', 'file', 'id', 'model_name', 'patch_size', 'shape'])\n",
      "0605_resized\n"
     ]
    },
    {
     "name": "stderr",
     "output_type": "stream",
     "text": [
      "/home/phdcs2/Hard_Disk/Projects/T2I/deep-spectral-segmentation/venv/lib/python3.8/site-packages/sklearn/decomposition/_pca.py:642: RuntimeWarning: invalid value encountered in divide\n",
      "  self.explained_variance_ratio_ = self.explained_variance_ / total_var\n"
     ]
    },
    {
     "name": "stdout",
     "output_type": "stream",
     "text": [
      "Starting Training\n",
      "epoch: 00, loss: -0.91374\n",
      "epoch: 01, loss: -0.94980\n",
      "epoch: 02, loss: -0.95794\n",
      "epoch: 03, loss: -0.96264\n",
      "epoch: 04, loss: -0.96583\n",
      "epoch: 05, loss: -0.96820\n",
      "epoch: 06, loss: -0.97004\n",
      "epoch: 07, loss: -0.97158\n",
      "epoch: 08, loss: -0.97281\n",
      "epoch: 09, loss: -0.97391\n",
      "torch.Size([1024, 64])\n"
     ]
    },
    {
     "name": "stderr",
     "output_type": "stream",
     "text": [
      " 60%|██████    | 604/999 [11:57:58<7:36:16, 69.31s/it]"
     ]
    },
    {
     "name": "stdout",
     "output_type": "stream",
     "text": [
      "eigenvalues shape torch.Size([5]) eigenvectors shape torch.Size([5, 1024])\n",
      "604 /home/phdcs2/Hard_Disk/Datasets/Deep-Spectral-Segmentation/data/object-segmentation/ECSSD/features/0606_resized.pth\n",
      "dict_keys(['k', 'indices', 'file', 'id', 'model_name', 'patch_size', 'shape'])\n",
      "0606_resized\n"
     ]
    },
    {
     "name": "stderr",
     "output_type": "stream",
     "text": [
      "/home/phdcs2/Hard_Disk/Projects/T2I/deep-spectral-segmentation/venv/lib/python3.8/site-packages/sklearn/decomposition/_pca.py:642: RuntimeWarning: invalid value encountered in divide\n",
      "  self.explained_variance_ratio_ = self.explained_variance_ / total_var\n"
     ]
    },
    {
     "name": "stdout",
     "output_type": "stream",
     "text": [
      "Starting Training\n",
      "epoch: 00, loss: -0.92152\n",
      "epoch: 01, loss: -0.95365\n",
      "epoch: 02, loss: -0.96063\n",
      "epoch: 03, loss: -0.96471\n",
      "epoch: 04, loss: -0.96745\n",
      "epoch: 05, loss: -0.96955\n",
      "epoch: 06, loss: -0.97115\n",
      "epoch: 07, loss: -0.97249\n",
      "epoch: 08, loss: -0.97361\n",
      "epoch: 09, loss: -0.97454\n",
      "torch.Size([1024, 64])\n"
     ]
    },
    {
     "name": "stderr",
     "output_type": "stream",
     "text": [
      " 61%|██████    | 605/999 [11:59:11<7:43:05, 70.52s/it]"
     ]
    },
    {
     "name": "stdout",
     "output_type": "stream",
     "text": [
      "eigenvalues shape torch.Size([5]) eigenvectors shape torch.Size([5, 1024])\n",
      "605 /home/phdcs2/Hard_Disk/Datasets/Deep-Spectral-Segmentation/data/object-segmentation/ECSSD/features/0607_resized.pth\n",
      "dict_keys(['k', 'indices', 'file', 'id', 'model_name', 'patch_size', 'shape'])\n",
      "0607_resized\n"
     ]
    },
    {
     "name": "stderr",
     "output_type": "stream",
     "text": [
      "/home/phdcs2/Hard_Disk/Projects/T2I/deep-spectral-segmentation/venv/lib/python3.8/site-packages/sklearn/decomposition/_pca.py:642: RuntimeWarning: invalid value encountered in divide\n",
      "  self.explained_variance_ratio_ = self.explained_variance_ / total_var\n"
     ]
    },
    {
     "name": "stdout",
     "output_type": "stream",
     "text": [
      "Starting Training\n",
      "epoch: 00, loss: -0.93093\n",
      "epoch: 01, loss: -0.95885\n",
      "epoch: 02, loss: -0.96486\n",
      "epoch: 03, loss: -0.96831\n",
      "epoch: 04, loss: -0.97074\n",
      "epoch: 05, loss: -0.97255\n",
      "epoch: 06, loss: -0.97397\n",
      "epoch: 07, loss: -0.97516\n",
      "epoch: 08, loss: -0.97614\n",
      "epoch: 09, loss: -0.97698\n",
      "torch.Size([1024, 64])\n"
     ]
    },
    {
     "name": "stderr",
     "output_type": "stream",
     "text": [
      " 61%|██████    | 606/999 [12:00:22<7:42:16, 70.58s/it]"
     ]
    },
    {
     "name": "stdout",
     "output_type": "stream",
     "text": [
      "eigenvalues shape torch.Size([5]) eigenvectors shape torch.Size([5, 1024])\n",
      "606 /home/phdcs2/Hard_Disk/Datasets/Deep-Spectral-Segmentation/data/object-segmentation/ECSSD/features/0608_resized.pth\n",
      "dict_keys(['k', 'indices', 'file', 'id', 'model_name', 'patch_size', 'shape'])\n",
      "0608_resized\n"
     ]
    },
    {
     "name": "stderr",
     "output_type": "stream",
     "text": [
      "/home/phdcs2/Hard_Disk/Projects/T2I/deep-spectral-segmentation/venv/lib/python3.8/site-packages/sklearn/decomposition/_pca.py:642: RuntimeWarning: invalid value encountered in divide\n",
      "  self.explained_variance_ratio_ = self.explained_variance_ / total_var\n"
     ]
    },
    {
     "name": "stdout",
     "output_type": "stream",
     "text": [
      "Starting Training\n",
      "epoch: 00, loss: -0.93913\n",
      "epoch: 01, loss: -0.96739\n",
      "epoch: 02, loss: -0.97254\n",
      "epoch: 03, loss: -0.97549\n",
      "epoch: 04, loss: -0.97749\n",
      "epoch: 05, loss: -0.97899\n",
      "epoch: 06, loss: -0.98015\n",
      "epoch: 07, loss: -0.98112\n",
      "epoch: 08, loss: -0.98191\n",
      "epoch: 09, loss: -0.98259\n",
      "torch.Size([1024, 64])\n"
     ]
    },
    {
     "name": "stderr",
     "output_type": "stream",
     "text": [
      " 61%|██████    | 607/999 [12:01:29<7:34:35, 69.58s/it]"
     ]
    },
    {
     "name": "stdout",
     "output_type": "stream",
     "text": [
      "eigenvalues shape torch.Size([5]) eigenvectors shape torch.Size([5, 1024])\n",
      "607 /home/phdcs2/Hard_Disk/Datasets/Deep-Spectral-Segmentation/data/object-segmentation/ECSSD/features/0609_resized.pth\n",
      "dict_keys(['k', 'indices', 'file', 'id', 'model_name', 'patch_size', 'shape'])\n",
      "0609_resized\n"
     ]
    },
    {
     "name": "stderr",
     "output_type": "stream",
     "text": [
      "/home/phdcs2/Hard_Disk/Projects/T2I/deep-spectral-segmentation/venv/lib/python3.8/site-packages/sklearn/decomposition/_pca.py:642: RuntimeWarning: invalid value encountered in divide\n",
      "  self.explained_variance_ratio_ = self.explained_variance_ / total_var\n"
     ]
    },
    {
     "name": "stdout",
     "output_type": "stream",
     "text": [
      "Starting Training\n",
      "epoch: 00, loss: -0.91612\n",
      "epoch: 01, loss: -0.94997\n",
      "epoch: 02, loss: -0.95770\n",
      "epoch: 03, loss: -0.96229\n",
      "epoch: 04, loss: -0.96543\n",
      "epoch: 05, loss: -0.96780\n",
      "epoch: 06, loss: -0.96967\n",
      "epoch: 07, loss: -0.97117\n",
      "epoch: 08, loss: -0.97246\n",
      "epoch: 09, loss: -0.97351\n",
      "torch.Size([1024, 64])\n"
     ]
    },
    {
     "name": "stderr",
     "output_type": "stream",
     "text": [
      " 61%|██████    | 608/999 [12:02:41<7:36:37, 70.07s/it]"
     ]
    },
    {
     "name": "stdout",
     "output_type": "stream",
     "text": [
      "eigenvalues shape torch.Size([5]) eigenvectors shape torch.Size([5, 1024])\n",
      "608 /home/phdcs2/Hard_Disk/Datasets/Deep-Spectral-Segmentation/data/object-segmentation/ECSSD/features/0610_resized.pth\n",
      "dict_keys(['k', 'indices', 'file', 'id', 'model_name', 'patch_size', 'shape'])\n",
      "0610_resized\n",
      "Starting Training\n",
      "epoch: 00, loss: -0.92638\n",
      "epoch: 01, loss: -0.95581\n",
      "epoch: 02, loss: -0.96307\n",
      "epoch: 03, loss: -0.96724\n",
      "epoch: 04, loss: -0.97010\n",
      "epoch: 05, loss: -0.97222\n",
      "epoch: 06, loss: -0.97388\n",
      "epoch: 07, loss: -0.97523\n",
      "epoch: 08, loss: -0.97637\n",
      "epoch: 09, loss: -0.97731\n",
      "torch.Size([1024, 64])\n"
     ]
    },
    {
     "name": "stderr",
     "output_type": "stream",
     "text": [
      " 61%|██████    | 609/999 [12:03:52<7:38:38, 70.56s/it]"
     ]
    },
    {
     "name": "stdout",
     "output_type": "stream",
     "text": [
      "eigenvalues shape torch.Size([5]) eigenvectors shape torch.Size([5, 1024])\n",
      "609 /home/phdcs2/Hard_Disk/Datasets/Deep-Spectral-Segmentation/data/object-segmentation/ECSSD/features/0611_resized.pth\n",
      "dict_keys(['k', 'indices', 'file', 'id', 'model_name', 'patch_size', 'shape'])\n",
      "0611_resized\n",
      "Starting Training\n",
      "epoch: 00, loss: -0.92011\n",
      "epoch: 01, loss: -0.95278\n",
      "epoch: 02, loss: -0.96034\n",
      "epoch: 03, loss: -0.96480\n",
      "epoch: 04, loss: -0.96782\n",
      "epoch: 05, loss: -0.97008\n",
      "epoch: 06, loss: -0.97184\n",
      "epoch: 07, loss: -0.97328\n",
      "epoch: 08, loss: -0.97449\n",
      "epoch: 09, loss: -0.97552\n",
      "torch.Size([1024, 64])\n"
     ]
    },
    {
     "name": "stderr",
     "output_type": "stream",
     "text": [
      " 61%|██████    | 610/999 [12:05:01<7:34:39, 70.13s/it]"
     ]
    },
    {
     "name": "stdout",
     "output_type": "stream",
     "text": [
      "eigenvalues shape torch.Size([5]) eigenvectors shape torch.Size([5, 1024])\n",
      "610 /home/phdcs2/Hard_Disk/Datasets/Deep-Spectral-Segmentation/data/object-segmentation/ECSSD/features/0612_resized.pth\n",
      "dict_keys(['k', 'indices', 'file', 'id', 'model_name', 'patch_size', 'shape'])\n",
      "0612_resized\n",
      "Starting Training\n",
      "epoch: 00, loss: -0.91495\n",
      "epoch: 01, loss: -0.95085\n",
      "epoch: 02, loss: -0.95839\n",
      "epoch: 03, loss: -0.96285\n",
      "epoch: 04, loss: -0.96587\n",
      "epoch: 05, loss: -0.96812\n",
      "epoch: 06, loss: -0.96990\n",
      "epoch: 07, loss: -0.97135\n",
      "epoch: 08, loss: -0.97256\n",
      "epoch: 09, loss: -0.97362\n",
      "torch.Size([1024, 64])\n"
     ]
    },
    {
     "name": "stderr",
     "output_type": "stream",
     "text": [
      " 61%|██████    | 611/999 [12:06:18<7:45:22, 71.97s/it]"
     ]
    },
    {
     "name": "stdout",
     "output_type": "stream",
     "text": [
      "eigenvalues shape torch.Size([5]) eigenvectors shape torch.Size([5, 1024])\n",
      "611 /home/phdcs2/Hard_Disk/Datasets/Deep-Spectral-Segmentation/data/object-segmentation/ECSSD/features/0613_resized.pth\n",
      "dict_keys(['k', 'indices', 'file', 'id', 'model_name', 'patch_size', 'shape'])\n",
      "0613_resized\n",
      "Starting Training\n",
      "epoch: 00, loss: -0.87353\n",
      "epoch: 01, loss: -0.92652\n",
      "epoch: 02, loss: -0.93991\n",
      "epoch: 03, loss: -0.94743\n",
      "epoch: 04, loss: -0.95239\n",
      "epoch: 05, loss: -0.95606\n",
      "epoch: 06, loss: -0.95894\n",
      "epoch: 07, loss: -0.96123\n",
      "epoch: 08, loss: -0.96306\n",
      "epoch: 09, loss: -0.96474\n",
      "torch.Size([1024, 64])\n"
     ]
    },
    {
     "name": "stderr",
     "output_type": "stream",
     "text": [
      " 61%|██████▏   | 612/999 [12:07:36<7:56:30, 73.88s/it]"
     ]
    },
    {
     "name": "stdout",
     "output_type": "stream",
     "text": [
      "eigenvalues shape torch.Size([5]) eigenvectors shape torch.Size([5, 1024])\n",
      "612 /home/phdcs2/Hard_Disk/Datasets/Deep-Spectral-Segmentation/data/object-segmentation/ECSSD/features/0614_resized.pth\n",
      "dict_keys(['k', 'indices', 'file', 'id', 'model_name', 'patch_size', 'shape'])\n",
      "0614_resized\n"
     ]
    },
    {
     "name": "stderr",
     "output_type": "stream",
     "text": [
      "/home/phdcs2/Hard_Disk/Projects/T2I/deep-spectral-segmentation/venv/lib/python3.8/site-packages/sklearn/decomposition/_pca.py:642: RuntimeWarning: invalid value encountered in divide\n",
      "  self.explained_variance_ratio_ = self.explained_variance_ / total_var\n"
     ]
    },
    {
     "name": "stdout",
     "output_type": "stream",
     "text": [
      "Starting Training\n",
      "epoch: 00, loss: -0.92401\n",
      "epoch: 01, loss: -0.95167\n",
      "epoch: 02, loss: -0.95891\n",
      "epoch: 03, loss: -0.96321\n",
      "epoch: 04, loss: -0.96613\n",
      "epoch: 05, loss: -0.96835\n",
      "epoch: 06, loss: -0.97011\n",
      "epoch: 07, loss: -0.97155\n",
      "epoch: 08, loss: -0.97274\n",
      "epoch: 09, loss: -0.97377\n",
      "torch.Size([1024, 64])\n"
     ]
    },
    {
     "name": "stderr",
     "output_type": "stream",
     "text": [
      " 61%|██████▏   | 613/999 [12:08:52<7:59:23, 74.52s/it]"
     ]
    },
    {
     "name": "stdout",
     "output_type": "stream",
     "text": [
      "eigenvalues shape torch.Size([5]) eigenvectors shape torch.Size([5, 1024])\n",
      "613 /home/phdcs2/Hard_Disk/Datasets/Deep-Spectral-Segmentation/data/object-segmentation/ECSSD/features/0615_resized.pth\n",
      "dict_keys(['k', 'indices', 'file', 'id', 'model_name', 'patch_size', 'shape'])\n",
      "0615_resized\n",
      "Starting Training\n",
      "epoch: 00, loss: -0.85042\n",
      "epoch: 01, loss: -0.91400\n",
      "epoch: 02, loss: -0.92957\n",
      "epoch: 03, loss: -0.93819\n",
      "epoch: 04, loss: -0.94412\n",
      "epoch: 05, loss: -0.94836\n",
      "epoch: 06, loss: -0.95163\n",
      "epoch: 07, loss: -0.95435\n",
      "epoch: 08, loss: -0.95650\n",
      "epoch: 09, loss: -0.95832\n",
      "torch.Size([1024, 64])\n"
     ]
    },
    {
     "name": "stderr",
     "output_type": "stream",
     "text": [
      " 61%|██████▏   | 614/999 [12:10:07<7:58:52, 74.63s/it]"
     ]
    },
    {
     "name": "stdout",
     "output_type": "stream",
     "text": [
      "eigenvalues shape torch.Size([5]) eigenvectors shape torch.Size([5, 1024])\n",
      "614 /home/phdcs2/Hard_Disk/Datasets/Deep-Spectral-Segmentation/data/object-segmentation/ECSSD/features/0616_resized.pth\n",
      "dict_keys(['k', 'indices', 'file', 'id', 'model_name', 'patch_size', 'shape'])\n",
      "0616_resized\n",
      "Starting Training\n",
      "epoch: 00, loss: -0.84915\n",
      "epoch: 01, loss: -0.91263\n",
      "epoch: 02, loss: -0.92911\n",
      "epoch: 03, loss: -0.93801\n",
      "epoch: 04, loss: -0.94415\n",
      "epoch: 05, loss: -0.94850\n",
      "epoch: 06, loss: -0.95184\n",
      "epoch: 07, loss: -0.95447\n",
      "epoch: 08, loss: -0.95668\n",
      "epoch: 09, loss: -0.95854\n",
      "torch.Size([1024, 64])\n"
     ]
    },
    {
     "name": "stderr",
     "output_type": "stream",
     "text": [
      " 62%|██████▏   | 615/999 [12:11:17<7:49:37, 73.38s/it]"
     ]
    },
    {
     "name": "stdout",
     "output_type": "stream",
     "text": [
      "eigenvalues shape torch.Size([5]) eigenvectors shape torch.Size([5, 1024])\n",
      "615 /home/phdcs2/Hard_Disk/Datasets/Deep-Spectral-Segmentation/data/object-segmentation/ECSSD/features/0617_resized.pth\n",
      "dict_keys(['k', 'indices', 'file', 'id', 'model_name', 'patch_size', 'shape'])\n",
      "0617_resized\n",
      "Starting Training\n",
      "epoch: 00, loss: -0.85757\n",
      "epoch: 01, loss: -0.91778\n",
      "epoch: 02, loss: -0.93235\n",
      "epoch: 03, loss: -0.94037\n",
      "epoch: 04, loss: -0.94575\n",
      "epoch: 05, loss: -0.94975\n",
      "epoch: 06, loss: -0.95286\n",
      "epoch: 07, loss: -0.95528\n",
      "epoch: 08, loss: -0.95727\n",
      "epoch: 09, loss: -0.95898\n",
      "torch.Size([1024, 64])\n"
     ]
    },
    {
     "name": "stderr",
     "output_type": "stream",
     "text": [
      " 62%|██████▏   | 616/999 [12:12:31<7:48:41, 73.42s/it]"
     ]
    },
    {
     "name": "stdout",
     "output_type": "stream",
     "text": [
      "eigenvalues shape torch.Size([5]) eigenvectors shape torch.Size([5, 1024])\n",
      "616 /home/phdcs2/Hard_Disk/Datasets/Deep-Spectral-Segmentation/data/object-segmentation/ECSSD/features/0618_resized.pth\n",
      "dict_keys(['k', 'indices', 'file', 'id', 'model_name', 'patch_size', 'shape'])\n",
      "0618_resized\n"
     ]
    },
    {
     "name": "stderr",
     "output_type": "stream",
     "text": [
      "/home/phdcs2/Hard_Disk/Projects/T2I/deep-spectral-segmentation/venv/lib/python3.8/site-packages/sklearn/decomposition/_pca.py:642: RuntimeWarning: invalid value encountered in divide\n",
      "  self.explained_variance_ratio_ = self.explained_variance_ / total_var\n"
     ]
    },
    {
     "name": "stdout",
     "output_type": "stream",
     "text": [
      "Starting Training\n",
      "epoch: 00, loss: -0.91098\n",
      "epoch: 01, loss: -0.94810\n",
      "epoch: 02, loss: -0.95624\n",
      "epoch: 03, loss: -0.96098\n",
      "epoch: 04, loss: -0.96421\n",
      "epoch: 05, loss: -0.96658\n",
      "epoch: 06, loss: -0.96845\n",
      "epoch: 07, loss: -0.97001\n",
      "epoch: 08, loss: -0.97129\n",
      "epoch: 09, loss: -0.97239\n",
      "torch.Size([1024, 64])\n"
     ]
    },
    {
     "name": "stderr",
     "output_type": "stream",
     "text": [
      " 62%|██████▏   | 617/999 [12:13:32<7:24:58, 69.89s/it]"
     ]
    },
    {
     "name": "stdout",
     "output_type": "stream",
     "text": [
      "eigenvalues shape torch.Size([5]) eigenvectors shape torch.Size([5, 1024])\n",
      "617 /home/phdcs2/Hard_Disk/Datasets/Deep-Spectral-Segmentation/data/object-segmentation/ECSSD/features/0619_resized.pth\n",
      "dict_keys(['k', 'indices', 'file', 'id', 'model_name', 'patch_size', 'shape'])\n",
      "0619_resized\n"
     ]
    },
    {
     "name": "stderr",
     "output_type": "stream",
     "text": [
      "/home/phdcs2/Hard_Disk/Projects/T2I/deep-spectral-segmentation/venv/lib/python3.8/site-packages/sklearn/decomposition/_pca.py:642: RuntimeWarning: invalid value encountered in divide\n",
      "  self.explained_variance_ratio_ = self.explained_variance_ / total_var\n"
     ]
    },
    {
     "name": "stdout",
     "output_type": "stream",
     "text": [
      "Starting Training\n",
      "epoch: 00, loss: -0.92051\n",
      "epoch: 01, loss: -0.95360\n",
      "epoch: 02, loss: -0.96126\n",
      "epoch: 03, loss: -0.96559\n",
      "epoch: 04, loss: -0.96858\n",
      "epoch: 05, loss: -0.97075\n",
      "epoch: 06, loss: -0.97248\n",
      "epoch: 07, loss: -0.97388\n",
      "epoch: 08, loss: -0.97504\n",
      "epoch: 09, loss: -0.97602\n",
      "torch.Size([1024, 64])\n"
     ]
    },
    {
     "name": "stderr",
     "output_type": "stream",
     "text": [
      " 62%|██████▏   | 618/999 [12:14:48<7:34:02, 71.50s/it]"
     ]
    },
    {
     "name": "stdout",
     "output_type": "stream",
     "text": [
      "eigenvalues shape torch.Size([5]) eigenvectors shape torch.Size([5, 1024])\n",
      "618 /home/phdcs2/Hard_Disk/Datasets/Deep-Spectral-Segmentation/data/object-segmentation/ECSSD/features/0620_resized.pth\n",
      "dict_keys(['k', 'indices', 'file', 'id', 'model_name', 'patch_size', 'shape'])\n",
      "0620_resized\n",
      "Starting Training\n",
      "epoch: 00, loss: -0.81740\n",
      "epoch: 01, loss: -0.89009\n",
      "epoch: 02, loss: -0.90995\n",
      "epoch: 03, loss: -0.92089\n",
      "epoch: 04, loss: -0.92794\n",
      "epoch: 05, loss: -0.93315\n",
      "epoch: 06, loss: -0.93731\n",
      "epoch: 07, loss: -0.94040\n",
      "epoch: 08, loss: -0.94304\n",
      "epoch: 09, loss: -0.94519\n",
      "torch.Size([1024, 64])\n"
     ]
    },
    {
     "name": "stderr",
     "output_type": "stream",
     "text": [
      " 62%|██████▏   | 619/999 [12:15:59<7:31:37, 71.31s/it]"
     ]
    },
    {
     "name": "stdout",
     "output_type": "stream",
     "text": [
      "eigenvalues shape torch.Size([5]) eigenvectors shape torch.Size([5, 1024])\n",
      "619 /home/phdcs2/Hard_Disk/Datasets/Deep-Spectral-Segmentation/data/object-segmentation/ECSSD/features/0621_resized.pth\n",
      "dict_keys(['k', 'indices', 'file', 'id', 'model_name', 'patch_size', 'shape'])\n",
      "0621_resized\n",
      "Starting Training\n",
      "epoch: 00, loss: -0.91913\n",
      "epoch: 01, loss: -0.95326\n",
      "epoch: 02, loss: -0.96108\n",
      "epoch: 03, loss: -0.96556\n",
      "epoch: 04, loss: -0.96862\n",
      "epoch: 05, loss: -0.97087\n",
      "epoch: 06, loss: -0.97265\n",
      "epoch: 07, loss: -0.97410\n",
      "epoch: 08, loss: -0.97529\n",
      "epoch: 09, loss: -0.97629\n",
      "torch.Size([1024, 64])\n"
     ]
    },
    {
     "name": "stderr",
     "output_type": "stream",
     "text": [
      " 62%|██████▏   | 620/999 [12:17:07<7:24:24, 70.36s/it]"
     ]
    },
    {
     "name": "stdout",
     "output_type": "stream",
     "text": [
      "eigenvalues shape torch.Size([5]) eigenvectors shape torch.Size([5, 1024])\n",
      "620 /home/phdcs2/Hard_Disk/Datasets/Deep-Spectral-Segmentation/data/object-segmentation/ECSSD/features/0622_resized.pth\n",
      "dict_keys(['k', 'indices', 'file', 'id', 'model_name', 'patch_size', 'shape'])\n",
      "0622_resized\n",
      "Starting Training\n",
      "epoch: 00, loss: -0.84031\n",
      "epoch: 01, loss: -0.90572\n",
      "epoch: 02, loss: -0.92199\n",
      "epoch: 03, loss: -0.93086\n",
      "epoch: 04, loss: -0.93663\n",
      "epoch: 05, loss: -0.94106\n",
      "epoch: 06, loss: -0.94446\n",
      "epoch: 07, loss: -0.94699\n",
      "epoch: 08, loss: -0.94914\n",
      "epoch: 09, loss: -0.95108\n",
      "torch.Size([1024, 64])\n"
     ]
    },
    {
     "name": "stderr",
     "output_type": "stream",
     "text": [
      " 62%|██████▏   | 621/999 [12:18:13<7:15:13, 69.08s/it]"
     ]
    },
    {
     "name": "stdout",
     "output_type": "stream",
     "text": [
      "eigenvalues shape torch.Size([5]) eigenvectors shape torch.Size([5, 1024])\n",
      "621 /home/phdcs2/Hard_Disk/Datasets/Deep-Spectral-Segmentation/data/object-segmentation/ECSSD/features/0623_resized.pth\n",
      "dict_keys(['k', 'indices', 'file', 'id', 'model_name', 'patch_size', 'shape'])\n",
      "0623_resized\n",
      "Starting Training\n",
      "epoch: 00, loss: -0.91301\n",
      "epoch: 01, loss: -0.94872\n",
      "epoch: 02, loss: -0.95727\n",
      "epoch: 03, loss: -0.96218\n",
      "epoch: 04, loss: -0.96552\n",
      "epoch: 05, loss: -0.96796\n",
      "epoch: 06, loss: -0.96989\n",
      "epoch: 07, loss: -0.97146\n",
      "epoch: 08, loss: -0.97276\n",
      "epoch: 09, loss: -0.97387\n",
      "torch.Size([1024, 64])\n"
     ]
    },
    {
     "name": "stderr",
     "output_type": "stream",
     "text": [
      " 62%|██████▏   | 622/999 [12:19:24<7:18:41, 69.82s/it]"
     ]
    },
    {
     "name": "stdout",
     "output_type": "stream",
     "text": [
      "eigenvalues shape torch.Size([5]) eigenvectors shape torch.Size([5, 1024])\n",
      "622 /home/phdcs2/Hard_Disk/Datasets/Deep-Spectral-Segmentation/data/object-segmentation/ECSSD/features/0624_resized.pth\n",
      "dict_keys(['k', 'indices', 'file', 'id', 'model_name', 'patch_size', 'shape'])\n",
      "0624_resized\n",
      "Starting Training\n",
      "epoch: 00, loss: -0.89737\n",
      "epoch: 01, loss: -0.93703\n",
      "epoch: 02, loss: -0.94702\n",
      "epoch: 03, loss: -0.95282\n",
      "epoch: 04, loss: -0.95665\n",
      "epoch: 05, loss: -0.95952\n",
      "epoch: 06, loss: -0.96177\n",
      "epoch: 07, loss: -0.96346\n",
      "epoch: 08, loss: -0.96502\n",
      "epoch: 09, loss: -0.96623\n",
      "torch.Size([1024, 64])\n"
     ]
    },
    {
     "name": "stderr",
     "output_type": "stream",
     "text": [
      " 62%|██████▏   | 623/999 [12:20:33<7:14:51, 69.39s/it]"
     ]
    },
    {
     "name": "stdout",
     "output_type": "stream",
     "text": [
      "eigenvalues shape torch.Size([5]) eigenvectors shape torch.Size([5, 1024])\n",
      "623 /home/phdcs2/Hard_Disk/Datasets/Deep-Spectral-Segmentation/data/object-segmentation/ECSSD/features/0625_resized.pth\n",
      "dict_keys(['k', 'indices', 'file', 'id', 'model_name', 'patch_size', 'shape'])\n",
      "0625_resized\n",
      "Starting Training\n",
      "epoch: 00, loss: -0.91612\n",
      "epoch: 01, loss: -0.94927\n",
      "epoch: 02, loss: -0.95749\n",
      "epoch: 03, loss: -0.96221\n",
      "epoch: 04, loss: -0.96542\n",
      "epoch: 05, loss: -0.96778\n",
      "epoch: 06, loss: -0.96965\n",
      "epoch: 07, loss: -0.97116\n",
      "epoch: 08, loss: -0.97242\n",
      "epoch: 09, loss: -0.97350\n",
      "torch.Size([1024, 64])\n"
     ]
    },
    {
     "name": "stderr",
     "output_type": "stream",
     "text": [
      " 62%|██████▏   | 624/999 [12:21:42<7:14:00, 69.44s/it]"
     ]
    },
    {
     "name": "stdout",
     "output_type": "stream",
     "text": [
      "eigenvalues shape torch.Size([5]) eigenvectors shape torch.Size([5, 1024])\n",
      "624 /home/phdcs2/Hard_Disk/Datasets/Deep-Spectral-Segmentation/data/object-segmentation/ECSSD/features/0626_resized.pth\n",
      "dict_keys(['k', 'indices', 'file', 'id', 'model_name', 'patch_size', 'shape'])\n",
      "0626_resized\n",
      "Starting Training\n",
      "epoch: 00, loss: -0.85725\n",
      "epoch: 01, loss: -0.91766\n",
      "epoch: 02, loss: -0.93218\n",
      "epoch: 03, loss: -0.94043\n",
      "epoch: 04, loss: -0.94569\n",
      "epoch: 05, loss: -0.94961\n",
      "epoch: 06, loss: -0.95263\n",
      "epoch: 07, loss: -0.95529\n",
      "epoch: 08, loss: -0.95728\n",
      "epoch: 09, loss: -0.95907\n",
      "torch.Size([1024, 64])\n"
     ]
    },
    {
     "name": "stderr",
     "output_type": "stream",
     "text": [
      " 63%|██████▎   | 625/999 [12:22:47<7:04:35, 68.12s/it]"
     ]
    },
    {
     "name": "stdout",
     "output_type": "stream",
     "text": [
      "eigenvalues shape torch.Size([5]) eigenvectors shape torch.Size([5, 1024])\n",
      "625 /home/phdcs2/Hard_Disk/Datasets/Deep-Spectral-Segmentation/data/object-segmentation/ECSSD/features/0627_resized.pth\n",
      "dict_keys(['k', 'indices', 'file', 'id', 'model_name', 'patch_size', 'shape'])\n",
      "0627_resized\n",
      "Starting Training\n",
      "epoch: 00, loss: -0.85996\n",
      "epoch: 01, loss: -0.91663\n",
      "epoch: 02, loss: -0.93118\n",
      "epoch: 03, loss: -0.93935\n",
      "epoch: 04, loss: -0.94494\n",
      "epoch: 05, loss: -0.94904\n",
      "epoch: 06, loss: -0.95233\n",
      "epoch: 07, loss: -0.95497\n",
      "epoch: 08, loss: -0.95709\n",
      "epoch: 09, loss: -0.95887\n",
      "torch.Size([1024, 64])\n"
     ]
    },
    {
     "name": "stderr",
     "output_type": "stream",
     "text": [
      " 63%|██████▎   | 626/999 [12:24:00<7:12:37, 69.59s/it]"
     ]
    },
    {
     "name": "stdout",
     "output_type": "stream",
     "text": [
      "eigenvalues shape torch.Size([5]) eigenvectors shape torch.Size([5, 1024])\n",
      "626 /home/phdcs2/Hard_Disk/Datasets/Deep-Spectral-Segmentation/data/object-segmentation/ECSSD/features/0628_resized.pth\n",
      "dict_keys(['k', 'indices', 'file', 'id', 'model_name', 'patch_size', 'shape'])\n",
      "0628_resized\n"
     ]
    },
    {
     "name": "stderr",
     "output_type": "stream",
     "text": [
      "/home/phdcs2/Hard_Disk/Projects/T2I/deep-spectral-segmentation/venv/lib/python3.8/site-packages/sklearn/decomposition/_pca.py:642: RuntimeWarning: invalid value encountered in divide\n",
      "  self.explained_variance_ratio_ = self.explained_variance_ / total_var\n"
     ]
    },
    {
     "name": "stdout",
     "output_type": "stream",
     "text": [
      "Starting Training\n",
      "epoch: 00, loss: -0.91781\n",
      "epoch: 01, loss: -0.94941\n",
      "epoch: 02, loss: -0.95761\n",
      "epoch: 03, loss: -0.96236\n",
      "epoch: 04, loss: -0.96566\n",
      "epoch: 05, loss: -0.96808\n",
      "epoch: 06, loss: -0.97001\n",
      "epoch: 07, loss: -0.97156\n",
      "epoch: 08, loss: -0.97287\n",
      "epoch: 09, loss: -0.97398\n",
      "torch.Size([1024, 64])\n"
     ]
    },
    {
     "name": "stderr",
     "output_type": "stream",
     "text": [
      " 63%|██████▎   | 627/999 [12:25:15<7:21:37, 71.23s/it]"
     ]
    },
    {
     "name": "stdout",
     "output_type": "stream",
     "text": [
      "eigenvalues shape torch.Size([5]) eigenvectors shape torch.Size([5, 1024])\n",
      "627 /home/phdcs2/Hard_Disk/Datasets/Deep-Spectral-Segmentation/data/object-segmentation/ECSSD/features/0629_resized.pth\n",
      "dict_keys(['k', 'indices', 'file', 'id', 'model_name', 'patch_size', 'shape'])\n",
      "0629_resized\n",
      "Starting Training\n",
      "epoch: 00, loss: -0.86618\n",
      "epoch: 01, loss: -0.91916\n",
      "epoch: 02, loss: -0.93318\n",
      "epoch: 03, loss: -0.94103\n",
      "epoch: 04, loss: -0.94643\n",
      "epoch: 05, loss: -0.95036\n",
      "epoch: 06, loss: -0.95330\n",
      "epoch: 07, loss: -0.95575\n",
      "epoch: 08, loss: -0.95793\n",
      "epoch: 09, loss: -0.95956\n",
      "torch.Size([1024, 64])\n"
     ]
    },
    {
     "name": "stderr",
     "output_type": "stream",
     "text": [
      " 63%|██████▎   | 628/999 [12:26:31<7:27:39, 72.40s/it]"
     ]
    },
    {
     "name": "stdout",
     "output_type": "stream",
     "text": [
      "eigenvalues shape torch.Size([5]) eigenvectors shape torch.Size([5, 1024])\n",
      "628 /home/phdcs2/Hard_Disk/Datasets/Deep-Spectral-Segmentation/data/object-segmentation/ECSSD/features/0630_resized.pth\n",
      "dict_keys(['k', 'indices', 'file', 'id', 'model_name', 'patch_size', 'shape'])\n",
      "0630_resized\n",
      "Starting Training\n",
      "epoch: 00, loss: -0.88398\n",
      "epoch: 01, loss: -0.93420\n",
      "epoch: 02, loss: -0.94550\n",
      "epoch: 03, loss: -0.95190\n",
      "epoch: 04, loss: -0.95626\n",
      "epoch: 05, loss: -0.95943\n",
      "epoch: 06, loss: -0.96185\n",
      "epoch: 07, loss: -0.96387\n",
      "epoch: 08, loss: -0.96554\n",
      "epoch: 09, loss: -0.96689\n",
      "torch.Size([1024, 64])\n"
     ]
    },
    {
     "name": "stderr",
     "output_type": "stream",
     "text": [
      " 63%|██████▎   | 629/999 [12:27:45<7:31:07, 73.16s/it]"
     ]
    },
    {
     "name": "stdout",
     "output_type": "stream",
     "text": [
      "eigenvalues shape torch.Size([5]) eigenvectors shape torch.Size([5, 1024])\n",
      "629 /home/phdcs2/Hard_Disk/Datasets/Deep-Spectral-Segmentation/data/object-segmentation/ECSSD/features/0631_resized.pth\n",
      "dict_keys(['k', 'indices', 'file', 'id', 'model_name', 'patch_size', 'shape'])\n",
      "0631_resized\n"
     ]
    },
    {
     "name": "stderr",
     "output_type": "stream",
     "text": [
      "/home/phdcs2/Hard_Disk/Projects/T2I/deep-spectral-segmentation/venv/lib/python3.8/site-packages/sklearn/decomposition/_pca.py:642: RuntimeWarning: invalid value encountered in divide\n",
      "  self.explained_variance_ratio_ = self.explained_variance_ / total_var\n"
     ]
    },
    {
     "name": "stdout",
     "output_type": "stream",
     "text": [
      "Starting Training\n",
      "epoch: 00, loss: -0.91766\n",
      "epoch: 01, loss: -0.94942\n",
      "epoch: 02, loss: -0.95726\n",
      "epoch: 03, loss: -0.96177\n",
      "epoch: 04, loss: -0.96489\n",
      "epoch: 05, loss: -0.96719\n",
      "epoch: 06, loss: -0.96903\n",
      "epoch: 07, loss: -0.97048\n",
      "epoch: 08, loss: -0.97175\n",
      "epoch: 09, loss: -0.97278\n",
      "torch.Size([1024, 64])\n"
     ]
    },
    {
     "name": "stderr",
     "output_type": "stream",
     "text": [
      " 63%|██████▎   | 630/999 [12:29:01<7:34:33, 73.91s/it]"
     ]
    },
    {
     "name": "stdout",
     "output_type": "stream",
     "text": [
      "eigenvalues shape torch.Size([5]) eigenvectors shape torch.Size([5, 1024])\n",
      "630 /home/phdcs2/Hard_Disk/Datasets/Deep-Spectral-Segmentation/data/object-segmentation/ECSSD/features/0632_resized.pth\n",
      "dict_keys(['k', 'indices', 'file', 'id', 'model_name', 'patch_size', 'shape'])\n",
      "0632_resized\n"
     ]
    },
    {
     "name": "stderr",
     "output_type": "stream",
     "text": [
      "/home/phdcs2/Hard_Disk/Projects/T2I/deep-spectral-segmentation/venv/lib/python3.8/site-packages/sklearn/decomposition/_pca.py:642: RuntimeWarning: invalid value encountered in divide\n",
      "  self.explained_variance_ratio_ = self.explained_variance_ / total_var\n"
     ]
    },
    {
     "name": "stdout",
     "output_type": "stream",
     "text": [
      "Starting Training\n",
      "epoch: 00, loss: -0.92080\n",
      "epoch: 01, loss: -0.95355\n",
      "epoch: 02, loss: -0.96068\n",
      "epoch: 03, loss: -0.96481\n",
      "epoch: 04, loss: -0.96763\n",
      "epoch: 05, loss: -0.96975\n",
      "epoch: 06, loss: -0.97136\n",
      "epoch: 07, loss: -0.97272\n",
      "epoch: 08, loss: -0.97383\n",
      "epoch: 09, loss: -0.97480\n",
      "torch.Size([1024, 64])\n"
     ]
    },
    {
     "name": "stderr",
     "output_type": "stream",
     "text": [
      " 63%|██████▎   | 631/999 [12:30:16<7:35:05, 74.20s/it]"
     ]
    },
    {
     "name": "stdout",
     "output_type": "stream",
     "text": [
      "eigenvalues shape torch.Size([5]) eigenvectors shape torch.Size([5, 1024])\n",
      "631 /home/phdcs2/Hard_Disk/Datasets/Deep-Spectral-Segmentation/data/object-segmentation/ECSSD/features/0633_resized.pth\n",
      "dict_keys(['k', 'indices', 'file', 'id', 'model_name', 'patch_size', 'shape'])\n",
      "0633_resized\n",
      "Starting Training\n",
      "epoch: 00, loss: -0.86834\n",
      "epoch: 01, loss: -0.92288\n",
      "epoch: 02, loss: -0.93582\n",
      "epoch: 03, loss: -0.94318\n",
      "epoch: 04, loss: -0.94808\n",
      "epoch: 05, loss: -0.95173\n",
      "epoch: 06, loss: -0.95456\n",
      "epoch: 07, loss: -0.95680\n",
      "epoch: 08, loss: -0.95875\n",
      "epoch: 09, loss: -0.96040\n",
      "torch.Size([1024, 64])\n"
     ]
    },
    {
     "name": "stderr",
     "output_type": "stream",
     "text": [
      " 63%|██████▎   | 632/999 [12:31:19<7:13:05, 70.81s/it]"
     ]
    },
    {
     "name": "stdout",
     "output_type": "stream",
     "text": [
      "eigenvalues shape torch.Size([5]) eigenvectors shape torch.Size([5, 1024])\n",
      "632 /home/phdcs2/Hard_Disk/Datasets/Deep-Spectral-Segmentation/data/object-segmentation/ECSSD/features/0634_resized.pth\n",
      "dict_keys(['k', 'indices', 'file', 'id', 'model_name', 'patch_size', 'shape'])\n",
      "0634_resized\n"
     ]
    },
    {
     "name": "stderr",
     "output_type": "stream",
     "text": [
      "/home/phdcs2/Hard_Disk/Projects/T2I/deep-spectral-segmentation/venv/lib/python3.8/site-packages/sklearn/decomposition/_pca.py:642: RuntimeWarning: invalid value encountered in divide\n",
      "  self.explained_variance_ratio_ = self.explained_variance_ / total_var\n"
     ]
    },
    {
     "name": "stdout",
     "output_type": "stream",
     "text": [
      "Starting Training\n",
      "epoch: 00, loss: -0.91623\n",
      "epoch: 01, loss: -0.94938\n",
      "epoch: 02, loss: -0.95698\n",
      "epoch: 03, loss: -0.96139\n",
      "epoch: 04, loss: -0.96445\n",
      "epoch: 05, loss: -0.96677\n",
      "epoch: 06, loss: -0.96857\n",
      "epoch: 07, loss: -0.97004\n",
      "epoch: 08, loss: -0.97124\n",
      "epoch: 09, loss: -0.97231\n",
      "torch.Size([1024, 64])\n"
     ]
    },
    {
     "name": "stderr",
     "output_type": "stream",
     "text": [
      " 63%|██████▎   | 633/999 [12:32:31<7:13:25, 71.05s/it]"
     ]
    },
    {
     "name": "stdout",
     "output_type": "stream",
     "text": [
      "eigenvalues shape torch.Size([5]) eigenvectors shape torch.Size([5, 1024])\n",
      "633 /home/phdcs2/Hard_Disk/Datasets/Deep-Spectral-Segmentation/data/object-segmentation/ECSSD/features/0635_resized.pth\n",
      "dict_keys(['k', 'indices', 'file', 'id', 'model_name', 'patch_size', 'shape'])\n",
      "0635_resized\n",
      "Starting Training\n",
      "epoch: 00, loss: -0.91686\n",
      "epoch: 01, loss: -0.95036\n",
      "epoch: 02, loss: -0.95829\n",
      "epoch: 03, loss: -0.96291\n",
      "epoch: 04, loss: -0.96609\n",
      "epoch: 05, loss: -0.96843\n",
      "epoch: 06, loss: -0.97028\n",
      "epoch: 07, loss: -0.97179\n",
      "epoch: 08, loss: -0.97301\n",
      "epoch: 09, loss: -0.97410\n",
      "torch.Size([1024, 64])\n"
     ]
    },
    {
     "name": "stderr",
     "output_type": "stream",
     "text": [
      " 63%|██████▎   | 634/999 [12:33:46<7:19:43, 72.28s/it]"
     ]
    },
    {
     "name": "stdout",
     "output_type": "stream",
     "text": [
      "eigenvalues shape torch.Size([5]) eigenvectors shape torch.Size([5, 1024])\n",
      "634 /home/phdcs2/Hard_Disk/Datasets/Deep-Spectral-Segmentation/data/object-segmentation/ECSSD/features/0636_resized.pth\n",
      "dict_keys(['k', 'indices', 'file', 'id', 'model_name', 'patch_size', 'shape'])\n",
      "0636_resized\n",
      "Starting Training\n",
      "epoch: 00, loss: -0.87430\n",
      "epoch: 01, loss: -0.92284\n",
      "epoch: 02, loss: -0.93524\n",
      "epoch: 03, loss: -0.94217\n",
      "epoch: 04, loss: -0.94713\n",
      "epoch: 05, loss: -0.95068\n",
      "epoch: 06, loss: -0.95338\n",
      "epoch: 07, loss: -0.95558\n",
      "epoch: 08, loss: -0.95762\n",
      "epoch: 09, loss: -0.95915\n",
      "torch.Size([1024, 64])\n"
     ]
    },
    {
     "name": "stderr",
     "output_type": "stream",
     "text": [
      " 64%|██████▎   | 635/999 [12:35:00<7:22:00, 72.86s/it]"
     ]
    },
    {
     "name": "stdout",
     "output_type": "stream",
     "text": [
      "eigenvalues shape torch.Size([5]) eigenvectors shape torch.Size([5, 1024])\n",
      "635 /home/phdcs2/Hard_Disk/Datasets/Deep-Spectral-Segmentation/data/object-segmentation/ECSSD/features/0637_resized.pth\n",
      "dict_keys(['k', 'indices', 'file', 'id', 'model_name', 'patch_size', 'shape'])\n",
      "0637_resized\n"
     ]
    },
    {
     "name": "stderr",
     "output_type": "stream",
     "text": [
      "/home/phdcs2/Hard_Disk/Projects/T2I/deep-spectral-segmentation/venv/lib/python3.8/site-packages/sklearn/decomposition/_pca.py:642: RuntimeWarning: invalid value encountered in divide\n",
      "  self.explained_variance_ratio_ = self.explained_variance_ / total_var\n"
     ]
    },
    {
     "name": "stdout",
     "output_type": "stream",
     "text": [
      "Starting Training\n",
      "epoch: 00, loss: -0.92937\n",
      "epoch: 01, loss: -0.95818\n",
      "epoch: 02, loss: -0.96480\n",
      "epoch: 03, loss: -0.96861\n",
      "epoch: 04, loss: -0.97119\n",
      "epoch: 05, loss: -0.97311\n",
      "epoch: 06, loss: -0.97464\n",
      "epoch: 07, loss: -0.97589\n",
      "epoch: 08, loss: -0.97690\n",
      "epoch: 09, loss: -0.97778\n",
      "torch.Size([1024, 64])\n"
     ]
    },
    {
     "name": "stderr",
     "output_type": "stream",
     "text": [
      " 64%|██████▎   | 636/999 [12:36:15<7:25:13, 73.59s/it]"
     ]
    },
    {
     "name": "stdout",
     "output_type": "stream",
     "text": [
      "eigenvalues shape torch.Size([5]) eigenvectors shape torch.Size([5, 1024])\n",
      "636 /home/phdcs2/Hard_Disk/Datasets/Deep-Spectral-Segmentation/data/object-segmentation/ECSSD/features/0638_resized.pth\n",
      "dict_keys(['k', 'indices', 'file', 'id', 'model_name', 'patch_size', 'shape'])\n",
      "0638_resized\n",
      "Starting Training\n",
      "epoch: 00, loss: -0.87538\n",
      "epoch: 01, loss: -0.92809\n",
      "epoch: 02, loss: -0.94088\n",
      "epoch: 03, loss: -0.94781\n",
      "epoch: 04, loss: -0.95261\n",
      "epoch: 05, loss: -0.95596\n"
     ]
    }
   ],
   "source": [
    "pca_comp=64\n",
    "pca = PCA(n_components=pca_comp)\n",
    "utils.make_output_dir(output_dir)\n",
    "inputs = list(enumerate(sorted(Path(features_dir).iterdir())))\n",
    "for inp in tqdm(inputs):\n",
    "    index, features_file = inp\n",
    "    print(index, features_file)\n",
    "     # Load\n",
    "    data_dict = torch.load(features_file, map_location='cpu')\n",
    "    print(data_dict.keys())   #['k', 'indices', 'file', 'id', 'model_name', 'patch_size', 'shape']\n",
    "    # print(\"shape=\", data_dict['shape'], \"k shape\", data_dict['k'].shape, \"patch_size=\", data_dict['patch_size'])\n",
    "    image_id = data_dict['file'][:-4]\n",
    "    print(image_id)\n",
    "    # Load\n",
    "    output_file = str(Path(output_dir) / f'{image_id}.pth')\n",
    "    if Path(output_file).is_file():\n",
    "        print(f'Skipping existing file {str(output_file)}')\n",
    "        # break\n",
    "        # return  # skip because already generated\n",
    "\n",
    "    # Load affinity matrix\n",
    "    feats = data_dict[which_features].squeeze().cuda()\n",
    "    # print(\"Without normalizing, Features Shape is\",feats.shape)\n",
    "    if normalize:\n",
    "        feats = F.normalize(feats, p=2, dim=-1)\n",
    "    # print(\"After normalization, Features Shape\",feats.shape)\n",
    "    # print(\"which_matrix=\", which_matrix)\n",
    "    # Eigenvectors of affinity matrix\n",
    "    if which_matrix == 'affinity_torch':\n",
    "        W = feats @ feats.T\n",
    "        # W_feat=contrastive_affinity(feats, feats.T)\n",
    "        # print(\"W shape=\", W.shape)\n",
    "        if threshold_at_zero:\n",
    "            W = (W * (W > 0))\n",
    "            # print(\"W shape=\", W.shape)\n",
    "        eigenvalues, eigenvectors = torch.eig(W, eigenvectors=True)\n",
    "        eigenvalues = eigenvalues.cpu()\n",
    "        eigenvectors = eigenvectors.cpu()\n",
    "        print(\"which matrix=\",which_matrix, \"eigenvalues shape\", eigenvalues.shape, \"eigenvectors shape\", eigenvectors.shape)\n",
    "\n",
    "\n",
    "    # Eigenvectors of affinity matrix with scipy\n",
    "    elif which_matrix == 'affinity_svd':\n",
    "        USV = torch.linalg.svd(feats, full_matrices=False)\n",
    "        eigenvectors = USV[0][:, :K].T.to('cpu', non_blocking=True)\n",
    "        eigenvalues = USV[1][:K].to('cpu', non_blocking=True)\n",
    "        print(\"which matrix=\",which_matrix,\"eigenvalues shape\", eigenvalues.shape, \"eigenvectors shape\", eigenvectors.shape)\n",
    "\n",
    "    # Eigenvectors of affinity matrix with scipy\n",
    "    elif which_matrix == 'affinity':\n",
    "        # print(\"Without normalizing, Features Shape is\",feats.shape)\n",
    "        W = (feats @ feats.T)\n",
    "        # W_feat=contrastive_affinity(feats, feats.T)\n",
    "        # print(\"W shape=\", W.shape)\n",
    "        if threshold_at_zero:\n",
    "            W = (W * (W > 0))\n",
    "        W = W.cpu().numpy()\n",
    "        # print(\"W shape=\", W.shape)\n",
    "        eigenvalues, eigenvectors = eigsh(W, which='LM', k=K)\n",
    "        eigenvectors = torch.flip(torch.from_numpy(eigenvectors), dims=(-1,)).T\n",
    "        print(\"which matrix=\",which_matrix, \"eigenvalues shape\", eigenvalues.shape, \"eigenvectors shape\", eigenvectors.shape)\n",
    "\n",
    "    # Eigenvectors of matting laplacian matrix\n",
    "    elif which_matrix in ['matting_laplacian', 'laplacian']:\n",
    "\n",
    "        # Get sizes\n",
    "        B, C, H, W, P, H_patch, W_patch, H_pad, W_pad = utils.get_image_sizes(data_dict)\n",
    "        if image_downsample_factor is None:\n",
    "            image_downsample_factor = P\n",
    "        H_pad_lr, W_pad_lr = H_pad // image_downsample_factor, W_pad // image_downsample_factor\n",
    "\n",
    "        # Upscale features to match the resolution\n",
    "        if (H_patch, W_patch) != (H_pad_lr, W_pad_lr):\n",
    "            feats = F.interpolate(\n",
    "                feats.T.reshape(1, -1, H_patch, W_patch),\n",
    "                size=(H_pad_lr, W_pad_lr), mode='bilinear', align_corners=False\n",
    "            ).reshape(-1, H_pad_lr * W_pad_lr).T\n",
    "\n",
    "        ### Feature affinities\n",
    "        # print(\"Without normalizing, Features Shape is\",feats.shape)\n",
    "\n",
    "        W_feat_ds = (feats @ feats.T)\n",
    "        # print(\"shape of w_feat_ds\", W_feat_ds.shape)\n",
    "        max_wfeatds=torch.max(W_feat_ds).item()\n",
    "        alpha=3\n",
    "        # print(\"Before Subtraction\")\n",
    "        count_positive = torch.count_nonzero(torch.greater_equal(W_feat_ds, 0.))\n",
    "        # print(\"positive values=\", count_positive)\n",
    "        W_feat_ds_sum = torch.sum(W_feat_ds)\n",
    "        # print(\"w_feat_ds_sum=\", W_feat_ds_sum)\n",
    "        W_feat_ds_mean = torch.mean(W_feat_ds)\n",
    "        # print(\"Mean of W_feat\", W_feat_ds_mean)\n",
    "        W_feat_ds_median = torch.median(W_feat_ds)\n",
    "        # print(\"Median of W_feat\", W_feat_ds_median)\n",
    "        W_feat_ds_std = torch.std(W_feat_ds)\n",
    "        # print(\"Standard Deviation of W_feat\", W_feat_ds_std)\n",
    "        W_feat_ds_max = torch.max(W_feat_ds)\n",
    "        # print(\"Maximum of W_feat\", W_feat_ds_max)\n",
    "        W_feat_ds_min = torch.min(W_feat_ds)\n",
    "        # print(\"Minimum of W_feat\", W_feat_ds_min)\n",
    "        # print(\"Factor value\", (max_wfeatds / alpha))\n",
    "\n",
    "        W_feat_ds = W_feat_ds - (max_wfeatds / alpha)\n",
    "\n",
    "        # print(\"After Subtraction\")\n",
    "        count_positive = torch.count_nonzero(torch.greater_equal(W_feat_ds, 0.))\n",
    "        # print(\"positive values=\", count_positive)\n",
    "        W_feat_ds_sum = torch.sum(W_feat_ds)\n",
    "        # print(\"w_feat_ds_sum=\", W_feat_ds_sum)\n",
    "        W_feat_ds_mean = torch.mean(W_feat_ds)\n",
    "        # print(\"Mean of W_feat\", W_feat_ds_mean)\n",
    "        W_feat_ds_median = torch.median(W_feat_ds)\n",
    "        # print(\"Median of W_feat\", W_feat_ds_median)\n",
    "        W_feat_ds_std = torch.std(W_feat_ds)\n",
    "        # print(\"Standard Deviation of W_feat\", W_feat_ds_std)\n",
    "        W_feat_ds_max = torch.max(W_feat_ds)\n",
    "        # print(\"Maximum of W_feat\", W_feat_ds_max)\n",
    "        W_feat_ds_min = torch.min(W_feat_ds)\n",
    "        # print(\"Minimum of W_feat\", W_feat_ds_min)\n",
    "        proj_layer=nn.Linear(pca_comp,pca_comp).cuda()\n",
    "        elu = nn.ELU()\n",
    "        proj_model = nn.Sequential(proj_layer, elu ).cuda()\n",
    "        pred_layer=nn.Linear(pca_comp,pca_comp).cuda()\n",
    "        x0=feats\n",
    "\n",
    "        x0_arr=x0.cpu()\n",
    "        scale = np.random.uniform(0.8, 1.2)  # Random scaling factor between 0.8 and 1.2\n",
    "        translation = np.random.uniform(-10, 10, size=2)  # Random translation vector between -10 and 10 in both directions\n",
    "        rotation = np.random.uniform(-15, 15)  # Random rotation angle between -15 and 15 degrees\n",
    "        shear = np.random.uniform(-0.2, 0.2, size=2)  # Random shear factor between -0.2 and 0.2 in both directions\n",
    "\n",
    "        # Define the affine matrix\n",
    "        affine_matrix = np.array([[scale * np.cos(rotation), -shear[0] * scale * np.sin(rotation), translation[0]],\n",
    "                                  [shear[1] * scale * np.sin(rotation), scale * np.cos(rotation), translation[1]],\n",
    "                                  [0, 0, 1]])\n",
    "        # print(x0_arr.shape)\n",
    "        x1_arr=affine_transform(x0_arr, affine_matrix)\n",
    "\n",
    "        z0_arr= pca.fit_transform(x0_arr)\n",
    "        z1_arr= pca.fit_transform(x1_arr)\n",
    "        # Define the affine transformation parameters\n",
    "\n",
    "        # z1_arr=affine_transform(z0_arr, affine_matrix)\n",
    "#         z1_arr=pca.fit_transform(z1_arr)\n",
    "        z0 = torch.from_numpy(z0_arr).float()\n",
    "        z1 = torch.from_numpy(z1_arr).float()\n",
    "\n",
    "        # feat_list.append(feats)\n",
    "        feat_dataset_z0 = Feature_Dataset(z0)\n",
    "        if feats.shape[0]%2==0:\n",
    "            features_dataloader_z0 = DataLoader(feat_dataset_z0, batch_size=batch_size, shuffle=True)\n",
    "        else:\n",
    "            features_dataloader_z0 = DataLoader(feat_dataset_z0, batch_size=batch_size, shuffle=True, drop_last=True)\n",
    "\n",
    "        feat_dataset_z1 = Feature_Dataset(z1)\n",
    "        if feats.shape[0]%2==0:\n",
    "            features_dataloader_z1 = DataLoader(feat_dataset_z1, batch_size=batch_size, shuffle=True)\n",
    "        else:\n",
    "            features_dataloader_z1 = DataLoader(feat_dataset_z1, batch_size=batch_size, shuffle=True, drop_last=True)\n",
    "        device = \"cuda\" if torch.cuda.is_available() else \"cpu\"\n",
    "    \n",
    "        criterion = NegativeCosineSimilarity()\n",
    "        proj_optimizer = torch.optim.SGD(proj_layer.parameters(), lr=0.06)\n",
    "        pred_optimizer = torch.optim.SGD(pred_layer.parameters(), lr=0.06)\n",
    "        print(\"Starting Training\")\n",
    "        for epoch in range(epochs):\n",
    "            total_loss = 0\n",
    "            for z0_new,z1_new in zip(features_dataloader_z0,features_dataloader_z1):\n",
    "                z0_new = z0_new.to(device)\n",
    "                z1_new = z1_new.to(device)\n",
    "                # z0_new=proj_layer(z0_new)\n",
    "                z0_new=proj_model(z0_new)\n",
    "                # z1_new=proj_layer(z1_new)\n",
    "                # z1_new=proj_layer(z1_new)\n",
    "                z1_new=proj_model(z1_new)\n",
    "    #             print(\"z0_new.shape\", z0_new.shape)\n",
    "    #             print(\"z1_new.shape\", z1_new.shape)\n",
    "                p0=pred_layer(z0_new)\n",
    "                p1=pred_layer(z1_new)\n",
    "    #             print(\"p0.shape\", p0.shape)\n",
    "    #             print(\"p1.shape\", p1.shape)\n",
    "\n",
    "                z0_new=z0_new.detach()\n",
    "                z1_new=z1_new.detach()\n",
    "                loss = 0.5 * (criterion(z0_new, p1) + criterion(z1_new, p0))\n",
    "                total_loss += loss.detach()\n",
    "                loss.backward()\n",
    "                proj_optimizer.step()\n",
    "                pred_optimizer.step()\n",
    "                proj_optimizer.zero_grad()\n",
    "                pred_optimizer.zero_grad()\n",
    "            avg_loss = total_loss / len(features_dataloader_z0)\n",
    "            print(f\"epoch: {epoch:>02}, loss: {avg_loss:.5f}\")\n",
    "        # z0_projected=proj_layer(z0.to(device))\n",
    "        projected_feature=pred_layer(z0.to(device))\n",
    "        print(projected_feature.shape)\n",
    "        W_feat_siam=torch.matmul(projected_feature, projected_feature.t())\n",
    "        # max_wfeatsiam=torch.max(W_feat_siam).item()\n",
    "        # alpha=3\n",
    "        # W_feat_siam = W_feat_siam - (max_wfeatsiam / alpha)\n",
    "        # W_feat_siam=torch.matmul(projected_feature[0], projected_feature[0].t())\n",
    "        W_feat=W_feat_ds + 0.1*W_feat_siam\n",
    "#         W_feat=normalize_affinity_matrix(W_feat_unnorm, axis=1)\n",
    "        # print(\"W_feat.shape=\", W_feat.shape)\n",
    "        # print(\"W_feat.shape=\", W_feat.shape)\n",
    "        # W_feat=contrastive_affinity(feats, feats.T)\n",
    "        if threshold_at_zero:\n",
    "            W_feat = (W_feat * (W_feat > 0))\n",
    "        W_feat = W_feat / W_feat.max()  # NOTE: If features are normalized, this naturally does nothing\n",
    "        # W_feat = W_feat.cpu().numpy()\n",
    "        W_feat = W_feat.detach().cpu().numpy()\n",
    "        # print(\"W_feat shape=\",W_feat.shape)\n",
    "\n",
    "        ### Color affinities\n",
    "        # If we are fusing with color affinites, then load the image and compute\n",
    "        if image_color_lambda > 0:\n",
    "\n",
    "            # Load image\n",
    "            image_file = str(Path(images_root) / f'{image_id}.jpg')\n",
    "            image_lr = Image.open(image_file).resize((W_pad_lr, H_pad_lr), Image.BILINEAR)\n",
    "            image_lr = np.array(image_lr) / 255.\n",
    "\n",
    "            # Color affinities (of type scipy.sparse.csr_matrix)\n",
    "            if which_color_matrix == 'knn':\n",
    "                W_lr = utils.knn_affinity(image_lr / 255)\n",
    "            elif which_color_matrix == 'rw':\n",
    "                W_lr = utils.rw_affinity(image_lr / 255)\n",
    "\n",
    "            # Convert to dense numpy array\n",
    "            W_color = np.array(W_lr.todense().astype(np.float32))\n",
    "            # print(\"W_color shape\", W_color.shape)\n",
    "\n",
    "        else:\n",
    "\n",
    "            # No color affinity\n",
    "            W_color = 0\n",
    "\n",
    "        # Combine\n",
    "        W_comb = W_feat + W_color * image_color_lambda  # combination\n",
    "        D_comb = np.array(utils.get_diagonal(W_comb).todense())  # is dense or sparse faster? not sure, should check\n",
    "        # print(\"W_comb shape= \", W_comb.shape, \"D_comb shape\",  D_comb.shape)\n",
    "        if lapnorm:\n",
    "            try:\n",
    "                eigenvalues, eigenvectors = eigsh(D_comb - W_comb, k=K, sigma=0, which='LM', M=D_comb)\n",
    "            except:\n",
    "                eigenvalues, eigenvectors = eigsh(D_comb - W_comb, k=K, which='SM', M=D_comb)\n",
    "        else:\n",
    "            try:\n",
    "                eigenvalues, eigenvectors = eigsh(D_comb - W_comb, k=K, sigma=0, which='LM')\n",
    "            except:\n",
    "                eigenvalues, eigenvectors = eigsh(D_comb - W_comb, k=K, which='SM')\n",
    "        eigenvalues, eigenvectors = torch.from_numpy(eigenvalues), torch.from_numpy(eigenvectors.T).float()\n",
    "    print(\"eigenvalues shape\", eigenvalues.shape, \"eigenvectors shape\", eigenvectors.shape)\n",
    "    # Sign ambiguity\n",
    "    for k in range(eigenvectors.shape[0]):\n",
    "        if 0.5 < torch.mean((eigenvectors[k] > 0).float()).item() < 1.0:  # reverse segment\n",
    "            eigenvectors[k] = 0 - eigenvectors[k]\n",
    "\n",
    "    # Save dict\n",
    "    output_dict = {'eigenvalues': eigenvalues, 'eigenvectors': eigenvectors}\n",
    "    torch.save(output_dict, output_file)"
   ]
  }
 ],
 "metadata": {
  "kernelspec": {
   "display_name": "Python 3 (ipykernel)",
   "language": "python",
   "name": "python3"
  },
  "language_info": {
   "codemirror_mode": {
    "name": "ipython",
    "version": 3
   },
   "file_extension": ".py",
   "mimetype": "text/x-python",
   "name": "python",
   "nbconvert_exporter": "python",
   "pygments_lexer": "ipython3",
   "version": "3.8.10"
  }
 },
 "nbformat": 4,
 "nbformat_minor": 1
}