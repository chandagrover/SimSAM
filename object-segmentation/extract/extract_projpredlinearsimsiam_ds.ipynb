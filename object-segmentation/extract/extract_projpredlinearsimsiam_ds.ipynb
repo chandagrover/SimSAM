{
 "cells": [
  {
   "cell_type": "code",
   "execution_count": 1,
   "metadata": {
    "pycharm": {
     "name": "#%%\n"
    }
   },
   "outputs": [],
   "source": [
    "# from functools import partial\n",
    "from pathlib import Path\n",
    "# from typing import Optional, Tuple\n",
    "# import cv2\n",
    "# import fire\n",
    "import numpy as np\n",
    "import torch\n",
    "import torch.nn.functional as F\n",
    "from accelerate import Accelerator\n",
    "from PIL import Image\n",
    "from scipy.sparse.linalg import eigsh\n",
    "# from sklearn.cluster import KMeans, MiniBatchKMeans\n",
    "# from sklearn.decomposition import PCA\n",
    "# from torchvision.utils import draw_bounding_boxes\n",
    "from tqdm import tqdm\n",
    "import extract_utils as utils\n",
    "from torch.utils.data import Dataset, DataLoader\n",
    "from lightly.loss import NegativeCosineSimilarity\n",
    "from lightly.models.modules import SimSiamPredictionHead, SimSiamProjectionHead\n",
    "from torch import nn\n",
    "import torchvision"
   ]
  },
  {
   "cell_type": "markdown",
   "metadata": {
    "pycharm": {
     "name": "#%% md\n"
    }
   },
   "source": [
    "## Extract Eigen Vectors"
   ]
  },
  {
   "cell_type": "code",
   "execution_count": 4,
   "metadata": {
    "pycharm": {
     "name": "#%%\n"
    }
   },
   "outputs": [],
   "source": [
    "images_root=\"/home/phdcs2/Hard_Disk/Datasets/Deep-Spectral-Segmentation/data/object-segmentation/ECSSD/images\"\n",
    "features_dir=\"/home/phdcs2/Hard_Disk/Datasets/Deep-Spectral-Segmentation/data/object-segmentation/ECSSD/features/dino_vits16\"\n",
    "output_dir=\"//home/phdcs2/Hard_Disk/Datasets/Deep-Spectral-Segmentation/data/object-segmentation/ECSSD/eigs_simsiam_ds_10\"\n",
    "which_matrix= 'laplacian'\n",
    "which_color_matrix= 'knn'\n",
    "which_features= 'k'\n",
    "normalize=True\n",
    "threshold_at_zero=True\n",
    "lapnorm= True\n",
    "K= 5\n",
    "image_downsample_factor = None\n",
    "image_color_lambda = 0.0\n",
    "multiprocessing = 0"
   ]
  },
  {
   "cell_type": "markdown",
   "metadata": {
    "pycharm": {
     "name": "#%% md\n"
    }
   },
   "source": [
    "## Incorporating SimSiam"
   ]
  },
  {
   "cell_type": "code",
   "execution_count": 5,
   "metadata": {
    "pycharm": {
     "name": "#%%\n"
    }
   },
   "outputs": [],
   "source": [
    "# Define a custom dataset class\n",
    "class Feature_Dataset(Dataset):\n",
    "    def __init__(self, features):\n",
    "        self.features = features\n",
    "\n",
    "    def __getitem__(self, index):\n",
    "        return self.features[index]\n",
    "\n",
    "    def __len__(self):\n",
    "        return len(self.features)"
   ]
  },
  {
   "cell_type": "code",
   "execution_count": 6,
   "metadata": {
    "pycharm": {
     "name": "#%%\n"
    }
   },
   "outputs": [],
   "source": [
    "class SimSiam(nn.Module):\n",
    "    def __init__(self):\n",
    "        super().__init__()\n",
    "        self.projection_head = SimSiamProjectionHead(feats.shape[1], 128,feats.shape[1])\n",
    "        self.prediction_head = SimSiamPredictionHead(feats.shape[1], 128, feats.shape[1])\n",
    "\n",
    "    def forward(self, x):\n",
    "        z = self.projection_head(x)\n",
    "        p = self.prediction_head(z)\n",
    "        z = z.detach()\n",
    "        return z, p"
   ]
  },
  {
   "cell_type": "code",
   "execution_count": 7,
   "metadata": {
    "pycharm": {
     "name": "#%%\n"
    }
   },
   "outputs": [
    {
     "name": "stderr",
     "output_type": "stream",
     "text": [
      "  0%|          | 0/1000 [00:00<?, ?it/s]"
     ]
    },
    {
     "name": "stdout",
     "output_type": "stream",
     "text": [
      "0 /home/phdcs2/Hard_Disk/Datasets/Deep-Spectral-Segmentation/data/object-segmentation/ECSSD/features/dino_vits16/0001.pth\n",
      "dict_keys(['k', 'indices', 'file', 'id', 'model_name', 'patch_size', 'shape'])\n",
      "0001\n",
      "Starting Training\n",
      "epoch: 00, loss: -0.56158\n",
      "epoch: 01, loss: -0.71583\n",
      "epoch: 02, loss: -0.72291\n",
      "epoch: 03, loss: -0.75742\n",
      "epoch: 04, loss: -0.79025\n",
      "epoch: 05, loss: -0.84030\n",
      "epoch: 06, loss: -0.84293\n",
      "epoch: 07, loss: -0.85788\n",
      "epoch: 08, loss: -0.85198\n",
      "epoch: 09, loss: -0.86124\n"
     ]
    },
    {
     "name": "stderr",
     "output_type": "stream",
     "text": [
      "  0%|          | 1/1000 [00:22<6:12:00, 22.34s/it]"
     ]
    },
    {
     "name": "stdout",
     "output_type": "stream",
     "text": [
      "eigenvalues shape torch.Size([5]) eigenvectors shape torch.Size([5, 400])\n",
      "1 /home/phdcs2/Hard_Disk/Datasets/Deep-Spectral-Segmentation/data/object-segmentation/ECSSD/features/dino_vits16/0002.pth\n",
      "dict_keys(['k', 'indices', 'file', 'id', 'model_name', 'patch_size', 'shape'])\n",
      "0002\n",
      "Starting Training\n",
      "epoch: 00, loss: -0.55222\n",
      "epoch: 01, loss: -0.82945\n",
      "epoch: 02, loss: -0.79930\n",
      "epoch: 03, loss: -0.81089\n",
      "epoch: 04, loss: -0.81684\n",
      "epoch: 05, loss: -0.82394\n",
      "epoch: 06, loss: -0.83268\n",
      "epoch: 07, loss: -0.82439\n",
      "epoch: 08, loss: -0.83788\n",
      "epoch: 09, loss: -0.82921\n"
     ]
    },
    {
     "name": "stderr",
     "output_type": "stream",
     "text": [
      "  0%|          | 2/1000 [00:43<6:04:24, 21.91s/it]"
     ]
    },
    {
     "name": "stdout",
     "output_type": "stream",
     "text": [
      "eigenvalues shape torch.Size([5]) eigenvectors shape torch.Size([5, 400])\n",
      "2 /home/phdcs2/Hard_Disk/Datasets/Deep-Spectral-Segmentation/data/object-segmentation/ECSSD/features/dino_vits16/0003.pth\n",
      "dict_keys(['k', 'indices', 'file', 'id', 'model_name', 'patch_size', 'shape'])\n",
      "0003\n",
      "Starting Training\n",
      "epoch: 00, loss: -0.34180\n",
      "epoch: 01, loss: -0.73774\n",
      "epoch: 02, loss: -0.77546\n",
      "epoch: 03, loss: -0.78078\n",
      "epoch: 04, loss: -0.77362\n",
      "epoch: 05, loss: -0.77406\n",
      "epoch: 06, loss: -0.75394\n",
      "epoch: 07, loss: -0.79068\n",
      "epoch: 08, loss: -0.79250\n",
      "epoch: 09, loss: -0.81488\n"
     ]
    },
    {
     "name": "stderr",
     "output_type": "stream",
     "text": [
      "  0%|          | 3/1000 [01:04<5:50:45, 21.11s/it]"
     ]
    },
    {
     "name": "stdout",
     "output_type": "stream",
     "text": [
      "eigenvalues shape torch.Size([5]) eigenvectors shape torch.Size([5, 400])\n",
      "3 /home/phdcs2/Hard_Disk/Datasets/Deep-Spectral-Segmentation/data/object-segmentation/ECSSD/features/dino_vits16/0004.pth\n",
      "dict_keys(['k', 'indices', 'file', 'id', 'model_name', 'patch_size', 'shape'])\n",
      "0004\n",
      "Starting Training\n",
      "epoch: 00, loss: -0.53566\n",
      "epoch: 01, loss: -0.79675\n",
      "epoch: 02, loss: -0.77409\n",
      "epoch: 03, loss: -0.66537\n",
      "epoch: 04, loss: -0.69330\n",
      "epoch: 05, loss: -0.74152\n",
      "epoch: 06, loss: -0.74281\n",
      "epoch: 07, loss: -0.77174\n",
      "epoch: 08, loss: -0.77038\n",
      "epoch: 09, loss: -0.76116\n"
     ]
    },
    {
     "name": "stderr",
     "output_type": "stream",
     "text": [
      "  0%|          | 4/1000 [01:26<5:56:08, 21.45s/it]"
     ]
    },
    {
     "name": "stdout",
     "output_type": "stream",
     "text": [
      "eigenvalues shape torch.Size([5]) eigenvectors shape torch.Size([5, 400])\n",
      "4 /home/phdcs2/Hard_Disk/Datasets/Deep-Spectral-Segmentation/data/object-segmentation/ECSSD/features/dino_vits16/0005.pth\n",
      "dict_keys(['k', 'indices', 'file', 'id', 'model_name', 'patch_size', 'shape'])\n",
      "0005\n",
      "Starting Training\n",
      "epoch: 00, loss: -0.37487\n",
      "epoch: 01, loss: -0.72389\n",
      "epoch: 02, loss: -0.79267\n",
      "epoch: 03, loss: -0.81278\n",
      "epoch: 04, loss: -0.86370\n",
      "epoch: 05, loss: -0.85203\n",
      "epoch: 06, loss: -0.84285\n",
      "epoch: 07, loss: -0.82675\n",
      "epoch: 08, loss: -0.81913\n",
      "epoch: 09, loss: -0.83182\n"
     ]
    },
    {
     "name": "stderr",
     "output_type": "stream",
     "text": [
      "  0%|          | 5/1000 [01:48<5:59:54, 21.70s/it]"
     ]
    },
    {
     "name": "stdout",
     "output_type": "stream",
     "text": [
      "eigenvalues shape torch.Size([5]) eigenvectors shape torch.Size([5, 400])\n",
      "5 /home/phdcs2/Hard_Disk/Datasets/Deep-Spectral-Segmentation/data/object-segmentation/ECSSD/features/dino_vits16/0006.pth\n",
      "dict_keys(['k', 'indices', 'file', 'id', 'model_name', 'patch_size', 'shape'])\n",
      "0006\n",
      "Starting Training\n",
      "epoch: 00, loss: -0.41732\n",
      "epoch: 01, loss: -0.72573\n",
      "epoch: 02, loss: -0.71614\n",
      "epoch: 03, loss: -0.70747\n",
      "epoch: 04, loss: -0.73347\n",
      "epoch: 05, loss: -0.76127\n",
      "epoch: 06, loss: -0.77784\n",
      "epoch: 07, loss: -0.80067\n",
      "epoch: 08, loss: -0.80508\n",
      "epoch: 09, loss: -0.81442\n"
     ]
    },
    {
     "name": "stderr",
     "output_type": "stream",
     "text": [
      "  1%|          | 6/1000 [02:07<5:43:19, 20.72s/it]"
     ]
    },
    {
     "name": "stdout",
     "output_type": "stream",
     "text": [
      "eigenvalues shape torch.Size([5]) eigenvectors shape torch.Size([5, 400])\n",
      "6 /home/phdcs2/Hard_Disk/Datasets/Deep-Spectral-Segmentation/data/object-segmentation/ECSSD/features/dino_vits16/0007.pth\n",
      "dict_keys(['k', 'indices', 'file', 'id', 'model_name', 'patch_size', 'shape'])\n",
      "0007\n",
      "Starting Training\n",
      "epoch: 00, loss: -0.53270\n",
      "epoch: 01, loss: -0.73576\n",
      "epoch: 02, loss: -0.79241\n",
      "epoch: 03, loss: -0.80183\n",
      "epoch: 04, loss: -0.84474\n",
      "epoch: 05, loss: -0.86450\n",
      "epoch: 06, loss: -0.87448\n",
      "epoch: 07, loss: -0.88313\n",
      "epoch: 08, loss: -0.87880\n",
      "epoch: 09, loss: -0.86150\n"
     ]
    },
    {
     "name": "stderr",
     "output_type": "stream",
     "text": [
      "  1%|          | 7/1000 [02:29<5:51:41, 21.25s/it]"
     ]
    },
    {
     "name": "stdout",
     "output_type": "stream",
     "text": [
      "eigenvalues shape torch.Size([5]) eigenvectors shape torch.Size([5, 400])\n",
      "7 /home/phdcs2/Hard_Disk/Datasets/Deep-Spectral-Segmentation/data/object-segmentation/ECSSD/features/dino_vits16/0008.pth\n",
      "dict_keys(['k', 'indices', 'file', 'id', 'model_name', 'patch_size', 'shape'])\n",
      "0008\n",
      "Starting Training\n",
      "epoch: 00, loss: -0.33748\n",
      "epoch: 01, loss: -0.70340\n",
      "epoch: 02, loss: -0.74394\n",
      "epoch: 03, loss: -0.78395\n",
      "epoch: 04, loss: -0.75874\n",
      "epoch: 05, loss: -0.78225\n",
      "epoch: 06, loss: -0.72104\n",
      "epoch: 07, loss: -0.69645\n",
      "epoch: 08, loss: -0.73562\n",
      "epoch: 09, loss: -0.80002\n"
     ]
    },
    {
     "name": "stderr",
     "output_type": "stream",
     "text": [
      "  1%|          | 8/1000 [02:52<6:03:27, 21.98s/it]"
     ]
    },
    {
     "name": "stdout",
     "output_type": "stream",
     "text": [
      "eigenvalues shape torch.Size([5]) eigenvectors shape torch.Size([5, 400])\n",
      "8 /home/phdcs2/Hard_Disk/Datasets/Deep-Spectral-Segmentation/data/object-segmentation/ECSSD/features/dino_vits16/0009.pth\n",
      "dict_keys(['k', 'indices', 'file', 'id', 'model_name', 'patch_size', 'shape'])\n",
      "0009\n",
      "Starting Training\n",
      "epoch: 00, loss: -0.37483\n",
      "epoch: 01, loss: -0.71401\n",
      "epoch: 02, loss: -0.68745\n",
      "epoch: 03, loss: -0.71036\n",
      "epoch: 04, loss: -0.66119\n",
      "epoch: 05, loss: -0.73010\n",
      "epoch: 06, loss: -0.76980\n",
      "epoch: 07, loss: -0.77484\n",
      "epoch: 08, loss: -0.80704\n",
      "epoch: 09, loss: -0.81338\n"
     ]
    },
    {
     "name": "stderr",
     "output_type": "stream",
     "text": [
      "  1%|          | 9/1000 [03:13<5:54:54, 21.49s/it]"
     ]
    },
    {
     "name": "stdout",
     "output_type": "stream",
     "text": [
      "eigenvalues shape torch.Size([5]) eigenvectors shape torch.Size([5, 400])\n",
      "9 /home/phdcs2/Hard_Disk/Datasets/Deep-Spectral-Segmentation/data/object-segmentation/ECSSD/features/dino_vits16/0010.pth\n",
      "dict_keys(['k', 'indices', 'file', 'id', 'model_name', 'patch_size', 'shape'])\n",
      "0010\n",
      "Starting Training\n",
      "epoch: 00, loss: -0.38832\n",
      "epoch: 01, loss: -0.71843\n",
      "epoch: 02, loss: -0.74680\n",
      "epoch: 03, loss: -0.78594\n",
      "epoch: 04, loss: -0.68208\n",
      "epoch: 05, loss: -0.65396\n",
      "epoch: 06, loss: -0.71283\n",
      "epoch: 07, loss: -0.73272\n",
      "epoch: 08, loss: -0.75570\n",
      "epoch: 09, loss: -0.78286\n"
     ]
    },
    {
     "name": "stderr",
     "output_type": "stream",
     "text": [
      "  1%|          | 10/1000 [03:39<6:17:37, 22.89s/it]"
     ]
    },
    {
     "name": "stdout",
     "output_type": "stream",
     "text": [
      "eigenvalues shape torch.Size([5]) eigenvectors shape torch.Size([5, 400])\n",
      "10 /home/phdcs2/Hard_Disk/Datasets/Deep-Spectral-Segmentation/data/object-segmentation/ECSSD/features/dino_vits16/0011.pth\n",
      "dict_keys(['k', 'indices', 'file', 'id', 'model_name', 'patch_size', 'shape'])\n",
      "0011\n",
      "Starting Training\n",
      "epoch: 00, loss: -0.46379\n",
      "epoch: 01, loss: -0.69099\n",
      "epoch: 02, loss: -0.70745\n",
      "epoch: 03, loss: -0.74830\n",
      "epoch: 04, loss: -0.78360\n",
      "epoch: 05, loss: -0.75152\n",
      "epoch: 06, loss: -0.79788\n",
      "epoch: 07, loss: -0.78540\n",
      "epoch: 08, loss: -0.78867\n",
      "epoch: 09, loss: -0.78913\n"
     ]
    },
    {
     "name": "stderr",
     "output_type": "stream",
     "text": [
      "  1%|          | 11/1000 [04:01<6:14:16, 22.71s/it]"
     ]
    },
    {
     "name": "stdout",
     "output_type": "stream",
     "text": [
      "eigenvalues shape torch.Size([5]) eigenvectors shape torch.Size([5, 400])\n",
      "11 /home/phdcs2/Hard_Disk/Datasets/Deep-Spectral-Segmentation/data/object-segmentation/ECSSD/features/dino_vits16/0012.pth\n",
      "dict_keys(['k', 'indices', 'file', 'id', 'model_name', 'patch_size', 'shape'])\n",
      "0012\n",
      "Starting Training\n",
      "epoch: 00, loss: -0.38001\n",
      "epoch: 01, loss: -0.71456\n",
      "epoch: 02, loss: -0.74955\n",
      "epoch: 03, loss: -0.80679\n",
      "epoch: 04, loss: -0.81855\n",
      "epoch: 05, loss: -0.79755\n",
      "epoch: 06, loss: -0.81368\n",
      "epoch: 07, loss: -0.80258\n",
      "epoch: 08, loss: -0.81009\n",
      "epoch: 09, loss: -0.81297\n"
     ]
    },
    {
     "name": "stderr",
     "output_type": "stream",
     "text": [
      "  1%|          | 12/1000 [04:23<6:08:45, 22.39s/it]"
     ]
    },
    {
     "name": "stdout",
     "output_type": "stream",
     "text": [
      "eigenvalues shape torch.Size([5]) eigenvectors shape torch.Size([5, 400])\n",
      "12 /home/phdcs2/Hard_Disk/Datasets/Deep-Spectral-Segmentation/data/object-segmentation/ECSSD/features/dino_vits16/0013.pth\n",
      "dict_keys(['k', 'indices', 'file', 'id', 'model_name', 'patch_size', 'shape'])\n",
      "0013\n",
      "Starting Training\n",
      "epoch: 00, loss: -0.40625\n",
      "epoch: 01, loss: -0.60325\n",
      "epoch: 02, loss: -0.65674\n",
      "epoch: 03, loss: -0.74163\n",
      "epoch: 04, loss: -0.79354\n",
      "epoch: 05, loss: -0.79945\n",
      "epoch: 06, loss: -0.80895\n",
      "epoch: 07, loss: -0.81710\n",
      "epoch: 08, loss: -0.83861\n",
      "epoch: 09, loss: -0.84461\n"
     ]
    },
    {
     "name": "stderr",
     "output_type": "stream",
     "text": [
      "  1%|▏         | 13/1000 [04:46<6:13:53, 22.73s/it]"
     ]
    },
    {
     "name": "stdout",
     "output_type": "stream",
     "text": [
      "eigenvalues shape torch.Size([5]) eigenvectors shape torch.Size([5, 400])\n",
      "13 /home/phdcs2/Hard_Disk/Datasets/Deep-Spectral-Segmentation/data/object-segmentation/ECSSD/features/dino_vits16/0014.pth\n",
      "dict_keys(['k', 'indices', 'file', 'id', 'model_name', 'patch_size', 'shape'])\n",
      "0014\n",
      "Starting Training\n",
      "epoch: 00, loss: -0.42561\n",
      "epoch: 01, loss: -0.74912\n",
      "epoch: 02, loss: -0.75142\n",
      "epoch: 03, loss: -0.74231\n",
      "epoch: 04, loss: -0.73841\n",
      "epoch: 05, loss: -0.73716\n",
      "epoch: 06, loss: -0.75314\n",
      "epoch: 07, loss: -0.79842\n",
      "epoch: 08, loss: -0.80366\n",
      "epoch: 09, loss: -0.81097\n"
     ]
    },
    {
     "name": "stderr",
     "output_type": "stream",
     "text": [
      "  1%|▏         | 14/1000 [05:10<6:18:25, 23.03s/it]"
     ]
    },
    {
     "name": "stdout",
     "output_type": "stream",
     "text": [
      "eigenvalues shape torch.Size([5]) eigenvectors shape torch.Size([5, 400])\n",
      "14 /home/phdcs2/Hard_Disk/Datasets/Deep-Spectral-Segmentation/data/object-segmentation/ECSSD/features/dino_vits16/0015.pth\n",
      "dict_keys(['k', 'indices', 'file', 'id', 'model_name', 'patch_size', 'shape'])\n",
      "0015\n",
      "Starting Training\n",
      "epoch: 00, loss: -0.30724\n",
      "epoch: 01, loss: -0.64792\n",
      "epoch: 02, loss: -0.76222\n",
      "epoch: 03, loss: -0.77708\n",
      "epoch: 04, loss: -0.74764\n",
      "epoch: 05, loss: -0.74244\n",
      "epoch: 06, loss: -0.76567\n",
      "epoch: 07, loss: -0.76298\n",
      "epoch: 08, loss: -0.76985\n",
      "epoch: 09, loss: -0.75152\n"
     ]
    },
    {
     "name": "stderr",
     "output_type": "stream",
     "text": [
      "  2%|▏         | 15/1000 [05:32<6:11:50, 22.65s/it]"
     ]
    },
    {
     "name": "stdout",
     "output_type": "stream",
     "text": [
      "eigenvalues shape torch.Size([5]) eigenvectors shape torch.Size([5, 400])\n",
      "15 /home/phdcs2/Hard_Disk/Datasets/Deep-Spectral-Segmentation/data/object-segmentation/ECSSD/features/dino_vits16/0016.pth\n",
      "dict_keys(['k', 'indices', 'file', 'id', 'model_name', 'patch_size', 'shape'])\n",
      "0016\n",
      "Starting Training\n",
      "epoch: 00, loss: -0.32001\n",
      "epoch: 01, loss: -0.69648\n",
      "epoch: 02, loss: -0.79190\n",
      "epoch: 03, loss: -0.79229\n",
      "epoch: 04, loss: -0.70468\n",
      "epoch: 05, loss: -0.73333\n",
      "epoch: 06, loss: -0.74210\n",
      "epoch: 07, loss: -0.75873\n",
      "epoch: 08, loss: -0.77329\n",
      "epoch: 09, loss: -0.78386\n"
     ]
    },
    {
     "name": "stderr",
     "output_type": "stream",
     "text": [
      "  2%|▏         | 16/1000 [05:55<6:15:10, 22.88s/it]"
     ]
    },
    {
     "name": "stdout",
     "output_type": "stream",
     "text": [
      "eigenvalues shape torch.Size([5]) eigenvectors shape torch.Size([5, 400])\n",
      "16 /home/phdcs2/Hard_Disk/Datasets/Deep-Spectral-Segmentation/data/object-segmentation/ECSSD/features/dino_vits16/0017.pth\n",
      "dict_keys(['k', 'indices', 'file', 'id', 'model_name', 'patch_size', 'shape'])\n",
      "0017\n",
      "Starting Training\n",
      "epoch: 00, loss: -0.67356\n",
      "epoch: 01, loss: -0.88626\n",
      "epoch: 02, loss: -0.87958\n",
      "epoch: 03, loss: -0.89309\n",
      "epoch: 04, loss: -0.87042\n",
      "epoch: 05, loss: -0.87429\n",
      "epoch: 06, loss: -0.86871\n",
      "epoch: 07, loss: -0.87850\n",
      "epoch: 08, loss: -0.89555\n",
      "epoch: 09, loss: -0.90882\n"
     ]
    },
    {
     "name": "stderr",
     "output_type": "stream",
     "text": [
      "  2%|▏         | 17/1000 [06:20<6:22:41, 23.36s/it]"
     ]
    },
    {
     "name": "stdout",
     "output_type": "stream",
     "text": [
      "eigenvalues shape torch.Size([5]) eigenvectors shape torch.Size([5, 400])\n",
      "17 /home/phdcs2/Hard_Disk/Datasets/Deep-Spectral-Segmentation/data/object-segmentation/ECSSD/features/dino_vits16/0018.pth\n",
      "dict_keys(['k', 'indices', 'file', 'id', 'model_name', 'patch_size', 'shape'])\n",
      "0018\n",
      "Starting Training\n",
      "epoch: 00, loss: -0.47514\n",
      "epoch: 01, loss: -0.79506\n",
      "epoch: 02, loss: -0.76671\n",
      "epoch: 03, loss: -0.77073\n",
      "epoch: 04, loss: -0.80213\n",
      "epoch: 05, loss: -0.84062\n",
      "epoch: 06, loss: -0.86112\n",
      "epoch: 07, loss: -0.85624\n",
      "epoch: 08, loss: -0.87391\n",
      "epoch: 09, loss: -0.87761\n"
     ]
    },
    {
     "name": "stderr",
     "output_type": "stream",
     "text": [
      "  2%|▏         | 18/1000 [06:46<6:36:05, 24.20s/it]"
     ]
    },
    {
     "name": "stdout",
     "output_type": "stream",
     "text": [
      "eigenvalues shape torch.Size([5]) eigenvectors shape torch.Size([5, 400])\n",
      "18 /home/phdcs2/Hard_Disk/Datasets/Deep-Spectral-Segmentation/data/object-segmentation/ECSSD/features/dino_vits16/0019.pth\n",
      "dict_keys(['k', 'indices', 'file', 'id', 'model_name', 'patch_size', 'shape'])\n",
      "0019\n",
      "Starting Training\n",
      "epoch: 00, loss: -0.46604\n",
      "epoch: 01, loss: -0.79724\n",
      "epoch: 02, loss: -0.80275\n",
      "epoch: 03, loss: -0.72200\n",
      "epoch: 04, loss: -0.68683\n",
      "epoch: 05, loss: -0.72739\n",
      "epoch: 06, loss: -0.76243\n",
      "epoch: 07, loss: -0.77496\n",
      "epoch: 08, loss: -0.77616\n",
      "epoch: 09, loss: -0.78493\n"
     ]
    },
    {
     "name": "stderr",
     "output_type": "stream",
     "text": [
      "  2%|▏         | 19/1000 [07:09<6:29:53, 23.85s/it]"
     ]
    },
    {
     "name": "stdout",
     "output_type": "stream",
     "text": [
      "eigenvalues shape torch.Size([5]) eigenvectors shape torch.Size([5, 400])\n",
      "19 /home/phdcs2/Hard_Disk/Datasets/Deep-Spectral-Segmentation/data/object-segmentation/ECSSD/features/dino_vits16/0020.pth\n",
      "dict_keys(['k', 'indices', 'file', 'id', 'model_name', 'patch_size', 'shape'])\n",
      "0020\n",
      "Starting Training\n",
      "epoch: 00, loss: -0.71408\n",
      "epoch: 01, loss: -0.95358\n",
      "epoch: 02, loss: -0.95206\n",
      "epoch: 03, loss: -0.93207\n",
      "epoch: 04, loss: -0.92974\n",
      "epoch: 05, loss: -0.93571\n",
      "epoch: 06, loss: -0.92205\n",
      "epoch: 07, loss: -0.92019\n",
      "epoch: 08, loss: -0.92030\n",
      "epoch: 09, loss: -0.93129\n"
     ]
    },
    {
     "name": "stderr",
     "output_type": "stream",
     "text": [
      "  2%|▏         | 20/1000 [07:31<6:23:17, 23.47s/it]"
     ]
    },
    {
     "name": "stdout",
     "output_type": "stream",
     "text": [
      "eigenvalues shape torch.Size([5]) eigenvectors shape torch.Size([5, 400])\n",
      "20 /home/phdcs2/Hard_Disk/Datasets/Deep-Spectral-Segmentation/data/object-segmentation/ECSSD/features/dino_vits16/0021.pth\n",
      "dict_keys(['k', 'indices', 'file', 'id', 'model_name', 'patch_size', 'shape'])\n",
      "0021\n",
      "Starting Training\n",
      "epoch: 00, loss: -0.52057\n",
      "epoch: 01, loss: -0.84375\n",
      "epoch: 02, loss: -0.86830\n",
      "epoch: 03, loss: -0.87323\n",
      "epoch: 04, loss: -0.87376\n",
      "epoch: 05, loss: -0.91363\n",
      "epoch: 06, loss: -0.91822\n",
      "epoch: 07, loss: -0.88601\n",
      "epoch: 08, loss: -0.89532\n",
      "epoch: 09, loss: -0.89430\n"
     ]
    },
    {
     "name": "stderr",
     "output_type": "stream",
     "text": [
      "  2%|▏         | 21/1000 [07:57<6:30:44, 23.95s/it]"
     ]
    },
    {
     "name": "stdout",
     "output_type": "stream",
     "text": [
      "eigenvalues shape torch.Size([5]) eigenvectors shape torch.Size([5, 400])\n",
      "21 /home/phdcs2/Hard_Disk/Datasets/Deep-Spectral-Segmentation/data/object-segmentation/ECSSD/features/dino_vits16/0022.pth\n",
      "dict_keys(['k', 'indices', 'file', 'id', 'model_name', 'patch_size', 'shape'])\n",
      "0022\n",
      "Starting Training\n",
      "epoch: 00, loss: -0.58412\n",
      "epoch: 01, loss: -0.87512\n",
      "epoch: 02, loss: -0.87584\n",
      "epoch: 03, loss: -0.88692\n",
      "epoch: 04, loss: -0.88213\n",
      "epoch: 05, loss: -0.89748\n",
      "epoch: 06, loss: -0.91607\n",
      "epoch: 07, loss: -0.91320\n",
      "epoch: 08, loss: -0.92008\n",
      "epoch: 09, loss: -0.90678\n"
     ]
    },
    {
     "name": "stderr",
     "output_type": "stream",
     "text": [
      "  2%|▏         | 22/1000 [08:19<6:21:38, 23.41s/it]"
     ]
    },
    {
     "name": "stdout",
     "output_type": "stream",
     "text": [
      "eigenvalues shape torch.Size([5]) eigenvectors shape torch.Size([5, 400])\n",
      "22 /home/phdcs2/Hard_Disk/Datasets/Deep-Spectral-Segmentation/data/object-segmentation/ECSSD/features/dino_vits16/0023.pth\n",
      "dict_keys(['k', 'indices', 'file', 'id', 'model_name', 'patch_size', 'shape'])\n",
      "0023\n",
      "Starting Training\n",
      "epoch: 00, loss: -0.43408\n",
      "epoch: 01, loss: -0.80857\n",
      "epoch: 02, loss: -0.80047\n",
      "epoch: 03, loss: -0.79669\n",
      "epoch: 04, loss: -0.78250\n",
      "epoch: 05, loss: -0.78996\n",
      "epoch: 06, loss: -0.76112\n",
      "epoch: 07, loss: -0.74107\n",
      "epoch: 08, loss: -0.72954\n",
      "epoch: 09, loss: -0.75350\n"
     ]
    },
    {
     "name": "stderr",
     "output_type": "stream",
     "text": [
      "  2%|▏         | 23/1000 [08:42<6:21:16, 23.42s/it]"
     ]
    },
    {
     "name": "stdout",
     "output_type": "stream",
     "text": [
      "eigenvalues shape torch.Size([5]) eigenvectors shape torch.Size([5, 400])\n",
      "23 /home/phdcs2/Hard_Disk/Datasets/Deep-Spectral-Segmentation/data/object-segmentation/ECSSD/features/dino_vits16/0024.pth\n",
      "dict_keys(['k', 'indices', 'file', 'id', 'model_name', 'patch_size', 'shape'])\n",
      "0024\n",
      "Starting Training\n",
      "epoch: 00, loss: -0.28883\n",
      "epoch: 01, loss: -0.65814\n",
      "epoch: 02, loss: -0.67786\n",
      "epoch: 03, loss: -0.69896\n",
      "epoch: 04, loss: -0.72694\n",
      "epoch: 05, loss: -0.76767\n",
      "epoch: 06, loss: -0.76717\n",
      "epoch: 07, loss: -0.81678\n",
      "epoch: 08, loss: -0.82297\n",
      "epoch: 09, loss: -0.79502\n"
     ]
    },
    {
     "name": "stderr",
     "output_type": "stream",
     "text": [
      "  2%|▏         | 24/1000 [09:04<6:13:14, 22.95s/it]"
     ]
    },
    {
     "name": "stdout",
     "output_type": "stream",
     "text": [
      "eigenvalues shape torch.Size([5]) eigenvectors shape torch.Size([5, 400])\n",
      "24 /home/phdcs2/Hard_Disk/Datasets/Deep-Spectral-Segmentation/data/object-segmentation/ECSSD/features/dino_vits16/0025.pth\n",
      "dict_keys(['k', 'indices', 'file', 'id', 'model_name', 'patch_size', 'shape'])\n",
      "0025\n",
      "Starting Training\n",
      "epoch: 00, loss: -0.49294\n",
      "epoch: 01, loss: -0.69244\n",
      "epoch: 02, loss: -0.73395\n",
      "epoch: 03, loss: -0.79320\n",
      "epoch: 04, loss: -0.81378\n",
      "epoch: 05, loss: -0.82699\n",
      "epoch: 06, loss: -0.85484\n",
      "epoch: 07, loss: -0.87766\n",
      "epoch: 08, loss: -0.88119\n",
      "epoch: 09, loss: -0.87879\n"
     ]
    },
    {
     "name": "stderr",
     "output_type": "stream",
     "text": [
      "  2%|▎         | 25/1000 [09:26<6:08:21, 22.67s/it]"
     ]
    },
    {
     "name": "stdout",
     "output_type": "stream",
     "text": [
      "eigenvalues shape torch.Size([5]) eigenvectors shape torch.Size([5, 400])\n",
      "25 /home/phdcs2/Hard_Disk/Datasets/Deep-Spectral-Segmentation/data/object-segmentation/ECSSD/features/dino_vits16/0026.pth\n",
      "dict_keys(['k', 'indices', 'file', 'id', 'model_name', 'patch_size', 'shape'])\n",
      "0026\n",
      "Starting Training\n",
      "epoch: 00, loss: -0.47407\n",
      "epoch: 01, loss: -0.71407\n",
      "epoch: 02, loss: -0.77965\n",
      "epoch: 03, loss: -0.82545\n",
      "epoch: 04, loss: -0.86709\n",
      "epoch: 05, loss: -0.88072\n",
      "epoch: 06, loss: -0.89482\n",
      "epoch: 07, loss: -0.88312\n",
      "epoch: 08, loss: -0.88673\n",
      "epoch: 09, loss: -0.86121\n"
     ]
    },
    {
     "name": "stderr",
     "output_type": "stream",
     "text": [
      "  3%|▎         | 26/1000 [09:54<6:31:44, 24.13s/it]"
     ]
    },
    {
     "name": "stdout",
     "output_type": "stream",
     "text": [
      "eigenvalues shape torch.Size([5]) eigenvectors shape torch.Size([5, 400])\n",
      "26 /home/phdcs2/Hard_Disk/Datasets/Deep-Spectral-Segmentation/data/object-segmentation/ECSSD/features/dino_vits16/0027.pth\n",
      "dict_keys(['k', 'indices', 'file', 'id', 'model_name', 'patch_size', 'shape'])\n",
      "0027\n",
      "Starting Training\n",
      "epoch: 00, loss: -0.55238\n",
      "epoch: 01, loss: -0.86195\n",
      "epoch: 02, loss: -0.87993\n",
      "epoch: 03, loss: -0.88734\n",
      "epoch: 04, loss: -0.87730\n",
      "epoch: 05, loss: -0.87133\n",
      "epoch: 06, loss: -0.87430\n",
      "epoch: 07, loss: -0.87952\n",
      "epoch: 08, loss: -0.86289\n",
      "epoch: 09, loss: -0.84934\n"
     ]
    },
    {
     "name": "stderr",
     "output_type": "stream",
     "text": [
      "  3%|▎         | 27/1000 [10:16<6:24:21, 23.70s/it]"
     ]
    },
    {
     "name": "stdout",
     "output_type": "stream",
     "text": [
      "eigenvalues shape torch.Size([5]) eigenvectors shape torch.Size([5, 400])\n",
      "27 /home/phdcs2/Hard_Disk/Datasets/Deep-Spectral-Segmentation/data/object-segmentation/ECSSD/features/dino_vits16/0028.pth\n",
      "dict_keys(['k', 'indices', 'file', 'id', 'model_name', 'patch_size', 'shape'])\n",
      "0028\n",
      "Starting Training\n",
      "epoch: 00, loss: -0.41661\n",
      "epoch: 01, loss: -0.65586\n",
      "epoch: 02, loss: -0.69626\n",
      "epoch: 03, loss: -0.74272\n",
      "epoch: 04, loss: -0.77170\n",
      "epoch: 05, loss: -0.76810\n",
      "epoch: 06, loss: -0.78167\n",
      "epoch: 07, loss: -0.78045\n",
      "epoch: 08, loss: -0.79405\n",
      "epoch: 09, loss: -0.83194\n"
     ]
    },
    {
     "name": "stderr",
     "output_type": "stream",
     "text": [
      "  3%|▎         | 28/1000 [10:37<6:07:21, 22.68s/it]"
     ]
    },
    {
     "name": "stdout",
     "output_type": "stream",
     "text": [
      "eigenvalues shape torch.Size([5]) eigenvectors shape torch.Size([5, 400])\n",
      "28 /home/phdcs2/Hard_Disk/Datasets/Deep-Spectral-Segmentation/data/object-segmentation/ECSSD/features/dino_vits16/0029.pth\n",
      "dict_keys(['k', 'indices', 'file', 'id', 'model_name', 'patch_size', 'shape'])\n",
      "0029\n",
      "Starting Training\n",
      "epoch: 00, loss: -0.42107\n",
      "epoch: 01, loss: -0.72019\n",
      "epoch: 02, loss: -0.76457\n",
      "epoch: 03, loss: -0.78941\n",
      "epoch: 04, loss: -0.81108\n",
      "epoch: 05, loss: -0.82892\n",
      "epoch: 06, loss: -0.83581\n",
      "epoch: 07, loss: -0.82901\n",
      "epoch: 08, loss: -0.82717\n",
      "epoch: 09, loss: -0.80877\n"
     ]
    },
    {
     "name": "stderr",
     "output_type": "stream",
     "text": [
      "  3%|▎         | 29/1000 [10:56<5:49:50, 21.62s/it]"
     ]
    },
    {
     "name": "stdout",
     "output_type": "stream",
     "text": [
      "eigenvalues shape torch.Size([5]) eigenvectors shape torch.Size([5, 400])\n",
      "29 /home/phdcs2/Hard_Disk/Datasets/Deep-Spectral-Segmentation/data/object-segmentation/ECSSD/features/dino_vits16/0030.pth\n",
      "dict_keys(['k', 'indices', 'file', 'id', 'model_name', 'patch_size', 'shape'])\n",
      "0030\n",
      "Starting Training\n",
      "epoch: 00, loss: -0.46596\n",
      "epoch: 01, loss: -0.47825\n",
      "epoch: 02, loss: -0.55025\n",
      "epoch: 03, loss: -0.66140\n",
      "epoch: 04, loss: -0.71517\n",
      "epoch: 05, loss: -0.72749\n",
      "epoch: 06, loss: -0.73393\n",
      "epoch: 07, loss: -0.75853\n",
      "epoch: 08, loss: -0.75202\n",
      "epoch: 09, loss: -0.76817\n"
     ]
    },
    {
     "name": "stderr",
     "output_type": "stream",
     "text": [
      "  3%|▎         | 30/1000 [11:17<5:47:58, 21.52s/it]"
     ]
    },
    {
     "name": "stdout",
     "output_type": "stream",
     "text": [
      "eigenvalues shape torch.Size([5]) eigenvectors shape torch.Size([5, 400])\n",
      "30 /home/phdcs2/Hard_Disk/Datasets/Deep-Spectral-Segmentation/data/object-segmentation/ECSSD/features/dino_vits16/0031.pth\n",
      "dict_keys(['k', 'indices', 'file', 'id', 'model_name', 'patch_size', 'shape'])\n",
      "0031\n",
      "Starting Training\n",
      "epoch: 00, loss: -0.61152\n",
      "epoch: 01, loss: -0.89507\n",
      "epoch: 02, loss: -0.91803\n",
      "epoch: 03, loss: -0.91395\n",
      "epoch: 04, loss: -0.91301\n",
      "epoch: 05, loss: -0.89914\n",
      "epoch: 06, loss: -0.89433\n",
      "epoch: 07, loss: -0.88931\n",
      "epoch: 08, loss: -0.89863\n",
      "epoch: 09, loss: -0.89735\n"
     ]
    },
    {
     "name": "stderr",
     "output_type": "stream",
     "text": [
      "  3%|▎         | 31/1000 [11:38<5:43:50, 21.29s/it]"
     ]
    },
    {
     "name": "stdout",
     "output_type": "stream",
     "text": [
      "eigenvalues shape torch.Size([5]) eigenvectors shape torch.Size([5, 400])\n",
      "31 /home/phdcs2/Hard_Disk/Datasets/Deep-Spectral-Segmentation/data/object-segmentation/ECSSD/features/dino_vits16/0032.pth\n",
      "dict_keys(['k', 'indices', 'file', 'id', 'model_name', 'patch_size', 'shape'])\n",
      "0032\n",
      "Starting Training\n",
      "epoch: 00, loss: -0.54257\n",
      "epoch: 01, loss: -0.84664\n",
      "epoch: 02, loss: -0.85449\n",
      "epoch: 03, loss: -0.85613\n",
      "epoch: 04, loss: -0.86582\n",
      "epoch: 05, loss: -0.86083\n",
      "epoch: 06, loss: -0.87318\n",
      "epoch: 07, loss: -0.88985\n",
      "epoch: 08, loss: -0.85464\n",
      "epoch: 09, loss: -0.88176\n"
     ]
    },
    {
     "name": "stderr",
     "output_type": "stream",
     "text": [
      "  3%|▎         | 32/1000 [12:00<5:46:21, 21.47s/it]"
     ]
    },
    {
     "name": "stdout",
     "output_type": "stream",
     "text": [
      "eigenvalues shape torch.Size([5]) eigenvectors shape torch.Size([5, 400])\n",
      "32 /home/phdcs2/Hard_Disk/Datasets/Deep-Spectral-Segmentation/data/object-segmentation/ECSSD/features/dino_vits16/0033.pth\n",
      "dict_keys(['k', 'indices', 'file', 'id', 'model_name', 'patch_size', 'shape'])\n",
      "0033\n",
      "Starting Training\n",
      "epoch: 00, loss: -0.37548\n",
      "epoch: 01, loss: -0.69214\n",
      "epoch: 02, loss: -0.70046\n",
      "epoch: 03, loss: -0.76803\n",
      "epoch: 04, loss: -0.81640\n",
      "epoch: 05, loss: -0.81614\n",
      "epoch: 06, loss: -0.80261\n",
      "epoch: 07, loss: -0.83580\n",
      "epoch: 08, loss: -0.83332\n",
      "epoch: 09, loss: -0.83642\n"
     ]
    },
    {
     "name": "stderr",
     "output_type": "stream",
     "text": [
      "  3%|▎         | 33/1000 [12:18<5:30:16, 20.49s/it]"
     ]
    },
    {
     "name": "stdout",
     "output_type": "stream",
     "text": [
      "eigenvalues shape torch.Size([5]) eigenvectors shape torch.Size([5, 400])\n",
      "33 /home/phdcs2/Hard_Disk/Datasets/Deep-Spectral-Segmentation/data/object-segmentation/ECSSD/features/dino_vits16/0034.pth\n",
      "dict_keys(['k', 'indices', 'file', 'id', 'model_name', 'patch_size', 'shape'])\n",
      "0034\n",
      "Starting Training\n",
      "epoch: 00, loss: -0.33893\n",
      "epoch: 01, loss: -0.66531\n",
      "epoch: 02, loss: -0.73382\n",
      "epoch: 03, loss: -0.75337\n",
      "epoch: 04, loss: -0.78642\n",
      "epoch: 05, loss: -0.79490\n",
      "epoch: 06, loss: -0.82238\n",
      "epoch: 07, loss: -0.83697\n",
      "epoch: 08, loss: -0.82889\n",
      "epoch: 09, loss: -0.82027\n"
     ]
    },
    {
     "name": "stderr",
     "output_type": "stream",
     "text": [
      "  3%|▎         | 34/1000 [12:38<5:29:55, 20.49s/it]"
     ]
    },
    {
     "name": "stdout",
     "output_type": "stream",
     "text": [
      "eigenvalues shape torch.Size([5]) eigenvectors shape torch.Size([5, 400])\n",
      "34 /home/phdcs2/Hard_Disk/Datasets/Deep-Spectral-Segmentation/data/object-segmentation/ECSSD/features/dino_vits16/0035.pth\n",
      "dict_keys(['k', 'indices', 'file', 'id', 'model_name', 'patch_size', 'shape'])\n",
      "0035\n",
      "Starting Training\n",
      "epoch: 00, loss: -0.40934\n",
      "epoch: 01, loss: -0.60460\n",
      "epoch: 02, loss: -0.62376\n",
      "epoch: 03, loss: -0.68742\n",
      "epoch: 04, loss: -0.72665\n",
      "epoch: 05, loss: -0.65842\n",
      "epoch: 06, loss: -0.70161\n",
      "epoch: 07, loss: -0.72685\n",
      "epoch: 08, loss: -0.71644\n",
      "epoch: 09, loss: -0.69953\n"
     ]
    },
    {
     "name": "stderr",
     "output_type": "stream",
     "text": [
      "  4%|▎         | 35/1000 [12:58<5:27:48, 20.38s/it]"
     ]
    },
    {
     "name": "stdout",
     "output_type": "stream",
     "text": [
      "eigenvalues shape torch.Size([5]) eigenvectors shape torch.Size([5, 400])\n",
      "35 /home/phdcs2/Hard_Disk/Datasets/Deep-Spectral-Segmentation/data/object-segmentation/ECSSD/features/dino_vits16/0036.pth\n",
      "dict_keys(['k', 'indices', 'file', 'id', 'model_name', 'patch_size', 'shape'])\n",
      "0036\n",
      "Starting Training\n",
      "epoch: 00, loss: -0.30829\n",
      "epoch: 01, loss: -0.63840\n",
      "epoch: 02, loss: -0.74451\n",
      "epoch: 03, loss: -0.75180\n",
      "epoch: 04, loss: -0.76487\n",
      "epoch: 05, loss: -0.77716\n",
      "epoch: 06, loss: -0.80029\n",
      "epoch: 07, loss: -0.78698\n",
      "epoch: 08, loss: -0.79314\n",
      "epoch: 09, loss: -0.80737\n"
     ]
    },
    {
     "name": "stderr",
     "output_type": "stream",
     "text": [
      "  4%|▎         | 36/1000 [13:24<5:50:43, 21.83s/it]"
     ]
    },
    {
     "name": "stdout",
     "output_type": "stream",
     "text": [
      "eigenvalues shape torch.Size([5]) eigenvectors shape torch.Size([5, 450])\n",
      "36 /home/phdcs2/Hard_Disk/Datasets/Deep-Spectral-Segmentation/data/object-segmentation/ECSSD/features/dino_vits16/0037.pth\n",
      "dict_keys(['k', 'indices', 'file', 'id', 'model_name', 'patch_size', 'shape'])\n",
      "0037\n",
      "Starting Training\n",
      "epoch: 00, loss: -0.30907\n",
      "epoch: 01, loss: -0.66145\n",
      "epoch: 02, loss: -0.71604\n",
      "epoch: 03, loss: -0.76121\n",
      "epoch: 04, loss: -0.77503\n",
      "epoch: 05, loss: -0.78404\n",
      "epoch: 06, loss: -0.80711\n",
      "epoch: 07, loss: -0.81904\n",
      "epoch: 08, loss: -0.82504\n",
      "epoch: 09, loss: -0.80942\n"
     ]
    },
    {
     "name": "stderr",
     "output_type": "stream",
     "text": [
      "  4%|▎         | 37/1000 [13:49<6:04:55, 22.74s/it]"
     ]
    },
    {
     "name": "stdout",
     "output_type": "stream",
     "text": [
      "eigenvalues shape torch.Size([5]) eigenvectors shape torch.Size([5, 450])\n",
      "37 /home/phdcs2/Hard_Disk/Datasets/Deep-Spectral-Segmentation/data/object-segmentation/ECSSD/features/dino_vits16/0038.pth\n",
      "dict_keys(['k', 'indices', 'file', 'id', 'model_name', 'patch_size', 'shape'])\n",
      "0038\n",
      "Starting Training\n",
      "epoch: 00, loss: -0.42257\n",
      "epoch: 01, loss: -0.68311\n",
      "epoch: 02, loss: -0.68461\n",
      "epoch: 03, loss: -0.77014\n",
      "epoch: 04, loss: -0.76526\n",
      "epoch: 05, loss: -0.80292\n",
      "epoch: 06, loss: -0.77328\n",
      "epoch: 07, loss: -0.79629\n",
      "epoch: 08, loss: -0.81034\n",
      "epoch: 09, loss: -0.81964\n"
     ]
    },
    {
     "name": "stderr",
     "output_type": "stream",
     "text": [
      "  4%|▍         | 38/1000 [14:12<6:09:53, 23.07s/it]"
     ]
    },
    {
     "name": "stdout",
     "output_type": "stream",
     "text": [
      "eigenvalues shape torch.Size([5]) eigenvectors shape torch.Size([5, 400])\n",
      "38 /home/phdcs2/Hard_Disk/Datasets/Deep-Spectral-Segmentation/data/object-segmentation/ECSSD/features/dino_vits16/0039.pth\n",
      "dict_keys(['k', 'indices', 'file', 'id', 'model_name', 'patch_size', 'shape'])\n",
      "0039\n",
      "Starting Training\n",
      "epoch: 00, loss: -0.52304\n",
      "epoch: 01, loss: -0.73672\n",
      "epoch: 02, loss: -0.75605\n",
      "epoch: 03, loss: -0.78634\n",
      "epoch: 04, loss: -0.75714\n",
      "epoch: 05, loss: -0.77040\n",
      "epoch: 06, loss: -0.76628\n",
      "epoch: 07, loss: -0.76906\n",
      "epoch: 08, loss: -0.76578\n",
      "epoch: 09, loss: -0.75965\n"
     ]
    },
    {
     "name": "stderr",
     "output_type": "stream",
     "text": [
      "  4%|▍         | 39/1000 [14:35<6:08:51, 23.03s/it]"
     ]
    },
    {
     "name": "stdout",
     "output_type": "stream",
     "text": [
      "eigenvalues shape torch.Size([5]) eigenvectors shape torch.Size([5, 400])\n",
      "39 /home/phdcs2/Hard_Disk/Datasets/Deep-Spectral-Segmentation/data/object-segmentation/ECSSD/features/dino_vits16/0040.pth\n",
      "dict_keys(['k', 'indices', 'file', 'id', 'model_name', 'patch_size', 'shape'])\n",
      "0040\n",
      "Starting Training\n",
      "epoch: 00, loss: -0.74073\n",
      "epoch: 01, loss: -0.89719\n",
      "epoch: 02, loss: -0.93536\n",
      "epoch: 03, loss: -0.92754\n",
      "epoch: 04, loss: -0.91785\n",
      "epoch: 05, loss: -0.91498\n",
      "epoch: 06, loss: -0.89956\n",
      "epoch: 07, loss: -0.87847\n",
      "epoch: 08, loss: -0.83731\n",
      "epoch: 09, loss: -0.83165\n"
     ]
    },
    {
     "name": "stderr",
     "output_type": "stream",
     "text": [
      "  4%|▍         | 40/1000 [14:54<5:50:01, 21.88s/it]"
     ]
    },
    {
     "name": "stdout",
     "output_type": "stream",
     "text": [
      "eigenvalues shape torch.Size([5]) eigenvectors shape torch.Size([5, 400])\n",
      "40 /home/phdcs2/Hard_Disk/Datasets/Deep-Spectral-Segmentation/data/object-segmentation/ECSSD/features/dino_vits16/0041.pth\n",
      "dict_keys(['k', 'indices', 'file', 'id', 'model_name', 'patch_size', 'shape'])\n",
      "0041\n",
      "Starting Training\n",
      "epoch: 00, loss: -0.37404\n",
      "epoch: 01, loss: -0.75228\n",
      "epoch: 02, loss: -0.83054\n",
      "epoch: 03, loss: -0.84805\n",
      "epoch: 04, loss: -0.86905\n",
      "epoch: 05, loss: -0.87630\n",
      "epoch: 06, loss: -0.88268\n",
      "epoch: 07, loss: -0.88133\n",
      "epoch: 08, loss: -0.89339\n",
      "epoch: 09, loss: -0.88524\n"
     ]
    },
    {
     "name": "stderr",
     "output_type": "stream",
     "text": [
      "  4%|▍         | 41/1000 [15:15<5:41:33, 21.37s/it]"
     ]
    },
    {
     "name": "stdout",
     "output_type": "stream",
     "text": [
      "eigenvalues shape torch.Size([5]) eigenvectors shape torch.Size([5, 450])\n",
      "41 /home/phdcs2/Hard_Disk/Datasets/Deep-Spectral-Segmentation/data/object-segmentation/ECSSD/features/dino_vits16/0042.pth\n",
      "dict_keys(['k', 'indices', 'file', 'id', 'model_name', 'patch_size', 'shape'])\n",
      "0042\n",
      "Starting Training\n",
      "epoch: 00, loss: -0.34038\n",
      "epoch: 01, loss: -0.71900\n",
      "epoch: 02, loss: -0.82392\n",
      "epoch: 03, loss: -0.89230\n",
      "epoch: 04, loss: -0.88911\n",
      "epoch: 05, loss: -0.90305\n",
      "epoch: 06, loss: -0.90815\n",
      "epoch: 07, loss: -0.90815\n",
      "epoch: 08, loss: -0.91228\n",
      "epoch: 09, loss: -0.91285\n"
     ]
    },
    {
     "name": "stderr",
     "output_type": "stream",
     "text": [
      "  4%|▍         | 42/1000 [15:34<5:33:40, 20.90s/it]"
     ]
    },
    {
     "name": "stdout",
     "output_type": "stream",
     "text": [
      "eigenvalues shape torch.Size([5]) eigenvectors shape torch.Size([5, 400])\n",
      "42 /home/phdcs2/Hard_Disk/Datasets/Deep-Spectral-Segmentation/data/object-segmentation/ECSSD/features/dino_vits16/0043.pth\n",
      "dict_keys(['k', 'indices', 'file', 'id', 'model_name', 'patch_size', 'shape'])\n",
      "0043\n",
      "Starting Training\n",
      "epoch: 00, loss: -0.54159\n",
      "epoch: 01, loss: -0.59498\n",
      "epoch: 02, loss: -0.64817\n",
      "epoch: 03, loss: -0.72687\n",
      "epoch: 04, loss: -0.77485\n",
      "epoch: 05, loss: -0.80665\n",
      "epoch: 06, loss: -0.80333\n",
      "epoch: 07, loss: -0.81144\n",
      "epoch: 08, loss: -0.79115\n",
      "epoch: 09, loss: -0.79857\n"
     ]
    },
    {
     "name": "stderr",
     "output_type": "stream",
     "text": [
      "  4%|▍         | 43/1000 [15:57<5:38:48, 21.24s/it]"
     ]
    },
    {
     "name": "stdout",
     "output_type": "stream",
     "text": [
      "eigenvalues shape torch.Size([5]) eigenvectors shape torch.Size([5, 450])\n",
      "43 /home/phdcs2/Hard_Disk/Datasets/Deep-Spectral-Segmentation/data/object-segmentation/ECSSD/features/dino_vits16/0044.pth\n",
      "dict_keys(['k', 'indices', 'file', 'id', 'model_name', 'patch_size', 'shape'])\n",
      "0044\n",
      "Starting Training\n",
      "epoch: 00, loss: -0.46731\n",
      "epoch: 01, loss: -0.65585\n",
      "epoch: 02, loss: -0.70241\n",
      "epoch: 03, loss: -0.69833\n",
      "epoch: 04, loss: -0.71708\n",
      "epoch: 05, loss: -0.75959\n",
      "epoch: 06, loss: -0.76359\n",
      "epoch: 07, loss: -0.79891\n",
      "epoch: 08, loss: -0.80327\n",
      "epoch: 09, loss: -0.80237\n"
     ]
    },
    {
     "name": "stderr",
     "output_type": "stream",
     "text": [
      "  4%|▍         | 44/1000 [16:23<6:04:13, 22.86s/it]"
     ]
    },
    {
     "name": "stdout",
     "output_type": "stream",
     "text": [
      "eigenvalues shape torch.Size([5]) eigenvectors shape torch.Size([5, 525])\n",
      "44 /home/phdcs2/Hard_Disk/Datasets/Deep-Spectral-Segmentation/data/object-segmentation/ECSSD/features/dino_vits16/0045.pth\n",
      "dict_keys(['k', 'indices', 'file', 'id', 'model_name', 'patch_size', 'shape'])\n",
      "0045\n",
      "Starting Training\n",
      "epoch: 00, loss: -0.51303\n",
      "epoch: 01, loss: -0.75121\n",
      "epoch: 02, loss: -0.76639\n",
      "epoch: 03, loss: -0.82710\n",
      "epoch: 04, loss: -0.84383\n",
      "epoch: 05, loss: -0.85343\n",
      "epoch: 06, loss: -0.85422\n",
      "epoch: 07, loss: -0.83843\n",
      "epoch: 08, loss: -0.82676\n",
      "epoch: 09, loss: -0.84505\n"
     ]
    },
    {
     "name": "stderr",
     "output_type": "stream",
     "text": [
      "  4%|▍         | 45/1000 [16:46<6:05:45, 22.98s/it]"
     ]
    },
    {
     "name": "stdout",
     "output_type": "stream",
     "text": [
      "eigenvalues shape torch.Size([5]) eigenvectors shape torch.Size([5, 450])\n",
      "45 /home/phdcs2/Hard_Disk/Datasets/Deep-Spectral-Segmentation/data/object-segmentation/ECSSD/features/dino_vits16/0046.pth\n",
      "dict_keys(['k', 'indices', 'file', 'id', 'model_name', 'patch_size', 'shape'])\n",
      "0046\n",
      "Starting Training\n",
      "epoch: 00, loss: -0.47327\n",
      "epoch: 01, loss: -0.68823\n",
      "epoch: 02, loss: -0.78076\n",
      "epoch: 03, loss: -0.79782\n",
      "epoch: 04, loss: -0.79544\n",
      "epoch: 05, loss: -0.81755\n",
      "epoch: 06, loss: -0.82298\n",
      "epoch: 07, loss: -0.83417\n",
      "epoch: 08, loss: -0.84819\n",
      "epoch: 09, loss: -0.85092\n"
     ]
    },
    {
     "name": "stderr",
     "output_type": "stream",
     "text": [
      "  5%|▍         | 46/1000 [17:07<5:55:20, 22.35s/it]"
     ]
    },
    {
     "name": "stdout",
     "output_type": "stream",
     "text": [
      "eigenvalues shape torch.Size([5]) eigenvectors shape torch.Size([5, 450])\n",
      "46 /home/phdcs2/Hard_Disk/Datasets/Deep-Spectral-Segmentation/data/object-segmentation/ECSSD/features/dino_vits16/0047.pth\n",
      "dict_keys(['k', 'indices', 'file', 'id', 'model_name', 'patch_size', 'shape'])\n",
      "0047\n",
      "Starting Training\n",
      "epoch: 00, loss: -0.54343\n",
      "epoch: 01, loss: -0.85959\n",
      "epoch: 02, loss: -0.85653\n",
      "epoch: 03, loss: -0.84462\n",
      "epoch: 04, loss: -0.79997\n",
      "epoch: 05, loss: -0.81230\n",
      "epoch: 06, loss: -0.79946\n",
      "epoch: 07, loss: -0.80863\n",
      "epoch: 08, loss: -0.83215\n",
      "epoch: 09, loss: -0.84316\n"
     ]
    },
    {
     "name": "stderr",
     "output_type": "stream",
     "text": [
      "/home/phdcs2/Hard_Disk/Projects/T2I/deep-spectral-segmentation/venv/lib/python3.8/site-packages/scipy/sparse/linalg/_eigen/arpack/arpack.py:935: LinAlgWarning: Diagonal number 400 is exactly zero. Singular matrix.\n",
      "  self.M_lu = lu_factor(M)\n"
     ]
    },
    {
     "name": "stdout",
     "output_type": "stream",
     "text": [
      " ** On entry to SLASCL parameter number  4 had an illegal value\n",
      " ** On entry to SLASCL parameter number  4 had an illegal value\n"
     ]
    },
    {
     "name": "stderr",
     "output_type": "stream",
     "text": [
      "  5%|▍         | 47/1000 [17:28<5:45:31, 21.75s/it]"
     ]
    },
    {
     "name": "stdout",
     "output_type": "stream",
     "text": [
      "eigenvalues shape torch.Size([5]) eigenvectors shape torch.Size([5, 400])\n",
      "47 /home/phdcs2/Hard_Disk/Datasets/Deep-Spectral-Segmentation/data/object-segmentation/ECSSD/features/dino_vits16/0048.pth\n",
      "dict_keys(['k', 'indices', 'file', 'id', 'model_name', 'patch_size', 'shape'])\n",
      "0048\n",
      "Starting Training\n",
      "epoch: 00, loss: -0.61178\n",
      "epoch: 01, loss: -0.81623\n",
      "epoch: 02, loss: -0.71517\n",
      "epoch: 03, loss: -0.71489\n",
      "epoch: 04, loss: -0.73180\n",
      "epoch: 05, loss: -0.74454\n",
      "epoch: 06, loss: -0.77629\n",
      "epoch: 07, loss: -0.75544\n",
      "epoch: 08, loss: -0.84140\n",
      "epoch: 09, loss: -0.86443\n"
     ]
    },
    {
     "name": "stderr",
     "output_type": "stream",
     "text": [
      "  5%|▍         | 48/1000 [17:49<5:43:17, 21.64s/it]"
     ]
    },
    {
     "name": "stdout",
     "output_type": "stream",
     "text": [
      "eigenvalues shape torch.Size([5]) eigenvectors shape torch.Size([5, 450])\n",
      "48 /home/phdcs2/Hard_Disk/Datasets/Deep-Spectral-Segmentation/data/object-segmentation/ECSSD/features/dino_vits16/0049.pth\n",
      "dict_keys(['k', 'indices', 'file', 'id', 'model_name', 'patch_size', 'shape'])\n",
      "0049\n",
      "Starting Training\n",
      "epoch: 00, loss: -0.36822\n",
      "epoch: 01, loss: -0.71931\n",
      "epoch: 02, loss: -0.71738\n",
      "epoch: 03, loss: -0.71577\n",
      "epoch: 04, loss: -0.72567\n",
      "epoch: 05, loss: -0.74008\n",
      "epoch: 06, loss: -0.75876\n",
      "epoch: 07, loss: -0.75831\n",
      "epoch: 08, loss: -0.75627\n",
      "epoch: 09, loss: -0.77075\n"
     ]
    },
    {
     "name": "stderr",
     "output_type": "stream",
     "text": [
      "  5%|▍         | 49/1000 [18:11<5:45:52, 21.82s/it]"
     ]
    },
    {
     "name": "stdout",
     "output_type": "stream",
     "text": [
      "eigenvalues shape torch.Size([5]) eigenvectors shape torch.Size([5, 450])\n",
      "49 /home/phdcs2/Hard_Disk/Datasets/Deep-Spectral-Segmentation/data/object-segmentation/ECSSD/features/dino_vits16/0050.pth\n",
      "dict_keys(['k', 'indices', 'file', 'id', 'model_name', 'patch_size', 'shape'])\n",
      "0050\n",
      "Starting Training\n",
      "epoch: 00, loss: -0.65725\n",
      "epoch: 01, loss: -0.82612\n",
      "epoch: 02, loss: -0.83181\n",
      "epoch: 03, loss: -0.83609\n",
      "epoch: 04, loss: -0.83146\n",
      "epoch: 05, loss: -0.81047\n",
      "epoch: 06, loss: -0.78001\n",
      "epoch: 07, loss: -0.81096\n",
      "epoch: 08, loss: -0.76597\n",
      "epoch: 09, loss: -0.76804\n"
     ]
    },
    {
     "name": "stderr",
     "output_type": "stream",
     "text": [
      "  5%|▌         | 50/1000 [18:31<5:34:15, 21.11s/it]"
     ]
    },
    {
     "name": "stdout",
     "output_type": "stream",
     "text": [
      "eigenvalues shape torch.Size([5]) eigenvectors shape torch.Size([5, 400])\n",
      "50 /home/phdcs2/Hard_Disk/Datasets/Deep-Spectral-Segmentation/data/object-segmentation/ECSSD/features/dino_vits16/0051.pth\n",
      "dict_keys(['k', 'indices', 'file', 'id', 'model_name', 'patch_size', 'shape'])\n",
      "0051\n",
      "Starting Training\n",
      "epoch: 00, loss: -0.42012\n",
      "epoch: 01, loss: -0.56476\n",
      "epoch: 02, loss: -0.66840\n",
      "epoch: 03, loss: -0.72981\n",
      "epoch: 04, loss: -0.77759\n",
      "epoch: 05, loss: -0.77581\n",
      "epoch: 06, loss: -0.79917\n",
      "epoch: 07, loss: -0.80075\n",
      "epoch: 08, loss: -0.80850\n",
      "epoch: 09, loss: -0.79699\n"
     ]
    },
    {
     "name": "stderr",
     "output_type": "stream",
     "text": [
      "  5%|▌         | 51/1000 [18:52<5:33:15, 21.07s/it]"
     ]
    },
    {
     "name": "stdout",
     "output_type": "stream",
     "text": [
      "eigenvalues shape torch.Size([5]) eigenvectors shape torch.Size([5, 450])\n",
      "51 /home/phdcs2/Hard_Disk/Datasets/Deep-Spectral-Segmentation/data/object-segmentation/ECSSD/features/dino_vits16/0052.pth\n",
      "dict_keys(['k', 'indices', 'file', 'id', 'model_name', 'patch_size', 'shape'])\n",
      "0052\n",
      "Starting Training\n",
      "epoch: 00, loss: -0.37388\n",
      "epoch: 01, loss: -0.68613\n",
      "epoch: 02, loss: -0.71056\n",
      "epoch: 03, loss: -0.74540\n",
      "epoch: 04, loss: -0.75324\n",
      "epoch: 05, loss: -0.74906\n",
      "epoch: 06, loss: -0.74507\n",
      "epoch: 07, loss: -0.71155\n",
      "epoch: 08, loss: -0.74486\n",
      "epoch: 09, loss: -0.74836\n"
     ]
    },
    {
     "name": "stderr",
     "output_type": "stream",
     "text": [
      "  5%|▌         | 52/1000 [19:13<5:34:44, 21.19s/it]"
     ]
    },
    {
     "name": "stdout",
     "output_type": "stream",
     "text": [
      "eigenvalues shape torch.Size([5]) eigenvectors shape torch.Size([5, 450])\n",
      "52 /home/phdcs2/Hard_Disk/Datasets/Deep-Spectral-Segmentation/data/object-segmentation/ECSSD/features/dino_vits16/0053.pth\n",
      "dict_keys(['k', 'indices', 'file', 'id', 'model_name', 'patch_size', 'shape'])\n",
      "0053\n",
      "Starting Training\n",
      "epoch: 00, loss: -0.59523\n",
      "epoch: 01, loss: -0.92272\n",
      "epoch: 02, loss: -0.91412\n",
      "epoch: 03, loss: -0.90259\n",
      "epoch: 04, loss: -0.88680\n",
      "epoch: 05, loss: -0.84694\n",
      "epoch: 06, loss: -0.84310\n",
      "epoch: 07, loss: -0.80303\n",
      "epoch: 08, loss: -0.77229\n",
      "epoch: 09, loss: -0.79718\n"
     ]
    },
    {
     "name": "stderr",
     "output_type": "stream",
     "text": [
      "  5%|▌         | 53/1000 [19:31<5:17:40, 20.13s/it]"
     ]
    },
    {
     "name": "stdout",
     "output_type": "stream",
     "text": [
      "eigenvalues shape torch.Size([5]) eigenvectors shape torch.Size([5, 375])\n",
      "53 /home/phdcs2/Hard_Disk/Datasets/Deep-Spectral-Segmentation/data/object-segmentation/ECSSD/features/dino_vits16/0054.pth\n",
      "dict_keys(['k', 'indices', 'file', 'id', 'model_name', 'patch_size', 'shape'])\n",
      "0054\n",
      "Starting Training\n",
      "epoch: 00, loss: -0.54987\n",
      "epoch: 01, loss: -0.83130\n",
      "epoch: 02, loss: -0.86398\n",
      "epoch: 03, loss: -0.86099\n",
      "epoch: 04, loss: -0.82924\n",
      "epoch: 05, loss: -0.82618\n",
      "epoch: 06, loss: -0.81942\n",
      "epoch: 07, loss: -0.79755\n",
      "epoch: 08, loss: -0.79039\n",
      "epoch: 09, loss: -0.82224\n"
     ]
    },
    {
     "name": "stderr",
     "output_type": "stream",
     "text": [
      "  5%|▌         | 54/1000 [19:53<5:24:48, 20.60s/it]"
     ]
    },
    {
     "name": "stdout",
     "output_type": "stream",
     "text": [
      "eigenvalues shape torch.Size([5]) eigenvectors shape torch.Size([5, 450])\n",
      "54 /home/phdcs2/Hard_Disk/Datasets/Deep-Spectral-Segmentation/data/object-segmentation/ECSSD/features/dino_vits16/0055.pth\n",
      "dict_keys(['k', 'indices', 'file', 'id', 'model_name', 'patch_size', 'shape'])\n",
      "0055\n",
      "Starting Training\n",
      "epoch: 00, loss: -0.50919\n",
      "epoch: 01, loss: -0.82633\n",
      "epoch: 02, loss: -0.70606\n",
      "epoch: 03, loss: -0.73171\n",
      "epoch: 04, loss: -0.82259\n",
      "epoch: 05, loss: -0.85895\n",
      "epoch: 06, loss: -0.85857\n",
      "epoch: 07, loss: -0.87126\n",
      "epoch: 08, loss: -0.86894\n",
      "epoch: 09, loss: -0.87444\n"
     ]
    },
    {
     "name": "stderr",
     "output_type": "stream",
     "text": [
      "  6%|▌         | 55/1000 [20:17<5:42:47, 21.76s/it]"
     ]
    },
    {
     "name": "stdout",
     "output_type": "stream",
     "text": [
      "eigenvalues shape torch.Size([5]) eigenvectors shape torch.Size([5, 450])\n",
      "55 /home/phdcs2/Hard_Disk/Datasets/Deep-Spectral-Segmentation/data/object-segmentation/ECSSD/features/dino_vits16/0056.pth\n",
      "dict_keys(['k', 'indices', 'file', 'id', 'model_name', 'patch_size', 'shape'])\n",
      "0056\n",
      "Starting Training\n",
      "epoch: 00, loss: -0.56862\n",
      "epoch: 01, loss: -0.79916\n",
      "epoch: 02, loss: -0.80605\n",
      "epoch: 03, loss: -0.82253\n",
      "epoch: 04, loss: -0.85387\n",
      "epoch: 05, loss: -0.84555\n",
      "epoch: 06, loss: -0.85297\n",
      "epoch: 07, loss: -0.86239\n",
      "epoch: 08, loss: -0.86549\n",
      "epoch: 09, loss: -0.85967\n"
     ]
    },
    {
     "name": "stderr",
     "output_type": "stream",
     "text": [
      "  6%|▌         | 56/1000 [20:37<5:34:41, 21.27s/it]"
     ]
    },
    {
     "name": "stdout",
     "output_type": "stream",
     "text": [
      "eigenvalues shape torch.Size([5]) eigenvectors shape torch.Size([5, 400])\n",
      "56 /home/phdcs2/Hard_Disk/Datasets/Deep-Spectral-Segmentation/data/object-segmentation/ECSSD/features/dino_vits16/0057.pth\n",
      "dict_keys(['k', 'indices', 'file', 'id', 'model_name', 'patch_size', 'shape'])\n",
      "0057\n",
      "Starting Training\n",
      "epoch: 00, loss: -0.50806\n",
      "epoch: 01, loss: -0.83535\n",
      "epoch: 02, loss: -0.77688\n",
      "epoch: 03, loss: -0.79450\n",
      "epoch: 04, loss: -0.82085\n",
      "epoch: 05, loss: -0.83148\n",
      "epoch: 06, loss: -0.76870\n",
      "epoch: 07, loss: -0.75495\n",
      "epoch: 08, loss: -0.77954\n",
      "epoch: 09, loss: -0.79247\n"
     ]
    },
    {
     "name": "stderr",
     "output_type": "stream",
     "text": [
      "  6%|▌         | 57/1000 [20:59<5:35:59, 21.38s/it]"
     ]
    },
    {
     "name": "stdout",
     "output_type": "stream",
     "text": [
      "eigenvalues shape torch.Size([5]) eigenvectors shape torch.Size([5, 400])\n",
      "57 /home/phdcs2/Hard_Disk/Datasets/Deep-Spectral-Segmentation/data/object-segmentation/ECSSD/features/dino_vits16/0058.pth\n",
      "dict_keys(['k', 'indices', 'file', 'id', 'model_name', 'patch_size', 'shape'])\n",
      "0058\n",
      "Starting Training\n",
      "epoch: 00, loss: -0.37523\n",
      "epoch: 01, loss: -0.70274\n",
      "epoch: 02, loss: -0.73536\n",
      "epoch: 03, loss: -0.76897\n",
      "epoch: 04, loss: -0.77807\n",
      "epoch: 05, loss: -0.77558\n",
      "epoch: 06, loss: -0.78378\n",
      "epoch: 07, loss: -0.76884\n",
      "epoch: 08, loss: -0.77113\n",
      "epoch: 09, loss: -0.79335\n"
     ]
    },
    {
     "name": "stderr",
     "output_type": "stream",
     "text": [
      "  6%|▌         | 58/1000 [21:23<5:46:59, 22.10s/it]"
     ]
    },
    {
     "name": "stdout",
     "output_type": "stream",
     "text": [
      "eigenvalues shape torch.Size([5]) eigenvectors shape torch.Size([5, 425])\n",
      "58 /home/phdcs2/Hard_Disk/Datasets/Deep-Spectral-Segmentation/data/object-segmentation/ECSSD/features/dino_vits16/0059.pth\n",
      "dict_keys(['k', 'indices', 'file', 'id', 'model_name', 'patch_size', 'shape'])\n",
      "0059\n",
      "Starting Training\n",
      "epoch: 00, loss: -0.62536\n",
      "epoch: 01, loss: -0.90533\n",
      "epoch: 02, loss: -0.91021\n",
      "epoch: 03, loss: -0.89594\n",
      "epoch: 04, loss: -0.90059\n",
      "epoch: 05, loss: -0.90422\n",
      "epoch: 06, loss: -0.89732\n",
      "epoch: 07, loss: -0.88460\n",
      "epoch: 08, loss: -0.87770\n",
      "epoch: 09, loss: -0.87122\n"
     ]
    },
    {
     "name": "stderr",
     "output_type": "stream",
     "text": [
      "  6%|▌         | 59/1000 [21:46<5:51:52, 22.44s/it]"
     ]
    },
    {
     "name": "stdout",
     "output_type": "stream",
     "text": [
      "eigenvalues shape torch.Size([5]) eigenvectors shape torch.Size([5, 450])\n",
      "59 /home/phdcs2/Hard_Disk/Datasets/Deep-Spectral-Segmentation/data/object-segmentation/ECSSD/features/dino_vits16/0060.pth\n",
      "dict_keys(['k', 'indices', 'file', 'id', 'model_name', 'patch_size', 'shape'])\n",
      "0060\n",
      "Starting Training\n",
      "epoch: 00, loss: -0.25596\n",
      "epoch: 01, loss: -0.52778\n",
      "epoch: 02, loss: -0.61302\n",
      "epoch: 03, loss: -0.68595\n",
      "epoch: 04, loss: -0.71393\n",
      "epoch: 05, loss: -0.73853\n",
      "epoch: 06, loss: -0.74732\n",
      "epoch: 07, loss: -0.79256\n",
      "epoch: 08, loss: -0.80727\n",
      "epoch: 09, loss: -0.80258\n"
     ]
    },
    {
     "name": "stderr",
     "output_type": "stream",
     "text": [
      "  6%|▌         | 60/1000 [22:06<5:42:15, 21.85s/it]"
     ]
    },
    {
     "name": "stdout",
     "output_type": "stream",
     "text": [
      "eigenvalues shape torch.Size([5]) eigenvectors shape torch.Size([5, 400])\n",
      "60 /home/phdcs2/Hard_Disk/Datasets/Deep-Spectral-Segmentation/data/object-segmentation/ECSSD/features/dino_vits16/0061.pth\n",
      "dict_keys(['k', 'indices', 'file', 'id', 'model_name', 'patch_size', 'shape'])\n",
      "0061\n",
      "Starting Training\n",
      "epoch: 00, loss: -0.37709\n",
      "epoch: 01, loss: -0.75447\n",
      "epoch: 02, loss: -0.79061\n",
      "epoch: 03, loss: -0.82507\n",
      "epoch: 04, loss: -0.83767\n",
      "epoch: 05, loss: -0.83126\n",
      "epoch: 06, loss: -0.82702\n",
      "epoch: 07, loss: -0.83075\n",
      "epoch: 08, loss: -0.83506\n",
      "epoch: 09, loss: -0.84182\n"
     ]
    },
    {
     "name": "stderr",
     "output_type": "stream",
     "text": [
      "  6%|▌         | 61/1000 [22:28<5:40:47, 21.78s/it]"
     ]
    },
    {
     "name": "stdout",
     "output_type": "stream",
     "text": [
      "eigenvalues shape torch.Size([5]) eigenvectors shape torch.Size([5, 425])\n",
      "61 /home/phdcs2/Hard_Disk/Datasets/Deep-Spectral-Segmentation/data/object-segmentation/ECSSD/features/dino_vits16/0062.pth\n",
      "dict_keys(['k', 'indices', 'file', 'id', 'model_name', 'patch_size', 'shape'])\n",
      "0062\n",
      "Starting Training\n",
      "epoch: 00, loss: -0.48214\n",
      "epoch: 01, loss: -0.81253\n",
      "epoch: 02, loss: -0.79687\n",
      "epoch: 03, loss: -0.78889\n",
      "epoch: 04, loss: -0.76370\n",
      "epoch: 05, loss: -0.77583\n",
      "epoch: 06, loss: -0.75053\n",
      "epoch: 07, loss: -0.72510\n",
      "epoch: 08, loss: -0.74486\n",
      "epoch: 09, loss: -0.74803\n"
     ]
    },
    {
     "name": "stderr",
     "output_type": "stream",
     "text": [
      "  6%|▌         | 62/1000 [22:48<5:33:51, 21.36s/it]"
     ]
    },
    {
     "name": "stdout",
     "output_type": "stream",
     "text": [
      "eigenvalues shape torch.Size([5]) eigenvectors shape torch.Size([5, 425])\n",
      "62 /home/phdcs2/Hard_Disk/Datasets/Deep-Spectral-Segmentation/data/object-segmentation/ECSSD/features/dino_vits16/0063.pth\n",
      "dict_keys(['k', 'indices', 'file', 'id', 'model_name', 'patch_size', 'shape'])\n",
      "0063\n",
      "Starting Training\n",
      "epoch: 00, loss: -0.61789\n",
      "epoch: 01, loss: -0.93055\n",
      "epoch: 02, loss: -0.94619\n",
      "epoch: 03, loss: -0.95358\n",
      "epoch: 04, loss: -0.95709\n",
      "epoch: 05, loss: -0.95974\n",
      "epoch: 06, loss: -0.95340\n",
      "epoch: 07, loss: -0.95506\n",
      "epoch: 08, loss: -0.95726\n",
      "epoch: 09, loss: -0.95570\n"
     ]
    },
    {
     "name": "stderr",
     "output_type": "stream",
     "text": [
      "  6%|▋         | 63/1000 [23:09<5:31:10, 21.21s/it]"
     ]
    },
    {
     "name": "stdout",
     "output_type": "stream",
     "text": [
      "eigenvalues shape torch.Size([5]) eigenvectors shape torch.Size([5, 400])\n",
      "63 /home/phdcs2/Hard_Disk/Datasets/Deep-Spectral-Segmentation/data/object-segmentation/ECSSD/features/dino_vits16/0064.pth\n",
      "dict_keys(['k', 'indices', 'file', 'id', 'model_name', 'patch_size', 'shape'])\n",
      "0064\n",
      "Starting Training\n",
      "epoch: 00, loss: -0.30670\n",
      "epoch: 01, loss: -0.51718\n",
      "epoch: 02, loss: -0.69860\n",
      "epoch: 03, loss: -0.78537\n",
      "epoch: 04, loss: -0.80170\n",
      "epoch: 05, loss: -0.82722\n",
      "epoch: 06, loss: -0.84359\n",
      "epoch: 07, loss: -0.84051\n",
      "epoch: 08, loss: -0.85736\n",
      "epoch: 09, loss: -0.86903\n"
     ]
    },
    {
     "name": "stderr",
     "output_type": "stream",
     "text": [
      "  6%|▋         | 64/1000 [23:29<5:25:56, 20.89s/it]"
     ]
    },
    {
     "name": "stdout",
     "output_type": "stream",
     "text": [
      "eigenvalues shape torch.Size([5]) eigenvectors shape torch.Size([5, 400])\n",
      "64 /home/phdcs2/Hard_Disk/Datasets/Deep-Spectral-Segmentation/data/object-segmentation/ECSSD/features/dino_vits16/0065.pth\n",
      "dict_keys(['k', 'indices', 'file', 'id', 'model_name', 'patch_size', 'shape'])\n",
      "0065\n",
      "Starting Training\n",
      "epoch: 00, loss: -0.54836\n",
      "epoch: 01, loss: -0.77153\n",
      "epoch: 02, loss: -0.65337\n",
      "epoch: 03, loss: -0.76531\n",
      "epoch: 04, loss: -0.81529\n",
      "epoch: 05, loss: -0.82241\n",
      "epoch: 06, loss: -0.83872\n",
      "epoch: 07, loss: -0.84314\n",
      "epoch: 08, loss: -0.83622\n",
      "epoch: 09, loss: -0.86068\n"
     ]
    },
    {
     "name": "stderr",
     "output_type": "stream",
     "text": [
      "  6%|▋         | 65/1000 [23:52<5:33:22, 21.39s/it]"
     ]
    },
    {
     "name": "stdout",
     "output_type": "stream",
     "text": [
      "eigenvalues shape torch.Size([5]) eigenvectors shape torch.Size([5, 450])\n",
      "65 /home/phdcs2/Hard_Disk/Datasets/Deep-Spectral-Segmentation/data/object-segmentation/ECSSD/features/dino_vits16/0066.pth\n",
      "dict_keys(['k', 'indices', 'file', 'id', 'model_name', 'patch_size', 'shape'])\n",
      "0066\n",
      "Starting Training\n",
      "epoch: 00, loss: -0.58522\n",
      "epoch: 01, loss: -0.80451\n",
      "epoch: 02, loss: -0.70745\n",
      "epoch: 03, loss: -0.79082\n",
      "epoch: 04, loss: -0.82269\n",
      "epoch: 05, loss: -0.85284\n",
      "epoch: 06, loss: -0.85907\n",
      "epoch: 07, loss: -0.84104\n",
      "epoch: 08, loss: -0.85456\n",
      "epoch: 09, loss: -0.86028\n"
     ]
    },
    {
     "name": "stderr",
     "output_type": "stream",
     "text": [
      "  7%|▋         | 66/1000 [24:13<5:30:47, 21.25s/it]"
     ]
    },
    {
     "name": "stdout",
     "output_type": "stream",
     "text": [
      "eigenvalues shape torch.Size([5]) eigenvectors shape torch.Size([5, 400])\n",
      "66 /home/phdcs2/Hard_Disk/Datasets/Deep-Spectral-Segmentation/data/object-segmentation/ECSSD/features/dino_vits16/0067.pth\n",
      "dict_keys(['k', 'indices', 'file', 'id', 'model_name', 'patch_size', 'shape'])\n",
      "0067\n",
      "Starting Training\n",
      "epoch: 00, loss: -0.23741\n",
      "epoch: 01, loss: -0.63919\n",
      "epoch: 02, loss: -0.70169\n",
      "epoch: 03, loss: -0.75674\n",
      "epoch: 04, loss: -0.70758\n",
      "epoch: 05, loss: -0.73045\n",
      "epoch: 06, loss: -0.74825\n",
      "epoch: 07, loss: -0.76463\n",
      "epoch: 08, loss: -0.76205\n",
      "epoch: 09, loss: -0.75696\n"
     ]
    },
    {
     "name": "stderr",
     "output_type": "stream",
     "text": [
      "  7%|▋         | 67/1000 [24:34<5:29:15, 21.17s/it]"
     ]
    },
    {
     "name": "stdout",
     "output_type": "stream",
     "text": [
      "eigenvalues shape torch.Size([5]) eigenvectors shape torch.Size([5, 350])\n",
      "67 /home/phdcs2/Hard_Disk/Datasets/Deep-Spectral-Segmentation/data/object-segmentation/ECSSD/features/dino_vits16/0068.pth\n",
      "dict_keys(['k', 'indices', 'file', 'id', 'model_name', 'patch_size', 'shape'])\n",
      "0068\n",
      "Starting Training\n",
      "epoch: 00, loss: -0.64665\n",
      "epoch: 01, loss: -0.63131\n",
      "epoch: 02, loss: -0.69604\n",
      "epoch: 03, loss: -0.73896\n",
      "epoch: 04, loss: -0.74453\n",
      "epoch: 05, loss: -0.75407\n",
      "epoch: 06, loss: -0.77586\n",
      "epoch: 07, loss: -0.78563\n",
      "epoch: 08, loss: -0.77861\n",
      "epoch: 09, loss: -0.77042\n"
     ]
    },
    {
     "name": "stderr",
     "output_type": "stream",
     "text": [
      "  7%|▋         | 68/1000 [25:03<6:08:59, 23.76s/it]"
     ]
    },
    {
     "name": "stdout",
     "output_type": "stream",
     "text": [
      "eigenvalues shape torch.Size([5]) eigenvectors shape torch.Size([5, 525])\n",
      "68 /home/phdcs2/Hard_Disk/Datasets/Deep-Spectral-Segmentation/data/object-segmentation/ECSSD/features/dino_vits16/0069.pth\n",
      "dict_keys(['k', 'indices', 'file', 'id', 'model_name', 'patch_size', 'shape'])\n",
      "0069\n",
      "Starting Training\n",
      "epoch: 00, loss: -0.51287\n",
      "epoch: 01, loss: -0.85147\n",
      "epoch: 02, loss: -0.86087\n",
      "epoch: 03, loss: -0.91099\n",
      "epoch: 04, loss: -0.90932\n",
      "epoch: 05, loss: -0.91521\n",
      "epoch: 06, loss: -0.92109\n",
      "epoch: 07, loss: -0.92808\n",
      "epoch: 08, loss: -0.92522\n",
      "epoch: 09, loss: -0.92669\n"
     ]
    },
    {
     "name": "stderr",
     "output_type": "stream",
     "text": [
      "  7%|▋         | 69/1000 [25:26<6:04:08, 23.47s/it]"
     ]
    },
    {
     "name": "stdout",
     "output_type": "stream",
     "text": [
      "eigenvalues shape torch.Size([5]) eigenvectors shape torch.Size([5, 425])\n",
      "69 /home/phdcs2/Hard_Disk/Datasets/Deep-Spectral-Segmentation/data/object-segmentation/ECSSD/features/dino_vits16/0070.pth\n",
      "dict_keys(['k', 'indices', 'file', 'id', 'model_name', 'patch_size', 'shape'])\n",
      "0070\n",
      "Starting Training\n",
      "epoch: 00, loss: -0.66097\n",
      "epoch: 01, loss: -0.92055\n",
      "epoch: 02, loss: -0.90839\n",
      "epoch: 03, loss: -0.86804\n",
      "epoch: 04, loss: -0.81921\n",
      "epoch: 05, loss: -0.83526\n",
      "epoch: 06, loss: -0.85763\n",
      "epoch: 07, loss: -0.84542\n",
      "epoch: 08, loss: -0.82873\n",
      "epoch: 09, loss: -0.83356\n"
     ]
    },
    {
     "name": "stderr",
     "output_type": "stream",
     "text": [
      "  7%|▋         | 70/1000 [25:51<6:08:30, 23.77s/it]"
     ]
    },
    {
     "name": "stdout",
     "output_type": "stream",
     "text": [
      "eigenvalues shape torch.Size([5]) eigenvectors shape torch.Size([5, 500])\n",
      "70 /home/phdcs2/Hard_Disk/Datasets/Deep-Spectral-Segmentation/data/object-segmentation/ECSSD/features/dino_vits16/0071.pth\n",
      "dict_keys(['k', 'indices', 'file', 'id', 'model_name', 'patch_size', 'shape'])\n",
      "0071\n",
      "Starting Training\n",
      "epoch: 00, loss: -0.56540\n",
      "epoch: 01, loss: -0.69861\n",
      "epoch: 02, loss: -0.71954\n",
      "epoch: 03, loss: -0.78902\n",
      "epoch: 04, loss: -0.82837\n",
      "epoch: 05, loss: -0.81026\n",
      "epoch: 06, loss: -0.83130\n",
      "epoch: 07, loss: -0.82479\n",
      "epoch: 08, loss: -0.82272\n",
      "epoch: 09, loss: -0.83512\n"
     ]
    },
    {
     "name": "stderr",
     "output_type": "stream",
     "text": [
      "  7%|▋         | 71/1000 [26:14<6:06:13, 23.65s/it]"
     ]
    },
    {
     "name": "stdout",
     "output_type": "stream",
     "text": [
      "eigenvalues shape torch.Size([5]) eigenvectors shape torch.Size([5, 450])\n",
      "71 /home/phdcs2/Hard_Disk/Datasets/Deep-Spectral-Segmentation/data/object-segmentation/ECSSD/features/dino_vits16/0072.pth\n",
      "dict_keys(['k', 'indices', 'file', 'id', 'model_name', 'patch_size', 'shape'])\n",
      "0072\n",
      "Starting Training\n",
      "epoch: 00, loss: -0.38747\n",
      "epoch: 01, loss: -0.76805\n",
      "epoch: 02, loss: -0.79472\n",
      "epoch: 03, loss: -0.77814\n",
      "epoch: 04, loss: -0.79053\n",
      "epoch: 05, loss: -0.78836\n",
      "epoch: 06, loss: -0.77845\n",
      "epoch: 07, loss: -0.76186\n",
      "epoch: 08, loss: -0.75667\n",
      "epoch: 09, loss: -0.75790\n"
     ]
    },
    {
     "name": "stderr",
     "output_type": "stream",
     "text": [
      "  7%|▋         | 72/1000 [26:34<5:49:34, 22.60s/it]"
     ]
    },
    {
     "name": "stdout",
     "output_type": "stream",
     "text": [
      "eigenvalues shape torch.Size([5]) eigenvectors shape torch.Size([5, 400])\n",
      "72 /home/phdcs2/Hard_Disk/Datasets/Deep-Spectral-Segmentation/data/object-segmentation/ECSSD/features/dino_vits16/0073.pth\n",
      "dict_keys(['k', 'indices', 'file', 'id', 'model_name', 'patch_size', 'shape'])\n",
      "0073\n",
      "Starting Training\n",
      "epoch: 00, loss: -0.56924\n",
      "epoch: 01, loss: -0.85611\n",
      "epoch: 02, loss: -0.85023\n",
      "epoch: 03, loss: -0.84751\n",
      "epoch: 04, loss: -0.85010\n",
      "epoch: 05, loss: -0.85273\n",
      "epoch: 06, loss: -0.84625\n",
      "epoch: 07, loss: -0.85261\n",
      "epoch: 08, loss: -0.84537\n",
      "epoch: 09, loss: -0.86150\n"
     ]
    },
    {
     "name": "stderr",
     "output_type": "stream",
     "text": [
      "  7%|▋         | 73/1000 [26:56<5:44:05, 22.27s/it]"
     ]
    },
    {
     "name": "stdout",
     "output_type": "stream",
     "text": [
      "eigenvalues shape torch.Size([5]) eigenvectors shape torch.Size([5, 450])\n",
      "73 /home/phdcs2/Hard_Disk/Datasets/Deep-Spectral-Segmentation/data/object-segmentation/ECSSD/features/dino_vits16/0074.pth\n",
      "dict_keys(['k', 'indices', 'file', 'id', 'model_name', 'patch_size', 'shape'])\n",
      "0074\n",
      "Starting Training\n",
      "epoch: 00, loss: -0.39976\n",
      "epoch: 01, loss: -0.68126\n",
      "epoch: 02, loss: -0.76308\n",
      "epoch: 03, loss: -0.79562\n",
      "epoch: 04, loss: -0.80208\n",
      "epoch: 05, loss: -0.82399\n",
      "epoch: 06, loss: -0.81472\n",
      "epoch: 07, loss: -0.81796\n",
      "epoch: 08, loss: -0.81311\n",
      "epoch: 09, loss: -0.82559\n"
     ]
    },
    {
     "name": "stderr",
     "output_type": "stream",
     "text": [
      "  7%|▋         | 74/1000 [27:21<5:59:21, 23.28s/it]"
     ]
    },
    {
     "name": "stdout",
     "output_type": "stream",
     "text": [
      "eigenvalues shape torch.Size([5]) eigenvectors shape torch.Size([5, 450])\n",
      "74 /home/phdcs2/Hard_Disk/Datasets/Deep-Spectral-Segmentation/data/object-segmentation/ECSSD/features/dino_vits16/0075.pth\n",
      "dict_keys(['k', 'indices', 'file', 'id', 'model_name', 'patch_size', 'shape'])\n",
      "0075\n",
      "Starting Training\n",
      "epoch: 00, loss: -0.23034\n",
      "epoch: 01, loss: -0.52794\n",
      "epoch: 02, loss: -0.63967\n",
      "epoch: 03, loss: -0.65828\n",
      "epoch: 04, loss: -0.67904\n",
      "epoch: 05, loss: -0.66963\n",
      "epoch: 06, loss: -0.71454\n",
      "epoch: 07, loss: -0.73560\n",
      "epoch: 08, loss: -0.77305\n",
      "epoch: 09, loss: -0.77949\n"
     ]
    },
    {
     "name": "stderr",
     "output_type": "stream",
     "text": [
      "  8%|▊         | 75/1000 [27:46<6:03:01, 23.55s/it]"
     ]
    },
    {
     "name": "stdout",
     "output_type": "stream",
     "text": [
      "eigenvalues shape torch.Size([5]) eigenvectors shape torch.Size([5, 450])\n",
      "75 /home/phdcs2/Hard_Disk/Datasets/Deep-Spectral-Segmentation/data/object-segmentation/ECSSD/features/dino_vits16/0076.pth\n",
      "dict_keys(['k', 'indices', 'file', 'id', 'model_name', 'patch_size', 'shape'])\n",
      "0076\n",
      "Starting Training\n",
      "epoch: 00, loss: -0.37760\n",
      "epoch: 01, loss: -0.73373\n",
      "epoch: 02, loss: -0.81184\n",
      "epoch: 03, loss: -0.82897\n",
      "epoch: 04, loss: -0.84563\n",
      "epoch: 05, loss: -0.85163\n",
      "epoch: 06, loss: -0.85179\n",
      "epoch: 07, loss: -0.87341\n",
      "epoch: 08, loss: -0.86278\n",
      "epoch: 09, loss: -0.85677\n"
     ]
    },
    {
     "name": "stderr",
     "output_type": "stream",
     "text": [
      "  8%|▊         | 76/1000 [28:06<5:46:46, 22.52s/it]"
     ]
    },
    {
     "name": "stdout",
     "output_type": "stream",
     "text": [
      "eigenvalues shape torch.Size([5]) eigenvectors shape torch.Size([5, 400])\n",
      "76 /home/phdcs2/Hard_Disk/Datasets/Deep-Spectral-Segmentation/data/object-segmentation/ECSSD/features/dino_vits16/0077.pth\n",
      "dict_keys(['k', 'indices', 'file', 'id', 'model_name', 'patch_size', 'shape'])\n",
      "0077\n",
      "Starting Training\n",
      "epoch: 00, loss: -0.63244\n",
      "epoch: 01, loss: -0.90847\n",
      "epoch: 02, loss: -0.92058\n",
      "epoch: 03, loss: -0.92908\n",
      "epoch: 04, loss: -0.92079\n",
      "epoch: 05, loss: -0.90992\n",
      "epoch: 06, loss: -0.91318\n",
      "epoch: 07, loss: -0.90301\n",
      "epoch: 08, loss: -0.89769\n",
      "epoch: 09, loss: -0.89961\n"
     ]
    },
    {
     "name": "stderr",
     "output_type": "stream",
     "text": [
      "  8%|▊         | 77/1000 [28:30<5:55:45, 23.13s/it]"
     ]
    },
    {
     "name": "stdout",
     "output_type": "stream",
     "text": [
      "eigenvalues shape torch.Size([5]) eigenvectors shape torch.Size([5, 450])\n",
      "77 /home/phdcs2/Hard_Disk/Datasets/Deep-Spectral-Segmentation/data/object-segmentation/ECSSD/features/dino_vits16/0078.pth\n",
      "dict_keys(['k', 'indices', 'file', 'id', 'model_name', 'patch_size', 'shape'])\n",
      "0078\n",
      "Starting Training\n",
      "epoch: 00, loss: -0.34217\n",
      "epoch: 01, loss: -0.74228\n",
      "epoch: 02, loss: -0.77070\n",
      "epoch: 03, loss: -0.76797\n",
      "epoch: 04, loss: -0.78687\n",
      "epoch: 05, loss: -0.80791\n",
      "epoch: 06, loss: -0.80348\n",
      "epoch: 07, loss: -0.82101\n",
      "epoch: 08, loss: -0.82096\n",
      "epoch: 09, loss: -0.83764\n"
     ]
    },
    {
     "name": "stderr",
     "output_type": "stream",
     "text": [
      "  8%|▊         | 78/1000 [28:51<5:46:26, 22.54s/it]"
     ]
    },
    {
     "name": "stdout",
     "output_type": "stream",
     "text": [
      "eigenvalues shape torch.Size([5]) eigenvectors shape torch.Size([5, 400])\n",
      "78 /home/phdcs2/Hard_Disk/Datasets/Deep-Spectral-Segmentation/data/object-segmentation/ECSSD/features/dino_vits16/0079.pth\n",
      "dict_keys(['k', 'indices', 'file', 'id', 'model_name', 'patch_size', 'shape'])\n",
      "0079\n",
      "Starting Training\n",
      "epoch: 00, loss: -0.35868\n",
      "epoch: 01, loss: -0.69869\n",
      "epoch: 02, loss: -0.75034\n",
      "epoch: 03, loss: -0.76819\n",
      "epoch: 04, loss: -0.76002\n",
      "epoch: 05, loss: -0.78796\n",
      "epoch: 06, loss: -0.80293\n",
      "epoch: 07, loss: -0.79270\n",
      "epoch: 08, loss: -0.80895\n",
      "epoch: 09, loss: -0.81655\n"
     ]
    },
    {
     "name": "stderr",
     "output_type": "stream",
     "text": [
      "  8%|▊         | 79/1000 [29:19<6:08:32, 24.01s/it]"
     ]
    },
    {
     "name": "stdout",
     "output_type": "stream",
     "text": [
      "eigenvalues shape torch.Size([5]) eigenvectors shape torch.Size([5, 525])\n",
      "79 /home/phdcs2/Hard_Disk/Datasets/Deep-Spectral-Segmentation/data/object-segmentation/ECSSD/features/dino_vits16/0080.pth\n",
      "dict_keys(['k', 'indices', 'file', 'id', 'model_name', 'patch_size', 'shape'])\n",
      "0080\n",
      "Starting Training\n",
      "epoch: 00, loss: -0.40620\n",
      "epoch: 01, loss: -0.70145\n",
      "epoch: 02, loss: -0.76772\n",
      "epoch: 03, loss: -0.78428\n",
      "epoch: 04, loss: -0.81551\n",
      "epoch: 05, loss: -0.82084\n",
      "epoch: 06, loss: -0.83242\n",
      "epoch: 07, loss: -0.84465\n",
      "epoch: 08, loss: -0.86934\n",
      "epoch: 09, loss: -0.83026\n"
     ]
    },
    {
     "name": "stderr",
     "output_type": "stream",
     "text": [
      "  8%|▊         | 80/1000 [29:44<6:12:59, 24.33s/it]"
     ]
    },
    {
     "name": "stdout",
     "output_type": "stream",
     "text": [
      "eigenvalues shape torch.Size([5]) eigenvectors shape torch.Size([5, 450])\n",
      "80 /home/phdcs2/Hard_Disk/Datasets/Deep-Spectral-Segmentation/data/object-segmentation/ECSSD/features/dino_vits16/0081.pth\n",
      "dict_keys(['k', 'indices', 'file', 'id', 'model_name', 'patch_size', 'shape'])\n",
      "0081\n",
      "Starting Training\n",
      "epoch: 00, loss: -0.50158\n",
      "epoch: 01, loss: -0.79868\n",
      "epoch: 02, loss: -0.77609\n",
      "epoch: 03, loss: -0.73160\n",
      "epoch: 04, loss: -0.76244\n",
      "epoch: 05, loss: -0.78740\n",
      "epoch: 06, loss: -0.77853\n",
      "epoch: 07, loss: -0.78341\n",
      "epoch: 08, loss: -0.77030\n",
      "epoch: 09, loss: -0.78134\n"
     ]
    },
    {
     "name": "stderr",
     "output_type": "stream",
     "text": [
      "  8%|▊         | 81/1000 [30:08<6:10:59, 24.22s/it]"
     ]
    },
    {
     "name": "stdout",
     "output_type": "stream",
     "text": [
      "eigenvalues shape torch.Size([5]) eigenvectors shape torch.Size([5, 450])\n",
      "81 /home/phdcs2/Hard_Disk/Datasets/Deep-Spectral-Segmentation/data/object-segmentation/ECSSD/features/dino_vits16/0082.pth\n",
      "dict_keys(['k', 'indices', 'file', 'id', 'model_name', 'patch_size', 'shape'])\n",
      "0082\n",
      "Starting Training\n",
      "epoch: 00, loss: -0.36747\n",
      "epoch: 01, loss: -0.76727\n",
      "epoch: 02, loss: -0.76340\n",
      "epoch: 03, loss: -0.78807\n",
      "epoch: 04, loss: -0.81694\n",
      "epoch: 05, loss: -0.82733\n",
      "epoch: 06, loss: -0.82788\n",
      "epoch: 07, loss: -0.83280\n",
      "epoch: 08, loss: -0.83247\n",
      "epoch: 09, loss: -0.85067\n"
     ]
    },
    {
     "name": "stderr",
     "output_type": "stream",
     "text": [
      "  8%|▊         | 82/1000 [30:29<5:56:48, 23.32s/it]"
     ]
    },
    {
     "name": "stdout",
     "output_type": "stream",
     "text": [
      "eigenvalues shape torch.Size([5]) eigenvectors shape torch.Size([5, 450])\n",
      "82 /home/phdcs2/Hard_Disk/Datasets/Deep-Spectral-Segmentation/data/object-segmentation/ECSSD/features/dino_vits16/0083.pth\n",
      "dict_keys(['k', 'indices', 'file', 'id', 'model_name', 'patch_size', 'shape'])\n",
      "0083\n",
      "Starting Training\n",
      "epoch: 00, loss: -0.46007\n",
      "epoch: 01, loss: -0.71824\n",
      "epoch: 02, loss: -0.74349\n",
      "epoch: 03, loss: -0.76972\n",
      "epoch: 04, loss: -0.81070\n",
      "epoch: 05, loss: -0.79719\n",
      "epoch: 06, loss: -0.81127\n",
      "epoch: 07, loss: -0.86954\n",
      "epoch: 08, loss: -0.86095\n",
      "epoch: 09, loss: -0.88325\n"
     ]
    },
    {
     "name": "stderr",
     "output_type": "stream",
     "text": [
      "  8%|▊         | 83/1000 [30:50<5:44:51, 22.56s/it]"
     ]
    },
    {
     "name": "stdout",
     "output_type": "stream",
     "text": [
      "eigenvalues shape torch.Size([5]) eigenvectors shape torch.Size([5, 450])\n",
      "83 /home/phdcs2/Hard_Disk/Datasets/Deep-Spectral-Segmentation/data/object-segmentation/ECSSD/features/dino_vits16/0084.pth\n",
      "dict_keys(['k', 'indices', 'file', 'id', 'model_name', 'patch_size', 'shape'])\n",
      "0084\n",
      "Starting Training\n",
      "epoch: 00, loss: -0.56239\n",
      "epoch: 01, loss: -0.87610\n",
      "epoch: 02, loss: -0.87819\n",
      "epoch: 03, loss: -0.86697\n",
      "epoch: 04, loss: -0.81196\n",
      "epoch: 05, loss: -0.77287\n",
      "epoch: 06, loss: -0.77494\n",
      "epoch: 07, loss: -0.76521\n",
      "epoch: 08, loss: -0.80084\n",
      "epoch: 09, loss: -0.82720\n"
     ]
    },
    {
     "name": "stderr",
     "output_type": "stream",
     "text": [
      "  8%|▊         | 84/1000 [31:13<5:46:10, 22.68s/it]"
     ]
    },
    {
     "name": "stdout",
     "output_type": "stream",
     "text": [
      "eigenvalues shape torch.Size([5]) eigenvectors shape torch.Size([5, 450])\n",
      "84 /home/phdcs2/Hard_Disk/Datasets/Deep-Spectral-Segmentation/data/object-segmentation/ECSSD/features/dino_vits16/0085.pth\n",
      "dict_keys(['k', 'indices', 'file', 'id', 'model_name', 'patch_size', 'shape'])\n",
      "0085\n",
      "Starting Training\n",
      "epoch: 00, loss: -0.48914\n",
      "epoch: 01, loss: -0.76023\n",
      "epoch: 02, loss: -0.75097\n",
      "epoch: 03, loss: -0.73723\n",
      "epoch: 04, loss: -0.71716\n",
      "epoch: 05, loss: -0.72749\n",
      "epoch: 06, loss: -0.71769\n",
      "epoch: 07, loss: -0.76707\n",
      "epoch: 08, loss: -0.78773\n",
      "epoch: 09, loss: -0.79299\n"
     ]
    },
    {
     "name": "stderr",
     "output_type": "stream",
     "text": [
      "  8%|▊         | 85/1000 [31:35<5:44:09, 22.57s/it]"
     ]
    },
    {
     "name": "stdout",
     "output_type": "stream",
     "text": [
      "eigenvalues shape torch.Size([5]) eigenvectors shape torch.Size([5, 450])\n",
      "85 /home/phdcs2/Hard_Disk/Datasets/Deep-Spectral-Segmentation/data/object-segmentation/ECSSD/features/dino_vits16/0086.pth\n",
      "dict_keys(['k', 'indices', 'file', 'id', 'model_name', 'patch_size', 'shape'])\n",
      "0086\n",
      "Starting Training\n",
      "epoch: 00, loss: -0.67272\n",
      "epoch: 01, loss: -0.74181\n",
      "epoch: 02, loss: -0.69990\n",
      "epoch: 03, loss: -0.73637\n",
      "epoch: 04, loss: -0.76988\n",
      "epoch: 05, loss: -0.82949\n",
      "epoch: 06, loss: -0.82446\n",
      "epoch: 07, loss: -0.82895\n",
      "epoch: 08, loss: -0.84359\n",
      "epoch: 09, loss: -0.85601\n"
     ]
    },
    {
     "name": "stderr",
     "output_type": "stream",
     "text": [
      "  9%|▊         | 86/1000 [31:57<5:39:33, 22.29s/it]"
     ]
    },
    {
     "name": "stdout",
     "output_type": "stream",
     "text": [
      "eigenvalues shape torch.Size([5]) eigenvectors shape torch.Size([5, 450])\n",
      "86 /home/phdcs2/Hard_Disk/Datasets/Deep-Spectral-Segmentation/data/object-segmentation/ECSSD/features/dino_vits16/0087.pth\n",
      "dict_keys(['k', 'indices', 'file', 'id', 'model_name', 'patch_size', 'shape'])\n",
      "0087\n",
      "Starting Training\n",
      "epoch: 00, loss: -0.59556\n",
      "epoch: 01, loss: -0.88046\n",
      "epoch: 02, loss: -0.86309\n",
      "epoch: 03, loss: -0.81187\n",
      "epoch: 04, loss: -0.78547\n",
      "epoch: 05, loss: -0.78764\n",
      "epoch: 06, loss: -0.80777\n",
      "epoch: 07, loss: -0.74134\n",
      "epoch: 08, loss: -0.79717\n",
      "epoch: 09, loss: -0.84166\n"
     ]
    },
    {
     "name": "stderr",
     "output_type": "stream",
     "text": [
      "  9%|▊         | 87/1000 [32:21<5:47:00, 22.80s/it]"
     ]
    },
    {
     "name": "stdout",
     "output_type": "stream",
     "text": [
      "eigenvalues shape torch.Size([5]) eigenvectors shape torch.Size([5, 450])\n",
      "87 /home/phdcs2/Hard_Disk/Datasets/Deep-Spectral-Segmentation/data/object-segmentation/ECSSD/features/dino_vits16/0088.pth\n",
      "dict_keys(['k', 'indices', 'file', 'id', 'model_name', 'patch_size', 'shape'])\n",
      "0088\n",
      "Starting Training\n",
      "epoch: 00, loss: -0.43416\n",
      "epoch: 01, loss: -0.65236\n",
      "epoch: 02, loss: -0.68532\n",
      "epoch: 03, loss: -0.76826\n",
      "epoch: 04, loss: -0.78887\n",
      "epoch: 05, loss: -0.81226\n",
      "epoch: 06, loss: -0.80930\n",
      "epoch: 07, loss: -0.79529\n",
      "epoch: 08, loss: -0.80929\n",
      "epoch: 09, loss: -0.81466\n"
     ]
    },
    {
     "name": "stderr",
     "output_type": "stream",
     "text": [
      "  9%|▉         | 88/1000 [32:43<5:44:31, 22.67s/it]"
     ]
    },
    {
     "name": "stdout",
     "output_type": "stream",
     "text": [
      "eigenvalues shape torch.Size([5]) eigenvectors shape torch.Size([5, 450])\n",
      "88 /home/phdcs2/Hard_Disk/Datasets/Deep-Spectral-Segmentation/data/object-segmentation/ECSSD/features/dino_vits16/0089.pth\n",
      "dict_keys(['k', 'indices', 'file', 'id', 'model_name', 'patch_size', 'shape'])\n",
      "0089\n",
      "Starting Training\n",
      "epoch: 00, loss: -0.37542\n",
      "epoch: 01, loss: -0.75239\n",
      "epoch: 02, loss: -0.79032\n",
      "epoch: 03, loss: -0.80437\n",
      "epoch: 04, loss: -0.82804\n",
      "epoch: 05, loss: -0.81533\n",
      "epoch: 06, loss: -0.79345\n",
      "epoch: 07, loss: -0.77313\n",
      "epoch: 08, loss: -0.77960\n",
      "epoch: 09, loss: -0.80391\n"
     ]
    },
    {
     "name": "stderr",
     "output_type": "stream",
     "text": [
      "  9%|▉         | 89/1000 [33:02<5:28:22, 21.63s/it]"
     ]
    },
    {
     "name": "stdout",
     "output_type": "stream",
     "text": [
      "eigenvalues shape torch.Size([5]) eigenvectors shape torch.Size([5, 400])\n",
      "89 /home/phdcs2/Hard_Disk/Datasets/Deep-Spectral-Segmentation/data/object-segmentation/ECSSD/features/dino_vits16/0090.pth\n",
      "dict_keys(['k', 'indices', 'file', 'id', 'model_name', 'patch_size', 'shape'])\n",
      "0090\n",
      "Starting Training\n",
      "epoch: 00, loss: -0.61633\n",
      "epoch: 01, loss: -0.89950\n",
      "epoch: 02, loss: -0.85264\n",
      "epoch: 03, loss: -0.85551\n",
      "epoch: 04, loss: -0.84105\n",
      "epoch: 05, loss: -0.77017\n",
      "epoch: 06, loss: -0.76962\n",
      "epoch: 07, loss: -0.81673\n",
      "epoch: 08, loss: -0.81176\n",
      "epoch: 09, loss: -0.80099\n"
     ]
    },
    {
     "name": "stderr",
     "output_type": "stream",
     "text": [
      "  9%|▉         | 90/1000 [33:21<5:12:26, 20.60s/it]"
     ]
    },
    {
     "name": "stdout",
     "output_type": "stream",
     "text": [
      "eigenvalues shape torch.Size([5]) eigenvectors shape torch.Size([5, 400])\n",
      "90 /home/phdcs2/Hard_Disk/Datasets/Deep-Spectral-Segmentation/data/object-segmentation/ECSSD/features/dino_vits16/0091.pth\n",
      "dict_keys(['k', 'indices', 'file', 'id', 'model_name', 'patch_size', 'shape'])\n",
      "0091\n",
      "Starting Training\n",
      "epoch: 00, loss: -0.41153\n",
      "epoch: 01, loss: -0.67226\n",
      "epoch: 02, loss: -0.75037\n",
      "epoch: 03, loss: -0.79325\n",
      "epoch: 04, loss: -0.81423\n",
      "epoch: 05, loss: -0.83964\n",
      "epoch: 06, loss: -0.84610\n",
      "epoch: 07, loss: -0.84848\n",
      "epoch: 08, loss: -0.85033\n",
      "epoch: 09, loss: -0.86046\n"
     ]
    },
    {
     "name": "stderr",
     "output_type": "stream",
     "text": [
      "  9%|▉         | 91/1000 [33:39<5:03:18, 20.02s/it]"
     ]
    },
    {
     "name": "stdout",
     "output_type": "stream",
     "text": [
      "eigenvalues shape torch.Size([5]) eigenvectors shape torch.Size([5, 400])\n",
      "91 /home/phdcs2/Hard_Disk/Datasets/Deep-Spectral-Segmentation/data/object-segmentation/ECSSD/features/dino_vits16/0092.pth\n",
      "dict_keys(['k', 'indices', 'file', 'id', 'model_name', 'patch_size', 'shape'])\n",
      "0092\n",
      "Starting Training\n",
      "epoch: 00, loss: -0.35447\n",
      "epoch: 01, loss: -0.68203\n",
      "epoch: 02, loss: -0.78036\n",
      "epoch: 03, loss: -0.82145\n",
      "epoch: 04, loss: -0.82053\n",
      "epoch: 05, loss: -0.84103\n",
      "epoch: 06, loss: -0.84444\n",
      "epoch: 07, loss: -0.85972\n",
      "epoch: 08, loss: -0.86744\n",
      "epoch: 09, loss: -0.87096\n"
     ]
    },
    {
     "name": "stderr",
     "output_type": "stream",
     "text": [
      "  9%|▉         | 92/1000 [33:59<5:03:38, 20.06s/it]"
     ]
    },
    {
     "name": "stdout",
     "output_type": "stream",
     "text": [
      "eigenvalues shape torch.Size([5]) eigenvectors shape torch.Size([5, 400])\n",
      "92 /home/phdcs2/Hard_Disk/Datasets/Deep-Spectral-Segmentation/data/object-segmentation/ECSSD/features/dino_vits16/0093.pth\n",
      "dict_keys(['k', 'indices', 'file', 'id', 'model_name', 'patch_size', 'shape'])\n",
      "0093\n",
      "Starting Training\n",
      "epoch: 00, loss: -0.50629\n",
      "epoch: 01, loss: -0.82524\n",
      "epoch: 02, loss: -0.79435\n",
      "epoch: 03, loss: -0.87645\n",
      "epoch: 04, loss: -0.88321\n",
      "epoch: 05, loss: -0.88192\n",
      "epoch: 06, loss: -0.87572\n",
      "epoch: 07, loss: -0.89371\n",
      "epoch: 08, loss: -0.87872\n",
      "epoch: 09, loss: -0.87953\n"
     ]
    },
    {
     "name": "stderr",
     "output_type": "stream",
     "text": [
      "  9%|▉         | 93/1000 [34:18<4:57:48, 19.70s/it]"
     ]
    },
    {
     "name": "stdout",
     "output_type": "stream",
     "text": [
      "eigenvalues shape torch.Size([5]) eigenvectors shape torch.Size([5, 400])\n",
      "93 /home/phdcs2/Hard_Disk/Datasets/Deep-Spectral-Segmentation/data/object-segmentation/ECSSD/features/dino_vits16/0094.pth\n",
      "dict_keys(['k', 'indices', 'file', 'id', 'model_name', 'patch_size', 'shape'])\n",
      "0094\n",
      "Starting Training\n",
      "epoch: 00, loss: -0.60512\n",
      "epoch: 01, loss: -0.87310\n",
      "epoch: 02, loss: -0.87628\n",
      "epoch: 03, loss: -0.88765\n",
      "epoch: 04, loss: -0.88527\n",
      "epoch: 05, loss: -0.89006\n",
      "epoch: 06, loss: -0.85307\n",
      "epoch: 07, loss: -0.85175\n",
      "epoch: 08, loss: -0.86925\n",
      "epoch: 09, loss: -0.85284\n"
     ]
    },
    {
     "name": "stderr",
     "output_type": "stream",
     "text": [
      "  9%|▉         | 94/1000 [34:39<5:00:13, 19.88s/it]"
     ]
    },
    {
     "name": "stdout",
     "output_type": "stream",
     "text": [
      "eigenvalues shape torch.Size([5]) eigenvectors shape torch.Size([5, 400])\n",
      "94 /home/phdcs2/Hard_Disk/Datasets/Deep-Spectral-Segmentation/data/object-segmentation/ECSSD/features/dino_vits16/0095.pth\n",
      "dict_keys(['k', 'indices', 'file', 'id', 'model_name', 'patch_size', 'shape'])\n",
      "0095\n",
      "Starting Training\n",
      "epoch: 00, loss: -0.54295\n",
      "epoch: 01, loss: -0.73922\n",
      "epoch: 02, loss: -0.74433\n",
      "epoch: 03, loss: -0.76245\n",
      "epoch: 04, loss: -0.74548\n",
      "epoch: 05, loss: -0.73155\n",
      "epoch: 06, loss: -0.75023\n",
      "epoch: 07, loss: -0.79113\n",
      "epoch: 08, loss: -0.79360\n",
      "epoch: 09, loss: -0.80786\n"
     ]
    },
    {
     "name": "stderr",
     "output_type": "stream",
     "text": [
      " 10%|▉         | 95/1000 [34:58<4:57:38, 19.73s/it]"
     ]
    },
    {
     "name": "stdout",
     "output_type": "stream",
     "text": [
      "eigenvalues shape torch.Size([5]) eigenvectors shape torch.Size([5, 400])\n",
      "95 /home/phdcs2/Hard_Disk/Datasets/Deep-Spectral-Segmentation/data/object-segmentation/ECSSD/features/dino_vits16/0096.pth\n",
      "dict_keys(['k', 'indices', 'file', 'id', 'model_name', 'patch_size', 'shape'])\n",
      "0096\n",
      "Starting Training\n",
      "epoch: 00, loss: -0.30445\n",
      "epoch: 01, loss: -0.66399\n",
      "epoch: 02, loss: -0.68530\n",
      "epoch: 03, loss: -0.75460\n",
      "epoch: 04, loss: -0.77917\n",
      "epoch: 05, loss: -0.79770\n",
      "epoch: 06, loss: -0.78806\n",
      "epoch: 07, loss: -0.77170\n",
      "epoch: 08, loss: -0.78378\n",
      "epoch: 09, loss: -0.78532\n"
     ]
    },
    {
     "name": "stderr",
     "output_type": "stream",
     "text": [
      " 10%|▉         | 96/1000 [35:18<4:59:01, 19.85s/it]"
     ]
    },
    {
     "name": "stdout",
     "output_type": "stream",
     "text": [
      "eigenvalues shape torch.Size([5]) eigenvectors shape torch.Size([5, 400])\n",
      "96 /home/phdcs2/Hard_Disk/Datasets/Deep-Spectral-Segmentation/data/object-segmentation/ECSSD/features/dino_vits16/0097.pth\n",
      "dict_keys(['k', 'indices', 'file', 'id', 'model_name', 'patch_size', 'shape'])\n",
      "0097\n",
      "Starting Training\n",
      "epoch: 00, loss: -0.37010\n",
      "epoch: 01, loss: -0.84443\n",
      "epoch: 02, loss: -0.86704\n",
      "epoch: 03, loss: -0.86326\n",
      "epoch: 04, loss: -0.86794\n",
      "epoch: 05, loss: -0.87781\n",
      "epoch: 06, loss: -0.86057\n",
      "epoch: 07, loss: -0.86455\n",
      "epoch: 08, loss: -0.85599\n",
      "epoch: 09, loss: -0.87551\n"
     ]
    },
    {
     "name": "stderr",
     "output_type": "stream",
     "text": [
      " 10%|▉         | 97/1000 [35:38<4:58:36, 19.84s/it]"
     ]
    },
    {
     "name": "stdout",
     "output_type": "stream",
     "text": [
      "eigenvalues shape torch.Size([5]) eigenvectors shape torch.Size([5, 400])\n",
      "97 /home/phdcs2/Hard_Disk/Datasets/Deep-Spectral-Segmentation/data/object-segmentation/ECSSD/features/dino_vits16/0098.pth\n",
      "dict_keys(['k', 'indices', 'file', 'id', 'model_name', 'patch_size', 'shape'])\n",
      "0098\n",
      "Starting Training\n",
      "epoch: 00, loss: -0.46705\n",
      "epoch: 01, loss: -0.72443\n",
      "epoch: 02, loss: -0.79223\n",
      "epoch: 03, loss: -0.81151\n",
      "epoch: 04, loss: -0.84588\n",
      "epoch: 05, loss: -0.86582\n",
      "epoch: 06, loss: -0.87517\n",
      "epoch: 07, loss: -0.89534\n",
      "epoch: 08, loss: -0.88747\n",
      "epoch: 09, loss: -0.88928\n"
     ]
    },
    {
     "name": "stderr",
     "output_type": "stream",
     "text": [
      " 10%|▉         | 98/1000 [35:58<4:58:25, 19.85s/it]"
     ]
    },
    {
     "name": "stdout",
     "output_type": "stream",
     "text": [
      "eigenvalues shape torch.Size([5]) eigenvectors shape torch.Size([5, 400])\n",
      "98 /home/phdcs2/Hard_Disk/Datasets/Deep-Spectral-Segmentation/data/object-segmentation/ECSSD/features/dino_vits16/0099.pth\n",
      "dict_keys(['k', 'indices', 'file', 'id', 'model_name', 'patch_size', 'shape'])\n",
      "0099\n",
      "Starting Training\n",
      "epoch: 00, loss: -0.22754\n",
      "epoch: 01, loss: -0.58941\n",
      "epoch: 02, loss: -0.72341\n",
      "epoch: 03, loss: -0.75687\n",
      "epoch: 04, loss: -0.78962\n",
      "epoch: 05, loss: -0.79501\n",
      "epoch: 06, loss: -0.78364\n",
      "epoch: 07, loss: -0.78756\n",
      "epoch: 08, loss: -0.78740\n",
      "epoch: 09, loss: -0.75077\n"
     ]
    },
    {
     "name": "stderr",
     "output_type": "stream",
     "text": [
      " 10%|▉         | 99/1000 [36:19<5:02:29, 20.14s/it]"
     ]
    },
    {
     "name": "stdout",
     "output_type": "stream",
     "text": [
      "eigenvalues shape torch.Size([5]) eigenvectors shape torch.Size([5, 400])\n",
      "99 /home/phdcs2/Hard_Disk/Datasets/Deep-Spectral-Segmentation/data/object-segmentation/ECSSD/features/dino_vits16/0100.pth\n",
      "dict_keys(['k', 'indices', 'file', 'id', 'model_name', 'patch_size', 'shape'])\n",
      "0100\n",
      "Starting Training\n",
      "epoch: 00, loss: -0.41192\n",
      "epoch: 01, loss: -0.73580\n",
      "epoch: 02, loss: -0.83361\n",
      "epoch: 03, loss: -0.87713\n",
      "epoch: 04, loss: -0.87544\n",
      "epoch: 05, loss: -0.88811\n",
      "epoch: 06, loss: -0.89962\n",
      "epoch: 07, loss: -0.80720\n",
      "epoch: 08, loss: -0.82941\n",
      "epoch: 09, loss: -0.81372\n"
     ]
    },
    {
     "name": "stderr",
     "output_type": "stream",
     "text": [
      " 10%|█         | 100/1000 [36:37<4:53:58, 19.60s/it]"
     ]
    },
    {
     "name": "stdout",
     "output_type": "stream",
     "text": [
      "eigenvalues shape torch.Size([5]) eigenvectors shape torch.Size([5, 400])\n",
      "100 /home/phdcs2/Hard_Disk/Datasets/Deep-Spectral-Segmentation/data/object-segmentation/ECSSD/features/dino_vits16/0101.pth\n",
      "dict_keys(['k', 'indices', 'file', 'id', 'model_name', 'patch_size', 'shape'])\n",
      "0101\n",
      "Starting Training\n",
      "epoch: 00, loss: -0.67971\n",
      "epoch: 01, loss: -0.89376\n",
      "epoch: 02, loss: -0.85211\n",
      "epoch: 03, loss: -0.84558\n",
      "epoch: 04, loss: -0.82563\n",
      "epoch: 05, loss: -0.81983\n",
      "epoch: 06, loss: -0.82575\n",
      "epoch: 07, loss: -0.82880\n",
      "epoch: 08, loss: -0.79236\n",
      "epoch: 09, loss: -0.81282\n"
     ]
    },
    {
     "name": "stderr",
     "output_type": "stream",
     "text": [
      " 10%|█         | 101/1000 [36:56<4:49:07, 19.30s/it]"
     ]
    },
    {
     "name": "stdout",
     "output_type": "stream",
     "text": [
      "eigenvalues shape torch.Size([5]) eigenvectors shape torch.Size([5, 400])\n",
      "101 /home/phdcs2/Hard_Disk/Datasets/Deep-Spectral-Segmentation/data/object-segmentation/ECSSD/features/dino_vits16/0102.pth\n",
      "dict_keys(['k', 'indices', 'file', 'id', 'model_name', 'patch_size', 'shape'])\n",
      "0102\n",
      "Starting Training\n",
      "epoch: 00, loss: -0.61893\n",
      "epoch: 01, loss: -0.93138\n",
      "epoch: 02, loss: -0.92724\n",
      "epoch: 03, loss: -0.93931\n",
      "epoch: 04, loss: -0.94049\n",
      "epoch: 05, loss: -0.94296\n",
      "epoch: 06, loss: -0.93336\n",
      "epoch: 07, loss: -0.95056\n",
      "epoch: 08, loss: -0.92429\n",
      "epoch: 09, loss: -0.86650\n"
     ]
    },
    {
     "name": "stderr",
     "output_type": "stream",
     "text": [
      " 10%|█         | 102/1000 [37:14<4:43:57, 18.97s/it]"
     ]
    },
    {
     "name": "stdout",
     "output_type": "stream",
     "text": [
      "eigenvalues shape torch.Size([5]) eigenvectors shape torch.Size([5, 400])\n",
      "102 /home/phdcs2/Hard_Disk/Datasets/Deep-Spectral-Segmentation/data/object-segmentation/ECSSD/features/dino_vits16/0103.pth\n",
      "dict_keys(['k', 'indices', 'file', 'id', 'model_name', 'patch_size', 'shape'])\n",
      "0103\n",
      "Starting Training\n",
      "epoch: 00, loss: -0.48721\n",
      "epoch: 01, loss: -0.81865\n",
      "epoch: 02, loss: -0.79214\n",
      "epoch: 03, loss: -0.76749\n",
      "epoch: 04, loss: -0.63628\n",
      "epoch: 05, loss: -0.64881\n",
      "epoch: 06, loss: -0.71259\n",
      "epoch: 07, loss: -0.74011\n",
      "epoch: 08, loss: -0.75690\n",
      "epoch: 09, loss: -0.74850\n"
     ]
    },
    {
     "name": "stderr",
     "output_type": "stream",
     "text": [
      " 10%|█         | 103/1000 [37:32<4:41:07, 18.80s/it]"
     ]
    },
    {
     "name": "stdout",
     "output_type": "stream",
     "text": [
      "eigenvalues shape torch.Size([5]) eigenvectors shape torch.Size([5, 400])\n",
      "103 /home/phdcs2/Hard_Disk/Datasets/Deep-Spectral-Segmentation/data/object-segmentation/ECSSD/features/dino_vits16/0104.pth\n",
      "dict_keys(['k', 'indices', 'file', 'id', 'model_name', 'patch_size', 'shape'])\n",
      "0104\n",
      "Starting Training\n",
      "epoch: 00, loss: -0.47305\n",
      "epoch: 01, loss: -0.83646\n",
      "epoch: 02, loss: -0.88313\n",
      "epoch: 03, loss: -0.88514\n",
      "epoch: 04, loss: -0.88444\n",
      "epoch: 05, loss: -0.88133\n",
      "epoch: 06, loss: -0.89514\n",
      "epoch: 07, loss: -0.88564\n",
      "epoch: 08, loss: -0.87515\n",
      "epoch: 09, loss: -0.87537\n"
     ]
    },
    {
     "name": "stderr",
     "output_type": "stream",
     "text": [
      " 10%|█         | 104/1000 [37:52<4:46:04, 19.16s/it]"
     ]
    },
    {
     "name": "stdout",
     "output_type": "stream",
     "text": [
      "eigenvalues shape torch.Size([5]) eigenvectors shape torch.Size([5, 400])\n",
      "104 /home/phdcs2/Hard_Disk/Datasets/Deep-Spectral-Segmentation/data/object-segmentation/ECSSD/features/dino_vits16/0105.pth\n",
      "dict_keys(['k', 'indices', 'file', 'id', 'model_name', 'patch_size', 'shape'])\n",
      "0105\n",
      "Starting Training\n",
      "epoch: 00, loss: -0.49034\n",
      "epoch: 01, loss: -0.82891\n",
      "epoch: 02, loss: -0.83865\n",
      "epoch: 03, loss: -0.82368\n",
      "epoch: 04, loss: -0.83699\n",
      "epoch: 05, loss: -0.83864\n",
      "epoch: 06, loss: -0.85495\n",
      "epoch: 07, loss: -0.85879\n",
      "epoch: 08, loss: -0.86322\n",
      "epoch: 09, loss: -0.86406\n"
     ]
    },
    {
     "name": "stderr",
     "output_type": "stream",
     "text": [
      " 10%|█         | 105/1000 [38:14<4:57:45, 19.96s/it]"
     ]
    },
    {
     "name": "stdout",
     "output_type": "stream",
     "text": [
      "eigenvalues shape torch.Size([5]) eigenvectors shape torch.Size([5, 400])\n",
      "105 /home/phdcs2/Hard_Disk/Datasets/Deep-Spectral-Segmentation/data/object-segmentation/ECSSD/features/dino_vits16/0106.pth\n",
      "dict_keys(['k', 'indices', 'file', 'id', 'model_name', 'patch_size', 'shape'])\n",
      "0106\n",
      "Starting Training\n",
      "epoch: 00, loss: -0.35558\n",
      "epoch: 01, loss: -0.61812\n",
      "epoch: 02, loss: -0.67510\n",
      "epoch: 03, loss: -0.74511\n",
      "epoch: 04, loss: -0.81205\n",
      "epoch: 05, loss: -0.77457\n",
      "epoch: 06, loss: -0.78638\n",
      "epoch: 07, loss: -0.79906\n",
      "epoch: 08, loss: -0.78266\n",
      "epoch: 09, loss: -0.79108\n"
     ]
    },
    {
     "name": "stderr",
     "output_type": "stream",
     "text": [
      " 11%|█         | 106/1000 [38:35<5:02:10, 20.28s/it]"
     ]
    },
    {
     "name": "stdout",
     "output_type": "stream",
     "text": [
      "eigenvalues shape torch.Size([5]) eigenvectors shape torch.Size([5, 400])\n",
      "106 /home/phdcs2/Hard_Disk/Datasets/Deep-Spectral-Segmentation/data/object-segmentation/ECSSD/features/dino_vits16/0107.pth\n",
      "dict_keys(['k', 'indices', 'file', 'id', 'model_name', 'patch_size', 'shape'])\n",
      "0107\n",
      "Starting Training\n",
      "epoch: 00, loss: -0.37698\n",
      "epoch: 01, loss: -0.78306\n",
      "epoch: 02, loss: -0.79389\n",
      "epoch: 03, loss: -0.77908\n",
      "epoch: 04, loss: -0.77312\n",
      "epoch: 05, loss: -0.79891\n",
      "epoch: 06, loss: -0.77322\n",
      "epoch: 07, loss: -0.80982\n",
      "epoch: 08, loss: -0.81279\n",
      "epoch: 09, loss: -0.81889\n"
     ]
    },
    {
     "name": "stderr",
     "output_type": "stream",
     "text": [
      " 11%|█         | 107/1000 [38:55<4:58:47, 20.08s/it]"
     ]
    },
    {
     "name": "stdout",
     "output_type": "stream",
     "text": [
      "eigenvalues shape torch.Size([5]) eigenvectors shape torch.Size([5, 400])\n",
      "107 /home/phdcs2/Hard_Disk/Datasets/Deep-Spectral-Segmentation/data/object-segmentation/ECSSD/features/dino_vits16/0108.pth\n",
      "dict_keys(['k', 'indices', 'file', 'id', 'model_name', 'patch_size', 'shape'])\n",
      "0108\n",
      "Starting Training\n",
      "epoch: 00, loss: -0.35433\n",
      "epoch: 01, loss: -0.73047\n",
      "epoch: 02, loss: -0.76006\n",
      "epoch: 03, loss: -0.81677\n",
      "epoch: 04, loss: -0.84519\n",
      "epoch: 05, loss: -0.84835\n",
      "epoch: 06, loss: -0.83867\n",
      "epoch: 07, loss: -0.82354\n",
      "epoch: 08, loss: -0.84790\n",
      "epoch: 09, loss: -0.85223\n"
     ]
    },
    {
     "name": "stderr",
     "output_type": "stream",
     "text": [
      " 11%|█         | 108/1000 [39:13<4:48:57, 19.44s/it]"
     ]
    },
    {
     "name": "stdout",
     "output_type": "stream",
     "text": [
      "eigenvalues shape torch.Size([5]) eigenvectors shape torch.Size([5, 400])\n",
      "108 /home/phdcs2/Hard_Disk/Datasets/Deep-Spectral-Segmentation/data/object-segmentation/ECSSD/features/dino_vits16/0109.pth\n",
      "dict_keys(['k', 'indices', 'file', 'id', 'model_name', 'patch_size', 'shape'])\n",
      "0109\n",
      "Starting Training\n",
      "epoch: 00, loss: -0.38590\n",
      "epoch: 01, loss: -0.68556\n",
      "epoch: 02, loss: -0.74505\n",
      "epoch: 03, loss: -0.72299\n",
      "epoch: 04, loss: -0.74716\n",
      "epoch: 05, loss: -0.78108\n",
      "epoch: 06, loss: -0.78536\n",
      "epoch: 07, loss: -0.79271\n",
      "epoch: 08, loss: -0.78587\n",
      "epoch: 09, loss: -0.79777\n"
     ]
    },
    {
     "name": "stderr",
     "output_type": "stream",
     "text": [
      " 11%|█         | 109/1000 [39:36<5:07:36, 20.71s/it]"
     ]
    },
    {
     "name": "stdout",
     "output_type": "stream",
     "text": [
      "eigenvalues shape torch.Size([5]) eigenvectors shape torch.Size([5, 400])\n",
      "109 /home/phdcs2/Hard_Disk/Datasets/Deep-Spectral-Segmentation/data/object-segmentation/ECSSD/features/dino_vits16/0110.pth\n",
      "dict_keys(['k', 'indices', 'file', 'id', 'model_name', 'patch_size', 'shape'])\n",
      "0110\n",
      "Starting Training\n",
      "epoch: 00, loss: -0.55873\n",
      "epoch: 01, loss: -0.85712\n",
      "epoch: 02, loss: -0.89351\n",
      "epoch: 03, loss: -0.88420\n",
      "epoch: 04, loss: -0.83584\n",
      "epoch: 05, loss: -0.75005\n",
      "epoch: 06, loss: -0.78446\n",
      "epoch: 07, loss: -0.84800\n",
      "epoch: 08, loss: -0.87482\n",
      "epoch: 09, loss: -0.87462\n"
     ]
    },
    {
     "name": "stderr",
     "output_type": "stream",
     "text": [
      " 11%|█         | 110/1000 [39:59<5:16:22, 21.33s/it]"
     ]
    },
    {
     "name": "stdout",
     "output_type": "stream",
     "text": [
      "eigenvalues shape torch.Size([5]) eigenvectors shape torch.Size([5, 400])\n",
      "110 /home/phdcs2/Hard_Disk/Datasets/Deep-Spectral-Segmentation/data/object-segmentation/ECSSD/features/dino_vits16/0111.pth\n",
      "dict_keys(['k', 'indices', 'file', 'id', 'model_name', 'patch_size', 'shape'])\n",
      "0111\n",
      "Starting Training\n",
      "epoch: 00, loss: -0.48417\n",
      "epoch: 01, loss: -0.74702\n",
      "epoch: 02, loss: -0.73843\n",
      "epoch: 03, loss: -0.78609\n",
      "epoch: 04, loss: -0.81937\n",
      "epoch: 05, loss: -0.83018\n",
      "epoch: 06, loss: -0.83370\n",
      "epoch: 07, loss: -0.82844\n",
      "epoch: 08, loss: -0.83772\n",
      "epoch: 09, loss: -0.85489\n"
     ]
    },
    {
     "name": "stderr",
     "output_type": "stream",
     "text": [
      " 11%|█         | 111/1000 [40:23<5:26:53, 22.06s/it]"
     ]
    },
    {
     "name": "stdout",
     "output_type": "stream",
     "text": [
      "eigenvalues shape torch.Size([5]) eigenvectors shape torch.Size([5, 400])\n",
      "111 /home/phdcs2/Hard_Disk/Datasets/Deep-Spectral-Segmentation/data/object-segmentation/ECSSD/features/dino_vits16/0112.pth\n",
      "dict_keys(['k', 'indices', 'file', 'id', 'model_name', 'patch_size', 'shape'])\n",
      "0112\n",
      "Starting Training\n",
      "epoch: 00, loss: -0.30824\n",
      "epoch: 01, loss: -0.70360\n",
      "epoch: 02, loss: -0.75764\n",
      "epoch: 03, loss: -0.77043\n",
      "epoch: 04, loss: -0.82426\n",
      "epoch: 05, loss: -0.83711\n",
      "epoch: 06, loss: -0.85802\n",
      "epoch: 07, loss: -0.83495\n",
      "epoch: 08, loss: -0.85704\n",
      "epoch: 09, loss: -0.83900\n"
     ]
    },
    {
     "name": "stderr",
     "output_type": "stream",
     "text": [
      " 11%|█         | 112/1000 [40:45<5:25:28, 21.99s/it]"
     ]
    },
    {
     "name": "stdout",
     "output_type": "stream",
     "text": [
      "eigenvalues shape torch.Size([5]) eigenvectors shape torch.Size([5, 400])\n",
      "112 /home/phdcs2/Hard_Disk/Datasets/Deep-Spectral-Segmentation/data/object-segmentation/ECSSD/features/dino_vits16/0113.pth\n",
      "dict_keys(['k', 'indices', 'file', 'id', 'model_name', 'patch_size', 'shape'])\n",
      "0113\n",
      "Starting Training\n",
      "epoch: 00, loss: -0.31294\n",
      "epoch: 01, loss: -0.73106\n",
      "epoch: 02, loss: -0.71807\n",
      "epoch: 03, loss: -0.71896\n",
      "epoch: 04, loss: -0.75075\n",
      "epoch: 05, loss: -0.76500\n",
      "epoch: 06, loss: -0.79008\n",
      "epoch: 07, loss: -0.82080\n",
      "epoch: 08, loss: -0.80619\n",
      "epoch: 09, loss: -0.81516\n"
     ]
    },
    {
     "name": "stderr",
     "output_type": "stream",
     "text": [
      " 11%|█▏        | 113/1000 [41:04<5:13:41, 21.22s/it]"
     ]
    },
    {
     "name": "stdout",
     "output_type": "stream",
     "text": [
      "eigenvalues shape torch.Size([5]) eigenvectors shape torch.Size([5, 400])\n",
      "113 /home/phdcs2/Hard_Disk/Datasets/Deep-Spectral-Segmentation/data/object-segmentation/ECSSD/features/dino_vits16/0114.pth\n",
      "dict_keys(['k', 'indices', 'file', 'id', 'model_name', 'patch_size', 'shape'])\n",
      "0114\n",
      "Starting Training\n",
      "epoch: 00, loss: -0.28379\n",
      "epoch: 01, loss: -0.69983\n",
      "epoch: 02, loss: -0.77737\n",
      "epoch: 03, loss: -0.80640\n",
      "epoch: 04, loss: -0.82780\n",
      "epoch: 05, loss: -0.85744\n",
      "epoch: 06, loss: -0.86772\n",
      "epoch: 07, loss: -0.86913\n",
      "epoch: 08, loss: -0.86548\n",
      "epoch: 09, loss: -0.87149\n"
     ]
    },
    {
     "name": "stderr",
     "output_type": "stream",
     "text": [
      " 11%|█▏        | 114/1000 [41:22<4:59:45, 20.30s/it]"
     ]
    },
    {
     "name": "stdout",
     "output_type": "stream",
     "text": [
      "eigenvalues shape torch.Size([5]) eigenvectors shape torch.Size([5, 400])\n",
      "114 /home/phdcs2/Hard_Disk/Datasets/Deep-Spectral-Segmentation/data/object-segmentation/ECSSD/features/dino_vits16/0115.pth\n",
      "dict_keys(['k', 'indices', 'file', 'id', 'model_name', 'patch_size', 'shape'])\n",
      "0115\n",
      "Starting Training\n",
      "epoch: 00, loss: -0.28966\n",
      "epoch: 01, loss: -0.61873\n",
      "epoch: 02, loss: -0.71347\n",
      "epoch: 03, loss: -0.72913\n",
      "epoch: 04, loss: -0.75340\n",
      "epoch: 05, loss: -0.77146\n",
      "epoch: 06, loss: -0.78368\n",
      "epoch: 07, loss: -0.78694\n",
      "epoch: 08, loss: -0.78294\n",
      "epoch: 09, loss: -0.79848\n"
     ]
    },
    {
     "name": "stderr",
     "output_type": "stream",
     "text": [
      " 12%|█▏        | 115/1000 [41:40<4:49:32, 19.63s/it]"
     ]
    },
    {
     "name": "stdout",
     "output_type": "stream",
     "text": [
      "eigenvalues shape torch.Size([5]) eigenvectors shape torch.Size([5, 400])\n",
      "115 /home/phdcs2/Hard_Disk/Datasets/Deep-Spectral-Segmentation/data/object-segmentation/ECSSD/features/dino_vits16/0116.pth\n",
      "dict_keys(['k', 'indices', 'file', 'id', 'model_name', 'patch_size', 'shape'])\n",
      "0116\n",
      "Starting Training\n",
      "epoch: 00, loss: -0.56472\n",
      "epoch: 01, loss: -0.84655\n",
      "epoch: 02, loss: -0.83381\n",
      "epoch: 03, loss: -0.80588\n",
      "epoch: 04, loss: -0.69189\n",
      "epoch: 05, loss: -0.68671\n",
      "epoch: 06, loss: -0.67018\n",
      "epoch: 07, loss: -0.66743\n",
      "epoch: 08, loss: -0.70537\n",
      "epoch: 09, loss: -0.72677\n"
     ]
    },
    {
     "name": "stderr",
     "output_type": "stream",
     "text": [
      " 12%|█▏        | 116/1000 [41:59<4:44:41, 19.32s/it]"
     ]
    },
    {
     "name": "stdout",
     "output_type": "stream",
     "text": [
      "eigenvalues shape torch.Size([5]) eigenvectors shape torch.Size([5, 400])\n",
      "116 /home/phdcs2/Hard_Disk/Datasets/Deep-Spectral-Segmentation/data/object-segmentation/ECSSD/features/dino_vits16/0117.pth\n",
      "dict_keys(['k', 'indices', 'file', 'id', 'model_name', 'patch_size', 'shape'])\n",
      "0117\n",
      "Starting Training\n",
      "epoch: 00, loss: -0.25663\n",
      "epoch: 01, loss: -0.64486\n",
      "epoch: 02, loss: -0.73295\n",
      "epoch: 03, loss: -0.70518\n",
      "epoch: 04, loss: -0.72843\n",
      "epoch: 05, loss: -0.72336\n",
      "epoch: 06, loss: -0.73657\n",
      "epoch: 07, loss: -0.74043\n",
      "epoch: 08, loss: -0.70786\n",
      "epoch: 09, loss: -0.71564\n"
     ]
    },
    {
     "name": "stderr",
     "output_type": "stream",
     "text": [
      " 12%|█▏        | 117/1000 [42:19<4:46:32, 19.47s/it]"
     ]
    },
    {
     "name": "stdout",
     "output_type": "stream",
     "text": [
      "eigenvalues shape torch.Size([5]) eigenvectors shape torch.Size([5, 400])\n",
      "117 /home/phdcs2/Hard_Disk/Datasets/Deep-Spectral-Segmentation/data/object-segmentation/ECSSD/features/dino_vits16/0118.pth\n",
      "dict_keys(['k', 'indices', 'file', 'id', 'model_name', 'patch_size', 'shape'])\n",
      "0118\n",
      "Starting Training\n",
      "epoch: 00, loss: -0.52948\n",
      "epoch: 01, loss: -0.80705\n",
      "epoch: 02, loss: -0.84950\n",
      "epoch: 03, loss: -0.84517\n",
      "epoch: 04, loss: -0.83691\n",
      "epoch: 05, loss: -0.83303\n",
      "epoch: 06, loss: -0.84644\n",
      "epoch: 07, loss: -0.83865\n",
      "epoch: 08, loss: -0.82259\n",
      "epoch: 09, loss: -0.81359\n"
     ]
    },
    {
     "name": "stderr",
     "output_type": "stream",
     "text": [
      " 12%|█▏        | 118/1000 [42:38<4:47:17, 19.54s/it]"
     ]
    },
    {
     "name": "stdout",
     "output_type": "stream",
     "text": [
      "eigenvalues shape torch.Size([5]) eigenvectors shape torch.Size([5, 400])\n",
      "118 /home/phdcs2/Hard_Disk/Datasets/Deep-Spectral-Segmentation/data/object-segmentation/ECSSD/features/dino_vits16/0119.pth\n",
      "dict_keys(['k', 'indices', 'file', 'id', 'model_name', 'patch_size', 'shape'])\n",
      "0119\n",
      "Starting Training\n",
      "epoch: 00, loss: -0.44038\n",
      "epoch: 01, loss: -0.70320\n",
      "epoch: 02, loss: -0.70083\n",
      "epoch: 03, loss: -0.69762\n",
      "epoch: 04, loss: -0.70226\n",
      "epoch: 05, loss: -0.72377\n",
      "epoch: 06, loss: -0.75490\n",
      "epoch: 07, loss: -0.75412\n",
      "epoch: 08, loss: -0.77196\n",
      "epoch: 09, loss: -0.78190\n"
     ]
    },
    {
     "name": "stderr",
     "output_type": "stream",
     "text": [
      " 12%|█▏        | 119/1000 [43:01<5:01:15, 20.52s/it]"
     ]
    },
    {
     "name": "stdout",
     "output_type": "stream",
     "text": [
      "eigenvalues shape torch.Size([5]) eigenvectors shape torch.Size([5, 400])\n",
      "119 /home/phdcs2/Hard_Disk/Datasets/Deep-Spectral-Segmentation/data/object-segmentation/ECSSD/features/dino_vits16/0120.pth\n",
      "dict_keys(['k', 'indices', 'file', 'id', 'model_name', 'patch_size', 'shape'])\n",
      "0120\n",
      "Starting Training\n",
      "epoch: 00, loss: -0.33730\n",
      "epoch: 01, loss: -0.75932\n",
      "epoch: 02, loss: -0.76519\n",
      "epoch: 03, loss: -0.77276\n",
      "epoch: 04, loss: -0.76929\n",
      "epoch: 05, loss: -0.79393\n",
      "epoch: 06, loss: -0.79485\n",
      "epoch: 07, loss: -0.82680\n",
      "epoch: 08, loss: -0.82436\n",
      "epoch: 09, loss: -0.81618\n"
     ]
    },
    {
     "name": "stderr",
     "output_type": "stream",
     "text": [
      " 12%|█▏        | 120/1000 [43:20<4:55:33, 20.15s/it]"
     ]
    },
    {
     "name": "stdout",
     "output_type": "stream",
     "text": [
      "eigenvalues shape torch.Size([5]) eigenvectors shape torch.Size([5, 400])\n",
      "120 /home/phdcs2/Hard_Disk/Datasets/Deep-Spectral-Segmentation/data/object-segmentation/ECSSD/features/dino_vits16/0121.pth\n",
      "dict_keys(['k', 'indices', 'file', 'id', 'model_name', 'patch_size', 'shape'])\n",
      "0121\n",
      "Starting Training\n",
      "epoch: 00, loss: -0.44928\n",
      "epoch: 01, loss: -0.76246\n",
      "epoch: 02, loss: -0.74332\n",
      "epoch: 03, loss: -0.74653\n",
      "epoch: 04, loss: -0.75890\n",
      "epoch: 05, loss: -0.77962\n",
      "epoch: 06, loss: -0.78782\n",
      "epoch: 07, loss: -0.78662\n",
      "epoch: 08, loss: -0.80663\n",
      "epoch: 09, loss: -0.81185\n"
     ]
    },
    {
     "name": "stderr",
     "output_type": "stream",
     "text": [
      " 12%|█▏        | 121/1000 [43:43<5:04:10, 20.76s/it]"
     ]
    },
    {
     "name": "stdout",
     "output_type": "stream",
     "text": [
      "eigenvalues shape torch.Size([5]) eigenvectors shape torch.Size([5, 400])\n",
      "121 /home/phdcs2/Hard_Disk/Datasets/Deep-Spectral-Segmentation/data/object-segmentation/ECSSD/features/dino_vits16/0122.pth\n",
      "dict_keys(['k', 'indices', 'file', 'id', 'model_name', 'patch_size', 'shape'])\n",
      "0122\n",
      "Starting Training\n",
      "epoch: 00, loss: -0.36903\n",
      "epoch: 01, loss: -0.65947\n",
      "epoch: 02, loss: -0.73258\n",
      "epoch: 03, loss: -0.78825\n",
      "epoch: 04, loss: -0.80941\n",
      "epoch: 05, loss: -0.82596\n",
      "epoch: 06, loss: -0.86948\n",
      "epoch: 07, loss: -0.88975\n",
      "epoch: 08, loss: -0.90235\n",
      "epoch: 09, loss: -0.89903\n"
     ]
    },
    {
     "name": "stderr",
     "output_type": "stream",
     "text": [
      " 12%|█▏        | 122/1000 [44:05<5:11:43, 21.30s/it]"
     ]
    },
    {
     "name": "stdout",
     "output_type": "stream",
     "text": [
      "eigenvalues shape torch.Size([5]) eigenvectors shape torch.Size([5, 400])\n",
      "122 /home/phdcs2/Hard_Disk/Datasets/Deep-Spectral-Segmentation/data/object-segmentation/ECSSD/features/dino_vits16/0123.pth\n",
      "dict_keys(['k', 'indices', 'file', 'id', 'model_name', 'patch_size', 'shape'])\n",
      "0123\n",
      "Starting Training\n",
      "epoch: 00, loss: -0.38652\n",
      "epoch: 01, loss: -0.66198\n",
      "epoch: 02, loss: -0.76921\n",
      "epoch: 03, loss: -0.77501\n",
      "epoch: 04, loss: -0.74930\n",
      "epoch: 05, loss: -0.74287\n",
      "epoch: 06, loss: -0.74234\n",
      "epoch: 07, loss: -0.68614\n",
      "epoch: 08, loss: -0.69916\n",
      "epoch: 09, loss: -0.77554\n"
     ]
    },
    {
     "name": "stderr",
     "output_type": "stream",
     "text": [
      " 12%|█▏        | 123/1000 [44:29<5:21:56, 22.03s/it]"
     ]
    },
    {
     "name": "stdout",
     "output_type": "stream",
     "text": [
      "eigenvalues shape torch.Size([5]) eigenvectors shape torch.Size([5, 400])\n",
      "123 /home/phdcs2/Hard_Disk/Datasets/Deep-Spectral-Segmentation/data/object-segmentation/ECSSD/features/dino_vits16/0124.pth\n",
      "dict_keys(['k', 'indices', 'file', 'id', 'model_name', 'patch_size', 'shape'])\n",
      "0124\n",
      "Starting Training\n",
      "epoch: 00, loss: -0.67059\n",
      "epoch: 01, loss: -0.92285\n",
      "epoch: 02, loss: -0.93176\n",
      "epoch: 03, loss: -0.93194\n",
      "epoch: 04, loss: -0.93638\n",
      "epoch: 05, loss: -0.94104\n",
      "epoch: 06, loss: -0.93982\n",
      "epoch: 07, loss: -0.93935\n",
      "epoch: 08, loss: -0.93873\n",
      "epoch: 09, loss: -0.93219\n"
     ]
    },
    {
     "name": "stderr",
     "output_type": "stream",
     "text": [
      " 12%|█▏        | 124/1000 [44:57<5:47:32, 23.80s/it]"
     ]
    },
    {
     "name": "stdout",
     "output_type": "stream",
     "text": [
      "eigenvalues shape torch.Size([5]) eigenvectors shape torch.Size([5, 400])\n",
      "124 /home/phdcs2/Hard_Disk/Datasets/Deep-Spectral-Segmentation/data/object-segmentation/ECSSD/features/dino_vits16/0125.pth\n",
      "dict_keys(['k', 'indices', 'file', 'id', 'model_name', 'patch_size', 'shape'])\n",
      "0125\n",
      "Starting Training\n",
      "epoch: 00, loss: -0.49974\n",
      "epoch: 01, loss: -0.86276\n",
      "epoch: 02, loss: -0.88806\n",
      "epoch: 03, loss: -0.89201\n",
      "epoch: 04, loss: -0.87126\n",
      "epoch: 05, loss: -0.89255\n",
      "epoch: 06, loss: -0.87331\n",
      "epoch: 07, loss: -0.85060\n",
      "epoch: 08, loss: -0.84573\n",
      "epoch: 09, loss: -0.82289\n"
     ]
    },
    {
     "name": "stderr",
     "output_type": "stream",
     "text": [
      " 12%|█▎        | 125/1000 [45:23<5:58:07, 24.56s/it]"
     ]
    },
    {
     "name": "stdout",
     "output_type": "stream",
     "text": [
      "eigenvalues shape torch.Size([5]) eigenvectors shape torch.Size([5, 400])\n",
      "125 /home/phdcs2/Hard_Disk/Datasets/Deep-Spectral-Segmentation/data/object-segmentation/ECSSD/features/dino_vits16/0126.pth\n",
      "dict_keys(['k', 'indices', 'file', 'id', 'model_name', 'patch_size', 'shape'])\n",
      "0126\n",
      "Starting Training\n",
      "epoch: 00, loss: -0.42262\n",
      "epoch: 01, loss: -0.82842\n",
      "epoch: 02, loss: -0.82599\n",
      "epoch: 03, loss: -0.78954\n",
      "epoch: 04, loss: -0.79378\n",
      "epoch: 05, loss: -0.77033\n",
      "epoch: 06, loss: -0.78005\n",
      "epoch: 07, loss: -0.82708\n",
      "epoch: 08, loss: -0.80782\n",
      "epoch: 09, loss: -0.79495\n"
     ]
    },
    {
     "name": "stderr",
     "output_type": "stream",
     "text": [
      " 13%|█▎        | 126/1000 [45:45<5:46:32, 23.79s/it]"
     ]
    },
    {
     "name": "stdout",
     "output_type": "stream",
     "text": [
      "eigenvalues shape torch.Size([5]) eigenvectors shape torch.Size([5, 400])\n",
      "126 /home/phdcs2/Hard_Disk/Datasets/Deep-Spectral-Segmentation/data/object-segmentation/ECSSD/features/dino_vits16/0127.pth\n",
      "dict_keys(['k', 'indices', 'file', 'id', 'model_name', 'patch_size', 'shape'])\n",
      "0127\n",
      "Starting Training\n",
      "epoch: 00, loss: -0.30340\n",
      "epoch: 01, loss: -0.68982\n",
      "epoch: 02, loss: -0.72572\n",
      "epoch: 03, loss: -0.73902\n",
      "epoch: 04, loss: -0.73497\n",
      "epoch: 05, loss: -0.74293\n",
      "epoch: 06, loss: -0.70545\n",
      "epoch: 07, loss: -0.74085\n",
      "epoch: 08, loss: -0.74630\n",
      "epoch: 09, loss: -0.74350\n"
     ]
    },
    {
     "name": "stderr",
     "output_type": "stream",
     "text": [
      " 13%|█▎        | 127/1000 [46:07<5:38:58, 23.30s/it]"
     ]
    },
    {
     "name": "stdout",
     "output_type": "stream",
     "text": [
      "eigenvalues shape torch.Size([5]) eigenvectors shape torch.Size([5, 400])\n",
      "127 /home/phdcs2/Hard_Disk/Datasets/Deep-Spectral-Segmentation/data/object-segmentation/ECSSD/features/dino_vits16/0128.pth\n",
      "dict_keys(['k', 'indices', 'file', 'id', 'model_name', 'patch_size', 'shape'])\n",
      "0128\n",
      "Starting Training\n",
      "epoch: 00, loss: -0.25670\n",
      "epoch: 01, loss: -0.70612\n",
      "epoch: 02, loss: -0.74327\n",
      "epoch: 03, loss: -0.69972\n",
      "epoch: 04, loss: -0.66773\n",
      "epoch: 05, loss: -0.71939\n",
      "epoch: 06, loss: -0.71498\n",
      "epoch: 07, loss: -0.75547\n",
      "epoch: 08, loss: -0.76527\n",
      "epoch: 09, loss: -0.77941\n"
     ]
    },
    {
     "name": "stderr",
     "output_type": "stream",
     "text": [
      " 13%|█▎        | 128/1000 [46:27<5:21:52, 22.15s/it]"
     ]
    },
    {
     "name": "stdout",
     "output_type": "stream",
     "text": [
      "eigenvalues shape torch.Size([5]) eigenvectors shape torch.Size([5, 400])\n",
      "128 /home/phdcs2/Hard_Disk/Datasets/Deep-Spectral-Segmentation/data/object-segmentation/ECSSD/features/dino_vits16/0129.pth\n",
      "dict_keys(['k', 'indices', 'file', 'id', 'model_name', 'patch_size', 'shape'])\n",
      "0129\n",
      "Starting Training\n",
      "epoch: 00, loss: -0.29820\n",
      "epoch: 01, loss: -0.61202\n",
      "epoch: 02, loss: -0.67245\n",
      "epoch: 03, loss: -0.69301\n",
      "epoch: 04, loss: -0.71954\n",
      "epoch: 05, loss: -0.74754\n",
      "epoch: 06, loss: -0.73965\n",
      "epoch: 07, loss: -0.74773\n",
      "epoch: 08, loss: -0.76503\n",
      "epoch: 09, loss: -0.77265\n"
     ]
    },
    {
     "name": "stderr",
     "output_type": "stream",
     "text": [
      " 13%|█▎        | 129/1000 [46:48<5:18:21, 21.93s/it]"
     ]
    },
    {
     "name": "stdout",
     "output_type": "stream",
     "text": [
      "eigenvalues shape torch.Size([5]) eigenvectors shape torch.Size([5, 425])\n",
      "129 /home/phdcs2/Hard_Disk/Datasets/Deep-Spectral-Segmentation/data/object-segmentation/ECSSD/features/dino_vits16/0130.pth\n",
      "dict_keys(['k', 'indices', 'file', 'id', 'model_name', 'patch_size', 'shape'])\n",
      "0130\n",
      "Starting Training\n",
      "epoch: 00, loss: -0.55738\n",
      "epoch: 01, loss: -0.77575\n",
      "epoch: 02, loss: -0.78482\n",
      "epoch: 03, loss: -0.77394\n",
      "epoch: 04, loss: -0.78473\n",
      "epoch: 05, loss: -0.77114\n",
      "epoch: 06, loss: -0.80524\n",
      "epoch: 07, loss: -0.85105\n",
      "epoch: 08, loss: -0.87884\n",
      "epoch: 09, loss: -0.88498\n"
     ]
    },
    {
     "name": "stderr",
     "output_type": "stream",
     "text": [
      " 13%|█▎        | 130/1000 [47:12<5:25:43, 22.46s/it]"
     ]
    },
    {
     "name": "stdout",
     "output_type": "stream",
     "text": [
      "eigenvalues shape torch.Size([5]) eigenvectors shape torch.Size([5, 425])\n",
      "130 /home/phdcs2/Hard_Disk/Datasets/Deep-Spectral-Segmentation/data/object-segmentation/ECSSD/features/dino_vits16/0131.pth\n",
      "dict_keys(['k', 'indices', 'file', 'id', 'model_name', 'patch_size', 'shape'])\n",
      "0131\n",
      "Starting Training\n",
      "epoch: 00, loss: -0.49335\n",
      "epoch: 01, loss: -0.72325\n",
      "epoch: 02, loss: -0.75542\n",
      "epoch: 03, loss: -0.77939\n",
      "epoch: 04, loss: -0.80877\n",
      "epoch: 05, loss: -0.84871\n",
      "epoch: 06, loss: -0.85176\n",
      "epoch: 07, loss: -0.84945\n",
      "epoch: 08, loss: -0.83118\n",
      "epoch: 09, loss: -0.83966\n"
     ]
    },
    {
     "name": "stderr",
     "output_type": "stream",
     "text": [
      " 13%|█▎        | 131/1000 [47:40<5:48:07, 24.04s/it]"
     ]
    },
    {
     "name": "stdout",
     "output_type": "stream",
     "text": [
      "eigenvalues shape torch.Size([5]) eigenvectors shape torch.Size([5, 450])\n",
      "131 /home/phdcs2/Hard_Disk/Datasets/Deep-Spectral-Segmentation/data/object-segmentation/ECSSD/features/dino_vits16/0132.pth\n",
      "dict_keys(['k', 'indices', 'file', 'id', 'model_name', 'patch_size', 'shape'])\n",
      "0132\n",
      "Starting Training\n",
      "epoch: 00, loss: -0.41739\n",
      "epoch: 01, loss: -0.70677\n",
      "epoch: 02, loss: -0.80911\n",
      "epoch: 03, loss: -0.85500\n",
      "epoch: 04, loss: -0.87336\n",
      "epoch: 05, loss: -0.88295\n",
      "epoch: 06, loss: -0.89358\n",
      "epoch: 07, loss: -0.89470\n",
      "epoch: 08, loss: -0.89493\n",
      "epoch: 09, loss: -0.90380\n"
     ]
    },
    {
     "name": "stderr",
     "output_type": "stream",
     "text": [
      " 13%|█▎        | 132/1000 [48:08<6:06:52, 25.36s/it]"
     ]
    },
    {
     "name": "stdout",
     "output_type": "stream",
     "text": [
      "eigenvalues shape torch.Size([5]) eigenvectors shape torch.Size([5, 400])\n",
      "132 /home/phdcs2/Hard_Disk/Datasets/Deep-Spectral-Segmentation/data/object-segmentation/ECSSD/features/dino_vits16/0133.pth\n",
      "dict_keys(['k', 'indices', 'file', 'id', 'model_name', 'patch_size', 'shape'])\n",
      "0133\n",
      "Starting Training\n",
      "epoch: 00, loss: -0.71315\n",
      "epoch: 01, loss: -0.95277\n",
      "epoch: 02, loss: -0.94401\n",
      "epoch: 03, loss: -0.94359\n",
      "epoch: 04, loss: -0.94674\n",
      "epoch: 05, loss: -0.93999\n",
      "epoch: 06, loss: -0.94346\n",
      "epoch: 07, loss: -0.93847\n",
      "epoch: 08, loss: -0.91813\n",
      "epoch: 09, loss: -0.89774\n"
     ]
    },
    {
     "name": "stderr",
     "output_type": "stream",
     "text": [
      " 13%|█▎        | 133/1000 [48:45<6:57:44, 28.91s/it]"
     ]
    },
    {
     "name": "stdout",
     "output_type": "stream",
     "text": [
      "eigenvalues shape torch.Size([5]) eigenvectors shape torch.Size([5, 525])\n",
      "133 /home/phdcs2/Hard_Disk/Datasets/Deep-Spectral-Segmentation/data/object-segmentation/ECSSD/features/dino_vits16/0134.pth\n",
      "dict_keys(['k', 'indices', 'file', 'id', 'model_name', 'patch_size', 'shape'])\n",
      "0134\n",
      "Starting Training\n",
      "epoch: 00, loss: -0.30843\n",
      "epoch: 01, loss: -0.66911\n",
      "epoch: 02, loss: -0.76947\n",
      "epoch: 03, loss: -0.78360\n",
      "epoch: 04, loss: -0.79089\n",
      "epoch: 05, loss: -0.82041\n",
      "epoch: 06, loss: -0.80967\n",
      "epoch: 07, loss: -0.81995\n",
      "epoch: 08, loss: -0.82426\n",
      "epoch: 09, loss: -0.83762\n"
     ]
    },
    {
     "name": "stderr",
     "output_type": "stream",
     "text": [
      " 13%|█▎        | 134/1000 [49:05<6:16:29, 26.08s/it]"
     ]
    },
    {
     "name": "stdout",
     "output_type": "stream",
     "text": [
      "eigenvalues shape torch.Size([5]) eigenvectors shape torch.Size([5, 400])\n",
      "134 /home/phdcs2/Hard_Disk/Datasets/Deep-Spectral-Segmentation/data/object-segmentation/ECSSD/features/dino_vits16/0135.pth\n",
      "dict_keys(['k', 'indices', 'file', 'id', 'model_name', 'patch_size', 'shape'])\n",
      "0135\n",
      "Starting Training\n",
      "epoch: 00, loss: -0.37910\n",
      "epoch: 01, loss: -0.74403\n",
      "epoch: 02, loss: -0.78701\n",
      "epoch: 03, loss: -0.79287\n",
      "epoch: 04, loss: -0.80441\n",
      "epoch: 05, loss: -0.81144\n",
      "epoch: 06, loss: -0.81865\n",
      "epoch: 07, loss: -0.82443\n",
      "epoch: 08, loss: -0.81970\n",
      "epoch: 09, loss: -0.81976\n"
     ]
    },
    {
     "name": "stderr",
     "output_type": "stream",
     "text": [
      " 14%|█▎        | 135/1000 [49:25<5:51:56, 24.41s/it]"
     ]
    },
    {
     "name": "stdout",
     "output_type": "stream",
     "text": [
      "eigenvalues shape torch.Size([5]) eigenvectors shape torch.Size([5, 450])\n",
      "135 /home/phdcs2/Hard_Disk/Datasets/Deep-Spectral-Segmentation/data/object-segmentation/ECSSD/features/dino_vits16/0136.pth\n",
      "dict_keys(['k', 'indices', 'file', 'id', 'model_name', 'patch_size', 'shape'])\n",
      "0136\n",
      "Starting Training\n",
      "epoch: 00, loss: -0.49152\n",
      "epoch: 01, loss: -0.73799\n",
      "epoch: 02, loss: -0.78315\n",
      "epoch: 03, loss: -0.77179\n",
      "epoch: 04, loss: -0.75503\n",
      "epoch: 05, loss: -0.75976\n",
      "epoch: 06, loss: -0.76477\n",
      "epoch: 07, loss: -0.78001\n",
      "epoch: 08, loss: -0.79150\n",
      "epoch: 09, loss: -0.75404\n"
     ]
    },
    {
     "name": "stderr",
     "output_type": "stream",
     "text": [
      " 14%|█▎        | 136/1000 [49:45<5:32:46, 23.11s/it]"
     ]
    },
    {
     "name": "stdout",
     "output_type": "stream",
     "text": [
      "eigenvalues shape torch.Size([5]) eigenvectors shape torch.Size([5, 450])\n",
      "136 /home/phdcs2/Hard_Disk/Datasets/Deep-Spectral-Segmentation/data/object-segmentation/ECSSD/features/dino_vits16/0137.pth\n",
      "dict_keys(['k', 'indices', 'file', 'id', 'model_name', 'patch_size', 'shape'])\n",
      "0137\n",
      "Starting Training\n",
      "epoch: 00, loss: -0.36357\n",
      "epoch: 01, loss: -0.68226\n",
      "epoch: 02, loss: -0.73673\n",
      "epoch: 03, loss: -0.75253\n",
      "epoch: 04, loss: -0.76175\n",
      "epoch: 05, loss: -0.76793\n",
      "epoch: 06, loss: -0.79505\n",
      "epoch: 07, loss: -0.79808\n",
      "epoch: 08, loss: -0.81251\n",
      "epoch: 09, loss: -0.81139\n"
     ]
    },
    {
     "name": "stderr",
     "output_type": "stream",
     "text": [
      " 14%|█▎        | 137/1000 [50:06<5:22:10, 22.40s/it]"
     ]
    },
    {
     "name": "stdout",
     "output_type": "stream",
     "text": [
      "eigenvalues shape torch.Size([5]) eigenvectors shape torch.Size([5, 475])\n",
      "137 /home/phdcs2/Hard_Disk/Datasets/Deep-Spectral-Segmentation/data/object-segmentation/ECSSD/features/dino_vits16/0138.pth\n",
      "dict_keys(['k', 'indices', 'file', 'id', 'model_name', 'patch_size', 'shape'])\n",
      "0138\n",
      "Starting Training\n",
      "epoch: 00, loss: -0.67816\n",
      "epoch: 01, loss: -0.94239\n",
      "epoch: 02, loss: -0.94581\n",
      "epoch: 03, loss: -0.93786\n",
      "epoch: 04, loss: -0.91456\n",
      "epoch: 05, loss: -0.88876\n",
      "epoch: 06, loss: -0.89289\n",
      "epoch: 07, loss: -0.89035\n",
      "epoch: 08, loss: -0.87201\n",
      "epoch: 09, loss: -0.85359\n"
     ]
    },
    {
     "name": "stderr",
     "output_type": "stream",
     "text": [
      " 14%|█▍        | 138/1000 [50:27<5:17:16, 22.08s/it]"
     ]
    },
    {
     "name": "stdout",
     "output_type": "stream",
     "text": [
      "eigenvalues shape torch.Size([5]) eigenvectors shape torch.Size([5, 450])\n",
      "138 /home/phdcs2/Hard_Disk/Datasets/Deep-Spectral-Segmentation/data/object-segmentation/ECSSD/features/dino_vits16/0139.pth\n",
      "dict_keys(['k', 'indices', 'file', 'id', 'model_name', 'patch_size', 'shape'])\n",
      "0139\n",
      "Starting Training\n",
      "epoch: 00, loss: -0.20503\n",
      "epoch: 01, loss: -0.63058\n",
      "epoch: 02, loss: -0.68274\n",
      "epoch: 03, loss: -0.72428\n",
      "epoch: 04, loss: -0.76445\n",
      "epoch: 05, loss: -0.78855\n",
      "epoch: 06, loss: -0.78995\n",
      "epoch: 07, loss: -0.79444\n",
      "epoch: 08, loss: -0.78837\n",
      "epoch: 09, loss: -0.79590\n"
     ]
    },
    {
     "name": "stderr",
     "output_type": "stream",
     "text": [
      " 14%|█▍        | 139/1000 [50:52<5:28:21, 22.88s/it]"
     ]
    },
    {
     "name": "stdout",
     "output_type": "stream",
     "text": [
      "eigenvalues shape torch.Size([5]) eigenvectors shape torch.Size([5, 450])\n",
      "139 /home/phdcs2/Hard_Disk/Datasets/Deep-Spectral-Segmentation/data/object-segmentation/ECSSD/features/dino_vits16/0140.pth\n",
      "dict_keys(['k', 'indices', 'file', 'id', 'model_name', 'patch_size', 'shape'])\n",
      "0140\n",
      "Starting Training\n",
      "epoch: 00, loss: -0.55758\n",
      "epoch: 01, loss: -0.82703\n",
      "epoch: 02, loss: -0.81440\n",
      "epoch: 03, loss: -0.77788\n",
      "epoch: 04, loss: -0.82732\n",
      "epoch: 05, loss: -0.82568\n",
      "epoch: 06, loss: -0.85463\n",
      "epoch: 07, loss: -0.86136\n",
      "epoch: 08, loss: -0.87184\n",
      "epoch: 09, loss: -0.86799\n"
     ]
    },
    {
     "name": "stderr",
     "output_type": "stream",
     "text": [
      " 14%|█▍        | 140/1000 [51:20<5:49:43, 24.40s/it]"
     ]
    },
    {
     "name": "stdout",
     "output_type": "stream",
     "text": [
      "eigenvalues shape torch.Size([5]) eigenvectors shape torch.Size([5, 450])\n",
      "140 /home/phdcs2/Hard_Disk/Datasets/Deep-Spectral-Segmentation/data/object-segmentation/ECSSD/features/dino_vits16/0141.pth\n",
      "dict_keys(['k', 'indices', 'file', 'id', 'model_name', 'patch_size', 'shape'])\n",
      "0141\n",
      "Starting Training\n",
      "epoch: 00, loss: -0.29612\n",
      "epoch: 01, loss: -0.75606\n",
      "epoch: 02, loss: -0.77073\n",
      "epoch: 03, loss: -0.77258\n",
      "epoch: 04, loss: -0.75712\n",
      "epoch: 05, loss: -0.80433\n",
      "epoch: 06, loss: -0.78319\n",
      "epoch: 07, loss: -0.78184\n",
      "epoch: 08, loss: -0.79312\n",
      "epoch: 09, loss: -0.81172\n"
     ]
    },
    {
     "name": "stderr",
     "output_type": "stream",
     "text": [
      " 14%|█▍        | 141/1000 [51:42<5:38:59, 23.68s/it]"
     ]
    },
    {
     "name": "stdout",
     "output_type": "stream",
     "text": [
      "eigenvalues shape torch.Size([5]) eigenvectors shape torch.Size([5, 350])\n",
      "141 /home/phdcs2/Hard_Disk/Datasets/Deep-Spectral-Segmentation/data/object-segmentation/ECSSD/features/dino_vits16/0142.pth\n",
      "dict_keys(['k', 'indices', 'file', 'id', 'model_name', 'patch_size', 'shape'])\n",
      "0142\n",
      "Starting Training\n",
      "epoch: 00, loss: -0.66953\n",
      "epoch: 01, loss: -0.93260\n",
      "epoch: 02, loss: -0.95977\n",
      "epoch: 03, loss: -0.94133\n",
      "epoch: 04, loss: -0.95277\n",
      "epoch: 05, loss: -0.94682\n",
      "epoch: 06, loss: -0.93711\n",
      "epoch: 07, loss: -0.94688\n",
      "epoch: 08, loss: -0.93129\n",
      "epoch: 09, loss: -0.90863\n"
     ]
    },
    {
     "name": "stderr",
     "output_type": "stream",
     "text": [
      " 14%|█▍        | 142/1000 [52:09<5:53:04, 24.69s/it]"
     ]
    },
    {
     "name": "stdout",
     "output_type": "stream",
     "text": [
      "eigenvalues shape torch.Size([5]) eigenvectors shape torch.Size([5, 450])\n",
      "142 /home/phdcs2/Hard_Disk/Datasets/Deep-Spectral-Segmentation/data/object-segmentation/ECSSD/features/dino_vits16/0143.pth\n",
      "dict_keys(['k', 'indices', 'file', 'id', 'model_name', 'patch_size', 'shape'])\n",
      "0143\n",
      "Starting Training\n",
      "epoch: 00, loss: -0.37887\n",
      "epoch: 01, loss: -0.67590\n",
      "epoch: 02, loss: -0.73917\n",
      "epoch: 03, loss: -0.78512\n",
      "epoch: 04, loss: -0.80036\n",
      "epoch: 05, loss: -0.79307\n",
      "epoch: 06, loss: -0.78929\n",
      "epoch: 07, loss: -0.81058\n",
      "epoch: 08, loss: -0.79970\n",
      "epoch: 09, loss: -0.79008\n"
     ]
    },
    {
     "name": "stderr",
     "output_type": "stream",
     "text": [
      " 14%|█▍        | 143/1000 [52:33<5:50:49, 24.56s/it]"
     ]
    },
    {
     "name": "stdout",
     "output_type": "stream",
     "text": [
      "eigenvalues shape torch.Size([5]) eigenvectors shape torch.Size([5, 450])\n",
      "143 /home/phdcs2/Hard_Disk/Datasets/Deep-Spectral-Segmentation/data/object-segmentation/ECSSD/features/dino_vits16/0144.pth\n",
      "dict_keys(['k', 'indices', 'file', 'id', 'model_name', 'patch_size', 'shape'])\n",
      "0144\n",
      "Starting Training\n",
      "epoch: 00, loss: -0.38955\n",
      "epoch: 01, loss: -0.63213\n",
      "epoch: 02, loss: -0.66166\n",
      "epoch: 03, loss: -0.73229\n",
      "epoch: 04, loss: -0.74960\n",
      "epoch: 05, loss: -0.78892\n",
      "epoch: 06, loss: -0.80614\n",
      "epoch: 07, loss: -0.81366\n",
      "epoch: 08, loss: -0.78982\n",
      "epoch: 09, loss: -0.77481\n"
     ]
    },
    {
     "name": "stderr",
     "output_type": "stream",
     "text": [
      " 14%|█▍        | 144/1000 [53:02<6:06:36, 25.70s/it]"
     ]
    },
    {
     "name": "stdout",
     "output_type": "stream",
     "text": [
      "eigenvalues shape torch.Size([5]) eigenvectors shape torch.Size([5, 425])\n",
      "144 /home/phdcs2/Hard_Disk/Datasets/Deep-Spectral-Segmentation/data/object-segmentation/ECSSD/features/dino_vits16/0145.pth\n",
      "dict_keys(['k', 'indices', 'file', 'id', 'model_name', 'patch_size', 'shape'])\n",
      "0145\n",
      "Starting Training\n",
      "epoch: 00, loss: -0.47316\n",
      "epoch: 01, loss: -0.80242\n",
      "epoch: 02, loss: -0.85540\n",
      "epoch: 03, loss: -0.84768\n",
      "epoch: 04, loss: -0.86204\n",
      "epoch: 05, loss: -0.86564\n",
      "epoch: 06, loss: -0.87190\n",
      "epoch: 07, loss: -0.85028\n",
      "epoch: 08, loss: -0.84821\n",
      "epoch: 09, loss: -0.83547\n"
     ]
    },
    {
     "name": "stderr",
     "output_type": "stream",
     "text": [
      " 14%|█▍        | 145/1000 [53:32<6:26:46, 27.14s/it]"
     ]
    },
    {
     "name": "stdout",
     "output_type": "stream",
     "text": [
      "eigenvalues shape torch.Size([5]) eigenvectors shape torch.Size([5, 450])\n",
      "145 /home/phdcs2/Hard_Disk/Datasets/Deep-Spectral-Segmentation/data/object-segmentation/ECSSD/features/dino_vits16/0146.pth\n",
      "dict_keys(['k', 'indices', 'file', 'id', 'model_name', 'patch_size', 'shape'])\n",
      "0146\n",
      "Starting Training\n",
      "epoch: 00, loss: -0.29828\n",
      "epoch: 01, loss: -0.85588\n",
      "epoch: 02, loss: -0.92495\n",
      "epoch: 03, loss: -0.92012\n",
      "epoch: 04, loss: -0.92538\n",
      "epoch: 05, loss: -0.93086\n",
      "epoch: 06, loss: -0.92843\n",
      "epoch: 07, loss: -0.93452\n",
      "epoch: 08, loss: -0.93648\n",
      "epoch: 09, loss: -0.93058\n"
     ]
    },
    {
     "name": "stderr",
     "output_type": "stream",
     "text": [
      " 15%|█▍        | 146/1000 [54:04<6:45:16, 28.47s/it]"
     ]
    },
    {
     "name": "stdout",
     "output_type": "stream",
     "text": [
      "eigenvalues shape torch.Size([5]) eigenvectors shape torch.Size([5, 400])\n",
      "146 /home/phdcs2/Hard_Disk/Datasets/Deep-Spectral-Segmentation/data/object-segmentation/ECSSD/features/dino_vits16/0147.pth\n",
      "dict_keys(['k', 'indices', 'file', 'id', 'model_name', 'patch_size', 'shape'])\n",
      "0147\n",
      "Starting Training\n",
      "epoch: 00, loss: -0.47509\n",
      "epoch: 01, loss: -0.71965\n",
      "epoch: 02, loss: -0.73610\n",
      "epoch: 03, loss: -0.76146\n",
      "epoch: 04, loss: -0.74176\n",
      "epoch: 05, loss: -0.73566\n",
      "epoch: 06, loss: -0.74984\n",
      "epoch: 07, loss: -0.71806\n",
      "epoch: 08, loss: -0.72882\n",
      "epoch: 09, loss: -0.73304\n"
     ]
    },
    {
     "name": "stderr",
     "output_type": "stream",
     "text": [
      " 15%|█▍        | 147/1000 [54:55<8:22:25, 35.34s/it]"
     ]
    },
    {
     "name": "stdout",
     "output_type": "stream",
     "text": [
      "eigenvalues shape torch.Size([5]) eigenvectors shape torch.Size([5, 550])\n",
      "147 /home/phdcs2/Hard_Disk/Datasets/Deep-Spectral-Segmentation/data/object-segmentation/ECSSD/features/dino_vits16/0148.pth\n",
      "dict_keys(['k', 'indices', 'file', 'id', 'model_name', 'patch_size', 'shape'])\n",
      "0148\n",
      "Starting Training\n",
      "epoch: 00, loss: -0.57409\n",
      "epoch: 01, loss: -0.89398\n",
      "epoch: 02, loss: -0.92789\n",
      "epoch: 03, loss: -0.87935\n",
      "epoch: 04, loss: -0.88473\n",
      "epoch: 05, loss: -0.88905\n",
      "epoch: 06, loss: -0.85366\n",
      "epoch: 07, loss: -0.85845\n",
      "epoch: 08, loss: -0.87882\n",
      "epoch: 09, loss: -0.86345\n"
     ]
    },
    {
     "name": "stderr",
     "output_type": "stream",
     "text": [
      " 15%|█▍        | 148/1000 [55:25<7:57:54, 33.66s/it]"
     ]
    },
    {
     "name": "stdout",
     "output_type": "stream",
     "text": [
      "eigenvalues shape torch.Size([5]) eigenvectors shape torch.Size([5, 400])\n",
      "148 /home/phdcs2/Hard_Disk/Datasets/Deep-Spectral-Segmentation/data/object-segmentation/ECSSD/features/dino_vits16/0149.pth\n",
      "dict_keys(['k', 'indices', 'file', 'id', 'model_name', 'patch_size', 'shape'])\n",
      "0149\n",
      "Starting Training\n",
      "epoch: 00, loss: -0.49574\n",
      "epoch: 01, loss: -0.66933\n",
      "epoch: 02, loss: -0.77976\n",
      "epoch: 03, loss: -0.77352\n",
      "epoch: 04, loss: -0.80057\n",
      "epoch: 05, loss: -0.81037\n",
      "epoch: 06, loss: -0.80188\n",
      "epoch: 07, loss: -0.80577\n",
      "epoch: 08, loss: -0.78976\n",
      "epoch: 09, loss: -0.80703\n"
     ]
    },
    {
     "name": "stderr",
     "output_type": "stream",
     "text": [
      " 15%|█▍        | 149/1000 [55:48<7:12:18, 30.48s/it]"
     ]
    },
    {
     "name": "stdout",
     "output_type": "stream",
     "text": [
      "eigenvalues shape torch.Size([5]) eigenvectors shape torch.Size([5, 400])\n",
      "149 /home/phdcs2/Hard_Disk/Datasets/Deep-Spectral-Segmentation/data/object-segmentation/ECSSD/features/dino_vits16/0150.pth\n",
      "dict_keys(['k', 'indices', 'file', 'id', 'model_name', 'patch_size', 'shape'])\n",
      "0150\n",
      "Starting Training\n",
      "epoch: 00, loss: -0.60630\n",
      "epoch: 01, loss: -0.83412\n",
      "epoch: 02, loss: -0.85486\n",
      "epoch: 03, loss: -0.85132\n",
      "epoch: 04, loss: -0.82598\n",
      "epoch: 05, loss: -0.78805\n",
      "epoch: 06, loss: -0.78054\n",
      "epoch: 07, loss: -0.80656\n",
      "epoch: 08, loss: -0.80836\n",
      "epoch: 09, loss: -0.80796\n"
     ]
    },
    {
     "name": "stderr",
     "output_type": "stream",
     "text": [
      " 15%|█▌        | 150/1000 [56:14<6:50:54, 29.01s/it]"
     ]
    },
    {
     "name": "stdout",
     "output_type": "stream",
     "text": [
      "eigenvalues shape torch.Size([5]) eigenvectors shape torch.Size([5, 450])\n",
      "150 /home/phdcs2/Hard_Disk/Datasets/Deep-Spectral-Segmentation/data/object-segmentation/ECSSD/features/dino_vits16/0151.pth\n",
      "dict_keys(['k', 'indices', 'file', 'id', 'model_name', 'patch_size', 'shape'])\n",
      "0151\n",
      "Starting Training\n",
      "epoch: 00, loss: -0.45997\n",
      "epoch: 01, loss: -0.77911\n",
      "epoch: 02, loss: -0.82484\n",
      "epoch: 03, loss: -0.86958\n",
      "epoch: 04, loss: -0.84349\n",
      "epoch: 05, loss: -0.84718\n",
      "epoch: 06, loss: -0.83945\n",
      "epoch: 07, loss: -0.83352\n",
      "epoch: 08, loss: -0.84465\n",
      "epoch: 09, loss: -0.86860\n"
     ]
    },
    {
     "name": "stderr",
     "output_type": "stream",
     "text": [
      " 15%|█▌        | 151/1000 [56:45<6:58:53, 29.60s/it]"
     ]
    },
    {
     "name": "stdout",
     "output_type": "stream",
     "text": [
      "eigenvalues shape torch.Size([5]) eigenvectors shape torch.Size([5, 525])\n",
      "151 /home/phdcs2/Hard_Disk/Datasets/Deep-Spectral-Segmentation/data/object-segmentation/ECSSD/features/dino_vits16/0152.pth\n",
      "dict_keys(['k', 'indices', 'file', 'id', 'model_name', 'patch_size', 'shape'])\n",
      "0152\n",
      "Starting Training\n",
      "epoch: 00, loss: -0.28904\n",
      "epoch: 01, loss: -0.62478\n",
      "epoch: 02, loss: -0.66940\n",
      "epoch: 03, loss: -0.68498\n",
      "epoch: 04, loss: -0.73069\n",
      "epoch: 05, loss: -0.75710\n",
      "epoch: 06, loss: -0.77479\n",
      "epoch: 07, loss: -0.77297\n",
      "epoch: 08, loss: -0.77443\n",
      "epoch: 09, loss: -0.78081\n"
     ]
    },
    {
     "name": "stderr",
     "output_type": "stream",
     "text": [
      " 15%|█▌        | 152/1000 [57:07<6:26:20, 27.34s/it]"
     ]
    },
    {
     "name": "stdout",
     "output_type": "stream",
     "text": [
      "eigenvalues shape torch.Size([5]) eigenvectors shape torch.Size([5, 450])\n",
      "152 /home/phdcs2/Hard_Disk/Datasets/Deep-Spectral-Segmentation/data/object-segmentation/ECSSD/features/dino_vits16/0153.pth\n",
      "dict_keys(['k', 'indices', 'file', 'id', 'model_name', 'patch_size', 'shape'])\n",
      "0153\n",
      "Starting Training\n",
      "epoch: 00, loss: -0.33386\n",
      "epoch: 01, loss: -0.71175\n",
      "epoch: 02, loss: -0.76582\n",
      "epoch: 03, loss: -0.80179\n",
      "epoch: 04, loss: -0.78179\n",
      "epoch: 05, loss: -0.78059\n",
      "epoch: 06, loss: -0.79472\n",
      "epoch: 07, loss: -0.80031\n",
      "epoch: 08, loss: -0.80616\n",
      "epoch: 09, loss: -0.79216\n"
     ]
    },
    {
     "name": "stderr",
     "output_type": "stream",
     "text": [
      " 15%|█▌        | 153/1000 [57:33<6:23:40, 27.18s/it]"
     ]
    },
    {
     "name": "stdout",
     "output_type": "stream",
     "text": [
      "eigenvalues shape torch.Size([5]) eigenvectors shape torch.Size([5, 450])\n",
      "153 /home/phdcs2/Hard_Disk/Datasets/Deep-Spectral-Segmentation/data/object-segmentation/ECSSD/features/dino_vits16/0154.pth\n",
      "dict_keys(['k', 'indices', 'file', 'id', 'model_name', 'patch_size', 'shape'])\n",
      "0154\n",
      "Starting Training\n",
      "epoch: 00, loss: -0.39286\n",
      "epoch: 01, loss: -0.77124\n",
      "epoch: 02, loss: -0.83306\n",
      "epoch: 03, loss: -0.85369\n",
      "epoch: 04, loss: -0.87327\n",
      "epoch: 05, loss: -0.88190\n",
      "epoch: 06, loss: -0.89642\n",
      "epoch: 07, loss: -0.90222\n",
      "epoch: 08, loss: -0.89722\n",
      "epoch: 09, loss: -0.89274\n"
     ]
    },
    {
     "name": "stderr",
     "output_type": "stream",
     "text": [
      " 15%|█▌        | 154/1000 [58:01<6:25:15, 27.32s/it]"
     ]
    },
    {
     "name": "stdout",
     "output_type": "stream",
     "text": [
      "eigenvalues shape torch.Size([5]) eigenvectors shape torch.Size([5, 450])\n",
      "154 /home/phdcs2/Hard_Disk/Datasets/Deep-Spectral-Segmentation/data/object-segmentation/ECSSD/features/dino_vits16/0155.pth\n",
      "dict_keys(['k', 'indices', 'file', 'id', 'model_name', 'patch_size', 'shape'])\n",
      "0155\n",
      "Starting Training\n",
      "epoch: 00, loss: -0.49376\n",
      "epoch: 01, loss: -0.70613\n",
      "epoch: 02, loss: -0.72362\n",
      "epoch: 03, loss: -0.78490\n",
      "epoch: 04, loss: -0.81387\n",
      "epoch: 05, loss: -0.82340\n",
      "epoch: 06, loss: -0.84485\n",
      "epoch: 07, loss: -0.85093\n",
      "epoch: 08, loss: -0.85642\n",
      "epoch: 09, loss: -0.85843\n"
     ]
    },
    {
     "name": "stderr",
     "output_type": "stream",
     "text": [
      " 16%|█▌        | 155/1000 [58:28<6:22:20, 27.15s/it]"
     ]
    },
    {
     "name": "stdout",
     "output_type": "stream",
     "text": [
      "eigenvalues shape torch.Size([5]) eigenvectors shape torch.Size([5, 475])\n",
      "155 /home/phdcs2/Hard_Disk/Datasets/Deep-Spectral-Segmentation/data/object-segmentation/ECSSD/features/dino_vits16/0156.pth\n",
      "dict_keys(['k', 'indices', 'file', 'id', 'model_name', 'patch_size', 'shape'])\n",
      "0156\n",
      "Starting Training\n",
      "epoch: 00, loss: -0.43523\n",
      "epoch: 01, loss: -0.66708\n",
      "epoch: 02, loss: -0.70910\n",
      "epoch: 03, loss: -0.76591\n",
      "epoch: 04, loss: -0.76463\n",
      "epoch: 05, loss: -0.75752\n",
      "epoch: 06, loss: -0.76876\n",
      "epoch: 07, loss: -0.74778\n",
      "epoch: 08, loss: -0.75373\n",
      "epoch: 09, loss: -0.75410\n"
     ]
    },
    {
     "name": "stderr",
     "output_type": "stream",
     "text": [
      " 16%|█▌        | 156/1000 [58:44<5:37:26, 23.99s/it]"
     ]
    },
    {
     "name": "stdout",
     "output_type": "stream",
     "text": [
      "eigenvalues shape torch.Size([5]) eigenvectors shape torch.Size([5, 400])\n",
      "156 /home/phdcs2/Hard_Disk/Datasets/Deep-Spectral-Segmentation/data/object-segmentation/ECSSD/features/dino_vits16/0157.pth\n",
      "dict_keys(['k', 'indices', 'file', 'id', 'model_name', 'patch_size', 'shape'])\n",
      "0157\n",
      "Starting Training\n",
      "epoch: 00, loss: -0.37201\n",
      "epoch: 01, loss: -0.71469\n",
      "epoch: 02, loss: -0.77091\n",
      "epoch: 03, loss: -0.72267\n",
      "epoch: 04, loss: -0.73568\n",
      "epoch: 05, loss: -0.76747\n",
      "epoch: 06, loss: -0.77759\n",
      "epoch: 07, loss: -0.79076\n",
      "epoch: 08, loss: -0.79864\n",
      "epoch: 09, loss: -0.79108\n"
     ]
    },
    {
     "name": "stderr",
     "output_type": "stream",
     "text": [
      " 16%|█▌        | 157/1000 [59:07<5:31:55, 23.62s/it]"
     ]
    },
    {
     "name": "stdout",
     "output_type": "stream",
     "text": [
      "eigenvalues shape torch.Size([5]) eigenvectors shape torch.Size([5, 375])\n",
      "157 /home/phdcs2/Hard_Disk/Datasets/Deep-Spectral-Segmentation/data/object-segmentation/ECSSD/features/dino_vits16/0158.pth\n",
      "dict_keys(['k', 'indices', 'file', 'id', 'model_name', 'patch_size', 'shape'])\n",
      "0158\n",
      "Starting Training\n",
      "epoch: 00, loss: -0.21113\n",
      "epoch: 01, loss: -0.57923\n",
      "epoch: 02, loss: -0.66032\n",
      "epoch: 03, loss: -0.68017\n",
      "epoch: 04, loss: -0.70648\n",
      "epoch: 05, loss: -0.73565\n",
      "epoch: 06, loss: -0.75487\n",
      "epoch: 07, loss: -0.78137\n",
      "epoch: 08, loss: -0.78811\n",
      "epoch: 09, loss: -0.79432\n"
     ]
    },
    {
     "name": "stderr",
     "output_type": "stream",
     "text": [
      " 16%|█▌        | 158/1000 [59:27<5:15:47, 22.50s/it]"
     ]
    },
    {
     "name": "stdout",
     "output_type": "stream",
     "text": [
      "eigenvalues shape torch.Size([5]) eigenvectors shape torch.Size([5, 300])\n",
      "158 /home/phdcs2/Hard_Disk/Datasets/Deep-Spectral-Segmentation/data/object-segmentation/ECSSD/features/dino_vits16/0159.pth\n",
      "dict_keys(['k', 'indices', 'file', 'id', 'model_name', 'patch_size', 'shape'])\n",
      "0159\n",
      "Starting Training\n",
      "epoch: 00, loss: -0.28696\n",
      "epoch: 01, loss: -0.61244\n",
      "epoch: 02, loss: -0.68925\n",
      "epoch: 03, loss: -0.73947\n",
      "epoch: 04, loss: -0.76439\n",
      "epoch: 05, loss: -0.76438\n",
      "epoch: 06, loss: -0.76098\n",
      "epoch: 07, loss: -0.75846\n",
      "epoch: 08, loss: -0.75795\n",
      "epoch: 09, loss: -0.77268\n"
     ]
    },
    {
     "name": "stderr",
     "output_type": "stream",
     "text": [
      " 16%|█▌        | 159/1000 [59:56<5:43:48, 24.53s/it]"
     ]
    },
    {
     "name": "stdout",
     "output_type": "stream",
     "text": [
      "eigenvalues shape torch.Size([5]) eigenvectors shape torch.Size([5, 425])\n",
      "159 /home/phdcs2/Hard_Disk/Datasets/Deep-Spectral-Segmentation/data/object-segmentation/ECSSD/features/dino_vits16/0160.pth\n",
      "dict_keys(['k', 'indices', 'file', 'id', 'model_name', 'patch_size', 'shape'])\n",
      "0160\n",
      "Starting Training\n",
      "epoch: 00, loss: -0.30987\n",
      "epoch: 01, loss: -0.72001\n",
      "epoch: 02, loss: -0.80149\n",
      "epoch: 03, loss: -0.78117\n",
      "epoch: 04, loss: -0.80179\n",
      "epoch: 05, loss: -0.80059\n",
      "epoch: 06, loss: -0.80449\n",
      "epoch: 07, loss: -0.82054\n",
      "epoch: 08, loss: -0.82366\n",
      "epoch: 09, loss: -0.82170\n"
     ]
    },
    {
     "name": "stderr",
     "output_type": "stream",
     "text": [
      " 16%|█▌        | 160/1000 [1:00:18<5:31:48, 23.70s/it]"
     ]
    },
    {
     "name": "stdout",
     "output_type": "stream",
     "text": [
      "eigenvalues shape torch.Size([5]) eigenvectors shape torch.Size([5, 400])\n",
      "160 /home/phdcs2/Hard_Disk/Datasets/Deep-Spectral-Segmentation/data/object-segmentation/ECSSD/features/dino_vits16/0161.pth\n",
      "dict_keys(['k', 'indices', 'file', 'id', 'model_name', 'patch_size', 'shape'])\n",
      "0161\n",
      "Starting Training\n",
      "epoch: 00, loss: -0.40277\n",
      "epoch: 01, loss: -0.74704\n",
      "epoch: 02, loss: -0.81012\n",
      "epoch: 03, loss: -0.86697\n",
      "epoch: 04, loss: -0.86945\n",
      "epoch: 05, loss: -0.87601\n",
      "epoch: 06, loss: -0.86655\n",
      "epoch: 07, loss: -0.86496\n",
      "epoch: 08, loss: -0.87830\n",
      "epoch: 09, loss: -0.87513\n"
     ]
    },
    {
     "name": "stderr",
     "output_type": "stream",
     "text": [
      " 16%|█▌        | 161/1000 [1:00:38<5:16:52, 22.66s/it]"
     ]
    },
    {
     "name": "stdout",
     "output_type": "stream",
     "text": [
      "eigenvalues shape torch.Size([5]) eigenvectors shape torch.Size([5, 450])\n",
      "161 /home/phdcs2/Hard_Disk/Datasets/Deep-Spectral-Segmentation/data/object-segmentation/ECSSD/features/dino_vits16/0162.pth\n",
      "dict_keys(['k', 'indices', 'file', 'id', 'model_name', 'patch_size', 'shape'])\n",
      "0162\n",
      "Starting Training\n",
      "epoch: 00, loss: -0.28685\n",
      "epoch: 01, loss: -0.71048\n",
      "epoch: 02, loss: -0.68835\n",
      "epoch: 03, loss: -0.75630\n",
      "epoch: 04, loss: -0.78990\n",
      "epoch: 05, loss: -0.80480\n",
      "epoch: 06, loss: -0.81565\n",
      "epoch: 07, loss: -0.80701\n",
      "epoch: 08, loss: -0.80735\n",
      "epoch: 09, loss: -0.79830\n"
     ]
    },
    {
     "name": "stderr",
     "output_type": "stream",
     "text": [
      " 16%|█▌        | 162/1000 [1:00:58<5:01:47, 21.61s/it]"
     ]
    },
    {
     "name": "stdout",
     "output_type": "stream",
     "text": [
      "eigenvalues shape torch.Size([5]) eigenvectors shape torch.Size([5, 450])\n",
      "162 /home/phdcs2/Hard_Disk/Datasets/Deep-Spectral-Segmentation/data/object-segmentation/ECSSD/features/dino_vits16/0163.pth\n",
      "dict_keys(['k', 'indices', 'file', 'id', 'model_name', 'patch_size', 'shape'])\n",
      "0163\n",
      "Starting Training\n",
      "epoch: 00, loss: -0.41141\n",
      "epoch: 01, loss: -0.83612\n",
      "epoch: 02, loss: -0.79648\n",
      "epoch: 03, loss: -0.75929\n",
      "epoch: 04, loss: -0.80354\n",
      "epoch: 05, loss: -0.81723\n",
      "epoch: 06, loss: -0.83451\n",
      "epoch: 07, loss: -0.83415\n",
      "epoch: 08, loss: -0.85147\n",
      "epoch: 09, loss: -0.86514\n"
     ]
    },
    {
     "name": "stderr",
     "output_type": "stream",
     "text": [
      " 16%|█▋        | 163/1000 [1:01:19<5:00:06, 21.51s/it]"
     ]
    },
    {
     "name": "stdout",
     "output_type": "stream",
     "text": [
      "eigenvalues shape torch.Size([5]) eigenvectors shape torch.Size([5, 400])\n",
      "163 /home/phdcs2/Hard_Disk/Datasets/Deep-Spectral-Segmentation/data/object-segmentation/ECSSD/features/dino_vits16/0164.pth\n",
      "dict_keys(['k', 'indices', 'file', 'id', 'model_name', 'patch_size', 'shape'])\n",
      "0164\n",
      "Starting Training\n",
      "epoch: 00, loss: -0.53689\n",
      "epoch: 01, loss: -0.68567\n",
      "epoch: 02, loss: -0.75959\n",
      "epoch: 03, loss: -0.77328\n",
      "epoch: 04, loss: -0.84014\n",
      "epoch: 05, loss: -0.86375\n",
      "epoch: 06, loss: -0.86048\n",
      "epoch: 07, loss: -0.84737\n",
      "epoch: 08, loss: -0.85971\n",
      "epoch: 09, loss: -0.86806\n"
     ]
    },
    {
     "name": "stderr",
     "output_type": "stream",
     "text": [
      " 16%|█▋        | 164/1000 [1:01:47<5:29:14, 23.63s/it]"
     ]
    },
    {
     "name": "stdout",
     "output_type": "stream",
     "text": [
      "eigenvalues shape torch.Size([5]) eigenvectors shape torch.Size([5, 550])\n",
      "164 /home/phdcs2/Hard_Disk/Datasets/Deep-Spectral-Segmentation/data/object-segmentation/ECSSD/features/dino_vits16/0165.pth\n",
      "dict_keys(['k', 'indices', 'file', 'id', 'model_name', 'patch_size', 'shape'])\n",
      "0165\n",
      "Starting Training\n",
      "epoch: 00, loss: -0.34823\n",
      "epoch: 01, loss: -0.59288\n",
      "epoch: 02, loss: -0.65548\n",
      "epoch: 03, loss: -0.74383\n",
      "epoch: 04, loss: -0.77070\n",
      "epoch: 05, loss: -0.73318\n",
      "epoch: 06, loss: -0.71205\n",
      "epoch: 07, loss: -0.73463\n",
      "epoch: 08, loss: -0.74364\n",
      "epoch: 09, loss: -0.75248\n"
     ]
    },
    {
     "name": "stderr",
     "output_type": "stream",
     "text": [
      " 16%|█▋        | 165/1000 [1:02:11<5:29:04, 23.65s/it]"
     ]
    },
    {
     "name": "stdout",
     "output_type": "stream",
     "text": [
      "eigenvalues shape torch.Size([5]) eigenvectors shape torch.Size([5, 450])\n",
      "165 /home/phdcs2/Hard_Disk/Datasets/Deep-Spectral-Segmentation/data/object-segmentation/ECSSD/features/dino_vits16/0166.pth\n",
      "dict_keys(['k', 'indices', 'file', 'id', 'model_name', 'patch_size', 'shape'])\n",
      "0166\n",
      "Starting Training\n",
      "epoch: 00, loss: -0.50920\n",
      "epoch: 01, loss: -0.83224\n",
      "epoch: 02, loss: -0.86676\n",
      "epoch: 03, loss: -0.88151\n",
      "epoch: 04, loss: -0.86964\n",
      "epoch: 05, loss: -0.88280\n",
      "epoch: 06, loss: -0.86636\n",
      "epoch: 07, loss: -0.88068\n",
      "epoch: 08, loss: -0.72202\n",
      "epoch: 09, loss: -0.69962\n"
     ]
    },
    {
     "name": "stderr",
     "output_type": "stream",
     "text": [
      " 17%|█▋        | 166/1000 [1:02:35<5:28:18, 23.62s/it]"
     ]
    },
    {
     "name": "stdout",
     "output_type": "stream",
     "text": [
      "eigenvalues shape torch.Size([5]) eigenvectors shape torch.Size([5, 400])\n",
      "166 /home/phdcs2/Hard_Disk/Datasets/Deep-Spectral-Segmentation/data/object-segmentation/ECSSD/features/dino_vits16/0167.pth\n",
      "dict_keys(['k', 'indices', 'file', 'id', 'model_name', 'patch_size', 'shape'])\n",
      "0167\n",
      "Starting Training\n",
      "epoch: 00, loss: -0.31372\n",
      "epoch: 01, loss: -0.62510\n",
      "epoch: 02, loss: -0.62631\n",
      "epoch: 03, loss: -0.62569\n",
      "epoch: 04, loss: -0.62643\n",
      "epoch: 05, loss: -0.67789\n",
      "epoch: 06, loss: -0.72965\n",
      "epoch: 07, loss: -0.64138\n",
      "epoch: 08, loss: -0.67054\n",
      "epoch: 09, loss: -0.67646\n"
     ]
    },
    {
     "name": "stderr",
     "output_type": "stream",
     "text": [
      " 17%|█▋        | 167/1000 [1:03:08<6:07:40, 26.48s/it]"
     ]
    },
    {
     "name": "stdout",
     "output_type": "stream",
     "text": [
      "eigenvalues shape torch.Size([5]) eigenvectors shape torch.Size([5, 450])\n",
      "167 /home/phdcs2/Hard_Disk/Datasets/Deep-Spectral-Segmentation/data/object-segmentation/ECSSD/features/dino_vits16/0168.pth\n",
      "dict_keys(['k', 'indices', 'file', 'id', 'model_name', 'patch_size', 'shape'])\n",
      "0168\n",
      "Starting Training\n",
      "epoch: 00, loss: -0.39867\n",
      "epoch: 01, loss: -0.78215\n",
      "epoch: 02, loss: -0.79857\n",
      "epoch: 03, loss: -0.78637\n",
      "epoch: 04, loss: -0.82447\n",
      "epoch: 05, loss: -0.84675\n",
      "epoch: 06, loss: -0.85604\n",
      "epoch: 07, loss: -0.86342\n",
      "epoch: 08, loss: -0.87702\n",
      "epoch: 09, loss: -0.88064\n"
     ]
    },
    {
     "name": "stderr",
     "output_type": "stream",
     "text": [
      " 17%|█▋        | 168/1000 [1:03:38<6:24:22, 27.72s/it]"
     ]
    },
    {
     "name": "stdout",
     "output_type": "stream",
     "text": [
      "eigenvalues shape torch.Size([5]) eigenvectors shape torch.Size([5, 400])\n",
      "168 /home/phdcs2/Hard_Disk/Datasets/Deep-Spectral-Segmentation/data/object-segmentation/ECSSD/features/dino_vits16/0169.pth\n",
      "dict_keys(['k', 'indices', 'file', 'id', 'model_name', 'patch_size', 'shape'])\n",
      "0169\n",
      "Starting Training\n",
      "epoch: 00, loss: -0.33508\n",
      "epoch: 01, loss: -0.67057\n",
      "epoch: 02, loss: -0.70691\n",
      "epoch: 03, loss: -0.73150\n",
      "epoch: 04, loss: -0.75272\n",
      "epoch: 05, loss: -0.76444\n",
      "epoch: 06, loss: -0.76446\n",
      "epoch: 07, loss: -0.76873\n",
      "epoch: 08, loss: -0.76989\n",
      "epoch: 09, loss: -0.78707\n"
     ]
    },
    {
     "name": "stderr",
     "output_type": "stream",
     "text": [
      " 17%|█▋        | 169/1000 [1:04:03<6:11:38, 26.83s/it]"
     ]
    },
    {
     "name": "stdout",
     "output_type": "stream",
     "text": [
      "eigenvalues shape torch.Size([5]) eigenvectors shape torch.Size([5, 400])\n",
      "169 /home/phdcs2/Hard_Disk/Datasets/Deep-Spectral-Segmentation/data/object-segmentation/ECSSD/features/dino_vits16/0170.pth\n",
      "dict_keys(['k', 'indices', 'file', 'id', 'model_name', 'patch_size', 'shape'])\n",
      "0170\n",
      "Starting Training\n",
      "epoch: 00, loss: -0.39577\n",
      "epoch: 01, loss: -0.75540\n",
      "epoch: 02, loss: -0.76764\n",
      "epoch: 03, loss: -0.79151\n",
      "epoch: 04, loss: -0.78708\n",
      "epoch: 05, loss: -0.80012\n",
      "epoch: 06, loss: -0.80656\n",
      "epoch: 07, loss: -0.81925\n",
      "epoch: 08, loss: -0.70859\n",
      "epoch: 09, loss: -0.70823\n"
     ]
    },
    {
     "name": "stderr",
     "output_type": "stream",
     "text": [
      " 17%|█▋        | 170/1000 [1:04:31<6:14:21, 27.06s/it]"
     ]
    },
    {
     "name": "stdout",
     "output_type": "stream",
     "text": [
      "eigenvalues shape torch.Size([5]) eigenvectors shape torch.Size([5, 450])\n",
      "170 /home/phdcs2/Hard_Disk/Datasets/Deep-Spectral-Segmentation/data/object-segmentation/ECSSD/features/dino_vits16/0171.pth\n",
      "dict_keys(['k', 'indices', 'file', 'id', 'model_name', 'patch_size', 'shape'])\n",
      "0171\n",
      "Starting Training\n",
      "epoch: 00, loss: -0.61236\n",
      "epoch: 01, loss: -0.85951\n",
      "epoch: 02, loss: -0.82408\n",
      "epoch: 03, loss: -0.85829\n",
      "epoch: 04, loss: -0.86550\n",
      "epoch: 05, loss: -0.87042\n",
      "epoch: 06, loss: -0.86069\n",
      "epoch: 07, loss: -0.84608\n",
      "epoch: 08, loss: -0.81517\n",
      "epoch: 09, loss: -0.83495\n"
     ]
    },
    {
     "name": "stderr",
     "output_type": "stream",
     "text": [
      " 17%|█▋        | 171/1000 [1:04:52<5:50:03, 25.34s/it]"
     ]
    },
    {
     "name": "stdout",
     "output_type": "stream",
     "text": [
      "eigenvalues shape torch.Size([5]) eigenvectors shape torch.Size([5, 375])\n",
      "171 /home/phdcs2/Hard_Disk/Datasets/Deep-Spectral-Segmentation/data/object-segmentation/ECSSD/features/dino_vits16/0172.pth\n",
      "dict_keys(['k', 'indices', 'file', 'id', 'model_name', 'patch_size', 'shape'])\n",
      "0172\n",
      "Starting Training\n",
      "epoch: 00, loss: -0.45748\n",
      "epoch: 01, loss: -0.73325\n",
      "epoch: 02, loss: -0.77132\n",
      "epoch: 03, loss: -0.81340\n",
      "epoch: 04, loss: -0.81715\n",
      "epoch: 05, loss: -0.83415\n",
      "epoch: 06, loss: -0.85456\n",
      "epoch: 07, loss: -0.86481\n",
      "epoch: 08, loss: -0.87619\n",
      "epoch: 09, loss: -0.87778\n"
     ]
    },
    {
     "name": "stderr",
     "output_type": "stream",
     "text": [
      " 17%|█▋        | 172/1000 [1:05:15<5:41:00, 24.71s/it]"
     ]
    },
    {
     "name": "stdout",
     "output_type": "stream",
     "text": [
      "eigenvalues shape torch.Size([5]) eigenvectors shape torch.Size([5, 375])\n",
      "172 /home/phdcs2/Hard_Disk/Datasets/Deep-Spectral-Segmentation/data/object-segmentation/ECSSD/features/dino_vits16/0173.pth\n",
      "dict_keys(['k', 'indices', 'file', 'id', 'model_name', 'patch_size', 'shape'])\n",
      "0173\n",
      "Starting Training\n",
      "epoch: 00, loss: -0.39499\n",
      "epoch: 01, loss: -0.74512\n",
      "epoch: 02, loss: -0.75963\n",
      "epoch: 03, loss: -0.76969\n",
      "epoch: 04, loss: -0.78613\n",
      "epoch: 05, loss: -0.75210\n",
      "epoch: 06, loss: -0.77028\n",
      "epoch: 07, loss: -0.77599\n",
      "epoch: 08, loss: -0.78781\n",
      "epoch: 09, loss: -0.77882\n"
     ]
    },
    {
     "name": "stderr",
     "output_type": "stream",
     "text": [
      " 17%|█▋        | 173/1000 [1:05:49<6:18:14, 27.44s/it]"
     ]
    },
    {
     "name": "stdout",
     "output_type": "stream",
     "text": [
      "eigenvalues shape torch.Size([5]) eigenvectors shape torch.Size([5, 450])\n",
      "173 /home/phdcs2/Hard_Disk/Datasets/Deep-Spectral-Segmentation/data/object-segmentation/ECSSD/features/dino_vits16/0174.pth\n",
      "dict_keys(['k', 'indices', 'file', 'id', 'model_name', 'patch_size', 'shape'])\n",
      "0174\n",
      "Starting Training\n",
      "epoch: 00, loss: -0.40931\n",
      "epoch: 01, loss: -0.72011\n",
      "epoch: 02, loss: -0.76614\n",
      "epoch: 03, loss: -0.79687\n",
      "epoch: 04, loss: -0.81593\n",
      "epoch: 05, loss: -0.77012\n",
      "epoch: 06, loss: -0.76368\n",
      "epoch: 07, loss: -0.76758\n",
      "epoch: 08, loss: -0.75360\n",
      "epoch: 09, loss: -0.77555\n"
     ]
    },
    {
     "name": "stderr",
     "output_type": "stream",
     "text": [
      " 17%|█▋        | 174/1000 [1:06:09<5:46:38, 25.18s/it]"
     ]
    },
    {
     "name": "stdout",
     "output_type": "stream",
     "text": [
      "eigenvalues shape torch.Size([5]) eigenvectors shape torch.Size([5, 375])\n",
      "174 /home/phdcs2/Hard_Disk/Datasets/Deep-Spectral-Segmentation/data/object-segmentation/ECSSD/features/dino_vits16/0175.pth\n",
      "dict_keys(['k', 'indices', 'file', 'id', 'model_name', 'patch_size', 'shape'])\n",
      "0175\n",
      "Starting Training\n",
      "epoch: 00, loss: -0.36377\n",
      "epoch: 01, loss: -0.64944\n",
      "epoch: 02, loss: -0.66691\n",
      "epoch: 03, loss: -0.70660\n",
      "epoch: 04, loss: -0.72233\n",
      "epoch: 05, loss: -0.73325\n",
      "epoch: 06, loss: -0.72463\n",
      "epoch: 07, loss: -0.74186\n",
      "epoch: 08, loss: -0.74623\n",
      "epoch: 09, loss: -0.77102\n"
     ]
    },
    {
     "name": "stderr",
     "output_type": "stream",
     "text": [
      " 18%|█▊        | 175/1000 [1:06:36<5:55:33, 25.86s/it]"
     ]
    },
    {
     "name": "stdout",
     "output_type": "stream",
     "text": [
      "eigenvalues shape torch.Size([5]) eigenvectors shape torch.Size([5, 450])\n",
      "175 /home/phdcs2/Hard_Disk/Datasets/Deep-Spectral-Segmentation/data/object-segmentation/ECSSD/features/dino_vits16/0176.pth\n",
      "dict_keys(['k', 'indices', 'file', 'id', 'model_name', 'patch_size', 'shape'])\n",
      "0176\n",
      "Starting Training\n",
      "epoch: 00, loss: -0.58644\n",
      "epoch: 01, loss: -0.82337\n",
      "epoch: 02, loss: -0.74253\n",
      "epoch: 03, loss: -0.67383\n",
      "epoch: 04, loss: -0.73014\n",
      "epoch: 05, loss: -0.75909\n",
      "epoch: 06, loss: -0.76403\n",
      "epoch: 07, loss: -0.76797\n",
      "epoch: 08, loss: -0.80932\n",
      "epoch: 09, loss: -0.81787\n"
     ]
    },
    {
     "name": "stderr",
     "output_type": "stream",
     "text": [
      " 18%|█▊        | 176/1000 [1:07:06<6:12:08, 27.10s/it]"
     ]
    },
    {
     "name": "stdout",
     "output_type": "stream",
     "text": [
      "eigenvalues shape torch.Size([5]) eigenvectors shape torch.Size([5, 550])\n",
      "176 /home/phdcs2/Hard_Disk/Datasets/Deep-Spectral-Segmentation/data/object-segmentation/ECSSD/features/dino_vits16/0177.pth\n",
      "dict_keys(['k', 'indices', 'file', 'id', 'model_name', 'patch_size', 'shape'])\n",
      "0177\n",
      "Starting Training\n",
      "epoch: 00, loss: -0.29647\n",
      "epoch: 01, loss: -0.53038\n",
      "epoch: 02, loss: -0.60679\n",
      "epoch: 03, loss: -0.70260\n",
      "epoch: 04, loss: -0.74345\n",
      "epoch: 05, loss: -0.78142\n",
      "epoch: 06, loss: -0.78966\n",
      "epoch: 07, loss: -0.78529\n",
      "epoch: 08, loss: -0.79167\n",
      "epoch: 09, loss: -0.79091\n"
     ]
    },
    {
     "name": "stderr",
     "output_type": "stream",
     "text": [
      " 18%|█▊        | 177/1000 [1:07:25<5:37:29, 24.60s/it]"
     ]
    },
    {
     "name": "stdout",
     "output_type": "stream",
     "text": [
      "eigenvalues shape torch.Size([5]) eigenvectors shape torch.Size([5, 400])\n",
      "177 /home/phdcs2/Hard_Disk/Datasets/Deep-Spectral-Segmentation/data/object-segmentation/ECSSD/features/dino_vits16/0178.pth\n",
      "dict_keys(['k', 'indices', 'file', 'id', 'model_name', 'patch_size', 'shape'])\n",
      "0178\n",
      "Starting Training\n",
      "epoch: 00, loss: -0.37677\n",
      "epoch: 01, loss: -0.75915\n",
      "epoch: 02, loss: -0.82047\n",
      "epoch: 03, loss: -0.84298\n",
      "epoch: 04, loss: -0.86253\n",
      "epoch: 05, loss: -0.87446\n",
      "epoch: 06, loss: -0.88992\n",
      "epoch: 07, loss: -0.87182\n",
      "epoch: 08, loss: -0.87624\n",
      "epoch: 09, loss: -0.88412\n"
     ]
    },
    {
     "name": "stderr",
     "output_type": "stream",
     "text": [
      " 18%|█▊        | 178/1000 [1:07:48<5:30:17, 24.11s/it]"
     ]
    },
    {
     "name": "stdout",
     "output_type": "stream",
     "text": [
      "eigenvalues shape torch.Size([5]) eigenvectors shape torch.Size([5, 450])\n",
      "178 /home/phdcs2/Hard_Disk/Datasets/Deep-Spectral-Segmentation/data/object-segmentation/ECSSD/features/dino_vits16/0179.pth\n",
      "dict_keys(['k', 'indices', 'file', 'id', 'model_name', 'patch_size', 'shape'])\n",
      "0179\n",
      "Starting Training\n",
      "epoch: 00, loss: -0.55456\n",
      "epoch: 01, loss: -0.81716\n",
      "epoch: 02, loss: -0.80189\n",
      "epoch: 03, loss: -0.76398\n",
      "epoch: 04, loss: -0.78081\n",
      "epoch: 05, loss: -0.82939\n",
      "epoch: 06, loss: -0.84581\n",
      "epoch: 07, loss: -0.82056\n",
      "epoch: 08, loss: -0.85039\n",
      "epoch: 09, loss: -0.85083\n"
     ]
    },
    {
     "name": "stderr",
     "output_type": "stream",
     "text": [
      " 18%|█▊        | 179/1000 [1:08:06<5:03:52, 22.21s/it]"
     ]
    },
    {
     "name": "stdout",
     "output_type": "stream",
     "text": [
      "eigenvalues shape torch.Size([5]) eigenvectors shape torch.Size([5, 400])\n",
      "179 /home/phdcs2/Hard_Disk/Datasets/Deep-Spectral-Segmentation/data/object-segmentation/ECSSD/features/dino_vits16/0180.pth\n",
      "dict_keys(['k', 'indices', 'file', 'id', 'model_name', 'patch_size', 'shape'])\n",
      "0180\n",
      "Starting Training\n",
      "epoch: 00, loss: -0.29531\n",
      "epoch: 01, loss: -0.65032\n",
      "epoch: 02, loss: -0.69217\n",
      "epoch: 03, loss: -0.71476\n",
      "epoch: 04, loss: -0.73538\n",
      "epoch: 05, loss: -0.74527\n",
      "epoch: 06, loss: -0.71795\n",
      "epoch: 07, loss: -0.71068\n",
      "epoch: 08, loss: -0.71944\n",
      "epoch: 09, loss: -0.75231\n"
     ]
    },
    {
     "name": "stderr",
     "output_type": "stream",
     "text": [
      " 18%|█▊        | 180/1000 [1:08:29<5:05:59, 22.39s/it]"
     ]
    },
    {
     "name": "stdout",
     "output_type": "stream",
     "text": [
      "eigenvalues shape torch.Size([5]) eigenvectors shape torch.Size([5, 400])\n",
      "180 /home/phdcs2/Hard_Disk/Datasets/Deep-Spectral-Segmentation/data/object-segmentation/ECSSD/features/dino_vits16/0181.pth\n",
      "dict_keys(['k', 'indices', 'file', 'id', 'model_name', 'patch_size', 'shape'])\n",
      "0181\n",
      "Starting Training\n",
      "epoch: 00, loss: -0.23561\n",
      "epoch: 01, loss: -0.61762\n",
      "epoch: 02, loss: -0.70630\n",
      "epoch: 03, loss: -0.74038\n",
      "epoch: 04, loss: -0.77203\n",
      "epoch: 05, loss: -0.76930\n",
      "epoch: 06, loss: -0.78904\n",
      "epoch: 07, loss: -0.79178\n",
      "epoch: 08, loss: -0.77937\n",
      "epoch: 09, loss: -0.79194\n"
     ]
    },
    {
     "name": "stderr",
     "output_type": "stream",
     "text": [
      " 18%|█▊        | 181/1000 [1:08:55<5:21:57, 23.59s/it]"
     ]
    },
    {
     "name": "stdout",
     "output_type": "stream",
     "text": [
      "eigenvalues shape torch.Size([5]) eigenvectors shape torch.Size([5, 375])\n",
      "181 /home/phdcs2/Hard_Disk/Datasets/Deep-Spectral-Segmentation/data/object-segmentation/ECSSD/features/dino_vits16/0182.pth\n",
      "dict_keys(['k', 'indices', 'file', 'id', 'model_name', 'patch_size', 'shape'])\n",
      "0182\n",
      "Starting Training\n",
      "epoch: 00, loss: -0.44646\n",
      "epoch: 01, loss: -0.70513\n",
      "epoch: 02, loss: -0.76291\n",
      "epoch: 03, loss: -0.76381\n",
      "epoch: 04, loss: -0.76456\n",
      "epoch: 05, loss: -0.75875\n",
      "epoch: 06, loss: -0.75025\n",
      "epoch: 07, loss: -0.75700\n",
      "epoch: 08, loss: -0.78358\n",
      "epoch: 09, loss: -0.78775\n"
     ]
    },
    {
     "name": "stderr",
     "output_type": "stream",
     "text": [
      " 18%|█▊        | 182/1000 [1:09:36<6:32:44, 28.81s/it]"
     ]
    },
    {
     "name": "stdout",
     "output_type": "stream",
     "text": [
      "eigenvalues shape torch.Size([5]) eigenvectors shape torch.Size([5, 625])\n",
      "182 /home/phdcs2/Hard_Disk/Datasets/Deep-Spectral-Segmentation/data/object-segmentation/ECSSD/features/dino_vits16/0183.pth\n",
      "dict_keys(['k', 'indices', 'file', 'id', 'model_name', 'patch_size', 'shape'])\n",
      "0183\n",
      "Starting Training\n",
      "epoch: 00, loss: -0.67167\n",
      "epoch: 01, loss: -0.92246\n",
      "epoch: 02, loss: -0.93869\n",
      "epoch: 03, loss: -0.94137\n",
      "epoch: 04, loss: -0.91806\n",
      "epoch: 05, loss: -0.91723\n",
      "epoch: 06, loss: -0.91056\n",
      "epoch: 07, loss: -0.92970\n",
      "epoch: 08, loss: -0.92277\n",
      "epoch: 09, loss: -0.90816\n"
     ]
    },
    {
     "name": "stderr",
     "output_type": "stream",
     "text": [
      " 18%|█▊        | 183/1000 [1:09:59<6:09:00, 27.10s/it]"
     ]
    },
    {
     "name": "stdout",
     "output_type": "stream",
     "text": [
      "eigenvalues shape torch.Size([5]) eigenvectors shape torch.Size([5, 400])\n",
      "183 /home/phdcs2/Hard_Disk/Datasets/Deep-Spectral-Segmentation/data/object-segmentation/ECSSD/features/dino_vits16/0184.pth\n",
      "dict_keys(['k', 'indices', 'file', 'id', 'model_name', 'patch_size', 'shape'])\n",
      "0184\n",
      "Starting Training\n",
      "epoch: 00, loss: -0.45040\n",
      "epoch: 01, loss: -0.75730\n",
      "epoch: 02, loss: -0.81867\n",
      "epoch: 03, loss: -0.79945\n",
      "epoch: 04, loss: -0.82666\n",
      "epoch: 05, loss: -0.82897\n",
      "epoch: 06, loss: -0.83562\n",
      "epoch: 07, loss: -0.83395\n",
      "epoch: 08, loss: -0.82285\n",
      "epoch: 09, loss: -0.80751\n"
     ]
    },
    {
     "name": "stderr",
     "output_type": "stream",
     "text": [
      " 18%|█▊        | 184/1000 [1:10:35<6:42:57, 29.63s/it]"
     ]
    },
    {
     "name": "stdout",
     "output_type": "stream",
     "text": [
      "eigenvalues shape torch.Size([5]) eigenvectors shape torch.Size([5, 625])\n",
      "184 /home/phdcs2/Hard_Disk/Datasets/Deep-Spectral-Segmentation/data/object-segmentation/ECSSD/features/dino_vits16/0185.pth\n",
      "dict_keys(['k', 'indices', 'file', 'id', 'model_name', 'patch_size', 'shape'])\n",
      "0185\n",
      "Starting Training\n",
      "epoch: 00, loss: -0.50883\n",
      "epoch: 01, loss: -0.69362\n",
      "epoch: 02, loss: -0.71337\n",
      "epoch: 03, loss: -0.72704\n",
      "epoch: 04, loss: -0.75176\n",
      "epoch: 05, loss: -0.76841\n",
      "epoch: 06, loss: -0.75287\n",
      "epoch: 07, loss: -0.78240\n",
      "epoch: 08, loss: -0.79314\n",
      "epoch: 09, loss: -0.76536\n"
     ]
    },
    {
     "name": "stderr",
     "output_type": "stream",
     "text": [
      " 18%|█▊        | 185/1000 [1:11:22<7:53:10, 34.83s/it]"
     ]
    },
    {
     "name": "stdout",
     "output_type": "stream",
     "text": [
      "eigenvalues shape torch.Size([5]) eigenvectors shape torch.Size([5, 625])\n",
      "185 /home/phdcs2/Hard_Disk/Datasets/Deep-Spectral-Segmentation/data/object-segmentation/ECSSD/features/dino_vits16/0186.pth\n",
      "dict_keys(['k', 'indices', 'file', 'id', 'model_name', 'patch_size', 'shape'])\n",
      "0186\n",
      "Starting Training\n",
      "epoch: 00, loss: -0.72897\n",
      "epoch: 01, loss: -0.90832\n",
      "epoch: 02, loss: -0.89608\n",
      "epoch: 03, loss: -0.89225\n",
      "epoch: 04, loss: -0.88094\n",
      "epoch: 05, loss: -0.87744\n",
      "epoch: 06, loss: -0.86995\n",
      "epoch: 07, loss: -0.86221\n",
      "epoch: 08, loss: -0.86166\n",
      "epoch: 09, loss: -0.87363\n"
     ]
    },
    {
     "name": "stderr",
     "output_type": "stream",
     "text": [
      " 19%|█▊        | 186/1000 [1:12:08<8:37:12, 38.12s/it]"
     ]
    },
    {
     "name": "stdout",
     "output_type": "stream",
     "text": [
      "eigenvalues shape torch.Size([5]) eigenvectors shape torch.Size([5, 625])\n",
      "186 /home/phdcs2/Hard_Disk/Datasets/Deep-Spectral-Segmentation/data/object-segmentation/ECSSD/features/dino_vits16/0187.pth\n",
      "dict_keys(['k', 'indices', 'file', 'id', 'model_name', 'patch_size', 'shape'])\n",
      "0187\n",
      "Starting Training\n",
      "epoch: 00, loss: -0.07789\n",
      "epoch: 01, loss: -0.45122\n",
      "epoch: 02, loss: -0.61065\n",
      "epoch: 03, loss: -0.67269\n",
      "epoch: 04, loss: -0.70255\n",
      "epoch: 05, loss: -0.70942\n",
      "epoch: 06, loss: -0.73058\n",
      "epoch: 07, loss: -0.74372\n",
      "epoch: 08, loss: -0.70069\n",
      "epoch: 09, loss: -0.64747\n"
     ]
    },
    {
     "name": "stderr",
     "output_type": "stream",
     "text": [
      " 19%|█▊        | 187/1000 [1:12:20<6:50:56, 30.33s/it]"
     ]
    },
    {
     "name": "stdout",
     "output_type": "stream",
     "text": [
      "eigenvalues shape torch.Size([5]) eigenvectors shape torch.Size([5, 200])\n",
      "187 /home/phdcs2/Hard_Disk/Datasets/Deep-Spectral-Segmentation/data/object-segmentation/ECSSD/features/dino_vits16/0188.pth\n",
      "dict_keys(['k', 'indices', 'file', 'id', 'model_name', 'patch_size', 'shape'])\n",
      "0188\n",
      "Starting Training\n",
      "epoch: 00, loss: -0.57496\n",
      "epoch: 01, loss: -0.85490\n",
      "epoch: 02, loss: -0.85138\n",
      "epoch: 03, loss: -0.88606\n",
      "epoch: 04, loss: -0.88478\n",
      "epoch: 05, loss: -0.88298\n",
      "epoch: 06, loss: -0.87265\n",
      "epoch: 07, loss: -0.85999\n",
      "epoch: 08, loss: -0.69861\n",
      "epoch: 09, loss: -0.69605\n"
     ]
    },
    {
     "name": "stderr",
     "output_type": "stream",
     "text": [
      " 19%|█▉        | 188/1000 [1:12:41<6:13:45, 27.62s/it]"
     ]
    },
    {
     "name": "stdout",
     "output_type": "stream",
     "text": [
      "eigenvalues shape torch.Size([5]) eigenvectors shape torch.Size([5, 400])\n",
      "188 /home/phdcs2/Hard_Disk/Datasets/Deep-Spectral-Segmentation/data/object-segmentation/ECSSD/features/dino_vits16/0189.pth\n",
      "dict_keys(['k', 'indices', 'file', 'id', 'model_name', 'patch_size', 'shape'])\n",
      "0189\n",
      "Starting Training\n",
      "epoch: 00, loss: -0.35183\n",
      "epoch: 01, loss: -0.74117\n",
      "epoch: 02, loss: -0.74258\n",
      "epoch: 03, loss: -0.78743\n",
      "epoch: 04, loss: -0.80006\n",
      "epoch: 05, loss: -0.80506\n",
      "epoch: 06, loss: -0.81742\n",
      "epoch: 07, loss: -0.84086\n",
      "epoch: 08, loss: -0.85244\n",
      "epoch: 09, loss: -0.84711\n"
     ]
    },
    {
     "name": "stderr",
     "output_type": "stream",
     "text": [
      " 19%|█▉        | 189/1000 [1:13:01<5:42:36, 25.35s/it]"
     ]
    },
    {
     "name": "stdout",
     "output_type": "stream",
     "text": [
      "eigenvalues shape torch.Size([5]) eigenvectors shape torch.Size([5, 400])\n",
      "189 /home/phdcs2/Hard_Disk/Datasets/Deep-Spectral-Segmentation/data/object-segmentation/ECSSD/features/dino_vits16/0190.pth\n",
      "dict_keys(['k', 'indices', 'file', 'id', 'model_name', 'patch_size', 'shape'])\n",
      "0190\n",
      "Starting Training\n",
      "epoch: 00, loss: -0.63935\n",
      "epoch: 01, loss: -0.89994\n",
      "epoch: 02, loss: -0.87371\n",
      "epoch: 03, loss: -0.85231\n",
      "epoch: 04, loss: -0.87134\n",
      "epoch: 05, loss: -0.89548\n",
      "epoch: 06, loss: -0.87063\n",
      "epoch: 07, loss: -0.87715\n",
      "epoch: 08, loss: -0.89803\n",
      "epoch: 09, loss: -0.85993\n"
     ]
    },
    {
     "name": "stderr",
     "output_type": "stream",
     "text": [
      " 19%|█▉        | 190/1000 [1:13:23<5:28:06, 24.30s/it]"
     ]
    },
    {
     "name": "stdout",
     "output_type": "stream",
     "text": [
      "eigenvalues shape torch.Size([5]) eigenvectors shape torch.Size([5, 450])\n",
      "190 /home/phdcs2/Hard_Disk/Datasets/Deep-Spectral-Segmentation/data/object-segmentation/ECSSD/features/dino_vits16/0191.pth\n",
      "dict_keys(['k', 'indices', 'file', 'id', 'model_name', 'patch_size', 'shape'])\n",
      "0191\n",
      "Starting Training\n",
      "epoch: 00, loss: -0.53962\n",
      "epoch: 01, loss: -0.79834\n",
      "epoch: 02, loss: -0.81101\n",
      "epoch: 03, loss: -0.79888\n",
      "epoch: 04, loss: -0.75222\n",
      "epoch: 05, loss: -0.75026\n",
      "epoch: 06, loss: -0.75710\n",
      "epoch: 07, loss: -0.69025\n",
      "epoch: 08, loss: -0.66999\n",
      "epoch: 09, loss: -0.73672\n"
     ]
    },
    {
     "name": "stderr",
     "output_type": "stream",
     "text": [
      " 19%|█▉        | 191/1000 [1:13:51<5:44:15, 25.53s/it]"
     ]
    },
    {
     "name": "stdout",
     "output_type": "stream",
     "text": [
      "eigenvalues shape torch.Size([5]) eigenvectors shape torch.Size([5, 450])\n",
      "191 /home/phdcs2/Hard_Disk/Datasets/Deep-Spectral-Segmentation/data/object-segmentation/ECSSD/features/dino_vits16/0192.pth\n",
      "dict_keys(['k', 'indices', 'file', 'id', 'model_name', 'patch_size', 'shape'])\n",
      "0192\n",
      "Starting Training\n",
      "epoch: 00, loss: -0.25562\n",
      "epoch: 01, loss: -0.65075\n",
      "epoch: 02, loss: -0.68307\n",
      "epoch: 03, loss: -0.71645\n",
      "epoch: 04, loss: -0.75831\n",
      "epoch: 05, loss: -0.78030\n",
      "epoch: 06, loss: -0.75419\n",
      "epoch: 07, loss: -0.74274\n",
      "epoch: 08, loss: -0.74931\n",
      "epoch: 09, loss: -0.74100\n"
     ]
    },
    {
     "name": "stderr",
     "output_type": "stream",
     "text": [
      " 19%|█▉        | 192/1000 [1:14:19<5:50:49, 26.05s/it]"
     ]
    },
    {
     "name": "stdout",
     "output_type": "stream",
     "text": [
      "eigenvalues shape torch.Size([5]) eigenvectors shape torch.Size([5, 400])\n",
      "192 /home/phdcs2/Hard_Disk/Datasets/Deep-Spectral-Segmentation/data/object-segmentation/ECSSD/features/dino_vits16/0193.pth\n",
      "dict_keys(['k', 'indices', 'file', 'id', 'model_name', 'patch_size', 'shape'])\n",
      "0193\n",
      "Starting Training\n",
      "epoch: 00, loss: -0.24440\n",
      "epoch: 01, loss: -0.71174\n",
      "epoch: 02, loss: -0.76746\n",
      "epoch: 03, loss: -0.81080\n",
      "epoch: 04, loss: -0.83180\n",
      "epoch: 05, loss: -0.84250\n",
      "epoch: 06, loss: -0.82506\n",
      "epoch: 07, loss: -0.83632\n",
      "epoch: 08, loss: -0.83617\n",
      "epoch: 09, loss: -0.82658\n"
     ]
    },
    {
     "name": "stderr",
     "output_type": "stream",
     "text": [
      " 19%|█▉        | 193/1000 [1:14:49<6:07:18, 27.31s/it]"
     ]
    },
    {
     "name": "stdout",
     "output_type": "stream",
     "text": [
      "eigenvalues shape torch.Size([5]) eigenvectors shape torch.Size([5, 450])\n",
      "193 /home/phdcs2/Hard_Disk/Datasets/Deep-Spectral-Segmentation/data/object-segmentation/ECSSD/features/dino_vits16/0194.pth\n",
      "dict_keys(['k', 'indices', 'file', 'id', 'model_name', 'patch_size', 'shape'])\n",
      "0194\n",
      "Starting Training\n",
      "epoch: 00, loss: -0.62622\n",
      "epoch: 01, loss: -0.89217\n",
      "epoch: 02, loss: -0.87070\n",
      "epoch: 03, loss: -0.86293\n",
      "epoch: 04, loss: -0.88416\n",
      "epoch: 05, loss: -0.86609\n",
      "epoch: 06, loss: -0.85716\n",
      "epoch: 07, loss: -0.83844\n",
      "epoch: 08, loss: -0.84450\n",
      "epoch: 09, loss: -0.87682\n"
     ]
    },
    {
     "name": "stderr",
     "output_type": "stream",
     "text": [
      " 19%|█▉        | 194/1000 [1:15:15<6:02:28, 26.98s/it]"
     ]
    },
    {
     "name": "stdout",
     "output_type": "stream",
     "text": [
      "eigenvalues shape torch.Size([5]) eigenvectors shape torch.Size([5, 450])\n",
      "194 /home/phdcs2/Hard_Disk/Datasets/Deep-Spectral-Segmentation/data/object-segmentation/ECSSD/features/dino_vits16/0195.pth\n",
      "dict_keys(['k', 'indices', 'file', 'id', 'model_name', 'patch_size', 'shape'])\n",
      "0195\n",
      "Starting Training\n",
      "epoch: 00, loss: -0.40681\n",
      "epoch: 01, loss: -0.75253\n",
      "epoch: 02, loss: -0.78701\n",
      "epoch: 03, loss: -0.82666\n",
      "epoch: 04, loss: -0.84697\n",
      "epoch: 05, loss: -0.85531\n",
      "epoch: 06, loss: -0.85607\n",
      "epoch: 07, loss: -0.85786\n",
      "epoch: 08, loss: -0.85885\n",
      "epoch: 09, loss: -0.82873\n"
     ]
    },
    {
     "name": "stderr",
     "output_type": "stream",
     "text": [
      " 20%|█▉        | 195/1000 [1:15:39<5:51:36, 26.21s/it]"
     ]
    },
    {
     "name": "stdout",
     "output_type": "stream",
     "text": [
      "eigenvalues shape torch.Size([5]) eigenvectors shape torch.Size([5, 400])\n",
      "195 /home/phdcs2/Hard_Disk/Datasets/Deep-Spectral-Segmentation/data/object-segmentation/ECSSD/features/dino_vits16/0196.pth\n",
      "dict_keys(['k', 'indices', 'file', 'id', 'model_name', 'patch_size', 'shape'])\n",
      "0196\n",
      "Starting Training\n",
      "epoch: 00, loss: -0.58802\n",
      "epoch: 01, loss: -0.92346\n",
      "epoch: 02, loss: -0.93059\n",
      "epoch: 03, loss: -0.91925\n",
      "epoch: 04, loss: -0.87722\n",
      "epoch: 05, loss: -0.80195\n",
      "epoch: 06, loss: -0.79389\n",
      "epoch: 07, loss: -0.77479\n",
      "epoch: 08, loss: -0.80058\n",
      "epoch: 09, loss: -0.80701\n"
     ]
    },
    {
     "name": "stderr",
     "output_type": "stream",
     "text": [
      " 20%|█▉        | 196/1000 [1:16:27<7:15:05, 32.47s/it]"
     ]
    },
    {
     "name": "stdout",
     "output_type": "stream",
     "text": [
      "eigenvalues shape torch.Size([5]) eigenvectors shape torch.Size([5, 625])\n",
      "196 /home/phdcs2/Hard_Disk/Datasets/Deep-Spectral-Segmentation/data/object-segmentation/ECSSD/features/dino_vits16/0197.pth\n",
      "dict_keys(['k', 'indices', 'file', 'id', 'model_name', 'patch_size', 'shape'])\n",
      "0197\n",
      "Starting Training\n",
      "epoch: 00, loss: -0.64393\n",
      "epoch: 01, loss: -0.95829\n",
      "epoch: 02, loss: -0.96190\n",
      "epoch: 03, loss: -0.95966\n",
      "epoch: 04, loss: -0.96133\n",
      "epoch: 05, loss: -0.95982\n",
      "epoch: 06, loss: -0.95751\n",
      "epoch: 07, loss: -0.96034\n",
      "epoch: 08, loss: -0.95088\n",
      "epoch: 09, loss: -0.94926\n"
     ]
    },
    {
     "name": "stderr",
     "output_type": "stream",
     "text": [
      " 20%|█▉        | 197/1000 [1:16:52<6:47:35, 30.45s/it]"
     ]
    },
    {
     "name": "stdout",
     "output_type": "stream",
     "text": [
      "eigenvalues shape torch.Size([5]) eigenvectors shape torch.Size([5, 400])\n",
      "197 /home/phdcs2/Hard_Disk/Datasets/Deep-Spectral-Segmentation/data/object-segmentation/ECSSD/features/dino_vits16/0198.pth\n",
      "dict_keys(['k', 'indices', 'file', 'id', 'model_name', 'patch_size', 'shape'])\n",
      "0198\n",
      "Starting Training\n",
      "epoch: 00, loss: -0.46231\n",
      "epoch: 01, loss: -0.83584\n",
      "epoch: 02, loss: -0.89741\n",
      "epoch: 03, loss: -0.89619\n",
      "epoch: 04, loss: -0.90398\n",
      "epoch: 05, loss: -0.90988\n",
      "epoch: 06, loss: -0.90353\n",
      "epoch: 07, loss: -0.89463\n",
      "epoch: 08, loss: -0.88155\n",
      "epoch: 09, loss: -0.89661\n"
     ]
    },
    {
     "name": "stderr",
     "output_type": "stream",
     "text": [
      " 20%|█▉        | 198/1000 [1:17:34<7:33:29, 33.93s/it]"
     ]
    },
    {
     "name": "stdout",
     "output_type": "stream",
     "text": [
      "eigenvalues shape torch.Size([5]) eigenvectors shape torch.Size([5, 425])\n",
      "198 /home/phdcs2/Hard_Disk/Datasets/Deep-Spectral-Segmentation/data/object-segmentation/ECSSD/features/dino_vits16/0199.pth\n",
      "dict_keys(['k', 'indices', 'file', 'id', 'model_name', 'patch_size', 'shape'])\n",
      "0199\n",
      "Starting Training\n",
      "epoch: 00, loss: -0.27158\n",
      "epoch: 01, loss: -0.62141\n",
      "epoch: 02, loss: -0.71484\n",
      "epoch: 03, loss: -0.78866\n",
      "epoch: 04, loss: -0.80629\n",
      "epoch: 05, loss: -0.80642\n",
      "epoch: 06, loss: -0.80868\n",
      "epoch: 07, loss: -0.77011\n",
      "epoch: 08, loss: -0.79676\n",
      "epoch: 09, loss: -0.81622\n"
     ]
    },
    {
     "name": "stderr",
     "output_type": "stream",
     "text": [
      " 20%|█▉        | 199/1000 [1:18:09<7:35:29, 34.12s/it]"
     ]
    },
    {
     "name": "stdout",
     "output_type": "stream",
     "text": [
      "eigenvalues shape torch.Size([5]) eigenvectors shape torch.Size([5, 450])\n",
      "199 /home/phdcs2/Hard_Disk/Datasets/Deep-Spectral-Segmentation/data/object-segmentation/ECSSD/features/dino_vits16/0200.pth\n",
      "dict_keys(['k', 'indices', 'file', 'id', 'model_name', 'patch_size', 'shape'])\n",
      "0200\n",
      "Starting Training\n",
      "epoch: 00, loss: -0.35425\n",
      "epoch: 01, loss: -0.63957\n",
      "epoch: 02, loss: -0.67876\n",
      "epoch: 03, loss: -0.73284\n",
      "epoch: 04, loss: -0.75651\n",
      "epoch: 05, loss: -0.77902\n",
      "epoch: 06, loss: -0.79513\n",
      "epoch: 07, loss: -0.81807\n",
      "epoch: 08, loss: -0.82716\n",
      "epoch: 09, loss: -0.82276\n"
     ]
    },
    {
     "name": "stderr",
     "output_type": "stream",
     "text": [
      " 20%|██        | 200/1000 [1:18:48<7:54:57, 35.62s/it]"
     ]
    },
    {
     "name": "stdout",
     "output_type": "stream",
     "text": [
      "eigenvalues shape torch.Size([5]) eigenvectors shape torch.Size([5, 450])\n",
      "200 /home/phdcs2/Hard_Disk/Datasets/Deep-Spectral-Segmentation/data/object-segmentation/ECSSD/features/dino_vits16/0201.pth\n",
      "dict_keys(['k', 'indices', 'file', 'id', 'model_name', 'patch_size', 'shape'])\n",
      "0201\n",
      "Starting Training\n",
      "epoch: 00, loss: -0.32293\n",
      "epoch: 01, loss: -0.70502\n",
      "epoch: 02, loss: -0.75219\n",
      "epoch: 03, loss: -0.69799\n",
      "epoch: 04, loss: -0.71676\n",
      "epoch: 05, loss: -0.75223\n",
      "epoch: 06, loss: -0.77075\n",
      "epoch: 07, loss: -0.79137\n",
      "epoch: 08, loss: -0.76719\n",
      "epoch: 09, loss: -0.75308\n"
     ]
    },
    {
     "name": "stderr",
     "output_type": "stream",
     "text": [
      " 20%|██        | 201/1000 [1:19:20<7:40:45, 34.60s/it]"
     ]
    },
    {
     "name": "stdout",
     "output_type": "stream",
     "text": [
      "eigenvalues shape torch.Size([5]) eigenvectors shape torch.Size([5, 425])\n",
      "201 /home/phdcs2/Hard_Disk/Datasets/Deep-Spectral-Segmentation/data/object-segmentation/ECSSD/features/dino_vits16/0202.pth\n",
      "dict_keys(['k', 'indices', 'file', 'id', 'model_name', 'patch_size', 'shape'])\n",
      "0202\n",
      "Starting Training\n",
      "epoch: 00, loss: -0.57569\n",
      "epoch: 01, loss: -0.77356\n",
      "epoch: 02, loss: -0.78068\n",
      "epoch: 03, loss: -0.75936\n",
      "epoch: 04, loss: -0.77497\n",
      "epoch: 05, loss: -0.78343\n",
      "epoch: 06, loss: -0.79996\n",
      "epoch: 07, loss: -0.83623\n",
      "epoch: 08, loss: -0.83136\n",
      "epoch: 09, loss: -0.84380\n"
     ]
    },
    {
     "name": "stderr",
     "output_type": "stream",
     "text": [
      " 20%|██        | 202/1000 [1:19:54<7:37:18, 34.38s/it]"
     ]
    },
    {
     "name": "stdout",
     "output_type": "stream",
     "text": [
      "eigenvalues shape torch.Size([5]) eigenvectors shape torch.Size([5, 400])\n",
      "202 /home/phdcs2/Hard_Disk/Datasets/Deep-Spectral-Segmentation/data/object-segmentation/ECSSD/features/dino_vits16/0203.pth\n",
      "dict_keys(['k', 'indices', 'file', 'id', 'model_name', 'patch_size', 'shape'])\n",
      "0203\n",
      "Starting Training\n",
      "epoch: 00, loss: -0.38807\n",
      "epoch: 01, loss: -0.74569\n",
      "epoch: 02, loss: -0.76144\n",
      "epoch: 03, loss: -0.79143\n",
      "epoch: 04, loss: -0.82264\n",
      "epoch: 05, loss: -0.83990\n",
      "epoch: 06, loss: -0.83797\n",
      "epoch: 07, loss: -0.82857\n",
      "epoch: 08, loss: -0.82609\n",
      "epoch: 09, loss: -0.83182\n"
     ]
    },
    {
     "name": "stderr",
     "output_type": "stream",
     "text": [
      " 20%|██        | 203/1000 [1:20:23<7:14:17, 32.69s/it]"
     ]
    },
    {
     "name": "stdout",
     "output_type": "stream",
     "text": [
      "eigenvalues shape torch.Size([5]) eigenvectors shape torch.Size([5, 400])\n",
      "203 /home/phdcs2/Hard_Disk/Datasets/Deep-Spectral-Segmentation/data/object-segmentation/ECSSD/features/dino_vits16/0204.pth\n",
      "dict_keys(['k', 'indices', 'file', 'id', 'model_name', 'patch_size', 'shape'])\n",
      "0204\n",
      "Starting Training\n",
      "epoch: 00, loss: -0.40426\n",
      "epoch: 01, loss: -0.70459\n",
      "epoch: 02, loss: -0.79731\n",
      "epoch: 03, loss: -0.81833\n",
      "epoch: 04, loss: -0.83577\n",
      "epoch: 05, loss: -0.84892\n",
      "epoch: 06, loss: -0.85293\n",
      "epoch: 07, loss: -0.87183\n",
      "epoch: 08, loss: -0.87463\n",
      "epoch: 09, loss: -0.87508\n"
     ]
    },
    {
     "name": "stderr",
     "output_type": "stream",
     "text": [
      " 20%|██        | 204/1000 [1:20:47<6:37:46, 29.98s/it]"
     ]
    },
    {
     "name": "stdout",
     "output_type": "stream",
     "text": [
      "eigenvalues shape torch.Size([5]) eigenvectors shape torch.Size([5, 450])\n",
      "204 /home/phdcs2/Hard_Disk/Datasets/Deep-Spectral-Segmentation/data/object-segmentation/ECSSD/features/dino_vits16/0205.pth\n",
      "dict_keys(['k', 'indices', 'file', 'id', 'model_name', 'patch_size', 'shape'])\n",
      "0205\n",
      "Starting Training\n",
      "epoch: 00, loss: -0.35252\n",
      "epoch: 01, loss: -0.69209\n",
      "epoch: 02, loss: -0.77113\n",
      "epoch: 03, loss: -0.79912\n",
      "epoch: 04, loss: -0.82290\n",
      "epoch: 05, loss: -0.82681\n",
      "epoch: 06, loss: -0.84513\n",
      "epoch: 07, loss: -0.86402\n",
      "epoch: 08, loss: -0.86772\n",
      "epoch: 09, loss: -0.87270\n"
     ]
    },
    {
     "name": "stderr",
     "output_type": "stream",
     "text": [
      " 20%|██        | 205/1000 [1:21:09<6:07:49, 27.76s/it]"
     ]
    },
    {
     "name": "stdout",
     "output_type": "stream",
     "text": [
      "eigenvalues shape torch.Size([5]) eigenvectors shape torch.Size([5, 450])\n",
      "205 /home/phdcs2/Hard_Disk/Datasets/Deep-Spectral-Segmentation/data/object-segmentation/ECSSD/features/dino_vits16/0206.pth\n",
      "dict_keys(['k', 'indices', 'file', 'id', 'model_name', 'patch_size', 'shape'])\n",
      "0206\n",
      "Starting Training\n",
      "epoch: 00, loss: -0.41904\n",
      "epoch: 01, loss: -0.63108\n",
      "epoch: 02, loss: -0.72519\n",
      "epoch: 03, loss: -0.73591\n",
      "epoch: 04, loss: -0.77655\n",
      "epoch: 05, loss: -0.78458\n",
      "epoch: 06, loss: -0.79581\n",
      "epoch: 07, loss: -0.80511\n",
      "epoch: 08, loss: -0.83042\n",
      "epoch: 09, loss: -0.81794\n"
     ]
    },
    {
     "name": "stderr",
     "output_type": "stream",
     "text": [
      " 21%|██        | 206/1000 [1:21:30<5:39:42, 25.67s/it]"
     ]
    },
    {
     "name": "stdout",
     "output_type": "stream",
     "text": [
      "eigenvalues shape torch.Size([5]) eigenvectors shape torch.Size([5, 400])\n",
      "206 /home/phdcs2/Hard_Disk/Datasets/Deep-Spectral-Segmentation/data/object-segmentation/ECSSD/features/dino_vits16/0207.pth\n",
      "dict_keys(['k', 'indices', 'file', 'id', 'model_name', 'patch_size', 'shape'])\n",
      "0207\n",
      "Starting Training\n",
      "epoch: 00, loss: -0.30769\n",
      "epoch: 01, loss: -0.64595\n",
      "epoch: 02, loss: -0.71519\n",
      "epoch: 03, loss: -0.73702\n",
      "epoch: 04, loss: -0.75844\n",
      "epoch: 05, loss: -0.79301\n",
      "epoch: 06, loss: -0.81401\n",
      "epoch: 07, loss: -0.82142\n",
      "epoch: 08, loss: -0.82219\n",
      "epoch: 09, loss: -0.80847\n"
     ]
    },
    {
     "name": "stderr",
     "output_type": "stream",
     "text": [
      " 21%|██        | 207/1000 [1:21:51<5:19:21, 24.16s/it]"
     ]
    },
    {
     "name": "stdout",
     "output_type": "stream",
     "text": [
      "eigenvalues shape torch.Size([5]) eigenvectors shape torch.Size([5, 400])\n",
      "207 /home/phdcs2/Hard_Disk/Datasets/Deep-Spectral-Segmentation/data/object-segmentation/ECSSD/features/dino_vits16/0208.pth\n",
      "dict_keys(['k', 'indices', 'file', 'id', 'model_name', 'patch_size', 'shape'])\n",
      "0208\n",
      "Starting Training\n",
      "epoch: 00, loss: -0.47951\n",
      "epoch: 01, loss: -0.74452\n",
      "epoch: 02, loss: -0.73899\n",
      "epoch: 03, loss: -0.78108\n",
      "epoch: 04, loss: -0.77923\n",
      "epoch: 05, loss: -0.82053\n",
      "epoch: 06, loss: -0.82639\n",
      "epoch: 07, loss: -0.81225\n",
      "epoch: 08, loss: -0.83369\n",
      "epoch: 09, loss: -0.86073\n"
     ]
    },
    {
     "name": "stderr",
     "output_type": "stream",
     "text": [
      " 21%|██        | 208/1000 [1:22:14<5:18:06, 24.10s/it]"
     ]
    },
    {
     "name": "stdout",
     "output_type": "stream",
     "text": [
      "eigenvalues shape torch.Size([5]) eigenvectors shape torch.Size([5, 450])\n",
      "208 /home/phdcs2/Hard_Disk/Datasets/Deep-Spectral-Segmentation/data/object-segmentation/ECSSD/features/dino_vits16/0209.pth\n",
      "dict_keys(['k', 'indices', 'file', 'id', 'model_name', 'patch_size', 'shape'])\n",
      "0209\n",
      "Starting Training\n",
      "epoch: 00, loss: -0.49613\n",
      "epoch: 01, loss: -0.69226\n",
      "epoch: 02, loss: -0.80401\n",
      "epoch: 03, loss: -0.83707\n",
      "epoch: 04, loss: -0.85480\n",
      "epoch: 05, loss: -0.87049\n",
      "epoch: 06, loss: -0.86198\n",
      "epoch: 07, loss: -0.86954\n",
      "epoch: 08, loss: -0.87423\n",
      "epoch: 09, loss: -0.88050\n"
     ]
    },
    {
     "name": "stderr",
     "output_type": "stream",
     "text": [
      " 21%|██        | 209/1000 [1:22:40<5:24:28, 24.61s/it]"
     ]
    },
    {
     "name": "stdout",
     "output_type": "stream",
     "text": [
      "eigenvalues shape torch.Size([5]) eigenvectors shape torch.Size([5, 500])\n",
      "209 /home/phdcs2/Hard_Disk/Datasets/Deep-Spectral-Segmentation/data/object-segmentation/ECSSD/features/dino_vits16/0210.pth\n",
      "dict_keys(['k', 'indices', 'file', 'id', 'model_name', 'patch_size', 'shape'])\n",
      "0210\n",
      "Starting Training\n",
      "epoch: 00, loss: -0.57209\n",
      "epoch: 01, loss: -0.91717\n",
      "epoch: 02, loss: -0.90428\n",
      "epoch: 03, loss: -0.79288\n",
      "epoch: 04, loss: -0.76333\n",
      "epoch: 05, loss: -0.78471\n",
      "epoch: 06, loss: -0.77541\n",
      "epoch: 07, loss: -0.78743\n",
      "epoch: 08, loss: -0.79303\n",
      "epoch: 09, loss: -0.81398\n"
     ]
    },
    {
     "name": "stderr",
     "output_type": "stream",
     "text": [
      " 21%|██        | 210/1000 [1:23:01<5:08:41, 23.45s/it]"
     ]
    },
    {
     "name": "stdout",
     "output_type": "stream",
     "text": [
      "eigenvalues shape torch.Size([5]) eigenvectors shape torch.Size([5, 425])\n",
      "210 /home/phdcs2/Hard_Disk/Datasets/Deep-Spectral-Segmentation/data/object-segmentation/ECSSD/features/dino_vits16/0211.pth\n",
      "dict_keys(['k', 'indices', 'file', 'id', 'model_name', 'patch_size', 'shape'])\n",
      "0211\n",
      "Starting Training\n",
      "epoch: 00, loss: -0.57843\n",
      "epoch: 01, loss: -0.84213\n",
      "epoch: 02, loss: -0.84071\n",
      "epoch: 03, loss: -0.81719\n",
      "epoch: 04, loss: -0.78228\n",
      "epoch: 05, loss: -0.84555\n",
      "epoch: 06, loss: -0.87247\n",
      "epoch: 07, loss: -0.89879\n",
      "epoch: 08, loss: -0.89968\n",
      "epoch: 09, loss: -0.90151\n"
     ]
    },
    {
     "name": "stderr",
     "output_type": "stream",
     "text": [
      " 21%|██        | 211/1000 [1:23:27<5:18:45, 24.24s/it]"
     ]
    },
    {
     "name": "stdout",
     "output_type": "stream",
     "text": [
      "eigenvalues shape torch.Size([5]) eigenvectors shape torch.Size([5, 500])\n",
      "211 /home/phdcs2/Hard_Disk/Datasets/Deep-Spectral-Segmentation/data/object-segmentation/ECSSD/features/dino_vits16/0212.pth\n",
      "dict_keys(['k', 'indices', 'file', 'id', 'model_name', 'patch_size', 'shape'])\n",
      "0212\n",
      "Starting Training\n",
      "epoch: 00, loss: -0.37574\n",
      "epoch: 01, loss: -0.73089\n",
      "epoch: 02, loss: -0.80467\n",
      "epoch: 03, loss: -0.86675\n",
      "epoch: 04, loss: -0.86623\n",
      "epoch: 05, loss: -0.86412\n",
      "epoch: 06, loss: -0.87785\n",
      "epoch: 07, loss: -0.88663\n",
      "epoch: 08, loss: -0.89952\n",
      "epoch: 09, loss: -0.89603\n"
     ]
    },
    {
     "name": "stderr",
     "output_type": "stream",
     "text": [
      " 21%|██        | 212/1000 [1:23:59<5:49:45, 26.63s/it]"
     ]
    },
    {
     "name": "stdout",
     "output_type": "stream",
     "text": [
      "eigenvalues shape torch.Size([5]) eigenvectors shape torch.Size([5, 625])\n",
      "212 /home/phdcs2/Hard_Disk/Datasets/Deep-Spectral-Segmentation/data/object-segmentation/ECSSD/features/dino_vits16/0213.pth\n",
      "dict_keys(['k', 'indices', 'file', 'id', 'model_name', 'patch_size', 'shape'])\n",
      "0213\n",
      "Starting Training\n",
      "epoch: 00, loss: -0.38207\n",
      "epoch: 01, loss: -0.61743\n",
      "epoch: 02, loss: -0.66610\n",
      "epoch: 03, loss: -0.67349\n",
      "epoch: 04, loss: -0.73559\n",
      "epoch: 05, loss: -0.72939\n",
      "epoch: 06, loss: -0.75159\n",
      "epoch: 07, loss: -0.74962\n",
      "epoch: 08, loss: -0.77435\n",
      "epoch: 09, loss: -0.77681\n"
     ]
    },
    {
     "name": "stderr",
     "output_type": "stream",
     "text": [
      " 21%|██▏       | 213/1000 [1:24:19<5:23:13, 24.64s/it]"
     ]
    },
    {
     "name": "stdout",
     "output_type": "stream",
     "text": [
      "eigenvalues shape torch.Size([5]) eigenvectors shape torch.Size([5, 450])\n",
      "213 /home/phdcs2/Hard_Disk/Datasets/Deep-Spectral-Segmentation/data/object-segmentation/ECSSD/features/dino_vits16/0214.pth\n",
      "dict_keys(['k', 'indices', 'file', 'id', 'model_name', 'patch_size', 'shape'])\n",
      "0214\n",
      "Starting Training\n",
      "epoch: 00, loss: -0.26843\n",
      "epoch: 01, loss: -0.80092\n",
      "epoch: 02, loss: -0.78596\n",
      "epoch: 03, loss: -0.77296\n",
      "epoch: 04, loss: -0.75474\n",
      "epoch: 05, loss: -0.80063\n",
      "epoch: 06, loss: -0.83297\n",
      "epoch: 07, loss: -0.82378\n",
      "epoch: 08, loss: -0.83416\n",
      "epoch: 09, loss: -0.74436\n"
     ]
    },
    {
     "name": "stderr",
     "output_type": "stream",
     "text": [
      " 21%|██▏       | 214/1000 [1:24:38<4:59:52, 22.89s/it]"
     ]
    },
    {
     "name": "stdout",
     "output_type": "stream",
     "text": [
      "eigenvalues shape torch.Size([5]) eigenvectors shape torch.Size([5, 350])\n",
      "214 /home/phdcs2/Hard_Disk/Datasets/Deep-Spectral-Segmentation/data/object-segmentation/ECSSD/features/dino_vits16/0215.pth\n",
      "dict_keys(['k', 'indices', 'file', 'id', 'model_name', 'patch_size', 'shape'])\n",
      "0215\n",
      "Starting Training\n",
      "epoch: 00, loss: -0.33227\n",
      "epoch: 01, loss: -0.66501\n",
      "epoch: 02, loss: -0.69595\n",
      "epoch: 03, loss: -0.72195\n",
      "epoch: 04, loss: -0.72045\n",
      "epoch: 05, loss: -0.73790\n",
      "epoch: 06, loss: -0.72530\n",
      "epoch: 07, loss: -0.73266\n",
      "epoch: 08, loss: -0.75450\n",
      "epoch: 09, loss: -0.76551\n"
     ]
    },
    {
     "name": "stderr",
     "output_type": "stream",
     "text": [
      " 22%|██▏       | 215/1000 [1:25:00<4:56:51, 22.69s/it]"
     ]
    },
    {
     "name": "stdout",
     "output_type": "stream",
     "text": [
      "eigenvalues shape torch.Size([5]) eigenvectors shape torch.Size([5, 425])\n",
      "215 /home/phdcs2/Hard_Disk/Datasets/Deep-Spectral-Segmentation/data/object-segmentation/ECSSD/features/dino_vits16/0216.pth\n",
      "dict_keys(['k', 'indices', 'file', 'id', 'model_name', 'patch_size', 'shape'])\n",
      "0216\n",
      "Starting Training\n",
      "epoch: 00, loss: -0.41445\n",
      "epoch: 01, loss: -0.65607\n",
      "epoch: 02, loss: -0.66493\n",
      "epoch: 03, loss: -0.73825\n",
      "epoch: 04, loss: -0.77226\n",
      "epoch: 05, loss: -0.73446\n",
      "epoch: 06, loss: -0.75770\n",
      "epoch: 07, loss: -0.77288\n",
      "epoch: 08, loss: -0.78366\n",
      "epoch: 09, loss: -0.78467\n"
     ]
    },
    {
     "name": "stderr",
     "output_type": "stream",
     "text": [
      " 22%|██▏       | 216/1000 [1:25:24<4:59:55, 22.95s/it]"
     ]
    },
    {
     "name": "stdout",
     "output_type": "stream",
     "text": [
      "eigenvalues shape torch.Size([5]) eigenvectors shape torch.Size([5, 450])\n",
      "216 /home/phdcs2/Hard_Disk/Datasets/Deep-Spectral-Segmentation/data/object-segmentation/ECSSD/features/dino_vits16/0217.pth\n",
      "dict_keys(['k', 'indices', 'file', 'id', 'model_name', 'patch_size', 'shape'])\n",
      "0217\n",
      "Starting Training\n",
      "epoch: 00, loss: -0.44755\n",
      "epoch: 01, loss: -0.69403\n",
      "epoch: 02, loss: -0.76634\n",
      "epoch: 03, loss: -0.81726\n",
      "epoch: 04, loss: -0.81847\n",
      "epoch: 05, loss: -0.77813\n",
      "epoch: 06, loss: -0.79645\n",
      "epoch: 07, loss: -0.81661\n",
      "epoch: 08, loss: -0.80081\n",
      "epoch: 09, loss: -0.82184\n"
     ]
    },
    {
     "name": "stderr",
     "output_type": "stream",
     "text": [
      " 22%|██▏       | 217/1000 [1:25:54<5:26:06, 24.99s/it]"
     ]
    },
    {
     "name": "stdout",
     "output_type": "stream",
     "text": [
      "eigenvalues shape torch.Size([5]) eigenvectors shape torch.Size([5, 450])\n",
      "217 /home/phdcs2/Hard_Disk/Datasets/Deep-Spectral-Segmentation/data/object-segmentation/ECSSD/features/dino_vits16/0218.pth\n",
      "dict_keys(['k', 'indices', 'file', 'id', 'model_name', 'patch_size', 'shape'])\n",
      "0218\n",
      "Starting Training\n",
      "epoch: 00, loss: -0.38792\n",
      "epoch: 01, loss: -0.81078\n",
      "epoch: 02, loss: -0.83345\n",
      "epoch: 03, loss: -0.80514\n",
      "epoch: 04, loss: -0.82935\n",
      "epoch: 05, loss: -0.81262\n",
      "epoch: 06, loss: -0.80862\n",
      "epoch: 07, loss: -0.81733\n",
      "epoch: 08, loss: -0.80749\n",
      "epoch: 09, loss: -0.82016\n"
     ]
    },
    {
     "name": "stderr",
     "output_type": "stream",
     "text": [
      " 22%|██▏       | 218/1000 [1:26:25<5:50:00, 26.86s/it]"
     ]
    },
    {
     "name": "stdout",
     "output_type": "stream",
     "text": [
      "eigenvalues shape torch.Size([5]) eigenvectors shape torch.Size([5, 500])\n",
      "218 /home/phdcs2/Hard_Disk/Datasets/Deep-Spectral-Segmentation/data/object-segmentation/ECSSD/features/dino_vits16/0219.pth\n",
      "dict_keys(['k', 'indices', 'file', 'id', 'model_name', 'patch_size', 'shape'])\n",
      "0219\n",
      "Starting Training\n",
      "epoch: 00, loss: -0.40077\n",
      "epoch: 01, loss: -0.68122\n",
      "epoch: 02, loss: -0.75278\n",
      "epoch: 03, loss: -0.69362\n",
      "epoch: 04, loss: -0.71441\n",
      "epoch: 05, loss: -0.73832\n",
      "epoch: 06, loss: -0.76211\n",
      "epoch: 07, loss: -0.78475\n",
      "epoch: 08, loss: -0.79852\n",
      "epoch: 09, loss: -0.80069\n"
     ]
    },
    {
     "name": "stderr",
     "output_type": "stream",
     "text": [
      " 22%|██▏       | 219/1000 [1:26:52<5:50:36, 26.94s/it]"
     ]
    },
    {
     "name": "stdout",
     "output_type": "stream",
     "text": [
      "eigenvalues shape torch.Size([5]) eigenvectors shape torch.Size([5, 450])\n",
      "219 /home/phdcs2/Hard_Disk/Datasets/Deep-Spectral-Segmentation/data/object-segmentation/ECSSD/features/dino_vits16/0220.pth\n",
      "dict_keys(['k', 'indices', 'file', 'id', 'model_name', 'patch_size', 'shape'])\n",
      "0220\n",
      "Starting Training\n",
      "epoch: 00, loss: -0.38213\n",
      "epoch: 01, loss: -0.71136\n",
      "epoch: 02, loss: -0.75859\n",
      "epoch: 03, loss: -0.77117\n",
      "epoch: 04, loss: -0.79596\n",
      "epoch: 05, loss: -0.84053\n",
      "epoch: 06, loss: -0.81005\n",
      "epoch: 07, loss: -0.80173\n",
      "epoch: 08, loss: -0.80515\n",
      "epoch: 09, loss: -0.82832\n"
     ]
    },
    {
     "name": "stderr",
     "output_type": "stream",
     "text": [
      " 22%|██▏       | 220/1000 [1:27:31<6:35:24, 30.42s/it]"
     ]
    },
    {
     "name": "stdout",
     "output_type": "stream",
     "text": [
      "eigenvalues shape torch.Size([5]) eigenvectors shape torch.Size([5, 500])\n",
      "220 /home/phdcs2/Hard_Disk/Datasets/Deep-Spectral-Segmentation/data/object-segmentation/ECSSD/features/dino_vits16/0221.pth\n",
      "dict_keys(['k', 'indices', 'file', 'id', 'model_name', 'patch_size', 'shape'])\n",
      "0221\n",
      "Starting Training\n",
      "epoch: 00, loss: -0.63944\n",
      "epoch: 01, loss: -0.93515\n",
      "epoch: 02, loss: -0.91700\n",
      "epoch: 03, loss: -0.92273\n",
      "epoch: 04, loss: -0.92528\n",
      "epoch: 05, loss: -0.93980\n",
      "epoch: 06, loss: -0.94304\n",
      "epoch: 07, loss: -0.92634\n",
      "epoch: 08, loss: -0.87123\n",
      "epoch: 09, loss: -0.87617\n"
     ]
    },
    {
     "name": "stderr",
     "output_type": "stream",
     "text": [
      " 22%|██▏       | 221/1000 [1:28:03<6:42:27, 31.00s/it]"
     ]
    },
    {
     "name": "stdout",
     "output_type": "stream",
     "text": [
      "eigenvalues shape torch.Size([5]) eigenvectors shape torch.Size([5, 400])\n",
      "221 /home/phdcs2/Hard_Disk/Datasets/Deep-Spectral-Segmentation/data/object-segmentation/ECSSD/features/dino_vits16/0222.pth\n",
      "dict_keys(['k', 'indices', 'file', 'id', 'model_name', 'patch_size', 'shape'])\n",
      "0222\n",
      "Starting Training\n",
      "epoch: 00, loss: -0.55321\n",
      "epoch: 01, loss: -0.86271\n",
      "epoch: 02, loss: -0.85367\n",
      "epoch: 03, loss: -0.80347\n",
      "epoch: 04, loss: -0.79710\n",
      "epoch: 05, loss: -0.80353\n",
      "epoch: 06, loss: -0.79364\n",
      "epoch: 07, loss: -0.82297\n",
      "epoch: 08, loss: -0.83152\n",
      "epoch: 09, loss: -0.82587\n"
     ]
    },
    {
     "name": "stderr",
     "output_type": "stream",
     "text": [
      " 22%|██▏       | 222/1000 [1:28:42<7:15:27, 33.58s/it]"
     ]
    },
    {
     "name": "stdout",
     "output_type": "stream",
     "text": [
      "eigenvalues shape torch.Size([5]) eigenvectors shape torch.Size([5, 500])\n",
      "222 /home/phdcs2/Hard_Disk/Datasets/Deep-Spectral-Segmentation/data/object-segmentation/ECSSD/features/dino_vits16/0223.pth\n",
      "dict_keys(['k', 'indices', 'file', 'id', 'model_name', 'patch_size', 'shape'])\n",
      "0223\n",
      "Starting Training\n",
      "epoch: 00, loss: -0.36939\n",
      "epoch: 01, loss: -0.64576\n",
      "epoch: 02, loss: -0.69347\n",
      "epoch: 03, loss: -0.73534\n",
      "epoch: 04, loss: -0.74982\n",
      "epoch: 05, loss: -0.76959\n",
      "epoch: 06, loss: -0.78853\n",
      "epoch: 07, loss: -0.80126\n",
      "epoch: 08, loss: -0.81189\n",
      "epoch: 09, loss: -0.81157\n"
     ]
    },
    {
     "name": "stderr",
     "output_type": "stream",
     "text": [
      " 22%|██▏       | 223/1000 [1:29:10<6:51:08, 31.75s/it]"
     ]
    },
    {
     "name": "stdout",
     "output_type": "stream",
     "text": [
      "eigenvalues shape torch.Size([5]) eigenvectors shape torch.Size([5, 500])\n",
      "223 /home/phdcs2/Hard_Disk/Datasets/Deep-Spectral-Segmentation/data/object-segmentation/ECSSD/features/dino_vits16/0224.pth\n",
      "dict_keys(['k', 'indices', 'file', 'id', 'model_name', 'patch_size', 'shape'])\n",
      "0224\n",
      "Starting Training\n",
      "epoch: 00, loss: -0.60839\n",
      "epoch: 01, loss: -0.71976\n",
      "epoch: 02, loss: -0.74442\n",
      "epoch: 03, loss: -0.79035\n",
      "epoch: 04, loss: -0.80860\n",
      "epoch: 05, loss: -0.79165\n",
      "epoch: 06, loss: -0.79484\n",
      "epoch: 07, loss: -0.80645\n",
      "epoch: 08, loss: -0.82102\n",
      "epoch: 09, loss: -0.81869\n"
     ]
    },
    {
     "name": "stderr",
     "output_type": "stream",
     "text": [
      " 22%|██▏       | 224/1000 [1:29:44<6:59:35, 32.44s/it]"
     ]
    },
    {
     "name": "stdout",
     "output_type": "stream",
     "text": [
      "eigenvalues shape torch.Size([5]) eigenvectors shape torch.Size([5, 500])\n",
      "224 /home/phdcs2/Hard_Disk/Datasets/Deep-Spectral-Segmentation/data/object-segmentation/ECSSD/features/dino_vits16/0225.pth\n",
      "dict_keys(['k', 'indices', 'file', 'id', 'model_name', 'patch_size', 'shape'])\n",
      "0225\n",
      "Starting Training\n",
      "epoch: 00, loss: -0.60517\n",
      "epoch: 01, loss: -0.87551\n",
      "epoch: 02, loss: -0.86877\n",
      "epoch: 03, loss: -0.81201\n",
      "epoch: 04, loss: -0.75136\n",
      "epoch: 05, loss: -0.77739\n",
      "epoch: 06, loss: -0.79209\n",
      "epoch: 07, loss: -0.82377\n",
      "epoch: 08, loss: -0.84247\n",
      "epoch: 09, loss: -0.85125\n"
     ]
    },
    {
     "name": "stderr",
     "output_type": "stream",
     "text": [
      " 22%|██▎       | 225/1000 [1:30:18<7:05:46, 32.96s/it]"
     ]
    },
    {
     "name": "stdout",
     "output_type": "stream",
     "text": [
      "eigenvalues shape torch.Size([5]) eigenvectors shape torch.Size([5, 450])\n",
      "225 /home/phdcs2/Hard_Disk/Datasets/Deep-Spectral-Segmentation/data/object-segmentation/ECSSD/features/dino_vits16/0226.pth\n",
      "dict_keys(['k', 'indices', 'file', 'id', 'model_name', 'patch_size', 'shape'])\n",
      "0226\n",
      "Starting Training\n",
      "epoch: 00, loss: -0.36777\n",
      "epoch: 01, loss: -0.81775\n",
      "epoch: 02, loss: -0.87326\n",
      "epoch: 03, loss: -0.80998\n",
      "epoch: 04, loss: -0.80096\n",
      "epoch: 05, loss: -0.78377\n",
      "epoch: 06, loss: -0.78023\n",
      "epoch: 07, loss: -0.80167\n",
      "epoch: 08, loss: -0.82629\n",
      "epoch: 09, loss: -0.85162\n"
     ]
    },
    {
     "name": "stderr",
     "output_type": "stream",
     "text": [
      " 23%|██▎       | 226/1000 [1:30:52<7:08:11, 33.19s/it]"
     ]
    },
    {
     "name": "stdout",
     "output_type": "stream",
     "text": [
      "eigenvalues shape torch.Size([5]) eigenvectors shape torch.Size([5, 400])\n",
      "226 /home/phdcs2/Hard_Disk/Datasets/Deep-Spectral-Segmentation/data/object-segmentation/ECSSD/features/dino_vits16/0227.pth\n",
      "dict_keys(['k', 'indices', 'file', 'id', 'model_name', 'patch_size', 'shape'])\n",
      "0227\n",
      "Starting Training\n",
      "epoch: 00, loss: -0.33947\n",
      "epoch: 01, loss: -0.66641\n",
      "epoch: 02, loss: -0.75561\n",
      "epoch: 03, loss: -0.79031\n",
      "epoch: 04, loss: -0.80835\n",
      "epoch: 05, loss: -0.82395\n",
      "epoch: 06, loss: -0.83872\n",
      "epoch: 07, loss: -0.86219\n",
      "epoch: 08, loss: -0.88880\n",
      "epoch: 09, loss: -0.88849\n"
     ]
    },
    {
     "name": "stderr",
     "output_type": "stream",
     "text": [
      " 23%|██▎       | 227/1000 [1:31:21<6:53:28, 32.09s/it]"
     ]
    },
    {
     "name": "stdout",
     "output_type": "stream",
     "text": [
      "eigenvalues shape torch.Size([5]) eigenvectors shape torch.Size([5, 375])\n",
      "227 /home/phdcs2/Hard_Disk/Datasets/Deep-Spectral-Segmentation/data/object-segmentation/ECSSD/features/dino_vits16/0228.pth\n",
      "dict_keys(['k', 'indices', 'file', 'id', 'model_name', 'patch_size', 'shape'])\n",
      "0228\n",
      "Starting Training\n",
      "epoch: 00, loss: -0.33649\n",
      "epoch: 01, loss: -0.62676\n",
      "epoch: 02, loss: -0.69110\n",
      "epoch: 03, loss: -0.76142\n",
      "epoch: 04, loss: -0.78730\n",
      "epoch: 05, loss: -0.81099\n",
      "epoch: 06, loss: -0.82767\n",
      "epoch: 07, loss: -0.83213\n",
      "epoch: 08, loss: -0.85334\n",
      "epoch: 09, loss: -0.85657\n"
     ]
    },
    {
     "name": "stderr",
     "output_type": "stream",
     "text": [
      " 23%|██▎       | 228/1000 [1:31:54<6:56:15, 32.35s/it]"
     ]
    },
    {
     "name": "stdout",
     "output_type": "stream",
     "text": [
      "eigenvalues shape torch.Size([5]) eigenvectors shape torch.Size([5, 375])\n",
      "228 /home/phdcs2/Hard_Disk/Datasets/Deep-Spectral-Segmentation/data/object-segmentation/ECSSD/features/dino_vits16/0229.pth\n",
      "dict_keys(['k', 'indices', 'file', 'id', 'model_name', 'patch_size', 'shape'])\n",
      "0229\n",
      "Starting Training\n",
      "epoch: 00, loss: -0.54563\n",
      "epoch: 01, loss: -0.84012\n",
      "epoch: 02, loss: -0.86285\n",
      "epoch: 03, loss: -0.83188\n",
      "epoch: 04, loss: -0.84210\n",
      "epoch: 05, loss: -0.81458\n",
      "epoch: 06, loss: -0.80799\n",
      "epoch: 07, loss: -0.81808\n",
      "epoch: 08, loss: -0.81833\n",
      "epoch: 09, loss: -0.79725\n"
     ]
    },
    {
     "name": "stderr",
     "output_type": "stream",
     "text": [
      " 23%|██▎       | 229/1000 [1:32:39<7:41:46, 35.94s/it]"
     ]
    },
    {
     "name": "stdout",
     "output_type": "stream",
     "text": [
      "eigenvalues shape torch.Size([5]) eigenvectors shape torch.Size([5, 400])\n",
      "229 /home/phdcs2/Hard_Disk/Datasets/Deep-Spectral-Segmentation/data/object-segmentation/ECSSD/features/dino_vits16/0230.pth\n",
      "dict_keys(['k', 'indices', 'file', 'id', 'model_name', 'patch_size', 'shape'])\n",
      "0230\n",
      "Starting Training\n",
      "epoch: 00, loss: -0.58156\n",
      "epoch: 01, loss: -0.72708\n",
      "epoch: 02, loss: -0.74740\n",
      "epoch: 03, loss: -0.73165\n",
      "epoch: 04, loss: -0.76350\n",
      "epoch: 05, loss: -0.80554\n",
      "epoch: 06, loss: -0.76758\n",
      "epoch: 07, loss: -0.79985\n",
      "epoch: 08, loss: -0.80654\n",
      "epoch: 09, loss: -0.80775\n"
     ]
    },
    {
     "name": "stderr",
     "output_type": "stream",
     "text": [
      " 23%|██▎       | 230/1000 [1:33:20<8:00:24, 37.43s/it]"
     ]
    },
    {
     "name": "stdout",
     "output_type": "stream",
     "text": [
      "eigenvalues shape torch.Size([5]) eigenvectors shape torch.Size([5, 450])\n",
      "230 /home/phdcs2/Hard_Disk/Datasets/Deep-Spectral-Segmentation/data/object-segmentation/ECSSD/features/dino_vits16/0231.pth\n",
      "dict_keys(['k', 'indices', 'file', 'id', 'model_name', 'patch_size', 'shape'])\n",
      "0231\n",
      "Starting Training\n",
      "epoch: 00, loss: -0.42577\n",
      "epoch: 01, loss: -0.74035\n",
      "epoch: 02, loss: -0.82750\n",
      "epoch: 03, loss: -0.86052\n",
      "epoch: 04, loss: -0.86895\n",
      "epoch: 05, loss: -0.88349\n",
      "epoch: 06, loss: -0.87401\n",
      "epoch: 07, loss: -0.87450\n",
      "epoch: 08, loss: -0.87367\n",
      "epoch: 09, loss: -0.83508\n"
     ]
    },
    {
     "name": "stderr",
     "output_type": "stream",
     "text": [
      " 23%|██▎       | 231/1000 [1:33:56<7:56:58, 37.22s/it]"
     ]
    },
    {
     "name": "stdout",
     "output_type": "stream",
     "text": [
      "eigenvalues shape torch.Size([5]) eigenvectors shape torch.Size([5, 525])\n",
      "231 /home/phdcs2/Hard_Disk/Datasets/Deep-Spectral-Segmentation/data/object-segmentation/ECSSD/features/dino_vits16/0232.pth\n",
      "dict_keys(['k', 'indices', 'file', 'id', 'model_name', 'patch_size', 'shape'])\n",
      "0232\n",
      "Starting Training\n",
      "epoch: 00, loss: -0.37791\n",
      "epoch: 01, loss: -0.70244\n",
      "epoch: 02, loss: -0.74610\n",
      "epoch: 03, loss: -0.76726\n",
      "epoch: 04, loss: -0.77991\n",
      "epoch: 05, loss: -0.77930\n",
      "epoch: 06, loss: -0.77203\n",
      "epoch: 07, loss: -0.78153\n",
      "epoch: 08, loss: -0.78453\n",
      "epoch: 09, loss: -0.79002\n"
     ]
    },
    {
     "name": "stderr",
     "output_type": "stream",
     "text": [
      " 23%|██▎       | 232/1000 [1:34:27<7:29:48, 35.14s/it]"
     ]
    },
    {
     "name": "stdout",
     "output_type": "stream",
     "text": [
      "eigenvalues shape torch.Size([5]) eigenvectors shape torch.Size([5, 500])\n",
      "232 /home/phdcs2/Hard_Disk/Datasets/Deep-Spectral-Segmentation/data/object-segmentation/ECSSD/features/dino_vits16/0233.pth\n",
      "dict_keys(['k', 'indices', 'file', 'id', 'model_name', 'patch_size', 'shape'])\n",
      "0233\n",
      "Starting Training\n",
      "epoch: 00, loss: -0.49999\n",
      "epoch: 01, loss: -0.70575\n",
      "epoch: 02, loss: -0.70433\n",
      "epoch: 03, loss: -0.75534\n",
      "epoch: 04, loss: -0.81918\n",
      "epoch: 05, loss: -0.84323\n",
      "epoch: 06, loss: -0.85712\n",
      "epoch: 07, loss: -0.87133\n",
      "epoch: 08, loss: -0.86091\n",
      "epoch: 09, loss: -0.87557\n"
     ]
    },
    {
     "name": "stderr",
     "output_type": "stream",
     "text": [
      " 23%|██▎       | 233/1000 [1:34:58<7:14:10, 33.96s/it]"
     ]
    },
    {
     "name": "stdout",
     "output_type": "stream",
     "text": [
      "eigenvalues shape torch.Size([5]) eigenvectors shape torch.Size([5, 475])\n",
      "233 /home/phdcs2/Hard_Disk/Datasets/Deep-Spectral-Segmentation/data/object-segmentation/ECSSD/features/dino_vits16/0234.pth\n",
      "dict_keys(['k', 'indices', 'file', 'id', 'model_name', 'patch_size', 'shape'])\n",
      "0234\n",
      "Starting Training\n",
      "epoch: 00, loss: -0.37964\n",
      "epoch: 01, loss: -0.73625\n",
      "epoch: 02, loss: -0.78869\n",
      "epoch: 03, loss: -0.79350\n",
      "epoch: 04, loss: -0.82245\n",
      "epoch: 05, loss: -0.83103\n",
      "epoch: 06, loss: -0.83492\n",
      "epoch: 07, loss: -0.83912\n",
      "epoch: 08, loss: -0.87202\n",
      "epoch: 09, loss: -0.86650\n"
     ]
    },
    {
     "name": "stderr",
     "output_type": "stream",
     "text": [
      " 23%|██▎       | 234/1000 [1:35:23<6:38:40, 31.23s/it]"
     ]
    },
    {
     "name": "stdout",
     "output_type": "stream",
     "text": [
      "eigenvalues shape torch.Size([5]) eigenvectors shape torch.Size([5, 400])\n",
      "234 /home/phdcs2/Hard_Disk/Datasets/Deep-Spectral-Segmentation/data/object-segmentation/ECSSD/features/dino_vits16/0235.pth\n",
      "dict_keys(['k', 'indices', 'file', 'id', 'model_name', 'patch_size', 'shape'])\n",
      "0235\n",
      "Starting Training\n",
      "epoch: 00, loss: -0.44031\n",
      "epoch: 01, loss: -0.77298\n",
      "epoch: 02, loss: -0.83304\n",
      "epoch: 03, loss: -0.85078\n",
      "epoch: 04, loss: -0.86414\n",
      "epoch: 05, loss: -0.85515\n",
      "epoch: 06, loss: -0.82654\n",
      "epoch: 07, loss: -0.84202\n",
      "epoch: 08, loss: -0.84308\n",
      "epoch: 09, loss: -0.85732\n"
     ]
    },
    {
     "name": "stderr",
     "output_type": "stream",
     "text": [
      " 24%|██▎       | 235/1000 [1:35:50<6:22:11, 29.98s/it]"
     ]
    },
    {
     "name": "stdout",
     "output_type": "stream",
     "text": [
      "eigenvalues shape torch.Size([5]) eigenvectors shape torch.Size([5, 400])\n",
      "235 /home/phdcs2/Hard_Disk/Datasets/Deep-Spectral-Segmentation/data/object-segmentation/ECSSD/features/dino_vits16/0236.pth\n",
      "dict_keys(['k', 'indices', 'file', 'id', 'model_name', 'patch_size', 'shape'])\n",
      "0236\n",
      "Starting Training\n",
      "epoch: 00, loss: -0.52144\n",
      "epoch: 01, loss: -0.74846\n",
      "epoch: 02, loss: -0.76630\n",
      "epoch: 03, loss: -0.81382\n",
      "epoch: 04, loss: -0.83673\n",
      "epoch: 05, loss: -0.85264\n",
      "epoch: 06, loss: -0.86772\n",
      "epoch: 07, loss: -0.88243\n",
      "epoch: 08, loss: -0.86851\n",
      "epoch: 09, loss: -0.87802\n"
     ]
    },
    {
     "name": "stderr",
     "output_type": "stream",
     "text": [
      " 24%|██▎       | 236/1000 [1:36:24<6:39:04, 31.34s/it]"
     ]
    },
    {
     "name": "stdout",
     "output_type": "stream",
     "text": [
      "eigenvalues shape torch.Size([5]) eigenvectors shape torch.Size([5, 400])\n",
      "236 /home/phdcs2/Hard_Disk/Datasets/Deep-Spectral-Segmentation/data/object-segmentation/ECSSD/features/dino_vits16/0237.pth\n",
      "dict_keys(['k', 'indices', 'file', 'id', 'model_name', 'patch_size', 'shape'])\n",
      "0237\n",
      "Starting Training\n",
      "epoch: 00, loss: -0.37489\n",
      "epoch: 01, loss: -0.77388\n",
      "epoch: 02, loss: -0.78795\n",
      "epoch: 03, loss: -0.79366\n",
      "epoch: 04, loss: -0.70761\n",
      "epoch: 05, loss: -0.70720\n",
      "epoch: 06, loss: -0.72427\n",
      "epoch: 07, loss: -0.72753\n",
      "epoch: 08, loss: -0.74599\n",
      "epoch: 09, loss: -0.74185\n"
     ]
    },
    {
     "name": "stderr",
     "output_type": "stream",
     "text": [
      " 24%|██▎       | 237/1000 [1:36:52<6:24:17, 30.22s/it]"
     ]
    },
    {
     "name": "stdout",
     "output_type": "stream",
     "text": [
      "eigenvalues shape torch.Size([5]) eigenvectors shape torch.Size([5, 400])\n",
      "237 /home/phdcs2/Hard_Disk/Datasets/Deep-Spectral-Segmentation/data/object-segmentation/ECSSD/features/dino_vits16/0238.pth\n",
      "dict_keys(['k', 'indices', 'file', 'id', 'model_name', 'patch_size', 'shape'])\n",
      "0238\n",
      "Starting Training\n",
      "epoch: 00, loss: -0.61402\n",
      "epoch: 01, loss: -0.91261\n",
      "epoch: 02, loss: -0.91728\n",
      "epoch: 03, loss: -0.91318\n",
      "epoch: 04, loss: -0.89279\n",
      "epoch: 05, loss: -0.90161\n",
      "epoch: 06, loss: -0.89723\n",
      "epoch: 07, loss: -0.89325\n",
      "epoch: 08, loss: -0.92307\n",
      "epoch: 09, loss: -0.90630\n"
     ]
    },
    {
     "name": "stderr",
     "output_type": "stream",
     "text": [
      " 24%|██▍       | 238/1000 [1:37:16<6:01:43, 28.48s/it]"
     ]
    },
    {
     "name": "stdout",
     "output_type": "stream",
     "text": [
      "eigenvalues shape torch.Size([5]) eigenvectors shape torch.Size([5, 400])\n",
      "238 /home/phdcs2/Hard_Disk/Datasets/Deep-Spectral-Segmentation/data/object-segmentation/ECSSD/features/dino_vits16/0239.pth\n",
      "dict_keys(['k', 'indices', 'file', 'id', 'model_name', 'patch_size', 'shape'])\n",
      "0239\n",
      "Starting Training\n",
      "epoch: 00, loss: -0.40344\n",
      "epoch: 01, loss: -0.67515\n",
      "epoch: 02, loss: -0.67443\n",
      "epoch: 03, loss: -0.66464\n",
      "epoch: 04, loss: -0.70359\n",
      "epoch: 05, loss: -0.75889\n",
      "epoch: 06, loss: -0.75691\n",
      "epoch: 07, loss: -0.76749\n",
      "epoch: 08, loss: -0.75495\n",
      "epoch: 09, loss: -0.70264\n"
     ]
    },
    {
     "name": "stderr",
     "output_type": "stream",
     "text": [
      " 24%|██▍       | 239/1000 [1:37:38<5:36:32, 26.53s/it]"
     ]
    },
    {
     "name": "stdout",
     "output_type": "stream",
     "text": [
      "eigenvalues shape torch.Size([5]) eigenvectors shape torch.Size([5, 400])\n",
      "239 /home/phdcs2/Hard_Disk/Datasets/Deep-Spectral-Segmentation/data/object-segmentation/ECSSD/features/dino_vits16/0240.pth\n",
      "dict_keys(['k', 'indices', 'file', 'id', 'model_name', 'patch_size', 'shape'])\n",
      "0240\n",
      "Starting Training\n",
      "epoch: 00, loss: -0.34949\n",
      "epoch: 01, loss: -0.64972\n",
      "epoch: 02, loss: -0.66502\n",
      "epoch: 03, loss: -0.65544\n",
      "epoch: 04, loss: -0.72135\n",
      "epoch: 05, loss: -0.72231\n",
      "epoch: 06, loss: -0.72561\n",
      "epoch: 07, loss: -0.74207\n",
      "epoch: 08, loss: -0.77550\n",
      "epoch: 09, loss: -0.79627\n"
     ]
    },
    {
     "name": "stderr",
     "output_type": "stream",
     "text": [
      " 24%|██▍       | 240/1000 [1:38:01<5:21:39, 25.39s/it]"
     ]
    },
    {
     "name": "stdout",
     "output_type": "stream",
     "text": [
      "eigenvalues shape torch.Size([5]) eigenvectors shape torch.Size([5, 350])\n",
      "240 /home/phdcs2/Hard_Disk/Datasets/Deep-Spectral-Segmentation/data/object-segmentation/ECSSD/features/dino_vits16/0241.pth\n",
      "dict_keys(['k', 'indices', 'file', 'id', 'model_name', 'patch_size', 'shape'])\n",
      "0241\n",
      "Starting Training\n",
      "epoch: 00, loss: -0.50432\n",
      "epoch: 01, loss: -0.78963\n",
      "epoch: 02, loss: -0.71103\n",
      "epoch: 03, loss: -0.73448\n",
      "epoch: 04, loss: -0.75873\n",
      "epoch: 05, loss: -0.79135\n",
      "epoch: 06, loss: -0.79807\n",
      "epoch: 07, loss: -0.78643\n",
      "epoch: 08, loss: -0.78095\n",
      "epoch: 09, loss: -0.71783\n"
     ]
    },
    {
     "name": "stderr",
     "output_type": "stream",
     "text": [
      " 24%|██▍       | 241/1000 [1:38:24<5:12:43, 24.72s/it]"
     ]
    },
    {
     "name": "stdout",
     "output_type": "stream",
     "text": [
      "eigenvalues shape torch.Size([5]) eigenvectors shape torch.Size([5, 400])\n",
      "241 /home/phdcs2/Hard_Disk/Datasets/Deep-Spectral-Segmentation/data/object-segmentation/ECSSD/features/dino_vits16/0242.pth\n",
      "dict_keys(['k', 'indices', 'file', 'id', 'model_name', 'patch_size', 'shape'])\n",
      "0242\n",
      "Starting Training\n",
      "epoch: 00, loss: -0.34221\n",
      "epoch: 01, loss: -0.72971\n",
      "epoch: 02, loss: -0.77229\n",
      "epoch: 03, loss: -0.82201\n",
      "epoch: 04, loss: -0.82701\n",
      "epoch: 05, loss: -0.83396\n",
      "epoch: 06, loss: -0.82906\n",
      "epoch: 07, loss: -0.84510\n",
      "epoch: 08, loss: -0.83757\n",
      "epoch: 09, loss: -0.83229\n"
     ]
    },
    {
     "name": "stderr",
     "output_type": "stream",
     "text": [
      " 24%|██▍       | 242/1000 [1:38:43<4:51:39, 23.09s/it]"
     ]
    },
    {
     "name": "stdout",
     "output_type": "stream",
     "text": [
      "eigenvalues shape torch.Size([5]) eigenvectors shape torch.Size([5, 325])\n",
      "242 /home/phdcs2/Hard_Disk/Datasets/Deep-Spectral-Segmentation/data/object-segmentation/ECSSD/features/dino_vits16/0243.pth\n",
      "dict_keys(['k', 'indices', 'file', 'id', 'model_name', 'patch_size', 'shape'])\n",
      "0243\n",
      "Starting Training\n",
      "epoch: 00, loss: -0.45719\n",
      "epoch: 01, loss: -0.75040\n",
      "epoch: 02, loss: -0.75960\n",
      "epoch: 03, loss: -0.77325\n",
      "epoch: 04, loss: -0.77671\n",
      "epoch: 05, loss: -0.79016\n",
      "epoch: 06, loss: -0.81491\n",
      "epoch: 07, loss: -0.83525\n",
      "epoch: 08, loss: -0.84745\n",
      "epoch: 09, loss: -0.85857\n"
     ]
    },
    {
     "name": "stderr",
     "output_type": "stream",
     "text": [
      " 24%|██▍       | 243/1000 [1:39:07<4:54:42, 23.36s/it]"
     ]
    },
    {
     "name": "stdout",
     "output_type": "stream",
     "text": [
      "eigenvalues shape torch.Size([5]) eigenvectors shape torch.Size([5, 400])\n",
      "243 /home/phdcs2/Hard_Disk/Datasets/Deep-Spectral-Segmentation/data/object-segmentation/ECSSD/features/dino_vits16/0244.pth\n",
      "dict_keys(['k', 'indices', 'file', 'id', 'model_name', 'patch_size', 'shape'])\n",
      "0244\n",
      "Starting Training\n",
      "epoch: 00, loss: -0.42179\n",
      "epoch: 01, loss: -0.61595\n",
      "epoch: 02, loss: -0.72623\n",
      "epoch: 03, loss: -0.80869\n",
      "epoch: 04, loss: -0.82295\n",
      "epoch: 05, loss: -0.84804\n",
      "epoch: 06, loss: -0.85509\n",
      "epoch: 07, loss: -0.83740\n",
      "epoch: 08, loss: -0.84584\n",
      "epoch: 09, loss: -0.85215\n"
     ]
    },
    {
     "name": "stderr",
     "output_type": "stream",
     "text": [
      " 24%|██▍       | 244/1000 [1:39:31<4:55:24, 23.44s/it]"
     ]
    },
    {
     "name": "stdout",
     "output_type": "stream",
     "text": [
      "eigenvalues shape torch.Size([5]) eigenvectors shape torch.Size([5, 400])\n",
      "244 /home/phdcs2/Hard_Disk/Datasets/Deep-Spectral-Segmentation/data/object-segmentation/ECSSD/features/dino_vits16/0245.pth\n",
      "dict_keys(['k', 'indices', 'file', 'id', 'model_name', 'patch_size', 'shape'])\n",
      "0245\n",
      "Starting Training\n",
      "epoch: 00, loss: -0.44163\n",
      "epoch: 01, loss: -0.70476\n",
      "epoch: 02, loss: -0.69473\n",
      "epoch: 03, loss: -0.71792\n",
      "epoch: 04, loss: -0.71558\n",
      "epoch: 05, loss: -0.73895\n",
      "epoch: 06, loss: -0.75525\n",
      "epoch: 07, loss: -0.78835\n",
      "epoch: 08, loss: -0.80003\n",
      "epoch: 09, loss: -0.81095\n"
     ]
    },
    {
     "name": "stderr",
     "output_type": "stream",
     "text": [
      " 24%|██▍       | 245/1000 [1:39:52<4:46:41, 22.78s/it]"
     ]
    },
    {
     "name": "stdout",
     "output_type": "stream",
     "text": [
      "eigenvalues shape torch.Size([5]) eigenvectors shape torch.Size([5, 400])\n",
      "245 /home/phdcs2/Hard_Disk/Datasets/Deep-Spectral-Segmentation/data/object-segmentation/ECSSD/features/dino_vits16/0246.pth\n",
      "dict_keys(['k', 'indices', 'file', 'id', 'model_name', 'patch_size', 'shape'])\n",
      "0246\n",
      "Starting Training\n",
      "epoch: 00, loss: -0.71422\n",
      "epoch: 01, loss: -0.94790\n",
      "epoch: 02, loss: -0.94323\n",
      "epoch: 03, loss: -0.93065\n",
      "epoch: 04, loss: -0.94239\n",
      "epoch: 05, loss: -0.92577\n",
      "epoch: 06, loss: -0.93949\n",
      "epoch: 07, loss: -0.94311\n",
      "epoch: 08, loss: -0.93687\n",
      "epoch: 09, loss: -0.92124\n"
     ]
    },
    {
     "name": "stderr",
     "output_type": "stream",
     "text": [
      " 25%|██▍       | 246/1000 [1:40:18<4:57:34, 23.68s/it]"
     ]
    },
    {
     "name": "stdout",
     "output_type": "stream",
     "text": [
      "eigenvalues shape torch.Size([5]) eigenvectors shape torch.Size([5, 400])\n",
      "246 /home/phdcs2/Hard_Disk/Datasets/Deep-Spectral-Segmentation/data/object-segmentation/ECSSD/features/dino_vits16/0247.pth\n",
      "dict_keys(['k', 'indices', 'file', 'id', 'model_name', 'patch_size', 'shape'])\n",
      "0247\n",
      "Starting Training\n",
      "epoch: 00, loss: -0.26060\n",
      "epoch: 01, loss: -0.61223\n",
      "epoch: 02, loss: -0.71398\n",
      "epoch: 03, loss: -0.72384\n",
      "epoch: 04, loss: -0.73147\n",
      "epoch: 05, loss: -0.72551\n",
      "epoch: 06, loss: -0.75092\n",
      "epoch: 07, loss: -0.77854\n",
      "epoch: 08, loss: -0.80727\n",
      "epoch: 09, loss: -0.83053\n"
     ]
    },
    {
     "name": "stderr",
     "output_type": "stream",
     "text": [
      " 25%|██▍       | 247/1000 [1:40:45<5:08:15, 24.56s/it]"
     ]
    },
    {
     "name": "stdout",
     "output_type": "stream",
     "text": [
      "eigenvalues shape torch.Size([5]) eigenvectors shape torch.Size([5, 400])\n",
      "247 /home/phdcs2/Hard_Disk/Datasets/Deep-Spectral-Segmentation/data/object-segmentation/ECSSD/features/dino_vits16/0248.pth\n",
      "dict_keys(['k', 'indices', 'file', 'id', 'model_name', 'patch_size', 'shape'])\n",
      "0248\n",
      "Starting Training\n",
      "epoch: 00, loss: -0.34090\n",
      "epoch: 01, loss: -0.58164\n",
      "epoch: 02, loss: -0.72299\n",
      "epoch: 03, loss: -0.72806\n",
      "epoch: 04, loss: -0.70595\n",
      "epoch: 05, loss: -0.73707\n",
      "epoch: 06, loss: -0.73194\n",
      "epoch: 07, loss: -0.75794\n",
      "epoch: 08, loss: -0.77620\n",
      "epoch: 09, loss: -0.76931\n"
     ]
    },
    {
     "name": "stderr",
     "output_type": "stream",
     "text": [
      " 25%|██▍       | 248/1000 [1:41:13<5:20:36, 25.58s/it]"
     ]
    },
    {
     "name": "stdout",
     "output_type": "stream",
     "text": [
      "eigenvalues shape torch.Size([5]) eigenvectors shape torch.Size([5, 450])\n",
      "248 /home/phdcs2/Hard_Disk/Datasets/Deep-Spectral-Segmentation/data/object-segmentation/ECSSD/features/dino_vits16/0249.pth\n",
      "dict_keys(['k', 'indices', 'file', 'id', 'model_name', 'patch_size', 'shape'])\n",
      "0249\n",
      "Starting Training\n",
      "epoch: 00, loss: -0.22691\n",
      "epoch: 01, loss: -0.58252\n",
      "epoch: 02, loss: -0.68647\n",
      "epoch: 03, loss: -0.73098\n",
      "epoch: 04, loss: -0.71952\n",
      "epoch: 05, loss: -0.75906\n",
      "epoch: 06, loss: -0.77737\n",
      "epoch: 07, loss: -0.78016\n",
      "epoch: 08, loss: -0.80245\n",
      "epoch: 09, loss: -0.80152\n"
     ]
    },
    {
     "name": "stderr",
     "output_type": "stream",
     "text": [
      " 25%|██▍       | 249/1000 [1:41:40<5:26:08, 26.06s/it]"
     ]
    },
    {
     "name": "stdout",
     "output_type": "stream",
     "text": [
      "eigenvalues shape torch.Size([5]) eigenvectors shape torch.Size([5, 425])\n",
      "249 /home/phdcs2/Hard_Disk/Datasets/Deep-Spectral-Segmentation/data/object-segmentation/ECSSD/features/dino_vits16/0250.pth\n",
      "dict_keys(['k', 'indices', 'file', 'id', 'model_name', 'patch_size', 'shape'])\n",
      "0250\n",
      "Starting Training\n",
      "epoch: 00, loss: -0.32291\n",
      "epoch: 01, loss: -0.68265\n",
      "epoch: 02, loss: -0.71500\n",
      "epoch: 03, loss: -0.71197\n",
      "epoch: 04, loss: -0.76029\n",
      "epoch: 05, loss: -0.75034\n",
      "epoch: 06, loss: -0.77643\n",
      "epoch: 07, loss: -0.78757\n",
      "epoch: 08, loss: -0.78966\n",
      "epoch: 09, loss: -0.81469\n"
     ]
    },
    {
     "name": "stderr",
     "output_type": "stream",
     "text": [
      " 25%|██▌       | 250/1000 [1:42:06<5:24:47, 25.98s/it]"
     ]
    },
    {
     "name": "stdout",
     "output_type": "stream",
     "text": [
      "eigenvalues shape torch.Size([5]) eigenvectors shape torch.Size([5, 400])\n",
      "250 /home/phdcs2/Hard_Disk/Datasets/Deep-Spectral-Segmentation/data/object-segmentation/ECSSD/features/dino_vits16/0251.pth\n",
      "dict_keys(['k', 'indices', 'file', 'id', 'model_name', 'patch_size', 'shape'])\n",
      "0251\n",
      "Starting Training\n",
      "epoch: 00, loss: -0.38492\n",
      "epoch: 01, loss: -0.66730\n",
      "epoch: 02, loss: -0.68594\n",
      "epoch: 03, loss: -0.72882\n",
      "epoch: 04, loss: -0.74048\n",
      "epoch: 05, loss: -0.75404\n",
      "epoch: 06, loss: -0.75199\n",
      "epoch: 07, loss: -0.77550\n",
      "epoch: 08, loss: -0.74895\n",
      "epoch: 09, loss: -0.77202\n"
     ]
    },
    {
     "name": "stderr",
     "output_type": "stream",
     "text": [
      " 25%|██▌       | 251/1000 [1:42:51<6:37:06, 31.81s/it]"
     ]
    },
    {
     "name": "stdout",
     "output_type": "stream",
     "text": [
      "eigenvalues shape torch.Size([5]) eigenvectors shape torch.Size([5, 450])\n",
      "251 /home/phdcs2/Hard_Disk/Datasets/Deep-Spectral-Segmentation/data/object-segmentation/ECSSD/features/dino_vits16/0252.pth\n",
      "dict_keys(['k', 'indices', 'file', 'id', 'model_name', 'patch_size', 'shape'])\n",
      "0252\n",
      "Starting Training\n",
      "epoch: 00, loss: -0.65310\n",
      "epoch: 01, loss: -0.90976\n",
      "epoch: 02, loss: -0.91207\n",
      "epoch: 03, loss: -0.91778\n",
      "epoch: 04, loss: -0.93126\n",
      "epoch: 05, loss: -0.92024\n",
      "epoch: 06, loss: -0.87634\n",
      "epoch: 07, loss: -0.83137\n",
      "epoch: 08, loss: -0.79247\n",
      "epoch: 09, loss: -0.80578\n"
     ]
    },
    {
     "name": "stderr",
     "output_type": "stream",
     "text": [
      " 25%|██▌       | 252/1000 [1:43:46<8:03:26, 38.78s/it]"
     ]
    },
    {
     "name": "stdout",
     "output_type": "stream",
     "text": [
      "eigenvalues shape torch.Size([5]) eigenvectors shape torch.Size([5, 450])\n",
      "252 /home/phdcs2/Hard_Disk/Datasets/Deep-Spectral-Segmentation/data/object-segmentation/ECSSD/features/dino_vits16/0253.pth\n",
      "dict_keys(['k', 'indices', 'file', 'id', 'model_name', 'patch_size', 'shape'])\n",
      "0253\n",
      "Starting Training\n",
      "epoch: 00, loss: -0.74226\n",
      "epoch: 01, loss: -0.95669\n",
      "epoch: 02, loss: -0.94200\n",
      "epoch: 03, loss: -0.94949\n",
      "epoch: 04, loss: -0.94077\n",
      "epoch: 05, loss: -0.94410\n",
      "epoch: 06, loss: -0.94496\n",
      "epoch: 07, loss: -0.94083\n",
      "epoch: 08, loss: -0.94505\n",
      "epoch: 09, loss: -0.95680\n"
     ]
    },
    {
     "name": "stderr",
     "output_type": "stream",
     "text": [
      " 25%|██▌       | 253/1000 [1:44:24<7:59:00, 38.47s/it]"
     ]
    },
    {
     "name": "stdout",
     "output_type": "stream",
     "text": [
      "eigenvalues shape torch.Size([5]) eigenvectors shape torch.Size([5, 450])\n",
      "253 /home/phdcs2/Hard_Disk/Datasets/Deep-Spectral-Segmentation/data/object-segmentation/ECSSD/features/dino_vits16/0254.pth\n",
      "dict_keys(['k', 'indices', 'file', 'id', 'model_name', 'patch_size', 'shape'])\n",
      "0254\n",
      "Starting Training\n",
      "epoch: 00, loss: -0.28393\n",
      "epoch: 01, loss: -0.65391\n",
      "epoch: 02, loss: -0.75420\n",
      "epoch: 03, loss: -0.80618\n",
      "epoch: 04, loss: -0.81328\n",
      "epoch: 05, loss: -0.83779\n",
      "epoch: 06, loss: -0.83574\n",
      "epoch: 07, loss: -0.83777\n",
      "epoch: 08, loss: -0.84962\n",
      "epoch: 09, loss: -0.79209\n"
     ]
    },
    {
     "name": "stderr",
     "output_type": "stream",
     "text": [
      " 25%|██▌       | 254/1000 [1:45:07<8:14:33, 39.78s/it]"
     ]
    },
    {
     "name": "stdout",
     "output_type": "stream",
     "text": [
      "eigenvalues shape torch.Size([5]) eigenvectors shape torch.Size([5, 525])\n",
      "254 /home/phdcs2/Hard_Disk/Datasets/Deep-Spectral-Segmentation/data/object-segmentation/ECSSD/features/dino_vits16/0255.pth\n",
      "dict_keys(['k', 'indices', 'file', 'id', 'model_name', 'patch_size', 'shape'])\n",
      "0255\n",
      "Starting Training\n",
      "epoch: 00, loss: -0.44892\n",
      "epoch: 01, loss: -0.70379\n",
      "epoch: 02, loss: -0.76776\n",
      "epoch: 03, loss: -0.78988\n",
      "epoch: 04, loss: -0.80480\n",
      "epoch: 05, loss: -0.82018\n",
      "epoch: 06, loss: -0.85046\n",
      "epoch: 07, loss: -0.85602\n",
      "epoch: 08, loss: -0.85541\n",
      "epoch: 09, loss: -0.83306\n"
     ]
    },
    {
     "name": "stderr",
     "output_type": "stream",
     "text": [
      " 26%|██▌       | 255/1000 [1:45:47<8:15:57, 39.94s/it]"
     ]
    },
    {
     "name": "stdout",
     "output_type": "stream",
     "text": [
      "eigenvalues shape torch.Size([5]) eigenvectors shape torch.Size([5, 575])\n",
      "255 /home/phdcs2/Hard_Disk/Datasets/Deep-Spectral-Segmentation/data/object-segmentation/ECSSD/features/dino_vits16/0256.pth\n",
      "dict_keys(['k', 'indices', 'file', 'id', 'model_name', 'patch_size', 'shape'])\n",
      "0256\n",
      "Starting Training\n",
      "epoch: 00, loss: -0.60305\n",
      "epoch: 01, loss: -0.89513\n",
      "epoch: 02, loss: -0.88290\n",
      "epoch: 03, loss: -0.85669\n",
      "epoch: 04, loss: -0.83174\n",
      "epoch: 05, loss: -0.84831\n",
      "epoch: 06, loss: -0.83226\n",
      "epoch: 07, loss: -0.81565\n",
      "epoch: 08, loss: -0.83201\n",
      "epoch: 09, loss: -0.80613\n"
     ]
    },
    {
     "name": "stderr",
     "output_type": "stream",
     "text": [
      " 26%|██▌       | 256/1000 [1:46:09<7:09:56, 34.67s/it]"
     ]
    },
    {
     "name": "stdout",
     "output_type": "stream",
     "text": [
      "eigenvalues shape torch.Size([5]) eigenvectors shape torch.Size([5, 375])\n",
      "256 /home/phdcs2/Hard_Disk/Datasets/Deep-Spectral-Segmentation/data/object-segmentation/ECSSD/features/dino_vits16/0257.pth\n",
      "dict_keys(['k', 'indices', 'file', 'id', 'model_name', 'patch_size', 'shape'])\n",
      "0257\n",
      "Starting Training\n",
      "epoch: 00, loss: -0.56616\n",
      "epoch: 01, loss: -0.80485\n",
      "epoch: 02, loss: -0.80256\n",
      "epoch: 03, loss: -0.77752\n",
      "epoch: 04, loss: -0.77744\n",
      "epoch: 05, loss: -0.77892\n",
      "epoch: 06, loss: -0.77411\n",
      "epoch: 07, loss: -0.79195\n",
      "epoch: 08, loss: -0.80529\n",
      "epoch: 09, loss: -0.79901\n"
     ]
    },
    {
     "name": "stderr",
     "output_type": "stream",
     "text": [
      " 26%|██▌       | 257/1000 [1:46:43<7:05:56, 34.40s/it]"
     ]
    },
    {
     "name": "stdout",
     "output_type": "stream",
     "text": [
      "eigenvalues shape torch.Size([5]) eigenvectors shape torch.Size([5, 475])\n",
      "257 /home/phdcs2/Hard_Disk/Datasets/Deep-Spectral-Segmentation/data/object-segmentation/ECSSD/features/dino_vits16/0258.pth\n",
      "dict_keys(['k', 'indices', 'file', 'id', 'model_name', 'patch_size', 'shape'])\n",
      "0258\n",
      "Starting Training\n",
      "epoch: 00, loss: -0.42341\n",
      "epoch: 01, loss: -0.72810\n",
      "epoch: 02, loss: -0.77961\n",
      "epoch: 03, loss: -0.76767\n",
      "epoch: 04, loss: -0.79041\n",
      "epoch: 05, loss: -0.78698\n",
      "epoch: 06, loss: -0.75393\n",
      "epoch: 07, loss: -0.72884\n",
      "epoch: 08, loss: -0.74867\n",
      "epoch: 09, loss: -0.76698\n"
     ]
    },
    {
     "name": "stderr",
     "output_type": "stream",
     "text": [
      " 26%|██▌       | 258/1000 [1:47:21<7:18:11, 35.43s/it]"
     ]
    },
    {
     "name": "stdout",
     "output_type": "stream",
     "text": [
      "eigenvalues shape torch.Size([5]) eigenvectors shape torch.Size([5, 400])\n",
      "258 /home/phdcs2/Hard_Disk/Datasets/Deep-Spectral-Segmentation/data/object-segmentation/ECSSD/features/dino_vits16/0259.pth\n",
      "dict_keys(['k', 'indices', 'file', 'id', 'model_name', 'patch_size', 'shape'])\n",
      "0259\n",
      "Starting Training\n",
      "epoch: 00, loss: -0.39584\n",
      "epoch: 01, loss: -0.71850\n",
      "epoch: 02, loss: -0.76660\n",
      "epoch: 03, loss: -0.72937\n",
      "epoch: 04, loss: -0.74450\n",
      "epoch: 05, loss: -0.75398\n",
      "epoch: 06, loss: -0.77755\n",
      "epoch: 07, loss: -0.77568\n",
      "epoch: 08, loss: -0.79111\n",
      "epoch: 09, loss: -0.80816\n"
     ]
    },
    {
     "name": "stderr",
     "output_type": "stream",
     "text": [
      " 26%|██▌       | 259/1000 [1:47:48<6:45:45, 32.85s/it]"
     ]
    },
    {
     "name": "stdout",
     "output_type": "stream",
     "text": [
      "eigenvalues shape torch.Size([5]) eigenvectors shape torch.Size([5, 450])\n",
      "259 /home/phdcs2/Hard_Disk/Datasets/Deep-Spectral-Segmentation/data/object-segmentation/ECSSD/features/dino_vits16/0260.pth\n",
      "dict_keys(['k', 'indices', 'file', 'id', 'model_name', 'patch_size', 'shape'])\n",
      "0260\n",
      "Starting Training\n",
      "epoch: 00, loss: -0.67287\n",
      "epoch: 01, loss: -0.88816\n",
      "epoch: 02, loss: -0.89525\n",
      "epoch: 03, loss: -0.89945\n",
      "epoch: 04, loss: -0.90992\n",
      "epoch: 05, loss: -0.90832\n",
      "epoch: 06, loss: -0.90857\n",
      "epoch: 07, loss: -0.91346\n",
      "epoch: 08, loss: -0.87827\n",
      "epoch: 09, loss: -0.86326\n"
     ]
    },
    {
     "name": "stderr",
     "output_type": "stream",
     "text": [
      " 26%|██▌       | 260/1000 [1:48:12<6:12:21, 30.19s/it]"
     ]
    },
    {
     "name": "stdout",
     "output_type": "stream",
     "text": [
      "eigenvalues shape torch.Size([5]) eigenvectors shape torch.Size([5, 450])\n",
      "260 /home/phdcs2/Hard_Disk/Datasets/Deep-Spectral-Segmentation/data/object-segmentation/ECSSD/features/dino_vits16/0261.pth\n",
      "dict_keys(['k', 'indices', 'file', 'id', 'model_name', 'patch_size', 'shape'])\n",
      "0261\n",
      "Starting Training\n",
      "epoch: 00, loss: -0.54544\n",
      "epoch: 01, loss: -0.74449\n",
      "epoch: 02, loss: -0.76641\n",
      "epoch: 03, loss: -0.81698\n",
      "epoch: 04, loss: -0.87561\n",
      "epoch: 05, loss: -0.88097\n",
      "epoch: 06, loss: -0.89759\n",
      "epoch: 07, loss: -0.89680\n",
      "epoch: 08, loss: -0.90562\n",
      "epoch: 09, loss: -0.91949\n"
     ]
    },
    {
     "name": "stderr",
     "output_type": "stream",
     "text": [
      " 26%|██▌       | 261/1000 [1:48:39<6:02:25, 29.43s/it]"
     ]
    },
    {
     "name": "stdout",
     "output_type": "stream",
     "text": [
      "eigenvalues shape torch.Size([5]) eigenvectors shape torch.Size([5, 400])\n",
      "261 /home/phdcs2/Hard_Disk/Datasets/Deep-Spectral-Segmentation/data/object-segmentation/ECSSD/features/dino_vits16/0262.pth\n",
      "dict_keys(['k', 'indices', 'file', 'id', 'model_name', 'patch_size', 'shape'])\n",
      "0262\n",
      "Starting Training\n",
      "epoch: 00, loss: -0.39511\n",
      "epoch: 01, loss: -0.78238\n",
      "epoch: 02, loss: -0.80501\n",
      "epoch: 03, loss: -0.84421\n",
      "epoch: 04, loss: -0.82878\n",
      "epoch: 05, loss: -0.83229\n",
      "epoch: 06, loss: -0.84473\n",
      "epoch: 07, loss: -0.85243\n",
      "epoch: 08, loss: -0.81868\n",
      "epoch: 09, loss: -0.85253\n"
     ]
    },
    {
     "name": "stderr",
     "output_type": "stream",
     "text": [
      " 26%|██▌       | 262/1000 [1:49:22<6:48:57, 33.25s/it]"
     ]
    },
    {
     "name": "stdout",
     "output_type": "stream",
     "text": [
      "eigenvalues shape torch.Size([5]) eigenvectors shape torch.Size([5, 450])\n",
      "262 /home/phdcs2/Hard_Disk/Datasets/Deep-Spectral-Segmentation/data/object-segmentation/ECSSD/features/dino_vits16/0263.pth\n",
      "dict_keys(['k', 'indices', 'file', 'id', 'model_name', 'patch_size', 'shape'])\n",
      "0263\n",
      "Starting Training\n",
      "epoch: 00, loss: -0.47259\n",
      "epoch: 01, loss: -0.73160\n",
      "epoch: 02, loss: -0.70644\n",
      "epoch: 03, loss: -0.76080\n",
      "epoch: 04, loss: -0.76852\n",
      "epoch: 05, loss: -0.77548\n",
      "epoch: 06, loss: -0.79009\n",
      "epoch: 07, loss: -0.80415\n",
      "epoch: 08, loss: -0.80469\n",
      "epoch: 09, loss: -0.80767\n"
     ]
    },
    {
     "name": "stderr",
     "output_type": "stream",
     "text": [
      " 26%|██▋       | 263/1000 [1:49:50<6:31:47, 31.90s/it]"
     ]
    },
    {
     "name": "stdout",
     "output_type": "stream",
     "text": [
      "eigenvalues shape torch.Size([5]) eigenvectors shape torch.Size([5, 450])\n",
      "263 /home/phdcs2/Hard_Disk/Datasets/Deep-Spectral-Segmentation/data/object-segmentation/ECSSD/features/dino_vits16/0264.pth\n",
      "dict_keys(['k', 'indices', 'file', 'id', 'model_name', 'patch_size', 'shape'])\n",
      "0264\n",
      "Starting Training\n",
      "epoch: 00, loss: -0.48781\n",
      "epoch: 01, loss: -0.79093\n",
      "epoch: 02, loss: -0.64817\n",
      "epoch: 03, loss: -0.68212\n",
      "epoch: 04, loss: -0.71030\n",
      "epoch: 05, loss: -0.73806\n",
      "epoch: 06, loss: -0.76124\n",
      "epoch: 07, loss: -0.78142\n",
      "epoch: 08, loss: -0.78743\n",
      "epoch: 09, loss: -0.80396\n"
     ]
    },
    {
     "name": "stderr",
     "output_type": "stream",
     "text": [
      " 26%|██▋       | 264/1000 [1:50:20<6:22:57, 31.22s/it]"
     ]
    },
    {
     "name": "stdout",
     "output_type": "stream",
     "text": [
      "eigenvalues shape torch.Size([5]) eigenvectors shape torch.Size([5, 400])\n",
      "264 /home/phdcs2/Hard_Disk/Datasets/Deep-Spectral-Segmentation/data/object-segmentation/ECSSD/features/dino_vits16/0265.pth\n",
      "dict_keys(['k', 'indices', 'file', 'id', 'model_name', 'patch_size', 'shape'])\n",
      "0265\n",
      "Starting Training\n",
      "epoch: 00, loss: -0.70017\n",
      "epoch: 01, loss: -0.84892\n",
      "epoch: 02, loss: -0.83597\n",
      "epoch: 03, loss: -0.82501\n",
      "epoch: 04, loss: -0.81384\n",
      "epoch: 05, loss: -0.78749\n",
      "epoch: 06, loss: -0.82779\n",
      "epoch: 07, loss: -0.84738\n",
      "epoch: 08, loss: -0.84664\n",
      "epoch: 09, loss: -0.86068\n"
     ]
    },
    {
     "name": "stderr",
     "output_type": "stream",
     "text": [
      " 26%|██▋       | 265/1000 [1:50:50<6:17:10, 30.79s/it]"
     ]
    },
    {
     "name": "stdout",
     "output_type": "stream",
     "text": [
      "eigenvalues shape torch.Size([5]) eigenvectors shape torch.Size([5, 525])\n",
      "265 /home/phdcs2/Hard_Disk/Datasets/Deep-Spectral-Segmentation/data/object-segmentation/ECSSD/features/dino_vits16/0266.pth\n",
      "dict_keys(['k', 'indices', 'file', 'id', 'model_name', 'patch_size', 'shape'])\n",
      "0266\n",
      "Starting Training\n",
      "epoch: 00, loss: -0.26178\n",
      "epoch: 01, loss: -0.62259\n",
      "epoch: 02, loss: -0.71190\n",
      "epoch: 03, loss: -0.75324\n",
      "epoch: 04, loss: -0.78476\n",
      "epoch: 05, loss: -0.81761\n",
      "epoch: 06, loss: -0.84122\n",
      "epoch: 07, loss: -0.83373\n",
      "epoch: 08, loss: -0.85722\n",
      "epoch: 09, loss: -0.82530\n"
     ]
    },
    {
     "name": "stderr",
     "output_type": "stream",
     "text": [
      " 27%|██▋       | 266/1000 [1:51:14<5:53:15, 28.88s/it]"
     ]
    },
    {
     "name": "stdout",
     "output_type": "stream",
     "text": [
      "eigenvalues shape torch.Size([5]) eigenvectors shape torch.Size([5, 425])\n",
      "266 /home/phdcs2/Hard_Disk/Datasets/Deep-Spectral-Segmentation/data/object-segmentation/ECSSD/features/dino_vits16/0267.pth\n",
      "dict_keys(['k', 'indices', 'file', 'id', 'model_name', 'patch_size', 'shape'])\n",
      "0267\n",
      "Starting Training\n",
      "epoch: 00, loss: -0.58851\n",
      "epoch: 01, loss: -0.84924\n",
      "epoch: 02, loss: -0.79988\n",
      "epoch: 03, loss: -0.80649\n",
      "epoch: 04, loss: -0.78483\n",
      "epoch: 05, loss: -0.74080\n",
      "epoch: 06, loss: -0.76584\n",
      "epoch: 07, loss: -0.78420\n",
      "epoch: 08, loss: -0.78532\n",
      "epoch: 09, loss: -0.81226\n"
     ]
    },
    {
     "name": "stderr",
     "output_type": "stream",
     "text": [
      " 27%|██▋       | 267/1000 [1:51:38<5:34:21, 27.37s/it]"
     ]
    },
    {
     "name": "stdout",
     "output_type": "stream",
     "text": [
      "eigenvalues shape torch.Size([5]) eigenvectors shape torch.Size([5, 400])\n",
      "267 /home/phdcs2/Hard_Disk/Datasets/Deep-Spectral-Segmentation/data/object-segmentation/ECSSD/features/dino_vits16/0268.pth\n",
      "dict_keys(['k', 'indices', 'file', 'id', 'model_name', 'patch_size', 'shape'])\n",
      "0268\n",
      "Starting Training\n",
      "epoch: 00, loss: -0.41977\n",
      "epoch: 01, loss: -0.75984\n",
      "epoch: 02, loss: -0.78443\n",
      "epoch: 03, loss: -0.80044\n",
      "epoch: 04, loss: -0.78441\n",
      "epoch: 05, loss: -0.73941\n",
      "epoch: 06, loss: -0.74056\n",
      "epoch: 07, loss: -0.74035\n",
      "epoch: 08, loss: -0.75042\n",
      "epoch: 09, loss: -0.76805\n"
     ]
    },
    {
     "name": "stderr",
     "output_type": "stream",
     "text": [
      " 27%|██▋       | 268/1000 [1:52:07<5:39:58, 27.87s/it]"
     ]
    },
    {
     "name": "stdout",
     "output_type": "stream",
     "text": [
      "eigenvalues shape torch.Size([5]) eigenvectors shape torch.Size([5, 600])\n",
      "268 /home/phdcs2/Hard_Disk/Datasets/Deep-Spectral-Segmentation/data/object-segmentation/ECSSD/features/dino_vits16/0269.pth\n",
      "dict_keys(['k', 'indices', 'file', 'id', 'model_name', 'patch_size', 'shape'])\n",
      "0269\n",
      "Starting Training\n",
      "epoch: 00, loss: -0.42758\n",
      "epoch: 01, loss: -0.60527\n",
      "epoch: 02, loss: -0.75495\n",
      "epoch: 03, loss: -0.79876\n",
      "epoch: 04, loss: -0.80811\n",
      "epoch: 05, loss: -0.83512\n",
      "epoch: 06, loss: -0.83343\n",
      "epoch: 07, loss: -0.83369\n",
      "epoch: 08, loss: -0.83665\n",
      "epoch: 09, loss: -0.85046\n"
     ]
    },
    {
     "name": "stderr",
     "output_type": "stream",
     "text": [
      " 27%|██▋       | 269/1000 [1:52:25<5:04:01, 24.95s/it]"
     ]
    },
    {
     "name": "stdout",
     "output_type": "stream",
     "text": [
      "eigenvalues shape torch.Size([5]) eigenvectors shape torch.Size([5, 400])\n",
      "269 /home/phdcs2/Hard_Disk/Datasets/Deep-Spectral-Segmentation/data/object-segmentation/ECSSD/features/dino_vits16/0270.pth\n",
      "dict_keys(['k', 'indices', 'file', 'id', 'model_name', 'patch_size', 'shape'])\n",
      "0270\n",
      "Starting Training\n",
      "epoch: 00, loss: -0.41657\n",
      "epoch: 01, loss: -0.75558\n",
      "epoch: 02, loss: -0.74313\n",
      "epoch: 03, loss: -0.78063\n",
      "epoch: 04, loss: -0.79576\n",
      "epoch: 05, loss: -0.79302\n",
      "epoch: 06, loss: -0.78040\n",
      "epoch: 07, loss: -0.81242\n",
      "epoch: 08, loss: -0.82604\n",
      "epoch: 09, loss: -0.83961\n"
     ]
    },
    {
     "name": "stderr",
     "output_type": "stream",
     "text": [
      " 27%|██▋       | 270/1000 [1:52:43<4:38:10, 22.86s/it]"
     ]
    },
    {
     "name": "stdout",
     "output_type": "stream",
     "text": [
      "eigenvalues shape torch.Size([5]) eigenvectors shape torch.Size([5, 375])\n",
      "270 /home/phdcs2/Hard_Disk/Datasets/Deep-Spectral-Segmentation/data/object-segmentation/ECSSD/features/dino_vits16/0271.pth\n",
      "dict_keys(['k', 'indices', 'file', 'id', 'model_name', 'patch_size', 'shape'])\n",
      "0271\n",
      "Starting Training\n",
      "epoch: 00, loss: -0.38032\n",
      "epoch: 01, loss: -0.76191\n",
      "epoch: 02, loss: -0.82007\n",
      "epoch: 03, loss: -0.84945\n",
      "epoch: 04, loss: -0.85584\n",
      "epoch: 05, loss: -0.86944\n",
      "epoch: 06, loss: -0.87837\n",
      "epoch: 07, loss: -0.88149\n",
      "epoch: 08, loss: -0.89043\n",
      "epoch: 09, loss: -0.88967\n"
     ]
    },
    {
     "name": "stderr",
     "output_type": "stream",
     "text": [
      " 27%|██▋       | 271/1000 [1:53:03<4:25:59, 21.89s/it]"
     ]
    },
    {
     "name": "stdout",
     "output_type": "stream",
     "text": [
      "eigenvalues shape torch.Size([5]) eigenvectors shape torch.Size([5, 450])\n",
      "271 /home/phdcs2/Hard_Disk/Datasets/Deep-Spectral-Segmentation/data/object-segmentation/ECSSD/features/dino_vits16/0272.pth\n",
      "dict_keys(['k', 'indices', 'file', 'id', 'model_name', 'patch_size', 'shape'])\n",
      "0272\n",
      "Starting Training\n",
      "epoch: 00, loss: -0.64220\n",
      "epoch: 01, loss: -0.83538\n",
      "epoch: 02, loss: -0.79201\n",
      "epoch: 03, loss: -0.76754\n",
      "epoch: 04, loss: -0.80535\n",
      "epoch: 05, loss: -0.79475\n",
      "epoch: 06, loss: -0.80075\n",
      "epoch: 07, loss: -0.82906\n",
      "epoch: 08, loss: -0.82820\n",
      "epoch: 09, loss: -0.79272\n"
     ]
    },
    {
     "name": "stderr",
     "output_type": "stream",
     "text": [
      " 27%|██▋       | 272/1000 [1:53:27<4:33:31, 22.54s/it]"
     ]
    },
    {
     "name": "stdout",
     "output_type": "stream",
     "text": [
      "eigenvalues shape torch.Size([5]) eigenvectors shape torch.Size([5, 500])\n",
      "272 /home/phdcs2/Hard_Disk/Datasets/Deep-Spectral-Segmentation/data/object-segmentation/ECSSD/features/dino_vits16/0273.pth\n",
      "dict_keys(['k', 'indices', 'file', 'id', 'model_name', 'patch_size', 'shape'])\n",
      "0273\n",
      "Starting Training\n",
      "epoch: 00, loss: -0.56369\n",
      "epoch: 01, loss: -0.84731\n",
      "epoch: 02, loss: -0.84099\n",
      "epoch: 03, loss: -0.83140\n",
      "epoch: 04, loss: -0.78042\n",
      "epoch: 05, loss: -0.75914\n",
      "epoch: 06, loss: -0.80377\n",
      "epoch: 07, loss: -0.76815\n",
      "epoch: 08, loss: -0.80165\n",
      "epoch: 09, loss: -0.80501\n"
     ]
    },
    {
     "name": "stderr",
     "output_type": "stream",
     "text": [
      " 27%|██▋       | 273/1000 [1:53:46<4:20:24, 21.49s/it]"
     ]
    },
    {
     "name": "stdout",
     "output_type": "stream",
     "text": [
      "eigenvalues shape torch.Size([5]) eigenvectors shape torch.Size([5, 400])\n",
      "273 /home/phdcs2/Hard_Disk/Datasets/Deep-Spectral-Segmentation/data/object-segmentation/ECSSD/features/dino_vits16/0274.pth\n",
      "dict_keys(['k', 'indices', 'file', 'id', 'model_name', 'patch_size', 'shape'])\n",
      "0274\n",
      "Starting Training\n",
      "epoch: 00, loss: -0.44920\n",
      "epoch: 01, loss: -0.72416\n",
      "epoch: 02, loss: -0.79207\n",
      "epoch: 03, loss: -0.79376\n",
      "epoch: 04, loss: -0.79895\n",
      "epoch: 05, loss: -0.82654\n",
      "epoch: 06, loss: -0.83689\n",
      "epoch: 07, loss: -0.84679\n",
      "epoch: 08, loss: -0.84890\n",
      "epoch: 09, loss: -0.84840\n"
     ]
    },
    {
     "name": "stderr",
     "output_type": "stream",
     "text": [
      " 27%|██▋       | 274/1000 [1:54:14<4:43:02, 23.39s/it]"
     ]
    },
    {
     "name": "stdout",
     "output_type": "stream",
     "text": [
      "eigenvalues shape torch.Size([5]) eigenvectors shape torch.Size([5, 575])\n",
      "274 /home/phdcs2/Hard_Disk/Datasets/Deep-Spectral-Segmentation/data/object-segmentation/ECSSD/features/dino_vits16/0275.pth\n",
      "dict_keys(['k', 'indices', 'file', 'id', 'model_name', 'patch_size', 'shape'])\n",
      "0275\n",
      "Starting Training\n",
      "epoch: 00, loss: -0.40214\n",
      "epoch: 01, loss: -0.76553\n",
      "epoch: 02, loss: -0.84202\n",
      "epoch: 03, loss: -0.86516\n",
      "epoch: 04, loss: -0.86129\n",
      "epoch: 05, loss: -0.87709\n",
      "epoch: 06, loss: -0.88383\n",
      "epoch: 07, loss: -0.88493\n",
      "epoch: 08, loss: -0.89077\n",
      "epoch: 09, loss: -0.88219\n"
     ]
    },
    {
     "name": "stderr",
     "output_type": "stream",
     "text": [
      " 28%|██▊       | 275/1000 [1:54:31<4:21:44, 21.66s/it]"
     ]
    },
    {
     "name": "stdout",
     "output_type": "stream",
     "text": [
      "eigenvalues shape torch.Size([5]) eigenvectors shape torch.Size([5, 400])\n",
      "275 /home/phdcs2/Hard_Disk/Datasets/Deep-Spectral-Segmentation/data/object-segmentation/ECSSD/features/dino_vits16/0276.pth\n",
      "dict_keys(['k', 'indices', 'file', 'id', 'model_name', 'patch_size', 'shape'])\n",
      "0276\n",
      "Starting Training\n",
      "epoch: 00, loss: -0.64683\n",
      "epoch: 01, loss: -0.90548\n",
      "epoch: 02, loss: -0.93361\n",
      "epoch: 03, loss: -0.85564\n",
      "epoch: 04, loss: -0.67817\n",
      "epoch: 05, loss: -0.77820\n",
      "epoch: 06, loss: -0.84222\n",
      "epoch: 07, loss: -0.85113\n",
      "epoch: 08, loss: -0.86022\n",
      "epoch: 09, loss: -0.86987\n"
     ]
    },
    {
     "name": "stderr",
     "output_type": "stream",
     "text": [
      " 28%|██▊       | 276/1000 [1:54:55<4:27:52, 22.20s/it]"
     ]
    },
    {
     "name": "stdout",
     "output_type": "stream",
     "text": [
      "eigenvalues shape torch.Size([5]) eigenvectors shape torch.Size([5, 525])\n",
      "276 /home/phdcs2/Hard_Disk/Datasets/Deep-Spectral-Segmentation/data/object-segmentation/ECSSD/features/dino_vits16/0277.pth\n",
      "dict_keys(['k', 'indices', 'file', 'id', 'model_name', 'patch_size', 'shape'])\n",
      "0277\n",
      "Starting Training\n",
      "epoch: 00, loss: -0.67308\n",
      "epoch: 01, loss: -0.93468\n",
      "epoch: 02, loss: -0.94191\n",
      "epoch: 03, loss: -0.94408\n",
      "epoch: 04, loss: -0.93508\n",
      "epoch: 05, loss: -0.95103\n",
      "epoch: 06, loss: -0.93815\n",
      "epoch: 07, loss: -0.93531\n",
      "epoch: 08, loss: -0.94327\n",
      "epoch: 09, loss: -0.95099\n"
     ]
    },
    {
     "name": "stderr",
     "output_type": "stream",
     "text": [
      " 28%|██▊       | 277/1000 [1:55:14<4:15:03, 21.17s/it]"
     ]
    },
    {
     "name": "stdout",
     "output_type": "stream",
     "text": [
      "eigenvalues shape torch.Size([5]) eigenvectors shape torch.Size([5, 400])\n",
      "277 /home/phdcs2/Hard_Disk/Datasets/Deep-Spectral-Segmentation/data/object-segmentation/ECSSD/features/dino_vits16/0278.pth\n",
      "dict_keys(['k', 'indices', 'file', 'id', 'model_name', 'patch_size', 'shape'])\n",
      "0278\n",
      "Starting Training\n",
      "epoch: 00, loss: -0.66447\n",
      "epoch: 01, loss: -0.94353\n",
      "epoch: 02, loss: -0.95142\n",
      "epoch: 03, loss: -0.95949\n",
      "epoch: 04, loss: -0.95955\n",
      "epoch: 05, loss: -0.95965\n",
      "epoch: 06, loss: -0.95388\n",
      "epoch: 07, loss: -0.94713\n",
      "epoch: 08, loss: -0.93830\n",
      "epoch: 09, loss: -0.94303\n"
     ]
    },
    {
     "name": "stderr",
     "output_type": "stream",
     "text": [
      " 28%|██▊       | 278/1000 [1:55:38<4:26:49, 22.17s/it]"
     ]
    },
    {
     "name": "stdout",
     "output_type": "stream",
     "text": [
      "eigenvalues shape torch.Size([5]) eigenvectors shape torch.Size([5, 550])\n",
      "278 /home/phdcs2/Hard_Disk/Datasets/Deep-Spectral-Segmentation/data/object-segmentation/ECSSD/features/dino_vits16/0279.pth\n",
      "dict_keys(['k', 'indices', 'file', 'id', 'model_name', 'patch_size', 'shape'])\n",
      "0279\n",
      "Starting Training\n",
      "epoch: 00, loss: -0.34200\n",
      "epoch: 01, loss: -0.64716\n",
      "epoch: 02, loss: -0.75886\n",
      "epoch: 03, loss: -0.76420\n",
      "epoch: 04, loss: -0.74975\n",
      "epoch: 05, loss: -0.79076\n",
      "epoch: 06, loss: -0.79204\n",
      "epoch: 07, loss: -0.80904\n",
      "epoch: 08, loss: -0.80757\n",
      "epoch: 09, loss: -0.80197\n"
     ]
    },
    {
     "name": "stderr",
     "output_type": "stream",
     "text": [
      " 28%|██▊       | 279/1000 [1:55:58<4:16:28, 21.34s/it]"
     ]
    },
    {
     "name": "stdout",
     "output_type": "stream",
     "text": [
      "eigenvalues shape torch.Size([5]) eigenvectors shape torch.Size([5, 450])\n",
      "279 /home/phdcs2/Hard_Disk/Datasets/Deep-Spectral-Segmentation/data/object-segmentation/ECSSD/features/dino_vits16/0280.pth\n",
      "dict_keys(['k', 'indices', 'file', 'id', 'model_name', 'patch_size', 'shape'])\n",
      "0280\n",
      "Starting Training\n",
      "epoch: 00, loss: -0.55105\n",
      "epoch: 01, loss: -0.66266\n",
      "epoch: 02, loss: -0.73752\n",
      "epoch: 03, loss: -0.72059\n",
      "epoch: 04, loss: -0.73436\n",
      "epoch: 05, loss: -0.75562\n",
      "epoch: 06, loss: -0.75865\n",
      "epoch: 07, loss: -0.78073\n",
      "epoch: 08, loss: -0.78638\n",
      "epoch: 09, loss: -0.79839\n"
     ]
    },
    {
     "name": "stderr",
     "output_type": "stream",
     "text": [
      " 28%|██▊       | 280/1000 [1:56:27<4:46:33, 23.88s/it]"
     ]
    },
    {
     "name": "stdout",
     "output_type": "stream",
     "text": [
      "eigenvalues shape torch.Size([5]) eigenvectors shape torch.Size([5, 625])\n",
      "280 /home/phdcs2/Hard_Disk/Datasets/Deep-Spectral-Segmentation/data/object-segmentation/ECSSD/features/dino_vits16/0281.pth\n",
      "dict_keys(['k', 'indices', 'file', 'id', 'model_name', 'patch_size', 'shape'])\n",
      "0281\n",
      "Starting Training\n",
      "epoch: 00, loss: -0.35296\n",
      "epoch: 01, loss: -0.70462\n",
      "epoch: 02, loss: -0.75722\n",
      "epoch: 03, loss: -0.75280\n",
      "epoch: 04, loss: -0.76161\n",
      "epoch: 05, loss: -0.77006\n",
      "epoch: 06, loss: -0.76210\n",
      "epoch: 07, loss: -0.75763\n",
      "epoch: 08, loss: -0.77374\n",
      "epoch: 09, loss: -0.75914\n"
     ]
    },
    {
     "name": "stderr",
     "output_type": "stream",
     "text": [
      " 28%|██▊       | 281/1000 [1:56:48<4:33:06, 22.79s/it]"
     ]
    },
    {
     "name": "stdout",
     "output_type": "stream",
     "text": [
      "eigenvalues shape torch.Size([5]) eigenvectors shape torch.Size([5, 450])\n",
      "281 /home/phdcs2/Hard_Disk/Datasets/Deep-Spectral-Segmentation/data/object-segmentation/ECSSD/features/dino_vits16/0282.pth\n",
      "dict_keys(['k', 'indices', 'file', 'id', 'model_name', 'patch_size', 'shape'])\n",
      "0282\n",
      "Starting Training\n",
      "epoch: 00, loss: -0.58258\n",
      "epoch: 01, loss: -0.79913\n",
      "epoch: 02, loss: -0.77749\n",
      "epoch: 03, loss: -0.77838\n",
      "epoch: 04, loss: -0.75433\n",
      "epoch: 05, loss: -0.73438\n",
      "epoch: 06, loss: -0.76386\n",
      "epoch: 07, loss: -0.78754\n",
      "epoch: 08, loss: -0.78248\n",
      "epoch: 09, loss: -0.80013\n"
     ]
    },
    {
     "name": "stderr",
     "output_type": "stream",
     "text": [
      " 28%|██▊       | 282/1000 [1:57:06<4:16:53, 21.47s/it]"
     ]
    },
    {
     "name": "stdout",
     "output_type": "stream",
     "text": [
      "eigenvalues shape torch.Size([5]) eigenvectors shape torch.Size([5, 400])\n",
      "282 /home/phdcs2/Hard_Disk/Datasets/Deep-Spectral-Segmentation/data/object-segmentation/ECSSD/features/dino_vits16/0283.pth\n",
      "dict_keys(['k', 'indices', 'file', 'id', 'model_name', 'patch_size', 'shape'])\n",
      "0283\n",
      "Starting Training\n",
      "epoch: 00, loss: -0.63398\n",
      "epoch: 01, loss: -0.92348\n",
      "epoch: 02, loss: -0.86852\n",
      "epoch: 03, loss: -0.84354\n",
      "epoch: 04, loss: -0.83684\n",
      "epoch: 05, loss: -0.82292\n",
      "epoch: 06, loss: -0.79501\n",
      "epoch: 07, loss: -0.83277\n",
      "epoch: 08, loss: -0.81766\n",
      "epoch: 09, loss: -0.82530\n"
     ]
    },
    {
     "name": "stderr",
     "output_type": "stream",
     "text": [
      " 28%|██▊       | 283/1000 [1:57:25<4:09:14, 20.86s/it]"
     ]
    },
    {
     "name": "stdout",
     "output_type": "stream",
     "text": [
      "eigenvalues shape torch.Size([5]) eigenvectors shape torch.Size([5, 400])\n",
      "283 /home/phdcs2/Hard_Disk/Datasets/Deep-Spectral-Segmentation/data/object-segmentation/ECSSD/features/dino_vits16/0284.pth\n",
      "dict_keys(['k', 'indices', 'file', 'id', 'model_name', 'patch_size', 'shape'])\n",
      "0284\n",
      "Starting Training\n",
      "epoch: 00, loss: -0.38857\n",
      "epoch: 01, loss: -0.83621\n",
      "epoch: 02, loss: -0.80856\n",
      "epoch: 03, loss: -0.80772\n",
      "epoch: 04, loss: -0.80112\n",
      "epoch: 05, loss: -0.80876\n",
      "epoch: 06, loss: -0.80928\n",
      "epoch: 07, loss: -0.84440\n",
      "epoch: 08, loss: -0.86214\n",
      "epoch: 09, loss: -0.84426\n"
     ]
    },
    {
     "name": "stderr",
     "output_type": "stream",
     "text": [
      " 28%|██▊       | 284/1000 [1:57:46<4:07:32, 20.74s/it]"
     ]
    },
    {
     "name": "stdout",
     "output_type": "stream",
     "text": [
      "eigenvalues shape torch.Size([5]) eigenvectors shape torch.Size([5, 400])\n",
      "284 /home/phdcs2/Hard_Disk/Datasets/Deep-Spectral-Segmentation/data/object-segmentation/ECSSD/features/dino_vits16/0285.pth\n",
      "dict_keys(['k', 'indices', 'file', 'id', 'model_name', 'patch_size', 'shape'])\n",
      "0285\n",
      "Starting Training\n",
      "epoch: 00, loss: -0.32222\n",
      "epoch: 01, loss: -0.63384\n",
      "epoch: 02, loss: -0.68074\n",
      "epoch: 03, loss: -0.70692\n",
      "epoch: 04, loss: -0.74328\n",
      "epoch: 05, loss: -0.71049\n",
      "epoch: 06, loss: -0.76022\n",
      "epoch: 07, loss: -0.76589\n",
      "epoch: 08, loss: -0.78708\n",
      "epoch: 09, loss: -0.82657\n"
     ]
    },
    {
     "name": "stderr",
     "output_type": "stream",
     "text": [
      " 28%|██▊       | 285/1000 [1:58:05<3:59:52, 20.13s/it]"
     ]
    },
    {
     "name": "stdout",
     "output_type": "stream",
     "text": [
      "eigenvalues shape torch.Size([5]) eigenvectors shape torch.Size([5, 400])\n",
      "285 /home/phdcs2/Hard_Disk/Datasets/Deep-Spectral-Segmentation/data/object-segmentation/ECSSD/features/dino_vits16/0286.pth\n",
      "dict_keys(['k', 'indices', 'file', 'id', 'model_name', 'patch_size', 'shape'])\n",
      "0286\n",
      "Starting Training\n",
      "epoch: 00, loss: -0.38742\n",
      "epoch: 01, loss: -0.67228\n",
      "epoch: 02, loss: -0.76122\n",
      "epoch: 03, loss: -0.76320\n",
      "epoch: 04, loss: -0.79778\n",
      "epoch: 05, loss: -0.80188\n",
      "epoch: 06, loss: -0.78817\n",
      "epoch: 07, loss: -0.80652\n",
      "epoch: 08, loss: -0.83925\n",
      "epoch: 09, loss: -0.84867\n"
     ]
    },
    {
     "name": "stderr",
     "output_type": "stream",
     "text": [
      " 29%|██▊       | 286/1000 [1:58:26<4:05:30, 20.63s/it]"
     ]
    },
    {
     "name": "stdout",
     "output_type": "stream",
     "text": [
      "eigenvalues shape torch.Size([5]) eigenvectors shape torch.Size([5, 450])\n",
      "286 /home/phdcs2/Hard_Disk/Datasets/Deep-Spectral-Segmentation/data/object-segmentation/ECSSD/features/dino_vits16/0287.pth\n",
      "dict_keys(['k', 'indices', 'file', 'id', 'model_name', 'patch_size', 'shape'])\n",
      "0287\n",
      "Starting Training\n",
      "epoch: 00, loss: -0.44729\n",
      "epoch: 01, loss: -0.70030\n",
      "epoch: 02, loss: -0.68287\n",
      "epoch: 03, loss: -0.74943\n",
      "epoch: 04, loss: -0.75793\n",
      "epoch: 05, loss: -0.74166\n",
      "epoch: 06, loss: -0.76871\n",
      "epoch: 07, loss: -0.78698\n",
      "epoch: 08, loss: -0.81282\n",
      "epoch: 09, loss: -0.81950\n"
     ]
    },
    {
     "name": "stderr",
     "output_type": "stream",
     "text": [
      " 29%|██▊       | 287/1000 [1:58:44<3:54:43, 19.75s/it]"
     ]
    },
    {
     "name": "stdout",
     "output_type": "stream",
     "text": [
      "eigenvalues shape torch.Size([5]) eigenvectors shape torch.Size([5, 375])\n",
      "287 /home/phdcs2/Hard_Disk/Datasets/Deep-Spectral-Segmentation/data/object-segmentation/ECSSD/features/dino_vits16/0288.pth\n",
      "dict_keys(['k', 'indices', 'file', 'id', 'model_name', 'patch_size', 'shape'])\n",
      "0288\n",
      "Starting Training\n",
      "epoch: 00, loss: -0.49864\n",
      "epoch: 01, loss: -0.76685\n",
      "epoch: 02, loss: -0.73334\n",
      "epoch: 03, loss: -0.81712\n",
      "epoch: 04, loss: -0.83575\n",
      "epoch: 05, loss: -0.83197\n",
      "epoch: 06, loss: -0.85079\n",
      "epoch: 07, loss: -0.84833\n",
      "epoch: 08, loss: -0.86117\n",
      "epoch: 09, loss: -0.86446\n"
     ]
    },
    {
     "name": "stderr",
     "output_type": "stream",
     "text": [
      " 29%|██▉       | 288/1000 [1:59:03<3:52:18, 19.58s/it]"
     ]
    },
    {
     "name": "stdout",
     "output_type": "stream",
     "text": [
      "eigenvalues shape torch.Size([5]) eigenvectors shape torch.Size([5, 450])\n",
      "288 /home/phdcs2/Hard_Disk/Datasets/Deep-Spectral-Segmentation/data/object-segmentation/ECSSD/features/dino_vits16/0289.pth\n",
      "dict_keys(['k', 'indices', 'file', 'id', 'model_name', 'patch_size', 'shape'])\n",
      "0289\n",
      "Starting Training\n",
      "epoch: 00, loss: -0.34231\n",
      "epoch: 01, loss: -0.65475\n",
      "epoch: 02, loss: -0.68225\n",
      "epoch: 03, loss: -0.72641\n",
      "epoch: 04, loss: -0.75694\n",
      "epoch: 05, loss: -0.77162\n",
      "epoch: 06, loss: -0.77614\n",
      "epoch: 07, loss: -0.76373\n",
      "epoch: 08, loss: -0.74303\n",
      "epoch: 09, loss: -0.74798\n"
     ]
    },
    {
     "name": "stderr",
     "output_type": "stream",
     "text": [
      " 29%|██▉       | 289/1000 [1:59:25<3:59:36, 20.22s/it]"
     ]
    },
    {
     "name": "stdout",
     "output_type": "stream",
     "text": [
      "eigenvalues shape torch.Size([5]) eigenvectors shape torch.Size([5, 450])\n",
      "289 /home/phdcs2/Hard_Disk/Datasets/Deep-Spectral-Segmentation/data/object-segmentation/ECSSD/features/dino_vits16/0290.pth\n",
      "dict_keys(['k', 'indices', 'file', 'id', 'model_name', 'patch_size', 'shape'])\n",
      "0290\n",
      "Starting Training\n",
      "epoch: 00, loss: -0.51950\n",
      "epoch: 01, loss: -0.81312\n",
      "epoch: 02, loss: -0.80554\n",
      "epoch: 03, loss: -0.77491\n",
      "epoch: 04, loss: -0.77643\n",
      "epoch: 05, loss: -0.76641\n",
      "epoch: 06, loss: -0.74511\n",
      "epoch: 07, loss: -0.71534\n",
      "epoch: 08, loss: -0.74160\n",
      "epoch: 09, loss: -0.75914\n"
     ]
    },
    {
     "name": "stderr",
     "output_type": "stream",
     "text": [
      " 29%|██▉       | 290/1000 [1:59:43<3:50:59, 19.52s/it]"
     ]
    },
    {
     "name": "stdout",
     "output_type": "stream",
     "text": [
      "eigenvalues shape torch.Size([5]) eigenvectors shape torch.Size([5, 375])\n",
      "290 /home/phdcs2/Hard_Disk/Datasets/Deep-Spectral-Segmentation/data/object-segmentation/ECSSD/features/dino_vits16/0291.pth\n",
      "dict_keys(['k', 'indices', 'file', 'id', 'model_name', 'patch_size', 'shape'])\n",
      "0291\n",
      "Starting Training\n",
      "epoch: 00, loss: -0.70031\n",
      "epoch: 01, loss: -0.92651\n",
      "epoch: 02, loss: -0.93298\n",
      "epoch: 03, loss: -0.92259\n",
      "epoch: 04, loss: -0.91870\n",
      "epoch: 05, loss: -0.91377\n",
      "epoch: 06, loss: -0.92276\n",
      "epoch: 07, loss: -0.83930\n",
      "epoch: 08, loss: -0.76957\n",
      "epoch: 09, loss: -0.77785\n"
     ]
    },
    {
     "name": "stderr",
     "output_type": "stream",
     "text": [
      " 29%|██▉       | 291/1000 [2:00:05<3:59:08, 20.24s/it]"
     ]
    },
    {
     "name": "stdout",
     "output_type": "stream",
     "text": [
      "eigenvalues shape torch.Size([5]) eigenvectors shape torch.Size([5, 475])\n",
      "291 /home/phdcs2/Hard_Disk/Datasets/Deep-Spectral-Segmentation/data/object-segmentation/ECSSD/features/dino_vits16/0292.pth\n",
      "dict_keys(['k', 'indices', 'file', 'id', 'model_name', 'patch_size', 'shape'])\n",
      "0292\n",
      "Starting Training\n",
      "epoch: 00, loss: -0.38467\n",
      "epoch: 01, loss: -0.75212\n",
      "epoch: 02, loss: -0.75721\n",
      "epoch: 03, loss: -0.76743\n",
      "epoch: 04, loss: -0.82360\n",
      "epoch: 05, loss: -0.82735\n",
      "epoch: 06, loss: -0.79066\n",
      "epoch: 07, loss: -0.83329\n",
      "epoch: 08, loss: -0.82943\n",
      "epoch: 09, loss: -0.83582\n"
     ]
    },
    {
     "name": "stderr",
     "output_type": "stream",
     "text": [
      " 29%|██▉       | 292/1000 [2:00:23<3:52:47, 19.73s/it]"
     ]
    },
    {
     "name": "stdout",
     "output_type": "stream",
     "text": [
      "eigenvalues shape torch.Size([5]) eigenvectors shape torch.Size([5, 400])\n",
      "292 /home/phdcs2/Hard_Disk/Datasets/Deep-Spectral-Segmentation/data/object-segmentation/ECSSD/features/dino_vits16/0293.pth\n",
      "dict_keys(['k', 'indices', 'file', 'id', 'model_name', 'patch_size', 'shape'])\n",
      "0293\n",
      "Starting Training\n",
      "epoch: 00, loss: -0.39444\n",
      "epoch: 01, loss: -0.66843\n",
      "epoch: 02, loss: -0.67559\n",
      "epoch: 03, loss: -0.70076\n",
      "epoch: 04, loss: -0.72308\n",
      "epoch: 05, loss: -0.73643\n",
      "epoch: 06, loss: -0.74770\n",
      "epoch: 07, loss: -0.75873\n",
      "epoch: 08, loss: -0.78881\n",
      "epoch: 09, loss: -0.78560\n"
     ]
    },
    {
     "name": "stderr",
     "output_type": "stream",
     "text": [
      " 29%|██▉       | 293/1000 [2:00:43<3:51:01, 19.61s/it]"
     ]
    },
    {
     "name": "stdout",
     "output_type": "stream",
     "text": [
      "eigenvalues shape torch.Size([5]) eigenvectors shape torch.Size([5, 425])\n",
      "293 /home/phdcs2/Hard_Disk/Datasets/Deep-Spectral-Segmentation/data/object-segmentation/ECSSD/features/dino_vits16/0294.pth\n",
      "dict_keys(['k', 'indices', 'file', 'id', 'model_name', 'patch_size', 'shape'])\n",
      "0294\n",
      "Starting Training\n",
      "epoch: 00, loss: -0.34354\n",
      "epoch: 01, loss: -0.69914\n",
      "epoch: 02, loss: -0.77355\n",
      "epoch: 03, loss: -0.75958\n",
      "epoch: 04, loss: -0.86209\n",
      "epoch: 05, loss: -0.90266\n",
      "epoch: 06, loss: -0.90820\n",
      "epoch: 07, loss: -0.91814\n",
      "epoch: 08, loss: -0.92184\n",
      "epoch: 09, loss: -0.90413\n"
     ]
    },
    {
     "name": "stderr",
     "output_type": "stream",
     "text": [
      " 29%|██▉       | 294/1000 [2:01:04<3:57:32, 20.19s/it]"
     ]
    },
    {
     "name": "stdout",
     "output_type": "stream",
     "text": [
      "eigenvalues shape torch.Size([5]) eigenvectors shape torch.Size([5, 425])\n",
      "294 /home/phdcs2/Hard_Disk/Datasets/Deep-Spectral-Segmentation/data/object-segmentation/ECSSD/features/dino_vits16/0295.pth\n",
      "dict_keys(['k', 'indices', 'file', 'id', 'model_name', 'patch_size', 'shape'])\n",
      "0295\n",
      "Starting Training\n",
      "epoch: 00, loss: -0.25908\n",
      "epoch: 01, loss: -0.67695\n",
      "epoch: 02, loss: -0.73612\n",
      "epoch: 03, loss: -0.72570\n",
      "epoch: 04, loss: -0.79091\n",
      "epoch: 05, loss: -0.81228\n",
      "epoch: 06, loss: -0.81449\n",
      "epoch: 07, loss: -0.82535\n",
      "epoch: 08, loss: -0.81732\n",
      "epoch: 09, loss: -0.82686\n"
     ]
    },
    {
     "name": "stderr",
     "output_type": "stream",
     "text": [
      " 30%|██▉       | 295/1000 [2:01:24<3:55:51, 20.07s/it]"
     ]
    },
    {
     "name": "stdout",
     "output_type": "stream",
     "text": [
      "eigenvalues shape torch.Size([5]) eigenvectors shape torch.Size([5, 425])\n",
      "295 /home/phdcs2/Hard_Disk/Datasets/Deep-Spectral-Segmentation/data/object-segmentation/ECSSD/features/dino_vits16/0296.pth\n",
      "dict_keys(['k', 'indices', 'file', 'id', 'model_name', 'patch_size', 'shape'])\n",
      "0296\n",
      "Starting Training\n",
      "epoch: 00, loss: -0.38509\n",
      "epoch: 01, loss: -0.71559\n",
      "epoch: 02, loss: -0.76976\n",
      "epoch: 03, loss: -0.81955\n",
      "epoch: 04, loss: -0.83182\n",
      "epoch: 05, loss: -0.79926\n",
      "epoch: 06, loss: -0.79809\n",
      "epoch: 07, loss: -0.77593\n",
      "epoch: 08, loss: -0.77313\n",
      "epoch: 09, loss: -0.78673\n"
     ]
    },
    {
     "name": "stderr",
     "output_type": "stream",
     "text": [
      " 30%|██▉       | 296/1000 [2:01:43<3:51:55, 19.77s/it]"
     ]
    },
    {
     "name": "stdout",
     "output_type": "stream",
     "text": [
      "eigenvalues shape torch.Size([5]) eigenvectors shape torch.Size([5, 425])\n",
      "296 /home/phdcs2/Hard_Disk/Datasets/Deep-Spectral-Segmentation/data/object-segmentation/ECSSD/features/dino_vits16/0297.pth\n",
      "dict_keys(['k', 'indices', 'file', 'id', 'model_name', 'patch_size', 'shape'])\n",
      "0297\n",
      "Starting Training\n",
      "epoch: 00, loss: -0.31850\n",
      "epoch: 01, loss: -0.59890\n",
      "epoch: 02, loss: -0.61445\n",
      "epoch: 03, loss: -0.64295\n",
      "epoch: 04, loss: -0.72459\n",
      "epoch: 05, loss: -0.75318\n",
      "epoch: 06, loss: -0.74791\n",
      "epoch: 07, loss: -0.74018\n",
      "epoch: 08, loss: -0.72724\n",
      "epoch: 09, loss: -0.73511\n"
     ]
    },
    {
     "name": "stderr",
     "output_type": "stream",
     "text": [
      " 30%|██▉       | 297/1000 [2:02:06<4:02:44, 20.72s/it]"
     ]
    },
    {
     "name": "stdout",
     "output_type": "stream",
     "text": [
      "eigenvalues shape torch.Size([5]) eigenvectors shape torch.Size([5, 475])\n",
      "297 /home/phdcs2/Hard_Disk/Datasets/Deep-Spectral-Segmentation/data/object-segmentation/ECSSD/features/dino_vits16/0298.pth\n",
      "dict_keys(['k', 'indices', 'file', 'id', 'model_name', 'patch_size', 'shape'])\n",
      "0298\n",
      "Starting Training\n",
      "epoch: 00, loss: -0.61325\n",
      "epoch: 01, loss: -0.78409\n",
      "epoch: 02, loss: -0.76130\n",
      "epoch: 03, loss: -0.76450\n",
      "epoch: 04, loss: -0.81791\n",
      "epoch: 05, loss: -0.83886\n",
      "epoch: 06, loss: -0.86174\n",
      "epoch: 07, loss: -0.87542\n",
      "epoch: 08, loss: -0.88224\n",
      "epoch: 09, loss: -0.88371\n"
     ]
    },
    {
     "name": "stderr",
     "output_type": "stream",
     "text": [
      " 30%|██▉       | 298/1000 [2:02:24<3:53:16, 19.94s/it]"
     ]
    },
    {
     "name": "stdout",
     "output_type": "stream",
     "text": [
      "eigenvalues shape torch.Size([5]) eigenvectors shape torch.Size([5, 400])\n",
      "298 /home/phdcs2/Hard_Disk/Datasets/Deep-Spectral-Segmentation/data/object-segmentation/ECSSD/features/dino_vits16/0299.pth\n",
      "dict_keys(['k', 'indices', 'file', 'id', 'model_name', 'patch_size', 'shape'])\n",
      "0299\n",
      "Starting Training\n",
      "epoch: 00, loss: -0.52085\n",
      "epoch: 01, loss: -0.81675\n",
      "epoch: 02, loss: -0.81141\n",
      "epoch: 03, loss: -0.83367\n",
      "epoch: 04, loss: -0.81348\n",
      "epoch: 05, loss: -0.78082\n",
      "epoch: 06, loss: -0.79359\n",
      "epoch: 07, loss: -0.77056\n",
      "epoch: 08, loss: -0.78790\n",
      "epoch: 09, loss: -0.77915\n"
     ]
    },
    {
     "name": "stderr",
     "output_type": "stream",
     "text": [
      " 30%|██▉       | 299/1000 [2:02:46<3:58:42, 20.43s/it]"
     ]
    },
    {
     "name": "stdout",
     "output_type": "stream",
     "text": [
      "eigenvalues shape torch.Size([5]) eigenvectors shape torch.Size([5, 450])\n",
      "299 /home/phdcs2/Hard_Disk/Datasets/Deep-Spectral-Segmentation/data/object-segmentation/ECSSD/features/dino_vits16/0300.pth\n",
      "dict_keys(['k', 'indices', 'file', 'id', 'model_name', 'patch_size', 'shape'])\n",
      "0300\n",
      "Starting Training\n",
      "epoch: 00, loss: -0.35855\n",
      "epoch: 01, loss: -0.67239\n",
      "epoch: 02, loss: -0.71526\n",
      "epoch: 03, loss: -0.75229\n",
      "epoch: 04, loss: -0.75445\n",
      "epoch: 05, loss: -0.75638\n",
      "epoch: 06, loss: -0.78785\n",
      "epoch: 07, loss: -0.80265\n",
      "epoch: 08, loss: -0.82321\n",
      "epoch: 09, loss: -0.77608\n"
     ]
    },
    {
     "name": "stderr",
     "output_type": "stream",
     "text": [
      " 30%|███       | 300/1000 [2:03:08<4:06:36, 21.14s/it]"
     ]
    },
    {
     "name": "stdout",
     "output_type": "stream",
     "text": [
      "eigenvalues shape torch.Size([5]) eigenvectors shape torch.Size([5, 475])\n",
      "300 /home/phdcs2/Hard_Disk/Datasets/Deep-Spectral-Segmentation/data/object-segmentation/ECSSD/features/dino_vits16/0301.pth\n",
      "dict_keys(['k', 'indices', 'file', 'id', 'model_name', 'patch_size', 'shape'])\n",
      "0301\n",
      "Starting Training\n",
      "epoch: 00, loss: -0.36590\n",
      "epoch: 01, loss: -0.70593\n",
      "epoch: 02, loss: -0.76434\n",
      "epoch: 03, loss: -0.79483\n",
      "epoch: 04, loss: -0.79509\n",
      "epoch: 05, loss: -0.80405\n",
      "epoch: 06, loss: -0.80808\n",
      "epoch: 07, loss: -0.80557\n",
      "epoch: 08, loss: -0.81922\n",
      "epoch: 09, loss: -0.82374\n"
     ]
    },
    {
     "name": "stderr",
     "output_type": "stream",
     "text": [
      " 30%|███       | 301/1000 [2:03:26<3:53:56, 20.08s/it]"
     ]
    },
    {
     "name": "stdout",
     "output_type": "stream",
     "text": [
      "eigenvalues shape torch.Size([5]) eigenvectors shape torch.Size([5, 400])\n",
      "301 /home/phdcs2/Hard_Disk/Datasets/Deep-Spectral-Segmentation/data/object-segmentation/ECSSD/features/dino_vits16/0302.pth\n",
      "dict_keys(['k', 'indices', 'file', 'id', 'model_name', 'patch_size', 'shape'])\n",
      "0302\n",
      "Starting Training\n",
      "epoch: 00, loss: -0.51788\n",
      "epoch: 01, loss: -0.72499\n",
      "epoch: 02, loss: -0.73585\n",
      "epoch: 03, loss: -0.77082\n",
      "epoch: 04, loss: -0.83505\n",
      "epoch: 05, loss: -0.82272\n",
      "epoch: 06, loss: -0.81737\n",
      "epoch: 07, loss: -0.83354\n",
      "epoch: 08, loss: -0.84874\n",
      "epoch: 09, loss: -0.84328\n"
     ]
    },
    {
     "name": "stderr",
     "output_type": "stream",
     "text": [
      " 30%|███       | 302/1000 [2:03:47<3:56:44, 20.35s/it]"
     ]
    },
    {
     "name": "stdout",
     "output_type": "stream",
     "text": [
      "eigenvalues shape torch.Size([5]) eigenvectors shape torch.Size([5, 450])\n",
      "302 /home/phdcs2/Hard_Disk/Datasets/Deep-Spectral-Segmentation/data/object-segmentation/ECSSD/features/dino_vits16/0303.pth\n",
      "dict_keys(['k', 'indices', 'file', 'id', 'model_name', 'patch_size', 'shape'])\n",
      "0303\n",
      "Starting Training\n",
      "epoch: 00, loss: -0.59602\n",
      "epoch: 01, loss: -0.86114\n",
      "epoch: 02, loss: -0.86914\n",
      "epoch: 03, loss: -0.87114\n",
      "epoch: 04, loss: -0.85767\n",
      "epoch: 05, loss: -0.87321\n",
      "epoch: 06, loss: -0.86122\n",
      "epoch: 07, loss: -0.86867\n",
      "epoch: 08, loss: -0.87383\n",
      "epoch: 09, loss: -0.88864\n"
     ]
    },
    {
     "name": "stderr",
     "output_type": "stream",
     "text": [
      " 30%|███       | 303/1000 [2:04:08<3:59:33, 20.62s/it]"
     ]
    },
    {
     "name": "stdout",
     "output_type": "stream",
     "text": [
      "eigenvalues shape torch.Size([5]) eigenvectors shape torch.Size([5, 450])\n",
      "303 /home/phdcs2/Hard_Disk/Datasets/Deep-Spectral-Segmentation/data/object-segmentation/ECSSD/features/dino_vits16/0304.pth\n",
      "dict_keys(['k', 'indices', 'file', 'id', 'model_name', 'patch_size', 'shape'])\n",
      "0304\n",
      "Starting Training\n",
      "epoch: 00, loss: -0.63727\n",
      "epoch: 01, loss: -0.90502\n",
      "epoch: 02, loss: -0.91325\n",
      "epoch: 03, loss: -0.92162\n",
      "epoch: 04, loss: -0.91502\n",
      "epoch: 05, loss: -0.92402\n",
      "epoch: 06, loss: -0.92686\n",
      "epoch: 07, loss: -0.93622\n",
      "epoch: 08, loss: -0.90256\n",
      "epoch: 09, loss: -0.90738\n"
     ]
    },
    {
     "name": "stderr",
     "output_type": "stream",
     "text": [
      " 30%|███       | 304/1000 [2:04:25<3:44:22, 19.34s/it]"
     ]
    },
    {
     "name": "stdout",
     "output_type": "stream",
     "text": [
      "eigenvalues shape torch.Size([5]) eigenvectors shape torch.Size([5, 400])\n",
      "304 /home/phdcs2/Hard_Disk/Datasets/Deep-Spectral-Segmentation/data/object-segmentation/ECSSD/features/dino_vits16/0305.pth\n",
      "dict_keys(['k', 'indices', 'file', 'id', 'model_name', 'patch_size', 'shape'])\n",
      "0305\n",
      "Starting Training\n",
      "epoch: 00, loss: -0.39083\n",
      "epoch: 01, loss: -0.69828\n",
      "epoch: 02, loss: -0.72033\n",
      "epoch: 03, loss: -0.80371\n",
      "epoch: 04, loss: -0.83392\n",
      "epoch: 05, loss: -0.84033\n",
      "epoch: 06, loss: -0.86059\n",
      "epoch: 07, loss: -0.85116\n",
      "epoch: 08, loss: -0.85671\n",
      "epoch: 09, loss: -0.85279\n"
     ]
    },
    {
     "name": "stderr",
     "output_type": "stream",
     "text": [
      " 30%|███       | 305/1000 [2:04:44<3:44:51, 19.41s/it]"
     ]
    },
    {
     "name": "stdout",
     "output_type": "stream",
     "text": [
      "eigenvalues shape torch.Size([5]) eigenvectors shape torch.Size([5, 400])\n",
      "305 /home/phdcs2/Hard_Disk/Datasets/Deep-Spectral-Segmentation/data/object-segmentation/ECSSD/features/dino_vits16/0306.pth\n",
      "dict_keys(['k', 'indices', 'file', 'id', 'model_name', 'patch_size', 'shape'])\n",
      "0306\n",
      "Starting Training\n",
      "epoch: 00, loss: -0.26702\n",
      "epoch: 01, loss: -0.60554\n",
      "epoch: 02, loss: -0.70413\n",
      "epoch: 03, loss: -0.70949\n",
      "epoch: 04, loss: -0.74636\n",
      "epoch: 05, loss: -0.75306\n",
      "epoch: 06, loss: -0.76741\n",
      "epoch: 07, loss: -0.77124\n",
      "epoch: 08, loss: -0.77505\n",
      "epoch: 09, loss: -0.79967\n"
     ]
    },
    {
     "name": "stderr",
     "output_type": "stream",
     "text": [
      " 31%|███       | 306/1000 [2:05:03<3:42:13, 19.21s/it]"
     ]
    },
    {
     "name": "stdout",
     "output_type": "stream",
     "text": [
      "eigenvalues shape torch.Size([5]) eigenvectors shape torch.Size([5, 400])\n",
      "306 /home/phdcs2/Hard_Disk/Datasets/Deep-Spectral-Segmentation/data/object-segmentation/ECSSD/features/dino_vits16/0307.pth\n",
      "dict_keys(['k', 'indices', 'file', 'id', 'model_name', 'patch_size', 'shape'])\n",
      "0307\n",
      "Starting Training\n",
      "epoch: 00, loss: -0.50439\n",
      "epoch: 01, loss: -0.78161\n",
      "epoch: 02, loss: -0.75767\n",
      "epoch: 03, loss: -0.74762\n",
      "epoch: 04, loss: -0.73290\n",
      "epoch: 05, loss: -0.68402\n",
      "epoch: 06, loss: -0.69601\n",
      "epoch: 07, loss: -0.69165\n",
      "epoch: 08, loss: -0.66700\n",
      "epoch: 09, loss: -0.67331\n"
     ]
    },
    {
     "name": "stderr",
     "output_type": "stream",
     "text": [
      " 31%|███       | 307/1000 [2:05:26<3:53:35, 20.23s/it]"
     ]
    },
    {
     "name": "stdout",
     "output_type": "stream",
     "text": [
      "eigenvalues shape torch.Size([5]) eigenvectors shape torch.Size([5, 450])\n",
      "307 /home/phdcs2/Hard_Disk/Datasets/Deep-Spectral-Segmentation/data/object-segmentation/ECSSD/features/dino_vits16/0308.pth\n",
      "dict_keys(['k', 'indices', 'file', 'id', 'model_name', 'patch_size', 'shape'])\n",
      "0308\n",
      "Starting Training\n",
      "epoch: 00, loss: -0.36995\n",
      "epoch: 01, loss: -0.70956\n",
      "epoch: 02, loss: -0.76120\n",
      "epoch: 03, loss: -0.77049\n",
      "epoch: 04, loss: -0.80612\n",
      "epoch: 05, loss: -0.82547\n",
      "epoch: 06, loss: -0.81538\n",
      "epoch: 07, loss: -0.80609\n",
      "epoch: 08, loss: -0.81836\n",
      "epoch: 09, loss: -0.83194\n"
     ]
    },
    {
     "name": "stderr",
     "output_type": "stream",
     "text": [
      " 31%|███       | 308/1000 [2:05:46<3:52:31, 20.16s/it]"
     ]
    },
    {
     "name": "stdout",
     "output_type": "stream",
     "text": [
      "eigenvalues shape torch.Size([5]) eigenvectors shape torch.Size([5, 450])\n",
      "308 /home/phdcs2/Hard_Disk/Datasets/Deep-Spectral-Segmentation/data/object-segmentation/ECSSD/features/dino_vits16/0309.pth\n",
      "dict_keys(['k', 'indices', 'file', 'id', 'model_name', 'patch_size', 'shape'])\n",
      "0309\n",
      "Starting Training\n",
      "epoch: 00, loss: -0.50945\n",
      "epoch: 01, loss: -0.81408\n",
      "epoch: 02, loss: -0.82384\n",
      "epoch: 03, loss: -0.83254\n",
      "epoch: 04, loss: -0.81743\n",
      "epoch: 05, loss: -0.81543\n",
      "epoch: 06, loss: -0.79233\n",
      "epoch: 07, loss: -0.81065\n",
      "epoch: 08, loss: -0.83421\n",
      "epoch: 09, loss: -0.86637\n"
     ]
    },
    {
     "name": "stderr",
     "output_type": "stream",
     "text": [
      " 31%|███       | 309/1000 [2:06:05<3:49:23, 19.92s/it]"
     ]
    },
    {
     "name": "stdout",
     "output_type": "stream",
     "text": [
      "eigenvalues shape torch.Size([5]) eigenvectors shape torch.Size([5, 400])\n",
      "309 /home/phdcs2/Hard_Disk/Datasets/Deep-Spectral-Segmentation/data/object-segmentation/ECSSD/features/dino_vits16/0310.pth\n",
      "dict_keys(['k', 'indices', 'file', 'id', 'model_name', 'patch_size', 'shape'])\n",
      "0310\n",
      "Starting Training\n",
      "epoch: 00, loss: -0.27573\n",
      "epoch: 01, loss: -0.62327\n",
      "epoch: 02, loss: -0.71512\n",
      "epoch: 03, loss: -0.73296\n",
      "epoch: 04, loss: -0.76314\n",
      "epoch: 05, loss: -0.75474\n",
      "epoch: 06, loss: -0.74848\n",
      "epoch: 07, loss: -0.72713\n",
      "epoch: 08, loss: -0.72955\n",
      "epoch: 09, loss: -0.73491\n"
     ]
    },
    {
     "name": "stderr",
     "output_type": "stream",
     "text": [
      " 31%|███       | 310/1000 [2:06:26<3:52:19, 20.20s/it]"
     ]
    },
    {
     "name": "stdout",
     "output_type": "stream",
     "text": [
      "eigenvalues shape torch.Size([5]) eigenvectors shape torch.Size([5, 450])\n",
      "310 /home/phdcs2/Hard_Disk/Datasets/Deep-Spectral-Segmentation/data/object-segmentation/ECSSD/features/dino_vits16/0311.pth\n",
      "dict_keys(['k', 'indices', 'file', 'id', 'model_name', 'patch_size', 'shape'])\n",
      "0311\n",
      "Starting Training\n",
      "epoch: 00, loss: -0.26995\n",
      "epoch: 01, loss: -0.71967\n",
      "epoch: 02, loss: -0.78753\n",
      "epoch: 03, loss: -0.81183\n",
      "epoch: 04, loss: -0.80847\n",
      "epoch: 05, loss: -0.82137\n",
      "epoch: 06, loss: -0.81610\n",
      "epoch: 07, loss: -0.79626\n",
      "epoch: 08, loss: -0.81502\n",
      "epoch: 09, loss: -0.82902\n",
      " ** On entry to SLASCL parameter number  4 had an illegal value\n",
      " ** On entry to SLASCL parameter number  4 had an illegal value\n"
     ]
    },
    {
     "name": "stderr",
     "output_type": "stream",
     "text": [
      " 31%|███       | 311/1000 [2:06:46<3:50:23, 20.06s/it]"
     ]
    },
    {
     "name": "stdout",
     "output_type": "stream",
     "text": [
      "eigenvalues shape torch.Size([5]) eigenvectors shape torch.Size([5, 400])\n",
      "311 /home/phdcs2/Hard_Disk/Datasets/Deep-Spectral-Segmentation/data/object-segmentation/ECSSD/features/dino_vits16/0312.pth\n",
      "dict_keys(['k', 'indices', 'file', 'id', 'model_name', 'patch_size', 'shape'])\n",
      "0312\n",
      "Starting Training\n",
      "epoch: 00, loss: -0.38392\n",
      "epoch: 01, loss: -0.78940\n",
      "epoch: 02, loss: -0.84054\n",
      "epoch: 03, loss: -0.86582\n",
      "epoch: 04, loss: -0.88281\n",
      "epoch: 05, loss: -0.88959\n",
      "epoch: 06, loss: -0.89661\n",
      "epoch: 07, loss: -0.89538\n",
      "epoch: 08, loss: -0.89441\n",
      "epoch: 09, loss: -0.90170\n"
     ]
    },
    {
     "name": "stderr",
     "output_type": "stream",
     "text": [
      " 31%|███       | 312/1000 [2:07:04<3:46:00, 19.71s/it]"
     ]
    },
    {
     "name": "stdout",
     "output_type": "stream",
     "text": [
      "eigenvalues shape torch.Size([5]) eigenvectors shape torch.Size([5, 400])\n",
      "312 /home/phdcs2/Hard_Disk/Datasets/Deep-Spectral-Segmentation/data/object-segmentation/ECSSD/features/dino_vits16/0313.pth\n",
      "dict_keys(['k', 'indices', 'file', 'id', 'model_name', 'patch_size', 'shape'])\n",
      "0313\n",
      "Starting Training\n",
      "epoch: 00, loss: -0.44718\n",
      "epoch: 01, loss: -0.72282\n",
      "epoch: 02, loss: -0.71006\n",
      "epoch: 03, loss: -0.73297\n",
      "epoch: 04, loss: -0.76165\n",
      "epoch: 05, loss: -0.76491\n",
      "epoch: 06, loss: -0.78613\n",
      "epoch: 07, loss: -0.77331\n",
      "epoch: 08, loss: -0.78559\n",
      "epoch: 09, loss: -0.78238\n"
     ]
    },
    {
     "name": "stderr",
     "output_type": "stream",
     "text": [
      " 31%|███▏      | 313/1000 [2:07:25<3:47:23, 19.86s/it]"
     ]
    },
    {
     "name": "stdout",
     "output_type": "stream",
     "text": [
      "eigenvalues shape torch.Size([5]) eigenvectors shape torch.Size([5, 400])\n",
      "313 /home/phdcs2/Hard_Disk/Datasets/Deep-Spectral-Segmentation/data/object-segmentation/ECSSD/features/dino_vits16/0314.pth\n",
      "dict_keys(['k', 'indices', 'file', 'id', 'model_name', 'patch_size', 'shape'])\n",
      "0314\n",
      "Starting Training\n",
      "epoch: 00, loss: -0.50654\n",
      "epoch: 01, loss: -0.73639\n",
      "epoch: 02, loss: -0.65303\n",
      "epoch: 03, loss: -0.69590\n",
      "epoch: 04, loss: -0.76760\n",
      "epoch: 05, loss: -0.75213\n",
      "epoch: 06, loss: -0.79138\n",
      "epoch: 07, loss: -0.79703\n",
      "epoch: 08, loss: -0.78768\n",
      "epoch: 09, loss: -0.84233\n"
     ]
    },
    {
     "name": "stderr",
     "output_type": "stream",
     "text": [
      " 31%|███▏      | 314/1000 [2:07:43<3:41:17, 19.35s/it]"
     ]
    },
    {
     "name": "stdout",
     "output_type": "stream",
     "text": [
      "eigenvalues shape torch.Size([5]) eigenvectors shape torch.Size([5, 400])\n",
      "314 /home/phdcs2/Hard_Disk/Datasets/Deep-Spectral-Segmentation/data/object-segmentation/ECSSD/features/dino_vits16/0315.pth\n",
      "dict_keys(['k', 'indices', 'file', 'id', 'model_name', 'patch_size', 'shape'])\n",
      "0315\n",
      "Starting Training\n",
      "epoch: 00, loss: -0.41863\n",
      "epoch: 01, loss: -0.65607\n",
      "epoch: 02, loss: -0.77032\n",
      "epoch: 03, loss: -0.78587\n",
      "epoch: 04, loss: -0.79727\n",
      "epoch: 05, loss: -0.82030\n",
      "epoch: 06, loss: -0.81861\n",
      "epoch: 07, loss: -0.82269\n",
      "epoch: 08, loss: -0.84164\n",
      "epoch: 09, loss: -0.82938\n"
     ]
    },
    {
     "name": "stderr",
     "output_type": "stream",
     "text": [
      " 32%|███▏      | 315/1000 [2:08:04<3:46:00, 19.80s/it]"
     ]
    },
    {
     "name": "stdout",
     "output_type": "stream",
     "text": [
      "eigenvalues shape torch.Size([5]) eigenvectors shape torch.Size([5, 450])\n",
      "315 /home/phdcs2/Hard_Disk/Datasets/Deep-Spectral-Segmentation/data/object-segmentation/ECSSD/features/dino_vits16/0316.pth\n",
      "dict_keys(['k', 'indices', 'file', 'id', 'model_name', 'patch_size', 'shape'])\n",
      "0316\n",
      "Starting Training\n",
      "epoch: 00, loss: -0.29491\n",
      "epoch: 01, loss: -0.66847\n",
      "epoch: 02, loss: -0.72306\n",
      "epoch: 03, loss: -0.68656\n",
      "epoch: 04, loss: -0.73761\n",
      "epoch: 05, loss: -0.78227\n",
      "epoch: 06, loss: -0.80075\n",
      "epoch: 07, loss: -0.81540\n",
      "epoch: 08, loss: -0.81852\n",
      "epoch: 09, loss: -0.83404\n"
     ]
    },
    {
     "name": "stderr",
     "output_type": "stream",
     "text": [
      " 32%|███▏      | 316/1000 [2:08:25<3:51:32, 20.31s/it]"
     ]
    },
    {
     "name": "stdout",
     "output_type": "stream",
     "text": [
      "eigenvalues shape torch.Size([5]) eigenvectors shape torch.Size([5, 450])\n",
      "316 /home/phdcs2/Hard_Disk/Datasets/Deep-Spectral-Segmentation/data/object-segmentation/ECSSD/features/dino_vits16/0317.pth\n",
      "dict_keys(['k', 'indices', 'file', 'id', 'model_name', 'patch_size', 'shape'])\n",
      "0317\n",
      "Starting Training\n",
      "epoch: 00, loss: -0.35703\n",
      "epoch: 01, loss: -0.69584\n",
      "epoch: 02, loss: -0.74104\n",
      "epoch: 03, loss: -0.75859\n",
      "epoch: 04, loss: -0.76266\n",
      "epoch: 05, loss: -0.78394\n",
      "epoch: 06, loss: -0.77466\n",
      "epoch: 07, loss: -0.79639\n",
      "epoch: 08, loss: -0.78935\n",
      "epoch: 09, loss: -0.79317\n"
     ]
    },
    {
     "name": "stderr",
     "output_type": "stream",
     "text": [
      " 32%|███▏      | 317/1000 [2:08:47<3:58:04, 20.91s/it]"
     ]
    },
    {
     "name": "stdout",
     "output_type": "stream",
     "text": [
      "eigenvalues shape torch.Size([5]) eigenvectors shape torch.Size([5, 450])\n",
      "317 /home/phdcs2/Hard_Disk/Datasets/Deep-Spectral-Segmentation/data/object-segmentation/ECSSD/features/dino_vits16/0318.pth\n",
      "dict_keys(['k', 'indices', 'file', 'id', 'model_name', 'patch_size', 'shape'])\n",
      "0318\n",
      "Starting Training\n",
      "epoch: 00, loss: -0.35049\n",
      "epoch: 01, loss: -0.73573\n",
      "epoch: 02, loss: -0.78342\n",
      "epoch: 03, loss: -0.80286\n",
      "epoch: 04, loss: -0.79972\n",
      "epoch: 05, loss: -0.80224\n",
      "epoch: 06, loss: -0.85940\n",
      "epoch: 07, loss: -0.88385\n",
      "epoch: 08, loss: -0.90126\n",
      "epoch: 09, loss: -0.90646\n"
     ]
    },
    {
     "name": "stderr",
     "output_type": "stream",
     "text": [
      " 32%|███▏      | 318/1000 [2:09:08<3:57:54, 20.93s/it]"
     ]
    },
    {
     "name": "stdout",
     "output_type": "stream",
     "text": [
      "eigenvalues shape torch.Size([5]) eigenvectors shape torch.Size([5, 450])\n",
      "318 /home/phdcs2/Hard_Disk/Datasets/Deep-Spectral-Segmentation/data/object-segmentation/ECSSD/features/dino_vits16/0319.pth\n",
      "dict_keys(['k', 'indices', 'file', 'id', 'model_name', 'patch_size', 'shape'])\n",
      "0319\n",
      "Starting Training\n",
      "epoch: 00, loss: -0.24209\n",
      "epoch: 01, loss: -0.50092\n",
      "epoch: 02, loss: -0.60012\n",
      "epoch: 03, loss: -0.64081\n",
      "epoch: 04, loss: -0.70841\n",
      "epoch: 05, loss: -0.73083\n",
      "epoch: 06, loss: -0.76905\n",
      "epoch: 07, loss: -0.77820\n",
      "epoch: 08, loss: -0.79612\n",
      "epoch: 09, loss: -0.80141\n"
     ]
    },
    {
     "name": "stderr",
     "output_type": "stream",
     "text": [
      " 32%|███▏      | 319/1000 [2:09:29<3:54:56, 20.70s/it]"
     ]
    },
    {
     "name": "stdout",
     "output_type": "stream",
     "text": [
      "eigenvalues shape torch.Size([5]) eigenvectors shape torch.Size([5, 450])\n",
      "319 /home/phdcs2/Hard_Disk/Datasets/Deep-Spectral-Segmentation/data/object-segmentation/ECSSD/features/dino_vits16/0320.pth\n",
      "dict_keys(['k', 'indices', 'file', 'id', 'model_name', 'patch_size', 'shape'])\n",
      "0320\n",
      "Starting Training\n",
      "epoch: 00, loss: -0.64732\n",
      "epoch: 01, loss: -0.92282\n",
      "epoch: 02, loss: -0.91082\n",
      "epoch: 03, loss: -0.91096\n",
      "epoch: 04, loss: -0.88290\n",
      "epoch: 05, loss: -0.89064\n",
      "epoch: 06, loss: -0.88450\n",
      "epoch: 07, loss: -0.87152\n",
      "epoch: 08, loss: -0.84760\n",
      "epoch: 09, loss: -0.81254\n"
     ]
    },
    {
     "name": "stderr",
     "output_type": "stream",
     "text": [
      " 32%|███▏      | 320/1000 [2:09:50<3:57:40, 20.97s/it]"
     ]
    },
    {
     "name": "stdout",
     "output_type": "stream",
     "text": [
      "eigenvalues shape torch.Size([5]) eigenvectors shape torch.Size([5, 450])\n",
      "320 /home/phdcs2/Hard_Disk/Datasets/Deep-Spectral-Segmentation/data/object-segmentation/ECSSD/features/dino_vits16/0321.pth\n",
      "dict_keys(['k', 'indices', 'file', 'id', 'model_name', 'patch_size', 'shape'])\n",
      "0321\n",
      "Starting Training\n",
      "epoch: 00, loss: -0.59805\n",
      "epoch: 01, loss: -0.80821\n",
      "epoch: 02, loss: -0.73654\n",
      "epoch: 03, loss: -0.75830\n",
      "epoch: 04, loss: -0.78910\n",
      "epoch: 05, loss: -0.79207\n",
      "epoch: 06, loss: -0.81022\n",
      "epoch: 07, loss: -0.78120\n",
      "epoch: 08, loss: -0.81013\n",
      "epoch: 09, loss: -0.80827\n"
     ]
    },
    {
     "name": "stderr",
     "output_type": "stream",
     "text": [
      " 32%|███▏      | 321/1000 [2:10:11<3:57:56, 21.03s/it]"
     ]
    },
    {
     "name": "stdout",
     "output_type": "stream",
     "text": [
      "eigenvalues shape torch.Size([5]) eigenvectors shape torch.Size([5, 500])\n",
      "321 /home/phdcs2/Hard_Disk/Datasets/Deep-Spectral-Segmentation/data/object-segmentation/ECSSD/features/dino_vits16/0322.pth\n",
      "dict_keys(['k', 'indices', 'file', 'id', 'model_name', 'patch_size', 'shape'])\n",
      "0322\n",
      "Starting Training\n",
      "epoch: 00, loss: -0.37742\n",
      "epoch: 01, loss: -0.71385\n",
      "epoch: 02, loss: -0.73793\n",
      "epoch: 03, loss: -0.78216\n",
      "epoch: 04, loss: -0.80941\n",
      "epoch: 05, loss: -0.80956\n",
      "epoch: 06, loss: -0.81328\n",
      "epoch: 07, loss: -0.82524\n",
      "epoch: 08, loss: -0.82762\n",
      "epoch: 09, loss: -0.83969\n"
     ]
    },
    {
     "name": "stderr",
     "output_type": "stream",
     "text": [
      " 32%|███▏      | 322/1000 [2:10:32<3:56:46, 20.95s/it]"
     ]
    },
    {
     "name": "stdout",
     "output_type": "stream",
     "text": [
      "eigenvalues shape torch.Size([5]) eigenvectors shape torch.Size([5, 450])\n",
      "322 /home/phdcs2/Hard_Disk/Datasets/Deep-Spectral-Segmentation/data/object-segmentation/ECSSD/features/dino_vits16/0323.pth\n",
      "dict_keys(['k', 'indices', 'file', 'id', 'model_name', 'patch_size', 'shape'])\n",
      "0323\n",
      "Starting Training\n",
      "epoch: 00, loss: -0.68184\n",
      "epoch: 01, loss: -0.87753\n",
      "epoch: 02, loss: -0.87042\n",
      "epoch: 03, loss: -0.85342\n",
      "epoch: 04, loss: -0.85503\n",
      "epoch: 05, loss: -0.84696\n",
      "epoch: 06, loss: -0.85586\n",
      "epoch: 07, loss: -0.86618\n",
      "epoch: 08, loss: -0.85357\n",
      "epoch: 09, loss: -0.86025\n"
     ]
    },
    {
     "name": "stderr",
     "output_type": "stream",
     "text": [
      " 32%|███▏      | 323/1000 [2:10:53<3:57:12, 21.02s/it]"
     ]
    },
    {
     "name": "stdout",
     "output_type": "stream",
     "text": [
      "eigenvalues shape torch.Size([5]) eigenvectors shape torch.Size([5, 450])\n",
      "323 /home/phdcs2/Hard_Disk/Datasets/Deep-Spectral-Segmentation/data/object-segmentation/ECSSD/features/dino_vits16/0324.pth\n",
      "dict_keys(['k', 'indices', 'file', 'id', 'model_name', 'patch_size', 'shape'])\n",
      "0324\n",
      "Starting Training\n",
      "epoch: 00, loss: -0.50941\n",
      "epoch: 01, loss: -0.75059\n",
      "epoch: 02, loss: -0.75084\n",
      "epoch: 03, loss: -0.72098\n",
      "epoch: 04, loss: -0.73301\n",
      "epoch: 05, loss: -0.76297\n",
      "epoch: 06, loss: -0.79538\n",
      "epoch: 07, loss: -0.82819\n",
      "epoch: 08, loss: -0.83162\n",
      "epoch: 09, loss: -0.83055\n"
     ]
    },
    {
     "name": "stderr",
     "output_type": "stream",
     "text": [
      " 32%|███▏      | 324/1000 [2:11:14<3:54:33, 20.82s/it]"
     ]
    },
    {
     "name": "stdout",
     "output_type": "stream",
     "text": [
      "eigenvalues shape torch.Size([5]) eigenvectors shape torch.Size([5, 450])\n",
      "324 /home/phdcs2/Hard_Disk/Datasets/Deep-Spectral-Segmentation/data/object-segmentation/ECSSD/features/dino_vits16/0325.pth\n",
      "dict_keys(['k', 'indices', 'file', 'id', 'model_name', 'patch_size', 'shape'])\n",
      "0325\n",
      "Starting Training\n",
      "epoch: 00, loss: -0.40775\n",
      "epoch: 01, loss: -0.64375\n",
      "epoch: 02, loss: -0.60390\n",
      "epoch: 03, loss: -0.63034\n",
      "epoch: 04, loss: -0.68501\n",
      "epoch: 05, loss: -0.68498\n",
      "epoch: 06, loss: -0.70410\n",
      "epoch: 07, loss: -0.73703\n",
      "epoch: 08, loss: -0.72884\n",
      "epoch: 09, loss: -0.72550\n"
     ]
    },
    {
     "name": "stderr",
     "output_type": "stream",
     "text": [
      " 32%|███▎      | 325/1000 [2:11:33<3:50:24, 20.48s/it]"
     ]
    },
    {
     "name": "stdout",
     "output_type": "stream",
     "text": [
      "eigenvalues shape torch.Size([5]) eigenvectors shape torch.Size([5, 450])\n",
      "325 /home/phdcs2/Hard_Disk/Datasets/Deep-Spectral-Segmentation/data/object-segmentation/ECSSD/features/dino_vits16/0326.pth\n",
      "dict_keys(['k', 'indices', 'file', 'id', 'model_name', 'patch_size', 'shape'])\n",
      "0326\n",
      "Starting Training\n",
      "epoch: 00, loss: -0.61667\n",
      "epoch: 01, loss: -0.91770\n",
      "epoch: 02, loss: -0.92301\n",
      "epoch: 03, loss: -0.92664\n",
      "epoch: 04, loss: -0.93485\n",
      "epoch: 05, loss: -0.93692\n",
      "epoch: 06, loss: -0.94162\n",
      "epoch: 07, loss: -0.94262\n",
      "epoch: 08, loss: -0.94041\n",
      "epoch: 09, loss: -0.94501\n"
     ]
    },
    {
     "name": "stderr",
     "output_type": "stream",
     "text": [
      " 33%|███▎      | 326/1000 [2:11:53<3:48:10, 20.31s/it]"
     ]
    },
    {
     "name": "stdout",
     "output_type": "stream",
     "text": [
      "eigenvalues shape torch.Size([5]) eigenvectors shape torch.Size([5, 425])\n",
      "326 /home/phdcs2/Hard_Disk/Datasets/Deep-Spectral-Segmentation/data/object-segmentation/ECSSD/features/dino_vits16/0327.pth\n",
      "dict_keys(['k', 'indices', 'file', 'id', 'model_name', 'patch_size', 'shape'])\n",
      "0327\n",
      "Starting Training\n",
      "epoch: 00, loss: -0.46793\n",
      "epoch: 01, loss: -0.83718\n",
      "epoch: 02, loss: -0.82872\n",
      "epoch: 03, loss: -0.83854\n",
      "epoch: 04, loss: -0.82701\n",
      "epoch: 05, loss: -0.86177\n",
      "epoch: 06, loss: -0.85666\n",
      "epoch: 07, loss: -0.80314\n",
      "epoch: 08, loss: -0.84212\n",
      "epoch: 09, loss: -0.86018\n"
     ]
    },
    {
     "name": "stderr",
     "output_type": "stream",
     "text": [
      " 33%|███▎      | 327/1000 [2:12:15<3:50:51, 20.58s/it]"
     ]
    },
    {
     "name": "stdout",
     "output_type": "stream",
     "text": [
      "eigenvalues shape torch.Size([5]) eigenvectors shape torch.Size([5, 450])\n",
      "327 /home/phdcs2/Hard_Disk/Datasets/Deep-Spectral-Segmentation/data/object-segmentation/ECSSD/features/dino_vits16/0328.pth\n",
      "dict_keys(['k', 'indices', 'file', 'id', 'model_name', 'patch_size', 'shape'])\n",
      "0328\n",
      "Starting Training\n",
      "epoch: 00, loss: -0.67173\n",
      "epoch: 01, loss: -0.93134\n",
      "epoch: 02, loss: -0.89287\n",
      "epoch: 03, loss: -0.86288\n",
      "epoch: 04, loss: -0.87290\n",
      "epoch: 05, loss: -0.83892\n",
      "epoch: 06, loss: -0.79626\n",
      "epoch: 07, loss: -0.74253\n",
      "epoch: 08, loss: -0.74369\n",
      "epoch: 09, loss: -0.76089\n"
     ]
    },
    {
     "name": "stderr",
     "output_type": "stream",
     "text": [
      " 33%|███▎      | 328/1000 [2:12:38<3:59:42, 21.40s/it]"
     ]
    },
    {
     "name": "stdout",
     "output_type": "stream",
     "text": [
      "eigenvalues shape torch.Size([5]) eigenvectors shape torch.Size([5, 475])\n",
      "328 /home/phdcs2/Hard_Disk/Datasets/Deep-Spectral-Segmentation/data/object-segmentation/ECSSD/features/dino_vits16/0329.pth\n",
      "dict_keys(['k', 'indices', 'file', 'id', 'model_name', 'patch_size', 'shape'])\n",
      "0329\n",
      "Starting Training\n",
      "epoch: 00, loss: -0.45215\n",
      "epoch: 01, loss: -0.70260\n",
      "epoch: 02, loss: -0.76027\n",
      "epoch: 03, loss: -0.84029\n",
      "epoch: 04, loss: -0.86356\n",
      "epoch: 05, loss: -0.87308\n",
      "epoch: 06, loss: -0.87099\n",
      "epoch: 07, loss: -0.87483\n",
      "epoch: 08, loss: -0.88250\n",
      "epoch: 09, loss: -0.88281\n"
     ]
    },
    {
     "name": "stderr",
     "output_type": "stream",
     "text": [
      " 33%|███▎      | 329/1000 [2:13:02<4:09:21, 22.30s/it]"
     ]
    },
    {
     "name": "stdout",
     "output_type": "stream",
     "text": [
      "eigenvalues shape torch.Size([5]) eigenvectors shape torch.Size([5, 500])\n",
      "329 /home/phdcs2/Hard_Disk/Datasets/Deep-Spectral-Segmentation/data/object-segmentation/ECSSD/features/dino_vits16/0330.pth\n",
      "dict_keys(['k', 'indices', 'file', 'id', 'model_name', 'patch_size', 'shape'])\n",
      "0330\n",
      "Starting Training\n",
      "epoch: 00, loss: -0.39145\n",
      "epoch: 01, loss: -0.71417\n",
      "epoch: 02, loss: -0.75766\n",
      "epoch: 03, loss: -0.80939\n",
      "epoch: 04, loss: -0.82321\n",
      "epoch: 05, loss: -0.85412\n",
      "epoch: 06, loss: -0.83922\n",
      "epoch: 07, loss: -0.77008\n",
      "epoch: 08, loss: -0.77938\n",
      "epoch: 09, loss: -0.78120\n"
     ]
    },
    {
     "name": "stderr",
     "output_type": "stream",
     "text": [
      " 33%|███▎      | 330/1000 [2:13:20<3:54:54, 21.04s/it]"
     ]
    },
    {
     "name": "stdout",
     "output_type": "stream",
     "text": [
      "eigenvalues shape torch.Size([5]) eigenvectors shape torch.Size([5, 450])\n",
      "330 /home/phdcs2/Hard_Disk/Datasets/Deep-Spectral-Segmentation/data/object-segmentation/ECSSD/features/dino_vits16/0331.pth\n",
      "dict_keys(['k', 'indices', 'file', 'id', 'model_name', 'patch_size', 'shape'])\n",
      "0331\n",
      "Starting Training\n",
      "epoch: 00, loss: -0.63679\n",
      "epoch: 01, loss: -0.90619\n",
      "epoch: 02, loss: -0.86202\n",
      "epoch: 03, loss: -0.85270\n",
      "epoch: 04, loss: -0.84081\n",
      "epoch: 05, loss: -0.85232\n",
      "epoch: 06, loss: -0.84403\n",
      "epoch: 07, loss: -0.84949\n",
      "epoch: 08, loss: -0.86051\n",
      "epoch: 09, loss: -0.86638\n"
     ]
    },
    {
     "name": "stderr",
     "output_type": "stream",
     "text": [
      " 33%|███▎      | 331/1000 [2:13:42<3:55:15, 21.10s/it]"
     ]
    },
    {
     "name": "stdout",
     "output_type": "stream",
     "text": [
      "eigenvalues shape torch.Size([5]) eigenvectors shape torch.Size([5, 450])\n",
      "331 /home/phdcs2/Hard_Disk/Datasets/Deep-Spectral-Segmentation/data/object-segmentation/ECSSD/features/dino_vits16/0332.pth\n",
      "dict_keys(['k', 'indices', 'file', 'id', 'model_name', 'patch_size', 'shape'])\n",
      "0332\n",
      "Starting Training\n",
      "epoch: 00, loss: -0.41255\n",
      "epoch: 01, loss: -0.60533\n",
      "epoch: 02, loss: -0.65687\n",
      "epoch: 03, loss: -0.66147\n",
      "epoch: 04, loss: -0.71078\n",
      "epoch: 05, loss: -0.74355\n",
      "epoch: 06, loss: -0.78442\n",
      "epoch: 07, loss: -0.78995\n",
      "epoch: 08, loss: -0.76491\n",
      "epoch: 09, loss: -0.77089\n"
     ]
    },
    {
     "name": "stderr",
     "output_type": "stream",
     "text": [
      " 33%|███▎      | 332/1000 [2:14:00<3:46:55, 20.38s/it]"
     ]
    },
    {
     "name": "stdout",
     "output_type": "stream",
     "text": [
      "eigenvalues shape torch.Size([5]) eigenvectors shape torch.Size([5, 400])\n",
      "332 /home/phdcs2/Hard_Disk/Datasets/Deep-Spectral-Segmentation/data/object-segmentation/ECSSD/features/dino_vits16/0333.pth\n",
      "dict_keys(['k', 'indices', 'file', 'id', 'model_name', 'patch_size', 'shape'])\n",
      "0333\n",
      "Starting Training\n",
      "epoch: 00, loss: -0.37531\n",
      "epoch: 01, loss: -0.70372\n",
      "epoch: 02, loss: -0.74872\n",
      "epoch: 03, loss: -0.73287\n",
      "epoch: 04, loss: -0.75776\n",
      "epoch: 05, loss: -0.75242\n",
      "epoch: 06, loss: -0.76459\n",
      "epoch: 07, loss: -0.80019\n",
      "epoch: 08, loss: -0.77276\n",
      "epoch: 09, loss: -0.79742\n"
     ]
    },
    {
     "name": "stderr",
     "output_type": "stream",
     "text": [
      " 33%|███▎      | 333/1000 [2:14:19<3:41:32, 19.93s/it]"
     ]
    },
    {
     "name": "stdout",
     "output_type": "stream",
     "text": [
      "eigenvalues shape torch.Size([5]) eigenvectors shape torch.Size([5, 400])\n",
      "333 /home/phdcs2/Hard_Disk/Datasets/Deep-Spectral-Segmentation/data/object-segmentation/ECSSD/features/dino_vits16/0334.pth\n",
      "dict_keys(['k', 'indices', 'file', 'id', 'model_name', 'patch_size', 'shape'])\n",
      "0334\n",
      "Starting Training\n",
      "epoch: 00, loss: -0.46274\n",
      "epoch: 01, loss: -0.67000\n",
      "epoch: 02, loss: -0.68020\n",
      "epoch: 03, loss: -0.71121\n",
      "epoch: 04, loss: -0.70543\n",
      "epoch: 05, loss: -0.70711\n",
      "epoch: 06, loss: -0.74804\n",
      "epoch: 07, loss: -0.76327\n",
      "epoch: 08, loss: -0.72015\n",
      "epoch: 09, loss: -0.75778\n"
     ]
    },
    {
     "name": "stderr",
     "output_type": "stream",
     "text": [
      " 33%|███▎      | 334/1000 [2:14:39<3:40:56, 19.91s/it]"
     ]
    },
    {
     "name": "stdout",
     "output_type": "stream",
     "text": [
      "eigenvalues shape torch.Size([5]) eigenvectors shape torch.Size([5, 450])\n",
      "334 /home/phdcs2/Hard_Disk/Datasets/Deep-Spectral-Segmentation/data/object-segmentation/ECSSD/features/dino_vits16/0335.pth\n",
      "dict_keys(['k', 'indices', 'file', 'id', 'model_name', 'patch_size', 'shape'])\n",
      "0335\n",
      "Starting Training\n",
      "epoch: 00, loss: -0.47510\n",
      "epoch: 01, loss: -0.75161\n",
      "epoch: 02, loss: -0.78214\n",
      "epoch: 03, loss: -0.76693\n",
      "epoch: 04, loss: -0.76618\n",
      "epoch: 05, loss: -0.76068\n",
      "epoch: 06, loss: -0.77877\n",
      "epoch: 07, loss: -0.79043\n",
      "epoch: 08, loss: -0.77836\n",
      "epoch: 09, loss: -0.77697\n"
     ]
    },
    {
     "name": "stderr",
     "output_type": "stream",
     "text": [
      " 34%|███▎      | 335/1000 [2:14:58<3:36:20, 19.52s/it]"
     ]
    },
    {
     "name": "stdout",
     "output_type": "stream",
     "text": [
      "eigenvalues shape torch.Size([5]) eigenvectors shape torch.Size([5, 400])\n",
      "335 /home/phdcs2/Hard_Disk/Datasets/Deep-Spectral-Segmentation/data/object-segmentation/ECSSD/features/dino_vits16/0336.pth\n",
      "dict_keys(['k', 'indices', 'file', 'id', 'model_name', 'patch_size', 'shape'])\n",
      "0336\n",
      "Starting Training\n",
      "epoch: 00, loss: -0.42169\n",
      "epoch: 01, loss: -0.74104\n",
      "epoch: 02, loss: -0.80840\n",
      "epoch: 03, loss: -0.81993\n",
      "epoch: 04, loss: -0.83649\n",
      "epoch: 05, loss: -0.85679\n",
      "epoch: 06, loss: -0.85898\n",
      "epoch: 07, loss: -0.85121\n",
      "epoch: 08, loss: -0.82133\n",
      "epoch: 09, loss: -0.80522\n"
     ]
    },
    {
     "name": "stderr",
     "output_type": "stream",
     "text": [
      " 34%|███▎      | 336/1000 [2:15:19<3:41:46, 20.04s/it]"
     ]
    },
    {
     "name": "stdout",
     "output_type": "stream",
     "text": [
      "eigenvalues shape torch.Size([5]) eigenvectors shape torch.Size([5, 450])\n",
      "336 /home/phdcs2/Hard_Disk/Datasets/Deep-Spectral-Segmentation/data/object-segmentation/ECSSD/features/dino_vits16/0337.pth\n",
      "dict_keys(['k', 'indices', 'file', 'id', 'model_name', 'patch_size', 'shape'])\n",
      "0337\n",
      "Starting Training\n",
      "epoch: 00, loss: -0.53626\n",
      "epoch: 01, loss: -0.78807\n",
      "epoch: 02, loss: -0.77830\n",
      "epoch: 03, loss: -0.81748\n",
      "epoch: 04, loss: -0.82455\n",
      "epoch: 05, loss: -0.83535\n",
      "epoch: 06, loss: -0.83241\n",
      "epoch: 07, loss: -0.84390\n",
      "epoch: 08, loss: -0.84549\n",
      "epoch: 09, loss: -0.83296\n"
     ]
    },
    {
     "name": "stderr",
     "output_type": "stream",
     "text": [
      " 34%|███▎      | 337/1000 [2:15:39<3:40:48, 19.98s/it]"
     ]
    },
    {
     "name": "stdout",
     "output_type": "stream",
     "text": [
      "eigenvalues shape torch.Size([5]) eigenvectors shape torch.Size([5, 450])\n",
      "337 /home/phdcs2/Hard_Disk/Datasets/Deep-Spectral-Segmentation/data/object-segmentation/ECSSD/features/dino_vits16/0338.pth\n",
      "dict_keys(['k', 'indices', 'file', 'id', 'model_name', 'patch_size', 'shape'])\n",
      "0338\n",
      "Starting Training\n",
      "epoch: 00, loss: -0.63212\n",
      "epoch: 01, loss: -0.90629\n",
      "epoch: 02, loss: -0.93680\n",
      "epoch: 03, loss: -0.94858\n",
      "epoch: 04, loss: -0.94571\n",
      "epoch: 05, loss: -0.94651\n",
      "epoch: 06, loss: -0.95162\n",
      "epoch: 07, loss: -0.93470\n",
      "epoch: 08, loss: -0.94033\n",
      "epoch: 09, loss: -0.93638\n"
     ]
    },
    {
     "name": "stderr",
     "output_type": "stream",
     "text": [
      " 34%|███▍      | 338/1000 [2:15:59<3:41:59, 20.12s/it]"
     ]
    },
    {
     "name": "stdout",
     "output_type": "stream",
     "text": [
      "eigenvalues shape torch.Size([5]) eigenvectors shape torch.Size([5, 450])\n",
      "338 /home/phdcs2/Hard_Disk/Datasets/Deep-Spectral-Segmentation/data/object-segmentation/ECSSD/features/dino_vits16/0339.pth\n",
      "dict_keys(['k', 'indices', 'file', 'id', 'model_name', 'patch_size', 'shape'])\n",
      "0339\n",
      "Starting Training\n",
      "epoch: 00, loss: -0.26786\n",
      "epoch: 01, loss: -0.62059\n",
      "epoch: 02, loss: -0.70146\n",
      "epoch: 03, loss: -0.73956\n",
      "epoch: 04, loss: -0.74773\n",
      "epoch: 05, loss: -0.76534\n",
      "epoch: 06, loss: -0.77609\n",
      "epoch: 07, loss: -0.79567\n",
      "epoch: 08, loss: -0.79825\n",
      "epoch: 09, loss: -0.81195\n"
     ]
    },
    {
     "name": "stderr",
     "output_type": "stream",
     "text": [
      " 34%|███▍      | 339/1000 [2:16:19<3:41:23, 20.10s/it]"
     ]
    },
    {
     "name": "stdout",
     "output_type": "stream",
     "text": [
      "eigenvalues shape torch.Size([5]) eigenvectors shape torch.Size([5, 450])\n",
      "339 /home/phdcs2/Hard_Disk/Datasets/Deep-Spectral-Segmentation/data/object-segmentation/ECSSD/features/dino_vits16/0340.pth\n",
      "dict_keys(['k', 'indices', 'file', 'id', 'model_name', 'patch_size', 'shape'])\n",
      "0340\n",
      "Starting Training\n",
      "epoch: 00, loss: -0.55241\n",
      "epoch: 01, loss: -0.77726\n",
      "epoch: 02, loss: -0.75699\n",
      "epoch: 03, loss: -0.77973\n",
      "epoch: 04, loss: -0.76604\n",
      "epoch: 05, loss: -0.75438\n",
      "epoch: 06, loss: -0.76080\n",
      "epoch: 07, loss: -0.73620\n",
      "epoch: 08, loss: -0.78372\n",
      "epoch: 09, loss: -0.79951\n"
     ]
    },
    {
     "name": "stderr",
     "output_type": "stream",
     "text": [
      " 34%|███▍      | 340/1000 [2:16:37<3:33:16, 19.39s/it]"
     ]
    },
    {
     "name": "stdout",
     "output_type": "stream",
     "text": [
      "eigenvalues shape torch.Size([5]) eigenvectors shape torch.Size([5, 375])\n",
      "340 /home/phdcs2/Hard_Disk/Datasets/Deep-Spectral-Segmentation/data/object-segmentation/ECSSD/features/dino_vits16/0341.pth\n",
      "dict_keys(['k', 'indices', 'file', 'id', 'model_name', 'patch_size', 'shape'])\n",
      "0341\n",
      "Starting Training\n",
      "epoch: 00, loss: -0.45024\n",
      "epoch: 01, loss: -0.79711\n",
      "epoch: 02, loss: -0.82939\n",
      "epoch: 03, loss: -0.84153\n",
      "epoch: 04, loss: -0.80106\n",
      "epoch: 05, loss: -0.79537\n",
      "epoch: 06, loss: -0.78453\n",
      "epoch: 07, loss: -0.76335\n",
      "epoch: 08, loss: -0.77002\n",
      "epoch: 09, loss: -0.75364\n"
     ]
    },
    {
     "name": "stderr",
     "output_type": "stream",
     "text": [
      " 34%|███▍      | 341/1000 [2:16:52<3:19:58, 18.21s/it]"
     ]
    },
    {
     "name": "stdout",
     "output_type": "stream",
     "text": [
      "eigenvalues shape torch.Size([5]) eigenvectors shape torch.Size([5, 375])\n",
      "341 /home/phdcs2/Hard_Disk/Datasets/Deep-Spectral-Segmentation/data/object-segmentation/ECSSD/features/dino_vits16/0342.pth\n",
      "dict_keys(['k', 'indices', 'file', 'id', 'model_name', 'patch_size', 'shape'])\n",
      "0342\n",
      "Starting Training\n",
      "epoch: 00, loss: -0.38144\n",
      "epoch: 01, loss: -0.72128\n",
      "epoch: 02, loss: -0.77333\n",
      "epoch: 03, loss: -0.77477\n",
      "epoch: 04, loss: -0.77820\n",
      "epoch: 05, loss: -0.75733\n",
      "epoch: 06, loss: -0.75191\n",
      "epoch: 07, loss: -0.74390\n",
      "epoch: 08, loss: -0.76842\n",
      "epoch: 09, loss: -0.78908\n"
     ]
    },
    {
     "name": "stderr",
     "output_type": "stream",
     "text": [
      " 34%|███▍      | 342/1000 [2:17:14<3:30:04, 19.16s/it]"
     ]
    },
    {
     "name": "stdout",
     "output_type": "stream",
     "text": [
      "eigenvalues shape torch.Size([5]) eigenvectors shape torch.Size([5, 450])\n",
      "342 /home/phdcs2/Hard_Disk/Datasets/Deep-Spectral-Segmentation/data/object-segmentation/ECSSD/features/dino_vits16/0343.pth\n",
      "dict_keys(['k', 'indices', 'file', 'id', 'model_name', 'patch_size', 'shape'])\n",
      "0343\n",
      "Starting Training\n",
      "epoch: 00, loss: -0.21449\n",
      "epoch: 01, loss: -0.54163\n",
      "epoch: 02, loss: -0.65313\n",
      "epoch: 03, loss: -0.68903\n",
      "epoch: 04, loss: -0.73320\n",
      "epoch: 05, loss: -0.76886\n",
      "epoch: 06, loss: -0.80003\n",
      "epoch: 07, loss: -0.82037\n",
      "epoch: 08, loss: -0.80096\n",
      "epoch: 09, loss: -0.80667\n"
     ]
    },
    {
     "name": "stderr",
     "output_type": "stream",
     "text": [
      " 34%|███▍      | 343/1000 [2:17:37<3:44:14, 20.48s/it]"
     ]
    },
    {
     "name": "stdout",
     "output_type": "stream",
     "text": [
      "eigenvalues shape torch.Size([5]) eigenvectors shape torch.Size([5, 500])\n",
      "343 /home/phdcs2/Hard_Disk/Datasets/Deep-Spectral-Segmentation/data/object-segmentation/ECSSD/features/dino_vits16/0344.pth\n",
      "dict_keys(['k', 'indices', 'file', 'id', 'model_name', 'patch_size', 'shape'])\n",
      "0344\n",
      "Starting Training\n",
      "epoch: 00, loss: -0.33318\n",
      "epoch: 01, loss: -0.73019\n",
      "epoch: 02, loss: -0.76598\n",
      "epoch: 03, loss: -0.80658\n",
      "epoch: 04, loss: -0.79901\n",
      "epoch: 05, loss: -0.81767\n",
      "epoch: 06, loss: -0.81363\n",
      "epoch: 07, loss: -0.81570\n",
      "epoch: 08, loss: -0.81832\n",
      "epoch: 09, loss: -0.83401\n"
     ]
    },
    {
     "name": "stderr",
     "output_type": "stream",
     "text": [
      " 34%|███▍      | 344/1000 [2:17:58<3:45:07, 20.59s/it]"
     ]
    },
    {
     "name": "stdout",
     "output_type": "stream",
     "text": [
      "eigenvalues shape torch.Size([5]) eigenvectors shape torch.Size([5, 450])\n",
      "344 /home/phdcs2/Hard_Disk/Datasets/Deep-Spectral-Segmentation/data/object-segmentation/ECSSD/features/dino_vits16/0345.pth\n",
      "dict_keys(['k', 'indices', 'file', 'id', 'model_name', 'patch_size', 'shape'])\n",
      "0345\n",
      "Starting Training\n",
      "epoch: 00, loss: -0.47910\n",
      "epoch: 01, loss: -0.71818\n",
      "epoch: 02, loss: -0.72185\n",
      "epoch: 03, loss: -0.73673\n",
      "epoch: 04, loss: -0.77322\n",
      "epoch: 05, loss: -0.79190\n",
      "epoch: 06, loss: -0.78587\n",
      "epoch: 07, loss: -0.80576\n",
      "epoch: 08, loss: -0.81150\n",
      "epoch: 09, loss: -0.82628\n"
     ]
    },
    {
     "name": "stderr",
     "output_type": "stream",
     "text": [
      " 34%|███▍      | 345/1000 [2:18:20<3:49:17, 21.00s/it]"
     ]
    },
    {
     "name": "stdout",
     "output_type": "stream",
     "text": [
      "eigenvalues shape torch.Size([5]) eigenvectors shape torch.Size([5, 500])\n",
      "345 /home/phdcs2/Hard_Disk/Datasets/Deep-Spectral-Segmentation/data/object-segmentation/ECSSD/features/dino_vits16/0346.pth\n",
      "dict_keys(['k', 'indices', 'file', 'id', 'model_name', 'patch_size', 'shape'])\n",
      "0346\n",
      "Starting Training\n",
      "epoch: 00, loss: -0.29787\n",
      "epoch: 01, loss: -0.73280\n",
      "epoch: 02, loss: -0.79408\n",
      "epoch: 03, loss: -0.80230\n",
      "epoch: 04, loss: -0.82752\n",
      "epoch: 05, loss: -0.82710\n",
      "epoch: 06, loss: -0.81920\n",
      "epoch: 07, loss: -0.82852\n",
      "epoch: 08, loss: -0.82324\n",
      "epoch: 09, loss: -0.83527\n"
     ]
    },
    {
     "name": "stderr",
     "output_type": "stream",
     "text": [
      " 35%|███▍      | 346/1000 [2:18:39<3:42:45, 20.44s/it]"
     ]
    },
    {
     "name": "stdout",
     "output_type": "stream",
     "text": [
      "eigenvalues shape torch.Size([5]) eigenvectors shape torch.Size([5, 450])\n",
      "346 /home/phdcs2/Hard_Disk/Datasets/Deep-Spectral-Segmentation/data/object-segmentation/ECSSD/features/dino_vits16/0347.pth\n",
      "dict_keys(['k', 'indices', 'file', 'id', 'model_name', 'patch_size', 'shape'])\n",
      "0347\n",
      "Starting Training\n",
      "epoch: 00, loss: -0.43704\n",
      "epoch: 01, loss: -0.82985\n",
      "epoch: 02, loss: -0.84083\n",
      "epoch: 03, loss: -0.84117\n",
      "epoch: 04, loss: -0.82194\n",
      "epoch: 05, loss: -0.81411\n",
      "epoch: 06, loss: -0.77982\n",
      "epoch: 07, loss: -0.77482\n",
      "epoch: 08, loss: -0.76615\n",
      "epoch: 09, loss: -0.76947\n"
     ]
    },
    {
     "name": "stderr",
     "output_type": "stream",
     "text": [
      " 35%|███▍      | 347/1000 [2:19:00<3:42:22, 20.43s/it]"
     ]
    },
    {
     "name": "stdout",
     "output_type": "stream",
     "text": [
      "eigenvalues shape torch.Size([5]) eigenvectors shape torch.Size([5, 450])\n",
      "347 /home/phdcs2/Hard_Disk/Datasets/Deep-Spectral-Segmentation/data/object-segmentation/ECSSD/features/dino_vits16/0348.pth\n",
      "dict_keys(['k', 'indices', 'file', 'id', 'model_name', 'patch_size', 'shape'])\n",
      "0348\n",
      "Starting Training\n",
      "epoch: 00, loss: -0.68022\n",
      "epoch: 01, loss: -0.94252\n",
      "epoch: 02, loss: -0.94615\n",
      "epoch: 03, loss: -0.94933\n",
      "epoch: 04, loss: -0.95405\n",
      "epoch: 05, loss: -0.95374\n",
      "epoch: 06, loss: -0.96309\n",
      "epoch: 07, loss: -0.95583\n",
      "epoch: 08, loss: -0.95736\n",
      "epoch: 09, loss: -0.95478\n"
     ]
    },
    {
     "name": "stderr",
     "output_type": "stream",
     "text": [
      " 35%|███▍      | 348/1000 [2:19:18<3:33:47, 19.67s/it]"
     ]
    },
    {
     "name": "stdout",
     "output_type": "stream",
     "text": [
      "eigenvalues shape torch.Size([5]) eigenvectors shape torch.Size([5, 400])\n",
      "348 /home/phdcs2/Hard_Disk/Datasets/Deep-Spectral-Segmentation/data/object-segmentation/ECSSD/features/dino_vits16/0349.pth\n",
      "dict_keys(['k', 'indices', 'file', 'id', 'model_name', 'patch_size', 'shape'])\n",
      "0349\n",
      "Starting Training\n",
      "epoch: 00, loss: -0.42693\n",
      "epoch: 01, loss: -0.70501\n",
      "epoch: 02, loss: -0.81881\n",
      "epoch: 03, loss: -0.85137\n",
      "epoch: 04, loss: -0.84929\n",
      "epoch: 05, loss: -0.86988\n",
      "epoch: 06, loss: -0.87606\n",
      "epoch: 07, loss: -0.87499\n",
      "epoch: 08, loss: -0.86833\n",
      "epoch: 09, loss: -0.86870\n"
     ]
    },
    {
     "name": "stderr",
     "output_type": "stream",
     "text": [
      " 35%|███▍      | 349/1000 [2:19:35<3:27:13, 19.10s/it]"
     ]
    },
    {
     "name": "stdout",
     "output_type": "stream",
     "text": [
      "eigenvalues shape torch.Size([5]) eigenvectors shape torch.Size([5, 400])\n",
      "349 /home/phdcs2/Hard_Disk/Datasets/Deep-Spectral-Segmentation/data/object-segmentation/ECSSD/features/dino_vits16/0350.pth\n",
      "dict_keys(['k', 'indices', 'file', 'id', 'model_name', 'patch_size', 'shape'])\n",
      "0350\n",
      "Starting Training\n",
      "epoch: 00, loss: -0.49952\n",
      "epoch: 01, loss: -0.81989\n",
      "epoch: 02, loss: -0.85279\n",
      "epoch: 03, loss: -0.83973\n",
      "epoch: 04, loss: -0.79804\n",
      "epoch: 05, loss: -0.73861\n",
      "epoch: 06, loss: -0.74052\n",
      "epoch: 07, loss: -0.78067\n",
      "epoch: 08, loss: -0.79208\n",
      "epoch: 09, loss: -0.82315\n"
     ]
    },
    {
     "name": "stderr",
     "output_type": "stream",
     "text": [
      " 35%|███▌      | 350/1000 [2:19:58<3:38:34, 20.18s/it]"
     ]
    },
    {
     "name": "stdout",
     "output_type": "stream",
     "text": [
      "eigenvalues shape torch.Size([5]) eigenvectors shape torch.Size([5, 475])\n",
      "350 /home/phdcs2/Hard_Disk/Datasets/Deep-Spectral-Segmentation/data/object-segmentation/ECSSD/features/dino_vits16/0351.pth\n",
      "dict_keys(['k', 'indices', 'file', 'id', 'model_name', 'patch_size', 'shape'])\n",
      "0351\n",
      "Starting Training\n",
      "epoch: 00, loss: -0.63395\n",
      "epoch: 01, loss: -0.83800\n",
      "epoch: 02, loss: -0.77651\n",
      "epoch: 03, loss: -0.62899\n",
      "epoch: 04, loss: -0.70453\n",
      "epoch: 05, loss: -0.73103\n",
      "epoch: 06, loss: -0.73824\n",
      "epoch: 07, loss: -0.75129\n",
      "epoch: 08, loss: -0.79271\n",
      "epoch: 09, loss: -0.78186\n"
     ]
    },
    {
     "name": "stderr",
     "output_type": "stream",
     "text": [
      " 35%|███▌      | 351/1000 [2:20:19<3:41:50, 20.51s/it]"
     ]
    },
    {
     "name": "stdout",
     "output_type": "stream",
     "text": [
      "eigenvalues shape torch.Size([5]) eigenvectors shape torch.Size([5, 450])\n",
      "351 /home/phdcs2/Hard_Disk/Datasets/Deep-Spectral-Segmentation/data/object-segmentation/ECSSD/features/dino_vits16/0352.pth\n",
      "dict_keys(['k', 'indices', 'file', 'id', 'model_name', 'patch_size', 'shape'])\n",
      "0352\n",
      "Starting Training\n",
      "epoch: 00, loss: -0.56592\n",
      "epoch: 01, loss: -0.91802\n",
      "epoch: 02, loss: -0.92152\n",
      "epoch: 03, loss: -0.93224\n",
      "epoch: 04, loss: -0.92881\n",
      "epoch: 05, loss: -0.92413\n",
      "epoch: 06, loss: -0.93629\n",
      "epoch: 07, loss: -0.93488\n",
      "epoch: 08, loss: -0.93053\n",
      "epoch: 09, loss: -0.91587\n"
     ]
    },
    {
     "name": "stderr",
     "output_type": "stream",
     "text": [
      " 35%|███▌      | 352/1000 [2:20:40<3:41:28, 20.51s/it]"
     ]
    },
    {
     "name": "stdout",
     "output_type": "stream",
     "text": [
      "eigenvalues shape torch.Size([5]) eigenvectors shape torch.Size([5, 400])\n",
      "352 /home/phdcs2/Hard_Disk/Datasets/Deep-Spectral-Segmentation/data/object-segmentation/ECSSD/features/dino_vits16/0353.pth\n",
      "dict_keys(['k', 'indices', 'file', 'id', 'model_name', 'patch_size', 'shape'])\n",
      "0353\n",
      "Starting Training\n",
      "epoch: 00, loss: -0.45574\n",
      "epoch: 01, loss: -0.77634\n",
      "epoch: 02, loss: -0.80448\n",
      "epoch: 03, loss: -0.81961\n",
      "epoch: 04, loss: -0.83705\n",
      "epoch: 05, loss: -0.84665\n",
      "epoch: 06, loss: -0.84036\n",
      "epoch: 07, loss: -0.81109\n",
      "epoch: 08, loss: -0.83314\n",
      "epoch: 09, loss: -0.83987\n"
     ]
    },
    {
     "name": "stderr",
     "output_type": "stream",
     "text": [
      " 35%|███▌      | 353/1000 [2:21:00<3:40:00, 20.40s/it]"
     ]
    },
    {
     "name": "stdout",
     "output_type": "stream",
     "text": [
      "eigenvalues shape torch.Size([5]) eigenvectors shape torch.Size([5, 425])\n",
      "353 /home/phdcs2/Hard_Disk/Datasets/Deep-Spectral-Segmentation/data/object-segmentation/ECSSD/features/dino_vits16/0354.pth\n",
      "dict_keys(['k', 'indices', 'file', 'id', 'model_name', 'patch_size', 'shape'])\n",
      "0354\n",
      "Starting Training\n",
      "epoch: 00, loss: -0.49041\n",
      "epoch: 01, loss: -0.70781\n",
      "epoch: 02, loss: -0.71344\n",
      "epoch: 03, loss: -0.73291\n",
      "epoch: 04, loss: -0.75420\n",
      "epoch: 05, loss: -0.79282\n",
      "epoch: 06, loss: -0.80007\n",
      "epoch: 07, loss: -0.76046\n",
      "epoch: 08, loss: -0.76672\n",
      "epoch: 09, loss: -0.78159\n"
     ]
    },
    {
     "name": "stderr",
     "output_type": "stream",
     "text": [
      " 35%|███▌      | 354/1000 [2:21:28<4:03:10, 22.59s/it]"
     ]
    },
    {
     "name": "stdout",
     "output_type": "stream",
     "text": [
      "eigenvalues shape torch.Size([5]) eigenvectors shape torch.Size([5, 575])\n",
      "354 /home/phdcs2/Hard_Disk/Datasets/Deep-Spectral-Segmentation/data/object-segmentation/ECSSD/features/dino_vits16/0355.pth\n",
      "dict_keys(['k', 'indices', 'file', 'id', 'model_name', 'patch_size', 'shape'])\n",
      "0355\n",
      "Starting Training\n",
      "epoch: 00, loss: -0.55427\n",
      "epoch: 01, loss: -0.85409\n",
      "epoch: 02, loss: -0.73414\n",
      "epoch: 03, loss: -0.75852\n",
      "epoch: 04, loss: -0.80417\n",
      "epoch: 05, loss: -0.84007\n",
      "epoch: 06, loss: -0.85173\n",
      "epoch: 07, loss: -0.85066\n",
      "epoch: 08, loss: -0.85377\n",
      "epoch: 09, loss: -0.85930\n"
     ]
    },
    {
     "name": "stderr",
     "output_type": "stream",
     "text": [
      " 36%|███▌      | 355/1000 [2:21:48<3:55:14, 21.88s/it]"
     ]
    },
    {
     "name": "stdout",
     "output_type": "stream",
     "text": [
      "eigenvalues shape torch.Size([5]) eigenvectors shape torch.Size([5, 450])\n",
      "355 /home/phdcs2/Hard_Disk/Datasets/Deep-Spectral-Segmentation/data/object-segmentation/ECSSD/features/dino_vits16/0356.pth\n",
      "dict_keys(['k', 'indices', 'file', 'id', 'model_name', 'patch_size', 'shape'])\n",
      "0356\n",
      "Starting Training\n",
      "epoch: 00, loss: -0.39210\n",
      "epoch: 01, loss: -0.65410\n",
      "epoch: 02, loss: -0.75191\n",
      "epoch: 03, loss: -0.72388\n",
      "epoch: 04, loss: -0.73658\n",
      "epoch: 05, loss: -0.76095\n",
      "epoch: 06, loss: -0.78752\n",
      "epoch: 07, loss: -0.80874\n",
      "epoch: 08, loss: -0.80339\n",
      "epoch: 09, loss: -0.81895\n"
     ]
    },
    {
     "name": "stderr",
     "output_type": "stream",
     "text": [
      " 36%|███▌      | 356/1000 [2:22:09<3:52:29, 21.66s/it]"
     ]
    },
    {
     "name": "stdout",
     "output_type": "stream",
     "text": [
      "eigenvalues shape torch.Size([5]) eigenvectors shape torch.Size([5, 450])\n",
      "356 /home/phdcs2/Hard_Disk/Datasets/Deep-Spectral-Segmentation/data/object-segmentation/ECSSD/features/dino_vits16/0357.pth\n",
      "dict_keys(['k', 'indices', 'file', 'id', 'model_name', 'patch_size', 'shape'])\n",
      "0357\n",
      "Starting Training\n",
      "epoch: 00, loss: -0.37837\n",
      "epoch: 01, loss: -0.68042\n",
      "epoch: 02, loss: -0.71487\n",
      "epoch: 03, loss: -0.77117\n",
      "epoch: 04, loss: -0.76218\n",
      "epoch: 05, loss: -0.78075\n",
      "epoch: 06, loss: -0.79868\n",
      "epoch: 07, loss: -0.78676\n",
      "epoch: 08, loss: -0.79856\n",
      "epoch: 09, loss: -0.78348\n"
     ]
    },
    {
     "name": "stderr",
     "output_type": "stream",
     "text": [
      " 36%|███▌      | 357/1000 [2:22:34<4:03:44, 22.74s/it]"
     ]
    },
    {
     "name": "stdout",
     "output_type": "stream",
     "text": [
      "eigenvalues shape torch.Size([5]) eigenvectors shape torch.Size([5, 475])\n",
      "357 /home/phdcs2/Hard_Disk/Datasets/Deep-Spectral-Segmentation/data/object-segmentation/ECSSD/features/dino_vits16/0358.pth\n",
      "dict_keys(['k', 'indices', 'file', 'id', 'model_name', 'patch_size', 'shape'])\n",
      "0358\n",
      "Starting Training\n",
      "epoch: 00, loss: -0.32820\n",
      "epoch: 01, loss: -0.69415\n",
      "epoch: 02, loss: -0.75109\n",
      "epoch: 03, loss: -0.76828\n",
      "epoch: 04, loss: -0.80414\n",
      "epoch: 05, loss: -0.81320\n",
      "epoch: 06, loss: -0.80058\n",
      "epoch: 07, loss: -0.80173\n",
      "epoch: 08, loss: -0.79268\n",
      "epoch: 09, loss: -0.81981\n"
     ]
    },
    {
     "name": "stderr",
     "output_type": "stream",
     "text": [
      " 36%|███▌      | 358/1000 [2:22:55<3:55:58, 22.05s/it]"
     ]
    },
    {
     "name": "stdout",
     "output_type": "stream",
     "text": [
      "eigenvalues shape torch.Size([5]) eigenvectors shape torch.Size([5, 400])\n",
      "358 /home/phdcs2/Hard_Disk/Datasets/Deep-Spectral-Segmentation/data/object-segmentation/ECSSD/features/dino_vits16/0359.pth\n",
      "dict_keys(['k', 'indices', 'file', 'id', 'model_name', 'patch_size', 'shape'])\n",
      "0359\n",
      "Starting Training\n",
      "epoch: 00, loss: -0.26102\n",
      "epoch: 01, loss: -0.57765\n",
      "epoch: 02, loss: -0.64612\n",
      "epoch: 03, loss: -0.67416\n",
      "epoch: 04, loss: -0.70285\n",
      "epoch: 05, loss: -0.71380\n",
      "epoch: 06, loss: -0.74540\n",
      "epoch: 07, loss: -0.74034\n",
      "epoch: 08, loss: -0.76010\n",
      "epoch: 09, loss: -0.78287\n"
     ]
    },
    {
     "name": "stderr",
     "output_type": "stream",
     "text": [
      " 36%|███▌      | 359/1000 [2:23:11<3:37:14, 20.33s/it]"
     ]
    },
    {
     "name": "stdout",
     "output_type": "stream",
     "text": [
      "eigenvalues shape torch.Size([5]) eigenvectors shape torch.Size([5, 350])\n",
      "359 /home/phdcs2/Hard_Disk/Datasets/Deep-Spectral-Segmentation/data/object-segmentation/ECSSD/features/dino_vits16/0360.pth\n",
      "dict_keys(['k', 'indices', 'file', 'id', 'model_name', 'patch_size', 'shape'])\n",
      "0360\n",
      "Starting Training\n",
      "epoch: 00, loss: -0.30553\n",
      "epoch: 01, loss: -0.57575\n",
      "epoch: 02, loss: -0.66521\n",
      "epoch: 03, loss: -0.70178\n",
      "epoch: 04, loss: -0.72940\n",
      "epoch: 05, loss: -0.71127\n",
      "epoch: 06, loss: -0.72966\n",
      "epoch: 07, loss: -0.75246\n",
      "epoch: 08, loss: -0.75861\n",
      "epoch: 09, loss: -0.74470\n"
     ]
    },
    {
     "name": "stderr",
     "output_type": "stream",
     "text": [
      " 36%|███▌      | 360/1000 [2:23:41<4:07:14, 23.18s/it]"
     ]
    },
    {
     "name": "stdout",
     "output_type": "stream",
     "text": [
      "eigenvalues shape torch.Size([5]) eigenvectors shape torch.Size([5, 400])\n",
      "360 /home/phdcs2/Hard_Disk/Datasets/Deep-Spectral-Segmentation/data/object-segmentation/ECSSD/features/dino_vits16/0361.pth\n",
      "dict_keys(['k', 'indices', 'file', 'id', 'model_name', 'patch_size', 'shape'])\n",
      "0361\n",
      "Starting Training\n",
      "epoch: 00, loss: -0.32037\n",
      "epoch: 01, loss: -0.68885\n",
      "epoch: 02, loss: -0.68507\n",
      "epoch: 03, loss: -0.66283\n",
      "epoch: 04, loss: -0.66244\n",
      "epoch: 05, loss: -0.68926\n",
      "epoch: 06, loss: -0.70923\n",
      "epoch: 07, loss: -0.70302\n",
      "epoch: 08, loss: -0.71982\n",
      "epoch: 09, loss: -0.73445\n"
     ]
    },
    {
     "name": "stderr",
     "output_type": "stream",
     "text": [
      " 36%|███▌      | 361/1000 [2:24:03<4:04:03, 22.92s/it]"
     ]
    },
    {
     "name": "stdout",
     "output_type": "stream",
     "text": [
      "eigenvalues shape torch.Size([5]) eigenvectors shape torch.Size([5, 400])\n",
      "361 /home/phdcs2/Hard_Disk/Datasets/Deep-Spectral-Segmentation/data/object-segmentation/ECSSD/features/dino_vits16/0362.pth\n",
      "dict_keys(['k', 'indices', 'file', 'id', 'model_name', 'patch_size', 'shape'])\n",
      "0362\n",
      "Starting Training\n",
      "epoch: 00, loss: -0.43231\n",
      "epoch: 01, loss: -0.70772\n",
      "epoch: 02, loss: -0.75655\n",
      "epoch: 03, loss: -0.78269\n",
      "epoch: 04, loss: -0.80408\n",
      "epoch: 05, loss: -0.79776\n",
      "epoch: 06, loss: -0.81017\n",
      "epoch: 07, loss: -0.83684\n",
      "epoch: 08, loss: -0.82439\n",
      "epoch: 09, loss: -0.78783\n"
     ]
    },
    {
     "name": "stderr",
     "output_type": "stream",
     "text": [
      " 36%|███▌      | 362/1000 [2:24:37<4:39:02, 26.24s/it]"
     ]
    },
    {
     "name": "stdout",
     "output_type": "stream",
     "text": [
      "eigenvalues shape torch.Size([5]) eigenvectors shape torch.Size([5, 500])\n",
      "362 /home/phdcs2/Hard_Disk/Datasets/Deep-Spectral-Segmentation/data/object-segmentation/ECSSD/features/dino_vits16/0363.pth\n",
      "dict_keys(['k', 'indices', 'file', 'id', 'model_name', 'patch_size', 'shape'])\n",
      "0363\n",
      "Starting Training\n",
      "epoch: 00, loss: -0.61365\n",
      "epoch: 01, loss: -0.74174\n",
      "epoch: 02, loss: -0.80116\n",
      "epoch: 03, loss: -0.82537\n",
      "epoch: 04, loss: -0.83954\n",
      "epoch: 05, loss: -0.83241\n",
      "epoch: 06, loss: -0.83040\n",
      "epoch: 07, loss: -0.82711\n",
      "epoch: 08, loss: -0.84290\n",
      "epoch: 09, loss: -0.85336\n"
     ]
    },
    {
     "name": "stderr",
     "output_type": "stream",
     "text": [
      " 36%|███▋      | 363/1000 [2:25:08<4:51:36, 27.47s/it]"
     ]
    },
    {
     "name": "stdout",
     "output_type": "stream",
     "text": [
      "eigenvalues shape torch.Size([5]) eigenvectors shape torch.Size([5, 625])\n",
      "363 /home/phdcs2/Hard_Disk/Datasets/Deep-Spectral-Segmentation/data/object-segmentation/ECSSD/features/dino_vits16/0364.pth\n",
      "dict_keys(['k', 'indices', 'file', 'id', 'model_name', 'patch_size', 'shape'])\n",
      "0364\n",
      "Starting Training\n",
      "epoch: 00, loss: -0.43168\n",
      "epoch: 01, loss: -0.61904\n",
      "epoch: 02, loss: -0.66003\n",
      "epoch: 03, loss: -0.69302\n",
      "epoch: 04, loss: -0.71528\n",
      "epoch: 05, loss: -0.72604\n",
      "epoch: 06, loss: -0.74202\n",
      "epoch: 07, loss: -0.76592\n",
      "epoch: 08, loss: -0.77742\n",
      "epoch: 09, loss: -0.77042\n"
     ]
    },
    {
     "name": "stderr",
     "output_type": "stream",
     "text": [
      " 36%|███▋      | 364/1000 [2:25:28<4:28:56, 25.37s/it]"
     ]
    },
    {
     "name": "stdout",
     "output_type": "stream",
     "text": [
      "eigenvalues shape torch.Size([5]) eigenvectors shape torch.Size([5, 450])\n",
      "364 /home/phdcs2/Hard_Disk/Datasets/Deep-Spectral-Segmentation/data/object-segmentation/ECSSD/features/dino_vits16/0365.pth\n",
      "dict_keys(['k', 'indices', 'file', 'id', 'model_name', 'patch_size', 'shape'])\n",
      "0365\n",
      "Starting Training\n",
      "epoch: 00, loss: -0.39115\n",
      "epoch: 01, loss: -0.75566\n",
      "epoch: 02, loss: -0.80220\n",
      "epoch: 03, loss: -0.84686\n",
      "epoch: 04, loss: -0.84284\n",
      "epoch: 05, loss: -0.85174\n",
      "epoch: 06, loss: -0.85081\n",
      "epoch: 07, loss: -0.84693\n",
      "epoch: 08, loss: -0.84260\n",
      "epoch: 09, loss: -0.81380\n"
     ]
    },
    {
     "name": "stderr",
     "output_type": "stream",
     "text": [
      " 36%|███▋      | 365/1000 [2:25:56<4:37:28, 26.22s/it]"
     ]
    },
    {
     "name": "stdout",
     "output_type": "stream",
     "text": [
      "eigenvalues shape torch.Size([5]) eigenvectors shape torch.Size([5, 450])\n",
      "365 /home/phdcs2/Hard_Disk/Datasets/Deep-Spectral-Segmentation/data/object-segmentation/ECSSD/features/dino_vits16/0366.pth\n",
      "dict_keys(['k', 'indices', 'file', 'id', 'model_name', 'patch_size', 'shape'])\n",
      "0366\n",
      "Starting Training\n",
      "epoch: 00, loss: -0.76478\n",
      "epoch: 01, loss: -0.96119\n",
      "epoch: 02, loss: -0.94785\n",
      "epoch: 03, loss: -0.96113\n",
      "epoch: 04, loss: -0.95958\n",
      "epoch: 05, loss: -0.95853\n",
      "epoch: 06, loss: -0.95622\n",
      "epoch: 07, loss: -0.95698\n",
      "epoch: 08, loss: -0.96598\n",
      "epoch: 09, loss: -0.94828\n"
     ]
    },
    {
     "name": "stderr",
     "output_type": "stream",
     "text": [
      " 37%|███▋      | 366/1000 [2:26:21<4:31:47, 25.72s/it]"
     ]
    },
    {
     "name": "stdout",
     "output_type": "stream",
     "text": [
      "eigenvalues shape torch.Size([5]) eigenvectors shape torch.Size([5, 500])\n",
      "366 /home/phdcs2/Hard_Disk/Datasets/Deep-Spectral-Segmentation/data/object-segmentation/ECSSD/features/dino_vits16/0367.pth\n",
      "dict_keys(['k', 'indices', 'file', 'id', 'model_name', 'patch_size', 'shape'])\n",
      "0367\n",
      "Starting Training\n",
      "epoch: 00, loss: -0.49552\n",
      "epoch: 01, loss: -0.71971\n",
      "epoch: 02, loss: -0.75801\n",
      "epoch: 03, loss: -0.72308\n",
      "epoch: 04, loss: -0.71240\n",
      "epoch: 05, loss: -0.70875\n",
      "epoch: 06, loss: -0.71786\n",
      "epoch: 07, loss: -0.71021\n",
      "epoch: 08, loss: -0.73443\n",
      "epoch: 09, loss: -0.72252\n"
     ]
    },
    {
     "name": "stderr",
     "output_type": "stream",
     "text": [
      " 37%|███▋      | 367/1000 [2:26:40<4:10:14, 23.72s/it]"
     ]
    },
    {
     "name": "stdout",
     "output_type": "stream",
     "text": [
      "eigenvalues shape torch.Size([5]) eigenvectors shape torch.Size([5, 400])\n",
      "367 /home/phdcs2/Hard_Disk/Datasets/Deep-Spectral-Segmentation/data/object-segmentation/ECSSD/features/dino_vits16/0368.pth\n",
      "dict_keys(['k', 'indices', 'file', 'id', 'model_name', 'patch_size', 'shape'])\n",
      "0368\n",
      "Starting Training\n",
      "epoch: 00, loss: -0.34849\n",
      "epoch: 01, loss: -0.70473\n",
      "epoch: 02, loss: -0.76112\n",
      "epoch: 03, loss: -0.77552\n",
      "epoch: 04, loss: -0.75730\n",
      "epoch: 05, loss: -0.75212\n",
      "epoch: 06, loss: -0.74949\n",
      "epoch: 07, loss: -0.72538\n",
      "epoch: 08, loss: -0.75071\n",
      "epoch: 09, loss: -0.78483\n"
     ]
    },
    {
     "name": "stderr",
     "output_type": "stream",
     "text": [
      " 37%|███▋      | 368/1000 [2:26:59<3:54:29, 22.26s/it]"
     ]
    },
    {
     "name": "stdout",
     "output_type": "stream",
     "text": [
      "eigenvalues shape torch.Size([5]) eigenvectors shape torch.Size([5, 400])\n",
      "368 /home/phdcs2/Hard_Disk/Datasets/Deep-Spectral-Segmentation/data/object-segmentation/ECSSD/features/dino_vits16/0369.pth\n",
      "dict_keys(['k', 'indices', 'file', 'id', 'model_name', 'patch_size', 'shape'])\n",
      "0369\n",
      "Starting Training\n",
      "epoch: 00, loss: -0.52356\n",
      "epoch: 01, loss: -0.84820\n",
      "epoch: 02, loss: -0.79450\n",
      "epoch: 03, loss: -0.82230\n",
      "epoch: 04, loss: -0.81638\n",
      "epoch: 05, loss: -0.81633\n",
      "epoch: 06, loss: -0.77278\n",
      "epoch: 07, loss: -0.76865\n",
      "epoch: 08, loss: -0.78187\n",
      "epoch: 09, loss: -0.75215\n"
     ]
    },
    {
     "name": "stderr",
     "output_type": "stream",
     "text": [
      " 37%|███▋      | 369/1000 [2:27:18<3:44:08, 21.31s/it]"
     ]
    },
    {
     "name": "stdout",
     "output_type": "stream",
     "text": [
      "eigenvalues shape torch.Size([5]) eigenvectors shape torch.Size([5, 400])\n",
      "369 /home/phdcs2/Hard_Disk/Datasets/Deep-Spectral-Segmentation/data/object-segmentation/ECSSD/features/dino_vits16/0370.pth\n",
      "dict_keys(['k', 'indices', 'file', 'id', 'model_name', 'patch_size', 'shape'])\n",
      "0370\n",
      "Starting Training\n",
      "epoch: 00, loss: -0.67845\n",
      "epoch: 01, loss: -0.87599\n",
      "epoch: 02, loss: -0.87478\n",
      "epoch: 03, loss: -0.86063\n",
      "epoch: 04, loss: -0.87085\n",
      "epoch: 05, loss: -0.87198\n",
      "epoch: 06, loss: -0.86975\n",
      "epoch: 07, loss: -0.88408\n",
      "epoch: 08, loss: -0.88793\n",
      "epoch: 09, loss: -0.86121\n"
     ]
    },
    {
     "name": "stderr",
     "output_type": "stream",
     "text": [
      " 37%|███▋      | 370/1000 [2:27:46<4:07:06, 23.53s/it]"
     ]
    },
    {
     "name": "stdout",
     "output_type": "stream",
     "text": [
      "eigenvalues shape torch.Size([5]) eigenvectors shape torch.Size([5, 600])\n",
      "370 /home/phdcs2/Hard_Disk/Datasets/Deep-Spectral-Segmentation/data/object-segmentation/ECSSD/features/dino_vits16/0371.pth\n",
      "dict_keys(['k', 'indices', 'file', 'id', 'model_name', 'patch_size', 'shape'])\n",
      "0371\n",
      "Starting Training\n",
      "epoch: 00, loss: -0.56108\n",
      "epoch: 01, loss: -0.79049\n",
      "epoch: 02, loss: -0.81235\n",
      "epoch: 03, loss: -0.83256\n",
      "epoch: 04, loss: -0.78417\n",
      "epoch: 05, loss: -0.82286\n",
      "epoch: 06, loss: -0.83107\n",
      "epoch: 07, loss: -0.82971\n",
      "epoch: 08, loss: -0.84486\n",
      "epoch: 09, loss: -0.86746\n"
     ]
    },
    {
     "name": "stderr",
     "output_type": "stream",
     "text": [
      " 37%|███▋      | 371/1000 [2:28:13<4:15:16, 24.35s/it]"
     ]
    },
    {
     "name": "stdout",
     "output_type": "stream",
     "text": [
      "eigenvalues shape torch.Size([5]) eigenvectors shape torch.Size([5, 550])\n",
      "371 /home/phdcs2/Hard_Disk/Datasets/Deep-Spectral-Segmentation/data/object-segmentation/ECSSD/features/dino_vits16/0372.pth\n",
      "dict_keys(['k', 'indices', 'file', 'id', 'model_name', 'patch_size', 'shape'])\n",
      "0372\n",
      "Starting Training\n",
      "epoch: 00, loss: -0.65481\n",
      "epoch: 01, loss: -0.90395\n",
      "epoch: 02, loss: -0.82466\n",
      "epoch: 03, loss: -0.71788\n",
      "epoch: 04, loss: -0.76825\n",
      "epoch: 05, loss: -0.82234\n",
      "epoch: 06, loss: -0.82987\n",
      "epoch: 07, loss: -0.84518\n",
      "epoch: 08, loss: -0.82680\n",
      "epoch: 09, loss: -0.81631\n"
     ]
    },
    {
     "name": "stderr",
     "output_type": "stream",
     "text": [
      " 37%|███▋      | 372/1000 [2:28:41<4:27:41, 25.58s/it]"
     ]
    },
    {
     "name": "stdout",
     "output_type": "stream",
     "text": [
      "eigenvalues shape torch.Size([5]) eigenvectors shape torch.Size([5, 600])\n",
      "372 /home/phdcs2/Hard_Disk/Datasets/Deep-Spectral-Segmentation/data/object-segmentation/ECSSD/features/dino_vits16/0373.pth\n",
      "dict_keys(['k', 'indices', 'file', 'id', 'model_name', 'patch_size', 'shape'])\n",
      "0373\n",
      "Starting Training\n",
      "epoch: 00, loss: -0.51947\n",
      "epoch: 01, loss: -0.78615\n",
      "epoch: 02, loss: -0.83630\n",
      "epoch: 03, loss: -0.85627\n",
      "epoch: 04, loss: -0.85932\n",
      "epoch: 05, loss: -0.84724\n",
      "epoch: 06, loss: -0.84680\n",
      "epoch: 07, loss: -0.84091\n",
      "epoch: 08, loss: -0.84477\n",
      "epoch: 09, loss: -0.82699\n"
     ]
    },
    {
     "name": "stderr",
     "output_type": "stream",
     "text": [
      " 37%|███▋      | 373/1000 [2:29:00<4:06:12, 23.56s/it]"
     ]
    },
    {
     "name": "stdout",
     "output_type": "stream",
     "text": [
      "eigenvalues shape torch.Size([5]) eigenvectors shape torch.Size([5, 400])\n",
      "373 /home/phdcs2/Hard_Disk/Datasets/Deep-Spectral-Segmentation/data/object-segmentation/ECSSD/features/dino_vits16/0374.pth\n",
      "dict_keys(['k', 'indices', 'file', 'id', 'model_name', 'patch_size', 'shape'])\n",
      "0374\n",
      "Starting Training\n",
      "epoch: 00, loss: -0.60079\n",
      "epoch: 01, loss: -0.86057\n",
      "epoch: 02, loss: -0.87180\n",
      "epoch: 03, loss: -0.83083\n",
      "epoch: 04, loss: -0.82829\n",
      "epoch: 05, loss: -0.79682\n",
      "epoch: 06, loss: -0.80292\n",
      "epoch: 07, loss: -0.82547\n",
      "epoch: 08, loss: -0.83479\n",
      "epoch: 09, loss: -0.84797\n"
     ]
    },
    {
     "name": "stderr",
     "output_type": "stream",
     "text": [
      " 37%|███▋      | 374/1000 [2:29:21<3:57:31, 22.77s/it]"
     ]
    },
    {
     "name": "stdout",
     "output_type": "stream",
     "text": [
      "eigenvalues shape torch.Size([5]) eigenvectors shape torch.Size([5, 450])\n",
      "374 /home/phdcs2/Hard_Disk/Datasets/Deep-Spectral-Segmentation/data/object-segmentation/ECSSD/features/dino_vits16/0375.pth\n",
      "dict_keys(['k', 'indices', 'file', 'id', 'model_name', 'patch_size', 'shape'])\n",
      "0375\n",
      "Starting Training\n",
      "epoch: 00, loss: -0.39453\n",
      "epoch: 01, loss: -0.72452\n",
      "epoch: 02, loss: -0.78993\n",
      "epoch: 03, loss: -0.80159\n",
      "epoch: 04, loss: -0.81674\n",
      "epoch: 05, loss: -0.81051\n",
      "epoch: 06, loss: -0.84289\n",
      "epoch: 07, loss: -0.83743\n",
      "epoch: 08, loss: -0.84911\n",
      "epoch: 09, loss: -0.85740\n"
     ]
    },
    {
     "name": "stderr",
     "output_type": "stream",
     "text": [
      " 38%|███▊      | 375/1000 [2:29:43<3:55:45, 22.63s/it]"
     ]
    },
    {
     "name": "stdout",
     "output_type": "stream",
     "text": [
      "eigenvalues shape torch.Size([5]) eigenvectors shape torch.Size([5, 475])\n",
      "375 /home/phdcs2/Hard_Disk/Datasets/Deep-Spectral-Segmentation/data/object-segmentation/ECSSD/features/dino_vits16/0376.pth\n",
      "dict_keys(['k', 'indices', 'file', 'id', 'model_name', 'patch_size', 'shape'])\n",
      "0376\n",
      "Starting Training\n",
      "epoch: 00, loss: -0.48146\n",
      "epoch: 01, loss: -0.67696\n",
      "epoch: 02, loss: -0.73435\n",
      "epoch: 03, loss: -0.73311\n",
      "epoch: 04, loss: -0.76578\n",
      "epoch: 05, loss: -0.78252\n",
      "epoch: 06, loss: -0.79586\n",
      "epoch: 07, loss: -0.80254\n",
      "epoch: 08, loss: -0.81759\n",
      "epoch: 09, loss: -0.82890\n"
     ]
    },
    {
     "name": "stderr",
     "output_type": "stream",
     "text": [
      " 38%|███▊      | 376/1000 [2:30:13<4:18:57, 24.90s/it]"
     ]
    },
    {
     "name": "stdout",
     "output_type": "stream",
     "text": [
      "eigenvalues shape torch.Size([5]) eigenvectors shape torch.Size([5, 625])\n",
      "376 /home/phdcs2/Hard_Disk/Datasets/Deep-Spectral-Segmentation/data/object-segmentation/ECSSD/features/dino_vits16/0377.pth\n",
      "dict_keys(['k', 'indices', 'file', 'id', 'model_name', 'patch_size', 'shape'])\n",
      "0377\n",
      "Starting Training\n",
      "epoch: 00, loss: -0.41466\n",
      "epoch: 01, loss: -0.75941\n",
      "epoch: 02, loss: -0.72478\n",
      "epoch: 03, loss: -0.74453\n",
      "epoch: 04, loss: -0.79461\n",
      "epoch: 05, loss: -0.80387\n",
      "epoch: 06, loss: -0.79685\n",
      "epoch: 07, loss: -0.81961\n",
      "epoch: 08, loss: -0.83985\n",
      "epoch: 09, loss: -0.83133\n"
     ]
    },
    {
     "name": "stderr",
     "output_type": "stream",
     "text": [
      " 38%|███▊      | 377/1000 [2:30:30<3:53:43, 22.51s/it]"
     ]
    },
    {
     "name": "stdout",
     "output_type": "stream",
     "text": [
      "eigenvalues shape torch.Size([5]) eigenvectors shape torch.Size([5, 400])\n",
      "377 /home/phdcs2/Hard_Disk/Datasets/Deep-Spectral-Segmentation/data/object-segmentation/ECSSD/features/dino_vits16/0378.pth\n",
      "dict_keys(['k', 'indices', 'file', 'id', 'model_name', 'patch_size', 'shape'])\n",
      "0378\n",
      "Starting Training\n",
      "epoch: 00, loss: -0.27833\n",
      "epoch: 01, loss: -0.56775\n",
      "epoch: 02, loss: -0.62340\n",
      "epoch: 03, loss: -0.68681\n",
      "epoch: 04, loss: -0.73105\n",
      "epoch: 05, loss: -0.76158\n",
      "epoch: 06, loss: -0.77016\n",
      "epoch: 07, loss: -0.78550\n",
      "epoch: 08, loss: -0.79927\n",
      "epoch: 09, loss: -0.78022\n"
     ]
    },
    {
     "name": "stderr",
     "output_type": "stream",
     "text": [
      " 38%|███▊      | 378/1000 [2:30:53<3:52:50, 22.46s/it]"
     ]
    },
    {
     "name": "stdout",
     "output_type": "stream",
     "text": [
      "eigenvalues shape torch.Size([5]) eigenvectors shape torch.Size([5, 450])\n",
      "378 /home/phdcs2/Hard_Disk/Datasets/Deep-Spectral-Segmentation/data/object-segmentation/ECSSD/features/dino_vits16/0379.pth\n",
      "dict_keys(['k', 'indices', 'file', 'id', 'model_name', 'patch_size', 'shape'])\n",
      "0379\n",
      "Starting Training\n",
      "epoch: 00, loss: -0.39231\n",
      "epoch: 01, loss: -0.66487\n",
      "epoch: 02, loss: -0.73057\n",
      "epoch: 03, loss: -0.78330\n",
      "epoch: 04, loss: -0.79912\n",
      "epoch: 05, loss: -0.80302\n",
      "epoch: 06, loss: -0.82766\n",
      "epoch: 07, loss: -0.83829\n",
      "epoch: 08, loss: -0.83299\n",
      "epoch: 09, loss: -0.84851\n"
     ]
    },
    {
     "name": "stderr",
     "output_type": "stream",
     "text": [
      " 38%|███▊      | 379/1000 [2:31:13<3:45:31, 21.79s/it]"
     ]
    },
    {
     "name": "stdout",
     "output_type": "stream",
     "text": [
      "eigenvalues shape torch.Size([5]) eigenvectors shape torch.Size([5, 450])\n",
      "379 /home/phdcs2/Hard_Disk/Datasets/Deep-Spectral-Segmentation/data/object-segmentation/ECSSD/features/dino_vits16/0380.pth\n",
      "dict_keys(['k', 'indices', 'file', 'id', 'model_name', 'patch_size', 'shape'])\n",
      "0380\n",
      "Starting Training\n",
      "epoch: 00, loss: -0.42782\n",
      "epoch: 01, loss: -0.68563\n",
      "epoch: 02, loss: -0.70857\n",
      "epoch: 03, loss: -0.77258\n",
      "epoch: 04, loss: -0.82954\n",
      "epoch: 05, loss: -0.83639\n",
      "epoch: 06, loss: -0.83741\n",
      "epoch: 07, loss: -0.82955\n",
      "epoch: 08, loss: -0.84747\n",
      "epoch: 09, loss: -0.84227\n"
     ]
    },
    {
     "name": "stderr",
     "output_type": "stream",
     "text": [
      " 38%|███▊      | 380/1000 [2:31:33<3:39:28, 21.24s/it]"
     ]
    },
    {
     "name": "stdout",
     "output_type": "stream",
     "text": [
      "eigenvalues shape torch.Size([5]) eigenvectors shape torch.Size([5, 425])\n",
      "380 /home/phdcs2/Hard_Disk/Datasets/Deep-Spectral-Segmentation/data/object-segmentation/ECSSD/features/dino_vits16/0381.pth\n",
      "dict_keys(['k', 'indices', 'file', 'id', 'model_name', 'patch_size', 'shape'])\n",
      "0381\n",
      "Starting Training\n",
      "epoch: 00, loss: -0.36910\n",
      "epoch: 01, loss: -0.77779\n",
      "epoch: 02, loss: -0.84809\n",
      "epoch: 03, loss: -0.85096\n",
      "epoch: 04, loss: -0.85552\n",
      "epoch: 05, loss: -0.85004\n",
      "epoch: 06, loss: -0.84440\n",
      "epoch: 07, loss: -0.86240\n",
      "epoch: 08, loss: -0.86698\n",
      "epoch: 09, loss: -0.87488\n"
     ]
    },
    {
     "name": "stderr",
     "output_type": "stream",
     "text": [
      " 38%|███▊      | 381/1000 [2:31:55<3:40:52, 21.41s/it]"
     ]
    },
    {
     "name": "stdout",
     "output_type": "stream",
     "text": [
      "eigenvalues shape torch.Size([5]) eigenvectors shape torch.Size([5, 450])\n",
      "381 /home/phdcs2/Hard_Disk/Datasets/Deep-Spectral-Segmentation/data/object-segmentation/ECSSD/features/dino_vits16/0382.pth\n",
      "dict_keys(['k', 'indices', 'file', 'id', 'model_name', 'patch_size', 'shape'])\n",
      "0382\n",
      "Starting Training\n",
      "epoch: 00, loss: -0.34697\n",
      "epoch: 01, loss: -0.70558\n",
      "epoch: 02, loss: -0.78525\n",
      "epoch: 03, loss: -0.81539\n",
      "epoch: 04, loss: -0.82076\n",
      "epoch: 05, loss: -0.84164\n",
      "epoch: 06, loss: -0.82075\n",
      "epoch: 07, loss: -0.83233\n",
      "epoch: 08, loss: -0.82299\n",
      "epoch: 09, loss: -0.82929\n"
     ]
    },
    {
     "name": "stderr",
     "output_type": "stream",
     "text": [
      " 38%|███▊      | 382/1000 [2:32:14<3:32:29, 20.63s/it]"
     ]
    },
    {
     "name": "stdout",
     "output_type": "stream",
     "text": [
      "eigenvalues shape torch.Size([5]) eigenvectors shape torch.Size([5, 425])\n",
      "382 /home/phdcs2/Hard_Disk/Datasets/Deep-Spectral-Segmentation/data/object-segmentation/ECSSD/features/dino_vits16/0383.pth\n",
      "dict_keys(['k', 'indices', 'file', 'id', 'model_name', 'patch_size', 'shape'])\n",
      "0383\n",
      "Starting Training\n",
      "epoch: 00, loss: -0.48049\n",
      "epoch: 01, loss: -0.72340\n",
      "epoch: 02, loss: -0.73900\n",
      "epoch: 03, loss: -0.78336\n",
      "epoch: 04, loss: -0.81098\n",
      "epoch: 05, loss: -0.81377\n",
      "epoch: 06, loss: -0.84186\n",
      "epoch: 07, loss: -0.86493\n",
      "epoch: 08, loss: -0.85312\n",
      "epoch: 09, loss: -0.84160\n"
     ]
    },
    {
     "name": "stderr",
     "output_type": "stream",
     "text": [
      " 38%|███▊      | 383/1000 [2:32:30<3:19:35, 19.41s/it]"
     ]
    },
    {
     "name": "stdout",
     "output_type": "stream",
     "text": [
      "eigenvalues shape torch.Size([5]) eigenvectors shape torch.Size([5, 350])\n",
      "383 /home/phdcs2/Hard_Disk/Datasets/Deep-Spectral-Segmentation/data/object-segmentation/ECSSD/features/dino_vits16/0384.pth\n",
      "dict_keys(['k', 'indices', 'file', 'id', 'model_name', 'patch_size', 'shape'])\n",
      "0384\n",
      "Starting Training\n",
      "epoch: 00, loss: -0.44104\n",
      "epoch: 01, loss: -0.71736\n",
      "epoch: 02, loss: -0.77729\n",
      "epoch: 03, loss: -0.80460\n",
      "epoch: 04, loss: -0.81653\n",
      "epoch: 05, loss: -0.82970\n",
      "epoch: 06, loss: -0.85803\n",
      "epoch: 07, loss: -0.84035\n",
      "epoch: 08, loss: -0.85297\n",
      "epoch: 09, loss: -0.85433\n"
     ]
    },
    {
     "name": "stderr",
     "output_type": "stream",
     "text": [
      " 38%|███▊      | 384/1000 [2:32:53<3:29:16, 20.38s/it]"
     ]
    },
    {
     "name": "stdout",
     "output_type": "stream",
     "text": [
      "eigenvalues shape torch.Size([5]) eigenvectors shape torch.Size([5, 475])\n",
      "384 /home/phdcs2/Hard_Disk/Datasets/Deep-Spectral-Segmentation/data/object-segmentation/ECSSD/features/dino_vits16/0385.pth\n",
      "dict_keys(['k', 'indices', 'file', 'id', 'model_name', 'patch_size', 'shape'])\n",
      "0385\n",
      "Starting Training\n",
      "epoch: 00, loss: -0.49804\n",
      "epoch: 01, loss: -0.77392\n",
      "epoch: 02, loss: -0.82327\n",
      "epoch: 03, loss: -0.85471\n",
      "epoch: 04, loss: -0.86898\n",
      "epoch: 05, loss: -0.86387\n",
      "epoch: 06, loss: -0.86608\n",
      "epoch: 07, loss: -0.83991\n",
      "epoch: 08, loss: -0.85226\n",
      "epoch: 09, loss: -0.85175\n"
     ]
    },
    {
     "name": "stderr",
     "output_type": "stream",
     "text": [
      " 38%|███▊      | 385/1000 [2:33:20<3:48:32, 22.30s/it]"
     ]
    },
    {
     "name": "stdout",
     "output_type": "stream",
     "text": [
      "eigenvalues shape torch.Size([5]) eigenvectors shape torch.Size([5, 600])\n",
      "385 /home/phdcs2/Hard_Disk/Datasets/Deep-Spectral-Segmentation/data/object-segmentation/ECSSD/features/dino_vits16/0386.pth\n",
      "dict_keys(['k', 'indices', 'file', 'id', 'model_name', 'patch_size', 'shape'])\n",
      "0386\n",
      "Starting Training\n",
      "epoch: 00, loss: -0.57558\n",
      "epoch: 01, loss: -0.86975\n",
      "epoch: 02, loss: -0.86324\n",
      "epoch: 03, loss: -0.77923\n",
      "epoch: 04, loss: -0.77937\n",
      "epoch: 05, loss: -0.84335\n",
      "epoch: 06, loss: -0.82504\n",
      "epoch: 07, loss: -0.83305\n",
      "epoch: 08, loss: -0.84929\n",
      "epoch: 09, loss: -0.84560\n"
     ]
    },
    {
     "name": "stderr",
     "output_type": "stream",
     "text": [
      " 39%|███▊      | 386/1000 [2:33:39<3:39:05, 21.41s/it]"
     ]
    },
    {
     "name": "stdout",
     "output_type": "stream",
     "text": [
      "eigenvalues shape torch.Size([5]) eigenvectors shape torch.Size([5, 400])\n",
      "386 /home/phdcs2/Hard_Disk/Datasets/Deep-Spectral-Segmentation/data/object-segmentation/ECSSD/features/dino_vits16/0387.pth\n",
      "dict_keys(['k', 'indices', 'file', 'id', 'model_name', 'patch_size', 'shape'])\n",
      "0387\n",
      "Starting Training\n",
      "epoch: 00, loss: -0.42445\n",
      "epoch: 01, loss: -0.72834\n",
      "epoch: 02, loss: -0.66877\n",
      "epoch: 03, loss: -0.69046\n",
      "epoch: 04, loss: -0.68648\n",
      "epoch: 05, loss: -0.70201\n",
      "epoch: 06, loss: -0.74215\n",
      "epoch: 07, loss: -0.76094\n",
      "epoch: 08, loss: -0.76558\n",
      "epoch: 09, loss: -0.77160\n"
     ]
    },
    {
     "name": "stderr",
     "output_type": "stream",
     "text": [
      " 39%|███▊      | 387/1000 [2:34:00<3:38:55, 21.43s/it]"
     ]
    },
    {
     "name": "stdout",
     "output_type": "stream",
     "text": [
      "eigenvalues shape torch.Size([5]) eigenvectors shape torch.Size([5, 450])\n",
      "387 /home/phdcs2/Hard_Disk/Datasets/Deep-Spectral-Segmentation/data/object-segmentation/ECSSD/features/dino_vits16/0388.pth\n",
      "dict_keys(['k', 'indices', 'file', 'id', 'model_name', 'patch_size', 'shape'])\n",
      "0388\n",
      "Starting Training\n",
      "epoch: 00, loss: -0.44734\n",
      "epoch: 01, loss: -0.78524\n",
      "epoch: 02, loss: -0.77175\n",
      "epoch: 03, loss: -0.76654\n",
      "epoch: 04, loss: -0.77016\n",
      "epoch: 05, loss: -0.76942\n",
      "epoch: 06, loss: -0.78059\n",
      "epoch: 07, loss: -0.79849\n",
      "epoch: 08, loss: -0.81673\n",
      "epoch: 09, loss: -0.83454\n"
     ]
    },
    {
     "name": "stderr",
     "output_type": "stream",
     "text": [
      " 39%|███▉      | 388/1000 [2:34:23<3:41:05, 21.68s/it]"
     ]
    },
    {
     "name": "stdout",
     "output_type": "stream",
     "text": [
      "eigenvalues shape torch.Size([5]) eigenvectors shape torch.Size([5, 500])\n",
      "388 /home/phdcs2/Hard_Disk/Datasets/Deep-Spectral-Segmentation/data/object-segmentation/ECSSD/features/dino_vits16/0389.pth\n",
      "dict_keys(['k', 'indices', 'file', 'id', 'model_name', 'patch_size', 'shape'])\n",
      "0389\n",
      "Starting Training\n",
      "epoch: 00, loss: -0.54782\n",
      "epoch: 01, loss: -0.85427\n",
      "epoch: 02, loss: -0.88980\n",
      "epoch: 03, loss: -0.89602\n",
      "epoch: 04, loss: -0.90086\n",
      "epoch: 05, loss: -0.88209\n",
      "epoch: 06, loss: -0.89367\n",
      "epoch: 07, loss: -0.88308\n",
      "epoch: 08, loss: -0.86083\n",
      "epoch: 09, loss: -0.84895\n"
     ]
    },
    {
     "name": "stderr",
     "output_type": "stream",
     "text": [
      " 39%|███▉      | 389/1000 [2:34:42<3:34:31, 21.07s/it]"
     ]
    },
    {
     "name": "stdout",
     "output_type": "stream",
     "text": [
      "eigenvalues shape torch.Size([5]) eigenvectors shape torch.Size([5, 450])\n",
      "389 /home/phdcs2/Hard_Disk/Datasets/Deep-Spectral-Segmentation/data/object-segmentation/ECSSD/features/dino_vits16/0390.pth\n",
      "dict_keys(['k', 'indices', 'file', 'id', 'model_name', 'patch_size', 'shape'])\n",
      "0390\n",
      "Starting Training\n",
      "epoch: 00, loss: -0.50925\n",
      "epoch: 01, loss: -0.74194\n",
      "epoch: 02, loss: -0.76925\n",
      "epoch: 03, loss: -0.88400\n",
      "epoch: 04, loss: -0.91699\n",
      "epoch: 05, loss: -0.90335\n",
      "epoch: 06, loss: -0.87067\n",
      "epoch: 07, loss: -0.88613\n",
      "epoch: 08, loss: -0.88876\n",
      "epoch: 09, loss: -0.90323\n"
     ]
    },
    {
     "name": "stderr",
     "output_type": "stream",
     "text": [
      " 39%|███▉      | 390/1000 [2:35:04<3:36:29, 21.30s/it]"
     ]
    },
    {
     "name": "stdout",
     "output_type": "stream",
     "text": [
      "eigenvalues shape torch.Size([5]) eigenvectors shape torch.Size([5, 450])\n",
      "390 /home/phdcs2/Hard_Disk/Datasets/Deep-Spectral-Segmentation/data/object-segmentation/ECSSD/features/dino_vits16/0391.pth\n",
      "dict_keys(['k', 'indices', 'file', 'id', 'model_name', 'patch_size', 'shape'])\n",
      "0391\n",
      "Starting Training\n",
      "epoch: 00, loss: -0.45562\n",
      "epoch: 01, loss: -0.80364\n",
      "epoch: 02, loss: -0.82340\n",
      "epoch: 03, loss: -0.79488\n",
      "epoch: 04, loss: -0.80362\n",
      "epoch: 05, loss: -0.82254\n",
      "epoch: 06, loss: -0.83194\n",
      "epoch: 07, loss: -0.80429\n",
      "epoch: 08, loss: -0.83098\n",
      "epoch: 09, loss: -0.83363\n"
     ]
    },
    {
     "name": "stderr",
     "output_type": "stream",
     "text": [
      " 39%|███▉      | 391/1000 [2:35:22<3:26:34, 20.35s/it]"
     ]
    },
    {
     "name": "stdout",
     "output_type": "stream",
     "text": [
      "eigenvalues shape torch.Size([5]) eigenvectors shape torch.Size([5, 400])\n",
      "391 /home/phdcs2/Hard_Disk/Datasets/Deep-Spectral-Segmentation/data/object-segmentation/ECSSD/features/dino_vits16/0392.pth\n",
      "dict_keys(['k', 'indices', 'file', 'id', 'model_name', 'patch_size', 'shape'])\n",
      "0392\n",
      "Starting Training\n",
      "epoch: 00, loss: -0.33179\n",
      "epoch: 01, loss: -0.68082\n",
      "epoch: 02, loss: -0.80505\n",
      "epoch: 03, loss: -0.80782\n",
      "epoch: 04, loss: -0.78021\n",
      "epoch: 05, loss: -0.80523\n",
      "epoch: 06, loss: -0.81957\n",
      "epoch: 07, loss: -0.80593\n",
      "epoch: 08, loss: -0.81116\n",
      "epoch: 09, loss: -0.81391\n"
     ]
    },
    {
     "name": "stderr",
     "output_type": "stream",
     "text": [
      " 39%|███▉      | 392/1000 [2:35:41<3:22:12, 19.96s/it]"
     ]
    },
    {
     "name": "stdout",
     "output_type": "stream",
     "text": [
      "eigenvalues shape torch.Size([5]) eigenvectors shape torch.Size([5, 400])\n",
      "392 /home/phdcs2/Hard_Disk/Datasets/Deep-Spectral-Segmentation/data/object-segmentation/ECSSD/features/dino_vits16/0393.pth\n",
      "dict_keys(['k', 'indices', 'file', 'id', 'model_name', 'patch_size', 'shape'])\n",
      "0393\n",
      "Starting Training\n",
      "epoch: 00, loss: -0.25033\n",
      "epoch: 01, loss: -0.67503\n",
      "epoch: 02, loss: -0.76335\n",
      "epoch: 03, loss: -0.82061\n",
      "epoch: 04, loss: -0.83028\n",
      "epoch: 05, loss: -0.83706\n",
      "epoch: 06, loss: -0.85423\n",
      "epoch: 07, loss: -0.84155\n",
      "epoch: 08, loss: -0.84762\n",
      "epoch: 09, loss: -0.85802\n"
     ]
    },
    {
     "name": "stderr",
     "output_type": "stream",
     "text": [
      " 39%|███▉      | 393/1000 [2:35:59<3:16:28, 19.42s/it]"
     ]
    },
    {
     "name": "stdout",
     "output_type": "stream",
     "text": [
      "eigenvalues shape torch.Size([5]) eigenvectors shape torch.Size([5, 400])\n",
      "393 /home/phdcs2/Hard_Disk/Datasets/Deep-Spectral-Segmentation/data/object-segmentation/ECSSD/features/dino_vits16/0394.pth\n",
      "dict_keys(['k', 'indices', 'file', 'id', 'model_name', 'patch_size', 'shape'])\n",
      "0394\n",
      "Starting Training\n",
      "epoch: 00, loss: -0.45591\n",
      "epoch: 01, loss: -0.68133\n",
      "epoch: 02, loss: -0.78365\n",
      "epoch: 03, loss: -0.81302\n",
      "epoch: 04, loss: -0.83225\n",
      "epoch: 05, loss: -0.83164\n",
      "epoch: 06, loss: -0.85450\n",
      "epoch: 07, loss: -0.85737\n",
      "epoch: 08, loss: -0.86268\n",
      "epoch: 09, loss: -0.85943\n"
     ]
    },
    {
     "name": "stderr",
     "output_type": "stream",
     "text": [
      " 39%|███▉      | 394/1000 [2:36:18<3:13:34, 19.17s/it]"
     ]
    },
    {
     "name": "stdout",
     "output_type": "stream",
     "text": [
      "eigenvalues shape torch.Size([5]) eigenvectors shape torch.Size([5, 400])\n",
      "394 /home/phdcs2/Hard_Disk/Datasets/Deep-Spectral-Segmentation/data/object-segmentation/ECSSD/features/dino_vits16/0395.pth\n",
      "dict_keys(['k', 'indices', 'file', 'id', 'model_name', 'patch_size', 'shape'])\n",
      "0395\n",
      "Starting Training\n",
      "epoch: 00, loss: -0.36114\n",
      "epoch: 01, loss: -0.63602\n",
      "epoch: 02, loss: -0.73260\n",
      "epoch: 03, loss: -0.79645\n",
      "epoch: 04, loss: -0.78716\n",
      "epoch: 05, loss: -0.78780\n",
      "epoch: 06, loss: -0.79088\n",
      "epoch: 07, loss: -0.79470\n",
      "epoch: 08, loss: -0.81415\n",
      "epoch: 09, loss: -0.78227\n"
     ]
    },
    {
     "name": "stderr",
     "output_type": "stream",
     "text": [
      " 40%|███▉      | 395/1000 [2:36:37<3:12:18, 19.07s/it]"
     ]
    },
    {
     "name": "stdout",
     "output_type": "stream",
     "text": [
      "eigenvalues shape torch.Size([5]) eigenvectors shape torch.Size([5, 400])\n",
      "395 /home/phdcs2/Hard_Disk/Datasets/Deep-Spectral-Segmentation/data/object-segmentation/ECSSD/features/dino_vits16/0396.pth\n",
      "dict_keys(['k', 'indices', 'file', 'id', 'model_name', 'patch_size', 'shape'])\n",
      "0396\n",
      "Starting Training\n",
      "epoch: 00, loss: -0.41218\n",
      "epoch: 01, loss: -0.68481\n",
      "epoch: 02, loss: -0.76149\n",
      "epoch: 03, loss: -0.79774\n",
      "epoch: 04, loss: -0.83559\n",
      "epoch: 05, loss: -0.84654\n",
      "epoch: 06, loss: -0.84119\n",
      "epoch: 07, loss: -0.80948\n",
      "epoch: 08, loss: -0.82427\n",
      "epoch: 09, loss: -0.82725\n"
     ]
    },
    {
     "name": "stderr",
     "output_type": "stream",
     "text": [
      " 40%|███▉      | 396/1000 [2:36:57<3:15:53, 19.46s/it]"
     ]
    },
    {
     "name": "stdout",
     "output_type": "stream",
     "text": [
      "eigenvalues shape torch.Size([5]) eigenvectors shape torch.Size([5, 450])\n",
      "396 /home/phdcs2/Hard_Disk/Datasets/Deep-Spectral-Segmentation/data/object-segmentation/ECSSD/features/dino_vits16/0397.pth\n",
      "dict_keys(['k', 'indices', 'file', 'id', 'model_name', 'patch_size', 'shape'])\n",
      "0397\n",
      "Starting Training\n",
      "epoch: 00, loss: -0.26460\n",
      "epoch: 01, loss: -0.65564\n",
      "epoch: 02, loss: -0.69493\n",
      "epoch: 03, loss: -0.74475\n",
      "epoch: 04, loss: -0.76694\n",
      "epoch: 05, loss: -0.77274\n",
      "epoch: 06, loss: -0.76894\n",
      "epoch: 07, loss: -0.78330\n",
      "epoch: 08, loss: -0.77030\n",
      "epoch: 09, loss: -0.77778\n"
     ]
    },
    {
     "name": "stderr",
     "output_type": "stream",
     "text": [
      " 40%|███▉      | 397/1000 [2:37:16<3:13:16, 19.23s/it]"
     ]
    },
    {
     "name": "stdout",
     "output_type": "stream",
     "text": [
      "eigenvalues shape torch.Size([5]) eigenvectors shape torch.Size([5, 400])\n",
      "397 /home/phdcs2/Hard_Disk/Datasets/Deep-Spectral-Segmentation/data/object-segmentation/ECSSD/features/dino_vits16/0398.pth\n",
      "dict_keys(['k', 'indices', 'file', 'id', 'model_name', 'patch_size', 'shape'])\n",
      "0398\n",
      "Starting Training\n",
      "epoch: 00, loss: -0.56473\n",
      "epoch: 01, loss: -0.75387\n",
      "epoch: 02, loss: -0.67618\n",
      "epoch: 03, loss: -0.70838\n",
      "epoch: 04, loss: -0.77420\n",
      "epoch: 05, loss: -0.82115\n",
      "epoch: 06, loss: -0.82463\n",
      "epoch: 07, loss: -0.80195\n",
      "epoch: 08, loss: -0.79735\n",
      "epoch: 09, loss: -0.82012\n"
     ]
    },
    {
     "name": "stderr",
     "output_type": "stream",
     "text": [
      " 40%|███▉      | 398/1000 [2:37:35<3:12:53, 19.23s/it]"
     ]
    },
    {
     "name": "stdout",
     "output_type": "stream",
     "text": [
      "eigenvalues shape torch.Size([5]) eigenvectors shape torch.Size([5, 400])\n",
      "398 /home/phdcs2/Hard_Disk/Datasets/Deep-Spectral-Segmentation/data/object-segmentation/ECSSD/features/dino_vits16/0399.pth\n",
      "dict_keys(['k', 'indices', 'file', 'id', 'model_name', 'patch_size', 'shape'])\n",
      "0399\n",
      "Starting Training\n",
      "epoch: 00, loss: -0.29901\n",
      "epoch: 01, loss: -0.58333\n",
      "epoch: 02, loss: -0.71047\n",
      "epoch: 03, loss: -0.70665\n",
      "epoch: 04, loss: -0.72932\n",
      "epoch: 05, loss: -0.74707\n",
      "epoch: 06, loss: -0.76094\n",
      "epoch: 07, loss: -0.77961\n",
      "epoch: 08, loss: -0.77636\n",
      "epoch: 09, loss: -0.78354\n"
     ]
    },
    {
     "name": "stderr",
     "output_type": "stream",
     "text": [
      " 40%|███▉      | 399/1000 [2:37:53<3:09:22, 18.91s/it]"
     ]
    },
    {
     "name": "stdout",
     "output_type": "stream",
     "text": [
      "eigenvalues shape torch.Size([5]) eigenvectors shape torch.Size([5, 400])\n",
      "399 /home/phdcs2/Hard_Disk/Datasets/Deep-Spectral-Segmentation/data/object-segmentation/ECSSD/features/dino_vits16/0400.pth\n",
      "dict_keys(['k', 'indices', 'file', 'id', 'model_name', 'patch_size', 'shape'])\n",
      "0400\n",
      "Starting Training\n",
      "epoch: 00, loss: -0.36805\n",
      "epoch: 01, loss: -0.73875\n",
      "epoch: 02, loss: -0.82704\n",
      "epoch: 03, loss: -0.81231\n",
      "epoch: 04, loss: -0.82831\n",
      "epoch: 05, loss: -0.84268\n",
      "epoch: 06, loss: -0.82956\n",
      "epoch: 07, loss: -0.83589\n",
      "epoch: 08, loss: -0.83855\n",
      "epoch: 09, loss: -0.84049\n"
     ]
    },
    {
     "name": "stderr",
     "output_type": "stream",
     "text": [
      " 40%|████      | 400/1000 [2:38:12<3:08:25, 18.84s/it]"
     ]
    },
    {
     "name": "stdout",
     "output_type": "stream",
     "text": [
      "eigenvalues shape torch.Size([5]) eigenvectors shape torch.Size([5, 400])\n",
      "400 /home/phdcs2/Hard_Disk/Datasets/Deep-Spectral-Segmentation/data/object-segmentation/ECSSD/features/dino_vits16/0401.pth\n",
      "dict_keys(['k', 'indices', 'file', 'id', 'model_name', 'patch_size', 'shape'])\n",
      "0401\n",
      "Starting Training\n",
      "epoch: 00, loss: -0.40741\n",
      "epoch: 01, loss: -0.77827\n",
      "epoch: 02, loss: -0.88781\n",
      "epoch: 03, loss: -0.88427\n",
      "epoch: 04, loss: -0.89740\n",
      "epoch: 05, loss: -0.89299\n",
      "epoch: 06, loss: -0.90182\n",
      "epoch: 07, loss: -0.90060\n",
      "epoch: 08, loss: -0.89247\n",
      "epoch: 09, loss: -0.90771\n"
     ]
    },
    {
     "name": "stderr",
     "output_type": "stream",
     "text": [
      " 40%|████      | 401/1000 [2:38:31<3:08:36, 18.89s/it]"
     ]
    },
    {
     "name": "stdout",
     "output_type": "stream",
     "text": [
      "eigenvalues shape torch.Size([5]) eigenvectors shape torch.Size([5, 400])\n",
      "401 /home/phdcs2/Hard_Disk/Datasets/Deep-Spectral-Segmentation/data/object-segmentation/ECSSD/features/dino_vits16/0402.pth\n",
      "dict_keys(['k', 'indices', 'file', 'id', 'model_name', 'patch_size', 'shape'])\n",
      "0402\n",
      "Starting Training\n",
      "epoch: 00, loss: -0.33488\n",
      "epoch: 01, loss: -0.60188\n",
      "epoch: 02, loss: -0.70369\n",
      "epoch: 03, loss: -0.74198\n",
      "epoch: 04, loss: -0.77497\n",
      "epoch: 05, loss: -0.79549\n",
      "epoch: 06, loss: -0.81296\n",
      "epoch: 07, loss: -0.78749\n",
      "epoch: 08, loss: -0.80733\n",
      "epoch: 09, loss: -0.81332\n"
     ]
    },
    {
     "name": "stderr",
     "output_type": "stream",
     "text": [
      " 40%|████      | 402/1000 [2:38:51<3:11:36, 19.23s/it]"
     ]
    },
    {
     "name": "stdout",
     "output_type": "stream",
     "text": [
      "eigenvalues shape torch.Size([5]) eigenvectors shape torch.Size([5, 400])\n",
      "402 /home/phdcs2/Hard_Disk/Datasets/Deep-Spectral-Segmentation/data/object-segmentation/ECSSD/features/dino_vits16/0403.pth\n",
      "dict_keys(['k', 'indices', 'file', 'id', 'model_name', 'patch_size', 'shape'])\n",
      "0403\n",
      "Starting Training\n",
      "epoch: 00, loss: -0.36970\n",
      "epoch: 01, loss: -0.77275\n",
      "epoch: 02, loss: -0.80897\n",
      "epoch: 03, loss: -0.80601\n",
      "epoch: 04, loss: -0.74640\n",
      "epoch: 05, loss: -0.68955\n",
      "epoch: 06, loss: -0.74730\n",
      "epoch: 07, loss: -0.76122\n",
      "epoch: 08, loss: -0.72890\n",
      "epoch: 09, loss: -0.74069\n"
     ]
    },
    {
     "name": "stderr",
     "output_type": "stream",
     "text": [
      " 40%|████      | 403/1000 [2:39:09<3:06:44, 18.77s/it]"
     ]
    },
    {
     "name": "stdout",
     "output_type": "stream",
     "text": [
      "eigenvalues shape torch.Size([5]) eigenvectors shape torch.Size([5, 400])\n",
      "403 /home/phdcs2/Hard_Disk/Datasets/Deep-Spectral-Segmentation/data/object-segmentation/ECSSD/features/dino_vits16/0404.pth\n",
      "dict_keys(['k', 'indices', 'file', 'id', 'model_name', 'patch_size', 'shape'])\n",
      "0404\n",
      "Starting Training\n",
      "epoch: 00, loss: -0.54442\n",
      "epoch: 01, loss: -0.79919\n",
      "epoch: 02, loss: -0.80125\n",
      "epoch: 03, loss: -0.82007\n",
      "epoch: 04, loss: -0.83249\n",
      "epoch: 05, loss: -0.83466\n",
      "epoch: 06, loss: -0.73892\n",
      "epoch: 07, loss: -0.75950\n",
      "epoch: 08, loss: -0.76886\n",
      "epoch: 09, loss: -0.79954\n"
     ]
    },
    {
     "name": "stderr",
     "output_type": "stream",
     "text": [
      " 40%|████      | 404/1000 [2:39:28<3:06:58, 18.82s/it]"
     ]
    },
    {
     "name": "stdout",
     "output_type": "stream",
     "text": [
      "eigenvalues shape torch.Size([5]) eigenvectors shape torch.Size([5, 400])\n",
      "404 /home/phdcs2/Hard_Disk/Datasets/Deep-Spectral-Segmentation/data/object-segmentation/ECSSD/features/dino_vits16/0405.pth\n",
      "dict_keys(['k', 'indices', 'file', 'id', 'model_name', 'patch_size', 'shape'])\n",
      "0405\n",
      "Starting Training\n",
      "epoch: 00, loss: -0.36127\n",
      "epoch: 01, loss: -0.74006\n",
      "epoch: 02, loss: -0.80829\n",
      "epoch: 03, loss: -0.76291\n",
      "epoch: 04, loss: -0.79022\n",
      "epoch: 05, loss: -0.80755\n",
      "epoch: 06, loss: -0.84604\n",
      "epoch: 07, loss: -0.86199\n",
      "epoch: 08, loss: -0.85941\n",
      "epoch: 09, loss: -0.86760\n"
     ]
    },
    {
     "name": "stderr",
     "output_type": "stream",
     "text": [
      " 40%|████      | 405/1000 [2:39:46<3:05:26, 18.70s/it]"
     ]
    },
    {
     "name": "stdout",
     "output_type": "stream",
     "text": [
      "eigenvalues shape torch.Size([5]) eigenvectors shape torch.Size([5, 400])\n",
      "405 /home/phdcs2/Hard_Disk/Datasets/Deep-Spectral-Segmentation/data/object-segmentation/ECSSD/features/dino_vits16/0406.pth\n",
      "dict_keys(['k', 'indices', 'file', 'id', 'model_name', 'patch_size', 'shape'])\n",
      "0406\n",
      "Starting Training\n",
      "epoch: 00, loss: -0.27856\n",
      "epoch: 01, loss: -0.59559\n",
      "epoch: 02, loss: -0.73807\n",
      "epoch: 03, loss: -0.78023\n",
      "epoch: 04, loss: -0.77818\n",
      "epoch: 05, loss: -0.79513\n",
      "epoch: 06, loss: -0.80145\n",
      "epoch: 07, loss: -0.81580\n",
      "epoch: 08, loss: -0.81605\n",
      "epoch: 09, loss: -0.84661\n"
     ]
    },
    {
     "name": "stderr",
     "output_type": "stream",
     "text": [
      " 41%|████      | 406/1000 [2:40:04<3:03:07, 18.50s/it]"
     ]
    },
    {
     "name": "stdout",
     "output_type": "stream",
     "text": [
      "eigenvalues shape torch.Size([5]) eigenvectors shape torch.Size([5, 400])\n",
      "406 /home/phdcs2/Hard_Disk/Datasets/Deep-Spectral-Segmentation/data/object-segmentation/ECSSD/features/dino_vits16/0407.pth\n",
      "dict_keys(['k', 'indices', 'file', 'id', 'model_name', 'patch_size', 'shape'])\n",
      "0407\n",
      "Starting Training\n",
      "epoch: 00, loss: -0.41028\n",
      "epoch: 01, loss: -0.68652\n",
      "epoch: 02, loss: -0.75736\n",
      "epoch: 03, loss: -0.78221\n",
      "epoch: 04, loss: -0.71809\n",
      "epoch: 05, loss: -0.71213\n",
      "epoch: 06, loss: -0.76462\n",
      "epoch: 07, loss: -0.77102\n",
      "epoch: 08, loss: -0.76081\n",
      "epoch: 09, loss: -0.79327\n"
     ]
    },
    {
     "name": "stderr",
     "output_type": "stream",
     "text": [
      " 41%|████      | 407/1000 [2:40:23<3:04:31, 18.67s/it]"
     ]
    },
    {
     "name": "stdout",
     "output_type": "stream",
     "text": [
      "eigenvalues shape torch.Size([5]) eigenvectors shape torch.Size([5, 400])\n",
      "407 /home/phdcs2/Hard_Disk/Datasets/Deep-Spectral-Segmentation/data/object-segmentation/ECSSD/features/dino_vits16/0408.pth\n",
      "dict_keys(['k', 'indices', 'file', 'id', 'model_name', 'patch_size', 'shape'])\n",
      "0408\n",
      "Starting Training\n",
      "epoch: 00, loss: -0.57885\n",
      "epoch: 01, loss: -0.88736\n",
      "epoch: 02, loss: -0.87353\n",
      "epoch: 03, loss: -0.81738\n",
      "epoch: 04, loss: -0.81275\n",
      "epoch: 05, loss: -0.79282\n",
      "epoch: 06, loss: -0.81305\n",
      "epoch: 07, loss: -0.84291\n",
      "epoch: 08, loss: -0.84211\n",
      "epoch: 09, loss: -0.85319\n"
     ]
    },
    {
     "name": "stderr",
     "output_type": "stream",
     "text": [
      " 41%|████      | 408/1000 [2:40:42<3:05:00, 18.75s/it]"
     ]
    },
    {
     "name": "stdout",
     "output_type": "stream",
     "text": [
      "eigenvalues shape torch.Size([5]) eigenvectors shape torch.Size([5, 400])\n",
      "408 /home/phdcs2/Hard_Disk/Datasets/Deep-Spectral-Segmentation/data/object-segmentation/ECSSD/features/dino_vits16/0409.pth\n",
      "dict_keys(['k', 'indices', 'file', 'id', 'model_name', 'patch_size', 'shape'])\n",
      "0409\n",
      "Starting Training\n",
      "epoch: 00, loss: -0.53160\n",
      "epoch: 01, loss: -0.78421\n",
      "epoch: 02, loss: -0.80243\n",
      "epoch: 03, loss: -0.79927\n",
      "epoch: 04, loss: -0.80028\n",
      "epoch: 05, loss: -0.83002\n",
      "epoch: 06, loss: -0.83595\n",
      "epoch: 07, loss: -0.82397\n",
      "epoch: 08, loss: -0.81897\n",
      "epoch: 09, loss: -0.85059\n"
     ]
    },
    {
     "name": "stderr",
     "output_type": "stream",
     "text": [
      " 41%|████      | 409/1000 [2:41:02<3:09:05, 19.20s/it]"
     ]
    },
    {
     "name": "stdout",
     "output_type": "stream",
     "text": [
      "eigenvalues shape torch.Size([5]) eigenvectors shape torch.Size([5, 450])\n",
      "409 /home/phdcs2/Hard_Disk/Datasets/Deep-Spectral-Segmentation/data/object-segmentation/ECSSD/features/dino_vits16/0410.pth\n",
      "dict_keys(['k', 'indices', 'file', 'id', 'model_name', 'patch_size', 'shape'])\n",
      "0410\n",
      "Starting Training\n",
      "epoch: 00, loss: -0.23627\n",
      "epoch: 01, loss: -0.48216\n",
      "epoch: 02, loss: -0.61939\n",
      "epoch: 03, loss: -0.63607\n",
      "epoch: 04, loss: -0.68761\n",
      "epoch: 05, loss: -0.69999\n",
      "epoch: 06, loss: -0.68720\n",
      "epoch: 07, loss: -0.67879\n",
      "epoch: 08, loss: -0.67750\n",
      "epoch: 09, loss: -0.70588\n"
     ]
    },
    {
     "name": "stderr",
     "output_type": "stream",
     "text": [
      " 41%|████      | 410/1000 [2:41:16<2:53:49, 17.68s/it]"
     ]
    },
    {
     "name": "stdout",
     "output_type": "stream",
     "text": [
      "eigenvalues shape torch.Size([5]) eigenvectors shape torch.Size([5, 325])\n",
      "410 /home/phdcs2/Hard_Disk/Datasets/Deep-Spectral-Segmentation/data/object-segmentation/ECSSD/features/dino_vits16/0411.pth\n",
      "dict_keys(['k', 'indices', 'file', 'id', 'model_name', 'patch_size', 'shape'])\n",
      "0411\n",
      "Starting Training\n",
      "epoch: 00, loss: -0.34023\n",
      "epoch: 01, loss: -0.71142\n",
      "epoch: 02, loss: -0.77311\n",
      "epoch: 03, loss: -0.79897\n",
      "epoch: 04, loss: -0.85897\n",
      "epoch: 05, loss: -0.85857\n",
      "epoch: 06, loss: -0.85959\n",
      "epoch: 07, loss: -0.88038\n",
      "epoch: 08, loss: -0.88883\n",
      "epoch: 09, loss: -0.88110\n"
     ]
    },
    {
     "name": "stderr",
     "output_type": "stream",
     "text": [
      " 41%|████      | 411/1000 [2:41:38<3:04:45, 18.82s/it]"
     ]
    },
    {
     "name": "stdout",
     "output_type": "stream",
     "text": [
      "eigenvalues shape torch.Size([5]) eigenvectors shape torch.Size([5, 450])\n",
      "411 /home/phdcs2/Hard_Disk/Datasets/Deep-Spectral-Segmentation/data/object-segmentation/ECSSD/features/dino_vits16/0412.pth\n",
      "dict_keys(['k', 'indices', 'file', 'id', 'model_name', 'patch_size', 'shape'])\n",
      "0412\n",
      "Starting Training\n",
      "epoch: 00, loss: -0.67114\n",
      "epoch: 01, loss: -0.95228\n",
      "epoch: 02, loss: -0.89460\n",
      "epoch: 03, loss: -0.86988\n",
      "epoch: 04, loss: -0.78502\n",
      "epoch: 05, loss: -0.77319\n",
      "epoch: 06, loss: -0.72012\n",
      "epoch: 07, loss: -0.71025\n",
      "epoch: 08, loss: -0.69443\n",
      "epoch: 09, loss: -0.74287\n"
     ]
    },
    {
     "name": "stderr",
     "output_type": "stream",
     "text": [
      " 41%|████      | 412/1000 [2:42:00<3:12:52, 19.68s/it]"
     ]
    },
    {
     "name": "stdout",
     "output_type": "stream",
     "text": [
      "eigenvalues shape torch.Size([5]) eigenvectors shape torch.Size([5, 450])\n",
      "412 /home/phdcs2/Hard_Disk/Datasets/Deep-Spectral-Segmentation/data/object-segmentation/ECSSD/features/dino_vits16/0413.pth\n",
      "dict_keys(['k', 'indices', 'file', 'id', 'model_name', 'patch_size', 'shape'])\n",
      "0413\n",
      "Starting Training\n",
      "epoch: 00, loss: -0.31428\n",
      "epoch: 01, loss: -0.64787\n",
      "epoch: 02, loss: -0.68685\n",
      "epoch: 03, loss: -0.69865\n",
      "epoch: 04, loss: -0.73501\n",
      "epoch: 05, loss: -0.74261\n",
      "epoch: 06, loss: -0.77026\n",
      "epoch: 07, loss: -0.77354\n",
      "epoch: 08, loss: -0.78276\n",
      "epoch: 09, loss: -0.79469\n"
     ]
    },
    {
     "name": "stderr",
     "output_type": "stream",
     "text": [
      " 41%|████▏     | 413/1000 [2:42:20<3:14:11, 19.85s/it]"
     ]
    },
    {
     "name": "stdout",
     "output_type": "stream",
     "text": [
      "eigenvalues shape torch.Size([5]) eigenvectors shape torch.Size([5, 450])\n",
      "413 /home/phdcs2/Hard_Disk/Datasets/Deep-Spectral-Segmentation/data/object-segmentation/ECSSD/features/dino_vits16/0414.pth\n",
      "dict_keys(['k', 'indices', 'file', 'id', 'model_name', 'patch_size', 'shape'])\n",
      "0414\n",
      "Starting Training\n",
      "epoch: 00, loss: -0.39430\n",
      "epoch: 01, loss: -0.80192\n",
      "epoch: 02, loss: -0.66415\n",
      "epoch: 03, loss: -0.63287\n",
      "epoch: 04, loss: -0.69940\n",
      "epoch: 05, loss: -0.75781\n",
      "epoch: 06, loss: -0.76651\n",
      "epoch: 07, loss: -0.78050\n",
      "epoch: 08, loss: -0.79508\n",
      "epoch: 09, loss: -0.80669\n"
     ]
    },
    {
     "name": "stderr",
     "output_type": "stream",
     "text": [
      " 41%|████▏     | 414/1000 [2:42:41<3:18:09, 20.29s/it]"
     ]
    },
    {
     "name": "stdout",
     "output_type": "stream",
     "text": [
      "eigenvalues shape torch.Size([5]) eigenvectors shape torch.Size([5, 450])\n",
      "414 /home/phdcs2/Hard_Disk/Datasets/Deep-Spectral-Segmentation/data/object-segmentation/ECSSD/features/dino_vits16/0415.pth\n",
      "dict_keys(['k', 'indices', 'file', 'id', 'model_name', 'patch_size', 'shape'])\n",
      "0415\n",
      "Starting Training\n",
      "epoch: 00, loss: -0.35662\n",
      "epoch: 01, loss: -0.61661\n",
      "epoch: 02, loss: -0.68381\n",
      "epoch: 03, loss: -0.75354\n",
      "epoch: 04, loss: -0.77117\n",
      "epoch: 05, loss: -0.79187\n",
      "epoch: 06, loss: -0.80029\n",
      "epoch: 07, loss: -0.78404\n",
      "epoch: 08, loss: -0.76842\n",
      "epoch: 09, loss: -0.77794\n"
     ]
    },
    {
     "name": "stderr",
     "output_type": "stream",
     "text": [
      " 42%|████▏     | 415/1000 [2:43:03<3:21:23, 20.66s/it]"
     ]
    },
    {
     "name": "stdout",
     "output_type": "stream",
     "text": [
      "eigenvalues shape torch.Size([5]) eigenvectors shape torch.Size([5, 450])\n",
      "415 /home/phdcs2/Hard_Disk/Datasets/Deep-Spectral-Segmentation/data/object-segmentation/ECSSD/features/dino_vits16/0416.pth\n",
      "dict_keys(['k', 'indices', 'file', 'id', 'model_name', 'patch_size', 'shape'])\n",
      "0416\n",
      "Starting Training\n",
      "epoch: 00, loss: -0.66963\n",
      "epoch: 01, loss: -0.93197\n",
      "epoch: 02, loss: -0.94213\n",
      "epoch: 03, loss: -0.91777\n",
      "epoch: 04, loss: -0.92943\n",
      "epoch: 05, loss: -0.90698\n",
      "epoch: 06, loss: -0.91555\n",
      "epoch: 07, loss: -0.90365\n",
      "epoch: 08, loss: -0.91857\n",
      "epoch: 09, loss: -0.89044\n"
     ]
    },
    {
     "name": "stderr",
     "output_type": "stream",
     "text": [
      " 42%|████▏     | 416/1000 [2:43:25<3:27:13, 21.29s/it]"
     ]
    },
    {
     "name": "stdout",
     "output_type": "stream",
     "text": [
      "eigenvalues shape torch.Size([5]) eigenvectors shape torch.Size([5, 450])\n",
      "416 /home/phdcs2/Hard_Disk/Datasets/Deep-Spectral-Segmentation/data/object-segmentation/ECSSD/features/dino_vits16/0417.pth\n",
      "dict_keys(['k', 'indices', 'file', 'id', 'model_name', 'patch_size', 'shape'])\n",
      "0417\n",
      "Starting Training\n",
      "epoch: 00, loss: -0.65184\n",
      "epoch: 01, loss: -0.89952\n",
      "epoch: 02, loss: -0.88550\n",
      "epoch: 03, loss: -0.87204\n",
      "epoch: 04, loss: -0.86927\n",
      "epoch: 05, loss: -0.84344\n",
      "epoch: 06, loss: -0.82077\n",
      "epoch: 07, loss: -0.81541\n",
      "epoch: 08, loss: -0.83410\n",
      "epoch: 09, loss: -0.82387\n"
     ]
    },
    {
     "name": "stderr",
     "output_type": "stream",
     "text": [
      " 42%|████▏     | 417/1000 [2:43:45<3:22:06, 20.80s/it]"
     ]
    },
    {
     "name": "stdout",
     "output_type": "stream",
     "text": [
      "eigenvalues shape torch.Size([5]) eigenvectors shape torch.Size([5, 450])\n",
      "417 /home/phdcs2/Hard_Disk/Datasets/Deep-Spectral-Segmentation/data/object-segmentation/ECSSD/features/dino_vits16/0418.pth\n",
      "dict_keys(['k', 'indices', 'file', 'id', 'model_name', 'patch_size', 'shape'])\n",
      "0418\n",
      "Starting Training\n",
      "epoch: 00, loss: -0.61363\n",
      "epoch: 01, loss: -0.79374\n",
      "epoch: 02, loss: -0.77738\n",
      "epoch: 03, loss: -0.80612\n",
      "epoch: 04, loss: -0.81487\n",
      "epoch: 05, loss: -0.85082\n",
      "epoch: 06, loss: -0.89737\n",
      "epoch: 07, loss: -0.89057\n",
      "epoch: 08, loss: -0.89211\n",
      "epoch: 09, loss: -0.87483\n"
     ]
    },
    {
     "name": "stderr",
     "output_type": "stream",
     "text": [
      " 42%|████▏     | 418/1000 [2:44:05<3:18:04, 20.42s/it]"
     ]
    },
    {
     "name": "stdout",
     "output_type": "stream",
     "text": [
      "eigenvalues shape torch.Size([5]) eigenvectors shape torch.Size([5, 450])\n",
      "418 /home/phdcs2/Hard_Disk/Datasets/Deep-Spectral-Segmentation/data/object-segmentation/ECSSD/features/dino_vits16/0419.pth\n",
      "dict_keys(['k', 'indices', 'file', 'id', 'model_name', 'patch_size', 'shape'])\n",
      "0419\n",
      "Starting Training\n",
      "epoch: 00, loss: -0.48776\n",
      "epoch: 01, loss: -0.73461\n",
      "epoch: 02, loss: -0.73067\n",
      "epoch: 03, loss: -0.76382\n",
      "epoch: 04, loss: -0.76408\n",
      "epoch: 05, loss: -0.73078\n",
      "epoch: 06, loss: -0.75349\n",
      "epoch: 07, loss: -0.78855\n",
      "epoch: 08, loss: -0.81002\n",
      "epoch: 09, loss: -0.81595\n"
     ]
    },
    {
     "name": "stderr",
     "output_type": "stream",
     "text": [
      " 42%|████▏     | 419/1000 [2:44:26<3:21:03, 20.76s/it]"
     ]
    },
    {
     "name": "stdout",
     "output_type": "stream",
     "text": [
      "eigenvalues shape torch.Size([5]) eigenvectors shape torch.Size([5, 450])\n",
      "419 /home/phdcs2/Hard_Disk/Datasets/Deep-Spectral-Segmentation/data/object-segmentation/ECSSD/features/dino_vits16/0420.pth\n",
      "dict_keys(['k', 'indices', 'file', 'id', 'model_name', 'patch_size', 'shape'])\n",
      "0420\n",
      "Starting Training\n",
      "epoch: 00, loss: -0.57162\n",
      "epoch: 01, loss: -0.73702\n",
      "epoch: 02, loss: -0.75795\n",
      "epoch: 03, loss: -0.80320\n",
      "epoch: 04, loss: -0.82549\n",
      "epoch: 05, loss: -0.84223\n",
      "epoch: 06, loss: -0.83476\n",
      "epoch: 07, loss: -0.85387\n",
      "epoch: 08, loss: -0.83570\n",
      "epoch: 09, loss: -0.82687\n"
     ]
    },
    {
     "name": "stderr",
     "output_type": "stream",
     "text": [
      " 42%|████▏     | 420/1000 [2:44:52<3:34:02, 22.14s/it]"
     ]
    },
    {
     "name": "stdout",
     "output_type": "stream",
     "text": [
      "eigenvalues shape torch.Size([5]) eigenvectors shape torch.Size([5, 575])\n",
      "420 /home/phdcs2/Hard_Disk/Datasets/Deep-Spectral-Segmentation/data/object-segmentation/ECSSD/features/dino_vits16/0421.pth\n",
      "dict_keys(['k', 'indices', 'file', 'id', 'model_name', 'patch_size', 'shape'])\n",
      "0421\n",
      "Starting Training\n",
      "epoch: 00, loss: -0.54755\n",
      "epoch: 01, loss: -0.85581\n",
      "epoch: 02, loss: -0.85567\n",
      "epoch: 03, loss: -0.84375\n",
      "epoch: 04, loss: -0.85879\n",
      "epoch: 05, loss: -0.84515\n",
      "epoch: 06, loss: -0.88407\n",
      "epoch: 07, loss: -0.88912\n",
      "epoch: 08, loss: -0.88728\n",
      "epoch: 09, loss: -0.82062\n"
     ]
    },
    {
     "name": "stderr",
     "output_type": "stream",
     "text": [
      " 42%|████▏     | 421/1000 [2:45:16<3:40:40, 22.87s/it]"
     ]
    },
    {
     "name": "stdout",
     "output_type": "stream",
     "text": [
      "eigenvalues shape torch.Size([5]) eigenvectors shape torch.Size([5, 525])\n",
      "421 /home/phdcs2/Hard_Disk/Datasets/Deep-Spectral-Segmentation/data/object-segmentation/ECSSD/features/dino_vits16/0422.pth\n",
      "dict_keys(['k', 'indices', 'file', 'id', 'model_name', 'patch_size', 'shape'])\n",
      "0422\n",
      "Starting Training\n",
      "epoch: 00, loss: -0.56881\n",
      "epoch: 01, loss: -0.84200\n",
      "epoch: 02, loss: -0.80858\n",
      "epoch: 03, loss: -0.77867\n",
      "epoch: 04, loss: -0.75617\n",
      "epoch: 05, loss: -0.77490\n",
      "epoch: 06, loss: -0.81255\n",
      "epoch: 07, loss: -0.86421\n",
      "epoch: 08, loss: -0.86928\n",
      "epoch: 09, loss: -0.87115\n"
     ]
    },
    {
     "name": "stderr",
     "output_type": "stream",
     "text": [
      " 42%|████▏     | 422/1000 [2:45:37<3:33:17, 22.14s/it]"
     ]
    },
    {
     "name": "stdout",
     "output_type": "stream",
     "text": [
      "eigenvalues shape torch.Size([5]) eigenvectors shape torch.Size([5, 450])\n",
      "422 /home/phdcs2/Hard_Disk/Datasets/Deep-Spectral-Segmentation/data/object-segmentation/ECSSD/features/dino_vits16/0423.pth\n",
      "dict_keys(['k', 'indices', 'file', 'id', 'model_name', 'patch_size', 'shape'])\n",
      "0423\n",
      "Starting Training\n",
      "epoch: 00, loss: -0.36684\n",
      "epoch: 01, loss: -0.75585\n",
      "epoch: 02, loss: -0.80134\n",
      "epoch: 03, loss: -0.82668\n",
      "epoch: 04, loss: -0.82502\n",
      "epoch: 05, loss: -0.84516\n",
      "epoch: 06, loss: -0.83515\n",
      "epoch: 07, loss: -0.84977\n",
      "epoch: 08, loss: -0.84711\n",
      "epoch: 09, loss: -0.85219\n"
     ]
    },
    {
     "name": "stderr",
     "output_type": "stream",
     "text": [
      " 42%|████▏     | 423/1000 [2:45:56<3:25:26, 21.36s/it]"
     ]
    },
    {
     "name": "stdout",
     "output_type": "stream",
     "text": [
      "eigenvalues shape torch.Size([5]) eigenvectors shape torch.Size([5, 425])\n",
      "423 /home/phdcs2/Hard_Disk/Datasets/Deep-Spectral-Segmentation/data/object-segmentation/ECSSD/features/dino_vits16/0424.pth\n",
      "dict_keys(['k', 'indices', 'file', 'id', 'model_name', 'patch_size', 'shape'])\n",
      "0424\n",
      "Starting Training\n",
      "epoch: 00, loss: -0.41722\n",
      "epoch: 01, loss: -0.80702\n",
      "epoch: 02, loss: -0.86027\n",
      "epoch: 03, loss: -0.86194\n",
      "epoch: 04, loss: -0.84507\n",
      "epoch: 05, loss: -0.84480\n",
      "epoch: 06, loss: -0.85150\n",
      "epoch: 07, loss: -0.85710\n",
      "epoch: 08, loss: -0.86436\n",
      "epoch: 09, loss: -0.87537\n"
     ]
    },
    {
     "name": "stderr",
     "output_type": "stream",
     "text": [
      " 42%|████▏     | 424/1000 [2:46:23<3:40:16, 22.94s/it]"
     ]
    },
    {
     "name": "stdout",
     "output_type": "stream",
     "text": [
      "eigenvalues shape torch.Size([5]) eigenvectors shape torch.Size([5, 550])\n",
      "424 /home/phdcs2/Hard_Disk/Datasets/Deep-Spectral-Segmentation/data/object-segmentation/ECSSD/features/dino_vits16/0425.pth\n",
      "dict_keys(['k', 'indices', 'file', 'id', 'model_name', 'patch_size', 'shape'])\n",
      "0425\n",
      "Starting Training\n",
      "epoch: 00, loss: -0.61187\n",
      "epoch: 01, loss: -0.87764\n",
      "epoch: 02, loss: -0.84282\n",
      "epoch: 03, loss: -0.84320\n",
      "epoch: 04, loss: -0.84521\n",
      "epoch: 05, loss: -0.83824\n",
      "epoch: 06, loss: -0.84488\n",
      "epoch: 07, loss: -0.84529\n",
      "epoch: 08, loss: -0.83957\n",
      "epoch: 09, loss: -0.84564\n"
     ]
    },
    {
     "name": "stderr",
     "output_type": "stream",
     "text": [
      " 42%|████▎     | 425/1000 [2:46:45<3:38:22, 22.79s/it]"
     ]
    },
    {
     "name": "stdout",
     "output_type": "stream",
     "text": [
      "eigenvalues shape torch.Size([5]) eigenvectors shape torch.Size([5, 475])\n",
      "425 /home/phdcs2/Hard_Disk/Datasets/Deep-Spectral-Segmentation/data/object-segmentation/ECSSD/features/dino_vits16/0426.pth\n",
      "dict_keys(['k', 'indices', 'file', 'id', 'model_name', 'patch_size', 'shape'])\n",
      "0426\n",
      "Starting Training\n",
      "epoch: 00, loss: -0.40222\n",
      "epoch: 01, loss: -0.68325\n",
      "epoch: 02, loss: -0.69920\n",
      "epoch: 03, loss: -0.67616\n",
      "epoch: 04, loss: -0.71293\n",
      "epoch: 05, loss: -0.74275\n",
      "epoch: 06, loss: -0.80043\n",
      "epoch: 07, loss: -0.80829\n",
      "epoch: 08, loss: -0.81178\n",
      "epoch: 09, loss: -0.83971\n"
     ]
    },
    {
     "name": "stderr",
     "output_type": "stream",
     "text": [
      " 43%|████▎     | 426/1000 [2:47:06<3:32:50, 22.25s/it]"
     ]
    },
    {
     "name": "stdout",
     "output_type": "stream",
     "text": [
      "eigenvalues shape torch.Size([5]) eigenvectors shape torch.Size([5, 500])\n",
      "426 /home/phdcs2/Hard_Disk/Datasets/Deep-Spectral-Segmentation/data/object-segmentation/ECSSD/features/dino_vits16/0427.pth\n",
      "dict_keys(['k', 'indices', 'file', 'id', 'model_name', 'patch_size', 'shape'])\n",
      "0427\n",
      "Starting Training\n",
      "epoch: 00, loss: -0.56034\n",
      "epoch: 01, loss: -0.82301\n",
      "epoch: 02, loss: -0.87649\n",
      "epoch: 03, loss: -0.92068\n",
      "epoch: 04, loss: -0.91700\n",
      "epoch: 05, loss: -0.89862\n",
      "epoch: 06, loss: -0.87236\n",
      "epoch: 07, loss: -0.84124\n",
      "epoch: 08, loss: -0.85339\n",
      "epoch: 09, loss: -0.86073\n"
     ]
    },
    {
     "name": "stderr",
     "output_type": "stream",
     "text": [
      " 43%|████▎     | 427/1000 [2:47:27<3:29:40, 21.96s/it]"
     ]
    },
    {
     "name": "stdout",
     "output_type": "stream",
     "text": [
      "eigenvalues shape torch.Size([5]) eigenvectors shape torch.Size([5, 450])\n",
      "427 /home/phdcs2/Hard_Disk/Datasets/Deep-Spectral-Segmentation/data/object-segmentation/ECSSD/features/dino_vits16/0428.pth\n",
      "dict_keys(['k', 'indices', 'file', 'id', 'model_name', 'patch_size', 'shape'])\n",
      "0428\n",
      "Starting Training\n",
      "epoch: 00, loss: -0.30984\n",
      "epoch: 01, loss: -0.67953\n",
      "epoch: 02, loss: -0.70504\n",
      "epoch: 03, loss: -0.71015\n",
      "epoch: 04, loss: -0.74416\n",
      "epoch: 05, loss: -0.76816\n",
      "epoch: 06, loss: -0.77737\n",
      "epoch: 07, loss: -0.80733\n",
      "epoch: 08, loss: -0.79592\n",
      "epoch: 09, loss: -0.79508\n"
     ]
    },
    {
     "name": "stderr",
     "output_type": "stream",
     "text": [
      " 43%|████▎     | 428/1000 [2:47:47<3:21:19, 21.12s/it]"
     ]
    },
    {
     "name": "stdout",
     "output_type": "stream",
     "text": [
      "eigenvalues shape torch.Size([5]) eigenvectors shape torch.Size([5, 400])\n",
      "428 /home/phdcs2/Hard_Disk/Datasets/Deep-Spectral-Segmentation/data/object-segmentation/ECSSD/features/dino_vits16/0429.pth\n",
      "dict_keys(['k', 'indices', 'file', 'id', 'model_name', 'patch_size', 'shape'])\n",
      "0429\n",
      "Starting Training\n",
      "epoch: 00, loss: -0.31175\n",
      "epoch: 01, loss: -0.62911\n",
      "epoch: 02, loss: -0.70955\n",
      "epoch: 03, loss: -0.75668\n",
      "epoch: 04, loss: -0.80269\n",
      "epoch: 05, loss: -0.82916\n",
      "epoch: 06, loss: -0.78948\n",
      "epoch: 07, loss: -0.80692\n",
      "epoch: 08, loss: -0.81044\n",
      "epoch: 09, loss: -0.82388\n"
     ]
    },
    {
     "name": "stderr",
     "output_type": "stream",
     "text": [
      " 43%|████▎     | 429/1000 [2:48:05<3:11:59, 20.17s/it]"
     ]
    },
    {
     "name": "stdout",
     "output_type": "stream",
     "text": [
      "eigenvalues shape torch.Size([5]) eigenvectors shape torch.Size([5, 375])\n",
      "429 /home/phdcs2/Hard_Disk/Datasets/Deep-Spectral-Segmentation/data/object-segmentation/ECSSD/features/dino_vits16/0430.pth\n",
      "dict_keys(['k', 'indices', 'file', 'id', 'model_name', 'patch_size', 'shape'])\n",
      "0430\n",
      "Starting Training\n",
      "epoch: 00, loss: -0.56728\n",
      "epoch: 01, loss: -0.62986\n",
      "epoch: 02, loss: -0.69018\n",
      "epoch: 03, loss: -0.66483\n",
      "epoch: 04, loss: -0.71312\n",
      "epoch: 05, loss: -0.71702\n",
      "epoch: 06, loss: -0.70810\n",
      "epoch: 07, loss: -0.68653\n",
      "epoch: 08, loss: -0.72777\n",
      "epoch: 09, loss: -0.72660\n"
     ]
    },
    {
     "name": "stderr",
     "output_type": "stream",
     "text": [
      " 43%|████▎     | 430/1000 [2:48:28<3:21:07, 21.17s/it]"
     ]
    },
    {
     "name": "stdout",
     "output_type": "stream",
     "text": [
      "eigenvalues shape torch.Size([5]) eigenvectors shape torch.Size([5, 500])\n",
      "430 /home/phdcs2/Hard_Disk/Datasets/Deep-Spectral-Segmentation/data/object-segmentation/ECSSD/features/dino_vits16/0431.pth\n",
      "dict_keys(['k', 'indices', 'file', 'id', 'model_name', 'patch_size', 'shape'])\n",
      "0431\n",
      "Starting Training\n",
      "epoch: 00, loss: -0.38777\n",
      "epoch: 01, loss: -0.70220\n",
      "epoch: 02, loss: -0.77258\n",
      "epoch: 03, loss: -0.79049\n",
      "epoch: 04, loss: -0.81181\n",
      "epoch: 05, loss: -0.83633\n",
      "epoch: 06, loss: -0.83783\n",
      "epoch: 07, loss: -0.84458\n",
      "epoch: 08, loss: -0.85644\n",
      "epoch: 09, loss: -0.86216\n"
     ]
    },
    {
     "name": "stderr",
     "output_type": "stream",
     "text": [
      " 43%|████▎     | 431/1000 [2:48:47<3:13:00, 20.35s/it]"
     ]
    },
    {
     "name": "stdout",
     "output_type": "stream",
     "text": [
      "eigenvalues shape torch.Size([5]) eigenvectors shape torch.Size([5, 400])\n",
      "431 /home/phdcs2/Hard_Disk/Datasets/Deep-Spectral-Segmentation/data/object-segmentation/ECSSD/features/dino_vits16/0432.pth\n",
      "dict_keys(['k', 'indices', 'file', 'id', 'model_name', 'patch_size', 'shape'])\n",
      "0432\n",
      "Starting Training\n",
      "epoch: 00, loss: -0.39802\n",
      "epoch: 01, loss: -0.75009\n",
      "epoch: 02, loss: -0.73773\n",
      "epoch: 03, loss: -0.79908\n",
      "epoch: 04, loss: -0.78724\n",
      "epoch: 05, loss: -0.85006\n",
      "epoch: 06, loss: -0.88273\n",
      "epoch: 07, loss: -0.88219\n",
      "epoch: 08, loss: -0.89172\n",
      "epoch: 09, loss: -0.89696\n"
     ]
    },
    {
     "name": "stderr",
     "output_type": "stream",
     "text": [
      " 43%|████▎     | 432/1000 [2:49:07<3:11:57, 20.28s/it]"
     ]
    },
    {
     "name": "stdout",
     "output_type": "stream",
     "text": [
      "eigenvalues shape torch.Size([5]) eigenvectors shape torch.Size([5, 425])\n",
      "432 /home/phdcs2/Hard_Disk/Datasets/Deep-Spectral-Segmentation/data/object-segmentation/ECSSD/features/dino_vits16/0433.pth\n",
      "dict_keys(['k', 'indices', 'file', 'id', 'model_name', 'patch_size', 'shape'])\n",
      "0433\n",
      "Starting Training\n",
      "epoch: 00, loss: -0.59752\n",
      "epoch: 01, loss: -0.72985\n",
      "epoch: 02, loss: -0.59558\n",
      "epoch: 03, loss: -0.72181\n",
      "epoch: 04, loss: -0.76057\n",
      "epoch: 05, loss: -0.76136\n",
      "epoch: 06, loss: -0.77059\n",
      "epoch: 07, loss: -0.75416\n",
      "epoch: 08, loss: -0.77713\n",
      "epoch: 09, loss: -0.78572\n"
     ]
    },
    {
     "name": "stderr",
     "output_type": "stream",
     "text": [
      " 43%|████▎     | 433/1000 [2:49:28<3:16:03, 20.75s/it]"
     ]
    },
    {
     "name": "stdout",
     "output_type": "stream",
     "text": [
      "eigenvalues shape torch.Size([5]) eigenvectors shape torch.Size([5, 475])\n",
      "433 /home/phdcs2/Hard_Disk/Datasets/Deep-Spectral-Segmentation/data/object-segmentation/ECSSD/features/dino_vits16/0434.pth\n",
      "dict_keys(['k', 'indices', 'file', 'id', 'model_name', 'patch_size', 'shape'])\n",
      "0434\n",
      "Starting Training\n",
      "epoch: 00, loss: -0.30858\n",
      "epoch: 01, loss: -0.71036\n",
      "epoch: 02, loss: -0.78110\n",
      "epoch: 03, loss: -0.81045\n",
      "epoch: 04, loss: -0.76435\n",
      "epoch: 05, loss: -0.77668\n",
      "epoch: 06, loss: -0.79822\n",
      "epoch: 07, loss: -0.74521\n",
      "epoch: 08, loss: -0.74554\n",
      "epoch: 09, loss: -0.77162\n"
     ]
    },
    {
     "name": "stderr",
     "output_type": "stream",
     "text": [
      " 43%|████▎     | 434/1000 [2:49:48<3:11:42, 20.32s/it]"
     ]
    },
    {
     "name": "stdout",
     "output_type": "stream",
     "text": [
      "eigenvalues shape torch.Size([5]) eigenvectors shape torch.Size([5, 450])\n",
      "434 /home/phdcs2/Hard_Disk/Datasets/Deep-Spectral-Segmentation/data/object-segmentation/ECSSD/features/dino_vits16/0435.pth\n",
      "dict_keys(['k', 'indices', 'file', 'id', 'model_name', 'patch_size', 'shape'])\n",
      "0435\n",
      "Starting Training\n",
      "epoch: 00, loss: -0.54417\n",
      "epoch: 01, loss: -0.90628\n",
      "epoch: 02, loss: -0.89209\n",
      "epoch: 03, loss: -0.91104\n",
      "epoch: 04, loss: -0.90223\n",
      "epoch: 05, loss: -0.91306\n",
      "epoch: 06, loss: -0.91297\n",
      "epoch: 07, loss: -0.89478\n",
      "epoch: 08, loss: -0.85205\n",
      "epoch: 09, loss: -0.85392\n"
     ]
    },
    {
     "name": "stderr",
     "output_type": "stream",
     "text": [
      " 44%|████▎     | 435/1000 [2:50:09<3:14:00, 20.60s/it]"
     ]
    },
    {
     "name": "stdout",
     "output_type": "stream",
     "text": [
      "eigenvalues shape torch.Size([5]) eigenvectors shape torch.Size([5, 450])\n",
      "435 /home/phdcs2/Hard_Disk/Datasets/Deep-Spectral-Segmentation/data/object-segmentation/ECSSD/features/dino_vits16/0436.pth\n",
      "dict_keys(['k', 'indices', 'file', 'id', 'model_name', 'patch_size', 'shape'])\n",
      "0436\n",
      "Starting Training\n",
      "epoch: 00, loss: -0.56733\n",
      "epoch: 01, loss: -0.72529\n",
      "epoch: 02, loss: -0.77963\n",
      "epoch: 03, loss: -0.75136\n",
      "epoch: 04, loss: -0.78777\n",
      "epoch: 05, loss: -0.75837\n",
      "epoch: 06, loss: -0.74479\n",
      "epoch: 07, loss: -0.74470\n",
      "epoch: 08, loss: -0.76974\n",
      "epoch: 09, loss: -0.75923\n"
     ]
    },
    {
     "name": "stderr",
     "output_type": "stream",
     "text": [
      " 44%|████▎     | 436/1000 [2:50:32<3:19:22, 21.21s/it]"
     ]
    },
    {
     "name": "stdout",
     "output_type": "stream",
     "text": [
      "eigenvalues shape torch.Size([5]) eigenvectors shape torch.Size([5, 475])\n",
      "436 /home/phdcs2/Hard_Disk/Datasets/Deep-Spectral-Segmentation/data/object-segmentation/ECSSD/features/dino_vits16/0437.pth\n",
      "dict_keys(['k', 'indices', 'file', 'id', 'model_name', 'patch_size', 'shape'])\n",
      "0437\n",
      "Starting Training\n",
      "epoch: 00, loss: -0.50632\n",
      "epoch: 01, loss: -0.82100\n",
      "epoch: 02, loss: -0.80639\n",
      "epoch: 03, loss: -0.72631\n",
      "epoch: 04, loss: -0.70690\n",
      "epoch: 05, loss: -0.78951\n",
      "epoch: 06, loss: -0.82236\n",
      "epoch: 07, loss: -0.81468\n",
      "epoch: 08, loss: -0.82219\n",
      "epoch: 09, loss: -0.84043\n"
     ]
    },
    {
     "name": "stderr",
     "output_type": "stream",
     "text": [
      " 44%|████▎     | 437/1000 [2:50:51<3:15:01, 20.78s/it]"
     ]
    },
    {
     "name": "stdout",
     "output_type": "stream",
     "text": [
      "eigenvalues shape torch.Size([5]) eigenvectors shape torch.Size([5, 450])\n",
      "437 /home/phdcs2/Hard_Disk/Datasets/Deep-Spectral-Segmentation/data/object-segmentation/ECSSD/features/dino_vits16/0438.pth\n",
      "dict_keys(['k', 'indices', 'file', 'id', 'model_name', 'patch_size', 'shape'])\n",
      "0438\n",
      "Starting Training\n",
      "epoch: 00, loss: -0.42347\n",
      "epoch: 01, loss: -0.73479\n",
      "epoch: 02, loss: -0.74640\n",
      "epoch: 03, loss: -0.74005\n",
      "epoch: 04, loss: -0.74899\n",
      "epoch: 05, loss: -0.72376\n",
      "epoch: 06, loss: -0.74645\n",
      "epoch: 07, loss: -0.76995\n",
      "epoch: 08, loss: -0.78878\n",
      "epoch: 09, loss: -0.80776\n"
     ]
    },
    {
     "name": "stderr",
     "output_type": "stream",
     "text": [
      " 44%|████▍     | 438/1000 [2:51:12<3:14:41, 20.79s/it]"
     ]
    },
    {
     "name": "stdout",
     "output_type": "stream",
     "text": [
      "eigenvalues shape torch.Size([5]) eigenvectors shape torch.Size([5, 450])\n",
      "438 /home/phdcs2/Hard_Disk/Datasets/Deep-Spectral-Segmentation/data/object-segmentation/ECSSD/features/dino_vits16/0439.pth\n",
      "dict_keys(['k', 'indices', 'file', 'id', 'model_name', 'patch_size', 'shape'])\n",
      "0439\n",
      "Starting Training\n",
      "epoch: 00, loss: -0.62202\n",
      "epoch: 01, loss: -0.87756\n",
      "epoch: 02, loss: -0.89553\n",
      "epoch: 03, loss: -0.89177\n",
      "epoch: 04, loss: -0.89549\n",
      "epoch: 05, loss: -0.87327\n",
      "epoch: 06, loss: -0.79216\n",
      "epoch: 07, loss: -0.74469\n",
      "epoch: 08, loss: -0.78934\n",
      "epoch: 09, loss: -0.77429\n"
     ]
    },
    {
     "name": "stderr",
     "output_type": "stream",
     "text": [
      " 44%|████▍     | 439/1000 [2:51:40<3:33:36, 22.85s/it]"
     ]
    },
    {
     "name": "stdout",
     "output_type": "stream",
     "text": [
      "eigenvalues shape torch.Size([5]) eigenvectors shape torch.Size([5, 575])\n",
      "439 /home/phdcs2/Hard_Disk/Datasets/Deep-Spectral-Segmentation/data/object-segmentation/ECSSD/features/dino_vits16/0440.pth\n",
      "dict_keys(['k', 'indices', 'file', 'id', 'model_name', 'patch_size', 'shape'])\n",
      "0440\n",
      "Starting Training\n",
      "epoch: 00, loss: -0.43562\n",
      "epoch: 01, loss: -0.68143\n",
      "epoch: 02, loss: -0.75182\n",
      "epoch: 03, loss: -0.79262\n",
      "epoch: 04, loss: -0.82367\n",
      "epoch: 05, loss: -0.79843\n",
      "epoch: 06, loss: -0.80588\n",
      "epoch: 07, loss: -0.78814\n",
      "epoch: 08, loss: -0.81896\n",
      "epoch: 09, loss: -0.82655\n"
     ]
    },
    {
     "name": "stderr",
     "output_type": "stream",
     "text": [
      " 44%|████▍     | 440/1000 [2:52:00<3:25:15, 21.99s/it]"
     ]
    },
    {
     "name": "stdout",
     "output_type": "stream",
     "text": [
      "eigenvalues shape torch.Size([5]) eigenvectors shape torch.Size([5, 450])\n",
      "440 /home/phdcs2/Hard_Disk/Datasets/Deep-Spectral-Segmentation/data/object-segmentation/ECSSD/features/dino_vits16/0441.pth\n",
      "dict_keys(['k', 'indices', 'file', 'id', 'model_name', 'patch_size', 'shape'])\n",
      "0441\n",
      "Starting Training\n",
      "epoch: 00, loss: -0.28434\n",
      "epoch: 01, loss: -0.68779\n",
      "epoch: 02, loss: -0.75200\n",
      "epoch: 03, loss: -0.72672\n",
      "epoch: 04, loss: -0.72593\n",
      "epoch: 05, loss: -0.73549\n",
      "epoch: 06, loss: -0.73649\n",
      "epoch: 07, loss: -0.75560\n",
      "epoch: 08, loss: -0.75849\n",
      "epoch: 09, loss: -0.76554\n"
     ]
    },
    {
     "name": "stderr",
     "output_type": "stream",
     "text": [
      " 44%|████▍     | 441/1000 [2:52:21<3:22:45, 21.76s/it]"
     ]
    },
    {
     "name": "stdout",
     "output_type": "stream",
     "text": [
      "eigenvalues shape torch.Size([5]) eigenvectors shape torch.Size([5, 450])\n",
      "441 /home/phdcs2/Hard_Disk/Datasets/Deep-Spectral-Segmentation/data/object-segmentation/ECSSD/features/dino_vits16/0442.pth\n",
      "dict_keys(['k', 'indices', 'file', 'id', 'model_name', 'patch_size', 'shape'])\n",
      "0442\n",
      "Starting Training\n",
      "epoch: 00, loss: -0.37016\n",
      "epoch: 01, loss: -0.69494\n",
      "epoch: 02, loss: -0.70755\n",
      "epoch: 03, loss: -0.70430\n",
      "epoch: 04, loss: -0.73005\n",
      "epoch: 05, loss: -0.75114\n",
      "epoch: 06, loss: -0.76457\n",
      "epoch: 07, loss: -0.75382\n",
      "epoch: 08, loss: -0.74991\n",
      "epoch: 09, loss: -0.74987\n"
     ]
    },
    {
     "name": "stderr",
     "output_type": "stream",
     "text": [
      " 44%|████▍     | 442/1000 [2:52:43<3:21:48, 21.70s/it]"
     ]
    },
    {
     "name": "stdout",
     "output_type": "stream",
     "text": [
      "eigenvalues shape torch.Size([5]) eigenvectors shape torch.Size([5, 475])\n",
      "442 /home/phdcs2/Hard_Disk/Datasets/Deep-Spectral-Segmentation/data/object-segmentation/ECSSD/features/dino_vits16/0443.pth\n",
      "dict_keys(['k', 'indices', 'file', 'id', 'model_name', 'patch_size', 'shape'])\n",
      "0443\n",
      "Starting Training\n",
      "epoch: 00, loss: -0.39917\n",
      "epoch: 01, loss: -0.71930\n",
      "epoch: 02, loss: -0.72195\n",
      "epoch: 03, loss: -0.73952\n",
      "epoch: 04, loss: -0.75130\n",
      "epoch: 05, loss: -0.75821\n",
      "epoch: 06, loss: -0.75758\n",
      "epoch: 07, loss: -0.76000\n",
      "epoch: 08, loss: -0.76362\n",
      "epoch: 09, loss: -0.76545\n"
     ]
    },
    {
     "name": "stderr",
     "output_type": "stream",
     "text": [
      " 44%|████▍     | 443/1000 [2:53:03<3:16:32, 21.17s/it]"
     ]
    },
    {
     "name": "stdout",
     "output_type": "stream",
     "text": [
      "eigenvalues shape torch.Size([5]) eigenvectors shape torch.Size([5, 450])\n",
      "443 /home/phdcs2/Hard_Disk/Datasets/Deep-Spectral-Segmentation/data/object-segmentation/ECSSD/features/dino_vits16/0444.pth\n",
      "dict_keys(['k', 'indices', 'file', 'id', 'model_name', 'patch_size', 'shape'])\n",
      "0444\n",
      "Starting Training\n",
      "epoch: 00, loss: -0.25333\n",
      "epoch: 01, loss: -0.70231\n",
      "epoch: 02, loss: -0.82203\n",
      "epoch: 03, loss: -0.84633\n",
      "epoch: 04, loss: -0.86007\n",
      "epoch: 05, loss: -0.86172\n",
      "epoch: 06, loss: -0.85858\n",
      "epoch: 07, loss: -0.84750\n",
      "epoch: 08, loss: -0.86708\n",
      "epoch: 09, loss: -0.86452\n"
     ]
    },
    {
     "name": "stderr",
     "output_type": "stream",
     "text": [
      " 44%|████▍     | 444/1000 [2:53:24<3:16:25, 21.20s/it]"
     ]
    },
    {
     "name": "stdout",
     "output_type": "stream",
     "text": [
      "eigenvalues shape torch.Size([5]) eigenvectors shape torch.Size([5, 450])\n",
      "444 /home/phdcs2/Hard_Disk/Datasets/Deep-Spectral-Segmentation/data/object-segmentation/ECSSD/features/dino_vits16/0445.pth\n",
      "dict_keys(['k', 'indices', 'file', 'id', 'model_name', 'patch_size', 'shape'])\n",
      "0445\n",
      "Starting Training\n",
      "epoch: 00, loss: -0.47123\n",
      "epoch: 01, loss: -0.86011\n",
      "epoch: 02, loss: -0.86302\n",
      "epoch: 03, loss: -0.86918\n",
      "epoch: 04, loss: -0.87195\n",
      "epoch: 05, loss: -0.81943\n",
      "epoch: 06, loss: -0.78549\n",
      "epoch: 07, loss: -0.79236\n",
      "epoch: 08, loss: -0.76866\n",
      "epoch: 09, loss: -0.77648\n"
     ]
    },
    {
     "name": "stderr",
     "output_type": "stream",
     "text": [
      " 44%|████▍     | 445/1000 [2:53:42<3:08:45, 20.41s/it]"
     ]
    },
    {
     "name": "stdout",
     "output_type": "stream",
     "text": [
      "eigenvalues shape torch.Size([5]) eigenvectors shape torch.Size([5, 400])\n",
      "445 /home/phdcs2/Hard_Disk/Datasets/Deep-Spectral-Segmentation/data/object-segmentation/ECSSD/features/dino_vits16/0446.pth\n",
      "dict_keys(['k', 'indices', 'file', 'id', 'model_name', 'patch_size', 'shape'])\n",
      "0446\n",
      "Starting Training\n",
      "epoch: 00, loss: -0.52926\n",
      "epoch: 01, loss: -0.76227\n",
      "epoch: 02, loss: -0.77391\n",
      "epoch: 03, loss: -0.71500\n",
      "epoch: 04, loss: -0.73411\n",
      "epoch: 05, loss: -0.79052\n",
      "epoch: 06, loss: -0.80629\n",
      "epoch: 07, loss: -0.80211\n",
      "epoch: 08, loss: -0.81391\n",
      "epoch: 09, loss: -0.80855\n"
     ]
    },
    {
     "name": "stderr",
     "output_type": "stream",
     "text": [
      " 45%|████▍     | 446/1000 [2:54:03<3:09:08, 20.48s/it]"
     ]
    },
    {
     "name": "stdout",
     "output_type": "stream",
     "text": [
      "eigenvalues shape torch.Size([5]) eigenvectors shape torch.Size([5, 400])\n",
      "446 /home/phdcs2/Hard_Disk/Datasets/Deep-Spectral-Segmentation/data/object-segmentation/ECSSD/features/dino_vits16/0447.pth\n",
      "dict_keys(['k', 'indices', 'file', 'id', 'model_name', 'patch_size', 'shape'])\n",
      "0447\n",
      "Starting Training\n",
      "epoch: 00, loss: -0.34074\n",
      "epoch: 01, loss: -0.74683\n",
      "epoch: 02, loss: -0.82129\n",
      "epoch: 03, loss: -0.80512\n",
      "epoch: 04, loss: -0.83310\n",
      "epoch: 05, loss: -0.81200\n",
      "epoch: 06, loss: -0.81731\n",
      "epoch: 07, loss: -0.81246\n",
      "epoch: 08, loss: -0.82904\n",
      "epoch: 09, loss: -0.81477\n"
     ]
    },
    {
     "name": "stderr",
     "output_type": "stream",
     "text": [
      " 45%|████▍     | 447/1000 [2:54:20<2:57:52, 19.30s/it]"
     ]
    },
    {
     "name": "stdout",
     "output_type": "stream",
     "text": [
      "eigenvalues shape torch.Size([5]) eigenvectors shape torch.Size([5, 400])\n",
      "447 /home/phdcs2/Hard_Disk/Datasets/Deep-Spectral-Segmentation/data/object-segmentation/ECSSD/features/dino_vits16/0448.pth\n",
      "dict_keys(['k', 'indices', 'file', 'id', 'model_name', 'patch_size', 'shape'])\n",
      "0448\n",
      "Starting Training\n",
      "epoch: 00, loss: -0.40509\n",
      "epoch: 01, loss: -0.72752\n",
      "epoch: 02, loss: -0.68529\n",
      "epoch: 03, loss: -0.66327\n",
      "epoch: 04, loss: -0.67647\n",
      "epoch: 05, loss: -0.69891\n",
      "epoch: 06, loss: -0.73279\n",
      "epoch: 07, loss: -0.76402\n",
      "epoch: 08, loss: -0.77562\n",
      "epoch: 09, loss: -0.78578\n"
     ]
    },
    {
     "name": "stderr",
     "output_type": "stream",
     "text": [
      " 45%|████▍     | 448/1000 [2:54:36<2:49:34, 18.43s/it]"
     ]
    },
    {
     "name": "stdout",
     "output_type": "stream",
     "text": [
      "eigenvalues shape torch.Size([5]) eigenvectors shape torch.Size([5, 350])\n",
      "448 /home/phdcs2/Hard_Disk/Datasets/Deep-Spectral-Segmentation/data/object-segmentation/ECSSD/features/dino_vits16/0449.pth\n",
      "dict_keys(['k', 'indices', 'file', 'id', 'model_name', 'patch_size', 'shape'])\n",
      "0449\n",
      "Starting Training\n",
      "epoch: 00, loss: -0.57582\n",
      "epoch: 01, loss: -0.82463\n",
      "epoch: 02, loss: -0.74125\n",
      "epoch: 03, loss: -0.88302\n",
      "epoch: 04, loss: -0.90443\n",
      "epoch: 05, loss: -0.90247\n",
      "epoch: 06, loss: -0.86483\n",
      "epoch: 07, loss: -0.85764\n",
      "epoch: 08, loss: -0.84098\n",
      "epoch: 09, loss: -0.85298\n"
     ]
    },
    {
     "name": "stderr",
     "output_type": "stream",
     "text": [
      " 45%|████▍     | 449/1000 [2:54:58<3:00:03, 19.61s/it]"
     ]
    },
    {
     "name": "stdout",
     "output_type": "stream",
     "text": [
      "eigenvalues shape torch.Size([5]) eigenvectors shape torch.Size([5, 475])\n",
      "449 /home/phdcs2/Hard_Disk/Datasets/Deep-Spectral-Segmentation/data/object-segmentation/ECSSD/features/dino_vits16/0450.pth\n",
      "dict_keys(['k', 'indices', 'file', 'id', 'model_name', 'patch_size', 'shape'])\n",
      "0450\n",
      "Starting Training\n",
      "epoch: 00, loss: -0.32973\n",
      "epoch: 01, loss: -0.70743\n",
      "epoch: 02, loss: -0.82336\n",
      "epoch: 03, loss: -0.83776\n",
      "epoch: 04, loss: -0.86969\n",
      "epoch: 05, loss: -0.86839\n",
      "epoch: 06, loss: -0.82917\n",
      "epoch: 07, loss: -0.80971\n",
      "epoch: 08, loss: -0.76815\n",
      "epoch: 09, loss: -0.68671\n"
     ]
    },
    {
     "name": "stderr",
     "output_type": "stream",
     "text": [
      " 45%|████▌     | 450/1000 [2:55:17<2:57:50, 19.40s/it]"
     ]
    },
    {
     "name": "stdout",
     "output_type": "stream",
     "text": [
      "eigenvalues shape torch.Size([5]) eigenvectors shape torch.Size([5, 400])\n",
      "450 /home/phdcs2/Hard_Disk/Datasets/Deep-Spectral-Segmentation/data/object-segmentation/ECSSD/features/dino_vits16/0451.pth\n",
      "dict_keys(['k', 'indices', 'file', 'id', 'model_name', 'patch_size', 'shape'])\n",
      "0451\n",
      "Starting Training\n",
      "epoch: 00, loss: -0.37770\n",
      "epoch: 01, loss: -0.66150\n",
      "epoch: 02, loss: -0.65682\n",
      "epoch: 03, loss: -0.74106\n",
      "epoch: 04, loss: -0.76224\n",
      "epoch: 05, loss: -0.78711\n",
      "epoch: 06, loss: -0.78406\n",
      "epoch: 07, loss: -0.80653\n",
      "epoch: 08, loss: -0.80611\n",
      "epoch: 09, loss: -0.82447\n"
     ]
    },
    {
     "name": "stderr",
     "output_type": "stream",
     "text": [
      " 45%|████▌     | 451/1000 [2:55:37<2:57:06, 19.36s/it]"
     ]
    },
    {
     "name": "stdout",
     "output_type": "stream",
     "text": [
      "eigenvalues shape torch.Size([5]) eigenvectors shape torch.Size([5, 450])\n",
      "451 /home/phdcs2/Hard_Disk/Datasets/Deep-Spectral-Segmentation/data/object-segmentation/ECSSD/features/dino_vits16/0452.pth\n",
      "dict_keys(['k', 'indices', 'file', 'id', 'model_name', 'patch_size', 'shape'])\n",
      "0452\n",
      "Starting Training\n",
      "epoch: 00, loss: -0.47412\n",
      "epoch: 01, loss: -0.76447\n",
      "epoch: 02, loss: -0.90259\n",
      "epoch: 03, loss: -0.88380\n",
      "epoch: 04, loss: -0.88736\n",
      "epoch: 05, loss: -0.87004\n",
      "epoch: 06, loss: -0.89565\n",
      "epoch: 07, loss: -0.85610\n",
      "epoch: 08, loss: -0.86783\n",
      "epoch: 09, loss: -0.84820\n"
     ]
    },
    {
     "name": "stderr",
     "output_type": "stream",
     "text": [
      " 45%|████▌     | 452/1000 [2:55:58<3:01:25, 19.86s/it]"
     ]
    },
    {
     "name": "stdout",
     "output_type": "stream",
     "text": [
      "eigenvalues shape torch.Size([5]) eigenvectors shape torch.Size([5, 475])\n",
      "452 /home/phdcs2/Hard_Disk/Datasets/Deep-Spectral-Segmentation/data/object-segmentation/ECSSD/features/dino_vits16/0453.pth\n",
      "dict_keys(['k', 'indices', 'file', 'id', 'model_name', 'patch_size', 'shape'])\n",
      "0453\n",
      "Starting Training\n",
      "epoch: 00, loss: -0.56855\n",
      "epoch: 01, loss: -0.84457\n",
      "epoch: 02, loss: -0.82252\n",
      "epoch: 03, loss: -0.82864\n",
      "epoch: 04, loss: -0.84131\n",
      "epoch: 05, loss: -0.82698\n",
      "epoch: 06, loss: -0.84730\n",
      "epoch: 07, loss: -0.84732\n",
      "epoch: 08, loss: -0.87455\n",
      "epoch: 09, loss: -0.86502\n"
     ]
    },
    {
     "name": "stderr",
     "output_type": "stream",
     "text": [
      " 45%|████▌     | 453/1000 [2:56:17<2:58:34, 19.59s/it]"
     ]
    },
    {
     "name": "stdout",
     "output_type": "stream",
     "text": [
      "eigenvalues shape torch.Size([5]) eigenvectors shape torch.Size([5, 400])\n",
      "453 /home/phdcs2/Hard_Disk/Datasets/Deep-Spectral-Segmentation/data/object-segmentation/ECSSD/features/dino_vits16/0454.pth\n",
      "dict_keys(['k', 'indices', 'file', 'id', 'model_name', 'patch_size', 'shape'])\n",
      "0454\n",
      "Starting Training\n",
      "epoch: 00, loss: -0.50104\n",
      "epoch: 01, loss: -0.71400\n",
      "epoch: 02, loss: -0.71007\n",
      "epoch: 03, loss: -0.72451\n",
      "epoch: 04, loss: -0.73716\n",
      "epoch: 05, loss: -0.73137\n",
      "epoch: 06, loss: -0.76019\n",
      "epoch: 07, loss: -0.71786\n",
      "epoch: 08, loss: -0.74952\n",
      "epoch: 09, loss: -0.73979\n"
     ]
    },
    {
     "name": "stderr",
     "output_type": "stream",
     "text": [
      " 45%|████▌     | 454/1000 [2:56:33<2:49:55, 18.67s/it]"
     ]
    },
    {
     "name": "stdout",
     "output_type": "stream",
     "text": [
      "eigenvalues shape torch.Size([5]) eigenvectors shape torch.Size([5, 400])\n",
      "454 /home/phdcs2/Hard_Disk/Datasets/Deep-Spectral-Segmentation/data/object-segmentation/ECSSD/features/dino_vits16/0455.pth\n",
      "dict_keys(['k', 'indices', 'file', 'id', 'model_name', 'patch_size', 'shape'])\n",
      "0455\n",
      "Starting Training\n",
      "epoch: 00, loss: -0.57585\n",
      "epoch: 01, loss: -0.83296\n",
      "epoch: 02, loss: -0.83924\n",
      "epoch: 03, loss: -0.82283\n",
      "epoch: 04, loss: -0.82368\n",
      "epoch: 05, loss: -0.81474\n",
      "epoch: 06, loss: -0.84717\n",
      "epoch: 07, loss: -0.85832\n",
      "epoch: 08, loss: -0.84940\n",
      "epoch: 09, loss: -0.85215\n"
     ]
    },
    {
     "name": "stderr",
     "output_type": "stream",
     "text": [
      " 46%|████▌     | 455/1000 [2:56:52<2:51:11, 18.85s/it]"
     ]
    },
    {
     "name": "stdout",
     "output_type": "stream",
     "text": [
      "eigenvalues shape torch.Size([5]) eigenvectors shape torch.Size([5, 400])\n",
      "455 /home/phdcs2/Hard_Disk/Datasets/Deep-Spectral-Segmentation/data/object-segmentation/ECSSD/features/dino_vits16/0456.pth\n",
      "dict_keys(['k', 'indices', 'file', 'id', 'model_name', 'patch_size', 'shape'])\n",
      "0456\n",
      "Starting Training\n",
      "epoch: 00, loss: -0.39486\n",
      "epoch: 01, loss: -0.71779\n",
      "epoch: 02, loss: -0.69497\n",
      "epoch: 03, loss: -0.76019\n",
      "epoch: 04, loss: -0.76557\n",
      "epoch: 05, loss: -0.75797\n",
      "epoch: 06, loss: -0.75667\n",
      "epoch: 07, loss: -0.76966\n",
      "epoch: 08, loss: -0.76034\n",
      "epoch: 09, loss: -0.77346\n"
     ]
    },
    {
     "name": "stderr",
     "output_type": "stream",
     "text": [
      " 46%|████▌     | 456/1000 [2:57:12<2:53:10, 19.10s/it]"
     ]
    },
    {
     "name": "stdout",
     "output_type": "stream",
     "text": [
      "eigenvalues shape torch.Size([5]) eigenvectors shape torch.Size([5, 425])\n",
      "456 /home/phdcs2/Hard_Disk/Datasets/Deep-Spectral-Segmentation/data/object-segmentation/ECSSD/features/dino_vits16/0457.pth\n",
      "dict_keys(['k', 'indices', 'file', 'id', 'model_name', 'patch_size', 'shape'])\n",
      "0457\n",
      "Starting Training\n",
      "epoch: 00, loss: -0.43431\n",
      "epoch: 01, loss: -0.76988\n",
      "epoch: 02, loss: -0.78684\n",
      "epoch: 03, loss: -0.80438\n",
      "epoch: 04, loss: -0.83539\n",
      "epoch: 05, loss: -0.83752\n",
      "epoch: 06, loss: -0.82440\n",
      "epoch: 07, loss: -0.83347\n",
      "epoch: 08, loss: -0.83879\n",
      "epoch: 09, loss: -0.82817\n"
     ]
    },
    {
     "name": "stderr",
     "output_type": "stream",
     "text": [
      " 46%|████▌     | 457/1000 [2:57:31<2:53:00, 19.12s/it]"
     ]
    },
    {
     "name": "stdout",
     "output_type": "stream",
     "text": [
      "eigenvalues shape torch.Size([5]) eigenvectors shape torch.Size([5, 400])\n",
      "457 /home/phdcs2/Hard_Disk/Datasets/Deep-Spectral-Segmentation/data/object-segmentation/ECSSD/features/dino_vits16/0458.pth\n",
      "dict_keys(['k', 'indices', 'file', 'id', 'model_name', 'patch_size', 'shape'])\n",
      "0458\n",
      "Starting Training\n",
      "epoch: 00, loss: -0.30319\n",
      "epoch: 01, loss: -0.55156\n",
      "epoch: 02, loss: -0.63228\n",
      "epoch: 03, loss: -0.68463\n",
      "epoch: 04, loss: -0.71592\n",
      "epoch: 05, loss: -0.75100\n",
      "epoch: 06, loss: -0.77356\n",
      "epoch: 07, loss: -0.78500\n",
      "epoch: 08, loss: -0.79554\n",
      "epoch: 09, loss: -0.80715\n"
     ]
    },
    {
     "name": "stderr",
     "output_type": "stream",
     "text": [
      " 46%|████▌     | 458/1000 [2:57:51<2:54:29, 19.32s/it]"
     ]
    },
    {
     "name": "stdout",
     "output_type": "stream",
     "text": [
      "eigenvalues shape torch.Size([5]) eigenvectors shape torch.Size([5, 450])\n",
      "458 /home/phdcs2/Hard_Disk/Datasets/Deep-Spectral-Segmentation/data/object-segmentation/ECSSD/features/dino_vits16/0459.pth\n",
      "dict_keys(['k', 'indices', 'file', 'id', 'model_name', 'patch_size', 'shape'])\n",
      "0459\n",
      "Starting Training\n",
      "epoch: 00, loss: -0.61483\n",
      "epoch: 01, loss: -0.78736\n",
      "epoch: 02, loss: -0.68907\n",
      "epoch: 03, loss: -0.67387\n",
      "epoch: 04, loss: -0.74346\n",
      "epoch: 05, loss: -0.78536\n",
      "epoch: 06, loss: -0.82466\n",
      "epoch: 07, loss: -0.81675\n",
      "epoch: 08, loss: -0.82908\n",
      "epoch: 09, loss: -0.83911\n"
     ]
    },
    {
     "name": "stderr",
     "output_type": "stream",
     "text": [
      " 46%|████▌     | 459/1000 [2:58:10<2:53:20, 19.22s/it]"
     ]
    },
    {
     "name": "stdout",
     "output_type": "stream",
     "text": [
      "eigenvalues shape torch.Size([5]) eigenvectors shape torch.Size([5, 400])\n",
      "459 /home/phdcs2/Hard_Disk/Datasets/Deep-Spectral-Segmentation/data/object-segmentation/ECSSD/features/dino_vits16/0460.pth\n",
      "dict_keys(['k', 'indices', 'file', 'id', 'model_name', 'patch_size', 'shape'])\n",
      "0460\n",
      "Starting Training\n",
      "epoch: 00, loss: -0.34508\n",
      "epoch: 01, loss: -0.68706\n",
      "epoch: 02, loss: -0.71798\n",
      "epoch: 03, loss: -0.76858\n",
      "epoch: 04, loss: -0.80342\n",
      "epoch: 05, loss: -0.78866\n",
      "epoch: 06, loss: -0.80398\n",
      "epoch: 07, loss: -0.81303\n",
      "epoch: 08, loss: -0.82572\n",
      "epoch: 09, loss: -0.82554\n"
     ]
    },
    {
     "name": "stderr",
     "output_type": "stream",
     "text": [
      " 46%|████▌     | 460/1000 [2:58:31<2:59:04, 19.90s/it]"
     ]
    },
    {
     "name": "stdout",
     "output_type": "stream",
     "text": [
      "eigenvalues shape torch.Size([5]) eigenvectors shape torch.Size([5, 450])\n",
      "460 /home/phdcs2/Hard_Disk/Datasets/Deep-Spectral-Segmentation/data/object-segmentation/ECSSD/features/dino_vits16/0461.pth\n",
      "dict_keys(['k', 'indices', 'file', 'id', 'model_name', 'patch_size', 'shape'])\n",
      "0461\n",
      "Starting Training\n",
      "epoch: 00, loss: -0.30166\n",
      "epoch: 01, loss: -0.62197\n",
      "epoch: 02, loss: -0.69566\n",
      "epoch: 03, loss: -0.72516\n",
      "epoch: 04, loss: -0.74708\n",
      "epoch: 05, loss: -0.73208\n",
      "epoch: 06, loss: -0.75133\n",
      "epoch: 07, loss: -0.75314\n",
      "epoch: 08, loss: -0.76033\n",
      "epoch: 09, loss: -0.76051\n"
     ]
    },
    {
     "name": "stderr",
     "output_type": "stream",
     "text": [
      " 46%|████▌     | 461/1000 [2:58:50<2:54:49, 19.46s/it]"
     ]
    },
    {
     "name": "stdout",
     "output_type": "stream",
     "text": [
      "eigenvalues shape torch.Size([5]) eigenvectors shape torch.Size([5, 450])\n",
      "461 /home/phdcs2/Hard_Disk/Datasets/Deep-Spectral-Segmentation/data/object-segmentation/ECSSD/features/dino_vits16/0462.pth\n",
      "dict_keys(['k', 'indices', 'file', 'id', 'model_name', 'patch_size', 'shape'])\n",
      "0462\n",
      "Starting Training\n",
      "epoch: 00, loss: -0.58587\n",
      "epoch: 01, loss: -0.69453\n",
      "epoch: 02, loss: -0.66644\n",
      "epoch: 03, loss: -0.67462\n",
      "epoch: 04, loss: -0.67774\n",
      "epoch: 05, loss: -0.73522\n",
      "epoch: 06, loss: -0.76587\n",
      "epoch: 07, loss: -0.75876\n",
      "epoch: 08, loss: -0.76766\n",
      "epoch: 09, loss: -0.77919\n"
     ]
    },
    {
     "name": "stderr",
     "output_type": "stream",
     "text": [
      " 46%|████▌     | 462/1000 [2:59:09<2:53:24, 19.34s/it]"
     ]
    },
    {
     "name": "stdout",
     "output_type": "stream",
     "text": [
      "eigenvalues shape torch.Size([5]) eigenvectors shape torch.Size([5, 400])\n",
      "462 /home/phdcs2/Hard_Disk/Datasets/Deep-Spectral-Segmentation/data/object-segmentation/ECSSD/features/dino_vits16/0463.pth\n",
      "dict_keys(['k', 'indices', 'file', 'id', 'model_name', 'patch_size', 'shape'])\n",
      "0463\n",
      "Starting Training\n",
      "epoch: 00, loss: -0.50317\n",
      "epoch: 01, loss: -0.70871\n",
      "epoch: 02, loss: -0.75458\n",
      "epoch: 03, loss: -0.76806\n",
      "epoch: 04, loss: -0.73882\n",
      "epoch: 05, loss: -0.67698\n",
      "epoch: 06, loss: -0.72949\n",
      "epoch: 07, loss: -0.75918\n",
      "epoch: 08, loss: -0.78608\n",
      "epoch: 09, loss: -0.79251\n"
     ]
    },
    {
     "name": "stderr",
     "output_type": "stream",
     "text": [
      " 46%|████▋     | 463/1000 [2:59:29<2:55:32, 19.61s/it]"
     ]
    },
    {
     "name": "stdout",
     "output_type": "stream",
     "text": [
      "eigenvalues shape torch.Size([5]) eigenvectors shape torch.Size([5, 450])\n",
      "463 /home/phdcs2/Hard_Disk/Datasets/Deep-Spectral-Segmentation/data/object-segmentation/ECSSD/features/dino_vits16/0464.pth\n",
      "dict_keys(['k', 'indices', 'file', 'id', 'model_name', 'patch_size', 'shape'])\n",
      "0464\n",
      "Starting Training\n",
      "epoch: 00, loss: -0.60259\n",
      "epoch: 01, loss: -0.86627\n",
      "epoch: 02, loss: -0.88048\n",
      "epoch: 03, loss: -0.86059\n",
      "epoch: 04, loss: -0.86594\n",
      "epoch: 05, loss: -0.86266\n",
      "epoch: 06, loss: -0.87537\n",
      "epoch: 07, loss: -0.87901\n",
      "epoch: 08, loss: -0.88711\n",
      "epoch: 09, loss: -0.89507\n"
     ]
    },
    {
     "name": "stderr",
     "output_type": "stream",
     "text": [
      " 46%|████▋     | 464/1000 [2:59:51<2:59:44, 20.12s/it]"
     ]
    },
    {
     "name": "stdout",
     "output_type": "stream",
     "text": [
      "eigenvalues shape torch.Size([5]) eigenvectors shape torch.Size([5, 450])\n",
      "464 /home/phdcs2/Hard_Disk/Datasets/Deep-Spectral-Segmentation/data/object-segmentation/ECSSD/features/dino_vits16/0465.pth\n",
      "dict_keys(['k', 'indices', 'file', 'id', 'model_name', 'patch_size', 'shape'])\n",
      "0465\n",
      "Starting Training\n",
      "epoch: 00, loss: -0.42084\n",
      "epoch: 01, loss: -0.75440\n",
      "epoch: 02, loss: -0.80504\n",
      "epoch: 03, loss: -0.84690\n",
      "epoch: 04, loss: -0.85304\n",
      "epoch: 05, loss: -0.86528\n",
      "epoch: 06, loss: -0.86555\n",
      "epoch: 07, loss: -0.87854\n",
      "epoch: 08, loss: -0.90250\n",
      "epoch: 09, loss: -0.89511\n"
     ]
    },
    {
     "name": "stderr",
     "output_type": "stream",
     "text": [
      " 46%|████▋     | 465/1000 [3:00:10<2:58:45, 20.05s/it]"
     ]
    },
    {
     "name": "stdout",
     "output_type": "stream",
     "text": [
      "eigenvalues shape torch.Size([5]) eigenvectors shape torch.Size([5, 450])\n",
      "465 /home/phdcs2/Hard_Disk/Datasets/Deep-Spectral-Segmentation/data/object-segmentation/ECSSD/features/dino_vits16/0466.pth\n",
      "dict_keys(['k', 'indices', 'file', 'id', 'model_name', 'patch_size', 'shape'])\n",
      "0466\n",
      "Starting Training\n",
      "epoch: 00, loss: -0.30275\n",
      "epoch: 01, loss: -0.57908\n",
      "epoch: 02, loss: -0.63245\n",
      "epoch: 03, loss: -0.62697\n",
      "epoch: 04, loss: -0.64128\n",
      "epoch: 05, loss: -0.65280\n",
      "epoch: 06, loss: -0.68775\n",
      "epoch: 07, loss: -0.69951\n",
      "epoch: 08, loss: -0.71268\n",
      "epoch: 09, loss: -0.74316\n"
     ]
    },
    {
     "name": "stderr",
     "output_type": "stream",
     "text": [
      " 47%|████▋     | 466/1000 [3:00:29<2:54:49, 19.64s/it]"
     ]
    },
    {
     "name": "stdout",
     "output_type": "stream",
     "text": [
      "eigenvalues shape torch.Size([5]) eigenvectors shape torch.Size([5, 400])\n",
      "466 /home/phdcs2/Hard_Disk/Datasets/Deep-Spectral-Segmentation/data/object-segmentation/ECSSD/features/dino_vits16/0467.pth\n",
      "dict_keys(['k', 'indices', 'file', 'id', 'model_name', 'patch_size', 'shape'])\n",
      "0467\n",
      "Starting Training\n",
      "epoch: 00, loss: -0.32609\n",
      "epoch: 01, loss: -0.72503\n",
      "epoch: 02, loss: -0.72099\n",
      "epoch: 03, loss: -0.75814\n",
      "epoch: 04, loss: -0.77684\n",
      "epoch: 05, loss: -0.78818\n",
      "epoch: 06, loss: -0.80552\n",
      "epoch: 07, loss: -0.80063\n",
      "epoch: 08, loss: -0.80255\n",
      "epoch: 09, loss: -0.82122\n"
     ]
    },
    {
     "name": "stderr",
     "output_type": "stream",
     "text": [
      " 47%|████▋     | 467/1000 [3:00:49<2:55:53, 19.80s/it]"
     ]
    },
    {
     "name": "stdout",
     "output_type": "stream",
     "text": [
      "eigenvalues shape torch.Size([5]) eigenvectors shape torch.Size([5, 425])\n",
      "467 /home/phdcs2/Hard_Disk/Datasets/Deep-Spectral-Segmentation/data/object-segmentation/ECSSD/features/dino_vits16/0468.pth\n",
      "dict_keys(['k', 'indices', 'file', 'id', 'model_name', 'patch_size', 'shape'])\n",
      "0468\n",
      "Starting Training\n",
      "epoch: 00, loss: -0.36316\n",
      "epoch: 01, loss: -0.57399\n",
      "epoch: 02, loss: -0.66405\n",
      "epoch: 03, loss: -0.65566\n",
      "epoch: 04, loss: -0.65253\n",
      "epoch: 05, loss: -0.76444\n",
      "epoch: 06, loss: -0.79311\n",
      "epoch: 07, loss: -0.80630\n",
      "epoch: 08, loss: -0.80544\n",
      "epoch: 09, loss: -0.81705\n"
     ]
    },
    {
     "name": "stderr",
     "output_type": "stream",
     "text": [
      " 47%|████▋     | 468/1000 [3:01:10<2:58:28, 20.13s/it]"
     ]
    },
    {
     "name": "stdout",
     "output_type": "stream",
     "text": [
      "eigenvalues shape torch.Size([5]) eigenvectors shape torch.Size([5, 450])\n",
      "468 /home/phdcs2/Hard_Disk/Datasets/Deep-Spectral-Segmentation/data/object-segmentation/ECSSD/features/dino_vits16/0469.pth\n",
      "dict_keys(['k', 'indices', 'file', 'id', 'model_name', 'patch_size', 'shape'])\n",
      "0469\n",
      "Starting Training\n",
      "epoch: 00, loss: -0.44433\n",
      "epoch: 01, loss: -0.66593\n",
      "epoch: 02, loss: -0.77466\n",
      "epoch: 03, loss: -0.73767\n",
      "epoch: 04, loss: -0.72580\n",
      "epoch: 05, loss: -0.69755\n",
      "epoch: 06, loss: -0.69567\n",
      "epoch: 07, loss: -0.72141\n",
      "epoch: 08, loss: -0.73403\n",
      "epoch: 09, loss: -0.81511\n"
     ]
    },
    {
     "name": "stderr",
     "output_type": "stream",
     "text": [
      " 47%|████▋     | 469/1000 [3:01:28<2:52:52, 19.53s/it]"
     ]
    },
    {
     "name": "stdout",
     "output_type": "stream",
     "text": [
      "eigenvalues shape torch.Size([5]) eigenvectors shape torch.Size([5, 400])\n",
      "469 /home/phdcs2/Hard_Disk/Datasets/Deep-Spectral-Segmentation/data/object-segmentation/ECSSD/features/dino_vits16/0470.pth\n",
      "dict_keys(['k', 'indices', 'file', 'id', 'model_name', 'patch_size', 'shape'])\n",
      "0470\n",
      "Starting Training\n",
      "epoch: 00, loss: -0.31864\n",
      "epoch: 01, loss: -0.69926\n",
      "epoch: 02, loss: -0.78175\n",
      "epoch: 03, loss: -0.78191\n",
      "epoch: 04, loss: -0.76720\n",
      "epoch: 05, loss: -0.76780\n",
      "epoch: 06, loss: -0.80725\n",
      "epoch: 07, loss: -0.81596\n",
      "epoch: 08, loss: -0.81315\n",
      "epoch: 09, loss: -0.80653\n"
     ]
    },
    {
     "name": "stderr",
     "output_type": "stream",
     "text": [
      " 47%|████▋     | 470/1000 [3:01:47<2:50:52, 19.34s/it]"
     ]
    },
    {
     "name": "stdout",
     "output_type": "stream",
     "text": [
      "eigenvalues shape torch.Size([5]) eigenvectors shape torch.Size([5, 400])\n",
      "470 /home/phdcs2/Hard_Disk/Datasets/Deep-Spectral-Segmentation/data/object-segmentation/ECSSD/features/dino_vits16/0471.pth\n",
      "dict_keys(['k', 'indices', 'file', 'id', 'model_name', 'patch_size', 'shape'])\n",
      "0471\n",
      "Starting Training\n",
      "epoch: 00, loss: -0.40893\n",
      "epoch: 01, loss: -0.72329\n",
      "epoch: 02, loss: -0.79156\n",
      "epoch: 03, loss: -0.78758\n",
      "epoch: 04, loss: -0.80314\n",
      "epoch: 05, loss: -0.79297\n",
      "epoch: 06, loss: -0.75794\n",
      "epoch: 07, loss: -0.73075\n",
      "epoch: 08, loss: -0.72357\n",
      "epoch: 09, loss: -0.73679\n"
     ]
    },
    {
     "name": "stderr",
     "output_type": "stream",
     "text": [
      " 47%|████▋     | 471/1000 [3:02:08<2:54:14, 19.76s/it]"
     ]
    },
    {
     "name": "stdout",
     "output_type": "stream",
     "text": [
      "eigenvalues shape torch.Size([5]) eigenvectors shape torch.Size([5, 450])\n",
      "471 /home/phdcs2/Hard_Disk/Datasets/Deep-Spectral-Segmentation/data/object-segmentation/ECSSD/features/dino_vits16/0472.pth\n",
      "dict_keys(['k', 'indices', 'file', 'id', 'model_name', 'patch_size', 'shape'])\n",
      "0472\n",
      "Starting Training\n",
      "epoch: 00, loss: -0.47601\n",
      "epoch: 01, loss: -0.89136\n",
      "epoch: 02, loss: -0.90377\n",
      "epoch: 03, loss: -0.90516\n",
      "epoch: 04, loss: -0.90779\n",
      "epoch: 05, loss: -0.90166\n",
      "epoch: 06, loss: -0.89195\n",
      "epoch: 07, loss: -0.89669\n",
      "epoch: 08, loss: -0.89324\n",
      "epoch: 09, loss: -0.91006\n"
     ]
    },
    {
     "name": "stderr",
     "output_type": "stream",
     "text": [
      " 47%|████▋     | 472/1000 [3:02:28<2:54:17, 19.81s/it]"
     ]
    },
    {
     "name": "stdout",
     "output_type": "stream",
     "text": [
      "eigenvalues shape torch.Size([5]) eigenvectors shape torch.Size([5, 400])\n",
      "472 /home/phdcs2/Hard_Disk/Datasets/Deep-Spectral-Segmentation/data/object-segmentation/ECSSD/features/dino_vits16/0473.pth\n",
      "dict_keys(['k', 'indices', 'file', 'id', 'model_name', 'patch_size', 'shape'])\n",
      "0473\n",
      "Starting Training\n",
      "epoch: 00, loss: -0.35362\n",
      "epoch: 01, loss: -0.64945\n",
      "epoch: 02, loss: -0.71476\n",
      "epoch: 03, loss: -0.74658\n",
      "epoch: 04, loss: -0.75672\n",
      "epoch: 05, loss: -0.76791\n",
      "epoch: 06, loss: -0.78150\n",
      "epoch: 07, loss: -0.77640\n",
      "epoch: 08, loss: -0.77307\n",
      "epoch: 09, loss: -0.77038\n"
     ]
    },
    {
     "name": "stderr",
     "output_type": "stream",
     "text": [
      " 47%|████▋     | 473/1000 [3:02:47<2:53:23, 19.74s/it]"
     ]
    },
    {
     "name": "stdout",
     "output_type": "stream",
     "text": [
      "eigenvalues shape torch.Size([5]) eigenvectors shape torch.Size([5, 425])\n",
      "473 /home/phdcs2/Hard_Disk/Datasets/Deep-Spectral-Segmentation/data/object-segmentation/ECSSD/features/dino_vits16/0474.pth\n",
      "dict_keys(['k', 'indices', 'file', 'id', 'model_name', 'patch_size', 'shape'])\n",
      "0474\n",
      "Starting Training\n",
      "epoch: 00, loss: -0.50129\n",
      "epoch: 01, loss: -0.65276\n",
      "epoch: 02, loss: -0.68185\n",
      "epoch: 03, loss: -0.69477\n",
      "epoch: 04, loss: -0.75433\n",
      "epoch: 05, loss: -0.77312\n",
      "epoch: 06, loss: -0.76106\n",
      "epoch: 07, loss: -0.73415\n",
      "epoch: 08, loss: -0.74251\n",
      "epoch: 09, loss: -0.74674\n"
     ]
    },
    {
     "name": "stderr",
     "output_type": "stream",
     "text": [
      " 47%|████▋     | 474/1000 [3:03:06<2:49:43, 19.36s/it]"
     ]
    },
    {
     "name": "stdout",
     "output_type": "stream",
     "text": [
      "eigenvalues shape torch.Size([5]) eigenvectors shape torch.Size([5, 400])\n",
      "474 /home/phdcs2/Hard_Disk/Datasets/Deep-Spectral-Segmentation/data/object-segmentation/ECSSD/features/dino_vits16/0475.pth\n",
      "dict_keys(['k', 'indices', 'file', 'id', 'model_name', 'patch_size', 'shape'])\n",
      "0475\n",
      "Starting Training\n",
      "epoch: 00, loss: -0.40623\n",
      "epoch: 01, loss: -0.73986\n",
      "epoch: 02, loss: -0.83341\n",
      "epoch: 03, loss: -0.86139\n",
      "epoch: 04, loss: -0.86495\n",
      "epoch: 05, loss: -0.85495\n",
      "epoch: 06, loss: -0.88380\n",
      "epoch: 07, loss: -0.88024\n",
      "epoch: 08, loss: -0.87885\n",
      "epoch: 09, loss: -0.88838\n"
     ]
    },
    {
     "name": "stderr",
     "output_type": "stream",
     "text": [
      " 48%|████▊     | 475/1000 [3:03:25<2:47:58, 19.20s/it]"
     ]
    },
    {
     "name": "stdout",
     "output_type": "stream",
     "text": [
      "eigenvalues shape torch.Size([5]) eigenvectors shape torch.Size([5, 400])\n",
      "475 /home/phdcs2/Hard_Disk/Datasets/Deep-Spectral-Segmentation/data/object-segmentation/ECSSD/features/dino_vits16/0476.pth\n",
      "dict_keys(['k', 'indices', 'file', 'id', 'model_name', 'patch_size', 'shape'])\n",
      "0476\n",
      "Starting Training\n",
      "epoch: 00, loss: -0.38288\n",
      "epoch: 01, loss: -0.73033\n",
      "epoch: 02, loss: -0.76110\n",
      "epoch: 03, loss: -0.80610\n",
      "epoch: 04, loss: -0.81360\n",
      "epoch: 05, loss: -0.81412\n",
      "epoch: 06, loss: -0.80338\n",
      "epoch: 07, loss: -0.77688\n",
      "epoch: 08, loss: -0.78195\n",
      "epoch: 09, loss: -0.78526\n"
     ]
    },
    {
     "name": "stderr",
     "output_type": "stream",
     "text": [
      " 48%|████▊     | 476/1000 [3:03:44<2:48:42, 19.32s/it]"
     ]
    },
    {
     "name": "stdout",
     "output_type": "stream",
     "text": [
      "eigenvalues shape torch.Size([5]) eigenvectors shape torch.Size([5, 400])\n",
      "476 /home/phdcs2/Hard_Disk/Datasets/Deep-Spectral-Segmentation/data/object-segmentation/ECSSD/features/dino_vits16/0477.pth\n",
      "dict_keys(['k', 'indices', 'file', 'id', 'model_name', 'patch_size', 'shape'])\n",
      "0477\n",
      "Starting Training\n",
      "epoch: 00, loss: -0.56664\n",
      "epoch: 01, loss: -0.79178\n",
      "epoch: 02, loss: -0.81610\n",
      "epoch: 03, loss: -0.81193\n",
      "epoch: 04, loss: -0.81080\n",
      "epoch: 05, loss: -0.83399\n",
      "epoch: 06, loss: -0.83638\n",
      "epoch: 07, loss: -0.81838\n",
      "epoch: 08, loss: -0.83177\n",
      "epoch: 09, loss: -0.82169\n"
     ]
    },
    {
     "name": "stderr",
     "output_type": "stream",
     "text": [
      " 48%|████▊     | 477/1000 [3:04:06<2:53:35, 19.92s/it]"
     ]
    },
    {
     "name": "stdout",
     "output_type": "stream",
     "text": [
      "eigenvalues shape torch.Size([5]) eigenvectors shape torch.Size([5, 450])\n",
      "477 /home/phdcs2/Hard_Disk/Datasets/Deep-Spectral-Segmentation/data/object-segmentation/ECSSD/features/dino_vits16/0478.pth\n",
      "dict_keys(['k', 'indices', 'file', 'id', 'model_name', 'patch_size', 'shape'])\n",
      "0478\n",
      "Starting Training\n",
      "epoch: 00, loss: -0.33015\n",
      "epoch: 01, loss: -0.59680\n",
      "epoch: 02, loss: -0.61856\n",
      "epoch: 03, loss: -0.70052\n",
      "epoch: 04, loss: -0.74573\n",
      "epoch: 05, loss: -0.78475\n",
      "epoch: 06, loss: -0.78246\n",
      "epoch: 07, loss: -0.80447\n",
      "epoch: 08, loss: -0.81783\n",
      "epoch: 09, loss: -0.81811\n"
     ]
    },
    {
     "name": "stderr",
     "output_type": "stream",
     "text": [
      " 48%|████▊     | 478/1000 [3:04:23<2:46:45, 19.17s/it]"
     ]
    },
    {
     "name": "stdout",
     "output_type": "stream",
     "text": [
      "eigenvalues shape torch.Size([5]) eigenvectors shape torch.Size([5, 400])\n",
      "478 /home/phdcs2/Hard_Disk/Datasets/Deep-Spectral-Segmentation/data/object-segmentation/ECSSD/features/dino_vits16/0479.pth\n",
      "dict_keys(['k', 'indices', 'file', 'id', 'model_name', 'patch_size', 'shape'])\n",
      "0479\n",
      "Starting Training\n",
      "epoch: 00, loss: -0.45199\n",
      "epoch: 01, loss: -0.69944\n",
      "epoch: 02, loss: -0.78531\n",
      "epoch: 03, loss: -0.79990\n",
      "epoch: 04, loss: -0.80198\n",
      "epoch: 05, loss: -0.79595\n",
      "epoch: 06, loss: -0.80533\n",
      "epoch: 07, loss: -0.81971\n",
      "epoch: 08, loss: -0.80302\n",
      "epoch: 09, loss: -0.75169\n"
     ]
    },
    {
     "name": "stderr",
     "output_type": "stream",
     "text": [
      " 48%|████▊     | 479/1000 [3:04:45<2:52:41, 19.89s/it]"
     ]
    },
    {
     "name": "stdout",
     "output_type": "stream",
     "text": [
      "eigenvalues shape torch.Size([5]) eigenvectors shape torch.Size([5, 450])\n",
      "479 /home/phdcs2/Hard_Disk/Datasets/Deep-Spectral-Segmentation/data/object-segmentation/ECSSD/features/dino_vits16/0480.pth\n",
      "dict_keys(['k', 'indices', 'file', 'id', 'model_name', 'patch_size', 'shape'])\n",
      "0480\n",
      "Starting Training\n",
      "epoch: 00, loss: -0.62696\n",
      "epoch: 01, loss: -0.91960\n",
      "epoch: 02, loss: -0.91444\n",
      "epoch: 03, loss: -0.92691\n",
      "epoch: 04, loss: -0.90933\n",
      "epoch: 05, loss: -0.89584\n",
      "epoch: 06, loss: -0.89735\n",
      "epoch: 07, loss: -0.89201\n",
      "epoch: 08, loss: -0.86910\n",
      "epoch: 09, loss: -0.87266\n"
     ]
    },
    {
     "name": "stderr",
     "output_type": "stream",
     "text": [
      " 48%|████▊     | 480/1000 [3:05:11<3:09:58, 21.92s/it]"
     ]
    },
    {
     "name": "stdout",
     "output_type": "stream",
     "text": [
      "eigenvalues shape torch.Size([5]) eigenvectors shape torch.Size([5, 625])\n",
      "480 /home/phdcs2/Hard_Disk/Datasets/Deep-Spectral-Segmentation/data/object-segmentation/ECSSD/features/dino_vits16/0481.pth\n",
      "dict_keys(['k', 'indices', 'file', 'id', 'model_name', 'patch_size', 'shape'])\n",
      "0481\n",
      "Starting Training\n",
      "epoch: 00, loss: -0.31179\n",
      "epoch: 01, loss: -0.63137\n",
      "epoch: 02, loss: -0.73849\n",
      "epoch: 03, loss: -0.74981\n",
      "epoch: 04, loss: -0.76726\n",
      "epoch: 05, loss: -0.76960\n",
      "epoch: 06, loss: -0.79797\n",
      "epoch: 07, loss: -0.80791\n",
      "epoch: 08, loss: -0.80651\n",
      "epoch: 09, loss: -0.79813\n"
     ]
    },
    {
     "name": "stderr",
     "output_type": "stream",
     "text": [
      " 48%|████▊     | 481/1000 [3:05:33<3:08:05, 21.74s/it]"
     ]
    },
    {
     "name": "stdout",
     "output_type": "stream",
     "text": [
      "eigenvalues shape torch.Size([5]) eigenvectors shape torch.Size([5, 450])\n",
      "481 /home/phdcs2/Hard_Disk/Datasets/Deep-Spectral-Segmentation/data/object-segmentation/ECSSD/features/dino_vits16/0482.pth\n",
      "dict_keys(['k', 'indices', 'file', 'id', 'model_name', 'patch_size', 'shape'])\n",
      "0482\n",
      "Starting Training\n",
      "epoch: 00, loss: -0.33224\n",
      "epoch: 01, loss: -0.58739\n",
      "epoch: 02, loss: -0.72802\n",
      "epoch: 03, loss: -0.74864\n",
      "epoch: 04, loss: -0.77336\n",
      "epoch: 05, loss: -0.77099\n",
      "epoch: 06, loss: -0.78777\n",
      "epoch: 07, loss: -0.79625\n",
      "epoch: 08, loss: -0.79359\n",
      "epoch: 09, loss: -0.79895\n"
     ]
    },
    {
     "name": "stderr",
     "output_type": "stream",
     "text": [
      " 48%|████▊     | 482/1000 [3:05:54<3:06:02, 21.55s/it]"
     ]
    },
    {
     "name": "stdout",
     "output_type": "stream",
     "text": [
      "eigenvalues shape torch.Size([5]) eigenvectors shape torch.Size([5, 450])\n",
      "482 /home/phdcs2/Hard_Disk/Datasets/Deep-Spectral-Segmentation/data/object-segmentation/ECSSD/features/dino_vits16/0483.pth\n",
      "dict_keys(['k', 'indices', 'file', 'id', 'model_name', 'patch_size', 'shape'])\n",
      "0483\n",
      "Starting Training\n",
      "epoch: 00, loss: -0.33870\n",
      "epoch: 01, loss: -0.73410\n",
      "epoch: 02, loss: -0.78686\n",
      "epoch: 03, loss: -0.82126\n",
      "epoch: 04, loss: -0.82426\n",
      "epoch: 05, loss: -0.82320\n",
      "epoch: 06, loss: -0.83943\n",
      "epoch: 07, loss: -0.82605\n",
      "epoch: 08, loss: -0.83946\n",
      "epoch: 09, loss: -0.84920\n"
     ]
    },
    {
     "name": "stderr",
     "output_type": "stream",
     "text": [
      " 48%|████▊     | 483/1000 [3:06:13<3:00:35, 20.96s/it]"
     ]
    },
    {
     "name": "stdout",
     "output_type": "stream",
     "text": [
      "eigenvalues shape torch.Size([5]) eigenvectors shape torch.Size([5, 400])\n",
      "483 /home/phdcs2/Hard_Disk/Datasets/Deep-Spectral-Segmentation/data/object-segmentation/ECSSD/features/dino_vits16/0484.pth\n",
      "dict_keys(['k', 'indices', 'file', 'id', 'model_name', 'patch_size', 'shape'])\n",
      "0484\n",
      "Starting Training\n",
      "epoch: 00, loss: -0.52638\n",
      "epoch: 01, loss: -0.77932\n",
      "epoch: 02, loss: -0.72673\n",
      "epoch: 03, loss: -0.71265\n",
      "epoch: 04, loss: -0.74710\n",
      "epoch: 05, loss: -0.74597\n",
      "epoch: 06, loss: -0.74908\n",
      "epoch: 07, loss: -0.78323\n",
      "epoch: 08, loss: -0.74084\n",
      "epoch: 09, loss: -0.73813\n"
     ]
    },
    {
     "name": "stderr",
     "output_type": "stream",
     "text": [
      " 48%|████▊     | 484/1000 [3:06:35<3:01:22, 21.09s/it]"
     ]
    },
    {
     "name": "stdout",
     "output_type": "stream",
     "text": [
      "eigenvalues shape torch.Size([5]) eigenvectors shape torch.Size([5, 450])\n",
      "484 /home/phdcs2/Hard_Disk/Datasets/Deep-Spectral-Segmentation/data/object-segmentation/ECSSD/features/dino_vits16/0485.pth\n",
      "dict_keys(['k', 'indices', 'file', 'id', 'model_name', 'patch_size', 'shape'])\n",
      "0485\n",
      "Starting Training\n",
      "epoch: 00, loss: -0.53078\n",
      "epoch: 01, loss: -0.65097\n",
      "epoch: 02, loss: -0.73436\n",
      "epoch: 03, loss: -0.78027\n",
      "epoch: 04, loss: -0.80357\n",
      "epoch: 05, loss: -0.81715\n",
      "epoch: 06, loss: -0.84650\n",
      "epoch: 07, loss: -0.84913\n",
      "epoch: 08, loss: -0.85224\n",
      "epoch: 09, loss: -0.84126\n"
     ]
    },
    {
     "name": "stderr",
     "output_type": "stream",
     "text": [
      " 48%|████▊     | 485/1000 [3:06:53<2:54:24, 20.32s/it]"
     ]
    },
    {
     "name": "stdout",
     "output_type": "stream",
     "text": [
      "eigenvalues shape torch.Size([5]) eigenvectors shape torch.Size([5, 400])\n",
      "485 /home/phdcs2/Hard_Disk/Datasets/Deep-Spectral-Segmentation/data/object-segmentation/ECSSD/features/dino_vits16/0486.pth\n",
      "dict_keys(['k', 'indices', 'file', 'id', 'model_name', 'patch_size', 'shape'])\n",
      "0486\n",
      "Starting Training\n",
      "epoch: 00, loss: -0.36007\n",
      "epoch: 01, loss: -0.69194\n",
      "epoch: 02, loss: -0.72116\n",
      "epoch: 03, loss: -0.71773\n",
      "epoch: 04, loss: -0.75604\n",
      "epoch: 05, loss: -0.77227\n",
      "epoch: 06, loss: -0.78807\n",
      "epoch: 07, loss: -0.81285\n",
      "epoch: 08, loss: -0.81820\n",
      "epoch: 09, loss: -0.80856\n"
     ]
    },
    {
     "name": "stderr",
     "output_type": "stream",
     "text": [
      " 49%|████▊     | 486/1000 [3:07:15<2:57:28, 20.72s/it]"
     ]
    },
    {
     "name": "stdout",
     "output_type": "stream",
     "text": [
      "eigenvalues shape torch.Size([5]) eigenvectors shape torch.Size([5, 450])\n",
      "486 /home/phdcs2/Hard_Disk/Datasets/Deep-Spectral-Segmentation/data/object-segmentation/ECSSD/features/dino_vits16/0487.pth\n",
      "dict_keys(['k', 'indices', 'file', 'id', 'model_name', 'patch_size', 'shape'])\n",
      "0487\n",
      "Starting Training\n",
      "epoch: 00, loss: -0.38241\n",
      "epoch: 01, loss: -0.77264\n",
      "epoch: 02, loss: -0.83974\n",
      "epoch: 03, loss: -0.85419\n",
      "epoch: 04, loss: -0.85638\n",
      "epoch: 05, loss: -0.85449\n",
      "epoch: 06, loss: -0.87124\n",
      "epoch: 07, loss: -0.88191\n",
      "epoch: 08, loss: -0.88764\n",
      "epoch: 09, loss: -0.88590\n"
     ]
    },
    {
     "name": "stderr",
     "output_type": "stream",
     "text": [
      " 49%|████▊     | 487/1000 [3:07:31<2:44:41, 19.26s/it]"
     ]
    },
    {
     "name": "stdout",
     "output_type": "stream",
     "text": [
      "eigenvalues shape torch.Size([5]) eigenvectors shape torch.Size([5, 400])\n",
      "487 /home/phdcs2/Hard_Disk/Datasets/Deep-Spectral-Segmentation/data/object-segmentation/ECSSD/features/dino_vits16/0488.pth\n",
      "dict_keys(['k', 'indices', 'file', 'id', 'model_name', 'patch_size', 'shape'])\n",
      "0488\n",
      "Starting Training\n",
      "epoch: 00, loss: -0.32799\n",
      "epoch: 01, loss: -0.70560\n",
      "epoch: 02, loss: -0.80300\n",
      "epoch: 03, loss: -0.78893\n",
      "epoch: 04, loss: -0.76480\n",
      "epoch: 05, loss: -0.75140\n",
      "epoch: 06, loss: -0.72409\n",
      "epoch: 07, loss: -0.73188\n",
      "epoch: 08, loss: -0.76078\n",
      "epoch: 09, loss: -0.78454\n"
     ]
    },
    {
     "name": "stderr",
     "output_type": "stream",
     "text": [
      " 49%|████▉     | 488/1000 [3:07:49<2:42:55, 19.09s/it]"
     ]
    },
    {
     "name": "stdout",
     "output_type": "stream",
     "text": [
      "eigenvalues shape torch.Size([5]) eigenvectors shape torch.Size([5, 400])\n",
      "488 /home/phdcs2/Hard_Disk/Datasets/Deep-Spectral-Segmentation/data/object-segmentation/ECSSD/features/dino_vits16/0489.pth\n",
      "dict_keys(['k', 'indices', 'file', 'id', 'model_name', 'patch_size', 'shape'])\n",
      "0489\n",
      "Starting Training\n",
      "epoch: 00, loss: -0.44463\n",
      "epoch: 01, loss: -0.79509\n",
      "epoch: 02, loss: -0.82042\n",
      "epoch: 03, loss: -0.79005\n",
      "epoch: 04, loss: -0.79695\n",
      "epoch: 05, loss: -0.81297\n",
      "epoch: 06, loss: -0.81741\n",
      "epoch: 07, loss: -0.81741\n",
      "epoch: 08, loss: -0.83892\n",
      "epoch: 09, loss: -0.84949\n"
     ]
    },
    {
     "name": "stderr",
     "output_type": "stream",
     "text": [
      " 49%|████▉     | 489/1000 [3:08:14<2:57:04, 20.79s/it]"
     ]
    },
    {
     "name": "stdout",
     "output_type": "stream",
     "text": [
      "eigenvalues shape torch.Size([5]) eigenvectors shape torch.Size([5, 550])\n",
      "489 /home/phdcs2/Hard_Disk/Datasets/Deep-Spectral-Segmentation/data/object-segmentation/ECSSD/features/dino_vits16/0490.pth\n",
      "dict_keys(['k', 'indices', 'file', 'id', 'model_name', 'patch_size', 'shape'])\n",
      "0490\n",
      "Starting Training\n",
      "epoch: 00, loss: -0.26574\n",
      "epoch: 01, loss: -0.69298\n",
      "epoch: 02, loss: -0.76684\n",
      "epoch: 03, loss: -0.77785\n",
      "epoch: 04, loss: -0.79319\n",
      "epoch: 05, loss: -0.79117\n",
      "epoch: 06, loss: -0.79222\n",
      "epoch: 07, loss: -0.78155\n",
      "epoch: 08, loss: -0.80435\n",
      "epoch: 09, loss: -0.79721\n"
     ]
    },
    {
     "name": "stderr",
     "output_type": "stream",
     "text": [
      " 49%|████▉     | 490/1000 [3:08:33<2:51:56, 20.23s/it]"
     ]
    },
    {
     "name": "stdout",
     "output_type": "stream",
     "text": [
      "eigenvalues shape torch.Size([5]) eigenvectors shape torch.Size([5, 400])\n",
      "490 /home/phdcs2/Hard_Disk/Datasets/Deep-Spectral-Segmentation/data/object-segmentation/ECSSD/features/dino_vits16/0491.pth\n",
      "dict_keys(['k', 'indices', 'file', 'id', 'model_name', 'patch_size', 'shape'])\n",
      "0491\n",
      "Starting Training\n",
      "epoch: 00, loss: -0.68226\n",
      "epoch: 01, loss: -0.90714\n",
      "epoch: 02, loss: -0.88979\n",
      "epoch: 03, loss: -0.89109\n",
      "epoch: 04, loss: -0.77033\n",
      "epoch: 05, loss: -0.75920\n",
      "epoch: 06, loss: -0.71764\n",
      "epoch: 07, loss: -0.77840\n",
      "epoch: 08, loss: -0.81680\n",
      "epoch: 09, loss: -0.83597\n"
     ]
    },
    {
     "name": "stderr",
     "output_type": "stream",
     "text": [
      " 49%|████▉     | 491/1000 [3:08:54<2:53:27, 20.45s/it]"
     ]
    },
    {
     "name": "stdout",
     "output_type": "stream",
     "text": [
      "eigenvalues shape torch.Size([5]) eigenvectors shape torch.Size([5, 500])\n",
      "491 /home/phdcs2/Hard_Disk/Datasets/Deep-Spectral-Segmentation/data/object-segmentation/ECSSD/features/dino_vits16/0492.pth\n",
      "dict_keys(['k', 'indices', 'file', 'id', 'model_name', 'patch_size', 'shape'])\n",
      "0492\n",
      "Starting Training\n",
      "epoch: 00, loss: -0.33150\n",
      "epoch: 01, loss: -0.64300\n",
      "epoch: 02, loss: -0.71003\n",
      "epoch: 03, loss: -0.73200\n",
      "epoch: 04, loss: -0.73378\n",
      "epoch: 05, loss: -0.72392\n",
      "epoch: 06, loss: -0.74430\n",
      "epoch: 07, loss: -0.71926\n",
      "epoch: 08, loss: -0.73015\n",
      "epoch: 09, loss: -0.73241\n"
     ]
    },
    {
     "name": "stderr",
     "output_type": "stream",
     "text": [
      " 49%|████▉     | 492/1000 [3:09:15<2:55:29, 20.73s/it]"
     ]
    },
    {
     "name": "stdout",
     "output_type": "stream",
     "text": [
      "eigenvalues shape torch.Size([5]) eigenvectors shape torch.Size([5, 450])\n",
      "492 /home/phdcs2/Hard_Disk/Datasets/Deep-Spectral-Segmentation/data/object-segmentation/ECSSD/features/dino_vits16/0493.pth\n",
      "dict_keys(['k', 'indices', 'file', 'id', 'model_name', 'patch_size', 'shape'])\n",
      "0493\n",
      "Starting Training\n",
      "epoch: 00, loss: -0.27316\n",
      "epoch: 01, loss: -0.58414\n",
      "epoch: 02, loss: -0.64823\n",
      "epoch: 03, loss: -0.72449\n",
      "epoch: 04, loss: -0.74758\n",
      "epoch: 05, loss: -0.76829\n",
      "epoch: 06, loss: -0.78044\n",
      "epoch: 07, loss: -0.79518\n",
      "epoch: 08, loss: -0.78719\n",
      "epoch: 09, loss: -0.80373\n"
     ]
    },
    {
     "name": "stderr",
     "output_type": "stream",
     "text": [
      " 49%|████▉     | 493/1000 [3:09:34<2:49:20, 20.04s/it]"
     ]
    },
    {
     "name": "stdout",
     "output_type": "stream",
     "text": [
      "eigenvalues shape torch.Size([5]) eigenvectors shape torch.Size([5, 400])\n",
      "493 /home/phdcs2/Hard_Disk/Datasets/Deep-Spectral-Segmentation/data/object-segmentation/ECSSD/features/dino_vits16/0494.pth\n",
      "dict_keys(['k', 'indices', 'file', 'id', 'model_name', 'patch_size', 'shape'])\n",
      "0494\n",
      "Starting Training\n",
      "epoch: 00, loss: -0.61653\n",
      "epoch: 01, loss: -0.87914\n",
      "epoch: 02, loss: -0.88096\n",
      "epoch: 03, loss: -0.90323\n",
      "epoch: 04, loss: -0.87060\n",
      "epoch: 05, loss: -0.85565\n",
      "epoch: 06, loss: -0.86756\n",
      "epoch: 07, loss: -0.86038\n",
      "epoch: 08, loss: -0.84645\n",
      "epoch: 09, loss: -0.84907\n"
     ]
    },
    {
     "name": "stderr",
     "output_type": "stream",
     "text": [
      " 49%|████▉     | 494/1000 [3:09:53<2:46:21, 19.73s/it]"
     ]
    },
    {
     "name": "stdout",
     "output_type": "stream",
     "text": [
      "eigenvalues shape torch.Size([5]) eigenvectors shape torch.Size([5, 400])\n",
      "494 /home/phdcs2/Hard_Disk/Datasets/Deep-Spectral-Segmentation/data/object-segmentation/ECSSD/features/dino_vits16/0495.pth\n",
      "dict_keys(['k', 'indices', 'file', 'id', 'model_name', 'patch_size', 'shape'])\n",
      "0495\n",
      "Starting Training\n",
      "epoch: 00, loss: -0.31306\n",
      "epoch: 01, loss: -0.56008\n",
      "epoch: 02, loss: -0.67490\n",
      "epoch: 03, loss: -0.71084\n",
      "epoch: 04, loss: -0.65661\n",
      "epoch: 05, loss: -0.68893\n",
      "epoch: 06, loss: -0.72825\n",
      "epoch: 07, loss: -0.74603\n",
      "epoch: 08, loss: -0.77248\n",
      "epoch: 09, loss: -0.75390\n"
     ]
    },
    {
     "name": "stderr",
     "output_type": "stream",
     "text": [
      " 50%|████▉     | 495/1000 [3:10:12<2:43:22, 19.41s/it]"
     ]
    },
    {
     "name": "stdout",
     "output_type": "stream",
     "text": [
      "eigenvalues shape torch.Size([5]) eigenvectors shape torch.Size([5, 400])\n",
      "495 /home/phdcs2/Hard_Disk/Datasets/Deep-Spectral-Segmentation/data/object-segmentation/ECSSD/features/dino_vits16/0496.pth\n",
      "dict_keys(['k', 'indices', 'file', 'id', 'model_name', 'patch_size', 'shape'])\n",
      "0496\n",
      "Starting Training\n",
      "epoch: 00, loss: -0.46334\n",
      "epoch: 01, loss: -0.77406\n",
      "epoch: 02, loss: -0.79040\n",
      "epoch: 03, loss: -0.78092\n",
      "epoch: 04, loss: -0.81643\n",
      "epoch: 05, loss: -0.82808\n",
      "epoch: 06, loss: -0.82700\n",
      "epoch: 07, loss: -0.81168\n",
      "epoch: 08, loss: -0.81291\n",
      "epoch: 09, loss: -0.80555\n"
     ]
    },
    {
     "name": "stderr",
     "output_type": "stream",
     "text": [
      " 50%|████▉     | 496/1000 [3:10:33<2:47:37, 19.96s/it]"
     ]
    },
    {
     "name": "stdout",
     "output_type": "stream",
     "text": [
      "eigenvalues shape torch.Size([5]) eigenvectors shape torch.Size([5, 450])\n",
      "496 /home/phdcs2/Hard_Disk/Datasets/Deep-Spectral-Segmentation/data/object-segmentation/ECSSD/features/dino_vits16/0497.pth\n",
      "dict_keys(['k', 'indices', 'file', 'id', 'model_name', 'patch_size', 'shape'])\n",
      "0497\n",
      "Starting Training\n",
      "epoch: 00, loss: -0.52394\n",
      "epoch: 01, loss: -0.76689\n",
      "epoch: 02, loss: -0.76752\n",
      "epoch: 03, loss: -0.76042\n",
      "epoch: 04, loss: -0.72954\n",
      "epoch: 05, loss: -0.75167\n",
      "epoch: 06, loss: -0.76917\n",
      "epoch: 07, loss: -0.76491\n",
      "epoch: 08, loss: -0.76000\n",
      "epoch: 09, loss: -0.74815\n"
     ]
    },
    {
     "name": "stderr",
     "output_type": "stream",
     "text": [
      " 50%|████▉     | 497/1000 [3:10:54<2:51:10, 20.42s/it]"
     ]
    },
    {
     "name": "stdout",
     "output_type": "stream",
     "text": [
      "eigenvalues shape torch.Size([5]) eigenvectors shape torch.Size([5, 450])\n",
      "497 /home/phdcs2/Hard_Disk/Datasets/Deep-Spectral-Segmentation/data/object-segmentation/ECSSD/features/dino_vits16/0498.pth\n",
      "dict_keys(['k', 'indices', 'file', 'id', 'model_name', 'patch_size', 'shape'])\n",
      "0498\n",
      "Starting Training\n",
      "epoch: 00, loss: -0.58311\n",
      "epoch: 01, loss: -0.89482\n",
      "epoch: 02, loss: -0.89016\n",
      "epoch: 03, loss: -0.88963\n",
      "epoch: 04, loss: -0.85527\n",
      "epoch: 05, loss: -0.84551\n",
      "epoch: 06, loss: -0.83076\n",
      "epoch: 07, loss: -0.83481\n",
      "epoch: 08, loss: -0.83256\n",
      "epoch: 09, loss: -0.83370\n"
     ]
    },
    {
     "name": "stderr",
     "output_type": "stream",
     "text": [
      " 50%|████▉     | 498/1000 [3:11:13<2:47:38, 20.04s/it]"
     ]
    },
    {
     "name": "stdout",
     "output_type": "stream",
     "text": [
      "eigenvalues shape torch.Size([5]) eigenvectors shape torch.Size([5, 400])\n",
      "498 /home/phdcs2/Hard_Disk/Datasets/Deep-Spectral-Segmentation/data/object-segmentation/ECSSD/features/dino_vits16/0499.pth\n",
      "dict_keys(['k', 'indices', 'file', 'id', 'model_name', 'patch_size', 'shape'])\n",
      "0499\n",
      "Starting Training\n",
      "epoch: 00, loss: -0.35528\n",
      "epoch: 01, loss: -0.72380\n",
      "epoch: 02, loss: -0.81515\n",
      "epoch: 03, loss: -0.83676\n",
      "epoch: 04, loss: -0.81443\n",
      "epoch: 05, loss: -0.81104\n",
      "epoch: 06, loss: -0.83396\n",
      "epoch: 07, loss: -0.84548\n",
      "epoch: 08, loss: -0.85270\n",
      "epoch: 09, loss: -0.86008\n"
     ]
    },
    {
     "name": "stderr",
     "output_type": "stream",
     "text": [
      " 50%|████▉     | 499/1000 [3:11:35<2:50:19, 20.40s/it]"
     ]
    },
    {
     "name": "stdout",
     "output_type": "stream",
     "text": [
      "eigenvalues shape torch.Size([5]) eigenvectors shape torch.Size([5, 450])\n",
      "499 /home/phdcs2/Hard_Disk/Datasets/Deep-Spectral-Segmentation/data/object-segmentation/ECSSD/features/dino_vits16/0500.pth\n",
      "dict_keys(['k', 'indices', 'file', 'id', 'model_name', 'patch_size', 'shape'])\n",
      "0500\n",
      "Starting Training\n",
      "epoch: 00, loss: -0.53177\n",
      "epoch: 01, loss: -0.78252\n",
      "epoch: 02, loss: -0.68741\n",
      "epoch: 03, loss: -0.68271\n",
      "epoch: 04, loss: -0.69174\n",
      "epoch: 05, loss: -0.70636\n",
      "epoch: 06, loss: -0.69952\n",
      "epoch: 07, loss: -0.71838\n",
      "epoch: 08, loss: -0.72480\n",
      "epoch: 09, loss: -0.74244\n"
     ]
    },
    {
     "name": "stderr",
     "output_type": "stream",
     "text": [
      " 50%|█████     | 500/1000 [3:11:56<2:52:59, 20.76s/it]"
     ]
    },
    {
     "name": "stdout",
     "output_type": "stream",
     "text": [
      "eigenvalues shape torch.Size([5]) eigenvectors shape torch.Size([5, 450])\n",
      "500 /home/phdcs2/Hard_Disk/Datasets/Deep-Spectral-Segmentation/data/object-segmentation/ECSSD/features/dino_vits16/0501.pth\n",
      "dict_keys(['k', 'indices', 'file', 'id', 'model_name', 'patch_size', 'shape'])\n",
      "0501\n",
      "Starting Training\n",
      "epoch: 00, loss: -0.52191\n",
      "epoch: 01, loss: -0.82635\n",
      "epoch: 02, loss: -0.85294\n",
      "epoch: 03, loss: -0.85742\n",
      "epoch: 04, loss: -0.83057\n",
      "epoch: 05, loss: -0.81415\n",
      "epoch: 06, loss: -0.83173\n",
      "epoch: 07, loss: -0.83789\n",
      "epoch: 08, loss: -0.84183\n",
      "epoch: 09, loss: -0.82074\n"
     ]
    },
    {
     "name": "stderr",
     "output_type": "stream",
     "text": [
      " 50%|█████     | 501/1000 [3:12:16<2:49:29, 20.38s/it]"
     ]
    },
    {
     "name": "stdout",
     "output_type": "stream",
     "text": [
      "eigenvalues shape torch.Size([5]) eigenvectors shape torch.Size([5, 450])\n",
      "501 /home/phdcs2/Hard_Disk/Datasets/Deep-Spectral-Segmentation/data/object-segmentation/ECSSD/features/dino_vits16/0502.pth\n",
      "dict_keys(['k', 'indices', 'file', 'id', 'model_name', 'patch_size', 'shape'])\n",
      "0502\n",
      "Starting Training\n",
      "epoch: 00, loss: -0.56226\n",
      "epoch: 01, loss: -0.66189\n",
      "epoch: 02, loss: -0.73356\n",
      "epoch: 03, loss: -0.76507\n",
      "epoch: 04, loss: -0.76266\n",
      "epoch: 05, loss: -0.76446\n",
      "epoch: 06, loss: -0.78327\n",
      "epoch: 07, loss: -0.79447\n",
      "epoch: 08, loss: -0.82058\n",
      "epoch: 09, loss: -0.82459\n"
     ]
    },
    {
     "name": "stderr",
     "output_type": "stream",
     "text": [
      " 50%|█████     | 502/1000 [3:12:45<3:11:34, 23.08s/it]"
     ]
    },
    {
     "name": "stdout",
     "output_type": "stream",
     "text": [
      "eigenvalues shape torch.Size([5]) eigenvectors shape torch.Size([5, 625])\n",
      "502 /home/phdcs2/Hard_Disk/Datasets/Deep-Spectral-Segmentation/data/object-segmentation/ECSSD/features/dino_vits16/0503.pth\n",
      "dict_keys(['k', 'indices', 'file', 'id', 'model_name', 'patch_size', 'shape'])\n",
      "0503\n",
      "Starting Training\n",
      "epoch: 00, loss: -0.58049\n",
      "epoch: 01, loss: -0.83448\n",
      "epoch: 02, loss: -0.81495\n",
      "epoch: 03, loss: -0.77949\n",
      "epoch: 04, loss: -0.75204\n",
      "epoch: 05, loss: -0.76248\n",
      "epoch: 06, loss: -0.79202\n",
      "epoch: 07, loss: -0.84163\n",
      "epoch: 08, loss: -0.85078\n",
      "epoch: 09, loss: -0.87545\n"
     ]
    },
    {
     "name": "stderr",
     "output_type": "stream",
     "text": [
      " 50%|█████     | 503/1000 [3:13:03<2:58:53, 21.60s/it]"
     ]
    },
    {
     "name": "stdout",
     "output_type": "stream",
     "text": [
      "eigenvalues shape torch.Size([5]) eigenvectors shape torch.Size([5, 400])\n",
      "503 /home/phdcs2/Hard_Disk/Datasets/Deep-Spectral-Segmentation/data/object-segmentation/ECSSD/features/dino_vits16/0504.pth\n",
      "dict_keys(['k', 'indices', 'file', 'id', 'model_name', 'patch_size', 'shape'])\n",
      "0504\n",
      "Starting Training\n",
      "epoch: 00, loss: -0.38114\n",
      "epoch: 01, loss: -0.73248\n",
      "epoch: 02, loss: -0.80025\n",
      "epoch: 03, loss: -0.83260\n",
      "epoch: 04, loss: -0.83395\n",
      "epoch: 05, loss: -0.85216\n",
      "epoch: 06, loss: -0.84126\n",
      "epoch: 07, loss: -0.86808\n",
      "epoch: 08, loss: -0.87870\n",
      "epoch: 09, loss: -0.88769\n"
     ]
    },
    {
     "name": "stderr",
     "output_type": "stream",
     "text": [
      " 50%|█████     | 504/1000 [3:13:21<2:48:36, 20.40s/it]"
     ]
    },
    {
     "name": "stdout",
     "output_type": "stream",
     "text": [
      "eigenvalues shape torch.Size([5]) eigenvectors shape torch.Size([5, 400])\n",
      "504 /home/phdcs2/Hard_Disk/Datasets/Deep-Spectral-Segmentation/data/object-segmentation/ECSSD/features/dino_vits16/0505.pth\n",
      "dict_keys(['k', 'indices', 'file', 'id', 'model_name', 'patch_size', 'shape'])\n",
      "0505\n",
      "Starting Training\n",
      "epoch: 00, loss: -0.41451\n",
      "epoch: 01, loss: -0.71141\n",
      "epoch: 02, loss: -0.78134\n",
      "epoch: 03, loss: -0.81860\n",
      "epoch: 04, loss: -0.82132\n",
      "epoch: 05, loss: -0.83834\n",
      "epoch: 06, loss: -0.84652\n",
      "epoch: 07, loss: -0.85720\n",
      "epoch: 08, loss: -0.84355\n",
      "epoch: 09, loss: -0.85089\n"
     ]
    },
    {
     "name": "stderr",
     "output_type": "stream",
     "text": [
      " 50%|█████     | 505/1000 [3:13:42<2:49:28, 20.54s/it]"
     ]
    },
    {
     "name": "stdout",
     "output_type": "stream",
     "text": [
      "eigenvalues shape torch.Size([5]) eigenvectors shape torch.Size([5, 450])\n",
      "505 /home/phdcs2/Hard_Disk/Datasets/Deep-Spectral-Segmentation/data/object-segmentation/ECSSD/features/dino_vits16/0506.pth\n",
      "dict_keys(['k', 'indices', 'file', 'id', 'model_name', 'patch_size', 'shape'])\n",
      "0506\n",
      "Starting Training\n",
      "epoch: 00, loss: -0.64127\n",
      "epoch: 01, loss: -0.92291\n",
      "epoch: 02, loss: -0.91284\n",
      "epoch: 03, loss: -0.89943\n",
      "epoch: 04, loss: -0.92266\n",
      "epoch: 05, loss: -0.89261\n",
      "epoch: 06, loss: -0.85659\n",
      "epoch: 07, loss: -0.82691\n",
      "epoch: 08, loss: -0.72601\n",
      "epoch: 09, loss: -0.71478\n"
     ]
    },
    {
     "name": "stderr",
     "output_type": "stream",
     "text": [
      " 51%|█████     | 506/1000 [3:14:01<2:44:52, 20.03s/it]"
     ]
    },
    {
     "name": "stdout",
     "output_type": "stream",
     "text": [
      "eigenvalues shape torch.Size([5]) eigenvectors shape torch.Size([5, 400])\n",
      "506 /home/phdcs2/Hard_Disk/Datasets/Deep-Spectral-Segmentation/data/object-segmentation/ECSSD/features/dino_vits16/0507.pth\n",
      "dict_keys(['k', 'indices', 'file', 'id', 'model_name', 'patch_size', 'shape'])\n",
      "0507\n",
      "Starting Training\n",
      "epoch: 00, loss: -0.50327\n",
      "epoch: 01, loss: -0.84052\n",
      "epoch: 02, loss: -0.79522\n",
      "epoch: 03, loss: -0.79712\n",
      "epoch: 04, loss: -0.81349\n",
      "epoch: 05, loss: -0.84135\n",
      "epoch: 06, loss: -0.86294\n",
      "epoch: 07, loss: -0.87081\n",
      "epoch: 08, loss: -0.87286\n",
      "epoch: 09, loss: -0.88625\n"
     ]
    },
    {
     "name": "stderr",
     "output_type": "stream",
     "text": [
      " 51%|█████     | 507/1000 [3:14:20<2:42:09, 19.74s/it]"
     ]
    },
    {
     "name": "stdout",
     "output_type": "stream",
     "text": [
      "eigenvalues shape torch.Size([5]) eigenvectors shape torch.Size([5, 375])\n",
      "507 /home/phdcs2/Hard_Disk/Datasets/Deep-Spectral-Segmentation/data/object-segmentation/ECSSD/features/dino_vits16/0508.pth\n",
      "dict_keys(['k', 'indices', 'file', 'id', 'model_name', 'patch_size', 'shape'])\n",
      "0508\n",
      "Starting Training\n",
      "epoch: 00, loss: -0.49540\n",
      "epoch: 01, loss: -0.80955\n",
      "epoch: 02, loss: -0.84854\n",
      "epoch: 03, loss: -0.84550\n",
      "epoch: 04, loss: -0.83754\n",
      "epoch: 05, loss: -0.81416\n",
      "epoch: 06, loss: -0.82114\n",
      "epoch: 07, loss: -0.76691\n",
      "epoch: 08, loss: -0.85845\n",
      "epoch: 09, loss: -0.90189\n"
     ]
    },
    {
     "name": "stderr",
     "output_type": "stream",
     "text": [
      " 51%|█████     | 508/1000 [3:14:38<2:38:05, 19.28s/it]"
     ]
    },
    {
     "name": "stdout",
     "output_type": "stream",
     "text": [
      "eigenvalues shape torch.Size([5]) eigenvectors shape torch.Size([5, 400])\n",
      "508 /home/phdcs2/Hard_Disk/Datasets/Deep-Spectral-Segmentation/data/object-segmentation/ECSSD/features/dino_vits16/0509.pth\n",
      "dict_keys(['k', 'indices', 'file', 'id', 'model_name', 'patch_size', 'shape'])\n",
      "0509\n",
      "Starting Training\n",
      "epoch: 00, loss: -0.72111\n",
      "epoch: 01, loss: -0.87991\n",
      "epoch: 02, loss: -0.88046\n",
      "epoch: 03, loss: -0.88659\n",
      "epoch: 04, loss: -0.90911\n",
      "epoch: 05, loss: -0.90082\n",
      "epoch: 06, loss: -0.89506\n",
      "epoch: 07, loss: -0.85392\n",
      "epoch: 08, loss: -0.86146\n",
      "epoch: 09, loss: -0.86680\n"
     ]
    },
    {
     "name": "stderr",
     "output_type": "stream",
     "text": [
      " 51%|█████     | 509/1000 [3:15:08<3:04:26, 22.54s/it]"
     ]
    },
    {
     "name": "stdout",
     "output_type": "stream",
     "text": [
      "eigenvalues shape torch.Size([5]) eigenvectors shape torch.Size([5, 625])\n",
      "509 /home/phdcs2/Hard_Disk/Datasets/Deep-Spectral-Segmentation/data/object-segmentation/ECSSD/features/dino_vits16/0510.pth\n",
      "dict_keys(['k', 'indices', 'file', 'id', 'model_name', 'patch_size', 'shape'])\n",
      "0510\n",
      "Starting Training\n",
      "epoch: 00, loss: -0.51789\n",
      "epoch: 01, loss: -0.68332\n",
      "epoch: 02, loss: -0.67775\n",
      "epoch: 03, loss: -0.76818\n",
      "epoch: 04, loss: -0.79107\n",
      "epoch: 05, loss: -0.79579\n",
      "epoch: 06, loss: -0.81628\n",
      "epoch: 07, loss: -0.77627\n",
      "epoch: 08, loss: -0.77414\n",
      "epoch: 09, loss: -0.78440\n"
     ]
    },
    {
     "name": "stderr",
     "output_type": "stream",
     "text": [
      " 51%|█████     | 510/1000 [3:15:30<3:02:17, 22.32s/it]"
     ]
    },
    {
     "name": "stdout",
     "output_type": "stream",
     "text": [
      "eigenvalues shape torch.Size([5]) eigenvectors shape torch.Size([5, 400])\n",
      "510 /home/phdcs2/Hard_Disk/Datasets/Deep-Spectral-Segmentation/data/object-segmentation/ECSSD/features/dino_vits16/0511.pth\n",
      "dict_keys(['k', 'indices', 'file', 'id', 'model_name', 'patch_size', 'shape'])\n",
      "0511\n",
      "Starting Training\n",
      "epoch: 00, loss: -0.66795\n",
      "epoch: 01, loss: -0.87050\n",
      "epoch: 02, loss: -0.78345\n",
      "epoch: 03, loss: -0.79207\n",
      "epoch: 04, loss: -0.82302\n",
      "epoch: 05, loss: -0.80984\n",
      "epoch: 06, loss: -0.82367\n",
      "epoch: 07, loss: -0.80513\n",
      "epoch: 08, loss: -0.80372\n",
      "epoch: 09, loss: -0.81199\n"
     ]
    },
    {
     "name": "stderr",
     "output_type": "stream",
     "text": [
      " 51%|█████     | 511/1000 [3:15:59<3:17:52, 24.28s/it]"
     ]
    },
    {
     "name": "stdout",
     "output_type": "stream",
     "text": [
      "eigenvalues shape torch.Size([5]) eigenvectors shape torch.Size([5, 625])\n",
      "511 /home/phdcs2/Hard_Disk/Datasets/Deep-Spectral-Segmentation/data/object-segmentation/ECSSD/features/dino_vits16/0512.pth\n",
      "dict_keys(['k', 'indices', 'file', 'id', 'model_name', 'patch_size', 'shape'])\n",
      "0512\n",
      "Starting Training\n",
      "epoch: 00, loss: -0.24404\n",
      "epoch: 01, loss: -0.60063\n",
      "epoch: 02, loss: -0.70554\n",
      "epoch: 03, loss: -0.76237\n",
      "epoch: 04, loss: -0.77260\n",
      "epoch: 05, loss: -0.80193\n",
      "epoch: 06, loss: -0.77980\n",
      "epoch: 07, loss: -0.79007\n",
      "epoch: 08, loss: -0.79398\n",
      "epoch: 09, loss: -0.79138\n"
     ]
    },
    {
     "name": "stderr",
     "output_type": "stream",
     "text": [
      " 51%|█████     | 512/1000 [3:16:17<3:04:02, 22.63s/it]"
     ]
    },
    {
     "name": "stdout",
     "output_type": "stream",
     "text": [
      "eigenvalues shape torch.Size([5]) eigenvectors shape torch.Size([5, 400])\n",
      "512 /home/phdcs2/Hard_Disk/Datasets/Deep-Spectral-Segmentation/data/object-segmentation/ECSSD/features/dino_vits16/0513.pth\n",
      "dict_keys(['k', 'indices', 'file', 'id', 'model_name', 'patch_size', 'shape'])\n",
      "0513\n",
      "Starting Training\n",
      "epoch: 00, loss: -0.43426\n",
      "epoch: 01, loss: -0.70793\n",
      "epoch: 02, loss: -0.70620\n",
      "epoch: 03, loss: -0.72178\n",
      "epoch: 04, loss: -0.68815\n",
      "epoch: 05, loss: -0.74548\n",
      "epoch: 06, loss: -0.77555\n",
      "epoch: 07, loss: -0.79200\n",
      "epoch: 08, loss: -0.80179\n",
      "epoch: 09, loss: -0.80388\n"
     ]
    },
    {
     "name": "stderr",
     "output_type": "stream",
     "text": [
      " 51%|█████▏    | 513/1000 [3:16:37<2:55:13, 21.59s/it]"
     ]
    },
    {
     "name": "stdout",
     "output_type": "stream",
     "text": [
      "eigenvalues shape torch.Size([5]) eigenvectors shape torch.Size([5, 400])\n",
      "513 /home/phdcs2/Hard_Disk/Datasets/Deep-Spectral-Segmentation/data/object-segmentation/ECSSD/features/dino_vits16/0514.pth\n",
      "dict_keys(['k', 'indices', 'file', 'id', 'model_name', 'patch_size', 'shape'])\n",
      "0514\n",
      "Starting Training\n",
      "epoch: 00, loss: -0.59679\n",
      "epoch: 01, loss: -0.78890\n",
      "epoch: 02, loss: -0.81729\n",
      "epoch: 03, loss: -0.82615\n",
      "epoch: 04, loss: -0.82004\n",
      "epoch: 05, loss: -0.80139\n",
      "epoch: 06, loss: -0.79445\n",
      "epoch: 07, loss: -0.78909\n",
      "epoch: 08, loss: -0.77469\n",
      "epoch: 09, loss: -0.79249\n"
     ]
    },
    {
     "name": "stderr",
     "output_type": "stream",
     "text": [
      " 51%|█████▏    | 514/1000 [3:16:58<2:53:58, 21.48s/it]"
     ]
    },
    {
     "name": "stdout",
     "output_type": "stream",
     "text": [
      "eigenvalues shape torch.Size([5]) eigenvectors shape torch.Size([5, 450])\n",
      "514 /home/phdcs2/Hard_Disk/Datasets/Deep-Spectral-Segmentation/data/object-segmentation/ECSSD/features/dino_vits16/0515.pth\n",
      "dict_keys(['k', 'indices', 'file', 'id', 'model_name', 'patch_size', 'shape'])\n",
      "0515\n",
      "Starting Training\n",
      "epoch: 00, loss: -0.47283\n",
      "epoch: 01, loss: -0.72339\n",
      "epoch: 02, loss: -0.80388\n",
      "epoch: 03, loss: -0.82277\n",
      "epoch: 04, loss: -0.83270\n",
      "epoch: 05, loss: -0.83263\n",
      "epoch: 06, loss: -0.83234\n",
      "epoch: 07, loss: -0.83894\n",
      "epoch: 08, loss: -0.84853\n",
      "epoch: 09, loss: -0.85635\n"
     ]
    },
    {
     "name": "stderr",
     "output_type": "stream",
     "text": [
      " 52%|█████▏    | 515/1000 [3:17:20<2:54:10, 21.55s/it]"
     ]
    },
    {
     "name": "stdout",
     "output_type": "stream",
     "text": [
      "eigenvalues shape torch.Size([5]) eigenvectors shape torch.Size([5, 450])\n",
      "515 /home/phdcs2/Hard_Disk/Datasets/Deep-Spectral-Segmentation/data/object-segmentation/ECSSD/features/dino_vits16/0516.pth\n",
      "dict_keys(['k', 'indices', 'file', 'id', 'model_name', 'patch_size', 'shape'])\n",
      "0516\n",
      "Starting Training\n",
      "epoch: 00, loss: -0.53096\n",
      "epoch: 01, loss: -0.81374\n",
      "epoch: 02, loss: -0.71961\n",
      "epoch: 03, loss: -0.72930\n",
      "epoch: 04, loss: -0.78944\n",
      "epoch: 05, loss: -0.77195\n",
      "epoch: 06, loss: -0.75485\n",
      "epoch: 07, loss: -0.78240\n",
      "epoch: 08, loss: -0.80747\n",
      "epoch: 09, loss: -0.80335\n"
     ]
    },
    {
     "name": "stderr",
     "output_type": "stream",
     "text": [
      " 52%|█████▏    | 516/1000 [3:17:41<2:53:26, 21.50s/it]"
     ]
    },
    {
     "name": "stdout",
     "output_type": "stream",
     "text": [
      "eigenvalues shape torch.Size([5]) eigenvectors shape torch.Size([5, 450])\n",
      "516 /home/phdcs2/Hard_Disk/Datasets/Deep-Spectral-Segmentation/data/object-segmentation/ECSSD/features/dino_vits16/0517.pth\n",
      "dict_keys(['k', 'indices', 'file', 'id', 'model_name', 'patch_size', 'shape'])\n",
      "0517\n",
      "Starting Training\n",
      "epoch: 00, loss: -0.43315\n",
      "epoch: 01, loss: -0.67400\n",
      "epoch: 02, loss: -0.73084\n",
      "epoch: 03, loss: -0.76320\n",
      "epoch: 04, loss: -0.75009\n",
      "epoch: 05, loss: -0.77068\n",
      "epoch: 06, loss: -0.79851\n",
      "epoch: 07, loss: -0.79866\n",
      "epoch: 08, loss: -0.79913\n",
      "epoch: 09, loss: -0.78741\n"
     ]
    },
    {
     "name": "stderr",
     "output_type": "stream",
     "text": [
      " 52%|█████▏    | 517/1000 [3:18:01<2:50:23, 21.17s/it]"
     ]
    },
    {
     "name": "stdout",
     "output_type": "stream",
     "text": [
      "eigenvalues shape torch.Size([5]) eigenvectors shape torch.Size([5, 450])\n",
      "517 /home/phdcs2/Hard_Disk/Datasets/Deep-Spectral-Segmentation/data/object-segmentation/ECSSD/features/dino_vits16/0518.pth\n",
      "dict_keys(['k', 'indices', 'file', 'id', 'model_name', 'patch_size', 'shape'])\n",
      "0518\n",
      "Starting Training\n",
      "epoch: 00, loss: -0.50370\n",
      "epoch: 01, loss: -0.85760\n",
      "epoch: 02, loss: -0.82151\n",
      "epoch: 03, loss: -0.72766\n",
      "epoch: 04, loss: -0.75193\n",
      "epoch: 05, loss: -0.75029\n",
      "epoch: 06, loss: -0.75994\n",
      "epoch: 07, loss: -0.77625\n",
      "epoch: 08, loss: -0.81992\n",
      "epoch: 09, loss: -0.84874\n"
     ]
    },
    {
     "name": "stderr",
     "output_type": "stream",
     "text": [
      " 52%|█████▏    | 518/1000 [3:18:20<2:44:01, 20.42s/it]"
     ]
    },
    {
     "name": "stdout",
     "output_type": "stream",
     "text": [
      "eigenvalues shape torch.Size([5]) eigenvectors shape torch.Size([5, 400])\n",
      "518 /home/phdcs2/Hard_Disk/Datasets/Deep-Spectral-Segmentation/data/object-segmentation/ECSSD/features/dino_vits16/0519.pth\n",
      "dict_keys(['k', 'indices', 'file', 'id', 'model_name', 'patch_size', 'shape'])\n",
      "0519\n",
      "Starting Training\n",
      "epoch: 00, loss: -0.45488\n",
      "epoch: 01, loss: -0.80780\n",
      "epoch: 02, loss: -0.81731\n",
      "epoch: 03, loss: -0.79435\n",
      "epoch: 04, loss: -0.80411\n",
      "epoch: 05, loss: -0.77992\n",
      "epoch: 06, loss: -0.74835\n",
      "epoch: 07, loss: -0.76456\n",
      "epoch: 08, loss: -0.83021\n",
      "epoch: 09, loss: -0.83917\n"
     ]
    },
    {
     "name": "stderr",
     "output_type": "stream",
     "text": [
      " 52%|█████▏    | 519/1000 [3:18:37<2:36:36, 19.54s/it]"
     ]
    },
    {
     "name": "stdout",
     "output_type": "stream",
     "text": [
      "eigenvalues shape torch.Size([5]) eigenvectors shape torch.Size([5, 375])\n",
      "519 /home/phdcs2/Hard_Disk/Datasets/Deep-Spectral-Segmentation/data/object-segmentation/ECSSD/features/dino_vits16/0520.pth\n",
      "dict_keys(['k', 'indices', 'file', 'id', 'model_name', 'patch_size', 'shape'])\n",
      "0520\n",
      "Starting Training\n",
      "epoch: 00, loss: -0.38803\n",
      "epoch: 01, loss: -0.70131\n",
      "epoch: 02, loss: -0.77361\n",
      "epoch: 03, loss: -0.80889\n",
      "epoch: 04, loss: -0.82318\n",
      "epoch: 05, loss: -0.82660\n",
      "epoch: 06, loss: -0.81955\n",
      "epoch: 07, loss: -0.82929\n",
      "epoch: 08, loss: -0.83820\n",
      "epoch: 09, loss: -0.83632\n"
     ]
    },
    {
     "name": "stderr",
     "output_type": "stream",
     "text": [
      " 52%|█████▏    | 520/1000 [3:18:57<2:35:40, 19.46s/it]"
     ]
    },
    {
     "name": "stdout",
     "output_type": "stream",
     "text": [
      "eigenvalues shape torch.Size([5]) eigenvectors shape torch.Size([5, 450])\n",
      "520 /home/phdcs2/Hard_Disk/Datasets/Deep-Spectral-Segmentation/data/object-segmentation/ECSSD/features/dino_vits16/0521.pth\n",
      "dict_keys(['k', 'indices', 'file', 'id', 'model_name', 'patch_size', 'shape'])\n",
      "0521\n",
      "Starting Training\n",
      "epoch: 00, loss: -0.33627\n",
      "epoch: 01, loss: -0.64666\n",
      "epoch: 02, loss: -0.72337\n",
      "epoch: 03, loss: -0.73895\n",
      "epoch: 04, loss: -0.73280\n",
      "epoch: 05, loss: -0.75637\n",
      "epoch: 06, loss: -0.76541\n",
      "epoch: 07, loss: -0.76483\n",
      "epoch: 08, loss: -0.76570\n",
      "epoch: 09, loss: -0.77428\n"
     ]
    },
    {
     "name": "stderr",
     "output_type": "stream",
     "text": [
      " 52%|█████▏    | 521/1000 [3:19:18<2:39:39, 20.00s/it]"
     ]
    },
    {
     "name": "stdout",
     "output_type": "stream",
     "text": [
      "eigenvalues shape torch.Size([5]) eigenvectors shape torch.Size([5, 450])\n",
      "521 /home/phdcs2/Hard_Disk/Datasets/Deep-Spectral-Segmentation/data/object-segmentation/ECSSD/features/dino_vits16/0522.pth\n",
      "dict_keys(['k', 'indices', 'file', 'id', 'model_name', 'patch_size', 'shape'])\n",
      "0522\n",
      "Starting Training\n",
      "epoch: 00, loss: -0.63205\n",
      "epoch: 01, loss: -0.89732\n",
      "epoch: 02, loss: -0.90430\n",
      "epoch: 03, loss: -0.89865\n",
      "epoch: 04, loss: -0.89004\n",
      "epoch: 05, loss: -0.88412\n",
      "epoch: 06, loss: -0.88609\n",
      "epoch: 07, loss: -0.88057\n",
      "epoch: 08, loss: -0.88654\n",
      "epoch: 09, loss: -0.88129\n"
     ]
    },
    {
     "name": "stderr",
     "output_type": "stream",
     "text": [
      " 52%|█████▏    | 522/1000 [3:19:39<2:42:55, 20.45s/it]"
     ]
    },
    {
     "name": "stdout",
     "output_type": "stream",
     "text": [
      "eigenvalues shape torch.Size([5]) eigenvectors shape torch.Size([5, 450])\n",
      "522 /home/phdcs2/Hard_Disk/Datasets/Deep-Spectral-Segmentation/data/object-segmentation/ECSSD/features/dino_vits16/0523.pth\n",
      "dict_keys(['k', 'indices', 'file', 'id', 'model_name', 'patch_size', 'shape'])\n",
      "0523\n",
      "Starting Training\n",
      "epoch: 00, loss: -0.58446\n",
      "epoch: 01, loss: -0.86085\n",
      "epoch: 02, loss: -0.87629\n",
      "epoch: 03, loss: -0.89146\n",
      "epoch: 04, loss: -0.90450\n",
      "epoch: 05, loss: -0.90116\n",
      "epoch: 06, loss: -0.89194\n",
      "epoch: 07, loss: -0.88308\n",
      "epoch: 08, loss: -0.87572\n",
      "epoch: 09, loss: -0.86981\n"
     ]
    },
    {
     "name": "stderr",
     "output_type": "stream",
     "text": [
      " 52%|█████▏    | 523/1000 [3:19:59<2:40:44, 20.22s/it]"
     ]
    },
    {
     "name": "stdout",
     "output_type": "stream",
     "text": [
      "eigenvalues shape torch.Size([5]) eigenvectors shape torch.Size([5, 450])\n",
      "523 /home/phdcs2/Hard_Disk/Datasets/Deep-Spectral-Segmentation/data/object-segmentation/ECSSD/features/dino_vits16/0524.pth\n",
      "dict_keys(['k', 'indices', 'file', 'id', 'model_name', 'patch_size', 'shape'])\n",
      "0524\n",
      "Starting Training\n",
      "epoch: 00, loss: -0.53707\n",
      "epoch: 01, loss: -0.70301\n",
      "epoch: 02, loss: -0.78640\n",
      "epoch: 03, loss: -0.81987\n",
      "epoch: 04, loss: -0.84020\n",
      "epoch: 05, loss: -0.84759\n",
      "epoch: 06, loss: -0.84712\n",
      "epoch: 07, loss: -0.83806\n",
      "epoch: 08, loss: -0.83206\n",
      "epoch: 09, loss: -0.83480\n"
     ]
    },
    {
     "name": "stderr",
     "output_type": "stream",
     "text": [
      " 52%|█████▏    | 524/1000 [3:20:23<2:49:15, 21.34s/it]"
     ]
    },
    {
     "name": "stdout",
     "output_type": "stream",
     "text": [
      "eigenvalues shape torch.Size([5]) eigenvectors shape torch.Size([5, 475])\n",
      "524 /home/phdcs2/Hard_Disk/Datasets/Deep-Spectral-Segmentation/data/object-segmentation/ECSSD/features/dino_vits16/0525.pth\n",
      "dict_keys(['k', 'indices', 'file', 'id', 'model_name', 'patch_size', 'shape'])\n",
      "0525\n",
      "Starting Training\n",
      "epoch: 00, loss: -0.68829\n",
      "epoch: 01, loss: -0.95286\n",
      "epoch: 02, loss: -0.95699\n",
      "epoch: 03, loss: -0.96162\n",
      "epoch: 04, loss: -0.94865\n",
      "epoch: 05, loss: -0.93323\n",
      "epoch: 06, loss: -0.94626\n",
      "epoch: 07, loss: -0.92737\n",
      "epoch: 08, loss: -0.91430\n",
      "epoch: 09, loss: -0.90002\n"
     ]
    },
    {
     "name": "stderr",
     "output_type": "stream",
     "text": [
      " 52%|█████▎    | 525/1000 [3:20:42<2:42:49, 20.57s/it]"
     ]
    },
    {
     "name": "stdout",
     "output_type": "stream",
     "text": [
      "eigenvalues shape torch.Size([5]) eigenvectors shape torch.Size([5, 400])\n",
      "525 /home/phdcs2/Hard_Disk/Datasets/Deep-Spectral-Segmentation/data/object-segmentation/ECSSD/features/dino_vits16/0526.pth\n",
      "dict_keys(['k', 'indices', 'file', 'id', 'model_name', 'patch_size', 'shape'])\n",
      "0526\n",
      "Starting Training\n",
      "epoch: 00, loss: -0.56157\n",
      "epoch: 01, loss: -0.84224\n",
      "epoch: 02, loss: -0.79183\n",
      "epoch: 03, loss: -0.77551\n",
      "epoch: 04, loss: -0.75879\n",
      "epoch: 05, loss: -0.75804\n",
      "epoch: 06, loss: -0.75668\n",
      "epoch: 07, loss: -0.77085\n",
      "epoch: 08, loss: -0.72500\n",
      "epoch: 09, loss: -0.75258\n"
     ]
    },
    {
     "name": "stderr",
     "output_type": "stream",
     "text": [
      " 53%|█████▎    | 526/1000 [3:21:05<2:47:53, 21.25s/it]"
     ]
    },
    {
     "name": "stdout",
     "output_type": "stream",
     "text": [
      "eigenvalues shape torch.Size([5]) eigenvectors shape torch.Size([5, 500])\n",
      "526 /home/phdcs2/Hard_Disk/Datasets/Deep-Spectral-Segmentation/data/object-segmentation/ECSSD/features/dino_vits16/0527.pth\n",
      "dict_keys(['k', 'indices', 'file', 'id', 'model_name', 'patch_size', 'shape'])\n",
      "0527\n",
      "Starting Training\n",
      "epoch: 00, loss: -0.38210\n",
      "epoch: 01, loss: -0.64978\n",
      "epoch: 02, loss: -0.66344\n",
      "epoch: 03, loss: -0.71817\n",
      "epoch: 04, loss: -0.76682\n",
      "epoch: 05, loss: -0.78807\n",
      "epoch: 06, loss: -0.79279\n",
      "epoch: 07, loss: -0.79870\n",
      "epoch: 08, loss: -0.80029\n",
      "epoch: 09, loss: -0.80921\n"
     ]
    },
    {
     "name": "stderr",
     "output_type": "stream",
     "text": [
      " 53%|█████▎    | 527/1000 [3:21:24<2:41:48, 20.52s/it]"
     ]
    },
    {
     "name": "stdout",
     "output_type": "stream",
     "text": [
      "eigenvalues shape torch.Size([5]) eigenvectors shape torch.Size([5, 400])\n",
      "527 /home/phdcs2/Hard_Disk/Datasets/Deep-Spectral-Segmentation/data/object-segmentation/ECSSD/features/dino_vits16/0528.pth\n",
      "dict_keys(['k', 'indices', 'file', 'id', 'model_name', 'patch_size', 'shape'])\n",
      "0528\n",
      "Starting Training\n",
      "epoch: 00, loss: -0.54817\n",
      "epoch: 01, loss: -0.87073\n",
      "epoch: 02, loss: -0.85580\n",
      "epoch: 03, loss: -0.87583\n",
      "epoch: 04, loss: -0.85477\n",
      "epoch: 05, loss: -0.84908\n",
      "epoch: 06, loss: -0.82677\n",
      "epoch: 07, loss: -0.80912\n",
      "epoch: 08, loss: -0.83496\n",
      "epoch: 09, loss: -0.74389\n"
     ]
    },
    {
     "name": "stderr",
     "output_type": "stream",
     "text": [
      " 53%|█████▎    | 528/1000 [3:21:42<2:37:06, 19.97s/it]"
     ]
    },
    {
     "name": "stdout",
     "output_type": "stream",
     "text": [
      "eigenvalues shape torch.Size([5]) eigenvectors shape torch.Size([5, 400])\n",
      "528 /home/phdcs2/Hard_Disk/Datasets/Deep-Spectral-Segmentation/data/object-segmentation/ECSSD/features/dino_vits16/0529.pth\n",
      "dict_keys(['k', 'indices', 'file', 'id', 'model_name', 'patch_size', 'shape'])\n",
      "0529\n",
      "Starting Training\n",
      "epoch: 00, loss: -0.52743\n",
      "epoch: 01, loss: -0.79008\n",
      "epoch: 02, loss: -0.78515\n",
      "epoch: 03, loss: -0.79998\n",
      "epoch: 04, loss: -0.84402\n",
      "epoch: 05, loss: -0.83668\n",
      "epoch: 06, loss: -0.84164\n",
      "epoch: 07, loss: -0.83096\n",
      "epoch: 08, loss: -0.81826\n",
      "epoch: 09, loss: -0.82353\n"
     ]
    },
    {
     "name": "stderr",
     "output_type": "stream",
     "text": [
      " 53%|█████▎    | 529/1000 [3:22:03<2:39:20, 20.30s/it]"
     ]
    },
    {
     "name": "stdout",
     "output_type": "stream",
     "text": [
      "eigenvalues shape torch.Size([5]) eigenvectors shape torch.Size([5, 400])\n",
      "529 /home/phdcs2/Hard_Disk/Datasets/Deep-Spectral-Segmentation/data/object-segmentation/ECSSD/features/dino_vits16/0530.pth\n",
      "dict_keys(['k', 'indices', 'file', 'id', 'model_name', 'patch_size', 'shape'])\n",
      "0530\n",
      "Starting Training\n",
      "epoch: 00, loss: -0.66436\n",
      "epoch: 01, loss: -0.88611\n",
      "epoch: 02, loss: -0.89132\n",
      "epoch: 03, loss: -0.88929\n",
      "epoch: 04, loss: -0.89807\n",
      "epoch: 05, loss: -0.89586\n",
      "epoch: 06, loss: -0.88476\n",
      "epoch: 07, loss: -0.88719\n",
      "epoch: 08, loss: -0.86529\n",
      "epoch: 09, loss: -0.88258\n"
     ]
    },
    {
     "name": "stderr",
     "output_type": "stream",
     "text": [
      " 53%|█████▎    | 530/1000 [3:22:26<2:45:10, 21.09s/it]"
     ]
    },
    {
     "name": "stdout",
     "output_type": "stream",
     "text": [
      "eigenvalues shape torch.Size([5]) eigenvectors shape torch.Size([5, 500])\n",
      "530 /home/phdcs2/Hard_Disk/Datasets/Deep-Spectral-Segmentation/data/object-segmentation/ECSSD/features/dino_vits16/0531.pth\n",
      "dict_keys(['k', 'indices', 'file', 'id', 'model_name', 'patch_size', 'shape'])\n",
      "0531\n",
      "Starting Training\n",
      "epoch: 00, loss: -0.34471\n",
      "epoch: 01, loss: -0.73962\n",
      "epoch: 02, loss: -0.76735\n",
      "epoch: 03, loss: -0.79292\n",
      "epoch: 04, loss: -0.81275\n",
      "epoch: 05, loss: -0.81230\n",
      "epoch: 06, loss: -0.81682\n",
      "epoch: 07, loss: -0.79375\n",
      "epoch: 08, loss: -0.75394\n",
      "epoch: 09, loss: -0.74271\n"
     ]
    },
    {
     "name": "stderr",
     "output_type": "stream",
     "text": [
      " 53%|█████▎    | 531/1000 [3:22:49<2:49:05, 21.63s/it]"
     ]
    },
    {
     "name": "stdout",
     "output_type": "stream",
     "text": [
      "eigenvalues shape torch.Size([5]) eigenvectors shape torch.Size([5, 450])\n",
      "531 /home/phdcs2/Hard_Disk/Datasets/Deep-Spectral-Segmentation/data/object-segmentation/ECSSD/features/dino_vits16/0532.pth\n",
      "dict_keys(['k', 'indices', 'file', 'id', 'model_name', 'patch_size', 'shape'])\n",
      "0532\n",
      "Starting Training\n",
      "epoch: 00, loss: -0.27970\n",
      "epoch: 01, loss: -0.67210\n",
      "epoch: 02, loss: -0.71952\n",
      "epoch: 03, loss: -0.73274\n",
      "epoch: 04, loss: -0.76818\n",
      "epoch: 05, loss: -0.79794\n",
      "epoch: 06, loss: -0.79753\n",
      "epoch: 07, loss: -0.80393\n",
      "epoch: 08, loss: -0.80919\n",
      "epoch: 09, loss: -0.82995\n"
     ]
    },
    {
     "name": "stderr",
     "output_type": "stream",
     "text": [
      " 53%|█████▎    | 532/1000 [3:23:12<2:52:34, 22.12s/it]"
     ]
    },
    {
     "name": "stdout",
     "output_type": "stream",
     "text": [
      "eigenvalues shape torch.Size([5]) eigenvectors shape torch.Size([5, 450])\n",
      "532 /home/phdcs2/Hard_Disk/Datasets/Deep-Spectral-Segmentation/data/object-segmentation/ECSSD/features/dino_vits16/0533.pth\n",
      "dict_keys(['k', 'indices', 'file', 'id', 'model_name', 'patch_size', 'shape'])\n",
      "0533\n",
      "Starting Training\n",
      "epoch: 00, loss: -0.53894\n",
      "epoch: 01, loss: -0.82613\n",
      "epoch: 02, loss: -0.81044\n",
      "epoch: 03, loss: -0.81225\n",
      "epoch: 04, loss: -0.80267\n",
      "epoch: 05, loss: -0.78698\n",
      "epoch: 06, loss: -0.78677\n",
      "epoch: 07, loss: -0.75643\n",
      "epoch: 08, loss: -0.76518\n",
      "epoch: 09, loss: -0.80026\n"
     ]
    },
    {
     "name": "stderr",
     "output_type": "stream",
     "text": [
      " 53%|█████▎    | 533/1000 [3:23:30<2:42:42, 20.91s/it]"
     ]
    },
    {
     "name": "stdout",
     "output_type": "stream",
     "text": [
      "eigenvalues shape torch.Size([5]) eigenvectors shape torch.Size([5, 400])\n",
      "533 /home/phdcs2/Hard_Disk/Datasets/Deep-Spectral-Segmentation/data/object-segmentation/ECSSD/features/dino_vits16/0534.pth\n",
      "dict_keys(['k', 'indices', 'file', 'id', 'model_name', 'patch_size', 'shape'])\n",
      "0534\n",
      "Starting Training\n",
      "epoch: 00, loss: -0.41137\n",
      "epoch: 01, loss: -0.72710\n",
      "epoch: 02, loss: -0.77747\n",
      "epoch: 03, loss: -0.82994\n",
      "epoch: 04, loss: -0.85371\n",
      "epoch: 05, loss: -0.86652\n",
      "epoch: 06, loss: -0.88245\n",
      "epoch: 07, loss: -0.86461\n",
      "epoch: 08, loss: -0.87635\n",
      "epoch: 09, loss: -0.89222\n"
     ]
    },
    {
     "name": "stderr",
     "output_type": "stream",
     "text": [
      " 53%|█████▎    | 534/1000 [3:23:50<2:38:43, 20.44s/it]"
     ]
    },
    {
     "name": "stdout",
     "output_type": "stream",
     "text": [
      "eigenvalues shape torch.Size([5]) eigenvectors shape torch.Size([5, 450])\n",
      "534 /home/phdcs2/Hard_Disk/Datasets/Deep-Spectral-Segmentation/data/object-segmentation/ECSSD/features/dino_vits16/0535.pth\n",
      "dict_keys(['k', 'indices', 'file', 'id', 'model_name', 'patch_size', 'shape'])\n",
      "0535\n",
      "Starting Training\n",
      "epoch: 00, loss: -0.48855\n",
      "epoch: 01, loss: -0.84431\n",
      "epoch: 02, loss: -0.81498\n",
      "epoch: 03, loss: -0.86262\n",
      "epoch: 04, loss: -0.82848\n",
      "epoch: 05, loss: -0.83698\n",
      "epoch: 06, loss: -0.85522\n",
      "epoch: 07, loss: -0.88142\n",
      "epoch: 08, loss: -0.81964\n",
      "epoch: 09, loss: -0.78584\n"
     ]
    },
    {
     "name": "stderr",
     "output_type": "stream",
     "text": [
      " 54%|█████▎    | 535/1000 [3:24:09<2:35:07, 20.02s/it]"
     ]
    },
    {
     "name": "stdout",
     "output_type": "stream",
     "text": [
      "eigenvalues shape torch.Size([5]) eigenvectors shape torch.Size([5, 400])\n",
      "535 /home/phdcs2/Hard_Disk/Datasets/Deep-Spectral-Segmentation/data/object-segmentation/ECSSD/features/dino_vits16/0536.pth\n",
      "dict_keys(['k', 'indices', 'file', 'id', 'model_name', 'patch_size', 'shape'])\n",
      "0536\n",
      "Starting Training\n",
      "epoch: 00, loss: -0.47487\n",
      "epoch: 01, loss: -0.75645\n",
      "epoch: 02, loss: -0.79364\n",
      "epoch: 03, loss: -0.79307\n",
      "epoch: 04, loss: -0.79171\n",
      "epoch: 05, loss: -0.80957\n",
      "epoch: 06, loss: -0.80913\n",
      "epoch: 07, loss: -0.82980\n",
      "epoch: 08, loss: -0.81576\n",
      "epoch: 09, loss: -0.82153\n"
     ]
    },
    {
     "name": "stderr",
     "output_type": "stream",
     "text": [
      " 54%|█████▎    | 536/1000 [3:24:30<2:36:19, 20.21s/it]"
     ]
    },
    {
     "name": "stdout",
     "output_type": "stream",
     "text": [
      "eigenvalues shape torch.Size([5]) eigenvectors shape torch.Size([5, 450])\n",
      "536 /home/phdcs2/Hard_Disk/Datasets/Deep-Spectral-Segmentation/data/object-segmentation/ECSSD/features/dino_vits16/0537.pth\n",
      "dict_keys(['k', 'indices', 'file', 'id', 'model_name', 'patch_size', 'shape'])\n",
      "0537\n",
      "Starting Training\n",
      "epoch: 00, loss: -0.38156\n",
      "epoch: 01, loss: -0.76460\n",
      "epoch: 02, loss: -0.81107\n",
      "epoch: 03, loss: -0.82867\n",
      "epoch: 04, loss: -0.84173\n",
      "epoch: 05, loss: -0.85167\n",
      "epoch: 06, loss: -0.85161\n",
      "epoch: 07, loss: -0.86056\n",
      "epoch: 08, loss: -0.86876\n",
      "epoch: 09, loss: -0.86804\n"
     ]
    },
    {
     "name": "stderr",
     "output_type": "stream",
     "text": [
      " 54%|█████▎    | 537/1000 [3:24:51<2:38:01, 20.48s/it]"
     ]
    },
    {
     "name": "stdout",
     "output_type": "stream",
     "text": [
      "eigenvalues shape torch.Size([5]) eigenvectors shape torch.Size([5, 450])\n",
      "537 /home/phdcs2/Hard_Disk/Datasets/Deep-Spectral-Segmentation/data/object-segmentation/ECSSD/features/dino_vits16/0538.pth\n",
      "dict_keys(['k', 'indices', 'file', 'id', 'model_name', 'patch_size', 'shape'])\n",
      "0538\n",
      "Starting Training\n",
      "epoch: 00, loss: -0.38335\n",
      "epoch: 01, loss: -0.72686\n",
      "epoch: 02, loss: -0.71266\n",
      "epoch: 03, loss: -0.77615\n",
      "epoch: 04, loss: -0.73644\n",
      "epoch: 05, loss: -0.77526\n",
      "epoch: 06, loss: -0.79698\n",
      "epoch: 07, loss: -0.79523\n",
      "epoch: 08, loss: -0.80412\n",
      "epoch: 09, loss: -0.80829\n"
     ]
    },
    {
     "name": "stderr",
     "output_type": "stream",
     "text": [
      " 54%|█████▍    | 538/1000 [3:25:10<2:34:10, 20.02s/it]"
     ]
    },
    {
     "name": "stdout",
     "output_type": "stream",
     "text": [
      "eigenvalues shape torch.Size([5]) eigenvectors shape torch.Size([5, 400])\n",
      "538 /home/phdcs2/Hard_Disk/Datasets/Deep-Spectral-Segmentation/data/object-segmentation/ECSSD/features/dino_vits16/0539.pth\n",
      "dict_keys(['k', 'indices', 'file', 'id', 'model_name', 'patch_size', 'shape'])\n",
      "0539\n",
      "Starting Training\n",
      "epoch: 00, loss: -0.45542\n",
      "epoch: 01, loss: -0.76507\n",
      "epoch: 02, loss: -0.77297\n",
      "epoch: 03, loss: -0.88640\n",
      "epoch: 04, loss: -0.89535\n",
      "epoch: 05, loss: -0.90149\n",
      "epoch: 06, loss: -0.77031\n",
      "epoch: 07, loss: -0.79800\n",
      "epoch: 08, loss: -0.80225\n",
      "epoch: 09, loss: -0.78409\n"
     ]
    },
    {
     "name": "stderr",
     "output_type": "stream",
     "text": [
      " 54%|█████▍    | 539/1000 [3:25:29<2:32:59, 19.91s/it]"
     ]
    },
    {
     "name": "stdout",
     "output_type": "stream",
     "text": [
      "eigenvalues shape torch.Size([5]) eigenvectors shape torch.Size([5, 425])\n",
      "539 /home/phdcs2/Hard_Disk/Datasets/Deep-Spectral-Segmentation/data/object-segmentation/ECSSD/features/dino_vits16/0540.pth\n",
      "dict_keys(['k', 'indices', 'file', 'id', 'model_name', 'patch_size', 'shape'])\n",
      "0540\n",
      "Starting Training\n",
      "epoch: 00, loss: -0.48306\n",
      "epoch: 01, loss: -0.75558\n",
      "epoch: 02, loss: -0.79273\n",
      "epoch: 03, loss: -0.83858\n",
      "epoch: 04, loss: -0.85287\n",
      "epoch: 05, loss: -0.85673\n",
      "epoch: 06, loss: -0.86646\n",
      "epoch: 07, loss: -0.87203\n",
      "epoch: 08, loss: -0.87293\n",
      "epoch: 09, loss: -0.87963\n"
     ]
    },
    {
     "name": "stderr",
     "output_type": "stream",
     "text": [
      " 54%|█████▍    | 540/1000 [3:25:49<2:33:17, 19.99s/it]"
     ]
    },
    {
     "name": "stdout",
     "output_type": "stream",
     "text": [
      "eigenvalues shape torch.Size([5]) eigenvectors shape torch.Size([5, 450])\n",
      "540 /home/phdcs2/Hard_Disk/Datasets/Deep-Spectral-Segmentation/data/object-segmentation/ECSSD/features/dino_vits16/0541.pth\n",
      "dict_keys(['k', 'indices', 'file', 'id', 'model_name', 'patch_size', 'shape'])\n",
      "0541\n",
      "Starting Training\n",
      "epoch: 00, loss: -0.40899\n",
      "epoch: 01, loss: -0.75474\n",
      "epoch: 02, loss: -0.76697\n",
      "epoch: 03, loss: -0.79003\n",
      "epoch: 04, loss: -0.82039\n",
      "epoch: 05, loss: -0.83120\n",
      "epoch: 06, loss: -0.82118\n",
      "epoch: 07, loss: -0.82668\n",
      "epoch: 08, loss: -0.83520\n",
      "epoch: 09, loss: -0.81600\n"
     ]
    },
    {
     "name": "stderr",
     "output_type": "stream",
     "text": [
      " 54%|█████▍    | 541/1000 [3:26:08<2:29:48, 19.58s/it]"
     ]
    },
    {
     "name": "stdout",
     "output_type": "stream",
     "text": [
      "eigenvalues shape torch.Size([5]) eigenvectors shape torch.Size([5, 400])\n",
      "541 /home/phdcs2/Hard_Disk/Datasets/Deep-Spectral-Segmentation/data/object-segmentation/ECSSD/features/dino_vits16/0542.pth\n",
      "dict_keys(['k', 'indices', 'file', 'id', 'model_name', 'patch_size', 'shape'])\n",
      "0542\n",
      "Starting Training\n",
      "epoch: 00, loss: -0.46843\n",
      "epoch: 01, loss: -0.72117\n",
      "epoch: 02, loss: -0.69213\n",
      "epoch: 03, loss: -0.71837\n",
      "epoch: 04, loss: -0.72369\n",
      "epoch: 05, loss: -0.72062\n",
      "epoch: 06, loss: -0.75434\n",
      "epoch: 07, loss: -0.72922\n",
      "epoch: 08, loss: -0.74730\n",
      "epoch: 09, loss: -0.76253\n"
     ]
    },
    {
     "name": "stderr",
     "output_type": "stream",
     "text": [
      " 54%|█████▍    | 542/1000 [3:26:29<2:31:56, 19.90s/it]"
     ]
    },
    {
     "name": "stdout",
     "output_type": "stream",
     "text": [
      "eigenvalues shape torch.Size([5]) eigenvectors shape torch.Size([5, 450])\n",
      "542 /home/phdcs2/Hard_Disk/Datasets/Deep-Spectral-Segmentation/data/object-segmentation/ECSSD/features/dino_vits16/0543.pth\n",
      "dict_keys(['k', 'indices', 'file', 'id', 'model_name', 'patch_size', 'shape'])\n",
      "0543\n",
      "Starting Training\n",
      "epoch: 00, loss: -0.54652\n",
      "epoch: 01, loss: -0.82763\n",
      "epoch: 02, loss: -0.85764\n",
      "epoch: 03, loss: -0.85634\n",
      "epoch: 04, loss: -0.87309\n",
      "epoch: 05, loss: -0.86280\n",
      "epoch: 06, loss: -0.86679\n",
      "epoch: 07, loss: -0.87748\n",
      "epoch: 08, loss: -0.87175\n",
      "epoch: 09, loss: -0.85922\n"
     ]
    },
    {
     "name": "stderr",
     "output_type": "stream",
     "text": [
      " 54%|█████▍    | 543/1000 [3:26:47<2:28:00, 19.43s/it]"
     ]
    },
    {
     "name": "stdout",
     "output_type": "stream",
     "text": [
      "eigenvalues shape torch.Size([5]) eigenvectors shape torch.Size([5, 400])\n",
      "543 /home/phdcs2/Hard_Disk/Datasets/Deep-Spectral-Segmentation/data/object-segmentation/ECSSD/features/dino_vits16/0544.pth\n",
      "dict_keys(['k', 'indices', 'file', 'id', 'model_name', 'patch_size', 'shape'])\n",
      "0544\n",
      "Starting Training\n",
      "epoch: 00, loss: -0.44658\n",
      "epoch: 01, loss: -0.76363\n",
      "epoch: 02, loss: -0.77394\n",
      "epoch: 03, loss: -0.74144\n",
      "epoch: 04, loss: -0.73874\n",
      "epoch: 05, loss: -0.74424\n",
      "epoch: 06, loss: -0.76226\n",
      "epoch: 07, loss: -0.79114\n",
      "epoch: 08, loss: -0.81207\n",
      "epoch: 09, loss: -0.81229\n"
     ]
    },
    {
     "name": "stderr",
     "output_type": "stream",
     "text": [
      " 54%|█████▍    | 544/1000 [3:27:06<2:26:42, 19.30s/it]"
     ]
    },
    {
     "name": "stdout",
     "output_type": "stream",
     "text": [
      "eigenvalues shape torch.Size([5]) eigenvectors shape torch.Size([5, 400])\n",
      "544 /home/phdcs2/Hard_Disk/Datasets/Deep-Spectral-Segmentation/data/object-segmentation/ECSSD/features/dino_vits16/0545.pth\n",
      "dict_keys(['k', 'indices', 'file', 'id', 'model_name', 'patch_size', 'shape'])\n",
      "0545\n",
      "Starting Training\n",
      "epoch: 00, loss: -0.63365\n",
      "epoch: 01, loss: -0.91747\n",
      "epoch: 02, loss: -0.90162\n",
      "epoch: 03, loss: -0.92239\n",
      "epoch: 04, loss: -0.89649\n",
      "epoch: 05, loss: -0.89326\n",
      "epoch: 06, loss: -0.89946\n",
      "epoch: 07, loss: -0.89865\n",
      "epoch: 08, loss: -0.89056\n",
      "epoch: 09, loss: -0.88865\n"
     ]
    },
    {
     "name": "stderr",
     "output_type": "stream",
     "text": [
      " 55%|█████▍    | 545/1000 [3:27:25<2:24:54, 19.11s/it]"
     ]
    },
    {
     "name": "stdout",
     "output_type": "stream",
     "text": [
      "eigenvalues shape torch.Size([5]) eigenvectors shape torch.Size([5, 400])\n",
      "545 /home/phdcs2/Hard_Disk/Datasets/Deep-Spectral-Segmentation/data/object-segmentation/ECSSD/features/dino_vits16/0546.pth\n",
      "dict_keys(['k', 'indices', 'file', 'id', 'model_name', 'patch_size', 'shape'])\n",
      "0546\n",
      "Starting Training\n",
      "epoch: 00, loss: -0.40878\n",
      "epoch: 01, loss: -0.67842\n",
      "epoch: 02, loss: -0.72298\n",
      "epoch: 03, loss: -0.74633\n",
      "epoch: 04, loss: -0.73048\n",
      "epoch: 05, loss: -0.75831\n",
      "epoch: 06, loss: -0.77961\n",
      "epoch: 07, loss: -0.79793\n",
      "epoch: 08, loss: -0.79576\n",
      "epoch: 09, loss: -0.80387\n"
     ]
    },
    {
     "name": "stderr",
     "output_type": "stream",
     "text": [
      " 55%|█████▍    | 546/1000 [3:27:44<2:25:31, 19.23s/it]"
     ]
    },
    {
     "name": "stdout",
     "output_type": "stream",
     "text": [
      "eigenvalues shape torch.Size([5]) eigenvectors shape torch.Size([5, 450])\n",
      "546 /home/phdcs2/Hard_Disk/Datasets/Deep-Spectral-Segmentation/data/object-segmentation/ECSSD/features/dino_vits16/0547.pth\n",
      "dict_keys(['k', 'indices', 'file', 'id', 'model_name', 'patch_size', 'shape'])\n",
      "0547\n",
      "Starting Training\n",
      "epoch: 00, loss: -0.38791\n",
      "epoch: 01, loss: -0.70047\n",
      "epoch: 02, loss: -0.65447\n",
      "epoch: 03, loss: -0.69839\n",
      "epoch: 04, loss: -0.71000\n",
      "epoch: 05, loss: -0.72949\n",
      "epoch: 06, loss: -0.73920\n",
      "epoch: 07, loss: -0.73236\n",
      "epoch: 08, loss: -0.77968\n",
      "epoch: 09, loss: -0.77607\n"
     ]
    },
    {
     "name": "stderr",
     "output_type": "stream",
     "text": [
      " 55%|█████▍    | 547/1000 [3:28:05<2:29:17, 19.77s/it]"
     ]
    },
    {
     "name": "stdout",
     "output_type": "stream",
     "text": [
      "eigenvalues shape torch.Size([5]) eigenvectors shape torch.Size([5, 450])\n",
      "547 /home/phdcs2/Hard_Disk/Datasets/Deep-Spectral-Segmentation/data/object-segmentation/ECSSD/features/dino_vits16/0548.pth\n",
      "dict_keys(['k', 'indices', 'file', 'id', 'model_name', 'patch_size', 'shape'])\n",
      "0548\n",
      "Starting Training\n",
      "epoch: 00, loss: -0.44934\n",
      "epoch: 01, loss: -0.72979\n",
      "epoch: 02, loss: -0.79986\n",
      "epoch: 03, loss: -0.82300\n",
      "epoch: 04, loss: -0.80208\n",
      "epoch: 05, loss: -0.80987\n",
      "epoch: 06, loss: -0.80443\n",
      "epoch: 07, loss: -0.77828\n",
      "epoch: 08, loss: -0.78085\n",
      "epoch: 09, loss: -0.78479\n"
     ]
    },
    {
     "name": "stderr",
     "output_type": "stream",
     "text": [
      " 55%|█████▍    | 548/1000 [3:28:24<2:26:34, 19.46s/it]"
     ]
    },
    {
     "name": "stdout",
     "output_type": "stream",
     "text": [
      "eigenvalues shape torch.Size([5]) eigenvectors shape torch.Size([5, 425])\n",
      "548 /home/phdcs2/Hard_Disk/Datasets/Deep-Spectral-Segmentation/data/object-segmentation/ECSSD/features/dino_vits16/0549.pth\n",
      "dict_keys(['k', 'indices', 'file', 'id', 'model_name', 'patch_size', 'shape'])\n",
      "0549\n",
      "Starting Training\n",
      "epoch: 00, loss: -0.49613\n",
      "epoch: 01, loss: -0.92562\n",
      "epoch: 02, loss: -0.93927\n",
      "epoch: 03, loss: -0.94103\n",
      "epoch: 04, loss: -0.94278\n",
      "epoch: 05, loss: -0.91674\n",
      "epoch: 06, loss: -0.93120\n",
      "epoch: 07, loss: -0.90315\n",
      "epoch: 08, loss: -0.88514\n",
      "epoch: 09, loss: -0.90236\n"
     ]
    },
    {
     "name": "stderr",
     "output_type": "stream",
     "text": [
      " 55%|█████▍    | 549/1000 [3:28:41<2:20:33, 18.70s/it]"
     ]
    },
    {
     "name": "stdout",
     "output_type": "stream",
     "text": [
      "eigenvalues shape torch.Size([5]) eigenvectors shape torch.Size([5, 400])\n",
      "549 /home/phdcs2/Hard_Disk/Datasets/Deep-Spectral-Segmentation/data/object-segmentation/ECSSD/features/dino_vits16/0550.pth\n",
      "dict_keys(['k', 'indices', 'file', 'id', 'model_name', 'patch_size', 'shape'])\n",
      "0550\n",
      "Starting Training\n",
      "epoch: 00, loss: -0.68588\n",
      "epoch: 01, loss: -0.91339\n",
      "epoch: 02, loss: -0.91804\n",
      "epoch: 03, loss: -0.91548\n",
      "epoch: 04, loss: -0.92200\n",
      "epoch: 05, loss: -0.92511\n",
      "epoch: 06, loss: -0.91844\n",
      "epoch: 07, loss: -0.91558\n",
      "epoch: 08, loss: -0.91030\n",
      "epoch: 09, loss: -0.90095\n"
     ]
    },
    {
     "name": "stderr",
     "output_type": "stream",
     "text": [
      " 55%|█████▌    | 550/1000 [3:29:01<2:23:17, 19.11s/it]"
     ]
    },
    {
     "name": "stdout",
     "output_type": "stream",
     "text": [
      "eigenvalues shape torch.Size([5]) eigenvectors shape torch.Size([5, 425])\n",
      "550 /home/phdcs2/Hard_Disk/Datasets/Deep-Spectral-Segmentation/data/object-segmentation/ECSSD/features/dino_vits16/0551.pth\n",
      "dict_keys(['k', 'indices', 'file', 'id', 'model_name', 'patch_size', 'shape'])\n",
      "0551\n",
      "Starting Training\n",
      "epoch: 00, loss: -0.49536\n",
      "epoch: 01, loss: -0.68164\n",
      "epoch: 02, loss: -0.73521\n",
      "epoch: 03, loss: -0.77131\n",
      "epoch: 04, loss: -0.79942\n",
      "epoch: 05, loss: -0.80258\n",
      "epoch: 06, loss: -0.82340\n",
      "epoch: 07, loss: -0.83839\n",
      "epoch: 08, loss: -0.84120\n",
      "epoch: 09, loss: -0.85368\n"
     ]
    },
    {
     "name": "stderr",
     "output_type": "stream",
     "text": [
      " 55%|█████▌    | 551/1000 [3:29:20<2:21:56, 18.97s/it]"
     ]
    },
    {
     "name": "stdout",
     "output_type": "stream",
     "text": [
      "eigenvalues shape torch.Size([5]) eigenvectors shape torch.Size([5, 400])\n",
      "551 /home/phdcs2/Hard_Disk/Datasets/Deep-Spectral-Segmentation/data/object-segmentation/ECSSD/features/dino_vits16/0552.pth\n",
      "dict_keys(['k', 'indices', 'file', 'id', 'model_name', 'patch_size', 'shape'])\n",
      "0552\n",
      "Starting Training\n",
      "epoch: 00, loss: -0.62880\n",
      "epoch: 01, loss: -0.91282\n",
      "epoch: 02, loss: -0.89744\n",
      "epoch: 03, loss: -0.86368\n",
      "epoch: 04, loss: -0.78874\n",
      "epoch: 05, loss: -0.73383\n",
      "epoch: 06, loss: -0.75845\n",
      "epoch: 07, loss: -0.78695\n",
      "epoch: 08, loss: -0.82338\n",
      "epoch: 09, loss: -0.85183\n"
     ]
    },
    {
     "name": "stderr",
     "output_type": "stream",
     "text": [
      " 55%|█████▌    | 552/1000 [3:29:41<2:26:00, 19.56s/it]"
     ]
    },
    {
     "name": "stdout",
     "output_type": "stream",
     "text": [
      "eigenvalues shape torch.Size([5]) eigenvectors shape torch.Size([5, 400])\n",
      "552 /home/phdcs2/Hard_Disk/Datasets/Deep-Spectral-Segmentation/data/object-segmentation/ECSSD/features/dino_vits16/0553.pth\n",
      "dict_keys(['k', 'indices', 'file', 'id', 'model_name', 'patch_size', 'shape'])\n",
      "0553\n",
      "Starting Training\n",
      "epoch: 00, loss: -0.40789\n",
      "epoch: 01, loss: -0.80569\n",
      "epoch: 02, loss: -0.81986\n",
      "epoch: 03, loss: -0.85261\n",
      "epoch: 04, loss: -0.90693\n",
      "epoch: 05, loss: -0.90346\n",
      "epoch: 06, loss: -0.90695\n",
      "epoch: 07, loss: -0.90951\n",
      "epoch: 08, loss: -0.91179\n",
      "epoch: 09, loss: -0.89197\n"
     ]
    },
    {
     "name": "stderr",
     "output_type": "stream",
     "text": [
      " 55%|█████▌    | 553/1000 [3:30:02<2:29:06, 20.01s/it]"
     ]
    },
    {
     "name": "stdout",
     "output_type": "stream",
     "text": [
      "eigenvalues shape torch.Size([5]) eigenvectors shape torch.Size([5, 450])\n",
      "553 /home/phdcs2/Hard_Disk/Datasets/Deep-Spectral-Segmentation/data/object-segmentation/ECSSD/features/dino_vits16/0554.pth\n",
      "dict_keys(['k', 'indices', 'file', 'id', 'model_name', 'patch_size', 'shape'])\n",
      "0554\n",
      "Starting Training\n",
      "epoch: 00, loss: -0.51493\n",
      "epoch: 01, loss: -0.72999\n",
      "epoch: 02, loss: -0.70512\n",
      "epoch: 03, loss: -0.73799\n",
      "epoch: 04, loss: -0.79130\n",
      "epoch: 05, loss: -0.80628\n",
      "epoch: 06, loss: -0.82563\n",
      "epoch: 07, loss: -0.82713\n",
      "epoch: 08, loss: -0.82890\n",
      "epoch: 09, loss: -0.85188\n"
     ]
    },
    {
     "name": "stderr",
     "output_type": "stream",
     "text": [
      " 55%|█████▌    | 554/1000 [3:30:23<2:31:06, 20.33s/it]"
     ]
    },
    {
     "name": "stdout",
     "output_type": "stream",
     "text": [
      "eigenvalues shape torch.Size([5]) eigenvectors shape torch.Size([5, 450])\n",
      "554 /home/phdcs2/Hard_Disk/Datasets/Deep-Spectral-Segmentation/data/object-segmentation/ECSSD/features/dino_vits16/0555.pth\n",
      "dict_keys(['k', 'indices', 'file', 'id', 'model_name', 'patch_size', 'shape'])\n",
      "0555\n",
      "Starting Training\n",
      "epoch: 00, loss: -0.58124\n",
      "epoch: 01, loss: -0.85517\n",
      "epoch: 02, loss: -0.90202\n",
      "epoch: 03, loss: -0.91243\n",
      "epoch: 04, loss: -0.90867\n",
      "epoch: 05, loss: -0.89165\n",
      "epoch: 06, loss: -0.89636\n",
      "epoch: 07, loss: -0.89995\n",
      "epoch: 08, loss: -0.89566\n",
      "epoch: 09, loss: -0.91111\n"
     ]
    },
    {
     "name": "stderr",
     "output_type": "stream",
     "text": [
      " 56%|█████▌    | 555/1000 [3:30:49<2:43:10, 22.00s/it]"
     ]
    },
    {
     "name": "stdout",
     "output_type": "stream",
     "text": [
      "eigenvalues shape torch.Size([5]) eigenvectors shape torch.Size([5, 500])\n",
      "555 /home/phdcs2/Hard_Disk/Datasets/Deep-Spectral-Segmentation/data/object-segmentation/ECSSD/features/dino_vits16/0556.pth\n",
      "dict_keys(['k', 'indices', 'file', 'id', 'model_name', 'patch_size', 'shape'])\n",
      "0556\n",
      "Starting Training\n",
      "epoch: 00, loss: -0.49407\n",
      "epoch: 01, loss: -0.68263\n",
      "epoch: 02, loss: -0.73266\n",
      "epoch: 03, loss: -0.75414\n",
      "epoch: 04, loss: -0.75403\n",
      "epoch: 05, loss: -0.71992\n",
      "epoch: 06, loss: -0.78799\n",
      "epoch: 07, loss: -0.79887\n",
      "epoch: 08, loss: -0.80488\n",
      "epoch: 09, loss: -0.81384\n"
     ]
    },
    {
     "name": "stderr",
     "output_type": "stream",
     "text": [
      " 56%|█████▌    | 556/1000 [3:31:14<2:50:12, 23.00s/it]"
     ]
    },
    {
     "name": "stdout",
     "output_type": "stream",
     "text": [
      "eigenvalues shape torch.Size([5]) eigenvectors shape torch.Size([5, 525])\n",
      "556 /home/phdcs2/Hard_Disk/Datasets/Deep-Spectral-Segmentation/data/object-segmentation/ECSSD/features/dino_vits16/0557.pth\n",
      "dict_keys(['k', 'indices', 'file', 'id', 'model_name', 'patch_size', 'shape'])\n",
      "0557\n",
      "Starting Training\n",
      "epoch: 00, loss: -0.51537\n",
      "epoch: 01, loss: -0.82997\n",
      "epoch: 02, loss: -0.84770\n",
      "epoch: 03, loss: -0.87156\n",
      "epoch: 04, loss: -0.85556\n",
      "epoch: 05, loss: -0.83230\n",
      "epoch: 06, loss: -0.85446\n",
      "epoch: 07, loss: -0.82734\n",
      "epoch: 08, loss: -0.82610\n",
      "epoch: 09, loss: -0.84546\n"
     ]
    },
    {
     "name": "stderr",
     "output_type": "stream",
     "text": [
      " 56%|█████▌    | 557/1000 [3:31:35<2:45:02, 22.35s/it]"
     ]
    },
    {
     "name": "stdout",
     "output_type": "stream",
     "text": [
      "eigenvalues shape torch.Size([5]) eigenvectors shape torch.Size([5, 450])\n",
      "557 /home/phdcs2/Hard_Disk/Datasets/Deep-Spectral-Segmentation/data/object-segmentation/ECSSD/features/dino_vits16/0558.pth\n",
      "dict_keys(['k', 'indices', 'file', 'id', 'model_name', 'patch_size', 'shape'])\n",
      "0558\n",
      "Starting Training\n",
      "epoch: 00, loss: -0.47446\n",
      "epoch: 01, loss: -0.71689\n",
      "epoch: 02, loss: -0.77147\n",
      "epoch: 03, loss: -0.82318\n",
      "epoch: 04, loss: -0.85003\n",
      "epoch: 05, loss: -0.86639\n",
      "epoch: 06, loss: -0.87940\n",
      "epoch: 07, loss: -0.87419\n",
      "epoch: 08, loss: -0.86320\n",
      "epoch: 09, loss: -0.86936\n"
     ]
    },
    {
     "name": "stderr",
     "output_type": "stream",
     "text": [
      " 56%|█████▌    | 558/1000 [3:31:53<2:35:36, 21.12s/it]"
     ]
    },
    {
     "name": "stdout",
     "output_type": "stream",
     "text": [
      "eigenvalues shape torch.Size([5]) eigenvectors shape torch.Size([5, 400])\n",
      "558 /home/phdcs2/Hard_Disk/Datasets/Deep-Spectral-Segmentation/data/object-segmentation/ECSSD/features/dino_vits16/0559.pth\n",
      "dict_keys(['k', 'indices', 'file', 'id', 'model_name', 'patch_size', 'shape'])\n",
      "0559\n",
      "Starting Training\n",
      "epoch: 00, loss: -0.41526\n",
      "epoch: 01, loss: -0.67197\n",
      "epoch: 02, loss: -0.76180\n",
      "epoch: 03, loss: -0.77901\n",
      "epoch: 04, loss: -0.77683\n",
      "epoch: 05, loss: -0.76396\n",
      "epoch: 06, loss: -0.77260\n",
      "epoch: 07, loss: -0.79168\n",
      "epoch: 08, loss: -0.80576\n",
      "epoch: 09, loss: -0.81628\n"
     ]
    },
    {
     "name": "stderr",
     "output_type": "stream",
     "text": [
      " 56%|█████▌    | 559/1000 [3:32:12<2:30:44, 20.51s/it]"
     ]
    },
    {
     "name": "stdout",
     "output_type": "stream",
     "text": [
      "eigenvalues shape torch.Size([5]) eigenvectors shape torch.Size([5, 400])\n",
      "559 /home/phdcs2/Hard_Disk/Datasets/Deep-Spectral-Segmentation/data/object-segmentation/ECSSD/features/dino_vits16/0560.pth\n",
      "dict_keys(['k', 'indices', 'file', 'id', 'model_name', 'patch_size', 'shape'])\n",
      "0560\n",
      "Starting Training\n",
      "epoch: 00, loss: -0.38485\n",
      "epoch: 01, loss: -0.67795\n",
      "epoch: 02, loss: -0.77623\n",
      "epoch: 03, loss: -0.82253\n",
      "epoch: 04, loss: -0.84895\n",
      "epoch: 05, loss: -0.87298\n",
      "epoch: 06, loss: -0.86840\n",
      "epoch: 07, loss: -0.88669\n",
      "epoch: 08, loss: -0.88182\n",
      "epoch: 09, loss: -0.88867\n"
     ]
    },
    {
     "name": "stderr",
     "output_type": "stream",
     "text": [
      " 56%|█████▌    | 560/1000 [3:32:31<2:27:31, 20.12s/it]"
     ]
    },
    {
     "name": "stdout",
     "output_type": "stream",
     "text": [
      "eigenvalues shape torch.Size([5]) eigenvectors shape torch.Size([5, 400])\n",
      "560 /home/phdcs2/Hard_Disk/Datasets/Deep-Spectral-Segmentation/data/object-segmentation/ECSSD/features/dino_vits16/0561.pth\n",
      "dict_keys(['k', 'indices', 'file', 'id', 'model_name', 'patch_size', 'shape'])\n",
      "0561\n",
      "Starting Training\n",
      "epoch: 00, loss: -0.35361\n",
      "epoch: 01, loss: -0.74914\n",
      "epoch: 02, loss: -0.79438\n",
      "epoch: 03, loss: -0.81345\n",
      "epoch: 04, loss: -0.86859\n",
      "epoch: 05, loss: -0.86778\n",
      "epoch: 06, loss: -0.88135\n",
      "epoch: 07, loss: -0.88398\n",
      "epoch: 08, loss: -0.87059\n",
      "epoch: 09, loss: -0.85854\n"
     ]
    },
    {
     "name": "stderr",
     "output_type": "stream",
     "text": [
      " 56%|█████▌    | 561/1000 [3:32:53<2:30:12, 20.53s/it]"
     ]
    },
    {
     "name": "stdout",
     "output_type": "stream",
     "text": [
      "eigenvalues shape torch.Size([5]) eigenvectors shape torch.Size([5, 450])\n",
      "561 /home/phdcs2/Hard_Disk/Datasets/Deep-Spectral-Segmentation/data/object-segmentation/ECSSD/features/dino_vits16/0562.pth\n",
      "dict_keys(['k', 'indices', 'file', 'id', 'model_name', 'patch_size', 'shape'])\n",
      "0562\n",
      "Starting Training\n",
      "epoch: 00, loss: -0.50458\n",
      "epoch: 01, loss: -0.79115\n",
      "epoch: 02, loss: -0.81054\n",
      "epoch: 03, loss: -0.80587\n",
      "epoch: 04, loss: -0.76609\n",
      "epoch: 05, loss: -0.79974\n",
      "epoch: 06, loss: -0.80152\n",
      "epoch: 07, loss: -0.81520\n",
      "epoch: 08, loss: -0.80248\n",
      "epoch: 09, loss: -0.80758\n"
     ]
    },
    {
     "name": "stderr",
     "output_type": "stream",
     "text": [
      " 56%|█████▌    | 562/1000 [3:33:11<2:24:34, 19.80s/it]"
     ]
    },
    {
     "name": "stdout",
     "output_type": "stream",
     "text": [
      "eigenvalues shape torch.Size([5]) eigenvectors shape torch.Size([5, 400])\n",
      "562 /home/phdcs2/Hard_Disk/Datasets/Deep-Spectral-Segmentation/data/object-segmentation/ECSSD/features/dino_vits16/0563.pth\n",
      "dict_keys(['k', 'indices', 'file', 'id', 'model_name', 'patch_size', 'shape'])\n",
      "0563\n",
      "Starting Training\n",
      "epoch: 00, loss: -0.42642\n",
      "epoch: 01, loss: -0.71361\n",
      "epoch: 02, loss: -0.73844\n",
      "epoch: 03, loss: -0.75888\n",
      "epoch: 04, loss: -0.74568\n",
      "epoch: 05, loss: -0.73639\n",
      "epoch: 06, loss: -0.76647\n",
      "epoch: 07, loss: -0.75886\n",
      "epoch: 08, loss: -0.78666\n",
      "epoch: 09, loss: -0.79446\n"
     ]
    },
    {
     "name": "stderr",
     "output_type": "stream",
     "text": [
      " 56%|█████▋    | 563/1000 [3:33:33<2:28:31, 20.39s/it]"
     ]
    },
    {
     "name": "stdout",
     "output_type": "stream",
     "text": [
      "eigenvalues shape torch.Size([5]) eigenvectors shape torch.Size([5, 450])\n",
      "563 /home/phdcs2/Hard_Disk/Datasets/Deep-Spectral-Segmentation/data/object-segmentation/ECSSD/features/dino_vits16/0564.pth\n",
      "dict_keys(['k', 'indices', 'file', 'id', 'model_name', 'patch_size', 'shape'])\n",
      "0564\n",
      "Starting Training\n",
      "epoch: 00, loss: -0.45088\n",
      "epoch: 01, loss: -0.68106\n",
      "epoch: 02, loss: -0.72838\n",
      "epoch: 03, loss: -0.76252\n",
      "epoch: 04, loss: -0.79190\n",
      "epoch: 05, loss: -0.81547\n",
      "epoch: 06, loss: -0.84749\n",
      "epoch: 07, loss: -0.85129\n",
      "epoch: 08, loss: -0.85676\n",
      "epoch: 09, loss: -0.85820\n"
     ]
    },
    {
     "name": "stderr",
     "output_type": "stream",
     "text": [
      " 56%|█████▋    | 564/1000 [3:33:55<2:31:36, 20.86s/it]"
     ]
    },
    {
     "name": "stdout",
     "output_type": "stream",
     "text": [
      "eigenvalues shape torch.Size([5]) eigenvectors shape torch.Size([5, 450])\n",
      "564 /home/phdcs2/Hard_Disk/Datasets/Deep-Spectral-Segmentation/data/object-segmentation/ECSSD/features/dino_vits16/0565.pth\n",
      "dict_keys(['k', 'indices', 'file', 'id', 'model_name', 'patch_size', 'shape'])\n",
      "0565\n",
      "Starting Training\n",
      "epoch: 00, loss: -0.47245\n",
      "epoch: 01, loss: -0.69039\n",
      "epoch: 02, loss: -0.72823\n",
      "epoch: 03, loss: -0.74764\n",
      "epoch: 04, loss: -0.75147\n",
      "epoch: 05, loss: -0.75191\n",
      "epoch: 06, loss: -0.75154\n",
      "epoch: 07, loss: -0.78124\n",
      "epoch: 08, loss: -0.78313\n",
      "epoch: 09, loss: -0.79633\n"
     ]
    },
    {
     "name": "stderr",
     "output_type": "stream",
     "text": [
      " 56%|█████▋    | 565/1000 [3:34:14<2:28:10, 20.44s/it]"
     ]
    },
    {
     "name": "stdout",
     "output_type": "stream",
     "text": [
      "eigenvalues shape torch.Size([5]) eigenvectors shape torch.Size([5, 450])\n",
      "565 /home/phdcs2/Hard_Disk/Datasets/Deep-Spectral-Segmentation/data/object-segmentation/ECSSD/features/dino_vits16/0566.pth\n",
      "dict_keys(['k', 'indices', 'file', 'id', 'model_name', 'patch_size', 'shape'])\n",
      "0566\n",
      "Starting Training\n",
      "epoch: 00, loss: -0.45960\n",
      "epoch: 01, loss: -0.76878\n",
      "epoch: 02, loss: -0.81789\n",
      "epoch: 03, loss: -0.84206\n",
      "epoch: 04, loss: -0.84224\n",
      "epoch: 05, loss: -0.83948\n",
      "epoch: 06, loss: -0.84464\n",
      "epoch: 07, loss: -0.82502\n",
      "epoch: 08, loss: -0.78724\n",
      "epoch: 09, loss: -0.76903\n"
     ]
    },
    {
     "name": "stderr",
     "output_type": "stream",
     "text": [
      " 57%|█████▋    | 566/1000 [3:34:35<2:30:00, 20.74s/it]"
     ]
    },
    {
     "name": "stdout",
     "output_type": "stream",
     "text": [
      "eigenvalues shape torch.Size([5]) eigenvectors shape torch.Size([5, 450])\n",
      "566 /home/phdcs2/Hard_Disk/Datasets/Deep-Spectral-Segmentation/data/object-segmentation/ECSSD/features/dino_vits16/0567.pth\n",
      "dict_keys(['k', 'indices', 'file', 'id', 'model_name', 'patch_size', 'shape'])\n",
      "0567\n",
      "Starting Training\n",
      "epoch: 00, loss: -0.25672\n",
      "epoch: 01, loss: -0.62366\n",
      "epoch: 02, loss: -0.70029\n",
      "epoch: 03, loss: -0.70654\n",
      "epoch: 04, loss: -0.73961\n",
      "epoch: 05, loss: -0.73381\n",
      "epoch: 06, loss: -0.73116\n",
      "epoch: 07, loss: -0.74372\n",
      "epoch: 08, loss: -0.75283\n",
      "epoch: 09, loss: -0.76355\n"
     ]
    },
    {
     "name": "stderr",
     "output_type": "stream",
     "text": [
      " 57%|█████▋    | 567/1000 [3:34:54<2:25:01, 20.10s/it]"
     ]
    },
    {
     "name": "stdout",
     "output_type": "stream",
     "text": [
      "eigenvalues shape torch.Size([5]) eigenvectors shape torch.Size([5, 400])\n",
      "567 /home/phdcs2/Hard_Disk/Datasets/Deep-Spectral-Segmentation/data/object-segmentation/ECSSD/features/dino_vits16/0568.pth\n",
      "dict_keys(['k', 'indices', 'file', 'id', 'model_name', 'patch_size', 'shape'])\n",
      "0568\n",
      "Starting Training\n",
      "epoch: 00, loss: -0.36752\n",
      "epoch: 01, loss: -0.67905\n",
      "epoch: 02, loss: -0.71353\n",
      "epoch: 03, loss: -0.68849\n",
      "epoch: 04, loss: -0.74831\n",
      "epoch: 05, loss: -0.75875\n",
      "epoch: 06, loss: -0.74061\n",
      "epoch: 07, loss: -0.68686\n",
      "epoch: 08, loss: -0.70623\n",
      "epoch: 09, loss: -0.71574\n"
     ]
    },
    {
     "name": "stderr",
     "output_type": "stream",
     "text": [
      " 57%|█████▋    | 568/1000 [3:35:10<2:16:14, 18.92s/it]"
     ]
    },
    {
     "name": "stdout",
     "output_type": "stream",
     "text": [
      "eigenvalues shape torch.Size([5]) eigenvectors shape torch.Size([5, 375])\n",
      "568 /home/phdcs2/Hard_Disk/Datasets/Deep-Spectral-Segmentation/data/object-segmentation/ECSSD/features/dino_vits16/0569.pth\n",
      "dict_keys(['k', 'indices', 'file', 'id', 'model_name', 'patch_size', 'shape'])\n",
      "0569\n",
      "Starting Training\n",
      "epoch: 00, loss: -0.23534\n",
      "epoch: 01, loss: -0.59150\n",
      "epoch: 02, loss: -0.69644\n",
      "epoch: 03, loss: -0.72071\n",
      "epoch: 04, loss: -0.71354\n",
      "epoch: 05, loss: -0.72621\n",
      "epoch: 06, loss: -0.71070\n",
      "epoch: 07, loss: -0.70390\n",
      "epoch: 08, loss: -0.72795\n",
      "epoch: 09, loss: -0.73969\n"
     ]
    },
    {
     "name": "stderr",
     "output_type": "stream",
     "text": [
      " 57%|█████▋    | 569/1000 [3:35:29<2:15:37, 18.88s/it]"
     ]
    },
    {
     "name": "stdout",
     "output_type": "stream",
     "text": [
      "eigenvalues shape torch.Size([5]) eigenvectors shape torch.Size([5, 400])\n",
      "569 /home/phdcs2/Hard_Disk/Datasets/Deep-Spectral-Segmentation/data/object-segmentation/ECSSD/features/dino_vits16/0570.pth\n",
      "dict_keys(['k', 'indices', 'file', 'id', 'model_name', 'patch_size', 'shape'])\n",
      "0570\n",
      "Starting Training\n",
      "epoch: 00, loss: -0.49245\n",
      "epoch: 01, loss: -0.60337\n",
      "epoch: 02, loss: -0.69958\n",
      "epoch: 03, loss: -0.72202\n",
      "epoch: 04, loss: -0.72965\n",
      "epoch: 05, loss: -0.78155\n",
      "epoch: 06, loss: -0.76652\n",
      "epoch: 07, loss: -0.76026\n",
      "epoch: 08, loss: -0.75524\n",
      "epoch: 09, loss: -0.78404\n"
     ]
    },
    {
     "name": "stderr",
     "output_type": "stream",
     "text": [
      " 57%|█████▋    | 570/1000 [3:35:52<2:24:11, 20.12s/it]"
     ]
    },
    {
     "name": "stdout",
     "output_type": "stream",
     "text": [
      "eigenvalues shape torch.Size([5]) eigenvectors shape torch.Size([5, 450])\n",
      "570 /home/phdcs2/Hard_Disk/Datasets/Deep-Spectral-Segmentation/data/object-segmentation/ECSSD/features/dino_vits16/0571.pth\n",
      "dict_keys(['k', 'indices', 'file', 'id', 'model_name', 'patch_size', 'shape'])\n",
      "0571\n",
      "Starting Training\n",
      "epoch: 00, loss: -0.48193\n",
      "epoch: 01, loss: -0.77010\n",
      "epoch: 02, loss: -0.81626\n",
      "epoch: 03, loss: -0.83473\n",
      "epoch: 04, loss: -0.82245\n",
      "epoch: 05, loss: -0.75498\n",
      "epoch: 06, loss: -0.77512\n",
      "epoch: 07, loss: -0.79511\n",
      "epoch: 08, loss: -0.82927\n",
      "epoch: 09, loss: -0.84560\n"
     ]
    },
    {
     "name": "stderr",
     "output_type": "stream",
     "text": [
      " 57%|█████▋    | 571/1000 [3:36:14<2:28:47, 20.81s/it]"
     ]
    },
    {
     "name": "stdout",
     "output_type": "stream",
     "text": [
      "eigenvalues shape torch.Size([5]) eigenvectors shape torch.Size([5, 450])\n",
      "571 /home/phdcs2/Hard_Disk/Datasets/Deep-Spectral-Segmentation/data/object-segmentation/ECSSD/features/dino_vits16/0572.pth\n",
      "dict_keys(['k', 'indices', 'file', 'id', 'model_name', 'patch_size', 'shape'])\n",
      "0572\n",
      "Starting Training\n",
      "epoch: 00, loss: -0.37557\n",
      "epoch: 01, loss: -0.71613\n",
      "epoch: 02, loss: -0.70562\n",
      "epoch: 03, loss: -0.68612\n",
      "epoch: 04, loss: -0.73238\n",
      "epoch: 05, loss: -0.73986\n",
      "epoch: 06, loss: -0.78109\n",
      "epoch: 07, loss: -0.81910\n",
      "epoch: 08, loss: -0.83549\n",
      "epoch: 09, loss: -0.85637\n"
     ]
    },
    {
     "name": "stderr",
     "output_type": "stream",
     "text": [
      " 57%|█████▋    | 572/1000 [3:36:33<2:24:18, 20.23s/it]"
     ]
    },
    {
     "name": "stdout",
     "output_type": "stream",
     "text": [
      "eigenvalues shape torch.Size([5]) eigenvectors shape torch.Size([5, 400])\n",
      "572 /home/phdcs2/Hard_Disk/Datasets/Deep-Spectral-Segmentation/data/object-segmentation/ECSSD/features/dino_vits16/0573.pth\n",
      "dict_keys(['k', 'indices', 'file', 'id', 'model_name', 'patch_size', 'shape'])\n",
      "0573\n",
      "Starting Training\n",
      "epoch: 00, loss: -0.40452\n",
      "epoch: 01, loss: -0.63176\n",
      "epoch: 02, loss: -0.65786\n",
      "epoch: 03, loss: -0.68756\n",
      "epoch: 04, loss: -0.68418\n",
      "epoch: 05, loss: -0.69513\n",
      "epoch: 06, loss: -0.73543\n",
      "epoch: 07, loss: -0.72486\n",
      "epoch: 08, loss: -0.67949\n",
      "epoch: 09, loss: -0.71308\n"
     ]
    },
    {
     "name": "stderr",
     "output_type": "stream",
     "text": [
      " 57%|█████▋    | 573/1000 [3:36:56<2:29:44, 21.04s/it]"
     ]
    },
    {
     "name": "stdout",
     "output_type": "stream",
     "text": [
      "eigenvalues shape torch.Size([5]) eigenvectors shape torch.Size([5, 525])\n",
      "573 /home/phdcs2/Hard_Disk/Datasets/Deep-Spectral-Segmentation/data/object-segmentation/ECSSD/features/dino_vits16/0574.pth\n",
      "dict_keys(['k', 'indices', 'file', 'id', 'model_name', 'patch_size', 'shape'])\n",
      "0574\n",
      "Starting Training\n",
      "epoch: 00, loss: -0.33277\n",
      "epoch: 01, loss: -0.74722\n",
      "epoch: 02, loss: -0.78027\n",
      "epoch: 03, loss: -0.82088\n",
      "epoch: 04, loss: -0.84214\n",
      "epoch: 05, loss: -0.85772\n",
      "epoch: 06, loss: -0.90095\n",
      "epoch: 07, loss: -0.90566\n",
      "epoch: 08, loss: -0.91018\n",
      "epoch: 09, loss: -0.88613\n"
     ]
    },
    {
     "name": "stderr",
     "output_type": "stream",
     "text": [
      " 57%|█████▋    | 574/1000 [3:37:16<2:26:07, 20.58s/it]"
     ]
    },
    {
     "name": "stdout",
     "output_type": "stream",
     "text": [
      "eigenvalues shape torch.Size([5]) eigenvectors shape torch.Size([5, 400])\n",
      "574 /home/phdcs2/Hard_Disk/Datasets/Deep-Spectral-Segmentation/data/object-segmentation/ECSSD/features/dino_vits16/0575.pth\n",
      "dict_keys(['k', 'indices', 'file', 'id', 'model_name', 'patch_size', 'shape'])\n",
      "0575\n",
      "Starting Training\n",
      "epoch: 00, loss: -0.41762\n",
      "epoch: 01, loss: -0.69576\n",
      "epoch: 02, loss: -0.74144\n",
      "epoch: 03, loss: -0.70908\n",
      "epoch: 04, loss: -0.69078\n",
      "epoch: 05, loss: -0.71960\n",
      "epoch: 06, loss: -0.72756\n",
      "epoch: 07, loss: -0.73598\n",
      "epoch: 08, loss: -0.76899\n",
      "epoch: 09, loss: -0.76381\n"
     ]
    },
    {
     "name": "stderr",
     "output_type": "stream",
     "text": [
      " 57%|█████▊    | 575/1000 [3:37:36<2:24:59, 20.47s/it]"
     ]
    },
    {
     "name": "stdout",
     "output_type": "stream",
     "text": [
      "eigenvalues shape torch.Size([5]) eigenvectors shape torch.Size([5, 475])\n",
      "575 /home/phdcs2/Hard_Disk/Datasets/Deep-Spectral-Segmentation/data/object-segmentation/ECSSD/features/dino_vits16/0576.pth\n",
      "dict_keys(['k', 'indices', 'file', 'id', 'model_name', 'patch_size', 'shape'])\n",
      "0576\n",
      "Starting Training\n",
      "epoch: 00, loss: -0.43837\n",
      "epoch: 01, loss: -0.68093\n",
      "epoch: 02, loss: -0.75503\n",
      "epoch: 03, loss: -0.75381\n",
      "epoch: 04, loss: -0.75173\n",
      "epoch: 05, loss: -0.77141\n",
      "epoch: 06, loss: -0.78687\n",
      "epoch: 07, loss: -0.79253\n",
      "epoch: 08, loss: -0.80477\n",
      "epoch: 09, loss: -0.80379\n"
     ]
    },
    {
     "name": "stderr",
     "output_type": "stream",
     "text": [
      " 58%|█████▊    | 576/1000 [3:37:59<2:29:27, 21.15s/it]"
     ]
    },
    {
     "name": "stdout",
     "output_type": "stream",
     "text": [
      "eigenvalues shape torch.Size([5]) eigenvectors shape torch.Size([5, 475])\n",
      "576 /home/phdcs2/Hard_Disk/Datasets/Deep-Spectral-Segmentation/data/object-segmentation/ECSSD/features/dino_vits16/0577.pth\n",
      "dict_keys(['k', 'indices', 'file', 'id', 'model_name', 'patch_size', 'shape'])\n",
      "0577\n",
      "Starting Training\n",
      "epoch: 00, loss: -0.32068\n",
      "epoch: 01, loss: -0.65962\n",
      "epoch: 02, loss: -0.75057\n",
      "epoch: 03, loss: -0.75482\n",
      "epoch: 04, loss: -0.74734\n",
      "epoch: 05, loss: -0.69773\n",
      "epoch: 06, loss: -0.74758\n",
      "epoch: 07, loss: -0.74677\n",
      "epoch: 08, loss: -0.75015\n",
      "epoch: 09, loss: -0.75617\n"
     ]
    },
    {
     "name": "stderr",
     "output_type": "stream",
     "text": [
      " 58%|█████▊    | 577/1000 [3:38:20<2:29:38, 21.23s/it]"
     ]
    },
    {
     "name": "stdout",
     "output_type": "stream",
     "text": [
      "eigenvalues shape torch.Size([5]) eigenvectors shape torch.Size([5, 450])\n",
      "577 /home/phdcs2/Hard_Disk/Datasets/Deep-Spectral-Segmentation/data/object-segmentation/ECSSD/features/dino_vits16/0578.pth\n",
      "dict_keys(['k', 'indices', 'file', 'id', 'model_name', 'patch_size', 'shape'])\n",
      "0578\n",
      "Starting Training\n",
      "epoch: 00, loss: -0.62649\n",
      "epoch: 01, loss: -0.84401\n",
      "epoch: 02, loss: -0.80016\n",
      "epoch: 03, loss: -0.77851\n",
      "epoch: 04, loss: -0.77199\n",
      "epoch: 05, loss: -0.74070\n",
      "epoch: 06, loss: -0.57791\n",
      "epoch: 07, loss: -0.71167\n",
      "epoch: 08, loss: -0.77418\n",
      "epoch: 09, loss: -0.80728\n"
     ]
    },
    {
     "name": "stderr",
     "output_type": "stream",
     "text": [
      " 58%|█████▊    | 578/1000 [3:38:49<2:45:24, 23.52s/it]"
     ]
    },
    {
     "name": "stdout",
     "output_type": "stream",
     "text": [
      "eigenvalues shape torch.Size([5]) eigenvectors shape torch.Size([5, 625])\n",
      "578 /home/phdcs2/Hard_Disk/Datasets/Deep-Spectral-Segmentation/data/object-segmentation/ECSSD/features/dino_vits16/0579.pth\n",
      "dict_keys(['k', 'indices', 'file', 'id', 'model_name', 'patch_size', 'shape'])\n",
      "0579\n",
      "Starting Training\n",
      "epoch: 00, loss: -0.40751\n",
      "epoch: 01, loss: -0.65537\n",
      "epoch: 02, loss: -0.75304\n",
      "epoch: 03, loss: -0.79520\n",
      "epoch: 04, loss: -0.81705\n",
      "epoch: 05, loss: -0.82834\n",
      "epoch: 06, loss: -0.82949\n",
      "epoch: 07, loss: -0.84480\n",
      "epoch: 08, loss: -0.86130\n",
      "epoch: 09, loss: -0.87243\n"
     ]
    },
    {
     "name": "stderr",
     "output_type": "stream",
     "text": [
      " 58%|█████▊    | 579/1000 [3:39:05<2:29:43, 21.34s/it]"
     ]
    },
    {
     "name": "stdout",
     "output_type": "stream",
     "text": [
      "eigenvalues shape torch.Size([5]) eigenvectors shape torch.Size([5, 375])\n",
      "579 /home/phdcs2/Hard_Disk/Datasets/Deep-Spectral-Segmentation/data/object-segmentation/ECSSD/features/dino_vits16/0580.pth\n",
      "dict_keys(['k', 'indices', 'file', 'id', 'model_name', 'patch_size', 'shape'])\n",
      "0580\n",
      "Starting Training\n",
      "epoch: 00, loss: -0.29272\n",
      "epoch: 01, loss: -0.60126\n",
      "epoch: 02, loss: -0.65941\n",
      "epoch: 03, loss: -0.71267\n",
      "epoch: 04, loss: -0.76751\n",
      "epoch: 05, loss: -0.79067\n",
      "epoch: 06, loss: -0.80017\n",
      "epoch: 07, loss: -0.81213\n",
      "epoch: 08, loss: -0.82213\n",
      "epoch: 09, loss: -0.80295\n"
     ]
    },
    {
     "name": "stderr",
     "output_type": "stream",
     "text": [
      " 58%|█████▊    | 580/1000 [3:39:24<2:24:44, 20.68s/it]"
     ]
    },
    {
     "name": "stdout",
     "output_type": "stream",
     "text": [
      "eigenvalues shape torch.Size([5]) eigenvectors shape torch.Size([5, 400])\n",
      "580 /home/phdcs2/Hard_Disk/Datasets/Deep-Spectral-Segmentation/data/object-segmentation/ECSSD/features/dino_vits16/0581.pth\n",
      "dict_keys(['k', 'indices', 'file', 'id', 'model_name', 'patch_size', 'shape'])\n",
      "0581\n",
      "Starting Training\n",
      "epoch: 00, loss: -0.57517\n",
      "epoch: 01, loss: -0.89345\n",
      "epoch: 02, loss: -0.91297\n",
      "epoch: 03, loss: -0.92049\n",
      "epoch: 04, loss: -0.91795\n",
      "epoch: 05, loss: -0.92728\n",
      "epoch: 06, loss: -0.92564\n",
      "epoch: 07, loss: -0.91684\n",
      "epoch: 08, loss: -0.92319\n",
      "epoch: 09, loss: -0.90962\n"
     ]
    },
    {
     "name": "stderr",
     "output_type": "stream",
     "text": [
      " 58%|█████▊    | 581/1000 [3:39:42<2:18:28, 19.83s/it]"
     ]
    },
    {
     "name": "stdout",
     "output_type": "stream",
     "text": [
      "eigenvalues shape torch.Size([5]) eigenvectors shape torch.Size([5, 400])\n",
      "581 /home/phdcs2/Hard_Disk/Datasets/Deep-Spectral-Segmentation/data/object-segmentation/ECSSD/features/dino_vits16/0582.pth\n",
      "dict_keys(['k', 'indices', 'file', 'id', 'model_name', 'patch_size', 'shape'])\n",
      "0582\n",
      "Starting Training\n",
      "epoch: 00, loss: -0.39421\n",
      "epoch: 01, loss: -0.79037\n",
      "epoch: 02, loss: -0.77395\n",
      "epoch: 03, loss: -0.77222\n",
      "epoch: 04, loss: -0.76282\n",
      "epoch: 05, loss: -0.75545\n",
      "epoch: 06, loss: -0.78391\n",
      "epoch: 07, loss: -0.76488\n",
      "epoch: 08, loss: -0.78994\n",
      "epoch: 09, loss: -0.83578\n"
     ]
    },
    {
     "name": "stderr",
     "output_type": "stream",
     "text": [
      " 58%|█████▊    | 582/1000 [3:40:01<2:15:43, 19.48s/it]"
     ]
    },
    {
     "name": "stdout",
     "output_type": "stream",
     "text": [
      "eigenvalues shape torch.Size([5]) eigenvectors shape torch.Size([5, 400])\n",
      "582 /home/phdcs2/Hard_Disk/Datasets/Deep-Spectral-Segmentation/data/object-segmentation/ECSSD/features/dino_vits16/0583.pth\n",
      "dict_keys(['k', 'indices', 'file', 'id', 'model_name', 'patch_size', 'shape'])\n",
      "0583\n",
      "Starting Training\n",
      "epoch: 00, loss: -0.38999\n",
      "epoch: 01, loss: -0.74913\n",
      "epoch: 02, loss: -0.77234\n",
      "epoch: 03, loss: -0.79940\n",
      "epoch: 04, loss: -0.81218\n",
      "epoch: 05, loss: -0.77668\n",
      "epoch: 06, loss: -0.77801\n",
      "epoch: 07, loss: -0.81313\n",
      "epoch: 08, loss: -0.79044\n",
      "epoch: 09, loss: -0.81967\n"
     ]
    },
    {
     "name": "stderr",
     "output_type": "stream",
     "text": [
      " 58%|█████▊    | 583/1000 [3:40:22<2:18:42, 19.96s/it]"
     ]
    },
    {
     "name": "stdout",
     "output_type": "stream",
     "text": [
      "eigenvalues shape torch.Size([5]) eigenvectors shape torch.Size([5, 450])\n",
      "583 /home/phdcs2/Hard_Disk/Datasets/Deep-Spectral-Segmentation/data/object-segmentation/ECSSD/features/dino_vits16/0584.pth\n",
      "dict_keys(['k', 'indices', 'file', 'id', 'model_name', 'patch_size', 'shape'])\n",
      "0584\n",
      "Starting Training\n",
      "epoch: 00, loss: -0.70814\n",
      "epoch: 01, loss: -0.91293\n",
      "epoch: 02, loss: -0.91140\n",
      "epoch: 03, loss: -0.92068\n",
      "epoch: 04, loss: -0.90944\n",
      "epoch: 05, loss: -0.92479\n",
      "epoch: 06, loss: -0.92409\n",
      "epoch: 07, loss: -0.92472\n",
      "epoch: 08, loss: -0.92920\n",
      "epoch: 09, loss: -0.89590\n"
     ]
    },
    {
     "name": "stderr",
     "output_type": "stream",
     "text": [
      " 58%|█████▊    | 584/1000 [3:40:42<2:17:50, 19.88s/it]"
     ]
    },
    {
     "name": "stdout",
     "output_type": "stream",
     "text": [
      "eigenvalues shape torch.Size([5]) eigenvectors shape torch.Size([5, 450])\n",
      "584 /home/phdcs2/Hard_Disk/Datasets/Deep-Spectral-Segmentation/data/object-segmentation/ECSSD/features/dino_vits16/0585.pth\n",
      "dict_keys(['k', 'indices', 'file', 'id', 'model_name', 'patch_size', 'shape'])\n",
      "0585\n",
      "Starting Training\n",
      "epoch: 00, loss: -0.61178\n",
      "epoch: 01, loss: -0.91472\n",
      "epoch: 02, loss: -0.92973\n",
      "epoch: 03, loss: -0.93224\n",
      "epoch: 04, loss: -0.93794\n",
      "epoch: 05, loss: -0.94239\n",
      "epoch: 06, loss: -0.94667\n",
      "epoch: 07, loss: -0.94391\n",
      "epoch: 08, loss: -0.94594\n",
      "epoch: 09, loss: -0.94619\n"
     ]
    },
    {
     "name": "stderr",
     "output_type": "stream",
     "text": [
      " 58%|█████▊    | 585/1000 [3:41:03<2:20:08, 20.26s/it]"
     ]
    },
    {
     "name": "stdout",
     "output_type": "stream",
     "text": [
      "eigenvalues shape torch.Size([5]) eigenvectors shape torch.Size([5, 450])\n",
      "585 /home/phdcs2/Hard_Disk/Datasets/Deep-Spectral-Segmentation/data/object-segmentation/ECSSD/features/dino_vits16/0586.pth\n",
      "dict_keys(['k', 'indices', 'file', 'id', 'model_name', 'patch_size', 'shape'])\n",
      "0586\n",
      "Starting Training\n",
      "epoch: 00, loss: -0.57526\n",
      "epoch: 01, loss: -0.88623\n",
      "epoch: 02, loss: -0.89975\n",
      "epoch: 03, loss: -0.89807\n",
      "epoch: 04, loss: -0.90825\n",
      "epoch: 05, loss: -0.90708\n",
      "epoch: 06, loss: -0.91600\n",
      "epoch: 07, loss: -0.91375\n",
      "epoch: 08, loss: -0.91424\n",
      "epoch: 09, loss: -0.91303\n"
     ]
    },
    {
     "name": "stderr",
     "output_type": "stream",
     "text": [
      " 59%|█████▊    | 586/1000 [3:41:23<2:20:03, 20.30s/it]"
     ]
    },
    {
     "name": "stdout",
     "output_type": "stream",
     "text": [
      "eigenvalues shape torch.Size([5]) eigenvectors shape torch.Size([5, 425])\n",
      "586 /home/phdcs2/Hard_Disk/Datasets/Deep-Spectral-Segmentation/data/object-segmentation/ECSSD/features/dino_vits16/0587.pth\n",
      "dict_keys(['k', 'indices', 'file', 'id', 'model_name', 'patch_size', 'shape'])\n",
      "0587\n",
      "Starting Training\n",
      "epoch: 00, loss: -0.54629\n",
      "epoch: 01, loss: -0.79192\n",
      "epoch: 02, loss: -0.78301\n",
      "epoch: 03, loss: -0.76365\n",
      "epoch: 04, loss: -0.73366\n",
      "epoch: 05, loss: -0.76183\n",
      "epoch: 06, loss: -0.76663\n",
      "epoch: 07, loss: -0.80634\n",
      "epoch: 08, loss: -0.81029\n",
      "epoch: 09, loss: -0.80642\n"
     ]
    },
    {
     "name": "stderr",
     "output_type": "stream",
     "text": [
      " 59%|█████▊    | 587/1000 [3:41:41<2:14:58, 19.61s/it]"
     ]
    },
    {
     "name": "stdout",
     "output_type": "stream",
     "text": [
      "eigenvalues shape torch.Size([5]) eigenvectors shape torch.Size([5, 400])\n",
      "587 /home/phdcs2/Hard_Disk/Datasets/Deep-Spectral-Segmentation/data/object-segmentation/ECSSD/features/dino_vits16/0588.pth\n",
      "dict_keys(['k', 'indices', 'file', 'id', 'model_name', 'patch_size', 'shape'])\n",
      "0588\n",
      "Starting Training\n",
      "epoch: 00, loss: -0.57854\n",
      "epoch: 01, loss: -0.82283\n",
      "epoch: 02, loss: -0.79850\n",
      "epoch: 03, loss: -0.88072\n",
      "epoch: 04, loss: -0.92975\n",
      "epoch: 05, loss: -0.92738\n",
      "epoch: 06, loss: -0.93072\n",
      "epoch: 07, loss: -0.92611\n",
      "epoch: 08, loss: -0.92188\n",
      "epoch: 09, loss: -0.90776\n"
     ]
    },
    {
     "name": "stderr",
     "output_type": "stream",
     "text": [
      " 59%|█████▉    | 588/1000 [3:42:01<2:15:21, 19.71s/it]"
     ]
    },
    {
     "name": "stdout",
     "output_type": "stream",
     "text": [
      "eigenvalues shape torch.Size([5]) eigenvectors shape torch.Size([5, 400])\n",
      "588 /home/phdcs2/Hard_Disk/Datasets/Deep-Spectral-Segmentation/data/object-segmentation/ECSSD/features/dino_vits16/0589.pth\n",
      "dict_keys(['k', 'indices', 'file', 'id', 'model_name', 'patch_size', 'shape'])\n",
      "0589\n",
      "Starting Training\n",
      "epoch: 00, loss: -0.28545\n",
      "epoch: 01, loss: -0.73643\n",
      "epoch: 02, loss: -0.74899\n",
      "epoch: 03, loss: -0.78819\n",
      "epoch: 04, loss: -0.78512\n",
      "epoch: 05, loss: -0.78039\n",
      "epoch: 06, loss: -0.76439\n",
      "epoch: 07, loss: -0.74006\n",
      "epoch: 08, loss: -0.74296\n",
      "epoch: 09, loss: -0.76293\n"
     ]
    },
    {
     "name": "stderr",
     "output_type": "stream",
     "text": [
      " 59%|█████▉    | 589/1000 [3:42:20<2:12:24, 19.33s/it]"
     ]
    },
    {
     "name": "stdout",
     "output_type": "stream",
     "text": [
      "eigenvalues shape torch.Size([5]) eigenvectors shape torch.Size([5, 400])\n",
      "589 /home/phdcs2/Hard_Disk/Datasets/Deep-Spectral-Segmentation/data/object-segmentation/ECSSD/features/dino_vits16/0590.pth\n",
      "dict_keys(['k', 'indices', 'file', 'id', 'model_name', 'patch_size', 'shape'])\n",
      "0590\n",
      "Starting Training\n",
      "epoch: 00, loss: -0.27738\n",
      "epoch: 01, loss: -0.66476\n",
      "epoch: 02, loss: -0.69142\n",
      "epoch: 03, loss: -0.76905\n",
      "epoch: 04, loss: -0.76702\n",
      "epoch: 05, loss: -0.78545\n",
      "epoch: 06, loss: -0.79737\n",
      "epoch: 07, loss: -0.78500\n",
      "epoch: 08, loss: -0.79376\n",
      "epoch: 09, loss: -0.79973\n"
     ]
    },
    {
     "name": "stderr",
     "output_type": "stream",
     "text": [
      " 59%|█████▉    | 590/1000 [3:42:37<2:07:54, 18.72s/it]"
     ]
    },
    {
     "name": "stdout",
     "output_type": "stream",
     "text": [
      "eigenvalues shape torch.Size([5]) eigenvectors shape torch.Size([5, 400])\n",
      "590 /home/phdcs2/Hard_Disk/Datasets/Deep-Spectral-Segmentation/data/object-segmentation/ECSSD/features/dino_vits16/0591.pth\n",
      "dict_keys(['k', 'indices', 'file', 'id', 'model_name', 'patch_size', 'shape'])\n",
      "0591\n",
      "Starting Training\n",
      "epoch: 00, loss: -0.26491\n",
      "epoch: 01, loss: -0.62900\n",
      "epoch: 02, loss: -0.70548\n",
      "epoch: 03, loss: -0.69348\n",
      "epoch: 04, loss: -0.76681\n",
      "epoch: 05, loss: -0.79443\n",
      "epoch: 06, loss: -0.81746\n",
      "epoch: 07, loss: -0.83581\n",
      "epoch: 08, loss: -0.83268\n",
      "epoch: 09, loss: -0.84655\n"
     ]
    },
    {
     "name": "stderr",
     "output_type": "stream",
     "text": [
      " 59%|█████▉    | 591/1000 [3:42:53<2:02:46, 18.01s/it]"
     ]
    },
    {
     "name": "stdout",
     "output_type": "stream",
     "text": [
      "eigenvalues shape torch.Size([5]) eigenvectors shape torch.Size([5, 400])\n",
      "591 /home/phdcs2/Hard_Disk/Datasets/Deep-Spectral-Segmentation/data/object-segmentation/ECSSD/features/dino_vits16/0592.pth\n",
      "dict_keys(['k', 'indices', 'file', 'id', 'model_name', 'patch_size', 'shape'])\n",
      "0592\n",
      "Starting Training\n",
      "epoch: 00, loss: -0.50210\n",
      "epoch: 01, loss: -0.75494\n",
      "epoch: 02, loss: -0.72307\n",
      "epoch: 03, loss: -0.70885\n",
      "epoch: 04, loss: -0.71909\n",
      "epoch: 05, loss: -0.76198\n",
      "epoch: 06, loss: -0.77893\n",
      "epoch: 07, loss: -0.80934\n",
      "epoch: 08, loss: -0.83639\n",
      "epoch: 09, loss: -0.79910\n"
     ]
    },
    {
     "name": "stderr",
     "output_type": "stream",
     "text": [
      " 59%|█████▉    | 592/1000 [3:43:16<2:12:20, 19.46s/it]"
     ]
    },
    {
     "name": "stdout",
     "output_type": "stream",
     "text": [
      "eigenvalues shape torch.Size([5]) eigenvectors shape torch.Size([5, 475])\n",
      "592 /home/phdcs2/Hard_Disk/Datasets/Deep-Spectral-Segmentation/data/object-segmentation/ECSSD/features/dino_vits16/0593.pth\n",
      "dict_keys(['k', 'indices', 'file', 'id', 'model_name', 'patch_size', 'shape'])\n",
      "0593\n",
      "Starting Training\n",
      "epoch: 00, loss: -0.54297\n",
      "epoch: 01, loss: -0.88789\n",
      "epoch: 02, loss: -0.83462\n",
      "epoch: 03, loss: -0.80598\n",
      "epoch: 04, loss: -0.78782\n",
      "epoch: 05, loss: -0.78093\n",
      "epoch: 06, loss: -0.71780\n",
      "epoch: 07, loss: -0.69282\n",
      "epoch: 08, loss: -0.71733\n",
      "epoch: 09, loss: -0.72987\n"
     ]
    },
    {
     "name": "stderr",
     "output_type": "stream",
     "text": [
      " 59%|█████▉    | 593/1000 [3:43:34<2:09:24, 19.08s/it]"
     ]
    },
    {
     "name": "stdout",
     "output_type": "stream",
     "text": [
      "eigenvalues shape torch.Size([5]) eigenvectors shape torch.Size([5, 400])\n",
      "593 /home/phdcs2/Hard_Disk/Datasets/Deep-Spectral-Segmentation/data/object-segmentation/ECSSD/features/dino_vits16/0594.pth\n",
      "dict_keys(['k', 'indices', 'file', 'id', 'model_name', 'patch_size', 'shape'])\n",
      "0594\n",
      "Starting Training\n",
      "epoch: 00, loss: -0.24520\n",
      "epoch: 01, loss: -0.60479\n",
      "epoch: 02, loss: -0.67070\n",
      "epoch: 03, loss: -0.69401\n",
      "epoch: 04, loss: -0.73107\n",
      "epoch: 05, loss: -0.73408\n",
      "epoch: 06, loss: -0.73422\n",
      "epoch: 07, loss: -0.72784\n",
      "epoch: 08, loss: -0.73195\n",
      "epoch: 09, loss: -0.75696\n"
     ]
    },
    {
     "name": "stderr",
     "output_type": "stream",
     "text": [
      " 59%|█████▉    | 594/1000 [3:43:52<2:05:43, 18.58s/it]"
     ]
    },
    {
     "name": "stdout",
     "output_type": "stream",
     "text": [
      "eigenvalues shape torch.Size([5]) eigenvectors shape torch.Size([5, 400])\n",
      "594 /home/phdcs2/Hard_Disk/Datasets/Deep-Spectral-Segmentation/data/object-segmentation/ECSSD/features/dino_vits16/0595.pth\n",
      "dict_keys(['k', 'indices', 'file', 'id', 'model_name', 'patch_size', 'shape'])\n",
      "0595\n",
      "Starting Training\n",
      "epoch: 00, loss: -0.39878\n",
      "epoch: 01, loss: -0.65059\n",
      "epoch: 02, loss: -0.70118\n",
      "epoch: 03, loss: -0.71322\n",
      "epoch: 04, loss: -0.77340\n",
      "epoch: 05, loss: -0.76221\n",
      "epoch: 06, loss: -0.76127\n",
      "epoch: 07, loss: -0.73859\n",
      "epoch: 08, loss: -0.75799\n",
      "epoch: 09, loss: -0.75645\n"
     ]
    },
    {
     "name": "stderr",
     "output_type": "stream",
     "text": [
      " 60%|█████▉    | 595/1000 [3:44:11<2:06:03, 18.68s/it]"
     ]
    },
    {
     "name": "stdout",
     "output_type": "stream",
     "text": [
      "eigenvalues shape torch.Size([5]) eigenvectors shape torch.Size([5, 400])\n",
      "595 /home/phdcs2/Hard_Disk/Datasets/Deep-Spectral-Segmentation/data/object-segmentation/ECSSD/features/dino_vits16/0596.pth\n",
      "dict_keys(['k', 'indices', 'file', 'id', 'model_name', 'patch_size', 'shape'])\n",
      "0596\n",
      "Starting Training\n",
      "epoch: 00, loss: -0.50808\n",
      "epoch: 01, loss: -0.83160\n",
      "epoch: 02, loss: -0.80897\n",
      "epoch: 03, loss: -0.81172\n",
      "epoch: 04, loss: -0.81150\n",
      "epoch: 05, loss: -0.82389\n",
      "epoch: 06, loss: -0.80431\n",
      "epoch: 07, loss: -0.80996\n",
      "epoch: 08, loss: -0.81051\n",
      "epoch: 09, loss: -0.79845\n"
     ]
    },
    {
     "name": "stderr",
     "output_type": "stream",
     "text": [
      " 60%|█████▉    | 596/1000 [3:44:32<2:10:46, 19.42s/it]"
     ]
    },
    {
     "name": "stdout",
     "output_type": "stream",
     "text": [
      "eigenvalues shape torch.Size([5]) eigenvectors shape torch.Size([5, 450])\n",
      "596 /home/phdcs2/Hard_Disk/Datasets/Deep-Spectral-Segmentation/data/object-segmentation/ECSSD/features/dino_vits16/0597.pth\n",
      "dict_keys(['k', 'indices', 'file', 'id', 'model_name', 'patch_size', 'shape'])\n",
      "0597\n",
      "Starting Training\n",
      "epoch: 00, loss: -0.52160\n",
      "epoch: 01, loss: -0.74116\n",
      "epoch: 02, loss: -0.76519\n",
      "epoch: 03, loss: -0.77496\n",
      "epoch: 04, loss: -0.79872\n",
      "epoch: 05, loss: -0.81281\n",
      "epoch: 06, loss: -0.84028\n",
      "epoch: 07, loss: -0.85176\n",
      "epoch: 08, loss: -0.86433\n",
      "epoch: 09, loss: -0.86558\n"
     ]
    },
    {
     "name": "stderr",
     "output_type": "stream",
     "text": [
      " 60%|█████▉    | 597/1000 [3:44:54<2:15:41, 20.20s/it]"
     ]
    },
    {
     "name": "stdout",
     "output_type": "stream",
     "text": [
      "eigenvalues shape torch.Size([5]) eigenvectors shape torch.Size([5, 450])\n",
      "597 /home/phdcs2/Hard_Disk/Datasets/Deep-Spectral-Segmentation/data/object-segmentation/ECSSD/features/dino_vits16/0598.pth\n",
      "dict_keys(['k', 'indices', 'file', 'id', 'model_name', 'patch_size', 'shape'])\n",
      "0598\n",
      "Starting Training\n",
      "epoch: 00, loss: -0.54769\n",
      "epoch: 01, loss: -0.86619\n",
      "epoch: 02, loss: -0.85572\n",
      "epoch: 03, loss: -0.87344\n",
      "epoch: 04, loss: -0.85562\n",
      "epoch: 05, loss: -0.85212\n",
      "epoch: 06, loss: -0.84387\n",
      "epoch: 07, loss: -0.82192\n",
      "epoch: 08, loss: -0.83383\n",
      "epoch: 09, loss: -0.82684\n"
     ]
    },
    {
     "name": "stderr",
     "output_type": "stream",
     "text": [
      " 60%|█████▉    | 598/1000 [3:45:13<2:13:20, 19.90s/it]"
     ]
    },
    {
     "name": "stdout",
     "output_type": "stream",
     "text": [
      "eigenvalues shape torch.Size([5]) eigenvectors shape torch.Size([5, 400])\n",
      "598 /home/phdcs2/Hard_Disk/Datasets/Deep-Spectral-Segmentation/data/object-segmentation/ECSSD/features/dino_vits16/0599.pth\n",
      "dict_keys(['k', 'indices', 'file', 'id', 'model_name', 'patch_size', 'shape'])\n",
      "0599\n",
      "Starting Training\n",
      "epoch: 00, loss: -0.65814\n",
      "epoch: 01, loss: -0.94073\n",
      "epoch: 02, loss: -0.86487\n",
      "epoch: 03, loss: -0.87045\n",
      "epoch: 04, loss: -0.83549\n",
      "epoch: 05, loss: -0.82405\n",
      "epoch: 06, loss: -0.81363\n",
      "epoch: 07, loss: -0.73596\n",
      "epoch: 08, loss: -0.74877\n",
      "epoch: 09, loss: -0.83118\n"
     ]
    },
    {
     "name": "stderr",
     "output_type": "stream",
     "text": [
      " 60%|█████▉    | 599/1000 [3:45:33<2:12:21, 19.80s/it]"
     ]
    },
    {
     "name": "stdout",
     "output_type": "stream",
     "text": [
      "eigenvalues shape torch.Size([5]) eigenvectors shape torch.Size([5, 450])\n",
      "599 /home/phdcs2/Hard_Disk/Datasets/Deep-Spectral-Segmentation/data/object-segmentation/ECSSD/features/dino_vits16/0600.pth\n",
      "dict_keys(['k', 'indices', 'file', 'id', 'model_name', 'patch_size', 'shape'])\n",
      "0600\n",
      "Starting Training\n",
      "epoch: 00, loss: -0.37435\n",
      "epoch: 01, loss: -0.67025\n",
      "epoch: 02, loss: -0.68941\n",
      "epoch: 03, loss: -0.69469\n",
      "epoch: 04, loss: -0.72873\n",
      "epoch: 05, loss: -0.73998\n",
      "epoch: 06, loss: -0.73007\n",
      "epoch: 07, loss: -0.73075\n",
      "epoch: 08, loss: -0.73784\n",
      "epoch: 09, loss: -0.76716\n"
     ]
    },
    {
     "name": "stderr",
     "output_type": "stream",
     "text": [
      " 60%|██████    | 600/1000 [3:45:52<2:11:18, 19.70s/it]"
     ]
    },
    {
     "name": "stdout",
     "output_type": "stream",
     "text": [
      "eigenvalues shape torch.Size([5]) eigenvectors shape torch.Size([5, 425])\n",
      "600 /home/phdcs2/Hard_Disk/Datasets/Deep-Spectral-Segmentation/data/object-segmentation/ECSSD/features/dino_vits16/0601.pth\n",
      "dict_keys(['k', 'indices', 'file', 'id', 'model_name', 'patch_size', 'shape'])\n",
      "0601\n",
      "Starting Training\n",
      "epoch: 00, loss: -0.33420\n",
      "epoch: 01, loss: -0.63711\n",
      "epoch: 02, loss: -0.69587\n",
      "epoch: 03, loss: -0.70172\n",
      "epoch: 04, loss: -0.73403\n",
      "epoch: 05, loss: -0.74445\n",
      "epoch: 06, loss: -0.73823\n",
      "epoch: 07, loss: -0.75773\n",
      "epoch: 08, loss: -0.79061\n",
      "epoch: 09, loss: -0.80367\n"
     ]
    },
    {
     "name": "stderr",
     "output_type": "stream",
     "text": [
      " 60%|██████    | 601/1000 [3:46:12<2:11:36, 19.79s/it]"
     ]
    },
    {
     "name": "stdout",
     "output_type": "stream",
     "text": [
      "eigenvalues shape torch.Size([5]) eigenvectors shape torch.Size([5, 450])\n",
      "601 /home/phdcs2/Hard_Disk/Datasets/Deep-Spectral-Segmentation/data/object-segmentation/ECSSD/features/dino_vits16/0602.pth\n",
      "dict_keys(['k', 'indices', 'file', 'id', 'model_name', 'patch_size', 'shape'])\n",
      "0602\n",
      "Starting Training\n",
      "epoch: 00, loss: -0.48978\n",
      "epoch: 01, loss: -0.84433\n",
      "epoch: 02, loss: -0.86579\n",
      "epoch: 03, loss: -0.86068\n",
      "epoch: 04, loss: -0.87577\n",
      "epoch: 05, loss: -0.85614\n",
      "epoch: 06, loss: -0.86954\n",
      "epoch: 07, loss: -0.88419\n",
      "epoch: 08, loss: -0.88554\n",
      "epoch: 09, loss: -0.89537\n"
     ]
    },
    {
     "name": "stderr",
     "output_type": "stream",
     "text": [
      " 60%|██████    | 602/1000 [3:46:33<2:14:15, 20.24s/it]"
     ]
    },
    {
     "name": "stdout",
     "output_type": "stream",
     "text": [
      "eigenvalues shape torch.Size([5]) eigenvectors shape torch.Size([5, 450])\n",
      "602 /home/phdcs2/Hard_Disk/Datasets/Deep-Spectral-Segmentation/data/object-segmentation/ECSSD/features/dino_vits16/0603.pth\n",
      "dict_keys(['k', 'indices', 'file', 'id', 'model_name', 'patch_size', 'shape'])\n",
      "0603\n",
      "Starting Training\n",
      "epoch: 00, loss: -0.45637\n",
      "epoch: 01, loss: -0.74285\n",
      "epoch: 02, loss: -0.75636\n",
      "epoch: 03, loss: -0.76513\n",
      "epoch: 04, loss: -0.76095\n",
      "epoch: 05, loss: -0.75570\n",
      "epoch: 06, loss: -0.80456\n",
      "epoch: 07, loss: -0.79391\n",
      "epoch: 08, loss: -0.78065\n",
      "epoch: 09, loss: -0.79341\n"
     ]
    },
    {
     "name": "stderr",
     "output_type": "stream",
     "text": [
      " 60%|██████    | 603/1000 [3:46:52<2:11:14, 19.84s/it]"
     ]
    },
    {
     "name": "stdout",
     "output_type": "stream",
     "text": [
      "eigenvalues shape torch.Size([5]) eigenvectors shape torch.Size([5, 400])\n",
      "603 /home/phdcs2/Hard_Disk/Datasets/Deep-Spectral-Segmentation/data/object-segmentation/ECSSD/features/dino_vits16/0604.pth\n",
      "dict_keys(['k', 'indices', 'file', 'id', 'model_name', 'patch_size', 'shape'])\n",
      "0604\n",
      "Starting Training\n",
      "epoch: 00, loss: -0.44033\n",
      "epoch: 01, loss: -0.79129\n",
      "epoch: 02, loss: -0.82638\n",
      "epoch: 03, loss: -0.83571\n",
      "epoch: 04, loss: -0.84494\n",
      "epoch: 05, loss: -0.81347\n",
      "epoch: 06, loss: -0.84210\n",
      "epoch: 07, loss: -0.82139\n",
      "epoch: 08, loss: -0.83646\n",
      "epoch: 09, loss: -0.84953\n"
     ]
    },
    {
     "name": "stderr",
     "output_type": "stream",
     "text": [
      " 60%|██████    | 604/1000 [3:47:11<2:08:44, 19.51s/it]"
     ]
    },
    {
     "name": "stdout",
     "output_type": "stream",
     "text": [
      "eigenvalues shape torch.Size([5]) eigenvectors shape torch.Size([5, 400])\n",
      "604 /home/phdcs2/Hard_Disk/Datasets/Deep-Spectral-Segmentation/data/object-segmentation/ECSSD/features/dino_vits16/0605.pth\n",
      "dict_keys(['k', 'indices', 'file', 'id', 'model_name', 'patch_size', 'shape'])\n",
      "0605\n",
      "Starting Training\n",
      "epoch: 00, loss: -0.32777\n",
      "epoch: 01, loss: -0.74214\n",
      "epoch: 02, loss: -0.82107\n",
      "epoch: 03, loss: -0.84587\n",
      "epoch: 04, loss: -0.84649\n",
      "epoch: 05, loss: -0.84516\n",
      "epoch: 06, loss: -0.87790\n",
      "epoch: 07, loss: -0.87776\n",
      "epoch: 08, loss: -0.88504\n",
      "epoch: 09, loss: -0.87907\n"
     ]
    },
    {
     "name": "stderr",
     "output_type": "stream",
     "text": [
      " 60%|██████    | 605/1000 [3:47:30<2:06:59, 19.29s/it]"
     ]
    },
    {
     "name": "stdout",
     "output_type": "stream",
     "text": [
      "eigenvalues shape torch.Size([5]) eigenvectors shape torch.Size([5, 400])\n",
      "605 /home/phdcs2/Hard_Disk/Datasets/Deep-Spectral-Segmentation/data/object-segmentation/ECSSD/features/dino_vits16/0606.pth\n",
      "dict_keys(['k', 'indices', 'file', 'id', 'model_name', 'patch_size', 'shape'])\n",
      "0606\n",
      "Starting Training\n",
      "epoch: 00, loss: -0.38284\n",
      "epoch: 01, loss: -0.76454\n",
      "epoch: 02, loss: -0.80054\n",
      "epoch: 03, loss: -0.78116\n",
      "epoch: 04, loss: -0.83242\n",
      "epoch: 05, loss: -0.80593\n",
      "epoch: 06, loss: -0.79485\n",
      "epoch: 07, loss: -0.77419\n",
      "epoch: 08, loss: -0.75791\n",
      "epoch: 09, loss: -0.80801\n"
     ]
    },
    {
     "name": "stderr",
     "output_type": "stream",
     "text": [
      " 61%|██████    | 606/1000 [3:47:48<2:05:10, 19.06s/it]"
     ]
    },
    {
     "name": "stdout",
     "output_type": "stream",
     "text": [
      "eigenvalues shape torch.Size([5]) eigenvectors shape torch.Size([5, 400])\n",
      "606 /home/phdcs2/Hard_Disk/Datasets/Deep-Spectral-Segmentation/data/object-segmentation/ECSSD/features/dino_vits16/0607.pth\n",
      "dict_keys(['k', 'indices', 'file', 'id', 'model_name', 'patch_size', 'shape'])\n",
      "0607\n",
      "Starting Training\n",
      "epoch: 00, loss: -0.63249\n",
      "epoch: 01, loss: -0.85815\n",
      "epoch: 02, loss: -0.78733\n",
      "epoch: 03, loss: -0.76702\n",
      "epoch: 04, loss: -0.76733\n",
      "epoch: 05, loss: -0.76044\n",
      "epoch: 06, loss: -0.79588\n",
      "epoch: 07, loss: -0.81255\n",
      "epoch: 08, loss: -0.82626\n",
      "epoch: 09, loss: -0.83123\n"
     ]
    },
    {
     "name": "stderr",
     "output_type": "stream",
     "text": [
      " 61%|██████    | 607/1000 [3:48:10<2:10:22, 19.90s/it]"
     ]
    },
    {
     "name": "stdout",
     "output_type": "stream",
     "text": [
      "eigenvalues shape torch.Size([5]) eigenvectors shape torch.Size([5, 450])\n",
      "607 /home/phdcs2/Hard_Disk/Datasets/Deep-Spectral-Segmentation/data/object-segmentation/ECSSD/features/dino_vits16/0608.pth\n",
      "dict_keys(['k', 'indices', 'file', 'id', 'model_name', 'patch_size', 'shape'])\n",
      "0608\n",
      "Starting Training\n",
      "epoch: 00, loss: -0.43074\n",
      "epoch: 01, loss: -0.69755\n",
      "epoch: 02, loss: -0.73058\n",
      "epoch: 03, loss: -0.73857\n",
      "epoch: 04, loss: -0.75304\n",
      "epoch: 05, loss: -0.77355\n",
      "epoch: 06, loss: -0.76438\n",
      "epoch: 07, loss: -0.79067\n",
      "epoch: 08, loss: -0.76752\n",
      "epoch: 09, loss: -0.77515\n"
     ]
    },
    {
     "name": "stderr",
     "output_type": "stream",
     "text": [
      " 61%|██████    | 608/1000 [3:48:30<2:10:21, 19.95s/it]"
     ]
    },
    {
     "name": "stdout",
     "output_type": "stream",
     "text": [
      "eigenvalues shape torch.Size([5]) eigenvectors shape torch.Size([5, 450])\n",
      "608 /home/phdcs2/Hard_Disk/Datasets/Deep-Spectral-Segmentation/data/object-segmentation/ECSSD/features/dino_vits16/0609.pth\n",
      "dict_keys(['k', 'indices', 'file', 'id', 'model_name', 'patch_size', 'shape'])\n",
      "0609\n",
      "Starting Training\n",
      "epoch: 00, loss: -0.37767\n",
      "epoch: 01, loss: -0.70438\n",
      "epoch: 02, loss: -0.79286\n",
      "epoch: 03, loss: -0.79349\n",
      "epoch: 04, loss: -0.79042\n",
      "epoch: 05, loss: -0.79721\n",
      "epoch: 06, loss: -0.76075\n",
      "epoch: 07, loss: -0.77335\n",
      "epoch: 08, loss: -0.80953\n",
      "epoch: 09, loss: -0.78891\n"
     ]
    },
    {
     "name": "stderr",
     "output_type": "stream",
     "text": [
      " 61%|██████    | 609/1000 [3:48:49<2:06:51, 19.47s/it]"
     ]
    },
    {
     "name": "stdout",
     "output_type": "stream",
     "text": [
      "eigenvalues shape torch.Size([5]) eigenvectors shape torch.Size([5, 400])\n",
      "609 /home/phdcs2/Hard_Disk/Datasets/Deep-Spectral-Segmentation/data/object-segmentation/ECSSD/features/dino_vits16/0610.pth\n",
      "dict_keys(['k', 'indices', 'file', 'id', 'model_name', 'patch_size', 'shape'])\n",
      "0610\n",
      "Starting Training\n",
      "epoch: 00, loss: -0.21879\n",
      "epoch: 01, loss: -0.65761\n",
      "epoch: 02, loss: -0.73175\n",
      "epoch: 03, loss: -0.75556\n",
      "epoch: 04, loss: -0.78911\n",
      "epoch: 05, loss: -0.79512\n",
      "epoch: 06, loss: -0.79577\n",
      "epoch: 07, loss: -0.80960\n",
      "epoch: 08, loss: -0.80389\n",
      "epoch: 09, loss: -0.82309\n"
     ]
    },
    {
     "name": "stderr",
     "output_type": "stream",
     "text": [
      " 61%|██████    | 610/1000 [3:49:10<2:10:51, 20.13s/it]"
     ]
    },
    {
     "name": "stdout",
     "output_type": "stream",
     "text": [
      "eigenvalues shape torch.Size([5]) eigenvectors shape torch.Size([5, 450])\n",
      "610 /home/phdcs2/Hard_Disk/Datasets/Deep-Spectral-Segmentation/data/object-segmentation/ECSSD/features/dino_vits16/0611.pth\n",
      "dict_keys(['k', 'indices', 'file', 'id', 'model_name', 'patch_size', 'shape'])\n",
      "0611\n",
      "Starting Training\n",
      "epoch: 00, loss: -0.52175\n",
      "epoch: 01, loss: -0.72364\n",
      "epoch: 02, loss: -0.79692\n",
      "epoch: 03, loss: -0.83294\n",
      "epoch: 04, loss: -0.83501\n",
      "epoch: 05, loss: -0.84667\n",
      "epoch: 06, loss: -0.85324\n",
      "epoch: 07, loss: -0.83289\n",
      "epoch: 08, loss: -0.84454\n",
      "epoch: 09, loss: -0.84859\n"
     ]
    },
    {
     "name": "stderr",
     "output_type": "stream",
     "text": [
      " 61%|██████    | 611/1000 [3:49:30<2:09:27, 19.97s/it]"
     ]
    },
    {
     "name": "stdout",
     "output_type": "stream",
     "text": [
      "eigenvalues shape torch.Size([5]) eigenvectors shape torch.Size([5, 450])\n",
      "611 /home/phdcs2/Hard_Disk/Datasets/Deep-Spectral-Segmentation/data/object-segmentation/ECSSD/features/dino_vits16/0612.pth\n",
      "dict_keys(['k', 'indices', 'file', 'id', 'model_name', 'patch_size', 'shape'])\n",
      "0612\n",
      "Starting Training\n",
      "epoch: 00, loss: -0.33531\n",
      "epoch: 01, loss: -0.70337\n",
      "epoch: 02, loss: -0.78706\n",
      "epoch: 03, loss: -0.83745\n",
      "epoch: 04, loss: -0.84648\n",
      "epoch: 05, loss: -0.84866\n",
      "epoch: 06, loss: -0.85248\n",
      "epoch: 07, loss: -0.84897\n",
      "epoch: 08, loss: -0.86333\n",
      "epoch: 09, loss: -0.86586\n"
     ]
    },
    {
     "name": "stderr",
     "output_type": "stream",
     "text": [
      " 61%|██████    | 612/1000 [3:49:52<2:12:56, 20.56s/it]"
     ]
    },
    {
     "name": "stdout",
     "output_type": "stream",
     "text": [
      "eigenvalues shape torch.Size([5]) eigenvectors shape torch.Size([5, 450])\n",
      "612 /home/phdcs2/Hard_Disk/Datasets/Deep-Spectral-Segmentation/data/object-segmentation/ECSSD/features/dino_vits16/0613.pth\n",
      "dict_keys(['k', 'indices', 'file', 'id', 'model_name', 'patch_size', 'shape'])\n",
      "0613\n",
      "Starting Training\n",
      "epoch: 00, loss: -0.32477\n",
      "epoch: 01, loss: -0.69201\n",
      "epoch: 02, loss: -0.77848\n",
      "epoch: 03, loss: -0.79723\n",
      "epoch: 04, loss: -0.80389\n",
      "epoch: 05, loss: -0.78990\n",
      "epoch: 06, loss: -0.79876\n",
      "epoch: 07, loss: -0.80964\n",
      "epoch: 08, loss: -0.79754\n",
      "epoch: 09, loss: -0.78177\n"
     ]
    },
    {
     "name": "stderr",
     "output_type": "stream",
     "text": [
      " 61%|██████▏   | 613/1000 [3:50:11<2:09:49, 20.13s/it]"
     ]
    },
    {
     "name": "stdout",
     "output_type": "stream",
     "text": [
      "eigenvalues shape torch.Size([5]) eigenvectors shape torch.Size([5, 400])\n",
      "613 /home/phdcs2/Hard_Disk/Datasets/Deep-Spectral-Segmentation/data/object-segmentation/ECSSD/features/dino_vits16/0614.pth\n",
      "dict_keys(['k', 'indices', 'file', 'id', 'model_name', 'patch_size', 'shape'])\n",
      "0614\n",
      "Starting Training\n",
      "epoch: 00, loss: -0.43416\n",
      "epoch: 01, loss: -0.79829\n",
      "epoch: 02, loss: -0.83525\n",
      "epoch: 03, loss: -0.81594\n",
      "epoch: 04, loss: -0.83337\n",
      "epoch: 05, loss: -0.83133\n",
      "epoch: 06, loss: -0.84207\n",
      "epoch: 07, loss: -0.84450\n",
      "epoch: 08, loss: -0.86260\n",
      "epoch: 09, loss: -0.84538\n"
     ]
    },
    {
     "name": "stderr",
     "output_type": "stream",
     "text": [
      " 61%|██████▏   | 614/1000 [3:50:30<2:08:10, 19.92s/it]"
     ]
    },
    {
     "name": "stdout",
     "output_type": "stream",
     "text": [
      "eigenvalues shape torch.Size([5]) eigenvectors shape torch.Size([5, 450])\n",
      "614 /home/phdcs2/Hard_Disk/Datasets/Deep-Spectral-Segmentation/data/object-segmentation/ECSSD/features/dino_vits16/0615.pth\n",
      "dict_keys(['k', 'indices', 'file', 'id', 'model_name', 'patch_size', 'shape'])\n",
      "0615\n",
      "Starting Training\n",
      "epoch: 00, loss: -0.50576\n",
      "epoch: 01, loss: -0.77990\n",
      "epoch: 02, loss: -0.76563\n",
      "epoch: 03, loss: -0.81438\n",
      "epoch: 04, loss: -0.82581\n",
      "epoch: 05, loss: -0.83853\n",
      "epoch: 06, loss: -0.83583\n",
      "epoch: 07, loss: -0.82755\n",
      "epoch: 08, loss: -0.81696\n",
      "epoch: 09, loss: -0.83701\n"
     ]
    },
    {
     "name": "stderr",
     "output_type": "stream",
     "text": [
      " 62%|██████▏   | 615/1000 [3:50:48<2:04:12, 19.36s/it]"
     ]
    },
    {
     "name": "stdout",
     "output_type": "stream",
     "text": [
      "eigenvalues shape torch.Size([5]) eigenvectors shape torch.Size([5, 400])\n",
      "615 /home/phdcs2/Hard_Disk/Datasets/Deep-Spectral-Segmentation/data/object-segmentation/ECSSD/features/dino_vits16/0616.pth\n",
      "dict_keys(['k', 'indices', 'file', 'id', 'model_name', 'patch_size', 'shape'])\n",
      "0616\n",
      "Starting Training\n",
      "epoch: 00, loss: -0.24872\n",
      "epoch: 01, loss: -0.63322\n",
      "epoch: 02, loss: -0.63081\n",
      "epoch: 03, loss: -0.62253\n",
      "epoch: 04, loss: -0.68524\n",
      "epoch: 05, loss: -0.74079\n",
      "epoch: 06, loss: -0.72749\n",
      "epoch: 07, loss: -0.72458\n",
      "epoch: 08, loss: -0.74971\n",
      "epoch: 09, loss: -0.76001\n"
     ]
    },
    {
     "name": "stderr",
     "output_type": "stream",
     "text": [
      " 62%|██████▏   | 616/1000 [3:51:07<2:01:34, 19.00s/it]"
     ]
    },
    {
     "name": "stdout",
     "output_type": "stream",
     "text": [
      "eigenvalues shape torch.Size([5]) eigenvectors shape torch.Size([5, 400])\n",
      "616 /home/phdcs2/Hard_Disk/Datasets/Deep-Spectral-Segmentation/data/object-segmentation/ECSSD/features/dino_vits16/0617.pth\n",
      "dict_keys(['k', 'indices', 'file', 'id', 'model_name', 'patch_size', 'shape'])\n",
      "0617\n",
      "Starting Training\n",
      "epoch: 00, loss: -0.46433\n",
      "epoch: 01, loss: -0.73326\n",
      "epoch: 02, loss: -0.70170\n",
      "epoch: 03, loss: -0.74694\n",
      "epoch: 04, loss: -0.74632\n",
      "epoch: 05, loss: -0.77918\n",
      "epoch: 06, loss: -0.78985\n",
      "epoch: 07, loss: -0.80267\n",
      "epoch: 08, loss: -0.81181\n",
      "epoch: 09, loss: -0.83353\n"
     ]
    },
    {
     "name": "stderr",
     "output_type": "stream",
     "text": [
      " 62%|██████▏   | 617/1000 [3:51:28<2:06:52, 19.88s/it]"
     ]
    },
    {
     "name": "stdout",
     "output_type": "stream",
     "text": [
      "eigenvalues shape torch.Size([5]) eigenvectors shape torch.Size([5, 500])\n",
      "617 /home/phdcs2/Hard_Disk/Datasets/Deep-Spectral-Segmentation/data/object-segmentation/ECSSD/features/dino_vits16/0618.pth\n",
      "dict_keys(['k', 'indices', 'file', 'id', 'model_name', 'patch_size', 'shape'])\n",
      "0618\n",
      "Starting Training\n",
      "epoch: 00, loss: -0.55048\n",
      "epoch: 01, loss: -0.80227\n",
      "epoch: 02, loss: -0.71676\n",
      "epoch: 03, loss: -0.78817\n",
      "epoch: 04, loss: -0.78621\n",
      "epoch: 05, loss: -0.70085\n",
      "epoch: 06, loss: -0.79678\n",
      "epoch: 07, loss: -0.79549\n",
      "epoch: 08, loss: -0.81331\n",
      "epoch: 09, loss: -0.82868\n"
     ]
    },
    {
     "name": "stderr",
     "output_type": "stream",
     "text": [
      " 62%|██████▏   | 618/1000 [3:51:48<2:06:41, 19.90s/it]"
     ]
    },
    {
     "name": "stdout",
     "output_type": "stream",
     "text": [
      "eigenvalues shape torch.Size([5]) eigenvectors shape torch.Size([5, 425])\n",
      "618 /home/phdcs2/Hard_Disk/Datasets/Deep-Spectral-Segmentation/data/object-segmentation/ECSSD/features/dino_vits16/0619.pth\n",
      "dict_keys(['k', 'indices', 'file', 'id', 'model_name', 'patch_size', 'shape'])\n",
      "0619\n",
      "Starting Training\n",
      "epoch: 00, loss: -0.46321\n",
      "epoch: 01, loss: -0.79736\n",
      "epoch: 02, loss: -0.63806\n",
      "epoch: 03, loss: -0.68702\n",
      "epoch: 04, loss: -0.72224\n",
      "epoch: 05, loss: -0.72891\n",
      "epoch: 06, loss: -0.75851\n",
      "epoch: 07, loss: -0.69142\n",
      "epoch: 08, loss: -0.67984\n",
      "epoch: 09, loss: -0.69555\n"
     ]
    },
    {
     "name": "stderr",
     "output_type": "stream",
     "text": [
      " 62%|██████▏   | 619/1000 [3:52:09<2:08:38, 20.26s/it]"
     ]
    },
    {
     "name": "stdout",
     "output_type": "stream",
     "text": [
      "eigenvalues shape torch.Size([5]) eigenvectors shape torch.Size([5, 450])\n",
      "619 /home/phdcs2/Hard_Disk/Datasets/Deep-Spectral-Segmentation/data/object-segmentation/ECSSD/features/dino_vits16/0620.pth\n",
      "dict_keys(['k', 'indices', 'file', 'id', 'model_name', 'patch_size', 'shape'])\n",
      "0620\n",
      "Starting Training\n",
      "epoch: 00, loss: -0.49007\n",
      "epoch: 01, loss: -0.78200\n",
      "epoch: 02, loss: -0.82829\n",
      "epoch: 03, loss: -0.84838\n",
      "epoch: 04, loss: -0.86073\n",
      "epoch: 05, loss: -0.87777\n",
      "epoch: 06, loss: -0.87615\n",
      "epoch: 07, loss: -0.87815\n",
      "epoch: 08, loss: -0.87294\n",
      "epoch: 09, loss: -0.88509\n"
     ]
    },
    {
     "name": "stderr",
     "output_type": "stream",
     "text": [
      " 62%|██████▏   | 620/1000 [3:52:33<2:15:07, 21.34s/it]"
     ]
    },
    {
     "name": "stdout",
     "output_type": "stream",
     "text": [
      "eigenvalues shape torch.Size([5]) eigenvectors shape torch.Size([5, 525])\n",
      "620 /home/phdcs2/Hard_Disk/Datasets/Deep-Spectral-Segmentation/data/object-segmentation/ECSSD/features/dino_vits16/0621.pth\n",
      "dict_keys(['k', 'indices', 'file', 'id', 'model_name', 'patch_size', 'shape'])\n",
      "0621\n",
      "Starting Training\n",
      "epoch: 00, loss: -0.39897\n",
      "epoch: 01, loss: -0.70557\n",
      "epoch: 02, loss: -0.73903\n",
      "epoch: 03, loss: -0.76355\n",
      "epoch: 04, loss: -0.75533\n",
      "epoch: 05, loss: -0.78313\n",
      "epoch: 06, loss: -0.80039\n",
      "epoch: 07, loss: -0.78971\n",
      "epoch: 08, loss: -0.80003\n",
      "epoch: 09, loss: -0.80759\n"
     ]
    },
    {
     "name": "stderr",
     "output_type": "stream",
     "text": [
      " 62%|██████▏   | 621/1000 [3:52:55<2:14:27, 21.29s/it]"
     ]
    },
    {
     "name": "stdout",
     "output_type": "stream",
     "text": [
      "eigenvalues shape torch.Size([5]) eigenvectors shape torch.Size([5, 450])\n",
      "621 /home/phdcs2/Hard_Disk/Datasets/Deep-Spectral-Segmentation/data/object-segmentation/ECSSD/features/dino_vits16/0622.pth\n",
      "dict_keys(['k', 'indices', 'file', 'id', 'model_name', 'patch_size', 'shape'])\n",
      "0622\n",
      "Starting Training\n",
      "epoch: 00, loss: -0.15423\n",
      "epoch: 01, loss: -0.54484\n",
      "epoch: 02, loss: -0.65970\n",
      "epoch: 03, loss: -0.66571\n",
      "epoch: 04, loss: -0.64067\n",
      "epoch: 05, loss: -0.65917\n",
      "epoch: 06, loss: -0.69696\n",
      "epoch: 07, loss: -0.73459\n",
      "epoch: 08, loss: -0.74901\n",
      "epoch: 09, loss: -0.77237\n"
     ]
    },
    {
     "name": "stderr",
     "output_type": "stream",
     "text": [
      " 62%|██████▏   | 622/1000 [3:53:06<1:55:27, 18.33s/it]"
     ]
    },
    {
     "name": "stdout",
     "output_type": "stream",
     "text": [
      "eigenvalues shape torch.Size([5]) eigenvectors shape torch.Size([5, 250])\n",
      "622 /home/phdcs2/Hard_Disk/Datasets/Deep-Spectral-Segmentation/data/object-segmentation/ECSSD/features/dino_vits16/0623.pth\n",
      "dict_keys(['k', 'indices', 'file', 'id', 'model_name', 'patch_size', 'shape'])\n",
      "0623\n",
      "Starting Training\n",
      "epoch: 00, loss: -0.31404\n",
      "epoch: 01, loss: -0.66996\n",
      "epoch: 02, loss: -0.72887\n",
      "epoch: 03, loss: -0.75014\n",
      "epoch: 04, loss: -0.76174\n",
      "epoch: 05, loss: -0.77948\n",
      "epoch: 06, loss: -0.79007\n",
      "epoch: 07, loss: -0.79827\n",
      "epoch: 08, loss: -0.81129\n",
      "epoch: 09, loss: -0.82670\n"
     ]
    },
    {
     "name": "stderr",
     "output_type": "stream",
     "text": [
      " 62%|██████▏   | 623/1000 [3:53:28<2:01:31, 19.34s/it]"
     ]
    },
    {
     "name": "stdout",
     "output_type": "stream",
     "text": [
      "eigenvalues shape torch.Size([5]) eigenvectors shape torch.Size([5, 450])\n",
      "623 /home/phdcs2/Hard_Disk/Datasets/Deep-Spectral-Segmentation/data/object-segmentation/ECSSD/features/dino_vits16/0624.pth\n",
      "dict_keys(['k', 'indices', 'file', 'id', 'model_name', 'patch_size', 'shape'])\n",
      "0624\n",
      "Starting Training\n",
      "epoch: 00, loss: -0.29573\n",
      "epoch: 01, loss: -0.71157\n",
      "epoch: 02, loss: -0.72013\n",
      "epoch: 03, loss: -0.75544\n",
      "epoch: 04, loss: -0.74250\n",
      "epoch: 05, loss: -0.76743\n",
      "epoch: 06, loss: -0.79019\n",
      "epoch: 07, loss: -0.78948\n",
      "epoch: 08, loss: -0.81440\n",
      "epoch: 09, loss: -0.83873\n"
     ]
    },
    {
     "name": "stderr",
     "output_type": "stream",
     "text": [
      " 62%|██████▏   | 624/1000 [3:53:44<1:55:33, 18.44s/it]"
     ]
    },
    {
     "name": "stdout",
     "output_type": "stream",
     "text": [
      "eigenvalues shape torch.Size([5]) eigenvectors shape torch.Size([5, 400])\n",
      "624 /home/phdcs2/Hard_Disk/Datasets/Deep-Spectral-Segmentation/data/object-segmentation/ECSSD/features/dino_vits16/0625.pth\n",
      "dict_keys(['k', 'indices', 'file', 'id', 'model_name', 'patch_size', 'shape'])\n",
      "0625\n",
      "Starting Training\n",
      "epoch: 00, loss: -0.33517\n",
      "epoch: 01, loss: -0.74974\n",
      "epoch: 02, loss: -0.72822\n",
      "epoch: 03, loss: -0.76707\n",
      "epoch: 04, loss: -0.79748\n",
      "epoch: 05, loss: -0.80509\n",
      "epoch: 06, loss: -0.79971\n",
      "epoch: 07, loss: -0.79981\n",
      "epoch: 08, loss: -0.80638\n",
      "epoch: 09, loss: -0.84191\n"
     ]
    },
    {
     "name": "stderr",
     "output_type": "stream",
     "text": [
      " 62%|██████▎   | 625/1000 [3:54:03<1:55:30, 18.48s/it]"
     ]
    },
    {
     "name": "stdout",
     "output_type": "stream",
     "text": [
      "eigenvalues shape torch.Size([5]) eigenvectors shape torch.Size([5, 400])\n",
      "625 /home/phdcs2/Hard_Disk/Datasets/Deep-Spectral-Segmentation/data/object-segmentation/ECSSD/features/dino_vits16/0626.pth\n",
      "dict_keys(['k', 'indices', 'file', 'id', 'model_name', 'patch_size', 'shape'])\n",
      "0626\n",
      "Starting Training\n",
      "epoch: 00, loss: -0.44658\n",
      "epoch: 01, loss: -0.79983\n",
      "epoch: 02, loss: -0.84411\n",
      "epoch: 03, loss: -0.78790\n",
      "epoch: 04, loss: -0.84215\n",
      "epoch: 05, loss: -0.87731\n",
      "epoch: 06, loss: -0.86825\n",
      "epoch: 07, loss: -0.86149\n",
      "epoch: 08, loss: -0.89185\n",
      "epoch: 09, loss: -0.85649\n"
     ]
    },
    {
     "name": "stderr",
     "output_type": "stream",
     "text": [
      " 63%|██████▎   | 626/1000 [3:54:22<1:56:06, 18.63s/it]"
     ]
    },
    {
     "name": "stdout",
     "output_type": "stream",
     "text": [
      "eigenvalues shape torch.Size([5]) eigenvectors shape torch.Size([5, 400])\n",
      "626 /home/phdcs2/Hard_Disk/Datasets/Deep-Spectral-Segmentation/data/object-segmentation/ECSSD/features/dino_vits16/0627.pth\n",
      "dict_keys(['k', 'indices', 'file', 'id', 'model_name', 'patch_size', 'shape'])\n",
      "0627\n",
      "Starting Training\n",
      "epoch: 00, loss: -0.41569\n",
      "epoch: 01, loss: -0.68755\n",
      "epoch: 02, loss: -0.78021\n",
      "epoch: 03, loss: -0.76816\n",
      "epoch: 04, loss: -0.78017\n",
      "epoch: 05, loss: -0.77743\n",
      "epoch: 06, loss: -0.79473\n",
      "epoch: 07, loss: -0.76055\n",
      "epoch: 08, loss: -0.77930\n",
      "epoch: 09, loss: -0.77234\n"
     ]
    },
    {
     "name": "stderr",
     "output_type": "stream",
     "text": [
      " 63%|██████▎   | 627/1000 [3:54:47<2:09:11, 20.78s/it]"
     ]
    },
    {
     "name": "stdout",
     "output_type": "stream",
     "text": [
      "eigenvalues shape torch.Size([5]) eigenvectors shape torch.Size([5, 600])\n",
      "627 /home/phdcs2/Hard_Disk/Datasets/Deep-Spectral-Segmentation/data/object-segmentation/ECSSD/features/dino_vits16/0628.pth\n",
      "dict_keys(['k', 'indices', 'file', 'id', 'model_name', 'patch_size', 'shape'])\n",
      "0628\n",
      "Starting Training\n",
      "epoch: 00, loss: -0.53919\n",
      "epoch: 01, loss: -0.82710\n",
      "epoch: 02, loss: -0.76217\n",
      "epoch: 03, loss: -0.75021\n",
      "epoch: 04, loss: -0.74130\n",
      "epoch: 05, loss: -0.73294\n",
      "epoch: 06, loss: -0.76289\n",
      "epoch: 07, loss: -0.76820\n",
      "epoch: 08, loss: -0.80187\n",
      "epoch: 09, loss: -0.78939\n"
     ]
    },
    {
     "name": "stderr",
     "output_type": "stream",
     "text": [
      " 63%|██████▎   | 628/1000 [3:55:06<2:05:31, 20.25s/it]"
     ]
    },
    {
     "name": "stdout",
     "output_type": "stream",
     "text": [
      "eigenvalues shape torch.Size([5]) eigenvectors shape torch.Size([5, 400])\n",
      "628 /home/phdcs2/Hard_Disk/Datasets/Deep-Spectral-Segmentation/data/object-segmentation/ECSSD/features/dino_vits16/0629.pth\n",
      "dict_keys(['k', 'indices', 'file', 'id', 'model_name', 'patch_size', 'shape'])\n",
      "0629\n",
      "Starting Training\n",
      "epoch: 00, loss: -0.39081\n",
      "epoch: 01, loss: -0.70818\n",
      "epoch: 02, loss: -0.68215\n",
      "epoch: 03, loss: -0.69831\n",
      "epoch: 04, loss: -0.71071\n",
      "epoch: 05, loss: -0.70814\n",
      "epoch: 06, loss: -0.68837\n",
      "epoch: 07, loss: -0.69746\n",
      "epoch: 08, loss: -0.71267\n",
      "epoch: 09, loss: -0.72415\n"
     ]
    },
    {
     "name": "stderr",
     "output_type": "stream",
     "text": [
      " 63%|██████▎   | 629/1000 [3:55:29<2:09:37, 20.96s/it]"
     ]
    },
    {
     "name": "stdout",
     "output_type": "stream",
     "text": [
      "eigenvalues shape torch.Size([5]) eigenvectors shape torch.Size([5, 500])\n",
      "629 /home/phdcs2/Hard_Disk/Datasets/Deep-Spectral-Segmentation/data/object-segmentation/ECSSD/features/dino_vits16/0630.pth\n",
      "dict_keys(['k', 'indices', 'file', 'id', 'model_name', 'patch_size', 'shape'])\n",
      "0630\n",
      "Starting Training\n",
      "epoch: 00, loss: -0.59230\n",
      "epoch: 01, loss: -0.93183\n",
      "epoch: 02, loss: -0.91384\n",
      "epoch: 03, loss: -0.87507\n",
      "epoch: 04, loss: -0.87726\n",
      "epoch: 05, loss: -0.88943\n",
      "epoch: 06, loss: -0.87448\n",
      "epoch: 07, loss: -0.87738\n",
      "epoch: 08, loss: -0.86380\n",
      "epoch: 09, loss: -0.84181\n"
     ]
    },
    {
     "name": "stderr",
     "output_type": "stream",
     "text": [
      " 63%|██████▎   | 630/1000 [3:55:52<2:13:48, 21.70s/it]"
     ]
    },
    {
     "name": "stdout",
     "output_type": "stream",
     "text": [
      "eigenvalues shape torch.Size([5]) eigenvectors shape torch.Size([5, 450])\n",
      "630 /home/phdcs2/Hard_Disk/Datasets/Deep-Spectral-Segmentation/data/object-segmentation/ECSSD/features/dino_vits16/0631.pth\n",
      "dict_keys(['k', 'indices', 'file', 'id', 'model_name', 'patch_size', 'shape'])\n",
      "0631\n",
      "Starting Training\n",
      "epoch: 00, loss: -0.41706\n",
      "epoch: 01, loss: -0.68113\n",
      "epoch: 02, loss: -0.70936\n",
      "epoch: 03, loss: -0.74003\n",
      "epoch: 04, loss: -0.78101\n",
      "epoch: 05, loss: -0.76796\n",
      "epoch: 06, loss: -0.76789\n",
      "epoch: 07, loss: -0.80742\n",
      "epoch: 08, loss: -0.80922\n",
      "epoch: 09, loss: -0.82118\n"
     ]
    },
    {
     "name": "stderr",
     "output_type": "stream",
     "text": [
      " 63%|██████▎   | 631/1000 [3:56:13<2:11:29, 21.38s/it]"
     ]
    },
    {
     "name": "stdout",
     "output_type": "stream",
     "text": [
      "eigenvalues shape torch.Size([5]) eigenvectors shape torch.Size([5, 450])\n",
      "631 /home/phdcs2/Hard_Disk/Datasets/Deep-Spectral-Segmentation/data/object-segmentation/ECSSD/features/dino_vits16/0632.pth\n",
      "dict_keys(['k', 'indices', 'file', 'id', 'model_name', 'patch_size', 'shape'])\n",
      "0632\n",
      "Starting Training\n",
      "epoch: 00, loss: -0.62462\n",
      "epoch: 01, loss: -0.87435\n",
      "epoch: 02, loss: -0.86891\n",
      "epoch: 03, loss: -0.88673\n",
      "epoch: 04, loss: -0.86472\n",
      "epoch: 05, loss: -0.87527\n",
      "epoch: 06, loss: -0.89342\n",
      "epoch: 07, loss: -0.86766\n",
      "epoch: 08, loss: -0.86986\n",
      "epoch: 09, loss: -0.86544\n"
     ]
    },
    {
     "name": "stderr",
     "output_type": "stream",
     "text": [
      " 63%|██████▎   | 632/1000 [3:56:39<2:19:44, 22.78s/it]"
     ]
    },
    {
     "name": "stdout",
     "output_type": "stream",
     "text": [
      "eigenvalues shape torch.Size([5]) eigenvectors shape torch.Size([5, 550])\n",
      "632 /home/phdcs2/Hard_Disk/Datasets/Deep-Spectral-Segmentation/data/object-segmentation/ECSSD/features/dino_vits16/0633.pth\n",
      "dict_keys(['k', 'indices', 'file', 'id', 'model_name', 'patch_size', 'shape'])\n",
      "0633\n",
      "Starting Training\n",
      "epoch: 00, loss: -0.49673\n",
      "epoch: 01, loss: -0.66196\n",
      "epoch: 02, loss: -0.83243\n",
      "epoch: 03, loss: -0.87247\n",
      "epoch: 04, loss: -0.88586\n",
      "epoch: 05, loss: -0.91411\n",
      "epoch: 06, loss: -0.92239\n",
      "epoch: 07, loss: -0.93710\n",
      "epoch: 08, loss: -0.92980\n",
      "epoch: 09, loss: -0.94166\n"
     ]
    },
    {
     "name": "stderr",
     "output_type": "stream",
     "text": [
      " 63%|██████▎   | 633/1000 [3:57:00<2:16:41, 22.35s/it]"
     ]
    },
    {
     "name": "stdout",
     "output_type": "stream",
     "text": [
      "eigenvalues shape torch.Size([5]) eigenvectors shape torch.Size([5, 425])\n",
      "633 /home/phdcs2/Hard_Disk/Datasets/Deep-Spectral-Segmentation/data/object-segmentation/ECSSD/features/dino_vits16/0634.pth\n",
      "dict_keys(['k', 'indices', 'file', 'id', 'model_name', 'patch_size', 'shape'])\n",
      "0634\n",
      "Starting Training\n",
      "epoch: 00, loss: -0.70865\n",
      "epoch: 01, loss: -0.95162\n",
      "epoch: 02, loss: -0.95181\n",
      "epoch: 03, loss: -0.95569\n",
      "epoch: 04, loss: -0.95660\n",
      "epoch: 05, loss: -0.95352\n",
      "epoch: 06, loss: -0.96130\n",
      "epoch: 07, loss: -0.96245\n",
      "epoch: 08, loss: -0.96410\n",
      "epoch: 09, loss: -0.95317\n"
     ]
    },
    {
     "name": "stderr",
     "output_type": "stream",
     "text": [
      " 63%|██████▎   | 634/1000 [3:57:20<2:12:03, 21.65s/it]"
     ]
    },
    {
     "name": "stdout",
     "output_type": "stream",
     "text": [
      "eigenvalues shape torch.Size([5]) eigenvectors shape torch.Size([5, 450])\n",
      "634 /home/phdcs2/Hard_Disk/Datasets/Deep-Spectral-Segmentation/data/object-segmentation/ECSSD/features/dino_vits16/0635.pth\n",
      "dict_keys(['k', 'indices', 'file', 'id', 'model_name', 'patch_size', 'shape'])\n",
      "0635\n",
      "Starting Training\n",
      "epoch: 00, loss: -0.25333\n",
      "epoch: 01, loss: -0.57562\n",
      "epoch: 02, loss: -0.69584\n",
      "epoch: 03, loss: -0.75175\n",
      "epoch: 04, loss: -0.74816\n",
      "epoch: 05, loss: -0.78253\n",
      "epoch: 06, loss: -0.78748\n",
      "epoch: 07, loss: -0.78467\n",
      "epoch: 08, loss: -0.79186\n",
      "epoch: 09, loss: -0.79034\n"
     ]
    },
    {
     "name": "stderr",
     "output_type": "stream",
     "text": [
      " 64%|██████▎   | 635/1000 [3:57:43<2:13:43, 21.98s/it]"
     ]
    },
    {
     "name": "stdout",
     "output_type": "stream",
     "text": [
      "eigenvalues shape torch.Size([5]) eigenvectors shape torch.Size([5, 450])\n",
      "635 /home/phdcs2/Hard_Disk/Datasets/Deep-Spectral-Segmentation/data/object-segmentation/ECSSD/features/dino_vits16/0636.pth\n",
      "dict_keys(['k', 'indices', 'file', 'id', 'model_name', 'patch_size', 'shape'])\n",
      "0636\n",
      "Starting Training\n",
      "epoch: 00, loss: -0.31922\n",
      "epoch: 01, loss: -0.60118\n",
      "epoch: 02, loss: -0.62963\n",
      "epoch: 03, loss: -0.63278\n",
      "epoch: 04, loss: -0.65839\n",
      "epoch: 05, loss: -0.69335\n",
      "epoch: 06, loss: -0.68134\n",
      "epoch: 07, loss: -0.67446\n",
      "epoch: 08, loss: -0.71317\n",
      "epoch: 09, loss: -0.74162\n"
     ]
    },
    {
     "name": "stderr",
     "output_type": "stream",
     "text": [
      " 64%|██████▎   | 636/1000 [3:57:58<2:00:21, 19.84s/it]"
     ]
    },
    {
     "name": "stdout",
     "output_type": "stream",
     "text": [
      "eigenvalues shape torch.Size([5]) eigenvectors shape torch.Size([5, 350])\n",
      "636 /home/phdcs2/Hard_Disk/Datasets/Deep-Spectral-Segmentation/data/object-segmentation/ECSSD/features/dino_vits16/0637.pth\n",
      "dict_keys(['k', 'indices', 'file', 'id', 'model_name', 'patch_size', 'shape'])\n",
      "0637\n",
      "Starting Training\n",
      "epoch: 00, loss: -0.53010\n",
      "epoch: 01, loss: -0.74099\n",
      "epoch: 02, loss: -0.77230\n",
      "epoch: 03, loss: -0.77214\n",
      "epoch: 04, loss: -0.73797\n",
      "epoch: 05, loss: -0.75038\n",
      "epoch: 06, loss: -0.69686\n",
      "epoch: 07, loss: -0.73889\n",
      "epoch: 08, loss: -0.76686\n",
      "epoch: 09, loss: -0.78045\n"
     ]
    },
    {
     "name": "stderr",
     "output_type": "stream",
     "text": [
      " 64%|██████▎   | 637/1000 [3:58:19<2:01:32, 20.09s/it]"
     ]
    },
    {
     "name": "stdout",
     "output_type": "stream",
     "text": [
      "eigenvalues shape torch.Size([5]) eigenvectors shape torch.Size([5, 450])\n",
      "637 /home/phdcs2/Hard_Disk/Datasets/Deep-Spectral-Segmentation/data/object-segmentation/ECSSD/features/dino_vits16/0638.pth\n",
      "dict_keys(['k', 'indices', 'file', 'id', 'model_name', 'patch_size', 'shape'])\n",
      "0638\n",
      "Starting Training\n",
      "epoch: 00, loss: -0.52313\n",
      "epoch: 01, loss: -0.90054\n",
      "epoch: 02, loss: -0.93156\n",
      "epoch: 03, loss: -0.93218\n",
      "epoch: 04, loss: -0.92891\n",
      "epoch: 05, loss: -0.90370\n",
      "epoch: 06, loss: -0.88537\n",
      "epoch: 07, loss: -0.87409\n",
      "epoch: 08, loss: -0.84457\n",
      "epoch: 09, loss: -0.84627\n"
     ]
    },
    {
     "name": "stderr",
     "output_type": "stream",
     "text": [
      " 64%|██████▍   | 638/1000 [3:58:40<2:03:47, 20.52s/it]"
     ]
    },
    {
     "name": "stdout",
     "output_type": "stream",
     "text": [
      "eigenvalues shape torch.Size([5]) eigenvectors shape torch.Size([5, 450])\n",
      "638 /home/phdcs2/Hard_Disk/Datasets/Deep-Spectral-Segmentation/data/object-segmentation/ECSSD/features/dino_vits16/0639.pth\n",
      "dict_keys(['k', 'indices', 'file', 'id', 'model_name', 'patch_size', 'shape'])\n",
      "0639\n",
      "Starting Training\n",
      "epoch: 00, loss: -0.40799\n",
      "epoch: 01, loss: -0.59227\n",
      "epoch: 02, loss: -0.62691\n",
      "epoch: 03, loss: -0.67514\n",
      "epoch: 04, loss: -0.73432\n",
      "epoch: 05, loss: -0.74896\n",
      "epoch: 06, loss: -0.72800\n",
      "epoch: 07, loss: -0.72059\n",
      "epoch: 08, loss: -0.71274\n",
      "epoch: 09, loss: -0.68046\n"
     ]
    },
    {
     "name": "stderr",
     "output_type": "stream",
     "text": [
      " 64%|██████▍   | 639/1000 [3:58:58<1:57:45, 19.57s/it]"
     ]
    },
    {
     "name": "stdout",
     "output_type": "stream",
     "text": [
      "eigenvalues shape torch.Size([5]) eigenvectors shape torch.Size([5, 375])\n",
      "639 /home/phdcs2/Hard_Disk/Datasets/Deep-Spectral-Segmentation/data/object-segmentation/ECSSD/features/dino_vits16/0640.pth\n",
      "dict_keys(['k', 'indices', 'file', 'id', 'model_name', 'patch_size', 'shape'])\n",
      "0640\n",
      "Starting Training\n",
      "epoch: 00, loss: -0.66446\n",
      "epoch: 01, loss: -0.95225\n",
      "epoch: 02, loss: -0.95305\n",
      "epoch: 03, loss: -0.95777\n",
      "epoch: 04, loss: -0.94860\n",
      "epoch: 05, loss: -0.94716\n",
      "epoch: 06, loss: -0.94516\n",
      "epoch: 07, loss: -0.95014\n",
      "epoch: 08, loss: -0.95001\n",
      "epoch: 09, loss: -0.96134\n"
     ]
    },
    {
     "name": "stderr",
     "output_type": "stream",
     "text": [
      " 64%|██████▍   | 640/1000 [3:59:15<1:54:21, 19.06s/it]"
     ]
    },
    {
     "name": "stdout",
     "output_type": "stream",
     "text": [
      "eigenvalues shape torch.Size([5]) eigenvectors shape torch.Size([5, 375])\n",
      "640 /home/phdcs2/Hard_Disk/Datasets/Deep-Spectral-Segmentation/data/object-segmentation/ECSSD/features/dino_vits16/0641.pth\n",
      "dict_keys(['k', 'indices', 'file', 'id', 'model_name', 'patch_size', 'shape'])\n",
      "0641\n",
      "Starting Training\n",
      "epoch: 00, loss: -0.33925\n",
      "epoch: 01, loss: -0.61892\n",
      "epoch: 02, loss: -0.71945\n",
      "epoch: 03, loss: -0.79188\n",
      "epoch: 04, loss: -0.79185\n",
      "epoch: 05, loss: -0.79381\n",
      "epoch: 06, loss: -0.80483\n",
      "epoch: 07, loss: -0.81208\n",
      "epoch: 08, loss: -0.82720\n",
      "epoch: 09, loss: -0.81268\n"
     ]
    },
    {
     "name": "stderr",
     "output_type": "stream",
     "text": [
      " 64%|██████▍   | 641/1000 [3:59:39<2:01:34, 20.32s/it]"
     ]
    },
    {
     "name": "stdout",
     "output_type": "stream",
     "text": [
      "eigenvalues shape torch.Size([5]) eigenvectors shape torch.Size([5, 450])\n",
      "641 /home/phdcs2/Hard_Disk/Datasets/Deep-Spectral-Segmentation/data/object-segmentation/ECSSD/features/dino_vits16/0642.pth\n",
      "dict_keys(['k', 'indices', 'file', 'id', 'model_name', 'patch_size', 'shape'])\n",
      "0642\n",
      "Starting Training\n",
      "epoch: 00, loss: -0.26092\n",
      "epoch: 01, loss: -0.64603\n",
      "epoch: 02, loss: -0.71142\n",
      "epoch: 03, loss: -0.71123\n",
      "epoch: 04, loss: -0.77001\n",
      "epoch: 05, loss: -0.75141\n",
      "epoch: 06, loss: -0.76772\n",
      "epoch: 07, loss: -0.77614\n",
      "epoch: 08, loss: -0.75813\n",
      "epoch: 09, loss: -0.74846\n"
     ]
    },
    {
     "name": "stderr",
     "output_type": "stream",
     "text": [
      " 64%|██████▍   | 642/1000 [4:00:00<2:02:08, 20.47s/it]"
     ]
    },
    {
     "name": "stdout",
     "output_type": "stream",
     "text": [
      "eigenvalues shape torch.Size([5]) eigenvectors shape torch.Size([5, 450])\n",
      "642 /home/phdcs2/Hard_Disk/Datasets/Deep-Spectral-Segmentation/data/object-segmentation/ECSSD/features/dino_vits16/0643.pth\n",
      "dict_keys(['k', 'indices', 'file', 'id', 'model_name', 'patch_size', 'shape'])\n",
      "0643\n",
      "Starting Training\n",
      "epoch: 00, loss: -0.41041\n",
      "epoch: 01, loss: -0.68680\n",
      "epoch: 02, loss: -0.71857\n",
      "epoch: 03, loss: -0.75737\n",
      "epoch: 04, loss: -0.74855\n",
      "epoch: 05, loss: -0.77524\n",
      "epoch: 06, loss: -0.69849\n",
      "epoch: 07, loss: -0.68833\n",
      "epoch: 08, loss: -0.69307\n",
      "epoch: 09, loss: -0.72625\n"
     ]
    },
    {
     "name": "stderr",
     "output_type": "stream",
     "text": [
      " 64%|██████▍   | 643/1000 [4:00:20<2:02:14, 20.54s/it]"
     ]
    },
    {
     "name": "stdout",
     "output_type": "stream",
     "text": [
      "eigenvalues shape torch.Size([5]) eigenvectors shape torch.Size([5, 450])\n",
      "643 /home/phdcs2/Hard_Disk/Datasets/Deep-Spectral-Segmentation/data/object-segmentation/ECSSD/features/dino_vits16/0644.pth\n",
      "dict_keys(['k', 'indices', 'file', 'id', 'model_name', 'patch_size', 'shape'])\n",
      "0644\n",
      "Starting Training\n",
      "epoch: 00, loss: -0.37556\n",
      "epoch: 01, loss: -0.68086\n",
      "epoch: 02, loss: -0.73124\n",
      "epoch: 03, loss: -0.80573\n",
      "epoch: 04, loss: -0.81815\n",
      "epoch: 05, loss: -0.90138\n",
      "epoch: 06, loss: -0.91443\n",
      "epoch: 07, loss: -0.90727\n",
      "epoch: 08, loss: -0.88147\n",
      "epoch: 09, loss: -0.88203\n"
     ]
    },
    {
     "name": "stderr",
     "output_type": "stream",
     "text": [
      " 64%|██████▍   | 644/1000 [4:00:42<2:03:40, 20.84s/it]"
     ]
    },
    {
     "name": "stdout",
     "output_type": "stream",
     "text": [
      "eigenvalues shape torch.Size([5]) eigenvectors shape torch.Size([5, 450])\n",
      "644 /home/phdcs2/Hard_Disk/Datasets/Deep-Spectral-Segmentation/data/object-segmentation/ECSSD/features/dino_vits16/0645.pth\n",
      "dict_keys(['k', 'indices', 'file', 'id', 'model_name', 'patch_size', 'shape'])\n",
      "0645\n",
      "Starting Training\n",
      "epoch: 00, loss: -0.24072\n",
      "epoch: 01, loss: -0.58461\n",
      "epoch: 02, loss: -0.72246\n",
      "epoch: 03, loss: -0.73967\n",
      "epoch: 04, loss: -0.75826\n",
      "epoch: 05, loss: -0.79929\n",
      "epoch: 06, loss: -0.82140\n",
      "epoch: 07, loss: -0.83295\n",
      "epoch: 08, loss: -0.85461\n",
      "epoch: 09, loss: -0.84898\n"
     ]
    },
    {
     "name": "stderr",
     "output_type": "stream",
     "text": [
      " 64%|██████▍   | 645/1000 [4:00:58<1:55:33, 19.53s/it]"
     ]
    },
    {
     "name": "stdout",
     "output_type": "stream",
     "text": [
      "eigenvalues shape torch.Size([5]) eigenvectors shape torch.Size([5, 400])\n",
      "645 /home/phdcs2/Hard_Disk/Datasets/Deep-Spectral-Segmentation/data/object-segmentation/ECSSD/features/dino_vits16/0646.pth\n",
      "dict_keys(['k', 'indices', 'file', 'id', 'model_name', 'patch_size', 'shape'])\n",
      "0646\n",
      "Starting Training\n",
      "epoch: 00, loss: -0.32310\n",
      "epoch: 01, loss: -0.69739\n",
      "epoch: 02, loss: -0.76299\n",
      "epoch: 03, loss: -0.73805\n",
      "epoch: 04, loss: -0.75764\n",
      "epoch: 05, loss: -0.76121\n",
      "epoch: 06, loss: -0.78819\n",
      "epoch: 07, loss: -0.77583\n",
      "epoch: 08, loss: -0.78974\n",
      "epoch: 09, loss: -0.78756\n"
     ]
    },
    {
     "name": "stderr",
     "output_type": "stream",
     "text": [
      " 65%|██████▍   | 646/1000 [4:01:20<2:00:00, 20.34s/it]"
     ]
    },
    {
     "name": "stdout",
     "output_type": "stream",
     "text": [
      "eigenvalues shape torch.Size([5]) eigenvectors shape torch.Size([5, 475])\n",
      "646 /home/phdcs2/Hard_Disk/Datasets/Deep-Spectral-Segmentation/data/object-segmentation/ECSSD/features/dino_vits16/0647.pth\n",
      "dict_keys(['k', 'indices', 'file', 'id', 'model_name', 'patch_size', 'shape'])\n",
      "0647\n",
      "Starting Training\n",
      "epoch: 00, loss: -0.38062\n",
      "epoch: 01, loss: -0.80196\n",
      "epoch: 02, loss: -0.79091\n",
      "epoch: 03, loss: -0.77002\n",
      "epoch: 04, loss: -0.78612\n",
      "epoch: 05, loss: -0.78032\n",
      "epoch: 06, loss: -0.77603\n",
      "epoch: 07, loss: -0.78872\n",
      "epoch: 08, loss: -0.75427\n",
      "epoch: 09, loss: -0.78829\n"
     ]
    },
    {
     "name": "stderr",
     "output_type": "stream",
     "text": [
      " 65%|██████▍   | 647/1000 [4:01:37<1:52:36, 19.14s/it]"
     ]
    },
    {
     "name": "stdout",
     "output_type": "stream",
     "text": [
      "eigenvalues shape torch.Size([5]) eigenvectors shape torch.Size([5, 400])\n",
      "647 /home/phdcs2/Hard_Disk/Datasets/Deep-Spectral-Segmentation/data/object-segmentation/ECSSD/features/dino_vits16/0648.pth\n",
      "dict_keys(['k', 'indices', 'file', 'id', 'model_name', 'patch_size', 'shape'])\n",
      "0648\n",
      "Starting Training\n",
      "epoch: 00, loss: -0.58591\n",
      "epoch: 01, loss: -0.79717\n",
      "epoch: 02, loss: -0.83233\n",
      "epoch: 03, loss: -0.80123\n",
      "epoch: 04, loss: -0.81496\n",
      "epoch: 05, loss: -0.81209\n",
      "epoch: 06, loss: -0.76750\n",
      "epoch: 07, loss: -0.79466\n",
      "epoch: 08, loss: -0.74153\n",
      "epoch: 09, loss: -0.71774\n"
     ]
    },
    {
     "name": "stderr",
     "output_type": "stream",
     "text": [
      " 65%|██████▍   | 648/1000 [4:02:00<2:00:09, 20.48s/it]"
     ]
    },
    {
     "name": "stdout",
     "output_type": "stream",
     "text": [
      "eigenvalues shape torch.Size([5]) eigenvectors shape torch.Size([5, 525])\n",
      "648 /home/phdcs2/Hard_Disk/Datasets/Deep-Spectral-Segmentation/data/object-segmentation/ECSSD/features/dino_vits16/0649.pth\n",
      "dict_keys(['k', 'indices', 'file', 'id', 'model_name', 'patch_size', 'shape'])\n",
      "0649\n",
      "Starting Training\n",
      "epoch: 00, loss: -0.61734\n",
      "epoch: 01, loss: -0.92099\n",
      "epoch: 02, loss: -0.91932\n",
      "epoch: 03, loss: -0.91396\n",
      "epoch: 04, loss: -0.91616\n",
      "epoch: 05, loss: -0.90227\n",
      "epoch: 06, loss: -0.91417\n",
      "epoch: 07, loss: -0.83652\n",
      "epoch: 08, loss: -0.64574\n",
      "epoch: 09, loss: -0.63641\n"
     ]
    },
    {
     "name": "stderr",
     "output_type": "stream",
     "text": [
      " 65%|██████▍   | 649/1000 [4:02:19<1:56:38, 19.94s/it]"
     ]
    },
    {
     "name": "stdout",
     "output_type": "stream",
     "text": [
      "eigenvalues shape torch.Size([5]) eigenvectors shape torch.Size([5, 400])\n",
      "649 /home/phdcs2/Hard_Disk/Datasets/Deep-Spectral-Segmentation/data/object-segmentation/ECSSD/features/dino_vits16/0650.pth\n",
      "dict_keys(['k', 'indices', 'file', 'id', 'model_name', 'patch_size', 'shape'])\n",
      "0650\n",
      "Starting Training\n",
      "epoch: 00, loss: -0.36471\n",
      "epoch: 01, loss: -0.65354\n",
      "epoch: 02, loss: -0.73500\n",
      "epoch: 03, loss: -0.78176\n",
      "epoch: 04, loss: -0.79757\n",
      "epoch: 05, loss: -0.80513\n",
      "epoch: 06, loss: -0.83009\n",
      "epoch: 07, loss: -0.82726\n",
      "epoch: 08, loss: -0.83397\n",
      "epoch: 09, loss: -0.84380\n"
     ]
    },
    {
     "name": "stderr",
     "output_type": "stream",
     "text": [
      " 65%|██████▌   | 650/1000 [4:02:38<1:54:33, 19.64s/it]"
     ]
    },
    {
     "name": "stdout",
     "output_type": "stream",
     "text": [
      "eigenvalues shape torch.Size([5]) eigenvectors shape torch.Size([5, 400])\n",
      "650 /home/phdcs2/Hard_Disk/Datasets/Deep-Spectral-Segmentation/data/object-segmentation/ECSSD/features/dino_vits16/0651.pth\n",
      "dict_keys(['k', 'indices', 'file', 'id', 'model_name', 'patch_size', 'shape'])\n",
      "0651\n",
      "Starting Training\n",
      "epoch: 00, loss: -0.30604\n",
      "epoch: 01, loss: -0.67266\n",
      "epoch: 02, loss: -0.73686\n",
      "epoch: 03, loss: -0.68157\n",
      "epoch: 04, loss: -0.67772\n",
      "epoch: 05, loss: -0.73495\n",
      "epoch: 06, loss: -0.76156\n",
      "epoch: 07, loss: -0.75651\n",
      "epoch: 08, loss: -0.75988\n",
      "epoch: 09, loss: -0.74767\n"
     ]
    },
    {
     "name": "stderr",
     "output_type": "stream",
     "text": [
      " 65%|██████▌   | 651/1000 [4:02:54<1:47:24, 18.46s/it]"
     ]
    },
    {
     "name": "stdout",
     "output_type": "stream",
     "text": [
      "eigenvalues shape torch.Size([5]) eigenvectors shape torch.Size([5, 350])\n",
      "651 /home/phdcs2/Hard_Disk/Datasets/Deep-Spectral-Segmentation/data/object-segmentation/ECSSD/features/dino_vits16/0652.pth\n",
      "dict_keys(['k', 'indices', 'file', 'id', 'model_name', 'patch_size', 'shape'])\n",
      "0652\n",
      "Starting Training\n",
      "epoch: 00, loss: -0.52346\n",
      "epoch: 01, loss: -0.81369\n",
      "epoch: 02, loss: -0.86829\n",
      "epoch: 03, loss: -0.84067\n",
      "epoch: 04, loss: -0.82712\n",
      "epoch: 05, loss: -0.77814\n",
      "epoch: 06, loss: -0.79270\n",
      "epoch: 07, loss: -0.83402\n",
      "epoch: 08, loss: -0.86683\n",
      "epoch: 09, loss: -0.86207\n"
     ]
    },
    {
     "name": "stderr",
     "output_type": "stream",
     "text": [
      " 65%|██████▌   | 652/1000 [4:03:12<1:46:34, 18.38s/it]"
     ]
    },
    {
     "name": "stdout",
     "output_type": "stream",
     "text": [
      "eigenvalues shape torch.Size([5]) eigenvectors shape torch.Size([5, 400])\n",
      "652 /home/phdcs2/Hard_Disk/Datasets/Deep-Spectral-Segmentation/data/object-segmentation/ECSSD/features/dino_vits16/0653.pth\n",
      "dict_keys(['k', 'indices', 'file', 'id', 'model_name', 'patch_size', 'shape'])\n",
      "0653\n",
      "Starting Training\n",
      "epoch: 00, loss: -0.43745\n",
      "epoch: 01, loss: -0.67558\n",
      "epoch: 02, loss: -0.75823\n",
      "epoch: 03, loss: -0.79368\n",
      "epoch: 04, loss: -0.80502\n",
      "epoch: 05, loss: -0.81710\n",
      "epoch: 06, loss: -0.83667\n",
      "epoch: 07, loss: -0.84947\n",
      "epoch: 08, loss: -0.84837\n",
      "epoch: 09, loss: -0.84295\n"
     ]
    },
    {
     "name": "stderr",
     "output_type": "stream",
     "text": [
      " 65%|██████▌   | 653/1000 [4:03:33<1:50:58, 19.19s/it]"
     ]
    },
    {
     "name": "stdout",
     "output_type": "stream",
     "text": [
      "eigenvalues shape torch.Size([5]) eigenvectors shape torch.Size([5, 450])\n",
      "653 /home/phdcs2/Hard_Disk/Datasets/Deep-Spectral-Segmentation/data/object-segmentation/ECSSD/features/dino_vits16/0654.pth\n",
      "dict_keys(['k', 'indices', 'file', 'id', 'model_name', 'patch_size', 'shape'])\n",
      "0654\n",
      "Starting Training\n",
      "epoch: 00, loss: -0.28932\n",
      "epoch: 01, loss: -0.64512\n",
      "epoch: 02, loss: -0.73139\n",
      "epoch: 03, loss: -0.78806\n",
      "epoch: 04, loss: -0.82385\n",
      "epoch: 05, loss: -0.83215\n",
      "epoch: 06, loss: -0.81763\n",
      "epoch: 07, loss: -0.84741\n",
      "epoch: 08, loss: -0.83476\n",
      "epoch: 09, loss: -0.84922\n"
     ]
    },
    {
     "name": "stderr",
     "output_type": "stream",
     "text": [
      " 65%|██████▌   | 654/1000 [4:03:52<1:50:07, 19.10s/it]"
     ]
    },
    {
     "name": "stdout",
     "output_type": "stream",
     "text": [
      "eigenvalues shape torch.Size([5]) eigenvectors shape torch.Size([5, 400])\n",
      "654 /home/phdcs2/Hard_Disk/Datasets/Deep-Spectral-Segmentation/data/object-segmentation/ECSSD/features/dino_vits16/0655.pth\n",
      "dict_keys(['k', 'indices', 'file', 'id', 'model_name', 'patch_size', 'shape'])\n",
      "0655\n",
      "Starting Training\n",
      "epoch: 00, loss: -0.58752\n",
      "epoch: 01, loss: -0.92288\n",
      "epoch: 02, loss: -0.93835\n",
      "epoch: 03, loss: -0.92313\n",
      "epoch: 04, loss: -0.90877\n",
      "epoch: 05, loss: -0.89913\n",
      "epoch: 06, loss: -0.90762\n",
      "epoch: 07, loss: -0.88261\n",
      "epoch: 08, loss: -0.88788\n",
      "epoch: 09, loss: -0.86913\n"
     ]
    },
    {
     "name": "stderr",
     "output_type": "stream",
     "text": [
      " 66%|██████▌   | 655/1000 [4:04:09<1:45:38, 18.37s/it]"
     ]
    },
    {
     "name": "stdout",
     "output_type": "stream",
     "text": [
      "eigenvalues shape torch.Size([5]) eigenvectors shape torch.Size([5, 350])\n",
      "655 /home/phdcs2/Hard_Disk/Datasets/Deep-Spectral-Segmentation/data/object-segmentation/ECSSD/features/dino_vits16/0656.pth\n",
      "dict_keys(['k', 'indices', 'file', 'id', 'model_name', 'patch_size', 'shape'])\n",
      "0656\n",
      "Starting Training\n",
      "epoch: 00, loss: -0.56314\n",
      "epoch: 01, loss: -0.87034\n",
      "epoch: 02, loss: -0.90056\n",
      "epoch: 03, loss: -0.91190\n",
      "epoch: 04, loss: -0.88838\n",
      "epoch: 05, loss: -0.88530\n",
      "epoch: 06, loss: -0.88448\n",
      "epoch: 07, loss: -0.90227\n",
      "epoch: 08, loss: -0.89171\n",
      "epoch: 09, loss: -0.88596\n"
     ]
    },
    {
     "name": "stderr",
     "output_type": "stream",
     "text": [
      " 66%|██████▌   | 656/1000 [4:04:27<1:44:55, 18.30s/it]"
     ]
    },
    {
     "name": "stdout",
     "output_type": "stream",
     "text": [
      "eigenvalues shape torch.Size([5]) eigenvectors shape torch.Size([5, 400])\n",
      "656 /home/phdcs2/Hard_Disk/Datasets/Deep-Spectral-Segmentation/data/object-segmentation/ECSSD/features/dino_vits16/0657.pth\n",
      "dict_keys(['k', 'indices', 'file', 'id', 'model_name', 'patch_size', 'shape'])\n",
      "0657\n",
      "Starting Training\n",
      "epoch: 00, loss: -0.44781\n",
      "epoch: 01, loss: -0.74392\n",
      "epoch: 02, loss: -0.77767\n",
      "epoch: 03, loss: -0.77856\n",
      "epoch: 04, loss: -0.78812\n",
      "epoch: 05, loss: -0.81744\n",
      "epoch: 06, loss: -0.82082\n",
      "epoch: 07, loss: -0.80718\n",
      "epoch: 08, loss: -0.76826\n",
      "epoch: 09, loss: -0.77433\n"
     ]
    },
    {
     "name": "stderr",
     "output_type": "stream",
     "text": [
      " 66%|██████▌   | 657/1000 [4:04:49<1:50:34, 19.34s/it]"
     ]
    },
    {
     "name": "stdout",
     "output_type": "stream",
     "text": [
      "eigenvalues shape torch.Size([5]) eigenvectors shape torch.Size([5, 450])\n",
      "657 /home/phdcs2/Hard_Disk/Datasets/Deep-Spectral-Segmentation/data/object-segmentation/ECSSD/features/dino_vits16/0658.pth\n",
      "dict_keys(['k', 'indices', 'file', 'id', 'model_name', 'patch_size', 'shape'])\n",
      "0658\n",
      "Starting Training\n",
      "epoch: 00, loss: -0.66687\n",
      "epoch: 01, loss: -0.84534\n",
      "epoch: 02, loss: -0.80999\n",
      "epoch: 03, loss: -0.80188\n",
      "epoch: 04, loss: -0.75710\n",
      "epoch: 05, loss: -0.75563\n",
      "epoch: 06, loss: -0.74966\n",
      "epoch: 07, loss: -0.77439\n",
      "epoch: 08, loss: -0.80042\n",
      "epoch: 09, loss: -0.84972\n"
     ]
    },
    {
     "name": "stderr",
     "output_type": "stream",
     "text": [
      " 66%|██████▌   | 658/1000 [4:05:16<2:04:00, 21.76s/it]"
     ]
    },
    {
     "name": "stdout",
     "output_type": "stream",
     "text": [
      "eigenvalues shape torch.Size([5]) eigenvectors shape torch.Size([5, 575])\n",
      "658 /home/phdcs2/Hard_Disk/Datasets/Deep-Spectral-Segmentation/data/object-segmentation/ECSSD/features/dino_vits16/0659.pth\n",
      "dict_keys(['k', 'indices', 'file', 'id', 'model_name', 'patch_size', 'shape'])\n",
      "0659\n",
      "Starting Training\n",
      "epoch: 00, loss: -0.40609\n",
      "epoch: 01, loss: -0.66279\n",
      "epoch: 02, loss: -0.72655\n",
      "epoch: 03, loss: -0.75329\n",
      "epoch: 04, loss: -0.77759\n",
      "epoch: 05, loss: -0.80189\n",
      "epoch: 06, loss: -0.80327\n",
      "epoch: 07, loss: -0.81898\n",
      "epoch: 08, loss: -0.83906\n",
      "epoch: 09, loss: -0.85574\n"
     ]
    },
    {
     "name": "stderr",
     "output_type": "stream",
     "text": [
      " 66%|██████▌   | 659/1000 [4:05:42<2:10:27, 22.95s/it]"
     ]
    },
    {
     "name": "stdout",
     "output_type": "stream",
     "text": [
      "eigenvalues shape torch.Size([5]) eigenvectors shape torch.Size([5, 525])\n",
      "659 /home/phdcs2/Hard_Disk/Datasets/Deep-Spectral-Segmentation/data/object-segmentation/ECSSD/features/dino_vits16/0660.pth\n",
      "dict_keys(['k', 'indices', 'file', 'id', 'model_name', 'patch_size', 'shape'])\n",
      "0660\n",
      "Starting Training\n",
      "epoch: 00, loss: -0.71147\n",
      "epoch: 01, loss: -0.83378\n",
      "epoch: 02, loss: -0.72346\n",
      "epoch: 03, loss: -0.74633\n",
      "epoch: 04, loss: -0.76628\n",
      "epoch: 05, loss: -0.80743\n",
      "epoch: 06, loss: -0.81821\n",
      "epoch: 07, loss: -0.80587\n",
      "epoch: 08, loss: -0.81441\n",
      "epoch: 09, loss: -0.83010\n"
     ]
    },
    {
     "name": "stderr",
     "output_type": "stream",
     "text": [
      " 66%|██████▌   | 660/1000 [4:06:10<2:19:45, 24.66s/it]"
     ]
    },
    {
     "name": "stdout",
     "output_type": "stream",
     "text": [
      "eigenvalues shape torch.Size([5]) eigenvectors shape torch.Size([5, 600])\n",
      "660 /home/phdcs2/Hard_Disk/Datasets/Deep-Spectral-Segmentation/data/object-segmentation/ECSSD/features/dino_vits16/0661.pth\n",
      "dict_keys(['k', 'indices', 'file', 'id', 'model_name', 'patch_size', 'shape'])\n",
      "0661\n",
      "Starting Training\n",
      "epoch: 00, loss: -0.53982\n",
      "epoch: 01, loss: -0.73807\n",
      "epoch: 02, loss: -0.73948\n",
      "epoch: 03, loss: -0.76969\n",
      "epoch: 04, loss: -0.77216\n",
      "epoch: 05, loss: -0.76358\n",
      "epoch: 06, loss: -0.77370\n",
      "epoch: 07, loss: -0.74852\n",
      "epoch: 08, loss: -0.75238\n",
      "epoch: 09, loss: -0.75768\n"
     ]
    },
    {
     "name": "stderr",
     "output_type": "stream",
     "text": [
      " 66%|██████▌   | 661/1000 [4:06:31<2:12:56, 23.53s/it]"
     ]
    },
    {
     "name": "stdout",
     "output_type": "stream",
     "text": [
      "eigenvalues shape torch.Size([5]) eigenvectors shape torch.Size([5, 450])\n",
      "661 /home/phdcs2/Hard_Disk/Datasets/Deep-Spectral-Segmentation/data/object-segmentation/ECSSD/features/dino_vits16/0662.pth\n",
      "dict_keys(['k', 'indices', 'file', 'id', 'model_name', 'patch_size', 'shape'])\n",
      "0662\n",
      "Starting Training\n",
      "epoch: 00, loss: -0.45676\n",
      "epoch: 01, loss: -0.90614\n",
      "epoch: 02, loss: -0.91432\n",
      "epoch: 03, loss: -0.87899\n",
      "epoch: 04, loss: -0.89446\n",
      "epoch: 05, loss: -0.89883\n",
      "epoch: 06, loss: -0.89511\n",
      "epoch: 07, loss: -0.83105\n",
      "epoch: 08, loss: -0.84833\n",
      "epoch: 09, loss: -0.83454\n"
     ]
    },
    {
     "name": "stderr",
     "output_type": "stream",
     "text": [
      " 66%|██████▌   | 662/1000 [4:06:51<2:06:21, 22.43s/it]"
     ]
    },
    {
     "name": "stdout",
     "output_type": "stream",
     "text": [
      "eigenvalues shape torch.Size([5]) eigenvectors shape torch.Size([5, 400])\n",
      "662 /home/phdcs2/Hard_Disk/Datasets/Deep-Spectral-Segmentation/data/object-segmentation/ECSSD/features/dino_vits16/0663.pth\n",
      "dict_keys(['k', 'indices', 'file', 'id', 'model_name', 'patch_size', 'shape'])\n",
      "0663\n",
      "Starting Training\n",
      "epoch: 00, loss: -0.49286\n",
      "epoch: 01, loss: -0.79961\n",
      "epoch: 02, loss: -0.82665\n",
      "epoch: 03, loss: -0.76187\n",
      "epoch: 04, loss: -0.69465\n",
      "epoch: 05, loss: -0.68023\n",
      "epoch: 06, loss: -0.71971\n",
      "epoch: 07, loss: -0.73261\n",
      "epoch: 08, loss: -0.75054\n",
      "epoch: 09, loss: -0.75368\n"
     ]
    },
    {
     "name": "stderr",
     "output_type": "stream",
     "text": [
      " 66%|██████▋   | 663/1000 [4:07:09<1:58:46, 21.15s/it]"
     ]
    },
    {
     "name": "stdout",
     "output_type": "stream",
     "text": [
      "eigenvalues shape torch.Size([5]) eigenvectors shape torch.Size([5, 400])\n",
      "663 /home/phdcs2/Hard_Disk/Datasets/Deep-Spectral-Segmentation/data/object-segmentation/ECSSD/features/dino_vits16/0664.pth\n",
      "dict_keys(['k', 'indices', 'file', 'id', 'model_name', 'patch_size', 'shape'])\n",
      "0664\n",
      "Starting Training\n",
      "epoch: 00, loss: -0.67810\n",
      "epoch: 01, loss: -0.95923\n",
      "epoch: 02, loss: -0.94489\n",
      "epoch: 03, loss: -0.94895\n",
      "epoch: 04, loss: -0.95474\n",
      "epoch: 05, loss: -0.90717\n",
      "epoch: 06, loss: -0.89787\n",
      "epoch: 07, loss: -0.89180\n",
      "epoch: 08, loss: -0.89301\n",
      "epoch: 09, loss: -0.89509\n"
     ]
    },
    {
     "name": "stderr",
     "output_type": "stream",
     "text": [
      " 66%|██████▋   | 664/1000 [4:07:28<1:53:57, 20.35s/it]"
     ]
    },
    {
     "name": "stdout",
     "output_type": "stream",
     "text": [
      "eigenvalues shape torch.Size([5]) eigenvectors shape torch.Size([5, 400])\n",
      "664 /home/phdcs2/Hard_Disk/Datasets/Deep-Spectral-Segmentation/data/object-segmentation/ECSSD/features/dino_vits16/0665.pth\n",
      "dict_keys(['k', 'indices', 'file', 'id', 'model_name', 'patch_size', 'shape'])\n",
      "0665\n",
      "Starting Training\n",
      "epoch: 00, loss: -0.44284\n",
      "epoch: 01, loss: -0.69508\n",
      "epoch: 02, loss: -0.67763\n",
      "epoch: 03, loss: -0.71923\n",
      "epoch: 04, loss: -0.77033\n",
      "epoch: 05, loss: -0.76023\n",
      "epoch: 06, loss: -0.75629\n",
      "epoch: 07, loss: -0.77844\n",
      "epoch: 08, loss: -0.80927\n",
      "epoch: 09, loss: -0.79103\n"
     ]
    },
    {
     "name": "stderr",
     "output_type": "stream",
     "text": [
      " 66%|██████▋   | 665/1000 [4:07:46<1:50:21, 19.77s/it]"
     ]
    },
    {
     "name": "stdout",
     "output_type": "stream",
     "text": [
      "eigenvalues shape torch.Size([5]) eigenvectors shape torch.Size([5, 400])\n",
      "665 /home/phdcs2/Hard_Disk/Datasets/Deep-Spectral-Segmentation/data/object-segmentation/ECSSD/features/dino_vits16/0666.pth\n",
      "dict_keys(['k', 'indices', 'file', 'id', 'model_name', 'patch_size', 'shape'])\n",
      "0666\n",
      "Starting Training\n",
      "epoch: 00, loss: -0.40617\n",
      "epoch: 01, loss: -0.72392\n",
      "epoch: 02, loss: -0.76716\n",
      "epoch: 03, loss: -0.80103\n",
      "epoch: 04, loss: -0.82337\n",
      "epoch: 05, loss: -0.82900\n",
      "epoch: 06, loss: -0.83201\n",
      "epoch: 07, loss: -0.84113\n",
      "epoch: 08, loss: -0.85422\n",
      "epoch: 09, loss: -0.85179\n"
     ]
    },
    {
     "name": "stderr",
     "output_type": "stream",
     "text": [
      " 67%|██████▋   | 666/1000 [4:08:09<1:55:56, 20.83s/it]"
     ]
    },
    {
     "name": "stdout",
     "output_type": "stream",
     "text": [
      "eigenvalues shape torch.Size([5]) eigenvectors shape torch.Size([5, 525])\n",
      "666 /home/phdcs2/Hard_Disk/Datasets/Deep-Spectral-Segmentation/data/object-segmentation/ECSSD/features/dino_vits16/0667.pth\n",
      "dict_keys(['k', 'indices', 'file', 'id', 'model_name', 'patch_size', 'shape'])\n",
      "0667\n",
      "Starting Training\n",
      "epoch: 00, loss: -0.31745\n",
      "epoch: 01, loss: -0.74241\n",
      "epoch: 02, loss: -0.79113\n",
      "epoch: 03, loss: -0.81012\n",
      "epoch: 04, loss: -0.82543\n",
      "epoch: 05, loss: -0.84266\n",
      "epoch: 06, loss: -0.82080\n",
      "epoch: 07, loss: -0.83970\n",
      "epoch: 08, loss: -0.84006\n",
      "epoch: 09, loss: -0.84753\n"
     ]
    },
    {
     "name": "stderr",
     "output_type": "stream",
     "text": [
      " 67%|██████▋   | 667/1000 [4:08:27<1:49:27, 19.72s/it]"
     ]
    },
    {
     "name": "stdout",
     "output_type": "stream",
     "text": [
      "eigenvalues shape torch.Size([5]) eigenvectors shape torch.Size([5, 400])\n",
      "667 /home/phdcs2/Hard_Disk/Datasets/Deep-Spectral-Segmentation/data/object-segmentation/ECSSD/features/dino_vits16/0668.pth\n",
      "dict_keys(['k', 'indices', 'file', 'id', 'model_name', 'patch_size', 'shape'])\n",
      "0668\n",
      "Starting Training\n",
      "epoch: 00, loss: -0.45575\n",
      "epoch: 01, loss: -0.83772\n",
      "epoch: 02, loss: -0.80437\n",
      "epoch: 03, loss: -0.81900\n",
      "epoch: 04, loss: -0.86603\n",
      "epoch: 05, loss: -0.86293\n",
      "epoch: 06, loss: -0.81971\n",
      "epoch: 07, loss: -0.84234\n",
      "epoch: 08, loss: -0.82165\n",
      "epoch: 09, loss: -0.84340\n"
     ]
    },
    {
     "name": "stderr",
     "output_type": "stream",
     "text": [
      " 67%|██████▋   | 668/1000 [4:08:45<1:47:29, 19.43s/it]"
     ]
    },
    {
     "name": "stdout",
     "output_type": "stream",
     "text": [
      "eigenvalues shape torch.Size([5]) eigenvectors shape torch.Size([5, 400])\n",
      "668 /home/phdcs2/Hard_Disk/Datasets/Deep-Spectral-Segmentation/data/object-segmentation/ECSSD/features/dino_vits16/0669.pth\n",
      "dict_keys(['k', 'indices', 'file', 'id', 'model_name', 'patch_size', 'shape'])\n",
      "0669\n",
      "Starting Training\n",
      "epoch: 00, loss: -0.28974\n",
      "epoch: 01, loss: -0.60323\n",
      "epoch: 02, loss: -0.67551\n",
      "epoch: 03, loss: -0.72306\n",
      "epoch: 04, loss: -0.73723\n",
      "epoch: 05, loss: -0.73816\n",
      "epoch: 06, loss: -0.75633\n",
      "epoch: 07, loss: -0.74659\n",
      "epoch: 08, loss: -0.74736\n",
      "epoch: 09, loss: -0.75215\n"
     ]
    },
    {
     "name": "stderr",
     "output_type": "stream",
     "text": [
      " 67%|██████▋   | 669/1000 [4:09:05<1:46:54, 19.38s/it]"
     ]
    },
    {
     "name": "stdout",
     "output_type": "stream",
     "text": [
      "eigenvalues shape torch.Size([5]) eigenvectors shape torch.Size([5, 400])\n",
      "669 /home/phdcs2/Hard_Disk/Datasets/Deep-Spectral-Segmentation/data/object-segmentation/ECSSD/features/dino_vits16/0670.pth\n",
      "dict_keys(['k', 'indices', 'file', 'id', 'model_name', 'patch_size', 'shape'])\n",
      "0670\n",
      "Starting Training\n",
      "epoch: 00, loss: -0.46813\n",
      "epoch: 01, loss: -0.77058\n",
      "epoch: 02, loss: -0.77240\n",
      "epoch: 03, loss: -0.77852\n",
      "epoch: 04, loss: -0.75974\n",
      "epoch: 05, loss: -0.77752\n",
      "epoch: 06, loss: -0.78323\n",
      "epoch: 07, loss: -0.78146\n",
      "epoch: 08, loss: -0.76926\n",
      "epoch: 09, loss: -0.75747\n"
     ]
    },
    {
     "name": "stderr",
     "output_type": "stream",
     "text": [
      " 67%|██████▋   | 670/1000 [4:09:23<1:44:57, 19.08s/it]"
     ]
    },
    {
     "name": "stdout",
     "output_type": "stream",
     "text": [
      "eigenvalues shape torch.Size([5]) eigenvectors shape torch.Size([5, 400])\n",
      "670 /home/phdcs2/Hard_Disk/Datasets/Deep-Spectral-Segmentation/data/object-segmentation/ECSSD/features/dino_vits16/0671.pth\n",
      "dict_keys(['k', 'indices', 'file', 'id', 'model_name', 'patch_size', 'shape'])\n",
      "0671\n",
      "Starting Training\n",
      "epoch: 00, loss: -0.28688\n",
      "epoch: 01, loss: -0.64732\n",
      "epoch: 02, loss: -0.68941\n",
      "epoch: 03, loss: -0.70056\n",
      "epoch: 04, loss: -0.70188\n",
      "epoch: 05, loss: -0.71832\n",
      "epoch: 06, loss: -0.71214\n",
      "epoch: 07, loss: -0.74619\n",
      "epoch: 08, loss: -0.76230\n",
      "epoch: 09, loss: -0.77398\n",
      " ** On entry to SLASCL parameter number  4 had an illegal value\n",
      " ** On entry to SLASCL parameter number  4 had an illegal value\n"
     ]
    },
    {
     "name": "stderr",
     "output_type": "stream",
     "text": [
      " 67%|██████▋   | 671/1000 [4:09:55<2:06:28, 23.06s/it]"
     ]
    },
    {
     "name": "stdout",
     "output_type": "stream",
     "text": [
      "eigenvalues shape torch.Size([5]) eigenvectors shape torch.Size([5, 400])\n",
      "671 /home/phdcs2/Hard_Disk/Datasets/Deep-Spectral-Segmentation/data/object-segmentation/ECSSD/features/dino_vits16/0672.pth\n",
      "dict_keys(['k', 'indices', 'file', 'id', 'model_name', 'patch_size', 'shape'])\n",
      "0672\n",
      "Starting Training\n",
      "epoch: 00, loss: -0.71523\n",
      "epoch: 01, loss: -0.93479\n",
      "epoch: 02, loss: -0.91933\n",
      "epoch: 03, loss: -0.92784\n",
      "epoch: 04, loss: -0.93650\n",
      "epoch: 05, loss: -0.93525\n",
      "epoch: 06, loss: -0.93107\n",
      "epoch: 07, loss: -0.93226\n",
      "epoch: 08, loss: -0.93806\n",
      "epoch: 09, loss: -0.93015\n"
     ]
    },
    {
     "name": "stderr",
     "output_type": "stream",
     "text": [
      " 67%|██████▋   | 672/1000 [4:10:36<2:34:17, 28.22s/it]"
     ]
    },
    {
     "name": "stdout",
     "output_type": "stream",
     "text": [
      "eigenvalues shape torch.Size([5]) eigenvectors shape torch.Size([5, 450])\n",
      "672 /home/phdcs2/Hard_Disk/Datasets/Deep-Spectral-Segmentation/data/object-segmentation/ECSSD/features/dino_vits16/0673.pth\n",
      "dict_keys(['k', 'indices', 'file', 'id', 'model_name', 'patch_size', 'shape'])\n",
      "0673\n",
      "Starting Training\n",
      "epoch: 00, loss: -0.45383\n",
      "epoch: 01, loss: -0.75090\n",
      "epoch: 02, loss: -0.81036\n",
      "epoch: 03, loss: -0.83137\n",
      "epoch: 04, loss: -0.84806\n",
      "epoch: 05, loss: -0.84850\n",
      "epoch: 06, loss: -0.85689\n",
      "epoch: 07, loss: -0.86372\n",
      "epoch: 08, loss: -0.86899\n",
      "epoch: 09, loss: -0.87066\n"
     ]
    },
    {
     "name": "stderr",
     "output_type": "stream",
     "text": [
      " 67%|██████▋   | 673/1000 [4:11:07<2:38:43, 29.13s/it]"
     ]
    },
    {
     "name": "stdout",
     "output_type": "stream",
     "text": [
      "eigenvalues shape torch.Size([5]) eigenvectors shape torch.Size([5, 550])\n",
      "673 /home/phdcs2/Hard_Disk/Datasets/Deep-Spectral-Segmentation/data/object-segmentation/ECSSD/features/dino_vits16/0674.pth\n",
      "dict_keys(['k', 'indices', 'file', 'id', 'model_name', 'patch_size', 'shape'])\n",
      "0674\n",
      "Starting Training\n",
      "epoch: 00, loss: -0.46079\n",
      "epoch: 01, loss: -0.74032\n",
      "epoch: 02, loss: -0.75505\n",
      "epoch: 03, loss: -0.75313\n",
      "epoch: 04, loss: -0.80257\n",
      "epoch: 05, loss: -0.81250\n",
      "epoch: 06, loss: -0.83572\n",
      "epoch: 07, loss: -0.85305\n",
      "epoch: 08, loss: -0.87236\n",
      "epoch: 09, loss: -0.85772\n"
     ]
    },
    {
     "name": "stderr",
     "output_type": "stream",
     "text": [
      " 67%|██████▋   | 674/1000 [4:11:32<2:32:39, 28.10s/it]"
     ]
    },
    {
     "name": "stdout",
     "output_type": "stream",
     "text": [
      "eigenvalues shape torch.Size([5]) eigenvectors shape torch.Size([5, 400])\n",
      "674 /home/phdcs2/Hard_Disk/Datasets/Deep-Spectral-Segmentation/data/object-segmentation/ECSSD/features/dino_vits16/0675.pth\n",
      "dict_keys(['k', 'indices', 'file', 'id', 'model_name', 'patch_size', 'shape'])\n",
      "0675\n",
      "Starting Training\n",
      "epoch: 00, loss: -0.29298\n",
      "epoch: 01, loss: -0.65301\n",
      "epoch: 02, loss: -0.72384\n",
      "epoch: 03, loss: -0.76785\n",
      "epoch: 04, loss: -0.76544\n",
      "epoch: 05, loss: -0.75862\n",
      "epoch: 06, loss: -0.75998\n",
      "epoch: 07, loss: -0.81671\n",
      "epoch: 08, loss: -0.84747\n",
      "epoch: 09, loss: -0.85003\n"
     ]
    },
    {
     "name": "stderr",
     "output_type": "stream",
     "text": [
      " 68%|██████▊   | 675/1000 [4:12:02<2:34:32, 28.53s/it]"
     ]
    },
    {
     "name": "stdout",
     "output_type": "stream",
     "text": [
      "eigenvalues shape torch.Size([5]) eigenvectors shape torch.Size([5, 400])\n",
      "675 /home/phdcs2/Hard_Disk/Datasets/Deep-Spectral-Segmentation/data/object-segmentation/ECSSD/features/dino_vits16/0676.pth\n",
      "dict_keys(['k', 'indices', 'file', 'id', 'model_name', 'patch_size', 'shape'])\n",
      "0676\n",
      "Starting Training\n",
      "epoch: 00, loss: -0.44973\n",
      "epoch: 01, loss: -0.75341\n",
      "epoch: 02, loss: -0.74358\n",
      "epoch: 03, loss: -0.75013\n",
      "epoch: 04, loss: -0.66712\n",
      "epoch: 05, loss: -0.67698\n",
      "epoch: 06, loss: -0.67212\n",
      "epoch: 07, loss: -0.67938\n",
      "epoch: 08, loss: -0.68619\n",
      "epoch: 09, loss: -0.68337\n"
     ]
    },
    {
     "name": "stderr",
     "output_type": "stream",
     "text": [
      " 68%|██████▊   | 676/1000 [4:12:41<2:51:06, 31.69s/it]"
     ]
    },
    {
     "name": "stdout",
     "output_type": "stream",
     "text": [
      "eigenvalues shape torch.Size([5]) eigenvectors shape torch.Size([5, 400])\n",
      "676 /home/phdcs2/Hard_Disk/Datasets/Deep-Spectral-Segmentation/data/object-segmentation/ECSSD/features/dino_vits16/0677.pth\n",
      "dict_keys(['k', 'indices', 'file', 'id', 'model_name', 'patch_size', 'shape'])\n",
      "0677\n",
      "Starting Training\n",
      "epoch: 00, loss: -0.41277\n",
      "epoch: 01, loss: -0.76931\n",
      "epoch: 02, loss: -0.77674\n",
      "epoch: 03, loss: -0.75250\n",
      "epoch: 04, loss: -0.76895\n",
      "epoch: 05, loss: -0.75328\n",
      "epoch: 06, loss: -0.74361\n",
      "epoch: 07, loss: -0.77662\n",
      "epoch: 08, loss: -0.79745\n",
      "epoch: 09, loss: -0.83778\n"
     ]
    },
    {
     "name": "stderr",
     "output_type": "stream",
     "text": [
      " 68%|██████▊   | 677/1000 [4:13:13<2:50:23, 31.65s/it]"
     ]
    },
    {
     "name": "stdout",
     "output_type": "stream",
     "text": [
      "eigenvalues shape torch.Size([5]) eigenvectors shape torch.Size([5, 425])\n",
      "677 /home/phdcs2/Hard_Disk/Datasets/Deep-Spectral-Segmentation/data/object-segmentation/ECSSD/features/dino_vits16/0678.pth\n",
      "dict_keys(['k', 'indices', 'file', 'id', 'model_name', 'patch_size', 'shape'])\n",
      "0678\n",
      "Starting Training\n",
      "epoch: 00, loss: -0.33190\n",
      "epoch: 01, loss: -0.77898\n",
      "epoch: 02, loss: -0.82007\n",
      "epoch: 03, loss: -0.84868\n",
      "epoch: 04, loss: -0.89049\n",
      "epoch: 05, loss: -0.88729\n",
      "epoch: 06, loss: -0.68120\n",
      "epoch: 07, loss: -0.76331\n",
      "epoch: 08, loss: -0.78974\n",
      "epoch: 09, loss: -0.75543\n"
     ]
    },
    {
     "name": "stderr",
     "output_type": "stream",
     "text": [
      " 68%|██████▊   | 678/1000 [4:13:50<2:59:33, 33.46s/it]"
     ]
    },
    {
     "name": "stdout",
     "output_type": "stream",
     "text": [
      "eigenvalues shape torch.Size([5]) eigenvectors shape torch.Size([5, 400])\n",
      "678 /home/phdcs2/Hard_Disk/Datasets/Deep-Spectral-Segmentation/data/object-segmentation/ECSSD/features/dino_vits16/0679.pth\n",
      "dict_keys(['k', 'indices', 'file', 'id', 'model_name', 'patch_size', 'shape'])\n",
      "0679\n",
      "Starting Training\n",
      "epoch: 00, loss: -0.47749\n",
      "epoch: 01, loss: -0.75716\n",
      "epoch: 02, loss: -0.77781\n",
      "epoch: 03, loss: -0.76200\n",
      "epoch: 04, loss: -0.78985\n",
      "epoch: 05, loss: -0.79981\n",
      "epoch: 06, loss: -0.80786\n",
      "epoch: 07, loss: -0.78030\n",
      "epoch: 08, loss: -0.82486\n",
      "epoch: 09, loss: -0.79816\n"
     ]
    },
    {
     "name": "stderr",
     "output_type": "stream",
     "text": [
      " 68%|██████▊   | 679/1000 [4:14:20<2:52:36, 32.26s/it]"
     ]
    },
    {
     "name": "stdout",
     "output_type": "stream",
     "text": [
      "eigenvalues shape torch.Size([5]) eigenvectors shape torch.Size([5, 400])\n",
      "679 /home/phdcs2/Hard_Disk/Datasets/Deep-Spectral-Segmentation/data/object-segmentation/ECSSD/features/dino_vits16/0680.pth\n",
      "dict_keys(['k', 'indices', 'file', 'id', 'model_name', 'patch_size', 'shape'])\n",
      "0680\n",
      "Starting Training\n",
      "epoch: 00, loss: -0.45289\n",
      "epoch: 01, loss: -0.74386\n",
      "epoch: 02, loss: -0.74854\n",
      "epoch: 03, loss: -0.64732\n",
      "epoch: 04, loss: -0.64326\n",
      "epoch: 05, loss: -0.70003\n",
      "epoch: 06, loss: -0.74476\n",
      "epoch: 07, loss: -0.75717\n",
      "epoch: 08, loss: -0.77927\n",
      "epoch: 09, loss: -0.76534\n"
     ]
    },
    {
     "name": "stderr",
     "output_type": "stream",
     "text": [
      " 68%|██████▊   | 680/1000 [4:14:53<2:53:52, 32.60s/it]"
     ]
    },
    {
     "name": "stdout",
     "output_type": "stream",
     "text": [
      "eigenvalues shape torch.Size([5]) eigenvectors shape torch.Size([5, 400])\n",
      "680 /home/phdcs2/Hard_Disk/Datasets/Deep-Spectral-Segmentation/data/object-segmentation/ECSSD/features/dino_vits16/0681.pth\n",
      "dict_keys(['k', 'indices', 'file', 'id', 'model_name', 'patch_size', 'shape'])\n",
      "0681\n",
      "Starting Training\n",
      "epoch: 00, loss: -0.39449\n",
      "epoch: 01, loss: -0.67095\n",
      "epoch: 02, loss: -0.77218\n",
      "epoch: 03, loss: -0.79918\n",
      "epoch: 04, loss: -0.79834\n",
      "epoch: 05, loss: -0.80055\n",
      "epoch: 06, loss: -0.79578\n",
      "epoch: 07, loss: -0.79259\n",
      "epoch: 08, loss: -0.78395\n",
      "epoch: 09, loss: -0.79614\n"
     ]
    },
    {
     "name": "stderr",
     "output_type": "stream",
     "text": [
      " 68%|██████▊   | 681/1000 [4:15:21<2:45:21, 31.10s/it]"
     ]
    },
    {
     "name": "stdout",
     "output_type": "stream",
     "text": [
      "eigenvalues shape torch.Size([5]) eigenvectors shape torch.Size([5, 475])\n",
      "681 /home/phdcs2/Hard_Disk/Datasets/Deep-Spectral-Segmentation/data/object-segmentation/ECSSD/features/dino_vits16/0682.pth\n",
      "dict_keys(['k', 'indices', 'file', 'id', 'model_name', 'patch_size', 'shape'])\n",
      "0682\n",
      "Starting Training\n",
      "epoch: 00, loss: -0.39532\n",
      "epoch: 01, loss: -0.72877\n",
      "epoch: 02, loss: -0.72232\n",
      "epoch: 03, loss: -0.78179\n",
      "epoch: 04, loss: -0.77084\n",
      "epoch: 05, loss: -0.80033\n",
      "epoch: 06, loss: -0.79504\n",
      "epoch: 07, loss: -0.79021\n",
      "epoch: 08, loss: -0.82317\n",
      "epoch: 09, loss: -0.83117\n"
     ]
    },
    {
     "name": "stderr",
     "output_type": "stream",
     "text": [
      " 68%|██████▊   | 682/1000 [4:15:41<2:27:55, 27.91s/it]"
     ]
    },
    {
     "name": "stdout",
     "output_type": "stream",
     "text": [
      "eigenvalues shape torch.Size([5]) eigenvectors shape torch.Size([5, 400])\n",
      "682 /home/phdcs2/Hard_Disk/Datasets/Deep-Spectral-Segmentation/data/object-segmentation/ECSSD/features/dino_vits16/0683.pth\n",
      "dict_keys(['k', 'indices', 'file', 'id', 'model_name', 'patch_size', 'shape'])\n",
      "0683\n",
      "Starting Training\n",
      "epoch: 00, loss: -0.41568\n",
      "epoch: 01, loss: -0.74044\n",
      "epoch: 02, loss: -0.79038\n",
      "epoch: 03, loss: -0.82106\n",
      "epoch: 04, loss: -0.80438\n",
      "epoch: 05, loss: -0.81880\n",
      "epoch: 06, loss: -0.83363\n",
      "epoch: 07, loss: -0.83446\n",
      "epoch: 08, loss: -0.85171\n",
      "epoch: 09, loss: -0.85112\n"
     ]
    },
    {
     "name": "stderr",
     "output_type": "stream",
     "text": [
      " 68%|██████▊   | 683/1000 [4:16:05<2:21:21, 26.75s/it]"
     ]
    },
    {
     "name": "stdout",
     "output_type": "stream",
     "text": [
      "eigenvalues shape torch.Size([5]) eigenvectors shape torch.Size([5, 450])\n",
      "683 /home/phdcs2/Hard_Disk/Datasets/Deep-Spectral-Segmentation/data/object-segmentation/ECSSD/features/dino_vits16/0684.pth\n",
      "dict_keys(['k', 'indices', 'file', 'id', 'model_name', 'patch_size', 'shape'])\n",
      "0684\n",
      "Starting Training\n",
      "epoch: 00, loss: -0.20017\n",
      "epoch: 01, loss: -0.68450\n",
      "epoch: 02, loss: -0.80786\n",
      "epoch: 03, loss: -0.85912\n",
      "epoch: 04, loss: -0.85592\n",
      "epoch: 05, loss: -0.87182\n",
      "epoch: 06, loss: -0.87389\n",
      "epoch: 07, loss: -0.88203\n",
      "epoch: 08, loss: -0.87451\n",
      "epoch: 09, loss: -0.88096\n"
     ]
    },
    {
     "name": "stderr",
     "output_type": "stream",
     "text": [
      " 68%|██████▊   | 684/1000 [4:16:27<2:12:36, 25.18s/it]"
     ]
    },
    {
     "name": "stdout",
     "output_type": "stream",
     "text": [
      "eigenvalues shape torch.Size([5]) eigenvectors shape torch.Size([5, 400])\n",
      "684 /home/phdcs2/Hard_Disk/Datasets/Deep-Spectral-Segmentation/data/object-segmentation/ECSSD/features/dino_vits16/0685.pth\n",
      "dict_keys(['k', 'indices', 'file', 'id', 'model_name', 'patch_size', 'shape'])\n",
      "0685\n",
      "Starting Training\n",
      "epoch: 00, loss: -0.48550\n",
      "epoch: 01, loss: -0.77599\n",
      "epoch: 02, loss: -0.80023\n",
      "epoch: 03, loss: -0.82001\n",
      "epoch: 04, loss: -0.82371\n",
      "epoch: 05, loss: -0.83760\n",
      "epoch: 06, loss: -0.85325\n",
      "epoch: 07, loss: -0.87265\n",
      "epoch: 08, loss: -0.88215\n",
      "epoch: 09, loss: -0.87262\n"
     ]
    },
    {
     "name": "stderr",
     "output_type": "stream",
     "text": [
      " 68%|██████▊   | 685/1000 [4:16:50<2:09:37, 24.69s/it]"
     ]
    },
    {
     "name": "stdout",
     "output_type": "stream",
     "text": [
      "eigenvalues shape torch.Size([5]) eigenvectors shape torch.Size([5, 400])\n",
      "685 /home/phdcs2/Hard_Disk/Datasets/Deep-Spectral-Segmentation/data/object-segmentation/ECSSD/features/dino_vits16/0686.pth\n",
      "dict_keys(['k', 'indices', 'file', 'id', 'model_name', 'patch_size', 'shape'])\n",
      "0686\n",
      "Starting Training\n",
      "epoch: 00, loss: -0.44890\n",
      "epoch: 01, loss: -0.63606\n",
      "epoch: 02, loss: -0.63113\n",
      "epoch: 03, loss: -0.70674\n",
      "epoch: 04, loss: -0.78383\n",
      "epoch: 05, loss: -0.78861\n",
      "epoch: 06, loss: -0.79537\n",
      "epoch: 07, loss: -0.81184\n",
      "epoch: 08, loss: -0.82326\n",
      "epoch: 09, loss: -0.80459\n"
     ]
    },
    {
     "name": "stderr",
     "output_type": "stream",
     "text": [
      " 69%|██████▊   | 686/1000 [4:17:09<1:59:54, 22.91s/it]"
     ]
    },
    {
     "name": "stdout",
     "output_type": "stream",
     "text": [
      "eigenvalues shape torch.Size([5]) eigenvectors shape torch.Size([5, 400])\n",
      "686 /home/phdcs2/Hard_Disk/Datasets/Deep-Spectral-Segmentation/data/object-segmentation/ECSSD/features/dino_vits16/0687.pth\n",
      "dict_keys(['k', 'indices', 'file', 'id', 'model_name', 'patch_size', 'shape'])\n",
      "0687\n",
      "Starting Training\n",
      "epoch: 00, loss: -0.33758\n",
      "epoch: 01, loss: -0.68623\n",
      "epoch: 02, loss: -0.75234\n",
      "epoch: 03, loss: -0.81170\n",
      "epoch: 04, loss: -0.81379\n",
      "epoch: 05, loss: -0.83790\n",
      "epoch: 06, loss: -0.84020\n",
      "epoch: 07, loss: -0.84253\n",
      "epoch: 08, loss: -0.85131\n",
      "epoch: 09, loss: -0.85868\n"
     ]
    },
    {
     "name": "stderr",
     "output_type": "stream",
     "text": [
      " 69%|██████▊   | 687/1000 [4:17:30<1:56:47, 22.39s/it]"
     ]
    },
    {
     "name": "stdout",
     "output_type": "stream",
     "text": [
      "eigenvalues shape torch.Size([5]) eigenvectors shape torch.Size([5, 400])\n",
      "687 /home/phdcs2/Hard_Disk/Datasets/Deep-Spectral-Segmentation/data/object-segmentation/ECSSD/features/dino_vits16/0688.pth\n",
      "dict_keys(['k', 'indices', 'file', 'id', 'model_name', 'patch_size', 'shape'])\n",
      "0688\n",
      "Starting Training\n",
      "epoch: 00, loss: -0.43634\n",
      "epoch: 01, loss: -0.71766\n",
      "epoch: 02, loss: -0.74223\n",
      "epoch: 03, loss: -0.76918\n",
      "epoch: 04, loss: -0.73382\n",
      "epoch: 05, loss: -0.78681\n",
      "epoch: 06, loss: -0.80034\n",
      "epoch: 07, loss: -0.81134\n",
      "epoch: 08, loss: -0.83009\n",
      "epoch: 09, loss: -0.83886\n"
     ]
    },
    {
     "name": "stderr",
     "output_type": "stream",
     "text": [
      " 69%|██████▉   | 688/1000 [4:17:53<1:56:50, 22.47s/it]"
     ]
    },
    {
     "name": "stdout",
     "output_type": "stream",
     "text": [
      "eigenvalues shape torch.Size([5]) eigenvectors shape torch.Size([5, 425])\n",
      "688 /home/phdcs2/Hard_Disk/Datasets/Deep-Spectral-Segmentation/data/object-segmentation/ECSSD/features/dino_vits16/0689.pth\n",
      "dict_keys(['k', 'indices', 'file', 'id', 'model_name', 'patch_size', 'shape'])\n",
      "0689\n",
      "Starting Training\n",
      "epoch: 00, loss: -0.34496\n",
      "epoch: 01, loss: -0.72218\n",
      "epoch: 02, loss: -0.81089\n",
      "epoch: 03, loss: -0.80385\n",
      "epoch: 04, loss: -0.80582\n",
      "epoch: 05, loss: -0.79917\n",
      "epoch: 06, loss: -0.83998\n",
      "epoch: 07, loss: -0.85259\n",
      "epoch: 08, loss: -0.85168\n",
      "epoch: 09, loss: -0.85016\n"
     ]
    },
    {
     "name": "stderr",
     "output_type": "stream",
     "text": [
      " 69%|██████▉   | 689/1000 [4:18:16<1:57:14, 22.62s/it]"
     ]
    },
    {
     "name": "stdout",
     "output_type": "stream",
     "text": [
      "eigenvalues shape torch.Size([5]) eigenvectors shape torch.Size([5, 425])\n",
      "689 /home/phdcs2/Hard_Disk/Datasets/Deep-Spectral-Segmentation/data/object-segmentation/ECSSD/features/dino_vits16/0690.pth\n",
      "dict_keys(['k', 'indices', 'file', 'id', 'model_name', 'patch_size', 'shape'])\n",
      "0690\n",
      "Starting Training\n",
      "epoch: 00, loss: -0.35811\n",
      "epoch: 01, loss: -0.70283\n",
      "epoch: 02, loss: -0.72243\n",
      "epoch: 03, loss: -0.78625\n",
      "epoch: 04, loss: -0.84164\n",
      "epoch: 05, loss: -0.83267\n",
      "epoch: 06, loss: -0.83250\n",
      "epoch: 07, loss: -0.84286\n",
      "epoch: 08, loss: -0.82175\n",
      "epoch: 09, loss: -0.83317\n"
     ]
    },
    {
     "name": "stderr",
     "output_type": "stream",
     "text": [
      " 69%|██████▉   | 690/1000 [4:18:41<2:00:04, 23.24s/it]"
     ]
    },
    {
     "name": "stdout",
     "output_type": "stream",
     "text": [
      "eigenvalues shape torch.Size([5]) eigenvectors shape torch.Size([5, 450])\n",
      "690 /home/phdcs2/Hard_Disk/Datasets/Deep-Spectral-Segmentation/data/object-segmentation/ECSSD/features/dino_vits16/0691.pth\n",
      "dict_keys(['k', 'indices', 'file', 'id', 'model_name', 'patch_size', 'shape'])\n",
      "0691\n",
      "Starting Training\n",
      "epoch: 00, loss: -0.50684\n",
      "epoch: 01, loss: -0.63145\n",
      "epoch: 02, loss: -0.78121\n",
      "epoch: 03, loss: -0.80447\n",
      "epoch: 04, loss: -0.80481\n",
      "epoch: 05, loss: -0.81659\n",
      "epoch: 06, loss: -0.80072\n",
      "epoch: 07, loss: -0.79916\n",
      "epoch: 08, loss: -0.79223\n",
      "epoch: 09, loss: -0.80348\n"
     ]
    },
    {
     "name": "stderr",
     "output_type": "stream",
     "text": [
      " 69%|██████▉   | 691/1000 [4:19:03<1:58:42, 23.05s/it]"
     ]
    },
    {
     "name": "stdout",
     "output_type": "stream",
     "text": [
      "eigenvalues shape torch.Size([5]) eigenvectors shape torch.Size([5, 450])\n",
      "691 /home/phdcs2/Hard_Disk/Datasets/Deep-Spectral-Segmentation/data/object-segmentation/ECSSD/features/dino_vits16/0692.pth\n",
      "dict_keys(['k', 'indices', 'file', 'id', 'model_name', 'patch_size', 'shape'])\n",
      "0692\n",
      "Starting Training\n",
      "epoch: 00, loss: -0.39060\n",
      "epoch: 01, loss: -0.65702\n",
      "epoch: 02, loss: -0.67641\n",
      "epoch: 03, loss: -0.74390\n",
      "epoch: 04, loss: -0.75917\n",
      "epoch: 05, loss: -0.77777\n",
      "epoch: 06, loss: -0.74595\n",
      "epoch: 07, loss: -0.75184\n",
      "epoch: 08, loss: -0.77400\n",
      "epoch: 09, loss: -0.75536\n"
     ]
    },
    {
     "name": "stderr",
     "output_type": "stream",
     "text": [
      " 69%|██████▉   | 692/1000 [4:19:24<1:54:54, 22.39s/it]"
     ]
    },
    {
     "name": "stdout",
     "output_type": "stream",
     "text": [
      "eigenvalues shape torch.Size([5]) eigenvectors shape torch.Size([5, 400])\n",
      "692 /home/phdcs2/Hard_Disk/Datasets/Deep-Spectral-Segmentation/data/object-segmentation/ECSSD/features/dino_vits16/0693.pth\n",
      "dict_keys(['k', 'indices', 'file', 'id', 'model_name', 'patch_size', 'shape'])\n",
      "0693\n",
      "Starting Training\n",
      "epoch: 00, loss: -0.35494\n",
      "epoch: 01, loss: -0.63707\n",
      "epoch: 02, loss: -0.72564\n",
      "epoch: 03, loss: -0.74519\n",
      "epoch: 04, loss: -0.74811\n",
      "epoch: 05, loss: -0.73923\n",
      "epoch: 06, loss: -0.76294\n",
      "epoch: 07, loss: -0.78553\n",
      "epoch: 08, loss: -0.78037\n",
      "epoch: 09, loss: -0.79687\n"
     ]
    },
    {
     "name": "stderr",
     "output_type": "stream",
     "text": [
      " 69%|██████▉   | 693/1000 [4:19:44<1:51:10, 21.73s/it]"
     ]
    },
    {
     "name": "stdout",
     "output_type": "stream",
     "text": [
      "eigenvalues shape torch.Size([5]) eigenvectors shape torch.Size([5, 400])\n",
      "693 /home/phdcs2/Hard_Disk/Datasets/Deep-Spectral-Segmentation/data/object-segmentation/ECSSD/features/dino_vits16/0694.pth\n",
      "dict_keys(['k', 'indices', 'file', 'id', 'model_name', 'patch_size', 'shape'])\n",
      "0694\n",
      "Starting Training\n",
      "epoch: 00, loss: -0.34369\n",
      "epoch: 01, loss: -0.64271\n",
      "epoch: 02, loss: -0.68004\n",
      "epoch: 03, loss: -0.73208\n",
      "epoch: 04, loss: -0.75152\n",
      "epoch: 05, loss: -0.75747\n",
      "epoch: 06, loss: -0.75581\n",
      "epoch: 07, loss: -0.74653\n",
      "epoch: 08, loss: -0.76900\n",
      "epoch: 09, loss: -0.76190\n"
     ]
    },
    {
     "name": "stderr",
     "output_type": "stream",
     "text": [
      " 69%|██████▉   | 694/1000 [4:20:13<2:01:30, 23.82s/it]"
     ]
    },
    {
     "name": "stdout",
     "output_type": "stream",
     "text": [
      "eigenvalues shape torch.Size([5]) eigenvectors shape torch.Size([5, 500])\n",
      "694 /home/phdcs2/Hard_Disk/Datasets/Deep-Spectral-Segmentation/data/object-segmentation/ECSSD/features/dino_vits16/0695.pth\n",
      "dict_keys(['k', 'indices', 'file', 'id', 'model_name', 'patch_size', 'shape'])\n",
      "0695\n",
      "Starting Training\n",
      "epoch: 00, loss: -0.46888\n",
      "epoch: 01, loss: -0.85372\n",
      "epoch: 02, loss: -0.70043\n",
      "epoch: 03, loss: -0.65654\n",
      "epoch: 04, loss: -0.68150\n",
      "epoch: 05, loss: -0.73862\n",
      "epoch: 06, loss: -0.78458\n",
      "epoch: 07, loss: -0.78907\n",
      "epoch: 08, loss: -0.79077\n",
      "epoch: 09, loss: -0.78594\n"
     ]
    },
    {
     "name": "stderr",
     "output_type": "stream",
     "text": [
      " 70%|██████▉   | 695/1000 [4:20:34<1:56:41, 22.95s/it]"
     ]
    },
    {
     "name": "stdout",
     "output_type": "stream",
     "text": [
      "eigenvalues shape torch.Size([5]) eigenvectors shape torch.Size([5, 400])\n",
      "695 /home/phdcs2/Hard_Disk/Datasets/Deep-Spectral-Segmentation/data/object-segmentation/ECSSD/features/dino_vits16/0696.pth\n",
      "dict_keys(['k', 'indices', 'file', 'id', 'model_name', 'patch_size', 'shape'])\n",
      "0696\n",
      "Starting Training\n",
      "epoch: 00, loss: -0.62773\n",
      "epoch: 01, loss: -0.86658\n",
      "epoch: 02, loss: -0.81546\n",
      "epoch: 03, loss: -0.74251\n",
      "epoch: 04, loss: -0.71561\n",
      "epoch: 05, loss: -0.78494\n",
      "epoch: 06, loss: -0.77503\n",
      "epoch: 07, loss: -0.77301\n",
      "epoch: 08, loss: -0.77084\n",
      "epoch: 09, loss: -0.78606\n"
     ]
    },
    {
     "name": "stderr",
     "output_type": "stream",
     "text": [
      " 70%|██████▉   | 696/1000 [4:21:06<2:10:55, 25.84s/it]"
     ]
    },
    {
     "name": "stdout",
     "output_type": "stream",
     "text": [
      "eigenvalues shape torch.Size([5]) eigenvectors shape torch.Size([5, 575])\n",
      "696 /home/phdcs2/Hard_Disk/Datasets/Deep-Spectral-Segmentation/data/object-segmentation/ECSSD/features/dino_vits16/0697.pth\n",
      "dict_keys(['k', 'indices', 'file', 'id', 'model_name', 'patch_size', 'shape'])\n",
      "0697\n",
      "Starting Training\n",
      "epoch: 00, loss: -0.45505\n",
      "epoch: 01, loss: -0.69275\n",
      "epoch: 02, loss: -0.70639\n",
      "epoch: 03, loss: -0.68766\n",
      "epoch: 04, loss: -0.67730\n",
      "epoch: 05, loss: -0.68740\n",
      "epoch: 06, loss: -0.72954\n",
      "epoch: 07, loss: -0.72809\n",
      "epoch: 08, loss: -0.75917\n",
      "epoch: 09, loss: -0.78112\n"
     ]
    },
    {
     "name": "stderr",
     "output_type": "stream",
     "text": [
      " 70%|██████▉   | 697/1000 [4:21:30<2:06:30, 25.05s/it]"
     ]
    },
    {
     "name": "stdout",
     "output_type": "stream",
     "text": [
      "eigenvalues shape torch.Size([5]) eigenvectors shape torch.Size([5, 450])\n",
      "697 /home/phdcs2/Hard_Disk/Datasets/Deep-Spectral-Segmentation/data/object-segmentation/ECSSD/features/dino_vits16/0698.pth\n",
      "dict_keys(['k', 'indices', 'file', 'id', 'model_name', 'patch_size', 'shape'])\n",
      "0698\n",
      "Starting Training\n",
      "epoch: 00, loss: -0.63782\n",
      "epoch: 01, loss: -0.89645\n",
      "epoch: 02, loss: -0.92810\n",
      "epoch: 03, loss: -0.93372\n",
      "epoch: 04, loss: -0.93211\n",
      "epoch: 05, loss: -0.93816\n",
      "epoch: 06, loss: -0.93480\n",
      "epoch: 07, loss: -0.92365\n",
      "epoch: 08, loss: -0.90682\n",
      "epoch: 09, loss: -0.91183\n"
     ]
    },
    {
     "name": "stderr",
     "output_type": "stream",
     "text": [
      " 70%|██████▉   | 698/1000 [4:21:55<2:05:48, 25.00s/it]"
     ]
    },
    {
     "name": "stdout",
     "output_type": "stream",
     "text": [
      "eigenvalues shape torch.Size([5]) eigenvectors shape torch.Size([5, 450])\n",
      "698 /home/phdcs2/Hard_Disk/Datasets/Deep-Spectral-Segmentation/data/object-segmentation/ECSSD/features/dino_vits16/0699.pth\n",
      "dict_keys(['k', 'indices', 'file', 'id', 'model_name', 'patch_size', 'shape'])\n",
      "0699\n",
      "Starting Training\n",
      "epoch: 00, loss: -0.43361\n",
      "epoch: 01, loss: -0.66873\n",
      "epoch: 02, loss: -0.77358\n",
      "epoch: 03, loss: -0.80754\n",
      "epoch: 04, loss: -0.79896\n",
      "epoch: 05, loss: -0.80962\n",
      "epoch: 06, loss: -0.83616\n",
      "epoch: 07, loss: -0.78637\n",
      "epoch: 08, loss: -0.77834\n",
      "epoch: 09, loss: -0.79895\n"
     ]
    },
    {
     "name": "stderr",
     "output_type": "stream",
     "text": [
      " 70%|██████▉   | 699/1000 [4:22:20<2:05:25, 25.00s/it]"
     ]
    },
    {
     "name": "stdout",
     "output_type": "stream",
     "text": [
      "eigenvalues shape torch.Size([5]) eigenvectors shape torch.Size([5, 450])\n",
      "699 /home/phdcs2/Hard_Disk/Datasets/Deep-Spectral-Segmentation/data/object-segmentation/ECSSD/features/dino_vits16/0700.pth\n",
      "dict_keys(['k', 'indices', 'file', 'id', 'model_name', 'patch_size', 'shape'])\n",
      "0700\n",
      "Starting Training\n",
      "epoch: 00, loss: -0.34994\n",
      "epoch: 01, loss: -0.74350\n",
      "epoch: 02, loss: -0.78622\n",
      "epoch: 03, loss: -0.82122\n",
      "epoch: 04, loss: -0.82953\n",
      "epoch: 05, loss: -0.83411\n",
      "epoch: 06, loss: -0.84368\n",
      "epoch: 07, loss: -0.78931\n",
      "epoch: 08, loss: -0.72964\n",
      "epoch: 09, loss: -0.70656\n"
     ]
    },
    {
     "name": "stderr",
     "output_type": "stream",
     "text": [
      " 70%|███████   | 700/1000 [4:22:45<2:05:10, 25.03s/it]"
     ]
    },
    {
     "name": "stdout",
     "output_type": "stream",
     "text": [
      "eigenvalues shape torch.Size([5]) eigenvectors shape torch.Size([5, 450])\n",
      "700 /home/phdcs2/Hard_Disk/Datasets/Deep-Spectral-Segmentation/data/object-segmentation/ECSSD/features/dino_vits16/0701.pth\n",
      "dict_keys(['k', 'indices', 'file', 'id', 'model_name', 'patch_size', 'shape'])\n",
      "0701\n",
      "Starting Training\n",
      "epoch: 00, loss: -0.31068\n",
      "epoch: 01, loss: -0.69914\n",
      "epoch: 02, loss: -0.74999\n",
      "epoch: 03, loss: -0.78422\n",
      "epoch: 04, loss: -0.80789\n",
      "epoch: 05, loss: -0.82316\n",
      "epoch: 06, loss: -0.84508\n",
      "epoch: 07, loss: -0.85033\n",
      "epoch: 08, loss: -0.82670\n",
      "epoch: 09, loss: -0.80255\n"
     ]
    },
    {
     "name": "stderr",
     "output_type": "stream",
     "text": [
      " 70%|███████   | 701/1000 [4:23:03<1:55:03, 23.09s/it]"
     ]
    },
    {
     "name": "stdout",
     "output_type": "stream",
     "text": [
      "eigenvalues shape torch.Size([5]) eigenvectors shape torch.Size([5, 450])\n",
      "701 /home/phdcs2/Hard_Disk/Datasets/Deep-Spectral-Segmentation/data/object-segmentation/ECSSD/features/dino_vits16/0702.pth\n",
      "dict_keys(['k', 'indices', 'file', 'id', 'model_name', 'patch_size', 'shape'])\n",
      "0702\n",
      "Starting Training\n",
      "epoch: 00, loss: -0.27331\n",
      "epoch: 01, loss: -0.62664\n",
      "epoch: 02, loss: -0.67009\n",
      "epoch: 03, loss: -0.68568\n",
      "epoch: 04, loss: -0.69047\n",
      "epoch: 05, loss: -0.66624\n",
      "epoch: 06, loss: -0.68351\n",
      "epoch: 07, loss: -0.69962\n",
      "epoch: 08, loss: -0.70007\n",
      "epoch: 09, loss: -0.70750\n"
     ]
    },
    {
     "name": "stderr",
     "output_type": "stream",
     "text": [
      " 70%|███████   | 702/1000 [4:23:23<1:50:13, 22.19s/it]"
     ]
    },
    {
     "name": "stdout",
     "output_type": "stream",
     "text": [
      "eigenvalues shape torch.Size([5]) eigenvectors shape torch.Size([5, 425])\n",
      "702 /home/phdcs2/Hard_Disk/Datasets/Deep-Spectral-Segmentation/data/object-segmentation/ECSSD/features/dino_vits16/0703.pth\n",
      "dict_keys(['k', 'indices', 'file', 'id', 'model_name', 'patch_size', 'shape'])\n",
      "0703\n",
      "Starting Training\n",
      "epoch: 00, loss: -0.50497\n",
      "epoch: 01, loss: -0.80722\n",
      "epoch: 02, loss: -0.78168\n",
      "epoch: 03, loss: -0.87685\n",
      "epoch: 04, loss: -0.88823\n",
      "epoch: 05, loss: -0.89779\n",
      "epoch: 06, loss: -0.87878\n",
      "epoch: 07, loss: -0.88636\n",
      "epoch: 08, loss: -0.87693\n",
      "epoch: 09, loss: -0.79026\n"
     ]
    },
    {
     "name": "stderr",
     "output_type": "stream",
     "text": [
      " 70%|███████   | 703/1000 [4:23:42<1:45:00, 21.21s/it]"
     ]
    },
    {
     "name": "stdout",
     "output_type": "stream",
     "text": [
      "eigenvalues shape torch.Size([5]) eigenvectors shape torch.Size([5, 400])\n",
      "703 /home/phdcs2/Hard_Disk/Datasets/Deep-Spectral-Segmentation/data/object-segmentation/ECSSD/features/dino_vits16/0704.pth\n",
      "dict_keys(['k', 'indices', 'file', 'id', 'model_name', 'patch_size', 'shape'])\n",
      "0704\n",
      "Starting Training\n",
      "epoch: 00, loss: -0.37094\n",
      "epoch: 01, loss: -0.74218\n",
      "epoch: 02, loss: -0.77585\n",
      "epoch: 03, loss: -0.74672\n",
      "epoch: 04, loss: -0.75460\n",
      "epoch: 05, loss: -0.76693\n",
      "epoch: 06, loss: -0.76968\n",
      "epoch: 07, loss: -0.75473\n",
      "epoch: 08, loss: -0.77252\n",
      "epoch: 09, loss: -0.77447\n"
     ]
    },
    {
     "name": "stderr",
     "output_type": "stream",
     "text": [
      " 70%|███████   | 704/1000 [4:24:07<1:49:23, 22.17s/it]"
     ]
    },
    {
     "name": "stdout",
     "output_type": "stream",
     "text": [
      "eigenvalues shape torch.Size([5]) eigenvectors shape torch.Size([5, 500])\n",
      "704 /home/phdcs2/Hard_Disk/Datasets/Deep-Spectral-Segmentation/data/object-segmentation/ECSSD/features/dino_vits16/0705.pth\n",
      "dict_keys(['k', 'indices', 'file', 'id', 'model_name', 'patch_size', 'shape'])\n",
      "0705\n",
      "Starting Training\n",
      "epoch: 00, loss: -0.23767\n",
      "epoch: 01, loss: -0.63205\n",
      "epoch: 02, loss: -0.77215\n",
      "epoch: 03, loss: -0.82897\n",
      "epoch: 04, loss: -0.81986\n",
      "epoch: 05, loss: -0.81291\n",
      "epoch: 06, loss: -0.82525\n",
      "epoch: 07, loss: -0.80527\n",
      "epoch: 08, loss: -0.83130\n",
      "epoch: 09, loss: -0.83576\n"
     ]
    },
    {
     "name": "stderr",
     "output_type": "stream",
     "text": [
      " 70%|███████   | 705/1000 [4:24:25<1:44:05, 21.17s/it]"
     ]
    },
    {
     "name": "stdout",
     "output_type": "stream",
     "text": [
      "eigenvalues shape torch.Size([5]) eigenvectors shape torch.Size([5, 400])\n",
      "705 /home/phdcs2/Hard_Disk/Datasets/Deep-Spectral-Segmentation/data/object-segmentation/ECSSD/features/dino_vits16/0706.pth\n",
      "dict_keys(['k', 'indices', 'file', 'id', 'model_name', 'patch_size', 'shape'])\n",
      "0706\n",
      "Starting Training\n",
      "epoch: 00, loss: -0.72787\n",
      "epoch: 01, loss: -0.86458\n",
      "epoch: 02, loss: -0.85674\n",
      "epoch: 03, loss: -0.85057\n",
      "epoch: 04, loss: -0.78971\n",
      "epoch: 05, loss: -0.82437\n",
      "epoch: 06, loss: -0.82724\n",
      "epoch: 07, loss: -0.87238\n",
      "epoch: 08, loss: -0.87517\n",
      "epoch: 09, loss: -0.88465\n"
     ]
    },
    {
     "name": "stderr",
     "output_type": "stream",
     "text": [
      " 71%|███████   | 706/1000 [4:24:50<1:48:12, 22.08s/it]"
     ]
    },
    {
     "name": "stdout",
     "output_type": "stream",
     "text": [
      "eigenvalues shape torch.Size([5]) eigenvectors shape torch.Size([5, 500])\n",
      "706 /home/phdcs2/Hard_Disk/Datasets/Deep-Spectral-Segmentation/data/object-segmentation/ECSSD/features/dino_vits16/0707.pth\n",
      "dict_keys(['k', 'indices', 'file', 'id', 'model_name', 'patch_size', 'shape'])\n",
      "0707\n",
      "Starting Training\n",
      "epoch: 00, loss: -0.23767\n",
      "epoch: 01, loss: -0.59685\n",
      "epoch: 02, loss: -0.74710\n",
      "epoch: 03, loss: -0.75612\n",
      "epoch: 04, loss: -0.76169\n",
      "epoch: 05, loss: -0.77504\n",
      "epoch: 06, loss: -0.76343\n",
      "epoch: 07, loss: -0.77056\n",
      "epoch: 08, loss: -0.77319\n",
      "epoch: 09, loss: -0.78671\n"
     ]
    },
    {
     "name": "stderr",
     "output_type": "stream",
     "text": [
      " 71%|███████   | 707/1000 [4:25:10<1:44:54, 21.48s/it]"
     ]
    },
    {
     "name": "stdout",
     "output_type": "stream",
     "text": [
      "eigenvalues shape torch.Size([5]) eigenvectors shape torch.Size([5, 400])\n",
      "707 /home/phdcs2/Hard_Disk/Datasets/Deep-Spectral-Segmentation/data/object-segmentation/ECSSD/features/dino_vits16/0708.pth\n",
      "dict_keys(['k', 'indices', 'file', 'id', 'model_name', 'patch_size', 'shape'])\n",
      "0708\n",
      "Starting Training\n",
      "epoch: 00, loss: -0.47068\n",
      "epoch: 01, loss: -0.73961\n",
      "epoch: 02, loss: -0.76110\n",
      "epoch: 03, loss: -0.78814\n",
      "epoch: 04, loss: -0.82771\n",
      "epoch: 05, loss: -0.83715\n",
      "epoch: 06, loss: -0.87086\n",
      "epoch: 07, loss: -0.87180\n",
      "epoch: 08, loss: -0.89370\n",
      "epoch: 09, loss: -0.90082\n"
     ]
    },
    {
     "name": "stderr",
     "output_type": "stream",
     "text": [
      " 71%|███████   | 708/1000 [4:25:27<1:38:48, 20.30s/it]"
     ]
    },
    {
     "name": "stdout",
     "output_type": "stream",
     "text": [
      "eigenvalues shape torch.Size([5]) eigenvectors shape torch.Size([5, 400])\n",
      "708 /home/phdcs2/Hard_Disk/Datasets/Deep-Spectral-Segmentation/data/object-segmentation/ECSSD/features/dino_vits16/0709.pth\n",
      "dict_keys(['k', 'indices', 'file', 'id', 'model_name', 'patch_size', 'shape'])\n",
      "0709\n",
      "Starting Training\n",
      "epoch: 00, loss: -0.34561\n",
      "epoch: 01, loss: -0.68667\n",
      "epoch: 02, loss: -0.73930\n",
      "epoch: 03, loss: -0.74295\n",
      "epoch: 04, loss: -0.74027\n",
      "epoch: 05, loss: -0.73244\n",
      "epoch: 06, loss: -0.74254\n",
      "epoch: 07, loss: -0.76310\n",
      "epoch: 08, loss: -0.76773\n",
      "epoch: 09, loss: -0.78435\n"
     ]
    },
    {
     "name": "stderr",
     "output_type": "stream",
     "text": [
      " 71%|███████   | 709/1000 [4:25:46<1:36:42, 19.94s/it]"
     ]
    },
    {
     "name": "stdout",
     "output_type": "stream",
     "text": [
      "eigenvalues shape torch.Size([5]) eigenvectors shape torch.Size([5, 400])\n",
      "709 /home/phdcs2/Hard_Disk/Datasets/Deep-Spectral-Segmentation/data/object-segmentation/ECSSD/features/dino_vits16/0710.pth\n",
      "dict_keys(['k', 'indices', 'file', 'id', 'model_name', 'patch_size', 'shape'])\n",
      "0710\n",
      "Starting Training\n",
      "epoch: 00, loss: -0.41846\n",
      "epoch: 01, loss: -0.74948\n",
      "epoch: 02, loss: -0.79018\n",
      "epoch: 03, loss: -0.80489\n",
      "epoch: 04, loss: -0.82016\n",
      "epoch: 05, loss: -0.79275\n",
      "epoch: 06, loss: -0.80482\n",
      "epoch: 07, loss: -0.80843\n",
      "epoch: 08, loss: -0.82936\n",
      "epoch: 09, loss: -0.81870\n"
     ]
    },
    {
     "name": "stderr",
     "output_type": "stream",
     "text": [
      " 71%|███████   | 710/1000 [4:26:05<1:34:49, 19.62s/it]"
     ]
    },
    {
     "name": "stdout",
     "output_type": "stream",
     "text": [
      "eigenvalues shape torch.Size([5]) eigenvectors shape torch.Size([5, 400])\n",
      "710 /home/phdcs2/Hard_Disk/Datasets/Deep-Spectral-Segmentation/data/object-segmentation/ECSSD/features/dino_vits16/0711.pth\n",
      "dict_keys(['k', 'indices', 'file', 'id', 'model_name', 'patch_size', 'shape'])\n",
      "0711\n",
      "Starting Training\n",
      "epoch: 00, loss: -0.63557\n",
      "epoch: 01, loss: -0.89902\n",
      "epoch: 02, loss: -0.92073\n",
      "epoch: 03, loss: -0.91054\n",
      "epoch: 04, loss: -0.90944\n",
      "epoch: 05, loss: -0.89499\n",
      "epoch: 06, loss: -0.87280\n",
      "epoch: 07, loss: -0.85919\n",
      "epoch: 08, loss: -0.83929\n",
      "epoch: 09, loss: -0.84812\n"
     ]
    },
    {
     "name": "stderr",
     "output_type": "stream",
     "text": [
      " 71%|███████   | 711/1000 [4:26:27<1:37:46, 20.30s/it]"
     ]
    },
    {
     "name": "stdout",
     "output_type": "stream",
     "text": [
      "eigenvalues shape torch.Size([5]) eigenvectors shape torch.Size([5, 400])\n",
      "711 /home/phdcs2/Hard_Disk/Datasets/Deep-Spectral-Segmentation/data/object-segmentation/ECSSD/features/dino_vits16/0712.pth\n",
      "dict_keys(['k', 'indices', 'file', 'id', 'model_name', 'patch_size', 'shape'])\n",
      "0712\n",
      "Starting Training\n",
      "epoch: 00, loss: -0.31744\n",
      "epoch: 01, loss: -0.72260\n",
      "epoch: 02, loss: -0.74909\n",
      "epoch: 03, loss: -0.77000\n",
      "epoch: 04, loss: -0.76286\n",
      "epoch: 05, loss: -0.76891\n",
      "epoch: 06, loss: -0.77903\n",
      "epoch: 07, loss: -0.79555\n",
      "epoch: 08, loss: -0.79382\n",
      "epoch: 09, loss: -0.80750\n"
     ]
    },
    {
     "name": "stderr",
     "output_type": "stream",
     "text": [
      " 71%|███████   | 712/1000 [4:26:52<1:44:22, 21.75s/it]"
     ]
    },
    {
     "name": "stdout",
     "output_type": "stream",
     "text": [
      "eigenvalues shape torch.Size([5]) eigenvectors shape torch.Size([5, 400])\n",
      "712 /home/phdcs2/Hard_Disk/Datasets/Deep-Spectral-Segmentation/data/object-segmentation/ECSSD/features/dino_vits16/0713.pth\n",
      "dict_keys(['k', 'indices', 'file', 'id', 'model_name', 'patch_size', 'shape'])\n",
      "0713\n",
      "Starting Training\n",
      "epoch: 00, loss: -0.53792\n",
      "epoch: 01, loss: -0.81044\n",
      "epoch: 02, loss: -0.54945\n",
      "epoch: 03, loss: -0.56139\n",
      "epoch: 04, loss: -0.75020\n",
      "epoch: 05, loss: -0.76162\n",
      "epoch: 06, loss: -0.75124\n",
      "epoch: 07, loss: -0.76895\n",
      "epoch: 08, loss: -0.80442\n",
      "epoch: 09, loss: -0.79906\n"
     ]
    },
    {
     "name": "stderr",
     "output_type": "stream",
     "text": [
      " 71%|███████▏  | 713/1000 [4:27:18<1:50:05, 23.02s/it]"
     ]
    },
    {
     "name": "stdout",
     "output_type": "stream",
     "text": [
      "eigenvalues shape torch.Size([5]) eigenvectors shape torch.Size([5, 400])\n",
      "713 /home/phdcs2/Hard_Disk/Datasets/Deep-Spectral-Segmentation/data/object-segmentation/ECSSD/features/dino_vits16/0714.pth\n",
      "dict_keys(['k', 'indices', 'file', 'id', 'model_name', 'patch_size', 'shape'])\n",
      "0714\n",
      "Starting Training\n",
      "epoch: 00, loss: -0.43301\n",
      "epoch: 01, loss: -0.76263\n",
      "epoch: 02, loss: -0.77229\n",
      "epoch: 03, loss: -0.76902\n",
      "epoch: 04, loss: -0.77539\n",
      "epoch: 05, loss: -0.80727\n",
      "epoch: 06, loss: -0.80567\n",
      "epoch: 07, loss: -0.81613\n",
      "epoch: 08, loss: -0.78821\n",
      "epoch: 09, loss: -0.79817\n"
     ]
    },
    {
     "name": "stderr",
     "output_type": "stream",
     "text": [
      " 71%|███████▏  | 714/1000 [4:27:43<1:51:28, 23.39s/it]"
     ]
    },
    {
     "name": "stdout",
     "output_type": "stream",
     "text": [
      "eigenvalues shape torch.Size([5]) eigenvectors shape torch.Size([5, 400])\n",
      "714 /home/phdcs2/Hard_Disk/Datasets/Deep-Spectral-Segmentation/data/object-segmentation/ECSSD/features/dino_vits16/0715.pth\n",
      "dict_keys(['k', 'indices', 'file', 'id', 'model_name', 'patch_size', 'shape'])\n",
      "0715\n",
      "Starting Training\n",
      "epoch: 00, loss: -0.58305\n",
      "epoch: 01, loss: -0.89776\n",
      "epoch: 02, loss: -0.91867\n",
      "epoch: 03, loss: -0.92117\n",
      "epoch: 04, loss: -0.90614\n",
      "epoch: 05, loss: -0.88335\n",
      "epoch: 06, loss: -0.87628\n",
      "epoch: 07, loss: -0.85012\n",
      "epoch: 08, loss: -0.82365\n",
      "epoch: 09, loss: -0.86079\n"
     ]
    },
    {
     "name": "stderr",
     "output_type": "stream",
     "text": [
      " 72%|███████▏  | 715/1000 [4:28:04<1:48:40, 22.88s/it]"
     ]
    },
    {
     "name": "stdout",
     "output_type": "stream",
     "text": [
      "eigenvalues shape torch.Size([5]) eigenvectors shape torch.Size([5, 400])\n",
      "715 /home/phdcs2/Hard_Disk/Datasets/Deep-Spectral-Segmentation/data/object-segmentation/ECSSD/features/dino_vits16/0716.pth\n",
      "dict_keys(['k', 'indices', 'file', 'id', 'model_name', 'patch_size', 'shape'])\n",
      "0716\n",
      "Starting Training\n",
      "epoch: 00, loss: -0.42780\n",
      "epoch: 01, loss: -0.74773\n",
      "epoch: 02, loss: -0.78613\n",
      "epoch: 03, loss: -0.81826\n",
      "epoch: 04, loss: -0.86064\n",
      "epoch: 05, loss: -0.86042\n",
      "epoch: 06, loss: -0.87308\n",
      "epoch: 07, loss: -0.88443\n",
      "epoch: 08, loss: -0.87849\n",
      "epoch: 09, loss: -0.89189\n"
     ]
    },
    {
     "name": "stderr",
     "output_type": "stream",
     "text": [
      " 72%|███████▏  | 716/1000 [4:28:29<1:50:32, 23.35s/it]"
     ]
    },
    {
     "name": "stdout",
     "output_type": "stream",
     "text": [
      "eigenvalues shape torch.Size([5]) eigenvectors shape torch.Size([5, 450])\n",
      "716 /home/phdcs2/Hard_Disk/Datasets/Deep-Spectral-Segmentation/data/object-segmentation/ECSSD/features/dino_vits16/0717.pth\n",
      "dict_keys(['k', 'indices', 'file', 'id', 'model_name', 'patch_size', 'shape'])\n",
      "0717\n",
      "Starting Training\n",
      "epoch: 00, loss: -0.42711\n",
      "epoch: 01, loss: -0.81354\n",
      "epoch: 02, loss: -0.85702\n",
      "epoch: 03, loss: -0.85789\n",
      "epoch: 04, loss: -0.82640\n",
      "epoch: 05, loss: -0.84725\n",
      "epoch: 06, loss: -0.81383\n",
      "epoch: 07, loss: -0.83454\n",
      "epoch: 08, loss: -0.80848\n",
      "epoch: 09, loss: -0.84369\n"
     ]
    },
    {
     "name": "stderr",
     "output_type": "stream",
     "text": [
      " 72%|███████▏  | 717/1000 [4:28:49<1:45:41, 22.41s/it]"
     ]
    },
    {
     "name": "stdout",
     "output_type": "stream",
     "text": [
      "eigenvalues shape torch.Size([5]) eigenvectors shape torch.Size([5, 350])\n",
      "717 /home/phdcs2/Hard_Disk/Datasets/Deep-Spectral-Segmentation/data/object-segmentation/ECSSD/features/dino_vits16/0718.pth\n",
      "dict_keys(['k', 'indices', 'file', 'id', 'model_name', 'patch_size', 'shape'])\n",
      "0718\n",
      "Starting Training\n",
      "epoch: 00, loss: -0.64545\n",
      "epoch: 01, loss: -0.91422\n",
      "epoch: 02, loss: -0.93257\n",
      "epoch: 03, loss: -0.93773\n",
      "epoch: 04, loss: -0.93794\n",
      "epoch: 05, loss: -0.93596\n",
      "epoch: 06, loss: -0.94000\n",
      "epoch: 07, loss: -0.93571\n",
      "epoch: 08, loss: -0.94031\n",
      "epoch: 09, loss: -0.93371\n"
     ]
    },
    {
     "name": "stderr",
     "output_type": "stream",
     "text": [
      " 72%|███████▏  | 718/1000 [4:29:15<1:50:15, 23.46s/it]"
     ]
    },
    {
     "name": "stdout",
     "output_type": "stream",
     "text": [
      "eigenvalues shape torch.Size([5]) eigenvectors shape torch.Size([5, 450])\n",
      "718 /home/phdcs2/Hard_Disk/Datasets/Deep-Spectral-Segmentation/data/object-segmentation/ECSSD/features/dino_vits16/0719.pth\n",
      "dict_keys(['k', 'indices', 'file', 'id', 'model_name', 'patch_size', 'shape'])\n",
      "0719\n",
      "Starting Training\n",
      "epoch: 00, loss: -0.29173\n",
      "epoch: 01, loss: -0.81860\n",
      "epoch: 02, loss: -0.83895\n",
      "epoch: 03, loss: -0.87613\n",
      "epoch: 04, loss: -0.86669\n",
      "epoch: 05, loss: -0.82280\n",
      "epoch: 06, loss: -0.80028\n",
      "epoch: 07, loss: -0.80485\n",
      "epoch: 08, loss: -0.81390\n",
      "epoch: 09, loss: -0.83654\n"
     ]
    },
    {
     "name": "stderr",
     "output_type": "stream",
     "text": [
      " 72%|███████▏  | 719/1000 [4:29:30<1:37:47, 20.88s/it]"
     ]
    },
    {
     "name": "stdout",
     "output_type": "stream",
     "text": [
      "eigenvalues shape torch.Size([5]) eigenvectors shape torch.Size([5, 275])\n",
      "719 /home/phdcs2/Hard_Disk/Datasets/Deep-Spectral-Segmentation/data/object-segmentation/ECSSD/features/dino_vits16/0720.pth\n",
      "dict_keys(['k', 'indices', 'file', 'id', 'model_name', 'patch_size', 'shape'])\n",
      "0720\n",
      "Starting Training\n",
      "epoch: 00, loss: -0.39269\n",
      "epoch: 01, loss: -0.73080\n",
      "epoch: 02, loss: -0.76587\n",
      "epoch: 03, loss: -0.78195\n",
      "epoch: 04, loss: -0.77272\n",
      "epoch: 05, loss: -0.76282\n",
      "epoch: 06, loss: -0.78277\n",
      "epoch: 07, loss: -0.77624\n",
      "epoch: 08, loss: -0.78357\n",
      "epoch: 09, loss: -0.78151\n"
     ]
    },
    {
     "name": "stderr",
     "output_type": "stream",
     "text": [
      " 72%|███████▏  | 720/1000 [4:29:52<1:39:39, 21.35s/it]"
     ]
    },
    {
     "name": "stdout",
     "output_type": "stream",
     "text": [
      "eigenvalues shape torch.Size([5]) eigenvectors shape torch.Size([5, 400])\n",
      "720 /home/phdcs2/Hard_Disk/Datasets/Deep-Spectral-Segmentation/data/object-segmentation/ECSSD/features/dino_vits16/0721.pth\n",
      "dict_keys(['k', 'indices', 'file', 'id', 'model_name', 'patch_size', 'shape'])\n",
      "0721\n",
      "Starting Training\n",
      "epoch: 00, loss: -0.55419\n",
      "epoch: 01, loss: -0.87865\n",
      "epoch: 02, loss: -0.90201\n",
      "epoch: 03, loss: -0.91321\n",
      "epoch: 04, loss: -0.90269\n",
      "epoch: 05, loss: -0.90983\n",
      "epoch: 06, loss: -0.90083\n",
      "epoch: 07, loss: -0.88802\n",
      "epoch: 08, loss: -0.89100\n",
      "epoch: 09, loss: -0.85400\n"
     ]
    },
    {
     "name": "stderr",
     "output_type": "stream",
     "text": [
      " 72%|███████▏  | 721/1000 [4:30:10<1:33:45, 20.16s/it]"
     ]
    },
    {
     "name": "stdout",
     "output_type": "stream",
     "text": [
      "eigenvalues shape torch.Size([5]) eigenvectors shape torch.Size([5, 400])\n",
      "721 /home/phdcs2/Hard_Disk/Datasets/Deep-Spectral-Segmentation/data/object-segmentation/ECSSD/features/dino_vits16/0722.pth\n",
      "dict_keys(['k', 'indices', 'file', 'id', 'model_name', 'patch_size', 'shape'])\n",
      "0722\n",
      "Starting Training\n",
      "epoch: 00, loss: -0.48754\n",
      "epoch: 01, loss: -0.80642\n",
      "epoch: 02, loss: -0.83432\n",
      "epoch: 03, loss: -0.85406\n",
      "epoch: 04, loss: -0.86655\n",
      "epoch: 05, loss: -0.87575\n",
      "epoch: 06, loss: -0.88256\n",
      "epoch: 07, loss: -0.89022\n",
      "epoch: 08, loss: -0.89305\n",
      "epoch: 09, loss: -0.89688\n"
     ]
    },
    {
     "name": "stderr",
     "output_type": "stream",
     "text": [
      " 72%|███████▏  | 722/1000 [4:30:37<1:43:50, 22.41s/it]"
     ]
    },
    {
     "name": "stdout",
     "output_type": "stream",
     "text": [
      "eigenvalues shape torch.Size([5]) eigenvectors shape torch.Size([5, 575])\n",
      "722 /home/phdcs2/Hard_Disk/Datasets/Deep-Spectral-Segmentation/data/object-segmentation/ECSSD/features/dino_vits16/0723.pth\n",
      "dict_keys(['k', 'indices', 'file', 'id', 'model_name', 'patch_size', 'shape'])\n",
      "0723\n",
      "Starting Training\n",
      "epoch: 00, loss: -0.28994\n",
      "epoch: 01, loss: -0.69434\n",
      "epoch: 02, loss: -0.73155\n",
      "epoch: 03, loss: -0.73621\n",
      "epoch: 04, loss: -0.77650\n",
      "epoch: 05, loss: -0.80221\n",
      "epoch: 06, loss: -0.79689\n",
      "epoch: 07, loss: -0.80860\n",
      "epoch: 08, loss: -0.80501\n",
      "epoch: 09, loss: -0.81326\n"
     ]
    },
    {
     "name": "stderr",
     "output_type": "stream",
     "text": [
      " 72%|███████▏  | 723/1000 [4:30:56<1:38:38, 21.37s/it]"
     ]
    },
    {
     "name": "stdout",
     "output_type": "stream",
     "text": [
      "eigenvalues shape torch.Size([5]) eigenvectors shape torch.Size([5, 400])\n",
      "723 /home/phdcs2/Hard_Disk/Datasets/Deep-Spectral-Segmentation/data/object-segmentation/ECSSD/features/dino_vits16/0724.pth\n",
      "dict_keys(['k', 'indices', 'file', 'id', 'model_name', 'patch_size', 'shape'])\n",
      "0724\n",
      "Starting Training\n",
      "epoch: 00, loss: -0.44815\n",
      "epoch: 01, loss: -0.68812\n",
      "epoch: 02, loss: -0.73517\n",
      "epoch: 03, loss: -0.72351\n",
      "epoch: 04, loss: -0.74527\n",
      "epoch: 05, loss: -0.77950\n",
      "epoch: 06, loss: -0.76359\n",
      "epoch: 07, loss: -0.78049\n",
      "epoch: 08, loss: -0.78657\n",
      "epoch: 09, loss: -0.79716\n"
     ]
    },
    {
     "name": "stderr",
     "output_type": "stream",
     "text": [
      " 72%|███████▏  | 724/1000 [4:31:13<1:32:48, 20.18s/it]"
     ]
    },
    {
     "name": "stdout",
     "output_type": "stream",
     "text": [
      "eigenvalues shape torch.Size([5]) eigenvectors shape torch.Size([5, 400])\n",
      "724 /home/phdcs2/Hard_Disk/Datasets/Deep-Spectral-Segmentation/data/object-segmentation/ECSSD/features/dino_vits16/0725.pth\n",
      "dict_keys(['k', 'indices', 'file', 'id', 'model_name', 'patch_size', 'shape'])\n",
      "0725\n",
      "Starting Training\n",
      "epoch: 00, loss: -0.40990\n",
      "epoch: 01, loss: -0.80434\n",
      "epoch: 02, loss: -0.82538\n",
      "epoch: 03, loss: -0.84539\n",
      "epoch: 04, loss: -0.86161\n",
      "epoch: 05, loss: -0.88424\n",
      "epoch: 06, loss: -0.85927\n",
      "epoch: 07, loss: -0.86316\n",
      "epoch: 08, loss: -0.86836\n",
      "epoch: 09, loss: -0.85648\n"
     ]
    },
    {
     "name": "stderr",
     "output_type": "stream",
     "text": [
      " 72%|███████▎  | 725/1000 [4:31:34<1:33:26, 20.39s/it]"
     ]
    },
    {
     "name": "stdout",
     "output_type": "stream",
     "text": [
      "eigenvalues shape torch.Size([5]) eigenvectors shape torch.Size([5, 450])\n",
      "725 /home/phdcs2/Hard_Disk/Datasets/Deep-Spectral-Segmentation/data/object-segmentation/ECSSD/features/dino_vits16/0726.pth\n",
      "dict_keys(['k', 'indices', 'file', 'id', 'model_name', 'patch_size', 'shape'])\n",
      "0726\n",
      "Starting Training\n",
      "epoch: 00, loss: -0.47793\n",
      "epoch: 01, loss: -0.87033\n",
      "epoch: 02, loss: -0.89630\n",
      "epoch: 03, loss: -0.86233\n",
      "epoch: 04, loss: -0.84643\n",
      "epoch: 05, loss: -0.86547\n",
      "epoch: 06, loss: -0.83771\n",
      "epoch: 07, loss: -0.83157\n",
      "epoch: 08, loss: -0.79097\n",
      "epoch: 09, loss: -0.81772\n"
     ]
    },
    {
     "name": "stderr",
     "output_type": "stream",
     "text": [
      " 73%|███████▎  | 726/1000 [4:31:56<1:34:19, 20.65s/it]"
     ]
    },
    {
     "name": "stdout",
     "output_type": "stream",
     "text": [
      "eigenvalues shape torch.Size([5]) eigenvectors shape torch.Size([5, 450])\n",
      "726 /home/phdcs2/Hard_Disk/Datasets/Deep-Spectral-Segmentation/data/object-segmentation/ECSSD/features/dino_vits16/0727.pth\n",
      "dict_keys(['k', 'indices', 'file', 'id', 'model_name', 'patch_size', 'shape'])\n",
      "0727\n",
      "Starting Training\n",
      "epoch: 00, loss: -0.29464\n",
      "epoch: 01, loss: -0.57052\n",
      "epoch: 02, loss: -0.77287\n",
      "epoch: 03, loss: -0.81600\n",
      "epoch: 04, loss: -0.82044\n",
      "epoch: 05, loss: -0.83282\n",
      "epoch: 06, loss: -0.83179\n",
      "epoch: 07, loss: -0.84719\n",
      "epoch: 08, loss: -0.83940\n",
      "epoch: 09, loss: -0.85293\n"
     ]
    },
    {
     "name": "stderr",
     "output_type": "stream",
     "text": [
      " 73%|███████▎  | 727/1000 [4:32:17<1:35:05, 20.90s/it]"
     ]
    },
    {
     "name": "stdout",
     "output_type": "stream",
     "text": [
      "eigenvalues shape torch.Size([5]) eigenvectors shape torch.Size([5, 450])\n",
      "727 /home/phdcs2/Hard_Disk/Datasets/Deep-Spectral-Segmentation/data/object-segmentation/ECSSD/features/dino_vits16/0728.pth\n",
      "dict_keys(['k', 'indices', 'file', 'id', 'model_name', 'patch_size', 'shape'])\n",
      "0728\n",
      "Starting Training\n",
      "epoch: 00, loss: -0.30775\n",
      "epoch: 01, loss: -0.71036\n",
      "epoch: 02, loss: -0.76374\n",
      "epoch: 03, loss: -0.79971\n",
      "epoch: 04, loss: -0.83102\n",
      "epoch: 05, loss: -0.84331\n",
      "epoch: 06, loss: -0.83647\n",
      "epoch: 07, loss: -0.82307\n",
      "epoch: 08, loss: -0.81926\n",
      "epoch: 09, loss: -0.81703\n"
     ]
    },
    {
     "name": "stderr",
     "output_type": "stream",
     "text": [
      " 73%|███████▎  | 728/1000 [4:32:36<1:31:48, 20.25s/it]"
     ]
    },
    {
     "name": "stdout",
     "output_type": "stream",
     "text": [
      "eigenvalues shape torch.Size([5]) eigenvectors shape torch.Size([5, 450])\n",
      "728 /home/phdcs2/Hard_Disk/Datasets/Deep-Spectral-Segmentation/data/object-segmentation/ECSSD/features/dino_vits16/0729.pth\n",
      "dict_keys(['k', 'indices', 'file', 'id', 'model_name', 'patch_size', 'shape'])\n",
      "0729\n",
      "Starting Training\n",
      "epoch: 00, loss: -0.41314\n",
      "epoch: 01, loss: -0.69700\n",
      "epoch: 02, loss: -0.72130\n",
      "epoch: 03, loss: -0.73281\n",
      "epoch: 04, loss: -0.71831\n",
      "epoch: 05, loss: -0.76101\n",
      "epoch: 06, loss: -0.79468\n",
      "epoch: 07, loss: -0.80357\n",
      "epoch: 08, loss: -0.79894\n",
      "epoch: 09, loss: -0.80495\n"
     ]
    },
    {
     "name": "stderr",
     "output_type": "stream",
     "text": [
      " 73%|███████▎  | 729/1000 [4:32:56<1:30:41, 20.08s/it]"
     ]
    },
    {
     "name": "stdout",
     "output_type": "stream",
     "text": [
      "eigenvalues shape torch.Size([5]) eigenvectors shape torch.Size([5, 400])\n",
      "729 /home/phdcs2/Hard_Disk/Datasets/Deep-Spectral-Segmentation/data/object-segmentation/ECSSD/features/dino_vits16/0730.pth\n",
      "dict_keys(['k', 'indices', 'file', 'id', 'model_name', 'patch_size', 'shape'])\n",
      "0730\n",
      "Starting Training\n",
      "epoch: 00, loss: -0.73334\n",
      "epoch: 01, loss: -0.93915\n",
      "epoch: 02, loss: -0.93657\n",
      "epoch: 03, loss: -0.94553\n",
      "epoch: 04, loss: -0.94259\n",
      "epoch: 05, loss: -0.94675\n",
      "epoch: 06, loss: -0.93386\n",
      "epoch: 07, loss: -0.92520\n",
      "epoch: 08, loss: -0.92157\n",
      "epoch: 09, loss: -0.92828\n"
     ]
    },
    {
     "name": "stderr",
     "output_type": "stream",
     "text": [
      " 73%|███████▎  | 730/1000 [4:33:18<1:33:15, 20.72s/it]"
     ]
    },
    {
     "name": "stdout",
     "output_type": "stream",
     "text": [
      "eigenvalues shape torch.Size([5]) eigenvectors shape torch.Size([5, 450])\n",
      "730 /home/phdcs2/Hard_Disk/Datasets/Deep-Spectral-Segmentation/data/object-segmentation/ECSSD/features/dino_vits16/0731.pth\n",
      "dict_keys(['k', 'indices', 'file', 'id', 'model_name', 'patch_size', 'shape'])\n",
      "0731\n",
      "Starting Training\n",
      "epoch: 00, loss: -0.64399\n",
      "epoch: 01, loss: -0.91465\n",
      "epoch: 02, loss: -0.92787\n",
      "epoch: 03, loss: -0.94155\n",
      "epoch: 04, loss: -0.94472\n",
      "epoch: 05, loss: -0.92635\n",
      "epoch: 06, loss: -0.93370\n",
      "epoch: 07, loss: -0.92352\n",
      "epoch: 08, loss: -0.91583\n",
      "epoch: 09, loss: -0.80923\n"
     ]
    },
    {
     "name": "stderr",
     "output_type": "stream",
     "text": [
      " 73%|███████▎  | 731/1000 [4:33:37<1:31:28, 20.40s/it]"
     ]
    },
    {
     "name": "stdout",
     "output_type": "stream",
     "text": [
      "eigenvalues shape torch.Size([5]) eigenvectors shape torch.Size([5, 400])\n",
      "731 /home/phdcs2/Hard_Disk/Datasets/Deep-Spectral-Segmentation/data/object-segmentation/ECSSD/features/dino_vits16/0732.pth\n",
      "dict_keys(['k', 'indices', 'file', 'id', 'model_name', 'patch_size', 'shape'])\n",
      "0732\n",
      "Starting Training\n",
      "epoch: 00, loss: -0.40508\n",
      "epoch: 01, loss: -0.76057\n",
      "epoch: 02, loss: -0.79022\n",
      "epoch: 03, loss: -0.79433\n",
      "epoch: 04, loss: -0.78256\n",
      "epoch: 05, loss: -0.81195\n",
      "epoch: 06, loss: -0.81007\n",
      "epoch: 07, loss: -0.81443\n",
      "epoch: 08, loss: -0.80083\n",
      "epoch: 09, loss: -0.81131\n"
     ]
    },
    {
     "name": "stderr",
     "output_type": "stream",
     "text": [
      " 73%|███████▎  | 732/1000 [4:34:05<1:40:40, 22.54s/it]"
     ]
    },
    {
     "name": "stdout",
     "output_type": "stream",
     "text": [
      "eigenvalues shape torch.Size([5]) eigenvectors shape torch.Size([5, 525])\n",
      "732 /home/phdcs2/Hard_Disk/Datasets/Deep-Spectral-Segmentation/data/object-segmentation/ECSSD/features/dino_vits16/0733.pth\n",
      "dict_keys(['k', 'indices', 'file', 'id', 'model_name', 'patch_size', 'shape'])\n",
      "0733\n",
      "Starting Training\n",
      "epoch: 00, loss: -0.63108\n",
      "epoch: 01, loss: -0.86234\n",
      "epoch: 02, loss: -0.90499\n",
      "epoch: 03, loss: -0.89981\n",
      "epoch: 04, loss: -0.86531\n",
      "epoch: 05, loss: -0.86261\n",
      "epoch: 06, loss: -0.86329\n",
      "epoch: 07, loss: -0.84873\n",
      "epoch: 08, loss: -0.81774\n",
      "epoch: 09, loss: -0.78425\n"
     ]
    },
    {
     "name": "stderr",
     "output_type": "stream",
     "text": [
      " 73%|███████▎  | 733/1000 [4:34:25<1:37:38, 21.94s/it]"
     ]
    },
    {
     "name": "stdout",
     "output_type": "stream",
     "text": [
      "eigenvalues shape torch.Size([5]) eigenvectors shape torch.Size([5, 400])\n",
      "733 /home/phdcs2/Hard_Disk/Datasets/Deep-Spectral-Segmentation/data/object-segmentation/ECSSD/features/dino_vits16/0734.pth\n",
      "dict_keys(['k', 'indices', 'file', 'id', 'model_name', 'patch_size', 'shape'])\n",
      "0734\n",
      "Starting Training\n",
      "epoch: 00, loss: -0.37103\n",
      "epoch: 01, loss: -0.66618\n",
      "epoch: 02, loss: -0.69591\n",
      "epoch: 03, loss: -0.67142\n",
      "epoch: 04, loss: -0.64986\n",
      "epoch: 05, loss: -0.71062\n",
      "epoch: 06, loss: -0.72718\n",
      "epoch: 07, loss: -0.74323\n",
      "epoch: 08, loss: -0.77311\n",
      "epoch: 09, loss: -0.74395\n"
     ]
    },
    {
     "name": "stderr",
     "output_type": "stream",
     "text": [
      " 73%|███████▎  | 734/1000 [4:34:45<1:34:23, 21.29s/it]"
     ]
    },
    {
     "name": "stdout",
     "output_type": "stream",
     "text": [
      "eigenvalues shape torch.Size([5]) eigenvectors shape torch.Size([5, 425])\n",
      "734 /home/phdcs2/Hard_Disk/Datasets/Deep-Spectral-Segmentation/data/object-segmentation/ECSSD/features/dino_vits16/0735.pth\n",
      "dict_keys(['k', 'indices', 'file', 'id', 'model_name', 'patch_size', 'shape'])\n",
      "0735\n",
      "Starting Training\n",
      "epoch: 00, loss: -0.35192\n",
      "epoch: 01, loss: -0.82596\n",
      "epoch: 02, loss: -0.85755\n",
      "epoch: 03, loss: -0.85863\n",
      "epoch: 04, loss: -0.84540\n",
      "epoch: 05, loss: -0.84756\n",
      "epoch: 06, loss: -0.84391\n",
      "epoch: 07, loss: -0.83512\n",
      "epoch: 08, loss: -0.84777\n",
      "epoch: 09, loss: -0.84156\n"
     ]
    },
    {
     "name": "stderr",
     "output_type": "stream",
     "text": [
      " 74%|███████▎  | 735/1000 [4:35:06<1:33:10, 21.10s/it]"
     ]
    },
    {
     "name": "stdout",
     "output_type": "stream",
     "text": [
      "eigenvalues shape torch.Size([5]) eigenvectors shape torch.Size([5, 450])\n",
      "735 /home/phdcs2/Hard_Disk/Datasets/Deep-Spectral-Segmentation/data/object-segmentation/ECSSD/features/dino_vits16/0736.pth\n",
      "dict_keys(['k', 'indices', 'file', 'id', 'model_name', 'patch_size', 'shape'])\n",
      "0736\n",
      "Starting Training\n",
      "epoch: 00, loss: -0.31373\n",
      "epoch: 01, loss: -0.68179\n",
      "epoch: 02, loss: -0.73728\n",
      "epoch: 03, loss: -0.76747\n",
      "epoch: 04, loss: -0.77061\n",
      "epoch: 05, loss: -0.80122\n",
      "epoch: 06, loss: -0.80958\n",
      "epoch: 07, loss: -0.79771\n",
      "epoch: 08, loss: -0.80231\n",
      "epoch: 09, loss: -0.82977\n"
     ]
    },
    {
     "name": "stderr",
     "output_type": "stream",
     "text": [
      " 74%|███████▎  | 736/1000 [4:35:31<1:38:01, 22.28s/it]"
     ]
    },
    {
     "name": "stdout",
     "output_type": "stream",
     "text": [
      "eigenvalues shape torch.Size([5]) eigenvectors shape torch.Size([5, 450])\n",
      "736 /home/phdcs2/Hard_Disk/Datasets/Deep-Spectral-Segmentation/data/object-segmentation/ECSSD/features/dino_vits16/0737.pth\n",
      "dict_keys(['k', 'indices', 'file', 'id', 'model_name', 'patch_size', 'shape'])\n",
      "0737\n",
      "Starting Training\n",
      "epoch: 00, loss: -0.26575\n",
      "epoch: 01, loss: -0.59045\n",
      "epoch: 02, loss: -0.67359\n",
      "epoch: 03, loss: -0.71155\n",
      "epoch: 04, loss: -0.75171\n",
      "epoch: 05, loss: -0.76490\n",
      "epoch: 06, loss: -0.79919\n",
      "epoch: 07, loss: -0.80514\n",
      "epoch: 08, loss: -0.81961\n",
      "epoch: 09, loss: -0.82398\n"
     ]
    },
    {
     "name": "stderr",
     "output_type": "stream",
     "text": [
      " 74%|███████▎  | 737/1000 [4:35:50<1:34:01, 21.45s/it]"
     ]
    },
    {
     "name": "stdout",
     "output_type": "stream",
     "text": [
      "eigenvalues shape torch.Size([5]) eigenvectors shape torch.Size([5, 400])\n",
      "737 /home/phdcs2/Hard_Disk/Datasets/Deep-Spectral-Segmentation/data/object-segmentation/ECSSD/features/dino_vits16/0738.pth\n",
      "dict_keys(['k', 'indices', 'file', 'id', 'model_name', 'patch_size', 'shape'])\n",
      "0738\n",
      "Starting Training\n",
      "epoch: 00, loss: -0.36755\n",
      "epoch: 01, loss: -0.68173\n",
      "epoch: 02, loss: -0.79173\n",
      "epoch: 03, loss: -0.81203\n",
      "epoch: 04, loss: -0.82464\n",
      "epoch: 05, loss: -0.83536\n",
      "epoch: 06, loss: -0.84626\n",
      "epoch: 07, loss: -0.85747\n",
      "epoch: 08, loss: -0.85393\n",
      "epoch: 09, loss: -0.85475\n"
     ]
    },
    {
     "name": "stderr",
     "output_type": "stream",
     "text": [
      " 74%|███████▍  | 738/1000 [4:36:12<1:33:20, 21.38s/it]"
     ]
    },
    {
     "name": "stdout",
     "output_type": "stream",
     "text": [
      "eigenvalues shape torch.Size([5]) eigenvectors shape torch.Size([5, 450])\n",
      "738 /home/phdcs2/Hard_Disk/Datasets/Deep-Spectral-Segmentation/data/object-segmentation/ECSSD/features/dino_vits16/0739.pth\n",
      "dict_keys(['k', 'indices', 'file', 'id', 'model_name', 'patch_size', 'shape'])\n",
      "0739\n",
      "Starting Training\n",
      "epoch: 00, loss: -0.42548\n",
      "epoch: 01, loss: -0.67565\n",
      "epoch: 02, loss: -0.72140\n",
      "epoch: 03, loss: -0.77670\n",
      "epoch: 04, loss: -0.81708\n",
      "epoch: 05, loss: -0.80646\n",
      "epoch: 06, loss: -0.82128\n",
      "epoch: 07, loss: -0.83137\n",
      "epoch: 08, loss: -0.81223\n",
      "epoch: 09, loss: -0.81610\n"
     ]
    },
    {
     "name": "stderr",
     "output_type": "stream",
     "text": [
      " 74%|███████▍  | 739/1000 [4:36:30<1:28:51, 20.43s/it]"
     ]
    },
    {
     "name": "stdout",
     "output_type": "stream",
     "text": [
      "eigenvalues shape torch.Size([5]) eigenvectors shape torch.Size([5, 400])\n",
      "739 /home/phdcs2/Hard_Disk/Datasets/Deep-Spectral-Segmentation/data/object-segmentation/ECSSD/features/dino_vits16/0740.pth\n",
      "dict_keys(['k', 'indices', 'file', 'id', 'model_name', 'patch_size', 'shape'])\n",
      "0740\n",
      "Starting Training\n",
      "epoch: 00, loss: -0.45483\n",
      "epoch: 01, loss: -0.69607\n",
      "epoch: 02, loss: -0.69195\n",
      "epoch: 03, loss: -0.63847\n",
      "epoch: 04, loss: -0.74723\n",
      "epoch: 05, loss: -0.80342\n",
      "epoch: 06, loss: -0.73391\n",
      "epoch: 07, loss: -0.76024\n",
      "epoch: 08, loss: -0.79895\n",
      "epoch: 09, loss: -0.83311\n"
     ]
    },
    {
     "name": "stderr",
     "output_type": "stream",
     "text": [
      " 74%|███████▍  | 740/1000 [4:36:47<1:24:49, 19.58s/it]"
     ]
    },
    {
     "name": "stdout",
     "output_type": "stream",
     "text": [
      "eigenvalues shape torch.Size([5]) eigenvectors shape torch.Size([5, 400])\n",
      "740 /home/phdcs2/Hard_Disk/Datasets/Deep-Spectral-Segmentation/data/object-segmentation/ECSSD/features/dino_vits16/0741.pth\n",
      "dict_keys(['k', 'indices', 'file', 'id', 'model_name', 'patch_size', 'shape'])\n",
      "0741\n",
      "Starting Training\n",
      "epoch: 00, loss: -0.35152\n",
      "epoch: 01, loss: -0.69736\n",
      "epoch: 02, loss: -0.77661\n",
      "epoch: 03, loss: -0.74189\n",
      "epoch: 04, loss: -0.72338\n",
      "epoch: 05, loss: -0.76031\n",
      "epoch: 06, loss: -0.78027\n",
      "epoch: 07, loss: -0.81512\n",
      "epoch: 08, loss: -0.79618\n",
      "epoch: 09, loss: -0.82831\n"
     ]
    },
    {
     "name": "stderr",
     "output_type": "stream",
     "text": [
      " 74%|███████▍  | 741/1000 [4:37:06<1:22:52, 19.20s/it]"
     ]
    },
    {
     "name": "stdout",
     "output_type": "stream",
     "text": [
      "eigenvalues shape torch.Size([5]) eigenvectors shape torch.Size([5, 400])\n",
      "741 /home/phdcs2/Hard_Disk/Datasets/Deep-Spectral-Segmentation/data/object-segmentation/ECSSD/features/dino_vits16/0742.pth\n",
      "dict_keys(['k', 'indices', 'file', 'id', 'model_name', 'patch_size', 'shape'])\n",
      "0742\n",
      "Starting Training\n",
      "epoch: 00, loss: -0.32976\n",
      "epoch: 01, loss: -0.71929\n",
      "epoch: 02, loss: -0.69416\n",
      "epoch: 03, loss: -0.72235\n",
      "epoch: 04, loss: -0.78181\n",
      "epoch: 05, loss: -0.81002\n",
      "epoch: 06, loss: -0.81827\n",
      "epoch: 07, loss: -0.83271\n",
      "epoch: 08, loss: -0.83896\n",
      "epoch: 09, loss: -0.84443\n"
     ]
    },
    {
     "name": "stderr",
     "output_type": "stream",
     "text": [
      " 74%|███████▍  | 742/1000 [4:37:24<1:21:19, 18.91s/it]"
     ]
    },
    {
     "name": "stdout",
     "output_type": "stream",
     "text": [
      "eigenvalues shape torch.Size([5]) eigenvectors shape torch.Size([5, 400])\n",
      "742 /home/phdcs2/Hard_Disk/Datasets/Deep-Spectral-Segmentation/data/object-segmentation/ECSSD/features/dino_vits16/0743.pth\n",
      "dict_keys(['k', 'indices', 'file', 'id', 'model_name', 'patch_size', 'shape'])\n",
      "0743\n",
      "Starting Training\n",
      "epoch: 00, loss: -0.62938\n",
      "epoch: 01, loss: -0.91556\n",
      "epoch: 02, loss: -0.92414\n",
      "epoch: 03, loss: -0.92594\n",
      "epoch: 04, loss: -0.92440\n",
      "epoch: 05, loss: -0.92649\n",
      "epoch: 06, loss: -0.93036\n",
      "epoch: 07, loss: -0.93595\n",
      "epoch: 08, loss: -0.93391\n",
      "epoch: 09, loss: -0.92361\n"
     ]
    },
    {
     "name": "stderr",
     "output_type": "stream",
     "text": [
      " 74%|███████▍  | 743/1000 [4:37:50<1:29:49, 20.97s/it]"
     ]
    },
    {
     "name": "stdout",
     "output_type": "stream",
     "text": [
      "eigenvalues shape torch.Size([5]) eigenvectors shape torch.Size([5, 525])\n",
      "743 /home/phdcs2/Hard_Disk/Datasets/Deep-Spectral-Segmentation/data/object-segmentation/ECSSD/features/dino_vits16/0744.pth\n",
      "dict_keys(['k', 'indices', 'file', 'id', 'model_name', 'patch_size', 'shape'])\n",
      "0744\n",
      "Starting Training\n",
      "epoch: 00, loss: -0.52655\n",
      "epoch: 01, loss: -0.72847\n",
      "epoch: 02, loss: -0.69065\n",
      "epoch: 03, loss: -0.75574\n",
      "epoch: 04, loss: -0.76745\n",
      "epoch: 05, loss: -0.79428\n",
      "epoch: 06, loss: -0.81668\n",
      "epoch: 07, loss: -0.83082\n",
      "epoch: 08, loss: -0.80075\n",
      "epoch: 09, loss: -0.81092\n"
     ]
    },
    {
     "name": "stderr",
     "output_type": "stream",
     "text": [
      " 74%|███████▍  | 744/1000 [4:38:12<1:30:44, 21.27s/it]"
     ]
    },
    {
     "name": "stdout",
     "output_type": "stream",
     "text": [
      "eigenvalues shape torch.Size([5]) eigenvectors shape torch.Size([5, 475])\n",
      "744 /home/phdcs2/Hard_Disk/Datasets/Deep-Spectral-Segmentation/data/object-segmentation/ECSSD/features/dino_vits16/0745.pth\n",
      "dict_keys(['k', 'indices', 'file', 'id', 'model_name', 'patch_size', 'shape'])\n",
      "0745\n",
      "Starting Training\n",
      "epoch: 00, loss: -0.25721\n",
      "epoch: 01, loss: -0.63442\n",
      "epoch: 02, loss: -0.70740\n",
      "epoch: 03, loss: -0.76152\n",
      "epoch: 04, loss: -0.74807\n",
      "epoch: 05, loss: -0.77382\n",
      "epoch: 06, loss: -0.78395\n",
      "epoch: 07, loss: -0.79516\n",
      "epoch: 08, loss: -0.80451\n",
      "epoch: 09, loss: -0.82633\n"
     ]
    },
    {
     "name": "stderr",
     "output_type": "stream",
     "text": [
      " 74%|███████▍  | 745/1000 [4:38:31<1:27:24, 20.57s/it]"
     ]
    },
    {
     "name": "stdout",
     "output_type": "stream",
     "text": [
      "eigenvalues shape torch.Size([5]) eigenvectors shape torch.Size([5, 400])\n",
      "745 /home/phdcs2/Hard_Disk/Datasets/Deep-Spectral-Segmentation/data/object-segmentation/ECSSD/features/dino_vits16/0746.pth\n",
      "dict_keys(['k', 'indices', 'file', 'id', 'model_name', 'patch_size', 'shape'])\n",
      "0746\n",
      "Starting Training\n",
      "epoch: 00, loss: -0.36770\n",
      "epoch: 01, loss: -0.79192\n",
      "epoch: 02, loss: -0.74923\n",
      "epoch: 03, loss: -0.75659\n",
      "epoch: 04, loss: -0.73194\n",
      "epoch: 05, loss: -0.69937\n",
      "epoch: 06, loss: -0.74520\n",
      "epoch: 07, loss: -0.75338\n",
      "epoch: 08, loss: -0.74752\n",
      "epoch: 09, loss: -0.75092\n"
     ]
    },
    {
     "name": "stderr",
     "output_type": "stream",
     "text": [
      " 75%|███████▍  | 746/1000 [4:38:49<1:24:08, 19.88s/it]"
     ]
    },
    {
     "name": "stdout",
     "output_type": "stream",
     "text": [
      "eigenvalues shape torch.Size([5]) eigenvectors shape torch.Size([5, 400])\n",
      "746 /home/phdcs2/Hard_Disk/Datasets/Deep-Spectral-Segmentation/data/object-segmentation/ECSSD/features/dino_vits16/0747.pth\n",
      "dict_keys(['k', 'indices', 'file', 'id', 'model_name', 'patch_size', 'shape'])\n",
      "0747\n",
      "Starting Training\n",
      "epoch: 00, loss: -0.49518\n",
      "epoch: 01, loss: -0.77397\n",
      "epoch: 02, loss: -0.82630\n",
      "epoch: 03, loss: -0.82444\n",
      "epoch: 04, loss: -0.82875\n",
      "epoch: 05, loss: -0.81190\n",
      "epoch: 06, loss: -0.81224\n",
      "epoch: 07, loss: -0.84221\n",
      "epoch: 08, loss: -0.83976\n",
      "epoch: 09, loss: -0.85926\n"
     ]
    },
    {
     "name": "stderr",
     "output_type": "stream",
     "text": [
      " 75%|███████▍  | 747/1000 [4:39:06<1:19:59, 18.97s/it]"
     ]
    },
    {
     "name": "stdout",
     "output_type": "stream",
     "text": [
      "eigenvalues shape torch.Size([5]) eigenvectors shape torch.Size([5, 400])\n",
      "747 /home/phdcs2/Hard_Disk/Datasets/Deep-Spectral-Segmentation/data/object-segmentation/ECSSD/features/dino_vits16/0748.pth\n",
      "dict_keys(['k', 'indices', 'file', 'id', 'model_name', 'patch_size', 'shape'])\n",
      "0748\n",
      "Starting Training\n",
      "epoch: 00, loss: -0.49980\n",
      "epoch: 01, loss: -0.84307\n",
      "epoch: 02, loss: -0.67552\n",
      "epoch: 03, loss: -0.71962\n",
      "epoch: 04, loss: -0.80547\n",
      "epoch: 05, loss: -0.81547\n",
      "epoch: 06, loss: -0.84158\n",
      "epoch: 07, loss: -0.84519\n",
      "epoch: 08, loss: -0.87529\n",
      "epoch: 09, loss: -0.86765\n"
     ]
    },
    {
     "name": "stderr",
     "output_type": "stream",
     "text": [
      " 75%|███████▍  | 748/1000 [4:39:24<1:18:33, 18.70s/it]"
     ]
    },
    {
     "name": "stdout",
     "output_type": "stream",
     "text": [
      "eigenvalues shape torch.Size([5]) eigenvectors shape torch.Size([5, 400])\n",
      "748 /home/phdcs2/Hard_Disk/Datasets/Deep-Spectral-Segmentation/data/object-segmentation/ECSSD/features/dino_vits16/0749.pth\n",
      "dict_keys(['k', 'indices', 'file', 'id', 'model_name', 'patch_size', 'shape'])\n",
      "0749\n",
      "Starting Training\n",
      "epoch: 00, loss: -0.64684\n",
      "epoch: 01, loss: -0.93072\n",
      "epoch: 02, loss: -0.95057\n",
      "epoch: 03, loss: -0.94017\n",
      "epoch: 04, loss: -0.91683\n",
      "epoch: 05, loss: -0.94389\n",
      "epoch: 06, loss: -0.93479\n",
      "epoch: 07, loss: -0.93919\n",
      "epoch: 08, loss: -0.93951\n",
      "epoch: 09, loss: -0.92979\n"
     ]
    },
    {
     "name": "stderr",
     "output_type": "stream",
     "text": [
      " 75%|███████▍  | 749/1000 [4:39:43<1:18:27, 18.76s/it]"
     ]
    },
    {
     "name": "stdout",
     "output_type": "stream",
     "text": [
      "eigenvalues shape torch.Size([5]) eigenvectors shape torch.Size([5, 400])\n",
      "749 /home/phdcs2/Hard_Disk/Datasets/Deep-Spectral-Segmentation/data/object-segmentation/ECSSD/features/dino_vits16/0750.pth\n",
      "dict_keys(['k', 'indices', 'file', 'id', 'model_name', 'patch_size', 'shape'])\n",
      "0750\n",
      "Starting Training\n",
      "epoch: 00, loss: -0.33860\n",
      "epoch: 01, loss: -0.74204\n",
      "epoch: 02, loss: -0.81589\n",
      "epoch: 03, loss: -0.83728\n",
      "epoch: 04, loss: -0.86012\n",
      "epoch: 05, loss: -0.86061\n",
      "epoch: 06, loss: -0.86018\n",
      "epoch: 07, loss: -0.84854\n",
      "epoch: 08, loss: -0.85241\n",
      "epoch: 09, loss: -0.85765\n"
     ]
    },
    {
     "name": "stderr",
     "output_type": "stream",
     "text": [
      " 75%|███████▌  | 750/1000 [4:40:01<1:17:34, 18.62s/it]"
     ]
    },
    {
     "name": "stdout",
     "output_type": "stream",
     "text": [
      "eigenvalues shape torch.Size([5]) eigenvectors shape torch.Size([5, 400])\n",
      "750 /home/phdcs2/Hard_Disk/Datasets/Deep-Spectral-Segmentation/data/object-segmentation/ECSSD/features/dino_vits16/0751.pth\n",
      "dict_keys(['k', 'indices', 'file', 'id', 'model_name', 'patch_size', 'shape'])\n",
      "0751\n",
      "Starting Training\n",
      "epoch: 00, loss: -0.29171\n",
      "epoch: 01, loss: -0.59925\n",
      "epoch: 02, loss: -0.73555\n",
      "epoch: 03, loss: -0.79424\n",
      "epoch: 04, loss: -0.82304\n",
      "epoch: 05, loss: -0.83979\n",
      "epoch: 06, loss: -0.83271\n",
      "epoch: 07, loss: -0.82339\n",
      "epoch: 08, loss: -0.81100\n",
      "epoch: 09, loss: -0.77893\n"
     ]
    },
    {
     "name": "stderr",
     "output_type": "stream",
     "text": [
      " 75%|███████▌  | 751/1000 [4:40:20<1:17:48, 18.75s/it]"
     ]
    },
    {
     "name": "stdout",
     "output_type": "stream",
     "text": [
      "eigenvalues shape torch.Size([5]) eigenvectors shape torch.Size([5, 450])\n",
      "751 /home/phdcs2/Hard_Disk/Datasets/Deep-Spectral-Segmentation/data/object-segmentation/ECSSD/features/dino_vits16/0752.pth\n",
      "dict_keys(['k', 'indices', 'file', 'id', 'model_name', 'patch_size', 'shape'])\n",
      "0752\n",
      "Starting Training\n",
      "epoch: 00, loss: -0.46792\n",
      "epoch: 01, loss: -0.80124\n",
      "epoch: 02, loss: -0.80087\n",
      "epoch: 03, loss: -0.80827\n",
      "epoch: 04, loss: -0.74776\n",
      "epoch: 05, loss: -0.76733\n",
      "epoch: 06, loss: -0.78322\n",
      "epoch: 07, loss: -0.78767\n",
      "epoch: 08, loss: -0.76452\n",
      "epoch: 09, loss: -0.81248\n"
     ]
    },
    {
     "name": "stderr",
     "output_type": "stream",
     "text": [
      " 75%|███████▌  | 752/1000 [4:40:41<1:19:53, 19.33s/it]"
     ]
    },
    {
     "name": "stdout",
     "output_type": "stream",
     "text": [
      "eigenvalues shape torch.Size([5]) eigenvectors shape torch.Size([5, 450])\n",
      "752 /home/phdcs2/Hard_Disk/Datasets/Deep-Spectral-Segmentation/data/object-segmentation/ECSSD/features/dino_vits16/0753.pth\n",
      "dict_keys(['k', 'indices', 'file', 'id', 'model_name', 'patch_size', 'shape'])\n",
      "0753\n",
      "Starting Training\n",
      "epoch: 00, loss: -0.39829\n",
      "epoch: 01, loss: -0.79285\n",
      "epoch: 02, loss: -0.83793\n",
      "epoch: 03, loss: -0.84208\n",
      "epoch: 04, loss: -0.83490\n",
      "epoch: 05, loss: -0.80969\n",
      "epoch: 06, loss: -0.85891\n",
      "epoch: 07, loss: -0.83781\n",
      "epoch: 08, loss: -0.85920\n",
      "epoch: 09, loss: -0.85106\n"
     ]
    },
    {
     "name": "stderr",
     "output_type": "stream",
     "text": [
      " 75%|███████▌  | 753/1000 [4:40:59<1:17:53, 18.92s/it]"
     ]
    },
    {
     "name": "stdout",
     "output_type": "stream",
     "text": [
      "eigenvalues shape torch.Size([5]) eigenvectors shape torch.Size([5, 400])\n",
      "753 /home/phdcs2/Hard_Disk/Datasets/Deep-Spectral-Segmentation/data/object-segmentation/ECSSD/features/dino_vits16/0754.pth\n",
      "dict_keys(['k', 'indices', 'file', 'id', 'model_name', 'patch_size', 'shape'])\n",
      "0754\n",
      "Starting Training\n",
      "epoch: 00, loss: -0.26187\n",
      "epoch: 01, loss: -0.66767\n",
      "epoch: 02, loss: -0.75798\n",
      "epoch: 03, loss: -0.78790\n",
      "epoch: 04, loss: -0.79526\n",
      "epoch: 05, loss: -0.79681\n",
      "epoch: 06, loss: -0.81398\n",
      "epoch: 07, loss: -0.80797\n",
      "epoch: 08, loss: -0.81104\n",
      "epoch: 09, loss: -0.80556\n"
     ]
    },
    {
     "name": "stderr",
     "output_type": "stream",
     "text": [
      " 75%|███████▌  | 754/1000 [4:41:19<1:19:31, 19.40s/it]"
     ]
    },
    {
     "name": "stdout",
     "output_type": "stream",
     "text": [
      "eigenvalues shape torch.Size([5]) eigenvectors shape torch.Size([5, 400])\n",
      "754 /home/phdcs2/Hard_Disk/Datasets/Deep-Spectral-Segmentation/data/object-segmentation/ECSSD/features/dino_vits16/0755.pth\n",
      "dict_keys(['k', 'indices', 'file', 'id', 'model_name', 'patch_size', 'shape'])\n",
      "0755\n",
      "Starting Training\n",
      "epoch: 00, loss: -0.27312\n",
      "epoch: 01, loss: -0.59915\n",
      "epoch: 02, loss: -0.70948\n",
      "epoch: 03, loss: -0.74807\n",
      "epoch: 04, loss: -0.73861\n",
      "epoch: 05, loss: -0.75176\n",
      "epoch: 06, loss: -0.75896\n",
      "epoch: 07, loss: -0.79391\n",
      "epoch: 08, loss: -0.78832\n",
      "epoch: 09, loss: -0.79807\n"
     ]
    },
    {
     "name": "stderr",
     "output_type": "stream",
     "text": [
      " 76%|███████▌  | 755/1000 [4:41:38<1:18:34, 19.24s/it]"
     ]
    },
    {
     "name": "stdout",
     "output_type": "stream",
     "text": [
      "eigenvalues shape torch.Size([5]) eigenvectors shape torch.Size([5, 400])\n",
      "755 /home/phdcs2/Hard_Disk/Datasets/Deep-Spectral-Segmentation/data/object-segmentation/ECSSD/features/dino_vits16/0756.pth\n",
      "dict_keys(['k', 'indices', 'file', 'id', 'model_name', 'patch_size', 'shape'])\n",
      "0756\n",
      "Starting Training\n",
      "epoch: 00, loss: -0.28737\n",
      "epoch: 01, loss: -0.64077\n",
      "epoch: 02, loss: -0.71314\n",
      "epoch: 03, loss: -0.74882\n",
      "epoch: 04, loss: -0.74499\n",
      "epoch: 05, loss: -0.76349\n",
      "epoch: 06, loss: -0.78272\n",
      "epoch: 07, loss: -0.78251\n",
      "epoch: 08, loss: -0.80846\n",
      "epoch: 09, loss: -0.82364\n"
     ]
    },
    {
     "name": "stderr",
     "output_type": "stream",
     "text": [
      " 76%|███████▌  | 756/1000 [4:41:57<1:17:11, 18.98s/it]"
     ]
    },
    {
     "name": "stdout",
     "output_type": "stream",
     "text": [
      "eigenvalues shape torch.Size([5]) eigenvectors shape torch.Size([5, 400])\n",
      "756 /home/phdcs2/Hard_Disk/Datasets/Deep-Spectral-Segmentation/data/object-segmentation/ECSSD/features/dino_vits16/0757.pth\n",
      "dict_keys(['k', 'indices', 'file', 'id', 'model_name', 'patch_size', 'shape'])\n",
      "0757\n",
      "Starting Training\n",
      "epoch: 00, loss: -0.65854\n",
      "epoch: 01, loss: -0.93860\n",
      "epoch: 02, loss: -0.92343\n",
      "epoch: 03, loss: -0.84269\n",
      "epoch: 04, loss: -0.77667\n",
      "epoch: 05, loss: -0.78795\n",
      "epoch: 06, loss: -0.78017\n",
      "epoch: 07, loss: -0.79386\n",
      "epoch: 08, loss: -0.81739\n",
      "epoch: 09, loss: -0.82367\n"
     ]
    },
    {
     "name": "stderr",
     "output_type": "stream",
     "text": [
      " 76%|███████▌  | 757/1000 [4:42:15<1:16:26, 18.87s/it]"
     ]
    },
    {
     "name": "stdout",
     "output_type": "stream",
     "text": [
      "eigenvalues shape torch.Size([5]) eigenvectors shape torch.Size([5, 400])\n",
      "757 /home/phdcs2/Hard_Disk/Datasets/Deep-Spectral-Segmentation/data/object-segmentation/ECSSD/features/dino_vits16/0758.pth\n",
      "dict_keys(['k', 'indices', 'file', 'id', 'model_name', 'patch_size', 'shape'])\n",
      "0758\n",
      "Starting Training\n",
      "epoch: 00, loss: -0.27071\n",
      "epoch: 01, loss: -0.66227\n",
      "epoch: 02, loss: -0.74548\n",
      "epoch: 03, loss: -0.79769\n",
      "epoch: 04, loss: -0.79676\n",
      "epoch: 05, loss: -0.80558\n",
      "epoch: 06, loss: -0.82606\n",
      "epoch: 07, loss: -0.79743\n",
      "epoch: 08, loss: -0.81282\n",
      "epoch: 09, loss: -0.83252\n"
     ]
    },
    {
     "name": "stderr",
     "output_type": "stream",
     "text": [
      " 76%|███████▌  | 758/1000 [4:42:36<1:18:57, 19.58s/it]"
     ]
    },
    {
     "name": "stdout",
     "output_type": "stream",
     "text": [
      "eigenvalues shape torch.Size([5]) eigenvectors shape torch.Size([5, 450])\n",
      "758 /home/phdcs2/Hard_Disk/Datasets/Deep-Spectral-Segmentation/data/object-segmentation/ECSSD/features/dino_vits16/0759.pth\n",
      "dict_keys(['k', 'indices', 'file', 'id', 'model_name', 'patch_size', 'shape'])\n",
      "0759\n",
      "Starting Training\n",
      "epoch: 00, loss: -0.34659\n",
      "epoch: 01, loss: -0.66297\n",
      "epoch: 02, loss: -0.72124\n",
      "epoch: 03, loss: -0.74263\n",
      "epoch: 04, loss: -0.79811\n",
      "epoch: 05, loss: -0.81644\n",
      "epoch: 06, loss: -0.81461\n",
      "epoch: 07, loss: -0.83458\n",
      "epoch: 08, loss: -0.83443\n",
      "epoch: 09, loss: -0.85052\n"
     ]
    },
    {
     "name": "stderr",
     "output_type": "stream",
     "text": [
      " 76%|███████▌  | 759/1000 [4:42:53<1:15:23, 18.77s/it]"
     ]
    },
    {
     "name": "stdout",
     "output_type": "stream",
     "text": [
      "eigenvalues shape torch.Size([5]) eigenvectors shape torch.Size([5, 400])\n",
      "759 /home/phdcs2/Hard_Disk/Datasets/Deep-Spectral-Segmentation/data/object-segmentation/ECSSD/features/dino_vits16/0760.pth\n",
      "dict_keys(['k', 'indices', 'file', 'id', 'model_name', 'patch_size', 'shape'])\n",
      "0760\n",
      "Starting Training\n",
      "epoch: 00, loss: -0.40367\n",
      "epoch: 01, loss: -0.73406\n",
      "epoch: 02, loss: -0.66266\n",
      "epoch: 03, loss: -0.70215\n",
      "epoch: 04, loss: -0.77743\n",
      "epoch: 05, loss: -0.77079\n",
      "epoch: 06, loss: -0.76775\n",
      "epoch: 07, loss: -0.77481\n",
      "epoch: 08, loss: -0.80441\n",
      "epoch: 09, loss: -0.76855\n"
     ]
    },
    {
     "name": "stderr",
     "output_type": "stream",
     "text": [
      " 76%|███████▌  | 760/1000 [4:43:15<1:18:13, 19.56s/it]"
     ]
    },
    {
     "name": "stdout",
     "output_type": "stream",
     "text": [
      "eigenvalues shape torch.Size([5]) eigenvectors shape torch.Size([5, 450])\n",
      "760 /home/phdcs2/Hard_Disk/Datasets/Deep-Spectral-Segmentation/data/object-segmentation/ECSSD/features/dino_vits16/0761.pth\n",
      "dict_keys(['k', 'indices', 'file', 'id', 'model_name', 'patch_size', 'shape'])\n",
      "0761\n",
      "Starting Training\n",
      "epoch: 00, loss: -0.44743\n",
      "epoch: 01, loss: -0.79832\n",
      "epoch: 02, loss: -0.84468\n",
      "epoch: 03, loss: -0.85236\n",
      "epoch: 04, loss: -0.85786\n",
      "epoch: 05, loss: -0.86072\n",
      "epoch: 06, loss: -0.84624\n",
      "epoch: 07, loss: -0.84760\n",
      "epoch: 08, loss: -0.85717\n",
      "epoch: 09, loss: -0.86606\n"
     ]
    },
    {
     "name": "stderr",
     "output_type": "stream",
     "text": [
      " 76%|███████▌  | 761/1000 [4:43:37<1:20:54, 20.31s/it]"
     ]
    },
    {
     "name": "stdout",
     "output_type": "stream",
     "text": [
      "eigenvalues shape torch.Size([5]) eigenvectors shape torch.Size([5, 475])\n",
      "761 /home/phdcs2/Hard_Disk/Datasets/Deep-Spectral-Segmentation/data/object-segmentation/ECSSD/features/dino_vits16/0762.pth\n",
      "dict_keys(['k', 'indices', 'file', 'id', 'model_name', 'patch_size', 'shape'])\n",
      "0762\n",
      "Starting Training\n",
      "epoch: 00, loss: -0.40672\n",
      "epoch: 01, loss: -0.63420\n",
      "epoch: 02, loss: -0.67064\n",
      "epoch: 03, loss: -0.70691\n",
      "epoch: 04, loss: -0.72922\n",
      "epoch: 05, loss: -0.75254\n",
      "epoch: 06, loss: -0.70973\n",
      "epoch: 07, loss: -0.72186\n",
      "epoch: 08, loss: -0.73540\n",
      "epoch: 09, loss: -0.75815\n"
     ]
    },
    {
     "name": "stderr",
     "output_type": "stream",
     "text": [
      " 76%|███████▌  | 762/1000 [4:44:06<1:31:44, 23.13s/it]"
     ]
    },
    {
     "name": "stdout",
     "output_type": "stream",
     "text": [
      "eigenvalues shape torch.Size([5]) eigenvectors shape torch.Size([5, 600])\n",
      "762 /home/phdcs2/Hard_Disk/Datasets/Deep-Spectral-Segmentation/data/object-segmentation/ECSSD/features/dino_vits16/0763.pth\n",
      "dict_keys(['k', 'indices', 'file', 'id', 'model_name', 'patch_size', 'shape'])\n",
      "0763\n",
      "Starting Training\n",
      "epoch: 00, loss: -0.44036\n",
      "epoch: 01, loss: -0.69763\n",
      "epoch: 02, loss: -0.74495\n",
      "epoch: 03, loss: -0.72632\n",
      "epoch: 04, loss: -0.76925\n",
      "epoch: 05, loss: -0.80345\n",
      "epoch: 06, loss: -0.78630\n",
      "epoch: 07, loss: -0.76408\n",
      "epoch: 08, loss: -0.78014\n",
      "epoch: 09, loss: -0.77014\n"
     ]
    },
    {
     "name": "stderr",
     "output_type": "stream",
     "text": [
      " 76%|███████▋  | 763/1000 [4:44:28<1:29:30, 22.66s/it]"
     ]
    },
    {
     "name": "stdout",
     "output_type": "stream",
     "text": [
      "eigenvalues shape torch.Size([5]) eigenvectors shape torch.Size([5, 450])\n",
      "763 /home/phdcs2/Hard_Disk/Datasets/Deep-Spectral-Segmentation/data/object-segmentation/ECSSD/features/dino_vits16/0764.pth\n",
      "dict_keys(['k', 'indices', 'file', 'id', 'model_name', 'patch_size', 'shape'])\n",
      "0764\n",
      "Starting Training\n",
      "epoch: 00, loss: -0.44199\n",
      "epoch: 01, loss: -0.74264\n",
      "epoch: 02, loss: -0.77047\n",
      "epoch: 03, loss: -0.68782\n",
      "epoch: 04, loss: -0.70146\n",
      "epoch: 05, loss: -0.73588\n",
      "epoch: 06, loss: -0.78734\n",
      "epoch: 07, loss: -0.79606\n",
      "epoch: 08, loss: -0.81041\n",
      "epoch: 09, loss: -0.82954\n"
     ]
    },
    {
     "name": "stderr",
     "output_type": "stream",
     "text": [
      " 76%|███████▋  | 764/1000 [4:44:47<1:24:28, 21.48s/it]"
     ]
    },
    {
     "name": "stdout",
     "output_type": "stream",
     "text": [
      "eigenvalues shape torch.Size([5]) eigenvectors shape torch.Size([5, 400])\n",
      "764 /home/phdcs2/Hard_Disk/Datasets/Deep-Spectral-Segmentation/data/object-segmentation/ECSSD/features/dino_vits16/0765.pth\n",
      "dict_keys(['k', 'indices', 'file', 'id', 'model_name', 'patch_size', 'shape'])\n",
      "0765\n",
      "Starting Training\n",
      "epoch: 00, loss: -0.56623\n",
      "epoch: 01, loss: -0.85619\n",
      "epoch: 02, loss: -0.86117\n",
      "epoch: 03, loss: -0.87425\n",
      "epoch: 04, loss: -0.87173\n",
      "epoch: 05, loss: -0.88243\n",
      "epoch: 06, loss: -0.87451\n",
      "epoch: 07, loss: -0.87086\n",
      "epoch: 08, loss: -0.88288\n",
      "epoch: 09, loss: -0.87010\n"
     ]
    },
    {
     "name": "stderr",
     "output_type": "stream",
     "text": [
      " 76%|███████▋  | 765/1000 [4:45:07<1:22:38, 21.10s/it]"
     ]
    },
    {
     "name": "stdout",
     "output_type": "stream",
     "text": [
      "eigenvalues shape torch.Size([5]) eigenvectors shape torch.Size([5, 400])\n",
      "765 /home/phdcs2/Hard_Disk/Datasets/Deep-Spectral-Segmentation/data/object-segmentation/ECSSD/features/dino_vits16/0766.pth\n",
      "dict_keys(['k', 'indices', 'file', 'id', 'model_name', 'patch_size', 'shape'])\n",
      "0766\n",
      "Starting Training\n",
      "epoch: 00, loss: -0.58195\n",
      "epoch: 01, loss: -0.82431\n",
      "epoch: 02, loss: -0.79707\n",
      "epoch: 03, loss: -0.79038\n",
      "epoch: 04, loss: -0.77310\n",
      "epoch: 05, loss: -0.78818\n",
      "epoch: 06, loss: -0.81217\n",
      "epoch: 07, loss: -0.82719\n",
      "epoch: 08, loss: -0.85754\n",
      "epoch: 09, loss: -0.86042\n"
     ]
    },
    {
     "name": "stderr",
     "output_type": "stream",
     "text": [
      " 77%|███████▋  | 766/1000 [4:45:30<1:24:16, 21.61s/it]"
     ]
    },
    {
     "name": "stdout",
     "output_type": "stream",
     "text": [
      "eigenvalues shape torch.Size([5]) eigenvectors shape torch.Size([5, 500])\n",
      "766 /home/phdcs2/Hard_Disk/Datasets/Deep-Spectral-Segmentation/data/object-segmentation/ECSSD/features/dino_vits16/0767.pth\n",
      "dict_keys(['k', 'indices', 'file', 'id', 'model_name', 'patch_size', 'shape'])\n",
      "0767\n",
      "Starting Training\n",
      "epoch: 00, loss: -0.28438\n",
      "epoch: 01, loss: -0.55859\n",
      "epoch: 02, loss: -0.64090\n",
      "epoch: 03, loss: -0.67118\n",
      "epoch: 04, loss: -0.70160\n",
      "epoch: 05, loss: -0.71639\n",
      "epoch: 06, loss: -0.67421\n",
      "epoch: 07, loss: -0.68426\n",
      "epoch: 08, loss: -0.72637\n",
      "epoch: 09, loss: -0.72849\n"
     ]
    },
    {
     "name": "stderr",
     "output_type": "stream",
     "text": [
      " 77%|███████▋  | 767/1000 [4:45:48<1:20:31, 20.74s/it]"
     ]
    },
    {
     "name": "stdout",
     "output_type": "stream",
     "text": [
      "eigenvalues shape torch.Size([5]) eigenvectors shape torch.Size([5, 400])\n",
      "767 /home/phdcs2/Hard_Disk/Datasets/Deep-Spectral-Segmentation/data/object-segmentation/ECSSD/features/dino_vits16/0768.pth\n",
      "dict_keys(['k', 'indices', 'file', 'id', 'model_name', 'patch_size', 'shape'])\n",
      "0768\n",
      "Starting Training\n",
      "epoch: 00, loss: -0.39929\n",
      "epoch: 01, loss: -0.66107\n",
      "epoch: 02, loss: -0.71015\n",
      "epoch: 03, loss: -0.72441\n",
      "epoch: 04, loss: -0.75218\n",
      "epoch: 05, loss: -0.77606\n",
      "epoch: 06, loss: -0.80080\n",
      "epoch: 07, loss: -0.80684\n",
      "epoch: 08, loss: -0.81324\n",
      "epoch: 09, loss: -0.82411\n"
     ]
    },
    {
     "name": "stderr",
     "output_type": "stream",
     "text": [
      "/home/phdcs2/Hard_Disk/Projects/T2I/deep-spectral-segmentation/venv/lib/python3.8/site-packages/scipy/sparse/linalg/_eigen/arpack/arpack.py:935: LinAlgWarning: Diagonal number 475 is exactly zero. Singular matrix.\n",
      "  self.M_lu = lu_factor(M)\n"
     ]
    },
    {
     "name": "stdout",
     "output_type": "stream",
     "text": [
      " ** On entry to SLASCL parameter number  4 had an illegal value\n",
      " ** On entry to SLASCL parameter number  4 had an illegal value\n"
     ]
    },
    {
     "name": "stderr",
     "output_type": "stream",
     "text": [
      " 77%|███████▋  | 768/1000 [4:46:14<1:25:31, 22.12s/it]"
     ]
    },
    {
     "name": "stdout",
     "output_type": "stream",
     "text": [
      "eigenvalues shape torch.Size([5]) eigenvectors shape torch.Size([5, 475])\n",
      "768 /home/phdcs2/Hard_Disk/Datasets/Deep-Spectral-Segmentation/data/object-segmentation/ECSSD/features/dino_vits16/0769.pth\n",
      "dict_keys(['k', 'indices', 'file', 'id', 'model_name', 'patch_size', 'shape'])\n",
      "0769\n",
      "Starting Training\n",
      "epoch: 00, loss: -0.57489\n",
      "epoch: 01, loss: -0.92001\n",
      "epoch: 02, loss: -0.92856\n",
      "epoch: 03, loss: -0.92750\n",
      "epoch: 04, loss: -0.90798\n",
      "epoch: 05, loss: -0.90747\n",
      "epoch: 06, loss: -0.90111\n",
      "epoch: 07, loss: -0.88460\n",
      "epoch: 08, loss: -0.90250\n",
      "epoch: 09, loss: -0.87415\n"
     ]
    },
    {
     "name": "stderr",
     "output_type": "stream",
     "text": [
      " 77%|███████▋  | 769/1000 [4:46:30<1:18:44, 20.45s/it]"
     ]
    },
    {
     "name": "stdout",
     "output_type": "stream",
     "text": [
      "eigenvalues shape torch.Size([5]) eigenvectors shape torch.Size([5, 375])\n",
      "769 /home/phdcs2/Hard_Disk/Datasets/Deep-Spectral-Segmentation/data/object-segmentation/ECSSD/features/dino_vits16/0770.pth\n",
      "dict_keys(['k', 'indices', 'file', 'id', 'model_name', 'patch_size', 'shape'])\n",
      "0770\n",
      "Starting Training\n",
      "epoch: 00, loss: -0.39466\n",
      "epoch: 01, loss: -0.66499\n",
      "epoch: 02, loss: -0.70708\n",
      "epoch: 03, loss: -0.73327\n",
      "epoch: 04, loss: -0.77233\n",
      "epoch: 05, loss: -0.78335\n",
      "epoch: 06, loss: -0.76807\n",
      "epoch: 07, loss: -0.81551\n",
      "epoch: 08, loss: -0.81965\n",
      "epoch: 09, loss: -0.83314\n"
     ]
    },
    {
     "name": "stderr",
     "output_type": "stream",
     "text": [
      " 77%|███████▋  | 770/1000 [4:46:49<1:16:12, 19.88s/it]"
     ]
    },
    {
     "name": "stdout",
     "output_type": "stream",
     "text": [
      "eigenvalues shape torch.Size([5]) eigenvectors shape torch.Size([5, 400])\n",
      "770 /home/phdcs2/Hard_Disk/Datasets/Deep-Spectral-Segmentation/data/object-segmentation/ECSSD/features/dino_vits16/0771.pth\n",
      "dict_keys(['k', 'indices', 'file', 'id', 'model_name', 'patch_size', 'shape'])\n",
      "0771\n",
      "Starting Training\n",
      "epoch: 00, loss: -0.59622\n",
      "epoch: 01, loss: -0.93210\n",
      "epoch: 02, loss: -0.92665\n",
      "epoch: 03, loss: -0.93197\n",
      "epoch: 04, loss: -0.93280\n",
      "epoch: 05, loss: -0.92841\n",
      "epoch: 06, loss: -0.91035\n",
      "epoch: 07, loss: -0.92146\n",
      "epoch: 08, loss: -0.90787\n",
      "epoch: 09, loss: -0.88456\n"
     ]
    },
    {
     "name": "stderr",
     "output_type": "stream",
     "text": [
      " 77%|███████▋  | 771/1000 [4:47:07<1:13:42, 19.31s/it]"
     ]
    },
    {
     "name": "stdout",
     "output_type": "stream",
     "text": [
      "eigenvalues shape torch.Size([5]) eigenvectors shape torch.Size([5, 400])\n",
      "771 /home/phdcs2/Hard_Disk/Datasets/Deep-Spectral-Segmentation/data/object-segmentation/ECSSD/features/dino_vits16/0772.pth\n",
      "dict_keys(['k', 'indices', 'file', 'id', 'model_name', 'patch_size', 'shape'])\n",
      "0772\n",
      "Starting Training\n",
      "epoch: 00, loss: -0.48144\n",
      "epoch: 01, loss: -0.69884\n",
      "epoch: 02, loss: -0.77425\n",
      "epoch: 03, loss: -0.80845\n",
      "epoch: 04, loss: -0.82878\n",
      "epoch: 05, loss: -0.83535\n",
      "epoch: 06, loss: -0.85694\n",
      "epoch: 07, loss: -0.87292\n",
      "epoch: 08, loss: -0.88534\n",
      "epoch: 09, loss: -0.89467\n"
     ]
    },
    {
     "name": "stderr",
     "output_type": "stream",
     "text": [
      " 77%|███████▋  | 772/1000 [4:47:26<1:13:33, 19.36s/it]"
     ]
    },
    {
     "name": "stdout",
     "output_type": "stream",
     "text": [
      "eigenvalues shape torch.Size([5]) eigenvectors shape torch.Size([5, 475])\n",
      "772 /home/phdcs2/Hard_Disk/Datasets/Deep-Spectral-Segmentation/data/object-segmentation/ECSSD/features/dino_vits16/0773.pth\n",
      "dict_keys(['k', 'indices', 'file', 'id', 'model_name', 'patch_size', 'shape'])\n",
      "0773\n",
      "Starting Training\n",
      "epoch: 00, loss: -0.52499\n",
      "epoch: 01, loss: -0.71848\n",
      "epoch: 02, loss: -0.73336\n",
      "epoch: 03, loss: -0.74548\n",
      "epoch: 04, loss: -0.80332\n",
      "epoch: 05, loss: -0.80845\n",
      "epoch: 06, loss: -0.82667\n",
      "epoch: 07, loss: -0.82482\n",
      "epoch: 08, loss: -0.83619\n",
      "epoch: 09, loss: -0.82470\n"
     ]
    },
    {
     "name": "stderr",
     "output_type": "stream",
     "text": [
      " 77%|███████▋  | 773/1000 [4:47:48<1:15:56, 20.07s/it]"
     ]
    },
    {
     "name": "stdout",
     "output_type": "stream",
     "text": [
      "eigenvalues shape torch.Size([5]) eigenvectors shape torch.Size([5, 450])\n",
      "773 /home/phdcs2/Hard_Disk/Datasets/Deep-Spectral-Segmentation/data/object-segmentation/ECSSD/features/dino_vits16/0774.pth\n",
      "dict_keys(['k', 'indices', 'file', 'id', 'model_name', 'patch_size', 'shape'])\n",
      "0774\n",
      "Starting Training\n",
      "epoch: 00, loss: -0.46833\n",
      "epoch: 01, loss: -0.74621\n",
      "epoch: 02, loss: -0.78289\n",
      "epoch: 03, loss: -0.83632\n",
      "epoch: 04, loss: -0.83273\n",
      "epoch: 05, loss: -0.77858\n",
      "epoch: 06, loss: -0.79801\n",
      "epoch: 07, loss: -0.80546\n",
      "epoch: 08, loss: -0.82733\n",
      "epoch: 09, loss: -0.83475\n"
     ]
    },
    {
     "name": "stderr",
     "output_type": "stream",
     "text": [
      " 77%|███████▋  | 774/1000 [4:48:08<1:15:41, 20.10s/it]"
     ]
    },
    {
     "name": "stdout",
     "output_type": "stream",
     "text": [
      "eigenvalues shape torch.Size([5]) eigenvectors shape torch.Size([5, 425])\n",
      "774 /home/phdcs2/Hard_Disk/Datasets/Deep-Spectral-Segmentation/data/object-segmentation/ECSSD/features/dino_vits16/0775.pth\n",
      "dict_keys(['k', 'indices', 'file', 'id', 'model_name', 'patch_size', 'shape'])\n",
      "0775\n",
      "Starting Training\n",
      "epoch: 00, loss: -0.56219\n",
      "epoch: 01, loss: -0.77171\n",
      "epoch: 02, loss: -0.77256\n",
      "epoch: 03, loss: -0.79081\n",
      "epoch: 04, loss: -0.75217\n",
      "epoch: 05, loss: -0.75603\n",
      "epoch: 06, loss: -0.75864\n",
      "epoch: 07, loss: -0.73969\n",
      "epoch: 08, loss: -0.73445\n",
      "epoch: 09, loss: -0.75838\n"
     ]
    },
    {
     "name": "stderr",
     "output_type": "stream",
     "text": [
      " 78%|███████▊  | 775/1000 [4:48:28<1:15:12, 20.06s/it]"
     ]
    },
    {
     "name": "stdout",
     "output_type": "stream",
     "text": [
      "eigenvalues shape torch.Size([5]) eigenvectors shape torch.Size([5, 400])\n",
      "775 /home/phdcs2/Hard_Disk/Datasets/Deep-Spectral-Segmentation/data/object-segmentation/ECSSD/features/dino_vits16/0776.pth\n",
      "dict_keys(['k', 'indices', 'file', 'id', 'model_name', 'patch_size', 'shape'])\n",
      "0776\n",
      "Starting Training\n",
      "epoch: 00, loss: -0.26993\n",
      "epoch: 01, loss: -0.57655\n",
      "epoch: 02, loss: -0.57835\n",
      "epoch: 03, loss: -0.62891\n",
      "epoch: 04, loss: -0.57311\n",
      "epoch: 05, loss: -0.66972\n",
      "epoch: 06, loss: -0.73677\n",
      "epoch: 07, loss: -0.76144\n",
      "epoch: 08, loss: -0.78335\n",
      "epoch: 09, loss: -0.85605\n"
     ]
    },
    {
     "name": "stderr",
     "output_type": "stream",
     "text": [
      " 78%|███████▊  | 776/1000 [4:48:46<1:12:07, 19.32s/it]"
     ]
    },
    {
     "name": "stdout",
     "output_type": "stream",
     "text": [
      "eigenvalues shape torch.Size([5]) eigenvectors shape torch.Size([5, 400])\n",
      "776 /home/phdcs2/Hard_Disk/Datasets/Deep-Spectral-Segmentation/data/object-segmentation/ECSSD/features/dino_vits16/0777.pth\n",
      "dict_keys(['k', 'indices', 'file', 'id', 'model_name', 'patch_size', 'shape'])\n",
      "0777\n",
      "Starting Training\n",
      "epoch: 00, loss: -0.54839\n",
      "epoch: 01, loss: -0.66569\n",
      "epoch: 02, loss: -0.69855\n",
      "epoch: 03, loss: -0.73777\n",
      "epoch: 04, loss: -0.75555\n",
      "epoch: 05, loss: -0.75750\n",
      "epoch: 06, loss: -0.74608\n",
      "epoch: 07, loss: -0.73040\n",
      "epoch: 08, loss: -0.72109\n",
      "epoch: 09, loss: -0.76355\n"
     ]
    },
    {
     "name": "stderr",
     "output_type": "stream",
     "text": [
      " 78%|███████▊  | 777/1000 [4:49:15<1:22:42, 22.25s/it]"
     ]
    },
    {
     "name": "stdout",
     "output_type": "stream",
     "text": [
      "eigenvalues shape torch.Size([5]) eigenvectors shape torch.Size([5, 625])\n",
      "777 /home/phdcs2/Hard_Disk/Datasets/Deep-Spectral-Segmentation/data/object-segmentation/ECSSD/features/dino_vits16/0778.pth\n",
      "dict_keys(['k', 'indices', 'file', 'id', 'model_name', 'patch_size', 'shape'])\n",
      "0778\n",
      "Starting Training\n",
      "epoch: 00, loss: -0.46772\n",
      "epoch: 01, loss: -0.86441\n",
      "epoch: 02, loss: -0.86649\n",
      "epoch: 03, loss: -0.87405\n",
      "epoch: 04, loss: -0.88703\n",
      "epoch: 05, loss: -0.89021\n",
      "epoch: 06, loss: -0.88762\n",
      "epoch: 07, loss: -0.87166\n",
      "epoch: 08, loss: -0.87047\n",
      "epoch: 09, loss: -0.85377\n"
     ]
    },
    {
     "name": "stderr",
     "output_type": "stream",
     "text": [
      " 78%|███████▊  | 778/1000 [4:49:36<1:20:58, 21.88s/it]"
     ]
    },
    {
     "name": "stdout",
     "output_type": "stream",
     "text": [
      "eigenvalues shape torch.Size([5]) eigenvectors shape torch.Size([5, 450])\n",
      "778 /home/phdcs2/Hard_Disk/Datasets/Deep-Spectral-Segmentation/data/object-segmentation/ECSSD/features/dino_vits16/0779.pth\n",
      "dict_keys(['k', 'indices', 'file', 'id', 'model_name', 'patch_size', 'shape'])\n",
      "0779\n",
      "Starting Training\n",
      "epoch: 00, loss: -0.36157\n",
      "epoch: 01, loss: -0.73418\n",
      "epoch: 02, loss: -0.71243\n",
      "epoch: 03, loss: -0.77913\n",
      "epoch: 04, loss: -0.81381\n",
      "epoch: 05, loss: -0.79285\n",
      "epoch: 06, loss: -0.81624\n",
      "epoch: 07, loss: -0.81425\n",
      "epoch: 08, loss: -0.82170\n",
      "epoch: 09, loss: -0.80234\n"
     ]
    },
    {
     "name": "stderr",
     "output_type": "stream",
     "text": [
      " 78%|███████▊  | 779/1000 [4:49:52<1:14:19, 20.18s/it]"
     ]
    },
    {
     "name": "stdout",
     "output_type": "stream",
     "text": [
      "eigenvalues shape torch.Size([5]) eigenvectors shape torch.Size([5, 375])\n",
      "779 /home/phdcs2/Hard_Disk/Datasets/Deep-Spectral-Segmentation/data/object-segmentation/ECSSD/features/dino_vits16/0780.pth\n",
      "dict_keys(['k', 'indices', 'file', 'id', 'model_name', 'patch_size', 'shape'])\n",
      "0780\n",
      "Starting Training\n",
      "epoch: 00, loss: -0.35427\n",
      "epoch: 01, loss: -0.71337\n",
      "epoch: 02, loss: -0.74239\n",
      "epoch: 03, loss: -0.77963\n",
      "epoch: 04, loss: -0.82928\n",
      "epoch: 05, loss: -0.84323\n",
      "epoch: 06, loss: -0.84429\n",
      "epoch: 07, loss: -0.85773\n",
      "epoch: 08, loss: -0.86553\n",
      "epoch: 09, loss: -0.87882\n"
     ]
    },
    {
     "name": "stderr",
     "output_type": "stream",
     "text": [
      " 78%|███████▊  | 780/1000 [4:50:10<1:11:41, 19.55s/it]"
     ]
    },
    {
     "name": "stdout",
     "output_type": "stream",
     "text": [
      "eigenvalues shape torch.Size([5]) eigenvectors shape torch.Size([5, 400])\n",
      "780 /home/phdcs2/Hard_Disk/Datasets/Deep-Spectral-Segmentation/data/object-segmentation/ECSSD/features/dino_vits16/0781.pth\n",
      "dict_keys(['k', 'indices', 'file', 'id', 'model_name', 'patch_size', 'shape'])\n",
      "0781\n",
      "Starting Training\n",
      "epoch: 00, loss: -0.37995\n",
      "epoch: 01, loss: -0.72729\n",
      "epoch: 02, loss: -0.76669\n",
      "epoch: 03, loss: -0.78629\n",
      "epoch: 04, loss: -0.79777\n",
      "epoch: 05, loss: -0.81605\n",
      "epoch: 06, loss: -0.80510\n",
      "epoch: 07, loss: -0.78877\n",
      "epoch: 08, loss: -0.81661\n",
      "epoch: 09, loss: -0.81943\n"
     ]
    },
    {
     "name": "stderr",
     "output_type": "stream",
     "text": [
      " 78%|███████▊  | 781/1000 [4:50:31<1:13:13, 20.06s/it]"
     ]
    },
    {
     "name": "stdout",
     "output_type": "stream",
     "text": [
      "eigenvalues shape torch.Size([5]) eigenvectors shape torch.Size([5, 450])\n",
      "781 /home/phdcs2/Hard_Disk/Datasets/Deep-Spectral-Segmentation/data/object-segmentation/ECSSD/features/dino_vits16/0782.pth\n",
      "dict_keys(['k', 'indices', 'file', 'id', 'model_name', 'patch_size', 'shape'])\n",
      "0782\n",
      "Starting Training\n",
      "epoch: 00, loss: -0.45885\n",
      "epoch: 01, loss: -0.82013\n",
      "epoch: 02, loss: -0.84119\n",
      "epoch: 03, loss: -0.82834\n",
      "epoch: 04, loss: -0.83869\n",
      "epoch: 05, loss: -0.84553\n",
      "epoch: 06, loss: -0.85147\n",
      "epoch: 07, loss: -0.81910\n",
      "epoch: 08, loss: -0.81704\n",
      "epoch: 09, loss: -0.82947\n"
     ]
    },
    {
     "name": "stderr",
     "output_type": "stream",
     "text": [
      " 78%|███████▊  | 782/1000 [4:50:48<1:08:41, 18.91s/it]"
     ]
    },
    {
     "name": "stdout",
     "output_type": "stream",
     "text": [
      "eigenvalues shape torch.Size([5]) eigenvectors shape torch.Size([5, 400])\n",
      "782 /home/phdcs2/Hard_Disk/Datasets/Deep-Spectral-Segmentation/data/object-segmentation/ECSSD/features/dino_vits16/0783.pth\n",
      "dict_keys(['k', 'indices', 'file', 'id', 'model_name', 'patch_size', 'shape'])\n",
      "0783\n",
      "Starting Training\n",
      "epoch: 00, loss: -0.30136\n",
      "epoch: 01, loss: -0.63052\n",
      "epoch: 02, loss: -0.62204\n",
      "epoch: 03, loss: -0.63394\n",
      "epoch: 04, loss: -0.69056\n",
      "epoch: 05, loss: -0.72063\n",
      "epoch: 06, loss: -0.71960\n",
      "epoch: 07, loss: -0.75754\n",
      "epoch: 08, loss: -0.76982\n",
      "epoch: 09, loss: -0.75818\n"
     ]
    },
    {
     "name": "stderr",
     "output_type": "stream",
     "text": [
      " 78%|███████▊  | 783/1000 [4:51:01<1:02:27, 17.27s/it]"
     ]
    },
    {
     "name": "stdout",
     "output_type": "stream",
     "text": [
      "eigenvalues shape torch.Size([5]) eigenvectors shape torch.Size([5, 300])\n",
      "783 /home/phdcs2/Hard_Disk/Datasets/Deep-Spectral-Segmentation/data/object-segmentation/ECSSD/features/dino_vits16/0784.pth\n",
      "dict_keys(['k', 'indices', 'file', 'id', 'model_name', 'patch_size', 'shape'])\n",
      "0784\n",
      "Starting Training\n",
      "epoch: 00, loss: -0.48886\n",
      "epoch: 01, loss: -0.72978\n",
      "epoch: 02, loss: -0.67450\n",
      "epoch: 03, loss: -0.72607\n",
      "epoch: 04, loss: -0.74281\n",
      "epoch: 05, loss: -0.75013\n",
      "epoch: 06, loss: -0.73918\n",
      "epoch: 07, loss: -0.72128\n",
      "epoch: 08, loss: -0.76841\n",
      "epoch: 09, loss: -0.78014\n"
     ]
    },
    {
     "name": "stderr",
     "output_type": "stream",
     "text": [
      " 78%|███████▊  | 784/1000 [4:51:25<1:09:24, 19.28s/it]"
     ]
    },
    {
     "name": "stdout",
     "output_type": "stream",
     "text": [
      "eigenvalues shape torch.Size([5]) eigenvectors shape torch.Size([5, 525])\n",
      "784 /home/phdcs2/Hard_Disk/Datasets/Deep-Spectral-Segmentation/data/object-segmentation/ECSSD/features/dino_vits16/0785.pth\n",
      "dict_keys(['k', 'indices', 'file', 'id', 'model_name', 'patch_size', 'shape'])\n",
      "0785\n",
      "Starting Training\n",
      "epoch: 00, loss: -0.37055\n",
      "epoch: 01, loss: -0.66240\n",
      "epoch: 02, loss: -0.69591\n",
      "epoch: 03, loss: -0.78909\n",
      "epoch: 04, loss: -0.81932\n",
      "epoch: 05, loss: -0.82139\n",
      "epoch: 06, loss: -0.76938\n",
      "epoch: 07, loss: -0.77937\n",
      "epoch: 08, loss: -0.79014\n",
      "epoch: 09, loss: -0.81342\n"
     ]
    },
    {
     "name": "stderr",
     "output_type": "stream",
     "text": [
      " 78%|███████▊  | 785/1000 [4:51:48<1:12:33, 20.25s/it]"
     ]
    },
    {
     "name": "stdout",
     "output_type": "stream",
     "text": [
      "eigenvalues shape torch.Size([5]) eigenvectors shape torch.Size([5, 500])\n",
      "785 /home/phdcs2/Hard_Disk/Datasets/Deep-Spectral-Segmentation/data/object-segmentation/ECSSD/features/dino_vits16/0786.pth\n",
      "dict_keys(['k', 'indices', 'file', 'id', 'model_name', 'patch_size', 'shape'])\n",
      "0786\n",
      "Starting Training\n",
      "epoch: 00, loss: -0.65425\n",
      "epoch: 01, loss: -0.89857\n",
      "epoch: 02, loss: -0.91114\n",
      "epoch: 03, loss: -0.92041\n",
      "epoch: 04, loss: -0.91583\n",
      "epoch: 05, loss: -0.91689\n",
      "epoch: 06, loss: -0.90304\n",
      "epoch: 07, loss: -0.88412\n",
      "epoch: 08, loss: -0.88517\n",
      "epoch: 09, loss: -0.89465\n"
     ]
    },
    {
     "name": "stderr",
     "output_type": "stream",
     "text": [
      " 79%|███████▊  | 786/1000 [4:52:09<1:13:35, 20.63s/it]"
     ]
    },
    {
     "name": "stdout",
     "output_type": "stream",
     "text": [
      "eigenvalues shape torch.Size([5]) eigenvectors shape torch.Size([5, 450])\n",
      "786 /home/phdcs2/Hard_Disk/Datasets/Deep-Spectral-Segmentation/data/object-segmentation/ECSSD/features/dino_vits16/0787.pth\n",
      "dict_keys(['k', 'indices', 'file', 'id', 'model_name', 'patch_size', 'shape'])\n",
      "0787\n",
      "Starting Training\n",
      "epoch: 00, loss: -0.65632\n",
      "epoch: 01, loss: -0.89515\n",
      "epoch: 02, loss: -0.89346\n",
      "epoch: 03, loss: -0.89944\n",
      "epoch: 04, loss: -0.91480\n",
      "epoch: 05, loss: -0.90664\n",
      "epoch: 06, loss: -0.89516\n",
      "epoch: 07, loss: -0.90627\n",
      "epoch: 08, loss: -0.90203\n",
      "epoch: 09, loss: -0.89833\n"
     ]
    },
    {
     "name": "stderr",
     "output_type": "stream",
     "text": [
      " 79%|███████▊  | 787/1000 [4:52:32<1:16:08, 21.45s/it]"
     ]
    },
    {
     "name": "stdout",
     "output_type": "stream",
     "text": [
      "eigenvalues shape torch.Size([5]) eigenvectors shape torch.Size([5, 550])\n",
      "787 /home/phdcs2/Hard_Disk/Datasets/Deep-Spectral-Segmentation/data/object-segmentation/ECSSD/features/dino_vits16/0788.pth\n",
      "dict_keys(['k', 'indices', 'file', 'id', 'model_name', 'patch_size', 'shape'])\n",
      "0788\n",
      "Starting Training\n",
      "epoch: 00, loss: -0.25322\n",
      "epoch: 01, loss: -0.55646\n",
      "epoch: 02, loss: -0.62296\n",
      "epoch: 03, loss: -0.67598\n",
      "epoch: 04, loss: -0.70917\n",
      "epoch: 05, loss: -0.71343\n",
      "epoch: 06, loss: -0.73151\n",
      "epoch: 07, loss: -0.73640\n",
      "epoch: 08, loss: -0.74187\n",
      "epoch: 09, loss: -0.72953\n"
     ]
    },
    {
     "name": "stderr",
     "output_type": "stream",
     "text": [
      " 79%|███████▉  | 788/1000 [4:52:53<1:14:22, 21.05s/it]"
     ]
    },
    {
     "name": "stdout",
     "output_type": "stream",
     "text": [
      "eigenvalues shape torch.Size([5]) eigenvectors shape torch.Size([5, 400])\n",
      "788 /home/phdcs2/Hard_Disk/Datasets/Deep-Spectral-Segmentation/data/object-segmentation/ECSSD/features/dino_vits16/0789.pth\n",
      "dict_keys(['k', 'indices', 'file', 'id', 'model_name', 'patch_size', 'shape'])\n",
      "0789\n",
      "Starting Training\n",
      "epoch: 00, loss: -0.38365\n",
      "epoch: 01, loss: -0.65363\n",
      "epoch: 02, loss: -0.70402\n",
      "epoch: 03, loss: -0.72233\n",
      "epoch: 04, loss: -0.75902\n",
      "epoch: 05, loss: -0.78816\n",
      "epoch: 06, loss: -0.79293\n",
      "epoch: 07, loss: -0.78331\n",
      "epoch: 08, loss: -0.79627\n",
      "epoch: 09, loss: -0.81050\n"
     ]
    },
    {
     "name": "stderr",
     "output_type": "stream",
     "text": [
      " 79%|███████▉  | 789/1000 [4:53:13<1:13:13, 20.82s/it]"
     ]
    },
    {
     "name": "stdout",
     "output_type": "stream",
     "text": [
      "eigenvalues shape torch.Size([5]) eigenvectors shape torch.Size([5, 450])\n",
      "789 /home/phdcs2/Hard_Disk/Datasets/Deep-Spectral-Segmentation/data/object-segmentation/ECSSD/features/dino_vits16/0790.pth\n",
      "dict_keys(['k', 'indices', 'file', 'id', 'model_name', 'patch_size', 'shape'])\n",
      "0790\n",
      "Starting Training\n",
      "epoch: 00, loss: -0.42422\n",
      "epoch: 01, loss: -0.66014\n",
      "epoch: 02, loss: -0.72460\n",
      "epoch: 03, loss: -0.76486\n",
      "epoch: 04, loss: -0.76729\n",
      "epoch: 05, loss: -0.77129\n",
      "epoch: 06, loss: -0.77055\n",
      "epoch: 07, loss: -0.77955\n",
      "epoch: 08, loss: -0.78619\n",
      "epoch: 09, loss: -0.76108\n"
     ]
    },
    {
     "name": "stderr",
     "output_type": "stream",
     "text": [
      " 79%|███████▉  | 790/1000 [4:53:38<1:17:12, 22.06s/it]"
     ]
    },
    {
     "name": "stdout",
     "output_type": "stream",
     "text": [
      "eigenvalues shape torch.Size([5]) eigenvectors shape torch.Size([5, 525])\n",
      "790 /home/phdcs2/Hard_Disk/Datasets/Deep-Spectral-Segmentation/data/object-segmentation/ECSSD/features/dino_vits16/0791.pth\n",
      "dict_keys(['k', 'indices', 'file', 'id', 'model_name', 'patch_size', 'shape'])\n",
      "0791\n",
      "Starting Training\n",
      "epoch: 00, loss: -0.39428\n",
      "epoch: 01, loss: -0.64819\n",
      "epoch: 02, loss: -0.62008\n",
      "epoch: 03, loss: -0.67094\n",
      "epoch: 04, loss: -0.67039\n",
      "epoch: 05, loss: -0.71035\n",
      "epoch: 06, loss: -0.75323\n",
      "epoch: 07, loss: -0.76698\n",
      "epoch: 08, loss: -0.75935\n",
      "epoch: 09, loss: -0.77698\n"
     ]
    },
    {
     "name": "stderr",
     "output_type": "stream",
     "text": [
      " 79%|███████▉  | 791/1000 [4:53:58<1:14:39, 21.43s/it]"
     ]
    },
    {
     "name": "stdout",
     "output_type": "stream",
     "text": [
      "eigenvalues shape torch.Size([5]) eigenvectors shape torch.Size([5, 450])\n",
      "791 /home/phdcs2/Hard_Disk/Datasets/Deep-Spectral-Segmentation/data/object-segmentation/ECSSD/features/dino_vits16/0792.pth\n",
      "dict_keys(['k', 'indices', 'file', 'id', 'model_name', 'patch_size', 'shape'])\n",
      "0792\n",
      "Starting Training\n",
      "epoch: 00, loss: -0.49918\n",
      "epoch: 01, loss: -0.72484\n",
      "epoch: 02, loss: -0.79114\n",
      "epoch: 03, loss: -0.84929\n",
      "epoch: 04, loss: -0.86216\n",
      "epoch: 05, loss: -0.85659\n",
      "epoch: 06, loss: -0.84888\n",
      "epoch: 07, loss: -0.86090\n",
      "epoch: 08, loss: -0.87502\n",
      "epoch: 09, loss: -0.87453\n"
     ]
    },
    {
     "name": "stderr",
     "output_type": "stream",
     "text": [
      " 79%|███████▉  | 792/1000 [4:54:18<1:12:41, 20.97s/it]"
     ]
    },
    {
     "name": "stdout",
     "output_type": "stream",
     "text": [
      "eigenvalues shape torch.Size([5]) eigenvectors shape torch.Size([5, 450])\n",
      "792 /home/phdcs2/Hard_Disk/Datasets/Deep-Spectral-Segmentation/data/object-segmentation/ECSSD/features/dino_vits16/0793.pth\n",
      "dict_keys(['k', 'indices', 'file', 'id', 'model_name', 'patch_size', 'shape'])\n",
      "0793\n",
      "Starting Training\n",
      "epoch: 00, loss: -0.35209\n",
      "epoch: 01, loss: -0.77878\n",
      "epoch: 02, loss: -0.83751\n",
      "epoch: 03, loss: -0.87351\n",
      "epoch: 04, loss: -0.87679\n",
      "epoch: 05, loss: -0.89135\n",
      "epoch: 06, loss: -0.89712\n",
      "epoch: 07, loss: -0.90108\n",
      "epoch: 08, loss: -0.88678\n",
      "epoch: 09, loss: -0.88998\n"
     ]
    },
    {
     "name": "stderr",
     "output_type": "stream",
     "text": [
      " 79%|███████▉  | 793/1000 [4:54:37<1:10:13, 20.36s/it]"
     ]
    },
    {
     "name": "stdout",
     "output_type": "stream",
     "text": [
      "eigenvalues shape torch.Size([5]) eigenvectors shape torch.Size([5, 400])\n",
      "793 /home/phdcs2/Hard_Disk/Datasets/Deep-Spectral-Segmentation/data/object-segmentation/ECSSD/features/dino_vits16/0794.pth\n",
      "dict_keys(['k', 'indices', 'file', 'id', 'model_name', 'patch_size', 'shape'])\n",
      "0794\n",
      "Starting Training\n",
      "epoch: 00, loss: -0.51931\n",
      "epoch: 01, loss: -0.71956\n",
      "epoch: 02, loss: -0.77112\n",
      "epoch: 03, loss: -0.82022\n",
      "epoch: 04, loss: -0.86604\n",
      "epoch: 05, loss: -0.87667\n",
      "epoch: 06, loss: -0.89044\n",
      "epoch: 07, loss: -0.90213\n",
      "epoch: 08, loss: -0.90104\n",
      "epoch: 09, loss: -0.91357\n"
     ]
    },
    {
     "name": "stderr",
     "output_type": "stream",
     "text": [
      " 79%|███████▉  | 794/1000 [4:54:55<1:08:10, 19.86s/it]"
     ]
    },
    {
     "name": "stdout",
     "output_type": "stream",
     "text": [
      "eigenvalues shape torch.Size([5]) eigenvectors shape torch.Size([5, 400])\n",
      "794 /home/phdcs2/Hard_Disk/Datasets/Deep-Spectral-Segmentation/data/object-segmentation/ECSSD/features/dino_vits16/0795.pth\n",
      "dict_keys(['k', 'indices', 'file', 'id', 'model_name', 'patch_size', 'shape'])\n",
      "0795\n",
      "Starting Training\n",
      "epoch: 00, loss: -0.37747\n",
      "epoch: 01, loss: -0.72329\n",
      "epoch: 02, loss: -0.82057\n",
      "epoch: 03, loss: -0.83493\n",
      "epoch: 04, loss: -0.85002\n",
      "epoch: 05, loss: -0.86191\n",
      "epoch: 06, loss: -0.85444\n",
      "epoch: 07, loss: -0.81592\n",
      "epoch: 08, loss: -0.83022\n",
      "epoch: 09, loss: -0.84626\n"
     ]
    },
    {
     "name": "stderr",
     "output_type": "stream",
     "text": [
      " 80%|███████▉  | 795/1000 [4:55:11<1:03:37, 18.62s/it]"
     ]
    },
    {
     "name": "stdout",
     "output_type": "stream",
     "text": [
      "eigenvalues shape torch.Size([5]) eigenvectors shape torch.Size([5, 375])\n",
      "795 /home/phdcs2/Hard_Disk/Datasets/Deep-Spectral-Segmentation/data/object-segmentation/ECSSD/features/dino_vits16/0796.pth\n",
      "dict_keys(['k', 'indices', 'file', 'id', 'model_name', 'patch_size', 'shape'])\n",
      "0796\n",
      "Starting Training\n",
      "epoch: 00, loss: -0.56227\n",
      "epoch: 01, loss: -0.74577\n",
      "epoch: 02, loss: -0.79242\n",
      "epoch: 03, loss: -0.75963\n",
      "epoch: 04, loss: -0.77214\n",
      "epoch: 05, loss: -0.80893\n",
      "epoch: 06, loss: -0.80864\n",
      "epoch: 07, loss: -0.82514\n",
      "epoch: 08, loss: -0.81034\n",
      "epoch: 09, loss: -0.75569\n"
     ]
    },
    {
     "name": "stderr",
     "output_type": "stream",
     "text": [
      " 80%|███████▉  | 796/1000 [4:55:35<1:08:30, 20.15s/it]"
     ]
    },
    {
     "name": "stdout",
     "output_type": "stream",
     "text": [
      "eigenvalues shape torch.Size([5]) eigenvectors shape torch.Size([5, 500])\n",
      "796 /home/phdcs2/Hard_Disk/Datasets/Deep-Spectral-Segmentation/data/object-segmentation/ECSSD/features/dino_vits16/0797.pth\n",
      "dict_keys(['k', 'indices', 'file', 'id', 'model_name', 'patch_size', 'shape'])\n",
      "0797\n",
      "Starting Training\n",
      "epoch: 00, loss: -0.50941\n",
      "epoch: 01, loss: -0.80384\n",
      "epoch: 02, loss: -0.76868\n",
      "epoch: 03, loss: -0.78492\n",
      "epoch: 04, loss: -0.82062\n",
      "epoch: 05, loss: -0.82748\n",
      "epoch: 06, loss: -0.81531\n",
      "epoch: 07, loss: -0.85657\n",
      "epoch: 08, loss: -0.86951\n",
      "epoch: 09, loss: -0.87686\n"
     ]
    },
    {
     "name": "stderr",
     "output_type": "stream",
     "text": [
      " 80%|███████▉  | 797/1000 [4:55:56<1:08:48, 20.34s/it]"
     ]
    },
    {
     "name": "stdout",
     "output_type": "stream",
     "text": [
      "eigenvalues shape torch.Size([5]) eigenvectors shape torch.Size([5, 450])\n",
      "797 /home/phdcs2/Hard_Disk/Datasets/Deep-Spectral-Segmentation/data/object-segmentation/ECSSD/features/dino_vits16/0798.pth\n",
      "dict_keys(['k', 'indices', 'file', 'id', 'model_name', 'patch_size', 'shape'])\n",
      "0798\n",
      "Starting Training\n",
      "epoch: 00, loss: -0.59991\n",
      "epoch: 01, loss: -0.88802\n",
      "epoch: 02, loss: -0.90196\n",
      "epoch: 03, loss: -0.89758\n",
      "epoch: 04, loss: -0.86903\n",
      "epoch: 05, loss: -0.83733\n",
      "epoch: 06, loss: -0.71720\n",
      "epoch: 07, loss: -0.80378\n",
      "epoch: 08, loss: -0.83847\n",
      "epoch: 09, loss: -0.87135\n"
     ]
    },
    {
     "name": "stderr",
     "output_type": "stream",
     "text": [
      " 80%|███████▉  | 798/1000 [4:56:12<1:04:23, 19.13s/it]"
     ]
    },
    {
     "name": "stdout",
     "output_type": "stream",
     "text": [
      "eigenvalues shape torch.Size([5]) eigenvectors shape torch.Size([5, 350])\n",
      "798 /home/phdcs2/Hard_Disk/Datasets/Deep-Spectral-Segmentation/data/object-segmentation/ECSSD/features/dino_vits16/0799.pth\n",
      "dict_keys(['k', 'indices', 'file', 'id', 'model_name', 'patch_size', 'shape'])\n",
      "0799\n",
      "Starting Training\n",
      "epoch: 00, loss: -0.61338\n",
      "epoch: 01, loss: -0.92676\n",
      "epoch: 02, loss: -0.92228\n",
      "epoch: 03, loss: -0.88094\n",
      "epoch: 04, loss: -0.87235\n",
      "epoch: 05, loss: -0.82625\n",
      "epoch: 06, loss: -0.86474\n",
      "epoch: 07, loss: -0.82756\n",
      "epoch: 08, loss: -0.71289\n",
      "epoch: 09, loss: -0.71467\n"
     ]
    },
    {
     "name": "stderr",
     "output_type": "stream",
     "text": [
      " 80%|███████▉  | 799/1000 [4:56:31<1:04:30, 19.26s/it]"
     ]
    },
    {
     "name": "stdout",
     "output_type": "stream",
     "text": [
      "eigenvalues shape torch.Size([5]) eigenvectors shape torch.Size([5, 400])\n",
      "799 /home/phdcs2/Hard_Disk/Datasets/Deep-Spectral-Segmentation/data/object-segmentation/ECSSD/features/dino_vits16/0800.pth\n",
      "dict_keys(['k', 'indices', 'file', 'id', 'model_name', 'patch_size', 'shape'])\n",
      "0800\n",
      "Starting Training\n",
      "epoch: 00, loss: -0.33708\n",
      "epoch: 01, loss: -0.69863\n",
      "epoch: 02, loss: -0.70444\n",
      "epoch: 03, loss: -0.74705\n",
      "epoch: 04, loss: -0.78369\n",
      "epoch: 05, loss: -0.76875\n",
      "epoch: 06, loss: -0.78016\n",
      "epoch: 07, loss: -0.79045\n",
      "epoch: 08, loss: -0.82304\n",
      "epoch: 09, loss: -0.81537\n"
     ]
    },
    {
     "name": "stderr",
     "output_type": "stream",
     "text": [
      " 80%|████████  | 800/1000 [4:56:45<58:14, 17.47s/it]  "
     ]
    },
    {
     "name": "stdout",
     "output_type": "stream",
     "text": [
      "eigenvalues shape torch.Size([5]) eigenvectors shape torch.Size([5, 350])\n",
      "800 /home/phdcs2/Hard_Disk/Datasets/Deep-Spectral-Segmentation/data/object-segmentation/ECSSD/features/dino_vits16/0801.pth\n",
      "dict_keys(['k', 'indices', 'file', 'id', 'model_name', 'patch_size', 'shape'])\n",
      "0801\n",
      "Starting Training\n",
      "epoch: 00, loss: -0.38123\n",
      "epoch: 01, loss: -0.71139\n",
      "epoch: 02, loss: -0.78455\n",
      "epoch: 03, loss: -0.81303\n",
      "epoch: 04, loss: -0.85777\n",
      "epoch: 05, loss: -0.85807\n",
      "epoch: 06, loss: -0.85772\n",
      "epoch: 07, loss: -0.88373\n",
      "epoch: 08, loss: -0.87942\n",
      "epoch: 09, loss: -0.88487\n"
     ]
    },
    {
     "name": "stderr",
     "output_type": "stream",
     "text": [
      " 80%|████████  | 801/1000 [4:57:02<58:04, 17.51s/it]"
     ]
    },
    {
     "name": "stdout",
     "output_type": "stream",
     "text": [
      "eigenvalues shape torch.Size([5]) eigenvectors shape torch.Size([5, 375])\n",
      "801 /home/phdcs2/Hard_Disk/Datasets/Deep-Spectral-Segmentation/data/object-segmentation/ECSSD/features/dino_vits16/0802.pth\n",
      "dict_keys(['k', 'indices', 'file', 'id', 'model_name', 'patch_size', 'shape'])\n",
      "0802\n",
      "Starting Training\n",
      "epoch: 00, loss: -0.63707\n",
      "epoch: 01, loss: -0.79218\n",
      "epoch: 02, loss: -0.79534\n",
      "epoch: 03, loss: -0.82209\n",
      "epoch: 04, loss: -0.82310\n",
      "epoch: 05, loss: -0.81066\n",
      "epoch: 06, loss: -0.84221\n",
      "epoch: 07, loss: -0.84070\n",
      "epoch: 08, loss: -0.86259\n",
      "epoch: 09, loss: -0.84976\n"
     ]
    },
    {
     "name": "stderr",
     "output_type": "stream",
     "text": [
      " 80%|████████  | 802/1000 [4:57:30<1:08:02, 20.62s/it]"
     ]
    },
    {
     "name": "stdout",
     "output_type": "stream",
     "text": [
      "eigenvalues shape torch.Size([5]) eigenvectors shape torch.Size([5, 625])\n",
      "802 /home/phdcs2/Hard_Disk/Datasets/Deep-Spectral-Segmentation/data/object-segmentation/ECSSD/features/dino_vits16/0803.pth\n",
      "dict_keys(['k', 'indices', 'file', 'id', 'model_name', 'patch_size', 'shape'])\n",
      "0803\n",
      "Starting Training\n",
      "epoch: 00, loss: -0.40544\n",
      "epoch: 01, loss: -0.65011\n",
      "epoch: 02, loss: -0.68989\n",
      "epoch: 03, loss: -0.70603\n",
      "epoch: 04, loss: -0.68670\n",
      "epoch: 05, loss: -0.75939\n",
      "epoch: 06, loss: -0.77319\n",
      "epoch: 07, loss: -0.79796\n",
      "epoch: 08, loss: -0.77414\n",
      "epoch: 09, loss: -0.79813\n"
     ]
    },
    {
     "name": "stderr",
     "output_type": "stream",
     "text": [
      " 80%|████████  | 803/1000 [4:57:52<1:08:24, 20.84s/it]"
     ]
    },
    {
     "name": "stdout",
     "output_type": "stream",
     "text": [
      "eigenvalues shape torch.Size([5]) eigenvectors shape torch.Size([5, 500])\n",
      "803 /home/phdcs2/Hard_Disk/Datasets/Deep-Spectral-Segmentation/data/object-segmentation/ECSSD/features/dino_vits16/0804.pth\n",
      "dict_keys(['k', 'indices', 'file', 'id', 'model_name', 'patch_size', 'shape'])\n",
      "0804\n",
      "Starting Training\n",
      "epoch: 00, loss: -0.43665\n",
      "epoch: 01, loss: -0.67871\n",
      "epoch: 02, loss: -0.71973\n",
      "epoch: 03, loss: -0.74568\n",
      "epoch: 04, loss: -0.76824\n",
      "epoch: 05, loss: -0.77755\n",
      "epoch: 06, loss: -0.81132\n",
      "epoch: 07, loss: -0.81143\n",
      "epoch: 08, loss: -0.83089\n",
      "epoch: 09, loss: -0.83256\n"
     ]
    },
    {
     "name": "stderr",
     "output_type": "stream",
     "text": [
      " 80%|████████  | 804/1000 [4:58:15<1:10:40, 21.64s/it]"
     ]
    },
    {
     "name": "stdout",
     "output_type": "stream",
     "text": [
      "eigenvalues shape torch.Size([5]) eigenvectors shape torch.Size([5, 500])\n",
      "804 /home/phdcs2/Hard_Disk/Datasets/Deep-Spectral-Segmentation/data/object-segmentation/ECSSD/features/dino_vits16/0805.pth\n",
      "dict_keys(['k', 'indices', 'file', 'id', 'model_name', 'patch_size', 'shape'])\n",
      "0805\n",
      "Starting Training\n",
      "epoch: 00, loss: -0.34934\n",
      "epoch: 01, loss: -0.69890\n",
      "epoch: 02, loss: -0.78307\n",
      "epoch: 03, loss: -0.76564\n",
      "epoch: 04, loss: -0.76950\n",
      "epoch: 05, loss: -0.76601\n",
      "epoch: 06, loss: -0.76243\n",
      "epoch: 07, loss: -0.76928\n",
      "epoch: 08, loss: -0.78201\n",
      "epoch: 09, loss: -0.78294\n"
     ]
    },
    {
     "name": "stderr",
     "output_type": "stream",
     "text": [
      " 80%|████████  | 805/1000 [4:58:33<1:06:26, 20.44s/it]"
     ]
    },
    {
     "name": "stdout",
     "output_type": "stream",
     "text": [
      "eigenvalues shape torch.Size([5]) eigenvectors shape torch.Size([5, 400])\n",
      "805 /home/phdcs2/Hard_Disk/Datasets/Deep-Spectral-Segmentation/data/object-segmentation/ECSSD/features/dino_vits16/0806.pth\n",
      "dict_keys(['k', 'indices', 'file', 'id', 'model_name', 'patch_size', 'shape'])\n",
      "0806\n",
      "Starting Training\n",
      "epoch: 00, loss: -0.27607\n",
      "epoch: 01, loss: -0.66202\n",
      "epoch: 02, loss: -0.83914\n",
      "epoch: 03, loss: -0.83648\n",
      "epoch: 04, loss: -0.85928\n",
      "epoch: 05, loss: -0.84917\n",
      "epoch: 06, loss: -0.83480\n",
      "epoch: 07, loss: -0.82175\n",
      "epoch: 08, loss: -0.77334\n",
      "epoch: 09, loss: -0.77758\n"
     ]
    },
    {
     "name": "stderr",
     "output_type": "stream",
     "text": [
      " 81%|████████  | 806/1000 [4:58:52<1:04:57, 20.09s/it]"
     ]
    },
    {
     "name": "stdout",
     "output_type": "stream",
     "text": [
      "eigenvalues shape torch.Size([5]) eigenvectors shape torch.Size([5, 425])\n",
      "806 /home/phdcs2/Hard_Disk/Datasets/Deep-Spectral-Segmentation/data/object-segmentation/ECSSD/features/dino_vits16/0807.pth\n",
      "dict_keys(['k', 'indices', 'file', 'id', 'model_name', 'patch_size', 'shape'])\n",
      "0807\n",
      "Starting Training\n",
      "epoch: 00, loss: -0.42513\n",
      "epoch: 01, loss: -0.84605\n",
      "epoch: 02, loss: -0.93881\n",
      "epoch: 03, loss: -0.92424\n",
      "epoch: 04, loss: -0.92953\n",
      "epoch: 05, loss: -0.91518\n",
      "epoch: 06, loss: -0.90404\n",
      "epoch: 07, loss: -0.89165\n",
      "epoch: 08, loss: -0.91464\n",
      "epoch: 09, loss: -0.88939\n"
     ]
    },
    {
     "name": "stderr",
     "output_type": "stream",
     "text": [
      " 81%|████████  | 807/1000 [4:59:13<1:05:49, 20.46s/it]"
     ]
    },
    {
     "name": "stdout",
     "output_type": "stream",
     "text": [
      "eigenvalues shape torch.Size([5]) eigenvectors shape torch.Size([5, 450])\n",
      "807 /home/phdcs2/Hard_Disk/Datasets/Deep-Spectral-Segmentation/data/object-segmentation/ECSSD/features/dino_vits16/0808.pth\n",
      "dict_keys(['k', 'indices', 'file', 'id', 'model_name', 'patch_size', 'shape'])\n",
      "0808\n",
      "Starting Training\n",
      "epoch: 00, loss: -0.31292\n",
      "epoch: 01, loss: -0.74772\n",
      "epoch: 02, loss: -0.78040\n",
      "epoch: 03, loss: -0.78180\n",
      "epoch: 04, loss: -0.81730\n",
      "epoch: 05, loss: -0.84209\n",
      "epoch: 06, loss: -0.85058\n",
      "epoch: 07, loss: -0.83654\n",
      "epoch: 08, loss: -0.85144\n",
      "epoch: 09, loss: -0.86220\n"
     ]
    },
    {
     "name": "stderr",
     "output_type": "stream",
     "text": [
      " 81%|████████  | 808/1000 [4:59:35<1:06:22, 20.74s/it]"
     ]
    },
    {
     "name": "stdout",
     "output_type": "stream",
     "text": [
      "eigenvalues shape torch.Size([5]) eigenvectors shape torch.Size([5, 450])\n",
      "808 /home/phdcs2/Hard_Disk/Datasets/Deep-Spectral-Segmentation/data/object-segmentation/ECSSD/features/dino_vits16/0809.pth\n",
      "dict_keys(['k', 'indices', 'file', 'id', 'model_name', 'patch_size', 'shape'])\n",
      "0809\n",
      "Starting Training\n",
      "epoch: 00, loss: -0.33667\n",
      "epoch: 01, loss: -0.66026\n",
      "epoch: 02, loss: -0.70691\n",
      "epoch: 03, loss: -0.73134\n",
      "epoch: 04, loss: -0.72651\n",
      "epoch: 05, loss: -0.75799\n",
      "epoch: 06, loss: -0.77276\n",
      "epoch: 07, loss: -0.77417\n",
      "epoch: 08, loss: -0.78184\n",
      "epoch: 09, loss: -0.79076\n"
     ]
    },
    {
     "name": "stderr",
     "output_type": "stream",
     "text": [
      " 81%|████████  | 809/1000 [4:59:57<1:07:17, 21.14s/it]"
     ]
    },
    {
     "name": "stdout",
     "output_type": "stream",
     "text": [
      "eigenvalues shape torch.Size([5]) eigenvectors shape torch.Size([5, 500])\n",
      "809 /home/phdcs2/Hard_Disk/Datasets/Deep-Spectral-Segmentation/data/object-segmentation/ECSSD/features/dino_vits16/0810.pth\n",
      "dict_keys(['k', 'indices', 'file', 'id', 'model_name', 'patch_size', 'shape'])\n",
      "0810\n",
      "Starting Training\n",
      "epoch: 00, loss: -0.46369\n",
      "epoch: 01, loss: -0.76992\n",
      "epoch: 02, loss: -0.76793\n",
      "epoch: 03, loss: -0.75056\n",
      "epoch: 04, loss: -0.74712\n",
      "epoch: 05, loss: -0.73972\n",
      "epoch: 06, loss: -0.77131\n",
      "epoch: 07, loss: -0.80308\n",
      "epoch: 08, loss: -0.80406\n",
      "epoch: 09, loss: -0.80777\n"
     ]
    },
    {
     "name": "stderr",
     "output_type": "stream",
     "text": [
      " 81%|████████  | 810/1000 [5:00:18<1:06:36, 21.03s/it]"
     ]
    },
    {
     "name": "stdout",
     "output_type": "stream",
     "text": [
      "eigenvalues shape torch.Size([5]) eigenvectors shape torch.Size([5, 450])\n",
      "810 /home/phdcs2/Hard_Disk/Datasets/Deep-Spectral-Segmentation/data/object-segmentation/ECSSD/features/dino_vits16/0811.pth\n",
      "dict_keys(['k', 'indices', 'file', 'id', 'model_name', 'patch_size', 'shape'])\n",
      "0811\n",
      "Starting Training\n",
      "epoch: 00, loss: -0.47629\n",
      "epoch: 01, loss: -0.76760\n",
      "epoch: 02, loss: -0.78141\n",
      "epoch: 03, loss: -0.79346\n",
      "epoch: 04, loss: -0.83926\n",
      "epoch: 05, loss: -0.84816\n",
      "epoch: 06, loss: -0.84204\n",
      "epoch: 07, loss: -0.85067\n",
      "epoch: 08, loss: -0.84787\n",
      "epoch: 09, loss: -0.85821\n"
     ]
    },
    {
     "name": "stderr",
     "output_type": "stream",
     "text": [
      " 81%|████████  | 811/1000 [5:00:35<1:03:10, 20.05s/it]"
     ]
    },
    {
     "name": "stdout",
     "output_type": "stream",
     "text": [
      "eigenvalues shape torch.Size([5]) eigenvectors shape torch.Size([5, 400])\n",
      "811 /home/phdcs2/Hard_Disk/Datasets/Deep-Spectral-Segmentation/data/object-segmentation/ECSSD/features/dino_vits16/0812.pth\n",
      "dict_keys(['k', 'indices', 'file', 'id', 'model_name', 'patch_size', 'shape'])\n",
      "0812\n",
      "Starting Training\n",
      "epoch: 00, loss: -0.70524\n",
      "epoch: 01, loss: -0.93219\n",
      "epoch: 02, loss: -0.92035\n",
      "epoch: 03, loss: -0.93778\n",
      "epoch: 04, loss: -0.93832\n",
      "epoch: 05, loss: -0.91724\n",
      "epoch: 06, loss: -0.91747\n",
      "epoch: 07, loss: -0.93180\n",
      "epoch: 08, loss: -0.91434\n",
      "epoch: 09, loss: -0.91437\n"
     ]
    },
    {
     "name": "stderr",
     "output_type": "stream",
     "text": [
      " 81%|████████  | 812/1000 [5:00:53<1:00:57, 19.45s/it]"
     ]
    },
    {
     "name": "stdout",
     "output_type": "stream",
     "text": [
      "eigenvalues shape torch.Size([5]) eigenvectors shape torch.Size([5, 400])\n",
      "812 /home/phdcs2/Hard_Disk/Datasets/Deep-Spectral-Segmentation/data/object-segmentation/ECSSD/features/dino_vits16/0813.pth\n",
      "dict_keys(['k', 'indices', 'file', 'id', 'model_name', 'patch_size', 'shape'])\n",
      "0813\n",
      "Starting Training\n",
      "epoch: 00, loss: -0.30812\n",
      "epoch: 01, loss: -0.66996\n",
      "epoch: 02, loss: -0.75073\n",
      "epoch: 03, loss: -0.77227\n",
      "epoch: 04, loss: -0.74089\n",
      "epoch: 05, loss: -0.77222\n",
      "epoch: 06, loss: -0.79385\n",
      "epoch: 07, loss: -0.81067\n",
      "epoch: 08, loss: -0.81027\n",
      "epoch: 09, loss: -0.77613\n"
     ]
    },
    {
     "name": "stderr",
     "output_type": "stream",
     "text": [
      " 81%|████████▏ | 813/1000 [5:01:10<58:20, 18.72s/it]  "
     ]
    },
    {
     "name": "stdout",
     "output_type": "stream",
     "text": [
      "eigenvalues shape torch.Size([5]) eigenvectors shape torch.Size([5, 400])\n",
      "813 /home/phdcs2/Hard_Disk/Datasets/Deep-Spectral-Segmentation/data/object-segmentation/ECSSD/features/dino_vits16/0814.pth\n",
      "dict_keys(['k', 'indices', 'file', 'id', 'model_name', 'patch_size', 'shape'])\n",
      "0814\n",
      "Starting Training\n",
      "epoch: 00, loss: -0.47880\n",
      "epoch: 01, loss: -0.86467\n",
      "epoch: 02, loss: -0.86193\n",
      "epoch: 03, loss: -0.88817\n",
      "epoch: 04, loss: -0.84133\n",
      "epoch: 05, loss: -0.72394\n",
      "epoch: 06, loss: -0.75964\n",
      "epoch: 07, loss: -0.77836\n",
      "epoch: 08, loss: -0.78995\n",
      "epoch: 09, loss: -0.78284\n"
     ]
    },
    {
     "name": "stderr",
     "output_type": "stream",
     "text": [
      " 81%|████████▏ | 814/1000 [5:01:29<57:46, 18.64s/it]"
     ]
    },
    {
     "name": "stdout",
     "output_type": "stream",
     "text": [
      "eigenvalues shape torch.Size([5]) eigenvectors shape torch.Size([5, 400])\n",
      "814 /home/phdcs2/Hard_Disk/Datasets/Deep-Spectral-Segmentation/data/object-segmentation/ECSSD/features/dino_vits16/0815.pth\n",
      "dict_keys(['k', 'indices', 'file', 'id', 'model_name', 'patch_size', 'shape'])\n",
      "0815\n",
      "Starting Training\n",
      "epoch: 00, loss: -0.37387\n",
      "epoch: 01, loss: -0.62747\n",
      "epoch: 02, loss: -0.68286\n",
      "epoch: 03, loss: -0.72462\n",
      "epoch: 04, loss: -0.75244\n",
      "epoch: 05, loss: -0.79607\n",
      "epoch: 06, loss: -0.72160\n",
      "epoch: 07, loss: -0.82096\n",
      "epoch: 08, loss: -0.85689\n",
      "epoch: 09, loss: -0.87150\n"
     ]
    },
    {
     "name": "stderr",
     "output_type": "stream",
     "text": [
      " 82%|████████▏ | 815/1000 [5:01:48<57:58, 18.80s/it]"
     ]
    },
    {
     "name": "stdout",
     "output_type": "stream",
     "text": [
      "eigenvalues shape torch.Size([5]) eigenvectors shape torch.Size([5, 400])\n",
      "815 /home/phdcs2/Hard_Disk/Datasets/Deep-Spectral-Segmentation/data/object-segmentation/ECSSD/features/dino_vits16/0816.pth\n",
      "dict_keys(['k', 'indices', 'file', 'id', 'model_name', 'patch_size', 'shape'])\n",
      "0816\n",
      "Starting Training\n",
      "epoch: 00, loss: -0.27844\n",
      "epoch: 01, loss: -0.73016\n",
      "epoch: 02, loss: -0.77221\n",
      "epoch: 03, loss: -0.75366\n",
      "epoch: 04, loss: -0.74278\n",
      "epoch: 05, loss: -0.77668\n",
      "epoch: 06, loss: -0.78361\n",
      "epoch: 07, loss: -0.80349\n",
      "epoch: 08, loss: -0.77123\n",
      "epoch: 09, loss: -0.77926\n"
     ]
    },
    {
     "name": "stderr",
     "output_type": "stream",
     "text": [
      " 82%|████████▏ | 816/1000 [5:02:08<58:26, 19.06s/it]"
     ]
    },
    {
     "name": "stdout",
     "output_type": "stream",
     "text": [
      "eigenvalues shape torch.Size([5]) eigenvectors shape torch.Size([5, 450])\n",
      "816 /home/phdcs2/Hard_Disk/Datasets/Deep-Spectral-Segmentation/data/object-segmentation/ECSSD/features/dino_vits16/0817.pth\n",
      "dict_keys(['k', 'indices', 'file', 'id', 'model_name', 'patch_size', 'shape'])\n",
      "0817\n",
      "Starting Training\n",
      "epoch: 00, loss: -0.70517\n",
      "epoch: 01, loss: -0.94290\n",
      "epoch: 02, loss: -0.91404\n",
      "epoch: 03, loss: -0.89754\n",
      "epoch: 04, loss: -0.88541\n",
      "epoch: 05, loss: -0.88197\n",
      "epoch: 06, loss: -0.88763\n",
      "epoch: 07, loss: -0.88758\n",
      "epoch: 08, loss: -0.89272\n",
      "epoch: 09, loss: -0.90473\n"
     ]
    },
    {
     "name": "stderr",
     "output_type": "stream",
     "text": [
      " 82%|████████▏ | 817/1000 [5:02:28<59:44, 19.59s/it]"
     ]
    },
    {
     "name": "stdout",
     "output_type": "stream",
     "text": [
      "eigenvalues shape torch.Size([5]) eigenvectors shape torch.Size([5, 450])\n",
      "817 /home/phdcs2/Hard_Disk/Datasets/Deep-Spectral-Segmentation/data/object-segmentation/ECSSD/features/dino_vits16/0818.pth\n",
      "dict_keys(['k', 'indices', 'file', 'id', 'model_name', 'patch_size', 'shape'])\n",
      "0818\n",
      "Starting Training\n",
      "epoch: 00, loss: -0.70671\n",
      "epoch: 01, loss: -0.91271\n",
      "epoch: 02, loss: -0.86769\n",
      "epoch: 03, loss: -0.87577\n",
      "epoch: 04, loss: -0.87927\n",
      "epoch: 05, loss: -0.87848\n",
      "epoch: 06, loss: -0.85845\n",
      "epoch: 07, loss: -0.72875\n",
      "epoch: 08, loss: -0.77614\n",
      "epoch: 09, loss: -0.83110\n"
     ]
    },
    {
     "name": "stderr",
     "output_type": "stream",
     "text": [
      " 82%|████████▏ | 818/1000 [5:02:52<1:03:19, 20.88s/it]"
     ]
    },
    {
     "name": "stdout",
     "output_type": "stream",
     "text": [
      "eigenvalues shape torch.Size([5]) eigenvectors shape torch.Size([5, 525])\n",
      "818 /home/phdcs2/Hard_Disk/Datasets/Deep-Spectral-Segmentation/data/object-segmentation/ECSSD/features/dino_vits16/0819.pth\n",
      "dict_keys(['k', 'indices', 'file', 'id', 'model_name', 'patch_size', 'shape'])\n",
      "0819\n",
      "Starting Training\n",
      "epoch: 00, loss: -0.26883\n",
      "epoch: 01, loss: -0.52786\n",
      "epoch: 02, loss: -0.63008\n",
      "epoch: 03, loss: -0.70507\n",
      "epoch: 04, loss: -0.76793\n",
      "epoch: 05, loss: -0.78186\n",
      "epoch: 06, loss: -0.79056\n",
      "epoch: 07, loss: -0.72845\n",
      "epoch: 08, loss: -0.74954\n",
      "epoch: 09, loss: -0.78645\n"
     ]
    },
    {
     "name": "stderr",
     "output_type": "stream",
     "text": [
      " 82%|████████▏ | 819/1000 [5:03:10<1:00:12, 19.96s/it]"
     ]
    },
    {
     "name": "stdout",
     "output_type": "stream",
     "text": [
      "eigenvalues shape torch.Size([5]) eigenvectors shape torch.Size([5, 425])\n",
      "819 /home/phdcs2/Hard_Disk/Datasets/Deep-Spectral-Segmentation/data/object-segmentation/ECSSD/features/dino_vits16/0820.pth\n",
      "dict_keys(['k', 'indices', 'file', 'id', 'model_name', 'patch_size', 'shape'])\n",
      "0820\n",
      "Starting Training\n",
      "epoch: 00, loss: -0.44851\n",
      "epoch: 01, loss: -0.73980\n",
      "epoch: 02, loss: -0.77807\n",
      "epoch: 03, loss: -0.78724\n",
      "epoch: 04, loss: -0.84050\n",
      "epoch: 05, loss: -0.84477\n",
      "epoch: 06, loss: -0.84093\n",
      "epoch: 07, loss: -0.84210\n",
      "epoch: 08, loss: -0.83954\n",
      "epoch: 09, loss: -0.84651\n"
     ]
    },
    {
     "name": "stderr",
     "output_type": "stream",
     "text": [
      " 82%|████████▏ | 820/1000 [5:03:31<1:01:00, 20.34s/it]"
     ]
    },
    {
     "name": "stdout",
     "output_type": "stream",
     "text": [
      "eigenvalues shape torch.Size([5]) eigenvectors shape torch.Size([5, 450])\n",
      "820 /home/phdcs2/Hard_Disk/Datasets/Deep-Spectral-Segmentation/data/object-segmentation/ECSSD/features/dino_vits16/0821.pth\n",
      "dict_keys(['k', 'indices', 'file', 'id', 'model_name', 'patch_size', 'shape'])\n",
      "0821\n",
      "Starting Training\n",
      "epoch: 00, loss: -0.59060\n",
      "epoch: 01, loss: -0.78700\n",
      "epoch: 02, loss: -0.77479\n",
      "epoch: 03, loss: -0.77639\n",
      "epoch: 04, loss: -0.79489\n",
      "epoch: 05, loss: -0.80000\n",
      "epoch: 06, loss: -0.82710\n",
      "epoch: 07, loss: -0.84621\n",
      "epoch: 08, loss: -0.86744\n",
      "epoch: 09, loss: -0.87912\n"
     ]
    },
    {
     "name": "stderr",
     "output_type": "stream",
     "text": [
      " 82%|████████▏ | 821/1000 [5:03:48<57:40, 19.33s/it]  "
     ]
    },
    {
     "name": "stdout",
     "output_type": "stream",
     "text": [
      "eigenvalues shape torch.Size([5]) eigenvectors shape torch.Size([5, 450])\n",
      "821 /home/phdcs2/Hard_Disk/Datasets/Deep-Spectral-Segmentation/data/object-segmentation/ECSSD/features/dino_vits16/0822.pth\n",
      "dict_keys(['k', 'indices', 'file', 'id', 'model_name', 'patch_size', 'shape'])\n",
      "0822\n",
      "Starting Training\n",
      "epoch: 00, loss: -0.51684\n",
      "epoch: 01, loss: -0.78858\n",
      "epoch: 02, loss: -0.72635\n",
      "epoch: 03, loss: -0.72348\n",
      "epoch: 04, loss: -0.70128\n",
      "epoch: 05, loss: -0.73597\n",
      "epoch: 06, loss: -0.74665\n",
      "epoch: 07, loss: -0.76532\n",
      "epoch: 08, loss: -0.78650\n",
      "epoch: 09, loss: -0.80639\n"
     ]
    },
    {
     "name": "stderr",
     "output_type": "stream",
     "text": [
      " 82%|████████▏ | 822/1000 [5:04:10<59:13, 19.96s/it]"
     ]
    },
    {
     "name": "stdout",
     "output_type": "stream",
     "text": [
      "eigenvalues shape torch.Size([5]) eigenvectors shape torch.Size([5, 450])\n",
      "822 /home/phdcs2/Hard_Disk/Datasets/Deep-Spectral-Segmentation/data/object-segmentation/ECSSD/features/dino_vits16/0823.pth\n",
      "dict_keys(['k', 'indices', 'file', 'id', 'model_name', 'patch_size', 'shape'])\n",
      "0823\n",
      "Starting Training\n",
      "epoch: 00, loss: -0.60973\n",
      "epoch: 01, loss: -0.87774\n",
      "epoch: 02, loss: -0.92164\n",
      "epoch: 03, loss: -0.93008\n",
      "epoch: 04, loss: -0.92937\n",
      "epoch: 05, loss: -0.92906\n",
      "epoch: 06, loss: -0.92797\n",
      "epoch: 07, loss: -0.92604\n",
      "epoch: 08, loss: -0.92391\n",
      "epoch: 09, loss: -0.93051\n"
     ]
    },
    {
     "name": "stderr",
     "output_type": "stream",
     "text": [
      " 82%|████████▏ | 823/1000 [5:04:31<59:52, 20.30s/it]"
     ]
    },
    {
     "name": "stdout",
     "output_type": "stream",
     "text": [
      "eigenvalues shape torch.Size([5]) eigenvectors shape torch.Size([5, 450])\n",
      "823 /home/phdcs2/Hard_Disk/Datasets/Deep-Spectral-Segmentation/data/object-segmentation/ECSSD/features/dino_vits16/0824.pth\n",
      "dict_keys(['k', 'indices', 'file', 'id', 'model_name', 'patch_size', 'shape'])\n",
      "0824\n",
      "Starting Training\n",
      "epoch: 00, loss: -0.33376\n",
      "epoch: 01, loss: -0.69284\n",
      "epoch: 02, loss: -0.75676\n",
      "epoch: 03, loss: -0.64815\n",
      "epoch: 04, loss: -0.68496\n",
      "epoch: 05, loss: -0.73938\n",
      "epoch: 06, loss: -0.72845\n",
      "epoch: 07, loss: -0.72122\n",
      "epoch: 08, loss: -0.73033\n",
      "epoch: 09, loss: -0.71307\n"
     ]
    },
    {
     "name": "stderr",
     "output_type": "stream",
     "text": [
      " 82%|████████▏ | 824/1000 [5:04:48<56:34, 19.29s/it]"
     ]
    },
    {
     "name": "stdout",
     "output_type": "stream",
     "text": [
      "eigenvalues shape torch.Size([5]) eigenvectors shape torch.Size([5, 400])\n",
      "824 /home/phdcs2/Hard_Disk/Datasets/Deep-Spectral-Segmentation/data/object-segmentation/ECSSD/features/dino_vits16/0825.pth\n",
      "dict_keys(['k', 'indices', 'file', 'id', 'model_name', 'patch_size', 'shape'])\n",
      "0825\n",
      "Starting Training\n",
      "epoch: 00, loss: -0.48988\n",
      "epoch: 01, loss: -0.80844\n",
      "epoch: 02, loss: -0.83373\n",
      "epoch: 03, loss: -0.81478\n",
      "epoch: 04, loss: -0.84512\n",
      "epoch: 05, loss: -0.82916\n",
      "epoch: 06, loss: -0.80228\n",
      "epoch: 07, loss: -0.82917\n",
      "epoch: 08, loss: -0.80471\n",
      "epoch: 09, loss: -0.78201\n"
     ]
    },
    {
     "name": "stderr",
     "output_type": "stream",
     "text": [
      " 82%|████████▎ | 825/1000 [5:05:07<55:53, 19.16s/it]"
     ]
    },
    {
     "name": "stdout",
     "output_type": "stream",
     "text": [
      "eigenvalues shape torch.Size([5]) eigenvectors shape torch.Size([5, 400])\n",
      "825 /home/phdcs2/Hard_Disk/Datasets/Deep-Spectral-Segmentation/data/object-segmentation/ECSSD/features/dino_vits16/0826.pth\n",
      "dict_keys(['k', 'indices', 'file', 'id', 'model_name', 'patch_size', 'shape'])\n",
      "0826\n",
      "Starting Training\n",
      "epoch: 00, loss: -0.23967\n",
      "epoch: 01, loss: -0.64630\n",
      "epoch: 02, loss: -0.71549\n",
      "epoch: 03, loss: -0.76108\n",
      "epoch: 04, loss: -0.80550\n",
      "epoch: 05, loss: -0.83018\n",
      "epoch: 06, loss: -0.80446\n",
      "epoch: 07, loss: -0.82409\n",
      "epoch: 08, loss: -0.84963\n",
      "epoch: 09, loss: -0.84871\n"
     ]
    },
    {
     "name": "stderr",
     "output_type": "stream",
     "text": [
      " 83%|████████▎ | 826/1000 [5:05:25<54:55, 18.94s/it]"
     ]
    },
    {
     "name": "stdout",
     "output_type": "stream",
     "text": [
      "eigenvalues shape torch.Size([5]) eigenvectors shape torch.Size([5, 400])\n",
      "826 /home/phdcs2/Hard_Disk/Datasets/Deep-Spectral-Segmentation/data/object-segmentation/ECSSD/features/dino_vits16/0827.pth\n",
      "dict_keys(['k', 'indices', 'file', 'id', 'model_name', 'patch_size', 'shape'])\n",
      "0827\n",
      "Starting Training\n",
      "epoch: 00, loss: -0.34196\n",
      "epoch: 01, loss: -0.68077\n",
      "epoch: 02, loss: -0.72426\n",
      "epoch: 03, loss: -0.75602\n",
      "epoch: 04, loss: -0.74256\n",
      "epoch: 05, loss: -0.77700\n",
      "epoch: 06, loss: -0.80578\n",
      "epoch: 07, loss: -0.82919\n",
      "epoch: 08, loss: -0.79915\n",
      "epoch: 09, loss: -0.81665\n"
     ]
    },
    {
     "name": "stderr",
     "output_type": "stream",
     "text": [
      " 83%|████████▎ | 827/1000 [5:05:43<53:23, 18.52s/it]"
     ]
    },
    {
     "name": "stdout",
     "output_type": "stream",
     "text": [
      "eigenvalues shape torch.Size([5]) eigenvectors shape torch.Size([5, 375])\n",
      "827 /home/phdcs2/Hard_Disk/Datasets/Deep-Spectral-Segmentation/data/object-segmentation/ECSSD/features/dino_vits16/0828.pth\n",
      "dict_keys(['k', 'indices', 'file', 'id', 'model_name', 'patch_size', 'shape'])\n",
      "0828\n",
      "Starting Training\n",
      "epoch: 00, loss: -0.52900\n",
      "epoch: 01, loss: -0.73142\n",
      "epoch: 02, loss: -0.68901\n",
      "epoch: 03, loss: -0.70307\n",
      "epoch: 04, loss: -0.74407\n",
      "epoch: 05, loss: -0.72931\n",
      "epoch: 06, loss: -0.77101\n",
      "epoch: 07, loss: -0.75749\n",
      "epoch: 08, loss: -0.76006\n",
      "epoch: 09, loss: -0.72597\n"
     ]
    },
    {
     "name": "stderr",
     "output_type": "stream",
     "text": [
      " 83%|████████▎ | 828/1000 [5:06:02<53:25, 18.64s/it]"
     ]
    },
    {
     "name": "stdout",
     "output_type": "stream",
     "text": [
      "eigenvalues shape torch.Size([5]) eigenvectors shape torch.Size([5, 425])\n",
      "828 /home/phdcs2/Hard_Disk/Datasets/Deep-Spectral-Segmentation/data/object-segmentation/ECSSD/features/dino_vits16/0829.pth\n",
      "dict_keys(['k', 'indices', 'file', 'id', 'model_name', 'patch_size', 'shape'])\n",
      "0829\n",
      "Starting Training\n",
      "epoch: 00, loss: -0.55868\n",
      "epoch: 01, loss: -0.80973\n",
      "epoch: 02, loss: -0.87180\n",
      "epoch: 03, loss: -0.88919\n",
      "epoch: 04, loss: -0.90175\n",
      "epoch: 05, loss: -0.91018\n",
      "epoch: 06, loss: -0.90310\n",
      "epoch: 07, loss: -0.91786\n",
      "epoch: 08, loss: -0.90778\n",
      "epoch: 09, loss: -0.92304\n"
     ]
    },
    {
     "name": "stderr",
     "output_type": "stream",
     "text": [
      " 83%|████████▎ | 829/1000 [5:06:28<59:46, 20.97s/it]"
     ]
    },
    {
     "name": "stdout",
     "output_type": "stream",
     "text": [
      "eigenvalues shape torch.Size([5]) eigenvectors shape torch.Size([5, 500])\n",
      "829 /home/phdcs2/Hard_Disk/Datasets/Deep-Spectral-Segmentation/data/object-segmentation/ECSSD/features/dino_vits16/0830.pth\n",
      "dict_keys(['k', 'indices', 'file', 'id', 'model_name', 'patch_size', 'shape'])\n",
      "0830\n",
      "Starting Training\n",
      "epoch: 00, loss: -0.54114\n",
      "epoch: 01, loss: -0.86745\n",
      "epoch: 02, loss: -0.88976\n",
      "epoch: 03, loss: -0.89096\n",
      "epoch: 04, loss: -0.91373\n",
      "epoch: 05, loss: -0.90307\n",
      "epoch: 06, loss: -0.89937\n",
      "epoch: 07, loss: -0.90876\n",
      "epoch: 08, loss: -0.92104\n",
      "epoch: 09, loss: -0.92086\n"
     ]
    },
    {
     "name": "stderr",
     "output_type": "stream",
     "text": [
      " 83%|████████▎ | 830/1000 [5:06:45<55:51, 19.72s/it]"
     ]
    },
    {
     "name": "stdout",
     "output_type": "stream",
     "text": [
      "eigenvalues shape torch.Size([5]) eigenvectors shape torch.Size([5, 400])\n",
      "830 /home/phdcs2/Hard_Disk/Datasets/Deep-Spectral-Segmentation/data/object-segmentation/ECSSD/features/dino_vits16/0831.pth\n",
      "dict_keys(['k', 'indices', 'file', 'id', 'model_name', 'patch_size', 'shape'])\n",
      "0831\n",
      "Starting Training\n",
      "epoch: 00, loss: -0.52023\n",
      "epoch: 01, loss: -0.75383\n",
      "epoch: 02, loss: -0.78230\n",
      "epoch: 03, loss: -0.70419\n",
      "epoch: 04, loss: -0.73730\n",
      "epoch: 05, loss: -0.75786\n",
      "epoch: 06, loss: -0.76614\n",
      "epoch: 07, loss: -0.78916\n",
      "epoch: 08, loss: -0.78953\n",
      "epoch: 09, loss: -0.76337\n"
     ]
    },
    {
     "name": "stderr",
     "output_type": "stream",
     "text": [
      " 83%|████████▎ | 831/1000 [5:07:04<55:02, 19.54s/it]"
     ]
    },
    {
     "name": "stdout",
     "output_type": "stream",
     "text": [
      "eigenvalues shape torch.Size([5]) eigenvectors shape torch.Size([5, 400])\n",
      "831 /home/phdcs2/Hard_Disk/Datasets/Deep-Spectral-Segmentation/data/object-segmentation/ECSSD/features/dino_vits16/0832.pth\n",
      "dict_keys(['k', 'indices', 'file', 'id', 'model_name', 'patch_size', 'shape'])\n",
      "0832\n",
      "Starting Training\n",
      "epoch: 00, loss: -0.50904\n",
      "epoch: 01, loss: -0.78886\n",
      "epoch: 02, loss: -0.77806\n",
      "epoch: 03, loss: -0.77737\n",
      "epoch: 04, loss: -0.77914\n",
      "epoch: 05, loss: -0.78830\n",
      "epoch: 06, loss: -0.83520\n",
      "epoch: 07, loss: -0.84856\n",
      "epoch: 08, loss: -0.72806\n",
      "epoch: 09, loss: -0.77474\n"
     ]
    },
    {
     "name": "stderr",
     "output_type": "stream",
     "text": [
      " 83%|████████▎ | 832/1000 [5:07:27<57:41, 20.60s/it]"
     ]
    },
    {
     "name": "stdout",
     "output_type": "stream",
     "text": [
      "eigenvalues shape torch.Size([5]) eigenvectors shape torch.Size([5, 500])\n",
      "832 /home/phdcs2/Hard_Disk/Datasets/Deep-Spectral-Segmentation/data/object-segmentation/ECSSD/features/dino_vits16/0833.pth\n",
      "dict_keys(['k', 'indices', 'file', 'id', 'model_name', 'patch_size', 'shape'])\n",
      "0833\n",
      "Starting Training\n",
      "epoch: 00, loss: -0.38339\n",
      "epoch: 01, loss: -0.75288\n",
      "epoch: 02, loss: -0.81348\n",
      "epoch: 03, loss: -0.86281\n",
      "epoch: 04, loss: -0.86424\n",
      "epoch: 05, loss: -0.88129\n",
      "epoch: 06, loss: -0.86918\n",
      "epoch: 07, loss: -0.87528\n",
      "epoch: 08, loss: -0.86012\n",
      "epoch: 09, loss: -0.88076\n"
     ]
    },
    {
     "name": "stderr",
     "output_type": "stream",
     "text": [
      " 83%|████████▎ | 833/1000 [5:07:48<58:05, 20.87s/it]"
     ]
    },
    {
     "name": "stdout",
     "output_type": "stream",
     "text": [
      "eigenvalues shape torch.Size([5]) eigenvectors shape torch.Size([5, 450])\n",
      "833 /home/phdcs2/Hard_Disk/Datasets/Deep-Spectral-Segmentation/data/object-segmentation/ECSSD/features/dino_vits16/0834.pth\n",
      "dict_keys(['k', 'indices', 'file', 'id', 'model_name', 'patch_size', 'shape'])\n",
      "0834\n",
      "Starting Training\n",
      "epoch: 00, loss: -0.34213\n",
      "epoch: 01, loss: -0.64863\n",
      "epoch: 02, loss: -0.65857\n",
      "epoch: 03, loss: -0.70453\n",
      "epoch: 04, loss: -0.72175\n",
      "epoch: 05, loss: -0.73787\n",
      "epoch: 06, loss: -0.68542\n",
      "epoch: 07, loss: -0.68710\n",
      "epoch: 08, loss: -0.69934\n",
      "epoch: 09, loss: -0.70422\n"
     ]
    },
    {
     "name": "stderr",
     "output_type": "stream",
     "text": [
      " 83%|████████▎ | 834/1000 [5:08:06<55:19, 20.00s/it]"
     ]
    },
    {
     "name": "stdout",
     "output_type": "stream",
     "text": [
      "eigenvalues shape torch.Size([5]) eigenvectors shape torch.Size([5, 375])\n",
      "834 /home/phdcs2/Hard_Disk/Datasets/Deep-Spectral-Segmentation/data/object-segmentation/ECSSD/features/dino_vits16/0835.pth\n",
      "dict_keys(['k', 'indices', 'file', 'id', 'model_name', 'patch_size', 'shape'])\n",
      "0835\n",
      "Starting Training\n",
      "epoch: 00, loss: -0.63202\n",
      "epoch: 01, loss: -0.94027\n",
      "epoch: 02, loss: -0.95986\n",
      "epoch: 03, loss: -0.95956\n",
      "epoch: 04, loss: -0.96247\n",
      "epoch: 05, loss: -0.95345\n",
      "epoch: 06, loss: -0.94203\n",
      "epoch: 07, loss: -0.93963\n",
      "epoch: 08, loss: -0.95011\n",
      "epoch: 09, loss: -0.94243\n"
     ]
    },
    {
     "name": "stderr",
     "output_type": "stream",
     "text": [
      " 84%|████████▎ | 835/1000 [5:08:22<51:04, 18.57s/it]"
     ]
    },
    {
     "name": "stdout",
     "output_type": "stream",
     "text": [
      "eigenvalues shape torch.Size([5]) eigenvectors shape torch.Size([5, 375])\n",
      "835 /home/phdcs2/Hard_Disk/Datasets/Deep-Spectral-Segmentation/data/object-segmentation/ECSSD/features/dino_vits16/0836.pth\n",
      "dict_keys(['k', 'indices', 'file', 'id', 'model_name', 'patch_size', 'shape'])\n",
      "0836\n",
      "Starting Training\n",
      "epoch: 00, loss: -0.55290\n",
      "epoch: 01, loss: -0.81190\n",
      "epoch: 02, loss: -0.78643\n",
      "epoch: 03, loss: -0.74950\n",
      "epoch: 04, loss: -0.76206\n",
      "epoch: 05, loss: -0.77634\n",
      "epoch: 06, loss: -0.82331\n",
      "epoch: 07, loss: -0.82442\n",
      "epoch: 08, loss: -0.83739\n",
      "epoch: 09, loss: -0.84469\n"
     ]
    },
    {
     "name": "stderr",
     "output_type": "stream",
     "text": [
      " 84%|████████▎ | 836/1000 [5:08:44<53:46, 19.67s/it]"
     ]
    },
    {
     "name": "stdout",
     "output_type": "stream",
     "text": [
      "eigenvalues shape torch.Size([5]) eigenvectors shape torch.Size([5, 475])\n",
      "836 /home/phdcs2/Hard_Disk/Datasets/Deep-Spectral-Segmentation/data/object-segmentation/ECSSD/features/dino_vits16/0837.pth\n",
      "dict_keys(['k', 'indices', 'file', 'id', 'model_name', 'patch_size', 'shape'])\n",
      "0837\n",
      "Starting Training\n",
      "epoch: 00, loss: -0.36322\n",
      "epoch: 01, loss: -0.65508\n",
      "epoch: 02, loss: -0.74776\n",
      "epoch: 03, loss: -0.77085\n",
      "epoch: 04, loss: -0.77718\n",
      "epoch: 05, loss: -0.81047\n",
      "epoch: 06, loss: -0.80091\n",
      "epoch: 07, loss: -0.80639\n",
      "epoch: 08, loss: -0.82794\n",
      "epoch: 09, loss: -0.81717\n"
     ]
    },
    {
     "name": "stderr",
     "output_type": "stream",
     "text": [
      " 84%|████████▎ | 837/1000 [5:09:03<52:49, 19.44s/it]"
     ]
    },
    {
     "name": "stdout",
     "output_type": "stream",
     "text": [
      "eigenvalues shape torch.Size([5]) eigenvectors shape torch.Size([5, 425])\n",
      "837 /home/phdcs2/Hard_Disk/Datasets/Deep-Spectral-Segmentation/data/object-segmentation/ECSSD/features/dino_vits16/0838.pth\n",
      "dict_keys(['k', 'indices', 'file', 'id', 'model_name', 'patch_size', 'shape'])\n",
      "0838\n",
      "Starting Training\n",
      "epoch: 00, loss: -0.30506\n",
      "epoch: 01, loss: -0.70868\n",
      "epoch: 02, loss: -0.76926\n",
      "epoch: 03, loss: -0.79470\n",
      "epoch: 04, loss: -0.78809\n",
      "epoch: 05, loss: -0.78634\n",
      "epoch: 06, loss: -0.81921\n",
      "epoch: 07, loss: -0.83196\n",
      "epoch: 08, loss: -0.82063\n",
      "epoch: 09, loss: -0.75466\n"
     ]
    },
    {
     "name": "stderr",
     "output_type": "stream",
     "text": [
      " 84%|████████▍ | 838/1000 [5:09:21<51:30, 19.08s/it]"
     ]
    },
    {
     "name": "stdout",
     "output_type": "stream",
     "text": [
      "eigenvalues shape torch.Size([5]) eigenvectors shape torch.Size([5, 400])\n",
      "838 /home/phdcs2/Hard_Disk/Datasets/Deep-Spectral-Segmentation/data/object-segmentation/ECSSD/features/dino_vits16/0839.pth\n",
      "dict_keys(['k', 'indices', 'file', 'id', 'model_name', 'patch_size', 'shape'])\n",
      "0839\n",
      "Starting Training\n",
      "epoch: 00, loss: -0.38945\n",
      "epoch: 01, loss: -0.68422\n",
      "epoch: 02, loss: -0.68391\n",
      "epoch: 03, loss: -0.71642\n",
      "epoch: 04, loss: -0.73838\n",
      "epoch: 05, loss: -0.75958\n",
      "epoch: 06, loss: -0.81646\n",
      "epoch: 07, loss: -0.81753\n",
      "epoch: 08, loss: -0.81504\n",
      "epoch: 09, loss: -0.83597\n"
     ]
    },
    {
     "name": "stderr",
     "output_type": "stream",
     "text": [
      " 84%|████████▍ | 839/1000 [5:09:44<54:26, 20.29s/it]"
     ]
    },
    {
     "name": "stdout",
     "output_type": "stream",
     "text": [
      "eigenvalues shape torch.Size([5]) eigenvectors shape torch.Size([5, 525])\n",
      "839 /home/phdcs2/Hard_Disk/Datasets/Deep-Spectral-Segmentation/data/object-segmentation/ECSSD/features/dino_vits16/0840.pth\n",
      "dict_keys(['k', 'indices', 'file', 'id', 'model_name', 'patch_size', 'shape'])\n",
      "0840\n",
      "Starting Training\n",
      "epoch: 00, loss: -0.44091\n",
      "epoch: 01, loss: -0.84506\n",
      "epoch: 02, loss: -0.82031\n",
      "epoch: 03, loss: -0.83839\n",
      "epoch: 04, loss: -0.84894\n",
      "epoch: 05, loss: -0.85585\n",
      "epoch: 06, loss: -0.82760\n",
      "epoch: 07, loss: -0.83016\n",
      "epoch: 08, loss: -0.84282\n",
      "epoch: 09, loss: -0.83807\n"
     ]
    },
    {
     "name": "stderr",
     "output_type": "stream",
     "text": [
      " 84%|████████▍ | 840/1000 [5:10:03<52:40, 19.75s/it]"
     ]
    },
    {
     "name": "stdout",
     "output_type": "stream",
     "text": [
      "eigenvalues shape torch.Size([5]) eigenvectors shape torch.Size([5, 450])\n",
      "840 /home/phdcs2/Hard_Disk/Datasets/Deep-Spectral-Segmentation/data/object-segmentation/ECSSD/features/dino_vits16/0841.pth\n",
      "dict_keys(['k', 'indices', 'file', 'id', 'model_name', 'patch_size', 'shape'])\n",
      "0841\n",
      "Starting Training\n",
      "epoch: 00, loss: -0.43383\n",
      "epoch: 01, loss: -0.65202\n",
      "epoch: 02, loss: -0.74578\n",
      "epoch: 03, loss: -0.76660\n",
      "epoch: 04, loss: -0.79806\n",
      "epoch: 05, loss: -0.83326\n",
      "epoch: 06, loss: -0.83950\n",
      "epoch: 07, loss: -0.83558\n",
      "epoch: 08, loss: -0.84333\n",
      "epoch: 09, loss: -0.84905\n"
     ]
    },
    {
     "name": "stderr",
     "output_type": "stream",
     "text": [
      " 84%|████████▍ | 841/1000 [5:10:21<50:58, 19.23s/it]"
     ]
    },
    {
     "name": "stdout",
     "output_type": "stream",
     "text": [
      "eigenvalues shape torch.Size([5]) eigenvectors shape torch.Size([5, 400])\n",
      "841 /home/phdcs2/Hard_Disk/Datasets/Deep-Spectral-Segmentation/data/object-segmentation/ECSSD/features/dino_vits16/0842.pth\n",
      "dict_keys(['k', 'indices', 'file', 'id', 'model_name', 'patch_size', 'shape'])\n",
      "0842\n",
      "Starting Training\n",
      "epoch: 00, loss: -0.21210\n",
      "epoch: 01, loss: -0.61032\n",
      "epoch: 02, loss: -0.75324\n",
      "epoch: 03, loss: -0.76820\n",
      "epoch: 04, loss: -0.77753\n",
      "epoch: 05, loss: -0.79345\n",
      "epoch: 06, loss: -0.79833\n",
      "epoch: 07, loss: -0.80942\n",
      "epoch: 08, loss: -0.79706\n",
      "epoch: 09, loss: -0.81135\n"
     ]
    },
    {
     "name": "stderr",
     "output_type": "stream",
     "text": [
      " 84%|████████▍ | 842/1000 [5:10:38<49:20, 18.74s/it]"
     ]
    },
    {
     "name": "stdout",
     "output_type": "stream",
     "text": [
      "eigenvalues shape torch.Size([5]) eigenvectors shape torch.Size([5, 400])\n",
      "842 /home/phdcs2/Hard_Disk/Datasets/Deep-Spectral-Segmentation/data/object-segmentation/ECSSD/features/dino_vits16/0843.pth\n",
      "dict_keys(['k', 'indices', 'file', 'id', 'model_name', 'patch_size', 'shape'])\n",
      "0843\n",
      "Starting Training\n",
      "epoch: 00, loss: -0.26503\n",
      "epoch: 01, loss: -0.69573\n",
      "epoch: 02, loss: -0.77013\n",
      "epoch: 03, loss: -0.80164\n",
      "epoch: 04, loss: -0.81274\n",
      "epoch: 05, loss: -0.82800\n",
      "epoch: 06, loss: -0.81980\n",
      "epoch: 07, loss: -0.79305\n",
      "epoch: 08, loss: -0.81162\n",
      "epoch: 09, loss: -0.82430\n"
     ]
    },
    {
     "name": "stderr",
     "output_type": "stream",
     "text": [
      " 84%|████████▍ | 843/1000 [5:10:57<48:48, 18.65s/it]"
     ]
    },
    {
     "name": "stdout",
     "output_type": "stream",
     "text": [
      "eigenvalues shape torch.Size([5]) eigenvectors shape torch.Size([5, 400])\n",
      "843 /home/phdcs2/Hard_Disk/Datasets/Deep-Spectral-Segmentation/data/object-segmentation/ECSSD/features/dino_vits16/0844.pth\n",
      "dict_keys(['k', 'indices', 'file', 'id', 'model_name', 'patch_size', 'shape'])\n",
      "0844\n",
      "Starting Training\n",
      "epoch: 00, loss: -0.25473\n",
      "epoch: 01, loss: -0.70987\n",
      "epoch: 02, loss: -0.76715\n",
      "epoch: 03, loss: -0.79084\n",
      "epoch: 04, loss: -0.79125\n",
      "epoch: 05, loss: -0.82448\n",
      "epoch: 06, loss: -0.83756\n",
      "epoch: 07, loss: -0.84602\n",
      "epoch: 08, loss: -0.83950\n",
      "epoch: 09, loss: -0.85973\n"
     ]
    },
    {
     "name": "stderr",
     "output_type": "stream",
     "text": [
      " 84%|████████▍ | 844/1000 [5:11:15<48:32, 18.67s/it]"
     ]
    },
    {
     "name": "stdout",
     "output_type": "stream",
     "text": [
      "eigenvalues shape torch.Size([5]) eigenvectors shape torch.Size([5, 400])\n",
      "844 /home/phdcs2/Hard_Disk/Datasets/Deep-Spectral-Segmentation/data/object-segmentation/ECSSD/features/dino_vits16/0845.pth\n",
      "dict_keys(['k', 'indices', 'file', 'id', 'model_name', 'patch_size', 'shape'])\n",
      "0845\n",
      "Starting Training\n",
      "epoch: 00, loss: -0.15426\n",
      "epoch: 01, loss: -0.56037\n",
      "epoch: 02, loss: -0.62737\n",
      "epoch: 03, loss: -0.68337\n",
      "epoch: 04, loss: -0.72255\n",
      "epoch: 05, loss: -0.75159\n",
      "epoch: 06, loss: -0.77636\n",
      "epoch: 07, loss: -0.78425\n",
      "epoch: 08, loss: -0.79230\n",
      "epoch: 09, loss: -0.80523\n"
     ]
    },
    {
     "name": "stderr",
     "output_type": "stream",
     "text": [
      " 84%|████████▍ | 845/1000 [5:11:29<44:17, 17.15s/it]"
     ]
    },
    {
     "name": "stdout",
     "output_type": "stream",
     "text": [
      "eigenvalues shape torch.Size([5]) eigenvectors shape torch.Size([5, 300])\n",
      "845 /home/phdcs2/Hard_Disk/Datasets/Deep-Spectral-Segmentation/data/object-segmentation/ECSSD/features/dino_vits16/0846.pth\n",
      "dict_keys(['k', 'indices', 'file', 'id', 'model_name', 'patch_size', 'shape'])\n",
      "0846\n",
      "Starting Training\n",
      "epoch: 00, loss: -0.57277\n",
      "epoch: 01, loss: -0.83140\n",
      "epoch: 02, loss: -0.85597\n",
      "epoch: 03, loss: -0.87637\n",
      "epoch: 04, loss: -0.87027\n",
      "epoch: 05, loss: -0.88045\n",
      "epoch: 06, loss: -0.86649\n",
      "epoch: 07, loss: -0.85145\n",
      "epoch: 08, loss: -0.87929\n",
      "epoch: 09, loss: -0.86892\n"
     ]
    },
    {
     "name": "stderr",
     "output_type": "stream",
     "text": [
      " 85%|████████▍ | 846/1000 [5:11:47<44:49, 17.47s/it]"
     ]
    },
    {
     "name": "stdout",
     "output_type": "stream",
     "text": [
      "eigenvalues shape torch.Size([5]) eigenvectors shape torch.Size([5, 400])\n",
      "846 /home/phdcs2/Hard_Disk/Datasets/Deep-Spectral-Segmentation/data/object-segmentation/ECSSD/features/dino_vits16/0847.pth\n",
      "dict_keys(['k', 'indices', 'file', 'id', 'model_name', 'patch_size', 'shape'])\n",
      "0847\n",
      "Starting Training\n",
      "epoch: 00, loss: -0.35449\n",
      "epoch: 01, loss: -0.73167\n",
      "epoch: 02, loss: -0.81262\n",
      "epoch: 03, loss: -0.83151\n",
      "epoch: 04, loss: -0.83803\n",
      "epoch: 05, loss: -0.85541\n",
      "epoch: 06, loss: -0.87521\n",
      "epoch: 07, loss: -0.83455\n",
      "epoch: 08, loss: -0.86361\n",
      "epoch: 09, loss: -0.86319\n"
     ]
    },
    {
     "name": "stderr",
     "output_type": "stream",
     "text": [
      " 85%|████████▍ | 847/1000 [5:12:08<46:46, 18.34s/it]"
     ]
    },
    {
     "name": "stdout",
     "output_type": "stream",
     "text": [
      "eigenvalues shape torch.Size([5]) eigenvectors shape torch.Size([5, 400])\n",
      "847 /home/phdcs2/Hard_Disk/Datasets/Deep-Spectral-Segmentation/data/object-segmentation/ECSSD/features/dino_vits16/0848.pth\n",
      "dict_keys(['k', 'indices', 'file', 'id', 'model_name', 'patch_size', 'shape'])\n",
      "0848\n",
      "Starting Training\n",
      "epoch: 00, loss: -0.47663\n",
      "epoch: 01, loss: -0.78339\n",
      "epoch: 02, loss: -0.83148\n",
      "epoch: 03, loss: -0.83560\n",
      "epoch: 04, loss: -0.86410\n",
      "epoch: 05, loss: -0.89309\n",
      "epoch: 06, loss: -0.89696\n",
      "epoch: 07, loss: -0.89475\n",
      "epoch: 08, loss: -0.88049\n",
      "epoch: 09, loss: -0.88943\n"
     ]
    },
    {
     "name": "stderr",
     "output_type": "stream",
     "text": [
      " 85%|████████▍ | 848/1000 [5:12:26<46:19, 18.29s/it]"
     ]
    },
    {
     "name": "stdout",
     "output_type": "stream",
     "text": [
      "eigenvalues shape torch.Size([5]) eigenvectors shape torch.Size([5, 400])\n",
      "848 /home/phdcs2/Hard_Disk/Datasets/Deep-Spectral-Segmentation/data/object-segmentation/ECSSD/features/dino_vits16/0849.pth\n",
      "dict_keys(['k', 'indices', 'file', 'id', 'model_name', 'patch_size', 'shape'])\n",
      "0849\n",
      "Starting Training\n",
      "epoch: 00, loss: -0.36946\n",
      "epoch: 01, loss: -0.70743\n",
      "epoch: 02, loss: -0.76478\n",
      "epoch: 03, loss: -0.82489\n",
      "epoch: 04, loss: -0.83244\n",
      "epoch: 05, loss: -0.83916\n",
      "epoch: 06, loss: -0.84737\n",
      "epoch: 07, loss: -0.84791\n",
      "epoch: 08, loss: -0.82544\n",
      "epoch: 09, loss: -0.81218\n"
     ]
    },
    {
     "name": "stderr",
     "output_type": "stream",
     "text": [
      " 85%|████████▍ | 849/1000 [5:12:41<43:53, 17.44s/it]"
     ]
    },
    {
     "name": "stdout",
     "output_type": "stream",
     "text": [
      "eigenvalues shape torch.Size([5]) eigenvectors shape torch.Size([5, 350])\n",
      "849 /home/phdcs2/Hard_Disk/Datasets/Deep-Spectral-Segmentation/data/object-segmentation/ECSSD/features/dino_vits16/0850.pth\n",
      "dict_keys(['k', 'indices', 'file', 'id', 'model_name', 'patch_size', 'shape'])\n",
      "0850\n",
      "Starting Training\n",
      "epoch: 00, loss: -0.47227\n",
      "epoch: 01, loss: -0.81630\n",
      "epoch: 02, loss: -0.80998\n",
      "epoch: 03, loss: -0.81630\n",
      "epoch: 04, loss: -0.86044\n",
      "epoch: 05, loss: -0.86998\n",
      "epoch: 06, loss: -0.87198\n",
      "epoch: 07, loss: -0.86214\n",
      "epoch: 08, loss: -0.82470\n",
      "epoch: 09, loss: -0.82741\n"
     ]
    },
    {
     "name": "stderr",
     "output_type": "stream",
     "text": [
      " 85%|████████▌ | 850/1000 [5:13:00<44:31, 17.81s/it]"
     ]
    },
    {
     "name": "stdout",
     "output_type": "stream",
     "text": [
      "eigenvalues shape torch.Size([5]) eigenvectors shape torch.Size([5, 400])\n",
      "850 /home/phdcs2/Hard_Disk/Datasets/Deep-Spectral-Segmentation/data/object-segmentation/ECSSD/features/dino_vits16/0851.pth\n",
      "dict_keys(['k', 'indices', 'file', 'id', 'model_name', 'patch_size', 'shape'])\n",
      "0851\n",
      "Starting Training\n",
      "epoch: 00, loss: -0.73571\n",
      "epoch: 01, loss: -0.93606\n",
      "epoch: 02, loss: -0.93985\n",
      "epoch: 03, loss: -0.94941\n",
      "epoch: 04, loss: -0.93772\n",
      "epoch: 05, loss: -0.94889\n",
      "epoch: 06, loss: -0.94913\n",
      "epoch: 07, loss: -0.94948\n",
      "epoch: 08, loss: -0.95112\n",
      "epoch: 09, loss: -0.95084\n"
     ]
    },
    {
     "name": "stderr",
     "output_type": "stream",
     "text": [
      " 85%|████████▌ | 851/1000 [5:13:18<44:38, 17.97s/it]"
     ]
    },
    {
     "name": "stdout",
     "output_type": "stream",
     "text": [
      "eigenvalues shape torch.Size([5]) eigenvectors shape torch.Size([5, 400])\n",
      "851 /home/phdcs2/Hard_Disk/Datasets/Deep-Spectral-Segmentation/data/object-segmentation/ECSSD/features/dino_vits16/0852.pth\n",
      "dict_keys(['k', 'indices', 'file', 'id', 'model_name', 'patch_size', 'shape'])\n",
      "0852\n",
      "Starting Training\n",
      "epoch: 00, loss: -0.52559\n",
      "epoch: 01, loss: -0.82751\n",
      "epoch: 02, loss: -0.82807\n",
      "epoch: 03, loss: -0.83956\n",
      "epoch: 04, loss: -0.76696\n",
      "epoch: 05, loss: -0.79173\n",
      "epoch: 06, loss: -0.77710\n",
      "epoch: 07, loss: -0.86244\n",
      "epoch: 08, loss: -0.87823\n",
      "epoch: 09, loss: -0.87383\n"
     ]
    },
    {
     "name": "stderr",
     "output_type": "stream",
     "text": [
      " 85%|████████▌ | 852/1000 [5:13:38<45:45, 18.55s/it]"
     ]
    },
    {
     "name": "stdout",
     "output_type": "stream",
     "text": [
      "eigenvalues shape torch.Size([5]) eigenvectors shape torch.Size([5, 425])\n",
      "852 /home/phdcs2/Hard_Disk/Datasets/Deep-Spectral-Segmentation/data/object-segmentation/ECSSD/features/dino_vits16/0853.pth\n",
      "dict_keys(['k', 'indices', 'file', 'id', 'model_name', 'patch_size', 'shape'])\n",
      "0853\n",
      "Starting Training\n",
      "epoch: 00, loss: -0.22776\n",
      "epoch: 01, loss: -0.66929\n",
      "epoch: 02, loss: -0.74581\n",
      "epoch: 03, loss: -0.76681\n",
      "epoch: 04, loss: -0.79751\n",
      "epoch: 05, loss: -0.79194\n",
      "epoch: 06, loss: -0.81349\n",
      "epoch: 07, loss: -0.82981\n",
      "epoch: 08, loss: -0.82112\n",
      "epoch: 09, loss: -0.83056\n"
     ]
    },
    {
     "name": "stderr",
     "output_type": "stream",
     "text": [
      " 85%|████████▌ | 853/1000 [5:13:55<44:31, 18.17s/it]"
     ]
    },
    {
     "name": "stdout",
     "output_type": "stream",
     "text": [
      "eigenvalues shape torch.Size([5]) eigenvectors shape torch.Size([5, 400])\n",
      "853 /home/phdcs2/Hard_Disk/Datasets/Deep-Spectral-Segmentation/data/object-segmentation/ECSSD/features/dino_vits16/0854.pth\n",
      "dict_keys(['k', 'indices', 'file', 'id', 'model_name', 'patch_size', 'shape'])\n",
      "0854\n",
      "Starting Training\n",
      "epoch: 00, loss: -0.55091\n",
      "epoch: 01, loss: -0.80092\n",
      "epoch: 02, loss: -0.77390\n",
      "epoch: 03, loss: -0.73105\n",
      "epoch: 04, loss: -0.77226\n",
      "epoch: 05, loss: -0.76963\n",
      "epoch: 06, loss: -0.80320\n",
      "epoch: 07, loss: -0.79993\n",
      "epoch: 08, loss: -0.78871\n",
      "epoch: 09, loss: -0.79659\n"
     ]
    },
    {
     "name": "stderr",
     "output_type": "stream",
     "text": [
      " 85%|████████▌ | 854/1000 [5:14:14<44:29, 18.28s/it]"
     ]
    },
    {
     "name": "stdout",
     "output_type": "stream",
     "text": [
      "eigenvalues shape torch.Size([5]) eigenvectors shape torch.Size([5, 400])\n",
      "854 /home/phdcs2/Hard_Disk/Datasets/Deep-Spectral-Segmentation/data/object-segmentation/ECSSD/features/dino_vits16/0855.pth\n",
      "dict_keys(['k', 'indices', 'file', 'id', 'model_name', 'patch_size', 'shape'])\n",
      "0855\n",
      "Starting Training\n",
      "epoch: 00, loss: -0.33025\n",
      "epoch: 01, loss: -0.75600\n",
      "epoch: 02, loss: -0.77882\n",
      "epoch: 03, loss: -0.76055\n",
      "epoch: 04, loss: -0.71867\n",
      "epoch: 05, loss: -0.73847\n",
      "epoch: 06, loss: -0.79714\n",
      "epoch: 07, loss: -0.82524\n",
      "epoch: 08, loss: -0.83334\n",
      "epoch: 09, loss: -0.83358\n"
     ]
    },
    {
     "name": "stderr",
     "output_type": "stream",
     "text": [
      " 86%|████████▌ | 855/1000 [5:14:32<44:00, 18.21s/it]"
     ]
    },
    {
     "name": "stdout",
     "output_type": "stream",
     "text": [
      "eigenvalues shape torch.Size([5]) eigenvectors shape torch.Size([5, 400])\n",
      "855 /home/phdcs2/Hard_Disk/Datasets/Deep-Spectral-Segmentation/data/object-segmentation/ECSSD/features/dino_vits16/0856.pth\n",
      "dict_keys(['k', 'indices', 'file', 'id', 'model_name', 'patch_size', 'shape'])\n",
      "0856\n",
      "Starting Training\n",
      "epoch: 00, loss: -0.38002\n",
      "epoch: 01, loss: -0.71364\n",
      "epoch: 02, loss: -0.72829\n",
      "epoch: 03, loss: -0.74195\n",
      "epoch: 04, loss: -0.74175\n",
      "epoch: 05, loss: -0.77363\n",
      "epoch: 06, loss: -0.80515\n",
      "epoch: 07, loss: -0.77546\n",
      "epoch: 08, loss: -0.80066\n",
      "epoch: 09, loss: -0.80703\n"
     ]
    },
    {
     "name": "stderr",
     "output_type": "stream",
     "text": [
      " 86%|████████▌ | 856/1000 [5:14:52<44:55, 18.72s/it]"
     ]
    },
    {
     "name": "stdout",
     "output_type": "stream",
     "text": [
      "eigenvalues shape torch.Size([5]) eigenvectors shape torch.Size([5, 400])\n",
      "856 /home/phdcs2/Hard_Disk/Datasets/Deep-Spectral-Segmentation/data/object-segmentation/ECSSD/features/dino_vits16/0857.pth\n",
      "dict_keys(['k', 'indices', 'file', 'id', 'model_name', 'patch_size', 'shape'])\n",
      "0857\n",
      "Starting Training\n",
      "epoch: 00, loss: -0.27025\n",
      "epoch: 01, loss: -0.63027\n",
      "epoch: 02, loss: -0.70065\n",
      "epoch: 03, loss: -0.75072\n",
      "epoch: 04, loss: -0.75966\n",
      "epoch: 05, loss: -0.77450\n",
      "epoch: 06, loss: -0.79311\n",
      "epoch: 07, loss: -0.80546\n",
      "epoch: 08, loss: -0.82301\n",
      "epoch: 09, loss: -0.81691\n"
     ]
    },
    {
     "name": "stderr",
     "output_type": "stream",
     "text": [
      " 86%|████████▌ | 857/1000 [5:15:11<45:04, 18.92s/it]"
     ]
    },
    {
     "name": "stdout",
     "output_type": "stream",
     "text": [
      "eigenvalues shape torch.Size([5]) eigenvectors shape torch.Size([5, 450])\n",
      "857 /home/phdcs2/Hard_Disk/Datasets/Deep-Spectral-Segmentation/data/object-segmentation/ECSSD/features/dino_vits16/0858.pth\n",
      "dict_keys(['k', 'indices', 'file', 'id', 'model_name', 'patch_size', 'shape'])\n",
      "0858\n",
      "Starting Training\n",
      "epoch: 00, loss: -0.67821\n",
      "epoch: 01, loss: -0.94346\n",
      "epoch: 02, loss: -0.95724\n",
      "epoch: 03, loss: -0.95520\n",
      "epoch: 04, loss: -0.94763\n",
      "epoch: 05, loss: -0.94337\n",
      "epoch: 06, loss: -0.92466\n",
      "epoch: 07, loss: -0.91851\n",
      "epoch: 08, loss: -0.88445\n",
      "epoch: 09, loss: -0.88173\n"
     ]
    },
    {
     "name": "stderr",
     "output_type": "stream",
     "text": [
      " 86%|████████▌ | 858/1000 [5:15:31<45:27, 19.20s/it]"
     ]
    },
    {
     "name": "stdout",
     "output_type": "stream",
     "text": [
      "eigenvalues shape torch.Size([5]) eigenvectors shape torch.Size([5, 425])\n",
      "858 /home/phdcs2/Hard_Disk/Datasets/Deep-Spectral-Segmentation/data/object-segmentation/ECSSD/features/dino_vits16/0859.pth\n",
      "dict_keys(['k', 'indices', 'file', 'id', 'model_name', 'patch_size', 'shape'])\n",
      "0859\n",
      "Starting Training\n",
      "epoch: 00, loss: -0.27085\n",
      "epoch: 01, loss: -0.63674\n",
      "epoch: 02, loss: -0.71112\n",
      "epoch: 03, loss: -0.68851\n",
      "epoch: 04, loss: -0.66946\n",
      "epoch: 05, loss: -0.67809\n",
      "epoch: 06, loss: -0.70704\n",
      "epoch: 07, loss: -0.71504\n",
      "epoch: 08, loss: -0.65735\n",
      "epoch: 09, loss: -0.71852\n"
     ]
    },
    {
     "name": "stderr",
     "output_type": "stream",
     "text": [
      " 86%|████████▌ | 859/1000 [5:15:50<44:47, 19.06s/it]"
     ]
    },
    {
     "name": "stdout",
     "output_type": "stream",
     "text": [
      "eigenvalues shape torch.Size([5]) eigenvectors shape torch.Size([5, 400])\n",
      "859 /home/phdcs2/Hard_Disk/Datasets/Deep-Spectral-Segmentation/data/object-segmentation/ECSSD/features/dino_vits16/0860.pth\n",
      "dict_keys(['k', 'indices', 'file', 'id', 'model_name', 'patch_size', 'shape'])\n",
      "0860\n",
      "Starting Training\n",
      "epoch: 00, loss: -0.39246\n",
      "epoch: 01, loss: -0.64213\n",
      "epoch: 02, loss: -0.51745\n",
      "epoch: 03, loss: -0.62656\n",
      "epoch: 04, loss: -0.68724\n",
      "epoch: 05, loss: -0.70616\n",
      "epoch: 06, loss: -0.66016\n",
      "epoch: 07, loss: -0.67695\n",
      "epoch: 08, loss: -0.71415\n",
      "epoch: 09, loss: -0.72596\n"
     ]
    },
    {
     "name": "stderr",
     "output_type": "stream",
     "text": [
      " 86%|████████▌ | 860/1000 [5:16:07<42:56, 18.41s/it]"
     ]
    },
    {
     "name": "stdout",
     "output_type": "stream",
     "text": [
      "eigenvalues shape torch.Size([5]) eigenvectors shape torch.Size([5, 400])\n",
      "860 /home/phdcs2/Hard_Disk/Datasets/Deep-Spectral-Segmentation/data/object-segmentation/ECSSD/features/dino_vits16/0861.pth\n",
      "dict_keys(['k', 'indices', 'file', 'id', 'model_name', 'patch_size', 'shape'])\n",
      "0861\n",
      "Starting Training\n",
      "epoch: 00, loss: -0.40793\n",
      "epoch: 01, loss: -0.71157\n",
      "epoch: 02, loss: -0.76390\n",
      "epoch: 03, loss: -0.81551\n",
      "epoch: 04, loss: -0.83022\n",
      "epoch: 05, loss: -0.84329\n",
      "epoch: 06, loss: -0.85483\n",
      "epoch: 07, loss: -0.86806\n",
      "epoch: 08, loss: -0.86649\n",
      "epoch: 09, loss: -0.85455\n"
     ]
    },
    {
     "name": "stderr",
     "output_type": "stream",
     "text": [
      " 86%|████████▌ | 861/1000 [5:16:26<43:00, 18.57s/it]"
     ]
    },
    {
     "name": "stdout",
     "output_type": "stream",
     "text": [
      "eigenvalues shape torch.Size([5]) eigenvectors shape torch.Size([5, 400])\n",
      "861 /home/phdcs2/Hard_Disk/Datasets/Deep-Spectral-Segmentation/data/object-segmentation/ECSSD/features/dino_vits16/0862.pth\n",
      "dict_keys(['k', 'indices', 'file', 'id', 'model_name', 'patch_size', 'shape'])\n",
      "0862\n",
      "Starting Training\n",
      "epoch: 00, loss: -0.44172\n",
      "epoch: 01, loss: -0.69944\n",
      "epoch: 02, loss: -0.72167\n",
      "epoch: 03, loss: -0.70339\n",
      "epoch: 04, loss: -0.70283\n",
      "epoch: 05, loss: -0.73733\n",
      "epoch: 06, loss: -0.77068\n",
      "epoch: 07, loss: -0.81256\n",
      "epoch: 08, loss: -0.82282\n",
      "epoch: 09, loss: -0.83175\n"
     ]
    },
    {
     "name": "stderr",
     "output_type": "stream",
     "text": [
      " 86%|████████▌ | 862/1000 [5:16:56<50:38, 22.02s/it]"
     ]
    },
    {
     "name": "stdout",
     "output_type": "stream",
     "text": [
      "eigenvalues shape torch.Size([5]) eigenvectors shape torch.Size([5, 625])\n",
      "862 /home/phdcs2/Hard_Disk/Datasets/Deep-Spectral-Segmentation/data/object-segmentation/ECSSD/features/dino_vits16/0863.pth\n",
      "dict_keys(['k', 'indices', 'file', 'id', 'model_name', 'patch_size', 'shape'])\n",
      "0863\n",
      "Starting Training\n",
      "epoch: 00, loss: -0.35272\n",
      "epoch: 01, loss: -0.69704\n",
      "epoch: 02, loss: -0.74034\n",
      "epoch: 03, loss: -0.78729\n",
      "epoch: 04, loss: -0.76901\n",
      "epoch: 05, loss: -0.80144\n",
      "epoch: 06, loss: -0.78645\n",
      "epoch: 07, loss: -0.76475\n",
      "epoch: 08, loss: -0.77732\n",
      "epoch: 09, loss: -0.76634\n"
     ]
    },
    {
     "name": "stderr",
     "output_type": "stream",
     "text": [
      " 86%|████████▋ | 863/1000 [5:17:17<49:58, 21.88s/it]"
     ]
    },
    {
     "name": "stdout",
     "output_type": "stream",
     "text": [
      "eigenvalues shape torch.Size([5]) eigenvectors shape torch.Size([5, 400])\n",
      "863 /home/phdcs2/Hard_Disk/Datasets/Deep-Spectral-Segmentation/data/object-segmentation/ECSSD/features/dino_vits16/0864.pth\n",
      "dict_keys(['k', 'indices', 'file', 'id', 'model_name', 'patch_size', 'shape'])\n",
      "0864\n",
      "Starting Training\n",
      "epoch: 00, loss: -0.33542\n",
      "epoch: 01, loss: -0.74000\n",
      "epoch: 02, loss: -0.85974\n",
      "epoch: 03, loss: -0.85405\n",
      "epoch: 04, loss: -0.87022\n",
      "epoch: 05, loss: -0.85729\n",
      "epoch: 06, loss: -0.87108\n",
      "epoch: 07, loss: -0.86146\n",
      "epoch: 08, loss: -0.87467\n",
      "epoch: 09, loss: -0.86933\n"
     ]
    },
    {
     "name": "stderr",
     "output_type": "stream",
     "text": [
      " 86%|████████▋ | 864/1000 [5:17:35<46:26, 20.49s/it]"
     ]
    },
    {
     "name": "stdout",
     "output_type": "stream",
     "text": [
      "eigenvalues shape torch.Size([5]) eigenvectors shape torch.Size([5, 350])\n",
      "864 /home/phdcs2/Hard_Disk/Datasets/Deep-Spectral-Segmentation/data/object-segmentation/ECSSD/features/dino_vits16/0865.pth\n",
      "dict_keys(['k', 'indices', 'file', 'id', 'model_name', 'patch_size', 'shape'])\n",
      "0865\n",
      "Starting Training\n",
      "epoch: 00, loss: -0.36691\n",
      "epoch: 01, loss: -0.67294\n",
      "epoch: 02, loss: -0.77330\n",
      "epoch: 03, loss: -0.81900\n",
      "epoch: 04, loss: -0.82850\n",
      "epoch: 05, loss: -0.85482\n",
      "epoch: 06, loss: -0.85767\n",
      "epoch: 07, loss: -0.84742\n",
      "epoch: 08, loss: -0.85722\n",
      "epoch: 09, loss: -0.86507\n"
     ]
    },
    {
     "name": "stderr",
     "output_type": "stream",
     "text": [
      " 86%|████████▋ | 865/1000 [5:17:53<44:38, 19.84s/it]"
     ]
    },
    {
     "name": "stdout",
     "output_type": "stream",
     "text": [
      "eigenvalues shape torch.Size([5]) eigenvectors shape torch.Size([5, 400])\n",
      "865 /home/phdcs2/Hard_Disk/Datasets/Deep-Spectral-Segmentation/data/object-segmentation/ECSSD/features/dino_vits16/0866.pth\n",
      "dict_keys(['k', 'indices', 'file', 'id', 'model_name', 'patch_size', 'shape'])\n",
      "0866\n",
      "Starting Training\n",
      "epoch: 00, loss: -0.30971\n",
      "epoch: 01, loss: -0.68149\n",
      "epoch: 02, loss: -0.75285\n",
      "epoch: 03, loss: -0.77933\n",
      "epoch: 04, loss: -0.78081\n",
      "epoch: 05, loss: -0.75815\n",
      "epoch: 06, loss: -0.75345\n",
      "epoch: 07, loss: -0.74417\n",
      "epoch: 08, loss: -0.76433\n",
      "epoch: 09, loss: -0.80143\n"
     ]
    },
    {
     "name": "stderr",
     "output_type": "stream",
     "text": [
      " 87%|████████▋ | 866/1000 [5:18:11<43:19, 19.40s/it]"
     ]
    },
    {
     "name": "stdout",
     "output_type": "stream",
     "text": [
      "eigenvalues shape torch.Size([5]) eigenvectors shape torch.Size([5, 400])\n",
      "866 /home/phdcs2/Hard_Disk/Datasets/Deep-Spectral-Segmentation/data/object-segmentation/ECSSD/features/dino_vits16/0867.pth\n",
      "dict_keys(['k', 'indices', 'file', 'id', 'model_name', 'patch_size', 'shape'])\n",
      "0867\n",
      "Starting Training\n",
      "epoch: 00, loss: -0.25200\n",
      "epoch: 01, loss: -0.62431\n",
      "epoch: 02, loss: -0.69044\n",
      "epoch: 03, loss: -0.73890\n",
      "epoch: 04, loss: -0.75829\n",
      "epoch: 05, loss: -0.75684\n",
      "epoch: 06, loss: -0.75542\n",
      "epoch: 07, loss: -0.77248\n",
      "epoch: 08, loss: -0.78395\n",
      "epoch: 09, loss: -0.77915\n"
     ]
    },
    {
     "name": "stderr",
     "output_type": "stream",
     "text": [
      " 87%|████████▋ | 867/1000 [5:18:33<44:25, 20.04s/it]"
     ]
    },
    {
     "name": "stdout",
     "output_type": "stream",
     "text": [
      "eigenvalues shape torch.Size([5]) eigenvectors shape torch.Size([5, 450])\n",
      "867 /home/phdcs2/Hard_Disk/Datasets/Deep-Spectral-Segmentation/data/object-segmentation/ECSSD/features/dino_vits16/0868.pth\n",
      "dict_keys(['k', 'indices', 'file', 'id', 'model_name', 'patch_size', 'shape'])\n",
      "0868\n",
      "Starting Training\n",
      "epoch: 00, loss: -0.38189\n",
      "epoch: 01, loss: -0.68239\n",
      "epoch: 02, loss: -0.74946\n",
      "epoch: 03, loss: -0.78493\n",
      "epoch: 04, loss: -0.80704\n",
      "epoch: 05, loss: -0.79568\n",
      "epoch: 06, loss: -0.77218\n",
      "epoch: 07, loss: -0.77365\n",
      "epoch: 08, loss: -0.78612\n",
      "epoch: 09, loss: -0.78538\n"
     ]
    },
    {
     "name": "stderr",
     "output_type": "stream",
     "text": [
      " 87%|████████▋ | 868/1000 [5:18:54<45:04, 20.49s/it]"
     ]
    },
    {
     "name": "stdout",
     "output_type": "stream",
     "text": [
      "eigenvalues shape torch.Size([5]) eigenvectors shape torch.Size([5, 450])\n",
      "868 /home/phdcs2/Hard_Disk/Datasets/Deep-Spectral-Segmentation/data/object-segmentation/ECSSD/features/dino_vits16/0869.pth\n",
      "dict_keys(['k', 'indices', 'file', 'id', 'model_name', 'patch_size', 'shape'])\n",
      "0869\n",
      "Starting Training\n",
      "epoch: 00, loss: -0.41687\n",
      "epoch: 01, loss: -0.60265\n",
      "epoch: 02, loss: -0.72290\n",
      "epoch: 03, loss: -0.75540\n",
      "epoch: 04, loss: -0.78520\n",
      "epoch: 05, loss: -0.80528\n",
      "epoch: 06, loss: -0.82401\n",
      "epoch: 07, loss: -0.83211\n",
      "epoch: 08, loss: -0.82861\n",
      "epoch: 09, loss: -0.82139\n"
     ]
    },
    {
     "name": "stderr",
     "output_type": "stream",
     "text": [
      " 87%|████████▋ | 869/1000 [5:19:23<50:12, 23.00s/it]"
     ]
    },
    {
     "name": "stdout",
     "output_type": "stream",
     "text": [
      "eigenvalues shape torch.Size([5]) eigenvectors shape torch.Size([5, 625])\n",
      "869 /home/phdcs2/Hard_Disk/Datasets/Deep-Spectral-Segmentation/data/object-segmentation/ECSSD/features/dino_vits16/0870.pth\n",
      "dict_keys(['k', 'indices', 'file', 'id', 'model_name', 'patch_size', 'shape'])\n",
      "0870\n",
      "Starting Training\n",
      "epoch: 00, loss: -0.37184\n",
      "epoch: 01, loss: -0.75554\n",
      "epoch: 02, loss: -0.82744\n",
      "epoch: 03, loss: -0.87742\n",
      "epoch: 04, loss: -0.89148\n",
      "epoch: 05, loss: -0.86554\n",
      "epoch: 06, loss: -0.88190\n",
      "epoch: 07, loss: -0.90306\n",
      "epoch: 08, loss: -0.90640\n",
      "epoch: 09, loss: -0.91092\n"
     ]
    },
    {
     "name": "stderr",
     "output_type": "stream",
     "text": [
      " 87%|████████▋ | 870/1000 [5:19:41<46:30, 21.47s/it]"
     ]
    },
    {
     "name": "stdout",
     "output_type": "stream",
     "text": [
      "eigenvalues shape torch.Size([5]) eigenvectors shape torch.Size([5, 400])\n",
      "870 /home/phdcs2/Hard_Disk/Datasets/Deep-Spectral-Segmentation/data/object-segmentation/ECSSD/features/dino_vits16/0871.pth\n",
      "dict_keys(['k', 'indices', 'file', 'id', 'model_name', 'patch_size', 'shape'])\n",
      "0871\n",
      "Starting Training\n",
      "epoch: 00, loss: -0.46886\n",
      "epoch: 01, loss: -0.76767\n",
      "epoch: 02, loss: -0.78745\n",
      "epoch: 03, loss: -0.83133\n",
      "epoch: 04, loss: -0.86676\n",
      "epoch: 05, loss: -0.90980\n",
      "epoch: 06, loss: -0.91209\n",
      "epoch: 07, loss: -0.89979\n",
      "epoch: 08, loss: -0.87573\n",
      "epoch: 09, loss: -0.88343\n"
     ]
    },
    {
     "name": "stderr",
     "output_type": "stream",
     "text": [
      " 87%|████████▋ | 871/1000 [5:20:01<45:02, 20.95s/it]"
     ]
    },
    {
     "name": "stdout",
     "output_type": "stream",
     "text": [
      "eigenvalues shape torch.Size([5]) eigenvectors shape torch.Size([5, 400])\n",
      "871 /home/phdcs2/Hard_Disk/Datasets/Deep-Spectral-Segmentation/data/object-segmentation/ECSSD/features/dino_vits16/0872.pth\n",
      "dict_keys(['k', 'indices', 'file', 'id', 'model_name', 'patch_size', 'shape'])\n",
      "0872\n",
      "Starting Training\n",
      "epoch: 00, loss: -0.56970\n",
      "epoch: 01, loss: -0.75099\n",
      "epoch: 02, loss: -0.71711\n",
      "epoch: 03, loss: -0.68984\n",
      "epoch: 04, loss: -0.68754\n",
      "epoch: 05, loss: -0.71806\n",
      "epoch: 06, loss: -0.73312\n",
      "epoch: 07, loss: -0.76764\n",
      "epoch: 08, loss: -0.81758\n",
      "epoch: 09, loss: -0.82157\n"
     ]
    },
    {
     "name": "stderr",
     "output_type": "stream",
     "text": [
      " 87%|████████▋ | 872/1000 [5:20:20<43:36, 20.44s/it]"
     ]
    },
    {
     "name": "stdout",
     "output_type": "stream",
     "text": [
      "eigenvalues shape torch.Size([5]) eigenvectors shape torch.Size([5, 450])\n",
      "872 /home/phdcs2/Hard_Disk/Datasets/Deep-Spectral-Segmentation/data/object-segmentation/ECSSD/features/dino_vits16/0873.pth\n",
      "dict_keys(['k', 'indices', 'file', 'id', 'model_name', 'patch_size', 'shape'])\n",
      "0873\n",
      "Starting Training\n",
      "epoch: 00, loss: -0.23575\n",
      "epoch: 01, loss: -0.59680\n",
      "epoch: 02, loss: -0.65085\n",
      "epoch: 03, loss: -0.69692\n",
      "epoch: 04, loss: -0.71021\n",
      "epoch: 05, loss: -0.71545\n",
      "epoch: 06, loss: -0.73937\n",
      "epoch: 07, loss: -0.74587\n",
      "epoch: 08, loss: -0.70339\n",
      "epoch: 09, loss: -0.71615\n"
     ]
    },
    {
     "name": "stderr",
     "output_type": "stream",
     "text": [
      " 87%|████████▋ | 873/1000 [5:20:41<43:20, 20.48s/it]"
     ]
    },
    {
     "name": "stdout",
     "output_type": "stream",
     "text": [
      "eigenvalues shape torch.Size([5]) eigenvectors shape torch.Size([5, 450])\n",
      "873 /home/phdcs2/Hard_Disk/Datasets/Deep-Spectral-Segmentation/data/object-segmentation/ECSSD/features/dino_vits16/0874.pth\n",
      "dict_keys(['k', 'indices', 'file', 'id', 'model_name', 'patch_size', 'shape'])\n",
      "0874\n",
      "Starting Training\n",
      "epoch: 00, loss: -0.54507\n",
      "epoch: 01, loss: -0.80682\n",
      "epoch: 02, loss: -0.87257\n",
      "epoch: 03, loss: -0.84579\n",
      "epoch: 04, loss: -0.84146\n",
      "epoch: 05, loss: -0.81209\n",
      "epoch: 06, loss: -0.81461\n",
      "epoch: 07, loss: -0.81072\n",
      "epoch: 08, loss: -0.79569\n",
      "epoch: 09, loss: -0.76703\n"
     ]
    },
    {
     "name": "stderr",
     "output_type": "stream",
     "text": [
      " 87%|████████▋ | 874/1000 [5:20:59<41:55, 19.96s/it]"
     ]
    },
    {
     "name": "stdout",
     "output_type": "stream",
     "text": [
      "eigenvalues shape torch.Size([5]) eigenvectors shape torch.Size([5, 400])\n",
      "874 /home/phdcs2/Hard_Disk/Datasets/Deep-Spectral-Segmentation/data/object-segmentation/ECSSD/features/dino_vits16/0875.pth\n",
      "dict_keys(['k', 'indices', 'file', 'id', 'model_name', 'patch_size', 'shape'])\n",
      "0875\n",
      "Starting Training\n",
      "epoch: 00, loss: -0.43577\n",
      "epoch: 01, loss: -0.67770\n",
      "epoch: 02, loss: -0.66808\n",
      "epoch: 03, loss: -0.72098\n",
      "epoch: 04, loss: -0.75860\n",
      "epoch: 05, loss: -0.75578\n",
      "epoch: 06, loss: -0.77839\n",
      "epoch: 07, loss: -0.79760\n",
      "epoch: 08, loss: -0.78361\n",
      "epoch: 09, loss: -0.79746\n"
     ]
    },
    {
     "name": "stderr",
     "output_type": "stream",
     "text": [
      " 88%|████████▊ | 875/1000 [5:21:18<40:54, 19.64s/it]"
     ]
    },
    {
     "name": "stdout",
     "output_type": "stream",
     "text": [
      "eigenvalues shape torch.Size([5]) eigenvectors shape torch.Size([5, 400])\n",
      "875 /home/phdcs2/Hard_Disk/Datasets/Deep-Spectral-Segmentation/data/object-segmentation/ECSSD/features/dino_vits16/0876.pth\n",
      "dict_keys(['k', 'indices', 'file', 'id', 'model_name', 'patch_size', 'shape'])\n",
      "0876\n",
      "Starting Training\n",
      "epoch: 00, loss: -0.34664\n",
      "epoch: 01, loss: -0.70877\n",
      "epoch: 02, loss: -0.76394\n",
      "epoch: 03, loss: -0.78164\n",
      "epoch: 04, loss: -0.79842\n",
      "epoch: 05, loss: -0.82138\n",
      "epoch: 06, loss: -0.83297\n",
      "epoch: 07, loss: -0.83701\n",
      "epoch: 08, loss: -0.85080\n",
      "epoch: 09, loss: -0.85599\n"
     ]
    },
    {
     "name": "stderr",
     "output_type": "stream",
     "text": [
      " 88%|████████▊ | 876/1000 [5:21:37<39:57, 19.33s/it]"
     ]
    },
    {
     "name": "stdout",
     "output_type": "stream",
     "text": [
      "eigenvalues shape torch.Size([5]) eigenvectors shape torch.Size([5, 400])\n",
      "876 /home/phdcs2/Hard_Disk/Datasets/Deep-Spectral-Segmentation/data/object-segmentation/ECSSD/features/dino_vits16/0877.pth\n",
      "dict_keys(['k', 'indices', 'file', 'id', 'model_name', 'patch_size', 'shape'])\n",
      "0877\n",
      "Starting Training\n",
      "epoch: 00, loss: -0.41293\n",
      "epoch: 01, loss: -0.65623\n",
      "epoch: 02, loss: -0.63861\n",
      "epoch: 03, loss: -0.68711\n",
      "epoch: 04, loss: -0.71923\n",
      "epoch: 05, loss: -0.74710\n",
      "epoch: 06, loss: -0.78349\n",
      "epoch: 07, loss: -0.77089\n",
      "epoch: 08, loss: -0.77557\n",
      "epoch: 09, loss: -0.79476\n"
     ]
    },
    {
     "name": "stderr",
     "output_type": "stream",
     "text": [
      " 88%|████████▊ | 877/1000 [5:21:56<39:07, 19.09s/it]"
     ]
    },
    {
     "name": "stdout",
     "output_type": "stream",
     "text": [
      "eigenvalues shape torch.Size([5]) eigenvectors shape torch.Size([5, 400])\n",
      "877 /home/phdcs2/Hard_Disk/Datasets/Deep-Spectral-Segmentation/data/object-segmentation/ECSSD/features/dino_vits16/0878.pth\n",
      "dict_keys(['k', 'indices', 'file', 'id', 'model_name', 'patch_size', 'shape'])\n",
      "0878\n",
      "Starting Training\n",
      "epoch: 00, loss: -0.69514\n",
      "epoch: 01, loss: -0.91233\n",
      "epoch: 02, loss: -0.90612\n",
      "epoch: 03, loss: -0.91005\n",
      "epoch: 04, loss: -0.89761\n",
      "epoch: 05, loss: -0.88242\n",
      "epoch: 06, loss: -0.89597\n",
      "epoch: 07, loss: -0.86164\n",
      "epoch: 08, loss: -0.86379\n",
      "epoch: 09, loss: -0.85739\n"
     ]
    },
    {
     "name": "stderr",
     "output_type": "stream",
     "text": [
      " 88%|████████▊ | 878/1000 [5:22:21<42:45, 21.03s/it]"
     ]
    },
    {
     "name": "stdout",
     "output_type": "stream",
     "text": [
      "eigenvalues shape torch.Size([5]) eigenvectors shape torch.Size([5, 525])\n",
      "878 /home/phdcs2/Hard_Disk/Datasets/Deep-Spectral-Segmentation/data/object-segmentation/ECSSD/features/dino_vits16/0879.pth\n",
      "dict_keys(['k', 'indices', 'file', 'id', 'model_name', 'patch_size', 'shape'])\n",
      "0879\n",
      "Starting Training\n",
      "epoch: 00, loss: -0.43528\n",
      "epoch: 01, loss: -0.71615\n",
      "epoch: 02, loss: -0.76225\n",
      "epoch: 03, loss: -0.79020\n",
      "epoch: 04, loss: -0.79409\n",
      "epoch: 05, loss: -0.79748\n",
      "epoch: 06, loss: -0.81198\n",
      "epoch: 07, loss: -0.81313\n",
      "epoch: 08, loss: -0.80417\n",
      "epoch: 09, loss: -0.82910\n"
     ]
    },
    {
     "name": "stderr",
     "output_type": "stream",
     "text": [
      " 88%|████████▊ | 879/1000 [5:22:41<41:38, 20.65s/it]"
     ]
    },
    {
     "name": "stdout",
     "output_type": "stream",
     "text": [
      "eigenvalues shape torch.Size([5]) eigenvectors shape torch.Size([5, 450])\n",
      "879 /home/phdcs2/Hard_Disk/Datasets/Deep-Spectral-Segmentation/data/object-segmentation/ECSSD/features/dino_vits16/0880.pth\n",
      "dict_keys(['k', 'indices', 'file', 'id', 'model_name', 'patch_size', 'shape'])\n",
      "0880\n",
      "Starting Training\n",
      "epoch: 00, loss: -0.52918\n",
      "epoch: 01, loss: -0.88764\n",
      "epoch: 02, loss: -0.92085\n",
      "epoch: 03, loss: -0.92318\n",
      "epoch: 04, loss: -0.92945\n",
      "epoch: 05, loss: -0.92173\n",
      "epoch: 06, loss: -0.93221\n",
      "epoch: 07, loss: -0.94026\n",
      "epoch: 08, loss: -0.92988\n",
      "epoch: 09, loss: -0.92526\n"
     ]
    },
    {
     "name": "stderr",
     "output_type": "stream",
     "text": [
      " 88%|████████▊ | 880/1000 [5:23:00<40:12, 20.10s/it]"
     ]
    },
    {
     "name": "stdout",
     "output_type": "stream",
     "text": [
      "eigenvalues shape torch.Size([5]) eigenvectors shape torch.Size([5, 400])\n",
      "880 /home/phdcs2/Hard_Disk/Datasets/Deep-Spectral-Segmentation/data/object-segmentation/ECSSD/features/dino_vits16/0881.pth\n",
      "dict_keys(['k', 'indices', 'file', 'id', 'model_name', 'patch_size', 'shape'])\n",
      "0881\n",
      "Starting Training\n",
      "epoch: 00, loss: -0.57966\n",
      "epoch: 01, loss: -0.90493\n",
      "epoch: 02, loss: -0.91553\n",
      "epoch: 03, loss: -0.91061\n",
      "epoch: 04, loss: -0.91367\n",
      "epoch: 05, loss: -0.90291\n",
      "epoch: 06, loss: -0.89992\n",
      "epoch: 07, loss: -0.90858\n",
      "epoch: 08, loss: -0.90426\n",
      "epoch: 09, loss: -0.91184\n"
     ]
    },
    {
     "name": "stderr",
     "output_type": "stream",
     "text": [
      " 88%|████████▊ | 881/1000 [5:23:17<38:22, 19.35s/it]"
     ]
    },
    {
     "name": "stdout",
     "output_type": "stream",
     "text": [
      "eigenvalues shape torch.Size([5]) eigenvectors shape torch.Size([5, 400])\n",
      "881 /home/phdcs2/Hard_Disk/Datasets/Deep-Spectral-Segmentation/data/object-segmentation/ECSSD/features/dino_vits16/0882.pth\n",
      "dict_keys(['k', 'indices', 'file', 'id', 'model_name', 'patch_size', 'shape'])\n",
      "0882\n",
      "Starting Training\n",
      "epoch: 00, loss: -0.52691\n",
      "epoch: 01, loss: -0.68683\n",
      "epoch: 02, loss: -0.67890\n",
      "epoch: 03, loss: -0.69286\n",
      "epoch: 04, loss: -0.73439\n",
      "epoch: 05, loss: -0.78943\n",
      "epoch: 06, loss: -0.81139\n",
      "epoch: 07, loss: -0.79767\n",
      "epoch: 08, loss: -0.79817\n",
      "epoch: 09, loss: -0.80699\n"
     ]
    },
    {
     "name": "stderr",
     "output_type": "stream",
     "text": [
      " 88%|████████▊ | 882/1000 [5:23:34<36:33, 18.59s/it]"
     ]
    },
    {
     "name": "stdout",
     "output_type": "stream",
     "text": [
      "eigenvalues shape torch.Size([5]) eigenvectors shape torch.Size([5, 400])\n",
      "882 /home/phdcs2/Hard_Disk/Datasets/Deep-Spectral-Segmentation/data/object-segmentation/ECSSD/features/dino_vits16/0883.pth\n",
      "dict_keys(['k', 'indices', 'file', 'id', 'model_name', 'patch_size', 'shape'])\n",
      "0883\n",
      "Starting Training\n",
      "epoch: 00, loss: -0.59309\n",
      "epoch: 01, loss: -0.82351\n",
      "epoch: 02, loss: -0.85173\n",
      "epoch: 03, loss: -0.86040\n",
      "epoch: 04, loss: -0.85326\n",
      "epoch: 05, loss: -0.83965\n",
      "epoch: 06, loss: -0.82270\n",
      "epoch: 07, loss: -0.79209\n",
      "epoch: 08, loss: -0.83344\n",
      "epoch: 09, loss: -0.82618\n"
     ]
    },
    {
     "name": "stderr",
     "output_type": "stream",
     "text": [
      " 88%|████████▊ | 883/1000 [5:23:55<37:35, 19.28s/it]"
     ]
    },
    {
     "name": "stdout",
     "output_type": "stream",
     "text": [
      "eigenvalues shape torch.Size([5]) eigenvectors shape torch.Size([5, 450])\n",
      "883 /home/phdcs2/Hard_Disk/Datasets/Deep-Spectral-Segmentation/data/object-segmentation/ECSSD/features/dino_vits16/0884.pth\n",
      "dict_keys(['k', 'indices', 'file', 'id', 'model_name', 'patch_size', 'shape'])\n",
      "0884\n",
      "Starting Training\n",
      "epoch: 00, loss: -0.70309\n",
      "epoch: 01, loss: -0.94424\n",
      "epoch: 02, loss: -0.93297\n",
      "epoch: 03, loss: -0.92929\n",
      "epoch: 04, loss: -0.92570\n",
      "epoch: 05, loss: -0.92172\n",
      "epoch: 06, loss: -0.93989\n",
      "epoch: 07, loss: -0.92548\n",
      "epoch: 08, loss: -0.92714\n",
      "epoch: 09, loss: -0.90637\n"
     ]
    },
    {
     "name": "stderr",
     "output_type": "stream",
     "text": [
      " 88%|████████▊ | 884/1000 [5:24:15<37:36, 19.45s/it]"
     ]
    },
    {
     "name": "stdout",
     "output_type": "stream",
     "text": [
      "eigenvalues shape torch.Size([5]) eigenvectors shape torch.Size([5, 425])\n",
      "884 /home/phdcs2/Hard_Disk/Datasets/Deep-Spectral-Segmentation/data/object-segmentation/ECSSD/features/dino_vits16/0885.pth\n",
      "dict_keys(['k', 'indices', 'file', 'id', 'model_name', 'patch_size', 'shape'])\n",
      "0885\n",
      "Starting Training\n",
      "epoch: 00, loss: -0.40526\n",
      "epoch: 01, loss: -0.77433\n",
      "epoch: 02, loss: -0.83491\n",
      "epoch: 03, loss: -0.86738\n",
      "epoch: 04, loss: -0.87255\n",
      "epoch: 05, loss: -0.87596\n",
      "epoch: 06, loss: -0.88009\n",
      "epoch: 07, loss: -0.90269\n",
      "epoch: 08, loss: -0.90851\n",
      "epoch: 09, loss: -0.91089\n"
     ]
    },
    {
     "name": "stderr",
     "output_type": "stream",
     "text": [
      " 88%|████████▊ | 885/1000 [5:24:33<36:36, 19.10s/it]"
     ]
    },
    {
     "name": "stdout",
     "output_type": "stream",
     "text": [
      "eigenvalues shape torch.Size([5]) eigenvectors shape torch.Size([5, 400])\n",
      "885 /home/phdcs2/Hard_Disk/Datasets/Deep-Spectral-Segmentation/data/object-segmentation/ECSSD/features/dino_vits16/0886.pth\n",
      "dict_keys(['k', 'indices', 'file', 'id', 'model_name', 'patch_size', 'shape'])\n",
      "0886\n",
      "Starting Training\n",
      "epoch: 00, loss: -0.33427\n",
      "epoch: 01, loss: -0.55041\n",
      "epoch: 02, loss: -0.72054\n",
      "epoch: 03, loss: -0.74557\n",
      "epoch: 04, loss: -0.79781\n",
      "epoch: 05, loss: -0.81966\n",
      "epoch: 06, loss: -0.81482\n",
      "epoch: 07, loss: -0.81611\n",
      "epoch: 08, loss: -0.82576\n",
      "epoch: 09, loss: -0.84136\n"
     ]
    },
    {
     "name": "stderr",
     "output_type": "stream",
     "text": [
      " 89%|████████▊ | 886/1000 [5:24:50<35:13, 18.54s/it]"
     ]
    },
    {
     "name": "stdout",
     "output_type": "stream",
     "text": [
      "eigenvalues shape torch.Size([5]) eigenvectors shape torch.Size([5, 400])\n",
      "886 /home/phdcs2/Hard_Disk/Datasets/Deep-Spectral-Segmentation/data/object-segmentation/ECSSD/features/dino_vits16/0887.pth\n",
      "dict_keys(['k', 'indices', 'file', 'id', 'model_name', 'patch_size', 'shape'])\n",
      "0887\n",
      "Starting Training\n",
      "epoch: 00, loss: -0.34917\n",
      "epoch: 01, loss: -0.70750\n",
      "epoch: 02, loss: -0.75725\n",
      "epoch: 03, loss: -0.80679\n",
      "epoch: 04, loss: -0.84666\n",
      "epoch: 05, loss: -0.83525\n",
      "epoch: 06, loss: -0.82711\n",
      "epoch: 07, loss: -0.88804\n",
      "epoch: 08, loss: -0.85829\n",
      "epoch: 09, loss: -0.87087\n"
     ]
    },
    {
     "name": "stderr",
     "output_type": "stream",
     "text": [
      " 89%|████████▊ | 887/1000 [5:25:08<34:12, 18.16s/it]"
     ]
    },
    {
     "name": "stdout",
     "output_type": "stream",
     "text": [
      "eigenvalues shape torch.Size([5]) eigenvectors shape torch.Size([5, 375])\n",
      "887 /home/phdcs2/Hard_Disk/Datasets/Deep-Spectral-Segmentation/data/object-segmentation/ECSSD/features/dino_vits16/0888.pth\n",
      "dict_keys(['k', 'indices', 'file', 'id', 'model_name', 'patch_size', 'shape'])\n",
      "0888\n",
      "Starting Training\n",
      "epoch: 00, loss: -0.48387\n",
      "epoch: 01, loss: -0.77278\n",
      "epoch: 02, loss: -0.83035\n",
      "epoch: 03, loss: -0.85489\n",
      "epoch: 04, loss: -0.86784\n",
      "epoch: 05, loss: -0.84362\n",
      "epoch: 06, loss: -0.84443\n",
      "epoch: 07, loss: -0.83457\n",
      "epoch: 08, loss: -0.83810\n",
      "epoch: 09, loss: -0.82522\n"
     ]
    },
    {
     "name": "stderr",
     "output_type": "stream",
     "text": [
      " 89%|████████▉ | 888/1000 [5:25:36<39:44, 21.29s/it]"
     ]
    },
    {
     "name": "stdout",
     "output_type": "stream",
     "text": [
      "eigenvalues shape torch.Size([5]) eigenvectors shape torch.Size([5, 625])\n",
      "888 /home/phdcs2/Hard_Disk/Datasets/Deep-Spectral-Segmentation/data/object-segmentation/ECSSD/features/dino_vits16/0889.pth\n",
      "dict_keys(['k', 'indices', 'file', 'id', 'model_name', 'patch_size', 'shape'])\n",
      "0889\n",
      "Starting Training\n",
      "epoch: 00, loss: -0.49071\n",
      "epoch: 01, loss: -0.88600\n",
      "epoch: 02, loss: -0.90534\n",
      "epoch: 03, loss: -0.91068\n",
      "epoch: 04, loss: -0.91224\n",
      "epoch: 05, loss: -0.91264\n",
      "epoch: 06, loss: -0.91562\n",
      "epoch: 07, loss: -0.90799\n",
      "epoch: 08, loss: -0.88625\n",
      "epoch: 09, loss: -0.87101\n"
     ]
    },
    {
     "name": "stderr",
     "output_type": "stream",
     "text": [
      " 89%|████████▉ | 889/1000 [5:25:58<39:47, 21.51s/it]"
     ]
    },
    {
     "name": "stdout",
     "output_type": "stream",
     "text": [
      "eigenvalues shape torch.Size([5]) eigenvectors shape torch.Size([5, 450])\n",
      "889 /home/phdcs2/Hard_Disk/Datasets/Deep-Spectral-Segmentation/data/object-segmentation/ECSSD/features/dino_vits16/0890.pth\n",
      "dict_keys(['k', 'indices', 'file', 'id', 'model_name', 'patch_size', 'shape'])\n",
      "0890\n",
      "Starting Training\n",
      "epoch: 00, loss: -0.49822\n",
      "epoch: 01, loss: -0.75032\n",
      "epoch: 02, loss: -0.72353\n",
      "epoch: 03, loss: -0.65792\n",
      "epoch: 04, loss: -0.65078\n",
      "epoch: 05, loss: -0.67421\n",
      "epoch: 06, loss: -0.72199\n",
      "epoch: 07, loss: -0.73453\n",
      "epoch: 08, loss: -0.71779\n",
      "epoch: 09, loss: -0.71214\n"
     ]
    },
    {
     "name": "stderr",
     "output_type": "stream",
     "text": [
      " 89%|████████▉ | 890/1000 [5:26:19<38:50, 21.18s/it]"
     ]
    },
    {
     "name": "stdout",
     "output_type": "stream",
     "text": [
      "eigenvalues shape torch.Size([5]) eigenvectors shape torch.Size([5, 500])\n",
      "890 /home/phdcs2/Hard_Disk/Datasets/Deep-Spectral-Segmentation/data/object-segmentation/ECSSD/features/dino_vits16/0891.pth\n",
      "dict_keys(['k', 'indices', 'file', 'id', 'model_name', 'patch_size', 'shape'])\n",
      "0891\n",
      "Starting Training\n",
      "epoch: 00, loss: -0.45340\n",
      "epoch: 01, loss: -0.84325\n",
      "epoch: 02, loss: -0.78927\n",
      "epoch: 03, loss: -0.79139\n",
      "epoch: 04, loss: -0.75941\n",
      "epoch: 05, loss: -0.78016\n",
      "epoch: 06, loss: -0.78494\n",
      "epoch: 07, loss: -0.79021\n",
      "epoch: 08, loss: -0.80091\n",
      "epoch: 09, loss: -0.82538\n"
     ]
    },
    {
     "name": "stderr",
     "output_type": "stream",
     "text": [
      " 89%|████████▉ | 891/1000 [5:26:37<36:56, 20.33s/it]"
     ]
    },
    {
     "name": "stdout",
     "output_type": "stream",
     "text": [
      "eigenvalues shape torch.Size([5]) eigenvectors shape torch.Size([5, 400])\n",
      "891 /home/phdcs2/Hard_Disk/Datasets/Deep-Spectral-Segmentation/data/object-segmentation/ECSSD/features/dino_vits16/0892.pth\n",
      "dict_keys(['k', 'indices', 'file', 'id', 'model_name', 'patch_size', 'shape'])\n",
      "0892\n",
      "Starting Training\n",
      "epoch: 00, loss: -0.26144\n",
      "epoch: 01, loss: -0.63261\n",
      "epoch: 02, loss: -0.65884\n",
      "epoch: 03, loss: -0.68354\n",
      "epoch: 04, loss: -0.71510\n",
      "epoch: 05, loss: -0.72464\n",
      "epoch: 06, loss: -0.70532\n",
      "epoch: 07, loss: -0.70996\n",
      "epoch: 08, loss: -0.74848\n",
      "epoch: 09, loss: -0.71154\n"
     ]
    },
    {
     "name": "stderr",
     "output_type": "stream",
     "text": [
      " 89%|████████▉ | 892/1000 [5:26:53<34:14, 19.02s/it]"
     ]
    },
    {
     "name": "stdout",
     "output_type": "stream",
     "text": [
      "eigenvalues shape torch.Size([5]) eigenvectors shape torch.Size([5, 350])\n",
      "892 /home/phdcs2/Hard_Disk/Datasets/Deep-Spectral-Segmentation/data/object-segmentation/ECSSD/features/dino_vits16/0893.pth\n",
      "dict_keys(['k', 'indices', 'file', 'id', 'model_name', 'patch_size', 'shape'])\n",
      "0893\n",
      "Starting Training\n",
      "epoch: 00, loss: -0.56780\n",
      "epoch: 01, loss: -0.87195\n",
      "epoch: 02, loss: -0.86264\n",
      "epoch: 03, loss: -0.85092\n",
      "epoch: 04, loss: -0.81780\n",
      "epoch: 05, loss: -0.78861\n",
      "epoch: 06, loss: -0.81554\n",
      "epoch: 07, loss: -0.81965\n",
      "epoch: 08, loss: -0.82205\n",
      "epoch: 09, loss: -0.83730\n"
     ]
    },
    {
     "name": "stderr",
     "output_type": "stream",
     "text": [
      " 89%|████████▉ | 893/1000 [5:27:11<33:26, 18.75s/it]"
     ]
    },
    {
     "name": "stdout",
     "output_type": "stream",
     "text": [
      "eigenvalues shape torch.Size([5]) eigenvectors shape torch.Size([5, 400])\n",
      "893 /home/phdcs2/Hard_Disk/Datasets/Deep-Spectral-Segmentation/data/object-segmentation/ECSSD/features/dino_vits16/0894.pth\n",
      "dict_keys(['k', 'indices', 'file', 'id', 'model_name', 'patch_size', 'shape'])\n",
      "0894\n",
      "Starting Training\n",
      "epoch: 00, loss: -0.48993\n",
      "epoch: 01, loss: -0.72792\n",
      "epoch: 02, loss: -0.74847\n",
      "epoch: 03, loss: -0.74388\n",
      "epoch: 04, loss: -0.78132\n",
      "epoch: 05, loss: -0.78302\n",
      "epoch: 06, loss: -0.78800\n",
      "epoch: 07, loss: -0.77824\n",
      "epoch: 08, loss: -0.77967\n",
      "epoch: 09, loss: -0.77118\n"
     ]
    },
    {
     "name": "stderr",
     "output_type": "stream",
     "text": [
      " 89%|████████▉ | 894/1000 [5:27:33<34:33, 19.56s/it]"
     ]
    },
    {
     "name": "stdout",
     "output_type": "stream",
     "text": [
      "eigenvalues shape torch.Size([5]) eigenvectors shape torch.Size([5, 450])\n",
      "894 /home/phdcs2/Hard_Disk/Datasets/Deep-Spectral-Segmentation/data/object-segmentation/ECSSD/features/dino_vits16/0895.pth\n",
      "dict_keys(['k', 'indices', 'file', 'id', 'model_name', 'patch_size', 'shape'])\n",
      "0895\n",
      "Starting Training\n",
      "epoch: 00, loss: -0.30785\n",
      "epoch: 01, loss: -0.68676\n",
      "epoch: 02, loss: -0.75764\n",
      "epoch: 03, loss: -0.77872\n",
      "epoch: 04, loss: -0.78147\n",
      "epoch: 05, loss: -0.78619\n",
      "epoch: 06, loss: -0.76731\n",
      "epoch: 07, loss: -0.78468\n",
      "epoch: 08, loss: -0.77685\n",
      "epoch: 09, loss: -0.77354\n"
     ]
    },
    {
     "name": "stderr",
     "output_type": "stream",
     "text": [
      " 90%|████████▉ | 895/1000 [5:27:53<34:46, 19.88s/it]"
     ]
    },
    {
     "name": "stdout",
     "output_type": "stream",
     "text": [
      "eigenvalues shape torch.Size([5]) eigenvectors shape torch.Size([5, 450])\n",
      "895 /home/phdcs2/Hard_Disk/Datasets/Deep-Spectral-Segmentation/data/object-segmentation/ECSSD/features/dino_vits16/0896.pth\n",
      "dict_keys(['k', 'indices', 'file', 'id', 'model_name', 'patch_size', 'shape'])\n",
      "0896\n",
      "Starting Training\n",
      "epoch: 00, loss: -0.44708\n",
      "epoch: 01, loss: -0.76829\n",
      "epoch: 02, loss: -0.83243\n",
      "epoch: 03, loss: -0.86239\n",
      "epoch: 04, loss: -0.85847\n",
      "epoch: 05, loss: -0.86345\n",
      "epoch: 06, loss: -0.84961\n",
      "epoch: 07, loss: -0.85952\n",
      "epoch: 08, loss: -0.86469\n",
      "epoch: 09, loss: -0.87863\n"
     ]
    },
    {
     "name": "stderr",
     "output_type": "stream",
     "text": [
      " 90%|████████▉ | 896/1000 [5:28:15<35:35, 20.53s/it]"
     ]
    },
    {
     "name": "stdout",
     "output_type": "stream",
     "text": [
      "eigenvalues shape torch.Size([5]) eigenvectors shape torch.Size([5, 450])\n",
      "896 /home/phdcs2/Hard_Disk/Datasets/Deep-Spectral-Segmentation/data/object-segmentation/ECSSD/features/dino_vits16/0897.pth\n",
      "dict_keys(['k', 'indices', 'file', 'id', 'model_name', 'patch_size', 'shape'])\n",
      "0897\n",
      "Starting Training\n",
      "epoch: 00, loss: -0.31179\n",
      "epoch: 01, loss: -0.69156\n",
      "epoch: 02, loss: -0.71495\n",
      "epoch: 03, loss: -0.74006\n",
      "epoch: 04, loss: -0.76346\n",
      "epoch: 05, loss: -0.76344\n",
      "epoch: 06, loss: -0.74539\n",
      "epoch: 07, loss: -0.74599\n",
      "epoch: 08, loss: -0.76737\n",
      "epoch: 09, loss: -0.76746\n"
     ]
    },
    {
     "name": "stderr",
     "output_type": "stream",
     "text": [
      " 90%|████████▉ | 897/1000 [5:28:31<32:42, 19.06s/it]"
     ]
    },
    {
     "name": "stdout",
     "output_type": "stream",
     "text": [
      "eigenvalues shape torch.Size([5]) eigenvectors shape torch.Size([5, 325])\n",
      "897 /home/phdcs2/Hard_Disk/Datasets/Deep-Spectral-Segmentation/data/object-segmentation/ECSSD/features/dino_vits16/0898.pth\n",
      "dict_keys(['k', 'indices', 'file', 'id', 'model_name', 'patch_size', 'shape'])\n",
      "0898\n",
      "Starting Training\n",
      "epoch: 00, loss: -0.28731\n",
      "epoch: 01, loss: -0.57115\n",
      "epoch: 02, loss: -0.67323\n",
      "epoch: 03, loss: -0.77433\n",
      "epoch: 04, loss: -0.81062\n",
      "epoch: 05, loss: -0.84661\n",
      "epoch: 06, loss: -0.85613\n",
      "epoch: 07, loss: -0.66767\n",
      "epoch: 08, loss: -0.75278\n",
      "epoch: 09, loss: -0.79640\n"
     ]
    },
    {
     "name": "stderr",
     "output_type": "stream",
     "text": [
      " 90%|████████▉ | 898/1000 [5:28:48<31:26, 18.49s/it]"
     ]
    },
    {
     "name": "stdout",
     "output_type": "stream",
     "text": [
      "eigenvalues shape torch.Size([5]) eigenvectors shape torch.Size([5, 350])\n",
      "898 /home/phdcs2/Hard_Disk/Datasets/Deep-Spectral-Segmentation/data/object-segmentation/ECSSD/features/dino_vits16/0899.pth\n",
      "dict_keys(['k', 'indices', 'file', 'id', 'model_name', 'patch_size', 'shape'])\n",
      "0899\n",
      "Starting Training\n",
      "epoch: 00, loss: -0.40963\n",
      "epoch: 01, loss: -0.80324\n",
      "epoch: 02, loss: -0.83183\n",
      "epoch: 03, loss: -0.82835\n",
      "epoch: 04, loss: -0.83466\n",
      "epoch: 05, loss: -0.85328\n",
      "epoch: 06, loss: -0.86363\n",
      "epoch: 07, loss: -0.87853\n",
      "epoch: 08, loss: -0.87085\n",
      "epoch: 09, loss: -0.88455\n"
     ]
    },
    {
     "name": "stderr",
     "output_type": "stream",
     "text": [
      " 90%|████████▉ | 899/1000 [5:29:09<32:29, 19.30s/it]"
     ]
    },
    {
     "name": "stdout",
     "output_type": "stream",
     "text": [
      "eigenvalues shape torch.Size([5]) eigenvectors shape torch.Size([5, 450])\n",
      "899 /home/phdcs2/Hard_Disk/Datasets/Deep-Spectral-Segmentation/data/object-segmentation/ECSSD/features/dino_vits16/0900.pth\n",
      "dict_keys(['k', 'indices', 'file', 'id', 'model_name', 'patch_size', 'shape'])\n",
      "0900\n",
      "Starting Training\n",
      "epoch: 00, loss: -0.54926\n",
      "epoch: 01, loss: -0.91913\n",
      "epoch: 02, loss: -0.92700\n",
      "epoch: 03, loss: -0.92253\n",
      "epoch: 04, loss: -0.90537\n",
      "epoch: 05, loss: -0.87711\n",
      "epoch: 06, loss: -0.85510\n",
      "epoch: 07, loss: -0.85490\n",
      "epoch: 08, loss: -0.84946\n",
      "epoch: 09, loss: -0.83637\n"
     ]
    },
    {
     "name": "stderr",
     "output_type": "stream",
     "text": [
      " 90%|█████████ | 900/1000 [5:29:26<31:05, 18.65s/it]"
     ]
    },
    {
     "name": "stdout",
     "output_type": "stream",
     "text": [
      "eigenvalues shape torch.Size([5]) eigenvectors shape torch.Size([5, 400])\n",
      "900 /home/phdcs2/Hard_Disk/Datasets/Deep-Spectral-Segmentation/data/object-segmentation/ECSSD/features/dino_vits16/0901.pth\n",
      "dict_keys(['k', 'indices', 'file', 'id', 'model_name', 'patch_size', 'shape'])\n",
      "0901\n",
      "Starting Training\n",
      "epoch: 00, loss: -0.38922\n",
      "epoch: 01, loss: -0.75964\n",
      "epoch: 02, loss: -0.79657\n",
      "epoch: 03, loss: -0.80688\n",
      "epoch: 04, loss: -0.84369\n",
      "epoch: 05, loss: -0.84633\n",
      "epoch: 06, loss: -0.84067\n",
      "epoch: 07, loss: -0.85380\n",
      "epoch: 08, loss: -0.85606\n",
      "epoch: 09, loss: -0.86568\n"
     ]
    },
    {
     "name": "stderr",
     "output_type": "stream",
     "text": [
      " 90%|█████████ | 901/1000 [5:29:45<30:51, 18.70s/it]"
     ]
    },
    {
     "name": "stdout",
     "output_type": "stream",
     "text": [
      "eigenvalues shape torch.Size([5]) eigenvectors shape torch.Size([5, 400])\n",
      "901 /home/phdcs2/Hard_Disk/Datasets/Deep-Spectral-Segmentation/data/object-segmentation/ECSSD/features/dino_vits16/0902.pth\n",
      "dict_keys(['k', 'indices', 'file', 'id', 'model_name', 'patch_size', 'shape'])\n",
      "0902\n",
      "Starting Training\n",
      "epoch: 00, loss: -0.46099\n",
      "epoch: 01, loss: -0.77049\n",
      "epoch: 02, loss: -0.84153\n",
      "epoch: 03, loss: -0.85920\n",
      "epoch: 04, loss: -0.81945\n",
      "epoch: 05, loss: -0.83331\n",
      "epoch: 06, loss: -0.83801\n",
      "epoch: 07, loss: -0.83206\n",
      "epoch: 08, loss: -0.83244\n",
      "epoch: 09, loss: -0.82624\n"
     ]
    },
    {
     "name": "stderr",
     "output_type": "stream",
     "text": [
      " 90%|█████████ | 902/1000 [5:30:06<31:50, 19.50s/it]"
     ]
    },
    {
     "name": "stdout",
     "output_type": "stream",
     "text": [
      "eigenvalues shape torch.Size([5]) eigenvectors shape torch.Size([5, 450])\n",
      "902 /home/phdcs2/Hard_Disk/Datasets/Deep-Spectral-Segmentation/data/object-segmentation/ECSSD/features/dino_vits16/0903.pth\n",
      "dict_keys(['k', 'indices', 'file', 'id', 'model_name', 'patch_size', 'shape'])\n",
      "0903\n",
      "Starting Training\n",
      "epoch: 00, loss: -0.66105\n",
      "epoch: 01, loss: -0.88223\n",
      "epoch: 02, loss: -0.89877\n",
      "epoch: 03, loss: -0.90867\n",
      "epoch: 04, loss: -0.89227\n",
      "epoch: 05, loss: -0.88084\n",
      "epoch: 06, loss: -0.88275\n",
      "epoch: 07, loss: -0.88043\n",
      "epoch: 08, loss: -0.87317\n",
      "epoch: 09, loss: -0.87092\n"
     ]
    },
    {
     "name": "stderr",
     "output_type": "stream",
     "text": [
      " 90%|█████████ | 903/1000 [5:30:32<34:37, 21.42s/it]"
     ]
    },
    {
     "name": "stdout",
     "output_type": "stream",
     "text": [
      "eigenvalues shape torch.Size([5]) eigenvectors shape torch.Size([5, 500])\n",
      "903 /home/phdcs2/Hard_Disk/Datasets/Deep-Spectral-Segmentation/data/object-segmentation/ECSSD/features/dino_vits16/0904.pth\n",
      "dict_keys(['k', 'indices', 'file', 'id', 'model_name', 'patch_size', 'shape'])\n",
      "0904\n",
      "Starting Training\n",
      "epoch: 00, loss: -0.40150\n",
      "epoch: 01, loss: -0.75449\n",
      "epoch: 02, loss: -0.87732\n",
      "epoch: 03, loss: -0.89641\n",
      "epoch: 04, loss: -0.90989\n",
      "epoch: 05, loss: -0.92701\n",
      "epoch: 06, loss: -0.91957\n",
      "epoch: 07, loss: -0.91224\n",
      "epoch: 08, loss: -0.91671\n",
      "epoch: 09, loss: -0.91322\n"
     ]
    },
    {
     "name": "stderr",
     "output_type": "stream",
     "text": [
      " 90%|█████████ | 904/1000 [5:30:49<32:09, 20.10s/it]"
     ]
    },
    {
     "name": "stdout",
     "output_type": "stream",
     "text": [
      "eigenvalues shape torch.Size([5]) eigenvectors shape torch.Size([5, 375])\n",
      "904 /home/phdcs2/Hard_Disk/Datasets/Deep-Spectral-Segmentation/data/object-segmentation/ECSSD/features/dino_vits16/0905.pth\n",
      "dict_keys(['k', 'indices', 'file', 'id', 'model_name', 'patch_size', 'shape'])\n",
      "0905\n",
      "Starting Training\n",
      "epoch: 00, loss: -0.43825\n",
      "epoch: 01, loss: -0.72059\n",
      "epoch: 02, loss: -0.73267\n",
      "epoch: 03, loss: -0.72120\n",
      "epoch: 04, loss: -0.72764\n",
      "epoch: 05, loss: -0.67821\n",
      "epoch: 06, loss: -0.67398\n",
      "epoch: 07, loss: -0.73672\n",
      "epoch: 08, loss: -0.75958\n",
      "epoch: 09, loss: -0.75008\n"
     ]
    },
    {
     "name": "stderr",
     "output_type": "stream",
     "text": [
      " 90%|█████████ | 905/1000 [5:31:08<30:52, 19.50s/it]"
     ]
    },
    {
     "name": "stdout",
     "output_type": "stream",
     "text": [
      "eigenvalues shape torch.Size([5]) eigenvectors shape torch.Size([5, 400])\n",
      "905 /home/phdcs2/Hard_Disk/Datasets/Deep-Spectral-Segmentation/data/object-segmentation/ECSSD/features/dino_vits16/0906.pth\n",
      "dict_keys(['k', 'indices', 'file', 'id', 'model_name', 'patch_size', 'shape'])\n",
      "0906\n",
      "Starting Training\n",
      "epoch: 00, loss: -0.29340\n",
      "epoch: 01, loss: -0.68490\n",
      "epoch: 02, loss: -0.75844\n",
      "epoch: 03, loss: -0.78126\n",
      "epoch: 04, loss: -0.79611\n",
      "epoch: 05, loss: -0.80595\n",
      "epoch: 06, loss: -0.80656\n",
      "epoch: 07, loss: -0.80782\n",
      "epoch: 08, loss: -0.80824\n",
      "epoch: 09, loss: -0.82032\n"
     ]
    },
    {
     "name": "stderr",
     "output_type": "stream",
     "text": [
      " 91%|█████████ | 906/1000 [5:31:23<28:41, 18.32s/it]"
     ]
    },
    {
     "name": "stdout",
     "output_type": "stream",
     "text": [
      "eigenvalues shape torch.Size([5]) eigenvectors shape torch.Size([5, 350])\n",
      "906 /home/phdcs2/Hard_Disk/Datasets/Deep-Spectral-Segmentation/data/object-segmentation/ECSSD/features/dino_vits16/0907.pth\n",
      "dict_keys(['k', 'indices', 'file', 'id', 'model_name', 'patch_size', 'shape'])\n",
      "0907\n",
      "Starting Training\n",
      "epoch: 00, loss: -0.56786\n",
      "epoch: 01, loss: -0.86668\n",
      "epoch: 02, loss: -0.87637\n",
      "epoch: 03, loss: -0.87732\n",
      "epoch: 04, loss: -0.88100\n",
      "epoch: 05, loss: -0.89554\n",
      "epoch: 06, loss: -0.89144\n",
      "epoch: 07, loss: -0.88133\n",
      "epoch: 08, loss: -0.87512\n",
      "epoch: 09, loss: -0.89043\n"
     ]
    },
    {
     "name": "stderr",
     "output_type": "stream",
     "text": [
      " 91%|█████████ | 907/1000 [5:31:41<28:19, 18.28s/it]"
     ]
    },
    {
     "name": "stdout",
     "output_type": "stream",
     "text": [
      "eigenvalues shape torch.Size([5]) eigenvectors shape torch.Size([5, 400])\n",
      "907 /home/phdcs2/Hard_Disk/Datasets/Deep-Spectral-Segmentation/data/object-segmentation/ECSSD/features/dino_vits16/0908.pth\n",
      "dict_keys(['k', 'indices', 'file', 'id', 'model_name', 'patch_size', 'shape'])\n",
      "0908\n",
      "Starting Training\n",
      "epoch: 00, loss: -0.55773\n",
      "epoch: 01, loss: -0.90764\n",
      "epoch: 02, loss: -0.92068\n",
      "epoch: 03, loss: -0.84678\n",
      "epoch: 04, loss: -0.83162\n",
      "epoch: 05, loss: -0.82927\n",
      "epoch: 06, loss: -0.81479\n",
      "epoch: 07, loss: -0.78541\n",
      "epoch: 08, loss: -0.72194\n",
      "epoch: 09, loss: -0.81686\n"
     ]
    },
    {
     "name": "stderr",
     "output_type": "stream",
     "text": [
      " 91%|█████████ | 908/1000 [5:31:57<26:54, 17.55s/it]"
     ]
    },
    {
     "name": "stdout",
     "output_type": "stream",
     "text": [
      "eigenvalues shape torch.Size([5]) eigenvectors shape torch.Size([5, 400])\n",
      "908 /home/phdcs2/Hard_Disk/Datasets/Deep-Spectral-Segmentation/data/object-segmentation/ECSSD/features/dino_vits16/0909.pth\n",
      "dict_keys(['k', 'indices', 'file', 'id', 'model_name', 'patch_size', 'shape'])\n",
      "0909\n",
      "Starting Training\n",
      "epoch: 00, loss: -0.67253\n",
      "epoch: 01, loss: -0.91308\n",
      "epoch: 02, loss: -0.92360\n",
      "epoch: 03, loss: -0.91484\n",
      "epoch: 04, loss: -0.91611\n",
      "epoch: 05, loss: -0.91807\n",
      "epoch: 06, loss: -0.90926\n",
      "epoch: 07, loss: -0.90792\n",
      "epoch: 08, loss: -0.87678\n",
      "epoch: 09, loss: -0.87961\n"
     ]
    },
    {
     "name": "stderr",
     "output_type": "stream",
     "text": [
      " 91%|█████████ | 909/1000 [5:32:15<27:00, 17.80s/it]"
     ]
    },
    {
     "name": "stdout",
     "output_type": "stream",
     "text": [
      "eigenvalues shape torch.Size([5]) eigenvectors shape torch.Size([5, 400])\n",
      "909 /home/phdcs2/Hard_Disk/Datasets/Deep-Spectral-Segmentation/data/object-segmentation/ECSSD/features/dino_vits16/0910.pth\n",
      "dict_keys(['k', 'indices', 'file', 'id', 'model_name', 'patch_size', 'shape'])\n",
      "0910\n",
      "Starting Training\n",
      "epoch: 00, loss: -0.32966\n",
      "epoch: 01, loss: -0.60291\n",
      "epoch: 02, loss: -0.69026\n",
      "epoch: 03, loss: -0.73874\n",
      "epoch: 04, loss: -0.76406\n",
      "epoch: 05, loss: -0.74166\n",
      "epoch: 06, loss: -0.72758\n",
      "epoch: 07, loss: -0.70235\n",
      "epoch: 08, loss: -0.66180\n",
      "epoch: 09, loss: -0.71412\n"
     ]
    },
    {
     "name": "stderr",
     "output_type": "stream",
     "text": [
      " 91%|█████████ | 910/1000 [5:32:35<27:15, 18.17s/it]"
     ]
    },
    {
     "name": "stdout",
     "output_type": "stream",
     "text": [
      "eigenvalues shape torch.Size([5]) eigenvectors shape torch.Size([5, 400])\n",
      "910 /home/phdcs2/Hard_Disk/Datasets/Deep-Spectral-Segmentation/data/object-segmentation/ECSSD/features/dino_vits16/0911.pth\n",
      "dict_keys(['k', 'indices', 'file', 'id', 'model_name', 'patch_size', 'shape'])\n",
      "0911\n",
      "Starting Training\n",
      "epoch: 00, loss: -0.48394\n",
      "epoch: 01, loss: -0.78480\n",
      "epoch: 02, loss: -0.82671\n",
      "epoch: 03, loss: -0.85106\n",
      "epoch: 04, loss: -0.85543\n",
      "epoch: 05, loss: -0.86701\n",
      "epoch: 06, loss: -0.87872\n",
      "epoch: 07, loss: -0.88651\n",
      "epoch: 08, loss: -0.89312\n",
      "epoch: 09, loss: -0.89326\n"
     ]
    },
    {
     "name": "stderr",
     "output_type": "stream",
     "text": [
      " 91%|█████████ | 911/1000 [5:33:03<31:33, 21.27s/it]"
     ]
    },
    {
     "name": "stdout",
     "output_type": "stream",
     "text": [
      "eigenvalues shape torch.Size([5]) eigenvectors shape torch.Size([5, 625])\n",
      "911 /home/phdcs2/Hard_Disk/Datasets/Deep-Spectral-Segmentation/data/object-segmentation/ECSSD/features/dino_vits16/0912.pth\n",
      "dict_keys(['k', 'indices', 'file', 'id', 'model_name', 'patch_size', 'shape'])\n",
      "0912\n",
      "Starting Training\n",
      "epoch: 00, loss: -0.43343\n",
      "epoch: 01, loss: -0.67510\n",
      "epoch: 02, loss: -0.70168\n",
      "epoch: 03, loss: -0.69574\n",
      "epoch: 04, loss: -0.66476\n",
      "epoch: 05, loss: -0.71289\n",
      "epoch: 06, loss: -0.72276\n",
      "epoch: 07, loss: -0.74841\n",
      "epoch: 08, loss: -0.78662\n",
      "epoch: 09, loss: -0.78962\n"
     ]
    },
    {
     "name": "stderr",
     "output_type": "stream",
     "text": [
      " 91%|█████████ | 912/1000 [5:33:24<31:06, 21.21s/it]"
     ]
    },
    {
     "name": "stdout",
     "output_type": "stream",
     "text": [
      "eigenvalues shape torch.Size([5]) eigenvectors shape torch.Size([5, 450])\n",
      "912 /home/phdcs2/Hard_Disk/Datasets/Deep-Spectral-Segmentation/data/object-segmentation/ECSSD/features/dino_vits16/0913.pth\n",
      "dict_keys(['k', 'indices', 'file', 'id', 'model_name', 'patch_size', 'shape'])\n",
      "0913\n",
      "Starting Training\n",
      "epoch: 00, loss: -0.45590\n",
      "epoch: 01, loss: -0.86551\n",
      "epoch: 02, loss: -0.88942\n",
      "epoch: 03, loss: -0.91077\n",
      "epoch: 04, loss: -0.88506\n",
      "epoch: 05, loss: -0.88411\n",
      "epoch: 06, loss: -0.88186\n",
      "epoch: 07, loss: -0.86503\n",
      "epoch: 08, loss: -0.85880\n",
      "epoch: 09, loss: -0.83323\n"
     ]
    },
    {
     "name": "stderr",
     "output_type": "stream",
     "text": [
      " 91%|█████████▏| 913/1000 [5:33:43<29:42, 20.49s/it]"
     ]
    },
    {
     "name": "stdout",
     "output_type": "stream",
     "text": [
      "eigenvalues shape torch.Size([5]) eigenvectors shape torch.Size([5, 400])\n",
      "913 /home/phdcs2/Hard_Disk/Datasets/Deep-Spectral-Segmentation/data/object-segmentation/ECSSD/features/dino_vits16/0914.pth\n",
      "dict_keys(['k', 'indices', 'file', 'id', 'model_name', 'patch_size', 'shape'])\n",
      "0914\n",
      "Starting Training\n",
      "epoch: 00, loss: -0.56874\n",
      "epoch: 01, loss: -0.88324\n",
      "epoch: 02, loss: -0.82182\n",
      "epoch: 03, loss: -0.76927\n",
      "epoch: 04, loss: -0.82427\n",
      "epoch: 05, loss: -0.87398\n",
      "epoch: 06, loss: -0.84006\n",
      "epoch: 07, loss: -0.84810\n",
      "epoch: 08, loss: -0.83944\n",
      "epoch: 09, loss: -0.84608\n"
     ]
    },
    {
     "name": "stderr",
     "output_type": "stream",
     "text": [
      " 91%|█████████▏| 914/1000 [5:34:03<29:24, 20.51s/it]"
     ]
    },
    {
     "name": "stdout",
     "output_type": "stream",
     "text": [
      "eigenvalues shape torch.Size([5]) eigenvectors shape torch.Size([5, 450])\n",
      "914 /home/phdcs2/Hard_Disk/Datasets/Deep-Spectral-Segmentation/data/object-segmentation/ECSSD/features/dino_vits16/0915.pth\n",
      "dict_keys(['k', 'indices', 'file', 'id', 'model_name', 'patch_size', 'shape'])\n",
      "0915\n",
      "Starting Training\n",
      "epoch: 00, loss: -0.25662\n",
      "epoch: 01, loss: -0.62554\n",
      "epoch: 02, loss: -0.70530\n",
      "epoch: 03, loss: -0.68536\n",
      "epoch: 04, loss: -0.73497\n",
      "epoch: 05, loss: -0.77256\n",
      "epoch: 06, loss: -0.80076\n",
      "epoch: 07, loss: -0.80273\n",
      "epoch: 08, loss: -0.80368\n",
      "epoch: 09, loss: -0.82401\n"
     ]
    },
    {
     "name": "stderr",
     "output_type": "stream",
     "text": [
      " 92%|█████████▏| 915/1000 [5:34:17<25:53, 18.27s/it]"
     ]
    },
    {
     "name": "stdout",
     "output_type": "stream",
     "text": [
      "eigenvalues shape torch.Size([5]) eigenvectors shape torch.Size([5, 300])\n",
      "915 /home/phdcs2/Hard_Disk/Datasets/Deep-Spectral-Segmentation/data/object-segmentation/ECSSD/features/dino_vits16/0916.pth\n",
      "dict_keys(['k', 'indices', 'file', 'id', 'model_name', 'patch_size', 'shape'])\n",
      "0916\n",
      "Starting Training\n",
      "epoch: 00, loss: -0.43900\n",
      "epoch: 01, loss: -0.69878\n",
      "epoch: 02, loss: -0.67765\n",
      "epoch: 03, loss: -0.68863\n",
      "epoch: 04, loss: -0.73353\n",
      "epoch: 05, loss: -0.73269\n",
      "epoch: 06, loss: -0.74116\n",
      "epoch: 07, loss: -0.74714\n",
      "epoch: 08, loss: -0.82077\n",
      "epoch: 09, loss: -0.81847\n"
     ]
    },
    {
     "name": "stderr",
     "output_type": "stream",
     "text": [
      " 92%|█████████▏| 916/1000 [5:34:37<26:38, 19.03s/it]"
     ]
    },
    {
     "name": "stdout",
     "output_type": "stream",
     "text": [
      "eigenvalues shape torch.Size([5]) eigenvectors shape torch.Size([5, 450])\n",
      "916 /home/phdcs2/Hard_Disk/Datasets/Deep-Spectral-Segmentation/data/object-segmentation/ECSSD/features/dino_vits16/0917.pth\n",
      "dict_keys(['k', 'indices', 'file', 'id', 'model_name', 'patch_size', 'shape'])\n",
      "0917\n",
      "Starting Training\n",
      "epoch: 00, loss: -0.54183\n",
      "epoch: 01, loss: -0.85277\n",
      "epoch: 02, loss: -0.86117\n",
      "epoch: 03, loss: -0.79478\n",
      "epoch: 04, loss: -0.78339\n",
      "epoch: 05, loss: -0.73110\n",
      "epoch: 06, loss: -0.76472\n",
      "epoch: 07, loss: -0.80355\n",
      "epoch: 08, loss: -0.83965\n",
      "epoch: 09, loss: -0.81819\n"
     ]
    },
    {
     "name": "stderr",
     "output_type": "stream",
     "text": [
      " 92%|█████████▏| 917/1000 [5:34:57<26:25, 19.10s/it]"
     ]
    },
    {
     "name": "stdout",
     "output_type": "stream",
     "text": [
      "eigenvalues shape torch.Size([5]) eigenvectors shape torch.Size([5, 425])\n",
      "917 /home/phdcs2/Hard_Disk/Datasets/Deep-Spectral-Segmentation/data/object-segmentation/ECSSD/features/dino_vits16/0918.pth\n",
      "dict_keys(['k', 'indices', 'file', 'id', 'model_name', 'patch_size', 'shape'])\n",
      "0918\n",
      "Starting Training\n",
      "epoch: 00, loss: -0.39950\n",
      "epoch: 01, loss: -0.78116\n",
      "epoch: 02, loss: -0.81877\n",
      "epoch: 03, loss: -0.84261\n",
      "epoch: 04, loss: -0.83123\n",
      "epoch: 05, loss: -0.82511\n",
      "epoch: 06, loss: -0.82974\n",
      "epoch: 07, loss: -0.84982\n",
      "epoch: 08, loss: -0.83182\n",
      "epoch: 09, loss: -0.80722\n"
     ]
    },
    {
     "name": "stderr",
     "output_type": "stream",
     "text": [
      " 92%|█████████▏| 918/1000 [5:35:17<26:29, 19.39s/it]"
     ]
    },
    {
     "name": "stdout",
     "output_type": "stream",
     "text": [
      "eigenvalues shape torch.Size([5]) eigenvectors shape torch.Size([5, 450])\n",
      "918 /home/phdcs2/Hard_Disk/Datasets/Deep-Spectral-Segmentation/data/object-segmentation/ECSSD/features/dino_vits16/0919.pth\n",
      "dict_keys(['k', 'indices', 'file', 'id', 'model_name', 'patch_size', 'shape'])\n",
      "0919\n",
      "Starting Training\n",
      "epoch: 00, loss: -0.68219\n",
      "epoch: 01, loss: -0.93089\n",
      "epoch: 02, loss: -0.94491\n",
      "epoch: 03, loss: -0.93278\n",
      "epoch: 04, loss: -0.94505\n",
      "epoch: 05, loss: -0.93990\n",
      "epoch: 06, loss: -0.93961\n",
      "epoch: 07, loss: -0.94547\n",
      "epoch: 08, loss: -0.90891\n",
      "epoch: 09, loss: -0.91224\n"
     ]
    },
    {
     "name": "stderr",
     "output_type": "stream",
     "text": [
      " 92%|█████████▏| 919/1000 [5:35:37<26:37, 19.72s/it]"
     ]
    },
    {
     "name": "stdout",
     "output_type": "stream",
     "text": [
      "eigenvalues shape torch.Size([5]) eigenvectors shape torch.Size([5, 450])\n",
      "919 /home/phdcs2/Hard_Disk/Datasets/Deep-Spectral-Segmentation/data/object-segmentation/ECSSD/features/dino_vits16/0920.pth\n",
      "dict_keys(['k', 'indices', 'file', 'id', 'model_name', 'patch_size', 'shape'])\n",
      "0920\n",
      "Starting Training\n",
      "epoch: 00, loss: -0.37550\n",
      "epoch: 01, loss: -0.76523\n",
      "epoch: 02, loss: -0.79819\n",
      "epoch: 03, loss: -0.81467\n",
      "epoch: 04, loss: -0.83617\n",
      "epoch: 05, loss: -0.83851\n",
      "epoch: 06, loss: -0.83759\n",
      "epoch: 07, loss: -0.84997\n",
      "epoch: 08, loss: -0.85675\n",
      "epoch: 09, loss: -0.85471\n"
     ]
    },
    {
     "name": "stderr",
     "output_type": "stream",
     "text": [
      " 92%|█████████▏| 920/1000 [5:35:56<25:45, 19.32s/it]"
     ]
    },
    {
     "name": "stdout",
     "output_type": "stream",
     "text": [
      "eigenvalues shape torch.Size([5]) eigenvectors shape torch.Size([5, 400])\n",
      "920 /home/phdcs2/Hard_Disk/Datasets/Deep-Spectral-Segmentation/data/object-segmentation/ECSSD/features/dino_vits16/0921.pth\n",
      "dict_keys(['k', 'indices', 'file', 'id', 'model_name', 'patch_size', 'shape'])\n",
      "0921\n",
      "Starting Training\n",
      "epoch: 00, loss: -0.40337\n",
      "epoch: 01, loss: -0.73858\n",
      "epoch: 02, loss: -0.66606\n",
      "epoch: 03, loss: -0.73751\n",
      "epoch: 04, loss: -0.77530\n",
      "epoch: 05, loss: -0.80079\n",
      "epoch: 06, loss: -0.79812\n",
      "epoch: 07, loss: -0.79338\n",
      "epoch: 08, loss: -0.80083\n",
      "epoch: 09, loss: -0.79806\n"
     ]
    },
    {
     "name": "stderr",
     "output_type": "stream",
     "text": [
      " 92%|█████████▏| 921/1000 [5:36:14<24:54, 18.92s/it]"
     ]
    },
    {
     "name": "stdout",
     "output_type": "stream",
     "text": [
      "eigenvalues shape torch.Size([5]) eigenvectors shape torch.Size([5, 400])\n",
      "921 /home/phdcs2/Hard_Disk/Datasets/Deep-Spectral-Segmentation/data/object-segmentation/ECSSD/features/dino_vits16/0922.pth\n",
      "dict_keys(['k', 'indices', 'file', 'id', 'model_name', 'patch_size', 'shape'])\n",
      "0922\n",
      "Starting Training\n",
      "epoch: 00, loss: -0.26760\n",
      "epoch: 01, loss: -0.63797\n",
      "epoch: 02, loss: -0.72755\n",
      "epoch: 03, loss: -0.76290\n",
      "epoch: 04, loss: -0.78271\n",
      "epoch: 05, loss: -0.78064\n",
      "epoch: 06, loss: -0.79670\n",
      "epoch: 07, loss: -0.78804\n",
      "epoch: 08, loss: -0.80362\n",
      "epoch: 09, loss: -0.80851\n"
     ]
    },
    {
     "name": "stderr",
     "output_type": "stream",
     "text": [
      " 92%|█████████▏| 922/1000 [5:36:29<23:11, 17.84s/it]"
     ]
    },
    {
     "name": "stdout",
     "output_type": "stream",
     "text": [
      "eigenvalues shape torch.Size([5]) eigenvectors shape torch.Size([5, 350])\n",
      "922 /home/phdcs2/Hard_Disk/Datasets/Deep-Spectral-Segmentation/data/object-segmentation/ECSSD/features/dino_vits16/0923.pth\n",
      "dict_keys(['k', 'indices', 'file', 'id', 'model_name', 'patch_size', 'shape'])\n",
      "0923\n",
      "Starting Training\n",
      "epoch: 00, loss: -0.43275\n",
      "epoch: 01, loss: -0.68317\n",
      "epoch: 02, loss: -0.68002\n",
      "epoch: 03, loss: -0.70772\n",
      "epoch: 04, loss: -0.73197\n",
      "epoch: 05, loss: -0.76420\n",
      "epoch: 06, loss: -0.77293\n",
      "epoch: 07, loss: -0.78612\n",
      "epoch: 08, loss: -0.77353\n",
      "epoch: 09, loss: -0.77231\n"
     ]
    },
    {
     "name": "stderr",
     "output_type": "stream",
     "text": [
      " 92%|█████████▏| 923/1000 [5:36:46<22:41, 17.68s/it]"
     ]
    },
    {
     "name": "stdout",
     "output_type": "stream",
     "text": [
      "eigenvalues shape torch.Size([5]) eigenvectors shape torch.Size([5, 400])\n",
      "923 /home/phdcs2/Hard_Disk/Datasets/Deep-Spectral-Segmentation/data/object-segmentation/ECSSD/features/dino_vits16/0924.pth\n",
      "dict_keys(['k', 'indices', 'file', 'id', 'model_name', 'patch_size', 'shape'])\n",
      "0924\n",
      "Starting Training\n",
      "epoch: 00, loss: -0.41015\n",
      "epoch: 01, loss: -0.72311\n",
      "epoch: 02, loss: -0.77777\n",
      "epoch: 03, loss: -0.78139\n",
      "epoch: 04, loss: -0.75499\n",
      "epoch: 05, loss: -0.79701\n",
      "epoch: 06, loss: -0.80133\n",
      "epoch: 07, loss: -0.79372\n",
      "epoch: 08, loss: -0.80095\n",
      "epoch: 09, loss: -0.79345\n"
     ]
    },
    {
     "name": "stderr",
     "output_type": "stream",
     "text": [
      " 92%|█████████▏| 924/1000 [5:37:05<22:58, 18.14s/it]"
     ]
    },
    {
     "name": "stdout",
     "output_type": "stream",
     "text": [
      "eigenvalues shape torch.Size([5]) eigenvectors shape torch.Size([5, 450])\n",
      "924 /home/phdcs2/Hard_Disk/Datasets/Deep-Spectral-Segmentation/data/object-segmentation/ECSSD/features/dino_vits16/0925.pth\n",
      "dict_keys(['k', 'indices', 'file', 'id', 'model_name', 'patch_size', 'shape'])\n",
      "0925\n",
      "Starting Training\n",
      "epoch: 00, loss: -0.57891\n",
      "epoch: 01, loss: -0.85480\n",
      "epoch: 02, loss: -0.86583\n",
      "epoch: 03, loss: -0.89581\n",
      "epoch: 04, loss: -0.89127\n",
      "epoch: 05, loss: -0.90730\n",
      "epoch: 06, loss: -0.91099\n",
      "epoch: 07, loss: -0.91366\n",
      "epoch: 08, loss: -0.89498\n",
      "epoch: 09, loss: -0.90383\n"
     ]
    },
    {
     "name": "stderr",
     "output_type": "stream",
     "text": [
      " 92%|█████████▎| 925/1000 [5:37:26<23:39, 18.93s/it]"
     ]
    },
    {
     "name": "stdout",
     "output_type": "stream",
     "text": [
      "eigenvalues shape torch.Size([5]) eigenvectors shape torch.Size([5, 450])\n",
      "925 /home/phdcs2/Hard_Disk/Datasets/Deep-Spectral-Segmentation/data/object-segmentation/ECSSD/features/dino_vits16/0926.pth\n",
      "dict_keys(['k', 'indices', 'file', 'id', 'model_name', 'patch_size', 'shape'])\n",
      "0926\n",
      "Starting Training\n",
      "epoch: 00, loss: -0.41611\n",
      "epoch: 01, loss: -0.69069\n",
      "epoch: 02, loss: -0.79039\n",
      "epoch: 03, loss: -0.84069\n",
      "epoch: 04, loss: -0.84450\n",
      "epoch: 05, loss: -0.86688\n",
      "epoch: 06, loss: -0.88155\n",
      "epoch: 07, loss: -0.87374\n",
      "epoch: 08, loss: -0.87306\n",
      "epoch: 09, loss: -0.88083\n"
     ]
    },
    {
     "name": "stderr",
     "output_type": "stream",
     "text": [
      " 93%|█████████▎| 926/1000 [5:37:45<23:12, 18.82s/it]"
     ]
    },
    {
     "name": "stdout",
     "output_type": "stream",
     "text": [
      "eigenvalues shape torch.Size([5]) eigenvectors shape torch.Size([5, 400])\n",
      "926 /home/phdcs2/Hard_Disk/Datasets/Deep-Spectral-Segmentation/data/object-segmentation/ECSSD/features/dino_vits16/0927.pth\n",
      "dict_keys(['k', 'indices', 'file', 'id', 'model_name', 'patch_size', 'shape'])\n",
      "0927\n",
      "Starting Training\n",
      "epoch: 00, loss: -0.31366\n",
      "epoch: 01, loss: -0.68722\n",
      "epoch: 02, loss: -0.73429\n",
      "epoch: 03, loss: -0.74955\n",
      "epoch: 04, loss: -0.75148\n",
      "epoch: 05, loss: -0.75650\n",
      "epoch: 06, loss: -0.77644\n",
      "epoch: 07, loss: -0.78853\n",
      "epoch: 08, loss: -0.80029\n",
      "epoch: 09, loss: -0.80940\n"
     ]
    },
    {
     "name": "stderr",
     "output_type": "stream",
     "text": [
      " 93%|█████████▎| 927/1000 [5:38:04<23:13, 19.09s/it]"
     ]
    },
    {
     "name": "stdout",
     "output_type": "stream",
     "text": [
      "eigenvalues shape torch.Size([5]) eigenvectors shape torch.Size([5, 450])\n",
      "927 /home/phdcs2/Hard_Disk/Datasets/Deep-Spectral-Segmentation/data/object-segmentation/ECSSD/features/dino_vits16/0928.pth\n",
      "dict_keys(['k', 'indices', 'file', 'id', 'model_name', 'patch_size', 'shape'])\n",
      "0928\n",
      "Starting Training\n",
      "epoch: 00, loss: -0.46111\n",
      "epoch: 01, loss: -0.72286\n",
      "epoch: 02, loss: -0.80856\n",
      "epoch: 03, loss: -0.83051\n",
      "epoch: 04, loss: -0.85569\n",
      "epoch: 05, loss: -0.86649\n",
      "epoch: 06, loss: -0.87709\n",
      "epoch: 07, loss: -0.88180\n",
      "epoch: 08, loss: -0.88238\n",
      "epoch: 09, loss: -0.88179\n"
     ]
    },
    {
     "name": "stderr",
     "output_type": "stream",
     "text": [
      " 93%|█████████▎| 928/1000 [5:38:25<23:36, 19.68s/it]"
     ]
    },
    {
     "name": "stdout",
     "output_type": "stream",
     "text": [
      "eigenvalues shape torch.Size([5]) eigenvectors shape torch.Size([5, 450])\n",
      "928 /home/phdcs2/Hard_Disk/Datasets/Deep-Spectral-Segmentation/data/object-segmentation/ECSSD/features/dino_vits16/0929.pth\n",
      "dict_keys(['k', 'indices', 'file', 'id', 'model_name', 'patch_size', 'shape'])\n",
      "0929\n",
      "Starting Training\n",
      "epoch: 00, loss: -0.33404\n",
      "epoch: 01, loss: -0.74323\n",
      "epoch: 02, loss: -0.80548\n",
      "epoch: 03, loss: -0.81956\n",
      "epoch: 04, loss: -0.82717\n",
      "epoch: 05, loss: -0.84834\n",
      "epoch: 06, loss: -0.85974\n",
      "epoch: 07, loss: -0.86991\n",
      "epoch: 08, loss: -0.79431\n",
      "epoch: 09, loss: -0.80740\n"
     ]
    },
    {
     "name": "stderr",
     "output_type": "stream",
     "text": [
      " 93%|█████████▎| 929/1000 [5:38:46<23:35, 19.94s/it]"
     ]
    },
    {
     "name": "stdout",
     "output_type": "stream",
     "text": [
      "eigenvalues shape torch.Size([5]) eigenvectors shape torch.Size([5, 450])\n",
      "929 /home/phdcs2/Hard_Disk/Datasets/Deep-Spectral-Segmentation/data/object-segmentation/ECSSD/features/dino_vits16/0930.pth\n",
      "dict_keys(['k', 'indices', 'file', 'id', 'model_name', 'patch_size', 'shape'])\n",
      "0930\n",
      "Starting Training\n",
      "epoch: 00, loss: -0.25150\n",
      "epoch: 01, loss: -0.63934\n",
      "epoch: 02, loss: -0.67753\n",
      "epoch: 03, loss: -0.72965\n",
      "epoch: 04, loss: -0.75226\n",
      "epoch: 05, loss: -0.76974\n",
      "epoch: 06, loss: -0.77645\n",
      "epoch: 07, loss: -0.78398\n",
      "epoch: 08, loss: -0.75669\n",
      "epoch: 09, loss: -0.71766\n"
     ]
    },
    {
     "name": "stderr",
     "output_type": "stream",
     "text": [
      " 93%|█████████▎| 930/1000 [5:39:06<23:09, 19.85s/it]"
     ]
    },
    {
     "name": "stdout",
     "output_type": "stream",
     "text": [
      "eigenvalues shape torch.Size([5]) eigenvectors shape torch.Size([5, 450])\n",
      "930 /home/phdcs2/Hard_Disk/Datasets/Deep-Spectral-Segmentation/data/object-segmentation/ECSSD/features/dino_vits16/0931.pth\n",
      "dict_keys(['k', 'indices', 'file', 'id', 'model_name', 'patch_size', 'shape'])\n",
      "0931\n",
      "Starting Training\n",
      "epoch: 00, loss: -0.37720\n",
      "epoch: 01, loss: -0.73744\n",
      "epoch: 02, loss: -0.77134\n",
      "epoch: 03, loss: -0.80721\n",
      "epoch: 04, loss: -0.83831\n",
      "epoch: 05, loss: -0.84684\n",
      "epoch: 06, loss: -0.84970\n",
      "epoch: 07, loss: -0.86403\n",
      "epoch: 08, loss: -0.87008\n",
      "epoch: 09, loss: -0.86232\n"
     ]
    },
    {
     "name": "stderr",
     "output_type": "stream",
     "text": [
      " 93%|█████████▎| 931/1000 [5:39:31<24:44, 21.52s/it]"
     ]
    },
    {
     "name": "stdout",
     "output_type": "stream",
     "text": [
      "eigenvalues shape torch.Size([5]) eigenvectors shape torch.Size([5, 525])\n",
      "931 /home/phdcs2/Hard_Disk/Datasets/Deep-Spectral-Segmentation/data/object-segmentation/ECSSD/features/dino_vits16/0932.pth\n",
      "dict_keys(['k', 'indices', 'file', 'id', 'model_name', 'patch_size', 'shape'])\n",
      "0932\n",
      "Starting Training\n",
      "epoch: 00, loss: -0.43603\n",
      "epoch: 01, loss: -0.68703\n",
      "epoch: 02, loss: -0.74054\n",
      "epoch: 03, loss: -0.82892\n",
      "epoch: 04, loss: -0.85900\n",
      "epoch: 05, loss: -0.87223\n",
      "epoch: 06, loss: -0.87313\n",
      "epoch: 07, loss: -0.88153\n",
      "epoch: 08, loss: -0.87295\n",
      "epoch: 09, loss: -0.88210\n"
     ]
    },
    {
     "name": "stderr",
     "output_type": "stream",
     "text": [
      " 93%|█████████▎| 932/1000 [5:39:51<23:58, 21.15s/it]"
     ]
    },
    {
     "name": "stdout",
     "output_type": "stream",
     "text": [
      "eigenvalues shape torch.Size([5]) eigenvectors shape torch.Size([5, 475])\n",
      "932 /home/phdcs2/Hard_Disk/Datasets/Deep-Spectral-Segmentation/data/object-segmentation/ECSSD/features/dino_vits16/0933.pth\n",
      "dict_keys(['k', 'indices', 'file', 'id', 'model_name', 'patch_size', 'shape'])\n",
      "0933\n",
      "Starting Training\n",
      "epoch: 00, loss: -0.41926\n",
      "epoch: 01, loss: -0.74035\n",
      "epoch: 02, loss: -0.75095\n",
      "epoch: 03, loss: -0.71904\n",
      "epoch: 04, loss: -0.72860\n",
      "epoch: 05, loss: -0.71794\n",
      "epoch: 06, loss: -0.76644\n",
      "epoch: 07, loss: -0.77419\n",
      "epoch: 08, loss: -0.77158\n",
      "epoch: 09, loss: -0.78254\n"
     ]
    },
    {
     "name": "stderr",
     "output_type": "stream",
     "text": [
      " 93%|█████████▎| 933/1000 [5:40:11<23:11, 20.77s/it]"
     ]
    },
    {
     "name": "stdout",
     "output_type": "stream",
     "text": [
      "eigenvalues shape torch.Size([5]) eigenvectors shape torch.Size([5, 425])\n",
      "933 /home/phdcs2/Hard_Disk/Datasets/Deep-Spectral-Segmentation/data/object-segmentation/ECSSD/features/dino_vits16/0934.pth\n",
      "dict_keys(['k', 'indices', 'file', 'id', 'model_name', 'patch_size', 'shape'])\n",
      "0934\n",
      "Starting Training\n",
      "epoch: 00, loss: -0.41809\n",
      "epoch: 01, loss: -0.67385\n",
      "epoch: 02, loss: -0.74224\n",
      "epoch: 03, loss: -0.73731\n",
      "epoch: 04, loss: -0.75646\n",
      "epoch: 05, loss: -0.77051\n",
      "epoch: 06, loss: -0.80288\n",
      "epoch: 07, loss: -0.80476\n",
      "epoch: 08, loss: -0.80689\n",
      "epoch: 09, loss: -0.82601\n"
     ]
    },
    {
     "name": "stderr",
     "output_type": "stream",
     "text": [
      " 93%|█████████▎| 934/1000 [5:40:34<23:23, 21.26s/it]"
     ]
    },
    {
     "name": "stdout",
     "output_type": "stream",
     "text": [
      "eigenvalues shape torch.Size([5]) eigenvectors shape torch.Size([5, 450])\n",
      "934 /home/phdcs2/Hard_Disk/Datasets/Deep-Spectral-Segmentation/data/object-segmentation/ECSSD/features/dino_vits16/0935.pth\n",
      "dict_keys(['k', 'indices', 'file', 'id', 'model_name', 'patch_size', 'shape'])\n",
      "0935\n",
      "Starting Training\n",
      "epoch: 00, loss: -0.26968\n",
      "epoch: 01, loss: -0.64752\n",
      "epoch: 02, loss: -0.71753\n",
      "epoch: 03, loss: -0.74887\n",
      "epoch: 04, loss: -0.76734\n",
      "epoch: 05, loss: -0.72308\n",
      "epoch: 06, loss: -0.76333\n",
      "epoch: 07, loss: -0.77147\n",
      "epoch: 08, loss: -0.77694\n",
      "epoch: 09, loss: -0.78565\n"
     ]
    },
    {
     "name": "stderr",
     "output_type": "stream",
     "text": [
      " 94%|█████████▎| 935/1000 [5:40:53<22:34, 20.84s/it]"
     ]
    },
    {
     "name": "stdout",
     "output_type": "stream",
     "text": [
      "eigenvalues shape torch.Size([5]) eigenvectors shape torch.Size([5, 450])\n",
      "935 /home/phdcs2/Hard_Disk/Datasets/Deep-Spectral-Segmentation/data/object-segmentation/ECSSD/features/dino_vits16/0936.pth\n",
      "dict_keys(['k', 'indices', 'file', 'id', 'model_name', 'patch_size', 'shape'])\n",
      "0936\n",
      "Starting Training\n",
      "epoch: 00, loss: -0.39549\n",
      "epoch: 01, loss: -0.74411\n",
      "epoch: 02, loss: -0.81874\n",
      "epoch: 03, loss: -0.80667\n",
      "epoch: 04, loss: -0.81029\n",
      "epoch: 05, loss: -0.76779\n",
      "epoch: 06, loss: -0.78132\n",
      "epoch: 07, loss: -0.78720\n",
      "epoch: 08, loss: -0.80246\n",
      "epoch: 09, loss: -0.81230\n"
     ]
    },
    {
     "name": "stderr",
     "output_type": "stream",
     "text": [
      " 94%|█████████▎| 936/1000 [5:41:15<22:30, 21.10s/it]"
     ]
    },
    {
     "name": "stdout",
     "output_type": "stream",
     "text": [
      "eigenvalues shape torch.Size([5]) eigenvectors shape torch.Size([5, 450])\n",
      "936 /home/phdcs2/Hard_Disk/Datasets/Deep-Spectral-Segmentation/data/object-segmentation/ECSSD/features/dino_vits16/0937.pth\n",
      "dict_keys(['k', 'indices', 'file', 'id', 'model_name', 'patch_size', 'shape'])\n",
      "0937\n",
      "Starting Training\n",
      "epoch: 00, loss: -0.58964\n",
      "epoch: 01, loss: -0.85496\n",
      "epoch: 02, loss: -0.86786\n",
      "epoch: 03, loss: -0.80131\n",
      "epoch: 04, loss: -0.75134\n",
      "epoch: 05, loss: -0.83820\n",
      "epoch: 06, loss: -0.84963\n",
      "epoch: 07, loss: -0.86657\n",
      "epoch: 08, loss: -0.87477\n",
      "epoch: 09, loss: -0.88957\n"
     ]
    },
    {
     "name": "stderr",
     "output_type": "stream",
     "text": [
      " 94%|█████████▎| 937/1000 [5:41:37<22:18, 21.24s/it]"
     ]
    },
    {
     "name": "stdout",
     "output_type": "stream",
     "text": [
      "eigenvalues shape torch.Size([5]) eigenvectors shape torch.Size([5, 450])\n",
      "937 /home/phdcs2/Hard_Disk/Datasets/Deep-Spectral-Segmentation/data/object-segmentation/ECSSD/features/dino_vits16/0938.pth\n",
      "dict_keys(['k', 'indices', 'file', 'id', 'model_name', 'patch_size', 'shape'])\n",
      "0938\n",
      "Starting Training\n",
      "epoch: 00, loss: -0.39824\n",
      "epoch: 01, loss: -0.69442\n",
      "epoch: 02, loss: -0.76866\n",
      "epoch: 03, loss: -0.81674\n",
      "epoch: 04, loss: -0.82408\n",
      "epoch: 05, loss: -0.85904\n",
      "epoch: 06, loss: -0.84301\n",
      "epoch: 07, loss: -0.83128\n",
      "epoch: 08, loss: -0.82749\n",
      "epoch: 09, loss: -0.84798\n"
     ]
    },
    {
     "name": "stderr",
     "output_type": "stream",
     "text": [
      " 94%|█████████▍| 938/1000 [5:41:54<20:33, 19.89s/it]"
     ]
    },
    {
     "name": "stdout",
     "output_type": "stream",
     "text": [
      "eigenvalues shape torch.Size([5]) eigenvectors shape torch.Size([5, 400])\n",
      "938 /home/phdcs2/Hard_Disk/Datasets/Deep-Spectral-Segmentation/data/object-segmentation/ECSSD/features/dino_vits16/0939.pth\n",
      "dict_keys(['k', 'indices', 'file', 'id', 'model_name', 'patch_size', 'shape'])\n",
      "0939\n",
      "Starting Training\n",
      "epoch: 00, loss: -0.39088\n",
      "epoch: 01, loss: -0.66735\n",
      "epoch: 02, loss: -0.67859\n",
      "epoch: 03, loss: -0.68572\n",
      "epoch: 04, loss: -0.71935\n",
      "epoch: 05, loss: -0.77950\n",
      "epoch: 06, loss: -0.82551\n",
      "epoch: 07, loss: -0.89534\n",
      "epoch: 08, loss: -0.91514\n",
      "epoch: 09, loss: -0.92197\n"
     ]
    },
    {
     "name": "stderr",
     "output_type": "stream",
     "text": [
      " 94%|█████████▍| 939/1000 [5:42:18<21:40, 21.31s/it]"
     ]
    },
    {
     "name": "stdout",
     "output_type": "stream",
     "text": [
      "eigenvalues shape torch.Size([5]) eigenvectors shape torch.Size([5, 500])\n",
      "939 /home/phdcs2/Hard_Disk/Datasets/Deep-Spectral-Segmentation/data/object-segmentation/ECSSD/features/dino_vits16/0940.pth\n",
      "dict_keys(['k', 'indices', 'file', 'id', 'model_name', 'patch_size', 'shape'])\n",
      "0940\n",
      "Starting Training\n",
      "epoch: 00, loss: -0.41283\n",
      "epoch: 01, loss: -0.72627\n",
      "epoch: 02, loss: -0.79195\n",
      "epoch: 03, loss: -0.84798\n",
      "epoch: 04, loss: -0.86965\n",
      "epoch: 05, loss: -0.86611\n",
      "epoch: 06, loss: -0.87279\n",
      "epoch: 07, loss: -0.87059\n",
      "epoch: 08, loss: -0.87207\n",
      "epoch: 09, loss: -0.87597\n"
     ]
    },
    {
     "name": "stderr",
     "output_type": "stream",
     "text": [
      " 94%|█████████▍| 940/1000 [5:42:36<20:16, 20.27s/it]"
     ]
    },
    {
     "name": "stdout",
     "output_type": "stream",
     "text": [
      "eigenvalues shape torch.Size([5]) eigenvectors shape torch.Size([5, 400])\n",
      "940 /home/phdcs2/Hard_Disk/Datasets/Deep-Spectral-Segmentation/data/object-segmentation/ECSSD/features/dino_vits16/0941.pth\n",
      "dict_keys(['k', 'indices', 'file', 'id', 'model_name', 'patch_size', 'shape'])\n",
      "0941\n",
      "Starting Training\n",
      "epoch: 00, loss: -0.34530\n",
      "epoch: 01, loss: -0.68225\n",
      "epoch: 02, loss: -0.70414\n",
      "epoch: 03, loss: -0.74316\n",
      "epoch: 04, loss: -0.72225\n",
      "epoch: 05, loss: -0.74503\n",
      "epoch: 06, loss: -0.76286\n",
      "epoch: 07, loss: -0.75430\n",
      "epoch: 08, loss: -0.75552\n",
      "epoch: 09, loss: -0.75041\n"
     ]
    },
    {
     "name": "stderr",
     "output_type": "stream",
     "text": [
      " 94%|█████████▍| 941/1000 [5:42:53<19:02, 19.37s/it]"
     ]
    },
    {
     "name": "stdout",
     "output_type": "stream",
     "text": [
      "eigenvalues shape torch.Size([5]) eigenvectors shape torch.Size([5, 400])\n",
      "941 /home/phdcs2/Hard_Disk/Datasets/Deep-Spectral-Segmentation/data/object-segmentation/ECSSD/features/dino_vits16/0942.pth\n",
      "dict_keys(['k', 'indices', 'file', 'id', 'model_name', 'patch_size', 'shape'])\n",
      "0942\n",
      "Starting Training\n",
      "epoch: 00, loss: -0.30813\n",
      "epoch: 01, loss: -0.76857\n",
      "epoch: 02, loss: -0.81894\n",
      "epoch: 03, loss: -0.91427\n",
      "epoch: 04, loss: -0.91587\n",
      "epoch: 05, loss: -0.92017\n",
      "epoch: 06, loss: -0.92056\n",
      "epoch: 07, loss: -0.92299\n",
      "epoch: 08, loss: -0.91523\n",
      "epoch: 09, loss: -0.91471\n"
     ]
    },
    {
     "name": "stderr",
     "output_type": "stream",
     "text": [
      " 94%|█████████▍| 942/1000 [5:43:12<18:36, 19.25s/it]"
     ]
    },
    {
     "name": "stdout",
     "output_type": "stream",
     "text": [
      "eigenvalues shape torch.Size([5]) eigenvectors shape torch.Size([5, 400])\n",
      "942 /home/phdcs2/Hard_Disk/Datasets/Deep-Spectral-Segmentation/data/object-segmentation/ECSSD/features/dino_vits16/0943.pth\n",
      "dict_keys(['k', 'indices', 'file', 'id', 'model_name', 'patch_size', 'shape'])\n",
      "0943\n",
      "Starting Training\n",
      "epoch: 00, loss: -0.42135\n",
      "epoch: 01, loss: -0.80279\n",
      "epoch: 02, loss: -0.82512\n",
      "epoch: 03, loss: -0.79872\n",
      "epoch: 04, loss: -0.79585\n",
      "epoch: 05, loss: -0.82968\n",
      "epoch: 06, loss: -0.82601\n",
      "epoch: 07, loss: -0.83494\n",
      "epoch: 08, loss: -0.84209\n",
      "epoch: 09, loss: -0.86977\n"
     ]
    },
    {
     "name": "stderr",
     "output_type": "stream",
     "text": [
      " 94%|█████████▍| 943/1000 [5:43:34<18:55, 19.93s/it]"
     ]
    },
    {
     "name": "stdout",
     "output_type": "stream",
     "text": [
      "eigenvalues shape torch.Size([5]) eigenvectors shape torch.Size([5, 475])\n",
      "943 /home/phdcs2/Hard_Disk/Datasets/Deep-Spectral-Segmentation/data/object-segmentation/ECSSD/features/dino_vits16/0944.pth\n",
      "dict_keys(['k', 'indices', 'file', 'id', 'model_name', 'patch_size', 'shape'])\n",
      "0944\n",
      "Starting Training\n",
      "epoch: 00, loss: -0.42829\n",
      "epoch: 01, loss: -0.76315\n",
      "epoch: 02, loss: -0.78421\n",
      "epoch: 03, loss: -0.74341\n",
      "epoch: 04, loss: -0.75802\n",
      "epoch: 05, loss: -0.79235\n",
      "epoch: 06, loss: -0.83164\n",
      "epoch: 07, loss: -0.85882\n",
      "epoch: 08, loss: -0.86305\n",
      "epoch: 09, loss: -0.86094\n"
     ]
    },
    {
     "name": "stderr",
     "output_type": "stream",
     "text": [
      " 94%|█████████▍| 944/1000 [5:43:54<18:42, 20.05s/it]"
     ]
    },
    {
     "name": "stdout",
     "output_type": "stream",
     "text": [
      "eigenvalues shape torch.Size([5]) eigenvectors shape torch.Size([5, 400])\n",
      "944 /home/phdcs2/Hard_Disk/Datasets/Deep-Spectral-Segmentation/data/object-segmentation/ECSSD/features/dino_vits16/0945.pth\n",
      "dict_keys(['k', 'indices', 'file', 'id', 'model_name', 'patch_size', 'shape'])\n",
      "0945\n",
      "Starting Training\n",
      "epoch: 00, loss: -0.32778\n",
      "epoch: 01, loss: -0.72226\n",
      "epoch: 02, loss: -0.75597\n",
      "epoch: 03, loss: -0.75927\n",
      "epoch: 04, loss: -0.78184\n",
      "epoch: 05, loss: -0.79427\n",
      "epoch: 06, loss: -0.80394\n",
      "epoch: 07, loss: -0.81134\n",
      "epoch: 08, loss: -0.80403\n",
      "epoch: 09, loss: -0.82957\n"
     ]
    },
    {
     "name": "stderr",
     "output_type": "stream",
     "text": [
      " 94%|█████████▍| 945/1000 [5:44:15<18:36, 20.30s/it]"
     ]
    },
    {
     "name": "stdout",
     "output_type": "stream",
     "text": [
      "eigenvalues shape torch.Size([5]) eigenvectors shape torch.Size([5, 450])\n",
      "945 /home/phdcs2/Hard_Disk/Datasets/Deep-Spectral-Segmentation/data/object-segmentation/ECSSD/features/dino_vits16/0946.pth\n",
      "dict_keys(['k', 'indices', 'file', 'id', 'model_name', 'patch_size', 'shape'])\n",
      "0946\n",
      "Starting Training\n",
      "epoch: 00, loss: -0.62800\n",
      "epoch: 01, loss: -0.91538\n",
      "epoch: 02, loss: -0.92043\n",
      "epoch: 03, loss: -0.84729\n",
      "epoch: 04, loss: -0.84594\n",
      "epoch: 05, loss: -0.84229\n",
      "epoch: 06, loss: -0.87000\n",
      "epoch: 07, loss: -0.87474\n",
      "epoch: 08, loss: -0.87848\n",
      "epoch: 09, loss: -0.86751\n"
     ]
    },
    {
     "name": "stderr",
     "output_type": "stream",
     "text": [
      " 95%|█████████▍| 946/1000 [5:44:33<17:44, 19.72s/it]"
     ]
    },
    {
     "name": "stdout",
     "output_type": "stream",
     "text": [
      "eigenvalues shape torch.Size([5]) eigenvectors shape torch.Size([5, 400])\n",
      "946 /home/phdcs2/Hard_Disk/Datasets/Deep-Spectral-Segmentation/data/object-segmentation/ECSSD/features/dino_vits16/0947.pth\n",
      "dict_keys(['k', 'indices', 'file', 'id', 'model_name', 'patch_size', 'shape'])\n",
      "0947\n",
      "Starting Training\n",
      "epoch: 00, loss: -0.71809\n",
      "epoch: 01, loss: -0.93963\n",
      "epoch: 02, loss: -0.94075\n",
      "epoch: 03, loss: -0.94045\n",
      "epoch: 04, loss: -0.93782\n",
      "epoch: 05, loss: -0.94547\n",
      "epoch: 06, loss: -0.93827\n",
      "epoch: 07, loss: -0.94777\n",
      "epoch: 08, loss: -0.93570\n",
      "epoch: 09, loss: -0.93907\n"
     ]
    },
    {
     "name": "stderr",
     "output_type": "stream",
     "text": [
      " 95%|█████████▍| 947/1000 [5:44:57<18:22, 20.81s/it]"
     ]
    },
    {
     "name": "stdout",
     "output_type": "stream",
     "text": [
      "eigenvalues shape torch.Size([5]) eigenvectors shape torch.Size([5, 500])\n",
      "947 /home/phdcs2/Hard_Disk/Datasets/Deep-Spectral-Segmentation/data/object-segmentation/ECSSD/features/dino_vits16/0948.pth\n",
      "dict_keys(['k', 'indices', 'file', 'id', 'model_name', 'patch_size', 'shape'])\n",
      "0948\n",
      "Starting Training\n",
      "epoch: 00, loss: -0.65119\n",
      "epoch: 01, loss: -0.90641\n",
      "epoch: 02, loss: -0.92861\n",
      "epoch: 03, loss: -0.92661\n",
      "epoch: 04, loss: -0.90928\n",
      "epoch: 05, loss: -0.89620\n",
      "epoch: 06, loss: -0.85511\n",
      "epoch: 07, loss: -0.92260\n",
      "epoch: 08, loss: -0.91925\n",
      "epoch: 09, loss: -0.92665\n"
     ]
    },
    {
     "name": "stderr",
     "output_type": "stream",
     "text": [
      " 95%|█████████▍| 948/1000 [5:45:14<17:01, 19.65s/it]"
     ]
    },
    {
     "name": "stdout",
     "output_type": "stream",
     "text": [
      "eigenvalues shape torch.Size([5]) eigenvectors shape torch.Size([5, 400])\n",
      "948 /home/phdcs2/Hard_Disk/Datasets/Deep-Spectral-Segmentation/data/object-segmentation/ECSSD/features/dino_vits16/0949.pth\n",
      "dict_keys(['k', 'indices', 'file', 'id', 'model_name', 'patch_size', 'shape'])\n",
      "0949\n",
      "Starting Training\n",
      "epoch: 00, loss: -0.39091\n",
      "epoch: 01, loss: -0.74242\n",
      "epoch: 02, loss: -0.73579\n",
      "epoch: 03, loss: -0.69525\n",
      "epoch: 04, loss: -0.71246\n",
      "epoch: 05, loss: -0.70683\n",
      "epoch: 06, loss: -0.75767\n",
      "epoch: 07, loss: -0.73128\n",
      "epoch: 08, loss: -0.72807\n",
      "epoch: 09, loss: -0.72424\n"
     ]
    },
    {
     "name": "stderr",
     "output_type": "stream",
     "text": [
      " 95%|█████████▍| 949/1000 [5:45:32<16:16, 19.15s/it]"
     ]
    },
    {
     "name": "stdout",
     "output_type": "stream",
     "text": [
      "eigenvalues shape torch.Size([5]) eigenvectors shape torch.Size([5, 400])\n",
      "949 /home/phdcs2/Hard_Disk/Datasets/Deep-Spectral-Segmentation/data/object-segmentation/ECSSD/features/dino_vits16/0950.pth\n",
      "dict_keys(['k', 'indices', 'file', 'id', 'model_name', 'patch_size', 'shape'])\n",
      "0950\n",
      "Starting Training\n",
      "epoch: 00, loss: -0.63163\n",
      "epoch: 01, loss: -0.84558\n",
      "epoch: 02, loss: -0.85871\n",
      "epoch: 03, loss: -0.86920\n",
      "epoch: 04, loss: -0.84750\n",
      "epoch: 05, loss: -0.86521\n",
      "epoch: 06, loss: -0.86720\n",
      "epoch: 07, loss: -0.86354\n",
      "epoch: 08, loss: -0.82369\n",
      "epoch: 09, loss: -0.81898\n"
     ]
    },
    {
     "name": "stderr",
     "output_type": "stream",
     "text": [
      " 95%|█████████▌| 950/1000 [5:45:54<16:40, 20.01s/it]"
     ]
    },
    {
     "name": "stdout",
     "output_type": "stream",
     "text": [
      "eigenvalues shape torch.Size([5]) eigenvectors shape torch.Size([5, 450])\n",
      "950 /home/phdcs2/Hard_Disk/Datasets/Deep-Spectral-Segmentation/data/object-segmentation/ECSSD/features/dino_vits16/0951.pth\n",
      "dict_keys(['k', 'indices', 'file', 'id', 'model_name', 'patch_size', 'shape'])\n",
      "0951\n",
      "Starting Training\n",
      "epoch: 00, loss: -0.27647\n",
      "epoch: 01, loss: -0.63535\n",
      "epoch: 02, loss: -0.81305\n",
      "epoch: 03, loss: -0.85580\n",
      "epoch: 04, loss: -0.89252\n",
      "epoch: 05, loss: -0.90195\n",
      "epoch: 06, loss: -0.90579\n",
      "epoch: 07, loss: -0.91254\n",
      "epoch: 08, loss: -0.91596\n",
      "epoch: 09, loss: -0.90479\n"
     ]
    },
    {
     "name": "stderr",
     "output_type": "stream",
     "text": [
      " 95%|█████████▌| 951/1000 [5:46:12<16:01, 19.62s/it]"
     ]
    },
    {
     "name": "stdout",
     "output_type": "stream",
     "text": [
      "eigenvalues shape torch.Size([5]) eigenvectors shape torch.Size([5, 400])\n",
      "951 /home/phdcs2/Hard_Disk/Datasets/Deep-Spectral-Segmentation/data/object-segmentation/ECSSD/features/dino_vits16/0952.pth\n",
      "dict_keys(['k', 'indices', 'file', 'id', 'model_name', 'patch_size', 'shape'])\n",
      "0952\n",
      "Starting Training\n",
      "epoch: 00, loss: -0.58468\n",
      "epoch: 01, loss: -0.85892\n",
      "epoch: 02, loss: -0.88023\n",
      "epoch: 03, loss: -0.89189\n",
      "epoch: 04, loss: -0.89971\n",
      "epoch: 05, loss: -0.87130\n",
      "epoch: 06, loss: -0.87997\n",
      "epoch: 07, loss: -0.88091\n",
      "epoch: 08, loss: -0.82193\n",
      "epoch: 09, loss: -0.80847\n"
     ]
    },
    {
     "name": "stderr",
     "output_type": "stream",
     "text": [
      " 95%|█████████▌| 952/1000 [5:46:29<15:02, 18.80s/it]"
     ]
    },
    {
     "name": "stdout",
     "output_type": "stream",
     "text": [
      "eigenvalues shape torch.Size([5]) eigenvectors shape torch.Size([5, 400])\n",
      "952 /home/phdcs2/Hard_Disk/Datasets/Deep-Spectral-Segmentation/data/object-segmentation/ECSSD/features/dino_vits16/0953.pth\n",
      "dict_keys(['k', 'indices', 'file', 'id', 'model_name', 'patch_size', 'shape'])\n",
      "0953\n",
      "Starting Training\n",
      "epoch: 00, loss: -0.44763\n",
      "epoch: 01, loss: -0.65721\n",
      "epoch: 02, loss: -0.71936\n",
      "epoch: 03, loss: -0.76514\n",
      "epoch: 04, loss: -0.76762\n",
      "epoch: 05, loss: -0.78549\n",
      "epoch: 06, loss: -0.80697\n",
      "epoch: 07, loss: -0.78675\n",
      "epoch: 08, loss: -0.78141\n",
      "epoch: 09, loss: -0.80256\n"
     ]
    },
    {
     "name": "stderr",
     "output_type": "stream",
     "text": [
      " 95%|█████████▌| 953/1000 [5:46:50<15:16, 19.51s/it]"
     ]
    },
    {
     "name": "stdout",
     "output_type": "stream",
     "text": [
      "eigenvalues shape torch.Size([5]) eigenvectors shape torch.Size([5, 450])\n",
      "953 /home/phdcs2/Hard_Disk/Datasets/Deep-Spectral-Segmentation/data/object-segmentation/ECSSD/features/dino_vits16/0954.pth\n",
      "dict_keys(['k', 'indices', 'file', 'id', 'model_name', 'patch_size', 'shape'])\n",
      "0954\n",
      "Starting Training\n",
      "epoch: 00, loss: -0.31568\n",
      "epoch: 01, loss: -0.58865\n",
      "epoch: 02, loss: -0.60709\n",
      "epoch: 03, loss: -0.65648\n",
      "epoch: 04, loss: -0.70685\n",
      "epoch: 05, loss: -0.72716\n",
      "epoch: 06, loss: -0.73538\n",
      "epoch: 07, loss: -0.75616\n",
      "epoch: 08, loss: -0.76520\n",
      "epoch: 09, loss: -0.75233\n"
     ]
    },
    {
     "name": "stderr",
     "output_type": "stream",
     "text": [
      " 95%|█████████▌| 954/1000 [5:47:07<14:23, 18.76s/it]"
     ]
    },
    {
     "name": "stdout",
     "output_type": "stream",
     "text": [
      "eigenvalues shape torch.Size([5]) eigenvectors shape torch.Size([5, 375])\n",
      "954 /home/phdcs2/Hard_Disk/Datasets/Deep-Spectral-Segmentation/data/object-segmentation/ECSSD/features/dino_vits16/0955.pth\n",
      "dict_keys(['k', 'indices', 'file', 'id', 'model_name', 'patch_size', 'shape'])\n",
      "0955\n",
      "Starting Training\n",
      "epoch: 00, loss: -0.66948\n",
      "epoch: 01, loss: -0.88942\n",
      "epoch: 02, loss: -0.83177\n",
      "epoch: 03, loss: -0.85433\n",
      "epoch: 04, loss: -0.87052\n",
      "epoch: 05, loss: -0.86196\n",
      "epoch: 06, loss: -0.85778\n",
      "epoch: 07, loss: -0.86569\n",
      "epoch: 08, loss: -0.89076\n",
      "epoch: 09, loss: -0.87397\n"
     ]
    },
    {
     "name": "stderr",
     "output_type": "stream",
     "text": [
      " 96%|█████████▌| 955/1000 [5:47:28<14:35, 19.45s/it]"
     ]
    },
    {
     "name": "stdout",
     "output_type": "stream",
     "text": [
      "eigenvalues shape torch.Size([5]) eigenvectors shape torch.Size([5, 450])\n",
      "955 /home/phdcs2/Hard_Disk/Datasets/Deep-Spectral-Segmentation/data/object-segmentation/ECSSD/features/dino_vits16/0956.pth\n",
      "dict_keys(['k', 'indices', 'file', 'id', 'model_name', 'patch_size', 'shape'])\n",
      "0956\n",
      "Starting Training\n",
      "epoch: 00, loss: -0.25844\n",
      "epoch: 01, loss: -0.64796\n",
      "epoch: 02, loss: -0.72411\n",
      "epoch: 03, loss: -0.75222\n",
      "epoch: 04, loss: -0.77960\n",
      "epoch: 05, loss: -0.78918\n",
      "epoch: 06, loss: -0.79384\n",
      "epoch: 07, loss: -0.78175\n",
      "epoch: 08, loss: -0.77434\n",
      "epoch: 09, loss: -0.79390\n"
     ]
    },
    {
     "name": "stderr",
     "output_type": "stream",
     "text": [
      " 96%|█████████▌| 956/1000 [5:47:47<14:02, 19.16s/it]"
     ]
    },
    {
     "name": "stdout",
     "output_type": "stream",
     "text": [
      "eigenvalues shape torch.Size([5]) eigenvectors shape torch.Size([5, 400])\n",
      "956 /home/phdcs2/Hard_Disk/Datasets/Deep-Spectral-Segmentation/data/object-segmentation/ECSSD/features/dino_vits16/0957.pth\n",
      "dict_keys(['k', 'indices', 'file', 'id', 'model_name', 'patch_size', 'shape'])\n",
      "0957\n",
      "Starting Training\n",
      "epoch: 00, loss: -0.38703\n",
      "epoch: 01, loss: -0.80095\n",
      "epoch: 02, loss: -0.80866\n",
      "epoch: 03, loss: -0.82894\n",
      "epoch: 04, loss: -0.85619\n",
      "epoch: 05, loss: -0.85583\n",
      "epoch: 06, loss: -0.85487\n",
      "epoch: 07, loss: -0.85789\n",
      "epoch: 08, loss: -0.84818\n",
      "epoch: 09, loss: -0.83120\n"
     ]
    },
    {
     "name": "stderr",
     "output_type": "stream",
     "text": [
      " 96%|█████████▌| 957/1000 [5:48:04<13:17, 18.54s/it]"
     ]
    },
    {
     "name": "stdout",
     "output_type": "stream",
     "text": [
      "eigenvalues shape torch.Size([5]) eigenvectors shape torch.Size([5, 400])\n",
      "957 /home/phdcs2/Hard_Disk/Datasets/Deep-Spectral-Segmentation/data/object-segmentation/ECSSD/features/dino_vits16/0958.pth\n",
      "dict_keys(['k', 'indices', 'file', 'id', 'model_name', 'patch_size', 'shape'])\n",
      "0958\n",
      "Starting Training\n",
      "epoch: 00, loss: -0.61339\n",
      "epoch: 01, loss: -0.78058\n",
      "epoch: 02, loss: -0.77320\n",
      "epoch: 03, loss: -0.69810\n",
      "epoch: 04, loss: -0.76578\n",
      "epoch: 05, loss: -0.78466\n",
      "epoch: 06, loss: -0.81081\n",
      "epoch: 07, loss: -0.81608\n",
      "epoch: 08, loss: -0.82108\n",
      "epoch: 09, loss: -0.83894\n"
     ]
    },
    {
     "name": "stderr",
     "output_type": "stream",
     "text": [
      " 96%|█████████▌| 958/1000 [5:48:26<13:46, 19.67s/it]"
     ]
    },
    {
     "name": "stdout",
     "output_type": "stream",
     "text": [
      "eigenvalues shape torch.Size([5]) eigenvectors shape torch.Size([5, 475])\n",
      "958 /home/phdcs2/Hard_Disk/Datasets/Deep-Spectral-Segmentation/data/object-segmentation/ECSSD/features/dino_vits16/0959.pth\n",
      "dict_keys(['k', 'indices', 'file', 'id', 'model_name', 'patch_size', 'shape'])\n",
      "0959\n",
      "Starting Training\n",
      "epoch: 00, loss: -0.35731\n",
      "epoch: 01, loss: -0.70449\n",
      "epoch: 02, loss: -0.80602\n",
      "epoch: 03, loss: -0.82314\n",
      "epoch: 04, loss: -0.82984\n",
      "epoch: 05, loss: -0.85188\n",
      "epoch: 06, loss: -0.84627\n",
      "epoch: 07, loss: -0.84139\n",
      "epoch: 08, loss: -0.84571\n",
      "epoch: 09, loss: -0.80981\n"
     ]
    },
    {
     "name": "stderr",
     "output_type": "stream",
     "text": [
      " 96%|█████████▌| 959/1000 [5:48:48<13:46, 20.15s/it]"
     ]
    },
    {
     "name": "stdout",
     "output_type": "stream",
     "text": [
      "eigenvalues shape torch.Size([5]) eigenvectors shape torch.Size([5, 450])\n",
      "959 /home/phdcs2/Hard_Disk/Datasets/Deep-Spectral-Segmentation/data/object-segmentation/ECSSD/features/dino_vits16/0960.pth\n",
      "dict_keys(['k', 'indices', 'file', 'id', 'model_name', 'patch_size', 'shape'])\n",
      "0960\n",
      "Starting Training\n",
      "epoch: 00, loss: -0.42575\n",
      "epoch: 01, loss: -0.84228\n",
      "epoch: 02, loss: -0.63816\n",
      "epoch: 03, loss: -0.64867\n",
      "epoch: 04, loss: -0.71347\n",
      "epoch: 05, loss: -0.74865\n",
      "epoch: 06, loss: -0.74960\n",
      "epoch: 07, loss: -0.76437\n",
      "epoch: 08, loss: -0.77910\n",
      "epoch: 09, loss: -0.77990\n"
     ]
    },
    {
     "name": "stderr",
     "output_type": "stream",
     "text": [
      " 96%|█████████▌| 960/1000 [5:49:05<12:52, 19.32s/it]"
     ]
    },
    {
     "name": "stdout",
     "output_type": "stream",
     "text": [
      "eigenvalues shape torch.Size([5]) eigenvectors shape torch.Size([5, 400])\n",
      "960 /home/phdcs2/Hard_Disk/Datasets/Deep-Spectral-Segmentation/data/object-segmentation/ECSSD/features/dino_vits16/0961.pth\n",
      "dict_keys(['k', 'indices', 'file', 'id', 'model_name', 'patch_size', 'shape'])\n",
      "0961\n",
      "Starting Training\n",
      "epoch: 00, loss: -0.45027\n",
      "epoch: 01, loss: -0.79235\n",
      "epoch: 02, loss: -0.78792\n",
      "epoch: 03, loss: -0.78076\n",
      "epoch: 04, loss: -0.80209\n",
      "epoch: 05, loss: -0.78654\n",
      "epoch: 06, loss: -0.78768\n",
      "epoch: 07, loss: -0.77865\n",
      "epoch: 08, loss: -0.78463\n",
      "epoch: 09, loss: -0.80832\n"
     ]
    },
    {
     "name": "stderr",
     "output_type": "stream",
     "text": [
      " 96%|█████████▌| 961/1000 [5:49:23<12:12, 18.79s/it]"
     ]
    },
    {
     "name": "stdout",
     "output_type": "stream",
     "text": [
      "eigenvalues shape torch.Size([5]) eigenvectors shape torch.Size([5, 400])\n",
      "961 /home/phdcs2/Hard_Disk/Datasets/Deep-Spectral-Segmentation/data/object-segmentation/ECSSD/features/dino_vits16/0962.pth\n",
      "dict_keys(['k', 'indices', 'file', 'id', 'model_name', 'patch_size', 'shape'])\n",
      "0962\n",
      "Starting Training\n",
      "epoch: 00, loss: -0.39424\n",
      "epoch: 01, loss: -0.86935\n",
      "epoch: 02, loss: -0.86961\n",
      "epoch: 03, loss: -0.83053\n",
      "epoch: 04, loss: -0.83742\n",
      "epoch: 05, loss: -0.83100\n",
      "epoch: 06, loss: -0.83124\n",
      "epoch: 07, loss: -0.83483\n",
      "epoch: 08, loss: -0.83456\n",
      "epoch: 09, loss: -0.85947\n"
     ]
    },
    {
     "name": "stderr",
     "output_type": "stream",
     "text": [
      " 96%|█████████▌| 962/1000 [5:49:40<11:37, 18.35s/it]"
     ]
    },
    {
     "name": "stdout",
     "output_type": "stream",
     "text": [
      "eigenvalues shape torch.Size([5]) eigenvectors shape torch.Size([5, 375])\n",
      "962 /home/phdcs2/Hard_Disk/Datasets/Deep-Spectral-Segmentation/data/object-segmentation/ECSSD/features/dino_vits16/0963.pth\n",
      "dict_keys(['k', 'indices', 'file', 'id', 'model_name', 'patch_size', 'shape'])\n",
      "0963\n",
      "Starting Training\n",
      "epoch: 00, loss: -0.27293\n",
      "epoch: 01, loss: -0.63595\n",
      "epoch: 02, loss: -0.69250\n",
      "epoch: 03, loss: -0.77347\n",
      "epoch: 04, loss: -0.77448\n",
      "epoch: 05, loss: -0.80806\n",
      "epoch: 06, loss: -0.78377\n",
      "epoch: 07, loss: -0.79770\n",
      "epoch: 08, loss: -0.81127\n",
      "epoch: 09, loss: -0.79342\n"
     ]
    },
    {
     "name": "stderr",
     "output_type": "stream",
     "text": [
      " 96%|█████████▋| 963/1000 [5:49:58<11:19, 18.37s/it]"
     ]
    },
    {
     "name": "stdout",
     "output_type": "stream",
     "text": [
      "eigenvalues shape torch.Size([5]) eigenvectors shape torch.Size([5, 400])\n",
      "963 /home/phdcs2/Hard_Disk/Datasets/Deep-Spectral-Segmentation/data/object-segmentation/ECSSD/features/dino_vits16/0964.pth\n",
      "dict_keys(['k', 'indices', 'file', 'id', 'model_name', 'patch_size', 'shape'])\n",
      "0964\n",
      "Starting Training\n",
      "epoch: 00, loss: -0.61111\n",
      "epoch: 01, loss: -0.86470\n",
      "epoch: 02, loss: -0.85233\n",
      "epoch: 03, loss: -0.80938\n",
      "epoch: 04, loss: -0.78800\n",
      "epoch: 05, loss: -0.76699\n",
      "epoch: 06, loss: -0.78973\n",
      "epoch: 07, loss: -0.80414\n",
      "epoch: 08, loss: -0.81377\n",
      "epoch: 09, loss: -0.79909\n"
     ]
    },
    {
     "name": "stderr",
     "output_type": "stream",
     "text": [
      " 96%|█████████▋| 964/1000 [5:50:15<10:41, 17.81s/it]"
     ]
    },
    {
     "name": "stdout",
     "output_type": "stream",
     "text": [
      "eigenvalues shape torch.Size([5]) eigenvectors shape torch.Size([5, 400])\n",
      "964 /home/phdcs2/Hard_Disk/Datasets/Deep-Spectral-Segmentation/data/object-segmentation/ECSSD/features/dino_vits16/0965.pth\n",
      "dict_keys(['k', 'indices', 'file', 'id', 'model_name', 'patch_size', 'shape'])\n",
      "0965\n",
      "Starting Training\n",
      "epoch: 00, loss: -0.22384\n",
      "epoch: 01, loss: -0.65394\n",
      "epoch: 02, loss: -0.70043\n",
      "epoch: 03, loss: -0.74644\n",
      "epoch: 04, loss: -0.73021\n",
      "epoch: 05, loss: -0.77486\n",
      "epoch: 06, loss: -0.75406\n",
      "epoch: 07, loss: -0.76507\n",
      "epoch: 08, loss: -0.77455\n",
      "epoch: 09, loss: -0.78034\n"
     ]
    },
    {
     "name": "stderr",
     "output_type": "stream",
     "text": [
      " 96%|█████████▋| 965/1000 [5:50:32<10:12, 17.50s/it]"
     ]
    },
    {
     "name": "stdout",
     "output_type": "stream",
     "text": [
      "eigenvalues shape torch.Size([5]) eigenvectors shape torch.Size([5, 350])\n",
      "965 /home/phdcs2/Hard_Disk/Datasets/Deep-Spectral-Segmentation/data/object-segmentation/ECSSD/features/dino_vits16/0966.pth\n",
      "dict_keys(['k', 'indices', 'file', 'id', 'model_name', 'patch_size', 'shape'])\n",
      "0966\n",
      "Starting Training\n",
      "epoch: 00, loss: -0.42101\n",
      "epoch: 01, loss: -0.68487\n",
      "epoch: 02, loss: -0.69842\n",
      "epoch: 03, loss: -0.70838\n",
      "epoch: 04, loss: -0.73434\n",
      "epoch: 05, loss: -0.73348\n",
      "epoch: 06, loss: -0.75139\n",
      "epoch: 07, loss: -0.78455\n",
      "epoch: 08, loss: -0.78037\n",
      "epoch: 09, loss: -0.79510\n"
     ]
    },
    {
     "name": "stderr",
     "output_type": "stream",
     "text": [
      " 97%|█████████▋| 966/1000 [5:50:54<10:41, 18.87s/it]"
     ]
    },
    {
     "name": "stdout",
     "output_type": "stream",
     "text": [
      "eigenvalues shape torch.Size([5]) eigenvectors shape torch.Size([5, 475])\n",
      "966 /home/phdcs2/Hard_Disk/Datasets/Deep-Spectral-Segmentation/data/object-segmentation/ECSSD/features/dino_vits16/0967.pth\n",
      "dict_keys(['k', 'indices', 'file', 'id', 'model_name', 'patch_size', 'shape'])\n",
      "0967\n",
      "Starting Training\n",
      "epoch: 00, loss: -0.47374\n",
      "epoch: 01, loss: -0.77385\n",
      "epoch: 02, loss: -0.75590\n",
      "epoch: 03, loss: -0.62813\n",
      "epoch: 04, loss: -0.68319\n",
      "epoch: 05, loss: -0.73016\n",
      "epoch: 06, loss: -0.74255\n",
      "epoch: 07, loss: -0.77221\n",
      "epoch: 08, loss: -0.75716\n",
      "epoch: 09, loss: -0.76300\n"
     ]
    },
    {
     "name": "stderr",
     "output_type": "stream",
     "text": [
      " 97%|█████████▋| 967/1000 [5:51:14<10:35, 19.27s/it]"
     ]
    },
    {
     "name": "stdout",
     "output_type": "stream",
     "text": [
      "eigenvalues shape torch.Size([5]) eigenvectors shape torch.Size([5, 450])\n",
      "967 /home/phdcs2/Hard_Disk/Datasets/Deep-Spectral-Segmentation/data/object-segmentation/ECSSD/features/dino_vits16/0968.pth\n",
      "dict_keys(['k', 'indices', 'file', 'id', 'model_name', 'patch_size', 'shape'])\n",
      "0968\n",
      "Starting Training\n",
      "epoch: 00, loss: -0.26100\n",
      "epoch: 01, loss: -0.68359\n",
      "epoch: 02, loss: -0.77023\n",
      "epoch: 03, loss: -0.75803\n",
      "epoch: 04, loss: -0.77868\n",
      "epoch: 05, loss: -0.78314\n",
      "epoch: 06, loss: -0.76661\n",
      "epoch: 07, loss: -0.78421\n",
      "epoch: 08, loss: -0.81255\n",
      "epoch: 09, loss: -0.80009\n"
     ]
    },
    {
     "name": "stderr",
     "output_type": "stream",
     "text": [
      " 97%|█████████▋| 968/1000 [5:51:32<10:02, 18.81s/it]"
     ]
    },
    {
     "name": "stdout",
     "output_type": "stream",
     "text": [
      "eigenvalues shape torch.Size([5]) eigenvectors shape torch.Size([5, 400])\n",
      "968 /home/phdcs2/Hard_Disk/Datasets/Deep-Spectral-Segmentation/data/object-segmentation/ECSSD/features/dino_vits16/0969.pth\n",
      "dict_keys(['k', 'indices', 'file', 'id', 'model_name', 'patch_size', 'shape'])\n",
      "0969\n",
      "Starting Training\n",
      "epoch: 00, loss: -0.56959\n",
      "epoch: 01, loss: -0.78768\n",
      "epoch: 02, loss: -0.80513\n",
      "epoch: 03, loss: -0.80635\n",
      "epoch: 04, loss: -0.77219\n",
      "epoch: 05, loss: -0.81294\n",
      "epoch: 06, loss: -0.80179\n",
      "epoch: 07, loss: -0.80275\n",
      "epoch: 08, loss: -0.84102\n",
      "epoch: 09, loss: -0.83202\n"
     ]
    },
    {
     "name": "stderr",
     "output_type": "stream",
     "text": [
      " 97%|█████████▋| 969/1000 [5:51:52<10:00, 19.37s/it]"
     ]
    },
    {
     "name": "stdout",
     "output_type": "stream",
     "text": [
      "eigenvalues shape torch.Size([5]) eigenvectors shape torch.Size([5, 450])\n",
      "969 /home/phdcs2/Hard_Disk/Datasets/Deep-Spectral-Segmentation/data/object-segmentation/ECSSD/features/dino_vits16/0970.pth\n",
      "dict_keys(['k', 'indices', 'file', 'id', 'model_name', 'patch_size', 'shape'])\n",
      "0970\n",
      "Starting Training\n",
      "epoch: 00, loss: -0.41191\n",
      "epoch: 01, loss: -0.78707\n",
      "epoch: 02, loss: -0.75523\n",
      "epoch: 03, loss: -0.76395\n",
      "epoch: 04, loss: -0.76815\n",
      "epoch: 05, loss: -0.78251\n",
      "epoch: 06, loss: -0.80483\n",
      "epoch: 07, loss: -0.81141\n",
      "epoch: 08, loss: -0.80246\n",
      "epoch: 09, loss: -0.80682\n"
     ]
    },
    {
     "name": "stderr",
     "output_type": "stream",
     "text": [
      " 97%|█████████▋| 970/1000 [5:52:11<09:32, 19.08s/it]"
     ]
    },
    {
     "name": "stdout",
     "output_type": "stream",
     "text": [
      "eigenvalues shape torch.Size([5]) eigenvectors shape torch.Size([5, 400])\n",
      "970 /home/phdcs2/Hard_Disk/Datasets/Deep-Spectral-Segmentation/data/object-segmentation/ECSSD/features/dino_vits16/0971.pth\n",
      "dict_keys(['k', 'indices', 'file', 'id', 'model_name', 'patch_size', 'shape'])\n",
      "0971\n",
      "Starting Training\n",
      "epoch: 00, loss: -0.41374\n",
      "epoch: 01, loss: -0.70878\n",
      "epoch: 02, loss: -0.82245\n",
      "epoch: 03, loss: -0.84471\n",
      "epoch: 04, loss: -0.85720\n",
      "epoch: 05, loss: -0.85844\n",
      "epoch: 06, loss: -0.87930\n",
      "epoch: 07, loss: -0.89424\n",
      "epoch: 08, loss: -0.90105\n",
      "epoch: 09, loss: -0.90599\n"
     ]
    },
    {
     "name": "stderr",
     "output_type": "stream",
     "text": [
      " 97%|█████████▋| 971/1000 [5:52:29<09:08, 18.93s/it]"
     ]
    },
    {
     "name": "stdout",
     "output_type": "stream",
     "text": [
      "eigenvalues shape torch.Size([5]) eigenvectors shape torch.Size([5, 400])\n",
      "971 /home/phdcs2/Hard_Disk/Datasets/Deep-Spectral-Segmentation/data/object-segmentation/ECSSD/features/dino_vits16/0972.pth\n",
      "dict_keys(['k', 'indices', 'file', 'id', 'model_name', 'patch_size', 'shape'])\n",
      "0972\n",
      "Starting Training\n",
      "epoch: 00, loss: -0.36771\n",
      "epoch: 01, loss: -0.69960\n",
      "epoch: 02, loss: -0.73394\n",
      "epoch: 03, loss: -0.75106\n",
      "epoch: 04, loss: -0.75200\n",
      "epoch: 05, loss: -0.78613\n",
      "epoch: 06, loss: -0.85879\n",
      "epoch: 07, loss: -0.87890\n",
      "epoch: 08, loss: -0.83430\n",
      "epoch: 09, loss: -0.80278\n"
     ]
    },
    {
     "name": "stderr",
     "output_type": "stream",
     "text": [
      " 97%|█████████▋| 972/1000 [5:52:53<09:28, 20.31s/it]"
     ]
    },
    {
     "name": "stdout",
     "output_type": "stream",
     "text": [
      "eigenvalues shape torch.Size([5]) eigenvectors shape torch.Size([5, 525])\n",
      "972 /home/phdcs2/Hard_Disk/Datasets/Deep-Spectral-Segmentation/data/object-segmentation/ECSSD/features/dino_vits16/0973.pth\n",
      "dict_keys(['k', 'indices', 'file', 'id', 'model_name', 'patch_size', 'shape'])\n",
      "0973\n",
      "Starting Training\n",
      "epoch: 00, loss: -0.31428\n",
      "epoch: 01, loss: -0.67935\n",
      "epoch: 02, loss: -0.74449\n",
      "epoch: 03, loss: -0.78721\n",
      "epoch: 04, loss: -0.76190\n",
      "epoch: 05, loss: -0.76677\n",
      "epoch: 06, loss: -0.76669\n",
      "epoch: 07, loss: -0.75676\n",
      "epoch: 08, loss: -0.75587\n",
      "epoch: 09, loss: -0.75796\n"
     ]
    },
    {
     "name": "stderr",
     "output_type": "stream",
     "text": [
      " 97%|█████████▋| 973/1000 [5:53:11<08:55, 19.82s/it]"
     ]
    },
    {
     "name": "stdout",
     "output_type": "stream",
     "text": [
      "eigenvalues shape torch.Size([5]) eigenvectors shape torch.Size([5, 400])\n",
      "973 /home/phdcs2/Hard_Disk/Datasets/Deep-Spectral-Segmentation/data/object-segmentation/ECSSD/features/dino_vits16/0974.pth\n",
      "dict_keys(['k', 'indices', 'file', 'id', 'model_name', 'patch_size', 'shape'])\n",
      "0974\n",
      "Starting Training\n",
      "epoch: 00, loss: -0.49816\n",
      "epoch: 01, loss: -0.82617\n",
      "epoch: 02, loss: -0.84096\n",
      "epoch: 03, loss: -0.84747\n",
      "epoch: 04, loss: -0.84115\n",
      "epoch: 05, loss: -0.84903\n",
      "epoch: 06, loss: -0.87884\n",
      "epoch: 07, loss: -0.89140\n",
      "epoch: 08, loss: -0.88764\n",
      "epoch: 09, loss: -0.89241\n"
     ]
    },
    {
     "name": "stderr",
     "output_type": "stream",
     "text": [
      " 97%|█████████▋| 974/1000 [5:53:33<08:47, 20.29s/it]"
     ]
    },
    {
     "name": "stdout",
     "output_type": "stream",
     "text": [
      "eigenvalues shape torch.Size([5]) eigenvectors shape torch.Size([5, 500])\n",
      "974 /home/phdcs2/Hard_Disk/Datasets/Deep-Spectral-Segmentation/data/object-segmentation/ECSSD/features/dino_vits16/0975.pth\n",
      "dict_keys(['k', 'indices', 'file', 'id', 'model_name', 'patch_size', 'shape'])\n",
      "0975\n",
      "Starting Training\n",
      "epoch: 00, loss: -0.39212\n",
      "epoch: 01, loss: -0.74992\n",
      "epoch: 02, loss: -0.81381\n",
      "epoch: 03, loss: -0.84282\n",
      "epoch: 04, loss: -0.79345\n",
      "epoch: 05, loss: -0.78723\n",
      "epoch: 06, loss: -0.81725\n",
      "epoch: 07, loss: -0.80903\n",
      "epoch: 08, loss: -0.79265\n",
      "epoch: 09, loss: -0.80083\n"
     ]
    },
    {
     "name": "stderr",
     "output_type": "stream",
     "text": [
      " 98%|█████████▊| 975/1000 [5:53:54<08:35, 20.61s/it]"
     ]
    },
    {
     "name": "stdout",
     "output_type": "stream",
     "text": [
      "eigenvalues shape torch.Size([5]) eigenvectors shape torch.Size([5, 450])\n",
      "975 /home/phdcs2/Hard_Disk/Datasets/Deep-Spectral-Segmentation/data/object-segmentation/ECSSD/features/dino_vits16/0976.pth\n",
      "dict_keys(['k', 'indices', 'file', 'id', 'model_name', 'patch_size', 'shape'])\n",
      "0976\n",
      "Starting Training\n",
      "epoch: 00, loss: -0.45371\n",
      "epoch: 01, loss: -0.86906\n",
      "epoch: 02, loss: -0.84581\n",
      "epoch: 03, loss: -0.86213\n",
      "epoch: 04, loss: -0.86946\n",
      "epoch: 05, loss: -0.86583\n",
      "epoch: 06, loss: -0.86949\n",
      "epoch: 07, loss: -0.86836\n",
      "epoch: 08, loss: -0.86585\n",
      "epoch: 09, loss: -0.87828\n"
     ]
    },
    {
     "name": "stderr",
     "output_type": "stream",
     "text": [
      " 98%|█████████▊| 976/1000 [5:54:11<07:46, 19.43s/it]"
     ]
    },
    {
     "name": "stdout",
     "output_type": "stream",
     "text": [
      "eigenvalues shape torch.Size([5]) eigenvectors shape torch.Size([5, 400])\n",
      "976 /home/phdcs2/Hard_Disk/Datasets/Deep-Spectral-Segmentation/data/object-segmentation/ECSSD/features/dino_vits16/0977.pth\n",
      "dict_keys(['k', 'indices', 'file', 'id', 'model_name', 'patch_size', 'shape'])\n",
      "0977\n",
      "Starting Training\n",
      "epoch: 00, loss: -0.36348\n",
      "epoch: 01, loss: -0.73673\n",
      "epoch: 02, loss: -0.77037\n",
      "epoch: 03, loss: -0.77168\n",
      "epoch: 04, loss: -0.78080\n",
      "epoch: 05, loss: -0.78559\n",
      "epoch: 06, loss: -0.80522\n",
      "epoch: 07, loss: -0.81831\n",
      "epoch: 08, loss: -0.82735\n",
      "epoch: 09, loss: -0.82656\n"
     ]
    },
    {
     "name": "stderr",
     "output_type": "stream",
     "text": [
      " 98%|█████████▊| 977/1000 [5:54:35<08:00, 20.88s/it]"
     ]
    },
    {
     "name": "stdout",
     "output_type": "stream",
     "text": [
      "eigenvalues shape torch.Size([5]) eigenvectors shape torch.Size([5, 525])\n",
      "977 /home/phdcs2/Hard_Disk/Datasets/Deep-Spectral-Segmentation/data/object-segmentation/ECSSD/features/dino_vits16/0978.pth\n",
      "dict_keys(['k', 'indices', 'file', 'id', 'model_name', 'patch_size', 'shape'])\n",
      "0978\n",
      "Starting Training\n",
      "epoch: 00, loss: -0.42236\n",
      "epoch: 01, loss: -0.70498\n",
      "epoch: 02, loss: -0.68669\n",
      "epoch: 03, loss: -0.71319\n",
      "epoch: 04, loss: -0.75572\n",
      "epoch: 05, loss: -0.75808\n",
      "epoch: 06, loss: -0.77236\n",
      "epoch: 07, loss: -0.73960\n",
      "epoch: 08, loss: -0.73811\n",
      "epoch: 09, loss: -0.73343\n",
      " ** On entry to SLASCL parameter number  4 had an illegal value\n",
      " ** On entry to SLASCL parameter number  4 had an illegal value\n"
     ]
    },
    {
     "name": "stderr",
     "output_type": "stream",
     "text": [
      " 98%|█████████▊| 978/1000 [5:54:56<07:41, 20.99s/it]"
     ]
    },
    {
     "name": "stdout",
     "output_type": "stream",
     "text": [
      "eigenvalues shape torch.Size([5]) eigenvectors shape torch.Size([5, 400])\n",
      "978 /home/phdcs2/Hard_Disk/Datasets/Deep-Spectral-Segmentation/data/object-segmentation/ECSSD/features/dino_vits16/0979.pth\n",
      "dict_keys(['k', 'indices', 'file', 'id', 'model_name', 'patch_size', 'shape'])\n",
      "0979\n",
      "Starting Training\n",
      "epoch: 00, loss: -0.69397\n",
      "epoch: 01, loss: -0.91089\n",
      "epoch: 02, loss: -0.93391\n",
      "epoch: 03, loss: -0.94095\n",
      "epoch: 04, loss: -0.93112\n",
      "epoch: 05, loss: -0.94011\n",
      "epoch: 06, loss: -0.93548\n",
      "epoch: 07, loss: -0.92751\n",
      "epoch: 08, loss: -0.93090\n",
      "epoch: 09, loss: -0.91806\n"
     ]
    },
    {
     "name": "stderr",
     "output_type": "stream",
     "text": [
      " 98%|█████████▊| 979/1000 [5:55:21<07:44, 22.12s/it]"
     ]
    },
    {
     "name": "stdout",
     "output_type": "stream",
     "text": [
      "eigenvalues shape torch.Size([5]) eigenvectors shape torch.Size([5, 525])\n",
      "979 /home/phdcs2/Hard_Disk/Datasets/Deep-Spectral-Segmentation/data/object-segmentation/ECSSD/features/dino_vits16/0980.pth\n",
      "dict_keys(['k', 'indices', 'file', 'id', 'model_name', 'patch_size', 'shape'])\n",
      "0980\n",
      "Starting Training\n",
      "epoch: 00, loss: -0.56067\n",
      "epoch: 01, loss: -0.81108\n",
      "epoch: 02, loss: -0.79277\n",
      "epoch: 03, loss: -0.78359\n",
      "epoch: 04, loss: -0.78617\n",
      "epoch: 05, loss: -0.79213\n",
      "epoch: 06, loss: -0.83317\n",
      "epoch: 07, loss: -0.85312\n",
      "epoch: 08, loss: -0.85576\n",
      "epoch: 09, loss: -0.86054\n"
     ]
    },
    {
     "name": "stderr",
     "output_type": "stream",
     "text": [
      " 98%|█████████▊| 980/1000 [5:55:47<07:44, 23.22s/it]"
     ]
    },
    {
     "name": "stdout",
     "output_type": "stream",
     "text": [
      "eigenvalues shape torch.Size([5]) eigenvectors shape torch.Size([5, 550])\n",
      "980 /home/phdcs2/Hard_Disk/Datasets/Deep-Spectral-Segmentation/data/object-segmentation/ECSSD/features/dino_vits16/0981.pth\n",
      "dict_keys(['k', 'indices', 'file', 'id', 'model_name', 'patch_size', 'shape'])\n",
      "0981\n",
      "Starting Training\n",
      "epoch: 00, loss: -0.66668\n",
      "epoch: 01, loss: -0.89623\n",
      "epoch: 02, loss: -0.86988\n",
      "epoch: 03, loss: -0.82099\n",
      "epoch: 04, loss: -0.80617\n",
      "epoch: 05, loss: -0.79940\n",
      "epoch: 06, loss: -0.78869\n",
      "epoch: 07, loss: -0.79926\n",
      "epoch: 08, loss: -0.78930\n",
      "epoch: 09, loss: -0.79591\n"
     ]
    },
    {
     "name": "stderr",
     "output_type": "stream",
     "text": [
      " 98%|█████████▊| 981/1000 [5:56:14<07:44, 24.46s/it]"
     ]
    },
    {
     "name": "stdout",
     "output_type": "stream",
     "text": [
      "eigenvalues shape torch.Size([5]) eigenvectors shape torch.Size([5, 600])\n",
      "981 /home/phdcs2/Hard_Disk/Datasets/Deep-Spectral-Segmentation/data/object-segmentation/ECSSD/features/dino_vits16/0982.pth\n",
      "dict_keys(['k', 'indices', 'file', 'id', 'model_name', 'patch_size', 'shape'])\n",
      "0982\n",
      "Starting Training\n",
      "epoch: 00, loss: -0.57351\n",
      "epoch: 01, loss: -0.84455\n",
      "epoch: 02, loss: -0.81843\n",
      "epoch: 03, loss: -0.70220\n",
      "epoch: 04, loss: -0.67520\n",
      "epoch: 05, loss: -0.67593\n",
      "epoch: 06, loss: -0.69556\n",
      "epoch: 07, loss: -0.70776\n",
      "epoch: 08, loss: -0.69866\n",
      "epoch: 09, loss: -0.73263\n"
     ]
    },
    {
     "name": "stderr",
     "output_type": "stream",
     "text": [
      " 98%|█████████▊| 982/1000 [5:56:32<06:45, 22.53s/it]"
     ]
    },
    {
     "name": "stdout",
     "output_type": "stream",
     "text": [
      "eigenvalues shape torch.Size([5]) eigenvectors shape torch.Size([5, 408])\n",
      "982 /home/phdcs2/Hard_Disk/Datasets/Deep-Spectral-Segmentation/data/object-segmentation/ECSSD/features/dino_vits16/0983.pth\n",
      "dict_keys(['k', 'indices', 'file', 'id', 'model_name', 'patch_size', 'shape'])\n",
      "0983\n",
      "Starting Training\n",
      "epoch: 00, loss: -0.44089\n",
      "epoch: 01, loss: -0.56157\n",
      "epoch: 02, loss: -0.64313\n",
      "epoch: 03, loss: -0.70050\n",
      "epoch: 04, loss: -0.70512\n",
      "epoch: 05, loss: -0.73379\n",
      "epoch: 06, loss: -0.75810\n",
      "epoch: 07, loss: -0.77642\n",
      "epoch: 08, loss: -0.76729\n",
      "epoch: 09, loss: -0.75553\n"
     ]
    },
    {
     "name": "stderr",
     "output_type": "stream",
     "text": [
      " 98%|█████████▊| 983/1000 [5:56:51<06:04, 21.45s/it]"
     ]
    },
    {
     "name": "stdout",
     "output_type": "stream",
     "text": [
      "eigenvalues shape torch.Size([5]) eigenvectors shape torch.Size([5, 400])\n",
      "983 /home/phdcs2/Hard_Disk/Datasets/Deep-Spectral-Segmentation/data/object-segmentation/ECSSD/features/dino_vits16/0984.pth\n",
      "dict_keys(['k', 'indices', 'file', 'id', 'model_name', 'patch_size', 'shape'])\n",
      "0984\n",
      "Starting Training\n",
      "epoch: 00, loss: -0.47498\n",
      "epoch: 01, loss: -0.75532\n",
      "epoch: 02, loss: -0.80177\n",
      "epoch: 03, loss: -0.77678\n",
      "epoch: 04, loss: -0.78448\n",
      "epoch: 05, loss: -0.78197\n",
      "epoch: 06, loss: -0.80932\n",
      "epoch: 07, loss: -0.80422\n",
      "epoch: 08, loss: -0.79775\n",
      "epoch: 09, loss: -0.79581\n"
     ]
    },
    {
     "name": "stderr",
     "output_type": "stream",
     "text": [
      " 98%|█████████▊| 984/1000 [5:57:10<05:28, 20.52s/it]"
     ]
    },
    {
     "name": "stdout",
     "output_type": "stream",
     "text": [
      "eigenvalues shape torch.Size([5]) eigenvectors shape torch.Size([5, 400])\n",
      "984 /home/phdcs2/Hard_Disk/Datasets/Deep-Spectral-Segmentation/data/object-segmentation/ECSSD/features/dino_vits16/0985.pth\n",
      "dict_keys(['k', 'indices', 'file', 'id', 'model_name', 'patch_size', 'shape'])\n",
      "0985\n",
      "Starting Training\n",
      "epoch: 00, loss: -0.56234\n",
      "epoch: 01, loss: -0.90014\n",
      "epoch: 02, loss: -0.90355\n",
      "epoch: 03, loss: -0.85400\n",
      "epoch: 04, loss: -0.75098\n",
      "epoch: 05, loss: -0.77500\n",
      "epoch: 06, loss: -0.76032\n",
      "epoch: 07, loss: -0.77240\n",
      "epoch: 08, loss: -0.75153\n",
      "epoch: 09, loss: -0.75370\n"
     ]
    },
    {
     "name": "stderr",
     "output_type": "stream",
     "text": [
      " 98%|█████████▊| 985/1000 [5:57:28<04:58, 19.92s/it]"
     ]
    },
    {
     "name": "stdout",
     "output_type": "stream",
     "text": [
      "eigenvalues shape torch.Size([5]) eigenvectors shape torch.Size([5, 400])\n",
      "985 /home/phdcs2/Hard_Disk/Datasets/Deep-Spectral-Segmentation/data/object-segmentation/ECSSD/features/dino_vits16/0986.pth\n",
      "dict_keys(['k', 'indices', 'file', 'id', 'model_name', 'patch_size', 'shape'])\n",
      "0986\n",
      "Starting Training\n",
      "epoch: 00, loss: -0.53702\n",
      "epoch: 01, loss: -0.79412\n",
      "epoch: 02, loss: -0.81084\n",
      "epoch: 03, loss: -0.79825\n",
      "epoch: 04, loss: -0.79846\n",
      "epoch: 05, loss: -0.78221\n",
      "epoch: 06, loss: -0.80191\n",
      "epoch: 07, loss: -0.81032\n",
      "epoch: 08, loss: -0.82569\n",
      "epoch: 09, loss: -0.70832\n"
     ]
    },
    {
     "name": "stderr",
     "output_type": "stream",
     "text": [
      " 99%|█████████▊| 986/1000 [5:57:44<04:22, 18.74s/it]"
     ]
    },
    {
     "name": "stdout",
     "output_type": "stream",
     "text": [
      "eigenvalues shape torch.Size([5]) eigenvectors shape torch.Size([5, 375])\n",
      "986 /home/phdcs2/Hard_Disk/Datasets/Deep-Spectral-Segmentation/data/object-segmentation/ECSSD/features/dino_vits16/0987.pth\n",
      "dict_keys(['k', 'indices', 'file', 'id', 'model_name', 'patch_size', 'shape'])\n",
      "0987\n",
      "Starting Training\n",
      "epoch: 00, loss: -0.55163\n",
      "epoch: 01, loss: -0.85473\n",
      "epoch: 02, loss: -0.88640\n",
      "epoch: 03, loss: -0.91044\n",
      "epoch: 04, loss: -0.91100\n",
      "epoch: 05, loss: -0.90703\n",
      "epoch: 06, loss: -0.90900\n",
      "epoch: 07, loss: -0.90081\n",
      "epoch: 08, loss: -0.91457\n",
      "epoch: 09, loss: -0.91367\n"
     ]
    },
    {
     "name": "stderr",
     "output_type": "stream",
     "text": [
      " 99%|█████████▊| 987/1000 [5:58:04<04:07, 19.05s/it]"
     ]
    },
    {
     "name": "stdout",
     "output_type": "stream",
     "text": [
      "eigenvalues shape torch.Size([5]) eigenvectors shape torch.Size([5, 425])\n",
      "987 /home/phdcs2/Hard_Disk/Datasets/Deep-Spectral-Segmentation/data/object-segmentation/ECSSD/features/dino_vits16/0988.pth\n",
      "dict_keys(['k', 'indices', 'file', 'id', 'model_name', 'patch_size', 'shape'])\n",
      "0988\n",
      "Starting Training\n",
      "epoch: 00, loss: -0.52361\n",
      "epoch: 01, loss: -0.75531\n",
      "epoch: 02, loss: -0.77284\n",
      "epoch: 03, loss: -0.77798\n",
      "epoch: 04, loss: -0.78657\n",
      "epoch: 05, loss: -0.81422\n",
      "epoch: 06, loss: -0.84214\n",
      "epoch: 07, loss: -0.85598\n",
      "epoch: 08, loss: -0.86275\n",
      "epoch: 09, loss: -0.85920\n"
     ]
    },
    {
     "name": "stderr",
     "output_type": "stream",
     "text": [
      " 99%|█████████▉| 988/1000 [5:58:20<03:39, 18.28s/it]"
     ]
    },
    {
     "name": "stdout",
     "output_type": "stream",
     "text": [
      "eigenvalues shape torch.Size([5]) eigenvectors shape torch.Size([5, 400])\n",
      "988 /home/phdcs2/Hard_Disk/Datasets/Deep-Spectral-Segmentation/data/object-segmentation/ECSSD/features/dino_vits16/0989.pth\n",
      "dict_keys(['k', 'indices', 'file', 'id', 'model_name', 'patch_size', 'shape'])\n",
      "0989\n",
      "Starting Training\n",
      "epoch: 00, loss: -0.45771\n",
      "epoch: 01, loss: -0.71550\n",
      "epoch: 02, loss: -0.73270\n",
      "epoch: 03, loss: -0.73427\n",
      "epoch: 04, loss: -0.76774\n",
      "epoch: 05, loss: -0.74742\n",
      "epoch: 06, loss: -0.76054\n",
      "epoch: 07, loss: -0.78623\n",
      "epoch: 08, loss: -0.80988\n",
      "epoch: 09, loss: -0.83627\n"
     ]
    },
    {
     "name": "stderr",
     "output_type": "stream",
     "text": [
      " 99%|█████████▉| 989/1000 [5:58:41<03:28, 18.94s/it]"
     ]
    },
    {
     "name": "stdout",
     "output_type": "stream",
     "text": [
      "eigenvalues shape torch.Size([5]) eigenvectors shape torch.Size([5, 450])\n",
      "989 /home/phdcs2/Hard_Disk/Datasets/Deep-Spectral-Segmentation/data/object-segmentation/ECSSD/features/dino_vits16/0990.pth\n",
      "dict_keys(['k', 'indices', 'file', 'id', 'model_name', 'patch_size', 'shape'])\n",
      "0990\n",
      "Starting Training\n",
      "epoch: 00, loss: -0.45007\n",
      "epoch: 01, loss: -0.70266\n",
      "epoch: 02, loss: -0.77131\n",
      "epoch: 03, loss: -0.80629\n",
      "epoch: 04, loss: -0.79981\n",
      "epoch: 05, loss: -0.80941\n",
      "epoch: 06, loss: -0.81206\n",
      "epoch: 07, loss: -0.81619\n",
      "epoch: 08, loss: -0.83309\n",
      "epoch: 09, loss: -0.84275\n"
     ]
    },
    {
     "name": "stderr",
     "output_type": "stream",
     "text": [
      " 99%|█████████▉| 990/1000 [5:59:01<03:12, 19.23s/it]"
     ]
    },
    {
     "name": "stdout",
     "output_type": "stream",
     "text": [
      "eigenvalues shape torch.Size([5]) eigenvectors shape torch.Size([5, 450])\n",
      "990 /home/phdcs2/Hard_Disk/Datasets/Deep-Spectral-Segmentation/data/object-segmentation/ECSSD/features/dino_vits16/0991.pth\n",
      "dict_keys(['k', 'indices', 'file', 'id', 'model_name', 'patch_size', 'shape'])\n",
      "0991\n",
      "Starting Training\n",
      "epoch: 00, loss: -0.39698\n",
      "epoch: 01, loss: -0.68834\n",
      "epoch: 02, loss: -0.70019\n",
      "epoch: 03, loss: -0.76046\n",
      "epoch: 04, loss: -0.77062\n",
      "epoch: 05, loss: -0.79297\n",
      "epoch: 06, loss: -0.80874\n",
      "epoch: 07, loss: -0.82040\n",
      "epoch: 08, loss: -0.81783\n",
      "epoch: 09, loss: -0.82193\n"
     ]
    },
    {
     "name": "stderr",
     "output_type": "stream",
     "text": [
      " 99%|█████████▉| 991/1000 [5:59:21<02:55, 19.55s/it]"
     ]
    },
    {
     "name": "stdout",
     "output_type": "stream",
     "text": [
      "eigenvalues shape torch.Size([5]) eigenvectors shape torch.Size([5, 450])\n",
      "991 /home/phdcs2/Hard_Disk/Datasets/Deep-Spectral-Segmentation/data/object-segmentation/ECSSD/features/dino_vits16/0992.pth\n",
      "dict_keys(['k', 'indices', 'file', 'id', 'model_name', 'patch_size', 'shape'])\n",
      "0992\n",
      "Starting Training\n",
      "epoch: 00, loss: -0.44032\n",
      "epoch: 01, loss: -0.70343\n",
      "epoch: 02, loss: -0.70496\n",
      "epoch: 03, loss: -0.72480\n",
      "epoch: 04, loss: -0.75945\n",
      "epoch: 05, loss: -0.78504\n",
      "epoch: 06, loss: -0.67017\n",
      "epoch: 07, loss: -0.66962\n",
      "epoch: 08, loss: -0.70551\n",
      "epoch: 09, loss: -0.74783\n"
     ]
    },
    {
     "name": "stderr",
     "output_type": "stream",
     "text": [
      " 99%|█████████▉| 992/1000 [5:59:38<02:30, 18.86s/it]"
     ]
    },
    {
     "name": "stdout",
     "output_type": "stream",
     "text": [
      "eigenvalues shape torch.Size([5]) eigenvectors shape torch.Size([5, 400])\n",
      "992 /home/phdcs2/Hard_Disk/Datasets/Deep-Spectral-Segmentation/data/object-segmentation/ECSSD/features/dino_vits16/0993.pth\n",
      "dict_keys(['k', 'indices', 'file', 'id', 'model_name', 'patch_size', 'shape'])\n",
      "0993\n",
      "Starting Training\n",
      "epoch: 00, loss: -0.58421\n",
      "epoch: 01, loss: -0.90916\n",
      "epoch: 02, loss: -0.86850\n",
      "epoch: 03, loss: -0.86406\n",
      "epoch: 04, loss: -0.87076\n",
      "epoch: 05, loss: -0.87951\n",
      "epoch: 06, loss: -0.88446\n",
      "epoch: 07, loss: -0.89714\n",
      "epoch: 08, loss: -0.87998\n",
      "epoch: 09, loss: -0.88378\n"
     ]
    },
    {
     "name": "stderr",
     "output_type": "stream",
     "text": [
      " 99%|█████████▉| 993/1000 [5:59:57<02:11, 18.82s/it]"
     ]
    },
    {
     "name": "stdout",
     "output_type": "stream",
     "text": [
      "eigenvalues shape torch.Size([5]) eigenvectors shape torch.Size([5, 400])\n",
      "993 /home/phdcs2/Hard_Disk/Datasets/Deep-Spectral-Segmentation/data/object-segmentation/ECSSD/features/dino_vits16/0994.pth\n",
      "dict_keys(['k', 'indices', 'file', 'id', 'model_name', 'patch_size', 'shape'])\n",
      "0994\n",
      "Starting Training\n",
      "epoch: 00, loss: -0.54713\n",
      "epoch: 01, loss: -0.69823\n",
      "epoch: 02, loss: -0.79078\n",
      "epoch: 03, loss: -0.81727\n",
      "epoch: 04, loss: -0.82217\n",
      "epoch: 05, loss: -0.80769\n",
      "epoch: 06, loss: -0.83350\n",
      "epoch: 07, loss: -0.84316\n",
      "epoch: 08, loss: -0.82991\n",
      "epoch: 09, loss: -0.82864\n"
     ]
    },
    {
     "name": "stderr",
     "output_type": "stream",
     "text": [
      " 99%|█████████▉| 994/1000 [6:00:16<01:52, 18.77s/it]"
     ]
    },
    {
     "name": "stdout",
     "output_type": "stream",
     "text": [
      "eigenvalues shape torch.Size([5]) eigenvectors shape torch.Size([5, 400])\n",
      "994 /home/phdcs2/Hard_Disk/Datasets/Deep-Spectral-Segmentation/data/object-segmentation/ECSSD/features/dino_vits16/0995.pth\n",
      "dict_keys(['k', 'indices', 'file', 'id', 'model_name', 'patch_size', 'shape'])\n",
      "0995\n",
      "Starting Training\n",
      "epoch: 00, loss: -0.52658\n",
      "epoch: 01, loss: -0.85905\n",
      "epoch: 02, loss: -0.80789\n",
      "epoch: 03, loss: -0.73219\n",
      "epoch: 04, loss: -0.76148\n",
      "epoch: 05, loss: -0.78870\n",
      "epoch: 06, loss: -0.81125\n",
      "epoch: 07, loss: -0.84724\n",
      "epoch: 08, loss: -0.85378\n",
      "epoch: 09, loss: -0.86425\n"
     ]
    },
    {
     "name": "stderr",
     "output_type": "stream",
     "text": [
      "100%|█████████▉| 995/1000 [6:00:38<01:38, 19.75s/it]"
     ]
    },
    {
     "name": "stdout",
     "output_type": "stream",
     "text": [
      "eigenvalues shape torch.Size([5]) eigenvectors shape torch.Size([5, 450])\n",
      "995 /home/phdcs2/Hard_Disk/Datasets/Deep-Spectral-Segmentation/data/object-segmentation/ECSSD/features/dino_vits16/0996.pth\n",
      "dict_keys(['k', 'indices', 'file', 'id', 'model_name', 'patch_size', 'shape'])\n",
      "0996\n",
      "Starting Training\n",
      "epoch: 00, loss: -0.29531\n",
      "epoch: 01, loss: -0.58994\n",
      "epoch: 02, loss: -0.67180\n",
      "epoch: 03, loss: -0.70753\n",
      "epoch: 04, loss: -0.72280\n",
      "epoch: 05, loss: -0.73446\n",
      "epoch: 06, loss: -0.76636\n",
      "epoch: 07, loss: -0.75648\n",
      "epoch: 08, loss: -0.74904\n",
      "epoch: 09, loss: -0.75615\n"
     ]
    },
    {
     "name": "stderr",
     "output_type": "stream",
     "text": [
      "100%|█████████▉| 996/1000 [6:00:58<01:20, 20.01s/it]"
     ]
    },
    {
     "name": "stdout",
     "output_type": "stream",
     "text": [
      "eigenvalues shape torch.Size([5]) eigenvectors shape torch.Size([5, 450])\n",
      "996 /home/phdcs2/Hard_Disk/Datasets/Deep-Spectral-Segmentation/data/object-segmentation/ECSSD/features/dino_vits16/0997.pth\n",
      "dict_keys(['k', 'indices', 'file', 'id', 'model_name', 'patch_size', 'shape'])\n",
      "0997\n",
      "Starting Training\n",
      "epoch: 00, loss: -0.31611\n",
      "epoch: 01, loss: -0.63209\n",
      "epoch: 02, loss: -0.74325\n",
      "epoch: 03, loss: -0.76325\n",
      "epoch: 04, loss: -0.77183\n",
      "epoch: 05, loss: -0.78853\n",
      "epoch: 06, loss: -0.80986\n",
      "epoch: 07, loss: -0.78466\n",
      "epoch: 08, loss: -0.79350\n",
      "epoch: 09, loss: -0.79618\n"
     ]
    },
    {
     "name": "stderr",
     "output_type": "stream",
     "text": [
      "100%|█████████▉| 997/1000 [6:01:19<01:00, 20.08s/it]"
     ]
    },
    {
     "name": "stdout",
     "output_type": "stream",
     "text": [
      "eigenvalues shape torch.Size([5]) eigenvectors shape torch.Size([5, 450])\n",
      "997 /home/phdcs2/Hard_Disk/Datasets/Deep-Spectral-Segmentation/data/object-segmentation/ECSSD/features/dino_vits16/0998.pth\n",
      "dict_keys(['k', 'indices', 'file', 'id', 'model_name', 'patch_size', 'shape'])\n",
      "0998\n",
      "Starting Training\n",
      "epoch: 00, loss: -0.59878\n",
      "epoch: 01, loss: -0.90322\n",
      "epoch: 02, loss: -0.90088\n",
      "epoch: 03, loss: -0.89831\n",
      "epoch: 04, loss: -0.90048\n",
      "epoch: 05, loss: -0.91169\n",
      "epoch: 06, loss: -0.90738\n",
      "epoch: 07, loss: -0.88527\n",
      "epoch: 08, loss: -0.84691\n",
      "epoch: 09, loss: -0.85961\n"
     ]
    },
    {
     "name": "stderr",
     "output_type": "stream",
     "text": [
      "100%|█████████▉| 998/1000 [6:01:40<00:40, 20.42s/it]"
     ]
    },
    {
     "name": "stdout",
     "output_type": "stream",
     "text": [
      "eigenvalues shape torch.Size([5]) eigenvectors shape torch.Size([5, 450])\n",
      "998 /home/phdcs2/Hard_Disk/Datasets/Deep-Spectral-Segmentation/data/object-segmentation/ECSSD/features/dino_vits16/0999.pth\n",
      "dict_keys(['k', 'indices', 'file', 'id', 'model_name', 'patch_size', 'shape'])\n",
      "0999\n",
      "Starting Training\n",
      "epoch: 00, loss: -0.38421\n",
      "epoch: 01, loss: -0.76134\n",
      "epoch: 02, loss: -0.78080\n",
      "epoch: 03, loss: -0.80847\n",
      "epoch: 04, loss: -0.75848\n",
      "epoch: 05, loss: -0.76775\n",
      "epoch: 06, loss: -0.76738\n",
      "epoch: 07, loss: -0.76779\n",
      "epoch: 08, loss: -0.77560\n",
      "epoch: 09, loss: -0.78464\n"
     ]
    },
    {
     "name": "stderr",
     "output_type": "stream",
     "text": [
      "100%|█████████▉| 999/1000 [6:01:55<00:18, 18.92s/it]"
     ]
    },
    {
     "name": "stdout",
     "output_type": "stream",
     "text": [
      "eigenvalues shape torch.Size([5]) eigenvectors shape torch.Size([5, 375])\n",
      "999 /home/phdcs2/Hard_Disk/Datasets/Deep-Spectral-Segmentation/data/object-segmentation/ECSSD/features/dino_vits16/1000.pth\n",
      "dict_keys(['k', 'indices', 'file', 'id', 'model_name', 'patch_size', 'shape'])\n",
      "1000\n",
      "Starting Training\n",
      "epoch: 00, loss: -0.27095\n",
      "epoch: 01, loss: -0.56856\n",
      "epoch: 02, loss: -0.67603\n",
      "epoch: 03, loss: -0.74790\n",
      "epoch: 04, loss: -0.77995\n",
      "epoch: 05, loss: -0.79619\n",
      "epoch: 06, loss: -0.80772\n",
      "epoch: 07, loss: -0.82315\n",
      "epoch: 08, loss: -0.82412\n",
      "epoch: 09, loss: -0.83461\n"
     ]
    },
    {
     "name": "stderr",
     "output_type": "stream",
     "text": [
      "100%|██████████| 1000/1000 [6:02:14<00:00, 21.73s/it]"
     ]
    },
    {
     "name": "stdout",
     "output_type": "stream",
     "text": [
      "eigenvalues shape torch.Size([5]) eigenvectors shape torch.Size([5, 400])\n"
     ]
    },
    {
     "name": "stderr",
     "output_type": "stream",
     "text": [
      "\n"
     ]
    }
   ],
   "source": [
    "utils.make_output_dir(output_dir)\n",
    "feat_list=[]\n",
    "inputs = list(enumerate(sorted(Path(features_dir).iterdir())))\n",
    "for inp in tqdm(inputs):\n",
    "    index, features_file = inp\n",
    "    print(index, features_file)\n",
    "     # Load\n",
    "    data_dict = torch.load(features_file, map_location='cpu')\n",
    "    print(data_dict.keys())   #['k', 'indices', 'file', 'id', 'model_name', 'patch_size', 'shape']\n",
    "    # print(\"shape=\", data_dict['shape'], \"k shape\", data_dict['k'].shape, \"patch_size=\", data_dict['patch_size'])\n",
    "    image_id = data_dict['file'][:-4]\n",
    "    print(image_id)\n",
    "    # Load\n",
    "    output_file = str(Path(output_dir) / f'{image_id}.pth')\n",
    "    if Path(output_file).is_file():\n",
    "        print(f'Skipping existing file {str(output_file)}')\n",
    "        # break\n",
    "        # return  # skip because already generated\n",
    "\n",
    "    # Load affinity matrix\n",
    "    feats = data_dict[which_features].squeeze().cuda()\n",
    "    # print(\"Without normalizing, Features Shape is\",feats.shape)\n",
    "    if normalize:\n",
    "        feats = F.normalize(feats, p=2, dim=-1)\n",
    "    # print(\"After normalization, Features Shape\",feats.shape)\n",
    "    # print(\"which_matrix=\", which_matrix)\n",
    "    # Eigenvectors of affinity matrix\n",
    "    if which_matrix == 'affinity_torch':\n",
    "        W = feats @ feats.T\n",
    "        # W_feat=contrastive_affinity(feats, feats.T)\n",
    "        # print(\"W shape=\", W.shape)\n",
    "        if threshold_at_zero:\n",
    "            W = (W * (W > 0))\n",
    "            # print(\"W shape=\", W.shape)\n",
    "        eigenvalues, eigenvectors = torch.eig(W, eigenvectors=True)\n",
    "        eigenvalues = eigenvalues.cpu()\n",
    "        eigenvectors = eigenvectors.cpu()\n",
    "        print(\"which matrix=\",which_matrix, \"eigenvalues shape\", eigenvalues.shape, \"eigenvectors shape\", eigenvectors.shape)\n",
    "\n",
    "\n",
    "    # Eigenvectors of affinity matrix with scipy\n",
    "    elif which_matrix == 'affinity_svd':\n",
    "        USV = torch.linalg.svd(feats, full_matrices=False)\n",
    "        eigenvectors = USV[0][:, :K].T.to('cpu', non_blocking=True)\n",
    "        eigenvalues = USV[1][:K].to('cpu', non_blocking=True)\n",
    "        print(\"which matrix=\",which_matrix,\"eigenvalues shape\", eigenvalues.shape, \"eigenvectors shape\", eigenvectors.shape)\n",
    "\n",
    "    # Eigenvectors of affinity matrix with scipy\n",
    "    elif which_matrix == 'affinity':\n",
    "        # print(\"Without normalizing, Features Shape is\",feats.shape)\n",
    "        W = (feats @ feats.T)\n",
    "        # W_feat=contrastive_affinity(feats, feats.T)\n",
    "        # print(\"W shape=\", W.shape)\n",
    "        if threshold_at_zero:\n",
    "            W = (W * (W > 0))\n",
    "        W = W.cpu().numpy()\n",
    "        # print(\"W shape=\", W.shape)\n",
    "        eigenvalues, eigenvectors = eigsh(W, which='LM', k=K)\n",
    "        eigenvectors = torch.flip(torch.from_numpy(eigenvectors), dims=(-1,)).T\n",
    "        print(\"which matrix=\",which_matrix, \"eigenvalues shape\", eigenvalues.shape, \"eigenvectors shape\", eigenvectors.shape)\n",
    "\n",
    "    # Eigenvectors of matting laplacian matrix\n",
    "    elif which_matrix in ['matting_laplacian', 'laplacian']:\n",
    "\n",
    "        # Get sizes\n",
    "        B, C, H, W, P, H_patch, W_patch, H_pad, W_pad = utils.get_image_sizes(data_dict)\n",
    "        if image_downsample_factor is None:\n",
    "            image_downsample_factor = P\n",
    "        H_pad_lr, W_pad_lr = H_pad // image_downsample_factor, W_pad // image_downsample_factor\n",
    "\n",
    "        # Upscale features to match the resolution\n",
    "        if (H_patch, W_patch) != (H_pad_lr, W_pad_lr):\n",
    "            feats = F.interpolate(\n",
    "                feats.T.reshape(1, -1, H_patch, W_patch),\n",
    "                size=(H_pad_lr, W_pad_lr), mode='bilinear', align_corners=False\n",
    "            ).reshape(-1, H_pad_lr * W_pad_lr).T\n",
    "\n",
    "        ### Feature affinities\n",
    "        # print(\"Without normalizing, Features Shape is\",feats.shape)\n",
    "\n",
    "        W_feat_ds = (feats @ feats.T)\n",
    "        # feat_list.append(feats)\n",
    "        feat_dataset = Feature_Dataset(feats)\n",
    "        if feats.shape[0]%2==0:\n",
    "            features_dataloader = DataLoader(feat_dataset, batch_size=2, shuffle=True)\n",
    "        else:\n",
    "            features_dataloader = DataLoader(feat_dataset, batch_size=2, shuffle=True, drop_last=True)\n",
    "        model_simsiam = SimSiam()\n",
    "        device = \"cuda\" if torch.cuda.is_available() else \"cpu\"\n",
    "        model_simsiam.to(device)\n",
    "        criterion = NegativeCosineSimilarity()\n",
    "        optimizer = torch.optim.SGD(model_simsiam.parameters(), lr=0.06)\n",
    "        print(\"Starting Training\")\n",
    "        for epoch in range(10):\n",
    "            total_loss = 0\n",
    "            for x0 in features_dataloader:\n",
    "            # for (x0), _, _ in features_dataloader:\n",
    "                x0 = x0.unsqueeze(0).to(device)\n",
    "                # print(x0.shape)\n",
    "                x1=torchvision.transforms.RandomAffine(0)(x0)\n",
    "                # print(x1.shape)\n",
    "                x0 = x0.squeeze(0).to(device)\n",
    "                # print(\"x0.shape=\", x0.shape)\n",
    "                x1 = x1.squeeze(0).to(device)\n",
    "                # print(\"x1 shape=\", x1.shape)\n",
    "\n",
    "                z0, p0 = model_simsiam(x0)\n",
    "                z1, p1 = model_simsiam(x1)\n",
    "                loss = 0.5 * (criterion(z0, p1) + criterion(z1, p0))\n",
    "                total_loss += loss.detach()\n",
    "                loss.backward()\n",
    "                optimizer.step()\n",
    "                optimizer.zero_grad()\n",
    "            avg_loss = total_loss / len(features_dataloader)\n",
    "            print(f\"epoch: {epoch:>02}, loss: {avg_loss:.5f}\")\n",
    "        projected_feature=model_simsiam(feats)\n",
    "        W_feat_siam=torch.matmul(projected_feature[0], projected_feature[0].t())\n",
    "        W_feat=W_feat_ds + W_feat_siam\n",
    "        # print(\"W_feat.shape=\", W_feat.shape)\n",
    "        # print(\"W_feat.shape=\", W_feat.shape)\n",
    "        # W_feat=contrastive_affinity(feats, feats.T)\n",
    "        if threshold_at_zero:\n",
    "            W_feat = (W_feat * (W_feat > 0))\n",
    "        W_feat = W_feat / W_feat.max()  # NOTE: If features are normalized, this naturally does nothing\n",
    "        # W_feat = W_feat.cpu().numpy()\n",
    "        W_feat = W_feat.detach().cpu().numpy()\n",
    "        # print(\"W_feat shape=\",W_feat.shape)\n",
    "\n",
    "        ### Color affinities\n",
    "        # If we are fusing with color affinites, then load the image and compute\n",
    "        if image_color_lambda > 0:\n",
    "\n",
    "            # Load image\n",
    "            image_file = str(Path(images_root) / f'{image_id}.jpg')\n",
    "            image_lr = Image.open(image_file).resize((W_pad_lr, H_pad_lr), Image.BILINEAR)\n",
    "            image_lr = np.array(image_lr) / 255.\n",
    "\n",
    "            # Color affinities (of type scipy.sparse.csr_matrix)\n",
    "            if which_color_matrix == 'knn':\n",
    "                W_lr = utils.knn_affinity(image_lr / 255)\n",
    "            elif which_color_matrix == 'rw':\n",
    "                W_lr = utils.rw_affinity(image_lr / 255)\n",
    "\n",
    "            # Convert to dense numpy array\n",
    "            W_color = np.array(W_lr.todense().astype(np.float32))\n",
    "            # print(\"W_color shape\", W_color.shape)\n",
    "\n",
    "        else:\n",
    "\n",
    "            # No color affinity\n",
    "            W_color = 0\n",
    "\n",
    "        # Combine\n",
    "        W_comb = W_feat + W_color * image_color_lambda  # combination\n",
    "        D_comb = np.array(utils.get_diagonal(W_comb).todense())  # is dense or sparse faster? not sure, should check\n",
    "        # print(\"W_comb shape= \", W_comb.shape, \"D_comb shape\",  D_comb.shape)\n",
    "        if lapnorm:\n",
    "            try:\n",
    "                eigenvalues, eigenvectors = eigsh(D_comb - W_comb, k=K, sigma=0, which='LM', M=D_comb)\n",
    "            except:\n",
    "                eigenvalues, eigenvectors = eigsh(D_comb - W_comb, k=K, which='SM', M=D_comb)\n",
    "        else:\n",
    "            try:\n",
    "                eigenvalues, eigenvectors = eigsh(D_comb - W_comb, k=K, sigma=0, which='LM')\n",
    "            except:\n",
    "                eigenvalues, eigenvectors = eigsh(D_comb - W_comb, k=K, which='SM')\n",
    "        eigenvalues, eigenvectors = torch.from_numpy(eigenvalues), torch.from_numpy(eigenvectors.T).float()\n",
    "    print(\"eigenvalues shape\", eigenvalues.shape, \"eigenvectors shape\", eigenvectors.shape)\n",
    "    # Sign ambiguity\n",
    "    for k in range(eigenvectors.shape[0]):\n",
    "        if 0.5 < torch.mean((eigenvectors[k] > 0).float()).item() < 1.0:  # reverse segment\n",
    "            eigenvectors[k] = 0 - eigenvectors[k]\n",
    "\n",
    "    # Save dict\n",
    "    output_dict = {'eigenvalues': eigenvalues, 'eigenvectors': eigenvectors}\n",
    "    torch.save(output_dict, output_file)"
   ]
  }
 ],
 "metadata": {
  "kernelspec": {
   "display_name": "Python 3 (ipykernel)",
   "language": "python",
   "name": "python3"
  },
  "language_info": {
   "codemirror_mode": {
    "name": "ipython",
    "version": 3
   },
   "file_extension": ".py",
   "mimetype": "text/x-python",
   "name": "python",
   "nbconvert_exporter": "python",
   "pygments_lexer": "ipython3",
   "version": "3.8.10"
  }
 },
 "nbformat": 4,
 "nbformat_minor": 1
}
