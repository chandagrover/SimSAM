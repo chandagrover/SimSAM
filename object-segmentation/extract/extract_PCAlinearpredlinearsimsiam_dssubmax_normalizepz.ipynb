{
 "cells": [
  {
   "cell_type": "code",
   "execution_count": 1,
   "metadata": {
    "pycharm": {
     "name": "#%%\n"
    }
   },
   "outputs": [],
   "source": [
    "# from functools import partial\n",
    "from pathlib import Path\n",
    "# from typing import Optional, Tuple\n",
    "# import cv2\n",
    "# import fire\n",
    "import numpy as np\n",
    "import torch\n",
    "import torch.nn.functional as F\n",
    "from accelerate import Accelerator\n",
    "from PIL import Image\n",
    "from scipy.sparse.linalg import eigsh\n",
    "# from sklearn.cluster import KMeans, MiniBatchKMeans\n",
    "from sklearn.decomposition import PCA\n",
    "# from torchvision.utils import draw_bounding_boxes\n",
    "from tqdm import tqdm\n",
    "import extract_utils as utils\n",
    "from torch.utils.data import Dataset, DataLoader\n",
    "from lightly.loss import NegativeCosineSimilarity\n",
    "from lightly.models.modules import SimSiamPredictionHead, SimSiamProjectionHead\n",
    "from torch import nn\n",
    "import torchvision\n",
    "from scipy.ndimage import affine_transform"
   ]
  },
  {
   "cell_type": "markdown",
   "metadata": {
    "pycharm": {
     "name": "#%% md\n"
    }
   },
   "source": [
    "## Extract Eigen Vectors"
   ]
  },
  {
   "cell_type": "code",
   "execution_count": 2,
   "metadata": {
    "pycharm": {
     "name": "#%%\n"
    }
   },
   "outputs": [],
   "source": [
    "images_root=\"/home/phdcs2/Hard_Disk/Datasets/Deep-Spectral-Segmentation/data/object-segmentation/ECSSD/images\"\n",
    "# features_dir=\"/home/phdcs2/Hard_Disk/Datasets/Deep-Spectral-Segmentation/data/object-segmentation/ECSSD_1/features/dino_vits16\"\n",
    "features_dir=\"/home/phdcs2/Hard_Disk/Datasets/Deep-Spectral-Segmentation/data/object-segmentation/ECSSD/features/\"\n",
    "output_dir=\"/home/phdcs2/Hard_Disk/Datasets/Deep-Spectral-Segmentation/data/object-segmentation/ECSSD/eigs_dot1PCA64linearpredlinear_dssubmax_normalizepz\"\n",
    "which_matrix= 'laplacian'\n",
    "which_color_matrix= 'knn'\n",
    "which_features= 'k'\n",
    "normalize=True\n",
    "threshold_at_zero=True\n",
    "lapnorm= True\n",
    "K= 5\n",
    "image_downsample_factor = None\n",
    "image_color_lambda = 0.0\n",
    "multiprocessing = 0\n",
    "batch_size=2\n",
    "epochs=10"
   ]
  },
  {
   "cell_type": "markdown",
   "metadata": {
    "pycharm": {
     "name": "#%% md\n"
    }
   },
   "source": [
    "## Incorporating SimSiam"
   ]
  },
  {
   "cell_type": "code",
   "execution_count": 3,
   "metadata": {
    "pycharm": {
     "name": "#%%\n"
    }
   },
   "outputs": [],
   "source": [
    "# Define a custom dataset class\n",
    "class Feature_Dataset(Dataset):\n",
    "    def __init__(self, features):\n",
    "        self.features = features\n",
    "\n",
    "    def __getitem__(self, index):\n",
    "        return self.features[index]\n",
    "\n",
    "    def __len__(self):\n",
    "        return len(self.features)"
   ]
  },
  {
   "cell_type": "code",
   "execution_count": 4,
   "metadata": {
    "pycharm": {
     "name": "#%%\n"
    }
   },
   "outputs": [],
   "source": [
    "# class SimSiam(nn.Module):\n",
    "#     def __init__(self):\n",
    "#         super().__init__()\n",
    "#         self.projection_head = SimSiamProjectionHead(feats.shape[1], 128,feats.shape[1])\n",
    "#         self.prediction_head = SimSiamPredictionHead(feats.shape[1], 128, feats.shape[1])\n",
    "#\n",
    "#     def forward(self, x):\n",
    "#         z = self.projection_head(x)\n",
    "#         p = self.prediction_head(z)\n",
    "#         z = z.detach()\n",
    "#         return z, p"
   ]
  },
  {
   "cell_type": "code",
   "execution_count": 5,
   "metadata": {
    "pycharm": {
     "name": "#%%\n"
    }
   },
   "outputs": [],
   "source": [
    "# def normalize_affinity_matrix(affinity_matrix, axis=0):\n",
    "#     if axis == 1:\n",
    "#         # Normalize by row-wise sums\n",
    "#         row_sums = torch.sum(affinity_matrix, dim=1, keepdim=True)\n",
    "#         print(row_sums)\n",
    "#         normalized_matrix = affinity_matrix / row_sums\n",
    "#     elif axis == 0:\n",
    "#         # Normalize by column-wise sums\n",
    "#         col_sums = torch.sum(affinity_matrix, dim=0, keepdim=True)\n",
    "#         normalized_matrix = affinity_matrix / col_sums\n",
    "#     else:\n",
    "#         raise ValueError(\"Invalid axis. Axis must be either 0 or 1.\")\n",
    "\n",
    "#     return normalized_matrix"
   ]
  },
  {
   "cell_type": "code",
   "execution_count": null,
   "metadata": {
    "pycharm": {
     "name": "#%%\n",
     "is_executing": true
    }
   },
   "outputs": [
    {
     "name": "stderr",
     "output_type": "stream",
     "text": [
      "  0%|          | 0/999 [00:00<?, ?it/s]"
     ]
    },
    {
     "name": "stdout",
     "output_type": "stream",
     "text": [
      "0 /home/phdcs2/Hard_Disk/Datasets/Deep-Spectral-Segmentation/data/object-segmentation/ECSSD/features/0001_resized.pth\n",
      "dict_keys(['k', 'indices', 'file', 'id', 'model_name', 'patch_size', 'shape'])\n",
      "0001_resized\n",
      "Starting Training\n",
      "epoch: 00, loss: -0.92429\n",
      "epoch: 01, loss: -0.95405\n",
      "epoch: 02, loss: -0.96123\n",
      "epoch: 03, loss: -0.96535\n",
      "epoch: 04, loss: -0.96816\n",
      "epoch: 05, loss: -0.97023\n",
      "epoch: 06, loss: -0.97188\n",
      "epoch: 07, loss: -0.97318\n",
      "epoch: 08, loss: -0.97429\n",
      "epoch: 09, loss: -0.97523\n",
      "torch.Size([1024, 64])\n"
     ]
    },
    {
     "name": "stderr",
     "output_type": "stream",
     "text": [
      "  0%|          | 1/999 [00:48<13:21:29, 48.19s/it]"
     ]
    },
    {
     "name": "stdout",
     "output_type": "stream",
     "text": [
      "eigenvalues shape torch.Size([5]) eigenvectors shape torch.Size([5, 1024])\n",
      "1 /home/phdcs2/Hard_Disk/Datasets/Deep-Spectral-Segmentation/data/object-segmentation/ECSSD/features/0002_resized.pth\n",
      "dict_keys(['k', 'indices', 'file', 'id', 'model_name', 'patch_size', 'shape'])\n",
      "0002_resized\n",
      "Starting Training\n",
      "epoch: 00, loss: -0.90180\n",
      "epoch: 01, loss: -0.94172\n",
      "epoch: 02, loss: -0.95105\n",
      "epoch: 03, loss: -0.95631\n",
      "epoch: 04, loss: -0.95997\n",
      "epoch: 05, loss: -0.96259\n",
      "epoch: 06, loss: -0.96470\n",
      "epoch: 07, loss: -0.96641\n",
      "epoch: 08, loss: -0.96781\n",
      "epoch: 09, loss: -0.96904\n",
      "torch.Size([1024, 64])\n"
     ]
    },
    {
     "name": "stderr",
     "output_type": "stream",
     "text": [
      "  0%|          | 2/999 [01:41<14:06:21, 50.93s/it]"
     ]
    },
    {
     "name": "stdout",
     "output_type": "stream",
     "text": [
      "eigenvalues shape torch.Size([5]) eigenvectors shape torch.Size([5, 1024])\n",
      "2 /home/phdcs2/Hard_Disk/Datasets/Deep-Spectral-Segmentation/data/object-segmentation/ECSSD/features/0003_resized.pth\n",
      "dict_keys(['k', 'indices', 'file', 'id', 'model_name', 'patch_size', 'shape'])\n",
      "0003_resized\n",
      "Starting Training\n",
      "epoch: 00, loss: -0.91768\n",
      "epoch: 01, loss: -0.94898\n",
      "epoch: 02, loss: -0.95661\n",
      "epoch: 03, loss: -0.96100\n",
      "epoch: 04, loss: -0.96418\n",
      "epoch: 05, loss: -0.96637\n",
      "epoch: 06, loss: -0.96820\n",
      "epoch: 07, loss: -0.96966\n",
      "epoch: 08, loss: -0.97087\n",
      "epoch: 09, loss: -0.97191\n",
      "torch.Size([1024, 64])\n"
     ]
    },
    {
     "name": "stderr",
     "output_type": "stream",
     "text": [
      "  0%|          | 3/999 [02:35<14:29:54, 52.40s/it]"
     ]
    },
    {
     "name": "stdout",
     "output_type": "stream",
     "text": [
      "eigenvalues shape torch.Size([5]) eigenvectors shape torch.Size([5, 1024])\n",
      "3 /home/phdcs2/Hard_Disk/Datasets/Deep-Spectral-Segmentation/data/object-segmentation/ECSSD/features/0004_resized.pth\n",
      "dict_keys(['k', 'indices', 'file', 'id', 'model_name', 'patch_size', 'shape'])\n",
      "0004_resized\n",
      "Starting Training\n",
      "epoch: 00, loss: -0.92839\n",
      "epoch: 01, loss: -0.95832\n",
      "epoch: 02, loss: -0.96497\n",
      "epoch: 03, loss: -0.96868\n",
      "epoch: 04, loss: -0.97123\n",
      "epoch: 05, loss: -0.97311\n",
      "epoch: 06, loss: -0.97458\n",
      "epoch: 07, loss: -0.97579\n",
      "epoch: 08, loss: -0.97680\n",
      "epoch: 09, loss: -0.97763\n",
      "torch.Size([1024, 64])\n"
     ]
    },
    {
     "name": "stderr",
     "output_type": "stream",
     "text": [
      "  0%|          | 4/999 [03:33<15:06:49, 54.68s/it]"
     ]
    },
    {
     "name": "stdout",
     "output_type": "stream",
     "text": [
      "eigenvalues shape torch.Size([5]) eigenvectors shape torch.Size([5, 1024])\n",
      "4 /home/phdcs2/Hard_Disk/Datasets/Deep-Spectral-Segmentation/data/object-segmentation/ECSSD/features/0005_resized.pth\n",
      "dict_keys(['k', 'indices', 'file', 'id', 'model_name', 'patch_size', 'shape'])\n",
      "0005_resized\n",
      "Starting Training\n",
      "epoch: 00, loss: -0.90315\n",
      "epoch: 01, loss: -0.93956\n",
      "epoch: 02, loss: -0.94882\n",
      "epoch: 03, loss: -0.95421\n",
      "epoch: 04, loss: -0.95792\n",
      "epoch: 05, loss: -0.96070\n",
      "epoch: 06, loss: -0.96283\n",
      "epoch: 07, loss: -0.96453\n",
      "epoch: 08, loss: -0.96599\n",
      "epoch: 09, loss: -0.96734\n",
      "torch.Size([1024, 64])\n"
     ]
    },
    {
     "name": "stderr",
     "output_type": "stream",
     "text": [
      "  1%|          | 5/999 [04:37<15:59:59, 57.95s/it]"
     ]
    },
    {
     "name": "stdout",
     "output_type": "stream",
     "text": [
      "eigenvalues shape torch.Size([5]) eigenvectors shape torch.Size([5, 1024])\n",
      "5 /home/phdcs2/Hard_Disk/Datasets/Deep-Spectral-Segmentation/data/object-segmentation/ECSSD/features/0006_resized.pth\n",
      "dict_keys(['k', 'indices', 'file', 'id', 'model_name', 'patch_size', 'shape'])\n",
      "0006_resized\n",
      "Starting Training\n",
      "epoch: 00, loss: -0.91424\n",
      "epoch: 01, loss: -0.94886\n",
      "epoch: 02, loss: -0.95717\n",
      "epoch: 03, loss: -0.96182\n",
      "epoch: 04, loss: -0.96500\n",
      "epoch: 05, loss: -0.96736\n",
      "epoch: 06, loss: -0.96916\n",
      "epoch: 07, loss: -0.97068\n",
      "epoch: 08, loss: -0.97191\n",
      "epoch: 09, loss: -0.97300\n",
      "torch.Size([1024, 64])\n"
     ]
    },
    {
     "name": "stderr",
     "output_type": "stream",
     "text": [
      "  1%|          | 6/999 [05:39<16:21:51, 59.33s/it]"
     ]
    },
    {
     "name": "stdout",
     "output_type": "stream",
     "text": [
      "eigenvalues shape torch.Size([5]) eigenvectors shape torch.Size([5, 1024])\n",
      "6 /home/phdcs2/Hard_Disk/Datasets/Deep-Spectral-Segmentation/data/object-segmentation/ECSSD/features/0007_resized.pth\n",
      "dict_keys(['k', 'indices', 'file', 'id', 'model_name', 'patch_size', 'shape'])\n",
      "0007_resized\n",
      "Starting Training\n",
      "epoch: 00, loss: -0.91810\n",
      "epoch: 01, loss: -0.95016\n",
      "epoch: 02, loss: -0.95736\n",
      "epoch: 03, loss: -0.96161\n",
      "epoch: 04, loss: -0.96452\n",
      "epoch: 05, loss: -0.96671\n",
      "epoch: 06, loss: -0.96846\n",
      "epoch: 07, loss: -0.96987\n",
      "epoch: 08, loss: -0.97108\n",
      "epoch: 09, loss: -0.97210\n",
      "torch.Size([1024, 64])\n"
     ]
    },
    {
     "name": "stderr",
     "output_type": "stream",
     "text": [
      "  1%|          | 7/999 [06:32<15:50:27, 57.49s/it]"
     ]
    },
    {
     "name": "stdout",
     "output_type": "stream",
     "text": [
      "eigenvalues shape torch.Size([5]) eigenvectors shape torch.Size([5, 1024])\n",
      "7 /home/phdcs2/Hard_Disk/Datasets/Deep-Spectral-Segmentation/data/object-segmentation/ECSSD/features/0008_resized.pth\n",
      "dict_keys(['k', 'indices', 'file', 'id', 'model_name', 'patch_size', 'shape'])\n",
      "0008_resized\n",
      "Starting Training\n",
      "epoch: 00, loss: -0.90053\n",
      "epoch: 01, loss: -0.94135\n",
      "epoch: 02, loss: -0.95096\n",
      "epoch: 03, loss: -0.95650\n",
      "epoch: 04, loss: -0.96040\n",
      "epoch: 05, loss: -0.96310\n",
      "epoch: 06, loss: -0.96527\n",
      "epoch: 07, loss: -0.96704\n",
      "epoch: 08, loss: -0.96849\n",
      "epoch: 09, loss: -0.96971\n",
      "torch.Size([1024, 64])\n"
     ]
    },
    {
     "name": "stderr",
     "output_type": "stream",
     "text": [
      "  1%|          | 8/999 [07:19<14:53:41, 54.11s/it]"
     ]
    },
    {
     "name": "stdout",
     "output_type": "stream",
     "text": [
      "eigenvalues shape torch.Size([5]) eigenvectors shape torch.Size([5, 1024])\n",
      "8 /home/phdcs2/Hard_Disk/Datasets/Deep-Spectral-Segmentation/data/object-segmentation/ECSSD/features/0009_resized.pth\n",
      "dict_keys(['k', 'indices', 'file', 'id', 'model_name', 'patch_size', 'shape'])\n",
      "0009_resized\n",
      "Starting Training\n",
      "epoch: 00, loss: -0.89770\n",
      "epoch: 01, loss: -0.93671\n",
      "epoch: 02, loss: -0.94660\n",
      "epoch: 03, loss: -0.95231\n",
      "epoch: 04, loss: -0.95635\n",
      "epoch: 05, loss: -0.95928\n",
      "epoch: 06, loss: -0.96161\n",
      "epoch: 07, loss: -0.96349\n",
      "epoch: 08, loss: -0.96509\n",
      "epoch: 09, loss: -0.96642\n",
      "torch.Size([1024, 64])\n"
     ]
    },
    {
     "name": "stderr",
     "output_type": "stream",
     "text": [
      "  1%|          | 9/999 [08:08<14:26:18, 52.50s/it]"
     ]
    },
    {
     "name": "stdout",
     "output_type": "stream",
     "text": [
      "eigenvalues shape torch.Size([5]) eigenvectors shape torch.Size([5, 1024])\n",
      "9 /home/phdcs2/Hard_Disk/Datasets/Deep-Spectral-Segmentation/data/object-segmentation/ECSSD/features/0010_resized.pth\n",
      "dict_keys(['k', 'indices', 'file', 'id', 'model_name', 'patch_size', 'shape'])\n",
      "0010_resized\n",
      "Starting Training\n",
      "epoch: 00, loss: -0.92890\n",
      "epoch: 01, loss: -0.95722\n",
      "epoch: 02, loss: -0.96347\n",
      "epoch: 03, loss: -0.96710\n",
      "epoch: 04, loss: -0.96961\n",
      "epoch: 05, loss: -0.97148\n",
      "epoch: 06, loss: -0.97297\n",
      "epoch: 07, loss: -0.97418\n",
      "epoch: 08, loss: -0.97518\n",
      "epoch: 09, loss: -0.97608\n",
      "torch.Size([1024, 64])\n"
     ]
    },
    {
     "name": "stderr",
     "output_type": "stream",
     "text": [
      "  1%|          | 10/999 [09:03<14:34:55, 53.08s/it]"
     ]
    },
    {
     "name": "stdout",
     "output_type": "stream",
     "text": [
      "eigenvalues shape torch.Size([5]) eigenvectors shape torch.Size([5, 1024])\n",
      "10 /home/phdcs2/Hard_Disk/Datasets/Deep-Spectral-Segmentation/data/object-segmentation/ECSSD/features/0011_resized.pth\n",
      "dict_keys(['k', 'indices', 'file', 'id', 'model_name', 'patch_size', 'shape'])\n",
      "0011_resized\n",
      "Starting Training\n",
      "epoch: 00, loss: -0.91953\n",
      "epoch: 01, loss: -0.95112\n",
      "epoch: 02, loss: -0.95855\n",
      "epoch: 03, loss: -0.96283\n",
      "epoch: 04, loss: -0.96579\n",
      "epoch: 05, loss: -0.96797\n",
      "epoch: 06, loss: -0.96971\n",
      "epoch: 07, loss: -0.97108\n",
      "epoch: 08, loss: -0.97228\n",
      "epoch: 09, loss: -0.97325\n",
      "torch.Size([1024, 64])\n"
     ]
    },
    {
     "name": "stderr",
     "output_type": "stream",
     "text": [
      "  1%|          | 11/999 [09:52<14:16:27, 52.01s/it]"
     ]
    },
    {
     "name": "stdout",
     "output_type": "stream",
     "text": [
      "eigenvalues shape torch.Size([5]) eigenvectors shape torch.Size([5, 1024])\n",
      "11 /home/phdcs2/Hard_Disk/Datasets/Deep-Spectral-Segmentation/data/object-segmentation/ECSSD/features/0012_resized.pth\n",
      "dict_keys(['k', 'indices', 'file', 'id', 'model_name', 'patch_size', 'shape'])\n",
      "0012_resized\n",
      "Starting Training\n",
      "epoch: 00, loss: -0.93893\n",
      "epoch: 01, loss: -0.96649\n",
      "epoch: 02, loss: -0.97190\n",
      "epoch: 03, loss: -0.97501\n",
      "epoch: 04, loss: -0.97708\n",
      "epoch: 05, loss: -0.97862\n",
      "epoch: 06, loss: -0.97982\n",
      "epoch: 07, loss: -0.98081\n",
      "epoch: 08, loss: -0.98163\n",
      "epoch: 09, loss: -0.98232\n",
      "torch.Size([1024, 64])\n"
     ]
    },
    {
     "name": "stderr",
     "output_type": "stream",
     "text": [
      "  1%|          | 12/999 [10:41<13:58:03, 50.95s/it]"
     ]
    },
    {
     "name": "stdout",
     "output_type": "stream",
     "text": [
      "eigenvalues shape torch.Size([5]) eigenvectors shape torch.Size([5, 1024])\n",
      "12 /home/phdcs2/Hard_Disk/Datasets/Deep-Spectral-Segmentation/data/object-segmentation/ECSSD/features/0013_resized.pth\n",
      "dict_keys(['k', 'indices', 'file', 'id', 'model_name', 'patch_size', 'shape'])\n",
      "0013_resized\n",
      "Starting Training\n",
      "epoch: 00, loss: -0.89941\n",
      "epoch: 01, loss: -0.93902\n",
      "epoch: 02, loss: -0.94866\n",
      "epoch: 03, loss: -0.95409\n",
      "epoch: 04, loss: -0.95782\n",
      "epoch: 05, loss: -0.96059\n",
      "epoch: 06, loss: -0.96277\n",
      "epoch: 07, loss: -0.96450\n",
      "epoch: 08, loss: -0.96594\n",
      "epoch: 09, loss: -0.96725\n",
      "torch.Size([1024, 64])\n"
     ]
    },
    {
     "name": "stderr",
     "output_type": "stream",
     "text": [
      "  1%|▏         | 13/999 [11:32<13:58:23, 51.02s/it]"
     ]
    },
    {
     "name": "stdout",
     "output_type": "stream",
     "text": [
      "eigenvalues shape torch.Size([5]) eigenvectors shape torch.Size([5, 1024])\n",
      "13 /home/phdcs2/Hard_Disk/Datasets/Deep-Spectral-Segmentation/data/object-segmentation/ECSSD/features/0014_resized.pth\n",
      "dict_keys(['k', 'indices', 'file', 'id', 'model_name', 'patch_size', 'shape'])\n",
      "0014_resized\n",
      "Starting Training\n",
      "epoch: 00, loss: -0.91980\n",
      "epoch: 01, loss: -0.95141\n",
      "epoch: 02, loss: -0.95894\n",
      "epoch: 03, loss: -0.96333\n",
      "epoch: 04, loss: -0.96629\n",
      "epoch: 05, loss: -0.96846\n",
      "epoch: 06, loss: -0.97018\n",
      "epoch: 07, loss: -0.97158\n",
      "epoch: 08, loss: -0.97275\n",
      "epoch: 09, loss: -0.97374\n",
      "torch.Size([1024, 64])\n"
     ]
    },
    {
     "name": "stderr",
     "output_type": "stream",
     "text": [
      "  1%|▏         | 14/999 [12:19<13:40:49, 50.00s/it]"
     ]
    },
    {
     "name": "stdout",
     "output_type": "stream",
     "text": [
      "eigenvalues shape torch.Size([5]) eigenvectors shape torch.Size([5, 1024])\n",
      "14 /home/phdcs2/Hard_Disk/Datasets/Deep-Spectral-Segmentation/data/object-segmentation/ECSSD/features/0015_resized.pth\n",
      "dict_keys(['k', 'indices', 'file', 'id', 'model_name', 'patch_size', 'shape'])\n",
      "0015_resized\n",
      "Starting Training\n",
      "epoch: 00, loss: -0.90907\n",
      "epoch: 01, loss: -0.94635\n",
      "epoch: 02, loss: -0.95532\n",
      "epoch: 03, loss: -0.96035\n",
      "epoch: 04, loss: -0.96384\n",
      "epoch: 05, loss: -0.96623\n",
      "epoch: 06, loss: -0.96816\n",
      "epoch: 07, loss: -0.96973\n",
      "epoch: 08, loss: -0.97105\n",
      "epoch: 09, loss: -0.97218\n",
      "torch.Size([1024, 64])\n"
     ]
    },
    {
     "name": "stderr",
     "output_type": "stream",
     "text": [
      "  2%|▏         | 15/999 [13:06<13:20:34, 48.82s/it]"
     ]
    },
    {
     "name": "stdout",
     "output_type": "stream",
     "text": [
      "eigenvalues shape torch.Size([5]) eigenvectors shape torch.Size([5, 1024])\n",
      "15 /home/phdcs2/Hard_Disk/Datasets/Deep-Spectral-Segmentation/data/object-segmentation/ECSSD/features/0016_resized.pth\n",
      "dict_keys(['k', 'indices', 'file', 'id', 'model_name', 'patch_size', 'shape'])\n",
      "0016_resized\n",
      "Starting Training\n",
      "epoch: 00, loss: -0.91355\n",
      "epoch: 01, loss: -0.94966\n",
      "epoch: 02, loss: -0.95770\n",
      "epoch: 03, loss: -0.96236\n",
      "epoch: 04, loss: -0.96553\n",
      "epoch: 05, loss: -0.96788\n",
      "epoch: 06, loss: -0.96971\n",
      "epoch: 07, loss: -0.97119\n",
      "epoch: 08, loss: -0.97242\n",
      "epoch: 09, loss: -0.97348\n",
      "torch.Size([1024, 64])\n"
     ]
    },
    {
     "name": "stderr",
     "output_type": "stream",
     "text": [
      "  2%|▏         | 16/999 [14:06<14:19:10, 52.44s/it]"
     ]
    },
    {
     "name": "stdout",
     "output_type": "stream",
     "text": [
      "eigenvalues shape torch.Size([5]) eigenvectors shape torch.Size([5, 1024])\n",
      "16 /home/phdcs2/Hard_Disk/Datasets/Deep-Spectral-Segmentation/data/object-segmentation/ECSSD/features/0017_resized.pth\n",
      "dict_keys(['k', 'indices', 'file', 'id', 'model_name', 'patch_size', 'shape'])\n",
      "0017_resized\n",
      "Starting Training\n",
      "epoch: 00, loss: -0.92875\n",
      "epoch: 01, loss: -0.95797\n",
      "epoch: 02, loss: -0.96425\n",
      "epoch: 03, loss: -0.96785\n",
      "epoch: 04, loss: -0.97033\n",
      "epoch: 05, loss: -0.97217\n",
      "epoch: 06, loss: -0.97365\n",
      "epoch: 07, loss: -0.97481\n",
      "epoch: 08, loss: -0.97585\n",
      "epoch: 09, loss: -0.97667\n",
      "torch.Size([1024, 64])\n"
     ]
    },
    {
     "name": "stderr",
     "output_type": "stream",
     "text": [
      "  2%|▏         | 17/999 [15:01<14:29:12, 53.11s/it]"
     ]
    },
    {
     "name": "stdout",
     "output_type": "stream",
     "text": [
      "eigenvalues shape torch.Size([5]) eigenvectors shape torch.Size([5, 1024])\n",
      "17 /home/phdcs2/Hard_Disk/Datasets/Deep-Spectral-Segmentation/data/object-segmentation/ECSSD/features/0018_resized.pth\n",
      "dict_keys(['k', 'indices', 'file', 'id', 'model_name', 'patch_size', 'shape'])\n",
      "0018_resized\n",
      "Starting Training\n",
      "epoch: 00, loss: -0.92962\n",
      "epoch: 01, loss: -0.96099\n",
      "epoch: 02, loss: -0.96697\n",
      "epoch: 03, loss: -0.97038\n",
      "epoch: 04, loss: -0.97269\n",
      "epoch: 05, loss: -0.97444\n",
      "epoch: 06, loss: -0.97580\n",
      "epoch: 07, loss: -0.97691\n",
      "epoch: 08, loss: -0.97785\n",
      "epoch: 09, loss: -0.97863\n",
      "torch.Size([1024, 64])\n"
     ]
    },
    {
     "name": "stderr",
     "output_type": "stream",
     "text": [
      "  2%|▏         | 18/999 [15:54<14:27:37, 53.07s/it]"
     ]
    },
    {
     "name": "stdout",
     "output_type": "stream",
     "text": [
      "eigenvalues shape torch.Size([5]) eigenvectors shape torch.Size([5, 1024])\n",
      "18 /home/phdcs2/Hard_Disk/Datasets/Deep-Spectral-Segmentation/data/object-segmentation/ECSSD/features/0019_resized.pth\n",
      "dict_keys(['k', 'indices', 'file', 'id', 'model_name', 'patch_size', 'shape'])\n",
      "0019_resized\n",
      "Starting Training\n",
      "epoch: 00, loss: -0.91154\n",
      "epoch: 01, loss: -0.94701\n",
      "epoch: 02, loss: -0.95584\n",
      "epoch: 03, loss: -0.96090\n",
      "epoch: 04, loss: -0.96433\n",
      "epoch: 05, loss: -0.96687\n",
      "epoch: 06, loss: -0.96885\n",
      "epoch: 07, loss: -0.97047\n",
      "epoch: 08, loss: -0.97181\n",
      "epoch: 09, loss: -0.97294\n",
      "torch.Size([1024, 64])\n"
     ]
    },
    {
     "name": "stderr",
     "output_type": "stream",
     "text": [
      "  2%|▏         | 19/999 [16:46<14:23:40, 52.88s/it]"
     ]
    },
    {
     "name": "stdout",
     "output_type": "stream",
     "text": [
      "eigenvalues shape torch.Size([5]) eigenvectors shape torch.Size([5, 1024])\n",
      "19 /home/phdcs2/Hard_Disk/Datasets/Deep-Spectral-Segmentation/data/object-segmentation/ECSSD/features/0020_resized.pth\n",
      "dict_keys(['k', 'indices', 'file', 'id', 'model_name', 'patch_size', 'shape'])\n",
      "0020_resized\n",
      "Starting Training\n",
      "epoch: 00, loss: -0.92126\n",
      "epoch: 01, loss: -0.94849\n",
      "epoch: 02, loss: -0.95580\n",
      "epoch: 03, loss: -0.96017\n",
      "epoch: 04, loss: -0.96319\n",
      "epoch: 05, loss: -0.96545\n",
      "epoch: 06, loss: -0.96726\n",
      "epoch: 07, loss: -0.96875\n",
      "epoch: 08, loss: -0.96997\n",
      "epoch: 09, loss: -0.97104\n",
      "torch.Size([1024, 64])\n"
     ]
    },
    {
     "name": "stderr",
     "output_type": "stream",
     "text": [
      "  2%|▏         | 20/999 [17:35<14:01:03, 51.55s/it]"
     ]
    },
    {
     "name": "stdout",
     "output_type": "stream",
     "text": [
      "eigenvalues shape torch.Size([5]) eigenvectors shape torch.Size([5, 1024])\n",
      "20 /home/phdcs2/Hard_Disk/Datasets/Deep-Spectral-Segmentation/data/object-segmentation/ECSSD/features/0021_resized.pth\n",
      "dict_keys(['k', 'indices', 'file', 'id', 'model_name', 'patch_size', 'shape'])\n",
      "0021_resized\n",
      "Starting Training\n",
      "epoch: 00, loss: -0.88997\n",
      "epoch: 01, loss: -0.93618\n",
      "epoch: 02, loss: -0.94691\n",
      "epoch: 03, loss: -0.95273\n",
      "epoch: 04, loss: -0.95681\n",
      "epoch: 05, loss: -0.95974\n",
      "epoch: 06, loss: -0.96206\n",
      "epoch: 07, loss: -0.96374\n",
      "epoch: 08, loss: -0.96528\n",
      "epoch: 09, loss: -0.96645\n",
      "torch.Size([1024, 64])\n"
     ]
    },
    {
     "name": "stderr",
     "output_type": "stream",
     "text": [
      "  2%|▏         | 21/999 [18:29<14:14:15, 52.41s/it]"
     ]
    },
    {
     "name": "stdout",
     "output_type": "stream",
     "text": [
      "eigenvalues shape torch.Size([5]) eigenvectors shape torch.Size([5, 1024])\n",
      "21 /home/phdcs2/Hard_Disk/Datasets/Deep-Spectral-Segmentation/data/object-segmentation/ECSSD/features/0022_resized.pth\n",
      "dict_keys(['k', 'indices', 'file', 'id', 'model_name', 'patch_size', 'shape'])\n",
      "0022_resized\n",
      "Starting Training\n",
      "epoch: 00, loss: -0.92331\n",
      "epoch: 01, loss: -0.95532\n",
      "epoch: 02, loss: -0.96216\n",
      "epoch: 03, loss: -0.96612\n",
      "epoch: 04, loss: -0.96885\n",
      "epoch: 05, loss: -0.97087\n",
      "epoch: 06, loss: -0.97244\n",
      "epoch: 07, loss: -0.97372\n",
      "epoch: 08, loss: -0.97479\n",
      "epoch: 09, loss: -0.97572\n",
      "torch.Size([1024, 64])\n"
     ]
    },
    {
     "name": "stderr",
     "output_type": "stream",
     "text": [
      "  2%|▏         | 22/999 [19:25<14:29:02, 53.37s/it]"
     ]
    },
    {
     "name": "stdout",
     "output_type": "stream",
     "text": [
      "eigenvalues shape torch.Size([5]) eigenvectors shape torch.Size([5, 1024])\n",
      "22 /home/phdcs2/Hard_Disk/Datasets/Deep-Spectral-Segmentation/data/object-segmentation/ECSSD/features/0024_resized.pth\n",
      "dict_keys(['k', 'indices', 'file', 'id', 'model_name', 'patch_size', 'shape'])\n",
      "0024_resized\n",
      "Starting Training\n",
      "epoch: 00, loss: -0.91742\n",
      "epoch: 01, loss: -0.95126\n",
      "epoch: 02, loss: -0.95875\n",
      "epoch: 03, loss: -0.96314\n",
      "epoch: 04, loss: -0.96607\n",
      "epoch: 05, loss: -0.96825\n",
      "epoch: 06, loss: -0.97000\n",
      "epoch: 07, loss: -0.97143\n",
      "epoch: 08, loss: -0.97260\n",
      "epoch: 09, loss: -0.97360\n",
      "torch.Size([1024, 64])\n"
     ]
    },
    {
     "name": "stderr",
     "output_type": "stream",
     "text": [
      "  2%|▏         | 23/999 [20:18<14:27:02, 53.30s/it]"
     ]
    },
    {
     "name": "stdout",
     "output_type": "stream",
     "text": [
      "eigenvalues shape torch.Size([5]) eigenvectors shape torch.Size([5, 1024])\n",
      "23 /home/phdcs2/Hard_Disk/Datasets/Deep-Spectral-Segmentation/data/object-segmentation/ECSSD/features/0025_resized.pth\n",
      "dict_keys(['k', 'indices', 'file', 'id', 'model_name', 'patch_size', 'shape'])\n",
      "0025_resized\n",
      "Starting Training\n",
      "epoch: 00, loss: -0.92152\n",
      "epoch: 01, loss: -0.95250\n",
      "epoch: 02, loss: -0.96003\n",
      "epoch: 03, loss: -0.96450\n",
      "epoch: 04, loss: -0.96750\n",
      "epoch: 05, loss: -0.96976\n",
      "epoch: 06, loss: -0.97153\n",
      "epoch: 07, loss: -0.97299\n",
      "epoch: 08, loss: -0.97418\n",
      "epoch: 09, loss: -0.97521\n",
      "torch.Size([1024, 64])\n"
     ]
    },
    {
     "name": "stderr",
     "output_type": "stream",
     "text": [
      "  2%|▏         | 24/999 [21:13<14:32:14, 53.68s/it]"
     ]
    },
    {
     "name": "stdout",
     "output_type": "stream",
     "text": [
      "eigenvalues shape torch.Size([5]) eigenvectors shape torch.Size([5, 1024])\n",
      "24 /home/phdcs2/Hard_Disk/Datasets/Deep-Spectral-Segmentation/data/object-segmentation/ECSSD/features/0026_resized.pth\n",
      "dict_keys(['k', 'indices', 'file', 'id', 'model_name', 'patch_size', 'shape'])\n",
      "0026_resized\n",
      "Starting Training\n",
      "epoch: 00, loss: -0.92516\n",
      "epoch: 01, loss: -0.95340\n",
      "epoch: 02, loss: -0.96003\n",
      "epoch: 03, loss: -0.96394\n",
      "epoch: 04, loss: -0.96663\n",
      "epoch: 05, loss: -0.96865\n",
      "epoch: 06, loss: -0.97021\n",
      "epoch: 07, loss: -0.97149\n",
      "epoch: 08, loss: -0.97261\n",
      "epoch: 09, loss: -0.97353\n",
      "torch.Size([1024, 64])\n"
     ]
    },
    {
     "name": "stderr",
     "output_type": "stream",
     "text": [
      "  3%|▎         | 25/999 [22:10<14:47:59, 54.70s/it]"
     ]
    },
    {
     "name": "stdout",
     "output_type": "stream",
     "text": [
      "eigenvalues shape torch.Size([5]) eigenvectors shape torch.Size([5, 1024])\n",
      "25 /home/phdcs2/Hard_Disk/Datasets/Deep-Spectral-Segmentation/data/object-segmentation/ECSSD/features/0027_resized.pth\n",
      "dict_keys(['k', 'indices', 'file', 'id', 'model_name', 'patch_size', 'shape'])\n",
      "0027_resized\n",
      "Starting Training\n",
      "epoch: 00, loss: -0.92859\n",
      "epoch: 01, loss: -0.95613\n",
      "epoch: 02, loss: -0.96253\n",
      "epoch: 03, loss: -0.96620\n",
      "epoch: 04, loss: -0.96870\n",
      "epoch: 05, loss: -0.97062\n",
      "epoch: 06, loss: -0.97211\n",
      "epoch: 07, loss: -0.97336\n",
      "epoch: 08, loss: -0.97440\n",
      "epoch: 09, loss: -0.97526\n",
      "torch.Size([1024, 64])\n"
     ]
    },
    {
     "name": "stderr",
     "output_type": "stream",
     "text": [
      "  3%|▎         | 26/999 [23:03<14:41:42, 54.37s/it]"
     ]
    },
    {
     "name": "stdout",
     "output_type": "stream",
     "text": [
      "eigenvalues shape torch.Size([5]) eigenvectors shape torch.Size([5, 1024])\n",
      "26 /home/phdcs2/Hard_Disk/Datasets/Deep-Spectral-Segmentation/data/object-segmentation/ECSSD/features/0028_resized.pth\n",
      "dict_keys(['k', 'indices', 'file', 'id', 'model_name', 'patch_size', 'shape'])\n",
      "0028_resized\n",
      "Starting Training\n",
      "epoch: 00, loss: -0.92984\n",
      "epoch: 01, loss: -0.95814\n",
      "epoch: 02, loss: -0.96480\n",
      "epoch: 03, loss: -0.96866\n",
      "epoch: 04, loss: -0.97125\n",
      "epoch: 05, loss: -0.97319\n",
      "epoch: 06, loss: -0.97471\n",
      "epoch: 07, loss: -0.97594\n",
      "epoch: 08, loss: -0.97696\n",
      "epoch: 09, loss: -0.97784\n",
      "torch.Size([1024, 64])\n"
     ]
    },
    {
     "name": "stderr",
     "output_type": "stream",
     "text": [
      "  3%|▎         | 27/999 [23:54<14:22:25, 53.24s/it]"
     ]
    },
    {
     "name": "stdout",
     "output_type": "stream",
     "text": [
      "eigenvalues shape torch.Size([5]) eigenvectors shape torch.Size([5, 1024])\n",
      "27 /home/phdcs2/Hard_Disk/Datasets/Deep-Spectral-Segmentation/data/object-segmentation/ECSSD/features/0029_resized.pth\n",
      "dict_keys(['k', 'indices', 'file', 'id', 'model_name', 'patch_size', 'shape'])\n",
      "0029_resized\n",
      "Starting Training\n",
      "epoch: 00, loss: -0.91907\n",
      "epoch: 01, loss: -0.95322\n",
      "epoch: 02, loss: -0.96050\n",
      "epoch: 03, loss: -0.96467\n",
      "epoch: 04, loss: -0.96750\n",
      "epoch: 05, loss: -0.96962\n",
      "epoch: 06, loss: -0.97129\n",
      "epoch: 07, loss: -0.97265\n",
      "epoch: 08, loss: -0.97378\n",
      "epoch: 09, loss: -0.97474\n",
      "torch.Size([1024, 64])\n"
     ]
    },
    {
     "name": "stderr",
     "output_type": "stream",
     "text": [
      "  3%|▎         | 28/999 [24:43<14:00:56, 51.96s/it]"
     ]
    },
    {
     "name": "stdout",
     "output_type": "stream",
     "text": [
      "eigenvalues shape torch.Size([5]) eigenvectors shape torch.Size([5, 1024])\n",
      "28 /home/phdcs2/Hard_Disk/Datasets/Deep-Spectral-Segmentation/data/object-segmentation/ECSSD/features/0030_resized.pth\n",
      "dict_keys(['k', 'indices', 'file', 'id', 'model_name', 'patch_size', 'shape'])\n",
      "0030_resized\n",
      "Starting Training\n",
      "epoch: 00, loss: -0.91726\n",
      "epoch: 01, loss: -0.95116\n",
      "epoch: 02, loss: -0.95875\n",
      "epoch: 03, loss: -0.96305\n",
      "epoch: 04, loss: -0.96597\n",
      "epoch: 05, loss: -0.96816\n",
      "epoch: 06, loss: -0.96985\n",
      "epoch: 07, loss: -0.97125\n",
      "epoch: 08, loss: -0.97243\n",
      "epoch: 09, loss: -0.97343\n",
      "torch.Size([1024, 64])\n"
     ]
    },
    {
     "name": "stderr",
     "output_type": "stream",
     "text": [
      "  3%|▎         | 29/999 [25:36<14:04:58, 52.27s/it]"
     ]
    },
    {
     "name": "stdout",
     "output_type": "stream",
     "text": [
      "eigenvalues shape torch.Size([5]) eigenvectors shape torch.Size([5, 1024])\n",
      "29 /home/phdcs2/Hard_Disk/Datasets/Deep-Spectral-Segmentation/data/object-segmentation/ECSSD/features/0031_resized.pth\n",
      "dict_keys(['k', 'indices', 'file', 'id', 'model_name', 'patch_size', 'shape'])\n",
      "0031_resized\n",
      "Starting Training\n",
      "epoch: 00, loss: -0.90908\n",
      "epoch: 01, loss: -0.94801\n",
      "epoch: 02, loss: -0.95688\n",
      "epoch: 03, loss: -0.96173\n",
      "epoch: 04, loss: -0.96504\n",
      "epoch: 05, loss: -0.96759\n",
      "epoch: 06, loss: -0.96950\n",
      "epoch: 07, loss: -0.97101\n",
      "epoch: 08, loss: -0.97233\n",
      "epoch: 09, loss: -0.97342\n",
      "torch.Size([1024, 64])\n"
     ]
    },
    {
     "name": "stderr",
     "output_type": "stream",
     "text": [
      "  3%|▎         | 30/999 [26:25<13:46:37, 51.18s/it]"
     ]
    },
    {
     "name": "stdout",
     "output_type": "stream",
     "text": [
      "eigenvalues shape torch.Size([5]) eigenvectors shape torch.Size([5, 1024])\n",
      "30 /home/phdcs2/Hard_Disk/Datasets/Deep-Spectral-Segmentation/data/object-segmentation/ECSSD/features/0032_resized.pth\n",
      "dict_keys(['k', 'indices', 'file', 'id', 'model_name', 'patch_size', 'shape'])\n",
      "0032_resized\n",
      "Starting Training\n",
      "epoch: 00, loss: -0.92564\n",
      "epoch: 01, loss: -0.95734\n",
      "epoch: 02, loss: -0.96412\n",
      "epoch: 03, loss: -0.96799\n",
      "epoch: 04, loss: -0.97062\n",
      "epoch: 05, loss: -0.97257\n",
      "epoch: 06, loss: -0.97409\n",
      "epoch: 07, loss: -0.97532\n",
      "epoch: 08, loss: -0.97636\n",
      "epoch: 09, loss: -0.97723\n",
      "torch.Size([1024, 64])\n",
      "eigenvalues shape torch.Size([5]) eigenvectors shape torch.Size([5, 1024])\n"
     ]
    },
    {
     "name": "stderr",
     "output_type": "stream",
     "text": [
      "  3%|▎         | 31/999 [27:27<14:41:07, 54.61s/it]"
     ]
    },
    {
     "name": "stdout",
     "output_type": "stream",
     "text": [
      "31 /home/phdcs2/Hard_Disk/Datasets/Deep-Spectral-Segmentation/data/object-segmentation/ECSSD/features/0033_resized.pth\n",
      "dict_keys(['k', 'indices', 'file', 'id', 'model_name', 'patch_size', 'shape'])\n",
      "0033_resized\n",
      "Starting Training\n",
      "epoch: 00, loss: -0.90922\n",
      "epoch: 01, loss: -0.94301\n",
      "epoch: 02, loss: -0.95227\n",
      "epoch: 03, loss: -0.95766\n",
      "epoch: 04, loss: -0.96138\n",
      "epoch: 05, loss: -0.96413\n",
      "epoch: 06, loss: -0.96625\n",
      "epoch: 07, loss: -0.96799\n",
      "epoch: 08, loss: -0.96945\n",
      "epoch: 09, loss: -0.97069\n",
      "torch.Size([1024, 64])\n"
     ]
    },
    {
     "name": "stderr",
     "output_type": "stream",
     "text": [
      "  3%|▎         | 32/999 [28:19<14:25:56, 53.73s/it]"
     ]
    },
    {
     "name": "stdout",
     "output_type": "stream",
     "text": [
      "eigenvalues shape torch.Size([5]) eigenvectors shape torch.Size([5, 1024])\n",
      "32 /home/phdcs2/Hard_Disk/Datasets/Deep-Spectral-Segmentation/data/object-segmentation/ECSSD/features/0034_resized.pth\n",
      "dict_keys(['k', 'indices', 'file', 'id', 'model_name', 'patch_size', 'shape'])\n",
      "0034_resized\n",
      "Starting Training\n",
      "epoch: 00, loss: -0.92991\n",
      "epoch: 01, loss: -0.95839\n",
      "epoch: 02, loss: -0.96512\n",
      "epoch: 03, loss: -0.96896\n",
      "epoch: 04, loss: -0.97158\n",
      "epoch: 05, loss: -0.97351\n",
      "epoch: 06, loss: -0.97501\n",
      "epoch: 07, loss: -0.97623\n",
      "epoch: 08, loss: -0.97725\n",
      "epoch: 09, loss: -0.97811\n",
      "torch.Size([1024, 64])\n"
     ]
    },
    {
     "name": "stderr",
     "output_type": "stream",
     "text": [
      "  3%|▎         | 33/999 [29:05<13:46:16, 51.32s/it]"
     ]
    },
    {
     "name": "stdout",
     "output_type": "stream",
     "text": [
      "eigenvalues shape torch.Size([5]) eigenvectors shape torch.Size([5, 1024])\n",
      "33 /home/phdcs2/Hard_Disk/Datasets/Deep-Spectral-Segmentation/data/object-segmentation/ECSSD/features/0035_resized.pth\n",
      "dict_keys(['k', 'indices', 'file', 'id', 'model_name', 'patch_size', 'shape'])\n",
      "0035_resized\n",
      "Starting Training\n",
      "epoch: 00, loss: -0.89877\n",
      "epoch: 01, loss: -0.93686\n",
      "epoch: 02, loss: -0.94610\n",
      "epoch: 03, loss: -0.95151\n",
      "epoch: 04, loss: -0.95520\n",
      "epoch: 05, loss: -0.95802\n",
      "epoch: 06, loss: -0.96016\n",
      "epoch: 07, loss: -0.96197\n",
      "epoch: 08, loss: -0.96350\n",
      "epoch: 09, loss: -0.96479\n",
      "torch.Size([1024, 64])\n"
     ]
    },
    {
     "name": "stderr",
     "output_type": "stream",
     "text": [
      "  3%|▎         | 34/999 [29:49<13:14:29, 49.40s/it]"
     ]
    },
    {
     "name": "stdout",
     "output_type": "stream",
     "text": [
      "eigenvalues shape torch.Size([5]) eigenvectors shape torch.Size([5, 1024])\n",
      "34 /home/phdcs2/Hard_Disk/Datasets/Deep-Spectral-Segmentation/data/object-segmentation/ECSSD/features/0036_resized.pth\n",
      "dict_keys(['k', 'indices', 'file', 'id', 'model_name', 'patch_size', 'shape'])\n",
      "0036_resized\n",
      "Starting Training\n",
      "epoch: 00, loss: -0.88687\n",
      "epoch: 01, loss: -0.93275\n",
      "epoch: 02, loss: -0.94413\n",
      "epoch: 03, loss: -0.95047\n",
      "epoch: 04, loss: -0.95480\n",
      "epoch: 05, loss: -0.95811\n",
      "epoch: 06, loss: -0.96051\n",
      "epoch: 07, loss: -0.96260\n",
      "epoch: 08, loss: -0.96425\n",
      "epoch: 09, loss: -0.96567\n",
      "torch.Size([1024, 64])\n"
     ]
    },
    {
     "name": "stderr",
     "output_type": "stream",
     "text": [
      "  4%|▎         | 35/999 [30:33<12:47:01, 47.74s/it]"
     ]
    },
    {
     "name": "stdout",
     "output_type": "stream",
     "text": [
      "eigenvalues shape torch.Size([5]) eigenvectors shape torch.Size([5, 1024])\n",
      "35 /home/phdcs2/Hard_Disk/Datasets/Deep-Spectral-Segmentation/data/object-segmentation/ECSSD/features/0037_resized.pth\n",
      "dict_keys(['k', 'indices', 'file', 'id', 'model_name', 'patch_size', 'shape'])\n",
      "0037_resized\n",
      "Starting Training\n",
      "epoch: 00, loss: -0.88635\n",
      "epoch: 01, loss: -0.93387\n",
      "epoch: 02, loss: -0.94495\n",
      "epoch: 03, loss: -0.95119\n",
      "epoch: 04, loss: -0.95546\n",
      "epoch: 05, loss: -0.95869\n",
      "epoch: 06, loss: -0.96114\n",
      "epoch: 07, loss: -0.96309\n",
      "epoch: 08, loss: -0.96479\n",
      "epoch: 09, loss: -0.96619\n",
      "torch.Size([1024, 64])\n"
     ]
    },
    {
     "name": "stderr",
     "output_type": "stream",
     "text": [
      "  4%|▎         | 36/999 [31:21<12:46:23, 47.75s/it]"
     ]
    },
    {
     "name": "stdout",
     "output_type": "stream",
     "text": [
      "eigenvalues shape torch.Size([5]) eigenvectors shape torch.Size([5, 1024])\n",
      "36 /home/phdcs2/Hard_Disk/Datasets/Deep-Spectral-Segmentation/data/object-segmentation/ECSSD/features/0038_resized.pth\n",
      "dict_keys(['k', 'indices', 'file', 'id', 'model_name', 'patch_size', 'shape'])\n",
      "0038_resized\n",
      "Starting Training\n",
      "epoch: 00, loss: -0.86179\n",
      "epoch: 01, loss: -0.91772\n",
      "epoch: 02, loss: -0.93216\n",
      "epoch: 03, loss: -0.94043\n",
      "epoch: 04, loss: -0.94585\n",
      "epoch: 05, loss: -0.94987\n",
      "epoch: 06, loss: -0.95271\n",
      "epoch: 07, loss: -0.95527\n",
      "epoch: 08, loss: -0.95725\n",
      "epoch: 09, loss: -0.95890\n",
      "torch.Size([1024, 64])\n"
     ]
    },
    {
     "name": "stderr",
     "output_type": "stream",
     "text": [
      "  4%|▎         | 37/999 [32:07<12:36:16, 47.17s/it]"
     ]
    },
    {
     "name": "stdout",
     "output_type": "stream",
     "text": [
      "eigenvalues shape torch.Size([5]) eigenvectors shape torch.Size([5, 1024])\n",
      "37 /home/phdcs2/Hard_Disk/Datasets/Deep-Spectral-Segmentation/data/object-segmentation/ECSSD/features/0039_resized.pth\n",
      "dict_keys(['k', 'indices', 'file', 'id', 'model_name', 'patch_size', 'shape'])\n",
      "0039_resized\n",
      "Starting Training\n",
      "epoch: 00, loss: -0.93466\n",
      "epoch: 01, loss: -0.96104\n",
      "epoch: 02, loss: -0.96698\n",
      "epoch: 03, loss: -0.97038\n",
      "epoch: 04, loss: -0.97273\n",
      "epoch: 05, loss: -0.97453\n",
      "epoch: 06, loss: -0.97592\n",
      "epoch: 07, loss: -0.97705\n",
      "epoch: 08, loss: -0.97797\n",
      "epoch: 09, loss: -0.97878\n",
      "torch.Size([1024, 64])\n"
     ]
    },
    {
     "name": "stderr",
     "output_type": "stream",
     "text": [
      "  4%|▍         | 38/999 [32:51<12:23:08, 46.40s/it]"
     ]
    },
    {
     "name": "stdout",
     "output_type": "stream",
     "text": [
      "eigenvalues shape torch.Size([5]) eigenvectors shape torch.Size([5, 1024])\n",
      "38 /home/phdcs2/Hard_Disk/Datasets/Deep-Spectral-Segmentation/data/object-segmentation/ECSSD/features/0040_resized.pth\n",
      "dict_keys(['k', 'indices', 'file', 'id', 'model_name', 'patch_size', 'shape'])\n",
      "0040_resized\n",
      "Starting Training\n",
      "epoch: 00, loss: -0.93039\n",
      "epoch: 01, loss: -0.95868\n",
      "epoch: 02, loss: -0.96481\n",
      "epoch: 03, loss: -0.96836\n",
      "epoch: 04, loss: -0.97079\n",
      "epoch: 05, loss: -0.97266\n",
      "epoch: 06, loss: -0.97405\n",
      "epoch: 07, loss: -0.97522\n",
      "epoch: 08, loss: -0.97623\n",
      "epoch: 09, loss: -0.97705\n",
      "torch.Size([1024, 64])\n"
     ]
    },
    {
     "name": "stderr",
     "output_type": "stream",
     "text": [
      "  4%|▍         | 39/999 [33:35<12:10:33, 45.66s/it]"
     ]
    },
    {
     "name": "stdout",
     "output_type": "stream",
     "text": [
      "eigenvalues shape torch.Size([5]) eigenvectors shape torch.Size([5, 1024])\n",
      "39 /home/phdcs2/Hard_Disk/Datasets/Deep-Spectral-Segmentation/data/object-segmentation/ECSSD/features/0041_resized.pth\n",
      "dict_keys(['k', 'indices', 'file', 'id', 'model_name', 'patch_size', 'shape'])\n",
      "0041_resized\n",
      "Starting Training\n",
      "epoch: 00, loss: -0.88626\n",
      "epoch: 01, loss: -0.93447\n",
      "epoch: 02, loss: -0.94581\n",
      "epoch: 03, loss: -0.95223\n",
      "epoch: 04, loss: -0.95662\n",
      "epoch: 05, loss: -0.95980\n",
      "epoch: 06, loss: -0.96230\n",
      "epoch: 07, loss: -0.96421\n",
      "epoch: 08, loss: -0.96584\n",
      "epoch: 09, loss: -0.96720\n",
      "torch.Size([1024, 64])\n"
     ]
    },
    {
     "name": "stderr",
     "output_type": "stream",
     "text": [
      "  4%|▍         | 40/999 [34:22<12:15:00, 45.99s/it]"
     ]
    },
    {
     "name": "stdout",
     "output_type": "stream",
     "text": [
      "eigenvalues shape torch.Size([5]) eigenvectors shape torch.Size([5, 1024])\n",
      "40 /home/phdcs2/Hard_Disk/Datasets/Deep-Spectral-Segmentation/data/object-segmentation/ECSSD/features/0042_resized.pth\n",
      "dict_keys(['k', 'indices', 'file', 'id', 'model_name', 'patch_size', 'shape'])\n",
      "0042_resized\n",
      "Starting Training\n",
      "epoch: 00, loss: -0.89970\n",
      "epoch: 01, loss: -0.93959\n",
      "epoch: 02, loss: -0.94945\n",
      "epoch: 03, loss: -0.95495\n",
      "epoch: 04, loss: -0.95873\n",
      "epoch: 05, loss: -0.96156\n",
      "epoch: 06, loss: -0.96359\n",
      "epoch: 07, loss: -0.96536\n",
      "epoch: 08, loss: -0.96676\n",
      "epoch: 09, loss: -0.96798\n",
      "torch.Size([1024, 64])\n"
     ]
    },
    {
     "name": "stderr",
     "output_type": "stream",
     "text": [
      "  4%|▍         | 41/999 [35:07<12:10:49, 45.77s/it]"
     ]
    },
    {
     "name": "stdout",
     "output_type": "stream",
     "text": [
      "eigenvalues shape torch.Size([5]) eigenvectors shape torch.Size([5, 1024])\n",
      "41 /home/phdcs2/Hard_Disk/Datasets/Deep-Spectral-Segmentation/data/object-segmentation/ECSSD/features/0043_resized.pth\n",
      "dict_keys(['k', 'indices', 'file', 'id', 'model_name', 'patch_size', 'shape'])\n",
      "0043_resized\n",
      "Starting Training\n",
      "epoch: 00, loss: -0.93923\n",
      "epoch: 01, loss: -0.96560\n",
      "epoch: 02, loss: -0.97085\n",
      "epoch: 03, loss: -0.97385\n",
      "epoch: 04, loss: -0.97591\n",
      "epoch: 05, loss: -0.97745\n",
      "epoch: 06, loss: -0.97864\n",
      "epoch: 07, loss: -0.97962\n",
      "epoch: 08, loss: -0.98045\n",
      "epoch: 09, loss: -0.98116\n",
      "torch.Size([1024, 64])\n"
     ]
    },
    {
     "name": "stderr",
     "output_type": "stream",
     "text": [
      "  4%|▍         | 42/999 [35:50<11:55:01, 44.83s/it]"
     ]
    },
    {
     "name": "stdout",
     "output_type": "stream",
     "text": [
      "eigenvalues shape torch.Size([5]) eigenvectors shape torch.Size([5, 1024])\n",
      "42 /home/phdcs2/Hard_Disk/Datasets/Deep-Spectral-Segmentation/data/object-segmentation/ECSSD/features/0044_resized.pth\n",
      "dict_keys(['k', 'indices', 'file', 'id', 'model_name', 'patch_size', 'shape'])\n",
      "0044_resized\n",
      "Starting Training\n",
      "epoch: 00, loss: -0.90589\n",
      "epoch: 01, loss: -0.94116\n",
      "epoch: 02, loss: -0.95040\n",
      "epoch: 03, loss: -0.95587\n",
      "epoch: 04, loss: -0.95952\n",
      "epoch: 05, loss: -0.96232\n",
      "epoch: 06, loss: -0.96449\n",
      "epoch: 07, loss: -0.96624\n",
      "epoch: 08, loss: -0.96774\n",
      "epoch: 09, loss: -0.96900\n",
      "torch.Size([1024, 64])\n"
     ]
    },
    {
     "name": "stderr",
     "output_type": "stream",
     "text": [
      "  4%|▍         | 43/999 [36:38<12:09:52, 45.81s/it]"
     ]
    },
    {
     "name": "stdout",
     "output_type": "stream",
     "text": [
      "eigenvalues shape torch.Size([5]) eigenvectors shape torch.Size([5, 1024])\n",
      "43 /home/phdcs2/Hard_Disk/Datasets/Deep-Spectral-Segmentation/data/object-segmentation/ECSSD/features/0045_resized.pth\n",
      "dict_keys(['k', 'indices', 'file', 'id', 'model_name', 'patch_size', 'shape'])\n",
      "0045_resized\n",
      "Starting Training\n",
      "epoch: 00, loss: -0.93058\n",
      "epoch: 01, loss: -0.95730\n",
      "epoch: 02, loss: -0.96405\n",
      "epoch: 03, loss: -0.96784\n",
      "epoch: 04, loss: -0.97044\n",
      "epoch: 05, loss: -0.97231\n",
      "epoch: 06, loss: -0.97384\n",
      "epoch: 07, loss: -0.97505\n",
      "epoch: 08, loss: -0.97606\n",
      "epoch: 09, loss: -0.97694\n",
      "torch.Size([1024, 64])\n"
     ]
    },
    {
     "name": "stderr",
     "output_type": "stream",
     "text": [
      "  4%|▍         | 44/999 [37:26<12:18:23, 46.39s/it]"
     ]
    },
    {
     "name": "stdout",
     "output_type": "stream",
     "text": [
      "eigenvalues shape torch.Size([5]) eigenvectors shape torch.Size([5, 1024])\n",
      "44 /home/phdcs2/Hard_Disk/Datasets/Deep-Spectral-Segmentation/data/object-segmentation/ECSSD/features/0046_resized.pth\n",
      "dict_keys(['k', 'indices', 'file', 'id', 'model_name', 'patch_size', 'shape'])\n",
      "0046_resized\n",
      "Starting Training\n",
      "epoch: 00, loss: -0.90076\n",
      "epoch: 01, loss: -0.93966\n",
      "epoch: 02, loss: -0.94733\n",
      "epoch: 03, loss: -0.95202\n",
      "epoch: 04, loss: -0.95530\n",
      "epoch: 05, loss: -0.95783\n",
      "epoch: 06, loss: -0.95968\n",
      "epoch: 07, loss: -0.96140\n",
      "epoch: 08, loss: -0.96261\n",
      "epoch: 09, loss: -0.96382\n",
      "torch.Size([1024, 64])\n"
     ]
    },
    {
     "name": "stderr",
     "output_type": "stream",
     "text": [
      "  5%|▍         | 45/999 [38:10<12:08:49, 45.84s/it]"
     ]
    },
    {
     "name": "stdout",
     "output_type": "stream",
     "text": [
      "eigenvalues shape torch.Size([5]) eigenvectors shape torch.Size([5, 1024])\n",
      "45 /home/phdcs2/Hard_Disk/Datasets/Deep-Spectral-Segmentation/data/object-segmentation/ECSSD/features/0047_resized.pth\n",
      "dict_keys(['k', 'indices', 'file', 'id', 'model_name', 'patch_size', 'shape'])\n",
      "0047_resized\n",
      "Starting Training\n",
      "epoch: 00, loss: -0.91294\n",
      "epoch: 01, loss: -0.94772\n",
      "epoch: 02, loss: -0.95624\n",
      "epoch: 03, loss: -0.96134\n",
      "epoch: 04, loss: -0.96474\n",
      "epoch: 05, loss: -0.96721\n",
      "epoch: 06, loss: -0.96918\n",
      "epoch: 07, loss: -0.97076\n",
      "epoch: 08, loss: -0.97211\n",
      "epoch: 09, loss: -0.97323\n",
      "torch.Size([1024, 64])\n"
     ]
    },
    {
     "name": "stderr",
     "output_type": "stream",
     "text": [
      "  5%|▍         | 46/999 [39:03<12:39:54, 47.84s/it]"
     ]
    },
    {
     "name": "stdout",
     "output_type": "stream",
     "text": [
      "eigenvalues shape torch.Size([5]) eigenvectors shape torch.Size([5, 1024])\n",
      "46 /home/phdcs2/Hard_Disk/Datasets/Deep-Spectral-Segmentation/data/object-segmentation/ECSSD/features/0048_resized.pth\n",
      "dict_keys(['k', 'indices', 'file', 'id', 'model_name', 'patch_size', 'shape'])\n",
      "0048_resized\n",
      "Starting Training\n",
      "epoch: 00, loss: -0.92693\n",
      "epoch: 01, loss: -0.95513\n",
      "epoch: 02, loss: -0.96201\n",
      "epoch: 03, loss: -0.96605\n",
      "epoch: 04, loss: -0.96879\n",
      "epoch: 05, loss: -0.97089\n",
      "epoch: 06, loss: -0.97251\n",
      "epoch: 07, loss: -0.97383\n",
      "epoch: 08, loss: -0.97495\n",
      "epoch: 09, loss: -0.97588\n",
      "torch.Size([1024, 64])\n"
     ]
    },
    {
     "name": "stderr",
     "output_type": "stream",
     "text": [
      "  5%|▍         | 47/999 [39:55<12:56:52, 48.96s/it]"
     ]
    },
    {
     "name": "stdout",
     "output_type": "stream",
     "text": [
      "eigenvalues shape torch.Size([5]) eigenvectors shape torch.Size([5, 1024])\n",
      "47 /home/phdcs2/Hard_Disk/Datasets/Deep-Spectral-Segmentation/data/object-segmentation/ECSSD/features/0049_resized.pth\n",
      "dict_keys(['k', 'indices', 'file', 'id', 'model_name', 'patch_size', 'shape'])\n",
      "0049_resized\n",
      "Starting Training\n",
      "epoch: 00, loss: -0.92634\n",
      "epoch: 01, loss: -0.95435\n",
      "epoch: 02, loss: -0.96111\n",
      "epoch: 03, loss: -0.96510\n",
      "epoch: 04, loss: -0.96793\n",
      "epoch: 05, loss: -0.96993\n",
      "epoch: 06, loss: -0.97160\n",
      "epoch: 07, loss: -0.97285\n",
      "epoch: 08, loss: -0.97399\n",
      "epoch: 09, loss: -0.97494\n",
      "torch.Size([1024, 64])\n"
     ]
    },
    {
     "name": "stderr",
     "output_type": "stream",
     "text": [
      "  5%|▍         | 48/999 [40:47<13:12:00, 49.97s/it]"
     ]
    },
    {
     "name": "stdout",
     "output_type": "stream",
     "text": [
      "eigenvalues shape torch.Size([5]) eigenvectors shape torch.Size([5, 1024])\n",
      "48 /home/phdcs2/Hard_Disk/Datasets/Deep-Spectral-Segmentation/data/object-segmentation/ECSSD/features/0050_resized.pth\n",
      "dict_keys(['k', 'indices', 'file', 'id', 'model_name', 'patch_size', 'shape'])\n",
      "0050_resized\n",
      "Starting Training\n",
      "epoch: 00, loss: -0.93117\n",
      "epoch: 01, loss: -0.96286\n",
      "epoch: 02, loss: -0.96880\n",
      "epoch: 03, loss: -0.97222\n",
      "epoch: 04, loss: -0.97460\n",
      "epoch: 05, loss: -0.97632\n",
      "epoch: 06, loss: -0.97766\n",
      "epoch: 07, loss: -0.97877\n",
      "epoch: 08, loss: -0.97968\n",
      "epoch: 09, loss: -0.98045\n",
      "torch.Size([1024, 64])\n"
     ]
    },
    {
     "name": "stderr",
     "output_type": "stream",
     "text": [
      "  5%|▍         | 49/999 [41:40<13:24:57, 50.84s/it]"
     ]
    },
    {
     "name": "stdout",
     "output_type": "stream",
     "text": [
      "eigenvalues shape torch.Size([5]) eigenvectors shape torch.Size([5, 1024])\n",
      "49 /home/phdcs2/Hard_Disk/Datasets/Deep-Spectral-Segmentation/data/object-segmentation/ECSSD/features/0051_resized.pth\n",
      "dict_keys(['k', 'indices', 'file', 'id', 'model_name', 'patch_size', 'shape'])\n",
      "0051_resized\n",
      "Starting Training\n",
      "epoch: 00, loss: -0.90829\n",
      "epoch: 01, loss: -0.94677\n",
      "epoch: 02, loss: -0.95580\n",
      "epoch: 03, loss: -0.96088\n",
      "epoch: 04, loss: -0.96438\n",
      "epoch: 05, loss: -0.96692\n",
      "epoch: 06, loss: -0.96899\n",
      "epoch: 07, loss: -0.97061\n",
      "epoch: 08, loss: -0.97198\n",
      "epoch: 09, loss: -0.97311\n",
      "torch.Size([1024, 64])\n"
     ]
    },
    {
     "name": "stderr",
     "output_type": "stream",
     "text": [
      "  5%|▌         | 50/999 [42:34<13:39:13, 51.80s/it]"
     ]
    },
    {
     "name": "stdout",
     "output_type": "stream",
     "text": [
      "eigenvalues shape torch.Size([5]) eigenvectors shape torch.Size([5, 1024])\n",
      "50 /home/phdcs2/Hard_Disk/Datasets/Deep-Spectral-Segmentation/data/object-segmentation/ECSSD/features/0052_resized.pth\n",
      "dict_keys(['k', 'indices', 'file', 'id', 'model_name', 'patch_size', 'shape'])\n",
      "0052_resized\n",
      "Starting Training\n",
      "epoch: 00, loss: -0.92671\n",
      "epoch: 01, loss: -0.95429\n",
      "epoch: 02, loss: -0.96130\n",
      "epoch: 03, loss: -0.96535\n",
      "epoch: 04, loss: -0.96810\n",
      "epoch: 05, loss: -0.97018\n",
      "epoch: 06, loss: -0.97183\n",
      "epoch: 07, loss: -0.97315\n",
      "epoch: 08, loss: -0.97426\n",
      "epoch: 09, loss: -0.97522\n",
      "torch.Size([1024, 64])\n"
     ]
    },
    {
     "name": "stderr",
     "output_type": "stream",
     "text": [
      "  5%|▌         | 51/999 [43:27<13:43:47, 52.14s/it]"
     ]
    },
    {
     "name": "stdout",
     "output_type": "stream",
     "text": [
      "eigenvalues shape torch.Size([5]) eigenvectors shape torch.Size([5, 1024])\n",
      "51 /home/phdcs2/Hard_Disk/Datasets/Deep-Spectral-Segmentation/data/object-segmentation/ECSSD/features/0053_resized.pth\n",
      "dict_keys(['k', 'indices', 'file', 'id', 'model_name', 'patch_size', 'shape'])\n",
      "0053_resized\n",
      "Starting Training\n",
      "epoch: 00, loss: -0.92121\n",
      "epoch: 01, loss: -0.95569\n",
      "epoch: 02, loss: -0.96239\n",
      "epoch: 03, loss: -0.96629\n",
      "epoch: 04, loss: -0.96897\n",
      "epoch: 05, loss: -0.97093\n",
      "epoch: 06, loss: -0.97247\n",
      "epoch: 07, loss: -0.97376\n",
      "epoch: 08, loss: -0.97481\n",
      "epoch: 09, loss: -0.97571\n",
      "torch.Size([1024, 64])\n"
     ]
    },
    {
     "name": "stderr",
     "output_type": "stream",
     "text": [
      "  5%|▌         | 52/999 [44:22<13:56:34, 53.00s/it]"
     ]
    },
    {
     "name": "stdout",
     "output_type": "stream",
     "text": [
      "eigenvalues shape torch.Size([5]) eigenvectors shape torch.Size([5, 1024])\n",
      "52 /home/phdcs2/Hard_Disk/Datasets/Deep-Spectral-Segmentation/data/object-segmentation/ECSSD/features/0054_resized.pth\n",
      "dict_keys(['k', 'indices', 'file', 'id', 'model_name', 'patch_size', 'shape'])\n",
      "0054_resized\n",
      "Starting Training\n",
      "epoch: 00, loss: -0.89416\n",
      "epoch: 01, loss: -0.93749\n",
      "epoch: 02, loss: -0.94827\n",
      "epoch: 03, loss: -0.95438\n",
      "epoch: 04, loss: -0.95852\n",
      "epoch: 05, loss: -0.96165\n",
      "epoch: 06, loss: -0.96389\n",
      "epoch: 07, loss: -0.96587\n",
      "epoch: 08, loss: -0.96740\n",
      "epoch: 09, loss: -0.96868\n",
      "torch.Size([1024, 64])\n"
     ]
    },
    {
     "name": "stderr",
     "output_type": "stream",
     "text": [
      "  5%|▌         | 53/999 [45:14<13:51:54, 52.76s/it]"
     ]
    },
    {
     "name": "stdout",
     "output_type": "stream",
     "text": [
      "eigenvalues shape torch.Size([5]) eigenvectors shape torch.Size([5, 1024])\n",
      "53 /home/phdcs2/Hard_Disk/Datasets/Deep-Spectral-Segmentation/data/object-segmentation/ECSSD/features/0055_resized.pth\n",
      "dict_keys(['k', 'indices', 'file', 'id', 'model_name', 'patch_size', 'shape'])\n",
      "0055_resized\n",
      "Starting Training\n",
      "epoch: 00, loss: -0.93664\n",
      "epoch: 01, loss: -0.96267\n",
      "epoch: 02, loss: -0.96850\n",
      "epoch: 03, loss: -0.97195\n",
      "epoch: 04, loss: -0.97431\n",
      "epoch: 05, loss: -0.97609\n",
      "epoch: 06, loss: -0.97750\n",
      "epoch: 07, loss: -0.97862\n",
      "epoch: 08, loss: -0.97959\n",
      "epoch: 09, loss: -0.98040\n",
      "torch.Size([1024, 64])\n"
     ]
    },
    {
     "name": "stderr",
     "output_type": "stream",
     "text": [
      "  5%|▌         | 54/999 [46:02<13:27:43, 51.28s/it]"
     ]
    },
    {
     "name": "stdout",
     "output_type": "stream",
     "text": [
      "eigenvalues shape torch.Size([5]) eigenvectors shape torch.Size([5, 1024])\n",
      "54 /home/phdcs2/Hard_Disk/Datasets/Deep-Spectral-Segmentation/data/object-segmentation/ECSSD/features/0056_resized.pth\n",
      "dict_keys(['k', 'indices', 'file', 'id', 'model_name', 'patch_size', 'shape'])\n",
      "0056_resized\n",
      "Starting Training\n",
      "epoch: 00, loss: -0.90273\n",
      "epoch: 01, loss: -0.93794\n",
      "epoch: 02, loss: -0.94725\n",
      "epoch: 03, loss: -0.95278\n",
      "epoch: 04, loss: -0.95661\n",
      "epoch: 05, loss: -0.95942\n",
      "epoch: 06, loss: -0.96165\n",
      "epoch: 07, loss: -0.96350\n",
      "epoch: 08, loss: -0.96502\n",
      "epoch: 09, loss: -0.96632\n",
      "torch.Size([1024, 64])\n"
     ]
    },
    {
     "name": "stderr",
     "output_type": "stream",
     "text": [
      "  6%|▌         | 55/999 [46:52<13:22:49, 51.03s/it]"
     ]
    },
    {
     "name": "stdout",
     "output_type": "stream",
     "text": [
      "eigenvalues shape torch.Size([5]) eigenvectors shape torch.Size([5, 1024])\n",
      "55 /home/phdcs2/Hard_Disk/Datasets/Deep-Spectral-Segmentation/data/object-segmentation/ECSSD/features/0057_resized.pth\n",
      "dict_keys(['k', 'indices', 'file', 'id', 'model_name', 'patch_size', 'shape'])\n",
      "0057_resized\n",
      "Starting Training\n",
      "epoch: 00, loss: -0.90922\n",
      "epoch: 01, loss: -0.94580\n",
      "epoch: 02, loss: -0.95482\n",
      "epoch: 03, loss: -0.95998\n",
      "epoch: 04, loss: -0.96358\n",
      "epoch: 05, loss: -0.96622\n",
      "epoch: 06, loss: -0.96825\n",
      "epoch: 07, loss: -0.96987\n",
      "epoch: 08, loss: -0.97128\n",
      "epoch: 09, loss: -0.97244\n",
      "torch.Size([1024, 64])\n"
     ]
    },
    {
     "name": "stderr",
     "output_type": "stream",
     "text": [
      "  6%|▌         | 56/999 [47:48<13:46:00, 52.56s/it]"
     ]
    },
    {
     "name": "stdout",
     "output_type": "stream",
     "text": [
      "eigenvalues shape torch.Size([5]) eigenvectors shape torch.Size([5, 1024])\n",
      "56 /home/phdcs2/Hard_Disk/Datasets/Deep-Spectral-Segmentation/data/object-segmentation/ECSSD/features/0058_resized.pth\n",
      "dict_keys(['k', 'indices', 'file', 'id', 'model_name', 'patch_size', 'shape'])\n",
      "0058_resized\n",
      "Starting Training\n",
      "epoch: 00, loss: -0.88092\n",
      "epoch: 01, loss: -0.92927\n",
      "epoch: 02, loss: -0.94146\n",
      "epoch: 03, loss: -0.94823\n",
      "epoch: 04, loss: -0.95271\n",
      "epoch: 05, loss: -0.95596\n",
      "epoch: 06, loss: -0.95850\n",
      "epoch: 07, loss: -0.96064\n",
      "epoch: 08, loss: -0.96223\n",
      "epoch: 09, loss: -0.96368\n",
      "torch.Size([1024, 64])\n"
     ]
    },
    {
     "name": "stderr",
     "output_type": "stream",
     "text": [
      "  6%|▌         | 57/999 [48:41<13:44:52, 52.54s/it]"
     ]
    },
    {
     "name": "stdout",
     "output_type": "stream",
     "text": [
      "eigenvalues shape torch.Size([5]) eigenvectors shape torch.Size([5, 1024])\n",
      "57 /home/phdcs2/Hard_Disk/Datasets/Deep-Spectral-Segmentation/data/object-segmentation/ECSSD/features/0059_resized.pth\n",
      "dict_keys(['k', 'indices', 'file', 'id', 'model_name', 'patch_size', 'shape'])\n",
      "0059_resized\n",
      "Starting Training\n",
      "epoch: 00, loss: -0.92045\n",
      "epoch: 01, loss: -0.95119\n",
      "epoch: 02, loss: -0.95832\n",
      "epoch: 03, loss: -0.96255\n",
      "epoch: 04, loss: -0.96542\n",
      "epoch: 05, loss: -0.96755\n",
      "epoch: 06, loss: -0.96927\n",
      "epoch: 07, loss: -0.97064\n",
      "epoch: 08, loss: -0.97181\n",
      "epoch: 09, loss: -0.97279\n",
      "torch.Size([1024, 64])\n"
     ]
    },
    {
     "name": "stderr",
     "output_type": "stream",
     "text": [
      "  6%|▌         | 58/999 [49:34<13:47:03, 52.74s/it]"
     ]
    },
    {
     "name": "stdout",
     "output_type": "stream",
     "text": [
      "eigenvalues shape torch.Size([5]) eigenvectors shape torch.Size([5, 1024])\n",
      "58 /home/phdcs2/Hard_Disk/Datasets/Deep-Spectral-Segmentation/data/object-segmentation/ECSSD/features/0060_resized.pth\n",
      "dict_keys(['k', 'indices', 'file', 'id', 'model_name', 'patch_size', 'shape'])\n",
      "0060_resized\n",
      "Starting Training\n",
      "epoch: 00, loss: -0.93501\n",
      "epoch: 01, loss: -0.96216\n",
      "epoch: 02, loss: -0.96787\n",
      "epoch: 03, loss: -0.97115\n",
      "epoch: 04, loss: -0.97342\n",
      "epoch: 05, loss: -0.97515\n",
      "epoch: 06, loss: -0.97650\n",
      "epoch: 07, loss: -0.97761\n",
      "epoch: 08, loss: -0.97854\n",
      "epoch: 09, loss: -0.97935\n",
      "torch.Size([1024, 64])\n"
     ]
    },
    {
     "name": "stderr",
     "output_type": "stream",
     "text": [
      "  6%|▌         | 59/999 [50:25<13:37:09, 52.16s/it]"
     ]
    },
    {
     "name": "stdout",
     "output_type": "stream",
     "text": [
      "eigenvalues shape torch.Size([5]) eigenvectors shape torch.Size([5, 1024])\n",
      "59 /home/phdcs2/Hard_Disk/Datasets/Deep-Spectral-Segmentation/data/object-segmentation/ECSSD/features/0061_resized.pth\n",
      "dict_keys(['k', 'indices', 'file', 'id', 'model_name', 'patch_size', 'shape'])\n",
      "0061_resized\n",
      "Starting Training\n",
      "epoch: 00, loss: -0.92157\n",
      "epoch: 01, loss: -0.95292\n",
      "epoch: 02, loss: -0.96001\n",
      "epoch: 03, loss: -0.96417\n",
      "epoch: 04, loss: -0.96701\n",
      "epoch: 05, loss: -0.96912\n",
      "epoch: 06, loss: -0.97075\n",
      "epoch: 07, loss: -0.97210\n",
      "epoch: 08, loss: -0.97327\n",
      "epoch: 09, loss: -0.97420\n",
      "torch.Size([1024, 64])\n"
     ]
    },
    {
     "name": "stderr",
     "output_type": "stream",
     "text": [
      "  6%|▌         | 60/999 [51:13<13:18:12, 51.00s/it]"
     ]
    },
    {
     "name": "stdout",
     "output_type": "stream",
     "text": [
      "eigenvalues shape torch.Size([5]) eigenvectors shape torch.Size([5, 1024])\n",
      "60 /home/phdcs2/Hard_Disk/Datasets/Deep-Spectral-Segmentation/data/object-segmentation/ECSSD/features/0062_resized.pth\n",
      "dict_keys(['k', 'indices', 'file', 'id', 'model_name', 'patch_size', 'shape'])\n",
      "0062_resized\n",
      "Starting Training\n",
      "epoch: 00, loss: -0.92454\n",
      "epoch: 01, loss: -0.95637\n",
      "epoch: 02, loss: -0.96313\n",
      "epoch: 03, loss: -0.96709\n",
      "epoch: 04, loss: -0.96973\n",
      "epoch: 05, loss: -0.97173\n",
      "epoch: 06, loss: -0.97329\n",
      "epoch: 07, loss: -0.97453\n",
      "epoch: 08, loss: -0.97561\n",
      "epoch: 09, loss: -0.97653\n",
      "torch.Size([1024, 64])\n"
     ]
    },
    {
     "name": "stderr",
     "output_type": "stream",
     "text": [
      "  6%|▌         | 61/999 [52:05<13:20:16, 51.19s/it]"
     ]
    },
    {
     "name": "stdout",
     "output_type": "stream",
     "text": [
      "eigenvalues shape torch.Size([5]) eigenvectors shape torch.Size([5, 1024])\n",
      "61 /home/phdcs2/Hard_Disk/Datasets/Deep-Spectral-Segmentation/data/object-segmentation/ECSSD/features/0063_resized.pth\n",
      "dict_keys(['k', 'indices', 'file', 'id', 'model_name', 'patch_size', 'shape'])\n",
      "0063_resized\n",
      "Starting Training\n",
      "epoch: 00, loss: -0.93561\n",
      "epoch: 01, loss: -0.96200\n",
      "epoch: 02, loss: -0.96763\n",
      "epoch: 03, loss: -0.97086\n",
      "epoch: 04, loss: -0.97308\n",
      "epoch: 05, loss: -0.97475\n",
      "epoch: 06, loss: -0.97608\n",
      "epoch: 07, loss: -0.97715\n",
      "epoch: 08, loss: -0.97804\n",
      "epoch: 09, loss: -0.97882\n",
      "torch.Size([1024, 64])\n"
     ]
    },
    {
     "name": "stderr",
     "output_type": "stream",
     "text": [
      "  6%|▌         | 62/999 [52:56<13:18:51, 51.15s/it]"
     ]
    },
    {
     "name": "stdout",
     "output_type": "stream",
     "text": [
      "eigenvalues shape torch.Size([5]) eigenvectors shape torch.Size([5, 1024])\n",
      "62 /home/phdcs2/Hard_Disk/Datasets/Deep-Spectral-Segmentation/data/object-segmentation/ECSSD/features/0064_resized.pth\n",
      "dict_keys(['k', 'indices', 'file', 'id', 'model_name', 'patch_size', 'shape'])\n",
      "0064_resized\n",
      "Starting Training\n",
      "epoch: 00, loss: -0.90930\n",
      "epoch: 01, loss: -0.94508\n",
      "epoch: 02, loss: -0.95316\n",
      "epoch: 03, loss: -0.95793\n",
      "epoch: 04, loss: -0.96112\n",
      "epoch: 05, loss: -0.96353\n",
      "epoch: 06, loss: -0.96547\n",
      "epoch: 07, loss: -0.96704\n",
      "epoch: 08, loss: -0.96832\n",
      "epoch: 09, loss: -0.96946\n",
      "torch.Size([1024, 64])\n"
     ]
    },
    {
     "name": "stderr",
     "output_type": "stream",
     "text": [
      "  6%|▋         | 63/999 [53:46<13:14:32, 50.93s/it]"
     ]
    },
    {
     "name": "stdout",
     "output_type": "stream",
     "text": [
      "eigenvalues shape torch.Size([5]) eigenvectors shape torch.Size([5, 1024])\n",
      "63 /home/phdcs2/Hard_Disk/Datasets/Deep-Spectral-Segmentation/data/object-segmentation/ECSSD/features/0065_resized.pth\n",
      "dict_keys(['k', 'indices', 'file', 'id', 'model_name', 'patch_size', 'shape'])\n",
      "0065_resized\n",
      "Starting Training\n",
      "epoch: 00, loss: -0.92153\n",
      "epoch: 01, loss: -0.95455\n",
      "epoch: 02, loss: -0.96117\n",
      "epoch: 03, loss: -0.96504\n",
      "epoch: 04, loss: -0.96765\n",
      "epoch: 05, loss: -0.96959\n",
      "epoch: 06, loss: -0.97114\n",
      "epoch: 07, loss: -0.97242\n",
      "epoch: 08, loss: -0.97345\n",
      "epoch: 09, loss: -0.97438\n",
      "torch.Size([1024, 64])\n"
     ]
    },
    {
     "name": "stderr",
     "output_type": "stream",
     "text": [
      "  6%|▋         | 64/999 [54:29<12:37:09, 48.59s/it]"
     ]
    },
    {
     "name": "stdout",
     "output_type": "stream",
     "text": [
      "eigenvalues shape torch.Size([5]) eigenvectors shape torch.Size([5, 1024])\n",
      "64 /home/phdcs2/Hard_Disk/Datasets/Deep-Spectral-Segmentation/data/object-segmentation/ECSSD/features/0066_resized.pth\n",
      "dict_keys(['k', 'indices', 'file', 'id', 'model_name', 'patch_size', 'shape'])\n",
      "0066_resized\n",
      "Starting Training\n",
      "epoch: 00, loss: -0.92690\n",
      "epoch: 01, loss: -0.95721\n",
      "epoch: 02, loss: -0.96370\n",
      "epoch: 03, loss: -0.96737\n",
      "epoch: 04, loss: -0.96995\n",
      "epoch: 05, loss: -0.97190\n",
      "epoch: 06, loss: -0.97332\n",
      "epoch: 07, loss: -0.97453\n",
      "epoch: 08, loss: -0.97555\n",
      "epoch: 09, loss: -0.97644\n",
      "torch.Size([1024, 64])\n"
     ]
    },
    {
     "name": "stderr",
     "output_type": "stream",
     "text": [
      "  7%|▋         | 65/999 [55:26<13:13:55, 51.00s/it]"
     ]
    },
    {
     "name": "stdout",
     "output_type": "stream",
     "text": [
      "eigenvalues shape torch.Size([5]) eigenvectors shape torch.Size([5, 1024])\n",
      "65 /home/phdcs2/Hard_Disk/Datasets/Deep-Spectral-Segmentation/data/object-segmentation/ECSSD/features/0067_resized.pth\n",
      "dict_keys(['k', 'indices', 'file', 'id', 'model_name', 'patch_size', 'shape'])\n",
      "0067_resized\n",
      "Starting Training\n",
      "epoch: 00, loss: -0.88345\n",
      "epoch: 01, loss: -0.92908\n",
      "epoch: 02, loss: -0.94104\n",
      "epoch: 03, loss: -0.94777\n",
      "epoch: 04, loss: -0.95248\n",
      "epoch: 05, loss: -0.95590\n",
      "epoch: 06, loss: -0.95856\n",
      "epoch: 07, loss: -0.96073\n",
      "epoch: 08, loss: -0.96248\n",
      "epoch: 09, loss: -0.96400\n",
      "torch.Size([1024, 64])\n"
     ]
    },
    {
     "name": "stderr",
     "output_type": "stream",
     "text": [
      "  7%|▋         | 66/999 [56:15<13:04:26, 50.45s/it]"
     ]
    },
    {
     "name": "stdout",
     "output_type": "stream",
     "text": [
      "eigenvalues shape torch.Size([5]) eigenvectors shape torch.Size([5, 1024])\n",
      "66 /home/phdcs2/Hard_Disk/Datasets/Deep-Spectral-Segmentation/data/object-segmentation/ECSSD/features/0068_resized.pth\n",
      "dict_keys(['k', 'indices', 'file', 'id', 'model_name', 'patch_size', 'shape'])\n",
      "0068_resized\n",
      "Starting Training\n",
      "epoch: 00, loss: -0.91470\n",
      "epoch: 01, loss: -0.95097\n",
      "epoch: 02, loss: -0.95876\n",
      "epoch: 03, loss: -0.96319\n",
      "epoch: 04, loss: -0.96617\n",
      "epoch: 05, loss: -0.96842\n",
      "epoch: 06, loss: -0.97009\n",
      "epoch: 07, loss: -0.97156\n",
      "epoch: 08, loss: -0.97273\n",
      "epoch: 09, loss: -0.97376\n",
      "torch.Size([1024, 64])\n"
     ]
    },
    {
     "name": "stderr",
     "output_type": "stream",
     "text": [
      "  7%|▋         | 67/999 [57:01<12:40:18, 48.95s/it]"
     ]
    },
    {
     "name": "stdout",
     "output_type": "stream",
     "text": [
      "eigenvalues shape torch.Size([5]) eigenvectors shape torch.Size([5, 1024])\n",
      "67 /home/phdcs2/Hard_Disk/Datasets/Deep-Spectral-Segmentation/data/object-segmentation/ECSSD/features/0069_resized.pth\n",
      "dict_keys(['k', 'indices', 'file', 'id', 'model_name', 'patch_size', 'shape'])\n",
      "0069_resized\n",
      "Starting Training\n",
      "epoch: 00, loss: -0.90397\n",
      "epoch: 01, loss: -0.94191\n",
      "epoch: 02, loss: -0.95167\n",
      "epoch: 03, loss: -0.95726\n",
      "epoch: 04, loss: -0.96092\n",
      "epoch: 05, loss: -0.96381\n",
      "epoch: 06, loss: -0.96604\n",
      "epoch: 07, loss: -0.96773\n",
      "epoch: 08, loss: -0.96918\n",
      "epoch: 09, loss: -0.97051\n",
      "torch.Size([1024, 64])\n"
     ]
    },
    {
     "name": "stderr",
     "output_type": "stream",
     "text": [
      "  7%|▋         | 68/999 [57:47<12:29:38, 48.31s/it]"
     ]
    },
    {
     "name": "stdout",
     "output_type": "stream",
     "text": [
      "eigenvalues shape torch.Size([5]) eigenvectors shape torch.Size([5, 1024])\n",
      "68 /home/phdcs2/Hard_Disk/Datasets/Deep-Spectral-Segmentation/data/object-segmentation/ECSSD/features/0070_resized.pth\n",
      "dict_keys(['k', 'indices', 'file', 'id', 'model_name', 'patch_size', 'shape'])\n",
      "0070_resized\n",
      "Starting Training\n",
      "epoch: 00, loss: -0.90983\n",
      "epoch: 01, loss: -0.94614\n",
      "epoch: 02, loss: -0.95447\n",
      "epoch: 03, loss: -0.95924\n",
      "epoch: 04, loss: -0.96260\n",
      "epoch: 05, loss: -0.96501\n",
      "epoch: 06, loss: -0.96696\n",
      "epoch: 07, loss: -0.96858\n",
      "epoch: 08, loss: -0.96986\n",
      "epoch: 09, loss: -0.97101\n",
      "torch.Size([1024, 64])\n"
     ]
    },
    {
     "name": "stderr",
     "output_type": "stream",
     "text": [
      "  7%|▋         | 69/999 [58:43<13:00:34, 50.36s/it]"
     ]
    },
    {
     "name": "stdout",
     "output_type": "stream",
     "text": [
      "eigenvalues shape torch.Size([5]) eigenvectors shape torch.Size([5, 1024])\n",
      "69 /home/phdcs2/Hard_Disk/Datasets/Deep-Spectral-Segmentation/data/object-segmentation/ECSSD/features/0071_resized.pth\n",
      "dict_keys(['k', 'indices', 'file', 'id', 'model_name', 'patch_size', 'shape'])\n",
      "0071_resized\n",
      "Starting Training\n",
      "epoch: 00, loss: -0.89722\n",
      "epoch: 01, loss: -0.93827\n",
      "epoch: 02, loss: -0.94837\n",
      "epoch: 03, loss: -0.95441\n",
      "epoch: 04, loss: -0.95826\n",
      "epoch: 05, loss: -0.96124\n",
      "epoch: 06, loss: -0.96344\n",
      "epoch: 07, loss: -0.96539\n",
      "epoch: 08, loss: -0.96679\n",
      "epoch: 09, loss: -0.96809\n",
      "torch.Size([1024, 64])\n"
     ]
    },
    {
     "name": "stderr",
     "output_type": "stream",
     "text": [
      "  7%|▋         | 70/999 [59:28<12:37:57, 48.95s/it]"
     ]
    },
    {
     "name": "stdout",
     "output_type": "stream",
     "text": [
      "eigenvalues shape torch.Size([5]) eigenvectors shape torch.Size([5, 1024])\n",
      "70 /home/phdcs2/Hard_Disk/Datasets/Deep-Spectral-Segmentation/data/object-segmentation/ECSSD/features/0072_resized.pth\n",
      "dict_keys(['k', 'indices', 'file', 'id', 'model_name', 'patch_size', 'shape'])\n",
      "0072_resized\n",
      "Starting Training\n",
      "epoch: 00, loss: -0.92737\n",
      "epoch: 01, loss: -0.95645\n",
      "epoch: 02, loss: -0.96319\n",
      "epoch: 03, loss: -0.96701\n",
      "epoch: 04, loss: -0.96966\n",
      "epoch: 05, loss: -0.97160\n",
      "epoch: 06, loss: -0.97314\n",
      "epoch: 07, loss: -0.97436\n",
      "epoch: 08, loss: -0.97541\n",
      "epoch: 09, loss: -0.97628\n",
      "torch.Size([1024, 64])\n"
     ]
    },
    {
     "name": "stderr",
     "output_type": "stream",
     "text": [
      "  7%|▋         | 71/999 [1:00:12<12:12:25, 47.35s/it]"
     ]
    },
    {
     "name": "stdout",
     "output_type": "stream",
     "text": [
      "eigenvalues shape torch.Size([5]) eigenvectors shape torch.Size([5, 1024])\n",
      "71 /home/phdcs2/Hard_Disk/Datasets/Deep-Spectral-Segmentation/data/object-segmentation/ECSSD/features/0073_resized.pth\n",
      "dict_keys(['k', 'indices', 'file', 'id', 'model_name', 'patch_size', 'shape'])\n",
      "0073_resized\n",
      "Starting Training\n",
      "epoch: 00, loss: -0.93063\n",
      "epoch: 01, loss: -0.96005\n",
      "epoch: 02, loss: -0.96636\n",
      "epoch: 03, loss: -0.97000\n",
      "epoch: 04, loss: -0.97246\n",
      "epoch: 05, loss: -0.97430\n",
      "epoch: 06, loss: -0.97570\n",
      "epoch: 07, loss: -0.97687\n",
      "epoch: 08, loss: -0.97786\n",
      "epoch: 09, loss: -0.97867\n",
      "torch.Size([1024, 64])\n"
     ]
    },
    {
     "name": "stderr",
     "output_type": "stream",
     "text": [
      "  7%|▋         | 72/999 [1:01:07<12:46:49, 49.63s/it]"
     ]
    },
    {
     "name": "stdout",
     "output_type": "stream",
     "text": [
      "eigenvalues shape torch.Size([5]) eigenvectors shape torch.Size([5, 1024])\n",
      "72 /home/phdcs2/Hard_Disk/Datasets/Deep-Spectral-Segmentation/data/object-segmentation/ECSSD/features/0074_resized.pth\n",
      "dict_keys(['k', 'indices', 'file', 'id', 'model_name', 'patch_size', 'shape'])\n",
      "0074_resized\n",
      "Starting Training\n",
      "epoch: 00, loss: -0.90466\n",
      "epoch: 01, loss: -0.94389\n",
      "epoch: 02, loss: -0.95290\n",
      "epoch: 03, loss: -0.95805\n",
      "epoch: 04, loss: -0.96168\n",
      "epoch: 05, loss: -0.96417\n",
      "epoch: 06, loss: -0.96623\n",
      "epoch: 07, loss: -0.96789\n",
      "epoch: 08, loss: -0.96929\n",
      "epoch: 09, loss: -0.97048\n",
      "torch.Size([1024, 64])\n"
     ]
    },
    {
     "name": "stderr",
     "output_type": "stream",
     "text": [
      "  7%|▋         | 73/999 [1:01:55<12:38:09, 49.12s/it]"
     ]
    },
    {
     "name": "stdout",
     "output_type": "stream",
     "text": [
      "eigenvalues shape torch.Size([5]) eigenvectors shape torch.Size([5, 1024])\n",
      "73 /home/phdcs2/Hard_Disk/Datasets/Deep-Spectral-Segmentation/data/object-segmentation/ECSSD/features/0075_resized.pth\n",
      "dict_keys(['k', 'indices', 'file', 'id', 'model_name', 'patch_size', 'shape'])\n",
      "0075_resized\n",
      "Starting Training\n",
      "epoch: 00, loss: -0.92576\n",
      "epoch: 01, loss: -0.95609\n",
      "epoch: 02, loss: -0.96265\n",
      "epoch: 03, loss: -0.96652\n",
      "epoch: 04, loss: -0.96911\n",
      "epoch: 05, loss: -0.97106\n",
      "epoch: 06, loss: -0.97262\n",
      "epoch: 07, loss: -0.97386\n",
      "epoch: 08, loss: -0.97494\n",
      "epoch: 09, loss: -0.97581\n",
      "torch.Size([1024, 64])\n"
     ]
    },
    {
     "name": "stderr",
     "output_type": "stream",
     "text": [
      "  7%|▋         | 74/999 [1:02:39<12:14:44, 47.66s/it]"
     ]
    },
    {
     "name": "stdout",
     "output_type": "stream",
     "text": [
      "eigenvalues shape torch.Size([5]) eigenvectors shape torch.Size([5, 1024])\n",
      "74 /home/phdcs2/Hard_Disk/Datasets/Deep-Spectral-Segmentation/data/object-segmentation/ECSSD/features/0076_resized.pth\n",
      "dict_keys(['k', 'indices', 'file', 'id', 'model_name', 'patch_size', 'shape'])\n",
      "0076_resized\n",
      "Starting Training\n",
      "epoch: 00, loss: -0.86085\n",
      "epoch: 01, loss: -0.91724\n",
      "epoch: 02, loss: -0.93192\n",
      "epoch: 03, loss: -0.94028\n",
      "epoch: 04, loss: -0.94561\n",
      "epoch: 05, loss: -0.94982\n",
      "epoch: 06, loss: -0.95288\n",
      "epoch: 07, loss: -0.95521\n",
      "epoch: 08, loss: -0.95728\n",
      "epoch: 09, loss: -0.95895\n",
      "torch.Size([1024, 64])\n"
     ]
    },
    {
     "name": "stderr",
     "output_type": "stream",
     "text": [
      "  8%|▊         | 75/999 [1:03:28<12:19:03, 47.99s/it]"
     ]
    },
    {
     "name": "stdout",
     "output_type": "stream",
     "text": [
      "eigenvalues shape torch.Size([5]) eigenvectors shape torch.Size([5, 1024])\n",
      "75 /home/phdcs2/Hard_Disk/Datasets/Deep-Spectral-Segmentation/data/object-segmentation/ECSSD/features/0077_resized.pth\n",
      "dict_keys(['k', 'indices', 'file', 'id', 'model_name', 'patch_size', 'shape'])\n",
      "0077_resized\n",
      "Starting Training\n",
      "epoch: 00, loss: -0.89636\n",
      "epoch: 01, loss: -0.94001\n",
      "epoch: 02, loss: -0.95039\n",
      "epoch: 03, loss: -0.95609\n",
      "epoch: 04, loss: -0.96000\n",
      "epoch: 05, loss: -0.96270\n",
      "epoch: 06, loss: -0.96487\n",
      "epoch: 07, loss: -0.96668\n",
      "epoch: 08, loss: -0.96816\n",
      "epoch: 09, loss: -0.96942\n",
      "torch.Size([1024, 64])\n"
     ]
    },
    {
     "name": "stderr",
     "output_type": "stream",
     "text": [
      "  8%|▊         | 76/999 [1:04:14<12:09:20, 47.41s/it]"
     ]
    },
    {
     "name": "stdout",
     "output_type": "stream",
     "text": [
      "eigenvalues shape torch.Size([5]) eigenvectors shape torch.Size([5, 1024])\n",
      "76 /home/phdcs2/Hard_Disk/Datasets/Deep-Spectral-Segmentation/data/object-segmentation/ECSSD/features/0078_resized.pth\n",
      "dict_keys(['k', 'indices', 'file', 'id', 'model_name', 'patch_size', 'shape'])\n",
      "0078_resized\n",
      "Starting Training\n",
      "epoch: 00, loss: -0.91961\n",
      "epoch: 01, loss: -0.95372\n",
      "epoch: 02, loss: -0.96088\n",
      "epoch: 03, loss: -0.96492\n",
      "epoch: 04, loss: -0.96775\n",
      "epoch: 05, loss: -0.96980\n",
      "epoch: 06, loss: -0.97142\n",
      "epoch: 07, loss: -0.97274\n",
      "epoch: 08, loss: -0.97383\n",
      "epoch: 09, loss: -0.97480\n",
      "torch.Size([1024, 64])\n"
     ]
    },
    {
     "name": "stderr",
     "output_type": "stream",
     "text": [
      "  8%|▊         | 77/999 [1:05:07<12:36:46, 49.25s/it]"
     ]
    },
    {
     "name": "stdout",
     "output_type": "stream",
     "text": [
      "eigenvalues shape torch.Size([5]) eigenvectors shape torch.Size([5, 1024])\n",
      "77 /home/phdcs2/Hard_Disk/Datasets/Deep-Spectral-Segmentation/data/object-segmentation/ECSSD/features/0079_resized.pth\n",
      "dict_keys(['k', 'indices', 'file', 'id', 'model_name', 'patch_size', 'shape'])\n",
      "0079_resized\n",
      "Starting Training\n",
      "epoch: 00, loss: -0.92702\n",
      "epoch: 01, loss: -0.95499\n",
      "epoch: 02, loss: -0.96168\n",
      "epoch: 03, loss: -0.96562\n",
      "epoch: 04, loss: -0.96837\n",
      "epoch: 05, loss: -0.97036\n",
      "epoch: 06, loss: -0.97198\n",
      "epoch: 07, loss: -0.97331\n",
      "epoch: 08, loss: -0.97438\n",
      "epoch: 09, loss: -0.97534\n",
      "torch.Size([1024, 64])\n"
     ]
    },
    {
     "name": "stderr",
     "output_type": "stream",
     "text": [
      "  8%|▊         | 78/999 [1:05:56<12:35:25, 49.21s/it]"
     ]
    },
    {
     "name": "stdout",
     "output_type": "stream",
     "text": [
      "eigenvalues shape torch.Size([5]) eigenvectors shape torch.Size([5, 1024])\n",
      "78 /home/phdcs2/Hard_Disk/Datasets/Deep-Spectral-Segmentation/data/object-segmentation/ECSSD/features/0080_resized.pth\n",
      "dict_keys(['k', 'indices', 'file', 'id', 'model_name', 'patch_size', 'shape'])\n",
      "0080_resized\n",
      "Starting Training\n",
      "epoch: 00, loss: -0.88999\n",
      "epoch: 01, loss: -0.93296\n",
      "epoch: 02, loss: -0.94451\n",
      "epoch: 03, loss: -0.95120\n",
      "epoch: 04, loss: -0.95574\n",
      "epoch: 05, loss: -0.95906\n",
      "epoch: 06, loss: -0.96165\n",
      "epoch: 07, loss: -0.96364\n",
      "epoch: 08, loss: -0.96540\n",
      "epoch: 09, loss: -0.96684\n",
      "torch.Size([1024, 64])\n"
     ]
    },
    {
     "name": "stderr",
     "output_type": "stream",
     "text": [
      "  8%|▊         | 79/999 [1:06:41<12:12:06, 47.75s/it]"
     ]
    },
    {
     "name": "stdout",
     "output_type": "stream",
     "text": [
      "eigenvalues shape torch.Size([5]) eigenvectors shape torch.Size([5, 1024])\n",
      "79 /home/phdcs2/Hard_Disk/Datasets/Deep-Spectral-Segmentation/data/object-segmentation/ECSSD/features/0081_resized.pth\n",
      "dict_keys(['k', 'indices', 'file', 'id', 'model_name', 'patch_size', 'shape'])\n",
      "0081_resized\n",
      "Starting Training\n",
      "epoch: 00, loss: -0.92018\n",
      "epoch: 01, loss: -0.94824\n",
      "epoch: 02, loss: -0.95520\n",
      "epoch: 03, loss: -0.95941\n",
      "epoch: 04, loss: -0.96217\n",
      "epoch: 05, loss: -0.96439\n",
      "epoch: 06, loss: -0.96614\n",
      "epoch: 07, loss: -0.96757\n",
      "epoch: 08, loss: -0.96875\n",
      "epoch: 09, loss: -0.96975\n",
      "torch.Size([1024, 64])\n"
     ]
    },
    {
     "name": "stderr",
     "output_type": "stream",
     "text": [
      "  8%|▊         | 80/999 [1:07:30<12:17:46, 48.17s/it]"
     ]
    },
    {
     "name": "stdout",
     "output_type": "stream",
     "text": [
      "eigenvalues shape torch.Size([5]) eigenvectors shape torch.Size([5, 1024])\n",
      "80 /home/phdcs2/Hard_Disk/Datasets/Deep-Spectral-Segmentation/data/object-segmentation/ECSSD/features/0082_resized.pth\n",
      "dict_keys(['k', 'indices', 'file', 'id', 'model_name', 'patch_size', 'shape'])\n",
      "0082_resized\n",
      "Starting Training\n",
      "epoch: 00, loss: -0.91535\n",
      "epoch: 01, loss: -0.94806\n",
      "epoch: 02, loss: -0.95575\n",
      "epoch: 03, loss: -0.96019\n",
      "epoch: 04, loss: -0.96328\n",
      "epoch: 05, loss: -0.96562\n",
      "epoch: 06, loss: -0.96739\n",
      "epoch: 07, loss: -0.96890\n",
      "epoch: 08, loss: -0.97010\n",
      "epoch: 09, loss: -0.97119\n",
      "torch.Size([1024, 64])\n"
     ]
    },
    {
     "name": "stderr",
     "output_type": "stream",
     "text": [
      "  8%|▊         | 81/999 [1:08:18<12:14:11, 47.99s/it]"
     ]
    },
    {
     "name": "stdout",
     "output_type": "stream",
     "text": [
      "eigenvalues shape torch.Size([5]) eigenvectors shape torch.Size([5, 1024])\n",
      "81 /home/phdcs2/Hard_Disk/Datasets/Deep-Spectral-Segmentation/data/object-segmentation/ECSSD/features/0083_resized.pth\n",
      "dict_keys(['k', 'indices', 'file', 'id', 'model_name', 'patch_size', 'shape'])\n",
      "0083_resized\n",
      "Starting Training\n",
      "epoch: 00, loss: -0.91070\n",
      "epoch: 01, loss: -0.94444\n",
      "epoch: 02, loss: -0.95288\n",
      "epoch: 03, loss: -0.95782\n",
      "epoch: 04, loss: -0.96126\n",
      "epoch: 05, loss: -0.96383\n",
      "epoch: 06, loss: -0.96586\n",
      "epoch: 07, loss: -0.96748\n",
      "epoch: 08, loss: -0.96888\n",
      "epoch: 09, loss: -0.97005\n",
      "torch.Size([1024, 64])\n"
     ]
    },
    {
     "name": "stderr",
     "output_type": "stream",
     "text": [
      "  8%|▊         | 82/999 [1:09:08<12:24:09, 48.69s/it]"
     ]
    },
    {
     "name": "stdout",
     "output_type": "stream",
     "text": [
      "eigenvalues shape torch.Size([5]) eigenvectors shape torch.Size([5, 1024])\n",
      "82 /home/phdcs2/Hard_Disk/Datasets/Deep-Spectral-Segmentation/data/object-segmentation/ECSSD/features/0084_resized.pth\n",
      "dict_keys(['k', 'indices', 'file', 'id', 'model_name', 'patch_size', 'shape'])\n",
      "0084_resized\n",
      "Starting Training\n",
      "epoch: 00, loss: -0.92285\n",
      "epoch: 01, loss: -0.95422\n",
      "epoch: 02, loss: -0.96125\n",
      "epoch: 03, loss: -0.96525\n",
      "epoch: 04, loss: -0.96808\n",
      "epoch: 05, loss: -0.97011\n",
      "epoch: 06, loss: -0.97167\n",
      "epoch: 07, loss: -0.97306\n",
      "epoch: 08, loss: -0.97415\n",
      "epoch: 09, loss: -0.97513\n",
      "torch.Size([1024, 64])\n"
     ]
    },
    {
     "name": "stderr",
     "output_type": "stream",
     "text": [
      "  8%|▊         | 83/999 [1:09:53<12:05:23, 47.51s/it]"
     ]
    },
    {
     "name": "stdout",
     "output_type": "stream",
     "text": [
      "eigenvalues shape torch.Size([5]) eigenvectors shape torch.Size([5, 1024])\n",
      "83 /home/phdcs2/Hard_Disk/Datasets/Deep-Spectral-Segmentation/data/object-segmentation/ECSSD/features/0085_resized.pth\n",
      "dict_keys(['k', 'indices', 'file', 'id', 'model_name', 'patch_size', 'shape'])\n",
      "0085_resized\n",
      "Starting Training\n",
      "epoch: 00, loss: -0.92188\n",
      "epoch: 01, loss: -0.95427\n",
      "epoch: 02, loss: -0.96114\n",
      "epoch: 03, loss: -0.96510\n",
      "epoch: 04, loss: -0.96783\n",
      "epoch: 05, loss: -0.96983\n",
      "epoch: 06, loss: -0.97141\n",
      "epoch: 07, loss: -0.97271\n",
      "epoch: 08, loss: -0.97379\n",
      "epoch: 09, loss: -0.97469\n",
      "torch.Size([1024, 64])\n"
     ]
    },
    {
     "name": "stderr",
     "output_type": "stream",
     "text": [
      "  8%|▊         | 84/999 [1:10:35<11:40:35, 45.94s/it]"
     ]
    },
    {
     "name": "stdout",
     "output_type": "stream",
     "text": [
      "eigenvalues shape torch.Size([5]) eigenvectors shape torch.Size([5, 1024])\n",
      "84 /home/phdcs2/Hard_Disk/Datasets/Deep-Spectral-Segmentation/data/object-segmentation/ECSSD/features/0086_resized.pth\n",
      "dict_keys(['k', 'indices', 'file', 'id', 'model_name', 'patch_size', 'shape'])\n",
      "0086_resized\n",
      "Starting Training\n",
      "epoch: 00, loss: -0.91944\n",
      "epoch: 01, loss: -0.95388\n",
      "epoch: 02, loss: -0.96116\n",
      "epoch: 03, loss: -0.96533\n",
      "epoch: 04, loss: -0.96813\n",
      "epoch: 05, loss: -0.97021\n",
      "epoch: 06, loss: -0.97184\n",
      "epoch: 07, loss: -0.97317\n",
      "epoch: 08, loss: -0.97428\n",
      "epoch: 09, loss: -0.97522\n",
      "torch.Size([1024, 64])\n"
     ]
    },
    {
     "name": "stderr",
     "output_type": "stream",
     "text": [
      "  9%|▊         | 85/999 [1:11:30<12:19:53, 48.57s/it]"
     ]
    },
    {
     "name": "stdout",
     "output_type": "stream",
     "text": [
      "eigenvalues shape torch.Size([5]) eigenvectors shape torch.Size([5, 1024])\n",
      "85 /home/phdcs2/Hard_Disk/Datasets/Deep-Spectral-Segmentation/data/object-segmentation/ECSSD/features/0087_resized.pth\n",
      "dict_keys(['k', 'indices', 'file', 'id', 'model_name', 'patch_size', 'shape'])\n",
      "0087_resized\n",
      "Starting Training\n",
      "epoch: 00, loss: -0.93623\n",
      "epoch: 01, loss: -0.96187\n",
      "epoch: 02, loss: -0.96768\n",
      "epoch: 03, loss: -0.97096\n",
      "epoch: 04, loss: -0.97332\n",
      "epoch: 05, loss: -0.97497\n",
      "epoch: 06, loss: -0.97634\n",
      "epoch: 07, loss: -0.97742\n",
      "epoch: 08, loss: -0.97838\n",
      "epoch: 09, loss: -0.97913\n",
      "torch.Size([1024, 64])\n"
     ]
    },
    {
     "name": "stderr",
     "output_type": "stream",
     "text": [
      "  9%|▊         | 86/999 [1:12:11<11:44:19, 46.29s/it]"
     ]
    },
    {
     "name": "stdout",
     "output_type": "stream",
     "text": [
      "eigenvalues shape torch.Size([5]) eigenvectors shape torch.Size([5, 1024])\n",
      "86 /home/phdcs2/Hard_Disk/Datasets/Deep-Spectral-Segmentation/data/object-segmentation/ECSSD/features/0088_resized.pth\n",
      "dict_keys(['k', 'indices', 'file', 'id', 'model_name', 'patch_size', 'shape'])\n",
      "0088_resized\n",
      "Starting Training\n",
      "epoch: 00, loss: -0.90105\n",
      "epoch: 01, loss: -0.93797\n",
      "epoch: 02, loss: -0.94749\n",
      "epoch: 03, loss: -0.95299\n",
      "epoch: 04, loss: -0.95685\n",
      "epoch: 05, loss: -0.95975\n",
      "epoch: 06, loss: -0.96189\n",
      "epoch: 07, loss: -0.96378\n",
      "epoch: 08, loss: -0.96531\n",
      "epoch: 09, loss: -0.96660\n",
      "torch.Size([1024, 64])\n"
     ]
    },
    {
     "name": "stderr",
     "output_type": "stream",
     "text": [
      "  9%|▊         | 87/999 [1:13:03<12:10:15, 48.04s/it]"
     ]
    },
    {
     "name": "stdout",
     "output_type": "stream",
     "text": [
      "eigenvalues shape torch.Size([5]) eigenvectors shape torch.Size([5, 1024])\n",
      "87 /home/phdcs2/Hard_Disk/Datasets/Deep-Spectral-Segmentation/data/object-segmentation/ECSSD/features/0089_resized.pth\n",
      "dict_keys(['k', 'indices', 'file', 'id', 'model_name', 'patch_size', 'shape'])\n",
      "0089_resized\n",
      "Starting Training\n",
      "epoch: 00, loss: -0.93483\n",
      "epoch: 01, loss: -0.96187\n",
      "epoch: 02, loss: -0.96779\n",
      "epoch: 03, loss: -0.97124\n",
      "epoch: 04, loss: -0.97358\n",
      "epoch: 05, loss: -0.97531\n",
      "epoch: 06, loss: -0.97666\n",
      "epoch: 07, loss: -0.97777\n",
      "epoch: 08, loss: -0.97869\n",
      "epoch: 09, loss: -0.97946\n",
      "torch.Size([1024, 64])\n"
     ]
    },
    {
     "name": "stderr",
     "output_type": "stream",
     "text": [
      "  9%|▉         | 88/999 [1:13:49<12:01:11, 47.50s/it]"
     ]
    },
    {
     "name": "stdout",
     "output_type": "stream",
     "text": [
      "eigenvalues shape torch.Size([5]) eigenvectors shape torch.Size([5, 1024])\n",
      "88 /home/phdcs2/Hard_Disk/Datasets/Deep-Spectral-Segmentation/data/object-segmentation/ECSSD/features/0090_resized.pth\n",
      "dict_keys(['k', 'indices', 'file', 'id', 'model_name', 'patch_size', 'shape'])\n",
      "0090_resized\n",
      "Starting Training\n",
      "epoch: 00, loss: -0.92305\n",
      "epoch: 01, loss: -0.95390\n",
      "epoch: 02, loss: -0.96107\n",
      "epoch: 03, loss: -0.96518\n",
      "epoch: 04, loss: -0.96800\n",
      "epoch: 05, loss: -0.97009\n",
      "epoch: 06, loss: -0.97169\n",
      "epoch: 07, loss: -0.97303\n",
      "epoch: 08, loss: -0.97412\n",
      "epoch: 09, loss: -0.97505\n",
      "torch.Size([1024, 64])\n"
     ]
    },
    {
     "name": "stderr",
     "output_type": "stream",
     "text": [
      "  9%|▉         | 89/999 [1:14:42<12:24:03, 49.06s/it]"
     ]
    },
    {
     "name": "stdout",
     "output_type": "stream",
     "text": [
      "eigenvalues shape torch.Size([5]) eigenvectors shape torch.Size([5, 1024])\n",
      "89 /home/phdcs2/Hard_Disk/Datasets/Deep-Spectral-Segmentation/data/object-segmentation/ECSSD/features/0091_resized.pth\n",
      "dict_keys(['k', 'indices', 'file', 'id', 'model_name', 'patch_size', 'shape'])\n",
      "0091_resized\n",
      "Starting Training\n",
      "epoch: 00, loss: -0.87665\n",
      "epoch: 01, loss: -0.92625\n",
      "epoch: 02, loss: -0.93922\n",
      "epoch: 03, loss: -0.94661\n",
      "epoch: 04, loss: -0.95157\n",
      "epoch: 05, loss: -0.95519\n",
      "epoch: 06, loss: -0.95796\n",
      "epoch: 07, loss: -0.96022\n",
      "epoch: 08, loss: -0.96215\n",
      "epoch: 09, loss: -0.96373\n",
      "torch.Size([1024, 64])\n"
     ]
    },
    {
     "name": "stderr",
     "output_type": "stream",
     "text": [
      "  9%|▉         | 90/999 [1:15:28<12:10:24, 48.21s/it]"
     ]
    },
    {
     "name": "stdout",
     "output_type": "stream",
     "text": [
      "eigenvalues shape torch.Size([5]) eigenvectors shape torch.Size([5, 1024])\n",
      "90 /home/phdcs2/Hard_Disk/Datasets/Deep-Spectral-Segmentation/data/object-segmentation/ECSSD/features/0092_resized.pth\n",
      "dict_keys(['k', 'indices', 'file', 'id', 'model_name', 'patch_size', 'shape'])\n",
      "0092_resized\n",
      "Starting Training\n",
      "epoch: 00, loss: -0.91276\n",
      "epoch: 01, loss: -0.94556\n",
      "epoch: 02, loss: -0.95415\n",
      "epoch: 03, loss: -0.95922\n",
      "epoch: 04, loss: -0.96276\n",
      "epoch: 05, loss: -0.96534\n",
      "epoch: 06, loss: -0.96740\n",
      "epoch: 07, loss: -0.96906\n",
      "epoch: 08, loss: -0.97045\n",
      "epoch: 09, loss: -0.97162\n",
      "torch.Size([1024, 64])\n"
     ]
    },
    {
     "name": "stderr",
     "output_type": "stream",
     "text": [
      "  9%|▉         | 91/999 [1:16:18<12:19:26, 48.86s/it]"
     ]
    },
    {
     "name": "stdout",
     "output_type": "stream",
     "text": [
      "eigenvalues shape torch.Size([5]) eigenvectors shape torch.Size([5, 1024])\n",
      "91 /home/phdcs2/Hard_Disk/Datasets/Deep-Spectral-Segmentation/data/object-segmentation/ECSSD/features/0093_resized.pth\n",
      "dict_keys(['k', 'indices', 'file', 'id', 'model_name', 'patch_size', 'shape'])\n",
      "0093_resized\n",
      "Starting Training\n",
      "epoch: 00, loss: -0.91795\n",
      "epoch: 01, loss: -0.94927\n",
      "epoch: 02, loss: -0.95707\n",
      "epoch: 03, loss: -0.96163\n",
      "epoch: 04, loss: -0.96473\n",
      "epoch: 05, loss: -0.96705\n",
      "epoch: 06, loss: -0.96886\n",
      "epoch: 07, loss: -0.97035\n",
      "epoch: 08, loss: -0.97158\n",
      "epoch: 09, loss: -0.97263\n",
      "torch.Size([1024, 64])\n"
     ]
    },
    {
     "name": "stderr",
     "output_type": "stream",
     "text": [
      "  9%|▉         | 92/999 [1:17:00<11:45:34, 46.68s/it]"
     ]
    },
    {
     "name": "stdout",
     "output_type": "stream",
     "text": [
      "eigenvalues shape torch.Size([5]) eigenvectors shape torch.Size([5, 1024])\n",
      "92 /home/phdcs2/Hard_Disk/Datasets/Deep-Spectral-Segmentation/data/object-segmentation/ECSSD/features/0094_resized.pth\n",
      "dict_keys(['k', 'indices', 'file', 'id', 'model_name', 'patch_size', 'shape'])\n",
      "0094_resized\n",
      "Starting Training\n",
      "epoch: 00, loss: -0.84983\n",
      "epoch: 01, loss: -0.91225\n",
      "epoch: 02, loss: -0.92775\n",
      "epoch: 03, loss: -0.93659\n",
      "epoch: 04, loss: -0.94255\n",
      "epoch: 05, loss: -0.94705\n",
      "epoch: 06, loss: -0.95037\n",
      "epoch: 07, loss: -0.95304\n",
      "epoch: 08, loss: -0.95520\n",
      "epoch: 09, loss: -0.95714\n",
      "torch.Size([1024, 64])\n"
     ]
    },
    {
     "name": "stderr",
     "output_type": "stream",
     "text": [
      "  9%|▉         | 93/999 [1:17:56<12:28:10, 49.55s/it]"
     ]
    },
    {
     "name": "stdout",
     "output_type": "stream",
     "text": [
      "eigenvalues shape torch.Size([5]) eigenvectors shape torch.Size([5, 1024])\n",
      "93 /home/phdcs2/Hard_Disk/Datasets/Deep-Spectral-Segmentation/data/object-segmentation/ECSSD/features/0095_resized.pth\n",
      "dict_keys(['k', 'indices', 'file', 'id', 'model_name', 'patch_size', 'shape'])\n",
      "0095_resized\n",
      "Starting Training\n",
      "epoch: 00, loss: -0.91644\n",
      "epoch: 01, loss: -0.95051\n",
      "epoch: 02, loss: -0.95834\n",
      "epoch: 03, loss: -0.96283\n",
      "epoch: 04, loss: -0.96591\n",
      "epoch: 05, loss: -0.96818\n",
      "epoch: 06, loss: -0.96994\n",
      "epoch: 07, loss: -0.97141\n",
      "epoch: 08, loss: -0.97261\n",
      "epoch: 09, loss: -0.97363\n",
      "torch.Size([1024, 64])\n"
     ]
    },
    {
     "name": "stderr",
     "output_type": "stream",
     "text": [
      "  9%|▉         | 94/999 [1:18:49<12:40:26, 50.42s/it]"
     ]
    },
    {
     "name": "stdout",
     "output_type": "stream",
     "text": [
      "eigenvalues shape torch.Size([5]) eigenvectors shape torch.Size([5, 1024])\n",
      "94 /home/phdcs2/Hard_Disk/Datasets/Deep-Spectral-Segmentation/data/object-segmentation/ECSSD/features/0096_resized.pth\n",
      "dict_keys(['k', 'indices', 'file', 'id', 'model_name', 'patch_size', 'shape'])\n",
      "0096_resized\n",
      "Starting Training\n",
      "epoch: 00, loss: -0.90613\n",
      "epoch: 01, loss: -0.94231\n",
      "epoch: 02, loss: -0.95098\n",
      "epoch: 03, loss: -0.95610\n",
      "epoch: 04, loss: -0.95960\n",
      "epoch: 05, loss: -0.96220\n",
      "epoch: 06, loss: -0.96429\n",
      "epoch: 07, loss: -0.96595\n",
      "epoch: 08, loss: -0.96737\n",
      "epoch: 09, loss: -0.96854\n",
      "torch.Size([1024, 64])\n"
     ]
    },
    {
     "name": "stderr",
     "output_type": "stream",
     "text": [
      " 10%|▉         | 95/999 [1:19:34<12:16:19, 48.87s/it]"
     ]
    },
    {
     "name": "stdout",
     "output_type": "stream",
     "text": [
      "eigenvalues shape torch.Size([5]) eigenvectors shape torch.Size([5, 1024])\n",
      "95 /home/phdcs2/Hard_Disk/Datasets/Deep-Spectral-Segmentation/data/object-segmentation/ECSSD/features/0097_resized.pth\n",
      "dict_keys(['k', 'indices', 'file', 'id', 'model_name', 'patch_size', 'shape'])\n",
      "0097_resized\n",
      "Starting Training\n",
      "epoch: 00, loss: -0.93389\n",
      "epoch: 01, loss: -0.95953\n",
      "epoch: 02, loss: -0.96542\n",
      "epoch: 03, loss: -0.96884\n",
      "epoch: 04, loss: -0.97120\n",
      "epoch: 05, loss: -0.97295\n",
      "epoch: 06, loss: -0.97433\n",
      "epoch: 07, loss: -0.97544\n",
      "epoch: 08, loss: -0.97640\n",
      "epoch: 09, loss: -0.97720\n",
      "torch.Size([1024, 64])\n"
     ]
    },
    {
     "name": "stderr",
     "output_type": "stream",
     "text": [
      " 10%|▉         | 96/999 [1:20:23<12:14:55, 48.83s/it]"
     ]
    },
    {
     "name": "stdout",
     "output_type": "stream",
     "text": [
      "eigenvalues shape torch.Size([5]) eigenvectors shape torch.Size([5, 1024])\n",
      "96 /home/phdcs2/Hard_Disk/Datasets/Deep-Spectral-Segmentation/data/object-segmentation/ECSSD/features/0098_resized.pth\n",
      "dict_keys(['k', 'indices', 'file', 'id', 'model_name', 'patch_size', 'shape'])\n",
      "0098_resized\n",
      "Starting Training\n",
      "epoch: 00, loss: -0.91407\n",
      "epoch: 01, loss: -0.94715\n",
      "epoch: 02, loss: -0.95526\n",
      "epoch: 03, loss: -0.95999\n",
      "epoch: 04, loss: -0.96322\n",
      "epoch: 05, loss: -0.96563\n",
      "epoch: 06, loss: -0.96748\n",
      "epoch: 07, loss: -0.96900\n",
      "epoch: 08, loss: -0.97029\n",
      "epoch: 09, loss: -0.97136\n",
      "torch.Size([1024, 64])\n"
     ]
    },
    {
     "name": "stderr",
     "output_type": "stream",
     "text": [
      " 10%|▉         | 97/999 [1:21:11<12:10:41, 48.60s/it]"
     ]
    },
    {
     "name": "stdout",
     "output_type": "stream",
     "text": [
      "eigenvalues shape torch.Size([5]) eigenvectors shape torch.Size([5, 1024])\n",
      "97 /home/phdcs2/Hard_Disk/Datasets/Deep-Spectral-Segmentation/data/object-segmentation/ECSSD/features/0099_resized.pth\n",
      "dict_keys(['k', 'indices', 'file', 'id', 'model_name', 'patch_size', 'shape'])\n",
      "0099_resized\n",
      "Starting Training\n",
      "epoch: 00, loss: -0.91508\n",
      "epoch: 01, loss: -0.94674\n",
      "epoch: 02, loss: -0.95467\n",
      "epoch: 03, loss: -0.95934\n",
      "epoch: 04, loss: -0.96248\n",
      "epoch: 05, loss: -0.96484\n",
      "epoch: 06, loss: -0.96666\n",
      "epoch: 07, loss: -0.96819\n",
      "epoch: 08, loss: -0.96944\n",
      "epoch: 09, loss: -0.97050\n",
      "torch.Size([1024, 64])\n"
     ]
    },
    {
     "name": "stderr",
     "output_type": "stream",
     "text": [
      " 10%|▉         | 98/999 [1:21:56<11:55:34, 47.65s/it]"
     ]
    },
    {
     "name": "stdout",
     "output_type": "stream",
     "text": [
      "eigenvalues shape torch.Size([5]) eigenvectors shape torch.Size([5, 1024])\n",
      "98 /home/phdcs2/Hard_Disk/Datasets/Deep-Spectral-Segmentation/data/object-segmentation/ECSSD/features/0100_resized.pth\n",
      "dict_keys(['k', 'indices', 'file', 'id', 'model_name', 'patch_size', 'shape'])\n",
      "0100_resized\n",
      "Starting Training\n",
      "epoch: 00, loss: -0.92451\n",
      "epoch: 01, loss: -0.95451\n",
      "epoch: 02, loss: -0.96151\n",
      "epoch: 03, loss: -0.96550\n",
      "epoch: 04, loss: -0.96829\n",
      "epoch: 05, loss: -0.97029\n",
      "epoch: 06, loss: -0.97192\n",
      "epoch: 07, loss: -0.97321\n",
      "epoch: 08, loss: -0.97433\n",
      "epoch: 09, loss: -0.97526\n",
      "torch.Size([1024, 64])\n"
     ]
    },
    {
     "name": "stderr",
     "output_type": "stream",
     "text": [
      " 10%|▉         | 99/999 [1:22:38<11:28:22, 45.89s/it]"
     ]
    },
    {
     "name": "stdout",
     "output_type": "stream",
     "text": [
      "eigenvalues shape torch.Size([5]) eigenvectors shape torch.Size([5, 1024])\n",
      "99 /home/phdcs2/Hard_Disk/Datasets/Deep-Spectral-Segmentation/data/object-segmentation/ECSSD/features/0101_resized.pth\n",
      "dict_keys(['k', 'indices', 'file', 'id', 'model_name', 'patch_size', 'shape'])\n",
      "0101_resized\n",
      "Starting Training\n",
      "epoch: 00, loss: -0.89222\n",
      "epoch: 01, loss: -0.93442\n",
      "epoch: 02, loss: -0.94514\n",
      "epoch: 03, loss: -0.95120\n",
      "epoch: 04, loss: -0.95535\n",
      "epoch: 05, loss: -0.95837\n",
      "epoch: 06, loss: -0.96081\n",
      "epoch: 07, loss: -0.96274\n",
      "epoch: 08, loss: -0.96429\n",
      "epoch: 09, loss: -0.96568\n",
      "torch.Size([1024, 64])\n"
     ]
    },
    {
     "name": "stderr",
     "output_type": "stream",
     "text": [
      " 10%|█         | 100/999 [1:23:30<11:56:42, 47.83s/it]"
     ]
    },
    {
     "name": "stdout",
     "output_type": "stream",
     "text": [
      "eigenvalues shape torch.Size([5]) eigenvectors shape torch.Size([5, 1024])\n",
      "100 /home/phdcs2/Hard_Disk/Datasets/Deep-Spectral-Segmentation/data/object-segmentation/ECSSD/features/0102_resized.pth\n",
      "dict_keys(['k', 'indices', 'file', 'id', 'model_name', 'patch_size', 'shape'])\n",
      "0102_resized\n",
      "Starting Training\n",
      "epoch: 00, loss: -0.93480\n",
      "epoch: 01, loss: -0.95969\n",
      "epoch: 02, loss: -0.96576\n",
      "epoch: 03, loss: -0.96931\n",
      "epoch: 04, loss: -0.97173\n",
      "epoch: 05, loss: -0.97353\n",
      "epoch: 06, loss: -0.97497\n",
      "epoch: 07, loss: -0.97613\n",
      "epoch: 08, loss: -0.97710\n",
      "epoch: 09, loss: -0.97793\n",
      "torch.Size([1024, 64])\n"
     ]
    },
    {
     "name": "stderr",
     "output_type": "stream",
     "text": [
      " 10%|█         | 101/999 [1:24:19<12:00:32, 48.14s/it]"
     ]
    },
    {
     "name": "stdout",
     "output_type": "stream",
     "text": [
      "eigenvalues shape torch.Size([5]) eigenvectors shape torch.Size([5, 1024])\n",
      "101 /home/phdcs2/Hard_Disk/Datasets/Deep-Spectral-Segmentation/data/object-segmentation/ECSSD/features/0103_resized.pth\n",
      "dict_keys(['k', 'indices', 'file', 'id', 'model_name', 'patch_size', 'shape'])\n",
      "0103_resized\n",
      "Starting Training\n",
      "epoch: 00, loss: -0.89367\n",
      "epoch: 01, loss: -0.93537\n",
      "epoch: 02, loss: -0.94582\n",
      "epoch: 03, loss: -0.95172\n",
      "epoch: 04, loss: -0.95579\n",
      "epoch: 05, loss: -0.95889\n",
      "epoch: 06, loss: -0.96119\n",
      "epoch: 07, loss: -0.96310\n",
      "epoch: 08, loss: -0.96464\n",
      "epoch: 09, loss: -0.96596\n",
      "torch.Size([1024, 64])\n"
     ]
    },
    {
     "name": "stderr",
     "output_type": "stream",
     "text": [
      " 10%|█         | 102/999 [1:25:02<11:35:02, 46.49s/it]"
     ]
    },
    {
     "name": "stdout",
     "output_type": "stream",
     "text": [
      "eigenvalues shape torch.Size([5]) eigenvectors shape torch.Size([5, 1024])\n",
      "102 /home/phdcs2/Hard_Disk/Datasets/Deep-Spectral-Segmentation/data/object-segmentation/ECSSD/features/0104_resized.pth\n",
      "dict_keys(['k', 'indices', 'file', 'id', 'model_name', 'patch_size', 'shape'])\n",
      "0104_resized\n",
      "Starting Training\n",
      "epoch: 00, loss: -0.93091\n",
      "epoch: 01, loss: -0.95846\n",
      "epoch: 02, loss: -0.96478\n",
      "epoch: 03, loss: -0.96840\n",
      "epoch: 04, loss: -0.97093\n",
      "epoch: 05, loss: -0.97279\n",
      "epoch: 06, loss: -0.97426\n",
      "epoch: 07, loss: -0.97545\n",
      "epoch: 08, loss: -0.97645\n",
      "epoch: 09, loss: -0.97732\n",
      "torch.Size([1024, 64])\n"
     ]
    },
    {
     "name": "stderr",
     "output_type": "stream",
     "text": [
      " 10%|█         | 103/999 [1:25:57<12:12:25, 49.05s/it]"
     ]
    },
    {
     "name": "stdout",
     "output_type": "stream",
     "text": [
      "eigenvalues shape torch.Size([5]) eigenvectors shape torch.Size([5, 1024])\n",
      "103 /home/phdcs2/Hard_Disk/Datasets/Deep-Spectral-Segmentation/data/object-segmentation/ECSSD/features/0105_resized.pth\n",
      "dict_keys(['k', 'indices', 'file', 'id', 'model_name', 'patch_size', 'shape'])\n",
      "0105_resized\n",
      "Starting Training\n",
      "epoch: 00, loss: -0.90775\n",
      "epoch: 01, loss: -0.94471\n",
      "epoch: 02, loss: -0.95393\n",
      "epoch: 03, loss: -0.95920\n",
      "epoch: 04, loss: -0.96279\n",
      "epoch: 05, loss: -0.96537\n",
      "epoch: 06, loss: -0.96743\n",
      "epoch: 07, loss: -0.96909\n",
      "epoch: 08, loss: -0.97047\n",
      "epoch: 09, loss: -0.97163\n",
      "torch.Size([1024, 64])\n"
     ]
    },
    {
     "name": "stderr",
     "output_type": "stream",
     "text": [
      " 10%|█         | 104/999 [1:26:45<12:08:12, 48.82s/it]"
     ]
    },
    {
     "name": "stdout",
     "output_type": "stream",
     "text": [
      "eigenvalues shape torch.Size([5]) eigenvectors shape torch.Size([5, 1024])\n",
      "104 /home/phdcs2/Hard_Disk/Datasets/Deep-Spectral-Segmentation/data/object-segmentation/ECSSD/features/0106_resized.pth\n",
      "dict_keys(['k', 'indices', 'file', 'id', 'model_name', 'patch_size', 'shape'])\n",
      "0106_resized\n",
      "Starting Training\n",
      "epoch: 00, loss: -0.91888\n",
      "epoch: 01, loss: -0.95222\n",
      "epoch: 02, loss: -0.95978\n",
      "epoch: 03, loss: -0.96412\n",
      "epoch: 04, loss: -0.96713\n",
      "epoch: 05, loss: -0.96933\n",
      "epoch: 06, loss: -0.97106\n",
      "epoch: 07, loss: -0.97246\n",
      "epoch: 08, loss: -0.97364\n",
      "epoch: 09, loss: -0.97465\n",
      "torch.Size([1024, 64])\n"
     ]
    },
    {
     "name": "stderr",
     "output_type": "stream",
     "text": [
      " 11%|█         | 105/999 [1:27:30<11:50:59, 47.72s/it]"
     ]
    },
    {
     "name": "stdout",
     "output_type": "stream",
     "text": [
      "eigenvalues shape torch.Size([5]) eigenvectors shape torch.Size([5, 1024])\n",
      "105 /home/phdcs2/Hard_Disk/Datasets/Deep-Spectral-Segmentation/data/object-segmentation/ECSSD/features/0107_resized.pth\n",
      "dict_keys(['k', 'indices', 'file', 'id', 'model_name', 'patch_size', 'shape'])\n",
      "0107_resized\n",
      "Starting Training\n",
      "epoch: 00, loss: -0.91303\n",
      "epoch: 01, loss: -0.94671\n",
      "epoch: 02, loss: -0.95471\n",
      "epoch: 03, loss: -0.95946\n",
      "epoch: 04, loss: -0.96269\n",
      "epoch: 05, loss: -0.96505\n",
      "epoch: 06, loss: -0.96694\n",
      "epoch: 07, loss: -0.96855\n",
      "epoch: 08, loss: -0.96987\n",
      "epoch: 09, loss: -0.97095\n",
      "torch.Size([1024, 64])\n"
     ]
    },
    {
     "name": "stderr",
     "output_type": "stream",
     "text": [
      " 11%|█         | 106/999 [1:28:24<12:19:03, 49.66s/it]"
     ]
    },
    {
     "name": "stdout",
     "output_type": "stream",
     "text": [
      "eigenvalues shape torch.Size([5]) eigenvectors shape torch.Size([5, 1024])\n",
      "106 /home/phdcs2/Hard_Disk/Datasets/Deep-Spectral-Segmentation/data/object-segmentation/ECSSD/features/0108_resized.pth\n",
      "dict_keys(['k', 'indices', 'file', 'id', 'model_name', 'patch_size', 'shape'])\n",
      "0108_resized\n",
      "Starting Training\n",
      "epoch: 00, loss: -0.92593\n",
      "epoch: 01, loss: -0.95660\n",
      "epoch: 02, loss: -0.96356\n",
      "epoch: 03, loss: -0.96757\n",
      "epoch: 04, loss: -0.97031\n",
      "epoch: 05, loss: -0.97232\n",
      "epoch: 06, loss: -0.97392\n",
      "epoch: 07, loss: -0.97522\n",
      "epoch: 08, loss: -0.97629\n",
      "epoch: 09, loss: -0.97722\n",
      "torch.Size([1024, 64])\n"
     ]
    },
    {
     "name": "stderr",
     "output_type": "stream",
     "text": [
      " 11%|█         | 107/999 [1:29:12<12:10:17, 49.12s/it]"
     ]
    },
    {
     "name": "stdout",
     "output_type": "stream",
     "text": [
      "eigenvalues shape torch.Size([5]) eigenvectors shape torch.Size([5, 1024])\n",
      "107 /home/phdcs2/Hard_Disk/Datasets/Deep-Spectral-Segmentation/data/object-segmentation/ECSSD/features/0109_resized.pth\n",
      "dict_keys(['k', 'indices', 'file', 'id', 'model_name', 'patch_size', 'shape'])\n",
      "0109_resized\n",
      "Starting Training\n",
      "epoch: 00, loss: -0.87532\n",
      "epoch: 01, loss: -0.92686\n",
      "epoch: 02, loss: -0.93943\n",
      "epoch: 03, loss: -0.94656\n",
      "epoch: 04, loss: -0.95140\n",
      "epoch: 05, loss: -0.95490\n",
      "epoch: 06, loss: -0.95767\n",
      "epoch: 07, loss: -0.95980\n",
      "epoch: 08, loss: -0.96167\n",
      "epoch: 09, loss: -0.96315\n",
      "torch.Size([1024, 64])\n"
     ]
    },
    {
     "name": "stderr",
     "output_type": "stream",
     "text": [
      " 11%|█         | 108/999 [1:29:58<11:56:00, 48.22s/it]"
     ]
    },
    {
     "name": "stdout",
     "output_type": "stream",
     "text": [
      "eigenvalues shape torch.Size([5]) eigenvectors shape torch.Size([5, 1024])\n",
      "108 /home/phdcs2/Hard_Disk/Datasets/Deep-Spectral-Segmentation/data/object-segmentation/ECSSD/features/0110_resized.pth\n",
      "dict_keys(['k', 'indices', 'file', 'id', 'model_name', 'patch_size', 'shape'])\n",
      "0110_resized\n",
      "Starting Training\n",
      "epoch: 00, loss: -0.92558\n",
      "epoch: 01, loss: -0.95857\n",
      "epoch: 02, loss: -0.96523\n",
      "epoch: 03, loss: -0.96902\n",
      "epoch: 04, loss: -0.97159\n",
      "epoch: 05, loss: -0.97353\n",
      "epoch: 06, loss: -0.97502\n",
      "epoch: 07, loss: -0.97623\n",
      "epoch: 08, loss: -0.97725\n",
      "epoch: 09, loss: -0.97810\n",
      "torch.Size([1024, 64])\n"
     ]
    },
    {
     "name": "stderr",
     "output_type": "stream",
     "text": [
      " 11%|█         | 109/999 [1:30:40<11:26:12, 46.26s/it]"
     ]
    },
    {
     "name": "stdout",
     "output_type": "stream",
     "text": [
      "eigenvalues shape torch.Size([5]) eigenvectors shape torch.Size([5, 1024])\n",
      "109 /home/phdcs2/Hard_Disk/Datasets/Deep-Spectral-Segmentation/data/object-segmentation/ECSSD/features/0111_resized.pth\n",
      "dict_keys(['k', 'indices', 'file', 'id', 'model_name', 'patch_size', 'shape'])\n",
      "0111_resized\n",
      "Starting Training\n",
      "epoch: 00, loss: -0.86976\n",
      "epoch: 01, loss: -0.92232\n",
      "epoch: 02, loss: -0.93598\n",
      "epoch: 03, loss: -0.94360\n",
      "epoch: 04, loss: -0.94883\n",
      "epoch: 05, loss: -0.95278\n",
      "epoch: 06, loss: -0.95563\n",
      "epoch: 07, loss: -0.95803\n",
      "epoch: 08, loss: -0.95993\n",
      "epoch: 09, loss: -0.96167\n",
      "torch.Size([1024, 64])\n"
     ]
    },
    {
     "name": "stderr",
     "output_type": "stream",
     "text": [
      " 11%|█         | 110/999 [1:31:34<11:59:45, 48.58s/it]"
     ]
    },
    {
     "name": "stdout",
     "output_type": "stream",
     "text": [
      "eigenvalues shape torch.Size([5]) eigenvectors shape torch.Size([5, 1024])\n",
      "110 /home/phdcs2/Hard_Disk/Datasets/Deep-Spectral-Segmentation/data/object-segmentation/ECSSD/features/0112_resized.pth\n",
      "dict_keys(['k', 'indices', 'file', 'id', 'model_name', 'patch_size', 'shape'])\n",
      "0112_resized\n",
      "Starting Training\n",
      "epoch: 00, loss: -0.91618\n",
      "epoch: 01, loss: -0.94777\n",
      "epoch: 02, loss: -0.95556\n",
      "epoch: 03, loss: -0.96011\n",
      "epoch: 04, loss: -0.96322\n",
      "epoch: 05, loss: -0.96555\n",
      "epoch: 06, loss: -0.96742\n",
      "epoch: 07, loss: -0.96889\n",
      "epoch: 08, loss: -0.97008\n",
      "epoch: 09, loss: -0.97117\n",
      "torch.Size([1024, 64])\n"
     ]
    },
    {
     "name": "stderr",
     "output_type": "stream",
     "text": [
      " 11%|█         | 111/999 [1:32:23<11:59:30, 48.62s/it]"
     ]
    },
    {
     "name": "stdout",
     "output_type": "stream",
     "text": [
      "eigenvalues shape torch.Size([5]) eigenvectors shape torch.Size([5, 1024])\n",
      "111 /home/phdcs2/Hard_Disk/Datasets/Deep-Spectral-Segmentation/data/object-segmentation/ECSSD/features/0113_resized.pth\n",
      "dict_keys(['k', 'indices', 'file', 'id', 'model_name', 'patch_size', 'shape'])\n",
      "0113_resized\n",
      "Starting Training\n",
      "epoch: 00, loss: -0.88860\n",
      "epoch: 01, loss: -0.93392\n",
      "epoch: 02, loss: -0.94511\n",
      "epoch: 03, loss: -0.95163\n",
      "epoch: 04, loss: -0.95585\n",
      "epoch: 05, loss: -0.95894\n",
      "epoch: 06, loss: -0.96117\n",
      "epoch: 07, loss: -0.96328\n",
      "epoch: 08, loss: -0.96488\n",
      "epoch: 09, loss: -0.96622\n",
      "torch.Size([1024, 64])\n"
     ]
    },
    {
     "name": "stderr",
     "output_type": "stream",
     "text": [
      " 11%|█         | 112/999 [1:33:06<11:35:50, 47.07s/it]"
     ]
    },
    {
     "name": "stdout",
     "output_type": "stream",
     "text": [
      "eigenvalues shape torch.Size([5]) eigenvectors shape torch.Size([5, 1024])\n",
      "112 /home/phdcs2/Hard_Disk/Datasets/Deep-Spectral-Segmentation/data/object-segmentation/ECSSD/features/0114_resized.pth\n",
      "dict_keys(['k', 'indices', 'file', 'id', 'model_name', 'patch_size', 'shape'])\n",
      "0114_resized\n",
      "Starting Training\n",
      "epoch: 00, loss: -0.91026\n",
      "epoch: 01, loss: -0.94413\n",
      "epoch: 02, loss: -0.95277\n",
      "epoch: 03, loss: -0.95786\n",
      "epoch: 04, loss: -0.96128\n",
      "epoch: 05, loss: -0.96385\n",
      "epoch: 06, loss: -0.96591\n",
      "epoch: 07, loss: -0.96751\n",
      "epoch: 08, loss: -0.96891\n",
      "epoch: 09, loss: -0.97008\n",
      "torch.Size([1024, 64])\n"
     ]
    },
    {
     "name": "stderr",
     "output_type": "stream",
     "text": [
      " 11%|█▏        | 113/999 [1:33:58<11:57:49, 48.61s/it]"
     ]
    },
    {
     "name": "stdout",
     "output_type": "stream",
     "text": [
      "eigenvalues shape torch.Size([5]) eigenvectors shape torch.Size([5, 1024])\n",
      "113 /home/phdcs2/Hard_Disk/Datasets/Deep-Spectral-Segmentation/data/object-segmentation/ECSSD/features/0115_resized.pth\n",
      "dict_keys(['k', 'indices', 'file', 'id', 'model_name', 'patch_size', 'shape'])\n",
      "0115_resized\n",
      "Starting Training\n",
      "epoch: 00, loss: -0.91557\n",
      "epoch: 01, loss: -0.94884\n",
      "epoch: 02, loss: -0.95724\n",
      "epoch: 03, loss: -0.96214\n",
      "epoch: 04, loss: -0.96543\n",
      "epoch: 05, loss: -0.96794\n",
      "epoch: 06, loss: -0.96984\n",
      "epoch: 07, loss: -0.97140\n",
      "epoch: 08, loss: -0.97267\n",
      "epoch: 09, loss: -0.97381\n",
      "torch.Size([1024, 64])\n"
     ]
    },
    {
     "name": "stderr",
     "output_type": "stream",
     "text": [
      " 11%|█▏        | 114/999 [1:34:46<11:52:22, 48.30s/it]"
     ]
    },
    {
     "name": "stdout",
     "output_type": "stream",
     "text": [
      "eigenvalues shape torch.Size([5]) eigenvectors shape torch.Size([5, 1024])\n",
      "114 /home/phdcs2/Hard_Disk/Datasets/Deep-Spectral-Segmentation/data/object-segmentation/ECSSD/features/0116_resized.pth\n",
      "dict_keys(['k', 'indices', 'file', 'id', 'model_name', 'patch_size', 'shape'])\n",
      "0116_resized\n",
      "Starting Training\n",
      "epoch: 00, loss: -0.92368\n",
      "epoch: 01, loss: -0.95332\n",
      "epoch: 02, loss: -0.96048\n",
      "epoch: 03, loss: -0.96469\n",
      "epoch: 04, loss: -0.96753\n",
      "epoch: 05, loss: -0.96967\n",
      "epoch: 06, loss: -0.97136\n",
      "epoch: 07, loss: -0.97271\n",
      "epoch: 08, loss: -0.97384\n",
      "epoch: 09, loss: -0.97483\n",
      "torch.Size([1024, 64])\n"
     ]
    },
    {
     "name": "stderr",
     "output_type": "stream",
     "text": [
      " 12%|█▏        | 115/999 [1:35:36<11:58:48, 48.79s/it]"
     ]
    },
    {
     "name": "stdout",
     "output_type": "stream",
     "text": [
      "eigenvalues shape torch.Size([5]) eigenvectors shape torch.Size([5, 1024])\n",
      "115 /home/phdcs2/Hard_Disk/Datasets/Deep-Spectral-Segmentation/data/object-segmentation/ECSSD/features/0117_resized.pth\n",
      "dict_keys(['k', 'indices', 'file', 'id', 'model_name', 'patch_size', 'shape'])\n",
      "0117_resized\n",
      "Starting Training\n",
      "epoch: 00, loss: -0.90752\n",
      "epoch: 01, loss: -0.94486\n",
      "epoch: 02, loss: -0.95426\n",
      "epoch: 03, loss: -0.95963\n",
      "epoch: 04, loss: -0.96317\n",
      "epoch: 05, loss: -0.96579\n",
      "epoch: 06, loss: -0.96786\n",
      "epoch: 07, loss: -0.96949\n",
      "epoch: 08, loss: -0.97085\n",
      "epoch: 09, loss: -0.97202\n",
      "torch.Size([1024, 64])\n"
     ]
    },
    {
     "name": "stderr",
     "output_type": "stream",
     "text": [
      " 12%|█▏        | 116/999 [1:36:32<12:28:25, 50.86s/it]"
     ]
    },
    {
     "name": "stdout",
     "output_type": "stream",
     "text": [
      "eigenvalues shape torch.Size([5]) eigenvectors shape torch.Size([5, 1024])\n",
      "116 /home/phdcs2/Hard_Disk/Datasets/Deep-Spectral-Segmentation/data/object-segmentation/ECSSD/features/0118_resized.pth\n",
      "dict_keys(['k', 'indices', 'file', 'id', 'model_name', 'patch_size', 'shape'])\n",
      "0118_resized\n",
      "Starting Training\n",
      "epoch: 00, loss: -0.89694\n",
      "epoch: 01, loss: -0.93906\n",
      "epoch: 02, loss: -0.94930\n",
      "epoch: 03, loss: -0.95534\n",
      "epoch: 04, loss: -0.95922\n",
      "epoch: 05, loss: -0.96214\n",
      "epoch: 06, loss: -0.96446\n",
      "epoch: 07, loss: -0.96623\n",
      "epoch: 08, loss: -0.96778\n",
      "epoch: 09, loss: -0.96911\n",
      "torch.Size([1024, 64])\n"
     ]
    },
    {
     "name": "stderr",
     "output_type": "stream",
     "text": [
      " 12%|█▏        | 117/999 [1:37:21<12:20:53, 50.40s/it]"
     ]
    },
    {
     "name": "stdout",
     "output_type": "stream",
     "text": [
      "eigenvalues shape torch.Size([5]) eigenvectors shape torch.Size([5, 1024])\n",
      "117 /home/phdcs2/Hard_Disk/Datasets/Deep-Spectral-Segmentation/data/object-segmentation/ECSSD/features/0119_resized.pth\n",
      "dict_keys(['k', 'indices', 'file', 'id', 'model_name', 'patch_size', 'shape'])\n",
      "0119_resized\n",
      "Starting Training\n",
      "epoch: 00, loss: -0.87165\n",
      "epoch: 01, loss: -0.92187\n",
      "epoch: 02, loss: -0.93486\n",
      "epoch: 03, loss: -0.94223\n",
      "epoch: 04, loss: -0.94723\n",
      "epoch: 05, loss: -0.95087\n",
      "epoch: 06, loss: -0.95362\n",
      "epoch: 07, loss: -0.95595\n",
      "epoch: 08, loss: -0.95787\n",
      "epoch: 09, loss: -0.95939\n",
      "torch.Size([1024, 64])\n"
     ]
    },
    {
     "name": "stderr",
     "output_type": "stream",
     "text": [
      " 12%|█▏        | 118/999 [1:38:08<12:04:08, 49.32s/it]"
     ]
    },
    {
     "name": "stdout",
     "output_type": "stream",
     "text": [
      "eigenvalues shape torch.Size([5]) eigenvectors shape torch.Size([5, 1024])\n",
      "118 /home/phdcs2/Hard_Disk/Datasets/Deep-Spectral-Segmentation/data/object-segmentation/ECSSD/features/0120_resized.pth\n",
      "dict_keys(['k', 'indices', 'file', 'id', 'model_name', 'patch_size', 'shape'])\n",
      "0120_resized\n",
      "Starting Training\n",
      "epoch: 00, loss: -0.92692\n",
      "epoch: 01, loss: -0.95570\n",
      "epoch: 02, loss: -0.96253\n",
      "epoch: 03, loss: -0.96645\n",
      "epoch: 04, loss: -0.96912\n",
      "epoch: 05, loss: -0.97109\n",
      "epoch: 06, loss: -0.97262\n",
      "epoch: 07, loss: -0.97389\n",
      "epoch: 08, loss: -0.97495\n",
      "epoch: 09, loss: -0.97584\n",
      "torch.Size([1024, 64])\n"
     ]
    },
    {
     "name": "stderr",
     "output_type": "stream",
     "text": [
      " 12%|█▏        | 119/999 [1:39:06<12:43:24, 52.05s/it]"
     ]
    },
    {
     "name": "stdout",
     "output_type": "stream",
     "text": [
      "eigenvalues shape torch.Size([5]) eigenvectors shape torch.Size([5, 1024])\n",
      "119 /home/phdcs2/Hard_Disk/Datasets/Deep-Spectral-Segmentation/data/object-segmentation/ECSSD/features/0121_resized.pth\n",
      "dict_keys(['k', 'indices', 'file', 'id', 'model_name', 'patch_size', 'shape'])\n",
      "0121_resized\n",
      "Starting Training\n",
      "epoch: 00, loss: -0.92091\n",
      "epoch: 01, loss: -0.95409\n",
      "epoch: 02, loss: -0.96133\n",
      "epoch: 03, loss: -0.96552\n",
      "epoch: 04, loss: -0.96840\n",
      "epoch: 05, loss: -0.97046\n",
      "epoch: 06, loss: -0.97213\n",
      "epoch: 07, loss: -0.97352\n",
      "epoch: 08, loss: -0.97459\n",
      "epoch: 09, loss: -0.97555\n",
      "torch.Size([1024, 64])\n"
     ]
    },
    {
     "name": "stderr",
     "output_type": "stream",
     "text": [
      " 12%|█▏        | 120/999 [1:39:59<12:47:06, 52.36s/it]"
     ]
    },
    {
     "name": "stdout",
     "output_type": "stream",
     "text": [
      "eigenvalues shape torch.Size([5]) eigenvectors shape torch.Size([5, 1024])\n",
      "120 /home/phdcs2/Hard_Disk/Datasets/Deep-Spectral-Segmentation/data/object-segmentation/ECSSD/features/0122_resized.pth\n",
      "dict_keys(['k', 'indices', 'file', 'id', 'model_name', 'patch_size', 'shape'])\n",
      "0122_resized\n",
      "Starting Training\n",
      "epoch: 00, loss: -0.91651\n",
      "epoch: 01, loss: -0.95058\n",
      "epoch: 02, loss: -0.95834\n",
      "epoch: 03, loss: -0.96283\n",
      "epoch: 04, loss: -0.96583\n",
      "epoch: 05, loss: -0.96807\n",
      "epoch: 06, loss: -0.96985\n",
      "epoch: 07, loss: -0.97126\n",
      "epoch: 08, loss: -0.97246\n",
      "epoch: 09, loss: -0.97346\n",
      "torch.Size([1024, 64])\n"
     ]
    },
    {
     "name": "stderr",
     "output_type": "stream",
     "text": [
      " 12%|█▏        | 121/999 [1:40:49<12:33:20, 51.48s/it]"
     ]
    },
    {
     "name": "stdout",
     "output_type": "stream",
     "text": [
      "eigenvalues shape torch.Size([5]) eigenvectors shape torch.Size([5, 1024])\n",
      "121 /home/phdcs2/Hard_Disk/Datasets/Deep-Spectral-Segmentation/data/object-segmentation/ECSSD/features/0123_resized.pth\n",
      "dict_keys(['k', 'indices', 'file', 'id', 'model_name', 'patch_size', 'shape'])\n",
      "0123_resized\n",
      "Starting Training\n",
      "epoch: 00, loss: -0.91135\n",
      "epoch: 01, loss: -0.94423\n",
      "epoch: 02, loss: -0.95264\n",
      "epoch: 03, loss: -0.95759\n",
      "epoch: 04, loss: -0.96099\n",
      "epoch: 05, loss: -0.96355\n",
      "epoch: 06, loss: -0.96555\n",
      "epoch: 07, loss: -0.96720\n",
      "epoch: 08, loss: -0.96858\n",
      "epoch: 09, loss: -0.96976\n",
      "torch.Size([1024, 64])\n"
     ]
    },
    {
     "name": "stderr",
     "output_type": "stream",
     "text": [
      " 12%|█▏        | 122/999 [1:41:35<12:08:48, 49.86s/it]"
     ]
    },
    {
     "name": "stdout",
     "output_type": "stream",
     "text": [
      "eigenvalues shape torch.Size([5]) eigenvectors shape torch.Size([5, 1024])\n",
      "122 /home/phdcs2/Hard_Disk/Datasets/Deep-Spectral-Segmentation/data/object-segmentation/ECSSD/features/0124_resized.pth\n",
      "dict_keys(['k', 'indices', 'file', 'id', 'model_name', 'patch_size', 'shape'])\n",
      "0124_resized\n",
      "Starting Training\n",
      "epoch: 00, loss: -0.92371\n",
      "epoch: 01, loss: -0.95536\n",
      "epoch: 02, loss: -0.96240\n",
      "epoch: 03, loss: -0.96643\n",
      "epoch: 04, loss: -0.96920\n",
      "epoch: 05, loss: -0.97123\n",
      "epoch: 06, loss: -0.97285\n",
      "epoch: 07, loss: -0.97414\n",
      "epoch: 08, loss: -0.97522\n",
      "epoch: 09, loss: -0.97615\n",
      "torch.Size([1024, 64])\n"
     ]
    },
    {
     "name": "stderr",
     "output_type": "stream",
     "text": [
      " 12%|█▏        | 123/999 [1:42:31<12:37:57, 51.92s/it]"
     ]
    },
    {
     "name": "stdout",
     "output_type": "stream",
     "text": [
      "eigenvalues shape torch.Size([5]) eigenvectors shape torch.Size([5, 1024])\n",
      "123 /home/phdcs2/Hard_Disk/Datasets/Deep-Spectral-Segmentation/data/object-segmentation/ECSSD/features/0125_resized.pth\n",
      "dict_keys(['k', 'indices', 'file', 'id', 'model_name', 'patch_size', 'shape'])\n",
      "0125_resized\n",
      "Starting Training\n",
      "epoch: 00, loss: -0.92427\n",
      "epoch: 01, loss: -0.95820\n",
      "epoch: 02, loss: -0.96440\n",
      "epoch: 03, loss: -0.96798\n",
      "epoch: 04, loss: -0.97043\n",
      "epoch: 05, loss: -0.97226\n",
      "epoch: 06, loss: -0.97369\n",
      "epoch: 07, loss: -0.97487\n",
      "epoch: 08, loss: -0.97585\n",
      "epoch: 09, loss: -0.97669\n",
      "torch.Size([1024, 64])\n"
     ]
    },
    {
     "name": "stderr",
     "output_type": "stream",
     "text": [
      " 12%|█▏        | 124/999 [1:43:23<12:36:13, 51.86s/it]"
     ]
    },
    {
     "name": "stdout",
     "output_type": "stream",
     "text": [
      "eigenvalues shape torch.Size([5]) eigenvectors shape torch.Size([5, 1024])\n",
      "124 /home/phdcs2/Hard_Disk/Datasets/Deep-Spectral-Segmentation/data/object-segmentation/ECSSD/features/0126_resized.pth\n",
      "dict_keys(['k', 'indices', 'file', 'id', 'model_name', 'patch_size', 'shape'])\n",
      "0126_resized\n",
      "Starting Training\n",
      "epoch: 00, loss: -0.91431\n",
      "epoch: 01, loss: -0.94823\n",
      "epoch: 02, loss: -0.95640\n",
      "epoch: 03, loss: -0.96117\n",
      "epoch: 04, loss: -0.96443\n",
      "epoch: 05, loss: -0.96687\n",
      "epoch: 06, loss: -0.96875\n",
      "epoch: 07, loss: -0.97031\n",
      "epoch: 08, loss: -0.97159\n",
      "epoch: 09, loss: -0.97271\n",
      "torch.Size([1024, 64])\n"
     ]
    },
    {
     "name": "stderr",
     "output_type": "stream",
     "text": [
      " 13%|█▎        | 125/999 [1:44:12<12:24:19, 51.10s/it]"
     ]
    },
    {
     "name": "stdout",
     "output_type": "stream",
     "text": [
      "eigenvalues shape torch.Size([5]) eigenvectors shape torch.Size([5, 1024])\n",
      "125 /home/phdcs2/Hard_Disk/Datasets/Deep-Spectral-Segmentation/data/object-segmentation/ECSSD/features/0127_resized.pth\n",
      "dict_keys(['k', 'indices', 'file', 'id', 'model_name', 'patch_size', 'shape'])\n",
      "0127_resized\n",
      "Starting Training\n",
      "epoch: 00, loss: -0.87399\n",
      "epoch: 01, loss: -0.92466\n",
      "epoch: 02, loss: -0.93771\n",
      "epoch: 03, loss: -0.94539\n",
      "epoch: 04, loss: -0.95036\n",
      "epoch: 05, loss: -0.95418\n",
      "epoch: 06, loss: -0.95706\n",
      "epoch: 07, loss: -0.95924\n",
      "epoch: 08, loss: -0.96124\n",
      "epoch: 09, loss: -0.96285\n",
      "torch.Size([1024, 64])\n"
     ]
    },
    {
     "name": "stderr",
     "output_type": "stream",
     "text": [
      " 13%|█▎        | 126/999 [1:45:04<12:27:47, 51.39s/it]"
     ]
    },
    {
     "name": "stdout",
     "output_type": "stream",
     "text": [
      "eigenvalues shape torch.Size([5]) eigenvectors shape torch.Size([5, 1024])\n",
      "126 /home/phdcs2/Hard_Disk/Datasets/Deep-Spectral-Segmentation/data/object-segmentation/ECSSD/features/0128_resized.pth\n",
      "dict_keys(['k', 'indices', 'file', 'id', 'model_name', 'patch_size', 'shape'])\n",
      "0128_resized\n",
      "Starting Training\n",
      "epoch: 00, loss: -0.90036\n",
      "epoch: 01, loss: -0.94082\n",
      "epoch: 02, loss: -0.95031\n",
      "epoch: 03, loss: -0.95564\n",
      "epoch: 04, loss: -0.95951\n",
      "epoch: 05, loss: -0.96215\n",
      "epoch: 06, loss: -0.96436\n",
      "epoch: 07, loss: -0.96619\n",
      "epoch: 08, loss: -0.96761\n",
      "epoch: 09, loss: -0.96893\n",
      "torch.Size([1024, 64])\n"
     ]
    },
    {
     "name": "stderr",
     "output_type": "stream",
     "text": [
      " 13%|█▎        | 127/999 [1:45:52<12:10:34, 50.27s/it]"
     ]
    },
    {
     "name": "stdout",
     "output_type": "stream",
     "text": [
      "eigenvalues shape torch.Size([5]) eigenvectors shape torch.Size([5, 1024])\n",
      "127 /home/phdcs2/Hard_Disk/Datasets/Deep-Spectral-Segmentation/data/object-segmentation/ECSSD/features/0129_resized.pth\n",
      "dict_keys(['k', 'indices', 'file', 'id', 'model_name', 'patch_size', 'shape'])\n",
      "0129_resized\n",
      "Starting Training\n",
      "epoch: 00, loss: -0.90911\n",
      "epoch: 01, loss: -0.94608\n",
      "epoch: 02, loss: -0.95474\n",
      "epoch: 03, loss: -0.95982\n",
      "epoch: 04, loss: -0.96334\n",
      "epoch: 05, loss: -0.96584\n",
      "epoch: 06, loss: -0.96774\n",
      "epoch: 07, loss: -0.96933\n",
      "epoch: 08, loss: -0.97068\n",
      "epoch: 09, loss: -0.97180\n",
      "torch.Size([1024, 64])\n"
     ]
    },
    {
     "name": "stderr",
     "output_type": "stream",
     "text": [
      " 13%|█▎        | 128/999 [1:46:39<11:54:53, 49.25s/it]"
     ]
    },
    {
     "name": "stdout",
     "output_type": "stream",
     "text": [
      "eigenvalues shape torch.Size([5]) eigenvectors shape torch.Size([5, 1024])\n",
      "128 /home/phdcs2/Hard_Disk/Datasets/Deep-Spectral-Segmentation/data/object-segmentation/ECSSD/features/0130_resized.pth\n",
      "dict_keys(['k', 'indices', 'file', 'id', 'model_name', 'patch_size', 'shape'])\n",
      "0130_resized\n",
      "Starting Training\n",
      "epoch: 00, loss: -0.91404\n",
      "epoch: 01, loss: -0.94899\n",
      "epoch: 02, loss: -0.95723\n",
      "epoch: 03, loss: -0.96190\n",
      "epoch: 04, loss: -0.96506\n",
      "epoch: 05, loss: -0.96742\n",
      "epoch: 06, loss: -0.96923\n",
      "epoch: 07, loss: -0.97071\n",
      "epoch: 08, loss: -0.97197\n",
      "epoch: 09, loss: -0.97302\n",
      "torch.Size([1024, 64])\n"
     ]
    },
    {
     "name": "stderr",
     "output_type": "stream",
     "text": [
      " 13%|█▎        | 129/999 [1:47:34<12:19:58, 51.03s/it]"
     ]
    },
    {
     "name": "stdout",
     "output_type": "stream",
     "text": [
      "eigenvalues shape torch.Size([5]) eigenvectors shape torch.Size([5, 1024])\n",
      "129 /home/phdcs2/Hard_Disk/Datasets/Deep-Spectral-Segmentation/data/object-segmentation/ECSSD/features/0131_resized.pth\n",
      "dict_keys(['k', 'indices', 'file', 'id', 'model_name', 'patch_size', 'shape'])\n",
      "0131_resized\n",
      "Starting Training\n",
      "epoch: 00, loss: -0.92878\n",
      "epoch: 01, loss: -0.95921\n",
      "epoch: 02, loss: -0.96583\n",
      "epoch: 03, loss: -0.96957\n",
      "epoch: 04, loss: -0.97211\n",
      "epoch: 05, loss: -0.97406\n",
      "epoch: 06, loss: -0.97554\n",
      "epoch: 07, loss: -0.97674\n",
      "epoch: 08, loss: -0.97777\n",
      "epoch: 09, loss: -0.97863\n",
      "torch.Size([1024, 64])\n"
     ]
    },
    {
     "name": "stderr",
     "output_type": "stream",
     "text": [
      " 13%|█▎        | 130/999 [1:48:26<12:22:11, 51.24s/it]"
     ]
    },
    {
     "name": "stdout",
     "output_type": "stream",
     "text": [
      "eigenvalues shape torch.Size([5]) eigenvectors shape torch.Size([5, 1024])\n",
      "130 /home/phdcs2/Hard_Disk/Datasets/Deep-Spectral-Segmentation/data/object-segmentation/ECSSD/features/0132_resized.pth\n",
      "dict_keys(['k', 'indices', 'file', 'id', 'model_name', 'patch_size', 'shape'])\n",
      "0132_resized\n",
      "Starting Training\n",
      "epoch: 00, loss: -0.91851\n",
      "epoch: 01, loss: -0.95480\n",
      "epoch: 02, loss: -0.96224\n",
      "epoch: 03, loss: -0.96651\n",
      "epoch: 04, loss: -0.96936\n",
      "epoch: 05, loss: -0.97152\n",
      "epoch: 06, loss: -0.97316\n",
      "epoch: 07, loss: -0.97450\n",
      "epoch: 08, loss: -0.97564\n",
      "epoch: 09, loss: -0.97660\n",
      "torch.Size([1024, 64])\n"
     ]
    },
    {
     "name": "stderr",
     "output_type": "stream",
     "text": [
      " 13%|█▎        | 131/999 [1:49:19<12:29:12, 51.79s/it]"
     ]
    },
    {
     "name": "stdout",
     "output_type": "stream",
     "text": [
      "eigenvalues shape torch.Size([5]) eigenvectors shape torch.Size([5, 1024])\n",
      "131 /home/phdcs2/Hard_Disk/Datasets/Deep-Spectral-Segmentation/data/object-segmentation/ECSSD/features/0133_resized.pth\n",
      "dict_keys(['k', 'indices', 'file', 'id', 'model_name', 'patch_size', 'shape'])\n",
      "0133_resized\n",
      "Starting Training\n",
      "epoch: 00, loss: -0.92271\n",
      "epoch: 01, loss: -0.95086\n",
      "epoch: 02, loss: -0.95769\n",
      "epoch: 03, loss: -0.96169\n",
      "epoch: 04, loss: -0.96449\n",
      "epoch: 05, loss: -0.96663\n",
      "epoch: 06, loss: -0.96834\n",
      "epoch: 07, loss: -0.96976\n",
      "epoch: 08, loss: -0.97096\n",
      "epoch: 09, loss: -0.97197\n",
      "torch.Size([1024, 64])\n"
     ]
    },
    {
     "name": "stderr",
     "output_type": "stream",
     "text": [
      " 13%|█▎        | 132/999 [1:50:06<12:07:10, 50.32s/it]"
     ]
    },
    {
     "name": "stdout",
     "output_type": "stream",
     "text": [
      "eigenvalues shape torch.Size([5]) eigenvectors shape torch.Size([5, 1024])\n",
      "132 /home/phdcs2/Hard_Disk/Datasets/Deep-Spectral-Segmentation/data/object-segmentation/ECSSD/features/0134_resized.pth\n",
      "dict_keys(['k', 'indices', 'file', 'id', 'model_name', 'patch_size', 'shape'])\n",
      "0134_resized\n",
      "Starting Training\n",
      "epoch: 00, loss: -0.92915\n",
      "epoch: 01, loss: -0.95622\n",
      "epoch: 02, loss: -0.96293\n",
      "epoch: 03, loss: -0.96688\n",
      "epoch: 04, loss: -0.96952\n",
      "epoch: 05, loss: -0.97155\n",
      "epoch: 06, loss: -0.97307\n",
      "epoch: 07, loss: -0.97435\n",
      "epoch: 08, loss: -0.97541\n",
      "epoch: 09, loss: -0.97634\n",
      "torch.Size([1024, 64])\n"
     ]
    },
    {
     "name": "stderr",
     "output_type": "stream",
     "text": [
      " 13%|█▎        | 133/999 [1:50:53<11:50:55, 49.26s/it]"
     ]
    },
    {
     "name": "stdout",
     "output_type": "stream",
     "text": [
      "eigenvalues shape torch.Size([5]) eigenvectors shape torch.Size([5, 1024])\n",
      "133 /home/phdcs2/Hard_Disk/Datasets/Deep-Spectral-Segmentation/data/object-segmentation/ECSSD/features/0135_resized.pth\n",
      "dict_keys(['k', 'indices', 'file', 'id', 'model_name', 'patch_size', 'shape'])\n",
      "0135_resized\n",
      "Starting Training\n",
      "epoch: 00, loss: -0.89423\n",
      "epoch: 01, loss: -0.93667\n",
      "epoch: 02, loss: -0.94720\n",
      "epoch: 03, loss: -0.95300\n",
      "epoch: 04, loss: -0.95710\n",
      "epoch: 05, loss: -0.96004\n",
      "epoch: 06, loss: -0.96230\n",
      "epoch: 07, loss: -0.96411\n",
      "epoch: 08, loss: -0.96569\n",
      "epoch: 09, loss: -0.96703\n",
      "torch.Size([1024, 64])\n"
     ]
    },
    {
     "name": "stderr",
     "output_type": "stream",
     "text": [
      " 13%|█▎        | 134/999 [1:51:44<11:59:42, 49.92s/it]"
     ]
    },
    {
     "name": "stdout",
     "output_type": "stream",
     "text": [
      "eigenvalues shape torch.Size([5]) eigenvectors shape torch.Size([5, 1024])\n",
      "134 /home/phdcs2/Hard_Disk/Datasets/Deep-Spectral-Segmentation/data/object-segmentation/ECSSD/features/0136_resized.pth\n",
      "dict_keys(['k', 'indices', 'file', 'id', 'model_name', 'patch_size', 'shape'])\n",
      "0136_resized\n",
      "Starting Training\n",
      "epoch: 00, loss: -0.90413\n",
      "epoch: 01, loss: -0.94244\n",
      "epoch: 02, loss: -0.95170\n",
      "epoch: 03, loss: -0.95678\n",
      "epoch: 04, loss: -0.96024\n",
      "epoch: 05, loss: -0.96286\n",
      "epoch: 06, loss: -0.96487\n",
      "epoch: 07, loss: -0.96653\n",
      "epoch: 08, loss: -0.96786\n",
      "epoch: 09, loss: -0.96895\n",
      "torch.Size([1024, 64])\n"
     ]
    },
    {
     "name": "stderr",
     "output_type": "stream",
     "text": [
      " 14%|█▎        | 135/999 [1:52:27<11:28:21, 47.80s/it]"
     ]
    },
    {
     "name": "stdout",
     "output_type": "stream",
     "text": [
      "eigenvalues shape torch.Size([5]) eigenvectors shape torch.Size([5, 1024])\n",
      "135 /home/phdcs2/Hard_Disk/Datasets/Deep-Spectral-Segmentation/data/object-segmentation/ECSSD/features/0137_resized.pth\n",
      "dict_keys(['k', 'indices', 'file', 'id', 'model_name', 'patch_size', 'shape'])\n",
      "0137_resized\n",
      "Starting Training\n",
      "epoch: 00, loss: -0.93724\n",
      "epoch: 01, loss: -0.96229\n",
      "epoch: 02, loss: -0.96777\n",
      "epoch: 03, loss: -0.97096\n",
      "epoch: 04, loss: -0.97313\n",
      "epoch: 05, loss: -0.97480\n",
      "epoch: 06, loss: -0.97607\n",
      "epoch: 07, loss: -0.97715\n",
      "epoch: 08, loss: -0.97804\n",
      "epoch: 09, loss: -0.97880\n",
      "torch.Size([1024, 64])\n"
     ]
    },
    {
     "name": "stderr",
     "output_type": "stream",
     "text": [
      " 14%|█▎        | 136/999 [1:53:16<11:32:28, 48.14s/it]"
     ]
    },
    {
     "name": "stdout",
     "output_type": "stream",
     "text": [
      "eigenvalues shape torch.Size([5]) eigenvectors shape torch.Size([5, 1024])\n",
      "136 /home/phdcs2/Hard_Disk/Datasets/Deep-Spectral-Segmentation/data/object-segmentation/ECSSD/features/0138_resized.pth\n",
      "dict_keys(['k', 'indices', 'file', 'id', 'model_name', 'patch_size', 'shape'])\n",
      "0138_resized\n",
      "Starting Training\n",
      "epoch: 00, loss: -0.93502\n",
      "epoch: 01, loss: -0.96089\n",
      "epoch: 02, loss: -0.96694\n",
      "epoch: 03, loss: -0.97046\n",
      "epoch: 04, loss: -0.97296\n",
      "epoch: 05, loss: -0.97473\n",
      "epoch: 06, loss: -0.97614\n",
      "epoch: 07, loss: -0.97731\n",
      "epoch: 08, loss: -0.97826\n",
      "epoch: 09, loss: -0.97911\n",
      "torch.Size([1024, 64])\n"
     ]
    },
    {
     "name": "stderr",
     "output_type": "stream",
     "text": [
      " 14%|█▎        | 137/999 [1:53:59<11:11:49, 46.76s/it]"
     ]
    },
    {
     "name": "stdout",
     "output_type": "stream",
     "text": [
      "eigenvalues shape torch.Size([5]) eigenvectors shape torch.Size([5, 1024])\n",
      "137 /home/phdcs2/Hard_Disk/Datasets/Deep-Spectral-Segmentation/data/object-segmentation/ECSSD/features/0139_resized.pth\n",
      "dict_keys(['k', 'indices', 'file', 'id', 'model_name', 'patch_size', 'shape'])\n",
      "0139_resized\n",
      "Starting Training\n",
      "epoch: 00, loss: -0.88436\n",
      "epoch: 01, loss: -0.93115\n",
      "epoch: 02, loss: -0.94317\n",
      "epoch: 03, loss: -0.94994\n",
      "epoch: 04, loss: -0.95464\n",
      "epoch: 05, loss: -0.95795\n",
      "epoch: 06, loss: -0.96075\n",
      "epoch: 07, loss: -0.96278\n",
      "epoch: 08, loss: -0.96451\n",
      "epoch: 09, loss: -0.96592\n",
      "torch.Size([1024, 64])\n"
     ]
    },
    {
     "name": "stderr",
     "output_type": "stream",
     "text": [
      " 14%|█▍        | 138/999 [1:54:46<11:09:39, 46.67s/it]"
     ]
    },
    {
     "name": "stdout",
     "output_type": "stream",
     "text": [
      "eigenvalues shape torch.Size([5]) eigenvectors shape torch.Size([5, 1024])\n",
      "138 /home/phdcs2/Hard_Disk/Datasets/Deep-Spectral-Segmentation/data/object-segmentation/ECSSD/features/0140_resized.pth\n",
      "dict_keys(['k', 'indices', 'file', 'id', 'model_name', 'patch_size', 'shape'])\n",
      "0140_resized\n",
      "Starting Training\n",
      "epoch: 00, loss: -0.87033\n",
      "epoch: 01, loss: -0.92290\n",
      "epoch: 02, loss: -0.93626\n",
      "epoch: 03, loss: -0.94389\n",
      "epoch: 04, loss: -0.94901\n",
      "epoch: 05, loss: -0.95273\n",
      "epoch: 06, loss: -0.95555\n",
      "epoch: 07, loss: -0.95793\n",
      "epoch: 08, loss: -0.95991\n",
      "epoch: 09, loss: -0.96160\n",
      "torch.Size([1024, 64])\n"
     ]
    },
    {
     "name": "stderr",
     "output_type": "stream",
     "text": [
      " 14%|█▍        | 139/999 [1:55:39<11:35:58, 48.56s/it]"
     ]
    },
    {
     "name": "stdout",
     "output_type": "stream",
     "text": [
      "eigenvalues shape torch.Size([5]) eigenvectors shape torch.Size([5, 1024])\n",
      "139 /home/phdcs2/Hard_Disk/Datasets/Deep-Spectral-Segmentation/data/object-segmentation/ECSSD/features/0141_resized.pth\n",
      "dict_keys(['k', 'indices', 'file', 'id', 'model_name', 'patch_size', 'shape'])\n",
      "0141_resized\n",
      "Starting Training\n",
      "epoch: 00, loss: -0.91195\n",
      "epoch: 01, loss: -0.94775\n",
      "epoch: 02, loss: -0.95603\n",
      "epoch: 03, loss: -0.96081\n",
      "epoch: 04, loss: -0.96408\n",
      "epoch: 05, loss: -0.96647\n",
      "epoch: 06, loss: -0.96836\n",
      "epoch: 07, loss: -0.96987\n",
      "epoch: 08, loss: -0.97115\n",
      "epoch: 09, loss: -0.97225\n",
      "torch.Size([1024, 64])\n"
     ]
    },
    {
     "name": "stderr",
     "output_type": "stream",
     "text": [
      " 14%|█▍        | 140/999 [1:56:28<11:36:28, 48.65s/it]"
     ]
    },
    {
     "name": "stdout",
     "output_type": "stream",
     "text": [
      "eigenvalues shape torch.Size([5]) eigenvectors shape torch.Size([5, 1024])\n",
      "140 /home/phdcs2/Hard_Disk/Datasets/Deep-Spectral-Segmentation/data/object-segmentation/ECSSD/features/0142_resized.pth\n",
      "dict_keys(['k', 'indices', 'file', 'id', 'model_name', 'patch_size', 'shape'])\n",
      "0142_resized\n",
      "Starting Training\n",
      "epoch: 00, loss: -0.91768\n",
      "epoch: 01, loss: -0.95107\n",
      "epoch: 02, loss: -0.95817\n",
      "epoch: 03, loss: -0.96232\n",
      "epoch: 04, loss: -0.96522\n",
      "epoch: 05, loss: -0.96736\n",
      "epoch: 06, loss: -0.96908\n",
      "epoch: 07, loss: -0.97048\n",
      "epoch: 08, loss: -0.97168\n",
      "epoch: 09, loss: -0.97265\n",
      "torch.Size([1024, 64])\n"
     ]
    },
    {
     "name": "stderr",
     "output_type": "stream",
     "text": [
      " 14%|█▍        | 141/999 [1:57:09<11:05:42, 46.55s/it]"
     ]
    },
    {
     "name": "stdout",
     "output_type": "stream",
     "text": [
      "eigenvalues shape torch.Size([5]) eigenvectors shape torch.Size([5, 1024])\n",
      "141 /home/phdcs2/Hard_Disk/Datasets/Deep-Spectral-Segmentation/data/object-segmentation/ECSSD/features/0143_resized.pth\n",
      "dict_keys(['k', 'indices', 'file', 'id', 'model_name', 'patch_size', 'shape'])\n",
      "0143_resized\n",
      "Starting Training\n",
      "epoch: 00, loss: -0.90525\n",
      "epoch: 01, loss: -0.94221\n",
      "epoch: 02, loss: -0.95160\n",
      "epoch: 03, loss: -0.95721\n",
      "epoch: 04, loss: -0.96095\n",
      "epoch: 05, loss: -0.96372\n",
      "epoch: 06, loss: -0.96596\n",
      "epoch: 07, loss: -0.96765\n",
      "epoch: 08, loss: -0.96913\n",
      "epoch: 09, loss: -0.97036\n",
      "torch.Size([1024, 64])\n"
     ]
    },
    {
     "name": "stderr",
     "output_type": "stream",
     "text": [
      " 14%|█▍        | 142/999 [1:58:02<11:31:09, 48.39s/it]"
     ]
    },
    {
     "name": "stdout",
     "output_type": "stream",
     "text": [
      "eigenvalues shape torch.Size([5]) eigenvectors shape torch.Size([5, 1024])\n",
      "142 /home/phdcs2/Hard_Disk/Datasets/Deep-Spectral-Segmentation/data/object-segmentation/ECSSD/features/0144_resized.pth\n",
      "dict_keys(['k', 'indices', 'file', 'id', 'model_name', 'patch_size', 'shape'])\n",
      "0144_resized\n",
      "Starting Training\n",
      "epoch: 00, loss: -0.88609\n",
      "epoch: 01, loss: -0.93292\n",
      "epoch: 02, loss: -0.94264\n",
      "epoch: 03, loss: -0.94775\n",
      "epoch: 04, loss: -0.95048\n",
      "epoch: 05, loss: -0.95332\n",
      "epoch: 06, loss: -0.95445\n",
      "epoch: 07, loss: -0.95550\n",
      "epoch: 08, loss: -0.95669\n",
      "epoch: 09, loss: -0.95732\n",
      "torch.Size([1024, 64])\n"
     ]
    },
    {
     "name": "stderr",
     "output_type": "stream",
     "text": [
      " 14%|█▍        | 143/999 [1:58:51<11:31:39, 48.48s/it]"
     ]
    },
    {
     "name": "stdout",
     "output_type": "stream",
     "text": [
      "eigenvalues shape torch.Size([5]) eigenvectors shape torch.Size([5, 1024])\n",
      "143 /home/phdcs2/Hard_Disk/Datasets/Deep-Spectral-Segmentation/data/object-segmentation/ECSSD/features/0145_resized.pth\n",
      "dict_keys(['k', 'indices', 'file', 'id', 'model_name', 'patch_size', 'shape'])\n",
      "0145_resized\n",
      "Starting Training\n",
      "epoch: 00, loss: -0.92758\n",
      "epoch: 01, loss: -0.95809\n",
      "epoch: 02, loss: -0.96502\n",
      "epoch: 03, loss: -0.96897\n",
      "epoch: 04, loss: -0.97160\n",
      "epoch: 05, loss: -0.97358\n",
      "epoch: 06, loss: -0.97511\n",
      "epoch: 07, loss: -0.97638\n",
      "epoch: 08, loss: -0.97740\n",
      "epoch: 09, loss: -0.97831\n",
      "torch.Size([1024, 64])\n"
     ]
    },
    {
     "name": "stderr",
     "output_type": "stream",
     "text": [
      " 14%|█▍        | 144/999 [1:59:31<10:56:14, 46.05s/it]"
     ]
    },
    {
     "name": "stdout",
     "output_type": "stream",
     "text": [
      "eigenvalues shape torch.Size([5]) eigenvectors shape torch.Size([5, 1024])\n",
      "144 /home/phdcs2/Hard_Disk/Datasets/Deep-Spectral-Segmentation/data/object-segmentation/ECSSD/features/0146_resized.pth\n",
      "dict_keys(['k', 'indices', 'file', 'id', 'model_name', 'patch_size', 'shape'])\n",
      "0146_resized\n",
      "Starting Training\n",
      "epoch: 00, loss: -0.87456\n",
      "epoch: 01, loss: -0.92690\n",
      "epoch: 02, loss: -0.94007\n",
      "epoch: 03, loss: -0.94756\n",
      "epoch: 04, loss: -0.95243\n",
      "epoch: 05, loss: -0.95609\n",
      "epoch: 06, loss: -0.95888\n",
      "epoch: 07, loss: -0.96117\n",
      "epoch: 08, loss: -0.96298\n",
      "epoch: 09, loss: -0.96458\n",
      "torch.Size([1024, 64])\n"
     ]
    },
    {
     "name": "stderr",
     "output_type": "stream",
     "text": [
      " 15%|█▍        | 145/999 [2:00:27<11:35:55, 48.89s/it]"
     ]
    },
    {
     "name": "stdout",
     "output_type": "stream",
     "text": [
      "eigenvalues shape torch.Size([5]) eigenvectors shape torch.Size([5, 1024])\n",
      "145 /home/phdcs2/Hard_Disk/Datasets/Deep-Spectral-Segmentation/data/object-segmentation/ECSSD/features/0147_resized.pth\n",
      "dict_keys(['k', 'indices', 'file', 'id', 'model_name', 'patch_size', 'shape'])\n",
      "0147_resized\n",
      "Starting Training\n",
      "epoch: 00, loss: -0.85641\n",
      "epoch: 01, loss: -0.91795\n",
      "epoch: 02, loss: -0.93234\n",
      "epoch: 03, loss: -0.94023\n",
      "epoch: 04, loss: -0.94558\n",
      "epoch: 05, loss: -0.94965\n",
      "epoch: 06, loss: -0.95268\n",
      "epoch: 07, loss: -0.95507\n",
      "epoch: 08, loss: -0.95710\n",
      "epoch: 09, loss: -0.95867\n",
      "torch.Size([1024, 64])\n"
     ]
    },
    {
     "name": "stderr",
     "output_type": "stream",
     "text": [
      " 15%|█▍        | 146/999 [2:01:18<11:45:30, 49.63s/it]"
     ]
    },
    {
     "name": "stdout",
     "output_type": "stream",
     "text": [
      "eigenvalues shape torch.Size([5]) eigenvectors shape torch.Size([5, 1024])\n",
      "146 /home/phdcs2/Hard_Disk/Datasets/Deep-Spectral-Segmentation/data/object-segmentation/ECSSD/features/0148_resized.pth\n",
      "dict_keys(['k', 'indices', 'file', 'id', 'model_name', 'patch_size', 'shape'])\n",
      "0148_resized\n",
      "Starting Training\n",
      "epoch: 00, loss: -0.91715\n",
      "epoch: 01, loss: -0.94943\n",
      "epoch: 02, loss: -0.95690\n",
      "epoch: 03, loss: -0.96138\n",
      "epoch: 04, loss: -0.96445\n",
      "epoch: 05, loss: -0.96677\n",
      "epoch: 06, loss: -0.96851\n",
      "epoch: 07, loss: -0.96998\n",
      "epoch: 08, loss: -0.97123\n",
      "epoch: 09, loss: -0.97227\n",
      "torch.Size([1024, 64])\n"
     ]
    },
    {
     "name": "stderr",
     "output_type": "stream",
     "text": [
      " 15%|█▍        | 147/999 [2:02:08<11:46:21, 49.74s/it]"
     ]
    },
    {
     "name": "stdout",
     "output_type": "stream",
     "text": [
      "eigenvalues shape torch.Size([5]) eigenvectors shape torch.Size([5, 1024])\n",
      "147 /home/phdcs2/Hard_Disk/Datasets/Deep-Spectral-Segmentation/data/object-segmentation/ECSSD/features/0149_resized.pth\n",
      "dict_keys(['k', 'indices', 'file', 'id', 'model_name', 'patch_size', 'shape'])\n",
      "0149_resized\n",
      "Starting Training\n",
      "epoch: 00, loss: -0.92887\n",
      "epoch: 01, loss: -0.95736\n",
      "epoch: 02, loss: -0.96379\n",
      "epoch: 03, loss: -0.96749\n",
      "epoch: 04, loss: -0.97003\n",
      "epoch: 05, loss: -0.97191\n",
      "epoch: 06, loss: -0.97342\n",
      "epoch: 07, loss: -0.97463\n",
      "epoch: 08, loss: -0.97565\n",
      "epoch: 09, loss: -0.97650\n",
      "torch.Size([1024, 64])\n"
     ]
    },
    {
     "name": "stderr",
     "output_type": "stream",
     "text": [
      " 15%|█▍        | 148/999 [2:03:00<11:56:43, 50.53s/it]"
     ]
    },
    {
     "name": "stdout",
     "output_type": "stream",
     "text": [
      "eigenvalues shape torch.Size([5]) eigenvectors shape torch.Size([5, 1024])\n",
      "148 /home/phdcs2/Hard_Disk/Datasets/Deep-Spectral-Segmentation/data/object-segmentation/ECSSD/features/0150_resized.pth\n",
      "dict_keys(['k', 'indices', 'file', 'id', 'model_name', 'patch_size', 'shape'])\n",
      "0150_resized\n",
      "Starting Training\n",
      "epoch: 00, loss: -0.92004\n",
      "epoch: 01, loss: -0.94850\n",
      "epoch: 02, loss: -0.95578\n",
      "epoch: 03, loss: -0.96009\n",
      "epoch: 04, loss: -0.96303\n",
      "epoch: 05, loss: -0.96528\n",
      "epoch: 06, loss: -0.96702\n",
      "epoch: 07, loss: -0.96847\n",
      "epoch: 08, loss: -0.96969\n",
      "epoch: 09, loss: -0.97072\n",
      "torch.Size([1024, 64])\n"
     ]
    },
    {
     "name": "stderr",
     "output_type": "stream",
     "text": [
      " 15%|█▍        | 149/999 [2:03:50<11:52:36, 50.30s/it]"
     ]
    },
    {
     "name": "stdout",
     "output_type": "stream",
     "text": [
      "eigenvalues shape torch.Size([5]) eigenvectors shape torch.Size([5, 1024])\n",
      "149 /home/phdcs2/Hard_Disk/Datasets/Deep-Spectral-Segmentation/data/object-segmentation/ECSSD/features/0151_resized.pth\n",
      "dict_keys(['k', 'indices', 'file', 'id', 'model_name', 'patch_size', 'shape'])\n",
      "0151_resized\n",
      "Starting Training\n",
      "epoch: 00, loss: -0.90391\n",
      "epoch: 01, loss: -0.94473\n",
      "epoch: 02, loss: -0.95436\n",
      "epoch: 03, loss: -0.95964\n",
      "epoch: 04, loss: -0.96332\n",
      "epoch: 05, loss: -0.96580\n",
      "epoch: 06, loss: -0.96794\n",
      "epoch: 07, loss: -0.96950\n",
      "epoch: 08, loss: -0.97082\n",
      "epoch: 09, loss: -0.97199\n",
      "torch.Size([1024, 64])\n"
     ]
    },
    {
     "name": "stderr",
     "output_type": "stream",
     "text": [
      " 15%|█▌        | 150/999 [2:04:37<11:36:39, 49.23s/it]"
     ]
    },
    {
     "name": "stdout",
     "output_type": "stream",
     "text": [
      "eigenvalues shape torch.Size([5]) eigenvectors shape torch.Size([5, 1024])\n",
      "150 /home/phdcs2/Hard_Disk/Datasets/Deep-Spectral-Segmentation/data/object-segmentation/ECSSD/features/0152_resized.pth\n",
      "dict_keys(['k', 'indices', 'file', 'id', 'model_name', 'patch_size', 'shape'])\n",
      "0152_resized\n",
      "Starting Training\n",
      "epoch: 00, loss: -0.92601\n",
      "epoch: 01, loss: -0.95349\n",
      "epoch: 02, loss: -0.96024\n",
      "epoch: 03, loss: -0.96422\n",
      "epoch: 04, loss: -0.96699\n",
      "epoch: 05, loss: -0.96907\n",
      "epoch: 06, loss: -0.97069\n",
      "epoch: 07, loss: -0.97204\n",
      "epoch: 08, loss: -0.97319\n",
      "epoch: 09, loss: -0.97416\n",
      "torch.Size([1024, 64])\n"
     ]
    },
    {
     "name": "stderr",
     "output_type": "stream",
     "text": [
      " 15%|█▌        | 151/999 [2:05:23<11:20:58, 48.18s/it]"
     ]
    },
    {
     "name": "stdout",
     "output_type": "stream",
     "text": [
      "eigenvalues shape torch.Size([5]) eigenvectors shape torch.Size([5, 1024])\n",
      "151 /home/phdcs2/Hard_Disk/Datasets/Deep-Spectral-Segmentation/data/object-segmentation/ECSSD/features/0153_resized.pth\n",
      "dict_keys(['k', 'indices', 'file', 'id', 'model_name', 'patch_size', 'shape'])\n",
      "0153_resized\n",
      "Starting Training\n",
      "epoch: 00, loss: -0.92032\n",
      "epoch: 01, loss: -0.95365\n",
      "epoch: 02, loss: -0.96132\n",
      "epoch: 03, loss: -0.96571\n",
      "epoch: 04, loss: -0.96867\n",
      "epoch: 05, loss: -0.97079\n",
      "epoch: 06, loss: -0.97256\n",
      "epoch: 07, loss: -0.97396\n",
      "epoch: 08, loss: -0.97514\n",
      "epoch: 09, loss: -0.97610\n",
      "torch.Size([1024, 64])\n"
     ]
    },
    {
     "name": "stderr",
     "output_type": "stream",
     "text": [
      " 15%|█▌        | 152/999 [2:06:16<11:42:18, 49.75s/it]"
     ]
    },
    {
     "name": "stdout",
     "output_type": "stream",
     "text": [
      "eigenvalues shape torch.Size([5]) eigenvectors shape torch.Size([5, 1024])\n",
      "152 /home/phdcs2/Hard_Disk/Datasets/Deep-Spectral-Segmentation/data/object-segmentation/ECSSD/features/0154_resized.pth\n",
      "dict_keys(['k', 'indices', 'file', 'id', 'model_name', 'patch_size', 'shape'])\n",
      "0154_resized\n",
      "Starting Training\n",
      "epoch: 00, loss: -0.91191\n",
      "epoch: 01, loss: -0.94768\n",
      "epoch: 02, loss: -0.95656\n",
      "epoch: 03, loss: -0.96157\n",
      "epoch: 04, loss: -0.96503\n",
      "epoch: 05, loss: -0.96762\n",
      "epoch: 06, loss: -0.96961\n",
      "epoch: 07, loss: -0.97112\n",
      "epoch: 08, loss: -0.97244\n",
      "epoch: 09, loss: -0.97357\n",
      "torch.Size([1024, 64])\n"
     ]
    },
    {
     "name": "stderr",
     "output_type": "stream",
     "text": [
      " 15%|█▌        | 153/999 [2:07:06<11:44:04, 49.93s/it]"
     ]
    },
    {
     "name": "stdout",
     "output_type": "stream",
     "text": [
      "eigenvalues shape torch.Size([5]) eigenvectors shape torch.Size([5, 1024])\n",
      "153 /home/phdcs2/Hard_Disk/Datasets/Deep-Spectral-Segmentation/data/object-segmentation/ECSSD/features/0155_resized.pth\n",
      "dict_keys(['k', 'indices', 'file', 'id', 'model_name', 'patch_size', 'shape'])\n",
      "0155_resized\n",
      "Starting Training\n",
      "epoch: 00, loss: -0.87777\n",
      "epoch: 01, loss: -0.92891\n",
      "epoch: 02, loss: -0.94060\n",
      "epoch: 03, loss: -0.94732\n",
      "epoch: 04, loss: -0.95189\n",
      "epoch: 05, loss: -0.95525\n",
      "epoch: 06, loss: -0.95763\n",
      "epoch: 07, loss: -0.95970\n",
      "epoch: 08, loss: -0.96155\n",
      "epoch: 09, loss: -0.96297\n",
      "torch.Size([1024, 64])\n"
     ]
    },
    {
     "name": "stderr",
     "output_type": "stream",
     "text": [
      " 15%|█▌        | 154/999 [2:07:48<11:09:50, 47.56s/it]"
     ]
    },
    {
     "name": "stdout",
     "output_type": "stream",
     "text": [
      "eigenvalues shape torch.Size([5]) eigenvectors shape torch.Size([5, 1024])\n",
      "154 /home/phdcs2/Hard_Disk/Datasets/Deep-Spectral-Segmentation/data/object-segmentation/ECSSD/features/0156_resized.pth\n",
      "dict_keys(['k', 'indices', 'file', 'id', 'model_name', 'patch_size', 'shape'])\n",
      "0156_resized\n",
      "Starting Training\n",
      "epoch: 00, loss: -0.91033\n",
      "epoch: 01, loss: -0.94926\n",
      "epoch: 02, loss: -0.95770\n",
      "epoch: 03, loss: -0.96239\n",
      "epoch: 04, loss: -0.96569\n",
      "epoch: 05, loss: -0.96815\n",
      "epoch: 06, loss: -0.97004\n",
      "epoch: 07, loss: -0.97156\n",
      "epoch: 08, loss: -0.97281\n",
      "epoch: 09, loss: -0.97387\n",
      "torch.Size([1024, 64])\n"
     ]
    },
    {
     "name": "stderr",
     "output_type": "stream",
     "text": [
      " 16%|█▌        | 155/999 [2:08:47<11:54:43, 50.81s/it]"
     ]
    },
    {
     "name": "stdout",
     "output_type": "stream",
     "text": [
      "eigenvalues shape torch.Size([5]) eigenvectors shape torch.Size([5, 1024])\n",
      "155 /home/phdcs2/Hard_Disk/Datasets/Deep-Spectral-Segmentation/data/object-segmentation/ECSSD/features/0157_resized.pth\n",
      "dict_keys(['k', 'indices', 'file', 'id', 'model_name', 'patch_size', 'shape'])\n",
      "0157_resized\n",
      "Starting Training\n",
      "epoch: 00, loss: -0.91764\n",
      "epoch: 01, loss: -0.95064\n",
      "epoch: 02, loss: -0.95814\n",
      "epoch: 03, loss: -0.96240\n",
      "epoch: 04, loss: -0.96536\n",
      "epoch: 05, loss: -0.96759\n",
      "epoch: 06, loss: -0.96928\n",
      "epoch: 07, loss: -0.97068\n",
      "epoch: 08, loss: -0.97185\n",
      "epoch: 09, loss: -0.97288\n",
      "torch.Size([1024, 64])\n"
     ]
    },
    {
     "name": "stderr",
     "output_type": "stream",
     "text": [
      " 16%|█▌        | 156/999 [2:09:41<12:06:15, 51.69s/it]"
     ]
    },
    {
     "name": "stdout",
     "output_type": "stream",
     "text": [
      "eigenvalues shape torch.Size([5]) eigenvectors shape torch.Size([5, 1024])\n",
      "156 /home/phdcs2/Hard_Disk/Datasets/Deep-Spectral-Segmentation/data/object-segmentation/ECSSD/features/0158_resized.pth\n",
      "dict_keys(['k', 'indices', 'file', 'id', 'model_name', 'patch_size', 'shape'])\n",
      "0158_resized\n",
      "Starting Training\n",
      "epoch: 00, loss: -0.95348\n",
      "epoch: 01, loss: -0.97431\n",
      "epoch: 02, loss: -0.97775\n",
      "epoch: 03, loss: -0.97985\n",
      "epoch: 04, loss: -0.98129\n",
      "epoch: 05, loss: -0.98238\n",
      "epoch: 06, loss: -0.98326\n",
      "epoch: 07, loss: -0.98400\n",
      "epoch: 08, loss: -0.98457\n",
      "epoch: 09, loss: -0.98511\n",
      "torch.Size([1024, 64])\n"
     ]
    },
    {
     "name": "stderr",
     "output_type": "stream",
     "text": [
      " 16%|█▌        | 157/999 [2:10:34<12:11:03, 52.09s/it]"
     ]
    },
    {
     "name": "stdout",
     "output_type": "stream",
     "text": [
      "eigenvalues shape torch.Size([5]) eigenvectors shape torch.Size([5, 1024])\n",
      "157 /home/phdcs2/Hard_Disk/Datasets/Deep-Spectral-Segmentation/data/object-segmentation/ECSSD/features/0159_resized.pth\n",
      "dict_keys(['k', 'indices', 'file', 'id', 'model_name', 'patch_size', 'shape'])\n",
      "0159_resized\n",
      "Starting Training\n",
      "epoch: 00, loss: -0.91106\n",
      "epoch: 01, loss: -0.94575\n",
      "epoch: 02, loss: -0.95421\n",
      "epoch: 03, loss: -0.95912\n",
      "epoch: 04, loss: -0.96243\n",
      "epoch: 05, loss: -0.96491\n",
      "epoch: 06, loss: -0.96685\n",
      "epoch: 07, loss: -0.96843\n",
      "epoch: 08, loss: -0.96975\n",
      "epoch: 09, loss: -0.97087\n",
      "torch.Size([1024, 64])\n"
     ]
    },
    {
     "name": "stderr",
     "output_type": "stream",
     "text": [
      " 16%|█▌        | 158/999 [2:11:25<12:06:10, 51.81s/it]"
     ]
    },
    {
     "name": "stdout",
     "output_type": "stream",
     "text": [
      "eigenvalues shape torch.Size([5]) eigenvectors shape torch.Size([5, 1024])\n",
      "158 /home/phdcs2/Hard_Disk/Datasets/Deep-Spectral-Segmentation/data/object-segmentation/ECSSD/features/0160_resized.pth\n",
      "dict_keys(['k', 'indices', 'file', 'id', 'model_name', 'patch_size', 'shape'])\n",
      "0160_resized\n",
      "Starting Training\n",
      "epoch: 00, loss: -0.92452\n",
      "epoch: 01, loss: -0.95548\n",
      "epoch: 02, loss: -0.96261\n",
      "epoch: 03, loss: -0.96670\n",
      "epoch: 04, loss: -0.96950\n",
      "epoch: 05, loss: -0.97161\n",
      "epoch: 06, loss: -0.97324\n",
      "epoch: 07, loss: -0.97457\n",
      "epoch: 08, loss: -0.97570\n",
      "epoch: 09, loss: -0.97664\n",
      "torch.Size([1024, 64])\n"
     ]
    },
    {
     "name": "stderr",
     "output_type": "stream",
     "text": [
      " 16%|█▌        | 159/999 [2:12:11<11:40:07, 50.01s/it]"
     ]
    },
    {
     "name": "stdout",
     "output_type": "stream",
     "text": [
      "eigenvalues shape torch.Size([5]) eigenvectors shape torch.Size([5, 1024])\n",
      "159 /home/phdcs2/Hard_Disk/Datasets/Deep-Spectral-Segmentation/data/object-segmentation/ECSSD/features/0161_resized.pth\n",
      "dict_keys(['k', 'indices', 'file', 'id', 'model_name', 'patch_size', 'shape'])\n",
      "0161_resized\n",
      "Starting Training\n",
      "epoch: 00, loss: -0.91967\n",
      "epoch: 01, loss: -0.95302\n",
      "epoch: 02, loss: -0.96023\n",
      "epoch: 03, loss: -0.96434\n",
      "epoch: 04, loss: -0.96714\n",
      "epoch: 05, loss: -0.96923\n",
      "epoch: 06, loss: -0.97089\n",
      "epoch: 07, loss: -0.97221\n",
      "epoch: 08, loss: -0.97332\n",
      "epoch: 09, loss: -0.97427\n",
      "torch.Size([1024, 64])\n"
     ]
    },
    {
     "name": "stderr",
     "output_type": "stream",
     "text": [
      " 16%|█▌        | 160/999 [2:13:05<11:59:29, 51.45s/it]"
     ]
    },
    {
     "name": "stdout",
     "output_type": "stream",
     "text": [
      "eigenvalues shape torch.Size([5]) eigenvectors shape torch.Size([5, 1024])\n",
      "160 /home/phdcs2/Hard_Disk/Datasets/Deep-Spectral-Segmentation/data/object-segmentation/ECSSD/features/0162_resized.pth\n",
      "dict_keys(['k', 'indices', 'file', 'id', 'model_name', 'patch_size', 'shape'])\n",
      "0162_resized\n",
      "Starting Training\n",
      "epoch: 00, loss: -0.91282\n",
      "epoch: 01, loss: -0.94710\n",
      "epoch: 02, loss: -0.95526\n",
      "epoch: 03, loss: -0.95990\n",
      "epoch: 04, loss: -0.96313\n",
      "epoch: 05, loss: -0.96549\n",
      "epoch: 06, loss: -0.96736\n",
      "epoch: 07, loss: -0.96885\n",
      "epoch: 08, loss: -0.97013\n",
      "epoch: 09, loss: -0.97121\n",
      "torch.Size([1024, 64])\n"
     ]
    },
    {
     "name": "stderr",
     "output_type": "stream",
     "text": [
      " 16%|█▌        | 161/999 [2:13:52<11:36:48, 49.89s/it]"
     ]
    },
    {
     "name": "stdout",
     "output_type": "stream",
     "text": [
      "eigenvalues shape torch.Size([5]) eigenvectors shape torch.Size([5, 1024])\n",
      "161 /home/phdcs2/Hard_Disk/Datasets/Deep-Spectral-Segmentation/data/object-segmentation/ECSSD/features/0163_resized.pth\n",
      "dict_keys(['k', 'indices', 'file', 'id', 'model_name', 'patch_size', 'shape'])\n",
      "0163_resized\n",
      "Starting Training\n",
      "epoch: 00, loss: -0.87976\n",
      "epoch: 01, loss: -0.92603\n",
      "epoch: 02, loss: -0.93884\n",
      "epoch: 03, loss: -0.94597\n",
      "epoch: 04, loss: -0.95094\n",
      "epoch: 05, loss: -0.95457\n",
      "epoch: 06, loss: -0.95754\n",
      "epoch: 07, loss: -0.95981\n",
      "epoch: 08, loss: -0.96161\n",
      "epoch: 09, loss: -0.96323\n",
      "torch.Size([1024, 64])\n"
     ]
    },
    {
     "name": "stderr",
     "output_type": "stream",
     "text": [
      " 16%|█▌        | 162/999 [2:14:37<11:17:33, 48.57s/it]"
     ]
    },
    {
     "name": "stdout",
     "output_type": "stream",
     "text": [
      "eigenvalues shape torch.Size([5]) eigenvectors shape torch.Size([5, 1024])\n",
      "162 /home/phdcs2/Hard_Disk/Datasets/Deep-Spectral-Segmentation/data/object-segmentation/ECSSD/features/0164_resized.pth\n",
      "dict_keys(['k', 'indices', 'file', 'id', 'model_name', 'patch_size', 'shape'])\n",
      "0164_resized\n",
      "Starting Training\n",
      "epoch: 00, loss: -0.93447\n",
      "epoch: 01, loss: -0.96070\n",
      "epoch: 02, loss: -0.96675\n",
      "epoch: 03, loss: -0.97026\n",
      "epoch: 04, loss: -0.97270\n",
      "epoch: 05, loss: -0.97451\n",
      "epoch: 06, loss: -0.97591\n",
      "epoch: 07, loss: -0.97708\n",
      "epoch: 08, loss: -0.97806\n",
      "epoch: 09, loss: -0.97888\n",
      "torch.Size([1024, 64])\n"
     ]
    },
    {
     "name": "stderr",
     "output_type": "stream",
     "text": [
      " 16%|█▋        | 163/999 [2:15:34<11:53:15, 51.19s/it]"
     ]
    },
    {
     "name": "stdout",
     "output_type": "stream",
     "text": [
      "eigenvalues shape torch.Size([5]) eigenvectors shape torch.Size([5, 1024])\n",
      "163 /home/phdcs2/Hard_Disk/Datasets/Deep-Spectral-Segmentation/data/object-segmentation/ECSSD/features/0165_resized.pth\n",
      "dict_keys(['k', 'indices', 'file', 'id', 'model_name', 'patch_size', 'shape'])\n",
      "0165_resized\n",
      "Starting Training\n",
      "epoch: 00, loss: -0.92650\n",
      "epoch: 01, loss: -0.95457\n",
      "epoch: 02, loss: -0.96135\n",
      "epoch: 03, loss: -0.96531\n",
      "epoch: 04, loss: -0.96800\n",
      "epoch: 05, loss: -0.97003\n",
      "epoch: 06, loss: -0.97161\n",
      "epoch: 07, loss: -0.97288\n",
      "epoch: 08, loss: -0.97398\n",
      "epoch: 09, loss: -0.97488\n",
      "torch.Size([1024, 64])\n"
     ]
    },
    {
     "name": "stderr",
     "output_type": "stream",
     "text": [
      " 16%|█▋        | 164/999 [2:16:31<12:13:05, 52.68s/it]"
     ]
    },
    {
     "name": "stdout",
     "output_type": "stream",
     "text": [
      "eigenvalues shape torch.Size([5]) eigenvectors shape torch.Size([5, 1024])\n",
      "164 /home/phdcs2/Hard_Disk/Datasets/Deep-Spectral-Segmentation/data/object-segmentation/ECSSD/features/0166_resized.pth\n",
      "dict_keys(['k', 'indices', 'file', 'id', 'model_name', 'patch_size', 'shape'])\n",
      "0166_resized\n",
      "Starting Training\n",
      "epoch: 00, loss: -0.88920\n",
      "epoch: 01, loss: -0.93420\n",
      "epoch: 02, loss: -0.94530\n",
      "epoch: 03, loss: -0.95148\n",
      "epoch: 04, loss: -0.95573\n",
      "epoch: 05, loss: -0.95881\n",
      "epoch: 06, loss: -0.96112\n",
      "epoch: 07, loss: -0.96306\n",
      "epoch: 08, loss: -0.96465\n",
      "epoch: 09, loss: -0.96606\n",
      "torch.Size([1024, 64])\n"
     ]
    },
    {
     "name": "stderr",
     "output_type": "stream",
     "text": [
      " 17%|█▋        | 165/999 [2:17:22<12:08:27, 52.41s/it]"
     ]
    },
    {
     "name": "stdout",
     "output_type": "stream",
     "text": [
      "eigenvalues shape torch.Size([5]) eigenvectors shape torch.Size([5, 1024])\n",
      "165 /home/phdcs2/Hard_Disk/Datasets/Deep-Spectral-Segmentation/data/object-segmentation/ECSSD/features/0167_resized.pth\n",
      "dict_keys(['k', 'indices', 'file', 'id', 'model_name', 'patch_size', 'shape'])\n",
      "0167_resized\n",
      "Starting Training\n",
      "epoch: 00, loss: -0.91717\n",
      "epoch: 01, loss: -0.95164\n",
      "epoch: 02, loss: -0.95957\n",
      "epoch: 03, loss: -0.96417\n",
      "epoch: 04, loss: -0.96725\n",
      "epoch: 05, loss: -0.96956\n",
      "epoch: 06, loss: -0.97130\n",
      "epoch: 07, loss: -0.97272\n",
      "epoch: 08, loss: -0.97396\n",
      "epoch: 09, loss: -0.97499\n",
      "torch.Size([1024, 64])\n"
     ]
    },
    {
     "name": "stderr",
     "output_type": "stream",
     "text": [
      " 17%|█▋        | 166/999 [2:18:14<12:05:13, 52.24s/it]"
     ]
    },
    {
     "name": "stdout",
     "output_type": "stream",
     "text": [
      "eigenvalues shape torch.Size([5]) eigenvectors shape torch.Size([5, 1024])\n",
      "166 /home/phdcs2/Hard_Disk/Datasets/Deep-Spectral-Segmentation/data/object-segmentation/ECSSD/features/0168_resized.pth\n",
      "dict_keys(['k', 'indices', 'file', 'id', 'model_name', 'patch_size', 'shape'])\n",
      "0168_resized\n",
      "Starting Training\n",
      "epoch: 00, loss: -0.92969\n",
      "epoch: 01, loss: -0.96127\n",
      "epoch: 02, loss: -0.96749\n",
      "epoch: 03, loss: -0.97098\n",
      "epoch: 04, loss: -0.97334\n",
      "epoch: 05, loss: -0.97508\n",
      "epoch: 06, loss: -0.97646\n",
      "epoch: 07, loss: -0.97758\n",
      "epoch: 08, loss: -0.97850\n",
      "epoch: 09, loss: -0.97930\n",
      "torch.Size([1024, 64])\n"
     ]
    },
    {
     "name": "stderr",
     "output_type": "stream",
     "text": [
      " 17%|█▋        | 167/999 [2:19:01<11:41:32, 50.59s/it]"
     ]
    },
    {
     "name": "stdout",
     "output_type": "stream",
     "text": [
      "eigenvalues shape torch.Size([5]) eigenvectors shape torch.Size([5, 1024])\n",
      "167 /home/phdcs2/Hard_Disk/Datasets/Deep-Spectral-Segmentation/data/object-segmentation/ECSSD/features/0169_resized.pth\n",
      "dict_keys(['k', 'indices', 'file', 'id', 'model_name', 'patch_size', 'shape'])\n",
      "0169_resized\n",
      "Starting Training\n",
      "epoch: 00, loss: -0.89457\n",
      "epoch: 01, loss: -0.93533\n",
      "epoch: 02, loss: -0.94577\n",
      "epoch: 03, loss: -0.95183\n",
      "epoch: 04, loss: -0.95592\n",
      "epoch: 05, loss: -0.95904\n",
      "epoch: 06, loss: -0.96153\n",
      "epoch: 07, loss: -0.96348\n",
      "epoch: 08, loss: -0.96519\n",
      "epoch: 09, loss: -0.96654\n",
      "torch.Size([1024, 64])\n"
     ]
    },
    {
     "name": "stderr",
     "output_type": "stream",
     "text": [
      " 17%|█▋        | 168/999 [2:19:47<11:22:01, 49.24s/it]"
     ]
    },
    {
     "name": "stdout",
     "output_type": "stream",
     "text": [
      "eigenvalues shape torch.Size([5]) eigenvectors shape torch.Size([5, 1024])\n",
      "168 /home/phdcs2/Hard_Disk/Datasets/Deep-Spectral-Segmentation/data/object-segmentation/ECSSD/features/0170_resized.pth\n",
      "dict_keys(['k', 'indices', 'file', 'id', 'model_name', 'patch_size', 'shape'])\n",
      "0170_resized\n",
      "Starting Training\n",
      "epoch: 00, loss: -0.92597\n",
      "epoch: 01, loss: -0.95625\n",
      "epoch: 02, loss: -0.96282\n",
      "epoch: 03, loss: -0.96659\n",
      "epoch: 04, loss: -0.96918\n",
      "epoch: 05, loss: -0.97111\n",
      "epoch: 06, loss: -0.97263\n",
      "epoch: 07, loss: -0.97387\n",
      "epoch: 08, loss: -0.97491\n",
      "epoch: 09, loss: -0.97581\n",
      "torch.Size([1024, 64])\n"
     ]
    },
    {
     "name": "stderr",
     "output_type": "stream",
     "text": [
      " 17%|█▋        | 169/999 [2:20:38<11:29:09, 49.82s/it]"
     ]
    },
    {
     "name": "stdout",
     "output_type": "stream",
     "text": [
      "eigenvalues shape torch.Size([5]) eigenvectors shape torch.Size([5, 1024])\n",
      "169 /home/phdcs2/Hard_Disk/Datasets/Deep-Spectral-Segmentation/data/object-segmentation/ECSSD/features/0171_resized.pth\n",
      "dict_keys(['k', 'indices', 'file', 'id', 'model_name', 'patch_size', 'shape'])\n",
      "0171_resized\n",
      "Starting Training\n",
      "epoch: 00, loss: -0.91983\n",
      "epoch: 01, loss: -0.95437\n",
      "epoch: 02, loss: -0.96141\n",
      "epoch: 03, loss: -0.96548\n",
      "epoch: 04, loss: -0.96820\n",
      "epoch: 05, loss: -0.97019\n",
      "epoch: 06, loss: -0.97179\n",
      "epoch: 07, loss: -0.97318\n",
      "epoch: 08, loss: -0.97418\n",
      "epoch: 09, loss: -0.97517\n",
      "torch.Size([1024, 64])\n"
     ]
    },
    {
     "name": "stderr",
     "output_type": "stream",
     "text": [
      " 17%|█▋        | 170/999 [2:21:23<11:09:19, 48.44s/it]"
     ]
    },
    {
     "name": "stdout",
     "output_type": "stream",
     "text": [
      "eigenvalues shape torch.Size([5]) eigenvectors shape torch.Size([5, 1024])\n",
      "170 /home/phdcs2/Hard_Disk/Datasets/Deep-Spectral-Segmentation/data/object-segmentation/ECSSD/features/0172_resized.pth\n",
      "dict_keys(['k', 'indices', 'file', 'id', 'model_name', 'patch_size', 'shape'])\n",
      "0172_resized\n",
      "Starting Training\n",
      "epoch: 00, loss: -0.91286\n",
      "epoch: 01, loss: -0.94919\n",
      "epoch: 02, loss: -0.95706\n",
      "epoch: 03, loss: -0.96172\n",
      "epoch: 04, loss: -0.96490\n",
      "epoch: 05, loss: -0.96725\n",
      "epoch: 06, loss: -0.96916\n",
      "epoch: 07, loss: -0.97065\n",
      "epoch: 08, loss: -0.97191\n",
      "epoch: 09, loss: -0.97295\n",
      "torch.Size([1024, 64])\n"
     ]
    },
    {
     "name": "stderr",
     "output_type": "stream",
     "text": [
      " 17%|█▋        | 171/999 [2:22:10<11:00:15, 47.84s/it]"
     ]
    },
    {
     "name": "stdout",
     "output_type": "stream",
     "text": [
      "eigenvalues shape torch.Size([5]) eigenvectors shape torch.Size([5, 1024])\n",
      "171 /home/phdcs2/Hard_Disk/Datasets/Deep-Spectral-Segmentation/data/object-segmentation/ECSSD/features/0173_resized.pth\n",
      "dict_keys(['k', 'indices', 'file', 'id', 'model_name', 'patch_size', 'shape'])\n",
      "0173_resized\n",
      "Starting Training\n",
      "epoch: 00, loss: -0.92094\n",
      "epoch: 01, loss: -0.95275\n",
      "epoch: 02, loss: -0.95983\n",
      "epoch: 03, loss: -0.96402\n",
      "epoch: 04, loss: -0.96678\n",
      "epoch: 05, loss: -0.96898\n",
      "epoch: 06, loss: -0.97066\n",
      "epoch: 07, loss: -0.97203\n",
      "epoch: 08, loss: -0.97321\n",
      "epoch: 09, loss: -0.97419\n",
      "torch.Size([1024, 64])\n"
     ]
    },
    {
     "name": "stderr",
     "output_type": "stream",
     "text": [
      " 17%|█▋        | 172/999 [2:22:59<11:03:17, 48.12s/it]"
     ]
    },
    {
     "name": "stdout",
     "output_type": "stream",
     "text": [
      "eigenvalues shape torch.Size([5]) eigenvectors shape torch.Size([5, 1024])\n",
      "172 /home/phdcs2/Hard_Disk/Datasets/Deep-Spectral-Segmentation/data/object-segmentation/ECSSD/features/0174_resized.pth\n",
      "dict_keys(['k', 'indices', 'file', 'id', 'model_name', 'patch_size', 'shape'])\n",
      "0174_resized\n",
      "Starting Training\n",
      "epoch: 00, loss: -0.92696\n",
      "epoch: 01, loss: -0.95633\n",
      "epoch: 02, loss: -0.96266\n",
      "epoch: 03, loss: -0.96639\n",
      "epoch: 04, loss: -0.96896\n",
      "epoch: 05, loss: -0.97088\n",
      "epoch: 06, loss: -0.97241\n",
      "epoch: 07, loss: -0.97366\n",
      "epoch: 08, loss: -0.97472\n",
      "epoch: 09, loss: -0.97561\n",
      "torch.Size([1024, 64])\n"
     ]
    },
    {
     "name": "stderr",
     "output_type": "stream",
     "text": [
      " 17%|█▋        | 173/999 [2:23:40<10:35:47, 46.18s/it]"
     ]
    },
    {
     "name": "stdout",
     "output_type": "stream",
     "text": [
      "eigenvalues shape torch.Size([5]) eigenvectors shape torch.Size([5, 1024])\n",
      "173 /home/phdcs2/Hard_Disk/Datasets/Deep-Spectral-Segmentation/data/object-segmentation/ECSSD/features/0175_resized.pth\n",
      "dict_keys(['k', 'indices', 'file', 'id', 'model_name', 'patch_size', 'shape'])\n",
      "0175_resized\n",
      "Starting Training\n",
      "epoch: 00, loss: -0.88248\n",
      "epoch: 01, loss: -0.93177\n",
      "epoch: 02, loss: -0.94365\n",
      "epoch: 03, loss: -0.95049\n",
      "epoch: 04, loss: -0.95495\n",
      "epoch: 05, loss: -0.95817\n",
      "epoch: 06, loss: -0.96062\n",
      "epoch: 07, loss: -0.96264\n",
      "epoch: 08, loss: -0.96432\n",
      "epoch: 09, loss: -0.96584\n",
      "torch.Size([1024, 64])\n"
     ]
    },
    {
     "name": "stderr",
     "output_type": "stream",
     "text": [
      " 17%|█▋        | 174/999 [2:24:34<11:07:49, 48.57s/it]"
     ]
    },
    {
     "name": "stdout",
     "output_type": "stream",
     "text": [
      "eigenvalues shape torch.Size([5]) eigenvectors shape torch.Size([5, 1024])\n",
      "174 /home/phdcs2/Hard_Disk/Datasets/Deep-Spectral-Segmentation/data/object-segmentation/ECSSD/features/0176_resized.pth\n",
      "dict_keys(['k', 'indices', 'file', 'id', 'model_name', 'patch_size', 'shape'])\n",
      "0176_resized\n",
      "Starting Training\n",
      "epoch: 00, loss: -0.93160\n",
      "epoch: 01, loss: -0.95752\n",
      "epoch: 02, loss: -0.96383\n",
      "epoch: 03, loss: -0.96759\n",
      "epoch: 04, loss: -0.97016\n",
      "epoch: 05, loss: -0.97203\n",
      "epoch: 06, loss: -0.97351\n",
      "epoch: 07, loss: -0.97474\n",
      "epoch: 08, loss: -0.97578\n",
      "epoch: 09, loss: -0.97666\n",
      "torch.Size([1024, 64])\n"
     ]
    },
    {
     "name": "stderr",
     "output_type": "stream",
     "text": [
      " 18%|█▊        | 175/999 [2:25:28<11:26:48, 50.01s/it]"
     ]
    },
    {
     "name": "stdout",
     "output_type": "stream",
     "text": [
      "eigenvalues shape torch.Size([5]) eigenvectors shape torch.Size([5, 1024])\n",
      "175 /home/phdcs2/Hard_Disk/Datasets/Deep-Spectral-Segmentation/data/object-segmentation/ECSSD/features/0177_resized.pth\n",
      "dict_keys(['k', 'indices', 'file', 'id', 'model_name', 'patch_size', 'shape'])\n",
      "0177_resized\n",
      "Starting Training\n",
      "epoch: 00, loss: -0.89945\n",
      "epoch: 01, loss: -0.94039\n",
      "epoch: 02, loss: -0.95069\n",
      "epoch: 03, loss: -0.95645\n",
      "epoch: 04, loss: -0.96041\n",
      "epoch: 05, loss: -0.96334\n",
      "epoch: 06, loss: -0.96560\n",
      "epoch: 07, loss: -0.96747\n",
      "epoch: 08, loss: -0.96899\n",
      "epoch: 09, loss: -0.97034\n",
      "torch.Size([1024, 64])\n"
     ]
    },
    {
     "name": "stderr",
     "output_type": "stream",
     "text": [
      " 18%|█▊        | 176/999 [2:26:19<11:31:38, 50.42s/it]"
     ]
    },
    {
     "name": "stdout",
     "output_type": "stream",
     "text": [
      "eigenvalues shape torch.Size([5]) eigenvectors shape torch.Size([5, 1024])\n",
      "176 /home/phdcs2/Hard_Disk/Datasets/Deep-Spectral-Segmentation/data/object-segmentation/ECSSD/features/0178_resized.pth\n",
      "dict_keys(['k', 'indices', 'file', 'id', 'model_name', 'patch_size', 'shape'])\n",
      "0178_resized\n",
      "Starting Training\n",
      "epoch: 00, loss: -0.92576\n",
      "epoch: 01, loss: -0.95511\n",
      "epoch: 02, loss: -0.96206\n",
      "epoch: 03, loss: -0.96615\n",
      "epoch: 04, loss: -0.96888\n",
      "epoch: 05, loss: -0.97094\n",
      "epoch: 06, loss: -0.97255\n",
      "epoch: 07, loss: -0.97386\n",
      "epoch: 08, loss: -0.97495\n",
      "epoch: 09, loss: -0.97589\n",
      "torch.Size([1024, 64])\n"
     ]
    },
    {
     "name": "stderr",
     "output_type": "stream",
     "text": [
      " 18%|█▊        | 177/999 [2:27:11<11:35:56, 50.80s/it]"
     ]
    },
    {
     "name": "stdout",
     "output_type": "stream",
     "text": [
      "eigenvalues shape torch.Size([5]) eigenvectors shape torch.Size([5, 1024])\n",
      "177 /home/phdcs2/Hard_Disk/Datasets/Deep-Spectral-Segmentation/data/object-segmentation/ECSSD/features/0179_resized.pth\n",
      "dict_keys(['k', 'indices', 'file', 'id', 'model_name', 'patch_size', 'shape'])\n",
      "0179_resized\n",
      "Starting Training\n",
      "epoch: 00, loss: -0.92438\n",
      "epoch: 01, loss: -0.95288\n",
      "epoch: 02, loss: -0.96002\n",
      "epoch: 03, loss: -0.96415\n",
      "epoch: 04, loss: -0.96692\n",
      "epoch: 05, loss: -0.96905\n",
      "epoch: 06, loss: -0.97070\n",
      "epoch: 07, loss: -0.97204\n",
      "epoch: 08, loss: -0.97315\n",
      "epoch: 09, loss: -0.97412\n",
      "torch.Size([1024, 64])\n"
     ]
    },
    {
     "name": "stderr",
     "output_type": "stream",
     "text": [
      " 18%|█▊        | 178/999 [2:27:55<11:06:59, 48.74s/it]"
     ]
    },
    {
     "name": "stdout",
     "output_type": "stream",
     "text": [
      "eigenvalues shape torch.Size([5]) eigenvectors shape torch.Size([5, 1024])\n",
      "178 /home/phdcs2/Hard_Disk/Datasets/Deep-Spectral-Segmentation/data/object-segmentation/ECSSD/features/0180_resized.pth\n",
      "dict_keys(['k', 'indices', 'file', 'id', 'model_name', 'patch_size', 'shape'])\n",
      "0180_resized\n",
      "Starting Training\n",
      "epoch: 00, loss: -0.92799\n",
      "epoch: 01, loss: -0.95830\n",
      "epoch: 02, loss: -0.96473\n",
      "epoch: 03, loss: -0.96845\n",
      "epoch: 04, loss: -0.97096\n",
      "epoch: 05, loss: -0.97288\n",
      "epoch: 06, loss: -0.97433\n",
      "epoch: 07, loss: -0.97554\n",
      "epoch: 08, loss: -0.97653\n",
      "epoch: 09, loss: -0.97739\n",
      "torch.Size([1024, 64])\n"
     ]
    },
    {
     "name": "stderr",
     "output_type": "stream",
     "text": [
      " 18%|█▊        | 179/999 [2:28:48<11:25:19, 50.15s/it]"
     ]
    },
    {
     "name": "stdout",
     "output_type": "stream",
     "text": [
      "eigenvalues shape torch.Size([5]) eigenvectors shape torch.Size([5, 1024])\n",
      "179 /home/phdcs2/Hard_Disk/Datasets/Deep-Spectral-Segmentation/data/object-segmentation/ECSSD/features/0181_resized.pth\n",
      "dict_keys(['k', 'indices', 'file', 'id', 'model_name', 'patch_size', 'shape'])\n",
      "0181_resized\n",
      "Starting Training\n",
      "epoch: 00, loss: -0.91690\n",
      "epoch: 01, loss: -0.95279\n",
      "epoch: 02, loss: -0.96035\n",
      "epoch: 03, loss: -0.96474\n",
      "epoch: 04, loss: -0.96767\n",
      "epoch: 05, loss: -0.96987\n",
      "epoch: 06, loss: -0.97159\n",
      "epoch: 07, loss: -0.97296\n",
      "epoch: 08, loss: -0.97414\n",
      "epoch: 09, loss: -0.97514\n",
      "torch.Size([1024, 64])\n"
     ]
    },
    {
     "name": "stderr",
     "output_type": "stream",
     "text": [
      " 18%|█▊        | 180/999 [2:29:39<11:28:35, 50.45s/it]"
     ]
    },
    {
     "name": "stdout",
     "output_type": "stream",
     "text": [
      "eigenvalues shape torch.Size([5]) eigenvectors shape torch.Size([5, 1024])\n",
      "180 /home/phdcs2/Hard_Disk/Datasets/Deep-Spectral-Segmentation/data/object-segmentation/ECSSD/features/0182_resized.pth\n",
      "dict_keys(['k', 'indices', 'file', 'id', 'model_name', 'patch_size', 'shape'])\n",
      "0182_resized\n",
      "Starting Training\n",
      "epoch: 00, loss: -0.91626\n",
      "epoch: 01, loss: -0.94812\n",
      "epoch: 02, loss: -0.95618\n",
      "epoch: 03, loss: -0.96083\n",
      "epoch: 04, loss: -0.96403\n",
      "epoch: 05, loss: -0.96636\n",
      "epoch: 06, loss: -0.96824\n",
      "epoch: 07, loss: -0.96972\n",
      "epoch: 08, loss: -0.97098\n",
      "epoch: 09, loss: -0.97207\n",
      "torch.Size([1024, 64])\n"
     ]
    },
    {
     "name": "stderr",
     "output_type": "stream",
     "text": [
      " 18%|█▊        | 181/999 [2:30:24<11:05:36, 48.82s/it]"
     ]
    },
    {
     "name": "stdout",
     "output_type": "stream",
     "text": [
      "eigenvalues shape torch.Size([5]) eigenvectors shape torch.Size([5, 1024])\n",
      "181 /home/phdcs2/Hard_Disk/Datasets/Deep-Spectral-Segmentation/data/object-segmentation/ECSSD/features/0183_resized.pth\n",
      "dict_keys(['k', 'indices', 'file', 'id', 'model_name', 'patch_size', 'shape'])\n",
      "0183_resized\n",
      "Starting Training\n",
      "epoch: 00, loss: -0.90588\n",
      "epoch: 01, loss: -0.94344\n",
      "epoch: 02, loss: -0.95236\n",
      "epoch: 03, loss: -0.95769\n",
      "epoch: 04, loss: -0.96121\n",
      "epoch: 05, loss: -0.96395\n",
      "epoch: 06, loss: -0.96600\n",
      "epoch: 07, loss: -0.96773\n",
      "epoch: 08, loss: -0.96910\n",
      "epoch: 09, loss: -0.97033\n",
      "torch.Size([1024, 64])\n"
     ]
    },
    {
     "name": "stderr",
     "output_type": "stream",
     "text": [
      " 18%|█▊        | 182/999 [2:31:12<10:59:14, 48.41s/it]"
     ]
    },
    {
     "name": "stdout",
     "output_type": "stream",
     "text": [
      "eigenvalues shape torch.Size([5]) eigenvectors shape torch.Size([5, 1024])\n",
      "182 /home/phdcs2/Hard_Disk/Datasets/Deep-Spectral-Segmentation/data/object-segmentation/ECSSD/features/0184_resized.pth\n",
      "dict_keys(['k', 'indices', 'file', 'id', 'model_name', 'patch_size', 'shape'])\n",
      "0184_resized\n",
      "Starting Training\n",
      "epoch: 00, loss: -0.90069\n",
      "epoch: 01, loss: -0.94190\n",
      "epoch: 02, loss: -0.95177\n",
      "epoch: 03, loss: -0.95742\n",
      "epoch: 04, loss: -0.96109\n",
      "epoch: 05, loss: -0.96386\n",
      "epoch: 06, loss: -0.96598\n",
      "epoch: 07, loss: -0.96772\n",
      "epoch: 08, loss: -0.96908\n",
      "epoch: 09, loss: -0.97032\n",
      "torch.Size([1024, 64])\n"
     ]
    },
    {
     "name": "stderr",
     "output_type": "stream",
     "text": [
      " 18%|█▊        | 183/999 [2:32:07<11:27:25, 50.55s/it]"
     ]
    },
    {
     "name": "stdout",
     "output_type": "stream",
     "text": [
      "eigenvalues shape torch.Size([5]) eigenvectors shape torch.Size([5, 1024])\n",
      "183 /home/phdcs2/Hard_Disk/Datasets/Deep-Spectral-Segmentation/data/object-segmentation/ECSSD/features/0185_resized.pth\n",
      "dict_keys(['k', 'indices', 'file', 'id', 'model_name', 'patch_size', 'shape'])\n",
      "0185_resized\n",
      "Starting Training\n",
      "epoch: 00, loss: -0.92212\n",
      "epoch: 01, loss: -0.95389\n",
      "epoch: 02, loss: -0.96074\n",
      "epoch: 03, loss: -0.96474\n",
      "epoch: 04, loss: -0.96751\n",
      "epoch: 05, loss: -0.96953\n",
      "epoch: 06, loss: -0.97116\n",
      "epoch: 07, loss: -0.97248\n",
      "epoch: 08, loss: -0.97357\n",
      "epoch: 09, loss: -0.97453\n",
      "torch.Size([1024, 64])\n"
     ]
    },
    {
     "name": "stderr",
     "output_type": "stream",
     "text": [
      " 18%|█▊        | 184/999 [2:32:56<11:18:06, 49.92s/it]"
     ]
    },
    {
     "name": "stdout",
     "output_type": "stream",
     "text": [
      "eigenvalues shape torch.Size([5]) eigenvectors shape torch.Size([5, 1024])\n",
      "184 /home/phdcs2/Hard_Disk/Datasets/Deep-Spectral-Segmentation/data/object-segmentation/ECSSD/features/0186_resized.pth\n",
      "dict_keys(['k', 'indices', 'file', 'id', 'model_name', 'patch_size', 'shape'])\n",
      "0186_resized\n",
      "Starting Training\n",
      "epoch: 00, loss: -0.90675\n",
      "epoch: 01, loss: -0.94188\n",
      "epoch: 02, loss: -0.95103\n",
      "epoch: 03, loss: -0.95632\n",
      "epoch: 04, loss: -0.95997\n",
      "epoch: 05, loss: -0.96264\n",
      "epoch: 06, loss: -0.96476\n",
      "epoch: 07, loss: -0.96650\n",
      "epoch: 08, loss: -0.96792\n",
      "epoch: 09, loss: -0.96914\n",
      "torch.Size([1024, 64])\n"
     ]
    },
    {
     "name": "stderr",
     "output_type": "stream",
     "text": [
      " 19%|█▊        | 185/999 [2:33:45<11:15:11, 49.77s/it]"
     ]
    },
    {
     "name": "stdout",
     "output_type": "stream",
     "text": [
      "eigenvalues shape torch.Size([5]) eigenvectors shape torch.Size([5, 1024])\n",
      "185 /home/phdcs2/Hard_Disk/Datasets/Deep-Spectral-Segmentation/data/object-segmentation/ECSSD/features/0187_resized.pth\n",
      "dict_keys(['k', 'indices', 'file', 'id', 'model_name', 'patch_size', 'shape'])\n",
      "0187_resized\n",
      "Starting Training\n",
      "epoch: 00, loss: -0.86919\n",
      "epoch: 01, loss: -0.92375\n",
      "epoch: 02, loss: -0.93726\n",
      "epoch: 03, loss: -0.94479\n",
      "epoch: 04, loss: -0.94979\n",
      "epoch: 05, loss: -0.95348\n",
      "epoch: 06, loss: -0.95633\n",
      "epoch: 07, loss: -0.95873\n",
      "epoch: 08, loss: -0.96062\n",
      "epoch: 09, loss: -0.96231\n",
      "torch.Size([1024, 64])\n"
     ]
    },
    {
     "name": "stderr",
     "output_type": "stream",
     "text": [
      " 19%|█▊        | 186/999 [2:34:30<10:55:37, 48.39s/it]"
     ]
    },
    {
     "name": "stdout",
     "output_type": "stream",
     "text": [
      "eigenvalues shape torch.Size([5]) eigenvectors shape torch.Size([5, 1024])\n",
      "186 /home/phdcs2/Hard_Disk/Datasets/Deep-Spectral-Segmentation/data/object-segmentation/ECSSD/features/0188_resized.pth\n",
      "dict_keys(['k', 'indices', 'file', 'id', 'model_name', 'patch_size', 'shape'])\n",
      "0188_resized\n",
      "Starting Training\n",
      "epoch: 00, loss: -0.90042\n",
      "epoch: 01, loss: -0.94005\n",
      "epoch: 02, loss: -0.95031\n",
      "epoch: 03, loss: -0.95626\n",
      "epoch: 04, loss: -0.96012\n",
      "epoch: 05, loss: -0.96310\n",
      "epoch: 06, loss: -0.96530\n",
      "epoch: 07, loss: -0.96716\n",
      "epoch: 08, loss: -0.96874\n",
      "epoch: 09, loss: -0.96998\n",
      "torch.Size([1024, 64])\n"
     ]
    },
    {
     "name": "stderr",
     "output_type": "stream",
     "text": [
      " 19%|█▊        | 187/999 [2:35:23<11:12:10, 49.67s/it]"
     ]
    },
    {
     "name": "stdout",
     "output_type": "stream",
     "text": [
      "eigenvalues shape torch.Size([5]) eigenvectors shape torch.Size([5, 1024])\n",
      "187 /home/phdcs2/Hard_Disk/Datasets/Deep-Spectral-Segmentation/data/object-segmentation/ECSSD/features/0189_resized.pth\n",
      "dict_keys(['k', 'indices', 'file', 'id', 'model_name', 'patch_size', 'shape'])\n",
      "0189_resized\n",
      "Starting Training\n",
      "epoch: 00, loss: -0.88949\n",
      "epoch: 01, loss: -0.93453\n",
      "epoch: 02, loss: -0.94561\n",
      "epoch: 03, loss: -0.95183\n",
      "epoch: 04, loss: -0.95595\n",
      "epoch: 05, loss: -0.95913\n",
      "epoch: 06, loss: -0.96154\n",
      "epoch: 07, loss: -0.96350\n",
      "epoch: 08, loss: -0.96511\n",
      "epoch: 09, loss: -0.96643\n",
      "torch.Size([1024, 64])\n"
     ]
    },
    {
     "name": "stderr",
     "output_type": "stream",
     "text": [
      " 19%|█▉        | 188/999 [2:36:16<11:22:40, 50.51s/it]"
     ]
    },
    {
     "name": "stdout",
     "output_type": "stream",
     "text": [
      "eigenvalues shape torch.Size([5]) eigenvectors shape torch.Size([5, 1024])\n",
      "188 /home/phdcs2/Hard_Disk/Datasets/Deep-Spectral-Segmentation/data/object-segmentation/ECSSD/features/0190_resized.pth\n",
      "dict_keys(['k', 'indices', 'file', 'id', 'model_name', 'patch_size', 'shape'])\n",
      "0190_resized\n",
      "Starting Training\n",
      "epoch: 00, loss: -0.91837\n",
      "epoch: 01, loss: -0.95213\n",
      "epoch: 02, loss: -0.95985\n",
      "epoch: 03, loss: -0.96424\n",
      "epoch: 04, loss: -0.96719\n",
      "epoch: 05, loss: -0.96940\n",
      "epoch: 06, loss: -0.97112\n",
      "epoch: 07, loss: -0.97255\n",
      "epoch: 08, loss: -0.97372\n",
      "epoch: 09, loss: -0.97469\n",
      "torch.Size([1024, 64])\n"
     ]
    },
    {
     "name": "stderr",
     "output_type": "stream",
     "text": [
      " 19%|█▉        | 189/999 [2:36:57<10:46:36, 47.90s/it]"
     ]
    },
    {
     "name": "stdout",
     "output_type": "stream",
     "text": [
      "eigenvalues shape torch.Size([5]) eigenvectors shape torch.Size([5, 1024])\n",
      "189 /home/phdcs2/Hard_Disk/Datasets/Deep-Spectral-Segmentation/data/object-segmentation/ECSSD/features/0191_resized.pth\n",
      "dict_keys(['k', 'indices', 'file', 'id', 'model_name', 'patch_size', 'shape'])\n",
      "0191_resized\n",
      "Starting Training\n",
      "epoch: 00, loss: -0.88830\n",
      "epoch: 01, loss: -0.93246\n",
      "epoch: 02, loss: -0.94457\n",
      "epoch: 03, loss: -0.95159\n",
      "epoch: 04, loss: -0.95606\n",
      "epoch: 05, loss: -0.95940\n",
      "epoch: 06, loss: -0.96197\n",
      "epoch: 07, loss: -0.96409\n",
      "epoch: 08, loss: -0.96575\n",
      "epoch: 09, loss: -0.96727\n",
      "torch.Size([1024, 64])\n"
     ]
    },
    {
     "name": "stderr",
     "output_type": "stream",
     "text": [
      " 19%|█▉        | 190/999 [2:37:52<11:13:47, 49.97s/it]"
     ]
    },
    {
     "name": "stdout",
     "output_type": "stream",
     "text": [
      "eigenvalues shape torch.Size([5]) eigenvectors shape torch.Size([5, 1024])\n",
      "190 /home/phdcs2/Hard_Disk/Datasets/Deep-Spectral-Segmentation/data/object-segmentation/ECSSD/features/0192_resized.pth\n",
      "dict_keys(['k', 'indices', 'file', 'id', 'model_name', 'patch_size', 'shape'])\n",
      "0192_resized\n",
      "Starting Training\n",
      "epoch: 00, loss: -0.93045\n",
      "epoch: 01, loss: -0.95956\n",
      "epoch: 02, loss: -0.96589\n",
      "epoch: 03, loss: -0.96951\n",
      "epoch: 04, loss: -0.97200\n",
      "epoch: 05, loss: -0.97383\n",
      "epoch: 06, loss: -0.97526\n",
      "epoch: 07, loss: -0.97645\n",
      "epoch: 08, loss: -0.97740\n",
      "epoch: 09, loss: -0.97826\n",
      "torch.Size([1024, 64])\n"
     ]
    },
    {
     "name": "stderr",
     "output_type": "stream",
     "text": [
      " 19%|█▉        | 191/999 [2:38:43<11:16:27, 50.23s/it]"
     ]
    },
    {
     "name": "stdout",
     "output_type": "stream",
     "text": [
      "eigenvalues shape torch.Size([5]) eigenvectors shape torch.Size([5, 1024])\n",
      "191 /home/phdcs2/Hard_Disk/Datasets/Deep-Spectral-Segmentation/data/object-segmentation/ECSSD/features/0193_resized.pth\n",
      "dict_keys(['k', 'indices', 'file', 'id', 'model_name', 'patch_size', 'shape'])\n",
      "0193_resized\n",
      "Starting Training\n",
      "epoch: 00, loss: -0.88400\n",
      "epoch: 01, loss: -0.93368\n",
      "epoch: 02, loss: -0.94514\n",
      "epoch: 03, loss: -0.95167\n",
      "epoch: 04, loss: -0.95614\n",
      "epoch: 05, loss: -0.95923\n",
      "epoch: 06, loss: -0.96174\n",
      "epoch: 07, loss: -0.96375\n",
      "epoch: 08, loss: -0.96536\n",
      "epoch: 09, loss: -0.96670\n",
      "torch.Size([1024, 64])\n"
     ]
    },
    {
     "name": "stderr",
     "output_type": "stream",
     "text": [
      " 19%|█▉        | 192/999 [2:39:29<10:57:57, 48.92s/it]"
     ]
    },
    {
     "name": "stdout",
     "output_type": "stream",
     "text": [
      "eigenvalues shape torch.Size([5]) eigenvectors shape torch.Size([5, 1024])\n",
      "192 /home/phdcs2/Hard_Disk/Datasets/Deep-Spectral-Segmentation/data/object-segmentation/ECSSD/features/0194_resized.pth\n",
      "dict_keys(['k', 'indices', 'file', 'id', 'model_name', 'patch_size', 'shape'])\n",
      "0194_resized\n",
      "Starting Training\n",
      "epoch: 00, loss: -0.92705\n",
      "epoch: 01, loss: -0.95634\n",
      "epoch: 02, loss: -0.96329\n",
      "epoch: 03, loss: -0.96733\n",
      "epoch: 04, loss: -0.97004\n",
      "epoch: 05, loss: -0.97209\n",
      "epoch: 06, loss: -0.97370\n",
      "epoch: 07, loss: -0.97499\n",
      "epoch: 08, loss: -0.97609\n",
      "epoch: 09, loss: -0.97700\n",
      "torch.Size([1024, 64])\n"
     ]
    },
    {
     "name": "stderr",
     "output_type": "stream",
     "text": [
      " 19%|█▉        | 193/999 [2:40:10<10:24:46, 46.51s/it]"
     ]
    },
    {
     "name": "stdout",
     "output_type": "stream",
     "text": [
      "eigenvalues shape torch.Size([5]) eigenvectors shape torch.Size([5, 1024])\n",
      "193 /home/phdcs2/Hard_Disk/Datasets/Deep-Spectral-Segmentation/data/object-segmentation/ECSSD/features/0195_resized.pth\n",
      "dict_keys(['k', 'indices', 'file', 'id', 'model_name', 'patch_size', 'shape'])\n",
      "0195_resized\n",
      "Starting Training\n",
      "epoch: 00, loss: -0.92530\n",
      "epoch: 01, loss: -0.95862\n",
      "epoch: 02, loss: -0.96508\n",
      "epoch: 03, loss: -0.96880\n",
      "epoch: 04, loss: -0.97134\n",
      "epoch: 05, loss: -0.97320\n",
      "epoch: 06, loss: -0.97469\n",
      "epoch: 07, loss: -0.97589\n",
      "epoch: 08, loss: -0.97687\n",
      "epoch: 09, loss: -0.97774\n",
      "torch.Size([1024, 64])\n"
     ]
    },
    {
     "name": "stderr",
     "output_type": "stream",
     "text": [
      " 19%|█▉        | 194/999 [2:41:00<10:39:25, 47.66s/it]"
     ]
    },
    {
     "name": "stdout",
     "output_type": "stream",
     "text": [
      "eigenvalues shape torch.Size([5]) eigenvectors shape torch.Size([5, 1024])\n",
      "194 /home/phdcs2/Hard_Disk/Datasets/Deep-Spectral-Segmentation/data/object-segmentation/ECSSD/features/0196_resized.pth\n",
      "dict_keys(['k', 'indices', 'file', 'id', 'model_name', 'patch_size', 'shape'])\n",
      "0196_resized\n",
      "Starting Training\n",
      "epoch: 00, loss: -0.92802\n",
      "epoch: 01, loss: -0.95694\n",
      "epoch: 02, loss: -0.96358\n",
      "epoch: 03, loss: -0.96746\n",
      "epoch: 04, loss: -0.97007\n",
      "epoch: 05, loss: -0.97204\n",
      "epoch: 06, loss: -0.97356\n",
      "epoch: 07, loss: -0.97482\n",
      "epoch: 08, loss: -0.97587\n",
      "epoch: 09, loss: -0.97675\n",
      "torch.Size([1024, 64])\n"
     ]
    },
    {
     "name": "stderr",
     "output_type": "stream",
     "text": [
      " 20%|█▉        | 195/999 [2:41:46<10:33:23, 47.27s/it]"
     ]
    },
    {
     "name": "stdout",
     "output_type": "stream",
     "text": [
      "eigenvalues shape torch.Size([5]) eigenvectors shape torch.Size([5, 1024])\n",
      "195 /home/phdcs2/Hard_Disk/Datasets/Deep-Spectral-Segmentation/data/object-segmentation/ECSSD/features/0197_resized.pth\n",
      "dict_keys(['k', 'indices', 'file', 'id', 'model_name', 'patch_size', 'shape'])\n",
      "0197_resized\n",
      "Starting Training\n",
      "epoch: 00, loss: -0.92454\n",
      "epoch: 01, loss: -0.95740\n",
      "epoch: 02, loss: -0.96424\n",
      "epoch: 03, loss: -0.96808\n",
      "epoch: 04, loss: -0.97072\n",
      "epoch: 05, loss: -0.97258\n",
      "epoch: 06, loss: -0.97417\n",
      "epoch: 07, loss: -0.97534\n",
      "epoch: 08, loss: -0.97638\n",
      "epoch: 09, loss: -0.97722\n",
      "torch.Size([1024, 64])\n"
     ]
    },
    {
     "name": "stderr",
     "output_type": "stream",
     "text": [
      " 20%|█▉        | 196/999 [2:42:37<10:44:47, 48.18s/it]"
     ]
    },
    {
     "name": "stdout",
     "output_type": "stream",
     "text": [
      "eigenvalues shape torch.Size([5]) eigenvectors shape torch.Size([5, 1024])\n",
      "196 /home/phdcs2/Hard_Disk/Datasets/Deep-Spectral-Segmentation/data/object-segmentation/ECSSD/features/0198_resized.pth\n",
      "dict_keys(['k', 'indices', 'file', 'id', 'model_name', 'patch_size', 'shape'])\n",
      "0198_resized\n",
      "Starting Training\n",
      "epoch: 00, loss: -0.91222\n",
      "epoch: 01, loss: -0.94912\n",
      "epoch: 02, loss: -0.95706\n",
      "epoch: 03, loss: -0.96158\n",
      "epoch: 04, loss: -0.96466\n",
      "epoch: 05, loss: -0.96694\n",
      "epoch: 06, loss: -0.96873\n",
      "epoch: 07, loss: -0.97019\n",
      "epoch: 08, loss: -0.97141\n",
      "epoch: 09, loss: -0.97243\n",
      "torch.Size([1024, 64])\n"
     ]
    },
    {
     "name": "stderr",
     "output_type": "stream",
     "text": [
      " 20%|█▉        | 197/999 [2:43:29<10:59:39, 49.35s/it]"
     ]
    },
    {
     "name": "stdout",
     "output_type": "stream",
     "text": [
      "eigenvalues shape torch.Size([5]) eigenvectors shape torch.Size([5, 1024])\n",
      "197 /home/phdcs2/Hard_Disk/Datasets/Deep-Spectral-Segmentation/data/object-segmentation/ECSSD/features/0199_resized.pth\n",
      "dict_keys(['k', 'indices', 'file', 'id', 'model_name', 'patch_size', 'shape'])\n",
      "0199_resized\n",
      "Starting Training\n",
      "epoch: 00, loss: -0.92077\n",
      "epoch: 01, loss: -0.94965\n",
      "epoch: 02, loss: -0.95666\n",
      "epoch: 03, loss: -0.96075\n",
      "epoch: 04, loss: -0.96360\n",
      "epoch: 05, loss: -0.96575\n",
      "epoch: 06, loss: -0.96747\n",
      "epoch: 07, loss: -0.96882\n",
      "epoch: 08, loss: -0.96999\n",
      "epoch: 09, loss: -0.97100\n",
      "torch.Size([1024, 64])\n"
     ]
    },
    {
     "name": "stderr",
     "output_type": "stream",
     "text": [
      " 20%|█▉        | 198/999 [2:44:13<10:37:28, 47.75s/it]"
     ]
    },
    {
     "name": "stdout",
     "output_type": "stream",
     "text": [
      "eigenvalues shape torch.Size([5]) eigenvectors shape torch.Size([5, 1024])\n",
      "198 /home/phdcs2/Hard_Disk/Datasets/Deep-Spectral-Segmentation/data/object-segmentation/ECSSD/features/0200_resized.pth\n",
      "dict_keys(['k', 'indices', 'file', 'id', 'model_name', 'patch_size', 'shape'])\n",
      "0200_resized\n",
      "Starting Training\n",
      "epoch: 00, loss: -0.89710\n",
      "epoch: 01, loss: -0.93841\n",
      "epoch: 02, loss: -0.94879\n",
      "epoch: 03, loss: -0.95478\n",
      "epoch: 04, loss: -0.95891\n",
      "epoch: 05, loss: -0.96190\n",
      "epoch: 06, loss: -0.96415\n",
      "epoch: 07, loss: -0.96610\n",
      "epoch: 08, loss: -0.96766\n",
      "epoch: 09, loss: -0.96895\n",
      "torch.Size([1024, 64])\n"
     ]
    },
    {
     "name": "stderr",
     "output_type": "stream",
     "text": [
      " 20%|█▉        | 199/999 [2:44:58<10:25:09, 46.89s/it]"
     ]
    },
    {
     "name": "stdout",
     "output_type": "stream",
     "text": [
      "eigenvalues shape torch.Size([5]) eigenvectors shape torch.Size([5, 1024])\n",
      "199 /home/phdcs2/Hard_Disk/Datasets/Deep-Spectral-Segmentation/data/object-segmentation/ECSSD/features/0201_resized.pth\n",
      "dict_keys(['k', 'indices', 'file', 'id', 'model_name', 'patch_size', 'shape'])\n",
      "0201_resized\n",
      "Starting Training\n",
      "epoch: 00, loss: -0.92815\n",
      "epoch: 01, loss: -0.95733\n",
      "epoch: 02, loss: -0.96396\n",
      "epoch: 03, loss: -0.96791\n",
      "epoch: 04, loss: -0.97055\n",
      "epoch: 05, loss: -0.97248\n",
      "epoch: 06, loss: -0.97403\n",
      "epoch: 07, loss: -0.97524\n",
      "epoch: 08, loss: -0.97631\n",
      "epoch: 09, loss: -0.97720\n",
      "torch.Size([1024, 64])\n"
     ]
    },
    {
     "name": "stderr",
     "output_type": "stream",
     "text": [
      " 20%|██        | 200/999 [2:45:51<10:48:43, 48.72s/it]"
     ]
    },
    {
     "name": "stdout",
     "output_type": "stream",
     "text": [
      "eigenvalues shape torch.Size([5]) eigenvectors shape torch.Size([5, 1024])\n",
      "200 /home/phdcs2/Hard_Disk/Datasets/Deep-Spectral-Segmentation/data/object-segmentation/ECSSD/features/0202_resized.pth\n",
      "dict_keys(['k', 'indices', 'file', 'id', 'model_name', 'patch_size', 'shape'])\n",
      "0202_resized\n",
      "Starting Training\n",
      "epoch: 00, loss: -0.93794\n",
      "epoch: 01, loss: -0.96366\n",
      "epoch: 02, loss: -0.96886\n",
      "epoch: 03, loss: -0.97194\n",
      "epoch: 04, loss: -0.97402\n",
      "epoch: 05, loss: -0.97556\n",
      "epoch: 06, loss: -0.97682\n",
      "epoch: 07, loss: -0.97782\n",
      "epoch: 08, loss: -0.97867\n",
      "epoch: 09, loss: -0.97939\n",
      "torch.Size([1024, 64])\n"
     ]
    },
    {
     "name": "stderr",
     "output_type": "stream",
     "text": [
      " 20%|██        | 201/999 [2:46:43<11:01:59, 49.77s/it]"
     ]
    },
    {
     "name": "stdout",
     "output_type": "stream",
     "text": [
      "eigenvalues shape torch.Size([5]) eigenvectors shape torch.Size([5, 1024])\n",
      "201 /home/phdcs2/Hard_Disk/Datasets/Deep-Spectral-Segmentation/data/object-segmentation/ECSSD/features/0203_resized.pth\n",
      "dict_keys(['k', 'indices', 'file', 'id', 'model_name', 'patch_size', 'shape'])\n",
      "0203_resized\n",
      "Starting Training\n",
      "epoch: 00, loss: -0.92509\n",
      "epoch: 01, loss: -0.95671\n",
      "epoch: 02, loss: -0.96336\n",
      "epoch: 03, loss: -0.96714\n",
      "epoch: 04, loss: -0.96975\n",
      "epoch: 05, loss: -0.97169\n",
      "epoch: 06, loss: -0.97322\n",
      "epoch: 07, loss: -0.97445\n",
      "epoch: 08, loss: -0.97548\n",
      "epoch: 09, loss: -0.97638\n",
      "torch.Size([1024, 64])\n"
     ]
    },
    {
     "name": "stderr",
     "output_type": "stream",
     "text": [
      " 20%|██        | 202/999 [2:47:33<11:02:48, 49.90s/it]"
     ]
    },
    {
     "name": "stdout",
     "output_type": "stream",
     "text": [
      "eigenvalues shape torch.Size([5]) eigenvectors shape torch.Size([5, 1024])\n",
      "202 /home/phdcs2/Hard_Disk/Datasets/Deep-Spectral-Segmentation/data/object-segmentation/ECSSD/features/0204_resized.pth\n",
      "dict_keys(['k', 'indices', 'file', 'id', 'model_name', 'patch_size', 'shape'])\n",
      "0204_resized\n",
      "Starting Training\n",
      "epoch: 00, loss: -0.92017\n",
      "epoch: 01, loss: -0.95157\n",
      "epoch: 02, loss: -0.95885\n",
      "epoch: 03, loss: -0.96312\n",
      "epoch: 04, loss: -0.96605\n",
      "epoch: 05, loss: -0.96818\n",
      "epoch: 06, loss: -0.96990\n",
      "epoch: 07, loss: -0.97128\n",
      "epoch: 08, loss: -0.97246\n",
      "epoch: 09, loss: -0.97344\n",
      "torch.Size([1024, 64])\n"
     ]
    },
    {
     "name": "stderr",
     "output_type": "stream",
     "text": [
      " 20%|██        | 203/999 [2:48:25<11:09:45, 50.48s/it]"
     ]
    },
    {
     "name": "stdout",
     "output_type": "stream",
     "text": [
      "eigenvalues shape torch.Size([5]) eigenvectors shape torch.Size([5, 1024])\n",
      "203 /home/phdcs2/Hard_Disk/Datasets/Deep-Spectral-Segmentation/data/object-segmentation/ECSSD/features/0205_resized.pth\n",
      "dict_keys(['k', 'indices', 'file', 'id', 'model_name', 'patch_size', 'shape'])\n",
      "0205_resized\n",
      "Starting Training\n",
      "epoch: 00, loss: -0.92487\n",
      "epoch: 01, loss: -0.95342\n",
      "epoch: 02, loss: -0.96057\n",
      "epoch: 03, loss: -0.96464\n",
      "epoch: 04, loss: -0.96745\n",
      "epoch: 05, loss: -0.96951\n",
      "epoch: 06, loss: -0.97117\n",
      "epoch: 07, loss: -0.97253\n",
      "epoch: 08, loss: -0.97363\n",
      "epoch: 09, loss: -0.97454\n",
      "torch.Size([1024, 64])\n"
     ]
    },
    {
     "name": "stderr",
     "output_type": "stream",
     "text": [
      " 20%|██        | 204/999 [2:49:15<11:06:17, 50.29s/it]"
     ]
    },
    {
     "name": "stdout",
     "output_type": "stream",
     "text": [
      "eigenvalues shape torch.Size([5]) eigenvectors shape torch.Size([5, 1024])\n",
      "204 /home/phdcs2/Hard_Disk/Datasets/Deep-Spectral-Segmentation/data/object-segmentation/ECSSD/features/0206_resized.pth\n",
      "dict_keys(['k', 'indices', 'file', 'id', 'model_name', 'patch_size', 'shape'])\n",
      "0206_resized\n",
      "Starting Training\n",
      "epoch: 00, loss: -0.91112\n",
      "epoch: 01, loss: -0.94394\n",
      "epoch: 02, loss: -0.95224\n",
      "epoch: 03, loss: -0.95727\n",
      "epoch: 04, loss: -0.96058\n",
      "epoch: 05, loss: -0.96311\n",
      "epoch: 06, loss: -0.96514\n",
      "epoch: 07, loss: -0.96677\n",
      "epoch: 08, loss: -0.96809\n",
      "epoch: 09, loss: -0.96925\n",
      "torch.Size([1024, 64])\n"
     ]
    },
    {
     "name": "stderr",
     "output_type": "stream",
     "text": [
      " 21%|██        | 205/999 [2:50:01<10:50:04, 49.12s/it]"
     ]
    },
    {
     "name": "stdout",
     "output_type": "stream",
     "text": [
      "eigenvalues shape torch.Size([5]) eigenvectors shape torch.Size([5, 1024])\n",
      "205 /home/phdcs2/Hard_Disk/Datasets/Deep-Spectral-Segmentation/data/object-segmentation/ECSSD/features/0207_resized.pth\n",
      "dict_keys(['k', 'indices', 'file', 'id', 'model_name', 'patch_size', 'shape'])\n",
      "0207_resized\n",
      "Starting Training\n",
      "epoch: 00, loss: -0.88471\n",
      "epoch: 01, loss: -0.93274\n",
      "epoch: 02, loss: -0.94441\n",
      "epoch: 03, loss: -0.95088\n",
      "epoch: 04, loss: -0.95535\n",
      "epoch: 05, loss: -0.95858\n",
      "epoch: 06, loss: -0.96097\n",
      "epoch: 07, loss: -0.96308\n",
      "epoch: 08, loss: -0.96470\n",
      "epoch: 09, loss: -0.96610\n",
      "torch.Size([1024, 64])\n"
     ]
    },
    {
     "name": "stderr",
     "output_type": "stream",
     "text": [
      " 21%|██        | 206/999 [2:50:45<10:26:08, 47.38s/it]"
     ]
    },
    {
     "name": "stdout",
     "output_type": "stream",
     "text": [
      "eigenvalues shape torch.Size([5]) eigenvectors shape torch.Size([5, 1024])\n",
      "206 /home/phdcs2/Hard_Disk/Datasets/Deep-Spectral-Segmentation/data/object-segmentation/ECSSD/features/0208_resized.pth\n",
      "dict_keys(['k', 'indices', 'file', 'id', 'model_name', 'patch_size', 'shape'])\n",
      "0208_resized\n",
      "Starting Training\n",
      "epoch: 00, loss: -0.89318\n",
      "epoch: 01, loss: -0.93683\n",
      "epoch: 02, loss: -0.94729\n",
      "epoch: 03, loss: -0.95327\n",
      "epoch: 04, loss: -0.95721\n",
      "epoch: 05, loss: -0.96012\n",
      "epoch: 06, loss: -0.96246\n",
      "epoch: 07, loss: -0.96424\n",
      "epoch: 08, loss: -0.96569\n",
      "epoch: 09, loss: -0.96699\n",
      "torch.Size([1024, 64])\n"
     ]
    },
    {
     "name": "stderr",
     "output_type": "stream",
     "text": [
      " 21%|██        | 207/999 [2:51:38<10:50:34, 49.29s/it]"
     ]
    },
    {
     "name": "stdout",
     "output_type": "stream",
     "text": [
      "eigenvalues shape torch.Size([5]) eigenvectors shape torch.Size([5, 1024])\n",
      "207 /home/phdcs2/Hard_Disk/Datasets/Deep-Spectral-Segmentation/data/object-segmentation/ECSSD/features/0209_resized.pth\n",
      "dict_keys(['k', 'indices', 'file', 'id', 'model_name', 'patch_size', 'shape'])\n",
      "0209_resized\n",
      "Starting Training\n",
      "epoch: 00, loss: -0.91087\n",
      "epoch: 01, loss: -0.94554\n",
      "epoch: 02, loss: -0.95381\n",
      "epoch: 03, loss: -0.95864\n",
      "epoch: 04, loss: -0.96195\n",
      "epoch: 05, loss: -0.96442\n",
      "epoch: 06, loss: -0.96639\n",
      "epoch: 07, loss: -0.96790\n",
      "epoch: 08, loss: -0.96922\n",
      "epoch: 09, loss: -0.97033\n",
      "torch.Size([1024, 64])\n"
     ]
    },
    {
     "name": "stderr",
     "output_type": "stream",
     "text": [
      " 21%|██        | 208/999 [2:52:25<10:40:48, 48.61s/it]"
     ]
    },
    {
     "name": "stdout",
     "output_type": "stream",
     "text": [
      "eigenvalues shape torch.Size([5]) eigenvectors shape torch.Size([5, 1024])\n",
      "208 /home/phdcs2/Hard_Disk/Datasets/Deep-Spectral-Segmentation/data/object-segmentation/ECSSD/features/0210_resized.pth\n",
      "dict_keys(['k', 'indices', 'file', 'id', 'model_name', 'patch_size', 'shape'])\n",
      "0210_resized\n",
      "Starting Training\n",
      "epoch: 00, loss: -0.89253\n",
      "epoch: 01, loss: -0.93389\n",
      "epoch: 02, loss: -0.94484\n",
      "epoch: 03, loss: -0.95116\n",
      "epoch: 04, loss: -0.95541\n",
      "epoch: 05, loss: -0.95869\n",
      "epoch: 06, loss: -0.96114\n",
      "epoch: 07, loss: -0.96309\n",
      "epoch: 08, loss: -0.96477\n",
      "epoch: 09, loss: -0.96617\n",
      "torch.Size([1024, 64])\n"
     ]
    },
    {
     "name": "stderr",
     "output_type": "stream",
     "text": [
      " 21%|██        | 209/999 [2:53:10<10:23:10, 47.33s/it]"
     ]
    },
    {
     "name": "stdout",
     "output_type": "stream",
     "text": [
      "eigenvalues shape torch.Size([5]) eigenvectors shape torch.Size([5, 1024])\n",
      "209 /home/phdcs2/Hard_Disk/Datasets/Deep-Spectral-Segmentation/data/object-segmentation/ECSSD/features/0211_resized.pth\n",
      "dict_keys(['k', 'indices', 'file', 'id', 'model_name', 'patch_size', 'shape'])\n",
      "0211_resized\n",
      "Starting Training\n",
      "epoch: 00, loss: -0.93681\n",
      "epoch: 01, loss: -0.95915\n",
      "epoch: 02, loss: -0.96483\n",
      "epoch: 03, loss: -0.96817\n",
      "epoch: 04, loss: -0.97048\n",
      "epoch: 05, loss: -0.97223\n",
      "epoch: 06, loss: -0.97359\n",
      "epoch: 07, loss: -0.97473\n",
      "epoch: 08, loss: -0.97570\n",
      "epoch: 09, loss: -0.97652\n",
      "torch.Size([1024, 64])\n"
     ]
    },
    {
     "name": "stderr",
     "output_type": "stream",
     "text": [
      " 21%|██        | 210/999 [2:54:01<10:36:11, 48.38s/it]"
     ]
    },
    {
     "name": "stdout",
     "output_type": "stream",
     "text": [
      "eigenvalues shape torch.Size([5]) eigenvectors shape torch.Size([5, 1024])\n",
      "210 /home/phdcs2/Hard_Disk/Datasets/Deep-Spectral-Segmentation/data/object-segmentation/ECSSD/features/0212_resized.pth\n",
      "dict_keys(['k', 'indices', 'file', 'id', 'model_name', 'patch_size', 'shape'])\n",
      "0212_resized\n",
      "Starting Training\n",
      "epoch: 00, loss: -0.93483\n",
      "epoch: 01, loss: -0.96187\n",
      "epoch: 02, loss: -0.96801\n",
      "epoch: 03, loss: -0.97161\n",
      "epoch: 04, loss: -0.97403\n",
      "epoch: 05, loss: -0.97581\n",
      "epoch: 06, loss: -0.97721\n",
      "epoch: 07, loss: -0.97833\n",
      "epoch: 08, loss: -0.97928\n",
      "epoch: 09, loss: -0.98010\n",
      "torch.Size([1024, 64])\n"
     ]
    },
    {
     "name": "stderr",
     "output_type": "stream",
     "text": [
      " 21%|██        | 211/999 [2:54:45<10:18:55, 47.13s/it]"
     ]
    },
    {
     "name": "stdout",
     "output_type": "stream",
     "text": [
      "eigenvalues shape torch.Size([5]) eigenvectors shape torch.Size([5, 1024])\n",
      "211 /home/phdcs2/Hard_Disk/Datasets/Deep-Spectral-Segmentation/data/object-segmentation/ECSSD/features/0213_resized.pth\n",
      "dict_keys(['k', 'indices', 'file', 'id', 'model_name', 'patch_size', 'shape'])\n",
      "0213_resized\n",
      "Starting Training\n",
      "epoch: 00, loss: -0.93142\n",
      "epoch: 01, loss: -0.96048\n",
      "epoch: 02, loss: -0.96620\n",
      "epoch: 03, loss: -0.96957\n",
      "epoch: 04, loss: -0.97192\n",
      "epoch: 05, loss: -0.97365\n",
      "epoch: 06, loss: -0.97504\n",
      "epoch: 07, loss: -0.97616\n",
      "epoch: 08, loss: -0.97710\n",
      "epoch: 09, loss: -0.97792\n",
      "torch.Size([1024, 64])\n"
     ]
    },
    {
     "name": "stderr",
     "output_type": "stream",
     "text": [
      " 21%|██        | 212/999 [2:55:37<10:37:38, 48.61s/it]"
     ]
    },
    {
     "name": "stdout",
     "output_type": "stream",
     "text": [
      "eigenvalues shape torch.Size([5]) eigenvectors shape torch.Size([5, 1024])\n",
      "212 /home/phdcs2/Hard_Disk/Datasets/Deep-Spectral-Segmentation/data/object-segmentation/ECSSD/features/0214_resized.pth\n",
      "dict_keys(['k', 'indices', 'file', 'id', 'model_name', 'patch_size', 'shape'])\n",
      "0214_resized\n",
      "Starting Training\n",
      "epoch: 00, loss: -0.91906\n",
      "epoch: 01, loss: -0.95174\n",
      "epoch: 02, loss: -0.95938\n",
      "epoch: 03, loss: -0.96393\n",
      "epoch: 04, loss: -0.96699\n",
      "epoch: 05, loss: -0.96931\n",
      "epoch: 06, loss: -0.97108\n",
      "epoch: 07, loss: -0.97254\n",
      "epoch: 08, loss: -0.97374\n",
      "epoch: 09, loss: -0.97477\n",
      "torch.Size([1024, 64])\n"
     ]
    },
    {
     "name": "stderr",
     "output_type": "stream",
     "text": [
      " 21%|██▏       | 213/999 [2:56:27<10:41:53, 49.00s/it]"
     ]
    },
    {
     "name": "stdout",
     "output_type": "stream",
     "text": [
      "eigenvalues shape torch.Size([5]) eigenvectors shape torch.Size([5, 1024])\n",
      "213 /home/phdcs2/Hard_Disk/Datasets/Deep-Spectral-Segmentation/data/object-segmentation/ECSSD/features/0215_resized.pth\n",
      "dict_keys(['k', 'indices', 'file', 'id', 'model_name', 'patch_size', 'shape'])\n",
      "0215_resized\n",
      "Starting Training\n",
      "epoch: 00, loss: -0.92707\n",
      "epoch: 01, loss: -0.95823\n",
      "epoch: 02, loss: -0.96479\n",
      "epoch: 03, loss: -0.96860\n",
      "epoch: 04, loss: -0.97113\n",
      "epoch: 05, loss: -0.97302\n",
      "epoch: 06, loss: -0.97450\n",
      "epoch: 07, loss: -0.97570\n",
      "epoch: 08, loss: -0.97669\n",
      "epoch: 09, loss: -0.97755\n",
      "torch.Size([1024, 64])\n"
     ]
    },
    {
     "name": "stderr",
     "output_type": "stream",
     "text": [
      " 21%|██▏       | 214/999 [2:57:14<10:34:29, 48.50s/it]"
     ]
    },
    {
     "name": "stdout",
     "output_type": "stream",
     "text": [
      "eigenvalues shape torch.Size([5]) eigenvectors shape torch.Size([5, 1024])\n",
      "214 /home/phdcs2/Hard_Disk/Datasets/Deep-Spectral-Segmentation/data/object-segmentation/ECSSD/features/0216_resized.pth\n",
      "dict_keys(['k', 'indices', 'file', 'id', 'model_name', 'patch_size', 'shape'])\n",
      "0216_resized\n",
      "Starting Training\n",
      "epoch: 00, loss: -0.90099\n",
      "epoch: 01, loss: -0.94013\n",
      "epoch: 02, loss: -0.94998\n",
      "epoch: 03, loss: -0.95573\n",
      "epoch: 04, loss: -0.95958\n",
      "epoch: 05, loss: -0.96248\n",
      "epoch: 06, loss: -0.96477\n",
      "epoch: 07, loss: -0.96645\n",
      "epoch: 08, loss: -0.96799\n",
      "epoch: 09, loss: -0.96926\n",
      "torch.Size([1024, 64])\n"
     ]
    },
    {
     "name": "stderr",
     "output_type": "stream",
     "text": [
      " 22%|██▏       | 215/999 [2:57:56<10:07:43, 46.51s/it]"
     ]
    },
    {
     "name": "stdout",
     "output_type": "stream",
     "text": [
      "eigenvalues shape torch.Size([5]) eigenvectors shape torch.Size([5, 1024])\n",
      "215 /home/phdcs2/Hard_Disk/Datasets/Deep-Spectral-Segmentation/data/object-segmentation/ECSSD/features/0217_resized.pth\n",
      "dict_keys(['k', 'indices', 'file', 'id', 'model_name', 'patch_size', 'shape'])\n",
      "0217_resized\n",
      "Starting Training\n",
      "epoch: 00, loss: -0.92564\n",
      "epoch: 01, loss: -0.95437\n",
      "epoch: 02, loss: -0.96083\n",
      "epoch: 03, loss: -0.96475\n",
      "epoch: 04, loss: -0.96744\n",
      "epoch: 05, loss: -0.96947\n",
      "epoch: 06, loss: -0.97106\n",
      "epoch: 07, loss: -0.97241\n",
      "epoch: 08, loss: -0.97349\n",
      "epoch: 09, loss: -0.97445\n",
      "torch.Size([1024, 64])\n"
     ]
    },
    {
     "name": "stderr",
     "output_type": "stream",
     "text": [
      " 22%|██▏       | 216/999 [2:58:51<10:40:31, 49.08s/it]"
     ]
    },
    {
     "name": "stdout",
     "output_type": "stream",
     "text": [
      "eigenvalues shape torch.Size([5]) eigenvectors shape torch.Size([5, 1024])\n",
      "216 /home/phdcs2/Hard_Disk/Datasets/Deep-Spectral-Segmentation/data/object-segmentation/ECSSD/features/0218_resized.pth\n",
      "dict_keys(['k', 'indices', 'file', 'id', 'model_name', 'patch_size', 'shape'])\n",
      "0218_resized\n",
      "Starting Training\n",
      "epoch: 00, loss: -0.88502\n",
      "epoch: 01, loss: -0.93269\n",
      "epoch: 02, loss: -0.94456\n",
      "epoch: 03, loss: -0.95136\n",
      "epoch: 04, loss: -0.95579\n",
      "epoch: 05, loss: -0.95903\n",
      "epoch: 06, loss: -0.96155\n",
      "epoch: 07, loss: -0.96376\n",
      "epoch: 08, loss: -0.96546\n",
      "epoch: 09, loss: -0.96693\n",
      "torch.Size([1024, 64])\n"
     ]
    },
    {
     "name": "stderr",
     "output_type": "stream",
     "text": [
      " 22%|██▏       | 217/999 [2:59:44<10:56:15, 50.35s/it]"
     ]
    },
    {
     "name": "stdout",
     "output_type": "stream",
     "text": [
      "eigenvalues shape torch.Size([5]) eigenvectors shape torch.Size([5, 1024])\n",
      "217 /home/phdcs2/Hard_Disk/Datasets/Deep-Spectral-Segmentation/data/object-segmentation/ECSSD/features/0219_resized.pth\n",
      "dict_keys(['k', 'indices', 'file', 'id', 'model_name', 'patch_size', 'shape'])\n",
      "0219_resized\n",
      "Starting Training\n",
      "epoch: 00, loss: -0.92061\n",
      "epoch: 01, loss: -0.95165\n",
      "epoch: 02, loss: -0.95914\n",
      "epoch: 03, loss: -0.96354\n",
      "epoch: 04, loss: -0.96652\n",
      "epoch: 05, loss: -0.96880\n",
      "epoch: 06, loss: -0.97057\n",
      "epoch: 07, loss: -0.97201\n",
      "epoch: 08, loss: -0.97320\n",
      "epoch: 09, loss: -0.97424\n",
      "torch.Size([1024, 64])\n"
     ]
    },
    {
     "name": "stderr",
     "output_type": "stream",
     "text": [
      " 22%|██▏       | 218/999 [3:00:34<10:50:59, 50.01s/it]"
     ]
    },
    {
     "name": "stdout",
     "output_type": "stream",
     "text": [
      "eigenvalues shape torch.Size([5]) eigenvectors shape torch.Size([5, 1024])\n",
      "218 /home/phdcs2/Hard_Disk/Datasets/Deep-Spectral-Segmentation/data/object-segmentation/ECSSD/features/0220_resized.pth\n",
      "dict_keys(['k', 'indices', 'file', 'id', 'model_name', 'patch_size', 'shape'])\n",
      "0220_resized\n",
      "Starting Training\n",
      "epoch: 00, loss: -0.93239\n",
      "epoch: 01, loss: -0.96011\n",
      "epoch: 02, loss: -0.96631\n",
      "epoch: 03, loss: -0.96980\n",
      "epoch: 04, loss: -0.97222\n",
      "epoch: 05, loss: -0.97405\n",
      "epoch: 06, loss: -0.97552\n",
      "epoch: 07, loss: -0.97667\n",
      "epoch: 08, loss: -0.97766\n",
      "epoch: 09, loss: -0.97848\n",
      "torch.Size([1024, 64])\n"
     ]
    },
    {
     "name": "stderr",
     "output_type": "stream",
     "text": [
      " 22%|██▏       | 219/999 [3:01:23<10:49:33, 49.97s/it]"
     ]
    },
    {
     "name": "stdout",
     "output_type": "stream",
     "text": [
      "eigenvalues shape torch.Size([5]) eigenvectors shape torch.Size([5, 1024])\n",
      "219 /home/phdcs2/Hard_Disk/Datasets/Deep-Spectral-Segmentation/data/object-segmentation/ECSSD/features/0221_resized.pth\n",
      "dict_keys(['k', 'indices', 'file', 'id', 'model_name', 'patch_size', 'shape'])\n",
      "0221_resized\n",
      "Starting Training\n",
      "epoch: 00, loss: -0.91890\n",
      "epoch: 01, loss: -0.94997\n",
      "epoch: 02, loss: -0.95725\n",
      "epoch: 03, loss: -0.96161\n",
      "epoch: 04, loss: -0.96451\n",
      "epoch: 05, loss: -0.96670\n",
      "epoch: 06, loss: -0.96838\n",
      "epoch: 07, loss: -0.96980\n",
      "epoch: 08, loss: -0.97100\n",
      "epoch: 09, loss: -0.97203\n",
      "torch.Size([1024, 64])\n"
     ]
    },
    {
     "name": "stderr",
     "output_type": "stream",
     "text": [
      " 22%|██▏       | 220/999 [3:02:06<10:20:14, 47.77s/it]"
     ]
    },
    {
     "name": "stdout",
     "output_type": "stream",
     "text": [
      "eigenvalues shape torch.Size([5]) eigenvectors shape torch.Size([5, 1024])\n",
      "220 /home/phdcs2/Hard_Disk/Datasets/Deep-Spectral-Segmentation/data/object-segmentation/ECSSD/features/0222_resized.pth\n",
      "dict_keys(['k', 'indices', 'file', 'id', 'model_name', 'patch_size', 'shape'])\n",
      "0222_resized\n",
      "Starting Training\n",
      "epoch: 00, loss: -0.90098\n",
      "epoch: 01, loss: -0.94237\n",
      "epoch: 02, loss: -0.95144\n",
      "epoch: 03, loss: -0.95668\n",
      "epoch: 04, loss: -0.96022\n",
      "epoch: 05, loss: -0.96298\n",
      "epoch: 06, loss: -0.96510\n",
      "epoch: 07, loss: -0.96670\n",
      "epoch: 08, loss: -0.96809\n",
      "epoch: 09, loss: -0.96927\n",
      "torch.Size([1024, 64])\n"
     ]
    },
    {
     "name": "stderr",
     "output_type": "stream",
     "text": [
      " 22%|██▏       | 221/999 [3:02:59<10:39:35, 49.33s/it]"
     ]
    },
    {
     "name": "stdout",
     "output_type": "stream",
     "text": [
      "eigenvalues shape torch.Size([5]) eigenvectors shape torch.Size([5, 1024])\n",
      "221 /home/phdcs2/Hard_Disk/Datasets/Deep-Spectral-Segmentation/data/object-segmentation/ECSSD/features/0223_resized.pth\n",
      "dict_keys(['k', 'indices', 'file', 'id', 'model_name', 'patch_size', 'shape'])\n",
      "0223_resized\n",
      "Starting Training\n",
      "epoch: 00, loss: -0.93302\n",
      "epoch: 01, loss: -0.96071\n",
      "epoch: 02, loss: -0.96668\n",
      "epoch: 03, loss: -0.97022\n",
      "epoch: 04, loss: -0.97264\n",
      "epoch: 05, loss: -0.97448\n",
      "epoch: 06, loss: -0.97590\n",
      "epoch: 07, loss: -0.97707\n",
      "epoch: 08, loss: -0.97807\n",
      "epoch: 09, loss: -0.97889\n",
      "torch.Size([1024, 64])\n"
     ]
    },
    {
     "name": "stderr",
     "output_type": "stream",
     "text": [
      " 22%|██▏       | 222/999 [3:03:49<10:39:35, 49.39s/it]"
     ]
    },
    {
     "name": "stdout",
     "output_type": "stream",
     "text": [
      "eigenvalues shape torch.Size([5]) eigenvectors shape torch.Size([5, 1024])\n",
      "222 /home/phdcs2/Hard_Disk/Datasets/Deep-Spectral-Segmentation/data/object-segmentation/ECSSD/features/0224_resized.pth\n",
      "dict_keys(['k', 'indices', 'file', 'id', 'model_name', 'patch_size', 'shape'])\n",
      "0224_resized\n",
      "Starting Training\n",
      "epoch: 00, loss: -0.92195\n",
      "epoch: 01, loss: -0.95397\n",
      "epoch: 02, loss: -0.96102\n",
      "epoch: 03, loss: -0.96511\n",
      "epoch: 04, loss: -0.96792\n",
      "epoch: 05, loss: -0.96997\n",
      "epoch: 06, loss: -0.97161\n",
      "epoch: 07, loss: -0.97294\n",
      "epoch: 08, loss: -0.97408\n",
      "epoch: 09, loss: -0.97501\n",
      "torch.Size([1024, 64])\n"
     ]
    },
    {
     "name": "stderr",
     "output_type": "stream",
     "text": [
      " 22%|██▏       | 223/999 [3:04:38<10:40:59, 49.56s/it]"
     ]
    },
    {
     "name": "stdout",
     "output_type": "stream",
     "text": [
      "eigenvalues shape torch.Size([5]) eigenvectors shape torch.Size([5, 1024])\n",
      "223 /home/phdcs2/Hard_Disk/Datasets/Deep-Spectral-Segmentation/data/object-segmentation/ECSSD/features/0225_resized.pth\n",
      "dict_keys(['k', 'indices', 'file', 'id', 'model_name', 'patch_size', 'shape'])\n",
      "0225_resized\n",
      "Starting Training\n",
      "epoch: 00, loss: -0.90483\n",
      "epoch: 01, loss: -0.94359\n",
      "epoch: 02, loss: -0.95246\n",
      "epoch: 03, loss: -0.95758\n",
      "epoch: 04, loss: -0.96105\n",
      "epoch: 05, loss: -0.96367\n",
      "epoch: 06, loss: -0.96573\n",
      "epoch: 07, loss: -0.96737\n",
      "epoch: 08, loss: -0.96877\n",
      "epoch: 09, loss: -0.96996\n",
      "torch.Size([1024, 64])\n"
     ]
    },
    {
     "name": "stderr",
     "output_type": "stream",
     "text": [
      " 22%|██▏       | 224/999 [3:05:31<10:50:10, 50.34s/it]"
     ]
    },
    {
     "name": "stdout",
     "output_type": "stream",
     "text": [
      "eigenvalues shape torch.Size([5]) eigenvectors shape torch.Size([5, 1024])\n",
      "224 /home/phdcs2/Hard_Disk/Datasets/Deep-Spectral-Segmentation/data/object-segmentation/ECSSD/features/0226_resized.pth\n",
      "dict_keys(['k', 'indices', 'file', 'id', 'model_name', 'patch_size', 'shape'])\n",
      "0226_resized\n",
      "Starting Training\n",
      "epoch: 00, loss: -0.89686\n",
      "epoch: 01, loss: -0.93795\n",
      "epoch: 02, loss: -0.94875\n",
      "epoch: 03, loss: -0.95477\n",
      "epoch: 04, loss: -0.95878\n",
      "epoch: 05, loss: -0.96174\n",
      "epoch: 06, loss: -0.96401\n",
      "epoch: 07, loss: -0.96585\n",
      "epoch: 08, loss: -0.96744\n",
      "epoch: 09, loss: -0.96867\n",
      "torch.Size([1024, 64])\n"
     ]
    },
    {
     "name": "stderr",
     "output_type": "stream",
     "text": [
      " 23%|██▎       | 225/999 [3:06:20<10:47:14, 50.17s/it]"
     ]
    },
    {
     "name": "stdout",
     "output_type": "stream",
     "text": [
      "eigenvalues shape torch.Size([5]) eigenvectors shape torch.Size([5, 1024])\n",
      "225 /home/phdcs2/Hard_Disk/Datasets/Deep-Spectral-Segmentation/data/object-segmentation/ECSSD/features/0227_resized.pth\n",
      "dict_keys(['k', 'indices', 'file', 'id', 'model_name', 'patch_size', 'shape'])\n",
      "0227_resized\n",
      "Starting Training\n",
      "epoch: 00, loss: -0.93140\n",
      "epoch: 01, loss: -0.95815\n",
      "epoch: 02, loss: -0.96460\n",
      "epoch: 03, loss: -0.96839\n",
      "epoch: 04, loss: -0.97093\n",
      "epoch: 05, loss: -0.97291\n",
      "epoch: 06, loss: -0.97443\n",
      "epoch: 07, loss: -0.97569\n",
      "epoch: 08, loss: -0.97677\n",
      "epoch: 09, loss: -0.97762\n",
      "torch.Size([1024, 64])\n"
     ]
    },
    {
     "name": "stderr",
     "output_type": "stream",
     "text": [
      " 23%|██▎       | 226/999 [3:07:09<10:40:13, 49.69s/it]"
     ]
    },
    {
     "name": "stdout",
     "output_type": "stream",
     "text": [
      "eigenvalues shape torch.Size([5]) eigenvectors shape torch.Size([5, 1024])\n",
      "226 /home/phdcs2/Hard_Disk/Datasets/Deep-Spectral-Segmentation/data/object-segmentation/ECSSD/features/0228_resized.pth\n",
      "dict_keys(['k', 'indices', 'file', 'id', 'model_name', 'patch_size', 'shape'])\n",
      "0228_resized\n",
      "Starting Training\n",
      "epoch: 00, loss: -0.92782\n",
      "epoch: 01, loss: -0.95724\n",
      "epoch: 02, loss: -0.96362\n",
      "epoch: 03, loss: -0.96733\n",
      "epoch: 04, loss: -0.96983\n",
      "epoch: 05, loss: -0.97172\n",
      "epoch: 06, loss: -0.97320\n",
      "epoch: 07, loss: -0.97438\n",
      "epoch: 08, loss: -0.97540\n",
      "epoch: 09, loss: -0.97624\n",
      "torch.Size([1024, 64])\n"
     ]
    },
    {
     "name": "stderr",
     "output_type": "stream",
     "text": [
      " 23%|██▎       | 227/999 [3:07:56<10:30:42, 49.02s/it]"
     ]
    },
    {
     "name": "stdout",
     "output_type": "stream",
     "text": [
      "eigenvalues shape torch.Size([5]) eigenvectors shape torch.Size([5, 1024])\n",
      "227 /home/phdcs2/Hard_Disk/Datasets/Deep-Spectral-Segmentation/data/object-segmentation/ECSSD/features/0229_resized.pth\n",
      "dict_keys(['k', 'indices', 'file', 'id', 'model_name', 'patch_size', 'shape'])\n",
      "0229_resized\n",
      "Starting Training\n",
      "epoch: 00, loss: -0.91014\n",
      "epoch: 01, loss: -0.94783\n",
      "epoch: 02, loss: -0.95650\n",
      "epoch: 03, loss: -0.96145\n",
      "epoch: 04, loss: -0.96480\n",
      "epoch: 05, loss: -0.96727\n",
      "epoch: 06, loss: -0.96918\n",
      "epoch: 07, loss: -0.97075\n",
      "epoch: 08, loss: -0.97205\n",
      "epoch: 09, loss: -0.97315\n",
      "torch.Size([1024, 64])\n"
     ]
    },
    {
     "name": "stderr",
     "output_type": "stream",
     "text": [
      " 23%|██▎       | 228/999 [3:08:42<10:17:23, 48.05s/it]"
     ]
    },
    {
     "name": "stdout",
     "output_type": "stream",
     "text": [
      "eigenvalues shape torch.Size([5]) eigenvectors shape torch.Size([5, 1024])\n",
      "228 /home/phdcs2/Hard_Disk/Datasets/Deep-Spectral-Segmentation/data/object-segmentation/ECSSD/features/0230_resized.pth\n",
      "dict_keys(['k', 'indices', 'file', 'id', 'model_name', 'patch_size', 'shape'])\n",
      "0230_resized\n",
      "Starting Training\n",
      "epoch: 00, loss: -0.92120\n",
      "epoch: 01, loss: -0.95300\n",
      "epoch: 02, loss: -0.96032\n",
      "epoch: 03, loss: -0.96462\n",
      "epoch: 04, loss: -0.96756\n",
      "epoch: 05, loss: -0.96972\n",
      "epoch: 06, loss: -0.97140\n",
      "epoch: 07, loss: -0.97280\n",
      "epoch: 08, loss: -0.97396\n",
      "epoch: 09, loss: -0.97496\n",
      "torch.Size([1024, 64])\n"
     ]
    },
    {
     "name": "stderr",
     "output_type": "stream",
     "text": [
      " 23%|██▎       | 229/999 [3:09:28<10:08:14, 47.40s/it]"
     ]
    },
    {
     "name": "stdout",
     "output_type": "stream",
     "text": [
      "eigenvalues shape torch.Size([5]) eigenvectors shape torch.Size([5, 1024])\n",
      "229 /home/phdcs2/Hard_Disk/Datasets/Deep-Spectral-Segmentation/data/object-segmentation/ECSSD/features/0231_resized.pth\n",
      "dict_keys(['k', 'indices', 'file', 'id', 'model_name', 'patch_size', 'shape'])\n",
      "0231_resized\n",
      "Starting Training\n",
      "epoch: 00, loss: -0.89242\n",
      "epoch: 01, loss: -0.93814\n",
      "epoch: 02, loss: -0.94878\n",
      "epoch: 03, loss: -0.95474\n",
      "epoch: 04, loss: -0.95886\n",
      "epoch: 05, loss: -0.96185\n",
      "epoch: 06, loss: -0.96415\n",
      "epoch: 07, loss: -0.96603\n",
      "epoch: 08, loss: -0.96756\n",
      "epoch: 09, loss: -0.96896\n",
      "torch.Size([1024, 64])\n"
     ]
    },
    {
     "name": "stderr",
     "output_type": "stream",
     "text": [
      " 23%|██▎       | 230/999 [3:10:25<10:42:54, 50.16s/it]"
     ]
    },
    {
     "name": "stdout",
     "output_type": "stream",
     "text": [
      "eigenvalues shape torch.Size([5]) eigenvectors shape torch.Size([5, 1024])\n",
      "230 /home/phdcs2/Hard_Disk/Datasets/Deep-Spectral-Segmentation/data/object-segmentation/ECSSD/features/0232_resized.pth\n",
      "dict_keys(['k', 'indices', 'file', 'id', 'model_name', 'patch_size', 'shape'])\n",
      "0232_resized\n",
      "Starting Training\n",
      "epoch: 00, loss: -0.91735\n",
      "epoch: 01, loss: -0.95089\n",
      "epoch: 02, loss: -0.95856\n",
      "epoch: 03, loss: -0.96298\n",
      "epoch: 04, loss: -0.96601\n",
      "epoch: 05, loss: -0.96822\n",
      "epoch: 06, loss: -0.96999\n",
      "epoch: 07, loss: -0.97139\n",
      "epoch: 08, loss: -0.97258\n",
      "epoch: 09, loss: -0.97364\n",
      "torch.Size([1024, 64])\n"
     ]
    },
    {
     "name": "stderr",
     "output_type": "stream",
     "text": [
      " 23%|██▎       | 231/999 [3:11:15<10:41:16, 50.10s/it]"
     ]
    },
    {
     "name": "stdout",
     "output_type": "stream",
     "text": [
      "eigenvalues shape torch.Size([5]) eigenvectors shape torch.Size([5, 1024])\n",
      "231 /home/phdcs2/Hard_Disk/Datasets/Deep-Spectral-Segmentation/data/object-segmentation/ECSSD/features/0233_resized.pth\n",
      "dict_keys(['k', 'indices', 'file', 'id', 'model_name', 'patch_size', 'shape'])\n",
      "0233_resized\n",
      "Starting Training\n",
      "epoch: 00, loss: -0.91483\n",
      "epoch: 01, loss: -0.94835\n",
      "epoch: 02, loss: -0.95608\n",
      "epoch: 03, loss: -0.96059\n",
      "epoch: 04, loss: -0.96364\n",
      "epoch: 05, loss: -0.96593\n",
      "epoch: 06, loss: -0.96775\n",
      "epoch: 07, loss: -0.96922\n",
      "epoch: 08, loss: -0.97045\n",
      "epoch: 09, loss: -0.97151\n",
      "torch.Size([1024, 64])\n"
     ]
    },
    {
     "name": "stderr",
     "output_type": "stream",
     "text": [
      " 23%|██▎       | 232/999 [3:12:03<10:33:18, 49.54s/it]"
     ]
    },
    {
     "name": "stdout",
     "output_type": "stream",
     "text": [
      "eigenvalues shape torch.Size([5]) eigenvectors shape torch.Size([5, 1024])\n",
      "232 /home/phdcs2/Hard_Disk/Datasets/Deep-Spectral-Segmentation/data/object-segmentation/ECSSD/features/0234_resized.pth\n",
      "dict_keys(['k', 'indices', 'file', 'id', 'model_name', 'patch_size', 'shape'])\n",
      "0234_resized\n",
      "Starting Training\n",
      "epoch: 00, loss: -0.91438\n",
      "epoch: 01, loss: -0.94856\n",
      "epoch: 02, loss: -0.95626\n",
      "epoch: 03, loss: -0.96072\n",
      "epoch: 04, loss: -0.96386\n",
      "epoch: 05, loss: -0.96615\n",
      "epoch: 06, loss: -0.96795\n",
      "epoch: 07, loss: -0.96945\n",
      "epoch: 08, loss: -0.97073\n",
      "epoch: 09, loss: -0.97176\n",
      "torch.Size([1024, 64])\n"
     ]
    },
    {
     "name": "stderr",
     "output_type": "stream",
     "text": [
      " 23%|██▎       | 233/999 [3:12:48<10:15:32, 48.22s/it]"
     ]
    },
    {
     "name": "stdout",
     "output_type": "stream",
     "text": [
      "eigenvalues shape torch.Size([5]) eigenvectors shape torch.Size([5, 1024])\n",
      "233 /home/phdcs2/Hard_Disk/Datasets/Deep-Spectral-Segmentation/data/object-segmentation/ECSSD/features/0235_resized.pth\n",
      "dict_keys(['k', 'indices', 'file', 'id', 'model_name', 'patch_size', 'shape'])\n",
      "0235_resized\n",
      "Starting Training\n",
      "epoch: 00, loss: -0.92093\n",
      "epoch: 01, loss: -0.95394\n",
      "epoch: 02, loss: -0.96115\n",
      "epoch: 03, loss: -0.96535\n",
      "epoch: 04, loss: -0.96820\n",
      "epoch: 05, loss: -0.97035\n",
      "epoch: 06, loss: -0.97202\n",
      "epoch: 07, loss: -0.97339\n",
      "epoch: 08, loss: -0.97450\n",
      "epoch: 09, loss: -0.97547\n",
      "torch.Size([1024, 64])\n"
     ]
    },
    {
     "name": "stderr",
     "output_type": "stream",
     "text": [
      " 23%|██▎       | 234/999 [3:13:42<10:35:33, 49.85s/it]"
     ]
    },
    {
     "name": "stdout",
     "output_type": "stream",
     "text": [
      "eigenvalues shape torch.Size([5]) eigenvectors shape torch.Size([5, 1024])\n",
      "234 /home/phdcs2/Hard_Disk/Datasets/Deep-Spectral-Segmentation/data/object-segmentation/ECSSD/features/0236_resized.pth\n",
      "dict_keys(['k', 'indices', 'file', 'id', 'model_name', 'patch_size', 'shape'])\n",
      "0236_resized\n",
      "Starting Training\n",
      "epoch: 00, loss: -0.92092\n",
      "epoch: 01, loss: -0.95186\n",
      "epoch: 02, loss: -0.95930\n",
      "epoch: 03, loss: -0.96361\n",
      "epoch: 04, loss: -0.96653\n",
      "epoch: 05, loss: -0.96868\n",
      "epoch: 06, loss: -0.97037\n",
      "epoch: 07, loss: -0.97174\n",
      "epoch: 08, loss: -0.97289\n",
      "epoch: 09, loss: -0.97386\n",
      "torch.Size([1024, 64])\n"
     ]
    },
    {
     "name": "stderr",
     "output_type": "stream",
     "text": [
      " 24%|██▎       | 235/999 [3:14:36<10:52:44, 51.26s/it]"
     ]
    },
    {
     "name": "stdout",
     "output_type": "stream",
     "text": [
      "eigenvalues shape torch.Size([5]) eigenvectors shape torch.Size([5, 1024])\n",
      "235 /home/phdcs2/Hard_Disk/Datasets/Deep-Spectral-Segmentation/data/object-segmentation/ECSSD/features/0237_resized.pth\n",
      "dict_keys(['k', 'indices', 'file', 'id', 'model_name', 'patch_size', 'shape'])\n",
      "0237_resized\n",
      "Starting Training\n",
      "epoch: 00, loss: -0.90361\n",
      "epoch: 01, loss: -0.94300\n",
      "epoch: 02, loss: -0.95256\n",
      "epoch: 03, loss: -0.95792\n",
      "epoch: 04, loss: -0.96150\n",
      "epoch: 05, loss: -0.96426\n",
      "epoch: 06, loss: -0.96632\n",
      "epoch: 07, loss: -0.96806\n",
      "epoch: 08, loss: -0.96944\n",
      "epoch: 09, loss: -0.97068\n",
      "torch.Size([1024, 64])\n"
     ]
    },
    {
     "name": "stderr",
     "output_type": "stream",
     "text": [
      " 24%|██▎       | 236/999 [3:15:25<10:41:20, 50.43s/it]"
     ]
    },
    {
     "name": "stdout",
     "output_type": "stream",
     "text": [
      "eigenvalues shape torch.Size([5]) eigenvectors shape torch.Size([5, 1024])\n",
      "236 /home/phdcs2/Hard_Disk/Datasets/Deep-Spectral-Segmentation/data/object-segmentation/ECSSD/features/0238_resized.pth\n",
      "dict_keys(['k', 'indices', 'file', 'id', 'model_name', 'patch_size', 'shape'])\n",
      "0238_resized\n",
      "Starting Training\n",
      "epoch: 00, loss: -0.94826\n",
      "epoch: 01, loss: -0.96999\n",
      "epoch: 02, loss: -0.97456\n",
      "epoch: 03, loss: -0.97723\n",
      "epoch: 04, loss: -0.97905\n",
      "epoch: 05, loss: -0.98043\n",
      "epoch: 06, loss: -0.98151\n",
      "epoch: 07, loss: -0.98239\n",
      "epoch: 08, loss: -0.98314\n",
      "epoch: 09, loss: -0.98376\n",
      "torch.Size([1024, 64])\n"
     ]
    },
    {
     "name": "stderr",
     "output_type": "stream",
     "text": [
      " 24%|██▎       | 237/999 [3:16:08<10:12:40, 48.24s/it]"
     ]
    },
    {
     "name": "stdout",
     "output_type": "stream",
     "text": [
      "eigenvalues shape torch.Size([5]) eigenvectors shape torch.Size([5, 1024])\n",
      "237 /home/phdcs2/Hard_Disk/Datasets/Deep-Spectral-Segmentation/data/object-segmentation/ECSSD/features/0239_resized.pth\n",
      "dict_keys(['k', 'indices', 'file', 'id', 'model_name', 'patch_size', 'shape'])\n",
      "0239_resized\n",
      "Starting Training\n",
      "epoch: 00, loss: -0.91887\n",
      "epoch: 01, loss: -0.95155\n",
      "epoch: 02, loss: -0.95948\n",
      "epoch: 03, loss: -0.96397\n",
      "epoch: 04, loss: -0.96711\n",
      "epoch: 05, loss: -0.96946\n",
      "epoch: 06, loss: -0.97134\n",
      "epoch: 07, loss: -0.97276\n",
      "epoch: 08, loss: -0.97399\n",
      "epoch: 09, loss: -0.97507\n",
      "torch.Size([1024, 64])\n"
     ]
    },
    {
     "name": "stderr",
     "output_type": "stream",
     "text": [
      " 24%|██▍       | 238/999 [3:17:03<10:39:09, 50.39s/it]"
     ]
    },
    {
     "name": "stdout",
     "output_type": "stream",
     "text": [
      "eigenvalues shape torch.Size([5]) eigenvectors shape torch.Size([5, 1024])\n",
      "238 /home/phdcs2/Hard_Disk/Datasets/Deep-Spectral-Segmentation/data/object-segmentation/ECSSD/features/0240_resized.pth\n",
      "dict_keys(['k', 'indices', 'file', 'id', 'model_name', 'patch_size', 'shape'])\n",
      "0240_resized\n",
      "Starting Training\n",
      "epoch: 00, loss: -0.91663\n",
      "epoch: 01, loss: -0.95019\n",
      "epoch: 02, loss: -0.95817\n",
      "epoch: 03, loss: -0.96268\n",
      "epoch: 04, loss: -0.96570\n",
      "epoch: 05, loss: -0.96807\n",
      "epoch: 06, loss: -0.96982\n",
      "epoch: 07, loss: -0.97126\n",
      "epoch: 08, loss: -0.97246\n",
      "epoch: 09, loss: -0.97352\n",
      "torch.Size([1024, 64])\n"
     ]
    },
    {
     "name": "stderr",
     "output_type": "stream",
     "text": [
      " 24%|██▍       | 239/999 [3:17:57<10:51:10, 51.41s/it]"
     ]
    },
    {
     "name": "stdout",
     "output_type": "stream",
     "text": [
      "eigenvalues shape torch.Size([5]) eigenvectors shape torch.Size([5, 1024])\n",
      "239 /home/phdcs2/Hard_Disk/Datasets/Deep-Spectral-Segmentation/data/object-segmentation/ECSSD/features/0241_resized.pth\n",
      "dict_keys(['k', 'indices', 'file', 'id', 'model_name', 'patch_size', 'shape'])\n",
      "0241_resized\n",
      "Starting Training\n",
      "epoch: 00, loss: -0.92846\n",
      "epoch: 01, loss: -0.95875\n",
      "epoch: 02, loss: -0.96500\n",
      "epoch: 03, loss: -0.96860\n",
      "epoch: 04, loss: -0.97112\n",
      "epoch: 05, loss: -0.97296\n",
      "epoch: 06, loss: -0.97443\n",
      "epoch: 07, loss: -0.97560\n",
      "epoch: 08, loss: -0.97660\n",
      "epoch: 09, loss: -0.97745\n",
      "torch.Size([1024, 64])\n"
     ]
    },
    {
     "name": "stderr",
     "output_type": "stream",
     "text": [
      " 24%|██▍       | 240/999 [3:18:45<10:37:25, 50.39s/it]"
     ]
    },
    {
     "name": "stdout",
     "output_type": "stream",
     "text": [
      "eigenvalues shape torch.Size([5]) eigenvectors shape torch.Size([5, 1024])\n",
      "240 /home/phdcs2/Hard_Disk/Datasets/Deep-Spectral-Segmentation/data/object-segmentation/ECSSD/features/0242_resized.pth\n",
      "dict_keys(['k', 'indices', 'file', 'id', 'model_name', 'patch_size', 'shape'])\n",
      "0242_resized\n",
      "Starting Training\n",
      "epoch: 00, loss: -0.91490\n",
      "epoch: 01, loss: -0.94845\n",
      "epoch: 02, loss: -0.95634\n",
      "epoch: 03, loss: -0.96097\n",
      "epoch: 04, loss: -0.96414\n",
      "epoch: 05, loss: -0.96659\n",
      "epoch: 06, loss: -0.96844\n",
      "epoch: 07, loss: -0.96997\n",
      "epoch: 08, loss: -0.97128\n",
      "epoch: 09, loss: -0.97237\n",
      "torch.Size([1024, 64])\n"
     ]
    },
    {
     "name": "stderr",
     "output_type": "stream",
     "text": [
      " 24%|██▍       | 241/999 [3:19:31<10:18:15, 48.94s/it]"
     ]
    },
    {
     "name": "stdout",
     "output_type": "stream",
     "text": [
      "eigenvalues shape torch.Size([5]) eigenvectors shape torch.Size([5, 1024])\n",
      "241 /home/phdcs2/Hard_Disk/Datasets/Deep-Spectral-Segmentation/data/object-segmentation/ECSSD/features/0243_resized.pth\n",
      "dict_keys(['k', 'indices', 'file', 'id', 'model_name', 'patch_size', 'shape'])\n",
      "0243_resized\n",
      "Starting Training\n",
      "epoch: 00, loss: -0.92940\n",
      "epoch: 01, loss: -0.95777\n",
      "epoch: 02, loss: -0.96407\n",
      "epoch: 03, loss: -0.96775\n",
      "epoch: 04, loss: -0.97029\n",
      "epoch: 05, loss: -0.97220\n",
      "epoch: 06, loss: -0.97369\n",
      "epoch: 07, loss: -0.97489\n",
      "epoch: 08, loss: -0.97591\n",
      "epoch: 09, loss: -0.97679\n",
      "torch.Size([1024, 64])\n"
     ]
    },
    {
     "name": "stderr",
     "output_type": "stream",
     "text": [
      " 24%|██▍       | 242/999 [3:20:27<10:44:47, 51.11s/it]"
     ]
    },
    {
     "name": "stdout",
     "output_type": "stream",
     "text": [
      "eigenvalues shape torch.Size([5]) eigenvectors shape torch.Size([5, 1024])\n",
      "242 /home/phdcs2/Hard_Disk/Datasets/Deep-Spectral-Segmentation/data/object-segmentation/ECSSD/features/0244_resized.pth\n",
      "dict_keys(['k', 'indices', 'file', 'id', 'model_name', 'patch_size', 'shape'])\n",
      "0244_resized\n",
      "Starting Training\n",
      "epoch: 00, loss: -0.92031\n",
      "epoch: 01, loss: -0.94971\n",
      "epoch: 02, loss: -0.95735\n",
      "epoch: 03, loss: -0.96177\n",
      "epoch: 04, loss: -0.96477\n",
      "epoch: 05, loss: -0.96701\n",
      "epoch: 06, loss: -0.96877\n",
      "epoch: 07, loss: -0.97023\n",
      "epoch: 08, loss: -0.97140\n",
      "epoch: 09, loss: -0.97242\n",
      "torch.Size([1024, 64])\n"
     ]
    },
    {
     "name": "stderr",
     "output_type": "stream",
     "text": [
      " 24%|██▍       | 243/999 [3:21:19<10:48:02, 51.43s/it]"
     ]
    },
    {
     "name": "stdout",
     "output_type": "stream",
     "text": [
      "eigenvalues shape torch.Size([5]) eigenvectors shape torch.Size([5, 1024])\n",
      "243 /home/phdcs2/Hard_Disk/Datasets/Deep-Spectral-Segmentation/data/object-segmentation/ECSSD/features/0245_resized.pth\n",
      "dict_keys(['k', 'indices', 'file', 'id', 'model_name', 'patch_size', 'shape'])\n",
      "0245_resized\n",
      "Starting Training\n",
      "epoch: 00, loss: -0.90483\n",
      "epoch: 01, loss: -0.94384\n",
      "epoch: 02, loss: -0.95298\n",
      "epoch: 03, loss: -0.95826\n",
      "epoch: 04, loss: -0.96169\n",
      "epoch: 05, loss: -0.96433\n",
      "epoch: 06, loss: -0.96639\n",
      "epoch: 07, loss: -0.96800\n",
      "epoch: 08, loss: -0.96938\n",
      "epoch: 09, loss: -0.97058\n",
      "torch.Size([1024, 64])\n"
     ]
    },
    {
     "name": "stderr",
     "output_type": "stream",
     "text": [
      " 24%|██▍       | 244/999 [3:22:09<10:42:27, 51.06s/it]"
     ]
    },
    {
     "name": "stdout",
     "output_type": "stream",
     "text": [
      "eigenvalues shape torch.Size([5]) eigenvectors shape torch.Size([5, 1024])\n",
      "244 /home/phdcs2/Hard_Disk/Datasets/Deep-Spectral-Segmentation/data/object-segmentation/ECSSD/features/0246_resized.pth\n",
      "dict_keys(['k', 'indices', 'file', 'id', 'model_name', 'patch_size', 'shape'])\n",
      "0246_resized\n",
      "Starting Training\n",
      "epoch: 00, loss: -0.88080\n",
      "epoch: 01, loss: -0.92848\n",
      "epoch: 02, loss: -0.94031\n",
      "epoch: 03, loss: -0.94706\n",
      "epoch: 04, loss: -0.95180\n",
      "epoch: 05, loss: -0.95503\n",
      "epoch: 06, loss: -0.95769\n",
      "epoch: 07, loss: -0.95984\n",
      "epoch: 08, loss: -0.96164\n",
      "epoch: 09, loss: -0.96312\n",
      "torch.Size([1024, 64])\n"
     ]
    },
    {
     "name": "stderr",
     "output_type": "stream",
     "text": [
      " 25%|██▍       | 245/999 [3:22:57<10:28:38, 50.02s/it]"
     ]
    },
    {
     "name": "stdout",
     "output_type": "stream",
     "text": [
      "eigenvalues shape torch.Size([5]) eigenvectors shape torch.Size([5, 1024])\n",
      "245 /home/phdcs2/Hard_Disk/Datasets/Deep-Spectral-Segmentation/data/object-segmentation/ECSSD/features/0247_resized.pth\n",
      "dict_keys(['k', 'indices', 'file', 'id', 'model_name', 'patch_size', 'shape'])\n",
      "0247_resized\n",
      "Starting Training\n",
      "epoch: 00, loss: -0.88156\n",
      "epoch: 01, loss: -0.92760\n",
      "epoch: 02, loss: -0.93972\n",
      "epoch: 03, loss: -0.94655\n",
      "epoch: 04, loss: -0.95104\n",
      "epoch: 05, loss: -0.95444\n",
      "epoch: 06, loss: -0.95695\n",
      "epoch: 07, loss: -0.95908\n",
      "epoch: 08, loss: -0.96084\n",
      "epoch: 09, loss: -0.96223\n",
      "torch.Size([1024, 64])\n"
     ]
    },
    {
     "name": "stderr",
     "output_type": "stream",
     "text": [
      " 25%|██▍       | 246/999 [3:23:41<10:04:14, 48.15s/it]"
     ]
    },
    {
     "name": "stdout",
     "output_type": "stream",
     "text": [
      "eigenvalues shape torch.Size([5]) eigenvectors shape torch.Size([5, 1024])\n",
      "246 /home/phdcs2/Hard_Disk/Datasets/Deep-Spectral-Segmentation/data/object-segmentation/ECSSD/features/0248_resized.pth\n",
      "dict_keys(['k', 'indices', 'file', 'id', 'model_name', 'patch_size', 'shape'])\n",
      "0248_resized\n",
      "Starting Training\n",
      "epoch: 00, loss: -0.89021\n",
      "epoch: 01, loss: -0.93444\n",
      "epoch: 02, loss: -0.94563\n",
      "epoch: 03, loss: -0.95186\n",
      "epoch: 04, loss: -0.95604\n",
      "epoch: 05, loss: -0.95930\n",
      "epoch: 06, loss: -0.96164\n",
      "epoch: 07, loss: -0.96367\n",
      "epoch: 08, loss: -0.96529\n",
      "epoch: 09, loss: -0.96667\n",
      "torch.Size([1024, 64])\n"
     ]
    },
    {
     "name": "stderr",
     "output_type": "stream",
     "text": [
      " 25%|██▍       | 247/999 [3:24:40<10:44:46, 51.44s/it]"
     ]
    },
    {
     "name": "stdout",
     "output_type": "stream",
     "text": [
      "eigenvalues shape torch.Size([5]) eigenvectors shape torch.Size([5, 1024])\n",
      "247 /home/phdcs2/Hard_Disk/Datasets/Deep-Spectral-Segmentation/data/object-segmentation/ECSSD/features/0249_resized.pth\n",
      "dict_keys(['k', 'indices', 'file', 'id', 'model_name', 'patch_size', 'shape'])\n",
      "0249_resized\n",
      "Starting Training\n",
      "epoch: 00, loss: -0.92612\n",
      "epoch: 01, loss: -0.95695\n",
      "epoch: 02, loss: -0.96379\n",
      "epoch: 03, loss: -0.96772\n",
      "epoch: 04, loss: -0.97032\n",
      "epoch: 05, loss: -0.97235\n",
      "epoch: 06, loss: -0.97385\n",
      "epoch: 07, loss: -0.97510\n",
      "epoch: 08, loss: -0.97614\n",
      "epoch: 09, loss: -0.97704\n",
      "torch.Size([1024, 64])\n"
     ]
    },
    {
     "name": "stderr",
     "output_type": "stream",
     "text": [
      " 25%|██▍       | 248/999 [3:25:33<10:51:42, 52.07s/it]"
     ]
    },
    {
     "name": "stdout",
     "output_type": "stream",
     "text": [
      "eigenvalues shape torch.Size([5]) eigenvectors shape torch.Size([5, 1024])\n",
      "248 /home/phdcs2/Hard_Disk/Datasets/Deep-Spectral-Segmentation/data/object-segmentation/ECSSD/features/0250_resized.pth\n",
      "dict_keys(['k', 'indices', 'file', 'id', 'model_name', 'patch_size', 'shape'])\n",
      "0250_resized\n",
      "Starting Training\n",
      "epoch: 00, loss: -0.92147\n",
      "epoch: 01, loss: -0.95029\n",
      "epoch: 02, loss: -0.95759\n",
      "epoch: 03, loss: -0.96187\n",
      "epoch: 04, loss: -0.96482\n",
      "epoch: 05, loss: -0.96706\n",
      "epoch: 06, loss: -0.96879\n",
      "epoch: 07, loss: -0.97019\n",
      "epoch: 08, loss: -0.97139\n",
      "epoch: 09, loss: -0.97242\n",
      "torch.Size([1024, 64])\n"
     ]
    },
    {
     "name": "stderr",
     "output_type": "stream",
     "text": [
      " 25%|██▍       | 249/999 [3:26:26<10:55:18, 52.42s/it]"
     ]
    },
    {
     "name": "stdout",
     "output_type": "stream",
     "text": [
      "eigenvalues shape torch.Size([5]) eigenvectors shape torch.Size([5, 1024])\n",
      "249 /home/phdcs2/Hard_Disk/Datasets/Deep-Spectral-Segmentation/data/object-segmentation/ECSSD/features/0251_resized.pth\n",
      "dict_keys(['k', 'indices', 'file', 'id', 'model_name', 'patch_size', 'shape'])\n",
      "0251_resized\n",
      "Starting Training\n",
      "epoch: 00, loss: -0.93446\n",
      "epoch: 01, loss: -0.96036\n",
      "epoch: 02, loss: -0.96637\n",
      "epoch: 03, loss: -0.96987\n",
      "epoch: 04, loss: -0.97232\n",
      "epoch: 05, loss: -0.97413\n",
      "epoch: 06, loss: -0.97555\n",
      "epoch: 07, loss: -0.97671\n",
      "epoch: 08, loss: -0.97770\n",
      "epoch: 09, loss: -0.97853\n",
      "torch.Size([1024, 64])\n"
     ]
    },
    {
     "name": "stderr",
     "output_type": "stream",
     "text": [
      " 25%|██▌       | 250/999 [3:27:19<10:55:49, 52.54s/it]"
     ]
    },
    {
     "name": "stdout",
     "output_type": "stream",
     "text": [
      "eigenvalues shape torch.Size([5]) eigenvectors shape torch.Size([5, 1024])\n",
      "250 /home/phdcs2/Hard_Disk/Datasets/Deep-Spectral-Segmentation/data/object-segmentation/ECSSD/features/0252_resized.pth\n",
      "dict_keys(['k', 'indices', 'file', 'id', 'model_name', 'patch_size', 'shape'])\n",
      "0252_resized\n",
      "Starting Training\n",
      "epoch: 00, loss: -0.92792\n",
      "epoch: 01, loss: -0.95601\n",
      "epoch: 02, loss: -0.96263\n",
      "epoch: 03, loss: -0.96649\n",
      "epoch: 04, loss: -0.96917\n",
      "epoch: 05, loss: -0.97116\n",
      "epoch: 06, loss: -0.97272\n",
      "epoch: 07, loss: -0.97402\n",
      "epoch: 08, loss: -0.97506\n",
      "epoch: 09, loss: -0.97600\n",
      "torch.Size([1024, 64])\n"
     ]
    },
    {
     "name": "stderr",
     "output_type": "stream",
     "text": [
      " 25%|██▌       | 251/999 [3:28:09<10:43:18, 51.60s/it]"
     ]
    },
    {
     "name": "stdout",
     "output_type": "stream",
     "text": [
      "eigenvalues shape torch.Size([5]) eigenvectors shape torch.Size([5, 1024])\n",
      "251 /home/phdcs2/Hard_Disk/Datasets/Deep-Spectral-Segmentation/data/object-segmentation/ECSSD/features/0253_resized.pth\n",
      "dict_keys(['k', 'indices', 'file', 'id', 'model_name', 'patch_size', 'shape'])\n",
      "0253_resized\n",
      "Starting Training\n",
      "epoch: 00, loss: -0.91183\n",
      "epoch: 01, loss: -0.94913\n",
      "epoch: 02, loss: -0.95784\n",
      "epoch: 03, loss: -0.96277\n",
      "epoch: 04, loss: -0.96606\n",
      "epoch: 05, loss: -0.96849\n",
      "epoch: 06, loss: -0.97037\n",
      "epoch: 07, loss: -0.97184\n",
      "epoch: 08, loss: -0.97313\n",
      "epoch: 09, loss: -0.97419\n",
      "torch.Size([1024, 64])\n"
     ]
    },
    {
     "name": "stderr",
     "output_type": "stream",
     "text": [
      " 25%|██▌       | 252/999 [3:28:53<10:16:53, 49.55s/it]"
     ]
    },
    {
     "name": "stdout",
     "output_type": "stream",
     "text": [
      "eigenvalues shape torch.Size([5]) eigenvectors shape torch.Size([5, 1024])\n",
      "252 /home/phdcs2/Hard_Disk/Datasets/Deep-Spectral-Segmentation/data/object-segmentation/ECSSD/features/0254_resized.pth\n",
      "dict_keys(['k', 'indices', 'file', 'id', 'model_name', 'patch_size', 'shape'])\n",
      "0254_resized\n",
      "Starting Training\n",
      "epoch: 00, loss: -0.91560\n",
      "epoch: 01, loss: -0.94965\n",
      "epoch: 02, loss: -0.95768\n",
      "epoch: 03, loss: -0.96223\n",
      "epoch: 04, loss: -0.96544\n",
      "epoch: 05, loss: -0.96779\n",
      "epoch: 06, loss: -0.96960\n",
      "epoch: 07, loss: -0.97104\n",
      "epoch: 08, loss: -0.97228\n",
      "epoch: 09, loss: -0.97332\n",
      "torch.Size([1024, 64])\n"
     ]
    },
    {
     "name": "stderr",
     "output_type": "stream",
     "text": [
      " 25%|██▌       | 253/999 [3:29:41<10:10:18, 49.09s/it]"
     ]
    },
    {
     "name": "stdout",
     "output_type": "stream",
     "text": [
      "eigenvalues shape torch.Size([5]) eigenvectors shape torch.Size([5, 1024])\n",
      "253 /home/phdcs2/Hard_Disk/Datasets/Deep-Spectral-Segmentation/data/object-segmentation/ECSSD/features/0255_resized.pth\n",
      "dict_keys(['k', 'indices', 'file', 'id', 'model_name', 'patch_size', 'shape'])\n",
      "0255_resized\n",
      "Starting Training\n",
      "epoch: 00, loss: -0.92231\n",
      "epoch: 01, loss: -0.95222\n",
      "epoch: 02, loss: -0.95947\n",
      "epoch: 03, loss: -0.96364\n",
      "epoch: 04, loss: -0.96644\n",
      "epoch: 05, loss: -0.96866\n",
      "epoch: 06, loss: -0.97025\n",
      "epoch: 07, loss: -0.97170\n",
      "epoch: 08, loss: -0.97288\n",
      "epoch: 09, loss: -0.97391\n",
      "torch.Size([1024, 64])\n"
     ]
    },
    {
     "name": "stderr",
     "output_type": "stream",
     "text": [
      " 25%|██▌       | 254/999 [3:30:29<10:05:08, 48.74s/it]"
     ]
    },
    {
     "name": "stdout",
     "output_type": "stream",
     "text": [
      "eigenvalues shape torch.Size([5]) eigenvectors shape torch.Size([5, 1024])\n",
      "254 /home/phdcs2/Hard_Disk/Datasets/Deep-Spectral-Segmentation/data/object-segmentation/ECSSD/features/0256_resized.pth\n",
      "dict_keys(['k', 'indices', 'file', 'id', 'model_name', 'patch_size', 'shape'])\n",
      "0256_resized\n",
      "Starting Training\n",
      "epoch: 00, loss: -0.94347\n",
      "epoch: 01, loss: -0.96673\n",
      "epoch: 02, loss: -0.97152\n",
      "epoch: 03, loss: -0.97433\n",
      "epoch: 04, loss: -0.97628\n",
      "epoch: 05, loss: -0.97770\n",
      "epoch: 06, loss: -0.97882\n",
      "epoch: 07, loss: -0.97974\n",
      "epoch: 08, loss: -0.98051\n",
      "epoch: 09, loss: -0.98117\n",
      "torch.Size([1024, 64])\n"
     ]
    },
    {
     "name": "stderr",
     "output_type": "stream",
     "text": [
      " 26%|██▌       | 255/999 [3:31:21<10:14:14, 49.54s/it]"
     ]
    },
    {
     "name": "stdout",
     "output_type": "stream",
     "text": [
      "eigenvalues shape torch.Size([5]) eigenvectors shape torch.Size([5, 1024])\n",
      "255 /home/phdcs2/Hard_Disk/Datasets/Deep-Spectral-Segmentation/data/object-segmentation/ECSSD/features/0257_resized.pth\n",
      "dict_keys(['k', 'indices', 'file', 'id', 'model_name', 'patch_size', 'shape'])\n",
      "0257_resized\n",
      "Starting Training\n",
      "epoch: 00, loss: -0.87832\n",
      "epoch: 01, loss: -0.92572\n",
      "epoch: 02, loss: -0.93847\n",
      "epoch: 03, loss: -0.94566\n",
      "epoch: 04, loss: -0.95048\n",
      "epoch: 05, loss: -0.95410\n",
      "epoch: 06, loss: -0.95692\n",
      "epoch: 07, loss: -0.95916\n",
      "epoch: 08, loss: -0.96103\n",
      "epoch: 09, loss: -0.96259\n",
      "torch.Size([1024, 64])\n"
     ]
    },
    {
     "name": "stderr",
     "output_type": "stream",
     "text": [
      " 26%|██▌       | 256/999 [3:32:09<10:07:10, 49.03s/it]"
     ]
    },
    {
     "name": "stdout",
     "output_type": "stream",
     "text": [
      "eigenvalues shape torch.Size([5]) eigenvectors shape torch.Size([5, 1024])\n",
      "256 /home/phdcs2/Hard_Disk/Datasets/Deep-Spectral-Segmentation/data/object-segmentation/ECSSD/features/0258_resized.pth\n",
      "dict_keys(['k', 'indices', 'file', 'id', 'model_name', 'patch_size', 'shape'])\n",
      "0258_resized\n",
      "Starting Training\n",
      "epoch: 00, loss: -0.91183\n",
      "epoch: 01, loss: -0.94662\n",
      "epoch: 02, loss: -0.95524\n",
      "epoch: 03, loss: -0.96027\n",
      "epoch: 04, loss: -0.96367\n",
      "epoch: 05, loss: -0.96628\n",
      "epoch: 06, loss: -0.96826\n",
      "epoch: 07, loss: -0.96993\n",
      "epoch: 08, loss: -0.97129\n",
      "epoch: 09, loss: -0.97244\n",
      "torch.Size([1024, 64])\n"
     ]
    },
    {
     "name": "stderr",
     "output_type": "stream",
     "text": [
      " 26%|██▌       | 257/999 [3:33:01<10:18:45, 50.03s/it]"
     ]
    },
    {
     "name": "stdout",
     "output_type": "stream",
     "text": [
      "eigenvalues shape torch.Size([5]) eigenvectors shape torch.Size([5, 1024])\n",
      "257 /home/phdcs2/Hard_Disk/Datasets/Deep-Spectral-Segmentation/data/object-segmentation/ECSSD/features/0259_resized.pth\n",
      "dict_keys(['k', 'indices', 'file', 'id', 'model_name', 'patch_size', 'shape'])\n",
      "0259_resized\n",
      "Starting Training\n",
      "epoch: 00, loss: -0.91290\n",
      "epoch: 01, loss: -0.94622\n",
      "epoch: 02, loss: -0.95456\n",
      "epoch: 03, loss: -0.95937\n",
      "epoch: 04, loss: -0.96266\n",
      "epoch: 05, loss: -0.96511\n",
      "epoch: 06, loss: -0.96704\n",
      "epoch: 07, loss: -0.96863\n",
      "epoch: 08, loss: -0.96995\n",
      "epoch: 09, loss: -0.97108\n",
      "torch.Size([1024, 64])\n"
     ]
    },
    {
     "name": "stderr",
     "output_type": "stream",
     "text": [
      " 26%|██▌       | 258/999 [3:33:51<10:19:11, 50.14s/it]"
     ]
    },
    {
     "name": "stdout",
     "output_type": "stream",
     "text": [
      "eigenvalues shape torch.Size([5]) eigenvectors shape torch.Size([5, 1024])\n",
      "258 /home/phdcs2/Hard_Disk/Datasets/Deep-Spectral-Segmentation/data/object-segmentation/ECSSD/features/0260_resized.pth\n",
      "dict_keys(['k', 'indices', 'file', 'id', 'model_name', 'patch_size', 'shape'])\n",
      "0260_resized\n",
      "Starting Training\n",
      "epoch: 00, loss: -0.93590\n",
      "epoch: 01, loss: -0.96082\n",
      "epoch: 02, loss: -0.96674\n",
      "epoch: 03, loss: -0.97025\n",
      "epoch: 04, loss: -0.97263\n",
      "epoch: 05, loss: -0.97443\n",
      "epoch: 06, loss: -0.97585\n",
      "epoch: 07, loss: -0.97701\n",
      "epoch: 08, loss: -0.97797\n",
      "epoch: 09, loss: -0.97881\n",
      "torch.Size([1024, 64])\n"
     ]
    },
    {
     "name": "stderr",
     "output_type": "stream",
     "text": [
      " 26%|██▌       | 259/999 [3:34:43<10:22:51, 50.50s/it]"
     ]
    },
    {
     "name": "stdout",
     "output_type": "stream",
     "text": [
      "eigenvalues shape torch.Size([5]) eigenvectors shape torch.Size([5, 1024])\n",
      "259 /home/phdcs2/Hard_Disk/Datasets/Deep-Spectral-Segmentation/data/object-segmentation/ECSSD/features/0261_resized.pth\n",
      "dict_keys(['k', 'indices', 'file', 'id', 'model_name', 'patch_size', 'shape'])\n",
      "0261_resized\n",
      "Starting Training\n",
      "epoch: 00, loss: -0.92749\n",
      "epoch: 01, loss: -0.95822\n",
      "epoch: 02, loss: -0.96435\n",
      "epoch: 03, loss: -0.96790\n",
      "epoch: 04, loss: -0.97037\n",
      "epoch: 05, loss: -0.97224\n",
      "epoch: 06, loss: -0.97370\n",
      "epoch: 07, loss: -0.97491\n",
      "epoch: 08, loss: -0.97594\n",
      "epoch: 09, loss: -0.97680\n",
      "torch.Size([1024, 64])\n"
     ]
    },
    {
     "name": "stderr",
     "output_type": "stream",
     "text": [
      " 26%|██▌       | 260/999 [3:35:33<10:22:53, 50.57s/it]"
     ]
    },
    {
     "name": "stdout",
     "output_type": "stream",
     "text": [
      "eigenvalues shape torch.Size([5]) eigenvectors shape torch.Size([5, 1024])\n",
      "260 /home/phdcs2/Hard_Disk/Datasets/Deep-Spectral-Segmentation/data/object-segmentation/ECSSD/features/0262_resized.pth\n",
      "dict_keys(['k', 'indices', 'file', 'id', 'model_name', 'patch_size', 'shape'])\n",
      "0262_resized\n",
      "Starting Training\n",
      "epoch: 00, loss: -0.93290\n",
      "epoch: 01, loss: -0.95978\n",
      "epoch: 02, loss: -0.96564\n",
      "epoch: 03, loss: -0.96901\n",
      "epoch: 04, loss: -0.97132\n",
      "epoch: 05, loss: -0.97307\n",
      "epoch: 06, loss: -0.97444\n",
      "epoch: 07, loss: -0.97556\n",
      "epoch: 08, loss: -0.97648\n",
      "epoch: 09, loss: -0.97729\n",
      "torch.Size([1024, 64])\n"
     ]
    },
    {
     "name": "stderr",
     "output_type": "stream",
     "text": [
      " 26%|██▌       | 261/999 [3:36:22<10:13:58, 49.92s/it]"
     ]
    },
    {
     "name": "stdout",
     "output_type": "stream",
     "text": [
      "eigenvalues shape torch.Size([5]) eigenvectors shape torch.Size([5, 1024])\n",
      "261 /home/phdcs2/Hard_Disk/Datasets/Deep-Spectral-Segmentation/data/object-segmentation/ECSSD/features/0263_resized.pth\n",
      "dict_keys(['k', 'indices', 'file', 'id', 'model_name', 'patch_size', 'shape'])\n",
      "0263_resized\n",
      "Starting Training\n",
      "epoch: 00, loss: -0.92183\n",
      "epoch: 01, loss: -0.95252\n",
      "epoch: 02, loss: -0.95976\n",
      "epoch: 03, loss: -0.96394\n",
      "epoch: 04, loss: -0.96677\n",
      "epoch: 05, loss: -0.96890\n",
      "epoch: 06, loss: -0.97069\n",
      "epoch: 07, loss: -0.97203\n",
      "epoch: 08, loss: -0.97319\n",
      "epoch: 09, loss: -0.97416\n",
      "torch.Size([1024, 64])\n"
     ]
    },
    {
     "name": "stderr",
     "output_type": "stream",
     "text": [
      " 26%|██▌       | 262/999 [3:37:07<9:56:16, 48.54s/it] "
     ]
    },
    {
     "name": "stdout",
     "output_type": "stream",
     "text": [
      "eigenvalues shape torch.Size([5]) eigenvectors shape torch.Size([5, 1024])\n",
      "262 /home/phdcs2/Hard_Disk/Datasets/Deep-Spectral-Segmentation/data/object-segmentation/ECSSD/features/0264_resized.pth\n",
      "dict_keys(['k', 'indices', 'file', 'id', 'model_name', 'patch_size', 'shape'])\n",
      "0264_resized\n",
      "Starting Training\n",
      "epoch: 00, loss: -0.92177\n",
      "epoch: 01, loss: -0.95569\n",
      "epoch: 02, loss: -0.96266\n",
      "epoch: 03, loss: -0.96668\n",
      "epoch: 04, loss: -0.96942\n",
      "epoch: 05, loss: -0.97146\n",
      "epoch: 06, loss: -0.97303\n",
      "epoch: 07, loss: -0.97433\n",
      "epoch: 08, loss: -0.97538\n",
      "epoch: 09, loss: -0.97631\n",
      "torch.Size([1024, 64])\n"
     ]
    },
    {
     "name": "stderr",
     "output_type": "stream",
     "text": [
      " 26%|██▋       | 263/999 [3:38:04<10:25:26, 50.99s/it]"
     ]
    },
    {
     "name": "stdout",
     "output_type": "stream",
     "text": [
      "eigenvalues shape torch.Size([5]) eigenvectors shape torch.Size([5, 1024])\n",
      "263 /home/phdcs2/Hard_Disk/Datasets/Deep-Spectral-Segmentation/data/object-segmentation/ECSSD/features/0265_resized.pth\n",
      "dict_keys(['k', 'indices', 'file', 'id', 'model_name', 'patch_size', 'shape'])\n",
      "0265_resized\n",
      "Starting Training\n",
      "epoch: 00, loss: -0.91501\n",
      "epoch: 01, loss: -0.94771\n",
      "epoch: 02, loss: -0.95573\n",
      "epoch: 03, loss: -0.96046\n",
      "epoch: 04, loss: -0.96359\n",
      "epoch: 05, loss: -0.96603\n",
      "epoch: 06, loss: -0.96790\n",
      "epoch: 07, loss: -0.96940\n",
      "epoch: 08, loss: -0.97062\n",
      "epoch: 09, loss: -0.97181\n",
      "torch.Size([1024, 64])\n"
     ]
    },
    {
     "name": "stderr",
     "output_type": "stream",
     "text": [
      " 26%|██▋       | 264/999 [3:38:55<10:23:48, 50.92s/it]"
     ]
    },
    {
     "name": "stdout",
     "output_type": "stream",
     "text": [
      "eigenvalues shape torch.Size([5]) eigenvectors shape torch.Size([5, 1024])\n",
      "264 /home/phdcs2/Hard_Disk/Datasets/Deep-Spectral-Segmentation/data/object-segmentation/ECSSD/features/0266_resized.pth\n",
      "dict_keys(['k', 'indices', 'file', 'id', 'model_name', 'patch_size', 'shape'])\n",
      "0266_resized\n",
      "Starting Training\n",
      "epoch: 00, loss: -0.93261\n",
      "epoch: 01, loss: -0.96031\n",
      "epoch: 02, loss: -0.96641\n",
      "epoch: 03, loss: -0.96991\n",
      "epoch: 04, loss: -0.97233\n",
      "epoch: 05, loss: -0.97412\n",
      "epoch: 06, loss: -0.97557\n",
      "epoch: 07, loss: -0.97667\n",
      "epoch: 08, loss: -0.97765\n",
      "epoch: 09, loss: -0.97847\n",
      "torch.Size([1024, 64])\n"
     ]
    },
    {
     "name": "stderr",
     "output_type": "stream",
     "text": [
      " 27%|██▋       | 265/999 [3:39:45<10:20:21, 50.71s/it]"
     ]
    },
    {
     "name": "stdout",
     "output_type": "stream",
     "text": [
      "eigenvalues shape torch.Size([5]) eigenvectors shape torch.Size([5, 1024])\n",
      "265 /home/phdcs2/Hard_Disk/Datasets/Deep-Spectral-Segmentation/data/object-segmentation/ECSSD/features/0267_resized.pth\n",
      "dict_keys(['k', 'indices', 'file', 'id', 'model_name', 'patch_size', 'shape'])\n",
      "0267_resized\n",
      "Starting Training\n",
      "epoch: 00, loss: -0.90060\n",
      "epoch: 01, loss: -0.93943\n",
      "epoch: 02, loss: -0.94933\n",
      "epoch: 03, loss: -0.95507\n",
      "epoch: 04, loss: -0.95894\n",
      "epoch: 05, loss: -0.96187\n",
      "epoch: 06, loss: -0.96411\n",
      "epoch: 07, loss: -0.96591\n",
      "epoch: 08, loss: -0.96742\n",
      "epoch: 09, loss: -0.96869\n",
      "torch.Size([1024, 64])\n"
     ]
    },
    {
     "name": "stderr",
     "output_type": "stream",
     "text": [
      " 27%|██▋       | 266/999 [3:40:30<10:00:21, 49.14s/it]"
     ]
    },
    {
     "name": "stdout",
     "output_type": "stream",
     "text": [
      "eigenvalues shape torch.Size([5]) eigenvectors shape torch.Size([5, 1024])\n",
      "266 /home/phdcs2/Hard_Disk/Datasets/Deep-Spectral-Segmentation/data/object-segmentation/ECSSD/features/0268_resized.pth\n",
      "dict_keys(['k', 'indices', 'file', 'id', 'model_name', 'patch_size', 'shape'])\n",
      "0268_resized\n",
      "Starting Training\n",
      "epoch: 00, loss: -0.92711\n",
      "epoch: 01, loss: -0.95626\n",
      "epoch: 02, loss: -0.96305\n",
      "epoch: 03, loss: -0.96701\n",
      "epoch: 04, loss: -0.96965\n",
      "epoch: 05, loss: -0.97167\n",
      "epoch: 06, loss: -0.97327\n",
      "epoch: 07, loss: -0.97456\n",
      "epoch: 08, loss: -0.97562\n",
      "epoch: 09, loss: -0.97654\n",
      "torch.Size([1024, 64])\n"
     ]
    },
    {
     "name": "stderr",
     "output_type": "stream",
     "text": [
      " 27%|██▋       | 267/999 [3:41:20<10:01:02, 49.27s/it]"
     ]
    },
    {
     "name": "stdout",
     "output_type": "stream",
     "text": [
      "eigenvalues shape torch.Size([5]) eigenvectors shape torch.Size([5, 1024])\n",
      "267 /home/phdcs2/Hard_Disk/Datasets/Deep-Spectral-Segmentation/data/object-segmentation/ECSSD/features/0269_resized.pth\n",
      "dict_keys(['k', 'indices', 'file', 'id', 'model_name', 'patch_size', 'shape'])\n",
      "0269_resized\n",
      "Starting Training\n",
      "epoch: 00, loss: -0.90588\n",
      "epoch: 01, loss: -0.94295\n",
      "epoch: 02, loss: -0.95210\n",
      "epoch: 03, loss: -0.95734\n",
      "epoch: 04, loss: -0.96106\n",
      "epoch: 05, loss: -0.96380\n",
      "epoch: 06, loss: -0.96590\n",
      "epoch: 07, loss: -0.96758\n",
      "epoch: 08, loss: -0.96899\n",
      "epoch: 09, loss: -0.97017\n",
      "torch.Size([1024, 64])\n"
     ]
    },
    {
     "name": "stderr",
     "output_type": "stream",
     "text": [
      " 27%|██▋       | 268/999 [3:42:08<9:55:11, 48.85s/it] "
     ]
    },
    {
     "name": "stdout",
     "output_type": "stream",
     "text": [
      "eigenvalues shape torch.Size([5]) eigenvectors shape torch.Size([5, 1024])\n",
      "268 /home/phdcs2/Hard_Disk/Datasets/Deep-Spectral-Segmentation/data/object-segmentation/ECSSD/features/0270_resized.pth\n",
      "dict_keys(['k', 'indices', 'file', 'id', 'model_name', 'patch_size', 'shape'])\n",
      "0270_resized\n",
      "Starting Training\n",
      "epoch: 00, loss: -0.89421\n",
      "epoch: 01, loss: -0.93540\n",
      "epoch: 02, loss: -0.94647\n",
      "epoch: 03, loss: -0.95291\n",
      "epoch: 04, loss: -0.95722\n",
      "epoch: 05, loss: -0.96033\n",
      "epoch: 06, loss: -0.96279\n",
      "epoch: 07, loss: -0.96483\n",
      "epoch: 08, loss: -0.96643\n",
      "epoch: 09, loss: -0.96787\n",
      "torch.Size([1024, 64])\n"
     ]
    },
    {
     "name": "stderr",
     "output_type": "stream",
     "text": [
      " 27%|██▋       | 269/999 [3:42:51<9:34:52, 47.25s/it]"
     ]
    },
    {
     "name": "stdout",
     "output_type": "stream",
     "text": [
      "eigenvalues shape torch.Size([5]) eigenvectors shape torch.Size([5, 1024])\n",
      "269 /home/phdcs2/Hard_Disk/Datasets/Deep-Spectral-Segmentation/data/object-segmentation/ECSSD/features/0271_resized.pth\n",
      "dict_keys(['k', 'indices', 'file', 'id', 'model_name', 'patch_size', 'shape'])\n",
      "0271_resized\n",
      "Starting Training\n",
      "epoch: 00, loss: -0.90258\n",
      "epoch: 01, loss: -0.94281\n",
      "epoch: 02, loss: -0.95249\n",
      "epoch: 03, loss: -0.95804\n",
      "epoch: 04, loss: -0.96191\n",
      "epoch: 05, loss: -0.96473\n",
      "epoch: 06, loss: -0.96691\n",
      "epoch: 07, loss: -0.96871\n",
      "epoch: 08, loss: -0.97021\n",
      "epoch: 09, loss: -0.97144\n",
      "torch.Size([1024, 64])\n"
     ]
    },
    {
     "name": "stderr",
     "output_type": "stream",
     "text": [
      " 27%|██▋       | 270/999 [3:43:33<9:15:02, 45.68s/it]"
     ]
    },
    {
     "name": "stdout",
     "output_type": "stream",
     "text": [
      "eigenvalues shape torch.Size([5]) eigenvectors shape torch.Size([5, 1024])\n",
      "270 /home/phdcs2/Hard_Disk/Datasets/Deep-Spectral-Segmentation/data/object-segmentation/ECSSD/features/0272_resized.pth\n",
      "dict_keys(['k', 'indices', 'file', 'id', 'model_name', 'patch_size', 'shape'])\n",
      "0272_resized\n",
      "Starting Training\n",
      "epoch: 00, loss: -0.88474\n",
      "epoch: 01, loss: -0.93022\n",
      "epoch: 02, loss: -0.94229\n",
      "epoch: 03, loss: -0.94914\n",
      "epoch: 04, loss: -0.95384\n",
      "epoch: 05, loss: -0.95715\n",
      "epoch: 06, loss: -0.95982\n",
      "epoch: 07, loss: -0.96197\n",
      "epoch: 08, loss: -0.96372\n",
      "epoch: 09, loss: -0.96526\n",
      "torch.Size([1024, 64])\n"
     ]
    },
    {
     "name": "stderr",
     "output_type": "stream",
     "text": [
      " 27%|██▋       | 271/999 [3:44:19<9:14:59, 45.74s/it]"
     ]
    },
    {
     "name": "stdout",
     "output_type": "stream",
     "text": [
      "eigenvalues shape torch.Size([5]) eigenvectors shape torch.Size([5, 1024])\n",
      "271 /home/phdcs2/Hard_Disk/Datasets/Deep-Spectral-Segmentation/data/object-segmentation/ECSSD/features/0273_resized.pth\n",
      "dict_keys(['k', 'indices', 'file', 'id', 'model_name', 'patch_size', 'shape'])\n",
      "0273_resized\n",
      "Starting Training\n",
      "epoch: 00, loss: -0.93557\n",
      "epoch: 01, loss: -0.96142\n",
      "epoch: 02, loss: -0.96721\n",
      "epoch: 03, loss: -0.97059\n",
      "epoch: 04, loss: -0.97291\n",
      "epoch: 05, loss: -0.97461\n",
      "epoch: 06, loss: -0.97594\n",
      "epoch: 07, loss: -0.97707\n",
      "epoch: 08, loss: -0.97799\n",
      "epoch: 09, loss: -0.97878\n",
      "torch.Size([1024, 64])\n"
     ]
    },
    {
     "name": "stderr",
     "output_type": "stream",
     "text": [
      " 27%|██▋       | 272/999 [3:45:09<9:28:52, 46.95s/it]"
     ]
    },
    {
     "name": "stdout",
     "output_type": "stream",
     "text": [
      "eigenvalues shape torch.Size([5]) eigenvectors shape torch.Size([5, 1024])\n",
      "272 /home/phdcs2/Hard_Disk/Datasets/Deep-Spectral-Segmentation/data/object-segmentation/ECSSD/features/0274_resized.pth\n",
      "dict_keys(['k', 'indices', 'file', 'id', 'model_name', 'patch_size', 'shape'])\n",
      "0274_resized\n",
      "Starting Training\n",
      "epoch: 00, loss: -0.91945\n",
      "epoch: 01, loss: -0.94822\n",
      "epoch: 02, loss: -0.95553\n",
      "epoch: 03, loss: -0.95992\n",
      "epoch: 04, loss: -0.96291\n",
      "epoch: 05, loss: -0.96520\n",
      "epoch: 06, loss: -0.96699\n",
      "epoch: 07, loss: -0.96847\n",
      "epoch: 08, loss: -0.96971\n",
      "epoch: 09, loss: -0.97078\n",
      "torch.Size([1024, 64])\n"
     ]
    },
    {
     "name": "stderr",
     "output_type": "stream",
     "text": [
      " 27%|██▋       | 273/999 [3:45:56<9:28:49, 47.01s/it]"
     ]
    },
    {
     "name": "stdout",
     "output_type": "stream",
     "text": [
      "eigenvalues shape torch.Size([5]) eigenvectors shape torch.Size([5, 1024])\n",
      "273 /home/phdcs2/Hard_Disk/Datasets/Deep-Spectral-Segmentation/data/object-segmentation/ECSSD/features/0275_resized.pth\n",
      "dict_keys(['k', 'indices', 'file', 'id', 'model_name', 'patch_size', 'shape'])\n",
      "0275_resized\n",
      "Starting Training\n",
      "epoch: 00, loss: -0.92996\n",
      "epoch: 01, loss: -0.95937\n",
      "epoch: 02, loss: -0.96585\n",
      "epoch: 03, loss: -0.96959\n",
      "epoch: 04, loss: -0.97208\n",
      "epoch: 05, loss: -0.97395\n",
      "epoch: 06, loss: -0.97540\n",
      "epoch: 07, loss: -0.97657\n",
      "epoch: 08, loss: -0.97757\n",
      "epoch: 09, loss: -0.97843\n",
      "torch.Size([1024, 64])\n"
     ]
    },
    {
     "name": "stderr",
     "output_type": "stream",
     "text": [
      " 27%|██▋       | 274/999 [3:46:41<9:21:32, 46.47s/it]"
     ]
    },
    {
     "name": "stdout",
     "output_type": "stream",
     "text": [
      "eigenvalues shape torch.Size([5]) eigenvectors shape torch.Size([5, 1024])\n",
      "274 /home/phdcs2/Hard_Disk/Datasets/Deep-Spectral-Segmentation/data/object-segmentation/ECSSD/features/0276_resized.pth\n",
      "dict_keys(['k', 'indices', 'file', 'id', 'model_name', 'patch_size', 'shape'])\n",
      "0276_resized\n",
      "Starting Training\n",
      "epoch: 00, loss: -0.92544\n",
      "epoch: 01, loss: -0.95420\n",
      "epoch: 02, loss: -0.96144\n",
      "epoch: 03, loss: -0.96566\n",
      "epoch: 04, loss: -0.96849\n",
      "epoch: 05, loss: -0.97064\n",
      "epoch: 06, loss: -0.97228\n",
      "epoch: 07, loss: -0.97365\n",
      "epoch: 08, loss: -0.97476\n",
      "epoch: 09, loss: -0.97571\n",
      "torch.Size([1024, 64])\n"
     ]
    },
    {
     "name": "stderr",
     "output_type": "stream",
     "text": [
      " 28%|██▊       | 275/999 [3:47:20<8:52:58, 44.17s/it]"
     ]
    },
    {
     "name": "stdout",
     "output_type": "stream",
     "text": [
      "eigenvalues shape torch.Size([5]) eigenvectors shape torch.Size([5, 1024])\n",
      "275 /home/phdcs2/Hard_Disk/Datasets/Deep-Spectral-Segmentation/data/object-segmentation/ECSSD/features/0277_resized.pth\n",
      "dict_keys(['k', 'indices', 'file', 'id', 'model_name', 'patch_size', 'shape'])\n",
      "0277_resized\n",
      "Starting Training\n",
      "epoch: 00, loss: -0.92655\n",
      "epoch: 01, loss: -0.95620\n",
      "epoch: 02, loss: -0.96300\n",
      "epoch: 03, loss: -0.96696\n",
      "epoch: 04, loss: -0.96965\n",
      "epoch: 05, loss: -0.97167\n",
      "epoch: 06, loss: -0.97324\n",
      "epoch: 07, loss: -0.97457\n",
      "epoch: 08, loss: -0.97562\n",
      "epoch: 09, loss: -0.97653\n",
      "torch.Size([1024, 64])\n"
     ]
    },
    {
     "name": "stderr",
     "output_type": "stream",
     "text": [
      " 28%|██▊       | 276/999 [3:48:08<9:06:49, 45.38s/it]"
     ]
    },
    {
     "name": "stdout",
     "output_type": "stream",
     "text": [
      "eigenvalues shape torch.Size([5]) eigenvectors shape torch.Size([5, 1024])\n",
      "276 /home/phdcs2/Hard_Disk/Datasets/Deep-Spectral-Segmentation/data/object-segmentation/ECSSD/features/0278_resized.pth\n",
      "dict_keys(['k', 'indices', 'file', 'id', 'model_name', 'patch_size', 'shape'])\n",
      "0278_resized\n",
      "Starting Training\n",
      "epoch: 00, loss: -0.91955\n",
      "epoch: 01, loss: -0.95123\n",
      "epoch: 02, loss: -0.95836\n",
      "epoch: 03, loss: -0.96243\n",
      "epoch: 04, loss: -0.96517\n",
      "epoch: 05, loss: -0.96722\n",
      "epoch: 06, loss: -0.96884\n",
      "epoch: 07, loss: -0.97017\n",
      "epoch: 08, loss: -0.97129\n",
      "epoch: 09, loss: -0.97223\n",
      "torch.Size([1024, 64])\n"
     ]
    },
    {
     "name": "stderr",
     "output_type": "stream",
     "text": [
      " 28%|██▊       | 277/999 [3:48:54<9:05:56, 45.37s/it]"
     ]
    },
    {
     "name": "stdout",
     "output_type": "stream",
     "text": [
      "eigenvalues shape torch.Size([5]) eigenvectors shape torch.Size([5, 1024])\n",
      "277 /home/phdcs2/Hard_Disk/Datasets/Deep-Spectral-Segmentation/data/object-segmentation/ECSSD/features/0279_resized.pth\n",
      "dict_keys(['k', 'indices', 'file', 'id', 'model_name', 'patch_size', 'shape'])\n",
      "0279_resized\n",
      "Starting Training\n",
      "epoch: 00, loss: -0.90596\n",
      "epoch: 01, loss: -0.94277\n",
      "epoch: 02, loss: -0.95221\n",
      "epoch: 03, loss: -0.95768\n",
      "epoch: 04, loss: -0.96138\n",
      "epoch: 05, loss: -0.96411\n",
      "epoch: 06, loss: -0.96622\n",
      "epoch: 07, loss: -0.96787\n",
      "epoch: 08, loss: -0.96925\n",
      "epoch: 09, loss: -0.97052\n",
      "torch.Size([1024, 64])\n"
     ]
    },
    {
     "name": "stderr",
     "output_type": "stream",
     "text": [
      " 28%|██▊       | 278/999 [3:49:49<9:41:58, 48.43s/it]"
     ]
    },
    {
     "name": "stdout",
     "output_type": "stream",
     "text": [
      "eigenvalues shape torch.Size([5]) eigenvectors shape torch.Size([5, 1024])\n",
      "278 /home/phdcs2/Hard_Disk/Datasets/Deep-Spectral-Segmentation/data/object-segmentation/ECSSD/features/0280_resized.pth\n",
      "dict_keys(['k', 'indices', 'file', 'id', 'model_name', 'patch_size', 'shape'])\n",
      "0280_resized\n",
      "Starting Training\n",
      "epoch: 00, loss: -0.91523\n",
      "epoch: 01, loss: -0.94587\n",
      "epoch: 02, loss: -0.95399\n",
      "epoch: 03, loss: -0.95885\n",
      "epoch: 04, loss: -0.96206\n",
      "epoch: 05, loss: -0.96453\n",
      "epoch: 06, loss: -0.96645\n",
      "epoch: 07, loss: -0.96803\n",
      "epoch: 08, loss: -0.96934\n",
      "epoch: 09, loss: -0.97044\n",
      "torch.Size([1024, 64])\n"
     ]
    },
    {
     "name": "stderr",
     "output_type": "stream",
     "text": [
      " 28%|██▊       | 279/999 [3:50:41<9:51:49, 49.32s/it]"
     ]
    },
    {
     "name": "stdout",
     "output_type": "stream",
     "text": [
      "eigenvalues shape torch.Size([5]) eigenvectors shape torch.Size([5, 1024])\n",
      "279 /home/phdcs2/Hard_Disk/Datasets/Deep-Spectral-Segmentation/data/object-segmentation/ECSSD/features/0281_resized.pth\n",
      "dict_keys(['k', 'indices', 'file', 'id', 'model_name', 'patch_size', 'shape'])\n",
      "0281_resized\n",
      "Starting Training\n",
      "epoch: 00, loss: -0.92139\n",
      "epoch: 01, loss: -0.95467\n",
      "epoch: 02, loss: -0.96115\n",
      "epoch: 03, loss: -0.96500\n",
      "epoch: 04, loss: -0.96760\n",
      "epoch: 05, loss: -0.96957\n",
      "epoch: 06, loss: -0.97111\n",
      "epoch: 07, loss: -0.97237\n",
      "epoch: 08, loss: -0.97344\n",
      "epoch: 09, loss: -0.97434\n",
      "torch.Size([1024, 64])\n"
     ]
    },
    {
     "name": "stderr",
     "output_type": "stream",
     "text": [
      " 28%|██▊       | 280/999 [3:51:29<9:48:04, 49.07s/it]"
     ]
    },
    {
     "name": "stdout",
     "output_type": "stream",
     "text": [
      "eigenvalues shape torch.Size([5]) eigenvectors shape torch.Size([5, 1024])\n",
      "280 /home/phdcs2/Hard_Disk/Datasets/Deep-Spectral-Segmentation/data/object-segmentation/ECSSD/features/0282_resized.pth\n",
      "dict_keys(['k', 'indices', 'file', 'id', 'model_name', 'patch_size', 'shape'])\n",
      "0282_resized\n",
      "Starting Training\n",
      "epoch: 00, loss: -0.93028\n",
      "epoch: 01, loss: -0.95942\n",
      "epoch: 02, loss: -0.96526\n",
      "epoch: 03, loss: -0.96865\n",
      "epoch: 04, loss: -0.97103\n",
      "epoch: 05, loss: -0.97279\n",
      "epoch: 06, loss: -0.97419\n",
      "epoch: 07, loss: -0.97534\n",
      "epoch: 08, loss: -0.97632\n",
      "epoch: 09, loss: -0.97713\n",
      "torch.Size([1024, 64])\n"
     ]
    },
    {
     "name": "stderr",
     "output_type": "stream",
     "text": [
      " 28%|██▊       | 281/999 [3:52:15<9:33:58, 47.96s/it]"
     ]
    },
    {
     "name": "stdout",
     "output_type": "stream",
     "text": [
      "eigenvalues shape torch.Size([5]) eigenvectors shape torch.Size([5, 1024])\n",
      "281 /home/phdcs2/Hard_Disk/Datasets/Deep-Spectral-Segmentation/data/object-segmentation/ECSSD/features/0283_resized.pth\n",
      "dict_keys(['k', 'indices', 'file', 'id', 'model_name', 'patch_size', 'shape'])\n",
      "0283_resized\n",
      "Starting Training\n",
      "epoch: 00, loss: -0.92481\n",
      "epoch: 01, loss: -0.95595\n",
      "epoch: 02, loss: -0.96314\n",
      "epoch: 03, loss: -0.96722\n",
      "epoch: 04, loss: -0.96998\n",
      "epoch: 05, loss: -0.97204\n",
      "epoch: 06, loss: -0.97364\n",
      "epoch: 07, loss: -0.97496\n",
      "epoch: 08, loss: -0.97600\n",
      "epoch: 09, loss: -0.97691\n",
      "torch.Size([1024, 64])\n"
     ]
    },
    {
     "name": "stderr",
     "output_type": "stream",
     "text": [
      " 28%|██▊       | 282/999 [3:53:01<9:29:34, 47.66s/it]"
     ]
    },
    {
     "name": "stdout",
     "output_type": "stream",
     "text": [
      "eigenvalues shape torch.Size([5]) eigenvectors shape torch.Size([5, 1024])\n",
      "282 /home/phdcs2/Hard_Disk/Datasets/Deep-Spectral-Segmentation/data/object-segmentation/ECSSD/features/0284_resized.pth\n",
      "dict_keys(['k', 'indices', 'file', 'id', 'model_name', 'patch_size', 'shape'])\n",
      "0284_resized\n",
      "Starting Training\n",
      "epoch: 00, loss: -0.90579\n",
      "epoch: 01, loss: -0.94471\n",
      "epoch: 02, loss: -0.95387\n",
      "epoch: 03, loss: -0.95920\n",
      "epoch: 04, loss: -0.96288\n",
      "epoch: 05, loss: -0.96555\n",
      "epoch: 06, loss: -0.96768\n",
      "epoch: 07, loss: -0.96927\n",
      "epoch: 08, loss: -0.97072\n",
      "epoch: 09, loss: -0.97189\n",
      "torch.Size([1024, 64])\n"
     ]
    },
    {
     "name": "stderr",
     "output_type": "stream",
     "text": [
      " 28%|██▊       | 283/999 [3:53:54<9:46:40, 49.16s/it]"
     ]
    },
    {
     "name": "stdout",
     "output_type": "stream",
     "text": [
      "eigenvalues shape torch.Size([5]) eigenvectors shape torch.Size([5, 1024])\n",
      "283 /home/phdcs2/Hard_Disk/Datasets/Deep-Spectral-Segmentation/data/object-segmentation/ECSSD/features/0285_resized.pth\n",
      "dict_keys(['k', 'indices', 'file', 'id', 'model_name', 'patch_size', 'shape'])\n",
      "0285_resized\n",
      "Starting Training\n",
      "epoch: 00, loss: -0.89128\n",
      "epoch: 01, loss: -0.93311\n",
      "epoch: 02, loss: -0.94462\n",
      "epoch: 03, loss: -0.95122\n",
      "epoch: 04, loss: -0.95564\n",
      "epoch: 05, loss: -0.95889\n",
      "epoch: 06, loss: -0.96146\n",
      "epoch: 07, loss: -0.96353\n",
      "epoch: 08, loss: -0.96521\n",
      "epoch: 09, loss: -0.96662\n",
      "torch.Size([1024, 64])\n"
     ]
    },
    {
     "name": "stderr",
     "output_type": "stream",
     "text": [
      " 28%|██▊       | 284/999 [3:54:42<9:39:49, 48.66s/it]"
     ]
    },
    {
     "name": "stdout",
     "output_type": "stream",
     "text": [
      "eigenvalues shape torch.Size([5]) eigenvectors shape torch.Size([5, 1024])\n",
      "284 /home/phdcs2/Hard_Disk/Datasets/Deep-Spectral-Segmentation/data/object-segmentation/ECSSD/features/0286_resized.pth\n",
      "dict_keys(['k', 'indices', 'file', 'id', 'model_name', 'patch_size', 'shape'])\n",
      "0286_resized\n",
      "Starting Training\n",
      "epoch: 00, loss: -0.93146\n",
      "epoch: 01, loss: -0.95993\n",
      "epoch: 02, loss: -0.96636\n",
      "epoch: 03, loss: -0.97014\n",
      "epoch: 04, loss: -0.97260\n",
      "epoch: 05, loss: -0.97447\n",
      "epoch: 06, loss: -0.97592\n",
      "epoch: 07, loss: -0.97708\n",
      "epoch: 08, loss: -0.97807\n",
      "epoch: 09, loss: -0.97890\n",
      "torch.Size([1024, 64])\n"
     ]
    },
    {
     "name": "stderr",
     "output_type": "stream",
     "text": [
      " 29%|██▊       | 285/999 [3:55:23<9:13:45, 46.53s/it]"
     ]
    },
    {
     "name": "stdout",
     "output_type": "stream",
     "text": [
      "eigenvalues shape torch.Size([5]) eigenvectors shape torch.Size([5, 1024])\n",
      "285 /home/phdcs2/Hard_Disk/Datasets/Deep-Spectral-Segmentation/data/object-segmentation/ECSSD/features/0287_resized.pth\n",
      "dict_keys(['k', 'indices', 'file', 'id', 'model_name', 'patch_size', 'shape'])\n",
      "0287_resized\n",
      "Starting Training\n",
      "epoch: 00, loss: -0.92276\n",
      "epoch: 01, loss: -0.95324\n",
      "epoch: 02, loss: -0.96045\n",
      "epoch: 03, loss: -0.96468\n",
      "epoch: 04, loss: -0.96758\n",
      "epoch: 05, loss: -0.96966\n",
      "epoch: 06, loss: -0.97138\n",
      "epoch: 07, loss: -0.97275\n",
      "epoch: 08, loss: -0.97390\n",
      "epoch: 09, loss: -0.97488\n",
      "torch.Size([1024, 64])\n"
     ]
    },
    {
     "name": "stderr",
     "output_type": "stream",
     "text": [
      " 29%|██▊       | 286/999 [3:56:17<9:39:52, 48.80s/it]"
     ]
    },
    {
     "name": "stdout",
     "output_type": "stream",
     "text": [
      "eigenvalues shape torch.Size([5]) eigenvectors shape torch.Size([5, 1024])\n",
      "286 /home/phdcs2/Hard_Disk/Datasets/Deep-Spectral-Segmentation/data/object-segmentation/ECSSD/features/0288_resized.pth\n",
      "dict_keys(['k', 'indices', 'file', 'id', 'model_name', 'patch_size', 'shape'])\n",
      "0288_resized\n",
      "Starting Training\n",
      "epoch: 00, loss: -0.90139\n",
      "epoch: 01, loss: -0.94109\n",
      "epoch: 02, loss: -0.95077\n",
      "epoch: 03, loss: -0.95633\n",
      "epoch: 04, loss: -0.96017\n",
      "epoch: 05, loss: -0.96294\n",
      "epoch: 06, loss: -0.96511\n",
      "epoch: 07, loss: -0.96691\n",
      "epoch: 08, loss: -0.96839\n",
      "epoch: 09, loss: -0.96961\n",
      "torch.Size([1024, 64])\n"
     ]
    },
    {
     "name": "stderr",
     "output_type": "stream",
     "text": [
      " 29%|██▊       | 287/999 [3:57:08<9:45:02, 49.30s/it]"
     ]
    },
    {
     "name": "stdout",
     "output_type": "stream",
     "text": [
      "eigenvalues shape torch.Size([5]) eigenvectors shape torch.Size([5, 1024])\n",
      "287 /home/phdcs2/Hard_Disk/Datasets/Deep-Spectral-Segmentation/data/object-segmentation/ECSSD/features/0289_resized.pth\n",
      "dict_keys(['k', 'indices', 'file', 'id', 'model_name', 'patch_size', 'shape'])\n",
      "0289_resized\n",
      "Starting Training\n",
      "epoch: 00, loss: -0.93767\n",
      "epoch: 01, loss: -0.96229\n",
      "epoch: 02, loss: -0.96791\n",
      "epoch: 03, loss: -0.97117\n",
      "epoch: 04, loss: -0.97345\n",
      "epoch: 05, loss: -0.97513\n",
      "epoch: 06, loss: -0.97646\n",
      "epoch: 07, loss: -0.97754\n",
      "epoch: 08, loss: -0.97843\n",
      "epoch: 09, loss: -0.97922\n",
      "torch.Size([1024, 64])\n"
     ]
    },
    {
     "name": "stderr",
     "output_type": "stream",
     "text": [
      " 29%|██▉       | 288/999 [3:57:56<9:41:40, 49.09s/it]"
     ]
    },
    {
     "name": "stdout",
     "output_type": "stream",
     "text": [
      "eigenvalues shape torch.Size([5]) eigenvectors shape torch.Size([5, 1024])\n",
      "288 /home/phdcs2/Hard_Disk/Datasets/Deep-Spectral-Segmentation/data/object-segmentation/ECSSD/features/0290_resized.pth\n",
      "dict_keys(['k', 'indices', 'file', 'id', 'model_name', 'patch_size', 'shape'])\n",
      "0290_resized\n",
      "Starting Training\n",
      "epoch: 00, loss: -0.90470\n",
      "epoch: 01, loss: -0.94395\n",
      "epoch: 02, loss: -0.95345\n",
      "epoch: 03, loss: -0.95861\n",
      "epoch: 04, loss: -0.96235\n",
      "epoch: 05, loss: -0.96503\n",
      "epoch: 06, loss: -0.96707\n",
      "epoch: 07, loss: -0.96871\n",
      "epoch: 08, loss: -0.97012\n",
      "epoch: 09, loss: -0.97122\n",
      "torch.Size([1024, 64])\n"
     ]
    },
    {
     "name": "stderr",
     "output_type": "stream",
     "text": [
      " 29%|██▉       | 289/999 [3:58:43<9:30:33, 48.22s/it]"
     ]
    },
    {
     "name": "stdout",
     "output_type": "stream",
     "text": [
      "eigenvalues shape torch.Size([5]) eigenvectors shape torch.Size([5, 1024])\n",
      "289 /home/phdcs2/Hard_Disk/Datasets/Deep-Spectral-Segmentation/data/object-segmentation/ECSSD/features/0291_resized.pth\n",
      "dict_keys(['k', 'indices', 'file', 'id', 'model_name', 'patch_size', 'shape'])\n",
      "0291_resized\n",
      "Starting Training\n",
      "epoch: 00, loss: -0.92407\n",
      "epoch: 01, loss: -0.95355\n",
      "epoch: 02, loss: -0.96100\n",
      "epoch: 03, loss: -0.96542\n",
      "epoch: 04, loss: -0.96836\n",
      "epoch: 05, loss: -0.97058\n",
      "epoch: 06, loss: -0.97235\n",
      "epoch: 07, loss: -0.97375\n",
      "epoch: 08, loss: -0.97496\n",
      "epoch: 09, loss: -0.97595\n",
      "torch.Size([1024, 64])\n"
     ]
    },
    {
     "name": "stderr",
     "output_type": "stream",
     "text": [
      " 29%|██▉       | 290/999 [3:59:36<9:47:01, 49.68s/it]"
     ]
    },
    {
     "name": "stdout",
     "output_type": "stream",
     "text": [
      "eigenvalues shape torch.Size([5]) eigenvectors shape torch.Size([5, 1024])\n",
      "290 /home/phdcs2/Hard_Disk/Datasets/Deep-Spectral-Segmentation/data/object-segmentation/ECSSD/features/0292_resized.pth\n",
      "dict_keys(['k', 'indices', 'file', 'id', 'model_name', 'patch_size', 'shape'])\n",
      "0292_resized\n",
      "Starting Training\n",
      "epoch: 00, loss: -0.92532\n",
      "epoch: 01, loss: -0.95072\n",
      "epoch: 02, loss: -0.95755\n",
      "epoch: 03, loss: -0.96166\n",
      "epoch: 04, loss: -0.96460\n",
      "epoch: 05, loss: -0.96681\n",
      "epoch: 06, loss: -0.96859\n",
      "epoch: 07, loss: -0.97000\n",
      "epoch: 08, loss: -0.97131\n",
      "epoch: 09, loss: -0.97231\n",
      "torch.Size([1024, 64])\n"
     ]
    },
    {
     "name": "stderr",
     "output_type": "stream",
     "text": [
      " 29%|██▉       | 291/999 [4:00:21<9:29:21, 48.25s/it]"
     ]
    },
    {
     "name": "stdout",
     "output_type": "stream",
     "text": [
      "eigenvalues shape torch.Size([5]) eigenvectors shape torch.Size([5, 1024])\n",
      "291 /home/phdcs2/Hard_Disk/Datasets/Deep-Spectral-Segmentation/data/object-segmentation/ECSSD/features/0293_resized.pth\n",
      "dict_keys(['k', 'indices', 'file', 'id', 'model_name', 'patch_size', 'shape'])\n",
      "0293_resized\n",
      "Starting Training\n",
      "epoch: 00, loss: -0.92999\n",
      "epoch: 01, loss: -0.95762\n",
      "epoch: 02, loss: -0.96403\n",
      "epoch: 03, loss: -0.96798\n",
      "epoch: 04, loss: -0.97066\n",
      "epoch: 05, loss: -0.97266\n",
      "epoch: 06, loss: -0.97423\n",
      "epoch: 07, loss: -0.97548\n",
      "epoch: 08, loss: -0.97654\n",
      "epoch: 09, loss: -0.97746\n",
      "torch.Size([1024, 64])\n"
     ]
    },
    {
     "name": "stderr",
     "output_type": "stream",
     "text": [
      " 29%|██▉       | 292/999 [4:01:04<9:11:36, 46.81s/it]"
     ]
    },
    {
     "name": "stdout",
     "output_type": "stream",
     "text": [
      "eigenvalues shape torch.Size([5]) eigenvectors shape torch.Size([5, 1024])\n",
      "292 /home/phdcs2/Hard_Disk/Datasets/Deep-Spectral-Segmentation/data/object-segmentation/ECSSD/features/0294_resized.pth\n",
      "dict_keys(['k', 'indices', 'file', 'id', 'model_name', 'patch_size', 'shape'])\n",
      "0294_resized\n",
      "Starting Training\n",
      "epoch: 00, loss: -0.94812\n",
      "epoch: 01, loss: -0.96929\n",
      "epoch: 02, loss: -0.97424\n",
      "epoch: 03, loss: -0.97706\n",
      "epoch: 04, loss: -0.97901\n",
      "epoch: 05, loss: -0.98047\n",
      "epoch: 06, loss: -0.98159\n",
      "epoch: 07, loss: -0.98250\n",
      "epoch: 08, loss: -0.98327\n",
      "epoch: 09, loss: -0.98393\n",
      "torch.Size([1024, 64])\n"
     ]
    },
    {
     "name": "stderr",
     "output_type": "stream",
     "text": [
      " 29%|██▉       | 293/999 [4:01:55<9:23:57, 47.93s/it]"
     ]
    },
    {
     "name": "stdout",
     "output_type": "stream",
     "text": [
      "eigenvalues shape torch.Size([5]) eigenvectors shape torch.Size([5, 1024])\n",
      "293 /home/phdcs2/Hard_Disk/Datasets/Deep-Spectral-Segmentation/data/object-segmentation/ECSSD/features/0295_resized.pth\n",
      "dict_keys(['k', 'indices', 'file', 'id', 'model_name', 'patch_size', 'shape'])\n",
      "0295_resized\n",
      "Starting Training\n",
      "epoch: 00, loss: -0.92768\n",
      "epoch: 01, loss: -0.95845\n",
      "epoch: 02, loss: -0.96482\n",
      "epoch: 03, loss: -0.96854\n",
      "epoch: 04, loss: -0.97107\n",
      "epoch: 05, loss: -0.97298\n",
      "epoch: 06, loss: -0.97445\n",
      "epoch: 07, loss: -0.97566\n",
      "epoch: 08, loss: -0.97668\n",
      "epoch: 09, loss: -0.97754\n",
      "torch.Size([1024, 64])\n"
     ]
    },
    {
     "name": "stderr",
     "output_type": "stream",
     "text": [
      " 29%|██▉       | 294/999 [4:02:44<9:27:49, 48.33s/it]"
     ]
    },
    {
     "name": "stdout",
     "output_type": "stream",
     "text": [
      "eigenvalues shape torch.Size([5]) eigenvectors shape torch.Size([5, 1024])\n",
      "294 /home/phdcs2/Hard_Disk/Datasets/Deep-Spectral-Segmentation/data/object-segmentation/ECSSD/features/0296_resized.pth\n",
      "dict_keys(['k', 'indices', 'file', 'id', 'model_name', 'patch_size', 'shape'])\n",
      "0296_resized\n",
      "Starting Training\n",
      "epoch: 00, loss: -0.90907\n",
      "epoch: 01, loss: -0.94516\n",
      "epoch: 02, loss: -0.95413\n",
      "epoch: 03, loss: -0.95945\n",
      "epoch: 04, loss: -0.96291\n",
      "epoch: 05, loss: -0.96555\n",
      "epoch: 06, loss: -0.96747\n",
      "epoch: 07, loss: -0.96904\n",
      "epoch: 08, loss: -0.97049\n",
      "epoch: 09, loss: -0.97163\n",
      "torch.Size([1024, 64])\n"
     ]
    },
    {
     "name": "stderr",
     "output_type": "stream",
     "text": [
      " 30%|██▉       | 295/999 [4:03:27<9:10:33, 46.92s/it]"
     ]
    },
    {
     "name": "stdout",
     "output_type": "stream",
     "text": [
      "eigenvalues shape torch.Size([5]) eigenvectors shape torch.Size([5, 1024])\n",
      "295 /home/phdcs2/Hard_Disk/Datasets/Deep-Spectral-Segmentation/data/object-segmentation/ECSSD/features/0297_resized.pth\n",
      "dict_keys(['k', 'indices', 'file', 'id', 'model_name', 'patch_size', 'shape'])\n",
      "0297_resized\n",
      "Starting Training\n",
      "epoch: 00, loss: -0.92997\n",
      "epoch: 01, loss: -0.95809\n",
      "epoch: 02, loss: -0.96461\n",
      "epoch: 03, loss: -0.96842\n",
      "epoch: 04, loss: -0.97104\n",
      "epoch: 05, loss: -0.97300\n",
      "epoch: 06, loss: -0.97450\n",
      "epoch: 07, loss: -0.97575\n",
      "epoch: 08, loss: -0.97679\n",
      "epoch: 09, loss: -0.97768\n",
      "torch.Size([1024, 64])\n"
     ]
    },
    {
     "name": "stderr",
     "output_type": "stream",
     "text": [
      " 30%|██▉       | 296/999 [4:04:19<9:26:16, 48.33s/it]"
     ]
    },
    {
     "name": "stdout",
     "output_type": "stream",
     "text": [
      "eigenvalues shape torch.Size([5]) eigenvectors shape torch.Size([5, 1024])\n",
      "296 /home/phdcs2/Hard_Disk/Datasets/Deep-Spectral-Segmentation/data/object-segmentation/ECSSD/features/0298_resized.pth\n",
      "dict_keys(['k', 'indices', 'file', 'id', 'model_name', 'patch_size', 'shape'])\n",
      "0298_resized\n",
      "Starting Training\n",
      "epoch: 00, loss: -0.91319\n",
      "epoch: 01, loss: -0.94876\n",
      "epoch: 02, loss: -0.95694\n",
      "epoch: 03, loss: -0.96167\n",
      "epoch: 04, loss: -0.96488\n",
      "epoch: 05, loss: -0.96727\n",
      "epoch: 06, loss: -0.96920\n",
      "epoch: 07, loss: -0.97069\n",
      "epoch: 08, loss: -0.97194\n",
      "epoch: 09, loss: -0.97304\n",
      "torch.Size([1024, 64])\n"
     ]
    },
    {
     "name": "stderr",
     "output_type": "stream",
     "text": [
      " 30%|██▉       | 297/999 [4:05:09<9:32:31, 48.93s/it]"
     ]
    },
    {
     "name": "stdout",
     "output_type": "stream",
     "text": [
      "eigenvalues shape torch.Size([5]) eigenvectors shape torch.Size([5, 1024])\n",
      "297 /home/phdcs2/Hard_Disk/Datasets/Deep-Spectral-Segmentation/data/object-segmentation/ECSSD/features/0299_resized.pth\n",
      "dict_keys(['k', 'indices', 'file', 'id', 'model_name', 'patch_size', 'shape'])\n",
      "0299_resized\n",
      "Starting Training\n",
      "epoch: 00, loss: -0.90177\n",
      "epoch: 01, loss: -0.94142\n",
      "epoch: 02, loss: -0.95087\n",
      "epoch: 03, loss: -0.95642\n",
      "epoch: 04, loss: -0.96014\n",
      "epoch: 05, loss: -0.96299\n",
      "epoch: 06, loss: -0.96520\n",
      "epoch: 07, loss: -0.96694\n",
      "epoch: 08, loss: -0.96835\n",
      "epoch: 09, loss: -0.96962\n",
      "torch.Size([1024, 64])\n"
     ]
    },
    {
     "name": "stderr",
     "output_type": "stream",
     "text": [
      " 30%|██▉       | 298/999 [4:05:58<9:31:03, 48.88s/it]"
     ]
    },
    {
     "name": "stdout",
     "output_type": "stream",
     "text": [
      "eigenvalues shape torch.Size([5]) eigenvectors shape torch.Size([5, 1024])\n",
      "298 /home/phdcs2/Hard_Disk/Datasets/Deep-Spectral-Segmentation/data/object-segmentation/ECSSD/features/0300_resized.pth\n",
      "dict_keys(['k', 'indices', 'file', 'id', 'model_name', 'patch_size', 'shape'])\n",
      "0300_resized\n",
      "Starting Training\n",
      "epoch: 00, loss: -0.91197\n",
      "epoch: 01, loss: -0.94601\n",
      "epoch: 02, loss: -0.95475\n",
      "epoch: 03, loss: -0.95988\n",
      "epoch: 04, loss: -0.96329\n",
      "epoch: 05, loss: -0.96581\n",
      "epoch: 06, loss: -0.96784\n",
      "epoch: 07, loss: -0.96952\n",
      "epoch: 08, loss: -0.97080\n",
      "epoch: 09, loss: -0.97202\n",
      "torch.Size([1024, 64])\n"
     ]
    },
    {
     "name": "stderr",
     "output_type": "stream",
     "text": [
      " 30%|██▉       | 299/999 [4:06:40<9:04:49, 46.70s/it]"
     ]
    },
    {
     "name": "stdout",
     "output_type": "stream",
     "text": [
      "eigenvalues shape torch.Size([5]) eigenvectors shape torch.Size([5, 1024])\n",
      "299 /home/phdcs2/Hard_Disk/Datasets/Deep-Spectral-Segmentation/data/object-segmentation/ECSSD/features/0301_resized.pth\n",
      "dict_keys(['k', 'indices', 'file', 'id', 'model_name', 'patch_size', 'shape'])\n",
      "0301_resized\n",
      "Starting Training\n",
      "epoch: 00, loss: -0.91828\n",
      "epoch: 01, loss: -0.95159\n",
      "epoch: 02, loss: -0.95934\n",
      "epoch: 03, loss: -0.96382\n",
      "epoch: 04, loss: -0.96674\n",
      "epoch: 05, loss: -0.96906\n",
      "epoch: 06, loss: -0.97084\n",
      "epoch: 07, loss: -0.97234\n",
      "epoch: 08, loss: -0.97350\n",
      "epoch: 09, loss: -0.97455\n",
      "torch.Size([1024, 64])\n"
     ]
    },
    {
     "name": "stderr",
     "output_type": "stream",
     "text": [
      " 30%|███       | 300/999 [4:07:27<9:04:55, 46.77s/it]"
     ]
    },
    {
     "name": "stdout",
     "output_type": "stream",
     "text": [
      "eigenvalues shape torch.Size([5]) eigenvectors shape torch.Size([5, 1024])\n",
      "300 /home/phdcs2/Hard_Disk/Datasets/Deep-Spectral-Segmentation/data/object-segmentation/ECSSD/features/0302_resized.pth\n",
      "dict_keys(['k', 'indices', 'file', 'id', 'model_name', 'patch_size', 'shape'])\n",
      "0302_resized\n",
      "Starting Training\n",
      "epoch: 00, loss: -0.91752\n",
      "epoch: 01, loss: -0.94841\n",
      "epoch: 02, loss: -0.95650\n",
      "epoch: 03, loss: -0.96123\n",
      "epoch: 04, loss: -0.96441\n",
      "epoch: 05, loss: -0.96677\n",
      "epoch: 06, loss: -0.96857\n",
      "epoch: 07, loss: -0.97011\n",
      "epoch: 08, loss: -0.97134\n",
      "epoch: 09, loss: -0.97242\n",
      "torch.Size([1024, 64])\n"
     ]
    },
    {
     "name": "stderr",
     "output_type": "stream",
     "text": [
      " 30%|███       | 301/999 [4:08:22<9:35:29, 49.47s/it]"
     ]
    },
    {
     "name": "stdout",
     "output_type": "stream",
     "text": [
      "eigenvalues shape torch.Size([5]) eigenvectors shape torch.Size([5, 1024])\n",
      "301 /home/phdcs2/Hard_Disk/Datasets/Deep-Spectral-Segmentation/data/object-segmentation/ECSSD/features/0303_resized.pth\n",
      "dict_keys(['k', 'indices', 'file', 'id', 'model_name', 'patch_size', 'shape'])\n",
      "0303_resized\n",
      "Starting Training\n",
      "epoch: 00, loss: -0.89650\n",
      "epoch: 01, loss: -0.93947\n",
      "epoch: 02, loss: -0.94961\n",
      "epoch: 03, loss: -0.95549\n",
      "epoch: 04, loss: -0.95926\n",
      "epoch: 05, loss: -0.96220\n",
      "epoch: 06, loss: -0.96449\n",
      "epoch: 07, loss: -0.96621\n",
      "epoch: 08, loss: -0.96780\n",
      "epoch: 09, loss: -0.96903\n",
      "torch.Size([1024, 64])\n"
     ]
    },
    {
     "name": "stderr",
     "output_type": "stream",
     "text": [
      " 30%|███       | 302/999 [4:09:14<9:41:22, 50.05s/it]"
     ]
    },
    {
     "name": "stdout",
     "output_type": "stream",
     "text": [
      "eigenvalues shape torch.Size([5]) eigenvectors shape torch.Size([5, 1024])\n",
      "302 /home/phdcs2/Hard_Disk/Datasets/Deep-Spectral-Segmentation/data/object-segmentation/ECSSD/features/0304_resized.pth\n",
      "dict_keys(['k', 'indices', 'file', 'id', 'model_name', 'patch_size', 'shape'])\n",
      "0304_resized\n",
      "Starting Training\n",
      "epoch: 00, loss: -0.90862\n",
      "epoch: 01, loss: -0.94345\n",
      "epoch: 02, loss: -0.95230\n",
      "epoch: 03, loss: -0.95742\n",
      "epoch: 04, loss: -0.96080\n",
      "epoch: 05, loss: -0.96347\n",
      "epoch: 06, loss: -0.96545\n",
      "epoch: 07, loss: -0.96714\n",
      "epoch: 08, loss: -0.96849\n",
      "epoch: 09, loss: -0.96967\n",
      "torch.Size([1024, 64])\n"
     ]
    },
    {
     "name": "stderr",
     "output_type": "stream",
     "text": [
      " 30%|███       | 303/999 [4:10:03<9:38:00, 49.83s/it]"
     ]
    },
    {
     "name": "stdout",
     "output_type": "stream",
     "text": [
      "eigenvalues shape torch.Size([5]) eigenvectors shape torch.Size([5, 1024])\n",
      "303 /home/phdcs2/Hard_Disk/Datasets/Deep-Spectral-Segmentation/data/object-segmentation/ECSSD/features/0305_resized.pth\n",
      "dict_keys(['k', 'indices', 'file', 'id', 'model_name', 'patch_size', 'shape'])\n",
      "0305_resized\n",
      "Starting Training\n",
      "epoch: 00, loss: -0.90495\n",
      "epoch: 01, loss: -0.94226\n",
      "epoch: 02, loss: -0.95159\n",
      "epoch: 03, loss: -0.95705\n",
      "epoch: 04, loss: -0.96069\n",
      "epoch: 05, loss: -0.96335\n",
      "epoch: 06, loss: -0.96556\n",
      "epoch: 07, loss: -0.96725\n",
      "epoch: 08, loss: -0.96863\n",
      "epoch: 09, loss: -0.96990\n",
      "torch.Size([1024, 64])\n"
     ]
    },
    {
     "name": "stderr",
     "output_type": "stream",
     "text": [
      " 30%|███       | 304/999 [4:10:47<9:16:43, 48.06s/it]"
     ]
    },
    {
     "name": "stdout",
     "output_type": "stream",
     "text": [
      "eigenvalues shape torch.Size([5]) eigenvectors shape torch.Size([5, 1024])\n",
      "304 /home/phdcs2/Hard_Disk/Datasets/Deep-Spectral-Segmentation/data/object-segmentation/ECSSD/features/0306_resized.pth\n",
      "dict_keys(['k', 'indices', 'file', 'id', 'model_name', 'patch_size', 'shape'])\n",
      "0306_resized\n",
      "Starting Training\n",
      "epoch: 00, loss: -0.88534\n",
      "epoch: 01, loss: -0.93068\n",
      "epoch: 02, loss: -0.94224\n",
      "epoch: 03, loss: -0.94901\n",
      "epoch: 04, loss: -0.95358\n",
      "epoch: 05, loss: -0.95676\n",
      "epoch: 06, loss: -0.95933\n",
      "epoch: 07, loss: -0.96139\n",
      "epoch: 08, loss: -0.96307\n",
      "epoch: 09, loss: -0.96462\n",
      "torch.Size([1024, 64])\n"
     ]
    },
    {
     "name": "stderr",
     "output_type": "stream",
     "text": [
      " 31%|███       | 305/999 [4:11:32<9:05:17, 47.14s/it]"
     ]
    },
    {
     "name": "stdout",
     "output_type": "stream",
     "text": [
      "eigenvalues shape torch.Size([5]) eigenvectors shape torch.Size([5, 1024])\n",
      "305 /home/phdcs2/Hard_Disk/Datasets/Deep-Spectral-Segmentation/data/object-segmentation/ECSSD/features/0307_resized.pth\n",
      "dict_keys(['k', 'indices', 'file', 'id', 'model_name', 'patch_size', 'shape'])\n",
      "0307_resized\n",
      "Starting Training\n",
      "epoch: 00, loss: -0.88177\n",
      "epoch: 01, loss: -0.92660\n",
      "epoch: 02, loss: -0.93882\n",
      "epoch: 03, loss: -0.94591\n",
      "epoch: 04, loss: -0.95058\n",
      "epoch: 05, loss: -0.95405\n",
      "epoch: 06, loss: -0.95671\n",
      "epoch: 07, loss: -0.95891\n",
      "epoch: 08, loss: -0.96064\n",
      "epoch: 09, loss: -0.96219\n",
      "torch.Size([1024, 64])\n"
     ]
    },
    {
     "name": "stderr",
     "output_type": "stream",
     "text": [
      " 31%|███       | 306/999 [4:12:20<9:07:10, 47.37s/it]"
     ]
    },
    {
     "name": "stdout",
     "output_type": "stream",
     "text": [
      "eigenvalues shape torch.Size([5]) eigenvectors shape torch.Size([5, 1024])\n",
      "306 /home/phdcs2/Hard_Disk/Datasets/Deep-Spectral-Segmentation/data/object-segmentation/ECSSD/features/0308_resized.pth\n",
      "dict_keys(['k', 'indices', 'file', 'id', 'model_name', 'patch_size', 'shape'])\n",
      "0308_resized\n",
      "Starting Training\n",
      "epoch: 00, loss: -0.91302\n",
      "epoch: 01, loss: -0.94748\n",
      "epoch: 02, loss: -0.95551\n",
      "epoch: 03, loss: -0.96011\n",
      "epoch: 04, loss: -0.96333\n",
      "epoch: 05, loss: -0.96560\n",
      "epoch: 06, loss: -0.96749\n",
      "epoch: 07, loss: -0.96905\n",
      "epoch: 08, loss: -0.97030\n",
      "epoch: 09, loss: -0.97141\n",
      "torch.Size([1024, 64])\n"
     ]
    },
    {
     "name": "stderr",
     "output_type": "stream",
     "text": [
      " 31%|███       | 307/999 [4:13:01<8:43:31, 45.39s/it]"
     ]
    },
    {
     "name": "stdout",
     "output_type": "stream",
     "text": [
      "eigenvalues shape torch.Size([5]) eigenvectors shape torch.Size([5, 1024])\n",
      "307 /home/phdcs2/Hard_Disk/Datasets/Deep-Spectral-Segmentation/data/object-segmentation/ECSSD/features/0309_resized.pth\n",
      "dict_keys(['k', 'indices', 'file', 'id', 'model_name', 'patch_size', 'shape'])\n",
      "0309_resized\n",
      "Starting Training\n",
      "epoch: 00, loss: -0.91600\n",
      "epoch: 01, loss: -0.94941\n",
      "epoch: 02, loss: -0.95741\n",
      "epoch: 03, loss: -0.96205\n",
      "epoch: 04, loss: -0.96523\n",
      "epoch: 05, loss: -0.96755\n",
      "epoch: 06, loss: -0.96941\n",
      "epoch: 07, loss: -0.97091\n",
      "epoch: 08, loss: -0.97216\n",
      "epoch: 09, loss: -0.97322\n",
      "torch.Size([1024, 64])\n"
     ]
    },
    {
     "name": "stderr",
     "output_type": "stream",
     "text": [
      " 31%|███       | 308/999 [4:13:51<8:57:44, 46.69s/it]"
     ]
    },
    {
     "name": "stdout",
     "output_type": "stream",
     "text": [
      "eigenvalues shape torch.Size([5]) eigenvectors shape torch.Size([5, 1024])\n",
      "308 /home/phdcs2/Hard_Disk/Datasets/Deep-Spectral-Segmentation/data/object-segmentation/ECSSD/features/0310_resized.pth\n",
      "dict_keys(['k', 'indices', 'file', 'id', 'model_name', 'patch_size', 'shape'])\n",
      "0310_resized\n",
      "Starting Training\n",
      "epoch: 00, loss: -0.92597\n",
      "epoch: 01, loss: -0.95625\n",
      "epoch: 02, loss: -0.96327\n",
      "epoch: 03, loss: -0.96729\n",
      "epoch: 04, loss: -0.97004\n",
      "epoch: 05, loss: -0.97207\n",
      "epoch: 06, loss: -0.97366\n",
      "epoch: 07, loss: -0.97495\n",
      "epoch: 08, loss: -0.97601\n",
      "epoch: 09, loss: -0.97693\n",
      "torch.Size([1024, 64])\n"
     ]
    },
    {
     "name": "stderr",
     "output_type": "stream",
     "text": [
      " 31%|███       | 309/999 [4:14:36<8:51:24, 46.21s/it]"
     ]
    },
    {
     "name": "stdout",
     "output_type": "stream",
     "text": [
      "eigenvalues shape torch.Size([5]) eigenvectors shape torch.Size([5, 1024])\n",
      "309 /home/phdcs2/Hard_Disk/Datasets/Deep-Spectral-Segmentation/data/object-segmentation/ECSSD/features/0311_resized.pth\n",
      "dict_keys(['k', 'indices', 'file', 'id', 'model_name', 'patch_size', 'shape'])\n",
      "0311_resized\n",
      "Starting Training\n",
      "epoch: 00, loss: -0.92219\n",
      "epoch: 01, loss: -0.95411\n",
      "epoch: 02, loss: -0.96134\n",
      "epoch: 03, loss: -0.96550\n",
      "epoch: 04, loss: -0.96832\n",
      "epoch: 05, loss: -0.97040\n",
      "epoch: 06, loss: -0.97203\n",
      "epoch: 07, loss: -0.97334\n",
      "epoch: 08, loss: -0.97447\n",
      "epoch: 09, loss: -0.97542\n",
      "torch.Size([1024, 64])\n"
     ]
    },
    {
     "name": "stderr",
     "output_type": "stream",
     "text": [
      " 31%|███       | 310/999 [4:15:23<8:54:10, 46.52s/it]"
     ]
    },
    {
     "name": "stdout",
     "output_type": "stream",
     "text": [
      "eigenvalues shape torch.Size([5]) eigenvectors shape torch.Size([5, 1024])\n",
      "310 /home/phdcs2/Hard_Disk/Datasets/Deep-Spectral-Segmentation/data/object-segmentation/ECSSD/features/0312_resized.pth\n",
      "dict_keys(['k', 'indices', 'file', 'id', 'model_name', 'patch_size', 'shape'])\n",
      "0312_resized\n",
      "Starting Training\n",
      "epoch: 00, loss: -0.92747\n",
      "epoch: 01, loss: -0.95668\n",
      "epoch: 02, loss: -0.96351\n",
      "epoch: 03, loss: -0.96743\n",
      "epoch: 04, loss: -0.97012\n",
      "epoch: 05, loss: -0.97211\n",
      "epoch: 06, loss: -0.97368\n",
      "epoch: 07, loss: -0.97492\n",
      "epoch: 08, loss: -0.97598\n",
      "epoch: 09, loss: -0.97689\n",
      "torch.Size([1024, 64])\n"
     ]
    },
    {
     "name": "stderr",
     "output_type": "stream",
     "text": [
      " 31%|███       | 311/999 [4:16:10<8:56:38, 46.80s/it]"
     ]
    },
    {
     "name": "stdout",
     "output_type": "stream",
     "text": [
      "eigenvalues shape torch.Size([5]) eigenvectors shape torch.Size([5, 1024])\n",
      "311 /home/phdcs2/Hard_Disk/Datasets/Deep-Spectral-Segmentation/data/object-segmentation/ECSSD/features/0313_resized.pth\n",
      "dict_keys(['k', 'indices', 'file', 'id', 'model_name', 'patch_size', 'shape'])\n",
      "0313_resized\n",
      "Starting Training\n",
      "epoch: 00, loss: -0.92711\n",
      "epoch: 01, loss: -0.95546\n",
      "epoch: 02, loss: -0.96231\n",
      "epoch: 03, loss: -0.96623\n",
      "epoch: 04, loss: -0.96892\n",
      "epoch: 05, loss: -0.97095\n",
      "epoch: 06, loss: -0.97253\n",
      "epoch: 07, loss: -0.97382\n",
      "epoch: 08, loss: -0.97492\n",
      "epoch: 09, loss: -0.97585\n",
      "torch.Size([1024, 64])\n"
     ]
    },
    {
     "name": "stderr",
     "output_type": "stream",
     "text": [
      " 31%|███       | 312/999 [4:16:55<8:47:22, 46.06s/it]"
     ]
    },
    {
     "name": "stdout",
     "output_type": "stream",
     "text": [
      "eigenvalues shape torch.Size([5]) eigenvectors shape torch.Size([5, 1024])\n",
      "312 /home/phdcs2/Hard_Disk/Datasets/Deep-Spectral-Segmentation/data/object-segmentation/ECSSD/features/0314_resized.pth\n",
      "dict_keys(['k', 'indices', 'file', 'id', 'model_name', 'patch_size', 'shape'])\n",
      "0314_resized\n",
      "Starting Training\n",
      "epoch: 00, loss: -0.92638\n",
      "epoch: 01, loss: -0.95837\n",
      "epoch: 02, loss: -0.96514\n",
      "epoch: 03, loss: -0.96900\n",
      "epoch: 04, loss: -0.97161\n",
      "epoch: 05, loss: -0.97352\n",
      "epoch: 06, loss: -0.97503\n",
      "epoch: 07, loss: -0.97625\n",
      "epoch: 08, loss: -0.97727\n",
      "epoch: 09, loss: -0.97814\n",
      "torch.Size([1024, 64])\n"
     ]
    },
    {
     "name": "stderr",
     "output_type": "stream",
     "text": [
      " 31%|███▏      | 313/999 [4:17:39<8:42:08, 45.67s/it]"
     ]
    },
    {
     "name": "stdout",
     "output_type": "stream",
     "text": [
      "eigenvalues shape torch.Size([5]) eigenvectors shape torch.Size([5, 1024])\n",
      "313 /home/phdcs2/Hard_Disk/Datasets/Deep-Spectral-Segmentation/data/object-segmentation/ECSSD/features/0315_resized.pth\n",
      "dict_keys(['k', 'indices', 'file', 'id', 'model_name', 'patch_size', 'shape'])\n",
      "0315_resized\n",
      "Starting Training\n",
      "epoch: 00, loss: -0.89598\n",
      "epoch: 01, loss: -0.93378\n",
      "epoch: 02, loss: -0.94431\n",
      "epoch: 03, loss: -0.95049\n",
      "epoch: 04, loss: -0.95485\n",
      "epoch: 05, loss: -0.95822\n",
      "epoch: 06, loss: -0.96070\n",
      "epoch: 07, loss: -0.96280\n",
      "epoch: 08, loss: -0.96454\n",
      "epoch: 09, loss: -0.96599\n",
      "torch.Size([1024, 64])\n"
     ]
    },
    {
     "name": "stderr",
     "output_type": "stream",
     "text": [
      " 31%|███▏      | 314/999 [4:18:25<8:40:39, 45.61s/it]"
     ]
    },
    {
     "name": "stdout",
     "output_type": "stream",
     "text": [
      "eigenvalues shape torch.Size([5]) eigenvectors shape torch.Size([5, 1024])\n",
      "314 /home/phdcs2/Hard_Disk/Datasets/Deep-Spectral-Segmentation/data/object-segmentation/ECSSD/features/0316_resized.pth\n",
      "dict_keys(['k', 'indices', 'file', 'id', 'model_name', 'patch_size', 'shape'])\n",
      "0316_resized\n",
      "Starting Training\n",
      "epoch: 00, loss: -0.87475\n",
      "epoch: 01, loss: -0.92205\n",
      "epoch: 02, loss: -0.93458\n",
      "epoch: 03, loss: -0.94189\n",
      "epoch: 04, loss: -0.94693\n",
      "epoch: 05, loss: -0.95049\n",
      "epoch: 06, loss: -0.95337\n",
      "epoch: 07, loss: -0.95557\n",
      "epoch: 08, loss: -0.95754\n",
      "epoch: 09, loss: -0.95903\n",
      "torch.Size([1024, 64])\n"
     ]
    },
    {
     "name": "stderr",
     "output_type": "stream",
     "text": [
      " 32%|███▏      | 315/999 [4:19:09<8:34:21, 45.12s/it]"
     ]
    },
    {
     "name": "stdout",
     "output_type": "stream",
     "text": [
      "eigenvalues shape torch.Size([5]) eigenvectors shape torch.Size([5, 1024])\n",
      "315 /home/phdcs2/Hard_Disk/Datasets/Deep-Spectral-Segmentation/data/object-segmentation/ECSSD/features/0317_resized.pth\n",
      "dict_keys(['k', 'indices', 'file', 'id', 'model_name', 'patch_size', 'shape'])\n",
      "0317_resized\n",
      "Starting Training\n",
      "epoch: 00, loss: -0.90108\n",
      "epoch: 01, loss: -0.94263\n",
      "epoch: 02, loss: -0.95229\n",
      "epoch: 03, loss: -0.95764\n",
      "epoch: 04, loss: -0.96117\n",
      "epoch: 05, loss: -0.96382\n",
      "epoch: 06, loss: -0.96579\n",
      "epoch: 07, loss: -0.96756\n",
      "epoch: 08, loss: -0.96878\n",
      "epoch: 09, loss: -0.97001\n",
      "torch.Size([1024, 64])\n"
     ]
    },
    {
     "name": "stderr",
     "output_type": "stream",
     "text": [
      " 32%|███▏      | 316/999 [4:19:58<8:46:15, 46.23s/it]"
     ]
    },
    {
     "name": "stdout",
     "output_type": "stream",
     "text": [
      "eigenvalues shape torch.Size([5]) eigenvectors shape torch.Size([5, 1024])\n",
      "316 /home/phdcs2/Hard_Disk/Datasets/Deep-Spectral-Segmentation/data/object-segmentation/ECSSD/features/0318_resized.pth\n",
      "dict_keys(['k', 'indices', 'file', 'id', 'model_name', 'patch_size', 'shape'])\n",
      "0318_resized\n",
      "Starting Training\n",
      "epoch: 00, loss: -0.92545\n",
      "epoch: 01, loss: -0.95360\n",
      "epoch: 02, loss: -0.96013\n",
      "epoch: 03, loss: -0.96403\n",
      "epoch: 04, loss: -0.96668\n",
      "epoch: 05, loss: -0.96870\n",
      "epoch: 06, loss: -0.97026\n",
      "epoch: 07, loss: -0.97161\n",
      "epoch: 08, loss: -0.97271\n",
      "epoch: 09, loss: -0.97364\n",
      "torch.Size([1024, 64])\n"
     ]
    },
    {
     "name": "stderr",
     "output_type": "stream",
     "text": [
      " 32%|███▏      | 317/999 [4:20:46<8:54:25, 47.02s/it]"
     ]
    },
    {
     "name": "stdout",
     "output_type": "stream",
     "text": [
      "eigenvalues shape torch.Size([5]) eigenvectors shape torch.Size([5, 1024])\n",
      "317 /home/phdcs2/Hard_Disk/Datasets/Deep-Spectral-Segmentation/data/object-segmentation/ECSSD/features/0319_resized.pth\n",
      "dict_keys(['k', 'indices', 'file', 'id', 'model_name', 'patch_size', 'shape'])\n",
      "0319_resized\n",
      "Starting Training\n",
      "epoch: 00, loss: -0.90731\n",
      "epoch: 01, loss: -0.94217\n",
      "epoch: 02, loss: -0.95123\n",
      "epoch: 03, loss: -0.95647\n",
      "epoch: 04, loss: -0.96003\n",
      "epoch: 05, loss: -0.96270\n",
      "epoch: 06, loss: -0.96483\n",
      "epoch: 07, loss: -0.96654\n",
      "epoch: 08, loss: -0.96793\n",
      "epoch: 09, loss: -0.96910\n",
      "torch.Size([1024, 64])\n"
     ]
    },
    {
     "name": "stderr",
     "output_type": "stream",
     "text": [
      " 32%|███▏      | 318/999 [4:21:42<9:23:29, 49.65s/it]"
     ]
    },
    {
     "name": "stdout",
     "output_type": "stream",
     "text": [
      "eigenvalues shape torch.Size([5]) eigenvectors shape torch.Size([5, 1024])\n",
      "318 /home/phdcs2/Hard_Disk/Datasets/Deep-Spectral-Segmentation/data/object-segmentation/ECSSD/features/0320_resized.pth\n",
      "dict_keys(['k', 'indices', 'file', 'id', 'model_name', 'patch_size', 'shape'])\n",
      "0320_resized\n",
      "Starting Training\n",
      "epoch: 00, loss: -0.93741\n",
      "epoch: 01, loss: -0.96420\n",
      "epoch: 02, loss: -0.96960\n",
      "epoch: 03, loss: -0.97276\n",
      "epoch: 04, loss: -0.97493\n",
      "epoch: 05, loss: -0.97656\n",
      "epoch: 06, loss: -0.97784\n",
      "epoch: 07, loss: -0.97888\n",
      "epoch: 08, loss: -0.97976\n",
      "epoch: 09, loss: -0.98051\n",
      "torch.Size([1024, 64])\n"
     ]
    },
    {
     "name": "stderr",
     "output_type": "stream",
     "text": [
      " 32%|███▏      | 319/999 [4:22:46<10:09:28, 53.78s/it]"
     ]
    },
    {
     "name": "stdout",
     "output_type": "stream",
     "text": [
      "eigenvalues shape torch.Size([5]) eigenvectors shape torch.Size([5, 1024])\n",
      "319 /home/phdcs2/Hard_Disk/Datasets/Deep-Spectral-Segmentation/data/object-segmentation/ECSSD/features/0321_resized.pth\n",
      "dict_keys(['k', 'indices', 'file', 'id', 'model_name', 'patch_size', 'shape'])\n",
      "0321_resized\n",
      "Starting Training\n",
      "epoch: 00, loss: -0.88268\n",
      "epoch: 01, loss: -0.92957\n",
      "epoch: 02, loss: -0.94245\n",
      "epoch: 03, loss: -0.94963\n",
      "epoch: 04, loss: -0.95463\n",
      "epoch: 05, loss: -0.95813\n",
      "epoch: 06, loss: -0.96079\n",
      "epoch: 07, loss: -0.96299\n",
      "epoch: 08, loss: -0.96481\n",
      "epoch: 09, loss: -0.96629\n",
      "torch.Size([1024, 64])\n"
     ]
    },
    {
     "name": "stderr",
     "output_type": "stream",
     "text": [
      " 32%|███▏      | 320/999 [4:23:46<10:30:18, 55.70s/it]"
     ]
    },
    {
     "name": "stdout",
     "output_type": "stream",
     "text": [
      "eigenvalues shape torch.Size([5]) eigenvectors shape torch.Size([5, 1024])\n",
      "320 /home/phdcs2/Hard_Disk/Datasets/Deep-Spectral-Segmentation/data/object-segmentation/ECSSD/features/0322_resized.pth\n",
      "dict_keys(['k', 'indices', 'file', 'id', 'model_name', 'patch_size', 'shape'])\n",
      "0322_resized\n",
      "Starting Training\n",
      "epoch: 00, loss: -0.92349\n",
      "epoch: 01, loss: -0.95489\n",
      "epoch: 02, loss: -0.96220\n",
      "epoch: 03, loss: -0.96639\n",
      "epoch: 04, loss: -0.96928\n",
      "epoch: 05, loss: -0.97143\n",
      "epoch: 06, loss: -0.97312\n",
      "epoch: 07, loss: -0.97448\n",
      "epoch: 08, loss: -0.97561\n",
      "epoch: 09, loss: -0.97659\n",
      "torch.Size([1024, 64])\n"
     ]
    },
    {
     "name": "stderr",
     "output_type": "stream",
     "text": [
      " 32%|███▏      | 321/999 [4:24:36<10:09:23, 53.93s/it]"
     ]
    },
    {
     "name": "stdout",
     "output_type": "stream",
     "text": [
      "eigenvalues shape torch.Size([5]) eigenvectors shape torch.Size([5, 1024])\n",
      "321 /home/phdcs2/Hard_Disk/Datasets/Deep-Spectral-Segmentation/data/object-segmentation/ECSSD/features/0323_resized.pth\n",
      "dict_keys(['k', 'indices', 'file', 'id', 'model_name', 'patch_size', 'shape'])\n",
      "0323_resized\n",
      "Starting Training\n",
      "epoch: 00, loss: -0.92993\n",
      "epoch: 01, loss: -0.95815\n",
      "epoch: 02, loss: -0.96437\n",
      "epoch: 03, loss: -0.96805\n",
      "epoch: 04, loss: -0.97060\n",
      "epoch: 05, loss: -0.97250\n",
      "epoch: 06, loss: -0.97398\n",
      "epoch: 07, loss: -0.97522\n",
      "epoch: 08, loss: -0.97625\n",
      "epoch: 09, loss: -0.97713\n",
      "torch.Size([1024, 64])\n"
     ]
    },
    {
     "name": "stderr",
     "output_type": "stream",
     "text": [
      " 32%|███▏      | 322/999 [4:25:21<9:38:04, 51.23s/it] "
     ]
    },
    {
     "name": "stdout",
     "output_type": "stream",
     "text": [
      "eigenvalues shape torch.Size([5]) eigenvectors shape torch.Size([5, 1024])\n",
      "322 /home/phdcs2/Hard_Disk/Datasets/Deep-Spectral-Segmentation/data/object-segmentation/ECSSD/features/0324_resized.pth\n",
      "dict_keys(['k', 'indices', 'file', 'id', 'model_name', 'patch_size', 'shape'])\n",
      "0324_resized\n",
      "Starting Training\n",
      "epoch: 00, loss: -0.91436\n",
      "epoch: 01, loss: -0.94642\n",
      "epoch: 02, loss: -0.95464\n",
      "epoch: 03, loss: -0.95943\n",
      "epoch: 04, loss: -0.96282\n",
      "epoch: 05, loss: -0.96529\n",
      "epoch: 06, loss: -0.96734\n",
      "epoch: 07, loss: -0.96894\n",
      "epoch: 08, loss: -0.97031\n",
      "epoch: 09, loss: -0.97147\n",
      "torch.Size([1024, 64])\n"
     ]
    },
    {
     "name": "stderr",
     "output_type": "stream",
     "text": [
      " 32%|███▏      | 323/999 [4:26:20<10:04:49, 53.68s/it]"
     ]
    },
    {
     "name": "stdout",
     "output_type": "stream",
     "text": [
      "eigenvalues shape torch.Size([5]) eigenvectors shape torch.Size([5, 1024])\n",
      "323 /home/phdcs2/Hard_Disk/Datasets/Deep-Spectral-Segmentation/data/object-segmentation/ECSSD/features/0325_resized.pth\n",
      "dict_keys(['k', 'indices', 'file', 'id', 'model_name', 'patch_size', 'shape'])\n",
      "0325_resized\n",
      "Starting Training\n",
      "epoch: 00, loss: -0.92436\n",
      "epoch: 01, loss: -0.95749\n",
      "epoch: 02, loss: -0.96422\n",
      "epoch: 03, loss: -0.96806\n",
      "epoch: 04, loss: -0.97064\n",
      "epoch: 05, loss: -0.97255\n",
      "epoch: 06, loss: -0.97407\n",
      "epoch: 07, loss: -0.97529\n",
      "epoch: 08, loss: -0.97630\n",
      "epoch: 09, loss: -0.97718\n",
      "torch.Size([1024, 64])\n"
     ]
    },
    {
     "name": "stderr",
     "output_type": "stream",
     "text": [
      " 32%|███▏      | 324/999 [4:27:12<9:59:02, 53.25s/it] "
     ]
    },
    {
     "name": "stdout",
     "output_type": "stream",
     "text": [
      "eigenvalues shape torch.Size([5]) eigenvectors shape torch.Size([5, 1024])\n",
      "324 /home/phdcs2/Hard_Disk/Datasets/Deep-Spectral-Segmentation/data/object-segmentation/ECSSD/features/0326_resized.pth\n",
      "dict_keys(['k', 'indices', 'file', 'id', 'model_name', 'patch_size', 'shape'])\n",
      "0326_resized\n",
      "Starting Training\n",
      "epoch: 00, loss: -0.92312\n",
      "epoch: 01, loss: -0.95212\n",
      "epoch: 02, loss: -0.95908\n",
      "epoch: 03, loss: -0.96312\n",
      "epoch: 04, loss: -0.96596\n",
      "epoch: 05, loss: -0.96810\n",
      "epoch: 06, loss: -0.96977\n",
      "epoch: 07, loss: -0.97116\n",
      "epoch: 08, loss: -0.97229\n",
      "epoch: 09, loss: -0.97329\n",
      "torch.Size([1024, 64])\n"
     ]
    },
    {
     "name": "stderr",
     "output_type": "stream",
     "text": [
      " 33%|███▎      | 325/999 [4:28:02<9:47:55, 52.34s/it]"
     ]
    },
    {
     "name": "stdout",
     "output_type": "stream",
     "text": [
      "eigenvalues shape torch.Size([5]) eigenvectors shape torch.Size([5, 1024])\n",
      "325 /home/phdcs2/Hard_Disk/Datasets/Deep-Spectral-Segmentation/data/object-segmentation/ECSSD/features/0327_resized.pth\n",
      "dict_keys(['k', 'indices', 'file', 'id', 'model_name', 'patch_size', 'shape'])\n",
      "0327_resized\n",
      "Starting Training\n",
      "epoch: 00, loss: -0.87421\n",
      "epoch: 01, loss: -0.92530\n",
      "epoch: 02, loss: -0.93862\n",
      "epoch: 03, loss: -0.94590\n",
      "epoch: 04, loss: -0.95098\n",
      "epoch: 05, loss: -0.95467\n",
      "epoch: 06, loss: -0.95752\n",
      "epoch: 07, loss: -0.95978\n",
      "epoch: 08, loss: -0.96167\n",
      "epoch: 09, loss: -0.96314\n",
      "torch.Size([1024, 64])\n"
     ]
    },
    {
     "name": "stderr",
     "output_type": "stream",
     "text": [
      " 33%|███▎      | 326/999 [4:28:45<9:14:08, 49.40s/it]"
     ]
    },
    {
     "name": "stdout",
     "output_type": "stream",
     "text": [
      "eigenvalues shape torch.Size([5]) eigenvectors shape torch.Size([5, 1024])\n",
      "326 /home/phdcs2/Hard_Disk/Datasets/Deep-Spectral-Segmentation/data/object-segmentation/ECSSD/features/0328_resized.pth\n",
      "dict_keys(['k', 'indices', 'file', 'id', 'model_name', 'patch_size', 'shape'])\n",
      "0328_resized\n",
      "Starting Training\n",
      "epoch: 00, loss: -0.92398\n",
      "epoch: 01, loss: -0.95312\n",
      "epoch: 02, loss: -0.96019\n",
      "epoch: 03, loss: -0.96425\n",
      "epoch: 04, loss: -0.96703\n",
      "epoch: 05, loss: -0.96910\n",
      "epoch: 06, loss: -0.97072\n",
      "epoch: 07, loss: -0.97207\n",
      "epoch: 08, loss: -0.97316\n",
      "epoch: 09, loss: -0.97411\n",
      "torch.Size([1024, 64])\n"
     ]
    },
    {
     "name": "stderr",
     "output_type": "stream",
     "text": [
      " 33%|███▎      | 327/999 [4:29:40<9:32:26, 51.11s/it]"
     ]
    },
    {
     "name": "stdout",
     "output_type": "stream",
     "text": [
      "eigenvalues shape torch.Size([5]) eigenvectors shape torch.Size([5, 1024])\n",
      "327 /home/phdcs2/Hard_Disk/Datasets/Deep-Spectral-Segmentation/data/object-segmentation/ECSSD/features/0329_resized.pth\n",
      "dict_keys(['k', 'indices', 'file', 'id', 'model_name', 'patch_size', 'shape'])\n",
      "0329_resized\n",
      "Starting Training\n",
      "epoch: 00, loss: -0.92922\n",
      "epoch: 01, loss: -0.95662\n",
      "epoch: 02, loss: -0.96292\n",
      "epoch: 03, loss: -0.96662\n",
      "epoch: 04, loss: -0.96914\n",
      "epoch: 05, loss: -0.97105\n",
      "epoch: 06, loss: -0.97253\n",
      "epoch: 07, loss: -0.97374\n",
      "epoch: 08, loss: -0.97475\n",
      "epoch: 09, loss: -0.97564\n",
      "torch.Size([1024, 64])\n"
     ]
    },
    {
     "name": "stderr",
     "output_type": "stream",
     "text": [
      " 33%|███▎      | 328/999 [4:30:27<9:17:06, 49.82s/it]"
     ]
    },
    {
     "name": "stdout",
     "output_type": "stream",
     "text": [
      "eigenvalues shape torch.Size([5]) eigenvectors shape torch.Size([5, 1024])\n",
      "328 /home/phdcs2/Hard_Disk/Datasets/Deep-Spectral-Segmentation/data/object-segmentation/ECSSD/features/0330_resized.pth\n",
      "dict_keys(['k', 'indices', 'file', 'id', 'model_name', 'patch_size', 'shape'])\n",
      "0330_resized\n",
      "Starting Training\n",
      "epoch: 00, loss: -0.91262\n",
      "epoch: 01, loss: -0.94685\n",
      "epoch: 02, loss: -0.95531\n",
      "epoch: 03, loss: -0.96015\n",
      "epoch: 04, loss: -0.96341\n",
      "epoch: 05, loss: -0.96585\n",
      "epoch: 06, loss: -0.96775\n",
      "epoch: 07, loss: -0.96934\n",
      "epoch: 08, loss: -0.97060\n",
      "epoch: 09, loss: -0.97173\n",
      "torch.Size([1024, 64])\n"
     ]
    },
    {
     "name": "stderr",
     "output_type": "stream",
     "text": [
      " 33%|███▎      | 329/999 [4:31:09<8:50:38, 47.52s/it]"
     ]
    },
    {
     "name": "stdout",
     "output_type": "stream",
     "text": [
      "eigenvalues shape torch.Size([5]) eigenvectors shape torch.Size([5, 1024])\n",
      "329 /home/phdcs2/Hard_Disk/Datasets/Deep-Spectral-Segmentation/data/object-segmentation/ECSSD/features/0331_resized.pth\n",
      "dict_keys(['k', 'indices', 'file', 'id', 'model_name', 'patch_size', 'shape'])\n",
      "0331_resized\n",
      "Starting Training\n",
      "epoch: 00, loss: -0.93117\n",
      "epoch: 01, loss: -0.95872\n",
      "epoch: 02, loss: -0.96493\n",
      "epoch: 03, loss: -0.96850\n",
      "epoch: 04, loss: -0.97091\n",
      "epoch: 05, loss: -0.97273\n",
      "epoch: 06, loss: -0.97414\n",
      "epoch: 07, loss: -0.97529\n",
      "epoch: 08, loss: -0.97626\n",
      "epoch: 09, loss: -0.97708\n",
      "torch.Size([1024, 64])\n"
     ]
    },
    {
     "name": "stderr",
     "output_type": "stream",
     "text": [
      " 33%|███▎      | 330/999 [4:32:01<9:05:24, 48.91s/it]"
     ]
    },
    {
     "name": "stdout",
     "output_type": "stream",
     "text": [
      "eigenvalues shape torch.Size([5]) eigenvectors shape torch.Size([5, 1024])\n",
      "330 /home/phdcs2/Hard_Disk/Datasets/Deep-Spectral-Segmentation/data/object-segmentation/ECSSD/features/0332_resized.pth\n",
      "dict_keys(['k', 'indices', 'file', 'id', 'model_name', 'patch_size', 'shape'])\n",
      "0332_resized\n",
      "Starting Training\n",
      "epoch: 00, loss: -0.92153\n",
      "epoch: 01, loss: -0.95325\n",
      "epoch: 02, loss: -0.96046\n",
      "epoch: 03, loss: -0.96468\n",
      "epoch: 04, loss: -0.96750\n",
      "epoch: 05, loss: -0.96965\n",
      "epoch: 06, loss: -0.97131\n",
      "epoch: 07, loss: -0.97268\n",
      "epoch: 08, loss: -0.97381\n",
      "epoch: 09, loss: -0.97481\n",
      "torch.Size([1024, 64])\n"
     ]
    },
    {
     "name": "stderr",
     "output_type": "stream",
     "text": [
      " 33%|███▎      | 331/999 [4:32:47<8:54:38, 48.02s/it]"
     ]
    },
    {
     "name": "stdout",
     "output_type": "stream",
     "text": [
      "eigenvalues shape torch.Size([5]) eigenvectors shape torch.Size([5, 1024])\n",
      "331 /home/phdcs2/Hard_Disk/Datasets/Deep-Spectral-Segmentation/data/object-segmentation/ECSSD/features/0333_resized.pth\n",
      "dict_keys(['k', 'indices', 'file', 'id', 'model_name', 'patch_size', 'shape'])\n",
      "0333_resized\n",
      "Starting Training\n",
      "epoch: 00, loss: -0.93050\n",
      "epoch: 01, loss: -0.95898\n",
      "epoch: 02, loss: -0.96529\n",
      "epoch: 03, loss: -0.96893\n",
      "epoch: 04, loss: -0.97136\n",
      "epoch: 05, loss: -0.97320\n",
      "epoch: 06, loss: -0.97462\n",
      "epoch: 07, loss: -0.97578\n",
      "epoch: 08, loss: -0.97677\n",
      "epoch: 09, loss: -0.97759\n",
      "torch.Size([1024, 64])\n"
     ]
    },
    {
     "name": "stderr",
     "output_type": "stream",
     "text": [
      " 33%|███▎      | 332/999 [4:33:41<9:14:06, 49.84s/it]"
     ]
    },
    {
     "name": "stdout",
     "output_type": "stream",
     "text": [
      "eigenvalues shape torch.Size([5]) eigenvectors shape torch.Size([5, 1024])\n",
      "332 /home/phdcs2/Hard_Disk/Datasets/Deep-Spectral-Segmentation/data/object-segmentation/ECSSD/features/0334_resized.pth\n",
      "dict_keys(['k', 'indices', 'file', 'id', 'model_name', 'patch_size', 'shape'])\n",
      "0334_resized\n",
      "Starting Training\n",
      "epoch: 00, loss: -0.91304\n",
      "epoch: 01, loss: -0.94790\n",
      "epoch: 02, loss: -0.95568\n",
      "epoch: 03, loss: -0.96024\n",
      "epoch: 04, loss: -0.96340\n",
      "epoch: 05, loss: -0.96574\n",
      "epoch: 06, loss: -0.96755\n",
      "epoch: 07, loss: -0.96901\n",
      "epoch: 08, loss: -0.97021\n",
      "epoch: 09, loss: -0.97124\n",
      "torch.Size([1024, 64])\n"
     ]
    },
    {
     "name": "stderr",
     "output_type": "stream",
     "text": [
      " 33%|███▎      | 333/999 [4:34:30<9:11:00, 49.64s/it]"
     ]
    },
    {
     "name": "stdout",
     "output_type": "stream",
     "text": [
      "eigenvalues shape torch.Size([5]) eigenvectors shape torch.Size([5, 1024])\n",
      "333 /home/phdcs2/Hard_Disk/Datasets/Deep-Spectral-Segmentation/data/object-segmentation/ECSSD/features/0335_resized.pth\n",
      "dict_keys(['k', 'indices', 'file', 'id', 'model_name', 'patch_size', 'shape'])\n",
      "0335_resized\n",
      "Starting Training\n",
      "epoch: 00, loss: -0.93104\n",
      "epoch: 01, loss: -0.96129\n",
      "epoch: 02, loss: -0.96750\n",
      "epoch: 03, loss: -0.97106\n",
      "epoch: 04, loss: -0.97344\n",
      "epoch: 05, loss: -0.97524\n",
      "epoch: 06, loss: -0.97664\n",
      "epoch: 07, loss: -0.97776\n",
      "epoch: 08, loss: -0.97869\n",
      "epoch: 09, loss: -0.97948\n",
      "torch.Size([1024, 64])\n"
     ]
    },
    {
     "name": "stderr",
     "output_type": "stream",
     "text": [
      " 33%|███▎      | 334/999 [4:35:15<8:53:37, 48.15s/it]"
     ]
    },
    {
     "name": "stdout",
     "output_type": "stream",
     "text": [
      "eigenvalues shape torch.Size([5]) eigenvectors shape torch.Size([5, 1024])\n",
      "334 /home/phdcs2/Hard_Disk/Datasets/Deep-Spectral-Segmentation/data/object-segmentation/ECSSD/features/0336_resized.pth\n",
      "dict_keys(['k', 'indices', 'file', 'id', 'model_name', 'patch_size', 'shape'])\n",
      "0336_resized\n",
      "Starting Training\n",
      "epoch: 00, loss: -0.95039\n",
      "epoch: 01, loss: -0.97014\n",
      "epoch: 02, loss: -0.97412\n",
      "epoch: 03, loss: -0.97643\n",
      "epoch: 04, loss: -0.97800\n",
      "epoch: 05, loss: -0.97916\n",
      "epoch: 06, loss: -0.98010\n",
      "epoch: 07, loss: -0.98084\n",
      "epoch: 08, loss: -0.98148\n",
      "epoch: 09, loss: -0.98203\n",
      "torch.Size([1024, 64])\n"
     ]
    },
    {
     "name": "stderr",
     "output_type": "stream",
     "text": [
      " 34%|███▎      | 335/999 [4:36:11<9:18:28, 50.46s/it]"
     ]
    },
    {
     "name": "stdout",
     "output_type": "stream",
     "text": [
      "eigenvalues shape torch.Size([5]) eigenvectors shape torch.Size([5, 1024])\n",
      "335 /home/phdcs2/Hard_Disk/Datasets/Deep-Spectral-Segmentation/data/object-segmentation/ECSSD/features/0337_resized.pth\n",
      "dict_keys(['k', 'indices', 'file', 'id', 'model_name', 'patch_size', 'shape'])\n",
      "0337_resized\n",
      "Starting Training\n",
      "epoch: 00, loss: -0.89900\n",
      "epoch: 01, loss: -0.93797\n",
      "epoch: 02, loss: -0.94870\n",
      "epoch: 03, loss: -0.95476\n",
      "epoch: 04, loss: -0.95890\n",
      "epoch: 05, loss: -0.96179\n",
      "epoch: 06, loss: -0.96421\n",
      "epoch: 07, loss: -0.96609\n",
      "epoch: 08, loss: -0.96767\n",
      "epoch: 09, loss: -0.96902\n",
      "torch.Size([1024, 64])\n"
     ]
    },
    {
     "name": "stderr",
     "output_type": "stream",
     "text": [
      " 34%|███▎      | 336/999 [4:37:04<9:27:09, 51.33s/it]"
     ]
    },
    {
     "name": "stdout",
     "output_type": "stream",
     "text": [
      "eigenvalues shape torch.Size([5]) eigenvectors shape torch.Size([5, 1024])\n",
      "336 /home/phdcs2/Hard_Disk/Datasets/Deep-Spectral-Segmentation/data/object-segmentation/ECSSD/features/0338_resized.pth\n",
      "dict_keys(['k', 'indices', 'file', 'id', 'model_name', 'patch_size', 'shape'])\n",
      "0338_resized\n",
      "Starting Training\n",
      "epoch: 00, loss: -0.92038\n",
      "epoch: 01, loss: -0.95213\n",
      "epoch: 02, loss: -0.95961\n",
      "epoch: 03, loss: -0.96385\n",
      "epoch: 04, loss: -0.96677\n",
      "epoch: 05, loss: -0.96896\n",
      "epoch: 06, loss: -0.97065\n",
      "epoch: 07, loss: -0.97206\n",
      "epoch: 08, loss: -0.97324\n",
      "epoch: 09, loss: -0.97422\n",
      "torch.Size([1024, 64])\n"
     ]
    },
    {
     "name": "stderr",
     "output_type": "stream",
     "text": [
      " 34%|███▎      | 337/999 [4:37:49<9:02:46, 49.19s/it]"
     ]
    },
    {
     "name": "stdout",
     "output_type": "stream",
     "text": [
      "eigenvalues shape torch.Size([5]) eigenvectors shape torch.Size([5, 1024])\n",
      "337 /home/phdcs2/Hard_Disk/Datasets/Deep-Spectral-Segmentation/data/object-segmentation/ECSSD/features/0339_resized.pth\n",
      "dict_keys(['k', 'indices', 'file', 'id', 'model_name', 'patch_size', 'shape'])\n",
      "0339_resized\n",
      "Starting Training\n",
      "epoch: 00, loss: -0.92825\n",
      "epoch: 01, loss: -0.95549\n",
      "epoch: 02, loss: -0.96224\n",
      "epoch: 03, loss: -0.96611\n",
      "epoch: 04, loss: -0.96882\n",
      "epoch: 05, loss: -0.97088\n",
      "epoch: 06, loss: -0.97246\n",
      "epoch: 07, loss: -0.97372\n",
      "epoch: 08, loss: -0.97486\n",
      "epoch: 09, loss: -0.97577\n",
      "torch.Size([1024, 64])\n"
     ]
    },
    {
     "name": "stderr",
     "output_type": "stream",
     "text": [
      " 34%|███▍      | 338/999 [4:38:33<8:47:24, 47.87s/it]"
     ]
    },
    {
     "name": "stdout",
     "output_type": "stream",
     "text": [
      "eigenvalues shape torch.Size([5]) eigenvectors shape torch.Size([5, 1024])\n",
      "338 /home/phdcs2/Hard_Disk/Datasets/Deep-Spectral-Segmentation/data/object-segmentation/ECSSD/features/0340_resized.pth\n",
      "dict_keys(['k', 'indices', 'file', 'id', 'model_name', 'patch_size', 'shape'])\n",
      "0340_resized\n",
      "Starting Training\n",
      "epoch: 00, loss: -0.91745\n",
      "epoch: 01, loss: -0.95117\n",
      "epoch: 02, loss: -0.95907\n",
      "epoch: 03, loss: -0.96368\n",
      "epoch: 04, loss: -0.96672\n",
      "epoch: 05, loss: -0.96899\n",
      "epoch: 06, loss: -0.97066\n",
      "epoch: 07, loss: -0.97212\n",
      "epoch: 08, loss: -0.97327\n",
      "epoch: 09, loss: -0.97428\n",
      "torch.Size([1024, 64])\n"
     ]
    },
    {
     "name": "stderr",
     "output_type": "stream",
     "text": [
      " 34%|███▍      | 339/999 [4:39:24<8:55:21, 48.67s/it]"
     ]
    },
    {
     "name": "stdout",
     "output_type": "stream",
     "text": [
      "eigenvalues shape torch.Size([5]) eigenvectors shape torch.Size([5, 1024])\n",
      "339 /home/phdcs2/Hard_Disk/Datasets/Deep-Spectral-Segmentation/data/object-segmentation/ECSSD/features/0341_resized.pth\n",
      "dict_keys(['k', 'indices', 'file', 'id', 'model_name', 'patch_size', 'shape'])\n",
      "0341_resized\n",
      "Starting Training\n",
      "epoch: 00, loss: -0.88400\n",
      "epoch: 01, loss: -0.93268\n",
      "epoch: 02, loss: -0.94402\n",
      "epoch: 03, loss: -0.95048\n",
      "epoch: 04, loss: -0.95479\n",
      "epoch: 05, loss: -0.95790\n",
      "epoch: 06, loss: -0.96029\n",
      "epoch: 07, loss: -0.96233\n",
      "epoch: 08, loss: -0.96404\n",
      "epoch: 09, loss: -0.96545\n",
      "torch.Size([1024, 64])\n"
     ]
    },
    {
     "name": "stderr",
     "output_type": "stream",
     "text": [
      " 34%|███▍      | 340/999 [4:40:12<8:51:52, 48.42s/it]"
     ]
    },
    {
     "name": "stdout",
     "output_type": "stream",
     "text": [
      "eigenvalues shape torch.Size([5]) eigenvectors shape torch.Size([5, 1024])\n",
      "340 /home/phdcs2/Hard_Disk/Datasets/Deep-Spectral-Segmentation/data/object-segmentation/ECSSD/features/0342_resized.pth\n",
      "dict_keys(['k', 'indices', 'file', 'id', 'model_name', 'patch_size', 'shape'])\n",
      "0342_resized\n",
      "Starting Training\n",
      "epoch: 00, loss: -0.86935\n",
      "epoch: 01, loss: -0.92260\n",
      "epoch: 02, loss: -0.93589\n",
      "epoch: 03, loss: -0.94316\n",
      "epoch: 04, loss: -0.94809\n",
      "epoch: 05, loss: -0.95171\n",
      "epoch: 06, loss: -0.95448\n",
      "epoch: 07, loss: -0.95683\n",
      "epoch: 08, loss: -0.95866\n",
      "epoch: 09, loss: -0.96020\n",
      "torch.Size([1024, 64])\n"
     ]
    },
    {
     "name": "stderr",
     "output_type": "stream",
     "text": [
      " 34%|███▍      | 341/999 [4:40:57<8:42:24, 47.64s/it]"
     ]
    },
    {
     "name": "stdout",
     "output_type": "stream",
     "text": [
      "eigenvalues shape torch.Size([5]) eigenvectors shape torch.Size([5, 1024])\n",
      "341 /home/phdcs2/Hard_Disk/Datasets/Deep-Spectral-Segmentation/data/object-segmentation/ECSSD/features/0343_resized.pth\n",
      "dict_keys(['k', 'indices', 'file', 'id', 'model_name', 'patch_size', 'shape'])\n",
      "0343_resized\n",
      "Starting Training\n",
      "epoch: 00, loss: -0.91522\n",
      "epoch: 01, loss: -0.94823\n",
      "epoch: 02, loss: -0.95587\n",
      "epoch: 03, loss: -0.96028\n",
      "epoch: 04, loss: -0.96329\n",
      "epoch: 05, loss: -0.96557\n",
      "epoch: 06, loss: -0.96735\n",
      "epoch: 07, loss: -0.96881\n",
      "epoch: 08, loss: -0.97002\n",
      "epoch: 09, loss: -0.97105\n",
      "torch.Size([1024, 64])\n"
     ]
    },
    {
     "name": "stderr",
     "output_type": "stream",
     "text": [
      " 34%|███▍      | 342/999 [4:41:51<9:00:59, 49.41s/it]"
     ]
    },
    {
     "name": "stdout",
     "output_type": "stream",
     "text": [
      "eigenvalues shape torch.Size([5]) eigenvectors shape torch.Size([5, 1024])\n",
      "342 /home/phdcs2/Hard_Disk/Datasets/Deep-Spectral-Segmentation/data/object-segmentation/ECSSD/features/0344_resized.pth\n",
      "dict_keys(['k', 'indices', 'file', 'id', 'model_name', 'patch_size', 'shape'])\n",
      "0344_resized\n",
      "Starting Training\n",
      "epoch: 00, loss: -0.87425\n",
      "epoch: 01, loss: -0.92364\n",
      "epoch: 02, loss: -0.93707\n",
      "epoch: 03, loss: -0.94486\n",
      "epoch: 04, loss: -0.94997\n",
      "epoch: 05, loss: -0.95384\n",
      "epoch: 06, loss: -0.95680\n",
      "epoch: 07, loss: -0.95913\n",
      "epoch: 08, loss: -0.96116\n",
      "epoch: 09, loss: -0.96276\n",
      "torch.Size([1024, 64])\n"
     ]
    },
    {
     "name": "stderr",
     "output_type": "stream",
     "text": [
      " 34%|███▍      | 343/999 [4:42:37<8:47:15, 48.22s/it]"
     ]
    },
    {
     "name": "stdout",
     "output_type": "stream",
     "text": [
      "eigenvalues shape torch.Size([5]) eigenvectors shape torch.Size([5, 1024])\n",
      "343 /home/phdcs2/Hard_Disk/Datasets/Deep-Spectral-Segmentation/data/object-segmentation/ECSSD/features/0345_resized.pth\n",
      "dict_keys(['k', 'indices', 'file', 'id', 'model_name', 'patch_size', 'shape'])\n",
      "0345_resized\n",
      "Starting Training\n",
      "epoch: 00, loss: -0.91063\n",
      "epoch: 01, loss: -0.94484\n",
      "epoch: 02, loss: -0.95383\n",
      "epoch: 03, loss: -0.95897\n",
      "epoch: 04, loss: -0.96248\n",
      "epoch: 05, loss: -0.96509\n",
      "epoch: 06, loss: -0.96714\n",
      "epoch: 07, loss: -0.96879\n",
      "epoch: 08, loss: -0.97017\n",
      "epoch: 09, loss: -0.97134\n",
      "torch.Size([1024, 64])\n"
     ]
    },
    {
     "name": "stderr",
     "output_type": "stream",
     "text": [
      " 34%|███▍      | 344/999 [4:43:21<8:34:57, 47.17s/it]"
     ]
    },
    {
     "name": "stdout",
     "output_type": "stream",
     "text": [
      "eigenvalues shape torch.Size([5]) eigenvectors shape torch.Size([5, 1024])\n",
      "344 /home/phdcs2/Hard_Disk/Datasets/Deep-Spectral-Segmentation/data/object-segmentation/ECSSD/features/0346_resized.pth\n",
      "dict_keys(['k', 'indices', 'file', 'id', 'model_name', 'patch_size', 'shape'])\n",
      "0346_resized\n",
      "Starting Training\n",
      "epoch: 00, loss: -0.90331\n",
      "epoch: 01, loss: -0.93849\n",
      "epoch: 02, loss: -0.94822\n",
      "epoch: 03, loss: -0.95391\n",
      "epoch: 04, loss: -0.95780\n",
      "epoch: 05, loss: -0.96080\n",
      "epoch: 06, loss: -0.96301\n",
      "epoch: 07, loss: -0.96478\n",
      "epoch: 08, loss: -0.96636\n",
      "epoch: 09, loss: -0.96764\n",
      "torch.Size([1024, 64])\n"
     ]
    },
    {
     "name": "stderr",
     "output_type": "stream",
     "text": [
      " 35%|███▍      | 345/999 [4:44:13<8:50:37, 48.68s/it]"
     ]
    },
    {
     "name": "stdout",
     "output_type": "stream",
     "text": [
      "eigenvalues shape torch.Size([5]) eigenvectors shape torch.Size([5, 1024])\n",
      "345 /home/phdcs2/Hard_Disk/Datasets/Deep-Spectral-Segmentation/data/object-segmentation/ECSSD/features/0347_resized.pth\n",
      "dict_keys(['k', 'indices', 'file', 'id', 'model_name', 'patch_size', 'shape'])\n",
      "0347_resized\n",
      "Starting Training\n",
      "epoch: 00, loss: -0.91668\n",
      "epoch: 01, loss: -0.95078\n",
      "epoch: 02, loss: -0.95835\n",
      "epoch: 03, loss: -0.96275\n",
      "epoch: 04, loss: -0.96579\n",
      "epoch: 05, loss: -0.96805\n",
      "epoch: 06, loss: -0.96989\n",
      "epoch: 07, loss: -0.97135\n",
      "epoch: 08, loss: -0.97252\n",
      "epoch: 09, loss: -0.97359\n",
      "torch.Size([1024, 64])\n"
     ]
    },
    {
     "name": "stderr",
     "output_type": "stream",
     "text": [
      " 35%|███▍      | 346/999 [4:44:55<8:27:20, 46.62s/it]"
     ]
    },
    {
     "name": "stdout",
     "output_type": "stream",
     "text": [
      "eigenvalues shape torch.Size([5]) eigenvectors shape torch.Size([5, 1024])\n",
      "346 /home/phdcs2/Hard_Disk/Datasets/Deep-Spectral-Segmentation/data/object-segmentation/ECSSD/features/0348_resized.pth\n",
      "dict_keys(['k', 'indices', 'file', 'id', 'model_name', 'patch_size', 'shape'])\n",
      "0348_resized\n",
      "Starting Training\n",
      "epoch: 00, loss: -0.91957\n",
      "epoch: 01, loss: -0.95020\n",
      "epoch: 02, loss: -0.95804\n",
      "epoch: 03, loss: -0.96270\n",
      "epoch: 04, loss: -0.96588\n",
      "epoch: 05, loss: -0.96822\n",
      "epoch: 06, loss: -0.96999\n",
      "epoch: 07, loss: -0.97142\n",
      "epoch: 08, loss: -0.97268\n",
      "epoch: 09, loss: -0.97374\n",
      "torch.Size([1024, 64])\n"
     ]
    },
    {
     "name": "stderr",
     "output_type": "stream",
     "text": [
      " 35%|███▍      | 347/999 [4:45:47<8:41:49, 48.02s/it]"
     ]
    },
    {
     "name": "stdout",
     "output_type": "stream",
     "text": [
      "eigenvalues shape torch.Size([5]) eigenvectors shape torch.Size([5, 1024])\n",
      "347 /home/phdcs2/Hard_Disk/Datasets/Deep-Spectral-Segmentation/data/object-segmentation/ECSSD/features/0349_resized.pth\n",
      "dict_keys(['k', 'indices', 'file', 'id', 'model_name', 'patch_size', 'shape'])\n",
      "0349_resized\n",
      "Starting Training\n",
      "epoch: 00, loss: -0.93954\n",
      "epoch: 01, loss: -0.96385\n",
      "epoch: 02, loss: -0.96925\n",
      "epoch: 03, loss: -0.97236\n",
      "epoch: 04, loss: -0.97448\n",
      "epoch: 05, loss: -0.97609\n",
      "epoch: 06, loss: -0.97735\n",
      "epoch: 07, loss: -0.97839\n",
      "epoch: 08, loss: -0.97925\n",
      "epoch: 09, loss: -0.98001\n",
      "torch.Size([1024, 64])\n"
     ]
    },
    {
     "name": "stderr",
     "output_type": "stream",
     "text": [
      " 35%|███▍      | 348/999 [4:46:31<8:29:38, 46.97s/it]"
     ]
    },
    {
     "name": "stdout",
     "output_type": "stream",
     "text": [
      "eigenvalues shape torch.Size([5]) eigenvectors shape torch.Size([5, 1024])\n",
      "348 /home/phdcs2/Hard_Disk/Datasets/Deep-Spectral-Segmentation/data/object-segmentation/ECSSD/features/0350_resized.pth\n",
      "dict_keys(['k', 'indices', 'file', 'id', 'model_name', 'patch_size', 'shape'])\n",
      "0350_resized\n",
      "Starting Training\n",
      "epoch: 00, loss: -0.91625\n",
      "epoch: 01, loss: -0.94998\n",
      "epoch: 02, loss: -0.95812\n",
      "epoch: 03, loss: -0.96266\n",
      "epoch: 04, loss: -0.96573\n",
      "epoch: 05, loss: -0.96810\n",
      "epoch: 06, loss: -0.96985\n",
      "epoch: 07, loss: -0.97134\n",
      "epoch: 08, loss: -0.97253\n",
      "epoch: 09, loss: -0.97354\n",
      "torch.Size([1024, 64])\n"
     ]
    },
    {
     "name": "stderr",
     "output_type": "stream",
     "text": [
      " 35%|███▍      | 349/999 [4:47:29<9:03:32, 50.17s/it]"
     ]
    },
    {
     "name": "stdout",
     "output_type": "stream",
     "text": [
      "eigenvalues shape torch.Size([5]) eigenvectors shape torch.Size([5, 1024])\n",
      "349 /home/phdcs2/Hard_Disk/Datasets/Deep-Spectral-Segmentation/data/object-segmentation/ECSSD/features/0351_resized.pth\n",
      "dict_keys(['k', 'indices', 'file', 'id', 'model_name', 'patch_size', 'shape'])\n",
      "0351_resized\n",
      "Starting Training\n",
      "epoch: 00, loss: -0.93912\n",
      "epoch: 01, loss: -0.96383\n",
      "epoch: 02, loss: -0.96926\n",
      "epoch: 03, loss: -0.97243\n",
      "epoch: 04, loss: -0.97465\n",
      "epoch: 05, loss: -0.97629\n",
      "epoch: 06, loss: -0.97760\n",
      "epoch: 07, loss: -0.97866\n",
      "epoch: 08, loss: -0.97954\n",
      "epoch: 09, loss: -0.98031\n",
      "torch.Size([1024, 64])\n"
     ]
    },
    {
     "name": "stderr",
     "output_type": "stream",
     "text": [
      " 35%|███▌      | 350/999 [4:48:21<9:08:16, 50.69s/it]"
     ]
    },
    {
     "name": "stdout",
     "output_type": "stream",
     "text": [
      "eigenvalues shape torch.Size([5]) eigenvectors shape torch.Size([5, 1024])\n",
      "350 /home/phdcs2/Hard_Disk/Datasets/Deep-Spectral-Segmentation/data/object-segmentation/ECSSD/features/0352_resized.pth\n",
      "dict_keys(['k', 'indices', 'file', 'id', 'model_name', 'patch_size', 'shape'])\n",
      "0352_resized\n",
      "Starting Training\n",
      "epoch: 00, loss: -0.90859\n",
      "epoch: 01, loss: -0.94314\n",
      "epoch: 02, loss: -0.95191\n",
      "epoch: 03, loss: -0.95702\n",
      "epoch: 04, loss: -0.96033\n",
      "epoch: 05, loss: -0.96295\n",
      "epoch: 06, loss: -0.96492\n",
      "epoch: 07, loss: -0.96655\n",
      "epoch: 08, loss: -0.96781\n",
      "epoch: 09, loss: -0.96903\n",
      "torch.Size([1024, 64])\n"
     ]
    },
    {
     "name": "stderr",
     "output_type": "stream",
     "text": [
      " 35%|███▌      | 351/999 [4:49:12<9:09:12, 50.85s/it]"
     ]
    },
    {
     "name": "stdout",
     "output_type": "stream",
     "text": [
      "eigenvalues shape torch.Size([5]) eigenvectors shape torch.Size([5, 1024])\n",
      "351 /home/phdcs2/Hard_Disk/Datasets/Deep-Spectral-Segmentation/data/object-segmentation/ECSSD/features/0353_resized.pth\n",
      "dict_keys(['k', 'indices', 'file', 'id', 'model_name', 'patch_size', 'shape'])\n",
      "0353_resized\n",
      "Starting Training\n",
      "epoch: 00, loss: -0.91546\n",
      "epoch: 01, loss: -0.94970\n",
      "epoch: 02, loss: -0.95707\n",
      "epoch: 03, loss: -0.96150\n",
      "epoch: 04, loss: -0.96445\n",
      "epoch: 05, loss: -0.96678\n",
      "epoch: 06, loss: -0.96853\n",
      "epoch: 07, loss: -0.96998\n",
      "epoch: 08, loss: -0.97119\n",
      "epoch: 09, loss: -0.97228\n",
      "torch.Size([1024, 64])\n"
     ]
    },
    {
     "name": "stderr",
     "output_type": "stream",
     "text": [
      " 35%|███▌      | 352/999 [4:49:58<8:52:47, 49.41s/it]"
     ]
    },
    {
     "name": "stdout",
     "output_type": "stream",
     "text": [
      "eigenvalues shape torch.Size([5]) eigenvectors shape torch.Size([5, 1024])\n",
      "352 /home/phdcs2/Hard_Disk/Datasets/Deep-Spectral-Segmentation/data/object-segmentation/ECSSD/features/0354_resized.pth\n",
      "dict_keys(['k', 'indices', 'file', 'id', 'model_name', 'patch_size', 'shape'])\n",
      "0354_resized\n",
      "Starting Training\n",
      "epoch: 00, loss: -0.92215\n",
      "epoch: 01, loss: -0.95364\n",
      "epoch: 02, loss: -0.96074\n",
      "epoch: 03, loss: -0.96501\n",
      "epoch: 04, loss: -0.96788\n",
      "epoch: 05, loss: -0.96999\n",
      "epoch: 06, loss: -0.97168\n",
      "epoch: 07, loss: -0.97308\n",
      "epoch: 08, loss: -0.97419\n",
      "epoch: 09, loss: -0.97514\n",
      "torch.Size([1024, 64])\n"
     ]
    },
    {
     "name": "stderr",
     "output_type": "stream",
     "text": [
      " 35%|███▌      | 353/999 [4:50:41<8:33:16, 47.67s/it]"
     ]
    },
    {
     "name": "stdout",
     "output_type": "stream",
     "text": [
      "eigenvalues shape torch.Size([5]) eigenvectors shape torch.Size([5, 1024])\n",
      "353 /home/phdcs2/Hard_Disk/Datasets/Deep-Spectral-Segmentation/data/object-segmentation/ECSSD/features/0355_resized.pth\n",
      "dict_keys(['k', 'indices', 'file', 'id', 'model_name', 'patch_size', 'shape'])\n",
      "0355_resized\n",
      "Starting Training\n",
      "epoch: 00, loss: -0.88282\n",
      "epoch: 01, loss: -0.93045\n",
      "epoch: 02, loss: -0.94265\n",
      "epoch: 03, loss: -0.94970\n",
      "epoch: 04, loss: -0.95446\n",
      "epoch: 05, loss: -0.95784\n",
      "epoch: 06, loss: -0.96062\n",
      "epoch: 07, loss: -0.96277\n",
      "epoch: 08, loss: -0.96463\n",
      "epoch: 09, loss: -0.96617\n",
      "torch.Size([1024, 64])\n"
     ]
    },
    {
     "name": "stderr",
     "output_type": "stream",
     "text": [
      " 35%|███▌      | 354/999 [4:51:36<8:53:39, 49.64s/it]"
     ]
    },
    {
     "name": "stdout",
     "output_type": "stream",
     "text": [
      "eigenvalues shape torch.Size([5]) eigenvectors shape torch.Size([5, 1024])\n",
      "354 /home/phdcs2/Hard_Disk/Datasets/Deep-Spectral-Segmentation/data/object-segmentation/ECSSD/features/0356_resized.pth\n",
      "dict_keys(['k', 'indices', 'file', 'id', 'model_name', 'patch_size', 'shape'])\n",
      "0356_resized\n",
      "Starting Training\n",
      "epoch: 00, loss: -0.92906\n",
      "epoch: 01, loss: -0.95716\n",
      "epoch: 02, loss: -0.96358\n",
      "epoch: 03, loss: -0.96723\n",
      "epoch: 04, loss: -0.96976\n",
      "epoch: 05, loss: -0.97163\n",
      "epoch: 06, loss: -0.97313\n",
      "epoch: 07, loss: -0.97434\n",
      "epoch: 08, loss: -0.97535\n",
      "epoch: 09, loss: -0.97622\n",
      "torch.Size([1024, 64])\n"
     ]
    },
    {
     "name": "stderr",
     "output_type": "stream",
     "text": [
      " 36%|███▌      | 355/999 [4:52:28<9:02:03, 50.50s/it]"
     ]
    },
    {
     "name": "stdout",
     "output_type": "stream",
     "text": [
      "eigenvalues shape torch.Size([5]) eigenvectors shape torch.Size([5, 1024])\n",
      "355 /home/phdcs2/Hard_Disk/Datasets/Deep-Spectral-Segmentation/data/object-segmentation/ECSSD/features/0357_resized.pth\n",
      "dict_keys(['k', 'indices', 'file', 'id', 'model_name', 'patch_size', 'shape'])\n",
      "0357_resized\n",
      "Starting Training\n",
      "epoch: 00, loss: -0.91545\n",
      "epoch: 01, loss: -0.95003\n",
      "epoch: 02, loss: -0.95761\n",
      "epoch: 03, loss: -0.96210\n",
      "epoch: 04, loss: -0.96519\n",
      "epoch: 05, loss: -0.96746\n",
      "epoch: 06, loss: -0.96926\n",
      "epoch: 07, loss: -0.97071\n",
      "epoch: 08, loss: -0.97190\n",
      "epoch: 09, loss: -0.97298\n",
      "torch.Size([1024, 64])\n"
     ]
    },
    {
     "name": "stderr",
     "output_type": "stream",
     "text": [
      " 36%|███▌      | 356/999 [4:53:18<8:57:53, 50.19s/it]"
     ]
    },
    {
     "name": "stdout",
     "output_type": "stream",
     "text": [
      "eigenvalues shape torch.Size([5]) eigenvectors shape torch.Size([5, 1024])\n",
      "356 /home/phdcs2/Hard_Disk/Datasets/Deep-Spectral-Segmentation/data/object-segmentation/ECSSD/features/0358_resized.pth\n",
      "dict_keys(['k', 'indices', 'file', 'id', 'model_name', 'patch_size', 'shape'])\n",
      "0358_resized\n",
      "Starting Training\n",
      "epoch: 00, loss: -0.92297\n",
      "epoch: 01, loss: -0.95334\n",
      "epoch: 02, loss: -0.96036\n",
      "epoch: 03, loss: -0.96453\n",
      "epoch: 04, loss: -0.96734\n",
      "epoch: 05, loss: -0.96949\n",
      "epoch: 06, loss: -0.97116\n",
      "epoch: 07, loss: -0.97254\n",
      "epoch: 08, loss: -0.97369\n",
      "epoch: 09, loss: -0.97464\n",
      "torch.Size([1024, 64])\n"
     ]
    },
    {
     "name": "stderr",
     "output_type": "stream",
     "text": [
      " 36%|███▌      | 357/999 [4:54:05<8:46:33, 49.21s/it]"
     ]
    },
    {
     "name": "stdout",
     "output_type": "stream",
     "text": [
      "eigenvalues shape torch.Size([5]) eigenvectors shape torch.Size([5, 1024])\n",
      "357 /home/phdcs2/Hard_Disk/Datasets/Deep-Spectral-Segmentation/data/object-segmentation/ECSSD/features/0359_resized.pth\n",
      "dict_keys(['k', 'indices', 'file', 'id', 'model_name', 'patch_size', 'shape'])\n",
      "0359_resized\n",
      "Starting Training\n",
      "epoch: 00, loss: -0.90205\n",
      "epoch: 01, loss: -0.94149\n",
      "epoch: 02, loss: -0.95088\n",
      "epoch: 03, loss: -0.95632\n",
      "epoch: 04, loss: -0.96002\n",
      "epoch: 05, loss: -0.96275\n",
      "epoch: 06, loss: -0.96490\n",
      "epoch: 07, loss: -0.96664\n",
      "epoch: 08, loss: -0.96810\n",
      "epoch: 09, loss: -0.96934\n",
      "torch.Size([1024, 64])\n"
     ]
    },
    {
     "name": "stderr",
     "output_type": "stream",
     "text": [
      " 36%|███▌      | 358/999 [4:54:49<8:29:16, 47.67s/it]"
     ]
    },
    {
     "name": "stdout",
     "output_type": "stream",
     "text": [
      "eigenvalues shape torch.Size([5]) eigenvectors shape torch.Size([5, 1024])\n",
      "358 /home/phdcs2/Hard_Disk/Datasets/Deep-Spectral-Segmentation/data/object-segmentation/ECSSD/features/0360_resized.pth\n",
      "dict_keys(['k', 'indices', 'file', 'id', 'model_name', 'patch_size', 'shape'])\n",
      "0360_resized\n",
      "Starting Training\n",
      "epoch: 00, loss: -0.92758\n",
      "epoch: 01, loss: -0.95699\n",
      "epoch: 02, loss: -0.96343\n",
      "epoch: 03, loss: -0.96723\n",
      "epoch: 04, loss: -0.96981\n",
      "epoch: 05, loss: -0.97174\n",
      "epoch: 06, loss: -0.97323\n",
      "epoch: 07, loss: -0.97453\n",
      "epoch: 08, loss: -0.97559\n",
      "epoch: 09, loss: -0.97650\n",
      "torch.Size([1024, 64])\n"
     ]
    },
    {
     "name": "stderr",
     "output_type": "stream",
     "text": [
      " 36%|███▌      | 359/999 [4:55:42<8:47:45, 49.48s/it]"
     ]
    },
    {
     "name": "stdout",
     "output_type": "stream",
     "text": [
      "eigenvalues shape torch.Size([5]) eigenvectors shape torch.Size([5, 1024])\n",
      "359 /home/phdcs2/Hard_Disk/Datasets/Deep-Spectral-Segmentation/data/object-segmentation/ECSSD/features/0361_resized.pth\n",
      "dict_keys(['k', 'indices', 'file', 'id', 'model_name', 'patch_size', 'shape'])\n",
      "0361_resized\n",
      "Starting Training\n",
      "epoch: 00, loss: -0.93887\n",
      "epoch: 01, loss: -0.96035\n",
      "epoch: 02, loss: -0.96563\n",
      "epoch: 03, loss: -0.96881\n",
      "epoch: 04, loss: -0.97104\n",
      "epoch: 05, loss: -0.97276\n",
      "epoch: 06, loss: -0.97408\n",
      "epoch: 07, loss: -0.97519\n",
      "epoch: 08, loss: -0.97612\n",
      "epoch: 09, loss: -0.97695\n",
      "torch.Size([1024, 64])\n"
     ]
    },
    {
     "name": "stderr",
     "output_type": "stream",
     "text": [
      " 36%|███▌      | 360/999 [4:56:28<8:35:12, 48.38s/it]"
     ]
    },
    {
     "name": "stdout",
     "output_type": "stream",
     "text": [
      "eigenvalues shape torch.Size([5]) eigenvectors shape torch.Size([5, 1024])\n",
      "360 /home/phdcs2/Hard_Disk/Datasets/Deep-Spectral-Segmentation/data/object-segmentation/ECSSD/features/0362_resized.pth\n",
      "dict_keys(['k', 'indices', 'file', 'id', 'model_name', 'patch_size', 'shape'])\n",
      "0362_resized\n",
      "Starting Training\n",
      "epoch: 00, loss: -0.91383\n",
      "epoch: 01, loss: -0.94916\n",
      "epoch: 02, loss: -0.95712\n",
      "epoch: 03, loss: -0.96166\n",
      "epoch: 04, loss: -0.96490\n",
      "epoch: 05, loss: -0.96722\n",
      "epoch: 06, loss: -0.96910\n",
      "epoch: 07, loss: -0.97060\n",
      "epoch: 08, loss: -0.97182\n",
      "epoch: 09, loss: -0.97288\n",
      "torch.Size([1024, 64])\n"
     ]
    },
    {
     "name": "stderr",
     "output_type": "stream",
     "text": [
      " 36%|███▌      | 361/999 [4:57:15<8:29:01, 47.87s/it]"
     ]
    },
    {
     "name": "stdout",
     "output_type": "stream",
     "text": [
      "eigenvalues shape torch.Size([5]) eigenvectors shape torch.Size([5, 1024])\n",
      "361 /home/phdcs2/Hard_Disk/Datasets/Deep-Spectral-Segmentation/data/object-segmentation/ECSSD/features/0363_resized.pth\n",
      "dict_keys(['k', 'indices', 'file', 'id', 'model_name', 'patch_size', 'shape'])\n",
      "0363_resized\n",
      "Starting Training\n",
      "epoch: 00, loss: -0.91727\n",
      "epoch: 01, loss: -0.94845\n",
      "epoch: 02, loss: -0.95643\n",
      "epoch: 03, loss: -0.96095\n",
      "epoch: 04, loss: -0.96416\n",
      "epoch: 05, loss: -0.96646\n",
      "epoch: 06, loss: -0.96825\n",
      "epoch: 07, loss: -0.96980\n",
      "epoch: 08, loss: -0.97097\n",
      "epoch: 09, loss: -0.97206\n",
      "torch.Size([1024, 64])\n"
     ]
    },
    {
     "name": "stderr",
     "output_type": "stream",
     "text": [
      " 36%|███▌      | 362/999 [4:58:06<8:39:17, 48.91s/it]"
     ]
    },
    {
     "name": "stdout",
     "output_type": "stream",
     "text": [
      "eigenvalues shape torch.Size([5]) eigenvectors shape torch.Size([5, 1024])\n",
      "362 /home/phdcs2/Hard_Disk/Datasets/Deep-Spectral-Segmentation/data/object-segmentation/ECSSD/features/0364_resized.pth\n",
      "dict_keys(['k', 'indices', 'file', 'id', 'model_name', 'patch_size', 'shape'])\n",
      "0364_resized\n",
      "Starting Training\n",
      "epoch: 00, loss: -0.92626\n",
      "epoch: 01, loss: -0.95530\n",
      "epoch: 02, loss: -0.96209\n",
      "epoch: 03, loss: -0.96602\n",
      "epoch: 04, loss: -0.96874\n",
      "epoch: 05, loss: -0.97076\n",
      "epoch: 06, loss: -0.97234\n",
      "epoch: 07, loss: -0.97365\n",
      "epoch: 08, loss: -0.97474\n",
      "epoch: 09, loss: -0.97568\n",
      "torch.Size([1024, 64])\n"
     ]
    },
    {
     "name": "stderr",
     "output_type": "stream",
     "text": [
      " 36%|███▋      | 363/999 [4:58:54<8:34:26, 48.53s/it]"
     ]
    },
    {
     "name": "stdout",
     "output_type": "stream",
     "text": [
      "eigenvalues shape torch.Size([5]) eigenvectors shape torch.Size([5, 1024])\n",
      "363 /home/phdcs2/Hard_Disk/Datasets/Deep-Spectral-Segmentation/data/object-segmentation/ECSSD/features/0365_resized.pth\n",
      "dict_keys(['k', 'indices', 'file', 'id', 'model_name', 'patch_size', 'shape'])\n",
      "0365_resized\n",
      "Starting Training\n",
      "epoch: 00, loss: -0.92591\n",
      "epoch: 01, loss: -0.95733\n",
      "epoch: 02, loss: -0.96344\n",
      "epoch: 03, loss: -0.96701\n",
      "epoch: 04, loss: -0.96943\n",
      "epoch: 05, loss: -0.97129\n",
      "epoch: 06, loss: -0.97271\n",
      "epoch: 07, loss: -0.97389\n",
      "epoch: 08, loss: -0.97489\n",
      "epoch: 09, loss: -0.97575\n",
      "torch.Size([1024, 64])\n"
     ]
    },
    {
     "name": "stderr",
     "output_type": "stream",
     "text": [
      " 36%|███▋      | 364/999 [4:59:40<8:26:20, 47.84s/it]"
     ]
    },
    {
     "name": "stdout",
     "output_type": "stream",
     "text": [
      "eigenvalues shape torch.Size([5]) eigenvectors shape torch.Size([5, 1024])\n",
      "364 /home/phdcs2/Hard_Disk/Datasets/Deep-Spectral-Segmentation/data/object-segmentation/ECSSD/features/0366_resized.pth\n",
      "dict_keys(['k', 'indices', 'file', 'id', 'model_name', 'patch_size', 'shape'])\n",
      "0366_resized\n",
      "Starting Training\n",
      "epoch: 00, loss: -0.93333\n",
      "epoch: 01, loss: -0.95830\n",
      "epoch: 02, loss: -0.96429\n",
      "epoch: 03, loss: -0.96773\n",
      "epoch: 04, loss: -0.97016\n",
      "epoch: 05, loss: -0.97195\n",
      "epoch: 06, loss: -0.97336\n",
      "epoch: 07, loss: -0.97453\n",
      "epoch: 08, loss: -0.97552\n",
      "epoch: 09, loss: -0.97633\n",
      "torch.Size([1024, 64])\n"
     ]
    },
    {
     "name": "stderr",
     "output_type": "stream",
     "text": [
      " 37%|███▋      | 365/999 [5:00:22<8:07:59, 46.18s/it]"
     ]
    },
    {
     "name": "stdout",
     "output_type": "stream",
     "text": [
      "eigenvalues shape torch.Size([5]) eigenvectors shape torch.Size([5, 1024])\n",
      "365 /home/phdcs2/Hard_Disk/Datasets/Deep-Spectral-Segmentation/data/object-segmentation/ECSSD/features/0367_resized.pth\n",
      "dict_keys(['k', 'indices', 'file', 'id', 'model_name', 'patch_size', 'shape'])\n",
      "0367_resized\n",
      "Starting Training\n",
      "epoch: 00, loss: -0.93057\n",
      "epoch: 01, loss: -0.95858\n",
      "epoch: 02, loss: -0.96468\n",
      "epoch: 03, loss: -0.96833\n",
      "epoch: 04, loss: -0.97079\n",
      "epoch: 05, loss: -0.97263\n",
      "epoch: 06, loss: -0.97405\n",
      "epoch: 07, loss: -0.97525\n",
      "epoch: 08, loss: -0.97622\n",
      "epoch: 09, loss: -0.97708\n",
      "torch.Size([1024, 64])\n"
     ]
    },
    {
     "name": "stderr",
     "output_type": "stream",
     "text": [
      " 37%|███▋      | 366/999 [5:01:19<8:40:33, 49.34s/it]"
     ]
    },
    {
     "name": "stdout",
     "output_type": "stream",
     "text": [
      "eigenvalues shape torch.Size([5]) eigenvectors shape torch.Size([5, 1024])\n",
      "366 /home/phdcs2/Hard_Disk/Datasets/Deep-Spectral-Segmentation/data/object-segmentation/ECSSD/features/0368_resized.pth\n",
      "dict_keys(['k', 'indices', 'file', 'id', 'model_name', 'patch_size', 'shape'])\n",
      "0368_resized\n",
      "Starting Training\n",
      "epoch: 00, loss: -0.91372\n",
      "epoch: 01, loss: -0.94916\n",
      "epoch: 02, loss: -0.95694\n",
      "epoch: 03, loss: -0.96136\n",
      "epoch: 04, loss: -0.96441\n",
      "epoch: 05, loss: -0.96664\n",
      "epoch: 06, loss: -0.96838\n",
      "epoch: 07, loss: -0.96984\n",
      "epoch: 08, loss: -0.97103\n",
      "epoch: 09, loss: -0.97208\n",
      "torch.Size([1024, 64])\n"
     ]
    },
    {
     "name": "stderr",
     "output_type": "stream",
     "text": [
      " 37%|███▋      | 367/999 [5:02:13<8:55:06, 50.80s/it]"
     ]
    },
    {
     "name": "stdout",
     "output_type": "stream",
     "text": [
      "eigenvalues shape torch.Size([5]) eigenvectors shape torch.Size([5, 1024])\n",
      "367 /home/phdcs2/Hard_Disk/Datasets/Deep-Spectral-Segmentation/data/object-segmentation/ECSSD/features/0369_resized.pth\n",
      "dict_keys(['k', 'indices', 'file', 'id', 'model_name', 'patch_size', 'shape'])\n",
      "0369_resized\n",
      "Starting Training\n",
      "epoch: 00, loss: -0.92328\n",
      "epoch: 01, loss: -0.95435\n",
      "epoch: 02, loss: -0.96179\n",
      "epoch: 03, loss: -0.96601\n",
      "epoch: 04, loss: -0.96888\n",
      "epoch: 05, loss: -0.97096\n",
      "epoch: 06, loss: -0.97262\n",
      "epoch: 07, loss: -0.97394\n",
      "epoch: 08, loss: -0.97507\n",
      "epoch: 09, loss: -0.97602\n",
      "torch.Size([1024, 64])\n"
     ]
    },
    {
     "name": "stderr",
     "output_type": "stream",
     "text": [
      " 37%|███▋      | 368/999 [5:03:02<8:47:44, 50.18s/it]"
     ]
    },
    {
     "name": "stdout",
     "output_type": "stream",
     "text": [
      "eigenvalues shape torch.Size([5]) eigenvectors shape torch.Size([5, 1024])\n",
      "368 /home/phdcs2/Hard_Disk/Datasets/Deep-Spectral-Segmentation/data/object-segmentation/ECSSD/features/0370_resized.pth\n",
      "dict_keys(['k', 'indices', 'file', 'id', 'model_name', 'patch_size', 'shape'])\n",
      "0370_resized\n",
      "Starting Training\n",
      "epoch: 00, loss: -0.86842\n",
      "epoch: 01, loss: -0.92274\n",
      "epoch: 02, loss: -0.93642\n",
      "epoch: 03, loss: -0.94404\n",
      "epoch: 04, loss: -0.94911\n",
      "epoch: 05, loss: -0.95280\n",
      "epoch: 06, loss: -0.95562\n",
      "epoch: 07, loss: -0.95793\n",
      "epoch: 08, loss: -0.95984\n",
      "epoch: 09, loss: -0.96137\n",
      "torch.Size([1024, 64])\n"
     ]
    },
    {
     "name": "stderr",
     "output_type": "stream",
     "text": [
      " 37%|███▋      | 369/999 [5:03:52<8:45:10, 50.02s/it]"
     ]
    },
    {
     "name": "stdout",
     "output_type": "stream",
     "text": [
      "eigenvalues shape torch.Size([5]) eigenvectors shape torch.Size([5, 1024])\n",
      "369 /home/phdcs2/Hard_Disk/Datasets/Deep-Spectral-Segmentation/data/object-segmentation/ECSSD/features/0371_resized.pth\n",
      "dict_keys(['k', 'indices', 'file', 'id', 'model_name', 'patch_size', 'shape'])\n",
      "0371_resized\n",
      "Starting Training\n",
      "epoch: 00, loss: -0.91401\n",
      "epoch: 01, loss: -0.94590\n",
      "epoch: 02, loss: -0.95359\n",
      "epoch: 03, loss: -0.95813\n",
      "epoch: 04, loss: -0.96126\n",
      "epoch: 05, loss: -0.96370\n",
      "epoch: 06, loss: -0.96557\n",
      "epoch: 07, loss: -0.96715\n",
      "epoch: 08, loss: -0.96843\n",
      "epoch: 09, loss: -0.96958\n",
      "torch.Size([1024, 64])\n"
     ]
    },
    {
     "name": "stderr",
     "output_type": "stream",
     "text": [
      " 37%|███▋      | 370/999 [5:04:35<8:24:23, 48.11s/it]"
     ]
    },
    {
     "name": "stdout",
     "output_type": "stream",
     "text": [
      "eigenvalues shape torch.Size([5]) eigenvectors shape torch.Size([5, 1024])\n",
      "370 /home/phdcs2/Hard_Disk/Datasets/Deep-Spectral-Segmentation/data/object-segmentation/ECSSD/features/0372_resized.pth\n",
      "dict_keys(['k', 'indices', 'file', 'id', 'model_name', 'patch_size', 'shape'])\n",
      "0372_resized\n",
      "Starting Training\n",
      "epoch: 00, loss: -0.91942\n",
      "epoch: 01, loss: -0.94953\n",
      "epoch: 02, loss: -0.95687\n",
      "epoch: 03, loss: -0.96121\n",
      "epoch: 04, loss: -0.96420\n",
      "epoch: 05, loss: -0.96639\n",
      "epoch: 06, loss: -0.96816\n",
      "epoch: 07, loss: -0.96962\n",
      "epoch: 08, loss: -0.97079\n",
      "epoch: 09, loss: -0.97183\n",
      "torch.Size([1024, 64])\n"
     ]
    },
    {
     "name": "stderr",
     "output_type": "stream",
     "text": [
      " 37%|███▋      | 371/999 [5:05:33<8:53:12, 50.94s/it]"
     ]
    },
    {
     "name": "stdout",
     "output_type": "stream",
     "text": [
      "eigenvalues shape torch.Size([5]) eigenvectors shape torch.Size([5, 1024])\n",
      "371 /home/phdcs2/Hard_Disk/Datasets/Deep-Spectral-Segmentation/data/object-segmentation/ECSSD/features/0373_resized.pth\n",
      "dict_keys(['k', 'indices', 'file', 'id', 'model_name', 'patch_size', 'shape'])\n",
      "0373_resized\n",
      "Starting Training\n",
      "epoch: 00, loss: -0.91193\n",
      "epoch: 01, loss: -0.94594\n",
      "epoch: 02, loss: -0.95438\n",
      "epoch: 03, loss: -0.95938\n",
      "epoch: 04, loss: -0.96272\n",
      "epoch: 05, loss: -0.96530\n",
      "epoch: 06, loss: -0.96719\n",
      "epoch: 07, loss: -0.96884\n",
      "epoch: 08, loss: -0.97016\n",
      "epoch: 09, loss: -0.97131\n",
      "torch.Size([1024, 64])\n"
     ]
    },
    {
     "name": "stderr",
     "output_type": "stream",
     "text": [
      " 37%|███▋      | 372/999 [5:06:24<8:54:14, 51.12s/it]"
     ]
    },
    {
     "name": "stdout",
     "output_type": "stream",
     "text": [
      "eigenvalues shape torch.Size([5]) eigenvectors shape torch.Size([5, 1024])\n",
      "372 /home/phdcs2/Hard_Disk/Datasets/Deep-Spectral-Segmentation/data/object-segmentation/ECSSD/features/0374_resized.pth\n",
      "dict_keys(['k', 'indices', 'file', 'id', 'model_name', 'patch_size', 'shape'])\n",
      "0374_resized\n",
      "Starting Training\n",
      "epoch: 00, loss: -0.92994\n",
      "epoch: 01, loss: -0.95648\n",
      "epoch: 02, loss: -0.96302\n",
      "epoch: 03, loss: -0.96680\n",
      "epoch: 04, loss: -0.96942\n",
      "epoch: 05, loss: -0.97145\n",
      "epoch: 06, loss: -0.97301\n",
      "epoch: 07, loss: -0.97429\n",
      "epoch: 08, loss: -0.97536\n",
      "epoch: 09, loss: -0.97626\n",
      "torch.Size([1024, 64])\n"
     ]
    },
    {
     "name": "stderr",
     "output_type": "stream",
     "text": [
      " 37%|███▋      | 373/999 [5:07:16<8:56:05, 51.38s/it]"
     ]
    },
    {
     "name": "stdout",
     "output_type": "stream",
     "text": [
      "eigenvalues shape torch.Size([5]) eigenvectors shape torch.Size([5, 1024])\n",
      "373 /home/phdcs2/Hard_Disk/Datasets/Deep-Spectral-Segmentation/data/object-segmentation/ECSSD/features/0375_resized.pth\n",
      "dict_keys(['k', 'indices', 'file', 'id', 'model_name', 'patch_size', 'shape'])\n",
      "0375_resized\n",
      "Starting Training\n",
      "epoch: 00, loss: -0.89022\n",
      "epoch: 01, loss: -0.93349\n",
      "epoch: 02, loss: -0.94438\n",
      "epoch: 03, loss: -0.95060\n",
      "epoch: 04, loss: -0.95469\n",
      "epoch: 05, loss: -0.95766\n",
      "epoch: 06, loss: -0.96005\n",
      "epoch: 07, loss: -0.96187\n",
      "epoch: 08, loss: -0.96346\n",
      "epoch: 09, loss: -0.96485\n",
      "torch.Size([1024, 64])\n"
     ]
    },
    {
     "name": "stderr",
     "output_type": "stream",
     "text": [
      " 37%|███▋      | 374/999 [5:08:03<8:41:26, 50.06s/it]"
     ]
    },
    {
     "name": "stdout",
     "output_type": "stream",
     "text": [
      "eigenvalues shape torch.Size([5]) eigenvectors shape torch.Size([5, 1024])\n",
      "374 /home/phdcs2/Hard_Disk/Datasets/Deep-Spectral-Segmentation/data/object-segmentation/ECSSD/features/0376_resized.pth\n",
      "dict_keys(['k', 'indices', 'file', 'id', 'model_name', 'patch_size', 'shape'])\n",
      "0376_resized\n",
      "Starting Training\n",
      "epoch: 00, loss: -0.92233\n",
      "epoch: 01, loss: -0.95761\n",
      "epoch: 02, loss: -0.96450\n",
      "epoch: 03, loss: -0.96846\n",
      "epoch: 04, loss: -0.97113\n",
      "epoch: 05, loss: -0.97315\n",
      "epoch: 06, loss: -0.97470\n",
      "epoch: 07, loss: -0.97596\n",
      "epoch: 08, loss: -0.97703\n",
      "epoch: 09, loss: -0.97793\n",
      "torch.Size([1024, 64])\n"
     ]
    },
    {
     "name": "stderr",
     "output_type": "stream",
     "text": [
      " 38%|███▊      | 375/999 [5:08:44<8:12:33, 47.36s/it]"
     ]
    },
    {
     "name": "stdout",
     "output_type": "stream",
     "text": [
      "eigenvalues shape torch.Size([5]) eigenvectors shape torch.Size([5, 1024])\n",
      "375 /home/phdcs2/Hard_Disk/Datasets/Deep-Spectral-Segmentation/data/object-segmentation/ECSSD/features/0377_resized.pth\n",
      "dict_keys(['k', 'indices', 'file', 'id', 'model_name', 'patch_size', 'shape'])\n",
      "0377_resized\n",
      "Starting Training\n",
      "epoch: 00, loss: -0.92345\n",
      "epoch: 01, loss: -0.95363\n",
      "epoch: 02, loss: -0.96073\n",
      "epoch: 03, loss: -0.96483\n",
      "epoch: 04, loss: -0.96763\n",
      "epoch: 05, loss: -0.96970\n",
      "epoch: 06, loss: -0.97134\n",
      "epoch: 07, loss: -0.97266\n",
      "epoch: 08, loss: -0.97379\n",
      "epoch: 09, loss: -0.97473\n",
      "torch.Size([1024, 64])\n"
     ]
    },
    {
     "name": "stderr",
     "output_type": "stream",
     "text": [
      " 38%|███▊      | 376/999 [5:09:39<8:35:01, 49.60s/it]"
     ]
    },
    {
     "name": "stdout",
     "output_type": "stream",
     "text": [
      "eigenvalues shape torch.Size([5]) eigenvectors shape torch.Size([5, 1024])\n",
      "376 /home/phdcs2/Hard_Disk/Datasets/Deep-Spectral-Segmentation/data/object-segmentation/ECSSD/features/0378_resized.pth\n",
      "dict_keys(['k', 'indices', 'file', 'id', 'model_name', 'patch_size', 'shape'])\n",
      "0378_resized\n",
      "Starting Training\n",
      "epoch: 00, loss: -0.89290\n",
      "epoch: 01, loss: -0.93738\n",
      "epoch: 02, loss: -0.94744\n",
      "epoch: 03, loss: -0.95317\n",
      "epoch: 04, loss: -0.95718\n",
      "epoch: 05, loss: -0.95997\n",
      "epoch: 06, loss: -0.96218\n",
      "epoch: 07, loss: -0.96394\n",
      "epoch: 08, loss: -0.96548\n",
      "epoch: 09, loss: -0.96661\n",
      "torch.Size([1024, 64])\n"
     ]
    },
    {
     "name": "stderr",
     "output_type": "stream",
     "text": [
      " 38%|███▊      | 377/999 [5:10:26<8:25:50, 48.80s/it]"
     ]
    },
    {
     "name": "stdout",
     "output_type": "stream",
     "text": [
      "eigenvalues shape torch.Size([5]) eigenvectors shape torch.Size([5, 1024])\n",
      "377 /home/phdcs2/Hard_Disk/Datasets/Deep-Spectral-Segmentation/data/object-segmentation/ECSSD/features/0379_resized.pth\n",
      "dict_keys(['k', 'indices', 'file', 'id', 'model_name', 'patch_size', 'shape'])\n",
      "0379_resized\n",
      "Starting Training\n",
      "epoch: 00, loss: -0.93144\n",
      "epoch: 01, loss: -0.95811\n",
      "epoch: 02, loss: -0.96454\n",
      "epoch: 03, loss: -0.96829\n",
      "epoch: 04, loss: -0.97090\n",
      "epoch: 05, loss: -0.97284\n",
      "epoch: 06, loss: -0.97438\n",
      "epoch: 07, loss: -0.97560\n",
      "epoch: 08, loss: -0.97665\n",
      "epoch: 09, loss: -0.97755\n",
      "torch.Size([1024, 64])\n"
     ]
    },
    {
     "name": "stderr",
     "output_type": "stream",
     "text": [
      " 38%|███▊      | 378/999 [5:11:21<8:43:43, 50.60s/it]"
     ]
    },
    {
     "name": "stdout",
     "output_type": "stream",
     "text": [
      "eigenvalues shape torch.Size([5]) eigenvectors shape torch.Size([5, 1024])\n",
      "378 /home/phdcs2/Hard_Disk/Datasets/Deep-Spectral-Segmentation/data/object-segmentation/ECSSD/features/0380_resized.pth\n",
      "dict_keys(['k', 'indices', 'file', 'id', 'model_name', 'patch_size', 'shape'])\n",
      "0380_resized\n",
      "Starting Training\n",
      "epoch: 00, loss: -0.89794\n",
      "epoch: 01, loss: -0.93924\n",
      "epoch: 02, loss: -0.94983\n",
      "epoch: 03, loss: -0.95547\n",
      "epoch: 04, loss: -0.95953\n",
      "epoch: 05, loss: -0.96254\n",
      "epoch: 06, loss: -0.96493\n",
      "epoch: 07, loss: -0.96673\n",
      "epoch: 08, loss: -0.96823\n",
      "epoch: 09, loss: -0.96954\n",
      "torch.Size([1024, 64])\n"
     ]
    },
    {
     "name": "stderr",
     "output_type": "stream",
     "text": [
      " 38%|███▊      | 379/999 [5:12:11<8:39:21, 50.26s/it]"
     ]
    },
    {
     "name": "stdout",
     "output_type": "stream",
     "text": [
      "eigenvalues shape torch.Size([5]) eigenvectors shape torch.Size([5, 1024])\n",
      "379 /home/phdcs2/Hard_Disk/Datasets/Deep-Spectral-Segmentation/data/object-segmentation/ECSSD/features/0381_resized.pth\n",
      "dict_keys(['k', 'indices', 'file', 'id', 'model_name', 'patch_size', 'shape'])\n",
      "0381_resized\n",
      "Starting Training\n",
      "epoch: 00, loss: -0.92679\n",
      "epoch: 01, loss: -0.95616\n",
      "epoch: 02, loss: -0.96277\n",
      "epoch: 03, loss: -0.96665\n",
      "epoch: 04, loss: -0.96930\n",
      "epoch: 05, loss: -0.97128\n",
      "epoch: 06, loss: -0.97285\n",
      "epoch: 07, loss: -0.97412\n",
      "epoch: 08, loss: -0.97519\n",
      "epoch: 09, loss: -0.97610\n",
      "torch.Size([1024, 64])\n"
     ]
    },
    {
     "name": "stderr",
     "output_type": "stream",
     "text": [
      " 38%|███▊      | 380/999 [5:12:55<8:20:05, 48.47s/it]"
     ]
    },
    {
     "name": "stdout",
     "output_type": "stream",
     "text": [
      "eigenvalues shape torch.Size([5]) eigenvectors shape torch.Size([5, 1024])\n",
      "380 /home/phdcs2/Hard_Disk/Datasets/Deep-Spectral-Segmentation/data/object-segmentation/ECSSD/features/0382_resized.pth\n",
      "dict_keys(['k', 'indices', 'file', 'id', 'model_name', 'patch_size', 'shape'])\n",
      "0382_resized\n",
      "Starting Training\n",
      "epoch: 00, loss: -0.87972\n",
      "epoch: 01, loss: -0.92949\n",
      "epoch: 02, loss: -0.94113\n",
      "epoch: 03, loss: -0.94761\n",
      "epoch: 04, loss: -0.95213\n",
      "epoch: 05, loss: -0.95537\n",
      "epoch: 06, loss: -0.95806\n",
      "epoch: 07, loss: -0.96004\n",
      "epoch: 08, loss: -0.96170\n",
      "epoch: 09, loss: -0.96308\n",
      "torch.Size([1024, 64])\n"
     ]
    },
    {
     "name": "stderr",
     "output_type": "stream",
     "text": [
      " 38%|███▊      | 381/999 [5:13:43<8:19:01, 48.45s/it]"
     ]
    },
    {
     "name": "stdout",
     "output_type": "stream",
     "text": [
      "eigenvalues shape torch.Size([5]) eigenvectors shape torch.Size([5, 1024])\n",
      "381 /home/phdcs2/Hard_Disk/Datasets/Deep-Spectral-Segmentation/data/object-segmentation/ECSSD/features/0383_resized.pth\n",
      "dict_keys(['k', 'indices', 'file', 'id', 'model_name', 'patch_size', 'shape'])\n",
      "0383_resized\n",
      "Starting Training\n",
      "epoch: 00, loss: -0.86798\n",
      "epoch: 01, loss: -0.92176\n",
      "epoch: 02, loss: -0.93539\n",
      "epoch: 03, loss: -0.94310\n",
      "epoch: 04, loss: -0.94820\n",
      "epoch: 05, loss: -0.95191\n",
      "epoch: 06, loss: -0.95466\n",
      "epoch: 07, loss: -0.95697\n",
      "epoch: 08, loss: -0.95890\n",
      "epoch: 09, loss: -0.96048\n",
      "torch.Size([1024, 64])\n"
     ]
    },
    {
     "name": "stderr",
     "output_type": "stream",
     "text": [
      " 38%|███▊      | 382/999 [5:14:35<8:27:13, 49.33s/it]"
     ]
    },
    {
     "name": "stdout",
     "output_type": "stream",
     "text": [
      "eigenvalues shape torch.Size([5]) eigenvectors shape torch.Size([5, 1024])\n",
      "382 /home/phdcs2/Hard_Disk/Datasets/Deep-Spectral-Segmentation/data/object-segmentation/ECSSD/features/0384_resized.pth\n",
      "dict_keys(['k', 'indices', 'file', 'id', 'model_name', 'patch_size', 'shape'])\n",
      "0384_resized\n",
      "Starting Training\n",
      "epoch: 00, loss: -0.94185\n",
      "epoch: 01, loss: -0.96296\n",
      "epoch: 02, loss: -0.96816\n",
      "epoch: 03, loss: -0.97126\n",
      "epoch: 04, loss: -0.97340\n",
      "epoch: 05, loss: -0.97499\n",
      "epoch: 06, loss: -0.97625\n",
      "epoch: 07, loss: -0.97728\n",
      "epoch: 08, loss: -0.97817\n",
      "epoch: 09, loss: -0.97891\n",
      "torch.Size([1024, 64])\n"
     ]
    },
    {
     "name": "stderr",
     "output_type": "stream",
     "text": [
      " 38%|███▊      | 383/999 [5:15:20<8:13:44, 48.09s/it]"
     ]
    },
    {
     "name": "stdout",
     "output_type": "stream",
     "text": [
      "eigenvalues shape torch.Size([5]) eigenvectors shape torch.Size([5, 1024])\n",
      "383 /home/phdcs2/Hard_Disk/Datasets/Deep-Spectral-Segmentation/data/object-segmentation/ECSSD/features/0385_resized.pth\n",
      "dict_keys(['k', 'indices', 'file', 'id', 'model_name', 'patch_size', 'shape'])\n",
      "0385_resized\n",
      "Starting Training\n",
      "epoch: 00, loss: -0.86188\n",
      "epoch: 01, loss: -0.91610\n",
      "epoch: 02, loss: -0.93143\n",
      "epoch: 03, loss: -0.94017\n",
      "epoch: 04, loss: -0.94582\n",
      "epoch: 05, loss: -0.95009\n",
      "epoch: 06, loss: -0.95332\n",
      "epoch: 07, loss: -0.95595\n",
      "epoch: 08, loss: -0.95812\n",
      "epoch: 09, loss: -0.96002\n",
      "torch.Size([1024, 64])\n"
     ]
    },
    {
     "name": "stderr",
     "output_type": "stream",
     "text": [
      " 38%|███▊      | 384/999 [5:16:05<8:04:25, 47.26s/it]"
     ]
    },
    {
     "name": "stdout",
     "output_type": "stream",
     "text": [
      "eigenvalues shape torch.Size([5]) eigenvectors shape torch.Size([5, 1024])\n",
      "384 /home/phdcs2/Hard_Disk/Datasets/Deep-Spectral-Segmentation/data/object-segmentation/ECSSD/features/0386_resized.pth\n",
      "dict_keys(['k', 'indices', 'file', 'id', 'model_name', 'patch_size', 'shape'])\n",
      "0386_resized\n",
      "Starting Training\n",
      "epoch: 00, loss: -0.87587\n",
      "epoch: 01, loss: -0.92404\n",
      "epoch: 02, loss: -0.93647\n",
      "epoch: 03, loss: -0.94361\n",
      "epoch: 04, loss: -0.94853\n",
      "epoch: 05, loss: -0.95198\n",
      "epoch: 06, loss: -0.95474\n",
      "epoch: 07, loss: -0.95706\n",
      "epoch: 08, loss: -0.95895\n",
      "epoch: 09, loss: -0.96055\n",
      "torch.Size([1024, 64])\n"
     ]
    },
    {
     "name": "stderr",
     "output_type": "stream",
     "text": [
      " 39%|███▊      | 385/999 [5:16:57<8:16:59, 48.57s/it]"
     ]
    },
    {
     "name": "stdout",
     "output_type": "stream",
     "text": [
      "eigenvalues shape torch.Size([5]) eigenvectors shape torch.Size([5, 1024])\n",
      "385 /home/phdcs2/Hard_Disk/Datasets/Deep-Spectral-Segmentation/data/object-segmentation/ECSSD/features/0387_resized.pth\n",
      "dict_keys(['k', 'indices', 'file', 'id', 'model_name', 'patch_size', 'shape'])\n",
      "0387_resized\n",
      "Starting Training\n",
      "epoch: 00, loss: -0.91393\n",
      "epoch: 01, loss: -0.94795\n",
      "epoch: 02, loss: -0.95583\n",
      "epoch: 03, loss: -0.96040\n",
      "epoch: 04, loss: -0.96354\n",
      "epoch: 05, loss: -0.96585\n",
      "epoch: 06, loss: -0.96767\n",
      "epoch: 07, loss: -0.96915\n",
      "epoch: 08, loss: -0.97041\n",
      "epoch: 09, loss: -0.97149\n",
      "torch.Size([1024, 64])\n"
     ]
    },
    {
     "name": "stderr",
     "output_type": "stream",
     "text": [
      " 39%|███▊      | 386/999 [5:17:42<8:06:32, 47.62s/it]"
     ]
    },
    {
     "name": "stdout",
     "output_type": "stream",
     "text": [
      "eigenvalues shape torch.Size([5]) eigenvectors shape torch.Size([5, 1024])\n",
      "386 /home/phdcs2/Hard_Disk/Datasets/Deep-Spectral-Segmentation/data/object-segmentation/ECSSD/features/0388_resized.pth\n",
      "dict_keys(['k', 'indices', 'file', 'id', 'model_name', 'patch_size', 'shape'])\n",
      "0388_resized\n",
      "Starting Training\n",
      "epoch: 00, loss: -0.91927\n",
      "epoch: 01, loss: -0.95370\n",
      "epoch: 02, loss: -0.96119\n",
      "epoch: 03, loss: -0.96549\n",
      "epoch: 04, loss: -0.96841\n",
      "epoch: 05, loss: -0.97058\n",
      "epoch: 06, loss: -0.97227\n",
      "epoch: 07, loss: -0.97366\n",
      "epoch: 08, loss: -0.97478\n",
      "epoch: 09, loss: -0.97577\n",
      "torch.Size([1024, 64])\n"
     ]
    },
    {
     "name": "stderr",
     "output_type": "stream",
     "text": [
      " 39%|███▊      | 387/999 [5:18:28<7:59:12, 46.98s/it]"
     ]
    },
    {
     "name": "stdout",
     "output_type": "stream",
     "text": [
      "eigenvalues shape torch.Size([5]) eigenvectors shape torch.Size([5, 1024])\n",
      "387 /home/phdcs2/Hard_Disk/Datasets/Deep-Spectral-Segmentation/data/object-segmentation/ECSSD/features/0389_resized.pth\n",
      "dict_keys(['k', 'indices', 'file', 'id', 'model_name', 'patch_size', 'shape'])\n",
      "0389_resized\n",
      "Starting Training\n",
      "epoch: 00, loss: -0.88037\n",
      "epoch: 01, loss: -0.92950\n",
      "epoch: 02, loss: -0.94207\n",
      "epoch: 03, loss: -0.94917\n",
      "epoch: 04, loss: -0.95390\n",
      "epoch: 05, loss: -0.95732\n",
      "epoch: 06, loss: -0.96020\n",
      "epoch: 07, loss: -0.96224\n",
      "epoch: 08, loss: -0.96411\n",
      "epoch: 09, loss: -0.96563\n",
      "torch.Size([1024, 64])\n"
     ]
    },
    {
     "name": "stderr",
     "output_type": "stream",
     "text": [
      " 39%|███▉      | 388/999 [5:19:18<8:10:01, 48.12s/it]"
     ]
    },
    {
     "name": "stdout",
     "output_type": "stream",
     "text": [
      "eigenvalues shape torch.Size([5]) eigenvectors shape torch.Size([5, 1024])\n",
      "388 /home/phdcs2/Hard_Disk/Datasets/Deep-Spectral-Segmentation/data/object-segmentation/ECSSD/features/0390_resized.pth\n",
      "dict_keys(['k', 'indices', 'file', 'id', 'model_name', 'patch_size', 'shape'])\n",
      "0390_resized\n",
      "Starting Training\n",
      "epoch: 00, loss: -0.92436\n",
      "epoch: 01, loss: -0.95426\n",
      "epoch: 02, loss: -0.96111\n",
      "epoch: 03, loss: -0.96513\n",
      "epoch: 04, loss: -0.96791\n",
      "epoch: 05, loss: -0.96994\n",
      "epoch: 06, loss: -0.97153\n",
      "epoch: 07, loss: -0.97282\n",
      "epoch: 08, loss: -0.97394\n",
      "epoch: 09, loss: -0.97484\n",
      "torch.Size([1024, 64])\n"
     ]
    },
    {
     "name": "stderr",
     "output_type": "stream",
     "text": [
      " 39%|███▉      | 389/999 [5:20:01<7:51:07, 46.34s/it]"
     ]
    },
    {
     "name": "stdout",
     "output_type": "stream",
     "text": [
      "eigenvalues shape torch.Size([5]) eigenvectors shape torch.Size([5, 1024])\n",
      "389 /home/phdcs2/Hard_Disk/Datasets/Deep-Spectral-Segmentation/data/object-segmentation/ECSSD/features/0391_resized.pth\n",
      "dict_keys(['k', 'indices', 'file', 'id', 'model_name', 'patch_size', 'shape'])\n",
      "0391_resized\n",
      "Starting Training\n",
      "epoch: 00, loss: -0.91195\n",
      "epoch: 01, loss: -0.94740\n",
      "epoch: 02, loss: -0.95568\n",
      "epoch: 03, loss: -0.96052\n",
      "epoch: 04, loss: -0.96374\n",
      "epoch: 05, loss: -0.96615\n",
      "epoch: 06, loss: -0.96807\n",
      "epoch: 07, loss: -0.96964\n",
      "epoch: 08, loss: -0.97093\n",
      "epoch: 09, loss: -0.97204\n",
      "torch.Size([1024, 64])\n"
     ]
    },
    {
     "name": "stderr",
     "output_type": "stream",
     "text": [
      " 39%|███▉      | 390/999 [5:20:55<8:15:26, 48.81s/it]"
     ]
    },
    {
     "name": "stdout",
     "output_type": "stream",
     "text": [
      "eigenvalues shape torch.Size([5]) eigenvectors shape torch.Size([5, 1024])\n",
      "390 /home/phdcs2/Hard_Disk/Datasets/Deep-Spectral-Segmentation/data/object-segmentation/ECSSD/features/0392_resized.pth\n",
      "dict_keys(['k', 'indices', 'file', 'id', 'model_name', 'patch_size', 'shape'])\n",
      "0392_resized\n",
      "Starting Training\n",
      "epoch: 00, loss: -0.90514\n",
      "epoch: 01, loss: -0.94357\n",
      "epoch: 02, loss: -0.95280\n",
      "epoch: 03, loss: -0.95808\n",
      "epoch: 04, loss: -0.96166\n",
      "epoch: 05, loss: -0.96437\n",
      "epoch: 06, loss: -0.96638\n",
      "epoch: 07, loss: -0.96806\n",
      "epoch: 08, loss: -0.96950\n",
      "epoch: 09, loss: -0.97064\n",
      "torch.Size([1024, 64])\n"
     ]
    },
    {
     "name": "stderr",
     "output_type": "stream",
     "text": [
      " 39%|███▉      | 391/999 [5:21:48<8:27:03, 50.04s/it]"
     ]
    },
    {
     "name": "stdout",
     "output_type": "stream",
     "text": [
      "eigenvalues shape torch.Size([5]) eigenvectors shape torch.Size([5, 1024])\n",
      "391 /home/phdcs2/Hard_Disk/Datasets/Deep-Spectral-Segmentation/data/object-segmentation/ECSSD/features/0393_resized.pth\n",
      "dict_keys(['k', 'indices', 'file', 'id', 'model_name', 'patch_size', 'shape'])\n",
      "0393_resized\n",
      "Starting Training\n",
      "epoch: 00, loss: -0.89889\n",
      "epoch: 01, loss: -0.94102\n",
      "epoch: 02, loss: -0.95077\n",
      "epoch: 03, loss: -0.95640\n",
      "epoch: 04, loss: -0.96005\n",
      "epoch: 05, loss: -0.96287\n",
      "epoch: 06, loss: -0.96493\n",
      "epoch: 07, loss: -0.96661\n",
      "epoch: 08, loss: -0.96806\n",
      "epoch: 09, loss: -0.96933\n",
      "torch.Size([1024, 64])\n"
     ]
    },
    {
     "name": "stderr",
     "output_type": "stream",
     "text": [
      " 39%|███▉      | 392/999 [5:22:41<8:33:42, 50.78s/it]"
     ]
    },
    {
     "name": "stdout",
     "output_type": "stream",
     "text": [
      "eigenvalues shape torch.Size([5]) eigenvectors shape torch.Size([5, 1024])\n",
      "392 /home/phdcs2/Hard_Disk/Datasets/Deep-Spectral-Segmentation/data/object-segmentation/ECSSD/features/0394_resized.pth\n",
      "dict_keys(['k', 'indices', 'file', 'id', 'model_name', 'patch_size', 'shape'])\n",
      "0394_resized\n",
      "Starting Training\n",
      "epoch: 00, loss: -0.91455\n",
      "epoch: 01, loss: -0.94705\n",
      "epoch: 02, loss: -0.95538\n",
      "epoch: 03, loss: -0.96020\n",
      "epoch: 04, loss: -0.96351\n",
      "epoch: 05, loss: -0.96597\n",
      "epoch: 06, loss: -0.96790\n",
      "epoch: 07, loss: -0.96946\n",
      "epoch: 08, loss: -0.97077\n",
      "epoch: 09, loss: -0.97188\n",
      "torch.Size([1024, 64])\n"
     ]
    },
    {
     "name": "stderr",
     "output_type": "stream",
     "text": [
      " 39%|███▉      | 393/999 [5:23:27<8:20:29, 49.55s/it]"
     ]
    },
    {
     "name": "stdout",
     "output_type": "stream",
     "text": [
      "eigenvalues shape torch.Size([5]) eigenvectors shape torch.Size([5, 1024])\n",
      "393 /home/phdcs2/Hard_Disk/Datasets/Deep-Spectral-Segmentation/data/object-segmentation/ECSSD/features/0395_resized.pth\n",
      "dict_keys(['k', 'indices', 'file', 'id', 'model_name', 'patch_size', 'shape'])\n",
      "0395_resized\n",
      "Starting Training\n",
      "epoch: 00, loss: -0.90038\n",
      "epoch: 01, loss: -0.93555\n",
      "epoch: 02, loss: -0.94541\n",
      "epoch: 03, loss: -0.95102\n",
      "epoch: 04, loss: -0.95500\n",
      "epoch: 05, loss: -0.95801\n",
      "epoch: 06, loss: -0.96034\n",
      "epoch: 07, loss: -0.96229\n",
      "epoch: 08, loss: -0.96387\n",
      "epoch: 09, loss: -0.96524\n",
      "torch.Size([1024, 64])\n"
     ]
    },
    {
     "name": "stderr",
     "output_type": "stream",
     "text": [
      " 39%|███▉      | 394/999 [5:24:14<8:09:43, 48.57s/it]"
     ]
    },
    {
     "name": "stdout",
     "output_type": "stream",
     "text": [
      "eigenvalues shape torch.Size([5]) eigenvectors shape torch.Size([5, 1024])\n",
      "394 /home/phdcs2/Hard_Disk/Datasets/Deep-Spectral-Segmentation/data/object-segmentation/ECSSD/features/0396_resized.pth\n",
      "dict_keys(['k', 'indices', 'file', 'id', 'model_name', 'patch_size', 'shape'])\n",
      "0396_resized\n",
      "Starting Training\n",
      "epoch: 00, loss: -0.93269\n",
      "epoch: 01, loss: -0.96368\n",
      "epoch: 02, loss: -0.96899\n",
      "epoch: 03, loss: -0.97208\n",
      "epoch: 04, loss: -0.97421\n",
      "epoch: 05, loss: -0.97579\n",
      "epoch: 06, loss: -0.97705\n",
      "epoch: 07, loss: -0.97807\n",
      "epoch: 08, loss: -0.97894\n",
      "epoch: 09, loss: -0.97966\n",
      "torch.Size([1024, 64])\n"
     ]
    },
    {
     "name": "stderr",
     "output_type": "stream",
     "text": [
      " 40%|███▉      | 395/999 [5:25:06<8:21:20, 49.80s/it]"
     ]
    },
    {
     "name": "stdout",
     "output_type": "stream",
     "text": [
      "eigenvalues shape torch.Size([5]) eigenvectors shape torch.Size([5, 1024])\n",
      "395 /home/phdcs2/Hard_Disk/Datasets/Deep-Spectral-Segmentation/data/object-segmentation/ECSSD/features/0397_resized.pth\n",
      "dict_keys(['k', 'indices', 'file', 'id', 'model_name', 'patch_size', 'shape'])\n",
      "0397_resized\n",
      "Starting Training\n",
      "epoch: 00, loss: -0.89885\n",
      "epoch: 01, loss: -0.94076\n",
      "epoch: 02, loss: -0.95075\n",
      "epoch: 03, loss: -0.95616\n",
      "epoch: 04, loss: -0.96001\n",
      "epoch: 05, loss: -0.96278\n",
      "epoch: 06, loss: -0.96489\n",
      "epoch: 07, loss: -0.96663\n",
      "epoch: 08, loss: -0.96809\n",
      "epoch: 09, loss: -0.96934\n",
      "torch.Size([1024, 64])\n"
     ]
    },
    {
     "name": "stderr",
     "output_type": "stream",
     "text": [
      " 40%|███▉      | 396/999 [5:25:52<8:07:22, 48.49s/it]"
     ]
    },
    {
     "name": "stdout",
     "output_type": "stream",
     "text": [
      "eigenvalues shape torch.Size([5]) eigenvectors shape torch.Size([5, 1024])\n",
      "396 /home/phdcs2/Hard_Disk/Datasets/Deep-Spectral-Segmentation/data/object-segmentation/ECSSD/features/0398_resized.pth\n",
      "dict_keys(['k', 'indices', 'file', 'id', 'model_name', 'patch_size', 'shape'])\n",
      "0398_resized\n",
      "Starting Training\n",
      "epoch: 00, loss: -0.92471\n",
      "epoch: 01, loss: -0.95566\n",
      "epoch: 02, loss: -0.96234\n",
      "epoch: 03, loss: -0.96625\n",
      "epoch: 04, loss: -0.96891\n",
      "epoch: 05, loss: -0.97092\n",
      "epoch: 06, loss: -0.97249\n",
      "epoch: 07, loss: -0.97377\n",
      "epoch: 08, loss: -0.97485\n",
      "epoch: 09, loss: -0.97578\n",
      "torch.Size([1024, 64])\n"
     ]
    },
    {
     "name": "stderr",
     "output_type": "stream",
     "text": [
      " 40%|███▉      | 397/999 [5:26:39<8:02:19, 48.07s/it]"
     ]
    },
    {
     "name": "stdout",
     "output_type": "stream",
     "text": [
      "eigenvalues shape torch.Size([5]) eigenvectors shape torch.Size([5, 1024])\n",
      "397 /home/phdcs2/Hard_Disk/Datasets/Deep-Spectral-Segmentation/data/object-segmentation/ECSSD/features/0399_resized.pth\n",
      "dict_keys(['k', 'indices', 'file', 'id', 'model_name', 'patch_size', 'shape'])\n",
      "0399_resized\n",
      "Starting Training\n",
      "epoch: 00, loss: -0.92818\n",
      "epoch: 01, loss: -0.95732\n",
      "epoch: 02, loss: -0.96367\n",
      "epoch: 03, loss: -0.96736\n",
      "epoch: 04, loss: -0.96986\n",
      "epoch: 05, loss: -0.97175\n",
      "epoch: 06, loss: -0.97323\n",
      "epoch: 07, loss: -0.97444\n",
      "epoch: 08, loss: -0.97547\n",
      "epoch: 09, loss: -0.97631\n",
      "torch.Size([1024, 64])\n"
     ]
    },
    {
     "name": "stderr",
     "output_type": "stream",
     "text": [
      " 40%|███▉      | 398/999 [5:27:28<8:05:45, 48.50s/it]"
     ]
    },
    {
     "name": "stdout",
     "output_type": "stream",
     "text": [
      "eigenvalues shape torch.Size([5]) eigenvectors shape torch.Size([5, 1024])\n",
      "398 /home/phdcs2/Hard_Disk/Datasets/Deep-Spectral-Segmentation/data/object-segmentation/ECSSD/features/0400_resized.pth\n",
      "dict_keys(['k', 'indices', 'file', 'id', 'model_name', 'patch_size', 'shape'])\n",
      "0400_resized\n",
      "Starting Training\n",
      "epoch: 00, loss: -0.90069\n",
      "epoch: 01, loss: -0.94113\n",
      "epoch: 02, loss: -0.95021\n",
      "epoch: 03, loss: -0.95532\n",
      "epoch: 04, loss: -0.95875\n",
      "epoch: 05, loss: -0.96120\n",
      "epoch: 06, loss: -0.96325\n",
      "epoch: 07, loss: -0.96491\n",
      "epoch: 08, loss: -0.96617\n",
      "epoch: 09, loss: -0.96731\n",
      "torch.Size([1024, 64])\n"
     ]
    },
    {
     "name": "stderr",
     "output_type": "stream",
     "text": [
      " 40%|███▉      | 399/999 [5:28:15<8:00:45, 48.08s/it]"
     ]
    },
    {
     "name": "stdout",
     "output_type": "stream",
     "text": [
      "eigenvalues shape torch.Size([5]) eigenvectors shape torch.Size([5, 1024])\n",
      "399 /home/phdcs2/Hard_Disk/Datasets/Deep-Spectral-Segmentation/data/object-segmentation/ECSSD/features/0401_resized.pth\n",
      "dict_keys(['k', 'indices', 'file', 'id', 'model_name', 'patch_size', 'shape'])\n",
      "0401_resized\n",
      "Starting Training\n",
      "epoch: 00, loss: -0.92451\n",
      "epoch: 01, loss: -0.95824\n",
      "epoch: 02, loss: -0.96477\n",
      "epoch: 03, loss: -0.96855\n",
      "epoch: 04, loss: -0.97107\n",
      "epoch: 05, loss: -0.97299\n",
      "epoch: 06, loss: -0.97446\n",
      "epoch: 07, loss: -0.97566\n",
      "epoch: 08, loss: -0.97664\n",
      "epoch: 09, loss: -0.97751\n",
      "torch.Size([1024, 64])\n"
     ]
    },
    {
     "name": "stderr",
     "output_type": "stream",
     "text": [
      " 40%|████      | 400/999 [5:28:59<7:46:57, 46.77s/it]"
     ]
    },
    {
     "name": "stdout",
     "output_type": "stream",
     "text": [
      "eigenvalues shape torch.Size([5]) eigenvectors shape torch.Size([5, 1024])\n",
      "400 /home/phdcs2/Hard_Disk/Datasets/Deep-Spectral-Segmentation/data/object-segmentation/ECSSD/features/0402_resized.pth\n",
      "dict_keys(['k', 'indices', 'file', 'id', 'model_name', 'patch_size', 'shape'])\n",
      "0402_resized\n",
      "Starting Training\n",
      "epoch: 00, loss: -0.93209\n",
      "epoch: 01, loss: -0.96194\n",
      "epoch: 02, loss: -0.96805\n",
      "epoch: 03, loss: -0.97151\n",
      "epoch: 04, loss: -0.97385\n",
      "epoch: 05, loss: -0.97557\n",
      "epoch: 06, loss: -0.97693\n",
      "epoch: 07, loss: -0.97804\n",
      "epoch: 08, loss: -0.97896\n",
      "epoch: 09, loss: -0.97976\n",
      "torch.Size([1024, 64])\n"
     ]
    },
    {
     "name": "stderr",
     "output_type": "stream",
     "text": [
      " 40%|████      | 401/999 [5:29:45<7:42:55, 46.45s/it]"
     ]
    },
    {
     "name": "stdout",
     "output_type": "stream",
     "text": [
      "eigenvalues shape torch.Size([5]) eigenvectors shape torch.Size([5, 1024])\n",
      "401 /home/phdcs2/Hard_Disk/Datasets/Deep-Spectral-Segmentation/data/object-segmentation/ECSSD/features/0403_resized.pth\n",
      "dict_keys(['k', 'indices', 'file', 'id', 'model_name', 'patch_size', 'shape'])\n",
      "0403_resized\n",
      "Starting Training\n",
      "epoch: 00, loss: -0.91737\n",
      "epoch: 01, loss: -0.95107\n",
      "epoch: 02, loss: -0.95893\n",
      "epoch: 03, loss: -0.96353\n",
      "epoch: 04, loss: -0.96657\n",
      "epoch: 05, loss: -0.96886\n",
      "epoch: 06, loss: -0.97064\n",
      "epoch: 07, loss: -0.97206\n",
      "epoch: 08, loss: -0.97328\n",
      "epoch: 09, loss: -0.97427\n",
      "torch.Size([1024, 64])\n"
     ]
    },
    {
     "name": "stderr",
     "output_type": "stream",
     "text": [
      " 40%|████      | 402/999 [5:30:33<7:48:47, 47.11s/it]"
     ]
    },
    {
     "name": "stdout",
     "output_type": "stream",
     "text": [
      "eigenvalues shape torch.Size([5]) eigenvectors shape torch.Size([5, 1024])\n",
      "402 /home/phdcs2/Hard_Disk/Datasets/Deep-Spectral-Segmentation/data/object-segmentation/ECSSD/features/0404_resized.pth\n",
      "dict_keys(['k', 'indices', 'file', 'id', 'model_name', 'patch_size', 'shape'])\n",
      "0404_resized\n",
      "Starting Training\n",
      "epoch: 00, loss: -0.89612\n",
      "epoch: 01, loss: -0.93731\n",
      "epoch: 02, loss: -0.94753\n",
      "epoch: 03, loss: -0.95328\n",
      "epoch: 04, loss: -0.95731\n",
      "epoch: 05, loss: -0.96028\n",
      "epoch: 06, loss: -0.96255\n",
      "epoch: 07, loss: -0.96448\n",
      "epoch: 08, loss: -0.96605\n",
      "epoch: 09, loss: -0.96730\n",
      "torch.Size([1024, 64])\n"
     ]
    },
    {
     "name": "stderr",
     "output_type": "stream",
     "text": [
      " 40%|████      | 403/999 [5:31:24<7:59:29, 48.27s/it]"
     ]
    },
    {
     "name": "stdout",
     "output_type": "stream",
     "text": [
      "eigenvalues shape torch.Size([5]) eigenvectors shape torch.Size([5, 1024])\n",
      "403 /home/phdcs2/Hard_Disk/Datasets/Deep-Spectral-Segmentation/data/object-segmentation/ECSSD/features/0405_resized.pth\n",
      "dict_keys(['k', 'indices', 'file', 'id', 'model_name', 'patch_size', 'shape'])\n",
      "0405_resized\n",
      "Starting Training\n",
      "epoch: 00, loss: -0.90594\n",
      "epoch: 01, loss: -0.94324\n",
      "epoch: 02, loss: -0.95267\n",
      "epoch: 03, loss: -0.95814\n",
      "epoch: 04, loss: -0.96178\n",
      "epoch: 05, loss: -0.96443\n",
      "epoch: 06, loss: -0.96653\n",
      "epoch: 07, loss: -0.96825\n",
      "epoch: 08, loss: -0.96963\n",
      "epoch: 09, loss: -0.97088\n",
      "torch.Size([1024, 64])\n"
     ]
    },
    {
     "name": "stderr",
     "output_type": "stream",
     "text": [
      " 40%|████      | 404/999 [5:32:16<8:09:57, 49.41s/it]"
     ]
    },
    {
     "name": "stdout",
     "output_type": "stream",
     "text": [
      "eigenvalues shape torch.Size([5]) eigenvectors shape torch.Size([5, 1024])\n",
      "404 /home/phdcs2/Hard_Disk/Datasets/Deep-Spectral-Segmentation/data/object-segmentation/ECSSD/features/0406_resized.pth\n",
      "dict_keys(['k', 'indices', 'file', 'id', 'model_name', 'patch_size', 'shape'])\n",
      "0406_resized\n",
      "Starting Training\n",
      "epoch: 00, loss: -0.92467\n",
      "epoch: 01, loss: -0.95534\n",
      "epoch: 02, loss: -0.96179\n",
      "epoch: 03, loss: -0.96554\n",
      "epoch: 04, loss: -0.96815\n",
      "epoch: 05, loss: -0.97007\n",
      "epoch: 06, loss: -0.97158\n",
      "epoch: 07, loss: -0.97281\n",
      "epoch: 08, loss: -0.97386\n",
      "epoch: 09, loss: -0.97475\n",
      "torch.Size([1024, 64])\n"
     ]
    },
    {
     "name": "stderr",
     "output_type": "stream",
     "text": [
      " 41%|████      | 405/999 [5:33:01<7:55:29, 48.03s/it]"
     ]
    },
    {
     "name": "stdout",
     "output_type": "stream",
     "text": [
      "eigenvalues shape torch.Size([5]) eigenvectors shape torch.Size([5, 1024])\n",
      "405 /home/phdcs2/Hard_Disk/Datasets/Deep-Spectral-Segmentation/data/object-segmentation/ECSSD/features/0407_resized.pth\n",
      "dict_keys(['k', 'indices', 'file', 'id', 'model_name', 'patch_size', 'shape'])\n",
      "0407_resized\n",
      "Starting Training\n",
      "epoch: 00, loss: -0.90856\n",
      "epoch: 01, loss: -0.94635\n",
      "epoch: 02, loss: -0.95464\n",
      "epoch: 03, loss: -0.95935\n",
      "epoch: 04, loss: -0.96261\n",
      "epoch: 05, loss: -0.96500\n",
      "epoch: 06, loss: -0.96687\n",
      "epoch: 07, loss: -0.96843\n",
      "epoch: 08, loss: -0.96969\n",
      "epoch: 09, loss: -0.97077\n",
      "torch.Size([1024, 64])\n"
     ]
    },
    {
     "name": "stderr",
     "output_type": "stream",
     "text": [
      " 41%|████      | 406/999 [5:33:55<8:11:10, 49.70s/it]"
     ]
    },
    {
     "name": "stdout",
     "output_type": "stream",
     "text": [
      "eigenvalues shape torch.Size([5]) eigenvectors shape torch.Size([5, 1024])\n",
      "406 /home/phdcs2/Hard_Disk/Datasets/Deep-Spectral-Segmentation/data/object-segmentation/ECSSD/features/0408_resized.pth\n",
      "dict_keys(['k', 'indices', 'file', 'id', 'model_name', 'patch_size', 'shape'])\n",
      "0408_resized\n",
      "Starting Training\n",
      "epoch: 00, loss: -0.87573\n",
      "epoch: 01, loss: -0.92501\n",
      "epoch: 02, loss: -0.93798\n",
      "epoch: 03, loss: -0.94562\n",
      "epoch: 04, loss: -0.95052\n",
      "epoch: 05, loss: -0.95423\n",
      "epoch: 06, loss: -0.95693\n",
      "epoch: 07, loss: -0.95936\n",
      "epoch: 08, loss: -0.96124\n",
      "epoch: 09, loss: -0.96288\n",
      "torch.Size([1024, 64])\n"
     ]
    },
    {
     "name": "stderr",
     "output_type": "stream",
     "text": [
      " 41%|████      | 407/999 [5:34:49<8:24:21, 51.12s/it]"
     ]
    },
    {
     "name": "stdout",
     "output_type": "stream",
     "text": [
      "eigenvalues shape torch.Size([5]) eigenvectors shape torch.Size([5, 1024])\n",
      "407 /home/phdcs2/Hard_Disk/Datasets/Deep-Spectral-Segmentation/data/object-segmentation/ECSSD/features/0409_resized.pth\n",
      "dict_keys(['k', 'indices', 'file', 'id', 'model_name', 'patch_size', 'shape'])\n",
      "0409_resized\n",
      "Starting Training\n",
      "epoch: 00, loss: -0.90367\n",
      "epoch: 01, loss: -0.94255\n",
      "epoch: 02, loss: -0.95208\n",
      "epoch: 03, loss: -0.95754\n",
      "epoch: 04, loss: -0.96129\n",
      "epoch: 05, loss: -0.96393\n",
      "epoch: 06, loss: -0.96606\n",
      "epoch: 07, loss: -0.96784\n",
      "epoch: 08, loss: -0.96914\n",
      "epoch: 09, loss: -0.97042\n",
      "torch.Size([1024, 64])\n"
     ]
    },
    {
     "name": "stderr",
     "output_type": "stream",
     "text": [
      " 41%|████      | 408/999 [5:35:39<8:19:50, 50.75s/it]"
     ]
    },
    {
     "name": "stdout",
     "output_type": "stream",
     "text": [
      "eigenvalues shape torch.Size([5]) eigenvectors shape torch.Size([5, 1024])\n",
      "408 /home/phdcs2/Hard_Disk/Datasets/Deep-Spectral-Segmentation/data/object-segmentation/ECSSD/features/0410_resized.pth\n",
      "dict_keys(['k', 'indices', 'file', 'id', 'model_name', 'patch_size', 'shape'])\n",
      "0410_resized\n",
      "Starting Training\n",
      "epoch: 00, loss: -0.90751\n",
      "epoch: 01, loss: -0.94365\n",
      "epoch: 02, loss: -0.95260\n",
      "epoch: 03, loss: -0.95775\n",
      "epoch: 04, loss: -0.96126\n",
      "epoch: 05, loss: -0.96392\n",
      "epoch: 06, loss: -0.96599\n",
      "epoch: 07, loss: -0.96770\n",
      "epoch: 08, loss: -0.96911\n",
      "epoch: 09, loss: -0.97032\n",
      "torch.Size([1024, 64])\n"
     ]
    },
    {
     "name": "stderr",
     "output_type": "stream",
     "text": [
      " 41%|████      | 409/999 [5:36:31<8:21:10, 50.97s/it]"
     ]
    },
    {
     "name": "stdout",
     "output_type": "stream",
     "text": [
      "eigenvalues shape torch.Size([5]) eigenvectors shape torch.Size([5, 1024])\n",
      "409 /home/phdcs2/Hard_Disk/Datasets/Deep-Spectral-Segmentation/data/object-segmentation/ECSSD/features/0411_resized.pth\n",
      "dict_keys(['k', 'indices', 'file', 'id', 'model_name', 'patch_size', 'shape'])\n",
      "0411_resized\n",
      "Starting Training\n",
      "epoch: 00, loss: -0.89123\n",
      "epoch: 01, loss: -0.93346\n",
      "epoch: 02, loss: -0.94438\n",
      "epoch: 03, loss: -0.95060\n",
      "epoch: 04, loss: -0.95495\n",
      "epoch: 05, loss: -0.95791\n",
      "epoch: 06, loss: -0.96038\n",
      "epoch: 07, loss: -0.96241\n",
      "epoch: 08, loss: -0.96415\n",
      "epoch: 09, loss: -0.96554\n",
      "torch.Size([1024, 64])\n"
     ]
    },
    {
     "name": "stderr",
     "output_type": "stream",
     "text": [
      " 41%|████      | 410/999 [5:37:21<8:17:32, 50.68s/it]"
     ]
    },
    {
     "name": "stdout",
     "output_type": "stream",
     "text": [
      "eigenvalues shape torch.Size([5]) eigenvectors shape torch.Size([5, 1024])\n",
      "410 /home/phdcs2/Hard_Disk/Datasets/Deep-Spectral-Segmentation/data/object-segmentation/ECSSD/features/0412_resized.pth\n",
      "dict_keys(['k', 'indices', 'file', 'id', 'model_name', 'patch_size', 'shape'])\n",
      "0412_resized\n",
      "Starting Training\n",
      "epoch: 00, loss: -0.91960\n",
      "epoch: 01, loss: -0.95356\n",
      "epoch: 02, loss: -0.96128\n",
      "epoch: 03, loss: -0.96565\n",
      "epoch: 04, loss: -0.96860\n",
      "epoch: 05, loss: -0.97077\n",
      "epoch: 06, loss: -0.97250\n",
      "epoch: 07, loss: -0.97387\n",
      "epoch: 08, loss: -0.97501\n",
      "epoch: 09, loss: -0.97595\n",
      "torch.Size([1024, 64])\n"
     ]
    },
    {
     "name": "stderr",
     "output_type": "stream",
     "text": [
      " 41%|████      | 411/999 [5:38:08<8:05:27, 49.54s/it]"
     ]
    },
    {
     "name": "stdout",
     "output_type": "stream",
     "text": [
      "eigenvalues shape torch.Size([5]) eigenvectors shape torch.Size([5, 1024])\n",
      "411 /home/phdcs2/Hard_Disk/Datasets/Deep-Spectral-Segmentation/data/object-segmentation/ECSSD/features/0413_resized.pth\n",
      "dict_keys(['k', 'indices', 'file', 'id', 'model_name', 'patch_size', 'shape'])\n",
      "0413_resized\n",
      "Starting Training\n",
      "epoch: 00, loss: -0.90677\n",
      "epoch: 01, loss: -0.94393\n",
      "epoch: 02, loss: -0.95298\n",
      "epoch: 03, loss: -0.95811\n",
      "epoch: 04, loss: -0.96175\n",
      "epoch: 05, loss: -0.96437\n",
      "epoch: 06, loss: -0.96637\n",
      "epoch: 07, loss: -0.96802\n",
      "epoch: 08, loss: -0.96936\n",
      "epoch: 09, loss: -0.97054\n",
      "torch.Size([1024, 64])\n"
     ]
    },
    {
     "name": "stderr",
     "output_type": "stream",
     "text": [
      " 41%|████      | 412/999 [5:38:57<8:04:50, 49.56s/it]"
     ]
    },
    {
     "name": "stdout",
     "output_type": "stream",
     "text": [
      "eigenvalues shape torch.Size([5]) eigenvectors shape torch.Size([5, 1024])\n",
      "412 /home/phdcs2/Hard_Disk/Datasets/Deep-Spectral-Segmentation/data/object-segmentation/ECSSD/features/0414_resized.pth\n",
      "dict_keys(['k', 'indices', 'file', 'id', 'model_name', 'patch_size', 'shape'])\n",
      "0414_resized\n",
      "Starting Training\n",
      "epoch: 00, loss: -0.87734\n",
      "epoch: 01, loss: -0.92560\n",
      "epoch: 02, loss: -0.93751\n",
      "epoch: 03, loss: -0.94446\n",
      "epoch: 04, loss: -0.94896\n",
      "epoch: 05, loss: -0.95236\n",
      "epoch: 06, loss: -0.95513\n",
      "epoch: 07, loss: -0.95728\n",
      "epoch: 08, loss: -0.95886\n",
      "epoch: 09, loss: -0.96031\n",
      "torch.Size([1024, 64])\n"
     ]
    },
    {
     "name": "stderr",
     "output_type": "stream",
     "text": [
      " 41%|████▏     | 413/999 [5:39:50<8:12:28, 50.42s/it]"
     ]
    },
    {
     "name": "stdout",
     "output_type": "stream",
     "text": [
      "eigenvalues shape torch.Size([5]) eigenvectors shape torch.Size([5, 1024])\n",
      "413 /home/phdcs2/Hard_Disk/Datasets/Deep-Spectral-Segmentation/data/object-segmentation/ECSSD/features/0415_resized.pth\n",
      "dict_keys(['k', 'indices', 'file', 'id', 'model_name', 'patch_size', 'shape'])\n",
      "0415_resized\n",
      "Starting Training\n",
      "epoch: 00, loss: -0.91575\n",
      "epoch: 01, loss: -0.95046\n",
      "epoch: 02, loss: -0.95829\n",
      "epoch: 03, loss: -0.96287\n",
      "epoch: 04, loss: -0.96600\n",
      "epoch: 05, loss: -0.96834\n",
      "epoch: 06, loss: -0.97015\n",
      "epoch: 07, loss: -0.97163\n",
      "epoch: 08, loss: -0.97288\n",
      "epoch: 09, loss: -0.97394\n",
      "torch.Size([1024, 64])\n"
     ]
    },
    {
     "name": "stderr",
     "output_type": "stream",
     "text": [
      " 41%|████▏     | 414/999 [5:40:38<8:04:26, 49.69s/it]"
     ]
    },
    {
     "name": "stdout",
     "output_type": "stream",
     "text": [
      "eigenvalues shape torch.Size([5]) eigenvectors shape torch.Size([5, 1024])\n",
      "414 /home/phdcs2/Hard_Disk/Datasets/Deep-Spectral-Segmentation/data/object-segmentation/ECSSD/features/0416_resized.pth\n",
      "dict_keys(['k', 'indices', 'file', 'id', 'model_name', 'patch_size', 'shape'])\n",
      "0416_resized\n",
      "Starting Training\n",
      "epoch: 00, loss: -0.86372\n",
      "epoch: 01, loss: -0.92188\n",
      "epoch: 02, loss: -0.93524\n",
      "epoch: 03, loss: -0.94317\n",
      "epoch: 04, loss: -0.94852\n",
      "epoch: 05, loss: -0.95232\n",
      "epoch: 06, loss: -0.95535\n",
      "epoch: 07, loss: -0.95758\n",
      "epoch: 08, loss: -0.95956\n",
      "epoch: 09, loss: -0.96109\n",
      "torch.Size([1024, 64])\n"
     ]
    },
    {
     "name": "stderr",
     "output_type": "stream",
     "text": [
      " 42%|████▏     | 415/999 [5:41:24<7:53:46, 48.68s/it]"
     ]
    },
    {
     "name": "stdout",
     "output_type": "stream",
     "text": [
      "eigenvalues shape torch.Size([5]) eigenvectors shape torch.Size([5, 1024])\n",
      "415 /home/phdcs2/Hard_Disk/Datasets/Deep-Spectral-Segmentation/data/object-segmentation/ECSSD/features/0417_resized.pth\n",
      "dict_keys(['k', 'indices', 'file', 'id', 'model_name', 'patch_size', 'shape'])\n",
      "0417_resized\n",
      "Starting Training\n",
      "epoch: 00, loss: -0.90905\n",
      "epoch: 01, loss: -0.94666\n",
      "epoch: 02, loss: -0.95525\n",
      "epoch: 03, loss: -0.95998\n",
      "epoch: 04, loss: -0.96324\n",
      "epoch: 05, loss: -0.96570\n",
      "epoch: 06, loss: -0.96757\n",
      "epoch: 07, loss: -0.96906\n",
      "epoch: 08, loss: -0.97038\n",
      "epoch: 09, loss: -0.97147\n",
      "torch.Size([1024, 64])\n"
     ]
    },
    {
     "name": "stderr",
     "output_type": "stream",
     "text": [
      " 42%|████▏     | 416/999 [5:42:09<7:42:49, 47.63s/it]"
     ]
    },
    {
     "name": "stdout",
     "output_type": "stream",
     "text": [
      "eigenvalues shape torch.Size([5]) eigenvectors shape torch.Size([5, 1024])\n",
      "416 /home/phdcs2/Hard_Disk/Datasets/Deep-Spectral-Segmentation/data/object-segmentation/ECSSD/features/0418_resized.pth\n",
      "dict_keys(['k', 'indices', 'file', 'id', 'model_name', 'patch_size', 'shape'])\n",
      "0418_resized\n",
      "Starting Training\n",
      "epoch: 00, loss: -0.92327\n",
      "epoch: 01, loss: -0.95301\n",
      "epoch: 02, loss: -0.96043\n",
      "epoch: 03, loss: -0.96474\n",
      "epoch: 04, loss: -0.96774\n",
      "epoch: 05, loss: -0.97004\n",
      "epoch: 06, loss: -0.97175\n",
      "epoch: 07, loss: -0.97313\n",
      "epoch: 08, loss: -0.97433\n",
      "epoch: 09, loss: -0.97534\n",
      "torch.Size([1024, 64])\n"
     ]
    },
    {
     "name": "stderr",
     "output_type": "stream",
     "text": [
      " 42%|████▏     | 417/999 [5:43:04<8:01:50, 49.67s/it]"
     ]
    },
    {
     "name": "stdout",
     "output_type": "stream",
     "text": [
      "eigenvalues shape torch.Size([5]) eigenvectors shape torch.Size([5, 1024])\n",
      "417 /home/phdcs2/Hard_Disk/Datasets/Deep-Spectral-Segmentation/data/object-segmentation/ECSSD/features/0419_resized.pth\n",
      "dict_keys(['k', 'indices', 'file', 'id', 'model_name', 'patch_size', 'shape'])\n",
      "0419_resized\n",
      "Starting Training\n",
      "epoch: 00, loss: -0.92804\n",
      "epoch: 01, loss: -0.95773\n",
      "epoch: 02, loss: -0.96439\n",
      "epoch: 03, loss: -0.96823\n",
      "epoch: 04, loss: -0.97079\n",
      "epoch: 05, loss: -0.97270\n",
      "epoch: 06, loss: -0.97419\n",
      "epoch: 07, loss: -0.97541\n",
      "epoch: 08, loss: -0.97643\n",
      "epoch: 09, loss: -0.97728\n",
      "torch.Size([1024, 64])\n"
     ]
    },
    {
     "name": "stderr",
     "output_type": "stream",
     "text": [
      " 42%|████▏     | 418/999 [5:43:55<8:05:46, 50.17s/it]"
     ]
    },
    {
     "name": "stdout",
     "output_type": "stream",
     "text": [
      "eigenvalues shape torch.Size([5]) eigenvectors shape torch.Size([5, 1024])\n",
      "418 /home/phdcs2/Hard_Disk/Datasets/Deep-Spectral-Segmentation/data/object-segmentation/ECSSD/features/0420_resized.pth\n",
      "dict_keys(['k', 'indices', 'file', 'id', 'model_name', 'patch_size', 'shape'])\n",
      "0420_resized\n",
      "Starting Training\n",
      "epoch: 00, loss: -0.91827\n",
      "epoch: 01, loss: -0.95035\n",
      "epoch: 02, loss: -0.95814\n",
      "epoch: 03, loss: -0.96263\n",
      "epoch: 04, loss: -0.96569\n",
      "epoch: 05, loss: -0.96796\n",
      "epoch: 06, loss: -0.96975\n",
      "epoch: 07, loss: -0.97122\n",
      "epoch: 08, loss: -0.97245\n",
      "epoch: 09, loss: -0.97349\n",
      "torch.Size([1024, 64])\n"
     ]
    },
    {
     "name": "stderr",
     "output_type": "stream",
     "text": [
      " 42%|████▏     | 419/999 [5:44:42<7:56:16, 49.27s/it]"
     ]
    },
    {
     "name": "stdout",
     "output_type": "stream",
     "text": [
      "eigenvalues shape torch.Size([5]) eigenvectors shape torch.Size([5, 1024])\n",
      "419 /home/phdcs2/Hard_Disk/Datasets/Deep-Spectral-Segmentation/data/object-segmentation/ECSSD/features/0421_resized.pth\n",
      "dict_keys(['k', 'indices', 'file', 'id', 'model_name', 'patch_size', 'shape'])\n",
      "0421_resized\n",
      "Starting Training\n",
      "epoch: 00, loss: -0.90619\n",
      "epoch: 01, loss: -0.94417\n",
      "epoch: 02, loss: -0.95340\n",
      "epoch: 03, loss: -0.95863\n",
      "epoch: 04, loss: -0.96211\n",
      "epoch: 05, loss: -0.96477\n",
      "epoch: 06, loss: -0.96684\n",
      "epoch: 07, loss: -0.96851\n",
      "epoch: 08, loss: -0.96990\n",
      "epoch: 09, loss: -0.97110\n",
      "torch.Size([1024, 64])\n"
     ]
    },
    {
     "name": "stderr",
     "output_type": "stream",
     "text": [
      " 42%|████▏     | 420/999 [5:45:35<8:05:17, 50.29s/it]"
     ]
    },
    {
     "name": "stdout",
     "output_type": "stream",
     "text": [
      "eigenvalues shape torch.Size([5]) eigenvectors shape torch.Size([5, 1024])\n",
      "420 /home/phdcs2/Hard_Disk/Datasets/Deep-Spectral-Segmentation/data/object-segmentation/ECSSD/features/0422_resized.pth\n",
      "dict_keys(['k', 'indices', 'file', 'id', 'model_name', 'patch_size', 'shape'])\n",
      "0422_resized\n",
      "Starting Training\n",
      "epoch: 00, loss: -0.90584\n",
      "epoch: 01, loss: -0.94185\n",
      "epoch: 02, loss: -0.95070\n",
      "epoch: 03, loss: -0.95580\n",
      "epoch: 04, loss: -0.95930\n",
      "epoch: 05, loss: -0.96192\n",
      "epoch: 06, loss: -0.96395\n",
      "epoch: 07, loss: -0.96564\n",
      "epoch: 08, loss: -0.96705\n",
      "epoch: 09, loss: -0.96823\n",
      "torch.Size([1024, 64])\n"
     ]
    },
    {
     "name": "stderr",
     "output_type": "stream",
     "text": [
      " 42%|████▏     | 421/999 [5:46:20<7:48:50, 48.67s/it]"
     ]
    },
    {
     "name": "stdout",
     "output_type": "stream",
     "text": [
      "eigenvalues shape torch.Size([5]) eigenvectors shape torch.Size([5, 1024])\n",
      "421 /home/phdcs2/Hard_Disk/Datasets/Deep-Spectral-Segmentation/data/object-segmentation/ECSSD/features/0423_resized.pth\n",
      "dict_keys(['k', 'indices', 'file', 'id', 'model_name', 'patch_size', 'shape'])\n",
      "0423_resized\n",
      "Starting Training\n",
      "epoch: 00, loss: -0.86629\n",
      "epoch: 01, loss: -0.91979\n",
      "epoch: 02, loss: -0.93358\n",
      "epoch: 03, loss: -0.94139\n",
      "epoch: 04, loss: -0.94652\n",
      "epoch: 05, loss: -0.95028\n",
      "epoch: 06, loss: -0.95321\n",
      "epoch: 07, loss: -0.95550\n",
      "epoch: 08, loss: -0.95756\n",
      "epoch: 09, loss: -0.95921\n",
      "torch.Size([1024, 64])\n"
     ]
    },
    {
     "name": "stderr",
     "output_type": "stream",
     "text": [
      " 42%|████▏     | 422/999 [5:47:02<7:29:23, 46.73s/it]"
     ]
    },
    {
     "name": "stdout",
     "output_type": "stream",
     "text": [
      "eigenvalues shape torch.Size([5]) eigenvectors shape torch.Size([5, 1024])\n",
      "422 /home/phdcs2/Hard_Disk/Datasets/Deep-Spectral-Segmentation/data/object-segmentation/ECSSD/features/0424_resized.pth\n",
      "dict_keys(['k', 'indices', 'file', 'id', 'model_name', 'patch_size', 'shape'])\n",
      "0424_resized\n",
      "Starting Training\n",
      "epoch: 00, loss: -0.87884\n",
      "epoch: 01, loss: -0.92812\n",
      "epoch: 02, loss: -0.94097\n",
      "epoch: 03, loss: -0.94814\n",
      "epoch: 04, loss: -0.95287\n",
      "epoch: 05, loss: -0.95627\n",
      "epoch: 06, loss: -0.95890\n",
      "epoch: 07, loss: -0.96114\n",
      "epoch: 08, loss: -0.96288\n",
      "epoch: 09, loss: -0.96445\n",
      "torch.Size([1024, 64])\n"
     ]
    },
    {
     "name": "stderr",
     "output_type": "stream",
     "text": [
      " 42%|████▏     | 423/999 [5:47:57<7:54:31, 49.43s/it]"
     ]
    },
    {
     "name": "stdout",
     "output_type": "stream",
     "text": [
      "eigenvalues shape torch.Size([5]) eigenvectors shape torch.Size([5, 1024])\n",
      "423 /home/phdcs2/Hard_Disk/Datasets/Deep-Spectral-Segmentation/data/object-segmentation/ECSSD/features/0425_resized.pth\n",
      "dict_keys(['k', 'indices', 'file', 'id', 'model_name', 'patch_size', 'shape'])\n",
      "0425_resized\n",
      "Starting Training\n",
      "epoch: 00, loss: -0.89279\n",
      "epoch: 01, loss: -0.93898\n",
      "epoch: 02, loss: -0.94876\n",
      "epoch: 03, loss: -0.95451\n",
      "epoch: 04, loss: -0.95823\n",
      "epoch: 05, loss: -0.96106\n",
      "epoch: 06, loss: -0.96323\n",
      "epoch: 07, loss: -0.96501\n",
      "epoch: 08, loss: -0.96640\n",
      "epoch: 09, loss: -0.96771\n",
      "torch.Size([1024, 64])\n"
     ]
    },
    {
     "name": "stderr",
     "output_type": "stream",
     "text": [
      " 42%|████▏     | 424/999 [5:48:49<8:01:01, 50.19s/it]"
     ]
    },
    {
     "name": "stdout",
     "output_type": "stream",
     "text": [
      "eigenvalues shape torch.Size([5]) eigenvectors shape torch.Size([5, 1024])\n",
      "424 /home/phdcs2/Hard_Disk/Datasets/Deep-Spectral-Segmentation/data/object-segmentation/ECSSD/features/0426_resized.pth\n",
      "dict_keys(['k', 'indices', 'file', 'id', 'model_name', 'patch_size', 'shape'])\n",
      "0426_resized\n",
      "Starting Training\n",
      "epoch: 00, loss: -0.90988\n",
      "epoch: 01, loss: -0.94633\n",
      "epoch: 02, loss: -0.95493\n",
      "epoch: 03, loss: -0.95989\n",
      "epoch: 04, loss: -0.96323\n",
      "epoch: 05, loss: -0.96571\n",
      "epoch: 06, loss: -0.96768\n",
      "epoch: 07, loss: -0.96922\n",
      "epoch: 08, loss: -0.97054\n",
      "epoch: 09, loss: -0.97169\n",
      "torch.Size([1024, 64])\n"
     ]
    },
    {
     "name": "stderr",
     "output_type": "stream",
     "text": [
      " 43%|████▎     | 425/999 [5:49:38<7:56:47, 49.84s/it]"
     ]
    },
    {
     "name": "stdout",
     "output_type": "stream",
     "text": [
      "eigenvalues shape torch.Size([5]) eigenvectors shape torch.Size([5, 1024])\n",
      "425 /home/phdcs2/Hard_Disk/Datasets/Deep-Spectral-Segmentation/data/object-segmentation/ECSSD/features/0427_resized.pth\n",
      "dict_keys(['k', 'indices', 'file', 'id', 'model_name', 'patch_size', 'shape'])\n",
      "0427_resized\n",
      "Starting Training\n",
      "epoch: 00, loss: -0.91892\n",
      "epoch: 01, loss: -0.94997\n",
      "epoch: 02, loss: -0.95715\n",
      "epoch: 03, loss: -0.96142\n",
      "epoch: 04, loss: -0.96438\n",
      "epoch: 05, loss: -0.96663\n",
      "epoch: 06, loss: -0.96839\n",
      "epoch: 07, loss: -0.96984\n",
      "epoch: 08, loss: -0.97105\n",
      "epoch: 09, loss: -0.97210\n",
      "torch.Size([1024, 64])\n"
     ]
    },
    {
     "name": "stderr",
     "output_type": "stream",
     "text": [
      " 43%|████▎     | 426/999 [5:50:22<7:38:06, 47.97s/it]"
     ]
    },
    {
     "name": "stdout",
     "output_type": "stream",
     "text": [
      "eigenvalues shape torch.Size([5]) eigenvectors shape torch.Size([5, 1024])\n",
      "426 /home/phdcs2/Hard_Disk/Datasets/Deep-Spectral-Segmentation/data/object-segmentation/ECSSD/features/0428_resized.pth\n",
      "dict_keys(['k', 'indices', 'file', 'id', 'model_name', 'patch_size', 'shape'])\n",
      "0428_resized\n",
      "Starting Training\n",
      "epoch: 00, loss: -0.92378\n",
      "epoch: 01, loss: -0.95405\n",
      "epoch: 02, loss: -0.96084\n",
      "epoch: 03, loss: -0.96486\n",
      "epoch: 04, loss: -0.96760\n",
      "epoch: 05, loss: -0.96966\n",
      "epoch: 06, loss: -0.97127\n",
      "epoch: 07, loss: -0.97254\n",
      "epoch: 08, loss: -0.97363\n",
      "epoch: 09, loss: -0.97459\n",
      "torch.Size([1024, 64])\n"
     ]
    },
    {
     "name": "stderr",
     "output_type": "stream",
     "text": [
      " 43%|████▎     | 427/999 [5:51:19<8:02:08, 50.57s/it]"
     ]
    },
    {
     "name": "stdout",
     "output_type": "stream",
     "text": [
      "eigenvalues shape torch.Size([5]) eigenvectors shape torch.Size([5, 1024])\n",
      "427 /home/phdcs2/Hard_Disk/Datasets/Deep-Spectral-Segmentation/data/object-segmentation/ECSSD/features/0429_resized.pth\n",
      "dict_keys(['k', 'indices', 'file', 'id', 'model_name', 'patch_size', 'shape'])\n",
      "0429_resized\n",
      "Starting Training\n",
      "epoch: 00, loss: -0.91253\n",
      "epoch: 01, loss: -0.94970\n",
      "epoch: 02, loss: -0.95778\n",
      "epoch: 03, loss: -0.96251\n",
      "epoch: 04, loss: -0.96565\n",
      "epoch: 05, loss: -0.96800\n",
      "epoch: 06, loss: -0.96981\n",
      "epoch: 07, loss: -0.97128\n",
      "epoch: 08, loss: -0.97252\n",
      "epoch: 09, loss: -0.97356\n",
      "torch.Size([1024, 64])\n"
     ]
    },
    {
     "name": "stderr",
     "output_type": "stream",
     "text": [
      " 43%|████▎     | 428/999 [5:52:16<8:19:01, 52.44s/it]"
     ]
    },
    {
     "name": "stdout",
     "output_type": "stream",
     "text": [
      "eigenvalues shape torch.Size([5]) eigenvectors shape torch.Size([5, 1024])\n",
      "428 /home/phdcs2/Hard_Disk/Datasets/Deep-Spectral-Segmentation/data/object-segmentation/ECSSD/features/0430_resized.pth\n",
      "dict_keys(['k', 'indices', 'file', 'id', 'model_name', 'patch_size', 'shape'])\n",
      "0430_resized\n",
      "Starting Training\n",
      "epoch: 00, loss: -0.92367\n",
      "epoch: 01, loss: -0.95490\n",
      "epoch: 02, loss: -0.96207\n",
      "epoch: 03, loss: -0.96618\n",
      "epoch: 04, loss: -0.96904\n",
      "epoch: 05, loss: -0.97115\n",
      "epoch: 06, loss: -0.97279\n",
      "epoch: 07, loss: -0.97409\n",
      "epoch: 08, loss: -0.97525\n",
      "epoch: 09, loss: -0.97617\n",
      "torch.Size([1024, 64])\n"
     ]
    },
    {
     "name": "stderr",
     "output_type": "stream",
     "text": [
      " 43%|████▎     | 429/999 [5:53:09<8:19:53, 52.62s/it]"
     ]
    },
    {
     "name": "stdout",
     "output_type": "stream",
     "text": [
      "eigenvalues shape torch.Size([5]) eigenvectors shape torch.Size([5, 1024])\n",
      "429 /home/phdcs2/Hard_Disk/Datasets/Deep-Spectral-Segmentation/data/object-segmentation/ECSSD/features/0431_resized.pth\n",
      "dict_keys(['k', 'indices', 'file', 'id', 'model_name', 'patch_size', 'shape'])\n",
      "0431_resized\n",
      "Starting Training\n",
      "epoch: 00, loss: -0.87128\n",
      "epoch: 01, loss: -0.92417\n",
      "epoch: 02, loss: -0.93688\n",
      "epoch: 03, loss: -0.94404\n",
      "epoch: 04, loss: -0.94897\n",
      "epoch: 05, loss: -0.95263\n",
      "epoch: 06, loss: -0.95536\n",
      "epoch: 07, loss: -0.95757\n",
      "epoch: 08, loss: -0.95938\n",
      "epoch: 09, loss: -0.96099\n",
      "torch.Size([1024, 64])\n"
     ]
    },
    {
     "name": "stderr",
     "output_type": "stream",
     "text": [
      " 43%|████▎     | 430/999 [5:53:59<8:14:06, 52.10s/it]"
     ]
    },
    {
     "name": "stdout",
     "output_type": "stream",
     "text": [
      "eigenvalues shape torch.Size([5]) eigenvectors shape torch.Size([5, 1024])\n",
      "430 /home/phdcs2/Hard_Disk/Datasets/Deep-Spectral-Segmentation/data/object-segmentation/ECSSD/features/0432_resized.pth\n",
      "dict_keys(['k', 'indices', 'file', 'id', 'model_name', 'patch_size', 'shape'])\n",
      "0432_resized\n",
      "Starting Training\n",
      "epoch: 00, loss: -0.91588\n",
      "epoch: 01, loss: -0.94932\n",
      "epoch: 02, loss: -0.95715\n",
      "epoch: 03, loss: -0.96169\n",
      "epoch: 04, loss: -0.96482\n",
      "epoch: 05, loss: -0.96712\n",
      "epoch: 06, loss: -0.96896\n",
      "epoch: 07, loss: -0.97042\n",
      "epoch: 08, loss: -0.97169\n",
      "epoch: 09, loss: -0.97275\n",
      "torch.Size([1024, 64])\n"
     ]
    },
    {
     "name": "stderr",
     "output_type": "stream",
     "text": [
      " 43%|████▎     | 431/999 [5:54:49<8:05:40, 51.30s/it]"
     ]
    },
    {
     "name": "stdout",
     "output_type": "stream",
     "text": [
      "eigenvalues shape torch.Size([5]) eigenvectors shape torch.Size([5, 1024])\n",
      "431 /home/phdcs2/Hard_Disk/Datasets/Deep-Spectral-Segmentation/data/object-segmentation/ECSSD/features/0433_resized.pth\n",
      "dict_keys(['k', 'indices', 'file', 'id', 'model_name', 'patch_size', 'shape'])\n",
      "0433_resized\n",
      "Starting Training\n",
      "epoch: 00, loss: -0.90950\n",
      "epoch: 01, loss: -0.94610\n",
      "epoch: 02, loss: -0.95479\n",
      "epoch: 03, loss: -0.95987\n",
      "epoch: 04, loss: -0.96325\n",
      "epoch: 05, loss: -0.96579\n",
      "epoch: 06, loss: -0.96775\n",
      "epoch: 07, loss: -0.96934\n",
      "epoch: 08, loss: -0.97070\n",
      "epoch: 09, loss: -0.97182\n",
      "torch.Size([1024, 64])\n"
     ]
    },
    {
     "name": "stderr",
     "output_type": "stream",
     "text": [
      " 43%|████▎     | 432/999 [5:55:36<7:52:51, 50.04s/it]"
     ]
    },
    {
     "name": "stdout",
     "output_type": "stream",
     "text": [
      "eigenvalues shape torch.Size([5]) eigenvectors shape torch.Size([5, 1024])\n",
      "432 /home/phdcs2/Hard_Disk/Datasets/Deep-Spectral-Segmentation/data/object-segmentation/ECSSD/features/0434_resized.pth\n",
      "dict_keys(['k', 'indices', 'file', 'id', 'model_name', 'patch_size', 'shape'])\n",
      "0434_resized\n",
      "Starting Training\n",
      "epoch: 00, loss: -0.91152\n",
      "epoch: 01, loss: -0.94628\n",
      "epoch: 02, loss: -0.95420\n",
      "epoch: 03, loss: -0.95881\n",
      "epoch: 04, loss: -0.96190\n",
      "epoch: 05, loss: -0.96428\n",
      "epoch: 06, loss: -0.96613\n",
      "epoch: 07, loss: -0.96763\n",
      "epoch: 08, loss: -0.96892\n",
      "epoch: 09, loss: -0.97000\n",
      "torch.Size([1024, 64])\n"
     ]
    },
    {
     "name": "stderr",
     "output_type": "stream",
     "text": [
      " 43%|████▎     | 433/999 [5:56:31<8:05:40, 51.48s/it]"
     ]
    },
    {
     "name": "stdout",
     "output_type": "stream",
     "text": [
      "eigenvalues shape torch.Size([5]) eigenvectors shape torch.Size([5, 1024])\n",
      "433 /home/phdcs2/Hard_Disk/Datasets/Deep-Spectral-Segmentation/data/object-segmentation/ECSSD/features/0435_resized.pth\n",
      "dict_keys(['k', 'indices', 'file', 'id', 'model_name', 'patch_size', 'shape'])\n",
      "0435_resized\n",
      "Starting Training\n",
      "epoch: 00, loss: -0.91117\n",
      "epoch: 01, loss: -0.94599\n",
      "epoch: 02, loss: -0.95468\n",
      "epoch: 03, loss: -0.95960\n",
      "epoch: 04, loss: -0.96281\n",
      "epoch: 05, loss: -0.96531\n",
      "epoch: 06, loss: -0.96719\n",
      "epoch: 07, loss: -0.96870\n",
      "epoch: 08, loss: -0.96999\n",
      "epoch: 09, loss: -0.97112\n",
      "torch.Size([1024, 64])\n"
     ]
    },
    {
     "name": "stderr",
     "output_type": "stream",
     "text": [
      " 43%|████▎     | 434/999 [5:57:16<7:47:43, 49.67s/it]"
     ]
    },
    {
     "name": "stdout",
     "output_type": "stream",
     "text": [
      "eigenvalues shape torch.Size([5]) eigenvectors shape torch.Size([5, 1024])\n",
      "434 /home/phdcs2/Hard_Disk/Datasets/Deep-Spectral-Segmentation/data/object-segmentation/ECSSD/features/0436_resized.pth\n",
      "dict_keys(['k', 'indices', 'file', 'id', 'model_name', 'patch_size', 'shape'])\n",
      "0436_resized\n",
      "Starting Training\n",
      "epoch: 00, loss: -0.91317\n",
      "epoch: 01, loss: -0.95041\n",
      "epoch: 02, loss: -0.95861\n",
      "epoch: 03, loss: -0.96336\n",
      "epoch: 04, loss: -0.96653\n",
      "epoch: 05, loss: -0.96881\n",
      "epoch: 06, loss: -0.97066\n",
      "epoch: 07, loss: -0.97214\n",
      "epoch: 08, loss: -0.97342\n",
      "epoch: 09, loss: -0.97445\n",
      "torch.Size([1024, 64])\n"
     ]
    },
    {
     "name": "stderr",
     "output_type": "stream",
     "text": [
      " 44%|████▎     | 435/999 [5:57:57<7:22:44, 47.10s/it]"
     ]
    },
    {
     "name": "stdout",
     "output_type": "stream",
     "text": [
      "eigenvalues shape torch.Size([5]) eigenvectors shape torch.Size([5, 1024])\n",
      "435 /home/phdcs2/Hard_Disk/Datasets/Deep-Spectral-Segmentation/data/object-segmentation/ECSSD/features/0437_resized.pth\n",
      "dict_keys(['k', 'indices', 'file', 'id', 'model_name', 'patch_size', 'shape'])\n",
      "0437_resized\n",
      "Starting Training\n",
      "epoch: 00, loss: -0.91503\n",
      "epoch: 01, loss: -0.94874\n",
      "epoch: 02, loss: -0.95704\n",
      "epoch: 03, loss: -0.96176\n",
      "epoch: 04, loss: -0.96497\n",
      "epoch: 05, loss: -0.96734\n",
      "epoch: 06, loss: -0.96918\n",
      "epoch: 07, loss: -0.97069\n",
      "epoch: 08, loss: -0.97193\n",
      "epoch: 09, loss: -0.97299\n",
      "torch.Size([1024, 64])\n"
     ]
    },
    {
     "name": "stderr",
     "output_type": "stream",
     "text": [
      " 44%|████▎     | 436/999 [5:58:48<7:32:28, 48.22s/it]"
     ]
    },
    {
     "name": "stdout",
     "output_type": "stream",
     "text": [
      "eigenvalues shape torch.Size([5]) eigenvectors shape torch.Size([5, 1024])\n",
      "436 /home/phdcs2/Hard_Disk/Datasets/Deep-Spectral-Segmentation/data/object-segmentation/ECSSD/features/0438_resized.pth\n",
      "dict_keys(['k', 'indices', 'file', 'id', 'model_name', 'patch_size', 'shape'])\n",
      "0438_resized\n",
      "Starting Training\n",
      "epoch: 00, loss: -0.90583\n",
      "epoch: 01, loss: -0.94414\n",
      "epoch: 02, loss: -0.95359\n",
      "epoch: 03, loss: -0.95904\n",
      "epoch: 04, loss: -0.96268\n",
      "epoch: 05, loss: -0.96534\n",
      "epoch: 06, loss: -0.96751\n",
      "epoch: 07, loss: -0.96924\n",
      "epoch: 08, loss: -0.97061\n",
      "epoch: 09, loss: -0.97188\n",
      "torch.Size([1024, 64])\n"
     ]
    },
    {
     "name": "stderr",
     "output_type": "stream",
     "text": [
      " 44%|████▎     | 437/999 [5:59:42<7:46:27, 49.80s/it]"
     ]
    },
    {
     "name": "stdout",
     "output_type": "stream",
     "text": [
      "eigenvalues shape torch.Size([5]) eigenvectors shape torch.Size([5, 1024])\n",
      "437 /home/phdcs2/Hard_Disk/Datasets/Deep-Spectral-Segmentation/data/object-segmentation/ECSSD/features/0439_resized.pth\n",
      "dict_keys(['k', 'indices', 'file', 'id', 'model_name', 'patch_size', 'shape'])\n",
      "0439_resized\n",
      "Starting Training\n",
      "epoch: 00, loss: -0.92300\n",
      "epoch: 01, loss: -0.95542\n",
      "epoch: 02, loss: -0.96276\n",
      "epoch: 03, loss: -0.96685\n",
      "epoch: 04, loss: -0.96964\n",
      "epoch: 05, loss: -0.97170\n",
      "epoch: 06, loss: -0.97328\n",
      "epoch: 07, loss: -0.97458\n",
      "epoch: 08, loss: -0.97566\n",
      "epoch: 09, loss: -0.97658\n",
      "torch.Size([1024, 64])\n"
     ]
    },
    {
     "name": "stderr",
     "output_type": "stream",
     "text": [
      " 44%|████▍     | 438/999 [6:00:31<7:44:09, 49.64s/it]"
     ]
    },
    {
     "name": "stdout",
     "output_type": "stream",
     "text": [
      "eigenvalues shape torch.Size([5]) eigenvectors shape torch.Size([5, 1024])\n",
      "438 /home/phdcs2/Hard_Disk/Datasets/Deep-Spectral-Segmentation/data/object-segmentation/ECSSD/features/0440_resized.pth\n",
      "dict_keys(['k', 'indices', 'file', 'id', 'model_name', 'patch_size', 'shape'])\n",
      "0440_resized\n",
      "Starting Training\n",
      "epoch: 00, loss: -0.91140\n",
      "epoch: 01, loss: -0.94905\n",
      "epoch: 02, loss: -0.95718\n",
      "epoch: 03, loss: -0.96175\n",
      "epoch: 04, loss: -0.96490\n",
      "epoch: 05, loss: -0.96717\n",
      "epoch: 06, loss: -0.96901\n",
      "epoch: 07, loss: -0.97049\n",
      "epoch: 08, loss: -0.97172\n",
      "epoch: 09, loss: -0.97274\n",
      "torch.Size([1024, 64])\n"
     ]
    },
    {
     "name": "stderr",
     "output_type": "stream",
     "text": [
      " 44%|████▍     | 439/999 [6:01:15<7:27:19, 47.93s/it]"
     ]
    },
    {
     "name": "stdout",
     "output_type": "stream",
     "text": [
      "eigenvalues shape torch.Size([5]) eigenvectors shape torch.Size([5, 1024])\n",
      "439 /home/phdcs2/Hard_Disk/Datasets/Deep-Spectral-Segmentation/data/object-segmentation/ECSSD/features/0441_resized.pth\n",
      "dict_keys(['k', 'indices', 'file', 'id', 'model_name', 'patch_size', 'shape'])\n",
      "0441_resized\n",
      "Starting Training\n",
      "epoch: 00, loss: -0.85106\n",
      "epoch: 01, loss: -0.90876\n",
      "epoch: 02, loss: -0.92409\n",
      "epoch: 03, loss: -0.93278\n",
      "epoch: 04, loss: -0.93856\n",
      "epoch: 05, loss: -0.94278\n",
      "epoch: 06, loss: -0.94599\n",
      "epoch: 07, loss: -0.94868\n",
      "epoch: 08, loss: -0.95080\n",
      "epoch: 09, loss: -0.95257\n",
      "torch.Size([1024, 64])\n"
     ]
    },
    {
     "name": "stderr",
     "output_type": "stream",
     "text": [
      " 44%|████▍     | 440/999 [6:02:08<7:40:02, 49.38s/it]"
     ]
    },
    {
     "name": "stdout",
     "output_type": "stream",
     "text": [
      "eigenvalues shape torch.Size([5]) eigenvectors shape torch.Size([5, 1024])\n",
      "440 /home/phdcs2/Hard_Disk/Datasets/Deep-Spectral-Segmentation/data/object-segmentation/ECSSD/features/0442_resized.pth\n",
      "dict_keys(['k', 'indices', 'file', 'id', 'model_name', 'patch_size', 'shape'])\n",
      "0442_resized\n",
      "Starting Training\n",
      "epoch: 00, loss: -0.90036\n",
      "epoch: 01, loss: -0.94066\n",
      "epoch: 02, loss: -0.95072\n",
      "epoch: 03, loss: -0.95653\n",
      "epoch: 04, loss: -0.96029\n",
      "epoch: 05, loss: -0.96311\n",
      "epoch: 06, loss: -0.96534\n",
      "epoch: 07, loss: -0.96708\n",
      "epoch: 08, loss: -0.96858\n",
      "epoch: 09, loss: -0.96984\n",
      "torch.Size([1024, 64])\n"
     ]
    },
    {
     "name": "stderr",
     "output_type": "stream",
     "text": [
      " 44%|████▍     | 441/999 [6:02:55<7:34:06, 48.83s/it]"
     ]
    },
    {
     "name": "stdout",
     "output_type": "stream",
     "text": [
      "eigenvalues shape torch.Size([5]) eigenvectors shape torch.Size([5, 1024])\n",
      "441 /home/phdcs2/Hard_Disk/Datasets/Deep-Spectral-Segmentation/data/object-segmentation/ECSSD/features/0443_resized.pth\n",
      "dict_keys(['k', 'indices', 'file', 'id', 'model_name', 'patch_size', 'shape'])\n",
      "0443_resized\n",
      "Starting Training\n",
      "epoch: 00, loss: -0.91787\n",
      "epoch: 01, loss: -0.95103\n",
      "epoch: 02, loss: -0.95863\n",
      "epoch: 03, loss: -0.96288\n",
      "epoch: 04, loss: -0.96590\n",
      "epoch: 05, loss: -0.96813\n",
      "epoch: 06, loss: -0.96987\n",
      "epoch: 07, loss: -0.97139\n",
      "epoch: 08, loss: -0.97259\n",
      "epoch: 09, loss: -0.97363\n",
      "torch.Size([1024, 64])\n"
     ]
    },
    {
     "name": "stderr",
     "output_type": "stream",
     "text": [
      " 44%|████▍     | 442/999 [6:03:39<7:19:38, 47.36s/it]"
     ]
    },
    {
     "name": "stdout",
     "output_type": "stream",
     "text": [
      "eigenvalues shape torch.Size([5]) eigenvectors shape torch.Size([5, 1024])\n",
      "442 /home/phdcs2/Hard_Disk/Datasets/Deep-Spectral-Segmentation/data/object-segmentation/ECSSD/features/0444_resized.pth\n",
      "dict_keys(['k', 'indices', 'file', 'id', 'model_name', 'patch_size', 'shape'])\n",
      "0444_resized\n",
      "Starting Training\n",
      "epoch: 00, loss: -0.90010\n",
      "epoch: 01, loss: -0.93873\n",
      "epoch: 02, loss: -0.94865\n",
      "epoch: 03, loss: -0.95440\n",
      "epoch: 04, loss: -0.95825\n",
      "epoch: 05, loss: -0.96115\n",
      "epoch: 06, loss: -0.96344\n",
      "epoch: 07, loss: -0.96529\n",
      "epoch: 08, loss: -0.96673\n",
      "epoch: 09, loss: -0.96807\n",
      "torch.Size([1024, 64])\n"
     ]
    },
    {
     "name": "stderr",
     "output_type": "stream",
     "text": [
      " 44%|████▍     | 443/999 [6:04:37<7:48:01, 50.51s/it]"
     ]
    },
    {
     "name": "stdout",
     "output_type": "stream",
     "text": [
      "eigenvalues shape torch.Size([5]) eigenvectors shape torch.Size([5, 1024])\n",
      "443 /home/phdcs2/Hard_Disk/Datasets/Deep-Spectral-Segmentation/data/object-segmentation/ECSSD/features/0445_resized.pth\n",
      "dict_keys(['k', 'indices', 'file', 'id', 'model_name', 'patch_size', 'shape'])\n",
      "0445_resized\n",
      "Starting Training\n",
      "epoch: 00, loss: -0.87641\n",
      "epoch: 01, loss: -0.92499\n",
      "epoch: 02, loss: -0.93785\n",
      "epoch: 03, loss: -0.94513\n",
      "epoch: 04, loss: -0.95012\n",
      "epoch: 05, loss: -0.95360\n",
      "epoch: 06, loss: -0.95625\n",
      "epoch: 07, loss: -0.95865\n",
      "epoch: 08, loss: -0.96046\n",
      "epoch: 09, loss: -0.96207\n",
      "torch.Size([1024, 64])\n"
     ]
    },
    {
     "name": "stderr",
     "output_type": "stream",
     "text": [
      " 44%|████▍     | 444/999 [6:05:27<7:46:52, 50.47s/it]"
     ]
    },
    {
     "name": "stdout",
     "output_type": "stream",
     "text": [
      "eigenvalues shape torch.Size([5]) eigenvectors shape torch.Size([5, 1024])\n",
      "444 /home/phdcs2/Hard_Disk/Datasets/Deep-Spectral-Segmentation/data/object-segmentation/ECSSD/features/0446_resized.pth\n",
      "dict_keys(['k', 'indices', 'file', 'id', 'model_name', 'patch_size', 'shape'])\n",
      "0446_resized\n",
      "Starting Training\n",
      "epoch: 00, loss: -0.93118\n",
      "epoch: 01, loss: -0.95873\n",
      "epoch: 02, loss: -0.96485\n",
      "epoch: 03, loss: -0.96838\n",
      "epoch: 04, loss: -0.97084\n",
      "epoch: 05, loss: -0.97268\n",
      "epoch: 06, loss: -0.97412\n",
      "epoch: 07, loss: -0.97529\n",
      "epoch: 08, loss: -0.97627\n",
      "epoch: 09, loss: -0.97712\n",
      "torch.Size([1024, 64])\n"
     ]
    },
    {
     "name": "stderr",
     "output_type": "stream",
     "text": [
      " 45%|████▍     | 445/999 [6:06:17<7:44:28, 50.30s/it]"
     ]
    },
    {
     "name": "stdout",
     "output_type": "stream",
     "text": [
      "eigenvalues shape torch.Size([5]) eigenvectors shape torch.Size([5, 1024])\n",
      "445 /home/phdcs2/Hard_Disk/Datasets/Deep-Spectral-Segmentation/data/object-segmentation/ECSSD/features/0447_resized.pth\n",
      "dict_keys(['k', 'indices', 'file', 'id', 'model_name', 'patch_size', 'shape'])\n",
      "0447_resized\n",
      "Starting Training\n",
      "epoch: 00, loss: -0.92127\n",
      "epoch: 01, loss: -0.95213\n",
      "epoch: 02, loss: -0.95977\n",
      "epoch: 03, loss: -0.96408\n",
      "epoch: 04, loss: -0.96705\n",
      "epoch: 05, loss: -0.96926\n",
      "epoch: 06, loss: -0.97098\n",
      "epoch: 07, loss: -0.97240\n",
      "epoch: 08, loss: -0.97355\n",
      "epoch: 09, loss: -0.97454\n",
      "torch.Size([1024, 64])\n"
     ]
    },
    {
     "name": "stderr",
     "output_type": "stream",
     "text": [
      " 45%|████▍     | 446/999 [6:07:03<7:31:02, 48.94s/it]"
     ]
    },
    {
     "name": "stdout",
     "output_type": "stream",
     "text": [
      "eigenvalues shape torch.Size([5]) eigenvectors shape torch.Size([5, 1024])\n",
      "446 /home/phdcs2/Hard_Disk/Datasets/Deep-Spectral-Segmentation/data/object-segmentation/ECSSD/features/0448_resized.pth\n",
      "dict_keys(['k', 'indices', 'file', 'id', 'model_name', 'patch_size', 'shape'])\n",
      "0448_resized\n",
      "Starting Training\n",
      "epoch: 00, loss: -0.92187\n",
      "epoch: 01, loss: -0.95247\n",
      "epoch: 02, loss: -0.95975\n",
      "epoch: 03, loss: -0.96405\n",
      "epoch: 04, loss: -0.96694\n",
      "epoch: 05, loss: -0.96911\n",
      "epoch: 06, loss: -0.97085\n",
      "epoch: 07, loss: -0.97222\n",
      "epoch: 08, loss: -0.97340\n",
      "epoch: 09, loss: -0.97440\n",
      "torch.Size([1024, 64])\n"
     ]
    },
    {
     "name": "stderr",
     "output_type": "stream",
     "text": [
      " 45%|████▍     | 447/999 [6:07:47<7:17:28, 47.55s/it]"
     ]
    },
    {
     "name": "stdout",
     "output_type": "stream",
     "text": [
      "eigenvalues shape torch.Size([5]) eigenvectors shape torch.Size([5, 1024])\n",
      "447 /home/phdcs2/Hard_Disk/Datasets/Deep-Spectral-Segmentation/data/object-segmentation/ECSSD/features/0449_resized.pth\n",
      "dict_keys(['k', 'indices', 'file', 'id', 'model_name', 'patch_size', 'shape'])\n",
      "0449_resized\n",
      "Starting Training\n",
      "epoch: 00, loss: -0.93893\n",
      "epoch: 01, loss: -0.96287\n",
      "epoch: 02, loss: -0.96816\n",
      "epoch: 03, loss: -0.97113\n",
      "epoch: 04, loss: -0.97322\n",
      "epoch: 05, loss: -0.97476\n",
      "epoch: 06, loss: -0.97597\n",
      "epoch: 07, loss: -0.97695\n",
      "epoch: 08, loss: -0.97780\n",
      "epoch: 09, loss: -0.97852\n",
      "torch.Size([1024, 64])\n"
     ]
    },
    {
     "name": "stderr",
     "output_type": "stream",
     "text": [
      " 45%|████▍     | 448/999 [6:08:38<7:25:52, 48.55s/it]"
     ]
    },
    {
     "name": "stdout",
     "output_type": "stream",
     "text": [
      "eigenvalues shape torch.Size([5]) eigenvectors shape torch.Size([5, 1024])\n",
      "448 /home/phdcs2/Hard_Disk/Datasets/Deep-Spectral-Segmentation/data/object-segmentation/ECSSD/features/0450_resized.pth\n",
      "dict_keys(['k', 'indices', 'file', 'id', 'model_name', 'patch_size', 'shape'])\n",
      "0450_resized\n",
      "Starting Training\n",
      "epoch: 00, loss: -0.88630\n",
      "epoch: 01, loss: -0.93250\n",
      "epoch: 02, loss: -0.94412\n",
      "epoch: 03, loss: -0.95045\n",
      "epoch: 04, loss: -0.95497\n",
      "epoch: 05, loss: -0.95809\n",
      "epoch: 06, loss: -0.96069\n",
      "epoch: 07, loss: -0.96264\n",
      "epoch: 08, loss: -0.96439\n",
      "epoch: 09, loss: -0.96576\n",
      "torch.Size([1024, 64])\n"
     ]
    },
    {
     "name": "stderr",
     "output_type": "stream",
     "text": [
      " 45%|████▍     | 449/999 [6:09:29<7:30:15, 49.12s/it]"
     ]
    },
    {
     "name": "stdout",
     "output_type": "stream",
     "text": [
      "eigenvalues shape torch.Size([5]) eigenvectors shape torch.Size([5, 1024])\n",
      "449 /home/phdcs2/Hard_Disk/Datasets/Deep-Spectral-Segmentation/data/object-segmentation/ECSSD/features/0451_resized.pth\n",
      "dict_keys(['k', 'indices', 'file', 'id', 'model_name', 'patch_size', 'shape'])\n",
      "0451_resized\n",
      "Starting Training\n",
      "epoch: 00, loss: -0.93959\n",
      "epoch: 01, loss: -0.96400\n",
      "epoch: 02, loss: -0.96942\n",
      "epoch: 03, loss: -0.97264\n",
      "epoch: 04, loss: -0.97487\n",
      "epoch: 05, loss: -0.97652\n",
      "epoch: 06, loss: -0.97781\n",
      "epoch: 07, loss: -0.97890\n",
      "epoch: 08, loss: -0.97978\n",
      "epoch: 09, loss: -0.98058\n",
      "torch.Size([1024, 64])\n"
     ]
    },
    {
     "name": "stderr",
     "output_type": "stream",
     "text": [
      " 45%|████▌     | 450/999 [6:10:13<7:16:15, 47.68s/it]"
     ]
    },
    {
     "name": "stdout",
     "output_type": "stream",
     "text": [
      "eigenvalues shape torch.Size([5]) eigenvectors shape torch.Size([5, 1024])\n",
      "450 /home/phdcs2/Hard_Disk/Datasets/Deep-Spectral-Segmentation/data/object-segmentation/ECSSD/features/0452_resized.pth\n",
      "dict_keys(['k', 'indices', 'file', 'id', 'model_name', 'patch_size', 'shape'])\n",
      "0452_resized\n",
      "Starting Training\n",
      "epoch: 00, loss: -0.92649\n",
      "epoch: 01, loss: -0.95491\n",
      "epoch: 02, loss: -0.96192\n",
      "epoch: 03, loss: -0.96602\n",
      "epoch: 04, loss: -0.96882\n",
      "epoch: 05, loss: -0.97092\n",
      "epoch: 06, loss: -0.97254\n",
      "epoch: 07, loss: -0.97389\n",
      "epoch: 08, loss: -0.97499\n",
      "epoch: 09, loss: -0.97594\n",
      "torch.Size([1024, 64])\n"
     ]
    },
    {
     "name": "stderr",
     "output_type": "stream",
     "text": [
      " 45%|████▌     | 451/999 [6:10:56<7:03:19, 46.35s/it]"
     ]
    },
    {
     "name": "stdout",
     "output_type": "stream",
     "text": [
      "eigenvalues shape torch.Size([5]) eigenvectors shape torch.Size([5, 1024])\n",
      "451 /home/phdcs2/Hard_Disk/Datasets/Deep-Spectral-Segmentation/data/object-segmentation/ECSSD/features/0453_resized.pth\n",
      "dict_keys(['k', 'indices', 'file', 'id', 'model_name', 'patch_size', 'shape'])\n",
      "0453_resized\n",
      "Starting Training\n",
      "epoch: 00, loss: -0.91069\n",
      "epoch: 01, loss: -0.94380\n",
      "epoch: 02, loss: -0.95247\n",
      "epoch: 03, loss: -0.95760\n",
      "epoch: 04, loss: -0.96110\n",
      "epoch: 05, loss: -0.96374\n",
      "epoch: 06, loss: -0.96573\n",
      "epoch: 07, loss: -0.96742\n",
      "epoch: 08, loss: -0.96884\n",
      "epoch: 09, loss: -0.96997\n",
      "torch.Size([1024, 64])\n"
     ]
    },
    {
     "name": "stderr",
     "output_type": "stream",
     "text": [
      " 45%|████▌     | 452/999 [6:11:43<7:03:55, 46.50s/it]"
     ]
    },
    {
     "name": "stdout",
     "output_type": "stream",
     "text": [
      "eigenvalues shape torch.Size([5]) eigenvectors shape torch.Size([5, 1024])\n",
      "452 /home/phdcs2/Hard_Disk/Datasets/Deep-Spectral-Segmentation/data/object-segmentation/ECSSD/features/0454_resized.pth\n",
      "dict_keys(['k', 'indices', 'file', 'id', 'model_name', 'patch_size', 'shape'])\n",
      "0454_resized\n",
      "Starting Training\n",
      "epoch: 00, loss: -0.88491\n",
      "epoch: 01, loss: -0.93176\n",
      "epoch: 02, loss: -0.94347\n",
      "epoch: 03, loss: -0.95025\n",
      "epoch: 04, loss: -0.95466\n",
      "epoch: 05, loss: -0.95789\n",
      "epoch: 06, loss: -0.96045\n",
      "epoch: 07, loss: -0.96246\n",
      "epoch: 08, loss: -0.96415\n",
      "epoch: 09, loss: -0.96554\n",
      "torch.Size([1024, 64])\n"
     ]
    },
    {
     "name": "stderr",
     "output_type": "stream",
     "text": [
      " 45%|████▌     | 453/999 [6:12:27<6:56:52, 45.81s/it]"
     ]
    },
    {
     "name": "stdout",
     "output_type": "stream",
     "text": [
      "eigenvalues shape torch.Size([5]) eigenvectors shape torch.Size([5, 1024])\n",
      "453 /home/phdcs2/Hard_Disk/Datasets/Deep-Spectral-Segmentation/data/object-segmentation/ECSSD/features/0455_resized.pth\n",
      "dict_keys(['k', 'indices', 'file', 'id', 'model_name', 'patch_size', 'shape'])\n",
      "0455_resized\n",
      "Starting Training\n",
      "epoch: 00, loss: -0.91876\n",
      "epoch: 01, loss: -0.95080\n",
      "epoch: 02, loss: -0.95809\n",
      "epoch: 03, loss: -0.96224\n",
      "epoch: 04, loss: -0.96512\n",
      "epoch: 05, loss: -0.96729\n",
      "epoch: 06, loss: -0.96902\n",
      "epoch: 07, loss: -0.97038\n",
      "epoch: 08, loss: -0.97155\n",
      "epoch: 09, loss: -0.97256\n",
      "torch.Size([1024, 64])\n"
     ]
    },
    {
     "name": "stderr",
     "output_type": "stream",
     "text": [
      " 45%|████▌     | 454/999 [6:13:21<7:17:13, 48.14s/it]"
     ]
    },
    {
     "name": "stdout",
     "output_type": "stream",
     "text": [
      "eigenvalues shape torch.Size([5]) eigenvectors shape torch.Size([5, 1024])\n",
      "454 /home/phdcs2/Hard_Disk/Datasets/Deep-Spectral-Segmentation/data/object-segmentation/ECSSD/features/0456_resized.pth\n",
      "dict_keys(['k', 'indices', 'file', 'id', 'model_name', 'patch_size', 'shape'])\n",
      "0456_resized\n",
      "Starting Training\n",
      "epoch: 00, loss: -0.90666\n",
      "epoch: 01, loss: -0.94140\n",
      "epoch: 02, loss: -0.95029\n",
      "epoch: 03, loss: -0.95551\n",
      "epoch: 04, loss: -0.95900\n",
      "epoch: 05, loss: -0.96163\n",
      "epoch: 06, loss: -0.96373\n",
      "epoch: 07, loss: -0.96541\n",
      "epoch: 08, loss: -0.96681\n",
      "epoch: 09, loss: -0.96804\n",
      "torch.Size([1024, 64])\n"
     ]
    },
    {
     "name": "stderr",
     "output_type": "stream",
     "text": [
      " 46%|████▌     | 455/999 [6:14:09<7:15:45, 48.06s/it]"
     ]
    },
    {
     "name": "stdout",
     "output_type": "stream",
     "text": [
      "eigenvalues shape torch.Size([5]) eigenvectors shape torch.Size([5, 1024])\n",
      "455 /home/phdcs2/Hard_Disk/Datasets/Deep-Spectral-Segmentation/data/object-segmentation/ECSSD/features/0457_resized.pth\n",
      "dict_keys(['k', 'indices', 'file', 'id', 'model_name', 'patch_size', 'shape'])\n",
      "0457_resized\n",
      "Starting Training\n",
      "epoch: 00, loss: -0.89101\n",
      "epoch: 01, loss: -0.93396\n",
      "epoch: 02, loss: -0.94413\n",
      "epoch: 03, loss: -0.95007\n",
      "epoch: 04, loss: -0.95407\n",
      "epoch: 05, loss: -0.95698\n",
      "epoch: 06, loss: -0.95933\n",
      "epoch: 07, loss: -0.96121\n",
      "epoch: 08, loss: -0.96280\n",
      "epoch: 09, loss: -0.96416\n",
      "torch.Size([1024, 64])\n"
     ]
    },
    {
     "name": "stderr",
     "output_type": "stream",
     "text": [
      " 46%|████▌     | 456/999 [6:14:54<7:07:04, 47.19s/it]"
     ]
    },
    {
     "name": "stdout",
     "output_type": "stream",
     "text": [
      "eigenvalues shape torch.Size([5]) eigenvectors shape torch.Size([5, 1024])\n",
      "456 /home/phdcs2/Hard_Disk/Datasets/Deep-Spectral-Segmentation/data/object-segmentation/ECSSD/features/0458_resized.pth\n",
      "dict_keys(['k', 'indices', 'file', 'id', 'model_name', 'patch_size', 'shape'])\n",
      "0458_resized\n",
      "Starting Training\n",
      "epoch: 00, loss: -0.92393\n",
      "epoch: 01, loss: -0.95346\n",
      "epoch: 02, loss: -0.96062\n",
      "epoch: 03, loss: -0.96480\n",
      "epoch: 04, loss: -0.96770\n",
      "epoch: 05, loss: -0.96981\n",
      "epoch: 06, loss: -0.97151\n",
      "epoch: 07, loss: -0.97287\n",
      "epoch: 08, loss: -0.97405\n",
      "epoch: 09, loss: -0.97500\n",
      "torch.Size([1024, 64])\n"
     ]
    },
    {
     "name": "stderr",
     "output_type": "stream",
     "text": [
      " 46%|████▌     | 457/999 [6:15:44<7:13:56, 48.04s/it]"
     ]
    },
    {
     "name": "stdout",
     "output_type": "stream",
     "text": [
      "eigenvalues shape torch.Size([5]) eigenvectors shape torch.Size([5, 1024])\n",
      "457 /home/phdcs2/Hard_Disk/Datasets/Deep-Spectral-Segmentation/data/object-segmentation/ECSSD/features/0459_resized.pth\n",
      "dict_keys(['k', 'indices', 'file', 'id', 'model_name', 'patch_size', 'shape'])\n",
      "0459_resized\n",
      "Starting Training\n",
      "epoch: 00, loss: -0.91467\n",
      "epoch: 01, loss: -0.94837\n",
      "epoch: 02, loss: -0.95688\n",
      "epoch: 03, loss: -0.96170\n",
      "epoch: 04, loss: -0.96500\n",
      "epoch: 05, loss: -0.96741\n",
      "epoch: 06, loss: -0.96934\n",
      "epoch: 07, loss: -0.97095\n",
      "epoch: 08, loss: -0.97217\n",
      "epoch: 09, loss: -0.97324\n",
      "torch.Size([1024, 64])\n"
     ]
    },
    {
     "name": "stderr",
     "output_type": "stream",
     "text": [
      " 46%|████▌     | 458/999 [6:16:31<7:09:12, 47.60s/it]"
     ]
    },
    {
     "name": "stdout",
     "output_type": "stream",
     "text": [
      "eigenvalues shape torch.Size([5]) eigenvectors shape torch.Size([5, 1024])\n",
      "458 /home/phdcs2/Hard_Disk/Datasets/Deep-Spectral-Segmentation/data/object-segmentation/ECSSD/features/0460_resized.pth\n",
      "dict_keys(['k', 'indices', 'file', 'id', 'model_name', 'patch_size', 'shape'])\n",
      "0460_resized\n",
      "Starting Training\n",
      "epoch: 00, loss: -0.92313\n",
      "epoch: 01, loss: -0.95287\n",
      "epoch: 02, loss: -0.95967\n",
      "epoch: 03, loss: -0.96369\n",
      "epoch: 04, loss: -0.96647\n",
      "epoch: 05, loss: -0.96853\n",
      "epoch: 06, loss: -0.97018\n",
      "epoch: 07, loss: -0.97158\n",
      "epoch: 08, loss: -0.97270\n",
      "epoch: 09, loss: -0.97368\n",
      "torch.Size([1024, 64])\n"
     ]
    },
    {
     "name": "stderr",
     "output_type": "stream",
     "text": [
      " 46%|████▌     | 459/999 [6:17:16<7:03:49, 47.09s/it]"
     ]
    },
    {
     "name": "stdout",
     "output_type": "stream",
     "text": [
      "eigenvalues shape torch.Size([5]) eigenvectors shape torch.Size([5, 1024])\n",
      "459 /home/phdcs2/Hard_Disk/Datasets/Deep-Spectral-Segmentation/data/object-segmentation/ECSSD/features/0461_resized.pth\n",
      "dict_keys(['k', 'indices', 'file', 'id', 'model_name', 'patch_size', 'shape'])\n",
      "0461_resized\n",
      "Starting Training\n",
      "epoch: 00, loss: -0.92415\n",
      "epoch: 01, loss: -0.95469\n",
      "epoch: 02, loss: -0.96137\n",
      "epoch: 03, loss: -0.96521\n",
      "epoch: 04, loss: -0.96784\n",
      "epoch: 05, loss: -0.96983\n",
      "epoch: 06, loss: -0.97137\n",
      "epoch: 07, loss: -0.97261\n",
      "epoch: 08, loss: -0.97369\n",
      "epoch: 09, loss: -0.97459\n",
      "torch.Size([1024, 64])\n"
     ]
    },
    {
     "name": "stderr",
     "output_type": "stream",
     "text": [
      " 46%|████▌     | 460/999 [6:18:07<7:12:06, 48.10s/it]"
     ]
    },
    {
     "name": "stdout",
     "output_type": "stream",
     "text": [
      "eigenvalues shape torch.Size([5]) eigenvectors shape torch.Size([5, 1024])\n",
      "460 /home/phdcs2/Hard_Disk/Datasets/Deep-Spectral-Segmentation/data/object-segmentation/ECSSD/features/0462_resized.pth\n",
      "dict_keys(['k', 'indices', 'file', 'id', 'model_name', 'patch_size', 'shape'])\n",
      "0462_resized\n",
      "Starting Training\n",
      "epoch: 00, loss: -0.88796\n",
      "epoch: 01, loss: -0.93251\n",
      "epoch: 02, loss: -0.94405\n",
      "epoch: 03, loss: -0.95055\n",
      "epoch: 04, loss: -0.95504\n",
      "epoch: 05, loss: -0.95826\n",
      "epoch: 06, loss: -0.96085\n",
      "epoch: 07, loss: -0.96282\n",
      "epoch: 08, loss: -0.96458\n",
      "epoch: 09, loss: -0.96607\n",
      "torch.Size([1024, 64])\n"
     ]
    },
    {
     "name": "stderr",
     "output_type": "stream",
     "text": [
      " 46%|████▌     | 461/999 [6:18:57<7:15:38, 48.58s/it]"
     ]
    },
    {
     "name": "stdout",
     "output_type": "stream",
     "text": [
      "eigenvalues shape torch.Size([5]) eigenvectors shape torch.Size([5, 1024])\n",
      "461 /home/phdcs2/Hard_Disk/Datasets/Deep-Spectral-Segmentation/data/object-segmentation/ECSSD/features/0463_resized.pth\n",
      "dict_keys(['k', 'indices', 'file', 'id', 'model_name', 'patch_size', 'shape'])\n",
      "0463_resized\n",
      "Starting Training\n",
      "epoch: 00, loss: -0.92504\n",
      "epoch: 01, loss: -0.95761\n",
      "epoch: 02, loss: -0.96437\n",
      "epoch: 03, loss: -0.96828\n",
      "epoch: 04, loss: -0.97095\n",
      "epoch: 05, loss: -0.97287\n",
      "epoch: 06, loss: -0.97440\n",
      "epoch: 07, loss: -0.97568\n",
      "epoch: 08, loss: -0.97672\n",
      "epoch: 09, loss: -0.97759\n",
      "torch.Size([1024, 64])\n"
     ]
    },
    {
     "name": "stderr",
     "output_type": "stream",
     "text": [
      " 46%|████▌     | 462/999 [6:19:45<7:14:15, 48.52s/it]"
     ]
    },
    {
     "name": "stdout",
     "output_type": "stream",
     "text": [
      "eigenvalues shape torch.Size([5]) eigenvectors shape torch.Size([5, 1024])\n",
      "462 /home/phdcs2/Hard_Disk/Datasets/Deep-Spectral-Segmentation/data/object-segmentation/ECSSD/features/0464_resized.pth\n",
      "dict_keys(['k', 'indices', 'file', 'id', 'model_name', 'patch_size', 'shape'])\n",
      "0464_resized\n",
      "Starting Training\n",
      "epoch: 00, loss: -0.89219\n",
      "epoch: 01, loss: -0.93105\n",
      "epoch: 02, loss: -0.94193\n",
      "epoch: 03, loss: -0.94851\n",
      "epoch: 04, loss: -0.95284\n",
      "epoch: 05, loss: -0.95598\n",
      "epoch: 06, loss: -0.95849\n",
      "epoch: 07, loss: -0.96059\n",
      "epoch: 08, loss: -0.96233\n",
      "epoch: 09, loss: -0.96375\n",
      "torch.Size([1024, 64])\n"
     ]
    },
    {
     "name": "stderr",
     "output_type": "stream",
     "text": [
      " 46%|████▋     | 463/999 [6:20:31<7:06:28, 47.74s/it]"
     ]
    },
    {
     "name": "stdout",
     "output_type": "stream",
     "text": [
      "eigenvalues shape torch.Size([5]) eigenvectors shape torch.Size([5, 1024])\n",
      "463 /home/phdcs2/Hard_Disk/Datasets/Deep-Spectral-Segmentation/data/object-segmentation/ECSSD/features/0465_resized.pth\n",
      "dict_keys(['k', 'indices', 'file', 'id', 'model_name', 'patch_size', 'shape'])\n",
      "0465_resized\n",
      "Starting Training\n",
      "epoch: 00, loss: -0.88016\n",
      "epoch: 01, loss: -0.92894\n",
      "epoch: 02, loss: -0.94150\n",
      "epoch: 03, loss: -0.94851\n",
      "epoch: 04, loss: -0.95311\n",
      "epoch: 05, loss: -0.95643\n",
      "epoch: 06, loss: -0.95909\n",
      "epoch: 07, loss: -0.96112\n",
      "epoch: 08, loss: -0.96293\n",
      "epoch: 09, loss: -0.96441\n",
      "torch.Size([1024, 64])\n"
     ]
    },
    {
     "name": "stderr",
     "output_type": "stream",
     "text": [
      " 46%|████▋     | 464/999 [6:21:16<6:58:58, 46.99s/it]"
     ]
    },
    {
     "name": "stdout",
     "output_type": "stream",
     "text": [
      "eigenvalues shape torch.Size([5]) eigenvectors shape torch.Size([5, 1024])\n",
      "464 /home/phdcs2/Hard_Disk/Datasets/Deep-Spectral-Segmentation/data/object-segmentation/ECSSD/features/0466_resized.pth\n",
      "dict_keys(['k', 'indices', 'file', 'id', 'model_name', 'patch_size', 'shape'])\n",
      "0466_resized\n",
      "Starting Training\n",
      "epoch: 00, loss: -0.89268\n",
      "epoch: 01, loss: -0.93498\n",
      "epoch: 02, loss: -0.94581\n",
      "epoch: 03, loss: -0.95205\n",
      "epoch: 04, loss: -0.95633\n",
      "epoch: 05, loss: -0.95943\n",
      "epoch: 06, loss: -0.96174\n",
      "epoch: 07, loss: -0.96373\n",
      "epoch: 08, loss: -0.96545\n",
      "epoch: 09, loss: -0.96683\n",
      "torch.Size([1024, 64])\n"
     ]
    },
    {
     "name": "stderr",
     "output_type": "stream",
     "text": [
      " 47%|████▋     | 465/999 [6:22:08<7:10:10, 48.33s/it]"
     ]
    },
    {
     "name": "stdout",
     "output_type": "stream",
     "text": [
      "eigenvalues shape torch.Size([5]) eigenvectors shape torch.Size([5, 1024])\n",
      "465 /home/phdcs2/Hard_Disk/Datasets/Deep-Spectral-Segmentation/data/object-segmentation/ECSSD/features/0467_resized.pth\n",
      "dict_keys(['k', 'indices', 'file', 'id', 'model_name', 'patch_size', 'shape'])\n",
      "0467_resized\n",
      "Starting Training\n",
      "epoch: 00, loss: -0.91048\n",
      "epoch: 01, loss: -0.94783\n",
      "epoch: 02, loss: -0.95600\n",
      "epoch: 03, loss: -0.96073\n",
      "epoch: 04, loss: -0.96393\n",
      "epoch: 05, loss: -0.96629\n",
      "epoch: 06, loss: -0.96816\n",
      "epoch: 07, loss: -0.96969\n",
      "epoch: 08, loss: -0.97098\n",
      "epoch: 09, loss: -0.97204\n",
      "torch.Size([1024, 64])\n"
     ]
    },
    {
     "name": "stderr",
     "output_type": "stream",
     "text": [
      " 47%|████▋     | 466/999 [6:22:53<7:01:16, 47.42s/it]"
     ]
    },
    {
     "name": "stdout",
     "output_type": "stream",
     "text": [
      "eigenvalues shape torch.Size([5]) eigenvectors shape torch.Size([5, 1024])\n",
      "466 /home/phdcs2/Hard_Disk/Datasets/Deep-Spectral-Segmentation/data/object-segmentation/ECSSD/features/0468_resized.pth\n",
      "dict_keys(['k', 'indices', 'file', 'id', 'model_name', 'patch_size', 'shape'])\n",
      "0468_resized\n",
      "Starting Training\n",
      "epoch: 00, loss: -0.89688\n",
      "epoch: 01, loss: -0.93727\n",
      "epoch: 02, loss: -0.94737\n",
      "epoch: 03, loss: -0.95311\n",
      "epoch: 04, loss: -0.95705\n",
      "epoch: 05, loss: -0.96005\n",
      "epoch: 06, loss: -0.96230\n",
      "epoch: 07, loss: -0.96420\n",
      "epoch: 08, loss: -0.96564\n",
      "epoch: 09, loss: -0.96702\n",
      "torch.Size([1024, 64])\n"
     ]
    },
    {
     "name": "stderr",
     "output_type": "stream",
     "text": [
      " 47%|████▋     | 467/999 [6:23:44<7:11:37, 48.68s/it]"
     ]
    },
    {
     "name": "stdout",
     "output_type": "stream",
     "text": [
      "eigenvalues shape torch.Size([5]) eigenvectors shape torch.Size([5, 1024])\n",
      "467 /home/phdcs2/Hard_Disk/Datasets/Deep-Spectral-Segmentation/data/object-segmentation/ECSSD/features/0469_resized.pth\n",
      "dict_keys(['k', 'indices', 'file', 'id', 'model_name', 'patch_size', 'shape'])\n",
      "0469_resized\n",
      "Starting Training\n",
      "epoch: 00, loss: -0.92605\n",
      "epoch: 01, loss: -0.95512\n",
      "epoch: 02, loss: -0.96192\n",
      "epoch: 03, loss: -0.96591\n",
      "epoch: 04, loss: -0.96858\n",
      "epoch: 05, loss: -0.97066\n",
      "epoch: 06, loss: -0.97224\n",
      "epoch: 07, loss: -0.97356\n",
      "epoch: 08, loss: -0.97465\n",
      "epoch: 09, loss: -0.97558\n",
      "torch.Size([1024, 64])\n"
     ]
    },
    {
     "name": "stderr",
     "output_type": "stream",
     "text": [
      " 47%|████▋     | 468/999 [6:24:31<7:05:21, 48.06s/it]"
     ]
    },
    {
     "name": "stdout",
     "output_type": "stream",
     "text": [
      "eigenvalues shape torch.Size([5]) eigenvectors shape torch.Size([5, 1024])\n",
      "468 /home/phdcs2/Hard_Disk/Datasets/Deep-Spectral-Segmentation/data/object-segmentation/ECSSD/features/0470_resized.pth\n",
      "dict_keys(['k', 'indices', 'file', 'id', 'model_name', 'patch_size', 'shape'])\n",
      "0470_resized\n",
      "Starting Training\n",
      "epoch: 00, loss: -0.87156\n",
      "epoch: 01, loss: -0.92124\n",
      "epoch: 02, loss: -0.93426\n",
      "epoch: 03, loss: -0.94181\n",
      "epoch: 04, loss: -0.94679\n",
      "epoch: 05, loss: -0.95044\n",
      "epoch: 06, loss: -0.95336\n",
      "epoch: 07, loss: -0.95577\n",
      "epoch: 08, loss: -0.95771\n",
      "epoch: 09, loss: -0.95936\n",
      "torch.Size([1024, 64])\n"
     ]
    },
    {
     "name": "stderr",
     "output_type": "stream",
     "text": [
      " 47%|████▋     | 469/999 [6:25:18<7:00:34, 47.61s/it]"
     ]
    },
    {
     "name": "stdout",
     "output_type": "stream",
     "text": [
      "eigenvalues shape torch.Size([5]) eigenvectors shape torch.Size([5, 1024])\n",
      "469 /home/phdcs2/Hard_Disk/Datasets/Deep-Spectral-Segmentation/data/object-segmentation/ECSSD/features/0471_resized.pth\n",
      "dict_keys(['k', 'indices', 'file', 'id', 'model_name', 'patch_size', 'shape'])\n",
      "0471_resized\n",
      "Starting Training\n",
      "epoch: 00, loss: -0.91363\n",
      "epoch: 01, loss: -0.94913\n",
      "epoch: 02, loss: -0.95745\n",
      "epoch: 03, loss: -0.96222\n",
      "epoch: 04, loss: -0.96545\n",
      "epoch: 05, loss: -0.96784\n",
      "epoch: 06, loss: -0.96972\n",
      "epoch: 07, loss: -0.97121\n",
      "epoch: 08, loss: -0.97248\n",
      "epoch: 09, loss: -0.97356\n",
      "torch.Size([1024, 64])\n"
     ]
    },
    {
     "name": "stderr",
     "output_type": "stream",
     "text": [
      " 47%|████▋     | 470/999 [6:26:13<7:21:04, 50.03s/it]"
     ]
    },
    {
     "name": "stdout",
     "output_type": "stream",
     "text": [
      "eigenvalues shape torch.Size([5]) eigenvectors shape torch.Size([5, 1024])\n",
      "470 /home/phdcs2/Hard_Disk/Datasets/Deep-Spectral-Segmentation/data/object-segmentation/ECSSD/features/0472_resized.pth\n",
      "dict_keys(['k', 'indices', 'file', 'id', 'model_name', 'patch_size', 'shape'])\n",
      "0472_resized\n",
      "Starting Training\n",
      "epoch: 00, loss: -0.92286\n",
      "epoch: 01, loss: -0.95269\n",
      "epoch: 02, loss: -0.96037\n",
      "epoch: 03, loss: -0.96483\n",
      "epoch: 04, loss: -0.96785\n",
      "epoch: 05, loss: -0.97009\n",
      "epoch: 06, loss: -0.97187\n",
      "epoch: 07, loss: -0.97330\n",
      "epoch: 08, loss: -0.97449\n",
      "epoch: 09, loss: -0.97552\n",
      "torch.Size([1024, 64])\n"
     ]
    },
    {
     "name": "stderr",
     "output_type": "stream",
     "text": [
      " 47%|████▋     | 471/999 [6:27:07<7:31:06, 51.26s/it]"
     ]
    },
    {
     "name": "stdout",
     "output_type": "stream",
     "text": [
      "eigenvalues shape torch.Size([5]) eigenvectors shape torch.Size([5, 1024])\n",
      "471 /home/phdcs2/Hard_Disk/Datasets/Deep-Spectral-Segmentation/data/object-segmentation/ECSSD/features/0473_resized.pth\n",
      "dict_keys(['k', 'indices', 'file', 'id', 'model_name', 'patch_size', 'shape'])\n",
      "0473_resized\n",
      "Starting Training\n",
      "epoch: 00, loss: -0.90328\n",
      "epoch: 01, loss: -0.94334\n",
      "epoch: 02, loss: -0.95272\n",
      "epoch: 03, loss: -0.95809\n",
      "epoch: 04, loss: -0.96172\n",
      "epoch: 05, loss: -0.96443\n",
      "epoch: 06, loss: -0.96648\n",
      "epoch: 07, loss: -0.96813\n",
      "epoch: 08, loss: -0.96958\n",
      "epoch: 09, loss: -0.97078\n",
      "torch.Size([1024, 64])\n"
     ]
    },
    {
     "name": "stderr",
     "output_type": "stream",
     "text": [
      " 47%|████▋     | 472/999 [6:27:57<7:25:01, 50.67s/it]"
     ]
    },
    {
     "name": "stdout",
     "output_type": "stream",
     "text": [
      "eigenvalues shape torch.Size([5]) eigenvectors shape torch.Size([5, 1024])\n",
      "472 /home/phdcs2/Hard_Disk/Datasets/Deep-Spectral-Segmentation/data/object-segmentation/ECSSD/features/0474_resized.pth\n",
      "dict_keys(['k', 'indices', 'file', 'id', 'model_name', 'patch_size', 'shape'])\n",
      "0474_resized\n",
      "Starting Training\n",
      "epoch: 00, loss: -0.91034\n",
      "epoch: 01, loss: -0.94718\n",
      "epoch: 02, loss: -0.95606\n",
      "epoch: 03, loss: -0.96091\n",
      "epoch: 04, loss: -0.96435\n",
      "epoch: 05, loss: -0.96681\n",
      "epoch: 06, loss: -0.96878\n",
      "epoch: 07, loss: -0.97037\n",
      "epoch: 08, loss: -0.97168\n",
      "epoch: 09, loss: -0.97281\n",
      "torch.Size([1024, 64])\n"
     ]
    },
    {
     "name": "stderr",
     "output_type": "stream",
     "text": [
      " 47%|████▋     | 473/999 [6:28:48<7:25:10, 50.78s/it]"
     ]
    },
    {
     "name": "stdout",
     "output_type": "stream",
     "text": [
      "eigenvalues shape torch.Size([5]) eigenvectors shape torch.Size([5, 1024])\n",
      "473 /home/phdcs2/Hard_Disk/Datasets/Deep-Spectral-Segmentation/data/object-segmentation/ECSSD/features/0475_resized.pth\n",
      "dict_keys(['k', 'indices', 'file', 'id', 'model_name', 'patch_size', 'shape'])\n",
      "0475_resized\n",
      "Starting Training\n",
      "epoch: 00, loss: -0.90773\n",
      "epoch: 01, loss: -0.94364\n",
      "epoch: 02, loss: -0.95234\n",
      "epoch: 03, loss: -0.95735\n",
      "epoch: 04, loss: -0.96087\n",
      "epoch: 05, loss: -0.96338\n",
      "epoch: 06, loss: -0.96543\n",
      "epoch: 07, loss: -0.96711\n",
      "epoch: 08, loss: -0.96848\n",
      "epoch: 09, loss: -0.96963\n",
      "torch.Size([1024, 64])\n"
     ]
    },
    {
     "name": "stderr",
     "output_type": "stream",
     "text": [
      " 47%|████▋     | 474/999 [6:29:41<7:29:47, 51.40s/it]"
     ]
    },
    {
     "name": "stdout",
     "output_type": "stream",
     "text": [
      "eigenvalues shape torch.Size([5]) eigenvectors shape torch.Size([5, 1024])\n",
      "474 /home/phdcs2/Hard_Disk/Datasets/Deep-Spectral-Segmentation/data/object-segmentation/ECSSD/features/0476_resized.pth\n",
      "dict_keys(['k', 'indices', 'file', 'id', 'model_name', 'patch_size', 'shape'])\n",
      "0476_resized\n",
      "Starting Training\n",
      "epoch: 00, loss: -0.88545\n",
      "epoch: 01, loss: -0.93113\n",
      "epoch: 02, loss: -0.94311\n",
      "epoch: 03, loss: -0.94977\n",
      "epoch: 04, loss: -0.95444\n",
      "epoch: 05, loss: -0.95781\n",
      "epoch: 06, loss: -0.96034\n",
      "epoch: 07, loss: -0.96248\n",
      "epoch: 08, loss: -0.96428\n",
      "epoch: 09, loss: -0.96577\n",
      "torch.Size([1024, 64])\n"
     ]
    },
    {
     "name": "stderr",
     "output_type": "stream",
     "text": [
      " 48%|████▊     | 475/999 [6:30:31<7:26:14, 51.10s/it]"
     ]
    },
    {
     "name": "stdout",
     "output_type": "stream",
     "text": [
      "eigenvalues shape torch.Size([5]) eigenvectors shape torch.Size([5, 1024])\n",
      "475 /home/phdcs2/Hard_Disk/Datasets/Deep-Spectral-Segmentation/data/object-segmentation/ECSSD/features/0477_resized.pth\n",
      "dict_keys(['k', 'indices', 'file', 'id', 'model_name', 'patch_size', 'shape'])\n",
      "0477_resized\n",
      "Starting Training\n",
      "epoch: 00, loss: -0.87277\n",
      "epoch: 01, loss: -0.92438\n",
      "epoch: 02, loss: -0.93784\n",
      "epoch: 03, loss: -0.94528\n",
      "epoch: 04, loss: -0.95038\n",
      "epoch: 05, loss: -0.95400\n",
      "epoch: 06, loss: -0.95689\n",
      "epoch: 07, loss: -0.95915\n",
      "epoch: 08, loss: -0.96092\n",
      "epoch: 09, loss: -0.96265\n",
      "torch.Size([1024, 64])\n"
     ]
    },
    {
     "name": "stderr",
     "output_type": "stream",
     "text": [
      " 48%|████▊     | 476/999 [6:31:21<7:21:39, 50.67s/it]"
     ]
    },
    {
     "name": "stdout",
     "output_type": "stream",
     "text": [
      "eigenvalues shape torch.Size([5]) eigenvectors shape torch.Size([5, 1024])\n",
      "476 /home/phdcs2/Hard_Disk/Datasets/Deep-Spectral-Segmentation/data/object-segmentation/ECSSD/features/0478_resized.pth\n",
      "dict_keys(['k', 'indices', 'file', 'id', 'model_name', 'patch_size', 'shape'])\n",
      "0478_resized\n",
      "Starting Training\n",
      "epoch: 00, loss: -0.88435\n",
      "epoch: 01, loss: -0.93153\n",
      "epoch: 02, loss: -0.94361\n",
      "epoch: 03, loss: -0.95055\n",
      "epoch: 04, loss: -0.95509\n",
      "epoch: 05, loss: -0.95863\n",
      "epoch: 06, loss: -0.96131\n",
      "epoch: 07, loss: -0.96353\n",
      "epoch: 08, loss: -0.96525\n",
      "epoch: 09, loss: -0.96670\n",
      "torch.Size([1024, 64])\n"
     ]
    },
    {
     "name": "stderr",
     "output_type": "stream",
     "text": [
      " 48%|████▊     | 477/999 [6:32:13<7:25:00, 51.15s/it]"
     ]
    },
    {
     "name": "stdout",
     "output_type": "stream",
     "text": [
      "eigenvalues shape torch.Size([5]) eigenvectors shape torch.Size([5, 1024])\n",
      "477 /home/phdcs2/Hard_Disk/Datasets/Deep-Spectral-Segmentation/data/object-segmentation/ECSSD/features/0479_resized.pth\n",
      "dict_keys(['k', 'indices', 'file', 'id', 'model_name', 'patch_size', 'shape'])\n",
      "0479_resized\n",
      "Starting Training\n",
      "epoch: 00, loss: -0.92098\n",
      "epoch: 01, loss: -0.95290\n",
      "epoch: 02, loss: -0.96024\n",
      "epoch: 03, loss: -0.96451\n",
      "epoch: 04, loss: -0.96741\n",
      "epoch: 05, loss: -0.96956\n",
      "epoch: 06, loss: -0.97121\n",
      "epoch: 07, loss: -0.97261\n",
      "epoch: 08, loss: -0.97373\n",
      "epoch: 09, loss: -0.97470\n",
      "torch.Size([1024, 64])\n"
     ]
    },
    {
     "name": "stderr",
     "output_type": "stream",
     "text": [
      " 48%|████▊     | 478/999 [6:33:01<7:15:53, 50.20s/it]"
     ]
    },
    {
     "name": "stdout",
     "output_type": "stream",
     "text": [
      "eigenvalues shape torch.Size([5]) eigenvectors shape torch.Size([5, 1024])\n",
      "478 /home/phdcs2/Hard_Disk/Datasets/Deep-Spectral-Segmentation/data/object-segmentation/ECSSD/features/0480_resized.pth\n",
      "dict_keys(['k', 'indices', 'file', 'id', 'model_name', 'patch_size', 'shape'])\n",
      "0480_resized\n",
      "Starting Training\n",
      "epoch: 00, loss: -0.92380\n",
      "epoch: 01, loss: -0.95465\n",
      "epoch: 02, loss: -0.96131\n",
      "epoch: 03, loss: -0.96522\n",
      "epoch: 04, loss: -0.96792\n",
      "epoch: 05, loss: -0.96993\n",
      "epoch: 06, loss: -0.97154\n",
      "epoch: 07, loss: -0.97283\n",
      "epoch: 08, loss: -0.97391\n",
      "epoch: 09, loss: -0.97482\n",
      "torch.Size([1024, 64])\n"
     ]
    },
    {
     "name": "stderr",
     "output_type": "stream",
     "text": [
      " 48%|████▊     | 479/999 [6:33:52<7:18:08, 50.55s/it]"
     ]
    },
    {
     "name": "stdout",
     "output_type": "stream",
     "text": [
      "eigenvalues shape torch.Size([5]) eigenvectors shape torch.Size([5, 1024])\n",
      "479 /home/phdcs2/Hard_Disk/Datasets/Deep-Spectral-Segmentation/data/object-segmentation/ECSSD/features/0481_resized.pth\n",
      "dict_keys(['k', 'indices', 'file', 'id', 'model_name', 'patch_size', 'shape'])\n",
      "0481_resized\n",
      "Starting Training\n",
      "epoch: 00, loss: -0.90540\n",
      "epoch: 01, loss: -0.94352\n",
      "epoch: 02, loss: -0.95272\n",
      "epoch: 03, loss: -0.95800\n",
      "epoch: 04, loss: -0.96168\n",
      "epoch: 05, loss: -0.96435\n",
      "epoch: 06, loss: -0.96646\n",
      "epoch: 07, loss: -0.96813\n",
      "epoch: 08, loss: -0.96955\n",
      "epoch: 09, loss: -0.97074\n",
      "torch.Size([1024, 64])\n"
     ]
    },
    {
     "name": "stderr",
     "output_type": "stream",
     "text": [
      " 48%|████▊     | 480/999 [6:34:45<7:22:51, 51.20s/it]"
     ]
    },
    {
     "name": "stdout",
     "output_type": "stream",
     "text": [
      "eigenvalues shape torch.Size([5]) eigenvectors shape torch.Size([5, 1024])\n",
      "480 /home/phdcs2/Hard_Disk/Datasets/Deep-Spectral-Segmentation/data/object-segmentation/ECSSD/features/0482_resized.pth\n",
      "dict_keys(['k', 'indices', 'file', 'id', 'model_name', 'patch_size', 'shape'])\n",
      "0482_resized\n",
      "Starting Training\n",
      "epoch: 00, loss: -0.92447\n",
      "epoch: 01, loss: -0.95592\n",
      "epoch: 02, loss: -0.96251\n",
      "epoch: 03, loss: -0.96631\n",
      "epoch: 04, loss: -0.96892\n",
      "epoch: 05, loss: -0.97089\n",
      "epoch: 06, loss: -0.97238\n",
      "epoch: 07, loss: -0.97363\n",
      "epoch: 08, loss: -0.97467\n",
      "epoch: 09, loss: -0.97556\n",
      "torch.Size([1024, 64])\n"
     ]
    },
    {
     "name": "stderr",
     "output_type": "stream",
     "text": [
      " 48%|████▊     | 481/999 [6:35:35<7:18:46, 50.82s/it]"
     ]
    },
    {
     "name": "stdout",
     "output_type": "stream",
     "text": [
      "eigenvalues shape torch.Size([5]) eigenvectors shape torch.Size([5, 1024])\n",
      "481 /home/phdcs2/Hard_Disk/Datasets/Deep-Spectral-Segmentation/data/object-segmentation/ECSSD/features/0483_resized.pth\n",
      "dict_keys(['k', 'indices', 'file', 'id', 'model_name', 'patch_size', 'shape'])\n",
      "0483_resized\n",
      "Starting Training\n",
      "epoch: 00, loss: -0.88532\n",
      "epoch: 01, loss: -0.93247\n",
      "epoch: 02, loss: -0.94359\n",
      "epoch: 03, loss: -0.94997\n",
      "epoch: 04, loss: -0.95414\n",
      "epoch: 05, loss: -0.95728\n",
      "epoch: 06, loss: -0.95966\n",
      "epoch: 07, loss: -0.96161\n",
      "epoch: 08, loss: -0.96332\n",
      "epoch: 09, loss: -0.96472\n",
      "torch.Size([1024, 64])\n"
     ]
    },
    {
     "name": "stderr",
     "output_type": "stream",
     "text": [
      " 48%|████▊     | 482/999 [6:36:28<7:23:39, 51.49s/it]"
     ]
    },
    {
     "name": "stdout",
     "output_type": "stream",
     "text": [
      "eigenvalues shape torch.Size([5]) eigenvectors shape torch.Size([5, 1024])\n",
      "482 /home/phdcs2/Hard_Disk/Datasets/Deep-Spectral-Segmentation/data/object-segmentation/ECSSD/features/0484_resized.pth\n",
      "dict_keys(['k', 'indices', 'file', 'id', 'model_name', 'patch_size', 'shape'])\n",
      "0484_resized\n",
      "Starting Training\n",
      "epoch: 00, loss: -0.92275\n",
      "epoch: 01, loss: -0.95576\n",
      "epoch: 02, loss: -0.96283\n",
      "epoch: 03, loss: -0.96679\n",
      "epoch: 04, loss: -0.96951\n",
      "epoch: 05, loss: -0.97146\n",
      "epoch: 06, loss: -0.97301\n",
      "epoch: 07, loss: -0.97428\n",
      "epoch: 08, loss: -0.97535\n",
      "epoch: 09, loss: -0.97621\n",
      "torch.Size([1024, 64])\n"
     ]
    },
    {
     "name": "stderr",
     "output_type": "stream",
     "text": [
      " 48%|████▊     | 483/999 [6:37:15<7:11:39, 50.19s/it]"
     ]
    },
    {
     "name": "stdout",
     "output_type": "stream",
     "text": [
      "eigenvalues shape torch.Size([5]) eigenvectors shape torch.Size([5, 1024])\n",
      "483 /home/phdcs2/Hard_Disk/Datasets/Deep-Spectral-Segmentation/data/object-segmentation/ECSSD/features/0485_resized.pth\n",
      "dict_keys(['k', 'indices', 'file', 'id', 'model_name', 'patch_size', 'shape'])\n",
      "0485_resized\n",
      "Starting Training\n",
      "epoch: 00, loss: -0.91373\n",
      "epoch: 01, loss: -0.94897\n",
      "epoch: 02, loss: -0.95726\n",
      "epoch: 03, loss: -0.96208\n",
      "epoch: 04, loss: -0.96540\n",
      "epoch: 05, loss: -0.96777\n",
      "epoch: 06, loss: -0.96967\n",
      "epoch: 07, loss: -0.97120\n",
      "epoch: 08, loss: -0.97251\n",
      "epoch: 09, loss: -0.97357\n",
      "torch.Size([1024, 64])\n"
     ]
    },
    {
     "name": "stderr",
     "output_type": "stream",
     "text": [
      " 48%|████▊     | 484/999 [6:38:06<7:12:00, 50.33s/it]"
     ]
    },
    {
     "name": "stdout",
     "output_type": "stream",
     "text": [
      "eigenvalues shape torch.Size([5]) eigenvectors shape torch.Size([5, 1024])\n",
      "484 /home/phdcs2/Hard_Disk/Datasets/Deep-Spectral-Segmentation/data/object-segmentation/ECSSD/features/0486_resized.pth\n",
      "dict_keys(['k', 'indices', 'file', 'id', 'model_name', 'patch_size', 'shape'])\n",
      "0486_resized\n",
      "Starting Training\n",
      "epoch: 00, loss: -0.88000\n",
      "epoch: 01, loss: -0.93204\n",
      "epoch: 02, loss: -0.94391\n",
      "epoch: 03, loss: -0.95048\n",
      "epoch: 04, loss: -0.95511\n",
      "epoch: 05, loss: -0.95825\n",
      "epoch: 06, loss: -0.96081\n",
      "epoch: 07, loss: -0.96281\n",
      "epoch: 08, loss: -0.96457\n",
      "epoch: 09, loss: -0.96597\n",
      "torch.Size([1024, 64])\n"
     ]
    },
    {
     "name": "stderr",
     "output_type": "stream",
     "text": [
      " 49%|████▊     | 485/999 [6:38:49<6:51:29, 48.03s/it]"
     ]
    },
    {
     "name": "stdout",
     "output_type": "stream",
     "text": [
      "eigenvalues shape torch.Size([5]) eigenvectors shape torch.Size([5, 1024])\n",
      "485 /home/phdcs2/Hard_Disk/Datasets/Deep-Spectral-Segmentation/data/object-segmentation/ECSSD/features/0487_resized.pth\n",
      "dict_keys(['k', 'indices', 'file', 'id', 'model_name', 'patch_size', 'shape'])\n",
      "0487_resized\n",
      "Starting Training\n",
      "epoch: 00, loss: -0.90298\n",
      "epoch: 01, loss: -0.94159\n",
      "epoch: 02, loss: -0.95096\n",
      "epoch: 03, loss: -0.95632\n",
      "epoch: 04, loss: -0.95999\n",
      "epoch: 05, loss: -0.96270\n",
      "epoch: 06, loss: -0.96470\n",
      "epoch: 07, loss: -0.96635\n",
      "epoch: 08, loss: -0.96777\n",
      "epoch: 09, loss: -0.96899\n",
      "torch.Size([1024, 64])\n"
     ]
    },
    {
     "name": "stderr",
     "output_type": "stream",
     "text": [
      " 49%|████▊     | 486/999 [6:39:36<6:48:16, 47.75s/it]"
     ]
    },
    {
     "name": "stdout",
     "output_type": "stream",
     "text": [
      "eigenvalues shape torch.Size([5]) eigenvectors shape torch.Size([5, 1024])\n",
      "486 /home/phdcs2/Hard_Disk/Datasets/Deep-Spectral-Segmentation/data/object-segmentation/ECSSD/features/0488_resized.pth\n",
      "dict_keys(['k', 'indices', 'file', 'id', 'model_name', 'patch_size', 'shape'])\n",
      "0488_resized\n",
      "Starting Training\n",
      "epoch: 00, loss: -0.92531\n",
      "epoch: 01, loss: -0.95660\n",
      "epoch: 02, loss: -0.96365\n",
      "epoch: 03, loss: -0.96768\n",
      "epoch: 04, loss: -0.97042\n",
      "epoch: 05, loss: -0.97247\n",
      "epoch: 06, loss: -0.97406\n",
      "epoch: 07, loss: -0.97535\n",
      "epoch: 08, loss: -0.97644\n",
      "epoch: 09, loss: -0.97736\n",
      "torch.Size([1024, 64])\n"
     ]
    },
    {
     "name": "stderr",
     "output_type": "stream",
     "text": [
      " 49%|████▊     | 487/999 [6:40:26<6:53:34, 48.47s/it]"
     ]
    },
    {
     "name": "stdout",
     "output_type": "stream",
     "text": [
      "eigenvalues shape torch.Size([5]) eigenvectors shape torch.Size([5, 1024])\n",
      "487 /home/phdcs2/Hard_Disk/Datasets/Deep-Spectral-Segmentation/data/object-segmentation/ECSSD/features/0489_resized.pth\n",
      "dict_keys(['k', 'indices', 'file', 'id', 'model_name', 'patch_size', 'shape'])\n",
      "0489_resized\n",
      "Starting Training\n",
      "epoch: 00, loss: -0.92938\n",
      "epoch: 01, loss: -0.95688\n",
      "epoch: 02, loss: -0.96331\n",
      "epoch: 03, loss: -0.96702\n",
      "epoch: 04, loss: -0.96955\n",
      "epoch: 05, loss: -0.97144\n",
      "epoch: 06, loss: -0.97293\n",
      "epoch: 07, loss: -0.97416\n",
      "epoch: 08, loss: -0.97517\n",
      "epoch: 09, loss: -0.97602\n",
      "torch.Size([1024, 64])\n"
     ]
    },
    {
     "name": "stderr",
     "output_type": "stream",
     "text": [
      " 49%|████▉     | 488/999 [6:41:10<6:41:31, 47.15s/it]"
     ]
    },
    {
     "name": "stdout",
     "output_type": "stream",
     "text": [
      "eigenvalues shape torch.Size([5]) eigenvectors shape torch.Size([5, 1024])\n",
      "488 /home/phdcs2/Hard_Disk/Datasets/Deep-Spectral-Segmentation/data/object-segmentation/ECSSD/features/0490_resized.pth\n",
      "dict_keys(['k', 'indices', 'file', 'id', 'model_name', 'patch_size', 'shape'])\n",
      "0490_resized\n",
      "Starting Training\n",
      "epoch: 00, loss: -0.93699\n",
      "epoch: 01, loss: -0.96335\n",
      "epoch: 02, loss: -0.96912\n",
      "epoch: 03, loss: -0.97246\n",
      "epoch: 04, loss: -0.97472\n",
      "epoch: 05, loss: -0.97642\n",
      "epoch: 06, loss: -0.97771\n",
      "epoch: 07, loss: -0.97878\n",
      "epoch: 08, loss: -0.97968\n",
      "epoch: 09, loss: -0.98044\n",
      "torch.Size([1024, 64])\n"
     ]
    },
    {
     "name": "stderr",
     "output_type": "stream",
     "text": [
      " 49%|████▉     | 489/999 [6:42:01<6:50:40, 48.31s/it]"
     ]
    },
    {
     "name": "stdout",
     "output_type": "stream",
     "text": [
      "eigenvalues shape torch.Size([5]) eigenvectors shape torch.Size([5, 1024])\n",
      "489 /home/phdcs2/Hard_Disk/Datasets/Deep-Spectral-Segmentation/data/object-segmentation/ECSSD/features/0491_resized.pth\n",
      "dict_keys(['k', 'indices', 'file', 'id', 'model_name', 'patch_size', 'shape'])\n",
      "0491_resized\n",
      "Starting Training\n",
      "epoch: 00, loss: -0.88822\n",
      "epoch: 01, loss: -0.93472\n",
      "epoch: 02, loss: -0.94518\n",
      "epoch: 03, loss: -0.95107\n",
      "epoch: 04, loss: -0.95527\n",
      "epoch: 05, loss: -0.95820\n",
      "epoch: 06, loss: -0.96051\n",
      "epoch: 07, loss: -0.96235\n",
      "epoch: 08, loss: -0.96386\n",
      "epoch: 09, loss: -0.96524\n",
      "torch.Size([1024, 64])\n"
     ]
    },
    {
     "name": "stderr",
     "output_type": "stream",
     "text": [
      " 49%|████▉     | 490/999 [6:42:48<6:46:09, 47.88s/it]"
     ]
    },
    {
     "name": "stdout",
     "output_type": "stream",
     "text": [
      "eigenvalues shape torch.Size([5]) eigenvectors shape torch.Size([5, 1024])\n",
      "490 /home/phdcs2/Hard_Disk/Datasets/Deep-Spectral-Segmentation/data/object-segmentation/ECSSD/features/0492_resized.pth\n",
      "dict_keys(['k', 'indices', 'file', 'id', 'model_name', 'patch_size', 'shape'])\n",
      "0492_resized\n",
      "Starting Training\n",
      "epoch: 00, loss: -0.92781\n",
      "epoch: 01, loss: -0.95788\n",
      "epoch: 02, loss: -0.96409\n",
      "epoch: 03, loss: -0.96768\n",
      "epoch: 04, loss: -0.97017\n",
      "epoch: 05, loss: -0.97200\n",
      "epoch: 06, loss: -0.97346\n",
      "epoch: 07, loss: -0.97466\n",
      "epoch: 08, loss: -0.97567\n",
      "epoch: 09, loss: -0.97655\n",
      "torch.Size([1024, 64])\n"
     ]
    },
    {
     "name": "stderr",
     "output_type": "stream",
     "text": [
      " 49%|████▉     | 491/999 [6:43:36<6:45:33, 47.90s/it]"
     ]
    },
    {
     "name": "stdout",
     "output_type": "stream",
     "text": [
      "eigenvalues shape torch.Size([5]) eigenvectors shape torch.Size([5, 1024])\n",
      "491 /home/phdcs2/Hard_Disk/Datasets/Deep-Spectral-Segmentation/data/object-segmentation/ECSSD/features/0493_resized.pth\n",
      "dict_keys(['k', 'indices', 'file', 'id', 'model_name', 'patch_size', 'shape'])\n",
      "0493_resized\n",
      "Starting Training\n",
      "epoch: 00, loss: -0.91285\n",
      "epoch: 01, loss: -0.95033\n",
      "epoch: 02, loss: -0.95844\n",
      "epoch: 03, loss: -0.96302\n",
      "epoch: 04, loss: -0.96617\n",
      "epoch: 05, loss: -0.96851\n",
      "epoch: 06, loss: -0.97033\n",
      "epoch: 07, loss: -0.97180\n",
      "epoch: 08, loss: -0.97301\n",
      "epoch: 09, loss: -0.97405\n",
      "torch.Size([1024, 64])\n"
     ]
    },
    {
     "name": "stderr",
     "output_type": "stream",
     "text": [
      " 49%|████▉     | 492/999 [6:44:20<6:35:09, 46.76s/it]"
     ]
    },
    {
     "name": "stdout",
     "output_type": "stream",
     "text": [
      "eigenvalues shape torch.Size([5]) eigenvectors shape torch.Size([5, 1024])\n",
      "492 /home/phdcs2/Hard_Disk/Datasets/Deep-Spectral-Segmentation/data/object-segmentation/ECSSD/features/0494_resized.pth\n",
      "dict_keys(['k', 'indices', 'file', 'id', 'model_name', 'patch_size', 'shape'])\n",
      "0494_resized\n",
      "Starting Training\n",
      "epoch: 00, loss: -0.91520\n",
      "epoch: 01, loss: -0.94967\n",
      "epoch: 02, loss: -0.95788\n",
      "epoch: 03, loss: -0.96259\n",
      "epoch: 04, loss: -0.96576\n",
      "epoch: 05, loss: -0.96814\n",
      "epoch: 06, loss: -0.96999\n",
      "epoch: 07, loss: -0.97149\n",
      "epoch: 08, loss: -0.97276\n",
      "epoch: 09, loss: -0.97382\n",
      "torch.Size([1024, 64])\n"
     ]
    },
    {
     "name": "stderr",
     "output_type": "stream",
     "text": [
      " 49%|████▉     | 493/999 [6:45:12<6:47:48, 48.36s/it]"
     ]
    },
    {
     "name": "stdout",
     "output_type": "stream",
     "text": [
      "eigenvalues shape torch.Size([5]) eigenvectors shape torch.Size([5, 1024])\n",
      "493 /home/phdcs2/Hard_Disk/Datasets/Deep-Spectral-Segmentation/data/object-segmentation/ECSSD/features/0495_resized.pth\n",
      "dict_keys(['k', 'indices', 'file', 'id', 'model_name', 'patch_size', 'shape'])\n",
      "0495_resized\n",
      "Starting Training\n",
      "epoch: 00, loss: -0.91906\n",
      "epoch: 01, loss: -0.95155\n",
      "epoch: 02, loss: -0.95887\n",
      "epoch: 03, loss: -0.96312\n",
      "epoch: 04, loss: -0.96603\n",
      "epoch: 05, loss: -0.96817\n",
      "epoch: 06, loss: -0.96985\n",
      "epoch: 07, loss: -0.97125\n",
      "epoch: 08, loss: -0.97237\n",
      "epoch: 09, loss: -0.97337\n",
      "torch.Size([1024, 64])\n"
     ]
    },
    {
     "name": "stderr",
     "output_type": "stream",
     "text": [
      " 49%|████▉     | 494/999 [6:46:03<6:54:09, 49.21s/it]"
     ]
    },
    {
     "name": "stdout",
     "output_type": "stream",
     "text": [
      "eigenvalues shape torch.Size([5]) eigenvectors shape torch.Size([5, 1024])\n",
      "494 /home/phdcs2/Hard_Disk/Datasets/Deep-Spectral-Segmentation/data/object-segmentation/ECSSD/features/0496_resized.pth\n",
      "dict_keys(['k', 'indices', 'file', 'id', 'model_name', 'patch_size', 'shape'])\n",
      "0496_resized\n",
      "Starting Training\n",
      "epoch: 00, loss: -0.87097\n",
      "epoch: 01, loss: -0.92347\n",
      "epoch: 02, loss: -0.93702\n",
      "epoch: 03, loss: -0.94460\n",
      "epoch: 04, loss: -0.94960\n",
      "epoch: 05, loss: -0.95341\n",
      "epoch: 06, loss: -0.95635\n",
      "epoch: 07, loss: -0.95863\n",
      "epoch: 08, loss: -0.96056\n",
      "epoch: 09, loss: -0.96211\n",
      "torch.Size([1024, 64])\n"
     ]
    },
    {
     "name": "stderr",
     "output_type": "stream",
     "text": [
      " 50%|████▉     | 495/999 [6:46:54<6:57:47, 49.74s/it]"
     ]
    },
    {
     "name": "stdout",
     "output_type": "stream",
     "text": [
      "eigenvalues shape torch.Size([5]) eigenvectors shape torch.Size([5, 1024])\n",
      "495 /home/phdcs2/Hard_Disk/Datasets/Deep-Spectral-Segmentation/data/object-segmentation/ECSSD/features/0497_resized.pth\n",
      "dict_keys(['k', 'indices', 'file', 'id', 'model_name', 'patch_size', 'shape'])\n",
      "0497_resized\n",
      "Starting Training\n",
      "epoch: 00, loss: -0.89474\n",
      "epoch: 01, loss: -0.93727\n",
      "epoch: 02, loss: -0.94798\n",
      "epoch: 03, loss: -0.95419\n",
      "epoch: 04, loss: -0.95833\n",
      "epoch: 05, loss: -0.96153\n",
      "epoch: 06, loss: -0.96380\n",
      "epoch: 07, loss: -0.96587\n",
      "epoch: 08, loss: -0.96746\n",
      "epoch: 09, loss: -0.96884\n",
      "torch.Size([1024, 64])\n"
     ]
    },
    {
     "name": "stderr",
     "output_type": "stream",
     "text": [
      " 50%|████▉     | 496/999 [6:47:41<6:49:52, 48.89s/it]"
     ]
    },
    {
     "name": "stdout",
     "output_type": "stream",
     "text": [
      "eigenvalues shape torch.Size([5]) eigenvectors shape torch.Size([5, 1024])\n",
      "496 /home/phdcs2/Hard_Disk/Datasets/Deep-Spectral-Segmentation/data/object-segmentation/ECSSD/features/0498_resized.pth\n",
      "dict_keys(['k', 'indices', 'file', 'id', 'model_name', 'patch_size', 'shape'])\n",
      "0498_resized\n",
      "Starting Training\n",
      "epoch: 00, loss: -0.87223\n",
      "epoch: 01, loss: -0.92482\n",
      "epoch: 02, loss: -0.93808\n",
      "epoch: 03, loss: -0.94556\n",
      "epoch: 04, loss: -0.95058\n",
      "epoch: 05, loss: -0.95429\n",
      "epoch: 06, loss: -0.95728\n",
      "epoch: 07, loss: -0.95952\n",
      "epoch: 08, loss: -0.96144\n",
      "epoch: 09, loss: -0.96308\n",
      "torch.Size([1024, 64])\n"
     ]
    },
    {
     "name": "stderr",
     "output_type": "stream",
     "text": [
      " 50%|████▉     | 497/999 [6:48:27<6:41:33, 47.99s/it]"
     ]
    },
    {
     "name": "stdout",
     "output_type": "stream",
     "text": [
      "eigenvalues shape torch.Size([5]) eigenvectors shape torch.Size([5, 1024])\n",
      "497 /home/phdcs2/Hard_Disk/Datasets/Deep-Spectral-Segmentation/data/object-segmentation/ECSSD/features/0499_resized.pth\n",
      "dict_keys(['k', 'indices', 'file', 'id', 'model_name', 'patch_size', 'shape'])\n",
      "0499_resized\n",
      "Starting Training\n",
      "epoch: 00, loss: -0.91037\n",
      "epoch: 01, loss: -0.94717\n",
      "epoch: 02, loss: -0.95554\n",
      "epoch: 03, loss: -0.96054\n",
      "epoch: 04, loss: -0.96382\n",
      "epoch: 05, loss: -0.96616\n",
      "epoch: 06, loss: -0.96803\n",
      "epoch: 07, loss: -0.96959\n",
      "epoch: 08, loss: -0.97087\n",
      "epoch: 09, loss: -0.97195\n",
      "torch.Size([1024, 64])\n"
     ]
    },
    {
     "name": "stderr",
     "output_type": "stream",
     "text": [
      " 50%|████▉     | 498/999 [6:49:11<6:31:21, 46.87s/it]"
     ]
    },
    {
     "name": "stdout",
     "output_type": "stream",
     "text": [
      "eigenvalues shape torch.Size([5]) eigenvectors shape torch.Size([5, 1024])\n",
      "498 /home/phdcs2/Hard_Disk/Datasets/Deep-Spectral-Segmentation/data/object-segmentation/ECSSD/features/0500_resized.pth\n",
      "dict_keys(['k', 'indices', 'file', 'id', 'model_name', 'patch_size', 'shape'])\n",
      "0500_resized\n",
      "Starting Training\n",
      "epoch: 00, loss: -0.90930\n",
      "epoch: 01, loss: -0.94396\n",
      "epoch: 02, loss: -0.95301\n",
      "epoch: 03, loss: -0.95815\n",
      "epoch: 04, loss: -0.96171\n",
      "epoch: 05, loss: -0.96431\n",
      "epoch: 06, loss: -0.96647\n",
      "epoch: 07, loss: -0.96817\n",
      "epoch: 08, loss: -0.96960\n",
      "epoch: 09, loss: -0.97079\n",
      "torch.Size([1024, 64])\n"
     ]
    },
    {
     "name": "stderr",
     "output_type": "stream",
     "text": [
      " 50%|████▉     | 499/999 [6:50:08<6:54:42, 49.77s/it]"
     ]
    },
    {
     "name": "stdout",
     "output_type": "stream",
     "text": [
      "eigenvalues shape torch.Size([5]) eigenvectors shape torch.Size([5, 1024])\n",
      "499 /home/phdcs2/Hard_Disk/Datasets/Deep-Spectral-Segmentation/data/object-segmentation/ECSSD/features/0501_resized.pth\n",
      "dict_keys(['k', 'indices', 'file', 'id', 'model_name', 'patch_size', 'shape'])\n",
      "0501_resized\n",
      "Starting Training\n",
      "epoch: 00, loss: -0.91844\n",
      "epoch: 01, loss: -0.95166\n",
      "epoch: 02, loss: -0.95909\n",
      "epoch: 03, loss: -0.96340\n",
      "epoch: 04, loss: -0.96642\n",
      "epoch: 05, loss: -0.96864\n",
      "epoch: 06, loss: -0.97040\n",
      "epoch: 07, loss: -0.97184\n",
      "epoch: 08, loss: -0.97306\n",
      "epoch: 09, loss: -0.97407\n",
      "torch.Size([1024, 64])\n"
     ]
    },
    {
     "name": "stderr",
     "output_type": "stream",
     "text": [
      " 50%|█████     | 500/999 [6:51:07<7:18:23, 52.71s/it]"
     ]
    },
    {
     "name": "stdout",
     "output_type": "stream",
     "text": [
      "eigenvalues shape torch.Size([5]) eigenvectors shape torch.Size([5, 1024])\n",
      "500 /home/phdcs2/Hard_Disk/Datasets/Deep-Spectral-Segmentation/data/object-segmentation/ECSSD/features/0502_resized.pth\n",
      "dict_keys(['k', 'indices', 'file', 'id', 'model_name', 'patch_size', 'shape'])\n",
      "0502_resized\n",
      "Starting Training\n",
      "epoch: 00, loss: -0.92880\n",
      "epoch: 01, loss: -0.95656\n",
      "epoch: 02, loss: -0.96316\n",
      "epoch: 03, loss: -0.96692\n",
      "epoch: 04, loss: -0.96957\n",
      "epoch: 05, loss: -0.97147\n",
      "epoch: 06, loss: -0.97297\n",
      "epoch: 07, loss: -0.97422\n",
      "epoch: 08, loss: -0.97532\n",
      "epoch: 09, loss: -0.97619\n",
      "torch.Size([1024, 64])\n"
     ]
    },
    {
     "name": "stderr",
     "output_type": "stream",
     "text": [
      " 50%|█████     | 501/999 [6:52:01<7:19:17, 52.93s/it]"
     ]
    },
    {
     "name": "stdout",
     "output_type": "stream",
     "text": [
      "eigenvalues shape torch.Size([5]) eigenvectors shape torch.Size([5, 1024])\n",
      "501 /home/phdcs2/Hard_Disk/Datasets/Deep-Spectral-Segmentation/data/object-segmentation/ECSSD/features/0503_resized.pth\n",
      "dict_keys(['k', 'indices', 'file', 'id', 'model_name', 'patch_size', 'shape'])\n",
      "0503_resized\n",
      "Starting Training\n",
      "epoch: 00, loss: -0.92684\n",
      "epoch: 01, loss: -0.95483\n",
      "epoch: 02, loss: -0.96124\n",
      "epoch: 03, loss: -0.96499\n",
      "epoch: 04, loss: -0.96756\n",
      "epoch: 05, loss: -0.96948\n",
      "epoch: 06, loss: -0.97101\n",
      "epoch: 07, loss: -0.97225\n",
      "epoch: 08, loss: -0.97328\n",
      "epoch: 09, loss: -0.97420\n",
      "torch.Size([1024, 64])\n"
     ]
    },
    {
     "name": "stderr",
     "output_type": "stream",
     "text": [
      " 50%|█████     | 502/999 [6:52:47<7:02:56, 51.06s/it]"
     ]
    },
    {
     "name": "stdout",
     "output_type": "stream",
     "text": [
      "eigenvalues shape torch.Size([5]) eigenvectors shape torch.Size([5, 1024])\n",
      "502 /home/phdcs2/Hard_Disk/Datasets/Deep-Spectral-Segmentation/data/object-segmentation/ECSSD/features/0504_resized.pth\n",
      "dict_keys(['k', 'indices', 'file', 'id', 'model_name', 'patch_size', 'shape'])\n",
      "0504_resized\n",
      "Starting Training\n",
      "epoch: 00, loss: -0.92774\n",
      "epoch: 01, loss: -0.95376\n",
      "epoch: 02, loss: -0.96039\n",
      "epoch: 03, loss: -0.96426\n",
      "epoch: 04, loss: -0.96696\n",
      "epoch: 05, loss: -0.96897\n",
      "epoch: 06, loss: -0.97058\n",
      "epoch: 07, loss: -0.97185\n",
      "epoch: 08, loss: -0.97294\n",
      "epoch: 09, loss: -0.97390\n",
      "torch.Size([1024, 64])\n"
     ]
    },
    {
     "name": "stderr",
     "output_type": "stream",
     "text": [
      " 50%|█████     | 503/999 [6:53:33<6:48:20, 49.40s/it]"
     ]
    },
    {
     "name": "stdout",
     "output_type": "stream",
     "text": [
      "eigenvalues shape torch.Size([5]) eigenvectors shape torch.Size([5, 1024])\n",
      "503 /home/phdcs2/Hard_Disk/Datasets/Deep-Spectral-Segmentation/data/object-segmentation/ECSSD/features/0505_resized.pth\n",
      "dict_keys(['k', 'indices', 'file', 'id', 'model_name', 'patch_size', 'shape'])\n",
      "0505_resized\n",
      "Starting Training\n",
      "epoch: 00, loss: -0.93056\n",
      "epoch: 01, loss: -0.95703\n",
      "epoch: 02, loss: -0.96342\n",
      "epoch: 03, loss: -0.96708\n",
      "epoch: 04, loss: -0.96965\n",
      "epoch: 05, loss: -0.97151\n",
      "epoch: 06, loss: -0.97300\n",
      "epoch: 07, loss: -0.97421\n",
      "epoch: 08, loss: -0.97523\n",
      "epoch: 09, loss: -0.97609\n",
      "torch.Size([1024, 64])\n"
     ]
    },
    {
     "name": "stderr",
     "output_type": "stream",
     "text": [
      " 50%|█████     | 504/999 [6:54:25<6:55:10, 50.32s/it]"
     ]
    },
    {
     "name": "stdout",
     "output_type": "stream",
     "text": [
      "eigenvalues shape torch.Size([5]) eigenvectors shape torch.Size([5, 1024])\n",
      "504 /home/phdcs2/Hard_Disk/Datasets/Deep-Spectral-Segmentation/data/object-segmentation/ECSSD/features/0506_resized.pth\n",
      "dict_keys(['k', 'indices', 'file', 'id', 'model_name', 'patch_size', 'shape'])\n",
      "0506_resized\n",
      "Starting Training\n",
      "epoch: 00, loss: -0.92940\n",
      "epoch: 01, loss: -0.95889\n",
      "epoch: 02, loss: -0.96518\n",
      "epoch: 03, loss: -0.96884\n",
      "epoch: 04, loss: -0.97129\n",
      "epoch: 05, loss: -0.97312\n",
      "epoch: 06, loss: -0.97457\n",
      "epoch: 07, loss: -0.97574\n",
      "epoch: 08, loss: -0.97673\n",
      "epoch: 09, loss: -0.97757\n",
      "torch.Size([1024, 64])\n"
     ]
    },
    {
     "name": "stderr",
     "output_type": "stream",
     "text": [
      " 51%|█████     | 505/999 [6:55:14<6:50:18, 49.83s/it]"
     ]
    },
    {
     "name": "stdout",
     "output_type": "stream",
     "text": [
      "eigenvalues shape torch.Size([5]) eigenvectors shape torch.Size([5, 1024])\n",
      "505 /home/phdcs2/Hard_Disk/Datasets/Deep-Spectral-Segmentation/data/object-segmentation/ECSSD/features/0507_resized.pth\n",
      "dict_keys(['k', 'indices', 'file', 'id', 'model_name', 'patch_size', 'shape'])\n",
      "0507_resized\n",
      "Starting Training\n",
      "epoch: 00, loss: -0.89741\n",
      "epoch: 01, loss: -0.93757\n",
      "epoch: 02, loss: -0.94822\n",
      "epoch: 03, loss: -0.95425\n",
      "epoch: 04, loss: -0.95824\n",
      "epoch: 05, loss: -0.96127\n",
      "epoch: 06, loss: -0.96360\n",
      "epoch: 07, loss: -0.96554\n",
      "epoch: 08, loss: -0.96716\n",
      "epoch: 09, loss: -0.96844\n",
      "torch.Size([1024, 64])\n"
     ]
    },
    {
     "name": "stderr",
     "output_type": "stream",
     "text": [
      " 51%|█████     | 506/999 [6:56:01<6:41:11, 48.83s/it]"
     ]
    },
    {
     "name": "stdout",
     "output_type": "stream",
     "text": [
      "eigenvalues shape torch.Size([5]) eigenvectors shape torch.Size([5, 1024])\n",
      "506 /home/phdcs2/Hard_Disk/Datasets/Deep-Spectral-Segmentation/data/object-segmentation/ECSSD/features/0508_resized.pth\n",
      "dict_keys(['k', 'indices', 'file', 'id', 'model_name', 'patch_size', 'shape'])\n",
      "0508_resized\n",
      "Starting Training\n",
      "epoch: 00, loss: -0.86950\n",
      "epoch: 01, loss: -0.92434\n",
      "epoch: 02, loss: -0.93746\n",
      "epoch: 03, loss: -0.94500\n",
      "epoch: 04, loss: -0.94984\n",
      "epoch: 05, loss: -0.95359\n",
      "epoch: 06, loss: -0.95637\n",
      "epoch: 07, loss: -0.95855\n",
      "epoch: 08, loss: -0.96039\n",
      "epoch: 09, loss: -0.96202\n",
      "torch.Size([1024, 64])\n"
     ]
    },
    {
     "name": "stderr",
     "output_type": "stream",
     "text": [
      " 51%|█████     | 507/999 [6:56:54<6:52:06, 50.26s/it]"
     ]
    },
    {
     "name": "stdout",
     "output_type": "stream",
     "text": [
      "eigenvalues shape torch.Size([5]) eigenvectors shape torch.Size([5, 1024])\n",
      "507 /home/phdcs2/Hard_Disk/Datasets/Deep-Spectral-Segmentation/data/object-segmentation/ECSSD/features/0509_resized.pth\n",
      "dict_keys(['k', 'indices', 'file', 'id', 'model_name', 'patch_size', 'shape'])\n",
      "0509_resized\n",
      "Starting Training\n",
      "epoch: 00, loss: -0.92538\n",
      "epoch: 01, loss: -0.95585\n",
      "epoch: 02, loss: -0.96271\n",
      "epoch: 03, loss: -0.96672\n",
      "epoch: 04, loss: -0.96946\n",
      "epoch: 05, loss: -0.97150\n",
      "epoch: 06, loss: -0.97309\n",
      "epoch: 07, loss: -0.97439\n",
      "epoch: 08, loss: -0.97546\n",
      "epoch: 09, loss: -0.97638\n",
      "torch.Size([1024, 64])\n"
     ]
    },
    {
     "name": "stderr",
     "output_type": "stream",
     "text": [
      " 51%|█████     | 508/999 [6:57:43<6:47:15, 49.77s/it]"
     ]
    },
    {
     "name": "stdout",
     "output_type": "stream",
     "text": [
      "eigenvalues shape torch.Size([5]) eigenvectors shape torch.Size([5, 1024])\n",
      "508 /home/phdcs2/Hard_Disk/Datasets/Deep-Spectral-Segmentation/data/object-segmentation/ECSSD/features/0510_resized.pth\n",
      "dict_keys(['k', 'indices', 'file', 'id', 'model_name', 'patch_size', 'shape'])\n",
      "0510_resized\n",
      "Starting Training\n",
      "epoch: 00, loss: -0.89602\n",
      "epoch: 01, loss: -0.93673\n",
      "epoch: 02, loss: -0.94757\n",
      "epoch: 03, loss: -0.95389\n",
      "epoch: 04, loss: -0.95804\n",
      "epoch: 05, loss: -0.96105\n",
      "epoch: 06, loss: -0.96343\n",
      "epoch: 07, loss: -0.96536\n",
      "epoch: 08, loss: -0.96697\n",
      "epoch: 09, loss: -0.96830\n",
      "torch.Size([1024, 64])\n"
     ]
    },
    {
     "name": "stderr",
     "output_type": "stream",
     "text": [
      " 51%|█████     | 509/999 [6:58:29<6:37:23, 48.66s/it]"
     ]
    },
    {
     "name": "stdout",
     "output_type": "stream",
     "text": [
      "eigenvalues shape torch.Size([5]) eigenvectors shape torch.Size([5, 1024])\n",
      "509 /home/phdcs2/Hard_Disk/Datasets/Deep-Spectral-Segmentation/data/object-segmentation/ECSSD/features/0511_resized.pth\n",
      "dict_keys(['k', 'indices', 'file', 'id', 'model_name', 'patch_size', 'shape'])\n",
      "0511_resized\n",
      "Starting Training\n",
      "epoch: 00, loss: -0.91824\n",
      "epoch: 01, loss: -0.95021\n",
      "epoch: 02, loss: -0.95827\n",
      "epoch: 03, loss: -0.96274\n",
      "epoch: 04, loss: -0.96574\n",
      "epoch: 05, loss: -0.96818\n",
      "epoch: 06, loss: -0.96998\n",
      "epoch: 07, loss: -0.97143\n",
      "epoch: 08, loss: -0.97266\n",
      "epoch: 09, loss: -0.97375\n",
      "torch.Size([1024, 64])\n"
     ]
    },
    {
     "name": "stderr",
     "output_type": "stream",
     "text": [
      " 51%|█████     | 510/999 [6:59:20<6:41:55, 49.32s/it]"
     ]
    },
    {
     "name": "stdout",
     "output_type": "stream",
     "text": [
      "eigenvalues shape torch.Size([5]) eigenvectors shape torch.Size([5, 1024])\n",
      "510 /home/phdcs2/Hard_Disk/Datasets/Deep-Spectral-Segmentation/data/object-segmentation/ECSSD/features/0512_resized.pth\n",
      "dict_keys(['k', 'indices', 'file', 'id', 'model_name', 'patch_size', 'shape'])\n",
      "0512_resized\n",
      "Starting Training\n",
      "epoch: 00, loss: -0.91371\n",
      "epoch: 01, loss: -0.94931\n",
      "epoch: 02, loss: -0.95732\n",
      "epoch: 03, loss: -0.96190\n",
      "epoch: 04, loss: -0.96512\n",
      "epoch: 05, loss: -0.96746\n",
      "epoch: 06, loss: -0.96924\n",
      "epoch: 07, loss: -0.97073\n",
      "epoch: 08, loss: -0.97203\n",
      "epoch: 09, loss: -0.97307\n",
      "torch.Size([1024, 64])\n"
     ]
    },
    {
     "name": "stderr",
     "output_type": "stream",
     "text": [
      " 51%|█████     | 511/999 [7:00:06<6:32:55, 48.31s/it]"
     ]
    },
    {
     "name": "stdout",
     "output_type": "stream",
     "text": [
      "eigenvalues shape torch.Size([5]) eigenvectors shape torch.Size([5, 1024])\n",
      "511 /home/phdcs2/Hard_Disk/Datasets/Deep-Spectral-Segmentation/data/object-segmentation/ECSSD/features/0513_resized.pth\n",
      "dict_keys(['k', 'indices', 'file', 'id', 'model_name', 'patch_size', 'shape'])\n",
      "0513_resized\n",
      "Starting Training\n",
      "epoch: 00, loss: -0.91584\n",
      "epoch: 01, loss: -0.94983\n",
      "epoch: 02, loss: -0.95789\n",
      "epoch: 03, loss: -0.96255\n",
      "epoch: 04, loss: -0.96559\n",
      "epoch: 05, loss: -0.96791\n",
      "epoch: 06, loss: -0.96973\n",
      "epoch: 07, loss: -0.97115\n",
      "epoch: 08, loss: -0.97241\n",
      "epoch: 09, loss: -0.97341\n",
      "torch.Size([1024, 64])\n"
     ]
    },
    {
     "name": "stderr",
     "output_type": "stream",
     "text": [
      " 51%|█████▏    | 512/999 [7:00:54<6:33:23, 48.47s/it]"
     ]
    },
    {
     "name": "stdout",
     "output_type": "stream",
     "text": [
      "eigenvalues shape torch.Size([5]) eigenvectors shape torch.Size([5, 1024])\n",
      "512 /home/phdcs2/Hard_Disk/Datasets/Deep-Spectral-Segmentation/data/object-segmentation/ECSSD/features/0514_resized.pth\n",
      "dict_keys(['k', 'indices', 'file', 'id', 'model_name', 'patch_size', 'shape'])\n",
      "0514_resized\n",
      "Starting Training\n",
      "epoch: 00, loss: -0.92248\n",
      "epoch: 01, loss: -0.95293\n",
      "epoch: 02, loss: -0.95995\n",
      "epoch: 03, loss: -0.96408\n",
      "epoch: 04, loss: -0.96693\n",
      "epoch: 05, loss: -0.96905\n",
      "epoch: 06, loss: -0.97071\n",
      "epoch: 07, loss: -0.97205\n",
      "epoch: 08, loss: -0.97321\n",
      "epoch: 09, loss: -0.97416\n",
      "torch.Size([1024, 64])\n"
     ]
    },
    {
     "name": "stderr",
     "output_type": "stream",
     "text": [
      " 51%|█████▏    | 513/999 [7:01:40<6:25:58, 47.65s/it]"
     ]
    },
    {
     "name": "stdout",
     "output_type": "stream",
     "text": [
      "eigenvalues shape torch.Size([5]) eigenvectors shape torch.Size([5, 1024])\n",
      "513 /home/phdcs2/Hard_Disk/Datasets/Deep-Spectral-Segmentation/data/object-segmentation/ECSSD/features/0515_resized.pth\n",
      "dict_keys(['k', 'indices', 'file', 'id', 'model_name', 'patch_size', 'shape'])\n",
      "0515_resized\n",
      "Starting Training\n",
      "epoch: 00, loss: -0.90929\n",
      "epoch: 01, loss: -0.94671\n",
      "epoch: 02, loss: -0.95496\n",
      "epoch: 03, loss: -0.95966\n",
      "epoch: 04, loss: -0.96296\n",
      "epoch: 05, loss: -0.96526\n",
      "epoch: 06, loss: -0.96714\n",
      "epoch: 07, loss: -0.96865\n",
      "epoch: 08, loss: -0.96992\n",
      "epoch: 09, loss: -0.97102\n",
      "torch.Size([1024, 64])\n"
     ]
    },
    {
     "name": "stderr",
     "output_type": "stream",
     "text": [
      " 51%|█████▏    | 514/999 [7:02:27<6:22:44, 47.35s/it]"
     ]
    },
    {
     "name": "stdout",
     "output_type": "stream",
     "text": [
      "eigenvalues shape torch.Size([5]) eigenvectors shape torch.Size([5, 1024])\n",
      "514 /home/phdcs2/Hard_Disk/Datasets/Deep-Spectral-Segmentation/data/object-segmentation/ECSSD/features/0516_resized.pth\n",
      "dict_keys(['k', 'indices', 'file', 'id', 'model_name', 'patch_size', 'shape'])\n",
      "0516_resized\n",
      "Starting Training\n",
      "epoch: 00, loss: -0.89825\n",
      "epoch: 01, loss: -0.93682\n",
      "epoch: 02, loss: -0.94699\n",
      "epoch: 03, loss: -0.95295\n",
      "epoch: 04, loss: -0.95700\n",
      "epoch: 05, loss: -0.96002\n",
      "epoch: 06, loss: -0.96234\n",
      "epoch: 07, loss: -0.96421\n",
      "epoch: 08, loss: -0.96574\n",
      "epoch: 09, loss: -0.96708\n",
      "torch.Size([1024, 64])\n"
     ]
    },
    {
     "name": "stderr",
     "output_type": "stream",
     "text": [
      " 52%|█████▏    | 515/999 [7:03:12<6:15:32, 46.55s/it]"
     ]
    },
    {
     "name": "stdout",
     "output_type": "stream",
     "text": [
      "eigenvalues shape torch.Size([5]) eigenvectors shape torch.Size([5, 1024])\n",
      "515 /home/phdcs2/Hard_Disk/Datasets/Deep-Spectral-Segmentation/data/object-segmentation/ECSSD/features/0517_resized.pth\n",
      "dict_keys(['k', 'indices', 'file', 'id', 'model_name', 'patch_size', 'shape'])\n",
      "0517_resized\n",
      "Starting Training\n",
      "epoch: 00, loss: -0.91627\n",
      "epoch: 01, loss: -0.95140\n",
      "epoch: 02, loss: -0.95948\n",
      "epoch: 03, loss: -0.96406\n",
      "epoch: 04, loss: -0.96707\n",
      "epoch: 05, loss: -0.96945\n",
      "epoch: 06, loss: -0.97120\n",
      "epoch: 07, loss: -0.97259\n",
      "epoch: 08, loss: -0.97379\n",
      "epoch: 09, loss: -0.97479\n",
      "torch.Size([1024, 64])\n"
     ]
    },
    {
     "name": "stderr",
     "output_type": "stream",
     "text": [
      " 52%|█████▏    | 516/999 [7:04:03<6:27:18, 48.11s/it]"
     ]
    },
    {
     "name": "stdout",
     "output_type": "stream",
     "text": [
      "eigenvalues shape torch.Size([5]) eigenvectors shape torch.Size([5, 1024])\n",
      "516 /home/phdcs2/Hard_Disk/Datasets/Deep-Spectral-Segmentation/data/object-segmentation/ECSSD/features/0518_resized.pth\n",
      "dict_keys(['k', 'indices', 'file', 'id', 'model_name', 'patch_size', 'shape'])\n",
      "0518_resized\n",
      "Starting Training\n",
      "epoch: 00, loss: -0.88673\n",
      "epoch: 01, loss: -0.92986\n",
      "epoch: 02, loss: -0.94158\n",
      "epoch: 03, loss: -0.94830\n",
      "epoch: 04, loss: -0.95275\n",
      "epoch: 05, loss: -0.95605\n",
      "epoch: 06, loss: -0.95857\n",
      "epoch: 07, loss: -0.96060\n",
      "epoch: 08, loss: -0.96239\n",
      "epoch: 09, loss: -0.96388\n",
      "torch.Size([1024, 64])\n"
     ]
    },
    {
     "name": "stderr",
     "output_type": "stream",
     "text": [
      " 52%|█████▏    | 517/999 [7:04:52<6:27:45, 48.27s/it]"
     ]
    },
    {
     "name": "stdout",
     "output_type": "stream",
     "text": [
      "eigenvalues shape torch.Size([5]) eigenvectors shape torch.Size([5, 1024])\n",
      "517 /home/phdcs2/Hard_Disk/Datasets/Deep-Spectral-Segmentation/data/object-segmentation/ECSSD/features/0519_resized.pth\n",
      "dict_keys(['k', 'indices', 'file', 'id', 'model_name', 'patch_size', 'shape'])\n",
      "0519_resized\n",
      "Starting Training\n",
      "epoch: 00, loss: -0.89885\n",
      "epoch: 01, loss: -0.93829\n",
      "epoch: 02, loss: -0.94834\n",
      "epoch: 03, loss: -0.95428\n",
      "epoch: 04, loss: -0.95822\n",
      "epoch: 05, loss: -0.96103\n",
      "epoch: 06, loss: -0.96316\n",
      "epoch: 07, loss: -0.96501\n",
      "epoch: 08, loss: -0.96648\n",
      "epoch: 09, loss: -0.96778\n",
      "torch.Size([1024, 64])\n"
     ]
    },
    {
     "name": "stderr",
     "output_type": "stream",
     "text": [
      " 52%|█████▏    | 518/999 [7:05:38<6:22:18, 47.69s/it]"
     ]
    },
    {
     "name": "stdout",
     "output_type": "stream",
     "text": [
      "eigenvalues shape torch.Size([5]) eigenvectors shape torch.Size([5, 1024])\n",
      "518 /home/phdcs2/Hard_Disk/Datasets/Deep-Spectral-Segmentation/data/object-segmentation/ECSSD/features/0520_resized.pth\n",
      "dict_keys(['k', 'indices', 'file', 'id', 'model_name', 'patch_size', 'shape'])\n",
      "0520_resized\n",
      "Starting Training\n",
      "epoch: 00, loss: -0.87227\n",
      "epoch: 01, loss: -0.92253\n",
      "epoch: 02, loss: -0.93635\n",
      "epoch: 03, loss: -0.94398\n",
      "epoch: 04, loss: -0.94921\n",
      "epoch: 05, loss: -0.95304\n",
      "epoch: 06, loss: -0.95607\n",
      "epoch: 07, loss: -0.95840\n",
      "epoch: 08, loss: -0.96019\n",
      "epoch: 09, loss: -0.96193\n",
      "torch.Size([1024, 64])\n"
     ]
    },
    {
     "name": "stderr",
     "output_type": "stream",
     "text": [
      " 52%|█████▏    | 519/999 [7:06:26<6:21:05, 47.64s/it]"
     ]
    },
    {
     "name": "stdout",
     "output_type": "stream",
     "text": [
      "eigenvalues shape torch.Size([5]) eigenvectors shape torch.Size([5, 1024])\n",
      "519 /home/phdcs2/Hard_Disk/Datasets/Deep-Spectral-Segmentation/data/object-segmentation/ECSSD/features/0521_resized.pth\n",
      "dict_keys(['k', 'indices', 'file', 'id', 'model_name', 'patch_size', 'shape'])\n",
      "0521_resized\n",
      "Starting Training\n",
      "epoch: 00, loss: -0.91069\n",
      "epoch: 01, loss: -0.94864\n",
      "epoch: 02, loss: -0.95705\n",
      "epoch: 03, loss: -0.96188\n",
      "epoch: 04, loss: -0.96513\n",
      "epoch: 05, loss: -0.96758\n",
      "epoch: 06, loss: -0.96944\n",
      "epoch: 07, loss: -0.97099\n",
      "epoch: 08, loss: -0.97227\n",
      "epoch: 09, loss: -0.97337\n",
      "torch.Size([1024, 64])\n"
     ]
    },
    {
     "name": "stderr",
     "output_type": "stream",
     "text": [
      " 52%|█████▏    | 520/999 [7:07:08<6:08:17, 46.13s/it]"
     ]
    },
    {
     "name": "stdout",
     "output_type": "stream",
     "text": [
      "eigenvalues shape torch.Size([5]) eigenvectors shape torch.Size([5, 1024])\n",
      "520 /home/phdcs2/Hard_Disk/Datasets/Deep-Spectral-Segmentation/data/object-segmentation/ECSSD/features/0522_resized.pth\n",
      "dict_keys(['k', 'indices', 'file', 'id', 'model_name', 'patch_size', 'shape'])\n",
      "0522_resized\n",
      "Starting Training\n",
      "epoch: 00, loss: -0.92252\n",
      "epoch: 01, loss: -0.95512\n",
      "epoch: 02, loss: -0.96207\n",
      "epoch: 03, loss: -0.96610\n",
      "epoch: 04, loss: -0.96882\n",
      "epoch: 05, loss: -0.97088\n",
      "epoch: 06, loss: -0.97246\n",
      "epoch: 07, loss: -0.97377\n",
      "epoch: 08, loss: -0.97485\n",
      "epoch: 09, loss: -0.97578\n",
      "torch.Size([1024, 64])\n"
     ]
    },
    {
     "name": "stderr",
     "output_type": "stream",
     "text": [
      " 52%|█████▏    | 521/999 [7:08:01<6:22:01, 47.95s/it]"
     ]
    },
    {
     "name": "stdout",
     "output_type": "stream",
     "text": [
      "eigenvalues shape torch.Size([5]) eigenvectors shape torch.Size([5, 1024])\n",
      "521 /home/phdcs2/Hard_Disk/Datasets/Deep-Spectral-Segmentation/data/object-segmentation/ECSSD/features/0523_resized.pth\n",
      "dict_keys(['k', 'indices', 'file', 'id', 'model_name', 'patch_size', 'shape'])\n",
      "0523_resized\n",
      "Starting Training\n",
      "epoch: 00, loss: -0.89799\n",
      "epoch: 01, loss: -0.93807\n",
      "epoch: 02, loss: -0.94833\n",
      "epoch: 03, loss: -0.95442\n",
      "epoch: 04, loss: -0.95847\n",
      "epoch: 05, loss: -0.96138\n",
      "epoch: 06, loss: -0.96373\n",
      "epoch: 07, loss: -0.96562\n",
      "epoch: 08, loss: -0.96709\n",
      "epoch: 09, loss: -0.96842\n",
      "torch.Size([1024, 64])\n"
     ]
    },
    {
     "name": "stderr",
     "output_type": "stream",
     "text": [
      " 52%|█████▏    | 522/999 [7:08:48<6:19:51, 47.78s/it]"
     ]
    },
    {
     "name": "stdout",
     "output_type": "stream",
     "text": [
      "eigenvalues shape torch.Size([5]) eigenvectors shape torch.Size([5, 1024])\n",
      "522 /home/phdcs2/Hard_Disk/Datasets/Deep-Spectral-Segmentation/data/object-segmentation/ECSSD/features/0524_resized.pth\n",
      "dict_keys(['k', 'indices', 'file', 'id', 'model_name', 'patch_size', 'shape'])\n",
      "0524_resized\n",
      "Starting Training\n",
      "epoch: 00, loss: -0.88788\n",
      "epoch: 01, loss: -0.93323\n",
      "epoch: 02, loss: -0.94434\n",
      "epoch: 03, loss: -0.95051\n",
      "epoch: 04, loss: -0.95493\n",
      "epoch: 05, loss: -0.95817\n",
      "epoch: 06, loss: -0.96066\n",
      "epoch: 07, loss: -0.96270\n",
      "epoch: 08, loss: -0.96439\n",
      "epoch: 09, loss: -0.96578\n",
      "torch.Size([1024, 64])\n"
     ]
    },
    {
     "name": "stderr",
     "output_type": "stream",
     "text": [
      " 52%|█████▏    | 523/999 [7:09:31<6:07:18, 46.30s/it]"
     ]
    },
    {
     "name": "stdout",
     "output_type": "stream",
     "text": [
      "eigenvalues shape torch.Size([5]) eigenvectors shape torch.Size([5, 1024])\n",
      "523 /home/phdcs2/Hard_Disk/Datasets/Deep-Spectral-Segmentation/data/object-segmentation/ECSSD/features/0525_resized.pth\n",
      "dict_keys(['k', 'indices', 'file', 'id', 'model_name', 'patch_size', 'shape'])\n",
      "0525_resized\n",
      "Starting Training\n",
      "epoch: 00, loss: -0.90869\n",
      "epoch: 01, loss: -0.94560\n",
      "epoch: 02, loss: -0.95423\n",
      "epoch: 03, loss: -0.95929\n",
      "epoch: 04, loss: -0.96277\n",
      "epoch: 05, loss: -0.96533\n",
      "epoch: 06, loss: -0.96734\n",
      "epoch: 07, loss: -0.96899\n",
      "epoch: 08, loss: -0.97036\n",
      "epoch: 09, loss: -0.97153\n",
      "torch.Size([1024, 64])\n"
     ]
    },
    {
     "name": "stderr",
     "output_type": "stream",
     "text": [
      " 52%|█████▏    | 524/999 [7:10:29<6:34:46, 49.87s/it]"
     ]
    },
    {
     "name": "stdout",
     "output_type": "stream",
     "text": [
      "eigenvalues shape torch.Size([5]) eigenvectors shape torch.Size([5, 1024])\n",
      "524 /home/phdcs2/Hard_Disk/Datasets/Deep-Spectral-Segmentation/data/object-segmentation/ECSSD/features/0526_resized.pth\n",
      "dict_keys(['k', 'indices', 'file', 'id', 'model_name', 'patch_size', 'shape'])\n",
      "0526_resized\n",
      "Starting Training\n",
      "epoch: 00, loss: -0.91897\n",
      "epoch: 01, loss: -0.95268\n",
      "epoch: 02, loss: -0.96008\n",
      "epoch: 03, loss: -0.96440\n",
      "epoch: 04, loss: -0.96733\n",
      "epoch: 05, loss: -0.96949\n",
      "epoch: 06, loss: -0.97119\n",
      "epoch: 07, loss: -0.97254\n",
      "epoch: 08, loss: -0.97370\n",
      "epoch: 09, loss: -0.97467\n",
      "torch.Size([1024, 64])\n"
     ]
    },
    {
     "name": "stderr",
     "output_type": "stream",
     "text": [
      " 53%|█████▎    | 525/999 [7:11:23<6:43:14, 51.04s/it]"
     ]
    },
    {
     "name": "stdout",
     "output_type": "stream",
     "text": [
      "eigenvalues shape torch.Size([5]) eigenvectors shape torch.Size([5, 1024])\n",
      "525 /home/phdcs2/Hard_Disk/Datasets/Deep-Spectral-Segmentation/data/object-segmentation/ECSSD/features/0527_resized.pth\n",
      "dict_keys(['k', 'indices', 'file', 'id', 'model_name', 'patch_size', 'shape'])\n",
      "0527_resized\n",
      "Starting Training\n",
      "epoch: 00, loss: -0.90487\n",
      "epoch: 01, loss: -0.94297\n",
      "epoch: 02, loss: -0.95215\n",
      "epoch: 03, loss: -0.95742\n",
      "epoch: 04, loss: -0.96096\n",
      "epoch: 05, loss: -0.96366\n",
      "epoch: 06, loss: -0.96570\n",
      "epoch: 07, loss: -0.96743\n",
      "epoch: 08, loss: -0.96878\n",
      "epoch: 09, loss: -0.96995\n",
      "torch.Size([1024, 64])\n"
     ]
    },
    {
     "name": "stderr",
     "output_type": "stream",
     "text": [
      " 53%|█████▎    | 526/999 [7:12:15<6:45:59, 51.50s/it]"
     ]
    },
    {
     "name": "stdout",
     "output_type": "stream",
     "text": [
      "eigenvalues shape torch.Size([5]) eigenvectors shape torch.Size([5, 1024])\n",
      "526 /home/phdcs2/Hard_Disk/Datasets/Deep-Spectral-Segmentation/data/object-segmentation/ECSSD/features/0528_resized.pth\n",
      "dict_keys(['k', 'indices', 'file', 'id', 'model_name', 'patch_size', 'shape'])\n",
      "0528_resized\n",
      "Starting Training\n",
      "epoch: 00, loss: -0.92729\n",
      "epoch: 01, loss: -0.95663\n",
      "epoch: 02, loss: -0.96310\n",
      "epoch: 03, loss: -0.96690\n",
      "epoch: 04, loss: -0.96946\n",
      "epoch: 05, loss: -0.97143\n",
      "epoch: 06, loss: -0.97295\n",
      "epoch: 07, loss: -0.97417\n",
      "epoch: 08, loss: -0.97520\n",
      "epoch: 09, loss: -0.97609\n",
      "torch.Size([1024, 64])\n"
     ]
    },
    {
     "name": "stderr",
     "output_type": "stream",
     "text": [
      " 53%|█████▎    | 527/999 [7:13:06<6:42:40, 51.19s/it]"
     ]
    },
    {
     "name": "stdout",
     "output_type": "stream",
     "text": [
      "eigenvalues shape torch.Size([5]) eigenvectors shape torch.Size([5, 1024])\n",
      "527 /home/phdcs2/Hard_Disk/Datasets/Deep-Spectral-Segmentation/data/object-segmentation/ECSSD/features/0529_resized.pth\n",
      "dict_keys(['k', 'indices', 'file', 'id', 'model_name', 'patch_size', 'shape'])\n",
      "0529_resized\n",
      "Starting Training\n",
      "epoch: 00, loss: -0.88750\n",
      "epoch: 01, loss: -0.92962\n",
      "epoch: 02, loss: -0.94142\n",
      "epoch: 03, loss: -0.94831\n",
      "epoch: 04, loss: -0.95289\n",
      "epoch: 05, loss: -0.95627\n",
      "epoch: 06, loss: -0.95890\n",
      "epoch: 07, loss: -0.96101\n",
      "epoch: 08, loss: -0.96282\n",
      "epoch: 09, loss: -0.96438\n",
      "torch.Size([1024, 64])\n"
     ]
    },
    {
     "name": "stderr",
     "output_type": "stream",
     "text": [
      " 53%|█████▎    | 528/999 [7:13:54<6:34:31, 50.26s/it]"
     ]
    },
    {
     "name": "stdout",
     "output_type": "stream",
     "text": [
      "eigenvalues shape torch.Size([5]) eigenvectors shape torch.Size([5, 1024])\n",
      "528 /home/phdcs2/Hard_Disk/Datasets/Deep-Spectral-Segmentation/data/object-segmentation/ECSSD/features/0530_resized.pth\n",
      "dict_keys(['k', 'indices', 'file', 'id', 'model_name', 'patch_size', 'shape'])\n",
      "0530_resized\n",
      "Starting Training\n",
      "epoch: 00, loss: -0.87448\n",
      "epoch: 01, loss: -0.92576\n",
      "epoch: 02, loss: -0.93848\n",
      "epoch: 03, loss: -0.94586\n",
      "epoch: 04, loss: -0.95078\n",
      "epoch: 05, loss: -0.95436\n",
      "epoch: 06, loss: -0.95696\n",
      "epoch: 07, loss: -0.95923\n",
      "epoch: 08, loss: -0.96110\n",
      "epoch: 09, loss: -0.96260\n",
      "torch.Size([1024, 64])\n"
     ]
    },
    {
     "name": "stderr",
     "output_type": "stream",
     "text": [
      " 53%|█████▎    | 529/999 [7:14:44<6:32:11, 50.07s/it]"
     ]
    },
    {
     "name": "stdout",
     "output_type": "stream",
     "text": [
      "eigenvalues shape torch.Size([5]) eigenvectors shape torch.Size([5, 1024])\n",
      "529 /home/phdcs2/Hard_Disk/Datasets/Deep-Spectral-Segmentation/data/object-segmentation/ECSSD/features/0531_resized.pth\n",
      "dict_keys(['k', 'indices', 'file', 'id', 'model_name', 'patch_size', 'shape'])\n",
      "0531_resized\n",
      "Starting Training\n",
      "epoch: 00, loss: -0.90416\n",
      "epoch: 01, loss: -0.94126\n",
      "epoch: 02, loss: -0.95082\n",
      "epoch: 03, loss: -0.95635\n",
      "epoch: 04, loss: -0.96006\n",
      "epoch: 05, loss: -0.96275\n",
      "epoch: 06, loss: -0.96494\n",
      "epoch: 07, loss: -0.96668\n",
      "epoch: 08, loss: -0.96812\n",
      "epoch: 09, loss: -0.96941\n",
      "torch.Size([1024, 64])\n"
     ]
    },
    {
     "name": "stderr",
     "output_type": "stream",
     "text": [
      " 53%|█████▎    | 530/999 [7:15:26<6:14:02, 47.85s/it]"
     ]
    },
    {
     "name": "stdout",
     "output_type": "stream",
     "text": [
      "eigenvalues shape torch.Size([5]) eigenvectors shape torch.Size([5, 1024])\n",
      "530 /home/phdcs2/Hard_Disk/Datasets/Deep-Spectral-Segmentation/data/object-segmentation/ECSSD/features/0532_resized.pth\n",
      "dict_keys(['k', 'indices', 'file', 'id', 'model_name', 'patch_size', 'shape'])\n",
      "0532_resized\n",
      "Starting Training\n",
      "epoch: 00, loss: -0.89881\n",
      "epoch: 01, loss: -0.93920\n",
      "epoch: 02, loss: -0.94947\n",
      "epoch: 03, loss: -0.95536\n",
      "epoch: 04, loss: -0.95928\n",
      "epoch: 05, loss: -0.96217\n",
      "epoch: 06, loss: -0.96442\n",
      "epoch: 07, loss: -0.96622\n",
      "epoch: 08, loss: -0.96772\n",
      "epoch: 09, loss: -0.96900\n",
      "torch.Size([1024, 64])\n"
     ]
    },
    {
     "name": "stderr",
     "output_type": "stream",
     "text": [
      " 53%|█████▎    | 531/999 [7:16:20<6:27:58, 49.74s/it]"
     ]
    },
    {
     "name": "stdout",
     "output_type": "stream",
     "text": [
      "eigenvalues shape torch.Size([5]) eigenvectors shape torch.Size([5, 1024])\n",
      "531 /home/phdcs2/Hard_Disk/Datasets/Deep-Spectral-Segmentation/data/object-segmentation/ECSSD/features/0533_resized.pth\n",
      "dict_keys(['k', 'indices', 'file', 'id', 'model_name', 'patch_size', 'shape'])\n",
      "0533_resized\n",
      "Starting Training\n",
      "epoch: 00, loss: -0.92148\n",
      "epoch: 01, loss: -0.95237\n",
      "epoch: 02, loss: -0.95948\n",
      "epoch: 03, loss: -0.96364\n",
      "epoch: 04, loss: -0.96654\n",
      "epoch: 05, loss: -0.96872\n",
      "epoch: 06, loss: -0.97043\n",
      "epoch: 07, loss: -0.97184\n",
      "epoch: 08, loss: -0.97302\n",
      "epoch: 09, loss: -0.97401\n",
      "torch.Size([1024, 64])\n"
     ]
    },
    {
     "name": "stderr",
     "output_type": "stream",
     "text": [
      " 53%|█████▎    | 532/999 [7:17:10<6:26:43, 49.69s/it]"
     ]
    },
    {
     "name": "stdout",
     "output_type": "stream",
     "text": [
      "eigenvalues shape torch.Size([5]) eigenvectors shape torch.Size([5, 1024])\n",
      "532 /home/phdcs2/Hard_Disk/Datasets/Deep-Spectral-Segmentation/data/object-segmentation/ECSSD/features/0534_resized.pth\n",
      "dict_keys(['k', 'indices', 'file', 'id', 'model_name', 'patch_size', 'shape'])\n",
      "0534_resized\n",
      "Starting Training\n",
      "epoch: 00, loss: -0.84758\n",
      "epoch: 01, loss: -0.91104\n",
      "epoch: 02, loss: -0.92787\n",
      "epoch: 03, loss: -0.93734\n",
      "epoch: 04, loss: -0.94350\n",
      "epoch: 05, loss: -0.94796\n",
      "epoch: 06, loss: -0.95148\n",
      "epoch: 07, loss: -0.95420\n",
      "epoch: 08, loss: -0.95647\n",
      "epoch: 09, loss: -0.95847\n",
      "torch.Size([1024, 64])\n"
     ]
    },
    {
     "name": "stderr",
     "output_type": "stream",
     "text": [
      " 53%|█████▎    | 533/999 [7:17:58<6:22:16, 49.22s/it]"
     ]
    },
    {
     "name": "stdout",
     "output_type": "stream",
     "text": [
      "eigenvalues shape torch.Size([5]) eigenvectors shape torch.Size([5, 1024])\n",
      "533 /home/phdcs2/Hard_Disk/Datasets/Deep-Spectral-Segmentation/data/object-segmentation/ECSSD/features/0535_resized.pth\n",
      "dict_keys(['k', 'indices', 'file', 'id', 'model_name', 'patch_size', 'shape'])\n",
      "0535_resized\n",
      "Starting Training\n",
      "epoch: 00, loss: -0.90755\n",
      "epoch: 01, loss: -0.94606\n",
      "epoch: 02, loss: -0.95483\n",
      "epoch: 03, loss: -0.95972\n",
      "epoch: 04, loss: -0.96330\n",
      "epoch: 05, loss: -0.96581\n",
      "epoch: 06, loss: -0.96773\n",
      "epoch: 07, loss: -0.96938\n",
      "epoch: 08, loss: -0.97068\n",
      "epoch: 09, loss: -0.97187\n",
      "torch.Size([1024, 64])\n"
     ]
    },
    {
     "name": "stderr",
     "output_type": "stream",
     "text": [
      " 53%|█████▎    | 534/999 [7:18:42<6:10:17, 47.78s/it]"
     ]
    },
    {
     "name": "stdout",
     "output_type": "stream",
     "text": [
      "eigenvalues shape torch.Size([5]) eigenvectors shape torch.Size([5, 1024])\n",
      "534 /home/phdcs2/Hard_Disk/Datasets/Deep-Spectral-Segmentation/data/object-segmentation/ECSSD/features/0536_resized.pth\n",
      "dict_keys(['k', 'indices', 'file', 'id', 'model_name', 'patch_size', 'shape'])\n",
      "0536_resized\n",
      "Starting Training\n",
      "epoch: 00, loss: -0.90594\n",
      "epoch: 01, loss: -0.94259\n",
      "epoch: 02, loss: -0.95201\n",
      "epoch: 03, loss: -0.95745\n",
      "epoch: 04, loss: -0.96114\n",
      "epoch: 05, loss: -0.96389\n",
      "epoch: 06, loss: -0.96600\n",
      "epoch: 07, loss: -0.96774\n",
      "epoch: 08, loss: -0.96918\n",
      "epoch: 09, loss: -0.97041\n",
      "torch.Size([1024, 64])\n"
     ]
    },
    {
     "name": "stderr",
     "output_type": "stream",
     "text": [
      " 54%|█████▎    | 535/999 [7:19:38<6:26:34, 49.99s/it]"
     ]
    },
    {
     "name": "stdout",
     "output_type": "stream",
     "text": [
      "eigenvalues shape torch.Size([5]) eigenvectors shape torch.Size([5, 1024])\n",
      "535 /home/phdcs2/Hard_Disk/Datasets/Deep-Spectral-Segmentation/data/object-segmentation/ECSSD/features/0537_resized.pth\n",
      "dict_keys(['k', 'indices', 'file', 'id', 'model_name', 'patch_size', 'shape'])\n",
      "0537_resized\n",
      "Starting Training\n",
      "epoch: 00, loss: -0.92064\n",
      "epoch: 01, loss: -0.95044\n",
      "epoch: 02, loss: -0.95756\n",
      "epoch: 03, loss: -0.96178\n",
      "epoch: 04, loss: -0.96466\n",
      "epoch: 05, loss: -0.96681\n",
      "epoch: 06, loss: -0.96851\n",
      "epoch: 07, loss: -0.96993\n",
      "epoch: 08, loss: -0.97109\n",
      "epoch: 09, loss: -0.97209\n",
      "torch.Size([1024, 64])\n"
     ]
    },
    {
     "name": "stderr",
     "output_type": "stream",
     "text": [
      " 54%|█████▎    | 536/999 [7:20:29<6:28:43, 50.37s/it]"
     ]
    },
    {
     "name": "stdout",
     "output_type": "stream",
     "text": [
      "eigenvalues shape torch.Size([5]) eigenvectors shape torch.Size([5, 1024])\n",
      "536 /home/phdcs2/Hard_Disk/Datasets/Deep-Spectral-Segmentation/data/object-segmentation/ECSSD/features/0538_resized.pth\n",
      "dict_keys(['k', 'indices', 'file', 'id', 'model_name', 'patch_size', 'shape'])\n",
      "0538_resized\n",
      "Starting Training\n",
      "epoch: 00, loss: -0.88911\n",
      "epoch: 01, loss: -0.93290\n",
      "epoch: 02, loss: -0.94417\n",
      "epoch: 03, loss: -0.95045\n",
      "epoch: 04, loss: -0.95460\n",
      "epoch: 05, loss: -0.95759\n",
      "epoch: 06, loss: -0.96004\n",
      "epoch: 07, loss: -0.96193\n",
      "epoch: 08, loss: -0.96350\n",
      "epoch: 09, loss: -0.96486\n",
      "torch.Size([1024, 64])\n"
     ]
    },
    {
     "name": "stderr",
     "output_type": "stream",
     "text": [
      " 54%|█████▍    | 537/999 [7:21:17<6:22:13, 49.64s/it]"
     ]
    },
    {
     "name": "stdout",
     "output_type": "stream",
     "text": [
      "eigenvalues shape torch.Size([5]) eigenvectors shape torch.Size([5, 1024])\n",
      "537 /home/phdcs2/Hard_Disk/Datasets/Deep-Spectral-Segmentation/data/object-segmentation/ECSSD/features/0539_resized.pth\n",
      "dict_keys(['k', 'indices', 'file', 'id', 'model_name', 'patch_size', 'shape'])\n",
      "0539_resized\n",
      "Starting Training\n",
      "epoch: 00, loss: -0.91449\n",
      "epoch: 01, loss: -0.94834\n",
      "epoch: 02, loss: -0.95662\n",
      "epoch: 03, loss: -0.96150\n",
      "epoch: 04, loss: -0.96472\n",
      "epoch: 05, loss: -0.96703\n",
      "epoch: 06, loss: -0.96891\n",
      "epoch: 07, loss: -0.97045\n",
      "epoch: 08, loss: -0.97170\n",
      "epoch: 09, loss: -0.97279\n",
      "torch.Size([1024, 64])\n"
     ]
    },
    {
     "name": "stderr",
     "output_type": "stream",
     "text": [
      " 54%|█████▍    | 538/999 [7:22:01<6:09:26, 48.08s/it]"
     ]
    },
    {
     "name": "stdout",
     "output_type": "stream",
     "text": [
      "eigenvalues shape torch.Size([5]) eigenvectors shape torch.Size([5, 1024])\n",
      "538 /home/phdcs2/Hard_Disk/Datasets/Deep-Spectral-Segmentation/data/object-segmentation/ECSSD/features/0540_resized.pth\n",
      "dict_keys(['k', 'indices', 'file', 'id', 'model_name', 'patch_size', 'shape'])\n",
      "0540_resized\n",
      "Starting Training\n",
      "epoch: 00, loss: -0.93863\n",
      "epoch: 01, loss: -0.96435\n",
      "epoch: 02, loss: -0.96973\n",
      "epoch: 03, loss: -0.97287\n",
      "epoch: 04, loss: -0.97499\n",
      "epoch: 05, loss: -0.97658\n",
      "epoch: 06, loss: -0.97782\n",
      "epoch: 07, loss: -0.97882\n",
      "epoch: 08, loss: -0.97969\n",
      "epoch: 09, loss: -0.98041\n",
      "torch.Size([1024, 64])\n"
     ]
    },
    {
     "name": "stderr",
     "output_type": "stream",
     "text": [
      " 54%|█████▍    | 539/999 [7:22:54<6:19:07, 49.45s/it]"
     ]
    },
    {
     "name": "stdout",
     "output_type": "stream",
     "text": [
      "eigenvalues shape torch.Size([5]) eigenvectors shape torch.Size([5, 1024])\n",
      "539 /home/phdcs2/Hard_Disk/Datasets/Deep-Spectral-Segmentation/data/object-segmentation/ECSSD/features/0541_resized.pth\n",
      "dict_keys(['k', 'indices', 'file', 'id', 'model_name', 'patch_size', 'shape'])\n",
      "0541_resized\n",
      "Starting Training\n",
      "epoch: 00, loss: -0.92018\n",
      "epoch: 01, loss: -0.95091\n",
      "epoch: 02, loss: -0.95815\n",
      "epoch: 03, loss: -0.96242\n",
      "epoch: 04, loss: -0.96531\n",
      "epoch: 05, loss: -0.96750\n",
      "epoch: 06, loss: -0.96919\n",
      "epoch: 07, loss: -0.97061\n",
      "epoch: 08, loss: -0.97178\n",
      "epoch: 09, loss: -0.97275\n",
      "torch.Size([1024, 64])\n"
     ]
    },
    {
     "name": "stderr",
     "output_type": "stream",
     "text": [
      " 54%|█████▍    | 540/999 [7:23:42<6:14:13, 48.92s/it]"
     ]
    },
    {
     "name": "stdout",
     "output_type": "stream",
     "text": [
      "eigenvalues shape torch.Size([5]) eigenvectors shape torch.Size([5, 1024])\n",
      "540 /home/phdcs2/Hard_Disk/Datasets/Deep-Spectral-Segmentation/data/object-segmentation/ECSSD/features/0542_resized.pth\n",
      "dict_keys(['k', 'indices', 'file', 'id', 'model_name', 'patch_size', 'shape'])\n",
      "0542_resized\n",
      "Starting Training\n",
      "epoch: 00, loss: -0.92470\n",
      "epoch: 01, loss: -0.95547\n",
      "epoch: 02, loss: -0.96225\n",
      "epoch: 03, loss: -0.96624\n",
      "epoch: 04, loss: -0.96887\n",
      "epoch: 05, loss: -0.97091\n",
      "epoch: 06, loss: -0.97248\n",
      "epoch: 07, loss: -0.97375\n",
      "epoch: 08, loss: -0.97486\n",
      "epoch: 09, loss: -0.97576\n",
      "torch.Size([1024, 64])\n"
     ]
    },
    {
     "name": "stderr",
     "output_type": "stream",
     "text": [
      " 54%|█████▍    | 541/999 [7:24:37<6:27:25, 50.75s/it]"
     ]
    },
    {
     "name": "stdout",
     "output_type": "stream",
     "text": [
      "eigenvalues shape torch.Size([5]) eigenvectors shape torch.Size([5, 1024])\n",
      "541 /home/phdcs2/Hard_Disk/Datasets/Deep-Spectral-Segmentation/data/object-segmentation/ECSSD/features/0543_resized.pth\n",
      "dict_keys(['k', 'indices', 'file', 'id', 'model_name', 'patch_size', 'shape'])\n",
      "0543_resized\n",
      "Starting Training\n",
      "epoch: 00, loss: -0.88467\n",
      "epoch: 01, loss: -0.93349\n",
      "epoch: 02, loss: -0.94514\n",
      "epoch: 03, loss: -0.95173\n",
      "epoch: 04, loss: -0.95609\n",
      "epoch: 05, loss: -0.95929\n",
      "epoch: 06, loss: -0.96181\n",
      "epoch: 07, loss: -0.96383\n",
      "epoch: 08, loss: -0.96549\n",
      "epoch: 09, loss: -0.96691\n",
      "torch.Size([1024, 64])\n"
     ]
    },
    {
     "name": "stderr",
     "output_type": "stream",
     "text": [
      " 54%|█████▍    | 542/999 [7:25:32<6:36:02, 52.00s/it]"
     ]
    },
    {
     "name": "stdout",
     "output_type": "stream",
     "text": [
      "eigenvalues shape torch.Size([5]) eigenvectors shape torch.Size([5, 1024])\n",
      "542 /home/phdcs2/Hard_Disk/Datasets/Deep-Spectral-Segmentation/data/object-segmentation/ECSSD/features/0544_resized.pth\n",
      "dict_keys(['k', 'indices', 'file', 'id', 'model_name', 'patch_size', 'shape'])\n",
      "0544_resized\n",
      "Starting Training\n",
      "epoch: 00, loss: -0.87349\n",
      "epoch: 01, loss: -0.92557\n",
      "epoch: 02, loss: -0.93891\n",
      "epoch: 03, loss: -0.94652\n",
      "epoch: 04, loss: -0.95147\n",
      "epoch: 05, loss: -0.95502\n",
      "epoch: 06, loss: -0.95774\n",
      "epoch: 07, loss: -0.95994\n",
      "epoch: 08, loss: -0.96187\n",
      "epoch: 09, loss: -0.96333\n",
      "torch.Size([1024, 64])\n"
     ]
    },
    {
     "name": "stderr",
     "output_type": "stream",
     "text": [
      " 54%|█████▍    | 543/999 [7:26:22<6:32:27, 51.64s/it]"
     ]
    },
    {
     "name": "stdout",
     "output_type": "stream",
     "text": [
      "eigenvalues shape torch.Size([5]) eigenvectors shape torch.Size([5, 1024])\n",
      "543 /home/phdcs2/Hard_Disk/Datasets/Deep-Spectral-Segmentation/data/object-segmentation/ECSSD/features/0545_resized.pth\n",
      "dict_keys(['k', 'indices', 'file', 'id', 'model_name', 'patch_size', 'shape'])\n",
      "0545_resized\n",
      "Starting Training\n",
      "epoch: 00, loss: -0.87662\n",
      "epoch: 01, loss: -0.92703\n",
      "epoch: 02, loss: -0.93982\n",
      "epoch: 03, loss: -0.94709\n",
      "epoch: 04, loss: -0.95209\n",
      "epoch: 05, loss: -0.95563\n",
      "epoch: 06, loss: -0.95841\n",
      "epoch: 07, loss: -0.96065\n",
      "epoch: 08, loss: -0.96243\n",
      "epoch: 09, loss: -0.96396\n",
      "torch.Size([1024, 64])\n"
     ]
    },
    {
     "name": "stderr",
     "output_type": "stream",
     "text": [
      " 54%|█████▍    | 544/999 [7:27:10<6:23:18, 50.55s/it]"
     ]
    },
    {
     "name": "stdout",
     "output_type": "stream",
     "text": [
      "eigenvalues shape torch.Size([5]) eigenvectors shape torch.Size([5, 1024])\n",
      "544 /home/phdcs2/Hard_Disk/Datasets/Deep-Spectral-Segmentation/data/object-segmentation/ECSSD/features/0546_resized.pth\n",
      "dict_keys(['k', 'indices', 'file', 'id', 'model_name', 'patch_size', 'shape'])\n",
      "0546_resized\n",
      "Starting Training\n",
      "epoch: 00, loss: -0.89034\n",
      "epoch: 01, loss: -0.93612\n",
      "epoch: 02, loss: -0.94669\n",
      "epoch: 03, loss: -0.95253\n",
      "epoch: 04, loss: -0.95652\n",
      "epoch: 05, loss: -0.95948\n",
      "epoch: 06, loss: -0.96184\n",
      "epoch: 07, loss: -0.96372\n",
      "epoch: 08, loss: -0.96526\n",
      "epoch: 09, loss: -0.96660\n",
      "torch.Size([1024, 64])\n"
     ]
    },
    {
     "name": "stderr",
     "output_type": "stream",
     "text": [
      " 55%|█████▍    | 545/999 [7:27:56<6:12:04, 49.17s/it]"
     ]
    },
    {
     "name": "stdout",
     "output_type": "stream",
     "text": [
      "eigenvalues shape torch.Size([5]) eigenvectors shape torch.Size([5, 1024])\n",
      "545 /home/phdcs2/Hard_Disk/Datasets/Deep-Spectral-Segmentation/data/object-segmentation/ECSSD/features/0547_resized.pth\n",
      "dict_keys(['k', 'indices', 'file', 'id', 'model_name', 'patch_size', 'shape'])\n",
      "0547_resized\n",
      "Starting Training\n",
      "epoch: 00, loss: -0.91797\n",
      "epoch: 01, loss: -0.95488\n",
      "epoch: 02, loss: -0.96182\n",
      "epoch: 03, loss: -0.96582\n",
      "epoch: 04, loss: -0.96857\n",
      "epoch: 05, loss: -0.97056\n",
      "epoch: 06, loss: -0.97218\n",
      "epoch: 07, loss: -0.97346\n",
      "epoch: 08, loss: -0.97457\n",
      "epoch: 09, loss: -0.97550\n",
      "torch.Size([1024, 64])\n"
     ]
    },
    {
     "name": "stderr",
     "output_type": "stream",
     "text": [
      " 55%|█████▍    | 546/999 [7:28:47<6:15:34, 49.75s/it]"
     ]
    },
    {
     "name": "stdout",
     "output_type": "stream",
     "text": [
      "eigenvalues shape torch.Size([5]) eigenvectors shape torch.Size([5, 1024])\n",
      "546 /home/phdcs2/Hard_Disk/Datasets/Deep-Spectral-Segmentation/data/object-segmentation/ECSSD/features/0548_resized.pth\n",
      "dict_keys(['k', 'indices', 'file', 'id', 'model_name', 'patch_size', 'shape'])\n",
      "0548_resized\n",
      "Starting Training\n",
      "epoch: 00, loss: -0.91923\n",
      "epoch: 01, loss: -0.94954\n",
      "epoch: 02, loss: -0.95735\n",
      "epoch: 03, loss: -0.96180\n",
      "epoch: 04, loss: -0.96490\n",
      "epoch: 05, loss: -0.96723\n",
      "epoch: 06, loss: -0.96901\n",
      "epoch: 07, loss: -0.97052\n",
      "epoch: 08, loss: -0.97176\n",
      "epoch: 09, loss: -0.97282\n",
      "torch.Size([1024, 64])\n"
     ]
    },
    {
     "name": "stderr",
     "output_type": "stream",
     "text": [
      " 55%|█████▍    | 547/999 [7:29:40<6:21:33, 50.65s/it]"
     ]
    },
    {
     "name": "stdout",
     "output_type": "stream",
     "text": [
      "eigenvalues shape torch.Size([5]) eigenvectors shape torch.Size([5, 1024])\n",
      "547 /home/phdcs2/Hard_Disk/Datasets/Deep-Spectral-Segmentation/data/object-segmentation/ECSSD/features/0549_resized.pth\n",
      "dict_keys(['k', 'indices', 'file', 'id', 'model_name', 'patch_size', 'shape'])\n",
      "0549_resized\n",
      "Starting Training\n",
      "epoch: 00, loss: -0.91492\n",
      "epoch: 01, loss: -0.94802\n",
      "epoch: 02, loss: -0.95601\n",
      "epoch: 03, loss: -0.96069\n",
      "epoch: 04, loss: -0.96391\n",
      "epoch: 05, loss: -0.96636\n",
      "epoch: 06, loss: -0.96826\n",
      "epoch: 07, loss: -0.96981\n",
      "epoch: 08, loss: -0.97110\n",
      "epoch: 09, loss: -0.97220\n",
      "torch.Size([1024, 64])\n"
     ]
    },
    {
     "name": "stderr",
     "output_type": "stream",
     "text": [
      " 55%|█████▍    | 548/999 [7:30:25<6:06:50, 48.80s/it]"
     ]
    },
    {
     "name": "stdout",
     "output_type": "stream",
     "text": [
      "eigenvalues shape torch.Size([5]) eigenvectors shape torch.Size([5, 1024])\n",
      "548 /home/phdcs2/Hard_Disk/Datasets/Deep-Spectral-Segmentation/data/object-segmentation/ECSSD/features/0550_resized.pth\n",
      "dict_keys(['k', 'indices', 'file', 'id', 'model_name', 'patch_size', 'shape'])\n",
      "0550_resized\n",
      "Starting Training\n",
      "epoch: 00, loss: -0.93818\n",
      "epoch: 01, loss: -0.96428\n",
      "epoch: 02, loss: -0.97009\n",
      "epoch: 03, loss: -0.97345\n",
      "epoch: 04, loss: -0.97576\n",
      "epoch: 05, loss: -0.97748\n",
      "epoch: 06, loss: -0.97882\n",
      "epoch: 07, loss: -0.97988\n",
      "epoch: 08, loss: -0.98081\n",
      "epoch: 09, loss: -0.98160\n",
      "torch.Size([1024, 64])\n"
     ]
    },
    {
     "name": "stderr",
     "output_type": "stream",
     "text": [
      " 55%|█████▍    | 549/999 [7:31:08<5:52:58, 47.06s/it]"
     ]
    },
    {
     "name": "stdout",
     "output_type": "stream",
     "text": [
      "eigenvalues shape torch.Size([5]) eigenvectors shape torch.Size([5, 1024])\n",
      "549 /home/phdcs2/Hard_Disk/Datasets/Deep-Spectral-Segmentation/data/object-segmentation/ECSSD/features/0551_resized.pth\n",
      "dict_keys(['k', 'indices', 'file', 'id', 'model_name', 'patch_size', 'shape'])\n",
      "0551_resized\n",
      "Starting Training\n",
      "epoch: 00, loss: -0.90848\n",
      "epoch: 01, loss: -0.94468\n",
      "epoch: 02, loss: -0.95332\n",
      "epoch: 03, loss: -0.95830\n",
      "epoch: 04, loss: -0.96170\n",
      "epoch: 05, loss: -0.96425\n",
      "epoch: 06, loss: -0.96622\n",
      "epoch: 07, loss: -0.96784\n",
      "epoch: 08, loss: -0.96919\n",
      "epoch: 09, loss: -0.97034\n",
      "torch.Size([1024, 64])\n"
     ]
    },
    {
     "name": "stderr",
     "output_type": "stream",
     "text": [
      " 55%|█████▌    | 550/999 [7:32:02<6:08:34, 49.25s/it]"
     ]
    },
    {
     "name": "stdout",
     "output_type": "stream",
     "text": [
      "eigenvalues shape torch.Size([5]) eigenvectors shape torch.Size([5, 1024])\n",
      "550 /home/phdcs2/Hard_Disk/Datasets/Deep-Spectral-Segmentation/data/object-segmentation/ECSSD/features/0552_resized.pth\n",
      "dict_keys(['k', 'indices', 'file', 'id', 'model_name', 'patch_size', 'shape'])\n",
      "0552_resized\n",
      "Starting Training\n",
      "epoch: 00, loss: -0.94019\n",
      "epoch: 01, loss: -0.96181\n",
      "epoch: 02, loss: -0.96711\n",
      "epoch: 03, loss: -0.97024\n",
      "epoch: 04, loss: -0.97242\n",
      "epoch: 05, loss: -0.97405\n",
      "epoch: 06, loss: -0.97533\n",
      "epoch: 07, loss: -0.97638\n",
      "epoch: 08, loss: -0.97732\n",
      "epoch: 09, loss: -0.97804\n",
      "torch.Size([1024, 64])\n"
     ]
    },
    {
     "name": "stderr",
     "output_type": "stream",
     "text": [
      " 55%|█████▌    | 551/999 [7:32:54<6:14:34, 50.17s/it]"
     ]
    },
    {
     "name": "stdout",
     "output_type": "stream",
     "text": [
      "eigenvalues shape torch.Size([5]) eigenvectors shape torch.Size([5, 1024])\n",
      "551 /home/phdcs2/Hard_Disk/Datasets/Deep-Spectral-Segmentation/data/object-segmentation/ECSSD/features/0553_resized.pth\n",
      "dict_keys(['k', 'indices', 'file', 'id', 'model_name', 'patch_size', 'shape'])\n",
      "0553_resized\n",
      "Starting Training\n",
      "epoch: 00, loss: -0.91155\n",
      "epoch: 01, loss: -0.94869\n",
      "epoch: 02, loss: -0.95718\n",
      "epoch: 03, loss: -0.96205\n",
      "epoch: 04, loss: -0.96538\n",
      "epoch: 05, loss: -0.96782\n",
      "epoch: 06, loss: -0.96973\n",
      "epoch: 07, loss: -0.97125\n",
      "epoch: 08, loss: -0.97254\n",
      "epoch: 09, loss: -0.97362\n",
      "torch.Size([1024, 64])\n"
     ]
    },
    {
     "name": "stderr",
     "output_type": "stream",
     "text": [
      " 55%|█████▌    | 552/999 [7:33:42<6:08:25, 49.45s/it]"
     ]
    },
    {
     "name": "stdout",
     "output_type": "stream",
     "text": [
      "eigenvalues shape torch.Size([5]) eigenvectors shape torch.Size([5, 1024])\n",
      "552 /home/phdcs2/Hard_Disk/Datasets/Deep-Spectral-Segmentation/data/object-segmentation/ECSSD/features/0554_resized.pth\n",
      "dict_keys(['k', 'indices', 'file', 'id', 'model_name', 'patch_size', 'shape'])\n",
      "0554_resized\n",
      "Starting Training\n",
      "epoch: 00, loss: -0.92452\n",
      "epoch: 01, loss: -0.95528\n",
      "epoch: 02, loss: -0.96225\n",
      "epoch: 03, loss: -0.96622\n",
      "epoch: 04, loss: -0.96897\n",
      "epoch: 05, loss: -0.97097\n",
      "epoch: 06, loss: -0.97259\n",
      "epoch: 07, loss: -0.97386\n",
      "epoch: 08, loss: -0.97496\n",
      "epoch: 09, loss: -0.97587\n",
      "torch.Size([1024, 64])\n"
     ]
    },
    {
     "name": "stderr",
     "output_type": "stream",
     "text": [
      " 55%|█████▌    | 553/999 [7:34:29<6:01:40, 48.66s/it]"
     ]
    },
    {
     "name": "stdout",
     "output_type": "stream",
     "text": [
      "eigenvalues shape torch.Size([5]) eigenvectors shape torch.Size([5, 1024])\n",
      "553 /home/phdcs2/Hard_Disk/Datasets/Deep-Spectral-Segmentation/data/object-segmentation/ECSSD/features/0555_resized.pth\n",
      "dict_keys(['k', 'indices', 'file', 'id', 'model_name', 'patch_size', 'shape'])\n",
      "0555_resized\n",
      "Starting Training\n",
      "epoch: 00, loss: -0.92586\n",
      "epoch: 01, loss: -0.95429\n",
      "epoch: 02, loss: -0.96130\n",
      "epoch: 03, loss: -0.96540\n",
      "epoch: 04, loss: -0.96824\n",
      "epoch: 05, loss: -0.97034\n",
      "epoch: 06, loss: -0.97198\n",
      "epoch: 07, loss: -0.97333\n",
      "epoch: 08, loss: -0.97446\n",
      "epoch: 09, loss: -0.97544\n",
      "torch.Size([1024, 64])\n"
     ]
    },
    {
     "name": "stderr",
     "output_type": "stream",
     "text": [
      " 55%|█████▌    | 554/999 [7:35:23<6:12:23, 50.21s/it]"
     ]
    },
    {
     "name": "stdout",
     "output_type": "stream",
     "text": [
      "eigenvalues shape torch.Size([5]) eigenvectors shape torch.Size([5, 1024])\n",
      "554 /home/phdcs2/Hard_Disk/Datasets/Deep-Spectral-Segmentation/data/object-segmentation/ECSSD/features/0556_resized.pth\n",
      "dict_keys(['k', 'indices', 'file', 'id', 'model_name', 'patch_size', 'shape'])\n",
      "0556_resized\n",
      "Starting Training\n",
      "epoch: 00, loss: -0.92396\n",
      "epoch: 01, loss: -0.95402\n",
      "epoch: 02, loss: -0.96128\n",
      "epoch: 03, loss: -0.96547\n",
      "epoch: 04, loss: -0.96829\n",
      "epoch: 05, loss: -0.97041\n",
      "epoch: 06, loss: -0.97206\n",
      "epoch: 07, loss: -0.97340\n",
      "epoch: 08, loss: -0.97452\n",
      "epoch: 09, loss: -0.97548\n",
      "torch.Size([1024, 64])\n"
     ]
    },
    {
     "name": "stderr",
     "output_type": "stream",
     "text": [
      " 56%|█████▌    | 555/999 [7:36:14<6:13:51, 50.52s/it]"
     ]
    },
    {
     "name": "stdout",
     "output_type": "stream",
     "text": [
      "eigenvalues shape torch.Size([5]) eigenvectors shape torch.Size([5, 1024])\n",
      "555 /home/phdcs2/Hard_Disk/Datasets/Deep-Spectral-Segmentation/data/object-segmentation/ECSSD/features/0557_resized.pth\n",
      "dict_keys(['k', 'indices', 'file', 'id', 'model_name', 'patch_size', 'shape'])\n",
      "0557_resized\n",
      "Starting Training\n",
      "epoch: 00, loss: -0.87734\n",
      "epoch: 01, loss: -0.92945\n",
      "epoch: 02, loss: -0.94169\n",
      "epoch: 03, loss: -0.94856\n",
      "epoch: 04, loss: -0.95333\n",
      "epoch: 05, loss: -0.95676\n",
      "epoch: 06, loss: -0.95937\n",
      "epoch: 07, loss: -0.96152\n",
      "epoch: 08, loss: -0.96329\n",
      "epoch: 09, loss: -0.96483\n",
      "torch.Size([1024, 64])\n"
     ]
    },
    {
     "name": "stderr",
     "output_type": "stream",
     "text": [
      " 56%|█████▌    | 556/999 [7:36:59<6:00:46, 48.86s/it]"
     ]
    },
    {
     "name": "stdout",
     "output_type": "stream",
     "text": [
      "eigenvalues shape torch.Size([5]) eigenvectors shape torch.Size([5, 1024])\n",
      "556 /home/phdcs2/Hard_Disk/Datasets/Deep-Spectral-Segmentation/data/object-segmentation/ECSSD/features/0558_resized.pth\n",
      "dict_keys(['k', 'indices', 'file', 'id', 'model_name', 'patch_size', 'shape'])\n",
      "0558_resized\n",
      "Starting Training\n",
      "epoch: 00, loss: -0.91768\n",
      "epoch: 01, loss: -0.95156\n",
      "epoch: 02, loss: -0.95930\n",
      "epoch: 03, loss: -0.96376\n",
      "epoch: 04, loss: -0.96683\n",
      "epoch: 05, loss: -0.96908\n",
      "epoch: 06, loss: -0.97087\n",
      "epoch: 07, loss: -0.97231\n",
      "epoch: 08, loss: -0.97351\n",
      "epoch: 09, loss: -0.97453\n",
      "torch.Size([1024, 64])\n"
     ]
    },
    {
     "name": "stderr",
     "output_type": "stream",
     "text": [
      " 56%|█████▌    | 557/999 [7:37:44<5:52:04, 47.79s/it]"
     ]
    },
    {
     "name": "stdout",
     "output_type": "stream",
     "text": [
      "eigenvalues shape torch.Size([5]) eigenvectors shape torch.Size([5, 1024])\n",
      "557 /home/phdcs2/Hard_Disk/Datasets/Deep-Spectral-Segmentation/data/object-segmentation/ECSSD/features/0559_resized.pth\n",
      "dict_keys(['k', 'indices', 'file', 'id', 'model_name', 'patch_size', 'shape'])\n",
      "0559_resized\n",
      "Starting Training\n",
      "epoch: 00, loss: -0.92594\n",
      "epoch: 01, loss: -0.95533\n",
      "epoch: 02, loss: -0.96217\n",
      "epoch: 03, loss: -0.96614\n",
      "epoch: 04, loss: -0.96884\n",
      "epoch: 05, loss: -0.97083\n",
      "epoch: 06, loss: -0.97239\n",
      "epoch: 07, loss: -0.97368\n",
      "epoch: 08, loss: -0.97476\n",
      "epoch: 09, loss: -0.97568\n",
      "torch.Size([1024, 64])\n"
     ]
    },
    {
     "name": "stderr",
     "output_type": "stream",
     "text": [
      " 56%|█████▌    | 558/999 [7:38:39<6:07:02, 49.94s/it]"
     ]
    },
    {
     "name": "stdout",
     "output_type": "stream",
     "text": [
      "eigenvalues shape torch.Size([5]) eigenvectors shape torch.Size([5, 1024])\n",
      "558 /home/phdcs2/Hard_Disk/Datasets/Deep-Spectral-Segmentation/data/object-segmentation/ECSSD/features/0560_resized.pth\n",
      "dict_keys(['k', 'indices', 'file', 'id', 'model_name', 'patch_size', 'shape'])\n",
      "0560_resized\n",
      "Starting Training\n",
      "epoch: 00, loss: -0.91720\n",
      "epoch: 01, loss: -0.95195\n",
      "epoch: 02, loss: -0.95968\n",
      "epoch: 03, loss: -0.96410\n",
      "epoch: 04, loss: -0.96708\n",
      "epoch: 05, loss: -0.96933\n",
      "epoch: 06, loss: -0.97107\n",
      "epoch: 07, loss: -0.97246\n",
      "epoch: 08, loss: -0.97366\n",
      "epoch: 09, loss: -0.97466\n",
      "torch.Size([1024, 64])\n"
     ]
    },
    {
     "name": "stderr",
     "output_type": "stream",
     "text": [
      " 56%|█████▌    | 559/999 [7:39:30<6:07:38, 50.13s/it]"
     ]
    },
    {
     "name": "stdout",
     "output_type": "stream",
     "text": [
      "eigenvalues shape torch.Size([5]) eigenvectors shape torch.Size([5, 1024])\n",
      "559 /home/phdcs2/Hard_Disk/Datasets/Deep-Spectral-Segmentation/data/object-segmentation/ECSSD/features/0561_resized.pth\n",
      "dict_keys(['k', 'indices', 'file', 'id', 'model_name', 'patch_size', 'shape'])\n",
      "0561_resized\n",
      "Starting Training\n",
      "epoch: 00, loss: -0.88302\n",
      "epoch: 01, loss: -0.93000\n",
      "epoch: 02, loss: -0.94239\n",
      "epoch: 03, loss: -0.94926\n",
      "epoch: 04, loss: -0.95400\n",
      "epoch: 05, loss: -0.95734\n",
      "epoch: 06, loss: -0.95991\n",
      "epoch: 07, loss: -0.96198\n",
      "epoch: 08, loss: -0.96384\n",
      "epoch: 09, loss: -0.96522\n",
      "torch.Size([1024, 64])\n"
     ]
    },
    {
     "name": "stderr",
     "output_type": "stream",
     "text": [
      " 56%|█████▌    | 560/999 [7:40:19<6:05:12, 49.91s/it]"
     ]
    },
    {
     "name": "stdout",
     "output_type": "stream",
     "text": [
      "eigenvalues shape torch.Size([5]) eigenvectors shape torch.Size([5, 1024])\n",
      "560 /home/phdcs2/Hard_Disk/Datasets/Deep-Spectral-Segmentation/data/object-segmentation/ECSSD/features/0562_resized.pth\n",
      "dict_keys(['k', 'indices', 'file', 'id', 'model_name', 'patch_size', 'shape'])\n",
      "0562_resized\n",
      "Starting Training\n",
      "epoch: 00, loss: -0.91534\n",
      "epoch: 01, loss: -0.94807\n",
      "epoch: 02, loss: -0.95612\n",
      "epoch: 03, loss: -0.96090\n",
      "epoch: 04, loss: -0.96408\n",
      "epoch: 05, loss: -0.96648\n",
      "epoch: 06, loss: -0.96837\n",
      "epoch: 07, loss: -0.96992\n",
      "epoch: 08, loss: -0.97119\n",
      "epoch: 09, loss: -0.97230\n",
      "torch.Size([1024, 64])\n"
     ]
    },
    {
     "name": "stderr",
     "output_type": "stream",
     "text": [
      " 56%|█████▌    | 561/999 [7:41:06<5:58:22, 49.09s/it]"
     ]
    },
    {
     "name": "stdout",
     "output_type": "stream",
     "text": [
      "eigenvalues shape torch.Size([5]) eigenvectors shape torch.Size([5, 1024])\n",
      "561 /home/phdcs2/Hard_Disk/Datasets/Deep-Spectral-Segmentation/data/object-segmentation/ECSSD/features/0563_resized.pth\n",
      "dict_keys(['k', 'indices', 'file', 'id', 'model_name', 'patch_size', 'shape'])\n",
      "0563_resized\n",
      "Starting Training\n",
      "epoch: 00, loss: -0.91524\n",
      "epoch: 01, loss: -0.95014\n",
      "epoch: 02, loss: -0.95832\n",
      "epoch: 03, loss: -0.96301\n",
      "epoch: 04, loss: -0.96615\n",
      "epoch: 05, loss: -0.96846\n",
      "epoch: 06, loss: -0.97028\n",
      "epoch: 07, loss: -0.97176\n",
      "epoch: 08, loss: -0.97296\n",
      "epoch: 09, loss: -0.97403\n",
      "torch.Size([1024, 64])\n"
     ]
    },
    {
     "name": "stderr",
     "output_type": "stream",
     "text": [
      " 56%|█████▋    | 562/999 [7:41:47<5:39:28, 46.61s/it]"
     ]
    },
    {
     "name": "stdout",
     "output_type": "stream",
     "text": [
      "eigenvalues shape torch.Size([5]) eigenvectors shape torch.Size([5, 1024])\n",
      "562 /home/phdcs2/Hard_Disk/Datasets/Deep-Spectral-Segmentation/data/object-segmentation/ECSSD/features/0564_resized.pth\n",
      "dict_keys(['k', 'indices', 'file', 'id', 'model_name', 'patch_size', 'shape'])\n",
      "0564_resized\n",
      "Starting Training\n",
      "epoch: 00, loss: -0.91911\n",
      "epoch: 01, loss: -0.95356\n",
      "epoch: 02, loss: -0.96127\n",
      "epoch: 03, loss: -0.96568\n",
      "epoch: 04, loss: -0.96862\n",
      "epoch: 05, loss: -0.97080\n",
      "epoch: 06, loss: -0.97252\n",
      "epoch: 07, loss: -0.97391\n",
      "epoch: 08, loss: -0.97505\n",
      "epoch: 09, loss: -0.97600\n",
      "torch.Size([1024, 64])\n"
     ]
    },
    {
     "name": "stderr",
     "output_type": "stream",
     "text": [
      " 56%|█████▋    | 563/999 [7:42:31<5:32:32, 45.76s/it]"
     ]
    },
    {
     "name": "stdout",
     "output_type": "stream",
     "text": [
      "eigenvalues shape torch.Size([5]) eigenvectors shape torch.Size([5, 1024])\n",
      "563 /home/phdcs2/Hard_Disk/Datasets/Deep-Spectral-Segmentation/data/object-segmentation/ECSSD/features/0565_resized.pth\n",
      "dict_keys(['k', 'indices', 'file', 'id', 'model_name', 'patch_size', 'shape'])\n",
      "0565_resized\n",
      "Starting Training\n",
      "epoch: 00, loss: -0.86974\n",
      "epoch: 01, loss: -0.92671\n",
      "epoch: 02, loss: -0.94003\n",
      "epoch: 03, loss: -0.94713\n",
      "epoch: 04, loss: -0.95213\n",
      "epoch: 05, loss: -0.95563\n",
      "epoch: 06, loss: -0.95842\n",
      "epoch: 07, loss: -0.96058\n",
      "epoch: 08, loss: -0.96249\n",
      "epoch: 09, loss: -0.96399\n",
      "torch.Size([1024, 64])\n"
     ]
    },
    {
     "name": "stderr",
     "output_type": "stream",
     "text": [
      " 56%|█████▋    | 564/999 [7:43:15<5:27:36, 45.19s/it]"
     ]
    },
    {
     "name": "stdout",
     "output_type": "stream",
     "text": [
      "eigenvalues shape torch.Size([5]) eigenvectors shape torch.Size([5, 1024])\n",
      "564 /home/phdcs2/Hard_Disk/Datasets/Deep-Spectral-Segmentation/data/object-segmentation/ECSSD/features/0566_resized.pth\n",
      "dict_keys(['k', 'indices', 'file', 'id', 'model_name', 'patch_size', 'shape'])\n",
      "0566_resized\n",
      "Starting Training\n",
      "epoch: 00, loss: -0.92919\n",
      "epoch: 01, loss: -0.95806\n",
      "epoch: 02, loss: -0.96463\n",
      "epoch: 03, loss: -0.96844\n",
      "epoch: 04, loss: -0.97099\n",
      "epoch: 05, loss: -0.97291\n",
      "epoch: 06, loss: -0.97441\n",
      "epoch: 07, loss: -0.97564\n",
      "epoch: 08, loss: -0.97665\n",
      "epoch: 09, loss: -0.97752\n",
      "torch.Size([1024, 64])\n"
     ]
    },
    {
     "name": "stderr",
     "output_type": "stream",
     "text": [
      " 57%|█████▋    | 565/999 [7:43:58<5:22:29, 44.58s/it]"
     ]
    },
    {
     "name": "stdout",
     "output_type": "stream",
     "text": [
      "eigenvalues shape torch.Size([5]) eigenvectors shape torch.Size([5, 1024])\n",
      "565 /home/phdcs2/Hard_Disk/Datasets/Deep-Spectral-Segmentation/data/object-segmentation/ECSSD/features/0567_resized.pth\n",
      "dict_keys(['k', 'indices', 'file', 'id', 'model_name', 'patch_size', 'shape'])\n",
      "0567_resized\n",
      "Starting Training\n",
      "epoch: 00, loss: -0.91440\n",
      "epoch: 01, loss: -0.95064\n",
      "epoch: 02, loss: -0.95898\n",
      "epoch: 03, loss: -0.96373\n",
      "epoch: 04, loss: -0.96697\n",
      "epoch: 05, loss: -0.96933\n",
      "epoch: 06, loss: -0.97116\n",
      "epoch: 07, loss: -0.97261\n",
      "epoch: 08, loss: -0.97386\n",
      "epoch: 09, loss: -0.97493\n",
      "torch.Size([1024, 64])\n"
     ]
    },
    {
     "name": "stderr",
     "output_type": "stream",
     "text": [
      " 57%|█████▋    | 566/999 [7:44:41<5:17:59, 44.06s/it]"
     ]
    },
    {
     "name": "stdout",
     "output_type": "stream",
     "text": [
      "eigenvalues shape torch.Size([5]) eigenvectors shape torch.Size([5, 1024])\n",
      "566 /home/phdcs2/Hard_Disk/Datasets/Deep-Spectral-Segmentation/data/object-segmentation/ECSSD/features/0568_resized.pth\n",
      "dict_keys(['k', 'indices', 'file', 'id', 'model_name', 'patch_size', 'shape'])\n",
      "0568_resized\n",
      "Starting Training\n",
      "epoch: 00, loss: -0.87566\n",
      "epoch: 01, loss: -0.92901\n",
      "epoch: 02, loss: -0.94153\n",
      "epoch: 03, loss: -0.94853\n",
      "epoch: 04, loss: -0.95302\n",
      "epoch: 05, loss: -0.95640\n",
      "epoch: 06, loss: -0.95898\n",
      "epoch: 07, loss: -0.96110\n",
      "epoch: 08, loss: -0.96285\n",
      "epoch: 09, loss: -0.96431\n",
      "torch.Size([1024, 64])\n"
     ]
    },
    {
     "name": "stderr",
     "output_type": "stream",
     "text": [
      " 57%|█████▋    | 567/999 [7:45:21<5:08:17, 42.82s/it]"
     ]
    },
    {
     "name": "stdout",
     "output_type": "stream",
     "text": [
      "eigenvalues shape torch.Size([5]) eigenvectors shape torch.Size([5, 1024])\n",
      "567 /home/phdcs2/Hard_Disk/Datasets/Deep-Spectral-Segmentation/data/object-segmentation/ECSSD/features/0569_resized.pth\n",
      "dict_keys(['k', 'indices', 'file', 'id', 'model_name', 'patch_size', 'shape'])\n",
      "0569_resized\n",
      "Starting Training\n",
      "epoch: 00, loss: -0.92191\n",
      "epoch: 01, loss: -0.95351\n",
      "epoch: 02, loss: -0.96092\n",
      "epoch: 03, loss: -0.96514\n",
      "epoch: 04, loss: -0.96802\n",
      "epoch: 05, loss: -0.97015\n",
      "epoch: 06, loss: -0.97181\n",
      "epoch: 07, loss: -0.97317\n",
      "epoch: 08, loss: -0.97429\n",
      "epoch: 09, loss: -0.97526\n",
      "torch.Size([1024, 64])\n"
     ]
    },
    {
     "name": "stderr",
     "output_type": "stream",
     "text": [
      " 57%|█████▋    | 568/999 [7:45:58<4:55:14, 41.10s/it]"
     ]
    },
    {
     "name": "stdout",
     "output_type": "stream",
     "text": [
      "eigenvalues shape torch.Size([5]) eigenvectors shape torch.Size([5, 1024])\n",
      "568 /home/phdcs2/Hard_Disk/Datasets/Deep-Spectral-Segmentation/data/object-segmentation/ECSSD/features/0570_resized.pth\n",
      "dict_keys(['k', 'indices', 'file', 'id', 'model_name', 'patch_size', 'shape'])\n",
      "0570_resized\n",
      "Starting Training\n",
      "epoch: 00, loss: -0.88821\n",
      "epoch: 01, loss: -0.93609\n",
      "epoch: 02, loss: -0.94636\n",
      "epoch: 03, loss: -0.95224\n",
      "epoch: 04, loss: -0.95601\n",
      "epoch: 05, loss: -0.95898\n",
      "epoch: 06, loss: -0.96120\n",
      "epoch: 07, loss: -0.96302\n",
      "epoch: 08, loss: -0.96461\n",
      "epoch: 09, loss: -0.96583\n",
      "torch.Size([1024, 64])\n"
     ]
    },
    {
     "name": "stderr",
     "output_type": "stream",
     "text": [
      " 57%|█████▋    | 569/999 [7:46:32<4:39:18, 38.97s/it]"
     ]
    },
    {
     "name": "stdout",
     "output_type": "stream",
     "text": [
      "eigenvalues shape torch.Size([5]) eigenvectors shape torch.Size([5, 1024])\n",
      "569 /home/phdcs2/Hard_Disk/Datasets/Deep-Spectral-Segmentation/data/object-segmentation/ECSSD/features/0571_resized.pth\n",
      "dict_keys(['k', 'indices', 'file', 'id', 'model_name', 'patch_size', 'shape'])\n",
      "0571_resized\n",
      "Starting Training\n",
      "epoch: 00, loss: -0.91088\n",
      "epoch: 01, loss: -0.94720\n",
      "epoch: 02, loss: -0.95523\n",
      "epoch: 03, loss: -0.95986\n",
      "epoch: 04, loss: -0.96302\n",
      "epoch: 05, loss: -0.96530\n",
      "epoch: 06, loss: -0.96714\n",
      "epoch: 07, loss: -0.96864\n",
      "epoch: 08, loss: -0.96988\n",
      "epoch: 09, loss: -0.97094\n",
      "torch.Size([1024, 64])\n"
     ]
    },
    {
     "name": "stderr",
     "output_type": "stream",
     "text": [
      " 57%|█████▋    | 570/999 [7:47:05<4:26:40, 37.30s/it]"
     ]
    },
    {
     "name": "stdout",
     "output_type": "stream",
     "text": [
      "eigenvalues shape torch.Size([5]) eigenvectors shape torch.Size([5, 1024])\n",
      "570 /home/phdcs2/Hard_Disk/Datasets/Deep-Spectral-Segmentation/data/object-segmentation/ECSSD/features/0572_resized.pth\n",
      "dict_keys(['k', 'indices', 'file', 'id', 'model_name', 'patch_size', 'shape'])\n",
      "0572_resized\n",
      "Starting Training\n",
      "epoch: 00, loss: -0.92816\n",
      "epoch: 01, loss: -0.95786\n",
      "epoch: 02, loss: -0.96459\n",
      "epoch: 03, loss: -0.96851\n",
      "epoch: 04, loss: -0.97120\n",
      "epoch: 05, loss: -0.97317\n",
      "epoch: 06, loss: -0.97472\n",
      "epoch: 07, loss: -0.97599\n",
      "epoch: 08, loss: -0.97705\n",
      "epoch: 09, loss: -0.97795\n",
      "torch.Size([1024, 64])\n"
     ]
    },
    {
     "name": "stderr",
     "output_type": "stream",
     "text": [
      " 57%|█████▋    | 571/999 [7:47:46<4:32:27, 38.20s/it]"
     ]
    },
    {
     "name": "stdout",
     "output_type": "stream",
     "text": [
      "eigenvalues shape torch.Size([5]) eigenvectors shape torch.Size([5, 1024])\n",
      "571 /home/phdcs2/Hard_Disk/Datasets/Deep-Spectral-Segmentation/data/object-segmentation/ECSSD/features/0573_resized.pth\n",
      "dict_keys(['k', 'indices', 'file', 'id', 'model_name', 'patch_size', 'shape'])\n",
      "0573_resized\n",
      "Starting Training\n",
      "epoch: 00, loss: -0.91213\n",
      "epoch: 01, loss: -0.94797\n",
      "epoch: 02, loss: -0.95603\n",
      "epoch: 03, loss: -0.96072\n",
      "epoch: 04, loss: -0.96400\n",
      "epoch: 05, loss: -0.96636\n",
      "epoch: 06, loss: -0.96827\n",
      "epoch: 07, loss: -0.96981\n",
      "epoch: 08, loss: -0.97110\n",
      "epoch: 09, loss: -0.97220\n",
      "torch.Size([1024, 64])\n"
     ]
    },
    {
     "name": "stderr",
     "output_type": "stream",
     "text": [
      " 57%|█████▋    | 572/999 [7:48:35<4:55:46, 41.56s/it]"
     ]
    },
    {
     "name": "stdout",
     "output_type": "stream",
     "text": [
      "eigenvalues shape torch.Size([5]) eigenvectors shape torch.Size([5, 1024])\n",
      "572 /home/phdcs2/Hard_Disk/Datasets/Deep-Spectral-Segmentation/data/object-segmentation/ECSSD/features/0574_resized.pth\n",
      "dict_keys(['k', 'indices', 'file', 'id', 'model_name', 'patch_size', 'shape'])\n",
      "0574_resized\n",
      "Starting Training\n",
      "epoch: 00, loss: -0.92122\n",
      "epoch: 01, loss: -0.95280\n",
      "epoch: 02, loss: -0.96042\n",
      "epoch: 03, loss: -0.96477\n",
      "epoch: 04, loss: -0.96771\n",
      "epoch: 05, loss: -0.96988\n",
      "epoch: 06, loss: -0.97160\n",
      "epoch: 07, loss: -0.97299\n",
      "epoch: 08, loss: -0.97415\n",
      "epoch: 09, loss: -0.97514\n",
      "torch.Size([1024, 64])\n"
     ]
    },
    {
     "name": "stderr",
     "output_type": "stream",
     "text": [
      " 57%|█████▋    | 573/999 [7:49:23<5:08:25, 43.44s/it]"
     ]
    },
    {
     "name": "stdout",
     "output_type": "stream",
     "text": [
      "eigenvalues shape torch.Size([5]) eigenvectors shape torch.Size([5, 1024])\n",
      "573 /home/phdcs2/Hard_Disk/Datasets/Deep-Spectral-Segmentation/data/object-segmentation/ECSSD/features/0575_resized.pth\n",
      "dict_keys(['k', 'indices', 'file', 'id', 'model_name', 'patch_size', 'shape'])\n",
      "0575_resized\n",
      "Starting Training\n",
      "epoch: 00, loss: -0.90490\n",
      "epoch: 01, loss: -0.94309\n",
      "epoch: 02, loss: -0.95236\n",
      "epoch: 03, loss: -0.95770\n",
      "epoch: 04, loss: -0.96133\n",
      "epoch: 05, loss: -0.96403\n",
      "epoch: 06, loss: -0.96613\n",
      "epoch: 07, loss: -0.96781\n",
      "epoch: 08, loss: -0.96923\n",
      "epoch: 09, loss: -0.97043\n",
      "torch.Size([1024, 64])\n"
     ]
    },
    {
     "name": "stderr",
     "output_type": "stream",
     "text": [
      " 57%|█████▋    | 574/999 [7:50:05<5:04:55, 43.05s/it]"
     ]
    },
    {
     "name": "stdout",
     "output_type": "stream",
     "text": [
      "eigenvalues shape torch.Size([5]) eigenvectors shape torch.Size([5, 1024])\n",
      "574 /home/phdcs2/Hard_Disk/Datasets/Deep-Spectral-Segmentation/data/object-segmentation/ECSSD/features/0576_resized.pth\n",
      "dict_keys(['k', 'indices', 'file', 'id', 'model_name', 'patch_size', 'shape'])\n",
      "0576_resized\n",
      "Starting Training\n",
      "epoch: 00, loss: -0.91710\n",
      "epoch: 01, loss: -0.94979\n",
      "epoch: 02, loss: -0.95773\n",
      "epoch: 03, loss: -0.96233\n",
      "epoch: 04, loss: -0.96545\n",
      "epoch: 05, loss: -0.96777\n",
      "epoch: 06, loss: -0.96960\n",
      "epoch: 07, loss: -0.97108\n",
      "epoch: 08, loss: -0.97230\n",
      "epoch: 09, loss: -0.97334\n",
      "torch.Size([1024, 64])\n"
     ]
    },
    {
     "name": "stderr",
     "output_type": "stream",
     "text": [
      " 58%|█████▊    | 575/999 [7:50:40<4:46:34, 40.55s/it]"
     ]
    },
    {
     "name": "stdout",
     "output_type": "stream",
     "text": [
      "eigenvalues shape torch.Size([5]) eigenvectors shape torch.Size([5, 1024])\n",
      "575 /home/phdcs2/Hard_Disk/Datasets/Deep-Spectral-Segmentation/data/object-segmentation/ECSSD/features/0577_resized.pth\n",
      "dict_keys(['k', 'indices', 'file', 'id', 'model_name', 'patch_size', 'shape'])\n",
      "0577_resized\n",
      "Starting Training\n",
      "epoch: 00, loss: -0.89869\n",
      "epoch: 01, loss: -0.94098\n",
      "epoch: 02, loss: -0.95089\n",
      "epoch: 03, loss: -0.95654\n",
      "epoch: 04, loss: -0.96041\n",
      "epoch: 05, loss: -0.96315\n",
      "epoch: 06, loss: -0.96541\n",
      "epoch: 07, loss: -0.96719\n",
      "epoch: 08, loss: -0.96863\n",
      "epoch: 09, loss: -0.96988\n",
      "torch.Size([1024, 64])\n"
     ]
    },
    {
     "name": "stderr",
     "output_type": "stream",
     "text": [
      " 58%|█████▊    | 576/999 [7:51:20<4:45:49, 40.54s/it]"
     ]
    },
    {
     "name": "stdout",
     "output_type": "stream",
     "text": [
      "eigenvalues shape torch.Size([5]) eigenvectors shape torch.Size([5, 1024])\n",
      "576 /home/phdcs2/Hard_Disk/Datasets/Deep-Spectral-Segmentation/data/object-segmentation/ECSSD/features/0578_resized.pth\n",
      "dict_keys(['k', 'indices', 'file', 'id', 'model_name', 'patch_size', 'shape'])\n",
      "0578_resized\n",
      "Starting Training\n",
      "epoch: 00, loss: -0.86392\n",
      "epoch: 01, loss: -0.91732\n",
      "epoch: 02, loss: -0.93142\n",
      "epoch: 03, loss: -0.93935\n",
      "epoch: 04, loss: -0.94493\n",
      "epoch: 05, loss: -0.94879\n",
      "epoch: 06, loss: -0.95197\n",
      "epoch: 07, loss: -0.95432\n",
      "epoch: 08, loss: -0.95641\n",
      "epoch: 09, loss: -0.95810\n",
      "torch.Size([1024, 64])\n"
     ]
    },
    {
     "name": "stderr",
     "output_type": "stream",
     "text": [
      " 58%|█████▊    | 577/999 [7:52:00<4:44:24, 40.44s/it]"
     ]
    },
    {
     "name": "stdout",
     "output_type": "stream",
     "text": [
      "eigenvalues shape torch.Size([5]) eigenvectors shape torch.Size([5, 1024])\n",
      "577 /home/phdcs2/Hard_Disk/Datasets/Deep-Spectral-Segmentation/data/object-segmentation/ECSSD/features/0579_resized.pth\n",
      "dict_keys(['k', 'indices', 'file', 'id', 'model_name', 'patch_size', 'shape'])\n",
      "0579_resized\n",
      "Starting Training\n",
      "epoch: 00, loss: -0.92005\n",
      "epoch: 01, loss: -0.95262\n",
      "epoch: 02, loss: -0.96012\n",
      "epoch: 03, loss: -0.96438\n",
      "epoch: 04, loss: -0.96733\n",
      "epoch: 05, loss: -0.96946\n",
      "epoch: 06, loss: -0.97117\n",
      "epoch: 07, loss: -0.97257\n",
      "epoch: 08, loss: -0.97375\n",
      "epoch: 09, loss: -0.97472\n",
      "torch.Size([1024, 64])\n"
     ]
    },
    {
     "name": "stderr",
     "output_type": "stream",
     "text": [
      " 58%|█████▊    | 578/999 [7:52:44<4:50:33, 41.41s/it]"
     ]
    },
    {
     "name": "stdout",
     "output_type": "stream",
     "text": [
      "eigenvalues shape torch.Size([5]) eigenvectors shape torch.Size([5, 1024])\n",
      "578 /home/phdcs2/Hard_Disk/Datasets/Deep-Spectral-Segmentation/data/object-segmentation/ECSSD/features/0580_resized.pth\n",
      "dict_keys(['k', 'indices', 'file', 'id', 'model_name', 'patch_size', 'shape'])\n",
      "0580_resized\n",
      "Starting Training\n",
      "epoch: 00, loss: -0.91735\n",
      "epoch: 01, loss: -0.94923\n",
      "epoch: 02, loss: -0.95696\n",
      "epoch: 03, loss: -0.96146\n",
      "epoch: 04, loss: -0.96462\n",
      "epoch: 05, loss: -0.96694\n",
      "epoch: 06, loss: -0.96874\n",
      "epoch: 07, loss: -0.97022\n",
      "epoch: 08, loss: -0.97147\n",
      "epoch: 09, loss: -0.97254\n",
      "torch.Size([1024, 64])\n"
     ]
    },
    {
     "name": "stderr",
     "output_type": "stream",
     "text": [
      " 58%|█████▊    | 579/999 [7:53:20<4:39:17, 39.90s/it]"
     ]
    },
    {
     "name": "stdout",
     "output_type": "stream",
     "text": [
      "eigenvalues shape torch.Size([5]) eigenvectors shape torch.Size([5, 1024])\n",
      "579 /home/phdcs2/Hard_Disk/Datasets/Deep-Spectral-Segmentation/data/object-segmentation/ECSSD/features/0581_resized.pth\n",
      "dict_keys(['k', 'indices', 'file', 'id', 'model_name', 'patch_size', 'shape'])\n",
      "0581_resized\n",
      "Starting Training\n",
      "epoch: 00, loss: -0.90287\n",
      "epoch: 01, loss: -0.93993\n",
      "epoch: 02, loss: -0.94963\n",
      "epoch: 03, loss: -0.95531\n",
      "epoch: 04, loss: -0.95919\n",
      "epoch: 05, loss: -0.96199\n",
      "epoch: 06, loss: -0.96419\n",
      "epoch: 07, loss: -0.96598\n",
      "epoch: 08, loss: -0.96749\n",
      "epoch: 09, loss: -0.96875\n",
      "torch.Size([1024, 64])\n"
     ]
    },
    {
     "name": "stderr",
     "output_type": "stream",
     "text": [
      " 58%|█████▊    | 580/999 [7:54:06<4:50:19, 41.57s/it]"
     ]
    },
    {
     "name": "stdout",
     "output_type": "stream",
     "text": [
      "eigenvalues shape torch.Size([5]) eigenvectors shape torch.Size([5, 1024])\n",
      "580 /home/phdcs2/Hard_Disk/Datasets/Deep-Spectral-Segmentation/data/object-segmentation/ECSSD/features/0582_resized.pth\n",
      "dict_keys(['k', 'indices', 'file', 'id', 'model_name', 'patch_size', 'shape'])\n",
      "0582_resized\n",
      "Starting Training\n",
      "epoch: 00, loss: -0.89491\n",
      "epoch: 01, loss: -0.93398\n",
      "epoch: 02, loss: -0.94472\n",
      "epoch: 03, loss: -0.95093\n",
      "epoch: 04, loss: -0.95525\n",
      "epoch: 05, loss: -0.95835\n",
      "epoch: 06, loss: -0.96075\n",
      "epoch: 07, loss: -0.96268\n",
      "epoch: 08, loss: -0.96426\n",
      "epoch: 09, loss: -0.96570\n",
      "torch.Size([1024, 64])\n"
     ]
    },
    {
     "name": "stderr",
     "output_type": "stream",
     "text": [
      " 58%|█████▊    | 581/999 [7:54:50<4:55:12, 42.37s/it]"
     ]
    },
    {
     "name": "stdout",
     "output_type": "stream",
     "text": [
      "eigenvalues shape torch.Size([5]) eigenvectors shape torch.Size([5, 1024])\n",
      "581 /home/phdcs2/Hard_Disk/Datasets/Deep-Spectral-Segmentation/data/object-segmentation/ECSSD/features/0583_resized.pth\n",
      "dict_keys(['k', 'indices', 'file', 'id', 'model_name', 'patch_size', 'shape'])\n",
      "0583_resized\n",
      "Starting Training\n",
      "epoch: 00, loss: -0.89482\n",
      "epoch: 01, loss: -0.93963\n",
      "epoch: 02, loss: -0.94955\n",
      "epoch: 03, loss: -0.95523\n",
      "epoch: 04, loss: -0.95907\n",
      "epoch: 05, loss: -0.96199\n",
      "epoch: 06, loss: -0.96419\n",
      "epoch: 07, loss: -0.96607\n",
      "epoch: 08, loss: -0.96758\n",
      "epoch: 09, loss: -0.96880\n",
      "torch.Size([1024, 64])\n"
     ]
    },
    {
     "name": "stderr",
     "output_type": "stream",
     "text": [
      " 58%|█████▊    | 582/999 [7:55:32<4:54:08, 42.32s/it]"
     ]
    },
    {
     "name": "stdout",
     "output_type": "stream",
     "text": [
      "eigenvalues shape torch.Size([5]) eigenvectors shape torch.Size([5, 1024])\n",
      "582 /home/phdcs2/Hard_Disk/Datasets/Deep-Spectral-Segmentation/data/object-segmentation/ECSSD/features/0584_resized.pth\n",
      "dict_keys(['k', 'indices', 'file', 'id', 'model_name', 'patch_size', 'shape'])\n",
      "0584_resized\n",
      "Starting Training\n",
      "epoch: 00, loss: -0.88915\n",
      "epoch: 01, loss: -0.93211\n",
      "epoch: 02, loss: -0.94280\n",
      "epoch: 03, loss: -0.94921\n",
      "epoch: 04, loss: -0.95341\n",
      "epoch: 05, loss: -0.95654\n",
      "epoch: 06, loss: -0.95907\n",
      "epoch: 07, loss: -0.96093\n",
      "epoch: 08, loss: -0.96269\n",
      "epoch: 09, loss: -0.96417\n",
      "torch.Size([1024, 64])\n"
     ]
    },
    {
     "name": "stderr",
     "output_type": "stream",
     "text": [
      " 58%|█████▊    | 583/999 [7:56:10<4:43:35, 40.90s/it]"
     ]
    },
    {
     "name": "stdout",
     "output_type": "stream",
     "text": [
      "eigenvalues shape torch.Size([5]) eigenvectors shape torch.Size([5, 1024])\n",
      "583 /home/phdcs2/Hard_Disk/Datasets/Deep-Spectral-Segmentation/data/object-segmentation/ECSSD/features/0585_resized.pth\n",
      "dict_keys(['k', 'indices', 'file', 'id', 'model_name', 'patch_size', 'shape'])\n",
      "0585_resized\n",
      "Starting Training\n",
      "epoch: 00, loss: -0.91950\n",
      "epoch: 01, loss: -0.95116\n",
      "epoch: 02, loss: -0.95872\n",
      "epoch: 03, loss: -0.96311\n",
      "epoch: 04, loss: -0.96610\n",
      "epoch: 05, loss: -0.96835\n",
      "epoch: 06, loss: -0.97010\n",
      "epoch: 07, loss: -0.97155\n",
      "epoch: 08, loss: -0.97276\n",
      "epoch: 09, loss: -0.97375\n",
      "torch.Size([1024, 64])\n"
     ]
    },
    {
     "name": "stderr",
     "output_type": "stream",
     "text": [
      " 58%|█████▊    | 584/999 [7:56:51<4:43:43, 41.02s/it]"
     ]
    },
    {
     "name": "stdout",
     "output_type": "stream",
     "text": [
      "eigenvalues shape torch.Size([5]) eigenvectors shape torch.Size([5, 1024])\n",
      "584 /home/phdcs2/Hard_Disk/Datasets/Deep-Spectral-Segmentation/data/object-segmentation/ECSSD/features/0586_resized.pth\n",
      "dict_keys(['k', 'indices', 'file', 'id', 'model_name', 'patch_size', 'shape'])\n",
      "0586_resized\n",
      "Starting Training\n",
      "epoch: 00, loss: -0.91771\n",
      "epoch: 01, loss: -0.95123\n",
      "epoch: 02, loss: -0.95839\n",
      "epoch: 03, loss: -0.96261\n",
      "epoch: 04, loss: -0.96549\n",
      "epoch: 05, loss: -0.96765\n",
      "epoch: 06, loss: -0.96936\n",
      "epoch: 07, loss: -0.97075\n",
      "epoch: 08, loss: -0.97191\n",
      "epoch: 09, loss: -0.97289\n",
      "torch.Size([1024, 64])\n"
     ]
    },
    {
     "name": "stderr",
     "output_type": "stream",
     "text": [
      " 59%|█████▊    | 585/999 [7:57:26<4:30:35, 39.22s/it]"
     ]
    },
    {
     "name": "stdout",
     "output_type": "stream",
     "text": [
      "eigenvalues shape torch.Size([5]) eigenvectors shape torch.Size([5, 1024])\n",
      "585 /home/phdcs2/Hard_Disk/Datasets/Deep-Spectral-Segmentation/data/object-segmentation/ECSSD/features/0587_resized.pth\n",
      "dict_keys(['k', 'indices', 'file', 'id', 'model_name', 'patch_size', 'shape'])\n",
      "0587_resized\n",
      "Starting Training\n",
      "epoch: 00, loss: -0.91331\n",
      "epoch: 01, loss: -0.94929\n",
      "epoch: 02, loss: -0.95715\n",
      "epoch: 03, loss: -0.96180\n",
      "epoch: 04, loss: -0.96487\n",
      "epoch: 05, loss: -0.96720\n",
      "epoch: 06, loss: -0.96903\n",
      "epoch: 07, loss: -0.97049\n",
      "epoch: 08, loss: -0.97174\n",
      "epoch: 09, loss: -0.97277\n",
      "torch.Size([1024, 64])\n"
     ]
    },
    {
     "name": "stderr",
     "output_type": "stream",
     "text": [
      " 59%|█████▊    | 586/999 [7:58:07<4:32:51, 39.64s/it]"
     ]
    },
    {
     "name": "stdout",
     "output_type": "stream",
     "text": [
      "eigenvalues shape torch.Size([5]) eigenvectors shape torch.Size([5, 1024])\n",
      "586 /home/phdcs2/Hard_Disk/Datasets/Deep-Spectral-Segmentation/data/object-segmentation/ECSSD/features/0588_resized.pth\n",
      "dict_keys(['k', 'indices', 'file', 'id', 'model_name', 'patch_size', 'shape'])\n",
      "0588_resized\n",
      "Starting Training\n",
      "epoch: 00, loss: -0.92682\n",
      "epoch: 01, loss: -0.95518\n",
      "epoch: 02, loss: -0.96202\n",
      "epoch: 03, loss: -0.96599\n",
      "epoch: 04, loss: -0.96871\n",
      "epoch: 05, loss: -0.97070\n",
      "epoch: 06, loss: -0.97229\n",
      "epoch: 07, loss: -0.97357\n",
      "epoch: 08, loss: -0.97468\n",
      "epoch: 09, loss: -0.97558\n",
      "torch.Size([1024, 64])\n"
     ]
    },
    {
     "name": "stderr",
     "output_type": "stream",
     "text": [
      " 59%|█████▉    | 587/999 [7:58:50<4:39:40, 40.73s/it]"
     ]
    },
    {
     "name": "stdout",
     "output_type": "stream",
     "text": [
      "eigenvalues shape torch.Size([5]) eigenvectors shape torch.Size([5, 1024])\n",
      "587 /home/phdcs2/Hard_Disk/Datasets/Deep-Spectral-Segmentation/data/object-segmentation/ECSSD/features/0589_resized.pth\n",
      "dict_keys(['k', 'indices', 'file', 'id', 'model_name', 'patch_size', 'shape'])\n",
      "0589_resized\n",
      "Starting Training\n",
      "epoch: 00, loss: -0.91228\n",
      "epoch: 01, loss: -0.94734\n",
      "epoch: 02, loss: -0.95597\n",
      "epoch: 03, loss: -0.96097\n",
      "epoch: 04, loss: -0.96438\n",
      "epoch: 05, loss: -0.96683\n",
      "epoch: 06, loss: -0.96877\n",
      "epoch: 07, loss: -0.97039\n",
      "epoch: 08, loss: -0.97163\n",
      "epoch: 09, loss: -0.97278\n",
      "torch.Size([1024, 64])\n"
     ]
    },
    {
     "name": "stderr",
     "output_type": "stream",
     "text": [
      " 59%|█████▉    | 588/999 [7:59:18<4:13:19, 36.98s/it]"
     ]
    },
    {
     "name": "stdout",
     "output_type": "stream",
     "text": [
      "eigenvalues shape torch.Size([5]) eigenvectors shape torch.Size([5, 1024])\n",
      "588 /home/phdcs2/Hard_Disk/Datasets/Deep-Spectral-Segmentation/data/object-segmentation/ECSSD/features/0590_resized.pth\n",
      "dict_keys(['k', 'indices', 'file', 'id', 'model_name', 'patch_size', 'shape'])\n",
      "0590_resized\n",
      "Starting Training\n",
      "epoch: 00, loss: -0.87066\n",
      "epoch: 01, loss: -0.92288\n",
      "epoch: 02, loss: -0.93699\n",
      "epoch: 03, loss: -0.94467\n",
      "epoch: 04, loss: -0.94994\n",
      "epoch: 05, loss: -0.95383\n",
      "epoch: 06, loss: -0.95676\n",
      "epoch: 07, loss: -0.95914\n",
      "epoch: 08, loss: -0.96112\n",
      "epoch: 09, loss: -0.96276\n",
      "torch.Size([1024, 64])\n"
     ]
    },
    {
     "name": "stderr",
     "output_type": "stream",
     "text": [
      " 59%|█████▉    | 589/999 [7:59:47<3:55:45, 34.50s/it]"
     ]
    },
    {
     "name": "stdout",
     "output_type": "stream",
     "text": [
      "eigenvalues shape torch.Size([5]) eigenvectors shape torch.Size([5, 1024])\n",
      "589 /home/phdcs2/Hard_Disk/Datasets/Deep-Spectral-Segmentation/data/object-segmentation/ECSSD/features/0591_resized.pth\n",
      "dict_keys(['k', 'indices', 'file', 'id', 'model_name', 'patch_size', 'shape'])\n",
      "0591_resized\n",
      "Starting Training\n",
      "epoch: 00, loss: -0.90929\n",
      "epoch: 01, loss: -0.94538\n",
      "epoch: 02, loss: -0.95446\n",
      "epoch: 03, loss: -0.95971\n",
      "epoch: 04, loss: -0.96331\n",
      "epoch: 05, loss: -0.96589\n",
      "epoch: 06, loss: -0.96792\n",
      "epoch: 07, loss: -0.96956\n",
      "epoch: 08, loss: -0.97093\n",
      "epoch: 09, loss: -0.97209\n",
      "torch.Size([1024, 64])\n"
     ]
    },
    {
     "name": "stderr",
     "output_type": "stream",
     "text": [
      " 59%|█████▉    | 590/999 [8:00:30<4:12:16, 37.01s/it]"
     ]
    },
    {
     "name": "stdout",
     "output_type": "stream",
     "text": [
      "eigenvalues shape torch.Size([5]) eigenvectors shape torch.Size([5, 1024])\n",
      "590 /home/phdcs2/Hard_Disk/Datasets/Deep-Spectral-Segmentation/data/object-segmentation/ECSSD/features/0592_resized.pth\n",
      "dict_keys(['k', 'indices', 'file', 'id', 'model_name', 'patch_size', 'shape'])\n",
      "0592_resized\n",
      "Starting Training\n",
      "epoch: 00, loss: -0.91671\n",
      "epoch: 01, loss: -0.95023\n",
      "epoch: 02, loss: -0.95788\n",
      "epoch: 03, loss: -0.96230\n",
      "epoch: 04, loss: -0.96534\n",
      "epoch: 05, loss: -0.96760\n",
      "epoch: 06, loss: -0.96936\n",
      "epoch: 07, loss: -0.97078\n",
      "epoch: 08, loss: -0.97201\n",
      "epoch: 09, loss: -0.97303\n",
      "torch.Size([1024, 64])\n"
     ]
    },
    {
     "name": "stderr",
     "output_type": "stream",
     "text": [
      " 59%|█████▉    | 591/999 [8:01:00<3:57:12, 34.88s/it]"
     ]
    },
    {
     "name": "stdout",
     "output_type": "stream",
     "text": [
      "eigenvalues shape torch.Size([5]) eigenvectors shape torch.Size([5, 1024])\n",
      "591 /home/phdcs2/Hard_Disk/Datasets/Deep-Spectral-Segmentation/data/object-segmentation/ECSSD/features/0593_resized.pth\n",
      "dict_keys(['k', 'indices', 'file', 'id', 'model_name', 'patch_size', 'shape'])\n",
      "0593_resized\n",
      "Starting Training\n",
      "epoch: 00, loss: -0.91029\n",
      "epoch: 01, loss: -0.94777\n",
      "epoch: 02, loss: -0.95608\n",
      "epoch: 03, loss: -0.96093\n",
      "epoch: 04, loss: -0.96418\n",
      "epoch: 05, loss: -0.96656\n",
      "epoch: 06, loss: -0.96848\n",
      "epoch: 07, loss: -0.96999\n",
      "epoch: 08, loss: -0.97129\n",
      "epoch: 09, loss: -0.97243\n",
      "torch.Size([1024, 64])\n"
     ]
    },
    {
     "name": "stderr",
     "output_type": "stream",
     "text": [
      " 59%|█████▉    | 592/999 [8:01:31<3:49:00, 33.76s/it]"
     ]
    },
    {
     "name": "stdout",
     "output_type": "stream",
     "text": [
      "eigenvalues shape torch.Size([5]) eigenvectors shape torch.Size([5, 1024])\n",
      "592 /home/phdcs2/Hard_Disk/Datasets/Deep-Spectral-Segmentation/data/object-segmentation/ECSSD/features/0594_resized.pth\n",
      "dict_keys(['k', 'indices', 'file', 'id', 'model_name', 'patch_size', 'shape'])\n",
      "0594_resized\n",
      "Starting Training\n",
      "epoch: 00, loss: -0.90253\n",
      "epoch: 01, loss: -0.94421\n",
      "epoch: 02, loss: -0.95353\n",
      "epoch: 03, loss: -0.95874\n",
      "epoch: 04, loss: -0.96223\n",
      "epoch: 05, loss: -0.96480\n",
      "epoch: 06, loss: -0.96678\n",
      "epoch: 07, loss: -0.96837\n",
      "epoch: 08, loss: -0.96979\n",
      "epoch: 09, loss: -0.97089\n",
      "torch.Size([1024, 64])\n"
     ]
    },
    {
     "name": "stderr",
     "output_type": "stream",
     "text": [
      " 59%|█████▉    | 593/999 [8:02:07<3:52:34, 34.37s/it]"
     ]
    },
    {
     "name": "stdout",
     "output_type": "stream",
     "text": [
      "eigenvalues shape torch.Size([5]) eigenvectors shape torch.Size([5, 1024])\n",
      "593 /home/phdcs2/Hard_Disk/Datasets/Deep-Spectral-Segmentation/data/object-segmentation/ECSSD/features/0595_resized.pth\n",
      "dict_keys(['k', 'indices', 'file', 'id', 'model_name', 'patch_size', 'shape'])\n",
      "0595_resized\n",
      "Starting Training\n",
      "epoch: 00, loss: -0.91929\n",
      "epoch: 01, loss: -0.95261\n",
      "epoch: 02, loss: -0.96036\n",
      "epoch: 03, loss: -0.96461\n",
      "epoch: 04, loss: -0.96762\n",
      "epoch: 05, loss: -0.96979\n",
      "epoch: 06, loss: -0.97154\n",
      "epoch: 07, loss: -0.97289\n",
      "epoch: 08, loss: -0.97413\n",
      "epoch: 09, loss: -0.97511\n",
      "torch.Size([1024, 64])\n"
     ]
    },
    {
     "name": "stderr",
     "output_type": "stream",
     "text": [
      " 59%|█████▉    | 594/999 [8:02:47<4:04:26, 36.21s/it]"
     ]
    },
    {
     "name": "stdout",
     "output_type": "stream",
     "text": [
      "eigenvalues shape torch.Size([5]) eigenvectors shape torch.Size([5, 1024])\n",
      "594 /home/phdcs2/Hard_Disk/Datasets/Deep-Spectral-Segmentation/data/object-segmentation/ECSSD/features/0596_resized.pth\n",
      "dict_keys(['k', 'indices', 'file', 'id', 'model_name', 'patch_size', 'shape'])\n",
      "0596_resized\n",
      "Starting Training\n",
      "epoch: 00, loss: -0.90908\n",
      "epoch: 01, loss: -0.94764\n",
      "epoch: 02, loss: -0.95636\n",
      "epoch: 03, loss: -0.96122\n",
      "epoch: 04, loss: -0.96459\n",
      "epoch: 05, loss: -0.96704\n",
      "epoch: 06, loss: -0.96898\n",
      "epoch: 07, loss: -0.97052\n",
      "epoch: 08, loss: -0.97178\n",
      "epoch: 09, loss: -0.97286\n",
      "torch.Size([1024, 64])\n"
     ]
    },
    {
     "name": "stderr",
     "output_type": "stream",
     "text": [
      " 60%|█████▉    | 595/999 [8:03:13<3:41:46, 32.94s/it]"
     ]
    },
    {
     "name": "stdout",
     "output_type": "stream",
     "text": [
      "eigenvalues shape torch.Size([5]) eigenvectors shape torch.Size([5, 1024])\n",
      "595 /home/phdcs2/Hard_Disk/Datasets/Deep-Spectral-Segmentation/data/object-segmentation/ECSSD/features/0597_resized.pth\n",
      "dict_keys(['k', 'indices', 'file', 'id', 'model_name', 'patch_size', 'shape'])\n",
      "0597_resized\n",
      "Starting Training\n",
      "epoch: 00, loss: -0.91632\n",
      "epoch: 01, loss: -0.95078\n",
      "epoch: 02, loss: -0.95845\n",
      "epoch: 03, loss: -0.96287\n",
      "epoch: 04, loss: -0.96592\n",
      "epoch: 05, loss: -0.96814\n",
      "epoch: 06, loss: -0.96993\n",
      "epoch: 07, loss: -0.97136\n",
      "epoch: 08, loss: -0.97254\n",
      "epoch: 09, loss: -0.97356\n",
      "torch.Size([1024, 64])\n"
     ]
    },
    {
     "name": "stderr",
     "output_type": "stream",
     "text": [
      " 60%|█████▉    | 596/999 [8:03:38<3:25:03, 30.53s/it]"
     ]
    },
    {
     "name": "stdout",
     "output_type": "stream",
     "text": [
      "eigenvalues shape torch.Size([5]) eigenvectors shape torch.Size([5, 1024])\n",
      "596 /home/phdcs2/Hard_Disk/Datasets/Deep-Spectral-Segmentation/data/object-segmentation/ECSSD/features/0598_resized.pth\n",
      "dict_keys(['k', 'indices', 'file', 'id', 'model_name', 'patch_size', 'shape'])\n",
      "0598_resized\n",
      "Starting Training\n",
      "epoch: 00, loss: -0.90867\n",
      "epoch: 01, loss: -0.94388\n",
      "epoch: 02, loss: -0.95273\n",
      "epoch: 03, loss: -0.95787\n",
      "epoch: 04, loss: -0.96138\n",
      "epoch: 05, loss: -0.96397\n",
      "epoch: 06, loss: -0.96599\n",
      "epoch: 07, loss: -0.96762\n",
      "epoch: 08, loss: -0.96902\n",
      "epoch: 09, loss: -0.97019\n",
      "torch.Size([1024, 64])\n"
     ]
    },
    {
     "name": "stderr",
     "output_type": "stream",
     "text": [
      " 60%|█████▉    | 597/999 [8:04:04<3:16:07, 29.27s/it]"
     ]
    },
    {
     "name": "stdout",
     "output_type": "stream",
     "text": [
      "eigenvalues shape torch.Size([5]) eigenvectors shape torch.Size([5, 1024])\n",
      "597 /home/phdcs2/Hard_Disk/Datasets/Deep-Spectral-Segmentation/data/object-segmentation/ECSSD/features/0599_resized.pth\n",
      "dict_keys(['k', 'indices', 'file', 'id', 'model_name', 'patch_size', 'shape'])\n",
      "0599_resized\n",
      "Starting Training\n",
      "epoch: 00, loss: -0.87742\n",
      "epoch: 01, loss: -0.92491\n",
      "epoch: 02, loss: -0.93741\n",
      "epoch: 03, loss: -0.94480\n",
      "epoch: 04, loss: -0.94971\n",
      "epoch: 05, loss: -0.95342\n",
      "epoch: 06, loss: -0.95626\n",
      "epoch: 07, loss: -0.95854\n",
      "epoch: 08, loss: -0.96047\n",
      "epoch: 09, loss: -0.96201\n",
      "torch.Size([1024, 64])\n"
     ]
    },
    {
     "name": "stderr",
     "output_type": "stream",
     "text": [
      " 60%|█████▉    | 598/999 [8:04:28<3:06:00, 27.83s/it]"
     ]
    },
    {
     "name": "stdout",
     "output_type": "stream",
     "text": [
      "eigenvalues shape torch.Size([5]) eigenvectors shape torch.Size([5, 1024])\n",
      "598 /home/phdcs2/Hard_Disk/Datasets/Deep-Spectral-Segmentation/data/object-segmentation/ECSSD/features/0600_resized.pth\n",
      "dict_keys(['k', 'indices', 'file', 'id', 'model_name', 'patch_size', 'shape'])\n",
      "0600_resized\n",
      "Starting Training\n",
      "epoch: 00, loss: -0.93182\n",
      "epoch: 01, loss: -0.95948\n",
      "epoch: 02, loss: -0.96562\n",
      "epoch: 03, loss: -0.96916\n",
      "epoch: 04, loss: -0.97163\n",
      "epoch: 05, loss: -0.97341\n",
      "epoch: 06, loss: -0.97483\n",
      "epoch: 07, loss: -0.97601\n",
      "epoch: 08, loss: -0.97696\n",
      "epoch: 09, loss: -0.97779\n",
      "torch.Size([1024, 64])\n"
     ]
    },
    {
     "name": "stderr",
     "output_type": "stream",
     "text": [
      " 60%|█████▉    | 599/999 [8:04:55<3:03:04, 27.46s/it]"
     ]
    },
    {
     "name": "stdout",
     "output_type": "stream",
     "text": [
      "eigenvalues shape torch.Size([5]) eigenvectors shape torch.Size([5, 1024])\n",
      "599 /home/phdcs2/Hard_Disk/Datasets/Deep-Spectral-Segmentation/data/object-segmentation/ECSSD/features/0601_resized.pth\n",
      "dict_keys(['k', 'indices', 'file', 'id', 'model_name', 'patch_size', 'shape'])\n",
      "0601_resized\n",
      "Starting Training\n",
      "epoch: 00, loss: -0.91856\n",
      "epoch: 01, loss: -0.95092\n",
      "epoch: 02, loss: -0.95892\n",
      "epoch: 03, loss: -0.96339\n",
      "epoch: 04, loss: -0.96650\n",
      "epoch: 05, loss: -0.96882\n",
      "epoch: 06, loss: -0.97060\n",
      "epoch: 07, loss: -0.97206\n",
      "epoch: 08, loss: -0.97330\n",
      "epoch: 09, loss: -0.97432\n",
      "torch.Size([1024, 64])\n"
     ]
    },
    {
     "name": "stderr",
     "output_type": "stream",
     "text": [
      " 60%|██████    | 600/999 [8:05:28<3:12:55, 29.01s/it]"
     ]
    },
    {
     "name": "stdout",
     "output_type": "stream",
     "text": [
      "eigenvalues shape torch.Size([5]) eigenvectors shape torch.Size([5, 1024])\n",
      "600 /home/phdcs2/Hard_Disk/Datasets/Deep-Spectral-Segmentation/data/object-segmentation/ECSSD/features/0602_resized.pth\n",
      "dict_keys(['k', 'indices', 'file', 'id', 'model_name', 'patch_size', 'shape'])\n",
      "0602_resized\n",
      "Starting Training\n",
      "epoch: 00, loss: -0.88963\n",
      "epoch: 01, loss: -0.93547\n",
      "epoch: 02, loss: -0.94668\n",
      "epoch: 03, loss: -0.95299\n",
      "epoch: 04, loss: -0.95723\n",
      "epoch: 05, loss: -0.96028\n",
      "epoch: 06, loss: -0.96254\n",
      "epoch: 07, loss: -0.96450\n",
      "epoch: 08, loss: -0.96610\n",
      "epoch: 09, loss: -0.96745\n",
      "torch.Size([1024, 64])\n"
     ]
    },
    {
     "name": "stderr",
     "output_type": "stream",
     "text": [
      " 60%|██████    | 601/999 [8:06:05<3:28:29, 31.43s/it]"
     ]
    },
    {
     "name": "stdout",
     "output_type": "stream",
     "text": [
      "eigenvalues shape torch.Size([5]) eigenvectors shape torch.Size([5, 1024])\n",
      "601 /home/phdcs2/Hard_Disk/Datasets/Deep-Spectral-Segmentation/data/object-segmentation/ECSSD/features/0603_resized.pth\n",
      "dict_keys(['k', 'indices', 'file', 'id', 'model_name', 'patch_size', 'shape'])\n",
      "0603_resized\n",
      "Starting Training\n",
      "epoch: 00, loss: -0.91107\n",
      "epoch: 01, loss: -0.94776\n",
      "epoch: 02, loss: -0.95621\n",
      "epoch: 03, loss: -0.96107\n",
      "epoch: 04, loss: -0.96442\n",
      "epoch: 05, loss: -0.96685\n",
      "epoch: 06, loss: -0.96877\n",
      "epoch: 07, loss: -0.97032\n",
      "epoch: 08, loss: -0.97162\n",
      "epoch: 09, loss: -0.97273\n",
      "torch.Size([1024, 64])\n"
     ]
    },
    {
     "name": "stderr",
     "output_type": "stream",
     "text": [
      " 60%|██████    | 602/999 [8:06:33<3:21:48, 30.50s/it]"
     ]
    },
    {
     "name": "stdout",
     "output_type": "stream",
     "text": [
      "eigenvalues shape torch.Size([5]) eigenvectors shape torch.Size([5, 1024])\n",
      "602 /home/phdcs2/Hard_Disk/Datasets/Deep-Spectral-Segmentation/data/object-segmentation/ECSSD/features/0604_resized.pth\n",
      "dict_keys(['k', 'indices', 'file', 'id', 'model_name', 'patch_size', 'shape'])\n",
      "0604_resized\n",
      "Starting Training\n",
      "epoch: 00, loss: -0.88553\n",
      "epoch: 01, loss: -0.93290\n",
      "epoch: 02, loss: -0.94449\n",
      "epoch: 03, loss: -0.95095\n",
      "epoch: 04, loss: -0.95550\n",
      "epoch: 05, loss: -0.95877\n",
      "epoch: 06, loss: -0.96118\n",
      "epoch: 07, loss: -0.96324\n",
      "epoch: 08, loss: -0.96482\n",
      "epoch: 09, loss: -0.96628\n",
      "torch.Size([1024, 64])\n"
     ]
    },
    {
     "name": "stderr",
     "output_type": "stream",
     "text": [
      " 60%|██████    | 603/999 [8:06:57<3:08:15, 28.52s/it]"
     ]
    },
    {
     "name": "stdout",
     "output_type": "stream",
     "text": [
      "eigenvalues shape torch.Size([5]) eigenvectors shape torch.Size([5, 1024])\n",
      "603 /home/phdcs2/Hard_Disk/Datasets/Deep-Spectral-Segmentation/data/object-segmentation/ECSSD/features/0605_resized.pth\n",
      "dict_keys(['k', 'indices', 'file', 'id', 'model_name', 'patch_size', 'shape'])\n",
      "0605_resized\n",
      "Starting Training\n",
      "epoch: 00, loss: -0.91132\n",
      "epoch: 01, loss: -0.94644\n",
      "epoch: 02, loss: -0.95477\n",
      "epoch: 03, loss: -0.95961\n",
      "epoch: 04, loss: -0.96291\n",
      "epoch: 05, loss: -0.96539\n",
      "epoch: 06, loss: -0.96730\n",
      "epoch: 07, loss: -0.96890\n",
      "epoch: 08, loss: -0.97022\n",
      "epoch: 09, loss: -0.97135\n",
      "torch.Size([1024, 64])\n"
     ]
    },
    {
     "name": "stderr",
     "output_type": "stream",
     "text": [
      " 60%|██████    | 604/999 [8:07:36<3:28:48, 31.72s/it]"
     ]
    },
    {
     "name": "stdout",
     "output_type": "stream",
     "text": [
      "eigenvalues shape torch.Size([5]) eigenvectors shape torch.Size([5, 1024])\n",
      "604 /home/phdcs2/Hard_Disk/Datasets/Deep-Spectral-Segmentation/data/object-segmentation/ECSSD/features/0606_resized.pth\n",
      "dict_keys(['k', 'indices', 'file', 'id', 'model_name', 'patch_size', 'shape'])\n",
      "0606_resized\n",
      "Starting Training\n",
      "epoch: 00, loss: -0.91531\n",
      "epoch: 01, loss: -0.95159\n",
      "epoch: 02, loss: -0.95946\n",
      "epoch: 03, loss: -0.96400\n",
      "epoch: 04, loss: -0.96705\n",
      "epoch: 05, loss: -0.96933\n",
      "epoch: 06, loss: -0.97111\n",
      "epoch: 07, loss: -0.97253\n",
      "epoch: 08, loss: -0.97372\n",
      "epoch: 09, loss: -0.97477\n",
      "torch.Size([1024, 64])\n"
     ]
    },
    {
     "name": "stderr",
     "output_type": "stream",
     "text": [
      " 61%|██████    | 605/999 [8:08:18<3:47:33, 34.65s/it]"
     ]
    },
    {
     "name": "stdout",
     "output_type": "stream",
     "text": [
      "eigenvalues shape torch.Size([5]) eigenvectors shape torch.Size([5, 1024])\n",
      "605 /home/phdcs2/Hard_Disk/Datasets/Deep-Spectral-Segmentation/data/object-segmentation/ECSSD/features/0607_resized.pth\n",
      "dict_keys(['k', 'indices', 'file', 'id', 'model_name', 'patch_size', 'shape'])\n",
      "0607_resized\n",
      "Starting Training\n",
      "epoch: 00, loss: -0.89403\n",
      "epoch: 01, loss: -0.93727\n",
      "epoch: 02, loss: -0.94756\n",
      "epoch: 03, loss: -0.95358\n",
      "epoch: 04, loss: -0.95776\n",
      "epoch: 05, loss: -0.96065\n",
      "epoch: 06, loss: -0.96293\n",
      "epoch: 07, loss: -0.96480\n",
      "epoch: 08, loss: -0.96637\n",
      "epoch: 09, loss: -0.96762\n",
      "torch.Size([1024, 64])\n"
     ]
    },
    {
     "name": "stderr",
     "output_type": "stream",
     "text": [
      " 61%|██████    | 606/999 [8:08:54<3:51:03, 35.28s/it]"
     ]
    },
    {
     "name": "stdout",
     "output_type": "stream",
     "text": [
      "eigenvalues shape torch.Size([5]) eigenvectors shape torch.Size([5, 1024])\n",
      "606 /home/phdcs2/Hard_Disk/Datasets/Deep-Spectral-Segmentation/data/object-segmentation/ECSSD/features/0608_resized.pth\n",
      "dict_keys(['k', 'indices', 'file', 'id', 'model_name', 'patch_size', 'shape'])\n",
      "0608_resized\n",
      "Starting Training\n",
      "epoch: 00, loss: -0.94073\n",
      "epoch: 01, loss: -0.96482\n",
      "epoch: 02, loss: -0.96998\n",
      "epoch: 03, loss: -0.97300\n",
      "epoch: 04, loss: -0.97506\n",
      "epoch: 05, loss: -0.97663\n",
      "epoch: 06, loss: -0.97787\n",
      "epoch: 07, loss: -0.97887\n",
      "epoch: 08, loss: -0.97971\n",
      "epoch: 09, loss: -0.98043\n",
      "torch.Size([1024, 64])\n"
     ]
    },
    {
     "name": "stderr",
     "output_type": "stream",
     "text": [
      " 61%|██████    | 607/999 [8:09:23<3:38:11, 33.40s/it]"
     ]
    },
    {
     "name": "stdout",
     "output_type": "stream",
     "text": [
      "eigenvalues shape torch.Size([5]) eigenvectors shape torch.Size([5, 1024])\n",
      "607 /home/phdcs2/Hard_Disk/Datasets/Deep-Spectral-Segmentation/data/object-segmentation/ECSSD/features/0609_resized.pth\n",
      "dict_keys(['k', 'indices', 'file', 'id', 'model_name', 'patch_size', 'shape'])\n",
      "0609_resized\n",
      "Starting Training\n",
      "epoch: 00, loss: -0.92747\n",
      "epoch: 01, loss: -0.95843\n",
      "epoch: 02, loss: -0.96503\n",
      "epoch: 03, loss: -0.96883\n",
      "epoch: 04, loss: -0.97138\n",
      "epoch: 05, loss: -0.97330\n",
      "epoch: 06, loss: -0.97480\n",
      "epoch: 07, loss: -0.97600\n",
      "epoch: 08, loss: -0.97702\n",
      "epoch: 09, loss: -0.97788\n",
      "torch.Size([1024, 64])\n"
     ]
    },
    {
     "name": "stderr",
     "output_type": "stream",
     "text": [
      " 61%|██████    | 608/999 [8:09:51<3:26:25, 31.68s/it]"
     ]
    },
    {
     "name": "stdout",
     "output_type": "stream",
     "text": [
      "eigenvalues shape torch.Size([5]) eigenvectors shape torch.Size([5, 1024])\n",
      "608 /home/phdcs2/Hard_Disk/Datasets/Deep-Spectral-Segmentation/data/object-segmentation/ECSSD/features/0610_resized.pth\n",
      "dict_keys(['k', 'indices', 'file', 'id', 'model_name', 'patch_size', 'shape'])\n",
      "0610_resized\n",
      "Starting Training\n",
      "epoch: 00, loss: -0.92599\n",
      "epoch: 01, loss: -0.95591\n",
      "epoch: 02, loss: -0.96314\n",
      "epoch: 03, loss: -0.96734\n",
      "epoch: 04, loss: -0.97024\n",
      "epoch: 05, loss: -0.97230\n",
      "epoch: 06, loss: -0.97393\n",
      "epoch: 07, loss: -0.97526\n",
      "epoch: 08, loss: -0.97639\n"
     ]
    },
    {
     "name": "stderr",
     "output_type": "stream",
     "text": [
      " 61%|██████    | 609/999 [8:10:17<3:15:52, 30.14s/it]"
     ]
    },
    {
     "name": "stdout",
     "output_type": "stream",
     "text": [
      "epoch: 09, loss: -0.97739\n",
      "torch.Size([1024, 64])\n",
      "eigenvalues shape torch.Size([5]) eigenvectors shape torch.Size([5, 1024])\n",
      "609 /home/phdcs2/Hard_Disk/Datasets/Deep-Spectral-Segmentation/data/object-segmentation/ECSSD/features/0611_resized.pth\n",
      "dict_keys(['k', 'indices', 'file', 'id', 'model_name', 'patch_size', 'shape'])\n",
      "0611_resized\n",
      "Starting Training\n",
      "epoch: 00, loss: -0.92156\n",
      "epoch: 01, loss: -0.95187\n",
      "epoch: 02, loss: -0.95973\n",
      "epoch: 03, loss: -0.96429\n",
      "epoch: 04, loss: -0.96737\n",
      "epoch: 05, loss: -0.96965\n",
      "epoch: 06, loss: -0.97146\n",
      "epoch: 07, loss: -0.97290\n",
      "epoch: 08, loss: -0.97412\n"
     ]
    },
    {
     "name": "stderr",
     "output_type": "stream",
     "text": [
      " 61%|██████    | 610/999 [8:10:44<3:08:44, 29.11s/it]"
     ]
    },
    {
     "name": "stdout",
     "output_type": "stream",
     "text": [
      "epoch: 09, loss: -0.97516\n",
      "torch.Size([1024, 64])\n",
      "eigenvalues shape torch.Size([5]) eigenvectors shape torch.Size([5, 1024])\n",
      "610 /home/phdcs2/Hard_Disk/Datasets/Deep-Spectral-Segmentation/data/object-segmentation/ECSSD/features/0612_resized.pth\n",
      "dict_keys(['k', 'indices', 'file', 'id', 'model_name', 'patch_size', 'shape'])\n",
      "0612_resized\n",
      "Starting Training\n",
      "epoch: 00, loss: -0.92804\n",
      "epoch: 01, loss: -0.95782\n",
      "epoch: 02, loss: -0.96430\n",
      "epoch: 03, loss: -0.96807\n",
      "epoch: 04, loss: -0.97065\n",
      "epoch: 05, loss: -0.97260\n",
      "epoch: 06, loss: -0.97407\n",
      "epoch: 07, loss: -0.97532\n",
      "epoch: 08, loss: -0.97634\n",
      "epoch: 09, loss: -0.97724\n",
      "torch.Size([1024, 64])\n"
     ]
    },
    {
     "name": "stderr",
     "output_type": "stream",
     "text": [
      " 61%|██████    | 611/999 [8:11:10<3:02:12, 28.18s/it]"
     ]
    },
    {
     "name": "stdout",
     "output_type": "stream",
     "text": [
      "eigenvalues shape torch.Size([5]) eigenvectors shape torch.Size([5, 1024])\n",
      "611 /home/phdcs2/Hard_Disk/Datasets/Deep-Spectral-Segmentation/data/object-segmentation/ECSSD/features/0613_resized.pth\n",
      "dict_keys(['k', 'indices', 'file', 'id', 'model_name', 'patch_size', 'shape'])\n",
      "0613_resized\n",
      "Starting Training\n",
      "epoch: 00, loss: -0.92986\n",
      "epoch: 01, loss: -0.95887\n",
      "epoch: 02, loss: -0.96518\n",
      "epoch: 03, loss: -0.96879\n",
      "epoch: 04, loss: -0.97131\n",
      "epoch: 05, loss: -0.97316\n",
      "epoch: 06, loss: -0.97461\n",
      "epoch: 07, loss: -0.97579\n",
      "epoch: 08, loss: -0.97678\n",
      "epoch: 09, loss: -0.97762\n",
      "torch.Size([1024, 64])\n"
     ]
    },
    {
     "name": "stderr",
     "output_type": "stream",
     "text": [
      " 61%|██████▏   | 612/999 [8:11:37<2:59:43, 27.86s/it]"
     ]
    },
    {
     "name": "stdout",
     "output_type": "stream",
     "text": [
      "eigenvalues shape torch.Size([5]) eigenvectors shape torch.Size([5, 1024])\n",
      "612 /home/phdcs2/Hard_Disk/Datasets/Deep-Spectral-Segmentation/data/object-segmentation/ECSSD/features/0614_resized.pth\n",
      "dict_keys(['k', 'indices', 'file', 'id', 'model_name', 'patch_size', 'shape'])\n",
      "0614_resized\n",
      "Starting Training\n",
      "epoch: 00, loss: -0.92911\n",
      "epoch: 01, loss: -0.95676\n",
      "epoch: 02, loss: -0.96327\n",
      "epoch: 03, loss: -0.96701\n",
      "epoch: 04, loss: -0.96959\n",
      "epoch: 05, loss: -0.97154\n",
      "epoch: 06, loss: -0.97307\n",
      "epoch: 07, loss: -0.97428\n",
      "epoch: 08, loss: -0.97535\n"
     ]
    },
    {
     "name": "stderr",
     "output_type": "stream",
     "text": [
      " 61%|██████▏   | 613/999 [8:12:05<2:58:06, 27.69s/it]"
     ]
    },
    {
     "name": "stdout",
     "output_type": "stream",
     "text": [
      "epoch: 09, loss: -0.97620\n",
      "torch.Size([1024, 64])\n",
      "eigenvalues shape torch.Size([5]) eigenvectors shape torch.Size([5, 1024])\n",
      "613 /home/phdcs2/Hard_Disk/Datasets/Deep-Spectral-Segmentation/data/object-segmentation/ECSSD/features/0615_resized.pth\n",
      "dict_keys(['k', 'indices', 'file', 'id', 'model_name', 'patch_size', 'shape'])\n",
      "0615_resized\n",
      "Starting Training\n",
      "epoch: 00, loss: -0.85249\n",
      "epoch: 01, loss: -0.91464\n",
      "epoch: 02, loss: -0.93039\n",
      "epoch: 03, loss: -0.93896\n",
      "epoch: 04, loss: -0.94457\n",
      "epoch: 05, loss: -0.94857\n",
      "epoch: 06, loss: -0.95176\n",
      "epoch: 07, loss: -0.95427\n",
      "epoch: 08, loss: -0.95646\n",
      "epoch: 09, loss: -0.95821\n",
      "torch.Size([1024, 64])\n"
     ]
    },
    {
     "name": "stderr",
     "output_type": "stream",
     "text": [
      " 61%|██████▏   | 614/999 [8:12:32<2:56:19, 27.48s/it]"
     ]
    },
    {
     "name": "stdout",
     "output_type": "stream",
     "text": [
      "eigenvalues shape torch.Size([5]) eigenvectors shape torch.Size([5, 1024])\n",
      "614 /home/phdcs2/Hard_Disk/Datasets/Deep-Spectral-Segmentation/data/object-segmentation/ECSSD/features/0616_resized.pth\n",
      "dict_keys(['k', 'indices', 'file', 'id', 'model_name', 'patch_size', 'shape'])\n",
      "0616_resized\n",
      "Starting Training\n",
      "epoch: 00, loss: -0.91708\n",
      "epoch: 01, loss: -0.94838\n",
      "epoch: 02, loss: -0.95642\n",
      "epoch: 03, loss: -0.96108\n",
      "epoch: 04, loss: -0.96425\n",
      "epoch: 05, loss: -0.96663\n",
      "epoch: 06, loss: -0.96847\n",
      "epoch: 07, loss: -0.96999\n",
      "epoch: 08, loss: -0.97126\n"
     ]
    },
    {
     "name": "stderr",
     "output_type": "stream",
     "text": [
      " 62%|██████▏   | 615/999 [8:12:58<2:52:55, 27.02s/it]"
     ]
    },
    {
     "name": "stdout",
     "output_type": "stream",
     "text": [
      "epoch: 09, loss: -0.97231\n",
      "torch.Size([1024, 64])\n",
      "eigenvalues shape torch.Size([5]) eigenvectors shape torch.Size([5, 1024])\n",
      "615 /home/phdcs2/Hard_Disk/Datasets/Deep-Spectral-Segmentation/data/object-segmentation/ECSSD/features/0617_resized.pth\n",
      "dict_keys(['k', 'indices', 'file', 'id', 'model_name', 'patch_size', 'shape'])\n",
      "0617_resized\n",
      "Starting Training\n",
      "epoch: 00, loss: -0.91667\n",
      "epoch: 01, loss: -0.95303\n",
      "epoch: 02, loss: -0.96021\n",
      "epoch: 03, loss: -0.96437\n",
      "epoch: 04, loss: -0.96724\n",
      "epoch: 05, loss: -0.96930\n",
      "epoch: 06, loss: -0.97095\n",
      "epoch: 07, loss: -0.97229\n",
      "epoch: 08, loss: -0.97343\n"
     ]
    },
    {
     "name": "stderr",
     "output_type": "stream",
     "text": [
      " 62%|██████▏   | 616/999 [8:13:24<2:51:57, 26.94s/it]"
     ]
    },
    {
     "name": "stdout",
     "output_type": "stream",
     "text": [
      "epoch: 09, loss: -0.97437\n",
      "torch.Size([1024, 64])\n",
      "eigenvalues shape torch.Size([5]) eigenvectors shape torch.Size([5, 1024])\n",
      "616 /home/phdcs2/Hard_Disk/Datasets/Deep-Spectral-Segmentation/data/object-segmentation/ECSSD/features/0618_resized.pth\n",
      "dict_keys(['k', 'indices', 'file', 'id', 'model_name', 'patch_size', 'shape'])\n",
      "0618_resized\n",
      "Starting Training\n",
      "epoch: 00, loss: -0.86017\n",
      "epoch: 01, loss: -0.91653\n",
      "epoch: 02, loss: -0.93126\n",
      "epoch: 03, loss: -0.93965\n",
      "epoch: 04, loss: -0.94539\n",
      "epoch: 05, loss: -0.94936\n",
      "epoch: 06, loss: -0.95260\n",
      "epoch: 07, loss: -0.95510\n",
      "epoch: 08, loss: -0.95727\n",
      "epoch: 09, loss: -0.95890\n",
      "torch.Size([1024, 64])\n"
     ]
    },
    {
     "name": "stderr",
     "output_type": "stream",
     "text": [
      " 62%|██████▏   | 617/999 [8:13:52<2:52:08, 27.04s/it]"
     ]
    },
    {
     "name": "stdout",
     "output_type": "stream",
     "text": [
      "eigenvalues shape torch.Size([5]) eigenvectors shape torch.Size([5, 1024])\n",
      "617 /home/phdcs2/Hard_Disk/Datasets/Deep-Spectral-Segmentation/data/object-segmentation/ECSSD/features/0619_resized.pth\n",
      "dict_keys(['k', 'indices', 'file', 'id', 'model_name', 'patch_size', 'shape'])\n",
      "0619_resized\n",
      "Starting Training\n",
      "epoch: 00, loss: -0.91414\n",
      "epoch: 01, loss: -0.94883\n",
      "epoch: 02, loss: -0.95700\n",
      "epoch: 03, loss: -0.96169\n",
      "epoch: 04, loss: -0.96488\n",
      "epoch: 05, loss: -0.96731\n",
      "epoch: 06, loss: -0.96916\n",
      "epoch: 07, loss: -0.97065\n",
      "epoch: 08, loss: -0.97192\n"
     ]
    },
    {
     "name": "stderr",
     "output_type": "stream",
     "text": [
      " 62%|██████▏   | 618/999 [8:14:17<2:49:29, 26.69s/it]"
     ]
    },
    {
     "name": "stdout",
     "output_type": "stream",
     "text": [
      "epoch: 09, loss: -0.97300\n",
      "torch.Size([1024, 64])\n",
      "eigenvalues shape torch.Size([5]) eigenvectors shape torch.Size([5, 1024])\n",
      "618 /home/phdcs2/Hard_Disk/Datasets/Deep-Spectral-Segmentation/data/object-segmentation/ECSSD/features/0620_resized.pth\n",
      "dict_keys(['k', 'indices', 'file', 'id', 'model_name', 'patch_size', 'shape'])\n",
      "0620_resized\n",
      "Starting Training\n",
      "epoch: 00, loss: -0.92015\n",
      "epoch: 01, loss: -0.95321\n",
      "epoch: 02, loss: -0.96052\n",
      "epoch: 03, loss: -0.96464\n",
      "epoch: 04, loss: -0.96755\n",
      "epoch: 05, loss: -0.96963\n",
      "epoch: 06, loss: -0.97132\n",
      "epoch: 07, loss: -0.97267\n",
      "epoch: 08, loss: -0.97381\n"
     ]
    },
    {
     "name": "stderr",
     "output_type": "stream",
     "text": [
      " 62%|██████▏   | 619/999 [8:14:44<2:48:45, 26.65s/it]"
     ]
    },
    {
     "name": "stdout",
     "output_type": "stream",
     "text": [
      "epoch: 09, loss: -0.97480\n",
      "torch.Size([1024, 64])\n",
      "eigenvalues shape torch.Size([5]) eigenvectors shape torch.Size([5, 1024])\n",
      "619 /home/phdcs2/Hard_Disk/Datasets/Deep-Spectral-Segmentation/data/object-segmentation/ECSSD/features/0621_resized.pth\n",
      "dict_keys(['k', 'indices', 'file', 'id', 'model_name', 'patch_size', 'shape'])\n",
      "0621_resized\n",
      "Starting Training\n",
      "epoch: 00, loss: -0.92455\n",
      "epoch: 01, loss: -0.95560\n",
      "epoch: 02, loss: -0.96250\n",
      "epoch: 03, loss: -0.96654\n",
      "epoch: 04, loss: -0.96924\n",
      "epoch: 05, loss: -0.97124\n",
      "epoch: 06, loss: -0.97286\n",
      "epoch: 07, loss: -0.97415\n",
      "epoch: 08, loss: -0.97518\n",
      "epoch: 09, loss: -0.97612\n",
      "torch.Size([1024, 64])\n"
     ]
    },
    {
     "name": "stderr",
     "output_type": "stream",
     "text": [
      " 62%|██████▏   | 620/999 [8:15:13<2:52:07, 27.25s/it]"
     ]
    },
    {
     "name": "stdout",
     "output_type": "stream",
     "text": [
      "eigenvalues shape torch.Size([5]) eigenvectors shape torch.Size([5, 1024])\n",
      "620 /home/phdcs2/Hard_Disk/Datasets/Deep-Spectral-Segmentation/data/object-segmentation/ECSSD/features/0622_resized.pth\n",
      "dict_keys(['k', 'indices', 'file', 'id', 'model_name', 'patch_size', 'shape'])\n",
      "0622_resized\n",
      "Starting Training\n",
      "epoch: 00, loss: -0.86532\n",
      "epoch: 01, loss: -0.92302\n",
      "epoch: 02, loss: -0.93693\n",
      "epoch: 03, loss: -0.94468\n",
      "epoch: 04, loss: -0.94992\n",
      "epoch: 05, loss: -0.95367\n",
      "epoch: 06, loss: -0.95666\n",
      "epoch: 07, loss: -0.95904\n",
      "epoch: 08, loss: -0.96096\n",
      "epoch: 09, loss: -0.96259\n",
      "torch.Size([1024, 64])\n"
     ]
    },
    {
     "name": "stderr",
     "output_type": "stream",
     "text": [
      " 62%|██████▏   | 621/999 [8:15:39<2:50:46, 27.11s/it]"
     ]
    },
    {
     "name": "stdout",
     "output_type": "stream",
     "text": [
      "eigenvalues shape torch.Size([5]) eigenvectors shape torch.Size([5, 1024])\n",
      "621 /home/phdcs2/Hard_Disk/Datasets/Deep-Spectral-Segmentation/data/object-segmentation/ECSSD/features/0623_resized.pth\n",
      "dict_keys(['k', 'indices', 'file', 'id', 'model_name', 'patch_size', 'shape'])\n",
      "0623_resized\n",
      "Starting Training\n",
      "epoch: 00, loss: -0.91194\n",
      "epoch: 01, loss: -0.94381\n",
      "epoch: 02, loss: -0.95229\n",
      "epoch: 03, loss: -0.95734\n",
      "epoch: 04, loss: -0.96087\n",
      "epoch: 05, loss: -0.96347\n",
      "epoch: 06, loss: -0.96554\n",
      "epoch: 07, loss: -0.96718\n",
      "epoch: 08, loss: -0.96863\n",
      "epoch: 09, loss: -0.96981\n",
      "torch.Size([1024, 64])\n"
     ]
    },
    {
     "name": "stderr",
     "output_type": "stream",
     "text": [
      " 62%|██████▏   | 622/999 [8:16:07<2:51:55, 27.36s/it]"
     ]
    },
    {
     "name": "stdout",
     "output_type": "stream",
     "text": [
      "eigenvalues shape torch.Size([5]) eigenvectors shape torch.Size([5, 1024])\n",
      "622 /home/phdcs2/Hard_Disk/Datasets/Deep-Spectral-Segmentation/data/object-segmentation/ECSSD/features/0624_resized.pth\n",
      "dict_keys(['k', 'indices', 'file', 'id', 'model_name', 'patch_size', 'shape'])\n",
      "0624_resized\n",
      "Starting Training\n",
      "epoch: 00, loss: -0.93437\n",
      "epoch: 01, loss: -0.95954\n",
      "epoch: 02, loss: -0.96536\n",
      "epoch: 03, loss: -0.96877\n",
      "epoch: 04, loss: -0.97115\n",
      "epoch: 05, loss: -0.97290\n",
      "epoch: 06, loss: -0.97430\n",
      "epoch: 07, loss: -0.97544\n",
      "epoch: 08, loss: -0.97643\n"
     ]
    },
    {
     "name": "stderr",
     "output_type": "stream",
     "text": [
      " 62%|██████▏   | 623/999 [8:16:34<2:50:32, 27.22s/it]"
     ]
    },
    {
     "name": "stdout",
     "output_type": "stream",
     "text": [
      "epoch: 09, loss: -0.97724\n",
      "torch.Size([1024, 64])\n",
      "eigenvalues shape torch.Size([5]) eigenvectors shape torch.Size([5, 1024])\n",
      "623 /home/phdcs2/Hard_Disk/Datasets/Deep-Spectral-Segmentation/data/object-segmentation/ECSSD/features/0625_resized.pth\n",
      "dict_keys(['k', 'indices', 'file', 'id', 'model_name', 'patch_size', 'shape'])\n",
      "0625_resized\n",
      "Starting Training\n",
      "epoch: 00, loss: -0.88174\n",
      "epoch: 01, loss: -0.93092\n",
      "epoch: 02, loss: -0.94291\n",
      "epoch: 03, loss: -0.94970\n",
      "epoch: 04, loss: -0.95416\n",
      "epoch: 05, loss: -0.95748\n",
      "epoch: 06, loss: -0.96013\n",
      "epoch: 07, loss: -0.96218\n",
      "epoch: 08, loss: -0.96392\n",
      "epoch: 09, loss: -0.96537\n",
      "torch.Size([1024, 64])\n"
     ]
    },
    {
     "name": "stderr",
     "output_type": "stream",
     "text": [
      " 62%|██████▏   | 624/999 [8:17:02<2:50:31, 27.28s/it]"
     ]
    },
    {
     "name": "stdout",
     "output_type": "stream",
     "text": [
      "eigenvalues shape torch.Size([5]) eigenvectors shape torch.Size([5, 1024])\n",
      "624 /home/phdcs2/Hard_Disk/Datasets/Deep-Spectral-Segmentation/data/object-segmentation/ECSSD/features/0626_resized.pth\n",
      "dict_keys(['k', 'indices', 'file', 'id', 'model_name', 'patch_size', 'shape'])\n",
      "0626_resized\n",
      "Starting Training\n",
      "epoch: 00, loss: -0.89361\n",
      "epoch: 01, loss: -0.93711\n",
      "epoch: 02, loss: -0.94770\n",
      "epoch: 03, loss: -0.95380\n",
      "epoch: 04, loss: -0.95801\n",
      "epoch: 05, loss: -0.96100\n",
      "epoch: 06, loss: -0.96336\n",
      "epoch: 07, loss: -0.96521\n",
      "epoch: 08, loss: -0.96685\n"
     ]
    },
    {
     "name": "stderr",
     "output_type": "stream",
     "text": [
      " 63%|██████▎   | 625/999 [8:17:29<2:49:14, 27.15s/it]"
     ]
    },
    {
     "name": "stdout",
     "output_type": "stream",
     "text": [
      "epoch: 09, loss: -0.96811\n",
      "torch.Size([1024, 64])\n",
      "eigenvalues shape torch.Size([5]) eigenvectors shape torch.Size([5, 1024])\n",
      "625 /home/phdcs2/Hard_Disk/Datasets/Deep-Spectral-Segmentation/data/object-segmentation/ECSSD/features/0627_resized.pth\n",
      "dict_keys(['k', 'indices', 'file', 'id', 'model_name', 'patch_size', 'shape'])\n",
      "0627_resized\n",
      "Starting Training\n",
      "epoch: 00, loss: -0.87622\n",
      "epoch: 01, loss: -0.93209\n",
      "epoch: 02, loss: -0.94350\n",
      "epoch: 03, loss: -0.95017\n",
      "epoch: 04, loss: -0.95459\n",
      "epoch: 05, loss: -0.95783\n",
      "epoch: 06, loss: -0.96036\n",
      "epoch: 07, loss: -0.96228\n",
      "epoch: 08, loss: -0.96402\n"
     ]
    },
    {
     "name": "stderr",
     "output_type": "stream",
     "text": [
      " 63%|██████▎   | 626/999 [8:17:55<2:47:29, 26.94s/it]"
     ]
    },
    {
     "name": "stdout",
     "output_type": "stream",
     "text": [
      "epoch: 09, loss: -0.96545\n",
      "torch.Size([1024, 64])\n",
      "eigenvalues shape torch.Size([5]) eigenvectors shape torch.Size([5, 1024])\n",
      "626 /home/phdcs2/Hard_Disk/Datasets/Deep-Spectral-Segmentation/data/object-segmentation/ECSSD/features/0628_resized.pth\n",
      "dict_keys(['k', 'indices', 'file', 'id', 'model_name', 'patch_size', 'shape'])\n",
      "0628_resized\n",
      "Starting Training\n",
      "epoch: 00, loss: -0.92225\n",
      "epoch: 01, loss: -0.95552\n",
      "epoch: 02, loss: -0.96245\n",
      "epoch: 03, loss: -0.96647\n",
      "epoch: 04, loss: -0.96917\n",
      "epoch: 05, loss: -0.97120\n",
      "epoch: 06, loss: -0.97277\n",
      "epoch: 07, loss: -0.97406\n",
      "epoch: 08, loss: -0.97514\n",
      "epoch: 09, loss: -0.97606\n",
      "torch.Size([1024, 64])\n"
     ]
    },
    {
     "name": "stderr",
     "output_type": "stream",
     "text": [
      " 63%|██████▎   | 627/999 [8:18:23<2:48:49, 27.23s/it]"
     ]
    },
    {
     "name": "stdout",
     "output_type": "stream",
     "text": [
      "eigenvalues shape torch.Size([5]) eigenvectors shape torch.Size([5, 1024])\n",
      "627 /home/phdcs2/Hard_Disk/Datasets/Deep-Spectral-Segmentation/data/object-segmentation/ECSSD/features/0629_resized.pth\n",
      "dict_keys(['k', 'indices', 'file', 'id', 'model_name', 'patch_size', 'shape'])\n",
      "0629_resized\n",
      "Starting Training\n",
      "epoch: 00, loss: -0.91804\n",
      "epoch: 01, loss: -0.95094\n",
      "epoch: 02, loss: -0.95867\n",
      "epoch: 03, loss: -0.96311\n",
      "epoch: 04, loss: -0.96615\n",
      "epoch: 05, loss: -0.96843\n",
      "epoch: 06, loss: -0.97020\n",
      "epoch: 07, loss: -0.97164\n",
      "epoch: 08, loss: -0.97286\n",
      "epoch: 09, loss: -0.97388\n",
      "torch.Size([1024, 64])\n"
     ]
    },
    {
     "name": "stderr",
     "output_type": "stream",
     "text": [
      " 63%|██████▎   | 628/999 [8:18:50<2:47:47, 27.14s/it]"
     ]
    },
    {
     "name": "stdout",
     "output_type": "stream",
     "text": [
      "eigenvalues shape torch.Size([5]) eigenvectors shape torch.Size([5, 1024])\n",
      "628 /home/phdcs2/Hard_Disk/Datasets/Deep-Spectral-Segmentation/data/object-segmentation/ECSSD/features/0630_resized.pth\n",
      "dict_keys(['k', 'indices', 'file', 'id', 'model_name', 'patch_size', 'shape'])\n",
      "0630_resized\n",
      "Starting Training\n",
      "epoch: 00, loss: -0.90715\n",
      "epoch: 01, loss: -0.94524\n",
      "epoch: 02, loss: -0.95434\n",
      "epoch: 03, loss: -0.95961\n",
      "epoch: 04, loss: -0.96318\n",
      "epoch: 05, loss: -0.96584\n",
      "epoch: 06, loss: -0.96791\n",
      "epoch: 07, loss: -0.96957\n",
      "epoch: 08, loss: -0.97096\n",
      "epoch: 09, loss: -0.97214\n",
      "torch.Size([1024, 64])\n"
     ]
    },
    {
     "name": "stderr",
     "output_type": "stream",
     "text": [
      " 63%|██████▎   | 629/999 [8:19:18<2:48:23, 27.31s/it]"
     ]
    },
    {
     "name": "stdout",
     "output_type": "stream",
     "text": [
      "eigenvalues shape torch.Size([5]) eigenvectors shape torch.Size([5, 1024])\n",
      "629 /home/phdcs2/Hard_Disk/Datasets/Deep-Spectral-Segmentation/data/object-segmentation/ECSSD/features/0631_resized.pth\n",
      "dict_keys(['k', 'indices', 'file', 'id', 'model_name', 'patch_size', 'shape'])\n",
      "0631_resized\n",
      "Starting Training\n",
      "epoch: 00, loss: -0.91749\n",
      "epoch: 01, loss: -0.95041\n",
      "epoch: 02, loss: -0.95810\n",
      "epoch: 03, loss: -0.96250\n",
      "epoch: 04, loss: -0.96554\n",
      "epoch: 05, loss: -0.96779\n",
      "epoch: 06, loss: -0.96956\n",
      "epoch: 07, loss: -0.97099\n",
      "epoch: 08, loss: -0.97221\n"
     ]
    },
    {
     "name": "stderr",
     "output_type": "stream",
     "text": [
      " 63%|██████▎   | 630/999 [8:19:45<2:47:29, 27.23s/it]"
     ]
    },
    {
     "name": "stdout",
     "output_type": "stream",
     "text": [
      "epoch: 09, loss: -0.97323\n",
      "torch.Size([1024, 64])\n",
      "eigenvalues shape torch.Size([5]) eigenvectors shape torch.Size([5, 1024])\n",
      "630 /home/phdcs2/Hard_Disk/Datasets/Deep-Spectral-Segmentation/data/object-segmentation/ECSSD/features/0632_resized.pth\n",
      "dict_keys(['k', 'indices', 'file', 'id', 'model_name', 'patch_size', 'shape'])\n",
      "0632_resized\n",
      "Starting Training\n",
      "epoch: 00, loss: -0.91972\n",
      "epoch: 01, loss: -0.95281\n",
      "epoch: 02, loss: -0.96007\n",
      "epoch: 03, loss: -0.96429\n",
      "epoch: 04, loss: -0.96717\n",
      "epoch: 05, loss: -0.96932\n",
      "epoch: 06, loss: -0.97098\n",
      "epoch: 07, loss: -0.97234\n",
      "epoch: 08, loss: -0.97350\n",
      "epoch: 09, loss: -0.97443\n",
      "torch.Size([1024, 64])\n"
     ]
    },
    {
     "name": "stderr",
     "output_type": "stream",
     "text": [
      " 63%|██████▎   | 631/999 [8:20:12<2:47:52, 27.37s/it]"
     ]
    },
    {
     "name": "stdout",
     "output_type": "stream",
     "text": [
      "eigenvalues shape torch.Size([5]) eigenvectors shape torch.Size([5, 1024])\n",
      "631 /home/phdcs2/Hard_Disk/Datasets/Deep-Spectral-Segmentation/data/object-segmentation/ECSSD/features/0633_resized.pth\n",
      "dict_keys(['k', 'indices', 'file', 'id', 'model_name', 'patch_size', 'shape'])\n",
      "0633_resized\n",
      "Starting Training\n",
      "epoch: 00, loss: -0.91406\n",
      "epoch: 01, loss: -0.95038\n",
      "epoch: 02, loss: -0.95819\n",
      "epoch: 03, loss: -0.96263\n",
      "epoch: 04, loss: -0.96572\n",
      "epoch: 05, loss: -0.96793\n",
      "epoch: 06, loss: -0.96969\n",
      "epoch: 07, loss: -0.97113\n",
      "epoch: 08, loss: -0.97231\n"
     ]
    },
    {
     "name": "stderr",
     "output_type": "stream",
     "text": [
      " 63%|██████▎   | 632/999 [8:20:38<2:44:55, 26.96s/it]"
     ]
    },
    {
     "name": "stdout",
     "output_type": "stream",
     "text": [
      "epoch: 09, loss: -0.97333\n",
      "torch.Size([1024, 64])\n",
      "eigenvalues shape torch.Size([5]) eigenvectors shape torch.Size([5, 1024])\n",
      "632 /home/phdcs2/Hard_Disk/Datasets/Deep-Spectral-Segmentation/data/object-segmentation/ECSSD/features/0634_resized.pth\n",
      "dict_keys(['k', 'indices', 'file', 'id', 'model_name', 'patch_size', 'shape'])\n",
      "0634_resized\n",
      "Starting Training\n",
      "epoch: 00, loss: -0.91700\n",
      "epoch: 01, loss: -0.94974\n",
      "epoch: 02, loss: -0.95746\n",
      "epoch: 03, loss: -0.96190\n",
      "epoch: 04, loss: -0.96497\n",
      "epoch: 05, loss: -0.96724\n",
      "epoch: 06, loss: -0.96905\n",
      "epoch: 07, loss: -0.97045\n",
      "epoch: 08, loss: -0.97173\n",
      "epoch: 09, loss: -0.97273\n",
      "torch.Size([1024, 64])\n"
     ]
    },
    {
     "name": "stderr",
     "output_type": "stream",
     "text": [
      " 63%|██████▎   | 633/999 [8:21:05<2:44:35, 26.98s/it]"
     ]
    },
    {
     "name": "stdout",
     "output_type": "stream",
     "text": [
      "eigenvalues shape torch.Size([5]) eigenvectors shape torch.Size([5, 1024])\n",
      "633 /home/phdcs2/Hard_Disk/Datasets/Deep-Spectral-Segmentation/data/object-segmentation/ECSSD/features/0635_resized.pth\n",
      "dict_keys(['k', 'indices', 'file', 'id', 'model_name', 'patch_size', 'shape'])\n",
      "0635_resized\n",
      "Starting Training\n",
      "epoch: 00, loss: -0.91049\n",
      "epoch: 01, loss: -0.94459\n",
      "epoch: 02, loss: -0.95332\n",
      "epoch: 03, loss: -0.95837\n",
      "epoch: 04, loss: -0.96181\n",
      "epoch: 05, loss: -0.96436\n",
      "epoch: 06, loss: -0.96635\n",
      "epoch: 07, loss: -0.96799\n",
      "epoch: 08, loss: -0.96936\n",
      "epoch: 09, loss: -0.97053\n",
      "torch.Size([1024, 64])\n"
     ]
    },
    {
     "name": "stderr",
     "output_type": "stream",
     "text": [
      " 63%|██████▎   | 634/999 [8:21:32<2:43:53, 26.94s/it]"
     ]
    },
    {
     "name": "stdout",
     "output_type": "stream",
     "text": [
      "eigenvalues shape torch.Size([5]) eigenvectors shape torch.Size([5, 1024])\n",
      "634 /home/phdcs2/Hard_Disk/Datasets/Deep-Spectral-Segmentation/data/object-segmentation/ECSSD/features/0636_resized.pth\n",
      "dict_keys(['k', 'indices', 'file', 'id', 'model_name', 'patch_size', 'shape'])\n",
      "0636_resized\n",
      "Starting Training\n",
      "epoch: 00, loss: -0.88002\n",
      "epoch: 01, loss: -0.92702\n",
      "epoch: 02, loss: -0.93903\n",
      "epoch: 03, loss: -0.94615\n",
      "epoch: 04, loss: -0.95099\n",
      "epoch: 05, loss: -0.95450\n",
      "epoch: 06, loss: -0.95726\n",
      "epoch: 07, loss: -0.95955\n",
      "epoch: 08, loss: -0.96136\n",
      "epoch: 09, loss: -0.96299\n",
      "torch.Size([1024, 64])\n"
     ]
    },
    {
     "name": "stderr",
     "output_type": "stream",
     "text": [
      " 64%|██████▎   | 635/999 [8:21:59<2:43:41, 26.98s/it]"
     ]
    },
    {
     "name": "stdout",
     "output_type": "stream",
     "text": [
      "eigenvalues shape torch.Size([5]) eigenvectors shape torch.Size([5, 1024])\n",
      "635 /home/phdcs2/Hard_Disk/Datasets/Deep-Spectral-Segmentation/data/object-segmentation/ECSSD/features/0637_resized.pth\n",
      "dict_keys(['k', 'indices', 'file', 'id', 'model_name', 'patch_size', 'shape'])\n",
      "0637_resized\n",
      "Starting Training\n",
      "epoch: 00, loss: -0.91605\n",
      "epoch: 01, loss: -0.94924\n",
      "epoch: 02, loss: -0.95722\n",
      "epoch: 03, loss: -0.96189\n",
      "epoch: 04, loss: -0.96511\n",
      "epoch: 05, loss: -0.96747\n",
      "epoch: 06, loss: -0.96937\n",
      "epoch: 07, loss: -0.97085\n",
      "epoch: 08, loss: -0.97211\n",
      "epoch: 09, loss: -0.97319\n",
      "torch.Size([1024, 64])\n"
     ]
    },
    {
     "name": "stderr",
     "output_type": "stream",
     "text": [
      " 64%|██████▎   | 636/999 [8:22:27<2:43:59, 27.11s/it]"
     ]
    },
    {
     "name": "stdout",
     "output_type": "stream",
     "text": [
      "eigenvalues shape torch.Size([5]) eigenvectors shape torch.Size([5, 1024])\n",
      "636 /home/phdcs2/Hard_Disk/Datasets/Deep-Spectral-Segmentation/data/object-segmentation/ECSSD/features/0638_resized.pth\n",
      "dict_keys(['k', 'indices', 'file', 'id', 'model_name', 'patch_size', 'shape'])\n",
      "0638_resized\n",
      "Starting Training\n",
      "epoch: 00, loss: -0.92101\n",
      "epoch: 01, loss: -0.95427\n",
      "epoch: 02, loss: -0.96143\n",
      "epoch: 03, loss: -0.96552\n",
      "epoch: 04, loss: -0.96834\n",
      "epoch: 05, loss: -0.97041\n",
      "epoch: 06, loss: -0.97205\n",
      "epoch: 07, loss: -0.97338\n",
      "epoch: 08, loss: -0.97449\n",
      "epoch: 09, loss: -0.97544\n",
      "torch.Size([1024, 64])\n"
     ]
    },
    {
     "name": "stderr",
     "output_type": "stream",
     "text": [
      " 64%|██████▍   | 637/999 [8:22:53<2:42:14, 26.89s/it]"
     ]
    },
    {
     "name": "stdout",
     "output_type": "stream",
     "text": [
      "eigenvalues shape torch.Size([5]) eigenvectors shape torch.Size([5, 1024])\n",
      "637 /home/phdcs2/Hard_Disk/Datasets/Deep-Spectral-Segmentation/data/object-segmentation/ECSSD/features/0639_resized.pth\n",
      "dict_keys(['k', 'indices', 'file', 'id', 'model_name', 'patch_size', 'shape'])\n",
      "0639_resized\n",
      "Starting Training\n",
      "epoch: 00, loss: -0.88563\n",
      "epoch: 01, loss: -0.93143\n",
      "epoch: 02, loss: -0.94336\n",
      "epoch: 03, loss: -0.95018\n",
      "epoch: 04, loss: -0.95462\n",
      "epoch: 05, loss: -0.95791\n",
      "epoch: 06, loss: -0.96052\n",
      "epoch: 07, loss: -0.96248\n",
      "epoch: 08, loss: -0.96418\n",
      "epoch: 09, loss: -0.96564\n",
      "torch.Size([1024, 64])\n"
     ]
    },
    {
     "name": "stderr",
     "output_type": "stream",
     "text": [
      " 64%|██████▍   | 638/999 [8:23:19<2:40:21, 26.65s/it]"
     ]
    },
    {
     "name": "stdout",
     "output_type": "stream",
     "text": [
      "eigenvalues shape torch.Size([5]) eigenvectors shape torch.Size([5, 1024])\n",
      "638 /home/phdcs2/Hard_Disk/Datasets/Deep-Spectral-Segmentation/data/object-segmentation/ECSSD/features/0640_resized.pth\n",
      "dict_keys(['k', 'indices', 'file', 'id', 'model_name', 'patch_size', 'shape'])\n",
      "0640_resized\n",
      "Starting Training\n",
      "epoch: 00, loss: -0.90456\n",
      "epoch: 01, loss: -0.94367\n",
      "epoch: 02, loss: -0.95286\n",
      "epoch: 03, loss: -0.95813\n",
      "epoch: 04, loss: -0.96175\n",
      "epoch: 05, loss: -0.96440\n",
      "epoch: 06, loss: -0.96649\n",
      "epoch: 07, loss: -0.96819\n",
      "epoch: 08, loss: -0.96959\n",
      "epoch: 09, loss: -0.97078\n",
      "torch.Size([1024, 64])\n"
     ]
    },
    {
     "name": "stderr",
     "output_type": "stream",
     "text": [
      " 64%|██████▍   | 639/999 [8:23:45<2:38:23, 26.40s/it]"
     ]
    },
    {
     "name": "stdout",
     "output_type": "stream",
     "text": [
      "eigenvalues shape torch.Size([5]) eigenvectors shape torch.Size([5, 1024])\n",
      "639 /home/phdcs2/Hard_Disk/Datasets/Deep-Spectral-Segmentation/data/object-segmentation/ECSSD/features/0641_resized.pth\n",
      "dict_keys(['k', 'indices', 'file', 'id', 'model_name', 'patch_size', 'shape'])\n",
      "0641_resized\n",
      "Starting Training\n",
      "epoch: 00, loss: -0.91911\n",
      "epoch: 01, loss: -0.95280\n",
      "epoch: 02, loss: -0.96070\n",
      "epoch: 03, loss: -0.96510\n",
      "epoch: 04, loss: -0.96812\n",
      "epoch: 05, loss: -0.97033\n",
      "epoch: 06, loss: -0.97210\n",
      "epoch: 07, loss: -0.97350\n",
      "epoch: 08, loss: -0.97467\n",
      "epoch: 09, loss: -0.97573\n",
      "torch.Size([1024, 64])\n"
     ]
    },
    {
     "name": "stderr",
     "output_type": "stream",
     "text": [
      " 64%|██████▍   | 640/999 [8:24:11<2:37:20, 26.30s/it]"
     ]
    },
    {
     "name": "stdout",
     "output_type": "stream",
     "text": [
      "eigenvalues shape torch.Size([5]) eigenvectors shape torch.Size([5, 1024])\n",
      "640 /home/phdcs2/Hard_Disk/Datasets/Deep-Spectral-Segmentation/data/object-segmentation/ECSSD/features/0642_resized.pth\n",
      "dict_keys(['k', 'indices', 'file', 'id', 'model_name', 'patch_size', 'shape'])\n",
      "0642_resized\n",
      "Starting Training\n",
      "epoch: 00, loss: -0.92329\n",
      "epoch: 01, loss: -0.95457\n",
      "epoch: 02, loss: -0.96190\n",
      "epoch: 03, loss: -0.96595\n",
      "epoch: 04, loss: -0.96878\n",
      "epoch: 05, loss: -0.97104\n",
      "epoch: 06, loss: -0.97262\n",
      "epoch: 07, loss: -0.97400\n",
      "epoch: 08, loss: -0.97511\n",
      "epoch: 09, loss: -0.97608\n",
      "torch.Size([1024, 64])\n"
     ]
    },
    {
     "name": "stderr",
     "output_type": "stream",
     "text": [
      " 64%|██████▍   | 641/999 [8:24:37<2:36:51, 26.29s/it]"
     ]
    },
    {
     "name": "stdout",
     "output_type": "stream",
     "text": [
      "eigenvalues shape torch.Size([5]) eigenvectors shape torch.Size([5, 1024])\n",
      "641 /home/phdcs2/Hard_Disk/Datasets/Deep-Spectral-Segmentation/data/object-segmentation/ECSSD/features/0643_resized.pth\n",
      "dict_keys(['k', 'indices', 'file', 'id', 'model_name', 'patch_size', 'shape'])\n",
      "0643_resized\n",
      "Starting Training\n",
      "epoch: 00, loss: -0.91541\n",
      "epoch: 01, loss: -0.94839\n",
      "epoch: 02, loss: -0.95701\n",
      "epoch: 03, loss: -0.96182\n",
      "epoch: 04, loss: -0.96510\n",
      "epoch: 05, loss: -0.96756\n",
      "epoch: 06, loss: -0.96941\n",
      "epoch: 07, loss: -0.97097\n",
      "epoch: 08, loss: -0.97228\n"
     ]
    },
    {
     "name": "stderr",
     "output_type": "stream",
     "text": [
      " 64%|██████▍   | 642/999 [8:25:04<2:37:05, 26.40s/it]"
     ]
    },
    {
     "name": "stdout",
     "output_type": "stream",
     "text": [
      "epoch: 09, loss: -0.97331\n",
      "torch.Size([1024, 64])\n",
      "eigenvalues shape torch.Size([5]) eigenvectors shape torch.Size([5, 1024])\n",
      "642 /home/phdcs2/Hard_Disk/Datasets/Deep-Spectral-Segmentation/data/object-segmentation/ECSSD/features/0644_resized.pth\n",
      "dict_keys(['k', 'indices', 'file', 'id', 'model_name', 'patch_size', 'shape'])\n",
      "0644_resized\n",
      "Starting Training\n",
      "epoch: 00, loss: -0.87742\n",
      "epoch: 01, loss: -0.92586\n",
      "epoch: 02, loss: -0.93884\n",
      "epoch: 03, loss: -0.94641\n",
      "epoch: 04, loss: -0.95151\n",
      "epoch: 05, loss: -0.95533\n",
      "epoch: 06, loss: -0.95810\n",
      "epoch: 07, loss: -0.96050\n",
      "epoch: 08, loss: -0.96237\n",
      "epoch: 09, loss: -0.96407\n",
      "torch.Size([1024, 64])\n"
     ]
    },
    {
     "name": "stderr",
     "output_type": "stream",
     "text": [
      " 64%|██████▍   | 643/999 [8:25:33<2:41:18, 27.19s/it]"
     ]
    },
    {
     "name": "stdout",
     "output_type": "stream",
     "text": [
      "eigenvalues shape torch.Size([5]) eigenvectors shape torch.Size([5, 1024])\n",
      "643 /home/phdcs2/Hard_Disk/Datasets/Deep-Spectral-Segmentation/data/object-segmentation/ECSSD/features/0645_resized.pth\n",
      "dict_keys(['k', 'indices', 'file', 'id', 'model_name', 'patch_size', 'shape'])\n",
      "0645_resized\n",
      "Starting Training\n",
      "epoch: 00, loss: -0.93985\n",
      "epoch: 01, loss: -0.96418\n",
      "epoch: 02, loss: -0.96968\n",
      "epoch: 03, loss: -0.97284\n",
      "epoch: 04, loss: -0.97504\n",
      "epoch: 05, loss: -0.97671\n",
      "epoch: 06, loss: -0.97796\n",
      "epoch: 07, loss: -0.97901\n",
      "epoch: 08, loss: -0.97989\n"
     ]
    },
    {
     "name": "stderr",
     "output_type": "stream",
     "text": [
      " 64%|██████▍   | 644/999 [8:26:00<2:40:09, 27.07s/it]"
     ]
    },
    {
     "name": "stdout",
     "output_type": "stream",
     "text": [
      "epoch: 09, loss: -0.98062\n",
      "torch.Size([1024, 64])\n",
      "eigenvalues shape torch.Size([5]) eigenvectors shape torch.Size([5, 1024])\n",
      "644 /home/phdcs2/Hard_Disk/Datasets/Deep-Spectral-Segmentation/data/object-segmentation/ECSSD/features/0646_resized.pth\n",
      "dict_keys(['k', 'indices', 'file', 'id', 'model_name', 'patch_size', 'shape'])\n",
      "0646_resized\n",
      "Starting Training\n",
      "epoch: 00, loss: -0.89700\n",
      "epoch: 01, loss: -0.93781\n",
      "epoch: 02, loss: -0.94813\n",
      "epoch: 03, loss: -0.95398\n",
      "epoch: 04, loss: -0.95798\n",
      "epoch: 05, loss: -0.96093\n",
      "epoch: 06, loss: -0.96319\n",
      "epoch: 07, loss: -0.96509\n",
      "epoch: 08, loss: -0.96660\n",
      "epoch: 09, loss: -0.96786\n",
      "torch.Size([1024, 64])\n"
     ]
    },
    {
     "name": "stderr",
     "output_type": "stream",
     "text": [
      " 65%|██████▍   | 645/999 [8:26:27<2:40:49, 27.26s/it]"
     ]
    },
    {
     "name": "stdout",
     "output_type": "stream",
     "text": [
      "eigenvalues shape torch.Size([5]) eigenvectors shape torch.Size([5, 1024])\n",
      "645 /home/phdcs2/Hard_Disk/Datasets/Deep-Spectral-Segmentation/data/object-segmentation/ECSSD/features/0647_resized.pth\n",
      "dict_keys(['k', 'indices', 'file', 'id', 'model_name', 'patch_size', 'shape'])\n",
      "0647_resized\n",
      "Starting Training\n",
      "epoch: 00, loss: -0.89384\n",
      "epoch: 01, loss: -0.93540\n",
      "epoch: 02, loss: -0.94604\n",
      "epoch: 03, loss: -0.95224\n",
      "epoch: 04, loss: -0.95629\n",
      "epoch: 05, loss: -0.95938\n",
      "epoch: 06, loss: -0.96180\n",
      "epoch: 07, loss: -0.96390\n",
      "epoch: 08, loss: -0.96554\n"
     ]
    },
    {
     "name": "stderr",
     "output_type": "stream",
     "text": [
      " 65%|██████▍   | 646/999 [8:26:54<2:38:21, 26.92s/it]"
     ]
    },
    {
     "name": "stdout",
     "output_type": "stream",
     "text": [
      "epoch: 09, loss: -0.96689\n",
      "torch.Size([1024, 64])\n",
      "eigenvalues shape torch.Size([5]) eigenvectors shape torch.Size([5, 1024])\n",
      "646 /home/phdcs2/Hard_Disk/Datasets/Deep-Spectral-Segmentation/data/object-segmentation/ECSSD/features/0648_resized.pth\n",
      "dict_keys(['k', 'indices', 'file', 'id', 'model_name', 'patch_size', 'shape'])\n",
      "0648_resized\n",
      "Starting Training\n",
      "epoch: 00, loss: -0.88936\n",
      "epoch: 01, loss: -0.93271\n",
      "epoch: 02, loss: -0.94426\n",
      "epoch: 03, loss: -0.95089\n",
      "epoch: 04, loss: -0.95526\n",
      "epoch: 05, loss: -0.95857\n",
      "epoch: 06, loss: -0.96117\n",
      "epoch: 07, loss: -0.96323\n",
      "epoch: 08, loss: -0.96494\n"
     ]
    },
    {
     "name": "stderr",
     "output_type": "stream",
     "text": [
      " 65%|██████▍   | 647/999 [8:27:20<2:36:58, 26.76s/it]"
     ]
    },
    {
     "name": "stdout",
     "output_type": "stream",
     "text": [
      "epoch: 09, loss: -0.96638\n",
      "torch.Size([1024, 64])\n",
      "eigenvalues shape torch.Size([5]) eigenvectors shape torch.Size([5, 1024])\n",
      "647 /home/phdcs2/Hard_Disk/Datasets/Deep-Spectral-Segmentation/data/object-segmentation/ECSSD/features/0649_resized.pth\n",
      "dict_keys(['k', 'indices', 'file', 'id', 'model_name', 'patch_size', 'shape'])\n",
      "0649_resized\n",
      "Starting Training\n",
      "epoch: 00, loss: -0.90841\n",
      "epoch: 01, loss: -0.94421\n",
      "epoch: 02, loss: -0.95260\n",
      "epoch: 03, loss: -0.95753\n",
      "epoch: 04, loss: -0.96084\n",
      "epoch: 05, loss: -0.96341\n",
      "epoch: 06, loss: -0.96533\n",
      "epoch: 07, loss: -0.96695\n",
      "epoch: 08, loss: -0.96826\n",
      "epoch: 09, loss: -0.96945\n",
      "torch.Size([1024, 64])\n"
     ]
    },
    {
     "name": "stderr",
     "output_type": "stream",
     "text": [
      " 65%|██████▍   | 648/999 [8:27:46<2:35:13, 26.53s/it]"
     ]
    },
    {
     "name": "stdout",
     "output_type": "stream",
     "text": [
      "eigenvalues shape torch.Size([5]) eigenvectors shape torch.Size([5, 1024])\n",
      "648 /home/phdcs2/Hard_Disk/Datasets/Deep-Spectral-Segmentation/data/object-segmentation/ECSSD/features/0650_resized.pth\n",
      "dict_keys(['k', 'indices', 'file', 'id', 'model_name', 'patch_size', 'shape'])\n",
      "0650_resized\n",
      "Starting Training\n",
      "epoch: 00, loss: -0.91318\n",
      "epoch: 01, loss: -0.94813\n",
      "epoch: 02, loss: -0.95680\n",
      "epoch: 03, loss: -0.96173\n",
      "epoch: 04, loss: -0.96498\n",
      "epoch: 05, loss: -0.96740\n",
      "epoch: 06, loss: -0.96928\n",
      "epoch: 07, loss: -0.97081\n",
      "epoch: 08, loss: -0.97208\n",
      "epoch: 09, loss: -0.97320\n",
      "torch.Size([1024, 64])\n"
     ]
    },
    {
     "name": "stderr",
     "output_type": "stream",
     "text": [
      "/home/phdcs2/Hard_Disk/Projects/T2I/deep-spectral-segmentation/venv/lib/python3.8/site-packages/scipy/sparse/linalg/_eigen/arpack/arpack.py:935: LinAlgWarning: Diagonal number 1024 is exactly zero. Singular matrix.\n",
      "  self.M_lu = lu_factor(M)\n",
      " 65%|██████▍   | 649/999 [8:28:12<2:33:53, 26.38s/it]"
     ]
    },
    {
     "name": "stdout",
     "output_type": "stream",
     "text": [
      " ** On entry to SLASCL parameter number  4 had an illegal value\n",
      " ** On entry to SLASCL parameter number  4 had an illegal value\n",
      "eigenvalues shape torch.Size([5]) eigenvectors shape torch.Size([5, 1024])\n",
      "649 /home/phdcs2/Hard_Disk/Datasets/Deep-Spectral-Segmentation/data/object-segmentation/ECSSD/features/0651_resized.pth\n",
      "dict_keys(['k', 'indices', 'file', 'id', 'model_name', 'patch_size', 'shape'])\n",
      "0651_resized\n",
      "Starting Training\n",
      "epoch: 00, loss: -0.91825\n",
      "epoch: 01, loss: -0.95221\n",
      "epoch: 02, loss: -0.95974\n",
      "epoch: 03, loss: -0.96405\n",
      "epoch: 04, loss: -0.96697\n",
      "epoch: 05, loss: -0.96919\n",
      "epoch: 06, loss: -0.97087\n",
      "epoch: 07, loss: -0.97222\n",
      "epoch: 08, loss: -0.97342\n"
     ]
    },
    {
     "name": "stderr",
     "output_type": "stream",
     "text": [
      " 65%|██████▌   | 650/999 [8:28:39<2:35:17, 26.70s/it]"
     ]
    },
    {
     "name": "stdout",
     "output_type": "stream",
     "text": [
      "epoch: 09, loss: -0.97438\n",
      "torch.Size([1024, 64])\n",
      "eigenvalues shape torch.Size([5]) eigenvectors shape torch.Size([5, 1024])\n",
      "650 /home/phdcs2/Hard_Disk/Datasets/Deep-Spectral-Segmentation/data/object-segmentation/ECSSD/features/0652_resized.pth\n",
      "dict_keys(['k', 'indices', 'file', 'id', 'model_name', 'patch_size', 'shape'])\n",
      "0652_resized\n",
      "Starting Training\n",
      "epoch: 00, loss: -0.92687\n",
      "epoch: 01, loss: -0.95510\n",
      "epoch: 02, loss: -0.96144\n",
      "epoch: 03, loss: -0.96519\n",
      "epoch: 04, loss: -0.96778\n",
      "epoch: 05, loss: -0.96973\n",
      "epoch: 06, loss: -0.97126\n",
      "epoch: 07, loss: -0.97252\n",
      "epoch: 08, loss: -0.97359\n",
      "epoch: 09, loss: -0.97447\n",
      "torch.Size([1024, 64])\n"
     ]
    },
    {
     "name": "stderr",
     "output_type": "stream",
     "text": [
      " 65%|██████▌   | 651/999 [8:29:06<2:35:30, 26.81s/it]"
     ]
    },
    {
     "name": "stdout",
     "output_type": "stream",
     "text": [
      "eigenvalues shape torch.Size([5]) eigenvectors shape torch.Size([5, 1024])\n",
      "651 /home/phdcs2/Hard_Disk/Datasets/Deep-Spectral-Segmentation/data/object-segmentation/ECSSD/features/0653_resized.pth\n",
      "dict_keys(['k', 'indices', 'file', 'id', 'model_name', 'patch_size', 'shape'])\n",
      "0653_resized\n",
      "Starting Training\n",
      "epoch: 00, loss: -0.92845\n",
      "epoch: 01, loss: -0.95739\n",
      "epoch: 02, loss: -0.96363\n",
      "epoch: 03, loss: -0.96727\n",
      "epoch: 04, loss: -0.96973\n",
      "epoch: 05, loss: -0.97158\n",
      "epoch: 06, loss: -0.97305\n",
      "epoch: 07, loss: -0.97421\n",
      "epoch: 08, loss: -0.97522\n"
     ]
    },
    {
     "name": "stderr",
     "output_type": "stream",
     "text": [
      " 65%|██████▌   | 652/999 [8:29:33<2:33:57, 26.62s/it]"
     ]
    },
    {
     "name": "stdout",
     "output_type": "stream",
     "text": [
      "epoch: 09, loss: -0.97608\n",
      "torch.Size([1024, 64])\n",
      "eigenvalues shape torch.Size([5]) eigenvectors shape torch.Size([5, 1024])\n",
      "652 /home/phdcs2/Hard_Disk/Datasets/Deep-Spectral-Segmentation/data/object-segmentation/ECSSD/features/0654_resized.pth\n",
      "dict_keys(['k', 'indices', 'file', 'id', 'model_name', 'patch_size', 'shape'])\n",
      "0654_resized\n",
      "Starting Training\n",
      "epoch: 00, loss: -0.91965\n",
      "epoch: 01, loss: -0.95037\n",
      "epoch: 02, loss: -0.95783\n",
      "epoch: 03, loss: -0.96219\n",
      "epoch: 04, loss: -0.96523\n",
      "epoch: 05, loss: -0.96750\n",
      "epoch: 06, loss: -0.96925\n",
      "epoch: 07, loss: -0.97070\n",
      "epoch: 08, loss: -0.97191\n"
     ]
    },
    {
     "name": "stderr",
     "output_type": "stream",
     "text": [
      " 65%|██████▌   | 653/999 [8:29:58<2:31:57, 26.35s/it]"
     ]
    },
    {
     "name": "stdout",
     "output_type": "stream",
     "text": [
      "epoch: 09, loss: -0.97295\n",
      "torch.Size([1024, 64])\n",
      "eigenvalues shape torch.Size([5]) eigenvectors shape torch.Size([5, 1024])\n",
      "653 /home/phdcs2/Hard_Disk/Datasets/Deep-Spectral-Segmentation/data/object-segmentation/ECSSD/features/0655_resized.pth\n",
      "dict_keys(['k', 'indices', 'file', 'id', 'model_name', 'patch_size', 'shape'])\n",
      "0655_resized\n",
      "Starting Training\n",
      "epoch: 00, loss: -0.93869\n",
      "epoch: 01, loss: -0.96221\n",
      "epoch: 02, loss: -0.96769\n",
      "epoch: 03, loss: -0.97090\n",
      "epoch: 04, loss: -0.97316\n",
      "epoch: 05, loss: -0.97483\n",
      "epoch: 06, loss: -0.97615\n",
      "epoch: 07, loss: -0.97723\n",
      "epoch: 08, loss: -0.97815\n",
      "epoch: 09, loss: -0.97897\n",
      "torch.Size([1024, 64])\n"
     ]
    },
    {
     "name": "stderr",
     "output_type": "stream",
     "text": [
      " 65%|██████▌   | 654/999 [8:30:24<2:31:05, 26.28s/it]"
     ]
    },
    {
     "name": "stdout",
     "output_type": "stream",
     "text": [
      "eigenvalues shape torch.Size([5]) eigenvectors shape torch.Size([5, 1024])\n",
      "654 /home/phdcs2/Hard_Disk/Datasets/Deep-Spectral-Segmentation/data/object-segmentation/ECSSD/features/0656_resized.pth\n",
      "dict_keys(['k', 'indices', 'file', 'id', 'model_name', 'patch_size', 'shape'])\n",
      "0656_resized\n",
      "Starting Training\n",
      "epoch: 00, loss: -0.91380\n",
      "epoch: 01, loss: -0.94879\n",
      "epoch: 02, loss: -0.95687\n",
      "epoch: 03, loss: -0.96161\n",
      "epoch: 04, loss: -0.96490\n",
      "epoch: 05, loss: -0.96730\n",
      "epoch: 06, loss: -0.96923\n",
      "epoch: 07, loss: -0.97080\n",
      "epoch: 08, loss: -0.97213\n",
      "epoch: 09, loss: -0.97319\n",
      "torch.Size([1024, 64])\n"
     ]
    },
    {
     "name": "stderr",
     "output_type": "stream",
     "text": [
      " 66%|██████▌   | 655/999 [8:30:52<2:31:59, 26.51s/it]"
     ]
    },
    {
     "name": "stdout",
     "output_type": "stream",
     "text": [
      "eigenvalues shape torch.Size([5]) eigenvectors shape torch.Size([5, 1024])\n",
      "655 /home/phdcs2/Hard_Disk/Datasets/Deep-Spectral-Segmentation/data/object-segmentation/ECSSD/features/0657_resized.pth\n",
      "dict_keys(['k', 'indices', 'file', 'id', 'model_name', 'patch_size', 'shape'])\n",
      "0657_resized\n",
      "Starting Training\n",
      "epoch: 00, loss: -0.92582\n",
      "epoch: 01, loss: -0.95549\n",
      "epoch: 02, loss: -0.96213\n",
      "epoch: 03, loss: -0.96605\n",
      "epoch: 04, loss: -0.96875\n",
      "epoch: 05, loss: -0.97074\n",
      "epoch: 06, loss: -0.97235\n",
      "epoch: 07, loss: -0.97364\n",
      "epoch: 08, loss: -0.97472\n"
     ]
    },
    {
     "name": "stderr",
     "output_type": "stream",
     "text": [
      " 66%|██████▌   | 656/999 [8:31:17<2:30:05, 26.25s/it]"
     ]
    },
    {
     "name": "stdout",
     "output_type": "stream",
     "text": [
      "epoch: 09, loss: -0.97565\n",
      "torch.Size([1024, 64])\n",
      "eigenvalues shape torch.Size([5]) eigenvectors shape torch.Size([5, 1024])\n",
      "656 /home/phdcs2/Hard_Disk/Datasets/Deep-Spectral-Segmentation/data/object-segmentation/ECSSD/features/0658_resized.pth\n",
      "dict_keys(['k', 'indices', 'file', 'id', 'model_name', 'patch_size', 'shape'])\n",
      "0658_resized\n",
      "Starting Training\n",
      "epoch: 00, loss: -0.90228\n",
      "epoch: 01, loss: -0.94198\n",
      "epoch: 02, loss: -0.95143\n",
      "epoch: 03, loss: -0.95670\n",
      "epoch: 04, loss: -0.96029\n",
      "epoch: 05, loss: -0.96289\n",
      "epoch: 06, loss: -0.96494\n",
      "epoch: 07, loss: -0.96662\n",
      "epoch: 08, loss: -0.96801\n",
      "epoch: 09, loss: -0.96914\n",
      "torch.Size([1024, 64])\n"
     ]
    },
    {
     "name": "stderr",
     "output_type": "stream",
     "text": [
      " 66%|██████▌   | 657/999 [8:31:44<2:30:08, 26.34s/it]"
     ]
    },
    {
     "name": "stdout",
     "output_type": "stream",
     "text": [
      "eigenvalues shape torch.Size([5]) eigenvectors shape torch.Size([5, 1024])\n",
      "657 /home/phdcs2/Hard_Disk/Datasets/Deep-Spectral-Segmentation/data/object-segmentation/ECSSD/features/0659_resized.pth\n",
      "dict_keys(['k', 'indices', 'file', 'id', 'model_name', 'patch_size', 'shape'])\n",
      "0659_resized\n",
      "Starting Training\n",
      "epoch: 00, loss: -0.91656\n",
      "epoch: 01, loss: -0.94977\n",
      "epoch: 02, loss: -0.95727\n",
      "epoch: 03, loss: -0.96161\n",
      "epoch: 04, loss: -0.96464\n",
      "epoch: 05, loss: -0.96688\n",
      "epoch: 06, loss: -0.96868\n",
      "epoch: 07, loss: -0.97011\n",
      "epoch: 08, loss: -0.97132\n"
     ]
    },
    {
     "name": "stderr",
     "output_type": "stream",
     "text": [
      " 66%|██████▌   | 658/999 [8:32:10<2:28:51, 26.19s/it]"
     ]
    },
    {
     "name": "stdout",
     "output_type": "stream",
     "text": [
      "epoch: 09, loss: -0.97234\n",
      "torch.Size([1024, 64])\n",
      "eigenvalues shape torch.Size([5]) eigenvectors shape torch.Size([5, 1024])\n",
      "658 /home/phdcs2/Hard_Disk/Datasets/Deep-Spectral-Segmentation/data/object-segmentation/ECSSD/features/0660_resized.pth\n",
      "dict_keys(['k', 'indices', 'file', 'id', 'model_name', 'patch_size', 'shape'])\n",
      "0660_resized\n",
      "Starting Training\n",
      "epoch: 00, loss: -0.91542\n",
      "epoch: 01, loss: -0.94883\n",
      "epoch: 02, loss: -0.95578\n",
      "epoch: 03, loss: -0.95980\n",
      "epoch: 04, loss: -0.96260\n",
      "epoch: 05, loss: -0.96469\n",
      "epoch: 06, loss: -0.96633\n",
      "epoch: 07, loss: -0.96772\n",
      "epoch: 08, loss: -0.96884\n",
      "epoch: 09, loss: -0.96985\n",
      "torch.Size([1024, 64])\n"
     ]
    },
    {
     "name": "stderr",
     "output_type": "stream",
     "text": [
      " 66%|██████▌   | 659/999 [8:32:37<2:30:17, 26.52s/it]"
     ]
    },
    {
     "name": "stdout",
     "output_type": "stream",
     "text": [
      "eigenvalues shape torch.Size([5]) eigenvectors shape torch.Size([5, 1024])\n",
      "659 /home/phdcs2/Hard_Disk/Datasets/Deep-Spectral-Segmentation/data/object-segmentation/ECSSD/features/0661_resized.pth\n",
      "dict_keys(['k', 'indices', 'file', 'id', 'model_name', 'patch_size', 'shape'])\n",
      "0661_resized\n",
      "Starting Training\n",
      "epoch: 00, loss: -0.90633\n",
      "epoch: 01, loss: -0.94480\n",
      "epoch: 02, loss: -0.95403\n",
      "epoch: 03, loss: -0.95918\n",
      "epoch: 04, loss: -0.96273\n",
      "epoch: 05, loss: -0.96528\n",
      "epoch: 06, loss: -0.96741\n",
      "epoch: 07, loss: -0.96902\n",
      "epoch: 08, loss: -0.97038\n",
      "epoch: 09, loss: -0.97155\n",
      "torch.Size([1024, 64])\n"
     ]
    },
    {
     "name": "stderr",
     "output_type": "stream",
     "text": [
      " 66%|██████▌   | 660/999 [8:33:04<2:30:39, 26.66s/it]"
     ]
    },
    {
     "name": "stdout",
     "output_type": "stream",
     "text": [
      "eigenvalues shape torch.Size([5]) eigenvectors shape torch.Size([5, 1024])\n",
      "660 /home/phdcs2/Hard_Disk/Datasets/Deep-Spectral-Segmentation/data/object-segmentation/ECSSD/features/0662_resized.pth\n",
      "dict_keys(['k', 'indices', 'file', 'id', 'model_name', 'patch_size', 'shape'])\n",
      "0662_resized\n",
      "Starting Training\n",
      "epoch: 00, loss: -0.90167\n",
      "epoch: 01, loss: -0.93806\n",
      "epoch: 02, loss: -0.94803\n",
      "epoch: 03, loss: -0.95376\n",
      "epoch: 04, loss: -0.95769\n",
      "epoch: 05, loss: -0.96052\n",
      "epoch: 06, loss: -0.96281\n",
      "epoch: 07, loss: -0.96453\n",
      "epoch: 08, loss: -0.96604\n",
      "epoch: 09, loss: -0.96735\n",
      "torch.Size([1024, 64])\n"
     ]
    },
    {
     "name": "stderr",
     "output_type": "stream",
     "text": [
      " 66%|██████▌   | 661/999 [8:33:32<2:32:24, 27.05s/it]"
     ]
    },
    {
     "name": "stdout",
     "output_type": "stream",
     "text": [
      "eigenvalues shape torch.Size([5]) eigenvectors shape torch.Size([5, 1024])\n",
      "661 /home/phdcs2/Hard_Disk/Datasets/Deep-Spectral-Segmentation/data/object-segmentation/ECSSD/features/0663_resized.pth\n",
      "dict_keys(['k', 'indices', 'file', 'id', 'model_name', 'patch_size', 'shape'])\n",
      "0663_resized\n",
      "Starting Training\n",
      "epoch: 00, loss: -0.90244\n",
      "epoch: 01, loss: -0.93819\n",
      "epoch: 02, loss: -0.94774\n",
      "epoch: 03, loss: -0.95334\n",
      "epoch: 04, loss: -0.95721\n",
      "epoch: 05, loss: -0.96010\n",
      "epoch: 06, loss: -0.96232\n",
      "epoch: 07, loss: -0.96421\n",
      "epoch: 08, loss: -0.96574\n"
     ]
    },
    {
     "name": "stderr",
     "output_type": "stream",
     "text": [
      " 66%|██████▋   | 662/999 [8:33:58<2:30:47, 26.85s/it]"
     ]
    },
    {
     "name": "stdout",
     "output_type": "stream",
     "text": [
      "epoch: 09, loss: -0.96705\n",
      "torch.Size([1024, 64])\n",
      "eigenvalues shape torch.Size([5]) eigenvectors shape torch.Size([5, 1024])\n",
      "662 /home/phdcs2/Hard_Disk/Datasets/Deep-Spectral-Segmentation/data/object-segmentation/ECSSD/features/0664_resized.pth\n",
      "dict_keys(['k', 'indices', 'file', 'id', 'model_name', 'patch_size', 'shape'])\n",
      "0664_resized\n",
      "Starting Training\n",
      "epoch: 00, loss: -0.90612\n",
      "epoch: 01, loss: -0.94547\n",
      "epoch: 02, loss: -0.95437\n",
      "epoch: 03, loss: -0.95956\n",
      "epoch: 04, loss: -0.96282\n",
      "epoch: 05, loss: -0.96533\n",
      "epoch: 06, loss: -0.96735\n",
      "epoch: 07, loss: -0.96900\n",
      "epoch: 08, loss: -0.97026\n"
     ]
    },
    {
     "name": "stderr",
     "output_type": "stream",
     "text": [
      " 66%|██████▋   | 663/999 [8:34:24<2:29:14, 26.65s/it]"
     ]
    },
    {
     "name": "stdout",
     "output_type": "stream",
     "text": [
      "epoch: 09, loss: -0.97138\n",
      "torch.Size([1024, 64])\n",
      "eigenvalues shape torch.Size([5]) eigenvectors shape torch.Size([5, 1024])\n",
      "663 /home/phdcs2/Hard_Disk/Datasets/Deep-Spectral-Segmentation/data/object-segmentation/ECSSD/features/0665_resized.pth\n",
      "dict_keys(['k', 'indices', 'file', 'id', 'model_name', 'patch_size', 'shape'])\n",
      "0665_resized\n",
      "Starting Training\n",
      "epoch: 00, loss: -0.92773\n",
      "epoch: 01, loss: -0.95995\n",
      "epoch: 02, loss: -0.96591\n",
      "epoch: 03, loss: -0.96938\n",
      "epoch: 04, loss: -0.97173\n",
      "epoch: 05, loss: -0.97350\n",
      "epoch: 06, loss: -0.97486\n",
      "epoch: 07, loss: -0.97593\n",
      "epoch: 08, loss: -0.97684\n",
      "epoch: 09, loss: -0.97763\n",
      "torch.Size([1024, 64])\n"
     ]
    },
    {
     "name": "stderr",
     "output_type": "stream",
     "text": [
      " 66%|██████▋   | 664/999 [8:34:50<2:26:56, 26.32s/it]"
     ]
    },
    {
     "name": "stdout",
     "output_type": "stream",
     "text": [
      "eigenvalues shape torch.Size([5]) eigenvectors shape torch.Size([5, 1024])\n",
      "664 /home/phdcs2/Hard_Disk/Datasets/Deep-Spectral-Segmentation/data/object-segmentation/ECSSD/features/0666_resized.pth\n",
      "dict_keys(['k', 'indices', 'file', 'id', 'model_name', 'patch_size', 'shape'])\n",
      "0666_resized\n",
      "Starting Training\n",
      "epoch: 00, loss: -0.92075\n",
      "epoch: 01, loss: -0.95242\n",
      "epoch: 02, loss: -0.95984\n",
      "epoch: 03, loss: -0.96413\n",
      "epoch: 04, loss: -0.96703\n",
      "epoch: 05, loss: -0.96916\n",
      "epoch: 06, loss: -0.97085\n",
      "epoch: 07, loss: -0.97224\n",
      "epoch: 08, loss: -0.97339\n",
      "epoch: 09, loss: -0.97436\n",
      "torch.Size([1024, 64])\n"
     ]
    },
    {
     "name": "stderr",
     "output_type": "stream",
     "text": [
      " 67%|██████▋   | 665/999 [8:35:16<2:26:47, 26.37s/it]"
     ]
    },
    {
     "name": "stdout",
     "output_type": "stream",
     "text": [
      "eigenvalues shape torch.Size([5]) eigenvectors shape torch.Size([5, 1024])\n",
      "665 /home/phdcs2/Hard_Disk/Datasets/Deep-Spectral-Segmentation/data/object-segmentation/ECSSD/features/0667_resized.pth\n",
      "dict_keys(['k', 'indices', 'file', 'id', 'model_name', 'patch_size', 'shape'])\n",
      "0667_resized\n",
      "Starting Training\n",
      "epoch: 00, loss: -0.92228\n",
      "epoch: 01, loss: -0.95499\n",
      "epoch: 02, loss: -0.96223\n",
      "epoch: 03, loss: -0.96645\n",
      "epoch: 04, loss: -0.96920\n",
      "epoch: 05, loss: -0.97138\n",
      "epoch: 06, loss: -0.97300\n",
      "epoch: 07, loss: -0.97433\n",
      "epoch: 08, loss: -0.97545\n",
      "epoch: 09, loss: -0.97639\n",
      "torch.Size([1024, 64])\n"
     ]
    },
    {
     "name": "stderr",
     "output_type": "stream",
     "text": [
      " 67%|██████▋   | 666/999 [8:35:43<2:26:43, 26.44s/it]"
     ]
    },
    {
     "name": "stdout",
     "output_type": "stream",
     "text": [
      "eigenvalues shape torch.Size([5]) eigenvectors shape torch.Size([5, 1024])\n",
      "666 /home/phdcs2/Hard_Disk/Datasets/Deep-Spectral-Segmentation/data/object-segmentation/ECSSD/features/0668_resized.pth\n",
      "dict_keys(['k', 'indices', 'file', 'id', 'model_name', 'patch_size', 'shape'])\n",
      "0668_resized\n",
      "Starting Training\n",
      "epoch: 00, loss: -0.91484\n",
      "epoch: 01, loss: -0.94867\n",
      "epoch: 02, loss: -0.95653\n",
      "epoch: 03, loss: -0.96123\n",
      "epoch: 04, loss: -0.96436\n",
      "epoch: 05, loss: -0.96676\n",
      "epoch: 06, loss: -0.96866\n",
      "epoch: 07, loss: -0.97018\n",
      "epoch: 08, loss: -0.97146\n"
     ]
    },
    {
     "name": "stderr",
     "output_type": "stream",
     "text": [
      " 67%|██████▋   | 667/999 [8:36:09<2:25:47, 26.35s/it]"
     ]
    },
    {
     "name": "stdout",
     "output_type": "stream",
     "text": [
      "epoch: 09, loss: -0.97255\n",
      "torch.Size([1024, 64])\n",
      "eigenvalues shape torch.Size([5]) eigenvectors shape torch.Size([5, 1024])\n",
      "667 /home/phdcs2/Hard_Disk/Datasets/Deep-Spectral-Segmentation/data/object-segmentation/ECSSD/features/0669_resized.pth\n",
      "dict_keys(['k', 'indices', 'file', 'id', 'model_name', 'patch_size', 'shape'])\n",
      "0669_resized\n",
      "Starting Training\n",
      "epoch: 00, loss: -0.86448\n",
      "epoch: 01, loss: -0.91907\n",
      "epoch: 02, loss: -0.93339\n",
      "epoch: 03, loss: -0.94141\n",
      "epoch: 04, loss: -0.94693\n",
      "epoch: 05, loss: -0.95091\n",
      "epoch: 06, loss: -0.95396\n",
      "epoch: 07, loss: -0.95661\n",
      "epoch: 08, loss: -0.95855\n",
      "epoch: 09, loss: -0.96020\n",
      "torch.Size([1024, 64])\n"
     ]
    },
    {
     "name": "stderr",
     "output_type": "stream",
     "text": [
      " 67%|██████▋   | 668/999 [8:36:35<2:25:04, 26.30s/it]"
     ]
    },
    {
     "name": "stdout",
     "output_type": "stream",
     "text": [
      "eigenvalues shape torch.Size([5]) eigenvectors shape torch.Size([5, 1024])\n",
      "668 /home/phdcs2/Hard_Disk/Datasets/Deep-Spectral-Segmentation/data/object-segmentation/ECSSD/features/0670_resized.pth\n",
      "dict_keys(['k', 'indices', 'file', 'id', 'model_name', 'patch_size', 'shape'])\n",
      "0670_resized\n",
      "Starting Training\n",
      "epoch: 00, loss: -0.90445\n",
      "epoch: 01, loss: -0.94201\n",
      "epoch: 02, loss: -0.95231\n",
      "epoch: 03, loss: -0.95827\n",
      "epoch: 04, loss: -0.96226\n",
      "epoch: 05, loss: -0.96514\n",
      "epoch: 06, loss: -0.96741\n",
      "epoch: 07, loss: -0.96923\n",
      "epoch: 08, loss: -0.97067\n",
      "epoch: 09, loss: -0.97197\n",
      "torch.Size([1024, 64])\n"
     ]
    },
    {
     "name": "stderr",
     "output_type": "stream",
     "text": [
      " 67%|██████▋   | 669/999 [8:37:02<2:25:32, 26.46s/it]"
     ]
    },
    {
     "name": "stdout",
     "output_type": "stream",
     "text": [
      "eigenvalues shape torch.Size([5]) eigenvectors shape torch.Size([5, 1024])\n",
      "669 /home/phdcs2/Hard_Disk/Datasets/Deep-Spectral-Segmentation/data/object-segmentation/ECSSD/features/0671_resized.pth\n",
      "dict_keys(['k', 'indices', 'file', 'id', 'model_name', 'patch_size', 'shape'])\n",
      "0671_resized\n",
      "Starting Training\n",
      "epoch: 00, loss: -0.89733\n",
      "epoch: 01, loss: -0.93872\n",
      "epoch: 02, loss: -0.94917\n",
      "epoch: 03, loss: -0.95499\n",
      "epoch: 04, loss: -0.95907\n",
      "epoch: 05, loss: -0.96204\n",
      "epoch: 06, loss: -0.96429\n",
      "epoch: 07, loss: -0.96610\n",
      "epoch: 08, loss: -0.96763\n"
     ]
    },
    {
     "name": "stderr",
     "output_type": "stream",
     "text": [
      " 67%|██████▋   | 670/999 [8:37:28<2:24:51, 26.42s/it]"
     ]
    },
    {
     "name": "stdout",
     "output_type": "stream",
     "text": [
      "epoch: 09, loss: -0.96888\n",
      "torch.Size([1024, 64])\n",
      "eigenvalues shape torch.Size([5]) eigenvectors shape torch.Size([5, 1024])\n",
      "670 /home/phdcs2/Hard_Disk/Datasets/Deep-Spectral-Segmentation/data/object-segmentation/ECSSD/features/0672_resized.pth\n",
      "dict_keys(['k', 'indices', 'file', 'id', 'model_name', 'patch_size', 'shape'])\n",
      "0672_resized\n",
      "Starting Training\n",
      "epoch: 00, loss: -0.91135\n",
      "epoch: 01, loss: -0.94714\n",
      "epoch: 02, loss: -0.95538\n",
      "epoch: 03, loss: -0.96010\n",
      "epoch: 04, loss: -0.96340\n",
      "epoch: 05, loss: -0.96581\n",
      "epoch: 06, loss: -0.96768\n",
      "epoch: 07, loss: -0.96923\n",
      "epoch: 08, loss: -0.97054\n"
     ]
    },
    {
     "name": "stderr",
     "output_type": "stream",
     "text": [
      " 67%|██████▋   | 671/999 [8:37:55<2:23:56, 26.33s/it]"
     ]
    },
    {
     "name": "stdout",
     "output_type": "stream",
     "text": [
      "epoch: 09, loss: -0.97165\n",
      "torch.Size([1024, 64])\n",
      "eigenvalues shape torch.Size([5]) eigenvectors shape torch.Size([5, 1024])\n",
      "671 /home/phdcs2/Hard_Disk/Datasets/Deep-Spectral-Segmentation/data/object-segmentation/ECSSD/features/0673_resized.pth\n",
      "dict_keys(['k', 'indices', 'file', 'id', 'model_name', 'patch_size', 'shape'])\n",
      "0673_resized\n",
      "Starting Training\n",
      "epoch: 00, loss: -0.92387\n",
      "epoch: 01, loss: -0.95473\n",
      "epoch: 02, loss: -0.96200\n",
      "epoch: 03, loss: -0.96618\n",
      "epoch: 04, loss: -0.96902\n",
      "epoch: 05, loss: -0.97113\n",
      "epoch: 06, loss: -0.97280\n",
      "epoch: 07, loss: -0.97414\n",
      "epoch: 08, loss: -0.97525\n",
      "epoch: 09, loss: -0.97621\n",
      "torch.Size([1024, 64])\n"
     ]
    },
    {
     "name": "stderr",
     "output_type": "stream",
     "text": [
      " 67%|██████▋   | 672/999 [8:38:22<2:25:52, 26.77s/it]"
     ]
    },
    {
     "name": "stdout",
     "output_type": "stream",
     "text": [
      "eigenvalues shape torch.Size([5]) eigenvectors shape torch.Size([5, 1024])\n",
      "672 /home/phdcs2/Hard_Disk/Datasets/Deep-Spectral-Segmentation/data/object-segmentation/ECSSD/features/0674_resized.pth\n",
      "dict_keys(['k', 'indices', 'file', 'id', 'model_name', 'patch_size', 'shape'])\n",
      "0674_resized\n",
      "Starting Training\n",
      "epoch: 00, loss: -0.91686\n",
      "epoch: 01, loss: -0.95064\n",
      "epoch: 02, loss: -0.95867\n",
      "epoch: 03, loss: -0.96326\n",
      "epoch: 04, loss: -0.96638\n",
      "epoch: 05, loss: -0.96869\n",
      "epoch: 06, loss: -0.97051\n",
      "epoch: 07, loss: -0.97194\n",
      "epoch: 08, loss: -0.97317\n",
      "epoch: 09, loss: -0.97422\n",
      "torch.Size([1024, 64])\n"
     ]
    },
    {
     "name": "stderr",
     "output_type": "stream",
     "text": [
      " 67%|██████▋   | 673/999 [8:38:48<2:23:17, 26.37s/it]"
     ]
    },
    {
     "name": "stdout",
     "output_type": "stream",
     "text": [
      "eigenvalues shape torch.Size([5]) eigenvectors shape torch.Size([5, 1024])\n",
      "673 /home/phdcs2/Hard_Disk/Datasets/Deep-Spectral-Segmentation/data/object-segmentation/ECSSD/features/0675_resized.pth\n",
      "dict_keys(['k', 'indices', 'file', 'id', 'model_name', 'patch_size', 'shape'])\n",
      "0675_resized\n",
      "Starting Training\n",
      "epoch: 00, loss: -0.92727\n",
      "epoch: 01, loss: -0.95669\n",
      "epoch: 02, loss: -0.96322\n",
      "epoch: 03, loss: -0.96696\n",
      "epoch: 04, loss: -0.96954\n",
      "epoch: 05, loss: -0.97146\n",
      "epoch: 06, loss: -0.97296\n",
      "epoch: 07, loss: -0.97420\n",
      "epoch: 08, loss: -0.97525\n",
      "epoch: 09, loss: -0.97612\n",
      "torch.Size([1024, 64])\n"
     ]
    },
    {
     "name": "stderr",
     "output_type": "stream",
     "text": [
      " 67%|██████▋   | 674/999 [8:39:14<2:22:04, 26.23s/it]"
     ]
    },
    {
     "name": "stdout",
     "output_type": "stream",
     "text": [
      "eigenvalues shape torch.Size([5]) eigenvectors shape torch.Size([5, 1024])\n",
      "674 /home/phdcs2/Hard_Disk/Datasets/Deep-Spectral-Segmentation/data/object-segmentation/ECSSD/features/0676_resized.pth\n",
      "dict_keys(['k', 'indices', 'file', 'id', 'model_name', 'patch_size', 'shape'])\n",
      "0676_resized\n",
      "Starting Training\n",
      "epoch: 00, loss: -0.90796\n",
      "epoch: 01, loss: -0.94280\n",
      "epoch: 02, loss: -0.95206\n",
      "epoch: 03, loss: -0.95745\n",
      "epoch: 04, loss: -0.96115\n",
      "epoch: 05, loss: -0.96394\n",
      "epoch: 06, loss: -0.96606\n",
      "epoch: 07, loss: -0.96784\n",
      "epoch: 08, loss: -0.96927\n"
     ]
    },
    {
     "name": "stderr",
     "output_type": "stream",
     "text": [
      " 68%|██████▊   | 675/999 [8:39:40<2:21:08, 26.14s/it]"
     ]
    },
    {
     "name": "stdout",
     "output_type": "stream",
     "text": [
      "epoch: 09, loss: -0.97053\n",
      "torch.Size([1024, 64])\n",
      "eigenvalues shape torch.Size([5]) eigenvectors shape torch.Size([5, 1024])\n",
      "675 /home/phdcs2/Hard_Disk/Datasets/Deep-Spectral-Segmentation/data/object-segmentation/ECSSD/features/0677_resized.pth\n",
      "dict_keys(['k', 'indices', 'file', 'id', 'model_name', 'patch_size', 'shape'])\n",
      "0677_resized\n",
      "Starting Training\n",
      "epoch: 00, loss: -0.91393\n",
      "epoch: 01, loss: -0.94679\n",
      "epoch: 02, loss: -0.95492\n",
      "epoch: 03, loss: -0.95964\n",
      "epoch: 04, loss: -0.96291\n",
      "epoch: 05, loss: -0.96535\n",
      "epoch: 06, loss: -0.96727\n",
      "epoch: 07, loss: -0.96885\n",
      "epoch: 08, loss: -0.97016\n",
      "epoch: 09, loss: -0.97127\n",
      "torch.Size([1024, 64])\n"
     ]
    },
    {
     "name": "stderr",
     "output_type": "stream",
     "text": [
      " 68%|██████▊   | 676/999 [8:40:07<2:22:34, 26.48s/it]"
     ]
    },
    {
     "name": "stdout",
     "output_type": "stream",
     "text": [
      "eigenvalues shape torch.Size([5]) eigenvectors shape torch.Size([5, 1024])\n",
      "676 /home/phdcs2/Hard_Disk/Datasets/Deep-Spectral-Segmentation/data/object-segmentation/ECSSD/features/0678_resized.pth\n",
      "dict_keys(['k', 'indices', 'file', 'id', 'model_name', 'patch_size', 'shape'])\n",
      "0678_resized\n",
      "Starting Training\n",
      "epoch: 00, loss: -0.91754\n",
      "epoch: 01, loss: -0.95196\n",
      "epoch: 02, loss: -0.95967\n",
      "epoch: 03, loss: -0.96413\n",
      "epoch: 04, loss: -0.96715\n",
      "epoch: 05, loss: -0.96937\n",
      "epoch: 06, loss: -0.97115\n",
      "epoch: 07, loss: -0.97256\n",
      "epoch: 08, loss: -0.97374\n"
     ]
    },
    {
     "name": "stderr",
     "output_type": "stream",
     "text": [
      " 68%|██████▊   | 677/999 [8:40:33<2:21:15, 26.32s/it]"
     ]
    },
    {
     "name": "stdout",
     "output_type": "stream",
     "text": [
      "epoch: 09, loss: -0.97475\n",
      "torch.Size([1024, 64])\n",
      "eigenvalues shape torch.Size([5]) eigenvectors shape torch.Size([5, 1024])\n",
      "677 /home/phdcs2/Hard_Disk/Datasets/Deep-Spectral-Segmentation/data/object-segmentation/ECSSD/features/0679_resized.pth\n",
      "dict_keys(['k', 'indices', 'file', 'id', 'model_name', 'patch_size', 'shape'])\n",
      "0679_resized\n",
      "Starting Training\n",
      "epoch: 00, loss: -0.91814\n",
      "epoch: 01, loss: -0.94752\n",
      "epoch: 02, loss: -0.95525\n",
      "epoch: 03, loss: -0.95990\n",
      "epoch: 04, loss: -0.96303\n",
      "epoch: 05, loss: -0.96540\n",
      "epoch: 06, loss: -0.96730\n",
      "epoch: 07, loss: -0.96879\n",
      "epoch: 08, loss: -0.97009\n"
     ]
    },
    {
     "name": "stderr",
     "output_type": "stream",
     "text": [
      " 68%|██████▊   | 678/999 [8:40:59<2:20:02, 26.18s/it]"
     ]
    },
    {
     "name": "stdout",
     "output_type": "stream",
     "text": [
      "epoch: 09, loss: -0.97119\n",
      "torch.Size([1024, 64])\n",
      "eigenvalues shape torch.Size([5]) eigenvectors shape torch.Size([5, 1024])\n",
      "678 /home/phdcs2/Hard_Disk/Datasets/Deep-Spectral-Segmentation/data/object-segmentation/ECSSD/features/0680_resized.pth\n",
      "dict_keys(['k', 'indices', 'file', 'id', 'model_name', 'patch_size', 'shape'])\n",
      "0680_resized\n",
      "Starting Training\n",
      "epoch: 00, loss: -0.91199\n",
      "epoch: 01, loss: -0.94703\n",
      "epoch: 02, loss: -0.95562\n",
      "epoch: 03, loss: -0.96041\n",
      "epoch: 04, loss: -0.96380\n",
      "epoch: 05, loss: -0.96624\n",
      "epoch: 06, loss: -0.96818\n",
      "epoch: 07, loss: -0.96981\n",
      "epoch: 08, loss: -0.97113\n",
      "epoch: 09, loss: -0.97223\n",
      "torch.Size([1024, 64])\n"
     ]
    },
    {
     "name": "stderr",
     "output_type": "stream",
     "text": [
      " 68%|██████▊   | 679/999 [8:41:25<2:20:23, 26.32s/it]"
     ]
    },
    {
     "name": "stdout",
     "output_type": "stream",
     "text": [
      "eigenvalues shape torch.Size([5]) eigenvectors shape torch.Size([5, 1024])\n",
      "679 /home/phdcs2/Hard_Disk/Datasets/Deep-Spectral-Segmentation/data/object-segmentation/ECSSD/features/0681_resized.pth\n",
      "dict_keys(['k', 'indices', 'file', 'id', 'model_name', 'patch_size', 'shape'])\n",
      "0681_resized\n",
      "Starting Training\n",
      "epoch: 00, loss: -0.86227\n",
      "epoch: 01, loss: -0.91894\n",
      "epoch: 02, loss: -0.93382\n",
      "epoch: 03, loss: -0.94210\n",
      "epoch: 04, loss: -0.94744\n",
      "epoch: 05, loss: -0.95159\n",
      "epoch: 06, loss: -0.95460\n",
      "epoch: 07, loss: -0.95718\n",
      "epoch: 08, loss: -0.95917\n",
      "epoch: 09, loss: -0.96087\n",
      "torch.Size([1024, 64])\n"
     ]
    },
    {
     "name": "stderr",
     "output_type": "stream",
     "text": [
      " 68%|██████▊   | 680/999 [8:41:52<2:19:42, 26.28s/it]"
     ]
    },
    {
     "name": "stdout",
     "output_type": "stream",
     "text": [
      "eigenvalues shape torch.Size([5]) eigenvectors shape torch.Size([5, 1024])\n",
      "680 /home/phdcs2/Hard_Disk/Datasets/Deep-Spectral-Segmentation/data/object-segmentation/ECSSD/features/0682_resized.pth\n",
      "dict_keys(['k', 'indices', 'file', 'id', 'model_name', 'patch_size', 'shape'])\n",
      "0682_resized\n",
      "Starting Training\n",
      "epoch: 00, loss: -0.90887\n",
      "epoch: 01, loss: -0.94599\n",
      "epoch: 02, loss: -0.95468\n",
      "epoch: 03, loss: -0.95957\n",
      "epoch: 04, loss: -0.96292\n",
      "epoch: 05, loss: -0.96549\n",
      "epoch: 06, loss: -0.96731\n",
      "epoch: 07, loss: -0.96888\n",
      "epoch: 08, loss: -0.97023\n"
     ]
    },
    {
     "name": "stderr",
     "output_type": "stream",
     "text": [
      " 68%|██████▊   | 681/999 [8:42:18<2:20:03, 26.43s/it]"
     ]
    },
    {
     "name": "stdout",
     "output_type": "stream",
     "text": [
      "epoch: 09, loss: -0.97128\n",
      "torch.Size([1024, 64])\n",
      "eigenvalues shape torch.Size([5]) eigenvectors shape torch.Size([5, 1024])\n",
      "681 /home/phdcs2/Hard_Disk/Datasets/Deep-Spectral-Segmentation/data/object-segmentation/ECSSD/features/0683_resized.pth\n",
      "dict_keys(['k', 'indices', 'file', 'id', 'model_name', 'patch_size', 'shape'])\n",
      "0683_resized\n",
      "Starting Training\n",
      "epoch: 00, loss: -0.89451\n",
      "epoch: 01, loss: -0.93795\n",
      "epoch: 02, loss: -0.94844\n",
      "epoch: 03, loss: -0.95433\n",
      "epoch: 04, loss: -0.95822\n",
      "epoch: 05, loss: -0.96119\n",
      "epoch: 06, loss: -0.96347\n",
      "epoch: 07, loss: -0.96527\n",
      "epoch: 08, loss: -0.96686\n"
     ]
    },
    {
     "name": "stderr",
     "output_type": "stream",
     "text": [
      " 68%|██████▊   | 682/999 [8:42:45<2:19:43, 26.45s/it]"
     ]
    },
    {
     "name": "stdout",
     "output_type": "stream",
     "text": [
      "epoch: 09, loss: -0.96823\n",
      "torch.Size([1024, 64])\n",
      "eigenvalues shape torch.Size([5]) eigenvectors shape torch.Size([5, 1024])\n",
      "682 /home/phdcs2/Hard_Disk/Datasets/Deep-Spectral-Segmentation/data/object-segmentation/ECSSD/features/0684_resized.pth\n",
      "dict_keys(['k', 'indices', 'file', 'id', 'model_name', 'patch_size', 'shape'])\n",
      "0684_resized\n",
      "Starting Training\n",
      "epoch: 00, loss: -0.93351\n",
      "epoch: 01, loss: -0.95980\n",
      "epoch: 02, loss: -0.96591\n",
      "epoch: 03, loss: -0.96948\n",
      "epoch: 04, loss: -0.97194\n",
      "epoch: 05, loss: -0.97377\n",
      "epoch: 06, loss: -0.97518\n",
      "epoch: 07, loss: -0.97637\n",
      "epoch: 08, loss: -0.97734\n",
      "epoch: 09, loss: -0.97820\n",
      "torch.Size([1024, 64])\n"
     ]
    },
    {
     "name": "stderr",
     "output_type": "stream",
     "text": [
      " 68%|██████▊   | 683/999 [8:43:11<2:19:33, 26.50s/it]"
     ]
    },
    {
     "name": "stdout",
     "output_type": "stream",
     "text": [
      "eigenvalues shape torch.Size([5]) eigenvectors shape torch.Size([5, 1024])\n",
      "683 /home/phdcs2/Hard_Disk/Datasets/Deep-Spectral-Segmentation/data/object-segmentation/ECSSD/features/0685_resized.pth\n",
      "dict_keys(['k', 'indices', 'file', 'id', 'model_name', 'patch_size', 'shape'])\n",
      "0685_resized\n",
      "Starting Training\n",
      "epoch: 00, loss: -0.91909\n",
      "epoch: 01, loss: -0.95164\n",
      "epoch: 02, loss: -0.95922\n",
      "epoch: 03, loss: -0.96357\n",
      "epoch: 04, loss: -0.96657\n",
      "epoch: 05, loss: -0.96875\n",
      "epoch: 06, loss: -0.97052\n",
      "epoch: 07, loss: -0.97189\n",
      "epoch: 08, loss: -0.97309\n",
      "epoch: 09, loss: -0.97407\n",
      "torch.Size([1024, 64])\n"
     ]
    },
    {
     "name": "stderr",
     "output_type": "stream",
     "text": [
      " 68%|██████▊   | 684/999 [8:43:38<2:19:37, 26.60s/it]"
     ]
    },
    {
     "name": "stdout",
     "output_type": "stream",
     "text": [
      "eigenvalues shape torch.Size([5]) eigenvectors shape torch.Size([5, 1024])\n",
      "684 /home/phdcs2/Hard_Disk/Datasets/Deep-Spectral-Segmentation/data/object-segmentation/ECSSD/features/0686_resized.pth\n",
      "dict_keys(['k', 'indices', 'file', 'id', 'model_name', 'patch_size', 'shape'])\n",
      "0686_resized\n",
      "Starting Training\n",
      "epoch: 00, loss: -0.88079\n",
      "epoch: 01, loss: -0.92662\n",
      "epoch: 02, loss: -0.93949\n",
      "epoch: 03, loss: -0.94645\n",
      "epoch: 04, loss: -0.95133\n",
      "epoch: 05, loss: -0.95492\n",
      "epoch: 06, loss: -0.95766\n",
      "epoch: 07, loss: -0.95989\n",
      "epoch: 08, loss: -0.96179\n",
      "epoch: 09, loss: -0.96333\n",
      "torch.Size([1024, 64])\n"
     ]
    },
    {
     "name": "stderr",
     "output_type": "stream",
     "text": [
      " 69%|██████▊   | 685/999 [8:44:05<2:19:20, 26.62s/it]"
     ]
    },
    {
     "name": "stdout",
     "output_type": "stream",
     "text": [
      "eigenvalues shape torch.Size([5]) eigenvectors shape torch.Size([5, 1024])\n",
      "685 /home/phdcs2/Hard_Disk/Datasets/Deep-Spectral-Segmentation/data/object-segmentation/ECSSD/features/0687_resized.pth\n",
      "dict_keys(['k', 'indices', 'file', 'id', 'model_name', 'patch_size', 'shape'])\n",
      "0687_resized\n",
      "Starting Training\n",
      "epoch: 00, loss: -0.89482\n",
      "epoch: 01, loss: -0.93421\n",
      "epoch: 02, loss: -0.94510\n",
      "epoch: 03, loss: -0.95139\n",
      "epoch: 04, loss: -0.95577\n",
      "epoch: 05, loss: -0.95886\n",
      "epoch: 06, loss: -0.96135\n",
      "epoch: 07, loss: -0.96335\n",
      "epoch: 08, loss: -0.96503\n",
      "epoch: 09, loss: -0.96643\n",
      "torch.Size([1024, 64])\n"
     ]
    },
    {
     "name": "stderr",
     "output_type": "stream",
     "text": [
      " 69%|██████▊   | 686/999 [8:44:32<2:19:23, 26.72s/it]"
     ]
    },
    {
     "name": "stdout",
     "output_type": "stream",
     "text": [
      "eigenvalues shape torch.Size([5]) eigenvectors shape torch.Size([5, 1024])\n",
      "686 /home/phdcs2/Hard_Disk/Datasets/Deep-Spectral-Segmentation/data/object-segmentation/ECSSD/features/0688_resized.pth\n",
      "dict_keys(['k', 'indices', 'file', 'id', 'model_name', 'patch_size', 'shape'])\n",
      "0688_resized\n",
      "Starting Training\n",
      "epoch: 00, loss: -0.91853\n",
      "epoch: 01, loss: -0.95204\n",
      "epoch: 02, loss: -0.95972\n",
      "epoch: 03, loss: -0.96417\n",
      "epoch: 04, loss: -0.96718\n",
      "epoch: 05, loss: -0.96941\n",
      "epoch: 06, loss: -0.97112\n",
      "epoch: 07, loss: -0.97254\n",
      "epoch: 08, loss: -0.97370\n"
     ]
    },
    {
     "name": "stderr",
     "output_type": "stream",
     "text": [
      " 69%|██████▉   | 687/999 [8:44:58<2:17:42, 26.48s/it]"
     ]
    },
    {
     "name": "stdout",
     "output_type": "stream",
     "text": [
      "epoch: 09, loss: -0.97470\n",
      "torch.Size([1024, 64])\n",
      "eigenvalues shape torch.Size([5]) eigenvectors shape torch.Size([5, 1024])\n",
      "687 /home/phdcs2/Hard_Disk/Datasets/Deep-Spectral-Segmentation/data/object-segmentation/ECSSD/features/0689_resized.pth\n",
      "dict_keys(['k', 'indices', 'file', 'id', 'model_name', 'patch_size', 'shape'])\n",
      "0689_resized\n",
      "Starting Training\n",
      "epoch: 00, loss: -0.90956\n",
      "epoch: 01, loss: -0.94914\n",
      "epoch: 02, loss: -0.95781\n",
      "epoch: 03, loss: -0.96274\n",
      "epoch: 04, loss: -0.96603\n",
      "epoch: 05, loss: -0.96846\n",
      "epoch: 06, loss: -0.97035\n",
      "epoch: 07, loss: -0.97185\n",
      "epoch: 08, loss: -0.97312\n"
     ]
    },
    {
     "name": "stderr",
     "output_type": "stream",
     "text": [
      " 69%|██████▉   | 688/999 [8:45:24<2:16:30, 26.34s/it]"
     ]
    },
    {
     "name": "stdout",
     "output_type": "stream",
     "text": [
      "epoch: 09, loss: -0.97421\n",
      "torch.Size([1024, 64])\n",
      "eigenvalues shape torch.Size([5]) eigenvectors shape torch.Size([5, 1024])\n",
      "688 /home/phdcs2/Hard_Disk/Datasets/Deep-Spectral-Segmentation/data/object-segmentation/ECSSD/features/0690_resized.pth\n",
      "dict_keys(['k', 'indices', 'file', 'id', 'model_name', 'patch_size', 'shape'])\n",
      "0690_resized\n",
      "Starting Training\n",
      "epoch: 00, loss: -0.91068\n",
      "epoch: 01, loss: -0.94598\n",
      "epoch: 02, loss: -0.95421\n",
      "epoch: 03, loss: -0.95898\n",
      "epoch: 04, loss: -0.96219\n",
      "epoch: 05, loss: -0.96465\n",
      "epoch: 06, loss: -0.96653\n",
      "epoch: 07, loss: -0.96809\n",
      "epoch: 08, loss: -0.96939\n"
     ]
    },
    {
     "name": "stderr",
     "output_type": "stream",
     "text": [
      " 69%|██████▉   | 689/999 [8:45:50<2:15:50, 26.29s/it]"
     ]
    },
    {
     "name": "stdout",
     "output_type": "stream",
     "text": [
      "epoch: 09, loss: -0.97049\n",
      "torch.Size([1024, 64])\n",
      "eigenvalues shape torch.Size([5]) eigenvectors shape torch.Size([5, 1024])\n",
      "689 /home/phdcs2/Hard_Disk/Datasets/Deep-Spectral-Segmentation/data/object-segmentation/ECSSD/features/0691_resized.pth\n",
      "dict_keys(['k', 'indices', 'file', 'id', 'model_name', 'patch_size', 'shape'])\n",
      "0691_resized\n",
      "Starting Training\n",
      "epoch: 00, loss: -0.93109\n",
      "epoch: 01, loss: -0.95891\n",
      "epoch: 02, loss: -0.96543\n",
      "epoch: 03, loss: -0.96922\n",
      "epoch: 04, loss: -0.97179\n",
      "epoch: 05, loss: -0.97370\n",
      "epoch: 06, loss: -0.97518\n",
      "epoch: 07, loss: -0.97642\n",
      "epoch: 08, loss: -0.97742\n",
      "epoch: 09, loss: -0.97830\n",
      "torch.Size([1024, 64])\n"
     ]
    },
    {
     "name": "stderr",
     "output_type": "stream",
     "text": [
      " 69%|██████▉   | 690/999 [8:46:17<2:15:40, 26.34s/it]"
     ]
    },
    {
     "name": "stdout",
     "output_type": "stream",
     "text": [
      "eigenvalues shape torch.Size([5]) eigenvectors shape torch.Size([5, 1024])\n",
      "690 /home/phdcs2/Hard_Disk/Datasets/Deep-Spectral-Segmentation/data/object-segmentation/ECSSD/features/0692_resized.pth\n",
      "dict_keys(['k', 'indices', 'file', 'id', 'model_name', 'patch_size', 'shape'])\n",
      "0692_resized\n",
      "Starting Training\n",
      "epoch: 00, loss: -0.90629\n",
      "epoch: 01, loss: -0.94281\n",
      "epoch: 02, loss: -0.95182\n",
      "epoch: 03, loss: -0.95700\n",
      "epoch: 04, loss: -0.96048\n",
      "epoch: 05, loss: -0.96305\n",
      "epoch: 06, loss: -0.96508\n",
      "epoch: 07, loss: -0.96676\n",
      "epoch: 08, loss: -0.96812\n"
     ]
    },
    {
     "name": "stderr",
     "output_type": "stream",
     "text": [
      " 69%|██████▉   | 691/999 [8:46:43<2:15:56, 26.48s/it]"
     ]
    },
    {
     "name": "stdout",
     "output_type": "stream",
     "text": [
      "epoch: 09, loss: -0.96935\n",
      "torch.Size([1024, 64])\n",
      "eigenvalues shape torch.Size([5]) eigenvectors shape torch.Size([5, 1024])\n",
      "691 /home/phdcs2/Hard_Disk/Datasets/Deep-Spectral-Segmentation/data/object-segmentation/ECSSD/features/0693_resized.pth\n",
      "dict_keys(['k', 'indices', 'file', 'id', 'model_name', 'patch_size', 'shape'])\n",
      "0693_resized\n",
      "Starting Training\n",
      "epoch: 00, loss: -0.90431\n",
      "epoch: 01, loss: -0.94270\n",
      "epoch: 02, loss: -0.95215\n",
      "epoch: 03, loss: -0.95761\n",
      "epoch: 04, loss: -0.96132\n",
      "epoch: 05, loss: -0.96403\n",
      "epoch: 06, loss: -0.96617\n",
      "epoch: 07, loss: -0.96789\n",
      "epoch: 08, loss: -0.96933\n"
     ]
    },
    {
     "name": "stderr",
     "output_type": "stream",
     "text": [
      " 69%|██████▉   | 692/999 [8:47:10<2:15:14, 26.43s/it]"
     ]
    },
    {
     "name": "stdout",
     "output_type": "stream",
     "text": [
      "epoch: 09, loss: -0.97056\n",
      "torch.Size([1024, 64])\n",
      "eigenvalues shape torch.Size([5]) eigenvectors shape torch.Size([5, 1024])\n",
      "692 /home/phdcs2/Hard_Disk/Datasets/Deep-Spectral-Segmentation/data/object-segmentation/ECSSD/features/0694_resized.pth\n",
      "dict_keys(['k', 'indices', 'file', 'id', 'model_name', 'patch_size', 'shape'])\n",
      "0694_resized\n",
      "Starting Training\n",
      "epoch: 00, loss: -0.93778\n",
      "epoch: 01, loss: -0.96261\n",
      "epoch: 02, loss: -0.96835\n",
      "epoch: 03, loss: -0.97163\n",
      "epoch: 04, loss: -0.97388\n",
      "epoch: 05, loss: -0.97557\n",
      "epoch: 06, loss: -0.97688\n",
      "epoch: 07, loss: -0.97794\n",
      "epoch: 08, loss: -0.97885\n",
      "epoch: 09, loss: -0.97963\n",
      "torch.Size([1024, 64])\n"
     ]
    },
    {
     "name": "stderr",
     "output_type": "stream",
     "text": [
      " 69%|██████▉   | 693/999 [8:47:37<2:15:29, 26.57s/it]"
     ]
    },
    {
     "name": "stdout",
     "output_type": "stream",
     "text": [
      "eigenvalues shape torch.Size([5]) eigenvectors shape torch.Size([5, 1024])\n",
      "693 /home/phdcs2/Hard_Disk/Datasets/Deep-Spectral-Segmentation/data/object-segmentation/ECSSD/features/0695_resized.pth\n",
      "dict_keys(['k', 'indices', 'file', 'id', 'model_name', 'patch_size', 'shape'])\n",
      "0695_resized\n",
      "Starting Training\n",
      "epoch: 00, loss: -0.85710\n",
      "epoch: 01, loss: -0.91773\n",
      "epoch: 02, loss: -0.93241\n",
      "epoch: 03, loss: -0.94090\n",
      "epoch: 04, loss: -0.94629\n",
      "epoch: 05, loss: -0.95054\n",
      "epoch: 06, loss: -0.95370\n",
      "epoch: 07, loss: -0.95621\n",
      "epoch: 08, loss: -0.95827\n",
      "epoch: 09, loss: -0.96001\n",
      "torch.Size([1024, 64])\n"
     ]
    },
    {
     "name": "stderr",
     "output_type": "stream",
     "text": [
      " 69%|██████▉   | 694/999 [8:48:03<2:14:50, 26.53s/it]"
     ]
    },
    {
     "name": "stdout",
     "output_type": "stream",
     "text": [
      "eigenvalues shape torch.Size([5]) eigenvectors shape torch.Size([5, 1024])\n",
      "694 /home/phdcs2/Hard_Disk/Datasets/Deep-Spectral-Segmentation/data/object-segmentation/ECSSD/features/0696_resized.pth\n",
      "dict_keys(['k', 'indices', 'file', 'id', 'model_name', 'patch_size', 'shape'])\n",
      "0696_resized\n",
      "Starting Training\n",
      "epoch: 00, loss: -0.92578\n",
      "epoch: 01, loss: -0.95543\n",
      "epoch: 02, loss: -0.96231\n",
      "epoch: 03, loss: -0.96627\n",
      "epoch: 04, loss: -0.96905\n",
      "epoch: 05, loss: -0.97107\n",
      "epoch: 06, loss: -0.97263\n",
      "epoch: 07, loss: -0.97392\n",
      "epoch: 08, loss: -0.97496\n"
     ]
    },
    {
     "name": "stderr",
     "output_type": "stream",
     "text": [
      " 70%|██████▉   | 695/999 [8:48:30<2:15:12, 26.69s/it]"
     ]
    },
    {
     "name": "stdout",
     "output_type": "stream",
     "text": [
      "epoch: 09, loss: -0.97591\n",
      "torch.Size([1024, 64])\n",
      "eigenvalues shape torch.Size([5]) eigenvectors shape torch.Size([5, 1024])\n",
      "695 /home/phdcs2/Hard_Disk/Datasets/Deep-Spectral-Segmentation/data/object-segmentation/ECSSD/features/0697_resized.pth\n",
      "dict_keys(['k', 'indices', 'file', 'id', 'model_name', 'patch_size', 'shape'])\n",
      "0697_resized\n",
      "Starting Training\n",
      "epoch: 00, loss: -0.91541\n",
      "epoch: 01, loss: -0.94988\n",
      "epoch: 02, loss: -0.95785\n",
      "epoch: 03, loss: -0.96240\n",
      "epoch: 04, loss: -0.96553\n",
      "epoch: 05, loss: -0.96783\n",
      "epoch: 06, loss: -0.96966\n",
      "epoch: 07, loss: -0.97115\n",
      "epoch: 08, loss: -0.97236\n",
      "epoch: 09, loss: -0.97343\n",
      "torch.Size([1024, 64])\n"
     ]
    },
    {
     "name": "stderr",
     "output_type": "stream",
     "text": [
      " 70%|██████▉   | 696/999 [8:48:57<2:14:31, 26.64s/it]"
     ]
    },
    {
     "name": "stdout",
     "output_type": "stream",
     "text": [
      "eigenvalues shape torch.Size([5]) eigenvectors shape torch.Size([5, 1024])\n",
      "696 /home/phdcs2/Hard_Disk/Datasets/Deep-Spectral-Segmentation/data/object-segmentation/ECSSD/features/0698_resized.pth\n",
      "dict_keys(['k', 'indices', 'file', 'id', 'model_name', 'patch_size', 'shape'])\n",
      "0698_resized\n",
      "Starting Training\n",
      "epoch: 00, loss: -0.87763\n",
      "epoch: 01, loss: -0.93083\n",
      "epoch: 02, loss: -0.94309\n",
      "epoch: 03, loss: -0.94970\n",
      "epoch: 04, loss: -0.95448\n",
      "epoch: 05, loss: -0.95779\n",
      "epoch: 06, loss: -0.96040\n",
      "epoch: 07, loss: -0.96244\n",
      "epoch: 08, loss: -0.96421\n",
      "epoch: 09, loss: -0.96564\n",
      "torch.Size([1024, 64])\n"
     ]
    },
    {
     "name": "stderr",
     "output_type": "stream",
     "text": [
      " 70%|██████▉   | 697/999 [8:49:23<2:13:46, 26.58s/it]"
     ]
    },
    {
     "name": "stdout",
     "output_type": "stream",
     "text": [
      "eigenvalues shape torch.Size([5]) eigenvectors shape torch.Size([5, 1024])\n",
      "697 /home/phdcs2/Hard_Disk/Datasets/Deep-Spectral-Segmentation/data/object-segmentation/ECSSD/features/0699_resized.pth\n",
      "dict_keys(['k', 'indices', 'file', 'id', 'model_name', 'patch_size', 'shape'])\n",
      "0699_resized\n",
      "Starting Training\n",
      "epoch: 00, loss: -0.91962\n",
      "epoch: 01, loss: -0.95162\n",
      "epoch: 02, loss: -0.95960\n",
      "epoch: 03, loss: -0.96401\n",
      "epoch: 04, loss: -0.96706\n",
      "epoch: 05, loss: -0.96931\n",
      "epoch: 06, loss: -0.97111\n",
      "epoch: 07, loss: -0.97257\n",
      "epoch: 08, loss: -0.97380\n"
     ]
    },
    {
     "name": "stderr",
     "output_type": "stream",
     "text": [
      " 70%|██████▉   | 698/999 [8:49:49<2:13:08, 26.54s/it]"
     ]
    },
    {
     "name": "stdout",
     "output_type": "stream",
     "text": [
      "epoch: 09, loss: -0.97475\n",
      "torch.Size([1024, 64])\n",
      "eigenvalues shape torch.Size([5]) eigenvectors shape torch.Size([5, 1024])\n",
      "698 /home/phdcs2/Hard_Disk/Datasets/Deep-Spectral-Segmentation/data/object-segmentation/ECSSD/features/0700_resized.pth\n",
      "dict_keys(['k', 'indices', 'file', 'id', 'model_name', 'patch_size', 'shape'])\n",
      "0700_resized\n",
      "Starting Training\n",
      "epoch: 00, loss: -0.91136\n",
      "epoch: 01, loss: -0.94841\n",
      "epoch: 02, loss: -0.95678\n",
      "epoch: 03, loss: -0.96161\n",
      "epoch: 04, loss: -0.96488\n",
      "epoch: 05, loss: -0.96731\n",
      "epoch: 06, loss: -0.96921\n",
      "epoch: 07, loss: -0.97073\n",
      "epoch: 08, loss: -0.97203\n",
      "epoch: 09, loss: -0.97312\n",
      "torch.Size([1024, 64])\n"
     ]
    },
    {
     "name": "stderr",
     "output_type": "stream",
     "text": [
      " 70%|██████▉   | 699/999 [8:50:17<2:14:14, 26.85s/it]"
     ]
    },
    {
     "name": "stdout",
     "output_type": "stream",
     "text": [
      "eigenvalues shape torch.Size([5]) eigenvectors shape torch.Size([5, 1024])\n",
      "699 /home/phdcs2/Hard_Disk/Datasets/Deep-Spectral-Segmentation/data/object-segmentation/ECSSD/features/0701_resized.pth\n",
      "dict_keys(['k', 'indices', 'file', 'id', 'model_name', 'patch_size', 'shape'])\n",
      "0701_resized\n",
      "Starting Training\n",
      "epoch: 00, loss: -0.91676\n",
      "epoch: 01, loss: -0.94864\n",
      "epoch: 02, loss: -0.95677\n",
      "epoch: 03, loss: -0.96152\n",
      "epoch: 04, loss: -0.96475\n",
      "epoch: 05, loss: -0.96719\n",
      "epoch: 06, loss: -0.96920\n",
      "epoch: 07, loss: -0.97073\n",
      "epoch: 08, loss: -0.97207\n"
     ]
    },
    {
     "name": "stderr",
     "output_type": "stream",
     "text": [
      " 70%|███████   | 700/999 [8:50:44<2:14:17, 26.95s/it]"
     ]
    },
    {
     "name": "stdout",
     "output_type": "stream",
     "text": [
      "epoch: 09, loss: -0.97319\n",
      "torch.Size([1024, 64])\n",
      "eigenvalues shape torch.Size([5]) eigenvectors shape torch.Size([5, 1024])\n",
      "700 /home/phdcs2/Hard_Disk/Datasets/Deep-Spectral-Segmentation/data/object-segmentation/ECSSD/features/0702_resized.pth\n",
      "dict_keys(['k', 'indices', 'file', 'id', 'model_name', 'patch_size', 'shape'])\n",
      "0702_resized\n",
      "Starting Training\n",
      "epoch: 00, loss: -0.92203\n",
      "epoch: 01, loss: -0.95377\n",
      "epoch: 02, loss: -0.96075\n",
      "epoch: 03, loss: -0.96475\n",
      "epoch: 04, loss: -0.96749\n",
      "epoch: 05, loss: -0.96962\n",
      "epoch: 06, loss: -0.97120\n",
      "epoch: 07, loss: -0.97253\n",
      "epoch: 08, loss: -0.97359\n"
     ]
    },
    {
     "name": "stderr",
     "output_type": "stream",
     "text": [
      " 70%|███████   | 701/999 [8:51:10<2:12:22, 26.65s/it]"
     ]
    },
    {
     "name": "stdout",
     "output_type": "stream",
     "text": [
      "epoch: 09, loss: -0.97451\n",
      "torch.Size([1024, 64])\n",
      "eigenvalues shape torch.Size([5]) eigenvectors shape torch.Size([5, 1024])\n",
      "701 /home/phdcs2/Hard_Disk/Datasets/Deep-Spectral-Segmentation/data/object-segmentation/ECSSD/features/0703_resized.pth\n",
      "dict_keys(['k', 'indices', 'file', 'id', 'model_name', 'patch_size', 'shape'])\n",
      "0703_resized\n",
      "Starting Training\n",
      "epoch: 00, loss: -0.91925\n",
      "epoch: 01, loss: -0.94949\n",
      "epoch: 02, loss: -0.95706\n",
      "epoch: 03, loss: -0.96155\n",
      "epoch: 04, loss: -0.96466\n",
      "epoch: 05, loss: -0.96700\n",
      "epoch: 06, loss: -0.96878\n",
      "epoch: 07, loss: -0.97028\n",
      "epoch: 08, loss: -0.97154\n",
      "epoch: 09, loss: -0.97261\n",
      "torch.Size([1024, 64])\n"
     ]
    },
    {
     "name": "stderr",
     "output_type": "stream",
     "text": [
      " 70%|███████   | 702/999 [8:51:37<2:12:02, 26.68s/it]"
     ]
    },
    {
     "name": "stdout",
     "output_type": "stream",
     "text": [
      "eigenvalues shape torch.Size([5]) eigenvectors shape torch.Size([5, 1024])\n",
      "702 /home/phdcs2/Hard_Disk/Datasets/Deep-Spectral-Segmentation/data/object-segmentation/ECSSD/features/0704_resized.pth\n",
      "dict_keys(['k', 'indices', 'file', 'id', 'model_name', 'patch_size', 'shape'])\n",
      "0704_resized\n",
      "Starting Training\n",
      "epoch: 00, loss: -0.89924\n",
      "epoch: 01, loss: -0.93965\n",
      "epoch: 02, loss: -0.94970\n",
      "epoch: 03, loss: -0.95562\n",
      "epoch: 04, loss: -0.95965\n",
      "epoch: 05, loss: -0.96266\n",
      "epoch: 06, loss: -0.96491\n",
      "epoch: 07, loss: -0.96674\n",
      "epoch: 08, loss: -0.96828\n"
     ]
    },
    {
     "name": "stderr",
     "output_type": "stream",
     "text": [
      " 70%|███████   | 703/999 [8:52:03<2:11:33, 26.67s/it]"
     ]
    },
    {
     "name": "stdout",
     "output_type": "stream",
     "text": [
      "epoch: 09, loss: -0.96950\n",
      "torch.Size([1024, 64])\n",
      "eigenvalues shape torch.Size([5]) eigenvectors shape torch.Size([5, 1024])\n",
      "703 /home/phdcs2/Hard_Disk/Datasets/Deep-Spectral-Segmentation/data/object-segmentation/ECSSD/features/0705_resized.pth\n",
      "dict_keys(['k', 'indices', 'file', 'id', 'model_name', 'patch_size', 'shape'])\n",
      "0705_resized\n",
      "Starting Training\n",
      "epoch: 00, loss: -0.86050\n",
      "epoch: 01, loss: -0.91876\n",
      "epoch: 02, loss: -0.93367\n",
      "epoch: 03, loss: -0.94191\n",
      "epoch: 04, loss: -0.94727\n",
      "epoch: 05, loss: -0.95132\n",
      "epoch: 06, loss: -0.95433\n",
      "epoch: 07, loss: -0.95684\n",
      "epoch: 08, loss: -0.95884\n"
     ]
    },
    {
     "name": "stderr",
     "output_type": "stream",
     "text": [
      " 70%|███████   | 704/999 [8:52:30<2:10:52, 26.62s/it]"
     ]
    },
    {
     "name": "stdout",
     "output_type": "stream",
     "text": [
      "epoch: 09, loss: -0.96060\n",
      "torch.Size([1024, 64])\n",
      "eigenvalues shape torch.Size([5]) eigenvectors shape torch.Size([5, 1024])\n",
      "704 /home/phdcs2/Hard_Disk/Datasets/Deep-Spectral-Segmentation/data/object-segmentation/ECSSD/features/0706_resized.pth\n",
      "dict_keys(['k', 'indices', 'file', 'id', 'model_name', 'patch_size', 'shape'])\n",
      "0706_resized\n",
      "Starting Training\n",
      "epoch: 00, loss: -0.88684\n",
      "epoch: 01, loss: -0.93045\n",
      "epoch: 02, loss: -0.94219\n",
      "epoch: 03, loss: -0.94888\n",
      "epoch: 04, loss: -0.95372\n",
      "epoch: 05, loss: -0.95706\n",
      "epoch: 06, loss: -0.95971\n",
      "epoch: 07, loss: -0.96189\n",
      "epoch: 08, loss: -0.96367\n",
      "epoch: 09, loss: -0.96521\n",
      "torch.Size([1024, 64])\n"
     ]
    },
    {
     "name": "stderr",
     "output_type": "stream",
     "text": [
      " 71%|███████   | 705/999 [8:52:57<2:10:16, 26.59s/it]"
     ]
    },
    {
     "name": "stdout",
     "output_type": "stream",
     "text": [
      "eigenvalues shape torch.Size([5]) eigenvectors shape torch.Size([5, 1024])\n",
      "705 /home/phdcs2/Hard_Disk/Datasets/Deep-Spectral-Segmentation/data/object-segmentation/ECSSD/features/0707_resized.pth\n",
      "dict_keys(['k', 'indices', 'file', 'id', 'model_name', 'patch_size', 'shape'])\n",
      "0707_resized\n",
      "Starting Training\n",
      "epoch: 00, loss: -0.91845\n",
      "epoch: 01, loss: -0.95388\n",
      "epoch: 02, loss: -0.96152\n",
      "epoch: 03, loss: -0.96581\n",
      "epoch: 04, loss: -0.96873\n",
      "epoch: 05, loss: -0.97086\n",
      "epoch: 06, loss: -0.97256\n",
      "epoch: 07, loss: -0.97391\n",
      "epoch: 08, loss: -0.97505\n",
      "epoch: 09, loss: -0.97602\n",
      "torch.Size([1024, 64])\n"
     ]
    },
    {
     "name": "stderr",
     "output_type": "stream",
     "text": [
      " 71%|███████   | 706/999 [8:53:24<2:10:38, 26.75s/it]"
     ]
    },
    {
     "name": "stdout",
     "output_type": "stream",
     "text": [
      "eigenvalues shape torch.Size([5]) eigenvectors shape torch.Size([5, 1024])\n",
      "706 /home/phdcs2/Hard_Disk/Datasets/Deep-Spectral-Segmentation/data/object-segmentation/ECSSD/features/0708_resized.pth\n",
      "dict_keys(['k', 'indices', 'file', 'id', 'model_name', 'patch_size', 'shape'])\n",
      "0708_resized\n",
      "Starting Training\n",
      "epoch: 00, loss: -0.88707\n",
      "epoch: 01, loss: -0.93305\n",
      "epoch: 02, loss: -0.94421\n",
      "epoch: 03, loss: -0.95046\n",
      "epoch: 04, loss: -0.95454\n",
      "epoch: 05, loss: -0.95783\n",
      "epoch: 06, loss: -0.96023\n",
      "epoch: 07, loss: -0.96215\n",
      "epoch: 08, loss: -0.96381\n"
     ]
    },
    {
     "name": "stderr",
     "output_type": "stream",
     "text": [
      " 71%|███████   | 707/999 [8:53:50<2:09:43, 26.66s/it]"
     ]
    },
    {
     "name": "stdout",
     "output_type": "stream",
     "text": [
      "epoch: 09, loss: -0.96520\n",
      "torch.Size([1024, 64])\n",
      "eigenvalues shape torch.Size([5]) eigenvectors shape torch.Size([5, 1024])\n",
      "707 /home/phdcs2/Hard_Disk/Datasets/Deep-Spectral-Segmentation/data/object-segmentation/ECSSD/features/0709_resized.pth\n",
      "dict_keys(['k', 'indices', 'file', 'id', 'model_name', 'patch_size', 'shape'])\n",
      "0709_resized\n",
      "Starting Training\n",
      "epoch: 00, loss: -0.94052\n",
      "epoch: 01, loss: -0.96351\n",
      "epoch: 02, loss: -0.96896\n",
      "epoch: 03, loss: -0.97212\n",
      "epoch: 04, loss: -0.97431\n",
      "epoch: 05, loss: -0.97597\n",
      "epoch: 06, loss: -0.97729\n",
      "epoch: 07, loss: -0.97835\n",
      "epoch: 08, loss: -0.97924\n",
      "epoch: 09, loss: -0.98000\n",
      "torch.Size([1024, 64])\n"
     ]
    },
    {
     "name": "stderr",
     "output_type": "stream",
     "text": [
      " 71%|███████   | 708/999 [8:54:16<2:08:27, 26.49s/it]"
     ]
    },
    {
     "name": "stdout",
     "output_type": "stream",
     "text": [
      "eigenvalues shape torch.Size([5]) eigenvectors shape torch.Size([5, 1024])\n",
      "708 /home/phdcs2/Hard_Disk/Datasets/Deep-Spectral-Segmentation/data/object-segmentation/ECSSD/features/0710_resized.pth\n",
      "dict_keys(['k', 'indices', 'file', 'id', 'model_name', 'patch_size', 'shape'])\n",
      "0710_resized\n",
      "Starting Training\n",
      "epoch: 00, loss: -0.92211\n",
      "epoch: 01, loss: -0.95235\n",
      "epoch: 02, loss: -0.96004\n",
      "epoch: 03, loss: -0.96454\n",
      "epoch: 04, loss: -0.96780\n",
      "epoch: 05, loss: -0.97005\n",
      "epoch: 06, loss: -0.97178\n",
      "epoch: 07, loss: -0.97329\n",
      "epoch: 08, loss: -0.97450\n",
      "epoch: 09, loss: -0.97553\n",
      "torch.Size([1024, 64])\n"
     ]
    },
    {
     "name": "stderr",
     "output_type": "stream",
     "text": [
      " 71%|███████   | 709/999 [8:54:43<2:08:33, 26.60s/it]"
     ]
    },
    {
     "name": "stdout",
     "output_type": "stream",
     "text": [
      "eigenvalues shape torch.Size([5]) eigenvectors shape torch.Size([5, 1024])\n",
      "709 /home/phdcs2/Hard_Disk/Datasets/Deep-Spectral-Segmentation/data/object-segmentation/ECSSD/features/0711_resized.pth\n",
      "dict_keys(['k', 'indices', 'file', 'id', 'model_name', 'patch_size', 'shape'])\n",
      "0711_resized\n",
      "Starting Training\n",
      "epoch: 00, loss: -0.89181\n",
      "epoch: 01, loss: -0.93445\n",
      "epoch: 02, loss: -0.94554\n",
      "epoch: 03, loss: -0.95196\n",
      "epoch: 04, loss: -0.95629\n",
      "epoch: 05, loss: -0.95945\n",
      "epoch: 06, loss: -0.96183\n",
      "epoch: 07, loss: -0.96384\n",
      "epoch: 08, loss: -0.96544\n"
     ]
    },
    {
     "name": "stderr",
     "output_type": "stream",
     "text": [
      " 71%|███████   | 710/999 [8:55:09<2:07:52, 26.55s/it]"
     ]
    },
    {
     "name": "stdout",
     "output_type": "stream",
     "text": [
      "epoch: 09, loss: -0.96686\n",
      "torch.Size([1024, 64])\n",
      "eigenvalues shape torch.Size([5]) eigenvectors shape torch.Size([5, 1024])\n",
      "710 /home/phdcs2/Hard_Disk/Datasets/Deep-Spectral-Segmentation/data/object-segmentation/ECSSD/features/0712_resized.pth\n",
      "dict_keys(['k', 'indices', 'file', 'id', 'model_name', 'patch_size', 'shape'])\n",
      "0712_resized\n",
      "Starting Training\n",
      "epoch: 00, loss: -0.91339\n",
      "epoch: 01, loss: -0.95012\n",
      "epoch: 02, loss: -0.95802\n",
      "epoch: 03, loss: -0.96258\n",
      "epoch: 04, loss: -0.96573\n",
      "epoch: 05, loss: -0.96803\n",
      "epoch: 06, loss: -0.96981\n",
      "epoch: 07, loss: -0.97129\n",
      "epoch: 08, loss: -0.97251\n",
      "epoch: 09, loss: -0.97355\n",
      "torch.Size([1024, 64])\n"
     ]
    },
    {
     "name": "stderr",
     "output_type": "stream",
     "text": [
      " 71%|███████   | 711/999 [8:55:36<2:07:55, 26.65s/it]"
     ]
    },
    {
     "name": "stdout",
     "output_type": "stream",
     "text": [
      "eigenvalues shape torch.Size([5]) eigenvectors shape torch.Size([5, 1024])\n",
      "711 /home/phdcs2/Hard_Disk/Datasets/Deep-Spectral-Segmentation/data/object-segmentation/ECSSD/features/0713_resized.pth\n",
      "dict_keys(['k', 'indices', 'file', 'id', 'model_name', 'patch_size', 'shape'])\n",
      "0713_resized\n",
      "Starting Training\n",
      "epoch: 00, loss: -0.88656\n",
      "epoch: 01, loss: -0.93326\n",
      "epoch: 02, loss: -0.94479\n",
      "epoch: 03, loss: -0.95106\n",
      "epoch: 04, loss: -0.95561\n",
      "epoch: 05, loss: -0.95877\n",
      "epoch: 06, loss: -0.96137\n",
      "epoch: 07, loss: -0.96346\n",
      "epoch: 08, loss: -0.96509\n",
      "epoch: 09, loss: -0.96652\n",
      "torch.Size([1024, 64])\n"
     ]
    },
    {
     "name": "stderr",
     "output_type": "stream",
     "text": [
      " 71%|███████▏  | 712/999 [8:56:02<2:06:27, 26.44s/it]"
     ]
    },
    {
     "name": "stdout",
     "output_type": "stream",
     "text": [
      "eigenvalues shape torch.Size([5]) eigenvectors shape torch.Size([5, 1024])\n",
      "712 /home/phdcs2/Hard_Disk/Datasets/Deep-Spectral-Segmentation/data/object-segmentation/ECSSD/features/0714_resized.pth\n",
      "dict_keys(['k', 'indices', 'file', 'id', 'model_name', 'patch_size', 'shape'])\n",
      "0714_resized\n",
      "Starting Training\n",
      "epoch: 00, loss: -0.91848\n",
      "epoch: 01, loss: -0.94941\n",
      "epoch: 02, loss: -0.95744\n",
      "epoch: 03, loss: -0.96192\n",
      "epoch: 04, loss: -0.96505\n",
      "epoch: 05, loss: -0.96735\n",
      "epoch: 06, loss: -0.96912\n",
      "epoch: 07, loss: -0.97064\n",
      "epoch: 08, loss: -0.97182\n"
     ]
    },
    {
     "name": "stderr",
     "output_type": "stream",
     "text": [
      " 71%|███████▏  | 713/999 [8:56:28<2:04:33, 26.13s/it]"
     ]
    },
    {
     "name": "stdout",
     "output_type": "stream",
     "text": [
      "epoch: 09, loss: -0.97285\n",
      "torch.Size([1024, 64])\n",
      "eigenvalues shape torch.Size([5]) eigenvectors shape torch.Size([5, 1024])\n",
      "713 /home/phdcs2/Hard_Disk/Datasets/Deep-Spectral-Segmentation/data/object-segmentation/ECSSD/features/0715_resized.pth\n",
      "dict_keys(['k', 'indices', 'file', 'id', 'model_name', 'patch_size', 'shape'])\n",
      "0715_resized\n",
      "Starting Training\n",
      "epoch: 00, loss: -0.91509\n",
      "epoch: 01, loss: -0.94958\n",
      "epoch: 02, loss: -0.95744\n",
      "epoch: 03, loss: -0.96201\n",
      "epoch: 04, loss: -0.96512\n",
      "epoch: 05, loss: -0.96742\n",
      "epoch: 06, loss: -0.96925\n",
      "epoch: 07, loss: -0.97075\n",
      "epoch: 08, loss: -0.97196\n",
      "epoch: 09, loss: -0.97301\n",
      "torch.Size([1024, 64])\n"
     ]
    },
    {
     "name": "stderr",
     "output_type": "stream",
     "text": [
      " 71%|███████▏  | 714/999 [8:56:55<2:05:30, 26.42s/it]"
     ]
    },
    {
     "name": "stdout",
     "output_type": "stream",
     "text": [
      "eigenvalues shape torch.Size([5]) eigenvectors shape torch.Size([5, 1024])\n",
      "714 /home/phdcs2/Hard_Disk/Datasets/Deep-Spectral-Segmentation/data/object-segmentation/ECSSD/features/0716_resized.pth\n",
      "dict_keys(['k', 'indices', 'file', 'id', 'model_name', 'patch_size', 'shape'])\n",
      "0716_resized\n",
      "Starting Training\n",
      "epoch: 00, loss: -0.90676\n",
      "epoch: 01, loss: -0.94392\n",
      "epoch: 02, loss: -0.95276\n",
      "epoch: 03, loss: -0.95792\n",
      "epoch: 04, loss: -0.96142\n",
      "epoch: 05, loss: -0.96399\n",
      "epoch: 06, loss: -0.96604\n",
      "epoch: 07, loss: -0.96770\n",
      "epoch: 08, loss: -0.96904\n",
      "epoch: 09, loss: -0.97024\n",
      "torch.Size([1024, 64])\n"
     ]
    },
    {
     "name": "stderr",
     "output_type": "stream",
     "text": [
      " 72%|███████▏  | 715/999 [8:57:22<2:05:57, 26.61s/it]"
     ]
    },
    {
     "name": "stdout",
     "output_type": "stream",
     "text": [
      "eigenvalues shape torch.Size([5]) eigenvectors shape torch.Size([5, 1024])\n",
      "715 /home/phdcs2/Hard_Disk/Datasets/Deep-Spectral-Segmentation/data/object-segmentation/ECSSD/features/0717_resized.pth\n",
      "dict_keys(['k', 'indices', 'file', 'id', 'model_name', 'patch_size', 'shape'])\n",
      "0717_resized\n",
      "Starting Training\n",
      "epoch: 00, loss: -0.93187\n",
      "epoch: 01, loss: -0.95651\n",
      "epoch: 02, loss: -0.96285\n",
      "epoch: 03, loss: -0.96661\n",
      "epoch: 04, loss: -0.96921\n",
      "epoch: 05, loss: -0.97115\n",
      "epoch: 06, loss: -0.97271\n",
      "epoch: 07, loss: -0.97396\n",
      "epoch: 08, loss: -0.97502\n",
      "epoch: 09, loss: -0.97592\n",
      "torch.Size([1024, 64])\n"
     ]
    },
    {
     "name": "stderr",
     "output_type": "stream",
     "text": [
      " 72%|███████▏  | 716/999 [8:57:48<2:04:15, 26.34s/it]"
     ]
    },
    {
     "name": "stdout",
     "output_type": "stream",
     "text": [
      "eigenvalues shape torch.Size([5]) eigenvectors shape torch.Size([5, 1024])\n",
      "716 /home/phdcs2/Hard_Disk/Datasets/Deep-Spectral-Segmentation/data/object-segmentation/ECSSD/features/0718_resized.pth\n",
      "dict_keys(['k', 'indices', 'file', 'id', 'model_name', 'patch_size', 'shape'])\n",
      "0718_resized\n",
      "Starting Training\n",
      "epoch: 00, loss: -0.90967\n",
      "epoch: 01, loss: -0.94475\n",
      "epoch: 02, loss: -0.95371\n",
      "epoch: 03, loss: -0.95870\n",
      "epoch: 04, loss: -0.96212\n",
      "epoch: 05, loss: -0.96467\n",
      "epoch: 06, loss: -0.96671\n",
      "epoch: 07, loss: -0.96832\n",
      "epoch: 08, loss: -0.96968\n",
      "epoch: 09, loss: -0.97082\n",
      "torch.Size([1024, 64])\n"
     ]
    },
    {
     "name": "stderr",
     "output_type": "stream",
     "text": [
      " 72%|███████▏  | 717/999 [8:58:13<2:03:08, 26.20s/it]"
     ]
    },
    {
     "name": "stdout",
     "output_type": "stream",
     "text": [
      "eigenvalues shape torch.Size([5]) eigenvectors shape torch.Size([5, 1024])\n",
      "717 /home/phdcs2/Hard_Disk/Datasets/Deep-Spectral-Segmentation/data/object-segmentation/ECSSD/features/0719_resized.pth\n",
      "dict_keys(['k', 'indices', 'file', 'id', 'model_name', 'patch_size', 'shape'])\n",
      "0719_resized\n",
      "Starting Training\n",
      "epoch: 00, loss: -0.89165\n",
      "epoch: 01, loss: -0.93422\n",
      "epoch: 02, loss: -0.94522\n",
      "epoch: 03, loss: -0.95179\n",
      "epoch: 04, loss: -0.95614\n",
      "epoch: 05, loss: -0.95934\n",
      "epoch: 06, loss: -0.96180\n",
      "epoch: 07, loss: -0.96372\n",
      "epoch: 08, loss: -0.96549\n",
      "epoch: 09, loss: -0.96691\n",
      "torch.Size([1024, 64])\n"
     ]
    },
    {
     "name": "stderr",
     "output_type": "stream",
     "text": [
      " 72%|███████▏  | 718/999 [8:58:40<2:03:14, 26.32s/it]"
     ]
    },
    {
     "name": "stdout",
     "output_type": "stream",
     "text": [
      "eigenvalues shape torch.Size([5]) eigenvectors shape torch.Size([5, 1024])\n",
      "718 /home/phdcs2/Hard_Disk/Datasets/Deep-Spectral-Segmentation/data/object-segmentation/ECSSD/features/0720_resized.pth\n",
      "dict_keys(['k', 'indices', 'file', 'id', 'model_name', 'patch_size', 'shape'])\n",
      "0720_resized\n",
      "Starting Training\n",
      "epoch: 00, loss: -0.92730\n",
      "epoch: 01, loss: -0.95387\n",
      "epoch: 02, loss: -0.96065\n",
      "epoch: 03, loss: -0.96462\n",
      "epoch: 04, loss: -0.96746\n",
      "epoch: 05, loss: -0.96954\n",
      "epoch: 06, loss: -0.97116\n",
      "epoch: 07, loss: -0.97253\n",
      "epoch: 08, loss: -0.97363\n",
      "epoch: 09, loss: -0.97460\n",
      "torch.Size([1024, 64])\n"
     ]
    },
    {
     "name": "stderr",
     "output_type": "stream",
     "text": [
      " 72%|███████▏  | 719/999 [8:59:07<2:03:40, 26.50s/it]"
     ]
    },
    {
     "name": "stdout",
     "output_type": "stream",
     "text": [
      "eigenvalues shape torch.Size([5]) eigenvectors shape torch.Size([5, 1024])\n",
      "719 /home/phdcs2/Hard_Disk/Datasets/Deep-Spectral-Segmentation/data/object-segmentation/ECSSD/features/0721_resized.pth\n",
      "dict_keys(['k', 'indices', 'file', 'id', 'model_name', 'patch_size', 'shape'])\n",
      "0721_resized\n",
      "Starting Training\n",
      "epoch: 00, loss: -0.89729\n",
      "epoch: 01, loss: -0.93790\n",
      "epoch: 02, loss: -0.94823\n",
      "epoch: 03, loss: -0.95404\n",
      "epoch: 04, loss: -0.95800\n",
      "epoch: 05, loss: -0.96096\n",
      "epoch: 06, loss: -0.96329\n",
      "epoch: 07, loss: -0.96507\n",
      "epoch: 08, loss: -0.96666\n"
     ]
    },
    {
     "name": "stderr",
     "output_type": "stream",
     "text": [
      " 72%|███████▏  | 720/999 [8:59:33<2:03:13, 26.50s/it]"
     ]
    },
    {
     "name": "stdout",
     "output_type": "stream",
     "text": [
      "epoch: 09, loss: -0.96788\n",
      "torch.Size([1024, 64])\n",
      "eigenvalues shape torch.Size([5]) eigenvectors shape torch.Size([5, 1024])\n",
      "720 /home/phdcs2/Hard_Disk/Datasets/Deep-Spectral-Segmentation/data/object-segmentation/ECSSD/features/0722_resized.pth\n",
      "dict_keys(['k', 'indices', 'file', 'id', 'model_name', 'patch_size', 'shape'])\n",
      "0722_resized\n",
      "Starting Training\n",
      "epoch: 00, loss: -0.91620\n",
      "epoch: 01, loss: -0.95049\n",
      "epoch: 02, loss: -0.95855\n",
      "epoch: 03, loss: -0.96306\n",
      "epoch: 04, loss: -0.96621\n",
      "epoch: 05, loss: -0.96851\n",
      "epoch: 06, loss: -0.97028\n",
      "epoch: 07, loss: -0.97175\n",
      "epoch: 08, loss: -0.97298\n",
      "epoch: 09, loss: -0.97401\n",
      "torch.Size([1024, 64])\n"
     ]
    },
    {
     "name": "stderr",
     "output_type": "stream",
     "text": [
      " 72%|███████▏  | 721/999 [9:00:00<2:03:03, 26.56s/it]"
     ]
    },
    {
     "name": "stdout",
     "output_type": "stream",
     "text": [
      "eigenvalues shape torch.Size([5]) eigenvectors shape torch.Size([5, 1024])\n",
      "721 /home/phdcs2/Hard_Disk/Datasets/Deep-Spectral-Segmentation/data/object-segmentation/ECSSD/features/0723_resized.pth\n",
      "dict_keys(['k', 'indices', 'file', 'id', 'model_name', 'patch_size', 'shape'])\n",
      "0723_resized\n",
      "Starting Training\n",
      "epoch: 00, loss: -0.90329\n",
      "epoch: 01, loss: -0.94184\n",
      "epoch: 02, loss: -0.95129\n",
      "epoch: 03, loss: -0.95683\n",
      "epoch: 04, loss: -0.96058\n",
      "epoch: 05, loss: -0.96334\n",
      "epoch: 06, loss: -0.96553\n",
      "epoch: 07, loss: -0.96718\n",
      "epoch: 08, loss: -0.96862\n",
      "epoch: 09, loss: -0.96991\n",
      "torch.Size([1024, 64])\n"
     ]
    },
    {
     "name": "stderr",
     "output_type": "stream",
     "text": [
      " 72%|███████▏  | 722/999 [9:00:28<2:05:02, 27.09s/it]"
     ]
    },
    {
     "name": "stdout",
     "output_type": "stream",
     "text": [
      "eigenvalues shape torch.Size([5]) eigenvectors shape torch.Size([5, 1024])\n",
      "722 /home/phdcs2/Hard_Disk/Datasets/Deep-Spectral-Segmentation/data/object-segmentation/ECSSD/features/0724_resized.pth\n",
      "dict_keys(['k', 'indices', 'file', 'id', 'model_name', 'patch_size', 'shape'])\n",
      "0724_resized\n",
      "Starting Training\n",
      "epoch: 00, loss: -0.91468\n",
      "epoch: 01, loss: -0.94783\n",
      "epoch: 02, loss: -0.95595\n",
      "epoch: 03, loss: -0.96066\n",
      "epoch: 04, loss: -0.96390\n",
      "epoch: 05, loss: -0.96627\n",
      "epoch: 06, loss: -0.96811\n",
      "epoch: 07, loss: -0.96966\n",
      "epoch: 08, loss: -0.97097\n"
     ]
    },
    {
     "name": "stderr",
     "output_type": "stream",
     "text": [
      " 72%|███████▏  | 723/999 [9:00:54<2:02:35, 26.65s/it]"
     ]
    },
    {
     "name": "stdout",
     "output_type": "stream",
     "text": [
      "epoch: 09, loss: -0.97203\n",
      "torch.Size([1024, 64])\n",
      "eigenvalues shape torch.Size([5]) eigenvectors shape torch.Size([5, 1024])\n",
      "723 /home/phdcs2/Hard_Disk/Datasets/Deep-Spectral-Segmentation/data/object-segmentation/ECSSD/features/0725_resized.pth\n",
      "dict_keys(['k', 'indices', 'file', 'id', 'model_name', 'patch_size', 'shape'])\n",
      "0725_resized\n",
      "Starting Training\n",
      "epoch: 00, loss: -0.88019\n",
      "epoch: 01, loss: -0.92991\n",
      "epoch: 02, loss: -0.94169\n",
      "epoch: 03, loss: -0.94820\n",
      "epoch: 04, loss: -0.95251\n",
      "epoch: 05, loss: -0.95597\n",
      "epoch: 06, loss: -0.95856\n",
      "epoch: 07, loss: -0.96060\n",
      "epoch: 08, loss: -0.96239\n",
      "epoch: 09, loss: -0.96378\n",
      "torch.Size([1024, 64])\n"
     ]
    },
    {
     "name": "stderr",
     "output_type": "stream",
     "text": [
      " 72%|███████▏  | 724/999 [9:01:21<2:02:50, 26.80s/it]"
     ]
    },
    {
     "name": "stdout",
     "output_type": "stream",
     "text": [
      "eigenvalues shape torch.Size([5]) eigenvectors shape torch.Size([5, 1024])\n",
      "724 /home/phdcs2/Hard_Disk/Datasets/Deep-Spectral-Segmentation/data/object-segmentation/ECSSD/features/0726_resized.pth\n",
      "dict_keys(['k', 'indices', 'file', 'id', 'model_name', 'patch_size', 'shape'])\n",
      "0726_resized\n",
      "Starting Training\n",
      "epoch: 00, loss: -0.93930\n",
      "epoch: 01, loss: -0.96415\n",
      "epoch: 02, loss: -0.96967\n",
      "epoch: 03, loss: -0.97284\n",
      "epoch: 04, loss: -0.97501\n",
      "epoch: 05, loss: -0.97660\n",
      "epoch: 06, loss: -0.97789\n",
      "epoch: 07, loss: -0.97890\n",
      "epoch: 08, loss: -0.97976\n",
      "epoch: 09, loss: -0.98050\n",
      "torch.Size([1024, 64])\n"
     ]
    },
    {
     "name": "stderr",
     "output_type": "stream",
     "text": [
      " 73%|███████▎  | 725/999 [9:01:48<2:01:55, 26.70s/it]"
     ]
    },
    {
     "name": "stdout",
     "output_type": "stream",
     "text": [
      "eigenvalues shape torch.Size([5]) eigenvectors shape torch.Size([5, 1024])\n",
      "725 /home/phdcs2/Hard_Disk/Datasets/Deep-Spectral-Segmentation/data/object-segmentation/ECSSD/features/0727_resized.pth\n",
      "dict_keys(['k', 'indices', 'file', 'id', 'model_name', 'patch_size', 'shape'])\n",
      "0727_resized\n",
      "Starting Training\n",
      "epoch: 00, loss: -0.91344\n",
      "epoch: 01, loss: -0.94579\n",
      "epoch: 02, loss: -0.95454\n",
      "epoch: 03, loss: -0.95958\n",
      "epoch: 04, loss: -0.96305\n",
      "epoch: 05, loss: -0.96557\n",
      "epoch: 06, loss: -0.96760\n",
      "epoch: 07, loss: -0.96922\n",
      "epoch: 08, loss: -0.97057\n",
      "epoch: 09, loss: -0.97176\n",
      "torch.Size([1024, 64])\n"
     ]
    },
    {
     "name": "stderr",
     "output_type": "stream",
     "text": [
      " 73%|███████▎  | 726/999 [9:02:14<2:01:13, 26.64s/it]"
     ]
    },
    {
     "name": "stdout",
     "output_type": "stream",
     "text": [
      "eigenvalues shape torch.Size([5]) eigenvectors shape torch.Size([5, 1024])\n",
      "726 /home/phdcs2/Hard_Disk/Datasets/Deep-Spectral-Segmentation/data/object-segmentation/ECSSD/features/0728_resized.pth\n",
      "dict_keys(['k', 'indices', 'file', 'id', 'model_name', 'patch_size', 'shape'])\n",
      "0728_resized\n",
      "Starting Training\n",
      "epoch: 00, loss: -0.89649\n",
      "epoch: 01, loss: -0.93786\n",
      "epoch: 02, loss: -0.94847\n",
      "epoch: 03, loss: -0.95445\n",
      "epoch: 04, loss: -0.95856\n",
      "epoch: 05, loss: -0.96168\n",
      "epoch: 06, loss: -0.96406\n",
      "epoch: 07, loss: -0.96597\n",
      "epoch: 08, loss: -0.96746\n",
      "epoch: 09, loss: -0.96881\n",
      "torch.Size([1024, 64])\n"
     ]
    },
    {
     "name": "stderr",
     "output_type": "stream",
     "text": [
      " 73%|███████▎  | 727/999 [9:02:41<2:01:03, 26.70s/it]"
     ]
    },
    {
     "name": "stdout",
     "output_type": "stream",
     "text": [
      "eigenvalues shape torch.Size([5]) eigenvectors shape torch.Size([5, 1024])\n",
      "727 /home/phdcs2/Hard_Disk/Datasets/Deep-Spectral-Segmentation/data/object-segmentation/ECSSD/features/0729_resized.pth\n",
      "dict_keys(['k', 'indices', 'file', 'id', 'model_name', 'patch_size', 'shape'])\n",
      "0729_resized\n",
      "Starting Training\n",
      "epoch: 00, loss: -0.91463\n",
      "epoch: 01, loss: -0.95022\n",
      "epoch: 02, loss: -0.95802\n",
      "epoch: 03, loss: -0.96254\n",
      "epoch: 04, loss: -0.96556\n",
      "epoch: 05, loss: -0.96782\n",
      "epoch: 06, loss: -0.96959\n",
      "epoch: 07, loss: -0.97103\n",
      "epoch: 08, loss: -0.97222\n",
      "epoch: 09, loss: -0.97324\n",
      "torch.Size([1024, 64])\n"
     ]
    },
    {
     "name": "stderr",
     "output_type": "stream",
     "text": [
      " 73%|███████▎  | 728/999 [9:03:08<2:00:18, 26.64s/it]"
     ]
    },
    {
     "name": "stdout",
     "output_type": "stream",
     "text": [
      "eigenvalues shape torch.Size([5]) eigenvectors shape torch.Size([5, 1024])\n",
      "728 /home/phdcs2/Hard_Disk/Datasets/Deep-Spectral-Segmentation/data/object-segmentation/ECSSD/features/0730_resized.pth\n",
      "dict_keys(['k', 'indices', 'file', 'id', 'model_name', 'patch_size', 'shape'])\n",
      "0730_resized\n",
      "Starting Training\n",
      "epoch: 00, loss: -0.87151\n",
      "epoch: 01, loss: -0.92430\n",
      "epoch: 02, loss: -0.93755\n",
      "epoch: 03, loss: -0.94470\n",
      "epoch: 04, loss: -0.94959\n",
      "epoch: 05, loss: -0.95324\n",
      "epoch: 06, loss: -0.95592\n",
      "epoch: 07, loss: -0.95820\n",
      "epoch: 08, loss: -0.96009\n"
     ]
    },
    {
     "name": "stderr",
     "output_type": "stream",
     "text": [
      " 73%|███████▎  | 729/999 [9:03:33<1:58:43, 26.38s/it]"
     ]
    },
    {
     "name": "stdout",
     "output_type": "stream",
     "text": [
      "epoch: 09, loss: -0.96167\n",
      "torch.Size([1024, 64])\n",
      "eigenvalues shape torch.Size([5]) eigenvectors shape torch.Size([5, 1024])\n",
      "729 /home/phdcs2/Hard_Disk/Datasets/Deep-Spectral-Segmentation/data/object-segmentation/ECSSD/features/0731_resized.pth\n",
      "dict_keys(['k', 'indices', 'file', 'id', 'model_name', 'patch_size', 'shape'])\n",
      "0731_resized\n",
      "Starting Training\n",
      "epoch: 00, loss: -0.88221\n",
      "epoch: 01, loss: -0.93051\n",
      "epoch: 02, loss: -0.94266\n",
      "epoch: 03, loss: -0.94953\n",
      "epoch: 04, loss: -0.95423\n",
      "epoch: 05, loss: -0.95766\n",
      "epoch: 06, loss: -0.96025\n",
      "epoch: 07, loss: -0.96244\n",
      "epoch: 08, loss: -0.96409\n"
     ]
    },
    {
     "name": "stderr",
     "output_type": "stream",
     "text": [
      " 73%|███████▎  | 730/999 [9:04:00<1:58:23, 26.41s/it]"
     ]
    },
    {
     "name": "stdout",
     "output_type": "stream",
     "text": [
      "epoch: 09, loss: -0.96556\n",
      "torch.Size([1024, 64])\n",
      "eigenvalues shape torch.Size([5]) eigenvectors shape torch.Size([5, 1024])\n",
      "730 /home/phdcs2/Hard_Disk/Datasets/Deep-Spectral-Segmentation/data/object-segmentation/ECSSD/features/0732_resized.pth\n",
      "dict_keys(['k', 'indices', 'file', 'id', 'model_name', 'patch_size', 'shape'])\n",
      "0732_resized\n",
      "Starting Training\n",
      "epoch: 00, loss: -0.90055\n",
      "epoch: 01, loss: -0.94043\n",
      "epoch: 02, loss: -0.94997\n",
      "epoch: 03, loss: -0.95528\n",
      "epoch: 04, loss: -0.95885\n",
      "epoch: 05, loss: -0.96152\n",
      "epoch: 06, loss: -0.96358\n",
      "epoch: 07, loss: -0.96517\n",
      "epoch: 08, loss: -0.96659\n",
      "epoch: 09, loss: -0.96772\n",
      "torch.Size([1024, 64])\n"
     ]
    },
    {
     "name": "stderr",
     "output_type": "stream",
     "text": [
      " 73%|███████▎  | 731/999 [9:04:27<1:58:43, 26.58s/it]"
     ]
    },
    {
     "name": "stdout",
     "output_type": "stream",
     "text": [
      "eigenvalues shape torch.Size([5]) eigenvectors shape torch.Size([5, 1024])\n",
      "731 /home/phdcs2/Hard_Disk/Datasets/Deep-Spectral-Segmentation/data/object-segmentation/ECSSD/features/0733_resized.pth\n",
      "dict_keys(['k', 'indices', 'file', 'id', 'model_name', 'patch_size', 'shape'])\n",
      "0733_resized\n",
      "Starting Training\n",
      "epoch: 00, loss: -0.93461\n",
      "epoch: 01, loss: -0.95917\n",
      "epoch: 02, loss: -0.96538\n",
      "epoch: 03, loss: -0.96903\n",
      "epoch: 04, loss: -0.97150\n",
      "epoch: 05, loss: -0.97337\n",
      "epoch: 06, loss: -0.97482\n",
      "epoch: 07, loss: -0.97601\n",
      "epoch: 08, loss: -0.97701\n",
      "epoch: 09, loss: -0.97787\n",
      "torch.Size([1024, 64])\n"
     ]
    },
    {
     "name": "stderr",
     "output_type": "stream",
     "text": [
      " 73%|███████▎  | 732/999 [9:04:54<1:58:40, 26.67s/it]"
     ]
    },
    {
     "name": "stdout",
     "output_type": "stream",
     "text": [
      "eigenvalues shape torch.Size([5]) eigenvectors shape torch.Size([5, 1024])\n",
      "732 /home/phdcs2/Hard_Disk/Datasets/Deep-Spectral-Segmentation/data/object-segmentation/ECSSD/features/0734_resized.pth\n",
      "dict_keys(['k', 'indices', 'file', 'id', 'model_name', 'patch_size', 'shape'])\n",
      "0734_resized\n",
      "Starting Training\n",
      "epoch: 00, loss: -0.92453\n",
      "epoch: 01, loss: -0.95665\n",
      "epoch: 02, loss: -0.96384\n",
      "epoch: 03, loss: -0.96794\n",
      "epoch: 04, loss: -0.97069\n",
      "epoch: 05, loss: -0.97271\n",
      "epoch: 06, loss: -0.97429\n",
      "epoch: 07, loss: -0.97559\n",
      "epoch: 08, loss: -0.97664\n",
      "epoch: 09, loss: -0.97755\n",
      "torch.Size([1024, 64])\n"
     ]
    },
    {
     "name": "stderr",
     "output_type": "stream",
     "text": [
      " 73%|███████▎  | 733/999 [9:05:22<2:00:35, 27.20s/it]"
     ]
    },
    {
     "name": "stdout",
     "output_type": "stream",
     "text": [
      "eigenvalues shape torch.Size([5]) eigenvectors shape torch.Size([5, 1024])\n",
      "733 /home/phdcs2/Hard_Disk/Datasets/Deep-Spectral-Segmentation/data/object-segmentation/ECSSD/features/0735_resized.pth\n",
      "dict_keys(['k', 'indices', 'file', 'id', 'model_name', 'patch_size', 'shape'])\n",
      "0735_resized\n",
      "Starting Training\n",
      "epoch: 00, loss: -0.90844\n",
      "epoch: 01, loss: -0.94757\n",
      "epoch: 02, loss: -0.95634\n",
      "epoch: 03, loss: -0.96128\n",
      "epoch: 04, loss: -0.96463\n",
      "epoch: 05, loss: -0.96703\n",
      "epoch: 06, loss: -0.96895\n",
      "epoch: 07, loss: -0.97046\n",
      "epoch: 08, loss: -0.97179\n"
     ]
    },
    {
     "name": "stderr",
     "output_type": "stream",
     "text": [
      " 73%|███████▎  | 734/999 [9:05:49<1:59:10, 26.98s/it]"
     ]
    },
    {
     "name": "stdout",
     "output_type": "stream",
     "text": [
      "epoch: 09, loss: -0.97292\n",
      "torch.Size([1024, 64])\n",
      "eigenvalues shape torch.Size([5]) eigenvectors shape torch.Size([5, 1024])\n",
      "734 /home/phdcs2/Hard_Disk/Datasets/Deep-Spectral-Segmentation/data/object-segmentation/ECSSD/features/0736_resized.pth\n",
      "dict_keys(['k', 'indices', 'file', 'id', 'model_name', 'patch_size', 'shape'])\n",
      "0736_resized\n",
      "Starting Training\n",
      "epoch: 00, loss: -0.90986\n",
      "epoch: 01, loss: -0.94611\n",
      "epoch: 02, loss: -0.95487\n",
      "epoch: 03, loss: -0.95991\n",
      "epoch: 04, loss: -0.96335\n",
      "epoch: 05, loss: -0.96589\n",
      "epoch: 06, loss: -0.96786\n",
      "epoch: 07, loss: -0.96948\n",
      "epoch: 08, loss: -0.97081\n"
     ]
    },
    {
     "name": "stderr",
     "output_type": "stream",
     "text": [
      " 74%|███████▎  | 735/999 [9:06:14<1:56:59, 26.59s/it]"
     ]
    },
    {
     "name": "stdout",
     "output_type": "stream",
     "text": [
      "epoch: 09, loss: -0.97195\n",
      "torch.Size([1024, 64])\n",
      "eigenvalues shape torch.Size([5]) eigenvectors shape torch.Size([5, 1024])\n",
      "735 /home/phdcs2/Hard_Disk/Datasets/Deep-Spectral-Segmentation/data/object-segmentation/ECSSD/features/0737_resized.pth\n",
      "dict_keys(['k', 'indices', 'file', 'id', 'model_name', 'patch_size', 'shape'])\n",
      "0737_resized\n",
      "Starting Training\n",
      "epoch: 00, loss: -0.89290\n",
      "epoch: 01, loss: -0.93340\n",
      "epoch: 02, loss: -0.94436\n",
      "epoch: 03, loss: -0.95074\n",
      "epoch: 04, loss: -0.95499\n",
      "epoch: 05, loss: -0.95816\n",
      "epoch: 06, loss: -0.96079\n",
      "epoch: 07, loss: -0.96277\n",
      "epoch: 08, loss: -0.96445\n"
     ]
    },
    {
     "name": "stderr",
     "output_type": "stream",
     "text": [
      " 74%|███████▎  | 736/999 [9:06:40<1:55:41, 26.40s/it]"
     ]
    },
    {
     "name": "stdout",
     "output_type": "stream",
     "text": [
      "epoch: 09, loss: -0.96593\n",
      "torch.Size([1024, 64])\n",
      "eigenvalues shape torch.Size([5]) eigenvectors shape torch.Size([5, 1024])\n",
      "736 /home/phdcs2/Hard_Disk/Datasets/Deep-Spectral-Segmentation/data/object-segmentation/ECSSD/features/0738_resized.pth\n",
      "dict_keys(['k', 'indices', 'file', 'id', 'model_name', 'patch_size', 'shape'])\n",
      "0738_resized\n",
      "Starting Training\n",
      "epoch: 00, loss: -0.93192\n",
      "epoch: 01, loss: -0.95893\n",
      "epoch: 02, loss: -0.96495\n",
      "epoch: 03, loss: -0.96846\n",
      "epoch: 04, loss: -0.97080\n",
      "epoch: 05, loss: -0.97262\n",
      "epoch: 06, loss: -0.97400\n",
      "epoch: 07, loss: -0.97514\n",
      "epoch: 08, loss: -0.97611\n"
     ]
    },
    {
     "name": "stderr",
     "output_type": "stream",
     "text": [
      " 74%|███████▍  | 737/999 [9:07:06<1:54:50, 26.30s/it]"
     ]
    },
    {
     "name": "stdout",
     "output_type": "stream",
     "text": [
      "epoch: 09, loss: -0.97694\n",
      "torch.Size([1024, 64])\n",
      "eigenvalues shape torch.Size([5]) eigenvectors shape torch.Size([5, 1024])\n",
      "737 /home/phdcs2/Hard_Disk/Datasets/Deep-Spectral-Segmentation/data/object-segmentation/ECSSD/features/0739_resized.pth\n",
      "dict_keys(['k', 'indices', 'file', 'id', 'model_name', 'patch_size', 'shape'])\n",
      "0739_resized\n",
      "Starting Training\n",
      "epoch: 00, loss: -0.92824\n",
      "epoch: 01, loss: -0.95759\n",
      "epoch: 02, loss: -0.96406\n",
      "epoch: 03, loss: -0.96783\n",
      "epoch: 04, loss: -0.97037\n",
      "epoch: 05, loss: -0.97226\n",
      "epoch: 06, loss: -0.97374\n",
      "epoch: 07, loss: -0.97495\n",
      "epoch: 08, loss: -0.97597\n",
      "epoch: 09, loss: -0.97683\n",
      "torch.Size([1024, 64])\n"
     ]
    },
    {
     "name": "stderr",
     "output_type": "stream",
     "text": [
      " 74%|███████▍  | 738/999 [9:07:33<1:55:04, 26.45s/it]"
     ]
    },
    {
     "name": "stdout",
     "output_type": "stream",
     "text": [
      "eigenvalues shape torch.Size([5]) eigenvectors shape torch.Size([5, 1024])\n",
      "738 /home/phdcs2/Hard_Disk/Datasets/Deep-Spectral-Segmentation/data/object-segmentation/ECSSD/features/0740_resized.pth\n",
      "dict_keys(['k', 'indices', 'file', 'id', 'model_name', 'patch_size', 'shape'])\n",
      "0740_resized\n",
      "Starting Training\n",
      "epoch: 00, loss: -0.90271\n",
      "epoch: 01, loss: -0.93996\n",
      "epoch: 02, loss: -0.94954\n",
      "epoch: 03, loss: -0.95506\n",
      "epoch: 04, loss: -0.95868\n",
      "epoch: 05, loss: -0.96156\n",
      "epoch: 06, loss: -0.96371\n",
      "epoch: 07, loss: -0.96540\n",
      "epoch: 08, loss: -0.96690\n"
     ]
    },
    {
     "name": "stderr",
     "output_type": "stream",
     "text": [
      " 74%|███████▍  | 739/999 [9:08:00<1:55:21, 26.62s/it]"
     ]
    },
    {
     "name": "stdout",
     "output_type": "stream",
     "text": [
      "epoch: 09, loss: -0.96813\n",
      "torch.Size([1024, 64])\n",
      "eigenvalues shape torch.Size([5]) eigenvectors shape torch.Size([5, 1024])\n",
      "739 /home/phdcs2/Hard_Disk/Datasets/Deep-Spectral-Segmentation/data/object-segmentation/ECSSD/features/0741_resized.pth\n",
      "dict_keys(['k', 'indices', 'file', 'id', 'model_name', 'patch_size', 'shape'])\n",
      "0741_resized\n",
      "Starting Training\n",
      "epoch: 00, loss: -0.88732\n",
      "epoch: 01, loss: -0.93309\n",
      "epoch: 02, loss: -0.94409\n",
      "epoch: 03, loss: -0.95040\n",
      "epoch: 04, loss: -0.95471\n",
      "epoch: 05, loss: -0.95789\n",
      "epoch: 06, loss: -0.96035\n",
      "epoch: 07, loss: -0.96237\n",
      "epoch: 08, loss: -0.96405\n"
     ]
    },
    {
     "name": "stderr",
     "output_type": "stream",
     "text": [
      " 74%|███████▍  | 740/999 [9:08:26<1:54:27, 26.51s/it]"
     ]
    },
    {
     "name": "stdout",
     "output_type": "stream",
     "text": [
      "epoch: 09, loss: -0.96547\n",
      "torch.Size([1024, 64])\n",
      "eigenvalues shape torch.Size([5]) eigenvectors shape torch.Size([5, 1024])\n",
      "740 /home/phdcs2/Hard_Disk/Datasets/Deep-Spectral-Segmentation/data/object-segmentation/ECSSD/features/0742_resized.pth\n",
      "dict_keys(['k', 'indices', 'file', 'id', 'model_name', 'patch_size', 'shape'])\n",
      "0742_resized\n",
      "Starting Training\n",
      "epoch: 00, loss: -0.91944\n",
      "epoch: 01, loss: -0.95006\n",
      "epoch: 02, loss: -0.95727\n",
      "epoch: 03, loss: -0.96161\n",
      "epoch: 04, loss: -0.96442\n",
      "epoch: 05, loss: -0.96668\n",
      "epoch: 06, loss: -0.96834\n",
      "epoch: 07, loss: -0.96983\n",
      "epoch: 08, loss: -0.97107\n",
      "epoch: 09, loss: -0.97209\n",
      "torch.Size([1024, 64])\n"
     ]
    },
    {
     "name": "stderr",
     "output_type": "stream",
     "text": [
      " 74%|███████▍  | 741/999 [9:08:53<1:54:11, 26.56s/it]"
     ]
    },
    {
     "name": "stdout",
     "output_type": "stream",
     "text": [
      "eigenvalues shape torch.Size([5]) eigenvectors shape torch.Size([5, 1024])\n",
      "741 /home/phdcs2/Hard_Disk/Datasets/Deep-Spectral-Segmentation/data/object-segmentation/ECSSD/features/0743_resized.pth\n",
      "dict_keys(['k', 'indices', 'file', 'id', 'model_name', 'patch_size', 'shape'])\n",
      "0743_resized\n",
      "Starting Training\n",
      "epoch: 00, loss: -0.91271\n",
      "epoch: 01, loss: -0.94735\n",
      "epoch: 02, loss: -0.95550\n",
      "epoch: 03, loss: -0.96026\n",
      "epoch: 04, loss: -0.96344\n",
      "epoch: 05, loss: -0.96585\n",
      "epoch: 06, loss: -0.96773\n",
      "epoch: 07, loss: -0.96928\n",
      "epoch: 08, loss: -0.97056\n"
     ]
    },
    {
     "name": "stderr",
     "output_type": "stream",
     "text": [
      " 74%|███████▍  | 742/999 [9:09:20<1:53:54, 26.59s/it]"
     ]
    },
    {
     "name": "stdout",
     "output_type": "stream",
     "text": [
      "epoch: 09, loss: -0.97164\n",
      "torch.Size([1024, 64])\n",
      "eigenvalues shape torch.Size([5]) eigenvectors shape torch.Size([5, 1024])\n",
      "742 /home/phdcs2/Hard_Disk/Datasets/Deep-Spectral-Segmentation/data/object-segmentation/ECSSD/features/0744_resized.pth\n",
      "dict_keys(['k', 'indices', 'file', 'id', 'model_name', 'patch_size', 'shape'])\n",
      "0744_resized\n",
      "Starting Training\n",
      "epoch: 00, loss: -0.91358\n",
      "epoch: 01, loss: -0.94801\n",
      "epoch: 02, loss: -0.95610\n",
      "epoch: 03, loss: -0.96078\n",
      "epoch: 04, loss: -0.96410\n",
      "epoch: 05, loss: -0.96650\n",
      "epoch: 06, loss: -0.96843\n",
      "epoch: 07, loss: -0.96991\n",
      "epoch: 08, loss: -0.97127\n",
      "epoch: 09, loss: -0.97234\n",
      "torch.Size([1024, 64])\n"
     ]
    },
    {
     "name": "stderr",
     "output_type": "stream",
     "text": [
      " 74%|███████▍  | 743/999 [9:09:47<1:53:50, 26.68s/it]"
     ]
    },
    {
     "name": "stdout",
     "output_type": "stream",
     "text": [
      "eigenvalues shape torch.Size([5]) eigenvectors shape torch.Size([5, 1024])\n",
      "743 /home/phdcs2/Hard_Disk/Datasets/Deep-Spectral-Segmentation/data/object-segmentation/ECSSD/features/0745_resized.pth\n",
      "dict_keys(['k', 'indices', 'file', 'id', 'model_name', 'patch_size', 'shape'])\n",
      "0745_resized\n",
      "Starting Training\n",
      "epoch: 00, loss: -0.91587\n",
      "epoch: 01, loss: -0.94946\n",
      "epoch: 02, loss: -0.95755\n",
      "epoch: 03, loss: -0.96225\n",
      "epoch: 04, loss: -0.96540\n",
      "epoch: 05, loss: -0.96775\n",
      "epoch: 06, loss: -0.96959\n",
      "epoch: 07, loss: -0.97107\n",
      "epoch: 08, loss: -0.97231\n",
      "epoch: 09, loss: -0.97339\n",
      "torch.Size([1024, 64])\n"
     ]
    },
    {
     "name": "stderr",
     "output_type": "stream",
     "text": [
      " 74%|███████▍  | 744/999 [9:10:13<1:52:29, 26.47s/it]"
     ]
    },
    {
     "name": "stdout",
     "output_type": "stream",
     "text": [
      "eigenvalues shape torch.Size([5]) eigenvectors shape torch.Size([5, 1024])\n",
      "744 /home/phdcs2/Hard_Disk/Datasets/Deep-Spectral-Segmentation/data/object-segmentation/ECSSD/features/0746_resized.pth\n",
      "dict_keys(['k', 'indices', 'file', 'id', 'model_name', 'patch_size', 'shape'])\n",
      "0746_resized\n",
      "Starting Training\n",
      "epoch: 00, loss: -0.90957\n",
      "epoch: 01, loss: -0.94727\n",
      "epoch: 02, loss: -0.95623\n",
      "epoch: 03, loss: -0.96130\n",
      "epoch: 04, loss: -0.96482\n",
      "epoch: 05, loss: -0.96731\n",
      "epoch: 06, loss: -0.96925\n",
      "epoch: 07, loss: -0.97087\n",
      "epoch: 08, loss: -0.97211\n",
      "epoch: 09, loss: -0.97324\n",
      "torch.Size([1024, 64])\n"
     ]
    },
    {
     "name": "stderr",
     "output_type": "stream",
     "text": [
      " 75%|███████▍  | 745/999 [9:10:39<1:51:49, 26.41s/it]"
     ]
    },
    {
     "name": "stdout",
     "output_type": "stream",
     "text": [
      "eigenvalues shape torch.Size([5]) eigenvectors shape torch.Size([5, 1024])\n",
      "745 /home/phdcs2/Hard_Disk/Datasets/Deep-Spectral-Segmentation/data/object-segmentation/ECSSD/features/0747_resized.pth\n",
      "dict_keys(['k', 'indices', 'file', 'id', 'model_name', 'patch_size', 'shape'])\n",
      "0747_resized\n",
      "Starting Training\n",
      "epoch: 00, loss: -0.91751\n",
      "epoch: 01, loss: -0.95051\n",
      "epoch: 02, loss: -0.95800\n",
      "epoch: 03, loss: -0.96231\n",
      "epoch: 04, loss: -0.96524\n",
      "epoch: 05, loss: -0.96745\n",
      "epoch: 06, loss: -0.96922\n",
      "epoch: 07, loss: -0.97062\n",
      "epoch: 08, loss: -0.97181\n",
      "epoch: 09, loss: -0.97285\n",
      "torch.Size([1024, 64])\n"
     ]
    },
    {
     "name": "stderr",
     "output_type": "stream",
     "text": [
      " 75%|███████▍  | 746/999 [9:11:06<1:52:54, 26.78s/it]"
     ]
    },
    {
     "name": "stdout",
     "output_type": "stream",
     "text": [
      "eigenvalues shape torch.Size([5]) eigenvectors shape torch.Size([5, 1024])\n",
      "746 /home/phdcs2/Hard_Disk/Datasets/Deep-Spectral-Segmentation/data/object-segmentation/ECSSD/features/0748_resized.pth\n",
      "dict_keys(['k', 'indices', 'file', 'id', 'model_name', 'patch_size', 'shape'])\n",
      "0748_resized\n",
      "Starting Training\n",
      "epoch: 00, loss: -0.90071\n",
      "epoch: 01, loss: -0.94038\n",
      "epoch: 02, loss: -0.95032\n",
      "epoch: 03, loss: -0.95601\n",
      "epoch: 04, loss: -0.95995\n",
      "epoch: 05, loss: -0.96288\n",
      "epoch: 06, loss: -0.96513\n",
      "epoch: 07, loss: -0.96696\n",
      "epoch: 08, loss: -0.96851\n",
      "epoch: 09, loss: -0.96978\n",
      "torch.Size([1024, 64])\n"
     ]
    },
    {
     "name": "stderr",
     "output_type": "stream",
     "text": [
      " 75%|███████▍  | 747/999 [9:11:33<1:52:11, 26.71s/it]"
     ]
    },
    {
     "name": "stdout",
     "output_type": "stream",
     "text": [
      "eigenvalues shape torch.Size([5]) eigenvectors shape torch.Size([5, 1024])\n",
      "747 /home/phdcs2/Hard_Disk/Datasets/Deep-Spectral-Segmentation/data/object-segmentation/ECSSD/features/0749_resized.pth\n",
      "dict_keys(['k', 'indices', 'file', 'id', 'model_name', 'patch_size', 'shape'])\n",
      "0749_resized\n",
      "Starting Training\n",
      "epoch: 00, loss: -0.86245\n",
      "epoch: 01, loss: -0.91884\n",
      "epoch: 02, loss: -0.93348\n",
      "epoch: 03, loss: -0.94184\n",
      "epoch: 04, loss: -0.94735\n",
      "epoch: 05, loss: -0.95129\n",
      "epoch: 06, loss: -0.95430\n",
      "epoch: 07, loss: -0.95676\n",
      "epoch: 08, loss: -0.95875\n"
     ]
    },
    {
     "name": "stderr",
     "output_type": "stream",
     "text": [
      " 75%|███████▍  | 748/999 [9:11:59<1:51:09, 26.57s/it]"
     ]
    },
    {
     "name": "stdout",
     "output_type": "stream",
     "text": [
      "epoch: 09, loss: -0.96058\n",
      "torch.Size([1024, 64])\n",
      "eigenvalues shape torch.Size([5]) eigenvectors shape torch.Size([5, 1024])\n",
      "748 /home/phdcs2/Hard_Disk/Datasets/Deep-Spectral-Segmentation/data/object-segmentation/ECSSD/features/0750_resized.pth\n",
      "dict_keys(['k', 'indices', 'file', 'id', 'model_name', 'patch_size', 'shape'])\n",
      "0750_resized\n",
      "Starting Training\n",
      "epoch: 00, loss: -0.90868\n",
      "epoch: 01, loss: -0.94526\n",
      "epoch: 02, loss: -0.95408\n",
      "epoch: 03, loss: -0.95922\n",
      "epoch: 04, loss: -0.96269\n",
      "epoch: 05, loss: -0.96527\n",
      "epoch: 06, loss: -0.96727\n",
      "epoch: 07, loss: -0.96891\n",
      "epoch: 08, loss: -0.97026\n",
      "epoch: 09, loss: -0.97142\n",
      "torch.Size([1024, 64])\n"
     ]
    },
    {
     "name": "stderr",
     "output_type": "stream",
     "text": [
      " 75%|███████▍  | 749/999 [9:12:26<1:51:07, 26.67s/it]"
     ]
    },
    {
     "name": "stdout",
     "output_type": "stream",
     "text": [
      "eigenvalues shape torch.Size([5]) eigenvectors shape torch.Size([5, 1024])\n",
      "749 /home/phdcs2/Hard_Disk/Datasets/Deep-Spectral-Segmentation/data/object-segmentation/ECSSD/features/0751_resized.pth\n",
      "dict_keys(['k', 'indices', 'file', 'id', 'model_name', 'patch_size', 'shape'])\n",
      "0751_resized\n",
      "Starting Training\n",
      "epoch: 00, loss: -0.91266\n",
      "epoch: 01, loss: -0.94736\n",
      "epoch: 02, loss: -0.95571\n",
      "epoch: 03, loss: -0.96066\n",
      "epoch: 04, loss: -0.96389\n",
      "epoch: 05, loss: -0.96645\n",
      "epoch: 06, loss: -0.96841\n",
      "epoch: 07, loss: -0.96999\n",
      "epoch: 08, loss: -0.97131\n",
      "epoch: 09, loss: -0.97245\n",
      "torch.Size([1024, 64])\n"
     ]
    },
    {
     "name": "stderr",
     "output_type": "stream",
     "text": [
      " 75%|███████▌  | 750/999 [9:12:53<1:50:59, 26.74s/it]"
     ]
    },
    {
     "name": "stdout",
     "output_type": "stream",
     "text": [
      "eigenvalues shape torch.Size([5]) eigenvectors shape torch.Size([5, 1024])\n",
      "750 /home/phdcs2/Hard_Disk/Datasets/Deep-Spectral-Segmentation/data/object-segmentation/ECSSD/features/0752_resized.pth\n",
      "dict_keys(['k', 'indices', 'file', 'id', 'model_name', 'patch_size', 'shape'])\n",
      "0752_resized\n",
      "Starting Training\n",
      "epoch: 00, loss: -0.90640\n",
      "epoch: 01, loss: -0.94403\n",
      "epoch: 02, loss: -0.95319\n",
      "epoch: 03, loss: -0.95852\n",
      "epoch: 04, loss: -0.96213\n",
      "epoch: 05, loss: -0.96481\n",
      "epoch: 06, loss: -0.96689\n",
      "epoch: 07, loss: -0.96859\n",
      "epoch: 08, loss: -0.97001\n"
     ]
    },
    {
     "name": "stderr",
     "output_type": "stream",
     "text": [
      " 75%|███████▌  | 751/999 [9:13:19<1:50:05, 26.64s/it]"
     ]
    },
    {
     "name": "stdout",
     "output_type": "stream",
     "text": [
      "epoch: 09, loss: -0.97118\n",
      "torch.Size([1024, 64])\n",
      "eigenvalues shape torch.Size([5]) eigenvectors shape torch.Size([5, 1024])\n",
      "751 /home/phdcs2/Hard_Disk/Datasets/Deep-Spectral-Segmentation/data/object-segmentation/ECSSD/features/0753_resized.pth\n",
      "dict_keys(['k', 'indices', 'file', 'id', 'model_name', 'patch_size', 'shape'])\n",
      "0753_resized\n",
      "Starting Training\n",
      "epoch: 00, loss: -0.91805\n",
      "epoch: 01, loss: -0.95065\n",
      "epoch: 02, loss: -0.95803\n",
      "epoch: 03, loss: -0.96240\n",
      "epoch: 04, loss: -0.96542\n",
      "epoch: 05, loss: -0.96763\n",
      "epoch: 06, loss: -0.96937\n",
      "epoch: 07, loss: -0.97083\n",
      "epoch: 08, loss: -0.97201\n",
      "epoch: 09, loss: -0.97305\n",
      "torch.Size([1024, 64])\n"
     ]
    },
    {
     "name": "stderr",
     "output_type": "stream",
     "text": [
      " 75%|███████▌  | 752/999 [9:13:47<1:50:48, 26.92s/it]"
     ]
    },
    {
     "name": "stdout",
     "output_type": "stream",
     "text": [
      "eigenvalues shape torch.Size([5]) eigenvectors shape torch.Size([5, 1024])\n",
      "752 /home/phdcs2/Hard_Disk/Datasets/Deep-Spectral-Segmentation/data/object-segmentation/ECSSD/features/0754_resized.pth\n",
      "dict_keys(['k', 'indices', 'file', 'id', 'model_name', 'patch_size', 'shape'])\n",
      "0754_resized\n",
      "Starting Training\n",
      "epoch: 00, loss: -0.91547\n",
      "epoch: 01, loss: -0.95113\n",
      "epoch: 02, loss: -0.95869\n",
      "epoch: 03, loss: -0.96310\n",
      "epoch: 04, loss: -0.96608\n",
      "epoch: 05, loss: -0.96825\n",
      "epoch: 06, loss: -0.96999\n",
      "epoch: 07, loss: -0.97138\n",
      "epoch: 08, loss: -0.97257\n"
     ]
    },
    {
     "name": "stderr",
     "output_type": "stream",
     "text": [
      " 75%|███████▌  | 753/999 [9:14:14<1:50:05, 26.85s/it]"
     ]
    },
    {
     "name": "stdout",
     "output_type": "stream",
     "text": [
      "epoch: 09, loss: -0.97356\n",
      "torch.Size([1024, 64])\n",
      "eigenvalues shape torch.Size([5]) eigenvectors shape torch.Size([5, 1024])\n",
      "753 /home/phdcs2/Hard_Disk/Datasets/Deep-Spectral-Segmentation/data/object-segmentation/ECSSD/features/0755_resized.pth\n",
      "dict_keys(['k', 'indices', 'file', 'id', 'model_name', 'patch_size', 'shape'])\n",
      "0755_resized\n",
      "Starting Training\n",
      "epoch: 00, loss: -0.91129\n",
      "epoch: 01, loss: -0.94831\n",
      "epoch: 02, loss: -0.95650\n",
      "epoch: 03, loss: -0.96119\n",
      "epoch: 04, loss: -0.96443\n",
      "epoch: 05, loss: -0.96670\n",
      "epoch: 06, loss: -0.96854\n",
      "epoch: 07, loss: -0.97007\n",
      "epoch: 08, loss: -0.97131\n"
     ]
    },
    {
     "name": "stderr",
     "output_type": "stream",
     "text": [
      " 75%|███████▌  | 754/999 [9:14:40<1:49:08, 26.73s/it]"
     ]
    },
    {
     "name": "stdout",
     "output_type": "stream",
     "text": [
      "epoch: 09, loss: -0.97237\n",
      "torch.Size([1024, 64])\n",
      "eigenvalues shape torch.Size([5]) eigenvectors shape torch.Size([5, 1024])\n",
      "754 /home/phdcs2/Hard_Disk/Datasets/Deep-Spectral-Segmentation/data/object-segmentation/ECSSD/features/0756_resized.pth\n",
      "dict_keys(['k', 'indices', 'file', 'id', 'model_name', 'patch_size', 'shape'])\n",
      "0756_resized\n",
      "Starting Training\n",
      "epoch: 00, loss: -0.90643\n",
      "epoch: 01, loss: -0.94440\n",
      "epoch: 02, loss: -0.95320\n",
      "epoch: 03, loss: -0.95838\n",
      "epoch: 04, loss: -0.96190\n",
      "epoch: 05, loss: -0.96452\n",
      "epoch: 06, loss: -0.96652\n",
      "epoch: 07, loss: -0.96816\n",
      "epoch: 08, loss: -0.96957\n",
      "epoch: 09, loss: -0.97070\n",
      "torch.Size([1024, 64])\n"
     ]
    },
    {
     "name": "stderr",
     "output_type": "stream",
     "text": [
      " 76%|███████▌  | 755/999 [9:15:07<1:48:23, 26.65s/it]"
     ]
    },
    {
     "name": "stdout",
     "output_type": "stream",
     "text": [
      "eigenvalues shape torch.Size([5]) eigenvectors shape torch.Size([5, 1024])\n",
      "755 /home/phdcs2/Hard_Disk/Datasets/Deep-Spectral-Segmentation/data/object-segmentation/ECSSD/features/0757_resized.pth\n",
      "dict_keys(['k', 'indices', 'file', 'id', 'model_name', 'patch_size', 'shape'])\n",
      "0757_resized\n",
      "Starting Training\n",
      "epoch: 00, loss: -0.91797\n",
      "epoch: 01, loss: -0.95284\n",
      "epoch: 02, loss: -0.96052\n",
      "epoch: 03, loss: -0.96494\n",
      "epoch: 04, loss: -0.96789\n",
      "epoch: 05, loss: -0.97011\n",
      "epoch: 06, loss: -0.97182\n",
      "epoch: 07, loss: -0.97321\n",
      "epoch: 08, loss: -0.97434\n",
      "epoch: 09, loss: -0.97534\n",
      "torch.Size([1024, 64])\n",
      "eigenvalues shape torch.Size([5]) eigenvectors shape torch.Size([5, 1024])\n"
     ]
    },
    {
     "name": "stderr",
     "output_type": "stream",
     "text": [
      " 76%|███████▌  | 756/999 [9:15:33<1:47:33, 26.56s/it]"
     ]
    },
    {
     "name": "stdout",
     "output_type": "stream",
     "text": [
      "756 /home/phdcs2/Hard_Disk/Datasets/Deep-Spectral-Segmentation/data/object-segmentation/ECSSD/features/0758_resized.pth\n",
      "dict_keys(['k', 'indices', 'file', 'id', 'model_name', 'patch_size', 'shape'])\n",
      "0758_resized\n",
      "Starting Training\n",
      "epoch: 00, loss: -0.93199\n",
      "epoch: 01, loss: -0.95801\n",
      "epoch: 02, loss: -0.96419\n",
      "epoch: 03, loss: -0.96786\n",
      "epoch: 04, loss: -0.97048\n",
      "epoch: 05, loss: -0.97242\n",
      "epoch: 06, loss: -0.97395\n",
      "epoch: 07, loss: -0.97523\n",
      "epoch: 08, loss: -0.97628\n"
     ]
    },
    {
     "name": "stderr",
     "output_type": "stream",
     "text": [
      " 76%|███████▌  | 757/999 [9:16:00<1:47:26, 26.64s/it]"
     ]
    },
    {
     "name": "stdout",
     "output_type": "stream",
     "text": [
      "epoch: 09, loss: -0.97719\n",
      "torch.Size([1024, 64])\n",
      "eigenvalues shape torch.Size([5]) eigenvectors shape torch.Size([5, 1024])\n",
      "757 /home/phdcs2/Hard_Disk/Datasets/Deep-Spectral-Segmentation/data/object-segmentation/ECSSD/features/0759_resized.pth\n",
      "dict_keys(['k', 'indices', 'file', 'id', 'model_name', 'patch_size', 'shape'])\n",
      "0759_resized\n",
      "Starting Training\n",
      "epoch: 00, loss: -0.93000\n",
      "epoch: 01, loss: -0.95941\n",
      "epoch: 02, loss: -0.96581\n",
      "epoch: 03, loss: -0.96945\n",
      "epoch: 04, loss: -0.97192\n",
      "epoch: 05, loss: -0.97375\n",
      "epoch: 06, loss: -0.97517\n",
      "epoch: 07, loss: -0.97634\n",
      "epoch: 08, loss: -0.97731\n",
      "epoch: 09, loss: -0.97812\n",
      "torch.Size([1024, 64])\n"
     ]
    },
    {
     "name": "stderr",
     "output_type": "stream",
     "text": [
      " 76%|███████▌  | 758/999 [9:16:27<1:47:31, 26.77s/it]"
     ]
    },
    {
     "name": "stdout",
     "output_type": "stream",
     "text": [
      "eigenvalues shape torch.Size([5]) eigenvectors shape torch.Size([5, 1024])\n",
      "758 /home/phdcs2/Hard_Disk/Datasets/Deep-Spectral-Segmentation/data/object-segmentation/ECSSD/features/0760_resized.pth\n",
      "dict_keys(['k', 'indices', 'file', 'id', 'model_name', 'patch_size', 'shape'])\n",
      "0760_resized\n",
      "Starting Training\n",
      "epoch: 00, loss: -0.91939\n",
      "epoch: 01, loss: -0.95268\n",
      "epoch: 02, loss: -0.95995\n",
      "epoch: 03, loss: -0.96421\n",
      "epoch: 04, loss: -0.96708\n",
      "epoch: 05, loss: -0.96926\n",
      "epoch: 06, loss: -0.97095\n",
      "epoch: 07, loss: -0.97233\n",
      "epoch: 08, loss: -0.97349\n"
     ]
    },
    {
     "name": "stderr",
     "output_type": "stream",
     "text": [
      " 76%|███████▌  | 759/999 [9:16:53<1:46:50, 26.71s/it]"
     ]
    },
    {
     "name": "stdout",
     "output_type": "stream",
     "text": [
      "epoch: 09, loss: -0.97446\n",
      "torch.Size([1024, 64])\n",
      "eigenvalues shape torch.Size([5]) eigenvectors shape torch.Size([5, 1024])\n",
      "759 /home/phdcs2/Hard_Disk/Datasets/Deep-Spectral-Segmentation/data/object-segmentation/ECSSD/features/0761_resized.pth\n",
      "dict_keys(['k', 'indices', 'file', 'id', 'model_name', 'patch_size', 'shape'])\n",
      "0761_resized\n",
      "Starting Training\n",
      "epoch: 00, loss: -0.92807\n",
      "epoch: 01, loss: -0.96032\n",
      "epoch: 02, loss: -0.96640\n",
      "epoch: 03, loss: -0.96984\n",
      "epoch: 04, loss: -0.97221\n",
      "epoch: 05, loss: -0.97403\n",
      "epoch: 06, loss: -0.97543\n",
      "epoch: 07, loss: -0.97657\n",
      "epoch: 08, loss: -0.97756\n"
     ]
    },
    {
     "name": "stderr",
     "output_type": "stream",
     "text": [
      " 76%|███████▌  | 760/999 [9:17:20<1:45:55, 26.59s/it]"
     ]
    },
    {
     "name": "stdout",
     "output_type": "stream",
     "text": [
      "epoch: 09, loss: -0.97836\n",
      "torch.Size([1024, 64])\n",
      "eigenvalues shape torch.Size([5]) eigenvectors shape torch.Size([5, 1024])\n",
      "760 /home/phdcs2/Hard_Disk/Datasets/Deep-Spectral-Segmentation/data/object-segmentation/ECSSD/features/0762_resized.pth\n",
      "dict_keys(['k', 'indices', 'file', 'id', 'model_name', 'patch_size', 'shape'])\n",
      "0762_resized\n",
      "Starting Training\n",
      "epoch: 00, loss: -0.92672\n",
      "epoch: 01, loss: -0.95697\n",
      "epoch: 02, loss: -0.96340\n",
      "epoch: 03, loss: -0.96722\n",
      "epoch: 04, loss: -0.96983\n",
      "epoch: 05, loss: -0.97179\n",
      "epoch: 06, loss: -0.97328\n",
      "epoch: 07, loss: -0.97455\n",
      "epoch: 08, loss: -0.97561\n",
      "epoch: 09, loss: -0.97651\n",
      "torch.Size([1024, 64])\n"
     ]
    },
    {
     "name": "stderr",
     "output_type": "stream",
     "text": [
      " 76%|███████▌  | 761/999 [9:17:47<1:45:58, 26.71s/it]"
     ]
    },
    {
     "name": "stdout",
     "output_type": "stream",
     "text": [
      "eigenvalues shape torch.Size([5]) eigenvectors shape torch.Size([5, 1024])\n",
      "761 /home/phdcs2/Hard_Disk/Datasets/Deep-Spectral-Segmentation/data/object-segmentation/ECSSD/features/0763_resized.pth\n",
      "dict_keys(['k', 'indices', 'file', 'id', 'model_name', 'patch_size', 'shape'])\n",
      "0763_resized\n",
      "Starting Training\n",
      "epoch: 00, loss: -0.91255\n",
      "epoch: 01, loss: -0.94604\n",
      "epoch: 02, loss: -0.95393\n",
      "epoch: 03, loss: -0.95866\n",
      "epoch: 04, loss: -0.96189\n",
      "epoch: 05, loss: -0.96430\n",
      "epoch: 06, loss: -0.96623\n",
      "epoch: 07, loss: -0.96780\n",
      "epoch: 08, loss: -0.96910\n"
     ]
    },
    {
     "name": "stderr",
     "output_type": "stream",
     "text": [
      " 76%|███████▋  | 762/999 [9:18:14<1:45:33, 26.72s/it]"
     ]
    },
    {
     "name": "stdout",
     "output_type": "stream",
     "text": [
      "epoch: 09, loss: -0.97020\n",
      "torch.Size([1024, 64])\n",
      "eigenvalues shape torch.Size([5]) eigenvectors shape torch.Size([5, 1024])\n",
      "762 /home/phdcs2/Hard_Disk/Datasets/Deep-Spectral-Segmentation/data/object-segmentation/ECSSD/features/0764_resized.pth\n",
      "dict_keys(['k', 'indices', 'file', 'id', 'model_name', 'patch_size', 'shape'])\n",
      "0764_resized\n",
      "Starting Training\n",
      "epoch: 00, loss: -0.93079\n",
      "epoch: 01, loss: -0.95858\n",
      "epoch: 02, loss: -0.96470\n",
      "epoch: 03, loss: -0.96826\n",
      "epoch: 04, loss: -0.97072\n",
      "epoch: 05, loss: -0.97254\n",
      "epoch: 06, loss: -0.97398\n",
      "epoch: 07, loss: -0.97516\n",
      "epoch: 08, loss: -0.97615\n",
      "epoch: 09, loss: -0.97699\n",
      "torch.Size([1024, 64])\n"
     ]
    },
    {
     "name": "stderr",
     "output_type": "stream",
     "text": [
      " 76%|███████▋  | 763/999 [9:18:40<1:45:08, 26.73s/it]"
     ]
    },
    {
     "name": "stdout",
     "output_type": "stream",
     "text": [
      "eigenvalues shape torch.Size([5]) eigenvectors shape torch.Size([5, 1024])\n",
      "763 /home/phdcs2/Hard_Disk/Datasets/Deep-Spectral-Segmentation/data/object-segmentation/ECSSD/features/0765_resized.pth\n",
      "dict_keys(['k', 'indices', 'file', 'id', 'model_name', 'patch_size', 'shape'])\n",
      "0765_resized\n",
      "Starting Training\n",
      "epoch: 00, loss: -0.92863\n",
      "epoch: 01, loss: -0.95645\n",
      "epoch: 02, loss: -0.96308\n",
      "epoch: 03, loss: -0.96688\n",
      "epoch: 04, loss: -0.96951\n",
      "epoch: 05, loss: -0.97140\n",
      "epoch: 06, loss: -0.97295\n",
      "epoch: 07, loss: -0.97416\n",
      "epoch: 08, loss: -0.97519\n",
      "epoch: 09, loss: -0.97605\n",
      "torch.Size([1024, 64])\n"
     ]
    },
    {
     "name": "stderr",
     "output_type": "stream",
     "text": [
      " 76%|███████▋  | 764/999 [9:19:07<1:44:55, 26.79s/it]"
     ]
    },
    {
     "name": "stdout",
     "output_type": "stream",
     "text": [
      "eigenvalues shape torch.Size([5]) eigenvectors shape torch.Size([5, 1024])\n",
      "764 /home/phdcs2/Hard_Disk/Datasets/Deep-Spectral-Segmentation/data/object-segmentation/ECSSD/features/0766_resized.pth\n",
      "dict_keys(['k', 'indices', 'file', 'id', 'model_name', 'patch_size', 'shape'])\n",
      "0766_resized\n",
      "Starting Training\n",
      "epoch: 00, loss: -0.86597\n",
      "epoch: 01, loss: -0.92223\n",
      "epoch: 02, loss: -0.93574\n",
      "epoch: 03, loss: -0.94340\n",
      "epoch: 04, loss: -0.94840\n",
      "epoch: 05, loss: -0.95204\n",
      "epoch: 06, loss: -0.95493\n",
      "epoch: 07, loss: -0.95726\n",
      "epoch: 08, loss: -0.95910\n",
      "epoch: 09, loss: -0.96087\n",
      "torch.Size([1024, 64])\n"
     ]
    },
    {
     "name": "stderr",
     "output_type": "stream",
     "text": [
      " 77%|███████▋  | 765/999 [9:19:34<1:44:38, 26.83s/it]"
     ]
    },
    {
     "name": "stdout",
     "output_type": "stream",
     "text": [
      "eigenvalues shape torch.Size([5]) eigenvectors shape torch.Size([5, 1024])\n",
      "765 /home/phdcs2/Hard_Disk/Datasets/Deep-Spectral-Segmentation/data/object-segmentation/ECSSD/features/0767_resized.pth\n",
      "dict_keys(['k', 'indices', 'file', 'id', 'model_name', 'patch_size', 'shape'])\n",
      "0767_resized\n",
      "Starting Training\n",
      "epoch: 00, loss: -0.88803\n",
      "epoch: 01, loss: -0.92968\n",
      "epoch: 02, loss: -0.94082\n",
      "epoch: 03, loss: -0.94734\n",
      "epoch: 04, loss: -0.95185\n",
      "epoch: 05, loss: -0.95505\n",
      "epoch: 06, loss: -0.95767\n",
      "epoch: 07, loss: -0.95984\n",
      "epoch: 08, loss: -0.96155\n",
      "epoch: 09, loss: -0.96299\n",
      "torch.Size([1024, 64])\n"
     ]
    },
    {
     "name": "stderr",
     "output_type": "stream",
     "text": [
      " 77%|███████▋  | 766/999 [9:20:01<1:43:53, 26.75s/it]"
     ]
    },
    {
     "name": "stdout",
     "output_type": "stream",
     "text": [
      "eigenvalues shape torch.Size([5]) eigenvectors shape torch.Size([5, 1024])\n",
      "766 /home/phdcs2/Hard_Disk/Datasets/Deep-Spectral-Segmentation/data/object-segmentation/ECSSD/features/0768_resized.pth\n",
      "dict_keys(['k', 'indices', 'file', 'id', 'model_name', 'patch_size', 'shape'])\n",
      "0768_resized\n",
      "Starting Training\n",
      "epoch: 00, loss: -0.90377\n",
      "epoch: 01, loss: -0.94125\n",
      "epoch: 02, loss: -0.95054\n",
      "epoch: 03, loss: -0.95602\n",
      "epoch: 04, loss: -0.95978\n",
      "epoch: 05, loss: -0.96257\n",
      "epoch: 06, loss: -0.96471\n",
      "epoch: 07, loss: -0.96652\n",
      "epoch: 08, loss: -0.96801\n"
     ]
    },
    {
     "name": "stderr",
     "output_type": "stream",
     "text": [
      " 77%|███████▋  | 767/999 [9:20:28<1:43:37, 26.80s/it]"
     ]
    },
    {
     "name": "stdout",
     "output_type": "stream",
     "text": [
      "epoch: 09, loss: -0.96924\n",
      "torch.Size([1024, 64])\n",
      "eigenvalues shape torch.Size([5]) eigenvectors shape torch.Size([5, 1024])\n",
      "767 /home/phdcs2/Hard_Disk/Datasets/Deep-Spectral-Segmentation/data/object-segmentation/ECSSD/features/0769_resized.pth\n",
      "dict_keys(['k', 'indices', 'file', 'id', 'model_name', 'patch_size', 'shape'])\n",
      "0769_resized\n",
      "Starting Training\n",
      "epoch: 00, loss: -0.93538\n",
      "epoch: 01, loss: -0.96222\n",
      "epoch: 02, loss: -0.96828\n",
      "epoch: 03, loss: -0.97176\n",
      "epoch: 04, loss: -0.97407\n",
      "epoch: 05, loss: -0.97582\n",
      "epoch: 06, loss: -0.97722\n",
      "epoch: 07, loss: -0.97828\n",
      "epoch: 08, loss: -0.97921\n",
      "epoch: 09, loss: -0.98002\n",
      "torch.Size([1024, 64])\n"
     ]
    },
    {
     "name": "stderr",
     "output_type": "stream",
     "text": [
      " 77%|███████▋  | 768/999 [9:20:54<1:42:45, 26.69s/it]"
     ]
    },
    {
     "name": "stdout",
     "output_type": "stream",
     "text": [
      "eigenvalues shape torch.Size([5]) eigenvectors shape torch.Size([5, 1024])\n",
      "768 /home/phdcs2/Hard_Disk/Datasets/Deep-Spectral-Segmentation/data/object-segmentation/ECSSD/features/0770_resized.pth\n",
      "dict_keys(['k', 'indices', 'file', 'id', 'model_name', 'patch_size', 'shape'])\n",
      "0770_resized\n",
      "Starting Training\n",
      "epoch: 00, loss: -0.85004\n",
      "epoch: 01, loss: -0.90980\n",
      "epoch: 02, loss: -0.92562\n",
      "epoch: 03, loss: -0.93457\n",
      "epoch: 04, loss: -0.94047\n",
      "epoch: 05, loss: -0.94477\n",
      "epoch: 06, loss: -0.94819\n",
      "epoch: 07, loss: -0.95078\n",
      "epoch: 08, loss: -0.95300\n",
      "epoch: 09, loss: -0.95488\n",
      "torch.Size([1024, 64])\n"
     ]
    },
    {
     "name": "stderr",
     "output_type": "stream",
     "text": [
      " 77%|███████▋  | 769/999 [9:21:22<1:43:44, 27.06s/it]"
     ]
    },
    {
     "name": "stdout",
     "output_type": "stream",
     "text": [
      "eigenvalues shape torch.Size([5]) eigenvectors shape torch.Size([5, 1024])\n",
      "769 /home/phdcs2/Hard_Disk/Datasets/Deep-Spectral-Segmentation/data/object-segmentation/ECSSD/features/0771_resized.pth\n",
      "dict_keys(['k', 'indices', 'file', 'id', 'model_name', 'patch_size', 'shape'])\n",
      "0771_resized\n",
      "Starting Training\n",
      "epoch: 00, loss: -0.91573\n",
      "epoch: 01, loss: -0.95032\n",
      "epoch: 02, loss: -0.95819\n",
      "epoch: 03, loss: -0.96276\n",
      "epoch: 04, loss: -0.96590\n",
      "epoch: 05, loss: -0.96819\n",
      "epoch: 06, loss: -0.97003\n",
      "epoch: 07, loss: -0.97151\n",
      "epoch: 08, loss: -0.97274\n",
      "epoch: 09, loss: -0.97379\n",
      "torch.Size([1024, 64])\n"
     ]
    },
    {
     "name": "stderr",
     "output_type": "stream",
     "text": [
      " 77%|███████▋  | 770/999 [9:21:48<1:42:05, 26.75s/it]"
     ]
    },
    {
     "name": "stdout",
     "output_type": "stream",
     "text": [
      "eigenvalues shape torch.Size([5]) eigenvectors shape torch.Size([5, 1024])\n",
      "770 /home/phdcs2/Hard_Disk/Datasets/Deep-Spectral-Segmentation/data/object-segmentation/ECSSD/features/0772_resized.pth\n",
      "dict_keys(['k', 'indices', 'file', 'id', 'model_name', 'patch_size', 'shape'])\n",
      "0772_resized\n",
      "Starting Training\n",
      "epoch: 00, loss: -0.90370\n",
      "epoch: 01, loss: -0.94071\n",
      "epoch: 02, loss: -0.95008\n",
      "epoch: 03, loss: -0.95547\n",
      "epoch: 04, loss: -0.95912\n",
      "epoch: 05, loss: -0.96195\n",
      "epoch: 06, loss: -0.96409\n",
      "epoch: 07, loss: -0.96583\n",
      "epoch: 08, loss: -0.96729\n"
     ]
    },
    {
     "name": "stderr",
     "output_type": "stream",
     "text": [
      " 77%|███████▋  | 771/999 [9:22:14<1:40:35, 26.47s/it]"
     ]
    },
    {
     "name": "stdout",
     "output_type": "stream",
     "text": [
      "epoch: 09, loss: -0.96856\n",
      "torch.Size([1024, 64])\n",
      "eigenvalues shape torch.Size([5]) eigenvectors shape torch.Size([5, 1024])\n",
      "771 /home/phdcs2/Hard_Disk/Datasets/Deep-Spectral-Segmentation/data/object-segmentation/ECSSD/features/0773_resized.pth\n",
      "dict_keys(['k', 'indices', 'file', 'id', 'model_name', 'patch_size', 'shape'])\n",
      "0773_resized\n",
      "Starting Training\n",
      "epoch: 00, loss: -0.90383\n",
      "epoch: 01, loss: -0.94070\n",
      "epoch: 02, loss: -0.95010\n",
      "epoch: 03, loss: -0.95551\n",
      "epoch: 04, loss: -0.95921\n",
      "epoch: 05, loss: -0.96194\n",
      "epoch: 06, loss: -0.96407\n",
      "epoch: 07, loss: -0.96581\n",
      "epoch: 08, loss: -0.96726\n",
      "epoch: 09, loss: -0.96854\n",
      "torch.Size([1024, 64])\n"
     ]
    },
    {
     "name": "stderr",
     "output_type": "stream",
     "text": [
      " 77%|███████▋  | 772/999 [9:22:40<1:39:44, 26.37s/it]"
     ]
    },
    {
     "name": "stdout",
     "output_type": "stream",
     "text": [
      "eigenvalues shape torch.Size([5]) eigenvectors shape torch.Size([5, 1024])\n",
      "772 /home/phdcs2/Hard_Disk/Datasets/Deep-Spectral-Segmentation/data/object-segmentation/ECSSD/features/0774_resized.pth\n",
      "dict_keys(['k', 'indices', 'file', 'id', 'model_name', 'patch_size', 'shape'])\n",
      "0774_resized\n",
      "Starting Training\n",
      "epoch: 00, loss: -0.91176\n",
      "epoch: 01, loss: -0.94526\n",
      "epoch: 02, loss: -0.95382\n",
      "epoch: 03, loss: -0.95879\n",
      "epoch: 04, loss: -0.96218\n",
      "epoch: 05, loss: -0.96470\n",
      "epoch: 06, loss: -0.96668\n",
      "epoch: 07, loss: -0.96831\n",
      "epoch: 08, loss: -0.96964\n",
      "epoch: 09, loss: -0.97078\n",
      "torch.Size([1024, 64])\n"
     ]
    },
    {
     "name": "stderr",
     "output_type": "stream",
     "text": [
      " 77%|███████▋  | 773/999 [9:23:07<1:40:03, 26.56s/it]"
     ]
    },
    {
     "name": "stdout",
     "output_type": "stream",
     "text": [
      "eigenvalues shape torch.Size([5]) eigenvectors shape torch.Size([5, 1024])\n",
      "773 /home/phdcs2/Hard_Disk/Datasets/Deep-Spectral-Segmentation/data/object-segmentation/ECSSD/features/0775_resized.pth\n",
      "dict_keys(['k', 'indices', 'file', 'id', 'model_name', 'patch_size', 'shape'])\n",
      "0775_resized\n",
      "Starting Training\n",
      "epoch: 00, loss: -0.90637\n",
      "epoch: 01, loss: -0.94344\n",
      "epoch: 02, loss: -0.95258\n",
      "epoch: 03, loss: -0.95787\n",
      "epoch: 04, loss: -0.96152\n",
      "epoch: 05, loss: -0.96416\n",
      "epoch: 06, loss: -0.96625\n",
      "epoch: 07, loss: -0.96789\n",
      "epoch: 08, loss: -0.96930\n",
      "epoch: 09, loss: -0.97050\n",
      "torch.Size([1024, 64])\n"
     ]
    },
    {
     "name": "stderr",
     "output_type": "stream",
     "text": [
      " 77%|███████▋  | 774/999 [9:23:33<1:39:27, 26.52s/it]"
     ]
    },
    {
     "name": "stdout",
     "output_type": "stream",
     "text": [
      "eigenvalues shape torch.Size([5]) eigenvectors shape torch.Size([5, 1024])\n",
      "774 /home/phdcs2/Hard_Disk/Datasets/Deep-Spectral-Segmentation/data/object-segmentation/ECSSD/features/0776_resized.pth\n",
      "dict_keys(['k', 'indices', 'file', 'id', 'model_name', 'patch_size', 'shape'])\n",
      "0776_resized\n",
      "Starting Training\n",
      "epoch: 00, loss: -0.89205\n",
      "epoch: 01, loss: -0.93647\n",
      "epoch: 02, loss: -0.94765\n",
      "epoch: 03, loss: -0.95390\n",
      "epoch: 04, loss: -0.95811\n",
      "epoch: 05, loss: -0.96112\n",
      "epoch: 06, loss: -0.96355\n",
      "epoch: 07, loss: -0.96549\n",
      "epoch: 08, loss: -0.96704\n"
     ]
    },
    {
     "name": "stderr",
     "output_type": "stream",
     "text": [
      " 78%|███████▊  | 775/999 [9:23:59<1:38:28, 26.38s/it]"
     ]
    },
    {
     "name": "stdout",
     "output_type": "stream",
     "text": [
      "epoch: 09, loss: -0.96852\n",
      "torch.Size([1024, 64])\n",
      "eigenvalues shape torch.Size([5]) eigenvectors shape torch.Size([5, 1024])\n",
      "775 /home/phdcs2/Hard_Disk/Datasets/Deep-Spectral-Segmentation/data/object-segmentation/ECSSD/features/0777_resized.pth\n",
      "dict_keys(['k', 'indices', 'file', 'id', 'model_name', 'patch_size', 'shape'])\n",
      "0777_resized\n",
      "Starting Training\n",
      "epoch: 00, loss: -0.83143\n",
      "epoch: 01, loss: -0.89684\n",
      "epoch: 02, loss: -0.91254\n",
      "epoch: 03, loss: -0.92049\n",
      "epoch: 04, loss: -0.92534\n",
      "epoch: 05, loss: -0.92913\n",
      "epoch: 06, loss: -0.93132\n",
      "epoch: 07, loss: -0.93264\n",
      "epoch: 08, loss: -0.93373\n",
      "epoch: 09, loss: -0.93491\n",
      "torch.Size([1024, 64])\n"
     ]
    },
    {
     "name": "stderr",
     "output_type": "stream",
     "text": [
      " 78%|███████▊  | 776/999 [9:24:27<1:39:21, 26.73s/it]"
     ]
    },
    {
     "name": "stdout",
     "output_type": "stream",
     "text": [
      "eigenvalues shape torch.Size([5]) eigenvectors shape torch.Size([5, 1024])\n",
      "776 /home/phdcs2/Hard_Disk/Datasets/Deep-Spectral-Segmentation/data/object-segmentation/ECSSD/features/0778_resized.pth\n",
      "dict_keys(['k', 'indices', 'file', 'id', 'model_name', 'patch_size', 'shape'])\n",
      "0778_resized\n",
      "Starting Training\n",
      "epoch: 00, loss: -0.91668\n",
      "epoch: 01, loss: -0.95009\n",
      "epoch: 02, loss: -0.95744\n",
      "epoch: 03, loss: -0.96194\n",
      "epoch: 04, loss: -0.96497\n",
      "epoch: 05, loss: -0.96726\n",
      "epoch: 06, loss: -0.96912\n",
      "epoch: 07, loss: -0.97056\n",
      "epoch: 08, loss: -0.97182\n"
     ]
    },
    {
     "name": "stderr",
     "output_type": "stream",
     "text": [
      " 78%|███████▊  | 777/999 [9:24:53<1:37:46, 26.43s/it]"
     ]
    },
    {
     "name": "stdout",
     "output_type": "stream",
     "text": [
      "epoch: 09, loss: -0.97285\n",
      "torch.Size([1024, 64])\n",
      "eigenvalues shape torch.Size([5]) eigenvectors shape torch.Size([5, 1024])\n",
      "777 /home/phdcs2/Hard_Disk/Datasets/Deep-Spectral-Segmentation/data/object-segmentation/ECSSD/features/0779_resized.pth\n",
      "dict_keys(['k', 'indices', 'file', 'id', 'model_name', 'patch_size', 'shape'])\n",
      "0779_resized\n",
      "Starting Training\n",
      "epoch: 00, loss: -0.91723\n",
      "epoch: 01, loss: -0.95255\n",
      "epoch: 02, loss: -0.96009\n",
      "epoch: 03, loss: -0.96435\n",
      "epoch: 04, loss: -0.96727\n",
      "epoch: 05, loss: -0.96943\n",
      "epoch: 06, loss: -0.97111\n",
      "epoch: 07, loss: -0.97248\n",
      "epoch: 08, loss: -0.97362\n",
      "epoch: 09, loss: -0.97461\n",
      "torch.Size([1024, 64])\n"
     ]
    },
    {
     "name": "stderr",
     "output_type": "stream",
     "text": [
      " 78%|███████▊  | 778/999 [9:25:18<1:36:34, 26.22s/it]"
     ]
    },
    {
     "name": "stdout",
     "output_type": "stream",
     "text": [
      "eigenvalues shape torch.Size([5]) eigenvectors shape torch.Size([5, 1024])\n",
      "778 /home/phdcs2/Hard_Disk/Datasets/Deep-Spectral-Segmentation/data/object-segmentation/ECSSD/features/0780_resized.pth\n",
      "dict_keys(['k', 'indices', 'file', 'id', 'model_name', 'patch_size', 'shape'])\n",
      "0780_resized\n",
      "Starting Training\n",
      "epoch: 00, loss: -0.87350\n",
      "epoch: 01, loss: -0.92297\n",
      "epoch: 02, loss: -0.93631\n",
      "epoch: 03, loss: -0.94391\n",
      "epoch: 04, loss: -0.94906\n",
      "epoch: 05, loss: -0.95283\n",
      "epoch: 06, loss: -0.95598\n",
      "epoch: 07, loss: -0.95832\n",
      "epoch: 08, loss: -0.96030\n"
     ]
    },
    {
     "name": "stderr",
     "output_type": "stream",
     "text": [
      " 78%|███████▊  | 779/999 [9:25:45<1:36:24, 26.29s/it]"
     ]
    },
    {
     "name": "stdout",
     "output_type": "stream",
     "text": [
      "epoch: 09, loss: -0.96193\n",
      "torch.Size([1024, 64])\n",
      "eigenvalues shape torch.Size([5]) eigenvectors shape torch.Size([5, 1024])\n",
      "779 /home/phdcs2/Hard_Disk/Datasets/Deep-Spectral-Segmentation/data/object-segmentation/ECSSD/features/0781_resized.pth\n",
      "dict_keys(['k', 'indices', 'file', 'id', 'model_name', 'patch_size', 'shape'])\n",
      "0781_resized\n",
      "Starting Training\n",
      "epoch: 00, loss: -0.90715\n",
      "epoch: 01, loss: -0.94346\n",
      "epoch: 02, loss: -0.95260\n",
      "epoch: 03, loss: -0.95791\n",
      "epoch: 04, loss: -0.96151\n",
      "epoch: 05, loss: -0.96417\n",
      "epoch: 06, loss: -0.96624\n",
      "epoch: 07, loss: -0.96787\n",
      "epoch: 08, loss: -0.96926\n",
      "epoch: 09, loss: -0.97040\n",
      "torch.Size([1024, 64])\n"
     ]
    },
    {
     "name": "stderr",
     "output_type": "stream",
     "text": [
      " 78%|███████▊  | 780/999 [9:26:11<1:35:47, 26.24s/it]"
     ]
    },
    {
     "name": "stdout",
     "output_type": "stream",
     "text": [
      "eigenvalues shape torch.Size([5]) eigenvectors shape torch.Size([5, 1024])\n",
      "780 /home/phdcs2/Hard_Disk/Datasets/Deep-Spectral-Segmentation/data/object-segmentation/ECSSD/features/0782_resized.pth\n",
      "dict_keys(['k', 'indices', 'file', 'id', 'model_name', 'patch_size', 'shape'])\n",
      "0782_resized\n",
      "Starting Training\n",
      "epoch: 00, loss: -0.93886\n",
      "epoch: 01, loss: -0.96497\n",
      "epoch: 02, loss: -0.97042\n",
      "epoch: 03, loss: -0.97359\n",
      "epoch: 04, loss: -0.97575\n",
      "epoch: 05, loss: -0.97738\n",
      "epoch: 06, loss: -0.97862\n",
      "epoch: 07, loss: -0.97965\n",
      "epoch: 08, loss: -0.98052\n",
      "epoch: 09, loss: -0.98127\n",
      "torch.Size([1024, 64])\n"
     ]
    },
    {
     "name": "stderr",
     "output_type": "stream",
     "text": [
      " 78%|███████▊  | 781/999 [9:26:39<1:36:45, 26.63s/it]"
     ]
    },
    {
     "name": "stdout",
     "output_type": "stream",
     "text": [
      "eigenvalues shape torch.Size([5]) eigenvectors shape torch.Size([5, 1024])\n",
      "781 /home/phdcs2/Hard_Disk/Datasets/Deep-Spectral-Segmentation/data/object-segmentation/ECSSD/features/0783_resized.pth\n",
      "dict_keys(['k', 'indices', 'file', 'id', 'model_name', 'patch_size', 'shape'])\n",
      "0783_resized\n",
      "Starting Training\n",
      "epoch: 00, loss: -0.91393\n",
      "epoch: 01, loss: -0.94830\n",
      "epoch: 02, loss: -0.95639\n",
      "epoch: 03, loss: -0.96130\n",
      "epoch: 04, loss: -0.96441\n",
      "epoch: 05, loss: -0.96689\n",
      "epoch: 06, loss: -0.96876\n",
      "epoch: 07, loss: -0.97031\n",
      "epoch: 08, loss: -0.97156\n"
     ]
    },
    {
     "name": "stderr",
     "output_type": "stream",
     "text": [
      " 78%|███████▊  | 782/999 [9:27:05<1:36:21, 26.64s/it]"
     ]
    },
    {
     "name": "stdout",
     "output_type": "stream",
     "text": [
      "epoch: 09, loss: -0.97268\n",
      "torch.Size([1024, 64])\n",
      "eigenvalues shape torch.Size([5]) eigenvectors shape torch.Size([5, 1024])\n",
      "782 /home/phdcs2/Hard_Disk/Datasets/Deep-Spectral-Segmentation/data/object-segmentation/ECSSD/features/0784_resized.pth\n",
      "dict_keys(['k', 'indices', 'file', 'id', 'model_name', 'patch_size', 'shape'])\n",
      "0784_resized\n",
      "Starting Training\n",
      "epoch: 00, loss: -0.90098\n",
      "epoch: 01, loss: -0.93979\n",
      "epoch: 02, loss: -0.94974\n",
      "epoch: 03, loss: -0.95546\n",
      "epoch: 04, loss: -0.95937\n",
      "epoch: 05, loss: -0.96223\n",
      "epoch: 06, loss: -0.96446\n",
      "epoch: 07, loss: -0.96627\n",
      "epoch: 08, loss: -0.96778\n",
      "epoch: 09, loss: -0.96908\n",
      "torch.Size([1024, 64])\n"
     ]
    },
    {
     "name": "stderr",
     "output_type": "stream",
     "text": [
      " 78%|███████▊  | 783/999 [9:27:32<1:36:13, 26.73s/it]"
     ]
    },
    {
     "name": "stdout",
     "output_type": "stream",
     "text": [
      "eigenvalues shape torch.Size([5]) eigenvectors shape torch.Size([5, 1024])\n",
      "783 /home/phdcs2/Hard_Disk/Datasets/Deep-Spectral-Segmentation/data/object-segmentation/ECSSD/features/0785_resized.pth\n",
      "dict_keys(['k', 'indices', 'file', 'id', 'model_name', 'patch_size', 'shape'])\n",
      "0785_resized\n",
      "Starting Training\n",
      "epoch: 00, loss: -0.89744\n",
      "epoch: 01, loss: -0.93696\n",
      "epoch: 02, loss: -0.94712\n",
      "epoch: 03, loss: -0.95291\n",
      "epoch: 04, loss: -0.95691\n",
      "epoch: 05, loss: -0.95993\n",
      "epoch: 06, loss: -0.96223\n",
      "epoch: 07, loss: -0.96412\n",
      "epoch: 08, loss: -0.96579\n"
     ]
    },
    {
     "name": "stderr",
     "output_type": "stream",
     "text": [
      " 78%|███████▊  | 784/999 [9:27:59<1:35:38, 26.69s/it]"
     ]
    },
    {
     "name": "stdout",
     "output_type": "stream",
     "text": [
      "epoch: 09, loss: -0.96703\n",
      "torch.Size([1024, 64])\n",
      "eigenvalues shape torch.Size([5]) eigenvectors shape torch.Size([5, 1024])\n",
      "784 /home/phdcs2/Hard_Disk/Datasets/Deep-Spectral-Segmentation/data/object-segmentation/ECSSD/features/0786_resized.pth\n",
      "dict_keys(['k', 'indices', 'file', 'id', 'model_name', 'patch_size', 'shape'])\n",
      "0786_resized\n",
      "Starting Training\n",
      "epoch: 00, loss: -0.88794\n",
      "epoch: 01, loss: -0.93194\n",
      "epoch: 02, loss: -0.94319\n",
      "epoch: 03, loss: -0.94961\n",
      "epoch: 04, loss: -0.95410\n",
      "epoch: 05, loss: -0.95715\n",
      "epoch: 06, loss: -0.95965\n",
      "epoch: 07, loss: -0.96163\n",
      "epoch: 08, loss: -0.96322\n"
     ]
    },
    {
     "name": "stderr",
     "output_type": "stream",
     "text": [
      " 79%|███████▊  | 785/999 [9:28:25<1:34:33, 26.51s/it]"
     ]
    },
    {
     "name": "stdout",
     "output_type": "stream",
     "text": [
      "epoch: 09, loss: -0.96469\n",
      "torch.Size([1024, 64])\n",
      "eigenvalues shape torch.Size([5]) eigenvectors shape torch.Size([5, 1024])\n",
      "785 /home/phdcs2/Hard_Disk/Datasets/Deep-Spectral-Segmentation/data/object-segmentation/ECSSD/features/0787_resized.pth\n",
      "dict_keys(['k', 'indices', 'file', 'id', 'model_name', 'patch_size', 'shape'])\n",
      "0787_resized\n",
      "Starting Training\n",
      "epoch: 00, loss: -0.91960\n",
      "epoch: 01, loss: -0.95341\n",
      "epoch: 02, loss: -0.96100\n",
      "epoch: 03, loss: -0.96533\n",
      "epoch: 04, loss: -0.96828\n",
      "epoch: 05, loss: -0.97047\n",
      "epoch: 06, loss: -0.97216\n",
      "epoch: 07, loss: -0.97356\n",
      "epoch: 08, loss: -0.97471\n",
      "epoch: 09, loss: -0.97568\n",
      "torch.Size([1024, 64])\n"
     ]
    },
    {
     "name": "stderr",
     "output_type": "stream",
     "text": [
      " 79%|███████▊  | 786/999 [9:28:52<1:34:15, 26.55s/it]"
     ]
    },
    {
     "name": "stdout",
     "output_type": "stream",
     "text": [
      "eigenvalues shape torch.Size([5]) eigenvectors shape torch.Size([5, 1024])\n",
      "786 /home/phdcs2/Hard_Disk/Datasets/Deep-Spectral-Segmentation/data/object-segmentation/ECSSD/features/0788_resized.pth\n",
      "dict_keys(['k', 'indices', 'file', 'id', 'model_name', 'patch_size', 'shape'])\n",
      "0788_resized\n",
      "Starting Training\n",
      "epoch: 00, loss: -0.90535\n",
      "epoch: 01, loss: -0.94355\n",
      "epoch: 02, loss: -0.95297\n",
      "epoch: 03, loss: -0.95835\n",
      "epoch: 04, loss: -0.96200\n",
      "epoch: 05, loss: -0.96466\n",
      "epoch: 06, loss: -0.96676\n",
      "epoch: 07, loss: -0.96842\n",
      "epoch: 08, loss: -0.96980\n"
     ]
    },
    {
     "name": "stderr",
     "output_type": "stream",
     "text": [
      " 79%|███████▉  | 787/999 [9:29:18<1:33:39, 26.51s/it]"
     ]
    },
    {
     "name": "stdout",
     "output_type": "stream",
     "text": [
      "epoch: 09, loss: -0.97100\n",
      "torch.Size([1024, 64])\n",
      "eigenvalues shape torch.Size([5]) eigenvectors shape torch.Size([5, 1024])\n",
      "787 /home/phdcs2/Hard_Disk/Datasets/Deep-Spectral-Segmentation/data/object-segmentation/ECSSD/features/0789_resized.pth\n",
      "dict_keys(['k', 'indices', 'file', 'id', 'model_name', 'patch_size', 'shape'])\n",
      "0789_resized\n",
      "Starting Training\n",
      "epoch: 00, loss: -0.93012\n",
      "epoch: 01, loss: -0.95733\n",
      "epoch: 02, loss: -0.96396\n",
      "epoch: 03, loss: -0.96784\n",
      "epoch: 04, loss: -0.97050\n",
      "epoch: 05, loss: -0.97245\n",
      "epoch: 06, loss: -0.97401\n",
      "epoch: 07, loss: -0.97529\n",
      "epoch: 08, loss: -0.97633\n",
      "epoch: 09, loss: -0.97723\n",
      "torch.Size([1024, 64])\n"
     ]
    },
    {
     "name": "stderr",
     "output_type": "stream",
     "text": [
      " 79%|███████▉  | 788/999 [9:29:44<1:32:52, 26.41s/it]"
     ]
    },
    {
     "name": "stdout",
     "output_type": "stream",
     "text": [
      "eigenvalues shape torch.Size([5]) eigenvectors shape torch.Size([5, 1024])\n",
      "788 /home/phdcs2/Hard_Disk/Datasets/Deep-Spectral-Segmentation/data/object-segmentation/ECSSD/features/0790_resized.pth\n",
      "dict_keys(['k', 'indices', 'file', 'id', 'model_name', 'patch_size', 'shape'])\n",
      "0790_resized\n",
      "Starting Training\n",
      "epoch: 00, loss: -0.91970\n",
      "epoch: 01, loss: -0.95190\n",
      "epoch: 02, loss: -0.95946\n",
      "epoch: 03, loss: -0.96376\n",
      "epoch: 04, loss: -0.96674\n",
      "epoch: 05, loss: -0.96894\n",
      "epoch: 06, loss: -0.97066\n",
      "epoch: 07, loss: -0.97205\n",
      "epoch: 08, loss: -0.97326\n",
      "epoch: 09, loss: -0.97424\n",
      "torch.Size([1024, 64])\n"
     ]
    },
    {
     "name": "stderr",
     "output_type": "stream",
     "text": [
      " 79%|███████▉  | 789/999 [9:30:11<1:32:25, 26.41s/it]"
     ]
    },
    {
     "name": "stdout",
     "output_type": "stream",
     "text": [
      "eigenvalues shape torch.Size([5]) eigenvectors shape torch.Size([5, 1024])\n",
      "789 /home/phdcs2/Hard_Disk/Datasets/Deep-Spectral-Segmentation/data/object-segmentation/ECSSD/features/0791_resized.pth\n",
      "dict_keys(['k', 'indices', 'file', 'id', 'model_name', 'patch_size', 'shape'])\n",
      "0791_resized\n",
      "Starting Training\n",
      "epoch: 00, loss: -0.91220\n",
      "epoch: 01, loss: -0.94844\n",
      "epoch: 02, loss: -0.95641\n",
      "epoch: 03, loss: -0.96107\n",
      "epoch: 04, loss: -0.96422\n",
      "epoch: 05, loss: -0.96657\n",
      "epoch: 06, loss: -0.96841\n",
      "epoch: 07, loss: -0.96990\n",
      "epoch: 08, loss: -0.97114\n",
      "epoch: 09, loss: -0.97222\n",
      "torch.Size([1024, 64])\n"
     ]
    },
    {
     "name": "stderr",
     "output_type": "stream",
     "text": [
      " 79%|███████▉  | 790/999 [9:30:37<1:31:47, 26.35s/it]"
     ]
    },
    {
     "name": "stdout",
     "output_type": "stream",
     "text": [
      "eigenvalues shape torch.Size([5]) eigenvectors shape torch.Size([5, 1024])\n",
      "790 /home/phdcs2/Hard_Disk/Datasets/Deep-Spectral-Segmentation/data/object-segmentation/ECSSD/features/0792_resized.pth\n",
      "dict_keys(['k', 'indices', 'file', 'id', 'model_name', 'patch_size', 'shape'])\n",
      "0792_resized\n",
      "Starting Training\n",
      "epoch: 00, loss: -0.91851\n",
      "epoch: 01, loss: -0.95069\n",
      "epoch: 02, loss: -0.95837\n",
      "epoch: 03, loss: -0.96284\n",
      "epoch: 04, loss: -0.96588\n",
      "epoch: 05, loss: -0.96812\n",
      "epoch: 06, loss: -0.96989\n",
      "epoch: 07, loss: -0.97131\n",
      "epoch: 08, loss: -0.97249\n"
     ]
    },
    {
     "name": "stderr",
     "output_type": "stream",
     "text": [
      " 79%|███████▉  | 791/999 [9:31:03<1:30:50, 26.21s/it]"
     ]
    },
    {
     "name": "stdout",
     "output_type": "stream",
     "text": [
      "epoch: 09, loss: -0.97352\n",
      "torch.Size([1024, 64])\n",
      "eigenvalues shape torch.Size([5]) eigenvectors shape torch.Size([5, 1024])\n",
      "791 /home/phdcs2/Hard_Disk/Datasets/Deep-Spectral-Segmentation/data/object-segmentation/ECSSD/features/0793_resized.pth\n",
      "dict_keys(['k', 'indices', 'file', 'id', 'model_name', 'patch_size', 'shape'])\n",
      "0793_resized\n",
      "Starting Training\n",
      "epoch: 00, loss: -0.86340\n",
      "epoch: 01, loss: -0.91562\n",
      "epoch: 02, loss: -0.93028\n",
      "epoch: 03, loss: -0.93837\n",
      "epoch: 04, loss: -0.94422\n",
      "epoch: 05, loss: -0.94832\n",
      "epoch: 06, loss: -0.95149\n",
      "epoch: 07, loss: -0.95406\n",
      "epoch: 08, loss: -0.95614\n"
     ]
    },
    {
     "name": "stderr",
     "output_type": "stream",
     "text": [
      " 79%|███████▉  | 792/999 [9:31:28<1:29:54, 26.06s/it]"
     ]
    },
    {
     "name": "stdout",
     "output_type": "stream",
     "text": [
      "epoch: 09, loss: -0.95798\n",
      "torch.Size([1024, 64])\n",
      "eigenvalues shape torch.Size([5]) eigenvectors shape torch.Size([5, 1024])\n",
      "792 /home/phdcs2/Hard_Disk/Datasets/Deep-Spectral-Segmentation/data/object-segmentation/ECSSD/features/0794_resized.pth\n",
      "dict_keys(['k', 'indices', 'file', 'id', 'model_name', 'patch_size', 'shape'])\n",
      "0794_resized\n",
      "Starting Training\n",
      "epoch: 00, loss: -0.90908\n",
      "epoch: 01, loss: -0.94769\n",
      "epoch: 02, loss: -0.95635\n",
      "epoch: 03, loss: -0.96122\n",
      "epoch: 04, loss: -0.96454\n",
      "epoch: 05, loss: -0.96691\n",
      "epoch: 06, loss: -0.96877\n",
      "epoch: 07, loss: -0.97021\n",
      "epoch: 08, loss: -0.97150\n"
     ]
    },
    {
     "name": "stderr",
     "output_type": "stream",
     "text": [
      " 79%|███████▉  | 793/999 [9:31:54<1:29:26, 26.05s/it]"
     ]
    },
    {
     "name": "stdout",
     "output_type": "stream",
     "text": [
      "epoch: 09, loss: -0.97259\n",
      "torch.Size([1024, 64])\n",
      "eigenvalues shape torch.Size([5]) eigenvectors shape torch.Size([5, 1024])\n",
      "793 /home/phdcs2/Hard_Disk/Datasets/Deep-Spectral-Segmentation/data/object-segmentation/ECSSD/features/0795_resized.pth\n",
      "dict_keys(['k', 'indices', 'file', 'id', 'model_name', 'patch_size', 'shape'])\n",
      "0795_resized\n",
      "Starting Training\n",
      "epoch: 00, loss: -0.91869\n",
      "epoch: 01, loss: -0.95235\n",
      "epoch: 02, loss: -0.96000\n",
      "epoch: 03, loss: -0.96433\n",
      "epoch: 04, loss: -0.96727\n",
      "epoch: 05, loss: -0.96944\n",
      "epoch: 06, loss: -0.97115\n",
      "epoch: 07, loss: -0.97253\n",
      "epoch: 08, loss: -0.97369\n",
      "epoch: 09, loss: -0.97466\n",
      "torch.Size([1024, 64])\n"
     ]
    },
    {
     "name": "stderr",
     "output_type": "stream",
     "text": [
      " 79%|███████▉  | 794/999 [9:32:21<1:29:48, 26.29s/it]"
     ]
    },
    {
     "name": "stdout",
     "output_type": "stream",
     "text": [
      "eigenvalues shape torch.Size([5]) eigenvectors shape torch.Size([5, 1024])\n",
      "794 /home/phdcs2/Hard_Disk/Datasets/Deep-Spectral-Segmentation/data/object-segmentation/ECSSD/features/0796_resized.pth\n",
      "dict_keys(['k', 'indices', 'file', 'id', 'model_name', 'patch_size', 'shape'])\n",
      "0796_resized\n",
      "Starting Training\n",
      "epoch: 00, loss: -0.91370\n",
      "epoch: 01, loss: -0.94976\n",
      "epoch: 02, loss: -0.95795\n",
      "epoch: 03, loss: -0.96257\n",
      "epoch: 04, loss: -0.96573\n",
      "epoch: 05, loss: -0.96806\n",
      "epoch: 06, loss: -0.96988\n",
      "epoch: 07, loss: -0.97136\n",
      "epoch: 08, loss: -0.97262\n",
      "epoch: 09, loss: -0.97364\n",
      "torch.Size([1024, 64])\n"
     ]
    },
    {
     "name": "stderr",
     "output_type": "stream",
     "text": [
      " 80%|███████▉  | 795/999 [9:32:48<1:30:16, 26.55s/it]"
     ]
    },
    {
     "name": "stdout",
     "output_type": "stream",
     "text": [
      "eigenvalues shape torch.Size([5]) eigenvectors shape torch.Size([5, 1024])\n",
      "795 /home/phdcs2/Hard_Disk/Datasets/Deep-Spectral-Segmentation/data/object-segmentation/ECSSD/features/0797_resized.pth\n",
      "dict_keys(['k', 'indices', 'file', 'id', 'model_name', 'patch_size', 'shape'])\n",
      "0797_resized\n",
      "Starting Training\n",
      "epoch: 00, loss: -0.92631\n",
      "epoch: 01, loss: -0.95645\n",
      "epoch: 02, loss: -0.96335\n",
      "epoch: 03, loss: -0.96721\n",
      "epoch: 04, loss: -0.96978\n",
      "epoch: 05, loss: -0.97165\n",
      "epoch: 06, loss: -0.97323\n",
      "epoch: 07, loss: -0.97444\n",
      "epoch: 08, loss: -0.97541\n"
     ]
    },
    {
     "name": "stderr",
     "output_type": "stream",
     "text": [
      " 80%|███████▉  | 796/999 [9:33:15<1:29:35, 26.48s/it]"
     ]
    },
    {
     "name": "stdout",
     "output_type": "stream",
     "text": [
      "epoch: 09, loss: -0.97633\n",
      "torch.Size([1024, 64])\n",
      "eigenvalues shape torch.Size([5]) eigenvectors shape torch.Size([5, 1024])\n",
      "796 /home/phdcs2/Hard_Disk/Datasets/Deep-Spectral-Segmentation/data/object-segmentation/ECSSD/features/0798_resized.pth\n",
      "dict_keys(['k', 'indices', 'file', 'id', 'model_name', 'patch_size', 'shape'])\n",
      "0798_resized\n",
      "Starting Training\n",
      "epoch: 00, loss: -0.92718\n",
      "epoch: 01, loss: -0.95728\n",
      "epoch: 02, loss: -0.96391\n",
      "epoch: 03, loss: -0.96768\n",
      "epoch: 04, loss: -0.97029\n",
      "epoch: 05, loss: -0.97218\n",
      "epoch: 06, loss: -0.97370\n",
      "epoch: 07, loss: -0.97490\n",
      "epoch: 08, loss: -0.97592\n",
      "epoch: 09, loss: -0.97679\n",
      "torch.Size([1024, 64])\n"
     ]
    },
    {
     "name": "stderr",
     "output_type": "stream",
     "text": [
      " 80%|███████▉  | 797/999 [9:33:42<1:29:56, 26.72s/it]"
     ]
    },
    {
     "name": "stdout",
     "output_type": "stream",
     "text": [
      "eigenvalues shape torch.Size([5]) eigenvectors shape torch.Size([5, 1024])\n",
      "797 /home/phdcs2/Hard_Disk/Datasets/Deep-Spectral-Segmentation/data/object-segmentation/ECSSD/features/0799_resized.pth\n",
      "dict_keys(['k', 'indices', 'file', 'id', 'model_name', 'patch_size', 'shape'])\n",
      "0799_resized\n",
      "Starting Training\n",
      "epoch: 00, loss: -0.87724\n",
      "epoch: 01, loss: -0.92555\n",
      "epoch: 02, loss: -0.93868\n",
      "epoch: 03, loss: -0.94633\n",
      "epoch: 04, loss: -0.95124\n",
      "epoch: 05, loss: -0.95505\n",
      "epoch: 06, loss: -0.95797\n",
      "epoch: 07, loss: -0.96029\n",
      "epoch: 08, loss: -0.96205\n"
     ]
    },
    {
     "name": "stderr",
     "output_type": "stream",
     "text": [
      " 80%|███████▉  | 798/999 [9:34:07<1:28:09, 26.31s/it]"
     ]
    },
    {
     "name": "stdout",
     "output_type": "stream",
     "text": [
      "epoch: 09, loss: -0.96376\n",
      "torch.Size([1024, 64])\n",
      "eigenvalues shape torch.Size([5]) eigenvectors shape torch.Size([5, 1024])\n",
      "798 /home/phdcs2/Hard_Disk/Datasets/Deep-Spectral-Segmentation/data/object-segmentation/ECSSD/features/0800_resized.pth\n",
      "dict_keys(['k', 'indices', 'file', 'id', 'model_name', 'patch_size', 'shape'])\n",
      "0800_resized\n",
      "Starting Training\n",
      "epoch: 00, loss: -0.93975\n",
      "epoch: 01, loss: -0.96375\n",
      "epoch: 02, loss: -0.96913\n",
      "epoch: 03, loss: -0.97224\n",
      "epoch: 04, loss: -0.97439\n",
      "epoch: 05, loss: -0.97598\n",
      "epoch: 06, loss: -0.97724\n",
      "epoch: 07, loss: -0.97827\n",
      "epoch: 08, loss: -0.97911\n",
      "epoch: 09, loss: -0.97985\n",
      "torch.Size([1024, 64])\n"
     ]
    },
    {
     "name": "stderr",
     "output_type": "stream",
     "text": [
      " 80%|███████▉  | 799/999 [9:34:34<1:27:42, 26.31s/it]"
     ]
    },
    {
     "name": "stdout",
     "output_type": "stream",
     "text": [
      "eigenvalues shape torch.Size([5]) eigenvectors shape torch.Size([5, 1024])\n",
      "799 /home/phdcs2/Hard_Disk/Datasets/Deep-Spectral-Segmentation/data/object-segmentation/ECSSD/features/0801_resized.pth\n",
      "dict_keys(['k', 'indices', 'file', 'id', 'model_name', 'patch_size', 'shape'])\n",
      "0801_resized\n",
      "Starting Training\n",
      "epoch: 00, loss: -0.92229\n",
      "epoch: 01, loss: -0.95439\n",
      "epoch: 02, loss: -0.96184\n",
      "epoch: 03, loss: -0.96609\n",
      "epoch: 04, loss: -0.96908\n",
      "epoch: 05, loss: -0.97125\n",
      "epoch: 06, loss: -0.97293\n",
      "epoch: 07, loss: -0.97435\n",
      "epoch: 08, loss: -0.97550\n",
      "epoch: 09, loss: -0.97649\n",
      "torch.Size([1024, 64])\n"
     ]
    },
    {
     "name": "stderr",
     "output_type": "stream",
     "text": [
      " 80%|████████  | 800/999 [9:34:59<1:26:45, 26.16s/it]"
     ]
    },
    {
     "name": "stdout",
     "output_type": "stream",
     "text": [
      "eigenvalues shape torch.Size([5]) eigenvectors shape torch.Size([5, 1024])\n",
      "800 /home/phdcs2/Hard_Disk/Datasets/Deep-Spectral-Segmentation/data/object-segmentation/ECSSD/features/0802_resized.pth\n",
      "dict_keys(['k', 'indices', 'file', 'id', 'model_name', 'patch_size', 'shape'])\n",
      "0802_resized\n",
      "Starting Training\n",
      "epoch: 00, loss: -0.90393\n",
      "epoch: 01, loss: -0.94358\n",
      "epoch: 02, loss: -0.95275\n",
      "epoch: 03, loss: -0.95822\n",
      "epoch: 04, loss: -0.96202\n",
      "epoch: 05, loss: -0.96462\n",
      "epoch: 06, loss: -0.96664\n",
      "epoch: 07, loss: -0.96829\n",
      "epoch: 08, loss: -0.96976\n",
      "epoch: 09, loss: -0.97088\n",
      "torch.Size([1024, 64])\n"
     ]
    },
    {
     "name": "stderr",
     "output_type": "stream",
     "text": [
      " 80%|████████  | 801/999 [9:35:27<1:27:15, 26.44s/it]"
     ]
    },
    {
     "name": "stdout",
     "output_type": "stream",
     "text": [
      "eigenvalues shape torch.Size([5]) eigenvectors shape torch.Size([5, 1024])\n",
      "801 /home/phdcs2/Hard_Disk/Datasets/Deep-Spectral-Segmentation/data/object-segmentation/ECSSD/features/0803_resized.pth\n",
      "dict_keys(['k', 'indices', 'file', 'id', 'model_name', 'patch_size', 'shape'])\n",
      "0803_resized\n",
      "Starting Training\n",
      "epoch: 00, loss: -0.89258\n",
      "epoch: 01, loss: -0.93367\n",
      "epoch: 02, loss: -0.94476\n",
      "epoch: 03, loss: -0.95111\n",
      "epoch: 04, loss: -0.95529\n",
      "epoch: 05, loss: -0.95844\n",
      "epoch: 06, loss: -0.96092\n",
      "epoch: 07, loss: -0.96291\n",
      "epoch: 08, loss: -0.96462\n"
     ]
    },
    {
     "name": "stderr",
     "output_type": "stream",
     "text": [
      " 80%|████████  | 802/999 [9:35:53<1:26:43, 26.41s/it]"
     ]
    },
    {
     "name": "stdout",
     "output_type": "stream",
     "text": [
      "epoch: 09, loss: -0.96592\n",
      "torch.Size([1024, 64])\n",
      "eigenvalues shape torch.Size([5]) eigenvectors shape torch.Size([5, 1024])\n",
      "802 /home/phdcs2/Hard_Disk/Datasets/Deep-Spectral-Segmentation/data/object-segmentation/ECSSD/features/0804_resized.pth\n",
      "dict_keys(['k', 'indices', 'file', 'id', 'model_name', 'patch_size', 'shape'])\n",
      "0804_resized\n",
      "Starting Training\n",
      "epoch: 00, loss: -0.90577\n",
      "epoch: 01, loss: -0.94499\n",
      "epoch: 02, loss: -0.95418\n",
      "epoch: 03, loss: -0.95951\n",
      "epoch: 04, loss: -0.96314\n",
      "epoch: 05, loss: -0.96588\n",
      "epoch: 06, loss: -0.96798\n",
      "epoch: 07, loss: -0.96966\n",
      "epoch: 08, loss: -0.97109\n"
     ]
    },
    {
     "name": "stderr",
     "output_type": "stream",
     "text": [
      " 80%|████████  | 803/999 [9:36:20<1:26:39, 26.53s/it]"
     ]
    },
    {
     "name": "stdout",
     "output_type": "stream",
     "text": [
      "epoch: 09, loss: -0.97229\n",
      "torch.Size([1024, 64])\n",
      "eigenvalues shape torch.Size([5]) eigenvectors shape torch.Size([5, 1024])\n",
      "803 /home/phdcs2/Hard_Disk/Datasets/Deep-Spectral-Segmentation/data/object-segmentation/ECSSD/features/0805_resized.pth\n",
      "dict_keys(['k', 'indices', 'file', 'id', 'model_name', 'patch_size', 'shape'])\n",
      "0805_resized\n",
      "Starting Training\n",
      "epoch: 00, loss: -0.90819\n",
      "epoch: 01, loss: -0.94551\n",
      "epoch: 02, loss: -0.95455\n",
      "epoch: 03, loss: -0.95974\n",
      "epoch: 04, loss: -0.96318\n",
      "epoch: 05, loss: -0.96585\n",
      "epoch: 06, loss: -0.96793\n",
      "epoch: 07, loss: -0.96954\n",
      "epoch: 08, loss: -0.97092\n",
      "epoch: 09, loss: -0.97203\n",
      "torch.Size([1024, 64])\n"
     ]
    },
    {
     "name": "stderr",
     "output_type": "stream",
     "text": [
      " 80%|████████  | 804/999 [9:36:47<1:26:55, 26.75s/it]"
     ]
    },
    {
     "name": "stdout",
     "output_type": "stream",
     "text": [
      "eigenvalues shape torch.Size([5]) eigenvectors shape torch.Size([5, 1024])\n",
      "804 /home/phdcs2/Hard_Disk/Datasets/Deep-Spectral-Segmentation/data/object-segmentation/ECSSD/features/0806_resized.pth\n",
      "dict_keys(['k', 'indices', 'file', 'id', 'model_name', 'patch_size', 'shape'])\n",
      "0806_resized\n",
      "Starting Training\n",
      "epoch: 00, loss: -0.88287\n",
      "epoch: 01, loss: -0.93298\n",
      "epoch: 02, loss: -0.94473\n",
      "epoch: 03, loss: -0.95128\n",
      "epoch: 04, loss: -0.95560\n",
      "epoch: 05, loss: -0.95897\n",
      "epoch: 06, loss: -0.96145\n",
      "epoch: 07, loss: -0.96344\n",
      "epoch: 08, loss: -0.96508\n",
      "epoch: 09, loss: -0.96657\n",
      "torch.Size([1024, 64])\n"
     ]
    },
    {
     "name": "stderr",
     "output_type": "stream",
     "text": [
      " 81%|████████  | 805/999 [9:37:14<1:26:42, 26.82s/it]"
     ]
    },
    {
     "name": "stdout",
     "output_type": "stream",
     "text": [
      "eigenvalues shape torch.Size([5]) eigenvectors shape torch.Size([5, 1024])\n",
      "805 /home/phdcs2/Hard_Disk/Datasets/Deep-Spectral-Segmentation/data/object-segmentation/ECSSD/features/0807_resized.pth\n",
      "dict_keys(['k', 'indices', 'file', 'id', 'model_name', 'patch_size', 'shape'])\n",
      "0807_resized\n",
      "Starting Training\n",
      "epoch: 00, loss: -0.92044\n",
      "epoch: 01, loss: -0.95279\n",
      "epoch: 02, loss: -0.96050\n",
      "epoch: 03, loss: -0.96487\n",
      "epoch: 04, loss: -0.96788\n",
      "epoch: 05, loss: -0.97008\n",
      "epoch: 06, loss: -0.97177\n",
      "epoch: 07, loss: -0.97318\n",
      "epoch: 08, loss: -0.97434\n"
     ]
    },
    {
     "name": "stderr",
     "output_type": "stream",
     "text": [
      " 81%|████████  | 806/999 [9:37:40<1:25:49, 26.68s/it]"
     ]
    },
    {
     "name": "stdout",
     "output_type": "stream",
     "text": [
      "epoch: 09, loss: -0.97532\n",
      "torch.Size([1024, 64])\n",
      "eigenvalues shape torch.Size([5]) eigenvectors shape torch.Size([5, 1024])\n",
      "806 /home/phdcs2/Hard_Disk/Datasets/Deep-Spectral-Segmentation/data/object-segmentation/ECSSD/features/0808_resized.pth\n",
      "dict_keys(['k', 'indices', 'file', 'id', 'model_name', 'patch_size', 'shape'])\n",
      "0808_resized\n",
      "Starting Training\n",
      "epoch: 00, loss: -0.89290\n",
      "epoch: 01, loss: -0.93730\n",
      "epoch: 02, loss: -0.94666\n",
      "epoch: 03, loss: -0.95195\n",
      "epoch: 04, loss: -0.95534\n",
      "epoch: 05, loss: -0.95799\n",
      "epoch: 06, loss: -0.96002\n",
      "epoch: 07, loss: -0.96151\n",
      "epoch: 08, loss: -0.96282\n",
      "epoch: 09, loss: -0.96394\n",
      "torch.Size([1024, 64])\n"
     ]
    },
    {
     "name": "stderr",
     "output_type": "stream",
     "text": [
      " 81%|████████  | 807/999 [9:38:08<1:26:24, 27.00s/it]"
     ]
    },
    {
     "name": "stdout",
     "output_type": "stream",
     "text": [
      "eigenvalues shape torch.Size([5]) eigenvectors shape torch.Size([5, 1024])\n",
      "807 /home/phdcs2/Hard_Disk/Datasets/Deep-Spectral-Segmentation/data/object-segmentation/ECSSD/features/0809_resized.pth\n",
      "dict_keys(['k', 'indices', 'file', 'id', 'model_name', 'patch_size', 'shape'])\n",
      "0809_resized\n",
      "Starting Training\n",
      "epoch: 00, loss: -0.85994\n",
      "epoch: 01, loss: -0.91877\n",
      "epoch: 02, loss: -0.93219\n",
      "epoch: 03, loss: -0.93981\n",
      "epoch: 04, loss: -0.94479\n",
      "epoch: 05, loss: -0.94845\n",
      "epoch: 06, loss: -0.95136\n",
      "epoch: 07, loss: -0.95356\n",
      "epoch: 08, loss: -0.95565\n",
      "epoch: 09, loss: -0.95732\n",
      "torch.Size([1024, 64])\n"
     ]
    },
    {
     "name": "stderr",
     "output_type": "stream",
     "text": [
      " 81%|████████  | 808/999 [9:38:35<1:25:41, 26.92s/it]"
     ]
    },
    {
     "name": "stdout",
     "output_type": "stream",
     "text": [
      "eigenvalues shape torch.Size([5]) eigenvectors shape torch.Size([5, 1024])\n",
      "808 /home/phdcs2/Hard_Disk/Datasets/Deep-Spectral-Segmentation/data/object-segmentation/ECSSD/features/0810_resized.pth\n",
      "dict_keys(['k', 'indices', 'file', 'id', 'model_name', 'patch_size', 'shape'])\n",
      "0810_resized\n",
      "Starting Training\n",
      "epoch: 00, loss: -0.89231\n",
      "epoch: 01, loss: -0.94050\n",
      "epoch: 02, loss: -0.95062\n",
      "epoch: 03, loss: -0.95626\n",
      "epoch: 04, loss: -0.95989\n",
      "epoch: 05, loss: -0.96273\n",
      "epoch: 06, loss: -0.96488\n",
      "epoch: 07, loss: -0.96662\n",
      "epoch: 08, loss: -0.96810\n",
      "epoch: 09, loss: -0.96927\n",
      "torch.Size([1024, 64])\n"
     ]
    },
    {
     "name": "stderr",
     "output_type": "stream",
     "text": [
      " 81%|████████  | 809/999 [9:39:02<1:25:21, 26.96s/it]"
     ]
    },
    {
     "name": "stdout",
     "output_type": "stream",
     "text": [
      "eigenvalues shape torch.Size([5]) eigenvectors shape torch.Size([5, 1024])\n",
      "809 /home/phdcs2/Hard_Disk/Datasets/Deep-Spectral-Segmentation/data/object-segmentation/ECSSD/features/0811_resized.pth\n",
      "dict_keys(['k', 'indices', 'file', 'id', 'model_name', 'patch_size', 'shape'])\n",
      "0811_resized\n",
      "Starting Training\n",
      "epoch: 00, loss: -0.92102\n",
      "epoch: 01, loss: -0.95319\n",
      "epoch: 02, loss: -0.96042\n",
      "epoch: 03, loss: -0.96453\n",
      "epoch: 04, loss: -0.96742\n",
      "epoch: 05, loss: -0.96950\n",
      "epoch: 06, loss: -0.97119\n",
      "epoch: 07, loss: -0.97261\n",
      "epoch: 08, loss: -0.97372\n",
      "epoch: 09, loss: -0.97471\n",
      "torch.Size([1024, 64])\n"
     ]
    },
    {
     "name": "stderr",
     "output_type": "stream",
     "text": [
      " 81%|████████  | 810/999 [9:39:28<1:24:12, 26.73s/it]"
     ]
    },
    {
     "name": "stdout",
     "output_type": "stream",
     "text": [
      "eigenvalues shape torch.Size([5]) eigenvectors shape torch.Size([5, 1024])\n",
      "810 /home/phdcs2/Hard_Disk/Datasets/Deep-Spectral-Segmentation/data/object-segmentation/ECSSD/features/0812_resized.pth\n",
      "dict_keys(['k', 'indices', 'file', 'id', 'model_name', 'patch_size', 'shape'])\n",
      "0812_resized\n",
      "Starting Training\n",
      "epoch: 00, loss: -0.92779\n",
      "epoch: 01, loss: -0.95722\n",
      "epoch: 02, loss: -0.96372\n",
      "epoch: 03, loss: -0.96754\n",
      "epoch: 04, loss: -0.97011\n",
      "epoch: 05, loss: -0.97204\n",
      "epoch: 06, loss: -0.97356\n",
      "epoch: 07, loss: -0.97480\n",
      "epoch: 08, loss: -0.97584\n"
     ]
    },
    {
     "name": "stderr",
     "output_type": "stream",
     "text": [
      " 81%|████████  | 811/999 [9:39:54<1:23:25, 26.62s/it]"
     ]
    },
    {
     "name": "stdout",
     "output_type": "stream",
     "text": [
      "epoch: 09, loss: -0.97672\n",
      "torch.Size([1024, 64])\n",
      "eigenvalues shape torch.Size([5]) eigenvectors shape torch.Size([5, 1024])\n",
      "811 /home/phdcs2/Hard_Disk/Datasets/Deep-Spectral-Segmentation/data/object-segmentation/ECSSD/features/0813_resized.pth\n",
      "dict_keys(['k', 'indices', 'file', 'id', 'model_name', 'patch_size', 'shape'])\n",
      "0813_resized\n",
      "Starting Training\n",
      "epoch: 00, loss: -0.93103\n",
      "epoch: 01, loss: -0.95773\n",
      "epoch: 02, loss: -0.96439\n",
      "epoch: 03, loss: -0.96831\n",
      "epoch: 04, loss: -0.97102\n",
      "epoch: 05, loss: -0.97298\n",
      "epoch: 06, loss: -0.97456\n",
      "epoch: 07, loss: -0.97583\n",
      "epoch: 08, loss: -0.97691\n",
      "epoch: 09, loss: -0.97782\n",
      "torch.Size([1024, 64])\n"
     ]
    },
    {
     "name": "stderr",
     "output_type": "stream",
     "text": [
      " 81%|████████▏ | 812/999 [9:40:21<1:22:51, 26.59s/it]"
     ]
    },
    {
     "name": "stdout",
     "output_type": "stream",
     "text": [
      "eigenvalues shape torch.Size([5]) eigenvectors shape torch.Size([5, 1024])\n",
      "812 /home/phdcs2/Hard_Disk/Datasets/Deep-Spectral-Segmentation/data/object-segmentation/ECSSD/features/0814_resized.pth\n",
      "dict_keys(['k', 'indices', 'file', 'id', 'model_name', 'patch_size', 'shape'])\n",
      "0814_resized\n",
      "Starting Training\n",
      "epoch: 00, loss: -0.90640\n",
      "epoch: 01, loss: -0.94647\n",
      "epoch: 02, loss: -0.95536\n",
      "epoch: 03, loss: -0.96047\n",
      "epoch: 04, loss: -0.96397\n",
      "epoch: 05, loss: -0.96651\n",
      "epoch: 06, loss: -0.96852\n",
      "epoch: 07, loss: -0.97009\n",
      "epoch: 08, loss: -0.97144\n",
      "epoch: 09, loss: -0.97259\n",
      "torch.Size([1024, 64])\n"
     ]
    },
    {
     "name": "stderr",
     "output_type": "stream",
     "text": [
      " 81%|████████▏ | 813/999 [9:40:49<1:23:36, 26.97s/it]"
     ]
    },
    {
     "name": "stdout",
     "output_type": "stream",
     "text": [
      "eigenvalues shape torch.Size([5]) eigenvectors shape torch.Size([5, 1024])\n",
      "813 /home/phdcs2/Hard_Disk/Datasets/Deep-Spectral-Segmentation/data/object-segmentation/ECSSD/features/0815_resized.pth\n",
      "dict_keys(['k', 'indices', 'file', 'id', 'model_name', 'patch_size', 'shape'])\n",
      "0815_resized\n",
      "Starting Training\n",
      "epoch: 00, loss: -0.84745\n",
      "epoch: 01, loss: -0.90600\n",
      "epoch: 02, loss: -0.92264\n",
      "epoch: 03, loss: -0.93253\n",
      "epoch: 04, loss: -0.93922\n",
      "epoch: 05, loss: -0.94392\n",
      "epoch: 06, loss: -0.94756\n",
      "epoch: 07, loss: -0.95060\n",
      "epoch: 08, loss: -0.95289\n"
     ]
    },
    {
     "name": "stderr",
     "output_type": "stream",
     "text": [
      " 81%|████████▏ | 814/999 [9:41:15<1:22:18, 26.69s/it]"
     ]
    },
    {
     "name": "stdout",
     "output_type": "stream",
     "text": [
      "epoch: 09, loss: -0.95497\n",
      "torch.Size([1024, 64])\n",
      "eigenvalues shape torch.Size([5]) eigenvectors shape torch.Size([5, 1024])\n",
      "814 /home/phdcs2/Hard_Disk/Datasets/Deep-Spectral-Segmentation/data/object-segmentation/ECSSD/features/0816_resized.pth\n",
      "dict_keys(['k', 'indices', 'file', 'id', 'model_name', 'patch_size', 'shape'])\n",
      "0816_resized\n",
      "Starting Training\n",
      "epoch: 00, loss: -0.90255\n",
      "epoch: 01, loss: -0.94263\n",
      "epoch: 02, loss: -0.95210\n",
      "epoch: 03, loss: -0.95755\n",
      "epoch: 04, loss: -0.96115\n",
      "epoch: 05, loss: -0.96383\n",
      "epoch: 06, loss: -0.96587\n",
      "epoch: 07, loss: -0.96750\n",
      "epoch: 08, loss: -0.96889\n"
     ]
    },
    {
     "name": "stderr",
     "output_type": "stream",
     "text": [
      " 82%|████████▏ | 815/999 [9:41:41<1:21:42, 26.64s/it]"
     ]
    },
    {
     "name": "stdout",
     "output_type": "stream",
     "text": [
      "epoch: 09, loss: -0.97003\n",
      "torch.Size([1024, 64])\n",
      "eigenvalues shape torch.Size([5]) eigenvectors shape torch.Size([5, 1024])\n",
      "815 /home/phdcs2/Hard_Disk/Datasets/Deep-Spectral-Segmentation/data/object-segmentation/ECSSD/features/0817_resized.pth\n",
      "dict_keys(['k', 'indices', 'file', 'id', 'model_name', 'patch_size', 'shape'])\n",
      "0817_resized\n",
      "Starting Training\n",
      "epoch: 00, loss: -0.91421\n",
      "epoch: 01, loss: -0.94838\n",
      "epoch: 02, loss: -0.95663\n",
      "epoch: 03, loss: -0.96135\n",
      "epoch: 04, loss: -0.96451\n",
      "epoch: 05, loss: -0.96688\n",
      "epoch: 06, loss: -0.96872\n",
      "epoch: 07, loss: -0.97021\n",
      "epoch: 08, loss: -0.97146\n",
      "epoch: 09, loss: -0.97251\n",
      "torch.Size([1024, 64])\n"
     ]
    },
    {
     "name": "stderr",
     "output_type": "stream",
     "text": [
      " 82%|████████▏ | 816/999 [9:42:07<1:20:33, 26.41s/it]"
     ]
    },
    {
     "name": "stdout",
     "output_type": "stream",
     "text": [
      "eigenvalues shape torch.Size([5]) eigenvectors shape torch.Size([5, 1024])\n",
      "816 /home/phdcs2/Hard_Disk/Datasets/Deep-Spectral-Segmentation/data/object-segmentation/ECSSD/features/0818_resized.pth\n",
      "dict_keys(['k', 'indices', 'file', 'id', 'model_name', 'patch_size', 'shape'])\n",
      "0818_resized\n",
      "Starting Training\n",
      "epoch: 00, loss: -0.86176\n",
      "epoch: 01, loss: -0.91541\n",
      "epoch: 02, loss: -0.92976\n",
      "epoch: 03, loss: -0.93762\n",
      "epoch: 04, loss: -0.94318\n",
      "epoch: 05, loss: -0.94712\n",
      "epoch: 06, loss: -0.95000\n",
      "epoch: 07, loss: -0.95255\n",
      "epoch: 08, loss: -0.95463\n",
      "epoch: 09, loss: -0.95635\n",
      "torch.Size([1024, 64])\n"
     ]
    },
    {
     "name": "stderr",
     "output_type": "stream",
     "text": [
      " 82%|████████▏ | 817/999 [9:42:34<1:20:10, 26.43s/it]"
     ]
    },
    {
     "name": "stdout",
     "output_type": "stream",
     "text": [
      "eigenvalues shape torch.Size([5]) eigenvectors shape torch.Size([5, 1024])\n",
      "817 /home/phdcs2/Hard_Disk/Datasets/Deep-Spectral-Segmentation/data/object-segmentation/ECSSD/features/0819_resized.pth\n",
      "dict_keys(['k', 'indices', 'file', 'id', 'model_name', 'patch_size', 'shape'])\n",
      "0819_resized\n",
      "Starting Training\n",
      "epoch: 00, loss: -0.89175\n",
      "epoch: 01, loss: -0.93707\n",
      "epoch: 02, loss: -0.94774\n",
      "epoch: 03, loss: -0.95369\n",
      "epoch: 04, loss: -0.95776\n",
      "epoch: 05, loss: -0.96074\n",
      "epoch: 06, loss: -0.96310\n",
      "epoch: 07, loss: -0.96494\n",
      "epoch: 08, loss: -0.96646\n"
     ]
    },
    {
     "name": "stderr",
     "output_type": "stream",
     "text": [
      " 82%|████████▏ | 818/999 [9:43:00<1:19:29, 26.35s/it]"
     ]
    },
    {
     "name": "stdout",
     "output_type": "stream",
     "text": [
      "epoch: 09, loss: -0.96786\n",
      "torch.Size([1024, 64])\n",
      "eigenvalues shape torch.Size([5]) eigenvectors shape torch.Size([5, 1024])\n",
      "818 /home/phdcs2/Hard_Disk/Datasets/Deep-Spectral-Segmentation/data/object-segmentation/ECSSD/features/0820_resized.pth\n",
      "dict_keys(['k', 'indices', 'file', 'id', 'model_name', 'patch_size', 'shape'])\n",
      "0820_resized\n",
      "Starting Training\n",
      "epoch: 00, loss: -0.90227\n",
      "epoch: 01, loss: -0.94138\n",
      "epoch: 02, loss: -0.95115\n",
      "epoch: 03, loss: -0.95677\n",
      "epoch: 04, loss: -0.96069\n",
      "epoch: 05, loss: -0.96344\n",
      "epoch: 06, loss: -0.96558\n",
      "epoch: 07, loss: -0.96735\n",
      "epoch: 08, loss: -0.96879\n",
      "epoch: 09, loss: -0.97007\n",
      "torch.Size([1024, 64])\n"
     ]
    },
    {
     "name": "stderr",
     "output_type": "stream",
     "text": [
      " 82%|████████▏ | 819/999 [9:43:27<1:20:09, 26.72s/it]"
     ]
    },
    {
     "name": "stdout",
     "output_type": "stream",
     "text": [
      "eigenvalues shape torch.Size([5]) eigenvectors shape torch.Size([5, 1024])\n",
      "819 /home/phdcs2/Hard_Disk/Datasets/Deep-Spectral-Segmentation/data/object-segmentation/ECSSD/features/0821_resized.pth\n",
      "dict_keys(['k', 'indices', 'file', 'id', 'model_name', 'patch_size', 'shape'])\n",
      "0821_resized\n",
      "Starting Training\n",
      "epoch: 00, loss: -0.91265\n",
      "epoch: 01, loss: -0.94708\n",
      "epoch: 02, loss: -0.95534\n",
      "epoch: 03, loss: -0.96013\n",
      "epoch: 04, loss: -0.96340\n",
      "epoch: 05, loss: -0.96583\n",
      "epoch: 06, loss: -0.96771\n",
      "epoch: 07, loss: -0.96926\n",
      "epoch: 08, loss: -0.97050\n",
      "epoch: 09, loss: -0.97163\n",
      "torch.Size([1024, 64])\n"
     ]
    },
    {
     "name": "stderr",
     "output_type": "stream",
     "text": [
      " 82%|████████▏ | 820/999 [9:43:53<1:18:49, 26.42s/it]"
     ]
    },
    {
     "name": "stdout",
     "output_type": "stream",
     "text": [
      "eigenvalues shape torch.Size([5]) eigenvectors shape torch.Size([5, 1024])\n",
      "820 /home/phdcs2/Hard_Disk/Datasets/Deep-Spectral-Segmentation/data/object-segmentation/ECSSD/features/0822_resized.pth\n",
      "dict_keys(['k', 'indices', 'file', 'id', 'model_name', 'patch_size', 'shape'])\n",
      "0822_resized\n",
      "Starting Training\n",
      "epoch: 00, loss: -0.94233\n",
      "epoch: 01, loss: -0.96387\n",
      "epoch: 02, loss: -0.96926\n",
      "epoch: 03, loss: -0.97242\n",
      "epoch: 04, loss: -0.97460\n",
      "epoch: 05, loss: -0.97627\n",
      "epoch: 06, loss: -0.97759\n",
      "epoch: 07, loss: -0.97864\n",
      "epoch: 08, loss: -0.97954\n",
      "epoch: 09, loss: -0.98031\n",
      "torch.Size([1024, 64])\n",
      "eigenvalues shape torch.Size([5]) eigenvectors shape torch.Size([5, 1024])\n"
     ]
    },
    {
     "name": "stderr",
     "output_type": "stream",
     "text": [
      " 82%|████████▏ | 821/999 [9:44:19<1:18:01, 26.30s/it]"
     ]
    },
    {
     "name": "stdout",
     "output_type": "stream",
     "text": [
      "821 /home/phdcs2/Hard_Disk/Datasets/Deep-Spectral-Segmentation/data/object-segmentation/ECSSD/features/0823_resized.pth\n",
      "dict_keys(['k', 'indices', 'file', 'id', 'model_name', 'patch_size', 'shape'])\n",
      "0823_resized\n",
      "Starting Training\n",
      "epoch: 00, loss: -0.94068\n",
      "epoch: 01, loss: -0.96336\n",
      "epoch: 02, loss: -0.96913\n",
      "epoch: 03, loss: -0.97245\n",
      "epoch: 04, loss: -0.97462\n",
      "epoch: 05, loss: -0.97633\n",
      "epoch: 06, loss: -0.97762\n",
      "epoch: 07, loss: -0.97870\n",
      "epoch: 08, loss: -0.97959\n"
     ]
    },
    {
     "name": "stderr",
     "output_type": "stream",
     "text": [
      " 82%|████████▏ | 822/999 [9:44:45<1:17:32, 26.28s/it]"
     ]
    },
    {
     "name": "stdout",
     "output_type": "stream",
     "text": [
      "epoch: 09, loss: -0.98034\n",
      "torch.Size([1024, 64])\n",
      "eigenvalues shape torch.Size([5]) eigenvectors shape torch.Size([5, 1024])\n",
      "822 /home/phdcs2/Hard_Disk/Datasets/Deep-Spectral-Segmentation/data/object-segmentation/ECSSD/features/0824_resized.pth\n",
      "dict_keys(['k', 'indices', 'file', 'id', 'model_name', 'patch_size', 'shape'])\n",
      "0824_resized\n",
      "Starting Training\n",
      "epoch: 00, loss: -0.89342\n",
      "epoch: 01, loss: -0.93325\n",
      "epoch: 02, loss: -0.94391\n",
      "epoch: 03, loss: -0.95019\n",
      "epoch: 04, loss: -0.95451\n",
      "epoch: 05, loss: -0.95758\n",
      "epoch: 06, loss: -0.96015\n",
      "epoch: 07, loss: -0.96206\n",
      "epoch: 08, loss: -0.96373\n",
      "epoch: 09, loss: -0.96516\n",
      "torch.Size([1024, 64])\n"
     ]
    },
    {
     "name": "stderr",
     "output_type": "stream",
     "text": [
      " 82%|████████▏ | 823/999 [9:45:11<1:16:37, 26.12s/it]"
     ]
    },
    {
     "name": "stdout",
     "output_type": "stream",
     "text": [
      "eigenvalues shape torch.Size([5]) eigenvectors shape torch.Size([5, 1024])\n",
      "823 /home/phdcs2/Hard_Disk/Datasets/Deep-Spectral-Segmentation/data/object-segmentation/ECSSD/features/0825_resized.pth\n",
      "dict_keys(['k', 'indices', 'file', 'id', 'model_name', 'patch_size', 'shape'])\n",
      "0825_resized\n",
      "Starting Training\n",
      "epoch: 00, loss: -0.92546\n",
      "epoch: 01, loss: -0.95489\n",
      "epoch: 02, loss: -0.96185\n",
      "epoch: 03, loss: -0.96596\n",
      "epoch: 04, loss: -0.96872\n",
      "epoch: 05, loss: -0.97084\n",
      "epoch: 06, loss: -0.97248\n",
      "epoch: 07, loss: -0.97382\n",
      "epoch: 08, loss: -0.97493\n",
      "epoch: 09, loss: -0.97587\n",
      "torch.Size([1024, 64])\n"
     ]
    },
    {
     "name": "stderr",
     "output_type": "stream",
     "text": [
      " 82%|████████▏ | 824/999 [9:45:38<1:16:36, 26.26s/it]"
     ]
    },
    {
     "name": "stdout",
     "output_type": "stream",
     "text": [
      "eigenvalues shape torch.Size([5]) eigenvectors shape torch.Size([5, 1024])\n",
      "824 /home/phdcs2/Hard_Disk/Datasets/Deep-Spectral-Segmentation/data/object-segmentation/ECSSD/features/0826_resized.pth\n",
      "dict_keys(['k', 'indices', 'file', 'id', 'model_name', 'patch_size', 'shape'])\n",
      "0826_resized\n",
      "Starting Training\n",
      "epoch: 00, loss: -0.93315\n",
      "epoch: 01, loss: -0.96201\n",
      "epoch: 02, loss: -0.96783\n",
      "epoch: 03, loss: -0.97122\n",
      "epoch: 04, loss: -0.97354\n",
      "epoch: 05, loss: -0.97523\n",
      "epoch: 06, loss: -0.97659\n",
      "epoch: 07, loss: -0.97768\n",
      "epoch: 08, loss: -0.97861\n"
     ]
    },
    {
     "name": "stderr",
     "output_type": "stream",
     "text": [
      " 83%|████████▎ | 825/999 [9:46:04<1:16:14, 26.29s/it]"
     ]
    },
    {
     "name": "stdout",
     "output_type": "stream",
     "text": [
      "epoch: 09, loss: -0.97939\n",
      "torch.Size([1024, 64])\n",
      "eigenvalues shape torch.Size([5]) eigenvectors shape torch.Size([5, 1024])\n",
      "825 /home/phdcs2/Hard_Disk/Datasets/Deep-Spectral-Segmentation/data/object-segmentation/ECSSD/features/0827_resized.pth\n",
      "dict_keys(['k', 'indices', 'file', 'id', 'model_name', 'patch_size', 'shape'])\n",
      "0827_resized\n",
      "Starting Training\n",
      "epoch: 00, loss: -0.91631\n",
      "epoch: 01, loss: -0.94896\n",
      "epoch: 02, loss: -0.95715\n",
      "epoch: 03, loss: -0.96189\n",
      "epoch: 04, loss: -0.96511\n",
      "epoch: 05, loss: -0.96751\n",
      "epoch: 06, loss: -0.96938\n",
      "epoch: 07, loss: -0.97088\n",
      "epoch: 08, loss: -0.97215\n"
     ]
    },
    {
     "name": "stderr",
     "output_type": "stream",
     "text": [
      " 83%|████████▎ | 826/999 [9:46:30<1:15:41, 26.25s/it]"
     ]
    },
    {
     "name": "stdout",
     "output_type": "stream",
     "text": [
      "epoch: 09, loss: -0.97322\n",
      "torch.Size([1024, 64])\n",
      "eigenvalues shape torch.Size([5]) eigenvectors shape torch.Size([5, 1024])\n",
      "826 /home/phdcs2/Hard_Disk/Datasets/Deep-Spectral-Segmentation/data/object-segmentation/ECSSD/features/0828_resized.pth\n",
      "dict_keys(['k', 'indices', 'file', 'id', 'model_name', 'patch_size', 'shape'])\n",
      "0828_resized\n",
      "Starting Training\n",
      "epoch: 00, loss: -0.89446\n",
      "epoch: 01, loss: -0.93530\n",
      "epoch: 02, loss: -0.94587\n",
      "epoch: 03, loss: -0.95154\n",
      "epoch: 04, loss: -0.95556\n",
      "epoch: 05, loss: -0.95849\n",
      "epoch: 06, loss: -0.96082\n",
      "epoch: 07, loss: -0.96267\n",
      "epoch: 08, loss: -0.96419\n",
      "epoch: 09, loss: -0.96550\n",
      "torch.Size([1024, 64])\n"
     ]
    },
    {
     "name": "stderr",
     "output_type": "stream",
     "text": [
      " 83%|████████▎ | 827/999 [9:46:57<1:15:42, 26.41s/it]"
     ]
    },
    {
     "name": "stdout",
     "output_type": "stream",
     "text": [
      "eigenvalues shape torch.Size([5]) eigenvectors shape torch.Size([5, 1024])\n",
      "827 /home/phdcs2/Hard_Disk/Datasets/Deep-Spectral-Segmentation/data/object-segmentation/ECSSD/features/0829_resized.pth\n",
      "dict_keys(['k', 'indices', 'file', 'id', 'model_name', 'patch_size', 'shape'])\n",
      "0829_resized\n",
      "Starting Training\n",
      "epoch: 00, loss: -0.90908\n",
      "epoch: 01, loss: -0.94486\n",
      "epoch: 02, loss: -0.95338\n",
      "epoch: 03, loss: -0.95831\n",
      "epoch: 04, loss: -0.96168\n",
      "epoch: 05, loss: -0.96417\n",
      "epoch: 06, loss: -0.96613\n",
      "epoch: 07, loss: -0.96777\n",
      "epoch: 08, loss: -0.96907\n"
     ]
    },
    {
     "name": "stderr",
     "output_type": "stream",
     "text": [
      " 83%|████████▎ | 828/999 [9:47:23<1:14:56, 26.30s/it]"
     ]
    },
    {
     "name": "stdout",
     "output_type": "stream",
     "text": [
      "epoch: 09, loss: -0.97021\n",
      "torch.Size([1024, 64])\n",
      "eigenvalues shape torch.Size([5]) eigenvectors shape torch.Size([5, 1024])\n",
      "828 /home/phdcs2/Hard_Disk/Datasets/Deep-Spectral-Segmentation/data/object-segmentation/ECSSD/features/0830_resized.pth\n",
      "dict_keys(['k', 'indices', 'file', 'id', 'model_name', 'patch_size', 'shape'])\n",
      "0830_resized\n",
      "Starting Training\n",
      "epoch: 00, loss: -0.92099\n",
      "epoch: 01, loss: -0.95293\n",
      "epoch: 02, loss: -0.96045\n",
      "epoch: 03, loss: -0.96475\n",
      "epoch: 04, loss: -0.96760\n",
      "epoch: 05, loss: -0.96972\n",
      "epoch: 06, loss: -0.97140\n",
      "epoch: 07, loss: -0.97278\n",
      "epoch: 08, loss: -0.97390\n"
     ]
    },
    {
     "name": "stderr",
     "output_type": "stream",
     "text": [
      " 83%|████████▎ | 829/999 [9:47:49<1:14:35, 26.33s/it]"
     ]
    },
    {
     "name": "stdout",
     "output_type": "stream",
     "text": [
      "epoch: 09, loss: -0.97487\n",
      "torch.Size([1024, 64])\n",
      "eigenvalues shape torch.Size([5]) eigenvectors shape torch.Size([5, 1024])\n",
      "829 /home/phdcs2/Hard_Disk/Datasets/Deep-Spectral-Segmentation/data/object-segmentation/ECSSD/features/0831_resized.pth\n",
      "dict_keys(['k', 'indices', 'file', 'id', 'model_name', 'patch_size', 'shape'])\n",
      "0831_resized\n",
      "Starting Training\n",
      "epoch: 00, loss: -0.92834\n",
      "epoch: 01, loss: -0.95908\n",
      "epoch: 02, loss: -0.96547\n",
      "epoch: 03, loss: -0.96921\n",
      "epoch: 04, loss: -0.97167\n",
      "epoch: 05, loss: -0.97355\n",
      "epoch: 06, loss: -0.97501\n",
      "epoch: 07, loss: -0.97620\n",
      "epoch: 08, loss: -0.97719\n",
      "epoch: 09, loss: -0.97804\n",
      "torch.Size([1024, 64])\n"
     ]
    },
    {
     "name": "stderr",
     "output_type": "stream",
     "text": [
      " 83%|████████▎ | 830/999 [9:48:16<1:14:23, 26.41s/it]"
     ]
    },
    {
     "name": "stdout",
     "output_type": "stream",
     "text": [
      "eigenvalues shape torch.Size([5]) eigenvectors shape torch.Size([5, 1024])\n",
      "830 /home/phdcs2/Hard_Disk/Datasets/Deep-Spectral-Segmentation/data/object-segmentation/ECSSD/features/0832_resized.pth\n",
      "dict_keys(['k', 'indices', 'file', 'id', 'model_name', 'patch_size', 'shape'])\n",
      "0832_resized\n",
      "Starting Training\n",
      "epoch: 00, loss: -0.92774\n",
      "epoch: 01, loss: -0.95579\n",
      "epoch: 02, loss: -0.96231\n",
      "epoch: 03, loss: -0.96624\n",
      "epoch: 04, loss: -0.96885\n",
      "epoch: 05, loss: -0.97088\n",
      "epoch: 06, loss: -0.97243\n",
      "epoch: 07, loss: -0.97370\n",
      "epoch: 08, loss: -0.97474\n",
      "epoch: 09, loss: -0.97570\n",
      "torch.Size([1024, 64])\n"
     ]
    },
    {
     "name": "stderr",
     "output_type": "stream",
     "text": [
      " 83%|████████▎ | 831/999 [9:48:42<1:13:44, 26.33s/it]"
     ]
    },
    {
     "name": "stdout",
     "output_type": "stream",
     "text": [
      "eigenvalues shape torch.Size([5]) eigenvectors shape torch.Size([5, 1024])\n",
      "831 /home/phdcs2/Hard_Disk/Datasets/Deep-Spectral-Segmentation/data/object-segmentation/ECSSD/features/0833_resized.pth\n",
      "dict_keys(['k', 'indices', 'file', 'id', 'model_name', 'patch_size', 'shape'])\n",
      "0833_resized\n",
      "Starting Training\n",
      "epoch: 00, loss: -0.89775\n",
      "epoch: 01, loss: -0.93812\n",
      "epoch: 02, loss: -0.94826\n",
      "epoch: 03, loss: -0.95415\n",
      "epoch: 04, loss: -0.95805\n",
      "epoch: 05, loss: -0.96091\n",
      "epoch: 06, loss: -0.96318\n",
      "epoch: 07, loss: -0.96504\n",
      "epoch: 08, loss: -0.96649\n",
      "epoch: 09, loss: -0.96778\n",
      "torch.Size([1024, 64])\n"
     ]
    },
    {
     "name": "stderr",
     "output_type": "stream",
     "text": [
      " 83%|████████▎ | 832/999 [9:49:08<1:12:57, 26.21s/it]"
     ]
    },
    {
     "name": "stdout",
     "output_type": "stream",
     "text": [
      "eigenvalues shape torch.Size([5]) eigenvectors shape torch.Size([5, 1024])\n",
      "832 /home/phdcs2/Hard_Disk/Datasets/Deep-Spectral-Segmentation/data/object-segmentation/ECSSD/features/0834_resized.pth\n",
      "dict_keys(['k', 'indices', 'file', 'id', 'model_name', 'patch_size', 'shape'])\n",
      "0834_resized\n",
      "Starting Training\n",
      "epoch: 00, loss: -0.88865\n",
      "epoch: 01, loss: -0.93381\n",
      "epoch: 02, loss: -0.94470\n",
      "epoch: 03, loss: -0.95098\n",
      "epoch: 04, loss: -0.95517\n",
      "epoch: 05, loss: -0.95833\n",
      "epoch: 06, loss: -0.96074\n",
      "epoch: 07, loss: -0.96270\n",
      "epoch: 08, loss: -0.96441\n"
     ]
    },
    {
     "name": "stderr",
     "output_type": "stream",
     "text": [
      " 83%|████████▎ | 833/999 [9:49:35<1:12:54, 26.35s/it]"
     ]
    },
    {
     "name": "stdout",
     "output_type": "stream",
     "text": [
      "epoch: 09, loss: -0.96582\n",
      "torch.Size([1024, 64])\n",
      "eigenvalues shape torch.Size([5]) eigenvectors shape torch.Size([5, 1024])\n",
      "833 /home/phdcs2/Hard_Disk/Datasets/Deep-Spectral-Segmentation/data/object-segmentation/ECSSD/features/0835_resized.pth\n",
      "dict_keys(['k', 'indices', 'file', 'id', 'model_name', 'patch_size', 'shape'])\n",
      "0835_resized\n",
      "Starting Training\n",
      "epoch: 00, loss: -0.92196\n",
      "epoch: 01, loss: -0.95430\n",
      "epoch: 02, loss: -0.96167\n",
      "epoch: 03, loss: -0.96588\n",
      "epoch: 04, loss: -0.96876\n",
      "epoch: 05, loss: -0.97089\n",
      "epoch: 06, loss: -0.97254\n",
      "epoch: 07, loss: -0.97390\n",
      "epoch: 08, loss: -0.97505\n",
      "epoch: 09, loss: -0.97599\n",
      "torch.Size([1024, 64])\n"
     ]
    },
    {
     "name": "stderr",
     "output_type": "stream",
     "text": [
      " 83%|████████▎ | 834/999 [9:50:04<1:14:55, 27.24s/it]"
     ]
    },
    {
     "name": "stdout",
     "output_type": "stream",
     "text": [
      "eigenvalues shape torch.Size([5]) eigenvectors shape torch.Size([5, 1024])\n",
      "834 /home/phdcs2/Hard_Disk/Datasets/Deep-Spectral-Segmentation/data/object-segmentation/ECSSD/features/0836_resized.pth\n",
      "dict_keys(['k', 'indices', 'file', 'id', 'model_name', 'patch_size', 'shape'])\n",
      "0836_resized\n",
      "Starting Training\n",
      "epoch: 00, loss: -0.91434\n",
      "epoch: 01, loss: -0.94766\n",
      "epoch: 02, loss: -0.95583\n",
      "epoch: 03, loss: -0.96050\n",
      "epoch: 04, loss: -0.96370\n",
      "epoch: 05, loss: -0.96606\n",
      "epoch: 06, loss: -0.96795\n",
      "epoch: 07, loss: -0.96945\n",
      "epoch: 08, loss: -0.97074\n",
      "epoch: 09, loss: -0.97179\n",
      "torch.Size([1024, 64])\n"
     ]
    },
    {
     "name": "stderr",
     "output_type": "stream",
     "text": [
      " 84%|████████▎ | 835/999 [9:50:31<1:14:23, 27.21s/it]"
     ]
    },
    {
     "name": "stdout",
     "output_type": "stream",
     "text": [
      "eigenvalues shape torch.Size([5]) eigenvectors shape torch.Size([5, 1024])\n",
      "835 /home/phdcs2/Hard_Disk/Datasets/Deep-Spectral-Segmentation/data/object-segmentation/ECSSD/features/0837_resized.pth\n",
      "dict_keys(['k', 'indices', 'file', 'id', 'model_name', 'patch_size', 'shape'])\n",
      "0837_resized\n",
      "Starting Training\n",
      "epoch: 00, loss: -0.91578\n",
      "epoch: 01, loss: -0.94947\n",
      "epoch: 02, loss: -0.95780\n",
      "epoch: 03, loss: -0.96252\n",
      "epoch: 04, loss: -0.96580\n",
      "epoch: 05, loss: -0.96828\n",
      "epoch: 06, loss: -0.97012\n",
      "epoch: 07, loss: -0.97161\n",
      "epoch: 08, loss: -0.97295\n",
      "epoch: 09, loss: -0.97399\n",
      "torch.Size([1024, 64])\n"
     ]
    },
    {
     "name": "stderr",
     "output_type": "stream",
     "text": [
      " 84%|████████▎ | 836/999 [9:50:58<1:13:52, 27.19s/it]"
     ]
    },
    {
     "name": "stdout",
     "output_type": "stream",
     "text": [
      "eigenvalues shape torch.Size([5]) eigenvectors shape torch.Size([5, 1024])\n",
      "836 /home/phdcs2/Hard_Disk/Datasets/Deep-Spectral-Segmentation/data/object-segmentation/ECSSD/features/0838_resized.pth\n",
      "dict_keys(['k', 'indices', 'file', 'id', 'model_name', 'patch_size', 'shape'])\n",
      "0838_resized\n",
      "Starting Training\n",
      "epoch: 00, loss: -0.88624\n",
      "epoch: 01, loss: -0.93220\n",
      "epoch: 02, loss: -0.94324\n",
      "epoch: 03, loss: -0.94951\n",
      "epoch: 04, loss: -0.95404\n",
      "epoch: 05, loss: -0.95717\n",
      "epoch: 06, loss: -0.95975\n",
      "epoch: 07, loss: -0.96169\n",
      "epoch: 08, loss: -0.96345\n"
     ]
    },
    {
     "name": "stderr",
     "output_type": "stream",
     "text": [
      " 84%|████████▍ | 837/999 [9:51:25<1:13:15, 27.14s/it]"
     ]
    },
    {
     "name": "stdout",
     "output_type": "stream",
     "text": [
      "epoch: 09, loss: -0.96486\n",
      "torch.Size([1024, 64])\n",
      "eigenvalues shape torch.Size([5]) eigenvectors shape torch.Size([5, 1024])\n",
      "837 /home/phdcs2/Hard_Disk/Datasets/Deep-Spectral-Segmentation/data/object-segmentation/ECSSD/features/0839_resized.pth\n",
      "dict_keys(['k', 'indices', 'file', 'id', 'model_name', 'patch_size', 'shape'])\n",
      "0839_resized\n",
      "Starting Training\n",
      "epoch: 00, loss: -0.92383\n",
      "epoch: 01, loss: -0.95220\n",
      "epoch: 02, loss: -0.95964\n",
      "epoch: 03, loss: -0.96395\n",
      "epoch: 04, loss: -0.96695\n",
      "epoch: 05, loss: -0.96912\n",
      "epoch: 06, loss: -0.97087\n",
      "epoch: 07, loss: -0.97227\n",
      "epoch: 08, loss: -0.97343\n",
      "epoch: 09, loss: -0.97446\n",
      "torch.Size([1024, 64])\n"
     ]
    },
    {
     "name": "stderr",
     "output_type": "stream",
     "text": [
      " 84%|████████▍ | 838/999 [9:51:51<1:11:55, 26.81s/it]"
     ]
    },
    {
     "name": "stdout",
     "output_type": "stream",
     "text": [
      "eigenvalues shape torch.Size([5]) eigenvectors shape torch.Size([5, 1024])\n",
      "838 /home/phdcs2/Hard_Disk/Datasets/Deep-Spectral-Segmentation/data/object-segmentation/ECSSD/features/0840_resized.pth\n",
      "dict_keys(['k', 'indices', 'file', 'id', 'model_name', 'patch_size', 'shape'])\n",
      "0840_resized\n",
      "Starting Training\n",
      "epoch: 00, loss: -0.91166\n",
      "epoch: 01, loss: -0.94606\n",
      "epoch: 02, loss: -0.95444\n",
      "epoch: 03, loss: -0.95924\n",
      "epoch: 04, loss: -0.96254\n",
      "epoch: 05, loss: -0.96496\n",
      "epoch: 06, loss: -0.96692\n",
      "epoch: 07, loss: -0.96849\n",
      "epoch: 08, loss: -0.96986\n",
      "epoch: 09, loss: -0.97100\n",
      "torch.Size([1024, 64])\n"
     ]
    },
    {
     "name": "stderr",
     "output_type": "stream",
     "text": [
      " 84%|████████▍ | 839/999 [9:52:18<1:11:28, 26.80s/it]"
     ]
    },
    {
     "name": "stdout",
     "output_type": "stream",
     "text": [
      "eigenvalues shape torch.Size([5]) eigenvectors shape torch.Size([5, 1024])\n",
      "839 /home/phdcs2/Hard_Disk/Datasets/Deep-Spectral-Segmentation/data/object-segmentation/ECSSD/features/0841_resized.pth\n",
      "dict_keys(['k', 'indices', 'file', 'id', 'model_name', 'patch_size', 'shape'])\n",
      "0841_resized\n",
      "Starting Training\n",
      "epoch: 00, loss: -0.90915\n",
      "epoch: 01, loss: -0.94439\n",
      "epoch: 02, loss: -0.95276\n",
      "epoch: 03, loss: -0.95763\n",
      "epoch: 04, loss: -0.96097\n",
      "epoch: 05, loss: -0.96347\n",
      "epoch: 06, loss: -0.96541\n",
      "epoch: 07, loss: -0.96702\n",
      "epoch: 08, loss: -0.96838\n",
      "epoch: 09, loss: -0.96950\n",
      "torch.Size([1024, 64])\n"
     ]
    },
    {
     "name": "stderr",
     "output_type": "stream",
     "text": [
      " 84%|████████▍ | 840/999 [9:52:45<1:10:41, 26.68s/it]"
     ]
    },
    {
     "name": "stdout",
     "output_type": "stream",
     "text": [
      "eigenvalues shape torch.Size([5]) eigenvectors shape torch.Size([5, 1024])\n",
      "840 /home/phdcs2/Hard_Disk/Datasets/Deep-Spectral-Segmentation/data/object-segmentation/ECSSD/features/0842_resized.pth\n",
      "dict_keys(['k', 'indices', 'file', 'id', 'model_name', 'patch_size', 'shape'])\n",
      "0842_resized\n",
      "Starting Training\n",
      "epoch: 00, loss: -0.93527\n",
      "epoch: 01, loss: -0.96127\n",
      "epoch: 02, loss: -0.96702\n",
      "epoch: 03, loss: -0.97045\n",
      "epoch: 04, loss: -0.97276\n",
      "epoch: 05, loss: -0.97450\n",
      "epoch: 06, loss: -0.97588\n",
      "epoch: 07, loss: -0.97702\n",
      "epoch: 08, loss: -0.97799\n",
      "epoch: 09, loss: -0.97878\n",
      "torch.Size([1024, 64])\n"
     ]
    },
    {
     "name": "stderr",
     "output_type": "stream",
     "text": [
      " 84%|████████▍ | 841/999 [9:53:12<1:11:04, 26.99s/it]"
     ]
    },
    {
     "name": "stdout",
     "output_type": "stream",
     "text": [
      "eigenvalues shape torch.Size([5]) eigenvectors shape torch.Size([5, 1024])\n",
      "841 /home/phdcs2/Hard_Disk/Datasets/Deep-Spectral-Segmentation/data/object-segmentation/ECSSD/features/0843_resized.pth\n",
      "dict_keys(['k', 'indices', 'file', 'id', 'model_name', 'patch_size', 'shape'])\n",
      "0843_resized\n",
      "Starting Training\n",
      "epoch: 00, loss: -0.89576\n",
      "epoch: 01, loss: -0.93932\n",
      "epoch: 02, loss: -0.94916\n",
      "epoch: 03, loss: -0.95484\n",
      "epoch: 04, loss: -0.95869\n",
      "epoch: 05, loss: -0.96149\n",
      "epoch: 06, loss: -0.96365\n",
      "epoch: 07, loss: -0.96546\n",
      "epoch: 08, loss: -0.96700\n"
     ]
    },
    {
     "name": "stderr",
     "output_type": "stream",
     "text": [
      " 84%|████████▍ | 842/999 [9:53:39<1:10:06, 26.79s/it]"
     ]
    },
    {
     "name": "stdout",
     "output_type": "stream",
     "text": [
      "epoch: 09, loss: -0.96822\n",
      "torch.Size([1024, 64])\n",
      "eigenvalues shape torch.Size([5]) eigenvectors shape torch.Size([5, 1024])\n",
      "842 /home/phdcs2/Hard_Disk/Datasets/Deep-Spectral-Segmentation/data/object-segmentation/ECSSD/features/0844_resized.pth\n",
      "dict_keys(['k', 'indices', 'file', 'id', 'model_name', 'patch_size', 'shape'])\n",
      "0844_resized\n",
      "Starting Training\n",
      "epoch: 00, loss: -0.89183\n",
      "epoch: 01, loss: -0.93733\n",
      "epoch: 02, loss: -0.94789\n",
      "epoch: 03, loss: -0.95397\n",
      "epoch: 04, loss: -0.95805\n",
      "epoch: 05, loss: -0.96105\n",
      "epoch: 06, loss: -0.96336\n",
      "epoch: 07, loss: -0.96527\n",
      "epoch: 08, loss: -0.96679\n"
     ]
    },
    {
     "name": "stderr",
     "output_type": "stream",
     "text": [
      " 84%|████████▍ | 843/999 [9:54:05<1:09:26, 26.71s/it]"
     ]
    },
    {
     "name": "stdout",
     "output_type": "stream",
     "text": [
      "epoch: 09, loss: -0.96820\n",
      "torch.Size([1024, 64])\n",
      "eigenvalues shape torch.Size([5]) eigenvectors shape torch.Size([5, 1024])\n",
      "843 /home/phdcs2/Hard_Disk/Datasets/Deep-Spectral-Segmentation/data/object-segmentation/ECSSD/features/0845_resized.pth\n",
      "dict_keys(['k', 'indices', 'file', 'id', 'model_name', 'patch_size', 'shape'])\n",
      "0845_resized\n",
      "Starting Training\n",
      "epoch: 00, loss: -0.90813\n",
      "epoch: 01, loss: -0.94495\n",
      "epoch: 02, loss: -0.95382\n",
      "epoch: 03, loss: -0.95903\n",
      "epoch: 04, loss: -0.96273\n",
      "epoch: 05, loss: -0.96535\n",
      "epoch: 06, loss: -0.96741\n",
      "epoch: 07, loss: -0.96908\n",
      "epoch: 08, loss: -0.97053\n",
      "epoch: 09, loss: -0.97169\n",
      "torch.Size([1024, 64])\n"
     ]
    },
    {
     "name": "stderr",
     "output_type": "stream",
     "text": [
      " 84%|████████▍ | 844/999 [9:54:32<1:09:21, 26.85s/it]"
     ]
    },
    {
     "name": "stdout",
     "output_type": "stream",
     "text": [
      "eigenvalues shape torch.Size([5]) eigenvectors shape torch.Size([5, 1024])\n",
      "844 /home/phdcs2/Hard_Disk/Datasets/Deep-Spectral-Segmentation/data/object-segmentation/ECSSD/features/0846_resized.pth\n",
      "dict_keys(['k', 'indices', 'file', 'id', 'model_name', 'patch_size', 'shape'])\n",
      "0846_resized\n",
      "Starting Training\n",
      "epoch: 00, loss: -0.92348\n",
      "epoch: 01, loss: -0.95504\n",
      "epoch: 02, loss: -0.96209\n",
      "epoch: 03, loss: -0.96624\n",
      "epoch: 04, loss: -0.96906\n",
      "epoch: 05, loss: -0.97115\n",
      "epoch: 06, loss: -0.97277\n",
      "epoch: 07, loss: -0.97413\n",
      "epoch: 08, loss: -0.97524\n",
      "epoch: 09, loss: -0.97618\n",
      "torch.Size([1024, 64])\n"
     ]
    },
    {
     "name": "stderr",
     "output_type": "stream",
     "text": [
      " 85%|████████▍ | 845/999 [9:54:59<1:09:06, 26.92s/it]"
     ]
    },
    {
     "name": "stdout",
     "output_type": "stream",
     "text": [
      "eigenvalues shape torch.Size([5]) eigenvectors shape torch.Size([5, 1024])\n",
      "845 /home/phdcs2/Hard_Disk/Datasets/Deep-Spectral-Segmentation/data/object-segmentation/ECSSD/features/0847_resized.pth\n",
      "dict_keys(['k', 'indices', 'file', 'id', 'model_name', 'patch_size', 'shape'])\n",
      "0847_resized\n",
      "Starting Training\n",
      "epoch: 00, loss: -0.90561\n",
      "epoch: 01, loss: -0.94499\n",
      "epoch: 02, loss: -0.95385\n",
      "epoch: 03, loss: -0.95903\n",
      "epoch: 04, loss: -0.96252\n",
      "epoch: 05, loss: -0.96506\n",
      "epoch: 06, loss: -0.96704\n",
      "epoch: 07, loss: -0.96868\n",
      "epoch: 08, loss: -0.97008\n",
      "epoch: 09, loss: -0.97117\n",
      "torch.Size([1024, 64])\n"
     ]
    },
    {
     "name": "stderr",
     "output_type": "stream",
     "text": [
      " 85%|████████▍ | 846/999 [9:55:27<1:08:44, 26.96s/it]"
     ]
    },
    {
     "name": "stdout",
     "output_type": "stream",
     "text": [
      "eigenvalues shape torch.Size([5]) eigenvectors shape torch.Size([5, 1024])\n",
      "846 /home/phdcs2/Hard_Disk/Datasets/Deep-Spectral-Segmentation/data/object-segmentation/ECSSD/features/0848_resized.pth\n",
      "dict_keys(['k', 'indices', 'file', 'id', 'model_name', 'patch_size', 'shape'])\n",
      "0848_resized\n",
      "Starting Training\n",
      "epoch: 00, loss: -0.92115\n",
      "epoch: 01, loss: -0.95201\n",
      "epoch: 02, loss: -0.95933\n",
      "epoch: 03, loss: -0.96361\n",
      "epoch: 04, loss: -0.96651\n",
      "epoch: 05, loss: -0.96872\n",
      "epoch: 06, loss: -0.97038\n",
      "epoch: 07, loss: -0.97179\n",
      "epoch: 08, loss: -0.97293\n",
      "epoch: 09, loss: -0.97393\n",
      "torch.Size([1024, 64])\n"
     ]
    },
    {
     "name": "stderr",
     "output_type": "stream",
     "text": [
      " 85%|████████▍ | 847/999 [9:55:53<1:08:04, 26.87s/it]"
     ]
    },
    {
     "name": "stdout",
     "output_type": "stream",
     "text": [
      "eigenvalues shape torch.Size([5]) eigenvectors shape torch.Size([5, 1024])\n",
      "847 /home/phdcs2/Hard_Disk/Datasets/Deep-Spectral-Segmentation/data/object-segmentation/ECSSD/features/0849_resized.pth\n",
      "dict_keys(['k', 'indices', 'file', 'id', 'model_name', 'patch_size', 'shape'])\n",
      "0849_resized\n",
      "Starting Training\n",
      "epoch: 00, loss: -0.90402\n",
      "epoch: 01, loss: -0.94559\n",
      "epoch: 02, loss: -0.95441\n",
      "epoch: 03, loss: -0.95951\n",
      "epoch: 04, loss: -0.96295\n",
      "epoch: 05, loss: -0.96547\n",
      "epoch: 06, loss: -0.96745\n",
      "epoch: 07, loss: -0.96907\n",
      "epoch: 08, loss: -0.97039\n",
      "epoch: 09, loss: -0.97154\n",
      "torch.Size([1024, 64])\n"
     ]
    },
    {
     "name": "stderr",
     "output_type": "stream",
     "text": [
      " 85%|████████▍ | 848/999 [9:56:20<1:07:12, 26.71s/it]"
     ]
    },
    {
     "name": "stdout",
     "output_type": "stream",
     "text": [
      "eigenvalues shape torch.Size([5]) eigenvectors shape torch.Size([5, 1024])\n",
      "848 /home/phdcs2/Hard_Disk/Datasets/Deep-Spectral-Segmentation/data/object-segmentation/ECSSD/features/0850_resized.pth\n",
      "dict_keys(['k', 'indices', 'file', 'id', 'model_name', 'patch_size', 'shape'])\n",
      "0850_resized\n",
      "Starting Training\n",
      "epoch: 00, loss: -0.88882\n",
      "epoch: 01, loss: -0.93167\n",
      "epoch: 02, loss: -0.94307\n",
      "epoch: 03, loss: -0.94940\n",
      "epoch: 04, loss: -0.95369\n",
      "epoch: 05, loss: -0.95688\n",
      "epoch: 06, loss: -0.95938\n",
      "epoch: 07, loss: -0.96128\n",
      "epoch: 08, loss: -0.96303\n",
      "epoch: 09, loss: -0.96442\n",
      "torch.Size([1024, 64])\n"
     ]
    },
    {
     "name": "stderr",
     "output_type": "stream",
     "text": [
      " 85%|████████▍ | 849/999 [9:56:47<1:07:30, 27.00s/it]"
     ]
    },
    {
     "name": "stdout",
     "output_type": "stream",
     "text": [
      "eigenvalues shape torch.Size([5]) eigenvectors shape torch.Size([5, 1024])\n",
      "849 /home/phdcs2/Hard_Disk/Datasets/Deep-Spectral-Segmentation/data/object-segmentation/ECSSD/features/0851_resized.pth\n",
      "dict_keys(['k', 'indices', 'file', 'id', 'model_name', 'patch_size', 'shape'])\n",
      "0851_resized\n",
      "Starting Training\n",
      "epoch: 00, loss: -0.90379\n",
      "epoch: 01, loss: -0.94367\n",
      "epoch: 02, loss: -0.95297\n",
      "epoch: 03, loss: -0.95815\n",
      "epoch: 04, loss: -0.96169\n",
      "epoch: 05, loss: -0.96425\n",
      "epoch: 06, loss: -0.96642\n",
      "epoch: 07, loss: -0.96803\n",
      "epoch: 08, loss: -0.96943\n",
      "epoch: 09, loss: -0.97064\n",
      "torch.Size([1024, 64])\n"
     ]
    },
    {
     "name": "stderr",
     "output_type": "stream",
     "text": [
      " 85%|████████▌ | 850/999 [9:57:13<1:06:29, 26.77s/it]"
     ]
    },
    {
     "name": "stdout",
     "output_type": "stream",
     "text": [
      "eigenvalues shape torch.Size([5]) eigenvectors shape torch.Size([5, 1024])\n",
      "850 /home/phdcs2/Hard_Disk/Datasets/Deep-Spectral-Segmentation/data/object-segmentation/ECSSD/features/0852_resized.pth\n",
      "dict_keys(['k', 'indices', 'file', 'id', 'model_name', 'patch_size', 'shape'])\n",
      "0852_resized\n",
      "Starting Training\n",
      "epoch: 00, loss: -0.87213\n",
      "epoch: 01, loss: -0.91958\n",
      "epoch: 02, loss: -0.93289\n",
      "epoch: 03, loss: -0.94039\n",
      "epoch: 04, loss: -0.94545\n",
      "epoch: 05, loss: -0.94934\n",
      "epoch: 06, loss: -0.95218\n",
      "epoch: 07, loss: -0.95461\n",
      "epoch: 08, loss: -0.95661\n"
     ]
    },
    {
     "name": "stderr",
     "output_type": "stream",
     "text": [
      " 85%|████████▌ | 851/999 [9:57:39<1:05:28, 26.54s/it]"
     ]
    },
    {
     "name": "stdout",
     "output_type": "stream",
     "text": [
      "epoch: 09, loss: -0.95835\n",
      "torch.Size([1024, 64])\n",
      "eigenvalues shape torch.Size([5]) eigenvectors shape torch.Size([5, 1024])\n",
      "851 /home/phdcs2/Hard_Disk/Datasets/Deep-Spectral-Segmentation/data/object-segmentation/ECSSD/features/0853_resized.pth\n",
      "dict_keys(['k', 'indices', 'file', 'id', 'model_name', 'patch_size', 'shape'])\n",
      "0853_resized\n",
      "Starting Training\n",
      "epoch: 00, loss: -0.89584\n",
      "epoch: 01, loss: -0.93473\n",
      "epoch: 02, loss: -0.94524\n",
      "epoch: 03, loss: -0.95151\n",
      "epoch: 04, loss: -0.95573\n",
      "epoch: 05, loss: -0.95870\n",
      "epoch: 06, loss: -0.96107\n",
      "epoch: 07, loss: -0.96310\n",
      "epoch: 08, loss: -0.96468\n",
      "epoch: 09, loss: -0.96605\n",
      "torch.Size([1024, 64])\n"
     ]
    },
    {
     "name": "stderr",
     "output_type": "stream",
     "text": [
      " 85%|████████▌ | 852/999 [9:58:07<1:05:30, 26.74s/it]"
     ]
    },
    {
     "name": "stdout",
     "output_type": "stream",
     "text": [
      "eigenvalues shape torch.Size([5]) eigenvectors shape torch.Size([5, 1024])\n",
      "852 /home/phdcs2/Hard_Disk/Datasets/Deep-Spectral-Segmentation/data/object-segmentation/ECSSD/features/0854_resized.pth\n",
      "dict_keys(['k', 'indices', 'file', 'id', 'model_name', 'patch_size', 'shape'])\n",
      "0854_resized\n",
      "Starting Training\n",
      "epoch: 00, loss: -0.92483\n",
      "epoch: 01, loss: -0.95598\n",
      "epoch: 02, loss: -0.96244\n",
      "epoch: 03, loss: -0.96620\n",
      "epoch: 04, loss: -0.96881\n",
      "epoch: 05, loss: -0.97074\n",
      "epoch: 06, loss: -0.97228\n",
      "epoch: 07, loss: -0.97352\n",
      "epoch: 08, loss: -0.97457\n",
      "epoch: 09, loss: -0.97548\n",
      "torch.Size([1024, 64])\n"
     ]
    },
    {
     "name": "stderr",
     "output_type": "stream",
     "text": [
      " 85%|████████▌ | 853/999 [9:58:33<1:04:29, 26.50s/it]"
     ]
    },
    {
     "name": "stdout",
     "output_type": "stream",
     "text": [
      "eigenvalues shape torch.Size([5]) eigenvectors shape torch.Size([5, 1024])\n",
      "853 /home/phdcs2/Hard_Disk/Datasets/Deep-Spectral-Segmentation/data/object-segmentation/ECSSD/features/0855_resized.pth\n",
      "dict_keys(['k', 'indices', 'file', 'id', 'model_name', 'patch_size', 'shape'])\n",
      "0855_resized\n",
      "Starting Training\n",
      "epoch: 00, loss: -0.89428\n",
      "epoch: 01, loss: -0.93699\n",
      "epoch: 02, loss: -0.94730\n",
      "epoch: 03, loss: -0.95334\n",
      "epoch: 04, loss: -0.95725\n",
      "epoch: 05, loss: -0.96021\n",
      "epoch: 06, loss: -0.96262\n",
      "epoch: 07, loss: -0.96459\n",
      "epoch: 08, loss: -0.96614\n",
      "epoch: 09, loss: -0.96741\n",
      "torch.Size([1024, 64])\n"
     ]
    },
    {
     "name": "stderr",
     "output_type": "stream",
     "text": [
      " 85%|████████▌ | 854/999 [9:58:58<1:03:30, 26.28s/it]"
     ]
    },
    {
     "name": "stdout",
     "output_type": "stream",
     "text": [
      "eigenvalues shape torch.Size([5]) eigenvectors shape torch.Size([5, 1024])\n",
      "854 /home/phdcs2/Hard_Disk/Datasets/Deep-Spectral-Segmentation/data/object-segmentation/ECSSD/features/0856_resized.pth\n",
      "dict_keys(['k', 'indices', 'file', 'id', 'model_name', 'patch_size', 'shape'])\n",
      "0856_resized\n",
      "Starting Training\n",
      "epoch: 00, loss: -0.93129\n",
      "epoch: 01, loss: -0.95914\n",
      "epoch: 02, loss: -0.96545\n",
      "epoch: 03, loss: -0.96912\n",
      "epoch: 04, loss: -0.97166\n",
      "epoch: 05, loss: -0.97353\n",
      "epoch: 06, loss: -0.97501\n",
      "epoch: 07, loss: -0.97621\n",
      "epoch: 08, loss: -0.97721\n"
     ]
    },
    {
     "name": "stderr",
     "output_type": "stream",
     "text": [
      " 86%|████████▌ | 855/999 [9:59:25<1:03:01, 26.26s/it]"
     ]
    },
    {
     "name": "stdout",
     "output_type": "stream",
     "text": [
      "epoch: 09, loss: -0.97808\n",
      "torch.Size([1024, 64])\n",
      "eigenvalues shape torch.Size([5]) eigenvectors shape torch.Size([5, 1024])\n",
      "855 /home/phdcs2/Hard_Disk/Datasets/Deep-Spectral-Segmentation/data/object-segmentation/ECSSD/features/0857_resized.pth\n",
      "dict_keys(['k', 'indices', 'file', 'id', 'model_name', 'patch_size', 'shape'])\n",
      "0857_resized\n",
      "Starting Training\n",
      "epoch: 00, loss: -0.91267\n",
      "epoch: 01, loss: -0.94996\n",
      "epoch: 02, loss: -0.95866\n",
      "epoch: 03, loss: -0.96349\n",
      "epoch: 04, loss: -0.96687\n",
      "epoch: 05, loss: -0.96933\n",
      "epoch: 06, loss: -0.97126\n",
      "epoch: 07, loss: -0.97278\n",
      "epoch: 08, loss: -0.97404\n",
      "epoch: 09, loss: -0.97513\n",
      "torch.Size([1024, 64])\n"
     ]
    },
    {
     "name": "stderr",
     "output_type": "stream",
     "text": [
      " 86%|████████▌ | 856/999 [9:59:50<1:02:16, 26.13s/it]"
     ]
    },
    {
     "name": "stdout",
     "output_type": "stream",
     "text": [
      "eigenvalues shape torch.Size([5]) eigenvectors shape torch.Size([5, 1024])\n",
      "856 /home/phdcs2/Hard_Disk/Datasets/Deep-Spectral-Segmentation/data/object-segmentation/ECSSD/features/0858_resized.pth\n",
      "dict_keys(['k', 'indices', 'file', 'id', 'model_name', 'patch_size', 'shape'])\n",
      "0858_resized\n",
      "Starting Training\n",
      "epoch: 00, loss: -0.93208\n",
      "epoch: 01, loss: -0.96099\n",
      "epoch: 02, loss: -0.96715\n",
      "epoch: 03, loss: -0.97068\n",
      "epoch: 04, loss: -0.97308\n",
      "epoch: 05, loss: -0.97487\n",
      "epoch: 06, loss: -0.97629\n",
      "epoch: 07, loss: -0.97745\n",
      "epoch: 08, loss: -0.97841\n",
      "epoch: 09, loss: -0.97921\n",
      "torch.Size([1024, 64])\n"
     ]
    },
    {
     "name": "stderr",
     "output_type": "stream",
     "text": [
      " 86%|████████▌ | 857/999 [10:00:17<1:02:13, 26.29s/it]"
     ]
    },
    {
     "name": "stdout",
     "output_type": "stream",
     "text": [
      "eigenvalues shape torch.Size([5]) eigenvectors shape torch.Size([5, 1024])\n",
      "857 /home/phdcs2/Hard_Disk/Datasets/Deep-Spectral-Segmentation/data/object-segmentation/ECSSD/features/0859_resized.pth\n",
      "dict_keys(['k', 'indices', 'file', 'id', 'model_name', 'patch_size', 'shape'])\n",
      "0859_resized\n",
      "Starting Training\n",
      "epoch: 00, loss: -0.91616\n",
      "epoch: 01, loss: -0.95023\n",
      "epoch: 02, loss: -0.95799\n",
      "epoch: 03, loss: -0.96256\n",
      "epoch: 04, loss: -0.96570\n",
      "epoch: 05, loss: -0.96803\n",
      "epoch: 06, loss: -0.96982\n",
      "epoch: 07, loss: -0.97127\n",
      "epoch: 08, loss: -0.97252\n",
      "epoch: 09, loss: -0.97352\n",
      "torch.Size([1024, 64])\n"
     ]
    },
    {
     "name": "stderr",
     "output_type": "stream",
     "text": [
      " 86%|████████▌ | 858/999 [10:00:44<1:01:57, 26.37s/it]"
     ]
    },
    {
     "name": "stdout",
     "output_type": "stream",
     "text": [
      "eigenvalues shape torch.Size([5]) eigenvectors shape torch.Size([5, 1024])\n",
      "858 /home/phdcs2/Hard_Disk/Datasets/Deep-Spectral-Segmentation/data/object-segmentation/ECSSD/features/0860_resized.pth\n",
      "dict_keys(['k', 'indices', 'file', 'id', 'model_name', 'patch_size', 'shape'])\n",
      "0860_resized\n",
      "Starting Training\n",
      "epoch: 00, loss: -0.90199\n",
      "epoch: 01, loss: -0.94339\n",
      "epoch: 02, loss: -0.95273\n",
      "epoch: 03, loss: -0.95787\n",
      "epoch: 04, loss: -0.96145\n",
      "epoch: 05, loss: -0.96404\n",
      "epoch: 06, loss: -0.96611\n",
      "epoch: 07, loss: -0.96768\n",
      "epoch: 08, loss: -0.96912\n"
     ]
    },
    {
     "name": "stderr",
     "output_type": "stream",
     "text": [
      " 86%|████████▌ | 859/999 [10:01:10<1:01:13, 26.24s/it]"
     ]
    },
    {
     "name": "stdout",
     "output_type": "stream",
     "text": [
      "epoch: 09, loss: -0.97032\n",
      "torch.Size([1024, 64])\n",
      "eigenvalues shape torch.Size([5]) eigenvectors shape torch.Size([5, 1024])\n",
      "859 /home/phdcs2/Hard_Disk/Datasets/Deep-Spectral-Segmentation/data/object-segmentation/ECSSD/features/0861_resized.pth\n",
      "dict_keys(['k', 'indices', 'file', 'id', 'model_name', 'patch_size', 'shape'])\n",
      "0861_resized\n",
      "Starting Training\n",
      "epoch: 00, loss: -0.89107\n",
      "epoch: 01, loss: -0.93256\n",
      "epoch: 02, loss: -0.94377\n",
      "epoch: 03, loss: -0.95004\n",
      "epoch: 04, loss: -0.95443\n",
      "epoch: 05, loss: -0.95779\n",
      "epoch: 06, loss: -0.96023\n",
      "epoch: 07, loss: -0.96217\n",
      "epoch: 08, loss: -0.96391\n",
      "epoch: 09, loss: -0.96532\n",
      "torch.Size([1024, 64])\n"
     ]
    },
    {
     "name": "stderr",
     "output_type": "stream",
     "text": [
      " 86%|████████▌ | 860/999 [10:01:36<1:00:47, 26.24s/it]"
     ]
    },
    {
     "name": "stdout",
     "output_type": "stream",
     "text": [
      "eigenvalues shape torch.Size([5]) eigenvectors shape torch.Size([5, 1024])\n",
      "860 /home/phdcs2/Hard_Disk/Datasets/Deep-Spectral-Segmentation/data/object-segmentation/ECSSD/features/0862_resized.pth\n",
      "dict_keys(['k', 'indices', 'file', 'id', 'model_name', 'patch_size', 'shape'])\n",
      "0862_resized\n",
      "Starting Training\n",
      "epoch: 00, loss: -0.87579\n",
      "epoch: 01, loss: -0.92739\n",
      "epoch: 02, loss: -0.94033\n",
      "epoch: 03, loss: -0.94755\n",
      "epoch: 04, loss: -0.95224\n",
      "epoch: 05, loss: -0.95584\n",
      "epoch: 06, loss: -0.95848\n",
      "epoch: 07, loss: -0.96072\n",
      "epoch: 08, loss: -0.96251\n",
      "epoch: 09, loss: -0.96404\n",
      "torch.Size([1024, 64])\n"
     ]
    },
    {
     "name": "stderr",
     "output_type": "stream",
     "text": [
      " 86%|████████▌ | 861/999 [10:02:02<1:00:21, 26.24s/it]"
     ]
    },
    {
     "name": "stdout",
     "output_type": "stream",
     "text": [
      "eigenvalues shape torch.Size([5]) eigenvectors shape torch.Size([5, 1024])\n",
      "861 /home/phdcs2/Hard_Disk/Datasets/Deep-Spectral-Segmentation/data/object-segmentation/ECSSD/features/0863_resized.pth\n",
      "dict_keys(['k', 'indices', 'file', 'id', 'model_name', 'patch_size', 'shape'])\n",
      "0863_resized\n",
      "Starting Training\n",
      "epoch: 00, loss: -0.93313\n",
      "epoch: 01, loss: -0.95967\n",
      "epoch: 02, loss: -0.96536\n",
      "epoch: 03, loss: -0.96877\n",
      "epoch: 04, loss: -0.97105\n",
      "epoch: 05, loss: -0.97284\n",
      "epoch: 06, loss: -0.97422\n",
      "epoch: 07, loss: -0.97535\n",
      "epoch: 08, loss: -0.97631\n",
      "epoch: 09, loss: -0.97714\n",
      "torch.Size([1024, 64])\n"
     ]
    },
    {
     "name": "stderr",
     "output_type": "stream",
     "text": [
      " 86%|████████▋ | 862/999 [10:02:28<59:44, 26.16s/it]  "
     ]
    },
    {
     "name": "stdout",
     "output_type": "stream",
     "text": [
      "eigenvalues shape torch.Size([5]) eigenvectors shape torch.Size([5, 1024])\n",
      "862 /home/phdcs2/Hard_Disk/Datasets/Deep-Spectral-Segmentation/data/object-segmentation/ECSSD/features/0864_resized.pth\n",
      "dict_keys(['k', 'indices', 'file', 'id', 'model_name', 'patch_size', 'shape'])\n",
      "0864_resized\n",
      "Starting Training\n",
      "epoch: 00, loss: -0.92376\n",
      "epoch: 01, loss: -0.95473\n",
      "epoch: 02, loss: -0.96207\n",
      "epoch: 03, loss: -0.96625\n",
      "epoch: 04, loss: -0.96911\n",
      "epoch: 05, loss: -0.97122\n",
      "epoch: 06, loss: -0.97286\n",
      "epoch: 07, loss: -0.97421\n",
      "epoch: 08, loss: -0.97533\n"
     ]
    },
    {
     "name": "stderr",
     "output_type": "stream",
     "text": [
      " 86%|████████▋ | 863/999 [10:02:55<59:37, 26.31s/it]"
     ]
    },
    {
     "name": "stdout",
     "output_type": "stream",
     "text": [
      "epoch: 09, loss: -0.97629\n",
      "torch.Size([1024, 64])\n",
      "eigenvalues shape torch.Size([5]) eigenvectors shape torch.Size([5, 1024])\n",
      "863 /home/phdcs2/Hard_Disk/Datasets/Deep-Spectral-Segmentation/data/object-segmentation/ECSSD/features/0865_resized.pth\n",
      "dict_keys(['k', 'indices', 'file', 'id', 'model_name', 'patch_size', 'shape'])\n",
      "0865_resized\n",
      "Starting Training\n",
      "epoch: 00, loss: -0.90350\n",
      "epoch: 01, loss: -0.94184\n",
      "epoch: 02, loss: -0.95091\n",
      "epoch: 03, loss: -0.95622\n",
      "epoch: 04, loss: -0.95983\n",
      "epoch: 05, loss: -0.96251\n",
      "epoch: 06, loss: -0.96462\n",
      "epoch: 07, loss: -0.96633\n",
      "epoch: 08, loss: -0.96775\n",
      "epoch: 09, loss: -0.96898\n",
      "torch.Size([1024, 64])\n"
     ]
    },
    {
     "name": "stderr",
     "output_type": "stream",
     "text": [
      " 86%|████████▋ | 864/999 [10:03:23<1:00:13, 26.76s/it]"
     ]
    },
    {
     "name": "stdout",
     "output_type": "stream",
     "text": [
      "eigenvalues shape torch.Size([5]) eigenvectors shape torch.Size([5, 1024])\n",
      "864 /home/phdcs2/Hard_Disk/Datasets/Deep-Spectral-Segmentation/data/object-segmentation/ECSSD/features/0866_resized.pth\n",
      "dict_keys(['k', 'indices', 'file', 'id', 'model_name', 'patch_size', 'shape'])\n",
      "0866_resized\n",
      "Starting Training\n",
      "epoch: 00, loss: -0.88747\n",
      "epoch: 01, loss: -0.93070\n",
      "epoch: 02, loss: -0.94265\n",
      "epoch: 03, loss: -0.94941\n",
      "epoch: 04, loss: -0.95386\n",
      "epoch: 05, loss: -0.95728\n",
      "epoch: 06, loss: -0.95983\n",
      "epoch: 07, loss: -0.96199\n",
      "epoch: 08, loss: -0.96377\n"
     ]
    },
    {
     "name": "stderr",
     "output_type": "stream",
     "text": [
      " 87%|████████▋ | 865/999 [10:03:48<59:10, 26.50s/it]  "
     ]
    },
    {
     "name": "stdout",
     "output_type": "stream",
     "text": [
      "epoch: 09, loss: -0.96527\n",
      "torch.Size([1024, 64])\n",
      "eigenvalues shape torch.Size([5]) eigenvectors shape torch.Size([5, 1024])\n",
      "865 /home/phdcs2/Hard_Disk/Datasets/Deep-Spectral-Segmentation/data/object-segmentation/ECSSD/features/0867_resized.pth\n",
      "dict_keys(['k', 'indices', 'file', 'id', 'model_name', 'patch_size', 'shape'])\n",
      "0867_resized\n",
      "Starting Training\n",
      "epoch: 00, loss: -0.92273\n",
      "epoch: 01, loss: -0.95474\n",
      "epoch: 02, loss: -0.96193\n",
      "epoch: 03, loss: -0.96598\n",
      "epoch: 04, loss: -0.96878\n",
      "epoch: 05, loss: -0.97085\n",
      "epoch: 06, loss: -0.97245\n",
      "epoch: 07, loss: -0.97376\n",
      "epoch: 08, loss: -0.97485\n",
      "epoch: 09, loss: -0.97579\n",
      "torch.Size([1024, 64])\n",
      "eigenvalues shape torch.Size([5]) eigenvectors shape torch.Size([5, 1024])\n"
     ]
    },
    {
     "name": "stderr",
     "output_type": "stream",
     "text": [
      " 87%|████████▋ | 866/999 [10:04:15<58:29, 26.39s/it]"
     ]
    },
    {
     "name": "stdout",
     "output_type": "stream",
     "text": [
      "866 /home/phdcs2/Hard_Disk/Datasets/Deep-Spectral-Segmentation/data/object-segmentation/ECSSD/features/0868_resized.pth\n",
      "dict_keys(['k', 'indices', 'file', 'id', 'model_name', 'patch_size', 'shape'])\n",
      "0868_resized\n",
      "Starting Training\n",
      "epoch: 00, loss: -0.87742\n",
      "epoch: 01, loss: -0.92730\n",
      "epoch: 02, loss: -0.94009\n",
      "epoch: 03, loss: -0.94723\n",
      "epoch: 04, loss: -0.95209\n",
      "epoch: 05, loss: -0.95565\n",
      "epoch: 06, loss: -0.95841\n",
      "epoch: 07, loss: -0.96057\n",
      "epoch: 08, loss: -0.96238\n",
      "epoch: 09, loss: -0.96399\n",
      "torch.Size([1024, 64])\n"
     ]
    },
    {
     "name": "stderr",
     "output_type": "stream",
     "text": [
      " 87%|████████▋ | 867/999 [10:04:43<59:25, 27.01s/it]"
     ]
    },
    {
     "name": "stdout",
     "output_type": "stream",
     "text": [
      "eigenvalues shape torch.Size([5]) eigenvectors shape torch.Size([5, 1024])\n",
      "867 /home/phdcs2/Hard_Disk/Datasets/Deep-Spectral-Segmentation/data/object-segmentation/ECSSD/features/0869_resized.pth\n",
      "dict_keys(['k', 'indices', 'file', 'id', 'model_name', 'patch_size', 'shape'])\n",
      "0869_resized\n",
      "Starting Training\n",
      "epoch: 00, loss: -0.91499\n",
      "epoch: 01, loss: -0.94866\n",
      "epoch: 02, loss: -0.95669\n",
      "epoch: 03, loss: -0.96131\n",
      "epoch: 04, loss: -0.96442\n",
      "epoch: 05, loss: -0.96677\n",
      "epoch: 06, loss: -0.96861\n",
      "epoch: 07, loss: -0.97008\n",
      "epoch: 08, loss: -0.97137\n",
      "epoch: 09, loss: -0.97241\n",
      "torch.Size([1024, 64])\n"
     ]
    },
    {
     "name": "stderr",
     "output_type": "stream",
     "text": [
      " 87%|████████▋ | 868/999 [10:05:09<58:25, 26.76s/it]"
     ]
    },
    {
     "name": "stdout",
     "output_type": "stream",
     "text": [
      "eigenvalues shape torch.Size([5]) eigenvectors shape torch.Size([5, 1024])\n",
      "868 /home/phdcs2/Hard_Disk/Datasets/Deep-Spectral-Segmentation/data/object-segmentation/ECSSD/features/0870_resized.pth\n",
      "dict_keys(['k', 'indices', 'file', 'id', 'model_name', 'patch_size', 'shape'])\n",
      "0870_resized\n",
      "Starting Training\n",
      "epoch: 00, loss: -0.90296\n",
      "epoch: 01, loss: -0.94336\n",
      "epoch: 02, loss: -0.95252\n",
      "epoch: 03, loss: -0.95785\n",
      "epoch: 04, loss: -0.96145\n",
      "epoch: 05, loss: -0.96416\n",
      "epoch: 06, loss: -0.96623\n",
      "epoch: 07, loss: -0.96787\n",
      "epoch: 08, loss: -0.96922\n",
      "epoch: 09, loss: -0.97040\n",
      "torch.Size([1024, 64])\n"
     ]
    },
    {
     "name": "stderr",
     "output_type": "stream",
     "text": [
      " 87%|████████▋ | 869/999 [10:05:37<58:29, 27.00s/it]"
     ]
    },
    {
     "name": "stdout",
     "output_type": "stream",
     "text": [
      "eigenvalues shape torch.Size([5]) eigenvectors shape torch.Size([5, 1024])\n",
      "869 /home/phdcs2/Hard_Disk/Datasets/Deep-Spectral-Segmentation/data/object-segmentation/ECSSD/features/0871_resized.pth\n",
      "dict_keys(['k', 'indices', 'file', 'id', 'model_name', 'patch_size', 'shape'])\n",
      "0871_resized\n",
      "Starting Training\n",
      "epoch: 00, loss: -0.90797\n",
      "epoch: 01, loss: -0.94377\n",
      "epoch: 02, loss: -0.95257\n",
      "epoch: 03, loss: -0.95768\n",
      "epoch: 04, loss: -0.96106\n",
      "epoch: 05, loss: -0.96364\n",
      "epoch: 06, loss: -0.96565\n",
      "epoch: 07, loss: -0.96727\n",
      "epoch: 08, loss: -0.96865\n"
     ]
    },
    {
     "name": "stderr",
     "output_type": "stream",
     "text": [
      " 87%|████████▋ | 870/999 [10:06:03<57:38, 26.81s/it]"
     ]
    },
    {
     "name": "stdout",
     "output_type": "stream",
     "text": [
      "epoch: 09, loss: -0.96980\n",
      "torch.Size([1024, 64])\n",
      "eigenvalues shape torch.Size([5]) eigenvectors shape torch.Size([5, 1024])\n",
      "870 /home/phdcs2/Hard_Disk/Datasets/Deep-Spectral-Segmentation/data/object-segmentation/ECSSD/features/0872_resized.pth\n",
      "dict_keys(['k', 'indices', 'file', 'id', 'model_name', 'patch_size', 'shape'])\n",
      "0872_resized\n",
      "Starting Training\n",
      "epoch: 00, loss: -0.86174\n",
      "epoch: 01, loss: -0.91868\n",
      "epoch: 02, loss: -0.93274\n",
      "epoch: 03, loss: -0.94114\n",
      "epoch: 04, loss: -0.94644\n",
      "epoch: 05, loss: -0.95046\n",
      "epoch: 06, loss: -0.95354\n",
      "epoch: 07, loss: -0.95596\n",
      "epoch: 08, loss: -0.95795\n",
      "epoch: 09, loss: -0.95972\n",
      "torch.Size([1024, 64])\n"
     ]
    },
    {
     "name": "stderr",
     "output_type": "stream",
     "text": [
      " 87%|████████▋ | 871/999 [10:06:29<56:40, 26.57s/it]"
     ]
    },
    {
     "name": "stdout",
     "output_type": "stream",
     "text": [
      "eigenvalues shape torch.Size([5]) eigenvectors shape torch.Size([5, 1024])\n",
      "871 /home/phdcs2/Hard_Disk/Datasets/Deep-Spectral-Segmentation/data/object-segmentation/ECSSD/features/0873_resized.pth\n",
      "dict_keys(['k', 'indices', 'file', 'id', 'model_name', 'patch_size', 'shape'])\n",
      "0873_resized\n",
      "Starting Training\n",
      "epoch: 00, loss: -0.88886\n",
      "epoch: 01, loss: -0.93607\n",
      "epoch: 02, loss: -0.94692\n",
      "epoch: 03, loss: -0.95318\n",
      "epoch: 04, loss: -0.95727\n",
      "epoch: 05, loss: -0.96033\n",
      "epoch: 06, loss: -0.96266\n",
      "epoch: 07, loss: -0.96461\n"
     ]
    }
   ],
   "source": [
    "pca_comp=64\n",
    "pca = PCA(n_components=pca_comp)\n",
    "utils.make_output_dir(output_dir)\n",
    "inputs = list(enumerate(sorted(Path(features_dir).iterdir())))\n",
    "for inp in tqdm(inputs):\n",
    "    index, features_file = inp\n",
    "    print(index, features_file)\n",
    "     # Load\n",
    "    data_dict = torch.load(features_file, map_location='cpu')\n",
    "    print(data_dict.keys())   #['k', 'indices', 'file', 'id', 'model_name', 'patch_size', 'shape']\n",
    "    # print(\"shape=\", data_dict['shape'], \"k shape\", data_dict['k'].shape, \"patch_size=\", data_dict['patch_size'])\n",
    "    image_id = data_dict['file'][:-4]\n",
    "    print(image_id)\n",
    "    # Load\n",
    "    output_file = str(Path(output_dir) / f'{image_id}.pth')\n",
    "    if Path(output_file).is_file():\n",
    "        print(f'Skipping existing file {str(output_file)}')\n",
    "        # break\n",
    "        # return  # skip because already generated\n",
    "\n",
    "    # Load affinity matrix\n",
    "    feats = data_dict[which_features].squeeze().cuda()\n",
    "    # print(\"Without normalizing, Features Shape is\",feats.shape)\n",
    "    if normalize:\n",
    "        feats = F.normalize(feats, p=2, dim=-1)\n",
    "    # print(\"After normalization, Features Shape\",feats.shape)\n",
    "    # print(\"which_matrix=\", which_matrix)\n",
    "    # Eigenvectors of affinity matrix\n",
    "    if which_matrix == 'affinity_torch':\n",
    "        W = feats @ feats.T\n",
    "        # W_feat=contrastive_affinity(feats, feats.T)\n",
    "        # print(\"W shape=\", W.shape)\n",
    "        if threshold_at_zero:\n",
    "            W = (W * (W > 0))\n",
    "            # print(\"W shape=\", W.shape)\n",
    "        eigenvalues, eigenvectors = torch.eig(W, eigenvectors=True)\n",
    "        eigenvalues = eigenvalues.cpu()\n",
    "        eigenvectors = eigenvectors.cpu()\n",
    "        print(\"which matrix=\",which_matrix, \"eigenvalues shape\", eigenvalues.shape, \"eigenvectors shape\", eigenvectors.shape)\n",
    "\n",
    "\n",
    "    # Eigenvectors of affinity matrix with scipy\n",
    "    elif which_matrix == 'affinity_svd':\n",
    "        USV = torch.linalg.svd(feats, full_matrices=False)\n",
    "        eigenvectors = USV[0][:, :K].T.to('cpu', non_blocking=True)\n",
    "        eigenvalues = USV[1][:K].to('cpu', non_blocking=True)\n",
    "        print(\"which matrix=\",which_matrix,\"eigenvalues shape\", eigenvalues.shape, \"eigenvectors shape\", eigenvectors.shape)\n",
    "\n",
    "    # Eigenvectors of affinity matrix with scipy\n",
    "    elif which_matrix == 'affinity':\n",
    "        # print(\"Without normalizing, Features Shape is\",feats.shape)\n",
    "        W = (feats @ feats.T)\n",
    "        # W_feat=contrastive_affinity(feats, feats.T)\n",
    "        # print(\"W shape=\", W.shape)\n",
    "        if threshold_at_zero:\n",
    "            W = (W * (W > 0))\n",
    "        W = W.cpu().numpy()\n",
    "        # print(\"W shape=\", W.shape)\n",
    "        eigenvalues, eigenvectors = eigsh(W, which='LM', k=K)\n",
    "        eigenvectors = torch.flip(torch.from_numpy(eigenvectors), dims=(-1,)).T\n",
    "        print(\"which matrix=\",which_matrix, \"eigenvalues shape\", eigenvalues.shape, \"eigenvectors shape\", eigenvectors.shape)\n",
    "\n",
    "    # Eigenvectors of matting laplacian matrix\n",
    "    elif which_matrix in ['matting_laplacian', 'laplacian']:\n",
    "\n",
    "        # Get sizes\n",
    "        B, C, H, W, P, H_patch, W_patch, H_pad, W_pad = utils.get_image_sizes(data_dict)\n",
    "        if image_downsample_factor is None:\n",
    "            image_downsample_factor = P\n",
    "        H_pad_lr, W_pad_lr = H_pad // image_downsample_factor, W_pad // image_downsample_factor\n",
    "\n",
    "        # Upscale features to match the resolution\n",
    "        if (H_patch, W_patch) != (H_pad_lr, W_pad_lr):\n",
    "            feats = F.interpolate(\n",
    "                feats.T.reshape(1, -1, H_patch, W_patch),\n",
    "                size=(H_pad_lr, W_pad_lr), mode='bilinear', align_corners=False\n",
    "            ).reshape(-1, H_pad_lr * W_pad_lr).T\n",
    "\n",
    "        ### Feature affinities\n",
    "        # print(\"Without normalizing, Features Shape is\",feats.shape)\n",
    "\n",
    "        W_feat_ds = (feats @ feats.T)\n",
    "        max_wfeatds=torch.max(W_feat_ds).item()\n",
    "        alpha=3\n",
    "        W_feat_ds = W_feat_ds - (max_wfeatds / alpha)\n",
    "        proj_layer=nn.Linear(pca_comp,pca_comp).cuda()\n",
    "        pred_layer=nn.Linear(pca_comp,pca_comp).cuda()\n",
    "        x0=feats\n",
    "        x0_arr=x0.cpu()\n",
    "        # print(x0_arr.shape)\n",
    "        z0_arr= pca.fit_transform(x0_arr)\n",
    "\n",
    "        # Define the affine transformation parameters\n",
    "        scale = np.random.uniform(0.8, 1.2)  # Random scaling factor between 0.8 and 1.2\n",
    "        translation = np.random.uniform(-10, 10, size=2)  # Random translation vector between -10 and 10 in both directions\n",
    "        rotation = np.random.uniform(-15, 15)  # Random rotation angle between -15 and 15 degrees\n",
    "        shear = np.random.uniform(-0.2, 0.2, size=2)  # Random shear factor between -0.2 and 0.2 in both directions\n",
    "\n",
    "        # Define the affine matrix\n",
    "        affine_matrix = np.array([[scale * np.cos(rotation), -shear[0] * scale * np.sin(rotation), translation[0]],\n",
    "                                  [shear[1] * scale * np.sin(rotation), scale * np.cos(rotation), translation[1]],\n",
    "                                  [0, 0, 1]])\n",
    "        z1_arr=affine_transform(z0_arr, affine_matrix)\n",
    "#         z1_arr=pca.fit_transform(z1_arr)\n",
    "        z0 = torch.from_numpy(z0_arr).float()\n",
    "        z1 = torch.from_numpy(z1_arr).float()\n",
    "\n",
    "        # feat_list.append(feats)\n",
    "        feat_dataset_z0 = Feature_Dataset(z0)\n",
    "        if feats.shape[0]%2==0:\n",
    "            features_dataloader_z0 = DataLoader(feat_dataset_z0, batch_size=batch_size, shuffle=True)\n",
    "        else:\n",
    "            features_dataloader_z0 = DataLoader(feat_dataset_z0, batch_size=batch_size, shuffle=True, drop_last=True)\n",
    "\n",
    "        feat_dataset_z1 = Feature_Dataset(z1)\n",
    "        if feats.shape[0]%2==0:\n",
    "            features_dataloader_z1 = DataLoader(feat_dataset_z1, batch_size=batch_size, shuffle=True)\n",
    "        else:\n",
    "            features_dataloader_z1 = DataLoader(feat_dataset_z1, batch_size=batch_size, shuffle=True, drop_last=True)\n",
    "        device = \"cuda\" if torch.cuda.is_available() else \"cpu\"\n",
    "    \n",
    "        criterion = NegativeCosineSimilarity()\n",
    "        proj_optimizer = torch.optim.SGD(proj_layer.parameters(), lr=0.06)\n",
    "        pred_optimizer = torch.optim.SGD(pred_layer.parameters(), lr=0.06)\n",
    "        print(\"Starting Training\")\n",
    "        for epoch in range(epochs):\n",
    "            total_loss = 0\n",
    "            for z0_new,z1_new in zip(features_dataloader_z0,features_dataloader_z1):\n",
    "                z0_new = z0_new.to(device)\n",
    "                z1_new = z1_new.to(device)\n",
    "                z0_new=proj_layer(z0_new)\n",
    "                z1_new=proj_layer(z1_new)\n",
    "    #             print(\"z0_new.shape\", z0_new.shape)\n",
    "    #             print(\"z1_new.shape\", z1_new.shape)\n",
    "                p0=pred_layer(z0_new)\n",
    "                p1=pred_layer(z1_new)\n",
    "    #             print(\"p0.shape\", p0.shape)\n",
    "    #             print(\"p1.shape\", p1.shape)\n",
    "                z0_new = F.normalize(z0_new, p=2, dim=1)\n",
    "                z1_new = F.normalize(z1_new, p=2, dim=1)\n",
    "                p0 = F.normalize(p0, p=2, dim=-1)\n",
    "                p1 = F.normalize(p1, p=2, dim=-1)\n",
    "\n",
    "                z0_new=z0_new.detach()\n",
    "                z1_new=z1_new.detach()\n",
    "\n",
    "                loss = 0.5 * (criterion(z0_new, p1) + criterion(z1_new, p0))\n",
    "                total_loss += loss.detach()\n",
    "                loss.backward()\n",
    "                proj_optimizer.step()\n",
    "                pred_optimizer.step()\n",
    "                proj_optimizer.zero_grad()\n",
    "                pred_optimizer.zero_grad()\n",
    "            avg_loss = total_loss / len(features_dataloader_z0)\n",
    "            print(f\"epoch: {epoch:>02}, loss: {avg_loss:.5f}\")\n",
    "        projected_feature=proj_layer(z0.to(device))\n",
    "        # projected_feature=pred_layer(z0_predicted)\n",
    "        print(projected_feature.shape)\n",
    "        W_feat_siam=torch.matmul(projected_feature, projected_feature.t())\n",
    "        # max_wfeatsiam=torch.max(W_feat_siam).item()\n",
    "        # alpha=3\n",
    "        # W_feat_siam = W_feat_siam - (max_wfeatsiam / alpha)\n",
    "        # W_feat_siam=torch.matmul(projected_feature[0], projected_feature[0].t())\n",
    "        W_feat=W_feat_ds + 0.1*W_feat_siam\n",
    "#         W_feat=normalize_affinity_matrix(W_feat_unnorm, axis=1)\n",
    "        # print(\"W_feat.shape=\", W_feat.shape)\n",
    "        # print(\"W_feat.shape=\", W_feat.shape)\n",
    "        # W_feat=contrastive_affinity(feats, feats.T)\n",
    "        if threshold_at_zero:\n",
    "            W_feat = (W_feat * (W_feat > 0))\n",
    "        W_feat = W_feat / W_feat.max()  # NOTE: If features are normalized, this naturally does nothing\n",
    "        # W_feat = W_feat.cpu().numpy()\n",
    "        W_feat = W_feat.detach().cpu().numpy()\n",
    "        # print(\"W_feat shape=\",W_feat.shape)\n",
    "\n",
    "        ### Color affinities\n",
    "        # If we are fusing with color affinites, then load the image and compute\n",
    "        if image_color_lambda > 0:\n",
    "\n",
    "            # Load image\n",
    "            image_file = str(Path(images_root) / f'{image_id}.jpg')\n",
    "            image_lr = Image.open(image_file).resize((W_pad_lr, H_pad_lr), Image.BILINEAR)\n",
    "            image_lr = np.array(image_lr) / 255.\n",
    "\n",
    "            # Color affinities (of type scipy.sparse.csr_matrix)\n",
    "            if which_color_matrix == 'knn':\n",
    "                W_lr = utils.knn_affinity(image_lr / 255)\n",
    "            elif which_color_matrix == 'rw':\n",
    "                W_lr = utils.rw_affinity(image_lr / 255)\n",
    "\n",
    "            # Convert to dense numpy array\n",
    "            W_color = np.array(W_lr.todense().astype(np.float32))\n",
    "            # print(\"W_color shape\", W_color.shape)\n",
    "\n",
    "        else:\n",
    "\n",
    "            # No color affinity\n",
    "            W_color = 0\n",
    "\n",
    "        # Combine\n",
    "        W_comb = W_feat + W_color * image_color_lambda  # combination\n",
    "        D_comb = np.array(utils.get_diagonal(W_comb).todense())  # is dense or sparse faster? not sure, should check\n",
    "        # print(\"W_comb shape= \", W_comb.shape, \"D_comb shape\",  D_comb.shape)\n",
    "        if lapnorm:\n",
    "            try:\n",
    "                eigenvalues, eigenvectors = eigsh(D_comb - W_comb, k=K, sigma=0, which='LM', M=D_comb)\n",
    "            except:\n",
    "                eigenvalues, eigenvectors = eigsh(D_comb - W_comb, k=K, which='SM', M=D_comb)\n",
    "        else:\n",
    "            try:\n",
    "                eigenvalues, eigenvectors = eigsh(D_comb - W_comb, k=K, sigma=0, which='LM')\n",
    "            except:\n",
    "                eigenvalues, eigenvectors = eigsh(D_comb - W_comb, k=K, which='SM')\n",
    "        eigenvalues, eigenvectors = torch.from_numpy(eigenvalues), torch.from_numpy(eigenvectors.T).float()\n",
    "    print(\"eigenvalues shape\", eigenvalues.shape, \"eigenvectors shape\", eigenvectors.shape)\n",
    "    # Sign ambiguity\n",
    "    for k in range(eigenvectors.shape[0]):\n",
    "        if 0.5 < torch.mean((eigenvectors[k] > 0).float()).item() < 1.0:  # reverse segment\n",
    "            eigenvectors[k] = 0 - eigenvectors[k]\n",
    "\n",
    "    # Save dict\n",
    "    output_dict = {'eigenvalues': eigenvalues, 'eigenvectors': eigenvectors}\n",
    "    torch.save(output_dict, output_file)"
   ]
  }
 ],
 "metadata": {
  "kernelspec": {
   "display_name": "Python 3 (ipykernel)",
   "language": "python",
   "name": "python3"
  },
  "language_info": {
   "codemirror_mode": {
    "name": "ipython",
    "version": 3
   },
   "file_extension": ".py",
   "mimetype": "text/x-python",
   "name": "python",
   "nbconvert_exporter": "python",
   "pygments_lexer": "ipython3",
   "version": "3.8.10"
  }
 },
 "nbformat": 4,
 "nbformat_minor": 1
}