{
 "cells": [
  {
   "cell_type": "code",
   "execution_count": 1,
   "metadata": {
    "pycharm": {
     "name": "#%%\n"
    }
   },
   "outputs": [],
   "source": [
    "# from functools import partial\n",
    "from pathlib import Path\n",
    "# from typing import Optional, Tuple\n",
    "# import cv2\n",
    "# import fire\n",
    "import numpy as np\n",
    "import torch\n",
    "import torch.nn.functional as F\n",
    "from accelerate import Accelerator\n",
    "from PIL import Image\n",
    "from scipy.sparse.linalg import eigsh\n",
    "# from sklearn.cluster import KMeans, MiniBatchKMeans\n",
    "from sklearn.decomposition import PCA\n",
    "# from torchvision.utils import draw_bounding_boxes\n",
    "from tqdm import tqdm\n",
    "import extract_utils as utils\n",
    "from torch.utils.data import Dataset, DataLoader\n",
    "from lightly.loss import NegativeCosineSimilarity\n",
    "from lightly.models.modules import SimSiamPredictionHead, SimSiamProjectionHead\n",
    "from torch import nn\n",
    "import torchvision\n",
    "from scipy.ndimage import affine_transform"
   ]
  },
  {
   "cell_type": "markdown",
   "metadata": {
    "pycharm": {
     "name": "#%% md\n"
    }
   },
   "source": [
    "## Extract Eigen Vectors"
   ]
  },
  {
   "cell_type": "code",
   "execution_count": 2,
   "outputs": [],
   "source": [
    "images_root=\"/home/phdcs2/Hard_Disk/Datasets/Deep-Spectral-Segmentation/data/object-segmentation/ECSSD/images\"\n",
    "# features_dir=\"/home/phdcs2/Hard_Disk/Datasets/Deep-Spectral-Segmentation/data/object-segmentation/ECSSD_1/features/dino_vits16\"\n",
    "features_dir=\"/home/phdcs2/Hard_Disk/Datasets/Deep-Spectral-Segmentation/data/object-segmentation/ECSSD/features/\"\n",
    "output_dir=\"/home/phdcs2/Hard_Disk/Datasets/Deep-Spectral-Segmentation/data/object-segmentation/ECSSD/eigs_dot1linearpredlinear_dssubmax_pred2_encoder_sg\""
   ],
   "metadata": {
    "collapsed": false,
    "pycharm": {
     "name": "#%%\n"
    }
   }
  },
  {
   "cell_type": "code",
   "execution_count": 3,
   "metadata": {
    "pycharm": {
     "name": "#%%\n"
    }
   },
   "outputs": [],
   "source": [
    "# images_root=\"/home/phdcs2/Hard_Disk/Datasets/Deep-Spectral-Segmentation/data/VOC2012/images/trainval/JPEGImages\"\n",
    "# # features_dir=\"/home/phdcs2/Hard_Disk/Datasets/Deep-Spectral-Segmentation/data/object-segmentation/ECSSD_1/features/dino_vits16\"\n",
    "# features_dir=\"/home/phdcs2/Hard_Disk/Datasets/Deep-Spectral-Segmentation/data/VOC2012/features/dino_vits16\"\n",
    "# output_dir=\"/home/phdcs2/Hard_Disk/Datasets/Deep-Spectral-Segmentation/data/VOC2012/eigs_test/laplacian\"\n",
    "which_matrix= 'laplacian'\n",
    "which_color_matrix= 'knn'\n",
    "which_features= 'k'\n",
    "normalize=True\n",
    "threshold_at_zero=True\n",
    "lapnorm= True\n",
    "K= 5\n",
    "image_downsample_factor = None\n",
    "image_color_lambda = 0.0\n",
    "multiprocessing = 0\n",
    "batch_size=2\n",
    "epochs=10"
   ]
  },
  {
   "cell_type": "markdown",
   "metadata": {
    "pycharm": {
     "name": "#%% md\n"
    }
   },
   "source": [
    "## Incorporating SimSiam"
   ]
  },
  {
   "cell_type": "code",
   "execution_count": 4,
   "metadata": {
    "pycharm": {
     "name": "#%%\n"
    }
   },
   "outputs": [],
   "source": [
    "# Define a custom dataset class\n",
    "class Feature_Dataset(Dataset):\n",
    "    def __init__(self, features):\n",
    "        self.features = features\n",
    "\n",
    "    def __getitem__(self, index):\n",
    "        return self.features[index]\n",
    "\n",
    "    def __len__(self):\n",
    "        return len(self.features)"
   ]
  },
  {
   "cell_type": "code",
   "execution_count": 5,
   "metadata": {
    "pycharm": {
     "name": "#%%\n"
    }
   },
   "outputs": [],
   "source": [
    "# class SimSiam(nn.Module):\n",
    "#     def __init__(self):\n",
    "#         super().__init__()\n",
    "#         self.projection_head = SimSiamProjectionHead(feats.shape[1], 128,feats.shape[1])\n",
    "#         self.prediction_head = SimSiamPredictionHead(feats.shape[1], 128, feats.shape[1])\n",
    "#\n",
    "#     def forward(self, x):\n",
    "#         z = self.projection_head(x)\n",
    "#         p = self.prediction_head(z)\n",
    "#         z = z.detach()\n",
    "#         return z, p"
   ]
  },
  {
   "cell_type": "code",
   "execution_count": 6,
   "metadata": {
    "pycharm": {
     "name": "#%%\n"
    }
   },
   "outputs": [],
   "source": [
    "# def normalize_affinity_matrix(affinity_matrix, axis=0):\n",
    "#     if axis == 1:\n",
    "#         # Normalize by row-wise sums\n",
    "#         row_sums = torch.sum(affinity_matrix, dim=1, keepdim=True)\n",
    "#         print(row_sums)\n",
    "#         normalized_matrix = affinity_matrix / row_sums\n",
    "#     elif axis == 0:\n",
    "#         # Normalize by column-wise sums\n",
    "#         col_sums = torch.sum(affinity_matrix, dim=0, keepdim=True)\n",
    "#         normalized_matrix = affinity_matrix / col_sums\n",
    "#     else:\n",
    "#         raise ValueError(\"Invalid axis. Axis must be either 0 or 1.\")\n",
    "\n",
    "#     return normalized_matrix"
   ]
  },
  {
   "cell_type": "code",
   "execution_count": null,
   "metadata": {
    "pycharm": {
     "name": "#%%\n",
     "is_executing": true
    }
   },
   "outputs": [
    {
     "name": "stderr",
     "output_type": "stream",
     "text": [
      "  0%|          | 0/999 [00:00<?, ?it/s]"
     ]
    },
    {
     "name": "stdout",
     "output_type": "stream",
     "text": [
      "0 /home/phdcs2/Hard_Disk/Datasets/Deep-Spectral-Segmentation/data/object-segmentation/ECSSD/features/0001_resized.pth\n",
      "dict_keys(['k', 'indices', 'file', 'id', 'model_name', 'patch_size', 'shape'])\n",
      "0001_resized\n",
      "x0_arr <class 'numpy.ndarray'>\n",
      "x1_arr <class 'numpy.ndarray'>\n",
      "Starting Training\n",
      "epoch: 00, loss: -0.95133\n",
      "epoch: 01, loss: -0.98534\n",
      "epoch: 02, loss: -0.98973\n",
      "epoch: 03, loss: -0.99184\n",
      "epoch: 04, loss: -0.99313\n",
      "epoch: 05, loss: -0.99402\n",
      "epoch: 06, loss: -0.99466\n",
      "epoch: 07, loss: -0.99515\n",
      "epoch: 08, loss: -0.99555\n",
      "epoch: 09, loss: -0.99587\n",
      "torch.Size([1024, 384])\n"
     ]
    },
    {
     "name": "stderr",
     "output_type": "stream",
     "text": [
      "  0%|          | 1/999 [00:27<7:44:14, 27.91s/it]"
     ]
    },
    {
     "name": "stdout",
     "output_type": "stream",
     "text": [
      "eigenvalues shape torch.Size([5]) eigenvectors shape torch.Size([5, 1024])\n",
      "1 /home/phdcs2/Hard_Disk/Datasets/Deep-Spectral-Segmentation/data/object-segmentation/ECSSD/features/0002_resized.pth\n",
      "dict_keys(['k', 'indices', 'file', 'id', 'model_name', 'patch_size', 'shape'])\n",
      "0002_resized\n",
      "x0_arr <class 'numpy.ndarray'>\n",
      "x1_arr <class 'numpy.ndarray'>\n",
      "Starting Training\n",
      "epoch: 00, loss: -0.95458\n",
      "epoch: 01, loss: -0.98674\n",
      "epoch: 02, loss: -0.99063\n",
      "epoch: 03, loss: -0.99249\n",
      "epoch: 04, loss: -0.99362\n",
      "epoch: 05, loss: -0.99439\n",
      "epoch: 06, loss: -0.99497\n",
      "epoch: 07, loss: -0.99541\n",
      "epoch: 08, loss: -0.99576\n"
     ]
    },
    {
     "name": "stderr",
     "output_type": "stream",
     "text": [
      "  0%|          | 2/999 [00:50<6:55:46, 25.02s/it]"
     ]
    },
    {
     "name": "stdout",
     "output_type": "stream",
     "text": [
      "epoch: 09, loss: -0.99605\n",
      "torch.Size([1024, 384])\n",
      "eigenvalues shape torch.Size([5]) eigenvectors shape torch.Size([5, 1024])\n",
      "2 /home/phdcs2/Hard_Disk/Datasets/Deep-Spectral-Segmentation/data/object-segmentation/ECSSD/features/0003_resized.pth\n",
      "dict_keys(['k', 'indices', 'file', 'id', 'model_name', 'patch_size', 'shape'])\n",
      "0003_resized\n",
      "x0_arr <class 'numpy.ndarray'>\n",
      "x1_arr <class 'numpy.ndarray'>\n",
      "Starting Training\n",
      "epoch: 00, loss: -0.99502\n",
      "epoch: 01, loss: -1.00000\n",
      "epoch: 02, loss: -1.00000\n",
      "epoch: 03, loss: -1.00000\n",
      "epoch: 04, loss: -1.00000\n",
      "epoch: 05, loss: -1.00000\n",
      "epoch: 06, loss: -1.00000\n",
      "epoch: 07, loss: -1.00000\n",
      "epoch: 08, loss: -1.00000\n"
     ]
    },
    {
     "name": "stderr",
     "output_type": "stream",
     "text": [
      "  0%|          | 3/999 [01:13<6:34:57, 23.79s/it]"
     ]
    },
    {
     "name": "stdout",
     "output_type": "stream",
     "text": [
      "epoch: 09, loss: -1.00000\n",
      "torch.Size([1024, 384])\n",
      "eigenvalues shape torch.Size([5]) eigenvectors shape torch.Size([5, 1024])\n",
      "3 /home/phdcs2/Hard_Disk/Datasets/Deep-Spectral-Segmentation/data/object-segmentation/ECSSD/features/0004_resized.pth\n",
      "dict_keys(['k', 'indices', 'file', 'id', 'model_name', 'patch_size', 'shape'])\n",
      "0004_resized\n",
      "x0_arr <class 'numpy.ndarray'>\n",
      "x1_arr <class 'numpy.ndarray'>\n",
      "Starting Training\n",
      "epoch: 00, loss: -0.98893\n",
      "epoch: 01, loss: -0.99665\n",
      "epoch: 02, loss: -0.99754\n",
      "epoch: 03, loss: -0.99801\n",
      "epoch: 04, loss: -0.99831\n",
      "epoch: 05, loss: -0.99852\n",
      "epoch: 06, loss: -0.99868\n",
      "epoch: 07, loss: -0.99880\n",
      "epoch: 08, loss: -0.99890\n",
      "epoch: 09, loss: -0.99898\n",
      "torch.Size([1024, 384])\n"
     ]
    },
    {
     "name": "stderr",
     "output_type": "stream",
     "text": [
      "  0%|          | 4/999 [01:35<6:27:47, 23.38s/it]"
     ]
    },
    {
     "name": "stdout",
     "output_type": "stream",
     "text": [
      "eigenvalues shape torch.Size([5]) eigenvectors shape torch.Size([5, 1024])\n",
      "4 /home/phdcs2/Hard_Disk/Datasets/Deep-Spectral-Segmentation/data/object-segmentation/ECSSD/features/0005_resized.pth\n",
      "dict_keys(['k', 'indices', 'file', 'id', 'model_name', 'patch_size', 'shape'])\n",
      "0005_resized\n",
      "x0_arr <class 'numpy.ndarray'>\n",
      "x1_arr <class 'numpy.ndarray'>\n",
      "Starting Training\n",
      "epoch: 00, loss: -0.99567\n",
      "epoch: 01, loss: -1.00000\n",
      "epoch: 02, loss: -1.00000\n",
      "epoch: 03, loss: -1.00000\n",
      "epoch: 04, loss: -1.00000\n",
      "epoch: 05, loss: -1.00000\n",
      "epoch: 06, loss: -1.00000\n",
      "epoch: 07, loss: -1.00000\n",
      "epoch: 08, loss: -1.00000\n",
      "epoch: 09, loss: -1.00000\n",
      "torch.Size([1024, 384])\n"
     ]
    },
    {
     "name": "stderr",
     "output_type": "stream",
     "text": [
      "  1%|          | 5/999 [01:58<6:24:47, 23.23s/it]"
     ]
    },
    {
     "name": "stdout",
     "output_type": "stream",
     "text": [
      "eigenvalues shape torch.Size([5]) eigenvectors shape torch.Size([5, 1024])\n",
      "5 /home/phdcs2/Hard_Disk/Datasets/Deep-Spectral-Segmentation/data/object-segmentation/ECSSD/features/0006_resized.pth\n",
      "dict_keys(['k', 'indices', 'file', 'id', 'model_name', 'patch_size', 'shape'])\n",
      "0006_resized\n",
      "x0_arr <class 'numpy.ndarray'>\n",
      "x1_arr <class 'numpy.ndarray'>\n",
      "Starting Training\n",
      "epoch: 00, loss: -0.99395\n",
      "epoch: 01, loss: -0.99887\n",
      "epoch: 02, loss: -0.99910\n",
      "epoch: 03, loss: -0.99924\n",
      "epoch: 04, loss: -0.99934\n",
      "epoch: 05, loss: -0.99941\n",
      "epoch: 06, loss: -0.99947\n",
      "epoch: 07, loss: -0.99951\n",
      "epoch: 08, loss: -0.99955\n",
      "epoch: 09, loss: -0.99958\n",
      "torch.Size([1024, 384])\n"
     ]
    },
    {
     "name": "stderr",
     "output_type": "stream",
     "text": [
      "  1%|          | 6/999 [02:22<6:25:19, 23.28s/it]"
     ]
    },
    {
     "name": "stdout",
     "output_type": "stream",
     "text": [
      "eigenvalues shape torch.Size([5]) eigenvectors shape torch.Size([5, 1024])\n",
      "6 /home/phdcs2/Hard_Disk/Datasets/Deep-Spectral-Segmentation/data/object-segmentation/ECSSD/features/0007_resized.pth\n",
      "dict_keys(['k', 'indices', 'file', 'id', 'model_name', 'patch_size', 'shape'])\n",
      "0007_resized\n",
      "x0_arr <class 'numpy.ndarray'>\n",
      "x1_arr <class 'numpy.ndarray'>\n",
      "Starting Training\n",
      "epoch: 00, loss: -0.95669\n",
      "epoch: 01, loss: -0.98972\n",
      "epoch: 02, loss: -0.99347\n",
      "epoch: 03, loss: -0.99518\n",
      "epoch: 04, loss: -0.99618\n",
      "epoch: 05, loss: -0.99683\n",
      "epoch: 06, loss: -0.99729\n",
      "epoch: 07, loss: -0.99763\n",
      "epoch: 08, loss: -0.99790\n",
      "epoch: 09, loss: -0.99811\n",
      "torch.Size([1024, 384])\n"
     ]
    },
    {
     "name": "stderr",
     "output_type": "stream",
     "text": [
      "  1%|          | 7/999 [02:48<6:38:30, 24.10s/it]"
     ]
    },
    {
     "name": "stdout",
     "output_type": "stream",
     "text": [
      "eigenvalues shape torch.Size([5]) eigenvectors shape torch.Size([5, 1024])\n",
      "7 /home/phdcs2/Hard_Disk/Datasets/Deep-Spectral-Segmentation/data/object-segmentation/ECSSD/features/0008_resized.pth\n",
      "dict_keys(['k', 'indices', 'file', 'id', 'model_name', 'patch_size', 'shape'])\n",
      "0008_resized\n",
      "x0_arr <class 'numpy.ndarray'>\n",
      "x1_arr <class 'numpy.ndarray'>\n",
      "Starting Training\n",
      "epoch: 00, loss: -0.94424\n",
      "epoch: 01, loss: -0.98233\n",
      "epoch: 02, loss: -0.98760\n",
      "epoch: 03, loss: -0.99020\n",
      "epoch: 04, loss: -0.99181\n",
      "epoch: 05, loss: -0.99290\n",
      "epoch: 06, loss: -0.99371\n",
      "epoch: 07, loss: -0.99435\n",
      "epoch: 08, loss: -0.99486\n",
      "epoch: 09, loss: -0.99527\n",
      "torch.Size([1024, 384])\n"
     ]
    },
    {
     "name": "stderr",
     "output_type": "stream",
     "text": [
      "  1%|          | 8/999 [03:14<6:48:21, 24.72s/it]"
     ]
    },
    {
     "name": "stdout",
     "output_type": "stream",
     "text": [
      "eigenvalues shape torch.Size([5]) eigenvectors shape torch.Size([5, 1024])\n",
      "8 /home/phdcs2/Hard_Disk/Datasets/Deep-Spectral-Segmentation/data/object-segmentation/ECSSD/features/0009_resized.pth\n",
      "dict_keys(['k', 'indices', 'file', 'id', 'model_name', 'patch_size', 'shape'])\n",
      "0009_resized\n",
      "x0_arr <class 'numpy.ndarray'>\n",
      "x1_arr <class 'numpy.ndarray'>\n",
      "Starting Training\n",
      "epoch: 00, loss: -0.94277\n",
      "epoch: 01, loss: -0.98013\n",
      "epoch: 02, loss: -0.98545\n",
      "epoch: 03, loss: -0.98810\n",
      "epoch: 04, loss: -0.98977\n",
      "epoch: 05, loss: -0.99091\n",
      "epoch: 06, loss: -0.99180\n",
      "epoch: 07, loss: -0.99247\n",
      "epoch: 08, loss: -0.99303\n",
      "epoch: 09, loss: -0.99349\n",
      "torch.Size([1024, 384])\n"
     ]
    },
    {
     "name": "stderr",
     "output_type": "stream",
     "text": [
      "  1%|          | 9/999 [03:43<7:11:13, 26.13s/it]"
     ]
    },
    {
     "name": "stdout",
     "output_type": "stream",
     "text": [
      "eigenvalues shape torch.Size([5]) eigenvectors shape torch.Size([5, 1024])\n",
      "9 /home/phdcs2/Hard_Disk/Datasets/Deep-Spectral-Segmentation/data/object-segmentation/ECSSD/features/0010_resized.pth\n",
      "dict_keys(['k', 'indices', 'file', 'id', 'model_name', 'patch_size', 'shape'])\n",
      "0010_resized\n",
      "x0_arr <class 'numpy.ndarray'>\n",
      "x1_arr <class 'numpy.ndarray'>\n",
      "Starting Training\n",
      "epoch: 00, loss: -0.99542\n",
      "epoch: 01, loss: -1.00000\n",
      "epoch: 02, loss: -1.00000\n",
      "epoch: 03, loss: -1.00000\n",
      "epoch: 04, loss: -1.00000\n",
      "epoch: 05, loss: -1.00000\n",
      "epoch: 06, loss: -1.00000\n",
      "epoch: 07, loss: -1.00000\n",
      "epoch: 08, loss: -1.00000\n",
      "epoch: 09, loss: -1.00000\n",
      "torch.Size([1024, 384])\n"
     ]
    },
    {
     "name": "stderr",
     "output_type": "stream",
     "text": [
      "  1%|          | 10/999 [04:14<7:36:36, 27.70s/it]"
     ]
    },
    {
     "name": "stdout",
     "output_type": "stream",
     "text": [
      "eigenvalues shape torch.Size([5]) eigenvectors shape torch.Size([5, 1024])\n",
      "10 /home/phdcs2/Hard_Disk/Datasets/Deep-Spectral-Segmentation/data/object-segmentation/ECSSD/features/0011_resized.pth\n",
      "dict_keys(['k', 'indices', 'file', 'id', 'model_name', 'patch_size', 'shape'])\n",
      "0011_resized\n",
      "x0_arr <class 'numpy.ndarray'>\n",
      "x1_arr <class 'numpy.ndarray'>\n",
      "Starting Training\n",
      "epoch: 00, loss: -0.99571\n",
      "epoch: 01, loss: -1.00000\n",
      "epoch: 02, loss: -1.00000\n",
      "epoch: 03, loss: -1.00000\n",
      "epoch: 04, loss: -1.00000\n",
      "epoch: 05, loss: -1.00000\n",
      "epoch: 06, loss: -1.00000\n",
      "epoch: 07, loss: -1.00000\n",
      "epoch: 08, loss: -1.00000\n",
      "epoch: 09, loss: -1.00000\n",
      "torch.Size([1024, 384])\n"
     ]
    },
    {
     "name": "stderr",
     "output_type": "stream",
     "text": [
      "  1%|          | 11/999 [04:43<7:40:27, 27.96s/it]"
     ]
    },
    {
     "name": "stdout",
     "output_type": "stream",
     "text": [
      "eigenvalues shape torch.Size([5]) eigenvectors shape torch.Size([5, 1024])\n",
      "11 /home/phdcs2/Hard_Disk/Datasets/Deep-Spectral-Segmentation/data/object-segmentation/ECSSD/features/0012_resized.pth\n",
      "dict_keys(['k', 'indices', 'file', 'id', 'model_name', 'patch_size', 'shape'])\n",
      "0012_resized\n",
      "x0_arr <class 'numpy.ndarray'>\n",
      "x1_arr <class 'numpy.ndarray'>\n",
      "Starting Training\n",
      "epoch: 00, loss: -0.99582\n",
      "epoch: 01, loss: -1.00000\n",
      "epoch: 02, loss: -1.00000\n",
      "epoch: 03, loss: -1.00000\n",
      "epoch: 04, loss: -1.00000\n",
      "epoch: 05, loss: -1.00000\n",
      "epoch: 06, loss: -1.00000\n",
      "epoch: 07, loss: -1.00000\n",
      "epoch: 08, loss: -1.00000\n"
     ]
    },
    {
     "name": "stderr",
     "output_type": "stream",
     "text": [
      "  1%|          | 12/999 [05:11<7:41:55, 28.08s/it]"
     ]
    },
    {
     "name": "stdout",
     "output_type": "stream",
     "text": [
      "epoch: 09, loss: -1.00000\n",
      "torch.Size([1024, 384])\n",
      "eigenvalues shape torch.Size([5]) eigenvectors shape torch.Size([5, 1024])\n",
      "12 /home/phdcs2/Hard_Disk/Datasets/Deep-Spectral-Segmentation/data/object-segmentation/ECSSD/features/0013_resized.pth\n",
      "dict_keys(['k', 'indices', 'file', 'id', 'model_name', 'patch_size', 'shape'])\n",
      "0013_resized\n",
      "x0_arr <class 'numpy.ndarray'>\n",
      "x1_arr <class 'numpy.ndarray'>\n",
      "Starting Training\n",
      "epoch: 00, loss: -0.99621\n",
      "epoch: 01, loss: -1.00000\n",
      "epoch: 02, loss: -1.00000\n",
      "epoch: 03, loss: -1.00000\n",
      "epoch: 04, loss: -1.00000\n",
      "epoch: 05, loss: -1.00000\n",
      "epoch: 06, loss: -1.00000\n",
      "epoch: 07, loss: -1.00000\n",
      "epoch: 08, loss: -1.00000\n"
     ]
    },
    {
     "name": "stderr",
     "output_type": "stream",
     "text": [
      "  1%|▏         | 13/999 [05:35<7:20:02, 26.78s/it]"
     ]
    },
    {
     "name": "stdout",
     "output_type": "stream",
     "text": [
      "epoch: 09, loss: -1.00000\n",
      "torch.Size([1024, 384])\n",
      "eigenvalues shape torch.Size([5]) eigenvectors shape torch.Size([5, 1024])\n",
      "13 /home/phdcs2/Hard_Disk/Datasets/Deep-Spectral-Segmentation/data/object-segmentation/ECSSD/features/0014_resized.pth\n",
      "dict_keys(['k', 'indices', 'file', 'id', 'model_name', 'patch_size', 'shape'])\n",
      "0014_resized\n",
      "x0_arr <class 'numpy.ndarray'>\n",
      "x1_arr <class 'numpy.ndarray'>\n",
      "Starting Training\n",
      "epoch: 00, loss: -0.94193\n",
      "epoch: 01, loss: -0.97998\n",
      "epoch: 02, loss: -0.98539\n",
      "epoch: 03, loss: -0.98811\n",
      "epoch: 04, loss: -0.98980\n",
      "epoch: 05, loss: -0.99098\n",
      "epoch: 06, loss: -0.99187\n",
      "epoch: 07, loss: -0.99257\n",
      "epoch: 08, loss: -0.99312\n"
     ]
    },
    {
     "name": "stderr",
     "output_type": "stream",
     "text": [
      "  1%|▏         | 14/999 [05:58<7:02:26, 25.73s/it]"
     ]
    },
    {
     "name": "stdout",
     "output_type": "stream",
     "text": [
      "epoch: 09, loss: -0.99359\n",
      "torch.Size([1024, 384])\n",
      "eigenvalues shape torch.Size([5]) eigenvectors shape torch.Size([5, 1024])\n",
      "14 /home/phdcs2/Hard_Disk/Datasets/Deep-Spectral-Segmentation/data/object-segmentation/ECSSD/features/0015_resized.pth\n",
      "dict_keys(['k', 'indices', 'file', 'id', 'model_name', 'patch_size', 'shape'])\n",
      "0015_resized\n",
      "x0_arr <class 'numpy.ndarray'>\n",
      "x1_arr <class 'numpy.ndarray'>\n",
      "Starting Training\n",
      "epoch: 00, loss: -0.94490\n",
      "epoch: 01, loss: -0.98084\n",
      "epoch: 02, loss: -0.98598\n",
      "epoch: 03, loss: -0.98858\n",
      "epoch: 04, loss: -0.99020\n",
      "epoch: 05, loss: -0.99132\n",
      "epoch: 06, loss: -0.99217\n",
      "epoch: 07, loss: -0.99284\n",
      "epoch: 08, loss: -0.99337\n",
      "epoch: 09, loss: -0.99382\n",
      "torch.Size([1024, 384])\n"
     ]
    },
    {
     "name": "stderr",
     "output_type": "stream",
     "text": [
      "  2%|▏         | 15/999 [06:22<6:51:06, 25.07s/it]"
     ]
    },
    {
     "name": "stdout",
     "output_type": "stream",
     "text": [
      "eigenvalues shape torch.Size([5]) eigenvectors shape torch.Size([5, 1024])\n",
      "15 /home/phdcs2/Hard_Disk/Datasets/Deep-Spectral-Segmentation/data/object-segmentation/ECSSD/features/0016_resized.pth\n",
      "dict_keys(['k', 'indices', 'file', 'id', 'model_name', 'patch_size', 'shape'])\n",
      "0016_resized\n",
      "x0_arr <class 'numpy.ndarray'>\n",
      "x1_arr <class 'numpy.ndarray'>\n",
      "Starting Training\n",
      "epoch: 00, loss: -0.94078\n",
      "epoch: 01, loss: -0.97948\n",
      "epoch: 02, loss: -0.98506\n",
      "epoch: 03, loss: -0.98782\n",
      "epoch: 04, loss: -0.98956\n",
      "epoch: 05, loss: -0.99078\n",
      "epoch: 06, loss: -0.99168\n",
      "epoch: 07, loss: -0.99239\n",
      "epoch: 08, loss: -0.99297\n"
     ]
    },
    {
     "name": "stderr",
     "output_type": "stream",
     "text": [
      "  2%|▏         | 16/999 [06:46<6:48:39, 24.94s/it]"
     ]
    },
    {
     "name": "stdout",
     "output_type": "stream",
     "text": [
      "epoch: 09, loss: -0.99345\n",
      "torch.Size([1024, 384])\n",
      "eigenvalues shape torch.Size([5]) eigenvectors shape torch.Size([5, 1024])\n",
      "16 /home/phdcs2/Hard_Disk/Datasets/Deep-Spectral-Segmentation/data/object-segmentation/ECSSD/features/0017_resized.pth\n",
      "dict_keys(['k', 'indices', 'file', 'id', 'model_name', 'patch_size', 'shape'])\n",
      "0017_resized\n",
      "x0_arr <class 'numpy.ndarray'>\n",
      "x1_arr <class 'numpy.ndarray'>\n",
      "Starting Training\n",
      "epoch: 00, loss: -0.99502\n",
      "epoch: 01, loss: -1.00000\n",
      "epoch: 02, loss: -1.00000\n",
      "epoch: 03, loss: -1.00000\n",
      "epoch: 04, loss: -1.00000\n",
      "epoch: 05, loss: -1.00000\n",
      "epoch: 06, loss: -1.00000\n",
      "epoch: 07, loss: -1.00000\n",
      "epoch: 08, loss: -1.00000\n",
      "epoch: 09, loss: -1.00000\n",
      "torch.Size([1024, 384])\n"
     ]
    },
    {
     "name": "stderr",
     "output_type": "stream",
     "text": [
      "/home/phdcs2/Hard_Disk/Projects/T2I/deep-spectral-segmentation/venv/lib/python3.8/site-packages/scipy/sparse/linalg/_eigen/arpack/arpack.py:935: LinAlgWarning: Diagonal number 993 is exactly zero. Singular matrix.\n",
      "  self.M_lu = lu_factor(M)\n"
     ]
    },
    {
     "name": "stdout",
     "output_type": "stream",
     "text": [
      " ** On entry to SLASCL parameter number  4 had an illegal value\n",
      " ** On entry to SLASCL parameter number  4 had an illegal value\n"
     ]
    },
    {
     "name": "stderr",
     "output_type": "stream",
     "text": [
      "  2%|▏         | 17/999 [07:13<6:55:28, 25.39s/it]"
     ]
    },
    {
     "name": "stdout",
     "output_type": "stream",
     "text": [
      "eigenvalues shape torch.Size([5]) eigenvectors shape torch.Size([5, 1024])\n",
      "17 /home/phdcs2/Hard_Disk/Datasets/Deep-Spectral-Segmentation/data/object-segmentation/ECSSD/features/0018_resized.pth\n",
      "dict_keys(['k', 'indices', 'file', 'id', 'model_name', 'patch_size', 'shape'])\n",
      "0018_resized\n",
      "x0_arr <class 'numpy.ndarray'>\n",
      "x1_arr <class 'numpy.ndarray'>\n",
      "Starting Training\n",
      "epoch: 00, loss: -0.95891\n",
      "epoch: 01, loss: -0.98846\n",
      "epoch: 02, loss: -0.99183\n",
      "epoch: 03, loss: -0.99343\n",
      "epoch: 04, loss: -0.99440\n",
      "epoch: 05, loss: -0.99507\n",
      "epoch: 06, loss: -0.99557\n",
      "epoch: 07, loss: -0.99595\n",
      "epoch: 08, loss: -0.99626\n",
      "epoch: 09, loss: -0.99651\n",
      "torch.Size([1024, 384])\n"
     ]
    },
    {
     "name": "stderr",
     "output_type": "stream",
     "text": [
      "  2%|▏         | 18/999 [07:38<6:55:08, 25.39s/it]"
     ]
    },
    {
     "name": "stdout",
     "output_type": "stream",
     "text": [
      "eigenvalues shape torch.Size([5]) eigenvectors shape torch.Size([5, 1024])\n",
      "18 /home/phdcs2/Hard_Disk/Datasets/Deep-Spectral-Segmentation/data/object-segmentation/ECSSD/features/0019_resized.pth\n",
      "dict_keys(['k', 'indices', 'file', 'id', 'model_name', 'patch_size', 'shape'])\n",
      "0019_resized\n",
      "x0_arr <class 'numpy.ndarray'>\n",
      "x1_arr <class 'numpy.ndarray'>\n",
      "Starting Training\n",
      "epoch: 00, loss: -0.99511\n",
      "epoch: 01, loss: -1.00000\n",
      "epoch: 02, loss: -1.00000\n",
      "epoch: 03, loss: -1.00000\n",
      "epoch: 04, loss: -1.00000\n",
      "epoch: 05, loss: -1.00000\n",
      "epoch: 06, loss: -1.00000\n",
      "epoch: 07, loss: -1.00000\n",
      "epoch: 08, loss: -1.00000\n",
      "epoch: 09, loss: -1.00000\n",
      "torch.Size([1024, 384])\n"
     ]
    },
    {
     "name": "stderr",
     "output_type": "stream",
     "text": [
      "  2%|▏         | 19/999 [08:04<6:58:16, 25.61s/it]"
     ]
    },
    {
     "name": "stdout",
     "output_type": "stream",
     "text": [
      "eigenvalues shape torch.Size([5]) eigenvectors shape torch.Size([5, 1024])\n",
      "19 /home/phdcs2/Hard_Disk/Datasets/Deep-Spectral-Segmentation/data/object-segmentation/ECSSD/features/0020_resized.pth\n",
      "dict_keys(['k', 'indices', 'file', 'id', 'model_name', 'patch_size', 'shape'])\n",
      "0020_resized\n",
      "x0_arr <class 'numpy.ndarray'>\n",
      "x1_arr <class 'numpy.ndarray'>\n",
      "Starting Training\n",
      "epoch: 00, loss: -0.99549\n",
      "epoch: 01, loss: -1.00000\n",
      "epoch: 02, loss: -1.00000\n",
      "epoch: 03, loss: -1.00000\n",
      "epoch: 04, loss: -1.00000\n",
      "epoch: 05, loss: -1.00000\n",
      "epoch: 06, loss: -1.00000\n",
      "epoch: 07, loss: -1.00000\n",
      "epoch: 08, loss: -1.00000\n",
      "epoch: 09, loss: -1.00000\n",
      "torch.Size([1024, 384])\n"
     ]
    },
    {
     "name": "stderr",
     "output_type": "stream",
     "text": [
      "  2%|▏         | 20/999 [08:33<7:15:36, 26.70s/it]"
     ]
    },
    {
     "name": "stdout",
     "output_type": "stream",
     "text": [
      "eigenvalues shape torch.Size([5]) eigenvectors shape torch.Size([5, 1024])\n",
      "20 /home/phdcs2/Hard_Disk/Datasets/Deep-Spectral-Segmentation/data/object-segmentation/ECSSD/features/0021_resized.pth\n",
      "dict_keys(['k', 'indices', 'file', 'id', 'model_name', 'patch_size', 'shape'])\n",
      "0021_resized\n",
      "x0_arr <class 'numpy.ndarray'>\n",
      "x1_arr <class 'numpy.ndarray'>\n",
      "Starting Training\n",
      "epoch: 00, loss: -0.94057\n",
      "epoch: 01, loss: -0.98091\n",
      "epoch: 02, loss: -0.98642\n",
      "epoch: 03, loss: -0.98916\n",
      "epoch: 04, loss: -0.99086\n",
      "epoch: 05, loss: -0.99205\n",
      "epoch: 06, loss: -0.99293\n",
      "epoch: 07, loss: -0.99361\n",
      "epoch: 08, loss: -0.99415\n",
      "epoch: 09, loss: -0.99462\n",
      "torch.Size([1024, 384])\n"
     ]
    },
    {
     "name": "stderr",
     "output_type": "stream",
     "text": [
      "  2%|▏         | 21/999 [09:05<7:40:27, 28.25s/it]"
     ]
    },
    {
     "name": "stdout",
     "output_type": "stream",
     "text": [
      "eigenvalues shape torch.Size([5]) eigenvectors shape torch.Size([5, 1024])\n",
      "21 /home/phdcs2/Hard_Disk/Datasets/Deep-Spectral-Segmentation/data/object-segmentation/ECSSD/features/0022_resized.pth\n",
      "dict_keys(['k', 'indices', 'file', 'id', 'model_name', 'patch_size', 'shape'])\n",
      "0022_resized\n",
      "x0_arr <class 'numpy.ndarray'>\n",
      "x1_arr <class 'numpy.ndarray'>\n",
      "Starting Training\n",
      "epoch: 00, loss: -0.97247\n",
      "epoch: 01, loss: -0.99089\n",
      "epoch: 02, loss: -0.99360\n",
      "epoch: 03, loss: -0.99494\n",
      "epoch: 04, loss: -0.99576\n",
      "epoch: 05, loss: -0.99634\n",
      "epoch: 06, loss: -0.99676\n",
      "epoch: 07, loss: -0.99709\n",
      "epoch: 08, loss: -0.99735\n",
      "epoch: 09, loss: -0.99757\n",
      "torch.Size([1024, 384])\n"
     ]
    },
    {
     "name": "stderr",
     "output_type": "stream",
     "text": [
      "  2%|▏         | 22/999 [09:34<7:40:03, 28.25s/it]"
     ]
    },
    {
     "name": "stdout",
     "output_type": "stream",
     "text": [
      "eigenvalues shape torch.Size([5]) eigenvectors shape torch.Size([5, 1024])\n",
      "22 /home/phdcs2/Hard_Disk/Datasets/Deep-Spectral-Segmentation/data/object-segmentation/ECSSD/features/0024_resized.pth\n",
      "dict_keys(['k', 'indices', 'file', 'id', 'model_name', 'patch_size', 'shape'])\n",
      "0024_resized\n",
      "x0_arr <class 'numpy.ndarray'>\n",
      "x1_arr <class 'numpy.ndarray'>\n",
      "Starting Training\n",
      "epoch: 00, loss: -0.95047\n",
      "epoch: 01, loss: -0.98411\n",
      "epoch: 02, loss: -0.98869\n",
      "epoch: 03, loss: -0.99094\n",
      "epoch: 04, loss: -0.99232\n",
      "epoch: 05, loss: -0.99326\n",
      "epoch: 06, loss: -0.99397\n",
      "epoch: 07, loss: -0.99451\n",
      "epoch: 08, loss: -0.99495\n",
      "epoch: 09, loss: -0.99530\n",
      "torch.Size([1024, 384])\n"
     ]
    },
    {
     "name": "stderr",
     "output_type": "stream",
     "text": [
      "  2%|▏         | 23/999 [10:00<7:31:11, 27.74s/it]"
     ]
    },
    {
     "name": "stdout",
     "output_type": "stream",
     "text": [
      "eigenvalues shape torch.Size([5]) eigenvectors shape torch.Size([5, 1024])\n",
      "23 /home/phdcs2/Hard_Disk/Datasets/Deep-Spectral-Segmentation/data/object-segmentation/ECSSD/features/0025_resized.pth\n",
      "dict_keys(['k', 'indices', 'file', 'id', 'model_name', 'patch_size', 'shape'])\n",
      "0025_resized\n",
      "x0_arr <class 'numpy.ndarray'>\n",
      "x1_arr <class 'numpy.ndarray'>\n",
      "Starting Training\n",
      "epoch: 00, loss: -0.99517\n",
      "epoch: 01, loss: -1.00000\n",
      "epoch: 02, loss: -1.00000\n",
      "epoch: 03, loss: -1.00000\n",
      "epoch: 04, loss: -1.00000\n",
      "epoch: 05, loss: -1.00000\n",
      "epoch: 06, loss: -1.00000\n",
      "epoch: 07, loss: -1.00000\n",
      "epoch: 08, loss: -1.00000\n",
      "epoch: 09, loss: -1.00000\n",
      "torch.Size([1024, 384])\n"
     ]
    },
    {
     "name": "stderr",
     "output_type": "stream",
     "text": [
      "  2%|▏         | 24/999 [10:25<7:17:57, 26.95s/it]"
     ]
    },
    {
     "name": "stdout",
     "output_type": "stream",
     "text": [
      "eigenvalues shape torch.Size([5]) eigenvectors shape torch.Size([5, 1024])\n",
      "24 /home/phdcs2/Hard_Disk/Datasets/Deep-Spectral-Segmentation/data/object-segmentation/ECSSD/features/0026_resized.pth\n",
      "dict_keys(['k', 'indices', 'file', 'id', 'model_name', 'patch_size', 'shape'])\n",
      "0026_resized\n",
      "x0_arr <class 'numpy.ndarray'>\n",
      "x1_arr <class 'numpy.ndarray'>\n",
      "Starting Training\n",
      "epoch: 00, loss: -0.97056\n",
      "epoch: 01, loss: -0.99194\n",
      "epoch: 02, loss: -0.99488\n",
      "epoch: 03, loss: -0.99626\n",
      "epoch: 04, loss: -0.99707\n",
      "epoch: 05, loss: -0.99760\n",
      "epoch: 06, loss: -0.99798\n",
      "epoch: 07, loss: -0.99825\n",
      "epoch: 08, loss: -0.99847\n",
      "epoch: 09, loss: -0.99864\n",
      "torch.Size([1024, 384])\n"
     ]
    },
    {
     "name": "stderr",
     "output_type": "stream",
     "text": [
      "  3%|▎         | 25/999 [10:51<7:10:44, 26.53s/it]"
     ]
    },
    {
     "name": "stdout",
     "output_type": "stream",
     "text": [
      "eigenvalues shape torch.Size([5]) eigenvectors shape torch.Size([5, 1024])\n",
      "25 /home/phdcs2/Hard_Disk/Datasets/Deep-Spectral-Segmentation/data/object-segmentation/ECSSD/features/0027_resized.pth\n",
      "dict_keys(['k', 'indices', 'file', 'id', 'model_name', 'patch_size', 'shape'])\n",
      "0027_resized\n",
      "x0_arr <class 'numpy.ndarray'>\n",
      "x1_arr <class 'numpy.ndarray'>\n",
      "Starting Training\n",
      "epoch: 00, loss: -0.94279\n",
      "epoch: 01, loss: -0.98051\n",
      "epoch: 02, loss: -0.98586\n",
      "epoch: 03, loss: -0.98856\n",
      "epoch: 04, loss: -0.99023\n",
      "epoch: 05, loss: -0.99140\n",
      "epoch: 06, loss: -0.99227\n",
      "epoch: 07, loss: -0.99295\n",
      "epoch: 08, loss: -0.99350\n",
      "epoch: 09, loss: -0.99396\n",
      "torch.Size([1024, 384])\n"
     ]
    },
    {
     "name": "stderr",
     "output_type": "stream",
     "text": [
      "  3%|▎         | 26/999 [11:16<7:02:46, 26.07s/it]"
     ]
    },
    {
     "name": "stdout",
     "output_type": "stream",
     "text": [
      "eigenvalues shape torch.Size([5]) eigenvectors shape torch.Size([5, 1024])\n",
      "26 /home/phdcs2/Hard_Disk/Datasets/Deep-Spectral-Segmentation/data/object-segmentation/ECSSD/features/0028_resized.pth\n",
      "dict_keys(['k', 'indices', 'file', 'id', 'model_name', 'patch_size', 'shape'])\n",
      "0028_resized\n",
      "x0_arr <class 'numpy.ndarray'>\n",
      "x1_arr <class 'numpy.ndarray'>\n",
      "Starting Training\n",
      "epoch: 00, loss: -0.99540\n",
      "epoch: 01, loss: -1.00000\n",
      "epoch: 02, loss: -1.00000\n",
      "epoch: 03, loss: -1.00000\n",
      "epoch: 04, loss: -1.00000\n",
      "epoch: 05, loss: -1.00000\n",
      "epoch: 06, loss: -1.00000\n",
      "epoch: 07, loss: -1.00000\n",
      "epoch: 08, loss: -1.00000\n"
     ]
    },
    {
     "name": "stderr",
     "output_type": "stream",
     "text": [
      "  3%|▎         | 27/999 [11:40<6:52:58, 25.49s/it]"
     ]
    },
    {
     "name": "stdout",
     "output_type": "stream",
     "text": [
      "epoch: 09, loss: -1.00000\n",
      "torch.Size([1024, 384])\n",
      "eigenvalues shape torch.Size([5]) eigenvectors shape torch.Size([5, 1024])\n",
      "27 /home/phdcs2/Hard_Disk/Datasets/Deep-Spectral-Segmentation/data/object-segmentation/ECSSD/features/0029_resized.pth\n",
      "dict_keys(['k', 'indices', 'file', 'id', 'model_name', 'patch_size', 'shape'])\n",
      "0029_resized\n",
      "x0_arr <class 'numpy.ndarray'>\n",
      "x1_arr <class 'numpy.ndarray'>\n",
      "Starting Training\n",
      "epoch: 00, loss: -0.95349\n",
      "epoch: 01, loss: -0.98390\n",
      "epoch: 02, loss: -0.98836\n",
      "epoch: 03, loss: -0.99058\n",
      "epoch: 04, loss: -0.99196\n",
      "epoch: 05, loss: -0.99293\n",
      "epoch: 06, loss: -0.99365\n",
      "epoch: 07, loss: -0.99422\n",
      "epoch: 08, loss: -0.99467\n",
      "epoch: 09, loss: -0.99506\n",
      "torch.Size([1024, 384])\n"
     ]
    },
    {
     "name": "stderr",
     "output_type": "stream",
     "text": [
      "  3%|▎         | 28/999 [12:04<6:46:54, 25.14s/it]"
     ]
    },
    {
     "name": "stdout",
     "output_type": "stream",
     "text": [
      "eigenvalues shape torch.Size([5]) eigenvectors shape torch.Size([5, 1024])\n",
      "28 /home/phdcs2/Hard_Disk/Datasets/Deep-Spectral-Segmentation/data/object-segmentation/ECSSD/features/0030_resized.pth\n",
      "dict_keys(['k', 'indices', 'file', 'id', 'model_name', 'patch_size', 'shape'])\n",
      "0030_resized\n",
      "x0_arr <class 'numpy.ndarray'>\n",
      "x1_arr <class 'numpy.ndarray'>\n",
      "Starting Training\n",
      "epoch: 00, loss: -0.95330\n",
      "epoch: 01, loss: -0.98881\n",
      "epoch: 02, loss: -0.99257\n",
      "epoch: 03, loss: -0.99425\n",
      "epoch: 04, loss: -0.99522\n",
      "epoch: 05, loss: -0.99586\n",
      "epoch: 06, loss: -0.99631\n",
      "epoch: 07, loss: -0.99666\n",
      "epoch: 08, loss: -0.99693\n"
     ]
    },
    {
     "name": "stderr",
     "output_type": "stream",
     "text": [
      "  3%|▎         | 29/999 [12:29<6:44:18, 25.01s/it]"
     ]
    },
    {
     "name": "stdout",
     "output_type": "stream",
     "text": [
      "epoch: 09, loss: -0.99716\n",
      "torch.Size([1024, 384])\n",
      "eigenvalues shape torch.Size([5]) eigenvectors shape torch.Size([5, 1024])\n",
      "29 /home/phdcs2/Hard_Disk/Datasets/Deep-Spectral-Segmentation/data/object-segmentation/ECSSD/features/0031_resized.pth\n",
      "dict_keys(['k', 'indices', 'file', 'id', 'model_name', 'patch_size', 'shape'])\n",
      "0031_resized\n",
      "x0_arr <class 'numpy.ndarray'>\n",
      "x1_arr <class 'numpy.ndarray'>\n",
      "Starting Training\n",
      "epoch: 00, loss: -0.99576\n",
      "epoch: 01, loss: -1.00000\n",
      "epoch: 02, loss: -1.00000\n",
      "epoch: 03, loss: -1.00000\n",
      "epoch: 04, loss: -1.00000\n",
      "epoch: 05, loss: -1.00000\n",
      "epoch: 06, loss: -1.00000\n",
      "epoch: 07, loss: -1.00000\n",
      "epoch: 08, loss: -1.00000\n",
      "epoch: 09, loss: -1.00000\n",
      "torch.Size([1024, 384])\n"
     ]
    },
    {
     "name": "stderr",
     "output_type": "stream",
     "text": [
      "  3%|▎         | 30/999 [12:53<6:40:31, 24.80s/it]"
     ]
    },
    {
     "name": "stdout",
     "output_type": "stream",
     "text": [
      "eigenvalues shape torch.Size([5]) eigenvectors shape torch.Size([5, 1024])\n",
      "30 /home/phdcs2/Hard_Disk/Datasets/Deep-Spectral-Segmentation/data/object-segmentation/ECSSD/features/0032_resized.pth\n",
      "dict_keys(['k', 'indices', 'file', 'id', 'model_name', 'patch_size', 'shape'])\n",
      "0032_resized\n",
      "x0_arr <class 'numpy.ndarray'>\n",
      "x1_arr <class 'numpy.ndarray'>\n",
      "Starting Training\n",
      "epoch: 00, loss: -0.94129\n",
      "epoch: 01, loss: -0.98142\n",
      "epoch: 02, loss: -0.98692\n",
      "epoch: 03, loss: -0.98961\n",
      "epoch: 04, loss: -0.99127\n",
      "epoch: 05, loss: -0.99243\n",
      "epoch: 06, loss: -0.99328\n",
      "epoch: 07, loss: -0.99393\n",
      "epoch: 08, loss: -0.99445\n",
      "epoch: 09, loss: -0.99489\n",
      "torch.Size([1024, 384])\n"
     ]
    },
    {
     "name": "stderr",
     "output_type": "stream",
     "text": [
      "  3%|▎         | 31/999 [13:18<6:37:55, 24.66s/it]"
     ]
    },
    {
     "name": "stdout",
     "output_type": "stream",
     "text": [
      "eigenvalues shape torch.Size([5]) eigenvectors shape torch.Size([5, 1024])\n",
      "31 /home/phdcs2/Hard_Disk/Datasets/Deep-Spectral-Segmentation/data/object-segmentation/ECSSD/features/0033_resized.pth\n",
      "dict_keys(['k', 'indices', 'file', 'id', 'model_name', 'patch_size', 'shape'])\n",
      "0033_resized\n",
      "x0_arr <class 'numpy.ndarray'>\n",
      "x1_arr <class 'numpy.ndarray'>\n",
      "Starting Training\n",
      "epoch: 00, loss: -0.99576\n",
      "epoch: 01, loss: -0.99996\n",
      "epoch: 02, loss: -0.99996\n",
      "epoch: 03, loss: -0.99996\n",
      "epoch: 04, loss: -0.99996\n",
      "epoch: 05, loss: -0.99996\n",
      "epoch: 06, loss: -0.99996\n",
      "epoch: 07, loss: -0.99996\n",
      "epoch: 08, loss: -0.99997\n",
      "epoch: 09, loss: -0.99997\n",
      "torch.Size([1024, 384])\n"
     ]
    },
    {
     "name": "stderr",
     "output_type": "stream",
     "text": [
      "  3%|▎         | 32/999 [13:42<6:37:11, 24.64s/it]"
     ]
    },
    {
     "name": "stdout",
     "output_type": "stream",
     "text": [
      "eigenvalues shape torch.Size([5]) eigenvectors shape torch.Size([5, 1024])\n",
      "32 /home/phdcs2/Hard_Disk/Datasets/Deep-Spectral-Segmentation/data/object-segmentation/ECSSD/features/0034_resized.pth\n",
      "dict_keys(['k', 'indices', 'file', 'id', 'model_name', 'patch_size', 'shape'])\n",
      "0034_resized\n",
      "x0_arr <class 'numpy.ndarray'>\n",
      "x1_arr <class 'numpy.ndarray'>\n",
      "Starting Training\n",
      "epoch: 00, loss: -0.98663\n",
      "epoch: 01, loss: -0.99586\n",
      "epoch: 02, loss: -0.99714\n",
      "epoch: 03, loss: -0.99778\n",
      "epoch: 04, loss: -0.99817\n",
      "epoch: 05, loss: -0.99843\n",
      "epoch: 06, loss: -0.99863\n",
      "epoch: 07, loss: -0.99878\n",
      "epoch: 08, loss: -0.99890\n",
      "epoch: 09, loss: -0.99899\n",
      "torch.Size([1024, 384])\n"
     ]
    },
    {
     "name": "stderr",
     "output_type": "stream",
     "text": [
      "  3%|▎         | 33/999 [14:07<6:35:28, 24.56s/it]"
     ]
    },
    {
     "name": "stdout",
     "output_type": "stream",
     "text": [
      "eigenvalues shape torch.Size([5]) eigenvectors shape torch.Size([5, 1024])\n",
      "33 /home/phdcs2/Hard_Disk/Datasets/Deep-Spectral-Segmentation/data/object-segmentation/ECSSD/features/0035_resized.pth\n",
      "dict_keys(['k', 'indices', 'file', 'id', 'model_name', 'patch_size', 'shape'])\n",
      "0035_resized\n",
      "x0_arr <class 'numpy.ndarray'>\n",
      "x1_arr <class 'numpy.ndarray'>\n",
      "Starting Training\n",
      "epoch: 00, loss: -0.94236\n",
      "epoch: 01, loss: -0.98108\n",
      "epoch: 02, loss: -0.98650\n",
      "epoch: 03, loss: -0.98918\n",
      "epoch: 04, loss: -0.99084\n",
      "epoch: 05, loss: -0.99200\n",
      "epoch: 06, loss: -0.99286\n",
      "epoch: 07, loss: -0.99353\n",
      "epoch: 08, loss: -0.99406\n"
     ]
    },
    {
     "name": "stderr",
     "output_type": "stream",
     "text": [
      "  3%|▎         | 34/999 [14:31<6:34:05, 24.50s/it]"
     ]
    },
    {
     "name": "stdout",
     "output_type": "stream",
     "text": [
      "epoch: 09, loss: -0.99451\n",
      "torch.Size([1024, 384])\n",
      "eigenvalues shape torch.Size([5]) eigenvectors shape torch.Size([5, 1024])\n",
      "34 /home/phdcs2/Hard_Disk/Datasets/Deep-Spectral-Segmentation/data/object-segmentation/ECSSD/features/0036_resized.pth\n",
      "dict_keys(['k', 'indices', 'file', 'id', 'model_name', 'patch_size', 'shape'])\n",
      "0036_resized\n",
      "x0_arr <class 'numpy.ndarray'>\n",
      "x1_arr <class 'numpy.ndarray'>\n",
      "Starting Training\n",
      "epoch: 00, loss: -0.99560\n",
      "epoch: 01, loss: -0.99994\n",
      "epoch: 02, loss: -0.99994\n",
      "epoch: 03, loss: -0.99995\n",
      "epoch: 04, loss: -0.99995\n",
      "epoch: 05, loss: -0.99995\n",
      "epoch: 06, loss: -0.99995\n",
      "epoch: 07, loss: -0.99995\n",
      "epoch: 08, loss: -0.99995\n",
      "epoch: 09, loss: -0.99995\n",
      "torch.Size([1024, 384])\n"
     ]
    },
    {
     "name": "stderr",
     "output_type": "stream",
     "text": [
      "  4%|▎         | 35/999 [14:55<6:33:28, 24.49s/it]"
     ]
    },
    {
     "name": "stdout",
     "output_type": "stream",
     "text": [
      "eigenvalues shape torch.Size([5]) eigenvectors shape torch.Size([5, 1024])\n",
      "35 /home/phdcs2/Hard_Disk/Datasets/Deep-Spectral-Segmentation/data/object-segmentation/ECSSD/features/0037_resized.pth\n",
      "dict_keys(['k', 'indices', 'file', 'id', 'model_name', 'patch_size', 'shape'])\n",
      "0037_resized\n",
      "x0_arr <class 'numpy.ndarray'>\n",
      "x1_arr <class 'numpy.ndarray'>\n",
      "Starting Training\n",
      "epoch: 00, loss: -0.94678\n",
      "epoch: 01, loss: -0.98139\n",
      "epoch: 02, loss: -0.98640\n",
      "epoch: 03, loss: -0.98891\n",
      "epoch: 04, loss: -0.99046\n",
      "epoch: 05, loss: -0.99155\n",
      "epoch: 06, loss: -0.99238\n",
      "epoch: 07, loss: -0.99304\n",
      "epoch: 08, loss: -0.99355\n",
      "epoch: 09, loss: -0.99397\n",
      "torch.Size([1024, 384])\n"
     ]
    },
    {
     "name": "stderr",
     "output_type": "stream",
     "text": [
      "  4%|▎         | 36/999 [15:20<6:33:35, 24.52s/it]"
     ]
    },
    {
     "name": "stdout",
     "output_type": "stream",
     "text": [
      "eigenvalues shape torch.Size([5]) eigenvectors shape torch.Size([5, 1024])\n",
      "36 /home/phdcs2/Hard_Disk/Datasets/Deep-Spectral-Segmentation/data/object-segmentation/ECSSD/features/0038_resized.pth\n",
      "dict_keys(['k', 'indices', 'file', 'id', 'model_name', 'patch_size', 'shape'])\n",
      "0038_resized\n",
      "x0_arr <class 'numpy.ndarray'>\n",
      "x1_arr <class 'numpy.ndarray'>\n",
      "Starting Training\n",
      "epoch: 00, loss: -0.93912\n",
      "epoch: 01, loss: -0.97962\n",
      "epoch: 02, loss: -0.98530\n",
      "epoch: 03, loss: -0.98815\n",
      "epoch: 04, loss: -0.98992\n",
      "epoch: 05, loss: -0.99114\n",
      "epoch: 06, loss: -0.99207\n",
      "epoch: 07, loss: -0.99279\n",
      "epoch: 08, loss: -0.99337\n",
      "epoch: 09, loss: -0.99385\n",
      "torch.Size([1024, 384])\n"
     ]
    },
    {
     "name": "stderr",
     "output_type": "stream",
     "text": [
      "  4%|▎         | 37/999 [15:44<6:32:21, 24.47s/it]"
     ]
    },
    {
     "name": "stdout",
     "output_type": "stream",
     "text": [
      "eigenvalues shape torch.Size([5]) eigenvectors shape torch.Size([5, 1024])\n",
      "37 /home/phdcs2/Hard_Disk/Datasets/Deep-Spectral-Segmentation/data/object-segmentation/ECSSD/features/0039_resized.pth\n",
      "dict_keys(['k', 'indices', 'file', 'id', 'model_name', 'patch_size', 'shape'])\n",
      "0039_resized\n",
      "x0_arr <class 'numpy.ndarray'>\n",
      "x1_arr <class 'numpy.ndarray'>\n",
      "Starting Training\n",
      "epoch: 00, loss: -0.94648\n",
      "epoch: 01, loss: -0.98375\n",
      "epoch: 02, loss: -0.98889\n",
      "epoch: 03, loss: -0.99139\n",
      "epoch: 04, loss: -0.99291\n",
      "epoch: 05, loss: -0.99395\n",
      "epoch: 06, loss: -0.99472\n",
      "epoch: 07, loss: -0.99531\n",
      "epoch: 08, loss: -0.99577\n",
      "epoch: 09, loss: -0.99615\n",
      "torch.Size([1024, 384])\n"
     ]
    },
    {
     "name": "stderr",
     "output_type": "stream",
     "text": [
      "  4%|▍         | 38/999 [16:09<6:30:50, 24.40s/it]"
     ]
    },
    {
     "name": "stdout",
     "output_type": "stream",
     "text": [
      "eigenvalues shape torch.Size([5]) eigenvectors shape torch.Size([5, 1024])\n",
      "38 /home/phdcs2/Hard_Disk/Datasets/Deep-Spectral-Segmentation/data/object-segmentation/ECSSD/features/0040_resized.pth\n",
      "dict_keys(['k', 'indices', 'file', 'id', 'model_name', 'patch_size', 'shape'])\n",
      "0040_resized\n",
      "x0_arr <class 'numpy.ndarray'>\n",
      "x1_arr <class 'numpy.ndarray'>\n",
      "Starting Training\n",
      "epoch: 00, loss: -0.99542\n",
      "epoch: 01, loss: -1.00000\n",
      "epoch: 02, loss: -1.00000\n",
      "epoch: 03, loss: -1.00000\n",
      "epoch: 04, loss: -1.00000\n",
      "epoch: 05, loss: -1.00000\n",
      "epoch: 06, loss: -1.00000\n",
      "epoch: 07, loss: -1.00000\n",
      "epoch: 08, loss: -1.00000\n",
      "epoch: 09, loss: -1.00000\n",
      "torch.Size([1024, 384])\n"
     ]
    },
    {
     "name": "stderr",
     "output_type": "stream",
     "text": [
      "  4%|▍         | 39/999 [16:33<6:31:35, 24.47s/it]"
     ]
    },
    {
     "name": "stdout",
     "output_type": "stream",
     "text": [
      "eigenvalues shape torch.Size([5]) eigenvectors shape torch.Size([5, 1024])\n",
      "39 /home/phdcs2/Hard_Disk/Datasets/Deep-Spectral-Segmentation/data/object-segmentation/ECSSD/features/0041_resized.pth\n",
      "dict_keys(['k', 'indices', 'file', 'id', 'model_name', 'patch_size', 'shape'])\n",
      "0041_resized\n",
      "x0_arr <class 'numpy.ndarray'>\n",
      "x1_arr <class 'numpy.ndarray'>\n",
      "Starting Training\n",
      "epoch: 00, loss: -0.93865\n",
      "epoch: 01, loss: -0.98048\n",
      "epoch: 02, loss: -0.98621\n",
      "epoch: 03, loss: -0.98904\n",
      "epoch: 04, loss: -0.99079\n",
      "epoch: 05, loss: -0.99201\n",
      "epoch: 06, loss: -0.99291\n",
      "epoch: 07, loss: -0.99361\n",
      "epoch: 08, loss: -0.99417\n",
      "epoch: 09, loss: -0.99464\n",
      "torch.Size([1024, 384])\n"
     ]
    },
    {
     "name": "stderr",
     "output_type": "stream",
     "text": [
      "  4%|▍         | 40/999 [16:57<6:29:52, 24.39s/it]"
     ]
    },
    {
     "name": "stdout",
     "output_type": "stream",
     "text": [
      "eigenvalues shape torch.Size([5]) eigenvectors shape torch.Size([5, 1024])\n",
      "40 /home/phdcs2/Hard_Disk/Datasets/Deep-Spectral-Segmentation/data/object-segmentation/ECSSD/features/0042_resized.pth\n",
      "dict_keys(['k', 'indices', 'file', 'id', 'model_name', 'patch_size', 'shape'])\n",
      "0042_resized\n",
      "x0_arr <class 'numpy.ndarray'>\n",
      "x1_arr <class 'numpy.ndarray'>\n",
      "Starting Training\n",
      "epoch: 00, loss: -0.99501\n",
      "epoch: 01, loss: -1.00000\n",
      "epoch: 02, loss: -1.00000\n",
      "epoch: 03, loss: -1.00000\n",
      "epoch: 04, loss: -1.00000\n",
      "epoch: 05, loss: -1.00000\n",
      "epoch: 06, loss: -1.00000\n",
      "epoch: 07, loss: -1.00000\n",
      "epoch: 08, loss: -1.00000\n",
      "epoch: 09, loss: -1.00000\n",
      "torch.Size([1024, 384])\n",
      "eigenvalues shape torch.Size([5]) eigenvectors shape torch.Size([5, 1024])\n"
     ]
    },
    {
     "name": "stderr",
     "output_type": "stream",
     "text": [
      "  4%|▍         | 41/999 [17:21<6:26:59, 24.24s/it]"
     ]
    },
    {
     "name": "stdout",
     "output_type": "stream",
     "text": [
      "41 /home/phdcs2/Hard_Disk/Datasets/Deep-Spectral-Segmentation/data/object-segmentation/ECSSD/features/0043_resized.pth\n",
      "dict_keys(['k', 'indices', 'file', 'id', 'model_name', 'patch_size', 'shape'])\n",
      "0043_resized\n",
      "x0_arr <class 'numpy.ndarray'>\n",
      "x1_arr <class 'numpy.ndarray'>\n",
      "Starting Training\n",
      "epoch: 00, loss: -0.94863\n",
      "epoch: 01, loss: -0.98321\n",
      "epoch: 02, loss: -0.98809\n",
      "epoch: 03, loss: -0.99051\n",
      "epoch: 04, loss: -0.99202\n",
      "epoch: 05, loss: -0.99306\n",
      "epoch: 06, loss: -0.99384\n",
      "epoch: 07, loss: -0.99444\n",
      "epoch: 08, loss: -0.99493\n",
      "epoch: 09, loss: -0.99533\n",
      "torch.Size([1024, 384])\n"
     ]
    },
    {
     "name": "stderr",
     "output_type": "stream",
     "text": [
      "  4%|▍         | 42/999 [17:46<6:26:31, 24.23s/it]"
     ]
    },
    {
     "name": "stdout",
     "output_type": "stream",
     "text": [
      "eigenvalues shape torch.Size([5]) eigenvectors shape torch.Size([5, 1024])\n",
      "42 /home/phdcs2/Hard_Disk/Datasets/Deep-Spectral-Segmentation/data/object-segmentation/ECSSD/features/0044_resized.pth\n",
      "dict_keys(['k', 'indices', 'file', 'id', 'model_name', 'patch_size', 'shape'])\n",
      "0044_resized\n",
      "x0_arr <class 'numpy.ndarray'>\n",
      "x1_arr <class 'numpy.ndarray'>\n",
      "Starting Training\n",
      "epoch: 00, loss: -0.94097\n",
      "epoch: 01, loss: -0.98022\n",
      "epoch: 02, loss: -0.98560\n",
      "epoch: 03, loss: -0.98829\n",
      "epoch: 04, loss: -0.98999\n",
      "epoch: 05, loss: -0.99117\n",
      "epoch: 06, loss: -0.99206\n",
      "epoch: 07, loss: -0.99273\n",
      "epoch: 08, loss: -0.99328\n",
      "epoch: 09, loss: -0.99374\n",
      "torch.Size([1024, 384])\n"
     ]
    },
    {
     "name": "stderr",
     "output_type": "stream",
     "text": [
      "  4%|▍         | 43/999 [18:12<6:36:49, 24.91s/it]"
     ]
    },
    {
     "name": "stdout",
     "output_type": "stream",
     "text": [
      "eigenvalues shape torch.Size([5]) eigenvectors shape torch.Size([5, 1024])\n",
      "43 /home/phdcs2/Hard_Disk/Datasets/Deep-Spectral-Segmentation/data/object-segmentation/ECSSD/features/0045_resized.pth\n",
      "dict_keys(['k', 'indices', 'file', 'id', 'model_name', 'patch_size', 'shape'])\n",
      "0045_resized\n",
      "x0_arr <class 'numpy.ndarray'>\n",
      "x1_arr <class 'numpy.ndarray'>\n",
      "Starting Training\n",
      "epoch: 00, loss: -0.99522\n",
      "epoch: 01, loss: -1.00000\n",
      "epoch: 02, loss: -1.00000\n",
      "epoch: 03, loss: -1.00000\n",
      "epoch: 04, loss: -1.00000\n",
      "epoch: 05, loss: -1.00000\n",
      "epoch: 06, loss: -1.00000\n",
      "epoch: 07, loss: -1.00000\n",
      "epoch: 08, loss: -1.00000\n",
      "epoch: 09, loss: -1.00000\n",
      "torch.Size([1024, 384])\n"
     ]
    },
    {
     "name": "stderr",
     "output_type": "stream",
     "text": [
      "  4%|▍         | 44/999 [18:36<6:34:10, 24.76s/it]"
     ]
    },
    {
     "name": "stdout",
     "output_type": "stream",
     "text": [
      "eigenvalues shape torch.Size([5]) eigenvectors shape torch.Size([5, 1024])\n",
      "44 /home/phdcs2/Hard_Disk/Datasets/Deep-Spectral-Segmentation/data/object-segmentation/ECSSD/features/0046_resized.pth\n",
      "dict_keys(['k', 'indices', 'file', 'id', 'model_name', 'patch_size', 'shape'])\n",
      "0046_resized\n",
      "x0_arr <class 'numpy.ndarray'>\n",
      "x1_arr <class 'numpy.ndarray'>\n",
      "Starting Training\n",
      "epoch: 00, loss: -0.94168\n",
      "epoch: 01, loss: -0.98015\n",
      "epoch: 02, loss: -0.98556\n",
      "epoch: 03, loss: -0.98826\n",
      "epoch: 04, loss: -0.98994\n",
      "epoch: 05, loss: -0.99112\n",
      "epoch: 06, loss: -0.99199\n",
      "epoch: 07, loss: -0.99268\n",
      "epoch: 08, loss: -0.99324\n",
      "epoch: 09, loss: -0.99370\n",
      "torch.Size([1024, 384])\n"
     ]
    },
    {
     "name": "stderr",
     "output_type": "stream",
     "text": [
      "  5%|▍         | 45/999 [19:03<6:43:31, 25.38s/it]"
     ]
    },
    {
     "name": "stdout",
     "output_type": "stream",
     "text": [
      "eigenvalues shape torch.Size([5]) eigenvectors shape torch.Size([5, 1024])\n",
      "45 /home/phdcs2/Hard_Disk/Datasets/Deep-Spectral-Segmentation/data/object-segmentation/ECSSD/features/0047_resized.pth\n",
      "dict_keys(['k', 'indices', 'file', 'id', 'model_name', 'patch_size', 'shape'])\n",
      "0047_resized\n",
      "x0_arr <class 'numpy.ndarray'>\n",
      "x1_arr <class 'numpy.ndarray'>\n",
      "Starting Training\n",
      "epoch: 00, loss: -0.95253\n",
      "epoch: 01, loss: -0.98438\n",
      "epoch: 02, loss: -0.98884\n",
      "epoch: 03, loss: -0.99108\n",
      "epoch: 04, loss: -0.99247\n",
      "epoch: 05, loss: -0.99342\n",
      "epoch: 06, loss: -0.99413\n",
      "epoch: 07, loss: -0.99469\n",
      "epoch: 08, loss: -0.99514\n",
      "epoch: 09, loss: -0.99551\n",
      "torch.Size([1024, 384])\n"
     ]
    },
    {
     "name": "stderr",
     "output_type": "stream",
     "text": [
      "  5%|▍         | 46/999 [19:28<6:39:36, 25.16s/it]"
     ]
    },
    {
     "name": "stdout",
     "output_type": "stream",
     "text": [
      "eigenvalues shape torch.Size([5]) eigenvectors shape torch.Size([5, 1024])\n",
      "46 /home/phdcs2/Hard_Disk/Datasets/Deep-Spectral-Segmentation/data/object-segmentation/ECSSD/features/0048_resized.pth\n",
      "dict_keys(['k', 'indices', 'file', 'id', 'model_name', 'patch_size', 'shape'])\n",
      "0048_resized\n",
      "x0_arr <class 'numpy.ndarray'>\n",
      "x1_arr <class 'numpy.ndarray'>\n",
      "Starting Training\n",
      "epoch: 00, loss: -0.99593\n",
      "epoch: 01, loss: -0.99997\n",
      "epoch: 02, loss: -0.99997\n",
      "epoch: 03, loss: -0.99997\n",
      "epoch: 04, loss: -0.99997\n",
      "epoch: 05, loss: -0.99997\n",
      "epoch: 06, loss: -0.99997\n",
      "epoch: 07, loss: -0.99997\n",
      "epoch: 08, loss: -0.99997\n",
      "epoch: 09, loss: -0.99997\n",
      "torch.Size([1024, 384])\n"
     ]
    },
    {
     "name": "stderr",
     "output_type": "stream",
     "text": [
      "  5%|▍         | 47/999 [19:52<6:32:49, 24.76s/it]"
     ]
    },
    {
     "name": "stdout",
     "output_type": "stream",
     "text": [
      "eigenvalues shape torch.Size([5]) eigenvectors shape torch.Size([5, 1024])\n",
      "47 /home/phdcs2/Hard_Disk/Datasets/Deep-Spectral-Segmentation/data/object-segmentation/ECSSD/features/0049_resized.pth\n",
      "dict_keys(['k', 'indices', 'file', 'id', 'model_name', 'patch_size', 'shape'])\n",
      "0049_resized\n",
      "x0_arr <class 'numpy.ndarray'>\n",
      "x1_arr <class 'numpy.ndarray'>\n",
      "Starting Training\n",
      "epoch: 00, loss: -0.93893\n",
      "epoch: 01, loss: -0.97930\n",
      "epoch: 02, loss: -0.98507\n",
      "epoch: 03, loss: -0.98794\n",
      "epoch: 04, loss: -0.98971\n",
      "epoch: 05, loss: -0.99095\n",
      "epoch: 06, loss: -0.99189\n",
      "epoch: 07, loss: -0.99261\n",
      "epoch: 08, loss: -0.99320\n"
     ]
    },
    {
     "name": "stderr",
     "output_type": "stream",
     "text": [
      "  5%|▍         | 48/999 [20:16<6:29:16, 24.56s/it]"
     ]
    },
    {
     "name": "stdout",
     "output_type": "stream",
     "text": [
      "epoch: 09, loss: -0.99369\n",
      "torch.Size([1024, 384])\n",
      "eigenvalues shape torch.Size([5]) eigenvectors shape torch.Size([5, 1024])\n",
      "48 /home/phdcs2/Hard_Disk/Datasets/Deep-Spectral-Segmentation/data/object-segmentation/ECSSD/features/0050_resized.pth\n",
      "dict_keys(['k', 'indices', 'file', 'id', 'model_name', 'patch_size', 'shape'])\n",
      "0050_resized\n",
      "x0_arr <class 'numpy.ndarray'>\n",
      "x1_arr <class 'numpy.ndarray'>\n",
      "Starting Training\n",
      "epoch: 00, loss: -0.96640\n",
      "epoch: 01, loss: -0.99331\n",
      "epoch: 02, loss: -0.99541\n",
      "epoch: 03, loss: -0.99640\n",
      "epoch: 04, loss: -0.99700\n",
      "epoch: 05, loss: -0.99741\n",
      "epoch: 06, loss: -0.99771\n",
      "epoch: 07, loss: -0.99795\n",
      "epoch: 08, loss: -0.99813\n",
      "epoch: 09, loss: -0.99829\n",
      "torch.Size([1024, 384])\n"
     ]
    },
    {
     "name": "stderr",
     "output_type": "stream",
     "text": [
      "  5%|▍         | 49/999 [20:40<6:26:37, 24.42s/it]"
     ]
    },
    {
     "name": "stdout",
     "output_type": "stream",
     "text": [
      "eigenvalues shape torch.Size([5]) eigenvectors shape torch.Size([5, 1024])\n",
      "49 /home/phdcs2/Hard_Disk/Datasets/Deep-Spectral-Segmentation/data/object-segmentation/ECSSD/features/0051_resized.pth\n",
      "dict_keys(['k', 'indices', 'file', 'id', 'model_name', 'patch_size', 'shape'])\n",
      "0051_resized\n",
      "x0_arr <class 'numpy.ndarray'>\n",
      "x1_arr <class 'numpy.ndarray'>\n",
      "Starting Training\n",
      "epoch: 00, loss: -0.99375\n",
      "epoch: 01, loss: -0.99911\n",
      "epoch: 02, loss: -0.99935\n",
      "epoch: 03, loss: -0.99949\n",
      "epoch: 04, loss: -0.99957\n",
      "epoch: 05, loss: -0.99964\n",
      "epoch: 06, loss: -0.99968\n",
      "epoch: 07, loss: -0.99971\n",
      "epoch: 08, loss: -0.99974\n",
      "epoch: 09, loss: -0.99976\n",
      "torch.Size([1024, 384])\n"
     ]
    },
    {
     "name": "stderr",
     "output_type": "stream",
     "text": [
      "  5%|▌         | 50/999 [21:04<6:23:55, 24.27s/it]"
     ]
    },
    {
     "name": "stdout",
     "output_type": "stream",
     "text": [
      "eigenvalues shape torch.Size([5]) eigenvectors shape torch.Size([5, 1024])\n",
      "50 /home/phdcs2/Hard_Disk/Datasets/Deep-Spectral-Segmentation/data/object-segmentation/ECSSD/features/0052_resized.pth\n",
      "dict_keys(['k', 'indices', 'file', 'id', 'model_name', 'patch_size', 'shape'])\n",
      "0052_resized\n",
      "x0_arr <class 'numpy.ndarray'>\n",
      "x1_arr <class 'numpy.ndarray'>\n",
      "Starting Training\n",
      "epoch: 00, loss: -0.94256\n",
      "epoch: 01, loss: -0.98083\n",
      "epoch: 02, loss: -0.98613\n",
      "epoch: 03, loss: -0.98878\n",
      "epoch: 04, loss: -0.99045\n",
      "epoch: 05, loss: -0.99159\n",
      "epoch: 06, loss: -0.99246\n",
      "epoch: 07, loss: -0.99314\n",
      "epoch: 08, loss: -0.99367\n",
      "epoch: 09, loss: -0.99412\n",
      "torch.Size([1024, 384])\n"
     ]
    },
    {
     "name": "stderr",
     "output_type": "stream",
     "text": [
      "  5%|▌         | 51/999 [21:28<6:21:49, 24.17s/it]"
     ]
    },
    {
     "name": "stdout",
     "output_type": "stream",
     "text": [
      "eigenvalues shape torch.Size([5]) eigenvectors shape torch.Size([5, 1024])\n",
      "51 /home/phdcs2/Hard_Disk/Datasets/Deep-Spectral-Segmentation/data/object-segmentation/ECSSD/features/0053_resized.pth\n",
      "dict_keys(['k', 'indices', 'file', 'id', 'model_name', 'patch_size', 'shape'])\n",
      "0053_resized\n",
      "x0_arr <class 'numpy.ndarray'>\n",
      "x1_arr <class 'numpy.ndarray'>\n",
      "Starting Training\n",
      "epoch: 00, loss: -0.94138\n",
      "epoch: 01, loss: -0.98083\n",
      "epoch: 02, loss: -0.98624\n",
      "epoch: 03, loss: -0.98893\n",
      "epoch: 04, loss: -0.99058\n",
      "epoch: 05, loss: -0.99175\n",
      "epoch: 06, loss: -0.99259\n",
      "epoch: 07, loss: -0.99325\n",
      "epoch: 08, loss: -0.99379\n"
     ]
    },
    {
     "name": "stderr",
     "output_type": "stream",
     "text": [
      "  5%|▌         | 52/999 [21:52<6:20:41, 24.12s/it]"
     ]
    },
    {
     "name": "stdout",
     "output_type": "stream",
     "text": [
      "epoch: 09, loss: -0.99425\n",
      "torch.Size([1024, 384])\n",
      "eigenvalues shape torch.Size([5]) eigenvectors shape torch.Size([5, 1024])\n",
      "52 /home/phdcs2/Hard_Disk/Datasets/Deep-Spectral-Segmentation/data/object-segmentation/ECSSD/features/0054_resized.pth\n",
      "dict_keys(['k', 'indices', 'file', 'id', 'model_name', 'patch_size', 'shape'])\n",
      "0054_resized\n",
      "x0_arr <class 'numpy.ndarray'>\n",
      "x1_arr <class 'numpy.ndarray'>\n",
      "Starting Training\n",
      "epoch: 00, loss: -0.94028\n",
      "epoch: 01, loss: -0.97949\n",
      "epoch: 02, loss: -0.98504\n",
      "epoch: 03, loss: -0.98782\n",
      "epoch: 04, loss: -0.98956\n",
      "epoch: 05, loss: -0.99076\n",
      "epoch: 06, loss: -0.99169\n",
      "epoch: 07, loss: -0.99240\n",
      "epoch: 08, loss: -0.99297\n",
      "epoch: 09, loss: -0.99345\n",
      "torch.Size([1024, 384])\n"
     ]
    },
    {
     "name": "stderr",
     "output_type": "stream",
     "text": [
      "  5%|▌         | 53/999 [22:16<6:19:31, 24.07s/it]"
     ]
    },
    {
     "name": "stdout",
     "output_type": "stream",
     "text": [
      "eigenvalues shape torch.Size([5]) eigenvectors shape torch.Size([5, 1024])\n",
      "53 /home/phdcs2/Hard_Disk/Datasets/Deep-Spectral-Segmentation/data/object-segmentation/ECSSD/features/0055_resized.pth\n",
      "dict_keys(['k', 'indices', 'file', 'id', 'model_name', 'patch_size', 'shape'])\n",
      "0055_resized\n",
      "x0_arr <class 'numpy.ndarray'>\n",
      "x1_arr <class 'numpy.ndarray'>\n",
      "Starting Training\n",
      "epoch: 00, loss: -0.99568\n",
      "epoch: 01, loss: -1.00000\n",
      "epoch: 02, loss: -1.00000\n",
      "epoch: 03, loss: -1.00000\n",
      "epoch: 04, loss: -1.00000\n",
      "epoch: 05, loss: -1.00000\n",
      "epoch: 06, loss: -1.00000\n",
      "epoch: 07, loss: -1.00000\n",
      "epoch: 08, loss: -1.00000\n",
      "epoch: 09, loss: -1.00000\n",
      "torch.Size([1024, 384])\n"
     ]
    },
    {
     "name": "stderr",
     "output_type": "stream",
     "text": [
      "  5%|▌         | 54/999 [22:40<6:19:55, 24.12s/it]"
     ]
    },
    {
     "name": "stdout",
     "output_type": "stream",
     "text": [
      "eigenvalues shape torch.Size([5]) eigenvectors shape torch.Size([5, 1024])\n",
      "54 /home/phdcs2/Hard_Disk/Datasets/Deep-Spectral-Segmentation/data/object-segmentation/ECSSD/features/0056_resized.pth\n",
      "dict_keys(['k', 'indices', 'file', 'id', 'model_name', 'patch_size', 'shape'])\n",
      "0056_resized\n",
      "x0_arr <class 'numpy.ndarray'>\n",
      "x1_arr <class 'numpy.ndarray'>\n",
      "Starting Training\n",
      "epoch: 00, loss: -0.99608\n",
      "epoch: 01, loss: -1.00000\n",
      "epoch: 02, loss: -1.00000\n",
      "epoch: 03, loss: -1.00000\n",
      "epoch: 04, loss: -1.00000\n",
      "epoch: 05, loss: -1.00000\n",
      "epoch: 06, loss: -1.00000\n",
      "epoch: 07, loss: -1.00000\n",
      "epoch: 08, loss: -1.00000\n",
      "epoch: 09, loss: -1.00000\n",
      "torch.Size([1024, 384])\n"
     ]
    },
    {
     "name": "stderr",
     "output_type": "stream",
     "text": [
      "  6%|▌         | 55/999 [23:04<6:19:15, 24.11s/it]"
     ]
    },
    {
     "name": "stdout",
     "output_type": "stream",
     "text": [
      "eigenvalues shape torch.Size([5]) eigenvectors shape torch.Size([5, 1024])\n",
      "55 /home/phdcs2/Hard_Disk/Datasets/Deep-Spectral-Segmentation/data/object-segmentation/ECSSD/features/0057_resized.pth\n",
      "dict_keys(['k', 'indices', 'file', 'id', 'model_name', 'patch_size', 'shape'])\n",
      "0057_resized\n",
      "x0_arr <class 'numpy.ndarray'>\n",
      "x1_arr <class 'numpy.ndarray'>\n",
      "Starting Training\n",
      "epoch: 00, loss: -0.94631\n",
      "epoch: 01, loss: -0.98274\n",
      "epoch: 02, loss: -0.98775\n",
      "epoch: 03, loss: -0.99026\n",
      "epoch: 04, loss: -0.99180\n",
      "epoch: 05, loss: -0.99288\n",
      "epoch: 06, loss: -0.99366\n",
      "epoch: 07, loss: -0.99428\n",
      "epoch: 08, loss: -0.99478\n",
      "epoch: 09, loss: -0.99519\n",
      "torch.Size([1024, 384])\n"
     ]
    },
    {
     "name": "stderr",
     "output_type": "stream",
     "text": [
      "  6%|▌         | 56/999 [23:28<6:17:08, 24.00s/it]"
     ]
    },
    {
     "name": "stdout",
     "output_type": "stream",
     "text": [
      "eigenvalues shape torch.Size([5]) eigenvectors shape torch.Size([5, 1024])\n",
      "56 /home/phdcs2/Hard_Disk/Datasets/Deep-Spectral-Segmentation/data/object-segmentation/ECSSD/features/0058_resized.pth\n",
      "dict_keys(['k', 'indices', 'file', 'id', 'model_name', 'patch_size', 'shape'])\n",
      "0058_resized\n",
      "x0_arr <class 'numpy.ndarray'>\n",
      "x1_arr <class 'numpy.ndarray'>\n",
      "Starting Training\n",
      "epoch: 00, loss: -0.99584\n",
      "epoch: 01, loss: -1.00000\n",
      "epoch: 02, loss: -1.00000\n",
      "epoch: 03, loss: -1.00000\n",
      "epoch: 04, loss: -1.00000\n",
      "epoch: 05, loss: -1.00000\n",
      "epoch: 06, loss: -1.00000\n",
      "epoch: 07, loss: -1.00000\n",
      "epoch: 08, loss: -1.00000\n",
      "epoch: 09, loss: -1.00000\n",
      "torch.Size([1024, 384])\n"
     ]
    },
    {
     "name": "stderr",
     "output_type": "stream",
     "text": [
      "  6%|▌         | 57/999 [23:52<6:19:09, 24.15s/it]"
     ]
    },
    {
     "name": "stdout",
     "output_type": "stream",
     "text": [
      "eigenvalues shape torch.Size([5]) eigenvectors shape torch.Size([5, 1024])\n",
      "57 /home/phdcs2/Hard_Disk/Datasets/Deep-Spectral-Segmentation/data/object-segmentation/ECSSD/features/0059_resized.pth\n",
      "dict_keys(['k', 'indices', 'file', 'id', 'model_name', 'patch_size', 'shape'])\n",
      "0059_resized\n",
      "x0_arr <class 'numpy.ndarray'>\n",
      "x1_arr <class 'numpy.ndarray'>\n",
      "Starting Training\n",
      "epoch: 00, loss: -0.93574\n",
      "epoch: 01, loss: -0.97941\n",
      "epoch: 02, loss: -0.98546\n",
      "epoch: 03, loss: -0.98844\n",
      "epoch: 04, loss: -0.99029\n",
      "epoch: 05, loss: -0.99158\n",
      "epoch: 06, loss: -0.99253\n",
      "epoch: 07, loss: -0.99326\n",
      "epoch: 08, loss: -0.99386\n"
     ]
    },
    {
     "name": "stderr",
     "output_type": "stream",
     "text": [
      "  6%|▌         | 58/999 [24:16<6:17:36, 24.08s/it]"
     ]
    },
    {
     "name": "stdout",
     "output_type": "stream",
     "text": [
      "epoch: 09, loss: -0.99435\n",
      "torch.Size([1024, 384])\n",
      "eigenvalues shape torch.Size([5]) eigenvectors shape torch.Size([5, 1024])\n",
      "58 /home/phdcs2/Hard_Disk/Datasets/Deep-Spectral-Segmentation/data/object-segmentation/ECSSD/features/0060_resized.pth\n",
      "dict_keys(['k', 'indices', 'file', 'id', 'model_name', 'patch_size', 'shape'])\n",
      "0060_resized\n",
      "x0_arr <class 'numpy.ndarray'>\n",
      "x1_arr <class 'numpy.ndarray'>\n",
      "Starting Training\n",
      "epoch: 00, loss: -0.99589\n",
      "epoch: 01, loss: -0.99998\n",
      "epoch: 02, loss: -0.99998\n",
      "epoch: 03, loss: -0.99998\n",
      "epoch: 04, loss: -0.99998\n",
      "epoch: 05, loss: -0.99998\n",
      "epoch: 06, loss: -0.99998\n",
      "epoch: 07, loss: -0.99998\n",
      "epoch: 08, loss: -0.99998\n",
      "epoch: 09, loss: -0.99998\n",
      "torch.Size([1024, 384])\n"
     ]
    },
    {
     "name": "stderr",
     "output_type": "stream",
     "text": [
      "  6%|▌         | 59/999 [24:40<6:16:39, 24.04s/it]"
     ]
    },
    {
     "name": "stdout",
     "output_type": "stream",
     "text": [
      "eigenvalues shape torch.Size([5]) eigenvectors shape torch.Size([5, 1024])\n",
      "59 /home/phdcs2/Hard_Disk/Datasets/Deep-Spectral-Segmentation/data/object-segmentation/ECSSD/features/0061_resized.pth\n",
      "dict_keys(['k', 'indices', 'file', 'id', 'model_name', 'patch_size', 'shape'])\n",
      "0061_resized\n",
      "x0_arr <class 'numpy.ndarray'>\n",
      "x1_arr <class 'numpy.ndarray'>\n",
      "Starting Training\n",
      "epoch: 00, loss: -0.99499\n",
      "epoch: 01, loss: -1.00000\n",
      "epoch: 02, loss: -1.00000\n",
      "epoch: 03, loss: -1.00000\n",
      "epoch: 04, loss: -1.00000\n",
      "epoch: 05, loss: -1.00000\n",
      "epoch: 06, loss: -1.00000\n",
      "epoch: 07, loss: -1.00000\n",
      "epoch: 08, loss: -1.00000\n",
      "epoch: 09, loss: -1.00000\n",
      "torch.Size([1024, 384])\n"
     ]
    },
    {
     "name": "stderr",
     "output_type": "stream",
     "text": [
      "  6%|▌         | 60/999 [25:04<6:15:31, 23.99s/it]"
     ]
    },
    {
     "name": "stdout",
     "output_type": "stream",
     "text": [
      "eigenvalues shape torch.Size([5]) eigenvectors shape torch.Size([5, 1024])\n",
      "60 /home/phdcs2/Hard_Disk/Datasets/Deep-Spectral-Segmentation/data/object-segmentation/ECSSD/features/0062_resized.pth\n",
      "dict_keys(['k', 'indices', 'file', 'id', 'model_name', 'patch_size', 'shape'])\n",
      "0062_resized\n",
      "x0_arr <class 'numpy.ndarray'>\n",
      "x1_arr <class 'numpy.ndarray'>\n",
      "Starting Training\n",
      "epoch: 00, loss: -0.94055\n",
      "epoch: 01, loss: -0.98004\n",
      "epoch: 02, loss: -0.98554\n",
      "epoch: 03, loss: -0.98831\n",
      "epoch: 04, loss: -0.99001\n",
      "epoch: 05, loss: -0.99119\n",
      "epoch: 06, loss: -0.99209\n",
      "epoch: 07, loss: -0.99279\n",
      "epoch: 08, loss: -0.99335\n",
      "epoch: 09, loss: -0.99381\n",
      "torch.Size([1024, 384])\n"
     ]
    },
    {
     "name": "stderr",
     "output_type": "stream",
     "text": [
      "  6%|▌         | 61/999 [25:28<6:12:47, 23.85s/it]"
     ]
    },
    {
     "name": "stdout",
     "output_type": "stream",
     "text": [
      "eigenvalues shape torch.Size([5]) eigenvectors shape torch.Size([5, 1024])\n",
      "61 /home/phdcs2/Hard_Disk/Datasets/Deep-Spectral-Segmentation/data/object-segmentation/ECSSD/features/0063_resized.pth\n",
      "dict_keys(['k', 'indices', 'file', 'id', 'model_name', 'patch_size', 'shape'])\n",
      "0063_resized\n",
      "x0_arr <class 'numpy.ndarray'>\n",
      "x1_arr <class 'numpy.ndarray'>\n",
      "Starting Training\n",
      "epoch: 00, loss: -0.94284\n",
      "epoch: 01, loss: -0.98042\n",
      "epoch: 02, loss: -0.98578\n",
      "epoch: 03, loss: -0.98844\n",
      "epoch: 04, loss: -0.99012\n",
      "epoch: 05, loss: -0.99128\n",
      "epoch: 06, loss: -0.99217\n",
      "epoch: 07, loss: -0.99285\n",
      "epoch: 08, loss: -0.99340\n"
     ]
    },
    {
     "name": "stderr",
     "output_type": "stream",
     "text": [
      "  6%|▌         | 62/999 [25:51<6:11:52, 23.81s/it]"
     ]
    },
    {
     "name": "stdout",
     "output_type": "stream",
     "text": [
      "epoch: 09, loss: -0.99385\n",
      "torch.Size([1024, 384])\n",
      "eigenvalues shape torch.Size([5]) eigenvectors shape torch.Size([5, 1024])\n",
      "62 /home/phdcs2/Hard_Disk/Datasets/Deep-Spectral-Segmentation/data/object-segmentation/ECSSD/features/0064_resized.pth\n",
      "dict_keys(['k', 'indices', 'file', 'id', 'model_name', 'patch_size', 'shape'])\n",
      "0064_resized\n",
      "x0_arr <class 'numpy.ndarray'>\n",
      "x1_arr <class 'numpy.ndarray'>\n",
      "Starting Training\n",
      "epoch: 00, loss: -0.99481\n",
      "epoch: 01, loss: -0.99985\n",
      "epoch: 02, loss: -0.99986\n",
      "epoch: 03, loss: -0.99987\n",
      "epoch: 04, loss: -0.99988\n",
      "epoch: 05, loss: -0.99989\n",
      "epoch: 06, loss: -0.99989\n",
      "epoch: 07, loss: -0.99990\n",
      "epoch: 08, loss: -0.99990\n",
      "epoch: 09, loss: -0.99991\n",
      "torch.Size([1024, 384])\n"
     ]
    },
    {
     "name": "stderr",
     "output_type": "stream",
     "text": [
      "  6%|▋         | 63/999 [26:15<6:12:43, 23.89s/it]"
     ]
    },
    {
     "name": "stdout",
     "output_type": "stream",
     "text": [
      "eigenvalues shape torch.Size([5]) eigenvectors shape torch.Size([5, 1024])\n",
      "63 /home/phdcs2/Hard_Disk/Datasets/Deep-Spectral-Segmentation/data/object-segmentation/ECSSD/features/0065_resized.pth\n",
      "dict_keys(['k', 'indices', 'file', 'id', 'model_name', 'patch_size', 'shape'])\n",
      "0065_resized\n",
      "x0_arr <class 'numpy.ndarray'>\n",
      "x1_arr <class 'numpy.ndarray'>\n",
      "Starting Training\n",
      "epoch: 00, loss: -0.99569\n",
      "epoch: 01, loss: -1.00000\n",
      "epoch: 02, loss: -1.00000\n",
      "epoch: 03, loss: -1.00000\n",
      "epoch: 04, loss: -1.00000\n",
      "epoch: 05, loss: -1.00000\n",
      "epoch: 06, loss: -1.00000\n",
      "epoch: 07, loss: -1.00000\n",
      "epoch: 08, loss: -1.00000\n"
     ]
    },
    {
     "name": "stderr",
     "output_type": "stream",
     "text": [
      "  6%|▋         | 64/999 [26:39<6:12:23, 23.90s/it]"
     ]
    },
    {
     "name": "stdout",
     "output_type": "stream",
     "text": [
      "epoch: 09, loss: -1.00000\n",
      "torch.Size([1024, 384])\n",
      "eigenvalues shape torch.Size([5]) eigenvectors shape torch.Size([5, 1024])\n",
      "64 /home/phdcs2/Hard_Disk/Datasets/Deep-Spectral-Segmentation/data/object-segmentation/ECSSD/features/0066_resized.pth\n",
      "dict_keys(['k', 'indices', 'file', 'id', 'model_name', 'patch_size', 'shape'])\n",
      "0066_resized\n",
      "x0_arr <class 'numpy.ndarray'>\n",
      "x1_arr <class 'numpy.ndarray'>\n",
      "Starting Training\n",
      "epoch: 00, loss: -0.99413\n",
      "epoch: 01, loss: -0.99883\n",
      "epoch: 02, loss: -0.99912\n",
      "epoch: 03, loss: -0.99929\n",
      "epoch: 04, loss: -0.99941\n",
      "epoch: 05, loss: -0.99950\n",
      "epoch: 06, loss: -0.99956\n",
      "epoch: 07, loss: -0.99961\n",
      "epoch: 08, loss: -0.99965\n",
      "epoch: 09, loss: -0.99968\n",
      "torch.Size([1024, 384])\n"
     ]
    },
    {
     "name": "stderr",
     "output_type": "stream",
     "text": [
      "  7%|▋         | 65/999 [27:03<6:11:34, 23.87s/it]"
     ]
    },
    {
     "name": "stdout",
     "output_type": "stream",
     "text": [
      "eigenvalues shape torch.Size([5]) eigenvectors shape torch.Size([5, 1024])\n",
      "65 /home/phdcs2/Hard_Disk/Datasets/Deep-Spectral-Segmentation/data/object-segmentation/ECSSD/features/0067_resized.pth\n",
      "dict_keys(['k', 'indices', 'file', 'id', 'model_name', 'patch_size', 'shape'])\n",
      "0067_resized\n",
      "x0_arr <class 'numpy.ndarray'>\n",
      "x1_arr <class 'numpy.ndarray'>\n",
      "Starting Training\n",
      "epoch: 00, loss: -0.99478\n",
      "epoch: 01, loss: -1.00000\n",
      "epoch: 02, loss: -1.00000\n",
      "epoch: 03, loss: -1.00000\n",
      "epoch: 04, loss: -1.00000\n",
      "epoch: 05, loss: -1.00000\n",
      "epoch: 06, loss: -1.00000\n",
      "epoch: 07, loss: -1.00000\n",
      "epoch: 08, loss: -1.00000\n",
      "epoch: 09, loss: -1.00000\n",
      "torch.Size([1024, 384])\n"
     ]
    },
    {
     "name": "stderr",
     "output_type": "stream",
     "text": [
      "  7%|▋         | 66/999 [27:27<6:12:33, 23.96s/it]"
     ]
    },
    {
     "name": "stdout",
     "output_type": "stream",
     "text": [
      "eigenvalues shape torch.Size([5]) eigenvectors shape torch.Size([5, 1024])\n",
      "66 /home/phdcs2/Hard_Disk/Datasets/Deep-Spectral-Segmentation/data/object-segmentation/ECSSD/features/0068_resized.pth\n",
      "dict_keys(['k', 'indices', 'file', 'id', 'model_name', 'patch_size', 'shape'])\n",
      "0068_resized\n",
      "x0_arr <class 'numpy.ndarray'>\n",
      "x1_arr <class 'numpy.ndarray'>\n",
      "Starting Training\n",
      "epoch: 00, loss: -0.99534\n",
      "epoch: 01, loss: -0.99999\n",
      "epoch: 02, loss: -0.99999\n",
      "epoch: 03, loss: -0.99999\n",
      "epoch: 04, loss: -0.99999\n",
      "epoch: 05, loss: -0.99999\n",
      "epoch: 06, loss: -0.99999\n",
      "epoch: 07, loss: -0.99999\n",
      "epoch: 08, loss: -0.99999\n",
      "epoch: 09, loss: -0.99999\n",
      "torch.Size([1024, 384])\n"
     ]
    },
    {
     "name": "stderr",
     "output_type": "stream",
     "text": [
      "  7%|▋         | 67/999 [27:51<6:11:09, 23.89s/it]"
     ]
    },
    {
     "name": "stdout",
     "output_type": "stream",
     "text": [
      "eigenvalues shape torch.Size([5]) eigenvectors shape torch.Size([5, 1024])\n",
      "67 /home/phdcs2/Hard_Disk/Datasets/Deep-Spectral-Segmentation/data/object-segmentation/ECSSD/features/0069_resized.pth\n",
      "dict_keys(['k', 'indices', 'file', 'id', 'model_name', 'patch_size', 'shape'])\n",
      "0069_resized\n",
      "x0_arr <class 'numpy.ndarray'>\n",
      "x1_arr <class 'numpy.ndarray'>\n",
      "Starting Training\n",
      "epoch: 00, loss: -0.96805\n",
      "epoch: 01, loss: -0.99137\n",
      "epoch: 02, loss: -0.99449\n",
      "epoch: 03, loss: -0.99594\n",
      "epoch: 04, loss: -0.99679\n",
      "epoch: 05, loss: -0.99735\n",
      "epoch: 06, loss: -0.99775\n",
      "epoch: 07, loss: -0.99804\n",
      "epoch: 08, loss: -0.99827\n",
      "epoch: 09, loss: -0.99845\n",
      "torch.Size([1024, 384])\n"
     ]
    },
    {
     "name": "stderr",
     "output_type": "stream",
     "text": [
      "  7%|▋         | 68/999 [28:15<6:10:24, 23.87s/it]"
     ]
    },
    {
     "name": "stdout",
     "output_type": "stream",
     "text": [
      "eigenvalues shape torch.Size([5]) eigenvectors shape torch.Size([5, 1024])\n",
      "68 /home/phdcs2/Hard_Disk/Datasets/Deep-Spectral-Segmentation/data/object-segmentation/ECSSD/features/0070_resized.pth\n",
      "dict_keys(['k', 'indices', 'file', 'id', 'model_name', 'patch_size', 'shape'])\n",
      "0070_resized\n",
      "x0_arr <class 'numpy.ndarray'>\n",
      "x1_arr <class 'numpy.ndarray'>\n",
      "Starting Training\n",
      "epoch: 00, loss: -0.94652\n",
      "epoch: 01, loss: -0.98427\n",
      "epoch: 02, loss: -0.98895\n",
      "epoch: 03, loss: -0.99121\n",
      "epoch: 04, loss: -0.99259\n",
      "epoch: 05, loss: -0.99354\n",
      "epoch: 06, loss: -0.99423\n",
      "epoch: 07, loss: -0.99478\n",
      "epoch: 08, loss: -0.99520\n",
      "epoch: 09, loss: -0.99556\n",
      "torch.Size([1024, 384])\n"
     ]
    },
    {
     "name": "stderr",
     "output_type": "stream",
     "text": [
      "  7%|▋         | 69/999 [28:38<6:06:17, 23.63s/it]"
     ]
    },
    {
     "name": "stdout",
     "output_type": "stream",
     "text": [
      "eigenvalues shape torch.Size([5]) eigenvectors shape torch.Size([5, 1024])\n",
      "69 /home/phdcs2/Hard_Disk/Datasets/Deep-Spectral-Segmentation/data/object-segmentation/ECSSD/features/0071_resized.pth\n",
      "dict_keys(['k', 'indices', 'file', 'id', 'model_name', 'patch_size', 'shape'])\n",
      "0071_resized\n",
      "x0_arr <class 'numpy.ndarray'>\n",
      "x1_arr <class 'numpy.ndarray'>\n",
      "Starting Training\n",
      "epoch: 00, loss: -0.93673\n",
      "epoch: 01, loss: -0.97928\n",
      "epoch: 02, loss: -0.98516\n",
      "epoch: 03, loss: -0.98807\n",
      "epoch: 04, loss: -0.98988\n",
      "epoch: 05, loss: -0.99114\n",
      "epoch: 06, loss: -0.99209\n",
      "epoch: 07, loss: -0.99282\n",
      "epoch: 08, loss: -0.99341\n",
      "epoch: 09, loss: -0.99390\n",
      "torch.Size([1024, 384])\n"
     ]
    },
    {
     "name": "stderr",
     "output_type": "stream",
     "text": [
      "  7%|▋         | 70/999 [29:02<6:06:10, 23.65s/it]"
     ]
    },
    {
     "name": "stdout",
     "output_type": "stream",
     "text": [
      "eigenvalues shape torch.Size([5]) eigenvectors shape torch.Size([5, 1024])\n",
      "70 /home/phdcs2/Hard_Disk/Datasets/Deep-Spectral-Segmentation/data/object-segmentation/ECSSD/features/0072_resized.pth\n",
      "dict_keys(['k', 'indices', 'file', 'id', 'model_name', 'patch_size', 'shape'])\n",
      "0072_resized\n",
      "x0_arr <class 'numpy.ndarray'>\n",
      "x1_arr <class 'numpy.ndarray'>\n",
      "Starting Training\n",
      "epoch: 00, loss: -0.94534\n",
      "epoch: 01, loss: -0.98103\n",
      "epoch: 02, loss: -0.98609\n",
      "epoch: 03, loss: -0.98861\n",
      "epoch: 04, loss: -0.99020\n",
      "epoch: 05, loss: -0.99131\n",
      "epoch: 06, loss: -0.99214\n",
      "epoch: 07, loss: -0.99279\n",
      "epoch: 08, loss: -0.99331\n"
     ]
    },
    {
     "name": "stderr",
     "output_type": "stream",
     "text": [
      "  7%|▋         | 71/999 [29:25<6:06:44, 23.71s/it]"
     ]
    },
    {
     "name": "stdout",
     "output_type": "stream",
     "text": [
      "epoch: 09, loss: -0.99375\n",
      "torch.Size([1024, 384])\n",
      "eigenvalues shape torch.Size([5]) eigenvectors shape torch.Size([5, 1024])\n",
      "71 /home/phdcs2/Hard_Disk/Datasets/Deep-Spectral-Segmentation/data/object-segmentation/ECSSD/features/0073_resized.pth\n",
      "dict_keys(['k', 'indices', 'file', 'id', 'model_name', 'patch_size', 'shape'])\n",
      "0073_resized\n",
      "x0_arr <class 'numpy.ndarray'>\n",
      "x1_arr <class 'numpy.ndarray'>\n",
      "Starting Training\n",
      "epoch: 00, loss: -0.93698\n",
      "epoch: 01, loss: -0.97910\n",
      "epoch: 02, loss: -0.98494\n",
      "epoch: 03, loss: -0.98787\n",
      "epoch: 04, loss: -0.98970\n",
      "epoch: 05, loss: -0.99096\n",
      "epoch: 06, loss: -0.99192\n",
      "epoch: 07, loss: -0.99267\n",
      "epoch: 08, loss: -0.99327\n"
     ]
    },
    {
     "name": "stderr",
     "output_type": "stream",
     "text": [
      "  7%|▋         | 72/999 [29:48<6:02:08, 23.44s/it]"
     ]
    },
    {
     "name": "stdout",
     "output_type": "stream",
     "text": [
      "epoch: 09, loss: -0.99377\n",
      "torch.Size([1024, 384])\n",
      "eigenvalues shape torch.Size([5]) eigenvectors shape torch.Size([5, 1024])\n",
      "72 /home/phdcs2/Hard_Disk/Datasets/Deep-Spectral-Segmentation/data/object-segmentation/ECSSD/features/0074_resized.pth\n",
      "dict_keys(['k', 'indices', 'file', 'id', 'model_name', 'patch_size', 'shape'])\n",
      "0074_resized\n",
      "x0_arr <class 'numpy.ndarray'>\n",
      "x1_arr <class 'numpy.ndarray'>\n",
      "Starting Training\n",
      "epoch: 00, loss: -0.94260\n",
      "epoch: 01, loss: -0.98050\n",
      "epoch: 02, loss: -0.98586\n",
      "epoch: 03, loss: -0.98854\n",
      "epoch: 04, loss: -0.99021\n",
      "epoch: 05, loss: -0.99137\n",
      "epoch: 06, loss: -0.99225\n",
      "epoch: 07, loss: -0.99293\n",
      "epoch: 08, loss: -0.99349\n",
      "epoch: 09, loss: -0.99394\n",
      "torch.Size([1024, 384])\n"
     ]
    },
    {
     "name": "stderr",
     "output_type": "stream",
     "text": [
      "  7%|▋         | 73/999 [30:11<5:59:47, 23.31s/it]"
     ]
    },
    {
     "name": "stdout",
     "output_type": "stream",
     "text": [
      "eigenvalues shape torch.Size([5]) eigenvectors shape torch.Size([5, 1024])\n",
      "73 /home/phdcs2/Hard_Disk/Datasets/Deep-Spectral-Segmentation/data/object-segmentation/ECSSD/features/0075_resized.pth\n",
      "dict_keys(['k', 'indices', 'file', 'id', 'model_name', 'patch_size', 'shape'])\n",
      "0075_resized\n",
      "x0_arr <class 'numpy.ndarray'>\n",
      "x1_arr <class 'numpy.ndarray'>\n",
      "Starting Training\n",
      "epoch: 00, loss: -0.99564\n",
      "epoch: 01, loss: -1.00000\n",
      "epoch: 02, loss: -1.00000\n",
      "epoch: 03, loss: -1.00000\n",
      "epoch: 04, loss: -1.00000\n",
      "epoch: 05, loss: -1.00000\n",
      "epoch: 06, loss: -1.00000\n",
      "epoch: 07, loss: -1.00000\n",
      "epoch: 08, loss: -1.00000\n"
     ]
    },
    {
     "name": "stderr",
     "output_type": "stream",
     "text": [
      "  7%|▋         | 74/999 [30:34<5:56:48, 23.14s/it]"
     ]
    },
    {
     "name": "stdout",
     "output_type": "stream",
     "text": [
      "epoch: 09, loss: -1.00000\n",
      "torch.Size([1024, 384])\n",
      "eigenvalues shape torch.Size([5]) eigenvectors shape torch.Size([5, 1024])\n",
      "74 /home/phdcs2/Hard_Disk/Datasets/Deep-Spectral-Segmentation/data/object-segmentation/ECSSD/features/0076_resized.pth\n",
      "dict_keys(['k', 'indices', 'file', 'id', 'model_name', 'patch_size', 'shape'])\n",
      "0076_resized\n",
      "x0_arr <class 'numpy.ndarray'>\n",
      "x1_arr <class 'numpy.ndarray'>\n",
      "Starting Training\n",
      "epoch: 00, loss: -0.96084\n",
      "epoch: 01, loss: -0.98681\n",
      "epoch: 02, loss: -0.99053\n",
      "epoch: 03, loss: -0.99239\n",
      "epoch: 04, loss: -0.99353\n",
      "epoch: 05, loss: -0.99434\n",
      "epoch: 06, loss: -0.99494\n",
      "epoch: 07, loss: -0.99541\n",
      "epoch: 08, loss: -0.99579\n",
      "epoch: 09, loss: -0.99611\n",
      "torch.Size([1024, 384])\n"
     ]
    },
    {
     "name": "stderr",
     "output_type": "stream",
     "text": [
      "  8%|▊         | 75/999 [30:58<6:00:42, 23.42s/it]"
     ]
    },
    {
     "name": "stdout",
     "output_type": "stream",
     "text": [
      "eigenvalues shape torch.Size([5]) eigenvectors shape torch.Size([5, 1024])\n",
      "75 /home/phdcs2/Hard_Disk/Datasets/Deep-Spectral-Segmentation/data/object-segmentation/ECSSD/features/0077_resized.pth\n",
      "dict_keys(['k', 'indices', 'file', 'id', 'model_name', 'patch_size', 'shape'])\n",
      "0077_resized\n",
      "x0_arr <class 'numpy.ndarray'>\n",
      "x1_arr <class 'numpy.ndarray'>\n",
      "Starting Training\n",
      "epoch: 00, loss: -0.99500\n",
      "epoch: 01, loss: -1.00000\n",
      "epoch: 02, loss: -1.00000\n",
      "epoch: 03, loss: -1.00000\n",
      "epoch: 04, loss: -1.00000\n",
      "epoch: 05, loss: -1.00000\n",
      "epoch: 06, loss: -1.00000\n",
      "epoch: 07, loss: -1.00000\n",
      "epoch: 08, loss: -1.00000\n",
      "epoch: 09, loss: -1.00000\n",
      "torch.Size([1024, 384])\n"
     ]
    },
    {
     "name": "stderr",
     "output_type": "stream",
     "text": [
      "  8%|▊         | 76/999 [31:22<6:01:45, 23.52s/it]"
     ]
    },
    {
     "name": "stdout",
     "output_type": "stream",
     "text": [
      "eigenvalues shape torch.Size([5]) eigenvectors shape torch.Size([5, 1024])\n",
      "76 /home/phdcs2/Hard_Disk/Datasets/Deep-Spectral-Segmentation/data/object-segmentation/ECSSD/features/0078_resized.pth\n",
      "dict_keys(['k', 'indices', 'file', 'id', 'model_name', 'patch_size', 'shape'])\n",
      "0078_resized\n",
      "x0_arr <class 'numpy.ndarray'>\n",
      "x1_arr <class 'numpy.ndarray'>\n",
      "Starting Training\n",
      "epoch: 00, loss: -0.99530\n",
      "epoch: 01, loss: -0.99997\n",
      "epoch: 02, loss: -0.99997\n",
      "epoch: 03, loss: -0.99997\n",
      "epoch: 04, loss: -0.99997\n",
      "epoch: 05, loss: -0.99997\n",
      "epoch: 06, loss: -0.99997\n",
      "epoch: 07, loss: -0.99997\n",
      "epoch: 08, loss: -0.99997\n"
     ]
    },
    {
     "name": "stderr",
     "output_type": "stream",
     "text": [
      "  8%|▊         | 77/999 [31:46<6:03:36, 23.66s/it]"
     ]
    },
    {
     "name": "stdout",
     "output_type": "stream",
     "text": [
      "epoch: 09, loss: -0.99997\n",
      "torch.Size([1024, 384])\n",
      "eigenvalues shape torch.Size([5]) eigenvectors shape torch.Size([5, 1024])\n",
      "77 /home/phdcs2/Hard_Disk/Datasets/Deep-Spectral-Segmentation/data/object-segmentation/ECSSD/features/0079_resized.pth\n",
      "dict_keys(['k', 'indices', 'file', 'id', 'model_name', 'patch_size', 'shape'])\n",
      "0079_resized\n",
      "x0_arr <class 'numpy.ndarray'>\n",
      "x1_arr <class 'numpy.ndarray'>\n",
      "Starting Training\n",
      "epoch: 00, loss: -0.93681\n",
      "epoch: 01, loss: -0.97920\n",
      "epoch: 02, loss: -0.98512\n",
      "epoch: 03, loss: -0.98807\n",
      "epoch: 04, loss: -0.98990\n",
      "epoch: 05, loss: -0.99117\n",
      "epoch: 06, loss: -0.99211\n",
      "epoch: 07, loss: -0.99286\n",
      "epoch: 08, loss: -0.99346\n",
      "epoch: 09, loss: -0.99395\n",
      "torch.Size([1024, 384])\n"
     ]
    },
    {
     "name": "stderr",
     "output_type": "stream",
     "text": [
      "  8%|▊         | 78/999 [32:09<6:01:10, 23.53s/it]"
     ]
    },
    {
     "name": "stdout",
     "output_type": "stream",
     "text": [
      "eigenvalues shape torch.Size([5]) eigenvectors shape torch.Size([5, 1024])\n",
      "78 /home/phdcs2/Hard_Disk/Datasets/Deep-Spectral-Segmentation/data/object-segmentation/ECSSD/features/0080_resized.pth\n",
      "dict_keys(['k', 'indices', 'file', 'id', 'model_name', 'patch_size', 'shape'])\n",
      "0080_resized\n",
      "x0_arr <class 'numpy.ndarray'>\n",
      "x1_arr <class 'numpy.ndarray'>\n",
      "Starting Training\n",
      "epoch: 00, loss: -0.94267\n",
      "epoch: 01, loss: -0.98082\n",
      "epoch: 02, loss: -0.98628\n",
      "epoch: 03, loss: -0.98898\n",
      "epoch: 04, loss: -0.99065\n",
      "epoch: 05, loss: -0.99183\n",
      "epoch: 06, loss: -0.99271\n",
      "epoch: 07, loss: -0.99338\n",
      "epoch: 08, loss: -0.99394\n",
      "epoch: 09, loss: -0.99439\n",
      "torch.Size([1024, 384])\n"
     ]
    },
    {
     "name": "stderr",
     "output_type": "stream",
     "text": [
      "  8%|▊         | 79/999 [32:33<6:01:10, 23.56s/it]"
     ]
    },
    {
     "name": "stdout",
     "output_type": "stream",
     "text": [
      "eigenvalues shape torch.Size([5]) eigenvectors shape torch.Size([5, 1024])\n",
      "79 /home/phdcs2/Hard_Disk/Datasets/Deep-Spectral-Segmentation/data/object-segmentation/ECSSD/features/0081_resized.pth\n",
      "dict_keys(['k', 'indices', 'file', 'id', 'model_name', 'patch_size', 'shape'])\n",
      "0081_resized\n",
      "x0_arr <class 'numpy.ndarray'>\n",
      "x1_arr <class 'numpy.ndarray'>\n",
      "Starting Training\n",
      "epoch: 00, loss: -0.93971\n",
      "epoch: 01, loss: -0.98018\n",
      "epoch: 02, loss: -0.98574\n",
      "epoch: 03, loss: -0.98853\n",
      "epoch: 04, loss: -0.99026\n",
      "epoch: 05, loss: -0.99148\n",
      "epoch: 06, loss: -0.99237\n",
      "epoch: 07, loss: -0.99308\n",
      "epoch: 08, loss: -0.99363\n",
      "epoch: 09, loss: -0.99411\n",
      "torch.Size([1024, 384])\n"
     ]
    },
    {
     "name": "stderr",
     "output_type": "stream",
     "text": [
      "  8%|▊         | 80/999 [32:57<6:02:18, 23.65s/it]"
     ]
    },
    {
     "name": "stdout",
     "output_type": "stream",
     "text": [
      "eigenvalues shape torch.Size([5]) eigenvectors shape torch.Size([5, 1024])\n",
      "80 /home/phdcs2/Hard_Disk/Datasets/Deep-Spectral-Segmentation/data/object-segmentation/ECSSD/features/0082_resized.pth\n",
      "dict_keys(['k', 'indices', 'file', 'id', 'model_name', 'patch_size', 'shape'])\n",
      "0082_resized\n",
      "x0_arr <class 'numpy.ndarray'>\n",
      "x1_arr <class 'numpy.ndarray'>\n",
      "Starting Training\n",
      "epoch: 00, loss: -0.96164\n",
      "epoch: 01, loss: -0.98692\n",
      "epoch: 02, loss: -0.99063\n",
      "epoch: 03, loss: -0.99248\n",
      "epoch: 04, loss: -0.99362\n",
      "epoch: 05, loss: -0.99443\n",
      "epoch: 06, loss: -0.99502\n",
      "epoch: 07, loss: -0.99549\n",
      "epoch: 08, loss: -0.99586\n"
     ]
    },
    {
     "name": "stderr",
     "output_type": "stream",
     "text": [
      "  8%|▊         | 81/999 [33:21<6:03:20, 23.75s/it]"
     ]
    },
    {
     "name": "stdout",
     "output_type": "stream",
     "text": [
      "epoch: 09, loss: -0.99617\n",
      "torch.Size([1024, 384])\n",
      "eigenvalues shape torch.Size([5]) eigenvectors shape torch.Size([5, 1024])\n",
      "81 /home/phdcs2/Hard_Disk/Datasets/Deep-Spectral-Segmentation/data/object-segmentation/ECSSD/features/0083_resized.pth\n",
      "dict_keys(['k', 'indices', 'file', 'id', 'model_name', 'patch_size', 'shape'])\n",
      "0083_resized\n",
      "x0_arr <class 'numpy.ndarray'>\n",
      "x1_arr <class 'numpy.ndarray'>\n",
      "Starting Training\n",
      "epoch: 00, loss: -0.99572\n",
      "epoch: 01, loss: -1.00000\n",
      "epoch: 02, loss: -1.00000\n",
      "epoch: 03, loss: -1.00000\n",
      "epoch: 04, loss: -1.00000\n",
      "epoch: 05, loss: -1.00000\n",
      "epoch: 06, loss: -1.00000\n",
      "epoch: 07, loss: -1.00000\n",
      "epoch: 08, loss: -1.00000\n",
      "epoch: 09, loss: -1.00000\n",
      "torch.Size([1024, 384])\n"
     ]
    },
    {
     "name": "stderr",
     "output_type": "stream",
     "text": [
      "  8%|▊         | 82/999 [33:45<6:05:35, 23.92s/it]"
     ]
    },
    {
     "name": "stdout",
     "output_type": "stream",
     "text": [
      "eigenvalues shape torch.Size([5]) eigenvectors shape torch.Size([5, 1024])\n",
      "82 /home/phdcs2/Hard_Disk/Datasets/Deep-Spectral-Segmentation/data/object-segmentation/ECSSD/features/0084_resized.pth\n",
      "dict_keys(['k', 'indices', 'file', 'id', 'model_name', 'patch_size', 'shape'])\n",
      "0084_resized\n",
      "x0_arr <class 'numpy.ndarray'>\n",
      "x1_arr <class 'numpy.ndarray'>\n",
      "Starting Training\n",
      "epoch: 00, loss: -0.94991\n",
      "epoch: 01, loss: -0.98309\n",
      "epoch: 02, loss: -0.98781\n",
      "epoch: 03, loss: -0.99020\n",
      "epoch: 04, loss: -0.99168\n",
      "epoch: 05, loss: -0.99271\n",
      "epoch: 06, loss: -0.99347\n",
      "epoch: 07, loss: -0.99407\n",
      "epoch: 08, loss: -0.99455\n"
     ]
    },
    {
     "name": "stderr",
     "output_type": "stream",
     "text": [
      "  8%|▊         | 83/999 [34:09<6:04:19, 23.86s/it]"
     ]
    },
    {
     "name": "stdout",
     "output_type": "stream",
     "text": [
      "epoch: 09, loss: -0.99495\n",
      "torch.Size([1024, 384])\n",
      "eigenvalues shape torch.Size([5]) eigenvectors shape torch.Size([5, 1024])\n",
      "83 /home/phdcs2/Hard_Disk/Datasets/Deep-Spectral-Segmentation/data/object-segmentation/ECSSD/features/0085_resized.pth\n",
      "dict_keys(['k', 'indices', 'file', 'id', 'model_name', 'patch_size', 'shape'])\n",
      "0085_resized\n",
      "x0_arr <class 'numpy.ndarray'>\n",
      "x1_arr <class 'numpy.ndarray'>\n",
      "Starting Training\n",
      "epoch: 00, loss: -0.96575\n",
      "epoch: 01, loss: -0.98888\n",
      "epoch: 02, loss: -0.99229\n",
      "epoch: 03, loss: -0.99396\n",
      "epoch: 04, loss: -0.99499\n",
      "epoch: 05, loss: -0.99570\n",
      "epoch: 06, loss: -0.99623\n",
      "epoch: 07, loss: -0.99663\n",
      "epoch: 08, loss: -0.99696\n",
      "epoch: 09, loss: -0.99722\n",
      "torch.Size([1024, 384])\n"
     ]
    },
    {
     "name": "stderr",
     "output_type": "stream",
     "text": [
      "  8%|▊         | 84/999 [34:34<6:11:12, 24.34s/it]"
     ]
    },
    {
     "name": "stdout",
     "output_type": "stream",
     "text": [
      "eigenvalues shape torch.Size([5]) eigenvectors shape torch.Size([5, 1024])\n",
      "84 /home/phdcs2/Hard_Disk/Datasets/Deep-Spectral-Segmentation/data/object-segmentation/ECSSD/features/0086_resized.pth\n",
      "dict_keys(['k', 'indices', 'file', 'id', 'model_name', 'patch_size', 'shape'])\n",
      "0086_resized\n",
      "x0_arr <class 'numpy.ndarray'>\n",
      "x1_arr <class 'numpy.ndarray'>\n",
      "Starting Training\n",
      "epoch: 00, loss: -0.99587\n",
      "epoch: 01, loss: -1.00000\n",
      "epoch: 02, loss: -1.00000\n",
      "epoch: 03, loss: -1.00000\n",
      "epoch: 04, loss: -1.00000\n",
      "epoch: 05, loss: -1.00000\n",
      "epoch: 06, loss: -1.00000\n",
      "epoch: 07, loss: -1.00000\n",
      "epoch: 08, loss: -1.00000\n",
      "epoch: 09, loss: -1.00000\n",
      "torch.Size([1024, 384])\n"
     ]
    },
    {
     "name": "stderr",
     "output_type": "stream",
     "text": [
      "  9%|▊         | 85/999 [34:58<6:08:24, 24.18s/it]"
     ]
    },
    {
     "name": "stdout",
     "output_type": "stream",
     "text": [
      "eigenvalues shape torch.Size([5]) eigenvectors shape torch.Size([5, 1024])\n",
      "85 /home/phdcs2/Hard_Disk/Datasets/Deep-Spectral-Segmentation/data/object-segmentation/ECSSD/features/0087_resized.pth\n",
      "dict_keys(['k', 'indices', 'file', 'id', 'model_name', 'patch_size', 'shape'])\n",
      "0087_resized\n",
      "x0_arr <class 'numpy.ndarray'>\n",
      "x1_arr <class 'numpy.ndarray'>\n",
      "Starting Training\n",
      "epoch: 00, loss: -0.99553\n",
      "epoch: 01, loss: -1.00000\n",
      "epoch: 02, loss: -1.00000\n",
      "epoch: 03, loss: -1.00000\n",
      "epoch: 04, loss: -1.00000\n",
      "epoch: 05, loss: -1.00000\n",
      "epoch: 06, loss: -1.00000\n",
      "epoch: 07, loss: -1.00000\n",
      "epoch: 08, loss: -1.00000\n",
      "epoch: 09, loss: -1.00000\n",
      "torch.Size([1024, 384])\n"
     ]
    },
    {
     "name": "stderr",
     "output_type": "stream",
     "text": [
      "  9%|▊         | 86/999 [35:22<6:05:43, 24.03s/it]"
     ]
    },
    {
     "name": "stdout",
     "output_type": "stream",
     "text": [
      "eigenvalues shape torch.Size([5]) eigenvectors shape torch.Size([5, 1024])\n",
      "86 /home/phdcs2/Hard_Disk/Datasets/Deep-Spectral-Segmentation/data/object-segmentation/ECSSD/features/0088_resized.pth\n",
      "dict_keys(['k', 'indices', 'file', 'id', 'model_name', 'patch_size', 'shape'])\n",
      "0088_resized\n",
      "x0_arr <class 'numpy.ndarray'>\n",
      "x1_arr <class 'numpy.ndarray'>\n",
      "Starting Training\n",
      "epoch: 00, loss: -0.94067\n",
      "epoch: 01, loss: -0.98046\n",
      "epoch: 02, loss: -0.98611\n",
      "epoch: 03, loss: -0.98890\n",
      "epoch: 04, loss: -0.99064\n",
      "epoch: 05, loss: -0.99185\n",
      "epoch: 06, loss: -0.99275\n",
      "epoch: 07, loss: -0.99346\n",
      "epoch: 08, loss: -0.99403\n",
      "epoch: 09, loss: -0.99450\n",
      "torch.Size([1024, 384])\n"
     ]
    },
    {
     "name": "stderr",
     "output_type": "stream",
     "text": [
      "  9%|▊         | 87/999 [35:45<6:05:00, 24.01s/it]"
     ]
    },
    {
     "name": "stdout",
     "output_type": "stream",
     "text": [
      "eigenvalues shape torch.Size([5]) eigenvectors shape torch.Size([5, 1024])\n",
      "87 /home/phdcs2/Hard_Disk/Datasets/Deep-Spectral-Segmentation/data/object-segmentation/ECSSD/features/0089_resized.pth\n",
      "dict_keys(['k', 'indices', 'file', 'id', 'model_name', 'patch_size', 'shape'])\n",
      "0089_resized\n",
      "x0_arr <class 'numpy.ndarray'>\n",
      "x1_arr <class 'numpy.ndarray'>\n",
      "Starting Training\n",
      "epoch: 00, loss: -0.99590\n",
      "epoch: 01, loss: -1.00000\n",
      "epoch: 02, loss: -1.00000\n",
      "epoch: 03, loss: -1.00000\n",
      "epoch: 04, loss: -1.00000\n",
      "epoch: 05, loss: -1.00000\n",
      "epoch: 06, loss: -1.00000\n",
      "epoch: 07, loss: -1.00000\n",
      "epoch: 08, loss: -1.00000\n",
      "epoch: 09, loss: -1.00000\n",
      "torch.Size([1024, 384])\n",
      "eigenvalues shape torch.Size([5]) eigenvectors shape torch.Size([5, 1024])\n"
     ]
    },
    {
     "name": "stderr",
     "output_type": "stream",
     "text": [
      "  9%|▉         | 88/999 [36:10<6:04:34, 24.01s/it]"
     ]
    },
    {
     "name": "stdout",
     "output_type": "stream",
     "text": [
      "88 /home/phdcs2/Hard_Disk/Datasets/Deep-Spectral-Segmentation/data/object-segmentation/ECSSD/features/0090_resized.pth\n",
      "dict_keys(['k', 'indices', 'file', 'id', 'model_name', 'patch_size', 'shape'])\n",
      "0090_resized\n",
      "x0_arr <class 'numpy.ndarray'>\n",
      "x1_arr <class 'numpy.ndarray'>\n",
      "Starting Training\n",
      "epoch: 00, loss: -0.99619\n",
      "epoch: 01, loss: -1.00000\n",
      "epoch: 02, loss: -1.00000\n",
      "epoch: 03, loss: -1.00000\n",
      "epoch: 04, loss: -1.00000\n",
      "epoch: 05, loss: -1.00000\n",
      "epoch: 06, loss: -1.00000\n",
      "epoch: 07, loss: -1.00000\n",
      "epoch: 08, loss: -1.00000\n",
      "epoch: 09, loss: -1.00000\n",
      "torch.Size([1024, 384])\n"
     ]
    },
    {
     "name": "stderr",
     "output_type": "stream",
     "text": [
      "  9%|▉         | 89/999 [36:33<6:01:53, 23.86s/it]"
     ]
    },
    {
     "name": "stdout",
     "output_type": "stream",
     "text": [
      "eigenvalues shape torch.Size([5]) eigenvectors shape torch.Size([5, 1024])\n",
      "89 /home/phdcs2/Hard_Disk/Datasets/Deep-Spectral-Segmentation/data/object-segmentation/ECSSD/features/0091_resized.pth\n",
      "dict_keys(['k', 'indices', 'file', 'id', 'model_name', 'patch_size', 'shape'])\n",
      "0091_resized\n",
      "x0_arr <class 'numpy.ndarray'>\n",
      "x1_arr <class 'numpy.ndarray'>\n",
      "Starting Training\n",
      "epoch: 00, loss: -0.99532\n",
      "epoch: 01, loss: -1.00000\n",
      "epoch: 02, loss: -1.00000\n",
      "epoch: 03, loss: -1.00000\n",
      "epoch: 04, loss: -1.00000\n",
      "epoch: 05, loss: -1.00000\n",
      "epoch: 06, loss: -1.00000\n",
      "epoch: 07, loss: -1.00000\n",
      "epoch: 08, loss: -1.00000\n",
      "epoch: 09, loss: -1.00000\n",
      "torch.Size([1024, 384])\n"
     ]
    },
    {
     "name": "stderr",
     "output_type": "stream",
     "text": [
      "  9%|▉         | 90/999 [36:57<6:01:55, 23.89s/it]"
     ]
    },
    {
     "name": "stdout",
     "output_type": "stream",
     "text": [
      "eigenvalues shape torch.Size([5]) eigenvectors shape torch.Size([5, 1024])\n",
      "90 /home/phdcs2/Hard_Disk/Datasets/Deep-Spectral-Segmentation/data/object-segmentation/ECSSD/features/0092_resized.pth\n",
      "dict_keys(['k', 'indices', 'file', 'id', 'model_name', 'patch_size', 'shape'])\n",
      "0092_resized\n",
      "x0_arr <class 'numpy.ndarray'>\n",
      "x1_arr <class 'numpy.ndarray'>\n",
      "Starting Training\n",
      "epoch: 00, loss: -0.99547\n",
      "epoch: 01, loss: -1.00000\n",
      "epoch: 02, loss: -1.00000\n",
      "epoch: 03, loss: -1.00000\n",
      "epoch: 04, loss: -1.00000\n",
      "epoch: 05, loss: -1.00000\n",
      "epoch: 06, loss: -1.00000\n",
      "epoch: 07, loss: -1.00000\n",
      "epoch: 08, loss: -1.00000\n"
     ]
    },
    {
     "name": "stderr",
     "output_type": "stream",
     "text": [
      "  9%|▉         | 91/999 [37:21<6:01:28, 23.89s/it]"
     ]
    },
    {
     "name": "stdout",
     "output_type": "stream",
     "text": [
      "epoch: 09, loss: -1.00000\n",
      "torch.Size([1024, 384])\n",
      "eigenvalues shape torch.Size([5]) eigenvectors shape torch.Size([5, 1024])\n",
      "91 /home/phdcs2/Hard_Disk/Datasets/Deep-Spectral-Segmentation/data/object-segmentation/ECSSD/features/0093_resized.pth\n",
      "dict_keys(['k', 'indices', 'file', 'id', 'model_name', 'patch_size', 'shape'])\n",
      "0093_resized\n",
      "x0_arr <class 'numpy.ndarray'>\n",
      "x1_arr <class 'numpy.ndarray'>\n",
      "Starting Training\n",
      "epoch: 00, loss: -0.94978\n",
      "epoch: 01, loss: -0.98710\n",
      "epoch: 02, loss: -0.99141\n",
      "epoch: 03, loss: -0.99345\n",
      "epoch: 04, loss: -0.99468\n",
      "epoch: 05, loss: -0.99552\n",
      "epoch: 06, loss: -0.99612\n",
      "epoch: 07, loss: -0.99659\n",
      "epoch: 08, loss: -0.99696\n",
      "epoch: 09, loss: -0.99726\n",
      "torch.Size([1024, 384])\n"
     ]
    },
    {
     "name": "stderr",
     "output_type": "stream",
     "text": [
      "  9%|▉         | 92/999 [37:45<6:02:50, 24.00s/it]"
     ]
    },
    {
     "name": "stdout",
     "output_type": "stream",
     "text": [
      "eigenvalues shape torch.Size([5]) eigenvectors shape torch.Size([5, 1024])\n",
      "92 /home/phdcs2/Hard_Disk/Datasets/Deep-Spectral-Segmentation/data/object-segmentation/ECSSD/features/0094_resized.pth\n",
      "dict_keys(['k', 'indices', 'file', 'id', 'model_name', 'patch_size', 'shape'])\n",
      "0094_resized\n",
      "x0_arr <class 'numpy.ndarray'>\n",
      "x1_arr <class 'numpy.ndarray'>\n",
      "Starting Training\n",
      "epoch: 00, loss: -0.94248\n",
      "epoch: 01, loss: -0.98096\n",
      "epoch: 02, loss: -0.98629\n",
      "epoch: 03, loss: -0.98894\n",
      "epoch: 04, loss: -0.99057\n",
      "epoch: 05, loss: -0.99172\n",
      "epoch: 06, loss: -0.99256\n",
      "epoch: 07, loss: -0.99322\n",
      "epoch: 08, loss: -0.99375\n",
      "epoch: 09, loss: -0.99418\n",
      "torch.Size([1024, 384])\n"
     ]
    },
    {
     "name": "stderr",
     "output_type": "stream",
     "text": [
      "  9%|▉         | 93/999 [38:09<6:03:20, 24.06s/it]"
     ]
    },
    {
     "name": "stdout",
     "output_type": "stream",
     "text": [
      "eigenvalues shape torch.Size([5]) eigenvectors shape torch.Size([5, 1024])\n",
      "93 /home/phdcs2/Hard_Disk/Datasets/Deep-Spectral-Segmentation/data/object-segmentation/ECSSD/features/0095_resized.pth\n",
      "dict_keys(['k', 'indices', 'file', 'id', 'model_name', 'patch_size', 'shape'])\n",
      "0095_resized\n",
      "x0_arr <class 'numpy.ndarray'>\n",
      "x1_arr <class 'numpy.ndarray'>\n",
      "Starting Training\n",
      "epoch: 00, loss: -0.94289\n",
      "epoch: 01, loss: -0.98066\n",
      "epoch: 02, loss: -0.98603\n",
      "epoch: 03, loss: -0.98869\n",
      "epoch: 04, loss: -0.99034\n",
      "epoch: 05, loss: -0.99150\n",
      "epoch: 06, loss: -0.99235\n",
      "epoch: 07, loss: -0.99302\n",
      "epoch: 08, loss: -0.99357\n",
      "epoch: 09, loss: -0.99402\n",
      "torch.Size([1024, 384])\n"
     ]
    },
    {
     "name": "stderr",
     "output_type": "stream",
     "text": [
      "  9%|▉         | 94/999 [38:33<6:02:16, 24.02s/it]"
     ]
    },
    {
     "name": "stdout",
     "output_type": "stream",
     "text": [
      "eigenvalues shape torch.Size([5]) eigenvectors shape torch.Size([5, 1024])\n",
      "94 /home/phdcs2/Hard_Disk/Datasets/Deep-Spectral-Segmentation/data/object-segmentation/ECSSD/features/0096_resized.pth\n",
      "dict_keys(['k', 'indices', 'file', 'id', 'model_name', 'patch_size', 'shape'])\n",
      "0096_resized\n",
      "x0_arr <class 'numpy.ndarray'>\n",
      "x1_arr <class 'numpy.ndarray'>\n",
      "Starting Training\n",
      "epoch: 00, loss: -0.99527\n",
      "epoch: 01, loss: -1.00000\n",
      "epoch: 02, loss: -1.00000\n",
      "epoch: 03, loss: -1.00000\n",
      "epoch: 04, loss: -1.00000\n",
      "epoch: 05, loss: -1.00000\n",
      "epoch: 06, loss: -1.00000\n",
      "epoch: 07, loss: -1.00000\n",
      "epoch: 08, loss: -1.00000\n",
      "epoch: 09, loss: -1.00000\n",
      "torch.Size([1024, 384])\n"
     ]
    },
    {
     "name": "stderr",
     "output_type": "stream",
     "text": [
      " 10%|▉         | 95/999 [38:57<5:59:52, 23.89s/it]"
     ]
    },
    {
     "name": "stdout",
     "output_type": "stream",
     "text": [
      "eigenvalues shape torch.Size([5]) eigenvectors shape torch.Size([5, 1024])\n",
      "95 /home/phdcs2/Hard_Disk/Datasets/Deep-Spectral-Segmentation/data/object-segmentation/ECSSD/features/0097_resized.pth\n",
      "dict_keys(['k', 'indices', 'file', 'id', 'model_name', 'patch_size', 'shape'])\n",
      "0097_resized\n",
      "x0_arr <class 'numpy.ndarray'>\n",
      "x1_arr <class 'numpy.ndarray'>\n",
      "Starting Training\n",
      "epoch: 00, loss: -0.99527\n",
      "epoch: 01, loss: -1.00000\n",
      "epoch: 02, loss: -1.00000\n",
      "epoch: 03, loss: -1.00000\n",
      "epoch: 04, loss: -1.00000\n",
      "epoch: 05, loss: -1.00000\n",
      "epoch: 06, loss: -1.00000\n",
      "epoch: 07, loss: -1.00000\n",
      "epoch: 08, loss: -1.00000\n",
      "epoch: 09, loss: -1.00000\n",
      "torch.Size([1024, 384])\n"
     ]
    },
    {
     "name": "stderr",
     "output_type": "stream",
     "text": [
      " 10%|▉         | 96/999 [39:21<6:01:06, 23.99s/it]"
     ]
    },
    {
     "name": "stdout",
     "output_type": "stream",
     "text": [
      "eigenvalues shape torch.Size([5]) eigenvectors shape torch.Size([5, 1024])\n",
      "96 /home/phdcs2/Hard_Disk/Datasets/Deep-Spectral-Segmentation/data/object-segmentation/ECSSD/features/0098_resized.pth\n",
      "dict_keys(['k', 'indices', 'file', 'id', 'model_name', 'patch_size', 'shape'])\n",
      "0098_resized\n",
      "x0_arr <class 'numpy.ndarray'>\n",
      "x1_arr <class 'numpy.ndarray'>\n",
      "Starting Training\n",
      "epoch: 00, loss: -0.94197\n",
      "epoch: 01, loss: -0.98265\n",
      "epoch: 02, loss: -0.98812\n",
      "epoch: 03, loss: -0.99074\n",
      "epoch: 04, loss: -0.99236\n",
      "epoch: 05, loss: -0.99346\n",
      "epoch: 06, loss: -0.99427\n",
      "epoch: 07, loss: -0.99489\n",
      "epoch: 08, loss: -0.99538\n",
      "epoch: 09, loss: -0.99578\n",
      "torch.Size([1024, 384])\n"
     ]
    },
    {
     "name": "stderr",
     "output_type": "stream",
     "text": [
      " 10%|▉         | 97/999 [39:45<6:00:02, 23.95s/it]"
     ]
    },
    {
     "name": "stdout",
     "output_type": "stream",
     "text": [
      "eigenvalues shape torch.Size([5]) eigenvectors shape torch.Size([5, 1024])\n",
      "97 /home/phdcs2/Hard_Disk/Datasets/Deep-Spectral-Segmentation/data/object-segmentation/ECSSD/features/0099_resized.pth\n",
      "dict_keys(['k', 'indices', 'file', 'id', 'model_name', 'patch_size', 'shape'])\n",
      "0099_resized\n",
      "x0_arr <class 'numpy.ndarray'>\n",
      "x1_arr <class 'numpy.ndarray'>\n",
      "Starting Training\n",
      "epoch: 00, loss: -0.93795\n",
      "epoch: 01, loss: -0.97913\n",
      "epoch: 02, loss: -0.98492\n",
      "epoch: 03, loss: -0.98778\n",
      "epoch: 04, loss: -0.98958\n",
      "epoch: 05, loss: -0.99084\n",
      "epoch: 06, loss: -0.99177\n",
      "epoch: 07, loss: -0.99250\n",
      "epoch: 08, loss: -0.99310\n",
      "epoch: 09, loss: -0.99358\n",
      "torch.Size([1024, 384])\n"
     ]
    },
    {
     "name": "stderr",
     "output_type": "stream",
     "text": [
      " 10%|▉         | 98/999 [40:09<5:58:46, 23.89s/it]"
     ]
    },
    {
     "name": "stdout",
     "output_type": "stream",
     "text": [
      "eigenvalues shape torch.Size([5]) eigenvectors shape torch.Size([5, 1024])\n",
      "98 /home/phdcs2/Hard_Disk/Datasets/Deep-Spectral-Segmentation/data/object-segmentation/ECSSD/features/0100_resized.pth\n",
      "dict_keys(['k', 'indices', 'file', 'id', 'model_name', 'patch_size', 'shape'])\n",
      "0100_resized\n",
      "x0_arr <class 'numpy.ndarray'>\n",
      "x1_arr <class 'numpy.ndarray'>\n",
      "Starting Training\n",
      "epoch: 00, loss: -0.99538\n",
      "epoch: 01, loss: -0.99985\n",
      "epoch: 02, loss: -0.99985\n",
      "epoch: 03, loss: -0.99986\n",
      "epoch: 04, loss: -0.99987\n",
      "epoch: 05, loss: -0.99987\n",
      "epoch: 06, loss: -0.99988\n",
      "epoch: 07, loss: -0.99988\n",
      "epoch: 08, loss: -0.99989\n",
      "epoch: 09, loss: -0.99989\n",
      "torch.Size([1024, 384])\n"
     ]
    },
    {
     "name": "stderr",
     "output_type": "stream",
     "text": [
      " 10%|▉         | 99/999 [40:33<6:01:48, 24.12s/it]"
     ]
    },
    {
     "name": "stdout",
     "output_type": "stream",
     "text": [
      "eigenvalues shape torch.Size([5]) eigenvectors shape torch.Size([5, 1024])\n",
      "99 /home/phdcs2/Hard_Disk/Datasets/Deep-Spectral-Segmentation/data/object-segmentation/ECSSD/features/0101_resized.pth\n",
      "dict_keys(['k', 'indices', 'file', 'id', 'model_name', 'patch_size', 'shape'])\n",
      "0101_resized\n",
      "x0_arr <class 'numpy.ndarray'>\n",
      "x1_arr <class 'numpy.ndarray'>\n",
      "Starting Training\n",
      "epoch: 00, loss: -0.99541\n",
      "epoch: 01, loss: -1.00000\n",
      "epoch: 02, loss: -1.00000\n",
      "epoch: 03, loss: -1.00000\n",
      "epoch: 04, loss: -1.00000\n",
      "epoch: 05, loss: -1.00000\n",
      "epoch: 06, loss: -1.00000\n",
      "epoch: 07, loss: -1.00000\n",
      "epoch: 08, loss: -1.00000\n",
      "epoch: 09, loss: -1.00000\n",
      "torch.Size([1024, 384])\n"
     ]
    },
    {
     "name": "stderr",
     "output_type": "stream",
     "text": [
      " 10%|█         | 100/999 [40:57<6:00:03, 24.03s/it]"
     ]
    },
    {
     "name": "stdout",
     "output_type": "stream",
     "text": [
      "eigenvalues shape torch.Size([5]) eigenvectors shape torch.Size([5, 1024])\n",
      "100 /home/phdcs2/Hard_Disk/Datasets/Deep-Spectral-Segmentation/data/object-segmentation/ECSSD/features/0102_resized.pth\n",
      "dict_keys(['k', 'indices', 'file', 'id', 'model_name', 'patch_size', 'shape'])\n",
      "0102_resized\n",
      "x0_arr <class 'numpy.ndarray'>\n",
      "x1_arr <class 'numpy.ndarray'>\n",
      "Starting Training\n",
      "epoch: 00, loss: -0.99540\n",
      "epoch: 01, loss: -1.00000\n",
      "epoch: 02, loss: -1.00000\n",
      "epoch: 03, loss: -1.00000\n",
      "epoch: 04, loss: -1.00000\n",
      "epoch: 05, loss: -1.00000\n",
      "epoch: 06, loss: -1.00000\n",
      "epoch: 07, loss: -1.00000\n",
      "epoch: 08, loss: -1.00000\n",
      "epoch: 09, loss: -1.00000\n",
      "torch.Size([1024, 384])\n"
     ]
    },
    {
     "name": "stderr",
     "output_type": "stream",
     "text": [
      " 10%|█         | 101/999 [41:21<5:57:01, 23.85s/it]"
     ]
    },
    {
     "name": "stdout",
     "output_type": "stream",
     "text": [
      "eigenvalues shape torch.Size([5]) eigenvectors shape torch.Size([5, 1024])\n",
      "101 /home/phdcs2/Hard_Disk/Datasets/Deep-Spectral-Segmentation/data/object-segmentation/ECSSD/features/0103_resized.pth\n",
      "dict_keys(['k', 'indices', 'file', 'id', 'model_name', 'patch_size', 'shape'])\n",
      "0103_resized\n",
      "x0_arr <class 'numpy.ndarray'>\n",
      "x1_arr <class 'numpy.ndarray'>\n",
      "Starting Training\n",
      "epoch: 00, loss: -0.99525\n",
      "epoch: 01, loss: -0.99961\n",
      "epoch: 02, loss: -0.99966\n",
      "epoch: 03, loss: -0.99969\n",
      "epoch: 04, loss: -0.99972\n",
      "epoch: 05, loss: -0.99974\n",
      "epoch: 06, loss: -0.99976\n",
      "epoch: 07, loss: -0.99978\n",
      "epoch: 08, loss: -0.99979\n",
      "epoch: 09, loss: -0.99980\n",
      "torch.Size([1024, 384])\n"
     ]
    },
    {
     "name": "stderr",
     "output_type": "stream",
     "text": [
      " 10%|█         | 102/999 [41:45<5:58:14, 23.96s/it]"
     ]
    },
    {
     "name": "stdout",
     "output_type": "stream",
     "text": [
      "eigenvalues shape torch.Size([5]) eigenvectors shape torch.Size([5, 1024])\n",
      "102 /home/phdcs2/Hard_Disk/Datasets/Deep-Spectral-Segmentation/data/object-segmentation/ECSSD/features/0104_resized.pth\n",
      "dict_keys(['k', 'indices', 'file', 'id', 'model_name', 'patch_size', 'shape'])\n",
      "0104_resized\n",
      "x0_arr <class 'numpy.ndarray'>\n",
      "x1_arr <class 'numpy.ndarray'>\n",
      "Starting Training\n",
      "epoch: 00, loss: -0.99547\n",
      "epoch: 01, loss: -0.99993\n",
      "epoch: 02, loss: -0.99993\n",
      "epoch: 03, loss: -0.99993\n",
      "epoch: 04, loss: -0.99994\n",
      "epoch: 05, loss: -0.99994\n",
      "epoch: 06, loss: -0.99994\n",
      "epoch: 07, loss: -0.99994\n",
      "epoch: 08, loss: -0.99994\n",
      "epoch: 09, loss: -0.99994\n",
      "torch.Size([1024, 384])\n"
     ]
    },
    {
     "name": "stderr",
     "output_type": "stream",
     "text": [
      " 10%|█         | 103/999 [42:09<5:58:51, 24.03s/it]"
     ]
    },
    {
     "name": "stdout",
     "output_type": "stream",
     "text": [
      "eigenvalues shape torch.Size([5]) eigenvectors shape torch.Size([5, 1024])\n",
      "103 /home/phdcs2/Hard_Disk/Datasets/Deep-Spectral-Segmentation/data/object-segmentation/ECSSD/features/0105_resized.pth\n",
      "dict_keys(['k', 'indices', 'file', 'id', 'model_name', 'patch_size', 'shape'])\n",
      "0105_resized\n",
      "x0_arr <class 'numpy.ndarray'>\n",
      "x1_arr <class 'numpy.ndarray'>\n",
      "Starting Training\n",
      "epoch: 00, loss: -0.93757\n",
      "epoch: 01, loss: -0.98213\n",
      "epoch: 02, loss: -0.98782\n",
      "epoch: 03, loss: -0.99057\n",
      "epoch: 04, loss: -0.99225\n",
      "epoch: 05, loss: -0.99340\n",
      "epoch: 06, loss: -0.99423\n",
      "epoch: 07, loss: -0.99487\n",
      "epoch: 08, loss: -0.99538\n",
      "epoch: 09, loss: -0.99579\n",
      "torch.Size([1024, 384])\n"
     ]
    },
    {
     "name": "stderr",
     "output_type": "stream",
     "text": [
      " 10%|█         | 104/999 [42:33<5:56:30, 23.90s/it]"
     ]
    },
    {
     "name": "stdout",
     "output_type": "stream",
     "text": [
      "eigenvalues shape torch.Size([5]) eigenvectors shape torch.Size([5, 1024])\n",
      "104 /home/phdcs2/Hard_Disk/Datasets/Deep-Spectral-Segmentation/data/object-segmentation/ECSSD/features/0106_resized.pth\n",
      "dict_keys(['k', 'indices', 'file', 'id', 'model_name', 'patch_size', 'shape'])\n",
      "0106_resized\n",
      "x0_arr <class 'numpy.ndarray'>\n",
      "x1_arr <class 'numpy.ndarray'>\n",
      "Starting Training\n",
      "epoch: 00, loss: -0.95036\n",
      "epoch: 01, loss: -0.98470\n",
      "epoch: 02, loss: -0.98922\n",
      "epoch: 03, loss: -0.99139\n",
      "epoch: 04, loss: -0.99272\n",
      "epoch: 05, loss: -0.99362\n",
      "epoch: 06, loss: -0.99429\n",
      "epoch: 07, loss: -0.99479\n",
      "epoch: 08, loss: -0.99520\n",
      "epoch: 09, loss: -0.99554\n",
      "torch.Size([1024, 384])\n"
     ]
    },
    {
     "name": "stderr",
     "output_type": "stream",
     "text": [
      " 11%|█         | 105/999 [42:57<5:56:30, 23.93s/it]"
     ]
    },
    {
     "name": "stdout",
     "output_type": "stream",
     "text": [
      "eigenvalues shape torch.Size([5]) eigenvectors shape torch.Size([5, 1024])\n",
      "105 /home/phdcs2/Hard_Disk/Datasets/Deep-Spectral-Segmentation/data/object-segmentation/ECSSD/features/0107_resized.pth\n",
      "dict_keys(['k', 'indices', 'file', 'id', 'model_name', 'patch_size', 'shape'])\n",
      "0107_resized\n",
      "x0_arr <class 'numpy.ndarray'>\n",
      "x1_arr <class 'numpy.ndarray'>\n",
      "Starting Training\n",
      "epoch: 00, loss: -0.93840\n",
      "epoch: 01, loss: -0.97943\n",
      "epoch: 02, loss: -0.98509\n",
      "epoch: 03, loss: -0.98798\n",
      "epoch: 04, loss: -0.98976\n",
      "epoch: 05, loss: -0.99100\n",
      "epoch: 06, loss: -0.99194\n",
      "epoch: 07, loss: -0.99267\n",
      "epoch: 08, loss: -0.99326\n",
      "epoch: 09, loss: -0.99374\n",
      "torch.Size([1024, 384])\n"
     ]
    },
    {
     "name": "stderr",
     "output_type": "stream",
     "text": [
      " 11%|█         | 106/999 [43:21<5:56:54, 23.98s/it]"
     ]
    },
    {
     "name": "stdout",
     "output_type": "stream",
     "text": [
      "eigenvalues shape torch.Size([5]) eigenvectors shape torch.Size([5, 1024])\n",
      "106 /home/phdcs2/Hard_Disk/Datasets/Deep-Spectral-Segmentation/data/object-segmentation/ECSSD/features/0108_resized.pth\n",
      "dict_keys(['k', 'indices', 'file', 'id', 'model_name', 'patch_size', 'shape'])\n",
      "0108_resized\n",
      "x0_arr <class 'numpy.ndarray'>\n",
      "x1_arr <class 'numpy.ndarray'>\n",
      "Starting Training\n",
      "epoch: 00, loss: -0.99566\n",
      "epoch: 01, loss: -1.00000\n",
      "epoch: 02, loss: -1.00000\n",
      "epoch: 03, loss: -1.00000\n",
      "epoch: 04, loss: -1.00000\n",
      "epoch: 05, loss: -1.00000\n",
      "epoch: 06, loss: -1.00000\n",
      "epoch: 07, loss: -1.00000\n",
      "epoch: 08, loss: -1.00000\n",
      "epoch: 09, loss: -1.00000\n",
      "torch.Size([1024, 384])\n"
     ]
    },
    {
     "name": "stderr",
     "output_type": "stream",
     "text": [
      " 11%|█         | 107/999 [43:45<5:55:56, 23.94s/it]"
     ]
    },
    {
     "name": "stdout",
     "output_type": "stream",
     "text": [
      "eigenvalues shape torch.Size([5]) eigenvectors shape torch.Size([5, 1024])\n",
      "107 /home/phdcs2/Hard_Disk/Datasets/Deep-Spectral-Segmentation/data/object-segmentation/ECSSD/features/0109_resized.pth\n",
      "dict_keys(['k', 'indices', 'file', 'id', 'model_name', 'patch_size', 'shape'])\n",
      "0109_resized\n",
      "x0_arr <class 'numpy.ndarray'>\n",
      "x1_arr <class 'numpy.ndarray'>\n",
      "Starting Training\n",
      "epoch: 00, loss: -0.99568\n",
      "epoch: 01, loss: -1.00000\n",
      "epoch: 02, loss: -1.00000\n",
      "epoch: 03, loss: -1.00000\n",
      "epoch: 04, loss: -1.00000\n",
      "epoch: 05, loss: -1.00000\n",
      "epoch: 06, loss: -1.00000\n",
      "epoch: 07, loss: -1.00000\n",
      "epoch: 08, loss: -1.00000\n"
     ]
    },
    {
     "name": "stderr",
     "output_type": "stream",
     "text": [
      " 11%|█         | 108/999 [44:07<5:49:11, 23.51s/it]"
     ]
    },
    {
     "name": "stdout",
     "output_type": "stream",
     "text": [
      "epoch: 09, loss: -1.00000\n",
      "torch.Size([1024, 384])\n",
      "eigenvalues shape torch.Size([5]) eigenvectors shape torch.Size([5, 1024])\n",
      "108 /home/phdcs2/Hard_Disk/Datasets/Deep-Spectral-Segmentation/data/object-segmentation/ECSSD/features/0110_resized.pth\n",
      "dict_keys(['k', 'indices', 'file', 'id', 'model_name', 'patch_size', 'shape'])\n",
      "0110_resized\n",
      "x0_arr <class 'numpy.ndarray'>\n",
      "x1_arr <class 'numpy.ndarray'>\n",
      "Starting Training\n",
      "epoch: 00, loss: -0.99578\n",
      "epoch: 01, loss: -1.00000\n",
      "epoch: 02, loss: -1.00000\n",
      "epoch: 03, loss: -1.00000\n",
      "epoch: 04, loss: -1.00000\n",
      "epoch: 05, loss: -1.00000\n",
      "epoch: 06, loss: -1.00000\n",
      "epoch: 07, loss: -1.00000\n",
      "epoch: 08, loss: -1.00000\n",
      "epoch: 09, loss: -1.00000\n",
      "torch.Size([1024, 384])\n"
     ]
    },
    {
     "name": "stderr",
     "output_type": "stream",
     "text": [
      " 11%|█         | 109/999 [44:31<5:49:40, 23.57s/it]"
     ]
    },
    {
     "name": "stdout",
     "output_type": "stream",
     "text": [
      "eigenvalues shape torch.Size([5]) eigenvectors shape torch.Size([5, 1024])\n",
      "109 /home/phdcs2/Hard_Disk/Datasets/Deep-Spectral-Segmentation/data/object-segmentation/ECSSD/features/0111_resized.pth\n",
      "dict_keys(['k', 'indices', 'file', 'id', 'model_name', 'patch_size', 'shape'])\n",
      "0111_resized\n",
      "x0_arr <class 'numpy.ndarray'>\n",
      "x1_arr <class 'numpy.ndarray'>\n",
      "Starting Training\n",
      "epoch: 00, loss: -0.99541\n",
      "epoch: 01, loss: -0.99976\n",
      "epoch: 02, loss: -0.99978\n",
      "epoch: 03, loss: -0.99980\n",
      "epoch: 04, loss: -0.99981\n",
      "epoch: 05, loss: -0.99983\n",
      "epoch: 06, loss: -0.99984\n",
      "epoch: 07, loss: -0.99984\n",
      "epoch: 08, loss: -0.99985\n",
      "epoch: 09, loss: -0.99986\n",
      "torch.Size([1024, 384])\n"
     ]
    },
    {
     "name": "stderr",
     "output_type": "stream",
     "text": [
      " 11%|█         | 110/999 [44:55<5:50:02, 23.62s/it]"
     ]
    },
    {
     "name": "stdout",
     "output_type": "stream",
     "text": [
      "eigenvalues shape torch.Size([5]) eigenvectors shape torch.Size([5, 1024])\n",
      "110 /home/phdcs2/Hard_Disk/Datasets/Deep-Spectral-Segmentation/data/object-segmentation/ECSSD/features/0112_resized.pth\n",
      "dict_keys(['k', 'indices', 'file', 'id', 'model_name', 'patch_size', 'shape'])\n",
      "0112_resized\n",
      "x0_arr <class 'numpy.ndarray'>\n",
      "x1_arr <class 'numpy.ndarray'>\n",
      "Starting Training\n",
      "epoch: 00, loss: -0.94339\n",
      "epoch: 01, loss: -0.98155\n",
      "epoch: 02, loss: -0.98678\n",
      "epoch: 03, loss: -0.98936\n",
      "epoch: 04, loss: -0.99097\n",
      "epoch: 05, loss: -0.99209\n",
      "epoch: 06, loss: -0.99290\n",
      "epoch: 07, loss: -0.99353\n",
      "epoch: 08, loss: -0.99406\n",
      "epoch: 09, loss: -0.99449\n",
      "torch.Size([1024, 384])\n"
     ]
    },
    {
     "name": "stderr",
     "output_type": "stream",
     "text": [
      " 11%|█         | 111/999 [45:18<5:49:27, 23.61s/it]"
     ]
    },
    {
     "name": "stdout",
     "output_type": "stream",
     "text": [
      "eigenvalues shape torch.Size([5]) eigenvectors shape torch.Size([5, 1024])\n",
      "111 /home/phdcs2/Hard_Disk/Datasets/Deep-Spectral-Segmentation/data/object-segmentation/ECSSD/features/0113_resized.pth\n",
      "dict_keys(['k', 'indices', 'file', 'id', 'model_name', 'patch_size', 'shape'])\n",
      "0113_resized\n",
      "x0_arr <class 'numpy.ndarray'>\n",
      "x1_arr <class 'numpy.ndarray'>\n",
      "Starting Training\n",
      "epoch: 00, loss: -0.99591\n",
      "epoch: 01, loss: -1.00000\n",
      "epoch: 02, loss: -1.00000\n",
      "epoch: 03, loss: -1.00000\n",
      "epoch: 04, loss: -1.00000\n",
      "epoch: 05, loss: -1.00000\n",
      "epoch: 06, loss: -1.00000\n",
      "epoch: 07, loss: -1.00000\n",
      "epoch: 08, loss: -1.00000\n",
      "epoch: 09, loss: -1.00000\n",
      "torch.Size([1024, 384])\n"
     ]
    },
    {
     "name": "stderr",
     "output_type": "stream",
     "text": [
      " 11%|█         | 112/999 [45:42<5:50:31, 23.71s/it]"
     ]
    },
    {
     "name": "stdout",
     "output_type": "stream",
     "text": [
      "eigenvalues shape torch.Size([5]) eigenvectors shape torch.Size([5, 1024])\n",
      "112 /home/phdcs2/Hard_Disk/Datasets/Deep-Spectral-Segmentation/data/object-segmentation/ECSSD/features/0114_resized.pth\n",
      "dict_keys(['k', 'indices', 'file', 'id', 'model_name', 'patch_size', 'shape'])\n",
      "0114_resized\n",
      "x0_arr <class 'numpy.ndarray'>\n",
      "x1_arr <class 'numpy.ndarray'>\n",
      "Starting Training\n",
      "epoch: 00, loss: -0.99474\n",
      "epoch: 01, loss: -1.00000\n",
      "epoch: 02, loss: -1.00000\n",
      "epoch: 03, loss: -1.00000\n",
      "epoch: 04, loss: -1.00000\n",
      "epoch: 05, loss: -1.00000\n",
      "epoch: 06, loss: -1.00000\n",
      "epoch: 07, loss: -1.00000\n",
      "epoch: 08, loss: -1.00000\n",
      "epoch: 09, loss: -1.00000\n",
      "torch.Size([1024, 384])\n"
     ]
    },
    {
     "name": "stderr",
     "output_type": "stream",
     "text": [
      " 11%|█▏        | 113/999 [46:06<5:51:46, 23.82s/it]"
     ]
    },
    {
     "name": "stdout",
     "output_type": "stream",
     "text": [
      "eigenvalues shape torch.Size([5]) eigenvectors shape torch.Size([5, 1024])\n",
      "113 /home/phdcs2/Hard_Disk/Datasets/Deep-Spectral-Segmentation/data/object-segmentation/ECSSD/features/0115_resized.pth\n",
      "dict_keys(['k', 'indices', 'file', 'id', 'model_name', 'patch_size', 'shape'])\n",
      "0115_resized\n",
      "x0_arr <class 'numpy.ndarray'>\n",
      "x1_arr <class 'numpy.ndarray'>\n",
      "Starting Training\n",
      "epoch: 00, loss: -0.94473\n",
      "epoch: 01, loss: -0.98269\n",
      "epoch: 02, loss: -0.98773\n",
      "epoch: 03, loss: -0.99021\n",
      "epoch: 04, loss: -0.99172\n",
      "epoch: 05, loss: -0.99276\n",
      "epoch: 06, loss: -0.99353\n",
      "epoch: 07, loss: -0.99412\n",
      "epoch: 08, loss: -0.99459\n",
      "epoch: 09, loss: -0.99498\n",
      "torch.Size([1024, 384])\n"
     ]
    },
    {
     "name": "stderr",
     "output_type": "stream",
     "text": [
      " 11%|█▏        | 114/999 [46:30<5:50:11, 23.74s/it]"
     ]
    },
    {
     "name": "stdout",
     "output_type": "stream",
     "text": [
      "eigenvalues shape torch.Size([5]) eigenvectors shape torch.Size([5, 1024])\n",
      "114 /home/phdcs2/Hard_Disk/Datasets/Deep-Spectral-Segmentation/data/object-segmentation/ECSSD/features/0116_resized.pth\n",
      "dict_keys(['k', 'indices', 'file', 'id', 'model_name', 'patch_size', 'shape'])\n",
      "0116_resized\n",
      "x0_arr <class 'numpy.ndarray'>\n",
      "x1_arr <class 'numpy.ndarray'>\n",
      "Starting Training\n",
      "epoch: 00, loss: -0.99578\n",
      "epoch: 01, loss: -0.99999\n",
      "epoch: 02, loss: -0.99999\n",
      "epoch: 03, loss: -0.99999\n",
      "epoch: 04, loss: -0.99999\n",
      "epoch: 05, loss: -0.99999\n",
      "epoch: 06, loss: -0.99999\n",
      "epoch: 07, loss: -0.99999\n",
      "epoch: 08, loss: -0.99999\n",
      "epoch: 09, loss: -0.99999\n",
      "torch.Size([1024, 384])\n"
     ]
    },
    {
     "name": "stderr",
     "output_type": "stream",
     "text": [
      " 12%|█▏        | 115/999 [46:54<5:52:07, 23.90s/it]"
     ]
    },
    {
     "name": "stdout",
     "output_type": "stream",
     "text": [
      "eigenvalues shape torch.Size([5]) eigenvectors shape torch.Size([5, 1024])\n",
      "115 /home/phdcs2/Hard_Disk/Datasets/Deep-Spectral-Segmentation/data/object-segmentation/ECSSD/features/0117_resized.pth\n",
      "dict_keys(['k', 'indices', 'file', 'id', 'model_name', 'patch_size', 'shape'])\n",
      "0117_resized\n",
      "x0_arr <class 'numpy.ndarray'>\n",
      "x1_arr <class 'numpy.ndarray'>\n",
      "Starting Training\n",
      "epoch: 00, loss: -0.99506\n",
      "epoch: 01, loss: -0.99989\n",
      "epoch: 02, loss: -0.99989\n",
      "epoch: 03, loss: -0.99990\n",
      "epoch: 04, loss: -0.99990\n",
      "epoch: 05, loss: -0.99991\n",
      "epoch: 06, loss: -0.99991\n",
      "epoch: 07, loss: -0.99991\n",
      "epoch: 08, loss: -0.99992\n"
     ]
    },
    {
     "name": "stderr",
     "output_type": "stream",
     "text": [
      " 12%|█▏        | 116/999 [47:18<5:52:18, 23.94s/it]"
     ]
    },
    {
     "name": "stdout",
     "output_type": "stream",
     "text": [
      "epoch: 09, loss: -0.99992\n",
      "torch.Size([1024, 384])\n",
      "eigenvalues shape torch.Size([5]) eigenvectors shape torch.Size([5, 1024])\n",
      "116 /home/phdcs2/Hard_Disk/Datasets/Deep-Spectral-Segmentation/data/object-segmentation/ECSSD/features/0118_resized.pth\n",
      "dict_keys(['k', 'indices', 'file', 'id', 'model_name', 'patch_size', 'shape'])\n",
      "0118_resized\n",
      "x0_arr <class 'numpy.ndarray'>\n",
      "x1_arr <class 'numpy.ndarray'>\n",
      "Starting Training\n",
      "epoch: 00, loss: -0.94480\n",
      "epoch: 01, loss: -0.98188\n",
      "epoch: 02, loss: -0.98712\n",
      "epoch: 03, loss: -0.98971\n",
      "epoch: 04, loss: -0.99132\n",
      "epoch: 05, loss: -0.99244\n",
      "epoch: 06, loss: -0.99327\n",
      "epoch: 07, loss: -0.99391\n",
      "epoch: 08, loss: -0.99444\n",
      "epoch: 09, loss: -0.99487\n",
      "torch.Size([1024, 384])\n"
     ]
    },
    {
     "name": "stderr",
     "output_type": "stream",
     "text": [
      " 12%|█▏        | 117/999 [47:41<5:49:49, 23.80s/it]"
     ]
    },
    {
     "name": "stdout",
     "output_type": "stream",
     "text": [
      "eigenvalues shape torch.Size([5]) eigenvectors shape torch.Size([5, 1024])\n",
      "117 /home/phdcs2/Hard_Disk/Datasets/Deep-Spectral-Segmentation/data/object-segmentation/ECSSD/features/0119_resized.pth\n",
      "dict_keys(['k', 'indices', 'file', 'id', 'model_name', 'patch_size', 'shape'])\n",
      "0119_resized\n",
      "x0_arr <class 'numpy.ndarray'>\n",
      "x1_arr <class 'numpy.ndarray'>\n",
      "Starting Training\n",
      "epoch: 00, loss: -0.94779\n",
      "epoch: 01, loss: -0.98250\n",
      "epoch: 02, loss: -0.98742\n",
      "epoch: 03, loss: -0.98983\n",
      "epoch: 04, loss: -0.99136\n",
      "epoch: 05, loss: -0.99239\n",
      "epoch: 06, loss: -0.99316\n",
      "epoch: 07, loss: -0.99376\n",
      "epoch: 08, loss: -0.99424\n",
      "epoch: 09, loss: -0.99464\n",
      "torch.Size([1024, 384])\n"
     ]
    },
    {
     "name": "stderr",
     "output_type": "stream",
     "text": [
      " 12%|█▏        | 118/999 [48:05<5:49:08, 23.78s/it]"
     ]
    },
    {
     "name": "stdout",
     "output_type": "stream",
     "text": [
      "eigenvalues shape torch.Size([5]) eigenvectors shape torch.Size([5, 1024])\n",
      "118 /home/phdcs2/Hard_Disk/Datasets/Deep-Spectral-Segmentation/data/object-segmentation/ECSSD/features/0120_resized.pth\n",
      "dict_keys(['k', 'indices', 'file', 'id', 'model_name', 'patch_size', 'shape'])\n",
      "0120_resized\n",
      "x0_arr <class 'numpy.ndarray'>\n",
      "x1_arr <class 'numpy.ndarray'>\n",
      "Starting Training\n",
      "epoch: 00, loss: -0.94108\n",
      "epoch: 01, loss: -0.98335\n",
      "epoch: 02, loss: -0.98880\n",
      "epoch: 03, loss: -0.99140\n",
      "epoch: 04, loss: -0.99295\n",
      "epoch: 05, loss: -0.99400\n",
      "epoch: 06, loss: -0.99476\n",
      "epoch: 07, loss: -0.99534\n",
      "epoch: 08, loss: -0.99580\n",
      "epoch: 09, loss: -0.99617\n",
      "torch.Size([1024, 384])\n"
     ]
    },
    {
     "name": "stderr",
     "output_type": "stream",
     "text": [
      " 12%|█▏        | 119/999 [48:29<5:49:19, 23.82s/it]"
     ]
    },
    {
     "name": "stdout",
     "output_type": "stream",
     "text": [
      "eigenvalues shape torch.Size([5]) eigenvectors shape torch.Size([5, 1024])\n",
      "119 /home/phdcs2/Hard_Disk/Datasets/Deep-Spectral-Segmentation/data/object-segmentation/ECSSD/features/0121_resized.pth\n",
      "dict_keys(['k', 'indices', 'file', 'id', 'model_name', 'patch_size', 'shape'])\n",
      "0121_resized\n",
      "x0_arr <class 'numpy.ndarray'>\n",
      "x1_arr <class 'numpy.ndarray'>\n",
      "Starting Training\n",
      "epoch: 00, loss: -0.99538\n",
      "epoch: 01, loss: -1.00000\n",
      "epoch: 02, loss: -1.00000\n",
      "epoch: 03, loss: -1.00000\n",
      "epoch: 04, loss: -1.00000\n",
      "epoch: 05, loss: -1.00000\n",
      "epoch: 06, loss: -1.00000\n",
      "epoch: 07, loss: -1.00000\n",
      "epoch: 08, loss: -1.00000\n",
      "epoch: 09, loss: -1.00000\n",
      "torch.Size([1024, 384])\n"
     ]
    },
    {
     "name": "stderr",
     "output_type": "stream",
     "text": [
      " 12%|█▏        | 120/999 [48:53<5:48:43, 23.80s/it]"
     ]
    },
    {
     "name": "stdout",
     "output_type": "stream",
     "text": [
      "eigenvalues shape torch.Size([5]) eigenvectors shape torch.Size([5, 1024])\n",
      "120 /home/phdcs2/Hard_Disk/Datasets/Deep-Spectral-Segmentation/data/object-segmentation/ECSSD/features/0122_resized.pth\n",
      "dict_keys(['k', 'indices', 'file', 'id', 'model_name', 'patch_size', 'shape'])\n",
      "0122_resized\n",
      "x0_arr <class 'numpy.ndarray'>\n",
      "x1_arr <class 'numpy.ndarray'>\n",
      "Starting Training\n",
      "epoch: 00, loss: -0.99535\n",
      "epoch: 01, loss: -0.99987\n",
      "epoch: 02, loss: -0.99988\n",
      "epoch: 03, loss: -0.99988\n",
      "epoch: 04, loss: -0.99989\n",
      "epoch: 05, loss: -0.99989\n",
      "epoch: 06, loss: -0.99990\n",
      "epoch: 07, loss: -0.99990\n",
      "epoch: 08, loss: -0.99990\n",
      "epoch: 09, loss: -0.99991\n",
      "torch.Size([1024, 384])\n"
     ]
    },
    {
     "name": "stderr",
     "output_type": "stream",
     "text": [
      " 12%|█▏        | 121/999 [49:17<5:48:02, 23.78s/it]"
     ]
    },
    {
     "name": "stdout",
     "output_type": "stream",
     "text": [
      "eigenvalues shape torch.Size([5]) eigenvectors shape torch.Size([5, 1024])\n",
      "121 /home/phdcs2/Hard_Disk/Datasets/Deep-Spectral-Segmentation/data/object-segmentation/ECSSD/features/0123_resized.pth\n",
      "dict_keys(['k', 'indices', 'file', 'id', 'model_name', 'patch_size', 'shape'])\n",
      "0123_resized\n",
      "x0_arr <class 'numpy.ndarray'>\n",
      "x1_arr <class 'numpy.ndarray'>\n",
      "Starting Training\n",
      "epoch: 00, loss: -0.99540\n",
      "epoch: 01, loss: -1.00000\n",
      "epoch: 02, loss: -1.00000\n",
      "epoch: 03, loss: -1.00000\n",
      "epoch: 04, loss: -1.00000\n",
      "epoch: 05, loss: -1.00000\n",
      "epoch: 06, loss: -1.00000\n",
      "epoch: 07, loss: -1.00000\n",
      "epoch: 08, loss: -1.00000\n",
      "epoch: 09, loss: -1.00000\n",
      "torch.Size([1024, 384])\n"
     ]
    },
    {
     "name": "stderr",
     "output_type": "stream",
     "text": [
      " 12%|█▏        | 122/999 [49:41<5:48:13, 23.82s/it]"
     ]
    },
    {
     "name": "stdout",
     "output_type": "stream",
     "text": [
      "eigenvalues shape torch.Size([5]) eigenvectors shape torch.Size([5, 1024])\n",
      "122 /home/phdcs2/Hard_Disk/Datasets/Deep-Spectral-Segmentation/data/object-segmentation/ECSSD/features/0124_resized.pth\n",
      "dict_keys(['k', 'indices', 'file', 'id', 'model_name', 'patch_size', 'shape'])\n",
      "0124_resized\n",
      "x0_arr <class 'numpy.ndarray'>\n",
      "x1_arr <class 'numpy.ndarray'>\n",
      "Starting Training\n",
      "epoch: 00, loss: -0.99518\n",
      "epoch: 01, loss: -1.00000\n",
      "epoch: 02, loss: -1.00000\n",
      "epoch: 03, loss: -1.00000\n",
      "epoch: 04, loss: -1.00000\n",
      "epoch: 05, loss: -1.00000\n",
      "epoch: 06, loss: -1.00000\n",
      "epoch: 07, loss: -1.00000\n",
      "epoch: 08, loss: -1.00000\n",
      "epoch: 09, loss: -1.00000\n",
      "torch.Size([1024, 384])\n"
     ]
    },
    {
     "name": "stderr",
     "output_type": "stream",
     "text": [
      " 12%|█▏        | 123/999 [50:04<5:47:24, 23.80s/it]"
     ]
    },
    {
     "name": "stdout",
     "output_type": "stream",
     "text": [
      "eigenvalues shape torch.Size([5]) eigenvectors shape torch.Size([5, 1024])\n",
      "123 /home/phdcs2/Hard_Disk/Datasets/Deep-Spectral-Segmentation/data/object-segmentation/ECSSD/features/0125_resized.pth\n",
      "dict_keys(['k', 'indices', 'file', 'id', 'model_name', 'patch_size', 'shape'])\n",
      "0125_resized\n",
      "x0_arr <class 'numpy.ndarray'>\n",
      "x1_arr <class 'numpy.ndarray'>\n",
      "Starting Training\n",
      "epoch: 00, loss: -0.99511\n",
      "epoch: 01, loss: -1.00000\n",
      "epoch: 02, loss: -1.00000\n",
      "epoch: 03, loss: -1.00000\n",
      "epoch: 04, loss: -1.00000\n",
      "epoch: 05, loss: -1.00000\n",
      "epoch: 06, loss: -1.00000\n",
      "epoch: 07, loss: -1.00000\n",
      "epoch: 08, loss: -1.00000\n",
      "epoch: 09, loss: -1.00000\n",
      "torch.Size([1024, 384])\n"
     ]
    },
    {
     "name": "stderr",
     "output_type": "stream",
     "text": [
      " 12%|█▏        | 124/999 [50:28<5:48:56, 23.93s/it]"
     ]
    },
    {
     "name": "stdout",
     "output_type": "stream",
     "text": [
      "eigenvalues shape torch.Size([5]) eigenvectors shape torch.Size([5, 1024])\n",
      "124 /home/phdcs2/Hard_Disk/Datasets/Deep-Spectral-Segmentation/data/object-segmentation/ECSSD/features/0126_resized.pth\n",
      "dict_keys(['k', 'indices', 'file', 'id', 'model_name', 'patch_size', 'shape'])\n",
      "0126_resized\n",
      "x0_arr <class 'numpy.ndarray'>\n",
      "x1_arr <class 'numpy.ndarray'>\n",
      "Starting Training\n",
      "epoch: 00, loss: -0.97729\n",
      "epoch: 01, loss: -0.99598\n",
      "epoch: 02, loss: -0.99725\n",
      "epoch: 03, loss: -0.99785\n",
      "epoch: 04, loss: -0.99821\n",
      "epoch: 05, loss: -0.99846\n",
      "epoch: 06, loss: -0.99864\n",
      "epoch: 07, loss: -0.99877\n",
      "epoch: 08, loss: -0.99888\n",
      "epoch: 09, loss: -0.99897\n",
      "torch.Size([1024, 384])\n",
      "eigenvalues shape torch.Size([5]) eigenvectors shape torch.Size([5, 1024])\n"
     ]
    },
    {
     "name": "stderr",
     "output_type": "stream",
     "text": [
      " 13%|█▎        | 125/999 [50:52<5:48:15, 23.91s/it]"
     ]
    },
    {
     "name": "stdout",
     "output_type": "stream",
     "text": [
      "125 /home/phdcs2/Hard_Disk/Datasets/Deep-Spectral-Segmentation/data/object-segmentation/ECSSD/features/0127_resized.pth\n",
      "dict_keys(['k', 'indices', 'file', 'id', 'model_name', 'patch_size', 'shape'])\n",
      "0127_resized\n",
      "x0_arr <class 'numpy.ndarray'>\n",
      "x1_arr <class 'numpy.ndarray'>\n",
      "Starting Training\n",
      "epoch: 00, loss: -0.94324\n",
      "epoch: 01, loss: -0.98166\n",
      "epoch: 02, loss: -0.98696\n",
      "epoch: 03, loss: -0.98962\n",
      "epoch: 04, loss: -0.99123\n",
      "epoch: 05, loss: -0.99238\n",
      "epoch: 06, loss: -0.99322\n",
      "epoch: 07, loss: -0.99388\n",
      "epoch: 08, loss: -0.99440\n",
      "epoch: 09, loss: -0.99484\n",
      "torch.Size([1024, 384])\n"
     ]
    },
    {
     "name": "stderr",
     "output_type": "stream",
     "text": [
      " 13%|█▎        | 126/999 [51:16<5:48:55, 23.98s/it]"
     ]
    },
    {
     "name": "stdout",
     "output_type": "stream",
     "text": [
      "eigenvalues shape torch.Size([5]) eigenvectors shape torch.Size([5, 1024])\n",
      "126 /home/phdcs2/Hard_Disk/Datasets/Deep-Spectral-Segmentation/data/object-segmentation/ECSSD/features/0128_resized.pth\n",
      "dict_keys(['k', 'indices', 'file', 'id', 'model_name', 'patch_size', 'shape'])\n",
      "0128_resized\n",
      "x0_arr <class 'numpy.ndarray'>\n",
      "x1_arr <class 'numpy.ndarray'>\n",
      "Starting Training\n",
      "epoch: 00, loss: -0.93773\n",
      "epoch: 01, loss: -0.97995\n",
      "epoch: 02, loss: -0.98574\n",
      "epoch: 03, loss: -0.98861\n",
      "epoch: 04, loss: -0.99038\n",
      "epoch: 05, loss: -0.99162\n",
      "epoch: 06, loss: -0.99253\n",
      "epoch: 07, loss: -0.99324\n",
      "epoch: 08, loss: -0.99381\n"
     ]
    },
    {
     "name": "stderr",
     "output_type": "stream",
     "text": [
      " 13%|█▎        | 127/999 [51:40<5:47:13, 23.89s/it]"
     ]
    },
    {
     "name": "stdout",
     "output_type": "stream",
     "text": [
      "epoch: 09, loss: -0.99429\n",
      "torch.Size([1024, 384])\n",
      "eigenvalues shape torch.Size([5]) eigenvectors shape torch.Size([5, 1024])\n",
      "127 /home/phdcs2/Hard_Disk/Datasets/Deep-Spectral-Segmentation/data/object-segmentation/ECSSD/features/0129_resized.pth\n",
      "dict_keys(['k', 'indices', 'file', 'id', 'model_name', 'patch_size', 'shape'])\n",
      "0129_resized\n",
      "x0_arr <class 'numpy.ndarray'>\n",
      "x1_arr <class 'numpy.ndarray'>\n",
      "Starting Training\n",
      "epoch: 00, loss: -0.93591\n",
      "epoch: 01, loss: -0.97882\n",
      "epoch: 02, loss: -0.98485\n",
      "epoch: 03, loss: -0.98784\n",
      "epoch: 04, loss: -0.98969\n",
      "epoch: 05, loss: -0.99100\n",
      "epoch: 06, loss: -0.99197\n",
      "epoch: 07, loss: -0.99272\n",
      "epoch: 08, loss: -0.99333\n",
      "epoch: 09, loss: -0.99383\n",
      "torch.Size([1024, 384])\n"
     ]
    },
    {
     "name": "stderr",
     "output_type": "stream",
     "text": [
      " 13%|█▎        | 128/999 [52:04<5:48:42, 24.02s/it]"
     ]
    },
    {
     "name": "stdout",
     "output_type": "stream",
     "text": [
      "eigenvalues shape torch.Size([5]) eigenvectors shape torch.Size([5, 1024])\n",
      "128 /home/phdcs2/Hard_Disk/Datasets/Deep-Spectral-Segmentation/data/object-segmentation/ECSSD/features/0130_resized.pth\n",
      "dict_keys(['k', 'indices', 'file', 'id', 'model_name', 'patch_size', 'shape'])\n",
      "0130_resized\n",
      "x0_arr <class 'numpy.ndarray'>\n",
      "x1_arr <class 'numpy.ndarray'>\n",
      "Starting Training\n",
      "epoch: 00, loss: -0.99550\n",
      "epoch: 01, loss: -1.00000\n",
      "epoch: 02, loss: -1.00000\n",
      "epoch: 03, loss: -1.00000\n",
      "epoch: 04, loss: -1.00000\n",
      "epoch: 05, loss: -1.00000\n",
      "epoch: 06, loss: -1.00000\n",
      "epoch: 07, loss: -1.00000\n",
      "epoch: 08, loss: -1.00000\n",
      "epoch: 09, loss: -1.00000\n",
      "torch.Size([1024, 384])\n"
     ]
    },
    {
     "name": "stderr",
     "output_type": "stream",
     "text": [
      " 13%|█▎        | 129/999 [52:27<5:40:21, 23.47s/it]"
     ]
    },
    {
     "name": "stdout",
     "output_type": "stream",
     "text": [
      "eigenvalues shape torch.Size([5]) eigenvectors shape torch.Size([5, 1024])\n",
      "129 /home/phdcs2/Hard_Disk/Datasets/Deep-Spectral-Segmentation/data/object-segmentation/ECSSD/features/0131_resized.pth\n",
      "dict_keys(['k', 'indices', 'file', 'id', 'model_name', 'patch_size', 'shape'])\n",
      "0131_resized\n",
      "x0_arr <class 'numpy.ndarray'>\n",
      "x1_arr <class 'numpy.ndarray'>\n",
      "Starting Training\n",
      "epoch: 00, loss: -0.99569\n",
      "epoch: 01, loss: -1.00000\n",
      "epoch: 02, loss: -1.00000\n",
      "epoch: 03, loss: -1.00000\n",
      "epoch: 04, loss: -1.00000\n",
      "epoch: 05, loss: -1.00000\n",
      "epoch: 06, loss: -1.00000\n",
      "epoch: 07, loss: -1.00000\n",
      "epoch: 08, loss: -1.00000\n",
      "epoch: 09, loss: -1.00000\n",
      "torch.Size([1024, 384])\n"
     ]
    },
    {
     "name": "stderr",
     "output_type": "stream",
     "text": [
      " 13%|█▎        | 130/999 [52:49<5:35:33, 23.17s/it]"
     ]
    },
    {
     "name": "stdout",
     "output_type": "stream",
     "text": [
      "eigenvalues shape torch.Size([5]) eigenvectors shape torch.Size([5, 1024])\n",
      "130 /home/phdcs2/Hard_Disk/Datasets/Deep-Spectral-Segmentation/data/object-segmentation/ECSSD/features/0132_resized.pth\n",
      "dict_keys(['k', 'indices', 'file', 'id', 'model_name', 'patch_size', 'shape'])\n",
      "0132_resized\n",
      "x0_arr <class 'numpy.ndarray'>\n",
      "x1_arr <class 'numpy.ndarray'>\n",
      "Starting Training\n",
      "epoch: 00, loss: -0.99568\n",
      "epoch: 01, loss: -1.00000\n",
      "epoch: 02, loss: -1.00000\n",
      "epoch: 03, loss: -1.00000\n",
      "epoch: 04, loss: -1.00000\n",
      "epoch: 05, loss: -1.00000\n",
      "epoch: 06, loss: -1.00000\n",
      "epoch: 07, loss: -1.00000\n",
      "epoch: 08, loss: -1.00000\n",
      "epoch: 09, loss: -1.00000\n",
      "torch.Size([1024, 384])\n"
     ]
    },
    {
     "name": "stderr",
     "output_type": "stream",
     "text": [
      " 13%|█▎        | 131/999 [53:13<5:36:45, 23.28s/it]"
     ]
    },
    {
     "name": "stdout",
     "output_type": "stream",
     "text": [
      "eigenvalues shape torch.Size([5]) eigenvectors shape torch.Size([5, 1024])\n",
      "131 /home/phdcs2/Hard_Disk/Datasets/Deep-Spectral-Segmentation/data/object-segmentation/ECSSD/features/0133_resized.pth\n",
      "dict_keys(['k', 'indices', 'file', 'id', 'model_name', 'patch_size', 'shape'])\n",
      "0133_resized\n",
      "x0_arr <class 'numpy.ndarray'>\n",
      "x1_arr <class 'numpy.ndarray'>\n",
      "Starting Training\n",
      "epoch: 00, loss: -0.94122\n",
      "epoch: 01, loss: -0.98004\n",
      "epoch: 02, loss: -0.98553\n",
      "epoch: 03, loss: -0.98825\n",
      "epoch: 04, loss: -0.98997\n",
      "epoch: 05, loss: -0.99116\n",
      "epoch: 06, loss: -0.99203\n",
      "epoch: 07, loss: -0.99273\n",
      "epoch: 08, loss: -0.99327\n"
     ]
    },
    {
     "name": "stderr",
     "output_type": "stream",
     "text": [
      " 13%|█▎        | 132/999 [53:36<5:37:37, 23.37s/it]"
     ]
    },
    {
     "name": "stdout",
     "output_type": "stream",
     "text": [
      "epoch: 09, loss: -0.99375\n",
      "torch.Size([1024, 384])\n",
      "eigenvalues shape torch.Size([5]) eigenvectors shape torch.Size([5, 1024])\n",
      "132 /home/phdcs2/Hard_Disk/Datasets/Deep-Spectral-Segmentation/data/object-segmentation/ECSSD/features/0134_resized.pth\n",
      "dict_keys(['k', 'indices', 'file', 'id', 'model_name', 'patch_size', 'shape'])\n",
      "0134_resized\n",
      "x0_arr <class 'numpy.ndarray'>\n",
      "x1_arr <class 'numpy.ndarray'>\n",
      "Starting Training\n",
      "epoch: 00, loss: -0.94243\n",
      "epoch: 01, loss: -0.98094\n",
      "epoch: 02, loss: -0.98635\n",
      "epoch: 03, loss: -0.98903\n",
      "epoch: 04, loss: -0.99072\n",
      "epoch: 05, loss: -0.99188\n",
      "epoch: 06, loss: -0.99275\n",
      "epoch: 07, loss: -0.99343\n",
      "epoch: 08, loss: -0.99397\n",
      "epoch: 09, loss: -0.99442\n",
      "torch.Size([1024, 384])\n"
     ]
    },
    {
     "name": "stderr",
     "output_type": "stream",
     "text": [
      " 13%|█▎        | 133/999 [53:59<5:33:58, 23.14s/it]"
     ]
    },
    {
     "name": "stdout",
     "output_type": "stream",
     "text": [
      "eigenvalues shape torch.Size([5]) eigenvectors shape torch.Size([5, 1024])\n",
      "133 /home/phdcs2/Hard_Disk/Datasets/Deep-Spectral-Segmentation/data/object-segmentation/ECSSD/features/0135_resized.pth\n",
      "dict_keys(['k', 'indices', 'file', 'id', 'model_name', 'patch_size', 'shape'])\n",
      "0135_resized\n",
      "x0_arr <class 'numpy.ndarray'>\n",
      "x1_arr <class 'numpy.ndarray'>\n",
      "Starting Training\n",
      "epoch: 00, loss: -0.96563\n",
      "epoch: 01, loss: -0.98991\n",
      "epoch: 02, loss: -0.99333\n",
      "epoch: 03, loss: -0.99496\n",
      "epoch: 04, loss: -0.99595\n",
      "epoch: 05, loss: -0.99663\n",
      "epoch: 06, loss: -0.99711\n",
      "epoch: 07, loss: -0.99748\n",
      "epoch: 08, loss: -0.99777\n",
      "epoch: 09, loss: -0.99800\n",
      "torch.Size([1024, 384])\n"
     ]
    },
    {
     "name": "stderr",
     "output_type": "stream",
     "text": [
      " 13%|█▎        | 134/999 [54:22<5:34:38, 23.21s/it]"
     ]
    },
    {
     "name": "stdout",
     "output_type": "stream",
     "text": [
      "eigenvalues shape torch.Size([5]) eigenvectors shape torch.Size([5, 1024])\n",
      "134 /home/phdcs2/Hard_Disk/Datasets/Deep-Spectral-Segmentation/data/object-segmentation/ECSSD/features/0136_resized.pth\n",
      "dict_keys(['k', 'indices', 'file', 'id', 'model_name', 'patch_size', 'shape'])\n",
      "0136_resized\n",
      "x0_arr <class 'numpy.ndarray'>\n",
      "x1_arr <class 'numpy.ndarray'>\n",
      "Starting Training\n",
      "epoch: 00, loss: -0.95695\n",
      "epoch: 01, loss: -0.98760\n",
      "epoch: 02, loss: -0.99138\n",
      "epoch: 03, loss: -0.99317\n",
      "epoch: 04, loss: -0.99425\n",
      "epoch: 05, loss: -0.99498\n",
      "epoch: 06, loss: -0.99552\n",
      "epoch: 07, loss: -0.99594\n",
      "epoch: 08, loss: -0.99626\n",
      "epoch: 09, loss: -0.99653\n",
      "torch.Size([1024, 384])\n"
     ]
    },
    {
     "name": "stderr",
     "output_type": "stream",
     "text": [
      " 14%|█▎        | 135/999 [54:45<5:31:15, 23.00s/it]"
     ]
    },
    {
     "name": "stdout",
     "output_type": "stream",
     "text": [
      "eigenvalues shape torch.Size([5]) eigenvectors shape torch.Size([5, 1024])\n",
      "135 /home/phdcs2/Hard_Disk/Datasets/Deep-Spectral-Segmentation/data/object-segmentation/ECSSD/features/0137_resized.pth\n",
      "dict_keys(['k', 'indices', 'file', 'id', 'model_name', 'patch_size', 'shape'])\n",
      "0137_resized\n",
      "x0_arr <class 'numpy.ndarray'>\n",
      "x1_arr <class 'numpy.ndarray'>\n",
      "Starting Training\n",
      "epoch: 00, loss: -0.99566\n",
      "epoch: 01, loss: -1.00000\n",
      "epoch: 02, loss: -1.00000\n",
      "epoch: 03, loss: -1.00000\n",
      "epoch: 04, loss: -1.00000\n",
      "epoch: 05, loss: -1.00000\n",
      "epoch: 06, loss: -1.00000\n",
      "epoch: 07, loss: -1.00000\n",
      "epoch: 08, loss: -1.00000\n",
      "epoch: 09, loss: -1.00000\n",
      "torch.Size([1024, 384])\n",
      "eigenvalues shape torch.Size([5]) eigenvectors shape torch.Size([5, 1024])\n"
     ]
    },
    {
     "name": "stderr",
     "output_type": "stream",
     "text": [
      " 14%|█▎        | 136/999 [55:08<5:33:24, 23.18s/it]"
     ]
    },
    {
     "name": "stdout",
     "output_type": "stream",
     "text": [
      "136 /home/phdcs2/Hard_Disk/Datasets/Deep-Spectral-Segmentation/data/object-segmentation/ECSSD/features/0138_resized.pth\n",
      "dict_keys(['k', 'indices', 'file', 'id', 'model_name', 'patch_size', 'shape'])\n",
      "0138_resized\n",
      "x0_arr <class 'numpy.ndarray'>\n",
      "x1_arr <class 'numpy.ndarray'>\n",
      "Starting Training\n",
      "epoch: 00, loss: -0.99561\n",
      "epoch: 01, loss: -0.99997\n",
      "epoch: 02, loss: -0.99997\n",
      "epoch: 03, loss: -0.99997\n",
      "epoch: 04, loss: -0.99997\n",
      "epoch: 05, loss: -0.99997\n",
      "epoch: 06, loss: -0.99997\n",
      "epoch: 07, loss: -0.99997\n",
      "epoch: 08, loss: -0.99997\n",
      "epoch: 09, loss: -0.99997\n",
      "torch.Size([1024, 384])\n"
     ]
    },
    {
     "name": "stderr",
     "output_type": "stream",
     "text": [
      " 14%|█▎        | 137/999 [55:31<5:32:29, 23.14s/it]"
     ]
    },
    {
     "name": "stdout",
     "output_type": "stream",
     "text": [
      "eigenvalues shape torch.Size([5]) eigenvectors shape torch.Size([5, 1024])\n",
      "137 /home/phdcs2/Hard_Disk/Datasets/Deep-Spectral-Segmentation/data/object-segmentation/ECSSD/features/0139_resized.pth\n",
      "dict_keys(['k', 'indices', 'file', 'id', 'model_name', 'patch_size', 'shape'])\n",
      "0139_resized\n",
      "x0_arr <class 'numpy.ndarray'>\n",
      "x1_arr <class 'numpy.ndarray'>\n",
      "Starting Training\n",
      "epoch: 00, loss: -0.98800\n",
      "epoch: 01, loss: -0.99627\n",
      "epoch: 02, loss: -0.99741\n",
      "epoch: 03, loss: -0.99799\n",
      "epoch: 04, loss: -0.99835\n",
      "epoch: 05, loss: -0.99860\n",
      "epoch: 06, loss: -0.99878\n",
      "epoch: 07, loss: -0.99891\n",
      "epoch: 08, loss: -0.99902\n",
      "epoch: 09, loss: -0.99911\n",
      "torch.Size([1024, 384])\n"
     ]
    },
    {
     "name": "stderr",
     "output_type": "stream",
     "text": [
      " 14%|█▍        | 138/999 [55:55<5:34:41, 23.32s/it]"
     ]
    },
    {
     "name": "stdout",
     "output_type": "stream",
     "text": [
      "eigenvalues shape torch.Size([5]) eigenvectors shape torch.Size([5, 1024])\n",
      "138 /home/phdcs2/Hard_Disk/Datasets/Deep-Spectral-Segmentation/data/object-segmentation/ECSSD/features/0140_resized.pth\n",
      "dict_keys(['k', 'indices', 'file', 'id', 'model_name', 'patch_size', 'shape'])\n",
      "0140_resized\n",
      "x0_arr <class 'numpy.ndarray'>\n",
      "x1_arr <class 'numpy.ndarray'>\n",
      "Starting Training\n",
      "epoch: 00, loss: -0.99482\n",
      "epoch: 01, loss: -1.00000\n",
      "epoch: 02, loss: -1.00000\n",
      "epoch: 03, loss: -1.00000\n",
      "epoch: 04, loss: -1.00000\n",
      "epoch: 05, loss: -1.00000\n",
      "epoch: 06, loss: -1.00000\n",
      "epoch: 07, loss: -1.00000\n",
      "epoch: 08, loss: -1.00000\n",
      "epoch: 09, loss: -1.00000\n",
      "torch.Size([1024, 384])\n"
     ]
    },
    {
     "name": "stderr",
     "output_type": "stream",
     "text": [
      " 14%|█▍        | 139/999 [56:18<5:34:03, 23.31s/it]"
     ]
    },
    {
     "name": "stdout",
     "output_type": "stream",
     "text": [
      "eigenvalues shape torch.Size([5]) eigenvectors shape torch.Size([5, 1024])\n",
      "139 /home/phdcs2/Hard_Disk/Datasets/Deep-Spectral-Segmentation/data/object-segmentation/ECSSD/features/0141_resized.pth\n",
      "dict_keys(['k', 'indices', 'file', 'id', 'model_name', 'patch_size', 'shape'])\n",
      "0141_resized\n",
      "x0_arr <class 'numpy.ndarray'>\n",
      "x1_arr <class 'numpy.ndarray'>\n",
      "Starting Training\n",
      "epoch: 00, loss: -0.99617\n",
      "epoch: 01, loss: -1.00000\n",
      "epoch: 02, loss: -1.00000\n",
      "epoch: 03, loss: -1.00000\n",
      "epoch: 04, loss: -1.00000\n",
      "epoch: 05, loss: -1.00000\n",
      "epoch: 06, loss: -1.00000\n",
      "epoch: 07, loss: -1.00000\n",
      "epoch: 08, loss: -1.00000\n",
      "epoch: 09, loss: -1.00000\n",
      "torch.Size([1024, 384])\n"
     ]
    },
    {
     "name": "stderr",
     "output_type": "stream",
     "text": [
      " 14%|█▍        | 140/999 [56:43<5:38:13, 23.62s/it]"
     ]
    },
    {
     "name": "stdout",
     "output_type": "stream",
     "text": [
      "eigenvalues shape torch.Size([5]) eigenvectors shape torch.Size([5, 1024])\n",
      "140 /home/phdcs2/Hard_Disk/Datasets/Deep-Spectral-Segmentation/data/object-segmentation/ECSSD/features/0142_resized.pth\n",
      "dict_keys(['k', 'indices', 'file', 'id', 'model_name', 'patch_size', 'shape'])\n",
      "0142_resized\n",
      "x0_arr <class 'numpy.ndarray'>\n",
      "x1_arr <class 'numpy.ndarray'>\n",
      "Starting Training\n",
      "epoch: 00, loss: -0.94340\n",
      "epoch: 01, loss: -0.98044\n",
      "epoch: 02, loss: -0.98572\n",
      "epoch: 03, loss: -0.98833\n",
      "epoch: 04, loss: -0.98996\n",
      "epoch: 05, loss: -0.99113\n",
      "epoch: 06, loss: -0.99199\n",
      "epoch: 07, loss: -0.99266\n",
      "epoch: 08, loss: -0.99322\n"
     ]
    },
    {
     "name": "stderr",
     "output_type": "stream",
     "text": [
      " 14%|█▍        | 141/999 [57:07<5:38:54, 23.70s/it]"
     ]
    },
    {
     "name": "stdout",
     "output_type": "stream",
     "text": [
      "epoch: 09, loss: -0.99367\n",
      "torch.Size([1024, 384])\n",
      "eigenvalues shape torch.Size([5]) eigenvectors shape torch.Size([5, 1024])\n",
      "141 /home/phdcs2/Hard_Disk/Datasets/Deep-Spectral-Segmentation/data/object-segmentation/ECSSD/features/0143_resized.pth\n",
      "dict_keys(['k', 'indices', 'file', 'id', 'model_name', 'patch_size', 'shape'])\n",
      "0143_resized\n",
      "x0_arr <class 'numpy.ndarray'>\n",
      "x1_arr <class 'numpy.ndarray'>\n",
      "Starting Training\n",
      "epoch: 00, loss: -0.94091\n",
      "epoch: 01, loss: -0.98026\n",
      "epoch: 02, loss: -0.98564\n",
      "epoch: 03, loss: -0.98832\n",
      "epoch: 04, loss: -0.99001\n",
      "epoch: 05, loss: -0.99117\n",
      "epoch: 06, loss: -0.99205\n",
      "epoch: 07, loss: -0.99274\n",
      "epoch: 08, loss: -0.99329\n",
      "epoch: 09, loss: -0.99376\n",
      "torch.Size([1024, 384])\n"
     ]
    },
    {
     "name": "stderr",
     "output_type": "stream",
     "text": [
      " 14%|█▍        | 142/999 [57:31<5:41:43, 23.92s/it]"
     ]
    },
    {
     "name": "stdout",
     "output_type": "stream",
     "text": [
      "eigenvalues shape torch.Size([5]) eigenvectors shape torch.Size([5, 1024])\n",
      "142 /home/phdcs2/Hard_Disk/Datasets/Deep-Spectral-Segmentation/data/object-segmentation/ECSSD/features/0144_resized.pth\n",
      "dict_keys(['k', 'indices', 'file', 'id', 'model_name', 'patch_size', 'shape'])\n",
      "0144_resized\n",
      "x0_arr <class 'numpy.ndarray'>\n",
      "x1_arr <class 'numpy.ndarray'>\n",
      "Starting Training\n",
      "epoch: 00, loss: -0.99524\n",
      "epoch: 01, loss: -1.00000\n",
      "epoch: 02, loss: -1.00000\n",
      "epoch: 03, loss: -1.00000\n",
      "epoch: 04, loss: -1.00000\n",
      "epoch: 05, loss: -1.00000\n",
      "epoch: 06, loss: -1.00000\n",
      "epoch: 07, loss: -1.00000\n",
      "epoch: 08, loss: -1.00000\n",
      "epoch: 09, loss: -1.00000\n",
      "torch.Size([1024, 384])\n"
     ]
    },
    {
     "name": "stderr",
     "output_type": "stream",
     "text": [
      " 14%|█▍        | 143/999 [57:54<5:35:41, 23.53s/it]"
     ]
    },
    {
     "name": "stdout",
     "output_type": "stream",
     "text": [
      "eigenvalues shape torch.Size([5]) eigenvectors shape torch.Size([5, 1024])\n",
      "143 /home/phdcs2/Hard_Disk/Datasets/Deep-Spectral-Segmentation/data/object-segmentation/ECSSD/features/0145_resized.pth\n",
      "dict_keys(['k', 'indices', 'file', 'id', 'model_name', 'patch_size', 'shape'])\n",
      "0145_resized\n",
      "x0_arr <class 'numpy.ndarray'>\n",
      "x1_arr <class 'numpy.ndarray'>\n",
      "Starting Training\n",
      "epoch: 00, loss: -0.95076\n",
      "epoch: 01, loss: -0.98271\n",
      "epoch: 02, loss: -0.98736\n",
      "epoch: 03, loss: -0.98968\n",
      "epoch: 04, loss: -0.99114\n",
      "epoch: 05, loss: -0.99214\n",
      "epoch: 06, loss: -0.99292\n",
      "epoch: 07, loss: -0.99351\n",
      "epoch: 08, loss: -0.99400\n",
      "epoch: 09, loss: -0.99440\n",
      "torch.Size([1024, 384])\n"
     ]
    },
    {
     "name": "stderr",
     "output_type": "stream",
     "text": [
      " 14%|█▍        | 144/999 [58:17<5:33:04, 23.37s/it]"
     ]
    },
    {
     "name": "stdout",
     "output_type": "stream",
     "text": [
      "eigenvalues shape torch.Size([5]) eigenvectors shape torch.Size([5, 1024])\n",
      "144 /home/phdcs2/Hard_Disk/Datasets/Deep-Spectral-Segmentation/data/object-segmentation/ECSSD/features/0146_resized.pth\n",
      "dict_keys(['k', 'indices', 'file', 'id', 'model_name', 'patch_size', 'shape'])\n",
      "0146_resized\n",
      "x0_arr <class 'numpy.ndarray'>\n",
      "x1_arr <class 'numpy.ndarray'>\n",
      "Starting Training\n",
      "epoch: 00, loss: -0.99483\n",
      "epoch: 01, loss: -1.00000\n",
      "epoch: 02, loss: -1.00000\n",
      "epoch: 03, loss: -1.00000\n",
      "epoch: 04, loss: -1.00000\n",
      "epoch: 05, loss: -1.00000\n",
      "epoch: 06, loss: -1.00000\n",
      "epoch: 07, loss: -1.00000\n",
      "epoch: 08, loss: -1.00000\n",
      "epoch: 09, loss: -1.00000\n",
      "torch.Size([1024, 384])\n"
     ]
    },
    {
     "name": "stderr",
     "output_type": "stream",
     "text": [
      " 15%|█▍        | 145/999 [58:41<5:36:10, 23.62s/it]"
     ]
    },
    {
     "name": "stdout",
     "output_type": "stream",
     "text": [
      "eigenvalues shape torch.Size([5]) eigenvectors shape torch.Size([5, 1024])\n",
      "145 /home/phdcs2/Hard_Disk/Datasets/Deep-Spectral-Segmentation/data/object-segmentation/ECSSD/features/0147_resized.pth\n",
      "dict_keys(['k', 'indices', 'file', 'id', 'model_name', 'patch_size', 'shape'])\n",
      "0147_resized\n",
      "x0_arr <class 'numpy.ndarray'>\n",
      "x1_arr <class 'numpy.ndarray'>\n",
      "Starting Training\n",
      "epoch: 00, loss: -0.99538\n",
      "epoch: 01, loss: -1.00000\n",
      "epoch: 02, loss: -1.00000\n",
      "epoch: 03, loss: -1.00000\n",
      "epoch: 04, loss: -1.00000\n",
      "epoch: 05, loss: -1.00000\n",
      "epoch: 06, loss: -1.00000\n",
      "epoch: 07, loss: -1.00000\n",
      "epoch: 08, loss: -1.00000\n",
      "epoch: 09, loss: -1.00000\n",
      "torch.Size([1024, 384])\n"
     ]
    },
    {
     "name": "stderr",
     "output_type": "stream",
     "text": [
      " 15%|█▍        | 146/999 [59:05<5:38:38, 23.82s/it]"
     ]
    },
    {
     "name": "stdout",
     "output_type": "stream",
     "text": [
      "eigenvalues shape torch.Size([5]) eigenvectors shape torch.Size([5, 1024])\n",
      "146 /home/phdcs2/Hard_Disk/Datasets/Deep-Spectral-Segmentation/data/object-segmentation/ECSSD/features/0148_resized.pth\n",
      "dict_keys(['k', 'indices', 'file', 'id', 'model_name', 'patch_size', 'shape'])\n",
      "0148_resized\n",
      "x0_arr <class 'numpy.ndarray'>\n",
      "x1_arr <class 'numpy.ndarray'>\n",
      "Starting Training\n",
      "epoch: 00, loss: -0.99549\n",
      "epoch: 01, loss: -1.00000\n",
      "epoch: 02, loss: -1.00000\n",
      "epoch: 03, loss: -1.00000\n",
      "epoch: 04, loss: -1.00000\n",
      "epoch: 05, loss: -1.00000\n",
      "epoch: 06, loss: -1.00000\n",
      "epoch: 07, loss: -1.00000\n",
      "epoch: 08, loss: -1.00000\n",
      "epoch: 09, loss: -1.00000\n",
      "torch.Size([1024, 384])\n"
     ]
    },
    {
     "name": "stderr",
     "output_type": "stream",
     "text": [
      " 15%|█▍        | 147/999 [59:28<5:32:09, 23.39s/it]"
     ]
    },
    {
     "name": "stdout",
     "output_type": "stream",
     "text": [
      "eigenvalues shape torch.Size([5]) eigenvectors shape torch.Size([5, 1024])\n",
      "147 /home/phdcs2/Hard_Disk/Datasets/Deep-Spectral-Segmentation/data/object-segmentation/ECSSD/features/0149_resized.pth\n",
      "dict_keys(['k', 'indices', 'file', 'id', 'model_name', 'patch_size', 'shape'])\n",
      "0149_resized\n",
      "x0_arr <class 'numpy.ndarray'>\n",
      "x1_arr <class 'numpy.ndarray'>\n",
      "Starting Training\n",
      "epoch: 00, loss: -0.98667\n",
      "epoch: 01, loss: -0.99548\n",
      "epoch: 02, loss: -0.99678\n",
      "epoch: 03, loss: -0.99745\n",
      "epoch: 04, loss: -0.99787\n",
      "epoch: 05, loss: -0.99816\n",
      "epoch: 06, loss: -0.99838\n",
      "epoch: 07, loss: -0.99855\n",
      "epoch: 08, loss: -0.99868\n"
     ]
    },
    {
     "name": "stderr",
     "output_type": "stream",
     "text": [
      " 15%|█▍        | 148/999 [59:51<5:33:20, 23.50s/it]"
     ]
    },
    {
     "name": "stdout",
     "output_type": "stream",
     "text": [
      "epoch: 09, loss: -0.99879\n",
      "torch.Size([1024, 384])\n",
      "eigenvalues shape torch.Size([5]) eigenvectors shape torch.Size([5, 1024])\n",
      "148 /home/phdcs2/Hard_Disk/Datasets/Deep-Spectral-Segmentation/data/object-segmentation/ECSSD/features/0150_resized.pth\n",
      "dict_keys(['k', 'indices', 'file', 'id', 'model_name', 'patch_size', 'shape'])\n",
      "0150_resized\n",
      "x0_arr <class 'numpy.ndarray'>\n",
      "x1_arr <class 'numpy.ndarray'>\n",
      "Starting Training\n",
      "epoch: 00, loss: -0.99572\n",
      "epoch: 01, loss: -1.00000\n",
      "epoch: 02, loss: -1.00000\n",
      "epoch: 03, loss: -1.00000\n",
      "epoch: 04, loss: -1.00000\n",
      "epoch: 05, loss: -1.00000\n",
      "epoch: 06, loss: -1.00000\n",
      "epoch: 07, loss: -1.00000\n",
      "epoch: 08, loss: -1.00000\n",
      "epoch: 09, loss: -1.00000\n",
      "torch.Size([1024, 384])\n"
     ]
    },
    {
     "name": "stderr",
     "output_type": "stream",
     "text": [
      " 15%|█▍        | 149/999 [1:00:15<5:34:11, 23.59s/it]"
     ]
    },
    {
     "name": "stdout",
     "output_type": "stream",
     "text": [
      "eigenvalues shape torch.Size([5]) eigenvectors shape torch.Size([5, 1024])\n",
      "149 /home/phdcs2/Hard_Disk/Datasets/Deep-Spectral-Segmentation/data/object-segmentation/ECSSD/features/0151_resized.pth\n",
      "dict_keys(['k', 'indices', 'file', 'id', 'model_name', 'patch_size', 'shape'])\n",
      "0151_resized\n",
      "x0_arr <class 'numpy.ndarray'>\n",
      "x1_arr <class 'numpy.ndarray'>\n",
      "Starting Training\n",
      "epoch: 00, loss: -0.99575\n",
      "epoch: 01, loss: -1.00000\n",
      "epoch: 02, loss: -1.00000\n",
      "epoch: 03, loss: -1.00000\n",
      "epoch: 04, loss: -1.00000\n",
      "epoch: 05, loss: -1.00000\n",
      "epoch: 06, loss: -1.00000\n",
      "epoch: 07, loss: -1.00000\n",
      "epoch: 08, loss: -1.00000\n"
     ]
    },
    {
     "name": "stderr",
     "output_type": "stream",
     "text": [
      " 15%|█▌        | 150/999 [1:00:39<5:35:00, 23.68s/it]"
     ]
    },
    {
     "name": "stdout",
     "output_type": "stream",
     "text": [
      "epoch: 09, loss: -1.00000\n",
      "torch.Size([1024, 384])\n",
      "eigenvalues shape torch.Size([5]) eigenvectors shape torch.Size([5, 1024])\n",
      "150 /home/phdcs2/Hard_Disk/Datasets/Deep-Spectral-Segmentation/data/object-segmentation/ECSSD/features/0152_resized.pth\n",
      "dict_keys(['k', 'indices', 'file', 'id', 'model_name', 'patch_size', 'shape'])\n",
      "0152_resized\n",
      "x0_arr <class 'numpy.ndarray'>\n",
      "x1_arr <class 'numpy.ndarray'>\n",
      "Starting Training\n",
      "epoch: 00, loss: -0.94224\n",
      "epoch: 01, loss: -0.98108\n",
      "epoch: 02, loss: -0.98647\n",
      "epoch: 03, loss: -0.98912\n",
      "epoch: 04, loss: -0.99075\n",
      "epoch: 05, loss: -0.99190\n",
      "epoch: 06, loss: -0.99275\n",
      "epoch: 07, loss: -0.99340\n",
      "epoch: 08, loss: -0.99394\n",
      "epoch: 09, loss: -0.99438\n",
      "torch.Size([1024, 384])\n"
     ]
    },
    {
     "name": "stderr",
     "output_type": "stream",
     "text": [
      " 15%|█▌        | 151/999 [1:01:03<5:34:23, 23.66s/it]"
     ]
    },
    {
     "name": "stdout",
     "output_type": "stream",
     "text": [
      "eigenvalues shape torch.Size([5]) eigenvectors shape torch.Size([5, 1024])\n",
      "151 /home/phdcs2/Hard_Disk/Datasets/Deep-Spectral-Segmentation/data/object-segmentation/ECSSD/features/0153_resized.pth\n",
      "dict_keys(['k', 'indices', 'file', 'id', 'model_name', 'patch_size', 'shape'])\n",
      "0153_resized\n",
      "x0_arr <class 'numpy.ndarray'>\n",
      "x1_arr <class 'numpy.ndarray'>\n",
      "Starting Training\n",
      "epoch: 00, loss: -0.94620\n",
      "epoch: 01, loss: -0.98378\n",
      "epoch: 02, loss: -0.98876\n",
      "epoch: 03, loss: -0.99115\n",
      "epoch: 04, loss: -0.99263\n",
      "epoch: 05, loss: -0.99362\n",
      "epoch: 06, loss: -0.99435\n",
      "epoch: 07, loss: -0.99492\n",
      "epoch: 08, loss: -0.99535\n",
      "epoch: 09, loss: -0.99571\n",
      "torch.Size([1024, 384])\n"
     ]
    },
    {
     "name": "stderr",
     "output_type": "stream",
     "text": [
      " 15%|█▌        | 152/999 [1:01:26<5:33:16, 23.61s/it]"
     ]
    },
    {
     "name": "stdout",
     "output_type": "stream",
     "text": [
      "eigenvalues shape torch.Size([5]) eigenvectors shape torch.Size([5, 1024])\n",
      "152 /home/phdcs2/Hard_Disk/Datasets/Deep-Spectral-Segmentation/data/object-segmentation/ECSSD/features/0154_resized.pth\n",
      "dict_keys(['k', 'indices', 'file', 'id', 'model_name', 'patch_size', 'shape'])\n",
      "0154_resized\n",
      "x0_arr <class 'numpy.ndarray'>\n",
      "x1_arr <class 'numpy.ndarray'>\n",
      "Starting Training\n",
      "epoch: 00, loss: -0.99575\n",
      "epoch: 01, loss: -1.00000\n",
      "epoch: 02, loss: -1.00000\n",
      "epoch: 03, loss: -1.00000\n",
      "epoch: 04, loss: -1.00000\n",
      "epoch: 05, loss: -1.00000\n",
      "epoch: 06, loss: -1.00000\n",
      "epoch: 07, loss: -1.00000\n",
      "epoch: 08, loss: -1.00000\n",
      "epoch: 09, loss: -1.00000\n",
      "torch.Size([1024, 384])\n"
     ]
    },
    {
     "name": "stderr",
     "output_type": "stream",
     "text": [
      " 15%|█▌        | 153/999 [1:01:50<5:34:21, 23.71s/it]"
     ]
    },
    {
     "name": "stdout",
     "output_type": "stream",
     "text": [
      "eigenvalues shape torch.Size([5]) eigenvectors shape torch.Size([5, 1024])\n",
      "153 /home/phdcs2/Hard_Disk/Datasets/Deep-Spectral-Segmentation/data/object-segmentation/ECSSD/features/0155_resized.pth\n",
      "dict_keys(['k', 'indices', 'file', 'id', 'model_name', 'patch_size', 'shape'])\n",
      "0155_resized\n",
      "x0_arr <class 'numpy.ndarray'>\n",
      "x1_arr <class 'numpy.ndarray'>\n",
      "Starting Training\n",
      "epoch: 00, loss: -0.97554\n",
      "epoch: 01, loss: -0.99524\n",
      "epoch: 02, loss: -0.99696\n",
      "epoch: 03, loss: -0.99776\n",
      "epoch: 04, loss: -0.99822\n",
      "epoch: 05, loss: -0.99852\n",
      "epoch: 06, loss: -0.99873\n",
      "epoch: 07, loss: -0.99889\n",
      "epoch: 08, loss: -0.99901\n",
      "epoch: 09, loss: -0.99910\n",
      "torch.Size([1024, 384])\n",
      "eigenvalues shape torch.Size([5]) eigenvectors shape torch.Size([5, 1024])\n"
     ]
    },
    {
     "name": "stderr",
     "output_type": "stream",
     "text": [
      " 15%|█▌        | 154/999 [1:02:14<5:35:14, 23.80s/it]"
     ]
    },
    {
     "name": "stdout",
     "output_type": "stream",
     "text": [
      "154 /home/phdcs2/Hard_Disk/Datasets/Deep-Spectral-Segmentation/data/object-segmentation/ECSSD/features/0156_resized.pth\n",
      "dict_keys(['k', 'indices', 'file', 'id', 'model_name', 'patch_size', 'shape'])\n",
      "0156_resized\n",
      "x0_arr <class 'numpy.ndarray'>\n",
      "x1_arr <class 'numpy.ndarray'>\n",
      "Starting Training\n",
      "epoch: 00, loss: -0.99229\n",
      "epoch: 01, loss: -0.99888\n",
      "epoch: 02, loss: -0.99933\n",
      "epoch: 03, loss: -0.99950\n",
      "epoch: 04, loss: -0.99958\n",
      "epoch: 05, loss: -0.99963\n",
      "epoch: 06, loss: -0.99967\n",
      "epoch: 07, loss: -0.99969\n",
      "epoch: 08, loss: -0.99972\n"
     ]
    },
    {
     "name": "stderr",
     "output_type": "stream",
     "text": [
      " 16%|█▌        | 155/999 [1:02:38<5:34:18, 23.77s/it]"
     ]
    },
    {
     "name": "stdout",
     "output_type": "stream",
     "text": [
      "epoch: 09, loss: -0.99973\n",
      "torch.Size([1024, 384])\n",
      "eigenvalues shape torch.Size([5]) eigenvectors shape torch.Size([5, 1024])\n",
      "155 /home/phdcs2/Hard_Disk/Datasets/Deep-Spectral-Segmentation/data/object-segmentation/ECSSD/features/0157_resized.pth\n",
      "dict_keys(['k', 'indices', 'file', 'id', 'model_name', 'patch_size', 'shape'])\n",
      "0157_resized\n",
      "x0_arr <class 'numpy.ndarray'>\n",
      "x1_arr <class 'numpy.ndarray'>\n",
      "Starting Training\n",
      "epoch: 00, loss: -0.93902\n",
      "epoch: 01, loss: -0.97944\n",
      "epoch: 02, loss: -0.98515\n",
      "epoch: 03, loss: -0.98796\n",
      "epoch: 04, loss: -0.98974\n",
      "epoch: 05, loss: -0.99096\n",
      "epoch: 06, loss: -0.99188\n",
      "epoch: 07, loss: -0.99260\n",
      "epoch: 08, loss: -0.99318\n"
     ]
    },
    {
     "name": "stderr",
     "output_type": "stream",
     "text": [
      " 16%|█▌        | 156/999 [1:03:02<5:36:49, 23.97s/it]"
     ]
    },
    {
     "name": "stdout",
     "output_type": "stream",
     "text": [
      "epoch: 09, loss: -0.99367\n",
      "torch.Size([1024, 384])\n",
      "eigenvalues shape torch.Size([5]) eigenvectors shape torch.Size([5, 1024])\n",
      "156 /home/phdcs2/Hard_Disk/Datasets/Deep-Spectral-Segmentation/data/object-segmentation/ECSSD/features/0158_resized.pth\n",
      "dict_keys(['k', 'indices', 'file', 'id', 'model_name', 'patch_size', 'shape'])\n",
      "0158_resized\n",
      "x0_arr <class 'numpy.ndarray'>\n",
      "x1_arr <class 'numpy.ndarray'>\n",
      "Starting Training\n",
      "epoch: 00, loss: -0.95608\n",
      "epoch: 01, loss: -0.98863\n",
      "epoch: 02, loss: -0.99217\n",
      "epoch: 03, loss: -0.99377\n",
      "epoch: 04, loss: -0.99473\n",
      "epoch: 05, loss: -0.99537\n",
      "epoch: 06, loss: -0.99584\n",
      "epoch: 07, loss: -0.99621\n",
      "epoch: 08, loss: -0.99651\n",
      "epoch: 09, loss: -0.99675\n",
      "torch.Size([1024, 384])\n"
     ]
    },
    {
     "name": "stderr",
     "output_type": "stream",
     "text": [
      " 16%|█▌        | 157/999 [1:03:26<5:37:27, 24.05s/it]"
     ]
    },
    {
     "name": "stdout",
     "output_type": "stream",
     "text": [
      "eigenvalues shape torch.Size([5]) eigenvectors shape torch.Size([5, 1024])\n",
      "157 /home/phdcs2/Hard_Disk/Datasets/Deep-Spectral-Segmentation/data/object-segmentation/ECSSD/features/0159_resized.pth\n",
      "dict_keys(['k', 'indices', 'file', 'id', 'model_name', 'patch_size', 'shape'])\n",
      "0159_resized\n",
      "x0_arr <class 'numpy.ndarray'>\n",
      "x1_arr <class 'numpy.ndarray'>\n",
      "Starting Training\n",
      "epoch: 00, loss: -0.94088\n",
      "epoch: 01, loss: -0.98235\n",
      "epoch: 02, loss: -0.98782\n",
      "epoch: 03, loss: -0.99046\n",
      "epoch: 04, loss: -0.99206\n",
      "epoch: 05, loss: -0.99315\n",
      "epoch: 06, loss: -0.99395\n",
      "epoch: 07, loss: -0.99455\n",
      "epoch: 08, loss: -0.99504\n",
      "epoch: 09, loss: -0.99544\n",
      "torch.Size([1024, 384])\n"
     ]
    },
    {
     "name": "stderr",
     "output_type": "stream",
     "text": [
      " 16%|█▌        | 158/999 [1:03:50<5:35:44, 23.95s/it]"
     ]
    },
    {
     "name": "stdout",
     "output_type": "stream",
     "text": [
      "eigenvalues shape torch.Size([5]) eigenvectors shape torch.Size([5, 1024])\n",
      "158 /home/phdcs2/Hard_Disk/Datasets/Deep-Spectral-Segmentation/data/object-segmentation/ECSSD/features/0160_resized.pth\n",
      "dict_keys(['k', 'indices', 'file', 'id', 'model_name', 'patch_size', 'shape'])\n",
      "0160_resized\n",
      "x0_arr <class 'numpy.ndarray'>\n",
      "x1_arr <class 'numpy.ndarray'>\n",
      "Starting Training\n",
      "epoch: 00, loss: -0.99499\n",
      "epoch: 01, loss: -1.00000\n",
      "epoch: 02, loss: -1.00000\n",
      "epoch: 03, loss: -1.00000\n",
      "epoch: 04, loss: -1.00000\n",
      "epoch: 05, loss: -1.00000\n",
      "epoch: 06, loss: -1.00000\n",
      "epoch: 07, loss: -1.00000\n",
      "epoch: 08, loss: -1.00000\n"
     ]
    },
    {
     "name": "stderr",
     "output_type": "stream",
     "text": [
      " 16%|█▌        | 159/999 [1:04:14<5:35:28, 23.96s/it]"
     ]
    },
    {
     "name": "stdout",
     "output_type": "stream",
     "text": [
      "epoch: 09, loss: -1.00000\n",
      "torch.Size([1024, 384])\n",
      "eigenvalues shape torch.Size([5]) eigenvectors shape torch.Size([5, 1024])\n",
      "159 /home/phdcs2/Hard_Disk/Datasets/Deep-Spectral-Segmentation/data/object-segmentation/ECSSD/features/0161_resized.pth\n",
      "dict_keys(['k', 'indices', 'file', 'id', 'model_name', 'patch_size', 'shape'])\n",
      "0161_resized\n",
      "x0_arr <class 'numpy.ndarray'>\n",
      "x1_arr <class 'numpy.ndarray'>\n",
      "Starting Training\n",
      "epoch: 00, loss: -0.99528\n",
      "epoch: 01, loss: -1.00000\n",
      "epoch: 02, loss: -1.00000\n",
      "epoch: 03, loss: -1.00000\n",
      "epoch: 04, loss: -1.00000\n",
      "epoch: 05, loss: -1.00000\n",
      "epoch: 06, loss: -1.00000\n",
      "epoch: 07, loss: -1.00000\n",
      "epoch: 08, loss: -1.00000\n",
      "epoch: 09, loss: -1.00000\n",
      "torch.Size([1024, 384])\n"
     ]
    },
    {
     "name": "stderr",
     "output_type": "stream",
     "text": [
      " 16%|█▌        | 160/999 [1:04:38<5:34:38, 23.93s/it]"
     ]
    },
    {
     "name": "stdout",
     "output_type": "stream",
     "text": [
      "eigenvalues shape torch.Size([5]) eigenvectors shape torch.Size([5, 1024])\n",
      "160 /home/phdcs2/Hard_Disk/Datasets/Deep-Spectral-Segmentation/data/object-segmentation/ECSSD/features/0162_resized.pth\n",
      "dict_keys(['k', 'indices', 'file', 'id', 'model_name', 'patch_size', 'shape'])\n",
      "0162_resized\n",
      "x0_arr <class 'numpy.ndarray'>\n",
      "x1_arr <class 'numpy.ndarray'>\n",
      "Starting Training\n",
      "epoch: 00, loss: -0.93992\n",
      "epoch: 01, loss: -0.97987\n",
      "epoch: 02, loss: -0.98537\n",
      "epoch: 03, loss: -0.98811\n",
      "epoch: 04, loss: -0.98983\n",
      "epoch: 05, loss: -0.99103\n",
      "epoch: 06, loss: -0.99192\n",
      "epoch: 07, loss: -0.99262\n",
      "epoch: 08, loss: -0.99320\n",
      "epoch: 09, loss: -0.99366\n",
      "torch.Size([1024, 384])\n"
     ]
    },
    {
     "name": "stderr",
     "output_type": "stream",
     "text": [
      " 16%|█▌        | 161/999 [1:05:02<5:32:51, 23.83s/it]"
     ]
    },
    {
     "name": "stdout",
     "output_type": "stream",
     "text": [
      "eigenvalues shape torch.Size([5]) eigenvectors shape torch.Size([5, 1024])\n",
      "161 /home/phdcs2/Hard_Disk/Datasets/Deep-Spectral-Segmentation/data/object-segmentation/ECSSD/features/0163_resized.pth\n",
      "dict_keys(['k', 'indices', 'file', 'id', 'model_name', 'patch_size', 'shape'])\n",
      "0163_resized\n",
      "x0_arr <class 'numpy.ndarray'>\n",
      "x1_arr <class 'numpy.ndarray'>\n",
      "Starting Training\n",
      "epoch: 00, loss: -0.93948\n",
      "epoch: 01, loss: -0.97950\n",
      "epoch: 02, loss: -0.98517\n",
      "epoch: 03, loss: -0.98801\n",
      "epoch: 04, loss: -0.98978\n",
      "epoch: 05, loss: -0.99102\n",
      "epoch: 06, loss: -0.99193\n",
      "epoch: 07, loss: -0.99265\n",
      "epoch: 08, loss: -0.99324\n",
      "epoch: 09, loss: -0.99372\n",
      "torch.Size([1024, 384])\n"
     ]
    },
    {
     "name": "stderr",
     "output_type": "stream",
     "text": [
      " 16%|█▌        | 162/999 [1:05:25<5:32:07, 23.81s/it]"
     ]
    },
    {
     "name": "stdout",
     "output_type": "stream",
     "text": [
      "eigenvalues shape torch.Size([5]) eigenvectors shape torch.Size([5, 1024])\n",
      "162 /home/phdcs2/Hard_Disk/Datasets/Deep-Spectral-Segmentation/data/object-segmentation/ECSSD/features/0164_resized.pth\n",
      "dict_keys(['k', 'indices', 'file', 'id', 'model_name', 'patch_size', 'shape'])\n",
      "0164_resized\n",
      "x0_arr <class 'numpy.ndarray'>\n",
      "x1_arr <class 'numpy.ndarray'>\n",
      "Starting Training\n",
      "epoch: 00, loss: -0.99557\n",
      "epoch: 01, loss: -0.99990\n",
      "epoch: 02, loss: -0.99990\n",
      "epoch: 03, loss: -0.99990\n",
      "epoch: 04, loss: -0.99991\n",
      "epoch: 05, loss: -0.99991\n",
      "epoch: 06, loss: -0.99991\n",
      "epoch: 07, loss: -0.99992\n",
      "epoch: 08, loss: -0.99992\n",
      "epoch: 09, loss: -0.99992\n",
      "torch.Size([1024, 384])\n"
     ]
    },
    {
     "name": "stderr",
     "output_type": "stream",
     "text": [
      " 16%|█▋        | 163/999 [1:05:49<5:31:00, 23.76s/it]"
     ]
    },
    {
     "name": "stdout",
     "output_type": "stream",
     "text": [
      "eigenvalues shape torch.Size([5]) eigenvectors shape torch.Size([5, 1024])\n",
      "163 /home/phdcs2/Hard_Disk/Datasets/Deep-Spectral-Segmentation/data/object-segmentation/ECSSD/features/0165_resized.pth\n",
      "dict_keys(['k', 'indices', 'file', 'id', 'model_name', 'patch_size', 'shape'])\n",
      "0165_resized\n",
      "x0_arr <class 'numpy.ndarray'>\n",
      "x1_arr <class 'numpy.ndarray'>\n",
      "Starting Training\n",
      "epoch: 00, loss: -0.95244\n",
      "epoch: 01, loss: -0.98361\n",
      "epoch: 02, loss: -0.98812\n",
      "epoch: 03, loss: -0.99033\n",
      "epoch: 04, loss: -0.99173\n",
      "epoch: 05, loss: -0.99271\n",
      "epoch: 06, loss: -0.99345\n",
      "epoch: 07, loss: -0.99401\n",
      "epoch: 08, loss: -0.99447\n"
     ]
    },
    {
     "name": "stderr",
     "output_type": "stream",
     "text": [
      " 16%|█▋        | 164/999 [1:06:13<5:31:38, 23.83s/it]"
     ]
    },
    {
     "name": "stdout",
     "output_type": "stream",
     "text": [
      "epoch: 09, loss: -0.99485\n",
      "torch.Size([1024, 384])\n",
      "eigenvalues shape torch.Size([5]) eigenvectors shape torch.Size([5, 1024])\n",
      "164 /home/phdcs2/Hard_Disk/Datasets/Deep-Spectral-Segmentation/data/object-segmentation/ECSSD/features/0166_resized.pth\n",
      "dict_keys(['k', 'indices', 'file', 'id', 'model_name', 'patch_size', 'shape'])\n",
      "0166_resized\n",
      "x0_arr <class 'numpy.ndarray'>\n",
      "x1_arr <class 'numpy.ndarray'>\n",
      "Starting Training\n",
      "epoch: 00, loss: -0.94306\n",
      "epoch: 01, loss: -0.98064\n",
      "epoch: 02, loss: -0.98600\n",
      "epoch: 03, loss: -0.98868\n",
      "epoch: 04, loss: -0.99036\n",
      "epoch: 05, loss: -0.99151\n",
      "epoch: 06, loss: -0.99240\n",
      "epoch: 07, loss: -0.99307\n",
      "epoch: 08, loss: -0.99362\n",
      "epoch: 09, loss: -0.99408\n",
      "torch.Size([1024, 384])\n"
     ]
    },
    {
     "name": "stderr",
     "output_type": "stream",
     "text": [
      " 17%|█▋        | 165/999 [1:06:37<5:32:09, 23.90s/it]"
     ]
    },
    {
     "name": "stdout",
     "output_type": "stream",
     "text": [
      "eigenvalues shape torch.Size([5]) eigenvectors shape torch.Size([5, 1024])\n",
      "165 /home/phdcs2/Hard_Disk/Datasets/Deep-Spectral-Segmentation/data/object-segmentation/ECSSD/features/0167_resized.pth\n",
      "dict_keys(['k', 'indices', 'file', 'id', 'model_name', 'patch_size', 'shape'])\n",
      "0167_resized\n",
      "x0_arr <class 'numpy.ndarray'>\n",
      "x1_arr <class 'numpy.ndarray'>\n",
      "Starting Training\n",
      "epoch: 00, loss: -0.94528\n",
      "epoch: 01, loss: -0.98235\n",
      "epoch: 02, loss: -0.98740\n",
      "epoch: 03, loss: -0.98989\n",
      "epoch: 04, loss: -0.99140\n",
      "epoch: 05, loss: -0.99246\n",
      "epoch: 06, loss: -0.99324\n",
      "epoch: 07, loss: -0.99384\n",
      "epoch: 08, loss: -0.99432\n",
      "epoch: 09, loss: -0.99472\n",
      "torch.Size([1024, 384])\n"
     ]
    },
    {
     "name": "stderr",
     "output_type": "stream",
     "text": [
      " 17%|█▋        | 166/999 [1:07:01<5:30:52, 23.83s/it]"
     ]
    },
    {
     "name": "stdout",
     "output_type": "stream",
     "text": [
      "eigenvalues shape torch.Size([5]) eigenvectors shape torch.Size([5, 1024])\n",
      "166 /home/phdcs2/Hard_Disk/Datasets/Deep-Spectral-Segmentation/data/object-segmentation/ECSSD/features/0168_resized.pth\n",
      "dict_keys(['k', 'indices', 'file', 'id', 'model_name', 'patch_size', 'shape'])\n",
      "0168_resized\n",
      "x0_arr <class 'numpy.ndarray'>\n",
      "x1_arr <class 'numpy.ndarray'>\n",
      "Starting Training\n",
      "epoch: 00, loss: -0.93645\n",
      "epoch: 01, loss: -0.97885\n",
      "epoch: 02, loss: -0.98479\n",
      "epoch: 03, loss: -0.98779\n",
      "epoch: 04, loss: -0.98961\n",
      "epoch: 05, loss: -0.99090\n",
      "epoch: 06, loss: -0.99188\n",
      "epoch: 07, loss: -0.99262\n",
      "epoch: 08, loss: -0.99323\n",
      "epoch: 09, loss: -0.99374\n",
      "torch.Size([1024, 384])\n"
     ]
    },
    {
     "name": "stderr",
     "output_type": "stream",
     "text": [
      " 17%|█▋        | 167/999 [1:07:25<5:30:23, 23.83s/it]"
     ]
    },
    {
     "name": "stdout",
     "output_type": "stream",
     "text": [
      "eigenvalues shape torch.Size([5]) eigenvectors shape torch.Size([5, 1024])\n",
      "167 /home/phdcs2/Hard_Disk/Datasets/Deep-Spectral-Segmentation/data/object-segmentation/ECSSD/features/0169_resized.pth\n",
      "dict_keys(['k', 'indices', 'file', 'id', 'model_name', 'patch_size', 'shape'])\n",
      "0169_resized\n",
      "x0_arr <class 'numpy.ndarray'>\n",
      "x1_arr <class 'numpy.ndarray'>\n",
      "Starting Training\n",
      "epoch: 00, loss: -0.99561\n",
      "epoch: 01, loss: -1.00000\n",
      "epoch: 02, loss: -1.00000\n",
      "epoch: 03, loss: -1.00000\n",
      "epoch: 04, loss: -1.00000\n",
      "epoch: 05, loss: -1.00000\n",
      "epoch: 06, loss: -1.00000\n",
      "epoch: 07, loss: -1.00000\n",
      "epoch: 08, loss: -1.00000\n"
     ]
    },
    {
     "name": "stderr",
     "output_type": "stream",
     "text": [
      " 17%|█▋        | 168/999 [1:07:48<5:28:44, 23.74s/it]"
     ]
    },
    {
     "name": "stdout",
     "output_type": "stream",
     "text": [
      "epoch: 09, loss: -1.00000\n",
      "torch.Size([1024, 384])\n",
      "eigenvalues shape torch.Size([5]) eigenvectors shape torch.Size([5, 1024])\n",
      "168 /home/phdcs2/Hard_Disk/Datasets/Deep-Spectral-Segmentation/data/object-segmentation/ECSSD/features/0170_resized.pth\n",
      "dict_keys(['k', 'indices', 'file', 'id', 'model_name', 'patch_size', 'shape'])\n",
      "0170_resized\n",
      "x0_arr <class 'numpy.ndarray'>\n",
      "x1_arr <class 'numpy.ndarray'>\n",
      "Starting Training\n",
      "epoch: 00, loss: -0.94165\n",
      "epoch: 01, loss: -0.98313\n",
      "epoch: 02, loss: -0.98854\n",
      "epoch: 03, loss: -0.99112\n",
      "epoch: 04, loss: -0.99269\n",
      "epoch: 05, loss: -0.99375\n",
      "epoch: 06, loss: -0.99453\n",
      "epoch: 07, loss: -0.99512\n",
      "epoch: 08, loss: -0.99559\n"
     ]
    },
    {
     "name": "stderr",
     "output_type": "stream",
     "text": [
      " 17%|█▋        | 169/999 [1:08:11<5:26:08, 23.58s/it]"
     ]
    },
    {
     "name": "stdout",
     "output_type": "stream",
     "text": [
      "epoch: 09, loss: -0.99598\n",
      "torch.Size([1024, 384])\n",
      "eigenvalues shape torch.Size([5]) eigenvectors shape torch.Size([5, 1024])\n",
      "169 /home/phdcs2/Hard_Disk/Datasets/Deep-Spectral-Segmentation/data/object-segmentation/ECSSD/features/0171_resized.pth\n",
      "dict_keys(['k', 'indices', 'file', 'id', 'model_name', 'patch_size', 'shape'])\n",
      "0171_resized\n",
      "x0_arr <class 'numpy.ndarray'>\n",
      "x1_arr <class 'numpy.ndarray'>\n",
      "Starting Training\n",
      "epoch: 00, loss: -0.99563\n",
      "epoch: 01, loss: -1.00000\n",
      "epoch: 02, loss: -1.00000\n",
      "epoch: 03, loss: -1.00000\n",
      "epoch: 04, loss: -1.00000\n",
      "epoch: 05, loss: -1.00000\n",
      "epoch: 06, loss: -1.00000\n",
      "epoch: 07, loss: -1.00000\n",
      "epoch: 08, loss: -1.00000\n"
     ]
    },
    {
     "name": "stderr",
     "output_type": "stream",
     "text": [
      " 17%|█▋        | 170/999 [1:08:34<5:23:42, 23.43s/it]"
     ]
    },
    {
     "name": "stdout",
     "output_type": "stream",
     "text": [
      "epoch: 09, loss: -1.00000\n",
      "torch.Size([1024, 384])\n",
      "eigenvalues shape torch.Size([5]) eigenvectors shape torch.Size([5, 1024])\n",
      "170 /home/phdcs2/Hard_Disk/Datasets/Deep-Spectral-Segmentation/data/object-segmentation/ECSSD/features/0172_resized.pth\n",
      "dict_keys(['k', 'indices', 'file', 'id', 'model_name', 'patch_size', 'shape'])\n",
      "0172_resized\n",
      "x0_arr <class 'numpy.ndarray'>\n",
      "x1_arr <class 'numpy.ndarray'>\n",
      "Starting Training\n",
      "epoch: 00, loss: -0.95518\n",
      "epoch: 01, loss: -0.98510\n",
      "epoch: 02, loss: -0.98936\n",
      "epoch: 03, loss: -0.99143\n",
      "epoch: 04, loss: -0.99272\n",
      "epoch: 05, loss: -0.99362\n",
      "epoch: 06, loss: -0.99427\n",
      "epoch: 07, loss: -0.99478\n",
      "epoch: 08, loss: -0.99519\n",
      "epoch: 09, loss: -0.99553\n",
      "torch.Size([1024, 384])\n"
     ]
    },
    {
     "name": "stderr",
     "output_type": "stream",
     "text": [
      " 17%|█▋        | 171/999 [1:08:59<5:27:22, 23.72s/it]"
     ]
    },
    {
     "name": "stdout",
     "output_type": "stream",
     "text": [
      "eigenvalues shape torch.Size([5]) eigenvectors shape torch.Size([5, 1024])\n",
      "171 /home/phdcs2/Hard_Disk/Datasets/Deep-Spectral-Segmentation/data/object-segmentation/ECSSD/features/0173_resized.pth\n",
      "dict_keys(['k', 'indices', 'file', 'id', 'model_name', 'patch_size', 'shape'])\n",
      "0173_resized\n",
      "x0_arr <class 'numpy.ndarray'>\n",
      "x1_arr <class 'numpy.ndarray'>\n",
      "Starting Training\n",
      "epoch: 00, loss: -0.94018\n",
      "epoch: 01, loss: -0.98194\n",
      "epoch: 02, loss: -0.98751\n",
      "epoch: 03, loss: -0.99023\n",
      "epoch: 04, loss: -0.99193\n",
      "epoch: 05, loss: -0.99304\n",
      "epoch: 06, loss: -0.99388\n",
      "epoch: 07, loss: -0.99452\n",
      "epoch: 08, loss: -0.99504\n"
     ]
    },
    {
     "name": "stderr",
     "output_type": "stream",
     "text": [
      " 17%|█▋        | 172/999 [1:09:22<5:24:19, 23.53s/it]"
     ]
    },
    {
     "name": "stdout",
     "output_type": "stream",
     "text": [
      "epoch: 09, loss: -0.99546\n",
      "torch.Size([1024, 384])\n",
      "eigenvalues shape torch.Size([5]) eigenvectors shape torch.Size([5, 1024])\n",
      "172 /home/phdcs2/Hard_Disk/Datasets/Deep-Spectral-Segmentation/data/object-segmentation/ECSSD/features/0174_resized.pth\n",
      "dict_keys(['k', 'indices', 'file', 'id', 'model_name', 'patch_size', 'shape'])\n",
      "0174_resized\n",
      "x0_arr <class 'numpy.ndarray'>\n",
      "x1_arr <class 'numpy.ndarray'>\n",
      "Starting Training\n",
      "epoch: 00, loss: -0.94674\n",
      "epoch: 01, loss: -0.98148\n",
      "epoch: 02, loss: -0.98643\n",
      "epoch: 03, loss: -0.98891\n",
      "epoch: 04, loss: -0.99048\n",
      "epoch: 05, loss: -0.99156\n",
      "epoch: 06, loss: -0.99239\n",
      "epoch: 07, loss: -0.99302\n",
      "epoch: 08, loss: -0.99354\n",
      "epoch: 09, loss: -0.99396\n",
      "torch.Size([1024, 384])\n"
     ]
    },
    {
     "name": "stderr",
     "output_type": "stream",
     "text": [
      " 17%|█▋        | 173/999 [1:09:45<5:21:46, 23.37s/it]"
     ]
    },
    {
     "name": "stdout",
     "output_type": "stream",
     "text": [
      "eigenvalues shape torch.Size([5]) eigenvectors shape torch.Size([5, 1024])\n",
      "173 /home/phdcs2/Hard_Disk/Datasets/Deep-Spectral-Segmentation/data/object-segmentation/ECSSD/features/0175_resized.pth\n",
      "dict_keys(['k', 'indices', 'file', 'id', 'model_name', 'patch_size', 'shape'])\n",
      "0175_resized\n",
      "x0_arr <class 'numpy.ndarray'>\n",
      "x1_arr <class 'numpy.ndarray'>\n",
      "Starting Training\n",
      "epoch: 00, loss: -0.94766\n",
      "epoch: 01, loss: -0.98451\n",
      "epoch: 02, loss: -0.98916\n",
      "epoch: 03, loss: -0.99141\n",
      "epoch: 04, loss: -0.99275\n",
      "epoch: 05, loss: -0.99366\n",
      "epoch: 06, loss: -0.99434\n",
      "epoch: 07, loss: -0.99485\n",
      "epoch: 08, loss: -0.99526\n",
      "epoch: 09, loss: -0.99560\n",
      "torch.Size([1024, 384])\n"
     ]
    },
    {
     "name": "stderr",
     "output_type": "stream",
     "text": [
      " 17%|█▋        | 174/999 [1:10:08<5:21:54, 23.41s/it]"
     ]
    },
    {
     "name": "stdout",
     "output_type": "stream",
     "text": [
      "eigenvalues shape torch.Size([5]) eigenvectors shape torch.Size([5, 1024])\n",
      "174 /home/phdcs2/Hard_Disk/Datasets/Deep-Spectral-Segmentation/data/object-segmentation/ECSSD/features/0176_resized.pth\n",
      "dict_keys(['k', 'indices', 'file', 'id', 'model_name', 'patch_size', 'shape'])\n",
      "0176_resized\n",
      "x0_arr <class 'numpy.ndarray'>\n",
      "x1_arr <class 'numpy.ndarray'>\n",
      "Starting Training\n",
      "epoch: 00, loss: -0.99557\n",
      "epoch: 01, loss: -0.99996\n",
      "epoch: 02, loss: -0.99996\n",
      "epoch: 03, loss: -0.99996\n",
      "epoch: 04, loss: -0.99996\n",
      "epoch: 05, loss: -0.99996\n",
      "epoch: 06, loss: -0.99996\n",
      "epoch: 07, loss: -0.99996\n",
      "epoch: 08, loss: -0.99996\n",
      "epoch: 09, loss: -0.99997\n",
      "torch.Size([1024, 384])\n"
     ]
    },
    {
     "name": "stderr",
     "output_type": "stream",
     "text": [
      " 18%|█▊        | 175/999 [1:10:45<6:14:21, 27.26s/it]"
     ]
    },
    {
     "name": "stdout",
     "output_type": "stream",
     "text": [
      "eigenvalues shape torch.Size([5]) eigenvectors shape torch.Size([5, 1024])\n",
      "175 /home/phdcs2/Hard_Disk/Datasets/Deep-Spectral-Segmentation/data/object-segmentation/ECSSD/features/0177_resized.pth\n",
      "dict_keys(['k', 'indices', 'file', 'id', 'model_name', 'patch_size', 'shape'])\n",
      "0177_resized\n",
      "x0_arr <class 'numpy.ndarray'>\n",
      "x1_arr <class 'numpy.ndarray'>\n",
      "Starting Training\n",
      "epoch: 00, loss: -0.95019\n",
      "epoch: 01, loss: -0.98635\n",
      "epoch: 02, loss: -0.99049\n",
      "epoch: 03, loss: -0.99241\n",
      "epoch: 04, loss: -0.99357\n",
      "epoch: 05, loss: -0.99434\n",
      "epoch: 06, loss: -0.99491\n",
      "epoch: 07, loss: -0.99535\n",
      "epoch: 08, loss: -0.99570\n",
      "epoch: 09, loss: -0.99600\n",
      "torch.Size([1024, 384])\n"
     ]
    },
    {
     "name": "stderr",
     "output_type": "stream",
     "text": [
      " 18%|█▊        | 176/999 [1:11:24<7:02:55, 30.83s/it]"
     ]
    },
    {
     "name": "stdout",
     "output_type": "stream",
     "text": [
      "eigenvalues shape torch.Size([5]) eigenvectors shape torch.Size([5, 1024])\n",
      "176 /home/phdcs2/Hard_Disk/Datasets/Deep-Spectral-Segmentation/data/object-segmentation/ECSSD/features/0178_resized.pth\n",
      "dict_keys(['k', 'indices', 'file', 'id', 'model_name', 'patch_size', 'shape'])\n",
      "0178_resized\n",
      "x0_arr <class 'numpy.ndarray'>\n",
      "x1_arr <class 'numpy.ndarray'>\n",
      "Starting Training\n",
      "epoch: 00, loss: -0.94592\n",
      "epoch: 01, loss: -0.98379\n",
      "epoch: 02, loss: -0.98861\n",
      "epoch: 03, loss: -0.99091\n",
      "epoch: 04, loss: -0.99233\n",
      "epoch: 05, loss: -0.99328\n",
      "epoch: 06, loss: -0.99399\n",
      "epoch: 07, loss: -0.99453\n",
      "epoch: 08, loss: -0.99497\n",
      "epoch: 09, loss: -0.99532\n",
      "torch.Size([1024, 384])\n"
     ]
    },
    {
     "name": "stderr",
     "output_type": "stream",
     "text": [
      " 18%|█▊        | 177/999 [1:12:04<7:40:51, 33.64s/it]"
     ]
    },
    {
     "name": "stdout",
     "output_type": "stream",
     "text": [
      "eigenvalues shape torch.Size([5]) eigenvectors shape torch.Size([5, 1024])\n",
      "177 /home/phdcs2/Hard_Disk/Datasets/Deep-Spectral-Segmentation/data/object-segmentation/ECSSD/features/0179_resized.pth\n",
      "dict_keys(['k', 'indices', 'file', 'id', 'model_name', 'patch_size', 'shape'])\n",
      "0179_resized\n",
      "x0_arr <class 'numpy.ndarray'>\n",
      "x1_arr <class 'numpy.ndarray'>\n",
      "Starting Training\n",
      "epoch: 00, loss: -0.94297\n",
      "epoch: 01, loss: -0.98318\n",
      "epoch: 02, loss: -0.98845\n",
      "epoch: 03, loss: -0.99103\n",
      "epoch: 04, loss: -0.99258\n",
      "epoch: 05, loss: -0.99363\n",
      "epoch: 06, loss: -0.99441\n",
      "epoch: 07, loss: -0.99501\n",
      "epoch: 08, loss: -0.99547\n",
      "epoch: 09, loss: -0.99585\n",
      "torch.Size([1024, 384])\n"
     ]
    },
    {
     "name": "stderr",
     "output_type": "stream",
     "text": [
      " 18%|█▊        | 178/999 [1:12:45<8:12:32, 36.00s/it]"
     ]
    },
    {
     "name": "stdout",
     "output_type": "stream",
     "text": [
      "eigenvalues shape torch.Size([5]) eigenvectors shape torch.Size([5, 1024])\n",
      "178 /home/phdcs2/Hard_Disk/Datasets/Deep-Spectral-Segmentation/data/object-segmentation/ECSSD/features/0180_resized.pth\n",
      "dict_keys(['k', 'indices', 'file', 'id', 'model_name', 'patch_size', 'shape'])\n",
      "0180_resized\n",
      "x0_arr <class 'numpy.ndarray'>\n",
      "x1_arr <class 'numpy.ndarray'>\n",
      "Starting Training\n",
      "epoch: 00, loss: -0.99508\n",
      "epoch: 01, loss: -0.99988\n",
      "epoch: 02, loss: -0.99989\n",
      "epoch: 03, loss: -0.99990\n",
      "epoch: 04, loss: -0.99990\n",
      "epoch: 05, loss: -0.99991\n",
      "epoch: 06, loss: -0.99991\n",
      "epoch: 07, loss: -0.99992\n",
      "epoch: 08, loss: -0.99992\n",
      "epoch: 09, loss: -0.99992\n",
      "torch.Size([1024, 384])\n"
     ]
    },
    {
     "name": "stderr",
     "output_type": "stream",
     "text": [
      " 18%|█▊        | 179/999 [1:13:26<8:29:53, 37.31s/it]"
     ]
    },
    {
     "name": "stdout",
     "output_type": "stream",
     "text": [
      "eigenvalues shape torch.Size([5]) eigenvectors shape torch.Size([5, 1024])\n",
      "179 /home/phdcs2/Hard_Disk/Datasets/Deep-Spectral-Segmentation/data/object-segmentation/ECSSD/features/0181_resized.pth\n",
      "dict_keys(['k', 'indices', 'file', 'id', 'model_name', 'patch_size', 'shape'])\n",
      "0181_resized\n",
      "x0_arr <class 'numpy.ndarray'>\n",
      "x1_arr <class 'numpy.ndarray'>\n",
      "Starting Training\n",
      "epoch: 00, loss: -0.99534\n",
      "epoch: 01, loss: -1.00000\n",
      "epoch: 02, loss: -1.00000\n",
      "epoch: 03, loss: -1.00000\n",
      "epoch: 04, loss: -1.00000\n",
      "epoch: 05, loss: -1.00000\n",
      "epoch: 06, loss: -1.00000\n",
      "epoch: 07, loss: -1.00000\n",
      "epoch: 08, loss: -1.00000\n",
      "epoch: 09, loss: -1.00000\n",
      "torch.Size([1024, 384])\n"
     ]
    },
    {
     "name": "stderr",
     "output_type": "stream",
     "text": [
      " 18%|█▊        | 180/999 [1:14:06<8:39:07, 38.03s/it]"
     ]
    },
    {
     "name": "stdout",
     "output_type": "stream",
     "text": [
      "eigenvalues shape torch.Size([5]) eigenvectors shape torch.Size([5, 1024])\n",
      "180 /home/phdcs2/Hard_Disk/Datasets/Deep-Spectral-Segmentation/data/object-segmentation/ECSSD/features/0182_resized.pth\n",
      "dict_keys(['k', 'indices', 'file', 'id', 'model_name', 'patch_size', 'shape'])\n",
      "0182_resized\n",
      "x0_arr <class 'numpy.ndarray'>\n",
      "x1_arr <class 'numpy.ndarray'>\n",
      "Starting Training\n",
      "epoch: 00, loss: -0.99588\n",
      "epoch: 01, loss: -1.00000\n",
      "epoch: 02, loss: -1.00000\n",
      "epoch: 03, loss: -1.00000\n",
      "epoch: 04, loss: -1.00000\n",
      "epoch: 05, loss: -1.00000\n",
      "epoch: 06, loss: -1.00000\n",
      "epoch: 07, loss: -1.00000\n",
      "epoch: 08, loss: -1.00000\n",
      "epoch: 09, loss: -1.00000\n",
      "torch.Size([1024, 384])\n"
     ]
    },
    {
     "name": "stderr",
     "output_type": "stream",
     "text": [
      " 18%|█▊        | 181/999 [1:14:47<8:53:24, 39.12s/it]"
     ]
    },
    {
     "name": "stdout",
     "output_type": "stream",
     "text": [
      "eigenvalues shape torch.Size([5]) eigenvectors shape torch.Size([5, 1024])\n",
      "181 /home/phdcs2/Hard_Disk/Datasets/Deep-Spectral-Segmentation/data/object-segmentation/ECSSD/features/0183_resized.pth\n",
      "dict_keys(['k', 'indices', 'file', 'id', 'model_name', 'patch_size', 'shape'])\n",
      "0183_resized\n",
      "x0_arr <class 'numpy.ndarray'>\n",
      "x1_arr <class 'numpy.ndarray'>\n",
      "Starting Training\n",
      "epoch: 00, loss: -0.99500\n",
      "epoch: 01, loss: -0.99976\n",
      "epoch: 02, loss: -0.99978\n",
      "epoch: 03, loss: -0.99979\n",
      "epoch: 04, loss: -0.99981\n",
      "epoch: 05, loss: -0.99982\n",
      "epoch: 06, loss: -0.99983\n",
      "epoch: 07, loss: -0.99984\n",
      "epoch: 08, loss: -0.99985\n",
      "epoch: 09, loss: -0.99986\n",
      "torch.Size([1024, 384])\n"
     ]
    },
    {
     "name": "stderr",
     "output_type": "stream",
     "text": [
      " 18%|█▊        | 182/999 [1:15:28<9:00:24, 39.69s/it]"
     ]
    },
    {
     "name": "stdout",
     "output_type": "stream",
     "text": [
      "eigenvalues shape torch.Size([5]) eigenvectors shape torch.Size([5, 1024])\n",
      "182 /home/phdcs2/Hard_Disk/Datasets/Deep-Spectral-Segmentation/data/object-segmentation/ECSSD/features/0184_resized.pth\n",
      "dict_keys(['k', 'indices', 'file', 'id', 'model_name', 'patch_size', 'shape'])\n",
      "0184_resized\n",
      "x0_arr <class 'numpy.ndarray'>\n",
      "x1_arr <class 'numpy.ndarray'>\n",
      "Starting Training\n",
      "epoch: 00, loss: -0.99581\n",
      "epoch: 01, loss: -1.00000\n",
      "epoch: 02, loss: -1.00000\n",
      "epoch: 03, loss: -1.00000\n",
      "epoch: 04, loss: -1.00000\n",
      "epoch: 05, loss: -1.00000\n",
      "epoch: 06, loss: -1.00000\n",
      "epoch: 07, loss: -1.00000\n",
      "epoch: 08, loss: -1.00000\n",
      "epoch: 09, loss: -1.00000\n",
      "torch.Size([1024, 384])\n"
     ]
    },
    {
     "name": "stderr",
     "output_type": "stream",
     "text": [
      " 18%|█▊        | 183/999 [1:16:10<9:08:06, 40.30s/it]"
     ]
    },
    {
     "name": "stdout",
     "output_type": "stream",
     "text": [
      "eigenvalues shape torch.Size([5]) eigenvectors shape torch.Size([5, 1024])\n",
      "183 /home/phdcs2/Hard_Disk/Datasets/Deep-Spectral-Segmentation/data/object-segmentation/ECSSD/features/0185_resized.pth\n",
      "dict_keys(['k', 'indices', 'file', 'id', 'model_name', 'patch_size', 'shape'])\n",
      "0185_resized\n",
      "x0_arr <class 'numpy.ndarray'>\n",
      "x1_arr <class 'numpy.ndarray'>\n",
      "Starting Training\n",
      "epoch: 00, loss: -0.96502\n",
      "epoch: 01, loss: -0.98838\n",
      "epoch: 02, loss: -0.99172\n",
      "epoch: 03, loss: -0.99338\n",
      "epoch: 04, loss: -0.99440\n",
      "epoch: 05, loss: -0.99512\n",
      "epoch: 06, loss: -0.99564\n",
      "epoch: 07, loss: -0.99606\n",
      "epoch: 08, loss: -0.99639\n",
      "epoch: 09, loss: -0.99667\n",
      "torch.Size([1024, 384])\n"
     ]
    },
    {
     "name": "stderr",
     "output_type": "stream",
     "text": [
      " 18%|█▊        | 184/999 [1:16:53<9:19:28, 41.19s/it]"
     ]
    },
    {
     "name": "stdout",
     "output_type": "stream",
     "text": [
      "eigenvalues shape torch.Size([5]) eigenvectors shape torch.Size([5, 1024])\n",
      "184 /home/phdcs2/Hard_Disk/Datasets/Deep-Spectral-Segmentation/data/object-segmentation/ECSSD/features/0186_resized.pth\n",
      "dict_keys(['k', 'indices', 'file', 'id', 'model_name', 'patch_size', 'shape'])\n",
      "0186_resized\n",
      "x0_arr <class 'numpy.ndarray'>\n",
      "x1_arr <class 'numpy.ndarray'>\n",
      "Starting Training\n",
      "epoch: 00, loss: -0.96175\n",
      "epoch: 01, loss: -0.98810\n",
      "epoch: 02, loss: -0.99159\n",
      "epoch: 03, loss: -0.99329\n",
      "epoch: 04, loss: -0.99431\n",
      "epoch: 05, loss: -0.99502\n",
      "epoch: 06, loss: -0.99555\n",
      "epoch: 07, loss: -0.99595\n",
      "epoch: 08, loss: -0.99627\n",
      "epoch: 09, loss: -0.99653\n",
      "torch.Size([1024, 384])\n"
     ]
    },
    {
     "name": "stderr",
     "output_type": "stream",
     "text": [
      " 19%|█▊        | 185/999 [1:17:35<9:21:28, 41.39s/it]"
     ]
    },
    {
     "name": "stdout",
     "output_type": "stream",
     "text": [
      "eigenvalues shape torch.Size([5]) eigenvectors shape torch.Size([5, 1024])\n",
      "185 /home/phdcs2/Hard_Disk/Datasets/Deep-Spectral-Segmentation/data/object-segmentation/ECSSD/features/0187_resized.pth\n",
      "dict_keys(['k', 'indices', 'file', 'id', 'model_name', 'patch_size', 'shape'])\n",
      "0187_resized\n",
      "x0_arr <class 'numpy.ndarray'>\n",
      "x1_arr <class 'numpy.ndarray'>\n",
      "Starting Training\n",
      "epoch: 00, loss: -0.99522\n",
      "epoch: 01, loss: -1.00000\n",
      "epoch: 02, loss: -1.00000\n",
      "epoch: 03, loss: -1.00000\n",
      "epoch: 04, loss: -1.00000\n",
      "epoch: 05, loss: -1.00000\n",
      "epoch: 06, loss: -1.00000\n",
      "epoch: 07, loss: -1.00000\n",
      "epoch: 08, loss: -1.00000\n",
      "epoch: 09, loss: -1.00000\n",
      "torch.Size([1024, 384])\n"
     ]
    },
    {
     "name": "stderr",
     "output_type": "stream",
     "text": [
      " 19%|█▊        | 186/999 [1:18:18<9:25:00, 41.70s/it]"
     ]
    },
    {
     "name": "stdout",
     "output_type": "stream",
     "text": [
      "eigenvalues shape torch.Size([5]) eigenvectors shape torch.Size([5, 1024])\n",
      "186 /home/phdcs2/Hard_Disk/Datasets/Deep-Spectral-Segmentation/data/object-segmentation/ECSSD/features/0188_resized.pth\n",
      "dict_keys(['k', 'indices', 'file', 'id', 'model_name', 'patch_size', 'shape'])\n",
      "0188_resized\n",
      "x0_arr <class 'numpy.ndarray'>\n",
      "x1_arr <class 'numpy.ndarray'>\n",
      "Starting Training\n",
      "epoch: 00, loss: -0.94044\n",
      "epoch: 01, loss: -0.98060\n",
      "epoch: 02, loss: -0.98609\n",
      "epoch: 03, loss: -0.98880\n",
      "epoch: 04, loss: -0.99050\n",
      "epoch: 05, loss: -0.99167\n",
      "epoch: 06, loss: -0.99253\n",
      "epoch: 07, loss: -0.99322\n",
      "epoch: 08, loss: -0.99377\n",
      "epoch: 09, loss: -0.99423\n",
      "torch.Size([1024, 384])\n"
     ]
    },
    {
     "name": "stderr",
     "output_type": "stream",
     "text": [
      " 19%|█▊        | 187/999 [1:19:01<9:30:52, 42.18s/it]"
     ]
    },
    {
     "name": "stdout",
     "output_type": "stream",
     "text": [
      "eigenvalues shape torch.Size([5]) eigenvectors shape torch.Size([5, 1024])\n",
      "187 /home/phdcs2/Hard_Disk/Datasets/Deep-Spectral-Segmentation/data/object-segmentation/ECSSD/features/0189_resized.pth\n",
      "dict_keys(['k', 'indices', 'file', 'id', 'model_name', 'patch_size', 'shape'])\n",
      "0189_resized\n",
      "x0_arr <class 'numpy.ndarray'>\n",
      "x1_arr <class 'numpy.ndarray'>\n",
      "Starting Training\n",
      "epoch: 00, loss: -0.94149\n",
      "epoch: 01, loss: -0.98053\n",
      "epoch: 02, loss: -0.98593\n",
      "epoch: 03, loss: -0.98864\n",
      "epoch: 04, loss: -0.99033\n",
      "epoch: 05, loss: -0.99151\n",
      "epoch: 06, loss: -0.99237\n",
      "epoch: 07, loss: -0.99307\n",
      "epoch: 08, loss: -0.99364\n",
      "epoch: 09, loss: -0.99409\n",
      "torch.Size([1024, 384])\n"
     ]
    },
    {
     "name": "stderr",
     "output_type": "stream",
     "text": [
      " 19%|█▉        | 188/999 [1:19:44<9:35:31, 42.58s/it]"
     ]
    },
    {
     "name": "stdout",
     "output_type": "stream",
     "text": [
      "eigenvalues shape torch.Size([5]) eigenvectors shape torch.Size([5, 1024])\n",
      "188 /home/phdcs2/Hard_Disk/Datasets/Deep-Spectral-Segmentation/data/object-segmentation/ECSSD/features/0190_resized.pth\n",
      "dict_keys(['k', 'indices', 'file', 'id', 'model_name', 'patch_size', 'shape'])\n",
      "0190_resized\n",
      "x0_arr <class 'numpy.ndarray'>\n",
      "x1_arr <class 'numpy.ndarray'>\n",
      "Starting Training\n",
      "epoch: 00, loss: -0.94447\n",
      "epoch: 01, loss: -0.98079\n",
      "epoch: 02, loss: -0.98599\n",
      "epoch: 03, loss: -0.98861\n",
      "epoch: 04, loss: -0.99022\n",
      "epoch: 05, loss: -0.99137\n",
      "epoch: 06, loss: -0.99220\n",
      "epoch: 07, loss: -0.99288\n",
      "epoch: 08, loss: -0.99342\n",
      "epoch: 09, loss: -0.99385\n",
      "torch.Size([1024, 384])\n"
     ]
    },
    {
     "name": "stderr",
     "output_type": "stream",
     "text": [
      " 19%|█▉        | 189/999 [1:20:27<9:34:54, 42.59s/it]"
     ]
    },
    {
     "name": "stdout",
     "output_type": "stream",
     "text": [
      "eigenvalues shape torch.Size([5]) eigenvectors shape torch.Size([5, 1024])\n",
      "189 /home/phdcs2/Hard_Disk/Datasets/Deep-Spectral-Segmentation/data/object-segmentation/ECSSD/features/0191_resized.pth\n",
      "dict_keys(['k', 'indices', 'file', 'id', 'model_name', 'patch_size', 'shape'])\n",
      "0191_resized\n",
      "x0_arr <class 'numpy.ndarray'>\n",
      "x1_arr <class 'numpy.ndarray'>\n",
      "Starting Training\n",
      "epoch: 00, loss: -0.95682\n",
      "epoch: 01, loss: -0.98675\n",
      "epoch: 02, loss: -0.99073\n",
      "epoch: 03, loss: -0.99266\n",
      "epoch: 04, loss: -0.99382\n",
      "epoch: 05, loss: -0.99463\n",
      "epoch: 06, loss: -0.99520\n",
      "epoch: 07, loss: -0.99565\n",
      "epoch: 08, loss: -0.99601\n",
      "epoch: 09, loss: -0.99630\n",
      "torch.Size([1024, 384])\n"
     ]
    },
    {
     "name": "stderr",
     "output_type": "stream",
     "text": [
      " 19%|█▉        | 190/999 [1:21:09<9:32:11, 42.44s/it]"
     ]
    },
    {
     "name": "stdout",
     "output_type": "stream",
     "text": [
      "eigenvalues shape torch.Size([5]) eigenvectors shape torch.Size([5, 1024])\n",
      "190 /home/phdcs2/Hard_Disk/Datasets/Deep-Spectral-Segmentation/data/object-segmentation/ECSSD/features/0192_resized.pth\n",
      "dict_keys(['k', 'indices', 'file', 'id', 'model_name', 'patch_size', 'shape'])\n",
      "0192_resized\n",
      "x0_arr <class 'numpy.ndarray'>\n",
      "x1_arr <class 'numpy.ndarray'>\n",
      "Starting Training\n",
      "epoch: 00, loss: -0.99562\n",
      "epoch: 01, loss: -1.00000\n",
      "epoch: 02, loss: -1.00000\n",
      "epoch: 03, loss: -1.00000\n",
      "epoch: 04, loss: -1.00000\n",
      "epoch: 05, loss: -1.00000\n",
      "epoch: 06, loss: -1.00000\n",
      "epoch: 07, loss: -1.00000\n",
      "epoch: 08, loss: -1.00000\n",
      "epoch: 09, loss: -1.00000\n",
      "torch.Size([1024, 384])\n"
     ]
    },
    {
     "name": "stderr",
     "output_type": "stream",
     "text": [
      " 19%|█▉        | 191/999 [1:21:50<9:24:50, 41.94s/it]"
     ]
    },
    {
     "name": "stdout",
     "output_type": "stream",
     "text": [
      "eigenvalues shape torch.Size([5]) eigenvectors shape torch.Size([5, 1024])\n",
      "191 /home/phdcs2/Hard_Disk/Datasets/Deep-Spectral-Segmentation/data/object-segmentation/ECSSD/features/0193_resized.pth\n",
      "dict_keys(['k', 'indices', 'file', 'id', 'model_name', 'patch_size', 'shape'])\n",
      "0193_resized\n",
      "x0_arr <class 'numpy.ndarray'>\n",
      "x1_arr <class 'numpy.ndarray'>\n",
      "Starting Training\n"
     ]
    }
   ],
   "source": [
    "# pca_comp=64\n",
    "# pca = PCA(n_components=pca_comp)\n",
    "utils.make_output_dir(output_dir)\n",
    "inputs = list(enumerate(sorted(Path(features_dir).iterdir())))\n",
    "for inp in tqdm(inputs):\n",
    "    index, features_file = inp\n",
    "    print(index, features_file)\n",
    "     # Load\n",
    "    data_dict = torch.load(features_file, map_location='cpu')\n",
    "    print(data_dict.keys())   #['k', 'indices', 'file', 'id', 'model_name', 'patch_size', 'shape']\n",
    "    # print(\"shape=\", data_dict['shape'], \"k shape\", data_dict['k'].shape, \"patch_size=\", data_dict['patch_size'])\n",
    "    image_id = data_dict['file'][:-4]\n",
    "    print(image_id)\n",
    "    # Load\n",
    "    output_file = str(Path(output_dir) / f'{image_id}.pth')\n",
    "    if Path(output_file).is_file():\n",
    "        print(f'Skipping existing file {str(output_file)}')\n",
    "        # break\n",
    "        # return  # skip because already generated\n",
    "\n",
    "    # Load affinity matrix\n",
    "    feats = data_dict[which_features].squeeze().cuda()\n",
    "    # print(\"Without normalizing, Features Shape is\",feats.shape)\n",
    "    if normalize:\n",
    "        feats = F.normalize(feats, p=2, dim=-1)\n",
    "    # print(\"After normalization, Features Shape\",feats.shape)\n",
    "    # print(\"which_matrix=\", which_matrix)\n",
    "    # Eigenvectors of affinity matrix\n",
    "    if which_matrix == 'affinity_torch':\n",
    "        W = feats @ feats.T\n",
    "        # W_feat=contrastive_affinity(feats, feats.T)\n",
    "        # print(\"W shape=\", W.shape)\n",
    "        if threshold_at_zero:\n",
    "            W = (W * (W > 0))\n",
    "            # print(\"W shape=\", W.shape)\n",
    "        eigenvalues, eigenvectors = torch.eig(W, eigenvectors=True)\n",
    "        eigenvalues = eigenvalues.cpu()\n",
    "        eigenvectors = eigenvectors.cpu()\n",
    "        print(\"which matrix=\",which_matrix, \"eigenvalues shape\", eigenvalues.shape, \"eigenvectors shape\", eigenvectors.shape)\n",
    "\n",
    "\n",
    "    # Eigenvectors of affinity matrix with scipy\n",
    "    elif which_matrix == 'affinity_svd':\n",
    "        USV = torch.linalg.svd(feats, full_matrices=False)\n",
    "        eigenvectors = USV[0][:, :K].T.to('cpu', non_blocking=True)\n",
    "        eigenvalues = USV[1][:K].to('cpu', non_blocking=True)\n",
    "        print(\"which matrix=\",which_matrix,\"eigenvalues shape\", eigenvalues.shape, \"eigenvectors shape\", eigenvectors.shape)\n",
    "\n",
    "    # Eigenvectors of affinity matrix with scipy\n",
    "    elif which_matrix == 'affinity':\n",
    "        # print(\"Without normalizing, Features Shape is\",feats.shape)\n",
    "        W = (feats @ feats.T)\n",
    "        # W_feat=contrastive_affinity(feats, feats.T)\n",
    "        # print(\"W shape=\", W.shape)\n",
    "        if threshold_at_zero:\n",
    "            W = (W * (W > 0))\n",
    "        W = W.cpu().numpy()\n",
    "        # print(\"W shape=\", W.shape)\n",
    "        eigenvalues, eigenvectors = eigsh(W, which='LM', k=K)\n",
    "        eigenvectors = torch.flip(torch.from_numpy(eigenvectors), dims=(-1,)).T\n",
    "        print(\"which matrix=\",which_matrix, \"eigenvalues shape\", eigenvalues.shape, \"eigenvectors shape\", eigenvectors.shape)\n",
    "\n",
    "    # Eigenvectors of matting laplacian matrix\n",
    "    elif which_matrix in ['matting_laplacian', 'laplacian']:\n",
    "\n",
    "        # Get sizes\n",
    "        B, C, H, W, P, H_patch, W_patch, H_pad, W_pad = utils.get_image_sizes(data_dict)\n",
    "        if image_downsample_factor is None:\n",
    "            image_downsample_factor = P\n",
    "        H_pad_lr, W_pad_lr = H_pad // image_downsample_factor, W_pad // image_downsample_factor\n",
    "\n",
    "        # Upscale features to match the resolution\n",
    "        if (H_patch, W_patch) != (H_pad_lr, W_pad_lr):\n",
    "            feats = F.interpolate(\n",
    "                feats.T.reshape(1, -1, H_patch, W_patch),\n",
    "                size=(H_pad_lr, W_pad_lr), mode='bilinear', align_corners=False\n",
    "            ).reshape(-1, H_pad_lr * W_pad_lr).T\n",
    "\n",
    "        ### Feature affinities\n",
    "        # print(\"Without normalizing, Features Shape is\",feats.shape)\n",
    "\n",
    "        W_feat_ds = (feats @ feats.T)\n",
    "        # print(\"shape of w_feat_ds\", W_feat_ds.shape)\n",
    "        max_wfeatds=torch.max(W_feat_ds).item()\n",
    "        alpha=3\n",
    "        # print(\"Before Subtraction\")\n",
    "        count_positive = torch.count_nonzero(torch.greater_equal(W_feat_ds, 0.))\n",
    "        # print(\"positive values=\", count_positive)\n",
    "        W_feat_ds_sum = torch.sum(W_feat_ds)\n",
    "        # print(\"w_feat_ds_sum=\", W_feat_ds_sum)\n",
    "        W_feat_ds_mean = torch.mean(W_feat_ds)\n",
    "        # print(\"Mean of W_feat\", W_feat_ds_mean)\n",
    "        W_feat_ds_median = torch.median(W_feat_ds)\n",
    "        # print(\"Median of W_feat\", W_feat_ds_median)\n",
    "        W_feat_ds_std = torch.std(W_feat_ds)\n",
    "        # print(\"Standard Deviation of W_feat\", W_feat_ds_std)\n",
    "        W_feat_ds_max = torch.max(W_feat_ds)\n",
    "        # print(\"Maximum of W_feat\", W_feat_ds_max)\n",
    "        W_feat_ds_min = torch.min(W_feat_ds)\n",
    "        # print(\"Minimum of W_feat\", W_feat_ds_min)\n",
    "        # print(\"Factor value\", (max_wfeatds / alpha))\n",
    "\n",
    "        W_feat_ds = W_feat_ds - (max_wfeatds / alpha)\n",
    "\n",
    "        # print(\"After Subtraction\")\n",
    "        count_positive = torch.count_nonzero(torch.greater_equal(W_feat_ds, 0.))\n",
    "        # print(\"positive values=\", count_positive)\n",
    "        W_feat_ds_sum = torch.sum(W_feat_ds)\n",
    "        # print(\"w_feat_ds_sum=\", W_feat_ds_sum)\n",
    "        W_feat_ds_mean = torch.mean(W_feat_ds)\n",
    "        # print(\"Mean of W_feat\", W_feat_ds_mean)\n",
    "        W_feat_ds_median = torch.median(W_feat_ds)\n",
    "        # print(\"Median of W_feat\", W_feat_ds_median)\n",
    "        W_feat_ds_std = torch.std(W_feat_ds)\n",
    "        # print(\"Standard Deviation of W_feat\", W_feat_ds_std)\n",
    "        W_feat_ds_max = torch.max(W_feat_ds)\n",
    "        # print(\"Maximum of W_feat\", W_feat_ds_max)\n",
    "        W_feat_ds_min = torch.min(W_feat_ds)\n",
    "        # print(\"Minimum of W_feat\", W_feat_ds_min)\n",
    "        pca_comp=384\n",
    "        proj_layer=nn.Linear(pca_comp,pca_comp).cuda()\n",
    "        pred_layer=nn.Linear(pca_comp,pca_comp).cuda()\n",
    "        x0=feats\n",
    "\n",
    "        x0_arr=x0.cpu()\n",
    "        scale = np.random.uniform(0.8, 1.2)  # Random scaling factor between 0.8 and 1.2\n",
    "        translation = np.random.uniform(-10, 10, size=2)  # Random translation vector between -10 and 10 in both directions\n",
    "        rotation = np.random.uniform(-15, 15)  # Random rotation angle between -15 and 15 degrees\n",
    "        shear = np.random.uniform(-0.2, 0.2, size=2)  # Random shear factor between -0.2 and 0.2 in both directions\n",
    "\n",
    "        # Define the affine matrix\n",
    "        affine_matrix = np.array([[scale * np.cos(rotation), -shear[0] * scale * np.sin(rotation), translation[0]],\n",
    "                                  [shear[1] * scale * np.sin(rotation), scale * np.cos(rotation), translation[1]],\n",
    "                                  [0, 0, 1]])\n",
    "        # print(x0_arr.shape)\n",
    "        x0_arr=affine_transform(x0_arr, affine_matrix)\n",
    "        x1_arr=affine_transform(x0_arr, affine_matrix)\n",
    "\n",
    "        # z0_arr= pca.fit_transform(x0_arr)\n",
    "        # z1_arr= pca.fit_transform(x1_arr)\n",
    "        # Define the affine transformation parameters\n",
    "\n",
    "        # z1_arr=affine_transform(z0_arr, affine_matrix)\n",
    "# #         z1_arr=pca.fit_transform(z1_arr)\n",
    "#         z0 = torch.from_numpy(z0_arr).float()\n",
    "#         z1 = torch.from_numpy(z1_arr).float()\n",
    "\n",
    "        # x0_arr_new = torch.from_numpy(x0_arr).float()\n",
    "        # x1_arr_new = torch.from_numpy(x1_arr).float()\n",
    "\n",
    "        # x0_tensor = torch.from_numpy(x0_arr)\n",
    "        # x1_tensor = torch.from_numpy(x1_arr)\n",
    "\n",
    "        print(\"x0_arr\", type(x0_arr))\n",
    "        print(\"x1_arr\", type(x1_arr))\n",
    "        z0 = torch.from_numpy(x0_arr).float()\n",
    "        z1 = torch.from_numpy(x1_arr).float()\n",
    "        # feat_list.append(feats)\n",
    "        feat_dataset_z0 = Feature_Dataset(z0)\n",
    "        if feats.shape[0]%2==0:\n",
    "            features_dataloader_z0 = DataLoader(feat_dataset_z0, batch_size=batch_size, shuffle=True)\n",
    "        else:\n",
    "            features_dataloader_z0 = DataLoader(feat_dataset_z0, batch_size=batch_size, shuffle=True, drop_last=True)\n",
    "\n",
    "        feat_dataset_z1 = Feature_Dataset(z1)\n",
    "        if feats.shape[0]%2==0:\n",
    "            features_dataloader_z1 = DataLoader(feat_dataset_z1, batch_size=batch_size, shuffle=True)\n",
    "        else:\n",
    "            features_dataloader_z1 = DataLoader(feat_dataset_z1, batch_size=batch_size, shuffle=True, drop_last=True)\n",
    "        device = \"cuda\" if torch.cuda.is_available() else \"cpu\"\n",
    "    \n",
    "        criterion = NegativeCosineSimilarity()\n",
    "        proj_optimizer = torch.optim.SGD(proj_layer.parameters(), lr=0.06)\n",
    "        pred_optimizer = torch.optim.SGD(pred_layer.parameters(), lr=0.06)\n",
    "        print(\"Starting Training\")\n",
    "        for epoch in range(epochs):\n",
    "            total_loss = 0\n",
    "            for z0_new,z1_new in zip(features_dataloader_z0,features_dataloader_z1):\n",
    "                z0_new = z0_new.to(device)\n",
    "                z1_new = z1_new.to(device)\n",
    "                z0_new=proj_layer(z0_new)\n",
    "                z1_new=proj_layer(z1_new)\n",
    "    #             print(\"z0_new.shape\", z0_new.shape)\n",
    "    #             print(\"z1_new.shape\", z1_new.shape)\n",
    "                p0=pred_layer(z0_new)\n",
    "                p1=pred_layer(z1_new)\n",
    "    #             print(\"p0.shape\", p0.shape)\n",
    "    #             print(\"p1.shape\", p1.shape)\n",
    "\n",
    "                # z0_new=z0_new.detach()\n",
    "                # z1_new=z1_new.detach()\n",
    "                loss = 0.5 * (criterion(z0_new, p1) + criterion(z1_new, p0))\n",
    "                total_loss += loss.detach()\n",
    "                loss.backward()\n",
    "                proj_optimizer.step()\n",
    "                pred_optimizer.step()\n",
    "                proj_optimizer.zero_grad()\n",
    "                pred_optimizer.zero_grad()\n",
    "            avg_loss = total_loss / len(features_dataloader_z0)\n",
    "            print(f\"epoch: {epoch:>02}, loss: {avg_loss:.5f}\")\n",
    "        # z0_projected=proj_layer(z0.to(device))\n",
    "        projected_feature=pred_layer(z0.to(device))\n",
    "        print(projected_feature.shape)\n",
    "        W_feat_siam=torch.matmul(projected_feature, projected_feature.t())\n",
    "        # max_wfeatsiam=torch.max(W_feat_siam).item()\n",
    "        # alpha=3\n",
    "        # W_feat_siam = W_feat_siam - (max_wfeatsiam / alpha)\n",
    "        # W_feat_siam=torch.matmul(projected_feature[0], projected_feature[0].t())\n",
    "        W_feat=W_feat_ds + 0.1*W_feat_siam\n",
    "#         W_feat=normalize_affinity_matrix(W_feat_unnorm, axis=1)\n",
    "        # print(\"W_feat.shape=\", W_feat.shape)\n",
    "        # print(\"W_feat.shape=\", W_feat.shape)\n",
    "        # W_feat=contrastive_affinity(feats, feats.T)\n",
    "        if threshold_at_zero:\n",
    "            W_feat = (W_feat * (W_feat > 0))\n",
    "        W_feat = W_feat / W_feat.max()  # NOTE: If features are normalized, this naturally does nothing\n",
    "        # W_feat = W_feat.cpu().numpy()\n",
    "        W_feat = W_feat.detach().cpu().numpy()\n",
    "        # print(\"W_feat shape=\",W_feat.shape)\n",
    "\n",
    "        ### Color affinities\n",
    "        # If we are fusing with color affinites, then load the image and compute\n",
    "        if image_color_lambda > 0:\n",
    "\n",
    "            # Load image\n",
    "            image_file = str(Path(images_root) / f'{image_id}.jpg')\n",
    "            image_lr = Image.open(image_file).resize((W_pad_lr, H_pad_lr), Image.BILINEAR)\n",
    "            image_lr = np.array(image_lr) / 255.\n",
    "\n",
    "            # Color affinities (of type scipy.sparse.csr_matrix)\n",
    "            if which_color_matrix == 'knn':\n",
    "                W_lr = utils.knn_affinity(image_lr / 255)\n",
    "            elif which_color_matrix == 'rw':\n",
    "                W_lr = utils.rw_affinity(image_lr / 255)\n",
    "\n",
    "            # Convert to dense numpy array\n",
    "            W_color = np.array(W_lr.todense().astype(np.float32))\n",
    "            # print(\"W_color shape\", W_color.shape)\n",
    "\n",
    "        else:\n",
    "\n",
    "            # No color affinity\n",
    "            W_color = 0\n",
    "\n",
    "        # Combine\n",
    "        W_comb = W_feat + W_color * image_color_lambda  # combination\n",
    "        D_comb = np.array(utils.get_diagonal(W_comb).todense())  # is dense or sparse faster? not sure, should check\n",
    "        # print(\"W_comb shape= \", W_comb.shape, \"D_comb shape\",  D_comb.shape)\n",
    "        if lapnorm:\n",
    "            try:\n",
    "                eigenvalues, eigenvectors = eigsh(D_comb - W_comb, k=K, sigma=0, which='LM', M=D_comb)\n",
    "            except:\n",
    "                eigenvalues, eigenvectors = eigsh(D_comb - W_comb, k=K, which='SM', M=D_comb)\n",
    "        else:\n",
    "            try:\n",
    "                eigenvalues, eigenvectors = eigsh(D_comb - W_comb, k=K, sigma=0, which='LM')\n",
    "            except:\n",
    "                eigenvalues, eigenvectors = eigsh(D_comb - W_comb, k=K, which='SM')\n",
    "        eigenvalues, eigenvectors = torch.from_numpy(eigenvalues), torch.from_numpy(eigenvectors.T).float()\n",
    "    print(\"eigenvalues shape\", eigenvalues.shape, \"eigenvectors shape\", eigenvectors.shape)\n",
    "    # Sign ambiguity\n",
    "    for k in range(eigenvectors.shape[0]):\n",
    "        if 0.5 < torch.mean((eigenvectors[k] > 0).float()).item() < 1.0:  # reverse segment\n",
    "            eigenvectors[k] = 0 - eigenvectors[k]\n",
    "\n",
    "    # Save dict\n",
    "    output_dict = {'eigenvalues': eigenvalues, 'eigenvectors': eigenvectors}\n",
    "    torch.save(output_dict, output_file)"
   ]
  }
 ],
 "metadata": {
  "kernelspec": {
   "display_name": "Python 3 (ipykernel)",
   "language": "python",
   "name": "python3"
  },
  "language_info": {
   "codemirror_mode": {
    "name": "ipython",
    "version": 3
   },
   "file_extension": ".py",
   "mimetype": "text/x-python",
   "name": "python",
   "nbconvert_exporter": "python",
   "pygments_lexer": "ipython3",
   "version": "3.8.10"
  }
 },
 "nbformat": 4,
 "nbformat_minor": 1
}